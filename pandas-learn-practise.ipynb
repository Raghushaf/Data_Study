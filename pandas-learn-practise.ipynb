{
 "cells": [
  {
   "cell_type": "code",
   "execution_count": 1,
   "id": "47ce0c9c",
   "metadata": {
    "_cell_guid": "b1076dfc-b9ad-4769-8c92-a6c4dae69d19",
    "_uuid": "8f2839f25d086af736a60e9eeb907d3b93b6e0e5",
    "execution": {
     "iopub.execute_input": "2022-09-26T07:48:31.107270Z",
     "iopub.status.busy": "2022-09-26T07:48:31.106689Z",
     "iopub.status.idle": "2022-09-26T07:48:31.139657Z",
     "shell.execute_reply": "2022-09-26T07:48:31.138012Z"
    },
    "papermill": {
     "duration": 0.094907,
     "end_time": "2022-09-26T07:48:31.142991",
     "exception": false,
     "start_time": "2022-09-26T07:48:31.048084",
     "status": "completed"
    },
    "tags": []
   },
   "outputs": [
    {
     "name": "stdout",
     "output_type": "stream",
     "text": [
      "/kaggle/input/sales-data-practise/sales_data.csv\n",
      "/kaggle/input/nba-data/nba.csv\n"
     ]
    }
   ],
   "source": [
    "# This Python 3 environment comes with many helpful analytics libraries installed\n",
    "# It is defined by the kaggle/python Docker image: https://github.com/kaggle/docker-python\n",
    "# For example, here's several helpful packages to load\n",
    "\n",
    "import numpy as np # linear algebra\n",
    "import pandas as pd # data processing, CSV file I/O (e.g. pd.read_csv)\n",
    "\n",
    "# Input data files are available in the read-only \"../input/\" directory\n",
    "# For example, running this (by clicking run or pressing Shift+Enter) will list all files under the input directory\n",
    "\n",
    "import os\n",
    "for dirname, _, filenames in os.walk('/kaggle/input'):\n",
    "    for filename in filenames:\n",
    "        print(os.path.join(dirname, filename))\n",
    "\n",
    "# You can write up to 20GB to the current directory (/kaggle/working/) that gets preserved as output when you create a version using \"Save & Run All\" \n",
    "# You can also write temporary files to /kaggle/temp/, but they won't be saved outside of the current session"
   ]
  },
  {
   "cell_type": "markdown",
   "id": "817d35aa",
   "metadata": {
    "papermill": {
     "duration": 0.049375,
     "end_time": "2022-09-26T07:48:31.268696",
     "exception": false,
     "start_time": "2022-09-26T07:48:31.219321",
     "status": "completed"
    },
    "tags": []
   },
   "source": [
    "# Working with Pandas Library:\n",
    "- Pandas is an open-source library that uses for working with relational or labeled data both easily and intuitively. It provides various data structures and operations for manipulating numerical data and time series. It offers a tool for cleaning and processes your data. It is the most popular Python library that is used for data analysis. In this article, We are going to learn about Pandas Data structure.\n",
    "\n",
    "\n",
    "\n",
    "\n",
    "<img src=\"https://www.w3resource.com/w3r_images/pandas-data-structure.svg\" alt=\"Pandas Data structure\" style=\"max-width:100%;display:block;height:auto;border: 2px solid silver;\"><br>\n",
    "\n",
    "<p><strong>Create Test Objects</strong></p>\n",
    "<div class=\"table-responsive\">\n",
    "<table class=\"table table-bordered\">\n",
    "<tbody><tr>\n",
    "<td>pd.DataFrame(np.random.rand(20,5))</td>\n",
    "<td>5 columns and 20 rows of random floats</td>\n",
    "</tr>\n",
    "<tr>\n",
    "<td>pd.Series(my_list)</td>\n",
    "<td>Create a series from an iterable my_list</td>\n",
    "</tr>\n",
    "<tr>\n",
    "<td>df.index = pd.date_range('1900/1/30', periods=df.shape[0])</td>\n",
    "<td>Add a date index</td>\n",
    "</tr>\n",
    "</tbody></table></div>\n",
    "<p><strong>Viewing/Inspecting Data</strong></p>\n",
    "<div class=\"table-responsive\">\n",
    "<table class=\"table table-bordered\">\n",
    "<tbody><tr>\n",
    "<td>df.head(n)</td>\n",
    "<td>First n rows of the DataFrame</td>\n",
    "</tr>\n",
    "<tr>\n",
    "<td>df.tail(n)</td>\n",
    "<td> Last n rows of the DataFrame</td>\n",
    "</tr>\n",
    "<tr>\n",
    "<td>df.shape</td>\n",
    "<td> Number of rows and columns</td>\n",
    "</tr>\n",
    "<tr>\n",
    "<td>df.info()</td>\n",
    "<td>Index, Datatype and Memory information</td>\n",
    "</tr>\n",
    "<tr>\n",
    "<td>df.describe()</td>\n",
    "<td>Summary statistics for numerical columns</td>\n",
    "</tr>\n",
    "<tr>\n",
    "<td>s.value_counts(dropna=False)</td>\n",
    "<td>View unique values and counts</td>\n",
    "</tr>\n",
    "<tr>\n",
    "<td>df.apply(pd.Series.value_counts)</td>\n",
    "<td>Unique values and counts for all columns</td>\n",
    "</tr>\n",
    "</tbody></table></div>\n",
    "<p><strong>Selection</strong></p>\n",
    "<div class=\"table-responsive\">\n",
    "<table class=\"table table-bordered\">\n",
    "<tbody><tr>\n",
    "<td>df[col]</td>\n",
    "<td>Returns column with label col as Series</td>\n",
    "</tr>\n",
    "<tr>\n",
    "<td>df[[col1, col2]]</td>\n",
    "<td>Returns columns as a new DataFrame</td>\n",
    "</tr>\n",
    "<tr>\n",
    "<td>s.iloc[0]</td>\n",
    "<td>Selection by position</td>\n",
    "</tr>\n",
    "<tr>\n",
    "<td>s.loc['index_one']</td>\n",
    "<td>Selection by index</td>\n",
    "</tr>\n",
    "<tr>\n",
    "<td>df.iloc[0,:]</td>\n",
    "<td>First row</td>\n",
    "</tr>\n",
    "<tr>\n",
    "<td>df.iloc[0,0]</td>\n",
    "<td>First element of first column</td>\n",
    "</tr>\n",
    "</tbody></table></div>\n",
    "<p><strong>Data Cleaning</strong></p>\n",
    "<div class=\"table-responsive\">\n",
    "<table class=\"table table-bordered\">\n",
    "<tbody><tr>\n",
    "<td>df.columns = ['a','b','c']</td>\n",
    "<td>Rename columns</td>\n",
    "</tr>\n",
    "<tr>\n",
    "<td>pd.isnull()</td>\n",
    "<td> Checks for null Values, Returns Boolean Arrray</td>\n",
    "</tr>\n",
    "<tr>\n",
    "<td>pd.notnull()</td>\n",
    "<td>Opposite of pd.isnull()</td>\n",
    "</tr>\n",
    "<tr>\n",
    "<td>df.dropna()</td>\n",
    "<td>Drop all rows that contain null values</td>\n",
    "</tr>\n",
    "<tr>\n",
    "<td>df.dropna(axis=1)</td>\n",
    "<td>Drop all columns that contain null values</td>\n",
    "</tr>\n",
    "<tr>\n",
    "<td>df.dropna(axis=1,thresh=n)</td>\n",
    "<td>Drop all rows have have less than n non null values</td>\n",
    "</tr>\n",
    "<tr>\n",
    "<td>df.fillna(x)</td>\n",
    "<td>Replace all null values with x</td>\n",
    "</tr>\n",
    "<tr>\n",
    "<td>s.fillna(s.mean())</td>\n",
    "<td>Replace all null values with the mean</td>\n",
    "</tr>\n",
    "<tr>\n",
    "<td>s.astype(float)</td>\n",
    "<td>Convert the datatype of the series to float</td>\n",
    "</tr>\n",
    "<tr>\n",
    "<td>s.replace(1,'one')</td>\n",
    "<td>Replace all values equal to 1 with 'one'</td>\n",
    "</tr>\n",
    "<tr>\n",
    "<td>s.replace([2,3],['two', 'three'])</td>\n",
    "<td>Replace all 2 with 'two' and 3 with 'three'</td>\n",
    "</tr>\n",
    "<tr>\n",
    "<td>df.rename(columns=lambda x: x + 1)</td>\n",
    "<td>Mass renaming of columns</td>\n",
    "</tr>\n",
    "<tr>\n",
    "<td>df.rename(columns={'old_name': 'new_ name'})</td>\n",
    "<td>Selective renaming</td>\n",
    "</tr>\n",
    "<tr>\n",
    "<td>df.set_index('column_one')</td>\n",
    "<td>Change the index</td>\n",
    "</tr>\n",
    "<tr>\n",
    "<td>df.rename(index=lambda x: x + 1)</td>\n",
    "<td>Mass renaming of index</td>\n",
    "</tr>\n",
    "</tbody></table></div>\n",
    "<p><strong>Filter, Sort, and Groupby</strong></p>\n",
    "<div class=\"table-responsive\">\n",
    "<table class=\"table table-bordered\">\n",
    "<tbody><tr>\n",
    "<td>df[df[col] &gt; 0.6]</td>\n",
    "<td>Rows where the column col is greater than 0.6</td>\n",
    "</tr>\n",
    "<tr>\n",
    "<td>df[(df[col] &gt; 0.6) &amp; (df[col] &lt; 0.8)]</td>\n",
    "<td> Rows where 0.8 &gt; col &gt; 0.6</td>\n",
    "</tr>\n",
    "<tr>\n",
    "<td>df.sort_values(col1)</td>\n",
    "<td> Sort values by col1 in ascending order</td>\n",
    "</tr>\n",
    "<tr>\n",
    "<td>df.sort_values(col2,ascending=False)</td>\n",
    "<td> Sort values by col2 in descending order.5</td>\n",
    "</tr>\n",
    "<tr>\n",
    "<td>df.sort_values([col1,col2],ascending=[True,False]) </td>\n",
    "<td> Sort values by col1 in ascending order then col2 in descending order</td>\n",
    "</tr>\n",
    "<tr>\n",
    "<td>df.groupby(col)</td>\n",
    "<td>Returns a groupby object for values from one column</td>\n",
    "</tr>\n",
    "<tr>\n",
    "<td>df.groupby([col1,col2])</td>\n",
    "<td>Returns groupby object for values from multiple columns</td>\n",
    "</tr>\n",
    "<tr>\n",
    "<td>df.groupby(col1)[col2]</td>\n",
    "<td>Returns the mean of the values in col2, grouped by the values in col1</td>\n",
    "</tr>\n",
    "<tr>\n",
    "<td>df.pivot_table(index=col1,values=[col2,col3],aggfunc=mean)</td>\n",
    "<td>Create a pivot table that groups by col1 and calculates the mean of col2 and col3</td>\n",
    "</tr>\n",
    "<tr>\n",
    "<td>df.groupby(col1).agg(np.mean)</td>\n",
    "<td>Find the average across all columns for every unique col1 group</td>\n",
    "</tr>\n",
    "<tr>\n",
    "<td>df.apply(np.mean)</td>\n",
    "<td>Apply the function np.mean() across each column</td>\n",
    "</tr>\n",
    "<tr>\n",
    "<td>nf.apply(np.max,axis=1)</td>\n",
    "<td>Apply the function np.max() across each row</td>\n",
    "</tr>\n",
    "</tbody></table></div>\n",
    "<p><strong>Join/Combine</strong></p>\n",
    "<div class=\"table-responsive\">\n",
    "<table class=\"table table-bordered\">\n",
    "<tbody><tr>\n",
    "<td>df1.append(df2)</td>\n",
    "<td>Add the rows in df1 to the end of df2 (columns should be identical)</td>\n",
    "</tr>\n",
    "<tr>\n",
    "<td>pd.concat([df1, df2],axis=1)</td>\n",
    "<td>Add the columns in df1 to the end of df2 (rows should be identical)</td>\n",
    "</tr>\n",
    "<tr>\n",
    "<td>df1.join(df2,on=col1, how='inner')</td>\n",
    "<td>SQL-style join the columns in df1 with the columns on df2 where the rows for col have identical values. The 'how' can be 'left', 'right', 'outer' or 'inner'</td>\n",
    "</tr>\n",
    "</tbody></table></div>\n",
    "<p><strong>Statistics</strong></p>\n",
    "<div class=\"table-responsive\">\n",
    "<table class=\"table table-bordered\">\n",
    "<tbody><tr>\n",
    "<td>df.describe()</td>\n",
    "<td>Summary statistics for numerical columns</td>\n",
    "</tr>\n",
    "<tr>\n",
    "<td>df.mean()</td>\n",
    "<td>Returns the mean of all columns</td>\n",
    "</tr>\n",
    "<tr>\n",
    "<td>df.corr()</td>\n",
    "<td>Returns the correlation between columns in a DataFrame</td>\n",
    "</tr>\n",
    "<tr>\n",
    "<td>df.count()</td>\n",
    "<td>Returns the number of non-null values in each DataFrame column</td>\n",
    "</tr>\n",
    "<tr>\n",
    "<td>df.max()</td>\n",
    "<td>Returns the highest value in each column</td>\n",
    "</tr>\n",
    "<tr>\n",
    "<td>df.min()</td>\n",
    "<td>Returns the lowest value in each column</td>\n",
    "</tr>\n",
    "<tr>\n",
    "<td>df.median()</td>\n",
    "<td>Returns the median of each column</td>\n",
    "</tr>\n",
    "<tr>\n",
    "<td>df.std()</td>\n",
    "<td>Returns the standard deviation of each column</td>\n",
    "</tr>\n",
    "</tbody></table></div>\n",
    "<p><strong>Importing Data</strong></p>\n",
    "<div class=\"table-responsive\">\n",
    "<table class=\"table table-bordered\">\n",
    "<tbody><tr>\n",
    "<td>pd.read_csv(filename)</td>\n",
    "<td>From a CSV file</td>\n",
    "</tr>\n",
    "<tr>\n",
    "<td>pd.read_table(filename)</td>\n",
    "<td>From a delimited text file (like TSV)</td>\n",
    "</tr>\n",
    "<tr>\n",
    "<td>pd.read_excel(filename)</td>\n",
    "<td>From an Excel file</td>\n",
    "</tr>\n",
    "<tr>\n",
    "<td>pd.read_sql(query, connection_object)</td>\n",
    "<td>Read from a SQL table/database</td>\n",
    "</tr>\n",
    "<tr>\n",
    "<td>pd.read_json(json_string)</td>\n",
    "<td>Read from a JSON formatted string, URL or file.</td>\n",
    "</tr>\n",
    "<tr>\n",
    "<td>pd.read_html(url)</td>\n",
    "<td> Parses an html URL, string or file and extracts tables to a list of dataframes</td>\n",
    "</tr>\n",
    "<tr>\n",
    "<td>pd.read_clipboard() </td>\n",
    "<td>Takes the contents of your clipboard and passes it to read_table()</td>\n",
    "</tr>\n",
    "<tr>\n",
    "<td>pd.DataFrame(dict)</td>\n",
    "<td>From a dict, keys for columns names, values for data as lists</td>\n",
    "</tr>\n",
    "</tbody></table></div>\n",
    "<p><strong>Exporting Data</strong></p>\n",
    "<div class=\"table-responsive\">\n",
    "<table class=\"table table-bordered\">\n",
    "<tbody><tr>\n",
    "<td>df.to_csv(filename)</td>\n",
    "<td>Write to a CSV file</td>\n",
    "</tr>\n",
    "<tr>\n",
    "<td>df.to_excel(filename)</td>\n",
    "<td>Write to an Excel file</td>\n",
    "</tr>\n",
    "<tr>\n",
    "<td>df.to_sql(table_name, connection_object)</td>\n",
    "<td>Write to a SQL table</td>\n",
    "</tr>\n",
    "<tr>\n",
    "<td>df.to_json(filename)</td>\n",
    "<td>Write to a file in JSON format</td>\n",
    "</tr>\n",
    "</tbody></table>\n",
    "</div>\n",
    "    \n",
    "- It supports three data structures:\n",
    "\n",
    "    1. **Series**\n",
    "    2. **Dataframe**\n",
    "    3. **Panel**\n",
    "    \n",
    "## 1. pandas.series(): \n",
    "- Pandas Series is a one-dimensional labeled array capable of holding data of any type (integer, string, float, python objects, etc.). The axis labels are collectively called index. Pandas Series is nothing but a column in an excel sheet.\n",
    "- Labels need not be unique but must be a hashable type. The object supports both integer and label-based indexing and provides a host of methods for performing operations involving the index.\n",
    "- **Syntax** <H4>class pandas.Series(data=None, index=None, dtype=None, name=None, copy=False, fastpath=False)</H4>"
   ]
  },
  {
   "cell_type": "code",
   "execution_count": 2,
   "id": "ed229be1",
   "metadata": {
    "execution": {
     "iopub.execute_input": "2022-09-26T07:48:31.397905Z",
     "iopub.status.busy": "2022-09-26T07:48:31.396882Z",
     "iopub.status.idle": "2022-09-26T07:48:31.411210Z",
     "shell.execute_reply": "2022-09-26T07:48:31.409518Z"
    },
    "papermill": {
     "duration": 0.100137,
     "end_time": "2022-09-26T07:48:31.413307",
     "exception": false,
     "start_time": "2022-09-26T07:48:31.313170",
     "status": "completed"
    },
    "tags": []
   },
   "outputs": [
    {
     "name": "stdout",
     "output_type": "stream",
     "text": [
      "Series:\n",
      "\n",
      " 0     Bhawan\n",
      "1      Singh\n",
      "2    Solanki\n",
      "dtype: object \n",
      "\n",
      "Type of Series:  <class 'pandas.core.series.Series'> \n",
      "\n",
      "Data type of Series:  object\n",
      "Dimension of series:  1\n"
     ]
    }
   ],
   "source": [
    "#Creating Series by using arrray: \n",
    "\n",
    "data=np.array([\"Bhawan\",\"Singh\",\"Solanki\"])\n",
    "\n",
    "s=pd.Series(data)\n",
    "\n",
    "print(\"Series:\\n\\n\",s,\"\\n\\nType of Series: \",type(s),\"\\n\\nData type of Series: \",s.dtype)\n",
    "print(\"Dimension of series: \",s.ndim)"
   ]
  },
  {
   "cell_type": "code",
   "execution_count": 3,
   "id": "602f1fb2",
   "metadata": {
    "execution": {
     "iopub.execute_input": "2022-09-26T07:48:31.504951Z",
     "iopub.status.busy": "2022-09-26T07:48:31.504613Z",
     "iopub.status.idle": "2022-09-26T07:48:31.513455Z",
     "shell.execute_reply": "2022-09-26T07:48:31.512531Z"
    },
    "papermill": {
     "duration": 0.057634,
     "end_time": "2022-09-26T07:48:31.516136",
     "exception": false,
     "start_time": "2022-09-26T07:48:31.458502",
     "status": "completed"
    },
    "tags": []
   },
   "outputs": [
    {
     "name": "stdout",
     "output_type": "stream",
     "text": [
      "Series:\n",
      "\n",
      " First Name      Bhawan\n",
      "Middle Name      Singh\n",
      "Last Name      Solanki\n",
      "dtype: object \n",
      "\n",
      "Type of Series:  <class 'pandas.core.series.Series'> \n",
      "Data type of Series:  object\n",
      "Dimension of series:  1\n"
     ]
    }
   ],
   "source": [
    "# Giving the index to the Series data\n",
    "\n",
    "data=np.array([\"Bhawan\",\"Singh\",\"Solanki\"])\n",
    "\n",
    "s1=pd.Series(data,index=[\"First Name\",\"Middle Name\",\"Last Name\"])\n",
    "\n",
    "print(\"Series:\\n\\n\",s1,\"\\n\\nType of Series: \",type(s1),\"\\nData type of Series: \",s1.dtype)\n",
    "print(\"Dimension of series: \",s1.ndim)"
   ]
  },
  {
   "cell_type": "code",
   "execution_count": 4,
   "id": "62083e57",
   "metadata": {
    "execution": {
     "iopub.execute_input": "2022-09-26T07:48:31.609187Z",
     "iopub.status.busy": "2022-09-26T07:48:31.608274Z",
     "iopub.status.idle": "2022-09-26T07:48:31.615756Z",
     "shell.execute_reply": "2022-09-26T07:48:31.614781Z"
    },
    "papermill": {
     "duration": 0.056557,
     "end_time": "2022-09-26T07:48:31.618283",
     "exception": false,
     "start_time": "2022-09-26T07:48:31.561726",
     "status": "completed"
    },
    "tags": []
   },
   "outputs": [
    {
     "name": "stdout",
     "output_type": "stream",
     "text": [
      "Series:\n",
      "\n",
      " 0          1\n",
      "1          2\n",
      "2          3\n",
      "3          4\n",
      "4          5\n",
      "5          5\n",
      "6          6\n",
      "7          4\n",
      "8          3\n",
      "9          5\n",
      "10         5\n",
      "11       5.4\n",
      "12       3.2\n",
      "13    bhawan\n",
      "14     singh\n",
      "dtype: object \n",
      "\n",
      "Type of Series:  <class 'pandas.core.series.Series'> \n",
      "Data type of Series:  object\n",
      "Dimension of series:  1\n"
     ]
    }
   ],
   "source": [
    "# Giving List data to Series\n",
    "\n",
    "list1=[1,2,3,4,5,5,6,4,3,5,5,5.4,3.2,\"bhawan\",\"singh\"]\n",
    "s2=pd.Series(list1)\n",
    "print(\"Series:\\n\\n\",s2,\"\\n\\nType of Series: \",type(s2),\"\\nData type of Series: \",s2.dtype)\n",
    "print(\"Dimension of series: \",s2.ndim)"
   ]
  },
  {
   "cell_type": "code",
   "execution_count": 5,
   "id": "a1d5f4d7",
   "metadata": {
    "execution": {
     "iopub.execute_input": "2022-09-26T07:48:31.711264Z",
     "iopub.status.busy": "2022-09-26T07:48:31.710925Z",
     "iopub.status.idle": "2022-09-26T07:48:31.716884Z",
     "shell.execute_reply": "2022-09-26T07:48:31.715977Z"
    },
    "papermill": {
     "duration": 0.056518,
     "end_time": "2022-09-26T07:48:31.721071",
     "exception": false,
     "start_time": "2022-09-26T07:48:31.664553",
     "status": "completed"
    },
    "tags": []
   },
   "outputs": [
    {
     "name": "stdout",
     "output_type": "stream",
     "text": [
      "Series([], dtype: float64)\n"
     ]
    },
    {
     "name": "stderr",
     "output_type": "stream",
     "text": [
      "/opt/conda/lib/python3.7/site-packages/ipykernel_launcher.py:3: DeprecationWarning: The default dtype for empty Series will be 'object' instead of 'float64' in a future version. Specify a dtype explicitly to silence this warning.\n",
      "  This is separate from the ipykernel package so we can avoid doing imports until\n"
     ]
    }
   ],
   "source": [
    "# Creating empty Series:\n",
    "\n",
    "empty_s=pd.Series([])\n",
    "print(empty_s)"
   ]
  },
  {
   "cell_type": "code",
   "execution_count": 6,
   "id": "92c2abdc",
   "metadata": {
    "execution": {
     "iopub.execute_input": "2022-09-26T07:48:31.812833Z",
     "iopub.status.busy": "2022-09-26T07:48:31.812461Z",
     "iopub.status.idle": "2022-09-26T07:48:31.819714Z",
     "shell.execute_reply": "2022-09-26T07:48:31.818551Z"
    },
    "papermill": {
     "duration": 0.056399,
     "end_time": "2022-09-26T07:48:31.822711",
     "exception": false,
     "start_time": "2022-09-26T07:48:31.766312",
     "status": "completed"
    },
    "tags": []
   },
   "outputs": [
    {
     "name": "stdout",
     "output_type": "stream",
     "text": [
      "0     1.0\n",
      "1     2.0\n",
      "2     3.0\n",
      "3     4.0\n",
      "4     5.0\n",
      "5     5.0\n",
      "6     6.0\n",
      "7     4.0\n",
      "8     3.0\n",
      "9     5.0\n",
      "10    5.0\n",
      "11    5.4\n",
      "12    3.2\n",
      "Name: Series_s2, dtype: float64\n"
     ]
    }
   ],
   "source": [
    "# GIving name& data type to series:\n",
    "\n",
    "list1=[1,2,3,4,5,5,6,4,3,5,5,5.4,3.2]\n",
    "s2=pd.Series(list1,dtype=float,name=\"Series_s2\")\n",
    "print(s2)"
   ]
  },
  {
   "cell_type": "code",
   "execution_count": 7,
   "id": "8e1cb9f1",
   "metadata": {
    "execution": {
     "iopub.execute_input": "2022-09-26T07:48:31.914827Z",
     "iopub.status.busy": "2022-09-26T07:48:31.914446Z",
     "iopub.status.idle": "2022-09-26T07:48:31.922263Z",
     "shell.execute_reply": "2022-09-26T07:48:31.921312Z"
    },
    "papermill": {
     "duration": 0.056173,
     "end_time": "2022-09-26T07:48:31.924924",
     "exception": false,
     "start_time": "2022-09-26T07:48:31.868751",
     "status": "completed"
    },
    "tags": []
   },
   "outputs": [
    {
     "name": "stdout",
     "output_type": "stream",
     "text": [
      "0    4.5\n",
      "dtype: float64\n",
      "\n",
      "Multiple Scaler value series:\n",
      " 1    4.5\n",
      "2    4.5\n",
      "3    4.5\n",
      "4    4.5\n",
      "5    4.5\n",
      "6    4.5\n",
      "dtype: float64\n"
     ]
    }
   ],
   "source": [
    "#Creating Series with Scalar value:\n",
    "Scalar_s=pd.Series(4.5)\n",
    "print(Scalar_s)\n",
    "\n",
    "Scalar_s=pd.Series(4.5,index=[1,2,3,4,5,6])\n",
    "print(\"\\nMultiple Scaler value series:\\n\",Scalar_s)"
   ]
  },
  {
   "cell_type": "code",
   "execution_count": 8,
   "id": "60e77152",
   "metadata": {
    "execution": {
     "iopub.execute_input": "2022-09-26T07:48:32.019339Z",
     "iopub.status.busy": "2022-09-26T07:48:32.018955Z",
     "iopub.status.idle": "2022-09-26T07:48:32.026714Z",
     "shell.execute_reply": "2022-09-26T07:48:32.025789Z"
    },
    "papermill": {
     "duration": 0.059415,
     "end_time": "2022-09-26T07:48:32.029327",
     "exception": false,
     "start_time": "2022-09-26T07:48:31.969912",
     "status": "completed"
    },
    "tags": []
   },
   "outputs": [
    {
     "name": "stdout",
     "output_type": "stream",
     "text": [
      "\n",
      "Creating Series with Dictionnary:\n",
      " 1    [Bhawan, test]\n",
      "2             Singh\n",
      "3           Solanki\n",
      "dtype: object\n"
     ]
    }
   ],
   "source": [
    "#Creating Series with Dictionary:\n",
    "\n",
    "dict_series=pd.Series({1:[\"Bhawan\",\"test\"],2:\"Singh\",3:\"Solanki\"})\n",
    "print(\"\\nCreating Series with Dictionnary:\\n\",dict_series)\n"
   ]
  },
  {
   "cell_type": "markdown",
   "id": "be32a6dc",
   "metadata": {
    "papermill": {
     "duration": 0.04429,
     "end_time": "2022-09-26T07:48:32.118748",
     "exception": false,
     "start_time": "2022-09-26T07:48:32.074458",
     "status": "completed"
    },
    "tags": []
   },
   "source": [
    "### MultiIndex Index Series:"
   ]
  },
  {
   "cell_type": "code",
   "execution_count": 9,
   "id": "f820b511",
   "metadata": {
    "execution": {
     "iopub.execute_input": "2022-09-26T07:48:32.211301Z",
     "iopub.status.busy": "2022-09-26T07:48:32.210949Z",
     "iopub.status.idle": "2022-09-26T07:48:32.232676Z",
     "shell.execute_reply": "2022-09-26T07:48:32.231764Z"
    },
    "papermill": {
     "duration": 0.070114,
     "end_time": "2022-09-26T07:48:32.234989",
     "exception": false,
     "start_time": "2022-09-26T07:48:32.164875",
     "status": "completed"
    },
    "tags": []
   },
   "outputs": [
    {
     "data": {
      "text/plain": [
       "0  a    0\n",
       "   b    1\n",
       "   c    2\n",
       "1  a    3\n",
       "   b    4\n",
       "   c    5\n",
       "dtype: int64"
      ]
     },
     "execution_count": 9,
     "metadata": {},
     "output_type": "execute_result"
    }
   ],
   "source": [
    "s_mi = pd.Series(np.arange(6),\n",
    "   .....:                  index=pd.MultiIndex.from_product([[0, 1], ['a', 'b', 'c']]))\n",
    "   .....: \n",
    "        \n",
    "s_mi"
   ]
  },
  {
   "cell_type": "code",
   "execution_count": 10,
   "id": "297f2cc5",
   "metadata": {
    "execution": {
     "iopub.execute_input": "2022-09-26T07:48:32.328568Z",
     "iopub.status.busy": "2022-09-26T07:48:32.327943Z",
     "iopub.status.idle": "2022-09-26T07:48:32.334033Z",
     "shell.execute_reply": "2022-09-26T07:48:32.333161Z"
    },
    "papermill": {
     "duration": 0.05437,
     "end_time": "2022-09-26T07:48:32.336022",
     "exception": false,
     "start_time": "2022-09-26T07:48:32.281652",
     "status": "completed"
    },
    "tags": []
   },
   "outputs": [
    {
     "data": {
      "text/plain": [
       "pandas.core.series.Series"
      ]
     },
     "execution_count": 10,
     "metadata": {},
     "output_type": "execute_result"
    }
   ],
   "source": [
    "type(s_mi)"
   ]
  },
  {
   "cell_type": "code",
   "execution_count": 11,
   "id": "e97559b3",
   "metadata": {
    "execution": {
     "iopub.execute_input": "2022-09-26T07:48:32.428584Z",
     "iopub.status.busy": "2022-09-26T07:48:32.427847Z",
     "iopub.status.idle": "2022-09-26T07:48:32.433963Z",
     "shell.execute_reply": "2022-09-26T07:48:32.433059Z"
    },
    "papermill": {
     "duration": 0.05438,
     "end_time": "2022-09-26T07:48:32.435942",
     "exception": false,
     "start_time": "2022-09-26T07:48:32.381562",
     "status": "completed"
    },
    "tags": []
   },
   "outputs": [
    {
     "data": {
      "text/plain": [
       "dtype('int64')"
      ]
     },
     "execution_count": 11,
     "metadata": {},
     "output_type": "execute_result"
    }
   ],
   "source": [
    "s_mi.dtype"
   ]
  },
  {
   "cell_type": "markdown",
   "id": "ba086b0f",
   "metadata": {
    "papermill": {
     "duration": 0.044939,
     "end_time": "2022-09-26T07:48:32.526330",
     "exception": false,
     "start_time": "2022-09-26T07:48:32.481391",
     "status": "completed"
    },
    "tags": []
   },
   "source": [
    "#### Atributes of Series\n",
    "***\n",
    "\n",
    "\n",
    "<dd>\n",
    "<table class=\"autosummary longtable table autosummary\">\n",
    "<colgroup>\n",
    "<col style=\"width: 10%\">\n",
    "<col style=\"width: 90%\">\n",
    "</colgroup>\n",
    "<tbody>\n",
    "<tr class=\"row-odd\"><td><p><a class=\"reference internal\" href=\"pandas.Series.T.html#pandas.Series.T\" title=\"pandas.Series.T\"><code class=\"xref py py-obj docutils literal notranslate\"><span class=\"pre\">T</span></code></a></p></td>\n",
    "<td><p>Return the transpose, which is by definition self.</p></td>\n",
    "</tr>\n",
    "<tr class=\"row-even\"><td><p><a class=\"reference internal\" href=\"pandas.Series.array.html#pandas.Series.array\" title=\"pandas.Series.array\"><code class=\"xref py py-obj docutils literal notranslate\"><span class=\"pre\">array</span></code></a></p></td>\n",
    "<td><p>The ExtensionArray of the data backing this Series or Index.</p></td>\n",
    "</tr>\n",
    "<tr class=\"row-odd\"><td><p><a class=\"reference internal\" href=\"pandas.Series.at.html#pandas.Series.at\" title=\"pandas.Series.at\"><code class=\"xref py py-obj docutils literal notranslate\"><span class=\"pre\">at</span></code></a></p></td>\n",
    "<td><p>Access a single value for a row/column label pair.</p></td>\n",
    "</tr>\n",
    "<tr class=\"row-even\"><td><p><a class=\"reference internal\" href=\"pandas.Series.attrs.html#pandas.Series.attrs\" title=\"pandas.Series.attrs\"><code class=\"xref py py-obj docutils literal notranslate\"><span class=\"pre\">attrs</span></code></a></p></td>\n",
    "<td><p>Dictionary of global attributes of this dataset.</p></td>\n",
    "</tr>\n",
    "<tr class=\"row-odd\"><td><p><a class=\"reference internal\" href=\"pandas.Series.axes.html#pandas.Series.axes\" title=\"pandas.Series.axes\"><code class=\"xref py py-obj docutils literal notranslate\"><span class=\"pre\">axes</span></code></a></p></td>\n",
    "<td><p>Return a list of the row axis labels.</p></td>\n",
    "</tr>\n",
    "<tr class=\"row-even\"><td><p><a class=\"reference internal\" href=\"pandas.Series.dtype.html#pandas.Series.dtype\" title=\"pandas.Series.dtype\"><code class=\"xref py py-obj docutils literal notranslate\"><span class=\"pre\">dtype</span></code></a></p></td>\n",
    "<td><p>Return the dtype object of the underlying data.</p></td>\n",
    "</tr>\n",
    "<tr class=\"row-odd\"><td><p><a class=\"reference internal\" href=\"pandas.Series.dtypes.html#pandas.Series.dtypes\" title=\"pandas.Series.dtypes\"><code class=\"xref py py-obj docutils literal notranslate\"><span class=\"pre\">dtypes</span></code></a></p></td>\n",
    "<td><p>Return the dtype object of the underlying data.</p></td>\n",
    "</tr>\n",
    "<tr class=\"row-even\"><td><p><a class=\"reference internal\" href=\"pandas.Series.flags.html#pandas.Series.flags\" title=\"pandas.Series.flags\"><code class=\"xref py py-obj docutils literal notranslate\"><span class=\"pre\">flags</span></code></a></p></td>\n",
    "<td><p>Get the properties associated with this pandas object.</p></td>\n",
    "</tr>\n",
    "<tr class=\"row-odd\"><td><p><a class=\"reference internal\" href=\"pandas.Series.hasnans.html#pandas.Series.hasnans\" title=\"pandas.Series.hasnans\"><code class=\"xref py py-obj docutils literal notranslate\"><span class=\"pre\">hasnans</span></code></a></p></td>\n",
    "<td><p>Return True if there are any NaNs.</p></td>\n",
    "</tr>\n",
    "<tr class=\"row-even\"><td><p><a class=\"reference internal\" href=\"pandas.Series.iat.html#pandas.Series.iat\" title=\"pandas.Series.iat\"><code class=\"xref py py-obj docutils literal notranslate\"><span class=\"pre\">iat</span></code></a></p></td>\n",
    "<td><p>Access a single value for a row/column pair by integer position.</p></td>\n",
    "</tr>\n",
    "<tr class=\"row-odd\"><td><p><a class=\"reference internal\" href=\"pandas.Series.iloc.html#pandas.Series.iloc\" title=\"pandas.Series.iloc\"><code class=\"xref py py-obj docutils literal notranslate\"><span class=\"pre\">iloc</span></code></a></p></td>\n",
    "<td><p>Purely integer-location based indexing for selection by position.</p></td>\n",
    "</tr>\n",
    "<tr class=\"row-even\"><td><p><a class=\"reference internal\" href=\"pandas.Series.index.html#pandas.Series.index\" title=\"pandas.Series.index\"><code class=\"xref py py-obj docutils literal notranslate\"><span class=\"pre\">index</span></code></a></p></td>\n",
    "<td><p>The index (axis labels) of the Series.</p></td>\n",
    "</tr>\n",
    "<tr class=\"row-odd\"><td><p><a class=\"reference internal\" href=\"pandas.Series.is_monotonic.html#pandas.Series.is_monotonic\" title=\"pandas.Series.is_monotonic\"><code class=\"xref py py-obj docutils literal notranslate\"><span class=\"pre\">is_monotonic</span></code></a></p></td>\n",
    "<td><p>(DEPRECATED) Return boolean if values in the object are monotonically increasing.</p></td>\n",
    "</tr>\n",
    "<tr class=\"row-even\"><td><p><a class=\"reference internal\" href=\"pandas.Series.is_monotonic_decreasing.html#pandas.Series.is_monotonic_decreasing\" title=\"pandas.Series.is_monotonic_decreasing\"><code class=\"xref py py-obj docutils literal notranslate\"><span class=\"pre\">is_monotonic_decreasing</span></code></a></p></td>\n",
    "<td><p>Return boolean if values in the object are monotonically decreasing.</p></td>\n",
    "</tr>\n",
    "<tr class=\"row-odd\"><td><p><a class=\"reference internal\" href=\"pandas.Series.is_monotonic_increasing.html#pandas.Series.is_monotonic_increasing\" title=\"pandas.Series.is_monotonic_increasing\"><code class=\"xref py py-obj docutils literal notranslate\"><span class=\"pre\">is_monotonic_increasing</span></code></a></p></td>\n",
    "<td><p>Return boolean if values in the object are monotonically increasing.</p></td>\n",
    "</tr>\n",
    "<tr class=\"row-even\"><td><p><a class=\"reference internal\" href=\"pandas.Series.is_unique.html#pandas.Series.is_unique\" title=\"pandas.Series.is_unique\"><code class=\"xref py py-obj docutils literal notranslate\"><span class=\"pre\">is_unique</span></code></a></p></td>\n",
    "<td><p>Return boolean if values in the object are unique.</p></td>\n",
    "</tr>\n",
    "<tr class=\"row-odd\"><td><p><a class=\"reference internal\" href=\"pandas.Series.loc.html#pandas.Series.loc\" title=\"pandas.Series.loc\"><code class=\"xref py py-obj docutils literal notranslate\"><span class=\"pre\">loc</span></code></a></p></td>\n",
    "<td><p>Access a group of rows and columns by label(s) or a boolean array.</p></td>\n",
    "</tr>\n",
    "<tr class=\"row-even\"><td><p><a class=\"reference internal\" href=\"pandas.Series.name.html#pandas.Series.name\" title=\"pandas.Series.name\"><code class=\"xref py py-obj docutils literal notranslate\"><span class=\"pre\">name</span></code></a></p></td>\n",
    "<td><p>Return the name of the Series.</p></td>\n",
    "</tr>\n",
    "<tr class=\"row-odd\"><td><p><a class=\"reference internal\" href=\"pandas.Series.nbytes.html#pandas.Series.nbytes\" title=\"pandas.Series.nbytes\"><code class=\"xref py py-obj docutils literal notranslate\"><span class=\"pre\">nbytes</span></code></a></p></td>\n",
    "<td><p>Return the number of bytes in the underlying data.</p></td>\n",
    "</tr>\n",
    "<tr class=\"row-even\"><td><p><a class=\"reference internal\" href=\"pandas.Series.ndim.html#pandas.Series.ndim\" title=\"pandas.Series.ndim\"><code class=\"xref py py-obj docutils literal notranslate\"><span class=\"pre\">ndim</span></code></a></p></td>\n",
    "<td><p>Number of dimensions of the underlying data, by definition 1.</p></td>\n",
    "</tr>\n",
    "<tr class=\"row-odd\"><td><p><a class=\"reference internal\" href=\"pandas.Series.shape.html#pandas.Series.shape\" title=\"pandas.Series.shape\"><code class=\"xref py py-obj docutils literal notranslate\"><span class=\"pre\">shape</span></code></a></p></td>\n",
    "<td><p>Return a tuple of the shape of the underlying data.</p></td>\n",
    "</tr>\n",
    "<tr class=\"row-even\"><td><p><a class=\"reference internal\" href=\"pandas.Series.size.html#pandas.Series.size\" title=\"pandas.Series.size\"><code class=\"xref py py-obj docutils literal notranslate\"><span class=\"pre\">size</span></code></a></p></td>\n",
    "<td><p>Return the number of elements in the underlying data.</p></td>\n",
    "</tr>\n",
    "<tr class=\"row-odd\"><td><p><a class=\"reference internal\" href=\"pandas.Series.values.html#pandas.Series.values\" title=\"pandas.Series.values\"><code class=\"xref py py-obj docutils literal notranslate\"><span class=\"pre\">values</span></code></a></p></td>\n",
    "<td><p>Return Series as ndarray or ndarray-like depending on the dtype.</p></td>\n",
    "</tr>\n",
    "</tbody>\n",
    "</table>\n",
    "    </dd>  \n",
    "    \n",
    "#### Methods Of Series\n",
    "*** \n",
    "<dd>    \n",
    "<table class=\"autosummary longtable table autosummary\">\n",
    "<colgroup>\n",
    "<col style=\"width: 10%\">\n",
    "<col style=\"width: 90%\">\n",
    "</colgroup>\n",
    "<tbody>\n",
    "<tr class=\"row-odd\"><td><p><a class=\"reference internal\" href=\"pandas.Series.abs.html#pandas.Series.abs\" title=\"pandas.Series.abs\"><code class=\"xref py py-obj docutils literal notranslate\"><span class=\"pre\">abs</span></code></a>()</p></td>\n",
    "<td><p>Return a Series/DataFrame with absolute numeric value of each element.</p></td>\n",
    "</tr>\n",
    "<tr class=\"row-even\"><td><p><a class=\"reference internal\" href=\"pandas.Series.add.html#pandas.Series.add\" title=\"pandas.Series.add\"><code class=\"xref py py-obj docutils literal notranslate\"><span class=\"pre\">add</span></code></a>(other[,&nbsp;level,&nbsp;fill_value,&nbsp;axis])</p></td>\n",
    "<td><p>Return Addition of series and other, element-wise (binary operator <cite>add</cite>).</p></td>\n",
    "</tr>\n",
    "<tr class=\"row-odd\"><td><p><a class=\"reference internal\" href=\"pandas.Series.add_prefix.html#pandas.Series.add_prefix\" title=\"pandas.Series.add_prefix\"><code class=\"xref py py-obj docutils literal notranslate\"><span class=\"pre\">add_prefix</span></code></a>(prefix)</p></td>\n",
    "<td><p>Prefix labels with string <cite>prefix</cite>.</p></td>\n",
    "</tr>\n",
    "<tr class=\"row-even\"><td><p><a class=\"reference internal\" href=\"pandas.Series.add_suffix.html#pandas.Series.add_suffix\" title=\"pandas.Series.add_suffix\"><code class=\"xref py py-obj docutils literal notranslate\"><span class=\"pre\">add_suffix</span></code></a>(suffix)</p></td>\n",
    "<td><p>Suffix labels with string <cite>suffix</cite>.</p></td>\n",
    "</tr>\n",
    "<tr class=\"row-odd\"><td><p><a class=\"reference internal\" href=\"pandas.Series.agg.html#pandas.Series.agg\" title=\"pandas.Series.agg\"><code class=\"xref py py-obj docutils literal notranslate\"><span class=\"pre\">agg</span></code></a>([func,&nbsp;axis])</p></td>\n",
    "<td><p>Aggregate using one or more operations over the specified axis.</p></td>\n",
    "</tr>\n",
    "<tr class=\"row-even\"><td><p><a class=\"reference internal\" href=\"pandas.Series.aggregate.html#pandas.Series.aggregate\" title=\"pandas.Series.aggregate\"><code class=\"xref py py-obj docutils literal notranslate\"><span class=\"pre\">aggregate</span></code></a>([func,&nbsp;axis])</p></td>\n",
    "<td><p>Aggregate using one or more operations over the specified axis.</p></td>\n",
    "</tr>\n",
    "<tr class=\"row-odd\"><td><p><a class=\"reference internal\" href=\"pandas.Series.align.html#pandas.Series.align\" title=\"pandas.Series.align\"><code class=\"xref py py-obj docutils literal notranslate\"><span class=\"pre\">align</span></code></a>(other[,&nbsp;join,&nbsp;axis,&nbsp;level,&nbsp;copy,&nbsp;...])</p></td>\n",
    "<td><p>Align two objects on their axes with the specified join method.</p></td>\n",
    "</tr>\n",
    "<tr class=\"row-even\"><td><p><a class=\"reference internal\" href=\"pandas.Series.all.html#pandas.Series.all\" title=\"pandas.Series.all\"><code class=\"xref py py-obj docutils literal notranslate\"><span class=\"pre\">all</span></code></a>([axis,&nbsp;bool_only,&nbsp;skipna,&nbsp;level])</p></td>\n",
    "<td><p>Return whether all elements are True, potentially over an axis.</p></td>\n",
    "</tr>\n",
    "<tr class=\"row-odd\"><td><p><a class=\"reference internal\" href=\"pandas.Series.any.html#pandas.Series.any\" title=\"pandas.Series.any\"><code class=\"xref py py-obj docutils literal notranslate\"><span class=\"pre\">any</span></code></a>([axis,&nbsp;bool_only,&nbsp;skipna,&nbsp;level])</p></td>\n",
    "<td><p>Return whether any element is True, potentially over an axis.</p></td>\n",
    "</tr>\n",
    "<tr class=\"row-even\"><td><p><a class=\"reference internal\" href=\"pandas.Series.append.html#pandas.Series.append\" title=\"pandas.Series.append\"><code class=\"xref py py-obj docutils literal notranslate\"><span class=\"pre\">append</span></code></a>(to_append[,&nbsp;ignore_index,&nbsp;...])</p></td>\n",
    "<td><p>(DEPRECATED) Concatenate two or more Series.</p></td>\n",
    "</tr>\n",
    "<tr class=\"row-odd\"><td><p><a class=\"reference internal\" href=\"pandas.Series.apply.html#pandas.Series.apply\" title=\"pandas.Series.apply\"><code class=\"xref py py-obj docutils literal notranslate\"><span class=\"pre\">apply</span></code></a>(func[,&nbsp;convert_dtype,&nbsp;args])</p></td>\n",
    "<td><p>Invoke function on values of Series.</p></td>\n",
    "</tr>\n",
    "<tr class=\"row-even\"><td><p><a class=\"reference internal\" href=\"pandas.Series.argmax.html#pandas.Series.argmax\" title=\"pandas.Series.argmax\"><code class=\"xref py py-obj docutils literal notranslate\"><span class=\"pre\">argmax</span></code></a>([axis,&nbsp;skipna])</p></td>\n",
    "<td><p>Return int position of the largest value in the Series.</p></td>\n",
    "</tr>\n",
    "<tr class=\"row-odd\"><td><p><a class=\"reference internal\" href=\"pandas.Series.argmin.html#pandas.Series.argmin\" title=\"pandas.Series.argmin\"><code class=\"xref py py-obj docutils literal notranslate\"><span class=\"pre\">argmin</span></code></a>([axis,&nbsp;skipna])</p></td>\n",
    "<td><p>Return int position of the smallest value in the Series.</p></td>\n",
    "</tr>\n",
    "<tr class=\"row-even\"><td><p><a class=\"reference internal\" href=\"pandas.Series.argsort.html#pandas.Series.argsort\" title=\"pandas.Series.argsort\"><code class=\"xref py py-obj docutils literal notranslate\"><span class=\"pre\">argsort</span></code></a>([axis,&nbsp;kind,&nbsp;order])</p></td>\n",
    "<td><p>Return the integer indices that would sort the Series values.</p></td>\n",
    "</tr>\n",
    "<tr class=\"row-odd\"><td><p><a class=\"reference internal\" href=\"pandas.Series.asfreq.html#pandas.Series.asfreq\" title=\"pandas.Series.asfreq\"><code class=\"xref py py-obj docutils literal notranslate\"><span class=\"pre\">asfreq</span></code></a>(freq[,&nbsp;method,&nbsp;how,&nbsp;normalize,&nbsp;...])</p></td>\n",
    "<td><p>Convert time series to specified frequency.</p></td>\n",
    "</tr>\n",
    "<tr class=\"row-even\"><td><p><a class=\"reference internal\" href=\"pandas.Series.asof.html#pandas.Series.asof\" title=\"pandas.Series.asof\"><code class=\"xref py py-obj docutils literal notranslate\"><span class=\"pre\">asof</span></code></a>(where[,&nbsp;subset])</p></td>\n",
    "<td><p>Return the last row(s) without any NaNs before <cite>where</cite>.</p></td>\n",
    "</tr>\n",
    "<tr class=\"row-odd\"><td><p><a class=\"reference internal\" href=\"pandas.Series.astype.html#pandas.Series.astype\" title=\"pandas.Series.astype\"><code class=\"xref py py-obj docutils literal notranslate\"><span class=\"pre\">astype</span></code></a>(dtype[,&nbsp;copy,&nbsp;errors])</p></td>\n",
    "<td><p>Cast a pandas object to a specified dtype <code class=\"docutils literal notranslate\"><span class=\"pre\">dtype</span></code>.</p></td>\n",
    "</tr>\n",
    "<tr class=\"row-even\"><td><p><a class=\"reference internal\" href=\"pandas.Series.at_time.html#pandas.Series.at_time\" title=\"pandas.Series.at_time\"><code class=\"xref py py-obj docutils literal notranslate\"><span class=\"pre\">at_time</span></code></a>(time[,&nbsp;asof,&nbsp;axis])</p></td>\n",
    "<td><p>Select values at particular time of day (e.g., 9:30AM).</p></td>\n",
    "</tr>\n",
    "<tr class=\"row-odd\"><td><p><a class=\"reference internal\" href=\"pandas.Series.autocorr.html#pandas.Series.autocorr\" title=\"pandas.Series.autocorr\"><code class=\"xref py py-obj docutils literal notranslate\"><span class=\"pre\">autocorr</span></code></a>([lag])</p></td>\n",
    "<td><p>Compute the lag-N autocorrelation.</p></td>\n",
    "</tr>\n",
    "<tr class=\"row-even\"><td><p><a class=\"reference internal\" href=\"pandas.Series.backfill.html#pandas.Series.backfill\" title=\"pandas.Series.backfill\"><code class=\"xref py py-obj docutils literal notranslate\"><span class=\"pre\">backfill</span></code></a>([axis,&nbsp;inplace,&nbsp;limit,&nbsp;downcast])</p></td>\n",
    "<td><p>Synonym for <a class=\"reference internal\" href=\"pandas.DataFrame.fillna.html#pandas.DataFrame.fillna\" title=\"pandas.DataFrame.fillna\"><code class=\"xref py py-meth docutils literal notranslate\"><span class=\"pre\">DataFrame.fillna()</span></code></a> with <code class=\"docutils literal notranslate\"><span class=\"pre\">method='bfill'</span></code>.</p></td>\n",
    "</tr>\n",
    "<tr class=\"row-odd\"><td><p><a class=\"reference internal\" href=\"pandas.Series.between.html#pandas.Series.between\" title=\"pandas.Series.between\"><code class=\"xref py py-obj docutils literal notranslate\"><span class=\"pre\">between</span></code></a>(left,&nbsp;right[,&nbsp;inclusive])</p></td>\n",
    "<td><p>Return boolean Series equivalent to left &lt;= series &lt;= right.</p></td>\n",
    "</tr>\n",
    "<tr class=\"row-even\"><td><p><a class=\"reference internal\" href=\"pandas.Series.between_time.html#pandas.Series.between_time\" title=\"pandas.Series.between_time\"><code class=\"xref py py-obj docutils literal notranslate\"><span class=\"pre\">between_time</span></code></a>(start_time,&nbsp;end_time[,&nbsp;...])</p></td>\n",
    "<td><p>Select values between particular times of the day (e.g., 9:00-9:30 AM).</p></td>\n",
    "</tr>\n",
    "<tr class=\"row-odd\"><td><p><a class=\"reference internal\" href=\"pandas.Series.bfill.html#pandas.Series.bfill\" title=\"pandas.Series.bfill\"><code class=\"xref py py-obj docutils literal notranslate\"><span class=\"pre\">bfill</span></code></a>([axis,&nbsp;inplace,&nbsp;limit,&nbsp;downcast])</p></td>\n",
    "<td><p>Synonym for <a class=\"reference internal\" href=\"pandas.DataFrame.fillna.html#pandas.DataFrame.fillna\" title=\"pandas.DataFrame.fillna\"><code class=\"xref py py-meth docutils literal notranslate\"><span class=\"pre\">DataFrame.fillna()</span></code></a> with <code class=\"docutils literal notranslate\"><span class=\"pre\">method='bfill'</span></code>.</p></td>\n",
    "</tr>\n",
    "<tr class=\"row-even\"><td><p><a class=\"reference internal\" href=\"pandas.Series.bool.html#pandas.Series.bool\" title=\"pandas.Series.bool\"><code class=\"xref py py-obj docutils literal notranslate\"><span class=\"pre\">bool</span></code></a>()</p></td>\n",
    "<td><p>Return the bool of a single element Series or DataFrame.</p></td>\n",
    "</tr>\n",
    "<tr class=\"row-odd\"><td><p><a class=\"reference internal\" href=\"pandas.Series.cat.html#pandas.Series.cat\" title=\"pandas.Series.cat\"><code class=\"xref py py-obj docutils literal notranslate\"><span class=\"pre\">cat</span></code></a></p></td>\n",
    "<td><p>alias of <code class=\"xref py py-class docutils literal notranslate\"><span class=\"pre\">pandas.core.arrays.categorical.CategoricalAccessor</span></code></p></td>\n",
    "</tr>\n",
    "<tr class=\"row-even\"><td><p><a class=\"reference internal\" href=\"pandas.Series.clip.html#pandas.Series.clip\" title=\"pandas.Series.clip\"><code class=\"xref py py-obj docutils literal notranslate\"><span class=\"pre\">clip</span></code></a>([lower,&nbsp;upper,&nbsp;axis,&nbsp;inplace])</p></td>\n",
    "<td><p>Trim values at input threshold(s).</p></td>\n",
    "</tr>\n",
    "<tr class=\"row-odd\"><td><p><a class=\"reference internal\" href=\"pandas.Series.combine.html#pandas.Series.combine\" title=\"pandas.Series.combine\"><code class=\"xref py py-obj docutils literal notranslate\"><span class=\"pre\">combine</span></code></a>(other,&nbsp;func[,&nbsp;fill_value])</p></td>\n",
    "<td><p>Combine the Series with a Series or scalar according to <cite>func</cite>.</p></td>\n",
    "</tr>\n",
    "<tr class=\"row-even\"><td><p><a class=\"reference internal\" href=\"pandas.Series.combine_first.html#pandas.Series.combine_first\" title=\"pandas.Series.combine_first\"><code class=\"xref py py-obj docutils literal notranslate\"><span class=\"pre\">combine_first</span></code></a>(other)</p></td>\n",
    "<td><p>Update null elements with value in the same location in 'other'.</p></td>\n",
    "</tr>\n",
    "<tr class=\"row-odd\"><td><p><a class=\"reference internal\" href=\"pandas.Series.compare.html#pandas.Series.compare\" title=\"pandas.Series.compare\"><code class=\"xref py py-obj docutils literal notranslate\"><span class=\"pre\">compare</span></code></a>(other[,&nbsp;align_axis,&nbsp;keep_shape,&nbsp;...])</p></td>\n",
    "<td><p>Compare to another Series and show the differences.</p></td>\n",
    "</tr>\n",
    "<tr class=\"row-even\"><td><p><a class=\"reference internal\" href=\"pandas.Series.convert_dtypes.html#pandas.Series.convert_dtypes\" title=\"pandas.Series.convert_dtypes\"><code class=\"xref py py-obj docutils literal notranslate\"><span class=\"pre\">convert_dtypes</span></code></a>([infer_objects,&nbsp;...])</p></td>\n",
    "<td><p>Convert columns to best possible dtypes using dtypes supporting <code class=\"docutils literal notranslate\"><span class=\"pre\">pd.NA</span></code>.</p></td>\n",
    "</tr>\n",
    "<tr class=\"row-odd\"><td><p><a class=\"reference internal\" href=\"pandas.Series.copy.html#pandas.Series.copy\" title=\"pandas.Series.copy\"><code class=\"xref py py-obj docutils literal notranslate\"><span class=\"pre\">copy</span></code></a>([deep])</p></td>\n",
    "<td><p>Make a copy of this object's indices and data.</p></td>\n",
    "</tr>\n",
    "<tr class=\"row-even\"><td><p><a class=\"reference internal\" href=\"pandas.Series.corr.html#pandas.Series.corr\" title=\"pandas.Series.corr\"><code class=\"xref py py-obj docutils literal notranslate\"><span class=\"pre\">corr</span></code></a>(other[,&nbsp;method,&nbsp;min_periods])</p></td>\n",
    "<td><p>Compute correlation with <cite>other</cite> Series, excluding missing values.</p></td>\n",
    "</tr>\n",
    "<tr class=\"row-odd\"><td><p><a class=\"reference internal\" href=\"pandas.Series.count.html#pandas.Series.count\" title=\"pandas.Series.count\"><code class=\"xref py py-obj docutils literal notranslate\"><span class=\"pre\">count</span></code></a>([level])</p></td>\n",
    "<td><p>Return number of non-NA/null observations in the Series.</p></td>\n",
    "</tr>\n",
    "<tr class=\"row-even\"><td><p><a class=\"reference internal\" href=\"pandas.Series.cov.html#pandas.Series.cov\" title=\"pandas.Series.cov\"><code class=\"xref py py-obj docutils literal notranslate\"><span class=\"pre\">cov</span></code></a>(other[,&nbsp;min_periods,&nbsp;ddof])</p></td>\n",
    "<td><p>Compute covariance with Series, excluding missing values.</p></td>\n",
    "</tr>\n",
    "<tr class=\"row-odd\"><td><p><a class=\"reference internal\" href=\"pandas.Series.cummax.html#pandas.Series.cummax\" title=\"pandas.Series.cummax\"><code class=\"xref py py-obj docutils literal notranslate\"><span class=\"pre\">cummax</span></code></a>([axis,&nbsp;skipna])</p></td>\n",
    "<td><p>Return cumulative maximum over a DataFrame or Series axis.</p></td>\n",
    "</tr>\n",
    "<tr class=\"row-even\"><td><p><a class=\"reference internal\" href=\"pandas.Series.cummin.html#pandas.Series.cummin\" title=\"pandas.Series.cummin\"><code class=\"xref py py-obj docutils literal notranslate\"><span class=\"pre\">cummin</span></code></a>([axis,&nbsp;skipna])</p></td>\n",
    "<td><p>Return cumulative minimum over a DataFrame or Series axis.</p></td>\n",
    "</tr>\n",
    "<tr class=\"row-odd\"><td><p><a class=\"reference internal\" href=\"pandas.Series.cumprod.html#pandas.Series.cumprod\" title=\"pandas.Series.cumprod\"><code class=\"xref py py-obj docutils literal notranslate\"><span class=\"pre\">cumprod</span></code></a>([axis,&nbsp;skipna])</p></td>\n",
    "<td><p>Return cumulative product over a DataFrame or Series axis.</p></td>\n",
    "</tr>\n",
    "<tr class=\"row-even\"><td><p><a class=\"reference internal\" href=\"pandas.Series.cumsum.html#pandas.Series.cumsum\" title=\"pandas.Series.cumsum\"><code class=\"xref py py-obj docutils literal notranslate\"><span class=\"pre\">cumsum</span></code></a>([axis,&nbsp;skipna])</p></td>\n",
    "<td><p>Return cumulative sum over a DataFrame or Series axis.</p></td>\n",
    "</tr>\n",
    "<tr class=\"row-odd\"><td><p><a class=\"reference internal\" href=\"pandas.Series.describe.html#pandas.Series.describe\" title=\"pandas.Series.describe\"><code class=\"xref py py-obj docutils literal notranslate\"><span class=\"pre\">describe</span></code></a>([percentiles,&nbsp;include,&nbsp;exclude,&nbsp;...])</p></td>\n",
    "<td><p>Generate descriptive statistics.</p></td>\n",
    "</tr>\n",
    "<tr class=\"row-even\"><td><p><a class=\"reference internal\" href=\"pandas.Series.diff.html#pandas.Series.diff\" title=\"pandas.Series.diff\"><code class=\"xref py py-obj docutils literal notranslate\"><span class=\"pre\">diff</span></code></a>([periods])</p></td>\n",
    "<td><p>First discrete difference of element.</p></td>\n",
    "</tr>\n",
    "<tr class=\"row-odd\"><td><p><a class=\"reference internal\" href=\"pandas.Series.div.html#pandas.Series.div\" title=\"pandas.Series.div\"><code class=\"xref py py-obj docutils literal notranslate\"><span class=\"pre\">div</span></code></a>(other[,&nbsp;level,&nbsp;fill_value,&nbsp;axis])</p></td>\n",
    "<td><p>Return Floating division of series and other, element-wise (binary operator <cite>truediv</cite>).</p></td>\n",
    "</tr>\n",
    "<tr class=\"row-even\"><td><p><a class=\"reference internal\" href=\"pandas.Series.divide.html#pandas.Series.divide\" title=\"pandas.Series.divide\"><code class=\"xref py py-obj docutils literal notranslate\"><span class=\"pre\">divide</span></code></a>(other[,&nbsp;level,&nbsp;fill_value,&nbsp;axis])</p></td>\n",
    "<td><p>Return Floating division of series and other, element-wise (binary operator <cite>truediv</cite>).</p></td>\n",
    "</tr>\n",
    "<tr class=\"row-odd\"><td><p><a class=\"reference internal\" href=\"pandas.Series.divmod.html#pandas.Series.divmod\" title=\"pandas.Series.divmod\"><code class=\"xref py py-obj docutils literal notranslate\"><span class=\"pre\">divmod</span></code></a>(other[,&nbsp;level,&nbsp;fill_value,&nbsp;axis])</p></td>\n",
    "<td><p>Return Integer division and modulo of series and other, element-wise (binary operator <cite>divmod</cite>).</p></td>\n",
    "</tr>\n",
    "<tr class=\"row-even\"><td><p><a class=\"reference internal\" href=\"pandas.Series.dot.html#pandas.Series.dot\" title=\"pandas.Series.dot\"><code class=\"xref py py-obj docutils literal notranslate\"><span class=\"pre\">dot</span></code></a>(other)</p></td>\n",
    "<td><p>Compute the dot product between the Series and the columns of other.</p></td>\n",
    "</tr>\n",
    "<tr class=\"row-odd\"><td><p><a class=\"reference internal\" href=\"pandas.Series.drop.html#pandas.Series.drop\" title=\"pandas.Series.drop\"><code class=\"xref py py-obj docutils literal notranslate\"><span class=\"pre\">drop</span></code></a>([labels,&nbsp;axis,&nbsp;index,&nbsp;columns,&nbsp;level,&nbsp;...])</p></td>\n",
    "<td><p>Return Series with specified index labels removed.</p></td>\n",
    "</tr>\n",
    "<tr class=\"row-even\"><td><p><a class=\"reference internal\" href=\"pandas.Series.drop_duplicates.html#pandas.Series.drop_duplicates\" title=\"pandas.Series.drop_duplicates\"><code class=\"xref py py-obj docutils literal notranslate\"><span class=\"pre\">drop_duplicates</span></code></a>([keep,&nbsp;inplace])</p></td>\n",
    "<td><p>Return Series with duplicate values removed.</p></td>\n",
    "</tr>\n",
    "<tr class=\"row-odd\"><td><p><a class=\"reference internal\" href=\"pandas.Series.droplevel.html#pandas.Series.droplevel\" title=\"pandas.Series.droplevel\"><code class=\"xref py py-obj docutils literal notranslate\"><span class=\"pre\">droplevel</span></code></a>(level[,&nbsp;axis])</p></td>\n",
    "<td><p>Return Series/DataFrame with requested index / column level(s) removed.</p></td>\n",
    "</tr>\n",
    "<tr class=\"row-even\"><td><p><a class=\"reference internal\" href=\"pandas.Series.dropna.html#pandas.Series.dropna\" title=\"pandas.Series.dropna\"><code class=\"xref py py-obj docutils literal notranslate\"><span class=\"pre\">dropna</span></code></a>([axis,&nbsp;inplace,&nbsp;how])</p></td>\n",
    "<td><p>Return a new Series with missing values removed.</p></td>\n",
    "</tr>\n",
    "<tr class=\"row-odd\"><td><p><a class=\"reference internal\" href=\"pandas.Series.dt.html#pandas.Series.dt\" title=\"pandas.Series.dt\"><code class=\"xref py py-obj docutils literal notranslate\"><span class=\"pre\">dt</span></code></a></p></td>\n",
    "<td><p>alias of <code class=\"xref py py-class docutils literal notranslate\"><span class=\"pre\">pandas.core.indexes.accessors.CombinedDatetimelikeProperties</span></code></p></td>\n",
    "</tr>\n",
    "<tr class=\"row-even\"><td><p><a class=\"reference internal\" href=\"pandas.Series.duplicated.html#pandas.Series.duplicated\" title=\"pandas.Series.duplicated\"><code class=\"xref py py-obj docutils literal notranslate\"><span class=\"pre\">duplicated</span></code></a>([keep])</p></td>\n",
    "<td><p>Indicate duplicate Series values.</p></td>\n",
    "</tr>\n",
    "<tr class=\"row-odd\"><td><p><a class=\"reference internal\" href=\"pandas.Series.eq.html#pandas.Series.eq\" title=\"pandas.Series.eq\"><code class=\"xref py py-obj docutils literal notranslate\"><span class=\"pre\">eq</span></code></a>(other[,&nbsp;level,&nbsp;fill_value,&nbsp;axis])</p></td>\n",
    "<td><p>Return Equal to of series and other, element-wise (binary operator <cite>eq</cite>).</p></td>\n",
    "</tr>\n",
    "<tr class=\"row-even\"><td><p><a class=\"reference internal\" href=\"pandas.Series.equals.html#pandas.Series.equals\" title=\"pandas.Series.equals\"><code class=\"xref py py-obj docutils literal notranslate\"><span class=\"pre\">equals</span></code></a>(other)</p></td>\n",
    "<td><p>Test whether two objects contain the same elements.</p></td>\n",
    "</tr>\n",
    "<tr class=\"row-odd\"><td><p><a class=\"reference internal\" href=\"pandas.Series.ewm.html#pandas.Series.ewm\" title=\"pandas.Series.ewm\"><code class=\"xref py py-obj docutils literal notranslate\"><span class=\"pre\">ewm</span></code></a>([com,&nbsp;span,&nbsp;halflife,&nbsp;alpha,&nbsp;...])</p></td>\n",
    "<td><p>Provide exponentially weighted (EW) calculations.</p></td>\n",
    "</tr>\n",
    "<tr class=\"row-even\"><td><p><a class=\"reference internal\" href=\"pandas.Series.expanding.html#pandas.Series.expanding\" title=\"pandas.Series.expanding\"><code class=\"xref py py-obj docutils literal notranslate\"><span class=\"pre\">expanding</span></code></a>([min_periods,&nbsp;center,&nbsp;axis,&nbsp;method])</p></td>\n",
    "<td><p>Provide expanding window calculations.</p></td>\n",
    "</tr>\n",
    "<tr class=\"row-odd\"><td><p><a class=\"reference internal\" href=\"pandas.Series.explode.html#pandas.Series.explode\" title=\"pandas.Series.explode\"><code class=\"xref py py-obj docutils literal notranslate\"><span class=\"pre\">explode</span></code></a>([ignore_index])</p></td>\n",
    "<td><p>Transform each element of a list-like to a row.</p></td>\n",
    "</tr>\n",
    "<tr class=\"row-even\"><td><p><a class=\"reference internal\" href=\"pandas.Series.factorize.html#pandas.Series.factorize\" title=\"pandas.Series.factorize\"><code class=\"xref py py-obj docutils literal notranslate\"><span class=\"pre\">factorize</span></code></a>([sort,&nbsp;na_sentinel,&nbsp;use_na_sentinel])</p></td>\n",
    "<td><p>Encode the object as an enumerated type or categorical variable.</p></td>\n",
    "</tr>\n",
    "<tr class=\"row-odd\"><td><p><a class=\"reference internal\" href=\"pandas.Series.ffill.html#pandas.Series.ffill\" title=\"pandas.Series.ffill\"><code class=\"xref py py-obj docutils literal notranslate\"><span class=\"pre\">ffill</span></code></a>([axis,&nbsp;inplace,&nbsp;limit,&nbsp;downcast])</p></td>\n",
    "<td><p>Synonym for <a class=\"reference internal\" href=\"pandas.DataFrame.fillna.html#pandas.DataFrame.fillna\" title=\"pandas.DataFrame.fillna\"><code class=\"xref py py-meth docutils literal notranslate\"><span class=\"pre\">DataFrame.fillna()</span></code></a> with <code class=\"docutils literal notranslate\"><span class=\"pre\">method='ffill'</span></code>.</p></td>\n",
    "</tr>\n",
    "<tr class=\"row-even\"><td><p><a class=\"reference internal\" href=\"pandas.Series.fillna.html#pandas.Series.fillna\" title=\"pandas.Series.fillna\"><code class=\"xref py py-obj docutils literal notranslate\"><span class=\"pre\">fillna</span></code></a>([value,&nbsp;method,&nbsp;axis,&nbsp;inplace,&nbsp;...])</p></td>\n",
    "<td><p>Fill NA/NaN values using the specified method.</p></td>\n",
    "</tr>\n",
    "<tr class=\"row-odd\"><td><p><a class=\"reference internal\" href=\"pandas.Series.filter.html#pandas.Series.filter\" title=\"pandas.Series.filter\"><code class=\"xref py py-obj docutils literal notranslate\"><span class=\"pre\">filter</span></code></a>([items,&nbsp;like,&nbsp;regex,&nbsp;axis])</p></td>\n",
    "<td><p>Subset the dataframe rows or columns according to the specified index labels.</p></td>\n",
    "</tr>\n",
    "<tr class=\"row-even\"><td><p><a class=\"reference internal\" href=\"pandas.Series.first.html#pandas.Series.first\" title=\"pandas.Series.first\"><code class=\"xref py py-obj docutils literal notranslate\"><span class=\"pre\">first</span></code></a>(offset)</p></td>\n",
    "<td><p>Select initial periods of time series data based on a date offset.</p></td>\n",
    "</tr>\n",
    "<tr class=\"row-odd\"><td><p><a class=\"reference internal\" href=\"pandas.Series.first_valid_index.html#pandas.Series.first_valid_index\" title=\"pandas.Series.first_valid_index\"><code class=\"xref py py-obj docutils literal notranslate\"><span class=\"pre\">first_valid_index</span></code></a>()</p></td>\n",
    "<td><p>Return index for first non-NA value or None, if no non-NA value is found.</p></td>\n",
    "</tr>\n",
    "<tr class=\"row-even\"><td><p><a class=\"reference internal\" href=\"pandas.Series.floordiv.html#pandas.Series.floordiv\" title=\"pandas.Series.floordiv\"><code class=\"xref py py-obj docutils literal notranslate\"><span class=\"pre\">floordiv</span></code></a>(other[,&nbsp;level,&nbsp;fill_value,&nbsp;axis])</p></td>\n",
    "<td><p>Return Integer division of series and other, element-wise (binary operator <cite>floordiv</cite>).</p></td>\n",
    "</tr>\n",
    "<tr class=\"row-odd\"><td><p><a class=\"reference internal\" href=\"pandas.Series.ge.html#pandas.Series.ge\" title=\"pandas.Series.ge\"><code class=\"xref py py-obj docutils literal notranslate\"><span class=\"pre\">ge</span></code></a>(other[,&nbsp;level,&nbsp;fill_value,&nbsp;axis])</p></td>\n",
    "<td><p>Return Greater than or equal to of series and other, element-wise (binary operator <cite>ge</cite>).</p></td>\n",
    "</tr>\n",
    "<tr class=\"row-even\"><td><p><a class=\"reference internal\" href=\"pandas.Series.get.html#pandas.Series.get\" title=\"pandas.Series.get\"><code class=\"xref py py-obj docutils literal notranslate\"><span class=\"pre\">get</span></code></a>(key[,&nbsp;default])</p></td>\n",
    "<td><p>Get item from object for given key (ex: DataFrame column).</p></td>\n",
    "</tr>\n",
    "<tr class=\"row-odd\"><td><p><a class=\"reference internal\" href=\"pandas.Series.groupby.html#pandas.Series.groupby\" title=\"pandas.Series.groupby\"><code class=\"xref py py-obj docutils literal notranslate\"><span class=\"pre\">groupby</span></code></a>([by,&nbsp;axis,&nbsp;level,&nbsp;as_index,&nbsp;sort,&nbsp;...])</p></td>\n",
    "<td><p>Group Series using a mapper or by a Series of columns.</p></td>\n",
    "</tr>\n",
    "<tr class=\"row-even\"><td><p><a class=\"reference internal\" href=\"pandas.Series.gt.html#pandas.Series.gt\" title=\"pandas.Series.gt\"><code class=\"xref py py-obj docutils literal notranslate\"><span class=\"pre\">gt</span></code></a>(other[,&nbsp;level,&nbsp;fill_value,&nbsp;axis])</p></td>\n",
    "<td><p>Return Greater than of series and other, element-wise (binary operator <cite>gt</cite>).</p></td>\n",
    "</tr>\n",
    "<tr class=\"row-odd\"><td><p><a class=\"reference internal\" href=\"pandas.Series.head.html#pandas.Series.head\" title=\"pandas.Series.head\"><code class=\"xref py py-obj docutils literal notranslate\"><span class=\"pre\">head</span></code></a>([n])</p></td>\n",
    "<td><p>Return the first <cite>n</cite> rows.</p></td>\n",
    "</tr>\n",
    "<tr class=\"row-even\"><td><p><a class=\"reference internal\" href=\"pandas.Series.hist.html#pandas.Series.hist\" title=\"pandas.Series.hist\"><code class=\"xref py py-obj docutils literal notranslate\"><span class=\"pre\">hist</span></code></a>([by,&nbsp;ax,&nbsp;grid,&nbsp;xlabelsize,&nbsp;xrot,&nbsp;...])</p></td>\n",
    "<td><p>Draw histogram of the input series using matplotlib.</p></td>\n",
    "</tr>\n",
    "<tr class=\"row-odd\"><td><p><a class=\"reference internal\" href=\"pandas.Series.idxmax.html#pandas.Series.idxmax\" title=\"pandas.Series.idxmax\"><code class=\"xref py py-obj docutils literal notranslate\"><span class=\"pre\">idxmax</span></code></a>([axis,&nbsp;skipna])</p></td>\n",
    "<td><p>Return the row label of the maximum value.</p></td>\n",
    "</tr>\n",
    "<tr class=\"row-even\"><td><p><a class=\"reference internal\" href=\"pandas.Series.idxmin.html#pandas.Series.idxmin\" title=\"pandas.Series.idxmin\"><code class=\"xref py py-obj docutils literal notranslate\"><span class=\"pre\">idxmin</span></code></a>([axis,&nbsp;skipna])</p></td>\n",
    "<td><p>Return the row label of the minimum value.</p></td>\n",
    "</tr>\n",
    "<tr class=\"row-odd\"><td><p><a class=\"reference internal\" href=\"pandas.Series.infer_objects.html#pandas.Series.infer_objects\" title=\"pandas.Series.infer_objects\"><code class=\"xref py py-obj docutils literal notranslate\"><span class=\"pre\">infer_objects</span></code></a>()</p></td>\n",
    "<td><p>Attempt to infer better dtypes for object columns.</p></td>\n",
    "</tr>\n",
    "<tr class=\"row-even\"><td><p><a class=\"reference internal\" href=\"pandas.Series.info.html#pandas.Series.info\" title=\"pandas.Series.info\"><code class=\"xref py py-obj docutils literal notranslate\"><span class=\"pre\">info</span></code></a>([verbose,&nbsp;buf,&nbsp;max_cols,&nbsp;memory_usage,&nbsp;...])</p></td>\n",
    "<td><p>Print a concise summary of a Series.</p></td>\n",
    "</tr>\n",
    "<tr class=\"row-odd\"><td><p><a class=\"reference internal\" href=\"pandas.Series.interpolate.html#pandas.Series.interpolate\" title=\"pandas.Series.interpolate\"><code class=\"xref py py-obj docutils literal notranslate\"><span class=\"pre\">interpolate</span></code></a>([method,&nbsp;axis,&nbsp;limit,&nbsp;inplace,&nbsp;...])</p></td>\n",
    "<td><p>Fill NaN values using an interpolation method.</p></td>\n",
    "</tr>\n",
    "<tr class=\"row-even\"><td><p><a class=\"reference internal\" href=\"pandas.Series.isin.html#pandas.Series.isin\" title=\"pandas.Series.isin\"><code class=\"xref py py-obj docutils literal notranslate\"><span class=\"pre\">isin</span></code></a>(values)</p></td>\n",
    "<td><p>Whether elements in Series are contained in <cite>values</cite>.</p></td>\n",
    "</tr>\n",
    "<tr class=\"row-odd\"><td><p><a class=\"reference internal\" href=\"pandas.Series.isna.html#pandas.Series.isna\" title=\"pandas.Series.isna\"><code class=\"xref py py-obj docutils literal notranslate\"><span class=\"pre\">isna</span></code></a>()</p></td>\n",
    "<td><p>Detect missing values.</p></td>\n",
    "</tr>\n",
    "<tr class=\"row-even\"><td><p><a class=\"reference internal\" href=\"pandas.Series.isnull.html#pandas.Series.isnull\" title=\"pandas.Series.isnull\"><code class=\"xref py py-obj docutils literal notranslate\"><span class=\"pre\">isnull</span></code></a>()</p></td>\n",
    "<td><p>Series.isnull is an alias for Series.isna.</p></td>\n",
    "</tr>\n",
    "<tr class=\"row-odd\"><td><p><a class=\"reference internal\" href=\"pandas.Series.item.html#pandas.Series.item\" title=\"pandas.Series.item\"><code class=\"xref py py-obj docutils literal notranslate\"><span class=\"pre\">item</span></code></a>()</p></td>\n",
    "<td><p>Return the first element of the underlying data as a Python scalar.</p></td>\n",
    "</tr>\n",
    "<tr class=\"row-even\"><td><p><a class=\"reference internal\" href=\"pandas.Series.items.html#pandas.Series.items\" title=\"pandas.Series.items\"><code class=\"xref py py-obj docutils literal notranslate\"><span class=\"pre\">items</span></code></a>()</p></td>\n",
    "<td><p>Lazily iterate over (index, value) tuples.</p></td>\n",
    "</tr>\n",
    "<tr class=\"row-odd\"><td><p><a class=\"reference internal\" href=\"pandas.Series.iteritems.html#pandas.Series.iteritems\" title=\"pandas.Series.iteritems\"><code class=\"xref py py-obj docutils literal notranslate\"><span class=\"pre\">iteritems</span></code></a>()</p></td>\n",
    "<td><p>(DEPRECATED) Lazily iterate over (index, value) tuples.</p></td>\n",
    "</tr>\n",
    "<tr class=\"row-even\"><td><p><a class=\"reference internal\" href=\"pandas.Series.keys.html#pandas.Series.keys\" title=\"pandas.Series.keys\"><code class=\"xref py py-obj docutils literal notranslate\"><span class=\"pre\">keys</span></code></a>()</p></td>\n",
    "<td><p>Return alias for index.</p></td>\n",
    "</tr>\n",
    "<tr class=\"row-odd\"><td><p><a class=\"reference internal\" href=\"pandas.Series.kurt.html#pandas.Series.kurt\" title=\"pandas.Series.kurt\"><code class=\"xref py py-obj docutils literal notranslate\"><span class=\"pre\">kurt</span></code></a>([axis,&nbsp;skipna,&nbsp;level,&nbsp;numeric_only])</p></td>\n",
    "<td><p>Return unbiased kurtosis over requested axis.</p></td>\n",
    "</tr>\n",
    "<tr class=\"row-even\"><td><p><a class=\"reference internal\" href=\"pandas.Series.kurtosis.html#pandas.Series.kurtosis\" title=\"pandas.Series.kurtosis\"><code class=\"xref py py-obj docutils literal notranslate\"><span class=\"pre\">kurtosis</span></code></a>([axis,&nbsp;skipna,&nbsp;level,&nbsp;numeric_only])</p></td>\n",
    "<td><p>Return unbiased kurtosis over requested axis.</p></td>\n",
    "</tr>\n",
    "<tr class=\"row-odd\"><td><p><a class=\"reference internal\" href=\"pandas.Series.last.html#pandas.Series.last\" title=\"pandas.Series.last\"><code class=\"xref py py-obj docutils literal notranslate\"><span class=\"pre\">last</span></code></a>(offset)</p></td>\n",
    "<td><p>Select final periods of time series data based on a date offset.</p></td>\n",
    "</tr>\n",
    "<tr class=\"row-even\"><td><p><a class=\"reference internal\" href=\"pandas.Series.last_valid_index.html#pandas.Series.last_valid_index\" title=\"pandas.Series.last_valid_index\"><code class=\"xref py py-obj docutils literal notranslate\"><span class=\"pre\">last_valid_index</span></code></a>()</p></td>\n",
    "<td><p>Return index for last non-NA value or None, if no non-NA value is found.</p></td>\n",
    "</tr>\n",
    "<tr class=\"row-odd\"><td><p><a class=\"reference internal\" href=\"pandas.Series.le.html#pandas.Series.le\" title=\"pandas.Series.le\"><code class=\"xref py py-obj docutils literal notranslate\"><span class=\"pre\">le</span></code></a>(other[,&nbsp;level,&nbsp;fill_value,&nbsp;axis])</p></td>\n",
    "<td><p>Return Less than or equal to of series and other, element-wise (binary operator <cite>le</cite>).</p></td>\n",
    "</tr>\n",
    "<tr class=\"row-even\"><td><p><a class=\"reference internal\" href=\"pandas.Series.lt.html#pandas.Series.lt\" title=\"pandas.Series.lt\"><code class=\"xref py py-obj docutils literal notranslate\"><span class=\"pre\">lt</span></code></a>(other[,&nbsp;level,&nbsp;fill_value,&nbsp;axis])</p></td>\n",
    "<td><p>Return Less than of series and other, element-wise (binary operator <cite>lt</cite>).</p></td>\n",
    "</tr>\n",
    "<tr class=\"row-odd\"><td><p><a class=\"reference internal\" href=\"pandas.Series.mad.html#pandas.Series.mad\" title=\"pandas.Series.mad\"><code class=\"xref py py-obj docutils literal notranslate\"><span class=\"pre\">mad</span></code></a>([axis,&nbsp;skipna,&nbsp;level])</p></td>\n",
    "<td><p>(DEPRECATED) Return the mean absolute deviation of the values over the requested axis.</p></td>\n",
    "</tr>\n",
    "<tr class=\"row-even\"><td><p><a class=\"reference internal\" href=\"pandas.Series.map.html#pandas.Series.map\" title=\"pandas.Series.map\"><code class=\"xref py py-obj docutils literal notranslate\"><span class=\"pre\">map</span></code></a>(arg[,&nbsp;na_action])</p></td>\n",
    "<td><p>Map values of Series according to an input mapping or function.</p></td>\n",
    "</tr>\n",
    "<tr class=\"row-odd\"><td><p><a class=\"reference internal\" href=\"pandas.Series.mask.html#pandas.Series.mask\" title=\"pandas.Series.mask\"><code class=\"xref py py-obj docutils literal notranslate\"><span class=\"pre\">mask</span></code></a>(cond[,&nbsp;other,&nbsp;inplace,&nbsp;axis,&nbsp;level,&nbsp;...])</p></td>\n",
    "<td><p>Replace values where the condition is True.</p></td>\n",
    "</tr>\n",
    "<tr class=\"row-even\"><td><p><a class=\"reference internal\" href=\"pandas.Series.max.html#pandas.Series.max\" title=\"pandas.Series.max\"><code class=\"xref py py-obj docutils literal notranslate\"><span class=\"pre\">max</span></code></a>([axis,&nbsp;skipna,&nbsp;level,&nbsp;numeric_only])</p></td>\n",
    "<td><p>Return the maximum of the values over the requested axis.</p></td>\n",
    "</tr>\n",
    "<tr class=\"row-odd\"><td><p><a class=\"reference internal\" href=\"pandas.Series.mean.html#pandas.Series.mean\" title=\"pandas.Series.mean\"><code class=\"xref py py-obj docutils literal notranslate\"><span class=\"pre\">mean</span></code></a>([axis,&nbsp;skipna,&nbsp;level,&nbsp;numeric_only])</p></td>\n",
    "<td><p>Return the mean of the values over the requested axis.</p></td>\n",
    "</tr>\n",
    "<tr class=\"row-even\"><td><p><a class=\"reference internal\" href=\"pandas.Series.median.html#pandas.Series.median\" title=\"pandas.Series.median\"><code class=\"xref py py-obj docutils literal notranslate\"><span class=\"pre\">median</span></code></a>([axis,&nbsp;skipna,&nbsp;level,&nbsp;numeric_only])</p></td>\n",
    "<td><p>Return the median of the values over the requested axis.</p></td>\n",
    "</tr>\n",
    "<tr class=\"row-odd\"><td><p><a class=\"reference internal\" href=\"pandas.Series.memory_usage.html#pandas.Series.memory_usage\" title=\"pandas.Series.memory_usage\"><code class=\"xref py py-obj docutils literal notranslate\"><span class=\"pre\">memory_usage</span></code></a>([index,&nbsp;deep])</p></td>\n",
    "<td><p>Return the memory usage of the Series.</p></td>\n",
    "</tr>\n",
    "<tr class=\"row-even\"><td><p><a class=\"reference internal\" href=\"pandas.Series.min.html#pandas.Series.min\" title=\"pandas.Series.min\"><code class=\"xref py py-obj docutils literal notranslate\"><span class=\"pre\">min</span></code></a>([axis,&nbsp;skipna,&nbsp;level,&nbsp;numeric_only])</p></td>\n",
    "<td><p>Return the minimum of the values over the requested axis.</p></td>\n",
    "</tr>\n",
    "<tr class=\"row-odd\"><td><p><a class=\"reference internal\" href=\"pandas.Series.mod.html#pandas.Series.mod\" title=\"pandas.Series.mod\"><code class=\"xref py py-obj docutils literal notranslate\"><span class=\"pre\">mod</span></code></a>(other[,&nbsp;level,&nbsp;fill_value,&nbsp;axis])</p></td>\n",
    "<td><p>Return Modulo of series and other, element-wise (binary operator <cite>mod</cite>).</p></td>\n",
    "</tr>\n",
    "<tr class=\"row-even\"><td><p><a class=\"reference internal\" href=\"pandas.Series.mode.html#pandas.Series.mode\" title=\"pandas.Series.mode\"><code class=\"xref py py-obj docutils literal notranslate\"><span class=\"pre\">mode</span></code></a>([dropna])</p></td>\n",
    "<td><p>Return the mode(s) of the Series.</p></td>\n",
    "</tr>\n",
    "<tr class=\"row-odd\"><td><p><a class=\"reference internal\" href=\"pandas.Series.mul.html#pandas.Series.mul\" title=\"pandas.Series.mul\"><code class=\"xref py py-obj docutils literal notranslate\"><span class=\"pre\">mul</span></code></a>(other[,&nbsp;level,&nbsp;fill_value,&nbsp;axis])</p></td>\n",
    "<td><p>Return Multiplication of series and other, element-wise (binary operator <cite>mul</cite>).</p></td>\n",
    "</tr>\n",
    "<tr class=\"row-even\"><td><p><a class=\"reference internal\" href=\"pandas.Series.multiply.html#pandas.Series.multiply\" title=\"pandas.Series.multiply\"><code class=\"xref py py-obj docutils literal notranslate\"><span class=\"pre\">multiply</span></code></a>(other[,&nbsp;level,&nbsp;fill_value,&nbsp;axis])</p></td>\n",
    "<td><p>Return Multiplication of series and other, element-wise (binary operator <cite>mul</cite>).</p></td>\n",
    "</tr>\n",
    "<tr class=\"row-odd\"><td><p><a class=\"reference internal\" href=\"pandas.Series.ne.html#pandas.Series.ne\" title=\"pandas.Series.ne\"><code class=\"xref py py-obj docutils literal notranslate\"><span class=\"pre\">ne</span></code></a>(other[,&nbsp;level,&nbsp;fill_value,&nbsp;axis])</p></td>\n",
    "<td><p>Return Not equal to of series and other, element-wise (binary operator <cite>ne</cite>).</p></td>\n",
    "</tr>\n",
    "<tr class=\"row-even\"><td><p><a class=\"reference internal\" href=\"pandas.Series.nlargest.html#pandas.Series.nlargest\" title=\"pandas.Series.nlargest\"><code class=\"xref py py-obj docutils literal notranslate\"><span class=\"pre\">nlargest</span></code></a>([n,&nbsp;keep])</p></td>\n",
    "<td><p>Return the largest <cite>n</cite> elements.</p></td>\n",
    "</tr>\n",
    "<tr class=\"row-odd\"><td><p><a class=\"reference internal\" href=\"pandas.Series.notna.html#pandas.Series.notna\" title=\"pandas.Series.notna\"><code class=\"xref py py-obj docutils literal notranslate\"><span class=\"pre\">notna</span></code></a>()</p></td>\n",
    "<td><p>Detect existing (non-missing) values.</p></td>\n",
    "</tr>\n",
    "<tr class=\"row-even\"><td><p><a class=\"reference internal\" href=\"pandas.Series.notnull.html#pandas.Series.notnull\" title=\"pandas.Series.notnull\"><code class=\"xref py py-obj docutils literal notranslate\"><span class=\"pre\">notnull</span></code></a>()</p></td>\n",
    "<td><p>Series.notnull is an alias for Series.notna.</p></td>\n",
    "</tr>\n",
    "<tr class=\"row-odd\"><td><p><a class=\"reference internal\" href=\"pandas.Series.nsmallest.html#pandas.Series.nsmallest\" title=\"pandas.Series.nsmallest\"><code class=\"xref py py-obj docutils literal notranslate\"><span class=\"pre\">nsmallest</span></code></a>([n,&nbsp;keep])</p></td>\n",
    "<td><p>Return the smallest <cite>n</cite> elements.</p></td>\n",
    "</tr>\n",
    "<tr class=\"row-even\"><td><p><a class=\"reference internal\" href=\"pandas.Series.nunique.html#pandas.Series.nunique\" title=\"pandas.Series.nunique\"><code class=\"xref py py-obj docutils literal notranslate\"><span class=\"pre\">nunique</span></code></a>([dropna])</p></td>\n",
    "<td><p>Return number of unique elements in the object.</p></td>\n",
    "</tr>\n",
    "<tr class=\"row-odd\"><td><p><a class=\"reference internal\" href=\"pandas.Series.pad.html#pandas.Series.pad\" title=\"pandas.Series.pad\"><code class=\"xref py py-obj docutils literal notranslate\"><span class=\"pre\">pad</span></code></a>([axis,&nbsp;inplace,&nbsp;limit,&nbsp;downcast])</p></td>\n",
    "<td><p>Synonym for <a class=\"reference internal\" href=\"pandas.DataFrame.fillna.html#pandas.DataFrame.fillna\" title=\"pandas.DataFrame.fillna\"><code class=\"xref py py-meth docutils literal notranslate\"><span class=\"pre\">DataFrame.fillna()</span></code></a> with <code class=\"docutils literal notranslate\"><span class=\"pre\">method='ffill'</span></code>.</p></td>\n",
    "</tr>\n",
    "<tr class=\"row-even\"><td><p><a class=\"reference internal\" href=\"pandas.Series.pct_change.html#pandas.Series.pct_change\" title=\"pandas.Series.pct_change\"><code class=\"xref py py-obj docutils literal notranslate\"><span class=\"pre\">pct_change</span></code></a>([periods,&nbsp;fill_method,&nbsp;limit,&nbsp;freq])</p></td>\n",
    "<td><p>Percentage change between the current and a prior element.</p></td>\n",
    "</tr>\n",
    "<tr class=\"row-odd\"><td><p><a class=\"reference internal\" href=\"pandas.Series.pipe.html#pandas.Series.pipe\" title=\"pandas.Series.pipe\"><code class=\"xref py py-obj docutils literal notranslate\"><span class=\"pre\">pipe</span></code></a>(func,&nbsp;*args,&nbsp;**kwargs)</p></td>\n",
    "<td><p>Apply chainable functions that expect Series or DataFrames.</p></td>\n",
    "</tr>\n",
    "<tr class=\"row-even\"><td><p><a class=\"reference internal\" href=\"pandas.Series.plot.html#pandas.Series.plot\" title=\"pandas.Series.plot\"><code class=\"xref py py-obj docutils literal notranslate\"><span class=\"pre\">plot</span></code></a></p></td>\n",
    "<td><p>alias of <code class=\"xref py py-class docutils literal notranslate\"><span class=\"pre\">pandas.plotting._core.PlotAccessor</span></code></p></td>\n",
    "</tr>\n",
    "<tr class=\"row-odd\"><td><p><a class=\"reference internal\" href=\"pandas.Series.pop.html#pandas.Series.pop\" title=\"pandas.Series.pop\"><code class=\"xref py py-obj docutils literal notranslate\"><span class=\"pre\">pop</span></code></a>(item)</p></td>\n",
    "<td><p>Return item and drops from series.</p></td>\n",
    "</tr>\n",
    "<tr class=\"row-even\"><td><p><a class=\"reference internal\" href=\"pandas.Series.pow.html#pandas.Series.pow\" title=\"pandas.Series.pow\"><code class=\"xref py py-obj docutils literal notranslate\"><span class=\"pre\">pow</span></code></a>(other[,&nbsp;level,&nbsp;fill_value,&nbsp;axis])</p></td>\n",
    "<td><p>Return Exponential power of series and other, element-wise (binary operator <cite>pow</cite>).</p></td>\n",
    "</tr>\n",
    "<tr class=\"row-odd\"><td><p><a class=\"reference internal\" href=\"pandas.Series.prod.html#pandas.Series.prod\" title=\"pandas.Series.prod\"><code class=\"xref py py-obj docutils literal notranslate\"><span class=\"pre\">prod</span></code></a>([axis,&nbsp;skipna,&nbsp;level,&nbsp;numeric_only,&nbsp;...])</p></td>\n",
    "<td><p>Return the product of the values over the requested axis.</p></td>\n",
    "</tr>\n",
    "<tr class=\"row-even\"><td><p><a class=\"reference internal\" href=\"pandas.Series.product.html#pandas.Series.product\" title=\"pandas.Series.product\"><code class=\"xref py py-obj docutils literal notranslate\"><span class=\"pre\">product</span></code></a>([axis,&nbsp;skipna,&nbsp;level,&nbsp;numeric_only,&nbsp;...])</p></td>\n",
    "<td><p>Return the product of the values over the requested axis.</p></td>\n",
    "</tr>\n",
    "<tr class=\"row-odd\"><td><p><a class=\"reference internal\" href=\"pandas.Series.quantile.html#pandas.Series.quantile\" title=\"pandas.Series.quantile\"><code class=\"xref py py-obj docutils literal notranslate\"><span class=\"pre\">quantile</span></code></a>([q,&nbsp;interpolation])</p></td>\n",
    "<td><p>Return value at the given quantile.</p></td>\n",
    "</tr>\n",
    "<tr class=\"row-even\"><td><p><a class=\"reference internal\" href=\"pandas.Series.radd.html#pandas.Series.radd\" title=\"pandas.Series.radd\"><code class=\"xref py py-obj docutils literal notranslate\"><span class=\"pre\">radd</span></code></a>(other[,&nbsp;level,&nbsp;fill_value,&nbsp;axis])</p></td>\n",
    "<td><p>Return Addition of series and other, element-wise (binary operator <cite>radd</cite>).</p></td>\n",
    "</tr>\n",
    "<tr class=\"row-odd\"><td><p><a class=\"reference internal\" href=\"pandas.Series.rank.html#pandas.Series.rank\" title=\"pandas.Series.rank\"><code class=\"xref py py-obj docutils literal notranslate\"><span class=\"pre\">rank</span></code></a>([axis,&nbsp;method,&nbsp;numeric_only,&nbsp;...])</p></td>\n",
    "<td><p>Compute numerical data ranks (1 through n) along axis.</p></td>\n",
    "</tr>\n",
    "<tr class=\"row-even\"><td><p><a class=\"reference internal\" href=\"pandas.Series.ravel.html#pandas.Series.ravel\" title=\"pandas.Series.ravel\"><code class=\"xref py py-obj docutils literal notranslate\"><span class=\"pre\">ravel</span></code></a>([order])</p></td>\n",
    "<td><p>Return the flattened underlying data as an ndarray.</p></td>\n",
    "</tr>\n",
    "<tr class=\"row-odd\"><td><p><a class=\"reference internal\" href=\"pandas.Series.rdiv.html#pandas.Series.rdiv\" title=\"pandas.Series.rdiv\"><code class=\"xref py py-obj docutils literal notranslate\"><span class=\"pre\">rdiv</span></code></a>(other[,&nbsp;level,&nbsp;fill_value,&nbsp;axis])</p></td>\n",
    "<td><p>Return Floating division of series and other, element-wise (binary operator <cite>rtruediv</cite>).</p></td>\n",
    "</tr>\n",
    "<tr class=\"row-even\"><td><p><a class=\"reference internal\" href=\"pandas.Series.rdivmod.html#pandas.Series.rdivmod\" title=\"pandas.Series.rdivmod\"><code class=\"xref py py-obj docutils literal notranslate\"><span class=\"pre\">rdivmod</span></code></a>(other[,&nbsp;level,&nbsp;fill_value,&nbsp;axis])</p></td>\n",
    "<td><p>Return Integer division and modulo of series and other, element-wise (binary operator <cite>rdivmod</cite>).</p></td>\n",
    "</tr>\n",
    "<tr class=\"row-odd\"><td><p><a class=\"reference internal\" href=\"pandas.Series.reindex.html#pandas.Series.reindex\" title=\"pandas.Series.reindex\"><code class=\"xref py py-obj docutils literal notranslate\"><span class=\"pre\">reindex</span></code></a>(*args,&nbsp;**kwargs)</p></td>\n",
    "<td><p>Conform Series to new index with optional filling logic.</p></td>\n",
    "</tr>\n",
    "<tr class=\"row-even\"><td><p><a class=\"reference internal\" href=\"pandas.Series.reindex_like.html#pandas.Series.reindex_like\" title=\"pandas.Series.reindex_like\"><code class=\"xref py py-obj docutils literal notranslate\"><span class=\"pre\">reindex_like</span></code></a>(other[,&nbsp;method,&nbsp;copy,&nbsp;limit,&nbsp;...])</p></td>\n",
    "<td><p>Return an object with matching indices as other object.</p></td>\n",
    "</tr>\n",
    "<tr class=\"row-odd\"><td><p><a class=\"reference internal\" href=\"pandas.Series.rename.html#pandas.Series.rename\" title=\"pandas.Series.rename\"><code class=\"xref py py-obj docutils literal notranslate\"><span class=\"pre\">rename</span></code></a>([index,&nbsp;axis,&nbsp;copy,&nbsp;inplace,&nbsp;level,&nbsp;...])</p></td>\n",
    "<td><p>Alter Series index labels or name.</p></td>\n",
    "</tr>\n",
    "<tr class=\"row-even\"><td><p><a class=\"reference internal\" href=\"pandas.Series.rename_axis.html#pandas.Series.rename_axis\" title=\"pandas.Series.rename_axis\"><code class=\"xref py py-obj docutils literal notranslate\"><span class=\"pre\">rename_axis</span></code></a>([mapper,&nbsp;index,&nbsp;columns,&nbsp;axis,&nbsp;copy])</p></td>\n",
    "<td><p>Set the name of the axis for the index or columns.</p></td>\n",
    "</tr>\n",
    "<tr class=\"row-odd\"><td><p><a class=\"reference internal\" href=\"pandas.Series.reorder_levels.html#pandas.Series.reorder_levels\" title=\"pandas.Series.reorder_levels\"><code class=\"xref py py-obj docutils literal notranslate\"><span class=\"pre\">reorder_levels</span></code></a>(order)</p></td>\n",
    "<td><p>Rearrange index levels using input order.</p></td>\n",
    "</tr>\n",
    "<tr class=\"row-even\"><td><p><a class=\"reference internal\" href=\"pandas.Series.repeat.html#pandas.Series.repeat\" title=\"pandas.Series.repeat\"><code class=\"xref py py-obj docutils literal notranslate\"><span class=\"pre\">repeat</span></code></a>(repeats[,&nbsp;axis])</p></td>\n",
    "<td><p>Repeat elements of a Series.</p></td>\n",
    "</tr>\n",
    "<tr class=\"row-odd\"><td><p><a class=\"reference internal\" href=\"pandas.Series.replace.html#pandas.Series.replace\" title=\"pandas.Series.replace\"><code class=\"xref py py-obj docutils literal notranslate\"><span class=\"pre\">replace</span></code></a>([to_replace,&nbsp;value,&nbsp;inplace,&nbsp;limit,&nbsp;...])</p></td>\n",
    "<td><p>Replace values given in <cite>to_replace</cite> with <cite>value</cite>.</p></td>\n",
    "</tr>\n",
    "<tr class=\"row-even\"><td><p><a class=\"reference internal\" href=\"pandas.Series.resample.html#pandas.Series.resample\" title=\"pandas.Series.resample\"><code class=\"xref py py-obj docutils literal notranslate\"><span class=\"pre\">resample</span></code></a>(rule[,&nbsp;axis,&nbsp;closed,&nbsp;label,&nbsp;...])</p></td>\n",
    "<td><p>Resample time-series data.</p></td>\n",
    "</tr>\n",
    "<tr class=\"row-odd\"><td><p><a class=\"reference internal\" href=\"pandas.Series.reset_index.html#pandas.Series.reset_index\" title=\"pandas.Series.reset_index\"><code class=\"xref py py-obj docutils literal notranslate\"><span class=\"pre\">reset_index</span></code></a>([level,&nbsp;drop,&nbsp;name,&nbsp;inplace,&nbsp;...])</p></td>\n",
    "<td><p>Generate a new DataFrame or Series with the index reset.</p></td>\n",
    "</tr>\n",
    "<tr class=\"row-even\"><td><p><a class=\"reference internal\" href=\"pandas.Series.rfloordiv.html#pandas.Series.rfloordiv\" title=\"pandas.Series.rfloordiv\"><code class=\"xref py py-obj docutils literal notranslate\"><span class=\"pre\">rfloordiv</span></code></a>(other[,&nbsp;level,&nbsp;fill_value,&nbsp;axis])</p></td>\n",
    "<td><p>Return Integer division of series and other, element-wise (binary operator <cite>rfloordiv</cite>).</p></td>\n",
    "</tr>\n",
    "<tr class=\"row-odd\"><td><p><a class=\"reference internal\" href=\"pandas.Series.rmod.html#pandas.Series.rmod\" title=\"pandas.Series.rmod\"><code class=\"xref py py-obj docutils literal notranslate\"><span class=\"pre\">rmod</span></code></a>(other[,&nbsp;level,&nbsp;fill_value,&nbsp;axis])</p></td>\n",
    "<td><p>Return Modulo of series and other, element-wise (binary operator <cite>rmod</cite>).</p></td>\n",
    "</tr>\n",
    "<tr class=\"row-even\"><td><p><a class=\"reference internal\" href=\"pandas.Series.rmul.html#pandas.Series.rmul\" title=\"pandas.Series.rmul\"><code class=\"xref py py-obj docutils literal notranslate\"><span class=\"pre\">rmul</span></code></a>(other[,&nbsp;level,&nbsp;fill_value,&nbsp;axis])</p></td>\n",
    "<td><p>Return Multiplication of series and other, element-wise (binary operator <cite>rmul</cite>).</p></td>\n",
    "</tr>\n",
    "<tr class=\"row-odd\"><td><p><a class=\"reference internal\" href=\"pandas.Series.rolling.html#pandas.Series.rolling\" title=\"pandas.Series.rolling\"><code class=\"xref py py-obj docutils literal notranslate\"><span class=\"pre\">rolling</span></code></a>(window[,&nbsp;min_periods,&nbsp;center,&nbsp;...])</p></td>\n",
    "<td><p>Provide rolling window calculations.</p></td>\n",
    "</tr>\n",
    "<tr class=\"row-even\"><td><p><a class=\"reference internal\" href=\"pandas.Series.round.html#pandas.Series.round\" title=\"pandas.Series.round\"><code class=\"xref py py-obj docutils literal notranslate\"><span class=\"pre\">round</span></code></a>([decimals])</p></td>\n",
    "<td><p>Round each value in a Series to the given number of decimals.</p></td>\n",
    "</tr>\n",
    "<tr class=\"row-odd\"><td><p><a class=\"reference internal\" href=\"pandas.Series.rpow.html#pandas.Series.rpow\" title=\"pandas.Series.rpow\"><code class=\"xref py py-obj docutils literal notranslate\"><span class=\"pre\">rpow</span></code></a>(other[,&nbsp;level,&nbsp;fill_value,&nbsp;axis])</p></td>\n",
    "<td><p>Return Exponential power of series and other, element-wise (binary operator <cite>rpow</cite>).</p></td>\n",
    "</tr>\n",
    "<tr class=\"row-even\"><td><p><a class=\"reference internal\" href=\"pandas.Series.rsub.html#pandas.Series.rsub\" title=\"pandas.Series.rsub\"><code class=\"xref py py-obj docutils literal notranslate\"><span class=\"pre\">rsub</span></code></a>(other[,&nbsp;level,&nbsp;fill_value,&nbsp;axis])</p></td>\n",
    "<td><p>Return Subtraction of series and other, element-wise (binary operator <cite>rsub</cite>).</p></td>\n",
    "</tr>\n",
    "<tr class=\"row-odd\"><td><p><a class=\"reference internal\" href=\"pandas.Series.rtruediv.html#pandas.Series.rtruediv\" title=\"pandas.Series.rtruediv\"><code class=\"xref py py-obj docutils literal notranslate\"><span class=\"pre\">rtruediv</span></code></a>(other[,&nbsp;level,&nbsp;fill_value,&nbsp;axis])</p></td>\n",
    "<td><p>Return Floating division of series and other, element-wise (binary operator <cite>rtruediv</cite>).</p></td>\n",
    "</tr>\n",
    "<tr class=\"row-even\"><td><p><a class=\"reference internal\" href=\"pandas.Series.sample.html#pandas.Series.sample\" title=\"pandas.Series.sample\"><code class=\"xref py py-obj docutils literal notranslate\"><span class=\"pre\">sample</span></code></a>([n,&nbsp;frac,&nbsp;replace,&nbsp;weights,&nbsp;...])</p></td>\n",
    "<td><p>Return a random sample of items from an axis of object.</p></td>\n",
    "</tr>\n",
    "<tr class=\"row-odd\"><td><p><a class=\"reference internal\" href=\"pandas.Series.searchsorted.html#pandas.Series.searchsorted\" title=\"pandas.Series.searchsorted\"><code class=\"xref py py-obj docutils literal notranslate\"><span class=\"pre\">searchsorted</span></code></a>(value[,&nbsp;side,&nbsp;sorter])</p></td>\n",
    "<td><p>Find indices where elements should be inserted to maintain order.</p></td>\n",
    "</tr>\n",
    "<tr class=\"row-even\"><td><p><a class=\"reference internal\" href=\"pandas.Series.sem.html#pandas.Series.sem\" title=\"pandas.Series.sem\"><code class=\"xref py py-obj docutils literal notranslate\"><span class=\"pre\">sem</span></code></a>([axis,&nbsp;skipna,&nbsp;level,&nbsp;ddof,&nbsp;numeric_only])</p></td>\n",
    "<td><p>Return unbiased standard error of the mean over requested axis.</p></td>\n",
    "</tr>\n",
    "<tr class=\"row-odd\"><td><p><a class=\"reference internal\" href=\"pandas.Series.set_axis.html#pandas.Series.set_axis\" title=\"pandas.Series.set_axis\"><code class=\"xref py py-obj docutils literal notranslate\"><span class=\"pre\">set_axis</span></code></a>(labels[,&nbsp;axis,&nbsp;inplace,&nbsp;copy])</p></td>\n",
    "<td><p>Assign desired index to given axis.</p></td>\n",
    "</tr>\n",
    "<tr class=\"row-even\"><td><p><a class=\"reference internal\" href=\"pandas.Series.set_flags.html#pandas.Series.set_flags\" title=\"pandas.Series.set_flags\"><code class=\"xref py py-obj docutils literal notranslate\"><span class=\"pre\">set_flags</span></code></a>(*[,&nbsp;copy,&nbsp;allows_duplicate_labels])</p></td>\n",
    "<td><p>Return a new object with updated flags.</p></td>\n",
    "</tr>\n",
    "<tr class=\"row-odd\"><td><p><a class=\"reference internal\" href=\"pandas.Series.shift.html#pandas.Series.shift\" title=\"pandas.Series.shift\"><code class=\"xref py py-obj docutils literal notranslate\"><span class=\"pre\">shift</span></code></a>([periods,&nbsp;freq,&nbsp;axis,&nbsp;fill_value])</p></td>\n",
    "<td><p>Shift index by desired number of periods with an optional time <cite>freq</cite>.</p></td>\n",
    "</tr>\n",
    "<tr class=\"row-even\"><td><p><a class=\"reference internal\" href=\"pandas.Series.skew.html#pandas.Series.skew\" title=\"pandas.Series.skew\"><code class=\"xref py py-obj docutils literal notranslate\"><span class=\"pre\">skew</span></code></a>([axis,&nbsp;skipna,&nbsp;level,&nbsp;numeric_only])</p></td>\n",
    "<td><p>Return unbiased skew over requested axis.</p></td>\n",
    "</tr>\n",
    "<tr class=\"row-odd\"><td><p><a class=\"reference internal\" href=\"pandas.Series.slice_shift.html#pandas.Series.slice_shift\" title=\"pandas.Series.slice_shift\"><code class=\"xref py py-obj docutils literal notranslate\"><span class=\"pre\">slice_shift</span></code></a>([periods,&nbsp;axis])</p></td>\n",
    "<td><p>(DEPRECATED) Equivalent to <cite>shift</cite> without copying data.</p></td>\n",
    "</tr>\n",
    "<tr class=\"row-even\"><td><p><a class=\"reference internal\" href=\"pandas.Series.sort_index.html#pandas.Series.sort_index\" title=\"pandas.Series.sort_index\"><code class=\"xref py py-obj docutils literal notranslate\"><span class=\"pre\">sort_index</span></code></a>([axis,&nbsp;level,&nbsp;ascending,&nbsp;...])</p></td>\n",
    "<td><p>Sort Series by index labels.</p></td>\n",
    "</tr>\n",
    "<tr class=\"row-odd\"><td><p><a class=\"reference internal\" href=\"pandas.Series.sort_values.html#pandas.Series.sort_values\" title=\"pandas.Series.sort_values\"><code class=\"xref py py-obj docutils literal notranslate\"><span class=\"pre\">sort_values</span></code></a>([axis,&nbsp;ascending,&nbsp;inplace,&nbsp;...])</p></td>\n",
    "<td><p>Sort by the values.</p></td>\n",
    "</tr>\n",
    "<tr class=\"row-even\"><td><p><a class=\"reference internal\" href=\"pandas.Series.sparse.html#pandas.Series.sparse\" title=\"pandas.Series.sparse\"><code class=\"xref py py-obj docutils literal notranslate\"><span class=\"pre\">sparse</span></code></a></p></td>\n",
    "<td><p>alias of <code class=\"xref py py-class docutils literal notranslate\"><span class=\"pre\">pandas.core.arrays.sparse.accessor.SparseAccessor</span></code></p></td>\n",
    "</tr>\n",
    "<tr class=\"row-odd\"><td><p><a class=\"reference internal\" href=\"pandas.Series.squeeze.html#pandas.Series.squeeze\" title=\"pandas.Series.squeeze\"><code class=\"xref py py-obj docutils literal notranslate\"><span class=\"pre\">squeeze</span></code></a>([axis])</p></td>\n",
    "<td><p>Squeeze 1 dimensional axis objects into scalars.</p></td>\n",
    "</tr>\n",
    "<tr class=\"row-even\"><td><p><a class=\"reference internal\" href=\"pandas.Series.std.html#pandas.Series.std\" title=\"pandas.Series.std\"><code class=\"xref py py-obj docutils literal notranslate\"><span class=\"pre\">std</span></code></a>([axis,&nbsp;skipna,&nbsp;level,&nbsp;ddof,&nbsp;numeric_only])</p></td>\n",
    "<td><p>Return sample standard deviation over requested axis.</p></td>\n",
    "</tr>\n",
    "<tr class=\"row-odd\"><td><p><a class=\"reference internal\" href=\"pandas.Series.str.html#pandas.Series.str\" title=\"pandas.Series.str\"><code class=\"xref py py-obj docutils literal notranslate\"><span class=\"pre\">str</span></code></a></p></td>\n",
    "<td><p>alias of <code class=\"xref py py-class docutils literal notranslate\"><span class=\"pre\">pandas.core.strings.accessor.StringMethods</span></code></p></td>\n",
    "</tr>\n",
    "<tr class=\"row-even\"><td><p><a class=\"reference internal\" href=\"pandas.Series.sub.html#pandas.Series.sub\" title=\"pandas.Series.sub\"><code class=\"xref py py-obj docutils literal notranslate\"><span class=\"pre\">sub</span></code></a>(other[,&nbsp;level,&nbsp;fill_value,&nbsp;axis])</p></td>\n",
    "<td><p>Return Subtraction of series and other, element-wise (binary operator <cite>sub</cite>).</p></td>\n",
    "</tr>\n",
    "<tr class=\"row-odd\"><td><p><a class=\"reference internal\" href=\"pandas.Series.subtract.html#pandas.Series.subtract\" title=\"pandas.Series.subtract\"><code class=\"xref py py-obj docutils literal notranslate\"><span class=\"pre\">subtract</span></code></a>(other[,&nbsp;level,&nbsp;fill_value,&nbsp;axis])</p></td>\n",
    "<td><p>Return Subtraction of series and other, element-wise (binary operator <cite>sub</cite>).</p></td>\n",
    "</tr>\n",
    "<tr class=\"row-even\"><td><p><a class=\"reference internal\" href=\"pandas.Series.sum.html#pandas.Series.sum\" title=\"pandas.Series.sum\"><code class=\"xref py py-obj docutils literal notranslate\"><span class=\"pre\">sum</span></code></a>([axis,&nbsp;skipna,&nbsp;level,&nbsp;numeric_only,&nbsp;...])</p></td>\n",
    "<td><p>Return the sum of the values over the requested axis.</p></td>\n",
    "</tr>\n",
    "<tr class=\"row-odd\"><td><p><a class=\"reference internal\" href=\"pandas.Series.swapaxes.html#pandas.Series.swapaxes\" title=\"pandas.Series.swapaxes\"><code class=\"xref py py-obj docutils literal notranslate\"><span class=\"pre\">swapaxes</span></code></a>(axis1,&nbsp;axis2[,&nbsp;copy])</p></td>\n",
    "<td><p>Interchange axes and swap values axes appropriately.</p></td>\n",
    "</tr>\n",
    "<tr class=\"row-even\"><td><p><a class=\"reference internal\" href=\"pandas.Series.swaplevel.html#pandas.Series.swaplevel\" title=\"pandas.Series.swaplevel\"><code class=\"xref py py-obj docutils literal notranslate\"><span class=\"pre\">swaplevel</span></code></a>([i,&nbsp;j,&nbsp;copy])</p></td>\n",
    "<td><p>Swap levels i and j in a <a class=\"reference internal\" href=\"pandas.MultiIndex.html#pandas.MultiIndex\" title=\"pandas.MultiIndex\"><code class=\"xref py py-class docutils literal notranslate\"><span class=\"pre\">MultiIndex</span></code></a>.</p></td>\n",
    "</tr>\n",
    "<tr class=\"row-odd\"><td><p><a class=\"reference internal\" href=\"pandas.Series.tail.html#pandas.Series.tail\" title=\"pandas.Series.tail\"><code class=\"xref py py-obj docutils literal notranslate\"><span class=\"pre\">tail</span></code></a>([n])</p></td>\n",
    "<td><p>Return the last <cite>n</cite> rows.</p></td>\n",
    "</tr>\n",
    "<tr class=\"row-even\"><td><p><a class=\"reference internal\" href=\"pandas.Series.take.html#pandas.Series.take\" title=\"pandas.Series.take\"><code class=\"xref py py-obj docutils literal notranslate\"><span class=\"pre\">take</span></code></a>(indices[,&nbsp;axis,&nbsp;is_copy])</p></td>\n",
    "<td><p>Return the elements in the given <em>positional</em> indices along an axis.</p></td>\n",
    "</tr>\n",
    "<tr class=\"row-odd\"><td><p><a class=\"reference internal\" href=\"pandas.Series.to_clipboard.html#pandas.Series.to_clipboard\" title=\"pandas.Series.to_clipboard\"><code class=\"xref py py-obj docutils literal notranslate\"><span class=\"pre\">to_clipboard</span></code></a>([excel,&nbsp;sep])</p></td>\n",
    "<td><p>Copy object to the system clipboard.</p></td>\n",
    "</tr>\n",
    "<tr class=\"row-even\"><td><p><a class=\"reference internal\" href=\"pandas.Series.to_csv.html#pandas.Series.to_csv\" title=\"pandas.Series.to_csv\"><code class=\"xref py py-obj docutils literal notranslate\"><span class=\"pre\">to_csv</span></code></a>([path_or_buf,&nbsp;sep,&nbsp;na_rep,&nbsp;...])</p></td>\n",
    "<td><p>Write object to a comma-separated values (csv) file.</p></td>\n",
    "</tr>\n",
    "<tr class=\"row-odd\"><td><p><a class=\"reference internal\" href=\"pandas.Series.to_dict.html#pandas.Series.to_dict\" title=\"pandas.Series.to_dict\"><code class=\"xref py py-obj docutils literal notranslate\"><span class=\"pre\">to_dict</span></code></a>([into])</p></td>\n",
    "<td><p>Convert Series to {label -&gt; value} dict or dict-like object.</p></td>\n",
    "</tr>\n",
    "<tr class=\"row-even\"><td><p><a class=\"reference internal\" href=\"pandas.Series.to_excel.html#pandas.Series.to_excel\" title=\"pandas.Series.to_excel\"><code class=\"xref py py-obj docutils literal notranslate\"><span class=\"pre\">to_excel</span></code></a>(excel_writer[,&nbsp;sheet_name,&nbsp;na_rep,&nbsp;...])</p></td>\n",
    "<td><p>Write object to an Excel sheet.</p></td>\n",
    "</tr>\n",
    "<tr class=\"row-odd\"><td><p><a class=\"reference internal\" href=\"pandas.Series.to_frame.html#pandas.Series.to_frame\" title=\"pandas.Series.to_frame\"><code class=\"xref py py-obj docutils literal notranslate\"><span class=\"pre\">to_frame</span></code></a>([name])</p></td>\n",
    "<td><p>Convert Series to DataFrame.</p></td>\n",
    "</tr>\n",
    "<tr class=\"row-even\"><td><p><a class=\"reference internal\" href=\"pandas.Series.to_hdf.html#pandas.Series.to_hdf\" title=\"pandas.Series.to_hdf\"><code class=\"xref py py-obj docutils literal notranslate\"><span class=\"pre\">to_hdf</span></code></a>(path_or_buf,&nbsp;key[,&nbsp;mode,&nbsp;complevel,&nbsp;...])</p></td>\n",
    "<td><p>Write the contained data to an HDF5 file using HDFStore.</p></td>\n",
    "</tr>\n",
    "<tr class=\"row-odd\"><td><p><a class=\"reference internal\" href=\"pandas.Series.to_json.html#pandas.Series.to_json\" title=\"pandas.Series.to_json\"><code class=\"xref py py-obj docutils literal notranslate\"><span class=\"pre\">to_json</span></code></a>([path_or_buf,&nbsp;orient,&nbsp;date_format,&nbsp;...])</p></td>\n",
    "<td><p>Convert the object to a JSON string.</p></td>\n",
    "</tr>\n",
    "<tr class=\"row-even\"><td><p><a class=\"reference internal\" href=\"pandas.Series.to_latex.html#pandas.Series.to_latex\" title=\"pandas.Series.to_latex\"><code class=\"xref py py-obj docutils literal notranslate\"><span class=\"pre\">to_latex</span></code></a>([buf,&nbsp;columns,&nbsp;col_space,&nbsp;header,&nbsp;...])</p></td>\n",
    "<td><p>Render object to a LaTeX tabular, longtable, or nested table.</p></td>\n",
    "</tr>\n",
    "<tr class=\"row-odd\"><td><p><a class=\"reference internal\" href=\"pandas.Series.to_list.html#pandas.Series.to_list\" title=\"pandas.Series.to_list\"><code class=\"xref py py-obj docutils literal notranslate\"><span class=\"pre\">to_list</span></code></a>()</p></td>\n",
    "<td><p>Return a list of the values.</p></td>\n",
    "</tr>\n",
    "<tr class=\"row-even\"><td><p><a class=\"reference internal\" href=\"pandas.Series.to_markdown.html#pandas.Series.to_markdown\" title=\"pandas.Series.to_markdown\"><code class=\"xref py py-obj docutils literal notranslate\"><span class=\"pre\">to_markdown</span></code></a>([buf,&nbsp;mode,&nbsp;index,&nbsp;storage_options])</p></td>\n",
    "<td><p>Print Series in Markdown-friendly format.</p></td>\n",
    "</tr>\n",
    "<tr class=\"row-odd\"><td><p><a class=\"reference internal\" href=\"pandas.Series.to_numpy.html#pandas.Series.to_numpy\" title=\"pandas.Series.to_numpy\"><code class=\"xref py py-obj docutils literal notranslate\"><span class=\"pre\">to_numpy</span></code></a>([dtype,&nbsp;copy,&nbsp;na_value])</p></td>\n",
    "<td><p>A NumPy ndarray representing the values in this Series or Index.</p></td>\n",
    "</tr>\n",
    "<tr class=\"row-even\"><td><p><a class=\"reference internal\" href=\"pandas.Series.to_period.html#pandas.Series.to_period\" title=\"pandas.Series.to_period\"><code class=\"xref py py-obj docutils literal notranslate\"><span class=\"pre\">to_period</span></code></a>([freq,&nbsp;copy])</p></td>\n",
    "<td><p>Convert Series from DatetimeIndex to PeriodIndex.</p></td>\n",
    "</tr>\n",
    "<tr class=\"row-odd\"><td><p><a class=\"reference internal\" href=\"pandas.Series.to_pickle.html#pandas.Series.to_pickle\" title=\"pandas.Series.to_pickle\"><code class=\"xref py py-obj docutils literal notranslate\"><span class=\"pre\">to_pickle</span></code></a>(path[,&nbsp;compression,&nbsp;protocol,&nbsp;...])</p></td>\n",
    "<td><p>Pickle (serialize) object to file.</p></td>\n",
    "</tr>\n",
    "<tr class=\"row-even\"><td><p><a class=\"reference internal\" href=\"pandas.Series.to_sql.html#pandas.Series.to_sql\" title=\"pandas.Series.to_sql\"><code class=\"xref py py-obj docutils literal notranslate\"><span class=\"pre\">to_sql</span></code></a>(name,&nbsp;con[,&nbsp;schema,&nbsp;if_exists,&nbsp;...])</p></td>\n",
    "<td><p>Write records stored in a DataFrame to a SQL database.</p></td>\n",
    "</tr>\n",
    "<tr class=\"row-odd\"><td><p><a class=\"reference internal\" href=\"pandas.Series.to_string.html#pandas.Series.to_string\" title=\"pandas.Series.to_string\"><code class=\"xref py py-obj docutils literal notranslate\"><span class=\"pre\">to_string</span></code></a>([buf,&nbsp;na_rep,&nbsp;float_format,&nbsp;...])</p></td>\n",
    "<td><p>Render a string representation of the Series.</p></td>\n",
    "</tr>\n",
    "<tr class=\"row-even\"><td><p><a class=\"reference internal\" href=\"pandas.Series.to_timestamp.html#pandas.Series.to_timestamp\" title=\"pandas.Series.to_timestamp\"><code class=\"xref py py-obj docutils literal notranslate\"><span class=\"pre\">to_timestamp</span></code></a>([freq,&nbsp;how,&nbsp;copy])</p></td>\n",
    "<td><p>Cast to DatetimeIndex of Timestamps, at <em>beginning</em> of period.</p></td>\n",
    "</tr>\n",
    "<tr class=\"row-odd\"><td><p><a class=\"reference internal\" href=\"pandas.Series.to_xarray.html#pandas.Series.to_xarray\" title=\"pandas.Series.to_xarray\"><code class=\"xref py py-obj docutils literal notranslate\"><span class=\"pre\">to_xarray</span></code></a>()</p></td>\n",
    "<td><p>Return an xarray object from the pandas object.</p></td>\n",
    "</tr>\n",
    "<tr class=\"row-even\"><td><p><a class=\"reference internal\" href=\"pandas.Series.tolist.html#pandas.Series.tolist\" title=\"pandas.Series.tolist\"><code class=\"xref py py-obj docutils literal notranslate\"><span class=\"pre\">tolist</span></code></a>()</p></td>\n",
    "<td><p>Return a list of the values.</p></td>\n",
    "</tr>\n",
    "<tr class=\"row-odd\"><td><p><a class=\"reference internal\" href=\"pandas.Series.transform.html#pandas.Series.transform\" title=\"pandas.Series.transform\"><code class=\"xref py py-obj docutils literal notranslate\"><span class=\"pre\">transform</span></code></a>(func[,&nbsp;axis])</p></td>\n",
    "<td><p>Call <code class=\"docutils literal notranslate\"><span class=\"pre\">func</span></code> on self producing a Series with the same axis shape as self.</p></td>\n",
    "</tr>\n",
    "<tr class=\"row-even\"><td><p><a class=\"reference internal\" href=\"pandas.Series.transpose.html#pandas.Series.transpose\" title=\"pandas.Series.transpose\"><code class=\"xref py py-obj docutils literal notranslate\"><span class=\"pre\">transpose</span></code></a>(*args,&nbsp;**kwargs)</p></td>\n",
    "<td><p>Return the transpose, which is by definition self.</p></td>\n",
    "</tr>\n",
    "<tr class=\"row-odd\"><td><p><a class=\"reference internal\" href=\"pandas.Series.truediv.html#pandas.Series.truediv\" title=\"pandas.Series.truediv\"><code class=\"xref py py-obj docutils literal notranslate\"><span class=\"pre\">truediv</span></code></a>(other[,&nbsp;level,&nbsp;fill_value,&nbsp;axis])</p></td>\n",
    "<td><p>Return Floating division of series and other, element-wise (binary operator <cite>truediv</cite>).</p></td>\n",
    "</tr>\n",
    "<tr class=\"row-even\"><td><p><a class=\"reference internal\" href=\"pandas.Series.truncate.html#pandas.Series.truncate\" title=\"pandas.Series.truncate\"><code class=\"xref py py-obj docutils literal notranslate\"><span class=\"pre\">truncate</span></code></a>([before,&nbsp;after,&nbsp;axis,&nbsp;copy])</p></td>\n",
    "<td><p>Truncate a Series or DataFrame before and after some index value.</p></td>\n",
    "</tr>\n",
    "<tr class=\"row-odd\"><td><p><a class=\"reference internal\" href=\"pandas.Series.tshift.html#pandas.Series.tshift\" title=\"pandas.Series.tshift\"><code class=\"xref py py-obj docutils literal notranslate\"><span class=\"pre\">tshift</span></code></a>([periods,&nbsp;freq,&nbsp;axis])</p></td>\n",
    "<td><p>(DEPRECATED) Shift the time index, using the index's frequency if available.</p></td>\n",
    "</tr>\n",
    "<tr class=\"row-even\"><td><p><a class=\"reference internal\" href=\"pandas.Series.tz_convert.html#pandas.Series.tz_convert\" title=\"pandas.Series.tz_convert\"><code class=\"xref py py-obj docutils literal notranslate\"><span class=\"pre\">tz_convert</span></code></a>(tz[,&nbsp;axis,&nbsp;level,&nbsp;copy])</p></td>\n",
    "<td><p>Convert tz-aware axis to target time zone.</p></td>\n",
    "</tr>\n",
    "<tr class=\"row-odd\"><td><p><a class=\"reference internal\" href=\"pandas.Series.tz_localize.html#pandas.Series.tz_localize\" title=\"pandas.Series.tz_localize\"><code class=\"xref py py-obj docutils literal notranslate\"><span class=\"pre\">tz_localize</span></code></a>(tz[,&nbsp;axis,&nbsp;level,&nbsp;copy,&nbsp;...])</p></td>\n",
    "<td><p>Localize tz-naive index of a Series or DataFrame to target time zone.</p></td>\n",
    "</tr>\n",
    "<tr class=\"row-even\"><td><p><a class=\"reference internal\" href=\"pandas.Series.unique.html#pandas.Series.unique\" title=\"pandas.Series.unique\"><code class=\"xref py py-obj docutils literal notranslate\"><span class=\"pre\">unique</span></code></a>()</p></td>\n",
    "<td><p>Return unique values of Series object.</p></td>\n",
    "</tr>\n",
    "<tr class=\"row-odd\"><td><p><a class=\"reference internal\" href=\"pandas.Series.unstack.html#pandas.Series.unstack\" title=\"pandas.Series.unstack\"><code class=\"xref py py-obj docutils literal notranslate\"><span class=\"pre\">unstack</span></code></a>([level,&nbsp;fill_value])</p></td>\n",
    "<td><p>Unstack, also known as pivot, Series with MultiIndex to produce DataFrame.</p></td>\n",
    "</tr>\n",
    "<tr class=\"row-even\"><td><p><a class=\"reference internal\" href=\"pandas.Series.update.html#pandas.Series.update\" title=\"pandas.Series.update\"><code class=\"xref py py-obj docutils literal notranslate\"><span class=\"pre\">update</span></code></a>(other)</p></td>\n",
    "<td><p>Modify Series in place using values from passed Series.</p></td>\n",
    "</tr>\n",
    "<tr class=\"row-odd\"><td><p><a class=\"reference internal\" href=\"pandas.Series.value_counts.html#pandas.Series.value_counts\" title=\"pandas.Series.value_counts\"><code class=\"xref py py-obj docutils literal notranslate\"><span class=\"pre\">value_counts</span></code></a>([normalize,&nbsp;sort,&nbsp;ascending,&nbsp;...])</p></td>\n",
    "<td><p>Return a Series containing counts of unique values.</p></td>\n",
    "</tr>\n",
    "<tr class=\"row-even\"><td><p><a class=\"reference internal\" href=\"pandas.Series.var.html#pandas.Series.var\" title=\"pandas.Series.var\"><code class=\"xref py py-obj docutils literal notranslate\"><span class=\"pre\">var</span></code></a>([axis,&nbsp;skipna,&nbsp;level,&nbsp;ddof,&nbsp;numeric_only])</p></td>\n",
    "<td><p>Return unbiased variance over requested axis.</p></td>\n",
    "</tr>\n",
    "<tr class=\"row-odd\"><td><p><a class=\"reference internal\" href=\"pandas.Series.view.html#pandas.Series.view\" title=\"pandas.Series.view\"><code class=\"xref py py-obj docutils literal notranslate\"><span class=\"pre\">view</span></code></a>([dtype])</p></td>\n",
    "<td><p>Create a new view of the Series.</p></td>\n",
    "</tr>\n",
    "<tr class=\"row-even\"><td><p><a class=\"reference internal\" href=\"pandas.Series.where.html#pandas.Series.where\" title=\"pandas.Series.where\"><code class=\"xref py py-obj docutils literal notranslate\"><span class=\"pre\">where</span></code></a>(cond[,&nbsp;other,&nbsp;inplace,&nbsp;axis,&nbsp;level,&nbsp;...])</p></td>\n",
    "<td><p>Replace values where the condition is False.</p></td>\n",
    "</tr>\n",
    "<tr class=\"row-odd\"><td><p><a class=\"reference internal\" href=\"pandas.Series.xs.html#pandas.Series.xs\" title=\"pandas.Series.xs\"><code class=\"xref py py-obj docutils literal notranslate\"><span class=\"pre\">xs</span></code></a>(key[,&nbsp;axis,&nbsp;level,&nbsp;drop_level])</p></td>\n",
    "<td><p>Return cross-section from the Series/DataFrame.</p></td>\n",
    "</tr>\n",
    "</tbody>\n",
    "</table>\n",
    "</dd>"
   ]
  },
  {
   "cell_type": "markdown",
   "id": "3ae17bc9",
   "metadata": {
    "papermill": {
     "duration": 0.045267,
     "end_time": "2022-09-26T07:48:32.616922",
     "exception": false,
     "start_time": "2022-09-26T07:48:32.571655",
     "status": "completed"
    },
    "tags": []
   },
   "source": [
    "### Accessing Element from Series with Position : \n",
    "- In order to access the series element refers to the index number. Use the index operator [ ] to access an element in a series. The index must be an integer. In order to access multiple elements from a series, we use Slice operation.\n"
   ]
  },
  {
   "cell_type": "code",
   "execution_count": 12,
   "id": "5cffb343",
   "metadata": {
    "execution": {
     "iopub.execute_input": "2022-09-26T07:48:32.709449Z",
     "iopub.status.busy": "2022-09-26T07:48:32.708291Z",
     "iopub.status.idle": "2022-09-26T07:48:32.715731Z",
     "shell.execute_reply": "2022-09-26T07:48:32.714711Z"
    },
    "papermill": {
     "duration": 0.055931,
     "end_time": "2022-09-26T07:48:32.718320",
     "exception": false,
     "start_time": "2022-09-26T07:48:32.662389",
     "status": "completed"
    },
    "tags": []
   },
   "outputs": [
    {
     "name": "stdout",
     "output_type": "stream",
     "text": [
      "Series element at index 3 :\n",
      "\n",
      " 4.0 \n",
      "\n",
      "Type of element:  <class 'numpy.float64'>\n",
      "\n",
      "Series element at index 11 to 14 :\n",
      "\n",
      " 11    5.4\n",
      "12    3.2\n",
      "Name: Series_s2, dtype: float64 \n",
      "\n",
      "Type of element:  <class 'pandas.core.series.Series'>\n"
     ]
    }
   ],
   "source": [
    "# Acessing element of the Series\n",
    "print(\"Series element at index 3 :\\n\\n\",s2[3],\"\\n\\nType of element: \",type(s2[3]))\n",
    "print(\"\\nSeries element at index 11 to 14 :\\n\\n\",s2[11:14],\"\\n\\nType of element: \",type(s2[11:14]))"
   ]
  },
  {
   "cell_type": "markdown",
   "id": "2ea479c2",
   "metadata": {
    "papermill": {
     "duration": 0.045526,
     "end_time": "2022-09-26T07:48:32.809932",
     "exception": false,
     "start_time": "2022-09-26T07:48:32.764406",
     "status": "completed"
    },
    "tags": []
   },
   "source": [
    "### Accessing Element Using Label (index) :\n",
    "- In order to access an element from series, we have to set values by index label. A Series is like a fixed-size dictionary in that you can get and set values by index label.\n",
    "\n"
   ]
  },
  {
   "cell_type": "code",
   "execution_count": 13,
   "id": "81799ece",
   "metadata": {
    "execution": {
     "iopub.execute_input": "2022-09-26T07:48:32.904337Z",
     "iopub.status.busy": "2022-09-26T07:48:32.903263Z",
     "iopub.status.idle": "2022-09-26T07:48:32.909894Z",
     "shell.execute_reply": "2022-09-26T07:48:32.908517Z"
    },
    "papermill": {
     "duration": 0.056176,
     "end_time": "2022-09-26T07:48:32.911840",
     "exception": false,
     "start_time": "2022-09-26T07:48:32.855664",
     "status": "completed"
    },
    "tags": []
   },
   "outputs": [
    {
     "name": "stdout",
     "output_type": "stream",
     "text": [
      "Series element at index 3 :\n",
      "\n",
      " Bhawan \n",
      "\n",
      "Type of element:  <class 'str'>\n"
     ]
    }
   ],
   "source": [
    "# Accessing Element Using Label (index) :¶\n",
    "print(\"Series element at index 3 :\\n\\n\",s1[\"First Name\"],\"\\n\\nType of element: \",type(s1[\"First Name\"]))"
   ]
  },
  {
   "cell_type": "markdown",
   "id": "be1bf2d5",
   "metadata": {
    "papermill": {
     "duration": 0.071883,
     "end_time": "2022-09-26T07:48:33.028849",
     "exception": false,
     "start_time": "2022-09-26T07:48:32.956966",
     "status": "completed"
    },
    "tags": []
   },
   "source": [
    "### Indexing and Selecting Data in Series:"
   ]
  },
  {
   "cell_type": "code",
   "execution_count": 14,
   "id": "e1115a6f",
   "metadata": {
    "execution": {
     "iopub.execute_input": "2022-09-26T07:48:33.191965Z",
     "iopub.status.busy": "2022-09-26T07:48:33.191534Z",
     "iopub.status.idle": "2022-09-26T07:48:33.704719Z",
     "shell.execute_reply": "2022-09-26T07:48:33.703509Z"
    },
    "papermill": {
     "duration": 0.589114,
     "end_time": "2022-09-26T07:48:33.707413",
     "exception": false,
     "start_time": "2022-09-26T07:48:33.118299",
     "status": "completed"
    },
    "tags": []
   },
   "outputs": [
    {
     "name": "stdout",
     "output_type": "stream",
     "text": [
      "0     2013\n",
      "1     2015\n",
      "2     2014\n",
      "3     2016\n",
      "4     2014\n",
      "      ... \n",
      "95    2015\n",
      "96    2013\n",
      "97    2015\n",
      "98    2013\n",
      "99    2015\n",
      "Name: Year, Length: 100, dtype: int64\n"
     ]
    }
   ],
   "source": [
    "df = pd.read_csv(\"/kaggle/input/sales-data-practise/sales_data.csv\")  \n",
    "   \n",
    "file_ser = pd.Series(df['Year']) \n",
    "data = file_ser.head(100)      #print first 15 line\n",
    "print(data) "
   ]
  },
  {
   "cell_type": "markdown",
   "id": "a0e3b239",
   "metadata": {
    "papermill": {
     "duration": 0.045088,
     "end_time": "2022-09-26T07:48:33.799957",
     "exception": false,
     "start_time": "2022-09-26T07:48:33.754869",
     "status": "completed"
    },
    "tags": []
   },
   "source": [
    "#### 1.Indexing a Series using indexing operator [] :"
   ]
  },
  {
   "cell_type": "code",
   "execution_count": 15,
   "id": "40be40a1",
   "metadata": {
    "execution": {
     "iopub.execute_input": "2022-09-26T07:48:33.892023Z",
     "iopub.status.busy": "2022-09-26T07:48:33.891662Z",
     "iopub.status.idle": "2022-09-26T07:48:33.897205Z",
     "shell.execute_reply": "2022-09-26T07:48:33.896291Z"
    },
    "papermill": {
     "duration": 0.055075,
     "end_time": "2022-09-26T07:48:33.900397",
     "exception": false,
     "start_time": "2022-09-26T07:48:33.845322",
     "status": "completed"
    },
    "tags": []
   },
   "outputs": [
    {
     "name": "stdout",
     "output_type": "stream",
     "text": [
      "Printing data using index Operator:[From 10 to 30]\n",
      "\n",
      "10    2013\n",
      "11    2015\n",
      "12    2013\n",
      "13    2015\n",
      "14    2013\n",
      "15    2015\n",
      "16    2013\n",
      "17    2015\n",
      "18    2014\n",
      "19    2016\n",
      "20    2014\n",
      "21    2016\n",
      "22    2014\n",
      "23    2016\n",
      "24    2013\n",
      "25    2015\n",
      "26    2013\n",
      "27    2015\n",
      "28    2014\n",
      "29    2016\n",
      "Name: Year, dtype: int64\n"
     ]
    }
   ],
   "source": [
    "#Using index Operator :\n",
    "print(\"Printing data using index Operator:[From 10 to 30]\\n\")\n",
    "print(data[10:30])"
   ]
  },
  {
   "cell_type": "markdown",
   "id": "6f4c8839",
   "metadata": {
    "papermill": {
     "duration": 0.045046,
     "end_time": "2022-09-26T07:48:33.991404",
     "exception": false,
     "start_time": "2022-09-26T07:48:33.946358",
     "status": "completed"
    },
    "tags": []
   },
   "source": [
    "#### 2. Indexing a Series using .loc[ ] :\n",
    "- This function selects data by refering the explicit index . The df.loc indexer selects data in a different way than just the indexing operator. It can select subsets of data."
   ]
  },
  {
   "cell_type": "code",
   "execution_count": 16,
   "id": "d90db205",
   "metadata": {
    "execution": {
     "iopub.execute_input": "2022-09-26T07:48:34.137647Z",
     "iopub.status.busy": "2022-09-26T07:48:34.136992Z",
     "iopub.status.idle": "2022-09-26T07:48:34.145037Z",
     "shell.execute_reply": "2022-09-26T07:48:34.144136Z"
    },
    "papermill": {
     "duration": 0.110471,
     "end_time": "2022-09-26T07:48:34.147123",
     "exception": false,
     "start_time": "2022-09-26T07:48:34.036652",
     "status": "completed"
    },
    "tags": []
   },
   "outputs": [
    {
     "name": "stdout",
     "output_type": "stream",
     "text": [
      "Indexing element Using .loc[]:\n",
      "\n",
      "12    2013\n",
      "13    2015\n",
      "14    2013\n",
      "15    2015\n",
      "16    2013\n",
      "17    2015\n",
      "18    2014\n",
      "19    2016\n",
      "20    2014\n",
      "21    2016\n",
      "22    2014\n",
      "23    2016\n",
      "24    2013\n",
      "25    2015\n",
      "26    2013\n",
      "27    2015\n",
      "28    2014\n",
      "29    2016\n",
      "30    2014\n",
      "31    2016\n",
      "32    2014\n",
      "33    2016\n",
      "34    2013\n",
      "35    2015\n",
      "36    2013\n",
      "37    2015\n",
      "38    2013\n",
      "39    2015\n",
      "40    2014\n",
      "Name: Year, dtype: int64\n"
     ]
    }
   ],
   "source": [
    "#Using .loc[]:\n",
    "print(\"Indexing element Using .loc[]:\\n\")\n",
    "print(data.loc[12:40])"
   ]
  },
  {
   "cell_type": "markdown",
   "id": "8f3d65a2",
   "metadata": {
    "papermill": {
     "duration": 0.045204,
     "end_time": "2022-09-26T07:48:34.239179",
     "exception": false,
     "start_time": "2022-09-26T07:48:34.193975",
     "status": "completed"
    },
    "tags": []
   },
   "source": [
    "#### 3. Indexing a Series using .iloc[ ] :\n",
    "- This function allows us to retrieve data by position. In order to do that, we’ll need to specify the positions of the data that we want. The df.iloc indexer is very similar to df.loc but only uses integer locations to make its selections."
   ]
  },
  {
   "cell_type": "code",
   "execution_count": 17,
   "id": "2692228e",
   "metadata": {
    "execution": {
     "iopub.execute_input": "2022-09-26T07:48:34.331329Z",
     "iopub.status.busy": "2022-09-26T07:48:34.330967Z",
     "iopub.status.idle": "2022-09-26T07:48:34.336534Z",
     "shell.execute_reply": "2022-09-26T07:48:34.335609Z"
    },
    "papermill": {
     "duration": 0.056377,
     "end_time": "2022-09-26T07:48:34.340747",
     "exception": false,
     "start_time": "2022-09-26T07:48:34.284370",
     "status": "completed"
    },
    "tags": []
   },
   "outputs": [
    {
     "name": "stdout",
     "output_type": "stream",
     "text": [
      "Indexing element Using .iloc[]:\n",
      "\n",
      "12    2013\n",
      "13    2015\n",
      "14    2013\n",
      "15    2015\n",
      "16    2013\n",
      "17    2015\n",
      "18    2014\n",
      "19    2016\n",
      "20    2014\n",
      "21    2016\n",
      "22    2014\n",
      "23    2016\n",
      "24    2013\n",
      "25    2015\n",
      "26    2013\n",
      "27    2015\n",
      "28    2014\n",
      "29    2016\n",
      "30    2014\n",
      "31    2016\n",
      "32    2014\n",
      "33    2016\n",
      "34    2013\n",
      "35    2015\n",
      "36    2013\n",
      "37    2015\n",
      "38    2013\n",
      "39    2015\n",
      "Name: Year, dtype: int64\n"
     ]
    }
   ],
   "source": [
    "#Using .iloc[]:\n",
    "print(\"Indexing element Using .iloc[]:\\n\")\n",
    "print(data.iloc[12:40])"
   ]
  },
  {
   "cell_type": "markdown",
   "id": "98ccc307",
   "metadata": {
    "papermill": {
     "duration": 0.045113,
     "end_time": "2022-09-26T07:48:34.431221",
     "exception": false,
     "start_time": "2022-09-26T07:48:34.386108",
     "status": "completed"
    },
    "tags": []
   },
   "source": [
    "### Mathematicals Operation on Series:\n",
    "\n",
    "- **Note:** if value it not present to perform operation it will add **\"NaN\"** (Not a Number)\n",
    "\n",
    "#### Adding Series add() and +:\n"
   ]
  },
  {
   "cell_type": "code",
   "execution_count": 18,
   "id": "97e68682",
   "metadata": {
    "execution": {
     "iopub.execute_input": "2022-09-26T07:48:34.524017Z",
     "iopub.status.busy": "2022-09-26T07:48:34.523684Z",
     "iopub.status.idle": "2022-09-26T07:48:34.530850Z",
     "shell.execute_reply": "2022-09-26T07:48:34.529936Z"
    },
    "papermill": {
     "duration": 0.056646,
     "end_time": "2022-09-26T07:48:34.533246",
     "exception": false,
     "start_time": "2022-09-26T07:48:34.476600",
     "status": "completed"
    },
    "tags": []
   },
   "outputs": [
    {
     "name": "stdout",
     "output_type": "stream",
     "text": [
      "Sample Series 1:\n",
      " 0    19\n",
      "1    19\n",
      "2    49\n",
      "3    49\n",
      "4    47\n",
      "Name: Customer_Age, dtype: int64\n",
      "\n",
      "Sample Series 2:\n",
      " 0    26\n",
      "1    26\n",
      "2    23\n",
      "3    23\n",
      "4    15\n",
      "Name: Day, dtype: int64\n"
     ]
    }
   ],
   "source": [
    "#sample data\n",
    "data = pd.Series(df['Customer_Age']) \n",
    "s1 = data.head(15)      #print first 50 line\n",
    "print(\"Sample Series 1:\\n\",s1.head())\n",
    "\n",
    "#sample1 data\n",
    "data1 = pd.Series(df['Day']) \n",
    "s2 = data1.head(15)      #print first 50 line\n",
    "print(\"\\nSample Series 2:\\n\",s2.head())"
   ]
  },
  {
   "cell_type": "code",
   "execution_count": 19,
   "id": "7f93d493",
   "metadata": {
    "execution": {
     "iopub.execute_input": "2022-09-26T07:48:34.626173Z",
     "iopub.status.busy": "2022-09-26T07:48:34.625568Z",
     "iopub.status.idle": "2022-09-26T07:48:34.631338Z",
     "shell.execute_reply": "2022-09-26T07:48:34.630438Z"
    },
    "papermill": {
     "duration": 0.054674,
     "end_time": "2022-09-26T07:48:34.633895",
     "exception": false,
     "start_time": "2022-09-26T07:48:34.579221",
     "status": "completed"
    },
    "tags": []
   },
   "outputs": [
    {
     "name": "stdout",
     "output_type": "stream",
     "text": [
      "Adding Series with the help of '+' Operator:\n",
      "0     45\n",
      "1     45\n",
      "2     72\n",
      "3     72\n",
      "4     62\n",
      "5     62\n",
      "6     69\n",
      "7     69\n",
      "8     57\n",
      "9     57\n",
      "10    62\n",
      "11    62\n",
      "12    49\n",
      "13    49\n",
      "14    31\n",
      "dtype: int64\n"
     ]
    }
   ],
   "source": [
    "print(\"Adding Series with the help of '+' Operator:\")\n",
    "print(s1+s2)"
   ]
  },
  {
   "cell_type": "code",
   "execution_count": 20,
   "id": "54bdcf23",
   "metadata": {
    "execution": {
     "iopub.execute_input": "2022-09-26T07:48:34.726791Z",
     "iopub.status.busy": "2022-09-26T07:48:34.726457Z",
     "iopub.status.idle": "2022-09-26T07:48:34.732330Z",
     "shell.execute_reply": "2022-09-26T07:48:34.731428Z"
    },
    "papermill": {
     "duration": 0.055388,
     "end_time": "2022-09-26T07:48:34.734821",
     "exception": false,
     "start_time": "2022-09-26T07:48:34.679433",
     "status": "completed"
    },
    "tags": []
   },
   "outputs": [
    {
     "name": "stdout",
     "output_type": "stream",
     "text": [
      "Adding Series with the help of add() Fun:\n",
      "0     45\n",
      "1     45\n",
      "2     72\n",
      "3     72\n",
      "4     62\n",
      "5     62\n",
      "6     69\n",
      "7     69\n",
      "8     57\n",
      "9     57\n",
      "10    62\n",
      "11    62\n",
      "12    49\n",
      "13    49\n",
      "14    31\n",
      "dtype: int64\n"
     ]
    }
   ],
   "source": [
    "print(\"Adding Series with the help of add() Fun:\")\n",
    "#print(pd.Series.add(s1,s2))  Both are the same\n",
    "print(s1.add(s2))\n"
   ]
  },
  {
   "cell_type": "markdown",
   "id": "41d5f5b3",
   "metadata": {
    "papermill": {
     "duration": 0.045997,
     "end_time": "2022-09-26T07:48:34.826825",
     "exception": false,
     "start_time": "2022-09-26T07:48:34.780828",
     "status": "completed"
    },
    "tags": []
   },
   "source": [
    "#### Subtraction with help of '-' and sub():"
   ]
  },
  {
   "cell_type": "code",
   "execution_count": 21,
   "id": "4e72790a",
   "metadata": {
    "execution": {
     "iopub.execute_input": "2022-09-26T07:48:34.920595Z",
     "iopub.status.busy": "2022-09-26T07:48:34.919630Z",
     "iopub.status.idle": "2022-09-26T07:48:34.926561Z",
     "shell.execute_reply": "2022-09-26T07:48:34.925244Z"
    },
    "papermill": {
     "duration": 0.055857,
     "end_time": "2022-09-26T07:48:34.928556",
     "exception": false,
     "start_time": "2022-09-26T07:48:34.872699",
     "status": "completed"
    },
    "tags": []
   },
   "outputs": [
    {
     "name": "stdout",
     "output_type": "stream",
     "text": [
      "Subtract Series with the help of '-' Operator:\n",
      "0     -7\n",
      "1     -7\n",
      "2     26\n",
      "3     26\n",
      "4     32\n",
      "5     32\n",
      "6     25\n",
      "7     25\n",
      "8     13\n",
      "9     13\n",
      "10     2\n",
      "11     2\n",
      "12    19\n",
      "13    19\n",
      "14    27\n",
      "dtype: int64\n"
     ]
    }
   ],
   "source": [
    "print(\"Subtract Series with the help of '-' Operator:\")\n",
    "print(s1-s2)"
   ]
  },
  {
   "cell_type": "code",
   "execution_count": 22,
   "id": "fb31bfe8",
   "metadata": {
    "execution": {
     "iopub.execute_input": "2022-09-26T07:48:35.021292Z",
     "iopub.status.busy": "2022-09-26T07:48:35.020954Z",
     "iopub.status.idle": "2022-09-26T07:48:35.026601Z",
     "shell.execute_reply": "2022-09-26T07:48:35.025678Z"
    },
    "papermill": {
     "duration": 0.055512,
     "end_time": "2022-09-26T07:48:35.029820",
     "exception": false,
     "start_time": "2022-09-26T07:48:34.974308",
     "status": "completed"
    },
    "tags": []
   },
   "outputs": [
    {
     "name": "stdout",
     "output_type": "stream",
     "text": [
      "Subtract Series with the help of sub() Fun:\n",
      "0     -7\n",
      "1     -7\n",
      "2     26\n",
      "3     26\n",
      "4     32\n",
      "5     32\n",
      "6     25\n",
      "7     25\n",
      "8     13\n",
      "9     13\n",
      "10     2\n",
      "11     2\n",
      "12    19\n",
      "13    19\n",
      "14    27\n",
      "dtype: int64\n"
     ]
    }
   ],
   "source": [
    "print(\"Subtract Series with the help of sub() Fun:\")\n",
    "#print(pd.Series.sub(s1,s2))  #Both are the same\n",
    "print(s1.sub(s2))"
   ]
  },
  {
   "cell_type": "markdown",
   "id": "bf88acab",
   "metadata": {
    "papermill": {
     "duration": 0.045902,
     "end_time": "2022-09-26T07:48:35.121438",
     "exception": false,
     "start_time": "2022-09-26T07:48:35.075536",
     "status": "completed"
    },
    "tags": []
   },
   "source": [
    "#### Multiplication with help of '*' and mul():"
   ]
  },
  {
   "cell_type": "code",
   "execution_count": 23,
   "id": "70d3365b",
   "metadata": {
    "execution": {
     "iopub.execute_input": "2022-09-26T07:48:35.217106Z",
     "iopub.status.busy": "2022-09-26T07:48:35.216756Z",
     "iopub.status.idle": "2022-09-26T07:48:35.222771Z",
     "shell.execute_reply": "2022-09-26T07:48:35.221846Z"
    },
    "papermill": {
     "duration": 0.057567,
     "end_time": "2022-09-26T07:48:35.225293",
     "exception": false,
     "start_time": "2022-09-26T07:48:35.167726",
     "status": "completed"
    },
    "tags": []
   },
   "outputs": [
    {
     "name": "stdout",
     "output_type": "stream",
     "text": [
      "Multiply Series with help of '*':\n",
      "0      494\n",
      "1      494\n",
      "2     1127\n",
      "3     1127\n",
      "4      705\n",
      "5      705\n",
      "6     1034\n",
      "7     1034\n",
      "8      770\n",
      "9      770\n",
      "10     960\n",
      "11     960\n",
      "12     510\n",
      "13     510\n",
      "14      58\n",
      "dtype: int64\n"
     ]
    }
   ],
   "source": [
    "print(\"Multiply Series with help of '*':\")\n",
    "print(s1*s2)"
   ]
  },
  {
   "cell_type": "code",
   "execution_count": 24,
   "id": "beb23ca5",
   "metadata": {
    "execution": {
     "iopub.execute_input": "2022-09-26T07:48:35.318000Z",
     "iopub.status.busy": "2022-09-26T07:48:35.317671Z",
     "iopub.status.idle": "2022-09-26T07:48:35.325153Z",
     "shell.execute_reply": "2022-09-26T07:48:35.323465Z"
    },
    "papermill": {
     "duration": 0.056442,
     "end_time": "2022-09-26T07:48:35.327634",
     "exception": false,
     "start_time": "2022-09-26T07:48:35.271192",
     "status": "completed"
    },
    "tags": []
   },
   "outputs": [
    {
     "name": "stdout",
     "output_type": "stream",
     "text": [
      "Multiply Series with help of mul():\n",
      "0      494\n",
      "1      494\n",
      "2     1127\n",
      "3     1127\n",
      "4      705\n",
      "5      705\n",
      "6     1034\n",
      "7     1034\n",
      "8      770\n",
      "9      770\n",
      "10     960\n",
      "11     960\n",
      "12     510\n",
      "13     510\n",
      "14      58\n",
      "dtype: int64\n"
     ]
    }
   ],
   "source": [
    "print(\"Multiply Series with help of mul():\")\n",
    "# pd.series.mul(s1,s2)\n",
    "print(s1.mul(s2))"
   ]
  },
  {
   "cell_type": "markdown",
   "id": "c7334a73",
   "metadata": {
    "papermill": {
     "duration": 0.046306,
     "end_time": "2022-09-26T07:48:35.420094",
     "exception": false,
     "start_time": "2022-09-26T07:48:35.373788",
     "status": "completed"
    },
    "tags": []
   },
   "source": [
    "#### Division with help of '/' and div():"
   ]
  },
  {
   "cell_type": "code",
   "execution_count": 25,
   "id": "06ca4094",
   "metadata": {
    "execution": {
     "iopub.execute_input": "2022-09-26T07:48:35.513828Z",
     "iopub.status.busy": "2022-09-26T07:48:35.513141Z",
     "iopub.status.idle": "2022-09-26T07:48:35.519548Z",
     "shell.execute_reply": "2022-09-26T07:48:35.518311Z"
    },
    "papermill": {
     "duration": 0.056337,
     "end_time": "2022-09-26T07:48:35.522459",
     "exception": false,
     "start_time": "2022-09-26T07:48:35.466122",
     "status": "completed"
    },
    "tags": []
   },
   "outputs": [
    {
     "name": "stdout",
     "output_type": "stream",
     "text": [
      "Dividation of Series with help of '/' Operator:\n",
      "0      0.730769\n",
      "1      0.730769\n",
      "2      2.130435\n",
      "3      2.130435\n",
      "4      3.133333\n",
      "5      3.133333\n",
      "6      2.136364\n",
      "7      2.136364\n",
      "8      1.590909\n",
      "9      1.590909\n",
      "10     1.066667\n",
      "11     1.066667\n",
      "12     2.266667\n",
      "13     2.266667\n",
      "14    14.500000\n",
      "dtype: float64\n"
     ]
    }
   ],
   "source": [
    "print(\"Dividation of Series with help of '/' Operator:\")\n",
    "print(s1/s2)"
   ]
  },
  {
   "cell_type": "code",
   "execution_count": 26,
   "id": "e528fa98",
   "metadata": {
    "execution": {
     "iopub.execute_input": "2022-09-26T07:48:35.617968Z",
     "iopub.status.busy": "2022-09-26T07:48:35.617228Z",
     "iopub.status.idle": "2022-09-26T07:48:35.624015Z",
     "shell.execute_reply": "2022-09-26T07:48:35.623043Z"
    },
    "papermill": {
     "duration": 0.058326,
     "end_time": "2022-09-26T07:48:35.627819",
     "exception": false,
     "start_time": "2022-09-26T07:48:35.569493",
     "status": "completed"
    },
    "tags": []
   },
   "outputs": [
    {
     "name": "stdout",
     "output_type": "stream",
     "text": [
      "Dividation of Series with help of mul() fun:\n",
      "0      0.730769\n",
      "1      0.730769\n",
      "2      2.130435\n",
      "3      2.130435\n",
      "4      3.133333\n",
      "5      3.133333\n",
      "6      2.136364\n",
      "7      2.136364\n",
      "8      1.590909\n",
      "9      1.590909\n",
      "10     1.066667\n",
      "11     1.066667\n",
      "12     2.266667\n",
      "13     2.266667\n",
      "14    14.500000\n",
      "dtype: float64\n"
     ]
    }
   ],
   "source": [
    "print(\"Dividation of Series with help of mul() fun:\")\n",
    "print(s1.div(s2))"
   ]
  },
  {
   "cell_type": "markdown",
   "id": "85fc86b3",
   "metadata": {
    "papermill": {
     "duration": 0.046589,
     "end_time": "2022-09-26T07:48:35.722382",
     "exception": false,
     "start_time": "2022-09-26T07:48:35.675793",
     "status": "completed"
    },
    "tags": []
   },
   "source": [
    "#### Maximum of Series using max():"
   ]
  },
  {
   "cell_type": "code",
   "execution_count": 27,
   "id": "c9c27c8f",
   "metadata": {
    "execution": {
     "iopub.execute_input": "2022-09-26T07:48:35.818332Z",
     "iopub.status.busy": "2022-09-26T07:48:35.817925Z",
     "iopub.status.idle": "2022-09-26T07:48:35.823945Z",
     "shell.execute_reply": "2022-09-26T07:48:35.822991Z"
    },
    "papermill": {
     "duration": 0.056919,
     "end_time": "2022-09-26T07:48:35.826676",
     "exception": false,
     "start_time": "2022-09-26T07:48:35.769757",
     "status": "completed"
    },
    "tags": []
   },
   "outputs": [
    {
     "name": "stdout",
     "output_type": "stream",
     "text": [
      "Maximum of Series: 49\n",
      "Maximum of Series: 30\n"
     ]
    }
   ],
   "source": [
    "print(\"Maximum of Series:\",s1.max())\n",
    "print(\"Maximum of Series:\",s2.max())"
   ]
  },
  {
   "cell_type": "code",
   "execution_count": 28,
   "id": "c9de41d1",
   "metadata": {
    "execution": {
     "iopub.execute_input": "2022-09-26T07:48:35.922331Z",
     "iopub.status.busy": "2022-09-26T07:48:35.922004Z",
     "iopub.status.idle": "2022-09-26T07:48:35.927912Z",
     "shell.execute_reply": "2022-09-26T07:48:35.926977Z"
    },
    "papermill": {
     "duration": 0.056079,
     "end_time": "2022-09-26T07:48:35.930145",
     "exception": false,
     "start_time": "2022-09-26T07:48:35.874066",
     "status": "completed"
    },
    "tags": []
   },
   "outputs": [
    {
     "name": "stdout",
     "output_type": "stream",
     "text": [
      "Index of max S1: 2\n",
      "Index of max S2: 10\n"
     ]
    }
   ],
   "source": [
    "#Give Index of MAXIMUM\n",
    "print(\"Index of max S1:\",s1.idxmax())\n",
    "print(\"Index of max S2:\",s2.idxmax())"
   ]
  },
  {
   "cell_type": "markdown",
   "id": "1e9e62ac",
   "metadata": {
    "papermill": {
     "duration": 0.046311,
     "end_time": "2022-09-26T07:48:36.022647",
     "exception": false,
     "start_time": "2022-09-26T07:48:35.976336",
     "status": "completed"
    },
    "tags": []
   },
   "source": [
    "#### Minimum of Series using min():"
   ]
  },
  {
   "cell_type": "code",
   "execution_count": 29,
   "id": "909430f5",
   "metadata": {
    "execution": {
     "iopub.execute_input": "2022-09-26T07:48:36.119161Z",
     "iopub.status.busy": "2022-09-26T07:48:36.117120Z",
     "iopub.status.idle": "2022-09-26T07:48:36.124524Z",
     "shell.execute_reply": "2022-09-26T07:48:36.123109Z"
    },
    "papermill": {
     "duration": 0.058139,
     "end_time": "2022-09-26T07:48:36.127137",
     "exception": false,
     "start_time": "2022-09-26T07:48:36.068998",
     "status": "completed"
    },
    "tags": []
   },
   "outputs": [
    {
     "name": "stdout",
     "output_type": "stream",
     "text": [
      "Minimum of Series: 19\n",
      "Minimum of Series: 2\n"
     ]
    }
   ],
   "source": [
    "print(\"Minimum of Series:\",s1.min())\n",
    "print(\"Minimum of Series:\",s2.min())"
   ]
  },
  {
   "cell_type": "code",
   "execution_count": 30,
   "id": "ee57951f",
   "metadata": {
    "execution": {
     "iopub.execute_input": "2022-09-26T07:48:36.230706Z",
     "iopub.status.busy": "2022-09-26T07:48:36.229900Z",
     "iopub.status.idle": "2022-09-26T07:48:36.235754Z",
     "shell.execute_reply": "2022-09-26T07:48:36.234747Z"
    },
    "papermill": {
     "duration": 0.056657,
     "end_time": "2022-09-26T07:48:36.238314",
     "exception": false,
     "start_time": "2022-09-26T07:48:36.181657",
     "status": "completed"
    },
    "tags": []
   },
   "outputs": [
    {
     "name": "stdout",
     "output_type": "stream",
     "text": [
      "Index of MIN S1: 0\n",
      "Index of MIN S2: 14\n"
     ]
    }
   ],
   "source": [
    "#Give the index of MINIMUM\n",
    "print(\"Index of MIN S1:\",s1.idxmin())\n",
    "print(\"Index of MIN S2:\",s2.idxmin())"
   ]
  },
  {
   "cell_type": "markdown",
   "id": "3d5707db",
   "metadata": {
    "papermill": {
     "duration": 0.047798,
     "end_time": "2022-09-26T07:48:36.332435",
     "exception": false,
     "start_time": "2022-09-26T07:48:36.284637",
     "status": "completed"
    },
    "tags": []
   },
   "source": [
    "#### Sum of all element: Sum():"
   ]
  },
  {
   "cell_type": "code",
   "execution_count": 31,
   "id": "c56d2488",
   "metadata": {
    "execution": {
     "iopub.execute_input": "2022-09-26T07:48:36.434989Z",
     "iopub.status.busy": "2022-09-26T07:48:36.434606Z",
     "iopub.status.idle": "2022-09-26T07:48:36.440650Z",
     "shell.execute_reply": "2022-09-26T07:48:36.439624Z"
    },
    "papermill": {
     "duration": 0.063094,
     "end_time": "2022-09-26T07:48:36.443603",
     "exception": false,
     "start_time": "2022-09-26T07:48:36.380509",
     "status": "completed"
    },
    "tags": []
   },
   "outputs": [
    {
     "name": "stdout",
     "output_type": "stream",
     "text": [
      "Sum of all element S1: 555\n",
      "Sum of all element S2: 308\n"
     ]
    }
   ],
   "source": [
    "print(\"Sum of all element S1:\",s1.sum())\n",
    "print(\"Sum of all element S2:\",s2.sum())"
   ]
  },
  {
   "cell_type": "markdown",
   "id": "ac2a05f7",
   "metadata": {
    "papermill": {
     "duration": 0.045653,
     "end_time": "2022-09-26T07:48:36.537243",
     "exception": false,
     "start_time": "2022-09-26T07:48:36.491590",
     "status": "completed"
    },
    "tags": []
   },
   "source": [
    "#### Product of all Value:\n",
    "- Return the product of the values over the requested axis.\n",
    "- **Syntex** <h4>Series.prod(axis=None, skipna=True, level=None, numeric_only=None, min_count=0, **kwargs)</h4>"
   ]
  },
  {
   "cell_type": "code",
   "execution_count": 32,
   "id": "dc4495b4",
   "metadata": {
    "execution": {
     "iopub.execute_input": "2022-09-26T07:48:36.632868Z",
     "iopub.status.busy": "2022-09-26T07:48:36.632519Z",
     "iopub.status.idle": "2022-09-26T07:48:36.638335Z",
     "shell.execute_reply": "2022-09-26T07:48:36.637350Z"
    },
    "papermill": {
     "duration": 0.056317,
     "end_time": "2022-09-26T07:48:36.641199",
     "exception": false,
     "start_time": "2022-09-26T07:48:36.584882",
     "status": "completed"
    },
    "tags": []
   },
   "outputs": [
    {
     "name": "stdout",
     "output_type": "stream",
     "text": [
      "Due to data type(int64 require higher) it is giviing wrong value: -1711325169118031872\n",
      "Data type: <class 'numpy.int64'>\n",
      "\n",
      "Product of s2 Sereis: 7633621679112000000\n"
     ]
    }
   ],
   "source": [
    "###Due to data type (int64) it is giving wrong value beacuse product value is very high can't store in int64\n",
    "\n",
    "print(\"Due to data type(int64 require higher) it is giviing wrong value:\",s1.prod())  \n",
    "print(\"Data type:\",type(s1.prod()))\n",
    "\n",
    "print(\"\\nProduct of s2 Sereis:\",s2.prod())"
   ]
  },
  {
   "cell_type": "markdown",
   "id": "c7eb45bd",
   "metadata": {
    "papermill": {
     "duration": 0.047277,
     "end_time": "2022-09-26T07:48:36.736263",
     "exception": false,
     "start_time": "2022-09-26T07:48:36.688986",
     "status": "completed"
    },
    "tags": []
   },
   "source": [
    "#### Mean of Series Value:\n",
    "- Return the mean of the values over the requested axis.\n",
    "- **Syntax** <h4>Series.mean(axis=_NoDefault.no_default, skipna=True, level=None, numeric_only=None, **kwargs)</h4>\n",
    "\n"
   ]
  },
  {
   "cell_type": "code",
   "execution_count": 33,
   "id": "117d1d79",
   "metadata": {
    "execution": {
     "iopub.execute_input": "2022-09-26T07:48:36.900007Z",
     "iopub.status.busy": "2022-09-26T07:48:36.899641Z",
     "iopub.status.idle": "2022-09-26T07:48:36.905666Z",
     "shell.execute_reply": "2022-09-26T07:48:36.904774Z"
    },
    "papermill": {
     "duration": 0.082024,
     "end_time": "2022-09-26T07:48:36.910712",
     "exception": false,
     "start_time": "2022-09-26T07:48:36.828688",
     "status": "completed"
    },
    "tags": []
   },
   "outputs": [
    {
     "name": "stdout",
     "output_type": "stream",
     "text": [
      "Mean of series 1 value: 37.0\n",
      "Mean of series 2 value: 20.533333333333335\n"
     ]
    }
   ],
   "source": [
    "print(\"Mean of series 1 value:\",s1.mean())\n",
    "print(\"Mean of series 2 value:\",s2.mean())"
   ]
  },
  {
   "cell_type": "markdown",
   "id": "525baad4",
   "metadata": {
    "papermill": {
     "duration": 0.067864,
     "end_time": "2022-09-26T07:48:37.049356",
     "exception": false,
     "start_time": "2022-09-26T07:48:36.981492",
     "status": "completed"
    },
    "tags": []
   },
   "source": [
    "#### Power of Series Value:\n",
    "- Return Exponential power of series and other, element-wise (binary operator pow).\n",
    "- **Syntax:** <h4>Series.pow(other, level=None, fill_value=None, axis=0)</h4>"
   ]
  },
  {
   "cell_type": "code",
   "execution_count": 34,
   "id": "dcb70b87",
   "metadata": {
    "execution": {
     "iopub.execute_input": "2022-09-26T07:48:37.192200Z",
     "iopub.status.busy": "2022-09-26T07:48:37.191461Z",
     "iopub.status.idle": "2022-09-26T07:48:37.205938Z",
     "shell.execute_reply": "2022-09-26T07:48:37.205062Z"
    },
    "papermill": {
     "duration": 0.091766,
     "end_time": "2022-09-26T07:48:37.210946",
     "exception": false,
     "start_time": "2022-09-26T07:48:37.119180",
     "status": "completed"
    },
    "tags": []
   },
   "outputs": [
    {
     "name": "stdout",
     "output_type": "stream",
     "text": [
      "Power of Series 1 value:\n",
      " 0      361.0\n",
      "1      361.0\n",
      "2     2401.0\n",
      "3     2401.0\n",
      "4     2209.0\n",
      "5     2209.0\n",
      "6     2209.0\n",
      "7     2209.0\n",
      "8     1225.0\n",
      "9     1225.0\n",
      "10    1024.0\n",
      "11    1024.0\n",
      "12    1156.0\n",
      "13    1156.0\n",
      "14     841.0\n",
      "15       NaN\n",
      "16       NaN\n",
      "dtype: float64\n",
      "\n",
      "Power of Series 2 value:\n",
      " 0     676.0\n",
      "1     676.0\n",
      "2     529.0\n",
      "3     529.0\n",
      "4     225.0\n",
      "5     225.0\n",
      "6     484.0\n",
      "7     484.0\n",
      "8     484.0\n",
      "9     484.0\n",
      "10    900.0\n",
      "11    900.0\n",
      "12    225.0\n",
      "13    225.0\n",
      "14      4.0\n",
      "15      NaN\n",
      "16      NaN\n",
      "dtype: float64\n"
     ]
    }
   ],
   "source": [
    "list1=[2 for i in range(17)]\n",
    "power=pd.Series(list1)\n",
    "\n",
    "#power is series with value 2 as POWER to Series s1.\n",
    "print(\"Power of Series 1 value:\\n\",s1.pow(power)) \n",
    "print(\"\\nPower of Series 2 value:\\n\",s2.pow(power))"
   ]
  },
  {
   "cell_type": "code",
   "execution_count": 35,
   "id": "bd70047d",
   "metadata": {
    "execution": {
     "iopub.execute_input": "2022-09-26T07:48:37.361821Z",
     "iopub.status.busy": "2022-09-26T07:48:37.361379Z",
     "iopub.status.idle": "2022-09-26T07:48:37.377000Z",
     "shell.execute_reply": "2022-09-26T07:48:37.375505Z"
    },
    "papermill": {
     "duration": 0.101816,
     "end_time": "2022-09-26T07:48:37.381368",
     "exception": false,
     "start_time": "2022-09-26T07:48:37.279552",
     "status": "completed"
    },
    "tags": []
   },
   "outputs": [
    {
     "name": "stdout",
     "output_type": "stream",
     "text": [
      "Power of Series 1 value:\n",
      " 0      361.0\n",
      "1      361.0\n",
      "2     2401.0\n",
      "3     2401.0\n",
      "4     2209.0\n",
      "5     2209.0\n",
      "6     2209.0\n",
      "7     2209.0\n",
      "8     1225.0\n",
      "9     1225.0\n",
      "10    1024.0\n",
      "11    1024.0\n",
      "12    1156.0\n",
      "13    1156.0\n",
      "14     841.0\n",
      "15       0.0\n",
      "16       0.0\n",
      "dtype: float64\n",
      "\n",
      "Power of Series 2 value:\n",
      " 0     676.0\n",
      "1     676.0\n",
      "2     529.0\n",
      "3     529.0\n",
      "4     225.0\n",
      "5     225.0\n",
      "6     484.0\n",
      "7     484.0\n",
      "8     484.0\n",
      "9     484.0\n",
      "10    900.0\n",
      "11    900.0\n",
      "12    225.0\n",
      "13    225.0\n",
      "14      4.0\n",
      "15      0.0\n",
      "16      0.0\n",
      "dtype: float64\n"
     ]
    }
   ],
   "source": [
    "# NaN NONE value replacement \n",
    "None_value=0\n",
    "print(\"Power of Series 1 value:\\n\",s1.pow(power,fill_value=None_value)) \n",
    "print(\"\\nPower of Series 2 value:\\n\",s2.pow(power,fill_value=None_value))"
   ]
  },
  {
   "cell_type": "markdown",
   "id": "7a9411f6",
   "metadata": {
    "papermill": {
     "duration": 0.072139,
     "end_time": "2022-09-26T07:48:37.527813",
     "exception": false,
     "start_time": "2022-09-26T07:48:37.455674",
     "status": "completed"
    },
    "tags": []
   },
   "source": [
    "#### Absolute value / abs():\n",
    "- The abs() function is used to get a Series/DataFrame with absolute numeric value of each element.|\n",
    "- This function only applies to elements that are all numeric"
   ]
  },
  {
   "cell_type": "code",
   "execution_count": 36,
   "id": "149113b6",
   "metadata": {
    "execution": {
     "iopub.execute_input": "2022-09-26T07:48:37.674163Z",
     "iopub.status.busy": "2022-09-26T07:48:37.673633Z",
     "iopub.status.idle": "2022-09-26T07:48:37.685588Z",
     "shell.execute_reply": "2022-09-26T07:48:37.684370Z"
    },
    "papermill": {
     "duration": 0.087316,
     "end_time": "2022-09-26T07:48:37.688330",
     "exception": false,
     "start_time": "2022-09-26T07:48:37.601014",
     "status": "completed"
    },
    "tags": []
   },
   "outputs": [
    {
     "name": "stdout",
     "output_type": "stream",
     "text": [
      "Original test Series:\n",
      " 0     -1.0\n",
      "1      3.0\n",
      "2     -4.0\n",
      "3     -4.5\n",
      "4    -10.3\n",
      "5    -90.0\n",
      "6    100.0\n",
      "dtype: float64 \n",
      "\n",
      "Finding absolute value of Series:\n",
      " 0      1.0\n",
      "1      3.0\n",
      "2      4.0\n",
      "3      4.5\n",
      "4     10.3\n",
      "5     90.0\n",
      "6    100.0\n",
      "dtype: float64\n"
     ]
    }
   ],
   "source": [
    "test=pd.Series([-1,3,-4,-4.5,-10.3,-90,100])\n",
    "print(\"Original test Series:\\n\",test,\"\\n\\nFinding absolute value of Series:\\n\",test.abs())"
   ]
  },
  {
   "cell_type": "code",
   "execution_count": 37,
   "id": "9baa934f",
   "metadata": {
    "execution": {
     "iopub.execute_input": "2022-09-26T07:48:37.837128Z",
     "iopub.status.busy": "2022-09-26T07:48:37.836597Z",
     "iopub.status.idle": "2022-09-26T07:48:37.864866Z",
     "shell.execute_reply": "2022-09-26T07:48:37.864046Z"
    },
    "papermill": {
     "duration": 0.105138,
     "end_time": "2022-09-26T07:48:37.867336",
     "exception": false,
     "start_time": "2022-09-26T07:48:37.762198",
     "status": "completed"
    },
    "tags": []
   },
   "outputs": [
    {
     "name": "stdout",
     "output_type": "stream",
     "text": [
      "First it perform '-' Operation and than absolute:\n"
     ]
    },
    {
     "data": {
      "text/html": [
       "<div>\n",
       "<style scoped>\n",
       "    .dataframe tbody tr th:only-of-type {\n",
       "        vertical-align: middle;\n",
       "    }\n",
       "\n",
       "    .dataframe tbody tr th {\n",
       "        vertical-align: top;\n",
       "    }\n",
       "\n",
       "    .dataframe thead th {\n",
       "        text-align: right;\n",
       "    }\n",
       "</style>\n",
       "<table border=\"1\" class=\"dataframe\">\n",
       "  <thead>\n",
       "    <tr style=\"text-align: right;\">\n",
       "      <th></th>\n",
       "      <th>Name</th>\n",
       "      <th>Age</th>\n",
       "      <th>val</th>\n",
       "      <th>ope</th>\n",
       "    </tr>\n",
       "  </thead>\n",
       "  <tbody>\n",
       "    <tr>\n",
       "      <th>0</th>\n",
       "      <td>John</td>\n",
       "      <td>31</td>\n",
       "      <td>98</td>\n",
       "      <td>11</td>\n",
       "    </tr>\n",
       "    <tr>\n",
       "      <th>1</th>\n",
       "      <td>Hari</td>\n",
       "      <td>29</td>\n",
       "      <td>48</td>\n",
       "      <td>39</td>\n",
       "    </tr>\n",
       "    <tr>\n",
       "      <th>2</th>\n",
       "      <td>Peter</td>\n",
       "      <td>57</td>\n",
       "      <td>-80</td>\n",
       "      <td>167</td>\n",
       "    </tr>\n",
       "    <tr>\n",
       "      <th>3</th>\n",
       "      <td>Loani</td>\n",
       "      <td>40</td>\n",
       "      <td>-14</td>\n",
       "      <td>101</td>\n",
       "    </tr>\n",
       "  </tbody>\n",
       "</table>\n",
       "</div>"
      ],
      "text/plain": [
       "    Name  Age  val  ope\n",
       "0   John   31   98   11\n",
       "1   Hari   29   48   39\n",
       "2  Peter   57  -80  167\n",
       "3  Loani   40  -14  101"
      ]
     },
     "execution_count": 37,
     "metadata": {},
     "output_type": "execute_result"
    }
   ],
   "source": [
    "df = pd.DataFrame({'Name': ['John', 'Hari', 'Peter', 'Loani'],\n",
    "                  'Age': [31, 29, 57, 40],\n",
    "                  'val': [98, 48, -80, -14]})\n",
    " \n",
    "\n",
    "print(\"First it perform '-' Operation and than absolute:\")\n",
    "df['ope'] = (df.val - 87).abs() \n",
    "df"
   ]
  },
  {
   "cell_type": "markdown",
   "id": "b8ead6c8",
   "metadata": {
    "papermill": {
     "duration": 0.071614,
     "end_time": "2022-09-26T07:48:38.011923",
     "exception": false,
     "start_time": "2022-09-26T07:48:37.940309",
     "status": "completed"
    },
    "tags": []
   },
   "source": [
    "#### Covariance\n",
    "- Compute covariance with Series, excluding missing values.\n",
    "- **Syntax** <h4>Series.cov(other, min_periods=None, ddof=1)"
   ]
  },
  {
   "cell_type": "code",
   "execution_count": 38,
   "id": "23f9d46c",
   "metadata": {
    "execution": {
     "iopub.execute_input": "2022-09-26T07:48:38.131218Z",
     "iopub.status.busy": "2022-09-26T07:48:38.130862Z",
     "iopub.status.idle": "2022-09-26T07:48:38.138890Z",
     "shell.execute_reply": "2022-09-26T07:48:38.137109Z"
    },
    "papermill": {
     "duration": 0.058842,
     "end_time": "2022-09-26T07:48:38.141637",
     "exception": false,
     "start_time": "2022-09-26T07:48:38.082795",
     "status": "completed"
    },
    "tags": []
   },
   "outputs": [
    {
     "name": "stdout",
     "output_type": "stream",
     "text": [
      "Find covariance of Sereis: -9.857142857142854\n",
      "Find covariance of Sereis: -9.857142857142854\n"
     ]
    }
   ],
   "source": [
    "print(\"Find covariance of Sereis:\",s2.cov(s1))\n",
    "print(\"Find covariance of Sereis:\",s1.cov(s2))"
   ]
  },
  {
   "cell_type": "code",
   "execution_count": 39,
   "id": "c7359a7b",
   "metadata": {
    "execution": {
     "iopub.execute_input": "2022-09-26T07:48:38.239142Z",
     "iopub.status.busy": "2022-09-26T07:48:38.238784Z",
     "iopub.status.idle": "2022-09-26T07:48:38.245831Z",
     "shell.execute_reply": "2022-09-26T07:48:38.244878Z"
    },
    "papermill": {
     "duration": 0.058631,
     "end_time": "2022-09-26T07:48:38.248533",
     "exception": false,
     "start_time": "2022-09-26T07:48:38.189902",
     "status": "completed"
    },
    "tags": []
   },
   "outputs": [
    {
     "name": "stdout",
     "output_type": "stream",
     "text": [
      "By Manually: -9.857142857142856\n"
     ]
    }
   ],
   "source": [
    "# storing average of a\n",
    "av_a = sum(s1)/len(s1)\n",
    " \n",
    "# storing average of b\n",
    "av_b = sum(s2)/len(s2)\n",
    " \n",
    "# finding covariance manually\n",
    "def covarfn(a, b, av_a, av_b):\n",
    "    cov = 0\n",
    " \n",
    "    for i in range(0, len(a)):\n",
    "        cov += (a[i] - av_a) * (b[i] - av_b)\n",
    "    return (cov / (len(a)-1))\n",
    " \n",
    "# calling function\n",
    "cov = covarfn(s1, s2, av_a, av_b)\n",
    "\n",
    "print(\"By Manually:\",cov)"
   ]
  },
  {
   "cell_type": "code",
   "execution_count": 40,
   "id": "c33782b1",
   "metadata": {
    "execution": {
     "iopub.execute_input": "2022-09-26T07:48:38.344854Z",
     "iopub.status.busy": "2022-09-26T07:48:38.343929Z",
     "iopub.status.idle": "2022-09-26T07:48:38.350730Z",
     "shell.execute_reply": "2022-09-26T07:48:38.349492Z"
    },
    "papermill": {
     "duration": 0.058042,
     "end_time": "2022-09-26T07:48:38.353646",
     "exception": false,
     "start_time": "2022-09-26T07:48:38.295604",
     "status": "completed"
    },
    "tags": []
   },
   "outputs": [
    {
     "name": "stdout",
     "output_type": "stream",
     "text": [
      "Find covariance of Sereis: 105.42857142857142\n",
      "Find covariance of Sereis: 51.838095238095235\n"
     ]
    }
   ],
   "source": [
    "print(\"Find covariance of Sereis:\",s1.cov(s1))\n",
    "print(\"Find covariance of Sereis:\",s2.cov(s2))"
   ]
  },
  {
   "cell_type": "markdown",
   "id": "a9fd5af8",
   "metadata": {
    "papermill": {
     "duration": 0.046726,
     "end_time": "2022-09-26T07:48:38.448091",
     "exception": false,
     "start_time": "2022-09-26T07:48:38.401365",
     "status": "completed"
    },
    "tags": []
   },
   "source": [
    "## Attributes Practise:\n",
    "### Python | pandas.Series.is_unique:\n",
    "- Return boolean if values in the object are unique.\n",
    "- **Syntax** <h4>property Series.is_unique[source]</h4>\n"
   ]
  },
  {
   "cell_type": "code",
   "execution_count": 41,
   "id": "2ea22dac",
   "metadata": {
    "execution": {
     "iopub.execute_input": "2022-09-26T07:48:38.544906Z",
     "iopub.status.busy": "2022-09-26T07:48:38.544430Z",
     "iopub.status.idle": "2022-09-26T07:48:38.550817Z",
     "shell.execute_reply": "2022-09-26T07:48:38.549904Z"
    },
    "papermill": {
     "duration": 0.057676,
     "end_time": "2022-09-26T07:48:38.553578",
     "exception": false,
     "start_time": "2022-09-26T07:48:38.495902",
     "status": "completed"
    },
    "tags": []
   },
   "outputs": [
    {
     "name": "stdout",
     "output_type": "stream",
     "text": [
      "Is s1 Unique? False\n",
      "Is s2 Unique? False\n",
      "Is a Unique? True\n"
     ]
    }
   ],
   "source": [
    "print(\"Is s1 Unique?\",s1.is_unique)\n",
    "print(\"Is s2 Unique?\",s2.is_unique)\n",
    "\n",
    "a=pd.Series([1,2,3,4,5,6,7,8,9])\n",
    "print(\"Is a Unique?\",a.is_unique)\n"
   ]
  },
  {
   "cell_type": "markdown",
   "id": "e35608c1",
   "metadata": {
    "papermill": {
     "duration": 0.046557,
     "end_time": "2022-09-26T07:48:38.648877",
     "exception": false,
     "start_time": "2022-09-26T07:48:38.602320",
     "status": "completed"
    },
    "tags": []
   },
   "source": [
    "### Python | pandas.Series.size:\n",
    "- Return the number of elements in the underlying data.\n",
    "- **Syntax** <h4>property Series.size</h4>\n",
    "\n"
   ]
  },
  {
   "cell_type": "code",
   "execution_count": 42,
   "id": "1d329835",
   "metadata": {
    "execution": {
     "iopub.execute_input": "2022-09-26T07:48:38.745541Z",
     "iopub.status.busy": "2022-09-26T07:48:38.745147Z",
     "iopub.status.idle": "2022-09-26T07:48:38.750414Z",
     "shell.execute_reply": "2022-09-26T07:48:38.749517Z"
    },
    "papermill": {
     "duration": 0.056841,
     "end_time": "2022-09-26T07:48:38.753030",
     "exception": false,
     "start_time": "2022-09-26T07:48:38.696189",
     "status": "completed"
    },
    "tags": []
   },
   "outputs": [
    {
     "name": "stdout",
     "output_type": "stream",
     "text": [
      "Size of s1: 15\n",
      "Size of s1: 15\n",
      "Size of s1: 9\n"
     ]
    }
   ],
   "source": [
    "print(\"Size of s1:\",s1.size)\n",
    "print(\"Size of s1:\",s2.size)\n",
    "print(\"Size of s1:\",a.size)"
   ]
  },
  {
   "cell_type": "markdown",
   "id": "24c84588",
   "metadata": {
    "papermill": {
     "duration": 0.048605,
     "end_time": "2022-09-26T07:48:38.850159",
     "exception": false,
     "start_time": "2022-09-26T07:48:38.801554",
     "status": "completed"
    },
    "tags": []
   },
   "source": [
    "#### Python | pandas.Series.name:\n",
    "- Return the name of the Series.\n",
    "- **Syntax** <h4>property Series.name</h4>\n",
    "\n",
    "- FOR RENAME WE USE RENAME ATTRIBUTE"
   ]
  },
  {
   "cell_type": "code",
   "execution_count": 43,
   "id": "d9050399",
   "metadata": {
    "execution": {
     "iopub.execute_input": "2022-09-26T07:48:38.947827Z",
     "iopub.status.busy": "2022-09-26T07:48:38.947447Z",
     "iopub.status.idle": "2022-09-26T07:48:38.953893Z",
     "shell.execute_reply": "2022-09-26T07:48:38.952847Z"
    },
    "papermill": {
     "duration": 0.059817,
     "end_time": "2022-09-26T07:48:38.957917",
     "exception": false,
     "start_time": "2022-09-26T07:48:38.898100",
     "status": "completed"
    },
    "tags": []
   },
   "outputs": [
    {
     "name": "stdout",
     "output_type": "stream",
     "text": [
      "0    19\n",
      "1    19\n",
      "2    49\n",
      "3    49\n",
      "4    47\n",
      "Name: First_Series_S1, dtype: int64\n",
      "\n",
      "0    26\n",
      "1    26\n",
      "2    23\n",
      "3    23\n",
      "4    15\n",
      "Name: Second_Series_S2, dtype: int64\n"
     ]
    }
   ],
   "source": [
    "s1.name=\"First_Series_S1\"\n",
    "s2.name=\"Second_Series_S2\"\n",
    "print(s1.head())\n",
    "print()\n",
    "print(s2.head())"
   ]
  },
  {
   "cell_type": "markdown",
   "id": "3f2f13b2",
   "metadata": {
    "papermill": {
     "duration": 0.047927,
     "end_time": "2022-09-26T07:48:39.053729",
     "exception": false,
     "start_time": "2022-09-26T07:48:39.005802",
     "status": "completed"
    },
    "tags": []
   },
   "source": []
  },
  {
   "cell_type": "code",
   "execution_count": null,
   "id": "1643a939",
   "metadata": {
    "papermill": {
     "duration": 0.050503,
     "end_time": "2022-09-26T07:48:39.152114",
     "exception": false,
     "start_time": "2022-09-26T07:48:39.101611",
     "status": "completed"
    },
    "tags": []
   },
   "outputs": [],
   "source": []
  },
  {
   "cell_type": "markdown",
   "id": "bb0653f4",
   "metadata": {
    "papermill": {
     "duration": 0.055701,
     "end_time": "2022-09-26T07:48:39.264501",
     "exception": false,
     "start_time": "2022-09-26T07:48:39.208800",
     "status": "completed"
    },
    "tags": []
   },
   "source": [
    "## Other Methods Practise:\n",
    "### Python | Pandas Series.combine_first()\n",
    "- Pandas combine_first() method is used to combine two series into one. The result is union of the two series that is in case of Null value in caller series, the value from passed series is taken. In case of both null values at the same index, null is returned at that index.\n",
    "- **Syntax** <h4>Series.combine_first(other)</h4>\n",
    "- Update null elements with value in the same location in ‘other’.\n",
    "\n"
   ]
  },
  {
   "cell_type": "code",
   "execution_count": 44,
   "id": "d454fe9d",
   "metadata": {
    "execution": {
     "iopub.execute_input": "2022-09-26T07:48:39.364637Z",
     "iopub.status.busy": "2022-09-26T07:48:39.364236Z",
     "iopub.status.idle": "2022-09-26T07:48:39.375118Z",
     "shell.execute_reply": "2022-09-26T07:48:39.374067Z"
    },
    "papermill": {
     "duration": 0.064144,
     "end_time": "2022-09-26T07:48:39.378411",
     "exception": false,
     "start_time": "2022-09-26T07:48:39.314267",
     "status": "completed"
    },
    "tags": []
   },
   "outputs": [
    {
     "name": "stdout",
     "output_type": "stream",
     "text": [
      "Series 1: 0    1.0\n",
      "1    2.0\n",
      "2    3.0\n",
      "3    4.0\n",
      "4    5.0\n",
      "5    NaN\n",
      "dtype: float64\n",
      "\n",
      "Series 2: 0    1.0\n",
      "1    2.0\n",
      "2    3.0\n",
      "3    4.0\n",
      "4    5.0\n",
      "5    NaN\n",
      "dtype: float64\n",
      "\n",
      "Combine List 0    1.0\n",
      "1    2.0\n",
      "2    3.0\n",
      "3    4.0\n",
      "4    5.0\n",
      "5    6.0\n",
      "dtype: float64\n",
      "\n",
      "Combine List if both have none value at same place 0    1.0\n",
      "1    2.0\n",
      "2    3.0\n",
      "3    4.0\n",
      "4    5.0\n",
      "5    NaN\n",
      "dtype: float64\n"
     ]
    }
   ],
   "source": [
    "a=pd.Series([1,2,3,4,5,np.nan])\n",
    "b=pd.Series([1,2,3,4,5,6])\n",
    "\n",
    "\n",
    "print(\"Series 1:\",a)\n",
    "print(\"\\nSeries 2:\",a)\n",
    "print(\"\\nCombine List\",a.combine_first(b))\n",
    "print(\"\\nCombine List if both have none value at same place\",a.combine_first(a))\n"
   ]
  },
  {
   "cell_type": "markdown",
   "id": "4903f17a",
   "metadata": {
    "papermill": {
     "duration": 0.046543,
     "end_time": "2022-09-26T07:48:39.474539",
     "exception": false,
     "start_time": "2022-09-26T07:48:39.427996",
     "status": "completed"
    },
    "tags": []
   },
   "source": [
    "### Python | Pandas Series.count():\n",
    "- Return number of non-NA/null observations in the Series.\n",
    "- **Syntax** <h4>Series.count(level=None)[source]\n"
   ]
  },
  {
   "cell_type": "code",
   "execution_count": 45,
   "id": "489e69fb",
   "metadata": {
    "execution": {
     "iopub.execute_input": "2022-09-26T07:48:39.572324Z",
     "iopub.status.busy": "2022-09-26T07:48:39.571353Z",
     "iopub.status.idle": "2022-09-26T07:48:39.578153Z",
     "shell.execute_reply": "2022-09-26T07:48:39.577003Z"
    },
    "papermill": {
     "duration": 0.060182,
     "end_time": "2022-09-26T07:48:39.582064",
     "exception": false,
     "start_time": "2022-09-26T07:48:39.521882",
     "status": "completed"
    },
    "tags": []
   },
   "outputs": [
    {
     "name": "stdout",
     "output_type": "stream",
     "text": [
      "Length of Series: 6\n",
      "Count of Non-NULL(NaN) value: 5\n",
      "Count of NULL value: 1\n"
     ]
    }
   ],
   "source": [
    "print(\"Length of Series:\",len(a))\n",
    "print(\"Count of Non-NULL(NaN) value:\",a.count())\n",
    "print(\"Count of NULL value:\",len(a)-a.count())"
   ]
  },
  {
   "cell_type": "markdown",
   "id": "64199f79",
   "metadata": {
    "papermill": {
     "duration": 0.046883,
     "end_time": "2022-09-26T07:48:39.677848",
     "exception": false,
     "start_time": "2022-09-26T07:48:39.630965",
     "status": "completed"
    },
    "tags": []
   },
   "source": [
    "### Python | pandas.Series.sort_values():\n",
    "- Sort by the values.\n",
    "    - Sort a Series in ascending or descending order by some criterion.\n",
    "- **Syntax** <h4>Series.sort_values(axis=0, ascending=True, inplace=False, kind='quicksort', na_position='last', ignore_index=False, key=None)\n"
   ]
  },
  {
   "cell_type": "code",
   "execution_count": 46,
   "id": "272441ac",
   "metadata": {
    "execution": {
     "iopub.execute_input": "2022-09-26T07:48:39.773290Z",
     "iopub.status.busy": "2022-09-26T07:48:39.772950Z",
     "iopub.status.idle": "2022-09-26T07:48:39.779133Z",
     "shell.execute_reply": "2022-09-26T07:48:39.777983Z"
    },
    "papermill": {
     "duration": 0.058616,
     "end_time": "2022-09-26T07:48:39.783212",
     "exception": false,
     "start_time": "2022-09-26T07:48:39.724596",
     "status": "completed"
    },
    "tags": []
   },
   "outputs": [
    {
     "name": "stdout",
     "output_type": "stream",
     "text": [
      "Sorting values by values of Series:\n",
      " 0     19\n",
      "1     19\n",
      "14    29\n",
      "10    32\n",
      "11    32\n",
      "12    34\n",
      "13    34\n",
      "8     35\n",
      "9     35\n",
      "4     47\n",
      "5     47\n",
      "6     47\n",
      "7     47\n",
      "2     49\n",
      "3     49\n",
      "Name: First_Series_S1, dtype: int64\n"
     ]
    }
   ],
   "source": [
    "print(\"Sorting values by values of Series:\\n\",s1.sort_values(ascending=True))"
   ]
  },
  {
   "cell_type": "code",
   "execution_count": 47,
   "id": "11c82745",
   "metadata": {
    "execution": {
     "iopub.execute_input": "2022-09-26T07:48:39.879560Z",
     "iopub.status.busy": "2022-09-26T07:48:39.879173Z",
     "iopub.status.idle": "2022-09-26T07:48:39.885495Z",
     "shell.execute_reply": "2022-09-26T07:48:39.884534Z"
    },
    "papermill": {
     "duration": 0.057333,
     "end_time": "2022-09-26T07:48:39.888539",
     "exception": false,
     "start_time": "2022-09-26T07:48:39.831206",
     "status": "completed"
    },
    "tags": []
   },
   "outputs": [
    {
     "name": "stdout",
     "output_type": "stream",
     "text": [
      "Sorting values by values of Series:\n",
      " 2     49\n",
      "3     49\n",
      "4     47\n",
      "5     47\n",
      "6     47\n",
      "7     47\n",
      "8     35\n",
      "9     35\n",
      "12    34\n",
      "13    34\n",
      "10    32\n",
      "11    32\n",
      "14    29\n",
      "0     19\n",
      "1     19\n",
      "Name: First_Series_S1, dtype: int64\n"
     ]
    }
   ],
   "source": [
    "print(\"Sorting values by values of Series:\\n\",s1.sort_values(ascending=False))"
   ]
  },
  {
   "cell_type": "markdown",
   "id": "c4c704b4",
   "metadata": {
    "papermill": {
     "duration": 0.046022,
     "end_time": "2022-09-26T07:48:40.023688",
     "exception": false,
     "start_time": "2022-09-26T07:48:39.977666",
     "status": "completed"
    },
    "tags": []
   },
   "source": [
    "- Returns a new Series sorted by label if inplace argument is False, otherwise updates the original series and returns None"
   ]
  },
  {
   "cell_type": "code",
   "execution_count": 48,
   "id": "bcc14ac6",
   "metadata": {
    "execution": {
     "iopub.execute_input": "2022-09-26T07:48:40.119005Z",
     "iopub.status.busy": "2022-09-26T07:48:40.118073Z",
     "iopub.status.idle": "2022-09-26T07:48:40.125017Z",
     "shell.execute_reply": "2022-09-26T07:48:40.123962Z"
    },
    "papermill": {
     "duration": 0.05739,
     "end_time": "2022-09-26T07:48:40.127630",
     "exception": false,
     "start_time": "2022-09-26T07:48:40.070240",
     "status": "completed"
    },
    "tags": []
   },
   "outputs": [
    {
     "name": "stdout",
     "output_type": "stream",
     "text": [
      "Print 'None'(Reason above): None\n",
      "2     49\n",
      "3     49\n",
      "4     47\n",
      "5     47\n",
      "6     47\n",
      "7     47\n",
      "8     35\n",
      "9     35\n",
      "12    34\n",
      "13    34\n",
      "10    32\n",
      "11    32\n",
      "14    29\n",
      "0     19\n",
      "1     19\n",
      "Name: First_Series_S1, dtype: int64\n"
     ]
    }
   ],
   "source": [
    "print(\"Print 'None'(Reason above):\",s1.sort_values(ascending=False,inplace=True))\n",
    "print(s1)"
   ]
  },
  {
   "cell_type": "code",
   "execution_count": 49,
   "id": "8a144eae",
   "metadata": {
    "execution": {
     "iopub.execute_input": "2022-09-26T07:48:40.224285Z",
     "iopub.status.busy": "2022-09-26T07:48:40.223343Z",
     "iopub.status.idle": "2022-09-26T07:48:40.233801Z",
     "shell.execute_reply": "2022-09-26T07:48:40.232028Z"
    },
    "papermill": {
     "duration": 0.060501,
     "end_time": "2022-09-26T07:48:40.235850",
     "exception": false,
     "start_time": "2022-09-26T07:48:40.175349",
     "status": "completed"
    },
    "tags": []
   },
   "outputs": [
    {
     "name": "stdout",
     "output_type": "stream",
     "text": [
      "Sorting values by values of Series:\n",
      " 3    NaN\n",
      "6    NaN\n",
      "0    1.0\n",
      "1    2.0\n",
      "2    3.0\n",
      "5    4.0\n",
      "8    4.0\n",
      "4    5.0\n",
      "7    6.0\n",
      "dtype: float64\n",
      "Sorting values by values of Series:\n",
      " 0    1.0\n",
      "1    2.0\n",
      "2    3.0\n",
      "5    4.0\n",
      "8    4.0\n",
      "4    5.0\n",
      "7    6.0\n",
      "3    NaN\n",
      "6    NaN\n",
      "dtype: float64\n"
     ]
    }
   ],
   "source": [
    "a=pd.Series([1,2,3,np.nan,5,4,np.nan,6,4])\n",
    "print(\"Sorting values by values of Series:\\n\",a.sort_values(ascending=True,na_position='first'))\n",
    "print(\"Sorting values by values of Series:\\n\",a.sort_values(ascending=True,na_position='last'))"
   ]
  },
  {
   "cell_type": "code",
   "execution_count": 50,
   "id": "2057d946",
   "metadata": {
    "execution": {
     "iopub.execute_input": "2022-09-26T07:48:40.332540Z",
     "iopub.status.busy": "2022-09-26T07:48:40.331655Z",
     "iopub.status.idle": "2022-09-26T07:48:40.339127Z",
     "shell.execute_reply": "2022-09-26T07:48:40.337667Z"
    },
    "papermill": {
     "duration": 0.058337,
     "end_time": "2022-09-26T07:48:40.341839",
     "exception": false,
     "start_time": "2022-09-26T07:48:40.283502",
     "status": "completed"
    },
    "tags": []
   },
   "outputs": [
    {
     "name": "stdout",
     "output_type": "stream",
     "text": [
      "Sorting values by values of Series:\n",
      " 3    a\n",
      "1    b\n",
      "4    c\n",
      "2    d\n",
      "0    z\n",
      "dtype: object\n"
     ]
    }
   ],
   "source": [
    "test = pd.Series(['z', 'b', 'd', 'a', 'c'])\n",
    "print(\"Sorting values by values of Series:\\n\",test.sort_values())\n"
   ]
  },
  {
   "cell_type": "code",
   "execution_count": 51,
   "id": "97e88a83",
   "metadata": {
    "execution": {
     "iopub.execute_input": "2022-09-26T07:48:40.437873Z",
     "iopub.status.busy": "2022-09-26T07:48:40.436981Z",
     "iopub.status.idle": "2022-09-26T07:48:40.446310Z",
     "shell.execute_reply": "2022-09-26T07:48:40.444843Z"
    },
    "papermill": {
     "duration": 0.059514,
     "end_time": "2022-09-26T07:48:40.448391",
     "exception": false,
     "start_time": "2022-09-26T07:48:40.388877",
     "status": "completed"
    },
    "tags": []
   },
   "outputs": [
    {
     "name": "stdout",
     "output_type": "stream",
     "text": [
      "Before:\n",
      " 1     B\n",
      "3     D\n",
      "7     F\n",
      "8     I\n",
      "0     a\n",
      "2     c\n",
      "4     e\n",
      "5     g\n",
      "6     h\n",
      "9     j\n",
      "10    k\n",
      "dtype: object\n",
      "\n",
      "After:\n",
      " 0     a\n",
      "1     B\n",
      "2     c\n",
      "3     D\n",
      "4     e\n",
      "7     F\n",
      "5     g\n",
      "6     h\n",
      "8     I\n",
      "9     j\n",
      "10    k\n",
      "dtype: object\n"
     ]
    }
   ],
   "source": [
    "s = pd.Series(['a', 'B', 'c', 'D', 'e','g','h','F','I','j','k',])\n",
    "print(\"Before:\\n\",s.sort_values())\n",
    "print(\"\\nAfter:\\n\",s.sort_values(key=lambda x: x.str.lower()))"
   ]
  },
  {
   "cell_type": "code",
   "execution_count": 52,
   "id": "16d73025",
   "metadata": {
    "execution": {
     "iopub.execute_input": "2022-09-26T07:48:40.544307Z",
     "iopub.status.busy": "2022-09-26T07:48:40.543950Z",
     "iopub.status.idle": "2022-09-26T07:48:40.554099Z",
     "shell.execute_reply": "2022-09-26T07:48:40.553152Z"
    },
    "papermill": {
     "duration": 0.061061,
     "end_time": "2022-09-26T07:48:40.556288",
     "exception": false,
     "start_time": "2022-09-26T07:48:40.495227",
     "status": "completed"
    },
    "tags": []
   },
   "outputs": [
    {
     "data": {
      "text/plain": [
       "1   -2\n",
       "4    4\n",
       "2    0\n",
       "0   -4\n",
       "3    2\n",
       "dtype: int64"
      ]
     },
     "execution_count": 52,
     "metadata": {},
     "output_type": "execute_result"
    }
   ],
   "source": [
    "\"\"\"NumPy ufuncs work well here. For example, we can sort by the sin of the value\"\"\"\n",
    "s = pd.Series([-4, -2, 0, 2, 4])\n",
    "s.sort_values(key=np.sin)"
   ]
  },
  {
   "cell_type": "code",
   "execution_count": 53,
   "id": "8ceed968",
   "metadata": {
    "execution": {
     "iopub.execute_input": "2022-09-26T07:48:40.654444Z",
     "iopub.status.busy": "2022-09-26T07:48:40.652777Z",
     "iopub.status.idle": "2022-09-26T07:48:40.661613Z",
     "shell.execute_reply": "2022-09-26T07:48:40.660488Z"
    },
    "papermill": {
     "duration": 0.059188,
     "end_time": "2022-09-26T07:48:40.663756",
     "exception": false,
     "start_time": "2022-09-26T07:48:40.604568",
     "status": "completed"
    },
    "tags": []
   },
   "outputs": [
    {
     "data": {
      "text/plain": [
       "0   -4\n",
       "3    2\n",
       "4    4\n",
       "1   -2\n",
       "2    0\n",
       "dtype: int64"
      ]
     },
     "execution_count": 53,
     "metadata": {},
     "output_type": "execute_result"
    }
   ],
   "source": [
    "\"\"\"More complicated user-defined functions can be used, as long as they expect\n",
    "a Series and return an array-like\"\"\"\n",
    "\n",
    "s.sort_values(key=lambda x: (np.tan(x.cumsum())))"
   ]
  },
  {
   "cell_type": "markdown",
   "id": "8961c40c",
   "metadata": {
    "papermill": {
     "duration": 0.046977,
     "end_time": "2022-09-26T07:48:40.758658",
     "exception": false,
     "start_time": "2022-09-26T07:48:40.711681",
     "status": "completed"
    },
    "tags": []
   },
   "source": [
    "### Python | pandas.Series.sort_index():\n",
    "- Sort Series by index labels.\n",
    "- Returns a new Series sorted by label if inplace argument is **False**, otherwise updates the original series and returns **None**\n",
    "- **Syntax** <h4>Series.sort_index(axis=0, level=None, ascending=True, inplace=False, kind='quicksort', na_position='last', sort_remaining=True, ignore_index=False, key=None)"
   ]
  },
  {
   "cell_type": "code",
   "execution_count": 54,
   "id": "902ad802",
   "metadata": {
    "execution": {
     "iopub.execute_input": "2022-09-26T07:48:40.855435Z",
     "iopub.status.busy": "2022-09-26T07:48:40.855084Z",
     "iopub.status.idle": "2022-09-26T07:48:40.866983Z",
     "shell.execute_reply": "2022-09-26T07:48:40.865196Z"
    },
    "papermill": {
     "duration": 0.062208,
     "end_time": "2022-09-26T07:48:40.868905",
     "exception": false,
     "start_time": "2022-09-26T07:48:40.806697",
     "status": "completed"
    },
    "tags": []
   },
   "outputs": [
    {
     "name": "stdout",
     "output_type": "stream",
     "text": [
      "Before :\n",
      " 3    a\n",
      "2    b\n",
      "1    c\n",
      "4    d\n",
      "dtype: object\n"
     ]
    },
    {
     "data": {
      "text/plain": [
       "1    c\n",
       "2    b\n",
       "3    a\n",
       "4    d\n",
       "dtype: object"
      ]
     },
     "execution_count": 54,
     "metadata": {},
     "output_type": "execute_result"
    }
   ],
   "source": [
    "s = pd.Series(['a', 'b', 'c', 'd'], index=[3, 2, 1, 4])\n",
    "print(\"Before :\\n\",s)\n",
    "s.sort_index()"
   ]
  },
  {
   "cell_type": "code",
   "execution_count": 55,
   "id": "db998b09",
   "metadata": {
    "execution": {
     "iopub.execute_input": "2022-09-26T07:48:40.965695Z",
     "iopub.status.busy": "2022-09-26T07:48:40.965028Z",
     "iopub.status.idle": "2022-09-26T07:48:40.972573Z",
     "shell.execute_reply": "2022-09-26T07:48:40.971654Z"
    },
    "papermill": {
     "duration": 0.058135,
     "end_time": "2022-09-26T07:48:40.974492",
     "exception": false,
     "start_time": "2022-09-26T07:48:40.916357",
     "status": "completed"
    },
    "tags": []
   },
   "outputs": [
    {
     "data": {
      "text/plain": [
       "4    d\n",
       "3    a\n",
       "2    b\n",
       "1    c\n",
       "dtype: object"
      ]
     },
     "execution_count": 55,
     "metadata": {},
     "output_type": "execute_result"
    }
   ],
   "source": [
    "s.sort_index(ascending=False)"
   ]
  },
  {
   "cell_type": "code",
   "execution_count": 56,
   "id": "aecf51d7",
   "metadata": {
    "execution": {
     "iopub.execute_input": "2022-09-26T07:48:41.079923Z",
     "iopub.status.busy": "2022-09-26T07:48:41.078932Z",
     "iopub.status.idle": "2022-09-26T07:48:41.085937Z",
     "shell.execute_reply": "2022-09-26T07:48:41.084913Z"
    },
    "papermill": {
     "duration": 0.057631,
     "end_time": "2022-09-26T07:48:41.088444",
     "exception": false,
     "start_time": "2022-09-26T07:48:41.030813",
     "status": "completed"
    },
    "tags": []
   },
   "outputs": [
    {
     "name": "stdout",
     "output_type": "stream",
     "text": [
      "None\n",
      "1    c\n",
      "2    b\n",
      "3    a\n",
      "4    d\n",
      "dtype: object\n"
     ]
    }
   ],
   "source": [
    "\"\"\"Returns a new Series sorted by label if inplace argument is False, \n",
    "otherwise updates the original series and returns None\"\"\"\n",
    "\n",
    "print(s.sort_index(inplace=True))\n",
    "print(s)"
   ]
  },
  {
   "cell_type": "code",
   "execution_count": 57,
   "id": "1fa4ce14",
   "metadata": {
    "execution": {
     "iopub.execute_input": "2022-09-26T07:48:41.195646Z",
     "iopub.status.busy": "2022-09-26T07:48:41.194754Z",
     "iopub.status.idle": "2022-09-26T07:48:41.204020Z",
     "shell.execute_reply": "2022-09-26T07:48:41.203048Z"
    },
    "papermill": {
     "duration": 0.06873,
     "end_time": "2022-09-26T07:48:41.206464",
     "exception": false,
     "start_time": "2022-09-26T07:48:41.137734",
     "status": "completed"
    },
    "tags": []
   },
   "outputs": [
    {
     "data": {
      "text/plain": [
       "NaN    d\n",
       "1.0    c\n",
       "2.0    b\n",
       "3.0    a\n",
       "dtype: object"
      ]
     },
     "execution_count": 57,
     "metadata": {},
     "output_type": "execute_result"
    }
   ],
   "source": [
    "s = pd.Series(['a', 'b', 'c', 'd'], index=[3, 2, 1, np.nan])\n",
    "s.sort_index(na_position='first')"
   ]
  },
  {
   "cell_type": "code",
   "execution_count": 58,
   "id": "5b19c6fc",
   "metadata": {
    "execution": {
     "iopub.execute_input": "2022-09-26T07:48:41.304016Z",
     "iopub.status.busy": "2022-09-26T07:48:41.303395Z",
     "iopub.status.idle": "2022-09-26T07:48:41.318038Z",
     "shell.execute_reply": "2022-09-26T07:48:41.316711Z"
    },
    "papermill": {
     "duration": 0.065036,
     "end_time": "2022-09-26T07:48:41.320083",
     "exception": false,
     "start_time": "2022-09-26T07:48:41.255047",
     "status": "completed"
    },
    "tags": []
   },
   "outputs": [
    {
     "name": "stdout",
     "output_type": "stream",
     "text": [
      "Print By level 1:\n",
      " bar  one    8\n",
      "baz  one    6\n",
      "foo  one    4\n",
      "qux  one    2\n",
      "bar  two    7\n",
      "baz  two    5\n",
      "foo  two    3\n",
      "qux  two    1\n",
      "dtype: int64\n",
      "\n",
      "Print By level 2:\n",
      " bar  one    8\n",
      "     two    7\n",
      "baz  one    6\n",
      "     two    5\n",
      "foo  one    4\n",
      "     two    3\n",
      "qux  one    2\n",
      "     two    1\n",
      "dtype: int64\n"
     ]
    }
   ],
   "source": [
    "arrays = [np.array(['qux', 'qux', 'foo', 'foo',\n",
    "                    'baz', 'baz', 'bar', 'bar']),\n",
    "          np.array(['two', 'one', 'two', 'one',\n",
    "                    'two', 'one', 'two', 'one'])]\n",
    "#2-D array index\n",
    "s = pd.Series([1, 2, 3, 4, 5, 6, 7, 8], index=arrays)\n",
    "print(\"Print By level 1:\\n\",s.sort_index(level=1))\n",
    "print(\"\\nPrint By level 2:\\n\",s.sort_index(level=0))"
   ]
  },
  {
   "cell_type": "code",
   "execution_count": 59,
   "id": "3c2f7d74",
   "metadata": {
    "execution": {
     "iopub.execute_input": "2022-09-26T07:48:41.419041Z",
     "iopub.status.busy": "2022-09-26T07:48:41.417888Z",
     "iopub.status.idle": "2022-09-26T07:48:41.427093Z",
     "shell.execute_reply": "2022-09-26T07:48:41.426027Z"
    },
    "papermill": {
     "duration": 0.060417,
     "end_time": "2022-09-26T07:48:41.429364",
     "exception": false,
     "start_time": "2022-09-26T07:48:41.368947",
     "status": "completed"
    },
    "tags": []
   },
   "outputs": [
    {
     "data": {
      "text/plain": [
       "qux  one    2\n",
       "foo  one    4\n",
       "baz  one    6\n",
       "bar  one    8\n",
       "qux  two    1\n",
       "foo  two    3\n",
       "baz  two    5\n",
       "bar  two    7\n",
       "dtype: int64"
      ]
     },
     "execution_count": 59,
     "metadata": {},
     "output_type": "execute_result"
    }
   ],
   "source": [
    "s.sort_index(level=1, sort_remaining=False)"
   ]
  },
  {
   "cell_type": "code",
   "execution_count": 60,
   "id": "13fb31ac",
   "metadata": {
    "execution": {
     "iopub.execute_input": "2022-09-26T07:48:41.527602Z",
     "iopub.status.busy": "2022-09-26T07:48:41.526702Z",
     "iopub.status.idle": "2022-09-26T07:48:41.535436Z",
     "shell.execute_reply": "2022-09-26T07:48:41.534529Z"
    },
    "papermill": {
     "duration": 0.059878,
     "end_time": "2022-09-26T07:48:41.537424",
     "exception": false,
     "start_time": "2022-09-26T07:48:41.477546",
     "status": "completed"
    },
    "tags": []
   },
   "outputs": [
    {
     "data": {
      "text/plain": [
       "A    1\n",
       "b    2\n",
       "C    3\n",
       "d    4\n",
       "dtype: int64"
      ]
     },
     "execution_count": 60,
     "metadata": {},
     "output_type": "execute_result"
    }
   ],
   "source": [
    "s = pd.Series([1, 2, 3, 4], index=['A', 'b', 'C', 'd'])\n",
    "s.sort_index(key=lambda x : x.str.lower())"
   ]
  },
  {
   "cell_type": "markdown",
   "id": "dd1fcb9b",
   "metadata": {
    "papermill": {
     "duration": 0.047541,
     "end_time": "2022-09-26T07:48:41.634154",
     "exception": false,
     "start_time": "2022-09-26T07:48:41.586613",
     "status": "completed"
    },
    "tags": []
   },
   "source": [
    "# NOTE FOR ALL THE METHODS & ATTRIBUTE VISIT \n",
    "https://pandas.pydata.org/docs/reference/api/pandas.Series.html#pandas.Series\n",
    "***"
   ]
  },
  {
   "cell_type": "markdown",
   "id": "1b06834b",
   "metadata": {
    "papermill": {
     "duration": 0.048107,
     "end_time": "2022-09-26T07:48:41.730507",
     "exception": false,
     "start_time": "2022-09-26T07:48:41.682400",
     "status": "completed"
    },
    "tags": []
   },
   "source": [
    "***\n",
    "# 2. pandas.DataFrame(): \n",
    "- DataFrame is a 2-dimensional labeled data structure with columns of potentially different types. You can think of it like a **spreadsheet** or **SQL table**, or a dict of Series objects. It is generally the most commonly used pandas object.\n",
    "\n",
    "- **Like Series, DataFrame accepts many different kinds of input:**\n",
    "\n",
    "    - Dict of 1D ndarrays, lists, dicts, or Series\n",
    "    - 2-D numpy.ndarray\n",
    "    - Structured or record ndarray\n",
    "    - A Series\n",
    "    - Another DataFrame\n",
    "    \n",
    "Along with the data, you can optionally pass index (row labels) and columns (column labels) arguments. If you pass an index and / or columns, you are guaranteeing the index and / or columns of the resulting DataFrame. Thus, a dict of Series plus a specific index will discard all data not matching up to the passed index.\n",
    "\n",
    "If axis labels are not passed, they will be constructed from the input data based on common sense rules.\n",
    "\n",
    "- **Syntex:** <h3>class pandas.DataFrame(data=None, index=None, columns=None, dtype=None, copy=None)</h3>\n",
    "![](https://media.geeksforgeeks.org/wp-content/uploads/finallpandas.png)\n",
    "\n",
    "\n",
    "### Attributes of DataFrame:\n",
    "***\n",
    "<table class=\"autosummary longtable table autosummary\">\n",
    "<colgroup>\n",
    "<col style=\"width: 10%\">\n",
    "<col style=\"width: 90%\">\n",
    "</colgroup>\n",
    "<tbody>\n",
    "<tr class=\"row-odd\"><td><p><a class=\"reference internal\" href=\"https://pandas.pydata.org/docs/reference/api/pandas.DataFrame.at.html#pandas.DataFrame.at\" title=\"pandas.DataFrame.at\"><code class=\"xref py py-obj docutils literal notranslate\"><span class=\"pre\">at</span></code></a></p></td>\n",
    "<td><p>Access a single value for a row/column label pair.</p></td>\n",
    "</tr>\n",
    "<tr class=\"row-even\"><td><p><a class=\"reference internal\" href=\"pandas.DataFrame.attrs.html#pandas.DataFrame.attrs\" title=\"pandas.DataFrame.attrs\"><code class=\"xref py py-obj docutils literal notranslate\"><span class=\"pre\">attrs</span></code></a></p></td>\n",
    "<td><p>Dictionary of global attributes of this dataset.</p></td>\n",
    "</tr>\n",
    "<tr class=\"row-odd\"><td><p><a class=\"reference internal\" href=\"pandas.DataFrame.axes.html#pandas.DataFrame.axes\" title=\"pandas.DataFrame.axes\"><code class=\"xref py py-obj docutils literal notranslate\"><span class=\"pre\">axes</span></code></a></p></td>\n",
    "<td><p>Return a list representing the axes of the DataFrame.</p></td>\n",
    "</tr>\n",
    "<tr class=\"row-even\"><td><p><a class=\"reference internal\" href=\"pandas.DataFrame.columns.html#pandas.DataFrame.columns\" title=\"pandas.DataFrame.columns\"><code class=\"xref py py-obj docutils literal notranslate\"><span class=\"pre\">columns</span></code></a></p></td>\n",
    "<td><p>The column labels of the DataFrame.</p></td>\n",
    "</tr>\n",
    "<tr class=\"row-odd\"><td><p><a class=\"reference internal\" href=\"pandas.DataFrame.dtypes.html#pandas.DataFrame.dtypes\" title=\"pandas.DataFrame.dtypes\"><code class=\"xref py py-obj docutils literal notranslate\"><span class=\"pre\">dtypes</span></code></a></p></td>\n",
    "<td><p>Return the dtypes in the DataFrame.</p></td>\n",
    "</tr>\n",
    "<tr class=\"row-even\"><td><p><a class=\"reference internal\" href=\"pandas.DataFrame.empty.html#pandas.DataFrame.empty\" title=\"pandas.DataFrame.empty\"><code class=\"xref py py-obj docutils literal notranslate\"><span class=\"pre\">empty</span></code></a></p></td>\n",
    "<td><p>Indicator whether Series/DataFrame is empty.</p></td>\n",
    "</tr>\n",
    "<tr class=\"row-odd\"><td><p><a class=\"reference internal\" href=\"pandas.DataFrame.flags.html#pandas.DataFrame.flags\" title=\"pandas.DataFrame.flags\"><code class=\"xref py py-obj docutils literal notranslate\"><span class=\"pre\">flags</span></code></a></p></td>\n",
    "<td><p>Get the properties associated with this pandas object.</p></td>\n",
    "</tr>\n",
    "<tr class=\"row-even\"><td><p><a class=\"reference internal\" href=\"pandas.DataFrame.iat.html#pandas.DataFrame.iat\" title=\"pandas.DataFrame.iat\"><code class=\"xref py py-obj docutils literal notranslate\"><span class=\"pre\">iat</span></code></a></p></td>\n",
    "<td><p>Access a single value for a row/column pair by integer position.</p></td>\n",
    "</tr>\n",
    "<tr class=\"row-odd\"><td><p><a class=\"reference internal\" href=\"pandas.DataFrame.iloc.html#pandas.DataFrame.iloc\" title=\"pandas.DataFrame.iloc\"><code class=\"xref py py-obj docutils literal notranslate\"><span class=\"pre\">iloc</span></code></a></p></td>\n",
    "<td><p>Purely integer-location based indexing for selection by position.</p></td>\n",
    "</tr>\n",
    "<tr class=\"row-even\"><td><p><a class=\"reference internal\" href=\"pandas.DataFrame.index.html#pandas.DataFrame.index\" title=\"pandas.DataFrame.index\"><code class=\"xref py py-obj docutils literal notranslate\"><span class=\"pre\">index</span></code></a></p></td>\n",
    "<td><p>The index (row labels) of the DataFrame.</p></td>\n",
    "</tr>\n",
    "<tr class=\"row-odd\"><td><p><a class=\"reference internal\" href=\"pandas.DataFrame.loc.html#pandas.DataFrame.loc\" title=\"pandas.DataFrame.loc\"><code class=\"xref py py-obj docutils literal notranslate\"><span class=\"pre\">loc</span></code></a></p></td>\n",
    "<td><p>Access a group of rows and columns by label(s) or a boolean array.</p></td>\n",
    "</tr>\n",
    "<tr class=\"row-even\"><td><p><a class=\"reference internal\" href=\"pandas.DataFrame.ndim.html#pandas.DataFrame.ndim\" title=\"pandas.DataFrame.ndim\"><code class=\"xref py py-obj docutils literal notranslate\"><span class=\"pre\">ndim</span></code></a></p></td>\n",
    "<td><p>Return an int representing the number of axes / array dimensions.</p></td>\n",
    "</tr>\n",
    "<tr class=\"row-odd\"><td><p><a class=\"reference internal\" href=\"pandas.DataFrame.shape.html#pandas.DataFrame.shape\" title=\"pandas.DataFrame.shape\"><code class=\"xref py py-obj docutils literal notranslate\"><span class=\"pre\">shape</span></code></a></p></td>\n",
    "<td><p>Return a tuple representing the dimensionality of the DataFrame.</p></td>\n",
    "</tr>\n",
    "<tr class=\"row-even\"><td><p><a class=\"reference internal\" href=\"pandas.DataFrame.size.html#pandas.DataFrame.size\" title=\"pandas.DataFrame.size\"><code class=\"xref py py-obj docutils literal notranslate\"><span class=\"pre\">size</span></code></a></p></td>\n",
    "<td><p>Return an int representing the number of elements in this object.</p></td>\n",
    "</tr>\n",
    "<tr class=\"row-odd\"><td><p><a class=\"reference internal\" href=\"pandas.DataFrame.style.html#pandas.DataFrame.style\" title=\"pandas.DataFrame.style\"><code class=\"xref py py-obj docutils literal notranslate\"><span class=\"pre\">style</span></code></a></p></td>\n",
    "<td><p>Returns a Styler object.</p></td>\n",
    "</tr>\n",
    "<tr class=\"row-even\"><td><p><a class=\"reference internal\" href=\"pandas.DataFrame.values.html#pandas.DataFrame.values\" title=\"pandas.DataFrame.values\"><code class=\"xref py py-obj docutils literal notranslate\"><span class=\"pre\">values</span></code></a></p></td>\n",
    "<td><p>Return a Numpy representation of the DataFrame.</p></td>\n",
    "</tr>\n",
    "</tbody>\n",
    "</table>\n",
    "\n",
    "### Methods of DataFrame:\n",
    "***\n",
    "<dd> \n",
    "<table class=\"autosummary longtable table autosummary\">\n",
    "<colgroup>\n",
    "<col style=\"width: 10%\">\n",
    "<col style=\"width: 90%\">\n",
    "</colgroup>\n",
    "<tbody>\n",
    "<tr class=\"row-odd\"><td><p><a class=\"reference internal\" href=\"pandas.DataFrame.abs.html#pandas.DataFrame.abs\" title=\"pandas.DataFrame.abs\"><code class=\"xref py py-obj docutils literal notranslate\"><span class=\"pre\">abs</span></code></a>()</p></td>\n",
    "<td><p>Return a Series/DataFrame with absolute numeric value of each element.</p></td>\n",
    "</tr>\n",
    "<tr class=\"row-even\"><td><p><a class=\"reference internal\" href=\"pandas.DataFrame.add.html#pandas.DataFrame.add\" title=\"pandas.DataFrame.add\"><code class=\"xref py py-obj docutils literal notranslate\"><span class=\"pre\">add</span></code></a>(other[,&nbsp;axis,&nbsp;level,&nbsp;fill_value])</p></td>\n",
    "<td><p>Get Addition of dataframe and other, element-wise (binary operator <cite>add</cite>).</p></td>\n",
    "</tr>\n",
    "<tr class=\"row-odd\"><td><p><a class=\"reference internal\" href=\"pandas.DataFrame.add_prefix.html#pandas.DataFrame.add_prefix\" title=\"pandas.DataFrame.add_prefix\"><code class=\"xref py py-obj docutils literal notranslate\"><span class=\"pre\">add_prefix</span></code></a>(prefix)</p></td>\n",
    "<td><p>Prefix labels with string <cite>prefix</cite>.</p></td>\n",
    "</tr>\n",
    "<tr class=\"row-even\"><td><p><a class=\"reference internal\" href=\"pandas.DataFrame.add_suffix.html#pandas.DataFrame.add_suffix\" title=\"pandas.DataFrame.add_suffix\"><code class=\"xref py py-obj docutils literal notranslate\"><span class=\"pre\">add_suffix</span></code></a>(suffix)</p></td>\n",
    "<td><p>Suffix labels with string <cite>suffix</cite>.</p></td>\n",
    "</tr>\n",
    "<tr class=\"row-odd\"><td><p><a class=\"reference internal\" href=\"pandas.DataFrame.agg.html#pandas.DataFrame.agg\" title=\"pandas.DataFrame.agg\"><code class=\"xref py py-obj docutils literal notranslate\"><span class=\"pre\">agg</span></code></a>([func,&nbsp;axis])</p></td>\n",
    "<td><p>Aggregate using one or more operations over the specified axis.</p></td>\n",
    "</tr>\n",
    "<tr class=\"row-even\"><td><p><a class=\"reference internal\" href=\"pandas.DataFrame.aggregate.html#pandas.DataFrame.aggregate\" title=\"pandas.DataFrame.aggregate\"><code class=\"xref py py-obj docutils literal notranslate\"><span class=\"pre\">aggregate</span></code></a>([func,&nbsp;axis])</p></td>\n",
    "<td><p>Aggregate using one or more operations over the specified axis.</p></td>\n",
    "</tr>\n",
    "<tr class=\"row-odd\"><td><p><a class=\"reference internal\" href=\"pandas.DataFrame.align.html#pandas.DataFrame.align\" title=\"pandas.DataFrame.align\"><code class=\"xref py py-obj docutils literal notranslate\"><span class=\"pre\">align</span></code></a>(other[,&nbsp;join,&nbsp;axis,&nbsp;level,&nbsp;copy,&nbsp;...])</p></td>\n",
    "<td><p>Align two objects on their axes with the specified join method.</p></td>\n",
    "</tr>\n",
    "<tr class=\"row-even\"><td><p><a class=\"reference internal\" href=\"pandas.DataFrame.all.html#pandas.DataFrame.all\" title=\"pandas.DataFrame.all\"><code class=\"xref py py-obj docutils literal notranslate\"><span class=\"pre\">all</span></code></a>([axis,&nbsp;bool_only,&nbsp;skipna,&nbsp;level])</p></td>\n",
    "<td><p>Return whether all elements are True, potentially over an axis.</p></td>\n",
    "</tr>\n",
    "<tr class=\"row-odd\"><td><p><a class=\"reference internal\" href=\"pandas.DataFrame.any.html#pandas.DataFrame.any\" title=\"pandas.DataFrame.any\"><code class=\"xref py py-obj docutils literal notranslate\"><span class=\"pre\">any</span></code></a>([axis,&nbsp;bool_only,&nbsp;skipna,&nbsp;level])</p></td>\n",
    "<td><p>Return whether any element is True, potentially over an axis.</p></td>\n",
    "</tr>\n",
    "<tr class=\"row-even\"><td><p><a class=\"reference internal\" href=\"pandas.DataFrame.append.html#pandas.DataFrame.append\" title=\"pandas.DataFrame.append\"><code class=\"xref py py-obj docutils literal notranslate\"><span class=\"pre\">append</span></code></a>(other[,&nbsp;ignore_index,&nbsp;...])</p></td>\n",
    "<td><p>(DEPRECATED) Append rows of <cite>other</cite> to the end of caller, returning a new object.</p></td>\n",
    "</tr>\n",
    "<tr class=\"row-odd\"><td><p><a class=\"reference internal\" href=\"pandas.DataFrame.apply.html#pandas.DataFrame.apply\" title=\"pandas.DataFrame.apply\"><code class=\"xref py py-obj docutils literal notranslate\"><span class=\"pre\">apply</span></code></a>(func[,&nbsp;axis,&nbsp;raw,&nbsp;result_type,&nbsp;args])</p></td>\n",
    "<td><p>Apply a function along an axis of the DataFrame.</p></td>\n",
    "</tr>\n",
    "<tr class=\"row-even\"><td><p><a class=\"reference internal\" href=\"pandas.DataFrame.applymap.html#pandas.DataFrame.applymap\" title=\"pandas.DataFrame.applymap\"><code class=\"xref py py-obj docutils literal notranslate\"><span class=\"pre\">applymap</span></code></a>(func[,&nbsp;na_action])</p></td>\n",
    "<td><p>Apply a function to a Dataframe elementwise.</p></td>\n",
    "</tr>\n",
    "<tr class=\"row-odd\"><td><p><a class=\"reference internal\" href=\"pandas.DataFrame.asfreq.html#pandas.DataFrame.asfreq\" title=\"pandas.DataFrame.asfreq\"><code class=\"xref py py-obj docutils literal notranslate\"><span class=\"pre\">asfreq</span></code></a>(freq[,&nbsp;method,&nbsp;how,&nbsp;normalize,&nbsp;...])</p></td>\n",
    "<td><p>Convert time series to specified frequency.</p></td>\n",
    "</tr>\n",
    "<tr class=\"row-even\"><td><p><a class=\"reference internal\" href=\"pandas.DataFrame.asof.html#pandas.DataFrame.asof\" title=\"pandas.DataFrame.asof\"><code class=\"xref py py-obj docutils literal notranslate\"><span class=\"pre\">asof</span></code></a>(where[,&nbsp;subset])</p></td>\n",
    "<td><p>Return the last row(s) without any NaNs before <cite>where</cite>.</p></td>\n",
    "</tr>\n",
    "<tr class=\"row-odd\"><td><p><a class=\"reference internal\" href=\"pandas.DataFrame.assign.html#pandas.DataFrame.assign\" title=\"pandas.DataFrame.assign\"><code class=\"xref py py-obj docutils literal notranslate\"><span class=\"pre\">assign</span></code></a>(**kwargs)</p></td>\n",
    "<td><p>Assign new columns to a DataFrame.</p></td>\n",
    "</tr>\n",
    "<tr class=\"row-even\"><td><p><a class=\"reference internal\" href=\"pandas.DataFrame.astype.html#pandas.DataFrame.astype\" title=\"pandas.DataFrame.astype\"><code class=\"xref py py-obj docutils literal notranslate\"><span class=\"pre\">astype</span></code></a>(dtype[,&nbsp;copy,&nbsp;errors])</p></td>\n",
    "<td><p>Cast a pandas object to a specified dtype <code class=\"docutils literal notranslate\"><span class=\"pre\">dtype</span></code>.</p></td>\n",
    "</tr>\n",
    "<tr class=\"row-odd\"><td><p><a class=\"reference internal\" href=\"pandas.DataFrame.at_time.html#pandas.DataFrame.at_time\" title=\"pandas.DataFrame.at_time\"><code class=\"xref py py-obj docutils literal notranslate\"><span class=\"pre\">at_time</span></code></a>(time[,&nbsp;asof,&nbsp;axis])</p></td>\n",
    "<td><p>Select values at particular time of day (e.g., 9:30AM).</p></td>\n",
    "</tr>\n",
    "<tr class=\"row-even\"><td><p><a class=\"reference internal\" href=\"pandas.DataFrame.backfill.html#pandas.DataFrame.backfill\" title=\"pandas.DataFrame.backfill\"><code class=\"xref py py-obj docutils literal notranslate\"><span class=\"pre\">backfill</span></code></a>([axis,&nbsp;inplace,&nbsp;limit,&nbsp;downcast])</p></td>\n",
    "<td><p>Synonym for <a class=\"reference internal\" href=\"pandas.DataFrame.fillna.html#pandas.DataFrame.fillna\" title=\"pandas.DataFrame.fillna\"><code class=\"xref py py-meth docutils literal notranslate\"><span class=\"pre\">DataFrame.fillna()</span></code></a> with <code class=\"docutils literal notranslate\"><span class=\"pre\">method='bfill'</span></code>.</p></td>\n",
    "</tr>\n",
    "<tr class=\"row-odd\"><td><p><a class=\"reference internal\" href=\"pandas.DataFrame.between_time.html#pandas.DataFrame.between_time\" title=\"pandas.DataFrame.between_time\"><code class=\"xref py py-obj docutils literal notranslate\"><span class=\"pre\">between_time</span></code></a>(start_time,&nbsp;end_time[,&nbsp;...])</p></td>\n",
    "<td><p>Select values between particular times of the day (e.g., 9:00-9:30 AM).</p></td>\n",
    "</tr>\n",
    "<tr class=\"row-even\"><td><p><a class=\"reference internal\" href=\"pandas.DataFrame.bfill.html#pandas.DataFrame.bfill\" title=\"pandas.DataFrame.bfill\"><code class=\"xref py py-obj docutils literal notranslate\"><span class=\"pre\">bfill</span></code></a>([axis,&nbsp;inplace,&nbsp;limit,&nbsp;downcast])</p></td>\n",
    "<td><p>Synonym for <a class=\"reference internal\" href=\"pandas.DataFrame.fillna.html#pandas.DataFrame.fillna\" title=\"pandas.DataFrame.fillna\"><code class=\"xref py py-meth docutils literal notranslate\"><span class=\"pre\">DataFrame.fillna()</span></code></a> with <code class=\"docutils literal notranslate\"><span class=\"pre\">method='bfill'</span></code>.</p></td>\n",
    "</tr>\n",
    "<tr class=\"row-odd\"><td><p><a class=\"reference internal\" href=\"pandas.DataFrame.bool.html#pandas.DataFrame.bool\" title=\"pandas.DataFrame.bool\"><code class=\"xref py py-obj docutils literal notranslate\"><span class=\"pre\">bool</span></code></a>()</p></td>\n",
    "<td><p>Return the bool of a single element Series or DataFrame.</p></td>\n",
    "</tr>\n",
    "<tr class=\"row-even\"><td><p><a class=\"reference internal\" href=\"pandas.DataFrame.boxplot.html#pandas.DataFrame.boxplot\" title=\"pandas.DataFrame.boxplot\"><code class=\"xref py py-obj docutils literal notranslate\"><span class=\"pre\">boxplot</span></code></a>([column,&nbsp;by,&nbsp;ax,&nbsp;fontsize,&nbsp;rot,&nbsp;...])</p></td>\n",
    "<td><p>Make a box plot from DataFrame columns.</p></td>\n",
    "</tr>\n",
    "<tr class=\"row-odd\"><td><p><a class=\"reference internal\" href=\"pandas.DataFrame.clip.html#pandas.DataFrame.clip\" title=\"pandas.DataFrame.clip\"><code class=\"xref py py-obj docutils literal notranslate\"><span class=\"pre\">clip</span></code></a>([lower,&nbsp;upper,&nbsp;axis,&nbsp;inplace])</p></td>\n",
    "<td><p>Trim values at input threshold(s).</p></td>\n",
    "</tr>\n",
    "<tr class=\"row-even\"><td><p><a class=\"reference internal\" href=\"pandas.DataFrame.combine.html#pandas.DataFrame.combine\" title=\"pandas.DataFrame.combine\"><code class=\"xref py py-obj docutils literal notranslate\"><span class=\"pre\">combine</span></code></a>(other,&nbsp;func[,&nbsp;fill_value,&nbsp;overwrite])</p></td>\n",
    "<td><p>Perform column-wise combine with another DataFrame.</p></td>\n",
    "</tr>\n",
    "<tr class=\"row-odd\"><td><p><a class=\"reference internal\" href=\"pandas.DataFrame.combine_first.html#pandas.DataFrame.combine_first\" title=\"pandas.DataFrame.combine_first\"><code class=\"xref py py-obj docutils literal notranslate\"><span class=\"pre\">combine_first</span></code></a>(other)</p></td>\n",
    "<td><p>Update null elements with value in the same location in <cite>other</cite>.</p></td>\n",
    "</tr>\n",
    "<tr class=\"row-even\"><td><p><a class=\"reference internal\" href=\"pandas.DataFrame.compare.html#pandas.DataFrame.compare\" title=\"pandas.DataFrame.compare\"><code class=\"xref py py-obj docutils literal notranslate\"><span class=\"pre\">compare</span></code></a>(other[,&nbsp;align_axis,&nbsp;keep_shape,&nbsp;...])</p></td>\n",
    "<td><p>Compare to another DataFrame and show the differences.</p></td>\n",
    "</tr>\n",
    "<tr class=\"row-odd\"><td><p><a class=\"reference internal\" href=\"pandas.DataFrame.convert_dtypes.html#pandas.DataFrame.convert_dtypes\" title=\"pandas.DataFrame.convert_dtypes\"><code class=\"xref py py-obj docutils literal notranslate\"><span class=\"pre\">convert_dtypes</span></code></a>([infer_objects,&nbsp;...])</p></td>\n",
    "<td><p>Convert columns to best possible dtypes using dtypes supporting <code class=\"docutils literal notranslate\"><span class=\"pre\">pd.NA</span></code>.</p></td>\n",
    "</tr>\n",
    "<tr class=\"row-even\"><td><p><a class=\"reference internal\" href=\"pandas.DataFrame.copy.html#pandas.DataFrame.copy\" title=\"pandas.DataFrame.copy\"><code class=\"xref py py-obj docutils literal notranslate\"><span class=\"pre\">copy</span></code></a>([deep])</p></td>\n",
    "<td><p>Make a copy of this object's indices and data.</p></td>\n",
    "</tr>\n",
    "<tr class=\"row-odd\"><td><p><a class=\"reference internal\" href=\"pandas.DataFrame.corr.html#pandas.DataFrame.corr\" title=\"pandas.DataFrame.corr\"><code class=\"xref py py-obj docutils literal notranslate\"><span class=\"pre\">corr</span></code></a>([method,&nbsp;min_periods,&nbsp;numeric_only])</p></td>\n",
    "<td><p>Compute pairwise correlation of columns, excluding NA/null values.</p></td>\n",
    "</tr>\n",
    "<tr class=\"row-even\"><td><p><a class=\"reference internal\" href=\"pandas.DataFrame.corrwith.html#pandas.DataFrame.corrwith\" title=\"pandas.DataFrame.corrwith\"><code class=\"xref py py-obj docutils literal notranslate\"><span class=\"pre\">corrwith</span></code></a>(other[,&nbsp;axis,&nbsp;drop,&nbsp;method,&nbsp;...])</p></td>\n",
    "<td><p>Compute pairwise correlation.</p></td>\n",
    "</tr>\n",
    "<tr class=\"row-odd\"><td><p><a class=\"reference internal\" href=\"pandas.DataFrame.count.html#pandas.DataFrame.count\" title=\"pandas.DataFrame.count\"><code class=\"xref py py-obj docutils literal notranslate\"><span class=\"pre\">count</span></code></a>([axis,&nbsp;level,&nbsp;numeric_only])</p></td>\n",
    "<td><p>Count non-NA cells for each column or row.</p></td>\n",
    "</tr>\n",
    "<tr class=\"row-even\"><td><p><a class=\"reference internal\" href=\"pandas.DataFrame.cov.html#pandas.DataFrame.cov\" title=\"pandas.DataFrame.cov\"><code class=\"xref py py-obj docutils literal notranslate\"><span class=\"pre\">cov</span></code></a>([min_periods,&nbsp;ddof,&nbsp;numeric_only])</p></td>\n",
    "<td><p>Compute pairwise covariance of columns, excluding NA/null values.</p></td>\n",
    "</tr>\n",
    "<tr class=\"row-odd\"><td><p><a class=\"reference internal\" href=\"pandas.DataFrame.cummax.html#pandas.DataFrame.cummax\" title=\"pandas.DataFrame.cummax\"><code class=\"xref py py-obj docutils literal notranslate\"><span class=\"pre\">cummax</span></code></a>([axis,&nbsp;skipna])</p></td>\n",
    "<td><p>Return cumulative maximum over a DataFrame or Series axis.</p></td>\n",
    "</tr>\n",
    "<tr class=\"row-even\"><td><p><a class=\"reference internal\" href=\"pandas.DataFrame.cummin.html#pandas.DataFrame.cummin\" title=\"pandas.DataFrame.cummin\"><code class=\"xref py py-obj docutils literal notranslate\"><span class=\"pre\">cummin</span></code></a>([axis,&nbsp;skipna])</p></td>\n",
    "<td><p>Return cumulative minimum over a DataFrame or Series axis.</p></td>\n",
    "</tr>\n",
    "<tr class=\"row-odd\"><td><p><a class=\"reference internal\" href=\"pandas.DataFrame.cumprod.html#pandas.DataFrame.cumprod\" title=\"pandas.DataFrame.cumprod\"><code class=\"xref py py-obj docutils literal notranslate\"><span class=\"pre\">cumprod</span></code></a>([axis,&nbsp;skipna])</p></td>\n",
    "<td><p>Return cumulative product over a DataFrame or Series axis.</p></td>\n",
    "</tr>\n",
    "<tr class=\"row-even\"><td><p><a class=\"reference internal\" href=\"pandas.DataFrame.cumsum.html#pandas.DataFrame.cumsum\" title=\"pandas.DataFrame.cumsum\"><code class=\"xref py py-obj docutils literal notranslate\"><span class=\"pre\">cumsum</span></code></a>([axis,&nbsp;skipna])</p></td>\n",
    "<td><p>Return cumulative sum over a DataFrame or Series axis.</p></td>\n",
    "</tr>\n",
    "<tr class=\"row-odd\"><td><p><a class=\"reference internal\" href=\"pandas.DataFrame.describe.html#pandas.DataFrame.describe\" title=\"pandas.DataFrame.describe\"><code class=\"xref py py-obj docutils literal notranslate\"><span class=\"pre\">describe</span></code></a>([percentiles,&nbsp;include,&nbsp;exclude,&nbsp;...])</p></td>\n",
    "<td><p>Generate descriptive statistics.</p></td>\n",
    "</tr>\n",
    "<tr class=\"row-even\"><td><p><a class=\"reference internal\" href=\"pandas.DataFrame.diff.html#pandas.DataFrame.diff\" title=\"pandas.DataFrame.diff\"><code class=\"xref py py-obj docutils literal notranslate\"><span class=\"pre\">diff</span></code></a>([periods,&nbsp;axis])</p></td>\n",
    "<td><p>First discrete difference of element.</p></td>\n",
    "</tr>\n",
    "<tr class=\"row-odd\"><td><p><a class=\"reference internal\" href=\"pandas.DataFrame.div.html#pandas.DataFrame.div\" title=\"pandas.DataFrame.div\"><code class=\"xref py py-obj docutils literal notranslate\"><span class=\"pre\">div</span></code></a>(other[,&nbsp;axis,&nbsp;level,&nbsp;fill_value])</p></td>\n",
    "<td><p>Get Floating division of dataframe and other, element-wise (binary operator <cite>truediv</cite>).</p></td>\n",
    "</tr>\n",
    "<tr class=\"row-even\"><td><p><a class=\"reference internal\" href=\"pandas.DataFrame.divide.html#pandas.DataFrame.divide\" title=\"pandas.DataFrame.divide\"><code class=\"xref py py-obj docutils literal notranslate\"><span class=\"pre\">divide</span></code></a>(other[,&nbsp;axis,&nbsp;level,&nbsp;fill_value])</p></td>\n",
    "<td><p>Get Floating division of dataframe and other, element-wise (binary operator <cite>truediv</cite>).</p></td>\n",
    "</tr>\n",
    "<tr class=\"row-odd\"><td><p><a class=\"reference internal\" href=\"pandas.DataFrame.dot.html#pandas.DataFrame.dot\" title=\"pandas.DataFrame.dot\"><code class=\"xref py py-obj docutils literal notranslate\"><span class=\"pre\">dot</span></code></a>(other)</p></td>\n",
    "<td><p>Compute the matrix multiplication between the DataFrame and other.</p></td>\n",
    "</tr>\n",
    "<tr class=\"row-even\"><td><p><a class=\"reference internal\" href=\"pandas.DataFrame.drop.html#pandas.DataFrame.drop\" title=\"pandas.DataFrame.drop\"><code class=\"xref py py-obj docutils literal notranslate\"><span class=\"pre\">drop</span></code></a>([labels,&nbsp;axis,&nbsp;index,&nbsp;columns,&nbsp;level,&nbsp;...])</p></td>\n",
    "<td><p>Drop specified labels from rows or columns.</p></td>\n",
    "</tr>\n",
    "<tr class=\"row-odd\"><td><p><a class=\"reference internal\" href=\"pandas.DataFrame.drop_duplicates.html#pandas.DataFrame.drop_duplicates\" title=\"pandas.DataFrame.drop_duplicates\"><code class=\"xref py py-obj docutils literal notranslate\"><span class=\"pre\">drop_duplicates</span></code></a>([subset,&nbsp;keep,&nbsp;inplace,&nbsp;...])</p></td>\n",
    "<td><p>Return DataFrame with duplicate rows removed.</p></td>\n",
    "</tr>\n",
    "<tr class=\"row-even\"><td><p><a class=\"reference internal\" href=\"pandas.DataFrame.droplevel.html#pandas.DataFrame.droplevel\" title=\"pandas.DataFrame.droplevel\"><code class=\"xref py py-obj docutils literal notranslate\"><span class=\"pre\">droplevel</span></code></a>(level[,&nbsp;axis])</p></td>\n",
    "<td><p>Return Series/DataFrame with requested index / column level(s) removed.</p></td>\n",
    "</tr>\n",
    "<tr class=\"row-odd\"><td><p><a class=\"reference internal\" href=\"pandas.DataFrame.dropna.html#pandas.DataFrame.dropna\" title=\"pandas.DataFrame.dropna\"><code class=\"xref py py-obj docutils literal notranslate\"><span class=\"pre\">dropna</span></code></a>([axis,&nbsp;how,&nbsp;thresh,&nbsp;subset,&nbsp;inplace])</p></td>\n",
    "<td><p>Remove missing values.</p></td>\n",
    "</tr>\n",
    "<tr class=\"row-even\"><td><p><a class=\"reference internal\" href=\"pandas.DataFrame.duplicated.html#pandas.DataFrame.duplicated\" title=\"pandas.DataFrame.duplicated\"><code class=\"xref py py-obj docutils literal notranslate\"><span class=\"pre\">duplicated</span></code></a>([subset,&nbsp;keep])</p></td>\n",
    "<td><p>Return boolean Series denoting duplicate rows.</p></td>\n",
    "</tr>\n",
    "<tr class=\"row-odd\"><td><p><a class=\"reference internal\" href=\"pandas.DataFrame.eq.html#pandas.DataFrame.eq\" title=\"pandas.DataFrame.eq\"><code class=\"xref py py-obj docutils literal notranslate\"><span class=\"pre\">eq</span></code></a>(other[,&nbsp;axis,&nbsp;level])</p></td>\n",
    "<td><p>Get Equal to of dataframe and other, element-wise (binary operator <cite>eq</cite>).</p></td>\n",
    "</tr>\n",
    "<tr class=\"row-even\"><td><p><a class=\"reference internal\" href=\"pandas.DataFrame.equals.html#pandas.DataFrame.equals\" title=\"pandas.DataFrame.equals\"><code class=\"xref py py-obj docutils literal notranslate\"><span class=\"pre\">equals</span></code></a>(other)</p></td>\n",
    "<td><p>Test whether two objects contain the same elements.</p></td>\n",
    "</tr>\n",
    "<tr class=\"row-odd\"><td><p><a class=\"reference internal\" href=\"pandas.DataFrame.eval.html#pandas.DataFrame.eval\" title=\"pandas.DataFrame.eval\"><code class=\"xref py py-obj docutils literal notranslate\"><span class=\"pre\">eval</span></code></a>(expr[,&nbsp;inplace])</p></td>\n",
    "<td><p>Evaluate a string describing operations on DataFrame columns.</p></td>\n",
    "</tr>\n",
    "<tr class=\"row-even\"><td><p><a class=\"reference internal\" href=\"pandas.DataFrame.ewm.html#pandas.DataFrame.ewm\" title=\"pandas.DataFrame.ewm\"><code class=\"xref py py-obj docutils literal notranslate\"><span class=\"pre\">ewm</span></code></a>([com,&nbsp;span,&nbsp;halflife,&nbsp;alpha,&nbsp;...])</p></td>\n",
    "<td><p>Provide exponentially weighted (EW) calculations.</p></td>\n",
    "</tr>\n",
    "<tr class=\"row-odd\"><td><p><a class=\"reference internal\" href=\"pandas.DataFrame.expanding.html#pandas.DataFrame.expanding\" title=\"pandas.DataFrame.expanding\"><code class=\"xref py py-obj docutils literal notranslate\"><span class=\"pre\">expanding</span></code></a>([min_periods,&nbsp;center,&nbsp;axis,&nbsp;method])</p></td>\n",
    "<td><p>Provide expanding window calculations.</p></td>\n",
    "</tr>\n",
    "<tr class=\"row-even\"><td><p><a class=\"reference internal\" href=\"pandas.DataFrame.explode.html#pandas.DataFrame.explode\" title=\"pandas.DataFrame.explode\"><code class=\"xref py py-obj docutils literal notranslate\"><span class=\"pre\">explode</span></code></a>(column[,&nbsp;ignore_index])</p></td>\n",
    "<td><p>Transform each element of a list-like to a row, replicating index values.</p></td>\n",
    "</tr>\n",
    "<tr class=\"row-odd\"><td><p><a class=\"reference internal\" href=\"pandas.DataFrame.ffill.html#pandas.DataFrame.ffill\" title=\"pandas.DataFrame.ffill\"><code class=\"xref py py-obj docutils literal notranslate\"><span class=\"pre\">ffill</span></code></a>([axis,&nbsp;inplace,&nbsp;limit,&nbsp;downcast])</p></td>\n",
    "<td><p>Synonym for <a class=\"reference internal\" href=\"pandas.DataFrame.fillna.html#pandas.DataFrame.fillna\" title=\"pandas.DataFrame.fillna\"><code class=\"xref py py-meth docutils literal notranslate\"><span class=\"pre\">DataFrame.fillna()</span></code></a> with <code class=\"docutils literal notranslate\"><span class=\"pre\">method='ffill'</span></code>.</p></td>\n",
    "</tr>\n",
    "<tr class=\"row-even\"><td><p><a class=\"reference internal\" href=\"pandas.DataFrame.fillna.html#pandas.DataFrame.fillna\" title=\"pandas.DataFrame.fillna\"><code class=\"xref py py-obj docutils literal notranslate\"><span class=\"pre\">fillna</span></code></a>([value,&nbsp;method,&nbsp;axis,&nbsp;inplace,&nbsp;...])</p></td>\n",
    "<td><p>Fill NA/NaN values using the specified method.</p></td>\n",
    "</tr>\n",
    "<tr class=\"row-odd\"><td><p><a class=\"reference internal\" href=\"pandas.DataFrame.filter.html#pandas.DataFrame.filter\" title=\"pandas.DataFrame.filter\"><code class=\"xref py py-obj docutils literal notranslate\"><span class=\"pre\">filter</span></code></a>([items,&nbsp;like,&nbsp;regex,&nbsp;axis])</p></td>\n",
    "<td><p>Subset the dataframe rows or columns according to the specified index labels.</p></td>\n",
    "</tr>\n",
    "<tr class=\"row-even\"><td><p><a class=\"reference internal\" href=\"pandas.DataFrame.first.html#pandas.DataFrame.first\" title=\"pandas.DataFrame.first\"><code class=\"xref py py-obj docutils literal notranslate\"><span class=\"pre\">first</span></code></a>(offset)</p></td>\n",
    "<td><p>Select initial periods of time series data based on a date offset.</p></td>\n",
    "</tr>\n",
    "<tr class=\"row-odd\"><td><p><a class=\"reference internal\" href=\"pandas.DataFrame.first_valid_index.html#pandas.DataFrame.first_valid_index\" title=\"pandas.DataFrame.first_valid_index\"><code class=\"xref py py-obj docutils literal notranslate\"><span class=\"pre\">first_valid_index</span></code></a>()</p></td>\n",
    "<td><p>Return index for first non-NA value or None, if no non-NA value is found.</p></td>\n",
    "</tr>\n",
    "<tr class=\"row-even\"><td><p><a class=\"reference internal\" href=\"pandas.DataFrame.floordiv.html#pandas.DataFrame.floordiv\" title=\"pandas.DataFrame.floordiv\"><code class=\"xref py py-obj docutils literal notranslate\"><span class=\"pre\">floordiv</span></code></a>(other[,&nbsp;axis,&nbsp;level,&nbsp;fill_value])</p></td>\n",
    "<td><p>Get Integer division of dataframe and other, element-wise (binary operator <cite>floordiv</cite>).</p></td>\n",
    "</tr>\n",
    "<tr class=\"row-odd\"><td><p><a class=\"reference internal\" href=\"pandas.DataFrame.from_dict.html#pandas.DataFrame.from_dict\" title=\"pandas.DataFrame.from_dict\"><code class=\"xref py py-obj docutils literal notranslate\"><span class=\"pre\">from_dict</span></code></a>(data[,&nbsp;orient,&nbsp;dtype,&nbsp;columns])</p></td>\n",
    "<td><p>Construct DataFrame from dict of array-like or dicts.</p></td>\n",
    "</tr>\n",
    "<tr class=\"row-even\"><td><p><a class=\"reference internal\" href=\"pandas.DataFrame.from_records.html#pandas.DataFrame.from_records\" title=\"pandas.DataFrame.from_records\"><code class=\"xref py py-obj docutils literal notranslate\"><span class=\"pre\">from_records</span></code></a>(data[,&nbsp;index,&nbsp;exclude,&nbsp;...])</p></td>\n",
    "<td><p>Convert structured or record ndarray to DataFrame.</p></td>\n",
    "</tr>\n",
    "<tr class=\"row-odd\"><td><p><a class=\"reference internal\" href=\"pandas.DataFrame.ge.html#pandas.DataFrame.ge\" title=\"pandas.DataFrame.ge\"><code class=\"xref py py-obj docutils literal notranslate\"><span class=\"pre\">ge</span></code></a>(other[,&nbsp;axis,&nbsp;level])</p></td>\n",
    "<td><p>Get Greater than or equal to of dataframe and other, element-wise (binary operator <cite>ge</cite>).</p></td>\n",
    "</tr>\n",
    "<tr class=\"row-even\"><td><p><a class=\"reference internal\" href=\"pandas.DataFrame.get.html#pandas.DataFrame.get\" title=\"pandas.DataFrame.get\"><code class=\"xref py py-obj docutils literal notranslate\"><span class=\"pre\">get</span></code></a>(key[,&nbsp;default])</p></td>\n",
    "<td><p>Get item from object for given key (ex: DataFrame column).</p></td>\n",
    "</tr>\n",
    "<tr class=\"row-odd\"><td><p><a class=\"reference internal\" href=\"pandas.DataFrame.groupby.html#pandas.DataFrame.groupby\" title=\"pandas.DataFrame.groupby\"><code class=\"xref py py-obj docutils literal notranslate\"><span class=\"pre\">groupby</span></code></a>([by,&nbsp;axis,&nbsp;level,&nbsp;as_index,&nbsp;sort,&nbsp;...])</p></td>\n",
    "<td><p>Group DataFrame using a mapper or by a Series of columns.</p></td>\n",
    "</tr>\n",
    "<tr class=\"row-even\"><td><p><a class=\"reference internal\" href=\"pandas.DataFrame.gt.html#pandas.DataFrame.gt\" title=\"pandas.DataFrame.gt\"><code class=\"xref py py-obj docutils literal notranslate\"><span class=\"pre\">gt</span></code></a>(other[,&nbsp;axis,&nbsp;level])</p></td>\n",
    "<td><p>Get Greater than of dataframe and other, element-wise (binary operator <cite>gt</cite>).</p></td>\n",
    "</tr>\n",
    "<tr class=\"row-odd\"><td><p><a class=\"reference internal\" href=\"pandas.DataFrame.head.html#pandas.DataFrame.head\" title=\"pandas.DataFrame.head\"><code class=\"xref py py-obj docutils literal notranslate\"><span class=\"pre\">head</span></code></a>([n])</p></td>\n",
    "<td><p>Return the first <cite>n</cite> rows.</p></td>\n",
    "</tr>\n",
    "<tr class=\"row-even\"><td><p><a class=\"reference internal\" href=\"pandas.DataFrame.hist.html#pandas.DataFrame.hist\" title=\"pandas.DataFrame.hist\"><code class=\"xref py py-obj docutils literal notranslate\"><span class=\"pre\">hist</span></code></a>([column,&nbsp;by,&nbsp;grid,&nbsp;xlabelsize,&nbsp;xrot,&nbsp;...])</p></td>\n",
    "<td><p>Make a histogram of the DataFrame's columns.</p></td>\n",
    "</tr>\n",
    "<tr class=\"row-odd\"><td><p><a class=\"reference internal\" href=\"pandas.DataFrame.idxmax.html#pandas.DataFrame.idxmax\" title=\"pandas.DataFrame.idxmax\"><code class=\"xref py py-obj docutils literal notranslate\"><span class=\"pre\">idxmax</span></code></a>([axis,&nbsp;skipna,&nbsp;numeric_only])</p></td>\n",
    "<td><p>Return index of first occurrence of maximum over requested axis.</p></td>\n",
    "</tr>\n",
    "<tr class=\"row-even\"><td><p><a class=\"reference internal\" href=\"pandas.DataFrame.idxmin.html#pandas.DataFrame.idxmin\" title=\"pandas.DataFrame.idxmin\"><code class=\"xref py py-obj docutils literal notranslate\"><span class=\"pre\">idxmin</span></code></a>([axis,&nbsp;skipna,&nbsp;numeric_only])</p></td>\n",
    "<td><p>Return index of first occurrence of minimum over requested axis.</p></td>\n",
    "</tr>\n",
    "<tr class=\"row-odd\"><td><p><a class=\"reference internal\" href=\"pandas.DataFrame.infer_objects.html#pandas.DataFrame.infer_objects\" title=\"pandas.DataFrame.infer_objects\"><code class=\"xref py py-obj docutils literal notranslate\"><span class=\"pre\">infer_objects</span></code></a>()</p></td>\n",
    "<td><p>Attempt to infer better dtypes for object columns.</p></td>\n",
    "</tr>\n",
    "<tr class=\"row-even\"><td><p><a class=\"reference internal\" href=\"pandas.DataFrame.info.html#pandas.DataFrame.info\" title=\"pandas.DataFrame.info\"><code class=\"xref py py-obj docutils literal notranslate\"><span class=\"pre\">info</span></code></a>([verbose,&nbsp;buf,&nbsp;max_cols,&nbsp;memory_usage,&nbsp;...])</p></td>\n",
    "<td><p>Print a concise summary of a DataFrame.</p></td>\n",
    "</tr>\n",
    "<tr class=\"row-odd\"><td><p><a class=\"reference internal\" href=\"pandas.DataFrame.insert.html#pandas.DataFrame.insert\" title=\"pandas.DataFrame.insert\"><code class=\"xref py py-obj docutils literal notranslate\"><span class=\"pre\">insert</span></code></a>(loc,&nbsp;column,&nbsp;value[,&nbsp;allow_duplicates])</p></td>\n",
    "<td><p>Insert column into DataFrame at specified location.</p></td>\n",
    "</tr>\n",
    "<tr class=\"row-even\"><td><p><a class=\"reference internal\" href=\"pandas.DataFrame.interpolate.html#pandas.DataFrame.interpolate\" title=\"pandas.DataFrame.interpolate\"><code class=\"xref py py-obj docutils literal notranslate\"><span class=\"pre\">interpolate</span></code></a>([method,&nbsp;axis,&nbsp;limit,&nbsp;inplace,&nbsp;...])</p></td>\n",
    "<td><p>Fill NaN values using an interpolation method.</p></td>\n",
    "</tr>\n",
    "<tr class=\"row-odd\"><td><p><a class=\"reference internal\" href=\"pandas.DataFrame.isetitem.html#pandas.DataFrame.isetitem\" title=\"pandas.DataFrame.isetitem\"><code class=\"xref py py-obj docutils literal notranslate\"><span class=\"pre\">isetitem</span></code></a>(loc,&nbsp;value)</p></td>\n",
    "<td><p>Set the given value in the column with position 'loc'.</p></td>\n",
    "</tr>\n",
    "<tr class=\"row-even\"><td><p><a class=\"reference internal\" href=\"pandas.DataFrame.isin.html#pandas.DataFrame.isin\" title=\"pandas.DataFrame.isin\"><code class=\"xref py py-obj docutils literal notranslate\"><span class=\"pre\">isin</span></code></a>(values)</p></td>\n",
    "<td><p>Whether each element in the DataFrame is contained in values.</p></td>\n",
    "</tr>\n",
    "<tr class=\"row-odd\"><td><p><a class=\"reference internal\" href=\"pandas.DataFrame.isna.html#pandas.DataFrame.isna\" title=\"pandas.DataFrame.isna\"><code class=\"xref py py-obj docutils literal notranslate\"><span class=\"pre\">isna</span></code></a>()</p></td>\n",
    "<td><p>Detect missing values.</p></td>\n",
    "</tr>\n",
    "<tr class=\"row-even\"><td><p><a class=\"reference internal\" href=\"pandas.DataFrame.isnull.html#pandas.DataFrame.isnull\" title=\"pandas.DataFrame.isnull\"><code class=\"xref py py-obj docutils literal notranslate\"><span class=\"pre\">isnull</span></code></a>()</p></td>\n",
    "<td><p>DataFrame.isnull is an alias for DataFrame.isna.</p></td>\n",
    "</tr>\n",
    "<tr class=\"row-odd\"><td><p><a class=\"reference internal\" href=\"pandas.DataFrame.items.html#pandas.DataFrame.items\" title=\"pandas.DataFrame.items\"><code class=\"xref py py-obj docutils literal notranslate\"><span class=\"pre\">items</span></code></a>()</p></td>\n",
    "<td><p>Iterate over (column name, Series) pairs.</p></td>\n",
    "</tr>\n",
    "<tr class=\"row-even\"><td><p><a class=\"reference internal\" href=\"pandas.DataFrame.iteritems.html#pandas.DataFrame.iteritems\" title=\"pandas.DataFrame.iteritems\"><code class=\"xref py py-obj docutils literal notranslate\"><span class=\"pre\">iteritems</span></code></a>()</p></td>\n",
    "<td><p>(DEPRECATED) Iterate over (column name, Series) pairs.</p></td>\n",
    "</tr>\n",
    "<tr class=\"row-odd\"><td><p><a class=\"reference internal\" href=\"pandas.DataFrame.iterrows.html#pandas.DataFrame.iterrows\" title=\"pandas.DataFrame.iterrows\"><code class=\"xref py py-obj docutils literal notranslate\"><span class=\"pre\">iterrows</span></code></a>()</p></td>\n",
    "<td><p>Iterate over DataFrame rows as (index, Series) pairs.</p></td>\n",
    "</tr>\n",
    "<tr class=\"row-even\"><td><p><a class=\"reference internal\" href=\"pandas.DataFrame.itertuples.html#pandas.DataFrame.itertuples\" title=\"pandas.DataFrame.itertuples\"><code class=\"xref py py-obj docutils literal notranslate\"><span class=\"pre\">itertuples</span></code></a>([index,&nbsp;name])</p></td>\n",
    "<td><p>Iterate over DataFrame rows as namedtuples.</p></td>\n",
    "</tr>\n",
    "<tr class=\"row-odd\"><td><p><a class=\"reference internal\" href=\"pandas.DataFrame.join.html#pandas.DataFrame.join\" title=\"pandas.DataFrame.join\"><code class=\"xref py py-obj docutils literal notranslate\"><span class=\"pre\">join</span></code></a>(other[,&nbsp;on,&nbsp;how,&nbsp;lsuffix,&nbsp;rsuffix,&nbsp;...])</p></td>\n",
    "<td><p>Join columns of another DataFrame.</p></td>\n",
    "</tr>\n",
    "<tr class=\"row-even\"><td><p><a class=\"reference internal\" href=\"pandas.DataFrame.keys.html#pandas.DataFrame.keys\" title=\"pandas.DataFrame.keys\"><code class=\"xref py py-obj docutils literal notranslate\"><span class=\"pre\">keys</span></code></a>()</p></td>\n",
    "<td><p>Get the 'info axis' (see Indexing for more).</p></td>\n",
    "</tr>\n",
    "<tr class=\"row-odd\"><td><p><a class=\"reference internal\" href=\"pandas.DataFrame.kurt.html#pandas.DataFrame.kurt\" title=\"pandas.DataFrame.kurt\"><code class=\"xref py py-obj docutils literal notranslate\"><span class=\"pre\">kurt</span></code></a>([axis,&nbsp;skipna,&nbsp;level,&nbsp;numeric_only])</p></td>\n",
    "<td><p>Return unbiased kurtosis over requested axis.</p></td>\n",
    "</tr>\n",
    "<tr class=\"row-even\"><td><p><a class=\"reference internal\" href=\"pandas.DataFrame.kurtosis.html#pandas.DataFrame.kurtosis\" title=\"pandas.DataFrame.kurtosis\"><code class=\"xref py py-obj docutils literal notranslate\"><span class=\"pre\">kurtosis</span></code></a>([axis,&nbsp;skipna,&nbsp;level,&nbsp;numeric_only])</p></td>\n",
    "<td><p>Return unbiased kurtosis over requested axis.</p></td>\n",
    "</tr>\n",
    "<tr class=\"row-odd\"><td><p><a class=\"reference internal\" href=\"pandas.DataFrame.last.html#pandas.DataFrame.last\" title=\"pandas.DataFrame.last\"><code class=\"xref py py-obj docutils literal notranslate\"><span class=\"pre\">last</span></code></a>(offset)</p></td>\n",
    "<td><p>Select final periods of time series data based on a date offset.</p></td>\n",
    "</tr>\n",
    "<tr class=\"row-even\"><td><p><a class=\"reference internal\" href=\"pandas.DataFrame.last_valid_index.html#pandas.DataFrame.last_valid_index\" title=\"pandas.DataFrame.last_valid_index\"><code class=\"xref py py-obj docutils literal notranslate\"><span class=\"pre\">last_valid_index</span></code></a>()</p></td>\n",
    "<td><p>Return index for last non-NA value or None, if no non-NA value is found.</p></td>\n",
    "</tr>\n",
    "<tr class=\"row-odd\"><td><p><a class=\"reference internal\" href=\"pandas.DataFrame.le.html#pandas.DataFrame.le\" title=\"pandas.DataFrame.le\"><code class=\"xref py py-obj docutils literal notranslate\"><span class=\"pre\">le</span></code></a>(other[,&nbsp;axis,&nbsp;level])</p></td>\n",
    "<td><p>Get Less than or equal to of dataframe and other, element-wise (binary operator <cite>le</cite>).</p></td>\n",
    "</tr>\n",
    "<tr class=\"row-even\"><td><p><a class=\"reference internal\" href=\"pandas.DataFrame.lookup.html#pandas.DataFrame.lookup\" title=\"pandas.DataFrame.lookup\"><code class=\"xref py py-obj docutils literal notranslate\"><span class=\"pre\">lookup</span></code></a>(row_labels,&nbsp;col_labels)</p></td>\n",
    "<td><p>(DEPRECATED) Label-based \"fancy indexing\" function for DataFrame.</p></td>\n",
    "</tr>\n",
    "<tr class=\"row-odd\"><td><p><a class=\"reference internal\" href=\"pandas.DataFrame.lt.html#pandas.DataFrame.lt\" title=\"pandas.DataFrame.lt\"><code class=\"xref py py-obj docutils literal notranslate\"><span class=\"pre\">lt</span></code></a>(other[,&nbsp;axis,&nbsp;level])</p></td>\n",
    "<td><p>Get Less than of dataframe and other, element-wise (binary operator <cite>lt</cite>).</p></td>\n",
    "</tr>\n",
    "<tr class=\"row-even\"><td><p><a class=\"reference internal\" href=\"pandas.DataFrame.mad.html#pandas.DataFrame.mad\" title=\"pandas.DataFrame.mad\"><code class=\"xref py py-obj docutils literal notranslate\"><span class=\"pre\">mad</span></code></a>([axis,&nbsp;skipna,&nbsp;level])</p></td>\n",
    "<td><p>(DEPRECATED) Return the mean absolute deviation of the values over the requested axis.</p></td>\n",
    "</tr>\n",
    "<tr class=\"row-odd\"><td><p><a class=\"reference internal\" href=\"pandas.DataFrame.mask.html#pandas.DataFrame.mask\" title=\"pandas.DataFrame.mask\"><code class=\"xref py py-obj docutils literal notranslate\"><span class=\"pre\">mask</span></code></a>(cond[,&nbsp;other,&nbsp;inplace,&nbsp;axis,&nbsp;level,&nbsp;...])</p></td>\n",
    "<td><p>Replace values where the condition is True.</p></td>\n",
    "</tr>\n",
    "<tr class=\"row-even\"><td><p><a class=\"reference internal\" href=\"pandas.DataFrame.max.html#pandas.DataFrame.max\" title=\"pandas.DataFrame.max\"><code class=\"xref py py-obj docutils literal notranslate\"><span class=\"pre\">max</span></code></a>([axis,&nbsp;skipna,&nbsp;level,&nbsp;numeric_only])</p></td>\n",
    "<td><p>Return the maximum of the values over the requested axis.</p></td>\n",
    "</tr>\n",
    "<tr class=\"row-odd\"><td><p><a class=\"reference internal\" href=\"pandas.DataFrame.mean.html#pandas.DataFrame.mean\" title=\"pandas.DataFrame.mean\"><code class=\"xref py py-obj docutils literal notranslate\"><span class=\"pre\">mean</span></code></a>([axis,&nbsp;skipna,&nbsp;level,&nbsp;numeric_only])</p></td>\n",
    "<td><p>Return the mean of the values over the requested axis.</p></td>\n",
    "</tr>\n",
    "<tr class=\"row-even\"><td><p><a class=\"reference internal\" href=\"pandas.DataFrame.median.html#pandas.DataFrame.median\" title=\"pandas.DataFrame.median\"><code class=\"xref py py-obj docutils literal notranslate\"><span class=\"pre\">median</span></code></a>([axis,&nbsp;skipna,&nbsp;level,&nbsp;numeric_only])</p></td>\n",
    "<td><p>Return the median of the values over the requested axis.</p></td>\n",
    "</tr>\n",
    "<tr class=\"row-odd\"><td><p><a class=\"reference internal\" href=\"pandas.DataFrame.melt.html#pandas.DataFrame.melt\" title=\"pandas.DataFrame.melt\"><code class=\"xref py py-obj docutils literal notranslate\"><span class=\"pre\">melt</span></code></a>([id_vars,&nbsp;value_vars,&nbsp;var_name,&nbsp;...])</p></td>\n",
    "<td><p>Unpivot a DataFrame from wide to long format, optionally leaving identifiers set.</p></td>\n",
    "</tr>\n",
    "<tr class=\"row-even\"><td><p><a class=\"reference internal\" href=\"pandas.DataFrame.memory_usage.html#pandas.DataFrame.memory_usage\" title=\"pandas.DataFrame.memory_usage\"><code class=\"xref py py-obj docutils literal notranslate\"><span class=\"pre\">memory_usage</span></code></a>([index,&nbsp;deep])</p></td>\n",
    "<td><p>Return the memory usage of each column in bytes.</p></td>\n",
    "</tr>\n",
    "<tr class=\"row-odd\"><td><p><a class=\"reference internal\" href=\"pandas.DataFrame.merge.html#pandas.DataFrame.merge\" title=\"pandas.DataFrame.merge\"><code class=\"xref py py-obj docutils literal notranslate\"><span class=\"pre\">merge</span></code></a>(right[,&nbsp;how,&nbsp;on,&nbsp;left_on,&nbsp;right_on,&nbsp;...])</p></td>\n",
    "<td><p>Merge DataFrame or named Series objects with a database-style join.</p></td>\n",
    "</tr>\n",
    "<tr class=\"row-even\"><td><p><a class=\"reference internal\" href=\"pandas.DataFrame.min.html#pandas.DataFrame.min\" title=\"pandas.DataFrame.min\"><code class=\"xref py py-obj docutils literal notranslate\"><span class=\"pre\">min</span></code></a>([axis,&nbsp;skipna,&nbsp;level,&nbsp;numeric_only])</p></td>\n",
    "<td><p>Return the minimum of the values over the requested axis.</p></td>\n",
    "</tr>\n",
    "<tr class=\"row-odd\"><td><p><a class=\"reference internal\" href=\"pandas.DataFrame.mod.html#pandas.DataFrame.mod\" title=\"pandas.DataFrame.mod\"><code class=\"xref py py-obj docutils literal notranslate\"><span class=\"pre\">mod</span></code></a>(other[,&nbsp;axis,&nbsp;level,&nbsp;fill_value])</p></td>\n",
    "<td><p>Get Modulo of dataframe and other, element-wise (binary operator <cite>mod</cite>).</p></td>\n",
    "</tr>\n",
    "<tr class=\"row-even\"><td><p><a class=\"reference internal\" href=\"pandas.DataFrame.mode.html#pandas.DataFrame.mode\" title=\"pandas.DataFrame.mode\"><code class=\"xref py py-obj docutils literal notranslate\"><span class=\"pre\">mode</span></code></a>([axis,&nbsp;numeric_only,&nbsp;dropna])</p></td>\n",
    "<td><p>Get the mode(s) of each element along the selected axis.</p></td>\n",
    "</tr>\n",
    "<tr class=\"row-odd\"><td><p><a class=\"reference internal\" href=\"pandas.DataFrame.mul.html#pandas.DataFrame.mul\" title=\"pandas.DataFrame.mul\"><code class=\"xref py py-obj docutils literal notranslate\"><span class=\"pre\">mul</span></code></a>(other[,&nbsp;axis,&nbsp;level,&nbsp;fill_value])</p></td>\n",
    "<td><p>Get Multiplication of dataframe and other, element-wise (binary operator <cite>mul</cite>).</p></td>\n",
    "</tr>\n",
    "<tr class=\"row-even\"><td><p><a class=\"reference internal\" href=\"pandas.DataFrame.multiply.html#pandas.DataFrame.multiply\" title=\"pandas.DataFrame.multiply\"><code class=\"xref py py-obj docutils literal notranslate\"><span class=\"pre\">multiply</span></code></a>(other[,&nbsp;axis,&nbsp;level,&nbsp;fill_value])</p></td>\n",
    "<td><p>Get Multiplication of dataframe and other, element-wise (binary operator <cite>mul</cite>).</p></td>\n",
    "</tr>\n",
    "<tr class=\"row-odd\"><td><p><a class=\"reference internal\" href=\"pandas.DataFrame.ne.html#pandas.DataFrame.ne\" title=\"pandas.DataFrame.ne\"><code class=\"xref py py-obj docutils literal notranslate\"><span class=\"pre\">ne</span></code></a>(other[,&nbsp;axis,&nbsp;level])</p></td>\n",
    "<td><p>Get Not equal to of dataframe and other, element-wise (binary operator <cite>ne</cite>).</p></td>\n",
    "</tr>\n",
    "<tr class=\"row-even\"><td><p><a class=\"reference internal\" href=\"pandas.DataFrame.nlargest.html#pandas.DataFrame.nlargest\" title=\"pandas.DataFrame.nlargest\"><code class=\"xref py py-obj docutils literal notranslate\"><span class=\"pre\">nlargest</span></code></a>(n,&nbsp;columns[,&nbsp;keep])</p></td>\n",
    "<td><p>Return the first <cite>n</cite> rows ordered by <cite>columns</cite> in descending order.</p></td>\n",
    "</tr>\n",
    "<tr class=\"row-odd\"><td><p><a class=\"reference internal\" href=\"pandas.DataFrame.notna.html#pandas.DataFrame.notna\" title=\"pandas.DataFrame.notna\"><code class=\"xref py py-obj docutils literal notranslate\"><span class=\"pre\">notna</span></code></a>()</p></td>\n",
    "<td><p>Detect existing (non-missing) values.</p></td>\n",
    "</tr>\n",
    "<tr class=\"row-even\"><td><p><a class=\"reference internal\" href=\"pandas.DataFrame.notnull.html#pandas.DataFrame.notnull\" title=\"pandas.DataFrame.notnull\"><code class=\"xref py py-obj docutils literal notranslate\"><span class=\"pre\">notnull</span></code></a>()</p></td>\n",
    "<td><p>DataFrame.notnull is an alias for DataFrame.notna.</p></td>\n",
    "</tr>\n",
    "<tr class=\"row-odd\"><td><p><a class=\"reference internal\" href=\"pandas.DataFrame.nsmallest.html#pandas.DataFrame.nsmallest\" title=\"pandas.DataFrame.nsmallest\"><code class=\"xref py py-obj docutils literal notranslate\"><span class=\"pre\">nsmallest</span></code></a>(n,&nbsp;columns[,&nbsp;keep])</p></td>\n",
    "<td><p>Return the first <cite>n</cite> rows ordered by <cite>columns</cite> in ascending order.</p></td>\n",
    "</tr>\n",
    "<tr class=\"row-even\"><td><p><a class=\"reference internal\" href=\"pandas.DataFrame.nunique.html#pandas.DataFrame.nunique\" title=\"pandas.DataFrame.nunique\"><code class=\"xref py py-obj docutils literal notranslate\"><span class=\"pre\">nunique</span></code></a>([axis,&nbsp;dropna])</p></td>\n",
    "<td><p>Count number of distinct elements in specified axis.</p></td>\n",
    "</tr>\n",
    "<tr class=\"row-odd\"><td><p><a class=\"reference internal\" href=\"pandas.DataFrame.pad.html#pandas.DataFrame.pad\" title=\"pandas.DataFrame.pad\"><code class=\"xref py py-obj docutils literal notranslate\"><span class=\"pre\">pad</span></code></a>([axis,&nbsp;inplace,&nbsp;limit,&nbsp;downcast])</p></td>\n",
    "<td><p>Synonym for <a class=\"reference internal\" href=\"pandas.DataFrame.fillna.html#pandas.DataFrame.fillna\" title=\"pandas.DataFrame.fillna\"><code class=\"xref py py-meth docutils literal notranslate\"><span class=\"pre\">DataFrame.fillna()</span></code></a> with <code class=\"docutils literal notranslate\"><span class=\"pre\">method='ffill'</span></code>.</p></td>\n",
    "</tr>\n",
    "<tr class=\"row-even\"><td><p><a class=\"reference internal\" href=\"pandas.DataFrame.pct_change.html#pandas.DataFrame.pct_change\" title=\"pandas.DataFrame.pct_change\"><code class=\"xref py py-obj docutils literal notranslate\"><span class=\"pre\">pct_change</span></code></a>([periods,&nbsp;fill_method,&nbsp;limit,&nbsp;freq])</p></td>\n",
    "<td><p>Percentage change between the current and a prior element.</p></td>\n",
    "</tr>\n",
    "<tr class=\"row-odd\"><td><p><a class=\"reference internal\" href=\"pandas.DataFrame.pipe.html#pandas.DataFrame.pipe\" title=\"pandas.DataFrame.pipe\"><code class=\"xref py py-obj docutils literal notranslate\"><span class=\"pre\">pipe</span></code></a>(func,&nbsp;*args,&nbsp;**kwargs)</p></td>\n",
    "<td><p>Apply chainable functions that expect Series or DataFrames.</p></td>\n",
    "</tr>\n",
    "<tr class=\"row-even\"><td><p><a class=\"reference internal\" href=\"pandas.DataFrame.pivot.html#pandas.DataFrame.pivot\" title=\"pandas.DataFrame.pivot\"><code class=\"xref py py-obj docutils literal notranslate\"><span class=\"pre\">pivot</span></code></a>([index,&nbsp;columns,&nbsp;values])</p></td>\n",
    "<td><p>Return reshaped DataFrame organized by given index / column values.</p></td>\n",
    "</tr>\n",
    "<tr class=\"row-odd\"><td><p><a class=\"reference internal\" href=\"pandas.DataFrame.pivot_table.html#pandas.DataFrame.pivot_table\" title=\"pandas.DataFrame.pivot_table\"><code class=\"xref py py-obj docutils literal notranslate\"><span class=\"pre\">pivot_table</span></code></a>([values,&nbsp;index,&nbsp;columns,&nbsp;...])</p></td>\n",
    "<td><p>Create a spreadsheet-style pivot table as a DataFrame.</p></td>\n",
    "</tr>\n",
    "<tr class=\"row-even\"><td><p><a class=\"reference internal\" href=\"pandas.DataFrame.plot.html#pandas.DataFrame.plot\" title=\"pandas.DataFrame.plot\"><code class=\"xref py py-obj docutils literal notranslate\"><span class=\"pre\">plot</span></code></a></p></td>\n",
    "<td><p>alias of <code class=\"xref py py-class docutils literal notranslate\"><span class=\"pre\">pandas.plotting._core.PlotAccessor</span></code></p></td>\n",
    "</tr>\n",
    "<tr class=\"row-odd\"><td><p><a class=\"reference internal\" href=\"pandas.DataFrame.pop.html#pandas.DataFrame.pop\" title=\"pandas.DataFrame.pop\"><code class=\"xref py py-obj docutils literal notranslate\"><span class=\"pre\">pop</span></code></a>(item)</p></td>\n",
    "<td><p>Return item and drop from frame.</p></td>\n",
    "</tr>\n",
    "<tr class=\"row-even\"><td><p><a class=\"reference internal\" href=\"pandas.DataFrame.pow.html#pandas.DataFrame.pow\" title=\"pandas.DataFrame.pow\"><code class=\"xref py py-obj docutils literal notranslate\"><span class=\"pre\">pow</span></code></a>(other[,&nbsp;axis,&nbsp;level,&nbsp;fill_value])</p></td>\n",
    "<td><p>Get Exponential power of dataframe and other, element-wise (binary operator <cite>pow</cite>).</p></td>\n",
    "</tr>\n",
    "<tr class=\"row-odd\"><td><p><a class=\"reference internal\" href=\"pandas.DataFrame.prod.html#pandas.DataFrame.prod\" title=\"pandas.DataFrame.prod\"><code class=\"xref py py-obj docutils literal notranslate\"><span class=\"pre\">prod</span></code></a>([axis,&nbsp;skipna,&nbsp;level,&nbsp;numeric_only,&nbsp;...])</p></td>\n",
    "<td><p>Return the product of the values over the requested axis.</p></td>\n",
    "</tr>\n",
    "<tr class=\"row-even\"><td><p><a class=\"reference internal\" href=\"pandas.DataFrame.product.html#pandas.DataFrame.product\" title=\"pandas.DataFrame.product\"><code class=\"xref py py-obj docutils literal notranslate\"><span class=\"pre\">product</span></code></a>([axis,&nbsp;skipna,&nbsp;level,&nbsp;numeric_only,&nbsp;...])</p></td>\n",
    "<td><p>Return the product of the values over the requested axis.</p></td>\n",
    "</tr>\n",
    "<tr class=\"row-odd\"><td><p><a class=\"reference internal\" href=\"pandas.DataFrame.quantile.html#pandas.DataFrame.quantile\" title=\"pandas.DataFrame.quantile\"><code class=\"xref py py-obj docutils literal notranslate\"><span class=\"pre\">quantile</span></code></a>([q,&nbsp;axis,&nbsp;numeric_only,&nbsp;...])</p></td>\n",
    "<td><p>Return values at the given quantile over requested axis.</p></td>\n",
    "</tr>\n",
    "<tr class=\"row-even\"><td><p><a class=\"reference internal\" href=\"pandas.DataFrame.query.html#pandas.DataFrame.query\" title=\"pandas.DataFrame.query\"><code class=\"xref py py-obj docutils literal notranslate\"><span class=\"pre\">query</span></code></a>(expr[,&nbsp;inplace])</p></td>\n",
    "<td><p>Query the columns of a DataFrame with a boolean expression.</p></td>\n",
    "</tr>\n",
    "<tr class=\"row-odd\"><td><p><a class=\"reference internal\" href=\"pandas.DataFrame.radd.html#pandas.DataFrame.radd\" title=\"pandas.DataFrame.radd\"><code class=\"xref py py-obj docutils literal notranslate\"><span class=\"pre\">radd</span></code></a>(other[,&nbsp;axis,&nbsp;level,&nbsp;fill_value])</p></td>\n",
    "<td><p>Get Addition of dataframe and other, element-wise (binary operator <cite>radd</cite>).</p></td>\n",
    "</tr>\n",
    "<tr class=\"row-even\"><td><p><a class=\"reference internal\" href=\"pandas.DataFrame.rank.html#pandas.DataFrame.rank\" title=\"pandas.DataFrame.rank\"><code class=\"xref py py-obj docutils literal notranslate\"><span class=\"pre\">rank</span></code></a>([axis,&nbsp;method,&nbsp;numeric_only,&nbsp;...])</p></td>\n",
    "<td><p>Compute numerical data ranks (1 through n) along axis.</p></td>\n",
    "</tr>\n",
    "<tr class=\"row-odd\"><td><p><a class=\"reference internal\" href=\"pandas.DataFrame.rdiv.html#pandas.DataFrame.rdiv\" title=\"pandas.DataFrame.rdiv\"><code class=\"xref py py-obj docutils literal notranslate\"><span class=\"pre\">rdiv</span></code></a>(other[,&nbsp;axis,&nbsp;level,&nbsp;fill_value])</p></td>\n",
    "<td><p>Get Floating division of dataframe and other, element-wise (binary operator <cite>rtruediv</cite>).</p></td>\n",
    "</tr>\n",
    "<tr class=\"row-even\"><td><p><a class=\"reference internal\" href=\"pandas.DataFrame.reindex.html#pandas.DataFrame.reindex\" title=\"pandas.DataFrame.reindex\"><code class=\"xref py py-obj docutils literal notranslate\"><span class=\"pre\">reindex</span></code></a>([labels,&nbsp;index,&nbsp;columns,&nbsp;axis,&nbsp;...])</p></td>\n",
    "<td><p>Conform Series/DataFrame to new index with optional filling logic.</p></td>\n",
    "</tr>\n",
    "<tr class=\"row-odd\"><td><p><a class=\"reference internal\" href=\"pandas.DataFrame.reindex_like.html#pandas.DataFrame.reindex_like\" title=\"pandas.DataFrame.reindex_like\"><code class=\"xref py py-obj docutils literal notranslate\"><span class=\"pre\">reindex_like</span></code></a>(other[,&nbsp;method,&nbsp;copy,&nbsp;limit,&nbsp;...])</p></td>\n",
    "<td><p>Return an object with matching indices as other object.</p></td>\n",
    "</tr>\n",
    "<tr class=\"row-even\"><td><p><a class=\"reference internal\" href=\"pandas.DataFrame.rename.html#pandas.DataFrame.rename\" title=\"pandas.DataFrame.rename\"><code class=\"xref py py-obj docutils literal notranslate\"><span class=\"pre\">rename</span></code></a>([mapper,&nbsp;index,&nbsp;columns,&nbsp;axis,&nbsp;copy,&nbsp;...])</p></td>\n",
    "<td><p>Alter axes labels.</p></td>\n",
    "</tr>\n",
    "<tr class=\"row-odd\"><td><p><a class=\"reference internal\" href=\"pandas.DataFrame.rename_axis.html#pandas.DataFrame.rename_axis\" title=\"pandas.DataFrame.rename_axis\"><code class=\"xref py py-obj docutils literal notranslate\"><span class=\"pre\">rename_axis</span></code></a>([mapper,&nbsp;index,&nbsp;columns,&nbsp;axis,&nbsp;copy])</p></td>\n",
    "<td><p>Set the name of the axis for the index or columns.</p></td>\n",
    "</tr>\n",
    "<tr class=\"row-even\"><td><p><a class=\"reference internal\" href=\"pandas.DataFrame.reorder_levels.html#pandas.DataFrame.reorder_levels\" title=\"pandas.DataFrame.reorder_levels\"><code class=\"xref py py-obj docutils literal notranslate\"><span class=\"pre\">reorder_levels</span></code></a>(order[,&nbsp;axis])</p></td>\n",
    "<td><p>Rearrange index levels using input order.</p></td>\n",
    "</tr>\n",
    "<tr class=\"row-odd\"><td><p><a class=\"reference internal\" href=\"pandas.DataFrame.replace.html#pandas.DataFrame.replace\" title=\"pandas.DataFrame.replace\"><code class=\"xref py py-obj docutils literal notranslate\"><span class=\"pre\">replace</span></code></a>([to_replace,&nbsp;value,&nbsp;inplace,&nbsp;limit,&nbsp;...])</p></td>\n",
    "<td><p>Replace values given in <cite>to_replace</cite> with <cite>value</cite>.</p></td>\n",
    "</tr>\n",
    "<tr class=\"row-even\"><td><p><a class=\"reference internal\" href=\"pandas.DataFrame.resample.html#pandas.DataFrame.resample\" title=\"pandas.DataFrame.resample\"><code class=\"xref py py-obj docutils literal notranslate\"><span class=\"pre\">resample</span></code></a>(rule[,&nbsp;axis,&nbsp;closed,&nbsp;label,&nbsp;...])</p></td>\n",
    "<td><p>Resample time-series data.</p></td>\n",
    "</tr>\n",
    "<tr class=\"row-odd\"><td><p><a class=\"reference internal\" href=\"pandas.DataFrame.reset_index.html#pandas.DataFrame.reset_index\" title=\"pandas.DataFrame.reset_index\"><code class=\"xref py py-obj docutils literal notranslate\"><span class=\"pre\">reset_index</span></code></a>([level,&nbsp;drop,&nbsp;inplace,&nbsp;...])</p></td>\n",
    "<td><p>Reset the index, or a level of it.</p></td>\n",
    "</tr>\n",
    "<tr class=\"row-even\"><td><p><a class=\"reference internal\" href=\"pandas.DataFrame.rfloordiv.html#pandas.DataFrame.rfloordiv\" title=\"pandas.DataFrame.rfloordiv\"><code class=\"xref py py-obj docutils literal notranslate\"><span class=\"pre\">rfloordiv</span></code></a>(other[,&nbsp;axis,&nbsp;level,&nbsp;fill_value])</p></td>\n",
    "<td><p>Get Integer division of dataframe and other, element-wise (binary operator <cite>rfloordiv</cite>).</p></td>\n",
    "</tr>\n",
    "<tr class=\"row-odd\"><td><p><a class=\"reference internal\" href=\"pandas.DataFrame.rmod.html#pandas.DataFrame.rmod\" title=\"pandas.DataFrame.rmod\"><code class=\"xref py py-obj docutils literal notranslate\"><span class=\"pre\">rmod</span></code></a>(other[,&nbsp;axis,&nbsp;level,&nbsp;fill_value])</p></td>\n",
    "<td><p>Get Modulo of dataframe and other, element-wise (binary operator <cite>rmod</cite>).</p></td>\n",
    "</tr>\n",
    "<tr class=\"row-even\"><td><p><a class=\"reference internal\" href=\"pandas.DataFrame.rmul.html#pandas.DataFrame.rmul\" title=\"pandas.DataFrame.rmul\"><code class=\"xref py py-obj docutils literal notranslate\"><span class=\"pre\">rmul</span></code></a>(other[,&nbsp;axis,&nbsp;level,&nbsp;fill_value])</p></td>\n",
    "<td><p>Get Multiplication of dataframe and other, element-wise (binary operator <cite>rmul</cite>).</p></td>\n",
    "</tr>\n",
    "<tr class=\"row-odd\"><td><p><a class=\"reference internal\" href=\"pandas.DataFrame.rolling.html#pandas.DataFrame.rolling\" title=\"pandas.DataFrame.rolling\"><code class=\"xref py py-obj docutils literal notranslate\"><span class=\"pre\">rolling</span></code></a>(window[,&nbsp;min_periods,&nbsp;center,&nbsp;...])</p></td>\n",
    "<td><p>Provide rolling window calculations.</p></td>\n",
    "</tr>\n",
    "<tr class=\"row-even\"><td><p><a class=\"reference internal\" href=\"pandas.DataFrame.round.html#pandas.DataFrame.round\" title=\"pandas.DataFrame.round\"><code class=\"xref py py-obj docutils literal notranslate\"><span class=\"pre\">round</span></code></a>([decimals])</p></td>\n",
    "<td><p>Round a DataFrame to a variable number of decimal places.</p></td>\n",
    "</tr>\n",
    "<tr class=\"row-odd\"><td><p><a class=\"reference internal\" href=\"pandas.DataFrame.rpow.html#pandas.DataFrame.rpow\" title=\"pandas.DataFrame.rpow\"><code class=\"xref py py-obj docutils literal notranslate\"><span class=\"pre\">rpow</span></code></a>(other[,&nbsp;axis,&nbsp;level,&nbsp;fill_value])</p></td>\n",
    "<td><p>Get Exponential power of dataframe and other, element-wise (binary operator <cite>rpow</cite>).</p></td>\n",
    "</tr>\n",
    "<tr class=\"row-even\"><td><p><a class=\"reference internal\" href=\"pandas.DataFrame.rsub.html#pandas.DataFrame.rsub\" title=\"pandas.DataFrame.rsub\"><code class=\"xref py py-obj docutils literal notranslate\"><span class=\"pre\">rsub</span></code></a>(other[,&nbsp;axis,&nbsp;level,&nbsp;fill_value])</p></td>\n",
    "<td><p>Get Subtraction of dataframe and other, element-wise (binary operator <cite>rsub</cite>).</p></td>\n",
    "</tr>\n",
    "<tr class=\"row-odd\"><td><p><a class=\"reference internal\" href=\"pandas.DataFrame.rtruediv.html#pandas.DataFrame.rtruediv\" title=\"pandas.DataFrame.rtruediv\"><code class=\"xref py py-obj docutils literal notranslate\"><span class=\"pre\">rtruediv</span></code></a>(other[,&nbsp;axis,&nbsp;level,&nbsp;fill_value])</p></td>\n",
    "<td><p>Get Floating division of dataframe and other, element-wise (binary operator <cite>rtruediv</cite>).</p></td>\n",
    "</tr>\n",
    "<tr class=\"row-even\"><td><p><a class=\"reference internal\" href=\"pandas.DataFrame.sample.html#pandas.DataFrame.sample\" title=\"pandas.DataFrame.sample\"><code class=\"xref py py-obj docutils literal notranslate\"><span class=\"pre\">sample</span></code></a>([n,&nbsp;frac,&nbsp;replace,&nbsp;weights,&nbsp;...])</p></td>\n",
    "<td><p>Return a random sample of items from an axis of object.</p></td>\n",
    "</tr>\n",
    "<tr class=\"row-odd\"><td><p><a class=\"reference internal\" href=\"pandas.DataFrame.select_dtypes.html#pandas.DataFrame.select_dtypes\" title=\"pandas.DataFrame.select_dtypes\"><code class=\"xref py py-obj docutils literal notranslate\"><span class=\"pre\">select_dtypes</span></code></a>([include,&nbsp;exclude])</p></td>\n",
    "<td><p>Return a subset of the DataFrame's columns based on the column dtypes.</p></td>\n",
    "</tr>\n",
    "<tr class=\"row-even\"><td><p><a class=\"reference internal\" href=\"pandas.DataFrame.sem.html#pandas.DataFrame.sem\" title=\"pandas.DataFrame.sem\"><code class=\"xref py py-obj docutils literal notranslate\"><span class=\"pre\">sem</span></code></a>([axis,&nbsp;skipna,&nbsp;level,&nbsp;ddof,&nbsp;numeric_only])</p></td>\n",
    "<td><p>Return unbiased standard error of the mean over requested axis.</p></td>\n",
    "</tr>\n",
    "<tr class=\"row-odd\"><td><p><a class=\"reference internal\" href=\"pandas.DataFrame.set_axis.html#pandas.DataFrame.set_axis\" title=\"pandas.DataFrame.set_axis\"><code class=\"xref py py-obj docutils literal notranslate\"><span class=\"pre\">set_axis</span></code></a>(labels[,&nbsp;axis,&nbsp;inplace,&nbsp;copy])</p></td>\n",
    "<td><p>Assign desired index to given axis.</p></td>\n",
    "</tr>\n",
    "<tr class=\"row-even\"><td><p><a class=\"reference internal\" href=\"pandas.DataFrame.set_flags.html#pandas.DataFrame.set_flags\" title=\"pandas.DataFrame.set_flags\"><code class=\"xref py py-obj docutils literal notranslate\"><span class=\"pre\">set_flags</span></code></a>(*[,&nbsp;copy,&nbsp;allows_duplicate_labels])</p></td>\n",
    "<td><p>Return a new object with updated flags.</p></td>\n",
    "</tr>\n",
    "<tr class=\"row-odd\"><td><p><a class=\"reference internal\" href=\"pandas.DataFrame.set_index.html#pandas.DataFrame.set_index\" title=\"pandas.DataFrame.set_index\"><code class=\"xref py py-obj docutils literal notranslate\"><span class=\"pre\">set_index</span></code></a>(keys[,&nbsp;drop,&nbsp;append,&nbsp;inplace,&nbsp;...])</p></td>\n",
    "<td><p>Set the DataFrame index using existing columns.</p></td>\n",
    "</tr>\n",
    "<tr class=\"row-even\"><td><p><a class=\"reference internal\" href=\"pandas.DataFrame.shift.html#pandas.DataFrame.shift\" title=\"pandas.DataFrame.shift\"><code class=\"xref py py-obj docutils literal notranslate\"><span class=\"pre\">shift</span></code></a>([periods,&nbsp;freq,&nbsp;axis,&nbsp;fill_value])</p></td>\n",
    "<td><p>Shift index by desired number of periods with an optional time <cite>freq</cite>.</p></td>\n",
    "</tr>\n",
    "<tr class=\"row-odd\"><td><p><a class=\"reference internal\" href=\"pandas.DataFrame.skew.html#pandas.DataFrame.skew\" title=\"pandas.DataFrame.skew\"><code class=\"xref py py-obj docutils literal notranslate\"><span class=\"pre\">skew</span></code></a>([axis,&nbsp;skipna,&nbsp;level,&nbsp;numeric_only])</p></td>\n",
    "<td><p>Return unbiased skew over requested axis.</p></td>\n",
    "</tr>\n",
    "<tr class=\"row-even\"><td><p><a class=\"reference internal\" href=\"pandas.DataFrame.slice_shift.html#pandas.DataFrame.slice_shift\" title=\"pandas.DataFrame.slice_shift\"><code class=\"xref py py-obj docutils literal notranslate\"><span class=\"pre\">slice_shift</span></code></a>([periods,&nbsp;axis])</p></td>\n",
    "<td><p>(DEPRECATED) Equivalent to <cite>shift</cite> without copying data.</p></td>\n",
    "</tr>\n",
    "<tr class=\"row-odd\"><td><p><a class=\"reference internal\" href=\"pandas.DataFrame.sort_index.html#pandas.DataFrame.sort_index\" title=\"pandas.DataFrame.sort_index\"><code class=\"xref py py-obj docutils literal notranslate\"><span class=\"pre\">sort_index</span></code></a>([axis,&nbsp;level,&nbsp;ascending,&nbsp;...])</p></td>\n",
    "<td><p>Sort object by labels (along an axis).</p></td>\n",
    "</tr>\n",
    "<tr class=\"row-even\"><td><p><a class=\"reference internal\" href=\"pandas.DataFrame.sort_values.html#pandas.DataFrame.sort_values\" title=\"pandas.DataFrame.sort_values\"><code class=\"xref py py-obj docutils literal notranslate\"><span class=\"pre\">sort_values</span></code></a>(by[,&nbsp;axis,&nbsp;ascending,&nbsp;inplace,&nbsp;...])</p></td>\n",
    "<td><p>Sort by the values along either axis.</p></td>\n",
    "</tr>\n",
    "<tr class=\"row-odd\"><td><p><a class=\"reference internal\" href=\"pandas.DataFrame.sparse.html#pandas.DataFrame.sparse\" title=\"pandas.DataFrame.sparse\"><code class=\"xref py py-obj docutils literal notranslate\"><span class=\"pre\">sparse</span></code></a></p></td>\n",
    "<td><p>alias of <code class=\"xref py py-class docutils literal notranslate\"><span class=\"pre\">pandas.core.arrays.sparse.accessor.SparseFrameAccessor</span></code></p></td>\n",
    "</tr>\n",
    "<tr class=\"row-even\"><td><p><a class=\"reference internal\" href=\"pandas.DataFrame.squeeze.html#pandas.DataFrame.squeeze\" title=\"pandas.DataFrame.squeeze\"><code class=\"xref py py-obj docutils literal notranslate\"><span class=\"pre\">squeeze</span></code></a>([axis])</p></td>\n",
    "<td><p>Squeeze 1 dimensional axis objects into scalars.</p></td>\n",
    "</tr>\n",
    "<tr class=\"row-odd\"><td><p><a class=\"reference internal\" href=\"pandas.DataFrame.stack.html#pandas.DataFrame.stack\" title=\"pandas.DataFrame.stack\"><code class=\"xref py py-obj docutils literal notranslate\"><span class=\"pre\">stack</span></code></a>([level,&nbsp;dropna])</p></td>\n",
    "<td><p>Stack the prescribed level(s) from columns to index.</p></td>\n",
    "</tr>\n",
    "<tr class=\"row-even\"><td><p><a class=\"reference internal\" href=\"pandas.DataFrame.std.html#pandas.DataFrame.std\" title=\"pandas.DataFrame.std\"><code class=\"xref py py-obj docutils literal notranslate\"><span class=\"pre\">std</span></code></a>([axis,&nbsp;skipna,&nbsp;level,&nbsp;ddof,&nbsp;numeric_only])</p></td>\n",
    "<td><p>Return sample standard deviation over requested axis.</p></td>\n",
    "</tr>\n",
    "<tr class=\"row-odd\"><td><p><a class=\"reference internal\" href=\"pandas.DataFrame.sub.html#pandas.DataFrame.sub\" title=\"pandas.DataFrame.sub\"><code class=\"xref py py-obj docutils literal notranslate\"><span class=\"pre\">sub</span></code></a>(other[,&nbsp;axis,&nbsp;level,&nbsp;fill_value])</p></td>\n",
    "<td><p>Get Subtraction of dataframe and other, element-wise (binary operator <cite>sub</cite>).</p></td>\n",
    "</tr>\n",
    "<tr class=\"row-even\"><td><p><a class=\"reference internal\" href=\"pandas.DataFrame.subtract.html#pandas.DataFrame.subtract\" title=\"pandas.DataFrame.subtract\"><code class=\"xref py py-obj docutils literal notranslate\"><span class=\"pre\">subtract</span></code></a>(other[,&nbsp;axis,&nbsp;level,&nbsp;fill_value])</p></td>\n",
    "<td><p>Get Subtraction of dataframe and other, element-wise (binary operator <cite>sub</cite>).</p></td>\n",
    "</tr>\n",
    "<tr class=\"row-odd\"><td><p><a class=\"reference internal\" href=\"pandas.DataFrame.sum.html#pandas.DataFrame.sum\" title=\"pandas.DataFrame.sum\"><code class=\"xref py py-obj docutils literal notranslate\"><span class=\"pre\">sum</span></code></a>([axis,&nbsp;skipna,&nbsp;level,&nbsp;numeric_only,&nbsp;...])</p></td>\n",
    "<td><p>Return the sum of the values over the requested axis.</p></td>\n",
    "</tr>\n",
    "<tr class=\"row-even\"><td><p><a class=\"reference internal\" href=\"pandas.DataFrame.swapaxes.html#pandas.DataFrame.swapaxes\" title=\"pandas.DataFrame.swapaxes\"><code class=\"xref py py-obj docutils literal notranslate\"><span class=\"pre\">swapaxes</span></code></a>(axis1,&nbsp;axis2[,&nbsp;copy])</p></td>\n",
    "<td><p>Interchange axes and swap values axes appropriately.</p></td>\n",
    "</tr>\n",
    "<tr class=\"row-odd\"><td><p><a class=\"reference internal\" href=\"pandas.DataFrame.swaplevel.html#pandas.DataFrame.swaplevel\" title=\"pandas.DataFrame.swaplevel\"><code class=\"xref py py-obj docutils literal notranslate\"><span class=\"pre\">swaplevel</span></code></a>([i,&nbsp;j,&nbsp;axis])</p></td>\n",
    "<td><p>Swap levels i and j in a <a class=\"reference internal\" href=\"pandas.MultiIndex.html#pandas.MultiIndex\" title=\"pandas.MultiIndex\"><code class=\"xref py py-class docutils literal notranslate\"><span class=\"pre\">MultiIndex</span></code></a>.</p></td>\n",
    "</tr>\n",
    "<tr class=\"row-even\"><td><p><a class=\"reference internal\" href=\"pandas.DataFrame.tail.html#pandas.DataFrame.tail\" title=\"pandas.DataFrame.tail\"><code class=\"xref py py-obj docutils literal notranslate\"><span class=\"pre\">tail</span></code></a>([n])</p></td>\n",
    "<td><p>Return the last <cite>n</cite> rows.</p></td>\n",
    "</tr>\n",
    "<tr class=\"row-odd\"><td><p><a class=\"reference internal\" href=\"pandas.DataFrame.take.html#pandas.DataFrame.take\" title=\"pandas.DataFrame.take\"><code class=\"xref py py-obj docutils literal notranslate\"><span class=\"pre\">take</span></code></a>(indices[,&nbsp;axis,&nbsp;is_copy])</p></td>\n",
    "<td><p>Return the elements in the given <em>positional</em> indices along an axis.</p></td>\n",
    "</tr>\n",
    "<tr class=\"row-even\"><td><p><a class=\"reference internal\" href=\"pandas.DataFrame.to_clipboard.html#pandas.DataFrame.to_clipboard\" title=\"pandas.DataFrame.to_clipboard\"><code class=\"xref py py-obj docutils literal notranslate\"><span class=\"pre\">to_clipboard</span></code></a>([excel,&nbsp;sep])</p></td>\n",
    "<td><p>Copy object to the system clipboard.</p></td>\n",
    "</tr>\n",
    "<tr class=\"row-odd\"><td><p><a class=\"reference internal\" href=\"pandas.DataFrame.to_csv.html#pandas.DataFrame.to_csv\" title=\"pandas.DataFrame.to_csv\"><code class=\"xref py py-obj docutils literal notranslate\"><span class=\"pre\">to_csv</span></code></a>([path_or_buf,&nbsp;sep,&nbsp;na_rep,&nbsp;...])</p></td>\n",
    "<td><p>Write object to a comma-separated values (csv) file.</p></td>\n",
    "</tr>\n",
    "<tr class=\"row-even\"><td><p><a class=\"reference internal\" href=\"pandas.DataFrame.to_dict.html#pandas.DataFrame.to_dict\" title=\"pandas.DataFrame.to_dict\"><code class=\"xref py py-obj docutils literal notranslate\"><span class=\"pre\">to_dict</span></code></a>([orient,&nbsp;into])</p></td>\n",
    "<td><p>Convert the DataFrame to a dictionary.</p></td>\n",
    "</tr>\n",
    "<tr class=\"row-odd\"><td><p><a class=\"reference internal\" href=\"pandas.DataFrame.to_excel.html#pandas.DataFrame.to_excel\" title=\"pandas.DataFrame.to_excel\"><code class=\"xref py py-obj docutils literal notranslate\"><span class=\"pre\">to_excel</span></code></a>(excel_writer[,&nbsp;sheet_name,&nbsp;na_rep,&nbsp;...])</p></td>\n",
    "<td><p>Write object to an Excel sheet.</p></td>\n",
    "</tr>\n",
    "<tr class=\"row-even\"><td><p><a class=\"reference internal\" href=\"pandas.DataFrame.to_feather.html#pandas.DataFrame.to_feather\" title=\"pandas.DataFrame.to_feather\"><code class=\"xref py py-obj docutils literal notranslate\"><span class=\"pre\">to_feather</span></code></a>(path,&nbsp;**kwargs)</p></td>\n",
    "<td><p>Write a DataFrame to the binary Feather format.</p></td>\n",
    "</tr>\n",
    "<tr class=\"row-odd\"><td><p><a class=\"reference internal\" href=\"pandas.DataFrame.to_gbq.html#pandas.DataFrame.to_gbq\" title=\"pandas.DataFrame.to_gbq\"><code class=\"xref py py-obj docutils literal notranslate\"><span class=\"pre\">to_gbq</span></code></a>(destination_table[,&nbsp;project_id,&nbsp;...])</p></td>\n",
    "<td><p>Write a DataFrame to a Google BigQuery table.</p></td>\n",
    "</tr>\n",
    "<tr class=\"row-even\"><td><p><a class=\"reference internal\" href=\"pandas.DataFrame.to_hdf.html#pandas.DataFrame.to_hdf\" title=\"pandas.DataFrame.to_hdf\"><code class=\"xref py py-obj docutils literal notranslate\"><span class=\"pre\">to_hdf</span></code></a>(path_or_buf,&nbsp;key[,&nbsp;mode,&nbsp;complevel,&nbsp;...])</p></td>\n",
    "<td><p>Write the contained data to an HDF5 file using HDFStore.</p></td>\n",
    "</tr>\n",
    "<tr class=\"row-odd\"><td><p><a class=\"reference internal\" href=\"pandas.DataFrame.to_html.html#pandas.DataFrame.to_html\" title=\"pandas.DataFrame.to_html\"><code class=\"xref py py-obj docutils literal notranslate\"><span class=\"pre\">to_html</span></code></a>([buf,&nbsp;columns,&nbsp;col_space,&nbsp;header,&nbsp;...])</p></td>\n",
    "<td><p>Render a DataFrame as an HTML table.</p></td>\n",
    "</tr>\n",
    "<tr class=\"row-even\"><td><p><a class=\"reference internal\" href=\"pandas.DataFrame.to_json.html#pandas.DataFrame.to_json\" title=\"pandas.DataFrame.to_json\"><code class=\"xref py py-obj docutils literal notranslate\"><span class=\"pre\">to_json</span></code></a>([path_or_buf,&nbsp;orient,&nbsp;date_format,&nbsp;...])</p></td>\n",
    "<td><p>Convert the object to a JSON string.</p></td>\n",
    "</tr>\n",
    "<tr class=\"row-odd\"><td><p><a class=\"reference internal\" href=\"pandas.DataFrame.to_latex.html#pandas.DataFrame.to_latex\" title=\"pandas.DataFrame.to_latex\"><code class=\"xref py py-obj docutils literal notranslate\"><span class=\"pre\">to_latex</span></code></a>([buf,&nbsp;columns,&nbsp;col_space,&nbsp;header,&nbsp;...])</p></td>\n",
    "<td><p>Render object to a LaTeX tabular, longtable, or nested table.</p></td>\n",
    "</tr>\n",
    "<tr class=\"row-even\"><td><p><a class=\"reference internal\" href=\"pandas.DataFrame.to_markdown.html#pandas.DataFrame.to_markdown\" title=\"pandas.DataFrame.to_markdown\"><code class=\"xref py py-obj docutils literal notranslate\"><span class=\"pre\">to_markdown</span></code></a>([buf,&nbsp;mode,&nbsp;index,&nbsp;storage_options])</p></td>\n",
    "<td><p>Print DataFrame in Markdown-friendly format.</p></td>\n",
    "</tr>\n",
    "<tr class=\"row-odd\"><td><p><a class=\"reference internal\" href=\"pandas.DataFrame.to_numpy.html#pandas.DataFrame.to_numpy\" title=\"pandas.DataFrame.to_numpy\"><code class=\"xref py py-obj docutils literal notranslate\"><span class=\"pre\">to_numpy</span></code></a>([dtype,&nbsp;copy,&nbsp;na_value])</p></td>\n",
    "<td><p>Convert the DataFrame to a NumPy array.</p></td>\n",
    "</tr>\n",
    "<tr class=\"row-even\"><td><p><a class=\"reference internal\" href=\"pandas.DataFrame.to_orc.html#pandas.DataFrame.to_orc\" title=\"pandas.DataFrame.to_orc\"><code class=\"xref py py-obj docutils literal notranslate\"><span class=\"pre\">to_orc</span></code></a>([path,&nbsp;engine,&nbsp;index,&nbsp;engine_kwargs])</p></td>\n",
    "<td><p>Write a DataFrame to the ORC format.</p></td>\n",
    "</tr>\n",
    "<tr class=\"row-odd\"><td><p><a class=\"reference internal\" href=\"pandas.DataFrame.to_parquet.html#pandas.DataFrame.to_parquet\" title=\"pandas.DataFrame.to_parquet\"><code class=\"xref py py-obj docutils literal notranslate\"><span class=\"pre\">to_parquet</span></code></a>([path,&nbsp;engine,&nbsp;compression,&nbsp;...])</p></td>\n",
    "<td><p>Write a DataFrame to the binary parquet format.</p></td>\n",
    "</tr>\n",
    "<tr class=\"row-even\"><td><p><a class=\"reference internal\" href=\"pandas.DataFrame.to_period.html#pandas.DataFrame.to_period\" title=\"pandas.DataFrame.to_period\"><code class=\"xref py py-obj docutils literal notranslate\"><span class=\"pre\">to_period</span></code></a>([freq,&nbsp;axis,&nbsp;copy])</p></td>\n",
    "<td><p>Convert DataFrame from DatetimeIndex to PeriodIndex.</p></td>\n",
    "</tr>\n",
    "<tr class=\"row-odd\"><td><p><a class=\"reference internal\" href=\"pandas.DataFrame.to_pickle.html#pandas.DataFrame.to_pickle\" title=\"pandas.DataFrame.to_pickle\"><code class=\"xref py py-obj docutils literal notranslate\"><span class=\"pre\">to_pickle</span></code></a>(path[,&nbsp;compression,&nbsp;protocol,&nbsp;...])</p></td>\n",
    "<td><p>Pickle (serialize) object to file.</p></td>\n",
    "</tr>\n",
    "<tr class=\"row-even\"><td><p><a class=\"reference internal\" href=\"pandas.DataFrame.to_records.html#pandas.DataFrame.to_records\" title=\"pandas.DataFrame.to_records\"><code class=\"xref py py-obj docutils literal notranslate\"><span class=\"pre\">to_records</span></code></a>([index,&nbsp;column_dtypes,&nbsp;index_dtypes])</p></td>\n",
    "<td><p>Convert DataFrame to a NumPy record array.</p></td>\n",
    "</tr>\n",
    "<tr class=\"row-odd\"><td><p><a class=\"reference internal\" href=\"pandas.DataFrame.to_sql.html#pandas.DataFrame.to_sql\" title=\"pandas.DataFrame.to_sql\"><code class=\"xref py py-obj docutils literal notranslate\"><span class=\"pre\">to_sql</span></code></a>(name,&nbsp;con[,&nbsp;schema,&nbsp;if_exists,&nbsp;...])</p></td>\n",
    "<td><p>Write records stored in a DataFrame to a SQL database.</p></td>\n",
    "</tr>\n",
    "<tr class=\"row-even\"><td><p><a class=\"reference internal\" href=\"pandas.DataFrame.to_stata.html#pandas.DataFrame.to_stata\" title=\"pandas.DataFrame.to_stata\"><code class=\"xref py py-obj docutils literal notranslate\"><span class=\"pre\">to_stata</span></code></a>(path[,&nbsp;convert_dates,&nbsp;write_index,&nbsp;...])</p></td>\n",
    "<td><p>Export DataFrame object to Stata dta format.</p></td>\n",
    "</tr>\n",
    "<tr class=\"row-odd\"><td><p><a class=\"reference internal\" href=\"pandas.DataFrame.to_string.html#pandas.DataFrame.to_string\" title=\"pandas.DataFrame.to_string\"><code class=\"xref py py-obj docutils literal notranslate\"><span class=\"pre\">to_string</span></code></a>([buf,&nbsp;columns,&nbsp;col_space,&nbsp;header,&nbsp;...])</p></td>\n",
    "<td><p>Render a DataFrame to a console-friendly tabular output.</p></td>\n",
    "</tr>\n",
    "<tr class=\"row-even\"><td><p><a class=\"reference internal\" href=\"pandas.DataFrame.to_timestamp.html#pandas.DataFrame.to_timestamp\" title=\"pandas.DataFrame.to_timestamp\"><code class=\"xref py py-obj docutils literal notranslate\"><span class=\"pre\">to_timestamp</span></code></a>([freq,&nbsp;how,&nbsp;axis,&nbsp;copy])</p></td>\n",
    "<td><p>Cast to DatetimeIndex of timestamps, at <em>beginning</em> of period.</p></td>\n",
    "</tr>\n",
    "<tr class=\"row-odd\"><td><p><a class=\"reference internal\" href=\"pandas.DataFrame.to_xarray.html#pandas.DataFrame.to_xarray\" title=\"pandas.DataFrame.to_xarray\"><code class=\"xref py py-obj docutils literal notranslate\"><span class=\"pre\">to_xarray</span></code></a>()</p></td>\n",
    "<td><p>Return an xarray object from the pandas object.</p></td>\n",
    "</tr>\n",
    "<tr class=\"row-even\"><td><p><a class=\"reference internal\" href=\"pandas.DataFrame.to_xml.html#pandas.DataFrame.to_xml\" title=\"pandas.DataFrame.to_xml\"><code class=\"xref py py-obj docutils literal notranslate\"><span class=\"pre\">to_xml</span></code></a>([path_or_buffer,&nbsp;index,&nbsp;root_name,&nbsp;...])</p></td>\n",
    "<td><p>Render a DataFrame to an XML document.</p></td>\n",
    "</tr>\n",
    "<tr class=\"row-odd\"><td><p><a class=\"reference internal\" href=\"pandas.DataFrame.transform.html#pandas.DataFrame.transform\" title=\"pandas.DataFrame.transform\"><code class=\"xref py py-obj docutils literal notranslate\"><span class=\"pre\">transform</span></code></a>(func[,&nbsp;axis])</p></td>\n",
    "<td><p>Call <code class=\"docutils literal notranslate\"><span class=\"pre\">func</span></code> on self producing a DataFrame with the same axis shape as self.</p></td>\n",
    "</tr>\n",
    "<tr class=\"row-even\"><td><p><a class=\"reference internal\" href=\"pandas.DataFrame.transpose.html#pandas.DataFrame.transpose\" title=\"pandas.DataFrame.transpose\"><code class=\"xref py py-obj docutils literal notranslate\"><span class=\"pre\">transpose</span></code></a>(*args[,&nbsp;copy])</p></td>\n",
    "<td><p>Transpose index and columns.</p></td>\n",
    "</tr>\n",
    "<tr class=\"row-odd\"><td><p><a class=\"reference internal\" href=\"pandas.DataFrame.truediv.html#pandas.DataFrame.truediv\" title=\"pandas.DataFrame.truediv\"><code class=\"xref py py-obj docutils literal notranslate\"><span class=\"pre\">truediv</span></code></a>(other[,&nbsp;axis,&nbsp;level,&nbsp;fill_value])</p></td>\n",
    "<td><p>Get Floating division of dataframe and other, element-wise (binary operator <cite>truediv</cite>).</p></td>\n",
    "</tr>\n",
    "<tr class=\"row-even\"><td><p><a class=\"reference internal\" href=\"pandas.DataFrame.truncate.html#pandas.DataFrame.truncate\" title=\"pandas.DataFrame.truncate\"><code class=\"xref py py-obj docutils literal notranslate\"><span class=\"pre\">truncate</span></code></a>([before,&nbsp;after,&nbsp;axis,&nbsp;copy])</p></td>\n",
    "<td><p>Truncate a Series or DataFrame before and after some index value.</p></td>\n",
    "</tr>\n",
    "<tr class=\"row-odd\"><td><p><a class=\"reference internal\" href=\"pandas.DataFrame.tshift.html#pandas.DataFrame.tshift\" title=\"pandas.DataFrame.tshift\"><code class=\"xref py py-obj docutils literal notranslate\"><span class=\"pre\">tshift</span></code></a>([periods,&nbsp;freq,&nbsp;axis])</p></td>\n",
    "<td><p>(DEPRECATED) Shift the time index, using the index's frequency if available.</p></td>\n",
    "</tr>\n",
    "<tr class=\"row-even\"><td><p><a class=\"reference internal\" href=\"pandas.DataFrame.tz_convert.html#pandas.DataFrame.tz_convert\" title=\"pandas.DataFrame.tz_convert\"><code class=\"xref py py-obj docutils literal notranslate\"><span class=\"pre\">tz_convert</span></code></a>(tz[,&nbsp;axis,&nbsp;level,&nbsp;copy])</p></td>\n",
    "<td><p>Convert tz-aware axis to target time zone.</p></td>\n",
    "</tr>\n",
    "<tr class=\"row-odd\"><td><p><a class=\"reference internal\" href=\"pandas.DataFrame.tz_localize.html#pandas.DataFrame.tz_localize\" title=\"pandas.DataFrame.tz_localize\"><code class=\"xref py py-obj docutils literal notranslate\"><span class=\"pre\">tz_localize</span></code></a>(tz[,&nbsp;axis,&nbsp;level,&nbsp;copy,&nbsp;...])</p></td>\n",
    "<td><p>Localize tz-naive index of a Series or DataFrame to target time zone.</p></td>\n",
    "</tr>\n",
    "<tr class=\"row-even\"><td><p><a class=\"reference internal\" href=\"pandas.DataFrame.unstack.html#pandas.DataFrame.unstack\" title=\"pandas.DataFrame.unstack\"><code class=\"xref py py-obj docutils literal notranslate\"><span class=\"pre\">unstack</span></code></a>([level,&nbsp;fill_value])</p></td>\n",
    "<td><p>Pivot a level of the (necessarily hierarchical) index labels.</p></td>\n",
    "</tr>\n",
    "<tr class=\"row-odd\"><td><p><a class=\"reference internal\" href=\"pandas.DataFrame.update.html#pandas.DataFrame.update\" title=\"pandas.DataFrame.update\"><code class=\"xref py py-obj docutils literal notranslate\"><span class=\"pre\">update</span></code></a>(other[,&nbsp;join,&nbsp;overwrite,&nbsp;...])</p></td>\n",
    "<td><p>Modify in place using non-NA values from another DataFrame.</p></td>\n",
    "</tr>\n",
    "<tr class=\"row-even\"><td><p><a class=\"reference internal\" href=\"pandas.DataFrame.value_counts.html#pandas.DataFrame.value_counts\" title=\"pandas.DataFrame.value_counts\"><code class=\"xref py py-obj docutils literal notranslate\"><span class=\"pre\">value_counts</span></code></a>([subset,&nbsp;normalize,&nbsp;sort,&nbsp;...])</p></td>\n",
    "<td><p>Return a Series containing counts of unique rows in the DataFrame.</p></td>\n",
    "</tr>\n",
    "<tr class=\"row-odd\"><td><p><a class=\"reference internal\" href=\"pandas.DataFrame.var.html#pandas.DataFrame.var\" title=\"pandas.DataFrame.var\"><code class=\"xref py py-obj docutils literal notranslate\"><span class=\"pre\">var</span></code></a>([axis,&nbsp;skipna,&nbsp;level,&nbsp;ddof,&nbsp;numeric_only])</p></td>\n",
    "<td><p>Return unbiased variance over requested axis.</p></td>\n",
    "</tr>\n",
    "<tr class=\"row-even\"><td><p><a class=\"reference internal\" href=\"pandas.DataFrame.where.html#pandas.DataFrame.where\" title=\"pandas.DataFrame.where\"><code class=\"xref py py-obj docutils literal notranslate\"><span class=\"pre\">where</span></code></a>(cond[,&nbsp;other,&nbsp;inplace,&nbsp;axis,&nbsp;level,&nbsp;...])</p></td>\n",
    "<td><p>Replace values where the condition is False.</p></td>\n",
    "</tr>\n",
    "<tr class=\"row-odd\"><td><p><a class=\"reference internal\" href=\"pandas.DataFrame.xs.html#pandas.DataFrame.xs\" title=\"pandas.DataFrame.xs\"><code class=\"xref py py-obj docutils literal notranslate\"><span class=\"pre\">xs</span></code></a>(key[,&nbsp;axis,&nbsp;level,&nbsp;drop_level])</p></td>\n",
    "<td><p>Return cross-section from the Series/DataFrame.</p></td>\n",
    "</tr>\n",
    "</tbody>\n",
    "</table>\n",
    "    </dd>"
   ]
  },
  {
   "cell_type": "markdown",
   "id": "fd1d548f",
   "metadata": {
    "papermill": {
     "duration": 0.048858,
     "end_time": "2022-09-26T07:48:41.827301",
     "exception": false,
     "start_time": "2022-09-26T07:48:41.778443",
     "status": "completed"
    },
    "tags": []
   },
   "source": [
    "##### Creating a Pandas DataFrame\n",
    "\n"
   ]
  },
  {
   "cell_type": "code",
   "execution_count": 61,
   "id": "664430cf",
   "metadata": {
    "execution": {
     "iopub.execute_input": "2022-09-26T07:48:41.925003Z",
     "iopub.status.busy": "2022-09-26T07:48:41.924093Z",
     "iopub.status.idle": "2022-09-26T07:48:41.931163Z",
     "shell.execute_reply": "2022-09-26T07:48:41.929777Z"
    },
    "papermill": {
     "duration": 0.057866,
     "end_time": "2022-09-26T07:48:41.933193",
     "exception": false,
     "start_time": "2022-09-26T07:48:41.875327",
     "status": "completed"
    },
    "tags": []
   },
   "outputs": [
    {
     "name": "stdout",
     "output_type": "stream",
     "text": [
      "Empty DataFrame\n",
      "Columns: []\n",
      "Index: []\n"
     ]
    }
   ],
   "source": [
    "# Creating Empty DataFrame:\n",
    "empty_df=pd.DataFrame()\n",
    "print(empty_df) #No data "
   ]
  },
  {
   "cell_type": "code",
   "execution_count": 62,
   "id": "5665fe19",
   "metadata": {
    "execution": {
     "iopub.execute_input": "2022-09-26T07:48:42.032322Z",
     "iopub.status.busy": "2022-09-26T07:48:42.031392Z",
     "iopub.status.idle": "2022-09-26T07:48:42.039388Z",
     "shell.execute_reply": "2022-09-26T07:48:42.038249Z"
    },
    "papermill": {
     "duration": 0.06043,
     "end_time": "2022-09-26T07:48:42.041953",
     "exception": false,
     "start_time": "2022-09-26T07:48:41.981523",
     "status": "completed"
    },
    "tags": []
   },
   "outputs": [
    {
     "name": "stdout",
     "output_type": "stream",
     "text": [
      "We can Print by Using print():\n",
      "           0\n",
      "0     Bhawan\n",
      "1      Singh\n",
      "2    Solanki\n",
      "3   Learning\n",
      "4     Pandas\n",
      "5  DataFrame\n"
     ]
    }
   ],
   "source": [
    "# Creating by giving list:\n",
    "lst=[\"Bhawan\",\"Singh\",\"Solanki\",\"Learning\",\"Pandas\",\"DataFrame\"]\n",
    "df=pd.DataFrame(lst)\n",
    "print(\"We can Print by Using print():\")\n",
    "print(df)"
   ]
  },
  {
   "cell_type": "code",
   "execution_count": 63,
   "id": "cfe3e771",
   "metadata": {
    "execution": {
     "iopub.execute_input": "2022-09-26T07:48:42.142192Z",
     "iopub.status.busy": "2022-09-26T07:48:42.141220Z",
     "iopub.status.idle": "2022-09-26T07:48:42.151381Z",
     "shell.execute_reply": "2022-09-26T07:48:42.150346Z"
    },
    "papermill": {
     "duration": 0.062272,
     "end_time": "2022-09-26T07:48:42.153232",
     "exception": false,
     "start_time": "2022-09-26T07:48:42.090960",
     "status": "completed"
    },
    "tags": []
   },
   "outputs": [
    {
     "name": "stdout",
     "output_type": "stream",
     "text": [
      "We can direct like below:\n"
     ]
    },
    {
     "data": {
      "text/html": [
       "<div>\n",
       "<style scoped>\n",
       "    .dataframe tbody tr th:only-of-type {\n",
       "        vertical-align: middle;\n",
       "    }\n",
       "\n",
       "    .dataframe tbody tr th {\n",
       "        vertical-align: top;\n",
       "    }\n",
       "\n",
       "    .dataframe thead th {\n",
       "        text-align: right;\n",
       "    }\n",
       "</style>\n",
       "<table border=\"1\" class=\"dataframe\">\n",
       "  <thead>\n",
       "    <tr style=\"text-align: right;\">\n",
       "      <th></th>\n",
       "      <th>0</th>\n",
       "    </tr>\n",
       "  </thead>\n",
       "  <tbody>\n",
       "    <tr>\n",
       "      <th>0</th>\n",
       "      <td>Bhawan</td>\n",
       "    </tr>\n",
       "    <tr>\n",
       "      <th>1</th>\n",
       "      <td>Singh</td>\n",
       "    </tr>\n",
       "    <tr>\n",
       "      <th>2</th>\n",
       "      <td>Solanki</td>\n",
       "    </tr>\n",
       "    <tr>\n",
       "      <th>3</th>\n",
       "      <td>Learning</td>\n",
       "    </tr>\n",
       "    <tr>\n",
       "      <th>4</th>\n",
       "      <td>Pandas</td>\n",
       "    </tr>\n",
       "    <tr>\n",
       "      <th>5</th>\n",
       "      <td>DataFrame</td>\n",
       "    </tr>\n",
       "  </tbody>\n",
       "</table>\n",
       "</div>"
      ],
      "text/plain": [
       "           0\n",
       "0     Bhawan\n",
       "1      Singh\n",
       "2    Solanki\n",
       "3   Learning\n",
       "4     Pandas\n",
       "5  DataFrame"
      ]
     },
     "execution_count": 63,
     "metadata": {},
     "output_type": "execute_result"
    }
   ],
   "source": [
    "print(\"We can direct like below:\")\n",
    "df"
   ]
  },
  {
   "cell_type": "code",
   "execution_count": 64,
   "id": "8d7601bb",
   "metadata": {
    "execution": {
     "iopub.execute_input": "2022-09-26T07:48:42.254186Z",
     "iopub.status.busy": "2022-09-26T07:48:42.253823Z",
     "iopub.status.idle": "2022-09-26T07:48:42.265496Z",
     "shell.execute_reply": "2022-09-26T07:48:42.263866Z"
    },
    "papermill": {
     "duration": 0.064535,
     "end_time": "2022-09-26T07:48:42.268087",
     "exception": false,
     "start_time": "2022-09-26T07:48:42.203552",
     "status": "completed"
    },
    "tags": []
   },
   "outputs": [
    {
     "name": "stdout",
     "output_type": "stream",
     "text": [
      "DataFrame with Multiple column:\n"
     ]
    },
    {
     "data": {
      "text/html": [
       "<div>\n",
       "<style scoped>\n",
       "    .dataframe tbody tr th:only-of-type {\n",
       "        vertical-align: middle;\n",
       "    }\n",
       "\n",
       "    .dataframe tbody tr th {\n",
       "        vertical-align: top;\n",
       "    }\n",
       "\n",
       "    .dataframe thead th {\n",
       "        text-align: right;\n",
       "    }\n",
       "</style>\n",
       "<table border=\"1\" class=\"dataframe\">\n",
       "  <thead>\n",
       "    <tr style=\"text-align: right;\">\n",
       "      <th></th>\n",
       "      <th>0</th>\n",
       "      <th>1</th>\n",
       "      <th>2</th>\n",
       "    </tr>\n",
       "  </thead>\n",
       "  <tbody>\n",
       "    <tr>\n",
       "      <th>0</th>\n",
       "      <td>1</td>\n",
       "      <td>2</td>\n",
       "      <td>3</td>\n",
       "    </tr>\n",
       "    <tr>\n",
       "      <th>1</th>\n",
       "      <td>4</td>\n",
       "      <td>5</td>\n",
       "      <td>6</td>\n",
       "    </tr>\n",
       "    <tr>\n",
       "      <th>2</th>\n",
       "      <td>7</td>\n",
       "      <td>8</td>\n",
       "      <td>9</td>\n",
       "    </tr>\n",
       "  </tbody>\n",
       "</table>\n",
       "</div>"
      ],
      "text/plain": [
       "   0  1  2\n",
       "0  1  2  3\n",
       "1  4  5  6\n",
       "2  7  8  9"
      ]
     },
     "execution_count": 64,
     "metadata": {},
     "output_type": "execute_result"
    }
   ],
   "source": [
    "#list with multiple columnn\n",
    "lst=[[1,2,3],[4,5,6],[7,8,9]]\n",
    "df1=pd.DataFrame(lst)\n",
    "print(\"DataFrame with Multiple column:\")\n",
    "df1"
   ]
  },
  {
   "cell_type": "code",
   "execution_count": 65,
   "id": "1e61180b",
   "metadata": {
    "execution": {
     "iopub.execute_input": "2022-09-26T07:48:42.370082Z",
     "iopub.status.busy": "2022-09-26T07:48:42.368264Z",
     "iopub.status.idle": "2022-09-26T07:48:42.380964Z",
     "shell.execute_reply": "2022-09-26T07:48:42.379866Z"
    },
    "papermill": {
     "duration": 0.066126,
     "end_time": "2022-09-26T07:48:42.383931",
     "exception": false,
     "start_time": "2022-09-26T07:48:42.317805",
     "status": "completed"
    },
    "tags": []
   },
   "outputs": [
    {
     "name": "stdout",
     "output_type": "stream",
     "text": [
      "DataFrame with Multiple column:\n"
     ]
    },
    {
     "data": {
      "text/html": [
       "<div>\n",
       "<style scoped>\n",
       "    .dataframe tbody tr th:only-of-type {\n",
       "        vertical-align: middle;\n",
       "    }\n",
       "\n",
       "    .dataframe tbody tr th {\n",
       "        vertical-align: top;\n",
       "    }\n",
       "\n",
       "    .dataframe thead th {\n",
       "        text-align: right;\n",
       "    }\n",
       "</style>\n",
       "<table border=\"1\" class=\"dataframe\">\n",
       "  <thead>\n",
       "    <tr style=\"text-align: right;\">\n",
       "      <th></th>\n",
       "      <th>0</th>\n",
       "      <th>1</th>\n",
       "      <th>2</th>\n",
       "      <th>3</th>\n",
       "    </tr>\n",
       "  </thead>\n",
       "  <tbody>\n",
       "    <tr>\n",
       "      <th>0</th>\n",
       "      <td>1</td>\n",
       "      <td>2</td>\n",
       "      <td>3</td>\n",
       "      <td>NaN</td>\n",
       "    </tr>\n",
       "    <tr>\n",
       "      <th>1</th>\n",
       "      <td>4</td>\n",
       "      <td>5</td>\n",
       "      <td>6</td>\n",
       "      <td>NaN</td>\n",
       "    </tr>\n",
       "    <tr>\n",
       "      <th>2</th>\n",
       "      <td>7</td>\n",
       "      <td>8</td>\n",
       "      <td>9</td>\n",
       "      <td>NaN</td>\n",
       "    </tr>\n",
       "    <tr>\n",
       "      <th>3</th>\n",
       "      <td>1</td>\n",
       "      <td>2</td>\n",
       "      <td>3</td>\n",
       "      <td>4.0</td>\n",
       "    </tr>\n",
       "  </tbody>\n",
       "</table>\n",
       "</div>"
      ],
      "text/plain": [
       "   0  1  2    3\n",
       "0  1  2  3  NaN\n",
       "1  4  5  6  NaN\n",
       "2  7  8  9  NaN\n",
       "3  1  2  3  4.0"
      ]
     },
     "execution_count": 65,
     "metadata": {},
     "output_type": "execute_result"
    }
   ],
   "source": [
    "#list with multiple columnn\n",
    "lst=[[1,2,3],[4,5,6],[7,8,9],[1,2,3,4]]\n",
    "df1=pd.DataFrame(lst)\n",
    "print(\"DataFrame with Multiple column:\")\n",
    "df1"
   ]
  },
  {
   "cell_type": "code",
   "execution_count": 66,
   "id": "7054ead8",
   "metadata": {
    "execution": {
     "iopub.execute_input": "2022-09-26T07:48:42.486955Z",
     "iopub.status.busy": "2022-09-26T07:48:42.486592Z",
     "iopub.status.idle": "2022-09-26T07:48:42.500018Z",
     "shell.execute_reply": "2022-09-26T07:48:42.498508Z"
    },
    "papermill": {
     "duration": 0.068357,
     "end_time": "2022-09-26T07:48:42.502875",
     "exception": false,
     "start_time": "2022-09-26T07:48:42.434518",
     "status": "completed"
    },
    "tags": []
   },
   "outputs": [
    {
     "name": "stdout",
     "output_type": "stream",
     "text": [
      "DataFrame with Dictionalry:\n"
     ]
    },
    {
     "data": {
      "text/html": [
       "<div>\n",
       "<style scoped>\n",
       "    .dataframe tbody tr th:only-of-type {\n",
       "        vertical-align: middle;\n",
       "    }\n",
       "\n",
       "    .dataframe tbody tr th {\n",
       "        vertical-align: top;\n",
       "    }\n",
       "\n",
       "    .dataframe thead th {\n",
       "        text-align: right;\n",
       "    }\n",
       "</style>\n",
       "<table border=\"1\" class=\"dataframe\">\n",
       "  <thead>\n",
       "    <tr style=\"text-align: right;\">\n",
       "      <th></th>\n",
       "      <th>Test</th>\n",
       "      <th>Odi</th>\n",
       "      <th>T-20</th>\n",
       "    </tr>\n",
       "  </thead>\n",
       "  <tbody>\n",
       "    <tr>\n",
       "      <th>0</th>\n",
       "      <td>India</td>\n",
       "      <td>England</td>\n",
       "      <td>Pakistan</td>\n",
       "    </tr>\n",
       "    <tr>\n",
       "      <th>1</th>\n",
       "      <td>South Africa</td>\n",
       "      <td>India</td>\n",
       "      <td>India</td>\n",
       "    </tr>\n",
       "    <tr>\n",
       "      <th>2</th>\n",
       "      <td>England</td>\n",
       "      <td>New Zealand</td>\n",
       "      <td>Australia</td>\n",
       "    </tr>\n",
       "    <tr>\n",
       "      <th>3</th>\n",
       "      <td>New Zealand</td>\n",
       "      <td>South Africa</td>\n",
       "      <td>England</td>\n",
       "    </tr>\n",
       "    <tr>\n",
       "      <th>4</th>\n",
       "      <td>Australia</td>\n",
       "      <td>Pakistan</td>\n",
       "      <td>New Zealand</td>\n",
       "    </tr>\n",
       "  </tbody>\n",
       "</table>\n",
       "</div>"
      ],
      "text/plain": [
       "           Test           Odi         T-20\n",
       "0         India       England     Pakistan\n",
       "1  South Africa         India        India\n",
       "2       England   New Zealand    Australia\n",
       "3   New Zealand  South Africa      England\n",
       "4     Australia      Pakistan  New Zealand"
      ]
     },
     "execution_count": 66,
     "metadata": {},
     "output_type": "execute_result"
    }
   ],
   "source": [
    "#Creating DataFrame from dict of ndarray/lists:\n",
    "dic={'Test': ['India', 'South Africa', 'England',\n",
    "                            'New Zealand', 'Australia'],\n",
    "              'Odi': ['England', 'India', 'New Zealand',\n",
    "                            'South Africa', 'Pakistan'],\n",
    "               'T-20': ['Pakistan', 'India', 'Australia', \n",
    "                              'England', 'New Zealand']}\n",
    "print(\"DataFrame with Dictionalry:\")\n",
    "df2=pd.DataFrame(dic)\n",
    "df2"
   ]
  },
  {
   "cell_type": "code",
   "execution_count": 67,
   "id": "bebd997f",
   "metadata": {
    "execution": {
     "iopub.execute_input": "2022-09-26T07:48:42.606795Z",
     "iopub.status.busy": "2022-09-26T07:48:42.606393Z",
     "iopub.status.idle": "2022-09-26T07:48:42.616594Z",
     "shell.execute_reply": "2022-09-26T07:48:42.615636Z"
    },
    "papermill": {
     "duration": 0.064886,
     "end_time": "2022-09-26T07:48:42.618781",
     "exception": false,
     "start_time": "2022-09-26T07:48:42.553895",
     "status": "completed"
    },
    "tags": []
   },
   "outputs": [
    {
     "data": {
      "text/html": [
       "<div>\n",
       "<style scoped>\n",
       "    .dataframe tbody tr th:only-of-type {\n",
       "        vertical-align: middle;\n",
       "    }\n",
       "\n",
       "    .dataframe tbody tr th {\n",
       "        vertical-align: top;\n",
       "    }\n",
       "\n",
       "    .dataframe thead th {\n",
       "        text-align: right;\n",
       "    }\n",
       "</style>\n",
       "<table border=\"1\" class=\"dataframe\">\n",
       "  <thead>\n",
       "    <tr style=\"text-align: right;\">\n",
       "      <th></th>\n",
       "      <th>Test</th>\n",
       "      <th>Odi</th>\n",
       "      <th>T-20</th>\n",
       "    </tr>\n",
       "  </thead>\n",
       "  <tbody>\n",
       "    <tr>\n",
       "      <th>1</th>\n",
       "      <td>India</td>\n",
       "      <td>England</td>\n",
       "      <td>Pakistan</td>\n",
       "    </tr>\n",
       "    <tr>\n",
       "      <th>2</th>\n",
       "      <td>South Africa</td>\n",
       "      <td>India</td>\n",
       "      <td>India</td>\n",
       "    </tr>\n",
       "    <tr>\n",
       "      <th>3</th>\n",
       "      <td>England</td>\n",
       "      <td>New Zealand</td>\n",
       "      <td>Australia</td>\n",
       "    </tr>\n",
       "    <tr>\n",
       "      <th>4</th>\n",
       "      <td>New Zealand</td>\n",
       "      <td>South Africa</td>\n",
       "      <td>England</td>\n",
       "    </tr>\n",
       "    <tr>\n",
       "      <th>5</th>\n",
       "      <td>Australia</td>\n",
       "      <td>Pakistan</td>\n",
       "      <td>New Zealand</td>\n",
       "    </tr>\n",
       "  </tbody>\n",
       "</table>\n",
       "</div>"
      ],
      "text/plain": [
       "           Test           Odi         T-20\n",
       "1         India       England     Pakistan\n",
       "2  South Africa         India        India\n",
       "3       England   New Zealand    Australia\n",
       "4   New Zealand  South Africa      England\n",
       "5     Australia      Pakistan  New Zealand"
      ]
     },
     "execution_count": 67,
     "metadata": {},
     "output_type": "execute_result"
    }
   ],
   "source": [
    "# Incrementing the index so that index starts at 1 (starts at 0 by default) \n",
    "df2.index += 1\n",
    "df2"
   ]
  },
  {
   "cell_type": "code",
   "execution_count": 68,
   "id": "31aa8539",
   "metadata": {
    "execution": {
     "iopub.execute_input": "2022-09-26T07:48:42.719763Z",
     "iopub.status.busy": "2022-09-26T07:48:42.718831Z",
     "iopub.status.idle": "2022-09-26T07:48:42.731496Z",
     "shell.execute_reply": "2022-09-26T07:48:42.730505Z"
    },
    "papermill": {
     "duration": 0.065074,
     "end_time": "2022-09-26T07:48:42.733415",
     "exception": false,
     "start_time": "2022-09-26T07:48:42.668341",
     "status": "completed"
    },
    "tags": []
   },
   "outputs": [
    {
     "data": {
      "text/html": [
       "<div>\n",
       "<style scoped>\n",
       "    .dataframe tbody tr th:only-of-type {\n",
       "        vertical-align: middle;\n",
       "    }\n",
       "\n",
       "    .dataframe tbody tr th {\n",
       "        vertical-align: top;\n",
       "    }\n",
       "\n",
       "    .dataframe thead th {\n",
       "        text-align: right;\n",
       "    }\n",
       "</style>\n",
       "<table border=\"1\" class=\"dataframe\">\n",
       "  <thead>\n",
       "    <tr style=\"text-align: right;\">\n",
       "      <th></th>\n",
       "      <th>Test</th>\n",
       "      <th>ODI</th>\n",
       "      <th>T20</th>\n",
       "    </tr>\n",
       "  </thead>\n",
       "  <tbody>\n",
       "    <tr>\n",
       "      <th>1</th>\n",
       "      <td>Virat Kohli</td>\n",
       "      <td>Virat Kohli</td>\n",
       "      <td>Babar Azam</td>\n",
       "    </tr>\n",
       "    <tr>\n",
       "      <th>2</th>\n",
       "      <td>Steve Smith</td>\n",
       "      <td>Rohit Sharma</td>\n",
       "      <td>Aaron Finch</td>\n",
       "    </tr>\n",
       "    <tr>\n",
       "      <th>3</th>\n",
       "      <td>Kane Williamson</td>\n",
       "      <td>Joe Root</td>\n",
       "      <td>Colin Munro</td>\n",
       "    </tr>\n",
       "    <tr>\n",
       "      <th>4</th>\n",
       "      <td>Joe Root</td>\n",
       "      <td>David Warner</td>\n",
       "      <td>Lokesh Rahul</td>\n",
       "    </tr>\n",
       "    <tr>\n",
       "      <th>5</th>\n",
       "      <td>David Warner</td>\n",
       "      <td>Babar Azam</td>\n",
       "      <td>Fakhar Zaman</td>\n",
       "    </tr>\n",
       "  </tbody>\n",
       "</table>\n",
       "</div>"
      ],
      "text/plain": [
       "              Test           ODI           T20\n",
       "1      Virat Kohli   Virat Kohli    Babar Azam\n",
       "2      Steve Smith  Rohit Sharma   Aaron Finch\n",
       "3  Kane Williamson      Joe Root   Colin Munro\n",
       "4         Joe Root  David Warner  Lokesh Rahul\n",
       "5     David Warner    Babar Azam  Fakhar Zaman"
      ]
     },
     "execution_count": 68,
     "metadata": {},
     "output_type": "execute_result"
    }
   ],
   "source": [
    "# Lists of top 5 batsmen for each format\n",
    "test_batsmen = ['Virat Kohli', 'Steve Smith', 'Kane Williamson',\n",
    "                                     'Joe Root', 'David Warner']\n",
    "odi_batsmen = ['Virat Kohli', 'Rohit Sharma', 'Joe Root',\n",
    "                            'David Warner', 'Babar Azam']\n",
    "t20_batsmen = ['Babar Azam', 'Aaron Finch', 'Colin Munro',\n",
    "                           'Lokesh Rahul', 'Fakhar Zaman']\n",
    "\n",
    "# Define a dictionary containing ICC rankings for batsmen\n",
    "dic={'Test':test_batsmen,\n",
    "    'ODI':odi_batsmen,\n",
    "    'T20':t20_batsmen}\n",
    "\n",
    "# Convert the dictionary into DataFrame\n",
    "df2=pd.DataFrame(dic)\n",
    "df2.index+=1\n",
    "df2"
   ]
  },
  {
   "cell_type": "markdown",
   "id": "2619c70a",
   "metadata": {
    "papermill": {
     "duration": 0.04989,
     "end_time": "2022-09-26T07:48:42.833305",
     "exception": false,
     "start_time": "2022-09-26T07:48:42.783415",
     "status": "completed"
    },
    "tags": []
   },
   "source": [
    "``` python\n",
    "dic={\"ID\":[1,2,3,4,5],\"Name\":[\"Bhawan\",\"Deena\",\"Bhavi\"]}\n",
    "df2=pd.DataFrame(dic)\n",
    "\n",
    "---------------------------------------------------------------------------\n",
    "ValueError                                Traceback (most recent call last)\n",
    "/tmp/ipykernel_17/3048458879.py in <module>\n",
    "      1 dic={\"ID\":[1,2,3,4,5],\"Name\":[\"Bhawan\",\"Deena\",\"Bhavi\"]}\n",
    "----> 2 df2=pd.DataFrame(dic)\n",
    "\n",
    "/opt/conda/lib/python3.7/site-packages/pandas/core/frame.py in __init__(self, data, index, columns, dtype, copy)\n",
    "    612         elif isinstance(data, dict):\n",
    "    613             # GH#38939 de facto copy defaults to False only in non-dict cases\n",
    "--> 614             mgr = dict_to_mgr(data, index, columns, dtype=dtype, copy=copy, typ=manager)\n",
    "    615         elif isinstance(data, ma.MaskedArray):\n",
    "    616             import numpy.ma.mrecords as mrecords\n",
    "\n",
    "/opt/conda/lib/python3.7/site-packages/pandas/core/internals/construction.py in dict_to_mgr(data, index, columns, dtype, typ, copy)\n",
    "    463 \n",
    "    464     return arrays_to_mgr(\n",
    "--> 465         arrays, data_names, index, columns, dtype=dtype, typ=typ, consolidate=copy\n",
    "    466     )\n",
    "    467 \n",
    "\n",
    "/opt/conda/lib/python3.7/site-packages/pandas/core/internals/construction.py in arrays_to_mgr(arrays, arr_names, index, columns, dtype, verify_integrity, typ, consolidate)\n",
    "    117         # figure out the index, if necessary\n",
    "    118         if index is None:\n",
    "--> 119             index = _extract_index(arrays)\n",
    "    120         else:\n",
    "    121             index = ensure_index(index)\n",
    "\n",
    "/opt/conda/lib/python3.7/site-packages/pandas/core/internals/construction.py in _extract_index(data)\n",
    "    633             lengths = list(set(raw_lengths))\n",
    "    634             if len(lengths) > 1:\n",
    "--> 635                 raise ValueError(\"All arrays must be of the same length\")\n",
    "    636 \n",
    "    637             if have_dicts:\n",
    "\n",
    "ValueError: All arrays must be of the same length\n",
    "```"
   ]
  },
  {
   "cell_type": "code",
   "execution_count": 69,
   "id": "b9653744",
   "metadata": {
    "execution": {
     "iopub.execute_input": "2022-09-26T07:48:42.932938Z",
     "iopub.status.busy": "2022-09-26T07:48:42.932592Z",
     "iopub.status.idle": "2022-09-26T07:48:42.942517Z",
     "shell.execute_reply": "2022-09-26T07:48:42.941639Z"
    },
    "papermill": {
     "duration": 0.061994,
     "end_time": "2022-09-26T07:48:42.944498",
     "exception": false,
     "start_time": "2022-09-26T07:48:42.882504",
     "status": "completed"
    },
    "tags": []
   },
   "outputs": [
    {
     "data": {
      "text/html": [
       "<div>\n",
       "<style scoped>\n",
       "    .dataframe tbody tr th:only-of-type {\n",
       "        vertical-align: middle;\n",
       "    }\n",
       "\n",
       "    .dataframe tbody tr th {\n",
       "        vertical-align: top;\n",
       "    }\n",
       "\n",
       "    .dataframe thead th {\n",
       "        text-align: right;\n",
       "    }\n",
       "</style>\n",
       "<table border=\"1\" class=\"dataframe\">\n",
       "  <thead>\n",
       "    <tr style=\"text-align: right;\">\n",
       "      <th></th>\n",
       "      <th>ID</th>\n",
       "      <th>Name</th>\n",
       "    </tr>\n",
       "  </thead>\n",
       "  <tbody>\n",
       "    <tr>\n",
       "      <th>0</th>\n",
       "      <td>1</td>\n",
       "      <td>Bhawan</td>\n",
       "    </tr>\n",
       "    <tr>\n",
       "      <th>1</th>\n",
       "      <td>2</td>\n",
       "      <td>Deena</td>\n",
       "    </tr>\n",
       "    <tr>\n",
       "      <th>2</th>\n",
       "      <td>3</td>\n",
       "      <td>Bhavi</td>\n",
       "    </tr>\n",
       "    <tr>\n",
       "      <th>3</th>\n",
       "      <td>4</td>\n",
       "      <td>Gaurav</td>\n",
       "    </tr>\n",
       "    <tr>\n",
       "      <th>4</th>\n",
       "      <td>5</td>\n",
       "      <td>Birag</td>\n",
       "    </tr>\n",
       "  </tbody>\n",
       "</table>\n",
       "</div>"
      ],
      "text/plain": [
       "   ID    Name\n",
       "0   1  Bhawan\n",
       "1   2   Deena\n",
       "2   3   Bhavi\n",
       "3   4  Gaurav\n",
       "4   5   Birag"
      ]
     },
     "execution_count": 69,
     "metadata": {},
     "output_type": "execute_result"
    }
   ],
   "source": [
    "dic={\"ID\":[1,2,3,4,5],\"Name\":[\"Bhawan\",\"Deena\",\"Bhavi\",\"Gaurav\",\"Birag\"]}\n",
    "df2=pd.DataFrame(dic)\n",
    "df2"
   ]
  },
  {
   "cell_type": "code",
   "execution_count": 70,
   "id": "a203c308",
   "metadata": {
    "execution": {
     "iopub.execute_input": "2022-09-26T07:48:43.047244Z",
     "iopub.status.busy": "2022-09-26T07:48:43.046901Z",
     "iopub.status.idle": "2022-09-26T07:48:43.057199Z",
     "shell.execute_reply": "2022-09-26T07:48:43.056330Z"
    },
    "papermill": {
     "duration": 0.062899,
     "end_time": "2022-09-26T07:48:43.059148",
     "exception": false,
     "start_time": "2022-09-26T07:48:42.996249",
     "status": "completed"
    },
    "tags": []
   },
   "outputs": [
    {
     "data": {
      "text/html": [
       "<div>\n",
       "<style scoped>\n",
       "    .dataframe tbody tr th:only-of-type {\n",
       "        vertical-align: middle;\n",
       "    }\n",
       "\n",
       "    .dataframe tbody tr th {\n",
       "        vertical-align: top;\n",
       "    }\n",
       "\n",
       "    .dataframe thead th {\n",
       "        text-align: right;\n",
       "    }\n",
       "</style>\n",
       "<table border=\"1\" class=\"dataframe\">\n",
       "  <thead>\n",
       "    <tr style=\"text-align: right;\">\n",
       "      <th></th>\n",
       "      <th>a</th>\n",
       "      <th>b</th>\n",
       "      <th>c</th>\n",
       "    </tr>\n",
       "  </thead>\n",
       "  <tbody>\n",
       "    <tr>\n",
       "      <th>0</th>\n",
       "      <td>1</td>\n",
       "      <td>2</td>\n",
       "      <td>NaN</td>\n",
       "    </tr>\n",
       "    <tr>\n",
       "      <th>1</th>\n",
       "      <td>3</td>\n",
       "      <td>4</td>\n",
       "      <td>Bhawan</td>\n",
       "    </tr>\n",
       "  </tbody>\n",
       "</table>\n",
       "</div>"
      ],
      "text/plain": [
       "   a  b       c\n",
       "0  1  2     NaN\n",
       "1  3  4  Bhawan"
      ]
     },
     "execution_count": 70,
     "metadata": {},
     "output_type": "execute_result"
    }
   ],
   "source": [
    "# Creating with help of list of Dictionary:\n",
    "ls_dict = [{'a':1, 'b':2}, {'a':3, 'b':4,'c':\"Bhawan\"}]\n",
    "df2=pd.DataFrame(ls_dict)\n",
    "df2"
   ]
  },
  {
   "cell_type": "code",
   "execution_count": 71,
   "id": "f16326d3",
   "metadata": {
    "execution": {
     "iopub.execute_input": "2022-09-26T07:48:43.160493Z",
     "iopub.status.busy": "2022-09-26T07:48:43.158839Z",
     "iopub.status.idle": "2022-09-26T07:48:43.175750Z",
     "shell.execute_reply": "2022-09-26T07:48:43.174858Z"
    },
    "papermill": {
     "duration": 0.069446,
     "end_time": "2022-09-26T07:48:43.177794",
     "exception": false,
     "start_time": "2022-09-26T07:48:43.108348",
     "status": "completed"
    },
    "tags": []
   },
   "outputs": [
    {
     "data": {
      "text/html": [
       "<div>\n",
       "<style scoped>\n",
       "    .dataframe tbody tr th:only-of-type {\n",
       "        vertical-align: middle;\n",
       "    }\n",
       "\n",
       "    .dataframe tbody tr th {\n",
       "        vertical-align: top;\n",
       "    }\n",
       "\n",
       "    .dataframe thead th {\n",
       "        text-align: right;\n",
       "    }\n",
       "</style>\n",
       "<table border=\"1\" class=\"dataframe\">\n",
       "  <thead>\n",
       "    <tr style=\"text-align: right;\">\n",
       "      <th></th>\n",
       "      <th>List1</th>\n",
       "      <th>DATA</th>\n",
       "      <th>List2</th>\n",
       "      <th>data</th>\n",
       "    </tr>\n",
       "  </thead>\n",
       "  <tbody>\n",
       "    <tr>\n",
       "      <th>0</th>\n",
       "      <td>[1, 2, 3, 4]</td>\n",
       "      <td>[Bhawan, Bhavi]</td>\n",
       "      <td>NaN</td>\n",
       "      <td>NaN</td>\n",
       "    </tr>\n",
       "    <tr>\n",
       "      <th>1</th>\n",
       "      <td>NaN</td>\n",
       "      <td>NaN</td>\n",
       "      <td>[list second, Second]</td>\n",
       "      <td>this is Data of list 2</td>\n",
       "    </tr>\n",
       "  </tbody>\n",
       "</table>\n",
       "</div>"
      ],
      "text/plain": [
       "          List1             DATA                  List2  \\\n",
       "0  [1, 2, 3, 4]  [Bhawan, Bhavi]                    NaN   \n",
       "1           NaN              NaN  [list second, Second]   \n",
       "\n",
       "                     data  \n",
       "0                     NaN  \n",
       "1  this is Data of list 2  "
      ]
     },
     "execution_count": 71,
     "metadata": {},
     "output_type": "execute_result"
    }
   ],
   "source": [
    "lst=[{\"List1\":[1,2,3,4],\"DATA\":[\"Bhawan\",\"Bhavi\"]},{\"List2\":[\"list second\",\"Second\"],\"data\":\"this is Data of list 2\"}]\n",
    "df2=pd.DataFrame(lst)\n",
    "df2"
   ]
  },
  {
   "cell_type": "markdown",
   "id": "946653c3",
   "metadata": {
    "papermill": {
     "duration": 0.049015,
     "end_time": "2022-09-26T07:48:43.276619",
     "exception": false,
     "start_time": "2022-09-26T07:48:43.227604",
     "status": "completed"
    },
    "tags": []
   },
   "source": [
    "### Accessing Element from DataFrame :"
   ]
  },
  {
   "cell_type": "code",
   "execution_count": 72,
   "id": "3cacd741",
   "metadata": {
    "execution": {
     "iopub.execute_input": "2022-09-26T07:48:43.377802Z",
     "iopub.status.busy": "2022-09-26T07:48:43.376870Z",
     "iopub.status.idle": "2022-09-26T07:48:43.388738Z",
     "shell.execute_reply": "2022-09-26T07:48:43.387723Z"
    },
    "papermill": {
     "duration": 0.064294,
     "end_time": "2022-09-26T07:48:43.390754",
     "exception": false,
     "start_time": "2022-09-26T07:48:43.326460",
     "status": "completed"
    },
    "tags": []
   },
   "outputs": [
    {
     "data": {
      "text/html": [
       "<div>\n",
       "<style scoped>\n",
       "    .dataframe tbody tr th:only-of-type {\n",
       "        vertical-align: middle;\n",
       "    }\n",
       "\n",
       "    .dataframe tbody tr th {\n",
       "        vertical-align: top;\n",
       "    }\n",
       "\n",
       "    .dataframe thead th {\n",
       "        text-align: right;\n",
       "    }\n",
       "</style>\n",
       "<table border=\"1\" class=\"dataframe\">\n",
       "  <thead>\n",
       "    <tr style=\"text-align: right;\">\n",
       "      <th></th>\n",
       "      <th>Name</th>\n",
       "      <th>Age</th>\n",
       "      <th>Address</th>\n",
       "      <th>Qualification</th>\n",
       "    </tr>\n",
       "  </thead>\n",
       "  <tbody>\n",
       "    <tr>\n",
       "      <th>0</th>\n",
       "      <td>Jai</td>\n",
       "      <td>27</td>\n",
       "      <td>Delhi</td>\n",
       "      <td>Msc</td>\n",
       "    </tr>\n",
       "    <tr>\n",
       "      <th>1</th>\n",
       "      <td>Princi</td>\n",
       "      <td>24</td>\n",
       "      <td>Kanpur</td>\n",
       "      <td>MA</td>\n",
       "    </tr>\n",
       "    <tr>\n",
       "      <th>2</th>\n",
       "      <td>Gaurav</td>\n",
       "      <td>22</td>\n",
       "      <td>Allahabad</td>\n",
       "      <td>MCA</td>\n",
       "    </tr>\n",
       "    <tr>\n",
       "      <th>3</th>\n",
       "      <td>Anuj</td>\n",
       "      <td>32</td>\n",
       "      <td>Kannauj</td>\n",
       "      <td>Phd</td>\n",
       "    </tr>\n",
       "  </tbody>\n",
       "</table>\n",
       "</div>"
      ],
      "text/plain": [
       "     Name  Age    Address Qualification\n",
       "0     Jai   27      Delhi           Msc\n",
       "1  Princi   24     Kanpur            MA\n",
       "2  Gaurav   22  Allahabad           MCA\n",
       "3    Anuj   32    Kannauj           Phd"
      ]
     },
     "execution_count": 72,
     "metadata": {},
     "output_type": "execute_result"
    }
   ],
   "source": [
    "data = {'Name':['Jai', 'Princi', 'Gaurav', 'Anuj'],\n",
    "        'Age':[27, 24, 22, 32],\n",
    "        'Address':['Delhi', 'Kanpur', 'Allahabad', 'Kannauj'],\n",
    "        'Qualification':['Msc', 'MA', 'MCA', 'Phd']}\n",
    "df=pd.DataFrame(data)\n",
    "df"
   ]
  },
  {
   "cell_type": "code",
   "execution_count": 73,
   "id": "5775068d",
   "metadata": {
    "execution": {
     "iopub.execute_input": "2022-09-26T07:48:43.491824Z",
     "iopub.status.busy": "2022-09-26T07:48:43.491459Z",
     "iopub.status.idle": "2022-09-26T07:48:43.509620Z",
     "shell.execute_reply": "2022-09-26T07:48:43.508637Z"
    },
    "papermill": {
     "duration": 0.070701,
     "end_time": "2022-09-26T07:48:43.511575",
     "exception": false,
     "start_time": "2022-09-26T07:48:43.440874",
     "status": "completed"
    },
    "tags": []
   },
   "outputs": [
    {
     "data": {
      "text/plain": [
       "Team        Utah Jazz\n",
       "Number            8.0\n",
       "Position           PG\n",
       "Age              26.0\n",
       "Height            6-3\n",
       "Weight          203.0\n",
       "College        Butler\n",
       "Salary      2433333.0\n",
       "Name: Shelvin Mack, dtype: object"
      ]
     },
     "execution_count": 73,
     "metadata": {},
     "output_type": "execute_result"
    }
   ],
   "source": [
    "data = pd.read_csv(\"/kaggle/input/nba-data/nba.csv\",index_col=\"Name\")  \n",
    "first = data.loc[\"Shelvin Mack\"]\n",
    "first"
   ]
  },
  {
   "cell_type": "code",
   "execution_count": 74,
   "id": "a5d28084",
   "metadata": {
    "execution": {
     "iopub.execute_input": "2022-09-26T07:48:43.614692Z",
     "iopub.status.busy": "2022-09-26T07:48:43.613789Z",
     "iopub.status.idle": "2022-09-26T07:48:43.629258Z",
     "shell.execute_reply": "2022-09-26T07:48:43.628175Z"
    },
    "papermill": {
     "duration": 0.069076,
     "end_time": "2022-09-26T07:48:43.631311",
     "exception": false,
     "start_time": "2022-09-26T07:48:43.562235",
     "status": "completed"
    },
    "tags": []
   },
   "outputs": [
    {
     "data": {
      "text/html": [
       "<div>\n",
       "<style scoped>\n",
       "    .dataframe tbody tr th:only-of-type {\n",
       "        vertical-align: middle;\n",
       "    }\n",
       "\n",
       "    .dataframe tbody tr th {\n",
       "        vertical-align: top;\n",
       "    }\n",
       "\n",
       "    .dataframe thead th {\n",
       "        text-align: right;\n",
       "    }\n",
       "</style>\n",
       "<table border=\"1\" class=\"dataframe\">\n",
       "  <thead>\n",
       "    <tr style=\"text-align: right;\">\n",
       "      <th></th>\n",
       "      <th>Team</th>\n",
       "      <th>Number</th>\n",
       "      <th>Position</th>\n",
       "      <th>Age</th>\n",
       "      <th>Height</th>\n",
       "      <th>Weight</th>\n",
       "      <th>College</th>\n",
       "      <th>Salary</th>\n",
       "    </tr>\n",
       "    <tr>\n",
       "      <th>Name</th>\n",
       "      <th></th>\n",
       "      <th></th>\n",
       "      <th></th>\n",
       "      <th></th>\n",
       "      <th></th>\n",
       "      <th></th>\n",
       "      <th></th>\n",
       "      <th></th>\n",
       "    </tr>\n",
       "  </thead>\n",
       "  <tbody>\n",
       "    <tr>\n",
       "      <th>Avery Bradley</th>\n",
       "      <td>Boston Celtics</td>\n",
       "      <td>0.0</td>\n",
       "      <td>PG</td>\n",
       "      <td>25.0</td>\n",
       "      <td>6-2</td>\n",
       "      <td>180.0</td>\n",
       "      <td>Texas</td>\n",
       "      <td>7730337.0</td>\n",
       "    </tr>\n",
       "    <tr>\n",
       "      <th>Jae Crowder</th>\n",
       "      <td>Boston Celtics</td>\n",
       "      <td>99.0</td>\n",
       "      <td>SF</td>\n",
       "      <td>25.0</td>\n",
       "      <td>6-6</td>\n",
       "      <td>235.0</td>\n",
       "      <td>Marquette</td>\n",
       "      <td>6796117.0</td>\n",
       "    </tr>\n",
       "    <tr>\n",
       "      <th>John Holland</th>\n",
       "      <td>Boston Celtics</td>\n",
       "      <td>30.0</td>\n",
       "      <td>SG</td>\n",
       "      <td>27.0</td>\n",
       "      <td>6-5</td>\n",
       "      <td>205.0</td>\n",
       "      <td>Boston University</td>\n",
       "      <td>NaN</td>\n",
       "    </tr>\n",
       "    <tr>\n",
       "      <th>R.J. Hunter</th>\n",
       "      <td>Boston Celtics</td>\n",
       "      <td>28.0</td>\n",
       "      <td>SG</td>\n",
       "      <td>22.0</td>\n",
       "      <td>6-5</td>\n",
       "      <td>185.0</td>\n",
       "      <td>Georgia State</td>\n",
       "      <td>1148640.0</td>\n",
       "    </tr>\n",
       "    <tr>\n",
       "      <th>Jonas Jerebko</th>\n",
       "      <td>Boston Celtics</td>\n",
       "      <td>8.0</td>\n",
       "      <td>PF</td>\n",
       "      <td>29.0</td>\n",
       "      <td>6-10</td>\n",
       "      <td>231.0</td>\n",
       "      <td>NaN</td>\n",
       "      <td>5000000.0</td>\n",
       "    </tr>\n",
       "  </tbody>\n",
       "</table>\n",
       "</div>"
      ],
      "text/plain": [
       "                         Team  Number Position   Age Height  Weight  \\\n",
       "Name                                                                  \n",
       "Avery Bradley  Boston Celtics     0.0       PG  25.0    6-2   180.0   \n",
       "Jae Crowder    Boston Celtics    99.0       SF  25.0    6-6   235.0   \n",
       "John Holland   Boston Celtics    30.0       SG  27.0    6-5   205.0   \n",
       "R.J. Hunter    Boston Celtics    28.0       SG  22.0    6-5   185.0   \n",
       "Jonas Jerebko  Boston Celtics     8.0       PF  29.0   6-10   231.0   \n",
       "\n",
       "                         College     Salary  \n",
       "Name                                         \n",
       "Avery Bradley              Texas  7730337.0  \n",
       "Jae Crowder            Marquette  6796117.0  \n",
       "John Holland   Boston University        NaN  \n",
       "R.J. Hunter        Georgia State  1148640.0  \n",
       "Jonas Jerebko                NaN  5000000.0  "
      ]
     },
     "execution_count": 74,
     "metadata": {},
     "output_type": "execute_result"
    }
   ],
   "source": [
    "df=pd.DataFrame(data)\n",
    "df.head()"
   ]
  },
  {
   "cell_type": "code",
   "execution_count": 75,
   "id": "6a5ac6fa",
   "metadata": {
    "execution": {
     "iopub.execute_input": "2022-09-26T07:48:43.734681Z",
     "iopub.status.busy": "2022-09-26T07:48:43.733810Z",
     "iopub.status.idle": "2022-09-26T07:48:43.742150Z",
     "shell.execute_reply": "2022-09-26T07:48:43.741226Z"
    },
    "papermill": {
     "duration": 0.061113,
     "end_time": "2022-09-26T07:48:43.744288",
     "exception": false,
     "start_time": "2022-09-26T07:48:43.683175",
     "status": "completed"
    },
    "tags": []
   },
   "outputs": [
    {
     "data": {
      "text/plain": [
       "Name\n",
       "Avery Bradley    25.0\n",
       "Jae Crowder      25.0\n",
       "John Holland     27.0\n",
       "R.J. Hunter      22.0\n",
       "Jonas Jerebko    29.0\n",
       "                 ... \n",
       "Shelvin Mack     26.0\n",
       "Raul Neto        24.0\n",
       "Tibor Pleiss     26.0\n",
       "Jeff Withey      26.0\n",
       "NaN               NaN\n",
       "Name: Age, Length: 458, dtype: float64"
      ]
     },
     "execution_count": 75,
     "metadata": {},
     "output_type": "execute_result"
    }
   ],
   "source": [
    "df[\"Age\"]"
   ]
  },
  {
   "cell_type": "markdown",
   "id": "c61a17b4",
   "metadata": {
    "papermill": {
     "duration": 0.050543,
     "end_time": "2022-09-26T07:48:43.845815",
     "exception": false,
     "start_time": "2022-09-26T07:48:43.795272",
     "status": "completed"
    },
    "tags": []
   },
   "source": [
    "# Indexing and selecting data In DataFrame:\n",
    "- The axis labeling information in pandas objects serves many purposes:\n",
    "\n",
    "    - Identifies data (i.e. provides metadata) using known indicators, important for analysis, visualization, and interactive console display.\n",
    "    - Enables automatic and explicit data alignment.\n",
    "    - Allows intuitive getting and setting of subsets of the data set.\n",
    "\n",
    "## Indexing and selecting data In DataFrame: | Basics:\n",
    "- As mentioned when introducing the data structures in the last section, the primary function of indexing with **[]** (a.k.a. __ **getitem** __ for those familiar with implementing class behavior in Python) is selecting out lower-dimensional slices. The following table shows return type values when indexing pandas objects with **[]:**\n",
    "\n",
    "<table class=\"colwidths-given table\">\n",
    "<colgroup>\n",
    "<col style=\"width: 25%\">\n",
    "<col style=\"width: 25%\">\n",
    "<col style=\"width: 50%\">\n",
    "</colgroup>\n",
    "<thead>\n",
    "<tr class=\"row-odd\"><th class=\"head\"><p>Object Type</p></th>\n",
    "<th class=\"head\"><p>Selection</p></th>\n",
    "<th class=\"head\"><p>Return Value Type</p></th>\n",
    "</tr>\n",
    "</thead>\n",
    "<tbody>\n",
    "<tr class=\"row-even\"><td><p>Series</p></td>\n",
    "<td><p><code class=\"docutils literal notranslate\"><span class=\"pre\">series[label]</span></code></p></td>\n",
    "<td><p>scalar value</p></td>\n",
    "</tr>\n",
    "<tr class=\"row-odd\"><td><p>DataFrame</p></td>\n",
    "<td><p><code class=\"docutils literal notranslate\"><span class=\"pre\">frame[colname]</span></code></p></td>\n",
    "<td><p><code class=\"docutils literal notranslate\"><span class=\"pre\">Series</span></code> corresponding to colname</p></td>\n",
    "</tr>\n",
    "</tbody>\n",
    "</table>"
   ]
  },
  {
   "cell_type": "code",
   "execution_count": 76,
   "id": "702b4763",
   "metadata": {
    "execution": {
     "iopub.execute_input": "2022-09-26T07:48:43.947999Z",
     "iopub.status.busy": "2022-09-26T07:48:43.947084Z",
     "iopub.status.idle": "2022-09-26T07:48:43.966613Z",
     "shell.execute_reply": "2022-09-26T07:48:43.964943Z"
    },
    "papermill": {
     "duration": 0.073688,
     "end_time": "2022-09-26T07:48:43.969363",
     "exception": false,
     "start_time": "2022-09-26T07:48:43.895675",
     "status": "completed"
    },
    "tags": []
   },
   "outputs": [
    {
     "name": "stdout",
     "output_type": "stream",
     "text": [
      "DatetimeIndex(['2000-01-01', '2000-01-02', '2000-01-03', '2000-01-04',\n",
      "               '2000-01-05', '2000-01-06', '2000-01-07', '2000-01-08'],\n",
      "              dtype='datetime64[ns]', freq='D') \n",
      "\n"
     ]
    },
    {
     "data": {
      "text/html": [
       "<div>\n",
       "<style scoped>\n",
       "    .dataframe tbody tr th:only-of-type {\n",
       "        vertical-align: middle;\n",
       "    }\n",
       "\n",
       "    .dataframe tbody tr th {\n",
       "        vertical-align: top;\n",
       "    }\n",
       "\n",
       "    .dataframe thead th {\n",
       "        text-align: right;\n",
       "    }\n",
       "</style>\n",
       "<table border=\"1\" class=\"dataframe\">\n",
       "  <thead>\n",
       "    <tr style=\"text-align: right;\">\n",
       "      <th></th>\n",
       "      <th>A</th>\n",
       "      <th>B</th>\n",
       "      <th>C</th>\n",
       "      <th>D</th>\n",
       "    </tr>\n",
       "  </thead>\n",
       "  <tbody>\n",
       "    <tr>\n",
       "      <th>2000-01-01</th>\n",
       "      <td>-1.366566</td>\n",
       "      <td>-1.486817</td>\n",
       "      <td>0.376649</td>\n",
       "      <td>1.000296</td>\n",
       "    </tr>\n",
       "    <tr>\n",
       "      <th>2000-01-02</th>\n",
       "      <td>0.324335</td>\n",
       "      <td>0.756011</td>\n",
       "      <td>0.143238</td>\n",
       "      <td>0.129565</td>\n",
       "    </tr>\n",
       "    <tr>\n",
       "      <th>2000-01-03</th>\n",
       "      <td>0.742780</td>\n",
       "      <td>-1.673545</td>\n",
       "      <td>2.514546</td>\n",
       "      <td>-0.280378</td>\n",
       "    </tr>\n",
       "    <tr>\n",
       "      <th>2000-01-04</th>\n",
       "      <td>1.120756</td>\n",
       "      <td>0.345513</td>\n",
       "      <td>-0.484127</td>\n",
       "      <td>-0.063935</td>\n",
       "    </tr>\n",
       "    <tr>\n",
       "      <th>2000-01-05</th>\n",
       "      <td>1.376837</td>\n",
       "      <td>-1.656936</td>\n",
       "      <td>-1.321427</td>\n",
       "      <td>0.461674</td>\n",
       "    </tr>\n",
       "    <tr>\n",
       "      <th>2000-01-06</th>\n",
       "      <td>0.347482</td>\n",
       "      <td>0.273647</td>\n",
       "      <td>-0.667375</td>\n",
       "      <td>-1.115575</td>\n",
       "    </tr>\n",
       "    <tr>\n",
       "      <th>2000-01-07</th>\n",
       "      <td>0.074003</td>\n",
       "      <td>1.102945</td>\n",
       "      <td>0.792670</td>\n",
       "      <td>-1.166127</td>\n",
       "    </tr>\n",
       "    <tr>\n",
       "      <th>2000-01-08</th>\n",
       "      <td>0.058414</td>\n",
       "      <td>-1.550657</td>\n",
       "      <td>-0.354937</td>\n",
       "      <td>0.527594</td>\n",
       "    </tr>\n",
       "  </tbody>\n",
       "</table>\n",
       "</div>"
      ],
      "text/plain": [
       "                   A         B         C         D\n",
       "2000-01-01 -1.366566 -1.486817  0.376649  1.000296\n",
       "2000-01-02  0.324335  0.756011  0.143238  0.129565\n",
       "2000-01-03  0.742780 -1.673545  2.514546 -0.280378\n",
       "2000-01-04  1.120756  0.345513 -0.484127 -0.063935\n",
       "2000-01-05  1.376837 -1.656936 -1.321427  0.461674\n",
       "2000-01-06  0.347482  0.273647 -0.667375 -1.115575\n",
       "2000-01-07  0.074003  1.102945  0.792670 -1.166127\n",
       "2000-01-08  0.058414 -1.550657 -0.354937  0.527594"
      ]
     },
     "execution_count": 76,
     "metadata": {},
     "output_type": "execute_result"
    }
   ],
   "source": [
    "dates = pd.date_range('1/1/2000', periods=8) #Creating Index As Date\n",
    "print(dates,\"\\n\")\n",
    "\n",
    "df = pd.DataFrame(np.random.randn(8, 4),index=dates, columns=['A', 'B', 'C', 'D']) #Creating  DataFrame\n",
    "df"
   ]
  },
  {
   "cell_type": "code",
   "execution_count": 77,
   "id": "af61bcc1",
   "metadata": {
    "execution": {
     "iopub.execute_input": "2022-09-26T07:48:44.176876Z",
     "iopub.status.busy": "2022-09-26T07:48:44.176529Z",
     "iopub.status.idle": "2022-09-26T07:48:44.183385Z",
     "shell.execute_reply": "2022-09-26T07:48:44.182385Z"
    },
    "papermill": {
     "duration": 0.11662,
     "end_time": "2022-09-26T07:48:44.190001",
     "exception": false,
     "start_time": "2022-09-26T07:48:44.073381",
     "status": "completed"
    },
    "tags": []
   },
   "outputs": [
    {
     "name": "stdout",
     "output_type": "stream",
     "text": [
      "Value of Dates:\n",
      "\n",
      " DatetimeIndex(['2000-01-01', '2000-01-02', '2000-01-03', '2000-01-04',\n",
      "               '2000-01-05', '2000-01-06', '2000-01-07', '2000-01-08'],\n",
      "              dtype='datetime64[ns]', freq='D')\n",
      "\n",
      "Type of dates:  <class 'pandas.core.indexes.datetimes.DatetimeIndex'>\n"
     ]
    }
   ],
   "source": [
    "print(\"Value of Dates:\\n\\n\",dates)\n",
    "print(\"\\nType of dates: \",type(dates))"
   ]
  },
  {
   "cell_type": "code",
   "execution_count": 78,
   "id": "e3421164",
   "metadata": {
    "execution": {
     "iopub.execute_input": "2022-09-26T07:48:44.348632Z",
     "iopub.status.busy": "2022-09-26T07:48:44.348035Z",
     "iopub.status.idle": "2022-09-26T07:48:44.354584Z",
     "shell.execute_reply": "2022-09-26T07:48:44.353759Z"
    },
    "papermill": {
     "duration": 0.089849,
     "end_time": "2022-09-26T07:48:44.360915",
     "exception": false,
     "start_time": "2022-09-26T07:48:44.271066",
     "status": "completed"
    },
    "tags": []
   },
   "outputs": [
    {
     "name": "stdout",
     "output_type": "stream",
     "text": [
      "Value at DataFrame['A'] Series Index 4: 1.3768365980070694\n",
      "Data Type of Value: <class 'numpy.float64'>\n"
     ]
    }
   ],
   "source": [
    "#Indexing data by Series Index(0,1,2,3,4,5,.........like that)\n",
    "\n",
    "s=df[\"A\"]  #Assigning DataFrame Value(A Series) to s.\n",
    "print(\"Value at DataFrame['A'] Series Index 4:\",s[4])\n",
    "print(\"Data Type of Value:\",type(s[4]))"
   ]
  },
  {
   "cell_type": "code",
   "execution_count": 79,
   "id": "1a05b6f7",
   "metadata": {
    "execution": {
     "iopub.execute_input": "2022-09-26T07:48:44.516393Z",
     "iopub.status.busy": "2022-09-26T07:48:44.515930Z",
     "iopub.status.idle": "2022-09-26T07:48:44.526505Z",
     "shell.execute_reply": "2022-09-26T07:48:44.525554Z"
    },
    "papermill": {
     "duration": 0.090988,
     "end_time": "2022-09-26T07:48:44.529678",
     "exception": false,
     "start_time": "2022-09-26T07:48:44.438690",
     "status": "completed"
    },
    "tags": []
   },
   "outputs": [
    {
     "name": "stdout",
     "output_type": "stream",
     "text": [
      "Value at dates[4] index: 1.3768365980070694\n",
      "Data Type of Value: <class 'numpy.float64'>\n"
     ]
    }
   ],
   "source": [
    "print(\"Value at dates[4] index:\",s[dates[4]]) #We are direct giving Index\n",
    "print(\"Data Type of Value:\",type(s[dates[5]]))"
   ]
  },
  {
   "cell_type": "code",
   "execution_count": 80,
   "id": "59f06306",
   "metadata": {
    "execution": {
     "iopub.execute_input": "2022-09-26T07:48:44.650643Z",
     "iopub.status.busy": "2022-09-26T07:48:44.650273Z",
     "iopub.status.idle": "2022-09-26T07:48:44.663873Z",
     "shell.execute_reply": "2022-09-26T07:48:44.662247Z"
    },
    "papermill": {
     "duration": 0.071219,
     "end_time": "2022-09-26T07:48:44.666550",
     "exception": false,
     "start_time": "2022-09-26T07:48:44.595331",
     "status": "completed"
    },
    "tags": []
   },
   "outputs": [
    {
     "name": "stdout",
     "output_type": "stream",
     "text": [
      "Before Changing: \n",
      "                    A         B\n",
      "2000-01-01 -1.366566 -1.486817\n",
      "2000-01-02  0.324335  0.756011\n",
      "2000-01-03  0.742780 -1.673545\n",
      "2000-01-04  1.120756  0.345513\n",
      "2000-01-05  1.376837 -1.656936\n",
      "2000-01-06  0.347482  0.273647\n",
      "2000-01-07  0.074003  1.102945\n",
      "2000-01-08  0.058414 -1.550657\n",
      "\n",
      "After Changing:\n",
      "                    A         B\n",
      "2000-01-01 -1.486817 -1.366566\n",
      "2000-01-02  0.756011  0.324335\n",
      "2000-01-03 -1.673545  0.742780\n",
      "2000-01-04  0.345513  1.120756\n",
      "2000-01-05 -1.656936  1.376837\n",
      "2000-01-06  0.273647  0.347482\n",
      "2000-01-07  1.102945  0.074003\n",
      "2000-01-08 -1.550657  0.058414\n"
     ]
    }
   ],
   "source": [
    "print(\"Before Changing: \\n\",df[['A','B']])\n",
    "df[['B', 'A']] = df[['A', 'B']]   #Changing Column value \n",
    "print(\"\\nAfter Changing:\\n\",df[['A','B']])"
   ]
  },
  {
   "cell_type": "markdown",
   "id": "1ff11df7",
   "metadata": {
    "papermill": {
     "duration": 0.050743,
     "end_time": "2022-09-26T07:48:44.772317",
     "exception": false,
     "start_time": "2022-09-26T07:48:44.721574",
     "status": "completed"
    },
    "tags": []
   },
   "source": [
    "> <h2>⚠️Warning</h2>\n",
    "\n",
    "> - **pandas aligns all AXES when setting Series and DataFrame from .loc, and .iloc.**\n",
    "> - **This will not modify df because the column alignment is before value assignment.**"
   ]
  },
  {
   "cell_type": "code",
   "execution_count": 81,
   "id": "5a358828",
   "metadata": {
    "execution": {
     "iopub.execute_input": "2022-09-26T07:48:44.877026Z",
     "iopub.status.busy": "2022-09-26T07:48:44.875292Z",
     "iopub.status.idle": "2022-09-26T07:48:44.890627Z",
     "shell.execute_reply": "2022-09-26T07:48:44.889614Z"
    },
    "papermill": {
     "duration": 0.070334,
     "end_time": "2022-09-26T07:48:44.893300",
     "exception": false,
     "start_time": "2022-09-26T07:48:44.822966",
     "status": "completed"
    },
    "tags": []
   },
   "outputs": [
    {
     "name": "stdout",
     "output_type": "stream",
     "text": [
      "Before Changing: \n",
      "                    A         B\n",
      "2000-01-01 -1.486817 -1.366566\n",
      "2000-01-02  0.756011  0.324335\n",
      "2000-01-03 -1.673545  0.742780\n",
      "2000-01-04  0.345513  1.120756\n",
      "2000-01-05 -1.656936  1.376837\n",
      "2000-01-06  0.273647  0.347482\n",
      "2000-01-07  1.102945  0.074003\n",
      "2000-01-08 -1.550657  0.058414\n",
      "\n",
      "After Changing:\n",
      "                    A         B\n",
      "2000-01-01 -1.486817 -1.366566\n",
      "2000-01-02  0.756011  0.324335\n",
      "2000-01-03 -1.673545  0.742780\n",
      "2000-01-04  0.345513  1.120756\n",
      "2000-01-05 -1.656936  1.376837\n",
      "2000-01-06  0.273647  0.347482\n",
      "2000-01-07  1.102945  0.074003\n",
      "2000-01-08 -1.550657  0.058414\n"
     ]
    }
   ],
   "source": [
    "print(\"Before Changing: \\n\",df[['A','B']])\n",
    "df.loc[:, ['B', 'A']] = df[['A', 'B']]         #Not Changing Value \n",
    "print(\"\\nAfter Changing:\\n\",df[['A','B']])"
   ]
  },
  {
   "cell_type": "code",
   "execution_count": 82,
   "id": "02f21b68",
   "metadata": {
    "execution": {
     "iopub.execute_input": "2022-09-26T07:48:45.002124Z",
     "iopub.status.busy": "2022-09-26T07:48:45.001442Z",
     "iopub.status.idle": "2022-09-26T07:48:45.012531Z",
     "shell.execute_reply": "2022-09-26T07:48:45.010876Z"
    },
    "papermill": {
     "duration": 0.066296,
     "end_time": "2022-09-26T07:48:45.015283",
     "exception": false,
     "start_time": "2022-09-26T07:48:44.948987",
     "status": "completed"
    },
    "tags": []
   },
   "outputs": [
    {
     "name": "stdout",
     "output_type": "stream",
     "text": [
      "\n",
      "After Changing:\n",
      "                    A         B\n",
      "2000-01-01 -1.366566 -1.486817\n",
      "2000-01-02  0.324335  0.756011\n",
      "2000-01-03  0.742780 -1.673545\n",
      "2000-01-04  1.120756  0.345513\n",
      "2000-01-05  1.376837 -1.656936\n",
      "2000-01-06  0.347482  0.273647\n",
      "2000-01-07  0.074003  1.102945\n",
      "2000-01-08  0.058414 -1.550657\n"
     ]
    }
   ],
   "source": [
    "df.loc[:, ['B', 'A']] = df[['A', 'B']].to_numpy()\n",
    "print(\"\\nAfter Changing:\\n\",df[['A','B']])"
   ]
  },
  {
   "cell_type": "markdown",
   "id": "70584d41",
   "metadata": {
    "papermill": {
     "duration": 0.050963,
     "end_time": "2022-09-26T07:48:45.161762",
     "exception": false,
     "start_time": "2022-09-26T07:48:45.110799",
     "status": "completed"
    },
    "tags": []
   },
   "source": [
    "## Indexing and selecting data In DataFrame: | Attribute access:"
   ]
  },
  {
   "cell_type": "code",
   "execution_count": 83,
   "id": "764d0089",
   "metadata": {
    "execution": {
     "iopub.execute_input": "2022-09-26T07:48:45.265264Z",
     "iopub.status.busy": "2022-09-26T07:48:45.264277Z",
     "iopub.status.idle": "2022-09-26T07:48:45.272545Z",
     "shell.execute_reply": "2022-09-26T07:48:45.271537Z"
    },
    "papermill": {
     "duration": 0.061934,
     "end_time": "2022-09-26T07:48:45.274513",
     "exception": false,
     "start_time": "2022-09-26T07:48:45.212579",
     "status": "completed"
    },
    "tags": []
   },
   "outputs": [
    {
     "data": {
      "text/plain": [
       "a    1\n",
       "b    2\n",
       "c    3\n",
       "dtype: int64"
      ]
     },
     "execution_count": 83,
     "metadata": {},
     "output_type": "execute_result"
    }
   ],
   "source": [
    "sa = pd.Series([1, 2, 3], index=list('abc'))  # Creating SA Series \n",
    "sa"
   ]
  },
  {
   "cell_type": "code",
   "execution_count": 84,
   "id": "5aada43b",
   "metadata": {
    "execution": {
     "iopub.execute_input": "2022-09-26T07:48:45.378810Z",
     "iopub.status.busy": "2022-09-26T07:48:45.377822Z",
     "iopub.status.idle": "2022-09-26T07:48:45.390837Z",
     "shell.execute_reply": "2022-09-26T07:48:45.389891Z"
    },
    "papermill": {
     "duration": 0.066989,
     "end_time": "2022-09-26T07:48:45.392815",
     "exception": false,
     "start_time": "2022-09-26T07:48:45.325826",
     "status": "completed"
    },
    "tags": []
   },
   "outputs": [
    {
     "name": "stdout",
     "output_type": "stream",
     "text": [
      "DataFrame dfa:\n",
      "\n"
     ]
    },
    {
     "data": {
      "text/html": [
       "<div>\n",
       "<style scoped>\n",
       "    .dataframe tbody tr th:only-of-type {\n",
       "        vertical-align: middle;\n",
       "    }\n",
       "\n",
       "    .dataframe tbody tr th {\n",
       "        vertical-align: top;\n",
       "    }\n",
       "\n",
       "    .dataframe thead th {\n",
       "        text-align: right;\n",
       "    }\n",
       "</style>\n",
       "<table border=\"1\" class=\"dataframe\">\n",
       "  <thead>\n",
       "    <tr style=\"text-align: right;\">\n",
       "      <th></th>\n",
       "      <th>A</th>\n",
       "      <th>B</th>\n",
       "      <th>C</th>\n",
       "      <th>D</th>\n",
       "    </tr>\n",
       "  </thead>\n",
       "  <tbody>\n",
       "    <tr>\n",
       "      <th>2000-01-01</th>\n",
       "      <td>-1.366566</td>\n",
       "      <td>-1.486817</td>\n",
       "      <td>0.376649</td>\n",
       "      <td>1.000296</td>\n",
       "    </tr>\n",
       "    <tr>\n",
       "      <th>2000-01-02</th>\n",
       "      <td>0.324335</td>\n",
       "      <td>0.756011</td>\n",
       "      <td>0.143238</td>\n",
       "      <td>0.129565</td>\n",
       "    </tr>\n",
       "    <tr>\n",
       "      <th>2000-01-03</th>\n",
       "      <td>0.742780</td>\n",
       "      <td>-1.673545</td>\n",
       "      <td>2.514546</td>\n",
       "      <td>-0.280378</td>\n",
       "    </tr>\n",
       "    <tr>\n",
       "      <th>2000-01-04</th>\n",
       "      <td>1.120756</td>\n",
       "      <td>0.345513</td>\n",
       "      <td>-0.484127</td>\n",
       "      <td>-0.063935</td>\n",
       "    </tr>\n",
       "    <tr>\n",
       "      <th>2000-01-05</th>\n",
       "      <td>1.376837</td>\n",
       "      <td>-1.656936</td>\n",
       "      <td>-1.321427</td>\n",
       "      <td>0.461674</td>\n",
       "    </tr>\n",
       "    <tr>\n",
       "      <th>2000-01-06</th>\n",
       "      <td>0.347482</td>\n",
       "      <td>0.273647</td>\n",
       "      <td>-0.667375</td>\n",
       "      <td>-1.115575</td>\n",
       "    </tr>\n",
       "    <tr>\n",
       "      <th>2000-01-07</th>\n",
       "      <td>0.074003</td>\n",
       "      <td>1.102945</td>\n",
       "      <td>0.792670</td>\n",
       "      <td>-1.166127</td>\n",
       "    </tr>\n",
       "    <tr>\n",
       "      <th>2000-01-08</th>\n",
       "      <td>0.058414</td>\n",
       "      <td>-1.550657</td>\n",
       "      <td>-0.354937</td>\n",
       "      <td>0.527594</td>\n",
       "    </tr>\n",
       "  </tbody>\n",
       "</table>\n",
       "</div>"
      ],
      "text/plain": [
       "                   A         B         C         D\n",
       "2000-01-01 -1.366566 -1.486817  0.376649  1.000296\n",
       "2000-01-02  0.324335  0.756011  0.143238  0.129565\n",
       "2000-01-03  0.742780 -1.673545  2.514546 -0.280378\n",
       "2000-01-04  1.120756  0.345513 -0.484127 -0.063935\n",
       "2000-01-05  1.376837 -1.656936 -1.321427  0.461674\n",
       "2000-01-06  0.347482  0.273647 -0.667375 -1.115575\n",
       "2000-01-07  0.074003  1.102945  0.792670 -1.166127\n",
       "2000-01-08  0.058414 -1.550657 -0.354937  0.527594"
      ]
     },
     "execution_count": 84,
     "metadata": {},
     "output_type": "execute_result"
    }
   ],
   "source": [
    "print(\"DataFrame dfa:\\n\")\n",
    "dfa = df.copy() #Making Copy of df in dfa\n",
    "dfa"
   ]
  },
  {
   "cell_type": "code",
   "execution_count": 85,
   "id": "2cf50777",
   "metadata": {
    "execution": {
     "iopub.execute_input": "2022-09-26T07:48:45.498989Z",
     "iopub.status.busy": "2022-09-26T07:48:45.498057Z",
     "iopub.status.idle": "2022-09-26T07:48:45.506346Z",
     "shell.execute_reply": "2022-09-26T07:48:45.505347Z"
    },
    "papermill": {
     "duration": 0.063887,
     "end_time": "2022-09-26T07:48:45.508640",
     "exception": false,
     "start_time": "2022-09-26T07:48:45.444753",
     "status": "completed"
    },
    "tags": []
   },
   "outputs": [
    {
     "data": {
      "text/plain": [
       "2000-01-01   -1.366566\n",
       "2000-01-02    0.324335\n",
       "2000-01-03    0.742780\n",
       "2000-01-04    1.120756\n",
       "2000-01-05    1.376837\n",
       "2000-01-06    0.347482\n",
       "2000-01-07    0.074003\n",
       "2000-01-08    0.058414\n",
       "Freq: D, Name: A, dtype: float64"
      ]
     },
     "execution_count": 85,
     "metadata": {},
     "output_type": "execute_result"
    }
   ],
   "source": [
    "dfa.A   #accesing as a attribute "
   ]
  },
  {
   "cell_type": "code",
   "execution_count": 86,
   "id": "93e42572",
   "metadata": {
    "execution": {
     "iopub.execute_input": "2022-09-26T07:48:45.618211Z",
     "iopub.status.busy": "2022-09-26T07:48:45.617232Z",
     "iopub.status.idle": "2022-09-26T07:48:45.624371Z",
     "shell.execute_reply": "2022-09-26T07:48:45.623405Z"
    },
    "papermill": {
     "duration": 0.064029,
     "end_time": "2022-09-26T07:48:45.626322",
     "exception": false,
     "start_time": "2022-09-26T07:48:45.562293",
     "status": "completed"
    },
    "tags": []
   },
   "outputs": [
    {
     "data": {
      "text/plain": [
       "DatetimeIndex(['2000-01-01', '2000-01-02', '2000-01-03', '2000-01-04',\n",
       "               '2000-01-05', '2000-01-06', '2000-01-07', '2000-01-08'],\n",
       "              dtype='datetime64[ns]', freq='D')"
      ]
     },
     "execution_count": 86,
     "metadata": {},
     "output_type": "execute_result"
    }
   ],
   "source": [
    "dfa.index # index of dfa DataFrame"
   ]
  },
  {
   "cell_type": "code",
   "execution_count": 87,
   "id": "adac74d5",
   "metadata": {
    "execution": {
     "iopub.execute_input": "2022-09-26T07:48:45.736492Z",
     "iopub.status.busy": "2022-09-26T07:48:45.735826Z",
     "iopub.status.idle": "2022-09-26T07:48:45.748843Z",
     "shell.execute_reply": "2022-09-26T07:48:45.747780Z"
    },
    "papermill": {
     "duration": 0.072089,
     "end_time": "2022-09-26T07:48:45.751321",
     "exception": false,
     "start_time": "2022-09-26T07:48:45.679232",
     "status": "completed"
    },
    "tags": []
   },
   "outputs": [
    {
     "data": {
      "text/html": [
       "<div>\n",
       "<style scoped>\n",
       "    .dataframe tbody tr th:only-of-type {\n",
       "        vertical-align: middle;\n",
       "    }\n",
       "\n",
       "    .dataframe tbody tr th {\n",
       "        vertical-align: top;\n",
       "    }\n",
       "\n",
       "    .dataframe thead th {\n",
       "        text-align: right;\n",
       "    }\n",
       "</style>\n",
       "<table border=\"1\" class=\"dataframe\">\n",
       "  <thead>\n",
       "    <tr style=\"text-align: right;\">\n",
       "      <th></th>\n",
       "      <th>A</th>\n",
       "      <th>B</th>\n",
       "      <th>C</th>\n",
       "      <th>D</th>\n",
       "    </tr>\n",
       "  </thead>\n",
       "  <tbody>\n",
       "    <tr>\n",
       "      <th>2000-01-01</th>\n",
       "      <td>0</td>\n",
       "      <td>-1.486817</td>\n",
       "      <td>0.376649</td>\n",
       "      <td>1.000296</td>\n",
       "    </tr>\n",
       "    <tr>\n",
       "      <th>2000-01-02</th>\n",
       "      <td>1</td>\n",
       "      <td>0.756011</td>\n",
       "      <td>0.143238</td>\n",
       "      <td>0.129565</td>\n",
       "    </tr>\n",
       "    <tr>\n",
       "      <th>2000-01-03</th>\n",
       "      <td>2</td>\n",
       "      <td>-1.673545</td>\n",
       "      <td>2.514546</td>\n",
       "      <td>-0.280378</td>\n",
       "    </tr>\n",
       "    <tr>\n",
       "      <th>2000-01-04</th>\n",
       "      <td>3</td>\n",
       "      <td>0.345513</td>\n",
       "      <td>-0.484127</td>\n",
       "      <td>-0.063935</td>\n",
       "    </tr>\n",
       "    <tr>\n",
       "      <th>2000-01-05</th>\n",
       "      <td>4</td>\n",
       "      <td>-1.656936</td>\n",
       "      <td>-1.321427</td>\n",
       "      <td>0.461674</td>\n",
       "    </tr>\n",
       "    <tr>\n",
       "      <th>2000-01-06</th>\n",
       "      <td>5</td>\n",
       "      <td>0.273647</td>\n",
       "      <td>-0.667375</td>\n",
       "      <td>-1.115575</td>\n",
       "    </tr>\n",
       "    <tr>\n",
       "      <th>2000-01-07</th>\n",
       "      <td>6</td>\n",
       "      <td>1.102945</td>\n",
       "      <td>0.792670</td>\n",
       "      <td>-1.166127</td>\n",
       "    </tr>\n",
       "    <tr>\n",
       "      <th>2000-01-08</th>\n",
       "      <td>7</td>\n",
       "      <td>-1.550657</td>\n",
       "      <td>-0.354937</td>\n",
       "      <td>0.527594</td>\n",
       "    </tr>\n",
       "  </tbody>\n",
       "</table>\n",
       "</div>"
      ],
      "text/plain": [
       "            A         B         C         D\n",
       "2000-01-01  0 -1.486817  0.376649  1.000296\n",
       "2000-01-02  1  0.756011  0.143238  0.129565\n",
       "2000-01-03  2 -1.673545  2.514546 -0.280378\n",
       "2000-01-04  3  0.345513 -0.484127 -0.063935\n",
       "2000-01-05  4 -1.656936 -1.321427  0.461674\n",
       "2000-01-06  5  0.273647 -0.667375 -1.115575\n",
       "2000-01-07  6  1.102945  0.792670 -1.166127\n",
       "2000-01-08  7 -1.550657 -0.354937  0.527594"
      ]
     },
     "execution_count": 87,
     "metadata": {},
     "output_type": "execute_result"
    }
   ],
   "source": [
    "# Changing Value of by attribute Access\n",
    "dfa.A=list(range(len(dfa.index)))           ## ok if A already exists else refer below warning\n",
    "dfa"
   ]
  },
  {
   "cell_type": "markdown",
   "id": "a120c39f",
   "metadata": {
    "papermill": {
     "duration": 0.053524,
     "end_time": "2022-09-26T07:48:45.863290",
     "exception": false,
     "start_time": "2022-09-26T07:48:45.809766",
     "status": "completed"
    },
    "tags": []
   },
   "source": [
    "``` python\n",
    "dfa.E=list(range(len(dfa.index)))\n",
    "\n",
    "/opt/conda/lib/python3.7/site-packages/ipykernel_launcher.py:1: UserWarning: Pandas doesn't allow columns to be created via a new attribute name - see https://pandas.pydata.org/pandas-docs/stable/indexing.html#attribute-access\n",
    "  \"\"\"Entry point for launching an IPython kernel.\n",
    "\n",
    "```"
   ]
  },
  {
   "cell_type": "code",
   "execution_count": 88,
   "id": "fac9605b",
   "metadata": {
    "execution": {
     "iopub.execute_input": "2022-09-26T07:48:45.969941Z",
     "iopub.status.busy": "2022-09-26T07:48:45.969585Z",
     "iopub.status.idle": "2022-09-26T07:48:45.987792Z",
     "shell.execute_reply": "2022-09-26T07:48:45.986690Z"
    },
    "papermill": {
     "duration": 0.074495,
     "end_time": "2022-09-26T07:48:45.989989",
     "exception": false,
     "start_time": "2022-09-26T07:48:45.915494",
     "status": "completed"
    },
    "tags": []
   },
   "outputs": [
    {
     "data": {
      "text/html": [
       "<div>\n",
       "<style scoped>\n",
       "    .dataframe tbody tr th:only-of-type {\n",
       "        vertical-align: middle;\n",
       "    }\n",
       "\n",
       "    .dataframe tbody tr th {\n",
       "        vertical-align: top;\n",
       "    }\n",
       "\n",
       "    .dataframe thead th {\n",
       "        text-align: right;\n",
       "    }\n",
       "</style>\n",
       "<table border=\"1\" class=\"dataframe\">\n",
       "  <thead>\n",
       "    <tr style=\"text-align: right;\">\n",
       "      <th></th>\n",
       "      <th>A</th>\n",
       "      <th>B</th>\n",
       "      <th>C</th>\n",
       "      <th>D</th>\n",
       "      <th>E</th>\n",
       "    </tr>\n",
       "  </thead>\n",
       "  <tbody>\n",
       "    <tr>\n",
       "      <th>2000-01-01</th>\n",
       "      <td>0</td>\n",
       "      <td>-1.486817</td>\n",
       "      <td>0.376649</td>\n",
       "      <td>1.000296</td>\n",
       "      <td>0</td>\n",
       "    </tr>\n",
       "    <tr>\n",
       "      <th>2000-01-02</th>\n",
       "      <td>1</td>\n",
       "      <td>0.756011</td>\n",
       "      <td>0.143238</td>\n",
       "      <td>0.129565</td>\n",
       "      <td>1</td>\n",
       "    </tr>\n",
       "    <tr>\n",
       "      <th>2000-01-03</th>\n",
       "      <td>2</td>\n",
       "      <td>-1.673545</td>\n",
       "      <td>2.514546</td>\n",
       "      <td>-0.280378</td>\n",
       "      <td>2</td>\n",
       "    </tr>\n",
       "    <tr>\n",
       "      <th>2000-01-04</th>\n",
       "      <td>3</td>\n",
       "      <td>0.345513</td>\n",
       "      <td>-0.484127</td>\n",
       "      <td>-0.063935</td>\n",
       "      <td>3</td>\n",
       "    </tr>\n",
       "    <tr>\n",
       "      <th>2000-01-05</th>\n",
       "      <td>4</td>\n",
       "      <td>-1.656936</td>\n",
       "      <td>-1.321427</td>\n",
       "      <td>0.461674</td>\n",
       "      <td>4</td>\n",
       "    </tr>\n",
       "    <tr>\n",
       "      <th>2000-01-06</th>\n",
       "      <td>5</td>\n",
       "      <td>0.273647</td>\n",
       "      <td>-0.667375</td>\n",
       "      <td>-1.115575</td>\n",
       "      <td>5</td>\n",
       "    </tr>\n",
       "    <tr>\n",
       "      <th>2000-01-07</th>\n",
       "      <td>6</td>\n",
       "      <td>1.102945</td>\n",
       "      <td>0.792670</td>\n",
       "      <td>-1.166127</td>\n",
       "      <td>6</td>\n",
       "    </tr>\n",
       "    <tr>\n",
       "      <th>2000-01-08</th>\n",
       "      <td>7</td>\n",
       "      <td>-1.550657</td>\n",
       "      <td>-0.354937</td>\n",
       "      <td>0.527594</td>\n",
       "      <td>7</td>\n",
       "    </tr>\n",
       "  </tbody>\n",
       "</table>\n",
       "</div>"
      ],
      "text/plain": [
       "            A         B         C         D  E\n",
       "2000-01-01  0 -1.486817  0.376649  1.000296  0\n",
       "2000-01-02  1  0.756011  0.143238  0.129565  1\n",
       "2000-01-03  2 -1.673545  2.514546 -0.280378  2\n",
       "2000-01-04  3  0.345513 -0.484127 -0.063935  3\n",
       "2000-01-05  4 -1.656936 -1.321427  0.461674  4\n",
       "2000-01-06  5  0.273647 -0.667375 -1.115575  5\n",
       "2000-01-07  6  1.102945  0.792670 -1.166127  6\n",
       "2000-01-08  7 -1.550657 -0.354937  0.527594  7"
      ]
     },
     "execution_count": 88,
     "metadata": {},
     "output_type": "execute_result"
    }
   ],
   "source": [
    "dfa[\"E\"]=list(range(len(dfa.index)))  #Assinging Value to E Columns\n",
    "dfa"
   ]
  },
  {
   "cell_type": "markdown",
   "id": "5c5e3750",
   "metadata": {
    "papermill": {
     "duration": 0.053932,
     "end_time": "2022-09-26T07:48:46.098639",
     "exception": false,
     "start_time": "2022-09-26T07:48:46.044707",
     "status": "completed"
    },
    "tags": []
   },
   "source": [
    ">  ## ⚠️Warning\n",
    "\n",
    "> - You can use this access only if the index element is a valid Python identifier, e.g. s.1 is not allowed. See here for an explanation of valid identifiers.\n",
    "> - The attribute will not be available if it conflicts with an existing method name, e.g. s.min is not allowed, but s['min'] is possible.\n",
    "> - Similarly, the attribute will not be available if it conflicts with any of the following list: index, major_axis, minor_axis, items.\n",
    "> - In any of these cases, standard indexing will still work, e.g. s['1'], s['min'], and s['index'] will access the corresponding element or column."
   ]
  },
  {
   "cell_type": "code",
   "execution_count": 89,
   "id": "d8c39dd3",
   "metadata": {
    "execution": {
     "iopub.execute_input": "2022-09-26T07:48:46.216519Z",
     "iopub.status.busy": "2022-09-26T07:48:46.216118Z",
     "iopub.status.idle": "2022-09-26T07:48:46.227359Z",
     "shell.execute_reply": "2022-09-26T07:48:46.225772Z"
    },
    "papermill": {
     "duration": 0.077809,
     "end_time": "2022-09-26T07:48:46.229831",
     "exception": false,
     "start_time": "2022-09-26T07:48:46.152022",
     "status": "completed"
    },
    "tags": []
   },
   "outputs": [
    {
     "name": "stdout",
     "output_type": "stream",
     "text": [
      "Before Assignment:\n",
      "\n"
     ]
    },
    {
     "data": {
      "text/html": [
       "<div>\n",
       "<style scoped>\n",
       "    .dataframe tbody tr th:only-of-type {\n",
       "        vertical-align: middle;\n",
       "    }\n",
       "\n",
       "    .dataframe tbody tr th {\n",
       "        vertical-align: top;\n",
       "    }\n",
       "\n",
       "    .dataframe thead th {\n",
       "        text-align: right;\n",
       "    }\n",
       "</style>\n",
       "<table border=\"1\" class=\"dataframe\">\n",
       "  <thead>\n",
       "    <tr style=\"text-align: right;\">\n",
       "      <th></th>\n",
       "      <th>x</th>\n",
       "      <th>y</th>\n",
       "    </tr>\n",
       "  </thead>\n",
       "  <tbody>\n",
       "    <tr>\n",
       "      <th>0</th>\n",
       "      <td>1</td>\n",
       "      <td>3</td>\n",
       "    </tr>\n",
       "    <tr>\n",
       "      <th>1</th>\n",
       "      <td>2</td>\n",
       "      <td>4</td>\n",
       "    </tr>\n",
       "    <tr>\n",
       "      <th>2</th>\n",
       "      <td>3</td>\n",
       "      <td>5</td>\n",
       "    </tr>\n",
       "  </tbody>\n",
       "</table>\n",
       "</div>"
      ],
      "text/plain": [
       "   x  y\n",
       "0  1  3\n",
       "1  2  4\n",
       "2  3  5"
      ]
     },
     "execution_count": 89,
     "metadata": {},
     "output_type": "execute_result"
    }
   ],
   "source": [
    "# You can also assign a dict to a row of a DataFrame:\n",
    "x = pd.DataFrame({'x': [1, 2, 3], 'y': [3, 4, 5]})\n",
    "print(\"Before Assignment:\\n\")\n",
    "x"
   ]
  },
  {
   "cell_type": "code",
   "execution_count": 90,
   "id": "69bcfc7b",
   "metadata": {
    "execution": {
     "iopub.execute_input": "2022-09-26T07:48:46.344516Z",
     "iopub.status.busy": "2022-09-26T07:48:46.343584Z",
     "iopub.status.idle": "2022-09-26T07:48:46.357167Z",
     "shell.execute_reply": "2022-09-26T07:48:46.355989Z"
    },
    "papermill": {
     "duration": 0.073925,
     "end_time": "2022-09-26T07:48:46.359927",
     "exception": false,
     "start_time": "2022-09-26T07:48:46.286002",
     "status": "completed"
    },
    "tags": []
   },
   "outputs": [
    {
     "name": "stdout",
     "output_type": "stream",
     "text": [
      "\n",
      "After Assignment:\n",
      "\n"
     ]
    },
    {
     "data": {
      "text/html": [
       "<div>\n",
       "<style scoped>\n",
       "    .dataframe tbody tr th:only-of-type {\n",
       "        vertical-align: middle;\n",
       "    }\n",
       "\n",
       "    .dataframe tbody tr th {\n",
       "        vertical-align: top;\n",
       "    }\n",
       "\n",
       "    .dataframe thead th {\n",
       "        text-align: right;\n",
       "    }\n",
       "</style>\n",
       "<table border=\"1\" class=\"dataframe\">\n",
       "  <thead>\n",
       "    <tr style=\"text-align: right;\">\n",
       "      <th></th>\n",
       "      <th>x</th>\n",
       "      <th>y</th>\n",
       "    </tr>\n",
       "  </thead>\n",
       "  <tbody>\n",
       "    <tr>\n",
       "      <th>0</th>\n",
       "      <td>1</td>\n",
       "      <td>3</td>\n",
       "    </tr>\n",
       "    <tr>\n",
       "      <th>1</th>\n",
       "      <td>9</td>\n",
       "      <td>99</td>\n",
       "    </tr>\n",
       "    <tr>\n",
       "      <th>2</th>\n",
       "      <td>3</td>\n",
       "      <td>5</td>\n",
       "    </tr>\n",
       "  </tbody>\n",
       "</table>\n",
       "</div>"
      ],
      "text/plain": [
       "   x   y\n",
       "0  1   3\n",
       "1  9  99\n",
       "2  3   5"
      ]
     },
     "execution_count": 90,
     "metadata": {},
     "output_type": "execute_result"
    }
   ],
   "source": [
    "x.iloc[1] = {'x': 9, 'y': 99}\n",
    "print(\"\\nAfter Assignment:\\n\")\n",
    "x"
   ]
  },
  {
   "cell_type": "markdown",
   "id": "67a6c45c",
   "metadata": {
    "papermill": {
     "duration": 0.053263,
     "end_time": "2022-09-26T07:48:46.476325",
     "exception": false,
     "start_time": "2022-09-26T07:48:46.423062",
     "status": "completed"
    },
    "tags": []
   },
   "source": [
    "## Indexing and selecting data In DataFrame | Slicing ranges in DataFrame:\n",
    "- The most robust and consistent way of slicing ranges along arbitrary axes is described in the Selection by Position section detailing the **.iloc** method. For now, we explain the semantics of slicing using the **[]** operator.\n",
    "\n",
    "- With Series, the syntax works exactly as with an ndarray, returning a slice of the values and the corresponding labels:"
   ]
  },
  {
   "cell_type": "code",
   "execution_count": 91,
   "id": "810f76ed",
   "metadata": {
    "execution": {
     "iopub.execute_input": "2022-09-26T07:48:46.587914Z",
     "iopub.status.busy": "2022-09-26T07:48:46.587308Z",
     "iopub.status.idle": "2022-09-26T07:48:46.595332Z",
     "shell.execute_reply": "2022-09-26T07:48:46.594357Z"
    },
    "papermill": {
     "duration": 0.067447,
     "end_time": "2022-09-26T07:48:46.597423",
     "exception": false,
     "start_time": "2022-09-26T07:48:46.529976",
     "status": "completed"
    },
    "tags": []
   },
   "outputs": [
    {
     "data": {
      "text/plain": [
       "2000-01-01   -1.366566\n",
       "2000-01-02    0.324335\n",
       "2000-01-03    0.742780\n",
       "2000-01-04    1.120756\n",
       "2000-01-05    1.376837\n",
       "Freq: D, Name: A, dtype: float64"
      ]
     },
     "execution_count": 91,
     "metadata": {},
     "output_type": "execute_result"
    }
   ],
   "source": [
    "s[:5]    #Slicing in Sereis s=df[\"A\"]  / print value from 0 to 5(Exclude)"
   ]
  },
  {
   "cell_type": "code",
   "execution_count": 92,
   "id": "c02ce565",
   "metadata": {
    "execution": {
     "iopub.execute_input": "2022-09-26T07:48:46.707660Z",
     "iopub.status.busy": "2022-09-26T07:48:46.705930Z",
     "iopub.status.idle": "2022-09-26T07:48:46.715577Z",
     "shell.execute_reply": "2022-09-26T07:48:46.714617Z"
    },
    "papermill": {
     "duration": 0.066209,
     "end_time": "2022-09-26T07:48:46.717824",
     "exception": false,
     "start_time": "2022-09-26T07:48:46.651615",
     "status": "completed"
    },
    "tags": []
   },
   "outputs": [
    {
     "data": {
      "text/plain": [
       "2000-01-01   -1.366566\n",
       "2000-01-03    0.742780\n",
       "2000-01-05    1.376837\n",
       "2000-01-07    0.074003\n",
       "Freq: 2D, Name: A, dtype: float64"
      ]
     },
     "execution_count": 92,
     "metadata": {},
     "output_type": "execute_result"
    }
   ],
   "source": [
    "s[::2]    #2 works as Steping Value (after 2 point print value)"
   ]
  },
  {
   "cell_type": "code",
   "execution_count": 93,
   "id": "69307389",
   "metadata": {
    "execution": {
     "iopub.execute_input": "2022-09-26T07:48:46.828080Z",
     "iopub.status.busy": "2022-09-26T07:48:46.827736Z",
     "iopub.status.idle": "2022-09-26T07:48:46.835817Z",
     "shell.execute_reply": "2022-09-26T07:48:46.834820Z"
    },
    "papermill": {
     "duration": 0.063943,
     "end_time": "2022-09-26T07:48:46.837936",
     "exception": false,
     "start_time": "2022-09-26T07:48:46.773993",
     "status": "completed"
    },
    "tags": []
   },
   "outputs": [
    {
     "data": {
      "text/plain": [
       "2000-01-08    0.058414\n",
       "2000-01-07    0.074003\n",
       "2000-01-06    0.347482\n",
       "2000-01-05    1.376837\n",
       "2000-01-04    1.120756\n",
       "2000-01-03    0.742780\n",
       "2000-01-02    0.324335\n",
       "2000-01-01   -1.366566\n",
       "Freq: -1D, Name: A, dtype: float64"
      ]
     },
     "execution_count": 93,
     "metadata": {},
     "output_type": "execute_result"
    }
   ],
   "source": [
    "s[::-1]     #it Reverse the. Series "
   ]
  },
  {
   "cell_type": "code",
   "execution_count": 94,
   "id": "ce96049a",
   "metadata": {
    "execution": {
     "iopub.execute_input": "2022-09-26T07:48:46.945929Z",
     "iopub.status.busy": "2022-09-26T07:48:46.945580Z",
     "iopub.status.idle": "2022-09-26T07:48:46.953589Z",
     "shell.execute_reply": "2022-09-26T07:48:46.952627Z"
    },
    "papermill": {
     "duration": 0.063462,
     "end_time": "2022-09-26T07:48:46.955706",
     "exception": false,
     "start_time": "2022-09-26T07:48:46.892244",
     "status": "completed"
    },
    "tags": []
   },
   "outputs": [
    {
     "data": {
      "text/plain": [
       "2000-01-01    0.000000\n",
       "2000-01-02    0.000000\n",
       "2000-01-03    0.000000\n",
       "2000-01-04    0.000000\n",
       "2000-01-05    0.000000\n",
       "2000-01-06    0.347482\n",
       "2000-01-07    0.074003\n",
       "2000-01-08    0.058414\n",
       "Freq: D, Name: A, dtype: float64"
      ]
     },
     "execution_count": 94,
     "metadata": {},
     "output_type": "execute_result"
    }
   ],
   "source": [
    "s2 = s.copy()   #Copying value of s \n",
    "s2[:5]=0       #Assigning Value from 0 to 5\n",
    "s2"
   ]
  },
  {
   "cell_type": "markdown",
   "id": "d9992a1c",
   "metadata": {
    "papermill": {
     "duration": 0.053031,
     "end_time": "2022-09-26T07:48:47.062778",
     "exception": false,
     "start_time": "2022-09-26T07:48:47.009747",
     "status": "completed"
    },
    "tags": []
   },
   "source": [
    " #### With DataFrame, slicing inside of [] slices the rows. This is provided largely as a convenience since it is such a common operation."
   ]
  },
  {
   "cell_type": "code",
   "execution_count": 95,
   "id": "6010d4fc",
   "metadata": {
    "execution": {
     "iopub.execute_input": "2022-09-26T07:48:47.171684Z",
     "iopub.status.busy": "2022-09-26T07:48:47.170958Z",
     "iopub.status.idle": "2022-09-26T07:48:47.183109Z",
     "shell.execute_reply": "2022-09-26T07:48:47.182139Z"
    },
    "papermill": {
     "duration": 0.067767,
     "end_time": "2022-09-26T07:48:47.185177",
     "exception": false,
     "start_time": "2022-09-26T07:48:47.117410",
     "status": "completed"
    },
    "tags": []
   },
   "outputs": [
    {
     "data": {
      "text/html": [
       "<div>\n",
       "<style scoped>\n",
       "    .dataframe tbody tr th:only-of-type {\n",
       "        vertical-align: middle;\n",
       "    }\n",
       "\n",
       "    .dataframe tbody tr th {\n",
       "        vertical-align: top;\n",
       "    }\n",
       "\n",
       "    .dataframe thead th {\n",
       "        text-align: right;\n",
       "    }\n",
       "</style>\n",
       "<table border=\"1\" class=\"dataframe\">\n",
       "  <thead>\n",
       "    <tr style=\"text-align: right;\">\n",
       "      <th></th>\n",
       "      <th>A</th>\n",
       "      <th>B</th>\n",
       "      <th>C</th>\n",
       "      <th>D</th>\n",
       "      <th>E</th>\n",
       "    </tr>\n",
       "  </thead>\n",
       "  <tbody>\n",
       "    <tr>\n",
       "      <th>2000-01-01</th>\n",
       "      <td>0</td>\n",
       "      <td>-1.486817</td>\n",
       "      <td>0.376649</td>\n",
       "      <td>1.000296</td>\n",
       "      <td>0</td>\n",
       "    </tr>\n",
       "    <tr>\n",
       "      <th>2000-01-02</th>\n",
       "      <td>1</td>\n",
       "      <td>0.756011</td>\n",
       "      <td>0.143238</td>\n",
       "      <td>0.129565</td>\n",
       "      <td>1</td>\n",
       "    </tr>\n",
       "    <tr>\n",
       "      <th>2000-01-03</th>\n",
       "      <td>2</td>\n",
       "      <td>-1.673545</td>\n",
       "      <td>2.514546</td>\n",
       "      <td>-0.280378</td>\n",
       "      <td>2</td>\n",
       "    </tr>\n",
       "    <tr>\n",
       "      <th>2000-01-04</th>\n",
       "      <td>3</td>\n",
       "      <td>0.345513</td>\n",
       "      <td>-0.484127</td>\n",
       "      <td>-0.063935</td>\n",
       "      <td>3</td>\n",
       "    </tr>\n",
       "    <tr>\n",
       "      <th>2000-01-05</th>\n",
       "      <td>4</td>\n",
       "      <td>-1.656936</td>\n",
       "      <td>-1.321427</td>\n",
       "      <td>0.461674</td>\n",
       "      <td>4</td>\n",
       "    </tr>\n",
       "    <tr>\n",
       "      <th>2000-01-06</th>\n",
       "      <td>5</td>\n",
       "      <td>0.273647</td>\n",
       "      <td>-0.667375</td>\n",
       "      <td>-1.115575</td>\n",
       "      <td>5</td>\n",
       "    </tr>\n",
       "    <tr>\n",
       "      <th>2000-01-07</th>\n",
       "      <td>6</td>\n",
       "      <td>1.102945</td>\n",
       "      <td>0.792670</td>\n",
       "      <td>-1.166127</td>\n",
       "      <td>6</td>\n",
       "    </tr>\n",
       "    <tr>\n",
       "      <th>2000-01-08</th>\n",
       "      <td>7</td>\n",
       "      <td>-1.550657</td>\n",
       "      <td>-0.354937</td>\n",
       "      <td>0.527594</td>\n",
       "      <td>7</td>\n",
       "    </tr>\n",
       "  </tbody>\n",
       "</table>\n",
       "</div>"
      ],
      "text/plain": [
       "            A         B         C         D  E\n",
       "2000-01-01  0 -1.486817  0.376649  1.000296  0\n",
       "2000-01-02  1  0.756011  0.143238  0.129565  1\n",
       "2000-01-03  2 -1.673545  2.514546 -0.280378  2\n",
       "2000-01-04  3  0.345513 -0.484127 -0.063935  3\n",
       "2000-01-05  4 -1.656936 -1.321427  0.461674  4\n",
       "2000-01-06  5  0.273647 -0.667375 -1.115575  5\n",
       "2000-01-07  6  1.102945  0.792670 -1.166127  6\n",
       "2000-01-08  7 -1.550657 -0.354937  0.527594  7"
      ]
     },
     "execution_count": 95,
     "metadata": {},
     "output_type": "execute_result"
    }
   ],
   "source": [
    "dfa"
   ]
  },
  {
   "cell_type": "code",
   "execution_count": 96,
   "id": "1ccd41bf",
   "metadata": {
    "execution": {
     "iopub.execute_input": "2022-09-26T07:48:47.292029Z",
     "iopub.status.busy": "2022-09-26T07:48:47.291399Z",
     "iopub.status.idle": "2022-09-26T07:48:47.302744Z",
     "shell.execute_reply": "2022-09-26T07:48:47.301814Z"
    },
    "papermill": {
     "duration": 0.0673,
     "end_time": "2022-09-26T07:48:47.305322",
     "exception": false,
     "start_time": "2022-09-26T07:48:47.238022",
     "status": "completed"
    },
    "tags": []
   },
   "outputs": [
    {
     "data": {
      "text/html": [
       "<div>\n",
       "<style scoped>\n",
       "    .dataframe tbody tr th:only-of-type {\n",
       "        vertical-align: middle;\n",
       "    }\n",
       "\n",
       "    .dataframe tbody tr th {\n",
       "        vertical-align: top;\n",
       "    }\n",
       "\n",
       "    .dataframe thead th {\n",
       "        text-align: right;\n",
       "    }\n",
       "</style>\n",
       "<table border=\"1\" class=\"dataframe\">\n",
       "  <thead>\n",
       "    <tr style=\"text-align: right;\">\n",
       "      <th></th>\n",
       "      <th>A</th>\n",
       "      <th>B</th>\n",
       "      <th>C</th>\n",
       "      <th>D</th>\n",
       "      <th>E</th>\n",
       "    </tr>\n",
       "  </thead>\n",
       "  <tbody>\n",
       "    <tr>\n",
       "      <th>2000-01-04</th>\n",
       "      <td>3</td>\n",
       "      <td>0.345513</td>\n",
       "      <td>-0.484127</td>\n",
       "      <td>-0.063935</td>\n",
       "      <td>3</td>\n",
       "    </tr>\n",
       "    <tr>\n",
       "      <th>2000-01-05</th>\n",
       "      <td>4</td>\n",
       "      <td>-1.656936</td>\n",
       "      <td>-1.321427</td>\n",
       "      <td>0.461674</td>\n",
       "      <td>4</td>\n",
       "    </tr>\n",
       "    <tr>\n",
       "      <th>2000-01-06</th>\n",
       "      <td>5</td>\n",
       "      <td>0.273647</td>\n",
       "      <td>-0.667375</td>\n",
       "      <td>-1.115575</td>\n",
       "      <td>5</td>\n",
       "    </tr>\n",
       "    <tr>\n",
       "      <th>2000-01-07</th>\n",
       "      <td>6</td>\n",
       "      <td>1.102945</td>\n",
       "      <td>0.792670</td>\n",
       "      <td>-1.166127</td>\n",
       "      <td>6</td>\n",
       "    </tr>\n",
       "    <tr>\n",
       "      <th>2000-01-08</th>\n",
       "      <td>7</td>\n",
       "      <td>-1.550657</td>\n",
       "      <td>-0.354937</td>\n",
       "      <td>0.527594</td>\n",
       "      <td>7</td>\n",
       "    </tr>\n",
       "  </tbody>\n",
       "</table>\n",
       "</div>"
      ],
      "text/plain": [
       "            A         B         C         D  E\n",
       "2000-01-04  3  0.345513 -0.484127 -0.063935  3\n",
       "2000-01-05  4 -1.656936 -1.321427  0.461674  4\n",
       "2000-01-06  5  0.273647 -0.667375 -1.115575  5\n",
       "2000-01-07  6  1.102945  0.792670 -1.166127  6\n",
       "2000-01-08  7 -1.550657 -0.354937  0.527594  7"
      ]
     },
     "execution_count": 96,
     "metadata": {},
     "output_type": "execute_result"
    }
   ],
   "source": [
    "dfa[3:]   #From 3 To end of DataFrame"
   ]
  },
  {
   "cell_type": "code",
   "execution_count": 97,
   "id": "c34b5b81",
   "metadata": {
    "execution": {
     "iopub.execute_input": "2022-09-26T07:48:47.415161Z",
     "iopub.status.busy": "2022-09-26T07:48:47.414267Z",
     "iopub.status.idle": "2022-09-26T07:48:47.425744Z",
     "shell.execute_reply": "2022-09-26T07:48:47.424719Z"
    },
    "papermill": {
     "duration": 0.068963,
     "end_time": "2022-09-26T07:48:47.428315",
     "exception": false,
     "start_time": "2022-09-26T07:48:47.359352",
     "status": "completed"
    },
    "tags": []
   },
   "outputs": [
    {
     "data": {
      "text/html": [
       "<div>\n",
       "<style scoped>\n",
       "    .dataframe tbody tr th:only-of-type {\n",
       "        vertical-align: middle;\n",
       "    }\n",
       "\n",
       "    .dataframe tbody tr th {\n",
       "        vertical-align: top;\n",
       "    }\n",
       "\n",
       "    .dataframe thead th {\n",
       "        text-align: right;\n",
       "    }\n",
       "</style>\n",
       "<table border=\"1\" class=\"dataframe\">\n",
       "  <thead>\n",
       "    <tr style=\"text-align: right;\">\n",
       "      <th></th>\n",
       "      <th>A</th>\n",
       "      <th>B</th>\n",
       "      <th>C</th>\n",
       "      <th>D</th>\n",
       "      <th>E</th>\n",
       "    </tr>\n",
       "  </thead>\n",
       "  <tbody>\n",
       "    <tr>\n",
       "      <th>2000-01-01</th>\n",
       "      <td>0</td>\n",
       "      <td>-1.486817</td>\n",
       "      <td>0.376649</td>\n",
       "      <td>1.000296</td>\n",
       "      <td>0</td>\n",
       "    </tr>\n",
       "    <tr>\n",
       "      <th>2000-01-02</th>\n",
       "      <td>1</td>\n",
       "      <td>0.756011</td>\n",
       "      <td>0.143238</td>\n",
       "      <td>0.129565</td>\n",
       "      <td>1</td>\n",
       "    </tr>\n",
       "    <tr>\n",
       "      <th>2000-01-03</th>\n",
       "      <td>2</td>\n",
       "      <td>-1.673545</td>\n",
       "      <td>2.514546</td>\n",
       "      <td>-0.280378</td>\n",
       "      <td>2</td>\n",
       "    </tr>\n",
       "  </tbody>\n",
       "</table>\n",
       "</div>"
      ],
      "text/plain": [
       "            A         B         C         D  E\n",
       "2000-01-01  0 -1.486817  0.376649  1.000296  0\n",
       "2000-01-02  1  0.756011  0.143238  0.129565  1\n",
       "2000-01-03  2 -1.673545  2.514546 -0.280378  2"
      ]
     },
     "execution_count": 97,
     "metadata": {},
     "output_type": "execute_result"
    }
   ],
   "source": [
    "dfa[:3]    #Start to 3"
   ]
  },
  {
   "cell_type": "code",
   "execution_count": 98,
   "id": "3b550cb2",
   "metadata": {
    "execution": {
     "iopub.execute_input": "2022-09-26T07:48:47.535060Z",
     "iopub.status.busy": "2022-09-26T07:48:47.534728Z",
     "iopub.status.idle": "2022-09-26T07:48:47.546204Z",
     "shell.execute_reply": "2022-09-26T07:48:47.544840Z"
    },
    "papermill": {
     "duration": 0.066883,
     "end_time": "2022-09-26T07:48:47.548130",
     "exception": false,
     "start_time": "2022-09-26T07:48:47.481247",
     "status": "completed"
    },
    "tags": []
   },
   "outputs": [
    {
     "data": {
      "text/html": [
       "<div>\n",
       "<style scoped>\n",
       "    .dataframe tbody tr th:only-of-type {\n",
       "        vertical-align: middle;\n",
       "    }\n",
       "\n",
       "    .dataframe tbody tr th {\n",
       "        vertical-align: top;\n",
       "    }\n",
       "\n",
       "    .dataframe thead th {\n",
       "        text-align: right;\n",
       "    }\n",
       "</style>\n",
       "<table border=\"1\" class=\"dataframe\">\n",
       "  <thead>\n",
       "    <tr style=\"text-align: right;\">\n",
       "      <th></th>\n",
       "      <th>A</th>\n",
       "      <th>B</th>\n",
       "      <th>C</th>\n",
       "      <th>D</th>\n",
       "      <th>E</th>\n",
       "    </tr>\n",
       "  </thead>\n",
       "  <tbody>\n",
       "    <tr>\n",
       "      <th>2000-01-01</th>\n",
       "      <td>0</td>\n",
       "      <td>-1.486817</td>\n",
       "      <td>0.376649</td>\n",
       "      <td>1.000296</td>\n",
       "      <td>0</td>\n",
       "    </tr>\n",
       "    <tr>\n",
       "      <th>2000-01-03</th>\n",
       "      <td>2</td>\n",
       "      <td>-1.673545</td>\n",
       "      <td>2.514546</td>\n",
       "      <td>-0.280378</td>\n",
       "      <td>2</td>\n",
       "    </tr>\n",
       "    <tr>\n",
       "      <th>2000-01-05</th>\n",
       "      <td>4</td>\n",
       "      <td>-1.656936</td>\n",
       "      <td>-1.321427</td>\n",
       "      <td>0.461674</td>\n",
       "      <td>4</td>\n",
       "    </tr>\n",
       "    <tr>\n",
       "      <th>2000-01-07</th>\n",
       "      <td>6</td>\n",
       "      <td>1.102945</td>\n",
       "      <td>0.792670</td>\n",
       "      <td>-1.166127</td>\n",
       "      <td>6</td>\n",
       "    </tr>\n",
       "  </tbody>\n",
       "</table>\n",
       "</div>"
      ],
      "text/plain": [
       "            A         B         C         D  E\n",
       "2000-01-01  0 -1.486817  0.376649  1.000296  0\n",
       "2000-01-03  2 -1.673545  2.514546 -0.280378  2\n",
       "2000-01-05  4 -1.656936 -1.321427  0.461674  4\n",
       "2000-01-07  6  1.102945  0.792670 -1.166127  6"
      ]
     },
     "execution_count": 98,
     "metadata": {},
     "output_type": "execute_result"
    }
   ],
   "source": [
    "dfa[::2]     #steping value of 2"
   ]
  },
  {
   "cell_type": "code",
   "execution_count": 99,
   "id": "f59c0c7a",
   "metadata": {
    "execution": {
     "iopub.execute_input": "2022-09-26T07:48:47.658128Z",
     "iopub.status.busy": "2022-09-26T07:48:47.657787Z",
     "iopub.status.idle": "2022-09-26T07:48:47.672138Z",
     "shell.execute_reply": "2022-09-26T07:48:47.671311Z"
    },
    "papermill": {
     "duration": 0.071128,
     "end_time": "2022-09-26T07:48:47.674107",
     "exception": false,
     "start_time": "2022-09-26T07:48:47.602979",
     "status": "completed"
    },
    "tags": []
   },
   "outputs": [
    {
     "data": {
      "text/html": [
       "<div>\n",
       "<style scoped>\n",
       "    .dataframe tbody tr th:only-of-type {\n",
       "        vertical-align: middle;\n",
       "    }\n",
       "\n",
       "    .dataframe tbody tr th {\n",
       "        vertical-align: top;\n",
       "    }\n",
       "\n",
       "    .dataframe thead th {\n",
       "        text-align: right;\n",
       "    }\n",
       "</style>\n",
       "<table border=\"1\" class=\"dataframe\">\n",
       "  <thead>\n",
       "    <tr style=\"text-align: right;\">\n",
       "      <th></th>\n",
       "      <th>A</th>\n",
       "      <th>B</th>\n",
       "      <th>C</th>\n",
       "      <th>D</th>\n",
       "      <th>E</th>\n",
       "    </tr>\n",
       "  </thead>\n",
       "  <tbody>\n",
       "    <tr>\n",
       "      <th>2000-01-08</th>\n",
       "      <td>7</td>\n",
       "      <td>-1.550657</td>\n",
       "      <td>-0.354937</td>\n",
       "      <td>0.527594</td>\n",
       "      <td>7</td>\n",
       "    </tr>\n",
       "    <tr>\n",
       "      <th>2000-01-07</th>\n",
       "      <td>6</td>\n",
       "      <td>1.102945</td>\n",
       "      <td>0.792670</td>\n",
       "      <td>-1.166127</td>\n",
       "      <td>6</td>\n",
       "    </tr>\n",
       "    <tr>\n",
       "      <th>2000-01-06</th>\n",
       "      <td>5</td>\n",
       "      <td>0.273647</td>\n",
       "      <td>-0.667375</td>\n",
       "      <td>-1.115575</td>\n",
       "      <td>5</td>\n",
       "    </tr>\n",
       "    <tr>\n",
       "      <th>2000-01-05</th>\n",
       "      <td>4</td>\n",
       "      <td>-1.656936</td>\n",
       "      <td>-1.321427</td>\n",
       "      <td>0.461674</td>\n",
       "      <td>4</td>\n",
       "    </tr>\n",
       "    <tr>\n",
       "      <th>2000-01-04</th>\n",
       "      <td>3</td>\n",
       "      <td>0.345513</td>\n",
       "      <td>-0.484127</td>\n",
       "      <td>-0.063935</td>\n",
       "      <td>3</td>\n",
       "    </tr>\n",
       "    <tr>\n",
       "      <th>2000-01-03</th>\n",
       "      <td>2</td>\n",
       "      <td>-1.673545</td>\n",
       "      <td>2.514546</td>\n",
       "      <td>-0.280378</td>\n",
       "      <td>2</td>\n",
       "    </tr>\n",
       "    <tr>\n",
       "      <th>2000-01-02</th>\n",
       "      <td>1</td>\n",
       "      <td>0.756011</td>\n",
       "      <td>0.143238</td>\n",
       "      <td>0.129565</td>\n",
       "      <td>1</td>\n",
       "    </tr>\n",
       "    <tr>\n",
       "      <th>2000-01-01</th>\n",
       "      <td>0</td>\n",
       "      <td>-1.486817</td>\n",
       "      <td>0.376649</td>\n",
       "      <td>1.000296</td>\n",
       "      <td>0</td>\n",
       "    </tr>\n",
       "  </tbody>\n",
       "</table>\n",
       "</div>"
      ],
      "text/plain": [
       "            A         B         C         D  E\n",
       "2000-01-08  7 -1.550657 -0.354937  0.527594  7\n",
       "2000-01-07  6  1.102945  0.792670 -1.166127  6\n",
       "2000-01-06  5  0.273647 -0.667375 -1.115575  5\n",
       "2000-01-05  4 -1.656936 -1.321427  0.461674  4\n",
       "2000-01-04  3  0.345513 -0.484127 -0.063935  3\n",
       "2000-01-03  2 -1.673545  2.514546 -0.280378  2\n",
       "2000-01-02  1  0.756011  0.143238  0.129565  1\n",
       "2000-01-01  0 -1.486817  0.376649  1.000296  0"
      ]
     },
     "execution_count": 99,
     "metadata": {},
     "output_type": "execute_result"
    }
   ],
   "source": [
    "dfa[::-1]   #reverse of DataFrame"
   ]
  },
  {
   "cell_type": "code",
   "execution_count": 100,
   "id": "bbe74384",
   "metadata": {
    "execution": {
     "iopub.execute_input": "2022-09-26T07:48:47.781849Z",
     "iopub.status.busy": "2022-09-26T07:48:47.781510Z",
     "iopub.status.idle": "2022-09-26T07:48:47.795617Z",
     "shell.execute_reply": "2022-09-26T07:48:47.794542Z"
    },
    "papermill": {
     "duration": 0.070601,
     "end_time": "2022-09-26T07:48:47.798103",
     "exception": false,
     "start_time": "2022-09-26T07:48:47.727502",
     "status": "completed"
    },
    "tags": []
   },
   "outputs": [
    {
     "data": {
      "text/html": [
       "<div>\n",
       "<style scoped>\n",
       "    .dataframe tbody tr th:only-of-type {\n",
       "        vertical-align: middle;\n",
       "    }\n",
       "\n",
       "    .dataframe tbody tr th {\n",
       "        vertical-align: top;\n",
       "    }\n",
       "\n",
       "    .dataframe thead th {\n",
       "        text-align: right;\n",
       "    }\n",
       "</style>\n",
       "<table border=\"1\" class=\"dataframe\">\n",
       "  <thead>\n",
       "    <tr style=\"text-align: right;\">\n",
       "      <th></th>\n",
       "      <th>A</th>\n",
       "      <th>B</th>\n",
       "      <th>C</th>\n",
       "      <th>D</th>\n",
       "      <th>E</th>\n",
       "    </tr>\n",
       "  </thead>\n",
       "  <tbody>\n",
       "    <tr>\n",
       "      <th>2000-01-01</th>\n",
       "      <td>0</td>\n",
       "      <td>0.000000</td>\n",
       "      <td>0.000000</td>\n",
       "      <td>0.000000</td>\n",
       "      <td>0</td>\n",
       "    </tr>\n",
       "    <tr>\n",
       "      <th>2000-01-02</th>\n",
       "      <td>0</td>\n",
       "      <td>0.000000</td>\n",
       "      <td>0.000000</td>\n",
       "      <td>0.000000</td>\n",
       "      <td>0</td>\n",
       "    </tr>\n",
       "    <tr>\n",
       "      <th>2000-01-03</th>\n",
       "      <td>0</td>\n",
       "      <td>0.000000</td>\n",
       "      <td>0.000000</td>\n",
       "      <td>0.000000</td>\n",
       "      <td>0</td>\n",
       "    </tr>\n",
       "    <tr>\n",
       "      <th>2000-01-04</th>\n",
       "      <td>0</td>\n",
       "      <td>0.000000</td>\n",
       "      <td>0.000000</td>\n",
       "      <td>0.000000</td>\n",
       "      <td>0</td>\n",
       "    </tr>\n",
       "    <tr>\n",
       "      <th>2000-01-05</th>\n",
       "      <td>0</td>\n",
       "      <td>0.000000</td>\n",
       "      <td>0.000000</td>\n",
       "      <td>0.000000</td>\n",
       "      <td>0</td>\n",
       "    </tr>\n",
       "    <tr>\n",
       "      <th>2000-01-06</th>\n",
       "      <td>5</td>\n",
       "      <td>0.273647</td>\n",
       "      <td>-0.667375</td>\n",
       "      <td>-1.115575</td>\n",
       "      <td>5</td>\n",
       "    </tr>\n",
       "    <tr>\n",
       "      <th>2000-01-07</th>\n",
       "      <td>6</td>\n",
       "      <td>1.102945</td>\n",
       "      <td>0.792670</td>\n",
       "      <td>-1.166127</td>\n",
       "      <td>6</td>\n",
       "    </tr>\n",
       "    <tr>\n",
       "      <th>2000-01-08</th>\n",
       "      <td>7</td>\n",
       "      <td>-1.550657</td>\n",
       "      <td>-0.354937</td>\n",
       "      <td>0.527594</td>\n",
       "      <td>7</td>\n",
       "    </tr>\n",
       "  </tbody>\n",
       "</table>\n",
       "</div>"
      ],
      "text/plain": [
       "            A         B         C         D  E\n",
       "2000-01-01  0  0.000000  0.000000  0.000000  0\n",
       "2000-01-02  0  0.000000  0.000000  0.000000  0\n",
       "2000-01-03  0  0.000000  0.000000  0.000000  0\n",
       "2000-01-04  0  0.000000  0.000000  0.000000  0\n",
       "2000-01-05  0  0.000000  0.000000  0.000000  0\n",
       "2000-01-06  5  0.273647 -0.667375 -1.115575  5\n",
       "2000-01-07  6  1.102945  0.792670 -1.166127  6\n",
       "2000-01-08  7 -1.550657 -0.354937  0.527594  7"
      ]
     },
     "execution_count": 100,
     "metadata": {},
     "output_type": "execute_result"
    }
   ],
   "source": [
    "dfC=dfa.copy()           #Making Copying of DataFrame dfa\n",
    "dfC[:5]=0            #it will assign all value to 0 from (0,5)\n",
    "dfC"
   ]
  },
  {
   "cell_type": "markdown",
   "id": "6b8ab407",
   "metadata": {
    "papermill": {
     "duration": 0.053849,
     "end_time": "2022-09-26T07:48:47.906232",
     "exception": false,
     "start_time": "2022-09-26T07:48:47.852383",
     "status": "completed"
    },
    "tags": []
   },
   "source": [
    "## Indexing and selecting data In DataFrame | Selection by label\n",
    "> ## ⚠️Warning\n",
    "> - Whether a copy or a reference is returned for a setting operation, may depend on the context. This is sometimes called chained assignment and should be avoided. \n",
    "\n",
    "> - See Returning a View versus Copy.\n",
    "https://pandas.pydata.org/docs/user_guide/indexing.html#indexing-view-versus-copy"
   ]
  },
  {
   "cell_type": "markdown",
   "id": "532f4a9b",
   "metadata": {
    "papermill": {
     "duration": 0.053961,
     "end_time": "2022-09-26T07:48:48.013633",
     "exception": false,
     "start_time": "2022-09-26T07:48:47.959672",
     "status": "completed"
    },
    "tags": []
   },
   "source": [
    "> ## ⚠️Warning\n",
    "> - .loc is strict when you present slicers that are not compatible (or convertible) with the index type. For example using integers in a DatetimeIndex. These will raise a TypeError."
   ]
  },
  {
   "cell_type": "code",
   "execution_count": 101,
   "id": "e9360ba0",
   "metadata": {
    "execution": {
     "iopub.execute_input": "2022-09-26T07:48:48.123329Z",
     "iopub.status.busy": "2022-09-26T07:48:48.122388Z",
     "iopub.status.idle": "2022-09-26T07:48:48.136504Z",
     "shell.execute_reply": "2022-09-26T07:48:48.135461Z"
    },
    "papermill": {
     "duration": 0.070955,
     "end_time": "2022-09-26T07:48:48.138757",
     "exception": false,
     "start_time": "2022-09-26T07:48:48.067802",
     "status": "completed"
    },
    "tags": []
   },
   "outputs": [
    {
     "data": {
      "text/html": [
       "<div>\n",
       "<style scoped>\n",
       "    .dataframe tbody tr th:only-of-type {\n",
       "        vertical-align: middle;\n",
       "    }\n",
       "\n",
       "    .dataframe tbody tr th {\n",
       "        vertical-align: top;\n",
       "    }\n",
       "\n",
       "    .dataframe thead th {\n",
       "        text-align: right;\n",
       "    }\n",
       "</style>\n",
       "<table border=\"1\" class=\"dataframe\">\n",
       "  <thead>\n",
       "    <tr style=\"text-align: right;\">\n",
       "      <th></th>\n",
       "      <th>A</th>\n",
       "      <th>B</th>\n",
       "      <th>C</th>\n",
       "      <th>D</th>\n",
       "    </tr>\n",
       "  </thead>\n",
       "  <tbody>\n",
       "    <tr>\n",
       "      <th>2013-01-01</th>\n",
       "      <td>-1.851204</td>\n",
       "      <td>0.140869</td>\n",
       "      <td>-1.899081</td>\n",
       "      <td>0.465035</td>\n",
       "    </tr>\n",
       "    <tr>\n",
       "      <th>2013-01-02</th>\n",
       "      <td>1.278574</td>\n",
       "      <td>1.145146</td>\n",
       "      <td>1.481253</td>\n",
       "      <td>0.330378</td>\n",
       "    </tr>\n",
       "    <tr>\n",
       "      <th>2013-01-03</th>\n",
       "      <td>0.916178</td>\n",
       "      <td>-0.011259</td>\n",
       "      <td>-1.427838</td>\n",
       "      <td>-0.051313</td>\n",
       "    </tr>\n",
       "    <tr>\n",
       "      <th>2013-01-04</th>\n",
       "      <td>-0.010557</td>\n",
       "      <td>0.893354</td>\n",
       "      <td>-0.435415</td>\n",
       "      <td>-0.526084</td>\n",
       "    </tr>\n",
       "    <tr>\n",
       "      <th>2013-01-05</th>\n",
       "      <td>-0.584155</td>\n",
       "      <td>-0.301481</td>\n",
       "      <td>1.047148</td>\n",
       "      <td>0.365651</td>\n",
       "    </tr>\n",
       "  </tbody>\n",
       "</table>\n",
       "</div>"
      ],
      "text/plain": [
       "                   A         B         C         D\n",
       "2013-01-01 -1.851204  0.140869 -1.899081  0.465035\n",
       "2013-01-02  1.278574  1.145146  1.481253  0.330378\n",
       "2013-01-03  0.916178 -0.011259 -1.427838 -0.051313\n",
       "2013-01-04 -0.010557  0.893354 -0.435415 -0.526084\n",
       "2013-01-05 -0.584155 -0.301481  1.047148  0.365651"
      ]
     },
     "execution_count": 101,
     "metadata": {},
     "output_type": "execute_result"
    }
   ],
   "source": [
    "                     #giving 2-D array\n",
    "    \n",
    "dfl = pd.DataFrame(np.random.randn(5, 4),       \n",
    "                   columns=list('ABCD'),\n",
    "                   index=pd.date_range('20130101', periods=5))\n",
    "dfl"
   ]
  },
  {
   "cell_type": "markdown",
   "id": "74528dab",
   "metadata": {
    "execution": {
     "iopub.execute_input": "2022-09-25T05:24:56.677947Z",
     "iopub.status.busy": "2022-09-25T05:24:56.677417Z",
     "iopub.status.idle": "2022-09-25T05:24:56.766054Z",
     "shell.execute_reply": "2022-09-25T05:24:56.764202Z",
     "shell.execute_reply.started": "2022-09-25T05:24:56.677905Z"
    },
    "papermill": {
     "duration": 0.053831,
     "end_time": "2022-09-26T07:48:48.247237",
     "exception": false,
     "start_time": "2022-09-26T07:48:48.193406",
     "status": "completed"
    },
    "tags": []
   },
   "source": [
    "``` python\n",
    "dfl.loc[2:3]\n",
    "\n",
    "---------------------------------------------------------------------------\n",
    "TypeError                                 Traceback (most recent call last)\n",
    "/tmp/ipykernel_17/564008759.py in <module>\n",
    "----> 1 dfl.loc[2:3]\n",
    "\n",
    "\"all other error removed\"\n",
    "\n",
    "TypeError: cannot do slice indexing on DatetimeIndex with these indexers [2] of type int\n",
    "\n",
    "```"
   ]
  },
  {
   "cell_type": "code",
   "execution_count": 102,
   "id": "54def00b",
   "metadata": {
    "execution": {
     "iopub.execute_input": "2022-09-26T07:48:48.356354Z",
     "iopub.status.busy": "2022-09-26T07:48:48.355992Z",
     "iopub.status.idle": "2022-09-26T07:48:48.372229Z",
     "shell.execute_reply": "2022-09-26T07:48:48.371373Z"
    },
    "papermill": {
     "duration": 0.073248,
     "end_time": "2022-09-26T07:48:48.374573",
     "exception": false,
     "start_time": "2022-09-26T07:48:48.301325",
     "status": "completed"
    },
    "tags": []
   },
   "outputs": [
    {
     "data": {
      "text/html": [
       "<div>\n",
       "<style scoped>\n",
       "    .dataframe tbody tr th:only-of-type {\n",
       "        vertical-align: middle;\n",
       "    }\n",
       "\n",
       "    .dataframe tbody tr th {\n",
       "        vertical-align: top;\n",
       "    }\n",
       "\n",
       "    .dataframe thead th {\n",
       "        text-align: right;\n",
       "    }\n",
       "</style>\n",
       "<table border=\"1\" class=\"dataframe\">\n",
       "  <thead>\n",
       "    <tr style=\"text-align: right;\">\n",
       "      <th></th>\n",
       "      <th>A</th>\n",
       "      <th>B</th>\n",
       "      <th>C</th>\n",
       "      <th>D</th>\n",
       "    </tr>\n",
       "  </thead>\n",
       "  <tbody>\n",
       "    <tr>\n",
       "      <th>2013-01-02</th>\n",
       "      <td>1.278574</td>\n",
       "      <td>1.145146</td>\n",
       "      <td>1.481253</td>\n",
       "      <td>0.330378</td>\n",
       "    </tr>\n",
       "    <tr>\n",
       "      <th>2013-01-03</th>\n",
       "      <td>0.916178</td>\n",
       "      <td>-0.011259</td>\n",
       "      <td>-1.427838</td>\n",
       "      <td>-0.051313</td>\n",
       "    </tr>\n",
       "    <tr>\n",
       "      <th>2013-01-04</th>\n",
       "      <td>-0.010557</td>\n",
       "      <td>0.893354</td>\n",
       "      <td>-0.435415</td>\n",
       "      <td>-0.526084</td>\n",
       "    </tr>\n",
       "  </tbody>\n",
       "</table>\n",
       "</div>"
      ],
      "text/plain": [
       "                   A         B         C         D\n",
       "2013-01-02  1.278574  1.145146  1.481253  0.330378\n",
       "2013-01-03  0.916178 -0.011259 -1.427838 -0.051313\n",
       "2013-01-04 -0.010557  0.893354 -0.435415 -0.526084"
      ]
     },
     "execution_count": 102,
     "metadata": {},
     "output_type": "execute_result"
    }
   ],
   "source": [
    "dfl.loc['20130102':'20130104']      #right indexing for DateTime indeixng data "
   ]
  },
  {
   "cell_type": "markdown",
   "id": "e7a9af4d",
   "metadata": {
    "papermill": {
     "duration": 0.053032,
     "end_time": "2022-09-26T07:48:48.482309",
     "exception": false,
     "start_time": "2022-09-26T07:48:48.429277",
     "status": "completed"
    },
    "tags": []
   },
   "source": [
    "- pandas provides a suite of methods in order to have **purely label based indexing.** This is a strict inclusion based protocol. Every label asked for must be in the index, or a **KeyError** will be raised. When slicing, both the start bound **AND** the stop bound are included, if present in the index. Integers are valid labels, but they refer to the label **and not the position.**\n",
    "\n",
    "- The .loc attribute is the primary access method. The following are valid inputs:\n",
    "\n",
    "    - A single label, e.g. 5 or 'a' (Note that 5 is interpreted as a label of the index. This use is not an integer position along the index.).\n",
    "    - A list or array of labels ['a', 'b', 'c'].\n",
    "    - A slice object with labels 'a':'f' (Note that contrary to usual Python slices, **both** the start and the stop are included, when present in the index! See Slicing with labels.\n",
    "    - A boolean array.\n",
    "    - A **callable**, see Selection By Callable."
   ]
  },
  {
   "cell_type": "code",
   "execution_count": 103,
   "id": "c81ea2e1",
   "metadata": {
    "execution": {
     "iopub.execute_input": "2022-09-26T07:48:48.592324Z",
     "iopub.status.busy": "2022-09-26T07:48:48.591447Z",
     "iopub.status.idle": "2022-09-26T07:48:48.599417Z",
     "shell.execute_reply": "2022-09-26T07:48:48.598535Z"
    },
    "papermill": {
     "duration": 0.065518,
     "end_time": "2022-09-26T07:48:48.601383",
     "exception": false,
     "start_time": "2022-09-26T07:48:48.535865",
     "status": "completed"
    },
    "tags": []
   },
   "outputs": [
    {
     "data": {
      "text/plain": [
       "a   -0.786503\n",
       "b    1.497313\n",
       "c    0.576915\n",
       "d    0.019602\n",
       "e    0.848288\n",
       "f   -0.295244\n",
       "dtype: float64"
      ]
     },
     "execution_count": 103,
     "metadata": {},
     "output_type": "execute_result"
    }
   ],
   "source": [
    "s1 = pd.Series(np.random.randn(6), index=list('abcdef')) #creating Series s1\n",
    "s1              #printing s1"
   ]
  },
  {
   "cell_type": "code",
   "execution_count": 104,
   "id": "32b88d85",
   "metadata": {
    "execution": {
     "iopub.execute_input": "2022-09-26T07:48:48.712907Z",
     "iopub.status.busy": "2022-09-26T07:48:48.711893Z",
     "iopub.status.idle": "2022-09-26T07:48:48.719722Z",
     "shell.execute_reply": "2022-09-26T07:48:48.718728Z"
    },
    "papermill": {
     "duration": 0.066142,
     "end_time": "2022-09-26T07:48:48.721868",
     "exception": false,
     "start_time": "2022-09-26T07:48:48.655726",
     "status": "completed"
    },
    "tags": []
   },
   "outputs": [
    {
     "data": {
      "text/plain": [
       "d    0.019602\n",
       "e    0.848288\n",
       "f   -0.295244\n",
       "dtype: float64"
      ]
     },
     "execution_count": 104,
     "metadata": {},
     "output_type": "execute_result"
    }
   ],
   "source": [
    "s1[3:]        #By indexing "
   ]
  },
  {
   "cell_type": "code",
   "execution_count": 105,
   "id": "e18bbb98",
   "metadata": {
    "execution": {
     "iopub.execute_input": "2022-09-26T07:48:48.830801Z",
     "iopub.status.busy": "2022-09-26T07:48:48.830434Z",
     "iopub.status.idle": "2022-09-26T07:48:48.837929Z",
     "shell.execute_reply": "2022-09-26T07:48:48.837036Z"
    },
    "papermill": {
     "duration": 0.06399,
     "end_time": "2022-09-26T07:48:48.839885",
     "exception": false,
     "start_time": "2022-09-26T07:48:48.775895",
     "status": "completed"
    },
    "tags": []
   },
   "outputs": [
    {
     "data": {
      "text/plain": [
       "c    0.576915\n",
       "d    0.019602\n",
       "e    0.848288\n",
       "f   -0.295244\n",
       "dtype: float64"
      ]
     },
     "execution_count": 105,
     "metadata": {},
     "output_type": "execute_result"
    }
   ],
   "source": [
    "s1[\"c\":]      #by indexing label "
   ]
  },
  {
   "cell_type": "code",
   "execution_count": 106,
   "id": "48097605",
   "metadata": {
    "execution": {
     "iopub.execute_input": "2022-09-26T07:48:48.950700Z",
     "iopub.status.busy": "2022-09-26T07:48:48.949771Z",
     "iopub.status.idle": "2022-09-26T07:48:48.957604Z",
     "shell.execute_reply": "2022-09-26T07:48:48.956612Z"
    },
    "papermill": {
     "duration": 0.065282,
     "end_time": "2022-09-26T07:48:48.959610",
     "exception": false,
     "start_time": "2022-09-26T07:48:48.894328",
     "status": "completed"
    },
    "tags": []
   },
   "outputs": [
    {
     "data": {
      "text/plain": [
       "c    0.576915\n",
       "d    0.019602\n",
       "e    0.848288\n",
       "f   -0.295244\n",
       "dtype: float64"
      ]
     },
     "execution_count": 106,
     "metadata": {},
     "output_type": "execute_result"
    }
   ],
   "source": [
    "s1.loc['c':]      #asscessing by label "
   ]
  },
  {
   "cell_type": "code",
   "execution_count": 107,
   "id": "a3559afe",
   "metadata": {
    "execution": {
     "iopub.execute_input": "2022-09-26T07:48:49.070755Z",
     "iopub.status.busy": "2022-09-26T07:48:49.069230Z",
     "iopub.status.idle": "2022-09-26T07:48:49.077387Z",
     "shell.execute_reply": "2022-09-26T07:48:49.076367Z"
    },
    "papermill": {
     "duration": 0.065696,
     "end_time": "2022-09-26T07:48:49.079424",
     "exception": false,
     "start_time": "2022-09-26T07:48:49.013728",
     "status": "completed"
    },
    "tags": []
   },
   "outputs": [
    {
     "data": {
      "text/plain": [
       "a   -0.786503\n",
       "b    1.497313\n",
       "c    0.000000\n",
       "d    0.000000\n",
       "e    0.000000\n",
       "f    0.000000\n",
       "dtype: float64"
      ]
     },
     "execution_count": 107,
     "metadata": {},
     "output_type": "execute_result"
    }
   ],
   "source": [
    "s1.loc['c':] = 0    #Assinging value to Series\n",
    "s1"
   ]
  },
  {
   "cell_type": "markdown",
   "id": "3bb2181a",
   "metadata": {
    "papermill": {
     "duration": 0.054758,
     "end_time": "2022-09-26T07:48:49.189077",
     "exception": false,
     "start_time": "2022-09-26T07:48:49.134319",
     "status": "completed"
    },
    "tags": []
   },
   "source": [
    "**With DataFrame**"
   ]
  },
  {
   "cell_type": "code",
   "execution_count": 108,
   "id": "2f93bbe6",
   "metadata": {
    "execution": {
     "iopub.execute_input": "2022-09-26T07:48:49.302277Z",
     "iopub.status.busy": "2022-09-26T07:48:49.301338Z",
     "iopub.status.idle": "2022-09-26T07:48:49.314009Z",
     "shell.execute_reply": "2022-09-26T07:48:49.313063Z"
    },
    "papermill": {
     "duration": 0.070751,
     "end_time": "2022-09-26T07:48:49.316057",
     "exception": false,
     "start_time": "2022-09-26T07:48:49.245306",
     "status": "completed"
    },
    "tags": []
   },
   "outputs": [
    {
     "data": {
      "text/html": [
       "<div>\n",
       "<style scoped>\n",
       "    .dataframe tbody tr th:only-of-type {\n",
       "        vertical-align: middle;\n",
       "    }\n",
       "\n",
       "    .dataframe tbody tr th {\n",
       "        vertical-align: top;\n",
       "    }\n",
       "\n",
       "    .dataframe thead th {\n",
       "        text-align: right;\n",
       "    }\n",
       "</style>\n",
       "<table border=\"1\" class=\"dataframe\">\n",
       "  <thead>\n",
       "    <tr style=\"text-align: right;\">\n",
       "      <th></th>\n",
       "      <th>A</th>\n",
       "      <th>B</th>\n",
       "      <th>C</th>\n",
       "      <th>D</th>\n",
       "    </tr>\n",
       "  </thead>\n",
       "  <tbody>\n",
       "    <tr>\n",
       "      <th>a</th>\n",
       "      <td>0.254972</td>\n",
       "      <td>0.991546</td>\n",
       "      <td>-0.819333</td>\n",
       "      <td>0.942125</td>\n",
       "    </tr>\n",
       "    <tr>\n",
       "      <th>b</th>\n",
       "      <td>1.456457</td>\n",
       "      <td>1.140200</td>\n",
       "      <td>0.224361</td>\n",
       "      <td>-1.358862</td>\n",
       "    </tr>\n",
       "    <tr>\n",
       "      <th>c</th>\n",
       "      <td>-1.100017</td>\n",
       "      <td>0.347299</td>\n",
       "      <td>2.941919</td>\n",
       "      <td>-0.344148</td>\n",
       "    </tr>\n",
       "    <tr>\n",
       "      <th>d</th>\n",
       "      <td>0.642007</td>\n",
       "      <td>-0.459259</td>\n",
       "      <td>-0.164240</td>\n",
       "      <td>0.719303</td>\n",
       "    </tr>\n",
       "    <tr>\n",
       "      <th>e</th>\n",
       "      <td>0.253105</td>\n",
       "      <td>-0.474339</td>\n",
       "      <td>-0.772965</td>\n",
       "      <td>0.746752</td>\n",
       "    </tr>\n",
       "    <tr>\n",
       "      <th>f</th>\n",
       "      <td>0.272458</td>\n",
       "      <td>-0.078619</td>\n",
       "      <td>0.098659</td>\n",
       "      <td>-0.441533</td>\n",
       "    </tr>\n",
       "  </tbody>\n",
       "</table>\n",
       "</div>"
      ],
      "text/plain": [
       "          A         B         C         D\n",
       "a  0.254972  0.991546 -0.819333  0.942125\n",
       "b  1.456457  1.140200  0.224361 -1.358862\n",
       "c -1.100017  0.347299  2.941919 -0.344148\n",
       "d  0.642007 -0.459259 -0.164240  0.719303\n",
       "e  0.253105 -0.474339 -0.772965  0.746752\n",
       "f  0.272458 -0.078619  0.098659 -0.441533"
      ]
     },
     "execution_count": 108,
     "metadata": {},
     "output_type": "execute_result"
    }
   ],
   "source": [
    "df1 = pd.DataFrame(np.random.randn(6, 4),\n",
    "                   index=list('abcdef'),\n",
    "                   columns=list('ABCD'))\n",
    "df1"
   ]
  },
  {
   "cell_type": "code",
   "execution_count": 109,
   "id": "4ed61a56",
   "metadata": {
    "execution": {
     "iopub.execute_input": "2022-09-26T07:48:49.429893Z",
     "iopub.status.busy": "2022-09-26T07:48:49.428143Z",
     "iopub.status.idle": "2022-09-26T07:48:49.440137Z",
     "shell.execute_reply": "2022-09-26T07:48:49.439000Z"
    },
    "papermill": {
     "duration": 0.070595,
     "end_time": "2022-09-26T07:48:49.442316",
     "exception": false,
     "start_time": "2022-09-26T07:48:49.371721",
     "status": "completed"
    },
    "tags": []
   },
   "outputs": [
    {
     "data": {
      "text/html": [
       "<div>\n",
       "<style scoped>\n",
       "    .dataframe tbody tr th:only-of-type {\n",
       "        vertical-align: middle;\n",
       "    }\n",
       "\n",
       "    .dataframe tbody tr th {\n",
       "        vertical-align: top;\n",
       "    }\n",
       "\n",
       "    .dataframe thead th {\n",
       "        text-align: right;\n",
       "    }\n",
       "</style>\n",
       "<table border=\"1\" class=\"dataframe\">\n",
       "  <thead>\n",
       "    <tr style=\"text-align: right;\">\n",
       "      <th></th>\n",
       "      <th>A</th>\n",
       "      <th>B</th>\n",
       "      <th>C</th>\n",
       "      <th>D</th>\n",
       "    </tr>\n",
       "  </thead>\n",
       "  <tbody>\n",
       "    <tr>\n",
       "      <th>d</th>\n",
       "      <td>0.642007</td>\n",
       "      <td>-0.459259</td>\n",
       "      <td>-0.164240</td>\n",
       "      <td>0.719303</td>\n",
       "    </tr>\n",
       "    <tr>\n",
       "      <th>e</th>\n",
       "      <td>0.253105</td>\n",
       "      <td>-0.474339</td>\n",
       "      <td>-0.772965</td>\n",
       "      <td>0.746752</td>\n",
       "    </tr>\n",
       "    <tr>\n",
       "      <th>f</th>\n",
       "      <td>0.272458</td>\n",
       "      <td>-0.078619</td>\n",
       "      <td>0.098659</td>\n",
       "      <td>-0.441533</td>\n",
       "    </tr>\n",
       "  </tbody>\n",
       "</table>\n",
       "</div>"
      ],
      "text/plain": [
       "          A         B         C         D\n",
       "d  0.642007 -0.459259 -0.164240  0.719303\n",
       "e  0.253105 -0.474339 -0.772965  0.746752\n",
       "f  0.272458 -0.078619  0.098659 -0.441533"
      ]
     },
     "execution_count": 109,
     "metadata": {},
     "output_type": "execute_result"
    }
   ],
   "source": [
    "df1[3:]"
   ]
  },
  {
   "cell_type": "code",
   "execution_count": 110,
   "id": "4c2ffef1",
   "metadata": {
    "execution": {
     "iopub.execute_input": "2022-09-26T07:48:49.556940Z",
     "iopub.status.busy": "2022-09-26T07:48:49.555240Z",
     "iopub.status.idle": "2022-09-26T07:48:49.567166Z",
     "shell.execute_reply": "2022-09-26T07:48:49.566196Z"
    },
    "papermill": {
     "duration": 0.070816,
     "end_time": "2022-09-26T07:48:49.569096",
     "exception": false,
     "start_time": "2022-09-26T07:48:49.498280",
     "status": "completed"
    },
    "tags": []
   },
   "outputs": [
    {
     "data": {
      "text/html": [
       "<div>\n",
       "<style scoped>\n",
       "    .dataframe tbody tr th:only-of-type {\n",
       "        vertical-align: middle;\n",
       "    }\n",
       "\n",
       "    .dataframe tbody tr th {\n",
       "        vertical-align: top;\n",
       "    }\n",
       "\n",
       "    .dataframe thead th {\n",
       "        text-align: right;\n",
       "    }\n",
       "</style>\n",
       "<table border=\"1\" class=\"dataframe\">\n",
       "  <thead>\n",
       "    <tr style=\"text-align: right;\">\n",
       "      <th></th>\n",
       "      <th>A</th>\n",
       "      <th>B</th>\n",
       "      <th>C</th>\n",
       "      <th>D</th>\n",
       "    </tr>\n",
       "  </thead>\n",
       "  <tbody>\n",
       "    <tr>\n",
       "      <th>c</th>\n",
       "      <td>-1.100017</td>\n",
       "      <td>0.347299</td>\n",
       "      <td>2.941919</td>\n",
       "      <td>-0.344148</td>\n",
       "    </tr>\n",
       "    <tr>\n",
       "      <th>d</th>\n",
       "      <td>0.642007</td>\n",
       "      <td>-0.459259</td>\n",
       "      <td>-0.164240</td>\n",
       "      <td>0.719303</td>\n",
       "    </tr>\n",
       "    <tr>\n",
       "      <th>e</th>\n",
       "      <td>0.253105</td>\n",
       "      <td>-0.474339</td>\n",
       "      <td>-0.772965</td>\n",
       "      <td>0.746752</td>\n",
       "    </tr>\n",
       "    <tr>\n",
       "      <th>f</th>\n",
       "      <td>0.272458</td>\n",
       "      <td>-0.078619</td>\n",
       "      <td>0.098659</td>\n",
       "      <td>-0.441533</td>\n",
       "    </tr>\n",
       "  </tbody>\n",
       "</table>\n",
       "</div>"
      ],
      "text/plain": [
       "          A         B         C         D\n",
       "c -1.100017  0.347299  2.941919 -0.344148\n",
       "d  0.642007 -0.459259 -0.164240  0.719303\n",
       "e  0.253105 -0.474339 -0.772965  0.746752\n",
       "f  0.272458 -0.078619  0.098659 -0.441533"
      ]
     },
     "execution_count": 110,
     "metadata": {},
     "output_type": "execute_result"
    }
   ],
   "source": [
    "df1[\"c\":]"
   ]
  },
  {
   "cell_type": "code",
   "execution_count": 111,
   "id": "8e8e930f",
   "metadata": {
    "execution": {
     "iopub.execute_input": "2022-09-26T07:48:49.681403Z",
     "iopub.status.busy": "2022-09-26T07:48:49.680572Z",
     "iopub.status.idle": "2022-09-26T07:48:49.687826Z",
     "shell.execute_reply": "2022-09-26T07:48:49.686920Z"
    },
    "papermill": {
     "duration": 0.065058,
     "end_time": "2022-09-26T07:48:49.689807",
     "exception": false,
     "start_time": "2022-09-26T07:48:49.624749",
     "status": "completed"
    },
    "tags": []
   },
   "outputs": [
    {
     "data": {
      "text/plain": [
       "A    0.254972\n",
       "B    0.991546\n",
       "C   -0.819333\n",
       "D    0.942125\n",
       "Name: a, dtype: float64"
      ]
     },
     "execution_count": 111,
     "metadata": {},
     "output_type": "execute_result"
    }
   ],
   "source": [
    "df1.loc[\"a\"] #value of column a only #For getting a cross section using a label (equivalent to df.xs('a')):"
   ]
  },
  {
   "cell_type": "code",
   "execution_count": 112,
   "id": "cd36eb85",
   "metadata": {
    "execution": {
     "iopub.execute_input": "2022-09-26T07:48:49.805347Z",
     "iopub.status.busy": "2022-09-26T07:48:49.804336Z",
     "iopub.status.idle": "2022-09-26T07:48:49.812258Z",
     "shell.execute_reply": "2022-09-26T07:48:49.811336Z"
    },
    "papermill": {
     "duration": 0.066745,
     "end_time": "2022-09-26T07:48:49.814199",
     "exception": false,
     "start_time": "2022-09-26T07:48:49.747454",
     "status": "completed"
    },
    "tags": []
   },
   "outputs": [
    {
     "data": {
      "text/plain": [
       "A    0.254972\n",
       "B    0.991546\n",
       "C   -0.819333\n",
       "D    0.942125\n",
       "Name: a, dtype: float64"
      ]
     },
     "execution_count": 112,
     "metadata": {},
     "output_type": "execute_result"
    }
   ],
   "source": [
    "df1.xs('a')  #Both are same df1.loc[\"a\"]"
   ]
  },
  {
   "cell_type": "code",
   "execution_count": 113,
   "id": "10849338",
   "metadata": {
    "execution": {
     "iopub.execute_input": "2022-09-26T07:48:49.927551Z",
     "iopub.status.busy": "2022-09-26T07:48:49.927177Z",
     "iopub.status.idle": "2022-09-26T07:48:49.938720Z",
     "shell.execute_reply": "2022-09-26T07:48:49.937765Z"
    },
    "papermill": {
     "duration": 0.070703,
     "end_time": "2022-09-26T07:48:49.940741",
     "exception": false,
     "start_time": "2022-09-26T07:48:49.870038",
     "status": "completed"
    },
    "tags": []
   },
   "outputs": [
    {
     "data": {
      "text/html": [
       "<div>\n",
       "<style scoped>\n",
       "    .dataframe tbody tr th:only-of-type {\n",
       "        vertical-align: middle;\n",
       "    }\n",
       "\n",
       "    .dataframe tbody tr th {\n",
       "        vertical-align: top;\n",
       "    }\n",
       "\n",
       "    .dataframe thead th {\n",
       "        text-align: right;\n",
       "    }\n",
       "</style>\n",
       "<table border=\"1\" class=\"dataframe\">\n",
       "  <thead>\n",
       "    <tr style=\"text-align: right;\">\n",
       "      <th></th>\n",
       "      <th>A</th>\n",
       "      <th>B</th>\n",
       "      <th>C</th>\n",
       "      <th>D</th>\n",
       "    </tr>\n",
       "  </thead>\n",
       "  <tbody>\n",
       "    <tr>\n",
       "      <th>a</th>\n",
       "      <td>0.254972</td>\n",
       "      <td>0.991546</td>\n",
       "      <td>-0.819333</td>\n",
       "      <td>0.942125</td>\n",
       "    </tr>\n",
       "    <tr>\n",
       "      <th>c</th>\n",
       "      <td>-1.100017</td>\n",
       "      <td>0.347299</td>\n",
       "      <td>2.941919</td>\n",
       "      <td>-0.344148</td>\n",
       "    </tr>\n",
       "    <tr>\n",
       "      <th>d</th>\n",
       "      <td>0.642007</td>\n",
       "      <td>-0.459259</td>\n",
       "      <td>-0.164240</td>\n",
       "      <td>0.719303</td>\n",
       "    </tr>\n",
       "  </tbody>\n",
       "</table>\n",
       "</div>"
      ],
      "text/plain": [
       "          A         B         C         D\n",
       "a  0.254972  0.991546 -0.819333  0.942125\n",
       "c -1.100017  0.347299  2.941919 -0.344148\n",
       "d  0.642007 -0.459259 -0.164240  0.719303"
      ]
     },
     "execution_count": 113,
     "metadata": {},
     "output_type": "execute_result"
    }
   ],
   "source": [
    "df1.loc[[\"a\",\"c\",\"d\"]]"
   ]
  },
  {
   "cell_type": "code",
   "execution_count": 114,
   "id": "a8b61eff",
   "metadata": {
    "execution": {
     "iopub.execute_input": "2022-09-26T07:48:50.055081Z",
     "iopub.status.busy": "2022-09-26T07:48:50.054163Z",
     "iopub.status.idle": "2022-09-26T07:48:50.066099Z",
     "shell.execute_reply": "2022-09-26T07:48:50.065082Z"
    },
    "papermill": {
     "duration": 0.070645,
     "end_time": "2022-09-26T07:48:50.068198",
     "exception": false,
     "start_time": "2022-09-26T07:48:49.997553",
     "status": "completed"
    },
    "tags": []
   },
   "outputs": [
    {
     "data": {
      "text/html": [
       "<div>\n",
       "<style scoped>\n",
       "    .dataframe tbody tr th:only-of-type {\n",
       "        vertical-align: middle;\n",
       "    }\n",
       "\n",
       "    .dataframe tbody tr th {\n",
       "        vertical-align: top;\n",
       "    }\n",
       "\n",
       "    .dataframe thead th {\n",
       "        text-align: right;\n",
       "    }\n",
       "</style>\n",
       "<table border=\"1\" class=\"dataframe\">\n",
       "  <thead>\n",
       "    <tr style=\"text-align: right;\">\n",
       "      <th></th>\n",
       "      <th>A</th>\n",
       "      <th>B</th>\n",
       "      <th>C</th>\n",
       "      <th>D</th>\n",
       "    </tr>\n",
       "  </thead>\n",
       "  <tbody>\n",
       "    <tr>\n",
       "      <th>a</th>\n",
       "      <td>0.254972</td>\n",
       "      <td>0.991546</td>\n",
       "      <td>-0.819333</td>\n",
       "      <td>0.942125</td>\n",
       "    </tr>\n",
       "    <tr>\n",
       "      <th>c</th>\n",
       "      <td>-1.100017</td>\n",
       "      <td>0.347299</td>\n",
       "      <td>2.941919</td>\n",
       "      <td>-0.344148</td>\n",
       "    </tr>\n",
       "    <tr>\n",
       "      <th>d</th>\n",
       "      <td>0.642007</td>\n",
       "      <td>-0.459259</td>\n",
       "      <td>-0.164240</td>\n",
       "      <td>0.719303</td>\n",
       "    </tr>\n",
       "  </tbody>\n",
       "</table>\n",
       "</div>"
      ],
      "text/plain": [
       "          A         B         C         D\n",
       "a  0.254972  0.991546 -0.819333  0.942125\n",
       "c -1.100017  0.347299  2.941919 -0.344148\n",
       "d  0.642007 -0.459259 -0.164240  0.719303"
      ]
     },
     "execution_count": 114,
     "metadata": {},
     "output_type": "execute_result"
    }
   ],
   "source": [
    "df1.loc[[\"a\",\"c\",\"d\"],:]     #Before \",\" rows and after \",\" Colummns "
   ]
  },
  {
   "cell_type": "code",
   "execution_count": 115,
   "id": "1dfc6940",
   "metadata": {
    "execution": {
     "iopub.execute_input": "2022-09-26T07:48:50.187230Z",
     "iopub.status.busy": "2022-09-26T07:48:50.186307Z",
     "iopub.status.idle": "2022-09-26T07:48:50.196780Z",
     "shell.execute_reply": "2022-09-26T07:48:50.195805Z"
    },
    "papermill": {
     "duration": 0.069739,
     "end_time": "2022-09-26T07:48:50.198784",
     "exception": false,
     "start_time": "2022-09-26T07:48:50.129045",
     "status": "completed"
    },
    "tags": []
   },
   "outputs": [
    {
     "data": {
      "text/html": [
       "<div>\n",
       "<style scoped>\n",
       "    .dataframe tbody tr th:only-of-type {\n",
       "        vertical-align: middle;\n",
       "    }\n",
       "\n",
       "    .dataframe tbody tr th {\n",
       "        vertical-align: top;\n",
       "    }\n",
       "\n",
       "    .dataframe thead th {\n",
       "        text-align: right;\n",
       "    }\n",
       "</style>\n",
       "<table border=\"1\" class=\"dataframe\">\n",
       "  <thead>\n",
       "    <tr style=\"text-align: right;\">\n",
       "      <th></th>\n",
       "      <th>A</th>\n",
       "      <th>B</th>\n",
       "    </tr>\n",
       "  </thead>\n",
       "  <tbody>\n",
       "    <tr>\n",
       "      <th>a</th>\n",
       "      <td>0.254972</td>\n",
       "      <td>0.991546</td>\n",
       "    </tr>\n",
       "    <tr>\n",
       "      <th>c</th>\n",
       "      <td>-1.100017</td>\n",
       "      <td>0.347299</td>\n",
       "    </tr>\n",
       "    <tr>\n",
       "      <th>d</th>\n",
       "      <td>0.642007</td>\n",
       "      <td>-0.459259</td>\n",
       "    </tr>\n",
       "  </tbody>\n",
       "</table>\n",
       "</div>"
      ],
      "text/plain": [
       "          A         B\n",
       "a  0.254972  0.991546\n",
       "c -1.100017  0.347299\n",
       "d  0.642007 -0.459259"
      ]
     },
     "execution_count": 115,
     "metadata": {},
     "output_type": "execute_result"
    }
   ],
   "source": [
    "df1.loc[[\"a\",\"c\",\"d\"],\"A\":\"B\"]"
   ]
  },
  {
   "cell_type": "code",
   "execution_count": 116,
   "id": "b4f6a581",
   "metadata": {
    "execution": {
     "iopub.execute_input": "2022-09-26T07:48:50.314471Z",
     "iopub.status.busy": "2022-09-26T07:48:50.313474Z",
     "iopub.status.idle": "2022-09-26T07:48:50.324168Z",
     "shell.execute_reply": "2022-09-26T07:48:50.323147Z"
    },
    "papermill": {
     "duration": 0.071009,
     "end_time": "2022-09-26T07:48:50.326230",
     "exception": false,
     "start_time": "2022-09-26T07:48:50.255221",
     "status": "completed"
    },
    "tags": []
   },
   "outputs": [
    {
     "data": {
      "text/html": [
       "<div>\n",
       "<style scoped>\n",
       "    .dataframe tbody tr th:only-of-type {\n",
       "        vertical-align: middle;\n",
       "    }\n",
       "\n",
       "    .dataframe tbody tr th {\n",
       "        vertical-align: top;\n",
       "    }\n",
       "\n",
       "    .dataframe thead th {\n",
       "        text-align: right;\n",
       "    }\n",
       "</style>\n",
       "<table border=\"1\" class=\"dataframe\">\n",
       "  <thead>\n",
       "    <tr style=\"text-align: right;\">\n",
       "      <th></th>\n",
       "      <th>C</th>\n",
       "      <th>D</th>\n",
       "    </tr>\n",
       "  </thead>\n",
       "  <tbody>\n",
       "    <tr>\n",
       "      <th>d</th>\n",
       "      <td>-0.164240</td>\n",
       "      <td>0.719303</td>\n",
       "    </tr>\n",
       "    <tr>\n",
       "      <th>e</th>\n",
       "      <td>-0.772965</td>\n",
       "      <td>0.746752</td>\n",
       "    </tr>\n",
       "    <tr>\n",
       "      <th>f</th>\n",
       "      <td>0.098659</td>\n",
       "      <td>-0.441533</td>\n",
       "    </tr>\n",
       "  </tbody>\n",
       "</table>\n",
       "</div>"
      ],
      "text/plain": [
       "          C         D\n",
       "d -0.164240  0.719303\n",
       "e -0.772965  0.746752\n",
       "f  0.098659 -0.441533"
      ]
     },
     "execution_count": 116,
     "metadata": {},
     "output_type": "execute_result"
    }
   ],
   "source": [
    "df1.loc['d':,\"C\":\"D\"]"
   ]
  },
  {
   "cell_type": "code",
   "execution_count": 117,
   "id": "754b2c11",
   "metadata": {
    "execution": {
     "iopub.execute_input": "2022-09-26T07:48:50.485489Z",
     "iopub.status.busy": "2022-09-26T07:48:50.484571Z",
     "iopub.status.idle": "2022-09-26T07:48:50.492678Z",
     "shell.execute_reply": "2022-09-26T07:48:50.491744Z"
    },
    "papermill": {
     "duration": 0.067194,
     "end_time": "2022-09-26T07:48:50.494647",
     "exception": false,
     "start_time": "2022-09-26T07:48:50.427453",
     "status": "completed"
    },
    "tags": []
   },
   "outputs": [
    {
     "data": {
      "text/plain": [
       "A     True\n",
       "B     True\n",
       "C    False\n",
       "D     True\n",
       "Name: a, dtype: bool"
      ]
     },
     "execution_count": 117,
     "metadata": {},
     "output_type": "execute_result"
    }
   ],
   "source": [
    "df1.loc['a'] > 0"
   ]
  },
  {
   "cell_type": "markdown",
   "id": "4c727f34",
   "metadata": {
    "papermill": {
     "duration": 0.056316,
     "end_time": "2022-09-26T07:48:50.606819",
     "exception": false,
     "start_time": "2022-09-26T07:48:50.550503",
     "status": "completed"
    },
    "tags": []
   },
   "source": []
  },
  {
   "cell_type": "markdown",
   "id": "a242d0ca",
   "metadata": {
    "papermill": {
     "duration": 0.055045,
     "end_time": "2022-09-26T07:48:50.717562",
     "exception": false,
     "start_time": "2022-09-26T07:48:50.662517",
     "status": "completed"
    },
    "tags": []
   },
   "source": [
    "### Selection by label | Slicing with labels :\n",
    "- When using .loc with slices, if both the start and the stop labels are present in the index, then elements located between the two (including them) are returned:"
   ]
  },
  {
   "cell_type": "code",
   "execution_count": 118,
   "id": "1bd58148",
   "metadata": {
    "execution": {
     "iopub.execute_input": "2022-09-26T07:48:50.830939Z",
     "iopub.status.busy": "2022-09-26T07:48:50.830590Z",
     "iopub.status.idle": "2022-09-26T07:48:50.838274Z",
     "shell.execute_reply": "2022-09-26T07:48:50.837396Z"
    },
    "papermill": {
     "duration": 0.06728,
     "end_time": "2022-09-26T07:48:50.840539",
     "exception": false,
     "start_time": "2022-09-26T07:48:50.773259",
     "status": "completed"
    },
    "tags": []
   },
   "outputs": [
    {
     "data": {
      "text/plain": [
       "0    a\n",
       "3    b\n",
       "2    c\n",
       "5    d\n",
       "4    e\n",
       "dtype: object"
      ]
     },
     "execution_count": 118,
     "metadata": {},
     "output_type": "execute_result"
    }
   ],
   "source": [
    "s = pd.Series(list('abcde'), index=[0, 3, 2, 5, 4]) #Value of s by not sorted index\n",
    "s"
   ]
  },
  {
   "cell_type": "code",
   "execution_count": 119,
   "id": "8dc93685",
   "metadata": {
    "execution": {
     "iopub.execute_input": "2022-09-26T07:48:50.953977Z",
     "iopub.status.busy": "2022-09-26T07:48:50.953629Z",
     "iopub.status.idle": "2022-09-26T07:48:50.960777Z",
     "shell.execute_reply": "2022-09-26T07:48:50.959780Z"
    },
    "papermill": {
     "duration": 0.066418,
     "end_time": "2022-09-26T07:48:50.962721",
     "exception": false,
     "start_time": "2022-09-26T07:48:50.896303",
     "status": "completed"
    },
    "tags": []
   },
   "outputs": [
    {
     "data": {
      "text/plain": [
       "3    b\n",
       "2    c\n",
       "5    d\n",
       "dtype: object"
      ]
     },
     "execution_count": 119,
     "metadata": {},
     "output_type": "execute_result"
    }
   ],
   "source": [
    "s.loc[3:5]   # returned value fall between this 3 to 5 index"
   ]
  },
  {
   "cell_type": "markdown",
   "id": "355688ef",
   "metadata": {
    "papermill": {
     "duration": 0.055657,
     "end_time": "2022-09-26T07:48:51.085379",
     "exception": false,
     "start_time": "2022-09-26T07:48:51.029722",
     "status": "completed"
    },
    "tags": []
   },
   "source": [
    "If at least one of the two is absent, but the index is sorted, and can be compared against start and stop labels, then slicing will still work as expected, by selecting labels which rank between the two:"
   ]
  },
  {
   "cell_type": "code",
   "execution_count": 120,
   "id": "880a9dc6",
   "metadata": {
    "execution": {
     "iopub.execute_input": "2022-09-26T07:48:51.199317Z",
     "iopub.status.busy": "2022-09-26T07:48:51.198910Z",
     "iopub.status.idle": "2022-09-26T07:48:51.208449Z",
     "shell.execute_reply": "2022-09-26T07:48:51.207542Z"
    },
    "papermill": {
     "duration": 0.069464,
     "end_time": "2022-09-26T07:48:51.210725",
     "exception": false,
     "start_time": "2022-09-26T07:48:51.141261",
     "status": "completed"
    },
    "tags": []
   },
   "outputs": [
    {
     "data": {
      "text/plain": [
       "0    a\n",
       "2    c\n",
       "3    b\n",
       "4    e\n",
       "5    d\n",
       "dtype: object"
      ]
     },
     "execution_count": 120,
     "metadata": {},
     "output_type": "execute_result"
    }
   ],
   "source": [
    "s.sort_index()  #sorting value here by index"
   ]
  },
  {
   "cell_type": "code",
   "execution_count": 121,
   "id": "8da6f4fc",
   "metadata": {
    "execution": {
     "iopub.execute_input": "2022-09-26T07:48:51.331784Z",
     "iopub.status.busy": "2022-09-26T07:48:51.330864Z",
     "iopub.status.idle": "2022-09-26T07:48:51.338970Z",
     "shell.execute_reply": "2022-09-26T07:48:51.337998Z"
    },
    "papermill": {
     "duration": 0.067703,
     "end_time": "2022-09-26T07:48:51.340969",
     "exception": false,
     "start_time": "2022-09-26T07:48:51.273266",
     "status": "completed"
    },
    "tags": []
   },
   "outputs": [
    {
     "data": {
      "text/plain": [
       "3    b\n",
       "4    e\n",
       "5    d\n",
       "dtype: object"
      ]
     },
     "execution_count": 121,
     "metadata": {},
     "output_type": "execute_result"
    }
   ],
   "source": [
    "s.sort_index().loc[3:5]  #after sorting the values "
   ]
  },
  {
   "cell_type": "markdown",
   "id": "e3af343b",
   "metadata": {
    "papermill": {
     "duration": 0.05644,
     "end_time": "2022-09-26T07:48:51.455373",
     "exception": false,
     "start_time": "2022-09-26T07:48:51.398933",
     "status": "completed"
    },
    "tags": []
   },
   "source": [
    ">However, if at least one of the two is absent and the index is not sorted, an error will be raised (since doing otherwise would be computationally expensive, as well as potentially ambiguous for mixed type indexes). For instance, in the above example, s.loc[1:6] would raise KeyError.\n",
    "\n",
    "For the rationale behind this behavior, see Endpoints are inclusive."
   ]
  },
  {
   "cell_type": "markdown",
   "id": "88de4db8",
   "metadata": {
    "execution": {
     "iopub.execute_input": "2022-09-25T07:28:29.276477Z",
     "iopub.status.busy": "2022-09-25T07:28:29.276038Z",
     "iopub.status.idle": "2022-09-25T07:28:29.308607Z",
     "shell.execute_reply": "2022-09-25T07:28:29.307015Z",
     "shell.execute_reply.started": "2022-09-25T07:28:29.276440Z"
    },
    "papermill": {
     "duration": 0.056094,
     "end_time": "2022-09-26T07:48:51.567529",
     "exception": false,
     "start_time": "2022-09-26T07:48:51.511435",
     "status": "completed"
    },
    "tags": []
   },
   "source": [
    "``` python\n",
    "s = pd.Series(list('abcdef'), index=[0, 3, 2, 5, 4, 2])\n",
    "s.loc[2:5]\n",
    "\n",
    "---------------------------------------------------------------------------\n",
    "KeyError                                  Traceback (most recent call last)\n",
    "/tmp/ipykernel_18/1395166310.py in <module>\n",
    "      1 s = pd.Series(list('abcdef'), index=[0, 3, 2, 5, 4, 2])\n",
    "----> 2 s.loc[2:5]\n",
    "\n",
    "--- removed part of error----\n",
    "KeyError: 'Cannot get left slice bound for non-unique label: 2'\n"
   ]
  },
  {
   "cell_type": "code",
   "execution_count": 122,
   "id": "baead8a9",
   "metadata": {
    "execution": {
     "iopub.execute_input": "2022-09-26T07:48:51.683747Z",
     "iopub.status.busy": "2022-09-26T07:48:51.683081Z",
     "iopub.status.idle": "2022-09-26T07:48:51.690263Z",
     "shell.execute_reply": "2022-09-26T07:48:51.689375Z"
    },
    "papermill": {
     "duration": 0.066471,
     "end_time": "2022-09-26T07:48:51.692198",
     "exception": false,
     "start_time": "2022-09-26T07:48:51.625727",
     "status": "completed"
    },
    "tags": []
   },
   "outputs": [
    {
     "data": {
      "text/plain": [
       "3    b\n",
       "2    c\n",
       "5    d\n",
       "dtype: object"
      ]
     },
     "execution_count": 122,
     "metadata": {},
     "output_type": "execute_result"
    }
   ],
   "source": [
    "s.loc[3:5]"
   ]
  },
  {
   "cell_type": "markdown",
   "id": "56c70620",
   "metadata": {
    "papermill": {
     "duration": 0.055342,
     "end_time": "2022-09-26T07:48:51.803423",
     "exception": false,
     "start_time": "2022-09-26T07:48:51.748081",
     "status": "completed"
    },
    "tags": []
   },
   "source": [
    "## Indexing and selecting data In DataFrame | Selection by position:\n",
    "\n",
    "> ## ⚠️Warning \n",
    "Whether a copy or a reference is returned for a setting operation, may depend on the context. This is sometimes called chained assignment and should be avoided. See Returning a View versus Copy."
   ]
  },
  {
   "cell_type": "markdown",
   "id": "33d54073",
   "metadata": {
    "papermill": {
     "duration": 0.056444,
     "end_time": "2022-09-26T07:48:51.915542",
     "exception": false,
     "start_time": "2022-09-26T07:48:51.859098",
     "status": "completed"
    },
    "tags": []
   },
   "source": [
    "pandas provides a suite of methods in order to get **purely integer based indexing.** The semantics follow closely Python and NumPy slicing. These are **0-based** indexing. When slicing, the start bound is included, while the upper bound is excluded. Trying to use a non-integer, even a valid label will raise an **IndexError.**\n",
    "\n",
    "The **.iloc** attribute is the primary access method. The following are valid inputs:\n",
    "\n",
    "- An integer e.g. 5.\n",
    "- A list or array of integers [4, 3, 0].\n",
    "- A slice object with ints 1:7.\n",
    "- A boolean array.\n",
    "- A callable, see Selection By Callable."
   ]
  },
  {
   "cell_type": "code",
   "execution_count": 123,
   "id": "a8bb3d05",
   "metadata": {
    "execution": {
     "iopub.execute_input": "2022-09-26T07:48:52.030908Z",
     "iopub.status.busy": "2022-09-26T07:48:52.030556Z",
     "iopub.status.idle": "2022-09-26T07:48:52.043108Z",
     "shell.execute_reply": "2022-09-26T07:48:52.042237Z"
    },
    "papermill": {
     "duration": 0.072226,
     "end_time": "2022-09-26T07:48:52.045082",
     "exception": false,
     "start_time": "2022-09-26T07:48:51.972856",
     "status": "completed"
    },
    "tags": []
   },
   "outputs": [
    {
     "data": {
      "text/html": [
       "<div>\n",
       "<style scoped>\n",
       "    .dataframe tbody tr th:only-of-type {\n",
       "        vertical-align: middle;\n",
       "    }\n",
       "\n",
       "    .dataframe tbody tr th {\n",
       "        vertical-align: top;\n",
       "    }\n",
       "\n",
       "    .dataframe thead th {\n",
       "        text-align: right;\n",
       "    }\n",
       "</style>\n",
       "<table border=\"1\" class=\"dataframe\">\n",
       "  <thead>\n",
       "    <tr style=\"text-align: right;\">\n",
       "      <th></th>\n",
       "      <th>0</th>\n",
       "      <th>2</th>\n",
       "      <th>4</th>\n",
       "      <th>6</th>\n",
       "    </tr>\n",
       "  </thead>\n",
       "  <tbody>\n",
       "    <tr>\n",
       "      <th>0</th>\n",
       "      <td>1.212621</td>\n",
       "      <td>-1.393903</td>\n",
       "      <td>-0.544305</td>\n",
       "      <td>1.114010</td>\n",
       "    </tr>\n",
       "    <tr>\n",
       "      <th>2</th>\n",
       "      <td>-1.261059</td>\n",
       "      <td>0.259321</td>\n",
       "      <td>0.306368</td>\n",
       "      <td>-0.763967</td>\n",
       "    </tr>\n",
       "    <tr>\n",
       "      <th>4</th>\n",
       "      <td>0.925193</td>\n",
       "      <td>-1.133808</td>\n",
       "      <td>-0.002732</td>\n",
       "      <td>1.660397</td>\n",
       "    </tr>\n",
       "    <tr>\n",
       "      <th>6</th>\n",
       "      <td>-0.805294</td>\n",
       "      <td>-1.052892</td>\n",
       "      <td>-0.449687</td>\n",
       "      <td>-0.386769</td>\n",
       "    </tr>\n",
       "    <tr>\n",
       "      <th>8</th>\n",
       "      <td>0.772338</td>\n",
       "      <td>-1.412312</td>\n",
       "      <td>1.215055</td>\n",
       "      <td>1.126859</td>\n",
       "    </tr>\n",
       "    <tr>\n",
       "      <th>10</th>\n",
       "      <td>1.217573</td>\n",
       "      <td>0.469723</td>\n",
       "      <td>-1.150627</td>\n",
       "      <td>-0.412301</td>\n",
       "    </tr>\n",
       "  </tbody>\n",
       "</table>\n",
       "</div>"
      ],
      "text/plain": [
       "           0         2         4         6\n",
       "0   1.212621 -1.393903 -0.544305  1.114010\n",
       "2  -1.261059  0.259321  0.306368 -0.763967\n",
       "4   0.925193 -1.133808 -0.002732  1.660397\n",
       "6  -0.805294 -1.052892 -0.449687 -0.386769\n",
       "8   0.772338 -1.412312  1.215055  1.126859\n",
       "10  1.217573  0.469723 -1.150627 -0.412301"
      ]
     },
     "execution_count": 123,
     "metadata": {},
     "output_type": "execute_result"
    }
   ],
   "source": [
    "df1 = pd.DataFrame(np.random.randn(6, 4),\n",
    "                   index=list(range(0, 12, 2)),\n",
    "                   columns=list(range(0, 8, 2)))\n",
    "df1"
   ]
  },
  {
   "cell_type": "code",
   "execution_count": 124,
   "id": "31d78655",
   "metadata": {
    "execution": {
     "iopub.execute_input": "2022-09-26T07:48:52.160527Z",
     "iopub.status.busy": "2022-09-26T07:48:52.159582Z",
     "iopub.status.idle": "2022-09-26T07:48:52.170442Z",
     "shell.execute_reply": "2022-09-26T07:48:52.169489Z"
    },
    "papermill": {
     "duration": 0.071264,
     "end_time": "2022-09-26T07:48:52.172680",
     "exception": false,
     "start_time": "2022-09-26T07:48:52.101416",
     "status": "completed"
    },
    "tags": []
   },
   "outputs": [
    {
     "data": {
      "text/html": [
       "<div>\n",
       "<style scoped>\n",
       "    .dataframe tbody tr th:only-of-type {\n",
       "        vertical-align: middle;\n",
       "    }\n",
       "\n",
       "    .dataframe tbody tr th {\n",
       "        vertical-align: top;\n",
       "    }\n",
       "\n",
       "    .dataframe thead th {\n",
       "        text-align: right;\n",
       "    }\n",
       "</style>\n",
       "<table border=\"1\" class=\"dataframe\">\n",
       "  <thead>\n",
       "    <tr style=\"text-align: right;\">\n",
       "      <th></th>\n",
       "      <th>0</th>\n",
       "      <th>2</th>\n",
       "      <th>4</th>\n",
       "      <th>6</th>\n",
       "    </tr>\n",
       "  </thead>\n",
       "  <tbody>\n",
       "    <tr>\n",
       "      <th>0</th>\n",
       "      <td>1.212621</td>\n",
       "      <td>-1.393903</td>\n",
       "      <td>-0.544305</td>\n",
       "      <td>1.114010</td>\n",
       "    </tr>\n",
       "    <tr>\n",
       "      <th>2</th>\n",
       "      <td>-1.261059</td>\n",
       "      <td>0.259321</td>\n",
       "      <td>0.306368</td>\n",
       "      <td>-0.763967</td>\n",
       "    </tr>\n",
       "    <tr>\n",
       "      <th>4</th>\n",
       "      <td>0.925193</td>\n",
       "      <td>-1.133808</td>\n",
       "      <td>-0.002732</td>\n",
       "      <td>1.660397</td>\n",
       "    </tr>\n",
       "  </tbody>\n",
       "</table>\n",
       "</div>"
      ],
      "text/plain": [
       "          0         2         4         6\n",
       "0  1.212621 -1.393903 -0.544305  1.114010\n",
       "2 -1.261059  0.259321  0.306368 -0.763967\n",
       "4  0.925193 -1.133808 -0.002732  1.660397"
      ]
     },
     "execution_count": 124,
     "metadata": {},
     "output_type": "execute_result"
    }
   ],
   "source": [
    "df1.iloc[:3]  # position rows 0,1,2,"
   ]
  },
  {
   "cell_type": "code",
   "execution_count": 125,
   "id": "b2feb1bf",
   "metadata": {
    "execution": {
     "iopub.execute_input": "2022-09-26T07:48:52.287446Z",
     "iopub.status.busy": "2022-09-26T07:48:52.286436Z",
     "iopub.status.idle": "2022-09-26T07:48:52.297258Z",
     "shell.execute_reply": "2022-09-26T07:48:52.296120Z"
    },
    "papermill": {
     "duration": 0.069917,
     "end_time": "2022-09-26T07:48:52.299337",
     "exception": false,
     "start_time": "2022-09-26T07:48:52.229420",
     "status": "completed"
    },
    "tags": []
   },
   "outputs": [
    {
     "data": {
      "text/html": [
       "<div>\n",
       "<style scoped>\n",
       "    .dataframe tbody tr th:only-of-type {\n",
       "        vertical-align: middle;\n",
       "    }\n",
       "\n",
       "    .dataframe tbody tr th {\n",
       "        vertical-align: top;\n",
       "    }\n",
       "\n",
       "    .dataframe thead th {\n",
       "        text-align: right;\n",
       "    }\n",
       "</style>\n",
       "<table border=\"1\" class=\"dataframe\">\n",
       "  <thead>\n",
       "    <tr style=\"text-align: right;\">\n",
       "      <th></th>\n",
       "      <th>0</th>\n",
       "      <th>2</th>\n",
       "      <th>4</th>\n",
       "      <th>6</th>\n",
       "    </tr>\n",
       "  </thead>\n",
       "  <tbody>\n",
       "    <tr>\n",
       "      <th>2</th>\n",
       "      <td>-1.261059</td>\n",
       "      <td>0.259321</td>\n",
       "      <td>0.306368</td>\n",
       "      <td>-0.763967</td>\n",
       "    </tr>\n",
       "    <tr>\n",
       "      <th>4</th>\n",
       "      <td>0.925193</td>\n",
       "      <td>-1.133808</td>\n",
       "      <td>-0.002732</td>\n",
       "      <td>1.660397</td>\n",
       "    </tr>\n",
       "  </tbody>\n",
       "</table>\n",
       "</div>"
      ],
      "text/plain": [
       "          0         2         4         6\n",
       "2 -1.261059  0.259321  0.306368 -0.763967\n",
       "4  0.925193 -1.133808 -0.002732  1.660397"
      ]
     },
     "execution_count": 125,
     "metadata": {},
     "output_type": "execute_result"
    }
   ],
   "source": [
    "df1.iloc[1:3]"
   ]
  },
  {
   "cell_type": "code",
   "execution_count": 126,
   "id": "fdc511a6",
   "metadata": {
    "execution": {
     "iopub.execute_input": "2022-09-26T07:48:52.413015Z",
     "iopub.status.busy": "2022-09-26T07:48:52.412353Z",
     "iopub.status.idle": "2022-09-26T07:48:52.423597Z",
     "shell.execute_reply": "2022-09-26T07:48:52.422540Z"
    },
    "papermill": {
     "duration": 0.070616,
     "end_time": "2022-09-26T07:48:52.425770",
     "exception": false,
     "start_time": "2022-09-26T07:48:52.355154",
     "status": "completed"
    },
    "tags": []
   },
   "outputs": [
    {
     "data": {
      "text/html": [
       "<div>\n",
       "<style scoped>\n",
       "    .dataframe tbody tr th:only-of-type {\n",
       "        vertical-align: middle;\n",
       "    }\n",
       "\n",
       "    .dataframe tbody tr th {\n",
       "        vertical-align: top;\n",
       "    }\n",
       "\n",
       "    .dataframe thead th {\n",
       "        text-align: right;\n",
       "    }\n",
       "</style>\n",
       "<table border=\"1\" class=\"dataframe\">\n",
       "  <thead>\n",
       "    <tr style=\"text-align: right;\">\n",
       "      <th></th>\n",
       "      <th>0</th>\n",
       "      <th>2</th>\n",
       "    </tr>\n",
       "  </thead>\n",
       "  <tbody>\n",
       "    <tr>\n",
       "      <th>2</th>\n",
       "      <td>-1.261059</td>\n",
       "      <td>0.259321</td>\n",
       "    </tr>\n",
       "    <tr>\n",
       "      <th>4</th>\n",
       "      <td>0.925193</td>\n",
       "      <td>-1.133808</td>\n",
       "    </tr>\n",
       "    <tr>\n",
       "      <th>6</th>\n",
       "      <td>-0.805294</td>\n",
       "      <td>-1.052892</td>\n",
       "    </tr>\n",
       "    <tr>\n",
       "      <th>8</th>\n",
       "      <td>0.772338</td>\n",
       "      <td>-1.412312</td>\n",
       "    </tr>\n",
       "    <tr>\n",
       "      <th>10</th>\n",
       "      <td>1.217573</td>\n",
       "      <td>0.469723</td>\n",
       "    </tr>\n",
       "  </tbody>\n",
       "</table>\n",
       "</div>"
      ],
      "text/plain": [
       "           0         2\n",
       "2  -1.261059  0.259321\n",
       "4   0.925193 -1.133808\n",
       "6  -0.805294 -1.052892\n",
       "8   0.772338 -1.412312\n",
       "10  1.217573  0.469723"
      ]
     },
     "execution_count": 126,
     "metadata": {},
     "output_type": "execute_result"
    }
   ],
   "source": [
    "df1.iloc[1:6,0:2]  #position for columns 0:2"
   ]
  },
  {
   "cell_type": "code",
   "execution_count": 127,
   "id": "26f14d4a",
   "metadata": {
    "execution": {
     "iopub.execute_input": "2022-09-26T07:48:52.543817Z",
     "iopub.status.busy": "2022-09-26T07:48:52.541945Z",
     "iopub.status.idle": "2022-09-26T07:48:52.553754Z",
     "shell.execute_reply": "2022-09-26T07:48:52.552820Z"
    },
    "papermill": {
     "duration": 0.071657,
     "end_time": "2022-09-26T07:48:52.555923",
     "exception": false,
     "start_time": "2022-09-26T07:48:52.484266",
     "status": "completed"
    },
    "tags": []
   },
   "outputs": [
    {
     "data": {
      "text/html": [
       "<div>\n",
       "<style scoped>\n",
       "    .dataframe tbody tr th:only-of-type {\n",
       "        vertical-align: middle;\n",
       "    }\n",
       "\n",
       "    .dataframe tbody tr th {\n",
       "        vertical-align: top;\n",
       "    }\n",
       "\n",
       "    .dataframe thead th {\n",
       "        text-align: right;\n",
       "    }\n",
       "</style>\n",
       "<table border=\"1\" class=\"dataframe\">\n",
       "  <thead>\n",
       "    <tr style=\"text-align: right;\">\n",
       "      <th></th>\n",
       "      <th>2</th>\n",
       "      <th>6</th>\n",
       "    </tr>\n",
       "  </thead>\n",
       "  <tbody>\n",
       "    <tr>\n",
       "      <th>2</th>\n",
       "      <td>0.259321</td>\n",
       "      <td>-0.763967</td>\n",
       "    </tr>\n",
       "    <tr>\n",
       "      <th>6</th>\n",
       "      <td>-1.052892</td>\n",
       "      <td>-0.386769</td>\n",
       "    </tr>\n",
       "    <tr>\n",
       "      <th>10</th>\n",
       "      <td>0.469723</td>\n",
       "      <td>-0.412301</td>\n",
       "    </tr>\n",
       "  </tbody>\n",
       "</table>\n",
       "</div>"
      ],
      "text/plain": [
       "           2         6\n",
       "2   0.259321 -0.763967\n",
       "6  -1.052892 -0.386769\n",
       "10  0.469723 -0.412301"
      ]
     },
     "execution_count": 127,
     "metadata": {},
     "output_type": "execute_result"
    }
   ],
   "source": [
    "df1.iloc[[1, 3, 5], [1, 3]]  #rows(1,3,5) and columns(1,3)"
   ]
  },
  {
   "cell_type": "code",
   "execution_count": 128,
   "id": "82deb281",
   "metadata": {
    "execution": {
     "iopub.execute_input": "2022-09-26T07:48:52.672221Z",
     "iopub.status.busy": "2022-09-26T07:48:52.671877Z",
     "iopub.status.idle": "2022-09-26T07:48:52.683481Z",
     "shell.execute_reply": "2022-09-26T07:48:52.682410Z"
    },
    "papermill": {
     "duration": 0.072086,
     "end_time": "2022-09-26T07:48:52.685548",
     "exception": false,
     "start_time": "2022-09-26T07:48:52.613462",
     "status": "completed"
    },
    "tags": []
   },
   "outputs": [
    {
     "data": {
      "text/html": [
       "<div>\n",
       "<style scoped>\n",
       "    .dataframe tbody tr th:only-of-type {\n",
       "        vertical-align: middle;\n",
       "    }\n",
       "\n",
       "    .dataframe tbody tr th {\n",
       "        vertical-align: top;\n",
       "    }\n",
       "\n",
       "    .dataframe thead th {\n",
       "        text-align: right;\n",
       "    }\n",
       "</style>\n",
       "<table border=\"1\" class=\"dataframe\">\n",
       "  <thead>\n",
       "    <tr style=\"text-align: right;\">\n",
       "      <th></th>\n",
       "      <th>0</th>\n",
       "      <th>2</th>\n",
       "      <th>4</th>\n",
       "      <th>6</th>\n",
       "    </tr>\n",
       "  </thead>\n",
       "  <tbody>\n",
       "    <tr>\n",
       "      <th>2</th>\n",
       "      <td>-1.261059</td>\n",
       "      <td>0.259321</td>\n",
       "      <td>0.306368</td>\n",
       "      <td>-0.763967</td>\n",
       "    </tr>\n",
       "    <tr>\n",
       "      <th>4</th>\n",
       "      <td>0.925193</td>\n",
       "      <td>-1.133808</td>\n",
       "      <td>-0.002732</td>\n",
       "      <td>1.660397</td>\n",
       "    </tr>\n",
       "  </tbody>\n",
       "</table>\n",
       "</div>"
      ],
      "text/plain": [
       "          0         2         4         6\n",
       "2 -1.261059  0.259321  0.306368 -0.763967\n",
       "4  0.925193 -1.133808 -0.002732  1.660397"
      ]
     },
     "execution_count": 128,
     "metadata": {},
     "output_type": "execute_result"
    }
   ],
   "source": [
    "df1.iloc[1:3, :]"
   ]
  },
  {
   "cell_type": "code",
   "execution_count": 129,
   "id": "e64a7457",
   "metadata": {
    "execution": {
     "iopub.execute_input": "2022-09-26T07:48:52.803181Z",
     "iopub.status.busy": "2022-09-26T07:48:52.802245Z",
     "iopub.status.idle": "2022-09-26T07:48:52.809202Z",
     "shell.execute_reply": "2022-09-26T07:48:52.808279Z"
    },
    "papermill": {
     "duration": 0.067903,
     "end_time": "2022-09-26T07:48:52.811204",
     "exception": false,
     "start_time": "2022-09-26T07:48:52.743301",
     "status": "completed"
    },
    "tags": []
   },
   "outputs": [
    {
     "data": {
      "text/plain": [
       "0.2593213666045359"
      ]
     },
     "execution_count": 129,
     "metadata": {},
     "output_type": "execute_result"
    }
   ],
   "source": [
    "# this is also equivalent to ``df1.iat[1,1]``\n",
    "df1.iloc[1, 1]"
   ]
  },
  {
   "cell_type": "code",
   "execution_count": 130,
   "id": "9178dbb4",
   "metadata": {
    "execution": {
     "iopub.execute_input": "2022-09-26T07:48:52.927348Z",
     "iopub.status.busy": "2022-09-26T07:48:52.926396Z",
     "iopub.status.idle": "2022-09-26T07:48:52.934397Z",
     "shell.execute_reply": "2022-09-26T07:48:52.933380Z"
    },
    "papermill": {
     "duration": 0.067976,
     "end_time": "2022-09-26T07:48:52.936521",
     "exception": false,
     "start_time": "2022-09-26T07:48:52.868545",
     "status": "completed"
    },
    "tags": []
   },
   "outputs": [
    {
     "data": {
      "text/plain": [
       "0   -1.261059\n",
       "2    0.259321\n",
       "4    0.306368\n",
       "6   -0.763967\n",
       "Name: 2, dtype: float64"
      ]
     },
     "execution_count": 130,
     "metadata": {},
     "output_type": "execute_result"
    }
   ],
   "source": [
    "df1.iloc[1]  #rows at 1 value "
   ]
  },
  {
   "cell_type": "markdown",
   "id": "b6897471",
   "metadata": {
    "papermill": {
     "duration": 0.056647,
     "end_time": "2022-09-26T07:48:53.052759",
     "exception": false,
     "start_time": "2022-09-26T07:48:52.996112",
     "status": "completed"
    },
    "tags": []
   },
   "source": [
    "> ## ✍️ Note:\n",
    "> #### Out of range slice indexes are handled gracefully just as in Python/NumPy."
   ]
  },
  {
   "cell_type": "code",
   "execution_count": 131,
   "id": "eb4dfc36",
   "metadata": {
    "execution": {
     "iopub.execute_input": "2022-09-26T07:48:53.169364Z",
     "iopub.status.busy": "2022-09-26T07:48:53.168410Z",
     "iopub.status.idle": "2022-09-26T07:48:53.175492Z",
     "shell.execute_reply": "2022-09-26T07:48:53.174532Z"
    },
    "papermill": {
     "duration": 0.067357,
     "end_time": "2022-09-26T07:48:53.177382",
     "exception": false,
     "start_time": "2022-09-26T07:48:53.110025",
     "status": "completed"
    },
    "tags": []
   },
   "outputs": [
    {
     "data": {
      "text/plain": [
       "['e', 'f']"
      ]
     },
     "execution_count": 131,
     "metadata": {},
     "output_type": "execute_result"
    }
   ],
   "source": [
    "x = list('abcdef')\n",
    "x[4:10]"
   ]
  },
  {
   "cell_type": "code",
   "execution_count": 132,
   "id": "74c254a4",
   "metadata": {
    "execution": {
     "iopub.execute_input": "2022-09-26T07:48:53.293335Z",
     "iopub.status.busy": "2022-09-26T07:48:53.292407Z",
     "iopub.status.idle": "2022-09-26T07:48:53.300449Z",
     "shell.execute_reply": "2022-09-26T07:48:53.299506Z"
    },
    "papermill": {
     "duration": 0.067907,
     "end_time": "2022-09-26T07:48:53.302431",
     "exception": false,
     "start_time": "2022-09-26T07:48:53.234524",
     "status": "completed"
    },
    "tags": []
   },
   "outputs": [
    {
     "data": {
      "text/plain": [
       "0    a\n",
       "1    b\n",
       "2    c\n",
       "3    d\n",
       "4    e\n",
       "5    f\n",
       "dtype: object"
      ]
     },
     "execution_count": 132,
     "metadata": {},
     "output_type": "execute_result"
    }
   ],
   "source": [
    "s = pd.Series(x)\n",
    "s"
   ]
  },
  {
   "cell_type": "code",
   "execution_count": 133,
   "id": "0d039ff3",
   "metadata": {
    "execution": {
     "iopub.execute_input": "2022-09-26T07:48:53.419677Z",
     "iopub.status.busy": "2022-09-26T07:48:53.418733Z",
     "iopub.status.idle": "2022-09-26T07:48:53.426625Z",
     "shell.execute_reply": "2022-09-26T07:48:53.425647Z"
    },
    "papermill": {
     "duration": 0.068816,
     "end_time": "2022-09-26T07:48:53.428615",
     "exception": false,
     "start_time": "2022-09-26T07:48:53.359799",
     "status": "completed"
    },
    "tags": []
   },
   "outputs": [
    {
     "data": {
      "text/plain": [
       "4    e\n",
       "5    f\n",
       "dtype: object"
      ]
     },
     "execution_count": 133,
     "metadata": {},
     "output_type": "execute_result"
    }
   ],
   "source": [
    "s.iloc[4:10]   #Out bound will be handled easily"
   ]
  },
  {
   "cell_type": "code",
   "execution_count": 134,
   "id": "a15c5e9b",
   "metadata": {
    "execution": {
     "iopub.execute_input": "2022-09-26T07:48:53.545836Z",
     "iopub.status.busy": "2022-09-26T07:48:53.545482Z",
     "iopub.status.idle": "2022-09-26T07:48:53.552160Z",
     "shell.execute_reply": "2022-09-26T07:48:53.551288Z"
    },
    "papermill": {
     "duration": 0.067952,
     "end_time": "2022-09-26T07:48:53.554217",
     "exception": false,
     "start_time": "2022-09-26T07:48:53.486265",
     "status": "completed"
    },
    "tags": []
   },
   "outputs": [
    {
     "data": {
      "text/plain": [
       "Series([], dtype: object)"
      ]
     },
     "execution_count": 134,
     "metadata": {},
     "output_type": "execute_result"
    }
   ],
   "source": [
    "s.iloc[8:10] #there is no value in that position that's why empty "
   ]
  },
  {
   "cell_type": "markdown",
   "id": "20e8e93d",
   "metadata": {
    "papermill": {
     "duration": 0.057617,
     "end_time": "2022-09-26T07:48:53.669411",
     "exception": false,
     "start_time": "2022-09-26T07:48:53.611794",
     "status": "completed"
    },
    "tags": []
   },
   "source": [
    "> ## ✍️ Note:\n",
    "> #### Note that using slices that go out of bounds can result in an empty axis (e.g. an empty DataFrame being returned)."
   ]
  },
  {
   "cell_type": "code",
   "execution_count": 135,
   "id": "54f572cb",
   "metadata": {
    "execution": {
     "iopub.execute_input": "2022-09-26T07:48:53.786646Z",
     "iopub.status.busy": "2022-09-26T07:48:53.785723Z",
     "iopub.status.idle": "2022-09-26T07:48:53.796115Z",
     "shell.execute_reply": "2022-09-26T07:48:53.795158Z"
    },
    "papermill": {
     "duration": 0.070666,
     "end_time": "2022-09-26T07:48:53.798220",
     "exception": false,
     "start_time": "2022-09-26T07:48:53.727554",
     "status": "completed"
    },
    "tags": []
   },
   "outputs": [
    {
     "data": {
      "text/html": [
       "<div>\n",
       "<style scoped>\n",
       "    .dataframe tbody tr th:only-of-type {\n",
       "        vertical-align: middle;\n",
       "    }\n",
       "\n",
       "    .dataframe tbody tr th {\n",
       "        vertical-align: top;\n",
       "    }\n",
       "\n",
       "    .dataframe thead th {\n",
       "        text-align: right;\n",
       "    }\n",
       "</style>\n",
       "<table border=\"1\" class=\"dataframe\">\n",
       "  <thead>\n",
       "    <tr style=\"text-align: right;\">\n",
       "      <th></th>\n",
       "      <th>A</th>\n",
       "      <th>B</th>\n",
       "    </tr>\n",
       "  </thead>\n",
       "  <tbody>\n",
       "    <tr>\n",
       "      <th>0</th>\n",
       "      <td>-0.724726</td>\n",
       "      <td>0.028137</td>\n",
       "    </tr>\n",
       "    <tr>\n",
       "      <th>1</th>\n",
       "      <td>1.649178</td>\n",
       "      <td>0.564521</td>\n",
       "    </tr>\n",
       "    <tr>\n",
       "      <th>2</th>\n",
       "      <td>0.603403</td>\n",
       "      <td>1.178174</td>\n",
       "    </tr>\n",
       "    <tr>\n",
       "      <th>3</th>\n",
       "      <td>0.434894</td>\n",
       "      <td>0.150537</td>\n",
       "    </tr>\n",
       "    <tr>\n",
       "      <th>4</th>\n",
       "      <td>-1.282479</td>\n",
       "      <td>0.933638</td>\n",
       "    </tr>\n",
       "  </tbody>\n",
       "</table>\n",
       "</div>"
      ],
      "text/plain": [
       "          A         B\n",
       "0 -0.724726  0.028137\n",
       "1  1.649178  0.564521\n",
       "2  0.603403  1.178174\n",
       "3  0.434894  0.150537\n",
       "4 -1.282479  0.933638"
      ]
     },
     "execution_count": 135,
     "metadata": {},
     "output_type": "execute_result"
    }
   ],
   "source": [
    "dfl = pd.DataFrame(np.random.randn(5, 2), columns=list('AB'))\n",
    "dfl"
   ]
  },
  {
   "cell_type": "code",
   "execution_count": 136,
   "id": "21a04cd2",
   "metadata": {
    "execution": {
     "iopub.execute_input": "2022-09-26T07:48:53.915960Z",
     "iopub.status.busy": "2022-09-26T07:48:53.915066Z",
     "iopub.status.idle": "2022-09-26T07:48:53.925606Z",
     "shell.execute_reply": "2022-09-26T07:48:53.923995Z"
    },
    "papermill": {
     "duration": 0.072175,
     "end_time": "2022-09-26T07:48:53.928333",
     "exception": false,
     "start_time": "2022-09-26T07:48:53.856158",
     "status": "completed"
    },
    "tags": []
   },
   "outputs": [
    {
     "name": "stdout",
     "output_type": "stream",
     "text": [
      "Empty DataFrame\n",
      "Columns: []\n",
      "Index: [0, 1, 2, 3, 4]\n"
     ]
    },
    {
     "data": {
      "text/html": [
       "<div>\n",
       "<style scoped>\n",
       "    .dataframe tbody tr th:only-of-type {\n",
       "        vertical-align: middle;\n",
       "    }\n",
       "\n",
       "    .dataframe tbody tr th {\n",
       "        vertical-align: top;\n",
       "    }\n",
       "\n",
       "    .dataframe thead th {\n",
       "        text-align: right;\n",
       "    }\n",
       "</style>\n",
       "<table border=\"1\" class=\"dataframe\">\n",
       "  <thead>\n",
       "    <tr style=\"text-align: right;\">\n",
       "      <th></th>\n",
       "    </tr>\n",
       "  </thead>\n",
       "  <tbody>\n",
       "    <tr>\n",
       "      <th>0</th>\n",
       "    </tr>\n",
       "    <tr>\n",
       "      <th>1</th>\n",
       "    </tr>\n",
       "    <tr>\n",
       "      <th>2</th>\n",
       "    </tr>\n",
       "    <tr>\n",
       "      <th>3</th>\n",
       "    </tr>\n",
       "    <tr>\n",
       "      <th>4</th>\n",
       "    </tr>\n",
       "  </tbody>\n",
       "</table>\n",
       "</div>"
      ],
      "text/plain": [
       "Empty DataFrame\n",
       "Columns: []\n",
       "Index: [0, 1, 2, 3, 4]"
      ]
     },
     "execution_count": 136,
     "metadata": {},
     "output_type": "execute_result"
    }
   ],
   "source": [
    "print(dfl.iloc[:, 2:3]) #no columns at position 2,3\n",
    "dfl.iloc[:, 2:3]"
   ]
  },
  {
   "cell_type": "code",
   "execution_count": 137,
   "id": "e40c6e37",
   "metadata": {
    "execution": {
     "iopub.execute_input": "2022-09-26T07:48:54.049098Z",
     "iopub.status.busy": "2022-09-26T07:48:54.048752Z",
     "iopub.status.idle": "2022-09-26T07:48:54.057735Z",
     "shell.execute_reply": "2022-09-26T07:48:54.056793Z"
    },
    "papermill": {
     "duration": 0.070119,
     "end_time": "2022-09-26T07:48:54.059712",
     "exception": false,
     "start_time": "2022-09-26T07:48:53.989593",
     "status": "completed"
    },
    "tags": []
   },
   "outputs": [
    {
     "data": {
      "text/html": [
       "<div>\n",
       "<style scoped>\n",
       "    .dataframe tbody tr th:only-of-type {\n",
       "        vertical-align: middle;\n",
       "    }\n",
       "\n",
       "    .dataframe tbody tr th {\n",
       "        vertical-align: top;\n",
       "    }\n",
       "\n",
       "    .dataframe thead th {\n",
       "        text-align: right;\n",
       "    }\n",
       "</style>\n",
       "<table border=\"1\" class=\"dataframe\">\n",
       "  <thead>\n",
       "    <tr style=\"text-align: right;\">\n",
       "      <th></th>\n",
       "      <th>B</th>\n",
       "    </tr>\n",
       "  </thead>\n",
       "  <tbody>\n",
       "    <tr>\n",
       "      <th>0</th>\n",
       "      <td>0.028137</td>\n",
       "    </tr>\n",
       "    <tr>\n",
       "      <th>1</th>\n",
       "      <td>0.564521</td>\n",
       "    </tr>\n",
       "    <tr>\n",
       "      <th>2</th>\n",
       "      <td>1.178174</td>\n",
       "    </tr>\n",
       "    <tr>\n",
       "      <th>3</th>\n",
       "      <td>0.150537</td>\n",
       "    </tr>\n",
       "    <tr>\n",
       "      <th>4</th>\n",
       "      <td>0.933638</td>\n",
       "    </tr>\n",
       "  </tbody>\n",
       "</table>\n",
       "</div>"
      ],
      "text/plain": [
       "          B\n",
       "0  0.028137\n",
       "1  0.564521\n",
       "2  1.178174\n",
       "3  0.150537\n",
       "4  0.933638"
      ]
     },
     "execution_count": 137,
     "metadata": {},
     "output_type": "execute_result"
    }
   ],
   "source": [
    "dfl.iloc[:, 1:3] #column present at position 1 but not position 3"
   ]
  },
  {
   "cell_type": "code",
   "execution_count": 138,
   "id": "94e9a334",
   "metadata": {
    "execution": {
     "iopub.execute_input": "2022-09-26T07:48:54.179890Z",
     "iopub.status.busy": "2022-09-26T07:48:54.178167Z",
     "iopub.status.idle": "2022-09-26T07:48:54.188032Z",
     "shell.execute_reply": "2022-09-26T07:48:54.187018Z"
    },
    "papermill": {
     "duration": 0.071364,
     "end_time": "2022-09-26T07:48:54.190179",
     "exception": false,
     "start_time": "2022-09-26T07:48:54.118815",
     "status": "completed"
    },
    "tags": []
   },
   "outputs": [
    {
     "data": {
      "text/html": [
       "<div>\n",
       "<style scoped>\n",
       "    .dataframe tbody tr th:only-of-type {\n",
       "        vertical-align: middle;\n",
       "    }\n",
       "\n",
       "    .dataframe tbody tr th {\n",
       "        vertical-align: top;\n",
       "    }\n",
       "\n",
       "    .dataframe thead th {\n",
       "        text-align: right;\n",
       "    }\n",
       "</style>\n",
       "<table border=\"1\" class=\"dataframe\">\n",
       "  <thead>\n",
       "    <tr style=\"text-align: right;\">\n",
       "      <th></th>\n",
       "      <th>A</th>\n",
       "      <th>B</th>\n",
       "    </tr>\n",
       "  </thead>\n",
       "  <tbody>\n",
       "    <tr>\n",
       "      <th>4</th>\n",
       "      <td>-1.282479</td>\n",
       "      <td>0.933638</td>\n",
       "    </tr>\n",
       "  </tbody>\n",
       "</table>\n",
       "</div>"
      ],
      "text/plain": [
       "          A         B\n",
       "4 -1.282479  0.933638"
      ]
     },
     "execution_count": 138,
     "metadata": {},
     "output_type": "execute_result"
    }
   ],
   "source": [
    "dfl.iloc[4:6]"
   ]
  },
  {
   "cell_type": "markdown",
   "id": "8faf0a6f",
   "metadata": {
    "papermill": {
     "duration": 0.058296,
     "end_time": "2022-09-26T07:48:54.307179",
     "exception": false,
     "start_time": "2022-09-26T07:48:54.248883",
     "status": "completed"
    },
    "tags": []
   },
   "source": [
    "> ## ✍️ Note:\n",
    "> ####  A single indexer that is out of bounds will raise an IndexError. A list of indexers where any element is out of bounds will raise an IndexError."
   ]
  },
  {
   "cell_type": "markdown",
   "id": "1d66913f",
   "metadata": {
    "papermill": {
     "duration": 0.058264,
     "end_time": "2022-09-26T07:48:54.423928",
     "exception": false,
     "start_time": "2022-09-26T07:48:54.365664",
     "status": "completed"
    },
    "tags": []
   },
   "source": [
    "``` python\n",
    "dfl.iloc[[4, 5, 6]]\n",
    "\n",
    "---------------------------------------------------------------------------\n",
    "IndexError                                Traceback (most recent call last)\n",
    "\n",
    "----extra error removed----\n",
    "IndexError: positional indexers are out-of-bounds\n",
    "```"
   ]
  },
  {
   "cell_type": "markdown",
   "id": "d8a67214",
   "metadata": {
    "papermill": {
     "duration": 0.05831,
     "end_time": "2022-09-26T07:48:54.540659",
     "exception": false,
     "start_time": "2022-09-26T07:48:54.482349",
     "status": "completed"
    },
    "tags": []
   },
   "source": [
    "``` python \n",
    "dfl.iloc[:, 4]\n",
    "\n",
    "---------------------------------------------------------------------------\n",
    "IndexError                                Traceback (most recent call last)\n",
    "/tmp/ipykernel_18/1683638990.py in <module>\n",
    "----> 1 dfl.iloc[:, 4]\n",
    "\n",
    "----extra error removed----\n",
    "IndexError: single positional indexer is out-of-bounds\n",
    "```"
   ]
  },
  {
   "cell_type": "markdown",
   "id": "98d70617",
   "metadata": {
    "papermill": {
     "duration": 0.058243,
     "end_time": "2022-09-26T07:48:54.658357",
     "exception": false,
     "start_time": "2022-09-26T07:48:54.600114",
     "status": "completed"
    },
    "tags": []
   },
   "source": [
    "## Indexing and selecting data In DataFrame | Selection by callable:\n",
    "- .loc, .iloc, and also [] indexing can accept a **callable** as indexer. The **callable** must be a function with one argument (the calling Series or DataFrame) that returns valid output for indexing.\n"
   ]
  },
  {
   "cell_type": "code",
   "execution_count": 139,
   "id": "661a9cbc",
   "metadata": {
    "execution": {
     "iopub.execute_input": "2022-09-26T07:48:54.774975Z",
     "iopub.status.busy": "2022-09-26T07:48:54.774626Z",
     "iopub.status.idle": "2022-09-26T07:48:54.787651Z",
     "shell.execute_reply": "2022-09-26T07:48:54.786528Z"
    },
    "papermill": {
     "duration": 0.073904,
     "end_time": "2022-09-26T07:48:54.789686",
     "exception": false,
     "start_time": "2022-09-26T07:48:54.715782",
     "status": "completed"
    },
    "tags": []
   },
   "outputs": [
    {
     "data": {
      "text/html": [
       "<div>\n",
       "<style scoped>\n",
       "    .dataframe tbody tr th:only-of-type {\n",
       "        vertical-align: middle;\n",
       "    }\n",
       "\n",
       "    .dataframe tbody tr th {\n",
       "        vertical-align: top;\n",
       "    }\n",
       "\n",
       "    .dataframe thead th {\n",
       "        text-align: right;\n",
       "    }\n",
       "</style>\n",
       "<table border=\"1\" class=\"dataframe\">\n",
       "  <thead>\n",
       "    <tr style=\"text-align: right;\">\n",
       "      <th></th>\n",
       "      <th>A</th>\n",
       "      <th>B</th>\n",
       "      <th>C</th>\n",
       "      <th>D</th>\n",
       "    </tr>\n",
       "  </thead>\n",
       "  <tbody>\n",
       "    <tr>\n",
       "      <th>a</th>\n",
       "      <td>-0.982151</td>\n",
       "      <td>-0.191299</td>\n",
       "      <td>2.095673</td>\n",
       "      <td>0.588726</td>\n",
       "    </tr>\n",
       "    <tr>\n",
       "      <th>b</th>\n",
       "      <td>0.755281</td>\n",
       "      <td>-1.133549</td>\n",
       "      <td>0.266843</td>\n",
       "      <td>1.397699</td>\n",
       "    </tr>\n",
       "    <tr>\n",
       "      <th>c</th>\n",
       "      <td>-0.042602</td>\n",
       "      <td>0.366752</td>\n",
       "      <td>-0.781471</td>\n",
       "      <td>-0.085227</td>\n",
       "    </tr>\n",
       "    <tr>\n",
       "      <th>d</th>\n",
       "      <td>0.516781</td>\n",
       "      <td>-1.004286</td>\n",
       "      <td>0.052826</td>\n",
       "      <td>-0.476314</td>\n",
       "    </tr>\n",
       "    <tr>\n",
       "      <th>e</th>\n",
       "      <td>-0.656725</td>\n",
       "      <td>-0.681671</td>\n",
       "      <td>1.731851</td>\n",
       "      <td>0.204355</td>\n",
       "    </tr>\n",
       "    <tr>\n",
       "      <th>f</th>\n",
       "      <td>-0.155641</td>\n",
       "      <td>1.208962</td>\n",
       "      <td>-0.201963</td>\n",
       "      <td>1.227528</td>\n",
       "    </tr>\n",
       "  </tbody>\n",
       "</table>\n",
       "</div>"
      ],
      "text/plain": [
       "          A         B         C         D\n",
       "a -0.982151 -0.191299  2.095673  0.588726\n",
       "b  0.755281 -1.133549  0.266843  1.397699\n",
       "c -0.042602  0.366752 -0.781471 -0.085227\n",
       "d  0.516781 -1.004286  0.052826 -0.476314\n",
       "e -0.656725 -0.681671  1.731851  0.204355\n",
       "f -0.155641  1.208962 -0.201963  1.227528"
      ]
     },
     "execution_count": 139,
     "metadata": {},
     "output_type": "execute_result"
    }
   ],
   "source": [
    "df1 = pd.DataFrame(np.random.randn(6, 4),\n",
    "                   index=list('abcdef'),\n",
    "                   columns=list('ABCD'))\n",
    "df1"
   ]
  },
  {
   "cell_type": "code",
   "execution_count": 140,
   "id": "ecc7df61",
   "metadata": {
    "execution": {
     "iopub.execute_input": "2022-09-26T07:48:54.908049Z",
     "iopub.status.busy": "2022-09-26T07:48:54.907136Z",
     "iopub.status.idle": "2022-09-26T07:48:54.918434Z",
     "shell.execute_reply": "2022-09-26T07:48:54.917481Z"
    },
    "papermill": {
     "duration": 0.071889,
     "end_time": "2022-09-26T07:48:54.920426",
     "exception": false,
     "start_time": "2022-09-26T07:48:54.848537",
     "status": "completed"
    },
    "tags": []
   },
   "outputs": [
    {
     "data": {
      "text/html": [
       "<div>\n",
       "<style scoped>\n",
       "    .dataframe tbody tr th:only-of-type {\n",
       "        vertical-align: middle;\n",
       "    }\n",
       "\n",
       "    .dataframe tbody tr th {\n",
       "        vertical-align: top;\n",
       "    }\n",
       "\n",
       "    .dataframe thead th {\n",
       "        text-align: right;\n",
       "    }\n",
       "</style>\n",
       "<table border=\"1\" class=\"dataframe\">\n",
       "  <thead>\n",
       "    <tr style=\"text-align: right;\">\n",
       "      <th></th>\n",
       "      <th>A</th>\n",
       "      <th>B</th>\n",
       "      <th>C</th>\n",
       "      <th>D</th>\n",
       "    </tr>\n",
       "  </thead>\n",
       "  <tbody>\n",
       "    <tr>\n",
       "      <th>b</th>\n",
       "      <td>0.755281</td>\n",
       "      <td>-1.133549</td>\n",
       "      <td>0.266843</td>\n",
       "      <td>1.397699</td>\n",
       "    </tr>\n",
       "    <tr>\n",
       "      <th>d</th>\n",
       "      <td>0.516781</td>\n",
       "      <td>-1.004286</td>\n",
       "      <td>0.052826</td>\n",
       "      <td>-0.476314</td>\n",
       "    </tr>\n",
       "  </tbody>\n",
       "</table>\n",
       "</div>"
      ],
      "text/plain": [
       "          A         B         C         D\n",
       "b  0.755281 -1.133549  0.266843  1.397699\n",
       "d  0.516781 -1.004286  0.052826 -0.476314"
      ]
     },
     "execution_count": 140,
     "metadata": {},
     "output_type": "execute_result"
    }
   ],
   "source": [
    "df1.loc[lambda df: df['A'] > 0, :]"
   ]
  },
  {
   "cell_type": "code",
   "execution_count": 141,
   "id": "c037aa8d",
   "metadata": {
    "execution": {
     "iopub.execute_input": "2022-09-26T07:48:55.110835Z",
     "iopub.status.busy": "2022-09-26T07:48:55.109647Z",
     "iopub.status.idle": "2022-09-26T07:48:55.122731Z",
     "shell.execute_reply": "2022-09-26T07:48:55.121806Z"
    },
    "papermill": {
     "duration": 0.146512,
     "end_time": "2022-09-26T07:48:55.125572",
     "exception": false,
     "start_time": "2022-09-26T07:48:54.979060",
     "status": "completed"
    },
    "tags": []
   },
   "outputs": [
    {
     "data": {
      "text/html": [
       "<div>\n",
       "<style scoped>\n",
       "    .dataframe tbody tr th:only-of-type {\n",
       "        vertical-align: middle;\n",
       "    }\n",
       "\n",
       "    .dataframe tbody tr th {\n",
       "        vertical-align: top;\n",
       "    }\n",
       "\n",
       "    .dataframe thead th {\n",
       "        text-align: right;\n",
       "    }\n",
       "</style>\n",
       "<table border=\"1\" class=\"dataframe\">\n",
       "  <thead>\n",
       "    <tr style=\"text-align: right;\">\n",
       "      <th></th>\n",
       "      <th>A</th>\n",
       "      <th>B</th>\n",
       "    </tr>\n",
       "  </thead>\n",
       "  <tbody>\n",
       "    <tr>\n",
       "      <th>a</th>\n",
       "      <td>-0.982151</td>\n",
       "      <td>-0.191299</td>\n",
       "    </tr>\n",
       "    <tr>\n",
       "      <th>b</th>\n",
       "      <td>0.755281</td>\n",
       "      <td>-1.133549</td>\n",
       "    </tr>\n",
       "    <tr>\n",
       "      <th>c</th>\n",
       "      <td>-0.042602</td>\n",
       "      <td>0.366752</td>\n",
       "    </tr>\n",
       "    <tr>\n",
       "      <th>d</th>\n",
       "      <td>0.516781</td>\n",
       "      <td>-1.004286</td>\n",
       "    </tr>\n",
       "    <tr>\n",
       "      <th>e</th>\n",
       "      <td>-0.656725</td>\n",
       "      <td>-0.681671</td>\n",
       "    </tr>\n",
       "    <tr>\n",
       "      <th>f</th>\n",
       "      <td>-0.155641</td>\n",
       "      <td>1.208962</td>\n",
       "    </tr>\n",
       "  </tbody>\n",
       "</table>\n",
       "</div>"
      ],
      "text/plain": [
       "          A         B\n",
       "a -0.982151 -0.191299\n",
       "b  0.755281 -1.133549\n",
       "c -0.042602  0.366752\n",
       "d  0.516781 -1.004286\n",
       "e -0.656725 -0.681671\n",
       "f -0.155641  1.208962"
      ]
     },
     "execution_count": 141,
     "metadata": {},
     "output_type": "execute_result"
    }
   ],
   "source": [
    "df1.loc[:, lambda df: ['A', 'B']]   #using loc"
   ]
  },
  {
   "cell_type": "code",
   "execution_count": 142,
   "id": "cfe33985",
   "metadata": {
    "execution": {
     "iopub.execute_input": "2022-09-26T07:48:55.308034Z",
     "iopub.status.busy": "2022-09-26T07:48:55.307378Z",
     "iopub.status.idle": "2022-09-26T07:48:55.320018Z",
     "shell.execute_reply": "2022-09-26T07:48:55.319072Z"
    },
    "papermill": {
     "duration": 0.103311,
     "end_time": "2022-09-26T07:48:55.321876",
     "exception": false,
     "start_time": "2022-09-26T07:48:55.218565",
     "status": "completed"
    },
    "tags": []
   },
   "outputs": [
    {
     "data": {
      "text/html": [
       "<div>\n",
       "<style scoped>\n",
       "    .dataframe tbody tr th:only-of-type {\n",
       "        vertical-align: middle;\n",
       "    }\n",
       "\n",
       "    .dataframe tbody tr th {\n",
       "        vertical-align: top;\n",
       "    }\n",
       "\n",
       "    .dataframe thead th {\n",
       "        text-align: right;\n",
       "    }\n",
       "</style>\n",
       "<table border=\"1\" class=\"dataframe\">\n",
       "  <thead>\n",
       "    <tr style=\"text-align: right;\">\n",
       "      <th></th>\n",
       "      <th>A</th>\n",
       "      <th>B</th>\n",
       "    </tr>\n",
       "  </thead>\n",
       "  <tbody>\n",
       "    <tr>\n",
       "      <th>a</th>\n",
       "      <td>-0.982151</td>\n",
       "      <td>-0.191299</td>\n",
       "    </tr>\n",
       "    <tr>\n",
       "      <th>b</th>\n",
       "      <td>0.755281</td>\n",
       "      <td>-1.133549</td>\n",
       "    </tr>\n",
       "    <tr>\n",
       "      <th>c</th>\n",
       "      <td>-0.042602</td>\n",
       "      <td>0.366752</td>\n",
       "    </tr>\n",
       "    <tr>\n",
       "      <th>d</th>\n",
       "      <td>0.516781</td>\n",
       "      <td>-1.004286</td>\n",
       "    </tr>\n",
       "    <tr>\n",
       "      <th>e</th>\n",
       "      <td>-0.656725</td>\n",
       "      <td>-0.681671</td>\n",
       "    </tr>\n",
       "    <tr>\n",
       "      <th>f</th>\n",
       "      <td>-0.155641</td>\n",
       "      <td>1.208962</td>\n",
       "    </tr>\n",
       "  </tbody>\n",
       "</table>\n",
       "</div>"
      ],
      "text/plain": [
       "          A         B\n",
       "a -0.982151 -0.191299\n",
       "b  0.755281 -1.133549\n",
       "c -0.042602  0.366752\n",
       "d  0.516781 -1.004286\n",
       "e -0.656725 -0.681671\n",
       "f -0.155641  1.208962"
      ]
     },
     "execution_count": 142,
     "metadata": {},
     "output_type": "execute_result"
    }
   ],
   "source": [
    "df1.iloc[:, lambda df: [0, 1]]    #using iloc"
   ]
  },
  {
   "cell_type": "code",
   "execution_count": 143,
   "id": "316dfe21",
   "metadata": {
    "execution": {
     "iopub.execute_input": "2022-09-26T07:48:55.498233Z",
     "iopub.status.busy": "2022-09-26T07:48:55.497689Z",
     "iopub.status.idle": "2022-09-26T07:48:55.509262Z",
     "shell.execute_reply": "2022-09-26T07:48:55.508411Z"
    },
    "papermill": {
     "duration": 0.104237,
     "end_time": "2022-09-26T07:48:55.511825",
     "exception": false,
     "start_time": "2022-09-26T07:48:55.407588",
     "status": "completed"
    },
    "tags": []
   },
   "outputs": [
    {
     "data": {
      "text/plain": [
       "a   -0.982151\n",
       "b    0.755281\n",
       "c   -0.042602\n",
       "d    0.516781\n",
       "e   -0.656725\n",
       "f   -0.155641\n",
       "Name: A, dtype: float64"
      ]
     },
     "execution_count": 143,
     "metadata": {},
     "output_type": "execute_result"
    }
   ],
   "source": [
    "df1[lambda df: df.columns[0]]"
   ]
  },
  {
   "cell_type": "code",
   "execution_count": 144,
   "id": "e739df1d",
   "metadata": {
    "execution": {
     "iopub.execute_input": "2022-09-26T07:48:55.658277Z",
     "iopub.status.busy": "2022-09-26T07:48:55.657922Z",
     "iopub.status.idle": "2022-09-26T07:48:55.666247Z",
     "shell.execute_reply": "2022-09-26T07:48:55.665310Z"
    },
    "papermill": {
     "duration": 0.070312,
     "end_time": "2022-09-26T07:48:55.668293",
     "exception": false,
     "start_time": "2022-09-26T07:48:55.597981",
     "status": "completed"
    },
    "tags": []
   },
   "outputs": [
    {
     "data": {
      "text/plain": [
       "b    0.755281\n",
       "d    0.516781\n",
       "Name: A, dtype: float64"
      ]
     },
     "execution_count": 144,
     "metadata": {},
     "output_type": "execute_result"
    }
   ],
   "source": [
    "#You can use callable indexing in Series.\n",
    "\n",
    "df1['A'].loc[lambda s: s > 0]"
   ]
  },
  {
   "cell_type": "markdown",
   "id": "f51040a1",
   "metadata": {
    "papermill": {
     "duration": 0.058818,
     "end_time": "2022-09-26T07:48:55.788789",
     "exception": false,
     "start_time": "2022-09-26T07:48:55.729971",
     "status": "completed"
    },
    "tags": []
   },
   "source": [
    "## Indexing and selecting data In DataFrame | Combining positional and label-based indexing\n",
    "If you wish to get the 0th and the 2nd elements from the index in the ‘A’ column, you can do:"
   ]
  },
  {
   "cell_type": "code",
   "execution_count": 145,
   "id": "e12155f8",
   "metadata": {
    "execution": {
     "iopub.execute_input": "2022-09-26T07:48:55.908710Z",
     "iopub.status.busy": "2022-09-26T07:48:55.907758Z",
     "iopub.status.idle": "2022-09-26T07:48:55.918063Z",
     "shell.execute_reply": "2022-09-26T07:48:55.917066Z"
    },
    "papermill": {
     "duration": 0.072841,
     "end_time": "2022-09-26T07:48:55.920063",
     "exception": false,
     "start_time": "2022-09-26T07:48:55.847222",
     "status": "completed"
    },
    "tags": []
   },
   "outputs": [
    {
     "data": {
      "text/html": [
       "<div>\n",
       "<style scoped>\n",
       "    .dataframe tbody tr th:only-of-type {\n",
       "        vertical-align: middle;\n",
       "    }\n",
       "\n",
       "    .dataframe tbody tr th {\n",
       "        vertical-align: top;\n",
       "    }\n",
       "\n",
       "    .dataframe thead th {\n",
       "        text-align: right;\n",
       "    }\n",
       "</style>\n",
       "<table border=\"1\" class=\"dataframe\">\n",
       "  <thead>\n",
       "    <tr style=\"text-align: right;\">\n",
       "      <th></th>\n",
       "      <th>A</th>\n",
       "      <th>B</th>\n",
       "    </tr>\n",
       "  </thead>\n",
       "  <tbody>\n",
       "    <tr>\n",
       "      <th>a</th>\n",
       "      <td>1</td>\n",
       "      <td>4</td>\n",
       "    </tr>\n",
       "    <tr>\n",
       "      <th>b</th>\n",
       "      <td>2</td>\n",
       "      <td>5</td>\n",
       "    </tr>\n",
       "    <tr>\n",
       "      <th>c</th>\n",
       "      <td>3</td>\n",
       "      <td>6</td>\n",
       "    </tr>\n",
       "  </tbody>\n",
       "</table>\n",
       "</div>"
      ],
      "text/plain": [
       "   A  B\n",
       "a  1  4\n",
       "b  2  5\n",
       "c  3  6"
      ]
     },
     "execution_count": 145,
     "metadata": {},
     "output_type": "execute_result"
    }
   ],
   "source": [
    "dfd = pd.DataFrame({'A': [1, 2, 3],\n",
    "   ....:                     'B': [4, 5, 6]},\n",
    "   ....:                    index=list('abc'))\n",
    "dfd"
   ]
  },
  {
   "cell_type": "code",
   "execution_count": 146,
   "id": "f9be794e",
   "metadata": {
    "execution": {
     "iopub.execute_input": "2022-09-26T07:48:56.040848Z",
     "iopub.status.busy": "2022-09-26T07:48:56.040464Z",
     "iopub.status.idle": "2022-09-26T07:48:56.049272Z",
     "shell.execute_reply": "2022-09-26T07:48:56.048282Z"
    },
    "papermill": {
     "duration": 0.072309,
     "end_time": "2022-09-26T07:48:56.051328",
     "exception": false,
     "start_time": "2022-09-26T07:48:55.979019",
     "status": "completed"
    },
    "tags": []
   },
   "outputs": [
    {
     "data": {
      "text/plain": [
       "a    1\n",
       "c    3\n",
       "Name: A, dtype: int64"
      ]
     },
     "execution_count": 146,
     "metadata": {},
     "output_type": "execute_result"
    }
   ],
   "source": [
    "#Getting value of column \"A\" at row or Position 0,2:\n",
    "#dfd.loc[[\"a\",\"c\"],'A']\n",
    "\n",
    "dfd.loc[dfd.index[[0,2]],'A']"
   ]
  },
  {
   "cell_type": "markdown",
   "id": "6fe9aa40",
   "metadata": {
    "papermill": {
     "duration": 0.059202,
     "end_time": "2022-09-26T07:48:56.171141",
     "exception": false,
     "start_time": "2022-09-26T07:48:56.111939",
     "status": "completed"
    },
    "tags": []
   },
   "source": [
    "> ## ✍️ Note:\n",
    "> This can also be expressed using **.iloc**, by explicitly getting locations on the indexers, and using positional indexing to select things."
   ]
  },
  {
   "cell_type": "code",
   "execution_count": 147,
   "id": "5e0056f4",
   "metadata": {
    "execution": {
     "iopub.execute_input": "2022-09-26T07:48:56.301652Z",
     "iopub.status.busy": "2022-09-26T07:48:56.301276Z",
     "iopub.status.idle": "2022-09-26T07:48:56.309068Z",
     "shell.execute_reply": "2022-09-26T07:48:56.308202Z"
    },
    "papermill": {
     "duration": 0.077864,
     "end_time": "2022-09-26T07:48:56.310987",
     "exception": false,
     "start_time": "2022-09-26T07:48:56.233123",
     "status": "completed"
    },
    "tags": []
   },
   "outputs": [
    {
     "data": {
      "text/plain": [
       "a    1\n",
       "c    3\n",
       "Name: A, dtype: int64"
      ]
     },
     "execution_count": 147,
     "metadata": {},
     "output_type": "execute_result"
    }
   ],
   "source": [
    "dfd.iloc[[0, 2], dfd.columns.get_loc('A')]"
   ]
  },
  {
   "cell_type": "code",
   "execution_count": 148,
   "id": "ae949e0d",
   "metadata": {
    "execution": {
     "iopub.execute_input": "2022-09-26T07:48:56.431554Z",
     "iopub.status.busy": "2022-09-26T07:48:56.430615Z",
     "iopub.status.idle": "2022-09-26T07:48:56.440851Z",
     "shell.execute_reply": "2022-09-26T07:48:56.439866Z"
    },
    "papermill": {
     "duration": 0.072656,
     "end_time": "2022-09-26T07:48:56.442837",
     "exception": false,
     "start_time": "2022-09-26T07:48:56.370181",
     "status": "completed"
    },
    "tags": []
   },
   "outputs": [
    {
     "data": {
      "text/html": [
       "<div>\n",
       "<style scoped>\n",
       "    .dataframe tbody tr th:only-of-type {\n",
       "        vertical-align: middle;\n",
       "    }\n",
       "\n",
       "    .dataframe tbody tr th {\n",
       "        vertical-align: top;\n",
       "    }\n",
       "\n",
       "    .dataframe thead th {\n",
       "        text-align: right;\n",
       "    }\n",
       "</style>\n",
       "<table border=\"1\" class=\"dataframe\">\n",
       "  <thead>\n",
       "    <tr style=\"text-align: right;\">\n",
       "      <th></th>\n",
       "      <th>A</th>\n",
       "      <th>B</th>\n",
       "    </tr>\n",
       "  </thead>\n",
       "  <tbody>\n",
       "    <tr>\n",
       "      <th>a</th>\n",
       "      <td>1</td>\n",
       "      <td>4</td>\n",
       "    </tr>\n",
       "    <tr>\n",
       "      <th>c</th>\n",
       "      <td>3</td>\n",
       "      <td>6</td>\n",
       "    </tr>\n",
       "  </tbody>\n",
       "</table>\n",
       "</div>"
      ],
      "text/plain": [
       "   A  B\n",
       "a  1  4\n",
       "c  3  6"
      ]
     },
     "execution_count": 148,
     "metadata": {},
     "output_type": "execute_result"
    }
   ],
   "source": [
    "dfd.iloc[[0, 2], dfd.columns.get_indexer(['A', 'B'])]"
   ]
  },
  {
   "cell_type": "markdown",
   "id": "99e78ea2",
   "metadata": {
    "papermill": {
     "duration": 0.059765,
     "end_time": "2022-09-26T07:48:56.561858",
     "exception": false,
     "start_time": "2022-09-26T07:48:56.502093",
     "status": "completed"
    },
    "tags": []
   },
   "source": [
    "## Indexing and selecting data In DataFrame | Indexing with list with missing labels is deprecated:\n",
    "- In prior versions, using .loc[list-of-labels] would work as long as at least 1 of the keys was found (otherwise it would raise a KeyError). This behavior was changed and will now raise a KeyError if at least one label is missing. The recommended alternative is to use .reindex().\n",
    "\n",
    "For example."
   ]
  },
  {
   "cell_type": "code",
   "execution_count": 149,
   "id": "8fef7030",
   "metadata": {
    "execution": {
     "iopub.execute_input": "2022-09-26T07:48:56.681776Z",
     "iopub.status.busy": "2022-09-26T07:48:56.681391Z",
     "iopub.status.idle": "2022-09-26T07:48:56.688306Z",
     "shell.execute_reply": "2022-09-26T07:48:56.687434Z"
    },
    "papermill": {
     "duration": 0.068932,
     "end_time": "2022-09-26T07:48:56.690359",
     "exception": false,
     "start_time": "2022-09-26T07:48:56.621427",
     "status": "completed"
    },
    "tags": []
   },
   "outputs": [
    {
     "data": {
      "text/plain": [
       "0    1\n",
       "1    2\n",
       "2    3\n",
       "dtype: int64"
      ]
     },
     "execution_count": 149,
     "metadata": {},
     "output_type": "execute_result"
    }
   ],
   "source": [
    "s = pd.Series([1, 2, 3])\n",
    "s"
   ]
  },
  {
   "cell_type": "code",
   "execution_count": 150,
   "id": "f077e62a",
   "metadata": {
    "execution": {
     "iopub.execute_input": "2022-09-26T07:48:56.810929Z",
     "iopub.status.busy": "2022-09-26T07:48:56.810031Z",
     "iopub.status.idle": "2022-09-26T07:48:56.818036Z",
     "shell.execute_reply": "2022-09-26T07:48:56.816959Z"
    },
    "papermill": {
     "duration": 0.070103,
     "end_time": "2022-09-26T07:48:56.820192",
     "exception": false,
     "start_time": "2022-09-26T07:48:56.750089",
     "status": "completed"
    },
    "tags": []
   },
   "outputs": [
    {
     "data": {
      "text/plain": [
       "1    2\n",
       "2    3\n",
       "dtype: int64"
      ]
     },
     "execution_count": 150,
     "metadata": {},
     "output_type": "execute_result"
    }
   ],
   "source": [
    "s.loc[[1, 2]]\n"
   ]
  },
  {
   "cell_type": "markdown",
   "id": "6d870bbe",
   "metadata": {
    "papermill": {
     "duration": 0.058866,
     "end_time": "2022-09-26T07:48:56.981307",
     "exception": false,
     "start_time": "2022-09-26T07:48:56.922441",
     "status": "completed"
    },
    "tags": []
   },
   "source": [
    "``` python \n",
    "# Previous Behavior:\n",
    "\n",
    "s.loc[[1, 2, 3]]\n",
    "Out[4]:\n",
    "1    2.0\n",
    "2    3.0\n",
    "3    NaN\n",
    "dtype: float64\n",
    "\n",
    "#Current Behavior:\n",
    "\n",
    "s.loc[[1, 2, 3]]\n",
    "---------------------------------------------------------------------------\n",
    "KeyError                                  Traceback (most recent call last)\n",
    "/tmp/ipykernel_17/3597896592.py in <module>\n",
    "----> 1 s.loc[[1, 2, 3]]\n",
    "----Other Error removed----\n",
    "\n",
    "KeyError: '[3] not in index'\n",
    "    \n",
    "```\n"
   ]
  },
  {
   "cell_type": "markdown",
   "id": "e2583282",
   "metadata": {
    "papermill": {
     "duration": 0.060073,
     "end_time": "2022-09-26T07:48:57.102091",
     "exception": false,
     "start_time": "2022-09-26T07:48:57.042018",
     "status": "completed"
    },
    "tags": []
   },
   "source": [
    "### Indexing with list with missing labels is deprecated: | Reindexing\n",
    "- The idiomatic way to achieve selecting potentially not-found elements is via .reindex(). See also the section on reindexing."
   ]
  },
  {
   "cell_type": "code",
   "execution_count": 151,
   "id": "cf6f9b07",
   "metadata": {
    "execution": {
     "iopub.execute_input": "2022-09-26T07:48:57.225228Z",
     "iopub.status.busy": "2022-09-26T07:48:57.224868Z",
     "iopub.status.idle": "2022-09-26T07:48:57.233329Z",
     "shell.execute_reply": "2022-09-26T07:48:57.232233Z"
    },
    "papermill": {
     "duration": 0.071885,
     "end_time": "2022-09-26T07:48:57.235610",
     "exception": false,
     "start_time": "2022-09-26T07:48:57.163725",
     "status": "completed"
    },
    "tags": []
   },
   "outputs": [
    {
     "data": {
      "text/plain": [
       "1    2.0\n",
       "2    3.0\n",
       "3    NaN\n",
       "dtype: float64"
      ]
     },
     "execution_count": 151,
     "metadata": {},
     "output_type": "execute_result"
    }
   ],
   "source": [
    "s.reindex([1, 2, 3])"
   ]
  },
  {
   "cell_type": "markdown",
   "id": "0087610a",
   "metadata": {
    "papermill": {
     "duration": 0.059408,
     "end_time": "2022-09-26T07:48:57.356222",
     "exception": false,
     "start_time": "2022-09-26T07:48:57.296814",
     "status": "completed"
    },
    "tags": []
   },
   "source": [
    "> #### Alternatively, if you want to select only valid keys, the following is idiomatic and efficient; it is guaranteed to preserve the dtype of the selection."
   ]
  },
  {
   "cell_type": "code",
   "execution_count": 152,
   "id": "af13ffd4",
   "metadata": {
    "execution": {
     "iopub.execute_input": "2022-09-26T07:48:57.478561Z",
     "iopub.status.busy": "2022-09-26T07:48:57.477502Z",
     "iopub.status.idle": "2022-09-26T07:48:57.488213Z",
     "shell.execute_reply": "2022-09-26T07:48:57.487083Z"
    },
    "papermill": {
     "duration": 0.074889,
     "end_time": "2022-09-26T07:48:57.490544",
     "exception": false,
     "start_time": "2022-09-26T07:48:57.415655",
     "status": "completed"
    },
    "tags": []
   },
   "outputs": [
    {
     "data": {
      "text/plain": [
       "1    2\n",
       "2    3\n",
       "dtype: int64"
      ]
     },
     "execution_count": 152,
     "metadata": {},
     "output_type": "execute_result"
    }
   ],
   "source": [
    "labels = [1, 2, 3]\n",
    "s.loc[s.index.intersection(labels)]"
   ]
  },
  {
   "cell_type": "markdown",
   "id": "bede4584",
   "metadata": {
    "papermill": {
     "duration": 0.061215,
     "end_time": "2022-09-26T07:48:57.617423",
     "exception": false,
     "start_time": "2022-09-26T07:48:57.556208",
     "status": "completed"
    },
    "tags": []
   },
   "source": [
    "> #### Having a duplicated index will raise for a .reindex():"
   ]
  },
  {
   "cell_type": "code",
   "execution_count": 153,
   "id": "008f3920",
   "metadata": {
    "execution": {
     "iopub.execute_input": "2022-09-26T07:48:57.740805Z",
     "iopub.status.busy": "2022-09-26T07:48:57.739894Z",
     "iopub.status.idle": "2022-09-26T07:48:57.745458Z",
     "shell.execute_reply": "2022-09-26T07:48:57.744660Z"
    },
    "papermill": {
     "duration": 0.069284,
     "end_time": "2022-09-26T07:48:57.747435",
     "exception": false,
     "start_time": "2022-09-26T07:48:57.678151",
     "status": "completed"
    },
    "tags": []
   },
   "outputs": [],
   "source": [
    "s = pd.Series(np.arange(4), index=['a', 'a', 'b', 'c'])\n",
    "labels = ['c', 'd']"
   ]
  },
  {
   "cell_type": "markdown",
   "id": "de994613",
   "metadata": {
    "papermill": {
     "duration": 0.059809,
     "end_time": "2022-09-26T07:48:57.867753",
     "exception": false,
     "start_time": "2022-09-26T07:48:57.807944",
     "status": "completed"
    },
    "tags": []
   },
   "source": [
    "``` python\n",
    "s.reindex(labels)\n",
    "\n",
    "---------------------------------------------------------------------------\n",
    "ValueError                                Traceback (most recent call last)\n",
    "/tmp/ipykernel_17/3168030933.py in <module>\n",
    "----> 1 s.reindex(labels)\n",
    "\n",
    "\n",
    "----extra error----\n",
    "ValueError: cannot reindex from a duplicate axis\n",
    "  \n",
    "```\n",
    "\n"
   ]
  },
  {
   "cell_type": "code",
   "execution_count": 154,
   "id": "37976a0f",
   "metadata": {
    "execution": {
     "iopub.execute_input": "2022-09-26T07:48:57.989630Z",
     "iopub.status.busy": "2022-09-26T07:48:57.988624Z",
     "iopub.status.idle": "2022-09-26T07:48:57.999910Z",
     "shell.execute_reply": "2022-09-26T07:48:57.998942Z"
    },
    "papermill": {
     "duration": 0.07433,
     "end_time": "2022-09-26T07:48:58.002099",
     "exception": false,
     "start_time": "2022-09-26T07:48:57.927769",
     "status": "completed"
    },
    "tags": []
   },
   "outputs": [
    {
     "data": {
      "text/plain": [
       "c    3.0\n",
       "d    NaN\n",
       "dtype: float64"
      ]
     },
     "execution_count": 154,
     "metadata": {},
     "output_type": "execute_result"
    }
   ],
   "source": [
    "s.loc[s.index.intersection(labels)].reindex(labels)"
   ]
  },
  {
   "cell_type": "markdown",
   "id": "b2d80134",
   "metadata": {
    "papermill": {
     "duration": 0.059552,
     "end_time": "2022-09-26T07:48:58.122614",
     "exception": false,
     "start_time": "2022-09-26T07:48:58.063062",
     "status": "completed"
    },
    "tags": []
   },
   "source": [
    "> #### However, this would still raise if your resulting index is duplicated."
   ]
  },
  {
   "cell_type": "markdown",
   "id": "f4682ff1",
   "metadata": {
    "papermill": {
     "duration": 0.060349,
     "end_time": "2022-09-26T07:48:58.243912",
     "exception": false,
     "start_time": "2022-09-26T07:48:58.183563",
     "status": "completed"
    },
    "tags": []
   },
   "source": [
    "``` python\n",
    "\n",
    "labels = ['a', 'd']\n",
    "s.loc[s.index.intersection(labels)].reindex(labels)\n",
    "\n",
    "\n",
    "---------------------------------------------------------------------------\n",
    "ValueError                                Traceback (most recent call last)\n",
    "/tmp/ipykernel_17/2354864613.py in <module>\n",
    "      1 labels = ['a', 'd']\n",
    "----> 2 s.loc[s.index.intersection(labels)].reindex(labels)\n",
    "\n",
    "----extra error rempved----\n",
    "ValueError: cannot reindex from a duplicate axis\n",
    "    \n",
    "```"
   ]
  },
  {
   "cell_type": "markdown",
   "id": "ea0caf93",
   "metadata": {
    "papermill": {
     "duration": 0.060575,
     "end_time": "2022-09-26T07:48:58.365358",
     "exception": false,
     "start_time": "2022-09-26T07:48:58.304783",
     "status": "completed"
    },
    "tags": []
   },
   "source": [
    "## Selecting random samples:\n",
    "A random selection of rows or columns from a Series or DataFrame with the sample() method. The method will sample rows by default, and accepts a specific number of rows/columns to return, or a fraction of rows."
   ]
  },
  {
   "cell_type": "code",
   "execution_count": 155,
   "id": "67a36a25",
   "metadata": {
    "execution": {
     "iopub.execute_input": "2022-09-26T07:48:58.488550Z",
     "iopub.status.busy": "2022-09-26T07:48:58.487589Z",
     "iopub.status.idle": "2022-09-26T07:48:58.495440Z",
     "shell.execute_reply": "2022-09-26T07:48:58.494442Z"
    },
    "papermill": {
     "duration": 0.071793,
     "end_time": "2022-09-26T07:48:58.497528",
     "exception": false,
     "start_time": "2022-09-26T07:48:58.425735",
     "status": "completed"
    },
    "tags": []
   },
   "outputs": [
    {
     "data": {
      "text/plain": [
       "0    0\n",
       "1    1\n",
       "2    2\n",
       "3    3\n",
       "4    4\n",
       "5    5\n",
       "dtype: int64"
      ]
     },
     "execution_count": 155,
     "metadata": {},
     "output_type": "execute_result"
    }
   ],
   "source": [
    "s = pd.Series([0, 1, 2, 3, 4, 5])\n",
    "s"
   ]
  },
  {
   "cell_type": "code",
   "execution_count": 156,
   "id": "08ee0f4d",
   "metadata": {
    "execution": {
     "iopub.execute_input": "2022-09-26T07:48:58.622766Z",
     "iopub.status.busy": "2022-09-26T07:48:58.621824Z",
     "iopub.status.idle": "2022-09-26T07:48:58.629498Z",
     "shell.execute_reply": "2022-09-26T07:48:58.628519Z"
    },
    "papermill": {
     "duration": 0.072529,
     "end_time": "2022-09-26T07:48:58.631488",
     "exception": false,
     "start_time": "2022-09-26T07:48:58.558959",
     "status": "completed"
    },
    "tags": []
   },
   "outputs": [
    {
     "data": {
      "text/plain": [
       "0    0\n",
       "dtype: int64"
      ]
     },
     "execution_count": 156,
     "metadata": {},
     "output_type": "execute_result"
    }
   ],
   "source": [
    "s.sample() ## When no arguments are passed, returns 1 row."
   ]
  },
  {
   "cell_type": "code",
   "execution_count": 157,
   "id": "f799f37f",
   "metadata": {
    "execution": {
     "iopub.execute_input": "2022-09-26T07:48:58.755499Z",
     "iopub.status.busy": "2022-09-26T07:48:58.754609Z",
     "iopub.status.idle": "2022-09-26T07:48:58.762416Z",
     "shell.execute_reply": "2022-09-26T07:48:58.761430Z"
    },
    "papermill": {
     "duration": 0.071555,
     "end_time": "2022-09-26T07:48:58.764510",
     "exception": false,
     "start_time": "2022-09-26T07:48:58.692955",
     "status": "completed"
    },
    "tags": []
   },
   "outputs": [
    {
     "data": {
      "text/plain": [
       "5    5\n",
       "4    4\n",
       "3    3\n",
       "dtype: int64"
      ]
     },
     "execution_count": 157,
     "metadata": {},
     "output_type": "execute_result"
    }
   ],
   "source": [
    "s.sample(n=3) ## One may specify either a number of rows:"
   ]
  },
  {
   "cell_type": "code",
   "execution_count": 158,
   "id": "3bb97e22",
   "metadata": {
    "execution": {
     "iopub.execute_input": "2022-09-26T07:48:58.885524Z",
     "iopub.status.busy": "2022-09-26T07:48:58.885163Z",
     "iopub.status.idle": "2022-09-26T07:48:58.892001Z",
     "shell.execute_reply": "2022-09-26T07:48:58.891128Z"
    },
    "papermill": {
     "duration": 0.069472,
     "end_time": "2022-09-26T07:48:58.894032",
     "exception": false,
     "start_time": "2022-09-26T07:48:58.824560",
     "status": "completed"
    },
    "tags": []
   },
   "outputs": [
    {
     "data": {
      "text/plain": [
       "2    2\n",
       "5    5\n",
       "3    3\n",
       "dtype: int64"
      ]
     },
     "execution_count": 158,
     "metadata": {},
     "output_type": "execute_result"
    }
   ],
   "source": [
    "# Or a fraction of the rows:\n",
    "s.sample(frac=0.5)"
   ]
  },
  {
   "cell_type": "markdown",
   "id": "2f5b8735",
   "metadata": {
    "papermill": {
     "duration": 0.061051,
     "end_time": "2022-09-26T07:48:59.015463",
     "exception": false,
     "start_time": "2022-09-26T07:48:58.954412",
     "status": "completed"
    },
    "tags": []
   },
   "source": [
    "## Indexing and selecting data In DataFrame | Setting with enlargement:\n",
    "- The .loc / [] operations can perform enlargement when setting a non-existent key for that axis.\n",
    "\n",
    "- In the Series case this is effectively an appending operation."
   ]
  },
  {
   "cell_type": "code",
   "execution_count": 159,
   "id": "c09af8e6",
   "metadata": {
    "execution": {
     "iopub.execute_input": "2022-09-26T07:48:59.139342Z",
     "iopub.status.busy": "2022-09-26T07:48:59.138982Z",
     "iopub.status.idle": "2022-09-26T07:48:59.146179Z",
     "shell.execute_reply": "2022-09-26T07:48:59.145259Z"
    },
    "papermill": {
     "duration": 0.070928,
     "end_time": "2022-09-26T07:48:59.148135",
     "exception": false,
     "start_time": "2022-09-26T07:48:59.077207",
     "status": "completed"
    },
    "tags": []
   },
   "outputs": [
    {
     "data": {
      "text/plain": [
       "0    1\n",
       "1    2\n",
       "2    3\n",
       "dtype: int64"
      ]
     },
     "execution_count": 159,
     "metadata": {},
     "output_type": "execute_result"
    }
   ],
   "source": [
    "se = pd.Series([1, 2, 3])\n",
    "se"
   ]
  },
  {
   "cell_type": "code",
   "execution_count": 160,
   "id": "7c88f31a",
   "metadata": {
    "execution": {
     "iopub.execute_input": "2022-09-26T07:48:59.270958Z",
     "iopub.status.busy": "2022-09-26T07:48:59.270027Z",
     "iopub.status.idle": "2022-09-26T07:48:59.278593Z",
     "shell.execute_reply": "2022-09-26T07:48:59.277632Z"
    },
    "papermill": {
     "duration": 0.07189,
     "end_time": "2022-09-26T07:48:59.280676",
     "exception": false,
     "start_time": "2022-09-26T07:48:59.208786",
     "status": "completed"
    },
    "tags": []
   },
   "outputs": [
    {
     "data": {
      "text/plain": [
       "0    1.0\n",
       "1    2.0\n",
       "2    3.0\n",
       "5    5.0\n",
       "dtype: float64"
      ]
     },
     "execution_count": 160,
     "metadata": {},
     "output_type": "execute_result"
    }
   ],
   "source": [
    "se[5] = 5.    #Setting a new index 5 with value 5.0\n",
    "se"
   ]
  },
  {
   "cell_type": "code",
   "execution_count": 161,
   "id": "40ecd4b2",
   "metadata": {
    "execution": {
     "iopub.execute_input": "2022-09-26T07:48:59.402904Z",
     "iopub.status.busy": "2022-09-26T07:48:59.401979Z",
     "iopub.status.idle": "2022-09-26T07:48:59.412768Z",
     "shell.execute_reply": "2022-09-26T07:48:59.411811Z"
    },
    "papermill": {
     "duration": 0.074034,
     "end_time": "2022-09-26T07:48:59.414766",
     "exception": false,
     "start_time": "2022-09-26T07:48:59.340732",
     "status": "completed"
    },
    "tags": []
   },
   "outputs": [
    {
     "data": {
      "text/html": [
       "<div>\n",
       "<style scoped>\n",
       "    .dataframe tbody tr th:only-of-type {\n",
       "        vertical-align: middle;\n",
       "    }\n",
       "\n",
       "    .dataframe tbody tr th {\n",
       "        vertical-align: top;\n",
       "    }\n",
       "\n",
       "    .dataframe thead th {\n",
       "        text-align: right;\n",
       "    }\n",
       "</style>\n",
       "<table border=\"1\" class=\"dataframe\">\n",
       "  <thead>\n",
       "    <tr style=\"text-align: right;\">\n",
       "      <th></th>\n",
       "      <th>A</th>\n",
       "      <th>B</th>\n",
       "    </tr>\n",
       "  </thead>\n",
       "  <tbody>\n",
       "    <tr>\n",
       "      <th>0</th>\n",
       "      <td>0</td>\n",
       "      <td>1</td>\n",
       "    </tr>\n",
       "    <tr>\n",
       "      <th>1</th>\n",
       "      <td>2</td>\n",
       "      <td>3</td>\n",
       "    </tr>\n",
       "    <tr>\n",
       "      <th>2</th>\n",
       "      <td>4</td>\n",
       "      <td>5</td>\n",
       "    </tr>\n",
       "  </tbody>\n",
       "</table>\n",
       "</div>"
      ],
      "text/plain": [
       "   A  B\n",
       "0  0  1\n",
       "1  2  3\n",
       "2  4  5"
      ]
     },
     "execution_count": 161,
     "metadata": {},
     "output_type": "execute_result"
    }
   ],
   "source": [
    "dfi = pd.DataFrame(np.arange(6).reshape(3, 2),\n",
    "   .....:                    columns=['A', 'B'])\n",
    "dfi"
   ]
  },
  {
   "cell_type": "code",
   "execution_count": 162,
   "id": "097a92c7",
   "metadata": {
    "execution": {
     "iopub.execute_input": "2022-09-26T07:48:59.536953Z",
     "iopub.status.busy": "2022-09-26T07:48:59.536085Z",
     "iopub.status.idle": "2022-09-26T07:48:59.545889Z",
     "shell.execute_reply": "2022-09-26T07:48:59.544935Z"
    },
    "papermill": {
     "duration": 0.072888,
     "end_time": "2022-09-26T07:48:59.547845",
     "exception": false,
     "start_time": "2022-09-26T07:48:59.474957",
     "status": "completed"
    },
    "tags": []
   },
   "outputs": [
    {
     "data": {
      "text/html": [
       "<div>\n",
       "<style scoped>\n",
       "    .dataframe tbody tr th:only-of-type {\n",
       "        vertical-align: middle;\n",
       "    }\n",
       "\n",
       "    .dataframe tbody tr th {\n",
       "        vertical-align: top;\n",
       "    }\n",
       "\n",
       "    .dataframe thead th {\n",
       "        text-align: right;\n",
       "    }\n",
       "</style>\n",
       "<table border=\"1\" class=\"dataframe\">\n",
       "  <thead>\n",
       "    <tr style=\"text-align: right;\">\n",
       "      <th></th>\n",
       "      <th>A</th>\n",
       "      <th>B</th>\n",
       "      <th>C</th>\n",
       "    </tr>\n",
       "  </thead>\n",
       "  <tbody>\n",
       "    <tr>\n",
       "      <th>0</th>\n",
       "      <td>0</td>\n",
       "      <td>1</td>\n",
       "      <td>0</td>\n",
       "    </tr>\n",
       "    <tr>\n",
       "      <th>1</th>\n",
       "      <td>2</td>\n",
       "      <td>3</td>\n",
       "      <td>2</td>\n",
       "    </tr>\n",
       "    <tr>\n",
       "      <th>2</th>\n",
       "      <td>4</td>\n",
       "      <td>5</td>\n",
       "      <td>4</td>\n",
       "    </tr>\n",
       "  </tbody>\n",
       "</table>\n",
       "</div>"
      ],
      "text/plain": [
       "   A  B  C\n",
       "0  0  1  0\n",
       "1  2  3  2\n",
       "2  4  5  4"
      ]
     },
     "execution_count": 162,
     "metadata": {},
     "output_type": "execute_result"
    }
   ],
   "source": [
    "dfi.loc[:, 'C'] = dfi.loc[:, 'A']    #Column \"A\" value will Setting with to new column 'C'\n",
    "dfi\n"
   ]
  },
  {
   "cell_type": "code",
   "execution_count": 163,
   "id": "94f0d174",
   "metadata": {
    "execution": {
     "iopub.execute_input": "2022-09-26T07:48:59.685816Z",
     "iopub.status.busy": "2022-09-26T07:48:59.685436Z",
     "iopub.status.idle": "2022-09-26T07:48:59.696368Z",
     "shell.execute_reply": "2022-09-26T07:48:59.695503Z"
    },
    "papermill": {
     "duration": 0.088753,
     "end_time": "2022-09-26T07:48:59.698332",
     "exception": false,
     "start_time": "2022-09-26T07:48:59.609579",
     "status": "completed"
    },
    "tags": []
   },
   "outputs": [
    {
     "data": {
      "text/html": [
       "<div>\n",
       "<style scoped>\n",
       "    .dataframe tbody tr th:only-of-type {\n",
       "        vertical-align: middle;\n",
       "    }\n",
       "\n",
       "    .dataframe tbody tr th {\n",
       "        vertical-align: top;\n",
       "    }\n",
       "\n",
       "    .dataframe thead th {\n",
       "        text-align: right;\n",
       "    }\n",
       "</style>\n",
       "<table border=\"1\" class=\"dataframe\">\n",
       "  <thead>\n",
       "    <tr style=\"text-align: right;\">\n",
       "      <th></th>\n",
       "      <th>A</th>\n",
       "      <th>B</th>\n",
       "      <th>C</th>\n",
       "    </tr>\n",
       "  </thead>\n",
       "  <tbody>\n",
       "    <tr>\n",
       "      <th>0</th>\n",
       "      <td>0</td>\n",
       "      <td>1</td>\n",
       "      <td>0</td>\n",
       "    </tr>\n",
       "    <tr>\n",
       "      <th>1</th>\n",
       "      <td>2</td>\n",
       "      <td>3</td>\n",
       "      <td>2</td>\n",
       "    </tr>\n",
       "    <tr>\n",
       "      <th>2</th>\n",
       "      <td>4</td>\n",
       "      <td>5</td>\n",
       "      <td>4</td>\n",
       "    </tr>\n",
       "    <tr>\n",
       "      <th>3</th>\n",
       "      <td>5</td>\n",
       "      <td>5</td>\n",
       "      <td>5</td>\n",
       "    </tr>\n",
       "  </tbody>\n",
       "</table>\n",
       "</div>"
      ],
      "text/plain": [
       "   A  B  C\n",
       "0  0  1  0\n",
       "1  2  3  2\n",
       "2  4  5  4\n",
       "3  5  5  5"
      ]
     },
     "execution_count": 163,
     "metadata": {},
     "output_type": "execute_result"
    }
   ],
   "source": [
    "dfi.loc[3] = 5  # Setting a new row index \"3\" with value 5\n",
    "dfi"
   ]
  },
  {
   "cell_type": "markdown",
   "id": "9f5b2b87",
   "metadata": {
    "papermill": {
     "duration": 0.060184,
     "end_time": "2022-09-26T07:48:59.819722",
     "exception": false,
     "start_time": "2022-09-26T07:48:59.759538",
     "status": "completed"
    },
    "tags": []
   },
   "source": [
    "## Fast scalar value getting and setting | Indexing and selecting data In DataFrame:\n",
    "- Since indexing with [] must handle a lot of cases (single-label access, slicing, boolean indexing, etc.), it has a bit of overhead in order to figure out what you’re asking for. If you only want to access a scalar value, the fastest way is to use the at and iat methods, which are implemented on all of the data structures.\n",
    "\n",
    "- Similarly to loc, at provides label based scalar lookups, while, iat provides integer based lookups analogously to iloc"
   ]
  },
  {
   "cell_type": "code",
   "execution_count": 164,
   "id": "356ea3e9",
   "metadata": {
    "execution": {
     "iopub.execute_input": "2022-09-26T07:48:59.943267Z",
     "iopub.status.busy": "2022-09-26T07:48:59.942293Z",
     "iopub.status.idle": "2022-09-26T07:48:59.949787Z",
     "shell.execute_reply": "2022-09-26T07:48:59.948824Z"
    },
    "papermill": {
     "duration": 0.073361,
     "end_time": "2022-09-26T07:48:59.953593",
     "exception": false,
     "start_time": "2022-09-26T07:48:59.880232",
     "status": "completed"
    },
    "tags": []
   },
   "outputs": [
    {
     "name": "stdout",
     "output_type": "stream",
     "text": [
      "0    0\n",
      "1    1\n",
      "2    2\n",
      "3    3\n",
      "4    4\n",
      "5    5\n",
      "dtype: int64\n"
     ]
    },
    {
     "data": {
      "text/plain": [
       "5"
      ]
     },
     "execution_count": 164,
     "metadata": {},
     "output_type": "execute_result"
    }
   ],
   "source": [
    "print(s)\n",
    "s.iat[5]"
   ]
  },
  {
   "cell_type": "code",
   "execution_count": 165,
   "id": "592dba6a",
   "metadata": {
    "execution": {
     "iopub.execute_input": "2022-09-26T07:49:00.079528Z",
     "iopub.status.busy": "2022-09-26T07:49:00.079161Z",
     "iopub.status.idle": "2022-09-26T07:49:00.090064Z",
     "shell.execute_reply": "2022-09-26T07:49:00.088166Z"
    },
    "papermill": {
     "duration": 0.077243,
     "end_time": "2022-09-26T07:49:00.092832",
     "exception": false,
     "start_time": "2022-09-26T07:49:00.015589",
     "status": "completed"
    },
    "tags": []
   },
   "outputs": [
    {
     "name": "stdout",
     "output_type": "stream",
     "text": [
      "                   A         B         C         D\n",
      "2000-01-01 -1.366566 -1.486817  0.376649  1.000296\n",
      "2000-01-02  0.324335  0.756011  0.143238  0.129565\n",
      "2000-01-03  0.742780 -1.673545  2.514546 -0.280378\n",
      "2000-01-04  1.120756  0.345513 -0.484127 -0.063935\n",
      "2000-01-05  1.376837 -1.656936 -1.321427  0.461674\n",
      "2000-01-06  0.347482  0.273647 -0.667375 -1.115575\n",
      "2000-01-07  0.074003  1.102945  0.792670 -1.166127\n",
      "2000-01-08  0.058414 -1.550657 -0.354937  0.527594\n"
     ]
    },
    {
     "data": {
      "text/plain": [
       "0.3474815265020648"
      ]
     },
     "execution_count": 165,
     "metadata": {},
     "output_type": "execute_result"
    }
   ],
   "source": [
    "print(df)\n",
    "\n",
    "df.at[dates[5], 'A']"
   ]
  },
  {
   "cell_type": "code",
   "execution_count": 166,
   "id": "bf3271f2",
   "metadata": {
    "execution": {
     "iopub.execute_input": "2022-09-26T07:49:00.217333Z",
     "iopub.status.busy": "2022-09-26T07:49:00.216703Z",
     "iopub.status.idle": "2022-09-26T07:49:00.223118Z",
     "shell.execute_reply": "2022-09-26T07:49:00.222189Z"
    },
    "papermill": {
     "duration": 0.070566,
     "end_time": "2022-09-26T07:49:00.225067",
     "exception": false,
     "start_time": "2022-09-26T07:49:00.154501",
     "status": "completed"
    },
    "tags": []
   },
   "outputs": [
    {
     "data": {
      "text/plain": [
       "1.1207559826722084"
      ]
     },
     "execution_count": 166,
     "metadata": {},
     "output_type": "execute_result"
    }
   ],
   "source": [
    "df.iat[3, 0]"
   ]
  },
  {
   "cell_type": "markdown",
   "id": "c2731c50",
   "metadata": {
    "papermill": {
     "duration": 0.061012,
     "end_time": "2022-09-26T07:49:00.346987",
     "exception": false,
     "start_time": "2022-09-26T07:49:00.285975",
     "status": "completed"
    },
    "tags": []
   },
   "source": [
    ">You can also set using these same indexers."
   ]
  },
  {
   "cell_type": "code",
   "execution_count": 167,
   "id": "31132e4e",
   "metadata": {
    "execution": {
     "iopub.execute_input": "2022-09-26T07:49:00.471170Z",
     "iopub.status.busy": "2022-09-26T07:49:00.470222Z",
     "iopub.status.idle": "2022-09-26T07:49:00.485546Z",
     "shell.execute_reply": "2022-09-26T07:49:00.484528Z"
    },
    "papermill": {
     "duration": 0.080002,
     "end_time": "2022-09-26T07:49:00.487567",
     "exception": false,
     "start_time": "2022-09-26T07:49:00.407565",
     "status": "completed"
    },
    "tags": []
   },
   "outputs": [
    {
     "data": {
      "text/html": [
       "<div>\n",
       "<style scoped>\n",
       "    .dataframe tbody tr th:only-of-type {\n",
       "        vertical-align: middle;\n",
       "    }\n",
       "\n",
       "    .dataframe tbody tr th {\n",
       "        vertical-align: top;\n",
       "    }\n",
       "\n",
       "    .dataframe thead th {\n",
       "        text-align: right;\n",
       "    }\n",
       "</style>\n",
       "<table border=\"1\" class=\"dataframe\">\n",
       "  <thead>\n",
       "    <tr style=\"text-align: right;\">\n",
       "      <th></th>\n",
       "      <th>A</th>\n",
       "      <th>B</th>\n",
       "      <th>C</th>\n",
       "      <th>D</th>\n",
       "      <th>E</th>\n",
       "    </tr>\n",
       "  </thead>\n",
       "  <tbody>\n",
       "    <tr>\n",
       "      <th>2000-01-01</th>\n",
       "      <td>-1.366566</td>\n",
       "      <td>-1.486817</td>\n",
       "      <td>0.376649</td>\n",
       "      <td>1.000296</td>\n",
       "      <td>NaN</td>\n",
       "    </tr>\n",
       "    <tr>\n",
       "      <th>2000-01-02</th>\n",
       "      <td>0.324335</td>\n",
       "      <td>0.756011</td>\n",
       "      <td>0.143238</td>\n",
       "      <td>0.129565</td>\n",
       "      <td>NaN</td>\n",
       "    </tr>\n",
       "    <tr>\n",
       "      <th>2000-01-03</th>\n",
       "      <td>0.742780</td>\n",
       "      <td>-1.673545</td>\n",
       "      <td>2.514546</td>\n",
       "      <td>-0.280378</td>\n",
       "      <td>NaN</td>\n",
       "    </tr>\n",
       "    <tr>\n",
       "      <th>2000-01-04</th>\n",
       "      <td>7.000000</td>\n",
       "      <td>0.345513</td>\n",
       "      <td>-0.484127</td>\n",
       "      <td>-0.063935</td>\n",
       "      <td>NaN</td>\n",
       "    </tr>\n",
       "    <tr>\n",
       "      <th>2000-01-05</th>\n",
       "      <td>1.376837</td>\n",
       "      <td>-1.656936</td>\n",
       "      <td>-1.321427</td>\n",
       "      <td>0.461674</td>\n",
       "      <td>NaN</td>\n",
       "    </tr>\n",
       "    <tr>\n",
       "      <th>2000-01-06</th>\n",
       "      <td>0.347482</td>\n",
       "      <td>0.273647</td>\n",
       "      <td>-0.667375</td>\n",
       "      <td>-1.115575</td>\n",
       "      <td>7.0</td>\n",
       "    </tr>\n",
       "    <tr>\n",
       "      <th>2000-01-07</th>\n",
       "      <td>0.074003</td>\n",
       "      <td>1.102945</td>\n",
       "      <td>0.792670</td>\n",
       "      <td>-1.166127</td>\n",
       "      <td>NaN</td>\n",
       "    </tr>\n",
       "    <tr>\n",
       "      <th>2000-01-08</th>\n",
       "      <td>0.058414</td>\n",
       "      <td>-1.550657</td>\n",
       "      <td>-0.354937</td>\n",
       "      <td>0.527594</td>\n",
       "      <td>NaN</td>\n",
       "    </tr>\n",
       "  </tbody>\n",
       "</table>\n",
       "</div>"
      ],
      "text/plain": [
       "                   A         B         C         D    E\n",
       "2000-01-01 -1.366566 -1.486817  0.376649  1.000296  NaN\n",
       "2000-01-02  0.324335  0.756011  0.143238  0.129565  NaN\n",
       "2000-01-03  0.742780 -1.673545  2.514546 -0.280378  NaN\n",
       "2000-01-04  7.000000  0.345513 -0.484127 -0.063935  NaN\n",
       "2000-01-05  1.376837 -1.656936 -1.321427  0.461674  NaN\n",
       "2000-01-06  0.347482  0.273647 -0.667375 -1.115575  7.0\n",
       "2000-01-07  0.074003  1.102945  0.792670 -1.166127  NaN\n",
       "2000-01-08  0.058414 -1.550657 -0.354937  0.527594  NaN"
      ]
     },
     "execution_count": 167,
     "metadata": {},
     "output_type": "execute_result"
    }
   ],
   "source": [
    "df.at[dates[5], 'E'] = 7\n",
    "df.iat[3, 0] = 7\n",
    "df"
   ]
  },
  {
   "cell_type": "markdown",
   "id": "18a0cd2c",
   "metadata": {
    "papermill": {
     "duration": 0.104607,
     "end_time": "2022-09-26T07:49:00.653786",
     "exception": false,
     "start_time": "2022-09-26T07:49:00.549179",
     "status": "completed"
    },
    "tags": []
   },
   "source": [
    "## Boolean indexing:\n",
    "Another common operation is the use of boolean vectors to filter the data. The operators are: | for or, & for and, and ~ for not. These must be grouped by using parentheses, since by default Python will evaluate an expression such as df['A'] > 2 & df['B'] < 3 as df['A'] > (2 & df['B']) < 3, while the desired evaluation order is (df['A'] > 2) & (df['B'] < 3).\n"
   ]
  },
  {
   "cell_type": "code",
   "execution_count": 168,
   "id": "e9c8fdb3",
   "metadata": {
    "execution": {
     "iopub.execute_input": "2022-09-26T07:49:00.778942Z",
     "iopub.status.busy": "2022-09-26T07:49:00.778268Z",
     "iopub.status.idle": "2022-09-26T07:49:00.785413Z",
     "shell.execute_reply": "2022-09-26T07:49:00.784537Z"
    },
    "papermill": {
     "duration": 0.072329,
     "end_time": "2022-09-26T07:49:00.787372",
     "exception": false,
     "start_time": "2022-09-26T07:49:00.715043",
     "status": "completed"
    },
    "tags": []
   },
   "outputs": [
    {
     "data": {
      "text/plain": [
       "0   -3\n",
       "1   -2\n",
       "2   -1\n",
       "3    0\n",
       "4    1\n",
       "5    2\n",
       "6    3\n",
       "dtype: int64"
      ]
     },
     "execution_count": 168,
     "metadata": {},
     "output_type": "execute_result"
    }
   ],
   "source": [
    "s = pd.Series(range(-3, 4))\n",
    "s"
   ]
  },
  {
   "cell_type": "code",
   "execution_count": 169,
   "id": "e88a415f",
   "metadata": {
    "execution": {
     "iopub.execute_input": "2022-09-26T07:49:00.912079Z",
     "iopub.status.busy": "2022-09-26T07:49:00.911413Z",
     "iopub.status.idle": "2022-09-26T07:49:00.918637Z",
     "shell.execute_reply": "2022-09-26T07:49:00.917700Z"
    },
    "papermill": {
     "duration": 0.072033,
     "end_time": "2022-09-26T07:49:00.920864",
     "exception": false,
     "start_time": "2022-09-26T07:49:00.848831",
     "status": "completed"
    },
    "tags": []
   },
   "outputs": [
    {
     "data": {
      "text/plain": [
       "4    1\n",
       "5    2\n",
       "6    3\n",
       "dtype: int64"
      ]
     },
     "execution_count": 169,
     "metadata": {},
     "output_type": "execute_result"
    }
   ],
   "source": [
    "s[s > 0]"
   ]
  },
  {
   "cell_type": "code",
   "execution_count": 170,
   "id": "b2223e4c",
   "metadata": {
    "execution": {
     "iopub.execute_input": "2022-09-26T07:49:01.053777Z",
     "iopub.status.busy": "2022-09-26T07:49:01.053398Z",
     "iopub.status.idle": "2022-09-26T07:49:01.060805Z",
     "shell.execute_reply": "2022-09-26T07:49:01.059916Z"
    },
    "papermill": {
     "duration": 0.072983,
     "end_time": "2022-09-26T07:49:01.062687",
     "exception": false,
     "start_time": "2022-09-26T07:49:00.989704",
     "status": "completed"
    },
    "tags": []
   },
   "outputs": [
    {
     "data": {
      "text/plain": [
       "0   -3\n",
       "1   -2\n",
       "4    1\n",
       "5    2\n",
       "6    3\n",
       "dtype: int64"
      ]
     },
     "execution_count": 170,
     "metadata": {},
     "output_type": "execute_result"
    }
   ],
   "source": [
    "s[(s < -1) | (s > 0.5)]"
   ]
  },
  {
   "cell_type": "code",
   "execution_count": 171,
   "id": "6311b082",
   "metadata": {
    "execution": {
     "iopub.execute_input": "2022-09-26T07:49:01.187970Z",
     "iopub.status.busy": "2022-09-26T07:49:01.187616Z",
     "iopub.status.idle": "2022-09-26T07:49:01.196289Z",
     "shell.execute_reply": "2022-09-26T07:49:01.195276Z"
    },
    "papermill": {
     "duration": 0.073336,
     "end_time": "2022-09-26T07:49:01.198322",
     "exception": false,
     "start_time": "2022-09-26T07:49:01.124986",
     "status": "completed"
    },
    "tags": []
   },
   "outputs": [
    {
     "data": {
      "text/plain": [
       "3    0\n",
       "4    1\n",
       "5    2\n",
       "6    3\n",
       "dtype: int64"
      ]
     },
     "execution_count": 171,
     "metadata": {},
     "output_type": "execute_result"
    }
   ],
   "source": [
    "s[~(s < 0)]     # ~ (Not)"
   ]
  },
  {
   "cell_type": "markdown",
   "id": "cd0d68c4",
   "metadata": {
    "papermill": {
     "duration": 0.071299,
     "end_time": "2022-09-26T07:49:01.333266",
     "exception": false,
     "start_time": "2022-09-26T07:49:01.261967",
     "status": "completed"
    },
    "tags": []
   },
   "source": [
    "## Indexing and selecting data | Indexing with isin:\n",
    "- Consider the isin() method of Series, which returns a boolean vector that is true wherever the Series elements exist in the passed list. This allows you to select rows where one or more columns have values you want:"
   ]
  },
  {
   "cell_type": "code",
   "execution_count": 172,
   "id": "729dc6d5",
   "metadata": {
    "execution": {
     "iopub.execute_input": "2022-09-26T07:49:01.459592Z",
     "iopub.status.busy": "2022-09-26T07:49:01.458640Z",
     "iopub.status.idle": "2022-09-26T07:49:01.466910Z",
     "shell.execute_reply": "2022-09-26T07:49:01.465960Z"
    },
    "papermill": {
     "duration": 0.072668,
     "end_time": "2022-09-26T07:49:01.468892",
     "exception": false,
     "start_time": "2022-09-26T07:49:01.396224",
     "status": "completed"
    },
    "tags": []
   },
   "outputs": [
    {
     "data": {
      "text/plain": [
       "4    0\n",
       "3    1\n",
       "2    2\n",
       "1    3\n",
       "0    4\n",
       "dtype: int64"
      ]
     },
     "execution_count": 172,
     "metadata": {},
     "output_type": "execute_result"
    }
   ],
   "source": [
    "s = pd.Series(np.arange(5), index=np.arange(5)[::-1], dtype='int64')\n",
    "s"
   ]
  },
  {
   "cell_type": "code",
   "execution_count": 173,
   "id": "f8131147",
   "metadata": {
    "execution": {
     "iopub.execute_input": "2022-09-26T07:49:01.595248Z",
     "iopub.status.busy": "2022-09-26T07:49:01.594888Z",
     "iopub.status.idle": "2022-09-26T07:49:01.604104Z",
     "shell.execute_reply": "2022-09-26T07:49:01.603139Z"
    },
    "papermill": {
     "duration": 0.075683,
     "end_time": "2022-09-26T07:49:01.606059",
     "exception": false,
     "start_time": "2022-09-26T07:49:01.530376",
     "status": "completed"
    },
    "tags": []
   },
   "outputs": [
    {
     "data": {
      "text/plain": [
       "4    False\n",
       "3    False\n",
       "2     True\n",
       "1    False\n",
       "0     True\n",
       "dtype: bool"
      ]
     },
     "execution_count": 173,
     "metadata": {},
     "output_type": "execute_result"
    }
   ],
   "source": [
    "s.isin([2, 4, 6])"
   ]
  },
  {
   "cell_type": "code",
   "execution_count": 174,
   "id": "3299970a",
   "metadata": {
    "execution": {
     "iopub.execute_input": "2022-09-26T07:49:01.731046Z",
     "iopub.status.busy": "2022-09-26T07:49:01.730371Z",
     "iopub.status.idle": "2022-09-26T07:49:01.737709Z",
     "shell.execute_reply": "2022-09-26T07:49:01.736819Z"
    },
    "papermill": {
     "duration": 0.07198,
     "end_time": "2022-09-26T07:49:01.739610",
     "exception": false,
     "start_time": "2022-09-26T07:49:01.667630",
     "status": "completed"
    },
    "tags": []
   },
   "outputs": [
    {
     "data": {
      "text/plain": [
       "2    2\n",
       "0    4\n",
       "dtype: int64"
      ]
     },
     "execution_count": 174,
     "metadata": {},
     "output_type": "execute_result"
    }
   ],
   "source": [
    "s[s.isin([2, 4, 6])]"
   ]
  },
  {
   "cell_type": "markdown",
   "id": "57731862",
   "metadata": {
    "papermill": {
     "duration": 0.061112,
     "end_time": "2022-09-26T07:49:01.861798",
     "exception": false,
     "start_time": "2022-09-26T07:49:01.800686",
     "status": "completed"
    },
    "tags": []
   },
   "source": [
    ">The same method is available for Index objects and is useful for the cases when you don’t know which of the sought labels are in fact present:"
   ]
  },
  {
   "cell_type": "code",
   "execution_count": 175,
   "id": "a190af92",
   "metadata": {
    "execution": {
     "iopub.execute_input": "2022-09-26T07:49:01.985979Z",
     "iopub.status.busy": "2022-09-26T07:49:01.985052Z",
     "iopub.status.idle": "2022-09-26T07:49:01.992888Z",
     "shell.execute_reply": "2022-09-26T07:49:01.991925Z"
    },
    "papermill": {
     "duration": 0.072265,
     "end_time": "2022-09-26T07:49:01.994871",
     "exception": false,
     "start_time": "2022-09-26T07:49:01.922606",
     "status": "completed"
    },
    "tags": []
   },
   "outputs": [
    {
     "data": {
      "text/plain": [
       "4    0\n",
       "2    2\n",
       "dtype: int64"
      ]
     },
     "execution_count": 175,
     "metadata": {},
     "output_type": "execute_result"
    }
   ],
   "source": [
    "s[s.index.isin([2, 4, 6])]"
   ]
  },
  {
   "cell_type": "code",
   "execution_count": 176,
   "id": "e89c180c",
   "metadata": {
    "execution": {
     "iopub.execute_input": "2022-09-26T07:49:02.121762Z",
     "iopub.status.busy": "2022-09-26T07:49:02.120224Z",
     "iopub.status.idle": "2022-09-26T07:49:02.128511Z",
     "shell.execute_reply": "2022-09-26T07:49:02.127533Z"
    },
    "papermill": {
     "duration": 0.073813,
     "end_time": "2022-09-26T07:49:02.130515",
     "exception": false,
     "start_time": "2022-09-26T07:49:02.056702",
     "status": "completed"
    },
    "tags": []
   },
   "outputs": [
    {
     "data": {
      "text/plain": [
       "2    2.0\n",
       "4    0.0\n",
       "6    NaN\n",
       "dtype: float64"
      ]
     },
     "execution_count": 176,
     "metadata": {},
     "output_type": "execute_result"
    }
   ],
   "source": [
    "# compare it to the following\n",
    "s.reindex([2, 4, 6])"
   ]
  },
  {
   "cell_type": "markdown",
   "id": "e9205cf7",
   "metadata": {
    "papermill": {
     "duration": 0.061206,
     "end_time": "2022-09-26T07:49:02.254284",
     "exception": false,
     "start_time": "2022-09-26T07:49:02.193078",
     "status": "completed"
    },
    "tags": []
   },
   "source": [
    "> In addition to that, MultiIndex allows selecting a separate level to use in the membership check:"
   ]
  },
  {
   "cell_type": "code",
   "execution_count": 177,
   "id": "e36d6c93",
   "metadata": {
    "execution": {
     "iopub.execute_input": "2022-09-26T07:49:02.378957Z",
     "iopub.status.busy": "2022-09-26T07:49:02.378614Z",
     "iopub.status.idle": "2022-09-26T07:49:02.388381Z",
     "shell.execute_reply": "2022-09-26T07:49:02.387519Z"
    },
    "papermill": {
     "duration": 0.074482,
     "end_time": "2022-09-26T07:49:02.390329",
     "exception": false,
     "start_time": "2022-09-26T07:49:02.315847",
     "status": "completed"
    },
    "tags": []
   },
   "outputs": [
    {
     "data": {
      "text/plain": [
       "0  a    0\n",
       "   b    1\n",
       "   c    2\n",
       "1  a    3\n",
       "   b    4\n",
       "   c    5\n",
       "dtype: int64"
      ]
     },
     "execution_count": 177,
     "metadata": {},
     "output_type": "execute_result"
    }
   ],
   "source": [
    "s_mi = pd.Series(np.arange(6),\n",
    "   .....:                  index=pd.MultiIndex.from_product([[0, 1], ['a', 'b', 'c']]))\n",
    "   .....: \n",
    "        \n",
    "s_mi"
   ]
  },
  {
   "cell_type": "code",
   "execution_count": 178,
   "id": "e6a23e94",
   "metadata": {
    "execution": {
     "iopub.execute_input": "2022-09-26T07:49:02.518769Z",
     "iopub.status.busy": "2022-09-26T07:49:02.517291Z",
     "iopub.status.idle": "2022-09-26T07:49:02.527690Z",
     "shell.execute_reply": "2022-09-26T07:49:02.526722Z"
    },
    "papermill": {
     "duration": 0.076391,
     "end_time": "2022-09-26T07:49:02.529610",
     "exception": false,
     "start_time": "2022-09-26T07:49:02.453219",
     "status": "completed"
    },
    "tags": []
   },
   "outputs": [
    {
     "data": {
      "text/plain": [
       "0  c    2\n",
       "1  a    3\n",
       "dtype: int64"
      ]
     },
     "execution_count": 178,
     "metadata": {},
     "output_type": "execute_result"
    }
   ],
   "source": [
    "s_mi.iloc[s_mi.index.isin([(1, 'a'), (2, 'b'), (0, 'c')])]"
   ]
  },
  {
   "cell_type": "code",
   "execution_count": 179,
   "id": "54fcb5b6",
   "metadata": {
    "execution": {
     "iopub.execute_input": "2022-09-26T07:49:02.655871Z",
     "iopub.status.busy": "2022-09-26T07:49:02.655460Z",
     "iopub.status.idle": "2022-09-26T07:49:02.663890Z",
     "shell.execute_reply": "2022-09-26T07:49:02.662991Z"
    },
    "papermill": {
     "duration": 0.073419,
     "end_time": "2022-09-26T07:49:02.665986",
     "exception": false,
     "start_time": "2022-09-26T07:49:02.592567",
     "status": "completed"
    },
    "tags": []
   },
   "outputs": [
    {
     "data": {
      "text/plain": [
       "0  a    0\n",
       "   c    2\n",
       "1  a    3\n",
       "   c    5\n",
       "dtype: int64"
      ]
     },
     "execution_count": 179,
     "metadata": {},
     "output_type": "execute_result"
    }
   ],
   "source": [
    "s_mi.iloc[s_mi.index.isin(['a', 'c', 'e'], level=1)]"
   ]
  },
  {
   "cell_type": "markdown",
   "id": "432e0a05",
   "metadata": {
    "papermill": {
     "duration": 0.061478,
     "end_time": "2022-09-26T07:49:02.789183",
     "exception": false,
     "start_time": "2022-09-26T07:49:02.727705",
     "status": "completed"
    },
    "tags": []
   },
   "source": [
    "> #### DataFrame also has an isin() method. When calling isin, pass a set of values as either an array or dict. If values is an array, isin returns a DataFrame of booleans that is the same shape as the original DataFrame, with True wherever the element is in the sequence of values."
   ]
  },
  {
   "cell_type": "code",
   "execution_count": 180,
   "id": "b1ee3560",
   "metadata": {
    "execution": {
     "iopub.execute_input": "2022-09-26T07:49:02.914497Z",
     "iopub.status.busy": "2022-09-26T07:49:02.913564Z",
     "iopub.status.idle": "2022-09-26T07:49:02.924613Z",
     "shell.execute_reply": "2022-09-26T07:49:02.923641Z"
    },
    "papermill": {
     "duration": 0.075829,
     "end_time": "2022-09-26T07:49:02.926573",
     "exception": false,
     "start_time": "2022-09-26T07:49:02.850744",
     "status": "completed"
    },
    "tags": []
   },
   "outputs": [
    {
     "data": {
      "text/html": [
       "<div>\n",
       "<style scoped>\n",
       "    .dataframe tbody tr th:only-of-type {\n",
       "        vertical-align: middle;\n",
       "    }\n",
       "\n",
       "    .dataframe tbody tr th {\n",
       "        vertical-align: top;\n",
       "    }\n",
       "\n",
       "    .dataframe thead th {\n",
       "        text-align: right;\n",
       "    }\n",
       "</style>\n",
       "<table border=\"1\" class=\"dataframe\">\n",
       "  <thead>\n",
       "    <tr style=\"text-align: right;\">\n",
       "      <th></th>\n",
       "      <th>vals</th>\n",
       "      <th>ids</th>\n",
       "      <th>ids2</th>\n",
       "    </tr>\n",
       "  </thead>\n",
       "  <tbody>\n",
       "    <tr>\n",
       "      <th>0</th>\n",
       "      <td>1</td>\n",
       "      <td>a</td>\n",
       "      <td>a</td>\n",
       "    </tr>\n",
       "    <tr>\n",
       "      <th>1</th>\n",
       "      <td>2</td>\n",
       "      <td>b</td>\n",
       "      <td>n</td>\n",
       "    </tr>\n",
       "    <tr>\n",
       "      <th>2</th>\n",
       "      <td>3</td>\n",
       "      <td>f</td>\n",
       "      <td>c</td>\n",
       "    </tr>\n",
       "    <tr>\n",
       "      <th>3</th>\n",
       "      <td>4</td>\n",
       "      <td>n</td>\n",
       "      <td>n</td>\n",
       "    </tr>\n",
       "  </tbody>\n",
       "</table>\n",
       "</div>"
      ],
      "text/plain": [
       "   vals ids ids2\n",
       "0     1   a    a\n",
       "1     2   b    n\n",
       "2     3   f    c\n",
       "3     4   n    n"
      ]
     },
     "execution_count": 180,
     "metadata": {},
     "output_type": "execute_result"
    }
   ],
   "source": [
    "df = pd.DataFrame({'vals': [1, 2, 3, 4], 'ids': ['a', 'b', 'f', 'n'],\n",
    "   .....:                    'ids2': ['a', 'n', 'c', 'n']})\n",
    "   .....: \n",
    "df"
   ]
  },
  {
   "cell_type": "code",
   "execution_count": 181,
   "id": "f5ad05e6",
   "metadata": {
    "execution": {
     "iopub.execute_input": "2022-09-26T07:49:03.053722Z",
     "iopub.status.busy": "2022-09-26T07:49:03.052048Z",
     "iopub.status.idle": "2022-09-26T07:49:03.062679Z",
     "shell.execute_reply": "2022-09-26T07:49:03.061705Z"
    },
    "papermill": {
     "duration": 0.075395,
     "end_time": "2022-09-26T07:49:03.064460",
     "exception": false,
     "start_time": "2022-09-26T07:49:02.989065",
     "status": "completed"
    },
    "tags": []
   },
   "outputs": [
    {
     "data": {
      "text/html": [
       "<div>\n",
       "<style scoped>\n",
       "    .dataframe tbody tr th:only-of-type {\n",
       "        vertical-align: middle;\n",
       "    }\n",
       "\n",
       "    .dataframe tbody tr th {\n",
       "        vertical-align: top;\n",
       "    }\n",
       "\n",
       "    .dataframe thead th {\n",
       "        text-align: right;\n",
       "    }\n",
       "</style>\n",
       "<table border=\"1\" class=\"dataframe\">\n",
       "  <thead>\n",
       "    <tr style=\"text-align: right;\">\n",
       "      <th></th>\n",
       "      <th>vals</th>\n",
       "      <th>ids</th>\n",
       "      <th>ids2</th>\n",
       "    </tr>\n",
       "  </thead>\n",
       "  <tbody>\n",
       "    <tr>\n",
       "      <th>0</th>\n",
       "      <td>True</td>\n",
       "      <td>True</td>\n",
       "      <td>True</td>\n",
       "    </tr>\n",
       "    <tr>\n",
       "      <th>1</th>\n",
       "      <td>False</td>\n",
       "      <td>True</td>\n",
       "      <td>False</td>\n",
       "    </tr>\n",
       "    <tr>\n",
       "      <th>2</th>\n",
       "      <td>True</td>\n",
       "      <td>False</td>\n",
       "      <td>False</td>\n",
       "    </tr>\n",
       "    <tr>\n",
       "      <th>3</th>\n",
       "      <td>False</td>\n",
       "      <td>False</td>\n",
       "      <td>False</td>\n",
       "    </tr>\n",
       "  </tbody>\n",
       "</table>\n",
       "</div>"
      ],
      "text/plain": [
       "    vals    ids   ids2\n",
       "0   True   True   True\n",
       "1  False   True  False\n",
       "2   True  False  False\n",
       "3  False  False  False"
      ]
     },
     "execution_count": 181,
     "metadata": {},
     "output_type": "execute_result"
    }
   ],
   "source": [
    "values = ['a', 'b', 1, 3]\n",
    "df.isin(values)"
   ]
  },
  {
   "cell_type": "markdown",
   "id": "1e15fe28",
   "metadata": {
    "papermill": {
     "duration": 0.062254,
     "end_time": "2022-09-26T07:49:03.189290",
     "exception": false,
     "start_time": "2022-09-26T07:49:03.127036",
     "status": "completed"
    },
    "tags": []
   },
   "source": [
    "Oftentimes you’ll want to match certain values with certain columns. Just make values a dict where the key is the column, and the value is a list of items you want to check for."
   ]
  },
  {
   "cell_type": "code",
   "execution_count": 182,
   "id": "37fe69b8",
   "metadata": {
    "execution": {
     "iopub.execute_input": "2022-09-26T07:49:03.315083Z",
     "iopub.status.busy": "2022-09-26T07:49:03.314737Z",
     "iopub.status.idle": "2022-09-26T07:49:03.326819Z",
     "shell.execute_reply": "2022-09-26T07:49:03.325933Z"
    },
    "papermill": {
     "duration": 0.077562,
     "end_time": "2022-09-26T07:49:03.328767",
     "exception": false,
     "start_time": "2022-09-26T07:49:03.251205",
     "status": "completed"
    },
    "tags": []
   },
   "outputs": [
    {
     "data": {
      "text/html": [
       "<div>\n",
       "<style scoped>\n",
       "    .dataframe tbody tr th:only-of-type {\n",
       "        vertical-align: middle;\n",
       "    }\n",
       "\n",
       "    .dataframe tbody tr th {\n",
       "        vertical-align: top;\n",
       "    }\n",
       "\n",
       "    .dataframe thead th {\n",
       "        text-align: right;\n",
       "    }\n",
       "</style>\n",
       "<table border=\"1\" class=\"dataframe\">\n",
       "  <thead>\n",
       "    <tr style=\"text-align: right;\">\n",
       "      <th></th>\n",
       "      <th>vals</th>\n",
       "      <th>ids</th>\n",
       "      <th>ids2</th>\n",
       "    </tr>\n",
       "  </thead>\n",
       "  <tbody>\n",
       "    <tr>\n",
       "      <th>0</th>\n",
       "      <td>True</td>\n",
       "      <td>True</td>\n",
       "      <td>False</td>\n",
       "    </tr>\n",
       "    <tr>\n",
       "      <th>1</th>\n",
       "      <td>False</td>\n",
       "      <td>True</td>\n",
       "      <td>False</td>\n",
       "    </tr>\n",
       "    <tr>\n",
       "      <th>2</th>\n",
       "      <td>True</td>\n",
       "      <td>False</td>\n",
       "      <td>False</td>\n",
       "    </tr>\n",
       "    <tr>\n",
       "      <th>3</th>\n",
       "      <td>False</td>\n",
       "      <td>False</td>\n",
       "      <td>False</td>\n",
       "    </tr>\n",
       "  </tbody>\n",
       "</table>\n",
       "</div>"
      ],
      "text/plain": [
       "    vals    ids   ids2\n",
       "0   True   True  False\n",
       "1  False   True  False\n",
       "2   True  False  False\n",
       "3  False  False  False"
      ]
     },
     "execution_count": 182,
     "metadata": {},
     "output_type": "execute_result"
    }
   ],
   "source": [
    "values = {'ids': ['a', 'b'], 'vals': [1, 3]}\n",
    "df.isin(values)"
   ]
  },
  {
   "cell_type": "markdown",
   "id": "4ded2d87",
   "metadata": {
    "papermill": {
     "duration": 0.06369,
     "end_time": "2022-09-26T07:49:03.457268",
     "exception": false,
     "start_time": "2022-09-26T07:49:03.393578",
     "status": "completed"
    },
    "tags": []
   },
   "source": [
    "To return the DataFrame of booleans where the values are not in the original DataFrame, use the ~ operator:"
   ]
  },
  {
   "cell_type": "code",
   "execution_count": 183,
   "id": "6b3f2751",
   "metadata": {
    "execution": {
     "iopub.execute_input": "2022-09-26T07:49:03.587638Z",
     "iopub.status.busy": "2022-09-26T07:49:03.586671Z",
     "iopub.status.idle": "2022-09-26T07:49:03.598625Z",
     "shell.execute_reply": "2022-09-26T07:49:03.597678Z"
    },
    "papermill": {
     "duration": 0.079698,
     "end_time": "2022-09-26T07:49:03.600574",
     "exception": false,
     "start_time": "2022-09-26T07:49:03.520876",
     "status": "completed"
    },
    "tags": []
   },
   "outputs": [
    {
     "data": {
      "text/html": [
       "<div>\n",
       "<style scoped>\n",
       "    .dataframe tbody tr th:only-of-type {\n",
       "        vertical-align: middle;\n",
       "    }\n",
       "\n",
       "    .dataframe tbody tr th {\n",
       "        vertical-align: top;\n",
       "    }\n",
       "\n",
       "    .dataframe thead th {\n",
       "        text-align: right;\n",
       "    }\n",
       "</style>\n",
       "<table border=\"1\" class=\"dataframe\">\n",
       "  <thead>\n",
       "    <tr style=\"text-align: right;\">\n",
       "      <th></th>\n",
       "      <th>vals</th>\n",
       "      <th>ids</th>\n",
       "      <th>ids2</th>\n",
       "    </tr>\n",
       "  </thead>\n",
       "  <tbody>\n",
       "    <tr>\n",
       "      <th>0</th>\n",
       "      <td>False</td>\n",
       "      <td>False</td>\n",
       "      <td>True</td>\n",
       "    </tr>\n",
       "    <tr>\n",
       "      <th>1</th>\n",
       "      <td>True</td>\n",
       "      <td>False</td>\n",
       "      <td>True</td>\n",
       "    </tr>\n",
       "    <tr>\n",
       "      <th>2</th>\n",
       "      <td>False</td>\n",
       "      <td>True</td>\n",
       "      <td>True</td>\n",
       "    </tr>\n",
       "    <tr>\n",
       "      <th>3</th>\n",
       "      <td>True</td>\n",
       "      <td>True</td>\n",
       "      <td>True</td>\n",
       "    </tr>\n",
       "  </tbody>\n",
       "</table>\n",
       "</div>"
      ],
      "text/plain": [
       "    vals    ids  ids2\n",
       "0  False  False  True\n",
       "1   True  False  True\n",
       "2  False   True  True\n",
       "3   True   True  True"
      ]
     },
     "execution_count": 183,
     "metadata": {},
     "output_type": "execute_result"
    }
   ],
   "source": [
    "values = {'ids': ['a', 'b'], 'vals': [1, 3]}\n",
    "~df.isin(values)"
   ]
  },
  {
   "cell_type": "markdown",
   "id": "fed1b62d",
   "metadata": {
    "papermill": {
     "duration": 0.062961,
     "end_time": "2022-09-26T07:49:03.727329",
     "exception": false,
     "start_time": "2022-09-26T07:49:03.664368",
     "status": "completed"
    },
    "tags": []
   },
   "source": [
    "Combine DataFrame’s isin with the any() and all() methods to quickly select subsets of your data that meet a given criteria. To select a row where each column meets its own criterion:"
   ]
  },
  {
   "cell_type": "code",
   "execution_count": 184,
   "id": "0da11b6c",
   "metadata": {
    "execution": {
     "iopub.execute_input": "2022-09-26T07:49:03.856856Z",
     "iopub.status.busy": "2022-09-26T07:49:03.855130Z",
     "iopub.status.idle": "2022-09-26T07:49:03.868494Z",
     "shell.execute_reply": "2022-09-26T07:49:03.867532Z"
    },
    "papermill": {
     "duration": 0.079671,
     "end_time": "2022-09-26T07:49:03.870630",
     "exception": false,
     "start_time": "2022-09-26T07:49:03.790959",
     "status": "completed"
    },
    "tags": []
   },
   "outputs": [
    {
     "data": {
      "text/html": [
       "<div>\n",
       "<style scoped>\n",
       "    .dataframe tbody tr th:only-of-type {\n",
       "        vertical-align: middle;\n",
       "    }\n",
       "\n",
       "    .dataframe tbody tr th {\n",
       "        vertical-align: top;\n",
       "    }\n",
       "\n",
       "    .dataframe thead th {\n",
       "        text-align: right;\n",
       "    }\n",
       "</style>\n",
       "<table border=\"1\" class=\"dataframe\">\n",
       "  <thead>\n",
       "    <tr style=\"text-align: right;\">\n",
       "      <th></th>\n",
       "      <th>vals</th>\n",
       "      <th>ids</th>\n",
       "      <th>ids2</th>\n",
       "    </tr>\n",
       "  </thead>\n",
       "  <tbody>\n",
       "    <tr>\n",
       "      <th>0</th>\n",
       "      <td>1</td>\n",
       "      <td>a</td>\n",
       "      <td>a</td>\n",
       "    </tr>\n",
       "  </tbody>\n",
       "</table>\n",
       "</div>"
      ],
      "text/plain": [
       "   vals ids ids2\n",
       "0     1   a    a"
      ]
     },
     "execution_count": 184,
     "metadata": {},
     "output_type": "execute_result"
    }
   ],
   "source": [
    "values = {'ids': ['a', 'b'], 'ids2': ['a', 'c'], 'vals': [1, 3]}\n",
    "row_mask = df.isin(values).all(1)\n",
    "df[row_mask]"
   ]
  },
  {
   "cell_type": "markdown",
   "id": "d23ca35f",
   "metadata": {
    "papermill": {
     "duration": 0.062685,
     "end_time": "2022-09-26T07:49:03.997585",
     "exception": false,
     "start_time": "2022-09-26T07:49:03.934900",
     "status": "completed"
    },
    "tags": []
   },
   "source": [
    "## Indexing and selecting data | The where() Method and Masking:\n",
    "> **Selecting values from a Series with a boolean vector generally returns a subset of the data. To guarantee that selection output has the same shape as the original data, you can use the where method in Series and DataFrame.**\n",
    "\n",
    "\n",
    "To return only the selected rows:"
   ]
  },
  {
   "cell_type": "code",
   "execution_count": 185,
   "id": "3f3bc575",
   "metadata": {
    "execution": {
     "iopub.execute_input": "2022-09-26T07:49:04.125804Z",
     "iopub.status.busy": "2022-09-26T07:49:04.124127Z",
     "iopub.status.idle": "2022-09-26T07:49:04.131942Z",
     "shell.execute_reply": "2022-09-26T07:49:04.130999Z"
    },
    "papermill": {
     "duration": 0.073885,
     "end_time": "2022-09-26T07:49:04.133926",
     "exception": false,
     "start_time": "2022-09-26T07:49:04.060041",
     "status": "completed"
    },
    "tags": []
   },
   "outputs": [
    {
     "data": {
      "text/plain": [
       "3    1\n",
       "2    2\n",
       "1    3\n",
       "0    4\n",
       "dtype: int64"
      ]
     },
     "execution_count": 185,
     "metadata": {},
     "output_type": "execute_result"
    }
   ],
   "source": [
    "s[s > 0]"
   ]
  },
  {
   "cell_type": "code",
   "execution_count": 186,
   "id": "0896a529",
   "metadata": {
    "execution": {
     "iopub.execute_input": "2022-09-26T07:49:04.262737Z",
     "iopub.status.busy": "2022-09-26T07:49:04.260987Z",
     "iopub.status.idle": "2022-09-26T07:49:04.270051Z",
     "shell.execute_reply": "2022-09-26T07:49:04.269076Z"
    },
    "papermill": {
     "duration": 0.075183,
     "end_time": "2022-09-26T07:49:04.272120",
     "exception": false,
     "start_time": "2022-09-26T07:49:04.196937",
     "status": "completed"
    },
    "tags": []
   },
   "outputs": [
    {
     "data": {
      "text/plain": [
       "4    NaN\n",
       "3    1.0\n",
       "2    2.0\n",
       "1    3.0\n",
       "0    4.0\n",
       "dtype: float64"
      ]
     },
     "execution_count": 186,
     "metadata": {},
     "output_type": "execute_result"
    }
   ],
   "source": [
    "s.where(s > 0)"
   ]
  },
  {
   "cell_type": "markdown",
   "id": "f48a2f89",
   "metadata": {
    "papermill": {
     "duration": 0.106204,
     "end_time": "2022-09-26T07:49:04.441213",
     "exception": false,
     "start_time": "2022-09-26T07:49:04.335009",
     "status": "completed"
    },
    "tags": []
   },
   "source": []
  }
 ],
 "metadata": {
  "kernelspec": {
   "display_name": "Python 3",
   "language": "python",
   "name": "python3"
  },
  "language_info": {
   "codemirror_mode": {
    "name": "ipython",
    "version": 3
   },
   "file_extension": ".py",
   "mimetype": "text/x-python",
   "name": "python",
   "nbconvert_exporter": "python",
   "pygments_lexer": "ipython3",
   "version": "3.7.12"
  },
  "papermill": {
   "default_parameters": {},
   "duration": 41.612709,
   "end_time": "2022-09-26T07:49:05.023438",
   "environment_variables": {},
   "exception": null,
   "input_path": "__notebook__.ipynb",
   "output_path": "__notebook__.ipynb",
   "parameters": {},
   "start_time": "2022-09-26T07:48:23.410729",
   "version": "2.3.4"
  }
 },
 "nbformat": 4,
 "nbformat_minor": 5
}
