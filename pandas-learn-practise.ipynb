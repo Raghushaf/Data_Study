{
 "cells": [
  {
   "cell_type": "code",
   "execution_count": 1,
   "id": "ba8bee16",
   "metadata": {
    "_cell_guid": "b1076dfc-b9ad-4769-8c92-a6c4dae69d19",
    "_uuid": "8f2839f25d086af736a60e9eeb907d3b93b6e0e5",
    "execution": {
     "iopub.execute_input": "2022-09-22T12:28:42.490646Z",
     "iopub.status.busy": "2022-09-22T12:28:42.490120Z",
     "iopub.status.idle": "2022-09-22T12:28:42.509460Z",
     "shell.execute_reply": "2022-09-22T12:28:42.508539Z"
    },
    "papermill": {
     "duration": 0.037683,
     "end_time": "2022-09-22T12:28:42.512313",
     "exception": false,
     "start_time": "2022-09-22T12:28:42.474630",
     "status": "completed"
    },
    "tags": []
   },
   "outputs": [
    {
     "name": "stdout",
     "output_type": "stream",
     "text": [
      "/kaggle/input/sales-data-practise/sales_data.csv\n"
     ]
    }
   ],
   "source": [
    "# This Python 3 environment comes with many helpful analytics libraries installed\n",
    "# It is defined by the kaggle/python Docker image: https://github.com/kaggle/docker-python\n",
    "# For example, here's several helpful packages to load\n",
    "\n",
    "import numpy as np # linear algebra\n",
    "import pandas as pd # data processing, CSV file I/O (e.g. pd.read_csv)\n",
    "\n",
    "# Input data files are available in the read-only \"../input/\" directory\n",
    "# For example, running this (by clicking run or pressing Shift+Enter) will list all files under the input directory\n",
    "\n",
    "import os\n",
    "for dirname, _, filenames in os.walk('/kaggle/input'):\n",
    "    for filename in filenames:\n",
    "        print(os.path.join(dirname, filename))\n",
    "\n",
    "# You can write up to 20GB to the current directory (/kaggle/working/) that gets preserved as output when you create a version using \"Save & Run All\" \n",
    "# You can also write temporary files to /kaggle/temp/, but they won't be saved outside of the current session"
   ]
  },
  {
   "cell_type": "markdown",
   "id": "59ef4250",
   "metadata": {
    "papermill": {
     "duration": 0.011456,
     "end_time": "2022-09-22T12:28:42.535848",
     "exception": false,
     "start_time": "2022-09-22T12:28:42.524392",
     "status": "completed"
    },
    "tags": []
   },
   "source": [
    "# Working with Pandas Library:\n",
    "- Pandas is an open-source library that uses for working with relational or labeled data both easily and intuitively. It provides various data structures and operations for manipulating numerical data and time series. It offers a tool for cleaning and processes your data. It is the most popular Python library that is used for data analysis. In this article, We are going to learn about Pandas Data structure.\n",
    "\n",
    "\n",
    "\n",
    "\n",
    "<img src=\"https://www.w3resource.com/w3r_images/pandas-data-structure.svg\" alt=\"Pandas Data structure\" style=\"max-width:100%;display:block;height:auto;border: 2px solid silver;\"><br>\n",
    "\n",
    "<p><strong>Create Test Objects</strong></p>\n",
    "<div class=\"table-responsive\">\n",
    "<table class=\"table table-bordered\">\n",
    "<tbody><tr>\n",
    "<td>pd.DataFrame(np.random.rand(20,5))</td>\n",
    "<td>5 columns and 20 rows of random floats</td>\n",
    "</tr>\n",
    "<tr>\n",
    "<td>pd.Series(my_list)</td>\n",
    "<td>Create a series from an iterable my_list</td>\n",
    "</tr>\n",
    "<tr>\n",
    "<td>df.index = pd.date_range('1900/1/30', periods=df.shape[0])</td>\n",
    "<td>Add a date index</td>\n",
    "</tr>\n",
    "</tbody></table></div>\n",
    "<p><strong>Viewing/Inspecting Data</strong></p>\n",
    "<div class=\"table-responsive\">\n",
    "<table class=\"table table-bordered\">\n",
    "<tbody><tr>\n",
    "<td>df.head(n)</td>\n",
    "<td>First n rows of the DataFrame</td>\n",
    "</tr>\n",
    "<tr>\n",
    "<td>df.tail(n)</td>\n",
    "<td> Last n rows of the DataFrame</td>\n",
    "</tr>\n",
    "<tr>\n",
    "<td>df.shape</td>\n",
    "<td> Number of rows and columns</td>\n",
    "</tr>\n",
    "<tr>\n",
    "<td>df.info()</td>\n",
    "<td>Index, Datatype and Memory information</td>\n",
    "</tr>\n",
    "<tr>\n",
    "<td>df.describe()</td>\n",
    "<td>Summary statistics for numerical columns</td>\n",
    "</tr>\n",
    "<tr>\n",
    "<td>s.value_counts(dropna=False)</td>\n",
    "<td>View unique values and counts</td>\n",
    "</tr>\n",
    "<tr>\n",
    "<td>df.apply(pd.Series.value_counts)</td>\n",
    "<td>Unique values and counts for all columns</td>\n",
    "</tr>\n",
    "</tbody></table></div>\n",
    "<p><strong>Selection</strong></p>\n",
    "<div class=\"table-responsive\">\n",
    "<table class=\"table table-bordered\">\n",
    "<tbody><tr>\n",
    "<td>df[col]</td>\n",
    "<td>Returns column with label col as Series</td>\n",
    "</tr>\n",
    "<tr>\n",
    "<td>df[[col1, col2]]</td>\n",
    "<td>Returns columns as a new DataFrame</td>\n",
    "</tr>\n",
    "<tr>\n",
    "<td>s.iloc[0]</td>\n",
    "<td>Selection by position</td>\n",
    "</tr>\n",
    "<tr>\n",
    "<td>s.loc['index_one']</td>\n",
    "<td>Selection by index</td>\n",
    "</tr>\n",
    "<tr>\n",
    "<td>df.iloc[0,:]</td>\n",
    "<td>First row</td>\n",
    "</tr>\n",
    "<tr>\n",
    "<td>df.iloc[0,0]</td>\n",
    "<td>First element of first column</td>\n",
    "</tr>\n",
    "</tbody></table></div>\n",
    "<p><strong>Data Cleaning</strong></p>\n",
    "<div class=\"table-responsive\">\n",
    "<table class=\"table table-bordered\">\n",
    "<tbody><tr>\n",
    "<td>df.columns = ['a','b','c']</td>\n",
    "<td>Rename columns</td>\n",
    "</tr>\n",
    "<tr>\n",
    "<td>pd.isnull()</td>\n",
    "<td> Checks for null Values, Returns Boolean Arrray</td>\n",
    "</tr>\n",
    "<tr>\n",
    "<td>pd.notnull()</td>\n",
    "<td>Opposite of pd.isnull()</td>\n",
    "</tr>\n",
    "<tr>\n",
    "<td>df.dropna()</td>\n",
    "<td>Drop all rows that contain null values</td>\n",
    "</tr>\n",
    "<tr>\n",
    "<td>df.dropna(axis=1)</td>\n",
    "<td>Drop all columns that contain null values</td>\n",
    "</tr>\n",
    "<tr>\n",
    "<td>df.dropna(axis=1,thresh=n)</td>\n",
    "<td>Drop all rows have have less than n non null values</td>\n",
    "</tr>\n",
    "<tr>\n",
    "<td>df.fillna(x)</td>\n",
    "<td>Replace all null values with x</td>\n",
    "</tr>\n",
    "<tr>\n",
    "<td>s.fillna(s.mean())</td>\n",
    "<td>Replace all null values with the mean</td>\n",
    "</tr>\n",
    "<tr>\n",
    "<td>s.astype(float)</td>\n",
    "<td>Convert the datatype of the series to float</td>\n",
    "</tr>\n",
    "<tr>\n",
    "<td>s.replace(1,'one')</td>\n",
    "<td>Replace all values equal to 1 with 'one'</td>\n",
    "</tr>\n",
    "<tr>\n",
    "<td>s.replace([2,3],['two', 'three'])</td>\n",
    "<td>Replace all 2 with 'two' and 3 with 'three'</td>\n",
    "</tr>\n",
    "<tr>\n",
    "<td>df.rename(columns=lambda x: x + 1)</td>\n",
    "<td>Mass renaming of columns</td>\n",
    "</tr>\n",
    "<tr>\n",
    "<td>df.rename(columns={'old_name': 'new_ name'})</td>\n",
    "<td>Selective renaming</td>\n",
    "</tr>\n",
    "<tr>\n",
    "<td>df.set_index('column_one')</td>\n",
    "<td>Change the index</td>\n",
    "</tr>\n",
    "<tr>\n",
    "<td>df.rename(index=lambda x: x + 1)</td>\n",
    "<td>Mass renaming of index</td>\n",
    "</tr>\n",
    "</tbody></table></div>\n",
    "<p><strong>Filter, Sort, and Groupby</strong></p>\n",
    "<div class=\"table-responsive\">\n",
    "<table class=\"table table-bordered\">\n",
    "<tbody><tr>\n",
    "<td>df[df[col] &gt; 0.6]</td>\n",
    "<td>Rows where the column col is greater than 0.6</td>\n",
    "</tr>\n",
    "<tr>\n",
    "<td>df[(df[col] &gt; 0.6) &amp; (df[col] &lt; 0.8)]</td>\n",
    "<td> Rows where 0.8 &gt; col &gt; 0.6</td>\n",
    "</tr>\n",
    "<tr>\n",
    "<td>df.sort_values(col1)</td>\n",
    "<td> Sort values by col1 in ascending order</td>\n",
    "</tr>\n",
    "<tr>\n",
    "<td>df.sort_values(col2,ascending=False)</td>\n",
    "<td> Sort values by col2 in descending order.5</td>\n",
    "</tr>\n",
    "<tr>\n",
    "<td>df.sort_values([col1,col2],ascending=[True,False]) </td>\n",
    "<td> Sort values by col1 in ascending order then col2 in descending order</td>\n",
    "</tr>\n",
    "<tr>\n",
    "<td>df.groupby(col)</td>\n",
    "<td>Returns a groupby object for values from one column</td>\n",
    "</tr>\n",
    "<tr>\n",
    "<td>df.groupby([col1,col2])</td>\n",
    "<td>Returns groupby object for values from multiple columns</td>\n",
    "</tr>\n",
    "<tr>\n",
    "<td>df.groupby(col1)[col2]</td>\n",
    "<td>Returns the mean of the values in col2, grouped by the values in col1</td>\n",
    "</tr>\n",
    "<tr>\n",
    "<td>df.pivot_table(index=col1,values=[col2,col3],aggfunc=mean)</td>\n",
    "<td>Create a pivot table that groups by col1 and calculates the mean of col2 and col3</td>\n",
    "</tr>\n",
    "<tr>\n",
    "<td>df.groupby(col1).agg(np.mean)</td>\n",
    "<td>Find the average across all columns for every unique col1 group</td>\n",
    "</tr>\n",
    "<tr>\n",
    "<td>df.apply(np.mean)</td>\n",
    "<td>Apply the function np.mean() across each column</td>\n",
    "</tr>\n",
    "<tr>\n",
    "<td>nf.apply(np.max,axis=1)</td>\n",
    "<td>Apply the function np.max() across each row</td>\n",
    "</tr>\n",
    "</tbody></table></div>\n",
    "<p><strong>Join/Combine</strong></p>\n",
    "<div class=\"table-responsive\">\n",
    "<table class=\"table table-bordered\">\n",
    "<tbody><tr>\n",
    "<td>df1.append(df2)</td>\n",
    "<td>Add the rows in df1 to the end of df2 (columns should be identical)</td>\n",
    "</tr>\n",
    "<tr>\n",
    "<td>pd.concat([df1, df2],axis=1)</td>\n",
    "<td>Add the columns in df1 to the end of df2 (rows should be identical)</td>\n",
    "</tr>\n",
    "<tr>\n",
    "<td>df1.join(df2,on=col1, how='inner')</td>\n",
    "<td>SQL-style join the columns in df1 with the columns on df2 where the rows for col have identical values. The 'how' can be 'left', 'right', 'outer' or 'inner'</td>\n",
    "</tr>\n",
    "</tbody></table></div>\n",
    "<p><strong>Statistics</strong></p>\n",
    "<div class=\"table-responsive\">\n",
    "<table class=\"table table-bordered\">\n",
    "<tbody><tr>\n",
    "<td>df.describe()</td>\n",
    "<td>Summary statistics for numerical columns</td>\n",
    "</tr>\n",
    "<tr>\n",
    "<td>df.mean()</td>\n",
    "<td>Returns the mean of all columns</td>\n",
    "</tr>\n",
    "<tr>\n",
    "<td>df.corr()</td>\n",
    "<td>Returns the correlation between columns in a DataFrame</td>\n",
    "</tr>\n",
    "<tr>\n",
    "<td>df.count()</td>\n",
    "<td>Returns the number of non-null values in each DataFrame column</td>\n",
    "</tr>\n",
    "<tr>\n",
    "<td>df.max()</td>\n",
    "<td>Returns the highest value in each column</td>\n",
    "</tr>\n",
    "<tr>\n",
    "<td>df.min()</td>\n",
    "<td>Returns the lowest value in each column</td>\n",
    "</tr>\n",
    "<tr>\n",
    "<td>df.median()</td>\n",
    "<td>Returns the median of each column</td>\n",
    "</tr>\n",
    "<tr>\n",
    "<td>df.std()</td>\n",
    "<td>Returns the standard deviation of each column</td>\n",
    "</tr>\n",
    "</tbody></table></div>\n",
    "<p><strong>Importing Data</strong></p>\n",
    "<div class=\"table-responsive\">\n",
    "<table class=\"table table-bordered\">\n",
    "<tbody><tr>\n",
    "<td>pd.read_csv(filename)</td>\n",
    "<td>From a CSV file</td>\n",
    "</tr>\n",
    "<tr>\n",
    "<td>pd.read_table(filename)</td>\n",
    "<td>From a delimited text file (like TSV)</td>\n",
    "</tr>\n",
    "<tr>\n",
    "<td>pd.read_excel(filename)</td>\n",
    "<td>From an Excel file</td>\n",
    "</tr>\n",
    "<tr>\n",
    "<td>pd.read_sql(query, connection_object)</td>\n",
    "<td>Read from a SQL table/database</td>\n",
    "</tr>\n",
    "<tr>\n",
    "<td>pd.read_json(json_string)</td>\n",
    "<td>Read from a JSON formatted string, URL or file.</td>\n",
    "</tr>\n",
    "<tr>\n",
    "<td>pd.read_html(url)</td>\n",
    "<td> Parses an html URL, string or file and extracts tables to a list of dataframes</td>\n",
    "</tr>\n",
    "<tr>\n",
    "<td>pd.read_clipboard() </td>\n",
    "<td>Takes the contents of your clipboard and passes it to read_table()</td>\n",
    "</tr>\n",
    "<tr>\n",
    "<td>pd.DataFrame(dict)</td>\n",
    "<td>From a dict, keys for columns names, values for data as lists</td>\n",
    "</tr>\n",
    "</tbody></table></div>\n",
    "<p><strong>Exporting Data</strong></p>\n",
    "<div class=\"table-responsive\">\n",
    "<table class=\"table table-bordered\">\n",
    "<tbody><tr>\n",
    "<td>df.to_csv(filename)</td>\n",
    "<td>Write to a CSV file</td>\n",
    "</tr>\n",
    "<tr>\n",
    "<td>df.to_excel(filename)</td>\n",
    "<td>Write to an Excel file</td>\n",
    "</tr>\n",
    "<tr>\n",
    "<td>df.to_sql(table_name, connection_object)</td>\n",
    "<td>Write to a SQL table</td>\n",
    "</tr>\n",
    "<tr>\n",
    "<td>df.to_json(filename)</td>\n",
    "<td>Write to a file in JSON format</td>\n",
    "</tr>\n",
    "</tbody></table>\n",
    "</div>\n",
    "    \n",
    "- It supports three data structures:\n",
    "\n",
    "    1. **Series**\n",
    "    2. **Dataframe**\n",
    "    3. **Panel**\n",
    "    \n",
    "## 1. pandas.series(): \n",
    "- Pandas Series is a one-dimensional labeled array capable of holding data of any type (integer, string, float, python objects, etc.). The axis labels are collectively called index. Pandas Series is nothing but a column in an excel sheet.\n",
    "- Labels need not be unique but must be a hashable type. The object supports both integer and label-based indexing and provides a host of methods for performing operations involving the index.\n",
    "- **Syntax** <H4>class pandas.Series(data=None, index=None, dtype=None, name=None, copy=False, fastpath=False)</H4>"
   ]
  },
  {
   "cell_type": "code",
   "execution_count": 2,
   "id": "759f0473",
   "metadata": {
    "execution": {
     "iopub.execute_input": "2022-09-22T12:28:42.561038Z",
     "iopub.status.busy": "2022-09-22T12:28:42.560574Z",
     "iopub.status.idle": "2022-09-22T12:28:42.572723Z",
     "shell.execute_reply": "2022-09-22T12:28:42.570820Z"
    },
    "papermill": {
     "duration": 0.027497,
     "end_time": "2022-09-22T12:28:42.575018",
     "exception": false,
     "start_time": "2022-09-22T12:28:42.547521",
     "status": "completed"
    },
    "tags": []
   },
   "outputs": [
    {
     "name": "stdout",
     "output_type": "stream",
     "text": [
      "Series:\n",
      "\n",
      " 0     Bhawan\n",
      "1      Singh\n",
      "2    Solanki\n",
      "dtype: object \n",
      "\n",
      "Type of Series:  <class 'pandas.core.series.Series'> \n",
      "\n",
      "Data type of Series:  object\n",
      "Dimension of series:  1\n"
     ]
    }
   ],
   "source": [
    "#Creating Series by using arrray: \n",
    "\n",
    "data=np.array([\"Bhawan\",\"Singh\",\"Solanki\"])\n",
    "\n",
    "s=pd.Series(data)\n",
    "\n",
    "print(\"Series:\\n\\n\",s,\"\\n\\nType of Series: \",type(s),\"\\n\\nData type of Series: \",s.dtype)\n",
    "print(\"Dimension of series: \",s.ndim)"
   ]
  },
  {
   "cell_type": "code",
   "execution_count": 3,
   "id": "f487c4f9",
   "metadata": {
    "execution": {
     "iopub.execute_input": "2022-09-22T12:28:42.602814Z",
     "iopub.status.busy": "2022-09-22T12:28:42.602338Z",
     "iopub.status.idle": "2022-09-22T12:28:42.615038Z",
     "shell.execute_reply": "2022-09-22T12:28:42.613004Z"
    },
    "papermill": {
     "duration": 0.028523,
     "end_time": "2022-09-22T12:28:42.617653",
     "exception": false,
     "start_time": "2022-09-22T12:28:42.589130",
     "status": "completed"
    },
    "tags": []
   },
   "outputs": [
    {
     "name": "stdout",
     "output_type": "stream",
     "text": [
      "Series:\n",
      "\n",
      " First Name      Bhawan\n",
      "Middle Name      Singh\n",
      "Last Name      Solanki\n",
      "dtype: object \n",
      "\n",
      "Type of Series:  <class 'pandas.core.series.Series'> \n",
      "Data type of Series:  object\n",
      "Dimension of series:  1\n"
     ]
    }
   ],
   "source": [
    "# Giving the index to the Series data\n",
    "\n",
    "data=np.array([\"Bhawan\",\"Singh\",\"Solanki\"])\n",
    "\n",
    "s1=pd.Series(data,index=[\"First Name\",\"Middle Name\",\"Last Name\"])\n",
    "\n",
    "print(\"Series:\\n\\n\",s1,\"\\n\\nType of Series: \",type(s1),\"\\nData type of Series: \",s1.dtype)\n",
    "print(\"Dimension of series: \",s1.ndim)"
   ]
  },
  {
   "cell_type": "code",
   "execution_count": 4,
   "id": "e72948c9",
   "metadata": {
    "execution": {
     "iopub.execute_input": "2022-09-22T12:28:42.644628Z",
     "iopub.status.busy": "2022-09-22T12:28:42.644248Z",
     "iopub.status.idle": "2022-09-22T12:28:42.659021Z",
     "shell.execute_reply": "2022-09-22T12:28:42.657559Z"
    },
    "papermill": {
     "duration": 0.031558,
     "end_time": "2022-09-22T12:28:42.661481",
     "exception": false,
     "start_time": "2022-09-22T12:28:42.629923",
     "status": "completed"
    },
    "tags": []
   },
   "outputs": [
    {
     "name": "stdout",
     "output_type": "stream",
     "text": [
      "Series:\n",
      "\n",
      " 0          1\n",
      "1          2\n",
      "2          3\n",
      "3          4\n",
      "4          5\n",
      "5          5\n",
      "6          6\n",
      "7          4\n",
      "8          3\n",
      "9          5\n",
      "10         5\n",
      "11       5.4\n",
      "12       3.2\n",
      "13    bhawan\n",
      "14     singh\n",
      "dtype: object \n",
      "\n",
      "Type of Series:  <class 'pandas.core.series.Series'> \n",
      "Data type of Series:  object\n",
      "Dimension of series:  1\n"
     ]
    }
   ],
   "source": [
    "# Giving List data to Series\n",
    "\n",
    "list1=[1,2,3,4,5,5,6,4,3,5,5,5.4,3.2,\"bhawan\",\"singh\"]\n",
    "s2=pd.Series(list1)\n",
    "print(\"Series:\\n\\n\",s2,\"\\n\\nType of Series: \",type(s2),\"\\nData type of Series: \",s2.dtype)\n",
    "print(\"Dimension of series: \",s2.ndim)"
   ]
  },
  {
   "cell_type": "code",
   "execution_count": 5,
   "id": "2b58d945",
   "metadata": {
    "execution": {
     "iopub.execute_input": "2022-09-22T12:28:42.687139Z",
     "iopub.status.busy": "2022-09-22T12:28:42.686469Z",
     "iopub.status.idle": "2022-09-22T12:28:42.693656Z",
     "shell.execute_reply": "2022-09-22T12:28:42.692241Z"
    },
    "papermill": {
     "duration": 0.023096,
     "end_time": "2022-09-22T12:28:42.696468",
     "exception": false,
     "start_time": "2022-09-22T12:28:42.673372",
     "status": "completed"
    },
    "tags": []
   },
   "outputs": [
    {
     "name": "stdout",
     "output_type": "stream",
     "text": [
      "Series([], dtype: float64)\n"
     ]
    },
    {
     "name": "stderr",
     "output_type": "stream",
     "text": [
      "/opt/conda/lib/python3.7/site-packages/ipykernel_launcher.py:3: DeprecationWarning: The default dtype for empty Series will be 'object' instead of 'float64' in a future version. Specify a dtype explicitly to silence this warning.\n",
      "  This is separate from the ipykernel package so we can avoid doing imports until\n"
     ]
    }
   ],
   "source": [
    "# Creating empty Series:\n",
    "\n",
    "empty_s=pd.Series([])\n",
    "print(empty_s)"
   ]
  },
  {
   "cell_type": "code",
   "execution_count": 6,
   "id": "947485c7",
   "metadata": {
    "execution": {
     "iopub.execute_input": "2022-09-22T12:28:42.722897Z",
     "iopub.status.busy": "2022-09-22T12:28:42.722497Z",
     "iopub.status.idle": "2022-09-22T12:28:42.730488Z",
     "shell.execute_reply": "2022-09-22T12:28:42.729144Z"
    },
    "papermill": {
     "duration": 0.023894,
     "end_time": "2022-09-22T12:28:42.732717",
     "exception": false,
     "start_time": "2022-09-22T12:28:42.708823",
     "status": "completed"
    },
    "tags": []
   },
   "outputs": [
    {
     "name": "stdout",
     "output_type": "stream",
     "text": [
      "0     1.0\n",
      "1     2.0\n",
      "2     3.0\n",
      "3     4.0\n",
      "4     5.0\n",
      "5     5.0\n",
      "6     6.0\n",
      "7     4.0\n",
      "8     3.0\n",
      "9     5.0\n",
      "10    5.0\n",
      "11    5.4\n",
      "12    3.2\n",
      "Name: Series_s2, dtype: float64\n"
     ]
    }
   ],
   "source": [
    "# GIving name& data type to series:\n",
    "\n",
    "list1=[1,2,3,4,5,5,6,4,3,5,5,5.4,3.2]\n",
    "s2=pd.Series(list1,dtype=float,name=\"Series_s2\")\n",
    "print(s2)"
   ]
  },
  {
   "cell_type": "code",
   "execution_count": 7,
   "id": "48fb78c0",
   "metadata": {
    "execution": {
     "iopub.execute_input": "2022-09-22T12:28:42.759134Z",
     "iopub.status.busy": "2022-09-22T12:28:42.758702Z",
     "iopub.status.idle": "2022-09-22T12:28:42.767517Z",
     "shell.execute_reply": "2022-09-22T12:28:42.766236Z"
    },
    "papermill": {
     "duration": 0.025985,
     "end_time": "2022-09-22T12:28:42.771038",
     "exception": false,
     "start_time": "2022-09-22T12:28:42.745053",
     "status": "completed"
    },
    "tags": []
   },
   "outputs": [
    {
     "name": "stdout",
     "output_type": "stream",
     "text": [
      "0    4.5\n",
      "dtype: float64\n",
      "\n",
      "Multiple Scaler value series:\n",
      " 1    4.5\n",
      "2    4.5\n",
      "3    4.5\n",
      "4    4.5\n",
      "5    4.5\n",
      "6    4.5\n",
      "dtype: float64\n"
     ]
    }
   ],
   "source": [
    "#Creating Series with Scalar value:\n",
    "Scalar_s=pd.Series(4.5)\n",
    "print(Scalar_s)\n",
    "\n",
    "Scalar_s=pd.Series(4.5,index=[1,2,3,4,5,6])\n",
    "print(\"\\nMultiple Scaler value series:\\n\",Scalar_s)"
   ]
  },
  {
   "cell_type": "code",
   "execution_count": 8,
   "id": "82693aff",
   "metadata": {
    "execution": {
     "iopub.execute_input": "2022-09-22T12:28:42.798435Z",
     "iopub.status.busy": "2022-09-22T12:28:42.798039Z",
     "iopub.status.idle": "2022-09-22T12:28:42.806496Z",
     "shell.execute_reply": "2022-09-22T12:28:42.805090Z"
    },
    "papermill": {
     "duration": 0.024877,
     "end_time": "2022-09-22T12:28:42.808958",
     "exception": false,
     "start_time": "2022-09-22T12:28:42.784081",
     "status": "completed"
    },
    "tags": []
   },
   "outputs": [
    {
     "name": "stdout",
     "output_type": "stream",
     "text": [
      "\n",
      "Creating Series with Dictionnary:\n",
      " 1    [Bhawan, test]\n",
      "2             Singh\n",
      "3           Solanki\n",
      "dtype: object\n"
     ]
    }
   ],
   "source": [
    "#Creating Series with Dictionary:\n",
    "\n",
    "dict_series=pd.Series({1:[\"Bhawan\",\"test\"],2:\"Singh\",3:\"Solanki\"})\n",
    "print(\"\\nCreating Series with Dictionnary:\\n\",dict_series)\n"
   ]
  },
  {
   "cell_type": "markdown",
   "id": "d1a9b1d1",
   "metadata": {
    "papermill": {
     "duration": 0.012201,
     "end_time": "2022-09-22T12:28:42.833312",
     "exception": false,
     "start_time": "2022-09-22T12:28:42.821111",
     "status": "completed"
    },
    "tags": []
   },
   "source": [
    "#### Atributes of Series\n",
    "***\n",
    "\n",
    "\n",
    "<dd>\n",
    "<table class=\"autosummary longtable table autosummary\">\n",
    "<colgroup>\n",
    "<col style=\"width: 10%\">\n",
    "<col style=\"width: 90%\">\n",
    "</colgroup>\n",
    "<tbody>\n",
    "<tr class=\"row-odd\"><td><p><a class=\"reference internal\" href=\"pandas.Series.T.html#pandas.Series.T\" title=\"pandas.Series.T\"><code class=\"xref py py-obj docutils literal notranslate\"><span class=\"pre\">T</span></code></a></p></td>\n",
    "<td><p>Return the transpose, which is by definition self.</p></td>\n",
    "</tr>\n",
    "<tr class=\"row-even\"><td><p><a class=\"reference internal\" href=\"pandas.Series.array.html#pandas.Series.array\" title=\"pandas.Series.array\"><code class=\"xref py py-obj docutils literal notranslate\"><span class=\"pre\">array</span></code></a></p></td>\n",
    "<td><p>The ExtensionArray of the data backing this Series or Index.</p></td>\n",
    "</tr>\n",
    "<tr class=\"row-odd\"><td><p><a class=\"reference internal\" href=\"pandas.Series.at.html#pandas.Series.at\" title=\"pandas.Series.at\"><code class=\"xref py py-obj docutils literal notranslate\"><span class=\"pre\">at</span></code></a></p></td>\n",
    "<td><p>Access a single value for a row/column label pair.</p></td>\n",
    "</tr>\n",
    "<tr class=\"row-even\"><td><p><a class=\"reference internal\" href=\"pandas.Series.attrs.html#pandas.Series.attrs\" title=\"pandas.Series.attrs\"><code class=\"xref py py-obj docutils literal notranslate\"><span class=\"pre\">attrs</span></code></a></p></td>\n",
    "<td><p>Dictionary of global attributes of this dataset.</p></td>\n",
    "</tr>\n",
    "<tr class=\"row-odd\"><td><p><a class=\"reference internal\" href=\"pandas.Series.axes.html#pandas.Series.axes\" title=\"pandas.Series.axes\"><code class=\"xref py py-obj docutils literal notranslate\"><span class=\"pre\">axes</span></code></a></p></td>\n",
    "<td><p>Return a list of the row axis labels.</p></td>\n",
    "</tr>\n",
    "<tr class=\"row-even\"><td><p><a class=\"reference internal\" href=\"pandas.Series.dtype.html#pandas.Series.dtype\" title=\"pandas.Series.dtype\"><code class=\"xref py py-obj docutils literal notranslate\"><span class=\"pre\">dtype</span></code></a></p></td>\n",
    "<td><p>Return the dtype object of the underlying data.</p></td>\n",
    "</tr>\n",
    "<tr class=\"row-odd\"><td><p><a class=\"reference internal\" href=\"pandas.Series.dtypes.html#pandas.Series.dtypes\" title=\"pandas.Series.dtypes\"><code class=\"xref py py-obj docutils literal notranslate\"><span class=\"pre\">dtypes</span></code></a></p></td>\n",
    "<td><p>Return the dtype object of the underlying data.</p></td>\n",
    "</tr>\n",
    "<tr class=\"row-even\"><td><p><a class=\"reference internal\" href=\"pandas.Series.flags.html#pandas.Series.flags\" title=\"pandas.Series.flags\"><code class=\"xref py py-obj docutils literal notranslate\"><span class=\"pre\">flags</span></code></a></p></td>\n",
    "<td><p>Get the properties associated with this pandas object.</p></td>\n",
    "</tr>\n",
    "<tr class=\"row-odd\"><td><p><a class=\"reference internal\" href=\"pandas.Series.hasnans.html#pandas.Series.hasnans\" title=\"pandas.Series.hasnans\"><code class=\"xref py py-obj docutils literal notranslate\"><span class=\"pre\">hasnans</span></code></a></p></td>\n",
    "<td><p>Return True if there are any NaNs.</p></td>\n",
    "</tr>\n",
    "<tr class=\"row-even\"><td><p><a class=\"reference internal\" href=\"pandas.Series.iat.html#pandas.Series.iat\" title=\"pandas.Series.iat\"><code class=\"xref py py-obj docutils literal notranslate\"><span class=\"pre\">iat</span></code></a></p></td>\n",
    "<td><p>Access a single value for a row/column pair by integer position.</p></td>\n",
    "</tr>\n",
    "<tr class=\"row-odd\"><td><p><a class=\"reference internal\" href=\"pandas.Series.iloc.html#pandas.Series.iloc\" title=\"pandas.Series.iloc\"><code class=\"xref py py-obj docutils literal notranslate\"><span class=\"pre\">iloc</span></code></a></p></td>\n",
    "<td><p>Purely integer-location based indexing for selection by position.</p></td>\n",
    "</tr>\n",
    "<tr class=\"row-even\"><td><p><a class=\"reference internal\" href=\"pandas.Series.index.html#pandas.Series.index\" title=\"pandas.Series.index\"><code class=\"xref py py-obj docutils literal notranslate\"><span class=\"pre\">index</span></code></a></p></td>\n",
    "<td><p>The index (axis labels) of the Series.</p></td>\n",
    "</tr>\n",
    "<tr class=\"row-odd\"><td><p><a class=\"reference internal\" href=\"pandas.Series.is_monotonic.html#pandas.Series.is_monotonic\" title=\"pandas.Series.is_monotonic\"><code class=\"xref py py-obj docutils literal notranslate\"><span class=\"pre\">is_monotonic</span></code></a></p></td>\n",
    "<td><p>(DEPRECATED) Return boolean if values in the object are monotonically increasing.</p></td>\n",
    "</tr>\n",
    "<tr class=\"row-even\"><td><p><a class=\"reference internal\" href=\"pandas.Series.is_monotonic_decreasing.html#pandas.Series.is_monotonic_decreasing\" title=\"pandas.Series.is_monotonic_decreasing\"><code class=\"xref py py-obj docutils literal notranslate\"><span class=\"pre\">is_monotonic_decreasing</span></code></a></p></td>\n",
    "<td><p>Return boolean if values in the object are monotonically decreasing.</p></td>\n",
    "</tr>\n",
    "<tr class=\"row-odd\"><td><p><a class=\"reference internal\" href=\"pandas.Series.is_monotonic_increasing.html#pandas.Series.is_monotonic_increasing\" title=\"pandas.Series.is_monotonic_increasing\"><code class=\"xref py py-obj docutils literal notranslate\"><span class=\"pre\">is_monotonic_increasing</span></code></a></p></td>\n",
    "<td><p>Return boolean if values in the object are monotonically increasing.</p></td>\n",
    "</tr>\n",
    "<tr class=\"row-even\"><td><p><a class=\"reference internal\" href=\"pandas.Series.is_unique.html#pandas.Series.is_unique\" title=\"pandas.Series.is_unique\"><code class=\"xref py py-obj docutils literal notranslate\"><span class=\"pre\">is_unique</span></code></a></p></td>\n",
    "<td><p>Return boolean if values in the object are unique.</p></td>\n",
    "</tr>\n",
    "<tr class=\"row-odd\"><td><p><a class=\"reference internal\" href=\"pandas.Series.loc.html#pandas.Series.loc\" title=\"pandas.Series.loc\"><code class=\"xref py py-obj docutils literal notranslate\"><span class=\"pre\">loc</span></code></a></p></td>\n",
    "<td><p>Access a group of rows and columns by label(s) or a boolean array.</p></td>\n",
    "</tr>\n",
    "<tr class=\"row-even\"><td><p><a class=\"reference internal\" href=\"pandas.Series.name.html#pandas.Series.name\" title=\"pandas.Series.name\"><code class=\"xref py py-obj docutils literal notranslate\"><span class=\"pre\">name</span></code></a></p></td>\n",
    "<td><p>Return the name of the Series.</p></td>\n",
    "</tr>\n",
    "<tr class=\"row-odd\"><td><p><a class=\"reference internal\" href=\"pandas.Series.nbytes.html#pandas.Series.nbytes\" title=\"pandas.Series.nbytes\"><code class=\"xref py py-obj docutils literal notranslate\"><span class=\"pre\">nbytes</span></code></a></p></td>\n",
    "<td><p>Return the number of bytes in the underlying data.</p></td>\n",
    "</tr>\n",
    "<tr class=\"row-even\"><td><p><a class=\"reference internal\" href=\"pandas.Series.ndim.html#pandas.Series.ndim\" title=\"pandas.Series.ndim\"><code class=\"xref py py-obj docutils literal notranslate\"><span class=\"pre\">ndim</span></code></a></p></td>\n",
    "<td><p>Number of dimensions of the underlying data, by definition 1.</p></td>\n",
    "</tr>\n",
    "<tr class=\"row-odd\"><td><p><a class=\"reference internal\" href=\"pandas.Series.shape.html#pandas.Series.shape\" title=\"pandas.Series.shape\"><code class=\"xref py py-obj docutils literal notranslate\"><span class=\"pre\">shape</span></code></a></p></td>\n",
    "<td><p>Return a tuple of the shape of the underlying data.</p></td>\n",
    "</tr>\n",
    "<tr class=\"row-even\"><td><p><a class=\"reference internal\" href=\"pandas.Series.size.html#pandas.Series.size\" title=\"pandas.Series.size\"><code class=\"xref py py-obj docutils literal notranslate\"><span class=\"pre\">size</span></code></a></p></td>\n",
    "<td><p>Return the number of elements in the underlying data.</p></td>\n",
    "</tr>\n",
    "<tr class=\"row-odd\"><td><p><a class=\"reference internal\" href=\"pandas.Series.values.html#pandas.Series.values\" title=\"pandas.Series.values\"><code class=\"xref py py-obj docutils literal notranslate\"><span class=\"pre\">values</span></code></a></p></td>\n",
    "<td><p>Return Series as ndarray or ndarray-like depending on the dtype.</p></td>\n",
    "</tr>\n",
    "</tbody>\n",
    "</table>\n",
    "    </dd>  \n",
    "    \n",
    "#### Methods Of Series\n",
    "*** \n",
    "<dd>    \n",
    "<table class=\"autosummary longtable table autosummary\">\n",
    "<colgroup>\n",
    "<col style=\"width: 10%\">\n",
    "<col style=\"width: 90%\">\n",
    "</colgroup>\n",
    "<tbody>\n",
    "<tr class=\"row-odd\"><td><p><a class=\"reference internal\" href=\"pandas.Series.abs.html#pandas.Series.abs\" title=\"pandas.Series.abs\"><code class=\"xref py py-obj docutils literal notranslate\"><span class=\"pre\">abs</span></code></a>()</p></td>\n",
    "<td><p>Return a Series/DataFrame with absolute numeric value of each element.</p></td>\n",
    "</tr>\n",
    "<tr class=\"row-even\"><td><p><a class=\"reference internal\" href=\"pandas.Series.add.html#pandas.Series.add\" title=\"pandas.Series.add\"><code class=\"xref py py-obj docutils literal notranslate\"><span class=\"pre\">add</span></code></a>(other[,&nbsp;level,&nbsp;fill_value,&nbsp;axis])</p></td>\n",
    "<td><p>Return Addition of series and other, element-wise (binary operator <cite>add</cite>).</p></td>\n",
    "</tr>\n",
    "<tr class=\"row-odd\"><td><p><a class=\"reference internal\" href=\"pandas.Series.add_prefix.html#pandas.Series.add_prefix\" title=\"pandas.Series.add_prefix\"><code class=\"xref py py-obj docutils literal notranslate\"><span class=\"pre\">add_prefix</span></code></a>(prefix)</p></td>\n",
    "<td><p>Prefix labels with string <cite>prefix</cite>.</p></td>\n",
    "</tr>\n",
    "<tr class=\"row-even\"><td><p><a class=\"reference internal\" href=\"pandas.Series.add_suffix.html#pandas.Series.add_suffix\" title=\"pandas.Series.add_suffix\"><code class=\"xref py py-obj docutils literal notranslate\"><span class=\"pre\">add_suffix</span></code></a>(suffix)</p></td>\n",
    "<td><p>Suffix labels with string <cite>suffix</cite>.</p></td>\n",
    "</tr>\n",
    "<tr class=\"row-odd\"><td><p><a class=\"reference internal\" href=\"pandas.Series.agg.html#pandas.Series.agg\" title=\"pandas.Series.agg\"><code class=\"xref py py-obj docutils literal notranslate\"><span class=\"pre\">agg</span></code></a>([func,&nbsp;axis])</p></td>\n",
    "<td><p>Aggregate using one or more operations over the specified axis.</p></td>\n",
    "</tr>\n",
    "<tr class=\"row-even\"><td><p><a class=\"reference internal\" href=\"pandas.Series.aggregate.html#pandas.Series.aggregate\" title=\"pandas.Series.aggregate\"><code class=\"xref py py-obj docutils literal notranslate\"><span class=\"pre\">aggregate</span></code></a>([func,&nbsp;axis])</p></td>\n",
    "<td><p>Aggregate using one or more operations over the specified axis.</p></td>\n",
    "</tr>\n",
    "<tr class=\"row-odd\"><td><p><a class=\"reference internal\" href=\"pandas.Series.align.html#pandas.Series.align\" title=\"pandas.Series.align\"><code class=\"xref py py-obj docutils literal notranslate\"><span class=\"pre\">align</span></code></a>(other[,&nbsp;join,&nbsp;axis,&nbsp;level,&nbsp;copy,&nbsp;...])</p></td>\n",
    "<td><p>Align two objects on their axes with the specified join method.</p></td>\n",
    "</tr>\n",
    "<tr class=\"row-even\"><td><p><a class=\"reference internal\" href=\"pandas.Series.all.html#pandas.Series.all\" title=\"pandas.Series.all\"><code class=\"xref py py-obj docutils literal notranslate\"><span class=\"pre\">all</span></code></a>([axis,&nbsp;bool_only,&nbsp;skipna,&nbsp;level])</p></td>\n",
    "<td><p>Return whether all elements are True, potentially over an axis.</p></td>\n",
    "</tr>\n",
    "<tr class=\"row-odd\"><td><p><a class=\"reference internal\" href=\"pandas.Series.any.html#pandas.Series.any\" title=\"pandas.Series.any\"><code class=\"xref py py-obj docutils literal notranslate\"><span class=\"pre\">any</span></code></a>([axis,&nbsp;bool_only,&nbsp;skipna,&nbsp;level])</p></td>\n",
    "<td><p>Return whether any element is True, potentially over an axis.</p></td>\n",
    "</tr>\n",
    "<tr class=\"row-even\"><td><p><a class=\"reference internal\" href=\"pandas.Series.append.html#pandas.Series.append\" title=\"pandas.Series.append\"><code class=\"xref py py-obj docutils literal notranslate\"><span class=\"pre\">append</span></code></a>(to_append[,&nbsp;ignore_index,&nbsp;...])</p></td>\n",
    "<td><p>(DEPRECATED) Concatenate two or more Series.</p></td>\n",
    "</tr>\n",
    "<tr class=\"row-odd\"><td><p><a class=\"reference internal\" href=\"pandas.Series.apply.html#pandas.Series.apply\" title=\"pandas.Series.apply\"><code class=\"xref py py-obj docutils literal notranslate\"><span class=\"pre\">apply</span></code></a>(func[,&nbsp;convert_dtype,&nbsp;args])</p></td>\n",
    "<td><p>Invoke function on values of Series.</p></td>\n",
    "</tr>\n",
    "<tr class=\"row-even\"><td><p><a class=\"reference internal\" href=\"pandas.Series.argmax.html#pandas.Series.argmax\" title=\"pandas.Series.argmax\"><code class=\"xref py py-obj docutils literal notranslate\"><span class=\"pre\">argmax</span></code></a>([axis,&nbsp;skipna])</p></td>\n",
    "<td><p>Return int position of the largest value in the Series.</p></td>\n",
    "</tr>\n",
    "<tr class=\"row-odd\"><td><p><a class=\"reference internal\" href=\"pandas.Series.argmin.html#pandas.Series.argmin\" title=\"pandas.Series.argmin\"><code class=\"xref py py-obj docutils literal notranslate\"><span class=\"pre\">argmin</span></code></a>([axis,&nbsp;skipna])</p></td>\n",
    "<td><p>Return int position of the smallest value in the Series.</p></td>\n",
    "</tr>\n",
    "<tr class=\"row-even\"><td><p><a class=\"reference internal\" href=\"pandas.Series.argsort.html#pandas.Series.argsort\" title=\"pandas.Series.argsort\"><code class=\"xref py py-obj docutils literal notranslate\"><span class=\"pre\">argsort</span></code></a>([axis,&nbsp;kind,&nbsp;order])</p></td>\n",
    "<td><p>Return the integer indices that would sort the Series values.</p></td>\n",
    "</tr>\n",
    "<tr class=\"row-odd\"><td><p><a class=\"reference internal\" href=\"pandas.Series.asfreq.html#pandas.Series.asfreq\" title=\"pandas.Series.asfreq\"><code class=\"xref py py-obj docutils literal notranslate\"><span class=\"pre\">asfreq</span></code></a>(freq[,&nbsp;method,&nbsp;how,&nbsp;normalize,&nbsp;...])</p></td>\n",
    "<td><p>Convert time series to specified frequency.</p></td>\n",
    "</tr>\n",
    "<tr class=\"row-even\"><td><p><a class=\"reference internal\" href=\"pandas.Series.asof.html#pandas.Series.asof\" title=\"pandas.Series.asof\"><code class=\"xref py py-obj docutils literal notranslate\"><span class=\"pre\">asof</span></code></a>(where[,&nbsp;subset])</p></td>\n",
    "<td><p>Return the last row(s) without any NaNs before <cite>where</cite>.</p></td>\n",
    "</tr>\n",
    "<tr class=\"row-odd\"><td><p><a class=\"reference internal\" href=\"pandas.Series.astype.html#pandas.Series.astype\" title=\"pandas.Series.astype\"><code class=\"xref py py-obj docutils literal notranslate\"><span class=\"pre\">astype</span></code></a>(dtype[,&nbsp;copy,&nbsp;errors])</p></td>\n",
    "<td><p>Cast a pandas object to a specified dtype <code class=\"docutils literal notranslate\"><span class=\"pre\">dtype</span></code>.</p></td>\n",
    "</tr>\n",
    "<tr class=\"row-even\"><td><p><a class=\"reference internal\" href=\"pandas.Series.at_time.html#pandas.Series.at_time\" title=\"pandas.Series.at_time\"><code class=\"xref py py-obj docutils literal notranslate\"><span class=\"pre\">at_time</span></code></a>(time[,&nbsp;asof,&nbsp;axis])</p></td>\n",
    "<td><p>Select values at particular time of day (e.g., 9:30AM).</p></td>\n",
    "</tr>\n",
    "<tr class=\"row-odd\"><td><p><a class=\"reference internal\" href=\"pandas.Series.autocorr.html#pandas.Series.autocorr\" title=\"pandas.Series.autocorr\"><code class=\"xref py py-obj docutils literal notranslate\"><span class=\"pre\">autocorr</span></code></a>([lag])</p></td>\n",
    "<td><p>Compute the lag-N autocorrelation.</p></td>\n",
    "</tr>\n",
    "<tr class=\"row-even\"><td><p><a class=\"reference internal\" href=\"pandas.Series.backfill.html#pandas.Series.backfill\" title=\"pandas.Series.backfill\"><code class=\"xref py py-obj docutils literal notranslate\"><span class=\"pre\">backfill</span></code></a>([axis,&nbsp;inplace,&nbsp;limit,&nbsp;downcast])</p></td>\n",
    "<td><p>Synonym for <a class=\"reference internal\" href=\"pandas.DataFrame.fillna.html#pandas.DataFrame.fillna\" title=\"pandas.DataFrame.fillna\"><code class=\"xref py py-meth docutils literal notranslate\"><span class=\"pre\">DataFrame.fillna()</span></code></a> with <code class=\"docutils literal notranslate\"><span class=\"pre\">method='bfill'</span></code>.</p></td>\n",
    "</tr>\n",
    "<tr class=\"row-odd\"><td><p><a class=\"reference internal\" href=\"pandas.Series.between.html#pandas.Series.between\" title=\"pandas.Series.between\"><code class=\"xref py py-obj docutils literal notranslate\"><span class=\"pre\">between</span></code></a>(left,&nbsp;right[,&nbsp;inclusive])</p></td>\n",
    "<td><p>Return boolean Series equivalent to left &lt;= series &lt;= right.</p></td>\n",
    "</tr>\n",
    "<tr class=\"row-even\"><td><p><a class=\"reference internal\" href=\"pandas.Series.between_time.html#pandas.Series.between_time\" title=\"pandas.Series.between_time\"><code class=\"xref py py-obj docutils literal notranslate\"><span class=\"pre\">between_time</span></code></a>(start_time,&nbsp;end_time[,&nbsp;...])</p></td>\n",
    "<td><p>Select values between particular times of the day (e.g., 9:00-9:30 AM).</p></td>\n",
    "</tr>\n",
    "<tr class=\"row-odd\"><td><p><a class=\"reference internal\" href=\"pandas.Series.bfill.html#pandas.Series.bfill\" title=\"pandas.Series.bfill\"><code class=\"xref py py-obj docutils literal notranslate\"><span class=\"pre\">bfill</span></code></a>([axis,&nbsp;inplace,&nbsp;limit,&nbsp;downcast])</p></td>\n",
    "<td><p>Synonym for <a class=\"reference internal\" href=\"pandas.DataFrame.fillna.html#pandas.DataFrame.fillna\" title=\"pandas.DataFrame.fillna\"><code class=\"xref py py-meth docutils literal notranslate\"><span class=\"pre\">DataFrame.fillna()</span></code></a> with <code class=\"docutils literal notranslate\"><span class=\"pre\">method='bfill'</span></code>.</p></td>\n",
    "</tr>\n",
    "<tr class=\"row-even\"><td><p><a class=\"reference internal\" href=\"pandas.Series.bool.html#pandas.Series.bool\" title=\"pandas.Series.bool\"><code class=\"xref py py-obj docutils literal notranslate\"><span class=\"pre\">bool</span></code></a>()</p></td>\n",
    "<td><p>Return the bool of a single element Series or DataFrame.</p></td>\n",
    "</tr>\n",
    "<tr class=\"row-odd\"><td><p><a class=\"reference internal\" href=\"pandas.Series.cat.html#pandas.Series.cat\" title=\"pandas.Series.cat\"><code class=\"xref py py-obj docutils literal notranslate\"><span class=\"pre\">cat</span></code></a></p></td>\n",
    "<td><p>alias of <code class=\"xref py py-class docutils literal notranslate\"><span class=\"pre\">pandas.core.arrays.categorical.CategoricalAccessor</span></code></p></td>\n",
    "</tr>\n",
    "<tr class=\"row-even\"><td><p><a class=\"reference internal\" href=\"pandas.Series.clip.html#pandas.Series.clip\" title=\"pandas.Series.clip\"><code class=\"xref py py-obj docutils literal notranslate\"><span class=\"pre\">clip</span></code></a>([lower,&nbsp;upper,&nbsp;axis,&nbsp;inplace])</p></td>\n",
    "<td><p>Trim values at input threshold(s).</p></td>\n",
    "</tr>\n",
    "<tr class=\"row-odd\"><td><p><a class=\"reference internal\" href=\"pandas.Series.combine.html#pandas.Series.combine\" title=\"pandas.Series.combine\"><code class=\"xref py py-obj docutils literal notranslate\"><span class=\"pre\">combine</span></code></a>(other,&nbsp;func[,&nbsp;fill_value])</p></td>\n",
    "<td><p>Combine the Series with a Series or scalar according to <cite>func</cite>.</p></td>\n",
    "</tr>\n",
    "<tr class=\"row-even\"><td><p><a class=\"reference internal\" href=\"pandas.Series.combine_first.html#pandas.Series.combine_first\" title=\"pandas.Series.combine_first\"><code class=\"xref py py-obj docutils literal notranslate\"><span class=\"pre\">combine_first</span></code></a>(other)</p></td>\n",
    "<td><p>Update null elements with value in the same location in 'other'.</p></td>\n",
    "</tr>\n",
    "<tr class=\"row-odd\"><td><p><a class=\"reference internal\" href=\"pandas.Series.compare.html#pandas.Series.compare\" title=\"pandas.Series.compare\"><code class=\"xref py py-obj docutils literal notranslate\"><span class=\"pre\">compare</span></code></a>(other[,&nbsp;align_axis,&nbsp;keep_shape,&nbsp;...])</p></td>\n",
    "<td><p>Compare to another Series and show the differences.</p></td>\n",
    "</tr>\n",
    "<tr class=\"row-even\"><td><p><a class=\"reference internal\" href=\"pandas.Series.convert_dtypes.html#pandas.Series.convert_dtypes\" title=\"pandas.Series.convert_dtypes\"><code class=\"xref py py-obj docutils literal notranslate\"><span class=\"pre\">convert_dtypes</span></code></a>([infer_objects,&nbsp;...])</p></td>\n",
    "<td><p>Convert columns to best possible dtypes using dtypes supporting <code class=\"docutils literal notranslate\"><span class=\"pre\">pd.NA</span></code>.</p></td>\n",
    "</tr>\n",
    "<tr class=\"row-odd\"><td><p><a class=\"reference internal\" href=\"pandas.Series.copy.html#pandas.Series.copy\" title=\"pandas.Series.copy\"><code class=\"xref py py-obj docutils literal notranslate\"><span class=\"pre\">copy</span></code></a>([deep])</p></td>\n",
    "<td><p>Make a copy of this object's indices and data.</p></td>\n",
    "</tr>\n",
    "<tr class=\"row-even\"><td><p><a class=\"reference internal\" href=\"pandas.Series.corr.html#pandas.Series.corr\" title=\"pandas.Series.corr\"><code class=\"xref py py-obj docutils literal notranslate\"><span class=\"pre\">corr</span></code></a>(other[,&nbsp;method,&nbsp;min_periods])</p></td>\n",
    "<td><p>Compute correlation with <cite>other</cite> Series, excluding missing values.</p></td>\n",
    "</tr>\n",
    "<tr class=\"row-odd\"><td><p><a class=\"reference internal\" href=\"pandas.Series.count.html#pandas.Series.count\" title=\"pandas.Series.count\"><code class=\"xref py py-obj docutils literal notranslate\"><span class=\"pre\">count</span></code></a>([level])</p></td>\n",
    "<td><p>Return number of non-NA/null observations in the Series.</p></td>\n",
    "</tr>\n",
    "<tr class=\"row-even\"><td><p><a class=\"reference internal\" href=\"pandas.Series.cov.html#pandas.Series.cov\" title=\"pandas.Series.cov\"><code class=\"xref py py-obj docutils literal notranslate\"><span class=\"pre\">cov</span></code></a>(other[,&nbsp;min_periods,&nbsp;ddof])</p></td>\n",
    "<td><p>Compute covariance with Series, excluding missing values.</p></td>\n",
    "</tr>\n",
    "<tr class=\"row-odd\"><td><p><a class=\"reference internal\" href=\"pandas.Series.cummax.html#pandas.Series.cummax\" title=\"pandas.Series.cummax\"><code class=\"xref py py-obj docutils literal notranslate\"><span class=\"pre\">cummax</span></code></a>([axis,&nbsp;skipna])</p></td>\n",
    "<td><p>Return cumulative maximum over a DataFrame or Series axis.</p></td>\n",
    "</tr>\n",
    "<tr class=\"row-even\"><td><p><a class=\"reference internal\" href=\"pandas.Series.cummin.html#pandas.Series.cummin\" title=\"pandas.Series.cummin\"><code class=\"xref py py-obj docutils literal notranslate\"><span class=\"pre\">cummin</span></code></a>([axis,&nbsp;skipna])</p></td>\n",
    "<td><p>Return cumulative minimum over a DataFrame or Series axis.</p></td>\n",
    "</tr>\n",
    "<tr class=\"row-odd\"><td><p><a class=\"reference internal\" href=\"pandas.Series.cumprod.html#pandas.Series.cumprod\" title=\"pandas.Series.cumprod\"><code class=\"xref py py-obj docutils literal notranslate\"><span class=\"pre\">cumprod</span></code></a>([axis,&nbsp;skipna])</p></td>\n",
    "<td><p>Return cumulative product over a DataFrame or Series axis.</p></td>\n",
    "</tr>\n",
    "<tr class=\"row-even\"><td><p><a class=\"reference internal\" href=\"pandas.Series.cumsum.html#pandas.Series.cumsum\" title=\"pandas.Series.cumsum\"><code class=\"xref py py-obj docutils literal notranslate\"><span class=\"pre\">cumsum</span></code></a>([axis,&nbsp;skipna])</p></td>\n",
    "<td><p>Return cumulative sum over a DataFrame or Series axis.</p></td>\n",
    "</tr>\n",
    "<tr class=\"row-odd\"><td><p><a class=\"reference internal\" href=\"pandas.Series.describe.html#pandas.Series.describe\" title=\"pandas.Series.describe\"><code class=\"xref py py-obj docutils literal notranslate\"><span class=\"pre\">describe</span></code></a>([percentiles,&nbsp;include,&nbsp;exclude,&nbsp;...])</p></td>\n",
    "<td><p>Generate descriptive statistics.</p></td>\n",
    "</tr>\n",
    "<tr class=\"row-even\"><td><p><a class=\"reference internal\" href=\"pandas.Series.diff.html#pandas.Series.diff\" title=\"pandas.Series.diff\"><code class=\"xref py py-obj docutils literal notranslate\"><span class=\"pre\">diff</span></code></a>([periods])</p></td>\n",
    "<td><p>First discrete difference of element.</p></td>\n",
    "</tr>\n",
    "<tr class=\"row-odd\"><td><p><a class=\"reference internal\" href=\"pandas.Series.div.html#pandas.Series.div\" title=\"pandas.Series.div\"><code class=\"xref py py-obj docutils literal notranslate\"><span class=\"pre\">div</span></code></a>(other[,&nbsp;level,&nbsp;fill_value,&nbsp;axis])</p></td>\n",
    "<td><p>Return Floating division of series and other, element-wise (binary operator <cite>truediv</cite>).</p></td>\n",
    "</tr>\n",
    "<tr class=\"row-even\"><td><p><a class=\"reference internal\" href=\"pandas.Series.divide.html#pandas.Series.divide\" title=\"pandas.Series.divide\"><code class=\"xref py py-obj docutils literal notranslate\"><span class=\"pre\">divide</span></code></a>(other[,&nbsp;level,&nbsp;fill_value,&nbsp;axis])</p></td>\n",
    "<td><p>Return Floating division of series and other, element-wise (binary operator <cite>truediv</cite>).</p></td>\n",
    "</tr>\n",
    "<tr class=\"row-odd\"><td><p><a class=\"reference internal\" href=\"pandas.Series.divmod.html#pandas.Series.divmod\" title=\"pandas.Series.divmod\"><code class=\"xref py py-obj docutils literal notranslate\"><span class=\"pre\">divmod</span></code></a>(other[,&nbsp;level,&nbsp;fill_value,&nbsp;axis])</p></td>\n",
    "<td><p>Return Integer division and modulo of series and other, element-wise (binary operator <cite>divmod</cite>).</p></td>\n",
    "</tr>\n",
    "<tr class=\"row-even\"><td><p><a class=\"reference internal\" href=\"pandas.Series.dot.html#pandas.Series.dot\" title=\"pandas.Series.dot\"><code class=\"xref py py-obj docutils literal notranslate\"><span class=\"pre\">dot</span></code></a>(other)</p></td>\n",
    "<td><p>Compute the dot product between the Series and the columns of other.</p></td>\n",
    "</tr>\n",
    "<tr class=\"row-odd\"><td><p><a class=\"reference internal\" href=\"pandas.Series.drop.html#pandas.Series.drop\" title=\"pandas.Series.drop\"><code class=\"xref py py-obj docutils literal notranslate\"><span class=\"pre\">drop</span></code></a>([labels,&nbsp;axis,&nbsp;index,&nbsp;columns,&nbsp;level,&nbsp;...])</p></td>\n",
    "<td><p>Return Series with specified index labels removed.</p></td>\n",
    "</tr>\n",
    "<tr class=\"row-even\"><td><p><a class=\"reference internal\" href=\"pandas.Series.drop_duplicates.html#pandas.Series.drop_duplicates\" title=\"pandas.Series.drop_duplicates\"><code class=\"xref py py-obj docutils literal notranslate\"><span class=\"pre\">drop_duplicates</span></code></a>([keep,&nbsp;inplace])</p></td>\n",
    "<td><p>Return Series with duplicate values removed.</p></td>\n",
    "</tr>\n",
    "<tr class=\"row-odd\"><td><p><a class=\"reference internal\" href=\"pandas.Series.droplevel.html#pandas.Series.droplevel\" title=\"pandas.Series.droplevel\"><code class=\"xref py py-obj docutils literal notranslate\"><span class=\"pre\">droplevel</span></code></a>(level[,&nbsp;axis])</p></td>\n",
    "<td><p>Return Series/DataFrame with requested index / column level(s) removed.</p></td>\n",
    "</tr>\n",
    "<tr class=\"row-even\"><td><p><a class=\"reference internal\" href=\"pandas.Series.dropna.html#pandas.Series.dropna\" title=\"pandas.Series.dropna\"><code class=\"xref py py-obj docutils literal notranslate\"><span class=\"pre\">dropna</span></code></a>([axis,&nbsp;inplace,&nbsp;how])</p></td>\n",
    "<td><p>Return a new Series with missing values removed.</p></td>\n",
    "</tr>\n",
    "<tr class=\"row-odd\"><td><p><a class=\"reference internal\" href=\"pandas.Series.dt.html#pandas.Series.dt\" title=\"pandas.Series.dt\"><code class=\"xref py py-obj docutils literal notranslate\"><span class=\"pre\">dt</span></code></a></p></td>\n",
    "<td><p>alias of <code class=\"xref py py-class docutils literal notranslate\"><span class=\"pre\">pandas.core.indexes.accessors.CombinedDatetimelikeProperties</span></code></p></td>\n",
    "</tr>\n",
    "<tr class=\"row-even\"><td><p><a class=\"reference internal\" href=\"pandas.Series.duplicated.html#pandas.Series.duplicated\" title=\"pandas.Series.duplicated\"><code class=\"xref py py-obj docutils literal notranslate\"><span class=\"pre\">duplicated</span></code></a>([keep])</p></td>\n",
    "<td><p>Indicate duplicate Series values.</p></td>\n",
    "</tr>\n",
    "<tr class=\"row-odd\"><td><p><a class=\"reference internal\" href=\"pandas.Series.eq.html#pandas.Series.eq\" title=\"pandas.Series.eq\"><code class=\"xref py py-obj docutils literal notranslate\"><span class=\"pre\">eq</span></code></a>(other[,&nbsp;level,&nbsp;fill_value,&nbsp;axis])</p></td>\n",
    "<td><p>Return Equal to of series and other, element-wise (binary operator <cite>eq</cite>).</p></td>\n",
    "</tr>\n",
    "<tr class=\"row-even\"><td><p><a class=\"reference internal\" href=\"pandas.Series.equals.html#pandas.Series.equals\" title=\"pandas.Series.equals\"><code class=\"xref py py-obj docutils literal notranslate\"><span class=\"pre\">equals</span></code></a>(other)</p></td>\n",
    "<td><p>Test whether two objects contain the same elements.</p></td>\n",
    "</tr>\n",
    "<tr class=\"row-odd\"><td><p><a class=\"reference internal\" href=\"pandas.Series.ewm.html#pandas.Series.ewm\" title=\"pandas.Series.ewm\"><code class=\"xref py py-obj docutils literal notranslate\"><span class=\"pre\">ewm</span></code></a>([com,&nbsp;span,&nbsp;halflife,&nbsp;alpha,&nbsp;...])</p></td>\n",
    "<td><p>Provide exponentially weighted (EW) calculations.</p></td>\n",
    "</tr>\n",
    "<tr class=\"row-even\"><td><p><a class=\"reference internal\" href=\"pandas.Series.expanding.html#pandas.Series.expanding\" title=\"pandas.Series.expanding\"><code class=\"xref py py-obj docutils literal notranslate\"><span class=\"pre\">expanding</span></code></a>([min_periods,&nbsp;center,&nbsp;axis,&nbsp;method])</p></td>\n",
    "<td><p>Provide expanding window calculations.</p></td>\n",
    "</tr>\n",
    "<tr class=\"row-odd\"><td><p><a class=\"reference internal\" href=\"pandas.Series.explode.html#pandas.Series.explode\" title=\"pandas.Series.explode\"><code class=\"xref py py-obj docutils literal notranslate\"><span class=\"pre\">explode</span></code></a>([ignore_index])</p></td>\n",
    "<td><p>Transform each element of a list-like to a row.</p></td>\n",
    "</tr>\n",
    "<tr class=\"row-even\"><td><p><a class=\"reference internal\" href=\"pandas.Series.factorize.html#pandas.Series.factorize\" title=\"pandas.Series.factorize\"><code class=\"xref py py-obj docutils literal notranslate\"><span class=\"pre\">factorize</span></code></a>([sort,&nbsp;na_sentinel,&nbsp;use_na_sentinel])</p></td>\n",
    "<td><p>Encode the object as an enumerated type or categorical variable.</p></td>\n",
    "</tr>\n",
    "<tr class=\"row-odd\"><td><p><a class=\"reference internal\" href=\"pandas.Series.ffill.html#pandas.Series.ffill\" title=\"pandas.Series.ffill\"><code class=\"xref py py-obj docutils literal notranslate\"><span class=\"pre\">ffill</span></code></a>([axis,&nbsp;inplace,&nbsp;limit,&nbsp;downcast])</p></td>\n",
    "<td><p>Synonym for <a class=\"reference internal\" href=\"pandas.DataFrame.fillna.html#pandas.DataFrame.fillna\" title=\"pandas.DataFrame.fillna\"><code class=\"xref py py-meth docutils literal notranslate\"><span class=\"pre\">DataFrame.fillna()</span></code></a> with <code class=\"docutils literal notranslate\"><span class=\"pre\">method='ffill'</span></code>.</p></td>\n",
    "</tr>\n",
    "<tr class=\"row-even\"><td><p><a class=\"reference internal\" href=\"pandas.Series.fillna.html#pandas.Series.fillna\" title=\"pandas.Series.fillna\"><code class=\"xref py py-obj docutils literal notranslate\"><span class=\"pre\">fillna</span></code></a>([value,&nbsp;method,&nbsp;axis,&nbsp;inplace,&nbsp;...])</p></td>\n",
    "<td><p>Fill NA/NaN values using the specified method.</p></td>\n",
    "</tr>\n",
    "<tr class=\"row-odd\"><td><p><a class=\"reference internal\" href=\"pandas.Series.filter.html#pandas.Series.filter\" title=\"pandas.Series.filter\"><code class=\"xref py py-obj docutils literal notranslate\"><span class=\"pre\">filter</span></code></a>([items,&nbsp;like,&nbsp;regex,&nbsp;axis])</p></td>\n",
    "<td><p>Subset the dataframe rows or columns according to the specified index labels.</p></td>\n",
    "</tr>\n",
    "<tr class=\"row-even\"><td><p><a class=\"reference internal\" href=\"pandas.Series.first.html#pandas.Series.first\" title=\"pandas.Series.first\"><code class=\"xref py py-obj docutils literal notranslate\"><span class=\"pre\">first</span></code></a>(offset)</p></td>\n",
    "<td><p>Select initial periods of time series data based on a date offset.</p></td>\n",
    "</tr>\n",
    "<tr class=\"row-odd\"><td><p><a class=\"reference internal\" href=\"pandas.Series.first_valid_index.html#pandas.Series.first_valid_index\" title=\"pandas.Series.first_valid_index\"><code class=\"xref py py-obj docutils literal notranslate\"><span class=\"pre\">first_valid_index</span></code></a>()</p></td>\n",
    "<td><p>Return index for first non-NA value or None, if no non-NA value is found.</p></td>\n",
    "</tr>\n",
    "<tr class=\"row-even\"><td><p><a class=\"reference internal\" href=\"pandas.Series.floordiv.html#pandas.Series.floordiv\" title=\"pandas.Series.floordiv\"><code class=\"xref py py-obj docutils literal notranslate\"><span class=\"pre\">floordiv</span></code></a>(other[,&nbsp;level,&nbsp;fill_value,&nbsp;axis])</p></td>\n",
    "<td><p>Return Integer division of series and other, element-wise (binary operator <cite>floordiv</cite>).</p></td>\n",
    "</tr>\n",
    "<tr class=\"row-odd\"><td><p><a class=\"reference internal\" href=\"pandas.Series.ge.html#pandas.Series.ge\" title=\"pandas.Series.ge\"><code class=\"xref py py-obj docutils literal notranslate\"><span class=\"pre\">ge</span></code></a>(other[,&nbsp;level,&nbsp;fill_value,&nbsp;axis])</p></td>\n",
    "<td><p>Return Greater than or equal to of series and other, element-wise (binary operator <cite>ge</cite>).</p></td>\n",
    "</tr>\n",
    "<tr class=\"row-even\"><td><p><a class=\"reference internal\" href=\"pandas.Series.get.html#pandas.Series.get\" title=\"pandas.Series.get\"><code class=\"xref py py-obj docutils literal notranslate\"><span class=\"pre\">get</span></code></a>(key[,&nbsp;default])</p></td>\n",
    "<td><p>Get item from object for given key (ex: DataFrame column).</p></td>\n",
    "</tr>\n",
    "<tr class=\"row-odd\"><td><p><a class=\"reference internal\" href=\"pandas.Series.groupby.html#pandas.Series.groupby\" title=\"pandas.Series.groupby\"><code class=\"xref py py-obj docutils literal notranslate\"><span class=\"pre\">groupby</span></code></a>([by,&nbsp;axis,&nbsp;level,&nbsp;as_index,&nbsp;sort,&nbsp;...])</p></td>\n",
    "<td><p>Group Series using a mapper or by a Series of columns.</p></td>\n",
    "</tr>\n",
    "<tr class=\"row-even\"><td><p><a class=\"reference internal\" href=\"pandas.Series.gt.html#pandas.Series.gt\" title=\"pandas.Series.gt\"><code class=\"xref py py-obj docutils literal notranslate\"><span class=\"pre\">gt</span></code></a>(other[,&nbsp;level,&nbsp;fill_value,&nbsp;axis])</p></td>\n",
    "<td><p>Return Greater than of series and other, element-wise (binary operator <cite>gt</cite>).</p></td>\n",
    "</tr>\n",
    "<tr class=\"row-odd\"><td><p><a class=\"reference internal\" href=\"pandas.Series.head.html#pandas.Series.head\" title=\"pandas.Series.head\"><code class=\"xref py py-obj docutils literal notranslate\"><span class=\"pre\">head</span></code></a>([n])</p></td>\n",
    "<td><p>Return the first <cite>n</cite> rows.</p></td>\n",
    "</tr>\n",
    "<tr class=\"row-even\"><td><p><a class=\"reference internal\" href=\"pandas.Series.hist.html#pandas.Series.hist\" title=\"pandas.Series.hist\"><code class=\"xref py py-obj docutils literal notranslate\"><span class=\"pre\">hist</span></code></a>([by,&nbsp;ax,&nbsp;grid,&nbsp;xlabelsize,&nbsp;xrot,&nbsp;...])</p></td>\n",
    "<td><p>Draw histogram of the input series using matplotlib.</p></td>\n",
    "</tr>\n",
    "<tr class=\"row-odd\"><td><p><a class=\"reference internal\" href=\"pandas.Series.idxmax.html#pandas.Series.idxmax\" title=\"pandas.Series.idxmax\"><code class=\"xref py py-obj docutils literal notranslate\"><span class=\"pre\">idxmax</span></code></a>([axis,&nbsp;skipna])</p></td>\n",
    "<td><p>Return the row label of the maximum value.</p></td>\n",
    "</tr>\n",
    "<tr class=\"row-even\"><td><p><a class=\"reference internal\" href=\"pandas.Series.idxmin.html#pandas.Series.idxmin\" title=\"pandas.Series.idxmin\"><code class=\"xref py py-obj docutils literal notranslate\"><span class=\"pre\">idxmin</span></code></a>([axis,&nbsp;skipna])</p></td>\n",
    "<td><p>Return the row label of the minimum value.</p></td>\n",
    "</tr>\n",
    "<tr class=\"row-odd\"><td><p><a class=\"reference internal\" href=\"pandas.Series.infer_objects.html#pandas.Series.infer_objects\" title=\"pandas.Series.infer_objects\"><code class=\"xref py py-obj docutils literal notranslate\"><span class=\"pre\">infer_objects</span></code></a>()</p></td>\n",
    "<td><p>Attempt to infer better dtypes for object columns.</p></td>\n",
    "</tr>\n",
    "<tr class=\"row-even\"><td><p><a class=\"reference internal\" href=\"pandas.Series.info.html#pandas.Series.info\" title=\"pandas.Series.info\"><code class=\"xref py py-obj docutils literal notranslate\"><span class=\"pre\">info</span></code></a>([verbose,&nbsp;buf,&nbsp;max_cols,&nbsp;memory_usage,&nbsp;...])</p></td>\n",
    "<td><p>Print a concise summary of a Series.</p></td>\n",
    "</tr>\n",
    "<tr class=\"row-odd\"><td><p><a class=\"reference internal\" href=\"pandas.Series.interpolate.html#pandas.Series.interpolate\" title=\"pandas.Series.interpolate\"><code class=\"xref py py-obj docutils literal notranslate\"><span class=\"pre\">interpolate</span></code></a>([method,&nbsp;axis,&nbsp;limit,&nbsp;inplace,&nbsp;...])</p></td>\n",
    "<td><p>Fill NaN values using an interpolation method.</p></td>\n",
    "</tr>\n",
    "<tr class=\"row-even\"><td><p><a class=\"reference internal\" href=\"pandas.Series.isin.html#pandas.Series.isin\" title=\"pandas.Series.isin\"><code class=\"xref py py-obj docutils literal notranslate\"><span class=\"pre\">isin</span></code></a>(values)</p></td>\n",
    "<td><p>Whether elements in Series are contained in <cite>values</cite>.</p></td>\n",
    "</tr>\n",
    "<tr class=\"row-odd\"><td><p><a class=\"reference internal\" href=\"pandas.Series.isna.html#pandas.Series.isna\" title=\"pandas.Series.isna\"><code class=\"xref py py-obj docutils literal notranslate\"><span class=\"pre\">isna</span></code></a>()</p></td>\n",
    "<td><p>Detect missing values.</p></td>\n",
    "</tr>\n",
    "<tr class=\"row-even\"><td><p><a class=\"reference internal\" href=\"pandas.Series.isnull.html#pandas.Series.isnull\" title=\"pandas.Series.isnull\"><code class=\"xref py py-obj docutils literal notranslate\"><span class=\"pre\">isnull</span></code></a>()</p></td>\n",
    "<td><p>Series.isnull is an alias for Series.isna.</p></td>\n",
    "</tr>\n",
    "<tr class=\"row-odd\"><td><p><a class=\"reference internal\" href=\"pandas.Series.item.html#pandas.Series.item\" title=\"pandas.Series.item\"><code class=\"xref py py-obj docutils literal notranslate\"><span class=\"pre\">item</span></code></a>()</p></td>\n",
    "<td><p>Return the first element of the underlying data as a Python scalar.</p></td>\n",
    "</tr>\n",
    "<tr class=\"row-even\"><td><p><a class=\"reference internal\" href=\"pandas.Series.items.html#pandas.Series.items\" title=\"pandas.Series.items\"><code class=\"xref py py-obj docutils literal notranslate\"><span class=\"pre\">items</span></code></a>()</p></td>\n",
    "<td><p>Lazily iterate over (index, value) tuples.</p></td>\n",
    "</tr>\n",
    "<tr class=\"row-odd\"><td><p><a class=\"reference internal\" href=\"pandas.Series.iteritems.html#pandas.Series.iteritems\" title=\"pandas.Series.iteritems\"><code class=\"xref py py-obj docutils literal notranslate\"><span class=\"pre\">iteritems</span></code></a>()</p></td>\n",
    "<td><p>(DEPRECATED) Lazily iterate over (index, value) tuples.</p></td>\n",
    "</tr>\n",
    "<tr class=\"row-even\"><td><p><a class=\"reference internal\" href=\"pandas.Series.keys.html#pandas.Series.keys\" title=\"pandas.Series.keys\"><code class=\"xref py py-obj docutils literal notranslate\"><span class=\"pre\">keys</span></code></a>()</p></td>\n",
    "<td><p>Return alias for index.</p></td>\n",
    "</tr>\n",
    "<tr class=\"row-odd\"><td><p><a class=\"reference internal\" href=\"pandas.Series.kurt.html#pandas.Series.kurt\" title=\"pandas.Series.kurt\"><code class=\"xref py py-obj docutils literal notranslate\"><span class=\"pre\">kurt</span></code></a>([axis,&nbsp;skipna,&nbsp;level,&nbsp;numeric_only])</p></td>\n",
    "<td><p>Return unbiased kurtosis over requested axis.</p></td>\n",
    "</tr>\n",
    "<tr class=\"row-even\"><td><p><a class=\"reference internal\" href=\"pandas.Series.kurtosis.html#pandas.Series.kurtosis\" title=\"pandas.Series.kurtosis\"><code class=\"xref py py-obj docutils literal notranslate\"><span class=\"pre\">kurtosis</span></code></a>([axis,&nbsp;skipna,&nbsp;level,&nbsp;numeric_only])</p></td>\n",
    "<td><p>Return unbiased kurtosis over requested axis.</p></td>\n",
    "</tr>\n",
    "<tr class=\"row-odd\"><td><p><a class=\"reference internal\" href=\"pandas.Series.last.html#pandas.Series.last\" title=\"pandas.Series.last\"><code class=\"xref py py-obj docutils literal notranslate\"><span class=\"pre\">last</span></code></a>(offset)</p></td>\n",
    "<td><p>Select final periods of time series data based on a date offset.</p></td>\n",
    "</tr>\n",
    "<tr class=\"row-even\"><td><p><a class=\"reference internal\" href=\"pandas.Series.last_valid_index.html#pandas.Series.last_valid_index\" title=\"pandas.Series.last_valid_index\"><code class=\"xref py py-obj docutils literal notranslate\"><span class=\"pre\">last_valid_index</span></code></a>()</p></td>\n",
    "<td><p>Return index for last non-NA value or None, if no non-NA value is found.</p></td>\n",
    "</tr>\n",
    "<tr class=\"row-odd\"><td><p><a class=\"reference internal\" href=\"pandas.Series.le.html#pandas.Series.le\" title=\"pandas.Series.le\"><code class=\"xref py py-obj docutils literal notranslate\"><span class=\"pre\">le</span></code></a>(other[,&nbsp;level,&nbsp;fill_value,&nbsp;axis])</p></td>\n",
    "<td><p>Return Less than or equal to of series and other, element-wise (binary operator <cite>le</cite>).</p></td>\n",
    "</tr>\n",
    "<tr class=\"row-even\"><td><p><a class=\"reference internal\" href=\"pandas.Series.lt.html#pandas.Series.lt\" title=\"pandas.Series.lt\"><code class=\"xref py py-obj docutils literal notranslate\"><span class=\"pre\">lt</span></code></a>(other[,&nbsp;level,&nbsp;fill_value,&nbsp;axis])</p></td>\n",
    "<td><p>Return Less than of series and other, element-wise (binary operator <cite>lt</cite>).</p></td>\n",
    "</tr>\n",
    "<tr class=\"row-odd\"><td><p><a class=\"reference internal\" href=\"pandas.Series.mad.html#pandas.Series.mad\" title=\"pandas.Series.mad\"><code class=\"xref py py-obj docutils literal notranslate\"><span class=\"pre\">mad</span></code></a>([axis,&nbsp;skipna,&nbsp;level])</p></td>\n",
    "<td><p>(DEPRECATED) Return the mean absolute deviation of the values over the requested axis.</p></td>\n",
    "</tr>\n",
    "<tr class=\"row-even\"><td><p><a class=\"reference internal\" href=\"pandas.Series.map.html#pandas.Series.map\" title=\"pandas.Series.map\"><code class=\"xref py py-obj docutils literal notranslate\"><span class=\"pre\">map</span></code></a>(arg[,&nbsp;na_action])</p></td>\n",
    "<td><p>Map values of Series according to an input mapping or function.</p></td>\n",
    "</tr>\n",
    "<tr class=\"row-odd\"><td><p><a class=\"reference internal\" href=\"pandas.Series.mask.html#pandas.Series.mask\" title=\"pandas.Series.mask\"><code class=\"xref py py-obj docutils literal notranslate\"><span class=\"pre\">mask</span></code></a>(cond[,&nbsp;other,&nbsp;inplace,&nbsp;axis,&nbsp;level,&nbsp;...])</p></td>\n",
    "<td><p>Replace values where the condition is True.</p></td>\n",
    "</tr>\n",
    "<tr class=\"row-even\"><td><p><a class=\"reference internal\" href=\"pandas.Series.max.html#pandas.Series.max\" title=\"pandas.Series.max\"><code class=\"xref py py-obj docutils literal notranslate\"><span class=\"pre\">max</span></code></a>([axis,&nbsp;skipna,&nbsp;level,&nbsp;numeric_only])</p></td>\n",
    "<td><p>Return the maximum of the values over the requested axis.</p></td>\n",
    "</tr>\n",
    "<tr class=\"row-odd\"><td><p><a class=\"reference internal\" href=\"pandas.Series.mean.html#pandas.Series.mean\" title=\"pandas.Series.mean\"><code class=\"xref py py-obj docutils literal notranslate\"><span class=\"pre\">mean</span></code></a>([axis,&nbsp;skipna,&nbsp;level,&nbsp;numeric_only])</p></td>\n",
    "<td><p>Return the mean of the values over the requested axis.</p></td>\n",
    "</tr>\n",
    "<tr class=\"row-even\"><td><p><a class=\"reference internal\" href=\"pandas.Series.median.html#pandas.Series.median\" title=\"pandas.Series.median\"><code class=\"xref py py-obj docutils literal notranslate\"><span class=\"pre\">median</span></code></a>([axis,&nbsp;skipna,&nbsp;level,&nbsp;numeric_only])</p></td>\n",
    "<td><p>Return the median of the values over the requested axis.</p></td>\n",
    "</tr>\n",
    "<tr class=\"row-odd\"><td><p><a class=\"reference internal\" href=\"pandas.Series.memory_usage.html#pandas.Series.memory_usage\" title=\"pandas.Series.memory_usage\"><code class=\"xref py py-obj docutils literal notranslate\"><span class=\"pre\">memory_usage</span></code></a>([index,&nbsp;deep])</p></td>\n",
    "<td><p>Return the memory usage of the Series.</p></td>\n",
    "</tr>\n",
    "<tr class=\"row-even\"><td><p><a class=\"reference internal\" href=\"pandas.Series.min.html#pandas.Series.min\" title=\"pandas.Series.min\"><code class=\"xref py py-obj docutils literal notranslate\"><span class=\"pre\">min</span></code></a>([axis,&nbsp;skipna,&nbsp;level,&nbsp;numeric_only])</p></td>\n",
    "<td><p>Return the minimum of the values over the requested axis.</p></td>\n",
    "</tr>\n",
    "<tr class=\"row-odd\"><td><p><a class=\"reference internal\" href=\"pandas.Series.mod.html#pandas.Series.mod\" title=\"pandas.Series.mod\"><code class=\"xref py py-obj docutils literal notranslate\"><span class=\"pre\">mod</span></code></a>(other[,&nbsp;level,&nbsp;fill_value,&nbsp;axis])</p></td>\n",
    "<td><p>Return Modulo of series and other, element-wise (binary operator <cite>mod</cite>).</p></td>\n",
    "</tr>\n",
    "<tr class=\"row-even\"><td><p><a class=\"reference internal\" href=\"pandas.Series.mode.html#pandas.Series.mode\" title=\"pandas.Series.mode\"><code class=\"xref py py-obj docutils literal notranslate\"><span class=\"pre\">mode</span></code></a>([dropna])</p></td>\n",
    "<td><p>Return the mode(s) of the Series.</p></td>\n",
    "</tr>\n",
    "<tr class=\"row-odd\"><td><p><a class=\"reference internal\" href=\"pandas.Series.mul.html#pandas.Series.mul\" title=\"pandas.Series.mul\"><code class=\"xref py py-obj docutils literal notranslate\"><span class=\"pre\">mul</span></code></a>(other[,&nbsp;level,&nbsp;fill_value,&nbsp;axis])</p></td>\n",
    "<td><p>Return Multiplication of series and other, element-wise (binary operator <cite>mul</cite>).</p></td>\n",
    "</tr>\n",
    "<tr class=\"row-even\"><td><p><a class=\"reference internal\" href=\"pandas.Series.multiply.html#pandas.Series.multiply\" title=\"pandas.Series.multiply\"><code class=\"xref py py-obj docutils literal notranslate\"><span class=\"pre\">multiply</span></code></a>(other[,&nbsp;level,&nbsp;fill_value,&nbsp;axis])</p></td>\n",
    "<td><p>Return Multiplication of series and other, element-wise (binary operator <cite>mul</cite>).</p></td>\n",
    "</tr>\n",
    "<tr class=\"row-odd\"><td><p><a class=\"reference internal\" href=\"pandas.Series.ne.html#pandas.Series.ne\" title=\"pandas.Series.ne\"><code class=\"xref py py-obj docutils literal notranslate\"><span class=\"pre\">ne</span></code></a>(other[,&nbsp;level,&nbsp;fill_value,&nbsp;axis])</p></td>\n",
    "<td><p>Return Not equal to of series and other, element-wise (binary operator <cite>ne</cite>).</p></td>\n",
    "</tr>\n",
    "<tr class=\"row-even\"><td><p><a class=\"reference internal\" href=\"pandas.Series.nlargest.html#pandas.Series.nlargest\" title=\"pandas.Series.nlargest\"><code class=\"xref py py-obj docutils literal notranslate\"><span class=\"pre\">nlargest</span></code></a>([n,&nbsp;keep])</p></td>\n",
    "<td><p>Return the largest <cite>n</cite> elements.</p></td>\n",
    "</tr>\n",
    "<tr class=\"row-odd\"><td><p><a class=\"reference internal\" href=\"pandas.Series.notna.html#pandas.Series.notna\" title=\"pandas.Series.notna\"><code class=\"xref py py-obj docutils literal notranslate\"><span class=\"pre\">notna</span></code></a>()</p></td>\n",
    "<td><p>Detect existing (non-missing) values.</p></td>\n",
    "</tr>\n",
    "<tr class=\"row-even\"><td><p><a class=\"reference internal\" href=\"pandas.Series.notnull.html#pandas.Series.notnull\" title=\"pandas.Series.notnull\"><code class=\"xref py py-obj docutils literal notranslate\"><span class=\"pre\">notnull</span></code></a>()</p></td>\n",
    "<td><p>Series.notnull is an alias for Series.notna.</p></td>\n",
    "</tr>\n",
    "<tr class=\"row-odd\"><td><p><a class=\"reference internal\" href=\"pandas.Series.nsmallest.html#pandas.Series.nsmallest\" title=\"pandas.Series.nsmallest\"><code class=\"xref py py-obj docutils literal notranslate\"><span class=\"pre\">nsmallest</span></code></a>([n,&nbsp;keep])</p></td>\n",
    "<td><p>Return the smallest <cite>n</cite> elements.</p></td>\n",
    "</tr>\n",
    "<tr class=\"row-even\"><td><p><a class=\"reference internal\" href=\"pandas.Series.nunique.html#pandas.Series.nunique\" title=\"pandas.Series.nunique\"><code class=\"xref py py-obj docutils literal notranslate\"><span class=\"pre\">nunique</span></code></a>([dropna])</p></td>\n",
    "<td><p>Return number of unique elements in the object.</p></td>\n",
    "</tr>\n",
    "<tr class=\"row-odd\"><td><p><a class=\"reference internal\" href=\"pandas.Series.pad.html#pandas.Series.pad\" title=\"pandas.Series.pad\"><code class=\"xref py py-obj docutils literal notranslate\"><span class=\"pre\">pad</span></code></a>([axis,&nbsp;inplace,&nbsp;limit,&nbsp;downcast])</p></td>\n",
    "<td><p>Synonym for <a class=\"reference internal\" href=\"pandas.DataFrame.fillna.html#pandas.DataFrame.fillna\" title=\"pandas.DataFrame.fillna\"><code class=\"xref py py-meth docutils literal notranslate\"><span class=\"pre\">DataFrame.fillna()</span></code></a> with <code class=\"docutils literal notranslate\"><span class=\"pre\">method='ffill'</span></code>.</p></td>\n",
    "</tr>\n",
    "<tr class=\"row-even\"><td><p><a class=\"reference internal\" href=\"pandas.Series.pct_change.html#pandas.Series.pct_change\" title=\"pandas.Series.pct_change\"><code class=\"xref py py-obj docutils literal notranslate\"><span class=\"pre\">pct_change</span></code></a>([periods,&nbsp;fill_method,&nbsp;limit,&nbsp;freq])</p></td>\n",
    "<td><p>Percentage change between the current and a prior element.</p></td>\n",
    "</tr>\n",
    "<tr class=\"row-odd\"><td><p><a class=\"reference internal\" href=\"pandas.Series.pipe.html#pandas.Series.pipe\" title=\"pandas.Series.pipe\"><code class=\"xref py py-obj docutils literal notranslate\"><span class=\"pre\">pipe</span></code></a>(func,&nbsp;*args,&nbsp;**kwargs)</p></td>\n",
    "<td><p>Apply chainable functions that expect Series or DataFrames.</p></td>\n",
    "</tr>\n",
    "<tr class=\"row-even\"><td><p><a class=\"reference internal\" href=\"pandas.Series.plot.html#pandas.Series.plot\" title=\"pandas.Series.plot\"><code class=\"xref py py-obj docutils literal notranslate\"><span class=\"pre\">plot</span></code></a></p></td>\n",
    "<td><p>alias of <code class=\"xref py py-class docutils literal notranslate\"><span class=\"pre\">pandas.plotting._core.PlotAccessor</span></code></p></td>\n",
    "</tr>\n",
    "<tr class=\"row-odd\"><td><p><a class=\"reference internal\" href=\"pandas.Series.pop.html#pandas.Series.pop\" title=\"pandas.Series.pop\"><code class=\"xref py py-obj docutils literal notranslate\"><span class=\"pre\">pop</span></code></a>(item)</p></td>\n",
    "<td><p>Return item and drops from series.</p></td>\n",
    "</tr>\n",
    "<tr class=\"row-even\"><td><p><a class=\"reference internal\" href=\"pandas.Series.pow.html#pandas.Series.pow\" title=\"pandas.Series.pow\"><code class=\"xref py py-obj docutils literal notranslate\"><span class=\"pre\">pow</span></code></a>(other[,&nbsp;level,&nbsp;fill_value,&nbsp;axis])</p></td>\n",
    "<td><p>Return Exponential power of series and other, element-wise (binary operator <cite>pow</cite>).</p></td>\n",
    "</tr>\n",
    "<tr class=\"row-odd\"><td><p><a class=\"reference internal\" href=\"pandas.Series.prod.html#pandas.Series.prod\" title=\"pandas.Series.prod\"><code class=\"xref py py-obj docutils literal notranslate\"><span class=\"pre\">prod</span></code></a>([axis,&nbsp;skipna,&nbsp;level,&nbsp;numeric_only,&nbsp;...])</p></td>\n",
    "<td><p>Return the product of the values over the requested axis.</p></td>\n",
    "</tr>\n",
    "<tr class=\"row-even\"><td><p><a class=\"reference internal\" href=\"pandas.Series.product.html#pandas.Series.product\" title=\"pandas.Series.product\"><code class=\"xref py py-obj docutils literal notranslate\"><span class=\"pre\">product</span></code></a>([axis,&nbsp;skipna,&nbsp;level,&nbsp;numeric_only,&nbsp;...])</p></td>\n",
    "<td><p>Return the product of the values over the requested axis.</p></td>\n",
    "</tr>\n",
    "<tr class=\"row-odd\"><td><p><a class=\"reference internal\" href=\"pandas.Series.quantile.html#pandas.Series.quantile\" title=\"pandas.Series.quantile\"><code class=\"xref py py-obj docutils literal notranslate\"><span class=\"pre\">quantile</span></code></a>([q,&nbsp;interpolation])</p></td>\n",
    "<td><p>Return value at the given quantile.</p></td>\n",
    "</tr>\n",
    "<tr class=\"row-even\"><td><p><a class=\"reference internal\" href=\"pandas.Series.radd.html#pandas.Series.radd\" title=\"pandas.Series.radd\"><code class=\"xref py py-obj docutils literal notranslate\"><span class=\"pre\">radd</span></code></a>(other[,&nbsp;level,&nbsp;fill_value,&nbsp;axis])</p></td>\n",
    "<td><p>Return Addition of series and other, element-wise (binary operator <cite>radd</cite>).</p></td>\n",
    "</tr>\n",
    "<tr class=\"row-odd\"><td><p><a class=\"reference internal\" href=\"pandas.Series.rank.html#pandas.Series.rank\" title=\"pandas.Series.rank\"><code class=\"xref py py-obj docutils literal notranslate\"><span class=\"pre\">rank</span></code></a>([axis,&nbsp;method,&nbsp;numeric_only,&nbsp;...])</p></td>\n",
    "<td><p>Compute numerical data ranks (1 through n) along axis.</p></td>\n",
    "</tr>\n",
    "<tr class=\"row-even\"><td><p><a class=\"reference internal\" href=\"pandas.Series.ravel.html#pandas.Series.ravel\" title=\"pandas.Series.ravel\"><code class=\"xref py py-obj docutils literal notranslate\"><span class=\"pre\">ravel</span></code></a>([order])</p></td>\n",
    "<td><p>Return the flattened underlying data as an ndarray.</p></td>\n",
    "</tr>\n",
    "<tr class=\"row-odd\"><td><p><a class=\"reference internal\" href=\"pandas.Series.rdiv.html#pandas.Series.rdiv\" title=\"pandas.Series.rdiv\"><code class=\"xref py py-obj docutils literal notranslate\"><span class=\"pre\">rdiv</span></code></a>(other[,&nbsp;level,&nbsp;fill_value,&nbsp;axis])</p></td>\n",
    "<td><p>Return Floating division of series and other, element-wise (binary operator <cite>rtruediv</cite>).</p></td>\n",
    "</tr>\n",
    "<tr class=\"row-even\"><td><p><a class=\"reference internal\" href=\"pandas.Series.rdivmod.html#pandas.Series.rdivmod\" title=\"pandas.Series.rdivmod\"><code class=\"xref py py-obj docutils literal notranslate\"><span class=\"pre\">rdivmod</span></code></a>(other[,&nbsp;level,&nbsp;fill_value,&nbsp;axis])</p></td>\n",
    "<td><p>Return Integer division and modulo of series and other, element-wise (binary operator <cite>rdivmod</cite>).</p></td>\n",
    "</tr>\n",
    "<tr class=\"row-odd\"><td><p><a class=\"reference internal\" href=\"pandas.Series.reindex.html#pandas.Series.reindex\" title=\"pandas.Series.reindex\"><code class=\"xref py py-obj docutils literal notranslate\"><span class=\"pre\">reindex</span></code></a>(*args,&nbsp;**kwargs)</p></td>\n",
    "<td><p>Conform Series to new index with optional filling logic.</p></td>\n",
    "</tr>\n",
    "<tr class=\"row-even\"><td><p><a class=\"reference internal\" href=\"pandas.Series.reindex_like.html#pandas.Series.reindex_like\" title=\"pandas.Series.reindex_like\"><code class=\"xref py py-obj docutils literal notranslate\"><span class=\"pre\">reindex_like</span></code></a>(other[,&nbsp;method,&nbsp;copy,&nbsp;limit,&nbsp;...])</p></td>\n",
    "<td><p>Return an object with matching indices as other object.</p></td>\n",
    "</tr>\n",
    "<tr class=\"row-odd\"><td><p><a class=\"reference internal\" href=\"pandas.Series.rename.html#pandas.Series.rename\" title=\"pandas.Series.rename\"><code class=\"xref py py-obj docutils literal notranslate\"><span class=\"pre\">rename</span></code></a>([index,&nbsp;axis,&nbsp;copy,&nbsp;inplace,&nbsp;level,&nbsp;...])</p></td>\n",
    "<td><p>Alter Series index labels or name.</p></td>\n",
    "</tr>\n",
    "<tr class=\"row-even\"><td><p><a class=\"reference internal\" href=\"pandas.Series.rename_axis.html#pandas.Series.rename_axis\" title=\"pandas.Series.rename_axis\"><code class=\"xref py py-obj docutils literal notranslate\"><span class=\"pre\">rename_axis</span></code></a>([mapper,&nbsp;index,&nbsp;columns,&nbsp;axis,&nbsp;copy])</p></td>\n",
    "<td><p>Set the name of the axis for the index or columns.</p></td>\n",
    "</tr>\n",
    "<tr class=\"row-odd\"><td><p><a class=\"reference internal\" href=\"pandas.Series.reorder_levels.html#pandas.Series.reorder_levels\" title=\"pandas.Series.reorder_levels\"><code class=\"xref py py-obj docutils literal notranslate\"><span class=\"pre\">reorder_levels</span></code></a>(order)</p></td>\n",
    "<td><p>Rearrange index levels using input order.</p></td>\n",
    "</tr>\n",
    "<tr class=\"row-even\"><td><p><a class=\"reference internal\" href=\"pandas.Series.repeat.html#pandas.Series.repeat\" title=\"pandas.Series.repeat\"><code class=\"xref py py-obj docutils literal notranslate\"><span class=\"pre\">repeat</span></code></a>(repeats[,&nbsp;axis])</p></td>\n",
    "<td><p>Repeat elements of a Series.</p></td>\n",
    "</tr>\n",
    "<tr class=\"row-odd\"><td><p><a class=\"reference internal\" href=\"pandas.Series.replace.html#pandas.Series.replace\" title=\"pandas.Series.replace\"><code class=\"xref py py-obj docutils literal notranslate\"><span class=\"pre\">replace</span></code></a>([to_replace,&nbsp;value,&nbsp;inplace,&nbsp;limit,&nbsp;...])</p></td>\n",
    "<td><p>Replace values given in <cite>to_replace</cite> with <cite>value</cite>.</p></td>\n",
    "</tr>\n",
    "<tr class=\"row-even\"><td><p><a class=\"reference internal\" href=\"pandas.Series.resample.html#pandas.Series.resample\" title=\"pandas.Series.resample\"><code class=\"xref py py-obj docutils literal notranslate\"><span class=\"pre\">resample</span></code></a>(rule[,&nbsp;axis,&nbsp;closed,&nbsp;label,&nbsp;...])</p></td>\n",
    "<td><p>Resample time-series data.</p></td>\n",
    "</tr>\n",
    "<tr class=\"row-odd\"><td><p><a class=\"reference internal\" href=\"pandas.Series.reset_index.html#pandas.Series.reset_index\" title=\"pandas.Series.reset_index\"><code class=\"xref py py-obj docutils literal notranslate\"><span class=\"pre\">reset_index</span></code></a>([level,&nbsp;drop,&nbsp;name,&nbsp;inplace,&nbsp;...])</p></td>\n",
    "<td><p>Generate a new DataFrame or Series with the index reset.</p></td>\n",
    "</tr>\n",
    "<tr class=\"row-even\"><td><p><a class=\"reference internal\" href=\"pandas.Series.rfloordiv.html#pandas.Series.rfloordiv\" title=\"pandas.Series.rfloordiv\"><code class=\"xref py py-obj docutils literal notranslate\"><span class=\"pre\">rfloordiv</span></code></a>(other[,&nbsp;level,&nbsp;fill_value,&nbsp;axis])</p></td>\n",
    "<td><p>Return Integer division of series and other, element-wise (binary operator <cite>rfloordiv</cite>).</p></td>\n",
    "</tr>\n",
    "<tr class=\"row-odd\"><td><p><a class=\"reference internal\" href=\"pandas.Series.rmod.html#pandas.Series.rmod\" title=\"pandas.Series.rmod\"><code class=\"xref py py-obj docutils literal notranslate\"><span class=\"pre\">rmod</span></code></a>(other[,&nbsp;level,&nbsp;fill_value,&nbsp;axis])</p></td>\n",
    "<td><p>Return Modulo of series and other, element-wise (binary operator <cite>rmod</cite>).</p></td>\n",
    "</tr>\n",
    "<tr class=\"row-even\"><td><p><a class=\"reference internal\" href=\"pandas.Series.rmul.html#pandas.Series.rmul\" title=\"pandas.Series.rmul\"><code class=\"xref py py-obj docutils literal notranslate\"><span class=\"pre\">rmul</span></code></a>(other[,&nbsp;level,&nbsp;fill_value,&nbsp;axis])</p></td>\n",
    "<td><p>Return Multiplication of series and other, element-wise (binary operator <cite>rmul</cite>).</p></td>\n",
    "</tr>\n",
    "<tr class=\"row-odd\"><td><p><a class=\"reference internal\" href=\"pandas.Series.rolling.html#pandas.Series.rolling\" title=\"pandas.Series.rolling\"><code class=\"xref py py-obj docutils literal notranslate\"><span class=\"pre\">rolling</span></code></a>(window[,&nbsp;min_periods,&nbsp;center,&nbsp;...])</p></td>\n",
    "<td><p>Provide rolling window calculations.</p></td>\n",
    "</tr>\n",
    "<tr class=\"row-even\"><td><p><a class=\"reference internal\" href=\"pandas.Series.round.html#pandas.Series.round\" title=\"pandas.Series.round\"><code class=\"xref py py-obj docutils literal notranslate\"><span class=\"pre\">round</span></code></a>([decimals])</p></td>\n",
    "<td><p>Round each value in a Series to the given number of decimals.</p></td>\n",
    "</tr>\n",
    "<tr class=\"row-odd\"><td><p><a class=\"reference internal\" href=\"pandas.Series.rpow.html#pandas.Series.rpow\" title=\"pandas.Series.rpow\"><code class=\"xref py py-obj docutils literal notranslate\"><span class=\"pre\">rpow</span></code></a>(other[,&nbsp;level,&nbsp;fill_value,&nbsp;axis])</p></td>\n",
    "<td><p>Return Exponential power of series and other, element-wise (binary operator <cite>rpow</cite>).</p></td>\n",
    "</tr>\n",
    "<tr class=\"row-even\"><td><p><a class=\"reference internal\" href=\"pandas.Series.rsub.html#pandas.Series.rsub\" title=\"pandas.Series.rsub\"><code class=\"xref py py-obj docutils literal notranslate\"><span class=\"pre\">rsub</span></code></a>(other[,&nbsp;level,&nbsp;fill_value,&nbsp;axis])</p></td>\n",
    "<td><p>Return Subtraction of series and other, element-wise (binary operator <cite>rsub</cite>).</p></td>\n",
    "</tr>\n",
    "<tr class=\"row-odd\"><td><p><a class=\"reference internal\" href=\"pandas.Series.rtruediv.html#pandas.Series.rtruediv\" title=\"pandas.Series.rtruediv\"><code class=\"xref py py-obj docutils literal notranslate\"><span class=\"pre\">rtruediv</span></code></a>(other[,&nbsp;level,&nbsp;fill_value,&nbsp;axis])</p></td>\n",
    "<td><p>Return Floating division of series and other, element-wise (binary operator <cite>rtruediv</cite>).</p></td>\n",
    "</tr>\n",
    "<tr class=\"row-even\"><td><p><a class=\"reference internal\" href=\"pandas.Series.sample.html#pandas.Series.sample\" title=\"pandas.Series.sample\"><code class=\"xref py py-obj docutils literal notranslate\"><span class=\"pre\">sample</span></code></a>([n,&nbsp;frac,&nbsp;replace,&nbsp;weights,&nbsp;...])</p></td>\n",
    "<td><p>Return a random sample of items from an axis of object.</p></td>\n",
    "</tr>\n",
    "<tr class=\"row-odd\"><td><p><a class=\"reference internal\" href=\"pandas.Series.searchsorted.html#pandas.Series.searchsorted\" title=\"pandas.Series.searchsorted\"><code class=\"xref py py-obj docutils literal notranslate\"><span class=\"pre\">searchsorted</span></code></a>(value[,&nbsp;side,&nbsp;sorter])</p></td>\n",
    "<td><p>Find indices where elements should be inserted to maintain order.</p></td>\n",
    "</tr>\n",
    "<tr class=\"row-even\"><td><p><a class=\"reference internal\" href=\"pandas.Series.sem.html#pandas.Series.sem\" title=\"pandas.Series.sem\"><code class=\"xref py py-obj docutils literal notranslate\"><span class=\"pre\">sem</span></code></a>([axis,&nbsp;skipna,&nbsp;level,&nbsp;ddof,&nbsp;numeric_only])</p></td>\n",
    "<td><p>Return unbiased standard error of the mean over requested axis.</p></td>\n",
    "</tr>\n",
    "<tr class=\"row-odd\"><td><p><a class=\"reference internal\" href=\"pandas.Series.set_axis.html#pandas.Series.set_axis\" title=\"pandas.Series.set_axis\"><code class=\"xref py py-obj docutils literal notranslate\"><span class=\"pre\">set_axis</span></code></a>(labels[,&nbsp;axis,&nbsp;inplace,&nbsp;copy])</p></td>\n",
    "<td><p>Assign desired index to given axis.</p></td>\n",
    "</tr>\n",
    "<tr class=\"row-even\"><td><p><a class=\"reference internal\" href=\"pandas.Series.set_flags.html#pandas.Series.set_flags\" title=\"pandas.Series.set_flags\"><code class=\"xref py py-obj docutils literal notranslate\"><span class=\"pre\">set_flags</span></code></a>(*[,&nbsp;copy,&nbsp;allows_duplicate_labels])</p></td>\n",
    "<td><p>Return a new object with updated flags.</p></td>\n",
    "</tr>\n",
    "<tr class=\"row-odd\"><td><p><a class=\"reference internal\" href=\"pandas.Series.shift.html#pandas.Series.shift\" title=\"pandas.Series.shift\"><code class=\"xref py py-obj docutils literal notranslate\"><span class=\"pre\">shift</span></code></a>([periods,&nbsp;freq,&nbsp;axis,&nbsp;fill_value])</p></td>\n",
    "<td><p>Shift index by desired number of periods with an optional time <cite>freq</cite>.</p></td>\n",
    "</tr>\n",
    "<tr class=\"row-even\"><td><p><a class=\"reference internal\" href=\"pandas.Series.skew.html#pandas.Series.skew\" title=\"pandas.Series.skew\"><code class=\"xref py py-obj docutils literal notranslate\"><span class=\"pre\">skew</span></code></a>([axis,&nbsp;skipna,&nbsp;level,&nbsp;numeric_only])</p></td>\n",
    "<td><p>Return unbiased skew over requested axis.</p></td>\n",
    "</tr>\n",
    "<tr class=\"row-odd\"><td><p><a class=\"reference internal\" href=\"pandas.Series.slice_shift.html#pandas.Series.slice_shift\" title=\"pandas.Series.slice_shift\"><code class=\"xref py py-obj docutils literal notranslate\"><span class=\"pre\">slice_shift</span></code></a>([periods,&nbsp;axis])</p></td>\n",
    "<td><p>(DEPRECATED) Equivalent to <cite>shift</cite> without copying data.</p></td>\n",
    "</tr>\n",
    "<tr class=\"row-even\"><td><p><a class=\"reference internal\" href=\"pandas.Series.sort_index.html#pandas.Series.sort_index\" title=\"pandas.Series.sort_index\"><code class=\"xref py py-obj docutils literal notranslate\"><span class=\"pre\">sort_index</span></code></a>([axis,&nbsp;level,&nbsp;ascending,&nbsp;...])</p></td>\n",
    "<td><p>Sort Series by index labels.</p></td>\n",
    "</tr>\n",
    "<tr class=\"row-odd\"><td><p><a class=\"reference internal\" href=\"pandas.Series.sort_values.html#pandas.Series.sort_values\" title=\"pandas.Series.sort_values\"><code class=\"xref py py-obj docutils literal notranslate\"><span class=\"pre\">sort_values</span></code></a>([axis,&nbsp;ascending,&nbsp;inplace,&nbsp;...])</p></td>\n",
    "<td><p>Sort by the values.</p></td>\n",
    "</tr>\n",
    "<tr class=\"row-even\"><td><p><a class=\"reference internal\" href=\"pandas.Series.sparse.html#pandas.Series.sparse\" title=\"pandas.Series.sparse\"><code class=\"xref py py-obj docutils literal notranslate\"><span class=\"pre\">sparse</span></code></a></p></td>\n",
    "<td><p>alias of <code class=\"xref py py-class docutils literal notranslate\"><span class=\"pre\">pandas.core.arrays.sparse.accessor.SparseAccessor</span></code></p></td>\n",
    "</tr>\n",
    "<tr class=\"row-odd\"><td><p><a class=\"reference internal\" href=\"pandas.Series.squeeze.html#pandas.Series.squeeze\" title=\"pandas.Series.squeeze\"><code class=\"xref py py-obj docutils literal notranslate\"><span class=\"pre\">squeeze</span></code></a>([axis])</p></td>\n",
    "<td><p>Squeeze 1 dimensional axis objects into scalars.</p></td>\n",
    "</tr>\n",
    "<tr class=\"row-even\"><td><p><a class=\"reference internal\" href=\"pandas.Series.std.html#pandas.Series.std\" title=\"pandas.Series.std\"><code class=\"xref py py-obj docutils literal notranslate\"><span class=\"pre\">std</span></code></a>([axis,&nbsp;skipna,&nbsp;level,&nbsp;ddof,&nbsp;numeric_only])</p></td>\n",
    "<td><p>Return sample standard deviation over requested axis.</p></td>\n",
    "</tr>\n",
    "<tr class=\"row-odd\"><td><p><a class=\"reference internal\" href=\"pandas.Series.str.html#pandas.Series.str\" title=\"pandas.Series.str\"><code class=\"xref py py-obj docutils literal notranslate\"><span class=\"pre\">str</span></code></a></p></td>\n",
    "<td><p>alias of <code class=\"xref py py-class docutils literal notranslate\"><span class=\"pre\">pandas.core.strings.accessor.StringMethods</span></code></p></td>\n",
    "</tr>\n",
    "<tr class=\"row-even\"><td><p><a class=\"reference internal\" href=\"pandas.Series.sub.html#pandas.Series.sub\" title=\"pandas.Series.sub\"><code class=\"xref py py-obj docutils literal notranslate\"><span class=\"pre\">sub</span></code></a>(other[,&nbsp;level,&nbsp;fill_value,&nbsp;axis])</p></td>\n",
    "<td><p>Return Subtraction of series and other, element-wise (binary operator <cite>sub</cite>).</p></td>\n",
    "</tr>\n",
    "<tr class=\"row-odd\"><td><p><a class=\"reference internal\" href=\"pandas.Series.subtract.html#pandas.Series.subtract\" title=\"pandas.Series.subtract\"><code class=\"xref py py-obj docutils literal notranslate\"><span class=\"pre\">subtract</span></code></a>(other[,&nbsp;level,&nbsp;fill_value,&nbsp;axis])</p></td>\n",
    "<td><p>Return Subtraction of series and other, element-wise (binary operator <cite>sub</cite>).</p></td>\n",
    "</tr>\n",
    "<tr class=\"row-even\"><td><p><a class=\"reference internal\" href=\"pandas.Series.sum.html#pandas.Series.sum\" title=\"pandas.Series.sum\"><code class=\"xref py py-obj docutils literal notranslate\"><span class=\"pre\">sum</span></code></a>([axis,&nbsp;skipna,&nbsp;level,&nbsp;numeric_only,&nbsp;...])</p></td>\n",
    "<td><p>Return the sum of the values over the requested axis.</p></td>\n",
    "</tr>\n",
    "<tr class=\"row-odd\"><td><p><a class=\"reference internal\" href=\"pandas.Series.swapaxes.html#pandas.Series.swapaxes\" title=\"pandas.Series.swapaxes\"><code class=\"xref py py-obj docutils literal notranslate\"><span class=\"pre\">swapaxes</span></code></a>(axis1,&nbsp;axis2[,&nbsp;copy])</p></td>\n",
    "<td><p>Interchange axes and swap values axes appropriately.</p></td>\n",
    "</tr>\n",
    "<tr class=\"row-even\"><td><p><a class=\"reference internal\" href=\"pandas.Series.swaplevel.html#pandas.Series.swaplevel\" title=\"pandas.Series.swaplevel\"><code class=\"xref py py-obj docutils literal notranslate\"><span class=\"pre\">swaplevel</span></code></a>([i,&nbsp;j,&nbsp;copy])</p></td>\n",
    "<td><p>Swap levels i and j in a <a class=\"reference internal\" href=\"pandas.MultiIndex.html#pandas.MultiIndex\" title=\"pandas.MultiIndex\"><code class=\"xref py py-class docutils literal notranslate\"><span class=\"pre\">MultiIndex</span></code></a>.</p></td>\n",
    "</tr>\n",
    "<tr class=\"row-odd\"><td><p><a class=\"reference internal\" href=\"pandas.Series.tail.html#pandas.Series.tail\" title=\"pandas.Series.tail\"><code class=\"xref py py-obj docutils literal notranslate\"><span class=\"pre\">tail</span></code></a>([n])</p></td>\n",
    "<td><p>Return the last <cite>n</cite> rows.</p></td>\n",
    "</tr>\n",
    "<tr class=\"row-even\"><td><p><a class=\"reference internal\" href=\"pandas.Series.take.html#pandas.Series.take\" title=\"pandas.Series.take\"><code class=\"xref py py-obj docutils literal notranslate\"><span class=\"pre\">take</span></code></a>(indices[,&nbsp;axis,&nbsp;is_copy])</p></td>\n",
    "<td><p>Return the elements in the given <em>positional</em> indices along an axis.</p></td>\n",
    "</tr>\n",
    "<tr class=\"row-odd\"><td><p><a class=\"reference internal\" href=\"pandas.Series.to_clipboard.html#pandas.Series.to_clipboard\" title=\"pandas.Series.to_clipboard\"><code class=\"xref py py-obj docutils literal notranslate\"><span class=\"pre\">to_clipboard</span></code></a>([excel,&nbsp;sep])</p></td>\n",
    "<td><p>Copy object to the system clipboard.</p></td>\n",
    "</tr>\n",
    "<tr class=\"row-even\"><td><p><a class=\"reference internal\" href=\"pandas.Series.to_csv.html#pandas.Series.to_csv\" title=\"pandas.Series.to_csv\"><code class=\"xref py py-obj docutils literal notranslate\"><span class=\"pre\">to_csv</span></code></a>([path_or_buf,&nbsp;sep,&nbsp;na_rep,&nbsp;...])</p></td>\n",
    "<td><p>Write object to a comma-separated values (csv) file.</p></td>\n",
    "</tr>\n",
    "<tr class=\"row-odd\"><td><p><a class=\"reference internal\" href=\"pandas.Series.to_dict.html#pandas.Series.to_dict\" title=\"pandas.Series.to_dict\"><code class=\"xref py py-obj docutils literal notranslate\"><span class=\"pre\">to_dict</span></code></a>([into])</p></td>\n",
    "<td><p>Convert Series to {label -&gt; value} dict or dict-like object.</p></td>\n",
    "</tr>\n",
    "<tr class=\"row-even\"><td><p><a class=\"reference internal\" href=\"pandas.Series.to_excel.html#pandas.Series.to_excel\" title=\"pandas.Series.to_excel\"><code class=\"xref py py-obj docutils literal notranslate\"><span class=\"pre\">to_excel</span></code></a>(excel_writer[,&nbsp;sheet_name,&nbsp;na_rep,&nbsp;...])</p></td>\n",
    "<td><p>Write object to an Excel sheet.</p></td>\n",
    "</tr>\n",
    "<tr class=\"row-odd\"><td><p><a class=\"reference internal\" href=\"pandas.Series.to_frame.html#pandas.Series.to_frame\" title=\"pandas.Series.to_frame\"><code class=\"xref py py-obj docutils literal notranslate\"><span class=\"pre\">to_frame</span></code></a>([name])</p></td>\n",
    "<td><p>Convert Series to DataFrame.</p></td>\n",
    "</tr>\n",
    "<tr class=\"row-even\"><td><p><a class=\"reference internal\" href=\"pandas.Series.to_hdf.html#pandas.Series.to_hdf\" title=\"pandas.Series.to_hdf\"><code class=\"xref py py-obj docutils literal notranslate\"><span class=\"pre\">to_hdf</span></code></a>(path_or_buf,&nbsp;key[,&nbsp;mode,&nbsp;complevel,&nbsp;...])</p></td>\n",
    "<td><p>Write the contained data to an HDF5 file using HDFStore.</p></td>\n",
    "</tr>\n",
    "<tr class=\"row-odd\"><td><p><a class=\"reference internal\" href=\"pandas.Series.to_json.html#pandas.Series.to_json\" title=\"pandas.Series.to_json\"><code class=\"xref py py-obj docutils literal notranslate\"><span class=\"pre\">to_json</span></code></a>([path_or_buf,&nbsp;orient,&nbsp;date_format,&nbsp;...])</p></td>\n",
    "<td><p>Convert the object to a JSON string.</p></td>\n",
    "</tr>\n",
    "<tr class=\"row-even\"><td><p><a class=\"reference internal\" href=\"pandas.Series.to_latex.html#pandas.Series.to_latex\" title=\"pandas.Series.to_latex\"><code class=\"xref py py-obj docutils literal notranslate\"><span class=\"pre\">to_latex</span></code></a>([buf,&nbsp;columns,&nbsp;col_space,&nbsp;header,&nbsp;...])</p></td>\n",
    "<td><p>Render object to a LaTeX tabular, longtable, or nested table.</p></td>\n",
    "</tr>\n",
    "<tr class=\"row-odd\"><td><p><a class=\"reference internal\" href=\"pandas.Series.to_list.html#pandas.Series.to_list\" title=\"pandas.Series.to_list\"><code class=\"xref py py-obj docutils literal notranslate\"><span class=\"pre\">to_list</span></code></a>()</p></td>\n",
    "<td><p>Return a list of the values.</p></td>\n",
    "</tr>\n",
    "<tr class=\"row-even\"><td><p><a class=\"reference internal\" href=\"pandas.Series.to_markdown.html#pandas.Series.to_markdown\" title=\"pandas.Series.to_markdown\"><code class=\"xref py py-obj docutils literal notranslate\"><span class=\"pre\">to_markdown</span></code></a>([buf,&nbsp;mode,&nbsp;index,&nbsp;storage_options])</p></td>\n",
    "<td><p>Print Series in Markdown-friendly format.</p></td>\n",
    "</tr>\n",
    "<tr class=\"row-odd\"><td><p><a class=\"reference internal\" href=\"pandas.Series.to_numpy.html#pandas.Series.to_numpy\" title=\"pandas.Series.to_numpy\"><code class=\"xref py py-obj docutils literal notranslate\"><span class=\"pre\">to_numpy</span></code></a>([dtype,&nbsp;copy,&nbsp;na_value])</p></td>\n",
    "<td><p>A NumPy ndarray representing the values in this Series or Index.</p></td>\n",
    "</tr>\n",
    "<tr class=\"row-even\"><td><p><a class=\"reference internal\" href=\"pandas.Series.to_period.html#pandas.Series.to_period\" title=\"pandas.Series.to_period\"><code class=\"xref py py-obj docutils literal notranslate\"><span class=\"pre\">to_period</span></code></a>([freq,&nbsp;copy])</p></td>\n",
    "<td><p>Convert Series from DatetimeIndex to PeriodIndex.</p></td>\n",
    "</tr>\n",
    "<tr class=\"row-odd\"><td><p><a class=\"reference internal\" href=\"pandas.Series.to_pickle.html#pandas.Series.to_pickle\" title=\"pandas.Series.to_pickle\"><code class=\"xref py py-obj docutils literal notranslate\"><span class=\"pre\">to_pickle</span></code></a>(path[,&nbsp;compression,&nbsp;protocol,&nbsp;...])</p></td>\n",
    "<td><p>Pickle (serialize) object to file.</p></td>\n",
    "</tr>\n",
    "<tr class=\"row-even\"><td><p><a class=\"reference internal\" href=\"pandas.Series.to_sql.html#pandas.Series.to_sql\" title=\"pandas.Series.to_sql\"><code class=\"xref py py-obj docutils literal notranslate\"><span class=\"pre\">to_sql</span></code></a>(name,&nbsp;con[,&nbsp;schema,&nbsp;if_exists,&nbsp;...])</p></td>\n",
    "<td><p>Write records stored in a DataFrame to a SQL database.</p></td>\n",
    "</tr>\n",
    "<tr class=\"row-odd\"><td><p><a class=\"reference internal\" href=\"pandas.Series.to_string.html#pandas.Series.to_string\" title=\"pandas.Series.to_string\"><code class=\"xref py py-obj docutils literal notranslate\"><span class=\"pre\">to_string</span></code></a>([buf,&nbsp;na_rep,&nbsp;float_format,&nbsp;...])</p></td>\n",
    "<td><p>Render a string representation of the Series.</p></td>\n",
    "</tr>\n",
    "<tr class=\"row-even\"><td><p><a class=\"reference internal\" href=\"pandas.Series.to_timestamp.html#pandas.Series.to_timestamp\" title=\"pandas.Series.to_timestamp\"><code class=\"xref py py-obj docutils literal notranslate\"><span class=\"pre\">to_timestamp</span></code></a>([freq,&nbsp;how,&nbsp;copy])</p></td>\n",
    "<td><p>Cast to DatetimeIndex of Timestamps, at <em>beginning</em> of period.</p></td>\n",
    "</tr>\n",
    "<tr class=\"row-odd\"><td><p><a class=\"reference internal\" href=\"pandas.Series.to_xarray.html#pandas.Series.to_xarray\" title=\"pandas.Series.to_xarray\"><code class=\"xref py py-obj docutils literal notranslate\"><span class=\"pre\">to_xarray</span></code></a>()</p></td>\n",
    "<td><p>Return an xarray object from the pandas object.</p></td>\n",
    "</tr>\n",
    "<tr class=\"row-even\"><td><p><a class=\"reference internal\" href=\"pandas.Series.tolist.html#pandas.Series.tolist\" title=\"pandas.Series.tolist\"><code class=\"xref py py-obj docutils literal notranslate\"><span class=\"pre\">tolist</span></code></a>()</p></td>\n",
    "<td><p>Return a list of the values.</p></td>\n",
    "</tr>\n",
    "<tr class=\"row-odd\"><td><p><a class=\"reference internal\" href=\"pandas.Series.transform.html#pandas.Series.transform\" title=\"pandas.Series.transform\"><code class=\"xref py py-obj docutils literal notranslate\"><span class=\"pre\">transform</span></code></a>(func[,&nbsp;axis])</p></td>\n",
    "<td><p>Call <code class=\"docutils literal notranslate\"><span class=\"pre\">func</span></code> on self producing a Series with the same axis shape as self.</p></td>\n",
    "</tr>\n",
    "<tr class=\"row-even\"><td><p><a class=\"reference internal\" href=\"pandas.Series.transpose.html#pandas.Series.transpose\" title=\"pandas.Series.transpose\"><code class=\"xref py py-obj docutils literal notranslate\"><span class=\"pre\">transpose</span></code></a>(*args,&nbsp;**kwargs)</p></td>\n",
    "<td><p>Return the transpose, which is by definition self.</p></td>\n",
    "</tr>\n",
    "<tr class=\"row-odd\"><td><p><a class=\"reference internal\" href=\"pandas.Series.truediv.html#pandas.Series.truediv\" title=\"pandas.Series.truediv\"><code class=\"xref py py-obj docutils literal notranslate\"><span class=\"pre\">truediv</span></code></a>(other[,&nbsp;level,&nbsp;fill_value,&nbsp;axis])</p></td>\n",
    "<td><p>Return Floating division of series and other, element-wise (binary operator <cite>truediv</cite>).</p></td>\n",
    "</tr>\n",
    "<tr class=\"row-even\"><td><p><a class=\"reference internal\" href=\"pandas.Series.truncate.html#pandas.Series.truncate\" title=\"pandas.Series.truncate\"><code class=\"xref py py-obj docutils literal notranslate\"><span class=\"pre\">truncate</span></code></a>([before,&nbsp;after,&nbsp;axis,&nbsp;copy])</p></td>\n",
    "<td><p>Truncate a Series or DataFrame before and after some index value.</p></td>\n",
    "</tr>\n",
    "<tr class=\"row-odd\"><td><p><a class=\"reference internal\" href=\"pandas.Series.tshift.html#pandas.Series.tshift\" title=\"pandas.Series.tshift\"><code class=\"xref py py-obj docutils literal notranslate\"><span class=\"pre\">tshift</span></code></a>([periods,&nbsp;freq,&nbsp;axis])</p></td>\n",
    "<td><p>(DEPRECATED) Shift the time index, using the index's frequency if available.</p></td>\n",
    "</tr>\n",
    "<tr class=\"row-even\"><td><p><a class=\"reference internal\" href=\"pandas.Series.tz_convert.html#pandas.Series.tz_convert\" title=\"pandas.Series.tz_convert\"><code class=\"xref py py-obj docutils literal notranslate\"><span class=\"pre\">tz_convert</span></code></a>(tz[,&nbsp;axis,&nbsp;level,&nbsp;copy])</p></td>\n",
    "<td><p>Convert tz-aware axis to target time zone.</p></td>\n",
    "</tr>\n",
    "<tr class=\"row-odd\"><td><p><a class=\"reference internal\" href=\"pandas.Series.tz_localize.html#pandas.Series.tz_localize\" title=\"pandas.Series.tz_localize\"><code class=\"xref py py-obj docutils literal notranslate\"><span class=\"pre\">tz_localize</span></code></a>(tz[,&nbsp;axis,&nbsp;level,&nbsp;copy,&nbsp;...])</p></td>\n",
    "<td><p>Localize tz-naive index of a Series or DataFrame to target time zone.</p></td>\n",
    "</tr>\n",
    "<tr class=\"row-even\"><td><p><a class=\"reference internal\" href=\"pandas.Series.unique.html#pandas.Series.unique\" title=\"pandas.Series.unique\"><code class=\"xref py py-obj docutils literal notranslate\"><span class=\"pre\">unique</span></code></a>()</p></td>\n",
    "<td><p>Return unique values of Series object.</p></td>\n",
    "</tr>\n",
    "<tr class=\"row-odd\"><td><p><a class=\"reference internal\" href=\"pandas.Series.unstack.html#pandas.Series.unstack\" title=\"pandas.Series.unstack\"><code class=\"xref py py-obj docutils literal notranslate\"><span class=\"pre\">unstack</span></code></a>([level,&nbsp;fill_value])</p></td>\n",
    "<td><p>Unstack, also known as pivot, Series with MultiIndex to produce DataFrame.</p></td>\n",
    "</tr>\n",
    "<tr class=\"row-even\"><td><p><a class=\"reference internal\" href=\"pandas.Series.update.html#pandas.Series.update\" title=\"pandas.Series.update\"><code class=\"xref py py-obj docutils literal notranslate\"><span class=\"pre\">update</span></code></a>(other)</p></td>\n",
    "<td><p>Modify Series in place using values from passed Series.</p></td>\n",
    "</tr>\n",
    "<tr class=\"row-odd\"><td><p><a class=\"reference internal\" href=\"pandas.Series.value_counts.html#pandas.Series.value_counts\" title=\"pandas.Series.value_counts\"><code class=\"xref py py-obj docutils literal notranslate\"><span class=\"pre\">value_counts</span></code></a>([normalize,&nbsp;sort,&nbsp;ascending,&nbsp;...])</p></td>\n",
    "<td><p>Return a Series containing counts of unique values.</p></td>\n",
    "</tr>\n",
    "<tr class=\"row-even\"><td><p><a class=\"reference internal\" href=\"pandas.Series.var.html#pandas.Series.var\" title=\"pandas.Series.var\"><code class=\"xref py py-obj docutils literal notranslate\"><span class=\"pre\">var</span></code></a>([axis,&nbsp;skipna,&nbsp;level,&nbsp;ddof,&nbsp;numeric_only])</p></td>\n",
    "<td><p>Return unbiased variance over requested axis.</p></td>\n",
    "</tr>\n",
    "<tr class=\"row-odd\"><td><p><a class=\"reference internal\" href=\"pandas.Series.view.html#pandas.Series.view\" title=\"pandas.Series.view\"><code class=\"xref py py-obj docutils literal notranslate\"><span class=\"pre\">view</span></code></a>([dtype])</p></td>\n",
    "<td><p>Create a new view of the Series.</p></td>\n",
    "</tr>\n",
    "<tr class=\"row-even\"><td><p><a class=\"reference internal\" href=\"pandas.Series.where.html#pandas.Series.where\" title=\"pandas.Series.where\"><code class=\"xref py py-obj docutils literal notranslate\"><span class=\"pre\">where</span></code></a>(cond[,&nbsp;other,&nbsp;inplace,&nbsp;axis,&nbsp;level,&nbsp;...])</p></td>\n",
    "<td><p>Replace values where the condition is False.</p></td>\n",
    "</tr>\n",
    "<tr class=\"row-odd\"><td><p><a class=\"reference internal\" href=\"pandas.Series.xs.html#pandas.Series.xs\" title=\"pandas.Series.xs\"><code class=\"xref py py-obj docutils literal notranslate\"><span class=\"pre\">xs</span></code></a>(key[,&nbsp;axis,&nbsp;level,&nbsp;drop_level])</p></td>\n",
    "<td><p>Return cross-section from the Series/DataFrame.</p></td>\n",
    "</tr>\n",
    "</tbody>\n",
    "</table>\n",
    "</dd>"
   ]
  },
  {
   "cell_type": "markdown",
   "id": "cc759db9",
   "metadata": {
    "papermill": {
     "duration": 0.012057,
     "end_time": "2022-09-22T12:28:42.857617",
     "exception": false,
     "start_time": "2022-09-22T12:28:42.845560",
     "status": "completed"
    },
    "tags": []
   },
   "source": [
    "### Accessing Element from Series with Position : \n",
    "- In order to access the series element refers to the index number. Use the index operator [ ] to access an element in a series. The index must be an integer. In order to access multiple elements from a series, we use Slice operation.\n"
   ]
  },
  {
   "cell_type": "code",
   "execution_count": 9,
   "id": "6202fa69",
   "metadata": {
    "execution": {
     "iopub.execute_input": "2022-09-22T12:28:42.884315Z",
     "iopub.status.busy": "2022-09-22T12:28:42.883902Z",
     "iopub.status.idle": "2022-09-22T12:28:42.890961Z",
     "shell.execute_reply": "2022-09-22T12:28:42.889743Z"
    },
    "papermill": {
     "duration": 0.023616,
     "end_time": "2022-09-22T12:28:42.893631",
     "exception": false,
     "start_time": "2022-09-22T12:28:42.870015",
     "status": "completed"
    },
    "tags": []
   },
   "outputs": [
    {
     "name": "stdout",
     "output_type": "stream",
     "text": [
      "Series element at index 3 :\n",
      "\n",
      " 4.0 \n",
      "\n",
      "Type of element:  <class 'numpy.float64'>\n",
      "\n",
      "Series element at index 11 to 14 :\n",
      "\n",
      " 11    5.4\n",
      "12    3.2\n",
      "Name: Series_s2, dtype: float64 \n",
      "\n",
      "Type of element:  <class 'pandas.core.series.Series'>\n"
     ]
    }
   ],
   "source": [
    "# Acessing element of the Series\n",
    "print(\"Series element at index 3 :\\n\\n\",s2[3],\"\\n\\nType of element: \",type(s2[3]))\n",
    "print(\"\\nSeries element at index 11 to 14 :\\n\\n\",s2[11:14],\"\\n\\nType of element: \",type(s2[11:14]))"
   ]
  },
  {
   "cell_type": "markdown",
   "id": "919e5dfd",
   "metadata": {
    "papermill": {
     "duration": 0.012172,
     "end_time": "2022-09-22T12:28:42.918040",
     "exception": false,
     "start_time": "2022-09-22T12:28:42.905868",
     "status": "completed"
    },
    "tags": []
   },
   "source": [
    "### Accessing Element Using Label (index) :\n",
    "- In order to access an element from series, we have to set values by index label. A Series is like a fixed-size dictionary in that you can get and set values by index label.\n",
    "\n"
   ]
  },
  {
   "cell_type": "code",
   "execution_count": 10,
   "id": "846f0518",
   "metadata": {
    "execution": {
     "iopub.execute_input": "2022-09-22T12:28:42.944482Z",
     "iopub.status.busy": "2022-09-22T12:28:42.944033Z",
     "iopub.status.idle": "2022-09-22T12:28:42.955429Z",
     "shell.execute_reply": "2022-09-22T12:28:42.954231Z"
    },
    "papermill": {
     "duration": 0.028208,
     "end_time": "2022-09-22T12:28:42.958772",
     "exception": false,
     "start_time": "2022-09-22T12:28:42.930564",
     "status": "completed"
    },
    "tags": []
   },
   "outputs": [
    {
     "name": "stdout",
     "output_type": "stream",
     "text": [
      "Series element at index 3 :\n",
      "\n",
      " Bhawan \n",
      "\n",
      "Type of element:  <class 'str'>\n"
     ]
    }
   ],
   "source": [
    "# Accessing Element Using Label (index) :¶\n",
    "print(\"Series element at index 3 :\\n\\n\",s1[\"First Name\"],\"\\n\\nType of element: \",type(s1[\"First Name\"]))"
   ]
  },
  {
   "cell_type": "markdown",
   "id": "cfd89181",
   "metadata": {
    "papermill": {
     "duration": 0.012156,
     "end_time": "2022-09-22T12:28:42.983509",
     "exception": false,
     "start_time": "2022-09-22T12:28:42.971353",
     "status": "completed"
    },
    "tags": []
   },
   "source": [
    "### Indexing and Selecting Data in Series:"
   ]
  },
  {
   "cell_type": "code",
   "execution_count": 11,
   "id": "da7cd1a7",
   "metadata": {
    "execution": {
     "iopub.execute_input": "2022-09-22T12:28:43.010835Z",
     "iopub.status.busy": "2022-09-22T12:28:43.010349Z",
     "iopub.status.idle": "2022-09-22T12:28:43.521482Z",
     "shell.execute_reply": "2022-09-22T12:28:43.520121Z"
    },
    "papermill": {
     "duration": 0.52811,
     "end_time": "2022-09-22T12:28:43.524003",
     "exception": false,
     "start_time": "2022-09-22T12:28:42.995893",
     "status": "completed"
    },
    "tags": []
   },
   "outputs": [
    {
     "name": "stdout",
     "output_type": "stream",
     "text": [
      "0     2013\n",
      "1     2015\n",
      "2     2014\n",
      "3     2016\n",
      "4     2014\n",
      "      ... \n",
      "95    2015\n",
      "96    2013\n",
      "97    2015\n",
      "98    2013\n",
      "99    2015\n",
      "Name: Year, Length: 100, dtype: int64\n"
     ]
    }
   ],
   "source": [
    "df = pd.read_csv(\"/kaggle/input/sales-data-practise/sales_data.csv\")  \n",
    "   \n",
    "file_ser = pd.Series(df['Year']) \n",
    "data = file_ser.head(100)      #print first 15 line\n",
    "print(data) "
   ]
  },
  {
   "cell_type": "markdown",
   "id": "a77822a7",
   "metadata": {
    "papermill": {
     "duration": 0.013316,
     "end_time": "2022-09-22T12:28:43.552458",
     "exception": false,
     "start_time": "2022-09-22T12:28:43.539142",
     "status": "completed"
    },
    "tags": []
   },
   "source": [
    "#### 1.Indexing a Series using indexing operator [] :"
   ]
  },
  {
   "cell_type": "code",
   "execution_count": 12,
   "id": "80974c17",
   "metadata": {
    "execution": {
     "iopub.execute_input": "2022-09-22T12:28:43.582730Z",
     "iopub.status.busy": "2022-09-22T12:28:43.582192Z",
     "iopub.status.idle": "2022-09-22T12:28:43.589579Z",
     "shell.execute_reply": "2022-09-22T12:28:43.588482Z"
    },
    "papermill": {
     "duration": 0.027864,
     "end_time": "2022-09-22T12:28:43.592777",
     "exception": false,
     "start_time": "2022-09-22T12:28:43.564913",
     "status": "completed"
    },
    "tags": []
   },
   "outputs": [
    {
     "name": "stdout",
     "output_type": "stream",
     "text": [
      "Printing data using index Operator:[From 10 to 30]\n",
      "\n",
      "10    2013\n",
      "11    2015\n",
      "12    2013\n",
      "13    2015\n",
      "14    2013\n",
      "15    2015\n",
      "16    2013\n",
      "17    2015\n",
      "18    2014\n",
      "19    2016\n",
      "20    2014\n",
      "21    2016\n",
      "22    2014\n",
      "23    2016\n",
      "24    2013\n",
      "25    2015\n",
      "26    2013\n",
      "27    2015\n",
      "28    2014\n",
      "29    2016\n",
      "Name: Year, dtype: int64\n"
     ]
    }
   ],
   "source": [
    "#Using index Operator :\n",
    "print(\"Printing data using index Operator:[From 10 to 30]\\n\")\n",
    "print(data[10:30])"
   ]
  },
  {
   "cell_type": "markdown",
   "id": "fa1eab78",
   "metadata": {
    "papermill": {
     "duration": 0.012323,
     "end_time": "2022-09-22T12:28:43.617822",
     "exception": false,
     "start_time": "2022-09-22T12:28:43.605499",
     "status": "completed"
    },
    "tags": []
   },
   "source": [
    "#### 2. Indexing a Series using .loc[ ] :\n",
    "- This function selects data by refering the explicit index . The df.loc indexer selects data in a different way than just the indexing operator. It can select subsets of data."
   ]
  },
  {
   "cell_type": "code",
   "execution_count": 13,
   "id": "05d8d4d8",
   "metadata": {
    "execution": {
     "iopub.execute_input": "2022-09-22T12:28:43.645278Z",
     "iopub.status.busy": "2022-09-22T12:28:43.644217Z",
     "iopub.status.idle": "2022-09-22T12:28:43.651214Z",
     "shell.execute_reply": "2022-09-22T12:28:43.649765Z"
    },
    "papermill": {
     "duration": 0.023887,
     "end_time": "2022-09-22T12:28:43.654275",
     "exception": false,
     "start_time": "2022-09-22T12:28:43.630388",
     "status": "completed"
    },
    "tags": []
   },
   "outputs": [
    {
     "name": "stdout",
     "output_type": "stream",
     "text": [
      "Indexing element Using .loc[]:\n",
      "\n",
      "12    2013\n",
      "13    2015\n",
      "14    2013\n",
      "15    2015\n",
      "16    2013\n",
      "17    2015\n",
      "18    2014\n",
      "19    2016\n",
      "20    2014\n",
      "21    2016\n",
      "22    2014\n",
      "23    2016\n",
      "24    2013\n",
      "25    2015\n",
      "26    2013\n",
      "27    2015\n",
      "28    2014\n",
      "29    2016\n",
      "30    2014\n",
      "31    2016\n",
      "32    2014\n",
      "33    2016\n",
      "34    2013\n",
      "35    2015\n",
      "36    2013\n",
      "37    2015\n",
      "38    2013\n",
      "39    2015\n",
      "40    2014\n",
      "Name: Year, dtype: int64\n"
     ]
    }
   ],
   "source": [
    "#Using .loc[]:\n",
    "print(\"Indexing element Using .loc[]:\\n\")\n",
    "print(data.loc[12:40])"
   ]
  },
  {
   "cell_type": "markdown",
   "id": "cfd624de",
   "metadata": {
    "papermill": {
     "duration": 0.012331,
     "end_time": "2022-09-22T12:28:43.679936",
     "exception": false,
     "start_time": "2022-09-22T12:28:43.667605",
     "status": "completed"
    },
    "tags": []
   },
   "source": [
    "#### 3. Indexing a Series using .iloc[ ] :\n",
    "- This function allows us to retrieve data by position. In order to do that, we’ll need to specify the positions of the data that we want. The df.iloc indexer is very similar to df.loc but only uses integer locations to make its selections."
   ]
  },
  {
   "cell_type": "code",
   "execution_count": 14,
   "id": "e2ddb82f",
   "metadata": {
    "execution": {
     "iopub.execute_input": "2022-09-22T12:28:43.706877Z",
     "iopub.status.busy": "2022-09-22T12:28:43.706431Z",
     "iopub.status.idle": "2022-09-22T12:28:43.712556Z",
     "shell.execute_reply": "2022-09-22T12:28:43.711612Z"
    },
    "papermill": {
     "duration": 0.022617,
     "end_time": "2022-09-22T12:28:43.715094",
     "exception": false,
     "start_time": "2022-09-22T12:28:43.692477",
     "status": "completed"
    },
    "tags": []
   },
   "outputs": [
    {
     "name": "stdout",
     "output_type": "stream",
     "text": [
      "Indexing element Using .iloc[]:\n",
      "\n",
      "12    2013\n",
      "13    2015\n",
      "14    2013\n",
      "15    2015\n",
      "16    2013\n",
      "17    2015\n",
      "18    2014\n",
      "19    2016\n",
      "20    2014\n",
      "21    2016\n",
      "22    2014\n",
      "23    2016\n",
      "24    2013\n",
      "25    2015\n",
      "26    2013\n",
      "27    2015\n",
      "28    2014\n",
      "29    2016\n",
      "30    2014\n",
      "31    2016\n",
      "32    2014\n",
      "33    2016\n",
      "34    2013\n",
      "35    2015\n",
      "36    2013\n",
      "37    2015\n",
      "38    2013\n",
      "39    2015\n",
      "Name: Year, dtype: int64\n"
     ]
    }
   ],
   "source": [
    "#Using .iloc[]:\n",
    "print(\"Indexing element Using .iloc[]:\\n\")\n",
    "print(data.iloc[12:40])"
   ]
  },
  {
   "cell_type": "markdown",
   "id": "9f0c0431",
   "metadata": {
    "papermill": {
     "duration": 0.012585,
     "end_time": "2022-09-22T12:28:43.740938",
     "exception": false,
     "start_time": "2022-09-22T12:28:43.728353",
     "status": "completed"
    },
    "tags": []
   },
   "source": [
    "### Mathematicals Operation on Series:\n",
    "\n",
    "- **Note:** if value it not present to perform operation it will add **\"NaN\"** (Not a Number)\n",
    "\n",
    "#### Adding Series add() and +:\n"
   ]
  },
  {
   "cell_type": "code",
   "execution_count": 15,
   "id": "e25c8c32",
   "metadata": {
    "execution": {
     "iopub.execute_input": "2022-09-22T12:28:43.768400Z",
     "iopub.status.busy": "2022-09-22T12:28:43.767939Z",
     "iopub.status.idle": "2022-09-22T12:28:43.780448Z",
     "shell.execute_reply": "2022-09-22T12:28:43.779065Z"
    },
    "papermill": {
     "duration": 0.029754,
     "end_time": "2022-09-22T12:28:43.783535",
     "exception": false,
     "start_time": "2022-09-22T12:28:43.753781",
     "status": "completed"
    },
    "tags": []
   },
   "outputs": [
    {
     "name": "stdout",
     "output_type": "stream",
     "text": [
      "Sample Series 1:\n",
      " 0    19\n",
      "1    19\n",
      "2    49\n",
      "3    49\n",
      "4    47\n",
      "Name: Customer_Age, dtype: int64\n",
      "\n",
      "Sample Series 2:\n",
      " 0    26\n",
      "1    26\n",
      "2    23\n",
      "3    23\n",
      "4    15\n",
      "Name: Day, dtype: int64\n"
     ]
    }
   ],
   "source": [
    "#sample data\n",
    "data = pd.Series(df['Customer_Age']) \n",
    "s1 = data.head(15)      #print first 50 line\n",
    "print(\"Sample Series 1:\\n\",s1.head())\n",
    "\n",
    "#sample1 data\n",
    "data1 = pd.Series(df['Day']) \n",
    "s2 = data1.head(15)      #print first 50 line\n",
    "print(\"\\nSample Series 2:\\n\",s2.head())"
   ]
  },
  {
   "cell_type": "code",
   "execution_count": 16,
   "id": "bd88d044",
   "metadata": {
    "execution": {
     "iopub.execute_input": "2022-09-22T12:28:43.811920Z",
     "iopub.status.busy": "2022-09-22T12:28:43.811151Z",
     "iopub.status.idle": "2022-09-22T12:28:43.818283Z",
     "shell.execute_reply": "2022-09-22T12:28:43.816919Z"
    },
    "papermill": {
     "duration": 0.024899,
     "end_time": "2022-09-22T12:28:43.821771",
     "exception": false,
     "start_time": "2022-09-22T12:28:43.796872",
     "status": "completed"
    },
    "tags": []
   },
   "outputs": [
    {
     "name": "stdout",
     "output_type": "stream",
     "text": [
      "Adding Series with the help of '+' Operator:\n",
      "0     45\n",
      "1     45\n",
      "2     72\n",
      "3     72\n",
      "4     62\n",
      "5     62\n",
      "6     69\n",
      "7     69\n",
      "8     57\n",
      "9     57\n",
      "10    62\n",
      "11    62\n",
      "12    49\n",
      "13    49\n",
      "14    31\n",
      "dtype: int64\n"
     ]
    }
   ],
   "source": [
    "print(\"Adding Series with the help of '+' Operator:\")\n",
    "print(s1+s2)"
   ]
  },
  {
   "cell_type": "code",
   "execution_count": 17,
   "id": "4b96c4a0",
   "metadata": {
    "execution": {
     "iopub.execute_input": "2022-09-22T12:28:43.850989Z",
     "iopub.status.busy": "2022-09-22T12:28:43.850584Z",
     "iopub.status.idle": "2022-09-22T12:28:43.857438Z",
     "shell.execute_reply": "2022-09-22T12:28:43.856088Z"
    },
    "papermill": {
     "duration": 0.024743,
     "end_time": "2022-09-22T12:28:43.860113",
     "exception": false,
     "start_time": "2022-09-22T12:28:43.835370",
     "status": "completed"
    },
    "tags": []
   },
   "outputs": [
    {
     "name": "stdout",
     "output_type": "stream",
     "text": [
      "Adding Series with the help of add() Fun:\n",
      "0     45\n",
      "1     45\n",
      "2     72\n",
      "3     72\n",
      "4     62\n",
      "5     62\n",
      "6     69\n",
      "7     69\n",
      "8     57\n",
      "9     57\n",
      "10    62\n",
      "11    62\n",
      "12    49\n",
      "13    49\n",
      "14    31\n",
      "dtype: int64\n"
     ]
    }
   ],
   "source": [
    "print(\"Adding Series with the help of add() Fun:\")\n",
    "#print(pd.Series.add(s1,s2))  Both are the same\n",
    "print(s1.add(s2))\n"
   ]
  },
  {
   "cell_type": "markdown",
   "id": "3b0ae5ce",
   "metadata": {
    "papermill": {
     "duration": 0.012586,
     "end_time": "2022-09-22T12:28:43.885768",
     "exception": false,
     "start_time": "2022-09-22T12:28:43.873182",
     "status": "completed"
    },
    "tags": []
   },
   "source": [
    "#### Subtraction with help of '-' and sub():"
   ]
  },
  {
   "cell_type": "code",
   "execution_count": 18,
   "id": "cef75b2b",
   "metadata": {
    "execution": {
     "iopub.execute_input": "2022-09-22T12:28:43.913913Z",
     "iopub.status.busy": "2022-09-22T12:28:43.912958Z",
     "iopub.status.idle": "2022-09-22T12:28:43.919937Z",
     "shell.execute_reply": "2022-09-22T12:28:43.918703Z"
    },
    "papermill": {
     "duration": 0.023826,
     "end_time": "2022-09-22T12:28:43.922375",
     "exception": false,
     "start_time": "2022-09-22T12:28:43.898549",
     "status": "completed"
    },
    "tags": []
   },
   "outputs": [
    {
     "name": "stdout",
     "output_type": "stream",
     "text": [
      "Subtract Series with the help of '-' Operator:\n",
      "0     -7\n",
      "1     -7\n",
      "2     26\n",
      "3     26\n",
      "4     32\n",
      "5     32\n",
      "6     25\n",
      "7     25\n",
      "8     13\n",
      "9     13\n",
      "10     2\n",
      "11     2\n",
      "12    19\n",
      "13    19\n",
      "14    27\n",
      "dtype: int64\n"
     ]
    }
   ],
   "source": [
    "print(\"Subtract Series with the help of '-' Operator:\")\n",
    "print(s1-s2)"
   ]
  },
  {
   "cell_type": "code",
   "execution_count": 19,
   "id": "19ceb789",
   "metadata": {
    "execution": {
     "iopub.execute_input": "2022-09-22T12:28:43.950162Z",
     "iopub.status.busy": "2022-09-22T12:28:43.949738Z",
     "iopub.status.idle": "2022-09-22T12:28:43.956143Z",
     "shell.execute_reply": "2022-09-22T12:28:43.955027Z"
    },
    "papermill": {
     "duration": 0.023334,
     "end_time": "2022-09-22T12:28:43.958625",
     "exception": false,
     "start_time": "2022-09-22T12:28:43.935291",
     "status": "completed"
    },
    "tags": []
   },
   "outputs": [
    {
     "name": "stdout",
     "output_type": "stream",
     "text": [
      "Subtract Series with the help of sub() Fun:\n",
      "0     -7\n",
      "1     -7\n",
      "2     26\n",
      "3     26\n",
      "4     32\n",
      "5     32\n",
      "6     25\n",
      "7     25\n",
      "8     13\n",
      "9     13\n",
      "10     2\n",
      "11     2\n",
      "12    19\n",
      "13    19\n",
      "14    27\n",
      "dtype: int64\n"
     ]
    }
   ],
   "source": [
    "print(\"Subtract Series with the help of sub() Fun:\")\n",
    "#print(pd.Series.sub(s1,s2))  #Both are the same\n",
    "print(s1.sub(s2))"
   ]
  },
  {
   "cell_type": "markdown",
   "id": "88babf5e",
   "metadata": {
    "papermill": {
     "duration": 0.015526,
     "end_time": "2022-09-22T12:28:43.987712",
     "exception": false,
     "start_time": "2022-09-22T12:28:43.972186",
     "status": "completed"
    },
    "tags": []
   },
   "source": [
    "#### Multiplication with help of '*' and mul():"
   ]
  },
  {
   "cell_type": "code",
   "execution_count": 20,
   "id": "454d0b9b",
   "metadata": {
    "execution": {
     "iopub.execute_input": "2022-09-22T12:28:44.023944Z",
     "iopub.status.busy": "2022-09-22T12:28:44.022952Z",
     "iopub.status.idle": "2022-09-22T12:28:44.030708Z",
     "shell.execute_reply": "2022-09-22T12:28:44.029214Z"
    },
    "papermill": {
     "duration": 0.029795,
     "end_time": "2022-09-22T12:28:44.033427",
     "exception": false,
     "start_time": "2022-09-22T12:28:44.003632",
     "status": "completed"
    },
    "tags": []
   },
   "outputs": [
    {
     "name": "stdout",
     "output_type": "stream",
     "text": [
      "Multiply Series with help of '*':\n",
      "0      494\n",
      "1      494\n",
      "2     1127\n",
      "3     1127\n",
      "4      705\n",
      "5      705\n",
      "6     1034\n",
      "7     1034\n",
      "8      770\n",
      "9      770\n",
      "10     960\n",
      "11     960\n",
      "12     510\n",
      "13     510\n",
      "14      58\n",
      "dtype: int64\n"
     ]
    }
   ],
   "source": [
    "print(\"Multiply Series with help of '*':\")\n",
    "print(s1*s2)"
   ]
  },
  {
   "cell_type": "code",
   "execution_count": 21,
   "id": "5e33ca37",
   "metadata": {
    "execution": {
     "iopub.execute_input": "2022-09-22T12:28:44.063022Z",
     "iopub.status.busy": "2022-09-22T12:28:44.062525Z",
     "iopub.status.idle": "2022-09-22T12:28:44.073286Z",
     "shell.execute_reply": "2022-09-22T12:28:44.071167Z"
    },
    "papermill": {
     "duration": 0.029681,
     "end_time": "2022-09-22T12:28:44.076418",
     "exception": false,
     "start_time": "2022-09-22T12:28:44.046737",
     "status": "completed"
    },
    "tags": []
   },
   "outputs": [
    {
     "name": "stdout",
     "output_type": "stream",
     "text": [
      "Multiply Series with help of mul():\n",
      "0      494\n",
      "1      494\n",
      "2     1127\n",
      "3     1127\n",
      "4      705\n",
      "5      705\n",
      "6     1034\n",
      "7     1034\n",
      "8      770\n",
      "9      770\n",
      "10     960\n",
      "11     960\n",
      "12     510\n",
      "13     510\n",
      "14      58\n",
      "dtype: int64\n"
     ]
    }
   ],
   "source": [
    "print(\"Multiply Series with help of mul():\")\n",
    "# pd.series.mul(s1,s2)\n",
    "print(s1.mul(s2))"
   ]
  },
  {
   "cell_type": "markdown",
   "id": "45fa3878",
   "metadata": {
    "papermill": {
     "duration": 0.013273,
     "end_time": "2022-09-22T12:28:44.104527",
     "exception": false,
     "start_time": "2022-09-22T12:28:44.091254",
     "status": "completed"
    },
    "tags": []
   },
   "source": [
    "#### Division with help of '/' and div():"
   ]
  },
  {
   "cell_type": "code",
   "execution_count": 22,
   "id": "b706b96c",
   "metadata": {
    "execution": {
     "iopub.execute_input": "2022-09-22T12:28:44.133388Z",
     "iopub.status.busy": "2022-09-22T12:28:44.133003Z",
     "iopub.status.idle": "2022-09-22T12:28:44.139608Z",
     "shell.execute_reply": "2022-09-22T12:28:44.138727Z"
    },
    "papermill": {
     "duration": 0.024852,
     "end_time": "2022-09-22T12:28:44.142808",
     "exception": false,
     "start_time": "2022-09-22T12:28:44.117956",
     "status": "completed"
    },
    "tags": []
   },
   "outputs": [
    {
     "name": "stdout",
     "output_type": "stream",
     "text": [
      "Dividation of Series with help of '/' Operator:\n",
      "0      0.730769\n",
      "1      0.730769\n",
      "2      2.130435\n",
      "3      2.130435\n",
      "4      3.133333\n",
      "5      3.133333\n",
      "6      2.136364\n",
      "7      2.136364\n",
      "8      1.590909\n",
      "9      1.590909\n",
      "10     1.066667\n",
      "11     1.066667\n",
      "12     2.266667\n",
      "13     2.266667\n",
      "14    14.500000\n",
      "dtype: float64\n"
     ]
    }
   ],
   "source": [
    "print(\"Dividation of Series with help of '/' Operator:\")\n",
    "print(s1/s2)"
   ]
  },
  {
   "cell_type": "code",
   "execution_count": 23,
   "id": "25d044d9",
   "metadata": {
    "execution": {
     "iopub.execute_input": "2022-09-22T12:28:44.171543Z",
     "iopub.status.busy": "2022-09-22T12:28:44.171145Z",
     "iopub.status.idle": "2022-09-22T12:28:44.178421Z",
     "shell.execute_reply": "2022-09-22T12:28:44.177107Z"
    },
    "papermill": {
     "duration": 0.024769,
     "end_time": "2022-09-22T12:28:44.181250",
     "exception": false,
     "start_time": "2022-09-22T12:28:44.156481",
     "status": "completed"
    },
    "tags": []
   },
   "outputs": [
    {
     "name": "stdout",
     "output_type": "stream",
     "text": [
      "Dividation of Series with help of mul() fun:\n",
      "0      0.730769\n",
      "1      0.730769\n",
      "2      2.130435\n",
      "3      2.130435\n",
      "4      3.133333\n",
      "5      3.133333\n",
      "6      2.136364\n",
      "7      2.136364\n",
      "8      1.590909\n",
      "9      1.590909\n",
      "10     1.066667\n",
      "11     1.066667\n",
      "12     2.266667\n",
      "13     2.266667\n",
      "14    14.500000\n",
      "dtype: float64\n"
     ]
    }
   ],
   "source": [
    "print(\"Dividation of Series with help of mul() fun:\")\n",
    "print(s1.div(s2))"
   ]
  },
  {
   "cell_type": "markdown",
   "id": "c7a4b974",
   "metadata": {
    "papermill": {
     "duration": 0.013936,
     "end_time": "2022-09-22T12:28:44.210133",
     "exception": false,
     "start_time": "2022-09-22T12:28:44.196197",
     "status": "completed"
    },
    "tags": []
   },
   "source": [
    "#### Maximum of Series using max():"
   ]
  },
  {
   "cell_type": "code",
   "execution_count": 24,
   "id": "683c0126",
   "metadata": {
    "execution": {
     "iopub.execute_input": "2022-09-22T12:28:44.238942Z",
     "iopub.status.busy": "2022-09-22T12:28:44.238152Z",
     "iopub.status.idle": "2022-09-22T12:28:44.244318Z",
     "shell.execute_reply": "2022-09-22T12:28:44.243204Z"
    },
    "papermill": {
     "duration": 0.023662,
     "end_time": "2022-09-22T12:28:44.247150",
     "exception": false,
     "start_time": "2022-09-22T12:28:44.223488",
     "status": "completed"
    },
    "tags": []
   },
   "outputs": [
    {
     "name": "stdout",
     "output_type": "stream",
     "text": [
      "Maximum of Series: 49\n",
      "Maximum of Series: 30\n"
     ]
    }
   ],
   "source": [
    "print(\"Maximum of Series:\",s1.max())\n",
    "print(\"Maximum of Series:\",s2.max())"
   ]
  },
  {
   "cell_type": "markdown",
   "id": "b5f740dd",
   "metadata": {
    "papermill": {
     "duration": 0.013229,
     "end_time": "2022-09-22T12:28:44.274848",
     "exception": false,
     "start_time": "2022-09-22T12:28:44.261619",
     "status": "completed"
    },
    "tags": []
   },
   "source": [
    "#### Minimum of Series using min():"
   ]
  },
  {
   "cell_type": "code",
   "execution_count": 25,
   "id": "c74878da",
   "metadata": {
    "execution": {
     "iopub.execute_input": "2022-09-22T12:28:44.303699Z",
     "iopub.status.busy": "2022-09-22T12:28:44.303286Z",
     "iopub.status.idle": "2022-09-22T12:28:44.309418Z",
     "shell.execute_reply": "2022-09-22T12:28:44.308139Z"
    },
    "papermill": {
     "duration": 0.023934,
     "end_time": "2022-09-22T12:28:44.312270",
     "exception": false,
     "start_time": "2022-09-22T12:28:44.288336",
     "status": "completed"
    },
    "tags": []
   },
   "outputs": [
    {
     "name": "stdout",
     "output_type": "stream",
     "text": [
      "Minimum of Series: 19\n",
      "Minimum of Series: 2\n"
     ]
    }
   ],
   "source": [
    "print(\"Minimum of Series:\",s1.min())\n",
    "print(\"Minimum of Series:\",s2.min())"
   ]
  },
  {
   "cell_type": "markdown",
   "id": "1cd71e0a",
   "metadata": {
    "papermill": {
     "duration": 0.013345,
     "end_time": "2022-09-22T12:28:44.339313",
     "exception": false,
     "start_time": "2022-09-22T12:28:44.325968",
     "status": "completed"
    },
    "tags": []
   },
   "source": [
    "#### Sum of all element: Sum():"
   ]
  },
  {
   "cell_type": "code",
   "execution_count": 26,
   "id": "7c650737",
   "metadata": {
    "execution": {
     "iopub.execute_input": "2022-09-22T12:28:44.368586Z",
     "iopub.status.busy": "2022-09-22T12:28:44.368162Z",
     "iopub.status.idle": "2022-09-22T12:28:44.374247Z",
     "shell.execute_reply": "2022-09-22T12:28:44.372943Z"
    },
    "papermill": {
     "duration": 0.024212,
     "end_time": "2022-09-22T12:28:44.377300",
     "exception": false,
     "start_time": "2022-09-22T12:28:44.353088",
     "status": "completed"
    },
    "tags": []
   },
   "outputs": [
    {
     "name": "stdout",
     "output_type": "stream",
     "text": [
      "Sum of all element S1: 555\n",
      "Sum of all element S2: 308\n"
     ]
    }
   ],
   "source": [
    "print(\"Sum of all element S1:\",s1.sum())\n",
    "print(\"Sum of all element S2:\",s2.sum())"
   ]
  },
  {
   "cell_type": "markdown",
   "id": "f181cd81",
   "metadata": {
    "papermill": {
     "duration": 0.013223,
     "end_time": "2022-09-22T12:28:44.404366",
     "exception": false,
     "start_time": "2022-09-22T12:28:44.391143",
     "status": "completed"
    },
    "tags": []
   },
   "source": [
    "#### Product of all Value:\n",
    "- Return the product of the values over the requested axis.\n",
    "- **Syntex** <h4>Series.prod(axis=None, skipna=True, level=None, numeric_only=None, min_count=0, **kwargs)</h4>"
   ]
  },
  {
   "cell_type": "code",
   "execution_count": 27,
   "id": "5473b055",
   "metadata": {
    "execution": {
     "iopub.execute_input": "2022-09-22T12:28:44.434413Z",
     "iopub.status.busy": "2022-09-22T12:28:44.434007Z",
     "iopub.status.idle": "2022-09-22T12:28:44.440334Z",
     "shell.execute_reply": "2022-09-22T12:28:44.439195Z"
    },
    "papermill": {
     "duration": 0.025783,
     "end_time": "2022-09-22T12:28:44.443775",
     "exception": false,
     "start_time": "2022-09-22T12:28:44.417992",
     "status": "completed"
    },
    "tags": []
   },
   "outputs": [
    {
     "name": "stdout",
     "output_type": "stream",
     "text": [
      "Due to data type(int64 require higher) it is giviing wrong value: -1711325169118031872\n",
      "Data type: <class 'numpy.int64'>\n",
      "\n",
      "Product of s2 Sereis: 7633621679112000000\n"
     ]
    }
   ],
   "source": [
    "###Due to data type (int64) it is giving wrong value beacuse product value is very high can't store in int64\n",
    "\n",
    "print(\"Due to data type(int64 require higher) it is giviing wrong value:\",s1.prod())  \n",
    "print(\"Data type:\",type(s1.prod()))\n",
    "\n",
    "print(\"\\nProduct of s2 Sereis:\",s2.prod())"
   ]
  },
  {
   "cell_type": "code",
   "execution_count": null,
   "id": "ef9a25d3",
   "metadata": {
    "execution": {
     "iopub.execute_input": "2022-09-22T12:27:40.408673Z",
     "iopub.status.busy": "2022-09-22T12:27:40.407101Z",
     "iopub.status.idle": "2022-09-22T12:27:40.418432Z",
     "shell.execute_reply": "2022-09-22T12:27:40.416550Z",
     "shell.execute_reply.started": "2022-09-22T12:27:40.408589Z"
    },
    "papermill": {
     "duration": 0.013265,
     "end_time": "2022-09-22T12:28:44.471326",
     "exception": false,
     "start_time": "2022-09-22T12:28:44.458061",
     "status": "completed"
    },
    "tags": []
   },
   "outputs": [],
   "source": []
  },
  {
   "cell_type": "code",
   "execution_count": null,
   "id": "de4b0bd3",
   "metadata": {
    "execution": {
     "iopub.execute_input": "2022-09-22T12:27:52.638637Z",
     "iopub.status.busy": "2022-09-22T12:27:52.638201Z",
     "iopub.status.idle": "2022-09-22T12:27:52.646122Z",
     "shell.execute_reply": "2022-09-22T12:27:52.645276Z",
     "shell.execute_reply.started": "2022-09-22T12:27:52.638603Z"
    },
    "papermill": {
     "duration": 0.013314,
     "end_time": "2022-09-22T12:28:44.498232",
     "exception": false,
     "start_time": "2022-09-22T12:28:44.484918",
     "status": "completed"
    },
    "tags": []
   },
   "outputs": [],
   "source": []
  },
  {
   "cell_type": "code",
   "execution_count": null,
   "id": "0680b9d8",
   "metadata": {
    "papermill": {
     "duration": 0.013901,
     "end_time": "2022-09-22T12:28:44.525766",
     "exception": false,
     "start_time": "2022-09-22T12:28:44.511865",
     "status": "completed"
    },
    "tags": []
   },
   "outputs": [],
   "source": []
  }
 ],
 "metadata": {
  "kernelspec": {
   "display_name": "Python 3",
   "language": "python",
   "name": "python3"
  },
  "language_info": {
   "codemirror_mode": {
    "name": "ipython",
    "version": 3
   },
   "file_extension": ".py",
   "mimetype": "text/x-python",
   "name": "python",
   "nbconvert_exporter": "python",
   "pygments_lexer": "ipython3",
   "version": "3.7.12"
  },
  "papermill": {
   "default_parameters": {},
   "duration": 12.136249,
   "end_time": "2022-09-22T12:28:45.161173",
   "environment_variables": {},
   "exception": null,
   "input_path": "__notebook__.ipynb",
   "output_path": "__notebook__.ipynb",
   "parameters": {},
   "start_time": "2022-09-22T12:28:33.024924",
   "version": "2.3.4"
  }
 },
 "nbformat": 4,
 "nbformat_minor": 5
}
