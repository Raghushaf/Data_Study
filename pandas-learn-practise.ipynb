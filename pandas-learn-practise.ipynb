{
 "cells": [
  {
   "cell_type": "code",
   "execution_count": 1,
   "id": "bf50fd98",
   "metadata": {
    "_cell_guid": "b1076dfc-b9ad-4769-8c92-a6c4dae69d19",
    "_uuid": "8f2839f25d086af736a60e9eeb907d3b93b6e0e5",
    "execution": {
     "iopub.execute_input": "2022-09-28T11:47:32.403391Z",
     "iopub.status.busy": "2022-09-28T11:47:32.402517Z",
     "iopub.status.idle": "2022-09-28T11:47:32.425584Z",
     "shell.execute_reply": "2022-09-28T11:47:32.424669Z"
    },
    "papermill": {
     "duration": 0.084659,
     "end_time": "2022-09-28T11:47:32.428590",
     "exception": false,
     "start_time": "2022-09-28T11:47:32.343931",
     "status": "completed"
    },
    "tags": []
   },
   "outputs": [
    {
     "name": "stdout",
     "output_type": "stream",
     "text": [
      "/kaggle/input/nba-data/nba.csv\n",
      "/kaggle/input/sales-data-practise/sales_data.csv\n"
     ]
    }
   ],
   "source": [
    "# This Python 3 environment comes with many helpful analytics libraries installed\n",
    "# It is defined by the kaggle/python Docker image: https://github.com/kaggle/docker-python\n",
    "# For example, here's several helpful packages to load\n",
    "\n",
    "import numpy as np # linear algebra\n",
    "import pandas as pd # data processing, CSV file I/O (e.g. pd.read_csv)\n",
    "\n",
    "# Input data files are available in the read-only \"../input/\" directory\n",
    "# For example, running this (by clicking run or pressing Shift+Enter) will list all files under the input directory\n",
    "\n",
    "import os\n",
    "for dirname, _, filenames in os.walk('/kaggle/input'):\n",
    "    for filename in filenames:\n",
    "        print(os.path.join(dirname, filename))\n",
    "\n",
    "# You can write up to 20GB to the current directory (/kaggle/working/) that gets preserved as output when you create a version using \"Save & Run All\" \n",
    "# You can also write temporary files to /kaggle/temp/, but they won't be saved outside of the current session"
   ]
  },
  {
   "cell_type": "markdown",
   "id": "c0b0c421",
   "metadata": {
    "papermill": {
     "duration": 0.050538,
     "end_time": "2022-09-28T11:47:32.531201",
     "exception": false,
     "start_time": "2022-09-28T11:47:32.480663",
     "status": "completed"
    },
    "tags": []
   },
   "source": [
    "# Working with Pandas Library:\n",
    "- Pandas is an open-source library that uses for working with relational or labeled data both easily and intuitively. It provides various data structures and operations for manipulating numerical data and time series. It offers a tool for cleaning and processes your data. It is the most popular Python library that is used for data analysis. In this article, We are going to learn about Pandas Data structure.\n",
    "\n",
    "\n",
    "\n",
    "\n",
    "<img src=\"https://www.w3resource.com/w3r_images/pandas-data-structure.svg\" alt=\"Pandas Data structure\" style=\"max-width:100%;display:block;height:auto;border: 2px solid silver;\"><br>\n",
    "\n",
    "<p><strong>Create Test Objects</strong></p>\n",
    "<div class=\"table-responsive\">\n",
    "<table class=\"table table-bordered\">\n",
    "<tbody><tr>\n",
    "<td>pd.DataFrame(np.random.rand(20,5))</td>\n",
    "<td>5 columns and 20 rows of random floats</td>\n",
    "</tr>\n",
    "<tr>\n",
    "<td>pd.Series(my_list)</td>\n",
    "<td>Create a series from an iterable my_list</td>\n",
    "</tr>\n",
    "<tr>\n",
    "<td>df.index = pd.date_range('1900/1/30', periods=df.shape[0])</td>\n",
    "<td>Add a date index</td>\n",
    "</tr>\n",
    "</tbody></table></div>\n",
    "<p><strong>Viewing/Inspecting Data</strong></p>\n",
    "<div class=\"table-responsive\">\n",
    "<table class=\"table table-bordered\">\n",
    "<tbody><tr>\n",
    "<td>df.head(n)</td>\n",
    "<td>First n rows of the DataFrame</td>\n",
    "</tr>\n",
    "<tr>\n",
    "<td>df.tail(n)</td>\n",
    "<td> Last n rows of the DataFrame</td>\n",
    "</tr>\n",
    "<tr>\n",
    "<td>df.shape</td>\n",
    "<td> Number of rows and columns</td>\n",
    "</tr>\n",
    "<tr>\n",
    "<td>df.info()</td>\n",
    "<td>Index, Datatype and Memory information</td>\n",
    "</tr>\n",
    "<tr>\n",
    "<td>df.describe()</td>\n",
    "<td>Summary statistics for numerical columns</td>\n",
    "</tr>\n",
    "<tr>\n",
    "<td>s.value_counts(dropna=False)</td>\n",
    "<td>View unique values and counts</td>\n",
    "</tr>\n",
    "<tr>\n",
    "<td>df.apply(pd.Series.value_counts)</td>\n",
    "<td>Unique values and counts for all columns</td>\n",
    "</tr>\n",
    "</tbody></table></div>\n",
    "<p><strong>Selection</strong></p>\n",
    "<div class=\"table-responsive\">\n",
    "<table class=\"table table-bordered\">\n",
    "<tbody><tr>\n",
    "<td>df[col]</td>\n",
    "<td>Returns column with label col as Series</td>\n",
    "</tr>\n",
    "<tr>\n",
    "<td>df[[col1, col2]]</td>\n",
    "<td>Returns columns as a new DataFrame</td>\n",
    "</tr>\n",
    "<tr>\n",
    "<td>s.iloc[0]</td>\n",
    "<td>Selection by position</td>\n",
    "</tr>\n",
    "<tr>\n",
    "<td>s.loc['index_one']</td>\n",
    "<td>Selection by index</td>\n",
    "</tr>\n",
    "<tr>\n",
    "<td>df.iloc[0,:]</td>\n",
    "<td>First row</td>\n",
    "</tr>\n",
    "<tr>\n",
    "<td>df.iloc[0,0]</td>\n",
    "<td>First element of first column</td>\n",
    "</tr>\n",
    "</tbody></table></div>\n",
    "<p><strong>Data Cleaning</strong></p>\n",
    "<div class=\"table-responsive\">\n",
    "<table class=\"table table-bordered\">\n",
    "<tbody><tr>\n",
    "<td>df.columns = ['a','b','c']</td>\n",
    "<td>Rename columns</td>\n",
    "</tr>\n",
    "<tr>\n",
    "<td>pd.isnull()</td>\n",
    "<td> Checks for null Values, Returns Boolean Arrray</td>\n",
    "</tr>\n",
    "<tr>\n",
    "<td>pd.notnull()</td>\n",
    "<td>Opposite of pd.isnull()</td>\n",
    "</tr>\n",
    "<tr>\n",
    "<td>df.dropna()</td>\n",
    "<td>Drop all rows that contain null values</td>\n",
    "</tr>\n",
    "<tr>\n",
    "<td>df.dropna(axis=1)</td>\n",
    "<td>Drop all columns that contain null values</td>\n",
    "</tr>\n",
    "<tr>\n",
    "<td>df.dropna(axis=1,thresh=n)</td>\n",
    "<td>Drop all rows have have less than n non null values</td>\n",
    "</tr>\n",
    "<tr>\n",
    "<td>df.fillna(x)</td>\n",
    "<td>Replace all null values with x</td>\n",
    "</tr>\n",
    "<tr>\n",
    "<td>s.fillna(s.mean())</td>\n",
    "<td>Replace all null values with the mean</td>\n",
    "</tr>\n",
    "<tr>\n",
    "<td>s.astype(float)</td>\n",
    "<td>Convert the datatype of the series to float</td>\n",
    "</tr>\n",
    "<tr>\n",
    "<td>s.replace(1,'one')</td>\n",
    "<td>Replace all values equal to 1 with 'one'</td>\n",
    "</tr>\n",
    "<tr>\n",
    "<td>s.replace([2,3],['two', 'three'])</td>\n",
    "<td>Replace all 2 with 'two' and 3 with 'three'</td>\n",
    "</tr>\n",
    "<tr>\n",
    "<td>df.rename(columns=lambda x: x + 1)</td>\n",
    "<td>Mass renaming of columns</td>\n",
    "</tr>\n",
    "<tr>\n",
    "<td>df.rename(columns={'old_name': 'new_ name'})</td>\n",
    "<td>Selective renaming</td>\n",
    "</tr>\n",
    "<tr>\n",
    "<td>df.set_index('column_one')</td>\n",
    "<td>Change the index</td>\n",
    "</tr>\n",
    "<tr>\n",
    "<td>df.rename(index=lambda x: x + 1)</td>\n",
    "<td>Mass renaming of index</td>\n",
    "</tr>\n",
    "</tbody></table></div>\n",
    "<p><strong>Filter, Sort, and Groupby</strong></p>\n",
    "<div class=\"table-responsive\">\n",
    "<table class=\"table table-bordered\">\n",
    "<tbody><tr>\n",
    "<td>df[df[col] &gt; 0.6]</td>\n",
    "<td>Rows where the column col is greater than 0.6</td>\n",
    "</tr>\n",
    "<tr>\n",
    "<td>df[(df[col] &gt; 0.6) &amp; (df[col] &lt; 0.8)]</td>\n",
    "<td> Rows where 0.8 &gt; col &gt; 0.6</td>\n",
    "</tr>\n",
    "<tr>\n",
    "<td>df.sort_values(col1)</td>\n",
    "<td> Sort values by col1 in ascending order</td>\n",
    "</tr>\n",
    "<tr>\n",
    "<td>df.sort_values(col2,ascending=False)</td>\n",
    "<td> Sort values by col2 in descending order.5</td>\n",
    "</tr>\n",
    "<tr>\n",
    "<td>df.sort_values([col1,col2],ascending=[True,False]) </td>\n",
    "<td> Sort values by col1 in ascending order then col2 in descending order</td>\n",
    "</tr>\n",
    "<tr>\n",
    "<td>df.groupby(col)</td>\n",
    "<td>Returns a groupby object for values from one column</td>\n",
    "</tr>\n",
    "<tr>\n",
    "<td>df.groupby([col1,col2])</td>\n",
    "<td>Returns groupby object for values from multiple columns</td>\n",
    "</tr>\n",
    "<tr>\n",
    "<td>df.groupby(col1)[col2]</td>\n",
    "<td>Returns the mean of the values in col2, grouped by the values in col1</td>\n",
    "</tr>\n",
    "<tr>\n",
    "<td>df.pivot_table(index=col1,values=[col2,col3],aggfunc=mean)</td>\n",
    "<td>Create a pivot table that groups by col1 and calculates the mean of col2 and col3</td>\n",
    "</tr>\n",
    "<tr>\n",
    "<td>df.groupby(col1).agg(np.mean)</td>\n",
    "<td>Find the average across all columns for every unique col1 group</td>\n",
    "</tr>\n",
    "<tr>\n",
    "<td>df.apply(np.mean)</td>\n",
    "<td>Apply the function np.mean() across each column</td>\n",
    "</tr>\n",
    "<tr>\n",
    "<td>nf.apply(np.max,axis=1)</td>\n",
    "<td>Apply the function np.max() across each row</td>\n",
    "</tr>\n",
    "</tbody></table></div>\n",
    "<p><strong>Join/Combine</strong></p>\n",
    "<div class=\"table-responsive\">\n",
    "<table class=\"table table-bordered\">\n",
    "<tbody><tr>\n",
    "<td>df1.append(df2)</td>\n",
    "<td>Add the rows in df1 to the end of df2 (columns should be identical)</td>\n",
    "</tr>\n",
    "<tr>\n",
    "<td>pd.concat([df1, df2],axis=1)</td>\n",
    "<td>Add the columns in df1 to the end of df2 (rows should be identical)</td>\n",
    "</tr>\n",
    "<tr>\n",
    "<td>df1.join(df2,on=col1, how='inner')</td>\n",
    "<td>SQL-style join the columns in df1 with the columns on df2 where the rows for col have identical values. The 'how' can be 'left', 'right', 'outer' or 'inner'</td>\n",
    "</tr>\n",
    "</tbody></table></div>\n",
    "<p><strong>Statistics</strong></p>\n",
    "<div class=\"table-responsive\">\n",
    "<table class=\"table table-bordered\">\n",
    "<tbody><tr>\n",
    "<td>df.describe()</td>\n",
    "<td>Summary statistics for numerical columns</td>\n",
    "</tr>\n",
    "<tr>\n",
    "<td>df.mean()</td>\n",
    "<td>Returns the mean of all columns</td>\n",
    "</tr>\n",
    "<tr>\n",
    "<td>df.corr()</td>\n",
    "<td>Returns the correlation between columns in a DataFrame</td>\n",
    "</tr>\n",
    "<tr>\n",
    "<td>df.count()</td>\n",
    "<td>Returns the number of non-null values in each DataFrame column</td>\n",
    "</tr>\n",
    "<tr>\n",
    "<td>df.max()</td>\n",
    "<td>Returns the highest value in each column</td>\n",
    "</tr>\n",
    "<tr>\n",
    "<td>df.min()</td>\n",
    "<td>Returns the lowest value in each column</td>\n",
    "</tr>\n",
    "<tr>\n",
    "<td>df.median()</td>\n",
    "<td>Returns the median of each column</td>\n",
    "</tr>\n",
    "<tr>\n",
    "<td>df.std()</td>\n",
    "<td>Returns the standard deviation of each column</td>\n",
    "</tr>\n",
    "</tbody></table></div>\n",
    "<p><strong>Importing Data</strong></p>\n",
    "<div class=\"table-responsive\">\n",
    "<table class=\"table table-bordered\">\n",
    "<tbody><tr>\n",
    "<td>pd.read_csv(filename)</td>\n",
    "<td>From a CSV file</td>\n",
    "</tr>\n",
    "<tr>\n",
    "<td>pd.read_table(filename)</td>\n",
    "<td>From a delimited text file (like TSV)</td>\n",
    "</tr>\n",
    "<tr>\n",
    "<td>pd.read_excel(filename)</td>\n",
    "<td>From an Excel file</td>\n",
    "</tr>\n",
    "<tr>\n",
    "<td>pd.read_sql(query, connection_object)</td>\n",
    "<td>Read from a SQL table/database</td>\n",
    "</tr>\n",
    "<tr>\n",
    "<td>pd.read_json(json_string)</td>\n",
    "<td>Read from a JSON formatted string, URL or file.</td>\n",
    "</tr>\n",
    "<tr>\n",
    "<td>pd.read_html(url)</td>\n",
    "<td> Parses an html URL, string or file and extracts tables to a list of dataframes</td>\n",
    "</tr>\n",
    "<tr>\n",
    "<td>pd.read_clipboard() </td>\n",
    "<td>Takes the contents of your clipboard and passes it to read_table()</td>\n",
    "</tr>\n",
    "<tr>\n",
    "<td>pd.DataFrame(dict)</td>\n",
    "<td>From a dict, keys for columns names, values for data as lists</td>\n",
    "</tr>\n",
    "</tbody></table></div>\n",
    "<p><strong>Exporting Data</strong></p>\n",
    "<div class=\"table-responsive\">\n",
    "<table class=\"table table-bordered\">\n",
    "<tbody><tr>\n",
    "<td>df.to_csv(filename)</td>\n",
    "<td>Write to a CSV file</td>\n",
    "</tr>\n",
    "<tr>\n",
    "<td>df.to_excel(filename)</td>\n",
    "<td>Write to an Excel file</td>\n",
    "</tr>\n",
    "<tr>\n",
    "<td>df.to_sql(table_name, connection_object)</td>\n",
    "<td>Write to a SQL table</td>\n",
    "</tr>\n",
    "<tr>\n",
    "<td>df.to_json(filename)</td>\n",
    "<td>Write to a file in JSON format</td>\n",
    "</tr>\n",
    "</tbody></table>\n",
    "</div>\n",
    "    \n",
    "- It supports three data structures:\n",
    "\n",
    "    1. **Series**\n",
    "    2. **Dataframe**\n",
    "    3. **Panel**\n",
    "    \n",
    "## 1. pandas.series(): \n",
    "- Pandas Series is a one-dimensional labeled array capable of holding data of any type (integer, string, float, python objects, etc.). The axis labels are collectively called index. Pandas Series is nothing but a column in an excel sheet.\n",
    "- Labels need not be unique but must be a hashable type. The object supports both integer and label-based indexing and provides a host of methods for performing operations involving the index.\n",
    "- **Syntax** <H4>class pandas.Series(data=None, index=None, dtype=None, name=None, copy=False, fastpath=False)</H4>"
   ]
  },
  {
   "cell_type": "code",
   "execution_count": 2,
   "id": "1b9be1c4",
   "metadata": {
    "execution": {
     "iopub.execute_input": "2022-09-28T11:47:32.635112Z",
     "iopub.status.busy": "2022-09-28T11:47:32.634107Z",
     "iopub.status.idle": "2022-09-28T11:47:32.644101Z",
     "shell.execute_reply": "2022-09-28T11:47:32.642322Z"
    },
    "papermill": {
     "duration": 0.064846,
     "end_time": "2022-09-28T11:47:32.646692",
     "exception": false,
     "start_time": "2022-09-28T11:47:32.581846",
     "status": "completed"
    },
    "tags": []
   },
   "outputs": [
    {
     "name": "stdout",
     "output_type": "stream",
     "text": [
      "Series:\n",
      "\n",
      " 0     Bhawan\n",
      "1      Singh\n",
      "2    Solanki\n",
      "dtype: object \n",
      "\n",
      "Type of Series:  <class 'pandas.core.series.Series'> \n",
      "\n",
      "Data type of Series:  object\n",
      "Dimension of series:  1\n"
     ]
    }
   ],
   "source": [
    "#Creating Series by using arrray: \n",
    "\n",
    "data=np.array([\"Bhawan\",\"Singh\",\"Solanki\"])\n",
    "\n",
    "s=pd.Series(data)\n",
    "\n",
    "print(\"Series:\\n\\n\",s,\"\\n\\nType of Series: \",type(s),\"\\n\\nData type of Series: \",s.dtype)\n",
    "print(\"Dimension of series: \",s.ndim)"
   ]
  },
  {
   "cell_type": "code",
   "execution_count": 3,
   "id": "c094d4b4",
   "metadata": {
    "execution": {
     "iopub.execute_input": "2022-09-28T11:47:32.751127Z",
     "iopub.status.busy": "2022-09-28T11:47:32.750766Z",
     "iopub.status.idle": "2022-09-28T11:47:32.760023Z",
     "shell.execute_reply": "2022-09-28T11:47:32.759003Z"
    },
    "papermill": {
     "duration": 0.066024,
     "end_time": "2022-09-28T11:47:32.764452",
     "exception": false,
     "start_time": "2022-09-28T11:47:32.698428",
     "status": "completed"
    },
    "tags": []
   },
   "outputs": [
    {
     "name": "stdout",
     "output_type": "stream",
     "text": [
      "Series:\n",
      "\n",
      " First Name      Bhawan\n",
      "Middle Name      Singh\n",
      "Last Name      Solanki\n",
      "dtype: object \n",
      "\n",
      "Type of Series:  <class 'pandas.core.series.Series'> \n",
      "Data type of Series:  object\n",
      "Dimension of series:  1\n"
     ]
    }
   ],
   "source": [
    "# Giving the index to the Series data\n",
    "\n",
    "data=np.array([\"Bhawan\",\"Singh\",\"Solanki\"])\n",
    "\n",
    "s1=pd.Series(data,index=[\"First Name\",\"Middle Name\",\"Last Name\"])\n",
    "\n",
    "print(\"Series:\\n\\n\",s1,\"\\n\\nType of Series: \",type(s1),\"\\nData type of Series: \",s1.dtype)\n",
    "print(\"Dimension of series: \",s1.ndim)"
   ]
  },
  {
   "cell_type": "code",
   "execution_count": 4,
   "id": "8ee57fac",
   "metadata": {
    "execution": {
     "iopub.execute_input": "2022-09-28T11:47:32.870064Z",
     "iopub.status.busy": "2022-09-28T11:47:32.869715Z",
     "iopub.status.idle": "2022-09-28T11:47:32.877470Z",
     "shell.execute_reply": "2022-09-28T11:47:32.876081Z"
    },
    "papermill": {
     "duration": 0.06457,
     "end_time": "2022-09-28T11:47:32.881789",
     "exception": false,
     "start_time": "2022-09-28T11:47:32.817219",
     "status": "completed"
    },
    "tags": []
   },
   "outputs": [
    {
     "name": "stdout",
     "output_type": "stream",
     "text": [
      "Series:\n",
      "\n",
      " 0          1\n",
      "1          2\n",
      "2          3\n",
      "3          4\n",
      "4          5\n",
      "5          5\n",
      "6          6\n",
      "7          4\n",
      "8          3\n",
      "9          5\n",
      "10         5\n",
      "11       5.4\n",
      "12       3.2\n",
      "13    bhawan\n",
      "14     singh\n",
      "dtype: object \n",
      "\n",
      "Type of Series:  <class 'pandas.core.series.Series'> \n",
      "Data type of Series:  object\n",
      "Dimension of series:  1\n"
     ]
    }
   ],
   "source": [
    "# Giving List data to Series\n",
    "\n",
    "list1=[1,2,3,4,5,5,6,4,3,5,5,5.4,3.2,\"bhawan\",\"singh\"]\n",
    "s2=pd.Series(list1)\n",
    "print(\"Series:\\n\\n\",s2,\"\\n\\nType of Series: \",type(s2),\"\\nData type of Series: \",s2.dtype)\n",
    "print(\"Dimension of series: \",s2.ndim)"
   ]
  },
  {
   "cell_type": "code",
   "execution_count": 5,
   "id": "fbd32f55",
   "metadata": {
    "execution": {
     "iopub.execute_input": "2022-09-28T11:47:32.989093Z",
     "iopub.status.busy": "2022-09-28T11:47:32.988057Z",
     "iopub.status.idle": "2022-09-28T11:47:32.996146Z",
     "shell.execute_reply": "2022-09-28T11:47:32.994203Z"
    },
    "papermill": {
     "duration": 0.063316,
     "end_time": "2022-09-28T11:47:32.998231",
     "exception": false,
     "start_time": "2022-09-28T11:47:32.934915",
     "status": "completed"
    },
    "tags": []
   },
   "outputs": [
    {
     "name": "stdout",
     "output_type": "stream",
     "text": [
      "Series([], dtype: float64)\n"
     ]
    },
    {
     "name": "stderr",
     "output_type": "stream",
     "text": [
      "/opt/conda/lib/python3.7/site-packages/ipykernel_launcher.py:3: DeprecationWarning: The default dtype for empty Series will be 'object' instead of 'float64' in a future version. Specify a dtype explicitly to silence this warning.\n",
      "  This is separate from the ipykernel package so we can avoid doing imports until\n"
     ]
    }
   ],
   "source": [
    "# Creating empty Series:\n",
    "\n",
    "empty_s=pd.Series([])\n",
    "print(empty_s)"
   ]
  },
  {
   "cell_type": "code",
   "execution_count": 6,
   "id": "66ddcbaa",
   "metadata": {
    "execution": {
     "iopub.execute_input": "2022-09-28T11:47:33.103192Z",
     "iopub.status.busy": "2022-09-28T11:47:33.102842Z",
     "iopub.status.idle": "2022-09-28T11:47:33.109722Z",
     "shell.execute_reply": "2022-09-28T11:47:33.108796Z"
    },
    "papermill": {
     "duration": 0.061761,
     "end_time": "2022-09-28T11:47:33.112464",
     "exception": false,
     "start_time": "2022-09-28T11:47:33.050703",
     "status": "completed"
    },
    "tags": []
   },
   "outputs": [
    {
     "name": "stdout",
     "output_type": "stream",
     "text": [
      "0     1.0\n",
      "1     2.0\n",
      "2     3.0\n",
      "3     4.0\n",
      "4     5.0\n",
      "5     5.0\n",
      "6     6.0\n",
      "7     4.0\n",
      "8     3.0\n",
      "9     5.0\n",
      "10    5.0\n",
      "11    5.4\n",
      "12    3.2\n",
      "Name: Series_s2, dtype: float64\n"
     ]
    }
   ],
   "source": [
    "# GIving name& data type to series:\n",
    "\n",
    "list1=[1,2,3,4,5,5,6,4,3,5,5,5.4,3.2]\n",
    "s2=pd.Series(list1,dtype=float,name=\"Series_s2\")\n",
    "print(s2)"
   ]
  },
  {
   "cell_type": "code",
   "execution_count": 7,
   "id": "5dbab209",
   "metadata": {
    "execution": {
     "iopub.execute_input": "2022-09-28T11:47:33.254413Z",
     "iopub.status.busy": "2022-09-28T11:47:33.253374Z",
     "iopub.status.idle": "2022-09-28T11:47:33.261889Z",
     "shell.execute_reply": "2022-09-28T11:47:33.260864Z"
    },
    "papermill": {
     "duration": 0.093963,
     "end_time": "2022-09-28T11:47:33.264609",
     "exception": false,
     "start_time": "2022-09-28T11:47:33.170646",
     "status": "completed"
    },
    "tags": []
   },
   "outputs": [
    {
     "name": "stdout",
     "output_type": "stream",
     "text": [
      "0    4.5\n",
      "dtype: float64\n",
      "\n",
      "Multiple Scaler value series:\n",
      " 1    4.5\n",
      "2    4.5\n",
      "3    4.5\n",
      "4    4.5\n",
      "5    4.5\n",
      "6    4.5\n",
      "dtype: float64\n"
     ]
    }
   ],
   "source": [
    "#Creating Series with Scalar value:\n",
    "Scalar_s=pd.Series(4.5)\n",
    "print(Scalar_s)\n",
    "\n",
    "Scalar_s=pd.Series(4.5,index=[1,2,3,4,5,6])\n",
    "print(\"\\nMultiple Scaler value series:\\n\",Scalar_s)"
   ]
  },
  {
   "cell_type": "code",
   "execution_count": 8,
   "id": "02bc750c",
   "metadata": {
    "execution": {
     "iopub.execute_input": "2022-09-28T11:47:33.373062Z",
     "iopub.status.busy": "2022-09-28T11:47:33.372718Z",
     "iopub.status.idle": "2022-09-28T11:47:33.380716Z",
     "shell.execute_reply": "2022-09-28T11:47:33.379779Z"
    },
    "papermill": {
     "duration": 0.063116,
     "end_time": "2022-09-28T11:47:33.383187",
     "exception": false,
     "start_time": "2022-09-28T11:47:33.320071",
     "status": "completed"
    },
    "tags": []
   },
   "outputs": [
    {
     "name": "stdout",
     "output_type": "stream",
     "text": [
      "\n",
      "Creating Series with Dictionnary:\n",
      " 1    [Bhawan, test]\n",
      "2             Singh\n",
      "3           Solanki\n",
      "dtype: object\n"
     ]
    }
   ],
   "source": [
    "#Creating Series with Dictionary:\n",
    "\n",
    "dict_series=pd.Series({1:[\"Bhawan\",\"test\"],2:\"Singh\",3:\"Solanki\"})\n",
    "print(\"\\nCreating Series with Dictionnary:\\n\",dict_series)\n"
   ]
  },
  {
   "cell_type": "markdown",
   "id": "eaf6d9e0",
   "metadata": {
    "papermill": {
     "duration": 0.061381,
     "end_time": "2022-09-28T11:47:33.495876",
     "exception": false,
     "start_time": "2022-09-28T11:47:33.434495",
     "status": "completed"
    },
    "tags": []
   },
   "source": [
    "### MultiIndex Index Series:"
   ]
  },
  {
   "cell_type": "code",
   "execution_count": 9,
   "id": "c56913c3",
   "metadata": {
    "execution": {
     "iopub.execute_input": "2022-09-28T11:47:33.684366Z",
     "iopub.status.busy": "2022-09-28T11:47:33.684016Z",
     "iopub.status.idle": "2022-09-28T11:47:33.704553Z",
     "shell.execute_reply": "2022-09-28T11:47:33.703673Z"
    },
    "papermill": {
     "duration": 0.07582,
     "end_time": "2022-09-28T11:47:33.706750",
     "exception": false,
     "start_time": "2022-09-28T11:47:33.630930",
     "status": "completed"
    },
    "tags": []
   },
   "outputs": [
    {
     "data": {
      "text/plain": [
       "0  a    0\n",
       "   b    1\n",
       "   c    2\n",
       "1  a    3\n",
       "   b    4\n",
       "   c    5\n",
       "dtype: int64"
      ]
     },
     "execution_count": 9,
     "metadata": {},
     "output_type": "execute_result"
    }
   ],
   "source": [
    "s_mi = pd.Series(np.arange(6),\n",
    "   .....:                  index=pd.MultiIndex.from_product([[0, 1], ['a', 'b', 'c']]))\n",
    "   .....: \n",
    "        \n",
    "s_mi"
   ]
  },
  {
   "cell_type": "code",
   "execution_count": 10,
   "id": "7ef35b14",
   "metadata": {
    "execution": {
     "iopub.execute_input": "2022-09-28T11:47:33.812271Z",
     "iopub.status.busy": "2022-09-28T11:47:33.811594Z",
     "iopub.status.idle": "2022-09-28T11:47:33.817543Z",
     "shell.execute_reply": "2022-09-28T11:47:33.816671Z"
    },
    "papermill": {
     "duration": 0.060563,
     "end_time": "2022-09-28T11:47:33.819552",
     "exception": false,
     "start_time": "2022-09-28T11:47:33.758989",
     "status": "completed"
    },
    "tags": []
   },
   "outputs": [
    {
     "data": {
      "text/plain": [
       "pandas.core.series.Series"
      ]
     },
     "execution_count": 10,
     "metadata": {},
     "output_type": "execute_result"
    }
   ],
   "source": [
    "type(s_mi)"
   ]
  },
  {
   "cell_type": "code",
   "execution_count": 11,
   "id": "c0c6ddc6",
   "metadata": {
    "execution": {
     "iopub.execute_input": "2022-09-28T11:47:33.968329Z",
     "iopub.status.busy": "2022-09-28T11:47:33.967975Z",
     "iopub.status.idle": "2022-09-28T11:47:33.973869Z",
     "shell.execute_reply": "2022-09-28T11:47:33.972986Z"
    },
    "papermill": {
     "duration": 0.073698,
     "end_time": "2022-09-28T11:47:33.975760",
     "exception": false,
     "start_time": "2022-09-28T11:47:33.902062",
     "status": "completed"
    },
    "tags": []
   },
   "outputs": [
    {
     "data": {
      "text/plain": [
       "dtype('int64')"
      ]
     },
     "execution_count": 11,
     "metadata": {},
     "output_type": "execute_result"
    }
   ],
   "source": [
    "s_mi.dtype"
   ]
  },
  {
   "cell_type": "markdown",
   "id": "72d15ee9",
   "metadata": {
    "papermill": {
     "duration": 0.052939,
     "end_time": "2022-09-28T11:47:34.080738",
     "exception": false,
     "start_time": "2022-09-28T11:47:34.027799",
     "status": "completed"
    },
    "tags": []
   },
   "source": [
    "#### Atributes of Series\n",
    "***\n",
    "\n",
    "\n",
    "<dd>\n",
    "<table class=\"autosummary longtable table autosummary\">\n",
    "<colgroup>\n",
    "<col style=\"width: 10%\">\n",
    "<col style=\"width: 90%\">\n",
    "</colgroup>\n",
    "<tbody>\n",
    "<tr class=\"row-odd\"><td><p><a class=\"reference internal\" href=\"pandas.Series.T.html#pandas.Series.T\" title=\"pandas.Series.T\"><code class=\"xref py py-obj docutils literal notranslate\"><span class=\"pre\">T</span></code></a></p></td>\n",
    "<td><p>Return the transpose, which is by definition self.</p></td>\n",
    "</tr>\n",
    "<tr class=\"row-even\"><td><p><a class=\"reference internal\" href=\"pandas.Series.array.html#pandas.Series.array\" title=\"pandas.Series.array\"><code class=\"xref py py-obj docutils literal notranslate\"><span class=\"pre\">array</span></code></a></p></td>\n",
    "<td><p>The ExtensionArray of the data backing this Series or Index.</p></td>\n",
    "</tr>\n",
    "<tr class=\"row-odd\"><td><p><a class=\"reference internal\" href=\"pandas.Series.at.html#pandas.Series.at\" title=\"pandas.Series.at\"><code class=\"xref py py-obj docutils literal notranslate\"><span class=\"pre\">at</span></code></a></p></td>\n",
    "<td><p>Access a single value for a row/column label pair.</p></td>\n",
    "</tr>\n",
    "<tr class=\"row-even\"><td><p><a class=\"reference internal\" href=\"pandas.Series.attrs.html#pandas.Series.attrs\" title=\"pandas.Series.attrs\"><code class=\"xref py py-obj docutils literal notranslate\"><span class=\"pre\">attrs</span></code></a></p></td>\n",
    "<td><p>Dictionary of global attributes of this dataset.</p></td>\n",
    "</tr>\n",
    "<tr class=\"row-odd\"><td><p><a class=\"reference internal\" href=\"pandas.Series.axes.html#pandas.Series.axes\" title=\"pandas.Series.axes\"><code class=\"xref py py-obj docutils literal notranslate\"><span class=\"pre\">axes</span></code></a></p></td>\n",
    "<td><p>Return a list of the row axis labels.</p></td>\n",
    "</tr>\n",
    "<tr class=\"row-even\"><td><p><a class=\"reference internal\" href=\"pandas.Series.dtype.html#pandas.Series.dtype\" title=\"pandas.Series.dtype\"><code class=\"xref py py-obj docutils literal notranslate\"><span class=\"pre\">dtype</span></code></a></p></td>\n",
    "<td><p>Return the dtype object of the underlying data.</p></td>\n",
    "</tr>\n",
    "<tr class=\"row-odd\"><td><p><a class=\"reference internal\" href=\"pandas.Series.dtypes.html#pandas.Series.dtypes\" title=\"pandas.Series.dtypes\"><code class=\"xref py py-obj docutils literal notranslate\"><span class=\"pre\">dtypes</span></code></a></p></td>\n",
    "<td><p>Return the dtype object of the underlying data.</p></td>\n",
    "</tr>\n",
    "<tr class=\"row-even\"><td><p><a class=\"reference internal\" href=\"pandas.Series.flags.html#pandas.Series.flags\" title=\"pandas.Series.flags\"><code class=\"xref py py-obj docutils literal notranslate\"><span class=\"pre\">flags</span></code></a></p></td>\n",
    "<td><p>Get the properties associated with this pandas object.</p></td>\n",
    "</tr>\n",
    "<tr class=\"row-odd\"><td><p><a class=\"reference internal\" href=\"pandas.Series.hasnans.html#pandas.Series.hasnans\" title=\"pandas.Series.hasnans\"><code class=\"xref py py-obj docutils literal notranslate\"><span class=\"pre\">hasnans</span></code></a></p></td>\n",
    "<td><p>Return True if there are any NaNs.</p></td>\n",
    "</tr>\n",
    "<tr class=\"row-even\"><td><p><a class=\"reference internal\" href=\"pandas.Series.iat.html#pandas.Series.iat\" title=\"pandas.Series.iat\"><code class=\"xref py py-obj docutils literal notranslate\"><span class=\"pre\">iat</span></code></a></p></td>\n",
    "<td><p>Access a single value for a row/column pair by integer position.</p></td>\n",
    "</tr>\n",
    "<tr class=\"row-odd\"><td><p><a class=\"reference internal\" href=\"pandas.Series.iloc.html#pandas.Series.iloc\" title=\"pandas.Series.iloc\"><code class=\"xref py py-obj docutils literal notranslate\"><span class=\"pre\">iloc</span></code></a></p></td>\n",
    "<td><p>Purely integer-location based indexing for selection by position.</p></td>\n",
    "</tr>\n",
    "<tr class=\"row-even\"><td><p><a class=\"reference internal\" href=\"pandas.Series.index.html#pandas.Series.index\" title=\"pandas.Series.index\"><code class=\"xref py py-obj docutils literal notranslate\"><span class=\"pre\">index</span></code></a></p></td>\n",
    "<td><p>The index (axis labels) of the Series.</p></td>\n",
    "</tr>\n",
    "<tr class=\"row-odd\"><td><p><a class=\"reference internal\" href=\"pandas.Series.is_monotonic.html#pandas.Series.is_monotonic\" title=\"pandas.Series.is_monotonic\"><code class=\"xref py py-obj docutils literal notranslate\"><span class=\"pre\">is_monotonic</span></code></a></p></td>\n",
    "<td><p>(DEPRECATED) Return boolean if values in the object are monotonically increasing.</p></td>\n",
    "</tr>\n",
    "<tr class=\"row-even\"><td><p><a class=\"reference internal\" href=\"pandas.Series.is_monotonic_decreasing.html#pandas.Series.is_monotonic_decreasing\" title=\"pandas.Series.is_monotonic_decreasing\"><code class=\"xref py py-obj docutils literal notranslate\"><span class=\"pre\">is_monotonic_decreasing</span></code></a></p></td>\n",
    "<td><p>Return boolean if values in the object are monotonically decreasing.</p></td>\n",
    "</tr>\n",
    "<tr class=\"row-odd\"><td><p><a class=\"reference internal\" href=\"pandas.Series.is_monotonic_increasing.html#pandas.Series.is_monotonic_increasing\" title=\"pandas.Series.is_monotonic_increasing\"><code class=\"xref py py-obj docutils literal notranslate\"><span class=\"pre\">is_monotonic_increasing</span></code></a></p></td>\n",
    "<td><p>Return boolean if values in the object are monotonically increasing.</p></td>\n",
    "</tr>\n",
    "<tr class=\"row-even\"><td><p><a class=\"reference internal\" href=\"pandas.Series.is_unique.html#pandas.Series.is_unique\" title=\"pandas.Series.is_unique\"><code class=\"xref py py-obj docutils literal notranslate\"><span class=\"pre\">is_unique</span></code></a></p></td>\n",
    "<td><p>Return boolean if values in the object are unique.</p></td>\n",
    "</tr>\n",
    "<tr class=\"row-odd\"><td><p><a class=\"reference internal\" href=\"pandas.Series.loc.html#pandas.Series.loc\" title=\"pandas.Series.loc\"><code class=\"xref py py-obj docutils literal notranslate\"><span class=\"pre\">loc</span></code></a></p></td>\n",
    "<td><p>Access a group of rows and columns by label(s) or a boolean array.</p></td>\n",
    "</tr>\n",
    "<tr class=\"row-even\"><td><p><a class=\"reference internal\" href=\"pandas.Series.name.html#pandas.Series.name\" title=\"pandas.Series.name\"><code class=\"xref py py-obj docutils literal notranslate\"><span class=\"pre\">name</span></code></a></p></td>\n",
    "<td><p>Return the name of the Series.</p></td>\n",
    "</tr>\n",
    "<tr class=\"row-odd\"><td><p><a class=\"reference internal\" href=\"pandas.Series.nbytes.html#pandas.Series.nbytes\" title=\"pandas.Series.nbytes\"><code class=\"xref py py-obj docutils literal notranslate\"><span class=\"pre\">nbytes</span></code></a></p></td>\n",
    "<td><p>Return the number of bytes in the underlying data.</p></td>\n",
    "</tr>\n",
    "<tr class=\"row-even\"><td><p><a class=\"reference internal\" href=\"pandas.Series.ndim.html#pandas.Series.ndim\" title=\"pandas.Series.ndim\"><code class=\"xref py py-obj docutils literal notranslate\"><span class=\"pre\">ndim</span></code></a></p></td>\n",
    "<td><p>Number of dimensions of the underlying data, by definition 1.</p></td>\n",
    "</tr>\n",
    "<tr class=\"row-odd\"><td><p><a class=\"reference internal\" href=\"pandas.Series.shape.html#pandas.Series.shape\" title=\"pandas.Series.shape\"><code class=\"xref py py-obj docutils literal notranslate\"><span class=\"pre\">shape</span></code></a></p></td>\n",
    "<td><p>Return a tuple of the shape of the underlying data.</p></td>\n",
    "</tr>\n",
    "<tr class=\"row-even\"><td><p><a class=\"reference internal\" href=\"pandas.Series.size.html#pandas.Series.size\" title=\"pandas.Series.size\"><code class=\"xref py py-obj docutils literal notranslate\"><span class=\"pre\">size</span></code></a></p></td>\n",
    "<td><p>Return the number of elements in the underlying data.</p></td>\n",
    "</tr>\n",
    "<tr class=\"row-odd\"><td><p><a class=\"reference internal\" href=\"pandas.Series.values.html#pandas.Series.values\" title=\"pandas.Series.values\"><code class=\"xref py py-obj docutils literal notranslate\"><span class=\"pre\">values</span></code></a></p></td>\n",
    "<td><p>Return Series as ndarray or ndarray-like depending on the dtype.</p></td>\n",
    "</tr>\n",
    "</tbody>\n",
    "</table>\n",
    "    </dd>  \n",
    "    \n",
    "#### Methods Of Series\n",
    "*** \n",
    "<dd>    \n",
    "<table class=\"autosummary longtable table autosummary\">\n",
    "<colgroup>\n",
    "<col style=\"width: 10%\">\n",
    "<col style=\"width: 90%\">\n",
    "</colgroup>\n",
    "<tbody>\n",
    "<tr class=\"row-odd\"><td><p><a class=\"reference internal\" href=\"pandas.Series.abs.html#pandas.Series.abs\" title=\"pandas.Series.abs\"><code class=\"xref py py-obj docutils literal notranslate\"><span class=\"pre\">abs</span></code></a>()</p></td>\n",
    "<td><p>Return a Series/DataFrame with absolute numeric value of each element.</p></td>\n",
    "</tr>\n",
    "<tr class=\"row-even\"><td><p><a class=\"reference internal\" href=\"pandas.Series.add.html#pandas.Series.add\" title=\"pandas.Series.add\"><code class=\"xref py py-obj docutils literal notranslate\"><span class=\"pre\">add</span></code></a>(other[,&nbsp;level,&nbsp;fill_value,&nbsp;axis])</p></td>\n",
    "<td><p>Return Addition of series and other, element-wise (binary operator <cite>add</cite>).</p></td>\n",
    "</tr>\n",
    "<tr class=\"row-odd\"><td><p><a class=\"reference internal\" href=\"pandas.Series.add_prefix.html#pandas.Series.add_prefix\" title=\"pandas.Series.add_prefix\"><code class=\"xref py py-obj docutils literal notranslate\"><span class=\"pre\">add_prefix</span></code></a>(prefix)</p></td>\n",
    "<td><p>Prefix labels with string <cite>prefix</cite>.</p></td>\n",
    "</tr>\n",
    "<tr class=\"row-even\"><td><p><a class=\"reference internal\" href=\"pandas.Series.add_suffix.html#pandas.Series.add_suffix\" title=\"pandas.Series.add_suffix\"><code class=\"xref py py-obj docutils literal notranslate\"><span class=\"pre\">add_suffix</span></code></a>(suffix)</p></td>\n",
    "<td><p>Suffix labels with string <cite>suffix</cite>.</p></td>\n",
    "</tr>\n",
    "<tr class=\"row-odd\"><td><p><a class=\"reference internal\" href=\"pandas.Series.agg.html#pandas.Series.agg\" title=\"pandas.Series.agg\"><code class=\"xref py py-obj docutils literal notranslate\"><span class=\"pre\">agg</span></code></a>([func,&nbsp;axis])</p></td>\n",
    "<td><p>Aggregate using one or more operations over the specified axis.</p></td>\n",
    "</tr>\n",
    "<tr class=\"row-even\"><td><p><a class=\"reference internal\" href=\"pandas.Series.aggregate.html#pandas.Series.aggregate\" title=\"pandas.Series.aggregate\"><code class=\"xref py py-obj docutils literal notranslate\"><span class=\"pre\">aggregate</span></code></a>([func,&nbsp;axis])</p></td>\n",
    "<td><p>Aggregate using one or more operations over the specified axis.</p></td>\n",
    "</tr>\n",
    "<tr class=\"row-odd\"><td><p><a class=\"reference internal\" href=\"pandas.Series.align.html#pandas.Series.align\" title=\"pandas.Series.align\"><code class=\"xref py py-obj docutils literal notranslate\"><span class=\"pre\">align</span></code></a>(other[,&nbsp;join,&nbsp;axis,&nbsp;level,&nbsp;copy,&nbsp;...])</p></td>\n",
    "<td><p>Align two objects on their axes with the specified join method.</p></td>\n",
    "</tr>\n",
    "<tr class=\"row-even\"><td><p><a class=\"reference internal\" href=\"pandas.Series.all.html#pandas.Series.all\" title=\"pandas.Series.all\"><code class=\"xref py py-obj docutils literal notranslate\"><span class=\"pre\">all</span></code></a>([axis,&nbsp;bool_only,&nbsp;skipna,&nbsp;level])</p></td>\n",
    "<td><p>Return whether all elements are True, potentially over an axis.</p></td>\n",
    "</tr>\n",
    "<tr class=\"row-odd\"><td><p><a class=\"reference internal\" href=\"pandas.Series.any.html#pandas.Series.any\" title=\"pandas.Series.any\"><code class=\"xref py py-obj docutils literal notranslate\"><span class=\"pre\">any</span></code></a>([axis,&nbsp;bool_only,&nbsp;skipna,&nbsp;level])</p></td>\n",
    "<td><p>Return whether any element is True, potentially over an axis.</p></td>\n",
    "</tr>\n",
    "<tr class=\"row-even\"><td><p><a class=\"reference internal\" href=\"pandas.Series.append.html#pandas.Series.append\" title=\"pandas.Series.append\"><code class=\"xref py py-obj docutils literal notranslate\"><span class=\"pre\">append</span></code></a>(to_append[,&nbsp;ignore_index,&nbsp;...])</p></td>\n",
    "<td><p>(DEPRECATED) Concatenate two or more Series.</p></td>\n",
    "</tr>\n",
    "<tr class=\"row-odd\"><td><p><a class=\"reference internal\" href=\"pandas.Series.apply.html#pandas.Series.apply\" title=\"pandas.Series.apply\"><code class=\"xref py py-obj docutils literal notranslate\"><span class=\"pre\">apply</span></code></a>(func[,&nbsp;convert_dtype,&nbsp;args])</p></td>\n",
    "<td><p>Invoke function on values of Series.</p></td>\n",
    "</tr>\n",
    "<tr class=\"row-even\"><td><p><a class=\"reference internal\" href=\"pandas.Series.argmax.html#pandas.Series.argmax\" title=\"pandas.Series.argmax\"><code class=\"xref py py-obj docutils literal notranslate\"><span class=\"pre\">argmax</span></code></a>([axis,&nbsp;skipna])</p></td>\n",
    "<td><p>Return int position of the largest value in the Series.</p></td>\n",
    "</tr>\n",
    "<tr class=\"row-odd\"><td><p><a class=\"reference internal\" href=\"pandas.Series.argmin.html#pandas.Series.argmin\" title=\"pandas.Series.argmin\"><code class=\"xref py py-obj docutils literal notranslate\"><span class=\"pre\">argmin</span></code></a>([axis,&nbsp;skipna])</p></td>\n",
    "<td><p>Return int position of the smallest value in the Series.</p></td>\n",
    "</tr>\n",
    "<tr class=\"row-even\"><td><p><a class=\"reference internal\" href=\"pandas.Series.argsort.html#pandas.Series.argsort\" title=\"pandas.Series.argsort\"><code class=\"xref py py-obj docutils literal notranslate\"><span class=\"pre\">argsort</span></code></a>([axis,&nbsp;kind,&nbsp;order])</p></td>\n",
    "<td><p>Return the integer indices that would sort the Series values.</p></td>\n",
    "</tr>\n",
    "<tr class=\"row-odd\"><td><p><a class=\"reference internal\" href=\"pandas.Series.asfreq.html#pandas.Series.asfreq\" title=\"pandas.Series.asfreq\"><code class=\"xref py py-obj docutils literal notranslate\"><span class=\"pre\">asfreq</span></code></a>(freq[,&nbsp;method,&nbsp;how,&nbsp;normalize,&nbsp;...])</p></td>\n",
    "<td><p>Convert time series to specified frequency.</p></td>\n",
    "</tr>\n",
    "<tr class=\"row-even\"><td><p><a class=\"reference internal\" href=\"pandas.Series.asof.html#pandas.Series.asof\" title=\"pandas.Series.asof\"><code class=\"xref py py-obj docutils literal notranslate\"><span class=\"pre\">asof</span></code></a>(where[,&nbsp;subset])</p></td>\n",
    "<td><p>Return the last row(s) without any NaNs before <cite>where</cite>.</p></td>\n",
    "</tr>\n",
    "<tr class=\"row-odd\"><td><p><a class=\"reference internal\" href=\"pandas.Series.astype.html#pandas.Series.astype\" title=\"pandas.Series.astype\"><code class=\"xref py py-obj docutils literal notranslate\"><span class=\"pre\">astype</span></code></a>(dtype[,&nbsp;copy,&nbsp;errors])</p></td>\n",
    "<td><p>Cast a pandas object to a specified dtype <code class=\"docutils literal notranslate\"><span class=\"pre\">dtype</span></code>.</p></td>\n",
    "</tr>\n",
    "<tr class=\"row-even\"><td><p><a class=\"reference internal\" href=\"pandas.Series.at_time.html#pandas.Series.at_time\" title=\"pandas.Series.at_time\"><code class=\"xref py py-obj docutils literal notranslate\"><span class=\"pre\">at_time</span></code></a>(time[,&nbsp;asof,&nbsp;axis])</p></td>\n",
    "<td><p>Select values at particular time of day (e.g., 9:30AM).</p></td>\n",
    "</tr>\n",
    "<tr class=\"row-odd\"><td><p><a class=\"reference internal\" href=\"pandas.Series.autocorr.html#pandas.Series.autocorr\" title=\"pandas.Series.autocorr\"><code class=\"xref py py-obj docutils literal notranslate\"><span class=\"pre\">autocorr</span></code></a>([lag])</p></td>\n",
    "<td><p>Compute the lag-N autocorrelation.</p></td>\n",
    "</tr>\n",
    "<tr class=\"row-even\"><td><p><a class=\"reference internal\" href=\"pandas.Series.backfill.html#pandas.Series.backfill\" title=\"pandas.Series.backfill\"><code class=\"xref py py-obj docutils literal notranslate\"><span class=\"pre\">backfill</span></code></a>([axis,&nbsp;inplace,&nbsp;limit,&nbsp;downcast])</p></td>\n",
    "<td><p>Synonym for <a class=\"reference internal\" href=\"pandas.DataFrame.fillna.html#pandas.DataFrame.fillna\" title=\"pandas.DataFrame.fillna\"><code class=\"xref py py-meth docutils literal notranslate\"><span class=\"pre\">DataFrame.fillna()</span></code></a> with <code class=\"docutils literal notranslate\"><span class=\"pre\">method='bfill'</span></code>.</p></td>\n",
    "</tr>\n",
    "<tr class=\"row-odd\"><td><p><a class=\"reference internal\" href=\"pandas.Series.between.html#pandas.Series.between\" title=\"pandas.Series.between\"><code class=\"xref py py-obj docutils literal notranslate\"><span class=\"pre\">between</span></code></a>(left,&nbsp;right[,&nbsp;inclusive])</p></td>\n",
    "<td><p>Return boolean Series equivalent to left &lt;= series &lt;= right.</p></td>\n",
    "</tr>\n",
    "<tr class=\"row-even\"><td><p><a class=\"reference internal\" href=\"pandas.Series.between_time.html#pandas.Series.between_time\" title=\"pandas.Series.between_time\"><code class=\"xref py py-obj docutils literal notranslate\"><span class=\"pre\">between_time</span></code></a>(start_time,&nbsp;end_time[,&nbsp;...])</p></td>\n",
    "<td><p>Select values between particular times of the day (e.g., 9:00-9:30 AM).</p></td>\n",
    "</tr>\n",
    "<tr class=\"row-odd\"><td><p><a class=\"reference internal\" href=\"pandas.Series.bfill.html#pandas.Series.bfill\" title=\"pandas.Series.bfill\"><code class=\"xref py py-obj docutils literal notranslate\"><span class=\"pre\">bfill</span></code></a>([axis,&nbsp;inplace,&nbsp;limit,&nbsp;downcast])</p></td>\n",
    "<td><p>Synonym for <a class=\"reference internal\" href=\"pandas.DataFrame.fillna.html#pandas.DataFrame.fillna\" title=\"pandas.DataFrame.fillna\"><code class=\"xref py py-meth docutils literal notranslate\"><span class=\"pre\">DataFrame.fillna()</span></code></a> with <code class=\"docutils literal notranslate\"><span class=\"pre\">method='bfill'</span></code>.</p></td>\n",
    "</tr>\n",
    "<tr class=\"row-even\"><td><p><a class=\"reference internal\" href=\"pandas.Series.bool.html#pandas.Series.bool\" title=\"pandas.Series.bool\"><code class=\"xref py py-obj docutils literal notranslate\"><span class=\"pre\">bool</span></code></a>()</p></td>\n",
    "<td><p>Return the bool of a single element Series or DataFrame.</p></td>\n",
    "</tr>\n",
    "<tr class=\"row-odd\"><td><p><a class=\"reference internal\" href=\"pandas.Series.cat.html#pandas.Series.cat\" title=\"pandas.Series.cat\"><code class=\"xref py py-obj docutils literal notranslate\"><span class=\"pre\">cat</span></code></a></p></td>\n",
    "<td><p>alias of <code class=\"xref py py-class docutils literal notranslate\"><span class=\"pre\">pandas.core.arrays.categorical.CategoricalAccessor</span></code></p></td>\n",
    "</tr>\n",
    "<tr class=\"row-even\"><td><p><a class=\"reference internal\" href=\"pandas.Series.clip.html#pandas.Series.clip\" title=\"pandas.Series.clip\"><code class=\"xref py py-obj docutils literal notranslate\"><span class=\"pre\">clip</span></code></a>([lower,&nbsp;upper,&nbsp;axis,&nbsp;inplace])</p></td>\n",
    "<td><p>Trim values at input threshold(s).</p></td>\n",
    "</tr>\n",
    "<tr class=\"row-odd\"><td><p><a class=\"reference internal\" href=\"pandas.Series.combine.html#pandas.Series.combine\" title=\"pandas.Series.combine\"><code class=\"xref py py-obj docutils literal notranslate\"><span class=\"pre\">combine</span></code></a>(other,&nbsp;func[,&nbsp;fill_value])</p></td>\n",
    "<td><p>Combine the Series with a Series or scalar according to <cite>func</cite>.</p></td>\n",
    "</tr>\n",
    "<tr class=\"row-even\"><td><p><a class=\"reference internal\" href=\"pandas.Series.combine_first.html#pandas.Series.combine_first\" title=\"pandas.Series.combine_first\"><code class=\"xref py py-obj docutils literal notranslate\"><span class=\"pre\">combine_first</span></code></a>(other)</p></td>\n",
    "<td><p>Update null elements with value in the same location in 'other'.</p></td>\n",
    "</tr>\n",
    "<tr class=\"row-odd\"><td><p><a class=\"reference internal\" href=\"pandas.Series.compare.html#pandas.Series.compare\" title=\"pandas.Series.compare\"><code class=\"xref py py-obj docutils literal notranslate\"><span class=\"pre\">compare</span></code></a>(other[,&nbsp;align_axis,&nbsp;keep_shape,&nbsp;...])</p></td>\n",
    "<td><p>Compare to another Series and show the differences.</p></td>\n",
    "</tr>\n",
    "<tr class=\"row-even\"><td><p><a class=\"reference internal\" href=\"pandas.Series.convert_dtypes.html#pandas.Series.convert_dtypes\" title=\"pandas.Series.convert_dtypes\"><code class=\"xref py py-obj docutils literal notranslate\"><span class=\"pre\">convert_dtypes</span></code></a>([infer_objects,&nbsp;...])</p></td>\n",
    "<td><p>Convert columns to best possible dtypes using dtypes supporting <code class=\"docutils literal notranslate\"><span class=\"pre\">pd.NA</span></code>.</p></td>\n",
    "</tr>\n",
    "<tr class=\"row-odd\"><td><p><a class=\"reference internal\" href=\"pandas.Series.copy.html#pandas.Series.copy\" title=\"pandas.Series.copy\"><code class=\"xref py py-obj docutils literal notranslate\"><span class=\"pre\">copy</span></code></a>([deep])</p></td>\n",
    "<td><p>Make a copy of this object's indices and data.</p></td>\n",
    "</tr>\n",
    "<tr class=\"row-even\"><td><p><a class=\"reference internal\" href=\"pandas.Series.corr.html#pandas.Series.corr\" title=\"pandas.Series.corr\"><code class=\"xref py py-obj docutils literal notranslate\"><span class=\"pre\">corr</span></code></a>(other[,&nbsp;method,&nbsp;min_periods])</p></td>\n",
    "<td><p>Compute correlation with <cite>other</cite> Series, excluding missing values.</p></td>\n",
    "</tr>\n",
    "<tr class=\"row-odd\"><td><p><a class=\"reference internal\" href=\"pandas.Series.count.html#pandas.Series.count\" title=\"pandas.Series.count\"><code class=\"xref py py-obj docutils literal notranslate\"><span class=\"pre\">count</span></code></a>([level])</p></td>\n",
    "<td><p>Return number of non-NA/null observations in the Series.</p></td>\n",
    "</tr>\n",
    "<tr class=\"row-even\"><td><p><a class=\"reference internal\" href=\"pandas.Series.cov.html#pandas.Series.cov\" title=\"pandas.Series.cov\"><code class=\"xref py py-obj docutils literal notranslate\"><span class=\"pre\">cov</span></code></a>(other[,&nbsp;min_periods,&nbsp;ddof])</p></td>\n",
    "<td><p>Compute covariance with Series, excluding missing values.</p></td>\n",
    "</tr>\n",
    "<tr class=\"row-odd\"><td><p><a class=\"reference internal\" href=\"pandas.Series.cummax.html#pandas.Series.cummax\" title=\"pandas.Series.cummax\"><code class=\"xref py py-obj docutils literal notranslate\"><span class=\"pre\">cummax</span></code></a>([axis,&nbsp;skipna])</p></td>\n",
    "<td><p>Return cumulative maximum over a DataFrame or Series axis.</p></td>\n",
    "</tr>\n",
    "<tr class=\"row-even\"><td><p><a class=\"reference internal\" href=\"pandas.Series.cummin.html#pandas.Series.cummin\" title=\"pandas.Series.cummin\"><code class=\"xref py py-obj docutils literal notranslate\"><span class=\"pre\">cummin</span></code></a>([axis,&nbsp;skipna])</p></td>\n",
    "<td><p>Return cumulative minimum over a DataFrame or Series axis.</p></td>\n",
    "</tr>\n",
    "<tr class=\"row-odd\"><td><p><a class=\"reference internal\" href=\"pandas.Series.cumprod.html#pandas.Series.cumprod\" title=\"pandas.Series.cumprod\"><code class=\"xref py py-obj docutils literal notranslate\"><span class=\"pre\">cumprod</span></code></a>([axis,&nbsp;skipna])</p></td>\n",
    "<td><p>Return cumulative product over a DataFrame or Series axis.</p></td>\n",
    "</tr>\n",
    "<tr class=\"row-even\"><td><p><a class=\"reference internal\" href=\"pandas.Series.cumsum.html#pandas.Series.cumsum\" title=\"pandas.Series.cumsum\"><code class=\"xref py py-obj docutils literal notranslate\"><span class=\"pre\">cumsum</span></code></a>([axis,&nbsp;skipna])</p></td>\n",
    "<td><p>Return cumulative sum over a DataFrame or Series axis.</p></td>\n",
    "</tr>\n",
    "<tr class=\"row-odd\"><td><p><a class=\"reference internal\" href=\"pandas.Series.describe.html#pandas.Series.describe\" title=\"pandas.Series.describe\"><code class=\"xref py py-obj docutils literal notranslate\"><span class=\"pre\">describe</span></code></a>([percentiles,&nbsp;include,&nbsp;exclude,&nbsp;...])</p></td>\n",
    "<td><p>Generate descriptive statistics.</p></td>\n",
    "</tr>\n",
    "<tr class=\"row-even\"><td><p><a class=\"reference internal\" href=\"pandas.Series.diff.html#pandas.Series.diff\" title=\"pandas.Series.diff\"><code class=\"xref py py-obj docutils literal notranslate\"><span class=\"pre\">diff</span></code></a>([periods])</p></td>\n",
    "<td><p>First discrete difference of element.</p></td>\n",
    "</tr>\n",
    "<tr class=\"row-odd\"><td><p><a class=\"reference internal\" href=\"pandas.Series.div.html#pandas.Series.div\" title=\"pandas.Series.div\"><code class=\"xref py py-obj docutils literal notranslate\"><span class=\"pre\">div</span></code></a>(other[,&nbsp;level,&nbsp;fill_value,&nbsp;axis])</p></td>\n",
    "<td><p>Return Floating division of series and other, element-wise (binary operator <cite>truediv</cite>).</p></td>\n",
    "</tr>\n",
    "<tr class=\"row-even\"><td><p><a class=\"reference internal\" href=\"pandas.Series.divide.html#pandas.Series.divide\" title=\"pandas.Series.divide\"><code class=\"xref py py-obj docutils literal notranslate\"><span class=\"pre\">divide</span></code></a>(other[,&nbsp;level,&nbsp;fill_value,&nbsp;axis])</p></td>\n",
    "<td><p>Return Floating division of series and other, element-wise (binary operator <cite>truediv</cite>).</p></td>\n",
    "</tr>\n",
    "<tr class=\"row-odd\"><td><p><a class=\"reference internal\" href=\"pandas.Series.divmod.html#pandas.Series.divmod\" title=\"pandas.Series.divmod\"><code class=\"xref py py-obj docutils literal notranslate\"><span class=\"pre\">divmod</span></code></a>(other[,&nbsp;level,&nbsp;fill_value,&nbsp;axis])</p></td>\n",
    "<td><p>Return Integer division and modulo of series and other, element-wise (binary operator <cite>divmod</cite>).</p></td>\n",
    "</tr>\n",
    "<tr class=\"row-even\"><td><p><a class=\"reference internal\" href=\"pandas.Series.dot.html#pandas.Series.dot\" title=\"pandas.Series.dot\"><code class=\"xref py py-obj docutils literal notranslate\"><span class=\"pre\">dot</span></code></a>(other)</p></td>\n",
    "<td><p>Compute the dot product between the Series and the columns of other.</p></td>\n",
    "</tr>\n",
    "<tr class=\"row-odd\"><td><p><a class=\"reference internal\" href=\"pandas.Series.drop.html#pandas.Series.drop\" title=\"pandas.Series.drop\"><code class=\"xref py py-obj docutils literal notranslate\"><span class=\"pre\">drop</span></code></a>([labels,&nbsp;axis,&nbsp;index,&nbsp;columns,&nbsp;level,&nbsp;...])</p></td>\n",
    "<td><p>Return Series with specified index labels removed.</p></td>\n",
    "</tr>\n",
    "<tr class=\"row-even\"><td><p><a class=\"reference internal\" href=\"pandas.Series.drop_duplicates.html#pandas.Series.drop_duplicates\" title=\"pandas.Series.drop_duplicates\"><code class=\"xref py py-obj docutils literal notranslate\"><span class=\"pre\">drop_duplicates</span></code></a>([keep,&nbsp;inplace])</p></td>\n",
    "<td><p>Return Series with duplicate values removed.</p></td>\n",
    "</tr>\n",
    "<tr class=\"row-odd\"><td><p><a class=\"reference internal\" href=\"pandas.Series.droplevel.html#pandas.Series.droplevel\" title=\"pandas.Series.droplevel\"><code class=\"xref py py-obj docutils literal notranslate\"><span class=\"pre\">droplevel</span></code></a>(level[,&nbsp;axis])</p></td>\n",
    "<td><p>Return Series/DataFrame with requested index / column level(s) removed.</p></td>\n",
    "</tr>\n",
    "<tr class=\"row-even\"><td><p><a class=\"reference internal\" href=\"pandas.Series.dropna.html#pandas.Series.dropna\" title=\"pandas.Series.dropna\"><code class=\"xref py py-obj docutils literal notranslate\"><span class=\"pre\">dropna</span></code></a>([axis,&nbsp;inplace,&nbsp;how])</p></td>\n",
    "<td><p>Return a new Series with missing values removed.</p></td>\n",
    "</tr>\n",
    "<tr class=\"row-odd\"><td><p><a class=\"reference internal\" href=\"pandas.Series.dt.html#pandas.Series.dt\" title=\"pandas.Series.dt\"><code class=\"xref py py-obj docutils literal notranslate\"><span class=\"pre\">dt</span></code></a></p></td>\n",
    "<td><p>alias of <code class=\"xref py py-class docutils literal notranslate\"><span class=\"pre\">pandas.core.indexes.accessors.CombinedDatetimelikeProperties</span></code></p></td>\n",
    "</tr>\n",
    "<tr class=\"row-even\"><td><p><a class=\"reference internal\" href=\"pandas.Series.duplicated.html#pandas.Series.duplicated\" title=\"pandas.Series.duplicated\"><code class=\"xref py py-obj docutils literal notranslate\"><span class=\"pre\">duplicated</span></code></a>([keep])</p></td>\n",
    "<td><p>Indicate duplicate Series values.</p></td>\n",
    "</tr>\n",
    "<tr class=\"row-odd\"><td><p><a class=\"reference internal\" href=\"pandas.Series.eq.html#pandas.Series.eq\" title=\"pandas.Series.eq\"><code class=\"xref py py-obj docutils literal notranslate\"><span class=\"pre\">eq</span></code></a>(other[,&nbsp;level,&nbsp;fill_value,&nbsp;axis])</p></td>\n",
    "<td><p>Return Equal to of series and other, element-wise (binary operator <cite>eq</cite>).</p></td>\n",
    "</tr>\n",
    "<tr class=\"row-even\"><td><p><a class=\"reference internal\" href=\"pandas.Series.equals.html#pandas.Series.equals\" title=\"pandas.Series.equals\"><code class=\"xref py py-obj docutils literal notranslate\"><span class=\"pre\">equals</span></code></a>(other)</p></td>\n",
    "<td><p>Test whether two objects contain the same elements.</p></td>\n",
    "</tr>\n",
    "<tr class=\"row-odd\"><td><p><a class=\"reference internal\" href=\"pandas.Series.ewm.html#pandas.Series.ewm\" title=\"pandas.Series.ewm\"><code class=\"xref py py-obj docutils literal notranslate\"><span class=\"pre\">ewm</span></code></a>([com,&nbsp;span,&nbsp;halflife,&nbsp;alpha,&nbsp;...])</p></td>\n",
    "<td><p>Provide exponentially weighted (EW) calculations.</p></td>\n",
    "</tr>\n",
    "<tr class=\"row-even\"><td><p><a class=\"reference internal\" href=\"pandas.Series.expanding.html#pandas.Series.expanding\" title=\"pandas.Series.expanding\"><code class=\"xref py py-obj docutils literal notranslate\"><span class=\"pre\">expanding</span></code></a>([min_periods,&nbsp;center,&nbsp;axis,&nbsp;method])</p></td>\n",
    "<td><p>Provide expanding window calculations.</p></td>\n",
    "</tr>\n",
    "<tr class=\"row-odd\"><td><p><a class=\"reference internal\" href=\"pandas.Series.explode.html#pandas.Series.explode\" title=\"pandas.Series.explode\"><code class=\"xref py py-obj docutils literal notranslate\"><span class=\"pre\">explode</span></code></a>([ignore_index])</p></td>\n",
    "<td><p>Transform each element of a list-like to a row.</p></td>\n",
    "</tr>\n",
    "<tr class=\"row-even\"><td><p><a class=\"reference internal\" href=\"pandas.Series.factorize.html#pandas.Series.factorize\" title=\"pandas.Series.factorize\"><code class=\"xref py py-obj docutils literal notranslate\"><span class=\"pre\">factorize</span></code></a>([sort,&nbsp;na_sentinel,&nbsp;use_na_sentinel])</p></td>\n",
    "<td><p>Encode the object as an enumerated type or categorical variable.</p></td>\n",
    "</tr>\n",
    "<tr class=\"row-odd\"><td><p><a class=\"reference internal\" href=\"pandas.Series.ffill.html#pandas.Series.ffill\" title=\"pandas.Series.ffill\"><code class=\"xref py py-obj docutils literal notranslate\"><span class=\"pre\">ffill</span></code></a>([axis,&nbsp;inplace,&nbsp;limit,&nbsp;downcast])</p></td>\n",
    "<td><p>Synonym for <a class=\"reference internal\" href=\"pandas.DataFrame.fillna.html#pandas.DataFrame.fillna\" title=\"pandas.DataFrame.fillna\"><code class=\"xref py py-meth docutils literal notranslate\"><span class=\"pre\">DataFrame.fillna()</span></code></a> with <code class=\"docutils literal notranslate\"><span class=\"pre\">method='ffill'</span></code>.</p></td>\n",
    "</tr>\n",
    "<tr class=\"row-even\"><td><p><a class=\"reference internal\" href=\"pandas.Series.fillna.html#pandas.Series.fillna\" title=\"pandas.Series.fillna\"><code class=\"xref py py-obj docutils literal notranslate\"><span class=\"pre\">fillna</span></code></a>([value,&nbsp;method,&nbsp;axis,&nbsp;inplace,&nbsp;...])</p></td>\n",
    "<td><p>Fill NA/NaN values using the specified method.</p></td>\n",
    "</tr>\n",
    "<tr class=\"row-odd\"><td><p><a class=\"reference internal\" href=\"pandas.Series.filter.html#pandas.Series.filter\" title=\"pandas.Series.filter\"><code class=\"xref py py-obj docutils literal notranslate\"><span class=\"pre\">filter</span></code></a>([items,&nbsp;like,&nbsp;regex,&nbsp;axis])</p></td>\n",
    "<td><p>Subset the dataframe rows or columns according to the specified index labels.</p></td>\n",
    "</tr>\n",
    "<tr class=\"row-even\"><td><p><a class=\"reference internal\" href=\"pandas.Series.first.html#pandas.Series.first\" title=\"pandas.Series.first\"><code class=\"xref py py-obj docutils literal notranslate\"><span class=\"pre\">first</span></code></a>(offset)</p></td>\n",
    "<td><p>Select initial periods of time series data based on a date offset.</p></td>\n",
    "</tr>\n",
    "<tr class=\"row-odd\"><td><p><a class=\"reference internal\" href=\"pandas.Series.first_valid_index.html#pandas.Series.first_valid_index\" title=\"pandas.Series.first_valid_index\"><code class=\"xref py py-obj docutils literal notranslate\"><span class=\"pre\">first_valid_index</span></code></a>()</p></td>\n",
    "<td><p>Return index for first non-NA value or None, if no non-NA value is found.</p></td>\n",
    "</tr>\n",
    "<tr class=\"row-even\"><td><p><a class=\"reference internal\" href=\"pandas.Series.floordiv.html#pandas.Series.floordiv\" title=\"pandas.Series.floordiv\"><code class=\"xref py py-obj docutils literal notranslate\"><span class=\"pre\">floordiv</span></code></a>(other[,&nbsp;level,&nbsp;fill_value,&nbsp;axis])</p></td>\n",
    "<td><p>Return Integer division of series and other, element-wise (binary operator <cite>floordiv</cite>).</p></td>\n",
    "</tr>\n",
    "<tr class=\"row-odd\"><td><p><a class=\"reference internal\" href=\"pandas.Series.ge.html#pandas.Series.ge\" title=\"pandas.Series.ge\"><code class=\"xref py py-obj docutils literal notranslate\"><span class=\"pre\">ge</span></code></a>(other[,&nbsp;level,&nbsp;fill_value,&nbsp;axis])</p></td>\n",
    "<td><p>Return Greater than or equal to of series and other, element-wise (binary operator <cite>ge</cite>).</p></td>\n",
    "</tr>\n",
    "<tr class=\"row-even\"><td><p><a class=\"reference internal\" href=\"pandas.Series.get.html#pandas.Series.get\" title=\"pandas.Series.get\"><code class=\"xref py py-obj docutils literal notranslate\"><span class=\"pre\">get</span></code></a>(key[,&nbsp;default])</p></td>\n",
    "<td><p>Get item from object for given key (ex: DataFrame column).</p></td>\n",
    "</tr>\n",
    "<tr class=\"row-odd\"><td><p><a class=\"reference internal\" href=\"pandas.Series.groupby.html#pandas.Series.groupby\" title=\"pandas.Series.groupby\"><code class=\"xref py py-obj docutils literal notranslate\"><span class=\"pre\">groupby</span></code></a>([by,&nbsp;axis,&nbsp;level,&nbsp;as_index,&nbsp;sort,&nbsp;...])</p></td>\n",
    "<td><p>Group Series using a mapper or by a Series of columns.</p></td>\n",
    "</tr>\n",
    "<tr class=\"row-even\"><td><p><a class=\"reference internal\" href=\"pandas.Series.gt.html#pandas.Series.gt\" title=\"pandas.Series.gt\"><code class=\"xref py py-obj docutils literal notranslate\"><span class=\"pre\">gt</span></code></a>(other[,&nbsp;level,&nbsp;fill_value,&nbsp;axis])</p></td>\n",
    "<td><p>Return Greater than of series and other, element-wise (binary operator <cite>gt</cite>).</p></td>\n",
    "</tr>\n",
    "<tr class=\"row-odd\"><td><p><a class=\"reference internal\" href=\"pandas.Series.head.html#pandas.Series.head\" title=\"pandas.Series.head\"><code class=\"xref py py-obj docutils literal notranslate\"><span class=\"pre\">head</span></code></a>([n])</p></td>\n",
    "<td><p>Return the first <cite>n</cite> rows.</p></td>\n",
    "</tr>\n",
    "<tr class=\"row-even\"><td><p><a class=\"reference internal\" href=\"pandas.Series.hist.html#pandas.Series.hist\" title=\"pandas.Series.hist\"><code class=\"xref py py-obj docutils literal notranslate\"><span class=\"pre\">hist</span></code></a>([by,&nbsp;ax,&nbsp;grid,&nbsp;xlabelsize,&nbsp;xrot,&nbsp;...])</p></td>\n",
    "<td><p>Draw histogram of the input series using matplotlib.</p></td>\n",
    "</tr>\n",
    "<tr class=\"row-odd\"><td><p><a class=\"reference internal\" href=\"pandas.Series.idxmax.html#pandas.Series.idxmax\" title=\"pandas.Series.idxmax\"><code class=\"xref py py-obj docutils literal notranslate\"><span class=\"pre\">idxmax</span></code></a>([axis,&nbsp;skipna])</p></td>\n",
    "<td><p>Return the row label of the maximum value.</p></td>\n",
    "</tr>\n",
    "<tr class=\"row-even\"><td><p><a class=\"reference internal\" href=\"pandas.Series.idxmin.html#pandas.Series.idxmin\" title=\"pandas.Series.idxmin\"><code class=\"xref py py-obj docutils literal notranslate\"><span class=\"pre\">idxmin</span></code></a>([axis,&nbsp;skipna])</p></td>\n",
    "<td><p>Return the row label of the minimum value.</p></td>\n",
    "</tr>\n",
    "<tr class=\"row-odd\"><td><p><a class=\"reference internal\" href=\"pandas.Series.infer_objects.html#pandas.Series.infer_objects\" title=\"pandas.Series.infer_objects\"><code class=\"xref py py-obj docutils literal notranslate\"><span class=\"pre\">infer_objects</span></code></a>()</p></td>\n",
    "<td><p>Attempt to infer better dtypes for object columns.</p></td>\n",
    "</tr>\n",
    "<tr class=\"row-even\"><td><p><a class=\"reference internal\" href=\"pandas.Series.info.html#pandas.Series.info\" title=\"pandas.Series.info\"><code class=\"xref py py-obj docutils literal notranslate\"><span class=\"pre\">info</span></code></a>([verbose,&nbsp;buf,&nbsp;max_cols,&nbsp;memory_usage,&nbsp;...])</p></td>\n",
    "<td><p>Print a concise summary of a Series.</p></td>\n",
    "</tr>\n",
    "<tr class=\"row-odd\"><td><p><a class=\"reference internal\" href=\"pandas.Series.interpolate.html#pandas.Series.interpolate\" title=\"pandas.Series.interpolate\"><code class=\"xref py py-obj docutils literal notranslate\"><span class=\"pre\">interpolate</span></code></a>([method,&nbsp;axis,&nbsp;limit,&nbsp;inplace,&nbsp;...])</p></td>\n",
    "<td><p>Fill NaN values using an interpolation method.</p></td>\n",
    "</tr>\n",
    "<tr class=\"row-even\"><td><p><a class=\"reference internal\" href=\"pandas.Series.isin.html#pandas.Series.isin\" title=\"pandas.Series.isin\"><code class=\"xref py py-obj docutils literal notranslate\"><span class=\"pre\">isin</span></code></a>(values)</p></td>\n",
    "<td><p>Whether elements in Series are contained in <cite>values</cite>.</p></td>\n",
    "</tr>\n",
    "<tr class=\"row-odd\"><td><p><a class=\"reference internal\" href=\"pandas.Series.isna.html#pandas.Series.isna\" title=\"pandas.Series.isna\"><code class=\"xref py py-obj docutils literal notranslate\"><span class=\"pre\">isna</span></code></a>()</p></td>\n",
    "<td><p>Detect missing values.</p></td>\n",
    "</tr>\n",
    "<tr class=\"row-even\"><td><p><a class=\"reference internal\" href=\"pandas.Series.isnull.html#pandas.Series.isnull\" title=\"pandas.Series.isnull\"><code class=\"xref py py-obj docutils literal notranslate\"><span class=\"pre\">isnull</span></code></a>()</p></td>\n",
    "<td><p>Series.isnull is an alias for Series.isna.</p></td>\n",
    "</tr>\n",
    "<tr class=\"row-odd\"><td><p><a class=\"reference internal\" href=\"pandas.Series.item.html#pandas.Series.item\" title=\"pandas.Series.item\"><code class=\"xref py py-obj docutils literal notranslate\"><span class=\"pre\">item</span></code></a>()</p></td>\n",
    "<td><p>Return the first element of the underlying data as a Python scalar.</p></td>\n",
    "</tr>\n",
    "<tr class=\"row-even\"><td><p><a class=\"reference internal\" href=\"pandas.Series.items.html#pandas.Series.items\" title=\"pandas.Series.items\"><code class=\"xref py py-obj docutils literal notranslate\"><span class=\"pre\">items</span></code></a>()</p></td>\n",
    "<td><p>Lazily iterate over (index, value) tuples.</p></td>\n",
    "</tr>\n",
    "<tr class=\"row-odd\"><td><p><a class=\"reference internal\" href=\"pandas.Series.iteritems.html#pandas.Series.iteritems\" title=\"pandas.Series.iteritems\"><code class=\"xref py py-obj docutils literal notranslate\"><span class=\"pre\">iteritems</span></code></a>()</p></td>\n",
    "<td><p>(DEPRECATED) Lazily iterate over (index, value) tuples.</p></td>\n",
    "</tr>\n",
    "<tr class=\"row-even\"><td><p><a class=\"reference internal\" href=\"pandas.Series.keys.html#pandas.Series.keys\" title=\"pandas.Series.keys\"><code class=\"xref py py-obj docutils literal notranslate\"><span class=\"pre\">keys</span></code></a>()</p></td>\n",
    "<td><p>Return alias for index.</p></td>\n",
    "</tr>\n",
    "<tr class=\"row-odd\"><td><p><a class=\"reference internal\" href=\"pandas.Series.kurt.html#pandas.Series.kurt\" title=\"pandas.Series.kurt\"><code class=\"xref py py-obj docutils literal notranslate\"><span class=\"pre\">kurt</span></code></a>([axis,&nbsp;skipna,&nbsp;level,&nbsp;numeric_only])</p></td>\n",
    "<td><p>Return unbiased kurtosis over requested axis.</p></td>\n",
    "</tr>\n",
    "<tr class=\"row-even\"><td><p><a class=\"reference internal\" href=\"pandas.Series.kurtosis.html#pandas.Series.kurtosis\" title=\"pandas.Series.kurtosis\"><code class=\"xref py py-obj docutils literal notranslate\"><span class=\"pre\">kurtosis</span></code></a>([axis,&nbsp;skipna,&nbsp;level,&nbsp;numeric_only])</p></td>\n",
    "<td><p>Return unbiased kurtosis over requested axis.</p></td>\n",
    "</tr>\n",
    "<tr class=\"row-odd\"><td><p><a class=\"reference internal\" href=\"pandas.Series.last.html#pandas.Series.last\" title=\"pandas.Series.last\"><code class=\"xref py py-obj docutils literal notranslate\"><span class=\"pre\">last</span></code></a>(offset)</p></td>\n",
    "<td><p>Select final periods of time series data based on a date offset.</p></td>\n",
    "</tr>\n",
    "<tr class=\"row-even\"><td><p><a class=\"reference internal\" href=\"pandas.Series.last_valid_index.html#pandas.Series.last_valid_index\" title=\"pandas.Series.last_valid_index\"><code class=\"xref py py-obj docutils literal notranslate\"><span class=\"pre\">last_valid_index</span></code></a>()</p></td>\n",
    "<td><p>Return index for last non-NA value or None, if no non-NA value is found.</p></td>\n",
    "</tr>\n",
    "<tr class=\"row-odd\"><td><p><a class=\"reference internal\" href=\"pandas.Series.le.html#pandas.Series.le\" title=\"pandas.Series.le\"><code class=\"xref py py-obj docutils literal notranslate\"><span class=\"pre\">le</span></code></a>(other[,&nbsp;level,&nbsp;fill_value,&nbsp;axis])</p></td>\n",
    "<td><p>Return Less than or equal to of series and other, element-wise (binary operator <cite>le</cite>).</p></td>\n",
    "</tr>\n",
    "<tr class=\"row-even\"><td><p><a class=\"reference internal\" href=\"pandas.Series.lt.html#pandas.Series.lt\" title=\"pandas.Series.lt\"><code class=\"xref py py-obj docutils literal notranslate\"><span class=\"pre\">lt</span></code></a>(other[,&nbsp;level,&nbsp;fill_value,&nbsp;axis])</p></td>\n",
    "<td><p>Return Less than of series and other, element-wise (binary operator <cite>lt</cite>).</p></td>\n",
    "</tr>\n",
    "<tr class=\"row-odd\"><td><p><a class=\"reference internal\" href=\"pandas.Series.mad.html#pandas.Series.mad\" title=\"pandas.Series.mad\"><code class=\"xref py py-obj docutils literal notranslate\"><span class=\"pre\">mad</span></code></a>([axis,&nbsp;skipna,&nbsp;level])</p></td>\n",
    "<td><p>(DEPRECATED) Return the mean absolute deviation of the values over the requested axis.</p></td>\n",
    "</tr>\n",
    "<tr class=\"row-even\"><td><p><a class=\"reference internal\" href=\"pandas.Series.map.html#pandas.Series.map\" title=\"pandas.Series.map\"><code class=\"xref py py-obj docutils literal notranslate\"><span class=\"pre\">map</span></code></a>(arg[,&nbsp;na_action])</p></td>\n",
    "<td><p>Map values of Series according to an input mapping or function.</p></td>\n",
    "</tr>\n",
    "<tr class=\"row-odd\"><td><p><a class=\"reference internal\" href=\"pandas.Series.mask.html#pandas.Series.mask\" title=\"pandas.Series.mask\"><code class=\"xref py py-obj docutils literal notranslate\"><span class=\"pre\">mask</span></code></a>(cond[,&nbsp;other,&nbsp;inplace,&nbsp;axis,&nbsp;level,&nbsp;...])</p></td>\n",
    "<td><p>Replace values where the condition is True.</p></td>\n",
    "</tr>\n",
    "<tr class=\"row-even\"><td><p><a class=\"reference internal\" href=\"pandas.Series.max.html#pandas.Series.max\" title=\"pandas.Series.max\"><code class=\"xref py py-obj docutils literal notranslate\"><span class=\"pre\">max</span></code></a>([axis,&nbsp;skipna,&nbsp;level,&nbsp;numeric_only])</p></td>\n",
    "<td><p>Return the maximum of the values over the requested axis.</p></td>\n",
    "</tr>\n",
    "<tr class=\"row-odd\"><td><p><a class=\"reference internal\" href=\"pandas.Series.mean.html#pandas.Series.mean\" title=\"pandas.Series.mean\"><code class=\"xref py py-obj docutils literal notranslate\"><span class=\"pre\">mean</span></code></a>([axis,&nbsp;skipna,&nbsp;level,&nbsp;numeric_only])</p></td>\n",
    "<td><p>Return the mean of the values over the requested axis.</p></td>\n",
    "</tr>\n",
    "<tr class=\"row-even\"><td><p><a class=\"reference internal\" href=\"pandas.Series.median.html#pandas.Series.median\" title=\"pandas.Series.median\"><code class=\"xref py py-obj docutils literal notranslate\"><span class=\"pre\">median</span></code></a>([axis,&nbsp;skipna,&nbsp;level,&nbsp;numeric_only])</p></td>\n",
    "<td><p>Return the median of the values over the requested axis.</p></td>\n",
    "</tr>\n",
    "<tr class=\"row-odd\"><td><p><a class=\"reference internal\" href=\"pandas.Series.memory_usage.html#pandas.Series.memory_usage\" title=\"pandas.Series.memory_usage\"><code class=\"xref py py-obj docutils literal notranslate\"><span class=\"pre\">memory_usage</span></code></a>([index,&nbsp;deep])</p></td>\n",
    "<td><p>Return the memory usage of the Series.</p></td>\n",
    "</tr>\n",
    "<tr class=\"row-even\"><td><p><a class=\"reference internal\" href=\"pandas.Series.min.html#pandas.Series.min\" title=\"pandas.Series.min\"><code class=\"xref py py-obj docutils literal notranslate\"><span class=\"pre\">min</span></code></a>([axis,&nbsp;skipna,&nbsp;level,&nbsp;numeric_only])</p></td>\n",
    "<td><p>Return the minimum of the values over the requested axis.</p></td>\n",
    "</tr>\n",
    "<tr class=\"row-odd\"><td><p><a class=\"reference internal\" href=\"pandas.Series.mod.html#pandas.Series.mod\" title=\"pandas.Series.mod\"><code class=\"xref py py-obj docutils literal notranslate\"><span class=\"pre\">mod</span></code></a>(other[,&nbsp;level,&nbsp;fill_value,&nbsp;axis])</p></td>\n",
    "<td><p>Return Modulo of series and other, element-wise (binary operator <cite>mod</cite>).</p></td>\n",
    "</tr>\n",
    "<tr class=\"row-even\"><td><p><a class=\"reference internal\" href=\"pandas.Series.mode.html#pandas.Series.mode\" title=\"pandas.Series.mode\"><code class=\"xref py py-obj docutils literal notranslate\"><span class=\"pre\">mode</span></code></a>([dropna])</p></td>\n",
    "<td><p>Return the mode(s) of the Series.</p></td>\n",
    "</tr>\n",
    "<tr class=\"row-odd\"><td><p><a class=\"reference internal\" href=\"pandas.Series.mul.html#pandas.Series.mul\" title=\"pandas.Series.mul\"><code class=\"xref py py-obj docutils literal notranslate\"><span class=\"pre\">mul</span></code></a>(other[,&nbsp;level,&nbsp;fill_value,&nbsp;axis])</p></td>\n",
    "<td><p>Return Multiplication of series and other, element-wise (binary operator <cite>mul</cite>).</p></td>\n",
    "</tr>\n",
    "<tr class=\"row-even\"><td><p><a class=\"reference internal\" href=\"pandas.Series.multiply.html#pandas.Series.multiply\" title=\"pandas.Series.multiply\"><code class=\"xref py py-obj docutils literal notranslate\"><span class=\"pre\">multiply</span></code></a>(other[,&nbsp;level,&nbsp;fill_value,&nbsp;axis])</p></td>\n",
    "<td><p>Return Multiplication of series and other, element-wise (binary operator <cite>mul</cite>).</p></td>\n",
    "</tr>\n",
    "<tr class=\"row-odd\"><td><p><a class=\"reference internal\" href=\"pandas.Series.ne.html#pandas.Series.ne\" title=\"pandas.Series.ne\"><code class=\"xref py py-obj docutils literal notranslate\"><span class=\"pre\">ne</span></code></a>(other[,&nbsp;level,&nbsp;fill_value,&nbsp;axis])</p></td>\n",
    "<td><p>Return Not equal to of series and other, element-wise (binary operator <cite>ne</cite>).</p></td>\n",
    "</tr>\n",
    "<tr class=\"row-even\"><td><p><a class=\"reference internal\" href=\"pandas.Series.nlargest.html#pandas.Series.nlargest\" title=\"pandas.Series.nlargest\"><code class=\"xref py py-obj docutils literal notranslate\"><span class=\"pre\">nlargest</span></code></a>([n,&nbsp;keep])</p></td>\n",
    "<td><p>Return the largest <cite>n</cite> elements.</p></td>\n",
    "</tr>\n",
    "<tr class=\"row-odd\"><td><p><a class=\"reference internal\" href=\"pandas.Series.notna.html#pandas.Series.notna\" title=\"pandas.Series.notna\"><code class=\"xref py py-obj docutils literal notranslate\"><span class=\"pre\">notna</span></code></a>()</p></td>\n",
    "<td><p>Detect existing (non-missing) values.</p></td>\n",
    "</tr>\n",
    "<tr class=\"row-even\"><td><p><a class=\"reference internal\" href=\"pandas.Series.notnull.html#pandas.Series.notnull\" title=\"pandas.Series.notnull\"><code class=\"xref py py-obj docutils literal notranslate\"><span class=\"pre\">notnull</span></code></a>()</p></td>\n",
    "<td><p>Series.notnull is an alias for Series.notna.</p></td>\n",
    "</tr>\n",
    "<tr class=\"row-odd\"><td><p><a class=\"reference internal\" href=\"pandas.Series.nsmallest.html#pandas.Series.nsmallest\" title=\"pandas.Series.nsmallest\"><code class=\"xref py py-obj docutils literal notranslate\"><span class=\"pre\">nsmallest</span></code></a>([n,&nbsp;keep])</p></td>\n",
    "<td><p>Return the smallest <cite>n</cite> elements.</p></td>\n",
    "</tr>\n",
    "<tr class=\"row-even\"><td><p><a class=\"reference internal\" href=\"pandas.Series.nunique.html#pandas.Series.nunique\" title=\"pandas.Series.nunique\"><code class=\"xref py py-obj docutils literal notranslate\"><span class=\"pre\">nunique</span></code></a>([dropna])</p></td>\n",
    "<td><p>Return number of unique elements in the object.</p></td>\n",
    "</tr>\n",
    "<tr class=\"row-odd\"><td><p><a class=\"reference internal\" href=\"pandas.Series.pad.html#pandas.Series.pad\" title=\"pandas.Series.pad\"><code class=\"xref py py-obj docutils literal notranslate\"><span class=\"pre\">pad</span></code></a>([axis,&nbsp;inplace,&nbsp;limit,&nbsp;downcast])</p></td>\n",
    "<td><p>Synonym for <a class=\"reference internal\" href=\"pandas.DataFrame.fillna.html#pandas.DataFrame.fillna\" title=\"pandas.DataFrame.fillna\"><code class=\"xref py py-meth docutils literal notranslate\"><span class=\"pre\">DataFrame.fillna()</span></code></a> with <code class=\"docutils literal notranslate\"><span class=\"pre\">method='ffill'</span></code>.</p></td>\n",
    "</tr>\n",
    "<tr class=\"row-even\"><td><p><a class=\"reference internal\" href=\"pandas.Series.pct_change.html#pandas.Series.pct_change\" title=\"pandas.Series.pct_change\"><code class=\"xref py py-obj docutils literal notranslate\"><span class=\"pre\">pct_change</span></code></a>([periods,&nbsp;fill_method,&nbsp;limit,&nbsp;freq])</p></td>\n",
    "<td><p>Percentage change between the current and a prior element.</p></td>\n",
    "</tr>\n",
    "<tr class=\"row-odd\"><td><p><a class=\"reference internal\" href=\"pandas.Series.pipe.html#pandas.Series.pipe\" title=\"pandas.Series.pipe\"><code class=\"xref py py-obj docutils literal notranslate\"><span class=\"pre\">pipe</span></code></a>(func,&nbsp;*args,&nbsp;**kwargs)</p></td>\n",
    "<td><p>Apply chainable functions that expect Series or DataFrames.</p></td>\n",
    "</tr>\n",
    "<tr class=\"row-even\"><td><p><a class=\"reference internal\" href=\"pandas.Series.plot.html#pandas.Series.plot\" title=\"pandas.Series.plot\"><code class=\"xref py py-obj docutils literal notranslate\"><span class=\"pre\">plot</span></code></a></p></td>\n",
    "<td><p>alias of <code class=\"xref py py-class docutils literal notranslate\"><span class=\"pre\">pandas.plotting._core.PlotAccessor</span></code></p></td>\n",
    "</tr>\n",
    "<tr class=\"row-odd\"><td><p><a class=\"reference internal\" href=\"pandas.Series.pop.html#pandas.Series.pop\" title=\"pandas.Series.pop\"><code class=\"xref py py-obj docutils literal notranslate\"><span class=\"pre\">pop</span></code></a>(item)</p></td>\n",
    "<td><p>Return item and drops from series.</p></td>\n",
    "</tr>\n",
    "<tr class=\"row-even\"><td><p><a class=\"reference internal\" href=\"pandas.Series.pow.html#pandas.Series.pow\" title=\"pandas.Series.pow\"><code class=\"xref py py-obj docutils literal notranslate\"><span class=\"pre\">pow</span></code></a>(other[,&nbsp;level,&nbsp;fill_value,&nbsp;axis])</p></td>\n",
    "<td><p>Return Exponential power of series and other, element-wise (binary operator <cite>pow</cite>).</p></td>\n",
    "</tr>\n",
    "<tr class=\"row-odd\"><td><p><a class=\"reference internal\" href=\"pandas.Series.prod.html#pandas.Series.prod\" title=\"pandas.Series.prod\"><code class=\"xref py py-obj docutils literal notranslate\"><span class=\"pre\">prod</span></code></a>([axis,&nbsp;skipna,&nbsp;level,&nbsp;numeric_only,&nbsp;...])</p></td>\n",
    "<td><p>Return the product of the values over the requested axis.</p></td>\n",
    "</tr>\n",
    "<tr class=\"row-even\"><td><p><a class=\"reference internal\" href=\"pandas.Series.product.html#pandas.Series.product\" title=\"pandas.Series.product\"><code class=\"xref py py-obj docutils literal notranslate\"><span class=\"pre\">product</span></code></a>([axis,&nbsp;skipna,&nbsp;level,&nbsp;numeric_only,&nbsp;...])</p></td>\n",
    "<td><p>Return the product of the values over the requested axis.</p></td>\n",
    "</tr>\n",
    "<tr class=\"row-odd\"><td><p><a class=\"reference internal\" href=\"pandas.Series.quantile.html#pandas.Series.quantile\" title=\"pandas.Series.quantile\"><code class=\"xref py py-obj docutils literal notranslate\"><span class=\"pre\">quantile</span></code></a>([q,&nbsp;interpolation])</p></td>\n",
    "<td><p>Return value at the given quantile.</p></td>\n",
    "</tr>\n",
    "<tr class=\"row-even\"><td><p><a class=\"reference internal\" href=\"pandas.Series.radd.html#pandas.Series.radd\" title=\"pandas.Series.radd\"><code class=\"xref py py-obj docutils literal notranslate\"><span class=\"pre\">radd</span></code></a>(other[,&nbsp;level,&nbsp;fill_value,&nbsp;axis])</p></td>\n",
    "<td><p>Return Addition of series and other, element-wise (binary operator <cite>radd</cite>).</p></td>\n",
    "</tr>\n",
    "<tr class=\"row-odd\"><td><p><a class=\"reference internal\" href=\"pandas.Series.rank.html#pandas.Series.rank\" title=\"pandas.Series.rank\"><code class=\"xref py py-obj docutils literal notranslate\"><span class=\"pre\">rank</span></code></a>([axis,&nbsp;method,&nbsp;numeric_only,&nbsp;...])</p></td>\n",
    "<td><p>Compute numerical data ranks (1 through n) along axis.</p></td>\n",
    "</tr>\n",
    "<tr class=\"row-even\"><td><p><a class=\"reference internal\" href=\"pandas.Series.ravel.html#pandas.Series.ravel\" title=\"pandas.Series.ravel\"><code class=\"xref py py-obj docutils literal notranslate\"><span class=\"pre\">ravel</span></code></a>([order])</p></td>\n",
    "<td><p>Return the flattened underlying data as an ndarray.</p></td>\n",
    "</tr>\n",
    "<tr class=\"row-odd\"><td><p><a class=\"reference internal\" href=\"pandas.Series.rdiv.html#pandas.Series.rdiv\" title=\"pandas.Series.rdiv\"><code class=\"xref py py-obj docutils literal notranslate\"><span class=\"pre\">rdiv</span></code></a>(other[,&nbsp;level,&nbsp;fill_value,&nbsp;axis])</p></td>\n",
    "<td><p>Return Floating division of series and other, element-wise (binary operator <cite>rtruediv</cite>).</p></td>\n",
    "</tr>\n",
    "<tr class=\"row-even\"><td><p><a class=\"reference internal\" href=\"pandas.Series.rdivmod.html#pandas.Series.rdivmod\" title=\"pandas.Series.rdivmod\"><code class=\"xref py py-obj docutils literal notranslate\"><span class=\"pre\">rdivmod</span></code></a>(other[,&nbsp;level,&nbsp;fill_value,&nbsp;axis])</p></td>\n",
    "<td><p>Return Integer division and modulo of series and other, element-wise (binary operator <cite>rdivmod</cite>).</p></td>\n",
    "</tr>\n",
    "<tr class=\"row-odd\"><td><p><a class=\"reference internal\" href=\"pandas.Series.reindex.html#pandas.Series.reindex\" title=\"pandas.Series.reindex\"><code class=\"xref py py-obj docutils literal notranslate\"><span class=\"pre\">reindex</span></code></a>(*args,&nbsp;**kwargs)</p></td>\n",
    "<td><p>Conform Series to new index with optional filling logic.</p></td>\n",
    "</tr>\n",
    "<tr class=\"row-even\"><td><p><a class=\"reference internal\" href=\"pandas.Series.reindex_like.html#pandas.Series.reindex_like\" title=\"pandas.Series.reindex_like\"><code class=\"xref py py-obj docutils literal notranslate\"><span class=\"pre\">reindex_like</span></code></a>(other[,&nbsp;method,&nbsp;copy,&nbsp;limit,&nbsp;...])</p></td>\n",
    "<td><p>Return an object with matching indices as other object.</p></td>\n",
    "</tr>\n",
    "<tr class=\"row-odd\"><td><p><a class=\"reference internal\" href=\"pandas.Series.rename.html#pandas.Series.rename\" title=\"pandas.Series.rename\"><code class=\"xref py py-obj docutils literal notranslate\"><span class=\"pre\">rename</span></code></a>([index,&nbsp;axis,&nbsp;copy,&nbsp;inplace,&nbsp;level,&nbsp;...])</p></td>\n",
    "<td><p>Alter Series index labels or name.</p></td>\n",
    "</tr>\n",
    "<tr class=\"row-even\"><td><p><a class=\"reference internal\" href=\"pandas.Series.rename_axis.html#pandas.Series.rename_axis\" title=\"pandas.Series.rename_axis\"><code class=\"xref py py-obj docutils literal notranslate\"><span class=\"pre\">rename_axis</span></code></a>([mapper,&nbsp;index,&nbsp;columns,&nbsp;axis,&nbsp;copy])</p></td>\n",
    "<td><p>Set the name of the axis for the index or columns.</p></td>\n",
    "</tr>\n",
    "<tr class=\"row-odd\"><td><p><a class=\"reference internal\" href=\"pandas.Series.reorder_levels.html#pandas.Series.reorder_levels\" title=\"pandas.Series.reorder_levels\"><code class=\"xref py py-obj docutils literal notranslate\"><span class=\"pre\">reorder_levels</span></code></a>(order)</p></td>\n",
    "<td><p>Rearrange index levels using input order.</p></td>\n",
    "</tr>\n",
    "<tr class=\"row-even\"><td><p><a class=\"reference internal\" href=\"pandas.Series.repeat.html#pandas.Series.repeat\" title=\"pandas.Series.repeat\"><code class=\"xref py py-obj docutils literal notranslate\"><span class=\"pre\">repeat</span></code></a>(repeats[,&nbsp;axis])</p></td>\n",
    "<td><p>Repeat elements of a Series.</p></td>\n",
    "</tr>\n",
    "<tr class=\"row-odd\"><td><p><a class=\"reference internal\" href=\"pandas.Series.replace.html#pandas.Series.replace\" title=\"pandas.Series.replace\"><code class=\"xref py py-obj docutils literal notranslate\"><span class=\"pre\">replace</span></code></a>([to_replace,&nbsp;value,&nbsp;inplace,&nbsp;limit,&nbsp;...])</p></td>\n",
    "<td><p>Replace values given in <cite>to_replace</cite> with <cite>value</cite>.</p></td>\n",
    "</tr>\n",
    "<tr class=\"row-even\"><td><p><a class=\"reference internal\" href=\"pandas.Series.resample.html#pandas.Series.resample\" title=\"pandas.Series.resample\"><code class=\"xref py py-obj docutils literal notranslate\"><span class=\"pre\">resample</span></code></a>(rule[,&nbsp;axis,&nbsp;closed,&nbsp;label,&nbsp;...])</p></td>\n",
    "<td><p>Resample time-series data.</p></td>\n",
    "</tr>\n",
    "<tr class=\"row-odd\"><td><p><a class=\"reference internal\" href=\"pandas.Series.reset_index.html#pandas.Series.reset_index\" title=\"pandas.Series.reset_index\"><code class=\"xref py py-obj docutils literal notranslate\"><span class=\"pre\">reset_index</span></code></a>([level,&nbsp;drop,&nbsp;name,&nbsp;inplace,&nbsp;...])</p></td>\n",
    "<td><p>Generate a new DataFrame or Series with the index reset.</p></td>\n",
    "</tr>\n",
    "<tr class=\"row-even\"><td><p><a class=\"reference internal\" href=\"pandas.Series.rfloordiv.html#pandas.Series.rfloordiv\" title=\"pandas.Series.rfloordiv\"><code class=\"xref py py-obj docutils literal notranslate\"><span class=\"pre\">rfloordiv</span></code></a>(other[,&nbsp;level,&nbsp;fill_value,&nbsp;axis])</p></td>\n",
    "<td><p>Return Integer division of series and other, element-wise (binary operator <cite>rfloordiv</cite>).</p></td>\n",
    "</tr>\n",
    "<tr class=\"row-odd\"><td><p><a class=\"reference internal\" href=\"pandas.Series.rmod.html#pandas.Series.rmod\" title=\"pandas.Series.rmod\"><code class=\"xref py py-obj docutils literal notranslate\"><span class=\"pre\">rmod</span></code></a>(other[,&nbsp;level,&nbsp;fill_value,&nbsp;axis])</p></td>\n",
    "<td><p>Return Modulo of series and other, element-wise (binary operator <cite>rmod</cite>).</p></td>\n",
    "</tr>\n",
    "<tr class=\"row-even\"><td><p><a class=\"reference internal\" href=\"pandas.Series.rmul.html#pandas.Series.rmul\" title=\"pandas.Series.rmul\"><code class=\"xref py py-obj docutils literal notranslate\"><span class=\"pre\">rmul</span></code></a>(other[,&nbsp;level,&nbsp;fill_value,&nbsp;axis])</p></td>\n",
    "<td><p>Return Multiplication of series and other, element-wise (binary operator <cite>rmul</cite>).</p></td>\n",
    "</tr>\n",
    "<tr class=\"row-odd\"><td><p><a class=\"reference internal\" href=\"pandas.Series.rolling.html#pandas.Series.rolling\" title=\"pandas.Series.rolling\"><code class=\"xref py py-obj docutils literal notranslate\"><span class=\"pre\">rolling</span></code></a>(window[,&nbsp;min_periods,&nbsp;center,&nbsp;...])</p></td>\n",
    "<td><p>Provide rolling window calculations.</p></td>\n",
    "</tr>\n",
    "<tr class=\"row-even\"><td><p><a class=\"reference internal\" href=\"pandas.Series.round.html#pandas.Series.round\" title=\"pandas.Series.round\"><code class=\"xref py py-obj docutils literal notranslate\"><span class=\"pre\">round</span></code></a>([decimals])</p></td>\n",
    "<td><p>Round each value in a Series to the given number of decimals.</p></td>\n",
    "</tr>\n",
    "<tr class=\"row-odd\"><td><p><a class=\"reference internal\" href=\"pandas.Series.rpow.html#pandas.Series.rpow\" title=\"pandas.Series.rpow\"><code class=\"xref py py-obj docutils literal notranslate\"><span class=\"pre\">rpow</span></code></a>(other[,&nbsp;level,&nbsp;fill_value,&nbsp;axis])</p></td>\n",
    "<td><p>Return Exponential power of series and other, element-wise (binary operator <cite>rpow</cite>).</p></td>\n",
    "</tr>\n",
    "<tr class=\"row-even\"><td><p><a class=\"reference internal\" href=\"pandas.Series.rsub.html#pandas.Series.rsub\" title=\"pandas.Series.rsub\"><code class=\"xref py py-obj docutils literal notranslate\"><span class=\"pre\">rsub</span></code></a>(other[,&nbsp;level,&nbsp;fill_value,&nbsp;axis])</p></td>\n",
    "<td><p>Return Subtraction of series and other, element-wise (binary operator <cite>rsub</cite>).</p></td>\n",
    "</tr>\n",
    "<tr class=\"row-odd\"><td><p><a class=\"reference internal\" href=\"pandas.Series.rtruediv.html#pandas.Series.rtruediv\" title=\"pandas.Series.rtruediv\"><code class=\"xref py py-obj docutils literal notranslate\"><span class=\"pre\">rtruediv</span></code></a>(other[,&nbsp;level,&nbsp;fill_value,&nbsp;axis])</p></td>\n",
    "<td><p>Return Floating division of series and other, element-wise (binary operator <cite>rtruediv</cite>).</p></td>\n",
    "</tr>\n",
    "<tr class=\"row-even\"><td><p><a class=\"reference internal\" href=\"pandas.Series.sample.html#pandas.Series.sample\" title=\"pandas.Series.sample\"><code class=\"xref py py-obj docutils literal notranslate\"><span class=\"pre\">sample</span></code></a>([n,&nbsp;frac,&nbsp;replace,&nbsp;weights,&nbsp;...])</p></td>\n",
    "<td><p>Return a random sample of items from an axis of object.</p></td>\n",
    "</tr>\n",
    "<tr class=\"row-odd\"><td><p><a class=\"reference internal\" href=\"pandas.Series.searchsorted.html#pandas.Series.searchsorted\" title=\"pandas.Series.searchsorted\"><code class=\"xref py py-obj docutils literal notranslate\"><span class=\"pre\">searchsorted</span></code></a>(value[,&nbsp;side,&nbsp;sorter])</p></td>\n",
    "<td><p>Find indices where elements should be inserted to maintain order.</p></td>\n",
    "</tr>\n",
    "<tr class=\"row-even\"><td><p><a class=\"reference internal\" href=\"pandas.Series.sem.html#pandas.Series.sem\" title=\"pandas.Series.sem\"><code class=\"xref py py-obj docutils literal notranslate\"><span class=\"pre\">sem</span></code></a>([axis,&nbsp;skipna,&nbsp;level,&nbsp;ddof,&nbsp;numeric_only])</p></td>\n",
    "<td><p>Return unbiased standard error of the mean over requested axis.</p></td>\n",
    "</tr>\n",
    "<tr class=\"row-odd\"><td><p><a class=\"reference internal\" href=\"pandas.Series.set_axis.html#pandas.Series.set_axis\" title=\"pandas.Series.set_axis\"><code class=\"xref py py-obj docutils literal notranslate\"><span class=\"pre\">set_axis</span></code></a>(labels[,&nbsp;axis,&nbsp;inplace,&nbsp;copy])</p></td>\n",
    "<td><p>Assign desired index to given axis.</p></td>\n",
    "</tr>\n",
    "<tr class=\"row-even\"><td><p><a class=\"reference internal\" href=\"pandas.Series.set_flags.html#pandas.Series.set_flags\" title=\"pandas.Series.set_flags\"><code class=\"xref py py-obj docutils literal notranslate\"><span class=\"pre\">set_flags</span></code></a>(*[,&nbsp;copy,&nbsp;allows_duplicate_labels])</p></td>\n",
    "<td><p>Return a new object with updated flags.</p></td>\n",
    "</tr>\n",
    "<tr class=\"row-odd\"><td><p><a class=\"reference internal\" href=\"pandas.Series.shift.html#pandas.Series.shift\" title=\"pandas.Series.shift\"><code class=\"xref py py-obj docutils literal notranslate\"><span class=\"pre\">shift</span></code></a>([periods,&nbsp;freq,&nbsp;axis,&nbsp;fill_value])</p></td>\n",
    "<td><p>Shift index by desired number of periods with an optional time <cite>freq</cite>.</p></td>\n",
    "</tr>\n",
    "<tr class=\"row-even\"><td><p><a class=\"reference internal\" href=\"pandas.Series.skew.html#pandas.Series.skew\" title=\"pandas.Series.skew\"><code class=\"xref py py-obj docutils literal notranslate\"><span class=\"pre\">skew</span></code></a>([axis,&nbsp;skipna,&nbsp;level,&nbsp;numeric_only])</p></td>\n",
    "<td><p>Return unbiased skew over requested axis.</p></td>\n",
    "</tr>\n",
    "<tr class=\"row-odd\"><td><p><a class=\"reference internal\" href=\"pandas.Series.slice_shift.html#pandas.Series.slice_shift\" title=\"pandas.Series.slice_shift\"><code class=\"xref py py-obj docutils literal notranslate\"><span class=\"pre\">slice_shift</span></code></a>([periods,&nbsp;axis])</p></td>\n",
    "<td><p>(DEPRECATED) Equivalent to <cite>shift</cite> without copying data.</p></td>\n",
    "</tr>\n",
    "<tr class=\"row-even\"><td><p><a class=\"reference internal\" href=\"pandas.Series.sort_index.html#pandas.Series.sort_index\" title=\"pandas.Series.sort_index\"><code class=\"xref py py-obj docutils literal notranslate\"><span class=\"pre\">sort_index</span></code></a>([axis,&nbsp;level,&nbsp;ascending,&nbsp;...])</p></td>\n",
    "<td><p>Sort Series by index labels.</p></td>\n",
    "</tr>\n",
    "<tr class=\"row-odd\"><td><p><a class=\"reference internal\" href=\"pandas.Series.sort_values.html#pandas.Series.sort_values\" title=\"pandas.Series.sort_values\"><code class=\"xref py py-obj docutils literal notranslate\"><span class=\"pre\">sort_values</span></code></a>([axis,&nbsp;ascending,&nbsp;inplace,&nbsp;...])</p></td>\n",
    "<td><p>Sort by the values.</p></td>\n",
    "</tr>\n",
    "<tr class=\"row-even\"><td><p><a class=\"reference internal\" href=\"pandas.Series.sparse.html#pandas.Series.sparse\" title=\"pandas.Series.sparse\"><code class=\"xref py py-obj docutils literal notranslate\"><span class=\"pre\">sparse</span></code></a></p></td>\n",
    "<td><p>alias of <code class=\"xref py py-class docutils literal notranslate\"><span class=\"pre\">pandas.core.arrays.sparse.accessor.SparseAccessor</span></code></p></td>\n",
    "</tr>\n",
    "<tr class=\"row-odd\"><td><p><a class=\"reference internal\" href=\"pandas.Series.squeeze.html#pandas.Series.squeeze\" title=\"pandas.Series.squeeze\"><code class=\"xref py py-obj docutils literal notranslate\"><span class=\"pre\">squeeze</span></code></a>([axis])</p></td>\n",
    "<td><p>Squeeze 1 dimensional axis objects into scalars.</p></td>\n",
    "</tr>\n",
    "<tr class=\"row-even\"><td><p><a class=\"reference internal\" href=\"pandas.Series.std.html#pandas.Series.std\" title=\"pandas.Series.std\"><code class=\"xref py py-obj docutils literal notranslate\"><span class=\"pre\">std</span></code></a>([axis,&nbsp;skipna,&nbsp;level,&nbsp;ddof,&nbsp;numeric_only])</p></td>\n",
    "<td><p>Return sample standard deviation over requested axis.</p></td>\n",
    "</tr>\n",
    "<tr class=\"row-odd\"><td><p><a class=\"reference internal\" href=\"pandas.Series.str.html#pandas.Series.str\" title=\"pandas.Series.str\"><code class=\"xref py py-obj docutils literal notranslate\"><span class=\"pre\">str</span></code></a></p></td>\n",
    "<td><p>alias of <code class=\"xref py py-class docutils literal notranslate\"><span class=\"pre\">pandas.core.strings.accessor.StringMethods</span></code></p></td>\n",
    "</tr>\n",
    "<tr class=\"row-even\"><td><p><a class=\"reference internal\" href=\"pandas.Series.sub.html#pandas.Series.sub\" title=\"pandas.Series.sub\"><code class=\"xref py py-obj docutils literal notranslate\"><span class=\"pre\">sub</span></code></a>(other[,&nbsp;level,&nbsp;fill_value,&nbsp;axis])</p></td>\n",
    "<td><p>Return Subtraction of series and other, element-wise (binary operator <cite>sub</cite>).</p></td>\n",
    "</tr>\n",
    "<tr class=\"row-odd\"><td><p><a class=\"reference internal\" href=\"pandas.Series.subtract.html#pandas.Series.subtract\" title=\"pandas.Series.subtract\"><code class=\"xref py py-obj docutils literal notranslate\"><span class=\"pre\">subtract</span></code></a>(other[,&nbsp;level,&nbsp;fill_value,&nbsp;axis])</p></td>\n",
    "<td><p>Return Subtraction of series and other, element-wise (binary operator <cite>sub</cite>).</p></td>\n",
    "</tr>\n",
    "<tr class=\"row-even\"><td><p><a class=\"reference internal\" href=\"pandas.Series.sum.html#pandas.Series.sum\" title=\"pandas.Series.sum\"><code class=\"xref py py-obj docutils literal notranslate\"><span class=\"pre\">sum</span></code></a>([axis,&nbsp;skipna,&nbsp;level,&nbsp;numeric_only,&nbsp;...])</p></td>\n",
    "<td><p>Return the sum of the values over the requested axis.</p></td>\n",
    "</tr>\n",
    "<tr class=\"row-odd\"><td><p><a class=\"reference internal\" href=\"pandas.Series.swapaxes.html#pandas.Series.swapaxes\" title=\"pandas.Series.swapaxes\"><code class=\"xref py py-obj docutils literal notranslate\"><span class=\"pre\">swapaxes</span></code></a>(axis1,&nbsp;axis2[,&nbsp;copy])</p></td>\n",
    "<td><p>Interchange axes and swap values axes appropriately.</p></td>\n",
    "</tr>\n",
    "<tr class=\"row-even\"><td><p><a class=\"reference internal\" href=\"pandas.Series.swaplevel.html#pandas.Series.swaplevel\" title=\"pandas.Series.swaplevel\"><code class=\"xref py py-obj docutils literal notranslate\"><span class=\"pre\">swaplevel</span></code></a>([i,&nbsp;j,&nbsp;copy])</p></td>\n",
    "<td><p>Swap levels i and j in a <a class=\"reference internal\" href=\"pandas.MultiIndex.html#pandas.MultiIndex\" title=\"pandas.MultiIndex\"><code class=\"xref py py-class docutils literal notranslate\"><span class=\"pre\">MultiIndex</span></code></a>.</p></td>\n",
    "</tr>\n",
    "<tr class=\"row-odd\"><td><p><a class=\"reference internal\" href=\"pandas.Series.tail.html#pandas.Series.tail\" title=\"pandas.Series.tail\"><code class=\"xref py py-obj docutils literal notranslate\"><span class=\"pre\">tail</span></code></a>([n])</p></td>\n",
    "<td><p>Return the last <cite>n</cite> rows.</p></td>\n",
    "</tr>\n",
    "<tr class=\"row-even\"><td><p><a class=\"reference internal\" href=\"pandas.Series.take.html#pandas.Series.take\" title=\"pandas.Series.take\"><code class=\"xref py py-obj docutils literal notranslate\"><span class=\"pre\">take</span></code></a>(indices[,&nbsp;axis,&nbsp;is_copy])</p></td>\n",
    "<td><p>Return the elements in the given <em>positional</em> indices along an axis.</p></td>\n",
    "</tr>\n",
    "<tr class=\"row-odd\"><td><p><a class=\"reference internal\" href=\"pandas.Series.to_clipboard.html#pandas.Series.to_clipboard\" title=\"pandas.Series.to_clipboard\"><code class=\"xref py py-obj docutils literal notranslate\"><span class=\"pre\">to_clipboard</span></code></a>([excel,&nbsp;sep])</p></td>\n",
    "<td><p>Copy object to the system clipboard.</p></td>\n",
    "</tr>\n",
    "<tr class=\"row-even\"><td><p><a class=\"reference internal\" href=\"pandas.Series.to_csv.html#pandas.Series.to_csv\" title=\"pandas.Series.to_csv\"><code class=\"xref py py-obj docutils literal notranslate\"><span class=\"pre\">to_csv</span></code></a>([path_or_buf,&nbsp;sep,&nbsp;na_rep,&nbsp;...])</p></td>\n",
    "<td><p>Write object to a comma-separated values (csv) file.</p></td>\n",
    "</tr>\n",
    "<tr class=\"row-odd\"><td><p><a class=\"reference internal\" href=\"pandas.Series.to_dict.html#pandas.Series.to_dict\" title=\"pandas.Series.to_dict\"><code class=\"xref py py-obj docutils literal notranslate\"><span class=\"pre\">to_dict</span></code></a>([into])</p></td>\n",
    "<td><p>Convert Series to {label -&gt; value} dict or dict-like object.</p></td>\n",
    "</tr>\n",
    "<tr class=\"row-even\"><td><p><a class=\"reference internal\" href=\"pandas.Series.to_excel.html#pandas.Series.to_excel\" title=\"pandas.Series.to_excel\"><code class=\"xref py py-obj docutils literal notranslate\"><span class=\"pre\">to_excel</span></code></a>(excel_writer[,&nbsp;sheet_name,&nbsp;na_rep,&nbsp;...])</p></td>\n",
    "<td><p>Write object to an Excel sheet.</p></td>\n",
    "</tr>\n",
    "<tr class=\"row-odd\"><td><p><a class=\"reference internal\" href=\"pandas.Series.to_frame.html#pandas.Series.to_frame\" title=\"pandas.Series.to_frame\"><code class=\"xref py py-obj docutils literal notranslate\"><span class=\"pre\">to_frame</span></code></a>([name])</p></td>\n",
    "<td><p>Convert Series to DataFrame.</p></td>\n",
    "</tr>\n",
    "<tr class=\"row-even\"><td><p><a class=\"reference internal\" href=\"pandas.Series.to_hdf.html#pandas.Series.to_hdf\" title=\"pandas.Series.to_hdf\"><code class=\"xref py py-obj docutils literal notranslate\"><span class=\"pre\">to_hdf</span></code></a>(path_or_buf,&nbsp;key[,&nbsp;mode,&nbsp;complevel,&nbsp;...])</p></td>\n",
    "<td><p>Write the contained data to an HDF5 file using HDFStore.</p></td>\n",
    "</tr>\n",
    "<tr class=\"row-odd\"><td><p><a class=\"reference internal\" href=\"pandas.Series.to_json.html#pandas.Series.to_json\" title=\"pandas.Series.to_json\"><code class=\"xref py py-obj docutils literal notranslate\"><span class=\"pre\">to_json</span></code></a>([path_or_buf,&nbsp;orient,&nbsp;date_format,&nbsp;...])</p></td>\n",
    "<td><p>Convert the object to a JSON string.</p></td>\n",
    "</tr>\n",
    "<tr class=\"row-even\"><td><p><a class=\"reference internal\" href=\"pandas.Series.to_latex.html#pandas.Series.to_latex\" title=\"pandas.Series.to_latex\"><code class=\"xref py py-obj docutils literal notranslate\"><span class=\"pre\">to_latex</span></code></a>([buf,&nbsp;columns,&nbsp;col_space,&nbsp;header,&nbsp;...])</p></td>\n",
    "<td><p>Render object to a LaTeX tabular, longtable, or nested table.</p></td>\n",
    "</tr>\n",
    "<tr class=\"row-odd\"><td><p><a class=\"reference internal\" href=\"pandas.Series.to_list.html#pandas.Series.to_list\" title=\"pandas.Series.to_list\"><code class=\"xref py py-obj docutils literal notranslate\"><span class=\"pre\">to_list</span></code></a>()</p></td>\n",
    "<td><p>Return a list of the values.</p></td>\n",
    "</tr>\n",
    "<tr class=\"row-even\"><td><p><a class=\"reference internal\" href=\"pandas.Series.to_markdown.html#pandas.Series.to_markdown\" title=\"pandas.Series.to_markdown\"><code class=\"xref py py-obj docutils literal notranslate\"><span class=\"pre\">to_markdown</span></code></a>([buf,&nbsp;mode,&nbsp;index,&nbsp;storage_options])</p></td>\n",
    "<td><p>Print Series in Markdown-friendly format.</p></td>\n",
    "</tr>\n",
    "<tr class=\"row-odd\"><td><p><a class=\"reference internal\" href=\"pandas.Series.to_numpy.html#pandas.Series.to_numpy\" title=\"pandas.Series.to_numpy\"><code class=\"xref py py-obj docutils literal notranslate\"><span class=\"pre\">to_numpy</span></code></a>([dtype,&nbsp;copy,&nbsp;na_value])</p></td>\n",
    "<td><p>A NumPy ndarray representing the values in this Series or Index.</p></td>\n",
    "</tr>\n",
    "<tr class=\"row-even\"><td><p><a class=\"reference internal\" href=\"pandas.Series.to_period.html#pandas.Series.to_period\" title=\"pandas.Series.to_period\"><code class=\"xref py py-obj docutils literal notranslate\"><span class=\"pre\">to_period</span></code></a>([freq,&nbsp;copy])</p></td>\n",
    "<td><p>Convert Series from DatetimeIndex to PeriodIndex.</p></td>\n",
    "</tr>\n",
    "<tr class=\"row-odd\"><td><p><a class=\"reference internal\" href=\"pandas.Series.to_pickle.html#pandas.Series.to_pickle\" title=\"pandas.Series.to_pickle\"><code class=\"xref py py-obj docutils literal notranslate\"><span class=\"pre\">to_pickle</span></code></a>(path[,&nbsp;compression,&nbsp;protocol,&nbsp;...])</p></td>\n",
    "<td><p>Pickle (serialize) object to file.</p></td>\n",
    "</tr>\n",
    "<tr class=\"row-even\"><td><p><a class=\"reference internal\" href=\"pandas.Series.to_sql.html#pandas.Series.to_sql\" title=\"pandas.Series.to_sql\"><code class=\"xref py py-obj docutils literal notranslate\"><span class=\"pre\">to_sql</span></code></a>(name,&nbsp;con[,&nbsp;schema,&nbsp;if_exists,&nbsp;...])</p></td>\n",
    "<td><p>Write records stored in a DataFrame to a SQL database.</p></td>\n",
    "</tr>\n",
    "<tr class=\"row-odd\"><td><p><a class=\"reference internal\" href=\"pandas.Series.to_string.html#pandas.Series.to_string\" title=\"pandas.Series.to_string\"><code class=\"xref py py-obj docutils literal notranslate\"><span class=\"pre\">to_string</span></code></a>([buf,&nbsp;na_rep,&nbsp;float_format,&nbsp;...])</p></td>\n",
    "<td><p>Render a string representation of the Series.</p></td>\n",
    "</tr>\n",
    "<tr class=\"row-even\"><td><p><a class=\"reference internal\" href=\"pandas.Series.to_timestamp.html#pandas.Series.to_timestamp\" title=\"pandas.Series.to_timestamp\"><code class=\"xref py py-obj docutils literal notranslate\"><span class=\"pre\">to_timestamp</span></code></a>([freq,&nbsp;how,&nbsp;copy])</p></td>\n",
    "<td><p>Cast to DatetimeIndex of Timestamps, at <em>beginning</em> of period.</p></td>\n",
    "</tr>\n",
    "<tr class=\"row-odd\"><td><p><a class=\"reference internal\" href=\"pandas.Series.to_xarray.html#pandas.Series.to_xarray\" title=\"pandas.Series.to_xarray\"><code class=\"xref py py-obj docutils literal notranslate\"><span class=\"pre\">to_xarray</span></code></a>()</p></td>\n",
    "<td><p>Return an xarray object from the pandas object.</p></td>\n",
    "</tr>\n",
    "<tr class=\"row-even\"><td><p><a class=\"reference internal\" href=\"pandas.Series.tolist.html#pandas.Series.tolist\" title=\"pandas.Series.tolist\"><code class=\"xref py py-obj docutils literal notranslate\"><span class=\"pre\">tolist</span></code></a>()</p></td>\n",
    "<td><p>Return a list of the values.</p></td>\n",
    "</tr>\n",
    "<tr class=\"row-odd\"><td><p><a class=\"reference internal\" href=\"pandas.Series.transform.html#pandas.Series.transform\" title=\"pandas.Series.transform\"><code class=\"xref py py-obj docutils literal notranslate\"><span class=\"pre\">transform</span></code></a>(func[,&nbsp;axis])</p></td>\n",
    "<td><p>Call <code class=\"docutils literal notranslate\"><span class=\"pre\">func</span></code> on self producing a Series with the same axis shape as self.</p></td>\n",
    "</tr>\n",
    "<tr class=\"row-even\"><td><p><a class=\"reference internal\" href=\"pandas.Series.transpose.html#pandas.Series.transpose\" title=\"pandas.Series.transpose\"><code class=\"xref py py-obj docutils literal notranslate\"><span class=\"pre\">transpose</span></code></a>(*args,&nbsp;**kwargs)</p></td>\n",
    "<td><p>Return the transpose, which is by definition self.</p></td>\n",
    "</tr>\n",
    "<tr class=\"row-odd\"><td><p><a class=\"reference internal\" href=\"pandas.Series.truediv.html#pandas.Series.truediv\" title=\"pandas.Series.truediv\"><code class=\"xref py py-obj docutils literal notranslate\"><span class=\"pre\">truediv</span></code></a>(other[,&nbsp;level,&nbsp;fill_value,&nbsp;axis])</p></td>\n",
    "<td><p>Return Floating division of series and other, element-wise (binary operator <cite>truediv</cite>).</p></td>\n",
    "</tr>\n",
    "<tr class=\"row-even\"><td><p><a class=\"reference internal\" href=\"pandas.Series.truncate.html#pandas.Series.truncate\" title=\"pandas.Series.truncate\"><code class=\"xref py py-obj docutils literal notranslate\"><span class=\"pre\">truncate</span></code></a>([before,&nbsp;after,&nbsp;axis,&nbsp;copy])</p></td>\n",
    "<td><p>Truncate a Series or DataFrame before and after some index value.</p></td>\n",
    "</tr>\n",
    "<tr class=\"row-odd\"><td><p><a class=\"reference internal\" href=\"pandas.Series.tshift.html#pandas.Series.tshift\" title=\"pandas.Series.tshift\"><code class=\"xref py py-obj docutils literal notranslate\"><span class=\"pre\">tshift</span></code></a>([periods,&nbsp;freq,&nbsp;axis])</p></td>\n",
    "<td><p>(DEPRECATED) Shift the time index, using the index's frequency if available.</p></td>\n",
    "</tr>\n",
    "<tr class=\"row-even\"><td><p><a class=\"reference internal\" href=\"pandas.Series.tz_convert.html#pandas.Series.tz_convert\" title=\"pandas.Series.tz_convert\"><code class=\"xref py py-obj docutils literal notranslate\"><span class=\"pre\">tz_convert</span></code></a>(tz[,&nbsp;axis,&nbsp;level,&nbsp;copy])</p></td>\n",
    "<td><p>Convert tz-aware axis to target time zone.</p></td>\n",
    "</tr>\n",
    "<tr class=\"row-odd\"><td><p><a class=\"reference internal\" href=\"pandas.Series.tz_localize.html#pandas.Series.tz_localize\" title=\"pandas.Series.tz_localize\"><code class=\"xref py py-obj docutils literal notranslate\"><span class=\"pre\">tz_localize</span></code></a>(tz[,&nbsp;axis,&nbsp;level,&nbsp;copy,&nbsp;...])</p></td>\n",
    "<td><p>Localize tz-naive index of a Series or DataFrame to target time zone.</p></td>\n",
    "</tr>\n",
    "<tr class=\"row-even\"><td><p><a class=\"reference internal\" href=\"pandas.Series.unique.html#pandas.Series.unique\" title=\"pandas.Series.unique\"><code class=\"xref py py-obj docutils literal notranslate\"><span class=\"pre\">unique</span></code></a>()</p></td>\n",
    "<td><p>Return unique values of Series object.</p></td>\n",
    "</tr>\n",
    "<tr class=\"row-odd\"><td><p><a class=\"reference internal\" href=\"pandas.Series.unstack.html#pandas.Series.unstack\" title=\"pandas.Series.unstack\"><code class=\"xref py py-obj docutils literal notranslate\"><span class=\"pre\">unstack</span></code></a>([level,&nbsp;fill_value])</p></td>\n",
    "<td><p>Unstack, also known as pivot, Series with MultiIndex to produce DataFrame.</p></td>\n",
    "</tr>\n",
    "<tr class=\"row-even\"><td><p><a class=\"reference internal\" href=\"pandas.Series.update.html#pandas.Series.update\" title=\"pandas.Series.update\"><code class=\"xref py py-obj docutils literal notranslate\"><span class=\"pre\">update</span></code></a>(other)</p></td>\n",
    "<td><p>Modify Series in place using values from passed Series.</p></td>\n",
    "</tr>\n",
    "<tr class=\"row-odd\"><td><p><a class=\"reference internal\" href=\"pandas.Series.value_counts.html#pandas.Series.value_counts\" title=\"pandas.Series.value_counts\"><code class=\"xref py py-obj docutils literal notranslate\"><span class=\"pre\">value_counts</span></code></a>([normalize,&nbsp;sort,&nbsp;ascending,&nbsp;...])</p></td>\n",
    "<td><p>Return a Series containing counts of unique values.</p></td>\n",
    "</tr>\n",
    "<tr class=\"row-even\"><td><p><a class=\"reference internal\" href=\"pandas.Series.var.html#pandas.Series.var\" title=\"pandas.Series.var\"><code class=\"xref py py-obj docutils literal notranslate\"><span class=\"pre\">var</span></code></a>([axis,&nbsp;skipna,&nbsp;level,&nbsp;ddof,&nbsp;numeric_only])</p></td>\n",
    "<td><p>Return unbiased variance over requested axis.</p></td>\n",
    "</tr>\n",
    "<tr class=\"row-odd\"><td><p><a class=\"reference internal\" href=\"pandas.Series.view.html#pandas.Series.view\" title=\"pandas.Series.view\"><code class=\"xref py py-obj docutils literal notranslate\"><span class=\"pre\">view</span></code></a>([dtype])</p></td>\n",
    "<td><p>Create a new view of the Series.</p></td>\n",
    "</tr>\n",
    "<tr class=\"row-even\"><td><p><a class=\"reference internal\" href=\"pandas.Series.where.html#pandas.Series.where\" title=\"pandas.Series.where\"><code class=\"xref py py-obj docutils literal notranslate\"><span class=\"pre\">where</span></code></a>(cond[,&nbsp;other,&nbsp;inplace,&nbsp;axis,&nbsp;level,&nbsp;...])</p></td>\n",
    "<td><p>Replace values where the condition is False.</p></td>\n",
    "</tr>\n",
    "<tr class=\"row-odd\"><td><p><a class=\"reference internal\" href=\"pandas.Series.xs.html#pandas.Series.xs\" title=\"pandas.Series.xs\"><code class=\"xref py py-obj docutils literal notranslate\"><span class=\"pre\">xs</span></code></a>(key[,&nbsp;axis,&nbsp;level,&nbsp;drop_level])</p></td>\n",
    "<td><p>Return cross-section from the Series/DataFrame.</p></td>\n",
    "</tr>\n",
    "</tbody>\n",
    "</table>\n",
    "</dd>"
   ]
  },
  {
   "cell_type": "markdown",
   "id": "eea26652",
   "metadata": {
    "papermill": {
     "duration": 0.05314,
     "end_time": "2022-09-28T11:47:34.185872",
     "exception": false,
     "start_time": "2022-09-28T11:47:34.132732",
     "status": "completed"
    },
    "tags": []
   },
   "source": [
    "### Accessing Element from Series with Position : \n",
    "- In order to access the series element refers to the index number. Use the index operator [ ] to access an element in a series. The index must be an integer. In order to access multiple elements from a series, we use Slice operation.\n"
   ]
  },
  {
   "cell_type": "code",
   "execution_count": 12,
   "id": "6c1f860a",
   "metadata": {
    "execution": {
     "iopub.execute_input": "2022-09-28T11:47:34.291173Z",
     "iopub.status.busy": "2022-09-28T11:47:34.290802Z",
     "iopub.status.idle": "2022-09-28T11:47:34.297501Z",
     "shell.execute_reply": "2022-09-28T11:47:34.296424Z"
    },
    "papermill": {
     "duration": 0.062627,
     "end_time": "2022-09-28T11:47:34.300582",
     "exception": false,
     "start_time": "2022-09-28T11:47:34.237955",
     "status": "completed"
    },
    "tags": []
   },
   "outputs": [
    {
     "name": "stdout",
     "output_type": "stream",
     "text": [
      "Series element at index 3 :\n",
      "\n",
      " 4.0 \n",
      "\n",
      "Type of element:  <class 'numpy.float64'>\n",
      "\n",
      "Series element at index 11 to 14 :\n",
      "\n",
      " 11    5.4\n",
      "12    3.2\n",
      "Name: Series_s2, dtype: float64 \n",
      "\n",
      "Type of element:  <class 'pandas.core.series.Series'>\n"
     ]
    }
   ],
   "source": [
    "# Acessing element of the Series\n",
    "print(\"Series element at index 3 :\\n\\n\",s2[3],\"\\n\\nType of element: \",type(s2[3]))\n",
    "print(\"\\nSeries element at index 11 to 14 :\\n\\n\",s2[11:14],\"\\n\\nType of element: \",type(s2[11:14]))"
   ]
  },
  {
   "cell_type": "markdown",
   "id": "b6ac8b60",
   "metadata": {
    "papermill": {
     "duration": 0.051734,
     "end_time": "2022-09-28T11:47:34.405986",
     "exception": false,
     "start_time": "2022-09-28T11:47:34.354252",
     "status": "completed"
    },
    "tags": []
   },
   "source": [
    "### Accessing Element Using Label (index) :\n",
    "- In order to access an element from series, we have to set values by index label. A Series is like a fixed-size dictionary in that you can get and set values by index label.\n",
    "\n"
   ]
  },
  {
   "cell_type": "code",
   "execution_count": 13,
   "id": "b680dff8",
   "metadata": {
    "execution": {
     "iopub.execute_input": "2022-09-28T11:47:34.510917Z",
     "iopub.status.busy": "2022-09-28T11:47:34.510525Z",
     "iopub.status.idle": "2022-09-28T11:47:34.515884Z",
     "shell.execute_reply": "2022-09-28T11:47:34.514959Z"
    },
    "papermill": {
     "duration": 0.061294,
     "end_time": "2022-09-28T11:47:34.518768",
     "exception": false,
     "start_time": "2022-09-28T11:47:34.457474",
     "status": "completed"
    },
    "tags": []
   },
   "outputs": [
    {
     "name": "stdout",
     "output_type": "stream",
     "text": [
      "Series element at index 3 :\n",
      "\n",
      " Bhawan \n",
      "\n",
      "Type of element:  <class 'str'>\n"
     ]
    }
   ],
   "source": [
    "# Accessing Element Using Label (index) :¶\n",
    "print(\"Series element at index 3 :\\n\\n\",s1[\"First Name\"],\"\\n\\nType of element: \",type(s1[\"First Name\"]))"
   ]
  },
  {
   "cell_type": "markdown",
   "id": "15dba892",
   "metadata": {
    "papermill": {
     "duration": 0.05192,
     "end_time": "2022-09-28T11:47:34.623244",
     "exception": false,
     "start_time": "2022-09-28T11:47:34.571324",
     "status": "completed"
    },
    "tags": []
   },
   "source": [
    "### Indexing and Selecting Data in Series:"
   ]
  },
  {
   "cell_type": "code",
   "execution_count": 14,
   "id": "46337df5",
   "metadata": {
    "execution": {
     "iopub.execute_input": "2022-09-28T11:47:34.728115Z",
     "iopub.status.busy": "2022-09-28T11:47:34.727416Z",
     "iopub.status.idle": "2022-09-28T11:47:35.083738Z",
     "shell.execute_reply": "2022-09-28T11:47:35.082247Z"
    },
    "papermill": {
     "duration": 0.412306,
     "end_time": "2022-09-28T11:47:35.086559",
     "exception": false,
     "start_time": "2022-09-28T11:47:34.674253",
     "status": "completed"
    },
    "tags": []
   },
   "outputs": [
    {
     "name": "stdout",
     "output_type": "stream",
     "text": [
      "0     2013\n",
      "1     2015\n",
      "2     2014\n",
      "3     2016\n",
      "4     2014\n",
      "      ... \n",
      "95    2015\n",
      "96    2013\n",
      "97    2015\n",
      "98    2013\n",
      "99    2015\n",
      "Name: Year, Length: 100, dtype: int64\n"
     ]
    }
   ],
   "source": [
    "df = pd.read_csv(\"/kaggle/input/sales-data-practise/sales_data.csv\")  \n",
    "   \n",
    "file_ser = pd.Series(df['Year']) \n",
    "data = file_ser.head(100)      #print first 15 line\n",
    "print(data) "
   ]
  },
  {
   "cell_type": "markdown",
   "id": "b618dfd9",
   "metadata": {
    "papermill": {
     "duration": 0.093785,
     "end_time": "2022-09-28T11:47:35.234081",
     "exception": false,
     "start_time": "2022-09-28T11:47:35.140296",
     "status": "completed"
    },
    "tags": []
   },
   "source": [
    "#### 1.Indexing a Series using indexing operator [] :"
   ]
  },
  {
   "cell_type": "code",
   "execution_count": 15,
   "id": "e919e34c",
   "metadata": {
    "execution": {
     "iopub.execute_input": "2022-09-28T11:47:35.554295Z",
     "iopub.status.busy": "2022-09-28T11:47:35.553867Z",
     "iopub.status.idle": "2022-09-28T11:47:35.559819Z",
     "shell.execute_reply": "2022-09-28T11:47:35.558970Z"
    },
    "papermill": {
     "duration": 0.188779,
     "end_time": "2022-09-28T11:47:35.569091",
     "exception": false,
     "start_time": "2022-09-28T11:47:35.380312",
     "status": "completed"
    },
    "tags": []
   },
   "outputs": [
    {
     "name": "stdout",
     "output_type": "stream",
     "text": [
      "Printing data using index Operator:[From 10 to 30]\n",
      "\n",
      "10    2013\n",
      "11    2015\n",
      "12    2013\n",
      "13    2015\n",
      "14    2013\n",
      "15    2015\n",
      "16    2013\n",
      "17    2015\n",
      "18    2014\n",
      "19    2016\n",
      "20    2014\n",
      "21    2016\n",
      "22    2014\n",
      "23    2016\n",
      "24    2013\n",
      "25    2015\n",
      "26    2013\n",
      "27    2015\n",
      "28    2014\n",
      "29    2016\n",
      "Name: Year, dtype: int64\n"
     ]
    }
   ],
   "source": [
    "#Using index Operator :\n",
    "print(\"Printing data using index Operator:[From 10 to 30]\\n\")\n",
    "print(data[10:30])"
   ]
  },
  {
   "cell_type": "markdown",
   "id": "f2ef7721",
   "metadata": {
    "papermill": {
     "duration": 0.144835,
     "end_time": "2022-09-28T11:47:35.885652",
     "exception": false,
     "start_time": "2022-09-28T11:47:35.740817",
     "status": "completed"
    },
    "tags": []
   },
   "source": [
    "#### 2. Indexing a Series using .loc[ ] :\n",
    "- This function selects data by refering the explicit index . The df.loc indexer selects data in a different way than just the indexing operator. It can select subsets of data."
   ]
  },
  {
   "cell_type": "code",
   "execution_count": 16,
   "id": "4b76b33f",
   "metadata": {
    "execution": {
     "iopub.execute_input": "2022-09-28T11:47:36.179221Z",
     "iopub.status.busy": "2022-09-28T11:47:36.178816Z",
     "iopub.status.idle": "2022-09-28T11:47:36.201761Z",
     "shell.execute_reply": "2022-09-28T11:47:36.200702Z"
    },
    "papermill": {
     "duration": 0.208118,
     "end_time": "2022-09-28T11:47:36.206772",
     "exception": false,
     "start_time": "2022-09-28T11:47:35.998654",
     "status": "completed"
    },
    "tags": []
   },
   "outputs": [
    {
     "name": "stdout",
     "output_type": "stream",
     "text": [
      "Indexing element Using .loc[]:\n",
      "\n",
      "12    2013\n",
      "13    2015\n",
      "14    2013\n",
      "15    2015\n",
      "16    2013\n",
      "17    2015\n",
      "18    2014\n",
      "19    2016\n",
      "20    2014\n",
      "21    2016\n",
      "22    2014\n",
      "23    2016\n",
      "24    2013\n",
      "25    2015\n",
      "26    2013\n",
      "27    2015\n",
      "28    2014\n",
      "29    2016\n",
      "30    2014\n",
      "31    2016\n",
      "32    2014\n",
      "33    2016\n",
      "34    2013\n",
      "35    2015\n",
      "36    2013\n",
      "37    2015\n",
      "38    2013\n",
      "39    2015\n",
      "40    2014\n",
      "Name: Year, dtype: int64\n"
     ]
    }
   ],
   "source": [
    "#Using .loc[]:\n",
    "print(\"Indexing element Using .loc[]:\\n\")\n",
    "print(data.loc[12:40])"
   ]
  },
  {
   "cell_type": "markdown",
   "id": "572ae6dd",
   "metadata": {
    "papermill": {
     "duration": 0.081602,
     "end_time": "2022-09-28T11:47:36.392150",
     "exception": false,
     "start_time": "2022-09-28T11:47:36.310548",
     "status": "completed"
    },
    "tags": []
   },
   "source": [
    "#### 3. Indexing a Series using .iloc[ ] :\n",
    "- This function allows us to retrieve data by position. In order to do that, we’ll need to specify the positions of the data that we want. The df.iloc indexer is very similar to df.loc but only uses integer locations to make its selections."
   ]
  },
  {
   "cell_type": "code",
   "execution_count": 17,
   "id": "7fbc6bab",
   "metadata": {
    "execution": {
     "iopub.execute_input": "2022-09-28T11:47:36.556049Z",
     "iopub.status.busy": "2022-09-28T11:47:36.555387Z",
     "iopub.status.idle": "2022-09-28T11:47:36.561183Z",
     "shell.execute_reply": "2022-09-28T11:47:36.560397Z"
    },
    "papermill": {
     "duration": 0.096181,
     "end_time": "2022-09-28T11:47:36.570242",
     "exception": false,
     "start_time": "2022-09-28T11:47:36.474061",
     "status": "completed"
    },
    "tags": []
   },
   "outputs": [
    {
     "name": "stdout",
     "output_type": "stream",
     "text": [
      "Indexing element Using .iloc[]:\n",
      "\n",
      "12    2013\n",
      "13    2015\n",
      "14    2013\n",
      "15    2015\n",
      "16    2013\n",
      "17    2015\n",
      "18    2014\n",
      "19    2016\n",
      "20    2014\n",
      "21    2016\n",
      "22    2014\n",
      "23    2016\n",
      "24    2013\n",
      "25    2015\n",
      "26    2013\n",
      "27    2015\n",
      "28    2014\n",
      "29    2016\n",
      "30    2014\n",
      "31    2016\n",
      "32    2014\n",
      "33    2016\n",
      "34    2013\n",
      "35    2015\n",
      "36    2013\n",
      "37    2015\n",
      "38    2013\n",
      "39    2015\n",
      "Name: Year, dtype: int64\n"
     ]
    }
   ],
   "source": [
    "#Using .iloc[]:\n",
    "print(\"Indexing element Using .iloc[]:\\n\")\n",
    "print(data.iloc[12:40])"
   ]
  },
  {
   "cell_type": "markdown",
   "id": "c402ba6b",
   "metadata": {
    "papermill": {
     "duration": 0.05206,
     "end_time": "2022-09-28T11:47:36.704182",
     "exception": false,
     "start_time": "2022-09-28T11:47:36.652122",
     "status": "completed"
    },
    "tags": []
   },
   "source": [
    "### Mathematicals Operation on Series:\n",
    "\n",
    "- **Note:** if value it not present to perform operation it will add **\"NaN\"** (Not a Number)\n",
    "\n",
    "#### Adding Series add() and +:\n"
   ]
  },
  {
   "cell_type": "code",
   "execution_count": 18,
   "id": "19de557c",
   "metadata": {
    "execution": {
     "iopub.execute_input": "2022-09-28T11:47:36.810207Z",
     "iopub.status.busy": "2022-09-28T11:47:36.809853Z",
     "iopub.status.idle": "2022-09-28T11:47:36.820469Z",
     "shell.execute_reply": "2022-09-28T11:47:36.819345Z"
    },
    "papermill": {
     "duration": 0.066923,
     "end_time": "2022-09-28T11:47:36.823573",
     "exception": false,
     "start_time": "2022-09-28T11:47:36.756650",
     "status": "completed"
    },
    "tags": []
   },
   "outputs": [
    {
     "name": "stdout",
     "output_type": "stream",
     "text": [
      "Sample Series 1:\n",
      " 0    19\n",
      "1    19\n",
      "2    49\n",
      "3    49\n",
      "4    47\n",
      "Name: Customer_Age, dtype: int64\n",
      "\n",
      "Sample Series 2:\n",
      " 0    26\n",
      "1    26\n",
      "2    23\n",
      "3    23\n",
      "4    15\n",
      "Name: Day, dtype: int64\n"
     ]
    }
   ],
   "source": [
    "#sample data\n",
    "data = pd.Series(df['Customer_Age']) \n",
    "s1 = data.head(15)      #print first 50 line\n",
    "print(\"Sample Series 1:\\n\",s1.head())\n",
    "\n",
    "#sample1 data\n",
    "data1 = pd.Series(df['Day']) \n",
    "s2 = data1.head(15)      #print first 50 line\n",
    "print(\"\\nSample Series 2:\\n\",s2.head())"
   ]
  },
  {
   "cell_type": "code",
   "execution_count": 19,
   "id": "f827bedd",
   "metadata": {
    "execution": {
     "iopub.execute_input": "2022-09-28T11:47:36.931164Z",
     "iopub.status.busy": "2022-09-28T11:47:36.930507Z",
     "iopub.status.idle": "2022-09-28T11:47:36.939405Z",
     "shell.execute_reply": "2022-09-28T11:47:36.937890Z"
    },
    "papermill": {
     "duration": 0.06501,
     "end_time": "2022-09-28T11:47:36.942442",
     "exception": false,
     "start_time": "2022-09-28T11:47:36.877432",
     "status": "completed"
    },
    "tags": []
   },
   "outputs": [
    {
     "name": "stdout",
     "output_type": "stream",
     "text": [
      "Adding Series with the help of '+' Operator:\n",
      "0     45\n",
      "1     45\n",
      "2     72\n",
      "3     72\n",
      "4     62\n",
      "5     62\n",
      "6     69\n",
      "7     69\n",
      "8     57\n",
      "9     57\n",
      "10    62\n",
      "11    62\n",
      "12    49\n",
      "13    49\n",
      "14    31\n",
      "dtype: int64\n"
     ]
    }
   ],
   "source": [
    "print(\"Adding Series with the help of '+' Operator:\")\n",
    "print(s1+s2)"
   ]
  },
  {
   "cell_type": "code",
   "execution_count": 20,
   "id": "5165c0eb",
   "metadata": {
    "execution": {
     "iopub.execute_input": "2022-09-28T11:47:37.050290Z",
     "iopub.status.busy": "2022-09-28T11:47:37.049626Z",
     "iopub.status.idle": "2022-09-28T11:47:37.055491Z",
     "shell.execute_reply": "2022-09-28T11:47:37.054575Z"
    },
    "papermill": {
     "duration": 0.063061,
     "end_time": "2022-09-28T11:47:37.058704",
     "exception": false,
     "start_time": "2022-09-28T11:47:36.995643",
     "status": "completed"
    },
    "tags": []
   },
   "outputs": [
    {
     "name": "stdout",
     "output_type": "stream",
     "text": [
      "Adding Series with the help of add() Fun:\n",
      "0     45\n",
      "1     45\n",
      "2     72\n",
      "3     72\n",
      "4     62\n",
      "5     62\n",
      "6     69\n",
      "7     69\n",
      "8     57\n",
      "9     57\n",
      "10    62\n",
      "11    62\n",
      "12    49\n",
      "13    49\n",
      "14    31\n",
      "dtype: int64\n"
     ]
    }
   ],
   "source": [
    "print(\"Adding Series with the help of add() Fun:\")\n",
    "#print(pd.Series.add(s1,s2))  Both are the same\n",
    "print(s1.add(s2))\n"
   ]
  },
  {
   "cell_type": "markdown",
   "id": "cba01f7e",
   "metadata": {
    "papermill": {
     "duration": 0.052318,
     "end_time": "2022-09-28T11:47:37.164514",
     "exception": false,
     "start_time": "2022-09-28T11:47:37.112196",
     "status": "completed"
    },
    "tags": []
   },
   "source": [
    "#### Subtraction with help of '-' and sub():"
   ]
  },
  {
   "cell_type": "code",
   "execution_count": 21,
   "id": "d6ac5a26",
   "metadata": {
    "execution": {
     "iopub.execute_input": "2022-09-28T11:47:37.272284Z",
     "iopub.status.busy": "2022-09-28T11:47:37.271900Z",
     "iopub.status.idle": "2022-09-28T11:47:37.277572Z",
     "shell.execute_reply": "2022-09-28T11:47:37.276666Z"
    },
    "papermill": {
     "duration": 0.062729,
     "end_time": "2022-09-28T11:47:37.280440",
     "exception": false,
     "start_time": "2022-09-28T11:47:37.217711",
     "status": "completed"
    },
    "tags": []
   },
   "outputs": [
    {
     "name": "stdout",
     "output_type": "stream",
     "text": [
      "Subtract Series with the help of '-' Operator:\n",
      "0     -7\n",
      "1     -7\n",
      "2     26\n",
      "3     26\n",
      "4     32\n",
      "5     32\n",
      "6     25\n",
      "7     25\n",
      "8     13\n",
      "9     13\n",
      "10     2\n",
      "11     2\n",
      "12    19\n",
      "13    19\n",
      "14    27\n",
      "dtype: int64\n"
     ]
    }
   ],
   "source": [
    "print(\"Subtract Series with the help of '-' Operator:\")\n",
    "print(s1-s2)"
   ]
  },
  {
   "cell_type": "code",
   "execution_count": 22,
   "id": "46b9cdb6",
   "metadata": {
    "execution": {
     "iopub.execute_input": "2022-09-28T11:47:37.389173Z",
     "iopub.status.busy": "2022-09-28T11:47:37.388822Z",
     "iopub.status.idle": "2022-09-28T11:47:37.394544Z",
     "shell.execute_reply": "2022-09-28T11:47:37.393630Z"
    },
    "papermill": {
     "duration": 0.063935,
     "end_time": "2022-09-28T11:47:37.397651",
     "exception": false,
     "start_time": "2022-09-28T11:47:37.333716",
     "status": "completed"
    },
    "tags": []
   },
   "outputs": [
    {
     "name": "stdout",
     "output_type": "stream",
     "text": [
      "Subtract Series with the help of sub() Fun:\n",
      "0     -7\n",
      "1     -7\n",
      "2     26\n",
      "3     26\n",
      "4     32\n",
      "5     32\n",
      "6     25\n",
      "7     25\n",
      "8     13\n",
      "9     13\n",
      "10     2\n",
      "11     2\n",
      "12    19\n",
      "13    19\n",
      "14    27\n",
      "dtype: int64\n"
     ]
    }
   ],
   "source": [
    "print(\"Subtract Series with the help of sub() Fun:\")\n",
    "#print(pd.Series.sub(s1,s2))  #Both are the same\n",
    "print(s1.sub(s2))"
   ]
  },
  {
   "cell_type": "markdown",
   "id": "a53539c8",
   "metadata": {
    "papermill": {
     "duration": 0.058254,
     "end_time": "2022-09-28T11:47:37.509261",
     "exception": false,
     "start_time": "2022-09-28T11:47:37.451007",
     "status": "completed"
    },
    "tags": []
   },
   "source": [
    "#### Multiplication with help of '*' and mul():"
   ]
  },
  {
   "cell_type": "code",
   "execution_count": 23,
   "id": "2f032841",
   "metadata": {
    "execution": {
     "iopub.execute_input": "2022-09-28T11:47:37.615419Z",
     "iopub.status.busy": "2022-09-28T11:47:37.615079Z",
     "iopub.status.idle": "2022-09-28T11:47:37.620770Z",
     "shell.execute_reply": "2022-09-28T11:47:37.619819Z"
    },
    "papermill": {
     "duration": 0.061456,
     "end_time": "2022-09-28T11:47:37.623529",
     "exception": false,
     "start_time": "2022-09-28T11:47:37.562073",
     "status": "completed"
    },
    "tags": []
   },
   "outputs": [
    {
     "name": "stdout",
     "output_type": "stream",
     "text": [
      "Multiply Series with help of '*':\n",
      "0      494\n",
      "1      494\n",
      "2     1127\n",
      "3     1127\n",
      "4      705\n",
      "5      705\n",
      "6     1034\n",
      "7     1034\n",
      "8      770\n",
      "9      770\n",
      "10     960\n",
      "11     960\n",
      "12     510\n",
      "13     510\n",
      "14      58\n",
      "dtype: int64\n"
     ]
    }
   ],
   "source": [
    "print(\"Multiply Series with help of '*':\")\n",
    "print(s1*s2)"
   ]
  },
  {
   "cell_type": "code",
   "execution_count": 24,
   "id": "b080c986",
   "metadata": {
    "execution": {
     "iopub.execute_input": "2022-09-28T11:47:37.732164Z",
     "iopub.status.busy": "2022-09-28T11:47:37.731819Z",
     "iopub.status.idle": "2022-09-28T11:47:37.737497Z",
     "shell.execute_reply": "2022-09-28T11:47:37.736578Z"
    },
    "papermill": {
     "duration": 0.062914,
     "end_time": "2022-09-28T11:47:37.740187",
     "exception": false,
     "start_time": "2022-09-28T11:47:37.677273",
     "status": "completed"
    },
    "tags": []
   },
   "outputs": [
    {
     "name": "stdout",
     "output_type": "stream",
     "text": [
      "Multiply Series with help of mul():\n",
      "0      494\n",
      "1      494\n",
      "2     1127\n",
      "3     1127\n",
      "4      705\n",
      "5      705\n",
      "6     1034\n",
      "7     1034\n",
      "8      770\n",
      "9      770\n",
      "10     960\n",
      "11     960\n",
      "12     510\n",
      "13     510\n",
      "14      58\n",
      "dtype: int64\n"
     ]
    }
   ],
   "source": [
    "print(\"Multiply Series with help of mul():\")\n",
    "# pd.series.mul(s1,s2)\n",
    "print(s1.mul(s2))"
   ]
  },
  {
   "cell_type": "markdown",
   "id": "4ac71892",
   "metadata": {
    "papermill": {
     "duration": 0.052544,
     "end_time": "2022-09-28T11:47:37.846478",
     "exception": false,
     "start_time": "2022-09-28T11:47:37.793934",
     "status": "completed"
    },
    "tags": []
   },
   "source": [
    "#### Division with help of '/' and div():"
   ]
  },
  {
   "cell_type": "code",
   "execution_count": 25,
   "id": "7e410cc1",
   "metadata": {
    "execution": {
     "iopub.execute_input": "2022-09-28T11:47:37.954191Z",
     "iopub.status.busy": "2022-09-28T11:47:37.953832Z",
     "iopub.status.idle": "2022-09-28T11:47:37.960261Z",
     "shell.execute_reply": "2022-09-28T11:47:37.959214Z"
    },
    "papermill": {
     "duration": 0.062916,
     "end_time": "2022-09-28T11:47:37.963228",
     "exception": false,
     "start_time": "2022-09-28T11:47:37.900312",
     "status": "completed"
    },
    "tags": []
   },
   "outputs": [
    {
     "name": "stdout",
     "output_type": "stream",
     "text": [
      "Dividation of Series with help of '/' Operator:\n",
      "0      0.730769\n",
      "1      0.730769\n",
      "2      2.130435\n",
      "3      2.130435\n",
      "4      3.133333\n",
      "5      3.133333\n",
      "6      2.136364\n",
      "7      2.136364\n",
      "8      1.590909\n",
      "9      1.590909\n",
      "10     1.066667\n",
      "11     1.066667\n",
      "12     2.266667\n",
      "13     2.266667\n",
      "14    14.500000\n",
      "dtype: float64\n"
     ]
    }
   ],
   "source": [
    "print(\"Dividation of Series with help of '/' Operator:\")\n",
    "print(s1/s2)"
   ]
  },
  {
   "cell_type": "code",
   "execution_count": 26,
   "id": "2e57ee35",
   "metadata": {
    "execution": {
     "iopub.execute_input": "2022-09-28T11:47:38.074599Z",
     "iopub.status.busy": "2022-09-28T11:47:38.073515Z",
     "iopub.status.idle": "2022-09-28T11:47:38.082451Z",
     "shell.execute_reply": "2022-09-28T11:47:38.081268Z"
    },
    "papermill": {
     "duration": 0.066431,
     "end_time": "2022-09-28T11:47:38.084927",
     "exception": false,
     "start_time": "2022-09-28T11:47:38.018496",
     "status": "completed"
    },
    "tags": []
   },
   "outputs": [
    {
     "name": "stdout",
     "output_type": "stream",
     "text": [
      "Dividation of Series with help of mul() fun:\n",
      "0      0.730769\n",
      "1      0.730769\n",
      "2      2.130435\n",
      "3      2.130435\n",
      "4      3.133333\n",
      "5      3.133333\n",
      "6      2.136364\n",
      "7      2.136364\n",
      "8      1.590909\n",
      "9      1.590909\n",
      "10     1.066667\n",
      "11     1.066667\n",
      "12     2.266667\n",
      "13     2.266667\n",
      "14    14.500000\n",
      "dtype: float64\n"
     ]
    }
   ],
   "source": [
    "print(\"Dividation of Series with help of mul() fun:\")\n",
    "print(s1.div(s2))"
   ]
  },
  {
   "cell_type": "markdown",
   "id": "3d0d280d",
   "metadata": {
    "papermill": {
     "duration": 0.052596,
     "end_time": "2022-09-28T11:47:38.192563",
     "exception": false,
     "start_time": "2022-09-28T11:47:38.139967",
     "status": "completed"
    },
    "tags": []
   },
   "source": [
    "#### Maximum of Series using max():"
   ]
  },
  {
   "cell_type": "code",
   "execution_count": 27,
   "id": "b4efb0bf",
   "metadata": {
    "execution": {
     "iopub.execute_input": "2022-09-28T11:47:38.301368Z",
     "iopub.status.busy": "2022-09-28T11:47:38.300406Z",
     "iopub.status.idle": "2022-09-28T11:47:38.307035Z",
     "shell.execute_reply": "2022-09-28T11:47:38.305899Z"
    },
    "papermill": {
     "duration": 0.062574,
     "end_time": "2022-09-28T11:47:38.309587",
     "exception": false,
     "start_time": "2022-09-28T11:47:38.247013",
     "status": "completed"
    },
    "tags": []
   },
   "outputs": [
    {
     "name": "stdout",
     "output_type": "stream",
     "text": [
      "Maximum of Series: 49\n",
      "Maximum of Series: 30\n"
     ]
    }
   ],
   "source": [
    "print(\"Maximum of Series:\",s1.max())\n",
    "print(\"Maximum of Series:\",s2.max())"
   ]
  },
  {
   "cell_type": "code",
   "execution_count": 28,
   "id": "2dd1d8be",
   "metadata": {
    "execution": {
     "iopub.execute_input": "2022-09-28T11:47:38.418158Z",
     "iopub.status.busy": "2022-09-28T11:47:38.417812Z",
     "iopub.status.idle": "2022-09-28T11:47:38.423571Z",
     "shell.execute_reply": "2022-09-28T11:47:38.422618Z"
    },
    "papermill": {
     "duration": 0.062456,
     "end_time": "2022-09-28T11:47:38.426370",
     "exception": false,
     "start_time": "2022-09-28T11:47:38.363914",
     "status": "completed"
    },
    "tags": []
   },
   "outputs": [
    {
     "name": "stdout",
     "output_type": "stream",
     "text": [
      "Index of max S1: 2\n",
      "Index of max S2: 10\n"
     ]
    }
   ],
   "source": [
    "#Give Index of MAXIMUM\n",
    "print(\"Index of max S1:\",s1.idxmax())\n",
    "print(\"Index of max S2:\",s2.idxmax())"
   ]
  },
  {
   "cell_type": "markdown",
   "id": "01e3f96a",
   "metadata": {
    "papermill": {
     "duration": 0.052782,
     "end_time": "2022-09-28T11:47:38.533079",
     "exception": false,
     "start_time": "2022-09-28T11:47:38.480297",
     "status": "completed"
    },
    "tags": []
   },
   "source": [
    "#### Minimum of Series using min():"
   ]
  },
  {
   "cell_type": "code",
   "execution_count": 29,
   "id": "407bed81",
   "metadata": {
    "execution": {
     "iopub.execute_input": "2022-09-28T11:47:38.641074Z",
     "iopub.status.busy": "2022-09-28T11:47:38.640159Z",
     "iopub.status.idle": "2022-09-28T11:47:38.646726Z",
     "shell.execute_reply": "2022-09-28T11:47:38.645492Z"
    },
    "papermill": {
     "duration": 0.062998,
     "end_time": "2022-09-28T11:47:38.649657",
     "exception": false,
     "start_time": "2022-09-28T11:47:38.586659",
     "status": "completed"
    },
    "tags": []
   },
   "outputs": [
    {
     "name": "stdout",
     "output_type": "stream",
     "text": [
      "Minimum of Series: 19\n",
      "Minimum of Series: 2\n"
     ]
    }
   ],
   "source": [
    "print(\"Minimum of Series:\",s1.min())\n",
    "print(\"Minimum of Series:\",s2.min())"
   ]
  },
  {
   "cell_type": "code",
   "execution_count": 30,
   "id": "d34ccd9d",
   "metadata": {
    "execution": {
     "iopub.execute_input": "2022-09-28T11:47:38.757523Z",
     "iopub.status.busy": "2022-09-28T11:47:38.757165Z",
     "iopub.status.idle": "2022-09-28T11:47:38.762580Z",
     "shell.execute_reply": "2022-09-28T11:47:38.761671Z"
    },
    "papermill": {
     "duration": 0.062561,
     "end_time": "2022-09-28T11:47:38.765399",
     "exception": false,
     "start_time": "2022-09-28T11:47:38.702838",
     "status": "completed"
    },
    "tags": []
   },
   "outputs": [
    {
     "name": "stdout",
     "output_type": "stream",
     "text": [
      "Index of MIN S1: 0\n",
      "Index of MIN S2: 14\n"
     ]
    }
   ],
   "source": [
    "#Give the index of MINIMUM\n",
    "print(\"Index of MIN S1:\",s1.idxmin())\n",
    "print(\"Index of MIN S2:\",s2.idxmin())"
   ]
  },
  {
   "cell_type": "markdown",
   "id": "bab1e860",
   "metadata": {
    "papermill": {
     "duration": 0.052911,
     "end_time": "2022-09-28T11:47:38.871390",
     "exception": false,
     "start_time": "2022-09-28T11:47:38.818479",
     "status": "completed"
    },
    "tags": []
   },
   "source": [
    "#### Sum of all element: Sum():"
   ]
  },
  {
   "cell_type": "code",
   "execution_count": 31,
   "id": "9798a5d8",
   "metadata": {
    "execution": {
     "iopub.execute_input": "2022-09-28T11:47:38.979656Z",
     "iopub.status.busy": "2022-09-28T11:47:38.979279Z",
     "iopub.status.idle": "2022-09-28T11:47:38.984695Z",
     "shell.execute_reply": "2022-09-28T11:47:38.983778Z"
    },
    "papermill": {
     "duration": 0.061842,
     "end_time": "2022-09-28T11:47:38.987121",
     "exception": false,
     "start_time": "2022-09-28T11:47:38.925279",
     "status": "completed"
    },
    "tags": []
   },
   "outputs": [
    {
     "name": "stdout",
     "output_type": "stream",
     "text": [
      "Sum of all element S1: 555\n",
      "Sum of all element S2: 308\n"
     ]
    }
   ],
   "source": [
    "print(\"Sum of all element S1:\",s1.sum())\n",
    "print(\"Sum of all element S2:\",s2.sum())"
   ]
  },
  {
   "cell_type": "markdown",
   "id": "94981107",
   "metadata": {
    "papermill": {
     "duration": 0.05383,
     "end_time": "2022-09-28T11:47:39.094591",
     "exception": false,
     "start_time": "2022-09-28T11:47:39.040761",
     "status": "completed"
    },
    "tags": []
   },
   "source": [
    "#### Product of all Value:\n",
    "- Return the product of the values over the requested axis.\n",
    "- **Syntex** <h4>Series.prod(axis=None, skipna=True, level=None, numeric_only=None, min_count=0, **kwargs)</h4>"
   ]
  },
  {
   "cell_type": "code",
   "execution_count": 32,
   "id": "c3662050",
   "metadata": {
    "execution": {
     "iopub.execute_input": "2022-09-28T11:47:39.202153Z",
     "iopub.status.busy": "2022-09-28T11:47:39.201788Z",
     "iopub.status.idle": "2022-09-28T11:47:39.208418Z",
     "shell.execute_reply": "2022-09-28T11:47:39.207492Z"
    },
    "papermill": {
     "duration": 0.063394,
     "end_time": "2022-09-28T11:47:39.211159",
     "exception": false,
     "start_time": "2022-09-28T11:47:39.147765",
     "status": "completed"
    },
    "tags": []
   },
   "outputs": [
    {
     "name": "stdout",
     "output_type": "stream",
     "text": [
      "Due to data type(int64 require higher) it is giviing wrong value: -1711325169118031872\n",
      "Data type: <class 'numpy.int64'>\n",
      "\n",
      "Product of s2 Sereis: 7633621679112000000\n"
     ]
    }
   ],
   "source": [
    "###Due to data type (int64) it is giving wrong value beacuse product value is very high can't store in int64\n",
    "\n",
    "print(\"Due to data type(int64 require higher) it is giviing wrong value:\",s1.prod())  \n",
    "print(\"Data type:\",type(s1.prod()))\n",
    "\n",
    "print(\"\\nProduct of s2 Sereis:\",s2.prod())"
   ]
  },
  {
   "cell_type": "markdown",
   "id": "cb799aa4",
   "metadata": {
    "papermill": {
     "duration": 0.052772,
     "end_time": "2022-09-28T11:47:39.318410",
     "exception": false,
     "start_time": "2022-09-28T11:47:39.265638",
     "status": "completed"
    },
    "tags": []
   },
   "source": [
    "#### Mean of Series Value:\n",
    "- Return the mean of the values over the requested axis.\n",
    "- **Syntax** <h4>Series.mean(axis=_NoDefault.no_default, skipna=True, level=None, numeric_only=None, **kwargs)</h4>\n",
    "\n"
   ]
  },
  {
   "cell_type": "code",
   "execution_count": 33,
   "id": "e3e5b55a",
   "metadata": {
    "execution": {
     "iopub.execute_input": "2022-09-28T11:47:39.426133Z",
     "iopub.status.busy": "2022-09-28T11:47:39.425780Z",
     "iopub.status.idle": "2022-09-28T11:47:39.431430Z",
     "shell.execute_reply": "2022-09-28T11:47:39.430507Z"
    },
    "papermill": {
     "duration": 0.062881,
     "end_time": "2022-09-28T11:47:39.433918",
     "exception": false,
     "start_time": "2022-09-28T11:47:39.371037",
     "status": "completed"
    },
    "tags": []
   },
   "outputs": [
    {
     "name": "stdout",
     "output_type": "stream",
     "text": [
      "Mean of series 1 value: 37.0\n",
      "Mean of series 2 value: 20.533333333333335\n"
     ]
    }
   ],
   "source": [
    "print(\"Mean of series 1 value:\",s1.mean())\n",
    "print(\"Mean of series 2 value:\",s2.mean())"
   ]
  },
  {
   "cell_type": "markdown",
   "id": "7522fb0b",
   "metadata": {
    "papermill": {
     "duration": 0.052726,
     "end_time": "2022-09-28T11:47:39.540742",
     "exception": false,
     "start_time": "2022-09-28T11:47:39.488016",
     "status": "completed"
    },
    "tags": []
   },
   "source": [
    "#### Power of Series Value:\n",
    "- Return Exponential power of series and other, element-wise (binary operator pow).\n",
    "- **Syntax:** <h4>Series.pow(other, level=None, fill_value=None, axis=0)</h4>"
   ]
  },
  {
   "cell_type": "code",
   "execution_count": 34,
   "id": "0fa2212c",
   "metadata": {
    "execution": {
     "iopub.execute_input": "2022-09-28T11:47:39.650099Z",
     "iopub.status.busy": "2022-09-28T11:47:39.648345Z",
     "iopub.status.idle": "2022-09-28T11:47:39.661735Z",
     "shell.execute_reply": "2022-09-28T11:47:39.660745Z"
    },
    "papermill": {
     "duration": 0.071312,
     "end_time": "2022-09-28T11:47:39.664806",
     "exception": false,
     "start_time": "2022-09-28T11:47:39.593494",
     "status": "completed"
    },
    "tags": []
   },
   "outputs": [
    {
     "name": "stdout",
     "output_type": "stream",
     "text": [
      "Power of Series 1 value:\n",
      " 0      361.0\n",
      "1      361.0\n",
      "2     2401.0\n",
      "3     2401.0\n",
      "4     2209.0\n",
      "5     2209.0\n",
      "6     2209.0\n",
      "7     2209.0\n",
      "8     1225.0\n",
      "9     1225.0\n",
      "10    1024.0\n",
      "11    1024.0\n",
      "12    1156.0\n",
      "13    1156.0\n",
      "14     841.0\n",
      "15       NaN\n",
      "16       NaN\n",
      "dtype: float64\n",
      "\n",
      "Power of Series 2 value:\n",
      " 0     676.0\n",
      "1     676.0\n",
      "2     529.0\n",
      "3     529.0\n",
      "4     225.0\n",
      "5     225.0\n",
      "6     484.0\n",
      "7     484.0\n",
      "8     484.0\n",
      "9     484.0\n",
      "10    900.0\n",
      "11    900.0\n",
      "12    225.0\n",
      "13    225.0\n",
      "14      4.0\n",
      "15      NaN\n",
      "16      NaN\n",
      "dtype: float64\n"
     ]
    }
   ],
   "source": [
    "list1=[2 for i in range(17)]\n",
    "power=pd.Series(list1)\n",
    "\n",
    "#power is series with value 2 as POWER to Series s1.\n",
    "print(\"Power of Series 1 value:\\n\",s1.pow(power)) \n",
    "print(\"\\nPower of Series 2 value:\\n\",s2.pow(power))"
   ]
  },
  {
   "cell_type": "code",
   "execution_count": 35,
   "id": "40b53357",
   "metadata": {
    "execution": {
     "iopub.execute_input": "2022-09-28T11:47:39.776646Z",
     "iopub.status.busy": "2022-09-28T11:47:39.775639Z",
     "iopub.status.idle": "2022-09-28T11:47:39.786497Z",
     "shell.execute_reply": "2022-09-28T11:47:39.784582Z"
    },
    "papermill": {
     "duration": 0.068192,
     "end_time": "2022-09-28T11:47:39.789167",
     "exception": false,
     "start_time": "2022-09-28T11:47:39.720975",
     "status": "completed"
    },
    "tags": []
   },
   "outputs": [
    {
     "name": "stdout",
     "output_type": "stream",
     "text": [
      "Power of Series 1 value:\n",
      " 0      361.0\n",
      "1      361.0\n",
      "2     2401.0\n",
      "3     2401.0\n",
      "4     2209.0\n",
      "5     2209.0\n",
      "6     2209.0\n",
      "7     2209.0\n",
      "8     1225.0\n",
      "9     1225.0\n",
      "10    1024.0\n",
      "11    1024.0\n",
      "12    1156.0\n",
      "13    1156.0\n",
      "14     841.0\n",
      "15       0.0\n",
      "16       0.0\n",
      "dtype: float64\n",
      "\n",
      "Power of Series 2 value:\n",
      " 0     676.0\n",
      "1     676.0\n",
      "2     529.0\n",
      "3     529.0\n",
      "4     225.0\n",
      "5     225.0\n",
      "6     484.0\n",
      "7     484.0\n",
      "8     484.0\n",
      "9     484.0\n",
      "10    900.0\n",
      "11    900.0\n",
      "12    225.0\n",
      "13    225.0\n",
      "14      4.0\n",
      "15      0.0\n",
      "16      0.0\n",
      "dtype: float64\n"
     ]
    }
   ],
   "source": [
    "# NaN NONE value replacement \n",
    "None_value=0\n",
    "print(\"Power of Series 1 value:\\n\",s1.pow(power,fill_value=None_value)) \n",
    "print(\"\\nPower of Series 2 value:\\n\",s2.pow(power,fill_value=None_value))"
   ]
  },
  {
   "cell_type": "markdown",
   "id": "3a9c87a6",
   "metadata": {
    "papermill": {
     "duration": 0.053716,
     "end_time": "2022-09-28T11:47:39.897248",
     "exception": false,
     "start_time": "2022-09-28T11:47:39.843532",
     "status": "completed"
    },
    "tags": []
   },
   "source": [
    "#### Absolute value / abs():\n",
    "- The abs() function is used to get a Series/DataFrame with absolute numeric value of each element.|\n",
    "- This function only applies to elements that are all numeric"
   ]
  },
  {
   "cell_type": "code",
   "execution_count": 36,
   "id": "20a84f36",
   "metadata": {
    "execution": {
     "iopub.execute_input": "2022-09-28T11:47:40.048153Z",
     "iopub.status.busy": "2022-09-28T11:47:40.047204Z",
     "iopub.status.idle": "2022-09-28T11:47:40.055866Z",
     "shell.execute_reply": "2022-09-28T11:47:40.054637Z"
    },
    "papermill": {
     "duration": 0.06565,
     "end_time": "2022-09-28T11:47:40.058671",
     "exception": false,
     "start_time": "2022-09-28T11:47:39.993021",
     "status": "completed"
    },
    "tags": []
   },
   "outputs": [
    {
     "name": "stdout",
     "output_type": "stream",
     "text": [
      "Original test Series:\n",
      " 0     -1.0\n",
      "1      3.0\n",
      "2     -4.0\n",
      "3     -4.5\n",
      "4    -10.3\n",
      "5    -90.0\n",
      "6    100.0\n",
      "dtype: float64 \n",
      "\n",
      "Finding absolute value of Series:\n",
      " 0      1.0\n",
      "1      3.0\n",
      "2      4.0\n",
      "3      4.5\n",
      "4     10.3\n",
      "5     90.0\n",
      "6    100.0\n",
      "dtype: float64\n"
     ]
    }
   ],
   "source": [
    "test=pd.Series([-1,3,-4,-4.5,-10.3,-90,100])\n",
    "print(\"Original test Series:\\n\",test,\"\\n\\nFinding absolute value of Series:\\n\",test.abs())"
   ]
  },
  {
   "cell_type": "code",
   "execution_count": 37,
   "id": "396caed7",
   "metadata": {
    "execution": {
     "iopub.execute_input": "2022-09-28T11:47:40.169171Z",
     "iopub.status.busy": "2022-09-28T11:47:40.168203Z",
     "iopub.status.idle": "2022-09-28T11:47:40.189013Z",
     "shell.execute_reply": "2022-09-28T11:47:40.187411Z"
    },
    "papermill": {
     "duration": 0.078022,
     "end_time": "2022-09-28T11:47:40.191589",
     "exception": false,
     "start_time": "2022-09-28T11:47:40.113567",
     "status": "completed"
    },
    "tags": []
   },
   "outputs": [
    {
     "name": "stdout",
     "output_type": "stream",
     "text": [
      "First it perform '-' Operation and than absolute:\n"
     ]
    },
    {
     "data": {
      "text/html": [
       "<div>\n",
       "<style scoped>\n",
       "    .dataframe tbody tr th:only-of-type {\n",
       "        vertical-align: middle;\n",
       "    }\n",
       "\n",
       "    .dataframe tbody tr th {\n",
       "        vertical-align: top;\n",
       "    }\n",
       "\n",
       "    .dataframe thead th {\n",
       "        text-align: right;\n",
       "    }\n",
       "</style>\n",
       "<table border=\"1\" class=\"dataframe\">\n",
       "  <thead>\n",
       "    <tr style=\"text-align: right;\">\n",
       "      <th></th>\n",
       "      <th>Name</th>\n",
       "      <th>Age</th>\n",
       "      <th>val</th>\n",
       "      <th>ope</th>\n",
       "    </tr>\n",
       "  </thead>\n",
       "  <tbody>\n",
       "    <tr>\n",
       "      <th>0</th>\n",
       "      <td>John</td>\n",
       "      <td>31</td>\n",
       "      <td>98</td>\n",
       "      <td>11</td>\n",
       "    </tr>\n",
       "    <tr>\n",
       "      <th>1</th>\n",
       "      <td>Hari</td>\n",
       "      <td>29</td>\n",
       "      <td>48</td>\n",
       "      <td>39</td>\n",
       "    </tr>\n",
       "    <tr>\n",
       "      <th>2</th>\n",
       "      <td>Peter</td>\n",
       "      <td>57</td>\n",
       "      <td>-80</td>\n",
       "      <td>167</td>\n",
       "    </tr>\n",
       "    <tr>\n",
       "      <th>3</th>\n",
       "      <td>Loani</td>\n",
       "      <td>40</td>\n",
       "      <td>-14</td>\n",
       "      <td>101</td>\n",
       "    </tr>\n",
       "  </tbody>\n",
       "</table>\n",
       "</div>"
      ],
      "text/plain": [
       "    Name  Age  val  ope\n",
       "0   John   31   98   11\n",
       "1   Hari   29   48   39\n",
       "2  Peter   57  -80  167\n",
       "3  Loani   40  -14  101"
      ]
     },
     "execution_count": 37,
     "metadata": {},
     "output_type": "execute_result"
    }
   ],
   "source": [
    "df = pd.DataFrame({'Name': ['John', 'Hari', 'Peter', 'Loani'],\n",
    "                  'Age': [31, 29, 57, 40],\n",
    "                  'val': [98, 48, -80, -14]})\n",
    " \n",
    "\n",
    "print(\"First it perform '-' Operation and than absolute:\")\n",
    "df['ope'] = (df.val - 87).abs() \n",
    "df"
   ]
  },
  {
   "cell_type": "markdown",
   "id": "26f03b24",
   "metadata": {
    "papermill": {
     "duration": 0.053148,
     "end_time": "2022-09-28T11:47:40.299069",
     "exception": false,
     "start_time": "2022-09-28T11:47:40.245921",
     "status": "completed"
    },
    "tags": []
   },
   "source": [
    "#### Covariance\n",
    "- Compute covariance with Series, excluding missing values.\n",
    "- **Syntax** <h4>Series.cov(other, min_periods=None, ddof=1)"
   ]
  },
  {
   "cell_type": "code",
   "execution_count": 38,
   "id": "0f2f8424",
   "metadata": {
    "execution": {
     "iopub.execute_input": "2022-09-28T11:47:40.407889Z",
     "iopub.status.busy": "2022-09-28T11:47:40.406919Z",
     "iopub.status.idle": "2022-09-28T11:47:40.415298Z",
     "shell.execute_reply": "2022-09-28T11:47:40.414007Z"
    },
    "papermill": {
     "duration": 0.065104,
     "end_time": "2022-09-28T11:47:40.417284",
     "exception": false,
     "start_time": "2022-09-28T11:47:40.352180",
     "status": "completed"
    },
    "tags": []
   },
   "outputs": [
    {
     "name": "stdout",
     "output_type": "stream",
     "text": [
      "Find covariance of Sereis: -9.857142857142854\n",
      "Find covariance of Sereis: -9.857142857142854\n"
     ]
    }
   ],
   "source": [
    "print(\"Find covariance of Sereis:\",s2.cov(s1))\n",
    "print(\"Find covariance of Sereis:\",s1.cov(s2))"
   ]
  },
  {
   "cell_type": "code",
   "execution_count": 39,
   "id": "93dc6944",
   "metadata": {
    "execution": {
     "iopub.execute_input": "2022-09-28T11:47:40.526127Z",
     "iopub.status.busy": "2022-09-28T11:47:40.525141Z",
     "iopub.status.idle": "2022-09-28T11:47:40.533814Z",
     "shell.execute_reply": "2022-09-28T11:47:40.532473Z"
    },
    "papermill": {
     "duration": 0.065508,
     "end_time": "2022-09-28T11:47:40.536372",
     "exception": false,
     "start_time": "2022-09-28T11:47:40.470864",
     "status": "completed"
    },
    "tags": []
   },
   "outputs": [
    {
     "name": "stdout",
     "output_type": "stream",
     "text": [
      "By Manually: -9.857142857142856\n"
     ]
    }
   ],
   "source": [
    "# storing average of a\n",
    "av_a = sum(s1)/len(s1)\n",
    " \n",
    "# storing average of b\n",
    "av_b = sum(s2)/len(s2)\n",
    " \n",
    "# finding covariance manually\n",
    "def covarfn(a, b, av_a, av_b):\n",
    "    cov = 0\n",
    " \n",
    "    for i in range(0, len(a)):\n",
    "        cov += (a[i] - av_a) * (b[i] - av_b)\n",
    "    return (cov / (len(a)-1))\n",
    " \n",
    "# calling function\n",
    "cov = covarfn(s1, s2, av_a, av_b)\n",
    "\n",
    "print(\"By Manually:\",cov)"
   ]
  },
  {
   "cell_type": "code",
   "execution_count": 40,
   "id": "d2144a89",
   "metadata": {
    "execution": {
     "iopub.execute_input": "2022-09-28T11:47:40.646047Z",
     "iopub.status.busy": "2022-09-28T11:47:40.645077Z",
     "iopub.status.idle": "2022-09-28T11:47:40.653208Z",
     "shell.execute_reply": "2022-09-28T11:47:40.651655Z"
    },
    "papermill": {
     "duration": 0.065581,
     "end_time": "2022-09-28T11:47:40.655768",
     "exception": false,
     "start_time": "2022-09-28T11:47:40.590187",
     "status": "completed"
    },
    "tags": []
   },
   "outputs": [
    {
     "name": "stdout",
     "output_type": "stream",
     "text": [
      "Find covariance of Sereis: 105.42857142857142\n",
      "Find covariance of Sereis: 51.838095238095235\n"
     ]
    }
   ],
   "source": [
    "print(\"Find covariance of Sereis:\",s1.cov(s1))\n",
    "print(\"Find covariance of Sereis:\",s2.cov(s2))"
   ]
  },
  {
   "cell_type": "markdown",
   "id": "526e4b7b",
   "metadata": {
    "papermill": {
     "duration": 0.053755,
     "end_time": "2022-09-28T11:47:40.764144",
     "exception": false,
     "start_time": "2022-09-28T11:47:40.710389",
     "status": "completed"
    },
    "tags": []
   },
   "source": [
    "#### Index Range Of Series:"
   ]
  },
  {
   "cell_type": "code",
   "execution_count": 41,
   "id": "85d14914",
   "metadata": {
    "execution": {
     "iopub.execute_input": "2022-09-28T11:47:40.873903Z",
     "iopub.status.busy": "2022-09-28T11:47:40.872765Z",
     "iopub.status.idle": "2022-09-28T11:47:40.880283Z",
     "shell.execute_reply": "2022-09-28T11:47:40.879195Z"
    },
    "papermill": {
     "duration": 0.064912,
     "end_time": "2022-09-28T11:47:40.882459",
     "exception": false,
     "start_time": "2022-09-28T11:47:40.817547",
     "status": "completed"
    },
    "tags": []
   },
   "outputs": [
    {
     "data": {
      "text/plain": [
       "RangeIndex(start=0, stop=15, step=1)"
      ]
     },
     "execution_count": 41,
     "metadata": {},
     "output_type": "execute_result"
    }
   ],
   "source": [
    "s1.index    #Show Index range of Series"
   ]
  },
  {
   "cell_type": "markdown",
   "id": "74672a46",
   "metadata": {
    "papermill": {
     "duration": 0.053909,
     "end_time": "2022-09-28T11:47:40.990136",
     "exception": false,
     "start_time": "2022-09-28T11:47:40.936227",
     "status": "completed"
    },
    "tags": []
   },
   "source": [
    "## Attributes Practise:\n",
    "### Python | pandas.Series.is_unique:\n",
    "- Return boolean if values in the object are unique.\n",
    "- **Syntax** <h4>property Series.is_unique[source]</h4>\n"
   ]
  },
  {
   "cell_type": "code",
   "execution_count": 42,
   "id": "cce44474",
   "metadata": {
    "execution": {
     "iopub.execute_input": "2022-09-28T11:47:41.100270Z",
     "iopub.status.busy": "2022-09-28T11:47:41.099271Z",
     "iopub.status.idle": "2022-09-28T11:47:41.106729Z",
     "shell.execute_reply": "2022-09-28T11:47:41.105798Z"
    },
    "papermill": {
     "duration": 0.065049,
     "end_time": "2022-09-28T11:47:41.109234",
     "exception": false,
     "start_time": "2022-09-28T11:47:41.044185",
     "status": "completed"
    },
    "tags": []
   },
   "outputs": [
    {
     "name": "stdout",
     "output_type": "stream",
     "text": [
      "Is s1 Unique? False\n",
      "Is s2 Unique? False\n",
      "Is a Unique? True\n"
     ]
    }
   ],
   "source": [
    "print(\"Is s1 Unique?\",s1.is_unique)\n",
    "print(\"Is s2 Unique?\",s2.is_unique)\n",
    "\n",
    "a=pd.Series([1,2,3,4,5,6,7,8,9])\n",
    "print(\"Is a Unique?\",a.is_unique)\n"
   ]
  },
  {
   "cell_type": "markdown",
   "id": "ef39508c",
   "metadata": {
    "papermill": {
     "duration": 0.053926,
     "end_time": "2022-09-28T11:47:41.217390",
     "exception": false,
     "start_time": "2022-09-28T11:47:41.163464",
     "status": "completed"
    },
    "tags": []
   },
   "source": [
    "### Python | pandas.Series.size:\n",
    "- Return the number of elements in the underlying data.\n",
    "- **Syntax** <h4>property Series.size</h4>\n",
    "\n"
   ]
  },
  {
   "cell_type": "code",
   "execution_count": 43,
   "id": "80ae186e",
   "metadata": {
    "execution": {
     "iopub.execute_input": "2022-09-28T11:47:41.326139Z",
     "iopub.status.busy": "2022-09-28T11:47:41.325791Z",
     "iopub.status.idle": "2022-09-28T11:47:41.331086Z",
     "shell.execute_reply": "2022-09-28T11:47:41.330154Z"
    },
    "papermill": {
     "duration": 0.062571,
     "end_time": "2022-09-28T11:47:41.333690",
     "exception": false,
     "start_time": "2022-09-28T11:47:41.271119",
     "status": "completed"
    },
    "tags": []
   },
   "outputs": [
    {
     "name": "stdout",
     "output_type": "stream",
     "text": [
      "Size of s1: 15\n",
      "Size of s1: 15\n",
      "Size of s1: 9\n"
     ]
    }
   ],
   "source": [
    "print(\"Size of s1:\",s1.size)\n",
    "print(\"Size of s1:\",s2.size)\n",
    "print(\"Size of s1:\",a.size)"
   ]
  },
  {
   "cell_type": "markdown",
   "id": "4ef34903",
   "metadata": {
    "papermill": {
     "duration": 0.054002,
     "end_time": "2022-09-28T11:47:41.442165",
     "exception": false,
     "start_time": "2022-09-28T11:47:41.388163",
     "status": "completed"
    },
    "tags": []
   },
   "source": [
    "#### Python | pandas.Series.name:\n",
    "- Return the name of the Series.\n",
    "- **Syntax** <h4>property Series.name</h4>\n",
    "\n",
    "- FOR RENAME WE USE RENAME ATTRIBUTE"
   ]
  },
  {
   "cell_type": "code",
   "execution_count": 44,
   "id": "b0af0f2a",
   "metadata": {
    "execution": {
     "iopub.execute_input": "2022-09-28T11:47:41.553030Z",
     "iopub.status.busy": "2022-09-28T11:47:41.552042Z",
     "iopub.status.idle": "2022-09-28T11:47:41.559232Z",
     "shell.execute_reply": "2022-09-28T11:47:41.558097Z"
    },
    "papermill": {
     "duration": 0.06597,
     "end_time": "2022-09-28T11:47:41.561838",
     "exception": false,
     "start_time": "2022-09-28T11:47:41.495868",
     "status": "completed"
    },
    "tags": []
   },
   "outputs": [
    {
     "name": "stdout",
     "output_type": "stream",
     "text": [
      "0    19\n",
      "1    19\n",
      "2    49\n",
      "3    49\n",
      "4    47\n",
      "Name: First_Series_S1, dtype: int64\n",
      "\n",
      "0    26\n",
      "1    26\n",
      "2    23\n",
      "3    23\n",
      "4    15\n",
      "Name: Second_Series_S2, dtype: int64\n"
     ]
    }
   ],
   "source": [
    "s1.name=\"First_Series_S1\"\n",
    "s2.name=\"Second_Series_S2\"\n",
    "print(s1.head())\n",
    "print()\n",
    "print(s2.head())"
   ]
  },
  {
   "cell_type": "markdown",
   "id": "51e5c574",
   "metadata": {
    "papermill": {
     "duration": 0.054222,
     "end_time": "2022-09-28T11:47:41.670458",
     "exception": false,
     "start_time": "2022-09-28T11:47:41.616236",
     "status": "completed"
    },
    "tags": []
   },
   "source": []
  },
  {
   "cell_type": "code",
   "execution_count": null,
   "id": "17996893",
   "metadata": {
    "papermill": {
     "duration": 0.053383,
     "end_time": "2022-09-28T11:47:41.778692",
     "exception": false,
     "start_time": "2022-09-28T11:47:41.725309",
     "status": "completed"
    },
    "tags": []
   },
   "outputs": [],
   "source": []
  },
  {
   "cell_type": "markdown",
   "id": "01c943a2",
   "metadata": {
    "papermill": {
     "duration": 0.05585,
     "end_time": "2022-09-28T11:47:41.887696",
     "exception": false,
     "start_time": "2022-09-28T11:47:41.831846",
     "status": "completed"
    },
    "tags": []
   },
   "source": [
    "## Other Methods Practise:\n",
    "### Python | Pandas Series.combine_first()\n",
    "- Pandas combine_first() method is used to combine two series into one. The result is union of the two series that is in case of Null value in caller series, the value from passed series is taken. In case of both null values at the same index, null is returned at that index.\n",
    "- **Syntax** <h4>Series.combine_first(other)</h4>\n",
    "- Update null elements with value in the same location in ‘other’.\n",
    "\n"
   ]
  },
  {
   "cell_type": "code",
   "execution_count": 45,
   "id": "7d7070d7",
   "metadata": {
    "execution": {
     "iopub.execute_input": "2022-09-28T11:47:42.000231Z",
     "iopub.status.busy": "2022-09-28T11:47:41.999290Z",
     "iopub.status.idle": "2022-09-28T11:47:42.011142Z",
     "shell.execute_reply": "2022-09-28T11:47:42.009483Z"
    },
    "papermill": {
     "duration": 0.070946,
     "end_time": "2022-09-28T11:47:42.013201",
     "exception": false,
     "start_time": "2022-09-28T11:47:41.942255",
     "status": "completed"
    },
    "tags": []
   },
   "outputs": [
    {
     "name": "stdout",
     "output_type": "stream",
     "text": [
      "Series 1: 0    1.0\n",
      "1    2.0\n",
      "2    3.0\n",
      "3    4.0\n",
      "4    5.0\n",
      "5    NaN\n",
      "dtype: float64\n",
      "\n",
      "Series 2: 0    1.0\n",
      "1    2.0\n",
      "2    3.0\n",
      "3    4.0\n",
      "4    5.0\n",
      "5    NaN\n",
      "dtype: float64\n",
      "\n",
      "Combine List 0    1.0\n",
      "1    2.0\n",
      "2    3.0\n",
      "3    4.0\n",
      "4    5.0\n",
      "5    6.0\n",
      "dtype: float64\n",
      "\n",
      "Combine List if both have none value at same place 0    1.0\n",
      "1    2.0\n",
      "2    3.0\n",
      "3    4.0\n",
      "4    5.0\n",
      "5    NaN\n",
      "dtype: float64\n"
     ]
    }
   ],
   "source": [
    "a=pd.Series([1,2,3,4,5,np.nan])\n",
    "b=pd.Series([1,2,3,4,5,6])\n",
    "\n",
    "\n",
    "print(\"Series 1:\",a)\n",
    "print(\"\\nSeries 2:\",a)\n",
    "print(\"\\nCombine List\",a.combine_first(b))\n",
    "print(\"\\nCombine List if both have none value at same place\",a.combine_first(a))\n"
   ]
  },
  {
   "cell_type": "markdown",
   "id": "d1d3fb3e",
   "metadata": {
    "papermill": {
     "duration": 0.054973,
     "end_time": "2022-09-28T11:47:42.122717",
     "exception": false,
     "start_time": "2022-09-28T11:47:42.067744",
     "status": "completed"
    },
    "tags": []
   },
   "source": [
    "### Python | Pandas Series.count():\n",
    "- Return number of non-NA/null observations in the Series.\n",
    "- **Syntax** <h4>Series.count(level=None)[source]\n"
   ]
  },
  {
   "cell_type": "code",
   "execution_count": 46,
   "id": "6db2d8b5",
   "metadata": {
    "execution": {
     "iopub.execute_input": "2022-09-28T11:47:42.232940Z",
     "iopub.status.busy": "2022-09-28T11:47:42.232547Z",
     "iopub.status.idle": "2022-09-28T11:47:42.238229Z",
     "shell.execute_reply": "2022-09-28T11:47:42.237270Z"
    },
    "papermill": {
     "duration": 0.062953,
     "end_time": "2022-09-28T11:47:42.240761",
     "exception": false,
     "start_time": "2022-09-28T11:47:42.177808",
     "status": "completed"
    },
    "tags": []
   },
   "outputs": [
    {
     "name": "stdout",
     "output_type": "stream",
     "text": [
      "Length of Series: 6\n",
      "Count of Non-NULL(NaN) value: 5\n",
      "Count of NULL value: 1\n"
     ]
    }
   ],
   "source": [
    "print(\"Length of Series:\",len(a))\n",
    "print(\"Count of Non-NULL(NaN) value:\",a.count())\n",
    "print(\"Count of NULL value:\",len(a)-a.count())"
   ]
  },
  {
   "cell_type": "markdown",
   "id": "9c209582",
   "metadata": {
    "papermill": {
     "duration": 0.053106,
     "end_time": "2022-09-28T11:47:42.348400",
     "exception": false,
     "start_time": "2022-09-28T11:47:42.295294",
     "status": "completed"
    },
    "tags": []
   },
   "source": [
    "### Python | pandas.Series.sort_values():\n",
    "- Sort by the values.\n",
    "    - Sort a Series in ascending or descending order by some criterion.\n",
    "- **Syntax** <h4>Series.sort_values(axis=0, ascending=True, inplace=False, kind='quicksort', na_position='last', ignore_index=False, key=None)\n"
   ]
  },
  {
   "cell_type": "code",
   "execution_count": 47,
   "id": "42b07178",
   "metadata": {
    "execution": {
     "iopub.execute_input": "2022-09-28T11:47:42.500556Z",
     "iopub.status.busy": "2022-09-28T11:47:42.499258Z",
     "iopub.status.idle": "2022-09-28T11:47:42.509142Z",
     "shell.execute_reply": "2022-09-28T11:47:42.508115Z"
    },
    "papermill": {
     "duration": 0.067766,
     "end_time": "2022-09-28T11:47:42.511406",
     "exception": false,
     "start_time": "2022-09-28T11:47:42.443640",
     "status": "completed"
    },
    "tags": []
   },
   "outputs": [
    {
     "name": "stdout",
     "output_type": "stream",
     "text": [
      "Sorting values by values of Series:\n",
      " 0     19\n",
      "1     19\n",
      "14    29\n",
      "10    32\n",
      "11    32\n",
      "12    34\n",
      "13    34\n",
      "8     35\n",
      "9     35\n",
      "4     47\n",
      "5     47\n",
      "6     47\n",
      "7     47\n",
      "2     49\n",
      "3     49\n",
      "Name: First_Series_S1, dtype: int64\n"
     ]
    }
   ],
   "source": [
    "print(\"Sorting values by values of Series:\\n\",s1.sort_values(ascending=True))"
   ]
  },
  {
   "cell_type": "code",
   "execution_count": 48,
   "id": "26f0ea5c",
   "metadata": {
    "execution": {
     "iopub.execute_input": "2022-09-28T11:47:42.630980Z",
     "iopub.status.busy": "2022-09-28T11:47:42.629981Z",
     "iopub.status.idle": "2022-09-28T11:47:42.637487Z",
     "shell.execute_reply": "2022-09-28T11:47:42.635968Z"
    },
    "papermill": {
     "duration": 0.066302,
     "end_time": "2022-09-28T11:47:42.640093",
     "exception": false,
     "start_time": "2022-09-28T11:47:42.573791",
     "status": "completed"
    },
    "tags": []
   },
   "outputs": [
    {
     "name": "stdout",
     "output_type": "stream",
     "text": [
      "Sorting values by values of Series:\n",
      " 2     49\n",
      "3     49\n",
      "4     47\n",
      "5     47\n",
      "6     47\n",
      "7     47\n",
      "8     35\n",
      "9     35\n",
      "12    34\n",
      "13    34\n",
      "10    32\n",
      "11    32\n",
      "14    29\n",
      "0     19\n",
      "1     19\n",
      "Name: First_Series_S1, dtype: int64\n"
     ]
    }
   ],
   "source": [
    "print(\"Sorting values by values of Series:\\n\",s1.sort_values(ascending=False))"
   ]
  },
  {
   "cell_type": "markdown",
   "id": "91a3f7c0",
   "metadata": {
    "papermill": {
     "duration": 0.053221,
     "end_time": "2022-09-28T11:47:42.747760",
     "exception": false,
     "start_time": "2022-09-28T11:47:42.694539",
     "status": "completed"
    },
    "tags": []
   },
   "source": [
    "- Returns a new Series sorted by label if inplace argument is False, otherwise updates the original series and returns None"
   ]
  },
  {
   "cell_type": "code",
   "execution_count": 49,
   "id": "c8164cc8",
   "metadata": {
    "execution": {
     "iopub.execute_input": "2022-09-28T11:47:42.857183Z",
     "iopub.status.busy": "2022-09-28T11:47:42.856828Z",
     "iopub.status.idle": "2022-09-28T11:47:42.863025Z",
     "shell.execute_reply": "2022-09-28T11:47:42.862064Z"
    },
    "papermill": {
     "duration": 0.064355,
     "end_time": "2022-09-28T11:47:42.866051",
     "exception": false,
     "start_time": "2022-09-28T11:47:42.801696",
     "status": "completed"
    },
    "tags": []
   },
   "outputs": [
    {
     "name": "stdout",
     "output_type": "stream",
     "text": [
      "Print 'None'(Reason above): None\n",
      "2     49\n",
      "3     49\n",
      "4     47\n",
      "5     47\n",
      "6     47\n",
      "7     47\n",
      "8     35\n",
      "9     35\n",
      "12    34\n",
      "13    34\n",
      "10    32\n",
      "11    32\n",
      "14    29\n",
      "0     19\n",
      "1     19\n",
      "Name: First_Series_S1, dtype: int64\n"
     ]
    }
   ],
   "source": [
    "print(\"Print 'None'(Reason above):\",s1.sort_values(ascending=False,inplace=True))\n",
    "print(s1)"
   ]
  },
  {
   "cell_type": "code",
   "execution_count": 50,
   "id": "dfebf582",
   "metadata": {
    "execution": {
     "iopub.execute_input": "2022-09-28T11:47:42.978331Z",
     "iopub.status.busy": "2022-09-28T11:47:42.977211Z",
     "iopub.status.idle": "2022-09-28T11:47:42.986862Z",
     "shell.execute_reply": "2022-09-28T11:47:42.985674Z"
    },
    "papermill": {
     "duration": 0.068235,
     "end_time": "2022-09-28T11:47:42.990000",
     "exception": false,
     "start_time": "2022-09-28T11:47:42.921765",
     "status": "completed"
    },
    "tags": []
   },
   "outputs": [
    {
     "name": "stdout",
     "output_type": "stream",
     "text": [
      "Sorting values by values of Series:\n",
      " 3    NaN\n",
      "6    NaN\n",
      "0    1.0\n",
      "1    2.0\n",
      "2    3.0\n",
      "5    4.0\n",
      "8    4.0\n",
      "4    5.0\n",
      "7    6.0\n",
      "dtype: float64\n",
      "Sorting values by values of Series:\n",
      " 0    1.0\n",
      "1    2.0\n",
      "2    3.0\n",
      "5    4.0\n",
      "8    4.0\n",
      "4    5.0\n",
      "7    6.0\n",
      "3    NaN\n",
      "6    NaN\n",
      "dtype: float64\n"
     ]
    }
   ],
   "source": [
    "a=pd.Series([1,2,3,np.nan,5,4,np.nan,6,4])\n",
    "print(\"Sorting values by values of Series:\\n\",a.sort_values(ascending=True,na_position='first'))\n",
    "print(\"Sorting values by values of Series:\\n\",a.sort_values(ascending=True,na_position='last'))"
   ]
  },
  {
   "cell_type": "code",
   "execution_count": 51,
   "id": "df1fbf7c",
   "metadata": {
    "execution": {
     "iopub.execute_input": "2022-09-28T11:47:43.100868Z",
     "iopub.status.busy": "2022-09-28T11:47:43.099900Z",
     "iopub.status.idle": "2022-09-28T11:47:43.107759Z",
     "shell.execute_reply": "2022-09-28T11:47:43.106387Z"
    },
    "papermill": {
     "duration": 0.064853,
     "end_time": "2022-09-28T11:47:43.109791",
     "exception": false,
     "start_time": "2022-09-28T11:47:43.044938",
     "status": "completed"
    },
    "tags": []
   },
   "outputs": [
    {
     "name": "stdout",
     "output_type": "stream",
     "text": [
      "Sorting values by values of Series:\n",
      " 3    a\n",
      "1    b\n",
      "4    c\n",
      "2    d\n",
      "0    z\n",
      "dtype: object\n"
     ]
    }
   ],
   "source": [
    "test = pd.Series(['z', 'b', 'd', 'a', 'c'])\n",
    "print(\"Sorting values by values of Series:\\n\",test.sort_values())\n"
   ]
  },
  {
   "cell_type": "code",
   "execution_count": 52,
   "id": "b36a0b47",
   "metadata": {
    "execution": {
     "iopub.execute_input": "2022-09-28T11:47:43.231632Z",
     "iopub.status.busy": "2022-09-28T11:47:43.231250Z",
     "iopub.status.idle": "2022-09-28T11:47:43.241106Z",
     "shell.execute_reply": "2022-09-28T11:47:43.239336Z"
    },
    "papermill": {
     "duration": 0.069909,
     "end_time": "2022-09-28T11:47:43.243562",
     "exception": false,
     "start_time": "2022-09-28T11:47:43.173653",
     "status": "completed"
    },
    "tags": []
   },
   "outputs": [
    {
     "name": "stdout",
     "output_type": "stream",
     "text": [
      "Before:\n",
      " 1     B\n",
      "3     D\n",
      "7     F\n",
      "8     I\n",
      "0     a\n",
      "2     c\n",
      "4     e\n",
      "5     g\n",
      "6     h\n",
      "9     j\n",
      "10    k\n",
      "dtype: object\n",
      "\n",
      "After:\n",
      " 0     a\n",
      "1     B\n",
      "2     c\n",
      "3     D\n",
      "4     e\n",
      "7     F\n",
      "5     g\n",
      "6     h\n",
      "8     I\n",
      "9     j\n",
      "10    k\n",
      "dtype: object\n"
     ]
    }
   ],
   "source": [
    "s = pd.Series(['a', 'B', 'c', 'D', 'e','g','h','F','I','j','k',])\n",
    "print(\"Before:\\n\",s.sort_values())\n",
    "print(\"\\nAfter:\\n\",s.sort_values(key=lambda x: x.str.lower()))"
   ]
  },
  {
   "cell_type": "code",
   "execution_count": 53,
   "id": "f296c4ad",
   "metadata": {
    "execution": {
     "iopub.execute_input": "2022-09-28T11:47:43.355244Z",
     "iopub.status.busy": "2022-09-28T11:47:43.354306Z",
     "iopub.status.idle": "2022-09-28T11:47:43.365393Z",
     "shell.execute_reply": "2022-09-28T11:47:43.364114Z"
    },
    "papermill": {
     "duration": 0.068136,
     "end_time": "2022-09-28T11:47:43.367556",
     "exception": false,
     "start_time": "2022-09-28T11:47:43.299420",
     "status": "completed"
    },
    "tags": []
   },
   "outputs": [
    {
     "data": {
      "text/plain": [
       "1   -2\n",
       "4    4\n",
       "2    0\n",
       "0   -4\n",
       "3    2\n",
       "dtype: int64"
      ]
     },
     "execution_count": 53,
     "metadata": {},
     "output_type": "execute_result"
    }
   ],
   "source": [
    "\"\"\"NumPy ufuncs work well here. For example, we can sort by the sin of the value\"\"\"\n",
    "s = pd.Series([-4, -2, 0, 2, 4])\n",
    "s.sort_values(key=np.sin)"
   ]
  },
  {
   "cell_type": "code",
   "execution_count": 54,
   "id": "66333026",
   "metadata": {
    "execution": {
     "iopub.execute_input": "2022-09-28T11:47:43.480147Z",
     "iopub.status.busy": "2022-09-28T11:47:43.479223Z",
     "iopub.status.idle": "2022-09-28T11:47:43.488029Z",
     "shell.execute_reply": "2022-09-28T11:47:43.486926Z"
    },
    "papermill": {
     "duration": 0.066014,
     "end_time": "2022-09-28T11:47:43.490123",
     "exception": false,
     "start_time": "2022-09-28T11:47:43.424109",
     "status": "completed"
    },
    "tags": []
   },
   "outputs": [
    {
     "data": {
      "text/plain": [
       "0   -4\n",
       "3    2\n",
       "4    4\n",
       "1   -2\n",
       "2    0\n",
       "dtype: int64"
      ]
     },
     "execution_count": 54,
     "metadata": {},
     "output_type": "execute_result"
    }
   ],
   "source": [
    "\"\"\"More complicated user-defined functions can be used, as long as they expect\n",
    "a Series and return an array-like\"\"\"\n",
    "\n",
    "s.sort_values(key=lambda x: (np.tan(x.cumsum())))"
   ]
  },
  {
   "cell_type": "markdown",
   "id": "383ada49",
   "metadata": {
    "papermill": {
     "duration": 0.054651,
     "end_time": "2022-09-28T11:47:43.600526",
     "exception": false,
     "start_time": "2022-09-28T11:47:43.545875",
     "status": "completed"
    },
    "tags": []
   },
   "source": [
    "### Python | pandas.Series.sort_index():\n",
    "- Sort Series by index labels.\n",
    "- Returns a new Series sorted by label if inplace argument is **False**, otherwise updates the original series and returns **None**\n",
    "- **Syntax** <h4>Series.sort_index(axis=0, level=None, ascending=True, inplace=False, kind='quicksort', na_position='last', sort_remaining=True, ignore_index=False, key=None)"
   ]
  },
  {
   "cell_type": "code",
   "execution_count": 55,
   "id": "81d3b3cc",
   "metadata": {
    "execution": {
     "iopub.execute_input": "2022-09-28T11:47:43.710177Z",
     "iopub.status.busy": "2022-09-28T11:47:43.709217Z",
     "iopub.status.idle": "2022-09-28T11:47:43.721390Z",
     "shell.execute_reply": "2022-09-28T11:47:43.720416Z"
    },
    "papermill": {
     "duration": 0.06963,
     "end_time": "2022-09-28T11:47:43.723354",
     "exception": false,
     "start_time": "2022-09-28T11:47:43.653724",
     "status": "completed"
    },
    "tags": []
   },
   "outputs": [
    {
     "name": "stdout",
     "output_type": "stream",
     "text": [
      "Before :\n",
      " 3    a\n",
      "2    b\n",
      "1    c\n",
      "4    d\n",
      "dtype: object\n"
     ]
    },
    {
     "data": {
      "text/plain": [
       "1    c\n",
       "2    b\n",
       "3    a\n",
       "4    d\n",
       "dtype: object"
      ]
     },
     "execution_count": 55,
     "metadata": {},
     "output_type": "execute_result"
    }
   ],
   "source": [
    "s = pd.Series(['a', 'b', 'c', 'd'], index=[3, 2, 1, 4])\n",
    "print(\"Before :\\n\",s)\n",
    "s.sort_index()"
   ]
  },
  {
   "cell_type": "code",
   "execution_count": 56,
   "id": "28210994",
   "metadata": {
    "execution": {
     "iopub.execute_input": "2022-09-28T11:47:43.834300Z",
     "iopub.status.busy": "2022-09-28T11:47:43.833945Z",
     "iopub.status.idle": "2022-09-28T11:47:43.842255Z",
     "shell.execute_reply": "2022-09-28T11:47:43.841297Z"
    },
    "papermill": {
     "duration": 0.066818,
     "end_time": "2022-09-28T11:47:43.844477",
     "exception": false,
     "start_time": "2022-09-28T11:47:43.777659",
     "status": "completed"
    },
    "tags": []
   },
   "outputs": [
    {
     "data": {
      "text/plain": [
       "4    d\n",
       "3    a\n",
       "2    b\n",
       "1    c\n",
       "dtype: object"
      ]
     },
     "execution_count": 56,
     "metadata": {},
     "output_type": "execute_result"
    }
   ],
   "source": [
    "s.sort_index(ascending=False)"
   ]
  },
  {
   "cell_type": "code",
   "execution_count": 57,
   "id": "a3207287",
   "metadata": {
    "execution": {
     "iopub.execute_input": "2022-09-28T11:47:43.956235Z",
     "iopub.status.busy": "2022-09-28T11:47:43.955118Z",
     "iopub.status.idle": "2022-09-28T11:47:43.962474Z",
     "shell.execute_reply": "2022-09-28T11:47:43.961498Z"
    },
    "papermill": {
     "duration": 0.066101,
     "end_time": "2022-09-28T11:47:43.965463",
     "exception": false,
     "start_time": "2022-09-28T11:47:43.899362",
     "status": "completed"
    },
    "tags": []
   },
   "outputs": [
    {
     "name": "stdout",
     "output_type": "stream",
     "text": [
      "None\n",
      "1    c\n",
      "2    b\n",
      "3    a\n",
      "4    d\n",
      "dtype: object\n"
     ]
    }
   ],
   "source": [
    "\"\"\"Returns a new Series sorted by label if inplace argument is False, \n",
    "otherwise updates the original series and returns None\"\"\"\n",
    "\n",
    "print(s.sort_index(inplace=True))\n",
    "print(s)"
   ]
  },
  {
   "cell_type": "code",
   "execution_count": 58,
   "id": "ffdfa1ca",
   "metadata": {
    "execution": {
     "iopub.execute_input": "2022-09-28T11:47:44.078325Z",
     "iopub.status.busy": "2022-09-28T11:47:44.077266Z",
     "iopub.status.idle": "2022-09-28T11:47:44.086946Z",
     "shell.execute_reply": "2022-09-28T11:47:44.085876Z"
    },
    "papermill": {
     "duration": 0.067575,
     "end_time": "2022-09-28T11:47:44.089053",
     "exception": false,
     "start_time": "2022-09-28T11:47:44.021478",
     "status": "completed"
    },
    "tags": []
   },
   "outputs": [
    {
     "data": {
      "text/plain": [
       "NaN    d\n",
       "1.0    c\n",
       "2.0    b\n",
       "3.0    a\n",
       "dtype: object"
      ]
     },
     "execution_count": 58,
     "metadata": {},
     "output_type": "execute_result"
    }
   ],
   "source": [
    "s = pd.Series(['a', 'b', 'c', 'd'], index=[3, 2, 1, np.nan])\n",
    "s.sort_index(na_position='first')"
   ]
  },
  {
   "cell_type": "code",
   "execution_count": 59,
   "id": "951f8874",
   "metadata": {
    "execution": {
     "iopub.execute_input": "2022-09-28T11:47:44.202149Z",
     "iopub.status.busy": "2022-09-28T11:47:44.201799Z",
     "iopub.status.idle": "2022-09-28T11:47:44.218273Z",
     "shell.execute_reply": "2022-09-28T11:47:44.217151Z"
    },
    "papermill": {
     "duration": 0.075089,
     "end_time": "2022-09-28T11:47:44.221041",
     "exception": false,
     "start_time": "2022-09-28T11:47:44.145952",
     "status": "completed"
    },
    "tags": []
   },
   "outputs": [
    {
     "name": "stdout",
     "output_type": "stream",
     "text": [
      "Print By level 1:\n",
      " bar  one    8\n",
      "baz  one    6\n",
      "foo  one    4\n",
      "qux  one    2\n",
      "bar  two    7\n",
      "baz  two    5\n",
      "foo  two    3\n",
      "qux  two    1\n",
      "dtype: int64\n",
      "\n",
      "Print By level 2:\n",
      " bar  one    8\n",
      "     two    7\n",
      "baz  one    6\n",
      "     two    5\n",
      "foo  one    4\n",
      "     two    3\n",
      "qux  one    2\n",
      "     two    1\n",
      "dtype: int64\n"
     ]
    }
   ],
   "source": [
    "arrays = [np.array(['qux', 'qux', 'foo', 'foo',\n",
    "                    'baz', 'baz', 'bar', 'bar']),\n",
    "          np.array(['two', 'one', 'two', 'one',\n",
    "                    'two', 'one', 'two', 'one'])]\n",
    "#2-D array index\n",
    "s = pd.Series([1, 2, 3, 4, 5, 6, 7, 8], index=arrays)\n",
    "print(\"Print By level 1:\\n\",s.sort_index(level=1))\n",
    "print(\"\\nPrint By level 2:\\n\",s.sort_index(level=0))"
   ]
  },
  {
   "cell_type": "code",
   "execution_count": 60,
   "id": "e6bbf9d0",
   "metadata": {
    "execution": {
     "iopub.execute_input": "2022-09-28T11:47:44.334860Z",
     "iopub.status.busy": "2022-09-28T11:47:44.333120Z",
     "iopub.status.idle": "2022-09-28T11:47:44.342661Z",
     "shell.execute_reply": "2022-09-28T11:47:44.341627Z"
    },
    "papermill": {
     "duration": 0.067972,
     "end_time": "2022-09-28T11:47:44.344736",
     "exception": false,
     "start_time": "2022-09-28T11:47:44.276764",
     "status": "completed"
    },
    "tags": []
   },
   "outputs": [
    {
     "data": {
      "text/plain": [
       "qux  one    2\n",
       "foo  one    4\n",
       "baz  one    6\n",
       "bar  one    8\n",
       "qux  two    1\n",
       "foo  two    3\n",
       "baz  two    5\n",
       "bar  two    7\n",
       "dtype: int64"
      ]
     },
     "execution_count": 60,
     "metadata": {},
     "output_type": "execute_result"
    }
   ],
   "source": [
    "s.sort_index(level=1, sort_remaining=False)"
   ]
  },
  {
   "cell_type": "code",
   "execution_count": 61,
   "id": "e91afb49",
   "metadata": {
    "execution": {
     "iopub.execute_input": "2022-09-28T11:47:44.456253Z",
     "iopub.status.busy": "2022-09-28T11:47:44.455330Z",
     "iopub.status.idle": "2022-09-28T11:47:44.464618Z",
     "shell.execute_reply": "2022-09-28T11:47:44.463667Z"
    },
    "papermill": {
     "duration": 0.066896,
     "end_time": "2022-09-28T11:47:44.466531",
     "exception": false,
     "start_time": "2022-09-28T11:47:44.399635",
     "status": "completed"
    },
    "tags": []
   },
   "outputs": [
    {
     "data": {
      "text/plain": [
       "A    1\n",
       "b    2\n",
       "C    3\n",
       "d    4\n",
       "dtype: int64"
      ]
     },
     "execution_count": 61,
     "metadata": {},
     "output_type": "execute_result"
    }
   ],
   "source": [
    "s = pd.Series([1, 2, 3, 4], index=['A', 'b', 'C', 'd'])\n",
    "s.sort_index(key=lambda x : x.str.lower())"
   ]
  },
  {
   "cell_type": "markdown",
   "id": "8591651d",
   "metadata": {
    "papermill": {
     "duration": 0.054253,
     "end_time": "2022-09-28T11:47:44.575469",
     "exception": false,
     "start_time": "2022-09-28T11:47:44.521216",
     "status": "completed"
    },
    "tags": []
   },
   "source": [
    "# NOTE FOR ALL THE METHODS & ATTRIBUTE VISIT \n",
    "https://pandas.pydata.org/docs/reference/api/pandas.Series.html#pandas.Series\n",
    "***"
   ]
  },
  {
   "cell_type": "markdown",
   "id": "d47e11bd",
   "metadata": {
    "papermill": {
     "duration": 0.054983,
     "end_time": "2022-09-28T11:47:44.685746",
     "exception": false,
     "start_time": "2022-09-28T11:47:44.630763",
     "status": "completed"
    },
    "tags": []
   },
   "source": [
    "***\n",
    "# 2. pandas.DataFrame(): \n",
    "- DataFrame is a 2-dimensional labeled data structure with columns of potentially different types. You can think of it like a **spreadsheet** or **SQL table**, or a dict of Series objects. It is generally the most commonly used pandas object.\n",
    "\n",
    "- **Like Series, DataFrame accepts many different kinds of input:**\n",
    "\n",
    "    - Dict of 1D ndarrays, lists, dicts, or Series\n",
    "    - 2-D numpy.ndarray\n",
    "    - Structured or record ndarray\n",
    "    - A Series\n",
    "    - Another DataFrame\n",
    "    \n",
    "Along with the data, you can optionally pass index (row labels) and columns (column labels) arguments. If you pass an index and / or columns, you are guaranteeing the index and / or columns of the resulting DataFrame. Thus, a dict of Series plus a specific index will discard all data not matching up to the passed index.\n",
    "\n",
    "If axis labels are not passed, they will be constructed from the input data based on common sense rules.\n",
    "\n",
    "- **Syntex:** <h3>class pandas.DataFrame(data=None, index=None, columns=None, dtype=None, copy=None)</h3>\n",
    "![](https://media.geeksforgeeks.org/wp-content/uploads/finallpandas.png)\n",
    "\n",
    "\n",
    "### Attributes of DataFrame:\n",
    "***\n",
    "<table class=\"autosummary longtable table autosummary\">\n",
    "<colgroup>\n",
    "<col style=\"width: 10%\">\n",
    "<col style=\"width: 90%\">\n",
    "</colgroup>\n",
    "<tbody>\n",
    "<tr class=\"row-odd\"><td><p><a class=\"reference internal\" href=\"https://pandas.pydata.org/docs/reference/api/pandas.DataFrame.at.html#pandas.DataFrame.at\" title=\"pandas.DataFrame.at\"><code class=\"xref py py-obj docutils literal notranslate\"><span class=\"pre\">at</span></code></a></p></td>\n",
    "<td><p>Access a single value for a row/column label pair.</p></td>\n",
    "</tr>\n",
    "<tr class=\"row-even\"><td><p><a class=\"reference internal\" href=\"pandas.DataFrame.attrs.html#pandas.DataFrame.attrs\" title=\"pandas.DataFrame.attrs\"><code class=\"xref py py-obj docutils literal notranslate\"><span class=\"pre\">attrs</span></code></a></p></td>\n",
    "<td><p>Dictionary of global attributes of this dataset.</p></td>\n",
    "</tr>\n",
    "<tr class=\"row-odd\"><td><p><a class=\"reference internal\" href=\"pandas.DataFrame.axes.html#pandas.DataFrame.axes\" title=\"pandas.DataFrame.axes\"><code class=\"xref py py-obj docutils literal notranslate\"><span class=\"pre\">axes</span></code></a></p></td>\n",
    "<td><p>Return a list representing the axes of the DataFrame.</p></td>\n",
    "</tr>\n",
    "<tr class=\"row-even\"><td><p><a class=\"reference internal\" href=\"pandas.DataFrame.columns.html#pandas.DataFrame.columns\" title=\"pandas.DataFrame.columns\"><code class=\"xref py py-obj docutils literal notranslate\"><span class=\"pre\">columns</span></code></a></p></td>\n",
    "<td><p>The column labels of the DataFrame.</p></td>\n",
    "</tr>\n",
    "<tr class=\"row-odd\"><td><p><a class=\"reference internal\" href=\"pandas.DataFrame.dtypes.html#pandas.DataFrame.dtypes\" title=\"pandas.DataFrame.dtypes\"><code class=\"xref py py-obj docutils literal notranslate\"><span class=\"pre\">dtypes</span></code></a></p></td>\n",
    "<td><p>Return the dtypes in the DataFrame.</p></td>\n",
    "</tr>\n",
    "<tr class=\"row-even\"><td><p><a class=\"reference internal\" href=\"pandas.DataFrame.empty.html#pandas.DataFrame.empty\" title=\"pandas.DataFrame.empty\"><code class=\"xref py py-obj docutils literal notranslate\"><span class=\"pre\">empty</span></code></a></p></td>\n",
    "<td><p>Indicator whether Series/DataFrame is empty.</p></td>\n",
    "</tr>\n",
    "<tr class=\"row-odd\"><td><p><a class=\"reference internal\" href=\"pandas.DataFrame.flags.html#pandas.DataFrame.flags\" title=\"pandas.DataFrame.flags\"><code class=\"xref py py-obj docutils literal notranslate\"><span class=\"pre\">flags</span></code></a></p></td>\n",
    "<td><p>Get the properties associated with this pandas object.</p></td>\n",
    "</tr>\n",
    "<tr class=\"row-even\"><td><p><a class=\"reference internal\" href=\"pandas.DataFrame.iat.html#pandas.DataFrame.iat\" title=\"pandas.DataFrame.iat\"><code class=\"xref py py-obj docutils literal notranslate\"><span class=\"pre\">iat</span></code></a></p></td>\n",
    "<td><p>Access a single value for a row/column pair by integer position.</p></td>\n",
    "</tr>\n",
    "<tr class=\"row-odd\"><td><p><a class=\"reference internal\" href=\"pandas.DataFrame.iloc.html#pandas.DataFrame.iloc\" title=\"pandas.DataFrame.iloc\"><code class=\"xref py py-obj docutils literal notranslate\"><span class=\"pre\">iloc</span></code></a></p></td>\n",
    "<td><p>Purely integer-location based indexing for selection by position.</p></td>\n",
    "</tr>\n",
    "<tr class=\"row-even\"><td><p><a class=\"reference internal\" href=\"pandas.DataFrame.index.html#pandas.DataFrame.index\" title=\"pandas.DataFrame.index\"><code class=\"xref py py-obj docutils literal notranslate\"><span class=\"pre\">index</span></code></a></p></td>\n",
    "<td><p>The index (row labels) of the DataFrame.</p></td>\n",
    "</tr>\n",
    "<tr class=\"row-odd\"><td><p><a class=\"reference internal\" href=\"pandas.DataFrame.loc.html#pandas.DataFrame.loc\" title=\"pandas.DataFrame.loc\"><code class=\"xref py py-obj docutils literal notranslate\"><span class=\"pre\">loc</span></code></a></p></td>\n",
    "<td><p>Access a group of rows and columns by label(s) or a boolean array.</p></td>\n",
    "</tr>\n",
    "<tr class=\"row-even\"><td><p><a class=\"reference internal\" href=\"pandas.DataFrame.ndim.html#pandas.DataFrame.ndim\" title=\"pandas.DataFrame.ndim\"><code class=\"xref py py-obj docutils literal notranslate\"><span class=\"pre\">ndim</span></code></a></p></td>\n",
    "<td><p>Return an int representing the number of axes / array dimensions.</p></td>\n",
    "</tr>\n",
    "<tr class=\"row-odd\"><td><p><a class=\"reference internal\" href=\"pandas.DataFrame.shape.html#pandas.DataFrame.shape\" title=\"pandas.DataFrame.shape\"><code class=\"xref py py-obj docutils literal notranslate\"><span class=\"pre\">shape</span></code></a></p></td>\n",
    "<td><p>Return a tuple representing the dimensionality of the DataFrame.</p></td>\n",
    "</tr>\n",
    "<tr class=\"row-even\"><td><p><a class=\"reference internal\" href=\"pandas.DataFrame.size.html#pandas.DataFrame.size\" title=\"pandas.DataFrame.size\"><code class=\"xref py py-obj docutils literal notranslate\"><span class=\"pre\">size</span></code></a></p></td>\n",
    "<td><p>Return an int representing the number of elements in this object.</p></td>\n",
    "</tr>\n",
    "<tr class=\"row-odd\"><td><p><a class=\"reference internal\" href=\"pandas.DataFrame.style.html#pandas.DataFrame.style\" title=\"pandas.DataFrame.style\"><code class=\"xref py py-obj docutils literal notranslate\"><span class=\"pre\">style</span></code></a></p></td>\n",
    "<td><p>Returns a Styler object.</p></td>\n",
    "</tr>\n",
    "<tr class=\"row-even\"><td><p><a class=\"reference internal\" href=\"pandas.DataFrame.values.html#pandas.DataFrame.values\" title=\"pandas.DataFrame.values\"><code class=\"xref py py-obj docutils literal notranslate\"><span class=\"pre\">values</span></code></a></p></td>\n",
    "<td><p>Return a Numpy representation of the DataFrame.</p></td>\n",
    "</tr>\n",
    "</tbody>\n",
    "</table>\n",
    "\n",
    "### Methods of DataFrame:\n",
    "***\n",
    "<dd> \n",
    "<table class=\"autosummary longtable table autosummary\">\n",
    "<colgroup>\n",
    "<col style=\"width: 10%\">\n",
    "<col style=\"width: 90%\">\n",
    "</colgroup>\n",
    "<tbody>\n",
    "<tr class=\"row-odd\"><td><p><a class=\"reference internal\" href=\"pandas.DataFrame.abs.html#pandas.DataFrame.abs\" title=\"pandas.DataFrame.abs\"><code class=\"xref py py-obj docutils literal notranslate\"><span class=\"pre\">abs</span></code></a>()</p></td>\n",
    "<td><p>Return a Series/DataFrame with absolute numeric value of each element.</p></td>\n",
    "</tr>\n",
    "<tr class=\"row-even\"><td><p><a class=\"reference internal\" href=\"pandas.DataFrame.add.html#pandas.DataFrame.add\" title=\"pandas.DataFrame.add\"><code class=\"xref py py-obj docutils literal notranslate\"><span class=\"pre\">add</span></code></a>(other[,&nbsp;axis,&nbsp;level,&nbsp;fill_value])</p></td>\n",
    "<td><p>Get Addition of dataframe and other, element-wise (binary operator <cite>add</cite>).</p></td>\n",
    "</tr>\n",
    "<tr class=\"row-odd\"><td><p><a class=\"reference internal\" href=\"pandas.DataFrame.add_prefix.html#pandas.DataFrame.add_prefix\" title=\"pandas.DataFrame.add_prefix\"><code class=\"xref py py-obj docutils literal notranslate\"><span class=\"pre\">add_prefix</span></code></a>(prefix)</p></td>\n",
    "<td><p>Prefix labels with string <cite>prefix</cite>.</p></td>\n",
    "</tr>\n",
    "<tr class=\"row-even\"><td><p><a class=\"reference internal\" href=\"pandas.DataFrame.add_suffix.html#pandas.DataFrame.add_suffix\" title=\"pandas.DataFrame.add_suffix\"><code class=\"xref py py-obj docutils literal notranslate\"><span class=\"pre\">add_suffix</span></code></a>(suffix)</p></td>\n",
    "<td><p>Suffix labels with string <cite>suffix</cite>.</p></td>\n",
    "</tr>\n",
    "<tr class=\"row-odd\"><td><p><a class=\"reference internal\" href=\"pandas.DataFrame.agg.html#pandas.DataFrame.agg\" title=\"pandas.DataFrame.agg\"><code class=\"xref py py-obj docutils literal notranslate\"><span class=\"pre\">agg</span></code></a>([func,&nbsp;axis])</p></td>\n",
    "<td><p>Aggregate using one or more operations over the specified axis.</p></td>\n",
    "</tr>\n",
    "<tr class=\"row-even\"><td><p><a class=\"reference internal\" href=\"pandas.DataFrame.aggregate.html#pandas.DataFrame.aggregate\" title=\"pandas.DataFrame.aggregate\"><code class=\"xref py py-obj docutils literal notranslate\"><span class=\"pre\">aggregate</span></code></a>([func,&nbsp;axis])</p></td>\n",
    "<td><p>Aggregate using one or more operations over the specified axis.</p></td>\n",
    "</tr>\n",
    "<tr class=\"row-odd\"><td><p><a class=\"reference internal\" href=\"pandas.DataFrame.align.html#pandas.DataFrame.align\" title=\"pandas.DataFrame.align\"><code class=\"xref py py-obj docutils literal notranslate\"><span class=\"pre\">align</span></code></a>(other[,&nbsp;join,&nbsp;axis,&nbsp;level,&nbsp;copy,&nbsp;...])</p></td>\n",
    "<td><p>Align two objects on their axes with the specified join method.</p></td>\n",
    "</tr>\n",
    "<tr class=\"row-even\"><td><p><a class=\"reference internal\" href=\"pandas.DataFrame.all.html#pandas.DataFrame.all\" title=\"pandas.DataFrame.all\"><code class=\"xref py py-obj docutils literal notranslate\"><span class=\"pre\">all</span></code></a>([axis,&nbsp;bool_only,&nbsp;skipna,&nbsp;level])</p></td>\n",
    "<td><p>Return whether all elements are True, potentially over an axis.</p></td>\n",
    "</tr>\n",
    "<tr class=\"row-odd\"><td><p><a class=\"reference internal\" href=\"pandas.DataFrame.any.html#pandas.DataFrame.any\" title=\"pandas.DataFrame.any\"><code class=\"xref py py-obj docutils literal notranslate\"><span class=\"pre\">any</span></code></a>([axis,&nbsp;bool_only,&nbsp;skipna,&nbsp;level])</p></td>\n",
    "<td><p>Return whether any element is True, potentially over an axis.</p></td>\n",
    "</tr>\n",
    "<tr class=\"row-even\"><td><p><a class=\"reference internal\" href=\"pandas.DataFrame.append.html#pandas.DataFrame.append\" title=\"pandas.DataFrame.append\"><code class=\"xref py py-obj docutils literal notranslate\"><span class=\"pre\">append</span></code></a>(other[,&nbsp;ignore_index,&nbsp;...])</p></td>\n",
    "<td><p>(DEPRECATED) Append rows of <cite>other</cite> to the end of caller, returning a new object.</p></td>\n",
    "</tr>\n",
    "<tr class=\"row-odd\"><td><p><a class=\"reference internal\" href=\"pandas.DataFrame.apply.html#pandas.DataFrame.apply\" title=\"pandas.DataFrame.apply\"><code class=\"xref py py-obj docutils literal notranslate\"><span class=\"pre\">apply</span></code></a>(func[,&nbsp;axis,&nbsp;raw,&nbsp;result_type,&nbsp;args])</p></td>\n",
    "<td><p>Apply a function along an axis of the DataFrame.</p></td>\n",
    "</tr>\n",
    "<tr class=\"row-even\"><td><p><a class=\"reference internal\" href=\"pandas.DataFrame.applymap.html#pandas.DataFrame.applymap\" title=\"pandas.DataFrame.applymap\"><code class=\"xref py py-obj docutils literal notranslate\"><span class=\"pre\">applymap</span></code></a>(func[,&nbsp;na_action])</p></td>\n",
    "<td><p>Apply a function to a Dataframe elementwise.</p></td>\n",
    "</tr>\n",
    "<tr class=\"row-odd\"><td><p><a class=\"reference internal\" href=\"pandas.DataFrame.asfreq.html#pandas.DataFrame.asfreq\" title=\"pandas.DataFrame.asfreq\"><code class=\"xref py py-obj docutils literal notranslate\"><span class=\"pre\">asfreq</span></code></a>(freq[,&nbsp;method,&nbsp;how,&nbsp;normalize,&nbsp;...])</p></td>\n",
    "<td><p>Convert time series to specified frequency.</p></td>\n",
    "</tr>\n",
    "<tr class=\"row-even\"><td><p><a class=\"reference internal\" href=\"pandas.DataFrame.asof.html#pandas.DataFrame.asof\" title=\"pandas.DataFrame.asof\"><code class=\"xref py py-obj docutils literal notranslate\"><span class=\"pre\">asof</span></code></a>(where[,&nbsp;subset])</p></td>\n",
    "<td><p>Return the last row(s) without any NaNs before <cite>where</cite>.</p></td>\n",
    "</tr>\n",
    "<tr class=\"row-odd\"><td><p><a class=\"reference internal\" href=\"pandas.DataFrame.assign.html#pandas.DataFrame.assign\" title=\"pandas.DataFrame.assign\"><code class=\"xref py py-obj docutils literal notranslate\"><span class=\"pre\">assign</span></code></a>(**kwargs)</p></td>\n",
    "<td><p>Assign new columns to a DataFrame.</p></td>\n",
    "</tr>\n",
    "<tr class=\"row-even\"><td><p><a class=\"reference internal\" href=\"pandas.DataFrame.astype.html#pandas.DataFrame.astype\" title=\"pandas.DataFrame.astype\"><code class=\"xref py py-obj docutils literal notranslate\"><span class=\"pre\">astype</span></code></a>(dtype[,&nbsp;copy,&nbsp;errors])</p></td>\n",
    "<td><p>Cast a pandas object to a specified dtype <code class=\"docutils literal notranslate\"><span class=\"pre\">dtype</span></code>.</p></td>\n",
    "</tr>\n",
    "<tr class=\"row-odd\"><td><p><a class=\"reference internal\" href=\"pandas.DataFrame.at_time.html#pandas.DataFrame.at_time\" title=\"pandas.DataFrame.at_time\"><code class=\"xref py py-obj docutils literal notranslate\"><span class=\"pre\">at_time</span></code></a>(time[,&nbsp;asof,&nbsp;axis])</p></td>\n",
    "<td><p>Select values at particular time of day (e.g., 9:30AM).</p></td>\n",
    "</tr>\n",
    "<tr class=\"row-even\"><td><p><a class=\"reference internal\" href=\"pandas.DataFrame.backfill.html#pandas.DataFrame.backfill\" title=\"pandas.DataFrame.backfill\"><code class=\"xref py py-obj docutils literal notranslate\"><span class=\"pre\">backfill</span></code></a>([axis,&nbsp;inplace,&nbsp;limit,&nbsp;downcast])</p></td>\n",
    "<td><p>Synonym for <a class=\"reference internal\" href=\"pandas.DataFrame.fillna.html#pandas.DataFrame.fillna\" title=\"pandas.DataFrame.fillna\"><code class=\"xref py py-meth docutils literal notranslate\"><span class=\"pre\">DataFrame.fillna()</span></code></a> with <code class=\"docutils literal notranslate\"><span class=\"pre\">method='bfill'</span></code>.</p></td>\n",
    "</tr>\n",
    "<tr class=\"row-odd\"><td><p><a class=\"reference internal\" href=\"pandas.DataFrame.between_time.html#pandas.DataFrame.between_time\" title=\"pandas.DataFrame.between_time\"><code class=\"xref py py-obj docutils literal notranslate\"><span class=\"pre\">between_time</span></code></a>(start_time,&nbsp;end_time[,&nbsp;...])</p></td>\n",
    "<td><p>Select values between particular times of the day (e.g., 9:00-9:30 AM).</p></td>\n",
    "</tr>\n",
    "<tr class=\"row-even\"><td><p><a class=\"reference internal\" href=\"pandas.DataFrame.bfill.html#pandas.DataFrame.bfill\" title=\"pandas.DataFrame.bfill\"><code class=\"xref py py-obj docutils literal notranslate\"><span class=\"pre\">bfill</span></code></a>([axis,&nbsp;inplace,&nbsp;limit,&nbsp;downcast])</p></td>\n",
    "<td><p>Synonym for <a class=\"reference internal\" href=\"pandas.DataFrame.fillna.html#pandas.DataFrame.fillna\" title=\"pandas.DataFrame.fillna\"><code class=\"xref py py-meth docutils literal notranslate\"><span class=\"pre\">DataFrame.fillna()</span></code></a> with <code class=\"docutils literal notranslate\"><span class=\"pre\">method='bfill'</span></code>.</p></td>\n",
    "</tr>\n",
    "<tr class=\"row-odd\"><td><p><a class=\"reference internal\" href=\"pandas.DataFrame.bool.html#pandas.DataFrame.bool\" title=\"pandas.DataFrame.bool\"><code class=\"xref py py-obj docutils literal notranslate\"><span class=\"pre\">bool</span></code></a>()</p></td>\n",
    "<td><p>Return the bool of a single element Series or DataFrame.</p></td>\n",
    "</tr>\n",
    "<tr class=\"row-even\"><td><p><a class=\"reference internal\" href=\"pandas.DataFrame.boxplot.html#pandas.DataFrame.boxplot\" title=\"pandas.DataFrame.boxplot\"><code class=\"xref py py-obj docutils literal notranslate\"><span class=\"pre\">boxplot</span></code></a>([column,&nbsp;by,&nbsp;ax,&nbsp;fontsize,&nbsp;rot,&nbsp;...])</p></td>\n",
    "<td><p>Make a box plot from DataFrame columns.</p></td>\n",
    "</tr>\n",
    "<tr class=\"row-odd\"><td><p><a class=\"reference internal\" href=\"pandas.DataFrame.clip.html#pandas.DataFrame.clip\" title=\"pandas.DataFrame.clip\"><code class=\"xref py py-obj docutils literal notranslate\"><span class=\"pre\">clip</span></code></a>([lower,&nbsp;upper,&nbsp;axis,&nbsp;inplace])</p></td>\n",
    "<td><p>Trim values at input threshold(s).</p></td>\n",
    "</tr>\n",
    "<tr class=\"row-even\"><td><p><a class=\"reference internal\" href=\"pandas.DataFrame.combine.html#pandas.DataFrame.combine\" title=\"pandas.DataFrame.combine\"><code class=\"xref py py-obj docutils literal notranslate\"><span class=\"pre\">combine</span></code></a>(other,&nbsp;func[,&nbsp;fill_value,&nbsp;overwrite])</p></td>\n",
    "<td><p>Perform column-wise combine with another DataFrame.</p></td>\n",
    "</tr>\n",
    "<tr class=\"row-odd\"><td><p><a class=\"reference internal\" href=\"pandas.DataFrame.combine_first.html#pandas.DataFrame.combine_first\" title=\"pandas.DataFrame.combine_first\"><code class=\"xref py py-obj docutils literal notranslate\"><span class=\"pre\">combine_first</span></code></a>(other)</p></td>\n",
    "<td><p>Update null elements with value in the same location in <cite>other</cite>.</p></td>\n",
    "</tr>\n",
    "<tr class=\"row-even\"><td><p><a class=\"reference internal\" href=\"pandas.DataFrame.compare.html#pandas.DataFrame.compare\" title=\"pandas.DataFrame.compare\"><code class=\"xref py py-obj docutils literal notranslate\"><span class=\"pre\">compare</span></code></a>(other[,&nbsp;align_axis,&nbsp;keep_shape,&nbsp;...])</p></td>\n",
    "<td><p>Compare to another DataFrame and show the differences.</p></td>\n",
    "</tr>\n",
    "<tr class=\"row-odd\"><td><p><a class=\"reference internal\" href=\"pandas.DataFrame.convert_dtypes.html#pandas.DataFrame.convert_dtypes\" title=\"pandas.DataFrame.convert_dtypes\"><code class=\"xref py py-obj docutils literal notranslate\"><span class=\"pre\">convert_dtypes</span></code></a>([infer_objects,&nbsp;...])</p></td>\n",
    "<td><p>Convert columns to best possible dtypes using dtypes supporting <code class=\"docutils literal notranslate\"><span class=\"pre\">pd.NA</span></code>.</p></td>\n",
    "</tr>\n",
    "<tr class=\"row-even\"><td><p><a class=\"reference internal\" href=\"pandas.DataFrame.copy.html#pandas.DataFrame.copy\" title=\"pandas.DataFrame.copy\"><code class=\"xref py py-obj docutils literal notranslate\"><span class=\"pre\">copy</span></code></a>([deep])</p></td>\n",
    "<td><p>Make a copy of this object's indices and data.</p></td>\n",
    "</tr>\n",
    "<tr class=\"row-odd\"><td><p><a class=\"reference internal\" href=\"pandas.DataFrame.corr.html#pandas.DataFrame.corr\" title=\"pandas.DataFrame.corr\"><code class=\"xref py py-obj docutils literal notranslate\"><span class=\"pre\">corr</span></code></a>([method,&nbsp;min_periods,&nbsp;numeric_only])</p></td>\n",
    "<td><p>Compute pairwise correlation of columns, excluding NA/null values.</p></td>\n",
    "</tr>\n",
    "<tr class=\"row-even\"><td><p><a class=\"reference internal\" href=\"pandas.DataFrame.corrwith.html#pandas.DataFrame.corrwith\" title=\"pandas.DataFrame.corrwith\"><code class=\"xref py py-obj docutils literal notranslate\"><span class=\"pre\">corrwith</span></code></a>(other[,&nbsp;axis,&nbsp;drop,&nbsp;method,&nbsp;...])</p></td>\n",
    "<td><p>Compute pairwise correlation.</p></td>\n",
    "</tr>\n",
    "<tr class=\"row-odd\"><td><p><a class=\"reference internal\" href=\"pandas.DataFrame.count.html#pandas.DataFrame.count\" title=\"pandas.DataFrame.count\"><code class=\"xref py py-obj docutils literal notranslate\"><span class=\"pre\">count</span></code></a>([axis,&nbsp;level,&nbsp;numeric_only])</p></td>\n",
    "<td><p>Count non-NA cells for each column or row.</p></td>\n",
    "</tr>\n",
    "<tr class=\"row-even\"><td><p><a class=\"reference internal\" href=\"pandas.DataFrame.cov.html#pandas.DataFrame.cov\" title=\"pandas.DataFrame.cov\"><code class=\"xref py py-obj docutils literal notranslate\"><span class=\"pre\">cov</span></code></a>([min_periods,&nbsp;ddof,&nbsp;numeric_only])</p></td>\n",
    "<td><p>Compute pairwise covariance of columns, excluding NA/null values.</p></td>\n",
    "</tr>\n",
    "<tr class=\"row-odd\"><td><p><a class=\"reference internal\" href=\"pandas.DataFrame.cummax.html#pandas.DataFrame.cummax\" title=\"pandas.DataFrame.cummax\"><code class=\"xref py py-obj docutils literal notranslate\"><span class=\"pre\">cummax</span></code></a>([axis,&nbsp;skipna])</p></td>\n",
    "<td><p>Return cumulative maximum over a DataFrame or Series axis.</p></td>\n",
    "</tr>\n",
    "<tr class=\"row-even\"><td><p><a class=\"reference internal\" href=\"pandas.DataFrame.cummin.html#pandas.DataFrame.cummin\" title=\"pandas.DataFrame.cummin\"><code class=\"xref py py-obj docutils literal notranslate\"><span class=\"pre\">cummin</span></code></a>([axis,&nbsp;skipna])</p></td>\n",
    "<td><p>Return cumulative minimum over a DataFrame or Series axis.</p></td>\n",
    "</tr>\n",
    "<tr class=\"row-odd\"><td><p><a class=\"reference internal\" href=\"pandas.DataFrame.cumprod.html#pandas.DataFrame.cumprod\" title=\"pandas.DataFrame.cumprod\"><code class=\"xref py py-obj docutils literal notranslate\"><span class=\"pre\">cumprod</span></code></a>([axis,&nbsp;skipna])</p></td>\n",
    "<td><p>Return cumulative product over a DataFrame or Series axis.</p></td>\n",
    "</tr>\n",
    "<tr class=\"row-even\"><td><p><a class=\"reference internal\" href=\"pandas.DataFrame.cumsum.html#pandas.DataFrame.cumsum\" title=\"pandas.DataFrame.cumsum\"><code class=\"xref py py-obj docutils literal notranslate\"><span class=\"pre\">cumsum</span></code></a>([axis,&nbsp;skipna])</p></td>\n",
    "<td><p>Return cumulative sum over a DataFrame or Series axis.</p></td>\n",
    "</tr>\n",
    "<tr class=\"row-odd\"><td><p><a class=\"reference internal\" href=\"pandas.DataFrame.describe.html#pandas.DataFrame.describe\" title=\"pandas.DataFrame.describe\"><code class=\"xref py py-obj docutils literal notranslate\"><span class=\"pre\">describe</span></code></a>([percentiles,&nbsp;include,&nbsp;exclude,&nbsp;...])</p></td>\n",
    "<td><p>Generate descriptive statistics.</p></td>\n",
    "</tr>\n",
    "<tr class=\"row-even\"><td><p><a class=\"reference internal\" href=\"pandas.DataFrame.diff.html#pandas.DataFrame.diff\" title=\"pandas.DataFrame.diff\"><code class=\"xref py py-obj docutils literal notranslate\"><span class=\"pre\">diff</span></code></a>([periods,&nbsp;axis])</p></td>\n",
    "<td><p>First discrete difference of element.</p></td>\n",
    "</tr>\n",
    "<tr class=\"row-odd\"><td><p><a class=\"reference internal\" href=\"pandas.DataFrame.div.html#pandas.DataFrame.div\" title=\"pandas.DataFrame.div\"><code class=\"xref py py-obj docutils literal notranslate\"><span class=\"pre\">div</span></code></a>(other[,&nbsp;axis,&nbsp;level,&nbsp;fill_value])</p></td>\n",
    "<td><p>Get Floating division of dataframe and other, element-wise (binary operator <cite>truediv</cite>).</p></td>\n",
    "</tr>\n",
    "<tr class=\"row-even\"><td><p><a class=\"reference internal\" href=\"pandas.DataFrame.divide.html#pandas.DataFrame.divide\" title=\"pandas.DataFrame.divide\"><code class=\"xref py py-obj docutils literal notranslate\"><span class=\"pre\">divide</span></code></a>(other[,&nbsp;axis,&nbsp;level,&nbsp;fill_value])</p></td>\n",
    "<td><p>Get Floating division of dataframe and other, element-wise (binary operator <cite>truediv</cite>).</p></td>\n",
    "</tr>\n",
    "<tr class=\"row-odd\"><td><p><a class=\"reference internal\" href=\"pandas.DataFrame.dot.html#pandas.DataFrame.dot\" title=\"pandas.DataFrame.dot\"><code class=\"xref py py-obj docutils literal notranslate\"><span class=\"pre\">dot</span></code></a>(other)</p></td>\n",
    "<td><p>Compute the matrix multiplication between the DataFrame and other.</p></td>\n",
    "</tr>\n",
    "<tr class=\"row-even\"><td><p><a class=\"reference internal\" href=\"pandas.DataFrame.drop.html#pandas.DataFrame.drop\" title=\"pandas.DataFrame.drop\"><code class=\"xref py py-obj docutils literal notranslate\"><span class=\"pre\">drop</span></code></a>([labels,&nbsp;axis,&nbsp;index,&nbsp;columns,&nbsp;level,&nbsp;...])</p></td>\n",
    "<td><p>Drop specified labels from rows or columns.</p></td>\n",
    "</tr>\n",
    "<tr class=\"row-odd\"><td><p><a class=\"reference internal\" href=\"pandas.DataFrame.drop_duplicates.html#pandas.DataFrame.drop_duplicates\" title=\"pandas.DataFrame.drop_duplicates\"><code class=\"xref py py-obj docutils literal notranslate\"><span class=\"pre\">drop_duplicates</span></code></a>([subset,&nbsp;keep,&nbsp;inplace,&nbsp;...])</p></td>\n",
    "<td><p>Return DataFrame with duplicate rows removed.</p></td>\n",
    "</tr>\n",
    "<tr class=\"row-even\"><td><p><a class=\"reference internal\" href=\"pandas.DataFrame.droplevel.html#pandas.DataFrame.droplevel\" title=\"pandas.DataFrame.droplevel\"><code class=\"xref py py-obj docutils literal notranslate\"><span class=\"pre\">droplevel</span></code></a>(level[,&nbsp;axis])</p></td>\n",
    "<td><p>Return Series/DataFrame with requested index / column level(s) removed.</p></td>\n",
    "</tr>\n",
    "<tr class=\"row-odd\"><td><p><a class=\"reference internal\" href=\"pandas.DataFrame.dropna.html#pandas.DataFrame.dropna\" title=\"pandas.DataFrame.dropna\"><code class=\"xref py py-obj docutils literal notranslate\"><span class=\"pre\">dropna</span></code></a>([axis,&nbsp;how,&nbsp;thresh,&nbsp;subset,&nbsp;inplace])</p></td>\n",
    "<td><p>Remove missing values.</p></td>\n",
    "</tr>\n",
    "<tr class=\"row-even\"><td><p><a class=\"reference internal\" href=\"pandas.DataFrame.duplicated.html#pandas.DataFrame.duplicated\" title=\"pandas.DataFrame.duplicated\"><code class=\"xref py py-obj docutils literal notranslate\"><span class=\"pre\">duplicated</span></code></a>([subset,&nbsp;keep])</p></td>\n",
    "<td><p>Return boolean Series denoting duplicate rows.</p></td>\n",
    "</tr>\n",
    "<tr class=\"row-odd\"><td><p><a class=\"reference internal\" href=\"pandas.DataFrame.eq.html#pandas.DataFrame.eq\" title=\"pandas.DataFrame.eq\"><code class=\"xref py py-obj docutils literal notranslate\"><span class=\"pre\">eq</span></code></a>(other[,&nbsp;axis,&nbsp;level])</p></td>\n",
    "<td><p>Get Equal to of dataframe and other, element-wise (binary operator <cite>eq</cite>).</p></td>\n",
    "</tr>\n",
    "<tr class=\"row-even\"><td><p><a class=\"reference internal\" href=\"pandas.DataFrame.equals.html#pandas.DataFrame.equals\" title=\"pandas.DataFrame.equals\"><code class=\"xref py py-obj docutils literal notranslate\"><span class=\"pre\">equals</span></code></a>(other)</p></td>\n",
    "<td><p>Test whether two objects contain the same elements.</p></td>\n",
    "</tr>\n",
    "<tr class=\"row-odd\"><td><p><a class=\"reference internal\" href=\"pandas.DataFrame.eval.html#pandas.DataFrame.eval\" title=\"pandas.DataFrame.eval\"><code class=\"xref py py-obj docutils literal notranslate\"><span class=\"pre\">eval</span></code></a>(expr[,&nbsp;inplace])</p></td>\n",
    "<td><p>Evaluate a string describing operations on DataFrame columns.</p></td>\n",
    "</tr>\n",
    "<tr class=\"row-even\"><td><p><a class=\"reference internal\" href=\"pandas.DataFrame.ewm.html#pandas.DataFrame.ewm\" title=\"pandas.DataFrame.ewm\"><code class=\"xref py py-obj docutils literal notranslate\"><span class=\"pre\">ewm</span></code></a>([com,&nbsp;span,&nbsp;halflife,&nbsp;alpha,&nbsp;...])</p></td>\n",
    "<td><p>Provide exponentially weighted (EW) calculations.</p></td>\n",
    "</tr>\n",
    "<tr class=\"row-odd\"><td><p><a class=\"reference internal\" href=\"pandas.DataFrame.expanding.html#pandas.DataFrame.expanding\" title=\"pandas.DataFrame.expanding\"><code class=\"xref py py-obj docutils literal notranslate\"><span class=\"pre\">expanding</span></code></a>([min_periods,&nbsp;center,&nbsp;axis,&nbsp;method])</p></td>\n",
    "<td><p>Provide expanding window calculations.</p></td>\n",
    "</tr>\n",
    "<tr class=\"row-even\"><td><p><a class=\"reference internal\" href=\"pandas.DataFrame.explode.html#pandas.DataFrame.explode\" title=\"pandas.DataFrame.explode\"><code class=\"xref py py-obj docutils literal notranslate\"><span class=\"pre\">explode</span></code></a>(column[,&nbsp;ignore_index])</p></td>\n",
    "<td><p>Transform each element of a list-like to a row, replicating index values.</p></td>\n",
    "</tr>\n",
    "<tr class=\"row-odd\"><td><p><a class=\"reference internal\" href=\"pandas.DataFrame.ffill.html#pandas.DataFrame.ffill\" title=\"pandas.DataFrame.ffill\"><code class=\"xref py py-obj docutils literal notranslate\"><span class=\"pre\">ffill</span></code></a>([axis,&nbsp;inplace,&nbsp;limit,&nbsp;downcast])</p></td>\n",
    "<td><p>Synonym for <a class=\"reference internal\" href=\"pandas.DataFrame.fillna.html#pandas.DataFrame.fillna\" title=\"pandas.DataFrame.fillna\"><code class=\"xref py py-meth docutils literal notranslate\"><span class=\"pre\">DataFrame.fillna()</span></code></a> with <code class=\"docutils literal notranslate\"><span class=\"pre\">method='ffill'</span></code>.</p></td>\n",
    "</tr>\n",
    "<tr class=\"row-even\"><td><p><a class=\"reference internal\" href=\"pandas.DataFrame.fillna.html#pandas.DataFrame.fillna\" title=\"pandas.DataFrame.fillna\"><code class=\"xref py py-obj docutils literal notranslate\"><span class=\"pre\">fillna</span></code></a>([value,&nbsp;method,&nbsp;axis,&nbsp;inplace,&nbsp;...])</p></td>\n",
    "<td><p>Fill NA/NaN values using the specified method.</p></td>\n",
    "</tr>\n",
    "<tr class=\"row-odd\"><td><p><a class=\"reference internal\" href=\"pandas.DataFrame.filter.html#pandas.DataFrame.filter\" title=\"pandas.DataFrame.filter\"><code class=\"xref py py-obj docutils literal notranslate\"><span class=\"pre\">filter</span></code></a>([items,&nbsp;like,&nbsp;regex,&nbsp;axis])</p></td>\n",
    "<td><p>Subset the dataframe rows or columns according to the specified index labels.</p></td>\n",
    "</tr>\n",
    "<tr class=\"row-even\"><td><p><a class=\"reference internal\" href=\"pandas.DataFrame.first.html#pandas.DataFrame.first\" title=\"pandas.DataFrame.first\"><code class=\"xref py py-obj docutils literal notranslate\"><span class=\"pre\">first</span></code></a>(offset)</p></td>\n",
    "<td><p>Select initial periods of time series data based on a date offset.</p></td>\n",
    "</tr>\n",
    "<tr class=\"row-odd\"><td><p><a class=\"reference internal\" href=\"pandas.DataFrame.first_valid_index.html#pandas.DataFrame.first_valid_index\" title=\"pandas.DataFrame.first_valid_index\"><code class=\"xref py py-obj docutils literal notranslate\"><span class=\"pre\">first_valid_index</span></code></a>()</p></td>\n",
    "<td><p>Return index for first non-NA value or None, if no non-NA value is found.</p></td>\n",
    "</tr>\n",
    "<tr class=\"row-even\"><td><p><a class=\"reference internal\" href=\"pandas.DataFrame.floordiv.html#pandas.DataFrame.floordiv\" title=\"pandas.DataFrame.floordiv\"><code class=\"xref py py-obj docutils literal notranslate\"><span class=\"pre\">floordiv</span></code></a>(other[,&nbsp;axis,&nbsp;level,&nbsp;fill_value])</p></td>\n",
    "<td><p>Get Integer division of dataframe and other, element-wise (binary operator <cite>floordiv</cite>).</p></td>\n",
    "</tr>\n",
    "<tr class=\"row-odd\"><td><p><a class=\"reference internal\" href=\"pandas.DataFrame.from_dict.html#pandas.DataFrame.from_dict\" title=\"pandas.DataFrame.from_dict\"><code class=\"xref py py-obj docutils literal notranslate\"><span class=\"pre\">from_dict</span></code></a>(data[,&nbsp;orient,&nbsp;dtype,&nbsp;columns])</p></td>\n",
    "<td><p>Construct DataFrame from dict of array-like or dicts.</p></td>\n",
    "</tr>\n",
    "<tr class=\"row-even\"><td><p><a class=\"reference internal\" href=\"pandas.DataFrame.from_records.html#pandas.DataFrame.from_records\" title=\"pandas.DataFrame.from_records\"><code class=\"xref py py-obj docutils literal notranslate\"><span class=\"pre\">from_records</span></code></a>(data[,&nbsp;index,&nbsp;exclude,&nbsp;...])</p></td>\n",
    "<td><p>Convert structured or record ndarray to DataFrame.</p></td>\n",
    "</tr>\n",
    "<tr class=\"row-odd\"><td><p><a class=\"reference internal\" href=\"pandas.DataFrame.ge.html#pandas.DataFrame.ge\" title=\"pandas.DataFrame.ge\"><code class=\"xref py py-obj docutils literal notranslate\"><span class=\"pre\">ge</span></code></a>(other[,&nbsp;axis,&nbsp;level])</p></td>\n",
    "<td><p>Get Greater than or equal to of dataframe and other, element-wise (binary operator <cite>ge</cite>).</p></td>\n",
    "</tr>\n",
    "<tr class=\"row-even\"><td><p><a class=\"reference internal\" href=\"pandas.DataFrame.get.html#pandas.DataFrame.get\" title=\"pandas.DataFrame.get\"><code class=\"xref py py-obj docutils literal notranslate\"><span class=\"pre\">get</span></code></a>(key[,&nbsp;default])</p></td>\n",
    "<td><p>Get item from object for given key (ex: DataFrame column).</p></td>\n",
    "</tr>\n",
    "<tr class=\"row-odd\"><td><p><a class=\"reference internal\" href=\"pandas.DataFrame.groupby.html#pandas.DataFrame.groupby\" title=\"pandas.DataFrame.groupby\"><code class=\"xref py py-obj docutils literal notranslate\"><span class=\"pre\">groupby</span></code></a>([by,&nbsp;axis,&nbsp;level,&nbsp;as_index,&nbsp;sort,&nbsp;...])</p></td>\n",
    "<td><p>Group DataFrame using a mapper or by a Series of columns.</p></td>\n",
    "</tr>\n",
    "<tr class=\"row-even\"><td><p><a class=\"reference internal\" href=\"pandas.DataFrame.gt.html#pandas.DataFrame.gt\" title=\"pandas.DataFrame.gt\"><code class=\"xref py py-obj docutils literal notranslate\"><span class=\"pre\">gt</span></code></a>(other[,&nbsp;axis,&nbsp;level])</p></td>\n",
    "<td><p>Get Greater than of dataframe and other, element-wise (binary operator <cite>gt</cite>).</p></td>\n",
    "</tr>\n",
    "<tr class=\"row-odd\"><td><p><a class=\"reference internal\" href=\"pandas.DataFrame.head.html#pandas.DataFrame.head\" title=\"pandas.DataFrame.head\"><code class=\"xref py py-obj docutils literal notranslate\"><span class=\"pre\">head</span></code></a>([n])</p></td>\n",
    "<td><p>Return the first <cite>n</cite> rows.</p></td>\n",
    "</tr>\n",
    "<tr class=\"row-even\"><td><p><a class=\"reference internal\" href=\"pandas.DataFrame.hist.html#pandas.DataFrame.hist\" title=\"pandas.DataFrame.hist\"><code class=\"xref py py-obj docutils literal notranslate\"><span class=\"pre\">hist</span></code></a>([column,&nbsp;by,&nbsp;grid,&nbsp;xlabelsize,&nbsp;xrot,&nbsp;...])</p></td>\n",
    "<td><p>Make a histogram of the DataFrame's columns.</p></td>\n",
    "</tr>\n",
    "<tr class=\"row-odd\"><td><p><a class=\"reference internal\" href=\"pandas.DataFrame.idxmax.html#pandas.DataFrame.idxmax\" title=\"pandas.DataFrame.idxmax\"><code class=\"xref py py-obj docutils literal notranslate\"><span class=\"pre\">idxmax</span></code></a>([axis,&nbsp;skipna,&nbsp;numeric_only])</p></td>\n",
    "<td><p>Return index of first occurrence of maximum over requested axis.</p></td>\n",
    "</tr>\n",
    "<tr class=\"row-even\"><td><p><a class=\"reference internal\" href=\"pandas.DataFrame.idxmin.html#pandas.DataFrame.idxmin\" title=\"pandas.DataFrame.idxmin\"><code class=\"xref py py-obj docutils literal notranslate\"><span class=\"pre\">idxmin</span></code></a>([axis,&nbsp;skipna,&nbsp;numeric_only])</p></td>\n",
    "<td><p>Return index of first occurrence of minimum over requested axis.</p></td>\n",
    "</tr>\n",
    "<tr class=\"row-odd\"><td><p><a class=\"reference internal\" href=\"pandas.DataFrame.infer_objects.html#pandas.DataFrame.infer_objects\" title=\"pandas.DataFrame.infer_objects\"><code class=\"xref py py-obj docutils literal notranslate\"><span class=\"pre\">infer_objects</span></code></a>()</p></td>\n",
    "<td><p>Attempt to infer better dtypes for object columns.</p></td>\n",
    "</tr>\n",
    "<tr class=\"row-even\"><td><p><a class=\"reference internal\" href=\"pandas.DataFrame.info.html#pandas.DataFrame.info\" title=\"pandas.DataFrame.info\"><code class=\"xref py py-obj docutils literal notranslate\"><span class=\"pre\">info</span></code></a>([verbose,&nbsp;buf,&nbsp;max_cols,&nbsp;memory_usage,&nbsp;...])</p></td>\n",
    "<td><p>Print a concise summary of a DataFrame.</p></td>\n",
    "</tr>\n",
    "<tr class=\"row-odd\"><td><p><a class=\"reference internal\" href=\"pandas.DataFrame.insert.html#pandas.DataFrame.insert\" title=\"pandas.DataFrame.insert\"><code class=\"xref py py-obj docutils literal notranslate\"><span class=\"pre\">insert</span></code></a>(loc,&nbsp;column,&nbsp;value[,&nbsp;allow_duplicates])</p></td>\n",
    "<td><p>Insert column into DataFrame at specified location.</p></td>\n",
    "</tr>\n",
    "<tr class=\"row-even\"><td><p><a class=\"reference internal\" href=\"pandas.DataFrame.interpolate.html#pandas.DataFrame.interpolate\" title=\"pandas.DataFrame.interpolate\"><code class=\"xref py py-obj docutils literal notranslate\"><span class=\"pre\">interpolate</span></code></a>([method,&nbsp;axis,&nbsp;limit,&nbsp;inplace,&nbsp;...])</p></td>\n",
    "<td><p>Fill NaN values using an interpolation method.</p></td>\n",
    "</tr>\n",
    "<tr class=\"row-odd\"><td><p><a class=\"reference internal\" href=\"pandas.DataFrame.isetitem.html#pandas.DataFrame.isetitem\" title=\"pandas.DataFrame.isetitem\"><code class=\"xref py py-obj docutils literal notranslate\"><span class=\"pre\">isetitem</span></code></a>(loc,&nbsp;value)</p></td>\n",
    "<td><p>Set the given value in the column with position 'loc'.</p></td>\n",
    "</tr>\n",
    "<tr class=\"row-even\"><td><p><a class=\"reference internal\" href=\"pandas.DataFrame.isin.html#pandas.DataFrame.isin\" title=\"pandas.DataFrame.isin\"><code class=\"xref py py-obj docutils literal notranslate\"><span class=\"pre\">isin</span></code></a>(values)</p></td>\n",
    "<td><p>Whether each element in the DataFrame is contained in values.</p></td>\n",
    "</tr>\n",
    "<tr class=\"row-odd\"><td><p><a class=\"reference internal\" href=\"pandas.DataFrame.isna.html#pandas.DataFrame.isna\" title=\"pandas.DataFrame.isna\"><code class=\"xref py py-obj docutils literal notranslate\"><span class=\"pre\">isna</span></code></a>()</p></td>\n",
    "<td><p>Detect missing values.</p></td>\n",
    "</tr>\n",
    "<tr class=\"row-even\"><td><p><a class=\"reference internal\" href=\"pandas.DataFrame.isnull.html#pandas.DataFrame.isnull\" title=\"pandas.DataFrame.isnull\"><code class=\"xref py py-obj docutils literal notranslate\"><span class=\"pre\">isnull</span></code></a>()</p></td>\n",
    "<td><p>DataFrame.isnull is an alias for DataFrame.isna.</p></td>\n",
    "</tr>\n",
    "<tr class=\"row-odd\"><td><p><a class=\"reference internal\" href=\"pandas.DataFrame.items.html#pandas.DataFrame.items\" title=\"pandas.DataFrame.items\"><code class=\"xref py py-obj docutils literal notranslate\"><span class=\"pre\">items</span></code></a>()</p></td>\n",
    "<td><p>Iterate over (column name, Series) pairs.</p></td>\n",
    "</tr>\n",
    "<tr class=\"row-even\"><td><p><a class=\"reference internal\" href=\"pandas.DataFrame.iteritems.html#pandas.DataFrame.iteritems\" title=\"pandas.DataFrame.iteritems\"><code class=\"xref py py-obj docutils literal notranslate\"><span class=\"pre\">iteritems</span></code></a>()</p></td>\n",
    "<td><p>(DEPRECATED) Iterate over (column name, Series) pairs.</p></td>\n",
    "</tr>\n",
    "<tr class=\"row-odd\"><td><p><a class=\"reference internal\" href=\"pandas.DataFrame.iterrows.html#pandas.DataFrame.iterrows\" title=\"pandas.DataFrame.iterrows\"><code class=\"xref py py-obj docutils literal notranslate\"><span class=\"pre\">iterrows</span></code></a>()</p></td>\n",
    "<td><p>Iterate over DataFrame rows as (index, Series) pairs.</p></td>\n",
    "</tr>\n",
    "<tr class=\"row-even\"><td><p><a class=\"reference internal\" href=\"pandas.DataFrame.itertuples.html#pandas.DataFrame.itertuples\" title=\"pandas.DataFrame.itertuples\"><code class=\"xref py py-obj docutils literal notranslate\"><span class=\"pre\">itertuples</span></code></a>([index,&nbsp;name])</p></td>\n",
    "<td><p>Iterate over DataFrame rows as namedtuples.</p></td>\n",
    "</tr>\n",
    "<tr class=\"row-odd\"><td><p><a class=\"reference internal\" href=\"pandas.DataFrame.join.html#pandas.DataFrame.join\" title=\"pandas.DataFrame.join\"><code class=\"xref py py-obj docutils literal notranslate\"><span class=\"pre\">join</span></code></a>(other[,&nbsp;on,&nbsp;how,&nbsp;lsuffix,&nbsp;rsuffix,&nbsp;...])</p></td>\n",
    "<td><p>Join columns of another DataFrame.</p></td>\n",
    "</tr>\n",
    "<tr class=\"row-even\"><td><p><a class=\"reference internal\" href=\"pandas.DataFrame.keys.html#pandas.DataFrame.keys\" title=\"pandas.DataFrame.keys\"><code class=\"xref py py-obj docutils literal notranslate\"><span class=\"pre\">keys</span></code></a>()</p></td>\n",
    "<td><p>Get the 'info axis' (see Indexing for more).</p></td>\n",
    "</tr>\n",
    "<tr class=\"row-odd\"><td><p><a class=\"reference internal\" href=\"pandas.DataFrame.kurt.html#pandas.DataFrame.kurt\" title=\"pandas.DataFrame.kurt\"><code class=\"xref py py-obj docutils literal notranslate\"><span class=\"pre\">kurt</span></code></a>([axis,&nbsp;skipna,&nbsp;level,&nbsp;numeric_only])</p></td>\n",
    "<td><p>Return unbiased kurtosis over requested axis.</p></td>\n",
    "</tr>\n",
    "<tr class=\"row-even\"><td><p><a class=\"reference internal\" href=\"pandas.DataFrame.kurtosis.html#pandas.DataFrame.kurtosis\" title=\"pandas.DataFrame.kurtosis\"><code class=\"xref py py-obj docutils literal notranslate\"><span class=\"pre\">kurtosis</span></code></a>([axis,&nbsp;skipna,&nbsp;level,&nbsp;numeric_only])</p></td>\n",
    "<td><p>Return unbiased kurtosis over requested axis.</p></td>\n",
    "</tr>\n",
    "<tr class=\"row-odd\"><td><p><a class=\"reference internal\" href=\"pandas.DataFrame.last.html#pandas.DataFrame.last\" title=\"pandas.DataFrame.last\"><code class=\"xref py py-obj docutils literal notranslate\"><span class=\"pre\">last</span></code></a>(offset)</p></td>\n",
    "<td><p>Select final periods of time series data based on a date offset.</p></td>\n",
    "</tr>\n",
    "<tr class=\"row-even\"><td><p><a class=\"reference internal\" href=\"pandas.DataFrame.last_valid_index.html#pandas.DataFrame.last_valid_index\" title=\"pandas.DataFrame.last_valid_index\"><code class=\"xref py py-obj docutils literal notranslate\"><span class=\"pre\">last_valid_index</span></code></a>()</p></td>\n",
    "<td><p>Return index for last non-NA value or None, if no non-NA value is found.</p></td>\n",
    "</tr>\n",
    "<tr class=\"row-odd\"><td><p><a class=\"reference internal\" href=\"pandas.DataFrame.le.html#pandas.DataFrame.le\" title=\"pandas.DataFrame.le\"><code class=\"xref py py-obj docutils literal notranslate\"><span class=\"pre\">le</span></code></a>(other[,&nbsp;axis,&nbsp;level])</p></td>\n",
    "<td><p>Get Less than or equal to of dataframe and other, element-wise (binary operator <cite>le</cite>).</p></td>\n",
    "</tr>\n",
    "<tr class=\"row-even\"><td><p><a class=\"reference internal\" href=\"pandas.DataFrame.lookup.html#pandas.DataFrame.lookup\" title=\"pandas.DataFrame.lookup\"><code class=\"xref py py-obj docutils literal notranslate\"><span class=\"pre\">lookup</span></code></a>(row_labels,&nbsp;col_labels)</p></td>\n",
    "<td><p>(DEPRECATED) Label-based \"fancy indexing\" function for DataFrame.</p></td>\n",
    "</tr>\n",
    "<tr class=\"row-odd\"><td><p><a class=\"reference internal\" href=\"pandas.DataFrame.lt.html#pandas.DataFrame.lt\" title=\"pandas.DataFrame.lt\"><code class=\"xref py py-obj docutils literal notranslate\"><span class=\"pre\">lt</span></code></a>(other[,&nbsp;axis,&nbsp;level])</p></td>\n",
    "<td><p>Get Less than of dataframe and other, element-wise (binary operator <cite>lt</cite>).</p></td>\n",
    "</tr>\n",
    "<tr class=\"row-even\"><td><p><a class=\"reference internal\" href=\"pandas.DataFrame.mad.html#pandas.DataFrame.mad\" title=\"pandas.DataFrame.mad\"><code class=\"xref py py-obj docutils literal notranslate\"><span class=\"pre\">mad</span></code></a>([axis,&nbsp;skipna,&nbsp;level])</p></td>\n",
    "<td><p>(DEPRECATED) Return the mean absolute deviation of the values over the requested axis.</p></td>\n",
    "</tr>\n",
    "<tr class=\"row-odd\"><td><p><a class=\"reference internal\" href=\"pandas.DataFrame.mask.html#pandas.DataFrame.mask\" title=\"pandas.DataFrame.mask\"><code class=\"xref py py-obj docutils literal notranslate\"><span class=\"pre\">mask</span></code></a>(cond[,&nbsp;other,&nbsp;inplace,&nbsp;axis,&nbsp;level,&nbsp;...])</p></td>\n",
    "<td><p>Replace values where the condition is True.</p></td>\n",
    "</tr>\n",
    "<tr class=\"row-even\"><td><p><a class=\"reference internal\" href=\"pandas.DataFrame.max.html#pandas.DataFrame.max\" title=\"pandas.DataFrame.max\"><code class=\"xref py py-obj docutils literal notranslate\"><span class=\"pre\">max</span></code></a>([axis,&nbsp;skipna,&nbsp;level,&nbsp;numeric_only])</p></td>\n",
    "<td><p>Return the maximum of the values over the requested axis.</p></td>\n",
    "</tr>\n",
    "<tr class=\"row-odd\"><td><p><a class=\"reference internal\" href=\"pandas.DataFrame.mean.html#pandas.DataFrame.mean\" title=\"pandas.DataFrame.mean\"><code class=\"xref py py-obj docutils literal notranslate\"><span class=\"pre\">mean</span></code></a>([axis,&nbsp;skipna,&nbsp;level,&nbsp;numeric_only])</p></td>\n",
    "<td><p>Return the mean of the values over the requested axis.</p></td>\n",
    "</tr>\n",
    "<tr class=\"row-even\"><td><p><a class=\"reference internal\" href=\"pandas.DataFrame.median.html#pandas.DataFrame.median\" title=\"pandas.DataFrame.median\"><code class=\"xref py py-obj docutils literal notranslate\"><span class=\"pre\">median</span></code></a>([axis,&nbsp;skipna,&nbsp;level,&nbsp;numeric_only])</p></td>\n",
    "<td><p>Return the median of the values over the requested axis.</p></td>\n",
    "</tr>\n",
    "<tr class=\"row-odd\"><td><p><a class=\"reference internal\" href=\"pandas.DataFrame.melt.html#pandas.DataFrame.melt\" title=\"pandas.DataFrame.melt\"><code class=\"xref py py-obj docutils literal notranslate\"><span class=\"pre\">melt</span></code></a>([id_vars,&nbsp;value_vars,&nbsp;var_name,&nbsp;...])</p></td>\n",
    "<td><p>Unpivot a DataFrame from wide to long format, optionally leaving identifiers set.</p></td>\n",
    "</tr>\n",
    "<tr class=\"row-even\"><td><p><a class=\"reference internal\" href=\"pandas.DataFrame.memory_usage.html#pandas.DataFrame.memory_usage\" title=\"pandas.DataFrame.memory_usage\"><code class=\"xref py py-obj docutils literal notranslate\"><span class=\"pre\">memory_usage</span></code></a>([index,&nbsp;deep])</p></td>\n",
    "<td><p>Return the memory usage of each column in bytes.</p></td>\n",
    "</tr>\n",
    "<tr class=\"row-odd\"><td><p><a class=\"reference internal\" href=\"pandas.DataFrame.merge.html#pandas.DataFrame.merge\" title=\"pandas.DataFrame.merge\"><code class=\"xref py py-obj docutils literal notranslate\"><span class=\"pre\">merge</span></code></a>(right[,&nbsp;how,&nbsp;on,&nbsp;left_on,&nbsp;right_on,&nbsp;...])</p></td>\n",
    "<td><p>Merge DataFrame or named Series objects with a database-style join.</p></td>\n",
    "</tr>\n",
    "<tr class=\"row-even\"><td><p><a class=\"reference internal\" href=\"pandas.DataFrame.min.html#pandas.DataFrame.min\" title=\"pandas.DataFrame.min\"><code class=\"xref py py-obj docutils literal notranslate\"><span class=\"pre\">min</span></code></a>([axis,&nbsp;skipna,&nbsp;level,&nbsp;numeric_only])</p></td>\n",
    "<td><p>Return the minimum of the values over the requested axis.</p></td>\n",
    "</tr>\n",
    "<tr class=\"row-odd\"><td><p><a class=\"reference internal\" href=\"pandas.DataFrame.mod.html#pandas.DataFrame.mod\" title=\"pandas.DataFrame.mod\"><code class=\"xref py py-obj docutils literal notranslate\"><span class=\"pre\">mod</span></code></a>(other[,&nbsp;axis,&nbsp;level,&nbsp;fill_value])</p></td>\n",
    "<td><p>Get Modulo of dataframe and other, element-wise (binary operator <cite>mod</cite>).</p></td>\n",
    "</tr>\n",
    "<tr class=\"row-even\"><td><p><a class=\"reference internal\" href=\"pandas.DataFrame.mode.html#pandas.DataFrame.mode\" title=\"pandas.DataFrame.mode\"><code class=\"xref py py-obj docutils literal notranslate\"><span class=\"pre\">mode</span></code></a>([axis,&nbsp;numeric_only,&nbsp;dropna])</p></td>\n",
    "<td><p>Get the mode(s) of each element along the selected axis.</p></td>\n",
    "</tr>\n",
    "<tr class=\"row-odd\"><td><p><a class=\"reference internal\" href=\"pandas.DataFrame.mul.html#pandas.DataFrame.mul\" title=\"pandas.DataFrame.mul\"><code class=\"xref py py-obj docutils literal notranslate\"><span class=\"pre\">mul</span></code></a>(other[,&nbsp;axis,&nbsp;level,&nbsp;fill_value])</p></td>\n",
    "<td><p>Get Multiplication of dataframe and other, element-wise (binary operator <cite>mul</cite>).</p></td>\n",
    "</tr>\n",
    "<tr class=\"row-even\"><td><p><a class=\"reference internal\" href=\"pandas.DataFrame.multiply.html#pandas.DataFrame.multiply\" title=\"pandas.DataFrame.multiply\"><code class=\"xref py py-obj docutils literal notranslate\"><span class=\"pre\">multiply</span></code></a>(other[,&nbsp;axis,&nbsp;level,&nbsp;fill_value])</p></td>\n",
    "<td><p>Get Multiplication of dataframe and other, element-wise (binary operator <cite>mul</cite>).</p></td>\n",
    "</tr>\n",
    "<tr class=\"row-odd\"><td><p><a class=\"reference internal\" href=\"pandas.DataFrame.ne.html#pandas.DataFrame.ne\" title=\"pandas.DataFrame.ne\"><code class=\"xref py py-obj docutils literal notranslate\"><span class=\"pre\">ne</span></code></a>(other[,&nbsp;axis,&nbsp;level])</p></td>\n",
    "<td><p>Get Not equal to of dataframe and other, element-wise (binary operator <cite>ne</cite>).</p></td>\n",
    "</tr>\n",
    "<tr class=\"row-even\"><td><p><a class=\"reference internal\" href=\"pandas.DataFrame.nlargest.html#pandas.DataFrame.nlargest\" title=\"pandas.DataFrame.nlargest\"><code class=\"xref py py-obj docutils literal notranslate\"><span class=\"pre\">nlargest</span></code></a>(n,&nbsp;columns[,&nbsp;keep])</p></td>\n",
    "<td><p>Return the first <cite>n</cite> rows ordered by <cite>columns</cite> in descending order.</p></td>\n",
    "</tr>\n",
    "<tr class=\"row-odd\"><td><p><a class=\"reference internal\" href=\"pandas.DataFrame.notna.html#pandas.DataFrame.notna\" title=\"pandas.DataFrame.notna\"><code class=\"xref py py-obj docutils literal notranslate\"><span class=\"pre\">notna</span></code></a>()</p></td>\n",
    "<td><p>Detect existing (non-missing) values.</p></td>\n",
    "</tr>\n",
    "<tr class=\"row-even\"><td><p><a class=\"reference internal\" href=\"pandas.DataFrame.notnull.html#pandas.DataFrame.notnull\" title=\"pandas.DataFrame.notnull\"><code class=\"xref py py-obj docutils literal notranslate\"><span class=\"pre\">notnull</span></code></a>()</p></td>\n",
    "<td><p>DataFrame.notnull is an alias for DataFrame.notna.</p></td>\n",
    "</tr>\n",
    "<tr class=\"row-odd\"><td><p><a class=\"reference internal\" href=\"pandas.DataFrame.nsmallest.html#pandas.DataFrame.nsmallest\" title=\"pandas.DataFrame.nsmallest\"><code class=\"xref py py-obj docutils literal notranslate\"><span class=\"pre\">nsmallest</span></code></a>(n,&nbsp;columns[,&nbsp;keep])</p></td>\n",
    "<td><p>Return the first <cite>n</cite> rows ordered by <cite>columns</cite> in ascending order.</p></td>\n",
    "</tr>\n",
    "<tr class=\"row-even\"><td><p><a class=\"reference internal\" href=\"pandas.DataFrame.nunique.html#pandas.DataFrame.nunique\" title=\"pandas.DataFrame.nunique\"><code class=\"xref py py-obj docutils literal notranslate\"><span class=\"pre\">nunique</span></code></a>([axis,&nbsp;dropna])</p></td>\n",
    "<td><p>Count number of distinct elements in specified axis.</p></td>\n",
    "</tr>\n",
    "<tr class=\"row-odd\"><td><p><a class=\"reference internal\" href=\"pandas.DataFrame.pad.html#pandas.DataFrame.pad\" title=\"pandas.DataFrame.pad\"><code class=\"xref py py-obj docutils literal notranslate\"><span class=\"pre\">pad</span></code></a>([axis,&nbsp;inplace,&nbsp;limit,&nbsp;downcast])</p></td>\n",
    "<td><p>Synonym for <a class=\"reference internal\" href=\"pandas.DataFrame.fillna.html#pandas.DataFrame.fillna\" title=\"pandas.DataFrame.fillna\"><code class=\"xref py py-meth docutils literal notranslate\"><span class=\"pre\">DataFrame.fillna()</span></code></a> with <code class=\"docutils literal notranslate\"><span class=\"pre\">method='ffill'</span></code>.</p></td>\n",
    "</tr>\n",
    "<tr class=\"row-even\"><td><p><a class=\"reference internal\" href=\"pandas.DataFrame.pct_change.html#pandas.DataFrame.pct_change\" title=\"pandas.DataFrame.pct_change\"><code class=\"xref py py-obj docutils literal notranslate\"><span class=\"pre\">pct_change</span></code></a>([periods,&nbsp;fill_method,&nbsp;limit,&nbsp;freq])</p></td>\n",
    "<td><p>Percentage change between the current and a prior element.</p></td>\n",
    "</tr>\n",
    "<tr class=\"row-odd\"><td><p><a class=\"reference internal\" href=\"pandas.DataFrame.pipe.html#pandas.DataFrame.pipe\" title=\"pandas.DataFrame.pipe\"><code class=\"xref py py-obj docutils literal notranslate\"><span class=\"pre\">pipe</span></code></a>(func,&nbsp;*args,&nbsp;**kwargs)</p></td>\n",
    "<td><p>Apply chainable functions that expect Series or DataFrames.</p></td>\n",
    "</tr>\n",
    "<tr class=\"row-even\"><td><p><a class=\"reference internal\" href=\"pandas.DataFrame.pivot.html#pandas.DataFrame.pivot\" title=\"pandas.DataFrame.pivot\"><code class=\"xref py py-obj docutils literal notranslate\"><span class=\"pre\">pivot</span></code></a>([index,&nbsp;columns,&nbsp;values])</p></td>\n",
    "<td><p>Return reshaped DataFrame organized by given index / column values.</p></td>\n",
    "</tr>\n",
    "<tr class=\"row-odd\"><td><p><a class=\"reference internal\" href=\"pandas.DataFrame.pivot_table.html#pandas.DataFrame.pivot_table\" title=\"pandas.DataFrame.pivot_table\"><code class=\"xref py py-obj docutils literal notranslate\"><span class=\"pre\">pivot_table</span></code></a>([values,&nbsp;index,&nbsp;columns,&nbsp;...])</p></td>\n",
    "<td><p>Create a spreadsheet-style pivot table as a DataFrame.</p></td>\n",
    "</tr>\n",
    "<tr class=\"row-even\"><td><p><a class=\"reference internal\" href=\"pandas.DataFrame.plot.html#pandas.DataFrame.plot\" title=\"pandas.DataFrame.plot\"><code class=\"xref py py-obj docutils literal notranslate\"><span class=\"pre\">plot</span></code></a></p></td>\n",
    "<td><p>alias of <code class=\"xref py py-class docutils literal notranslate\"><span class=\"pre\">pandas.plotting._core.PlotAccessor</span></code></p></td>\n",
    "</tr>\n",
    "<tr class=\"row-odd\"><td><p><a class=\"reference internal\" href=\"pandas.DataFrame.pop.html#pandas.DataFrame.pop\" title=\"pandas.DataFrame.pop\"><code class=\"xref py py-obj docutils literal notranslate\"><span class=\"pre\">pop</span></code></a>(item)</p></td>\n",
    "<td><p>Return item and drop from frame.</p></td>\n",
    "</tr>\n",
    "<tr class=\"row-even\"><td><p><a class=\"reference internal\" href=\"pandas.DataFrame.pow.html#pandas.DataFrame.pow\" title=\"pandas.DataFrame.pow\"><code class=\"xref py py-obj docutils literal notranslate\"><span class=\"pre\">pow</span></code></a>(other[,&nbsp;axis,&nbsp;level,&nbsp;fill_value])</p></td>\n",
    "<td><p>Get Exponential power of dataframe and other, element-wise (binary operator <cite>pow</cite>).</p></td>\n",
    "</tr>\n",
    "<tr class=\"row-odd\"><td><p><a class=\"reference internal\" href=\"pandas.DataFrame.prod.html#pandas.DataFrame.prod\" title=\"pandas.DataFrame.prod\"><code class=\"xref py py-obj docutils literal notranslate\"><span class=\"pre\">prod</span></code></a>([axis,&nbsp;skipna,&nbsp;level,&nbsp;numeric_only,&nbsp;...])</p></td>\n",
    "<td><p>Return the product of the values over the requested axis.</p></td>\n",
    "</tr>\n",
    "<tr class=\"row-even\"><td><p><a class=\"reference internal\" href=\"pandas.DataFrame.product.html#pandas.DataFrame.product\" title=\"pandas.DataFrame.product\"><code class=\"xref py py-obj docutils literal notranslate\"><span class=\"pre\">product</span></code></a>([axis,&nbsp;skipna,&nbsp;level,&nbsp;numeric_only,&nbsp;...])</p></td>\n",
    "<td><p>Return the product of the values over the requested axis.</p></td>\n",
    "</tr>\n",
    "<tr class=\"row-odd\"><td><p><a class=\"reference internal\" href=\"pandas.DataFrame.quantile.html#pandas.DataFrame.quantile\" title=\"pandas.DataFrame.quantile\"><code class=\"xref py py-obj docutils literal notranslate\"><span class=\"pre\">quantile</span></code></a>([q,&nbsp;axis,&nbsp;numeric_only,&nbsp;...])</p></td>\n",
    "<td><p>Return values at the given quantile over requested axis.</p></td>\n",
    "</tr>\n",
    "<tr class=\"row-even\"><td><p><a class=\"reference internal\" href=\"pandas.DataFrame.query.html#pandas.DataFrame.query\" title=\"pandas.DataFrame.query\"><code class=\"xref py py-obj docutils literal notranslate\"><span class=\"pre\">query</span></code></a>(expr[,&nbsp;inplace])</p></td>\n",
    "<td><p>Query the columns of a DataFrame with a boolean expression.</p></td>\n",
    "</tr>\n",
    "<tr class=\"row-odd\"><td><p><a class=\"reference internal\" href=\"pandas.DataFrame.radd.html#pandas.DataFrame.radd\" title=\"pandas.DataFrame.radd\"><code class=\"xref py py-obj docutils literal notranslate\"><span class=\"pre\">radd</span></code></a>(other[,&nbsp;axis,&nbsp;level,&nbsp;fill_value])</p></td>\n",
    "<td><p>Get Addition of dataframe and other, element-wise (binary operator <cite>radd</cite>).</p></td>\n",
    "</tr>\n",
    "<tr class=\"row-even\"><td><p><a class=\"reference internal\" href=\"pandas.DataFrame.rank.html#pandas.DataFrame.rank\" title=\"pandas.DataFrame.rank\"><code class=\"xref py py-obj docutils literal notranslate\"><span class=\"pre\">rank</span></code></a>([axis,&nbsp;method,&nbsp;numeric_only,&nbsp;...])</p></td>\n",
    "<td><p>Compute numerical data ranks (1 through n) along axis.</p></td>\n",
    "</tr>\n",
    "<tr class=\"row-odd\"><td><p><a class=\"reference internal\" href=\"pandas.DataFrame.rdiv.html#pandas.DataFrame.rdiv\" title=\"pandas.DataFrame.rdiv\"><code class=\"xref py py-obj docutils literal notranslate\"><span class=\"pre\">rdiv</span></code></a>(other[,&nbsp;axis,&nbsp;level,&nbsp;fill_value])</p></td>\n",
    "<td><p>Get Floating division of dataframe and other, element-wise (binary operator <cite>rtruediv</cite>).</p></td>\n",
    "</tr>\n",
    "<tr class=\"row-even\"><td><p><a class=\"reference internal\" href=\"pandas.DataFrame.reindex.html#pandas.DataFrame.reindex\" title=\"pandas.DataFrame.reindex\"><code class=\"xref py py-obj docutils literal notranslate\"><span class=\"pre\">reindex</span></code></a>([labels,&nbsp;index,&nbsp;columns,&nbsp;axis,&nbsp;...])</p></td>\n",
    "<td><p>Conform Series/DataFrame to new index with optional filling logic.</p></td>\n",
    "</tr>\n",
    "<tr class=\"row-odd\"><td><p><a class=\"reference internal\" href=\"pandas.DataFrame.reindex_like.html#pandas.DataFrame.reindex_like\" title=\"pandas.DataFrame.reindex_like\"><code class=\"xref py py-obj docutils literal notranslate\"><span class=\"pre\">reindex_like</span></code></a>(other[,&nbsp;method,&nbsp;copy,&nbsp;limit,&nbsp;...])</p></td>\n",
    "<td><p>Return an object with matching indices as other object.</p></td>\n",
    "</tr>\n",
    "<tr class=\"row-even\"><td><p><a class=\"reference internal\" href=\"pandas.DataFrame.rename.html#pandas.DataFrame.rename\" title=\"pandas.DataFrame.rename\"><code class=\"xref py py-obj docutils literal notranslate\"><span class=\"pre\">rename</span></code></a>([mapper,&nbsp;index,&nbsp;columns,&nbsp;axis,&nbsp;copy,&nbsp;...])</p></td>\n",
    "<td><p>Alter axes labels.</p></td>\n",
    "</tr>\n",
    "<tr class=\"row-odd\"><td><p><a class=\"reference internal\" href=\"pandas.DataFrame.rename_axis.html#pandas.DataFrame.rename_axis\" title=\"pandas.DataFrame.rename_axis\"><code class=\"xref py py-obj docutils literal notranslate\"><span class=\"pre\">rename_axis</span></code></a>([mapper,&nbsp;index,&nbsp;columns,&nbsp;axis,&nbsp;copy])</p></td>\n",
    "<td><p>Set the name of the axis for the index or columns.</p></td>\n",
    "</tr>\n",
    "<tr class=\"row-even\"><td><p><a class=\"reference internal\" href=\"pandas.DataFrame.reorder_levels.html#pandas.DataFrame.reorder_levels\" title=\"pandas.DataFrame.reorder_levels\"><code class=\"xref py py-obj docutils literal notranslate\"><span class=\"pre\">reorder_levels</span></code></a>(order[,&nbsp;axis])</p></td>\n",
    "<td><p>Rearrange index levels using input order.</p></td>\n",
    "</tr>\n",
    "<tr class=\"row-odd\"><td><p><a class=\"reference internal\" href=\"pandas.DataFrame.replace.html#pandas.DataFrame.replace\" title=\"pandas.DataFrame.replace\"><code class=\"xref py py-obj docutils literal notranslate\"><span class=\"pre\">replace</span></code></a>([to_replace,&nbsp;value,&nbsp;inplace,&nbsp;limit,&nbsp;...])</p></td>\n",
    "<td><p>Replace values given in <cite>to_replace</cite> with <cite>value</cite>.</p></td>\n",
    "</tr>\n",
    "<tr class=\"row-even\"><td><p><a class=\"reference internal\" href=\"pandas.DataFrame.resample.html#pandas.DataFrame.resample\" title=\"pandas.DataFrame.resample\"><code class=\"xref py py-obj docutils literal notranslate\"><span class=\"pre\">resample</span></code></a>(rule[,&nbsp;axis,&nbsp;closed,&nbsp;label,&nbsp;...])</p></td>\n",
    "<td><p>Resample time-series data.</p></td>\n",
    "</tr>\n",
    "<tr class=\"row-odd\"><td><p><a class=\"reference internal\" href=\"pandas.DataFrame.reset_index.html#pandas.DataFrame.reset_index\" title=\"pandas.DataFrame.reset_index\"><code class=\"xref py py-obj docutils literal notranslate\"><span class=\"pre\">reset_index</span></code></a>([level,&nbsp;drop,&nbsp;inplace,&nbsp;...])</p></td>\n",
    "<td><p>Reset the index, or a level of it.</p></td>\n",
    "</tr>\n",
    "<tr class=\"row-even\"><td><p><a class=\"reference internal\" href=\"pandas.DataFrame.rfloordiv.html#pandas.DataFrame.rfloordiv\" title=\"pandas.DataFrame.rfloordiv\"><code class=\"xref py py-obj docutils literal notranslate\"><span class=\"pre\">rfloordiv</span></code></a>(other[,&nbsp;axis,&nbsp;level,&nbsp;fill_value])</p></td>\n",
    "<td><p>Get Integer division of dataframe and other, element-wise (binary operator <cite>rfloordiv</cite>).</p></td>\n",
    "</tr>\n",
    "<tr class=\"row-odd\"><td><p><a class=\"reference internal\" href=\"pandas.DataFrame.rmod.html#pandas.DataFrame.rmod\" title=\"pandas.DataFrame.rmod\"><code class=\"xref py py-obj docutils literal notranslate\"><span class=\"pre\">rmod</span></code></a>(other[,&nbsp;axis,&nbsp;level,&nbsp;fill_value])</p></td>\n",
    "<td><p>Get Modulo of dataframe and other, element-wise (binary operator <cite>rmod</cite>).</p></td>\n",
    "</tr>\n",
    "<tr class=\"row-even\"><td><p><a class=\"reference internal\" href=\"pandas.DataFrame.rmul.html#pandas.DataFrame.rmul\" title=\"pandas.DataFrame.rmul\"><code class=\"xref py py-obj docutils literal notranslate\"><span class=\"pre\">rmul</span></code></a>(other[,&nbsp;axis,&nbsp;level,&nbsp;fill_value])</p></td>\n",
    "<td><p>Get Multiplication of dataframe and other, element-wise (binary operator <cite>rmul</cite>).</p></td>\n",
    "</tr>\n",
    "<tr class=\"row-odd\"><td><p><a class=\"reference internal\" href=\"pandas.DataFrame.rolling.html#pandas.DataFrame.rolling\" title=\"pandas.DataFrame.rolling\"><code class=\"xref py py-obj docutils literal notranslate\"><span class=\"pre\">rolling</span></code></a>(window[,&nbsp;min_periods,&nbsp;center,&nbsp;...])</p></td>\n",
    "<td><p>Provide rolling window calculations.</p></td>\n",
    "</tr>\n",
    "<tr class=\"row-even\"><td><p><a class=\"reference internal\" href=\"pandas.DataFrame.round.html#pandas.DataFrame.round\" title=\"pandas.DataFrame.round\"><code class=\"xref py py-obj docutils literal notranslate\"><span class=\"pre\">round</span></code></a>([decimals])</p></td>\n",
    "<td><p>Round a DataFrame to a variable number of decimal places.</p></td>\n",
    "</tr>\n",
    "<tr class=\"row-odd\"><td><p><a class=\"reference internal\" href=\"pandas.DataFrame.rpow.html#pandas.DataFrame.rpow\" title=\"pandas.DataFrame.rpow\"><code class=\"xref py py-obj docutils literal notranslate\"><span class=\"pre\">rpow</span></code></a>(other[,&nbsp;axis,&nbsp;level,&nbsp;fill_value])</p></td>\n",
    "<td><p>Get Exponential power of dataframe and other, element-wise (binary operator <cite>rpow</cite>).</p></td>\n",
    "</tr>\n",
    "<tr class=\"row-even\"><td><p><a class=\"reference internal\" href=\"pandas.DataFrame.rsub.html#pandas.DataFrame.rsub\" title=\"pandas.DataFrame.rsub\"><code class=\"xref py py-obj docutils literal notranslate\"><span class=\"pre\">rsub</span></code></a>(other[,&nbsp;axis,&nbsp;level,&nbsp;fill_value])</p></td>\n",
    "<td><p>Get Subtraction of dataframe and other, element-wise (binary operator <cite>rsub</cite>).</p></td>\n",
    "</tr>\n",
    "<tr class=\"row-odd\"><td><p><a class=\"reference internal\" href=\"pandas.DataFrame.rtruediv.html#pandas.DataFrame.rtruediv\" title=\"pandas.DataFrame.rtruediv\"><code class=\"xref py py-obj docutils literal notranslate\"><span class=\"pre\">rtruediv</span></code></a>(other[,&nbsp;axis,&nbsp;level,&nbsp;fill_value])</p></td>\n",
    "<td><p>Get Floating division of dataframe and other, element-wise (binary operator <cite>rtruediv</cite>).</p></td>\n",
    "</tr>\n",
    "<tr class=\"row-even\"><td><p><a class=\"reference internal\" href=\"pandas.DataFrame.sample.html#pandas.DataFrame.sample\" title=\"pandas.DataFrame.sample\"><code class=\"xref py py-obj docutils literal notranslate\"><span class=\"pre\">sample</span></code></a>([n,&nbsp;frac,&nbsp;replace,&nbsp;weights,&nbsp;...])</p></td>\n",
    "<td><p>Return a random sample of items from an axis of object.</p></td>\n",
    "</tr>\n",
    "<tr class=\"row-odd\"><td><p><a class=\"reference internal\" href=\"pandas.DataFrame.select_dtypes.html#pandas.DataFrame.select_dtypes\" title=\"pandas.DataFrame.select_dtypes\"><code class=\"xref py py-obj docutils literal notranslate\"><span class=\"pre\">select_dtypes</span></code></a>([include,&nbsp;exclude])</p></td>\n",
    "<td><p>Return a subset of the DataFrame's columns based on the column dtypes.</p></td>\n",
    "</tr>\n",
    "<tr class=\"row-even\"><td><p><a class=\"reference internal\" href=\"pandas.DataFrame.sem.html#pandas.DataFrame.sem\" title=\"pandas.DataFrame.sem\"><code class=\"xref py py-obj docutils literal notranslate\"><span class=\"pre\">sem</span></code></a>([axis,&nbsp;skipna,&nbsp;level,&nbsp;ddof,&nbsp;numeric_only])</p></td>\n",
    "<td><p>Return unbiased standard error of the mean over requested axis.</p></td>\n",
    "</tr>\n",
    "<tr class=\"row-odd\"><td><p><a class=\"reference internal\" href=\"pandas.DataFrame.set_axis.html#pandas.DataFrame.set_axis\" title=\"pandas.DataFrame.set_axis\"><code class=\"xref py py-obj docutils literal notranslate\"><span class=\"pre\">set_axis</span></code></a>(labels[,&nbsp;axis,&nbsp;inplace,&nbsp;copy])</p></td>\n",
    "<td><p>Assign desired index to given axis.</p></td>\n",
    "</tr>\n",
    "<tr class=\"row-even\"><td><p><a class=\"reference internal\" href=\"pandas.DataFrame.set_flags.html#pandas.DataFrame.set_flags\" title=\"pandas.DataFrame.set_flags\"><code class=\"xref py py-obj docutils literal notranslate\"><span class=\"pre\">set_flags</span></code></a>(*[,&nbsp;copy,&nbsp;allows_duplicate_labels])</p></td>\n",
    "<td><p>Return a new object with updated flags.</p></td>\n",
    "</tr>\n",
    "<tr class=\"row-odd\"><td><p><a class=\"reference internal\" href=\"pandas.DataFrame.set_index.html#pandas.DataFrame.set_index\" title=\"pandas.DataFrame.set_index\"><code class=\"xref py py-obj docutils literal notranslate\"><span class=\"pre\">set_index</span></code></a>(keys[,&nbsp;drop,&nbsp;append,&nbsp;inplace,&nbsp;...])</p></td>\n",
    "<td><p>Set the DataFrame index using existing columns.</p></td>\n",
    "</tr>\n",
    "<tr class=\"row-even\"><td><p><a class=\"reference internal\" href=\"pandas.DataFrame.shift.html#pandas.DataFrame.shift\" title=\"pandas.DataFrame.shift\"><code class=\"xref py py-obj docutils literal notranslate\"><span class=\"pre\">shift</span></code></a>([periods,&nbsp;freq,&nbsp;axis,&nbsp;fill_value])</p></td>\n",
    "<td><p>Shift index by desired number of periods with an optional time <cite>freq</cite>.</p></td>\n",
    "</tr>\n",
    "<tr class=\"row-odd\"><td><p><a class=\"reference internal\" href=\"pandas.DataFrame.skew.html#pandas.DataFrame.skew\" title=\"pandas.DataFrame.skew\"><code class=\"xref py py-obj docutils literal notranslate\"><span class=\"pre\">skew</span></code></a>([axis,&nbsp;skipna,&nbsp;level,&nbsp;numeric_only])</p></td>\n",
    "<td><p>Return unbiased skew over requested axis.</p></td>\n",
    "</tr>\n",
    "<tr class=\"row-even\"><td><p><a class=\"reference internal\" href=\"pandas.DataFrame.slice_shift.html#pandas.DataFrame.slice_shift\" title=\"pandas.DataFrame.slice_shift\"><code class=\"xref py py-obj docutils literal notranslate\"><span class=\"pre\">slice_shift</span></code></a>([periods,&nbsp;axis])</p></td>\n",
    "<td><p>(DEPRECATED) Equivalent to <cite>shift</cite> without copying data.</p></td>\n",
    "</tr>\n",
    "<tr class=\"row-odd\"><td><p><a class=\"reference internal\" href=\"pandas.DataFrame.sort_index.html#pandas.DataFrame.sort_index\" title=\"pandas.DataFrame.sort_index\"><code class=\"xref py py-obj docutils literal notranslate\"><span class=\"pre\">sort_index</span></code></a>([axis,&nbsp;level,&nbsp;ascending,&nbsp;...])</p></td>\n",
    "<td><p>Sort object by labels (along an axis).</p></td>\n",
    "</tr>\n",
    "<tr class=\"row-even\"><td><p><a class=\"reference internal\" href=\"pandas.DataFrame.sort_values.html#pandas.DataFrame.sort_values\" title=\"pandas.DataFrame.sort_values\"><code class=\"xref py py-obj docutils literal notranslate\"><span class=\"pre\">sort_values</span></code></a>(by[,&nbsp;axis,&nbsp;ascending,&nbsp;inplace,&nbsp;...])</p></td>\n",
    "<td><p>Sort by the values along either axis.</p></td>\n",
    "</tr>\n",
    "<tr class=\"row-odd\"><td><p><a class=\"reference internal\" href=\"pandas.DataFrame.sparse.html#pandas.DataFrame.sparse\" title=\"pandas.DataFrame.sparse\"><code class=\"xref py py-obj docutils literal notranslate\"><span class=\"pre\">sparse</span></code></a></p></td>\n",
    "<td><p>alias of <code class=\"xref py py-class docutils literal notranslate\"><span class=\"pre\">pandas.core.arrays.sparse.accessor.SparseFrameAccessor</span></code></p></td>\n",
    "</tr>\n",
    "<tr class=\"row-even\"><td><p><a class=\"reference internal\" href=\"pandas.DataFrame.squeeze.html#pandas.DataFrame.squeeze\" title=\"pandas.DataFrame.squeeze\"><code class=\"xref py py-obj docutils literal notranslate\"><span class=\"pre\">squeeze</span></code></a>([axis])</p></td>\n",
    "<td><p>Squeeze 1 dimensional axis objects into scalars.</p></td>\n",
    "</tr>\n",
    "<tr class=\"row-odd\"><td><p><a class=\"reference internal\" href=\"pandas.DataFrame.stack.html#pandas.DataFrame.stack\" title=\"pandas.DataFrame.stack\"><code class=\"xref py py-obj docutils literal notranslate\"><span class=\"pre\">stack</span></code></a>([level,&nbsp;dropna])</p></td>\n",
    "<td><p>Stack the prescribed level(s) from columns to index.</p></td>\n",
    "</tr>\n",
    "<tr class=\"row-even\"><td><p><a class=\"reference internal\" href=\"pandas.DataFrame.std.html#pandas.DataFrame.std\" title=\"pandas.DataFrame.std\"><code class=\"xref py py-obj docutils literal notranslate\"><span class=\"pre\">std</span></code></a>([axis,&nbsp;skipna,&nbsp;level,&nbsp;ddof,&nbsp;numeric_only])</p></td>\n",
    "<td><p>Return sample standard deviation over requested axis.</p></td>\n",
    "</tr>\n",
    "<tr class=\"row-odd\"><td><p><a class=\"reference internal\" href=\"pandas.DataFrame.sub.html#pandas.DataFrame.sub\" title=\"pandas.DataFrame.sub\"><code class=\"xref py py-obj docutils literal notranslate\"><span class=\"pre\">sub</span></code></a>(other[,&nbsp;axis,&nbsp;level,&nbsp;fill_value])</p></td>\n",
    "<td><p>Get Subtraction of dataframe and other, element-wise (binary operator <cite>sub</cite>).</p></td>\n",
    "</tr>\n",
    "<tr class=\"row-even\"><td><p><a class=\"reference internal\" href=\"pandas.DataFrame.subtract.html#pandas.DataFrame.subtract\" title=\"pandas.DataFrame.subtract\"><code class=\"xref py py-obj docutils literal notranslate\"><span class=\"pre\">subtract</span></code></a>(other[,&nbsp;axis,&nbsp;level,&nbsp;fill_value])</p></td>\n",
    "<td><p>Get Subtraction of dataframe and other, element-wise (binary operator <cite>sub</cite>).</p></td>\n",
    "</tr>\n",
    "<tr class=\"row-odd\"><td><p><a class=\"reference internal\" href=\"pandas.DataFrame.sum.html#pandas.DataFrame.sum\" title=\"pandas.DataFrame.sum\"><code class=\"xref py py-obj docutils literal notranslate\"><span class=\"pre\">sum</span></code></a>([axis,&nbsp;skipna,&nbsp;level,&nbsp;numeric_only,&nbsp;...])</p></td>\n",
    "<td><p>Return the sum of the values over the requested axis.</p></td>\n",
    "</tr>\n",
    "<tr class=\"row-even\"><td><p><a class=\"reference internal\" href=\"pandas.DataFrame.swapaxes.html#pandas.DataFrame.swapaxes\" title=\"pandas.DataFrame.swapaxes\"><code class=\"xref py py-obj docutils literal notranslate\"><span class=\"pre\">swapaxes</span></code></a>(axis1,&nbsp;axis2[,&nbsp;copy])</p></td>\n",
    "<td><p>Interchange axes and swap values axes appropriately.</p></td>\n",
    "</tr>\n",
    "<tr class=\"row-odd\"><td><p><a class=\"reference internal\" href=\"pandas.DataFrame.swaplevel.html#pandas.DataFrame.swaplevel\" title=\"pandas.DataFrame.swaplevel\"><code class=\"xref py py-obj docutils literal notranslate\"><span class=\"pre\">swaplevel</span></code></a>([i,&nbsp;j,&nbsp;axis])</p></td>\n",
    "<td><p>Swap levels i and j in a <a class=\"reference internal\" href=\"pandas.MultiIndex.html#pandas.MultiIndex\" title=\"pandas.MultiIndex\"><code class=\"xref py py-class docutils literal notranslate\"><span class=\"pre\">MultiIndex</span></code></a>.</p></td>\n",
    "</tr>\n",
    "<tr class=\"row-even\"><td><p><a class=\"reference internal\" href=\"pandas.DataFrame.tail.html#pandas.DataFrame.tail\" title=\"pandas.DataFrame.tail\"><code class=\"xref py py-obj docutils literal notranslate\"><span class=\"pre\">tail</span></code></a>([n])</p></td>\n",
    "<td><p>Return the last <cite>n</cite> rows.</p></td>\n",
    "</tr>\n",
    "<tr class=\"row-odd\"><td><p><a class=\"reference internal\" href=\"pandas.DataFrame.take.html#pandas.DataFrame.take\" title=\"pandas.DataFrame.take\"><code class=\"xref py py-obj docutils literal notranslate\"><span class=\"pre\">take</span></code></a>(indices[,&nbsp;axis,&nbsp;is_copy])</p></td>\n",
    "<td><p>Return the elements in the given <em>positional</em> indices along an axis.</p></td>\n",
    "</tr>\n",
    "<tr class=\"row-even\"><td><p><a class=\"reference internal\" href=\"pandas.DataFrame.to_clipboard.html#pandas.DataFrame.to_clipboard\" title=\"pandas.DataFrame.to_clipboard\"><code class=\"xref py py-obj docutils literal notranslate\"><span class=\"pre\">to_clipboard</span></code></a>([excel,&nbsp;sep])</p></td>\n",
    "<td><p>Copy object to the system clipboard.</p></td>\n",
    "</tr>\n",
    "<tr class=\"row-odd\"><td><p><a class=\"reference internal\" href=\"pandas.DataFrame.to_csv.html#pandas.DataFrame.to_csv\" title=\"pandas.DataFrame.to_csv\"><code class=\"xref py py-obj docutils literal notranslate\"><span class=\"pre\">to_csv</span></code></a>([path_or_buf,&nbsp;sep,&nbsp;na_rep,&nbsp;...])</p></td>\n",
    "<td><p>Write object to a comma-separated values (csv) file.</p></td>\n",
    "</tr>\n",
    "<tr class=\"row-even\"><td><p><a class=\"reference internal\" href=\"pandas.DataFrame.to_dict.html#pandas.DataFrame.to_dict\" title=\"pandas.DataFrame.to_dict\"><code class=\"xref py py-obj docutils literal notranslate\"><span class=\"pre\">to_dict</span></code></a>([orient,&nbsp;into])</p></td>\n",
    "<td><p>Convert the DataFrame to a dictionary.</p></td>\n",
    "</tr>\n",
    "<tr class=\"row-odd\"><td><p><a class=\"reference internal\" href=\"pandas.DataFrame.to_excel.html#pandas.DataFrame.to_excel\" title=\"pandas.DataFrame.to_excel\"><code class=\"xref py py-obj docutils literal notranslate\"><span class=\"pre\">to_excel</span></code></a>(excel_writer[,&nbsp;sheet_name,&nbsp;na_rep,&nbsp;...])</p></td>\n",
    "<td><p>Write object to an Excel sheet.</p></td>\n",
    "</tr>\n",
    "<tr class=\"row-even\"><td><p><a class=\"reference internal\" href=\"pandas.DataFrame.to_feather.html#pandas.DataFrame.to_feather\" title=\"pandas.DataFrame.to_feather\"><code class=\"xref py py-obj docutils literal notranslate\"><span class=\"pre\">to_feather</span></code></a>(path,&nbsp;**kwargs)</p></td>\n",
    "<td><p>Write a DataFrame to the binary Feather format.</p></td>\n",
    "</tr>\n",
    "<tr class=\"row-odd\"><td><p><a class=\"reference internal\" href=\"pandas.DataFrame.to_gbq.html#pandas.DataFrame.to_gbq\" title=\"pandas.DataFrame.to_gbq\"><code class=\"xref py py-obj docutils literal notranslate\"><span class=\"pre\">to_gbq</span></code></a>(destination_table[,&nbsp;project_id,&nbsp;...])</p></td>\n",
    "<td><p>Write a DataFrame to a Google BigQuery table.</p></td>\n",
    "</tr>\n",
    "<tr class=\"row-even\"><td><p><a class=\"reference internal\" href=\"pandas.DataFrame.to_hdf.html#pandas.DataFrame.to_hdf\" title=\"pandas.DataFrame.to_hdf\"><code class=\"xref py py-obj docutils literal notranslate\"><span class=\"pre\">to_hdf</span></code></a>(path_or_buf,&nbsp;key[,&nbsp;mode,&nbsp;complevel,&nbsp;...])</p></td>\n",
    "<td><p>Write the contained data to an HDF5 file using HDFStore.</p></td>\n",
    "</tr>\n",
    "<tr class=\"row-odd\"><td><p><a class=\"reference internal\" href=\"pandas.DataFrame.to_html.html#pandas.DataFrame.to_html\" title=\"pandas.DataFrame.to_html\"><code class=\"xref py py-obj docutils literal notranslate\"><span class=\"pre\">to_html</span></code></a>([buf,&nbsp;columns,&nbsp;col_space,&nbsp;header,&nbsp;...])</p></td>\n",
    "<td><p>Render a DataFrame as an HTML table.</p></td>\n",
    "</tr>\n",
    "<tr class=\"row-even\"><td><p><a class=\"reference internal\" href=\"pandas.DataFrame.to_json.html#pandas.DataFrame.to_json\" title=\"pandas.DataFrame.to_json\"><code class=\"xref py py-obj docutils literal notranslate\"><span class=\"pre\">to_json</span></code></a>([path_or_buf,&nbsp;orient,&nbsp;date_format,&nbsp;...])</p></td>\n",
    "<td><p>Convert the object to a JSON string.</p></td>\n",
    "</tr>\n",
    "<tr class=\"row-odd\"><td><p><a class=\"reference internal\" href=\"pandas.DataFrame.to_latex.html#pandas.DataFrame.to_latex\" title=\"pandas.DataFrame.to_latex\"><code class=\"xref py py-obj docutils literal notranslate\"><span class=\"pre\">to_latex</span></code></a>([buf,&nbsp;columns,&nbsp;col_space,&nbsp;header,&nbsp;...])</p></td>\n",
    "<td><p>Render object to a LaTeX tabular, longtable, or nested table.</p></td>\n",
    "</tr>\n",
    "<tr class=\"row-even\"><td><p><a class=\"reference internal\" href=\"pandas.DataFrame.to_markdown.html#pandas.DataFrame.to_markdown\" title=\"pandas.DataFrame.to_markdown\"><code class=\"xref py py-obj docutils literal notranslate\"><span class=\"pre\">to_markdown</span></code></a>([buf,&nbsp;mode,&nbsp;index,&nbsp;storage_options])</p></td>\n",
    "<td><p>Print DataFrame in Markdown-friendly format.</p></td>\n",
    "</tr>\n",
    "<tr class=\"row-odd\"><td><p><a class=\"reference internal\" href=\"pandas.DataFrame.to_numpy.html#pandas.DataFrame.to_numpy\" title=\"pandas.DataFrame.to_numpy\"><code class=\"xref py py-obj docutils literal notranslate\"><span class=\"pre\">to_numpy</span></code></a>([dtype,&nbsp;copy,&nbsp;na_value])</p></td>\n",
    "<td><p>Convert the DataFrame to a NumPy array.</p></td>\n",
    "</tr>\n",
    "<tr class=\"row-even\"><td><p><a class=\"reference internal\" href=\"pandas.DataFrame.to_orc.html#pandas.DataFrame.to_orc\" title=\"pandas.DataFrame.to_orc\"><code class=\"xref py py-obj docutils literal notranslate\"><span class=\"pre\">to_orc</span></code></a>([path,&nbsp;engine,&nbsp;index,&nbsp;engine_kwargs])</p></td>\n",
    "<td><p>Write a DataFrame to the ORC format.</p></td>\n",
    "</tr>\n",
    "<tr class=\"row-odd\"><td><p><a class=\"reference internal\" href=\"pandas.DataFrame.to_parquet.html#pandas.DataFrame.to_parquet\" title=\"pandas.DataFrame.to_parquet\"><code class=\"xref py py-obj docutils literal notranslate\"><span class=\"pre\">to_parquet</span></code></a>([path,&nbsp;engine,&nbsp;compression,&nbsp;...])</p></td>\n",
    "<td><p>Write a DataFrame to the binary parquet format.</p></td>\n",
    "</tr>\n",
    "<tr class=\"row-even\"><td><p><a class=\"reference internal\" href=\"pandas.DataFrame.to_period.html#pandas.DataFrame.to_period\" title=\"pandas.DataFrame.to_period\"><code class=\"xref py py-obj docutils literal notranslate\"><span class=\"pre\">to_period</span></code></a>([freq,&nbsp;axis,&nbsp;copy])</p></td>\n",
    "<td><p>Convert DataFrame from DatetimeIndex to PeriodIndex.</p></td>\n",
    "</tr>\n",
    "<tr class=\"row-odd\"><td><p><a class=\"reference internal\" href=\"pandas.DataFrame.to_pickle.html#pandas.DataFrame.to_pickle\" title=\"pandas.DataFrame.to_pickle\"><code class=\"xref py py-obj docutils literal notranslate\"><span class=\"pre\">to_pickle</span></code></a>(path[,&nbsp;compression,&nbsp;protocol,&nbsp;...])</p></td>\n",
    "<td><p>Pickle (serialize) object to file.</p></td>\n",
    "</tr>\n",
    "<tr class=\"row-even\"><td><p><a class=\"reference internal\" href=\"pandas.DataFrame.to_records.html#pandas.DataFrame.to_records\" title=\"pandas.DataFrame.to_records\"><code class=\"xref py py-obj docutils literal notranslate\"><span class=\"pre\">to_records</span></code></a>([index,&nbsp;column_dtypes,&nbsp;index_dtypes])</p></td>\n",
    "<td><p>Convert DataFrame to a NumPy record array.</p></td>\n",
    "</tr>\n",
    "<tr class=\"row-odd\"><td><p><a class=\"reference internal\" href=\"pandas.DataFrame.to_sql.html#pandas.DataFrame.to_sql\" title=\"pandas.DataFrame.to_sql\"><code class=\"xref py py-obj docutils literal notranslate\"><span class=\"pre\">to_sql</span></code></a>(name,&nbsp;con[,&nbsp;schema,&nbsp;if_exists,&nbsp;...])</p></td>\n",
    "<td><p>Write records stored in a DataFrame to a SQL database.</p></td>\n",
    "</tr>\n",
    "<tr class=\"row-even\"><td><p><a class=\"reference internal\" href=\"pandas.DataFrame.to_stata.html#pandas.DataFrame.to_stata\" title=\"pandas.DataFrame.to_stata\"><code class=\"xref py py-obj docutils literal notranslate\"><span class=\"pre\">to_stata</span></code></a>(path[,&nbsp;convert_dates,&nbsp;write_index,&nbsp;...])</p></td>\n",
    "<td><p>Export DataFrame object to Stata dta format.</p></td>\n",
    "</tr>\n",
    "<tr class=\"row-odd\"><td><p><a class=\"reference internal\" href=\"pandas.DataFrame.to_string.html#pandas.DataFrame.to_string\" title=\"pandas.DataFrame.to_string\"><code class=\"xref py py-obj docutils literal notranslate\"><span class=\"pre\">to_string</span></code></a>([buf,&nbsp;columns,&nbsp;col_space,&nbsp;header,&nbsp;...])</p></td>\n",
    "<td><p>Render a DataFrame to a console-friendly tabular output.</p></td>\n",
    "</tr>\n",
    "<tr class=\"row-even\"><td><p><a class=\"reference internal\" href=\"pandas.DataFrame.to_timestamp.html#pandas.DataFrame.to_timestamp\" title=\"pandas.DataFrame.to_timestamp\"><code class=\"xref py py-obj docutils literal notranslate\"><span class=\"pre\">to_timestamp</span></code></a>([freq,&nbsp;how,&nbsp;axis,&nbsp;copy])</p></td>\n",
    "<td><p>Cast to DatetimeIndex of timestamps, at <em>beginning</em> of period.</p></td>\n",
    "</tr>\n",
    "<tr class=\"row-odd\"><td><p><a class=\"reference internal\" href=\"pandas.DataFrame.to_xarray.html#pandas.DataFrame.to_xarray\" title=\"pandas.DataFrame.to_xarray\"><code class=\"xref py py-obj docutils literal notranslate\"><span class=\"pre\">to_xarray</span></code></a>()</p></td>\n",
    "<td><p>Return an xarray object from the pandas object.</p></td>\n",
    "</tr>\n",
    "<tr class=\"row-even\"><td><p><a class=\"reference internal\" href=\"pandas.DataFrame.to_xml.html#pandas.DataFrame.to_xml\" title=\"pandas.DataFrame.to_xml\"><code class=\"xref py py-obj docutils literal notranslate\"><span class=\"pre\">to_xml</span></code></a>([path_or_buffer,&nbsp;index,&nbsp;root_name,&nbsp;...])</p></td>\n",
    "<td><p>Render a DataFrame to an XML document.</p></td>\n",
    "</tr>\n",
    "<tr class=\"row-odd\"><td><p><a class=\"reference internal\" href=\"pandas.DataFrame.transform.html#pandas.DataFrame.transform\" title=\"pandas.DataFrame.transform\"><code class=\"xref py py-obj docutils literal notranslate\"><span class=\"pre\">transform</span></code></a>(func[,&nbsp;axis])</p></td>\n",
    "<td><p>Call <code class=\"docutils literal notranslate\"><span class=\"pre\">func</span></code> on self producing a DataFrame with the same axis shape as self.</p></td>\n",
    "</tr>\n",
    "<tr class=\"row-even\"><td><p><a class=\"reference internal\" href=\"pandas.DataFrame.transpose.html#pandas.DataFrame.transpose\" title=\"pandas.DataFrame.transpose\"><code class=\"xref py py-obj docutils literal notranslate\"><span class=\"pre\">transpose</span></code></a>(*args[,&nbsp;copy])</p></td>\n",
    "<td><p>Transpose index and columns.</p></td>\n",
    "</tr>\n",
    "<tr class=\"row-odd\"><td><p><a class=\"reference internal\" href=\"pandas.DataFrame.truediv.html#pandas.DataFrame.truediv\" title=\"pandas.DataFrame.truediv\"><code class=\"xref py py-obj docutils literal notranslate\"><span class=\"pre\">truediv</span></code></a>(other[,&nbsp;axis,&nbsp;level,&nbsp;fill_value])</p></td>\n",
    "<td><p>Get Floating division of dataframe and other, element-wise (binary operator <cite>truediv</cite>).</p></td>\n",
    "</tr>\n",
    "<tr class=\"row-even\"><td><p><a class=\"reference internal\" href=\"pandas.DataFrame.truncate.html#pandas.DataFrame.truncate\" title=\"pandas.DataFrame.truncate\"><code class=\"xref py py-obj docutils literal notranslate\"><span class=\"pre\">truncate</span></code></a>([before,&nbsp;after,&nbsp;axis,&nbsp;copy])</p></td>\n",
    "<td><p>Truncate a Series or DataFrame before and after some index value.</p></td>\n",
    "</tr>\n",
    "<tr class=\"row-odd\"><td><p><a class=\"reference internal\" href=\"pandas.DataFrame.tshift.html#pandas.DataFrame.tshift\" title=\"pandas.DataFrame.tshift\"><code class=\"xref py py-obj docutils literal notranslate\"><span class=\"pre\">tshift</span></code></a>([periods,&nbsp;freq,&nbsp;axis])</p></td>\n",
    "<td><p>(DEPRECATED) Shift the time index, using the index's frequency if available.</p></td>\n",
    "</tr>\n",
    "<tr class=\"row-even\"><td><p><a class=\"reference internal\" href=\"pandas.DataFrame.tz_convert.html#pandas.DataFrame.tz_convert\" title=\"pandas.DataFrame.tz_convert\"><code class=\"xref py py-obj docutils literal notranslate\"><span class=\"pre\">tz_convert</span></code></a>(tz[,&nbsp;axis,&nbsp;level,&nbsp;copy])</p></td>\n",
    "<td><p>Convert tz-aware axis to target time zone.</p></td>\n",
    "</tr>\n",
    "<tr class=\"row-odd\"><td><p><a class=\"reference internal\" href=\"pandas.DataFrame.tz_localize.html#pandas.DataFrame.tz_localize\" title=\"pandas.DataFrame.tz_localize\"><code class=\"xref py py-obj docutils literal notranslate\"><span class=\"pre\">tz_localize</span></code></a>(tz[,&nbsp;axis,&nbsp;level,&nbsp;copy,&nbsp;...])</p></td>\n",
    "<td><p>Localize tz-naive index of a Series or DataFrame to target time zone.</p></td>\n",
    "</tr>\n",
    "<tr class=\"row-even\"><td><p><a class=\"reference internal\" href=\"pandas.DataFrame.unstack.html#pandas.DataFrame.unstack\" title=\"pandas.DataFrame.unstack\"><code class=\"xref py py-obj docutils literal notranslate\"><span class=\"pre\">unstack</span></code></a>([level,&nbsp;fill_value])</p></td>\n",
    "<td><p>Pivot a level of the (necessarily hierarchical) index labels.</p></td>\n",
    "</tr>\n",
    "<tr class=\"row-odd\"><td><p><a class=\"reference internal\" href=\"pandas.DataFrame.update.html#pandas.DataFrame.update\" title=\"pandas.DataFrame.update\"><code class=\"xref py py-obj docutils literal notranslate\"><span class=\"pre\">update</span></code></a>(other[,&nbsp;join,&nbsp;overwrite,&nbsp;...])</p></td>\n",
    "<td><p>Modify in place using non-NA values from another DataFrame.</p></td>\n",
    "</tr>\n",
    "<tr class=\"row-even\"><td><p><a class=\"reference internal\" href=\"pandas.DataFrame.value_counts.html#pandas.DataFrame.value_counts\" title=\"pandas.DataFrame.value_counts\"><code class=\"xref py py-obj docutils literal notranslate\"><span class=\"pre\">value_counts</span></code></a>([subset,&nbsp;normalize,&nbsp;sort,&nbsp;...])</p></td>\n",
    "<td><p>Return a Series containing counts of unique rows in the DataFrame.</p></td>\n",
    "</tr>\n",
    "<tr class=\"row-odd\"><td><p><a class=\"reference internal\" href=\"pandas.DataFrame.var.html#pandas.DataFrame.var\" title=\"pandas.DataFrame.var\"><code class=\"xref py py-obj docutils literal notranslate\"><span class=\"pre\">var</span></code></a>([axis,&nbsp;skipna,&nbsp;level,&nbsp;ddof,&nbsp;numeric_only])</p></td>\n",
    "<td><p>Return unbiased variance over requested axis.</p></td>\n",
    "</tr>\n",
    "<tr class=\"row-even\"><td><p><a class=\"reference internal\" href=\"pandas.DataFrame.where.html#pandas.DataFrame.where\" title=\"pandas.DataFrame.where\"><code class=\"xref py py-obj docutils literal notranslate\"><span class=\"pre\">where</span></code></a>(cond[,&nbsp;other,&nbsp;inplace,&nbsp;axis,&nbsp;level,&nbsp;...])</p></td>\n",
    "<td><p>Replace values where the condition is False.</p></td>\n",
    "</tr>\n",
    "<tr class=\"row-odd\"><td><p><a class=\"reference internal\" href=\"pandas.DataFrame.xs.html#pandas.DataFrame.xs\" title=\"pandas.DataFrame.xs\"><code class=\"xref py py-obj docutils literal notranslate\"><span class=\"pre\">xs</span></code></a>(key[,&nbsp;axis,&nbsp;level,&nbsp;drop_level])</p></td>\n",
    "<td><p>Return cross-section from the Series/DataFrame.</p></td>\n",
    "</tr>\n",
    "</tbody>\n",
    "</table>\n",
    "    </dd>"
   ]
  },
  {
   "cell_type": "markdown",
   "id": "798fe642",
   "metadata": {
    "papermill": {
     "duration": 0.054355,
     "end_time": "2022-09-28T11:47:44.795169",
     "exception": false,
     "start_time": "2022-09-28T11:47:44.740814",
     "status": "completed"
    },
    "tags": []
   },
   "source": [
    "##### Creating a Pandas DataFrame\n",
    "\n"
   ]
  },
  {
   "cell_type": "code",
   "execution_count": 62,
   "id": "d768b8f0",
   "metadata": {
    "execution": {
     "iopub.execute_input": "2022-09-28T11:47:44.906336Z",
     "iopub.status.busy": "2022-09-28T11:47:44.905154Z",
     "iopub.status.idle": "2022-09-28T11:47:44.912663Z",
     "shell.execute_reply": "2022-09-28T11:47:44.911314Z"
    },
    "papermill": {
     "duration": 0.065699,
     "end_time": "2022-09-28T11:47:44.915167",
     "exception": false,
     "start_time": "2022-09-28T11:47:44.849468",
     "status": "completed"
    },
    "tags": []
   },
   "outputs": [
    {
     "name": "stdout",
     "output_type": "stream",
     "text": [
      "Empty DataFrame\n",
      "Columns: []\n",
      "Index: []\n"
     ]
    }
   ],
   "source": [
    "# Creating Empty DataFrame:\n",
    "empty_df=pd.DataFrame()\n",
    "print(empty_df) #No data "
   ]
  },
  {
   "cell_type": "code",
   "execution_count": 63,
   "id": "9054ad3e",
   "metadata": {
    "execution": {
     "iopub.execute_input": "2022-09-28T11:47:45.028759Z",
     "iopub.status.busy": "2022-09-28T11:47:45.027747Z",
     "iopub.status.idle": "2022-09-28T11:47:45.036365Z",
     "shell.execute_reply": "2022-09-28T11:47:45.034810Z"
    },
    "papermill": {
     "duration": 0.067305,
     "end_time": "2022-09-28T11:47:45.038591",
     "exception": false,
     "start_time": "2022-09-28T11:47:44.971286",
     "status": "completed"
    },
    "tags": []
   },
   "outputs": [
    {
     "name": "stdout",
     "output_type": "stream",
     "text": [
      "We can Print by Using print():\n",
      "           0\n",
      "0     Bhawan\n",
      "1      Singh\n",
      "2    Solanki\n",
      "3   Learning\n",
      "4     Pandas\n",
      "5  DataFrame\n"
     ]
    }
   ],
   "source": [
    "# Creating by giving list:\n",
    "lst=[\"Bhawan\",\"Singh\",\"Solanki\",\"Learning\",\"Pandas\",\"DataFrame\"]\n",
    "df=pd.DataFrame(lst)\n",
    "print(\"We can Print by Using print():\")\n",
    "print(df)"
   ]
  },
  {
   "cell_type": "code",
   "execution_count": 64,
   "id": "04b2c50f",
   "metadata": {
    "execution": {
     "iopub.execute_input": "2022-09-28T11:47:45.150967Z",
     "iopub.status.busy": "2022-09-28T11:47:45.150310Z",
     "iopub.status.idle": "2022-09-28T11:47:45.163965Z",
     "shell.execute_reply": "2022-09-28T11:47:45.162477Z"
    },
    "papermill": {
     "duration": 0.072698,
     "end_time": "2022-09-28T11:47:45.166573",
     "exception": false,
     "start_time": "2022-09-28T11:47:45.093875",
     "status": "completed"
    },
    "tags": []
   },
   "outputs": [
    {
     "name": "stdout",
     "output_type": "stream",
     "text": [
      "We can direct like below:\n"
     ]
    },
    {
     "data": {
      "text/html": [
       "<div>\n",
       "<style scoped>\n",
       "    .dataframe tbody tr th:only-of-type {\n",
       "        vertical-align: middle;\n",
       "    }\n",
       "\n",
       "    .dataframe tbody tr th {\n",
       "        vertical-align: top;\n",
       "    }\n",
       "\n",
       "    .dataframe thead th {\n",
       "        text-align: right;\n",
       "    }\n",
       "</style>\n",
       "<table border=\"1\" class=\"dataframe\">\n",
       "  <thead>\n",
       "    <tr style=\"text-align: right;\">\n",
       "      <th></th>\n",
       "      <th>0</th>\n",
       "    </tr>\n",
       "  </thead>\n",
       "  <tbody>\n",
       "    <tr>\n",
       "      <th>0</th>\n",
       "      <td>Bhawan</td>\n",
       "    </tr>\n",
       "    <tr>\n",
       "      <th>1</th>\n",
       "      <td>Singh</td>\n",
       "    </tr>\n",
       "    <tr>\n",
       "      <th>2</th>\n",
       "      <td>Solanki</td>\n",
       "    </tr>\n",
       "    <tr>\n",
       "      <th>3</th>\n",
       "      <td>Learning</td>\n",
       "    </tr>\n",
       "    <tr>\n",
       "      <th>4</th>\n",
       "      <td>Pandas</td>\n",
       "    </tr>\n",
       "    <tr>\n",
       "      <th>5</th>\n",
       "      <td>DataFrame</td>\n",
       "    </tr>\n",
       "  </tbody>\n",
       "</table>\n",
       "</div>"
      ],
      "text/plain": [
       "           0\n",
       "0     Bhawan\n",
       "1      Singh\n",
       "2    Solanki\n",
       "3   Learning\n",
       "4     Pandas\n",
       "5  DataFrame"
      ]
     },
     "execution_count": 64,
     "metadata": {},
     "output_type": "execute_result"
    }
   ],
   "source": [
    "print(\"We can direct like below:\")\n",
    "df"
   ]
  },
  {
   "cell_type": "code",
   "execution_count": 65,
   "id": "fe4a45dc",
   "metadata": {
    "execution": {
     "iopub.execute_input": "2022-09-28T11:47:45.283291Z",
     "iopub.status.busy": "2022-09-28T11:47:45.282902Z",
     "iopub.status.idle": "2022-09-28T11:47:45.293977Z",
     "shell.execute_reply": "2022-09-28T11:47:45.292577Z"
    },
    "papermill": {
     "duration": 0.07127,
     "end_time": "2022-09-28T11:47:45.296393",
     "exception": false,
     "start_time": "2022-09-28T11:47:45.225123",
     "status": "completed"
    },
    "tags": []
   },
   "outputs": [
    {
     "name": "stdout",
     "output_type": "stream",
     "text": [
      "DataFrame with Multiple column:\n"
     ]
    },
    {
     "data": {
      "text/html": [
       "<div>\n",
       "<style scoped>\n",
       "    .dataframe tbody tr th:only-of-type {\n",
       "        vertical-align: middle;\n",
       "    }\n",
       "\n",
       "    .dataframe tbody tr th {\n",
       "        vertical-align: top;\n",
       "    }\n",
       "\n",
       "    .dataframe thead th {\n",
       "        text-align: right;\n",
       "    }\n",
       "</style>\n",
       "<table border=\"1\" class=\"dataframe\">\n",
       "  <thead>\n",
       "    <tr style=\"text-align: right;\">\n",
       "      <th></th>\n",
       "      <th>0</th>\n",
       "      <th>1</th>\n",
       "      <th>2</th>\n",
       "    </tr>\n",
       "  </thead>\n",
       "  <tbody>\n",
       "    <tr>\n",
       "      <th>0</th>\n",
       "      <td>1</td>\n",
       "      <td>2</td>\n",
       "      <td>3</td>\n",
       "    </tr>\n",
       "    <tr>\n",
       "      <th>1</th>\n",
       "      <td>4</td>\n",
       "      <td>5</td>\n",
       "      <td>6</td>\n",
       "    </tr>\n",
       "    <tr>\n",
       "      <th>2</th>\n",
       "      <td>7</td>\n",
       "      <td>8</td>\n",
       "      <td>9</td>\n",
       "    </tr>\n",
       "  </tbody>\n",
       "</table>\n",
       "</div>"
      ],
      "text/plain": [
       "   0  1  2\n",
       "0  1  2  3\n",
       "1  4  5  6\n",
       "2  7  8  9"
      ]
     },
     "execution_count": 65,
     "metadata": {},
     "output_type": "execute_result"
    }
   ],
   "source": [
    "#list with multiple columnn\n",
    "lst=[[1,2,3],[4,5,6],[7,8,9]]\n",
    "df1=pd.DataFrame(lst)\n",
    "print(\"DataFrame with Multiple column:\")\n",
    "df1"
   ]
  },
  {
   "cell_type": "code",
   "execution_count": 66,
   "id": "43fd9e64",
   "metadata": {
    "execution": {
     "iopub.execute_input": "2022-09-28T11:47:45.409044Z",
     "iopub.status.busy": "2022-09-28T11:47:45.408083Z",
     "iopub.status.idle": "2022-09-28T11:47:45.420796Z",
     "shell.execute_reply": "2022-09-28T11:47:45.419271Z"
    },
    "papermill": {
     "duration": 0.07135,
     "end_time": "2022-09-28T11:47:45.422938",
     "exception": false,
     "start_time": "2022-09-28T11:47:45.351588",
     "status": "completed"
    },
    "tags": []
   },
   "outputs": [
    {
     "name": "stdout",
     "output_type": "stream",
     "text": [
      "DataFrame with Multiple column:\n"
     ]
    },
    {
     "data": {
      "text/html": [
       "<div>\n",
       "<style scoped>\n",
       "    .dataframe tbody tr th:only-of-type {\n",
       "        vertical-align: middle;\n",
       "    }\n",
       "\n",
       "    .dataframe tbody tr th {\n",
       "        vertical-align: top;\n",
       "    }\n",
       "\n",
       "    .dataframe thead th {\n",
       "        text-align: right;\n",
       "    }\n",
       "</style>\n",
       "<table border=\"1\" class=\"dataframe\">\n",
       "  <thead>\n",
       "    <tr style=\"text-align: right;\">\n",
       "      <th></th>\n",
       "      <th>0</th>\n",
       "      <th>1</th>\n",
       "      <th>2</th>\n",
       "      <th>3</th>\n",
       "    </tr>\n",
       "  </thead>\n",
       "  <tbody>\n",
       "    <tr>\n",
       "      <th>0</th>\n",
       "      <td>1</td>\n",
       "      <td>2</td>\n",
       "      <td>3</td>\n",
       "      <td>NaN</td>\n",
       "    </tr>\n",
       "    <tr>\n",
       "      <th>1</th>\n",
       "      <td>4</td>\n",
       "      <td>5</td>\n",
       "      <td>6</td>\n",
       "      <td>NaN</td>\n",
       "    </tr>\n",
       "    <tr>\n",
       "      <th>2</th>\n",
       "      <td>7</td>\n",
       "      <td>8</td>\n",
       "      <td>9</td>\n",
       "      <td>NaN</td>\n",
       "    </tr>\n",
       "    <tr>\n",
       "      <th>3</th>\n",
       "      <td>1</td>\n",
       "      <td>2</td>\n",
       "      <td>3</td>\n",
       "      <td>4.0</td>\n",
       "    </tr>\n",
       "  </tbody>\n",
       "</table>\n",
       "</div>"
      ],
      "text/plain": [
       "   0  1  2    3\n",
       "0  1  2  3  NaN\n",
       "1  4  5  6  NaN\n",
       "2  7  8  9  NaN\n",
       "3  1  2  3  4.0"
      ]
     },
     "execution_count": 66,
     "metadata": {},
     "output_type": "execute_result"
    }
   ],
   "source": [
    "#list with multiple columnn\n",
    "lst=[[1,2,3],[4,5,6],[7,8,9],[1,2,3,4]]\n",
    "df1=pd.DataFrame(lst)\n",
    "print(\"DataFrame with Multiple column:\")\n",
    "df1"
   ]
  },
  {
   "cell_type": "code",
   "execution_count": 67,
   "id": "e4eed096",
   "metadata": {
    "execution": {
     "iopub.execute_input": "2022-09-28T11:47:45.539145Z",
     "iopub.status.busy": "2022-09-28T11:47:45.538795Z",
     "iopub.status.idle": "2022-09-28T11:47:45.552237Z",
     "shell.execute_reply": "2022-09-28T11:47:45.550668Z"
    },
    "papermill": {
     "duration": 0.073086,
     "end_time": "2022-09-28T11:47:45.555076",
     "exception": false,
     "start_time": "2022-09-28T11:47:45.481990",
     "status": "completed"
    },
    "tags": []
   },
   "outputs": [
    {
     "name": "stdout",
     "output_type": "stream",
     "text": [
      "DataFrame with Dictionalry:\n"
     ]
    },
    {
     "data": {
      "text/html": [
       "<div>\n",
       "<style scoped>\n",
       "    .dataframe tbody tr th:only-of-type {\n",
       "        vertical-align: middle;\n",
       "    }\n",
       "\n",
       "    .dataframe tbody tr th {\n",
       "        vertical-align: top;\n",
       "    }\n",
       "\n",
       "    .dataframe thead th {\n",
       "        text-align: right;\n",
       "    }\n",
       "</style>\n",
       "<table border=\"1\" class=\"dataframe\">\n",
       "  <thead>\n",
       "    <tr style=\"text-align: right;\">\n",
       "      <th></th>\n",
       "      <th>Test</th>\n",
       "      <th>Odi</th>\n",
       "      <th>T-20</th>\n",
       "    </tr>\n",
       "  </thead>\n",
       "  <tbody>\n",
       "    <tr>\n",
       "      <th>0</th>\n",
       "      <td>India</td>\n",
       "      <td>England</td>\n",
       "      <td>Pakistan</td>\n",
       "    </tr>\n",
       "    <tr>\n",
       "      <th>1</th>\n",
       "      <td>South Africa</td>\n",
       "      <td>India</td>\n",
       "      <td>India</td>\n",
       "    </tr>\n",
       "    <tr>\n",
       "      <th>2</th>\n",
       "      <td>England</td>\n",
       "      <td>New Zealand</td>\n",
       "      <td>Australia</td>\n",
       "    </tr>\n",
       "    <tr>\n",
       "      <th>3</th>\n",
       "      <td>New Zealand</td>\n",
       "      <td>South Africa</td>\n",
       "      <td>England</td>\n",
       "    </tr>\n",
       "    <tr>\n",
       "      <th>4</th>\n",
       "      <td>Australia</td>\n",
       "      <td>Pakistan</td>\n",
       "      <td>New Zealand</td>\n",
       "    </tr>\n",
       "  </tbody>\n",
       "</table>\n",
       "</div>"
      ],
      "text/plain": [
       "           Test           Odi         T-20\n",
       "0         India       England     Pakistan\n",
       "1  South Africa         India        India\n",
       "2       England   New Zealand    Australia\n",
       "3   New Zealand  South Africa      England\n",
       "4     Australia      Pakistan  New Zealand"
      ]
     },
     "execution_count": 67,
     "metadata": {},
     "output_type": "execute_result"
    }
   ],
   "source": [
    "#Creating DataFrame from dict of ndarray/lists:\n",
    "dic={'Test': ['India', 'South Africa', 'England',\n",
    "                            'New Zealand', 'Australia'],\n",
    "              'Odi': ['England', 'India', 'New Zealand',\n",
    "                            'South Africa', 'Pakistan'],\n",
    "               'T-20': ['Pakistan', 'India', 'Australia', \n",
    "                              'England', 'New Zealand']}\n",
    "print(\"DataFrame with Dictionalry:\")\n",
    "df2=pd.DataFrame(dic)\n",
    "df2"
   ]
  },
  {
   "cell_type": "code",
   "execution_count": 68,
   "id": "fcfe52cb",
   "metadata": {
    "execution": {
     "iopub.execute_input": "2022-09-28T11:47:45.670541Z",
     "iopub.status.busy": "2022-09-28T11:47:45.670185Z",
     "iopub.status.idle": "2022-09-28T11:47:45.680844Z",
     "shell.execute_reply": "2022-09-28T11:47:45.679921Z"
    },
    "papermill": {
     "duration": 0.070394,
     "end_time": "2022-09-28T11:47:45.682931",
     "exception": false,
     "start_time": "2022-09-28T11:47:45.612537",
     "status": "completed"
    },
    "tags": []
   },
   "outputs": [
    {
     "data": {
      "text/html": [
       "<div>\n",
       "<style scoped>\n",
       "    .dataframe tbody tr th:only-of-type {\n",
       "        vertical-align: middle;\n",
       "    }\n",
       "\n",
       "    .dataframe tbody tr th {\n",
       "        vertical-align: top;\n",
       "    }\n",
       "\n",
       "    .dataframe thead th {\n",
       "        text-align: right;\n",
       "    }\n",
       "</style>\n",
       "<table border=\"1\" class=\"dataframe\">\n",
       "  <thead>\n",
       "    <tr style=\"text-align: right;\">\n",
       "      <th></th>\n",
       "      <th>Test</th>\n",
       "      <th>Odi</th>\n",
       "      <th>T-20</th>\n",
       "    </tr>\n",
       "  </thead>\n",
       "  <tbody>\n",
       "    <tr>\n",
       "      <th>1</th>\n",
       "      <td>India</td>\n",
       "      <td>England</td>\n",
       "      <td>Pakistan</td>\n",
       "    </tr>\n",
       "    <tr>\n",
       "      <th>2</th>\n",
       "      <td>South Africa</td>\n",
       "      <td>India</td>\n",
       "      <td>India</td>\n",
       "    </tr>\n",
       "    <tr>\n",
       "      <th>3</th>\n",
       "      <td>England</td>\n",
       "      <td>New Zealand</td>\n",
       "      <td>Australia</td>\n",
       "    </tr>\n",
       "    <tr>\n",
       "      <th>4</th>\n",
       "      <td>New Zealand</td>\n",
       "      <td>South Africa</td>\n",
       "      <td>England</td>\n",
       "    </tr>\n",
       "    <tr>\n",
       "      <th>5</th>\n",
       "      <td>Australia</td>\n",
       "      <td>Pakistan</td>\n",
       "      <td>New Zealand</td>\n",
       "    </tr>\n",
       "  </tbody>\n",
       "</table>\n",
       "</div>"
      ],
      "text/plain": [
       "           Test           Odi         T-20\n",
       "1         India       England     Pakistan\n",
       "2  South Africa         India        India\n",
       "3       England   New Zealand    Australia\n",
       "4   New Zealand  South Africa      England\n",
       "5     Australia      Pakistan  New Zealand"
      ]
     },
     "execution_count": 68,
     "metadata": {},
     "output_type": "execute_result"
    }
   ],
   "source": [
    "# Incrementing the index so that index starts at 1 (starts at 0 by default) \n",
    "df2.index += 1\n",
    "df2"
   ]
  },
  {
   "cell_type": "code",
   "execution_count": 69,
   "id": "de30ef34",
   "metadata": {
    "execution": {
     "iopub.execute_input": "2022-09-28T11:47:45.799080Z",
     "iopub.status.busy": "2022-09-28T11:47:45.797278Z",
     "iopub.status.idle": "2022-09-28T11:47:45.810542Z",
     "shell.execute_reply": "2022-09-28T11:47:45.809595Z"
    },
    "papermill": {
     "duration": 0.07321,
     "end_time": "2022-09-28T11:47:45.812591",
     "exception": false,
     "start_time": "2022-09-28T11:47:45.739381",
     "status": "completed"
    },
    "tags": []
   },
   "outputs": [
    {
     "data": {
      "text/html": [
       "<div>\n",
       "<style scoped>\n",
       "    .dataframe tbody tr th:only-of-type {\n",
       "        vertical-align: middle;\n",
       "    }\n",
       "\n",
       "    .dataframe tbody tr th {\n",
       "        vertical-align: top;\n",
       "    }\n",
       "\n",
       "    .dataframe thead th {\n",
       "        text-align: right;\n",
       "    }\n",
       "</style>\n",
       "<table border=\"1\" class=\"dataframe\">\n",
       "  <thead>\n",
       "    <tr style=\"text-align: right;\">\n",
       "      <th></th>\n",
       "      <th>Test</th>\n",
       "      <th>ODI</th>\n",
       "      <th>T20</th>\n",
       "    </tr>\n",
       "  </thead>\n",
       "  <tbody>\n",
       "    <tr>\n",
       "      <th>1</th>\n",
       "      <td>Virat Kohli</td>\n",
       "      <td>Virat Kohli</td>\n",
       "      <td>Babar Azam</td>\n",
       "    </tr>\n",
       "    <tr>\n",
       "      <th>2</th>\n",
       "      <td>Steve Smith</td>\n",
       "      <td>Rohit Sharma</td>\n",
       "      <td>Aaron Finch</td>\n",
       "    </tr>\n",
       "    <tr>\n",
       "      <th>3</th>\n",
       "      <td>Kane Williamson</td>\n",
       "      <td>Joe Root</td>\n",
       "      <td>Colin Munro</td>\n",
       "    </tr>\n",
       "    <tr>\n",
       "      <th>4</th>\n",
       "      <td>Joe Root</td>\n",
       "      <td>David Warner</td>\n",
       "      <td>Lokesh Rahul</td>\n",
       "    </tr>\n",
       "    <tr>\n",
       "      <th>5</th>\n",
       "      <td>David Warner</td>\n",
       "      <td>Babar Azam</td>\n",
       "      <td>Fakhar Zaman</td>\n",
       "    </tr>\n",
       "  </tbody>\n",
       "</table>\n",
       "</div>"
      ],
      "text/plain": [
       "              Test           ODI           T20\n",
       "1      Virat Kohli   Virat Kohli    Babar Azam\n",
       "2      Steve Smith  Rohit Sharma   Aaron Finch\n",
       "3  Kane Williamson      Joe Root   Colin Munro\n",
       "4         Joe Root  David Warner  Lokesh Rahul\n",
       "5     David Warner    Babar Azam  Fakhar Zaman"
      ]
     },
     "execution_count": 69,
     "metadata": {},
     "output_type": "execute_result"
    }
   ],
   "source": [
    "# Lists of top 5 batsmen for each format\n",
    "test_batsmen = ['Virat Kohli', 'Steve Smith', 'Kane Williamson',\n",
    "                                     'Joe Root', 'David Warner']\n",
    "odi_batsmen = ['Virat Kohli', 'Rohit Sharma', 'Joe Root',\n",
    "                            'David Warner', 'Babar Azam']\n",
    "t20_batsmen = ['Babar Azam', 'Aaron Finch', 'Colin Munro',\n",
    "                           'Lokesh Rahul', 'Fakhar Zaman']\n",
    "\n",
    "# Define a dictionary containing ICC rankings for batsmen\n",
    "dic={'Test':test_batsmen,\n",
    "    'ODI':odi_batsmen,\n",
    "    'T20':t20_batsmen}\n",
    "\n",
    "# Convert the dictionary into DataFrame\n",
    "df2=pd.DataFrame(dic)\n",
    "df2.index+=1\n",
    "df2"
   ]
  },
  {
   "cell_type": "markdown",
   "id": "66ec7cda",
   "metadata": {
    "papermill": {
     "duration": 0.056697,
     "end_time": "2022-09-28T11:47:45.925979",
     "exception": false,
     "start_time": "2022-09-28T11:47:45.869282",
     "status": "completed"
    },
    "tags": []
   },
   "source": [
    "``` python\n",
    "dic={\"ID\":[1,2,3,4,5],\"Name\":[\"Bhawan\",\"Deena\",\"Bhavi\"]}\n",
    "df2=pd.DataFrame(dic)\n",
    "\n",
    "---------------------------------------------------------------------------\n",
    "ValueError                                Traceback (most recent call last)\n",
    "/tmp/ipykernel_17/3048458879.py in <module>\n",
    "      1 dic={\"ID\":[1,2,3,4,5],\"Name\":[\"Bhawan\",\"Deena\",\"Bhavi\"]}\n",
    "----> 2 df2=pd.DataFrame(dic)\n",
    "\n",
    "/opt/conda/lib/python3.7/site-packages/pandas/core/frame.py in __init__(self, data, index, columns, dtype, copy)\n",
    "    612         elif isinstance(data, dict):\n",
    "    613             # GH#38939 de facto copy defaults to False only in non-dict cases\n",
    "--> 614             mgr = dict_to_mgr(data, index, columns, dtype=dtype, copy=copy, typ=manager)\n",
    "    615         elif isinstance(data, ma.MaskedArray):\n",
    "    616             import numpy.ma.mrecords as mrecords\n",
    "\n",
    "/opt/conda/lib/python3.7/site-packages/pandas/core/internals/construction.py in dict_to_mgr(data, index, columns, dtype, typ, copy)\n",
    "    463 \n",
    "    464     return arrays_to_mgr(\n",
    "--> 465         arrays, data_names, index, columns, dtype=dtype, typ=typ, consolidate=copy\n",
    "    466     )\n",
    "    467 \n",
    "\n",
    "/opt/conda/lib/python3.7/site-packages/pandas/core/internals/construction.py in arrays_to_mgr(arrays, arr_names, index, columns, dtype, verify_integrity, typ, consolidate)\n",
    "    117         # figure out the index, if necessary\n",
    "    118         if index is None:\n",
    "--> 119             index = _extract_index(arrays)\n",
    "    120         else:\n",
    "    121             index = ensure_index(index)\n",
    "\n",
    "/opt/conda/lib/python3.7/site-packages/pandas/core/internals/construction.py in _extract_index(data)\n",
    "    633             lengths = list(set(raw_lengths))\n",
    "    634             if len(lengths) > 1:\n",
    "--> 635                 raise ValueError(\"All arrays must be of the same length\")\n",
    "    636 \n",
    "    637             if have_dicts:\n",
    "\n",
    "ValueError: All arrays must be of the same length\n",
    "```"
   ]
  },
  {
   "cell_type": "code",
   "execution_count": 70,
   "id": "93e3613a",
   "metadata": {
    "execution": {
     "iopub.execute_input": "2022-09-28T11:47:46.043151Z",
     "iopub.status.busy": "2022-09-28T11:47:46.042233Z",
     "iopub.status.idle": "2022-09-28T11:47:46.052752Z",
     "shell.execute_reply": "2022-09-28T11:47:46.051762Z"
    },
    "papermill": {
     "duration": 0.071574,
     "end_time": "2022-09-28T11:47:46.055048",
     "exception": false,
     "start_time": "2022-09-28T11:47:45.983474",
     "status": "completed"
    },
    "tags": []
   },
   "outputs": [
    {
     "data": {
      "text/html": [
       "<div>\n",
       "<style scoped>\n",
       "    .dataframe tbody tr th:only-of-type {\n",
       "        vertical-align: middle;\n",
       "    }\n",
       "\n",
       "    .dataframe tbody tr th {\n",
       "        vertical-align: top;\n",
       "    }\n",
       "\n",
       "    .dataframe thead th {\n",
       "        text-align: right;\n",
       "    }\n",
       "</style>\n",
       "<table border=\"1\" class=\"dataframe\">\n",
       "  <thead>\n",
       "    <tr style=\"text-align: right;\">\n",
       "      <th></th>\n",
       "      <th>ID</th>\n",
       "      <th>Name</th>\n",
       "    </tr>\n",
       "  </thead>\n",
       "  <tbody>\n",
       "    <tr>\n",
       "      <th>0</th>\n",
       "      <td>1</td>\n",
       "      <td>Bhawan</td>\n",
       "    </tr>\n",
       "    <tr>\n",
       "      <th>1</th>\n",
       "      <td>2</td>\n",
       "      <td>Deena</td>\n",
       "    </tr>\n",
       "    <tr>\n",
       "      <th>2</th>\n",
       "      <td>3</td>\n",
       "      <td>Bhavi</td>\n",
       "    </tr>\n",
       "    <tr>\n",
       "      <th>3</th>\n",
       "      <td>4</td>\n",
       "      <td>Gaurav</td>\n",
       "    </tr>\n",
       "    <tr>\n",
       "      <th>4</th>\n",
       "      <td>5</td>\n",
       "      <td>Birag</td>\n",
       "    </tr>\n",
       "  </tbody>\n",
       "</table>\n",
       "</div>"
      ],
      "text/plain": [
       "   ID    Name\n",
       "0   1  Bhawan\n",
       "1   2   Deena\n",
       "2   3   Bhavi\n",
       "3   4  Gaurav\n",
       "4   5   Birag"
      ]
     },
     "execution_count": 70,
     "metadata": {},
     "output_type": "execute_result"
    }
   ],
   "source": [
    "dic={\"ID\":[1,2,3,4,5],\"Name\":[\"Bhawan\",\"Deena\",\"Bhavi\",\"Gaurav\",\"Birag\"]}\n",
    "df2=pd.DataFrame(dic)\n",
    "df2"
   ]
  },
  {
   "cell_type": "code",
   "execution_count": 71,
   "id": "cbc1398d",
   "metadata": {
    "execution": {
     "iopub.execute_input": "2022-09-28T11:47:46.190157Z",
     "iopub.status.busy": "2022-09-28T11:47:46.189715Z",
     "iopub.status.idle": "2022-09-28T11:47:46.206726Z",
     "shell.execute_reply": "2022-09-28T11:47:46.204389Z"
    },
    "papermill": {
     "duration": 0.098566,
     "end_time": "2022-09-28T11:47:46.213469",
     "exception": false,
     "start_time": "2022-09-28T11:47:46.114903",
     "status": "completed"
    },
    "tags": []
   },
   "outputs": [
    {
     "data": {
      "text/html": [
       "<div>\n",
       "<style scoped>\n",
       "    .dataframe tbody tr th:only-of-type {\n",
       "        vertical-align: middle;\n",
       "    }\n",
       "\n",
       "    .dataframe tbody tr th {\n",
       "        vertical-align: top;\n",
       "    }\n",
       "\n",
       "    .dataframe thead th {\n",
       "        text-align: right;\n",
       "    }\n",
       "</style>\n",
       "<table border=\"1\" class=\"dataframe\">\n",
       "  <thead>\n",
       "    <tr style=\"text-align: right;\">\n",
       "      <th></th>\n",
       "      <th>a</th>\n",
       "      <th>b</th>\n",
       "      <th>c</th>\n",
       "    </tr>\n",
       "  </thead>\n",
       "  <tbody>\n",
       "    <tr>\n",
       "      <th>0</th>\n",
       "      <td>1</td>\n",
       "      <td>2</td>\n",
       "      <td>NaN</td>\n",
       "    </tr>\n",
       "    <tr>\n",
       "      <th>1</th>\n",
       "      <td>3</td>\n",
       "      <td>4</td>\n",
       "      <td>Bhawan</td>\n",
       "    </tr>\n",
       "  </tbody>\n",
       "</table>\n",
       "</div>"
      ],
      "text/plain": [
       "   a  b       c\n",
       "0  1  2     NaN\n",
       "1  3  4  Bhawan"
      ]
     },
     "execution_count": 71,
     "metadata": {},
     "output_type": "execute_result"
    }
   ],
   "source": [
    "# Creating with help of list of Dictionary:\n",
    "ls_dict = [{'a':1, 'b':2}, {'a':3, 'b':4,'c':\"Bhawan\"}]\n",
    "df2=pd.DataFrame(ls_dict)\n",
    "df2"
   ]
  },
  {
   "cell_type": "code",
   "execution_count": 72,
   "id": "23e3992b",
   "metadata": {
    "execution": {
     "iopub.execute_input": "2022-09-28T11:47:46.488801Z",
     "iopub.status.busy": "2022-09-28T11:47:46.488389Z",
     "iopub.status.idle": "2022-09-28T11:47:46.508507Z",
     "shell.execute_reply": "2022-09-28T11:47:46.507670Z"
    },
    "papermill": {
     "duration": 0.114636,
     "end_time": "2022-09-28T11:47:46.510489",
     "exception": false,
     "start_time": "2022-09-28T11:47:46.395853",
     "status": "completed"
    },
    "tags": []
   },
   "outputs": [
    {
     "data": {
      "text/html": [
       "<div>\n",
       "<style scoped>\n",
       "    .dataframe tbody tr th:only-of-type {\n",
       "        vertical-align: middle;\n",
       "    }\n",
       "\n",
       "    .dataframe tbody tr th {\n",
       "        vertical-align: top;\n",
       "    }\n",
       "\n",
       "    .dataframe thead th {\n",
       "        text-align: right;\n",
       "    }\n",
       "</style>\n",
       "<table border=\"1\" class=\"dataframe\">\n",
       "  <thead>\n",
       "    <tr style=\"text-align: right;\">\n",
       "      <th></th>\n",
       "      <th>List1</th>\n",
       "      <th>DATA</th>\n",
       "      <th>List2</th>\n",
       "      <th>data</th>\n",
       "    </tr>\n",
       "  </thead>\n",
       "  <tbody>\n",
       "    <tr>\n",
       "      <th>0</th>\n",
       "      <td>[1, 2, 3, 4]</td>\n",
       "      <td>[Bhawan, Bhavi]</td>\n",
       "      <td>NaN</td>\n",
       "      <td>NaN</td>\n",
       "    </tr>\n",
       "    <tr>\n",
       "      <th>1</th>\n",
       "      <td>NaN</td>\n",
       "      <td>NaN</td>\n",
       "      <td>[list second, Second]</td>\n",
       "      <td>this is Data of list 2</td>\n",
       "    </tr>\n",
       "  </tbody>\n",
       "</table>\n",
       "</div>"
      ],
      "text/plain": [
       "          List1             DATA                  List2  \\\n",
       "0  [1, 2, 3, 4]  [Bhawan, Bhavi]                    NaN   \n",
       "1           NaN              NaN  [list second, Second]   \n",
       "\n",
       "                     data  \n",
       "0                     NaN  \n",
       "1  this is Data of list 2  "
      ]
     },
     "execution_count": 72,
     "metadata": {},
     "output_type": "execute_result"
    }
   ],
   "source": [
    "lst=[{\"List1\":[1,2,3,4],\"DATA\":[\"Bhawan\",\"Bhavi\"]},{\"List2\":[\"list second\",\"Second\"],\"data\":\"this is Data of list 2\"}]\n",
    "df2=pd.DataFrame(lst)\n",
    "df2"
   ]
  },
  {
   "cell_type": "markdown",
   "id": "9544863b",
   "metadata": {
    "papermill": {
     "duration": 0.087445,
     "end_time": "2022-09-28T11:47:46.684725",
     "exception": false,
     "start_time": "2022-09-28T11:47:46.597280",
     "status": "completed"
    },
    "tags": []
   },
   "source": [
    "### Accessing Element from DataFrame :"
   ]
  },
  {
   "cell_type": "code",
   "execution_count": 73,
   "id": "79af9a4c",
   "metadata": {
    "execution": {
     "iopub.execute_input": "2022-09-28T11:47:46.850923Z",
     "iopub.status.busy": "2022-09-28T11:47:46.850550Z",
     "iopub.status.idle": "2022-09-28T11:47:46.862197Z",
     "shell.execute_reply": "2022-09-28T11:47:46.861308Z"
    },
    "papermill": {
     "duration": 0.089608,
     "end_time": "2022-09-28T11:47:46.864255",
     "exception": false,
     "start_time": "2022-09-28T11:47:46.774647",
     "status": "completed"
    },
    "tags": []
   },
   "outputs": [
    {
     "data": {
      "text/html": [
       "<div>\n",
       "<style scoped>\n",
       "    .dataframe tbody tr th:only-of-type {\n",
       "        vertical-align: middle;\n",
       "    }\n",
       "\n",
       "    .dataframe tbody tr th {\n",
       "        vertical-align: top;\n",
       "    }\n",
       "\n",
       "    .dataframe thead th {\n",
       "        text-align: right;\n",
       "    }\n",
       "</style>\n",
       "<table border=\"1\" class=\"dataframe\">\n",
       "  <thead>\n",
       "    <tr style=\"text-align: right;\">\n",
       "      <th></th>\n",
       "      <th>Name</th>\n",
       "      <th>Age</th>\n",
       "      <th>Address</th>\n",
       "      <th>Qualification</th>\n",
       "    </tr>\n",
       "  </thead>\n",
       "  <tbody>\n",
       "    <tr>\n",
       "      <th>0</th>\n",
       "      <td>Jai</td>\n",
       "      <td>27</td>\n",
       "      <td>Delhi</td>\n",
       "      <td>Msc</td>\n",
       "    </tr>\n",
       "    <tr>\n",
       "      <th>1</th>\n",
       "      <td>Princi</td>\n",
       "      <td>24</td>\n",
       "      <td>Kanpur</td>\n",
       "      <td>MA</td>\n",
       "    </tr>\n",
       "    <tr>\n",
       "      <th>2</th>\n",
       "      <td>Gaurav</td>\n",
       "      <td>22</td>\n",
       "      <td>Allahabad</td>\n",
       "      <td>MCA</td>\n",
       "    </tr>\n",
       "    <tr>\n",
       "      <th>3</th>\n",
       "      <td>Anuj</td>\n",
       "      <td>32</td>\n",
       "      <td>Kannauj</td>\n",
       "      <td>Phd</td>\n",
       "    </tr>\n",
       "  </tbody>\n",
       "</table>\n",
       "</div>"
      ],
      "text/plain": [
       "     Name  Age    Address Qualification\n",
       "0     Jai   27      Delhi           Msc\n",
       "1  Princi   24     Kanpur            MA\n",
       "2  Gaurav   22  Allahabad           MCA\n",
       "3    Anuj   32    Kannauj           Phd"
      ]
     },
     "execution_count": 73,
     "metadata": {},
     "output_type": "execute_result"
    }
   ],
   "source": [
    "data = {'Name':['Jai', 'Princi', 'Gaurav', 'Anuj'],\n",
    "        'Age':[27, 24, 22, 32],\n",
    "        'Address':['Delhi', 'Kanpur', 'Allahabad', 'Kannauj'],\n",
    "        'Qualification':['Msc', 'MA', 'MCA', 'Phd']}\n",
    "df=pd.DataFrame(data)\n",
    "df"
   ]
  },
  {
   "cell_type": "code",
   "execution_count": 74,
   "id": "da144ab9",
   "metadata": {
    "execution": {
     "iopub.execute_input": "2022-09-28T11:47:46.981272Z",
     "iopub.status.busy": "2022-09-28T11:47:46.980253Z",
     "iopub.status.idle": "2022-09-28T11:47:46.998471Z",
     "shell.execute_reply": "2022-09-28T11:47:46.997553Z"
    },
    "papermill": {
     "duration": 0.078157,
     "end_time": "2022-09-28T11:47:47.000886",
     "exception": false,
     "start_time": "2022-09-28T11:47:46.922729",
     "status": "completed"
    },
    "tags": []
   },
   "outputs": [
    {
     "data": {
      "text/plain": [
       "Team        Utah Jazz\n",
       "Number            8.0\n",
       "Position           PG\n",
       "Age              26.0\n",
       "Height            6-3\n",
       "Weight          203.0\n",
       "College        Butler\n",
       "Salary      2433333.0\n",
       "Name: Shelvin Mack, dtype: object"
      ]
     },
     "execution_count": 74,
     "metadata": {},
     "output_type": "execute_result"
    }
   ],
   "source": [
    "data = pd.read_csv(\"/kaggle/input/nba-data/nba.csv\",index_col=\"Name\")  \n",
    "first = data.loc[\"Shelvin Mack\"]\n",
    "first"
   ]
  },
  {
   "cell_type": "code",
   "execution_count": 75,
   "id": "9b041eed",
   "metadata": {
    "execution": {
     "iopub.execute_input": "2022-09-28T11:47:47.119517Z",
     "iopub.status.busy": "2022-09-28T11:47:47.118544Z",
     "iopub.status.idle": "2022-09-28T11:47:47.133643Z",
     "shell.execute_reply": "2022-09-28T11:47:47.132633Z"
    },
    "papermill": {
     "duration": 0.075757,
     "end_time": "2022-09-28T11:47:47.135717",
     "exception": false,
     "start_time": "2022-09-28T11:47:47.059960",
     "status": "completed"
    },
    "tags": []
   },
   "outputs": [
    {
     "data": {
      "text/html": [
       "<div>\n",
       "<style scoped>\n",
       "    .dataframe tbody tr th:only-of-type {\n",
       "        vertical-align: middle;\n",
       "    }\n",
       "\n",
       "    .dataframe tbody tr th {\n",
       "        vertical-align: top;\n",
       "    }\n",
       "\n",
       "    .dataframe thead th {\n",
       "        text-align: right;\n",
       "    }\n",
       "</style>\n",
       "<table border=\"1\" class=\"dataframe\">\n",
       "  <thead>\n",
       "    <tr style=\"text-align: right;\">\n",
       "      <th></th>\n",
       "      <th>Team</th>\n",
       "      <th>Number</th>\n",
       "      <th>Position</th>\n",
       "      <th>Age</th>\n",
       "      <th>Height</th>\n",
       "      <th>Weight</th>\n",
       "      <th>College</th>\n",
       "      <th>Salary</th>\n",
       "    </tr>\n",
       "    <tr>\n",
       "      <th>Name</th>\n",
       "      <th></th>\n",
       "      <th></th>\n",
       "      <th></th>\n",
       "      <th></th>\n",
       "      <th></th>\n",
       "      <th></th>\n",
       "      <th></th>\n",
       "      <th></th>\n",
       "    </tr>\n",
       "  </thead>\n",
       "  <tbody>\n",
       "    <tr>\n",
       "      <th>Avery Bradley</th>\n",
       "      <td>Boston Celtics</td>\n",
       "      <td>0.0</td>\n",
       "      <td>PG</td>\n",
       "      <td>25.0</td>\n",
       "      <td>6-2</td>\n",
       "      <td>180.0</td>\n",
       "      <td>Texas</td>\n",
       "      <td>7730337.0</td>\n",
       "    </tr>\n",
       "    <tr>\n",
       "      <th>Jae Crowder</th>\n",
       "      <td>Boston Celtics</td>\n",
       "      <td>99.0</td>\n",
       "      <td>SF</td>\n",
       "      <td>25.0</td>\n",
       "      <td>6-6</td>\n",
       "      <td>235.0</td>\n",
       "      <td>Marquette</td>\n",
       "      <td>6796117.0</td>\n",
       "    </tr>\n",
       "    <tr>\n",
       "      <th>John Holland</th>\n",
       "      <td>Boston Celtics</td>\n",
       "      <td>30.0</td>\n",
       "      <td>SG</td>\n",
       "      <td>27.0</td>\n",
       "      <td>6-5</td>\n",
       "      <td>205.0</td>\n",
       "      <td>Boston University</td>\n",
       "      <td>NaN</td>\n",
       "    </tr>\n",
       "    <tr>\n",
       "      <th>R.J. Hunter</th>\n",
       "      <td>Boston Celtics</td>\n",
       "      <td>28.0</td>\n",
       "      <td>SG</td>\n",
       "      <td>22.0</td>\n",
       "      <td>6-5</td>\n",
       "      <td>185.0</td>\n",
       "      <td>Georgia State</td>\n",
       "      <td>1148640.0</td>\n",
       "    </tr>\n",
       "    <tr>\n",
       "      <th>Jonas Jerebko</th>\n",
       "      <td>Boston Celtics</td>\n",
       "      <td>8.0</td>\n",
       "      <td>PF</td>\n",
       "      <td>29.0</td>\n",
       "      <td>6-10</td>\n",
       "      <td>231.0</td>\n",
       "      <td>NaN</td>\n",
       "      <td>5000000.0</td>\n",
       "    </tr>\n",
       "  </tbody>\n",
       "</table>\n",
       "</div>"
      ],
      "text/plain": [
       "                         Team  Number Position   Age Height  Weight  \\\n",
       "Name                                                                  \n",
       "Avery Bradley  Boston Celtics     0.0       PG  25.0    6-2   180.0   \n",
       "Jae Crowder    Boston Celtics    99.0       SF  25.0    6-6   235.0   \n",
       "John Holland   Boston Celtics    30.0       SG  27.0    6-5   205.0   \n",
       "R.J. Hunter    Boston Celtics    28.0       SG  22.0    6-5   185.0   \n",
       "Jonas Jerebko  Boston Celtics     8.0       PF  29.0   6-10   231.0   \n",
       "\n",
       "                         College     Salary  \n",
       "Name                                         \n",
       "Avery Bradley              Texas  7730337.0  \n",
       "Jae Crowder            Marquette  6796117.0  \n",
       "John Holland   Boston University        NaN  \n",
       "R.J. Hunter        Georgia State  1148640.0  \n",
       "Jonas Jerebko                NaN  5000000.0  "
      ]
     },
     "execution_count": 75,
     "metadata": {},
     "output_type": "execute_result"
    }
   ],
   "source": [
    "df=pd.DataFrame(data)\n",
    "df.head()"
   ]
  },
  {
   "cell_type": "code",
   "execution_count": 76,
   "id": "50c92a32",
   "metadata": {
    "execution": {
     "iopub.execute_input": "2022-09-28T11:47:47.256457Z",
     "iopub.status.busy": "2022-09-28T11:47:47.255492Z",
     "iopub.status.idle": "2022-09-28T11:47:47.264403Z",
     "shell.execute_reply": "2022-09-28T11:47:47.263401Z"
    },
    "papermill": {
     "duration": 0.070538,
     "end_time": "2022-09-28T11:47:47.266477",
     "exception": false,
     "start_time": "2022-09-28T11:47:47.195939",
     "status": "completed"
    },
    "tags": []
   },
   "outputs": [
    {
     "data": {
      "text/plain": [
       "Name\n",
       "Avery Bradley    25.0\n",
       "Jae Crowder      25.0\n",
       "John Holland     27.0\n",
       "R.J. Hunter      22.0\n",
       "Jonas Jerebko    29.0\n",
       "                 ... \n",
       "Shelvin Mack     26.0\n",
       "Raul Neto        24.0\n",
       "Tibor Pleiss     26.0\n",
       "Jeff Withey      26.0\n",
       "NaN               NaN\n",
       "Name: Age, Length: 458, dtype: float64"
      ]
     },
     "execution_count": 76,
     "metadata": {},
     "output_type": "execute_result"
    }
   ],
   "source": [
    "df[\"Age\"]"
   ]
  },
  {
   "cell_type": "markdown",
   "id": "00058544",
   "metadata": {
    "papermill": {
     "duration": 0.057337,
     "end_time": "2022-09-28T11:47:47.381091",
     "exception": false,
     "start_time": "2022-09-28T11:47:47.323754",
     "status": "completed"
    },
    "tags": []
   },
   "source": [
    "# Indexing and selecting data In DataFrame:\n",
    "- The axis labeling information in pandas objects serves many purposes:\n",
    "\n",
    "    - Identifies data (i.e. provides metadata) using known indicators, important for analysis, visualization, and interactive console display.\n",
    "    - Enables automatic and explicit data alignment.\n",
    "    - Allows intuitive getting and setting of subsets of the data set.\n",
    "\n",
    "## Indexing and selecting data In DataFrame: | Basics:\n",
    "- As mentioned when introducing the data structures in the last section, the primary function of indexing with **[]** (a.k.a. __ **getitem** __ for those familiar with implementing class behavior in Python) is selecting out lower-dimensional slices. The following table shows return type values when indexing pandas objects with **[]:**\n",
    "\n",
    "<table class=\"colwidths-given table\">\n",
    "<colgroup>\n",
    "<col style=\"width: 25%\">\n",
    "<col style=\"width: 25%\">\n",
    "<col style=\"width: 50%\">\n",
    "</colgroup>\n",
    "<thead>\n",
    "<tr class=\"row-odd\"><th class=\"head\"><p>Object Type</p></th>\n",
    "<th class=\"head\"><p>Selection</p></th>\n",
    "<th class=\"head\"><p>Return Value Type</p></th>\n",
    "</tr>\n",
    "</thead>\n",
    "<tbody>\n",
    "<tr class=\"row-even\"><td><p>Series</p></td>\n",
    "<td><p><code class=\"docutils literal notranslate\"><span class=\"pre\">series[label]</span></code></p></td>\n",
    "<td><p>scalar value</p></td>\n",
    "</tr>\n",
    "<tr class=\"row-odd\"><td><p>DataFrame</p></td>\n",
    "<td><p><code class=\"docutils literal notranslate\"><span class=\"pre\">frame[colname]</span></code></p></td>\n",
    "<td><p><code class=\"docutils literal notranslate\"><span class=\"pre\">Series</span></code> corresponding to colname</p></td>\n",
    "</tr>\n",
    "</tbody>\n",
    "</table>"
   ]
  },
  {
   "cell_type": "code",
   "execution_count": 77,
   "id": "039676ce",
   "metadata": {
    "execution": {
     "iopub.execute_input": "2022-09-28T11:47:47.499063Z",
     "iopub.status.busy": "2022-09-28T11:47:47.498373Z",
     "iopub.status.idle": "2022-09-28T11:47:47.519690Z",
     "shell.execute_reply": "2022-09-28T11:47:47.518736Z"
    },
    "papermill": {
     "duration": 0.08434,
     "end_time": "2022-09-28T11:47:47.523778",
     "exception": false,
     "start_time": "2022-09-28T11:47:47.439438",
     "status": "completed"
    },
    "tags": []
   },
   "outputs": [
    {
     "name": "stdout",
     "output_type": "stream",
     "text": [
      "DatetimeIndex(['2000-01-01', '2000-01-02', '2000-01-03', '2000-01-04',\n",
      "               '2000-01-05', '2000-01-06', '2000-01-07', '2000-01-08'],\n",
      "              dtype='datetime64[ns]', freq='D') \n",
      "\n"
     ]
    },
    {
     "data": {
      "text/html": [
       "<div>\n",
       "<style scoped>\n",
       "    .dataframe tbody tr th:only-of-type {\n",
       "        vertical-align: middle;\n",
       "    }\n",
       "\n",
       "    .dataframe tbody tr th {\n",
       "        vertical-align: top;\n",
       "    }\n",
       "\n",
       "    .dataframe thead th {\n",
       "        text-align: right;\n",
       "    }\n",
       "</style>\n",
       "<table border=\"1\" class=\"dataframe\">\n",
       "  <thead>\n",
       "    <tr style=\"text-align: right;\">\n",
       "      <th></th>\n",
       "      <th>A</th>\n",
       "      <th>B</th>\n",
       "      <th>C</th>\n",
       "      <th>D</th>\n",
       "    </tr>\n",
       "  </thead>\n",
       "  <tbody>\n",
       "    <tr>\n",
       "      <th>2000-01-01</th>\n",
       "      <td>-0.090269</td>\n",
       "      <td>-0.207869</td>\n",
       "      <td>0.582660</td>\n",
       "      <td>0.563854</td>\n",
       "    </tr>\n",
       "    <tr>\n",
       "      <th>2000-01-02</th>\n",
       "      <td>0.208760</td>\n",
       "      <td>2.634646</td>\n",
       "      <td>-0.105164</td>\n",
       "      <td>2.010912</td>\n",
       "    </tr>\n",
       "    <tr>\n",
       "      <th>2000-01-03</th>\n",
       "      <td>0.030700</td>\n",
       "      <td>-0.903966</td>\n",
       "      <td>-1.708521</td>\n",
       "      <td>0.525925</td>\n",
       "    </tr>\n",
       "    <tr>\n",
       "      <th>2000-01-04</th>\n",
       "      <td>0.241462</td>\n",
       "      <td>0.540534</td>\n",
       "      <td>-0.287860</td>\n",
       "      <td>-0.370266</td>\n",
       "    </tr>\n",
       "    <tr>\n",
       "      <th>2000-01-05</th>\n",
       "      <td>1.734535</td>\n",
       "      <td>0.111214</td>\n",
       "      <td>-1.878738</td>\n",
       "      <td>0.968226</td>\n",
       "    </tr>\n",
       "    <tr>\n",
       "      <th>2000-01-06</th>\n",
       "      <td>2.713732</td>\n",
       "      <td>1.618400</td>\n",
       "      <td>1.306084</td>\n",
       "      <td>0.877306</td>\n",
       "    </tr>\n",
       "    <tr>\n",
       "      <th>2000-01-07</th>\n",
       "      <td>-0.396021</td>\n",
       "      <td>0.813994</td>\n",
       "      <td>-0.424231</td>\n",
       "      <td>-0.278327</td>\n",
       "    </tr>\n",
       "    <tr>\n",
       "      <th>2000-01-08</th>\n",
       "      <td>1.282484</td>\n",
       "      <td>0.761926</td>\n",
       "      <td>0.589024</td>\n",
       "      <td>-0.554914</td>\n",
       "    </tr>\n",
       "  </tbody>\n",
       "</table>\n",
       "</div>"
      ],
      "text/plain": [
       "                   A         B         C         D\n",
       "2000-01-01 -0.090269 -0.207869  0.582660  0.563854\n",
       "2000-01-02  0.208760  2.634646 -0.105164  2.010912\n",
       "2000-01-03  0.030700 -0.903966 -1.708521  0.525925\n",
       "2000-01-04  0.241462  0.540534 -0.287860 -0.370266\n",
       "2000-01-05  1.734535  0.111214 -1.878738  0.968226\n",
       "2000-01-06  2.713732  1.618400  1.306084  0.877306\n",
       "2000-01-07 -0.396021  0.813994 -0.424231 -0.278327\n",
       "2000-01-08  1.282484  0.761926  0.589024 -0.554914"
      ]
     },
     "execution_count": 77,
     "metadata": {},
     "output_type": "execute_result"
    }
   ],
   "source": [
    "dates = pd.date_range('1/1/2000', periods=8) #Creating Index As Date\n",
    "print(dates,\"\\n\")\n",
    "\n",
    "df = pd.DataFrame(np.random.randn(8, 4),index=dates, columns=['A', 'B', 'C', 'D']) #Creating  DataFrame\n",
    "df"
   ]
  },
  {
   "cell_type": "code",
   "execution_count": 78,
   "id": "1264db97",
   "metadata": {
    "execution": {
     "iopub.execute_input": "2022-09-28T11:47:47.647147Z",
     "iopub.status.busy": "2022-09-28T11:47:47.646161Z",
     "iopub.status.idle": "2022-09-28T11:47:47.652772Z",
     "shell.execute_reply": "2022-09-28T11:47:47.651576Z"
    },
    "papermill": {
     "duration": 0.067898,
     "end_time": "2022-09-28T11:47:47.654772",
     "exception": false,
     "start_time": "2022-09-28T11:47:47.586874",
     "status": "completed"
    },
    "tags": []
   },
   "outputs": [
    {
     "name": "stdout",
     "output_type": "stream",
     "text": [
      "Value of Dates:\n",
      "\n",
      " DatetimeIndex(['2000-01-01', '2000-01-02', '2000-01-03', '2000-01-04',\n",
      "               '2000-01-05', '2000-01-06', '2000-01-07', '2000-01-08'],\n",
      "              dtype='datetime64[ns]', freq='D')\n",
      "\n",
      "Type of dates:  <class 'pandas.core.indexes.datetimes.DatetimeIndex'>\n"
     ]
    }
   ],
   "source": [
    "print(\"Value of Dates:\\n\\n\",dates)\n",
    "print(\"\\nType of dates: \",type(dates))"
   ]
  },
  {
   "cell_type": "code",
   "execution_count": 79,
   "id": "16e0b855",
   "metadata": {
    "execution": {
     "iopub.execute_input": "2022-09-28T11:47:47.771166Z",
     "iopub.status.busy": "2022-09-28T11:47:47.770495Z",
     "iopub.status.idle": "2022-09-28T11:47:47.776505Z",
     "shell.execute_reply": "2022-09-28T11:47:47.775554Z"
    },
    "papermill": {
     "duration": 0.067137,
     "end_time": "2022-09-28T11:47:47.779466",
     "exception": false,
     "start_time": "2022-09-28T11:47:47.712329",
     "status": "completed"
    },
    "tags": []
   },
   "outputs": [
    {
     "name": "stdout",
     "output_type": "stream",
     "text": [
      "Value at DataFrame['A'] Series Index 4: 1.7345345776927328\n",
      "Data Type of Value: <class 'numpy.float64'>\n"
     ]
    }
   ],
   "source": [
    "#Indexing data by Series Index(0,1,2,3,4,5,.........like that)\n",
    "\n",
    "s=df[\"A\"]  #Assigning DataFrame Value(A Series) to s.\n",
    "print(\"Value at DataFrame['A'] Series Index 4:\",s[4])\n",
    "print(\"Data Type of Value:\",type(s[4]))"
   ]
  },
  {
   "cell_type": "code",
   "execution_count": 80,
   "id": "cb647447",
   "metadata": {
    "execution": {
     "iopub.execute_input": "2022-09-28T11:47:47.899973Z",
     "iopub.status.busy": "2022-09-28T11:47:47.899010Z",
     "iopub.status.idle": "2022-09-28T11:47:47.905433Z",
     "shell.execute_reply": "2022-09-28T11:47:47.904523Z"
    },
    "papermill": {
     "duration": 0.067767,
     "end_time": "2022-09-28T11:47:47.907495",
     "exception": false,
     "start_time": "2022-09-28T11:47:47.839728",
     "status": "completed"
    },
    "tags": []
   },
   "outputs": [
    {
     "name": "stdout",
     "output_type": "stream",
     "text": [
      "Value at dates[4] index: 1.7345345776927328\n",
      "Data Type of Value: <class 'numpy.float64'>\n"
     ]
    }
   ],
   "source": [
    "print(\"Value at dates[4] index:\",s[dates[4]]) #We are direct giving Index\n",
    "print(\"Data Type of Value:\",type(s[dates[5]]))"
   ]
  },
  {
   "cell_type": "code",
   "execution_count": 81,
   "id": "767938cc",
   "metadata": {
    "execution": {
     "iopub.execute_input": "2022-09-28T11:47:48.024537Z",
     "iopub.status.busy": "2022-09-28T11:47:48.023501Z",
     "iopub.status.idle": "2022-09-28T11:47:48.038341Z",
     "shell.execute_reply": "2022-09-28T11:47:48.036666Z"
    },
    "papermill": {
     "duration": 0.075899,
     "end_time": "2022-09-28T11:47:48.040991",
     "exception": false,
     "start_time": "2022-09-28T11:47:47.965092",
     "status": "completed"
    },
    "tags": []
   },
   "outputs": [
    {
     "name": "stdout",
     "output_type": "stream",
     "text": [
      "Before Changing: \n",
      "                    A         B\n",
      "2000-01-01 -0.090269 -0.207869\n",
      "2000-01-02  0.208760  2.634646\n",
      "2000-01-03  0.030700 -0.903966\n",
      "2000-01-04  0.241462  0.540534\n",
      "2000-01-05  1.734535  0.111214\n",
      "2000-01-06  2.713732  1.618400\n",
      "2000-01-07 -0.396021  0.813994\n",
      "2000-01-08  1.282484  0.761926\n",
      "\n",
      "After Changing:\n",
      "                    A         B\n",
      "2000-01-01 -0.207869 -0.090269\n",
      "2000-01-02  2.634646  0.208760\n",
      "2000-01-03 -0.903966  0.030700\n",
      "2000-01-04  0.540534  0.241462\n",
      "2000-01-05  0.111214  1.734535\n",
      "2000-01-06  1.618400  2.713732\n",
      "2000-01-07  0.813994 -0.396021\n",
      "2000-01-08  0.761926  1.282484\n"
     ]
    }
   ],
   "source": [
    "print(\"Before Changing: \\n\",df[['A','B']])\n",
    "df[['B', 'A']] = df[['A', 'B']]   #Changing Column value \n",
    "print(\"\\nAfter Changing:\\n\",df[['A','B']])"
   ]
  },
  {
   "cell_type": "markdown",
   "id": "cd50c984",
   "metadata": {
    "papermill": {
     "duration": 0.057803,
     "end_time": "2022-09-28T11:47:48.158034",
     "exception": false,
     "start_time": "2022-09-28T11:47:48.100231",
     "status": "completed"
    },
    "tags": []
   },
   "source": [
    "> <h2>⚠️Warning</h2>\n",
    "\n",
    "> - **pandas aligns all AXES when setting Series and DataFrame from .loc, and .iloc.**\n",
    "> - **This will not modify df because the column alignment is before value assignment.**"
   ]
  },
  {
   "cell_type": "code",
   "execution_count": 82,
   "id": "23873221",
   "metadata": {
    "execution": {
     "iopub.execute_input": "2022-09-28T11:47:48.277465Z",
     "iopub.status.busy": "2022-09-28T11:47:48.277104Z",
     "iopub.status.idle": "2022-09-28T11:47:48.291494Z",
     "shell.execute_reply": "2022-09-28T11:47:48.290189Z"
    },
    "papermill": {
     "duration": 0.077162,
     "end_time": "2022-09-28T11:47:48.294165",
     "exception": false,
     "start_time": "2022-09-28T11:47:48.217003",
     "status": "completed"
    },
    "tags": []
   },
   "outputs": [
    {
     "name": "stdout",
     "output_type": "stream",
     "text": [
      "Before Changing: \n",
      "                    A         B\n",
      "2000-01-01 -0.207869 -0.090269\n",
      "2000-01-02  2.634646  0.208760\n",
      "2000-01-03 -0.903966  0.030700\n",
      "2000-01-04  0.540534  0.241462\n",
      "2000-01-05  0.111214  1.734535\n",
      "2000-01-06  1.618400  2.713732\n",
      "2000-01-07  0.813994 -0.396021\n",
      "2000-01-08  0.761926  1.282484\n",
      "\n",
      "After Changing:\n",
      "                    A         B\n",
      "2000-01-01 -0.207869 -0.090269\n",
      "2000-01-02  2.634646  0.208760\n",
      "2000-01-03 -0.903966  0.030700\n",
      "2000-01-04  0.540534  0.241462\n",
      "2000-01-05  0.111214  1.734535\n",
      "2000-01-06  1.618400  2.713732\n",
      "2000-01-07  0.813994 -0.396021\n",
      "2000-01-08  0.761926  1.282484\n"
     ]
    }
   ],
   "source": [
    "print(\"Before Changing: \\n\",df[['A','B']])\n",
    "df.loc[:, ['B', 'A']] = df[['A', 'B']]         #Not Changing Value \n",
    "print(\"\\nAfter Changing:\\n\",df[['A','B']])"
   ]
  },
  {
   "cell_type": "code",
   "execution_count": 83,
   "id": "1e5d55c8",
   "metadata": {
    "execution": {
     "iopub.execute_input": "2022-09-28T11:47:48.415575Z",
     "iopub.status.busy": "2022-09-28T11:47:48.414598Z",
     "iopub.status.idle": "2022-09-28T11:47:48.425982Z",
     "shell.execute_reply": "2022-09-28T11:47:48.424022Z"
    },
    "papermill": {
     "duration": 0.073024,
     "end_time": "2022-09-28T11:47:48.428925",
     "exception": false,
     "start_time": "2022-09-28T11:47:48.355901",
     "status": "completed"
    },
    "tags": []
   },
   "outputs": [
    {
     "name": "stdout",
     "output_type": "stream",
     "text": [
      "\n",
      "After Changing:\n",
      "                    A         B\n",
      "2000-01-01 -0.090269 -0.207869\n",
      "2000-01-02  0.208760  2.634646\n",
      "2000-01-03  0.030700 -0.903966\n",
      "2000-01-04  0.241462  0.540534\n",
      "2000-01-05  1.734535  0.111214\n",
      "2000-01-06  2.713732  1.618400\n",
      "2000-01-07 -0.396021  0.813994\n",
      "2000-01-08  1.282484  0.761926\n"
     ]
    }
   ],
   "source": [
    "df.loc[:, ['B', 'A']] = df[['A', 'B']].to_numpy()\n",
    "print(\"\\nAfter Changing:\\n\",df[['A','B']])"
   ]
  },
  {
   "cell_type": "markdown",
   "id": "11e85eaf",
   "metadata": {
    "papermill": {
     "duration": 0.05818,
     "end_time": "2022-09-28T11:47:48.547740",
     "exception": false,
     "start_time": "2022-09-28T11:47:48.489560",
     "status": "completed"
    },
    "tags": []
   },
   "source": [
    "## Indexing and selecting data In DataFrame: | Attribute access:"
   ]
  },
  {
   "cell_type": "code",
   "execution_count": 84,
   "id": "0b600e5b",
   "metadata": {
    "execution": {
     "iopub.execute_input": "2022-09-28T11:47:48.665272Z",
     "iopub.status.busy": "2022-09-28T11:47:48.664925Z",
     "iopub.status.idle": "2022-09-28T11:47:48.672266Z",
     "shell.execute_reply": "2022-09-28T11:47:48.671391Z"
    },
    "papermill": {
     "duration": 0.068487,
     "end_time": "2022-09-28T11:47:48.674360",
     "exception": false,
     "start_time": "2022-09-28T11:47:48.605873",
     "status": "completed"
    },
    "tags": []
   },
   "outputs": [
    {
     "data": {
      "text/plain": [
       "a    1\n",
       "b    2\n",
       "c    3\n",
       "dtype: int64"
      ]
     },
     "execution_count": 84,
     "metadata": {},
     "output_type": "execute_result"
    }
   ],
   "source": [
    "sa = pd.Series([1, 2, 3], index=list('abc'))  # Creating SA Series \n",
    "sa"
   ]
  },
  {
   "cell_type": "code",
   "execution_count": 85,
   "id": "f13e05dc",
   "metadata": {
    "execution": {
     "iopub.execute_input": "2022-09-28T11:47:48.793866Z",
     "iopub.status.busy": "2022-09-28T11:47:48.792117Z",
     "iopub.status.idle": "2022-09-28T11:47:48.806468Z",
     "shell.execute_reply": "2022-09-28T11:47:48.804806Z"
    },
    "papermill": {
     "duration": 0.075745,
     "end_time": "2022-09-28T11:47:48.809075",
     "exception": false,
     "start_time": "2022-09-28T11:47:48.733330",
     "status": "completed"
    },
    "tags": []
   },
   "outputs": [
    {
     "name": "stdout",
     "output_type": "stream",
     "text": [
      "DataFrame dfa:\n",
      "\n"
     ]
    },
    {
     "data": {
      "text/html": [
       "<div>\n",
       "<style scoped>\n",
       "    .dataframe tbody tr th:only-of-type {\n",
       "        vertical-align: middle;\n",
       "    }\n",
       "\n",
       "    .dataframe tbody tr th {\n",
       "        vertical-align: top;\n",
       "    }\n",
       "\n",
       "    .dataframe thead th {\n",
       "        text-align: right;\n",
       "    }\n",
       "</style>\n",
       "<table border=\"1\" class=\"dataframe\">\n",
       "  <thead>\n",
       "    <tr style=\"text-align: right;\">\n",
       "      <th></th>\n",
       "      <th>A</th>\n",
       "      <th>B</th>\n",
       "      <th>C</th>\n",
       "      <th>D</th>\n",
       "    </tr>\n",
       "  </thead>\n",
       "  <tbody>\n",
       "    <tr>\n",
       "      <th>2000-01-01</th>\n",
       "      <td>-0.090269</td>\n",
       "      <td>-0.207869</td>\n",
       "      <td>0.582660</td>\n",
       "      <td>0.563854</td>\n",
       "    </tr>\n",
       "    <tr>\n",
       "      <th>2000-01-02</th>\n",
       "      <td>0.208760</td>\n",
       "      <td>2.634646</td>\n",
       "      <td>-0.105164</td>\n",
       "      <td>2.010912</td>\n",
       "    </tr>\n",
       "    <tr>\n",
       "      <th>2000-01-03</th>\n",
       "      <td>0.030700</td>\n",
       "      <td>-0.903966</td>\n",
       "      <td>-1.708521</td>\n",
       "      <td>0.525925</td>\n",
       "    </tr>\n",
       "    <tr>\n",
       "      <th>2000-01-04</th>\n",
       "      <td>0.241462</td>\n",
       "      <td>0.540534</td>\n",
       "      <td>-0.287860</td>\n",
       "      <td>-0.370266</td>\n",
       "    </tr>\n",
       "    <tr>\n",
       "      <th>2000-01-05</th>\n",
       "      <td>1.734535</td>\n",
       "      <td>0.111214</td>\n",
       "      <td>-1.878738</td>\n",
       "      <td>0.968226</td>\n",
       "    </tr>\n",
       "    <tr>\n",
       "      <th>2000-01-06</th>\n",
       "      <td>2.713732</td>\n",
       "      <td>1.618400</td>\n",
       "      <td>1.306084</td>\n",
       "      <td>0.877306</td>\n",
       "    </tr>\n",
       "    <tr>\n",
       "      <th>2000-01-07</th>\n",
       "      <td>-0.396021</td>\n",
       "      <td>0.813994</td>\n",
       "      <td>-0.424231</td>\n",
       "      <td>-0.278327</td>\n",
       "    </tr>\n",
       "    <tr>\n",
       "      <th>2000-01-08</th>\n",
       "      <td>1.282484</td>\n",
       "      <td>0.761926</td>\n",
       "      <td>0.589024</td>\n",
       "      <td>-0.554914</td>\n",
       "    </tr>\n",
       "  </tbody>\n",
       "</table>\n",
       "</div>"
      ],
      "text/plain": [
       "                   A         B         C         D\n",
       "2000-01-01 -0.090269 -0.207869  0.582660  0.563854\n",
       "2000-01-02  0.208760  2.634646 -0.105164  2.010912\n",
       "2000-01-03  0.030700 -0.903966 -1.708521  0.525925\n",
       "2000-01-04  0.241462  0.540534 -0.287860 -0.370266\n",
       "2000-01-05  1.734535  0.111214 -1.878738  0.968226\n",
       "2000-01-06  2.713732  1.618400  1.306084  0.877306\n",
       "2000-01-07 -0.396021  0.813994 -0.424231 -0.278327\n",
       "2000-01-08  1.282484  0.761926  0.589024 -0.554914"
      ]
     },
     "execution_count": 85,
     "metadata": {},
     "output_type": "execute_result"
    }
   ],
   "source": [
    "print(\"DataFrame dfa:\\n\")\n",
    "dfa = df.copy() #Making Copy of df in dfa\n",
    "dfa"
   ]
  },
  {
   "cell_type": "code",
   "execution_count": 86,
   "id": "dcd9aa94",
   "metadata": {
    "execution": {
     "iopub.execute_input": "2022-09-28T11:47:48.931130Z",
     "iopub.status.busy": "2022-09-28T11:47:48.930183Z",
     "iopub.status.idle": "2022-09-28T11:47:48.939028Z",
     "shell.execute_reply": "2022-09-28T11:47:48.937985Z"
    },
    "papermill": {
     "duration": 0.072292,
     "end_time": "2022-09-28T11:47:48.941064",
     "exception": false,
     "start_time": "2022-09-28T11:47:48.868772",
     "status": "completed"
    },
    "tags": []
   },
   "outputs": [
    {
     "data": {
      "text/plain": [
       "2000-01-01   -0.090269\n",
       "2000-01-02    0.208760\n",
       "2000-01-03    0.030700\n",
       "2000-01-04    0.241462\n",
       "2000-01-05    1.734535\n",
       "2000-01-06    2.713732\n",
       "2000-01-07   -0.396021\n",
       "2000-01-08    1.282484\n",
       "Freq: D, Name: A, dtype: float64"
      ]
     },
     "execution_count": 86,
     "metadata": {},
     "output_type": "execute_result"
    }
   ],
   "source": [
    "dfa.A   #accesing as a attribute "
   ]
  },
  {
   "cell_type": "code",
   "execution_count": 87,
   "id": "063b549f",
   "metadata": {
    "execution": {
     "iopub.execute_input": "2022-09-28T11:47:49.060807Z",
     "iopub.status.busy": "2022-09-28T11:47:49.060002Z",
     "iopub.status.idle": "2022-09-28T11:47:49.066410Z",
     "shell.execute_reply": "2022-09-28T11:47:49.065539Z"
    },
    "papermill": {
     "duration": 0.06862,
     "end_time": "2022-09-28T11:47:49.068617",
     "exception": false,
     "start_time": "2022-09-28T11:47:48.999997",
     "status": "completed"
    },
    "tags": []
   },
   "outputs": [
    {
     "data": {
      "text/plain": [
       "DatetimeIndex(['2000-01-01', '2000-01-02', '2000-01-03', '2000-01-04',\n",
       "               '2000-01-05', '2000-01-06', '2000-01-07', '2000-01-08'],\n",
       "              dtype='datetime64[ns]', freq='D')"
      ]
     },
     "execution_count": 87,
     "metadata": {},
     "output_type": "execute_result"
    }
   ],
   "source": [
    "dfa.index # index of dfa DataFrame"
   ]
  },
  {
   "cell_type": "code",
   "execution_count": 88,
   "id": "2d912f11",
   "metadata": {
    "execution": {
     "iopub.execute_input": "2022-09-28T11:47:49.187858Z",
     "iopub.status.busy": "2022-09-28T11:47:49.186918Z",
     "iopub.status.idle": "2022-09-28T11:47:49.199297Z",
     "shell.execute_reply": "2022-09-28T11:47:49.198339Z"
    },
    "papermill": {
     "duration": 0.074059,
     "end_time": "2022-09-28T11:47:49.201276",
     "exception": false,
     "start_time": "2022-09-28T11:47:49.127217",
     "status": "completed"
    },
    "tags": []
   },
   "outputs": [
    {
     "data": {
      "text/html": [
       "<div>\n",
       "<style scoped>\n",
       "    .dataframe tbody tr th:only-of-type {\n",
       "        vertical-align: middle;\n",
       "    }\n",
       "\n",
       "    .dataframe tbody tr th {\n",
       "        vertical-align: top;\n",
       "    }\n",
       "\n",
       "    .dataframe thead th {\n",
       "        text-align: right;\n",
       "    }\n",
       "</style>\n",
       "<table border=\"1\" class=\"dataframe\">\n",
       "  <thead>\n",
       "    <tr style=\"text-align: right;\">\n",
       "      <th></th>\n",
       "      <th>A</th>\n",
       "      <th>B</th>\n",
       "      <th>C</th>\n",
       "      <th>D</th>\n",
       "    </tr>\n",
       "  </thead>\n",
       "  <tbody>\n",
       "    <tr>\n",
       "      <th>2000-01-01</th>\n",
       "      <td>0</td>\n",
       "      <td>-0.207869</td>\n",
       "      <td>0.582660</td>\n",
       "      <td>0.563854</td>\n",
       "    </tr>\n",
       "    <tr>\n",
       "      <th>2000-01-02</th>\n",
       "      <td>1</td>\n",
       "      <td>2.634646</td>\n",
       "      <td>-0.105164</td>\n",
       "      <td>2.010912</td>\n",
       "    </tr>\n",
       "    <tr>\n",
       "      <th>2000-01-03</th>\n",
       "      <td>2</td>\n",
       "      <td>-0.903966</td>\n",
       "      <td>-1.708521</td>\n",
       "      <td>0.525925</td>\n",
       "    </tr>\n",
       "    <tr>\n",
       "      <th>2000-01-04</th>\n",
       "      <td>3</td>\n",
       "      <td>0.540534</td>\n",
       "      <td>-0.287860</td>\n",
       "      <td>-0.370266</td>\n",
       "    </tr>\n",
       "    <tr>\n",
       "      <th>2000-01-05</th>\n",
       "      <td>4</td>\n",
       "      <td>0.111214</td>\n",
       "      <td>-1.878738</td>\n",
       "      <td>0.968226</td>\n",
       "    </tr>\n",
       "    <tr>\n",
       "      <th>2000-01-06</th>\n",
       "      <td>5</td>\n",
       "      <td>1.618400</td>\n",
       "      <td>1.306084</td>\n",
       "      <td>0.877306</td>\n",
       "    </tr>\n",
       "    <tr>\n",
       "      <th>2000-01-07</th>\n",
       "      <td>6</td>\n",
       "      <td>0.813994</td>\n",
       "      <td>-0.424231</td>\n",
       "      <td>-0.278327</td>\n",
       "    </tr>\n",
       "    <tr>\n",
       "      <th>2000-01-08</th>\n",
       "      <td>7</td>\n",
       "      <td>0.761926</td>\n",
       "      <td>0.589024</td>\n",
       "      <td>-0.554914</td>\n",
       "    </tr>\n",
       "  </tbody>\n",
       "</table>\n",
       "</div>"
      ],
      "text/plain": [
       "            A         B         C         D\n",
       "2000-01-01  0 -0.207869  0.582660  0.563854\n",
       "2000-01-02  1  2.634646 -0.105164  2.010912\n",
       "2000-01-03  2 -0.903966 -1.708521  0.525925\n",
       "2000-01-04  3  0.540534 -0.287860 -0.370266\n",
       "2000-01-05  4  0.111214 -1.878738  0.968226\n",
       "2000-01-06  5  1.618400  1.306084  0.877306\n",
       "2000-01-07  6  0.813994 -0.424231 -0.278327\n",
       "2000-01-08  7  0.761926  0.589024 -0.554914"
      ]
     },
     "execution_count": 88,
     "metadata": {},
     "output_type": "execute_result"
    }
   ],
   "source": [
    "# Changing Value of by attribute Access\n",
    "dfa.A=list(range(len(dfa.index)))           ## ok if A already exists else refer below warning\n",
    "dfa"
   ]
  },
  {
   "cell_type": "markdown",
   "id": "8ba4a576",
   "metadata": {
    "papermill": {
     "duration": 0.059173,
     "end_time": "2022-09-28T11:47:49.320310",
     "exception": false,
     "start_time": "2022-09-28T11:47:49.261137",
     "status": "completed"
    },
    "tags": []
   },
   "source": [
    "``` python\n",
    "dfa.E=list(range(len(dfa.index)))\n",
    "\n",
    "/opt/conda/lib/python3.7/site-packages/ipykernel_launcher.py:1: UserWarning: Pandas doesn't allow columns to be created via a new attribute name - see https://pandas.pydata.org/pandas-docs/stable/indexing.html#attribute-access\n",
    "  \"\"\"Entry point for launching an IPython kernel.\n",
    "\n",
    "```"
   ]
  },
  {
   "cell_type": "code",
   "execution_count": 89,
   "id": "c5e37a90",
   "metadata": {
    "execution": {
     "iopub.execute_input": "2022-09-28T11:47:49.437488Z",
     "iopub.status.busy": "2022-09-28T11:47:49.437126Z",
     "iopub.status.idle": "2022-09-28T11:47:49.453241Z",
     "shell.execute_reply": "2022-09-28T11:47:49.452291Z"
    },
    "papermill": {
     "duration": 0.077823,
     "end_time": "2022-09-28T11:47:49.455972",
     "exception": false,
     "start_time": "2022-09-28T11:47:49.378149",
     "status": "completed"
    },
    "tags": []
   },
   "outputs": [
    {
     "data": {
      "text/html": [
       "<div>\n",
       "<style scoped>\n",
       "    .dataframe tbody tr th:only-of-type {\n",
       "        vertical-align: middle;\n",
       "    }\n",
       "\n",
       "    .dataframe tbody tr th {\n",
       "        vertical-align: top;\n",
       "    }\n",
       "\n",
       "    .dataframe thead th {\n",
       "        text-align: right;\n",
       "    }\n",
       "</style>\n",
       "<table border=\"1\" class=\"dataframe\">\n",
       "  <thead>\n",
       "    <tr style=\"text-align: right;\">\n",
       "      <th></th>\n",
       "      <th>A</th>\n",
       "      <th>B</th>\n",
       "      <th>C</th>\n",
       "      <th>D</th>\n",
       "      <th>E</th>\n",
       "    </tr>\n",
       "  </thead>\n",
       "  <tbody>\n",
       "    <tr>\n",
       "      <th>2000-01-01</th>\n",
       "      <td>0</td>\n",
       "      <td>-0.207869</td>\n",
       "      <td>0.582660</td>\n",
       "      <td>0.563854</td>\n",
       "      <td>0</td>\n",
       "    </tr>\n",
       "    <tr>\n",
       "      <th>2000-01-02</th>\n",
       "      <td>1</td>\n",
       "      <td>2.634646</td>\n",
       "      <td>-0.105164</td>\n",
       "      <td>2.010912</td>\n",
       "      <td>1</td>\n",
       "    </tr>\n",
       "    <tr>\n",
       "      <th>2000-01-03</th>\n",
       "      <td>2</td>\n",
       "      <td>-0.903966</td>\n",
       "      <td>-1.708521</td>\n",
       "      <td>0.525925</td>\n",
       "      <td>2</td>\n",
       "    </tr>\n",
       "    <tr>\n",
       "      <th>2000-01-04</th>\n",
       "      <td>3</td>\n",
       "      <td>0.540534</td>\n",
       "      <td>-0.287860</td>\n",
       "      <td>-0.370266</td>\n",
       "      <td>3</td>\n",
       "    </tr>\n",
       "    <tr>\n",
       "      <th>2000-01-05</th>\n",
       "      <td>4</td>\n",
       "      <td>0.111214</td>\n",
       "      <td>-1.878738</td>\n",
       "      <td>0.968226</td>\n",
       "      <td>4</td>\n",
       "    </tr>\n",
       "    <tr>\n",
       "      <th>2000-01-06</th>\n",
       "      <td>5</td>\n",
       "      <td>1.618400</td>\n",
       "      <td>1.306084</td>\n",
       "      <td>0.877306</td>\n",
       "      <td>5</td>\n",
       "    </tr>\n",
       "    <tr>\n",
       "      <th>2000-01-07</th>\n",
       "      <td>6</td>\n",
       "      <td>0.813994</td>\n",
       "      <td>-0.424231</td>\n",
       "      <td>-0.278327</td>\n",
       "      <td>6</td>\n",
       "    </tr>\n",
       "    <tr>\n",
       "      <th>2000-01-08</th>\n",
       "      <td>7</td>\n",
       "      <td>0.761926</td>\n",
       "      <td>0.589024</td>\n",
       "      <td>-0.554914</td>\n",
       "      <td>7</td>\n",
       "    </tr>\n",
       "  </tbody>\n",
       "</table>\n",
       "</div>"
      ],
      "text/plain": [
       "            A         B         C         D  E\n",
       "2000-01-01  0 -0.207869  0.582660  0.563854  0\n",
       "2000-01-02  1  2.634646 -0.105164  2.010912  1\n",
       "2000-01-03  2 -0.903966 -1.708521  0.525925  2\n",
       "2000-01-04  3  0.540534 -0.287860 -0.370266  3\n",
       "2000-01-05  4  0.111214 -1.878738  0.968226  4\n",
       "2000-01-06  5  1.618400  1.306084  0.877306  5\n",
       "2000-01-07  6  0.813994 -0.424231 -0.278327  6\n",
       "2000-01-08  7  0.761926  0.589024 -0.554914  7"
      ]
     },
     "execution_count": 89,
     "metadata": {},
     "output_type": "execute_result"
    }
   ],
   "source": [
    "dfa[\"E\"]=list(range(len(dfa.index)))  #Assinging Value to E Columns\n",
    "dfa"
   ]
  },
  {
   "cell_type": "markdown",
   "id": "f3547f8b",
   "metadata": {
    "papermill": {
     "duration": 0.058911,
     "end_time": "2022-09-28T11:47:49.574053",
     "exception": false,
     "start_time": "2022-09-28T11:47:49.515142",
     "status": "completed"
    },
    "tags": []
   },
   "source": [
    ">  ## ⚠️Warning\n",
    "\n",
    "> - You can use this access only if the index element is a valid Python identifier, e.g. s.1 is not allowed. See here for an explanation of valid identifiers.\n",
    "> - The attribute will not be available if it conflicts with an existing method name, e.g. s.min is not allowed, but s['min'] is possible.\n",
    "> - Similarly, the attribute will not be available if it conflicts with any of the following list: index, major_axis, minor_axis, items.\n",
    "> - In any of these cases, standard indexing will still work, e.g. s['1'], s['min'], and s['index'] will access the corresponding element or column."
   ]
  },
  {
   "cell_type": "code",
   "execution_count": 90,
   "id": "93648cb3",
   "metadata": {
    "execution": {
     "iopub.execute_input": "2022-09-28T11:47:49.692993Z",
     "iopub.status.busy": "2022-09-28T11:47:49.692042Z",
     "iopub.status.idle": "2022-09-28T11:47:49.703961Z",
     "shell.execute_reply": "2022-09-28T11:47:49.702327Z"
    },
    "papermill": {
     "duration": 0.073817,
     "end_time": "2022-09-28T11:47:49.706409",
     "exception": false,
     "start_time": "2022-09-28T11:47:49.632592",
     "status": "completed"
    },
    "tags": []
   },
   "outputs": [
    {
     "name": "stdout",
     "output_type": "stream",
     "text": [
      "Before Assignment:\n",
      "\n"
     ]
    },
    {
     "data": {
      "text/html": [
       "<div>\n",
       "<style scoped>\n",
       "    .dataframe tbody tr th:only-of-type {\n",
       "        vertical-align: middle;\n",
       "    }\n",
       "\n",
       "    .dataframe tbody tr th {\n",
       "        vertical-align: top;\n",
       "    }\n",
       "\n",
       "    .dataframe thead th {\n",
       "        text-align: right;\n",
       "    }\n",
       "</style>\n",
       "<table border=\"1\" class=\"dataframe\">\n",
       "  <thead>\n",
       "    <tr style=\"text-align: right;\">\n",
       "      <th></th>\n",
       "      <th>x</th>\n",
       "      <th>y</th>\n",
       "    </tr>\n",
       "  </thead>\n",
       "  <tbody>\n",
       "    <tr>\n",
       "      <th>0</th>\n",
       "      <td>1</td>\n",
       "      <td>3</td>\n",
       "    </tr>\n",
       "    <tr>\n",
       "      <th>1</th>\n",
       "      <td>2</td>\n",
       "      <td>4</td>\n",
       "    </tr>\n",
       "    <tr>\n",
       "      <th>2</th>\n",
       "      <td>3</td>\n",
       "      <td>5</td>\n",
       "    </tr>\n",
       "  </tbody>\n",
       "</table>\n",
       "</div>"
      ],
      "text/plain": [
       "   x  y\n",
       "0  1  3\n",
       "1  2  4\n",
       "2  3  5"
      ]
     },
     "execution_count": 90,
     "metadata": {},
     "output_type": "execute_result"
    }
   ],
   "source": [
    "# You can also assign a dict to a row of a DataFrame:\n",
    "x = pd.DataFrame({'x': [1, 2, 3], 'y': [3, 4, 5]})\n",
    "print(\"Before Assignment:\\n\")\n",
    "x"
   ]
  },
  {
   "cell_type": "code",
   "execution_count": 91,
   "id": "30c00efa",
   "metadata": {
    "execution": {
     "iopub.execute_input": "2022-09-28T11:47:49.826997Z",
     "iopub.status.busy": "2022-09-28T11:47:49.826028Z",
     "iopub.status.idle": "2022-09-28T11:47:49.837233Z",
     "shell.execute_reply": "2022-09-28T11:47:49.835668Z"
    },
    "papermill": {
     "duration": 0.07385,
     "end_time": "2022-09-28T11:47:49.839780",
     "exception": false,
     "start_time": "2022-09-28T11:47:49.765930",
     "status": "completed"
    },
    "tags": []
   },
   "outputs": [
    {
     "name": "stdout",
     "output_type": "stream",
     "text": [
      "\n",
      "After Assignment:\n",
      "\n"
     ]
    },
    {
     "data": {
      "text/html": [
       "<div>\n",
       "<style scoped>\n",
       "    .dataframe tbody tr th:only-of-type {\n",
       "        vertical-align: middle;\n",
       "    }\n",
       "\n",
       "    .dataframe tbody tr th {\n",
       "        vertical-align: top;\n",
       "    }\n",
       "\n",
       "    .dataframe thead th {\n",
       "        text-align: right;\n",
       "    }\n",
       "</style>\n",
       "<table border=\"1\" class=\"dataframe\">\n",
       "  <thead>\n",
       "    <tr style=\"text-align: right;\">\n",
       "      <th></th>\n",
       "      <th>x</th>\n",
       "      <th>y</th>\n",
       "    </tr>\n",
       "  </thead>\n",
       "  <tbody>\n",
       "    <tr>\n",
       "      <th>0</th>\n",
       "      <td>1</td>\n",
       "      <td>3</td>\n",
       "    </tr>\n",
       "    <tr>\n",
       "      <th>1</th>\n",
       "      <td>9</td>\n",
       "      <td>99</td>\n",
       "    </tr>\n",
       "    <tr>\n",
       "      <th>2</th>\n",
       "      <td>3</td>\n",
       "      <td>5</td>\n",
       "    </tr>\n",
       "  </tbody>\n",
       "</table>\n",
       "</div>"
      ],
      "text/plain": [
       "   x   y\n",
       "0  1   3\n",
       "1  9  99\n",
       "2  3   5"
      ]
     },
     "execution_count": 91,
     "metadata": {},
     "output_type": "execute_result"
    }
   ],
   "source": [
    "x.iloc[1] = {'x': 9, 'y': 99}\n",
    "print(\"\\nAfter Assignment:\\n\")\n",
    "x"
   ]
  },
  {
   "cell_type": "markdown",
   "id": "20a148c3",
   "metadata": {
    "papermill": {
     "duration": 0.058554,
     "end_time": "2022-09-28T11:47:49.957897",
     "exception": false,
     "start_time": "2022-09-28T11:47:49.899343",
     "status": "completed"
    },
    "tags": []
   },
   "source": [
    "## Indexing and selecting data In DataFrame | Slicing ranges in DataFrame:\n",
    "- The most robust and consistent way of slicing ranges along arbitrary axes is described in the Selection by Position section detailing the **.iloc** method. For now, we explain the semantics of slicing using the **[]** operator.\n",
    "\n",
    "- With Series, the syntax works exactly as with an ndarray, returning a slice of the values and the corresponding labels:"
   ]
  },
  {
   "cell_type": "code",
   "execution_count": 92,
   "id": "939d64ce",
   "metadata": {
    "execution": {
     "iopub.execute_input": "2022-09-28T11:47:50.123754Z",
     "iopub.status.busy": "2022-09-28T11:47:50.122722Z",
     "iopub.status.idle": "2022-09-28T11:47:50.130996Z",
     "shell.execute_reply": "2022-09-28T11:47:50.129981Z"
    },
    "papermill": {
     "duration": 0.071294,
     "end_time": "2022-09-28T11:47:50.133146",
     "exception": false,
     "start_time": "2022-09-28T11:47:50.061852",
     "status": "completed"
    },
    "tags": []
   },
   "outputs": [
    {
     "data": {
      "text/plain": [
       "2000-01-01   -0.090269\n",
       "2000-01-02    0.208760\n",
       "2000-01-03    0.030700\n",
       "2000-01-04    0.241462\n",
       "2000-01-05    1.734535\n",
       "Freq: D, Name: A, dtype: float64"
      ]
     },
     "execution_count": 92,
     "metadata": {},
     "output_type": "execute_result"
    }
   ],
   "source": [
    "s[:5]    #Slicing in Sereis s=df[\"A\"]  / print value from 0 to 5(Exclude)"
   ]
  },
  {
   "cell_type": "code",
   "execution_count": 93,
   "id": "6250036b",
   "metadata": {
    "execution": {
     "iopub.execute_input": "2022-09-28T11:47:50.256308Z",
     "iopub.status.busy": "2022-09-28T11:47:50.255367Z",
     "iopub.status.idle": "2022-09-28T11:47:50.264729Z",
     "shell.execute_reply": "2022-09-28T11:47:50.263756Z"
    },
    "papermill": {
     "duration": 0.072586,
     "end_time": "2022-09-28T11:47:50.266798",
     "exception": false,
     "start_time": "2022-09-28T11:47:50.194212",
     "status": "completed"
    },
    "tags": []
   },
   "outputs": [
    {
     "data": {
      "text/plain": [
       "2000-01-01   -0.090269\n",
       "2000-01-03    0.030700\n",
       "2000-01-05    1.734535\n",
       "2000-01-07   -0.396021\n",
       "Freq: 2D, Name: A, dtype: float64"
      ]
     },
     "execution_count": 93,
     "metadata": {},
     "output_type": "execute_result"
    }
   ],
   "source": [
    "s[::2]    #2 works as Steping Value (after 2 point print value)"
   ]
  },
  {
   "cell_type": "code",
   "execution_count": 94,
   "id": "790b680e",
   "metadata": {
    "execution": {
     "iopub.execute_input": "2022-09-28T11:47:50.388924Z",
     "iopub.status.busy": "2022-09-28T11:47:50.387960Z",
     "iopub.status.idle": "2022-09-28T11:47:50.396234Z",
     "shell.execute_reply": "2022-09-28T11:47:50.395214Z"
    },
    "papermill": {
     "duration": 0.070997,
     "end_time": "2022-09-28T11:47:50.398318",
     "exception": false,
     "start_time": "2022-09-28T11:47:50.327321",
     "status": "completed"
    },
    "tags": []
   },
   "outputs": [
    {
     "data": {
      "text/plain": [
       "2000-01-08    1.282484\n",
       "2000-01-07   -0.396021\n",
       "2000-01-06    2.713732\n",
       "2000-01-05    1.734535\n",
       "2000-01-04    0.241462\n",
       "2000-01-03    0.030700\n",
       "2000-01-02    0.208760\n",
       "2000-01-01   -0.090269\n",
       "Freq: -1D, Name: A, dtype: float64"
      ]
     },
     "execution_count": 94,
     "metadata": {},
     "output_type": "execute_result"
    }
   ],
   "source": [
    "s[::-1]     #it Reverse the. Series "
   ]
  },
  {
   "cell_type": "code",
   "execution_count": 95,
   "id": "35204dec",
   "metadata": {
    "execution": {
     "iopub.execute_input": "2022-09-28T11:47:50.521476Z",
     "iopub.status.busy": "2022-09-28T11:47:50.520408Z",
     "iopub.status.idle": "2022-09-28T11:47:50.528876Z",
     "shell.execute_reply": "2022-09-28T11:47:50.527927Z"
    },
    "papermill": {
     "duration": 0.071174,
     "end_time": "2022-09-28T11:47:50.530956",
     "exception": false,
     "start_time": "2022-09-28T11:47:50.459782",
     "status": "completed"
    },
    "tags": []
   },
   "outputs": [
    {
     "data": {
      "text/plain": [
       "2000-01-01    0.000000\n",
       "2000-01-02    0.000000\n",
       "2000-01-03    0.000000\n",
       "2000-01-04    0.000000\n",
       "2000-01-05    0.000000\n",
       "2000-01-06    2.713732\n",
       "2000-01-07   -0.396021\n",
       "2000-01-08    1.282484\n",
       "Freq: D, Name: A, dtype: float64"
      ]
     },
     "execution_count": 95,
     "metadata": {},
     "output_type": "execute_result"
    }
   ],
   "source": [
    "s2 = s.copy()   #Copying value of s \n",
    "s2[:5]=0       #Assigning Value from 0 to 5\n",
    "s2"
   ]
  },
  {
   "cell_type": "markdown",
   "id": "5dce6b07",
   "metadata": {
    "papermill": {
     "duration": 0.059091,
     "end_time": "2022-09-28T11:47:50.649574",
     "exception": false,
     "start_time": "2022-09-28T11:47:50.590483",
     "status": "completed"
    },
    "tags": []
   },
   "source": [
    " #### With DataFrame, slicing inside of [] slices the rows. This is provided largely as a convenience since it is such a common operation."
   ]
  },
  {
   "cell_type": "code",
   "execution_count": 96,
   "id": "b8f5245c",
   "metadata": {
    "execution": {
     "iopub.execute_input": "2022-09-28T11:47:50.770116Z",
     "iopub.status.busy": "2022-09-28T11:47:50.769759Z",
     "iopub.status.idle": "2022-09-28T11:47:50.781632Z",
     "shell.execute_reply": "2022-09-28T11:47:50.780674Z"
    },
    "papermill": {
     "duration": 0.074292,
     "end_time": "2022-09-28T11:47:50.783707",
     "exception": false,
     "start_time": "2022-09-28T11:47:50.709415",
     "status": "completed"
    },
    "tags": []
   },
   "outputs": [
    {
     "data": {
      "text/html": [
       "<div>\n",
       "<style scoped>\n",
       "    .dataframe tbody tr th:only-of-type {\n",
       "        vertical-align: middle;\n",
       "    }\n",
       "\n",
       "    .dataframe tbody tr th {\n",
       "        vertical-align: top;\n",
       "    }\n",
       "\n",
       "    .dataframe thead th {\n",
       "        text-align: right;\n",
       "    }\n",
       "</style>\n",
       "<table border=\"1\" class=\"dataframe\">\n",
       "  <thead>\n",
       "    <tr style=\"text-align: right;\">\n",
       "      <th></th>\n",
       "      <th>A</th>\n",
       "      <th>B</th>\n",
       "      <th>C</th>\n",
       "      <th>D</th>\n",
       "      <th>E</th>\n",
       "    </tr>\n",
       "  </thead>\n",
       "  <tbody>\n",
       "    <tr>\n",
       "      <th>2000-01-01</th>\n",
       "      <td>0</td>\n",
       "      <td>-0.207869</td>\n",
       "      <td>0.582660</td>\n",
       "      <td>0.563854</td>\n",
       "      <td>0</td>\n",
       "    </tr>\n",
       "    <tr>\n",
       "      <th>2000-01-02</th>\n",
       "      <td>1</td>\n",
       "      <td>2.634646</td>\n",
       "      <td>-0.105164</td>\n",
       "      <td>2.010912</td>\n",
       "      <td>1</td>\n",
       "    </tr>\n",
       "    <tr>\n",
       "      <th>2000-01-03</th>\n",
       "      <td>2</td>\n",
       "      <td>-0.903966</td>\n",
       "      <td>-1.708521</td>\n",
       "      <td>0.525925</td>\n",
       "      <td>2</td>\n",
       "    </tr>\n",
       "    <tr>\n",
       "      <th>2000-01-04</th>\n",
       "      <td>3</td>\n",
       "      <td>0.540534</td>\n",
       "      <td>-0.287860</td>\n",
       "      <td>-0.370266</td>\n",
       "      <td>3</td>\n",
       "    </tr>\n",
       "    <tr>\n",
       "      <th>2000-01-05</th>\n",
       "      <td>4</td>\n",
       "      <td>0.111214</td>\n",
       "      <td>-1.878738</td>\n",
       "      <td>0.968226</td>\n",
       "      <td>4</td>\n",
       "    </tr>\n",
       "    <tr>\n",
       "      <th>2000-01-06</th>\n",
       "      <td>5</td>\n",
       "      <td>1.618400</td>\n",
       "      <td>1.306084</td>\n",
       "      <td>0.877306</td>\n",
       "      <td>5</td>\n",
       "    </tr>\n",
       "    <tr>\n",
       "      <th>2000-01-07</th>\n",
       "      <td>6</td>\n",
       "      <td>0.813994</td>\n",
       "      <td>-0.424231</td>\n",
       "      <td>-0.278327</td>\n",
       "      <td>6</td>\n",
       "    </tr>\n",
       "    <tr>\n",
       "      <th>2000-01-08</th>\n",
       "      <td>7</td>\n",
       "      <td>0.761926</td>\n",
       "      <td>0.589024</td>\n",
       "      <td>-0.554914</td>\n",
       "      <td>7</td>\n",
       "    </tr>\n",
       "  </tbody>\n",
       "</table>\n",
       "</div>"
      ],
      "text/plain": [
       "            A         B         C         D  E\n",
       "2000-01-01  0 -0.207869  0.582660  0.563854  0\n",
       "2000-01-02  1  2.634646 -0.105164  2.010912  1\n",
       "2000-01-03  2 -0.903966 -1.708521  0.525925  2\n",
       "2000-01-04  3  0.540534 -0.287860 -0.370266  3\n",
       "2000-01-05  4  0.111214 -1.878738  0.968226  4\n",
       "2000-01-06  5  1.618400  1.306084  0.877306  5\n",
       "2000-01-07  6  0.813994 -0.424231 -0.278327  6\n",
       "2000-01-08  7  0.761926  0.589024 -0.554914  7"
      ]
     },
     "execution_count": 96,
     "metadata": {},
     "output_type": "execute_result"
    }
   ],
   "source": [
    "dfa"
   ]
  },
  {
   "cell_type": "code",
   "execution_count": 97,
   "id": "428c1ab1",
   "metadata": {
    "execution": {
     "iopub.execute_input": "2022-09-28T11:47:50.907852Z",
     "iopub.status.busy": "2022-09-28T11:47:50.906874Z",
     "iopub.status.idle": "2022-09-28T11:47:50.919308Z",
     "shell.execute_reply": "2022-09-28T11:47:50.918319Z"
    },
    "papermill": {
     "duration": 0.076234,
     "end_time": "2022-09-28T11:47:50.921325",
     "exception": false,
     "start_time": "2022-09-28T11:47:50.845091",
     "status": "completed"
    },
    "tags": []
   },
   "outputs": [
    {
     "data": {
      "text/html": [
       "<div>\n",
       "<style scoped>\n",
       "    .dataframe tbody tr th:only-of-type {\n",
       "        vertical-align: middle;\n",
       "    }\n",
       "\n",
       "    .dataframe tbody tr th {\n",
       "        vertical-align: top;\n",
       "    }\n",
       "\n",
       "    .dataframe thead th {\n",
       "        text-align: right;\n",
       "    }\n",
       "</style>\n",
       "<table border=\"1\" class=\"dataframe\">\n",
       "  <thead>\n",
       "    <tr style=\"text-align: right;\">\n",
       "      <th></th>\n",
       "      <th>A</th>\n",
       "      <th>B</th>\n",
       "      <th>C</th>\n",
       "      <th>D</th>\n",
       "      <th>E</th>\n",
       "    </tr>\n",
       "  </thead>\n",
       "  <tbody>\n",
       "    <tr>\n",
       "      <th>2000-01-04</th>\n",
       "      <td>3</td>\n",
       "      <td>0.540534</td>\n",
       "      <td>-0.287860</td>\n",
       "      <td>-0.370266</td>\n",
       "      <td>3</td>\n",
       "    </tr>\n",
       "    <tr>\n",
       "      <th>2000-01-05</th>\n",
       "      <td>4</td>\n",
       "      <td>0.111214</td>\n",
       "      <td>-1.878738</td>\n",
       "      <td>0.968226</td>\n",
       "      <td>4</td>\n",
       "    </tr>\n",
       "    <tr>\n",
       "      <th>2000-01-06</th>\n",
       "      <td>5</td>\n",
       "      <td>1.618400</td>\n",
       "      <td>1.306084</td>\n",
       "      <td>0.877306</td>\n",
       "      <td>5</td>\n",
       "    </tr>\n",
       "    <tr>\n",
       "      <th>2000-01-07</th>\n",
       "      <td>6</td>\n",
       "      <td>0.813994</td>\n",
       "      <td>-0.424231</td>\n",
       "      <td>-0.278327</td>\n",
       "      <td>6</td>\n",
       "    </tr>\n",
       "    <tr>\n",
       "      <th>2000-01-08</th>\n",
       "      <td>7</td>\n",
       "      <td>0.761926</td>\n",
       "      <td>0.589024</td>\n",
       "      <td>-0.554914</td>\n",
       "      <td>7</td>\n",
       "    </tr>\n",
       "  </tbody>\n",
       "</table>\n",
       "</div>"
      ],
      "text/plain": [
       "            A         B         C         D  E\n",
       "2000-01-04  3  0.540534 -0.287860 -0.370266  3\n",
       "2000-01-05  4  0.111214 -1.878738  0.968226  4\n",
       "2000-01-06  5  1.618400  1.306084  0.877306  5\n",
       "2000-01-07  6  0.813994 -0.424231 -0.278327  6\n",
       "2000-01-08  7  0.761926  0.589024 -0.554914  7"
      ]
     },
     "execution_count": 97,
     "metadata": {},
     "output_type": "execute_result"
    }
   ],
   "source": [
    "dfa[3:]   #From 3 To end of DataFrame"
   ]
  },
  {
   "cell_type": "code",
   "execution_count": 98,
   "id": "6c8941e4",
   "metadata": {
    "execution": {
     "iopub.execute_input": "2022-09-28T11:47:51.050520Z",
     "iopub.status.busy": "2022-09-28T11:47:51.050161Z",
     "iopub.status.idle": "2022-09-28T11:47:51.061752Z",
     "shell.execute_reply": "2022-09-28T11:47:51.060829Z"
    },
    "papermill": {
     "duration": 0.074645,
     "end_time": "2022-09-28T11:47:51.063674",
     "exception": false,
     "start_time": "2022-09-28T11:47:50.989029",
     "status": "completed"
    },
    "tags": []
   },
   "outputs": [
    {
     "data": {
      "text/html": [
       "<div>\n",
       "<style scoped>\n",
       "    .dataframe tbody tr th:only-of-type {\n",
       "        vertical-align: middle;\n",
       "    }\n",
       "\n",
       "    .dataframe tbody tr th {\n",
       "        vertical-align: top;\n",
       "    }\n",
       "\n",
       "    .dataframe thead th {\n",
       "        text-align: right;\n",
       "    }\n",
       "</style>\n",
       "<table border=\"1\" class=\"dataframe\">\n",
       "  <thead>\n",
       "    <tr style=\"text-align: right;\">\n",
       "      <th></th>\n",
       "      <th>A</th>\n",
       "      <th>B</th>\n",
       "      <th>C</th>\n",
       "      <th>D</th>\n",
       "      <th>E</th>\n",
       "    </tr>\n",
       "  </thead>\n",
       "  <tbody>\n",
       "    <tr>\n",
       "      <th>2000-01-01</th>\n",
       "      <td>0</td>\n",
       "      <td>-0.207869</td>\n",
       "      <td>0.582660</td>\n",
       "      <td>0.563854</td>\n",
       "      <td>0</td>\n",
       "    </tr>\n",
       "    <tr>\n",
       "      <th>2000-01-02</th>\n",
       "      <td>1</td>\n",
       "      <td>2.634646</td>\n",
       "      <td>-0.105164</td>\n",
       "      <td>2.010912</td>\n",
       "      <td>1</td>\n",
       "    </tr>\n",
       "    <tr>\n",
       "      <th>2000-01-03</th>\n",
       "      <td>2</td>\n",
       "      <td>-0.903966</td>\n",
       "      <td>-1.708521</td>\n",
       "      <td>0.525925</td>\n",
       "      <td>2</td>\n",
       "    </tr>\n",
       "  </tbody>\n",
       "</table>\n",
       "</div>"
      ],
      "text/plain": [
       "            A         B         C         D  E\n",
       "2000-01-01  0 -0.207869  0.582660  0.563854  0\n",
       "2000-01-02  1  2.634646 -0.105164  2.010912  1\n",
       "2000-01-03  2 -0.903966 -1.708521  0.525925  2"
      ]
     },
     "execution_count": 98,
     "metadata": {},
     "output_type": "execute_result"
    }
   ],
   "source": [
    "dfa[:3]    #Start to 3"
   ]
  },
  {
   "cell_type": "code",
   "execution_count": 99,
   "id": "f8386544",
   "metadata": {
    "execution": {
     "iopub.execute_input": "2022-09-28T11:47:51.187528Z",
     "iopub.status.busy": "2022-09-28T11:47:51.186437Z",
     "iopub.status.idle": "2022-09-28T11:47:51.198114Z",
     "shell.execute_reply": "2022-09-28T11:47:51.197087Z"
    },
    "papermill": {
     "duration": 0.075354,
     "end_time": "2022-09-28T11:47:51.200195",
     "exception": false,
     "start_time": "2022-09-28T11:47:51.124841",
     "status": "completed"
    },
    "tags": []
   },
   "outputs": [
    {
     "data": {
      "text/html": [
       "<div>\n",
       "<style scoped>\n",
       "    .dataframe tbody tr th:only-of-type {\n",
       "        vertical-align: middle;\n",
       "    }\n",
       "\n",
       "    .dataframe tbody tr th {\n",
       "        vertical-align: top;\n",
       "    }\n",
       "\n",
       "    .dataframe thead th {\n",
       "        text-align: right;\n",
       "    }\n",
       "</style>\n",
       "<table border=\"1\" class=\"dataframe\">\n",
       "  <thead>\n",
       "    <tr style=\"text-align: right;\">\n",
       "      <th></th>\n",
       "      <th>A</th>\n",
       "      <th>B</th>\n",
       "      <th>C</th>\n",
       "      <th>D</th>\n",
       "      <th>E</th>\n",
       "    </tr>\n",
       "  </thead>\n",
       "  <tbody>\n",
       "    <tr>\n",
       "      <th>2000-01-01</th>\n",
       "      <td>0</td>\n",
       "      <td>-0.207869</td>\n",
       "      <td>0.582660</td>\n",
       "      <td>0.563854</td>\n",
       "      <td>0</td>\n",
       "    </tr>\n",
       "    <tr>\n",
       "      <th>2000-01-03</th>\n",
       "      <td>2</td>\n",
       "      <td>-0.903966</td>\n",
       "      <td>-1.708521</td>\n",
       "      <td>0.525925</td>\n",
       "      <td>2</td>\n",
       "    </tr>\n",
       "    <tr>\n",
       "      <th>2000-01-05</th>\n",
       "      <td>4</td>\n",
       "      <td>0.111214</td>\n",
       "      <td>-1.878738</td>\n",
       "      <td>0.968226</td>\n",
       "      <td>4</td>\n",
       "    </tr>\n",
       "    <tr>\n",
       "      <th>2000-01-07</th>\n",
       "      <td>6</td>\n",
       "      <td>0.813994</td>\n",
       "      <td>-0.424231</td>\n",
       "      <td>-0.278327</td>\n",
       "      <td>6</td>\n",
       "    </tr>\n",
       "  </tbody>\n",
       "</table>\n",
       "</div>"
      ],
      "text/plain": [
       "            A         B         C         D  E\n",
       "2000-01-01  0 -0.207869  0.582660  0.563854  0\n",
       "2000-01-03  2 -0.903966 -1.708521  0.525925  2\n",
       "2000-01-05  4  0.111214 -1.878738  0.968226  4\n",
       "2000-01-07  6  0.813994 -0.424231 -0.278327  6"
      ]
     },
     "execution_count": 99,
     "metadata": {},
     "output_type": "execute_result"
    }
   ],
   "source": [
    "dfa[::2]     #steping value of 2"
   ]
  },
  {
   "cell_type": "code",
   "execution_count": 100,
   "id": "bf4cff02",
   "metadata": {
    "execution": {
     "iopub.execute_input": "2022-09-28T11:47:51.325379Z",
     "iopub.status.busy": "2022-09-28T11:47:51.325021Z",
     "iopub.status.idle": "2022-09-28T11:47:51.337587Z",
     "shell.execute_reply": "2022-09-28T11:47:51.336666Z"
    },
    "papermill": {
     "duration": 0.076128,
     "end_time": "2022-09-28T11:47:51.339708",
     "exception": false,
     "start_time": "2022-09-28T11:47:51.263580",
     "status": "completed"
    },
    "tags": []
   },
   "outputs": [
    {
     "data": {
      "text/html": [
       "<div>\n",
       "<style scoped>\n",
       "    .dataframe tbody tr th:only-of-type {\n",
       "        vertical-align: middle;\n",
       "    }\n",
       "\n",
       "    .dataframe tbody tr th {\n",
       "        vertical-align: top;\n",
       "    }\n",
       "\n",
       "    .dataframe thead th {\n",
       "        text-align: right;\n",
       "    }\n",
       "</style>\n",
       "<table border=\"1\" class=\"dataframe\">\n",
       "  <thead>\n",
       "    <tr style=\"text-align: right;\">\n",
       "      <th></th>\n",
       "      <th>A</th>\n",
       "      <th>B</th>\n",
       "      <th>C</th>\n",
       "      <th>D</th>\n",
       "      <th>E</th>\n",
       "    </tr>\n",
       "  </thead>\n",
       "  <tbody>\n",
       "    <tr>\n",
       "      <th>2000-01-08</th>\n",
       "      <td>7</td>\n",
       "      <td>0.761926</td>\n",
       "      <td>0.589024</td>\n",
       "      <td>-0.554914</td>\n",
       "      <td>7</td>\n",
       "    </tr>\n",
       "    <tr>\n",
       "      <th>2000-01-07</th>\n",
       "      <td>6</td>\n",
       "      <td>0.813994</td>\n",
       "      <td>-0.424231</td>\n",
       "      <td>-0.278327</td>\n",
       "      <td>6</td>\n",
       "    </tr>\n",
       "    <tr>\n",
       "      <th>2000-01-06</th>\n",
       "      <td>5</td>\n",
       "      <td>1.618400</td>\n",
       "      <td>1.306084</td>\n",
       "      <td>0.877306</td>\n",
       "      <td>5</td>\n",
       "    </tr>\n",
       "    <tr>\n",
       "      <th>2000-01-05</th>\n",
       "      <td>4</td>\n",
       "      <td>0.111214</td>\n",
       "      <td>-1.878738</td>\n",
       "      <td>0.968226</td>\n",
       "      <td>4</td>\n",
       "    </tr>\n",
       "    <tr>\n",
       "      <th>2000-01-04</th>\n",
       "      <td>3</td>\n",
       "      <td>0.540534</td>\n",
       "      <td>-0.287860</td>\n",
       "      <td>-0.370266</td>\n",
       "      <td>3</td>\n",
       "    </tr>\n",
       "    <tr>\n",
       "      <th>2000-01-03</th>\n",
       "      <td>2</td>\n",
       "      <td>-0.903966</td>\n",
       "      <td>-1.708521</td>\n",
       "      <td>0.525925</td>\n",
       "      <td>2</td>\n",
       "    </tr>\n",
       "    <tr>\n",
       "      <th>2000-01-02</th>\n",
       "      <td>1</td>\n",
       "      <td>2.634646</td>\n",
       "      <td>-0.105164</td>\n",
       "      <td>2.010912</td>\n",
       "      <td>1</td>\n",
       "    </tr>\n",
       "    <tr>\n",
       "      <th>2000-01-01</th>\n",
       "      <td>0</td>\n",
       "      <td>-0.207869</td>\n",
       "      <td>0.582660</td>\n",
       "      <td>0.563854</td>\n",
       "      <td>0</td>\n",
       "    </tr>\n",
       "  </tbody>\n",
       "</table>\n",
       "</div>"
      ],
      "text/plain": [
       "            A         B         C         D  E\n",
       "2000-01-08  7  0.761926  0.589024 -0.554914  7\n",
       "2000-01-07  6  0.813994 -0.424231 -0.278327  6\n",
       "2000-01-06  5  1.618400  1.306084  0.877306  5\n",
       "2000-01-05  4  0.111214 -1.878738  0.968226  4\n",
       "2000-01-04  3  0.540534 -0.287860 -0.370266  3\n",
       "2000-01-03  2 -0.903966 -1.708521  0.525925  2\n",
       "2000-01-02  1  2.634646 -0.105164  2.010912  1\n",
       "2000-01-01  0 -0.207869  0.582660  0.563854  0"
      ]
     },
     "execution_count": 100,
     "metadata": {},
     "output_type": "execute_result"
    }
   ],
   "source": [
    "dfa[::-1]   #reverse of DataFrame"
   ]
  },
  {
   "cell_type": "code",
   "execution_count": 101,
   "id": "ff2ff7fc",
   "metadata": {
    "execution": {
     "iopub.execute_input": "2022-09-28T11:47:51.463077Z",
     "iopub.status.busy": "2022-09-28T11:47:51.462101Z",
     "iopub.status.idle": "2022-09-28T11:47:51.476423Z",
     "shell.execute_reply": "2022-09-28T11:47:51.475439Z"
    },
    "papermill": {
     "duration": 0.078203,
     "end_time": "2022-09-28T11:47:51.478468",
     "exception": false,
     "start_time": "2022-09-28T11:47:51.400265",
     "status": "completed"
    },
    "tags": []
   },
   "outputs": [
    {
     "data": {
      "text/html": [
       "<div>\n",
       "<style scoped>\n",
       "    .dataframe tbody tr th:only-of-type {\n",
       "        vertical-align: middle;\n",
       "    }\n",
       "\n",
       "    .dataframe tbody tr th {\n",
       "        vertical-align: top;\n",
       "    }\n",
       "\n",
       "    .dataframe thead th {\n",
       "        text-align: right;\n",
       "    }\n",
       "</style>\n",
       "<table border=\"1\" class=\"dataframe\">\n",
       "  <thead>\n",
       "    <tr style=\"text-align: right;\">\n",
       "      <th></th>\n",
       "      <th>A</th>\n",
       "      <th>B</th>\n",
       "      <th>C</th>\n",
       "      <th>D</th>\n",
       "      <th>E</th>\n",
       "    </tr>\n",
       "  </thead>\n",
       "  <tbody>\n",
       "    <tr>\n",
       "      <th>2000-01-01</th>\n",
       "      <td>0</td>\n",
       "      <td>0.000000</td>\n",
       "      <td>0.000000</td>\n",
       "      <td>0.000000</td>\n",
       "      <td>0</td>\n",
       "    </tr>\n",
       "    <tr>\n",
       "      <th>2000-01-02</th>\n",
       "      <td>0</td>\n",
       "      <td>0.000000</td>\n",
       "      <td>0.000000</td>\n",
       "      <td>0.000000</td>\n",
       "      <td>0</td>\n",
       "    </tr>\n",
       "    <tr>\n",
       "      <th>2000-01-03</th>\n",
       "      <td>0</td>\n",
       "      <td>0.000000</td>\n",
       "      <td>0.000000</td>\n",
       "      <td>0.000000</td>\n",
       "      <td>0</td>\n",
       "    </tr>\n",
       "    <tr>\n",
       "      <th>2000-01-04</th>\n",
       "      <td>0</td>\n",
       "      <td>0.000000</td>\n",
       "      <td>0.000000</td>\n",
       "      <td>0.000000</td>\n",
       "      <td>0</td>\n",
       "    </tr>\n",
       "    <tr>\n",
       "      <th>2000-01-05</th>\n",
       "      <td>0</td>\n",
       "      <td>0.000000</td>\n",
       "      <td>0.000000</td>\n",
       "      <td>0.000000</td>\n",
       "      <td>0</td>\n",
       "    </tr>\n",
       "    <tr>\n",
       "      <th>2000-01-06</th>\n",
       "      <td>5</td>\n",
       "      <td>1.618400</td>\n",
       "      <td>1.306084</td>\n",
       "      <td>0.877306</td>\n",
       "      <td>5</td>\n",
       "    </tr>\n",
       "    <tr>\n",
       "      <th>2000-01-07</th>\n",
       "      <td>6</td>\n",
       "      <td>0.813994</td>\n",
       "      <td>-0.424231</td>\n",
       "      <td>-0.278327</td>\n",
       "      <td>6</td>\n",
       "    </tr>\n",
       "    <tr>\n",
       "      <th>2000-01-08</th>\n",
       "      <td>7</td>\n",
       "      <td>0.761926</td>\n",
       "      <td>0.589024</td>\n",
       "      <td>-0.554914</td>\n",
       "      <td>7</td>\n",
       "    </tr>\n",
       "  </tbody>\n",
       "</table>\n",
       "</div>"
      ],
      "text/plain": [
       "            A         B         C         D  E\n",
       "2000-01-01  0  0.000000  0.000000  0.000000  0\n",
       "2000-01-02  0  0.000000  0.000000  0.000000  0\n",
       "2000-01-03  0  0.000000  0.000000  0.000000  0\n",
       "2000-01-04  0  0.000000  0.000000  0.000000  0\n",
       "2000-01-05  0  0.000000  0.000000  0.000000  0\n",
       "2000-01-06  5  1.618400  1.306084  0.877306  5\n",
       "2000-01-07  6  0.813994 -0.424231 -0.278327  6\n",
       "2000-01-08  7  0.761926  0.589024 -0.554914  7"
      ]
     },
     "execution_count": 101,
     "metadata": {},
     "output_type": "execute_result"
    }
   ],
   "source": [
    "dfC=dfa.copy()           #Making Copying of DataFrame dfa\n",
    "dfC[:5]=0            #it will assign all value to 0 from (0,5)\n",
    "dfC"
   ]
  },
  {
   "cell_type": "markdown",
   "id": "cf5d611f",
   "metadata": {
    "papermill": {
     "duration": 0.061349,
     "end_time": "2022-09-28T11:47:51.602853",
     "exception": false,
     "start_time": "2022-09-28T11:47:51.541504",
     "status": "completed"
    },
    "tags": []
   },
   "source": [
    "## Indexing and selecting data In DataFrame | Selection by label\n",
    "> ## ⚠️Warning\n",
    "> - Whether a copy or a reference is returned for a setting operation, may depend on the context. This is sometimes called chained assignment and should be avoided. \n",
    "\n",
    "> - See Returning a View versus Copy.\n",
    "https://pandas.pydata.org/docs/user_guide/indexing.html#indexing-view-versus-copy"
   ]
  },
  {
   "cell_type": "markdown",
   "id": "ff9b1689",
   "metadata": {
    "papermill": {
     "duration": 0.062122,
     "end_time": "2022-09-28T11:47:51.727072",
     "exception": false,
     "start_time": "2022-09-28T11:47:51.664950",
     "status": "completed"
    },
    "tags": []
   },
   "source": [
    "> ## ⚠️Warning\n",
    "> - .loc is strict when you present slicers that are not compatible (or convertible) with the index type. For example using integers in a DatetimeIndex. These will raise a TypeError."
   ]
  },
  {
   "cell_type": "code",
   "execution_count": 102,
   "id": "f8dba07c",
   "metadata": {
    "execution": {
     "iopub.execute_input": "2022-09-28T11:47:51.851204Z",
     "iopub.status.busy": "2022-09-28T11:47:51.850844Z",
     "iopub.status.idle": "2022-09-28T11:47:51.864016Z",
     "shell.execute_reply": "2022-09-28T11:47:51.863039Z"
    },
    "papermill": {
     "duration": 0.07777,
     "end_time": "2022-09-28T11:47:51.866104",
     "exception": false,
     "start_time": "2022-09-28T11:47:51.788334",
     "status": "completed"
    },
    "tags": []
   },
   "outputs": [
    {
     "data": {
      "text/html": [
       "<div>\n",
       "<style scoped>\n",
       "    .dataframe tbody tr th:only-of-type {\n",
       "        vertical-align: middle;\n",
       "    }\n",
       "\n",
       "    .dataframe tbody tr th {\n",
       "        vertical-align: top;\n",
       "    }\n",
       "\n",
       "    .dataframe thead th {\n",
       "        text-align: right;\n",
       "    }\n",
       "</style>\n",
       "<table border=\"1\" class=\"dataframe\">\n",
       "  <thead>\n",
       "    <tr style=\"text-align: right;\">\n",
       "      <th></th>\n",
       "      <th>A</th>\n",
       "      <th>B</th>\n",
       "      <th>C</th>\n",
       "      <th>D</th>\n",
       "    </tr>\n",
       "  </thead>\n",
       "  <tbody>\n",
       "    <tr>\n",
       "      <th>2013-01-01</th>\n",
       "      <td>0.671338</td>\n",
       "      <td>-0.508959</td>\n",
       "      <td>-0.031128</td>\n",
       "      <td>-0.327917</td>\n",
       "    </tr>\n",
       "    <tr>\n",
       "      <th>2013-01-02</th>\n",
       "      <td>-0.341310</td>\n",
       "      <td>0.537076</td>\n",
       "      <td>1.242073</td>\n",
       "      <td>0.364351</td>\n",
       "    </tr>\n",
       "    <tr>\n",
       "      <th>2013-01-03</th>\n",
       "      <td>1.305442</td>\n",
       "      <td>1.114689</td>\n",
       "      <td>-0.375845</td>\n",
       "      <td>-0.990458</td>\n",
       "    </tr>\n",
       "    <tr>\n",
       "      <th>2013-01-04</th>\n",
       "      <td>-0.799386</td>\n",
       "      <td>0.011415</td>\n",
       "      <td>0.207495</td>\n",
       "      <td>-1.084740</td>\n",
       "    </tr>\n",
       "    <tr>\n",
       "      <th>2013-01-05</th>\n",
       "      <td>0.354315</td>\n",
       "      <td>-0.445926</td>\n",
       "      <td>-0.162614</td>\n",
       "      <td>0.803337</td>\n",
       "    </tr>\n",
       "  </tbody>\n",
       "</table>\n",
       "</div>"
      ],
      "text/plain": [
       "                   A         B         C         D\n",
       "2013-01-01  0.671338 -0.508959 -0.031128 -0.327917\n",
       "2013-01-02 -0.341310  0.537076  1.242073  0.364351\n",
       "2013-01-03  1.305442  1.114689 -0.375845 -0.990458\n",
       "2013-01-04 -0.799386  0.011415  0.207495 -1.084740\n",
       "2013-01-05  0.354315 -0.445926 -0.162614  0.803337"
      ]
     },
     "execution_count": 102,
     "metadata": {},
     "output_type": "execute_result"
    }
   ],
   "source": [
    "                     #giving 2-D array\n",
    "    \n",
    "dfl = pd.DataFrame(np.random.randn(5, 4),       \n",
    "                   columns=list('ABCD'),\n",
    "                   index=pd.date_range('20130101', periods=5))\n",
    "dfl"
   ]
  },
  {
   "cell_type": "markdown",
   "id": "843ade5d",
   "metadata": {
    "execution": {
     "iopub.execute_input": "2022-09-25T05:24:56.677947Z",
     "iopub.status.busy": "2022-09-25T05:24:56.677417Z",
     "iopub.status.idle": "2022-09-25T05:24:56.766054Z",
     "shell.execute_reply": "2022-09-25T05:24:56.764202Z",
     "shell.execute_reply.started": "2022-09-25T05:24:56.677905Z"
    },
    "papermill": {
     "duration": 0.061296,
     "end_time": "2022-09-28T11:47:51.991453",
     "exception": false,
     "start_time": "2022-09-28T11:47:51.930157",
     "status": "completed"
    },
    "tags": []
   },
   "source": [
    "``` python\n",
    "dfl.loc[2:3]\n",
    "\n",
    "---------------------------------------------------------------------------\n",
    "TypeError                                 Traceback (most recent call last)\n",
    "/tmp/ipykernel_17/564008759.py in <module>\n",
    "----> 1 dfl.loc[2:3]\n",
    "\n",
    "\"all other error removed\"\n",
    "\n",
    "TypeError: cannot do slice indexing on DatetimeIndex with these indexers [2] of type int\n",
    "\n",
    "```"
   ]
  },
  {
   "cell_type": "code",
   "execution_count": 103,
   "id": "4fae355d",
   "metadata": {
    "execution": {
     "iopub.execute_input": "2022-09-28T11:47:52.116192Z",
     "iopub.status.busy": "2022-09-28T11:47:52.115834Z",
     "iopub.status.idle": "2022-09-28T11:47:52.129056Z",
     "shell.execute_reply": "2022-09-28T11:47:52.128128Z"
    },
    "papermill": {
     "duration": 0.079178,
     "end_time": "2022-09-28T11:47:52.131348",
     "exception": false,
     "start_time": "2022-09-28T11:47:52.052170",
     "status": "completed"
    },
    "tags": []
   },
   "outputs": [
    {
     "data": {
      "text/html": [
       "<div>\n",
       "<style scoped>\n",
       "    .dataframe tbody tr th:only-of-type {\n",
       "        vertical-align: middle;\n",
       "    }\n",
       "\n",
       "    .dataframe tbody tr th {\n",
       "        vertical-align: top;\n",
       "    }\n",
       "\n",
       "    .dataframe thead th {\n",
       "        text-align: right;\n",
       "    }\n",
       "</style>\n",
       "<table border=\"1\" class=\"dataframe\">\n",
       "  <thead>\n",
       "    <tr style=\"text-align: right;\">\n",
       "      <th></th>\n",
       "      <th>A</th>\n",
       "      <th>B</th>\n",
       "      <th>C</th>\n",
       "      <th>D</th>\n",
       "    </tr>\n",
       "  </thead>\n",
       "  <tbody>\n",
       "    <tr>\n",
       "      <th>2013-01-02</th>\n",
       "      <td>-0.341310</td>\n",
       "      <td>0.537076</td>\n",
       "      <td>1.242073</td>\n",
       "      <td>0.364351</td>\n",
       "    </tr>\n",
       "    <tr>\n",
       "      <th>2013-01-03</th>\n",
       "      <td>1.305442</td>\n",
       "      <td>1.114689</td>\n",
       "      <td>-0.375845</td>\n",
       "      <td>-0.990458</td>\n",
       "    </tr>\n",
       "    <tr>\n",
       "      <th>2013-01-04</th>\n",
       "      <td>-0.799386</td>\n",
       "      <td>0.011415</td>\n",
       "      <td>0.207495</td>\n",
       "      <td>-1.084740</td>\n",
       "    </tr>\n",
       "  </tbody>\n",
       "</table>\n",
       "</div>"
      ],
      "text/plain": [
       "                   A         B         C         D\n",
       "2013-01-02 -0.341310  0.537076  1.242073  0.364351\n",
       "2013-01-03  1.305442  1.114689 -0.375845 -0.990458\n",
       "2013-01-04 -0.799386  0.011415  0.207495 -1.084740"
      ]
     },
     "execution_count": 103,
     "metadata": {},
     "output_type": "execute_result"
    }
   ],
   "source": [
    "dfl.loc['20130102':'20130104']      #right indexing for DateTime indeixng data "
   ]
  },
  {
   "cell_type": "markdown",
   "id": "96dc93b5",
   "metadata": {
    "papermill": {
     "duration": 0.061384,
     "end_time": "2022-09-28T11:47:52.255190",
     "exception": false,
     "start_time": "2022-09-28T11:47:52.193806",
     "status": "completed"
    },
    "tags": []
   },
   "source": [
    "- pandas provides a suite of methods in order to have **purely label based indexing.** This is a strict inclusion based protocol. Every label asked for must be in the index, or a **KeyError** will be raised. When slicing, both the start bound **AND** the stop bound are included, if present in the index. Integers are valid labels, but they refer to the label **and not the position.**\n",
    "\n",
    "- The .loc attribute is the primary access method. The following are valid inputs:\n",
    "\n",
    "    - A single label, e.g. 5 or 'a' (Note that 5 is interpreted as a label of the index. This use is not an integer position along the index.).\n",
    "    - A list or array of labels ['a', 'b', 'c'].\n",
    "    - A slice object with labels 'a':'f' (Note that contrary to usual Python slices, **both** the start and the stop are included, when present in the index! See Slicing with labels.\n",
    "    - A boolean array.\n",
    "    - A **callable**, see Selection By Callable."
   ]
  },
  {
   "cell_type": "code",
   "execution_count": 104,
   "id": "788a5ecf",
   "metadata": {
    "execution": {
     "iopub.execute_input": "2022-09-28T11:47:52.378416Z",
     "iopub.status.busy": "2022-09-28T11:47:52.378070Z",
     "iopub.status.idle": "2022-09-28T11:47:52.385660Z",
     "shell.execute_reply": "2022-09-28T11:47:52.384786Z"
    },
    "papermill": {
     "duration": 0.07105,
     "end_time": "2022-09-28T11:47:52.387600",
     "exception": false,
     "start_time": "2022-09-28T11:47:52.316550",
     "status": "completed"
    },
    "tags": []
   },
   "outputs": [
    {
     "data": {
      "text/plain": [
       "a    0.312252\n",
       "b    0.604873\n",
       "c   -0.783315\n",
       "d   -0.000898\n",
       "e    1.307403\n",
       "f    1.505742\n",
       "dtype: float64"
      ]
     },
     "execution_count": 104,
     "metadata": {},
     "output_type": "execute_result"
    }
   ],
   "source": [
    "s1 = pd.Series(np.random.randn(6), index=list('abcdef')) #creating Series s1\n",
    "s1              #printing s1"
   ]
  },
  {
   "cell_type": "code",
   "execution_count": 105,
   "id": "d37b96ce",
   "metadata": {
    "execution": {
     "iopub.execute_input": "2022-09-28T11:47:52.514106Z",
     "iopub.status.busy": "2022-09-28T11:47:52.513730Z",
     "iopub.status.idle": "2022-09-28T11:47:52.521411Z",
     "shell.execute_reply": "2022-09-28T11:47:52.520495Z"
    },
    "papermill": {
     "duration": 0.074021,
     "end_time": "2022-09-28T11:47:52.524910",
     "exception": false,
     "start_time": "2022-09-28T11:47:52.450889",
     "status": "completed"
    },
    "tags": []
   },
   "outputs": [
    {
     "data": {
      "text/plain": [
       "d   -0.000898\n",
       "e    1.307403\n",
       "f    1.505742\n",
       "dtype: float64"
      ]
     },
     "execution_count": 105,
     "metadata": {},
     "output_type": "execute_result"
    }
   ],
   "source": [
    "s1[3:]        #By indexing "
   ]
  },
  {
   "cell_type": "code",
   "execution_count": 106,
   "id": "2661242b",
   "metadata": {
    "execution": {
     "iopub.execute_input": "2022-09-28T11:47:52.658357Z",
     "iopub.status.busy": "2022-09-28T11:47:52.657350Z",
     "iopub.status.idle": "2022-09-28T11:47:52.665362Z",
     "shell.execute_reply": "2022-09-28T11:47:52.664358Z"
    },
    "papermill": {
     "duration": 0.072368,
     "end_time": "2022-09-28T11:47:52.667316",
     "exception": false,
     "start_time": "2022-09-28T11:47:52.594948",
     "status": "completed"
    },
    "tags": []
   },
   "outputs": [
    {
     "data": {
      "text/plain": [
       "c   -0.783315\n",
       "d   -0.000898\n",
       "e    1.307403\n",
       "f    1.505742\n",
       "dtype: float64"
      ]
     },
     "execution_count": 106,
     "metadata": {},
     "output_type": "execute_result"
    }
   ],
   "source": [
    "s1[\"c\":]      #by indexing label "
   ]
  },
  {
   "cell_type": "code",
   "execution_count": 107,
   "id": "e512c82e",
   "metadata": {
    "execution": {
     "iopub.execute_input": "2022-09-28T11:47:52.795446Z",
     "iopub.status.busy": "2022-09-28T11:47:52.794477Z",
     "iopub.status.idle": "2022-09-28T11:47:52.802754Z",
     "shell.execute_reply": "2022-09-28T11:47:52.801732Z"
    },
    "papermill": {
     "duration": 0.073542,
     "end_time": "2022-09-28T11:47:52.805312",
     "exception": false,
     "start_time": "2022-09-28T11:47:52.731770",
     "status": "completed"
    },
    "tags": []
   },
   "outputs": [
    {
     "data": {
      "text/plain": [
       "c   -0.783315\n",
       "d   -0.000898\n",
       "e    1.307403\n",
       "f    1.505742\n",
       "dtype: float64"
      ]
     },
     "execution_count": 107,
     "metadata": {},
     "output_type": "execute_result"
    }
   ],
   "source": [
    "s1.loc['c':]      #asscessing by label "
   ]
  },
  {
   "cell_type": "code",
   "execution_count": 108,
   "id": "bf7d78bd",
   "metadata": {
    "execution": {
     "iopub.execute_input": "2022-09-28T11:47:52.932066Z",
     "iopub.status.busy": "2022-09-28T11:47:52.931077Z",
     "iopub.status.idle": "2022-09-28T11:47:52.939220Z",
     "shell.execute_reply": "2022-09-28T11:47:52.938191Z"
    },
    "papermill": {
     "duration": 0.074269,
     "end_time": "2022-09-28T11:47:52.941357",
     "exception": false,
     "start_time": "2022-09-28T11:47:52.867088",
     "status": "completed"
    },
    "tags": []
   },
   "outputs": [
    {
     "data": {
      "text/plain": [
       "a    0.312252\n",
       "b    0.604873\n",
       "c    0.000000\n",
       "d    0.000000\n",
       "e    0.000000\n",
       "f    0.000000\n",
       "dtype: float64"
      ]
     },
     "execution_count": 108,
     "metadata": {},
     "output_type": "execute_result"
    }
   ],
   "source": [
    "s1.loc['c':] = 0    #Assinging value to Series\n",
    "s1"
   ]
  },
  {
   "cell_type": "markdown",
   "id": "29c4c4f9",
   "metadata": {
    "papermill": {
     "duration": 0.061019,
     "end_time": "2022-09-28T11:47:53.065458",
     "exception": false,
     "start_time": "2022-09-28T11:47:53.004439",
     "status": "completed"
    },
    "tags": []
   },
   "source": [
    "**With DataFrame**"
   ]
  },
  {
   "cell_type": "code",
   "execution_count": 109,
   "id": "80766773",
   "metadata": {
    "execution": {
     "iopub.execute_input": "2022-09-28T11:47:53.200915Z",
     "iopub.status.busy": "2022-09-28T11:47:53.200541Z",
     "iopub.status.idle": "2022-09-28T11:47:53.217059Z",
     "shell.execute_reply": "2022-09-28T11:47:53.216078Z"
    },
    "papermill": {
     "duration": 0.092624,
     "end_time": "2022-09-28T11:47:53.219376",
     "exception": false,
     "start_time": "2022-09-28T11:47:53.126752",
     "status": "completed"
    },
    "tags": []
   },
   "outputs": [
    {
     "data": {
      "text/html": [
       "<div>\n",
       "<style scoped>\n",
       "    .dataframe tbody tr th:only-of-type {\n",
       "        vertical-align: middle;\n",
       "    }\n",
       "\n",
       "    .dataframe tbody tr th {\n",
       "        vertical-align: top;\n",
       "    }\n",
       "\n",
       "    .dataframe thead th {\n",
       "        text-align: right;\n",
       "    }\n",
       "</style>\n",
       "<table border=\"1\" class=\"dataframe\">\n",
       "  <thead>\n",
       "    <tr style=\"text-align: right;\">\n",
       "      <th></th>\n",
       "      <th>A</th>\n",
       "      <th>B</th>\n",
       "      <th>C</th>\n",
       "      <th>D</th>\n",
       "    </tr>\n",
       "  </thead>\n",
       "  <tbody>\n",
       "    <tr>\n",
       "      <th>a</th>\n",
       "      <td>-0.557566</td>\n",
       "      <td>0.991759</td>\n",
       "      <td>-1.303410</td>\n",
       "      <td>-0.548195</td>\n",
       "    </tr>\n",
       "    <tr>\n",
       "      <th>b</th>\n",
       "      <td>-0.858460</td>\n",
       "      <td>-0.659527</td>\n",
       "      <td>0.512108</td>\n",
       "      <td>0.408379</td>\n",
       "    </tr>\n",
       "    <tr>\n",
       "      <th>c</th>\n",
       "      <td>-0.473994</td>\n",
       "      <td>0.205648</td>\n",
       "      <td>0.652431</td>\n",
       "      <td>1.435564</td>\n",
       "    </tr>\n",
       "    <tr>\n",
       "      <th>d</th>\n",
       "      <td>-0.821389</td>\n",
       "      <td>-1.362537</td>\n",
       "      <td>0.033008</td>\n",
       "      <td>0.325530</td>\n",
       "    </tr>\n",
       "    <tr>\n",
       "      <th>e</th>\n",
       "      <td>-0.311721</td>\n",
       "      <td>-0.607290</td>\n",
       "      <td>1.107040</td>\n",
       "      <td>0.593870</td>\n",
       "    </tr>\n",
       "    <tr>\n",
       "      <th>f</th>\n",
       "      <td>-0.086842</td>\n",
       "      <td>1.588660</td>\n",
       "      <td>-1.373534</td>\n",
       "      <td>-0.227597</td>\n",
       "    </tr>\n",
       "  </tbody>\n",
       "</table>\n",
       "</div>"
      ],
      "text/plain": [
       "          A         B         C         D\n",
       "a -0.557566  0.991759 -1.303410 -0.548195\n",
       "b -0.858460 -0.659527  0.512108  0.408379\n",
       "c -0.473994  0.205648  0.652431  1.435564\n",
       "d -0.821389 -1.362537  0.033008  0.325530\n",
       "e -0.311721 -0.607290  1.107040  0.593870\n",
       "f -0.086842  1.588660 -1.373534 -0.227597"
      ]
     },
     "execution_count": 109,
     "metadata": {},
     "output_type": "execute_result"
    }
   ],
   "source": [
    "df1 = pd.DataFrame(np.random.randn(6, 4),\n",
    "                   index=list('abcdef'),\n",
    "                   columns=list('ABCD'))\n",
    "df1"
   ]
  },
  {
   "cell_type": "code",
   "execution_count": 110,
   "id": "d26ca2f8",
   "metadata": {
    "execution": {
     "iopub.execute_input": "2022-09-28T11:47:53.348335Z",
     "iopub.status.busy": "2022-09-28T11:47:53.347974Z",
     "iopub.status.idle": "2022-09-28T11:47:53.359363Z",
     "shell.execute_reply": "2022-09-28T11:47:53.358391Z"
    },
    "papermill": {
     "duration": 0.077996,
     "end_time": "2022-09-28T11:47:53.361507",
     "exception": false,
     "start_time": "2022-09-28T11:47:53.283511",
     "status": "completed"
    },
    "tags": []
   },
   "outputs": [
    {
     "data": {
      "text/html": [
       "<div>\n",
       "<style scoped>\n",
       "    .dataframe tbody tr th:only-of-type {\n",
       "        vertical-align: middle;\n",
       "    }\n",
       "\n",
       "    .dataframe tbody tr th {\n",
       "        vertical-align: top;\n",
       "    }\n",
       "\n",
       "    .dataframe thead th {\n",
       "        text-align: right;\n",
       "    }\n",
       "</style>\n",
       "<table border=\"1\" class=\"dataframe\">\n",
       "  <thead>\n",
       "    <tr style=\"text-align: right;\">\n",
       "      <th></th>\n",
       "      <th>A</th>\n",
       "      <th>B</th>\n",
       "      <th>C</th>\n",
       "      <th>D</th>\n",
       "    </tr>\n",
       "  </thead>\n",
       "  <tbody>\n",
       "    <tr>\n",
       "      <th>d</th>\n",
       "      <td>-0.821389</td>\n",
       "      <td>-1.362537</td>\n",
       "      <td>0.033008</td>\n",
       "      <td>0.325530</td>\n",
       "    </tr>\n",
       "    <tr>\n",
       "      <th>e</th>\n",
       "      <td>-0.311721</td>\n",
       "      <td>-0.607290</td>\n",
       "      <td>1.107040</td>\n",
       "      <td>0.593870</td>\n",
       "    </tr>\n",
       "    <tr>\n",
       "      <th>f</th>\n",
       "      <td>-0.086842</td>\n",
       "      <td>1.588660</td>\n",
       "      <td>-1.373534</td>\n",
       "      <td>-0.227597</td>\n",
       "    </tr>\n",
       "  </tbody>\n",
       "</table>\n",
       "</div>"
      ],
      "text/plain": [
       "          A         B         C         D\n",
       "d -0.821389 -1.362537  0.033008  0.325530\n",
       "e -0.311721 -0.607290  1.107040  0.593870\n",
       "f -0.086842  1.588660 -1.373534 -0.227597"
      ]
     },
     "execution_count": 110,
     "metadata": {},
     "output_type": "execute_result"
    }
   ],
   "source": [
    "df1[3:]"
   ]
  },
  {
   "cell_type": "code",
   "execution_count": 111,
   "id": "3f8d501c",
   "metadata": {
    "execution": {
     "iopub.execute_input": "2022-09-28T11:47:53.492555Z",
     "iopub.status.busy": "2022-09-28T11:47:53.491559Z",
     "iopub.status.idle": "2022-09-28T11:47:53.504507Z",
     "shell.execute_reply": "2022-09-28T11:47:53.503599Z"
    },
    "papermill": {
     "duration": 0.078854,
     "end_time": "2022-09-28T11:47:53.506698",
     "exception": false,
     "start_time": "2022-09-28T11:47:53.427844",
     "status": "completed"
    },
    "tags": []
   },
   "outputs": [
    {
     "data": {
      "text/html": [
       "<div>\n",
       "<style scoped>\n",
       "    .dataframe tbody tr th:only-of-type {\n",
       "        vertical-align: middle;\n",
       "    }\n",
       "\n",
       "    .dataframe tbody tr th {\n",
       "        vertical-align: top;\n",
       "    }\n",
       "\n",
       "    .dataframe thead th {\n",
       "        text-align: right;\n",
       "    }\n",
       "</style>\n",
       "<table border=\"1\" class=\"dataframe\">\n",
       "  <thead>\n",
       "    <tr style=\"text-align: right;\">\n",
       "      <th></th>\n",
       "      <th>A</th>\n",
       "      <th>B</th>\n",
       "      <th>C</th>\n",
       "      <th>D</th>\n",
       "    </tr>\n",
       "  </thead>\n",
       "  <tbody>\n",
       "    <tr>\n",
       "      <th>c</th>\n",
       "      <td>-0.473994</td>\n",
       "      <td>0.205648</td>\n",
       "      <td>0.652431</td>\n",
       "      <td>1.435564</td>\n",
       "    </tr>\n",
       "    <tr>\n",
       "      <th>d</th>\n",
       "      <td>-0.821389</td>\n",
       "      <td>-1.362537</td>\n",
       "      <td>0.033008</td>\n",
       "      <td>0.325530</td>\n",
       "    </tr>\n",
       "    <tr>\n",
       "      <th>e</th>\n",
       "      <td>-0.311721</td>\n",
       "      <td>-0.607290</td>\n",
       "      <td>1.107040</td>\n",
       "      <td>0.593870</td>\n",
       "    </tr>\n",
       "    <tr>\n",
       "      <th>f</th>\n",
       "      <td>-0.086842</td>\n",
       "      <td>1.588660</td>\n",
       "      <td>-1.373534</td>\n",
       "      <td>-0.227597</td>\n",
       "    </tr>\n",
       "  </tbody>\n",
       "</table>\n",
       "</div>"
      ],
      "text/plain": [
       "          A         B         C         D\n",
       "c -0.473994  0.205648  0.652431  1.435564\n",
       "d -0.821389 -1.362537  0.033008  0.325530\n",
       "e -0.311721 -0.607290  1.107040  0.593870\n",
       "f -0.086842  1.588660 -1.373534 -0.227597"
      ]
     },
     "execution_count": 111,
     "metadata": {},
     "output_type": "execute_result"
    }
   ],
   "source": [
    "df1[\"c\":]"
   ]
  },
  {
   "cell_type": "code",
   "execution_count": 112,
   "id": "959e4eda",
   "metadata": {
    "execution": {
     "iopub.execute_input": "2022-09-28T11:47:53.634230Z",
     "iopub.status.busy": "2022-09-28T11:47:53.633890Z",
     "iopub.status.idle": "2022-09-28T11:47:53.641233Z",
     "shell.execute_reply": "2022-09-28T11:47:53.640337Z"
    },
    "papermill": {
     "duration": 0.073583,
     "end_time": "2022-09-28T11:47:53.643713",
     "exception": false,
     "start_time": "2022-09-28T11:47:53.570130",
     "status": "completed"
    },
    "tags": []
   },
   "outputs": [
    {
     "data": {
      "text/plain": [
       "A   -0.557566\n",
       "B    0.991759\n",
       "C   -1.303410\n",
       "D   -0.548195\n",
       "Name: a, dtype: float64"
      ]
     },
     "execution_count": 112,
     "metadata": {},
     "output_type": "execute_result"
    }
   ],
   "source": [
    "df1.loc[\"a\"] #value of column a only #For getting a cross section using a label (equivalent to df.xs('a')):"
   ]
  },
  {
   "cell_type": "code",
   "execution_count": 113,
   "id": "970597be",
   "metadata": {
    "execution": {
     "iopub.execute_input": "2022-09-28T11:47:53.778047Z",
     "iopub.status.busy": "2022-09-28T11:47:53.777114Z",
     "iopub.status.idle": "2022-09-28T11:47:53.784985Z",
     "shell.execute_reply": "2022-09-28T11:47:53.784029Z"
    },
    "papermill": {
     "duration": 0.073635,
     "end_time": "2022-09-28T11:47:53.786998",
     "exception": false,
     "start_time": "2022-09-28T11:47:53.713363",
     "status": "completed"
    },
    "tags": []
   },
   "outputs": [
    {
     "data": {
      "text/plain": [
       "A   -0.557566\n",
       "B    0.991759\n",
       "C   -1.303410\n",
       "D   -0.548195\n",
       "Name: a, dtype: float64"
      ]
     },
     "execution_count": 113,
     "metadata": {},
     "output_type": "execute_result"
    }
   ],
   "source": [
    "df1.xs('a')  #Both are same df1.loc[\"a\"]"
   ]
  },
  {
   "cell_type": "code",
   "execution_count": 114,
   "id": "9bb2a246",
   "metadata": {
    "execution": {
     "iopub.execute_input": "2022-09-28T11:47:53.915091Z",
     "iopub.status.busy": "2022-09-28T11:47:53.914161Z",
     "iopub.status.idle": "2022-09-28T11:47:53.925654Z",
     "shell.execute_reply": "2022-09-28T11:47:53.924655Z"
    },
    "papermill": {
     "duration": 0.077403,
     "end_time": "2022-09-28T11:47:53.927792",
     "exception": false,
     "start_time": "2022-09-28T11:47:53.850389",
     "status": "completed"
    },
    "tags": []
   },
   "outputs": [
    {
     "data": {
      "text/html": [
       "<div>\n",
       "<style scoped>\n",
       "    .dataframe tbody tr th:only-of-type {\n",
       "        vertical-align: middle;\n",
       "    }\n",
       "\n",
       "    .dataframe tbody tr th {\n",
       "        vertical-align: top;\n",
       "    }\n",
       "\n",
       "    .dataframe thead th {\n",
       "        text-align: right;\n",
       "    }\n",
       "</style>\n",
       "<table border=\"1\" class=\"dataframe\">\n",
       "  <thead>\n",
       "    <tr style=\"text-align: right;\">\n",
       "      <th></th>\n",
       "      <th>A</th>\n",
       "      <th>B</th>\n",
       "      <th>C</th>\n",
       "      <th>D</th>\n",
       "    </tr>\n",
       "  </thead>\n",
       "  <tbody>\n",
       "    <tr>\n",
       "      <th>a</th>\n",
       "      <td>-0.557566</td>\n",
       "      <td>0.991759</td>\n",
       "      <td>-1.303410</td>\n",
       "      <td>-0.548195</td>\n",
       "    </tr>\n",
       "    <tr>\n",
       "      <th>c</th>\n",
       "      <td>-0.473994</td>\n",
       "      <td>0.205648</td>\n",
       "      <td>0.652431</td>\n",
       "      <td>1.435564</td>\n",
       "    </tr>\n",
       "    <tr>\n",
       "      <th>d</th>\n",
       "      <td>-0.821389</td>\n",
       "      <td>-1.362537</td>\n",
       "      <td>0.033008</td>\n",
       "      <td>0.325530</td>\n",
       "    </tr>\n",
       "  </tbody>\n",
       "</table>\n",
       "</div>"
      ],
      "text/plain": [
       "          A         B         C         D\n",
       "a -0.557566  0.991759 -1.303410 -0.548195\n",
       "c -0.473994  0.205648  0.652431  1.435564\n",
       "d -0.821389 -1.362537  0.033008  0.325530"
      ]
     },
     "execution_count": 114,
     "metadata": {},
     "output_type": "execute_result"
    }
   ],
   "source": [
    "df1.loc[[\"a\",\"c\",\"d\"]]"
   ]
  },
  {
   "cell_type": "code",
   "execution_count": 115,
   "id": "2a02004c",
   "metadata": {
    "execution": {
     "iopub.execute_input": "2022-09-28T11:47:54.100838Z",
     "iopub.status.busy": "2022-09-28T11:47:54.099966Z",
     "iopub.status.idle": "2022-09-28T11:47:54.111887Z",
     "shell.execute_reply": "2022-09-28T11:47:54.110891Z"
    },
    "papermill": {
     "duration": 0.078403,
     "end_time": "2022-09-28T11:47:54.113991",
     "exception": false,
     "start_time": "2022-09-28T11:47:54.035588",
     "status": "completed"
    },
    "tags": []
   },
   "outputs": [
    {
     "data": {
      "text/html": [
       "<div>\n",
       "<style scoped>\n",
       "    .dataframe tbody tr th:only-of-type {\n",
       "        vertical-align: middle;\n",
       "    }\n",
       "\n",
       "    .dataframe tbody tr th {\n",
       "        vertical-align: top;\n",
       "    }\n",
       "\n",
       "    .dataframe thead th {\n",
       "        text-align: right;\n",
       "    }\n",
       "</style>\n",
       "<table border=\"1\" class=\"dataframe\">\n",
       "  <thead>\n",
       "    <tr style=\"text-align: right;\">\n",
       "      <th></th>\n",
       "      <th>A</th>\n",
       "      <th>B</th>\n",
       "      <th>C</th>\n",
       "      <th>D</th>\n",
       "    </tr>\n",
       "  </thead>\n",
       "  <tbody>\n",
       "    <tr>\n",
       "      <th>a</th>\n",
       "      <td>-0.557566</td>\n",
       "      <td>0.991759</td>\n",
       "      <td>-1.303410</td>\n",
       "      <td>-0.548195</td>\n",
       "    </tr>\n",
       "    <tr>\n",
       "      <th>c</th>\n",
       "      <td>-0.473994</td>\n",
       "      <td>0.205648</td>\n",
       "      <td>0.652431</td>\n",
       "      <td>1.435564</td>\n",
       "    </tr>\n",
       "    <tr>\n",
       "      <th>d</th>\n",
       "      <td>-0.821389</td>\n",
       "      <td>-1.362537</td>\n",
       "      <td>0.033008</td>\n",
       "      <td>0.325530</td>\n",
       "    </tr>\n",
       "  </tbody>\n",
       "</table>\n",
       "</div>"
      ],
      "text/plain": [
       "          A         B         C         D\n",
       "a -0.557566  0.991759 -1.303410 -0.548195\n",
       "c -0.473994  0.205648  0.652431  1.435564\n",
       "d -0.821389 -1.362537  0.033008  0.325530"
      ]
     },
     "execution_count": 115,
     "metadata": {},
     "output_type": "execute_result"
    }
   ],
   "source": [
    "df1.loc[[\"a\",\"c\",\"d\"],:]     #Before \",\" rows and after \",\" Colummns "
   ]
  },
  {
   "cell_type": "code",
   "execution_count": 116,
   "id": "22fd7e61",
   "metadata": {
    "execution": {
     "iopub.execute_input": "2022-09-28T11:47:54.241786Z",
     "iopub.status.busy": "2022-09-28T11:47:54.241420Z",
     "iopub.status.idle": "2022-09-28T11:47:54.252095Z",
     "shell.execute_reply": "2022-09-28T11:47:54.251208Z"
    },
    "papermill": {
     "duration": 0.076872,
     "end_time": "2022-09-28T11:47:54.253995",
     "exception": false,
     "start_time": "2022-09-28T11:47:54.177123",
     "status": "completed"
    },
    "tags": []
   },
   "outputs": [
    {
     "data": {
      "text/html": [
       "<div>\n",
       "<style scoped>\n",
       "    .dataframe tbody tr th:only-of-type {\n",
       "        vertical-align: middle;\n",
       "    }\n",
       "\n",
       "    .dataframe tbody tr th {\n",
       "        vertical-align: top;\n",
       "    }\n",
       "\n",
       "    .dataframe thead th {\n",
       "        text-align: right;\n",
       "    }\n",
       "</style>\n",
       "<table border=\"1\" class=\"dataframe\">\n",
       "  <thead>\n",
       "    <tr style=\"text-align: right;\">\n",
       "      <th></th>\n",
       "      <th>A</th>\n",
       "      <th>B</th>\n",
       "    </tr>\n",
       "  </thead>\n",
       "  <tbody>\n",
       "    <tr>\n",
       "      <th>a</th>\n",
       "      <td>-0.557566</td>\n",
       "      <td>0.991759</td>\n",
       "    </tr>\n",
       "    <tr>\n",
       "      <th>c</th>\n",
       "      <td>-0.473994</td>\n",
       "      <td>0.205648</td>\n",
       "    </tr>\n",
       "    <tr>\n",
       "      <th>d</th>\n",
       "      <td>-0.821389</td>\n",
       "      <td>-1.362537</td>\n",
       "    </tr>\n",
       "  </tbody>\n",
       "</table>\n",
       "</div>"
      ],
      "text/plain": [
       "          A         B\n",
       "a -0.557566  0.991759\n",
       "c -0.473994  0.205648\n",
       "d -0.821389 -1.362537"
      ]
     },
     "execution_count": 116,
     "metadata": {},
     "output_type": "execute_result"
    }
   ],
   "source": [
    "df1.loc[[\"a\",\"c\",\"d\"],\"A\":\"B\"]"
   ]
  },
  {
   "cell_type": "code",
   "execution_count": 117,
   "id": "588a3bca",
   "metadata": {
    "execution": {
     "iopub.execute_input": "2022-09-28T11:47:54.383029Z",
     "iopub.status.busy": "2022-09-28T11:47:54.381253Z",
     "iopub.status.idle": "2022-09-28T11:47:54.392136Z",
     "shell.execute_reply": "2022-09-28T11:47:54.391118Z"
    },
    "papermill": {
     "duration": 0.076513,
     "end_time": "2022-09-28T11:47:54.394304",
     "exception": false,
     "start_time": "2022-09-28T11:47:54.317791",
     "status": "completed"
    },
    "tags": []
   },
   "outputs": [
    {
     "data": {
      "text/html": [
       "<div>\n",
       "<style scoped>\n",
       "    .dataframe tbody tr th:only-of-type {\n",
       "        vertical-align: middle;\n",
       "    }\n",
       "\n",
       "    .dataframe tbody tr th {\n",
       "        vertical-align: top;\n",
       "    }\n",
       "\n",
       "    .dataframe thead th {\n",
       "        text-align: right;\n",
       "    }\n",
       "</style>\n",
       "<table border=\"1\" class=\"dataframe\">\n",
       "  <thead>\n",
       "    <tr style=\"text-align: right;\">\n",
       "      <th></th>\n",
       "      <th>C</th>\n",
       "      <th>D</th>\n",
       "    </tr>\n",
       "  </thead>\n",
       "  <tbody>\n",
       "    <tr>\n",
       "      <th>d</th>\n",
       "      <td>0.033008</td>\n",
       "      <td>0.325530</td>\n",
       "    </tr>\n",
       "    <tr>\n",
       "      <th>e</th>\n",
       "      <td>1.107040</td>\n",
       "      <td>0.593870</td>\n",
       "    </tr>\n",
       "    <tr>\n",
       "      <th>f</th>\n",
       "      <td>-1.373534</td>\n",
       "      <td>-0.227597</td>\n",
       "    </tr>\n",
       "  </tbody>\n",
       "</table>\n",
       "</div>"
      ],
      "text/plain": [
       "          C         D\n",
       "d  0.033008  0.325530\n",
       "e  1.107040  0.593870\n",
       "f -1.373534 -0.227597"
      ]
     },
     "execution_count": 117,
     "metadata": {},
     "output_type": "execute_result"
    }
   ],
   "source": [
    "df1.loc['d':,\"C\":\"D\"]"
   ]
  },
  {
   "cell_type": "code",
   "execution_count": 118,
   "id": "7c8639ed",
   "metadata": {
    "execution": {
     "iopub.execute_input": "2022-09-28T11:47:54.529441Z",
     "iopub.status.busy": "2022-09-28T11:47:54.528274Z",
     "iopub.status.idle": "2022-09-28T11:47:54.538353Z",
     "shell.execute_reply": "2022-09-28T11:47:54.537199Z"
    },
    "papermill": {
     "duration": 0.08263,
     "end_time": "2022-09-28T11:47:54.540791",
     "exception": false,
     "start_time": "2022-09-28T11:47:54.458161",
     "status": "completed"
    },
    "tags": []
   },
   "outputs": [
    {
     "data": {
      "text/plain": [
       "A    False\n",
       "B     True\n",
       "C    False\n",
       "D    False\n",
       "Name: a, dtype: bool"
      ]
     },
     "execution_count": 118,
     "metadata": {},
     "output_type": "execute_result"
    }
   ],
   "source": [
    "df1.loc['a'] > 0"
   ]
  },
  {
   "cell_type": "markdown",
   "id": "67996b9a",
   "metadata": {
    "papermill": {
     "duration": 0.067633,
     "end_time": "2022-09-28T11:47:54.681854",
     "exception": false,
     "start_time": "2022-09-28T11:47:54.614221",
     "status": "completed"
    },
    "tags": []
   },
   "source": []
  },
  {
   "cell_type": "markdown",
   "id": "e544652d",
   "metadata": {
    "papermill": {
     "duration": 0.063438,
     "end_time": "2022-09-28T11:47:54.808376",
     "exception": false,
     "start_time": "2022-09-28T11:47:54.744938",
     "status": "completed"
    },
    "tags": []
   },
   "source": [
    "### Selection by label | Slicing with labels :\n",
    "- When using .loc with slices, if both the start and the stop labels are present in the index, then elements located between the two (including them) are returned:"
   ]
  },
  {
   "cell_type": "code",
   "execution_count": 119,
   "id": "05e6b4ca",
   "metadata": {
    "execution": {
     "iopub.execute_input": "2022-09-28T11:47:54.940206Z",
     "iopub.status.busy": "2022-09-28T11:47:54.939253Z",
     "iopub.status.idle": "2022-09-28T11:47:54.947654Z",
     "shell.execute_reply": "2022-09-28T11:47:54.946663Z"
    },
    "papermill": {
     "duration": 0.07586,
     "end_time": "2022-09-28T11:47:54.949628",
     "exception": false,
     "start_time": "2022-09-28T11:47:54.873768",
     "status": "completed"
    },
    "tags": []
   },
   "outputs": [
    {
     "data": {
      "text/plain": [
       "0    a\n",
       "3    b\n",
       "2    c\n",
       "5    d\n",
       "4    e\n",
       "dtype: object"
      ]
     },
     "execution_count": 119,
     "metadata": {},
     "output_type": "execute_result"
    }
   ],
   "source": [
    "s = pd.Series(list('abcde'), index=[0, 3, 2, 5, 4]) #Value of s by not sorted index\n",
    "s"
   ]
  },
  {
   "cell_type": "code",
   "execution_count": 120,
   "id": "3ea6f17a",
   "metadata": {
    "execution": {
     "iopub.execute_input": "2022-09-28T11:47:55.080180Z",
     "iopub.status.busy": "2022-09-28T11:47:55.079084Z",
     "iopub.status.idle": "2022-09-28T11:47:55.087378Z",
     "shell.execute_reply": "2022-09-28T11:47:55.086434Z"
    },
    "papermill": {
     "duration": 0.074925,
     "end_time": "2022-09-28T11:47:55.089381",
     "exception": false,
     "start_time": "2022-09-28T11:47:55.014456",
     "status": "completed"
    },
    "tags": []
   },
   "outputs": [
    {
     "data": {
      "text/plain": [
       "3    b\n",
       "2    c\n",
       "5    d\n",
       "dtype: object"
      ]
     },
     "execution_count": 120,
     "metadata": {},
     "output_type": "execute_result"
    }
   ],
   "source": [
    "s.loc[3:5]   # returned value fall between this 3 to 5 index"
   ]
  },
  {
   "cell_type": "markdown",
   "id": "45f9abfe",
   "metadata": {
    "papermill": {
     "duration": 0.063007,
     "end_time": "2022-09-28T11:47:55.215181",
     "exception": false,
     "start_time": "2022-09-28T11:47:55.152174",
     "status": "completed"
    },
    "tags": []
   },
   "source": [
    "If at least one of the two is absent, but the index is sorted, and can be compared against start and stop labels, then slicing will still work as expected, by selecting labels which rank between the two:"
   ]
  },
  {
   "cell_type": "code",
   "execution_count": 121,
   "id": "ec9eb1f6",
   "metadata": {
    "execution": {
     "iopub.execute_input": "2022-09-28T11:47:55.344214Z",
     "iopub.status.busy": "2022-09-28T11:47:55.343824Z",
     "iopub.status.idle": "2022-09-28T11:47:55.351311Z",
     "shell.execute_reply": "2022-09-28T11:47:55.350432Z"
    },
    "papermill": {
     "duration": 0.074016,
     "end_time": "2022-09-28T11:47:55.353250",
     "exception": false,
     "start_time": "2022-09-28T11:47:55.279234",
     "status": "completed"
    },
    "tags": []
   },
   "outputs": [
    {
     "data": {
      "text/plain": [
       "0    a\n",
       "2    c\n",
       "3    b\n",
       "4    e\n",
       "5    d\n",
       "dtype: object"
      ]
     },
     "execution_count": 121,
     "metadata": {},
     "output_type": "execute_result"
    }
   ],
   "source": [
    "s.sort_index()  #sorting value here by index"
   ]
  },
  {
   "cell_type": "code",
   "execution_count": 122,
   "id": "c3f29b36",
   "metadata": {
    "execution": {
     "iopub.execute_input": "2022-09-28T11:47:55.482839Z",
     "iopub.status.busy": "2022-09-28T11:47:55.481578Z",
     "iopub.status.idle": "2022-09-28T11:47:55.490564Z",
     "shell.execute_reply": "2022-09-28T11:47:55.489550Z"
    },
    "papermill": {
     "duration": 0.075241,
     "end_time": "2022-09-28T11:47:55.492701",
     "exception": false,
     "start_time": "2022-09-28T11:47:55.417460",
     "status": "completed"
    },
    "tags": []
   },
   "outputs": [
    {
     "data": {
      "text/plain": [
       "3    b\n",
       "4    e\n",
       "5    d\n",
       "dtype: object"
      ]
     },
     "execution_count": 122,
     "metadata": {},
     "output_type": "execute_result"
    }
   ],
   "source": [
    "s.sort_index().loc[3:5]  #after sorting the values "
   ]
  },
  {
   "cell_type": "markdown",
   "id": "d169fd74",
   "metadata": {
    "papermill": {
     "duration": 0.063336,
     "end_time": "2022-09-28T11:47:55.619195",
     "exception": false,
     "start_time": "2022-09-28T11:47:55.555859",
     "status": "completed"
    },
    "tags": []
   },
   "source": [
    ">However, if at least one of the two is absent and the index is not sorted, an error will be raised (since doing otherwise would be computationally expensive, as well as potentially ambiguous for mixed type indexes). For instance, in the above example, s.loc[1:6] would raise KeyError.\n",
    "\n",
    "For the rationale behind this behavior, see Endpoints are inclusive."
   ]
  },
  {
   "cell_type": "markdown",
   "id": "37e3da00",
   "metadata": {
    "execution": {
     "iopub.execute_input": "2022-09-25T07:28:29.276477Z",
     "iopub.status.busy": "2022-09-25T07:28:29.276038Z",
     "iopub.status.idle": "2022-09-25T07:28:29.308607Z",
     "shell.execute_reply": "2022-09-25T07:28:29.307015Z",
     "shell.execute_reply.started": "2022-09-25T07:28:29.276440Z"
    },
    "papermill": {
     "duration": 0.06292,
     "end_time": "2022-09-28T11:47:55.745779",
     "exception": false,
     "start_time": "2022-09-28T11:47:55.682859",
     "status": "completed"
    },
    "tags": []
   },
   "source": [
    "``` python\n",
    "s = pd.Series(list('abcdef'), index=[0, 3, 2, 5, 4, 2])\n",
    "s.loc[2:5]\n",
    "\n",
    "---------------------------------------------------------------------------\n",
    "KeyError                                  Traceback (most recent call last)\n",
    "/tmp/ipykernel_18/1395166310.py in <module>\n",
    "      1 s = pd.Series(list('abcdef'), index=[0, 3, 2, 5, 4, 2])\n",
    "----> 2 s.loc[2:5]\n",
    "\n",
    "--- removed part of error----\n",
    "KeyError: 'Cannot get left slice bound for non-unique label: 2'\n"
   ]
  },
  {
   "cell_type": "code",
   "execution_count": 123,
   "id": "6ed0be2f",
   "metadata": {
    "execution": {
     "iopub.execute_input": "2022-09-28T11:47:55.875129Z",
     "iopub.status.busy": "2022-09-28T11:47:55.874184Z",
     "iopub.status.idle": "2022-09-28T11:47:55.882185Z",
     "shell.execute_reply": "2022-09-28T11:47:55.881196Z"
    },
    "papermill": {
     "duration": 0.074078,
     "end_time": "2022-09-28T11:47:55.884203",
     "exception": false,
     "start_time": "2022-09-28T11:47:55.810125",
     "status": "completed"
    },
    "tags": []
   },
   "outputs": [
    {
     "data": {
      "text/plain": [
       "3    b\n",
       "2    c\n",
       "5    d\n",
       "dtype: object"
      ]
     },
     "execution_count": 123,
     "metadata": {},
     "output_type": "execute_result"
    }
   ],
   "source": [
    "s.loc[3:5]"
   ]
  },
  {
   "cell_type": "markdown",
   "id": "8154c46a",
   "metadata": {
    "papermill": {
     "duration": 0.064274,
     "end_time": "2022-09-28T11:47:56.013484",
     "exception": false,
     "start_time": "2022-09-28T11:47:55.949210",
     "status": "completed"
    },
    "tags": []
   },
   "source": [
    "## Indexing and selecting data In DataFrame | Selection by position:\n",
    "\n",
    "> ## ⚠️Warning \n",
    "Whether a copy or a reference is returned for a setting operation, may depend on the context. This is sometimes called chained assignment and should be avoided. See Returning a View versus Copy."
   ]
  },
  {
   "cell_type": "markdown",
   "id": "5ccc31d1",
   "metadata": {
    "papermill": {
     "duration": 0.062691,
     "end_time": "2022-09-28T11:47:56.140268",
     "exception": false,
     "start_time": "2022-09-28T11:47:56.077577",
     "status": "completed"
    },
    "tags": []
   },
   "source": [
    "pandas provides a suite of methods in order to get **purely integer based indexing.** The semantics follow closely Python and NumPy slicing. These are **0-based** indexing. When slicing, the start bound is included, while the upper bound is excluded. Trying to use a non-integer, even a valid label will raise an **IndexError.**\n",
    "\n",
    "The **.iloc** attribute is the primary access method. The following are valid inputs:\n",
    "\n",
    "- An integer e.g. 5.\n",
    "- A list or array of integers [4, 3, 0].\n",
    "- A slice object with ints 1:7.\n",
    "- A boolean array.\n",
    "- A callable, see Selection By Callable."
   ]
  },
  {
   "cell_type": "code",
   "execution_count": 124,
   "id": "305445e6",
   "metadata": {
    "execution": {
     "iopub.execute_input": "2022-09-28T11:47:56.273285Z",
     "iopub.status.busy": "2022-09-28T11:47:56.272924Z",
     "iopub.status.idle": "2022-09-28T11:47:56.285565Z",
     "shell.execute_reply": "2022-09-28T11:47:56.284672Z"
    },
    "papermill": {
     "duration": 0.080899,
     "end_time": "2022-09-28T11:47:56.287521",
     "exception": false,
     "start_time": "2022-09-28T11:47:56.206622",
     "status": "completed"
    },
    "tags": []
   },
   "outputs": [
    {
     "data": {
      "text/html": [
       "<div>\n",
       "<style scoped>\n",
       "    .dataframe tbody tr th:only-of-type {\n",
       "        vertical-align: middle;\n",
       "    }\n",
       "\n",
       "    .dataframe tbody tr th {\n",
       "        vertical-align: top;\n",
       "    }\n",
       "\n",
       "    .dataframe thead th {\n",
       "        text-align: right;\n",
       "    }\n",
       "</style>\n",
       "<table border=\"1\" class=\"dataframe\">\n",
       "  <thead>\n",
       "    <tr style=\"text-align: right;\">\n",
       "      <th></th>\n",
       "      <th>0</th>\n",
       "      <th>2</th>\n",
       "      <th>4</th>\n",
       "      <th>6</th>\n",
       "    </tr>\n",
       "  </thead>\n",
       "  <tbody>\n",
       "    <tr>\n",
       "      <th>0</th>\n",
       "      <td>0.097882</td>\n",
       "      <td>-0.374985</td>\n",
       "      <td>-0.634986</td>\n",
       "      <td>-0.583612</td>\n",
       "    </tr>\n",
       "    <tr>\n",
       "      <th>2</th>\n",
       "      <td>-0.183035</td>\n",
       "      <td>-1.627903</td>\n",
       "      <td>-0.174275</td>\n",
       "      <td>0.068093</td>\n",
       "    </tr>\n",
       "    <tr>\n",
       "      <th>4</th>\n",
       "      <td>-0.102026</td>\n",
       "      <td>0.337747</td>\n",
       "      <td>-0.130736</td>\n",
       "      <td>1.056758</td>\n",
       "    </tr>\n",
       "    <tr>\n",
       "      <th>6</th>\n",
       "      <td>-2.595644</td>\n",
       "      <td>0.663962</td>\n",
       "      <td>0.961297</td>\n",
       "      <td>-0.725882</td>\n",
       "    </tr>\n",
       "    <tr>\n",
       "      <th>8</th>\n",
       "      <td>-0.045554</td>\n",
       "      <td>-0.709343</td>\n",
       "      <td>2.138971</td>\n",
       "      <td>-0.269217</td>\n",
       "    </tr>\n",
       "    <tr>\n",
       "      <th>10</th>\n",
       "      <td>0.444336</td>\n",
       "      <td>0.037337</td>\n",
       "      <td>0.805231</td>\n",
       "      <td>0.656160</td>\n",
       "    </tr>\n",
       "  </tbody>\n",
       "</table>\n",
       "</div>"
      ],
      "text/plain": [
       "           0         2         4         6\n",
       "0   0.097882 -0.374985 -0.634986 -0.583612\n",
       "2  -0.183035 -1.627903 -0.174275  0.068093\n",
       "4  -0.102026  0.337747 -0.130736  1.056758\n",
       "6  -2.595644  0.663962  0.961297 -0.725882\n",
       "8  -0.045554 -0.709343  2.138971 -0.269217\n",
       "10  0.444336  0.037337  0.805231  0.656160"
      ]
     },
     "execution_count": 124,
     "metadata": {},
     "output_type": "execute_result"
    }
   ],
   "source": [
    "df1 = pd.DataFrame(np.random.randn(6, 4),\n",
    "                   index=list(range(0, 12, 2)),\n",
    "                   columns=list(range(0, 8, 2)))\n",
    "df1"
   ]
  },
  {
   "cell_type": "code",
   "execution_count": 125,
   "id": "a0e8fe2e",
   "metadata": {
    "execution": {
     "iopub.execute_input": "2022-09-28T11:47:56.418748Z",
     "iopub.status.busy": "2022-09-28T11:47:56.417675Z",
     "iopub.status.idle": "2022-09-28T11:47:56.428736Z",
     "shell.execute_reply": "2022-09-28T11:47:56.427526Z"
    },
    "papermill": {
     "duration": 0.07904,
     "end_time": "2022-09-28T11:47:56.431025",
     "exception": false,
     "start_time": "2022-09-28T11:47:56.351985",
     "status": "completed"
    },
    "tags": []
   },
   "outputs": [
    {
     "data": {
      "text/html": [
       "<div>\n",
       "<style scoped>\n",
       "    .dataframe tbody tr th:only-of-type {\n",
       "        vertical-align: middle;\n",
       "    }\n",
       "\n",
       "    .dataframe tbody tr th {\n",
       "        vertical-align: top;\n",
       "    }\n",
       "\n",
       "    .dataframe thead th {\n",
       "        text-align: right;\n",
       "    }\n",
       "</style>\n",
       "<table border=\"1\" class=\"dataframe\">\n",
       "  <thead>\n",
       "    <tr style=\"text-align: right;\">\n",
       "      <th></th>\n",
       "      <th>0</th>\n",
       "      <th>2</th>\n",
       "      <th>4</th>\n",
       "      <th>6</th>\n",
       "    </tr>\n",
       "  </thead>\n",
       "  <tbody>\n",
       "    <tr>\n",
       "      <th>0</th>\n",
       "      <td>0.097882</td>\n",
       "      <td>-0.374985</td>\n",
       "      <td>-0.634986</td>\n",
       "      <td>-0.583612</td>\n",
       "    </tr>\n",
       "    <tr>\n",
       "      <th>2</th>\n",
       "      <td>-0.183035</td>\n",
       "      <td>-1.627903</td>\n",
       "      <td>-0.174275</td>\n",
       "      <td>0.068093</td>\n",
       "    </tr>\n",
       "    <tr>\n",
       "      <th>4</th>\n",
       "      <td>-0.102026</td>\n",
       "      <td>0.337747</td>\n",
       "      <td>-0.130736</td>\n",
       "      <td>1.056758</td>\n",
       "    </tr>\n",
       "  </tbody>\n",
       "</table>\n",
       "</div>"
      ],
      "text/plain": [
       "          0         2         4         6\n",
       "0  0.097882 -0.374985 -0.634986 -0.583612\n",
       "2 -0.183035 -1.627903 -0.174275  0.068093\n",
       "4 -0.102026  0.337747 -0.130736  1.056758"
      ]
     },
     "execution_count": 125,
     "metadata": {},
     "output_type": "execute_result"
    }
   ],
   "source": [
    "df1.iloc[:3]  # position rows 0,1,2,"
   ]
  },
  {
   "cell_type": "code",
   "execution_count": 126,
   "id": "4b1b4770",
   "metadata": {
    "execution": {
     "iopub.execute_input": "2022-09-28T11:47:56.562480Z",
     "iopub.status.busy": "2022-09-28T11:47:56.561391Z",
     "iopub.status.idle": "2022-09-28T11:47:56.572887Z",
     "shell.execute_reply": "2022-09-28T11:47:56.571923Z"
    },
    "papermill": {
     "duration": 0.078383,
     "end_time": "2022-09-28T11:47:56.574895",
     "exception": false,
     "start_time": "2022-09-28T11:47:56.496512",
     "status": "completed"
    },
    "tags": []
   },
   "outputs": [
    {
     "data": {
      "text/html": [
       "<div>\n",
       "<style scoped>\n",
       "    .dataframe tbody tr th:only-of-type {\n",
       "        vertical-align: middle;\n",
       "    }\n",
       "\n",
       "    .dataframe tbody tr th {\n",
       "        vertical-align: top;\n",
       "    }\n",
       "\n",
       "    .dataframe thead th {\n",
       "        text-align: right;\n",
       "    }\n",
       "</style>\n",
       "<table border=\"1\" class=\"dataframe\">\n",
       "  <thead>\n",
       "    <tr style=\"text-align: right;\">\n",
       "      <th></th>\n",
       "      <th>0</th>\n",
       "      <th>2</th>\n",
       "      <th>4</th>\n",
       "      <th>6</th>\n",
       "    </tr>\n",
       "  </thead>\n",
       "  <tbody>\n",
       "    <tr>\n",
       "      <th>2</th>\n",
       "      <td>-0.183035</td>\n",
       "      <td>-1.627903</td>\n",
       "      <td>-0.174275</td>\n",
       "      <td>0.068093</td>\n",
       "    </tr>\n",
       "    <tr>\n",
       "      <th>4</th>\n",
       "      <td>-0.102026</td>\n",
       "      <td>0.337747</td>\n",
       "      <td>-0.130736</td>\n",
       "      <td>1.056758</td>\n",
       "    </tr>\n",
       "  </tbody>\n",
       "</table>\n",
       "</div>"
      ],
      "text/plain": [
       "          0         2         4         6\n",
       "2 -0.183035 -1.627903 -0.174275  0.068093\n",
       "4 -0.102026  0.337747 -0.130736  1.056758"
      ]
     },
     "execution_count": 126,
     "metadata": {},
     "output_type": "execute_result"
    }
   ],
   "source": [
    "df1.iloc[1:3]"
   ]
  },
  {
   "cell_type": "code",
   "execution_count": 127,
   "id": "4c4ed474",
   "metadata": {
    "execution": {
     "iopub.execute_input": "2022-09-28T11:47:56.704698Z",
     "iopub.status.busy": "2022-09-28T11:47:56.704327Z",
     "iopub.status.idle": "2022-09-28T11:47:56.713973Z",
     "shell.execute_reply": "2022-09-28T11:47:56.713031Z"
    },
    "papermill": {
     "duration": 0.077155,
     "end_time": "2022-09-28T11:47:56.716025",
     "exception": false,
     "start_time": "2022-09-28T11:47:56.638870",
     "status": "completed"
    },
    "tags": []
   },
   "outputs": [
    {
     "data": {
      "text/html": [
       "<div>\n",
       "<style scoped>\n",
       "    .dataframe tbody tr th:only-of-type {\n",
       "        vertical-align: middle;\n",
       "    }\n",
       "\n",
       "    .dataframe tbody tr th {\n",
       "        vertical-align: top;\n",
       "    }\n",
       "\n",
       "    .dataframe thead th {\n",
       "        text-align: right;\n",
       "    }\n",
       "</style>\n",
       "<table border=\"1\" class=\"dataframe\">\n",
       "  <thead>\n",
       "    <tr style=\"text-align: right;\">\n",
       "      <th></th>\n",
       "      <th>0</th>\n",
       "      <th>2</th>\n",
       "    </tr>\n",
       "  </thead>\n",
       "  <tbody>\n",
       "    <tr>\n",
       "      <th>2</th>\n",
       "      <td>-0.183035</td>\n",
       "      <td>-1.627903</td>\n",
       "    </tr>\n",
       "    <tr>\n",
       "      <th>4</th>\n",
       "      <td>-0.102026</td>\n",
       "      <td>0.337747</td>\n",
       "    </tr>\n",
       "    <tr>\n",
       "      <th>6</th>\n",
       "      <td>-2.595644</td>\n",
       "      <td>0.663962</td>\n",
       "    </tr>\n",
       "    <tr>\n",
       "      <th>8</th>\n",
       "      <td>-0.045554</td>\n",
       "      <td>-0.709343</td>\n",
       "    </tr>\n",
       "    <tr>\n",
       "      <th>10</th>\n",
       "      <td>0.444336</td>\n",
       "      <td>0.037337</td>\n",
       "    </tr>\n",
       "  </tbody>\n",
       "</table>\n",
       "</div>"
      ],
      "text/plain": [
       "           0         2\n",
       "2  -0.183035 -1.627903\n",
       "4  -0.102026  0.337747\n",
       "6  -2.595644  0.663962\n",
       "8  -0.045554 -0.709343\n",
       "10  0.444336  0.037337"
      ]
     },
     "execution_count": 127,
     "metadata": {},
     "output_type": "execute_result"
    }
   ],
   "source": [
    "df1.iloc[1:6,0:2]  #position for columns 0:2"
   ]
  },
  {
   "cell_type": "code",
   "execution_count": 128,
   "id": "bc67c744",
   "metadata": {
    "execution": {
     "iopub.execute_input": "2022-09-28T11:47:56.849574Z",
     "iopub.status.busy": "2022-09-28T11:47:56.848693Z",
     "iopub.status.idle": "2022-09-28T11:47:56.859407Z",
     "shell.execute_reply": "2022-09-28T11:47:56.858507Z"
    },
    "papermill": {
     "duration": 0.079516,
     "end_time": "2022-09-28T11:47:56.861516",
     "exception": false,
     "start_time": "2022-09-28T11:47:56.782000",
     "status": "completed"
    },
    "tags": []
   },
   "outputs": [
    {
     "data": {
      "text/html": [
       "<div>\n",
       "<style scoped>\n",
       "    .dataframe tbody tr th:only-of-type {\n",
       "        vertical-align: middle;\n",
       "    }\n",
       "\n",
       "    .dataframe tbody tr th {\n",
       "        vertical-align: top;\n",
       "    }\n",
       "\n",
       "    .dataframe thead th {\n",
       "        text-align: right;\n",
       "    }\n",
       "</style>\n",
       "<table border=\"1\" class=\"dataframe\">\n",
       "  <thead>\n",
       "    <tr style=\"text-align: right;\">\n",
       "      <th></th>\n",
       "      <th>2</th>\n",
       "      <th>6</th>\n",
       "    </tr>\n",
       "  </thead>\n",
       "  <tbody>\n",
       "    <tr>\n",
       "      <th>2</th>\n",
       "      <td>-1.627903</td>\n",
       "      <td>0.068093</td>\n",
       "    </tr>\n",
       "    <tr>\n",
       "      <th>6</th>\n",
       "      <td>0.663962</td>\n",
       "      <td>-0.725882</td>\n",
       "    </tr>\n",
       "    <tr>\n",
       "      <th>10</th>\n",
       "      <td>0.037337</td>\n",
       "      <td>0.656160</td>\n",
       "    </tr>\n",
       "  </tbody>\n",
       "</table>\n",
       "</div>"
      ],
      "text/plain": [
       "           2         6\n",
       "2  -1.627903  0.068093\n",
       "6   0.663962 -0.725882\n",
       "10  0.037337  0.656160"
      ]
     },
     "execution_count": 128,
     "metadata": {},
     "output_type": "execute_result"
    }
   ],
   "source": [
    "df1.iloc[[1, 3, 5], [1, 3]]  #rows(1,3,5) and columns(1,3)"
   ]
  },
  {
   "cell_type": "code",
   "execution_count": 129,
   "id": "cb013179",
   "metadata": {
    "execution": {
     "iopub.execute_input": "2022-09-28T11:47:56.997071Z",
     "iopub.status.busy": "2022-09-28T11:47:56.996148Z",
     "iopub.status.idle": "2022-09-28T11:47:57.007524Z",
     "shell.execute_reply": "2022-09-28T11:47:57.006528Z"
    },
    "papermill": {
     "duration": 0.081017,
     "end_time": "2022-09-28T11:47:57.009650",
     "exception": false,
     "start_time": "2022-09-28T11:47:56.928633",
     "status": "completed"
    },
    "tags": []
   },
   "outputs": [
    {
     "data": {
      "text/html": [
       "<div>\n",
       "<style scoped>\n",
       "    .dataframe tbody tr th:only-of-type {\n",
       "        vertical-align: middle;\n",
       "    }\n",
       "\n",
       "    .dataframe tbody tr th {\n",
       "        vertical-align: top;\n",
       "    }\n",
       "\n",
       "    .dataframe thead th {\n",
       "        text-align: right;\n",
       "    }\n",
       "</style>\n",
       "<table border=\"1\" class=\"dataframe\">\n",
       "  <thead>\n",
       "    <tr style=\"text-align: right;\">\n",
       "      <th></th>\n",
       "      <th>0</th>\n",
       "      <th>2</th>\n",
       "      <th>4</th>\n",
       "      <th>6</th>\n",
       "    </tr>\n",
       "  </thead>\n",
       "  <tbody>\n",
       "    <tr>\n",
       "      <th>2</th>\n",
       "      <td>-0.183035</td>\n",
       "      <td>-1.627903</td>\n",
       "      <td>-0.174275</td>\n",
       "      <td>0.068093</td>\n",
       "    </tr>\n",
       "    <tr>\n",
       "      <th>4</th>\n",
       "      <td>-0.102026</td>\n",
       "      <td>0.337747</td>\n",
       "      <td>-0.130736</td>\n",
       "      <td>1.056758</td>\n",
       "    </tr>\n",
       "  </tbody>\n",
       "</table>\n",
       "</div>"
      ],
      "text/plain": [
       "          0         2         4         6\n",
       "2 -0.183035 -1.627903 -0.174275  0.068093\n",
       "4 -0.102026  0.337747 -0.130736  1.056758"
      ]
     },
     "execution_count": 129,
     "metadata": {},
     "output_type": "execute_result"
    }
   ],
   "source": [
    "df1.iloc[1:3, :]"
   ]
  },
  {
   "cell_type": "code",
   "execution_count": 130,
   "id": "4d495e9b",
   "metadata": {
    "execution": {
     "iopub.execute_input": "2022-09-28T11:47:57.142879Z",
     "iopub.status.busy": "2022-09-28T11:47:57.141839Z",
     "iopub.status.idle": "2022-09-28T11:47:57.148930Z",
     "shell.execute_reply": "2022-09-28T11:47:57.147934Z"
    },
    "papermill": {
     "duration": 0.077094,
     "end_time": "2022-09-28T11:47:57.151128",
     "exception": false,
     "start_time": "2022-09-28T11:47:57.074034",
     "status": "completed"
    },
    "tags": []
   },
   "outputs": [
    {
     "data": {
      "text/plain": [
       "-1.6279031505402977"
      ]
     },
     "execution_count": 130,
     "metadata": {},
     "output_type": "execute_result"
    }
   ],
   "source": [
    "# this is also equivalent to ``df1.iat[1,1]``\n",
    "df1.iloc[1, 1]"
   ]
  },
  {
   "cell_type": "code",
   "execution_count": 131,
   "id": "34394740",
   "metadata": {
    "execution": {
     "iopub.execute_input": "2022-09-28T11:47:57.396320Z",
     "iopub.status.busy": "2022-09-28T11:47:57.395885Z",
     "iopub.status.idle": "2022-09-28T11:47:57.404125Z",
     "shell.execute_reply": "2022-09-28T11:47:57.403266Z"
    },
    "papermill": {
     "duration": 0.130186,
     "end_time": "2022-09-28T11:47:57.410090",
     "exception": false,
     "start_time": "2022-09-28T11:47:57.279904",
     "status": "completed"
    },
    "tags": []
   },
   "outputs": [
    {
     "data": {
      "text/plain": [
       "0   -0.183035\n",
       "2   -1.627903\n",
       "4   -0.174275\n",
       "6    0.068093\n",
       "Name: 2, dtype: float64"
      ]
     },
     "execution_count": 131,
     "metadata": {},
     "output_type": "execute_result"
    }
   ],
   "source": [
    "df1.iloc[1]  #rows at 1 value "
   ]
  },
  {
   "cell_type": "markdown",
   "id": "84e6f458",
   "metadata": {
    "papermill": {
     "duration": 0.110594,
     "end_time": "2022-09-28T11:47:57.626837",
     "exception": false,
     "start_time": "2022-09-28T11:47:57.516243",
     "status": "completed"
    },
    "tags": []
   },
   "source": [
    "> ## ✍️ Note:\n",
    "> #### Out of range slice indexes are handled gracefully just as in Python/NumPy."
   ]
  },
  {
   "cell_type": "code",
   "execution_count": 132,
   "id": "f0c80ed8",
   "metadata": {
    "execution": {
     "iopub.execute_input": "2022-09-28T11:47:57.829132Z",
     "iopub.status.busy": "2022-09-28T11:47:57.828782Z",
     "iopub.status.idle": "2022-09-28T11:47:57.834758Z",
     "shell.execute_reply": "2022-09-28T11:47:57.833870Z"
    },
    "papermill": {
     "duration": 0.108928,
     "end_time": "2022-09-28T11:47:57.836699",
     "exception": false,
     "start_time": "2022-09-28T11:47:57.727771",
     "status": "completed"
    },
    "tags": []
   },
   "outputs": [
    {
     "data": {
      "text/plain": [
       "['e', 'f']"
      ]
     },
     "execution_count": 132,
     "metadata": {},
     "output_type": "execute_result"
    }
   ],
   "source": [
    "x = list('abcdef')\n",
    "x[4:10]"
   ]
  },
  {
   "cell_type": "code",
   "execution_count": 133,
   "id": "b0ecc627",
   "metadata": {
    "execution": {
     "iopub.execute_input": "2022-09-28T11:47:57.969497Z",
     "iopub.status.busy": "2022-09-28T11:47:57.968480Z",
     "iopub.status.idle": "2022-09-28T11:47:57.976423Z",
     "shell.execute_reply": "2022-09-28T11:47:57.975452Z"
    },
    "papermill": {
     "duration": 0.076779,
     "end_time": "2022-09-28T11:47:57.978451",
     "exception": false,
     "start_time": "2022-09-28T11:47:57.901672",
     "status": "completed"
    },
    "tags": []
   },
   "outputs": [
    {
     "data": {
      "text/plain": [
       "0    a\n",
       "1    b\n",
       "2    c\n",
       "3    d\n",
       "4    e\n",
       "5    f\n",
       "dtype: object"
      ]
     },
     "execution_count": 133,
     "metadata": {},
     "output_type": "execute_result"
    }
   ],
   "source": [
    "s = pd.Series(x)\n",
    "s"
   ]
  },
  {
   "cell_type": "code",
   "execution_count": 134,
   "id": "4fd6b1dd",
   "metadata": {
    "execution": {
     "iopub.execute_input": "2022-09-28T11:47:58.110071Z",
     "iopub.status.busy": "2022-09-28T11:47:58.109123Z",
     "iopub.status.idle": "2022-09-28T11:47:58.116937Z",
     "shell.execute_reply": "2022-09-28T11:47:58.115963Z"
    },
    "papermill": {
     "duration": 0.0756,
     "end_time": "2022-09-28T11:47:58.118900",
     "exception": false,
     "start_time": "2022-09-28T11:47:58.043300",
     "status": "completed"
    },
    "tags": []
   },
   "outputs": [
    {
     "data": {
      "text/plain": [
       "4    e\n",
       "5    f\n",
       "dtype: object"
      ]
     },
     "execution_count": 134,
     "metadata": {},
     "output_type": "execute_result"
    }
   ],
   "source": [
    "s.iloc[4:10]   #Out bound will be handled easily"
   ]
  },
  {
   "cell_type": "code",
   "execution_count": 135,
   "id": "1fc30a92",
   "metadata": {
    "execution": {
     "iopub.execute_input": "2022-09-28T11:47:58.251134Z",
     "iopub.status.busy": "2022-09-28T11:47:58.250786Z",
     "iopub.status.idle": "2022-09-28T11:47:58.257551Z",
     "shell.execute_reply": "2022-09-28T11:47:58.256641Z"
    },
    "papermill": {
     "duration": 0.075257,
     "end_time": "2022-09-28T11:47:58.259559",
     "exception": false,
     "start_time": "2022-09-28T11:47:58.184302",
     "status": "completed"
    },
    "tags": []
   },
   "outputs": [
    {
     "data": {
      "text/plain": [
       "Series([], dtype: object)"
      ]
     },
     "execution_count": 135,
     "metadata": {},
     "output_type": "execute_result"
    }
   ],
   "source": [
    "s.iloc[8:10] #there is no value in that position that's why empty "
   ]
  },
  {
   "cell_type": "markdown",
   "id": "eaa70bc4",
   "metadata": {
    "papermill": {
     "duration": 0.064208,
     "end_time": "2022-09-28T11:47:58.430852",
     "exception": false,
     "start_time": "2022-09-28T11:47:58.366644",
     "status": "completed"
    },
    "tags": []
   },
   "source": [
    "> ## ✍️ Note:\n",
    "> #### Note that using slices that go out of bounds can result in an empty axis (e.g. an empty DataFrame being returned)."
   ]
  },
  {
   "cell_type": "code",
   "execution_count": 136,
   "id": "3c6266b1",
   "metadata": {
    "execution": {
     "iopub.execute_input": "2022-09-28T11:47:58.562691Z",
     "iopub.status.busy": "2022-09-28T11:47:58.562318Z",
     "iopub.status.idle": "2022-09-28T11:47:58.572533Z",
     "shell.execute_reply": "2022-09-28T11:47:58.571546Z"
    },
    "papermill": {
     "duration": 0.079091,
     "end_time": "2022-09-28T11:47:58.574716",
     "exception": false,
     "start_time": "2022-09-28T11:47:58.495625",
     "status": "completed"
    },
    "tags": []
   },
   "outputs": [
    {
     "data": {
      "text/html": [
       "<div>\n",
       "<style scoped>\n",
       "    .dataframe tbody tr th:only-of-type {\n",
       "        vertical-align: middle;\n",
       "    }\n",
       "\n",
       "    .dataframe tbody tr th {\n",
       "        vertical-align: top;\n",
       "    }\n",
       "\n",
       "    .dataframe thead th {\n",
       "        text-align: right;\n",
       "    }\n",
       "</style>\n",
       "<table border=\"1\" class=\"dataframe\">\n",
       "  <thead>\n",
       "    <tr style=\"text-align: right;\">\n",
       "      <th></th>\n",
       "      <th>A</th>\n",
       "      <th>B</th>\n",
       "    </tr>\n",
       "  </thead>\n",
       "  <tbody>\n",
       "    <tr>\n",
       "      <th>0</th>\n",
       "      <td>0.121869</td>\n",
       "      <td>-0.629779</td>\n",
       "    </tr>\n",
       "    <tr>\n",
       "      <th>1</th>\n",
       "      <td>-0.552334</td>\n",
       "      <td>0.987627</td>\n",
       "    </tr>\n",
       "    <tr>\n",
       "      <th>2</th>\n",
       "      <td>-0.342717</td>\n",
       "      <td>-0.101323</td>\n",
       "    </tr>\n",
       "    <tr>\n",
       "      <th>3</th>\n",
       "      <td>-1.095117</td>\n",
       "      <td>0.076611</td>\n",
       "    </tr>\n",
       "    <tr>\n",
       "      <th>4</th>\n",
       "      <td>-1.700307</td>\n",
       "      <td>0.613752</td>\n",
       "    </tr>\n",
       "  </tbody>\n",
       "</table>\n",
       "</div>"
      ],
      "text/plain": [
       "          A         B\n",
       "0  0.121869 -0.629779\n",
       "1 -0.552334  0.987627\n",
       "2 -0.342717 -0.101323\n",
       "3 -1.095117  0.076611\n",
       "4 -1.700307  0.613752"
      ]
     },
     "execution_count": 136,
     "metadata": {},
     "output_type": "execute_result"
    }
   ],
   "source": [
    "dfl = pd.DataFrame(np.random.randn(5, 2), columns=list('AB'))\n",
    "dfl"
   ]
  },
  {
   "cell_type": "code",
   "execution_count": 137,
   "id": "90437144",
   "metadata": {
    "execution": {
     "iopub.execute_input": "2022-09-28T11:47:58.707165Z",
     "iopub.status.busy": "2022-09-28T11:47:58.706814Z",
     "iopub.status.idle": "2022-09-28T11:47:58.716932Z",
     "shell.execute_reply": "2022-09-28T11:47:58.715416Z"
    },
    "papermill": {
     "duration": 0.078182,
     "end_time": "2022-09-28T11:47:58.719073",
     "exception": false,
     "start_time": "2022-09-28T11:47:58.640891",
     "status": "completed"
    },
    "tags": []
   },
   "outputs": [
    {
     "name": "stdout",
     "output_type": "stream",
     "text": [
      "Empty DataFrame\n",
      "Columns: []\n",
      "Index: [0, 1, 2, 3, 4]\n"
     ]
    },
    {
     "data": {
      "text/html": [
       "<div>\n",
       "<style scoped>\n",
       "    .dataframe tbody tr th:only-of-type {\n",
       "        vertical-align: middle;\n",
       "    }\n",
       "\n",
       "    .dataframe tbody tr th {\n",
       "        vertical-align: top;\n",
       "    }\n",
       "\n",
       "    .dataframe thead th {\n",
       "        text-align: right;\n",
       "    }\n",
       "</style>\n",
       "<table border=\"1\" class=\"dataframe\">\n",
       "  <thead>\n",
       "    <tr style=\"text-align: right;\">\n",
       "      <th></th>\n",
       "    </tr>\n",
       "  </thead>\n",
       "  <tbody>\n",
       "    <tr>\n",
       "      <th>0</th>\n",
       "    </tr>\n",
       "    <tr>\n",
       "      <th>1</th>\n",
       "    </tr>\n",
       "    <tr>\n",
       "      <th>2</th>\n",
       "    </tr>\n",
       "    <tr>\n",
       "      <th>3</th>\n",
       "    </tr>\n",
       "    <tr>\n",
       "      <th>4</th>\n",
       "    </tr>\n",
       "  </tbody>\n",
       "</table>\n",
       "</div>"
      ],
      "text/plain": [
       "Empty DataFrame\n",
       "Columns: []\n",
       "Index: [0, 1, 2, 3, 4]"
      ]
     },
     "execution_count": 137,
     "metadata": {},
     "output_type": "execute_result"
    }
   ],
   "source": [
    "print(dfl.iloc[:, 2:3]) #no columns at position 2,3\n",
    "dfl.iloc[:, 2:3]"
   ]
  },
  {
   "cell_type": "code",
   "execution_count": 138,
   "id": "28ea83f7",
   "metadata": {
    "execution": {
     "iopub.execute_input": "2022-09-28T11:47:58.851368Z",
     "iopub.status.busy": "2022-09-28T11:47:58.851008Z",
     "iopub.status.idle": "2022-09-28T11:47:58.859850Z",
     "shell.execute_reply": "2022-09-28T11:47:58.858922Z"
    },
    "papermill": {
     "duration": 0.078383,
     "end_time": "2022-09-28T11:47:58.862136",
     "exception": false,
     "start_time": "2022-09-28T11:47:58.783753",
     "status": "completed"
    },
    "tags": []
   },
   "outputs": [
    {
     "data": {
      "text/html": [
       "<div>\n",
       "<style scoped>\n",
       "    .dataframe tbody tr th:only-of-type {\n",
       "        vertical-align: middle;\n",
       "    }\n",
       "\n",
       "    .dataframe tbody tr th {\n",
       "        vertical-align: top;\n",
       "    }\n",
       "\n",
       "    .dataframe thead th {\n",
       "        text-align: right;\n",
       "    }\n",
       "</style>\n",
       "<table border=\"1\" class=\"dataframe\">\n",
       "  <thead>\n",
       "    <tr style=\"text-align: right;\">\n",
       "      <th></th>\n",
       "      <th>B</th>\n",
       "    </tr>\n",
       "  </thead>\n",
       "  <tbody>\n",
       "    <tr>\n",
       "      <th>0</th>\n",
       "      <td>-0.629779</td>\n",
       "    </tr>\n",
       "    <tr>\n",
       "      <th>1</th>\n",
       "      <td>0.987627</td>\n",
       "    </tr>\n",
       "    <tr>\n",
       "      <th>2</th>\n",
       "      <td>-0.101323</td>\n",
       "    </tr>\n",
       "    <tr>\n",
       "      <th>3</th>\n",
       "      <td>0.076611</td>\n",
       "    </tr>\n",
       "    <tr>\n",
       "      <th>4</th>\n",
       "      <td>0.613752</td>\n",
       "    </tr>\n",
       "  </tbody>\n",
       "</table>\n",
       "</div>"
      ],
      "text/plain": [
       "          B\n",
       "0 -0.629779\n",
       "1  0.987627\n",
       "2 -0.101323\n",
       "3  0.076611\n",
       "4  0.613752"
      ]
     },
     "execution_count": 138,
     "metadata": {},
     "output_type": "execute_result"
    }
   ],
   "source": [
    "dfl.iloc[:, 1:3] #column present at position 1 but not position 3"
   ]
  },
  {
   "cell_type": "code",
   "execution_count": 139,
   "id": "a190be58",
   "metadata": {
    "execution": {
     "iopub.execute_input": "2022-09-28T11:47:58.997129Z",
     "iopub.status.busy": "2022-09-28T11:47:58.996203Z",
     "iopub.status.idle": "2022-09-28T11:47:59.005712Z",
     "shell.execute_reply": "2022-09-28T11:47:59.004762Z"
    },
    "papermill": {
     "duration": 0.077292,
     "end_time": "2022-09-28T11:47:59.007704",
     "exception": false,
     "start_time": "2022-09-28T11:47:58.930412",
     "status": "completed"
    },
    "tags": []
   },
   "outputs": [
    {
     "data": {
      "text/html": [
       "<div>\n",
       "<style scoped>\n",
       "    .dataframe tbody tr th:only-of-type {\n",
       "        vertical-align: middle;\n",
       "    }\n",
       "\n",
       "    .dataframe tbody tr th {\n",
       "        vertical-align: top;\n",
       "    }\n",
       "\n",
       "    .dataframe thead th {\n",
       "        text-align: right;\n",
       "    }\n",
       "</style>\n",
       "<table border=\"1\" class=\"dataframe\">\n",
       "  <thead>\n",
       "    <tr style=\"text-align: right;\">\n",
       "      <th></th>\n",
       "      <th>A</th>\n",
       "      <th>B</th>\n",
       "    </tr>\n",
       "  </thead>\n",
       "  <tbody>\n",
       "    <tr>\n",
       "      <th>4</th>\n",
       "      <td>-1.700307</td>\n",
       "      <td>0.613752</td>\n",
       "    </tr>\n",
       "  </tbody>\n",
       "</table>\n",
       "</div>"
      ],
      "text/plain": [
       "          A         B\n",
       "4 -1.700307  0.613752"
      ]
     },
     "execution_count": 139,
     "metadata": {},
     "output_type": "execute_result"
    }
   ],
   "source": [
    "dfl.iloc[4:6]"
   ]
  },
  {
   "cell_type": "markdown",
   "id": "f6ecbd5d",
   "metadata": {
    "papermill": {
     "duration": 0.06495,
     "end_time": "2022-09-28T11:47:59.139439",
     "exception": false,
     "start_time": "2022-09-28T11:47:59.074489",
     "status": "completed"
    },
    "tags": []
   },
   "source": [
    "> ## ✍️ Note:\n",
    "> ####  A single indexer that is out of bounds will raise an IndexError. A list of indexers where any element is out of bounds will raise an IndexError."
   ]
  },
  {
   "cell_type": "markdown",
   "id": "38134ac9",
   "metadata": {
    "papermill": {
     "duration": 0.065898,
     "end_time": "2022-09-28T11:47:59.270947",
     "exception": false,
     "start_time": "2022-09-28T11:47:59.205049",
     "status": "completed"
    },
    "tags": []
   },
   "source": [
    "``` python\n",
    "dfl.iloc[[4, 5, 6]]\n",
    "\n",
    "---------------------------------------------------------------------------\n",
    "IndexError                                Traceback (most recent call last)\n",
    "\n",
    "----extra error removed----\n",
    "IndexError: positional indexers are out-of-bounds\n",
    "```"
   ]
  },
  {
   "cell_type": "markdown",
   "id": "7f1e5911",
   "metadata": {
    "papermill": {
     "duration": 0.064882,
     "end_time": "2022-09-28T11:47:59.402383",
     "exception": false,
     "start_time": "2022-09-28T11:47:59.337501",
     "status": "completed"
    },
    "tags": []
   },
   "source": [
    "``` python \n",
    "dfl.iloc[:, 4]\n",
    "\n",
    "---------------------------------------------------------------------------\n",
    "IndexError                                Traceback (most recent call last)\n",
    "/tmp/ipykernel_18/1683638990.py in <module>\n",
    "----> 1 dfl.iloc[:, 4]\n",
    "\n",
    "----extra error removed----\n",
    "IndexError: single positional indexer is out-of-bounds\n",
    "```"
   ]
  },
  {
   "cell_type": "markdown",
   "id": "b121171f",
   "metadata": {
    "papermill": {
     "duration": 0.064443,
     "end_time": "2022-09-28T11:47:59.531421",
     "exception": false,
     "start_time": "2022-09-28T11:47:59.466978",
     "status": "completed"
    },
    "tags": []
   },
   "source": [
    "## Indexing and selecting data In DataFrame | Selection by callable:\n",
    "- .loc, .iloc, and also [] indexing can accept a **callable** as indexer. The **callable** must be a function with one argument (the calling Series or DataFrame) that returns valid output for indexing.\n"
   ]
  },
  {
   "cell_type": "code",
   "execution_count": 140,
   "id": "7800ad3d",
   "metadata": {
    "execution": {
     "iopub.execute_input": "2022-09-28T11:47:59.663991Z",
     "iopub.status.busy": "2022-09-28T11:47:59.663640Z",
     "iopub.status.idle": "2022-09-28T11:47:59.677124Z",
     "shell.execute_reply": "2022-09-28T11:47:59.676141Z"
    },
    "papermill": {
     "duration": 0.082442,
     "end_time": "2022-09-28T11:47:59.679161",
     "exception": false,
     "start_time": "2022-09-28T11:47:59.596719",
     "status": "completed"
    },
    "tags": []
   },
   "outputs": [
    {
     "data": {
      "text/html": [
       "<div>\n",
       "<style scoped>\n",
       "    .dataframe tbody tr th:only-of-type {\n",
       "        vertical-align: middle;\n",
       "    }\n",
       "\n",
       "    .dataframe tbody tr th {\n",
       "        vertical-align: top;\n",
       "    }\n",
       "\n",
       "    .dataframe thead th {\n",
       "        text-align: right;\n",
       "    }\n",
       "</style>\n",
       "<table border=\"1\" class=\"dataframe\">\n",
       "  <thead>\n",
       "    <tr style=\"text-align: right;\">\n",
       "      <th></th>\n",
       "      <th>A</th>\n",
       "      <th>B</th>\n",
       "      <th>C</th>\n",
       "      <th>D</th>\n",
       "    </tr>\n",
       "  </thead>\n",
       "  <tbody>\n",
       "    <tr>\n",
       "      <th>a</th>\n",
       "      <td>0.317529</td>\n",
       "      <td>-1.078572</td>\n",
       "      <td>0.245021</td>\n",
       "      <td>1.478214</td>\n",
       "    </tr>\n",
       "    <tr>\n",
       "      <th>b</th>\n",
       "      <td>0.900270</td>\n",
       "      <td>0.460099</td>\n",
       "      <td>-0.370730</td>\n",
       "      <td>-1.217587</td>\n",
       "    </tr>\n",
       "    <tr>\n",
       "      <th>c</th>\n",
       "      <td>-1.388364</td>\n",
       "      <td>-0.318837</td>\n",
       "      <td>-1.303429</td>\n",
       "      <td>0.099298</td>\n",
       "    </tr>\n",
       "    <tr>\n",
       "      <th>d</th>\n",
       "      <td>0.529890</td>\n",
       "      <td>-0.333076</td>\n",
       "      <td>-0.678131</td>\n",
       "      <td>0.410528</td>\n",
       "    </tr>\n",
       "    <tr>\n",
       "      <th>e</th>\n",
       "      <td>1.338281</td>\n",
       "      <td>-0.883205</td>\n",
       "      <td>-0.107458</td>\n",
       "      <td>1.488707</td>\n",
       "    </tr>\n",
       "    <tr>\n",
       "      <th>f</th>\n",
       "      <td>0.727596</td>\n",
       "      <td>1.740622</td>\n",
       "      <td>0.625826</td>\n",
       "      <td>0.025796</td>\n",
       "    </tr>\n",
       "  </tbody>\n",
       "</table>\n",
       "</div>"
      ],
      "text/plain": [
       "          A         B         C         D\n",
       "a  0.317529 -1.078572  0.245021  1.478214\n",
       "b  0.900270  0.460099 -0.370730 -1.217587\n",
       "c -1.388364 -0.318837 -1.303429  0.099298\n",
       "d  0.529890 -0.333076 -0.678131  0.410528\n",
       "e  1.338281 -0.883205 -0.107458  1.488707\n",
       "f  0.727596  1.740622  0.625826  0.025796"
      ]
     },
     "execution_count": 140,
     "metadata": {},
     "output_type": "execute_result"
    }
   ],
   "source": [
    "df1 = pd.DataFrame(np.random.randn(6, 4),\n",
    "                   index=list('abcdef'),\n",
    "                   columns=list('ABCD'))\n",
    "df1"
   ]
  },
  {
   "cell_type": "code",
   "execution_count": 141,
   "id": "b2b2a56c",
   "metadata": {
    "execution": {
     "iopub.execute_input": "2022-09-28T11:47:59.812699Z",
     "iopub.status.busy": "2022-09-28T11:47:59.811575Z",
     "iopub.status.idle": "2022-09-28T11:47:59.823502Z",
     "shell.execute_reply": "2022-09-28T11:47:59.822504Z"
    },
    "papermill": {
     "duration": 0.081464,
     "end_time": "2022-09-28T11:47:59.825651",
     "exception": false,
     "start_time": "2022-09-28T11:47:59.744187",
     "status": "completed"
    },
    "tags": []
   },
   "outputs": [
    {
     "data": {
      "text/html": [
       "<div>\n",
       "<style scoped>\n",
       "    .dataframe tbody tr th:only-of-type {\n",
       "        vertical-align: middle;\n",
       "    }\n",
       "\n",
       "    .dataframe tbody tr th {\n",
       "        vertical-align: top;\n",
       "    }\n",
       "\n",
       "    .dataframe thead th {\n",
       "        text-align: right;\n",
       "    }\n",
       "</style>\n",
       "<table border=\"1\" class=\"dataframe\">\n",
       "  <thead>\n",
       "    <tr style=\"text-align: right;\">\n",
       "      <th></th>\n",
       "      <th>A</th>\n",
       "      <th>B</th>\n",
       "      <th>C</th>\n",
       "      <th>D</th>\n",
       "    </tr>\n",
       "  </thead>\n",
       "  <tbody>\n",
       "    <tr>\n",
       "      <th>a</th>\n",
       "      <td>0.317529</td>\n",
       "      <td>-1.078572</td>\n",
       "      <td>0.245021</td>\n",
       "      <td>1.478214</td>\n",
       "    </tr>\n",
       "    <tr>\n",
       "      <th>b</th>\n",
       "      <td>0.900270</td>\n",
       "      <td>0.460099</td>\n",
       "      <td>-0.370730</td>\n",
       "      <td>-1.217587</td>\n",
       "    </tr>\n",
       "    <tr>\n",
       "      <th>d</th>\n",
       "      <td>0.529890</td>\n",
       "      <td>-0.333076</td>\n",
       "      <td>-0.678131</td>\n",
       "      <td>0.410528</td>\n",
       "    </tr>\n",
       "    <tr>\n",
       "      <th>e</th>\n",
       "      <td>1.338281</td>\n",
       "      <td>-0.883205</td>\n",
       "      <td>-0.107458</td>\n",
       "      <td>1.488707</td>\n",
       "    </tr>\n",
       "    <tr>\n",
       "      <th>f</th>\n",
       "      <td>0.727596</td>\n",
       "      <td>1.740622</td>\n",
       "      <td>0.625826</td>\n",
       "      <td>0.025796</td>\n",
       "    </tr>\n",
       "  </tbody>\n",
       "</table>\n",
       "</div>"
      ],
      "text/plain": [
       "          A         B         C         D\n",
       "a  0.317529 -1.078572  0.245021  1.478214\n",
       "b  0.900270  0.460099 -0.370730 -1.217587\n",
       "d  0.529890 -0.333076 -0.678131  0.410528\n",
       "e  1.338281 -0.883205 -0.107458  1.488707\n",
       "f  0.727596  1.740622  0.625826  0.025796"
      ]
     },
     "execution_count": 141,
     "metadata": {},
     "output_type": "execute_result"
    }
   ],
   "source": [
    "df1.loc[lambda df: df['A'] > 0, :]"
   ]
  },
  {
   "cell_type": "code",
   "execution_count": 142,
   "id": "48edef5d",
   "metadata": {
    "execution": {
     "iopub.execute_input": "2022-09-28T11:47:59.958718Z",
     "iopub.status.busy": "2022-09-28T11:47:59.958331Z",
     "iopub.status.idle": "2022-09-28T11:47:59.970270Z",
     "shell.execute_reply": "2022-09-28T11:47:59.969296Z"
    },
    "papermill": {
     "duration": 0.080215,
     "end_time": "2022-09-28T11:47:59.972305",
     "exception": false,
     "start_time": "2022-09-28T11:47:59.892090",
     "status": "completed"
    },
    "tags": []
   },
   "outputs": [
    {
     "data": {
      "text/html": [
       "<div>\n",
       "<style scoped>\n",
       "    .dataframe tbody tr th:only-of-type {\n",
       "        vertical-align: middle;\n",
       "    }\n",
       "\n",
       "    .dataframe tbody tr th {\n",
       "        vertical-align: top;\n",
       "    }\n",
       "\n",
       "    .dataframe thead th {\n",
       "        text-align: right;\n",
       "    }\n",
       "</style>\n",
       "<table border=\"1\" class=\"dataframe\">\n",
       "  <thead>\n",
       "    <tr style=\"text-align: right;\">\n",
       "      <th></th>\n",
       "      <th>A</th>\n",
       "      <th>B</th>\n",
       "    </tr>\n",
       "  </thead>\n",
       "  <tbody>\n",
       "    <tr>\n",
       "      <th>a</th>\n",
       "      <td>0.317529</td>\n",
       "      <td>-1.078572</td>\n",
       "    </tr>\n",
       "    <tr>\n",
       "      <th>b</th>\n",
       "      <td>0.900270</td>\n",
       "      <td>0.460099</td>\n",
       "    </tr>\n",
       "    <tr>\n",
       "      <th>c</th>\n",
       "      <td>-1.388364</td>\n",
       "      <td>-0.318837</td>\n",
       "    </tr>\n",
       "    <tr>\n",
       "      <th>d</th>\n",
       "      <td>0.529890</td>\n",
       "      <td>-0.333076</td>\n",
       "    </tr>\n",
       "    <tr>\n",
       "      <th>e</th>\n",
       "      <td>1.338281</td>\n",
       "      <td>-0.883205</td>\n",
       "    </tr>\n",
       "    <tr>\n",
       "      <th>f</th>\n",
       "      <td>0.727596</td>\n",
       "      <td>1.740622</td>\n",
       "    </tr>\n",
       "  </tbody>\n",
       "</table>\n",
       "</div>"
      ],
      "text/plain": [
       "          A         B\n",
       "a  0.317529 -1.078572\n",
       "b  0.900270  0.460099\n",
       "c -1.388364 -0.318837\n",
       "d  0.529890 -0.333076\n",
       "e  1.338281 -0.883205\n",
       "f  0.727596  1.740622"
      ]
     },
     "execution_count": 142,
     "metadata": {},
     "output_type": "execute_result"
    }
   ],
   "source": [
    "df1.loc[:, lambda df: ['A', 'B']]   #using loc"
   ]
  },
  {
   "cell_type": "code",
   "execution_count": 143,
   "id": "40689027",
   "metadata": {
    "execution": {
     "iopub.execute_input": "2022-09-28T11:48:00.108204Z",
     "iopub.status.busy": "2022-09-28T11:48:00.107851Z",
     "iopub.status.idle": "2022-09-28T11:48:00.118333Z",
     "shell.execute_reply": "2022-09-28T11:48:00.117445Z"
    },
    "papermill": {
     "duration": 0.079873,
     "end_time": "2022-09-28T11:48:00.120388",
     "exception": false,
     "start_time": "2022-09-28T11:48:00.040515",
     "status": "completed"
    },
    "tags": []
   },
   "outputs": [
    {
     "data": {
      "text/html": [
       "<div>\n",
       "<style scoped>\n",
       "    .dataframe tbody tr th:only-of-type {\n",
       "        vertical-align: middle;\n",
       "    }\n",
       "\n",
       "    .dataframe tbody tr th {\n",
       "        vertical-align: top;\n",
       "    }\n",
       "\n",
       "    .dataframe thead th {\n",
       "        text-align: right;\n",
       "    }\n",
       "</style>\n",
       "<table border=\"1\" class=\"dataframe\">\n",
       "  <thead>\n",
       "    <tr style=\"text-align: right;\">\n",
       "      <th></th>\n",
       "      <th>A</th>\n",
       "      <th>B</th>\n",
       "    </tr>\n",
       "  </thead>\n",
       "  <tbody>\n",
       "    <tr>\n",
       "      <th>a</th>\n",
       "      <td>0.317529</td>\n",
       "      <td>-1.078572</td>\n",
       "    </tr>\n",
       "    <tr>\n",
       "      <th>b</th>\n",
       "      <td>0.900270</td>\n",
       "      <td>0.460099</td>\n",
       "    </tr>\n",
       "    <tr>\n",
       "      <th>c</th>\n",
       "      <td>-1.388364</td>\n",
       "      <td>-0.318837</td>\n",
       "    </tr>\n",
       "    <tr>\n",
       "      <th>d</th>\n",
       "      <td>0.529890</td>\n",
       "      <td>-0.333076</td>\n",
       "    </tr>\n",
       "    <tr>\n",
       "      <th>e</th>\n",
       "      <td>1.338281</td>\n",
       "      <td>-0.883205</td>\n",
       "    </tr>\n",
       "    <tr>\n",
       "      <th>f</th>\n",
       "      <td>0.727596</td>\n",
       "      <td>1.740622</td>\n",
       "    </tr>\n",
       "  </tbody>\n",
       "</table>\n",
       "</div>"
      ],
      "text/plain": [
       "          A         B\n",
       "a  0.317529 -1.078572\n",
       "b  0.900270  0.460099\n",
       "c -1.388364 -0.318837\n",
       "d  0.529890 -0.333076\n",
       "e  1.338281 -0.883205\n",
       "f  0.727596  1.740622"
      ]
     },
     "execution_count": 143,
     "metadata": {},
     "output_type": "execute_result"
    }
   ],
   "source": [
    "df1.iloc[:, lambda df: [0, 1]]    #using iloc"
   ]
  },
  {
   "cell_type": "code",
   "execution_count": 144,
   "id": "0e4e919d",
   "metadata": {
    "execution": {
     "iopub.execute_input": "2022-09-28T11:48:00.255800Z",
     "iopub.status.busy": "2022-09-28T11:48:00.254839Z",
     "iopub.status.idle": "2022-09-28T11:48:00.263035Z",
     "shell.execute_reply": "2022-09-28T11:48:00.261972Z"
    },
    "papermill": {
     "duration": 0.077533,
     "end_time": "2022-09-28T11:48:00.265195",
     "exception": false,
     "start_time": "2022-09-28T11:48:00.187662",
     "status": "completed"
    },
    "tags": []
   },
   "outputs": [
    {
     "data": {
      "text/plain": [
       "a    0.317529\n",
       "b    0.900270\n",
       "c   -1.388364\n",
       "d    0.529890\n",
       "e    1.338281\n",
       "f    0.727596\n",
       "Name: A, dtype: float64"
      ]
     },
     "execution_count": 144,
     "metadata": {},
     "output_type": "execute_result"
    }
   ],
   "source": [
    "df1[lambda df: df.columns[0]]"
   ]
  },
  {
   "cell_type": "code",
   "execution_count": 145,
   "id": "c98bfd5f",
   "metadata": {
    "execution": {
     "iopub.execute_input": "2022-09-28T11:48:00.400675Z",
     "iopub.status.busy": "2022-09-28T11:48:00.399684Z",
     "iopub.status.idle": "2022-09-28T11:48:00.408387Z",
     "shell.execute_reply": "2022-09-28T11:48:00.407327Z"
    },
    "papermill": {
     "duration": 0.077885,
     "end_time": "2022-09-28T11:48:00.410600",
     "exception": false,
     "start_time": "2022-09-28T11:48:00.332715",
     "status": "completed"
    },
    "tags": []
   },
   "outputs": [
    {
     "data": {
      "text/plain": [
       "a    0.317529\n",
       "b    0.900270\n",
       "d    0.529890\n",
       "e    1.338281\n",
       "f    0.727596\n",
       "Name: A, dtype: float64"
      ]
     },
     "execution_count": 145,
     "metadata": {},
     "output_type": "execute_result"
    }
   ],
   "source": [
    "#You can use callable indexing in Series.\n",
    "\n",
    "df1['A'].loc[lambda s: s > 0]"
   ]
  },
  {
   "cell_type": "markdown",
   "id": "e2d798a8",
   "metadata": {
    "papermill": {
     "duration": 0.064804,
     "end_time": "2022-09-28T11:48:00.543793",
     "exception": false,
     "start_time": "2022-09-28T11:48:00.478989",
     "status": "completed"
    },
    "tags": []
   },
   "source": [
    "## Indexing and selecting data In DataFrame | Combining positional and label-based indexing\n",
    "If you wish to get the 0th and the 2nd elements from the index in the ‘A’ column, you can do:"
   ]
  },
  {
   "cell_type": "code",
   "execution_count": 146,
   "id": "923a737e",
   "metadata": {
    "execution": {
     "iopub.execute_input": "2022-09-28T11:48:00.677745Z",
     "iopub.status.busy": "2022-09-28T11:48:00.676960Z",
     "iopub.status.idle": "2022-09-28T11:48:00.686871Z",
     "shell.execute_reply": "2022-09-28T11:48:00.685922Z"
    },
    "papermill": {
     "duration": 0.079509,
     "end_time": "2022-09-28T11:48:00.689217",
     "exception": false,
     "start_time": "2022-09-28T11:48:00.609708",
     "status": "completed"
    },
    "tags": []
   },
   "outputs": [
    {
     "data": {
      "text/html": [
       "<div>\n",
       "<style scoped>\n",
       "    .dataframe tbody tr th:only-of-type {\n",
       "        vertical-align: middle;\n",
       "    }\n",
       "\n",
       "    .dataframe tbody tr th {\n",
       "        vertical-align: top;\n",
       "    }\n",
       "\n",
       "    .dataframe thead th {\n",
       "        text-align: right;\n",
       "    }\n",
       "</style>\n",
       "<table border=\"1\" class=\"dataframe\">\n",
       "  <thead>\n",
       "    <tr style=\"text-align: right;\">\n",
       "      <th></th>\n",
       "      <th>A</th>\n",
       "      <th>B</th>\n",
       "    </tr>\n",
       "  </thead>\n",
       "  <tbody>\n",
       "    <tr>\n",
       "      <th>a</th>\n",
       "      <td>1</td>\n",
       "      <td>4</td>\n",
       "    </tr>\n",
       "    <tr>\n",
       "      <th>b</th>\n",
       "      <td>2</td>\n",
       "      <td>5</td>\n",
       "    </tr>\n",
       "    <tr>\n",
       "      <th>c</th>\n",
       "      <td>3</td>\n",
       "      <td>6</td>\n",
       "    </tr>\n",
       "  </tbody>\n",
       "</table>\n",
       "</div>"
      ],
      "text/plain": [
       "   A  B\n",
       "a  1  4\n",
       "b  2  5\n",
       "c  3  6"
      ]
     },
     "execution_count": 146,
     "metadata": {},
     "output_type": "execute_result"
    }
   ],
   "source": [
    "dfd = pd.DataFrame({'A': [1, 2, 3],\n",
    "   ....:                     'B': [4, 5, 6]},\n",
    "   ....:                    index=list('abc'))\n",
    "dfd"
   ]
  },
  {
   "cell_type": "code",
   "execution_count": 147,
   "id": "8c772ecc",
   "metadata": {
    "execution": {
     "iopub.execute_input": "2022-09-28T11:48:00.825016Z",
     "iopub.status.busy": "2022-09-28T11:48:00.824087Z",
     "iopub.status.idle": "2022-09-28T11:48:00.832513Z",
     "shell.execute_reply": "2022-09-28T11:48:00.831577Z"
    },
    "papermill": {
     "duration": 0.077401,
     "end_time": "2022-09-28T11:48:00.834478",
     "exception": false,
     "start_time": "2022-09-28T11:48:00.757077",
     "status": "completed"
    },
    "tags": []
   },
   "outputs": [
    {
     "data": {
      "text/plain": [
       "a    1\n",
       "c    3\n",
       "Name: A, dtype: int64"
      ]
     },
     "execution_count": 147,
     "metadata": {},
     "output_type": "execute_result"
    }
   ],
   "source": [
    "#Getting value of column \"A\" at row or Position 0,2:\n",
    "#dfd.loc[[\"a\",\"c\"],'A']\n",
    "\n",
    "dfd.loc[dfd.index[[0,2]],'A']"
   ]
  },
  {
   "cell_type": "markdown",
   "id": "6f343436",
   "metadata": {
    "papermill": {
     "duration": 0.078068,
     "end_time": "2022-09-28T11:48:00.981530",
     "exception": false,
     "start_time": "2022-09-28T11:48:00.903462",
     "status": "completed"
    },
    "tags": []
   },
   "source": [
    "> ## ✍️ Note:\n",
    "> This can also be expressed using **.iloc**, by explicitly getting locations on the indexers, and using positional indexing to select things."
   ]
  },
  {
   "cell_type": "code",
   "execution_count": 148,
   "id": "86bcdc9f",
   "metadata": {
    "execution": {
     "iopub.execute_input": "2022-09-28T11:48:01.117512Z",
     "iopub.status.busy": "2022-09-28T11:48:01.116534Z",
     "iopub.status.idle": "2022-09-28T11:48:01.124811Z",
     "shell.execute_reply": "2022-09-28T11:48:01.123867Z"
    },
    "papermill": {
     "duration": 0.077027,
     "end_time": "2022-09-28T11:48:01.126823",
     "exception": false,
     "start_time": "2022-09-28T11:48:01.049796",
     "status": "completed"
    },
    "tags": []
   },
   "outputs": [
    {
     "data": {
      "text/plain": [
       "a    1\n",
       "c    3\n",
       "Name: A, dtype: int64"
      ]
     },
     "execution_count": 148,
     "metadata": {},
     "output_type": "execute_result"
    }
   ],
   "source": [
    "dfd.iloc[[0, 2], dfd.columns.get_loc('A')]"
   ]
  },
  {
   "cell_type": "code",
   "execution_count": 149,
   "id": "4d5dbd28",
   "metadata": {
    "execution": {
     "iopub.execute_input": "2022-09-28T11:48:01.261572Z",
     "iopub.status.busy": "2022-09-28T11:48:01.261203Z",
     "iopub.status.idle": "2022-09-28T11:48:01.270886Z",
     "shell.execute_reply": "2022-09-28T11:48:01.269999Z"
    },
    "papermill": {
     "duration": 0.080253,
     "end_time": "2022-09-28T11:48:01.272890",
     "exception": false,
     "start_time": "2022-09-28T11:48:01.192637",
     "status": "completed"
    },
    "tags": []
   },
   "outputs": [
    {
     "data": {
      "text/html": [
       "<div>\n",
       "<style scoped>\n",
       "    .dataframe tbody tr th:only-of-type {\n",
       "        vertical-align: middle;\n",
       "    }\n",
       "\n",
       "    .dataframe tbody tr th {\n",
       "        vertical-align: top;\n",
       "    }\n",
       "\n",
       "    .dataframe thead th {\n",
       "        text-align: right;\n",
       "    }\n",
       "</style>\n",
       "<table border=\"1\" class=\"dataframe\">\n",
       "  <thead>\n",
       "    <tr style=\"text-align: right;\">\n",
       "      <th></th>\n",
       "      <th>A</th>\n",
       "      <th>B</th>\n",
       "    </tr>\n",
       "  </thead>\n",
       "  <tbody>\n",
       "    <tr>\n",
       "      <th>a</th>\n",
       "      <td>1</td>\n",
       "      <td>4</td>\n",
       "    </tr>\n",
       "    <tr>\n",
       "      <th>c</th>\n",
       "      <td>3</td>\n",
       "      <td>6</td>\n",
       "    </tr>\n",
       "  </tbody>\n",
       "</table>\n",
       "</div>"
      ],
      "text/plain": [
       "   A  B\n",
       "a  1  4\n",
       "c  3  6"
      ]
     },
     "execution_count": 149,
     "metadata": {},
     "output_type": "execute_result"
    }
   ],
   "source": [
    "dfd.iloc[[0, 2], dfd.columns.get_indexer(['A', 'B'])]"
   ]
  },
  {
   "cell_type": "markdown",
   "id": "bbbdda18",
   "metadata": {
    "papermill": {
     "duration": 0.066798,
     "end_time": "2022-09-28T11:48:01.407377",
     "exception": false,
     "start_time": "2022-09-28T11:48:01.340579",
     "status": "completed"
    },
    "tags": []
   },
   "source": [
    "## Indexing and selecting data In DataFrame | Indexing with list with missing labels is deprecated:\n",
    "- In prior versions, using .loc[list-of-labels] would work as long as at least 1 of the keys was found (otherwise it would raise a KeyError). This behavior was changed and will now raise a KeyError if at least one label is missing. The recommended alternative is to use .reindex().\n",
    "\n",
    "For example."
   ]
  },
  {
   "cell_type": "code",
   "execution_count": 150,
   "id": "9bbf2203",
   "metadata": {
    "execution": {
     "iopub.execute_input": "2022-09-28T11:48:01.544094Z",
     "iopub.status.busy": "2022-09-28T11:48:01.543739Z",
     "iopub.status.idle": "2022-09-28T11:48:01.551012Z",
     "shell.execute_reply": "2022-09-28T11:48:01.550099Z"
    },
    "papermill": {
     "duration": 0.077865,
     "end_time": "2022-09-28T11:48:01.553040",
     "exception": false,
     "start_time": "2022-09-28T11:48:01.475175",
     "status": "completed"
    },
    "tags": []
   },
   "outputs": [
    {
     "data": {
      "text/plain": [
       "0    1\n",
       "1    2\n",
       "2    3\n",
       "dtype: int64"
      ]
     },
     "execution_count": 150,
     "metadata": {},
     "output_type": "execute_result"
    }
   ],
   "source": [
    "s = pd.Series([1, 2, 3])\n",
    "s"
   ]
  },
  {
   "cell_type": "code",
   "execution_count": 151,
   "id": "2bd1a1ea",
   "metadata": {
    "execution": {
     "iopub.execute_input": "2022-09-28T11:48:01.688256Z",
     "iopub.status.busy": "2022-09-28T11:48:01.687916Z",
     "iopub.status.idle": "2022-09-28T11:48:01.695286Z",
     "shell.execute_reply": "2022-09-28T11:48:01.694408Z"
    },
    "papermill": {
     "duration": 0.077507,
     "end_time": "2022-09-28T11:48:01.697190",
     "exception": false,
     "start_time": "2022-09-28T11:48:01.619683",
     "status": "completed"
    },
    "tags": []
   },
   "outputs": [
    {
     "data": {
      "text/plain": [
       "1    2\n",
       "2    3\n",
       "dtype: int64"
      ]
     },
     "execution_count": 151,
     "metadata": {},
     "output_type": "execute_result"
    }
   ],
   "source": [
    "s.loc[[1, 2]]\n"
   ]
  },
  {
   "cell_type": "markdown",
   "id": "ab2a1a92",
   "metadata": {
    "papermill": {
     "duration": 0.066664,
     "end_time": "2022-09-28T11:48:01.831797",
     "exception": false,
     "start_time": "2022-09-28T11:48:01.765133",
     "status": "completed"
    },
    "tags": []
   },
   "source": [
    "``` python \n",
    "# Previous Behavior:\n",
    "\n",
    "s.loc[[1, 2, 3]]\n",
    "Out[4]:\n",
    "1    2.0\n",
    "2    3.0\n",
    "3    NaN\n",
    "dtype: float64\n",
    "\n",
    "#Current Behavior:\n",
    "\n",
    "s.loc[[1, 2, 3]]\n",
    "---------------------------------------------------------------------------\n",
    "KeyError                                  Traceback (most recent call last)\n",
    "/tmp/ipykernel_17/3597896592.py in <module>\n",
    "----> 1 s.loc[[1, 2, 3]]\n",
    "----Other Error removed----\n",
    "\n",
    "KeyError: '[3] not in index'\n",
    "    \n",
    "```\n"
   ]
  },
  {
   "cell_type": "markdown",
   "id": "7037b63b",
   "metadata": {
    "papermill": {
     "duration": 0.067447,
     "end_time": "2022-09-28T11:48:01.968361",
     "exception": false,
     "start_time": "2022-09-28T11:48:01.900914",
     "status": "completed"
    },
    "tags": []
   },
   "source": [
    "### Indexing with list with missing labels is deprecated: | Reindexing\n",
    "- The idiomatic way to achieve selecting potentially not-found elements is via .reindex(). See also the section on reindexing."
   ]
  },
  {
   "cell_type": "code",
   "execution_count": 152,
   "id": "99cb0d9e",
   "metadata": {
    "execution": {
     "iopub.execute_input": "2022-09-28T11:48:02.103858Z",
     "iopub.status.busy": "2022-09-28T11:48:02.102895Z",
     "iopub.status.idle": "2022-09-28T11:48:02.111257Z",
     "shell.execute_reply": "2022-09-28T11:48:02.110250Z"
    },
    "papermill": {
     "duration": 0.077746,
     "end_time": "2022-09-28T11:48:02.113262",
     "exception": false,
     "start_time": "2022-09-28T11:48:02.035516",
     "status": "completed"
    },
    "tags": []
   },
   "outputs": [
    {
     "data": {
      "text/plain": [
       "1    2.0\n",
       "2    3.0\n",
       "3    NaN\n",
       "dtype: float64"
      ]
     },
     "execution_count": 152,
     "metadata": {},
     "output_type": "execute_result"
    }
   ],
   "source": [
    "s.reindex([1, 2, 3])"
   ]
  },
  {
   "cell_type": "markdown",
   "id": "af6d723f",
   "metadata": {
    "papermill": {
     "duration": 0.067943,
     "end_time": "2022-09-28T11:48:02.248425",
     "exception": false,
     "start_time": "2022-09-28T11:48:02.180482",
     "status": "completed"
    },
    "tags": []
   },
   "source": [
    "> #### Alternatively, if you want to select only valid keys, the following is idiomatic and efficient; it is guaranteed to preserve the dtype of the selection."
   ]
  },
  {
   "cell_type": "code",
   "execution_count": 153,
   "id": "4f7cd0a7",
   "metadata": {
    "execution": {
     "iopub.execute_input": "2022-09-28T11:48:02.384382Z",
     "iopub.status.busy": "2022-09-28T11:48:02.383455Z",
     "iopub.status.idle": "2022-09-28T11:48:02.393838Z",
     "shell.execute_reply": "2022-09-28T11:48:02.392853Z"
    },
    "papermill": {
     "duration": 0.081095,
     "end_time": "2022-09-28T11:48:02.395945",
     "exception": false,
     "start_time": "2022-09-28T11:48:02.314850",
     "status": "completed"
    },
    "tags": []
   },
   "outputs": [
    {
     "data": {
      "text/plain": [
       "1    2\n",
       "2    3\n",
       "dtype: int64"
      ]
     },
     "execution_count": 153,
     "metadata": {},
     "output_type": "execute_result"
    }
   ],
   "source": [
    "labels = [1, 2, 3]\n",
    "s.loc[s.index.intersection(labels)]"
   ]
  },
  {
   "cell_type": "markdown",
   "id": "df6dd214",
   "metadata": {
    "papermill": {
     "duration": 0.067554,
     "end_time": "2022-09-28T11:48:02.531516",
     "exception": false,
     "start_time": "2022-09-28T11:48:02.463962",
     "status": "completed"
    },
    "tags": []
   },
   "source": [
    "> #### Having a duplicated index will raise for a .reindex():"
   ]
  },
  {
   "cell_type": "code",
   "execution_count": 154,
   "id": "7b945547",
   "metadata": {
    "execution": {
     "iopub.execute_input": "2022-09-28T11:48:02.675961Z",
     "iopub.status.busy": "2022-09-28T11:48:02.675565Z",
     "iopub.status.idle": "2022-09-28T11:48:02.680706Z",
     "shell.execute_reply": "2022-09-28T11:48:02.679772Z"
    },
    "papermill": {
     "duration": 0.07486,
     "end_time": "2022-09-28T11:48:02.682698",
     "exception": false,
     "start_time": "2022-09-28T11:48:02.607838",
     "status": "completed"
    },
    "tags": []
   },
   "outputs": [],
   "source": [
    "s = pd.Series(np.arange(4), index=['a', 'a', 'b', 'c'])\n",
    "labels = ['c', 'd']"
   ]
  },
  {
   "cell_type": "markdown",
   "id": "436fa7b3",
   "metadata": {
    "papermill": {
     "duration": 0.066608,
     "end_time": "2022-09-28T11:48:02.816335",
     "exception": false,
     "start_time": "2022-09-28T11:48:02.749727",
     "status": "completed"
    },
    "tags": []
   },
   "source": [
    "``` python\n",
    "s.reindex(labels)\n",
    "\n",
    "---------------------------------------------------------------------------\n",
    "ValueError                                Traceback (most recent call last)\n",
    "/tmp/ipykernel_17/3168030933.py in <module>\n",
    "----> 1 s.reindex(labels)\n",
    "\n",
    "\n",
    "----extra error----\n",
    "ValueError: cannot reindex from a duplicate axis\n",
    "  \n",
    "```\n",
    "\n"
   ]
  },
  {
   "cell_type": "code",
   "execution_count": 155,
   "id": "9030110e",
   "metadata": {
    "execution": {
     "iopub.execute_input": "2022-09-28T11:48:02.952706Z",
     "iopub.status.busy": "2022-09-28T11:48:02.951701Z",
     "iopub.status.idle": "2022-09-28T11:48:02.962680Z",
     "shell.execute_reply": "2022-09-28T11:48:02.961669Z"
    },
    "papermill": {
     "duration": 0.081908,
     "end_time": "2022-09-28T11:48:02.964840",
     "exception": false,
     "start_time": "2022-09-28T11:48:02.882932",
     "status": "completed"
    },
    "tags": []
   },
   "outputs": [
    {
     "data": {
      "text/plain": [
       "c    3.0\n",
       "d    NaN\n",
       "dtype: float64"
      ]
     },
     "execution_count": 155,
     "metadata": {},
     "output_type": "execute_result"
    }
   ],
   "source": [
    "s.loc[s.index.intersection(labels)].reindex(labels)"
   ]
  },
  {
   "cell_type": "markdown",
   "id": "f2b04182",
   "metadata": {
    "papermill": {
     "duration": 0.067158,
     "end_time": "2022-09-28T11:48:03.143721",
     "exception": false,
     "start_time": "2022-09-28T11:48:03.076563",
     "status": "completed"
    },
    "tags": []
   },
   "source": [
    "> #### However, this would still raise if your resulting index is duplicated."
   ]
  },
  {
   "cell_type": "markdown",
   "id": "343158b9",
   "metadata": {
    "papermill": {
     "duration": 0.067803,
     "end_time": "2022-09-28T11:48:03.289462",
     "exception": false,
     "start_time": "2022-09-28T11:48:03.221659",
     "status": "completed"
    },
    "tags": []
   },
   "source": [
    "``` python\n",
    "\n",
    "labels = ['a', 'd']\n",
    "s.loc[s.index.intersection(labels)].reindex(labels)\n",
    "\n",
    "\n",
    "---------------------------------------------------------------------------\n",
    "ValueError                                Traceback (most recent call last)\n",
    "/tmp/ipykernel_17/2354864613.py in <module>\n",
    "      1 labels = ['a', 'd']\n",
    "----> 2 s.loc[s.index.intersection(labels)].reindex(labels)\n",
    "\n",
    "----extra error rempved----\n",
    "ValueError: cannot reindex from a duplicate axis\n",
    "    \n",
    "```"
   ]
  },
  {
   "cell_type": "markdown",
   "id": "9d2a7ccd",
   "metadata": {
    "papermill": {
     "duration": 0.065798,
     "end_time": "2022-09-28T11:48:03.423263",
     "exception": false,
     "start_time": "2022-09-28T11:48:03.357465",
     "status": "completed"
    },
    "tags": []
   },
   "source": [
    "## Selecting random samples:\n",
    "A random selection of rows or columns from a Series or DataFrame with the sample() method. The method will sample rows by default, and accepts a specific number of rows/columns to return, or a fraction of rows."
   ]
  },
  {
   "cell_type": "code",
   "execution_count": 156,
   "id": "34bf0b94",
   "metadata": {
    "execution": {
     "iopub.execute_input": "2022-09-28T11:48:03.559963Z",
     "iopub.status.busy": "2022-09-28T11:48:03.559581Z",
     "iopub.status.idle": "2022-09-28T11:48:03.566666Z",
     "shell.execute_reply": "2022-09-28T11:48:03.565749Z"
    },
    "papermill": {
     "duration": 0.077572,
     "end_time": "2022-09-28T11:48:03.568744",
     "exception": false,
     "start_time": "2022-09-28T11:48:03.491172",
     "status": "completed"
    },
    "tags": []
   },
   "outputs": [
    {
     "data": {
      "text/plain": [
       "0    0\n",
       "1    1\n",
       "2    2\n",
       "3    3\n",
       "4    4\n",
       "5    5\n",
       "dtype: int64"
      ]
     },
     "execution_count": 156,
     "metadata": {},
     "output_type": "execute_result"
    }
   ],
   "source": [
    "s = pd.Series([0, 1, 2, 3, 4, 5])\n",
    "s"
   ]
  },
  {
   "cell_type": "code",
   "execution_count": 157,
   "id": "811bf86a",
   "metadata": {
    "execution": {
     "iopub.execute_input": "2022-09-28T11:48:03.705092Z",
     "iopub.status.busy": "2022-09-28T11:48:03.704131Z",
     "iopub.status.idle": "2022-09-28T11:48:03.712559Z",
     "shell.execute_reply": "2022-09-28T11:48:03.711566Z"
    },
    "papermill": {
     "duration": 0.079114,
     "end_time": "2022-09-28T11:48:03.714585",
     "exception": false,
     "start_time": "2022-09-28T11:48:03.635471",
     "status": "completed"
    },
    "tags": []
   },
   "outputs": [
    {
     "data": {
      "text/plain": [
       "0    0\n",
       "dtype: int64"
      ]
     },
     "execution_count": 157,
     "metadata": {},
     "output_type": "execute_result"
    }
   ],
   "source": [
    "s.sample() ## When no arguments are passed, returns 1 row."
   ]
  },
  {
   "cell_type": "code",
   "execution_count": 158,
   "id": "7e707da1",
   "metadata": {
    "execution": {
     "iopub.execute_input": "2022-09-28T11:48:03.852597Z",
     "iopub.status.busy": "2022-09-28T11:48:03.851733Z",
     "iopub.status.idle": "2022-09-28T11:48:03.858952Z",
     "shell.execute_reply": "2022-09-28T11:48:03.858036Z"
    },
    "papermill": {
     "duration": 0.077706,
     "end_time": "2022-09-28T11:48:03.860921",
     "exception": false,
     "start_time": "2022-09-28T11:48:03.783215",
     "status": "completed"
    },
    "tags": []
   },
   "outputs": [
    {
     "data": {
      "text/plain": [
       "4    4\n",
       "1    1\n",
       "3    3\n",
       "dtype: int64"
      ]
     },
     "execution_count": 158,
     "metadata": {},
     "output_type": "execute_result"
    }
   ],
   "source": [
    "s.sample(n=3) ## One may specify either a number of rows:"
   ]
  },
  {
   "cell_type": "code",
   "execution_count": 159,
   "id": "787dd59f",
   "metadata": {
    "execution": {
     "iopub.execute_input": "2022-09-28T11:48:03.999802Z",
     "iopub.status.busy": "2022-09-28T11:48:03.998791Z",
     "iopub.status.idle": "2022-09-28T11:48:04.006549Z",
     "shell.execute_reply": "2022-09-28T11:48:04.005631Z"
    },
    "papermill": {
     "duration": 0.0792,
     "end_time": "2022-09-28T11:48:04.008484",
     "exception": false,
     "start_time": "2022-09-28T11:48:03.929284",
     "status": "completed"
    },
    "tags": []
   },
   "outputs": [
    {
     "data": {
      "text/plain": [
       "3    3\n",
       "1    1\n",
       "4    4\n",
       "dtype: int64"
      ]
     },
     "execution_count": 159,
     "metadata": {},
     "output_type": "execute_result"
    }
   ],
   "source": [
    "# Or a fraction of the rows:\n",
    "s.sample(frac=0.5)"
   ]
  },
  {
   "cell_type": "markdown",
   "id": "6acedc21",
   "metadata": {
    "papermill": {
     "duration": 0.068273,
     "end_time": "2022-09-28T11:48:04.143870",
     "exception": false,
     "start_time": "2022-09-28T11:48:04.075597",
     "status": "completed"
    },
    "tags": []
   },
   "source": [
    "## Indexing and selecting data In DataFrame | Setting with enlargement:\n",
    "- The .loc / [] operations can perform enlargement when setting a non-existent key for that axis.\n",
    "\n",
    "- In the Series case this is effectively an appending operation."
   ]
  },
  {
   "cell_type": "code",
   "execution_count": 160,
   "id": "20a2b3a3",
   "metadata": {
    "execution": {
     "iopub.execute_input": "2022-09-28T11:48:04.282452Z",
     "iopub.status.busy": "2022-09-28T11:48:04.282092Z",
     "iopub.status.idle": "2022-09-28T11:48:04.288938Z",
     "shell.execute_reply": "2022-09-28T11:48:04.288053Z"
    },
    "papermill": {
     "duration": 0.078538,
     "end_time": "2022-09-28T11:48:04.290887",
     "exception": false,
     "start_time": "2022-09-28T11:48:04.212349",
     "status": "completed"
    },
    "tags": []
   },
   "outputs": [
    {
     "data": {
      "text/plain": [
       "0    1\n",
       "1    2\n",
       "2    3\n",
       "dtype: int64"
      ]
     },
     "execution_count": 160,
     "metadata": {},
     "output_type": "execute_result"
    }
   ],
   "source": [
    "se = pd.Series([1, 2, 3])\n",
    "se"
   ]
  },
  {
   "cell_type": "code",
   "execution_count": 161,
   "id": "3a1e766b",
   "metadata": {
    "execution": {
     "iopub.execute_input": "2022-09-28T11:48:04.428713Z",
     "iopub.status.busy": "2022-09-28T11:48:04.428338Z",
     "iopub.status.idle": "2022-09-28T11:48:04.437168Z",
     "shell.execute_reply": "2022-09-28T11:48:04.436152Z"
    },
    "papermill": {
     "duration": 0.080136,
     "end_time": "2022-09-28T11:48:04.439346",
     "exception": false,
     "start_time": "2022-09-28T11:48:04.359210",
     "status": "completed"
    },
    "tags": []
   },
   "outputs": [
    {
     "data": {
      "text/plain": [
       "0    1.0\n",
       "1    2.0\n",
       "2    3.0\n",
       "5    5.0\n",
       "dtype: float64"
      ]
     },
     "execution_count": 161,
     "metadata": {},
     "output_type": "execute_result"
    }
   ],
   "source": [
    "se[5] = 5.    #Setting a new index 5 with value 5.0\n",
    "se"
   ]
  },
  {
   "cell_type": "code",
   "execution_count": 162,
   "id": "569c4a62",
   "metadata": {
    "execution": {
     "iopub.execute_input": "2022-09-28T11:48:04.578725Z",
     "iopub.status.busy": "2022-09-28T11:48:04.578353Z",
     "iopub.status.idle": "2022-09-28T11:48:04.587493Z",
     "shell.execute_reply": "2022-09-28T11:48:04.586623Z"
    },
    "papermill": {
     "duration": 0.080574,
     "end_time": "2022-09-28T11:48:04.589470",
     "exception": false,
     "start_time": "2022-09-28T11:48:04.508896",
     "status": "completed"
    },
    "tags": []
   },
   "outputs": [
    {
     "data": {
      "text/html": [
       "<div>\n",
       "<style scoped>\n",
       "    .dataframe tbody tr th:only-of-type {\n",
       "        vertical-align: middle;\n",
       "    }\n",
       "\n",
       "    .dataframe tbody tr th {\n",
       "        vertical-align: top;\n",
       "    }\n",
       "\n",
       "    .dataframe thead th {\n",
       "        text-align: right;\n",
       "    }\n",
       "</style>\n",
       "<table border=\"1\" class=\"dataframe\">\n",
       "  <thead>\n",
       "    <tr style=\"text-align: right;\">\n",
       "      <th></th>\n",
       "      <th>A</th>\n",
       "      <th>B</th>\n",
       "    </tr>\n",
       "  </thead>\n",
       "  <tbody>\n",
       "    <tr>\n",
       "      <th>0</th>\n",
       "      <td>0</td>\n",
       "      <td>1</td>\n",
       "    </tr>\n",
       "    <tr>\n",
       "      <th>1</th>\n",
       "      <td>2</td>\n",
       "      <td>3</td>\n",
       "    </tr>\n",
       "    <tr>\n",
       "      <th>2</th>\n",
       "      <td>4</td>\n",
       "      <td>5</td>\n",
       "    </tr>\n",
       "  </tbody>\n",
       "</table>\n",
       "</div>"
      ],
      "text/plain": [
       "   A  B\n",
       "0  0  1\n",
       "1  2  3\n",
       "2  4  5"
      ]
     },
     "execution_count": 162,
     "metadata": {},
     "output_type": "execute_result"
    }
   ],
   "source": [
    "dfi = pd.DataFrame(np.arange(6).reshape(3, 2),\n",
    "   .....:                    columns=['A', 'B'])\n",
    "dfi"
   ]
  },
  {
   "cell_type": "code",
   "execution_count": 163,
   "id": "abdc93bc",
   "metadata": {
    "execution": {
     "iopub.execute_input": "2022-09-28T11:48:04.728015Z",
     "iopub.status.busy": "2022-09-28T11:48:04.726257Z",
     "iopub.status.idle": "2022-09-28T11:48:04.736851Z",
     "shell.execute_reply": "2022-09-28T11:48:04.735807Z"
    },
    "papermill": {
     "duration": 0.081074,
     "end_time": "2022-09-28T11:48:04.738704",
     "exception": false,
     "start_time": "2022-09-28T11:48:04.657630",
     "status": "completed"
    },
    "tags": []
   },
   "outputs": [
    {
     "data": {
      "text/html": [
       "<div>\n",
       "<style scoped>\n",
       "    .dataframe tbody tr th:only-of-type {\n",
       "        vertical-align: middle;\n",
       "    }\n",
       "\n",
       "    .dataframe tbody tr th {\n",
       "        vertical-align: top;\n",
       "    }\n",
       "\n",
       "    .dataframe thead th {\n",
       "        text-align: right;\n",
       "    }\n",
       "</style>\n",
       "<table border=\"1\" class=\"dataframe\">\n",
       "  <thead>\n",
       "    <tr style=\"text-align: right;\">\n",
       "      <th></th>\n",
       "      <th>A</th>\n",
       "      <th>B</th>\n",
       "      <th>C</th>\n",
       "    </tr>\n",
       "  </thead>\n",
       "  <tbody>\n",
       "    <tr>\n",
       "      <th>0</th>\n",
       "      <td>0</td>\n",
       "      <td>1</td>\n",
       "      <td>0</td>\n",
       "    </tr>\n",
       "    <tr>\n",
       "      <th>1</th>\n",
       "      <td>2</td>\n",
       "      <td>3</td>\n",
       "      <td>2</td>\n",
       "    </tr>\n",
       "    <tr>\n",
       "      <th>2</th>\n",
       "      <td>4</td>\n",
       "      <td>5</td>\n",
       "      <td>4</td>\n",
       "    </tr>\n",
       "  </tbody>\n",
       "</table>\n",
       "</div>"
      ],
      "text/plain": [
       "   A  B  C\n",
       "0  0  1  0\n",
       "1  2  3  2\n",
       "2  4  5  4"
      ]
     },
     "execution_count": 163,
     "metadata": {},
     "output_type": "execute_result"
    }
   ],
   "source": [
    "dfi.loc[:, 'C'] = dfi.loc[:, 'A']    #Column \"A\" value will Setting with to new column 'C'\n",
    "dfi\n"
   ]
  },
  {
   "cell_type": "code",
   "execution_count": 164,
   "id": "d432d1ec",
   "metadata": {
    "execution": {
     "iopub.execute_input": "2022-09-28T11:48:04.877403Z",
     "iopub.status.busy": "2022-09-28T11:48:04.877045Z",
     "iopub.status.idle": "2022-09-28T11:48:04.889178Z",
     "shell.execute_reply": "2022-09-28T11:48:04.888187Z"
    },
    "papermill": {
     "duration": 0.084479,
     "end_time": "2022-09-28T11:48:04.891183",
     "exception": false,
     "start_time": "2022-09-28T11:48:04.806704",
     "status": "completed"
    },
    "tags": []
   },
   "outputs": [
    {
     "data": {
      "text/html": [
       "<div>\n",
       "<style scoped>\n",
       "    .dataframe tbody tr th:only-of-type {\n",
       "        vertical-align: middle;\n",
       "    }\n",
       "\n",
       "    .dataframe tbody tr th {\n",
       "        vertical-align: top;\n",
       "    }\n",
       "\n",
       "    .dataframe thead th {\n",
       "        text-align: right;\n",
       "    }\n",
       "</style>\n",
       "<table border=\"1\" class=\"dataframe\">\n",
       "  <thead>\n",
       "    <tr style=\"text-align: right;\">\n",
       "      <th></th>\n",
       "      <th>A</th>\n",
       "      <th>B</th>\n",
       "      <th>C</th>\n",
       "    </tr>\n",
       "  </thead>\n",
       "  <tbody>\n",
       "    <tr>\n",
       "      <th>0</th>\n",
       "      <td>0</td>\n",
       "      <td>1</td>\n",
       "      <td>0</td>\n",
       "    </tr>\n",
       "    <tr>\n",
       "      <th>1</th>\n",
       "      <td>2</td>\n",
       "      <td>3</td>\n",
       "      <td>2</td>\n",
       "    </tr>\n",
       "    <tr>\n",
       "      <th>2</th>\n",
       "      <td>4</td>\n",
       "      <td>5</td>\n",
       "      <td>4</td>\n",
       "    </tr>\n",
       "    <tr>\n",
       "      <th>3</th>\n",
       "      <td>5</td>\n",
       "      <td>5</td>\n",
       "      <td>5</td>\n",
       "    </tr>\n",
       "  </tbody>\n",
       "</table>\n",
       "</div>"
      ],
      "text/plain": [
       "   A  B  C\n",
       "0  0  1  0\n",
       "1  2  3  2\n",
       "2  4  5  4\n",
       "3  5  5  5"
      ]
     },
     "execution_count": 164,
     "metadata": {},
     "output_type": "execute_result"
    }
   ],
   "source": [
    "dfi.loc[3] = 5  # Setting a new row index \"3\" with value 5\n",
    "dfi"
   ]
  },
  {
   "cell_type": "markdown",
   "id": "462e69f0",
   "metadata": {
    "papermill": {
     "duration": 0.067478,
     "end_time": "2022-09-28T11:48:05.027328",
     "exception": false,
     "start_time": "2022-09-28T11:48:04.959850",
     "status": "completed"
    },
    "tags": []
   },
   "source": [
    "## Fast scalar value getting and setting | Indexing and selecting data In DataFrame:\n",
    "- Since indexing with [] must handle a lot of cases (single-label access, slicing, boolean indexing, etc.), it has a bit of overhead in order to figure out what you’re asking for. If you only want to access a scalar value, the fastest way is to use the at and iat methods, which are implemented on all of the data structures.\n",
    "\n",
    "- Similarly to loc, at provides label based scalar lookups, while, iat provides integer based lookups analogously to iloc"
   ]
  },
  {
   "cell_type": "code",
   "execution_count": 165,
   "id": "acf4522d",
   "metadata": {
    "execution": {
     "iopub.execute_input": "2022-09-28T11:48:05.165143Z",
     "iopub.status.busy": "2022-09-28T11:48:05.164788Z",
     "iopub.status.idle": "2022-09-28T11:48:05.172856Z",
     "shell.execute_reply": "2022-09-28T11:48:05.171079Z"
    },
    "papermill": {
     "duration": 0.078742,
     "end_time": "2022-09-28T11:48:05.175511",
     "exception": false,
     "start_time": "2022-09-28T11:48:05.096769",
     "status": "completed"
    },
    "tags": []
   },
   "outputs": [
    {
     "name": "stdout",
     "output_type": "stream",
     "text": [
      "0    0\n",
      "1    1\n",
      "2    2\n",
      "3    3\n",
      "4    4\n",
      "5    5\n",
      "dtype: int64\n"
     ]
    },
    {
     "data": {
      "text/plain": [
       "5"
      ]
     },
     "execution_count": 165,
     "metadata": {},
     "output_type": "execute_result"
    }
   ],
   "source": [
    "print(s)\n",
    "s.iat[5]"
   ]
  },
  {
   "cell_type": "code",
   "execution_count": 166,
   "id": "978ff4c6",
   "metadata": {
    "execution": {
     "iopub.execute_input": "2022-09-28T11:48:05.315318Z",
     "iopub.status.busy": "2022-09-28T11:48:05.314969Z",
     "iopub.status.idle": "2022-09-28T11:48:05.325899Z",
     "shell.execute_reply": "2022-09-28T11:48:05.324309Z"
    },
    "papermill": {
     "duration": 0.083758,
     "end_time": "2022-09-28T11:48:05.328937",
     "exception": false,
     "start_time": "2022-09-28T11:48:05.245179",
     "status": "completed"
    },
    "tags": []
   },
   "outputs": [
    {
     "name": "stdout",
     "output_type": "stream",
     "text": [
      "                   A         B         C         D\n",
      "2000-01-01 -0.090269 -0.207869  0.582660  0.563854\n",
      "2000-01-02  0.208760  2.634646 -0.105164  2.010912\n",
      "2000-01-03  0.030700 -0.903966 -1.708521  0.525925\n",
      "2000-01-04  0.241462  0.540534 -0.287860 -0.370266\n",
      "2000-01-05  1.734535  0.111214 -1.878738  0.968226\n",
      "2000-01-06  2.713732  1.618400  1.306084  0.877306\n",
      "2000-01-07 -0.396021  0.813994 -0.424231 -0.278327\n",
      "2000-01-08  1.282484  0.761926  0.589024 -0.554914\n"
     ]
    },
    {
     "data": {
      "text/plain": [
       "2.713731748204413"
      ]
     },
     "execution_count": 166,
     "metadata": {},
     "output_type": "execute_result"
    }
   ],
   "source": [
    "print(df)\n",
    "\n",
    "df.at[dates[5], 'A']"
   ]
  },
  {
   "cell_type": "code",
   "execution_count": 167,
   "id": "3a418ee9",
   "metadata": {
    "execution": {
     "iopub.execute_input": "2022-09-28T11:48:05.509515Z",
     "iopub.status.busy": "2022-09-28T11:48:05.508541Z",
     "iopub.status.idle": "2022-09-28T11:48:05.515486Z",
     "shell.execute_reply": "2022-09-28T11:48:05.514534Z"
    },
    "papermill": {
     "duration": 0.078052,
     "end_time": "2022-09-28T11:48:05.517494",
     "exception": false,
     "start_time": "2022-09-28T11:48:05.439442",
     "status": "completed"
    },
    "tags": []
   },
   "outputs": [
    {
     "data": {
      "text/plain": [
       "0.24146205370692062"
      ]
     },
     "execution_count": 167,
     "metadata": {},
     "output_type": "execute_result"
    }
   ],
   "source": [
    "df.iat[3, 0]"
   ]
  },
  {
   "cell_type": "markdown",
   "id": "ee3b2957",
   "metadata": {
    "papermill": {
     "duration": 0.068462,
     "end_time": "2022-09-28T11:48:05.654880",
     "exception": false,
     "start_time": "2022-09-28T11:48:05.586418",
     "status": "completed"
    },
    "tags": []
   },
   "source": [
    ">You can also set using these same indexers."
   ]
  },
  {
   "cell_type": "code",
   "execution_count": 168,
   "id": "4413d282",
   "metadata": {
    "execution": {
     "iopub.execute_input": "2022-09-28T11:48:05.793566Z",
     "iopub.status.busy": "2022-09-28T11:48:05.792632Z",
     "iopub.status.idle": "2022-09-28T11:48:05.807774Z",
     "shell.execute_reply": "2022-09-28T11:48:05.806761Z"
    },
    "papermill": {
     "duration": 0.08692,
     "end_time": "2022-09-28T11:48:05.809812",
     "exception": false,
     "start_time": "2022-09-28T11:48:05.722892",
     "status": "completed"
    },
    "tags": []
   },
   "outputs": [
    {
     "data": {
      "text/html": [
       "<div>\n",
       "<style scoped>\n",
       "    .dataframe tbody tr th:only-of-type {\n",
       "        vertical-align: middle;\n",
       "    }\n",
       "\n",
       "    .dataframe tbody tr th {\n",
       "        vertical-align: top;\n",
       "    }\n",
       "\n",
       "    .dataframe thead th {\n",
       "        text-align: right;\n",
       "    }\n",
       "</style>\n",
       "<table border=\"1\" class=\"dataframe\">\n",
       "  <thead>\n",
       "    <tr style=\"text-align: right;\">\n",
       "      <th></th>\n",
       "      <th>A</th>\n",
       "      <th>B</th>\n",
       "      <th>C</th>\n",
       "      <th>D</th>\n",
       "      <th>E</th>\n",
       "    </tr>\n",
       "  </thead>\n",
       "  <tbody>\n",
       "    <tr>\n",
       "      <th>2000-01-01</th>\n",
       "      <td>-0.090269</td>\n",
       "      <td>-0.207869</td>\n",
       "      <td>0.582660</td>\n",
       "      <td>0.563854</td>\n",
       "      <td>NaN</td>\n",
       "    </tr>\n",
       "    <tr>\n",
       "      <th>2000-01-02</th>\n",
       "      <td>0.208760</td>\n",
       "      <td>2.634646</td>\n",
       "      <td>-0.105164</td>\n",
       "      <td>2.010912</td>\n",
       "      <td>NaN</td>\n",
       "    </tr>\n",
       "    <tr>\n",
       "      <th>2000-01-03</th>\n",
       "      <td>0.030700</td>\n",
       "      <td>-0.903966</td>\n",
       "      <td>-1.708521</td>\n",
       "      <td>0.525925</td>\n",
       "      <td>NaN</td>\n",
       "    </tr>\n",
       "    <tr>\n",
       "      <th>2000-01-04</th>\n",
       "      <td>7.000000</td>\n",
       "      <td>0.540534</td>\n",
       "      <td>-0.287860</td>\n",
       "      <td>-0.370266</td>\n",
       "      <td>NaN</td>\n",
       "    </tr>\n",
       "    <tr>\n",
       "      <th>2000-01-05</th>\n",
       "      <td>1.734535</td>\n",
       "      <td>0.111214</td>\n",
       "      <td>-1.878738</td>\n",
       "      <td>0.968226</td>\n",
       "      <td>NaN</td>\n",
       "    </tr>\n",
       "    <tr>\n",
       "      <th>2000-01-06</th>\n",
       "      <td>2.713732</td>\n",
       "      <td>1.618400</td>\n",
       "      <td>1.306084</td>\n",
       "      <td>0.877306</td>\n",
       "      <td>7.0</td>\n",
       "    </tr>\n",
       "    <tr>\n",
       "      <th>2000-01-07</th>\n",
       "      <td>-0.396021</td>\n",
       "      <td>0.813994</td>\n",
       "      <td>-0.424231</td>\n",
       "      <td>-0.278327</td>\n",
       "      <td>NaN</td>\n",
       "    </tr>\n",
       "    <tr>\n",
       "      <th>2000-01-08</th>\n",
       "      <td>1.282484</td>\n",
       "      <td>0.761926</td>\n",
       "      <td>0.589024</td>\n",
       "      <td>-0.554914</td>\n",
       "      <td>NaN</td>\n",
       "    </tr>\n",
       "  </tbody>\n",
       "</table>\n",
       "</div>"
      ],
      "text/plain": [
       "                   A         B         C         D    E\n",
       "2000-01-01 -0.090269 -0.207869  0.582660  0.563854  NaN\n",
       "2000-01-02  0.208760  2.634646 -0.105164  2.010912  NaN\n",
       "2000-01-03  0.030700 -0.903966 -1.708521  0.525925  NaN\n",
       "2000-01-04  7.000000  0.540534 -0.287860 -0.370266  NaN\n",
       "2000-01-05  1.734535  0.111214 -1.878738  0.968226  NaN\n",
       "2000-01-06  2.713732  1.618400  1.306084  0.877306  7.0\n",
       "2000-01-07 -0.396021  0.813994 -0.424231 -0.278327  NaN\n",
       "2000-01-08  1.282484  0.761926  0.589024 -0.554914  NaN"
      ]
     },
     "execution_count": 168,
     "metadata": {},
     "output_type": "execute_result"
    }
   ],
   "source": [
    "df.at[dates[5], 'E'] = 7\n",
    "df.iat[3, 0] = 7\n",
    "df"
   ]
  },
  {
   "cell_type": "markdown",
   "id": "419e2fec",
   "metadata": {
    "papermill": {
     "duration": 0.068021,
     "end_time": "2022-09-28T11:48:05.947242",
     "exception": false,
     "start_time": "2022-09-28T11:48:05.879221",
     "status": "completed"
    },
    "tags": []
   },
   "source": [
    "## Boolean indexing:\n",
    "Another common operation is the use of boolean vectors to filter the data. The operators are: | for or, & for and, and ~ for not. These must be grouped by using parentheses, since by default Python will evaluate an expression such as df['A'] > 2 & df['B'] < 3 as df['A'] > (2 & df['B']) < 3, while the desired evaluation order is (df['A'] > 2) & (df['B'] < 3).\n"
   ]
  },
  {
   "cell_type": "code",
   "execution_count": 169,
   "id": "ec24bb9e",
   "metadata": {
    "execution": {
     "iopub.execute_input": "2022-09-28T11:48:06.087824Z",
     "iopub.status.busy": "2022-09-28T11:48:06.086999Z",
     "iopub.status.idle": "2022-09-28T11:48:06.094322Z",
     "shell.execute_reply": "2022-09-28T11:48:06.093415Z"
    },
    "papermill": {
     "duration": 0.079703,
     "end_time": "2022-09-28T11:48:06.096274",
     "exception": false,
     "start_time": "2022-09-28T11:48:06.016571",
     "status": "completed"
    },
    "tags": []
   },
   "outputs": [
    {
     "data": {
      "text/plain": [
       "0   -3\n",
       "1   -2\n",
       "2   -1\n",
       "3    0\n",
       "4    1\n",
       "5    2\n",
       "6    3\n",
       "dtype: int64"
      ]
     },
     "execution_count": 169,
     "metadata": {},
     "output_type": "execute_result"
    }
   ],
   "source": [
    "s = pd.Series(range(-3, 4))\n",
    "s"
   ]
  },
  {
   "cell_type": "code",
   "execution_count": 170,
   "id": "1299e6bd",
   "metadata": {
    "execution": {
     "iopub.execute_input": "2022-09-28T11:48:06.238178Z",
     "iopub.status.busy": "2022-09-28T11:48:06.237119Z",
     "iopub.status.idle": "2022-09-28T11:48:06.245177Z",
     "shell.execute_reply": "2022-09-28T11:48:06.244143Z"
    },
    "papermill": {
     "duration": 0.081095,
     "end_time": "2022-09-28T11:48:06.247191",
     "exception": false,
     "start_time": "2022-09-28T11:48:06.166096",
     "status": "completed"
    },
    "tags": []
   },
   "outputs": [
    {
     "data": {
      "text/plain": [
       "4    1\n",
       "5    2\n",
       "6    3\n",
       "dtype: int64"
      ]
     },
     "execution_count": 170,
     "metadata": {},
     "output_type": "execute_result"
    }
   ],
   "source": [
    "s[s > 0]"
   ]
  },
  {
   "cell_type": "code",
   "execution_count": 171,
   "id": "fc910365",
   "metadata": {
    "execution": {
     "iopub.execute_input": "2022-09-28T11:48:06.387688Z",
     "iopub.status.busy": "2022-09-28T11:48:06.386562Z",
     "iopub.status.idle": "2022-09-28T11:48:06.395042Z",
     "shell.execute_reply": "2022-09-28T11:48:06.394106Z"
    },
    "papermill": {
     "duration": 0.080191,
     "end_time": "2022-09-28T11:48:06.397123",
     "exception": false,
     "start_time": "2022-09-28T11:48:06.316932",
     "status": "completed"
    },
    "tags": []
   },
   "outputs": [
    {
     "data": {
      "text/plain": [
       "0   -3\n",
       "1   -2\n",
       "4    1\n",
       "5    2\n",
       "6    3\n",
       "dtype: int64"
      ]
     },
     "execution_count": 171,
     "metadata": {},
     "output_type": "execute_result"
    }
   ],
   "source": [
    "s[(s < -1) | (s > 0.5)]"
   ]
  },
  {
   "cell_type": "code",
   "execution_count": 172,
   "id": "62f101fe",
   "metadata": {
    "execution": {
     "iopub.execute_input": "2022-09-28T11:48:06.536339Z",
     "iopub.status.busy": "2022-09-28T11:48:06.535976Z",
     "iopub.status.idle": "2022-09-28T11:48:06.543298Z",
     "shell.execute_reply": "2022-09-28T11:48:06.542401Z"
    },
    "papermill": {
     "duration": 0.079365,
     "end_time": "2022-09-28T11:48:06.545308",
     "exception": false,
     "start_time": "2022-09-28T11:48:06.465943",
     "status": "completed"
    },
    "tags": []
   },
   "outputs": [
    {
     "data": {
      "text/plain": [
       "3    0\n",
       "4    1\n",
       "5    2\n",
       "6    3\n",
       "dtype: int64"
      ]
     },
     "execution_count": 172,
     "metadata": {},
     "output_type": "execute_result"
    }
   ],
   "source": [
    "s[~(s < 0)]     # ~ (Not)"
   ]
  },
  {
   "cell_type": "markdown",
   "id": "d7e3a411",
   "metadata": {
    "papermill": {
     "duration": 0.069654,
     "end_time": "2022-09-28T11:48:06.684305",
     "exception": false,
     "start_time": "2022-09-28T11:48:06.614651",
     "status": "completed"
    },
    "tags": []
   },
   "source": [
    "## Indexing and selecting data | Indexing with isin:\n",
    "- Consider the isin() method of Series, which returns a boolean vector that is true wherever the Series elements exist in the passed list. This allows you to select rows where one or more columns have values you want:"
   ]
  },
  {
   "cell_type": "code",
   "execution_count": 173,
   "id": "d37338fa",
   "metadata": {
    "execution": {
     "iopub.execute_input": "2022-09-28T11:48:06.823394Z",
     "iopub.status.busy": "2022-09-28T11:48:06.823024Z",
     "iopub.status.idle": "2022-09-28T11:48:06.830694Z",
     "shell.execute_reply": "2022-09-28T11:48:06.829794Z"
    },
    "papermill": {
     "duration": 0.079729,
     "end_time": "2022-09-28T11:48:06.832896",
     "exception": false,
     "start_time": "2022-09-28T11:48:06.753167",
     "status": "completed"
    },
    "tags": []
   },
   "outputs": [
    {
     "data": {
      "text/plain": [
       "4    0\n",
       "3    1\n",
       "2    2\n",
       "1    3\n",
       "0    4\n",
       "dtype: int64"
      ]
     },
     "execution_count": 173,
     "metadata": {},
     "output_type": "execute_result"
    }
   ],
   "source": [
    "s = pd.Series(np.arange(5), index=np.arange(5)[::-1], dtype='int64')\n",
    "s"
   ]
  },
  {
   "cell_type": "code",
   "execution_count": 174,
   "id": "629ed799",
   "metadata": {
    "execution": {
     "iopub.execute_input": "2022-09-28T11:48:06.974070Z",
     "iopub.status.busy": "2022-09-28T11:48:06.973714Z",
     "iopub.status.idle": "2022-09-28T11:48:06.982848Z",
     "shell.execute_reply": "2022-09-28T11:48:06.981839Z"
    },
    "papermill": {
     "duration": 0.081221,
     "end_time": "2022-09-28T11:48:06.984888",
     "exception": false,
     "start_time": "2022-09-28T11:48:06.903667",
     "status": "completed"
    },
    "tags": []
   },
   "outputs": [
    {
     "data": {
      "text/plain": [
       "4    False\n",
       "3    False\n",
       "2     True\n",
       "1    False\n",
       "0     True\n",
       "dtype: bool"
      ]
     },
     "execution_count": 174,
     "metadata": {},
     "output_type": "execute_result"
    }
   ],
   "source": [
    "s.isin([2, 4, 6])"
   ]
  },
  {
   "cell_type": "code",
   "execution_count": 175,
   "id": "96177189",
   "metadata": {
    "execution": {
     "iopub.execute_input": "2022-09-28T11:48:07.187368Z",
     "iopub.status.busy": "2022-09-28T11:48:07.186836Z",
     "iopub.status.idle": "2022-09-28T11:48:07.199551Z",
     "shell.execute_reply": "2022-09-28T11:48:07.198677Z"
    },
    "papermill": {
     "duration": 0.148021,
     "end_time": "2022-09-28T11:48:07.202267",
     "exception": false,
     "start_time": "2022-09-28T11:48:07.054246",
     "status": "completed"
    },
    "tags": []
   },
   "outputs": [
    {
     "data": {
      "text/plain": [
       "2    2\n",
       "0    4\n",
       "dtype: int64"
      ]
     },
     "execution_count": 175,
     "metadata": {},
     "output_type": "execute_result"
    }
   ],
   "source": [
    "s[s.isin([2, 4, 6])]"
   ]
  },
  {
   "cell_type": "markdown",
   "id": "c819ba50",
   "metadata": {
    "papermill": {
     "duration": 0.106726,
     "end_time": "2022-09-28T11:48:07.420061",
     "exception": false,
     "start_time": "2022-09-28T11:48:07.313335",
     "status": "completed"
    },
    "tags": []
   },
   "source": [
    ">The same method is available for Index objects and is useful for the cases when you don’t know which of the sought labels are in fact present:"
   ]
  },
  {
   "cell_type": "code",
   "execution_count": 176,
   "id": "4016899d",
   "metadata": {
    "execution": {
     "iopub.execute_input": "2022-09-28T11:48:07.630103Z",
     "iopub.status.busy": "2022-09-28T11:48:07.629180Z",
     "iopub.status.idle": "2022-09-28T11:48:07.644529Z",
     "shell.execute_reply": "2022-09-28T11:48:07.643223Z"
    },
    "papermill": {
     "duration": 0.124354,
     "end_time": "2022-09-28T11:48:07.647133",
     "exception": false,
     "start_time": "2022-09-28T11:48:07.522779",
     "status": "completed"
    },
    "tags": []
   },
   "outputs": [
    {
     "data": {
      "text/plain": [
       "4    0\n",
       "2    2\n",
       "dtype: int64"
      ]
     },
     "execution_count": 176,
     "metadata": {},
     "output_type": "execute_result"
    }
   ],
   "source": [
    "s[s.index.isin([2, 4, 6])]"
   ]
  },
  {
   "cell_type": "code",
   "execution_count": 177,
   "id": "8ea53204",
   "metadata": {
    "execution": {
     "iopub.execute_input": "2022-09-28T11:48:07.875092Z",
     "iopub.status.busy": "2022-09-28T11:48:07.874688Z",
     "iopub.status.idle": "2022-09-28T11:48:07.885899Z",
     "shell.execute_reply": "2022-09-28T11:48:07.885052Z"
    },
    "papermill": {
     "duration": 0.122748,
     "end_time": "2022-09-28T11:48:07.889494",
     "exception": false,
     "start_time": "2022-09-28T11:48:07.766746",
     "status": "completed"
    },
    "tags": []
   },
   "outputs": [
    {
     "data": {
      "text/plain": [
       "2    2.0\n",
       "4    0.0\n",
       "6    NaN\n",
       "dtype: float64"
      ]
     },
     "execution_count": 177,
     "metadata": {},
     "output_type": "execute_result"
    }
   ],
   "source": [
    "# compare it to the following\n",
    "s.reindex([2, 4, 6])"
   ]
  },
  {
   "cell_type": "markdown",
   "id": "0b16a470",
   "metadata": {
    "papermill": {
     "duration": 0.114198,
     "end_time": "2022-09-28T11:48:08.113254",
     "exception": false,
     "start_time": "2022-09-28T11:48:07.999056",
     "status": "completed"
    },
    "tags": []
   },
   "source": [
    "> In addition to that, MultiIndex allows selecting a separate level to use in the membership check:"
   ]
  },
  {
   "cell_type": "code",
   "execution_count": 178,
   "id": "5451e460",
   "metadata": {
    "execution": {
     "iopub.execute_input": "2022-09-28T11:48:08.404529Z",
     "iopub.status.busy": "2022-09-28T11:48:08.404120Z",
     "iopub.status.idle": "2022-09-28T11:48:08.426897Z",
     "shell.execute_reply": "2022-09-28T11:48:08.426008Z"
    },
    "papermill": {
     "duration": 0.184784,
     "end_time": "2022-09-28T11:48:08.429423",
     "exception": false,
     "start_time": "2022-09-28T11:48:08.244639",
     "status": "completed"
    },
    "tags": []
   },
   "outputs": [
    {
     "data": {
      "text/plain": [
       "0  a    0\n",
       "   b    1\n",
       "   c    2\n",
       "1  a    3\n",
       "   b    4\n",
       "   c    5\n",
       "dtype: int64"
      ]
     },
     "execution_count": 178,
     "metadata": {},
     "output_type": "execute_result"
    }
   ],
   "source": [
    "s_mi = pd.Series(np.arange(6),\n",
    "   .....:                  index=pd.MultiIndex.from_product([[0, 1], ['a', 'b', 'c']]))\n",
    "   .....: \n",
    "        \n",
    "s_mi"
   ]
  },
  {
   "cell_type": "code",
   "execution_count": 179,
   "id": "755e322f",
   "metadata": {
    "execution": {
     "iopub.execute_input": "2022-09-28T11:48:08.684716Z",
     "iopub.status.busy": "2022-09-28T11:48:08.684294Z",
     "iopub.status.idle": "2022-09-28T11:48:08.698577Z",
     "shell.execute_reply": "2022-09-28T11:48:08.697745Z"
    },
    "papermill": {
     "duration": 0.124605,
     "end_time": "2022-09-28T11:48:08.701076",
     "exception": false,
     "start_time": "2022-09-28T11:48:08.576471",
     "status": "completed"
    },
    "tags": []
   },
   "outputs": [
    {
     "data": {
      "text/plain": [
       "0  c    2\n",
       "1  a    3\n",
       "dtype: int64"
      ]
     },
     "execution_count": 179,
     "metadata": {},
     "output_type": "execute_result"
    }
   ],
   "source": [
    "s_mi.iloc[s_mi.index.isin([(1, 'a'), (2, 'b'), (0, 'c')])]"
   ]
  },
  {
   "cell_type": "code",
   "execution_count": 180,
   "id": "093de369",
   "metadata": {
    "execution": {
     "iopub.execute_input": "2022-09-28T11:48:08.920560Z",
     "iopub.status.busy": "2022-09-28T11:48:08.920094Z",
     "iopub.status.idle": "2022-09-28T11:48:08.935023Z",
     "shell.execute_reply": "2022-09-28T11:48:08.934023Z"
    },
    "papermill": {
     "duration": 0.129367,
     "end_time": "2022-09-28T11:48:08.937230",
     "exception": false,
     "start_time": "2022-09-28T11:48:08.807863",
     "status": "completed"
    },
    "tags": []
   },
   "outputs": [
    {
     "data": {
      "text/plain": [
       "0  a    0\n",
       "   c    2\n",
       "1  a    3\n",
       "   c    5\n",
       "dtype: int64"
      ]
     },
     "execution_count": 180,
     "metadata": {},
     "output_type": "execute_result"
    }
   ],
   "source": [
    "s_mi.iloc[s_mi.index.isin(['a', 'c', 'e'], level=1)]"
   ]
  },
  {
   "cell_type": "markdown",
   "id": "76e3db87",
   "metadata": {
    "papermill": {
     "duration": 0.069815,
     "end_time": "2022-09-28T11:48:09.125787",
     "exception": false,
     "start_time": "2022-09-28T11:48:09.055972",
     "status": "completed"
    },
    "tags": []
   },
   "source": [
    "> #### DataFrame also has an isin() method. When calling isin, pass a set of values as either an array or dict. If values is an array, isin returns a DataFrame of booleans that is the same shape as the original DataFrame, with True wherever the element is in the sequence of values."
   ]
  },
  {
   "cell_type": "code",
   "execution_count": 181,
   "id": "73dc77f8",
   "metadata": {
    "execution": {
     "iopub.execute_input": "2022-09-28T11:48:09.267076Z",
     "iopub.status.busy": "2022-09-28T11:48:09.266712Z",
     "iopub.status.idle": "2022-09-28T11:48:09.278644Z",
     "shell.execute_reply": "2022-09-28T11:48:09.277660Z"
    },
    "papermill": {
     "duration": 0.085178,
     "end_time": "2022-09-28T11:48:09.280830",
     "exception": false,
     "start_time": "2022-09-28T11:48:09.195652",
     "status": "completed"
    },
    "tags": []
   },
   "outputs": [
    {
     "data": {
      "text/html": [
       "<div>\n",
       "<style scoped>\n",
       "    .dataframe tbody tr th:only-of-type {\n",
       "        vertical-align: middle;\n",
       "    }\n",
       "\n",
       "    .dataframe tbody tr th {\n",
       "        vertical-align: top;\n",
       "    }\n",
       "\n",
       "    .dataframe thead th {\n",
       "        text-align: right;\n",
       "    }\n",
       "</style>\n",
       "<table border=\"1\" class=\"dataframe\">\n",
       "  <thead>\n",
       "    <tr style=\"text-align: right;\">\n",
       "      <th></th>\n",
       "      <th>vals</th>\n",
       "      <th>ids</th>\n",
       "      <th>ids2</th>\n",
       "    </tr>\n",
       "  </thead>\n",
       "  <tbody>\n",
       "    <tr>\n",
       "      <th>0</th>\n",
       "      <td>1</td>\n",
       "      <td>a</td>\n",
       "      <td>a</td>\n",
       "    </tr>\n",
       "    <tr>\n",
       "      <th>1</th>\n",
       "      <td>2</td>\n",
       "      <td>b</td>\n",
       "      <td>n</td>\n",
       "    </tr>\n",
       "    <tr>\n",
       "      <th>2</th>\n",
       "      <td>3</td>\n",
       "      <td>f</td>\n",
       "      <td>c</td>\n",
       "    </tr>\n",
       "    <tr>\n",
       "      <th>3</th>\n",
       "      <td>4</td>\n",
       "      <td>n</td>\n",
       "      <td>n</td>\n",
       "    </tr>\n",
       "  </tbody>\n",
       "</table>\n",
       "</div>"
      ],
      "text/plain": [
       "   vals ids ids2\n",
       "0     1   a    a\n",
       "1     2   b    n\n",
       "2     3   f    c\n",
       "3     4   n    n"
      ]
     },
     "execution_count": 181,
     "metadata": {},
     "output_type": "execute_result"
    }
   ],
   "source": [
    "df = pd.DataFrame({'vals': [1, 2, 3, 4], 'ids': ['a', 'b', 'f', 'n'],\n",
    "   .....:                    'ids2': ['a', 'n', 'c', 'n']})\n",
    "   .....: \n",
    "df"
   ]
  },
  {
   "cell_type": "code",
   "execution_count": 182,
   "id": "e812ab2b",
   "metadata": {
    "execution": {
     "iopub.execute_input": "2022-09-28T11:48:09.423845Z",
     "iopub.status.busy": "2022-09-28T11:48:09.423470Z",
     "iopub.status.idle": "2022-09-28T11:48:09.433787Z",
     "shell.execute_reply": "2022-09-28T11:48:09.432776Z"
    },
    "papermill": {
     "duration": 0.084845,
     "end_time": "2022-09-28T11:48:09.436095",
     "exception": false,
     "start_time": "2022-09-28T11:48:09.351250",
     "status": "completed"
    },
    "tags": []
   },
   "outputs": [
    {
     "data": {
      "text/html": [
       "<div>\n",
       "<style scoped>\n",
       "    .dataframe tbody tr th:only-of-type {\n",
       "        vertical-align: middle;\n",
       "    }\n",
       "\n",
       "    .dataframe tbody tr th {\n",
       "        vertical-align: top;\n",
       "    }\n",
       "\n",
       "    .dataframe thead th {\n",
       "        text-align: right;\n",
       "    }\n",
       "</style>\n",
       "<table border=\"1\" class=\"dataframe\">\n",
       "  <thead>\n",
       "    <tr style=\"text-align: right;\">\n",
       "      <th></th>\n",
       "      <th>vals</th>\n",
       "      <th>ids</th>\n",
       "      <th>ids2</th>\n",
       "    </tr>\n",
       "  </thead>\n",
       "  <tbody>\n",
       "    <tr>\n",
       "      <th>0</th>\n",
       "      <td>True</td>\n",
       "      <td>True</td>\n",
       "      <td>True</td>\n",
       "    </tr>\n",
       "    <tr>\n",
       "      <th>1</th>\n",
       "      <td>False</td>\n",
       "      <td>True</td>\n",
       "      <td>False</td>\n",
       "    </tr>\n",
       "    <tr>\n",
       "      <th>2</th>\n",
       "      <td>True</td>\n",
       "      <td>False</td>\n",
       "      <td>False</td>\n",
       "    </tr>\n",
       "    <tr>\n",
       "      <th>3</th>\n",
       "      <td>False</td>\n",
       "      <td>False</td>\n",
       "      <td>False</td>\n",
       "    </tr>\n",
       "  </tbody>\n",
       "</table>\n",
       "</div>"
      ],
      "text/plain": [
       "    vals    ids   ids2\n",
       "0   True   True   True\n",
       "1  False   True  False\n",
       "2   True  False  False\n",
       "3  False  False  False"
      ]
     },
     "execution_count": 182,
     "metadata": {},
     "output_type": "execute_result"
    }
   ],
   "source": [
    "values = ['a', 'b', 1, 3]\n",
    "df.isin(values)"
   ]
  },
  {
   "cell_type": "markdown",
   "id": "2206c42f",
   "metadata": {
    "papermill": {
     "duration": 0.068394,
     "end_time": "2022-09-28T11:48:09.574088",
     "exception": false,
     "start_time": "2022-09-28T11:48:09.505694",
     "status": "completed"
    },
    "tags": []
   },
   "source": [
    "Oftentimes you’ll want to match certain values with certain columns. Just make values a dict where the key is the column, and the value is a list of items you want to check for."
   ]
  },
  {
   "cell_type": "code",
   "execution_count": 183,
   "id": "3b26a79d",
   "metadata": {
    "execution": {
     "iopub.execute_input": "2022-09-28T11:48:09.716906Z",
     "iopub.status.busy": "2022-09-28T11:48:09.715928Z",
     "iopub.status.idle": "2022-09-28T11:48:09.728413Z",
     "shell.execute_reply": "2022-09-28T11:48:09.727437Z"
    },
    "papermill": {
     "duration": 0.086144,
     "end_time": "2022-09-28T11:48:09.730427",
     "exception": false,
     "start_time": "2022-09-28T11:48:09.644283",
     "status": "completed"
    },
    "tags": []
   },
   "outputs": [
    {
     "data": {
      "text/html": [
       "<div>\n",
       "<style scoped>\n",
       "    .dataframe tbody tr th:only-of-type {\n",
       "        vertical-align: middle;\n",
       "    }\n",
       "\n",
       "    .dataframe tbody tr th {\n",
       "        vertical-align: top;\n",
       "    }\n",
       "\n",
       "    .dataframe thead th {\n",
       "        text-align: right;\n",
       "    }\n",
       "</style>\n",
       "<table border=\"1\" class=\"dataframe\">\n",
       "  <thead>\n",
       "    <tr style=\"text-align: right;\">\n",
       "      <th></th>\n",
       "      <th>vals</th>\n",
       "      <th>ids</th>\n",
       "      <th>ids2</th>\n",
       "    </tr>\n",
       "  </thead>\n",
       "  <tbody>\n",
       "    <tr>\n",
       "      <th>0</th>\n",
       "      <td>True</td>\n",
       "      <td>True</td>\n",
       "      <td>False</td>\n",
       "    </tr>\n",
       "    <tr>\n",
       "      <th>1</th>\n",
       "      <td>False</td>\n",
       "      <td>True</td>\n",
       "      <td>False</td>\n",
       "    </tr>\n",
       "    <tr>\n",
       "      <th>2</th>\n",
       "      <td>True</td>\n",
       "      <td>False</td>\n",
       "      <td>False</td>\n",
       "    </tr>\n",
       "    <tr>\n",
       "      <th>3</th>\n",
       "      <td>False</td>\n",
       "      <td>False</td>\n",
       "      <td>False</td>\n",
       "    </tr>\n",
       "  </tbody>\n",
       "</table>\n",
       "</div>"
      ],
      "text/plain": [
       "    vals    ids   ids2\n",
       "0   True   True  False\n",
       "1  False   True  False\n",
       "2   True  False  False\n",
       "3  False  False  False"
      ]
     },
     "execution_count": 183,
     "metadata": {},
     "output_type": "execute_result"
    }
   ],
   "source": [
    "values = {'ids': ['a', 'b'], 'vals': [1, 3]}\n",
    "df.isin(values)"
   ]
  },
  {
   "cell_type": "markdown",
   "id": "39146bee",
   "metadata": {
    "papermill": {
     "duration": 0.069331,
     "end_time": "2022-09-28T11:48:09.869506",
     "exception": false,
     "start_time": "2022-09-28T11:48:09.800175",
     "status": "completed"
    },
    "tags": []
   },
   "source": [
    "To return the DataFrame of booleans where the values are not in the original DataFrame, use the ~ operator:"
   ]
  },
  {
   "cell_type": "code",
   "execution_count": 184,
   "id": "76b1165d",
   "metadata": {
    "execution": {
     "iopub.execute_input": "2022-09-28T11:48:10.010700Z",
     "iopub.status.busy": "2022-09-28T11:48:10.010329Z",
     "iopub.status.idle": "2022-09-28T11:48:10.021680Z",
     "shell.execute_reply": "2022-09-28T11:48:10.020770Z"
    },
    "papermill": {
     "duration": 0.084497,
     "end_time": "2022-09-28T11:48:10.023753",
     "exception": false,
     "start_time": "2022-09-28T11:48:09.939256",
     "status": "completed"
    },
    "tags": []
   },
   "outputs": [
    {
     "data": {
      "text/html": [
       "<div>\n",
       "<style scoped>\n",
       "    .dataframe tbody tr th:only-of-type {\n",
       "        vertical-align: middle;\n",
       "    }\n",
       "\n",
       "    .dataframe tbody tr th {\n",
       "        vertical-align: top;\n",
       "    }\n",
       "\n",
       "    .dataframe thead th {\n",
       "        text-align: right;\n",
       "    }\n",
       "</style>\n",
       "<table border=\"1\" class=\"dataframe\">\n",
       "  <thead>\n",
       "    <tr style=\"text-align: right;\">\n",
       "      <th></th>\n",
       "      <th>vals</th>\n",
       "      <th>ids</th>\n",
       "      <th>ids2</th>\n",
       "    </tr>\n",
       "  </thead>\n",
       "  <tbody>\n",
       "    <tr>\n",
       "      <th>0</th>\n",
       "      <td>False</td>\n",
       "      <td>False</td>\n",
       "      <td>True</td>\n",
       "    </tr>\n",
       "    <tr>\n",
       "      <th>1</th>\n",
       "      <td>True</td>\n",
       "      <td>False</td>\n",
       "      <td>True</td>\n",
       "    </tr>\n",
       "    <tr>\n",
       "      <th>2</th>\n",
       "      <td>False</td>\n",
       "      <td>True</td>\n",
       "      <td>True</td>\n",
       "    </tr>\n",
       "    <tr>\n",
       "      <th>3</th>\n",
       "      <td>True</td>\n",
       "      <td>True</td>\n",
       "      <td>True</td>\n",
       "    </tr>\n",
       "  </tbody>\n",
       "</table>\n",
       "</div>"
      ],
      "text/plain": [
       "    vals    ids  ids2\n",
       "0  False  False  True\n",
       "1   True  False  True\n",
       "2  False   True  True\n",
       "3   True   True  True"
      ]
     },
     "execution_count": 184,
     "metadata": {},
     "output_type": "execute_result"
    }
   ],
   "source": [
    "values = {'ids': ['a', 'b'], 'vals': [1, 3]}\n",
    "~df.isin(values)"
   ]
  },
  {
   "cell_type": "markdown",
   "id": "22b0c4b2",
   "metadata": {
    "papermill": {
     "duration": 0.07009,
     "end_time": "2022-09-28T11:48:10.164236",
     "exception": false,
     "start_time": "2022-09-28T11:48:10.094146",
     "status": "completed"
    },
    "tags": []
   },
   "source": [
    "Combine DataFrame’s isin with the any() and all() methods to quickly select subsets of your data that meet a given criteria. To select a row where each column meets its own criterion:"
   ]
  },
  {
   "cell_type": "code",
   "execution_count": 185,
   "id": "74f0a423",
   "metadata": {
    "execution": {
     "iopub.execute_input": "2022-09-28T11:48:10.305795Z",
     "iopub.status.busy": "2022-09-28T11:48:10.304828Z",
     "iopub.status.idle": "2022-09-28T11:48:10.318276Z",
     "shell.execute_reply": "2022-09-28T11:48:10.317250Z"
    },
    "papermill": {
     "duration": 0.085647,
     "end_time": "2022-09-28T11:48:10.320271",
     "exception": false,
     "start_time": "2022-09-28T11:48:10.234624",
     "status": "completed"
    },
    "tags": []
   },
   "outputs": [
    {
     "data": {
      "text/html": [
       "<div>\n",
       "<style scoped>\n",
       "    .dataframe tbody tr th:only-of-type {\n",
       "        vertical-align: middle;\n",
       "    }\n",
       "\n",
       "    .dataframe tbody tr th {\n",
       "        vertical-align: top;\n",
       "    }\n",
       "\n",
       "    .dataframe thead th {\n",
       "        text-align: right;\n",
       "    }\n",
       "</style>\n",
       "<table border=\"1\" class=\"dataframe\">\n",
       "  <thead>\n",
       "    <tr style=\"text-align: right;\">\n",
       "      <th></th>\n",
       "      <th>vals</th>\n",
       "      <th>ids</th>\n",
       "      <th>ids2</th>\n",
       "    </tr>\n",
       "  </thead>\n",
       "  <tbody>\n",
       "    <tr>\n",
       "      <th>0</th>\n",
       "      <td>1</td>\n",
       "      <td>a</td>\n",
       "      <td>a</td>\n",
       "    </tr>\n",
       "  </tbody>\n",
       "</table>\n",
       "</div>"
      ],
      "text/plain": [
       "   vals ids ids2\n",
       "0     1   a    a"
      ]
     },
     "execution_count": 185,
     "metadata": {},
     "output_type": "execute_result"
    }
   ],
   "source": [
    "values = {'ids': ['a', 'b'], 'ids2': ['a', 'c'], 'vals': [1, 3]}\n",
    "row_mask = df.isin(values).all(1)\n",
    "df[row_mask]"
   ]
  },
  {
   "cell_type": "markdown",
   "id": "22e02f84",
   "metadata": {
    "papermill": {
     "duration": 0.07118,
     "end_time": "2022-09-28T11:48:10.462881",
     "exception": false,
     "start_time": "2022-09-28T11:48:10.391701",
     "status": "completed"
    },
    "tags": []
   },
   "source": [
    "## Indexing and selecting data | The where() Method and Masking:\n",
    "> **Selecting values from a Series with a boolean vector generally returns a subset of the data. To guarantee that selection output has the same shape as the original data, you can use the where method in Series and DataFrame.**\n",
    "\n",
    "\n",
    "To return only the selected rows:"
   ]
  },
  {
   "cell_type": "code",
   "execution_count": 186,
   "id": "1fdcac97",
   "metadata": {
    "execution": {
     "iopub.execute_input": "2022-09-28T11:48:10.604902Z",
     "iopub.status.busy": "2022-09-28T11:48:10.603457Z",
     "iopub.status.idle": "2022-09-28T11:48:10.611656Z",
     "shell.execute_reply": "2022-09-28T11:48:10.610668Z"
    },
    "papermill": {
     "duration": 0.080964,
     "end_time": "2022-09-28T11:48:10.613720",
     "exception": false,
     "start_time": "2022-09-28T11:48:10.532756",
     "status": "completed"
    },
    "tags": []
   },
   "outputs": [
    {
     "data": {
      "text/plain": [
       "3    1\n",
       "2    2\n",
       "1    3\n",
       "0    4\n",
       "dtype: int64"
      ]
     },
     "execution_count": 186,
     "metadata": {},
     "output_type": "execute_result"
    }
   ],
   "source": [
    "s[s > 0]"
   ]
  },
  {
   "cell_type": "code",
   "execution_count": 187,
   "id": "117e2630",
   "metadata": {
    "execution": {
     "iopub.execute_input": "2022-09-28T11:48:10.755193Z",
     "iopub.status.busy": "2022-09-28T11:48:10.754251Z",
     "iopub.status.idle": "2022-09-28T11:48:10.762958Z",
     "shell.execute_reply": "2022-09-28T11:48:10.761922Z"
    },
    "papermill": {
     "duration": 0.081483,
     "end_time": "2022-09-28T11:48:10.764990",
     "exception": false,
     "start_time": "2022-09-28T11:48:10.683507",
     "status": "completed"
    },
    "tags": []
   },
   "outputs": [
    {
     "data": {
      "text/plain": [
       "4    NaN\n",
       "3    1.0\n",
       "2    2.0\n",
       "1    3.0\n",
       "0    4.0\n",
       "dtype: float64"
      ]
     },
     "execution_count": 187,
     "metadata": {},
     "output_type": "execute_result"
    }
   ],
   "source": [
    "s.where(s > 0)"
   ]
  },
  {
   "cell_type": "markdown",
   "id": "374e7770",
   "metadata": {
    "papermill": {
     "duration": 0.069649,
     "end_time": "2022-09-28T11:48:10.904543",
     "exception": false,
     "start_time": "2022-09-28T11:48:10.834894",
     "status": "completed"
    },
    "tags": []
   },
   "source": [
    "Selecting values from a DataFrame with a boolean criterion now also preserves input data shape. where is used under the hood as the implementation. The code below is equivalent to df.where(df < 0)."
   ]
  },
  {
   "cell_type": "code",
   "execution_count": 188,
   "id": "6b6913e5",
   "metadata": {
    "execution": {
     "iopub.execute_input": "2022-09-28T11:48:11.047638Z",
     "iopub.status.busy": "2022-09-28T11:48:11.047236Z",
     "iopub.status.idle": "2022-09-28T11:48:11.060299Z",
     "shell.execute_reply": "2022-09-28T11:48:11.059393Z"
    },
    "papermill": {
     "duration": 0.086846,
     "end_time": "2022-09-28T11:48:11.062295",
     "exception": false,
     "start_time": "2022-09-28T11:48:10.975449",
     "status": "completed"
    },
    "tags": []
   },
   "outputs": [
    {
     "data": {
      "text/html": [
       "<div>\n",
       "<style scoped>\n",
       "    .dataframe tbody tr th:only-of-type {\n",
       "        vertical-align: middle;\n",
       "    }\n",
       "\n",
       "    .dataframe tbody tr th {\n",
       "        vertical-align: top;\n",
       "    }\n",
       "\n",
       "    .dataframe thead th {\n",
       "        text-align: right;\n",
       "    }\n",
       "</style>\n",
       "<table border=\"1\" class=\"dataframe\">\n",
       "  <thead>\n",
       "    <tr style=\"text-align: right;\">\n",
       "      <th></th>\n",
       "      <th>A</th>\n",
       "      <th>B</th>\n",
       "      <th>C</th>\n",
       "      <th>D</th>\n",
       "    </tr>\n",
       "  </thead>\n",
       "  <tbody>\n",
       "    <tr>\n",
       "      <th>2000-01-01</th>\n",
       "      <td>-0.927409</td>\n",
       "      <td>1.309945</td>\n",
       "      <td>-0.328484</td>\n",
       "      <td>0.213132</td>\n",
       "    </tr>\n",
       "    <tr>\n",
       "      <th>2000-01-02</th>\n",
       "      <td>-0.311254</td>\n",
       "      <td>-1.438031</td>\n",
       "      <td>0.323003</td>\n",
       "      <td>0.177474</td>\n",
       "    </tr>\n",
       "    <tr>\n",
       "      <th>2000-01-03</th>\n",
       "      <td>-0.307470</td>\n",
       "      <td>-1.385952</td>\n",
       "      <td>-0.076684</td>\n",
       "      <td>0.603368</td>\n",
       "    </tr>\n",
       "    <tr>\n",
       "      <th>2000-01-04</th>\n",
       "      <td>-2.001820</td>\n",
       "      <td>-0.198996</td>\n",
       "      <td>-1.100771</td>\n",
       "      <td>0.251900</td>\n",
       "    </tr>\n",
       "    <tr>\n",
       "      <th>2000-01-05</th>\n",
       "      <td>-0.668264</td>\n",
       "      <td>-1.659804</td>\n",
       "      <td>0.117562</td>\n",
       "      <td>1.209618</td>\n",
       "    </tr>\n",
       "    <tr>\n",
       "      <th>2000-01-06</th>\n",
       "      <td>-1.414531</td>\n",
       "      <td>-0.086540</td>\n",
       "      <td>-0.440858</td>\n",
       "      <td>-0.656127</td>\n",
       "    </tr>\n",
       "    <tr>\n",
       "      <th>2000-01-07</th>\n",
       "      <td>0.468661</td>\n",
       "      <td>0.309367</td>\n",
       "      <td>-0.719463</td>\n",
       "      <td>0.166206</td>\n",
       "    </tr>\n",
       "    <tr>\n",
       "      <th>2000-01-08</th>\n",
       "      <td>0.243909</td>\n",
       "      <td>-0.550327</td>\n",
       "      <td>-1.602469</td>\n",
       "      <td>-0.489292</td>\n",
       "    </tr>\n",
       "  </tbody>\n",
       "</table>\n",
       "</div>"
      ],
      "text/plain": [
       "                   A         B         C         D\n",
       "2000-01-01 -0.927409  1.309945 -0.328484  0.213132\n",
       "2000-01-02 -0.311254 -1.438031  0.323003  0.177474\n",
       "2000-01-03 -0.307470 -1.385952 -0.076684  0.603368\n",
       "2000-01-04 -2.001820 -0.198996 -1.100771  0.251900\n",
       "2000-01-05 -0.668264 -1.659804  0.117562  1.209618\n",
       "2000-01-06 -1.414531 -0.086540 -0.440858 -0.656127\n",
       "2000-01-07  0.468661  0.309367 -0.719463  0.166206\n",
       "2000-01-08  0.243909 -0.550327 -1.602469 -0.489292"
      ]
     },
     "execution_count": 188,
     "metadata": {},
     "output_type": "execute_result"
    }
   ],
   "source": [
    "df = pd.DataFrame(np.random.randn(8, 4),\n",
    "   ...:                   index=dates, columns=['A', 'B', 'C', 'D'])\n",
    "df"
   ]
  },
  {
   "cell_type": "code",
   "execution_count": 189,
   "id": "d4ce3d7b",
   "metadata": {
    "execution": {
     "iopub.execute_input": "2022-09-28T11:48:11.207205Z",
     "iopub.status.busy": "2022-09-28T11:48:11.205408Z",
     "iopub.status.idle": "2022-09-28T11:48:11.219042Z",
     "shell.execute_reply": "2022-09-28T11:48:11.218014Z"
    },
    "papermill": {
     "duration": 0.087205,
     "end_time": "2022-09-28T11:48:11.221406",
     "exception": false,
     "start_time": "2022-09-28T11:48:11.134201",
     "status": "completed"
    },
    "tags": []
   },
   "outputs": [
    {
     "data": {
      "text/html": [
       "<div>\n",
       "<style scoped>\n",
       "    .dataframe tbody tr th:only-of-type {\n",
       "        vertical-align: middle;\n",
       "    }\n",
       "\n",
       "    .dataframe tbody tr th {\n",
       "        vertical-align: top;\n",
       "    }\n",
       "\n",
       "    .dataframe thead th {\n",
       "        text-align: right;\n",
       "    }\n",
       "</style>\n",
       "<table border=\"1\" class=\"dataframe\">\n",
       "  <thead>\n",
       "    <tr style=\"text-align: right;\">\n",
       "      <th></th>\n",
       "      <th>A</th>\n",
       "      <th>B</th>\n",
       "      <th>C</th>\n",
       "      <th>D</th>\n",
       "    </tr>\n",
       "  </thead>\n",
       "  <tbody>\n",
       "    <tr>\n",
       "      <th>2000-01-01</th>\n",
       "      <td>-0.927409</td>\n",
       "      <td>NaN</td>\n",
       "      <td>-0.328484</td>\n",
       "      <td>NaN</td>\n",
       "    </tr>\n",
       "    <tr>\n",
       "      <th>2000-01-02</th>\n",
       "      <td>-0.311254</td>\n",
       "      <td>-1.438031</td>\n",
       "      <td>NaN</td>\n",
       "      <td>NaN</td>\n",
       "    </tr>\n",
       "    <tr>\n",
       "      <th>2000-01-03</th>\n",
       "      <td>-0.307470</td>\n",
       "      <td>-1.385952</td>\n",
       "      <td>-0.076684</td>\n",
       "      <td>NaN</td>\n",
       "    </tr>\n",
       "    <tr>\n",
       "      <th>2000-01-04</th>\n",
       "      <td>-2.001820</td>\n",
       "      <td>-0.198996</td>\n",
       "      <td>-1.100771</td>\n",
       "      <td>NaN</td>\n",
       "    </tr>\n",
       "    <tr>\n",
       "      <th>2000-01-05</th>\n",
       "      <td>-0.668264</td>\n",
       "      <td>-1.659804</td>\n",
       "      <td>NaN</td>\n",
       "      <td>NaN</td>\n",
       "    </tr>\n",
       "    <tr>\n",
       "      <th>2000-01-06</th>\n",
       "      <td>-1.414531</td>\n",
       "      <td>-0.086540</td>\n",
       "      <td>-0.440858</td>\n",
       "      <td>-0.656127</td>\n",
       "    </tr>\n",
       "    <tr>\n",
       "      <th>2000-01-07</th>\n",
       "      <td>NaN</td>\n",
       "      <td>NaN</td>\n",
       "      <td>-0.719463</td>\n",
       "      <td>NaN</td>\n",
       "    </tr>\n",
       "    <tr>\n",
       "      <th>2000-01-08</th>\n",
       "      <td>NaN</td>\n",
       "      <td>-0.550327</td>\n",
       "      <td>-1.602469</td>\n",
       "      <td>-0.489292</td>\n",
       "    </tr>\n",
       "  </tbody>\n",
       "</table>\n",
       "</div>"
      ],
      "text/plain": [
       "                   A         B         C         D\n",
       "2000-01-01 -0.927409       NaN -0.328484       NaN\n",
       "2000-01-02 -0.311254 -1.438031       NaN       NaN\n",
       "2000-01-03 -0.307470 -1.385952 -0.076684       NaN\n",
       "2000-01-04 -2.001820 -0.198996 -1.100771       NaN\n",
       "2000-01-05 -0.668264 -1.659804       NaN       NaN\n",
       "2000-01-06 -1.414531 -0.086540 -0.440858 -0.656127\n",
       "2000-01-07       NaN       NaN -0.719463       NaN\n",
       "2000-01-08       NaN -0.550327 -1.602469 -0.489292"
      ]
     },
     "execution_count": 189,
     "metadata": {},
     "output_type": "execute_result"
    }
   ],
   "source": [
    "df[df < 0]"
   ]
  },
  {
   "cell_type": "code",
   "execution_count": 190,
   "id": "4a517f97",
   "metadata": {
    "execution": {
     "iopub.execute_input": "2022-09-28T11:48:11.366550Z",
     "iopub.status.busy": "2022-09-28T11:48:11.365590Z",
     "iopub.status.idle": "2022-09-28T11:48:11.379247Z",
     "shell.execute_reply": "2022-09-28T11:48:11.378218Z"
    },
    "papermill": {
     "duration": 0.086627,
     "end_time": "2022-09-28T11:48:11.381191",
     "exception": false,
     "start_time": "2022-09-28T11:48:11.294564",
     "status": "completed"
    },
    "tags": []
   },
   "outputs": [
    {
     "data": {
      "text/html": [
       "<div>\n",
       "<style scoped>\n",
       "    .dataframe tbody tr th:only-of-type {\n",
       "        vertical-align: middle;\n",
       "    }\n",
       "\n",
       "    .dataframe tbody tr th {\n",
       "        vertical-align: top;\n",
       "    }\n",
       "\n",
       "    .dataframe thead th {\n",
       "        text-align: right;\n",
       "    }\n",
       "</style>\n",
       "<table border=\"1\" class=\"dataframe\">\n",
       "  <thead>\n",
       "    <tr style=\"text-align: right;\">\n",
       "      <th></th>\n",
       "      <th>A</th>\n",
       "      <th>B</th>\n",
       "      <th>C</th>\n",
       "      <th>D</th>\n",
       "    </tr>\n",
       "  </thead>\n",
       "  <tbody>\n",
       "    <tr>\n",
       "      <th>2000-01-01</th>\n",
       "      <td>-0.927409</td>\n",
       "      <td>-1.309945</td>\n",
       "      <td>-0.328484</td>\n",
       "      <td>-0.213132</td>\n",
       "    </tr>\n",
       "    <tr>\n",
       "      <th>2000-01-02</th>\n",
       "      <td>-0.311254</td>\n",
       "      <td>-1.438031</td>\n",
       "      <td>-0.323003</td>\n",
       "      <td>-0.177474</td>\n",
       "    </tr>\n",
       "    <tr>\n",
       "      <th>2000-01-03</th>\n",
       "      <td>-0.307470</td>\n",
       "      <td>-1.385952</td>\n",
       "      <td>-0.076684</td>\n",
       "      <td>-0.603368</td>\n",
       "    </tr>\n",
       "    <tr>\n",
       "      <th>2000-01-04</th>\n",
       "      <td>-2.001820</td>\n",
       "      <td>-0.198996</td>\n",
       "      <td>-1.100771</td>\n",
       "      <td>-0.251900</td>\n",
       "    </tr>\n",
       "    <tr>\n",
       "      <th>2000-01-05</th>\n",
       "      <td>-0.668264</td>\n",
       "      <td>-1.659804</td>\n",
       "      <td>-0.117562</td>\n",
       "      <td>-1.209618</td>\n",
       "    </tr>\n",
       "    <tr>\n",
       "      <th>2000-01-06</th>\n",
       "      <td>-1.414531</td>\n",
       "      <td>-0.086540</td>\n",
       "      <td>-0.440858</td>\n",
       "      <td>-0.656127</td>\n",
       "    </tr>\n",
       "    <tr>\n",
       "      <th>2000-01-07</th>\n",
       "      <td>-0.468661</td>\n",
       "      <td>-0.309367</td>\n",
       "      <td>-0.719463</td>\n",
       "      <td>-0.166206</td>\n",
       "    </tr>\n",
       "    <tr>\n",
       "      <th>2000-01-08</th>\n",
       "      <td>-0.243909</td>\n",
       "      <td>-0.550327</td>\n",
       "      <td>-1.602469</td>\n",
       "      <td>-0.489292</td>\n",
       "    </tr>\n",
       "  </tbody>\n",
       "</table>\n",
       "</div>"
      ],
      "text/plain": [
       "                   A         B         C         D\n",
       "2000-01-01 -0.927409 -1.309945 -0.328484 -0.213132\n",
       "2000-01-02 -0.311254 -1.438031 -0.323003 -0.177474\n",
       "2000-01-03 -0.307470 -1.385952 -0.076684 -0.603368\n",
       "2000-01-04 -2.001820 -0.198996 -1.100771 -0.251900\n",
       "2000-01-05 -0.668264 -1.659804 -0.117562 -1.209618\n",
       "2000-01-06 -1.414531 -0.086540 -0.440858 -0.656127\n",
       "2000-01-07 -0.468661 -0.309367 -0.719463 -0.166206\n",
       "2000-01-08 -0.243909 -0.550327 -1.602469 -0.489292"
      ]
     },
     "execution_count": 190,
     "metadata": {},
     "output_type": "execute_result"
    }
   ],
   "source": [
    "df.where(df < 0, -df)"
   ]
  },
  {
   "cell_type": "markdown",
   "id": "6ce687fa",
   "metadata": {
    "papermill": {
     "duration": 0.07023,
     "end_time": "2022-09-28T11:48:11.524255",
     "exception": false,
     "start_time": "2022-09-28T11:48:11.454025",
     "status": "completed"
    },
    "tags": []
   },
   "source": [
    "You may wish to set values based on some boolean criteria. This can be done intuitively like so:"
   ]
  },
  {
   "cell_type": "code",
   "execution_count": 191,
   "id": "93462f16",
   "metadata": {
    "execution": {
     "iopub.execute_input": "2022-09-28T11:48:11.666708Z",
     "iopub.status.busy": "2022-09-28T11:48:11.666330Z",
     "iopub.status.idle": "2022-09-28T11:48:11.674519Z",
     "shell.execute_reply": "2022-09-28T11:48:11.673621Z"
    },
    "papermill": {
     "duration": 0.0822,
     "end_time": "2022-09-28T11:48:11.676669",
     "exception": false,
     "start_time": "2022-09-28T11:48:11.594469",
     "status": "completed"
    },
    "tags": []
   },
   "outputs": [
    {
     "data": {
      "text/plain": [
       "4    0\n",
       "3    1\n",
       "2    2\n",
       "1    3\n",
       "0    4\n",
       "dtype: int64"
      ]
     },
     "execution_count": 191,
     "metadata": {},
     "output_type": "execute_result"
    }
   ],
   "source": [
    "s2 = s.copy()\n",
    "s2[s2 < 0] = 0\n",
    "s2"
   ]
  },
  {
   "cell_type": "code",
   "execution_count": 192,
   "id": "72ddb347",
   "metadata": {
    "execution": {
     "iopub.execute_input": "2022-09-28T11:48:11.820418Z",
     "iopub.status.busy": "2022-09-28T11:48:11.820067Z",
     "iopub.status.idle": "2022-09-28T11:48:11.834128Z",
     "shell.execute_reply": "2022-09-28T11:48:11.832976Z"
    },
    "papermill": {
     "duration": 0.088411,
     "end_time": "2022-09-28T11:48:11.836161",
     "exception": false,
     "start_time": "2022-09-28T11:48:11.747750",
     "status": "completed"
    },
    "tags": []
   },
   "outputs": [
    {
     "data": {
      "text/html": [
       "<div>\n",
       "<style scoped>\n",
       "    .dataframe tbody tr th:only-of-type {\n",
       "        vertical-align: middle;\n",
       "    }\n",
       "\n",
       "    .dataframe tbody tr th {\n",
       "        vertical-align: top;\n",
       "    }\n",
       "\n",
       "    .dataframe thead th {\n",
       "        text-align: right;\n",
       "    }\n",
       "</style>\n",
       "<table border=\"1\" class=\"dataframe\">\n",
       "  <thead>\n",
       "    <tr style=\"text-align: right;\">\n",
       "      <th></th>\n",
       "      <th>A</th>\n",
       "      <th>B</th>\n",
       "      <th>C</th>\n",
       "      <th>D</th>\n",
       "    </tr>\n",
       "  </thead>\n",
       "  <tbody>\n",
       "    <tr>\n",
       "      <th>2000-01-01</th>\n",
       "      <td>0.000000</td>\n",
       "      <td>1.309945</td>\n",
       "      <td>0.000000</td>\n",
       "      <td>0.213132</td>\n",
       "    </tr>\n",
       "    <tr>\n",
       "      <th>2000-01-02</th>\n",
       "      <td>0.000000</td>\n",
       "      <td>0.000000</td>\n",
       "      <td>0.323003</td>\n",
       "      <td>0.177474</td>\n",
       "    </tr>\n",
       "    <tr>\n",
       "      <th>2000-01-03</th>\n",
       "      <td>0.000000</td>\n",
       "      <td>0.000000</td>\n",
       "      <td>0.000000</td>\n",
       "      <td>0.603368</td>\n",
       "    </tr>\n",
       "    <tr>\n",
       "      <th>2000-01-04</th>\n",
       "      <td>0.000000</td>\n",
       "      <td>0.000000</td>\n",
       "      <td>0.000000</td>\n",
       "      <td>0.251900</td>\n",
       "    </tr>\n",
       "    <tr>\n",
       "      <th>2000-01-05</th>\n",
       "      <td>0.000000</td>\n",
       "      <td>0.000000</td>\n",
       "      <td>0.117562</td>\n",
       "      <td>1.209618</td>\n",
       "    </tr>\n",
       "    <tr>\n",
       "      <th>2000-01-06</th>\n",
       "      <td>0.000000</td>\n",
       "      <td>0.000000</td>\n",
       "      <td>0.000000</td>\n",
       "      <td>0.000000</td>\n",
       "    </tr>\n",
       "    <tr>\n",
       "      <th>2000-01-07</th>\n",
       "      <td>0.468661</td>\n",
       "      <td>0.309367</td>\n",
       "      <td>0.000000</td>\n",
       "      <td>0.166206</td>\n",
       "    </tr>\n",
       "    <tr>\n",
       "      <th>2000-01-08</th>\n",
       "      <td>0.243909</td>\n",
       "      <td>0.000000</td>\n",
       "      <td>0.000000</td>\n",
       "      <td>0.000000</td>\n",
       "    </tr>\n",
       "  </tbody>\n",
       "</table>\n",
       "</div>"
      ],
      "text/plain": [
       "                   A         B         C         D\n",
       "2000-01-01  0.000000  1.309945  0.000000  0.213132\n",
       "2000-01-02  0.000000  0.000000  0.323003  0.177474\n",
       "2000-01-03  0.000000  0.000000  0.000000  0.603368\n",
       "2000-01-04  0.000000  0.000000  0.000000  0.251900\n",
       "2000-01-05  0.000000  0.000000  0.117562  1.209618\n",
       "2000-01-06  0.000000  0.000000  0.000000  0.000000\n",
       "2000-01-07  0.468661  0.309367  0.000000  0.166206\n",
       "2000-01-08  0.243909  0.000000  0.000000  0.000000"
      ]
     },
     "execution_count": 192,
     "metadata": {},
     "output_type": "execute_result"
    }
   ],
   "source": [
    "df2 = df.copy()\n",
    "df2[df2 < 0] = 0\n",
    "\n",
    "df2"
   ]
  },
  {
   "cell_type": "markdown",
   "id": "c3e1dbfa",
   "metadata": {
    "papermill": {
     "duration": 0.070773,
     "end_time": "2022-09-28T11:48:11.982578",
     "exception": false,
     "start_time": "2022-09-28T11:48:11.911805",
     "status": "completed"
    },
    "tags": []
   },
   "source": [
    "By default, where returns a modified copy of the data. There is an optional parameter inplace so that the original data can be modified without creating a copy:"
   ]
  },
  {
   "cell_type": "code",
   "execution_count": 193,
   "id": "b6ceab77",
   "metadata": {
    "execution": {
     "iopub.execute_input": "2022-09-28T11:48:12.149686Z",
     "iopub.status.busy": "2022-09-28T11:48:12.148552Z",
     "iopub.status.idle": "2022-09-28T11:48:12.154061Z",
     "shell.execute_reply": "2022-09-28T11:48:12.152917Z"
    },
    "papermill": {
     "duration": 0.093469,
     "end_time": "2022-09-28T11:48:12.156405",
     "exception": false,
     "start_time": "2022-09-28T11:48:12.062936",
     "status": "completed"
    },
    "tags": []
   },
   "outputs": [],
   "source": [
    "df_orig = df.copy()"
   ]
  },
  {
   "cell_type": "code",
   "execution_count": 194,
   "id": "3cdb1846",
   "metadata": {
    "execution": {
     "iopub.execute_input": "2022-09-28T11:48:12.317656Z",
     "iopub.status.busy": "2022-09-28T11:48:12.317274Z",
     "iopub.status.idle": "2022-09-28T11:48:12.331190Z",
     "shell.execute_reply": "2022-09-28T11:48:12.330147Z"
    },
    "papermill": {
     "duration": 0.093518,
     "end_time": "2022-09-28T11:48:12.333451",
     "exception": false,
     "start_time": "2022-09-28T11:48:12.239933",
     "status": "completed"
    },
    "tags": []
   },
   "outputs": [
    {
     "data": {
      "text/html": [
       "<div>\n",
       "<style scoped>\n",
       "    .dataframe tbody tr th:only-of-type {\n",
       "        vertical-align: middle;\n",
       "    }\n",
       "\n",
       "    .dataframe tbody tr th {\n",
       "        vertical-align: top;\n",
       "    }\n",
       "\n",
       "    .dataframe thead th {\n",
       "        text-align: right;\n",
       "    }\n",
       "</style>\n",
       "<table border=\"1\" class=\"dataframe\">\n",
       "  <thead>\n",
       "    <tr style=\"text-align: right;\">\n",
       "      <th></th>\n",
       "      <th>A</th>\n",
       "      <th>B</th>\n",
       "      <th>C</th>\n",
       "      <th>D</th>\n",
       "    </tr>\n",
       "  </thead>\n",
       "  <tbody>\n",
       "    <tr>\n",
       "      <th>2000-01-01</th>\n",
       "      <td>0.927409</td>\n",
       "      <td>1.309945</td>\n",
       "      <td>0.328484</td>\n",
       "      <td>0.213132</td>\n",
       "    </tr>\n",
       "    <tr>\n",
       "      <th>2000-01-02</th>\n",
       "      <td>0.311254</td>\n",
       "      <td>1.438031</td>\n",
       "      <td>0.323003</td>\n",
       "      <td>0.177474</td>\n",
       "    </tr>\n",
       "    <tr>\n",
       "      <th>2000-01-03</th>\n",
       "      <td>0.307470</td>\n",
       "      <td>1.385952</td>\n",
       "      <td>0.076684</td>\n",
       "      <td>0.603368</td>\n",
       "    </tr>\n",
       "    <tr>\n",
       "      <th>2000-01-04</th>\n",
       "      <td>2.001820</td>\n",
       "      <td>0.198996</td>\n",
       "      <td>1.100771</td>\n",
       "      <td>0.251900</td>\n",
       "    </tr>\n",
       "    <tr>\n",
       "      <th>2000-01-05</th>\n",
       "      <td>0.668264</td>\n",
       "      <td>1.659804</td>\n",
       "      <td>0.117562</td>\n",
       "      <td>1.209618</td>\n",
       "    </tr>\n",
       "    <tr>\n",
       "      <th>2000-01-06</th>\n",
       "      <td>1.414531</td>\n",
       "      <td>0.086540</td>\n",
       "      <td>0.440858</td>\n",
       "      <td>0.656127</td>\n",
       "    </tr>\n",
       "    <tr>\n",
       "      <th>2000-01-07</th>\n",
       "      <td>0.468661</td>\n",
       "      <td>0.309367</td>\n",
       "      <td>0.719463</td>\n",
       "      <td>0.166206</td>\n",
       "    </tr>\n",
       "    <tr>\n",
       "      <th>2000-01-08</th>\n",
       "      <td>0.243909</td>\n",
       "      <td>0.550327</td>\n",
       "      <td>1.602469</td>\n",
       "      <td>0.489292</td>\n",
       "    </tr>\n",
       "  </tbody>\n",
       "</table>\n",
       "</div>"
      ],
      "text/plain": [
       "                   A         B         C         D\n",
       "2000-01-01  0.927409  1.309945  0.328484  0.213132\n",
       "2000-01-02  0.311254  1.438031  0.323003  0.177474\n",
       "2000-01-03  0.307470  1.385952  0.076684  0.603368\n",
       "2000-01-04  2.001820  0.198996  1.100771  0.251900\n",
       "2000-01-05  0.668264  1.659804  0.117562  1.209618\n",
       "2000-01-06  1.414531  0.086540  0.440858  0.656127\n",
       "2000-01-07  0.468661  0.309367  0.719463  0.166206\n",
       "2000-01-08  0.243909  0.550327  1.602469  0.489292"
      ]
     },
     "execution_count": 194,
     "metadata": {},
     "output_type": "execute_result"
    }
   ],
   "source": [
    "df_orig.where(df > 0, -df, inplace=True)\n",
    "df_orig"
   ]
  },
  {
   "cell_type": "markdown",
   "id": "85d52f85",
   "metadata": {
    "papermill": {
     "duration": 0.074394,
     "end_time": "2022-09-28T11:48:12.484409",
     "exception": false,
     "start_time": "2022-09-28T11:48:12.410015",
     "status": "completed"
    },
    "tags": []
   },
   "source": [
    "By default, where returns a modified copy of the data. There is an optional parameter inplace so that the original data can be modified without creating a copy:"
   ]
  },
  {
   "cell_type": "code",
   "execution_count": 195,
   "id": "d05110d3",
   "metadata": {
    "execution": {
     "iopub.execute_input": "2022-09-28T11:48:12.632883Z",
     "iopub.status.busy": "2022-09-28T11:48:12.632362Z",
     "iopub.status.idle": "2022-09-28T11:48:12.649361Z",
     "shell.execute_reply": "2022-09-28T11:48:12.648212Z"
    },
    "papermill": {
     "duration": 0.093652,
     "end_time": "2022-09-28T11:48:12.652777",
     "exception": false,
     "start_time": "2022-09-28T11:48:12.559125",
     "status": "completed"
    },
    "tags": []
   },
   "outputs": [
    {
     "data": {
      "text/html": [
       "<div>\n",
       "<style scoped>\n",
       "    .dataframe tbody tr th:only-of-type {\n",
       "        vertical-align: middle;\n",
       "    }\n",
       "\n",
       "    .dataframe tbody tr th {\n",
       "        vertical-align: top;\n",
       "    }\n",
       "\n",
       "    .dataframe thead th {\n",
       "        text-align: right;\n",
       "    }\n",
       "</style>\n",
       "<table border=\"1\" class=\"dataframe\">\n",
       "  <thead>\n",
       "    <tr style=\"text-align: right;\">\n",
       "      <th></th>\n",
       "      <th>A</th>\n",
       "      <th>B</th>\n",
       "      <th>C</th>\n",
       "      <th>D</th>\n",
       "    </tr>\n",
       "  </thead>\n",
       "  <tbody>\n",
       "    <tr>\n",
       "      <th>2000-01-01</th>\n",
       "      <td>0.927409</td>\n",
       "      <td>1.309945</td>\n",
       "      <td>0.328484</td>\n",
       "      <td>0.213132</td>\n",
       "    </tr>\n",
       "    <tr>\n",
       "      <th>2000-01-02</th>\n",
       "      <td>0.311254</td>\n",
       "      <td>1.438031</td>\n",
       "      <td>0.323003</td>\n",
       "      <td>0.177474</td>\n",
       "    </tr>\n",
       "    <tr>\n",
       "      <th>2000-01-03</th>\n",
       "      <td>0.307470</td>\n",
       "      <td>1.385952</td>\n",
       "      <td>0.076684</td>\n",
       "      <td>0.603368</td>\n",
       "    </tr>\n",
       "    <tr>\n",
       "      <th>2000-01-04</th>\n",
       "      <td>2.001820</td>\n",
       "      <td>0.198996</td>\n",
       "      <td>1.100771</td>\n",
       "      <td>0.251900</td>\n",
       "    </tr>\n",
       "    <tr>\n",
       "      <th>2000-01-05</th>\n",
       "      <td>0.668264</td>\n",
       "      <td>1.659804</td>\n",
       "      <td>0.117562</td>\n",
       "      <td>1.209618</td>\n",
       "    </tr>\n",
       "    <tr>\n",
       "      <th>2000-01-06</th>\n",
       "      <td>1.414531</td>\n",
       "      <td>0.086540</td>\n",
       "      <td>0.440858</td>\n",
       "      <td>0.656127</td>\n",
       "    </tr>\n",
       "    <tr>\n",
       "      <th>2000-01-07</th>\n",
       "      <td>0.468661</td>\n",
       "      <td>0.309367</td>\n",
       "      <td>0.719463</td>\n",
       "      <td>0.166206</td>\n",
       "    </tr>\n",
       "    <tr>\n",
       "      <th>2000-01-08</th>\n",
       "      <td>0.243909</td>\n",
       "      <td>0.550327</td>\n",
       "      <td>1.602469</td>\n",
       "      <td>0.489292</td>\n",
       "    </tr>\n",
       "  </tbody>\n",
       "</table>\n",
       "</div>"
      ],
      "text/plain": [
       "                   A         B         C         D\n",
       "2000-01-01  0.927409  1.309945  0.328484  0.213132\n",
       "2000-01-02  0.311254  1.438031  0.323003  0.177474\n",
       "2000-01-03  0.307470  1.385952  0.076684  0.603368\n",
       "2000-01-04  2.001820  0.198996  1.100771  0.251900\n",
       "2000-01-05  0.668264  1.659804  0.117562  1.209618\n",
       "2000-01-06  1.414531  0.086540  0.440858  0.656127\n",
       "2000-01-07  0.468661  0.309367  0.719463  0.166206\n",
       "2000-01-08  0.243909  0.550327  1.602469  0.489292"
      ]
     },
     "execution_count": 195,
     "metadata": {},
     "output_type": "execute_result"
    }
   ],
   "source": [
    "df_orig = df.copy()\n",
    "df_orig.where(df > 0, -df, inplace=True)\n",
    "df_orig"
   ]
  },
  {
   "cell_type": "markdown",
   "id": "0b481f7a",
   "metadata": {
    "papermill": {
     "duration": 0.070928,
     "end_time": "2022-09-28T11:48:12.807562",
     "exception": false,
     "start_time": "2022-09-28T11:48:12.736634",
     "status": "completed"
    },
    "tags": []
   },
   "source": [
    "> > ## ✍️ Note:\n",
    "> **The signature for DataFrame.where() differs from numpy.where(). Roughly df1.where(m, df2) is equivalent to np.where(m, df1, df2).**"
   ]
  },
  {
   "cell_type": "code",
   "execution_count": 196,
   "id": "f2d3a016",
   "metadata": {
    "execution": {
     "iopub.execute_input": "2022-09-28T11:48:12.995169Z",
     "iopub.status.busy": "2022-09-28T11:48:12.994817Z",
     "iopub.status.idle": "2022-09-28T11:48:13.008176Z",
     "shell.execute_reply": "2022-09-28T11:48:13.007284Z"
    },
    "papermill": {
     "duration": 0.131316,
     "end_time": "2022-09-28T11:48:13.010137",
     "exception": false,
     "start_time": "2022-09-28T11:48:12.878821",
     "status": "completed"
    },
    "tags": []
   },
   "outputs": [
    {
     "data": {
      "text/html": [
       "<div>\n",
       "<style scoped>\n",
       "    .dataframe tbody tr th:only-of-type {\n",
       "        vertical-align: middle;\n",
       "    }\n",
       "\n",
       "    .dataframe tbody tr th {\n",
       "        vertical-align: top;\n",
       "    }\n",
       "\n",
       "    .dataframe thead th {\n",
       "        text-align: right;\n",
       "    }\n",
       "</style>\n",
       "<table border=\"1\" class=\"dataframe\">\n",
       "  <thead>\n",
       "    <tr style=\"text-align: right;\">\n",
       "      <th></th>\n",
       "      <th>A</th>\n",
       "      <th>B</th>\n",
       "      <th>C</th>\n",
       "      <th>D</th>\n",
       "    </tr>\n",
       "  </thead>\n",
       "  <tbody>\n",
       "    <tr>\n",
       "      <th>2000-01-01</th>\n",
       "      <td>True</td>\n",
       "      <td>True</td>\n",
       "      <td>True</td>\n",
       "      <td>True</td>\n",
       "    </tr>\n",
       "    <tr>\n",
       "      <th>2000-01-02</th>\n",
       "      <td>True</td>\n",
       "      <td>True</td>\n",
       "      <td>True</td>\n",
       "      <td>True</td>\n",
       "    </tr>\n",
       "    <tr>\n",
       "      <th>2000-01-03</th>\n",
       "      <td>True</td>\n",
       "      <td>True</td>\n",
       "      <td>True</td>\n",
       "      <td>True</td>\n",
       "    </tr>\n",
       "    <tr>\n",
       "      <th>2000-01-04</th>\n",
       "      <td>True</td>\n",
       "      <td>True</td>\n",
       "      <td>True</td>\n",
       "      <td>True</td>\n",
       "    </tr>\n",
       "    <tr>\n",
       "      <th>2000-01-05</th>\n",
       "      <td>True</td>\n",
       "      <td>True</td>\n",
       "      <td>True</td>\n",
       "      <td>True</td>\n",
       "    </tr>\n",
       "    <tr>\n",
       "      <th>2000-01-06</th>\n",
       "      <td>True</td>\n",
       "      <td>True</td>\n",
       "      <td>True</td>\n",
       "      <td>True</td>\n",
       "    </tr>\n",
       "    <tr>\n",
       "      <th>2000-01-07</th>\n",
       "      <td>True</td>\n",
       "      <td>True</td>\n",
       "      <td>True</td>\n",
       "      <td>True</td>\n",
       "    </tr>\n",
       "    <tr>\n",
       "      <th>2000-01-08</th>\n",
       "      <td>True</td>\n",
       "      <td>True</td>\n",
       "      <td>True</td>\n",
       "      <td>True</td>\n",
       "    </tr>\n",
       "  </tbody>\n",
       "</table>\n",
       "</div>"
      ],
      "text/plain": [
       "               A     B     C     D\n",
       "2000-01-01  True  True  True  True\n",
       "2000-01-02  True  True  True  True\n",
       "2000-01-03  True  True  True  True\n",
       "2000-01-04  True  True  True  True\n",
       "2000-01-05  True  True  True  True\n",
       "2000-01-06  True  True  True  True\n",
       "2000-01-07  True  True  True  True\n",
       "2000-01-08  True  True  True  True"
      ]
     },
     "execution_count": 196,
     "metadata": {},
     "output_type": "execute_result"
    }
   ],
   "source": [
    "df.where(df < 0, -df) == np.where(df < 0, df, -df)"
   ]
  },
  {
   "cell_type": "markdown",
   "id": "9a6df25e",
   "metadata": {
    "papermill": {
     "duration": 0.071314,
     "end_time": "2022-09-28T11:48:13.153819",
     "exception": false,
     "start_time": "2022-09-28T11:48:13.082505",
     "status": "completed"
    },
    "tags": []
   },
   "source": [
    "#### The where() Method and Masking | Alignment\n",
    "\n",
    "- Furthermore, where aligns the input boolean condition (ndarray or DataFrame), such that partial selection with setting is possible. This is analogous to partial setting via .loc (but on the contents rather than the axis labels)."
   ]
  },
  {
   "cell_type": "code",
   "execution_count": 197,
   "id": "fc2df7c0",
   "metadata": {
    "execution": {
     "iopub.execute_input": "2022-09-28T11:48:13.311477Z",
     "iopub.status.busy": "2022-09-28T11:48:13.310502Z",
     "iopub.status.idle": "2022-09-28T11:48:13.324555Z",
     "shell.execute_reply": "2022-09-28T11:48:13.323563Z"
    },
    "papermill": {
     "duration": 0.08954,
     "end_time": "2022-09-28T11:48:13.326556",
     "exception": false,
     "start_time": "2022-09-28T11:48:13.237016",
     "status": "completed"
    },
    "tags": []
   },
   "outputs": [
    {
     "data": {
      "text/html": [
       "<div>\n",
       "<style scoped>\n",
       "    .dataframe tbody tr th:only-of-type {\n",
       "        vertical-align: middle;\n",
       "    }\n",
       "\n",
       "    .dataframe tbody tr th {\n",
       "        vertical-align: top;\n",
       "    }\n",
       "\n",
       "    .dataframe thead th {\n",
       "        text-align: right;\n",
       "    }\n",
       "</style>\n",
       "<table border=\"1\" class=\"dataframe\">\n",
       "  <thead>\n",
       "    <tr style=\"text-align: right;\">\n",
       "      <th></th>\n",
       "      <th>A</th>\n",
       "      <th>B</th>\n",
       "      <th>C</th>\n",
       "      <th>D</th>\n",
       "    </tr>\n",
       "  </thead>\n",
       "  <tbody>\n",
       "    <tr>\n",
       "      <th>2000-01-01</th>\n",
       "      <td>-0.927409</td>\n",
       "      <td>1.309945</td>\n",
       "      <td>-0.328484</td>\n",
       "      <td>0.213132</td>\n",
       "    </tr>\n",
       "    <tr>\n",
       "      <th>2000-01-02</th>\n",
       "      <td>-0.311254</td>\n",
       "      <td>-1.438031</td>\n",
       "      <td>3.000000</td>\n",
       "      <td>3.000000</td>\n",
       "    </tr>\n",
       "    <tr>\n",
       "      <th>2000-01-03</th>\n",
       "      <td>-0.307470</td>\n",
       "      <td>-1.385952</td>\n",
       "      <td>-0.076684</td>\n",
       "      <td>3.000000</td>\n",
       "    </tr>\n",
       "    <tr>\n",
       "      <th>2000-01-04</th>\n",
       "      <td>-2.001820</td>\n",
       "      <td>-0.198996</td>\n",
       "      <td>-1.100771</td>\n",
       "      <td>3.000000</td>\n",
       "    </tr>\n",
       "    <tr>\n",
       "      <th>2000-01-05</th>\n",
       "      <td>-0.668264</td>\n",
       "      <td>-1.659804</td>\n",
       "      <td>0.117562</td>\n",
       "      <td>1.209618</td>\n",
       "    </tr>\n",
       "    <tr>\n",
       "      <th>2000-01-06</th>\n",
       "      <td>-1.414531</td>\n",
       "      <td>-0.086540</td>\n",
       "      <td>-0.440858</td>\n",
       "      <td>-0.656127</td>\n",
       "    </tr>\n",
       "    <tr>\n",
       "      <th>2000-01-07</th>\n",
       "      <td>0.468661</td>\n",
       "      <td>0.309367</td>\n",
       "      <td>-0.719463</td>\n",
       "      <td>0.166206</td>\n",
       "    </tr>\n",
       "    <tr>\n",
       "      <th>2000-01-08</th>\n",
       "      <td>0.243909</td>\n",
       "      <td>-0.550327</td>\n",
       "      <td>-1.602469</td>\n",
       "      <td>-0.489292</td>\n",
       "    </tr>\n",
       "  </tbody>\n",
       "</table>\n",
       "</div>"
      ],
      "text/plain": [
       "                   A         B         C         D\n",
       "2000-01-01 -0.927409  1.309945 -0.328484  0.213132\n",
       "2000-01-02 -0.311254 -1.438031  3.000000  3.000000\n",
       "2000-01-03 -0.307470 -1.385952 -0.076684  3.000000\n",
       "2000-01-04 -2.001820 -0.198996 -1.100771  3.000000\n",
       "2000-01-05 -0.668264 -1.659804  0.117562  1.209618\n",
       "2000-01-06 -1.414531 -0.086540 -0.440858 -0.656127\n",
       "2000-01-07  0.468661  0.309367 -0.719463  0.166206\n",
       "2000-01-08  0.243909 -0.550327 -1.602469 -0.489292"
      ]
     },
     "execution_count": 197,
     "metadata": {},
     "output_type": "execute_result"
    }
   ],
   "source": [
    "df2 = df.copy()\n",
    "df2[df2[1:4] > 0] = 3\n",
    "df2"
   ]
  },
  {
   "cell_type": "markdown",
   "id": "f01c9a37",
   "metadata": {
    "papermill": {
     "duration": 0.071257,
     "end_time": "2022-09-28T11:48:13.470767",
     "exception": false,
     "start_time": "2022-09-28T11:48:13.399510",
     "status": "completed"
    },
    "tags": []
   },
   "source": [
    ">Where can also accept axis and level parameters to align the input when performing the where."
   ]
  },
  {
   "cell_type": "code",
   "execution_count": 198,
   "id": "f476c952",
   "metadata": {
    "execution": {
     "iopub.execute_input": "2022-09-28T11:48:13.615046Z",
     "iopub.status.busy": "2022-09-28T11:48:13.614032Z",
     "iopub.status.idle": "2022-09-28T11:48:13.627650Z",
     "shell.execute_reply": "2022-09-28T11:48:13.626669Z"
    },
    "papermill": {
     "duration": 0.087754,
     "end_time": "2022-09-28T11:48:13.629937",
     "exception": false,
     "start_time": "2022-09-28T11:48:13.542183",
     "status": "completed"
    },
    "tags": []
   },
   "outputs": [
    {
     "data": {
      "text/html": [
       "<div>\n",
       "<style scoped>\n",
       "    .dataframe tbody tr th:only-of-type {\n",
       "        vertical-align: middle;\n",
       "    }\n",
       "\n",
       "    .dataframe tbody tr th {\n",
       "        vertical-align: top;\n",
       "    }\n",
       "\n",
       "    .dataframe thead th {\n",
       "        text-align: right;\n",
       "    }\n",
       "</style>\n",
       "<table border=\"1\" class=\"dataframe\">\n",
       "  <thead>\n",
       "    <tr style=\"text-align: right;\">\n",
       "      <th></th>\n",
       "      <th>A</th>\n",
       "      <th>B</th>\n",
       "      <th>C</th>\n",
       "      <th>D</th>\n",
       "    </tr>\n",
       "  </thead>\n",
       "  <tbody>\n",
       "    <tr>\n",
       "      <th>2000-01-01</th>\n",
       "      <td>-0.927409</td>\n",
       "      <td>1.309945</td>\n",
       "      <td>-0.927409</td>\n",
       "      <td>0.213132</td>\n",
       "    </tr>\n",
       "    <tr>\n",
       "      <th>2000-01-02</th>\n",
       "      <td>-0.311254</td>\n",
       "      <td>-0.311254</td>\n",
       "      <td>0.323003</td>\n",
       "      <td>0.177474</td>\n",
       "    </tr>\n",
       "    <tr>\n",
       "      <th>2000-01-03</th>\n",
       "      <td>-0.307470</td>\n",
       "      <td>-0.307470</td>\n",
       "      <td>-0.307470</td>\n",
       "      <td>0.603368</td>\n",
       "    </tr>\n",
       "    <tr>\n",
       "      <th>2000-01-04</th>\n",
       "      <td>-2.001820</td>\n",
       "      <td>-2.001820</td>\n",
       "      <td>-2.001820</td>\n",
       "      <td>0.251900</td>\n",
       "    </tr>\n",
       "    <tr>\n",
       "      <th>2000-01-05</th>\n",
       "      <td>-0.668264</td>\n",
       "      <td>-0.668264</td>\n",
       "      <td>0.117562</td>\n",
       "      <td>1.209618</td>\n",
       "    </tr>\n",
       "    <tr>\n",
       "      <th>2000-01-06</th>\n",
       "      <td>-1.414531</td>\n",
       "      <td>-1.414531</td>\n",
       "      <td>-1.414531</td>\n",
       "      <td>-1.414531</td>\n",
       "    </tr>\n",
       "    <tr>\n",
       "      <th>2000-01-07</th>\n",
       "      <td>0.468661</td>\n",
       "      <td>0.309367</td>\n",
       "      <td>0.468661</td>\n",
       "      <td>0.166206</td>\n",
       "    </tr>\n",
       "    <tr>\n",
       "      <th>2000-01-08</th>\n",
       "      <td>0.243909</td>\n",
       "      <td>0.243909</td>\n",
       "      <td>0.243909</td>\n",
       "      <td>0.243909</td>\n",
       "    </tr>\n",
       "  </tbody>\n",
       "</table>\n",
       "</div>"
      ],
      "text/plain": [
       "                   A         B         C         D\n",
       "2000-01-01 -0.927409  1.309945 -0.927409  0.213132\n",
       "2000-01-02 -0.311254 -0.311254  0.323003  0.177474\n",
       "2000-01-03 -0.307470 -0.307470 -0.307470  0.603368\n",
       "2000-01-04 -2.001820 -2.001820 -2.001820  0.251900\n",
       "2000-01-05 -0.668264 -0.668264  0.117562  1.209618\n",
       "2000-01-06 -1.414531 -1.414531 -1.414531 -1.414531\n",
       "2000-01-07  0.468661  0.309367  0.468661  0.166206\n",
       "2000-01-08  0.243909  0.243909  0.243909  0.243909"
      ]
     },
     "execution_count": 198,
     "metadata": {},
     "output_type": "execute_result"
    }
   ],
   "source": [
    "df2 = df.copy()\n",
    "df2.where(df2 > 0, df2['A'], axis='index')"
   ]
  },
  {
   "cell_type": "markdown",
   "id": "5ead6a77",
   "metadata": {
    "papermill": {
     "duration": 0.071453,
     "end_time": "2022-09-28T11:48:13.776870",
     "exception": false,
     "start_time": "2022-09-28T11:48:13.705417",
     "status": "completed"
    },
    "tags": []
   },
   "source": [
    ">This is equivalent to (but faster than) the following."
   ]
  },
  {
   "cell_type": "code",
   "execution_count": 199,
   "id": "90be6585",
   "metadata": {
    "execution": {
     "iopub.execute_input": "2022-09-28T11:48:13.923201Z",
     "iopub.status.busy": "2022-09-28T11:48:13.922847Z",
     "iopub.status.idle": "2022-09-28T11:48:13.940334Z",
     "shell.execute_reply": "2022-09-28T11:48:13.939342Z"
    },
    "papermill": {
     "duration": 0.09285,
     "end_time": "2022-09-28T11:48:13.942516",
     "exception": false,
     "start_time": "2022-09-28T11:48:13.849666",
     "status": "completed"
    },
    "tags": []
   },
   "outputs": [
    {
     "data": {
      "text/html": [
       "<div>\n",
       "<style scoped>\n",
       "    .dataframe tbody tr th:only-of-type {\n",
       "        vertical-align: middle;\n",
       "    }\n",
       "\n",
       "    .dataframe tbody tr th {\n",
       "        vertical-align: top;\n",
       "    }\n",
       "\n",
       "    .dataframe thead th {\n",
       "        text-align: right;\n",
       "    }\n",
       "</style>\n",
       "<table border=\"1\" class=\"dataframe\">\n",
       "  <thead>\n",
       "    <tr style=\"text-align: right;\">\n",
       "      <th></th>\n",
       "      <th>A</th>\n",
       "      <th>B</th>\n",
       "      <th>C</th>\n",
       "      <th>D</th>\n",
       "    </tr>\n",
       "  </thead>\n",
       "  <tbody>\n",
       "    <tr>\n",
       "      <th>2000-01-01</th>\n",
       "      <td>-0.927409</td>\n",
       "      <td>1.309945</td>\n",
       "      <td>-0.927409</td>\n",
       "      <td>0.213132</td>\n",
       "    </tr>\n",
       "    <tr>\n",
       "      <th>2000-01-02</th>\n",
       "      <td>-0.311254</td>\n",
       "      <td>-0.311254</td>\n",
       "      <td>0.323003</td>\n",
       "      <td>0.177474</td>\n",
       "    </tr>\n",
       "    <tr>\n",
       "      <th>2000-01-03</th>\n",
       "      <td>-0.307470</td>\n",
       "      <td>-0.307470</td>\n",
       "      <td>-0.307470</td>\n",
       "      <td>0.603368</td>\n",
       "    </tr>\n",
       "    <tr>\n",
       "      <th>2000-01-04</th>\n",
       "      <td>-2.001820</td>\n",
       "      <td>-2.001820</td>\n",
       "      <td>-2.001820</td>\n",
       "      <td>0.251900</td>\n",
       "    </tr>\n",
       "    <tr>\n",
       "      <th>2000-01-05</th>\n",
       "      <td>-0.668264</td>\n",
       "      <td>-0.668264</td>\n",
       "      <td>0.117562</td>\n",
       "      <td>1.209618</td>\n",
       "    </tr>\n",
       "    <tr>\n",
       "      <th>2000-01-06</th>\n",
       "      <td>-1.414531</td>\n",
       "      <td>-1.414531</td>\n",
       "      <td>-1.414531</td>\n",
       "      <td>-1.414531</td>\n",
       "    </tr>\n",
       "    <tr>\n",
       "      <th>2000-01-07</th>\n",
       "      <td>0.468661</td>\n",
       "      <td>0.309367</td>\n",
       "      <td>0.468661</td>\n",
       "      <td>0.166206</td>\n",
       "    </tr>\n",
       "    <tr>\n",
       "      <th>2000-01-08</th>\n",
       "      <td>0.243909</td>\n",
       "      <td>0.243909</td>\n",
       "      <td>0.243909</td>\n",
       "      <td>0.243909</td>\n",
       "    </tr>\n",
       "  </tbody>\n",
       "</table>\n",
       "</div>"
      ],
      "text/plain": [
       "                   A         B         C         D\n",
       "2000-01-01 -0.927409  1.309945 -0.927409  0.213132\n",
       "2000-01-02 -0.311254 -0.311254  0.323003  0.177474\n",
       "2000-01-03 -0.307470 -0.307470 -0.307470  0.603368\n",
       "2000-01-04 -2.001820 -2.001820 -2.001820  0.251900\n",
       "2000-01-05 -0.668264 -0.668264  0.117562  1.209618\n",
       "2000-01-06 -1.414531 -1.414531 -1.414531 -1.414531\n",
       "2000-01-07  0.468661  0.309367  0.468661  0.166206\n",
       "2000-01-08  0.243909  0.243909  0.243909  0.243909"
      ]
     },
     "execution_count": 199,
     "metadata": {},
     "output_type": "execute_result"
    }
   ],
   "source": [
    "df2 = df.copy()\n",
    "df.apply(lambda x, y: x.where(x > 0, y), y=df['A'])"
   ]
  },
  {
   "cell_type": "markdown",
   "id": "8f6addc1",
   "metadata": {
    "papermill": {
     "duration": 0.072238,
     "end_time": "2022-09-28T11:48:14.089829",
     "exception": false,
     "start_time": "2022-09-28T11:48:14.017591",
     "status": "completed"
    },
    "tags": []
   },
   "source": [
    "where can accept a callable as condition and other arguments. The function must be with one argument (the calling Series or DataFrame) and that returns valid output as condition and other argument."
   ]
  },
  {
   "cell_type": "code",
   "execution_count": 200,
   "id": "1a678532",
   "metadata": {
    "execution": {
     "iopub.execute_input": "2022-09-28T11:48:14.237445Z",
     "iopub.status.busy": "2022-09-28T11:48:14.237088Z",
     "iopub.status.idle": "2022-09-28T11:48:14.250123Z",
     "shell.execute_reply": "2022-09-28T11:48:14.249161Z"
    },
    "papermill": {
     "duration": 0.089744,
     "end_time": "2022-09-28T11:48:14.252154",
     "exception": false,
     "start_time": "2022-09-28T11:48:14.162410",
     "status": "completed"
    },
    "tags": []
   },
   "outputs": [
    {
     "data": {
      "text/html": [
       "<div>\n",
       "<style scoped>\n",
       "    .dataframe tbody tr th:only-of-type {\n",
       "        vertical-align: middle;\n",
       "    }\n",
       "\n",
       "    .dataframe tbody tr th {\n",
       "        vertical-align: top;\n",
       "    }\n",
       "\n",
       "    .dataframe thead th {\n",
       "        text-align: right;\n",
       "    }\n",
       "</style>\n",
       "<table border=\"1\" class=\"dataframe\">\n",
       "  <thead>\n",
       "    <tr style=\"text-align: right;\">\n",
       "      <th></th>\n",
       "      <th>A</th>\n",
       "      <th>B</th>\n",
       "      <th>C</th>\n",
       "    </tr>\n",
       "  </thead>\n",
       "  <tbody>\n",
       "    <tr>\n",
       "      <th>0</th>\n",
       "      <td>11</td>\n",
       "      <td>14</td>\n",
       "      <td>7</td>\n",
       "    </tr>\n",
       "    <tr>\n",
       "      <th>1</th>\n",
       "      <td>12</td>\n",
       "      <td>5</td>\n",
       "      <td>8</td>\n",
       "    </tr>\n",
       "    <tr>\n",
       "      <th>2</th>\n",
       "      <td>13</td>\n",
       "      <td>6</td>\n",
       "      <td>9</td>\n",
       "    </tr>\n",
       "  </tbody>\n",
       "</table>\n",
       "</div>"
      ],
      "text/plain": [
       "    A   B  C\n",
       "0  11  14  7\n",
       "1  12   5  8\n",
       "2  13   6  9"
      ]
     },
     "execution_count": 200,
     "metadata": {},
     "output_type": "execute_result"
    }
   ],
   "source": [
    "df3 = pd.DataFrame({'A': [1, 2, 3],\n",
    "   .....:                     'B': [4, 5, 6],\n",
    "   .....:                     'C': [7, 8, 9]})\n",
    "df3.where(lambda x: x > 4, lambda x: x + 10)"
   ]
  },
  {
   "cell_type": "markdown",
   "id": "79cceefc",
   "metadata": {
    "papermill": {
     "duration": 0.072025,
     "end_time": "2022-09-28T11:48:14.397321",
     "exception": false,
     "start_time": "2022-09-28T11:48:14.325296",
     "status": "completed"
    },
    "tags": []
   },
   "source": [
    "> ## MASK:\n",
    "> ##### mask() is the inverse boolean operation of where."
   ]
  },
  {
   "cell_type": "code",
   "execution_count": 201,
   "id": "ac9411fa",
   "metadata": {
    "execution": {
     "iopub.execute_input": "2022-09-28T11:48:14.544023Z",
     "iopub.status.busy": "2022-09-28T11:48:14.543670Z",
     "iopub.status.idle": "2022-09-28T11:48:14.551771Z",
     "shell.execute_reply": "2022-09-28T11:48:14.550853Z"
    },
    "papermill": {
     "duration": 0.083077,
     "end_time": "2022-09-28T11:48:14.553642",
     "exception": false,
     "start_time": "2022-09-28T11:48:14.470565",
     "status": "completed"
    },
    "tags": []
   },
   "outputs": [
    {
     "data": {
      "text/plain": [
       "4   NaN\n",
       "3   NaN\n",
       "2   NaN\n",
       "1   NaN\n",
       "0   NaN\n",
       "dtype: float64"
      ]
     },
     "execution_count": 201,
     "metadata": {},
     "output_type": "execute_result"
    }
   ],
   "source": [
    "s.mask(s >= 0)"
   ]
  },
  {
   "cell_type": "code",
   "execution_count": 202,
   "id": "38e87ee9",
   "metadata": {
    "execution": {
     "iopub.execute_input": "2022-09-28T11:48:14.701651Z",
     "iopub.status.busy": "2022-09-28T11:48:14.701273Z",
     "iopub.status.idle": "2022-09-28T11:48:14.715640Z",
     "shell.execute_reply": "2022-09-28T11:48:14.714668Z"
    },
    "papermill": {
     "duration": 0.090546,
     "end_time": "2022-09-28T11:48:14.717663",
     "exception": false,
     "start_time": "2022-09-28T11:48:14.627117",
     "status": "completed"
    },
    "tags": []
   },
   "outputs": [
    {
     "data": {
      "text/html": [
       "<div>\n",
       "<style scoped>\n",
       "    .dataframe tbody tr th:only-of-type {\n",
       "        vertical-align: middle;\n",
       "    }\n",
       "\n",
       "    .dataframe tbody tr th {\n",
       "        vertical-align: top;\n",
       "    }\n",
       "\n",
       "    .dataframe thead th {\n",
       "        text-align: right;\n",
       "    }\n",
       "</style>\n",
       "<table border=\"1\" class=\"dataframe\">\n",
       "  <thead>\n",
       "    <tr style=\"text-align: right;\">\n",
       "      <th></th>\n",
       "      <th>A</th>\n",
       "      <th>B</th>\n",
       "      <th>C</th>\n",
       "      <th>D</th>\n",
       "    </tr>\n",
       "  </thead>\n",
       "  <tbody>\n",
       "    <tr>\n",
       "      <th>2000-01-01</th>\n",
       "      <td>-0.927409</td>\n",
       "      <td>NaN</td>\n",
       "      <td>-0.328484</td>\n",
       "      <td>NaN</td>\n",
       "    </tr>\n",
       "    <tr>\n",
       "      <th>2000-01-02</th>\n",
       "      <td>-0.311254</td>\n",
       "      <td>-1.438031</td>\n",
       "      <td>NaN</td>\n",
       "      <td>NaN</td>\n",
       "    </tr>\n",
       "    <tr>\n",
       "      <th>2000-01-03</th>\n",
       "      <td>-0.307470</td>\n",
       "      <td>-1.385952</td>\n",
       "      <td>-0.076684</td>\n",
       "      <td>NaN</td>\n",
       "    </tr>\n",
       "    <tr>\n",
       "      <th>2000-01-04</th>\n",
       "      <td>-2.001820</td>\n",
       "      <td>-0.198996</td>\n",
       "      <td>-1.100771</td>\n",
       "      <td>NaN</td>\n",
       "    </tr>\n",
       "    <tr>\n",
       "      <th>2000-01-05</th>\n",
       "      <td>-0.668264</td>\n",
       "      <td>-1.659804</td>\n",
       "      <td>NaN</td>\n",
       "      <td>NaN</td>\n",
       "    </tr>\n",
       "    <tr>\n",
       "      <th>2000-01-06</th>\n",
       "      <td>-1.414531</td>\n",
       "      <td>-0.086540</td>\n",
       "      <td>-0.440858</td>\n",
       "      <td>-0.656127</td>\n",
       "    </tr>\n",
       "    <tr>\n",
       "      <th>2000-01-07</th>\n",
       "      <td>NaN</td>\n",
       "      <td>NaN</td>\n",
       "      <td>-0.719463</td>\n",
       "      <td>NaN</td>\n",
       "    </tr>\n",
       "    <tr>\n",
       "      <th>2000-01-08</th>\n",
       "      <td>NaN</td>\n",
       "      <td>-0.550327</td>\n",
       "      <td>-1.602469</td>\n",
       "      <td>-0.489292</td>\n",
       "    </tr>\n",
       "  </tbody>\n",
       "</table>\n",
       "</div>"
      ],
      "text/plain": [
       "                   A         B         C         D\n",
       "2000-01-01 -0.927409       NaN -0.328484       NaN\n",
       "2000-01-02 -0.311254 -1.438031       NaN       NaN\n",
       "2000-01-03 -0.307470 -1.385952 -0.076684       NaN\n",
       "2000-01-04 -2.001820 -0.198996 -1.100771       NaN\n",
       "2000-01-05 -0.668264 -1.659804       NaN       NaN\n",
       "2000-01-06 -1.414531 -0.086540 -0.440858 -0.656127\n",
       "2000-01-07       NaN       NaN -0.719463       NaN\n",
       "2000-01-08       NaN -0.550327 -1.602469 -0.489292"
      ]
     },
     "execution_count": 202,
     "metadata": {},
     "output_type": "execute_result"
    }
   ],
   "source": [
    "df.mask(df >= 0)"
   ]
  },
  {
   "cell_type": "markdown",
   "id": "c2094907",
   "metadata": {
    "papermill": {
     "duration": 0.072949,
     "end_time": "2022-09-28T11:48:14.863921",
     "exception": false,
     "start_time": "2022-09-28T11:48:14.790972",
     "status": "completed"
    },
    "tags": []
   },
   "source": [
    "## The query() Method:\n",
    "- DataFrame objects have a query() method that allows selection using an expression.\n",
    "\n",
    "- You can get the value of the frame where column b has values between the values of columns a and c. For example:"
   ]
  },
  {
   "cell_type": "code",
   "execution_count": 203,
   "id": "0b614721",
   "metadata": {
    "execution": {
     "iopub.execute_input": "2022-09-28T11:48:15.011312Z",
     "iopub.status.busy": "2022-09-28T11:48:15.010340Z",
     "iopub.status.idle": "2022-09-28T11:48:15.022285Z",
     "shell.execute_reply": "2022-09-28T11:48:15.021318Z"
    },
    "papermill": {
     "duration": 0.087828,
     "end_time": "2022-09-28T11:48:15.024300",
     "exception": false,
     "start_time": "2022-09-28T11:48:14.936472",
     "status": "completed"
    },
    "tags": []
   },
   "outputs": [
    {
     "data": {
      "text/html": [
       "<div>\n",
       "<style scoped>\n",
       "    .dataframe tbody tr th:only-of-type {\n",
       "        vertical-align: middle;\n",
       "    }\n",
       "\n",
       "    .dataframe tbody tr th {\n",
       "        vertical-align: top;\n",
       "    }\n",
       "\n",
       "    .dataframe thead th {\n",
       "        text-align: right;\n",
       "    }\n",
       "</style>\n",
       "<table border=\"1\" class=\"dataframe\">\n",
       "  <thead>\n",
       "    <tr style=\"text-align: right;\">\n",
       "      <th></th>\n",
       "      <th>a</th>\n",
       "      <th>b</th>\n",
       "      <th>c</th>\n",
       "    </tr>\n",
       "  </thead>\n",
       "  <tbody>\n",
       "    <tr>\n",
       "      <th>0</th>\n",
       "      <td>0.043411</td>\n",
       "      <td>0.520823</td>\n",
       "      <td>0.308649</td>\n",
       "    </tr>\n",
       "    <tr>\n",
       "      <th>1</th>\n",
       "      <td>0.034594</td>\n",
       "      <td>0.306898</td>\n",
       "      <td>0.178862</td>\n",
       "    </tr>\n",
       "    <tr>\n",
       "      <th>2</th>\n",
       "      <td>0.004436</td>\n",
       "      <td>0.071823</td>\n",
       "      <td>0.450213</td>\n",
       "    </tr>\n",
       "    <tr>\n",
       "      <th>3</th>\n",
       "      <td>0.196609</td>\n",
       "      <td>0.893189</td>\n",
       "      <td>0.377793</td>\n",
       "    </tr>\n",
       "    <tr>\n",
       "      <th>4</th>\n",
       "      <td>0.782856</td>\n",
       "      <td>0.727232</td>\n",
       "      <td>0.746718</td>\n",
       "    </tr>\n",
       "    <tr>\n",
       "      <th>5</th>\n",
       "      <td>0.066273</td>\n",
       "      <td>0.111495</td>\n",
       "      <td>0.466546</td>\n",
       "    </tr>\n",
       "    <tr>\n",
       "      <th>6</th>\n",
       "      <td>0.362229</td>\n",
       "      <td>0.563995</td>\n",
       "      <td>0.523420</td>\n",
       "    </tr>\n",
       "    <tr>\n",
       "      <th>7</th>\n",
       "      <td>0.910545</td>\n",
       "      <td>0.345318</td>\n",
       "      <td>0.893004</td>\n",
       "    </tr>\n",
       "    <tr>\n",
       "      <th>8</th>\n",
       "      <td>0.134872</td>\n",
       "      <td>0.351162</td>\n",
       "      <td>0.054927</td>\n",
       "    </tr>\n",
       "    <tr>\n",
       "      <th>9</th>\n",
       "      <td>0.682355</td>\n",
       "      <td>0.452773</td>\n",
       "      <td>0.464587</td>\n",
       "    </tr>\n",
       "  </tbody>\n",
       "</table>\n",
       "</div>"
      ],
      "text/plain": [
       "          a         b         c\n",
       "0  0.043411  0.520823  0.308649\n",
       "1  0.034594  0.306898  0.178862\n",
       "2  0.004436  0.071823  0.450213\n",
       "3  0.196609  0.893189  0.377793\n",
       "4  0.782856  0.727232  0.746718\n",
       "5  0.066273  0.111495  0.466546\n",
       "6  0.362229  0.563995  0.523420\n",
       "7  0.910545  0.345318  0.893004\n",
       "8  0.134872  0.351162  0.054927\n",
       "9  0.682355  0.452773  0.464587"
      ]
     },
     "execution_count": 203,
     "metadata": {},
     "output_type": "execute_result"
    }
   ],
   "source": [
    "n=10\n",
    "df = pd.DataFrame(np.random.rand(n, 3), columns=list('abc'))\n",
    "df"
   ]
  },
  {
   "cell_type": "code",
   "execution_count": 204,
   "id": "3bee8c33",
   "metadata": {
    "execution": {
     "iopub.execute_input": "2022-09-28T11:48:15.175098Z",
     "iopub.status.busy": "2022-09-28T11:48:15.174744Z",
     "iopub.status.idle": "2022-09-28T11:48:15.186471Z",
     "shell.execute_reply": "2022-09-28T11:48:15.185544Z"
    },
    "papermill": {
     "duration": 0.088588,
     "end_time": "2022-09-28T11:48:15.188451",
     "exception": false,
     "start_time": "2022-09-28T11:48:15.099863",
     "status": "completed"
    },
    "tags": []
   },
   "outputs": [
    {
     "data": {
      "text/html": [
       "<div>\n",
       "<style scoped>\n",
       "    .dataframe tbody tr th:only-of-type {\n",
       "        vertical-align: middle;\n",
       "    }\n",
       "\n",
       "    .dataframe tbody tr th {\n",
       "        vertical-align: top;\n",
       "    }\n",
       "\n",
       "    .dataframe thead th {\n",
       "        text-align: right;\n",
       "    }\n",
       "</style>\n",
       "<table border=\"1\" class=\"dataframe\">\n",
       "  <thead>\n",
       "    <tr style=\"text-align: right;\">\n",
       "      <th></th>\n",
       "      <th>a</th>\n",
       "      <th>b</th>\n",
       "      <th>c</th>\n",
       "    </tr>\n",
       "  </thead>\n",
       "  <tbody>\n",
       "    <tr>\n",
       "      <th>2</th>\n",
       "      <td>0.004436</td>\n",
       "      <td>0.071823</td>\n",
       "      <td>0.450213</td>\n",
       "    </tr>\n",
       "    <tr>\n",
       "      <th>5</th>\n",
       "      <td>0.066273</td>\n",
       "      <td>0.111495</td>\n",
       "      <td>0.466546</td>\n",
       "    </tr>\n",
       "  </tbody>\n",
       "</table>\n",
       "</div>"
      ],
      "text/plain": [
       "          a         b         c\n",
       "2  0.004436  0.071823  0.450213\n",
       "5  0.066273  0.111495  0.466546"
      ]
     },
     "execution_count": 204,
     "metadata": {},
     "output_type": "execute_result"
    }
   ],
   "source": [
    "df[(df['a'] < df['b']) & (df['b'] < df['c'])]      #Pure Python "
   ]
  },
  {
   "cell_type": "code",
   "execution_count": 205,
   "id": "355fe1db",
   "metadata": {
    "execution": {
     "iopub.execute_input": "2022-09-28T11:48:15.336753Z",
     "iopub.status.busy": "2022-09-28T11:48:15.336385Z",
     "iopub.status.idle": "2022-09-28T11:48:15.349516Z",
     "shell.execute_reply": "2022-09-28T11:48:15.348574Z"
    },
    "papermill": {
     "duration": 0.089507,
     "end_time": "2022-09-28T11:48:15.351559",
     "exception": false,
     "start_time": "2022-09-28T11:48:15.262052",
     "status": "completed"
    },
    "tags": []
   },
   "outputs": [
    {
     "data": {
      "text/html": [
       "<div>\n",
       "<style scoped>\n",
       "    .dataframe tbody tr th:only-of-type {\n",
       "        vertical-align: middle;\n",
       "    }\n",
       "\n",
       "    .dataframe tbody tr th {\n",
       "        vertical-align: top;\n",
       "    }\n",
       "\n",
       "    .dataframe thead th {\n",
       "        text-align: right;\n",
       "    }\n",
       "</style>\n",
       "<table border=\"1\" class=\"dataframe\">\n",
       "  <thead>\n",
       "    <tr style=\"text-align: right;\">\n",
       "      <th></th>\n",
       "      <th>a</th>\n",
       "      <th>b</th>\n",
       "      <th>c</th>\n",
       "    </tr>\n",
       "  </thead>\n",
       "  <tbody>\n",
       "    <tr>\n",
       "      <th>2</th>\n",
       "      <td>0.004436</td>\n",
       "      <td>0.071823</td>\n",
       "      <td>0.450213</td>\n",
       "    </tr>\n",
       "    <tr>\n",
       "      <th>5</th>\n",
       "      <td>0.066273</td>\n",
       "      <td>0.111495</td>\n",
       "      <td>0.466546</td>\n",
       "    </tr>\n",
       "  </tbody>\n",
       "</table>\n",
       "</div>"
      ],
      "text/plain": [
       "          a         b         c\n",
       "2  0.004436  0.071823  0.450213\n",
       "5  0.066273  0.111495  0.466546"
      ]
     },
     "execution_count": 205,
     "metadata": {},
     "output_type": "execute_result"
    }
   ],
   "source": [
    "df.query('(a < b) & (b < c)')          #QUERY"
   ]
  },
  {
   "cell_type": "markdown",
   "id": "a6f7e473",
   "metadata": {
    "papermill": {
     "duration": 0.12012,
     "end_time": "2022-09-28T11:48:15.545313",
     "exception": false,
     "start_time": "2022-09-28T11:48:15.425193",
     "status": "completed"
    },
    "tags": []
   },
   "source": [
    "> Do the same thing but fall back on a named index if there is no column with the name a."
   ]
  },
  {
   "cell_type": "code",
   "execution_count": 206,
   "id": "92fd8d38",
   "metadata": {
    "execution": {
     "iopub.execute_input": "2022-09-28T11:48:15.692318Z",
     "iopub.status.busy": "2022-09-28T11:48:15.691969Z",
     "iopub.status.idle": "2022-09-28T11:48:15.702215Z",
     "shell.execute_reply": "2022-09-28T11:48:15.701312Z"
    },
    "papermill": {
     "duration": 0.085846,
     "end_time": "2022-09-28T11:48:15.704231",
     "exception": false,
     "start_time": "2022-09-28T11:48:15.618385",
     "status": "completed"
    },
    "tags": []
   },
   "outputs": [
    {
     "data": {
      "text/html": [
       "<div>\n",
       "<style scoped>\n",
       "    .dataframe tbody tr th:only-of-type {\n",
       "        vertical-align: middle;\n",
       "    }\n",
       "\n",
       "    .dataframe tbody tr th {\n",
       "        vertical-align: top;\n",
       "    }\n",
       "\n",
       "    .dataframe thead th {\n",
       "        text-align: right;\n",
       "    }\n",
       "</style>\n",
       "<table border=\"1\" class=\"dataframe\">\n",
       "  <thead>\n",
       "    <tr style=\"text-align: right;\">\n",
       "      <th></th>\n",
       "      <th>b</th>\n",
       "      <th>c</th>\n",
       "    </tr>\n",
       "    <tr>\n",
       "      <th>a</th>\n",
       "      <th></th>\n",
       "      <th></th>\n",
       "    </tr>\n",
       "  </thead>\n",
       "  <tbody>\n",
       "    <tr>\n",
       "      <th>0</th>\n",
       "      <td>4</td>\n",
       "      <td>4</td>\n",
       "    </tr>\n",
       "    <tr>\n",
       "      <th>1</th>\n",
       "      <td>4</td>\n",
       "      <td>4</td>\n",
       "    </tr>\n",
       "    <tr>\n",
       "      <th>2</th>\n",
       "      <td>2</td>\n",
       "      <td>0</td>\n",
       "    </tr>\n",
       "    <tr>\n",
       "      <th>3</th>\n",
       "      <td>2</td>\n",
       "      <td>3</td>\n",
       "    </tr>\n",
       "    <tr>\n",
       "      <th>4</th>\n",
       "      <td>3</td>\n",
       "      <td>2</td>\n",
       "    </tr>\n",
       "    <tr>\n",
       "      <th>5</th>\n",
       "      <td>1</td>\n",
       "      <td>0</td>\n",
       "    </tr>\n",
       "    <tr>\n",
       "      <th>6</th>\n",
       "      <td>2</td>\n",
       "      <td>0</td>\n",
       "    </tr>\n",
       "    <tr>\n",
       "      <th>7</th>\n",
       "      <td>2</td>\n",
       "      <td>2</td>\n",
       "    </tr>\n",
       "    <tr>\n",
       "      <th>8</th>\n",
       "      <td>0</td>\n",
       "      <td>0</td>\n",
       "    </tr>\n",
       "    <tr>\n",
       "      <th>9</th>\n",
       "      <td>3</td>\n",
       "      <td>0</td>\n",
       "    </tr>\n",
       "  </tbody>\n",
       "</table>\n",
       "</div>"
      ],
      "text/plain": [
       "   b  c\n",
       "a      \n",
       "0  4  4\n",
       "1  4  4\n",
       "2  2  0\n",
       "3  2  3\n",
       "4  3  2\n",
       "5  1  0\n",
       "6  2  0\n",
       "7  2  2\n",
       "8  0  0\n",
       "9  3  0"
      ]
     },
     "execution_count": 206,
     "metadata": {},
     "output_type": "execute_result"
    }
   ],
   "source": [
    "df = pd.DataFrame(np.random.randint(n / 2, size=(n, 2)), columns=list('bc'))\n",
    "df.index.name = 'a'\n",
    "df"
   ]
  },
  {
   "cell_type": "code",
   "execution_count": 207,
   "id": "461ccc6b",
   "metadata": {
    "execution": {
     "iopub.execute_input": "2022-09-28T11:48:15.853007Z",
     "iopub.status.busy": "2022-09-28T11:48:15.852049Z",
     "iopub.status.idle": "2022-09-28T11:48:15.862942Z",
     "shell.execute_reply": "2022-09-28T11:48:15.861963Z"
    },
    "papermill": {
     "duration": 0.087592,
     "end_time": "2022-09-28T11:48:15.864903",
     "exception": false,
     "start_time": "2022-09-28T11:48:15.777311",
     "status": "completed"
    },
    "tags": []
   },
   "outputs": [
    {
     "data": {
      "text/html": [
       "<div>\n",
       "<style scoped>\n",
       "    .dataframe tbody tr th:only-of-type {\n",
       "        vertical-align: middle;\n",
       "    }\n",
       "\n",
       "    .dataframe tbody tr th {\n",
       "        vertical-align: top;\n",
       "    }\n",
       "\n",
       "    .dataframe thead th {\n",
       "        text-align: right;\n",
       "    }\n",
       "</style>\n",
       "<table border=\"1\" class=\"dataframe\">\n",
       "  <thead>\n",
       "    <tr style=\"text-align: right;\">\n",
       "      <th></th>\n",
       "      <th>b</th>\n",
       "      <th>c</th>\n",
       "    </tr>\n",
       "    <tr>\n",
       "      <th>a</th>\n",
       "      <th></th>\n",
       "      <th></th>\n",
       "    </tr>\n",
       "  </thead>\n",
       "  <tbody>\n",
       "  </tbody>\n",
       "</table>\n",
       "</div>"
      ],
      "text/plain": [
       "Empty DataFrame\n",
       "Columns: [b, c]\n",
       "Index: []"
      ]
     },
     "execution_count": 207,
     "metadata": {},
     "output_type": "execute_result"
    }
   ],
   "source": [
    "df.query('a < b and b < c')"
   ]
  },
  {
   "cell_type": "markdown",
   "id": "c23c211c",
   "metadata": {
    "papermill": {
     "duration": 0.074079,
     "end_time": "2022-09-28T11:48:16.012217",
     "exception": false,
     "start_time": "2022-09-28T11:48:15.938138",
     "status": "completed"
    },
    "tags": []
   },
   "source": [
    "If instead you don’t want to or cannot name your index, you can use the name index in your query expression:"
   ]
  },
  {
   "cell_type": "code",
   "execution_count": 208,
   "id": "67bc88a4",
   "metadata": {
    "execution": {
     "iopub.execute_input": "2022-09-28T11:48:16.161381Z",
     "iopub.status.busy": "2022-09-28T11:48:16.160659Z",
     "iopub.status.idle": "2022-09-28T11:48:16.170445Z",
     "shell.execute_reply": "2022-09-28T11:48:16.169567Z"
    },
    "papermill": {
     "duration": 0.08736,
     "end_time": "2022-09-28T11:48:16.172483",
     "exception": false,
     "start_time": "2022-09-28T11:48:16.085123",
     "status": "completed"
    },
    "tags": []
   },
   "outputs": [
    {
     "data": {
      "text/html": [
       "<div>\n",
       "<style scoped>\n",
       "    .dataframe tbody tr th:only-of-type {\n",
       "        vertical-align: middle;\n",
       "    }\n",
       "\n",
       "    .dataframe tbody tr th {\n",
       "        vertical-align: top;\n",
       "    }\n",
       "\n",
       "    .dataframe thead th {\n",
       "        text-align: right;\n",
       "    }\n",
       "</style>\n",
       "<table border=\"1\" class=\"dataframe\">\n",
       "  <thead>\n",
       "    <tr style=\"text-align: right;\">\n",
       "      <th></th>\n",
       "      <th>b</th>\n",
       "      <th>c</th>\n",
       "    </tr>\n",
       "  </thead>\n",
       "  <tbody>\n",
       "    <tr>\n",
       "      <th>0</th>\n",
       "      <td>5</td>\n",
       "      <td>6</td>\n",
       "    </tr>\n",
       "    <tr>\n",
       "      <th>1</th>\n",
       "      <td>7</td>\n",
       "      <td>9</td>\n",
       "    </tr>\n",
       "    <tr>\n",
       "      <th>2</th>\n",
       "      <td>4</td>\n",
       "      <td>2</td>\n",
       "    </tr>\n",
       "    <tr>\n",
       "      <th>3</th>\n",
       "      <td>5</td>\n",
       "      <td>0</td>\n",
       "    </tr>\n",
       "    <tr>\n",
       "      <th>4</th>\n",
       "      <td>2</td>\n",
       "      <td>9</td>\n",
       "    </tr>\n",
       "    <tr>\n",
       "      <th>5</th>\n",
       "      <td>3</td>\n",
       "      <td>8</td>\n",
       "    </tr>\n",
       "    <tr>\n",
       "      <th>6</th>\n",
       "      <td>4</td>\n",
       "      <td>8</td>\n",
       "    </tr>\n",
       "    <tr>\n",
       "      <th>7</th>\n",
       "      <td>4</td>\n",
       "      <td>6</td>\n",
       "    </tr>\n",
       "    <tr>\n",
       "      <th>8</th>\n",
       "      <td>4</td>\n",
       "      <td>0</td>\n",
       "    </tr>\n",
       "    <tr>\n",
       "      <th>9</th>\n",
       "      <td>2</td>\n",
       "      <td>8</td>\n",
       "    </tr>\n",
       "  </tbody>\n",
       "</table>\n",
       "</div>"
      ],
      "text/plain": [
       "   b  c\n",
       "0  5  6\n",
       "1  7  9\n",
       "2  4  2\n",
       "3  5  0\n",
       "4  2  9\n",
       "5  3  8\n",
       "6  4  8\n",
       "7  4  6\n",
       "8  4  0\n",
       "9  2  8"
      ]
     },
     "execution_count": 208,
     "metadata": {},
     "output_type": "execute_result"
    }
   ],
   "source": [
    "\n",
    "df = pd.DataFrame(np.random.randint(n, size=(n, 2)), columns=list('bc'))\n",
    "df"
   ]
  },
  {
   "cell_type": "code",
   "execution_count": 209,
   "id": "a8710292",
   "metadata": {
    "execution": {
     "iopub.execute_input": "2022-09-28T11:48:16.323716Z",
     "iopub.status.busy": "2022-09-28T11:48:16.322712Z",
     "iopub.status.idle": "2022-09-28T11:48:16.334628Z",
     "shell.execute_reply": "2022-09-28T11:48:16.333658Z"
    },
    "papermill": {
     "duration": 0.090191,
     "end_time": "2022-09-28T11:48:16.336656",
     "exception": false,
     "start_time": "2022-09-28T11:48:16.246465",
     "status": "completed"
    },
    "tags": []
   },
   "outputs": [
    {
     "data": {
      "text/html": [
       "<div>\n",
       "<style scoped>\n",
       "    .dataframe tbody tr th:only-of-type {\n",
       "        vertical-align: middle;\n",
       "    }\n",
       "\n",
       "    .dataframe tbody tr th {\n",
       "        vertical-align: top;\n",
       "    }\n",
       "\n",
       "    .dataframe thead th {\n",
       "        text-align: right;\n",
       "    }\n",
       "</style>\n",
       "<table border=\"1\" class=\"dataframe\">\n",
       "  <thead>\n",
       "    <tr style=\"text-align: right;\">\n",
       "      <th></th>\n",
       "      <th>b</th>\n",
       "      <th>c</th>\n",
       "    </tr>\n",
       "  </thead>\n",
       "  <tbody>\n",
       "    <tr>\n",
       "      <th>0</th>\n",
       "      <td>5</td>\n",
       "      <td>6</td>\n",
       "    </tr>\n",
       "    <tr>\n",
       "      <th>1</th>\n",
       "      <td>7</td>\n",
       "      <td>9</td>\n",
       "    </tr>\n",
       "  </tbody>\n",
       "</table>\n",
       "</div>"
      ],
      "text/plain": [
       "   b  c\n",
       "0  5  6\n",
       "1  7  9"
      ]
     },
     "execution_count": 209,
     "metadata": {},
     "output_type": "execute_result"
    }
   ],
   "source": [
    "df.query('index < b < c')"
   ]
  },
  {
   "cell_type": "markdown",
   "id": "435de65e",
   "metadata": {
    "papermill": {
     "duration": 0.073556,
     "end_time": "2022-09-28T11:48:16.485057",
     "exception": false,
     "start_time": "2022-09-28T11:48:16.411501",
     "status": "completed"
    },
    "tags": []
   },
   "source": [
    "> > ## ✍️ Note:\n",
    "If the name of your index overlaps with a column name, the column name is given precedence. For example,"
   ]
  },
  {
   "cell_type": "code",
   "execution_count": 210,
   "id": "4f8d4983",
   "metadata": {
    "execution": {
     "iopub.execute_input": "2022-09-28T11:48:16.635771Z",
     "iopub.status.busy": "2022-09-28T11:48:16.634687Z",
     "iopub.status.idle": "2022-09-28T11:48:16.647453Z",
     "shell.execute_reply": "2022-09-28T11:48:16.646472Z"
    },
    "papermill": {
     "duration": 0.089485,
     "end_time": "2022-09-28T11:48:16.649461",
     "exception": false,
     "start_time": "2022-09-28T11:48:16.559976",
     "status": "completed"
    },
    "tags": []
   },
   "outputs": [
    {
     "data": {
      "text/html": [
       "<div>\n",
       "<style scoped>\n",
       "    .dataframe tbody tr th:only-of-type {\n",
       "        vertical-align: middle;\n",
       "    }\n",
       "\n",
       "    .dataframe tbody tr th {\n",
       "        vertical-align: top;\n",
       "    }\n",
       "\n",
       "    .dataframe thead th {\n",
       "        text-align: right;\n",
       "    }\n",
       "</style>\n",
       "<table border=\"1\" class=\"dataframe\">\n",
       "  <thead>\n",
       "    <tr style=\"text-align: right;\">\n",
       "      <th></th>\n",
       "      <th>a</th>\n",
       "    </tr>\n",
       "    <tr>\n",
       "      <th>a</th>\n",
       "      <th></th>\n",
       "    </tr>\n",
       "  </thead>\n",
       "  <tbody>\n",
       "    <tr>\n",
       "      <th>2</th>\n",
       "      <td>4</td>\n",
       "    </tr>\n",
       "    <tr>\n",
       "      <th>3</th>\n",
       "      <td>3</td>\n",
       "    </tr>\n",
       "  </tbody>\n",
       "</table>\n",
       "</div>"
      ],
      "text/plain": [
       "   a\n",
       "a   \n",
       "2  4\n",
       "3  3"
      ]
     },
     "execution_count": 210,
     "metadata": {},
     "output_type": "execute_result"
    }
   ],
   "source": [
    "df = pd.DataFrame({'a': np.random.randint(5, size=5)})\n",
    "df.index.name = 'a'\n",
    "df.query('a > 2')  # uses the column 'a', not the index"
   ]
  },
  {
   "cell_type": "code",
   "execution_count": 211,
   "id": "5186d923",
   "metadata": {
    "execution": {
     "iopub.execute_input": "2022-09-28T11:48:16.799532Z",
     "iopub.status.busy": "2022-09-28T11:48:16.799120Z",
     "iopub.status.idle": "2022-09-28T11:48:16.810014Z",
     "shell.execute_reply": "2022-09-28T11:48:16.809114Z"
    },
    "papermill": {
     "duration": 0.088744,
     "end_time": "2022-09-28T11:48:16.811887",
     "exception": false,
     "start_time": "2022-09-28T11:48:16.723143",
     "status": "completed"
    },
    "tags": []
   },
   "outputs": [
    {
     "data": {
      "text/html": [
       "<div>\n",
       "<style scoped>\n",
       "    .dataframe tbody tr th:only-of-type {\n",
       "        vertical-align: middle;\n",
       "    }\n",
       "\n",
       "    .dataframe tbody tr th {\n",
       "        vertical-align: top;\n",
       "    }\n",
       "\n",
       "    .dataframe thead th {\n",
       "        text-align: right;\n",
       "    }\n",
       "</style>\n",
       "<table border=\"1\" class=\"dataframe\">\n",
       "  <thead>\n",
       "    <tr style=\"text-align: right;\">\n",
       "      <th></th>\n",
       "      <th>a</th>\n",
       "    </tr>\n",
       "    <tr>\n",
       "      <th>a</th>\n",
       "      <th></th>\n",
       "    </tr>\n",
       "  </thead>\n",
       "  <tbody>\n",
       "    <tr>\n",
       "      <th>3</th>\n",
       "      <td>3</td>\n",
       "    </tr>\n",
       "    <tr>\n",
       "      <th>4</th>\n",
       "      <td>1</td>\n",
       "    </tr>\n",
       "  </tbody>\n",
       "</table>\n",
       "</div>"
      ],
      "text/plain": [
       "   a\n",
       "a   \n",
       "3  3\n",
       "4  1"
      ]
     },
     "execution_count": 211,
     "metadata": {},
     "output_type": "execute_result"
    }
   ],
   "source": [
    "#You can still use the index in a query expression by using the special identifier ‘index’:\n",
    "\"\"\"If for some reason you have a column named index, then you can refer to the \n",
    "index as ilevel_0 as well, but at this point you should consider renaming your columns to something less ambiguous.\"\"\"\n",
    "df.query('index > 2')\n",
    "\n"
   ]
  },
  {
   "cell_type": "markdown",
   "id": "02016ac2",
   "metadata": {
    "papermill": {
     "duration": 0.074471,
     "end_time": "2022-09-28T11:48:16.962010",
     "exception": false,
     "start_time": "2022-09-28T11:48:16.887539",
     "status": "completed"
    },
    "tags": []
   },
   "source": [
    ">  ## ✍️ Note: \n",
    "> #### Please Refer Document mention on Pandas\n",
    "   > - https://pandas.pydata.org/docs/user_guide/indexing.html#multiindex-query-syntax"
   ]
  },
  {
   "cell_type": "markdown",
   "id": "f76074c3",
   "metadata": {
    "papermill": {
     "duration": 0.074317,
     "end_time": "2022-09-28T11:48:17.112985",
     "exception": false,
     "start_time": "2022-09-28T11:48:17.038668",
     "status": "completed"
    },
    "tags": []
   },
   "source": [
    "# 3. Pandas | Panel :\n",
    "> ## ✍️ Note: \n",
    "Panel has been removed from future version of Pandas Library."
   ]
  }
 ],
 "metadata": {
  "kernelspec": {
   "display_name": "Python 3",
   "language": "python",
   "name": "python3"
  },
  "language_info": {
   "codemirror_mode": {
    "name": "ipython",
    "version": 3
   },
   "file_extension": ".py",
   "mimetype": "text/x-python",
   "name": "python",
   "nbconvert_exporter": "python",
   "pygments_lexer": "ipython3",
   "version": "3.7.12"
  },
  "papermill": {
   "default_parameters": {},
   "duration": 53.06417,
   "end_time": "2022-09-28T11:48:17.706042",
   "environment_variables": {},
   "exception": null,
   "input_path": "__notebook__.ipynb",
   "output_path": "__notebook__.ipynb",
   "parameters": {},
   "start_time": "2022-09-28T11:47:24.641872",
   "version": "2.3.4"
  }
 },
 "nbformat": 4,
 "nbformat_minor": 5
}
