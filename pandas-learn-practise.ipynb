{
 "cells": [
  {
   "cell_type": "code",
   "execution_count": 1,
   "id": "f642472e",
   "metadata": {
    "_cell_guid": "b1076dfc-b9ad-4769-8c92-a6c4dae69d19",
    "_uuid": "8f2839f25d086af736a60e9eeb907d3b93b6e0e5",
    "execution": {
     "iopub.execute_input": "2022-09-29T06:58:31.623140Z",
     "iopub.status.busy": "2022-09-29T06:58:31.622170Z",
     "iopub.status.idle": "2022-09-29T06:58:31.653465Z",
     "shell.execute_reply": "2022-09-29T06:58:31.652146Z"
    },
    "papermill": {
     "duration": 0.10272,
     "end_time": "2022-09-29T06:58:31.657795",
     "exception": false,
     "start_time": "2022-09-29T06:58:31.555075",
     "status": "completed"
    },
    "tags": []
   },
   "outputs": [
    {
     "name": "stdout",
     "output_type": "stream",
     "text": [
      "/kaggle/input/nba-data/nba.csv\n",
      "/kaggle/input/sales-data-practise/sales_data.csv\n"
     ]
    }
   ],
   "source": [
    "# This Python 3 environment comes with many helpful analytics libraries installed\n",
    "# It is defined by the kaggle/python Docker image: https://github.com/kaggle/docker-python\n",
    "# For example, here's several helpful packages to load\n",
    "\n",
    "import numpy as np # linear algebra\n",
    "import pandas as pd # data processing, CSV file I/O (e.g. pd.read_csv)\n",
    "\n",
    "# Input data files are available in the read-only \"../input/\" directory\n",
    "# For example, running this (by clicking run or pressing Shift+Enter) will list all files under the input directory\n",
    "\n",
    "import os\n",
    "for dirname, _, filenames in os.walk('/kaggle/input'):\n",
    "    for filename in filenames:\n",
    "        print(os.path.join(dirname, filename))\n",
    "\n",
    "# You can write up to 20GB to the current directory (/kaggle/working/) that gets preserved as output when you create a version using \"Save & Run All\" \n",
    "# You can also write temporary files to /kaggle/temp/, but they won't be saved outside of the current session"
   ]
  },
  {
   "cell_type": "markdown",
   "id": "33d99ae2",
   "metadata": {
    "papermill": {
     "duration": 0.067307,
     "end_time": "2022-09-29T06:58:31.789160",
     "exception": false,
     "start_time": "2022-09-29T06:58:31.721853",
     "status": "completed"
    },
    "tags": []
   },
   "source": [
    "# Working with Pandas Library:\n",
    "- Pandas is an open-source library that uses for working with relational or labeled data both easily and intuitively. It provides various data structures and operations for manipulating numerical data and time series. It offers a tool for cleaning and processes your data. It is the most popular Python library that is used for data analysis. In this article, We are going to learn about Pandas Data structure.\n",
    "\n",
    "\n",
    "\n",
    "\n",
    "<img src=\"https://www.w3resource.com/w3r_images/pandas-data-structure.svg\" alt=\"Pandas Data structure\" style=\"max-width:100%;display:block;height:auto;border: 2px solid silver;\"><br>\n",
    "\n",
    "<p><strong>Create Test Objects</strong></p>\n",
    "<div class=\"table-responsive\">\n",
    "<table class=\"table table-bordered\">\n",
    "<tbody><tr>\n",
    "<td>pd.DataFrame(np.random.rand(20,5))</td>\n",
    "<td>5 columns and 20 rows of random floats</td>\n",
    "</tr>\n",
    "<tr>\n",
    "<td>pd.Series(my_list)</td>\n",
    "<td>Create a series from an iterable my_list</td>\n",
    "</tr>\n",
    "<tr>\n",
    "<td>df.index = pd.date_range('1900/1/30', periods=df.shape[0])</td>\n",
    "<td>Add a date index</td>\n",
    "</tr>\n",
    "</tbody></table></div>\n",
    "<p><strong>Viewing/Inspecting Data</strong></p>\n",
    "<div class=\"table-responsive\">\n",
    "<table class=\"table table-bordered\">\n",
    "<tbody><tr>\n",
    "<td>df.head(n)</td>\n",
    "<td>First n rows of the DataFrame</td>\n",
    "</tr>\n",
    "<tr>\n",
    "<td>df.tail(n)</td>\n",
    "<td> Last n rows of the DataFrame</td>\n",
    "</tr>\n",
    "<tr>\n",
    "<td>df.shape</td>\n",
    "<td> Number of rows and columns</td>\n",
    "</tr>\n",
    "<tr>\n",
    "<td>df.info()</td>\n",
    "<td>Index, Datatype and Memory information</td>\n",
    "</tr>\n",
    "<tr>\n",
    "<td>df.describe()</td>\n",
    "<td>Summary statistics for numerical columns</td>\n",
    "</tr>\n",
    "<tr>\n",
    "<td>s.value_counts(dropna=False)</td>\n",
    "<td>View unique values and counts</td>\n",
    "</tr>\n",
    "<tr>\n",
    "<td>df.apply(pd.Series.value_counts)</td>\n",
    "<td>Unique values and counts for all columns</td>\n",
    "</tr>\n",
    "</tbody></table></div>\n",
    "<p><strong>Selection</strong></p>\n",
    "<div class=\"table-responsive\">\n",
    "<table class=\"table table-bordered\">\n",
    "<tbody><tr>\n",
    "<td>df[col]</td>\n",
    "<td>Returns column with label col as Series</td>\n",
    "</tr>\n",
    "<tr>\n",
    "<td>df[[col1, col2]]</td>\n",
    "<td>Returns columns as a new DataFrame</td>\n",
    "</tr>\n",
    "<tr>\n",
    "<td>s.iloc[0]</td>\n",
    "<td>Selection by position</td>\n",
    "</tr>\n",
    "<tr>\n",
    "<td>s.loc['index_one']</td>\n",
    "<td>Selection by index</td>\n",
    "</tr>\n",
    "<tr>\n",
    "<td>df.iloc[0,:]</td>\n",
    "<td>First row</td>\n",
    "</tr>\n",
    "<tr>\n",
    "<td>df.iloc[0,0]</td>\n",
    "<td>First element of first column</td>\n",
    "</tr>\n",
    "</tbody></table></div>\n",
    "<p><strong>Data Cleaning</strong></p>\n",
    "<div class=\"table-responsive\">\n",
    "<table class=\"table table-bordered\">\n",
    "<tbody><tr>\n",
    "<td>df.columns = ['a','b','c']</td>\n",
    "<td>Rename columns</td>\n",
    "</tr>\n",
    "<tr>\n",
    "<td>pd.isnull()</td>\n",
    "<td> Checks for null Values, Returns Boolean Arrray</td>\n",
    "</tr>\n",
    "<tr>\n",
    "<td>pd.notnull()</td>\n",
    "<td>Opposite of pd.isnull()</td>\n",
    "</tr>\n",
    "<tr>\n",
    "<td>df.dropna()</td>\n",
    "<td>Drop all rows that contain null values</td>\n",
    "</tr>\n",
    "<tr>\n",
    "<td>df.dropna(axis=1)</td>\n",
    "<td>Drop all columns that contain null values</td>\n",
    "</tr>\n",
    "<tr>\n",
    "<td>df.dropna(axis=1,thresh=n)</td>\n",
    "<td>Drop all rows have have less than n non null values</td>\n",
    "</tr>\n",
    "<tr>\n",
    "<td>df.fillna(x)</td>\n",
    "<td>Replace all null values with x</td>\n",
    "</tr>\n",
    "<tr>\n",
    "<td>s.fillna(s.mean())</td>\n",
    "<td>Replace all null values with the mean</td>\n",
    "</tr>\n",
    "<tr>\n",
    "<td>s.astype(float)</td>\n",
    "<td>Convert the datatype of the series to float</td>\n",
    "</tr>\n",
    "<tr>\n",
    "<td>s.replace(1,'one')</td>\n",
    "<td>Replace all values equal to 1 with 'one'</td>\n",
    "</tr>\n",
    "<tr>\n",
    "<td>s.replace([2,3],['two', 'three'])</td>\n",
    "<td>Replace all 2 with 'two' and 3 with 'three'</td>\n",
    "</tr>\n",
    "<tr>\n",
    "<td>df.rename(columns=lambda x: x + 1)</td>\n",
    "<td>Mass renaming of columns</td>\n",
    "</tr>\n",
    "<tr>\n",
    "<td>df.rename(columns={'old_name': 'new_ name'})</td>\n",
    "<td>Selective renaming</td>\n",
    "</tr>\n",
    "<tr>\n",
    "<td>df.set_index('column_one')</td>\n",
    "<td>Change the index</td>\n",
    "</tr>\n",
    "<tr>\n",
    "<td>df.rename(index=lambda x: x + 1)</td>\n",
    "<td>Mass renaming of index</td>\n",
    "</tr>\n",
    "</tbody></table></div>\n",
    "<p><strong>Filter, Sort, and Groupby</strong></p>\n",
    "<div class=\"table-responsive\">\n",
    "<table class=\"table table-bordered\">\n",
    "<tbody><tr>\n",
    "<td>df[df[col] &gt; 0.6]</td>\n",
    "<td>Rows where the column col is greater than 0.6</td>\n",
    "</tr>\n",
    "<tr>\n",
    "<td>df[(df[col] &gt; 0.6) &amp; (df[col] &lt; 0.8)]</td>\n",
    "<td> Rows where 0.8 &gt; col &gt; 0.6</td>\n",
    "</tr>\n",
    "<tr>\n",
    "<td>df.sort_values(col1)</td>\n",
    "<td> Sort values by col1 in ascending order</td>\n",
    "</tr>\n",
    "<tr>\n",
    "<td>df.sort_values(col2,ascending=False)</td>\n",
    "<td> Sort values by col2 in descending order.5</td>\n",
    "</tr>\n",
    "<tr>\n",
    "<td>df.sort_values([col1,col2],ascending=[True,False]) </td>\n",
    "<td> Sort values by col1 in ascending order then col2 in descending order</td>\n",
    "</tr>\n",
    "<tr>\n",
    "<td>df.groupby(col)</td>\n",
    "<td>Returns a groupby object for values from one column</td>\n",
    "</tr>\n",
    "<tr>\n",
    "<td>df.groupby([col1,col2])</td>\n",
    "<td>Returns groupby object for values from multiple columns</td>\n",
    "</tr>\n",
    "<tr>\n",
    "<td>df.groupby(col1)[col2]</td>\n",
    "<td>Returns the mean of the values in col2, grouped by the values in col1</td>\n",
    "</tr>\n",
    "<tr>\n",
    "<td>df.pivot_table(index=col1,values=[col2,col3],aggfunc=mean)</td>\n",
    "<td>Create a pivot table that groups by col1 and calculates the mean of col2 and col3</td>\n",
    "</tr>\n",
    "<tr>\n",
    "<td>df.groupby(col1).agg(np.mean)</td>\n",
    "<td>Find the average across all columns for every unique col1 group</td>\n",
    "</tr>\n",
    "<tr>\n",
    "<td>df.apply(np.mean)</td>\n",
    "<td>Apply the function np.mean() across each column</td>\n",
    "</tr>\n",
    "<tr>\n",
    "<td>nf.apply(np.max,axis=1)</td>\n",
    "<td>Apply the function np.max() across each row</td>\n",
    "</tr>\n",
    "</tbody></table></div>\n",
    "<p><strong>Join/Combine</strong></p>\n",
    "<div class=\"table-responsive\">\n",
    "<table class=\"table table-bordered\">\n",
    "<tbody><tr>\n",
    "<td>df1.append(df2)</td>\n",
    "<td>Add the rows in df1 to the end of df2 (columns should be identical)</td>\n",
    "</tr>\n",
    "<tr>\n",
    "<td>pd.concat([df1, df2],axis=1)</td>\n",
    "<td>Add the columns in df1 to the end of df2 (rows should be identical)</td>\n",
    "</tr>\n",
    "<tr>\n",
    "<td>df1.join(df2,on=col1, how='inner')</td>\n",
    "<td>SQL-style join the columns in df1 with the columns on df2 where the rows for col have identical values. The 'how' can be 'left', 'right', 'outer' or 'inner'</td>\n",
    "</tr>\n",
    "</tbody></table></div>\n",
    "<p><strong>Statistics</strong></p>\n",
    "<div class=\"table-responsive\">\n",
    "<table class=\"table table-bordered\">\n",
    "<tbody><tr>\n",
    "<td>df.describe()</td>\n",
    "<td>Summary statistics for numerical columns</td>\n",
    "</tr>\n",
    "<tr>\n",
    "<td>df.mean()</td>\n",
    "<td>Returns the mean of all columns</td>\n",
    "</tr>\n",
    "<tr>\n",
    "<td>df.corr()</td>\n",
    "<td>Returns the correlation between columns in a DataFrame</td>\n",
    "</tr>\n",
    "<tr>\n",
    "<td>df.count()</td>\n",
    "<td>Returns the number of non-null values in each DataFrame column</td>\n",
    "</tr>\n",
    "<tr>\n",
    "<td>df.max()</td>\n",
    "<td>Returns the highest value in each column</td>\n",
    "</tr>\n",
    "<tr>\n",
    "<td>df.min()</td>\n",
    "<td>Returns the lowest value in each column</td>\n",
    "</tr>\n",
    "<tr>\n",
    "<td>df.median()</td>\n",
    "<td>Returns the median of each column</td>\n",
    "</tr>\n",
    "<tr>\n",
    "<td>df.std()</td>\n",
    "<td>Returns the standard deviation of each column</td>\n",
    "</tr>\n",
    "</tbody></table></div>\n",
    "<p><strong>Importing Data</strong></p>\n",
    "<div class=\"table-responsive\">\n",
    "<table class=\"table table-bordered\">\n",
    "<tbody><tr>\n",
    "<td>pd.read_csv(filename)</td>\n",
    "<td>From a CSV file</td>\n",
    "</tr>\n",
    "<tr>\n",
    "<td>pd.read_table(filename)</td>\n",
    "<td>From a delimited text file (like TSV)</td>\n",
    "</tr>\n",
    "<tr>\n",
    "<td>pd.read_excel(filename)</td>\n",
    "<td>From an Excel file</td>\n",
    "</tr>\n",
    "<tr>\n",
    "<td>pd.read_sql(query, connection_object)</td>\n",
    "<td>Read from a SQL table/database</td>\n",
    "</tr>\n",
    "<tr>\n",
    "<td>pd.read_json(json_string)</td>\n",
    "<td>Read from a JSON formatted string, URL or file.</td>\n",
    "</tr>\n",
    "<tr>\n",
    "<td>pd.read_html(url)</td>\n",
    "<td> Parses an html URL, string or file and extracts tables to a list of dataframes</td>\n",
    "</tr>\n",
    "<tr>\n",
    "<td>pd.read_clipboard() </td>\n",
    "<td>Takes the contents of your clipboard and passes it to read_table()</td>\n",
    "</tr>\n",
    "<tr>\n",
    "<td>pd.DataFrame(dict)</td>\n",
    "<td>From a dict, keys for columns names, values for data as lists</td>\n",
    "</tr>\n",
    "</tbody></table></div>\n",
    "<p><strong>Exporting Data</strong></p>\n",
    "<div class=\"table-responsive\">\n",
    "<table class=\"table table-bordered\">\n",
    "<tbody><tr>\n",
    "<td>df.to_csv(filename)</td>\n",
    "<td>Write to a CSV file</td>\n",
    "</tr>\n",
    "<tr>\n",
    "<td>df.to_excel(filename)</td>\n",
    "<td>Write to an Excel file</td>\n",
    "</tr>\n",
    "<tr>\n",
    "<td>df.to_sql(table_name, connection_object)</td>\n",
    "<td>Write to a SQL table</td>\n",
    "</tr>\n",
    "<tr>\n",
    "<td>df.to_json(filename)</td>\n",
    "<td>Write to a file in JSON format</td>\n",
    "</tr>\n",
    "</tbody></table>\n",
    "</div>\n",
    "    \n",
    "- It supports three data structures:\n",
    "\n",
    "    1. **Series**\n",
    "    2. **Dataframe**\n",
    "    3. **Panel**\n",
    "    \n",
    "## 1. pandas.series(): \n",
    "- Pandas Series is a one-dimensional labeled array capable of holding data of any type (integer, string, float, python objects, etc.). The axis labels are collectively called index. Pandas Series is nothing but a column in an excel sheet.\n",
    "- Labels need not be unique but must be a hashable type. The object supports both integer and label-based indexing and provides a host of methods for performing operations involving the index.\n",
    "- **Syntax** <H4>class pandas.Series(data=None, index=None, dtype=None, name=None, copy=False, fastpath=False)</H4>"
   ]
  },
  {
   "cell_type": "code",
   "execution_count": 2,
   "id": "32bd55c3",
   "metadata": {
    "execution": {
     "iopub.execute_input": "2022-09-29T06:58:31.910198Z",
     "iopub.status.busy": "2022-09-29T06:58:31.909837Z",
     "iopub.status.idle": "2022-09-29T06:58:31.922264Z",
     "shell.execute_reply": "2022-09-29T06:58:31.919938Z"
    },
    "papermill": {
     "duration": 0.077889,
     "end_time": "2022-09-29T06:58:31.925745",
     "exception": false,
     "start_time": "2022-09-29T06:58:31.847856",
     "status": "completed"
    },
    "tags": []
   },
   "outputs": [
    {
     "name": "stdout",
     "output_type": "stream",
     "text": [
      "Series:\n",
      "\n",
      " 0     Bhawan\n",
      "1      Singh\n",
      "2    Solanki\n",
      "dtype: object \n",
      "\n",
      "Type of Series:  <class 'pandas.core.series.Series'> \n",
      "\n",
      "Data type of Series:  object\n",
      "Dimension of series:  1\n"
     ]
    }
   ],
   "source": [
    "#Creating Series by using arrray: \n",
    "\n",
    "data=np.array([\"Bhawan\",\"Singh\",\"Solanki\"])\n",
    "\n",
    "s=pd.Series(data)\n",
    "\n",
    "print(\"Series:\\n\\n\",s,\"\\n\\nType of Series: \",type(s),\"\\n\\nData type of Series: \",s.dtype)\n",
    "print(\"Dimension of series: \",s.ndim)"
   ]
  },
  {
   "cell_type": "code",
   "execution_count": 3,
   "id": "35923b7a",
   "metadata": {
    "execution": {
     "iopub.execute_input": "2022-09-29T06:58:32.049424Z",
     "iopub.status.busy": "2022-09-29T06:58:32.049104Z",
     "iopub.status.idle": "2022-09-29T06:58:32.061733Z",
     "shell.execute_reply": "2022-09-29T06:58:32.059516Z"
    },
    "papermill": {
     "duration": 0.077344,
     "end_time": "2022-09-29T06:58:32.064447",
     "exception": false,
     "start_time": "2022-09-29T06:58:31.987103",
     "status": "completed"
    },
    "tags": []
   },
   "outputs": [
    {
     "name": "stdout",
     "output_type": "stream",
     "text": [
      "Series:\n",
      "\n",
      " First Name      Bhawan\n",
      "Middle Name      Singh\n",
      "Last Name      Solanki\n",
      "dtype: object \n",
      "\n",
      "Type of Series:  <class 'pandas.core.series.Series'> \n",
      "Data type of Series:  object\n",
      "Dimension of series:  1\n"
     ]
    }
   ],
   "source": [
    "# Giving the index to the Series data\n",
    "\n",
    "data=np.array([\"Bhawan\",\"Singh\",\"Solanki\"])\n",
    "\n",
    "s1=pd.Series(data,index=[\"First Name\",\"Middle Name\",\"Last Name\"])\n",
    "\n",
    "print(\"Series:\\n\\n\",s1,\"\\n\\nType of Series: \",type(s1),\"\\nData type of Series: \",s1.dtype)\n",
    "print(\"Dimension of series: \",s1.ndim)"
   ]
  },
  {
   "cell_type": "code",
   "execution_count": 4,
   "id": "1fb2a92f",
   "metadata": {
    "execution": {
     "iopub.execute_input": "2022-09-29T06:58:32.184398Z",
     "iopub.status.busy": "2022-09-29T06:58:32.183445Z",
     "iopub.status.idle": "2022-09-29T06:58:32.192133Z",
     "shell.execute_reply": "2022-09-29T06:58:32.190808Z"
    },
    "papermill": {
     "duration": 0.07264,
     "end_time": "2022-09-29T06:58:32.195956",
     "exception": false,
     "start_time": "2022-09-29T06:58:32.123316",
     "status": "completed"
    },
    "tags": []
   },
   "outputs": [
    {
     "name": "stdout",
     "output_type": "stream",
     "text": [
      "Series:\n",
      "\n",
      " 0          1\n",
      "1          2\n",
      "2          3\n",
      "3          4\n",
      "4          5\n",
      "5          5\n",
      "6          6\n",
      "7          4\n",
      "8          3\n",
      "9          5\n",
      "10         5\n",
      "11       5.4\n",
      "12       3.2\n",
      "13    bhawan\n",
      "14     singh\n",
      "dtype: object \n",
      "\n",
      "Type of Series:  <class 'pandas.core.series.Series'> \n",
      "Data type of Series:  object\n",
      "Dimension of series:  1\n"
     ]
    }
   ],
   "source": [
    "# Giving List data to Series\n",
    "\n",
    "list1=[1,2,3,4,5,5,6,4,3,5,5,5.4,3.2,\"bhawan\",\"singh\"]\n",
    "s2=pd.Series(list1)\n",
    "print(\"Series:\\n\\n\",s2,\"\\n\\nType of Series: \",type(s2),\"\\nData type of Series: \",s2.dtype)\n",
    "print(\"Dimension of series: \",s2.ndim)"
   ]
  },
  {
   "cell_type": "code",
   "execution_count": 5,
   "id": "fae8d368",
   "metadata": {
    "execution": {
     "iopub.execute_input": "2022-09-29T06:58:32.318199Z",
     "iopub.status.busy": "2022-09-29T06:58:32.317772Z",
     "iopub.status.idle": "2022-09-29T06:58:32.325635Z",
     "shell.execute_reply": "2022-09-29T06:58:32.324320Z"
    },
    "papermill": {
     "duration": 0.072915,
     "end_time": "2022-09-29T06:58:32.331042",
     "exception": false,
     "start_time": "2022-09-29T06:58:32.258127",
     "status": "completed"
    },
    "tags": []
   },
   "outputs": [
    {
     "name": "stdout",
     "output_type": "stream",
     "text": [
      "Series([], dtype: float64)\n"
     ]
    },
    {
     "name": "stderr",
     "output_type": "stream",
     "text": [
      "/opt/conda/lib/python3.7/site-packages/ipykernel_launcher.py:3: DeprecationWarning: The default dtype for empty Series will be 'object' instead of 'float64' in a future version. Specify a dtype explicitly to silence this warning.\n",
      "  This is separate from the ipykernel package so we can avoid doing imports until\n"
     ]
    }
   ],
   "source": [
    "# Creating empty Series:\n",
    "\n",
    "empty_s=pd.Series([])\n",
    "print(empty_s)"
   ]
  },
  {
   "cell_type": "code",
   "execution_count": 6,
   "id": "fe770fec",
   "metadata": {
    "execution": {
     "iopub.execute_input": "2022-09-29T06:58:32.459294Z",
     "iopub.status.busy": "2022-09-29T06:58:32.458929Z",
     "iopub.status.idle": "2022-09-29T06:58:32.467508Z",
     "shell.execute_reply": "2022-09-29T06:58:32.466229Z"
    },
    "papermill": {
     "duration": 0.077367,
     "end_time": "2022-09-29T06:58:32.471587",
     "exception": false,
     "start_time": "2022-09-29T06:58:32.394220",
     "status": "completed"
    },
    "tags": []
   },
   "outputs": [
    {
     "name": "stdout",
     "output_type": "stream",
     "text": [
      "0     1.0\n",
      "1     2.0\n",
      "2     3.0\n",
      "3     4.0\n",
      "4     5.0\n",
      "5     5.0\n",
      "6     6.0\n",
      "7     4.0\n",
      "8     3.0\n",
      "9     5.0\n",
      "10    5.0\n",
      "11    5.4\n",
      "12    3.2\n",
      "Name: Series_s2, dtype: float64\n"
     ]
    }
   ],
   "source": [
    "# GIving name& data type to series:\n",
    "\n",
    "list1=[1,2,3,4,5,5,6,4,3,5,5,5.4,3.2]\n",
    "s2=pd.Series(list1,dtype=float,name=\"Series_s2\")\n",
    "print(s2)"
   ]
  },
  {
   "cell_type": "code",
   "execution_count": 7,
   "id": "9219541b",
   "metadata": {
    "execution": {
     "iopub.execute_input": "2022-09-29T06:58:32.597546Z",
     "iopub.status.busy": "2022-09-29T06:58:32.596865Z",
     "iopub.status.idle": "2022-09-29T06:58:32.606259Z",
     "shell.execute_reply": "2022-09-29T06:58:32.604918Z"
    },
    "papermill": {
     "duration": 0.077165,
     "end_time": "2022-09-29T06:58:32.610805",
     "exception": false,
     "start_time": "2022-09-29T06:58:32.533640",
     "status": "completed"
    },
    "tags": []
   },
   "outputs": [
    {
     "name": "stdout",
     "output_type": "stream",
     "text": [
      "0    4.5\n",
      "dtype: float64\n",
      "\n",
      "Multiple Scaler value series:\n",
      " 1    4.5\n",
      "2    4.5\n",
      "3    4.5\n",
      "4    4.5\n",
      "5    4.5\n",
      "6    4.5\n",
      "dtype: float64\n"
     ]
    }
   ],
   "source": [
    "#Creating Series with Scalar value:\n",
    "Scalar_s=pd.Series(4.5)\n",
    "print(Scalar_s)\n",
    "\n",
    "Scalar_s=pd.Series(4.5,index=[1,2,3,4,5,6])\n",
    "print(\"\\nMultiple Scaler value series:\\n\",Scalar_s)"
   ]
  },
  {
   "cell_type": "code",
   "execution_count": 8,
   "id": "24863f52",
   "metadata": {
    "execution": {
     "iopub.execute_input": "2022-09-29T06:58:32.737929Z",
     "iopub.status.busy": "2022-09-29T06:58:32.737560Z",
     "iopub.status.idle": "2022-09-29T06:58:32.747506Z",
     "shell.execute_reply": "2022-09-29T06:58:32.746125Z"
    },
    "papermill": {
     "duration": 0.078135,
     "end_time": "2022-09-29T06:58:32.751291",
     "exception": false,
     "start_time": "2022-09-29T06:58:32.673156",
     "status": "completed"
    },
    "tags": []
   },
   "outputs": [
    {
     "name": "stdout",
     "output_type": "stream",
     "text": [
      "\n",
      "Creating Series with Dictionnary:\n",
      " 1    [Bhawan, test]\n",
      "2             Singh\n",
      "3           Solanki\n",
      "dtype: object\n"
     ]
    }
   ],
   "source": [
    "#Creating Series with Dictionary:\n",
    "\n",
    "dict_series=pd.Series({1:[\"Bhawan\",\"test\"],2:\"Singh\",3:\"Solanki\"})\n",
    "print(\"\\nCreating Series with Dictionnary:\\n\",dict_series)\n"
   ]
  },
  {
   "cell_type": "markdown",
   "id": "768f31d7",
   "metadata": {
    "papermill": {
     "duration": 0.062079,
     "end_time": "2022-09-29T06:58:32.875177",
     "exception": false,
     "start_time": "2022-09-29T06:58:32.813098",
     "status": "completed"
    },
    "tags": []
   },
   "source": [
    "### MultiIndex Index Series:"
   ]
  },
  {
   "cell_type": "code",
   "execution_count": 9,
   "id": "f0b5b870",
   "metadata": {
    "execution": {
     "iopub.execute_input": "2022-09-29T06:58:32.996341Z",
     "iopub.status.busy": "2022-09-29T06:58:32.995884Z",
     "iopub.status.idle": "2022-09-29T06:58:33.020728Z",
     "shell.execute_reply": "2022-09-29T06:58:33.019475Z"
    },
    "papermill": {
     "duration": 0.08911,
     "end_time": "2022-09-29T06:58:33.023461",
     "exception": false,
     "start_time": "2022-09-29T06:58:32.934351",
     "status": "completed"
    },
    "tags": []
   },
   "outputs": [
    {
     "data": {
      "text/plain": [
       "0  a    0\n",
       "   b    1\n",
       "   c    2\n",
       "1  a    3\n",
       "   b    4\n",
       "   c    5\n",
       "dtype: int64"
      ]
     },
     "execution_count": 9,
     "metadata": {},
     "output_type": "execute_result"
    }
   ],
   "source": [
    "s_mi = pd.Series(np.arange(6),\n",
    "   .....:                  index=pd.MultiIndex.from_product([[0, 1], ['a', 'b', 'c']]))\n",
    "   .....: \n",
    "        \n",
    "s_mi"
   ]
  },
  {
   "cell_type": "code",
   "execution_count": 10,
   "id": "480141a4",
   "metadata": {
    "execution": {
     "iopub.execute_input": "2022-09-29T06:58:33.147055Z",
     "iopub.status.busy": "2022-09-29T06:58:33.146739Z",
     "iopub.status.idle": "2022-09-29T06:58:33.153744Z",
     "shell.execute_reply": "2022-09-29T06:58:33.152492Z"
    },
    "papermill": {
     "duration": 0.072214,
     "end_time": "2022-09-29T06:58:33.156370",
     "exception": false,
     "start_time": "2022-09-29T06:58:33.084156",
     "status": "completed"
    },
    "tags": []
   },
   "outputs": [
    {
     "data": {
      "text/plain": [
       "pandas.core.series.Series"
      ]
     },
     "execution_count": 10,
     "metadata": {},
     "output_type": "execute_result"
    }
   ],
   "source": [
    "type(s_mi)"
   ]
  },
  {
   "cell_type": "code",
   "execution_count": 11,
   "id": "415790de",
   "metadata": {
    "execution": {
     "iopub.execute_input": "2022-09-29T06:58:33.282585Z",
     "iopub.status.busy": "2022-09-29T06:58:33.281172Z",
     "iopub.status.idle": "2022-09-29T06:58:33.290169Z",
     "shell.execute_reply": "2022-09-29T06:58:33.288807Z"
    },
    "papermill": {
     "duration": 0.074932,
     "end_time": "2022-09-29T06:58:33.293022",
     "exception": false,
     "start_time": "2022-09-29T06:58:33.218090",
     "status": "completed"
    },
    "tags": []
   },
   "outputs": [
    {
     "data": {
      "text/plain": [
       "dtype('int64')"
      ]
     },
     "execution_count": 11,
     "metadata": {},
     "output_type": "execute_result"
    }
   ],
   "source": [
    "s_mi.dtype"
   ]
  },
  {
   "cell_type": "markdown",
   "id": "a17854fe",
   "metadata": {
    "papermill": {
     "duration": 0.060624,
     "end_time": "2022-09-29T06:58:33.415397",
     "exception": false,
     "start_time": "2022-09-29T06:58:33.354773",
     "status": "completed"
    },
    "tags": []
   },
   "source": [
    "#### Atributes of Series\n",
    "***\n",
    "\n",
    "\n",
    "<dd>\n",
    "<table class=\"autosummary longtable table autosummary\">\n",
    "<colgroup>\n",
    "<col style=\"width: 10%\">\n",
    "<col style=\"width: 90%\">\n",
    "</colgroup>\n",
    "<tbody>\n",
    "<tr class=\"row-odd\"><td><p><a class=\"reference internal\" href=\"pandas.Series.T.html#pandas.Series.T\" title=\"pandas.Series.T\"><code class=\"xref py py-obj docutils literal notranslate\"><span class=\"pre\">T</span></code></a></p></td>\n",
    "<td><p>Return the transpose, which is by definition self.</p></td>\n",
    "</tr>\n",
    "<tr class=\"row-even\"><td><p><a class=\"reference internal\" href=\"pandas.Series.array.html#pandas.Series.array\" title=\"pandas.Series.array\"><code class=\"xref py py-obj docutils literal notranslate\"><span class=\"pre\">array</span></code></a></p></td>\n",
    "<td><p>The ExtensionArray of the data backing this Series or Index.</p></td>\n",
    "</tr>\n",
    "<tr class=\"row-odd\"><td><p><a class=\"reference internal\" href=\"pandas.Series.at.html#pandas.Series.at\" title=\"pandas.Series.at\"><code class=\"xref py py-obj docutils literal notranslate\"><span class=\"pre\">at</span></code></a></p></td>\n",
    "<td><p>Access a single value for a row/column label pair.</p></td>\n",
    "</tr>\n",
    "<tr class=\"row-even\"><td><p><a class=\"reference internal\" href=\"pandas.Series.attrs.html#pandas.Series.attrs\" title=\"pandas.Series.attrs\"><code class=\"xref py py-obj docutils literal notranslate\"><span class=\"pre\">attrs</span></code></a></p></td>\n",
    "<td><p>Dictionary of global attributes of this dataset.</p></td>\n",
    "</tr>\n",
    "<tr class=\"row-odd\"><td><p><a class=\"reference internal\" href=\"pandas.Series.axes.html#pandas.Series.axes\" title=\"pandas.Series.axes\"><code class=\"xref py py-obj docutils literal notranslate\"><span class=\"pre\">axes</span></code></a></p></td>\n",
    "<td><p>Return a list of the row axis labels.</p></td>\n",
    "</tr>\n",
    "<tr class=\"row-even\"><td><p><a class=\"reference internal\" href=\"pandas.Series.dtype.html#pandas.Series.dtype\" title=\"pandas.Series.dtype\"><code class=\"xref py py-obj docutils literal notranslate\"><span class=\"pre\">dtype</span></code></a></p></td>\n",
    "<td><p>Return the dtype object of the underlying data.</p></td>\n",
    "</tr>\n",
    "<tr class=\"row-odd\"><td><p><a class=\"reference internal\" href=\"pandas.Series.dtypes.html#pandas.Series.dtypes\" title=\"pandas.Series.dtypes\"><code class=\"xref py py-obj docutils literal notranslate\"><span class=\"pre\">dtypes</span></code></a></p></td>\n",
    "<td><p>Return the dtype object of the underlying data.</p></td>\n",
    "</tr>\n",
    "<tr class=\"row-even\"><td><p><a class=\"reference internal\" href=\"pandas.Series.flags.html#pandas.Series.flags\" title=\"pandas.Series.flags\"><code class=\"xref py py-obj docutils literal notranslate\"><span class=\"pre\">flags</span></code></a></p></td>\n",
    "<td><p>Get the properties associated with this pandas object.</p></td>\n",
    "</tr>\n",
    "<tr class=\"row-odd\"><td><p><a class=\"reference internal\" href=\"pandas.Series.hasnans.html#pandas.Series.hasnans\" title=\"pandas.Series.hasnans\"><code class=\"xref py py-obj docutils literal notranslate\"><span class=\"pre\">hasnans</span></code></a></p></td>\n",
    "<td><p>Return True if there are any NaNs.</p></td>\n",
    "</tr>\n",
    "<tr class=\"row-even\"><td><p><a class=\"reference internal\" href=\"pandas.Series.iat.html#pandas.Series.iat\" title=\"pandas.Series.iat\"><code class=\"xref py py-obj docutils literal notranslate\"><span class=\"pre\">iat</span></code></a></p></td>\n",
    "<td><p>Access a single value for a row/column pair by integer position.</p></td>\n",
    "</tr>\n",
    "<tr class=\"row-odd\"><td><p><a class=\"reference internal\" href=\"pandas.Series.iloc.html#pandas.Series.iloc\" title=\"pandas.Series.iloc\"><code class=\"xref py py-obj docutils literal notranslate\"><span class=\"pre\">iloc</span></code></a></p></td>\n",
    "<td><p>Purely integer-location based indexing for selection by position.</p></td>\n",
    "</tr>\n",
    "<tr class=\"row-even\"><td><p><a class=\"reference internal\" href=\"pandas.Series.index.html#pandas.Series.index\" title=\"pandas.Series.index\"><code class=\"xref py py-obj docutils literal notranslate\"><span class=\"pre\">index</span></code></a></p></td>\n",
    "<td><p>The index (axis labels) of the Series.</p></td>\n",
    "</tr>\n",
    "<tr class=\"row-odd\"><td><p><a class=\"reference internal\" href=\"pandas.Series.is_monotonic.html#pandas.Series.is_monotonic\" title=\"pandas.Series.is_monotonic\"><code class=\"xref py py-obj docutils literal notranslate\"><span class=\"pre\">is_monotonic</span></code></a></p></td>\n",
    "<td><p>(DEPRECATED) Return boolean if values in the object are monotonically increasing.</p></td>\n",
    "</tr>\n",
    "<tr class=\"row-even\"><td><p><a class=\"reference internal\" href=\"pandas.Series.is_monotonic_decreasing.html#pandas.Series.is_monotonic_decreasing\" title=\"pandas.Series.is_monotonic_decreasing\"><code class=\"xref py py-obj docutils literal notranslate\"><span class=\"pre\">is_monotonic_decreasing</span></code></a></p></td>\n",
    "<td><p>Return boolean if values in the object are monotonically decreasing.</p></td>\n",
    "</tr>\n",
    "<tr class=\"row-odd\"><td><p><a class=\"reference internal\" href=\"pandas.Series.is_monotonic_increasing.html#pandas.Series.is_monotonic_increasing\" title=\"pandas.Series.is_monotonic_increasing\"><code class=\"xref py py-obj docutils literal notranslate\"><span class=\"pre\">is_monotonic_increasing</span></code></a></p></td>\n",
    "<td><p>Return boolean if values in the object are monotonically increasing.</p></td>\n",
    "</tr>\n",
    "<tr class=\"row-even\"><td><p><a class=\"reference internal\" href=\"pandas.Series.is_unique.html#pandas.Series.is_unique\" title=\"pandas.Series.is_unique\"><code class=\"xref py py-obj docutils literal notranslate\"><span class=\"pre\">is_unique</span></code></a></p></td>\n",
    "<td><p>Return boolean if values in the object are unique.</p></td>\n",
    "</tr>\n",
    "<tr class=\"row-odd\"><td><p><a class=\"reference internal\" href=\"pandas.Series.loc.html#pandas.Series.loc\" title=\"pandas.Series.loc\"><code class=\"xref py py-obj docutils literal notranslate\"><span class=\"pre\">loc</span></code></a></p></td>\n",
    "<td><p>Access a group of rows and columns by label(s) or a boolean array.</p></td>\n",
    "</tr>\n",
    "<tr class=\"row-even\"><td><p><a class=\"reference internal\" href=\"pandas.Series.name.html#pandas.Series.name\" title=\"pandas.Series.name\"><code class=\"xref py py-obj docutils literal notranslate\"><span class=\"pre\">name</span></code></a></p></td>\n",
    "<td><p>Return the name of the Series.</p></td>\n",
    "</tr>\n",
    "<tr class=\"row-odd\"><td><p><a class=\"reference internal\" href=\"pandas.Series.nbytes.html#pandas.Series.nbytes\" title=\"pandas.Series.nbytes\"><code class=\"xref py py-obj docutils literal notranslate\"><span class=\"pre\">nbytes</span></code></a></p></td>\n",
    "<td><p>Return the number of bytes in the underlying data.</p></td>\n",
    "</tr>\n",
    "<tr class=\"row-even\"><td><p><a class=\"reference internal\" href=\"pandas.Series.ndim.html#pandas.Series.ndim\" title=\"pandas.Series.ndim\"><code class=\"xref py py-obj docutils literal notranslate\"><span class=\"pre\">ndim</span></code></a></p></td>\n",
    "<td><p>Number of dimensions of the underlying data, by definition 1.</p></td>\n",
    "</tr>\n",
    "<tr class=\"row-odd\"><td><p><a class=\"reference internal\" href=\"pandas.Series.shape.html#pandas.Series.shape\" title=\"pandas.Series.shape\"><code class=\"xref py py-obj docutils literal notranslate\"><span class=\"pre\">shape</span></code></a></p></td>\n",
    "<td><p>Return a tuple of the shape of the underlying data.</p></td>\n",
    "</tr>\n",
    "<tr class=\"row-even\"><td><p><a class=\"reference internal\" href=\"pandas.Series.size.html#pandas.Series.size\" title=\"pandas.Series.size\"><code class=\"xref py py-obj docutils literal notranslate\"><span class=\"pre\">size</span></code></a></p></td>\n",
    "<td><p>Return the number of elements in the underlying data.</p></td>\n",
    "</tr>\n",
    "<tr class=\"row-odd\"><td><p><a class=\"reference internal\" href=\"pandas.Series.values.html#pandas.Series.values\" title=\"pandas.Series.values\"><code class=\"xref py py-obj docutils literal notranslate\"><span class=\"pre\">values</span></code></a></p></td>\n",
    "<td><p>Return Series as ndarray or ndarray-like depending on the dtype.</p></td>\n",
    "</tr>\n",
    "</tbody>\n",
    "</table>\n",
    "    </dd>  \n",
    "    \n",
    "#### Methods Of Series\n",
    "*** \n",
    "<dd>    \n",
    "<table class=\"autosummary longtable table autosummary\">\n",
    "<colgroup>\n",
    "<col style=\"width: 10%\">\n",
    "<col style=\"width: 90%\">\n",
    "</colgroup>\n",
    "<tbody>\n",
    "<tr class=\"row-odd\"><td><p><a class=\"reference internal\" href=\"pandas.Series.abs.html#pandas.Series.abs\" title=\"pandas.Series.abs\"><code class=\"xref py py-obj docutils literal notranslate\"><span class=\"pre\">abs</span></code></a>()</p></td>\n",
    "<td><p>Return a Series/DataFrame with absolute numeric value of each element.</p></td>\n",
    "</tr>\n",
    "<tr class=\"row-even\"><td><p><a class=\"reference internal\" href=\"pandas.Series.add.html#pandas.Series.add\" title=\"pandas.Series.add\"><code class=\"xref py py-obj docutils literal notranslate\"><span class=\"pre\">add</span></code></a>(other[,&nbsp;level,&nbsp;fill_value,&nbsp;axis])</p></td>\n",
    "<td><p>Return Addition of series and other, element-wise (binary operator <cite>add</cite>).</p></td>\n",
    "</tr>\n",
    "<tr class=\"row-odd\"><td><p><a class=\"reference internal\" href=\"pandas.Series.add_prefix.html#pandas.Series.add_prefix\" title=\"pandas.Series.add_prefix\"><code class=\"xref py py-obj docutils literal notranslate\"><span class=\"pre\">add_prefix</span></code></a>(prefix)</p></td>\n",
    "<td><p>Prefix labels with string <cite>prefix</cite>.</p></td>\n",
    "</tr>\n",
    "<tr class=\"row-even\"><td><p><a class=\"reference internal\" href=\"pandas.Series.add_suffix.html#pandas.Series.add_suffix\" title=\"pandas.Series.add_suffix\"><code class=\"xref py py-obj docutils literal notranslate\"><span class=\"pre\">add_suffix</span></code></a>(suffix)</p></td>\n",
    "<td><p>Suffix labels with string <cite>suffix</cite>.</p></td>\n",
    "</tr>\n",
    "<tr class=\"row-odd\"><td><p><a class=\"reference internal\" href=\"pandas.Series.agg.html#pandas.Series.agg\" title=\"pandas.Series.agg\"><code class=\"xref py py-obj docutils literal notranslate\"><span class=\"pre\">agg</span></code></a>([func,&nbsp;axis])</p></td>\n",
    "<td><p>Aggregate using one or more operations over the specified axis.</p></td>\n",
    "</tr>\n",
    "<tr class=\"row-even\"><td><p><a class=\"reference internal\" href=\"pandas.Series.aggregate.html#pandas.Series.aggregate\" title=\"pandas.Series.aggregate\"><code class=\"xref py py-obj docutils literal notranslate\"><span class=\"pre\">aggregate</span></code></a>([func,&nbsp;axis])</p></td>\n",
    "<td><p>Aggregate using one or more operations over the specified axis.</p></td>\n",
    "</tr>\n",
    "<tr class=\"row-odd\"><td><p><a class=\"reference internal\" href=\"pandas.Series.align.html#pandas.Series.align\" title=\"pandas.Series.align\"><code class=\"xref py py-obj docutils literal notranslate\"><span class=\"pre\">align</span></code></a>(other[,&nbsp;join,&nbsp;axis,&nbsp;level,&nbsp;copy,&nbsp;...])</p></td>\n",
    "<td><p>Align two objects on their axes with the specified join method.</p></td>\n",
    "</tr>\n",
    "<tr class=\"row-even\"><td><p><a class=\"reference internal\" href=\"pandas.Series.all.html#pandas.Series.all\" title=\"pandas.Series.all\"><code class=\"xref py py-obj docutils literal notranslate\"><span class=\"pre\">all</span></code></a>([axis,&nbsp;bool_only,&nbsp;skipna,&nbsp;level])</p></td>\n",
    "<td><p>Return whether all elements are True, potentially over an axis.</p></td>\n",
    "</tr>\n",
    "<tr class=\"row-odd\"><td><p><a class=\"reference internal\" href=\"pandas.Series.any.html#pandas.Series.any\" title=\"pandas.Series.any\"><code class=\"xref py py-obj docutils literal notranslate\"><span class=\"pre\">any</span></code></a>([axis,&nbsp;bool_only,&nbsp;skipna,&nbsp;level])</p></td>\n",
    "<td><p>Return whether any element is True, potentially over an axis.</p></td>\n",
    "</tr>\n",
    "<tr class=\"row-even\"><td><p><a class=\"reference internal\" href=\"pandas.Series.append.html#pandas.Series.append\" title=\"pandas.Series.append\"><code class=\"xref py py-obj docutils literal notranslate\"><span class=\"pre\">append</span></code></a>(to_append[,&nbsp;ignore_index,&nbsp;...])</p></td>\n",
    "<td><p>(DEPRECATED) Concatenate two or more Series.</p></td>\n",
    "</tr>\n",
    "<tr class=\"row-odd\"><td><p><a class=\"reference internal\" href=\"pandas.Series.apply.html#pandas.Series.apply\" title=\"pandas.Series.apply\"><code class=\"xref py py-obj docutils literal notranslate\"><span class=\"pre\">apply</span></code></a>(func[,&nbsp;convert_dtype,&nbsp;args])</p></td>\n",
    "<td><p>Invoke function on values of Series.</p></td>\n",
    "</tr>\n",
    "<tr class=\"row-even\"><td><p><a class=\"reference internal\" href=\"pandas.Series.argmax.html#pandas.Series.argmax\" title=\"pandas.Series.argmax\"><code class=\"xref py py-obj docutils literal notranslate\"><span class=\"pre\">argmax</span></code></a>([axis,&nbsp;skipna])</p></td>\n",
    "<td><p>Return int position of the largest value in the Series.</p></td>\n",
    "</tr>\n",
    "<tr class=\"row-odd\"><td><p><a class=\"reference internal\" href=\"pandas.Series.argmin.html#pandas.Series.argmin\" title=\"pandas.Series.argmin\"><code class=\"xref py py-obj docutils literal notranslate\"><span class=\"pre\">argmin</span></code></a>([axis,&nbsp;skipna])</p></td>\n",
    "<td><p>Return int position of the smallest value in the Series.</p></td>\n",
    "</tr>\n",
    "<tr class=\"row-even\"><td><p><a class=\"reference internal\" href=\"pandas.Series.argsort.html#pandas.Series.argsort\" title=\"pandas.Series.argsort\"><code class=\"xref py py-obj docutils literal notranslate\"><span class=\"pre\">argsort</span></code></a>([axis,&nbsp;kind,&nbsp;order])</p></td>\n",
    "<td><p>Return the integer indices that would sort the Series values.</p></td>\n",
    "</tr>\n",
    "<tr class=\"row-odd\"><td><p><a class=\"reference internal\" href=\"pandas.Series.asfreq.html#pandas.Series.asfreq\" title=\"pandas.Series.asfreq\"><code class=\"xref py py-obj docutils literal notranslate\"><span class=\"pre\">asfreq</span></code></a>(freq[,&nbsp;method,&nbsp;how,&nbsp;normalize,&nbsp;...])</p></td>\n",
    "<td><p>Convert time series to specified frequency.</p></td>\n",
    "</tr>\n",
    "<tr class=\"row-even\"><td><p><a class=\"reference internal\" href=\"pandas.Series.asof.html#pandas.Series.asof\" title=\"pandas.Series.asof\"><code class=\"xref py py-obj docutils literal notranslate\"><span class=\"pre\">asof</span></code></a>(where[,&nbsp;subset])</p></td>\n",
    "<td><p>Return the last row(s) without any NaNs before <cite>where</cite>.</p></td>\n",
    "</tr>\n",
    "<tr class=\"row-odd\"><td><p><a class=\"reference internal\" href=\"pandas.Series.astype.html#pandas.Series.astype\" title=\"pandas.Series.astype\"><code class=\"xref py py-obj docutils literal notranslate\"><span class=\"pre\">astype</span></code></a>(dtype[,&nbsp;copy,&nbsp;errors])</p></td>\n",
    "<td><p>Cast a pandas object to a specified dtype <code class=\"docutils literal notranslate\"><span class=\"pre\">dtype</span></code>.</p></td>\n",
    "</tr>\n",
    "<tr class=\"row-even\"><td><p><a class=\"reference internal\" href=\"pandas.Series.at_time.html#pandas.Series.at_time\" title=\"pandas.Series.at_time\"><code class=\"xref py py-obj docutils literal notranslate\"><span class=\"pre\">at_time</span></code></a>(time[,&nbsp;asof,&nbsp;axis])</p></td>\n",
    "<td><p>Select values at particular time of day (e.g., 9:30AM).</p></td>\n",
    "</tr>\n",
    "<tr class=\"row-odd\"><td><p><a class=\"reference internal\" href=\"pandas.Series.autocorr.html#pandas.Series.autocorr\" title=\"pandas.Series.autocorr\"><code class=\"xref py py-obj docutils literal notranslate\"><span class=\"pre\">autocorr</span></code></a>([lag])</p></td>\n",
    "<td><p>Compute the lag-N autocorrelation.</p></td>\n",
    "</tr>\n",
    "<tr class=\"row-even\"><td><p><a class=\"reference internal\" href=\"pandas.Series.backfill.html#pandas.Series.backfill\" title=\"pandas.Series.backfill\"><code class=\"xref py py-obj docutils literal notranslate\"><span class=\"pre\">backfill</span></code></a>([axis,&nbsp;inplace,&nbsp;limit,&nbsp;downcast])</p></td>\n",
    "<td><p>Synonym for <a class=\"reference internal\" href=\"pandas.DataFrame.fillna.html#pandas.DataFrame.fillna\" title=\"pandas.DataFrame.fillna\"><code class=\"xref py py-meth docutils literal notranslate\"><span class=\"pre\">DataFrame.fillna()</span></code></a> with <code class=\"docutils literal notranslate\"><span class=\"pre\">method='bfill'</span></code>.</p></td>\n",
    "</tr>\n",
    "<tr class=\"row-odd\"><td><p><a class=\"reference internal\" href=\"pandas.Series.between.html#pandas.Series.between\" title=\"pandas.Series.between\"><code class=\"xref py py-obj docutils literal notranslate\"><span class=\"pre\">between</span></code></a>(left,&nbsp;right[,&nbsp;inclusive])</p></td>\n",
    "<td><p>Return boolean Series equivalent to left &lt;= series &lt;= right.</p></td>\n",
    "</tr>\n",
    "<tr class=\"row-even\"><td><p><a class=\"reference internal\" href=\"pandas.Series.between_time.html#pandas.Series.between_time\" title=\"pandas.Series.between_time\"><code class=\"xref py py-obj docutils literal notranslate\"><span class=\"pre\">between_time</span></code></a>(start_time,&nbsp;end_time[,&nbsp;...])</p></td>\n",
    "<td><p>Select values between particular times of the day (e.g., 9:00-9:30 AM).</p></td>\n",
    "</tr>\n",
    "<tr class=\"row-odd\"><td><p><a class=\"reference internal\" href=\"pandas.Series.bfill.html#pandas.Series.bfill\" title=\"pandas.Series.bfill\"><code class=\"xref py py-obj docutils literal notranslate\"><span class=\"pre\">bfill</span></code></a>([axis,&nbsp;inplace,&nbsp;limit,&nbsp;downcast])</p></td>\n",
    "<td><p>Synonym for <a class=\"reference internal\" href=\"pandas.DataFrame.fillna.html#pandas.DataFrame.fillna\" title=\"pandas.DataFrame.fillna\"><code class=\"xref py py-meth docutils literal notranslate\"><span class=\"pre\">DataFrame.fillna()</span></code></a> with <code class=\"docutils literal notranslate\"><span class=\"pre\">method='bfill'</span></code>.</p></td>\n",
    "</tr>\n",
    "<tr class=\"row-even\"><td><p><a class=\"reference internal\" href=\"pandas.Series.bool.html#pandas.Series.bool\" title=\"pandas.Series.bool\"><code class=\"xref py py-obj docutils literal notranslate\"><span class=\"pre\">bool</span></code></a>()</p></td>\n",
    "<td><p>Return the bool of a single element Series or DataFrame.</p></td>\n",
    "</tr>\n",
    "<tr class=\"row-odd\"><td><p><a class=\"reference internal\" href=\"pandas.Series.cat.html#pandas.Series.cat\" title=\"pandas.Series.cat\"><code class=\"xref py py-obj docutils literal notranslate\"><span class=\"pre\">cat</span></code></a></p></td>\n",
    "<td><p>alias of <code class=\"xref py py-class docutils literal notranslate\"><span class=\"pre\">pandas.core.arrays.categorical.CategoricalAccessor</span></code></p></td>\n",
    "</tr>\n",
    "<tr class=\"row-even\"><td><p><a class=\"reference internal\" href=\"pandas.Series.clip.html#pandas.Series.clip\" title=\"pandas.Series.clip\"><code class=\"xref py py-obj docutils literal notranslate\"><span class=\"pre\">clip</span></code></a>([lower,&nbsp;upper,&nbsp;axis,&nbsp;inplace])</p></td>\n",
    "<td><p>Trim values at input threshold(s).</p></td>\n",
    "</tr>\n",
    "<tr class=\"row-odd\"><td><p><a class=\"reference internal\" href=\"pandas.Series.combine.html#pandas.Series.combine\" title=\"pandas.Series.combine\"><code class=\"xref py py-obj docutils literal notranslate\"><span class=\"pre\">combine</span></code></a>(other,&nbsp;func[,&nbsp;fill_value])</p></td>\n",
    "<td><p>Combine the Series with a Series or scalar according to <cite>func</cite>.</p></td>\n",
    "</tr>\n",
    "<tr class=\"row-even\"><td><p><a class=\"reference internal\" href=\"pandas.Series.combine_first.html#pandas.Series.combine_first\" title=\"pandas.Series.combine_first\"><code class=\"xref py py-obj docutils literal notranslate\"><span class=\"pre\">combine_first</span></code></a>(other)</p></td>\n",
    "<td><p>Update null elements with value in the same location in 'other'.</p></td>\n",
    "</tr>\n",
    "<tr class=\"row-odd\"><td><p><a class=\"reference internal\" href=\"pandas.Series.compare.html#pandas.Series.compare\" title=\"pandas.Series.compare\"><code class=\"xref py py-obj docutils literal notranslate\"><span class=\"pre\">compare</span></code></a>(other[,&nbsp;align_axis,&nbsp;keep_shape,&nbsp;...])</p></td>\n",
    "<td><p>Compare to another Series and show the differences.</p></td>\n",
    "</tr>\n",
    "<tr class=\"row-even\"><td><p><a class=\"reference internal\" href=\"pandas.Series.convert_dtypes.html#pandas.Series.convert_dtypes\" title=\"pandas.Series.convert_dtypes\"><code class=\"xref py py-obj docutils literal notranslate\"><span class=\"pre\">convert_dtypes</span></code></a>([infer_objects,&nbsp;...])</p></td>\n",
    "<td><p>Convert columns to best possible dtypes using dtypes supporting <code class=\"docutils literal notranslate\"><span class=\"pre\">pd.NA</span></code>.</p></td>\n",
    "</tr>\n",
    "<tr class=\"row-odd\"><td><p><a class=\"reference internal\" href=\"pandas.Series.copy.html#pandas.Series.copy\" title=\"pandas.Series.copy\"><code class=\"xref py py-obj docutils literal notranslate\"><span class=\"pre\">copy</span></code></a>([deep])</p></td>\n",
    "<td><p>Make a copy of this object's indices and data.</p></td>\n",
    "</tr>\n",
    "<tr class=\"row-even\"><td><p><a class=\"reference internal\" href=\"pandas.Series.corr.html#pandas.Series.corr\" title=\"pandas.Series.corr\"><code class=\"xref py py-obj docutils literal notranslate\"><span class=\"pre\">corr</span></code></a>(other[,&nbsp;method,&nbsp;min_periods])</p></td>\n",
    "<td><p>Compute correlation with <cite>other</cite> Series, excluding missing values.</p></td>\n",
    "</tr>\n",
    "<tr class=\"row-odd\"><td><p><a class=\"reference internal\" href=\"pandas.Series.count.html#pandas.Series.count\" title=\"pandas.Series.count\"><code class=\"xref py py-obj docutils literal notranslate\"><span class=\"pre\">count</span></code></a>([level])</p></td>\n",
    "<td><p>Return number of non-NA/null observations in the Series.</p></td>\n",
    "</tr>\n",
    "<tr class=\"row-even\"><td><p><a class=\"reference internal\" href=\"pandas.Series.cov.html#pandas.Series.cov\" title=\"pandas.Series.cov\"><code class=\"xref py py-obj docutils literal notranslate\"><span class=\"pre\">cov</span></code></a>(other[,&nbsp;min_periods,&nbsp;ddof])</p></td>\n",
    "<td><p>Compute covariance with Series, excluding missing values.</p></td>\n",
    "</tr>\n",
    "<tr class=\"row-odd\"><td><p><a class=\"reference internal\" href=\"pandas.Series.cummax.html#pandas.Series.cummax\" title=\"pandas.Series.cummax\"><code class=\"xref py py-obj docutils literal notranslate\"><span class=\"pre\">cummax</span></code></a>([axis,&nbsp;skipna])</p></td>\n",
    "<td><p>Return cumulative maximum over a DataFrame or Series axis.</p></td>\n",
    "</tr>\n",
    "<tr class=\"row-even\"><td><p><a class=\"reference internal\" href=\"pandas.Series.cummin.html#pandas.Series.cummin\" title=\"pandas.Series.cummin\"><code class=\"xref py py-obj docutils literal notranslate\"><span class=\"pre\">cummin</span></code></a>([axis,&nbsp;skipna])</p></td>\n",
    "<td><p>Return cumulative minimum over a DataFrame or Series axis.</p></td>\n",
    "</tr>\n",
    "<tr class=\"row-odd\"><td><p><a class=\"reference internal\" href=\"pandas.Series.cumprod.html#pandas.Series.cumprod\" title=\"pandas.Series.cumprod\"><code class=\"xref py py-obj docutils literal notranslate\"><span class=\"pre\">cumprod</span></code></a>([axis,&nbsp;skipna])</p></td>\n",
    "<td><p>Return cumulative product over a DataFrame or Series axis.</p></td>\n",
    "</tr>\n",
    "<tr class=\"row-even\"><td><p><a class=\"reference internal\" href=\"pandas.Series.cumsum.html#pandas.Series.cumsum\" title=\"pandas.Series.cumsum\"><code class=\"xref py py-obj docutils literal notranslate\"><span class=\"pre\">cumsum</span></code></a>([axis,&nbsp;skipna])</p></td>\n",
    "<td><p>Return cumulative sum over a DataFrame or Series axis.</p></td>\n",
    "</tr>\n",
    "<tr class=\"row-odd\"><td><p><a class=\"reference internal\" href=\"pandas.Series.describe.html#pandas.Series.describe\" title=\"pandas.Series.describe\"><code class=\"xref py py-obj docutils literal notranslate\"><span class=\"pre\">describe</span></code></a>([percentiles,&nbsp;include,&nbsp;exclude,&nbsp;...])</p></td>\n",
    "<td><p>Generate descriptive statistics.</p></td>\n",
    "</tr>\n",
    "<tr class=\"row-even\"><td><p><a class=\"reference internal\" href=\"pandas.Series.diff.html#pandas.Series.diff\" title=\"pandas.Series.diff\"><code class=\"xref py py-obj docutils literal notranslate\"><span class=\"pre\">diff</span></code></a>([periods])</p></td>\n",
    "<td><p>First discrete difference of element.</p></td>\n",
    "</tr>\n",
    "<tr class=\"row-odd\"><td><p><a class=\"reference internal\" href=\"pandas.Series.div.html#pandas.Series.div\" title=\"pandas.Series.div\"><code class=\"xref py py-obj docutils literal notranslate\"><span class=\"pre\">div</span></code></a>(other[,&nbsp;level,&nbsp;fill_value,&nbsp;axis])</p></td>\n",
    "<td><p>Return Floating division of series and other, element-wise (binary operator <cite>truediv</cite>).</p></td>\n",
    "</tr>\n",
    "<tr class=\"row-even\"><td><p><a class=\"reference internal\" href=\"pandas.Series.divide.html#pandas.Series.divide\" title=\"pandas.Series.divide\"><code class=\"xref py py-obj docutils literal notranslate\"><span class=\"pre\">divide</span></code></a>(other[,&nbsp;level,&nbsp;fill_value,&nbsp;axis])</p></td>\n",
    "<td><p>Return Floating division of series and other, element-wise (binary operator <cite>truediv</cite>).</p></td>\n",
    "</tr>\n",
    "<tr class=\"row-odd\"><td><p><a class=\"reference internal\" href=\"pandas.Series.divmod.html#pandas.Series.divmod\" title=\"pandas.Series.divmod\"><code class=\"xref py py-obj docutils literal notranslate\"><span class=\"pre\">divmod</span></code></a>(other[,&nbsp;level,&nbsp;fill_value,&nbsp;axis])</p></td>\n",
    "<td><p>Return Integer division and modulo of series and other, element-wise (binary operator <cite>divmod</cite>).</p></td>\n",
    "</tr>\n",
    "<tr class=\"row-even\"><td><p><a class=\"reference internal\" href=\"pandas.Series.dot.html#pandas.Series.dot\" title=\"pandas.Series.dot\"><code class=\"xref py py-obj docutils literal notranslate\"><span class=\"pre\">dot</span></code></a>(other)</p></td>\n",
    "<td><p>Compute the dot product between the Series and the columns of other.</p></td>\n",
    "</tr>\n",
    "<tr class=\"row-odd\"><td><p><a class=\"reference internal\" href=\"pandas.Series.drop.html#pandas.Series.drop\" title=\"pandas.Series.drop\"><code class=\"xref py py-obj docutils literal notranslate\"><span class=\"pre\">drop</span></code></a>([labels,&nbsp;axis,&nbsp;index,&nbsp;columns,&nbsp;level,&nbsp;...])</p></td>\n",
    "<td><p>Return Series with specified index labels removed.</p></td>\n",
    "</tr>\n",
    "<tr class=\"row-even\"><td><p><a class=\"reference internal\" href=\"pandas.Series.drop_duplicates.html#pandas.Series.drop_duplicates\" title=\"pandas.Series.drop_duplicates\"><code class=\"xref py py-obj docutils literal notranslate\"><span class=\"pre\">drop_duplicates</span></code></a>([keep,&nbsp;inplace])</p></td>\n",
    "<td><p>Return Series with duplicate values removed.</p></td>\n",
    "</tr>\n",
    "<tr class=\"row-odd\"><td><p><a class=\"reference internal\" href=\"pandas.Series.droplevel.html#pandas.Series.droplevel\" title=\"pandas.Series.droplevel\"><code class=\"xref py py-obj docutils literal notranslate\"><span class=\"pre\">droplevel</span></code></a>(level[,&nbsp;axis])</p></td>\n",
    "<td><p>Return Series/DataFrame with requested index / column level(s) removed.</p></td>\n",
    "</tr>\n",
    "<tr class=\"row-even\"><td><p><a class=\"reference internal\" href=\"pandas.Series.dropna.html#pandas.Series.dropna\" title=\"pandas.Series.dropna\"><code class=\"xref py py-obj docutils literal notranslate\"><span class=\"pre\">dropna</span></code></a>([axis,&nbsp;inplace,&nbsp;how])</p></td>\n",
    "<td><p>Return a new Series with missing values removed.</p></td>\n",
    "</tr>\n",
    "<tr class=\"row-odd\"><td><p><a class=\"reference internal\" href=\"pandas.Series.dt.html#pandas.Series.dt\" title=\"pandas.Series.dt\"><code class=\"xref py py-obj docutils literal notranslate\"><span class=\"pre\">dt</span></code></a></p></td>\n",
    "<td><p>alias of <code class=\"xref py py-class docutils literal notranslate\"><span class=\"pre\">pandas.core.indexes.accessors.CombinedDatetimelikeProperties</span></code></p></td>\n",
    "</tr>\n",
    "<tr class=\"row-even\"><td><p><a class=\"reference internal\" href=\"pandas.Series.duplicated.html#pandas.Series.duplicated\" title=\"pandas.Series.duplicated\"><code class=\"xref py py-obj docutils literal notranslate\"><span class=\"pre\">duplicated</span></code></a>([keep])</p></td>\n",
    "<td><p>Indicate duplicate Series values.</p></td>\n",
    "</tr>\n",
    "<tr class=\"row-odd\"><td><p><a class=\"reference internal\" href=\"pandas.Series.eq.html#pandas.Series.eq\" title=\"pandas.Series.eq\"><code class=\"xref py py-obj docutils literal notranslate\"><span class=\"pre\">eq</span></code></a>(other[,&nbsp;level,&nbsp;fill_value,&nbsp;axis])</p></td>\n",
    "<td><p>Return Equal to of series and other, element-wise (binary operator <cite>eq</cite>).</p></td>\n",
    "</tr>\n",
    "<tr class=\"row-even\"><td><p><a class=\"reference internal\" href=\"pandas.Series.equals.html#pandas.Series.equals\" title=\"pandas.Series.equals\"><code class=\"xref py py-obj docutils literal notranslate\"><span class=\"pre\">equals</span></code></a>(other)</p></td>\n",
    "<td><p>Test whether two objects contain the same elements.</p></td>\n",
    "</tr>\n",
    "<tr class=\"row-odd\"><td><p><a class=\"reference internal\" href=\"pandas.Series.ewm.html#pandas.Series.ewm\" title=\"pandas.Series.ewm\"><code class=\"xref py py-obj docutils literal notranslate\"><span class=\"pre\">ewm</span></code></a>([com,&nbsp;span,&nbsp;halflife,&nbsp;alpha,&nbsp;...])</p></td>\n",
    "<td><p>Provide exponentially weighted (EW) calculations.</p></td>\n",
    "</tr>\n",
    "<tr class=\"row-even\"><td><p><a class=\"reference internal\" href=\"pandas.Series.expanding.html#pandas.Series.expanding\" title=\"pandas.Series.expanding\"><code class=\"xref py py-obj docutils literal notranslate\"><span class=\"pre\">expanding</span></code></a>([min_periods,&nbsp;center,&nbsp;axis,&nbsp;method])</p></td>\n",
    "<td><p>Provide expanding window calculations.</p></td>\n",
    "</tr>\n",
    "<tr class=\"row-odd\"><td><p><a class=\"reference internal\" href=\"pandas.Series.explode.html#pandas.Series.explode\" title=\"pandas.Series.explode\"><code class=\"xref py py-obj docutils literal notranslate\"><span class=\"pre\">explode</span></code></a>([ignore_index])</p></td>\n",
    "<td><p>Transform each element of a list-like to a row.</p></td>\n",
    "</tr>\n",
    "<tr class=\"row-even\"><td><p><a class=\"reference internal\" href=\"pandas.Series.factorize.html#pandas.Series.factorize\" title=\"pandas.Series.factorize\"><code class=\"xref py py-obj docutils literal notranslate\"><span class=\"pre\">factorize</span></code></a>([sort,&nbsp;na_sentinel,&nbsp;use_na_sentinel])</p></td>\n",
    "<td><p>Encode the object as an enumerated type or categorical variable.</p></td>\n",
    "</tr>\n",
    "<tr class=\"row-odd\"><td><p><a class=\"reference internal\" href=\"pandas.Series.ffill.html#pandas.Series.ffill\" title=\"pandas.Series.ffill\"><code class=\"xref py py-obj docutils literal notranslate\"><span class=\"pre\">ffill</span></code></a>([axis,&nbsp;inplace,&nbsp;limit,&nbsp;downcast])</p></td>\n",
    "<td><p>Synonym for <a class=\"reference internal\" href=\"pandas.DataFrame.fillna.html#pandas.DataFrame.fillna\" title=\"pandas.DataFrame.fillna\"><code class=\"xref py py-meth docutils literal notranslate\"><span class=\"pre\">DataFrame.fillna()</span></code></a> with <code class=\"docutils literal notranslate\"><span class=\"pre\">method='ffill'</span></code>.</p></td>\n",
    "</tr>\n",
    "<tr class=\"row-even\"><td><p><a class=\"reference internal\" href=\"pandas.Series.fillna.html#pandas.Series.fillna\" title=\"pandas.Series.fillna\"><code class=\"xref py py-obj docutils literal notranslate\"><span class=\"pre\">fillna</span></code></a>([value,&nbsp;method,&nbsp;axis,&nbsp;inplace,&nbsp;...])</p></td>\n",
    "<td><p>Fill NA/NaN values using the specified method.</p></td>\n",
    "</tr>\n",
    "<tr class=\"row-odd\"><td><p><a class=\"reference internal\" href=\"pandas.Series.filter.html#pandas.Series.filter\" title=\"pandas.Series.filter\"><code class=\"xref py py-obj docutils literal notranslate\"><span class=\"pre\">filter</span></code></a>([items,&nbsp;like,&nbsp;regex,&nbsp;axis])</p></td>\n",
    "<td><p>Subset the dataframe rows or columns according to the specified index labels.</p></td>\n",
    "</tr>\n",
    "<tr class=\"row-even\"><td><p><a class=\"reference internal\" href=\"pandas.Series.first.html#pandas.Series.first\" title=\"pandas.Series.first\"><code class=\"xref py py-obj docutils literal notranslate\"><span class=\"pre\">first</span></code></a>(offset)</p></td>\n",
    "<td><p>Select initial periods of time series data based on a date offset.</p></td>\n",
    "</tr>\n",
    "<tr class=\"row-odd\"><td><p><a class=\"reference internal\" href=\"pandas.Series.first_valid_index.html#pandas.Series.first_valid_index\" title=\"pandas.Series.first_valid_index\"><code class=\"xref py py-obj docutils literal notranslate\"><span class=\"pre\">first_valid_index</span></code></a>()</p></td>\n",
    "<td><p>Return index for first non-NA value or None, if no non-NA value is found.</p></td>\n",
    "</tr>\n",
    "<tr class=\"row-even\"><td><p><a class=\"reference internal\" href=\"pandas.Series.floordiv.html#pandas.Series.floordiv\" title=\"pandas.Series.floordiv\"><code class=\"xref py py-obj docutils literal notranslate\"><span class=\"pre\">floordiv</span></code></a>(other[,&nbsp;level,&nbsp;fill_value,&nbsp;axis])</p></td>\n",
    "<td><p>Return Integer division of series and other, element-wise (binary operator <cite>floordiv</cite>).</p></td>\n",
    "</tr>\n",
    "<tr class=\"row-odd\"><td><p><a class=\"reference internal\" href=\"pandas.Series.ge.html#pandas.Series.ge\" title=\"pandas.Series.ge\"><code class=\"xref py py-obj docutils literal notranslate\"><span class=\"pre\">ge</span></code></a>(other[,&nbsp;level,&nbsp;fill_value,&nbsp;axis])</p></td>\n",
    "<td><p>Return Greater than or equal to of series and other, element-wise (binary operator <cite>ge</cite>).</p></td>\n",
    "</tr>\n",
    "<tr class=\"row-even\"><td><p><a class=\"reference internal\" href=\"pandas.Series.get.html#pandas.Series.get\" title=\"pandas.Series.get\"><code class=\"xref py py-obj docutils literal notranslate\"><span class=\"pre\">get</span></code></a>(key[,&nbsp;default])</p></td>\n",
    "<td><p>Get item from object for given key (ex: DataFrame column).</p></td>\n",
    "</tr>\n",
    "<tr class=\"row-odd\"><td><p><a class=\"reference internal\" href=\"pandas.Series.groupby.html#pandas.Series.groupby\" title=\"pandas.Series.groupby\"><code class=\"xref py py-obj docutils literal notranslate\"><span class=\"pre\">groupby</span></code></a>([by,&nbsp;axis,&nbsp;level,&nbsp;as_index,&nbsp;sort,&nbsp;...])</p></td>\n",
    "<td><p>Group Series using a mapper or by a Series of columns.</p></td>\n",
    "</tr>\n",
    "<tr class=\"row-even\"><td><p><a class=\"reference internal\" href=\"pandas.Series.gt.html#pandas.Series.gt\" title=\"pandas.Series.gt\"><code class=\"xref py py-obj docutils literal notranslate\"><span class=\"pre\">gt</span></code></a>(other[,&nbsp;level,&nbsp;fill_value,&nbsp;axis])</p></td>\n",
    "<td><p>Return Greater than of series and other, element-wise (binary operator <cite>gt</cite>).</p></td>\n",
    "</tr>\n",
    "<tr class=\"row-odd\"><td><p><a class=\"reference internal\" href=\"pandas.Series.head.html#pandas.Series.head\" title=\"pandas.Series.head\"><code class=\"xref py py-obj docutils literal notranslate\"><span class=\"pre\">head</span></code></a>([n])</p></td>\n",
    "<td><p>Return the first <cite>n</cite> rows.</p></td>\n",
    "</tr>\n",
    "<tr class=\"row-even\"><td><p><a class=\"reference internal\" href=\"pandas.Series.hist.html#pandas.Series.hist\" title=\"pandas.Series.hist\"><code class=\"xref py py-obj docutils literal notranslate\"><span class=\"pre\">hist</span></code></a>([by,&nbsp;ax,&nbsp;grid,&nbsp;xlabelsize,&nbsp;xrot,&nbsp;...])</p></td>\n",
    "<td><p>Draw histogram of the input series using matplotlib.</p></td>\n",
    "</tr>\n",
    "<tr class=\"row-odd\"><td><p><a class=\"reference internal\" href=\"pandas.Series.idxmax.html#pandas.Series.idxmax\" title=\"pandas.Series.idxmax\"><code class=\"xref py py-obj docutils literal notranslate\"><span class=\"pre\">idxmax</span></code></a>([axis,&nbsp;skipna])</p></td>\n",
    "<td><p>Return the row label of the maximum value.</p></td>\n",
    "</tr>\n",
    "<tr class=\"row-even\"><td><p><a class=\"reference internal\" href=\"pandas.Series.idxmin.html#pandas.Series.idxmin\" title=\"pandas.Series.idxmin\"><code class=\"xref py py-obj docutils literal notranslate\"><span class=\"pre\">idxmin</span></code></a>([axis,&nbsp;skipna])</p></td>\n",
    "<td><p>Return the row label of the minimum value.</p></td>\n",
    "</tr>\n",
    "<tr class=\"row-odd\"><td><p><a class=\"reference internal\" href=\"pandas.Series.infer_objects.html#pandas.Series.infer_objects\" title=\"pandas.Series.infer_objects\"><code class=\"xref py py-obj docutils literal notranslate\"><span class=\"pre\">infer_objects</span></code></a>()</p></td>\n",
    "<td><p>Attempt to infer better dtypes for object columns.</p></td>\n",
    "</tr>\n",
    "<tr class=\"row-even\"><td><p><a class=\"reference internal\" href=\"pandas.Series.info.html#pandas.Series.info\" title=\"pandas.Series.info\"><code class=\"xref py py-obj docutils literal notranslate\"><span class=\"pre\">info</span></code></a>([verbose,&nbsp;buf,&nbsp;max_cols,&nbsp;memory_usage,&nbsp;...])</p></td>\n",
    "<td><p>Print a concise summary of a Series.</p></td>\n",
    "</tr>\n",
    "<tr class=\"row-odd\"><td><p><a class=\"reference internal\" href=\"pandas.Series.interpolate.html#pandas.Series.interpolate\" title=\"pandas.Series.interpolate\"><code class=\"xref py py-obj docutils literal notranslate\"><span class=\"pre\">interpolate</span></code></a>([method,&nbsp;axis,&nbsp;limit,&nbsp;inplace,&nbsp;...])</p></td>\n",
    "<td><p>Fill NaN values using an interpolation method.</p></td>\n",
    "</tr>\n",
    "<tr class=\"row-even\"><td><p><a class=\"reference internal\" href=\"pandas.Series.isin.html#pandas.Series.isin\" title=\"pandas.Series.isin\"><code class=\"xref py py-obj docutils literal notranslate\"><span class=\"pre\">isin</span></code></a>(values)</p></td>\n",
    "<td><p>Whether elements in Series are contained in <cite>values</cite>.</p></td>\n",
    "</tr>\n",
    "<tr class=\"row-odd\"><td><p><a class=\"reference internal\" href=\"pandas.Series.isna.html#pandas.Series.isna\" title=\"pandas.Series.isna\"><code class=\"xref py py-obj docutils literal notranslate\"><span class=\"pre\">isna</span></code></a>()</p></td>\n",
    "<td><p>Detect missing values.</p></td>\n",
    "</tr>\n",
    "<tr class=\"row-even\"><td><p><a class=\"reference internal\" href=\"pandas.Series.isnull.html#pandas.Series.isnull\" title=\"pandas.Series.isnull\"><code class=\"xref py py-obj docutils literal notranslate\"><span class=\"pre\">isnull</span></code></a>()</p></td>\n",
    "<td><p>Series.isnull is an alias for Series.isna.</p></td>\n",
    "</tr>\n",
    "<tr class=\"row-odd\"><td><p><a class=\"reference internal\" href=\"pandas.Series.item.html#pandas.Series.item\" title=\"pandas.Series.item\"><code class=\"xref py py-obj docutils literal notranslate\"><span class=\"pre\">item</span></code></a>()</p></td>\n",
    "<td><p>Return the first element of the underlying data as a Python scalar.</p></td>\n",
    "</tr>\n",
    "<tr class=\"row-even\"><td><p><a class=\"reference internal\" href=\"pandas.Series.items.html#pandas.Series.items\" title=\"pandas.Series.items\"><code class=\"xref py py-obj docutils literal notranslate\"><span class=\"pre\">items</span></code></a>()</p></td>\n",
    "<td><p>Lazily iterate over (index, value) tuples.</p></td>\n",
    "</tr>\n",
    "<tr class=\"row-odd\"><td><p><a class=\"reference internal\" href=\"pandas.Series.iteritems.html#pandas.Series.iteritems\" title=\"pandas.Series.iteritems\"><code class=\"xref py py-obj docutils literal notranslate\"><span class=\"pre\">iteritems</span></code></a>()</p></td>\n",
    "<td><p>(DEPRECATED) Lazily iterate over (index, value) tuples.</p></td>\n",
    "</tr>\n",
    "<tr class=\"row-even\"><td><p><a class=\"reference internal\" href=\"pandas.Series.keys.html#pandas.Series.keys\" title=\"pandas.Series.keys\"><code class=\"xref py py-obj docutils literal notranslate\"><span class=\"pre\">keys</span></code></a>()</p></td>\n",
    "<td><p>Return alias for index.</p></td>\n",
    "</tr>\n",
    "<tr class=\"row-odd\"><td><p><a class=\"reference internal\" href=\"pandas.Series.kurt.html#pandas.Series.kurt\" title=\"pandas.Series.kurt\"><code class=\"xref py py-obj docutils literal notranslate\"><span class=\"pre\">kurt</span></code></a>([axis,&nbsp;skipna,&nbsp;level,&nbsp;numeric_only])</p></td>\n",
    "<td><p>Return unbiased kurtosis over requested axis.</p></td>\n",
    "</tr>\n",
    "<tr class=\"row-even\"><td><p><a class=\"reference internal\" href=\"pandas.Series.kurtosis.html#pandas.Series.kurtosis\" title=\"pandas.Series.kurtosis\"><code class=\"xref py py-obj docutils literal notranslate\"><span class=\"pre\">kurtosis</span></code></a>([axis,&nbsp;skipna,&nbsp;level,&nbsp;numeric_only])</p></td>\n",
    "<td><p>Return unbiased kurtosis over requested axis.</p></td>\n",
    "</tr>\n",
    "<tr class=\"row-odd\"><td><p><a class=\"reference internal\" href=\"pandas.Series.last.html#pandas.Series.last\" title=\"pandas.Series.last\"><code class=\"xref py py-obj docutils literal notranslate\"><span class=\"pre\">last</span></code></a>(offset)</p></td>\n",
    "<td><p>Select final periods of time series data based on a date offset.</p></td>\n",
    "</tr>\n",
    "<tr class=\"row-even\"><td><p><a class=\"reference internal\" href=\"pandas.Series.last_valid_index.html#pandas.Series.last_valid_index\" title=\"pandas.Series.last_valid_index\"><code class=\"xref py py-obj docutils literal notranslate\"><span class=\"pre\">last_valid_index</span></code></a>()</p></td>\n",
    "<td><p>Return index for last non-NA value or None, if no non-NA value is found.</p></td>\n",
    "</tr>\n",
    "<tr class=\"row-odd\"><td><p><a class=\"reference internal\" href=\"pandas.Series.le.html#pandas.Series.le\" title=\"pandas.Series.le\"><code class=\"xref py py-obj docutils literal notranslate\"><span class=\"pre\">le</span></code></a>(other[,&nbsp;level,&nbsp;fill_value,&nbsp;axis])</p></td>\n",
    "<td><p>Return Less than or equal to of series and other, element-wise (binary operator <cite>le</cite>).</p></td>\n",
    "</tr>\n",
    "<tr class=\"row-even\"><td><p><a class=\"reference internal\" href=\"pandas.Series.lt.html#pandas.Series.lt\" title=\"pandas.Series.lt\"><code class=\"xref py py-obj docutils literal notranslate\"><span class=\"pre\">lt</span></code></a>(other[,&nbsp;level,&nbsp;fill_value,&nbsp;axis])</p></td>\n",
    "<td><p>Return Less than of series and other, element-wise (binary operator <cite>lt</cite>).</p></td>\n",
    "</tr>\n",
    "<tr class=\"row-odd\"><td><p><a class=\"reference internal\" href=\"pandas.Series.mad.html#pandas.Series.mad\" title=\"pandas.Series.mad\"><code class=\"xref py py-obj docutils literal notranslate\"><span class=\"pre\">mad</span></code></a>([axis,&nbsp;skipna,&nbsp;level])</p></td>\n",
    "<td><p>(DEPRECATED) Return the mean absolute deviation of the values over the requested axis.</p></td>\n",
    "</tr>\n",
    "<tr class=\"row-even\"><td><p><a class=\"reference internal\" href=\"pandas.Series.map.html#pandas.Series.map\" title=\"pandas.Series.map\"><code class=\"xref py py-obj docutils literal notranslate\"><span class=\"pre\">map</span></code></a>(arg[,&nbsp;na_action])</p></td>\n",
    "<td><p>Map values of Series according to an input mapping or function.</p></td>\n",
    "</tr>\n",
    "<tr class=\"row-odd\"><td><p><a class=\"reference internal\" href=\"pandas.Series.mask.html#pandas.Series.mask\" title=\"pandas.Series.mask\"><code class=\"xref py py-obj docutils literal notranslate\"><span class=\"pre\">mask</span></code></a>(cond[,&nbsp;other,&nbsp;inplace,&nbsp;axis,&nbsp;level,&nbsp;...])</p></td>\n",
    "<td><p>Replace values where the condition is True.</p></td>\n",
    "</tr>\n",
    "<tr class=\"row-even\"><td><p><a class=\"reference internal\" href=\"pandas.Series.max.html#pandas.Series.max\" title=\"pandas.Series.max\"><code class=\"xref py py-obj docutils literal notranslate\"><span class=\"pre\">max</span></code></a>([axis,&nbsp;skipna,&nbsp;level,&nbsp;numeric_only])</p></td>\n",
    "<td><p>Return the maximum of the values over the requested axis.</p></td>\n",
    "</tr>\n",
    "<tr class=\"row-odd\"><td><p><a class=\"reference internal\" href=\"pandas.Series.mean.html#pandas.Series.mean\" title=\"pandas.Series.mean\"><code class=\"xref py py-obj docutils literal notranslate\"><span class=\"pre\">mean</span></code></a>([axis,&nbsp;skipna,&nbsp;level,&nbsp;numeric_only])</p></td>\n",
    "<td><p>Return the mean of the values over the requested axis.</p></td>\n",
    "</tr>\n",
    "<tr class=\"row-even\"><td><p><a class=\"reference internal\" href=\"pandas.Series.median.html#pandas.Series.median\" title=\"pandas.Series.median\"><code class=\"xref py py-obj docutils literal notranslate\"><span class=\"pre\">median</span></code></a>([axis,&nbsp;skipna,&nbsp;level,&nbsp;numeric_only])</p></td>\n",
    "<td><p>Return the median of the values over the requested axis.</p></td>\n",
    "</tr>\n",
    "<tr class=\"row-odd\"><td><p><a class=\"reference internal\" href=\"pandas.Series.memory_usage.html#pandas.Series.memory_usage\" title=\"pandas.Series.memory_usage\"><code class=\"xref py py-obj docutils literal notranslate\"><span class=\"pre\">memory_usage</span></code></a>([index,&nbsp;deep])</p></td>\n",
    "<td><p>Return the memory usage of the Series.</p></td>\n",
    "</tr>\n",
    "<tr class=\"row-even\"><td><p><a class=\"reference internal\" href=\"pandas.Series.min.html#pandas.Series.min\" title=\"pandas.Series.min\"><code class=\"xref py py-obj docutils literal notranslate\"><span class=\"pre\">min</span></code></a>([axis,&nbsp;skipna,&nbsp;level,&nbsp;numeric_only])</p></td>\n",
    "<td><p>Return the minimum of the values over the requested axis.</p></td>\n",
    "</tr>\n",
    "<tr class=\"row-odd\"><td><p><a class=\"reference internal\" href=\"pandas.Series.mod.html#pandas.Series.mod\" title=\"pandas.Series.mod\"><code class=\"xref py py-obj docutils literal notranslate\"><span class=\"pre\">mod</span></code></a>(other[,&nbsp;level,&nbsp;fill_value,&nbsp;axis])</p></td>\n",
    "<td><p>Return Modulo of series and other, element-wise (binary operator <cite>mod</cite>).</p></td>\n",
    "</tr>\n",
    "<tr class=\"row-even\"><td><p><a class=\"reference internal\" href=\"pandas.Series.mode.html#pandas.Series.mode\" title=\"pandas.Series.mode\"><code class=\"xref py py-obj docutils literal notranslate\"><span class=\"pre\">mode</span></code></a>([dropna])</p></td>\n",
    "<td><p>Return the mode(s) of the Series.</p></td>\n",
    "</tr>\n",
    "<tr class=\"row-odd\"><td><p><a class=\"reference internal\" href=\"pandas.Series.mul.html#pandas.Series.mul\" title=\"pandas.Series.mul\"><code class=\"xref py py-obj docutils literal notranslate\"><span class=\"pre\">mul</span></code></a>(other[,&nbsp;level,&nbsp;fill_value,&nbsp;axis])</p></td>\n",
    "<td><p>Return Multiplication of series and other, element-wise (binary operator <cite>mul</cite>).</p></td>\n",
    "</tr>\n",
    "<tr class=\"row-even\"><td><p><a class=\"reference internal\" href=\"pandas.Series.multiply.html#pandas.Series.multiply\" title=\"pandas.Series.multiply\"><code class=\"xref py py-obj docutils literal notranslate\"><span class=\"pre\">multiply</span></code></a>(other[,&nbsp;level,&nbsp;fill_value,&nbsp;axis])</p></td>\n",
    "<td><p>Return Multiplication of series and other, element-wise (binary operator <cite>mul</cite>).</p></td>\n",
    "</tr>\n",
    "<tr class=\"row-odd\"><td><p><a class=\"reference internal\" href=\"pandas.Series.ne.html#pandas.Series.ne\" title=\"pandas.Series.ne\"><code class=\"xref py py-obj docutils literal notranslate\"><span class=\"pre\">ne</span></code></a>(other[,&nbsp;level,&nbsp;fill_value,&nbsp;axis])</p></td>\n",
    "<td><p>Return Not equal to of series and other, element-wise (binary operator <cite>ne</cite>).</p></td>\n",
    "</tr>\n",
    "<tr class=\"row-even\"><td><p><a class=\"reference internal\" href=\"pandas.Series.nlargest.html#pandas.Series.nlargest\" title=\"pandas.Series.nlargest\"><code class=\"xref py py-obj docutils literal notranslate\"><span class=\"pre\">nlargest</span></code></a>([n,&nbsp;keep])</p></td>\n",
    "<td><p>Return the largest <cite>n</cite> elements.</p></td>\n",
    "</tr>\n",
    "<tr class=\"row-odd\"><td><p><a class=\"reference internal\" href=\"pandas.Series.notna.html#pandas.Series.notna\" title=\"pandas.Series.notna\"><code class=\"xref py py-obj docutils literal notranslate\"><span class=\"pre\">notna</span></code></a>()</p></td>\n",
    "<td><p>Detect existing (non-missing) values.</p></td>\n",
    "</tr>\n",
    "<tr class=\"row-even\"><td><p><a class=\"reference internal\" href=\"pandas.Series.notnull.html#pandas.Series.notnull\" title=\"pandas.Series.notnull\"><code class=\"xref py py-obj docutils literal notranslate\"><span class=\"pre\">notnull</span></code></a>()</p></td>\n",
    "<td><p>Series.notnull is an alias for Series.notna.</p></td>\n",
    "</tr>\n",
    "<tr class=\"row-odd\"><td><p><a class=\"reference internal\" href=\"pandas.Series.nsmallest.html#pandas.Series.nsmallest\" title=\"pandas.Series.nsmallest\"><code class=\"xref py py-obj docutils literal notranslate\"><span class=\"pre\">nsmallest</span></code></a>([n,&nbsp;keep])</p></td>\n",
    "<td><p>Return the smallest <cite>n</cite> elements.</p></td>\n",
    "</tr>\n",
    "<tr class=\"row-even\"><td><p><a class=\"reference internal\" href=\"pandas.Series.nunique.html#pandas.Series.nunique\" title=\"pandas.Series.nunique\"><code class=\"xref py py-obj docutils literal notranslate\"><span class=\"pre\">nunique</span></code></a>([dropna])</p></td>\n",
    "<td><p>Return number of unique elements in the object.</p></td>\n",
    "</tr>\n",
    "<tr class=\"row-odd\"><td><p><a class=\"reference internal\" href=\"pandas.Series.pad.html#pandas.Series.pad\" title=\"pandas.Series.pad\"><code class=\"xref py py-obj docutils literal notranslate\"><span class=\"pre\">pad</span></code></a>([axis,&nbsp;inplace,&nbsp;limit,&nbsp;downcast])</p></td>\n",
    "<td><p>Synonym for <a class=\"reference internal\" href=\"pandas.DataFrame.fillna.html#pandas.DataFrame.fillna\" title=\"pandas.DataFrame.fillna\"><code class=\"xref py py-meth docutils literal notranslate\"><span class=\"pre\">DataFrame.fillna()</span></code></a> with <code class=\"docutils literal notranslate\"><span class=\"pre\">method='ffill'</span></code>.</p></td>\n",
    "</tr>\n",
    "<tr class=\"row-even\"><td><p><a class=\"reference internal\" href=\"pandas.Series.pct_change.html#pandas.Series.pct_change\" title=\"pandas.Series.pct_change\"><code class=\"xref py py-obj docutils literal notranslate\"><span class=\"pre\">pct_change</span></code></a>([periods,&nbsp;fill_method,&nbsp;limit,&nbsp;freq])</p></td>\n",
    "<td><p>Percentage change between the current and a prior element.</p></td>\n",
    "</tr>\n",
    "<tr class=\"row-odd\"><td><p><a class=\"reference internal\" href=\"pandas.Series.pipe.html#pandas.Series.pipe\" title=\"pandas.Series.pipe\"><code class=\"xref py py-obj docutils literal notranslate\"><span class=\"pre\">pipe</span></code></a>(func,&nbsp;*args,&nbsp;**kwargs)</p></td>\n",
    "<td><p>Apply chainable functions that expect Series or DataFrames.</p></td>\n",
    "</tr>\n",
    "<tr class=\"row-even\"><td><p><a class=\"reference internal\" href=\"pandas.Series.plot.html#pandas.Series.plot\" title=\"pandas.Series.plot\"><code class=\"xref py py-obj docutils literal notranslate\"><span class=\"pre\">plot</span></code></a></p></td>\n",
    "<td><p>alias of <code class=\"xref py py-class docutils literal notranslate\"><span class=\"pre\">pandas.plotting._core.PlotAccessor</span></code></p></td>\n",
    "</tr>\n",
    "<tr class=\"row-odd\"><td><p><a class=\"reference internal\" href=\"pandas.Series.pop.html#pandas.Series.pop\" title=\"pandas.Series.pop\"><code class=\"xref py py-obj docutils literal notranslate\"><span class=\"pre\">pop</span></code></a>(item)</p></td>\n",
    "<td><p>Return item and drops from series.</p></td>\n",
    "</tr>\n",
    "<tr class=\"row-even\"><td><p><a class=\"reference internal\" href=\"pandas.Series.pow.html#pandas.Series.pow\" title=\"pandas.Series.pow\"><code class=\"xref py py-obj docutils literal notranslate\"><span class=\"pre\">pow</span></code></a>(other[,&nbsp;level,&nbsp;fill_value,&nbsp;axis])</p></td>\n",
    "<td><p>Return Exponential power of series and other, element-wise (binary operator <cite>pow</cite>).</p></td>\n",
    "</tr>\n",
    "<tr class=\"row-odd\"><td><p><a class=\"reference internal\" href=\"pandas.Series.prod.html#pandas.Series.prod\" title=\"pandas.Series.prod\"><code class=\"xref py py-obj docutils literal notranslate\"><span class=\"pre\">prod</span></code></a>([axis,&nbsp;skipna,&nbsp;level,&nbsp;numeric_only,&nbsp;...])</p></td>\n",
    "<td><p>Return the product of the values over the requested axis.</p></td>\n",
    "</tr>\n",
    "<tr class=\"row-even\"><td><p><a class=\"reference internal\" href=\"pandas.Series.product.html#pandas.Series.product\" title=\"pandas.Series.product\"><code class=\"xref py py-obj docutils literal notranslate\"><span class=\"pre\">product</span></code></a>([axis,&nbsp;skipna,&nbsp;level,&nbsp;numeric_only,&nbsp;...])</p></td>\n",
    "<td><p>Return the product of the values over the requested axis.</p></td>\n",
    "</tr>\n",
    "<tr class=\"row-odd\"><td><p><a class=\"reference internal\" href=\"pandas.Series.quantile.html#pandas.Series.quantile\" title=\"pandas.Series.quantile\"><code class=\"xref py py-obj docutils literal notranslate\"><span class=\"pre\">quantile</span></code></a>([q,&nbsp;interpolation])</p></td>\n",
    "<td><p>Return value at the given quantile.</p></td>\n",
    "</tr>\n",
    "<tr class=\"row-even\"><td><p><a class=\"reference internal\" href=\"pandas.Series.radd.html#pandas.Series.radd\" title=\"pandas.Series.radd\"><code class=\"xref py py-obj docutils literal notranslate\"><span class=\"pre\">radd</span></code></a>(other[,&nbsp;level,&nbsp;fill_value,&nbsp;axis])</p></td>\n",
    "<td><p>Return Addition of series and other, element-wise (binary operator <cite>radd</cite>).</p></td>\n",
    "</tr>\n",
    "<tr class=\"row-odd\"><td><p><a class=\"reference internal\" href=\"pandas.Series.rank.html#pandas.Series.rank\" title=\"pandas.Series.rank\"><code class=\"xref py py-obj docutils literal notranslate\"><span class=\"pre\">rank</span></code></a>([axis,&nbsp;method,&nbsp;numeric_only,&nbsp;...])</p></td>\n",
    "<td><p>Compute numerical data ranks (1 through n) along axis.</p></td>\n",
    "</tr>\n",
    "<tr class=\"row-even\"><td><p><a class=\"reference internal\" href=\"pandas.Series.ravel.html#pandas.Series.ravel\" title=\"pandas.Series.ravel\"><code class=\"xref py py-obj docutils literal notranslate\"><span class=\"pre\">ravel</span></code></a>([order])</p></td>\n",
    "<td><p>Return the flattened underlying data as an ndarray.</p></td>\n",
    "</tr>\n",
    "<tr class=\"row-odd\"><td><p><a class=\"reference internal\" href=\"pandas.Series.rdiv.html#pandas.Series.rdiv\" title=\"pandas.Series.rdiv\"><code class=\"xref py py-obj docutils literal notranslate\"><span class=\"pre\">rdiv</span></code></a>(other[,&nbsp;level,&nbsp;fill_value,&nbsp;axis])</p></td>\n",
    "<td><p>Return Floating division of series and other, element-wise (binary operator <cite>rtruediv</cite>).</p></td>\n",
    "</tr>\n",
    "<tr class=\"row-even\"><td><p><a class=\"reference internal\" href=\"pandas.Series.rdivmod.html#pandas.Series.rdivmod\" title=\"pandas.Series.rdivmod\"><code class=\"xref py py-obj docutils literal notranslate\"><span class=\"pre\">rdivmod</span></code></a>(other[,&nbsp;level,&nbsp;fill_value,&nbsp;axis])</p></td>\n",
    "<td><p>Return Integer division and modulo of series and other, element-wise (binary operator <cite>rdivmod</cite>).</p></td>\n",
    "</tr>\n",
    "<tr class=\"row-odd\"><td><p><a class=\"reference internal\" href=\"pandas.Series.reindex.html#pandas.Series.reindex\" title=\"pandas.Series.reindex\"><code class=\"xref py py-obj docutils literal notranslate\"><span class=\"pre\">reindex</span></code></a>(*args,&nbsp;**kwargs)</p></td>\n",
    "<td><p>Conform Series to new index with optional filling logic.</p></td>\n",
    "</tr>\n",
    "<tr class=\"row-even\"><td><p><a class=\"reference internal\" href=\"pandas.Series.reindex_like.html#pandas.Series.reindex_like\" title=\"pandas.Series.reindex_like\"><code class=\"xref py py-obj docutils literal notranslate\"><span class=\"pre\">reindex_like</span></code></a>(other[,&nbsp;method,&nbsp;copy,&nbsp;limit,&nbsp;...])</p></td>\n",
    "<td><p>Return an object with matching indices as other object.</p></td>\n",
    "</tr>\n",
    "<tr class=\"row-odd\"><td><p><a class=\"reference internal\" href=\"pandas.Series.rename.html#pandas.Series.rename\" title=\"pandas.Series.rename\"><code class=\"xref py py-obj docutils literal notranslate\"><span class=\"pre\">rename</span></code></a>([index,&nbsp;axis,&nbsp;copy,&nbsp;inplace,&nbsp;level,&nbsp;...])</p></td>\n",
    "<td><p>Alter Series index labels or name.</p></td>\n",
    "</tr>\n",
    "<tr class=\"row-even\"><td><p><a class=\"reference internal\" href=\"pandas.Series.rename_axis.html#pandas.Series.rename_axis\" title=\"pandas.Series.rename_axis\"><code class=\"xref py py-obj docutils literal notranslate\"><span class=\"pre\">rename_axis</span></code></a>([mapper,&nbsp;index,&nbsp;columns,&nbsp;axis,&nbsp;copy])</p></td>\n",
    "<td><p>Set the name of the axis for the index or columns.</p></td>\n",
    "</tr>\n",
    "<tr class=\"row-odd\"><td><p><a class=\"reference internal\" href=\"pandas.Series.reorder_levels.html#pandas.Series.reorder_levels\" title=\"pandas.Series.reorder_levels\"><code class=\"xref py py-obj docutils literal notranslate\"><span class=\"pre\">reorder_levels</span></code></a>(order)</p></td>\n",
    "<td><p>Rearrange index levels using input order.</p></td>\n",
    "</tr>\n",
    "<tr class=\"row-even\"><td><p><a class=\"reference internal\" href=\"pandas.Series.repeat.html#pandas.Series.repeat\" title=\"pandas.Series.repeat\"><code class=\"xref py py-obj docutils literal notranslate\"><span class=\"pre\">repeat</span></code></a>(repeats[,&nbsp;axis])</p></td>\n",
    "<td><p>Repeat elements of a Series.</p></td>\n",
    "</tr>\n",
    "<tr class=\"row-odd\"><td><p><a class=\"reference internal\" href=\"pandas.Series.replace.html#pandas.Series.replace\" title=\"pandas.Series.replace\"><code class=\"xref py py-obj docutils literal notranslate\"><span class=\"pre\">replace</span></code></a>([to_replace,&nbsp;value,&nbsp;inplace,&nbsp;limit,&nbsp;...])</p></td>\n",
    "<td><p>Replace values given in <cite>to_replace</cite> with <cite>value</cite>.</p></td>\n",
    "</tr>\n",
    "<tr class=\"row-even\"><td><p><a class=\"reference internal\" href=\"pandas.Series.resample.html#pandas.Series.resample\" title=\"pandas.Series.resample\"><code class=\"xref py py-obj docutils literal notranslate\"><span class=\"pre\">resample</span></code></a>(rule[,&nbsp;axis,&nbsp;closed,&nbsp;label,&nbsp;...])</p></td>\n",
    "<td><p>Resample time-series data.</p></td>\n",
    "</tr>\n",
    "<tr class=\"row-odd\"><td><p><a class=\"reference internal\" href=\"pandas.Series.reset_index.html#pandas.Series.reset_index\" title=\"pandas.Series.reset_index\"><code class=\"xref py py-obj docutils literal notranslate\"><span class=\"pre\">reset_index</span></code></a>([level,&nbsp;drop,&nbsp;name,&nbsp;inplace,&nbsp;...])</p></td>\n",
    "<td><p>Generate a new DataFrame or Series with the index reset.</p></td>\n",
    "</tr>\n",
    "<tr class=\"row-even\"><td><p><a class=\"reference internal\" href=\"pandas.Series.rfloordiv.html#pandas.Series.rfloordiv\" title=\"pandas.Series.rfloordiv\"><code class=\"xref py py-obj docutils literal notranslate\"><span class=\"pre\">rfloordiv</span></code></a>(other[,&nbsp;level,&nbsp;fill_value,&nbsp;axis])</p></td>\n",
    "<td><p>Return Integer division of series and other, element-wise (binary operator <cite>rfloordiv</cite>).</p></td>\n",
    "</tr>\n",
    "<tr class=\"row-odd\"><td><p><a class=\"reference internal\" href=\"pandas.Series.rmod.html#pandas.Series.rmod\" title=\"pandas.Series.rmod\"><code class=\"xref py py-obj docutils literal notranslate\"><span class=\"pre\">rmod</span></code></a>(other[,&nbsp;level,&nbsp;fill_value,&nbsp;axis])</p></td>\n",
    "<td><p>Return Modulo of series and other, element-wise (binary operator <cite>rmod</cite>).</p></td>\n",
    "</tr>\n",
    "<tr class=\"row-even\"><td><p><a class=\"reference internal\" href=\"pandas.Series.rmul.html#pandas.Series.rmul\" title=\"pandas.Series.rmul\"><code class=\"xref py py-obj docutils literal notranslate\"><span class=\"pre\">rmul</span></code></a>(other[,&nbsp;level,&nbsp;fill_value,&nbsp;axis])</p></td>\n",
    "<td><p>Return Multiplication of series and other, element-wise (binary operator <cite>rmul</cite>).</p></td>\n",
    "</tr>\n",
    "<tr class=\"row-odd\"><td><p><a class=\"reference internal\" href=\"pandas.Series.rolling.html#pandas.Series.rolling\" title=\"pandas.Series.rolling\"><code class=\"xref py py-obj docutils literal notranslate\"><span class=\"pre\">rolling</span></code></a>(window[,&nbsp;min_periods,&nbsp;center,&nbsp;...])</p></td>\n",
    "<td><p>Provide rolling window calculations.</p></td>\n",
    "</tr>\n",
    "<tr class=\"row-even\"><td><p><a class=\"reference internal\" href=\"pandas.Series.round.html#pandas.Series.round\" title=\"pandas.Series.round\"><code class=\"xref py py-obj docutils literal notranslate\"><span class=\"pre\">round</span></code></a>([decimals])</p></td>\n",
    "<td><p>Round each value in a Series to the given number of decimals.</p></td>\n",
    "</tr>\n",
    "<tr class=\"row-odd\"><td><p><a class=\"reference internal\" href=\"pandas.Series.rpow.html#pandas.Series.rpow\" title=\"pandas.Series.rpow\"><code class=\"xref py py-obj docutils literal notranslate\"><span class=\"pre\">rpow</span></code></a>(other[,&nbsp;level,&nbsp;fill_value,&nbsp;axis])</p></td>\n",
    "<td><p>Return Exponential power of series and other, element-wise (binary operator <cite>rpow</cite>).</p></td>\n",
    "</tr>\n",
    "<tr class=\"row-even\"><td><p><a class=\"reference internal\" href=\"pandas.Series.rsub.html#pandas.Series.rsub\" title=\"pandas.Series.rsub\"><code class=\"xref py py-obj docutils literal notranslate\"><span class=\"pre\">rsub</span></code></a>(other[,&nbsp;level,&nbsp;fill_value,&nbsp;axis])</p></td>\n",
    "<td><p>Return Subtraction of series and other, element-wise (binary operator <cite>rsub</cite>).</p></td>\n",
    "</tr>\n",
    "<tr class=\"row-odd\"><td><p><a class=\"reference internal\" href=\"pandas.Series.rtruediv.html#pandas.Series.rtruediv\" title=\"pandas.Series.rtruediv\"><code class=\"xref py py-obj docutils literal notranslate\"><span class=\"pre\">rtruediv</span></code></a>(other[,&nbsp;level,&nbsp;fill_value,&nbsp;axis])</p></td>\n",
    "<td><p>Return Floating division of series and other, element-wise (binary operator <cite>rtruediv</cite>).</p></td>\n",
    "</tr>\n",
    "<tr class=\"row-even\"><td><p><a class=\"reference internal\" href=\"pandas.Series.sample.html#pandas.Series.sample\" title=\"pandas.Series.sample\"><code class=\"xref py py-obj docutils literal notranslate\"><span class=\"pre\">sample</span></code></a>([n,&nbsp;frac,&nbsp;replace,&nbsp;weights,&nbsp;...])</p></td>\n",
    "<td><p>Return a random sample of items from an axis of object.</p></td>\n",
    "</tr>\n",
    "<tr class=\"row-odd\"><td><p><a class=\"reference internal\" href=\"pandas.Series.searchsorted.html#pandas.Series.searchsorted\" title=\"pandas.Series.searchsorted\"><code class=\"xref py py-obj docutils literal notranslate\"><span class=\"pre\">searchsorted</span></code></a>(value[,&nbsp;side,&nbsp;sorter])</p></td>\n",
    "<td><p>Find indices where elements should be inserted to maintain order.</p></td>\n",
    "</tr>\n",
    "<tr class=\"row-even\"><td><p><a class=\"reference internal\" href=\"pandas.Series.sem.html#pandas.Series.sem\" title=\"pandas.Series.sem\"><code class=\"xref py py-obj docutils literal notranslate\"><span class=\"pre\">sem</span></code></a>([axis,&nbsp;skipna,&nbsp;level,&nbsp;ddof,&nbsp;numeric_only])</p></td>\n",
    "<td><p>Return unbiased standard error of the mean over requested axis.</p></td>\n",
    "</tr>\n",
    "<tr class=\"row-odd\"><td><p><a class=\"reference internal\" href=\"pandas.Series.set_axis.html#pandas.Series.set_axis\" title=\"pandas.Series.set_axis\"><code class=\"xref py py-obj docutils literal notranslate\"><span class=\"pre\">set_axis</span></code></a>(labels[,&nbsp;axis,&nbsp;inplace,&nbsp;copy])</p></td>\n",
    "<td><p>Assign desired index to given axis.</p></td>\n",
    "</tr>\n",
    "<tr class=\"row-even\"><td><p><a class=\"reference internal\" href=\"pandas.Series.set_flags.html#pandas.Series.set_flags\" title=\"pandas.Series.set_flags\"><code class=\"xref py py-obj docutils literal notranslate\"><span class=\"pre\">set_flags</span></code></a>(*[,&nbsp;copy,&nbsp;allows_duplicate_labels])</p></td>\n",
    "<td><p>Return a new object with updated flags.</p></td>\n",
    "</tr>\n",
    "<tr class=\"row-odd\"><td><p><a class=\"reference internal\" href=\"pandas.Series.shift.html#pandas.Series.shift\" title=\"pandas.Series.shift\"><code class=\"xref py py-obj docutils literal notranslate\"><span class=\"pre\">shift</span></code></a>([periods,&nbsp;freq,&nbsp;axis,&nbsp;fill_value])</p></td>\n",
    "<td><p>Shift index by desired number of periods with an optional time <cite>freq</cite>.</p></td>\n",
    "</tr>\n",
    "<tr class=\"row-even\"><td><p><a class=\"reference internal\" href=\"pandas.Series.skew.html#pandas.Series.skew\" title=\"pandas.Series.skew\"><code class=\"xref py py-obj docutils literal notranslate\"><span class=\"pre\">skew</span></code></a>([axis,&nbsp;skipna,&nbsp;level,&nbsp;numeric_only])</p></td>\n",
    "<td><p>Return unbiased skew over requested axis.</p></td>\n",
    "</tr>\n",
    "<tr class=\"row-odd\"><td><p><a class=\"reference internal\" href=\"pandas.Series.slice_shift.html#pandas.Series.slice_shift\" title=\"pandas.Series.slice_shift\"><code class=\"xref py py-obj docutils literal notranslate\"><span class=\"pre\">slice_shift</span></code></a>([periods,&nbsp;axis])</p></td>\n",
    "<td><p>(DEPRECATED) Equivalent to <cite>shift</cite> without copying data.</p></td>\n",
    "</tr>\n",
    "<tr class=\"row-even\"><td><p><a class=\"reference internal\" href=\"pandas.Series.sort_index.html#pandas.Series.sort_index\" title=\"pandas.Series.sort_index\"><code class=\"xref py py-obj docutils literal notranslate\"><span class=\"pre\">sort_index</span></code></a>([axis,&nbsp;level,&nbsp;ascending,&nbsp;...])</p></td>\n",
    "<td><p>Sort Series by index labels.</p></td>\n",
    "</tr>\n",
    "<tr class=\"row-odd\"><td><p><a class=\"reference internal\" href=\"pandas.Series.sort_values.html#pandas.Series.sort_values\" title=\"pandas.Series.sort_values\"><code class=\"xref py py-obj docutils literal notranslate\"><span class=\"pre\">sort_values</span></code></a>([axis,&nbsp;ascending,&nbsp;inplace,&nbsp;...])</p></td>\n",
    "<td><p>Sort by the values.</p></td>\n",
    "</tr>\n",
    "<tr class=\"row-even\"><td><p><a class=\"reference internal\" href=\"pandas.Series.sparse.html#pandas.Series.sparse\" title=\"pandas.Series.sparse\"><code class=\"xref py py-obj docutils literal notranslate\"><span class=\"pre\">sparse</span></code></a></p></td>\n",
    "<td><p>alias of <code class=\"xref py py-class docutils literal notranslate\"><span class=\"pre\">pandas.core.arrays.sparse.accessor.SparseAccessor</span></code></p></td>\n",
    "</tr>\n",
    "<tr class=\"row-odd\"><td><p><a class=\"reference internal\" href=\"pandas.Series.squeeze.html#pandas.Series.squeeze\" title=\"pandas.Series.squeeze\"><code class=\"xref py py-obj docutils literal notranslate\"><span class=\"pre\">squeeze</span></code></a>([axis])</p></td>\n",
    "<td><p>Squeeze 1 dimensional axis objects into scalars.</p></td>\n",
    "</tr>\n",
    "<tr class=\"row-even\"><td><p><a class=\"reference internal\" href=\"pandas.Series.std.html#pandas.Series.std\" title=\"pandas.Series.std\"><code class=\"xref py py-obj docutils literal notranslate\"><span class=\"pre\">std</span></code></a>([axis,&nbsp;skipna,&nbsp;level,&nbsp;ddof,&nbsp;numeric_only])</p></td>\n",
    "<td><p>Return sample standard deviation over requested axis.</p></td>\n",
    "</tr>\n",
    "<tr class=\"row-odd\"><td><p><a class=\"reference internal\" href=\"pandas.Series.str.html#pandas.Series.str\" title=\"pandas.Series.str\"><code class=\"xref py py-obj docutils literal notranslate\"><span class=\"pre\">str</span></code></a></p></td>\n",
    "<td><p>alias of <code class=\"xref py py-class docutils literal notranslate\"><span class=\"pre\">pandas.core.strings.accessor.StringMethods</span></code></p></td>\n",
    "</tr>\n",
    "<tr class=\"row-even\"><td><p><a class=\"reference internal\" href=\"pandas.Series.sub.html#pandas.Series.sub\" title=\"pandas.Series.sub\"><code class=\"xref py py-obj docutils literal notranslate\"><span class=\"pre\">sub</span></code></a>(other[,&nbsp;level,&nbsp;fill_value,&nbsp;axis])</p></td>\n",
    "<td><p>Return Subtraction of series and other, element-wise (binary operator <cite>sub</cite>).</p></td>\n",
    "</tr>\n",
    "<tr class=\"row-odd\"><td><p><a class=\"reference internal\" href=\"pandas.Series.subtract.html#pandas.Series.subtract\" title=\"pandas.Series.subtract\"><code class=\"xref py py-obj docutils literal notranslate\"><span class=\"pre\">subtract</span></code></a>(other[,&nbsp;level,&nbsp;fill_value,&nbsp;axis])</p></td>\n",
    "<td><p>Return Subtraction of series and other, element-wise (binary operator <cite>sub</cite>).</p></td>\n",
    "</tr>\n",
    "<tr class=\"row-even\"><td><p><a class=\"reference internal\" href=\"pandas.Series.sum.html#pandas.Series.sum\" title=\"pandas.Series.sum\"><code class=\"xref py py-obj docutils literal notranslate\"><span class=\"pre\">sum</span></code></a>([axis,&nbsp;skipna,&nbsp;level,&nbsp;numeric_only,&nbsp;...])</p></td>\n",
    "<td><p>Return the sum of the values over the requested axis.</p></td>\n",
    "</tr>\n",
    "<tr class=\"row-odd\"><td><p><a class=\"reference internal\" href=\"pandas.Series.swapaxes.html#pandas.Series.swapaxes\" title=\"pandas.Series.swapaxes\"><code class=\"xref py py-obj docutils literal notranslate\"><span class=\"pre\">swapaxes</span></code></a>(axis1,&nbsp;axis2[,&nbsp;copy])</p></td>\n",
    "<td><p>Interchange axes and swap values axes appropriately.</p></td>\n",
    "</tr>\n",
    "<tr class=\"row-even\"><td><p><a class=\"reference internal\" href=\"pandas.Series.swaplevel.html#pandas.Series.swaplevel\" title=\"pandas.Series.swaplevel\"><code class=\"xref py py-obj docutils literal notranslate\"><span class=\"pre\">swaplevel</span></code></a>([i,&nbsp;j,&nbsp;copy])</p></td>\n",
    "<td><p>Swap levels i and j in a <a class=\"reference internal\" href=\"pandas.MultiIndex.html#pandas.MultiIndex\" title=\"pandas.MultiIndex\"><code class=\"xref py py-class docutils literal notranslate\"><span class=\"pre\">MultiIndex</span></code></a>.</p></td>\n",
    "</tr>\n",
    "<tr class=\"row-odd\"><td><p><a class=\"reference internal\" href=\"pandas.Series.tail.html#pandas.Series.tail\" title=\"pandas.Series.tail\"><code class=\"xref py py-obj docutils literal notranslate\"><span class=\"pre\">tail</span></code></a>([n])</p></td>\n",
    "<td><p>Return the last <cite>n</cite> rows.</p></td>\n",
    "</tr>\n",
    "<tr class=\"row-even\"><td><p><a class=\"reference internal\" href=\"pandas.Series.take.html#pandas.Series.take\" title=\"pandas.Series.take\"><code class=\"xref py py-obj docutils literal notranslate\"><span class=\"pre\">take</span></code></a>(indices[,&nbsp;axis,&nbsp;is_copy])</p></td>\n",
    "<td><p>Return the elements in the given <em>positional</em> indices along an axis.</p></td>\n",
    "</tr>\n",
    "<tr class=\"row-odd\"><td><p><a class=\"reference internal\" href=\"pandas.Series.to_clipboard.html#pandas.Series.to_clipboard\" title=\"pandas.Series.to_clipboard\"><code class=\"xref py py-obj docutils literal notranslate\"><span class=\"pre\">to_clipboard</span></code></a>([excel,&nbsp;sep])</p></td>\n",
    "<td><p>Copy object to the system clipboard.</p></td>\n",
    "</tr>\n",
    "<tr class=\"row-even\"><td><p><a class=\"reference internal\" href=\"pandas.Series.to_csv.html#pandas.Series.to_csv\" title=\"pandas.Series.to_csv\"><code class=\"xref py py-obj docutils literal notranslate\"><span class=\"pre\">to_csv</span></code></a>([path_or_buf,&nbsp;sep,&nbsp;na_rep,&nbsp;...])</p></td>\n",
    "<td><p>Write object to a comma-separated values (csv) file.</p></td>\n",
    "</tr>\n",
    "<tr class=\"row-odd\"><td><p><a class=\"reference internal\" href=\"pandas.Series.to_dict.html#pandas.Series.to_dict\" title=\"pandas.Series.to_dict\"><code class=\"xref py py-obj docutils literal notranslate\"><span class=\"pre\">to_dict</span></code></a>([into])</p></td>\n",
    "<td><p>Convert Series to {label -&gt; value} dict or dict-like object.</p></td>\n",
    "</tr>\n",
    "<tr class=\"row-even\"><td><p><a class=\"reference internal\" href=\"pandas.Series.to_excel.html#pandas.Series.to_excel\" title=\"pandas.Series.to_excel\"><code class=\"xref py py-obj docutils literal notranslate\"><span class=\"pre\">to_excel</span></code></a>(excel_writer[,&nbsp;sheet_name,&nbsp;na_rep,&nbsp;...])</p></td>\n",
    "<td><p>Write object to an Excel sheet.</p></td>\n",
    "</tr>\n",
    "<tr class=\"row-odd\"><td><p><a class=\"reference internal\" href=\"pandas.Series.to_frame.html#pandas.Series.to_frame\" title=\"pandas.Series.to_frame\"><code class=\"xref py py-obj docutils literal notranslate\"><span class=\"pre\">to_frame</span></code></a>([name])</p></td>\n",
    "<td><p>Convert Series to DataFrame.</p></td>\n",
    "</tr>\n",
    "<tr class=\"row-even\"><td><p><a class=\"reference internal\" href=\"pandas.Series.to_hdf.html#pandas.Series.to_hdf\" title=\"pandas.Series.to_hdf\"><code class=\"xref py py-obj docutils literal notranslate\"><span class=\"pre\">to_hdf</span></code></a>(path_or_buf,&nbsp;key[,&nbsp;mode,&nbsp;complevel,&nbsp;...])</p></td>\n",
    "<td><p>Write the contained data to an HDF5 file using HDFStore.</p></td>\n",
    "</tr>\n",
    "<tr class=\"row-odd\"><td><p><a class=\"reference internal\" href=\"pandas.Series.to_json.html#pandas.Series.to_json\" title=\"pandas.Series.to_json\"><code class=\"xref py py-obj docutils literal notranslate\"><span class=\"pre\">to_json</span></code></a>([path_or_buf,&nbsp;orient,&nbsp;date_format,&nbsp;...])</p></td>\n",
    "<td><p>Convert the object to a JSON string.</p></td>\n",
    "</tr>\n",
    "<tr class=\"row-even\"><td><p><a class=\"reference internal\" href=\"pandas.Series.to_latex.html#pandas.Series.to_latex\" title=\"pandas.Series.to_latex\"><code class=\"xref py py-obj docutils literal notranslate\"><span class=\"pre\">to_latex</span></code></a>([buf,&nbsp;columns,&nbsp;col_space,&nbsp;header,&nbsp;...])</p></td>\n",
    "<td><p>Render object to a LaTeX tabular, longtable, or nested table.</p></td>\n",
    "</tr>\n",
    "<tr class=\"row-odd\"><td><p><a class=\"reference internal\" href=\"pandas.Series.to_list.html#pandas.Series.to_list\" title=\"pandas.Series.to_list\"><code class=\"xref py py-obj docutils literal notranslate\"><span class=\"pre\">to_list</span></code></a>()</p></td>\n",
    "<td><p>Return a list of the values.</p></td>\n",
    "</tr>\n",
    "<tr class=\"row-even\"><td><p><a class=\"reference internal\" href=\"pandas.Series.to_markdown.html#pandas.Series.to_markdown\" title=\"pandas.Series.to_markdown\"><code class=\"xref py py-obj docutils literal notranslate\"><span class=\"pre\">to_markdown</span></code></a>([buf,&nbsp;mode,&nbsp;index,&nbsp;storage_options])</p></td>\n",
    "<td><p>Print Series in Markdown-friendly format.</p></td>\n",
    "</tr>\n",
    "<tr class=\"row-odd\"><td><p><a class=\"reference internal\" href=\"pandas.Series.to_numpy.html#pandas.Series.to_numpy\" title=\"pandas.Series.to_numpy\"><code class=\"xref py py-obj docutils literal notranslate\"><span class=\"pre\">to_numpy</span></code></a>([dtype,&nbsp;copy,&nbsp;na_value])</p></td>\n",
    "<td><p>A NumPy ndarray representing the values in this Series or Index.</p></td>\n",
    "</tr>\n",
    "<tr class=\"row-even\"><td><p><a class=\"reference internal\" href=\"pandas.Series.to_period.html#pandas.Series.to_period\" title=\"pandas.Series.to_period\"><code class=\"xref py py-obj docutils literal notranslate\"><span class=\"pre\">to_period</span></code></a>([freq,&nbsp;copy])</p></td>\n",
    "<td><p>Convert Series from DatetimeIndex to PeriodIndex.</p></td>\n",
    "</tr>\n",
    "<tr class=\"row-odd\"><td><p><a class=\"reference internal\" href=\"pandas.Series.to_pickle.html#pandas.Series.to_pickle\" title=\"pandas.Series.to_pickle\"><code class=\"xref py py-obj docutils literal notranslate\"><span class=\"pre\">to_pickle</span></code></a>(path[,&nbsp;compression,&nbsp;protocol,&nbsp;...])</p></td>\n",
    "<td><p>Pickle (serialize) object to file.</p></td>\n",
    "</tr>\n",
    "<tr class=\"row-even\"><td><p><a class=\"reference internal\" href=\"pandas.Series.to_sql.html#pandas.Series.to_sql\" title=\"pandas.Series.to_sql\"><code class=\"xref py py-obj docutils literal notranslate\"><span class=\"pre\">to_sql</span></code></a>(name,&nbsp;con[,&nbsp;schema,&nbsp;if_exists,&nbsp;...])</p></td>\n",
    "<td><p>Write records stored in a DataFrame to a SQL database.</p></td>\n",
    "</tr>\n",
    "<tr class=\"row-odd\"><td><p><a class=\"reference internal\" href=\"pandas.Series.to_string.html#pandas.Series.to_string\" title=\"pandas.Series.to_string\"><code class=\"xref py py-obj docutils literal notranslate\"><span class=\"pre\">to_string</span></code></a>([buf,&nbsp;na_rep,&nbsp;float_format,&nbsp;...])</p></td>\n",
    "<td><p>Render a string representation of the Series.</p></td>\n",
    "</tr>\n",
    "<tr class=\"row-even\"><td><p><a class=\"reference internal\" href=\"pandas.Series.to_timestamp.html#pandas.Series.to_timestamp\" title=\"pandas.Series.to_timestamp\"><code class=\"xref py py-obj docutils literal notranslate\"><span class=\"pre\">to_timestamp</span></code></a>([freq,&nbsp;how,&nbsp;copy])</p></td>\n",
    "<td><p>Cast to DatetimeIndex of Timestamps, at <em>beginning</em> of period.</p></td>\n",
    "</tr>\n",
    "<tr class=\"row-odd\"><td><p><a class=\"reference internal\" href=\"pandas.Series.to_xarray.html#pandas.Series.to_xarray\" title=\"pandas.Series.to_xarray\"><code class=\"xref py py-obj docutils literal notranslate\"><span class=\"pre\">to_xarray</span></code></a>()</p></td>\n",
    "<td><p>Return an xarray object from the pandas object.</p></td>\n",
    "</tr>\n",
    "<tr class=\"row-even\"><td><p><a class=\"reference internal\" href=\"pandas.Series.tolist.html#pandas.Series.tolist\" title=\"pandas.Series.tolist\"><code class=\"xref py py-obj docutils literal notranslate\"><span class=\"pre\">tolist</span></code></a>()</p></td>\n",
    "<td><p>Return a list of the values.</p></td>\n",
    "</tr>\n",
    "<tr class=\"row-odd\"><td><p><a class=\"reference internal\" href=\"pandas.Series.transform.html#pandas.Series.transform\" title=\"pandas.Series.transform\"><code class=\"xref py py-obj docutils literal notranslate\"><span class=\"pre\">transform</span></code></a>(func[,&nbsp;axis])</p></td>\n",
    "<td><p>Call <code class=\"docutils literal notranslate\"><span class=\"pre\">func</span></code> on self producing a Series with the same axis shape as self.</p></td>\n",
    "</tr>\n",
    "<tr class=\"row-even\"><td><p><a class=\"reference internal\" href=\"pandas.Series.transpose.html#pandas.Series.transpose\" title=\"pandas.Series.transpose\"><code class=\"xref py py-obj docutils literal notranslate\"><span class=\"pre\">transpose</span></code></a>(*args,&nbsp;**kwargs)</p></td>\n",
    "<td><p>Return the transpose, which is by definition self.</p></td>\n",
    "</tr>\n",
    "<tr class=\"row-odd\"><td><p><a class=\"reference internal\" href=\"pandas.Series.truediv.html#pandas.Series.truediv\" title=\"pandas.Series.truediv\"><code class=\"xref py py-obj docutils literal notranslate\"><span class=\"pre\">truediv</span></code></a>(other[,&nbsp;level,&nbsp;fill_value,&nbsp;axis])</p></td>\n",
    "<td><p>Return Floating division of series and other, element-wise (binary operator <cite>truediv</cite>).</p></td>\n",
    "</tr>\n",
    "<tr class=\"row-even\"><td><p><a class=\"reference internal\" href=\"pandas.Series.truncate.html#pandas.Series.truncate\" title=\"pandas.Series.truncate\"><code class=\"xref py py-obj docutils literal notranslate\"><span class=\"pre\">truncate</span></code></a>([before,&nbsp;after,&nbsp;axis,&nbsp;copy])</p></td>\n",
    "<td><p>Truncate a Series or DataFrame before and after some index value.</p></td>\n",
    "</tr>\n",
    "<tr class=\"row-odd\"><td><p><a class=\"reference internal\" href=\"pandas.Series.tshift.html#pandas.Series.tshift\" title=\"pandas.Series.tshift\"><code class=\"xref py py-obj docutils literal notranslate\"><span class=\"pre\">tshift</span></code></a>([periods,&nbsp;freq,&nbsp;axis])</p></td>\n",
    "<td><p>(DEPRECATED) Shift the time index, using the index's frequency if available.</p></td>\n",
    "</tr>\n",
    "<tr class=\"row-even\"><td><p><a class=\"reference internal\" href=\"pandas.Series.tz_convert.html#pandas.Series.tz_convert\" title=\"pandas.Series.tz_convert\"><code class=\"xref py py-obj docutils literal notranslate\"><span class=\"pre\">tz_convert</span></code></a>(tz[,&nbsp;axis,&nbsp;level,&nbsp;copy])</p></td>\n",
    "<td><p>Convert tz-aware axis to target time zone.</p></td>\n",
    "</tr>\n",
    "<tr class=\"row-odd\"><td><p><a class=\"reference internal\" href=\"pandas.Series.tz_localize.html#pandas.Series.tz_localize\" title=\"pandas.Series.tz_localize\"><code class=\"xref py py-obj docutils literal notranslate\"><span class=\"pre\">tz_localize</span></code></a>(tz[,&nbsp;axis,&nbsp;level,&nbsp;copy,&nbsp;...])</p></td>\n",
    "<td><p>Localize tz-naive index of a Series or DataFrame to target time zone.</p></td>\n",
    "</tr>\n",
    "<tr class=\"row-even\"><td><p><a class=\"reference internal\" href=\"pandas.Series.unique.html#pandas.Series.unique\" title=\"pandas.Series.unique\"><code class=\"xref py py-obj docutils literal notranslate\"><span class=\"pre\">unique</span></code></a>()</p></td>\n",
    "<td><p>Return unique values of Series object.</p></td>\n",
    "</tr>\n",
    "<tr class=\"row-odd\"><td><p><a class=\"reference internal\" href=\"pandas.Series.unstack.html#pandas.Series.unstack\" title=\"pandas.Series.unstack\"><code class=\"xref py py-obj docutils literal notranslate\"><span class=\"pre\">unstack</span></code></a>([level,&nbsp;fill_value])</p></td>\n",
    "<td><p>Unstack, also known as pivot, Series with MultiIndex to produce DataFrame.</p></td>\n",
    "</tr>\n",
    "<tr class=\"row-even\"><td><p><a class=\"reference internal\" href=\"pandas.Series.update.html#pandas.Series.update\" title=\"pandas.Series.update\"><code class=\"xref py py-obj docutils literal notranslate\"><span class=\"pre\">update</span></code></a>(other)</p></td>\n",
    "<td><p>Modify Series in place using values from passed Series.</p></td>\n",
    "</tr>\n",
    "<tr class=\"row-odd\"><td><p><a class=\"reference internal\" href=\"pandas.Series.value_counts.html#pandas.Series.value_counts\" title=\"pandas.Series.value_counts\"><code class=\"xref py py-obj docutils literal notranslate\"><span class=\"pre\">value_counts</span></code></a>([normalize,&nbsp;sort,&nbsp;ascending,&nbsp;...])</p></td>\n",
    "<td><p>Return a Series containing counts of unique values.</p></td>\n",
    "</tr>\n",
    "<tr class=\"row-even\"><td><p><a class=\"reference internal\" href=\"pandas.Series.var.html#pandas.Series.var\" title=\"pandas.Series.var\"><code class=\"xref py py-obj docutils literal notranslate\"><span class=\"pre\">var</span></code></a>([axis,&nbsp;skipna,&nbsp;level,&nbsp;ddof,&nbsp;numeric_only])</p></td>\n",
    "<td><p>Return unbiased variance over requested axis.</p></td>\n",
    "</tr>\n",
    "<tr class=\"row-odd\"><td><p><a class=\"reference internal\" href=\"pandas.Series.view.html#pandas.Series.view\" title=\"pandas.Series.view\"><code class=\"xref py py-obj docutils literal notranslate\"><span class=\"pre\">view</span></code></a>([dtype])</p></td>\n",
    "<td><p>Create a new view of the Series.</p></td>\n",
    "</tr>\n",
    "<tr class=\"row-even\"><td><p><a class=\"reference internal\" href=\"pandas.Series.where.html#pandas.Series.where\" title=\"pandas.Series.where\"><code class=\"xref py py-obj docutils literal notranslate\"><span class=\"pre\">where</span></code></a>(cond[,&nbsp;other,&nbsp;inplace,&nbsp;axis,&nbsp;level,&nbsp;...])</p></td>\n",
    "<td><p>Replace values where the condition is False.</p></td>\n",
    "</tr>\n",
    "<tr class=\"row-odd\"><td><p><a class=\"reference internal\" href=\"pandas.Series.xs.html#pandas.Series.xs\" title=\"pandas.Series.xs\"><code class=\"xref py py-obj docutils literal notranslate\"><span class=\"pre\">xs</span></code></a>(key[,&nbsp;axis,&nbsp;level,&nbsp;drop_level])</p></td>\n",
    "<td><p>Return cross-section from the Series/DataFrame.</p></td>\n",
    "</tr>\n",
    "</tbody>\n",
    "</table>\n",
    "</dd>"
   ]
  },
  {
   "cell_type": "markdown",
   "id": "f7998fce",
   "metadata": {
    "papermill": {
     "duration": 0.059616,
     "end_time": "2022-09-29T06:58:33.535934",
     "exception": false,
     "start_time": "2022-09-29T06:58:33.476318",
     "status": "completed"
    },
    "tags": []
   },
   "source": [
    "### Accessing Element from Series with Position : \n",
    "- In order to access the series element refers to the index number. Use the index operator [ ] to access an element in a series. The index must be an integer. In order to access multiple elements from a series, we use Slice operation.\n"
   ]
  },
  {
   "cell_type": "code",
   "execution_count": 12,
   "id": "68aeca9f",
   "metadata": {
    "execution": {
     "iopub.execute_input": "2022-09-29T06:58:33.658816Z",
     "iopub.status.busy": "2022-09-29T06:58:33.658310Z",
     "iopub.status.idle": "2022-09-29T06:58:33.667253Z",
     "shell.execute_reply": "2022-09-29T06:58:33.665885Z"
    },
    "papermill": {
     "duration": 0.074523,
     "end_time": "2022-09-29T06:58:33.671051",
     "exception": false,
     "start_time": "2022-09-29T06:58:33.596528",
     "status": "completed"
    },
    "tags": []
   },
   "outputs": [
    {
     "name": "stdout",
     "output_type": "stream",
     "text": [
      "Series element at index 3 :\n",
      "\n",
      " 4.0 \n",
      "\n",
      "Type of element:  <class 'numpy.float64'>\n",
      "\n",
      "Series element at index 11 to 14 :\n",
      "\n",
      " 11    5.4\n",
      "12    3.2\n",
      "Name: Series_s2, dtype: float64 \n",
      "\n",
      "Type of element:  <class 'pandas.core.series.Series'>\n"
     ]
    }
   ],
   "source": [
    "# Acessing element of the Series\n",
    "print(\"Series element at index 3 :\\n\\n\",s2[3],\"\\n\\nType of element: \",type(s2[3]))\n",
    "print(\"\\nSeries element at index 11 to 14 :\\n\\n\",s2[11:14],\"\\n\\nType of element: \",type(s2[11:14]))"
   ]
  },
  {
   "cell_type": "markdown",
   "id": "ff1f8017",
   "metadata": {
    "papermill": {
     "duration": 0.061999,
     "end_time": "2022-09-29T06:58:33.795042",
     "exception": false,
     "start_time": "2022-09-29T06:58:33.733043",
     "status": "completed"
    },
    "tags": []
   },
   "source": [
    "### Accessing Element Using Label (index) :\n",
    "- In order to access an element from series, we have to set values by index label. A Series is like a fixed-size dictionary in that you can get and set values by index label.\n",
    "\n"
   ]
  },
  {
   "cell_type": "code",
   "execution_count": 13,
   "id": "34c7df76",
   "metadata": {
    "execution": {
     "iopub.execute_input": "2022-09-29T06:58:33.918139Z",
     "iopub.status.busy": "2022-09-29T06:58:33.917823Z",
     "iopub.status.idle": "2022-09-29T06:58:33.924256Z",
     "shell.execute_reply": "2022-09-29T06:58:33.922919Z"
    },
    "papermill": {
     "duration": 0.071589,
     "end_time": "2022-09-29T06:58:33.927489",
     "exception": false,
     "start_time": "2022-09-29T06:58:33.855900",
     "status": "completed"
    },
    "tags": []
   },
   "outputs": [
    {
     "name": "stdout",
     "output_type": "stream",
     "text": [
      "Series element at index 3 :\n",
      "\n",
      " Bhawan \n",
      "\n",
      "Type of element:  <class 'str'>\n"
     ]
    }
   ],
   "source": [
    "# Accessing Element Using Label (index) :¶\n",
    "print(\"Series element at index 3 :\\n\\n\",s1[\"First Name\"],\"\\n\\nType of element: \",type(s1[\"First Name\"]))"
   ]
  },
  {
   "cell_type": "markdown",
   "id": "5c76c950",
   "metadata": {
    "papermill": {
     "duration": 0.059602,
     "end_time": "2022-09-29T06:58:34.046459",
     "exception": false,
     "start_time": "2022-09-29T06:58:33.986857",
     "status": "completed"
    },
    "tags": []
   },
   "source": [
    "### Indexing and Selecting Data in Series:"
   ]
  },
  {
   "cell_type": "code",
   "execution_count": 14,
   "id": "43cef241",
   "metadata": {
    "execution": {
     "iopub.execute_input": "2022-09-29T06:58:34.170285Z",
     "iopub.status.busy": "2022-09-29T06:58:34.169954Z",
     "iopub.status.idle": "2022-09-29T06:58:34.719319Z",
     "shell.execute_reply": "2022-09-29T06:58:34.717121Z"
    },
    "papermill": {
     "duration": 0.61466,
     "end_time": "2022-09-29T06:58:34.722120",
     "exception": false,
     "start_time": "2022-09-29T06:58:34.107460",
     "status": "completed"
    },
    "tags": []
   },
   "outputs": [
    {
     "name": "stdout",
     "output_type": "stream",
     "text": [
      "0     2013\n",
      "1     2015\n",
      "2     2014\n",
      "3     2016\n",
      "4     2014\n",
      "      ... \n",
      "95    2015\n",
      "96    2013\n",
      "97    2015\n",
      "98    2013\n",
      "99    2015\n",
      "Name: Year, Length: 100, dtype: int64\n"
     ]
    }
   ],
   "source": [
    "df = pd.read_csv(\"/kaggle/input/sales-data-practise/sales_data.csv\")  \n",
    "   \n",
    "file_ser = pd.Series(df['Year']) \n",
    "data = file_ser.head(100)      #print first 15 line\n",
    "print(data) "
   ]
  },
  {
   "cell_type": "markdown",
   "id": "cb530e45",
   "metadata": {
    "papermill": {
     "duration": 0.059976,
     "end_time": "2022-09-29T06:58:34.847279",
     "exception": false,
     "start_time": "2022-09-29T06:58:34.787303",
     "status": "completed"
    },
    "tags": []
   },
   "source": [
    "#### 1.Indexing a Series using indexing operator [] :"
   ]
  },
  {
   "cell_type": "code",
   "execution_count": 15,
   "id": "2b918837",
   "metadata": {
    "execution": {
     "iopub.execute_input": "2022-09-29T06:58:34.971164Z",
     "iopub.status.busy": "2022-09-29T06:58:34.970802Z",
     "iopub.status.idle": "2022-09-29T06:58:34.977984Z",
     "shell.execute_reply": "2022-09-29T06:58:34.976479Z"
    },
    "papermill": {
     "duration": 0.073512,
     "end_time": "2022-09-29T06:58:34.981848",
     "exception": false,
     "start_time": "2022-09-29T06:58:34.908336",
     "status": "completed"
    },
    "tags": []
   },
   "outputs": [
    {
     "name": "stdout",
     "output_type": "stream",
     "text": [
      "Printing data using index Operator:[From 10 to 30]\n",
      "\n",
      "10    2013\n",
      "11    2015\n",
      "12    2013\n",
      "13    2015\n",
      "14    2013\n",
      "15    2015\n",
      "16    2013\n",
      "17    2015\n",
      "18    2014\n",
      "19    2016\n",
      "20    2014\n",
      "21    2016\n",
      "22    2014\n",
      "23    2016\n",
      "24    2013\n",
      "25    2015\n",
      "26    2013\n",
      "27    2015\n",
      "28    2014\n",
      "29    2016\n",
      "Name: Year, dtype: int64\n"
     ]
    }
   ],
   "source": [
    "#Using index Operator :\n",
    "print(\"Printing data using index Operator:[From 10 to 30]\\n\")\n",
    "print(data[10:30])"
   ]
  },
  {
   "cell_type": "markdown",
   "id": "7f97220f",
   "metadata": {
    "papermill": {
     "duration": 0.064092,
     "end_time": "2022-09-29T06:58:35.106923",
     "exception": false,
     "start_time": "2022-09-29T06:58:35.042831",
     "status": "completed"
    },
    "tags": []
   },
   "source": [
    "#### 2. Indexing a Series using .loc[ ] :\n",
    "- This function selects data by refering the explicit index . The df.loc indexer selects data in a different way than just the indexing operator. It can select subsets of data."
   ]
  },
  {
   "cell_type": "code",
   "execution_count": 16,
   "id": "952567cf",
   "metadata": {
    "execution": {
     "iopub.execute_input": "2022-09-29T06:58:35.233643Z",
     "iopub.status.busy": "2022-09-29T06:58:35.233232Z",
     "iopub.status.idle": "2022-09-29T06:58:35.240317Z",
     "shell.execute_reply": "2022-09-29T06:58:35.238949Z"
    },
    "papermill": {
     "duration": 0.075207,
     "end_time": "2022-09-29T06:58:35.245200",
     "exception": false,
     "start_time": "2022-09-29T06:58:35.169993",
     "status": "completed"
    },
    "tags": []
   },
   "outputs": [
    {
     "name": "stdout",
     "output_type": "stream",
     "text": [
      "Indexing element Using .loc[]:\n",
      "\n",
      "12    2013\n",
      "13    2015\n",
      "14    2013\n",
      "15    2015\n",
      "16    2013\n",
      "17    2015\n",
      "18    2014\n",
      "19    2016\n",
      "20    2014\n",
      "21    2016\n",
      "22    2014\n",
      "23    2016\n",
      "24    2013\n",
      "25    2015\n",
      "26    2013\n",
      "27    2015\n",
      "28    2014\n",
      "29    2016\n",
      "30    2014\n",
      "31    2016\n",
      "32    2014\n",
      "33    2016\n",
      "34    2013\n",
      "35    2015\n",
      "36    2013\n",
      "37    2015\n",
      "38    2013\n",
      "39    2015\n",
      "40    2014\n",
      "Name: Year, dtype: int64\n"
     ]
    }
   ],
   "source": [
    "#Using .loc[]:\n",
    "print(\"Indexing element Using .loc[]:\\n\")\n",
    "print(data.loc[12:40])"
   ]
  },
  {
   "cell_type": "markdown",
   "id": "c8b56809",
   "metadata": {
    "papermill": {
     "duration": 0.061348,
     "end_time": "2022-09-29T06:58:35.368619",
     "exception": false,
     "start_time": "2022-09-29T06:58:35.307271",
     "status": "completed"
    },
    "tags": []
   },
   "source": [
    "#### 3. Indexing a Series using .iloc[ ] :\n",
    "- This function allows us to retrieve data by position. In order to do that, we’ll need to specify the positions of the data that we want. The df.iloc indexer is very similar to df.loc but only uses integer locations to make its selections."
   ]
  },
  {
   "cell_type": "code",
   "execution_count": 17,
   "id": "78d2d967",
   "metadata": {
    "execution": {
     "iopub.execute_input": "2022-09-29T06:58:35.493409Z",
     "iopub.status.busy": "2022-09-29T06:58:35.492974Z",
     "iopub.status.idle": "2022-09-29T06:58:35.499753Z",
     "shell.execute_reply": "2022-09-29T06:58:35.498454Z"
    },
    "papermill": {
     "duration": 0.072879,
     "end_time": "2022-09-29T06:58:35.504407",
     "exception": false,
     "start_time": "2022-09-29T06:58:35.431528",
     "status": "completed"
    },
    "tags": []
   },
   "outputs": [
    {
     "name": "stdout",
     "output_type": "stream",
     "text": [
      "Indexing element Using .iloc[]:\n",
      "\n",
      "12    2013\n",
      "13    2015\n",
      "14    2013\n",
      "15    2015\n",
      "16    2013\n",
      "17    2015\n",
      "18    2014\n",
      "19    2016\n",
      "20    2014\n",
      "21    2016\n",
      "22    2014\n",
      "23    2016\n",
      "24    2013\n",
      "25    2015\n",
      "26    2013\n",
      "27    2015\n",
      "28    2014\n",
      "29    2016\n",
      "30    2014\n",
      "31    2016\n",
      "32    2014\n",
      "33    2016\n",
      "34    2013\n",
      "35    2015\n",
      "36    2013\n",
      "37    2015\n",
      "38    2013\n",
      "39    2015\n",
      "Name: Year, dtype: int64\n"
     ]
    }
   ],
   "source": [
    "#Using .iloc[]:\n",
    "print(\"Indexing element Using .iloc[]:\\n\")\n",
    "print(data.iloc[12:40])"
   ]
  },
  {
   "cell_type": "markdown",
   "id": "acdac490",
   "metadata": {
    "papermill": {
     "duration": 0.060876,
     "end_time": "2022-09-29T06:58:35.627002",
     "exception": false,
     "start_time": "2022-09-29T06:58:35.566126",
     "status": "completed"
    },
    "tags": []
   },
   "source": [
    "### Mathematicals Operation on Series:\n",
    "\n",
    "- **Note:** if value it not present to perform operation it will add **\"NaN\"** (Not a Number)\n",
    "\n",
    "#### Adding Series add() and +:\n"
   ]
  },
  {
   "cell_type": "code",
   "execution_count": 18,
   "id": "b6c3f7e9",
   "metadata": {
    "execution": {
     "iopub.execute_input": "2022-09-29T06:58:35.752365Z",
     "iopub.status.busy": "2022-09-29T06:58:35.752055Z",
     "iopub.status.idle": "2022-09-29T06:58:35.760799Z",
     "shell.execute_reply": "2022-09-29T06:58:35.759217Z"
    },
    "papermill": {
     "duration": 0.076555,
     "end_time": "2022-09-29T06:58:35.765527",
     "exception": false,
     "start_time": "2022-09-29T06:58:35.688972",
     "status": "completed"
    },
    "tags": []
   },
   "outputs": [
    {
     "name": "stdout",
     "output_type": "stream",
     "text": [
      "Sample Series 1:\n",
      " 0    19\n",
      "1    19\n",
      "2    49\n",
      "3    49\n",
      "4    47\n",
      "Name: Customer_Age, dtype: int64\n",
      "\n",
      "Sample Series 2:\n",
      " 0    26\n",
      "1    26\n",
      "2    23\n",
      "3    23\n",
      "4    15\n",
      "Name: Day, dtype: int64\n"
     ]
    }
   ],
   "source": [
    "#sample data\n",
    "data = pd.Series(df['Customer_Age']) \n",
    "s1 = data.head(15)      #print first 50 line\n",
    "print(\"Sample Series 1:\\n\",s1.head())\n",
    "\n",
    "#sample1 data\n",
    "data1 = pd.Series(df['Day']) \n",
    "s2 = data1.head(15)      #print first 50 line\n",
    "print(\"\\nSample Series 2:\\n\",s2.head())"
   ]
  },
  {
   "cell_type": "code",
   "execution_count": 19,
   "id": "f42ac0cb",
   "metadata": {
    "execution": {
     "iopub.execute_input": "2022-09-29T06:58:35.894821Z",
     "iopub.status.busy": "2022-09-29T06:58:35.892824Z",
     "iopub.status.idle": "2022-09-29T06:58:35.902025Z",
     "shell.execute_reply": "2022-09-29T06:58:35.899682Z"
    },
    "papermill": {
     "duration": 0.076527,
     "end_time": "2022-09-29T06:58:35.904983",
     "exception": false,
     "start_time": "2022-09-29T06:58:35.828456",
     "status": "completed"
    },
    "tags": []
   },
   "outputs": [
    {
     "name": "stdout",
     "output_type": "stream",
     "text": [
      "Adding Series with the help of '+' Operator:\n",
      "0     45\n",
      "1     45\n",
      "2     72\n",
      "3     72\n",
      "4     62\n",
      "5     62\n",
      "6     69\n",
      "7     69\n",
      "8     57\n",
      "9     57\n",
      "10    62\n",
      "11    62\n",
      "12    49\n",
      "13    49\n",
      "14    31\n",
      "dtype: int64\n"
     ]
    }
   ],
   "source": [
    "print(\"Adding Series with the help of '+' Operator:\")\n",
    "print(s1+s2)"
   ]
  },
  {
   "cell_type": "code",
   "execution_count": 20,
   "id": "1e4ac146",
   "metadata": {
    "execution": {
     "iopub.execute_input": "2022-09-29T06:58:36.030037Z",
     "iopub.status.busy": "2022-09-29T06:58:36.029652Z",
     "iopub.status.idle": "2022-09-29T06:58:36.036899Z",
     "shell.execute_reply": "2022-09-29T06:58:36.035455Z"
    },
    "papermill": {
     "duration": 0.073091,
     "end_time": "2022-09-29T06:58:36.040265",
     "exception": false,
     "start_time": "2022-09-29T06:58:35.967174",
     "status": "completed"
    },
    "tags": []
   },
   "outputs": [
    {
     "name": "stdout",
     "output_type": "stream",
     "text": [
      "Adding Series with the help of add() Fun:\n",
      "0     45\n",
      "1     45\n",
      "2     72\n",
      "3     72\n",
      "4     62\n",
      "5     62\n",
      "6     69\n",
      "7     69\n",
      "8     57\n",
      "9     57\n",
      "10    62\n",
      "11    62\n",
      "12    49\n",
      "13    49\n",
      "14    31\n",
      "dtype: int64\n"
     ]
    }
   ],
   "source": [
    "print(\"Adding Series with the help of add() Fun:\")\n",
    "#print(pd.Series.add(s1,s2))  Both are the same\n",
    "print(s1.add(s2))\n"
   ]
  },
  {
   "cell_type": "markdown",
   "id": "f3ad6956",
   "metadata": {
    "papermill": {
     "duration": 0.062696,
     "end_time": "2022-09-29T06:58:36.164287",
     "exception": false,
     "start_time": "2022-09-29T06:58:36.101591",
     "status": "completed"
    },
    "tags": []
   },
   "source": [
    "#### Subtraction with help of '-' and sub():"
   ]
  },
  {
   "cell_type": "code",
   "execution_count": 21,
   "id": "efb5df34",
   "metadata": {
    "execution": {
     "iopub.execute_input": "2022-09-29T06:58:36.291780Z",
     "iopub.status.busy": "2022-09-29T06:58:36.290331Z",
     "iopub.status.idle": "2022-09-29T06:58:36.300157Z",
     "shell.execute_reply": "2022-09-29T06:58:36.297714Z"
    },
    "papermill": {
     "duration": 0.076716,
     "end_time": "2022-09-29T06:58:36.303128",
     "exception": false,
     "start_time": "2022-09-29T06:58:36.226412",
     "status": "completed"
    },
    "tags": []
   },
   "outputs": [
    {
     "name": "stdout",
     "output_type": "stream",
     "text": [
      "Subtract Series with the help of '-' Operator:\n",
      "0     -7\n",
      "1     -7\n",
      "2     26\n",
      "3     26\n",
      "4     32\n",
      "5     32\n",
      "6     25\n",
      "7     25\n",
      "8     13\n",
      "9     13\n",
      "10     2\n",
      "11     2\n",
      "12    19\n",
      "13    19\n",
      "14    27\n",
      "dtype: int64\n"
     ]
    }
   ],
   "source": [
    "print(\"Subtract Series with the help of '-' Operator:\")\n",
    "print(s1-s2)"
   ]
  },
  {
   "cell_type": "code",
   "execution_count": 22,
   "id": "a5d90a01",
   "metadata": {
    "execution": {
     "iopub.execute_input": "2022-09-29T06:58:36.432580Z",
     "iopub.status.busy": "2022-09-29T06:58:36.431484Z",
     "iopub.status.idle": "2022-09-29T06:58:36.440765Z",
     "shell.execute_reply": "2022-09-29T06:58:36.438533Z"
    },
    "papermill": {
     "duration": 0.077265,
     "end_time": "2022-09-29T06:58:36.443489",
     "exception": false,
     "start_time": "2022-09-29T06:58:36.366224",
     "status": "completed"
    },
    "tags": []
   },
   "outputs": [
    {
     "name": "stdout",
     "output_type": "stream",
     "text": [
      "Subtract Series with the help of sub() Fun:\n",
      "0     -7\n",
      "1     -7\n",
      "2     26\n",
      "3     26\n",
      "4     32\n",
      "5     32\n",
      "6     25\n",
      "7     25\n",
      "8     13\n",
      "9     13\n",
      "10     2\n",
      "11     2\n",
      "12    19\n",
      "13    19\n",
      "14    27\n",
      "dtype: int64\n"
     ]
    }
   ],
   "source": [
    "print(\"Subtract Series with the help of sub() Fun:\")\n",
    "#print(pd.Series.sub(s1,s2))  #Both are the same\n",
    "print(s1.sub(s2))"
   ]
  },
  {
   "cell_type": "markdown",
   "id": "3e8011ce",
   "metadata": {
    "papermill": {
     "duration": 0.061713,
     "end_time": "2022-09-29T06:58:36.566912",
     "exception": false,
     "start_time": "2022-09-29T06:58:36.505199",
     "status": "completed"
    },
    "tags": []
   },
   "source": [
    "#### Multiplication with help of '*' and mul():"
   ]
  },
  {
   "cell_type": "code",
   "execution_count": 23,
   "id": "5062adb7",
   "metadata": {
    "execution": {
     "iopub.execute_input": "2022-09-29T06:58:36.713397Z",
     "iopub.status.busy": "2022-09-29T06:58:36.712987Z",
     "iopub.status.idle": "2022-09-29T06:58:36.720707Z",
     "shell.execute_reply": "2022-09-29T06:58:36.719188Z"
    },
    "papermill": {
     "duration": 0.093717,
     "end_time": "2022-09-29T06:58:36.724708",
     "exception": false,
     "start_time": "2022-09-29T06:58:36.630991",
     "status": "completed"
    },
    "tags": []
   },
   "outputs": [
    {
     "name": "stdout",
     "output_type": "stream",
     "text": [
      "Multiply Series with help of '*':\n",
      "0      494\n",
      "1      494\n",
      "2     1127\n",
      "3     1127\n",
      "4      705\n",
      "5      705\n",
      "6     1034\n",
      "7     1034\n",
      "8      770\n",
      "9      770\n",
      "10     960\n",
      "11     960\n",
      "12     510\n",
      "13     510\n",
      "14      58\n",
      "dtype: int64\n"
     ]
    }
   ],
   "source": [
    "print(\"Multiply Series with help of '*':\")\n",
    "print(s1*s2)"
   ]
  },
  {
   "cell_type": "code",
   "execution_count": 24,
   "id": "f445684e",
   "metadata": {
    "execution": {
     "iopub.execute_input": "2022-09-29T06:58:36.852957Z",
     "iopub.status.busy": "2022-09-29T06:58:36.852578Z",
     "iopub.status.idle": "2022-09-29T06:58:36.859333Z",
     "shell.execute_reply": "2022-09-29T06:58:36.858016Z"
    },
    "papermill": {
     "duration": 0.075975,
     "end_time": "2022-09-29T06:58:36.864183",
     "exception": false,
     "start_time": "2022-09-29T06:58:36.788208",
     "status": "completed"
    },
    "tags": []
   },
   "outputs": [
    {
     "name": "stdout",
     "output_type": "stream",
     "text": [
      "Multiply Series with help of mul():\n",
      "0      494\n",
      "1      494\n",
      "2     1127\n",
      "3     1127\n",
      "4      705\n",
      "5      705\n",
      "6     1034\n",
      "7     1034\n",
      "8      770\n",
      "9      770\n",
      "10     960\n",
      "11     960\n",
      "12     510\n",
      "13     510\n",
      "14      58\n",
      "dtype: int64\n"
     ]
    }
   ],
   "source": [
    "print(\"Multiply Series with help of mul():\")\n",
    "# pd.series.mul(s1,s2)\n",
    "print(s1.mul(s2))"
   ]
  },
  {
   "cell_type": "markdown",
   "id": "c0d8c896",
   "metadata": {
    "papermill": {
     "duration": 0.062679,
     "end_time": "2022-09-29T06:58:36.988788",
     "exception": false,
     "start_time": "2022-09-29T06:58:36.926109",
     "status": "completed"
    },
    "tags": []
   },
   "source": [
    "#### Division with help of '/' and div():"
   ]
  },
  {
   "cell_type": "code",
   "execution_count": 25,
   "id": "b01cfd22",
   "metadata": {
    "execution": {
     "iopub.execute_input": "2022-09-29T06:58:37.135383Z",
     "iopub.status.busy": "2022-09-29T06:58:37.134991Z",
     "iopub.status.idle": "2022-09-29T06:58:37.144324Z",
     "shell.execute_reply": "2022-09-29T06:58:37.142858Z"
    },
    "papermill": {
     "duration": 0.098895,
     "end_time": "2022-09-29T06:58:37.149227",
     "exception": false,
     "start_time": "2022-09-29T06:58:37.050332",
     "status": "completed"
    },
    "tags": []
   },
   "outputs": [
    {
     "name": "stdout",
     "output_type": "stream",
     "text": [
      "Dividation of Series with help of '/' Operator:\n",
      "0      0.730769\n",
      "1      0.730769\n",
      "2      2.130435\n",
      "3      2.130435\n",
      "4      3.133333\n",
      "5      3.133333\n",
      "6      2.136364\n",
      "7      2.136364\n",
      "8      1.590909\n",
      "9      1.590909\n",
      "10     1.066667\n",
      "11     1.066667\n",
      "12     2.266667\n",
      "13     2.266667\n",
      "14    14.500000\n",
      "dtype: float64\n"
     ]
    }
   ],
   "source": [
    "print(\"Dividation of Series with help of '/' Operator:\")\n",
    "print(s1/s2)"
   ]
  },
  {
   "cell_type": "code",
   "execution_count": 26,
   "id": "500b35f9",
   "metadata": {
    "execution": {
     "iopub.execute_input": "2022-09-29T06:58:37.278238Z",
     "iopub.status.busy": "2022-09-29T06:58:37.277074Z",
     "iopub.status.idle": "2022-09-29T06:58:37.286073Z",
     "shell.execute_reply": "2022-09-29T06:58:37.283649Z"
    },
    "papermill": {
     "duration": 0.075368,
     "end_time": "2022-09-29T06:58:37.289115",
     "exception": false,
     "start_time": "2022-09-29T06:58:37.213747",
     "status": "completed"
    },
    "tags": []
   },
   "outputs": [
    {
     "name": "stdout",
     "output_type": "stream",
     "text": [
      "Dividation of Series with help of mul() fun:\n",
      "0      0.730769\n",
      "1      0.730769\n",
      "2      2.130435\n",
      "3      2.130435\n",
      "4      3.133333\n",
      "5      3.133333\n",
      "6      2.136364\n",
      "7      2.136364\n",
      "8      1.590909\n",
      "9      1.590909\n",
      "10     1.066667\n",
      "11     1.066667\n",
      "12     2.266667\n",
      "13     2.266667\n",
      "14    14.500000\n",
      "dtype: float64\n"
     ]
    }
   ],
   "source": [
    "print(\"Dividation of Series with help of mul() fun:\")\n",
    "print(s1.div(s2))"
   ]
  },
  {
   "cell_type": "markdown",
   "id": "194a3eb7",
   "metadata": {
    "papermill": {
     "duration": 0.066891,
     "end_time": "2022-09-29T06:58:37.418969",
     "exception": false,
     "start_time": "2022-09-29T06:58:37.352078",
     "status": "completed"
    },
    "tags": []
   },
   "source": [
    "#### Maximum of Series using max():"
   ]
  },
  {
   "cell_type": "code",
   "execution_count": 27,
   "id": "46bcd012",
   "metadata": {
    "execution": {
     "iopub.execute_input": "2022-09-29T06:58:37.556942Z",
     "iopub.status.busy": "2022-09-29T06:58:37.556532Z",
     "iopub.status.idle": "2022-09-29T06:58:37.563819Z",
     "shell.execute_reply": "2022-09-29T06:58:37.562483Z"
    },
    "papermill": {
     "duration": 0.079862,
     "end_time": "2022-09-29T06:58:37.567254",
     "exception": false,
     "start_time": "2022-09-29T06:58:37.487392",
     "status": "completed"
    },
    "tags": []
   },
   "outputs": [
    {
     "name": "stdout",
     "output_type": "stream",
     "text": [
      "Maximum of Series: 49\n",
      "Maximum of Series: 30\n"
     ]
    }
   ],
   "source": [
    "print(\"Maximum of Series:\",s1.max())\n",
    "print(\"Maximum of Series:\",s2.max())"
   ]
  },
  {
   "cell_type": "code",
   "execution_count": 28,
   "id": "0a26d016",
   "metadata": {
    "execution": {
     "iopub.execute_input": "2022-09-29T06:58:37.692883Z",
     "iopub.status.busy": "2022-09-29T06:58:37.691868Z",
     "iopub.status.idle": "2022-09-29T06:58:37.700553Z",
     "shell.execute_reply": "2022-09-29T06:58:37.698503Z"
    },
    "papermill": {
     "duration": 0.075146,
     "end_time": "2022-09-29T06:58:37.704442",
     "exception": false,
     "start_time": "2022-09-29T06:58:37.629296",
     "status": "completed"
    },
    "tags": []
   },
   "outputs": [
    {
     "name": "stdout",
     "output_type": "stream",
     "text": [
      "Index of max S1: 2\n",
      "Index of max S2: 10\n"
     ]
    }
   ],
   "source": [
    "#Give Index of MAXIMUM\n",
    "print(\"Index of max S1:\",s1.idxmax())\n",
    "print(\"Index of max S2:\",s2.idxmax())"
   ]
  },
  {
   "cell_type": "markdown",
   "id": "92c04771",
   "metadata": {
    "papermill": {
     "duration": 0.06148,
     "end_time": "2022-09-29T06:58:37.829989",
     "exception": false,
     "start_time": "2022-09-29T06:58:37.768509",
     "status": "completed"
    },
    "tags": []
   },
   "source": [
    "#### Minimum of Series using min():"
   ]
  },
  {
   "cell_type": "code",
   "execution_count": 29,
   "id": "e47af6d9",
   "metadata": {
    "execution": {
     "iopub.execute_input": "2022-09-29T06:58:37.956842Z",
     "iopub.status.busy": "2022-09-29T06:58:37.956433Z",
     "iopub.status.idle": "2022-09-29T06:58:37.963279Z",
     "shell.execute_reply": "2022-09-29T06:58:37.961982Z"
    },
    "papermill": {
     "duration": 0.0753,
     "end_time": "2022-09-29T06:58:37.967173",
     "exception": false,
     "start_time": "2022-09-29T06:58:37.891873",
     "status": "completed"
    },
    "tags": []
   },
   "outputs": [
    {
     "name": "stdout",
     "output_type": "stream",
     "text": [
      "Minimum of Series: 19\n",
      "Minimum of Series: 2\n"
     ]
    }
   ],
   "source": [
    "print(\"Minimum of Series:\",s1.min())\n",
    "print(\"Minimum of Series:\",s2.min())"
   ]
  },
  {
   "cell_type": "code",
   "execution_count": 30,
   "id": "0f8dc028",
   "metadata": {
    "execution": {
     "iopub.execute_input": "2022-09-29T06:58:38.095410Z",
     "iopub.status.busy": "2022-09-29T06:58:38.094979Z",
     "iopub.status.idle": "2022-09-29T06:58:38.102237Z",
     "shell.execute_reply": "2022-09-29T06:58:38.100816Z"
    },
    "papermill": {
     "duration": 0.075547,
     "end_time": "2022-09-29T06:58:38.105889",
     "exception": false,
     "start_time": "2022-09-29T06:58:38.030342",
     "status": "completed"
    },
    "tags": []
   },
   "outputs": [
    {
     "name": "stdout",
     "output_type": "stream",
     "text": [
      "Index of MIN S1: 0\n",
      "Index of MIN S2: 14\n"
     ]
    }
   ],
   "source": [
    "#Give the index of MINIMUM\n",
    "print(\"Index of MIN S1:\",s1.idxmin())\n",
    "print(\"Index of MIN S2:\",s2.idxmin())"
   ]
  },
  {
   "cell_type": "markdown",
   "id": "52de212c",
   "metadata": {
    "papermill": {
     "duration": 0.068516,
     "end_time": "2022-09-29T06:58:38.242133",
     "exception": false,
     "start_time": "2022-09-29T06:58:38.173617",
     "status": "completed"
    },
    "tags": []
   },
   "source": [
    "#### Sum of all element: Sum():"
   ]
  },
  {
   "cell_type": "code",
   "execution_count": 31,
   "id": "bbf7e086",
   "metadata": {
    "execution": {
     "iopub.execute_input": "2022-09-29T06:58:38.378890Z",
     "iopub.status.busy": "2022-09-29T06:58:38.377553Z",
     "iopub.status.idle": "2022-09-29T06:58:38.386945Z",
     "shell.execute_reply": "2022-09-29T06:58:38.384920Z"
    },
    "papermill": {
     "duration": 0.080202,
     "end_time": "2022-09-29T06:58:38.391120",
     "exception": false,
     "start_time": "2022-09-29T06:58:38.310918",
     "status": "completed"
    },
    "tags": []
   },
   "outputs": [
    {
     "name": "stdout",
     "output_type": "stream",
     "text": [
      "Sum of all element S1: 555\n",
      "Sum of all element S2: 308\n"
     ]
    }
   ],
   "source": [
    "print(\"Sum of all element S1:\",s1.sum())\n",
    "print(\"Sum of all element S2:\",s2.sum())"
   ]
  },
  {
   "cell_type": "markdown",
   "id": "1a37a932",
   "metadata": {
    "papermill": {
     "duration": 0.062471,
     "end_time": "2022-09-29T06:58:38.516916",
     "exception": false,
     "start_time": "2022-09-29T06:58:38.454445",
     "status": "completed"
    },
    "tags": []
   },
   "source": [
    "#### Product of all Value:\n",
    "- Return the product of the values over the requested axis.\n",
    "- **Syntex** <h4>Series.prod(axis=None, skipna=True, level=None, numeric_only=None, min_count=0, **kwargs)</h4>"
   ]
  },
  {
   "cell_type": "code",
   "execution_count": 32,
   "id": "45a0a297",
   "metadata": {
    "execution": {
     "iopub.execute_input": "2022-09-29T06:58:38.642927Z",
     "iopub.status.busy": "2022-09-29T06:58:38.642509Z",
     "iopub.status.idle": "2022-09-29T06:58:38.650304Z",
     "shell.execute_reply": "2022-09-29T06:58:38.648691Z"
    },
    "papermill": {
     "duration": 0.075358,
     "end_time": "2022-09-29T06:58:38.653915",
     "exception": false,
     "start_time": "2022-09-29T06:58:38.578557",
     "status": "completed"
    },
    "tags": []
   },
   "outputs": [
    {
     "name": "stdout",
     "output_type": "stream",
     "text": [
      "Due to data type(int64 require higher) it is giviing wrong value: -1711325169118031872\n",
      "Data type: <class 'numpy.int64'>\n",
      "\n",
      "Product of s2 Sereis: 7633621679112000000\n"
     ]
    }
   ],
   "source": [
    "###Due to data type (int64) it is giving wrong value beacuse product value is very high can't store in int64\n",
    "\n",
    "print(\"Due to data type(int64 require higher) it is giviing wrong value:\",s1.prod())  \n",
    "print(\"Data type:\",type(s1.prod()))\n",
    "\n",
    "print(\"\\nProduct of s2 Sereis:\",s2.prod())"
   ]
  },
  {
   "cell_type": "markdown",
   "id": "ae32b30b",
   "metadata": {
    "papermill": {
     "duration": 0.062125,
     "end_time": "2022-09-29T06:58:38.779465",
     "exception": false,
     "start_time": "2022-09-29T06:58:38.717340",
     "status": "completed"
    },
    "tags": []
   },
   "source": [
    "#### Mean of Series Value:\n",
    "- Return the mean of the values over the requested axis.\n",
    "- **Syntax** <h4>Series.mean(axis=_NoDefault.no_default, skipna=True, level=None, numeric_only=None, **kwargs)</h4>\n",
    "\n"
   ]
  },
  {
   "cell_type": "code",
   "execution_count": 33,
   "id": "d533743f",
   "metadata": {
    "execution": {
     "iopub.execute_input": "2022-09-29T06:58:38.911610Z",
     "iopub.status.busy": "2022-09-29T06:58:38.910334Z",
     "iopub.status.idle": "2022-09-29T06:58:38.919184Z",
     "shell.execute_reply": "2022-09-29T06:58:38.917386Z"
    },
    "papermill": {
     "duration": 0.081604,
     "end_time": "2022-09-29T06:58:38.923060",
     "exception": false,
     "start_time": "2022-09-29T06:58:38.841456",
     "status": "completed"
    },
    "tags": []
   },
   "outputs": [
    {
     "name": "stdout",
     "output_type": "stream",
     "text": [
      "Mean of series 1 value: 37.0\n",
      "Mean of series 2 value: 20.533333333333335\n"
     ]
    }
   ],
   "source": [
    "print(\"Mean of series 1 value:\",s1.mean())\n",
    "print(\"Mean of series 2 value:\",s2.mean())"
   ]
  },
  {
   "cell_type": "markdown",
   "id": "e283155e",
   "metadata": {
    "papermill": {
     "duration": 0.072452,
     "end_time": "2022-09-29T06:58:39.064339",
     "exception": false,
     "start_time": "2022-09-29T06:58:38.991887",
     "status": "completed"
    },
    "tags": []
   },
   "source": [
    "#### Power of Series Value:\n",
    "- Return Exponential power of series and other, element-wise (binary operator pow).\n",
    "- **Syntax:** <h4>Series.pow(other, level=None, fill_value=None, axis=0)</h4>"
   ]
  },
  {
   "cell_type": "code",
   "execution_count": 34,
   "id": "3ae4ba9b",
   "metadata": {
    "execution": {
     "iopub.execute_input": "2022-09-29T06:58:39.189693Z",
     "iopub.status.busy": "2022-09-29T06:58:39.189236Z",
     "iopub.status.idle": "2022-09-29T06:58:39.204266Z",
     "shell.execute_reply": "2022-09-29T06:58:39.202965Z"
    },
    "papermill": {
     "duration": 0.082884,
     "end_time": "2022-09-29T06:58:39.208151",
     "exception": false,
     "start_time": "2022-09-29T06:58:39.125267",
     "status": "completed"
    },
    "tags": []
   },
   "outputs": [
    {
     "name": "stdout",
     "output_type": "stream",
     "text": [
      "Power of Series 1 value:\n",
      " 0      361.0\n",
      "1      361.0\n",
      "2     2401.0\n",
      "3     2401.0\n",
      "4     2209.0\n",
      "5     2209.0\n",
      "6     2209.0\n",
      "7     2209.0\n",
      "8     1225.0\n",
      "9     1225.0\n",
      "10    1024.0\n",
      "11    1024.0\n",
      "12    1156.0\n",
      "13    1156.0\n",
      "14     841.0\n",
      "15       NaN\n",
      "16       NaN\n",
      "dtype: float64\n",
      "\n",
      "Power of Series 2 value:\n",
      " 0     676.0\n",
      "1     676.0\n",
      "2     529.0\n",
      "3     529.0\n",
      "4     225.0\n",
      "5     225.0\n",
      "6     484.0\n",
      "7     484.0\n",
      "8     484.0\n",
      "9     484.0\n",
      "10    900.0\n",
      "11    900.0\n",
      "12    225.0\n",
      "13    225.0\n",
      "14      4.0\n",
      "15      NaN\n",
      "16      NaN\n",
      "dtype: float64\n"
     ]
    }
   ],
   "source": [
    "list1=[2 for i in range(17)]\n",
    "power=pd.Series(list1)\n",
    "\n",
    "#power is series with value 2 as POWER to Series s1.\n",
    "print(\"Power of Series 1 value:\\n\",s1.pow(power)) \n",
    "print(\"\\nPower of Series 2 value:\\n\",s2.pow(power))"
   ]
  },
  {
   "cell_type": "code",
   "execution_count": 35,
   "id": "e44e7c8c",
   "metadata": {
    "execution": {
     "iopub.execute_input": "2022-09-29T06:58:39.337871Z",
     "iopub.status.busy": "2022-09-29T06:58:39.336662Z",
     "iopub.status.idle": "2022-09-29T06:58:39.348211Z",
     "shell.execute_reply": "2022-09-29T06:58:39.346750Z"
    },
    "papermill": {
     "duration": 0.079208,
     "end_time": "2022-09-29T06:58:39.351918",
     "exception": false,
     "start_time": "2022-09-29T06:58:39.272710",
     "status": "completed"
    },
    "tags": []
   },
   "outputs": [
    {
     "name": "stdout",
     "output_type": "stream",
     "text": [
      "Power of Series 1 value:\n",
      " 0      361.0\n",
      "1      361.0\n",
      "2     2401.0\n",
      "3     2401.0\n",
      "4     2209.0\n",
      "5     2209.0\n",
      "6     2209.0\n",
      "7     2209.0\n",
      "8     1225.0\n",
      "9     1225.0\n",
      "10    1024.0\n",
      "11    1024.0\n",
      "12    1156.0\n",
      "13    1156.0\n",
      "14     841.0\n",
      "15       0.0\n",
      "16       0.0\n",
      "dtype: float64\n",
      "\n",
      "Power of Series 2 value:\n",
      " 0     676.0\n",
      "1     676.0\n",
      "2     529.0\n",
      "3     529.0\n",
      "4     225.0\n",
      "5     225.0\n",
      "6     484.0\n",
      "7     484.0\n",
      "8     484.0\n",
      "9     484.0\n",
      "10    900.0\n",
      "11    900.0\n",
      "12    225.0\n",
      "13    225.0\n",
      "14      4.0\n",
      "15      0.0\n",
      "16      0.0\n",
      "dtype: float64\n"
     ]
    }
   ],
   "source": [
    "# NaN NONE value replacement \n",
    "None_value=0\n",
    "print(\"Power of Series 1 value:\\n\",s1.pow(power,fill_value=None_value)) \n",
    "print(\"\\nPower of Series 2 value:\\n\",s2.pow(power,fill_value=None_value))"
   ]
  },
  {
   "cell_type": "markdown",
   "id": "7c9eda3b",
   "metadata": {
    "papermill": {
     "duration": 0.063886,
     "end_time": "2022-09-29T06:58:39.480204",
     "exception": false,
     "start_time": "2022-09-29T06:58:39.416318",
     "status": "completed"
    },
    "tags": []
   },
   "source": [
    "#### Absolute value / abs():\n",
    "- The abs() function is used to get a Series/DataFrame with absolute numeric value of each element.|\n",
    "- This function only applies to elements that are all numeric"
   ]
  },
  {
   "cell_type": "code",
   "execution_count": 36,
   "id": "c4e57323",
   "metadata": {
    "execution": {
     "iopub.execute_input": "2022-09-29T06:58:39.611145Z",
     "iopub.status.busy": "2022-09-29T06:58:39.610780Z",
     "iopub.status.idle": "2022-09-29T06:58:39.619754Z",
     "shell.execute_reply": "2022-09-29T06:58:39.618303Z"
    },
    "papermill": {
     "duration": 0.07805,
     "end_time": "2022-09-29T06:58:39.623516",
     "exception": false,
     "start_time": "2022-09-29T06:58:39.545466",
     "status": "completed"
    },
    "tags": []
   },
   "outputs": [
    {
     "name": "stdout",
     "output_type": "stream",
     "text": [
      "Original test Series:\n",
      " 0     -1.0\n",
      "1      3.0\n",
      "2     -4.0\n",
      "3     -4.5\n",
      "4    -10.3\n",
      "5    -90.0\n",
      "6    100.0\n",
      "dtype: float64 \n",
      "\n",
      "Finding absolute value of Series:\n",
      " 0      1.0\n",
      "1      3.0\n",
      "2      4.0\n",
      "3      4.5\n",
      "4     10.3\n",
      "5     90.0\n",
      "6    100.0\n",
      "dtype: float64\n"
     ]
    }
   ],
   "source": [
    "test=pd.Series([-1,3,-4,-4.5,-10.3,-90,100])\n",
    "print(\"Original test Series:\\n\",test,\"\\n\\nFinding absolute value of Series:\\n\",test.abs())"
   ]
  },
  {
   "cell_type": "code",
   "execution_count": 37,
   "id": "ffc2a180",
   "metadata": {
    "execution": {
     "iopub.execute_input": "2022-09-29T06:58:39.754913Z",
     "iopub.status.busy": "2022-09-29T06:58:39.754563Z",
     "iopub.status.idle": "2022-09-29T06:58:39.780934Z",
     "shell.execute_reply": "2022-09-29T06:58:39.778588Z"
    },
    "papermill": {
     "duration": 0.094675,
     "end_time": "2022-09-29T06:58:39.783959",
     "exception": false,
     "start_time": "2022-09-29T06:58:39.689284",
     "status": "completed"
    },
    "tags": []
   },
   "outputs": [
    {
     "name": "stdout",
     "output_type": "stream",
     "text": [
      "First it perform '-' Operation and than absolute:\n"
     ]
    },
    {
     "data": {
      "text/html": [
       "<div>\n",
       "<style scoped>\n",
       "    .dataframe tbody tr th:only-of-type {\n",
       "        vertical-align: middle;\n",
       "    }\n",
       "\n",
       "    .dataframe tbody tr th {\n",
       "        vertical-align: top;\n",
       "    }\n",
       "\n",
       "    .dataframe thead th {\n",
       "        text-align: right;\n",
       "    }\n",
       "</style>\n",
       "<table border=\"1\" class=\"dataframe\">\n",
       "  <thead>\n",
       "    <tr style=\"text-align: right;\">\n",
       "      <th></th>\n",
       "      <th>Name</th>\n",
       "      <th>Age</th>\n",
       "      <th>val</th>\n",
       "      <th>ope</th>\n",
       "    </tr>\n",
       "  </thead>\n",
       "  <tbody>\n",
       "    <tr>\n",
       "      <th>0</th>\n",
       "      <td>John</td>\n",
       "      <td>31</td>\n",
       "      <td>98</td>\n",
       "      <td>11</td>\n",
       "    </tr>\n",
       "    <tr>\n",
       "      <th>1</th>\n",
       "      <td>Hari</td>\n",
       "      <td>29</td>\n",
       "      <td>48</td>\n",
       "      <td>39</td>\n",
       "    </tr>\n",
       "    <tr>\n",
       "      <th>2</th>\n",
       "      <td>Peter</td>\n",
       "      <td>57</td>\n",
       "      <td>-80</td>\n",
       "      <td>167</td>\n",
       "    </tr>\n",
       "    <tr>\n",
       "      <th>3</th>\n",
       "      <td>Loani</td>\n",
       "      <td>40</td>\n",
       "      <td>-14</td>\n",
       "      <td>101</td>\n",
       "    </tr>\n",
       "  </tbody>\n",
       "</table>\n",
       "</div>"
      ],
      "text/plain": [
       "    Name  Age  val  ope\n",
       "0   John   31   98   11\n",
       "1   Hari   29   48   39\n",
       "2  Peter   57  -80  167\n",
       "3  Loani   40  -14  101"
      ]
     },
     "execution_count": 37,
     "metadata": {},
     "output_type": "execute_result"
    }
   ],
   "source": [
    "df = pd.DataFrame({'Name': ['John', 'Hari', 'Peter', 'Loani'],\n",
    "                  'Age': [31, 29, 57, 40],\n",
    "                  'val': [98, 48, -80, -14]})\n",
    " \n",
    "\n",
    "print(\"First it perform '-' Operation and than absolute:\")\n",
    "df['ope'] = (df.val - 87).abs() \n",
    "df"
   ]
  },
  {
   "cell_type": "markdown",
   "id": "5e805b5d",
   "metadata": {
    "papermill": {
     "duration": 0.062965,
     "end_time": "2022-09-29T06:58:39.908541",
     "exception": false,
     "start_time": "2022-09-29T06:58:39.845576",
     "status": "completed"
    },
    "tags": []
   },
   "source": [
    "#### Covariance\n",
    "- Compute covariance with Series, excluding missing values.\n",
    "- **Syntax** <h4>Series.cov(other, min_periods=None, ddof=1)"
   ]
  },
  {
   "cell_type": "code",
   "execution_count": 38,
   "id": "5384906e",
   "metadata": {
    "execution": {
     "iopub.execute_input": "2022-09-29T06:58:40.036701Z",
     "iopub.status.busy": "2022-09-29T06:58:40.035425Z",
     "iopub.status.idle": "2022-09-29T06:58:40.047352Z",
     "shell.execute_reply": "2022-09-29T06:58:40.045513Z"
    },
    "papermill": {
     "duration": 0.079995,
     "end_time": "2022-09-29T06:58:40.051078",
     "exception": false,
     "start_time": "2022-09-29T06:58:39.971083",
     "status": "completed"
    },
    "tags": []
   },
   "outputs": [
    {
     "name": "stdout",
     "output_type": "stream",
     "text": [
      "Find covariance of Sereis: -9.857142857142854\n",
      "Find covariance of Sereis: -9.857142857142854\n"
     ]
    }
   ],
   "source": [
    "print(\"Find covariance of Sereis:\",s2.cov(s1))\n",
    "print(\"Find covariance of Sereis:\",s1.cov(s2))"
   ]
  },
  {
   "cell_type": "code",
   "execution_count": 39,
   "id": "088acb65",
   "metadata": {
    "execution": {
     "iopub.execute_input": "2022-09-29T06:58:40.384633Z",
     "iopub.status.busy": "2022-09-29T06:58:40.384006Z",
     "iopub.status.idle": "2022-09-29T06:58:40.398676Z",
     "shell.execute_reply": "2022-09-29T06:58:40.397527Z"
    },
    "papermill": {
     "duration": 0.161185,
     "end_time": "2022-09-29T06:58:40.404320",
     "exception": false,
     "start_time": "2022-09-29T06:58:40.243135",
     "status": "completed"
    },
    "tags": []
   },
   "outputs": [
    {
     "name": "stdout",
     "output_type": "stream",
     "text": [
      "By Manually: -9.857142857142856\n"
     ]
    }
   ],
   "source": [
    "# storing average of a\n",
    "av_a = sum(s1)/len(s1)\n",
    " \n",
    "# storing average of b\n",
    "av_b = sum(s2)/len(s2)\n",
    " \n",
    "# finding covariance manually\n",
    "def covarfn(a, b, av_a, av_b):\n",
    "    cov = 0\n",
    " \n",
    "    for i in range(0, len(a)):\n",
    "        cov += (a[i] - av_a) * (b[i] - av_b)\n",
    "    return (cov / (len(a)-1))\n",
    " \n",
    "# calling function\n",
    "cov = covarfn(s1, s2, av_a, av_b)\n",
    "\n",
    "print(\"By Manually:\",cov)"
   ]
  },
  {
   "cell_type": "code",
   "execution_count": 40,
   "id": "c5a70dc6",
   "metadata": {
    "execution": {
     "iopub.execute_input": "2022-09-29T06:58:40.637342Z",
     "iopub.status.busy": "2022-09-29T06:58:40.636793Z",
     "iopub.status.idle": "2022-09-29T06:58:40.650588Z",
     "shell.execute_reply": "2022-09-29T06:58:40.648131Z"
    },
    "papermill": {
     "duration": 0.131852,
     "end_time": "2022-09-29T06:58:40.655593",
     "exception": false,
     "start_time": "2022-09-29T06:58:40.523741",
     "status": "completed"
    },
    "tags": []
   },
   "outputs": [
    {
     "name": "stdout",
     "output_type": "stream",
     "text": [
      "Find covariance of Sereis: 105.42857142857142\n",
      "Find covariance of Sereis: 51.838095238095235\n"
     ]
    }
   ],
   "source": [
    "print(\"Find covariance of Sereis:\",s1.cov(s1))\n",
    "print(\"Find covariance of Sereis:\",s2.cov(s2))"
   ]
  },
  {
   "cell_type": "markdown",
   "id": "1414bece",
   "metadata": {
    "papermill": {
     "duration": 0.136537,
     "end_time": "2022-09-29T06:58:40.904318",
     "exception": false,
     "start_time": "2022-09-29T06:58:40.767781",
     "status": "completed"
    },
    "tags": []
   },
   "source": [
    "#### Index Range Of Series:"
   ]
  },
  {
   "cell_type": "code",
   "execution_count": 41,
   "id": "ae1acc82",
   "metadata": {
    "execution": {
     "iopub.execute_input": "2022-09-29T06:58:41.033764Z",
     "iopub.status.busy": "2022-09-29T06:58:41.033265Z",
     "iopub.status.idle": "2022-09-29T06:58:41.041277Z",
     "shell.execute_reply": "2022-09-29T06:58:41.040046Z"
    },
    "papermill": {
     "duration": 0.075193,
     "end_time": "2022-09-29T06:58:41.044158",
     "exception": false,
     "start_time": "2022-09-29T06:58:40.968965",
     "status": "completed"
    },
    "tags": []
   },
   "outputs": [
    {
     "data": {
      "text/plain": [
       "RangeIndex(start=0, stop=15, step=1)"
      ]
     },
     "execution_count": 41,
     "metadata": {},
     "output_type": "execute_result"
    }
   ],
   "source": [
    "s1.index    #Show Index range of Series"
   ]
  },
  {
   "cell_type": "markdown",
   "id": "74159e56",
   "metadata": {
    "papermill": {
     "duration": 0.064122,
     "end_time": "2022-09-29T06:58:41.173457",
     "exception": false,
     "start_time": "2022-09-29T06:58:41.109335",
     "status": "completed"
    },
    "tags": []
   },
   "source": [
    "## Attributes Practise:\n",
    "### Python | pandas.Series.is_unique:\n",
    "- Return boolean if values in the object are unique.\n",
    "- **Syntax** <h4>property Series.is_unique[source]</h4>\n"
   ]
  },
  {
   "cell_type": "code",
   "execution_count": 42,
   "id": "3d91423c",
   "metadata": {
    "execution": {
     "iopub.execute_input": "2022-09-29T06:58:41.307160Z",
     "iopub.status.busy": "2022-09-29T06:58:41.305949Z",
     "iopub.status.idle": "2022-09-29T06:58:41.315301Z",
     "shell.execute_reply": "2022-09-29T06:58:41.313868Z"
    },
    "papermill": {
     "duration": 0.080656,
     "end_time": "2022-09-29T06:58:41.320058",
     "exception": false,
     "start_time": "2022-09-29T06:58:41.239402",
     "status": "completed"
    },
    "tags": []
   },
   "outputs": [
    {
     "name": "stdout",
     "output_type": "stream",
     "text": [
      "Is s1 Unique? False\n",
      "Is s2 Unique? False\n",
      "Is a Unique? True\n"
     ]
    }
   ],
   "source": [
    "print(\"Is s1 Unique?\",s1.is_unique)\n",
    "print(\"Is s2 Unique?\",s2.is_unique)\n",
    "\n",
    "a=pd.Series([1,2,3,4,5,6,7,8,9])\n",
    "print(\"Is a Unique?\",a.is_unique)\n"
   ]
  },
  {
   "cell_type": "markdown",
   "id": "0c51d1ea",
   "metadata": {
    "papermill": {
     "duration": 0.065236,
     "end_time": "2022-09-29T06:58:41.451044",
     "exception": false,
     "start_time": "2022-09-29T06:58:41.385808",
     "status": "completed"
    },
    "tags": []
   },
   "source": [
    "### Python | pandas.Series.size:\n",
    "- Return the number of elements in the underlying data.\n",
    "- **Syntax** <h4>property Series.size</h4>\n",
    "\n"
   ]
  },
  {
   "cell_type": "code",
   "execution_count": 43,
   "id": "da1de6d7",
   "metadata": {
    "execution": {
     "iopub.execute_input": "2022-09-29T06:58:41.582465Z",
     "iopub.status.busy": "2022-09-29T06:58:41.582078Z",
     "iopub.status.idle": "2022-09-29T06:58:41.588797Z",
     "shell.execute_reply": "2022-09-29T06:58:41.587323Z"
    },
    "papermill": {
     "duration": 0.077284,
     "end_time": "2022-09-29T06:58:41.592888",
     "exception": false,
     "start_time": "2022-09-29T06:58:41.515604",
     "status": "completed"
    },
    "tags": []
   },
   "outputs": [
    {
     "name": "stdout",
     "output_type": "stream",
     "text": [
      "Size of s1: 15\n",
      "Size of s1: 15\n",
      "Size of s1: 9\n"
     ]
    }
   ],
   "source": [
    "print(\"Size of s1:\",s1.size)\n",
    "print(\"Size of s1:\",s2.size)\n",
    "print(\"Size of s1:\",a.size)"
   ]
  },
  {
   "cell_type": "markdown",
   "id": "cd01c531",
   "metadata": {
    "papermill": {
     "duration": 0.082213,
     "end_time": "2022-09-29T06:58:41.743790",
     "exception": false,
     "start_time": "2022-09-29T06:58:41.661577",
     "status": "completed"
    },
    "tags": []
   },
   "source": [
    "#### Python | pandas.Series.name:\n",
    "- Return the name of the Series.\n",
    "- **Syntax** <h4>property Series.name</h4>\n",
    "\n",
    "- FOR RENAME WE USE RENAME ATTRIBUTE"
   ]
  },
  {
   "cell_type": "code",
   "execution_count": 44,
   "id": "c5a09636",
   "metadata": {
    "execution": {
     "iopub.execute_input": "2022-09-29T06:58:41.872356Z",
     "iopub.status.busy": "2022-09-29T06:58:41.871985Z",
     "iopub.status.idle": "2022-09-29T06:58:41.880330Z",
     "shell.execute_reply": "2022-09-29T06:58:41.878751Z"
    },
    "papermill": {
     "duration": 0.077923,
     "end_time": "2022-09-29T06:58:41.885210",
     "exception": false,
     "start_time": "2022-09-29T06:58:41.807287",
     "status": "completed"
    },
    "tags": []
   },
   "outputs": [
    {
     "name": "stdout",
     "output_type": "stream",
     "text": [
      "0    19\n",
      "1    19\n",
      "2    49\n",
      "3    49\n",
      "4    47\n",
      "Name: First_Series_S1, dtype: int64\n",
      "\n",
      "0    26\n",
      "1    26\n",
      "2    23\n",
      "3    23\n",
      "4    15\n",
      "Name: Second_Series_S2, dtype: int64\n"
     ]
    }
   ],
   "source": [
    "s1.name=\"First_Series_S1\"\n",
    "s2.name=\"Second_Series_S2\"\n",
    "print(s1.head())\n",
    "print()\n",
    "print(s2.head())"
   ]
  },
  {
   "cell_type": "markdown",
   "id": "e284f657",
   "metadata": {
    "papermill": {
     "duration": 0.06218,
     "end_time": "2022-09-29T06:58:42.067025",
     "exception": false,
     "start_time": "2022-09-29T06:58:42.004845",
     "status": "completed"
    },
    "tags": []
   },
   "source": []
  },
  {
   "cell_type": "code",
   "execution_count": null,
   "id": "3ea4c9c3",
   "metadata": {
    "papermill": {
     "duration": 0.062895,
     "end_time": "2022-09-29T06:58:42.193094",
     "exception": false,
     "start_time": "2022-09-29T06:58:42.130199",
     "status": "completed"
    },
    "tags": []
   },
   "outputs": [],
   "source": []
  },
  {
   "cell_type": "markdown",
   "id": "8ac65274",
   "metadata": {
    "papermill": {
     "duration": 0.064263,
     "end_time": "2022-09-29T06:58:42.322104",
     "exception": false,
     "start_time": "2022-09-29T06:58:42.257841",
     "status": "completed"
    },
    "tags": []
   },
   "source": [
    "## Other Methods Practise:\n",
    "### Python | Pandas Series.combine_first()\n",
    "- Pandas combine_first() method is used to combine two series into one. The result is union of the two series that is in case of Null value in caller series, the value from passed series is taken. In case of both null values at the same index, null is returned at that index.\n",
    "- **Syntax** <h4>Series.combine_first(other)</h4>\n",
    "- Update null elements with value in the same location in ‘other’.\n",
    "\n"
   ]
  },
  {
   "cell_type": "code",
   "execution_count": 45,
   "id": "0b6fbfaf",
   "metadata": {
    "execution": {
     "iopub.execute_input": "2022-09-29T06:58:42.456982Z",
     "iopub.status.busy": "2022-09-29T06:58:42.455918Z",
     "iopub.status.idle": "2022-09-29T06:58:42.469181Z",
     "shell.execute_reply": "2022-09-29T06:58:42.467825Z"
    },
    "papermill": {
     "duration": 0.085918,
     "end_time": "2022-09-29T06:58:42.473069",
     "exception": false,
     "start_time": "2022-09-29T06:58:42.387151",
     "status": "completed"
    },
    "tags": []
   },
   "outputs": [
    {
     "name": "stdout",
     "output_type": "stream",
     "text": [
      "Series 1: 0    1.0\n",
      "1    2.0\n",
      "2    3.0\n",
      "3    4.0\n",
      "4    5.0\n",
      "5    NaN\n",
      "dtype: float64\n",
      "\n",
      "Series 2: 0    1.0\n",
      "1    2.0\n",
      "2    3.0\n",
      "3    4.0\n",
      "4    5.0\n",
      "5    NaN\n",
      "dtype: float64\n",
      "\n",
      "Combine List 0    1.0\n",
      "1    2.0\n",
      "2    3.0\n",
      "3    4.0\n",
      "4    5.0\n",
      "5    6.0\n",
      "dtype: float64\n",
      "\n",
      "Combine List if both have none value at same place 0    1.0\n",
      "1    2.0\n",
      "2    3.0\n",
      "3    4.0\n",
      "4    5.0\n",
      "5    NaN\n",
      "dtype: float64\n"
     ]
    }
   ],
   "source": [
    "a=pd.Series([1,2,3,4,5,np.nan])\n",
    "b=pd.Series([1,2,3,4,5,6])\n",
    "\n",
    "\n",
    "print(\"Series 1:\",a)\n",
    "print(\"\\nSeries 2:\",a)\n",
    "print(\"\\nCombine List\",a.combine_first(b))\n",
    "print(\"\\nCombine List if both have none value at same place\",a.combine_first(a))\n"
   ]
  },
  {
   "cell_type": "markdown",
   "id": "700ed825",
   "metadata": {
    "papermill": {
     "duration": 0.066953,
     "end_time": "2022-09-29T06:58:42.604786",
     "exception": false,
     "start_time": "2022-09-29T06:58:42.537833",
     "status": "completed"
    },
    "tags": []
   },
   "source": [
    "### Python | Pandas Series.count():\n",
    "- Return number of non-NA/null observations in the Series.\n",
    "- **Syntax** <h4>Series.count(level=None)[source]\n"
   ]
  },
  {
   "cell_type": "code",
   "execution_count": 46,
   "id": "e408650f",
   "metadata": {
    "execution": {
     "iopub.execute_input": "2022-09-29T06:58:42.738802Z",
     "iopub.status.busy": "2022-09-29T06:58:42.738349Z",
     "iopub.status.idle": "2022-09-29T06:58:42.746122Z",
     "shell.execute_reply": "2022-09-29T06:58:42.744754Z"
    },
    "papermill": {
     "duration": 0.079644,
     "end_time": "2022-09-29T06:58:42.750216",
     "exception": false,
     "start_time": "2022-09-29T06:58:42.670572",
     "status": "completed"
    },
    "tags": []
   },
   "outputs": [
    {
     "name": "stdout",
     "output_type": "stream",
     "text": [
      "Length of Series: 6\n",
      "Count of Non-NULL(NaN) value: 5\n",
      "Count of NULL value: 1\n"
     ]
    }
   ],
   "source": [
    "print(\"Length of Series:\",len(a))\n",
    "print(\"Count of Non-NULL(NaN) value:\",a.count())\n",
    "print(\"Count of NULL value:\",len(a)-a.count())"
   ]
  },
  {
   "cell_type": "markdown",
   "id": "e1227cc8",
   "metadata": {
    "papermill": {
     "duration": 0.063765,
     "end_time": "2022-09-29T06:58:42.881355",
     "exception": false,
     "start_time": "2022-09-29T06:58:42.817590",
     "status": "completed"
    },
    "tags": []
   },
   "source": [
    "### Python | pandas.Series.sort_values():\n",
    "- Sort by the values.\n",
    "    - Sort a Series in ascending or descending order by some criterion.\n",
    "- **Syntax** <h4>Series.sort_values(axis=0, ascending=True, inplace=False, kind='quicksort', na_position='last', ignore_index=False, key=None)\n"
   ]
  },
  {
   "cell_type": "code",
   "execution_count": 47,
   "id": "ae2d091e",
   "metadata": {
    "execution": {
     "iopub.execute_input": "2022-09-29T06:58:43.010238Z",
     "iopub.status.busy": "2022-09-29T06:58:43.009851Z",
     "iopub.status.idle": "2022-09-29T06:58:43.017508Z",
     "shell.execute_reply": "2022-09-29T06:58:43.016195Z"
    },
    "papermill": {
     "duration": 0.075959,
     "end_time": "2022-09-29T06:58:43.021744",
     "exception": false,
     "start_time": "2022-09-29T06:58:42.945785",
     "status": "completed"
    },
    "tags": []
   },
   "outputs": [
    {
     "name": "stdout",
     "output_type": "stream",
     "text": [
      "Sorting values by values of Series:\n",
      " 0     19\n",
      "1     19\n",
      "14    29\n",
      "10    32\n",
      "11    32\n",
      "12    34\n",
      "13    34\n",
      "8     35\n",
      "9     35\n",
      "4     47\n",
      "5     47\n",
      "6     47\n",
      "7     47\n",
      "2     49\n",
      "3     49\n",
      "Name: First_Series_S1, dtype: int64\n"
     ]
    }
   ],
   "source": [
    "print(\"Sorting values by values of Series:\\n\",s1.sort_values(ascending=True))"
   ]
  },
  {
   "cell_type": "code",
   "execution_count": 48,
   "id": "19cfb710",
   "metadata": {
    "execution": {
     "iopub.execute_input": "2022-09-29T06:58:43.149127Z",
     "iopub.status.busy": "2022-09-29T06:58:43.147963Z",
     "iopub.status.idle": "2022-09-29T06:58:43.156599Z",
     "shell.execute_reply": "2022-09-29T06:58:43.154810Z"
    },
    "papermill": {
     "duration": 0.077026,
     "end_time": "2022-09-29T06:58:43.160188",
     "exception": false,
     "start_time": "2022-09-29T06:58:43.083162",
     "status": "completed"
    },
    "tags": []
   },
   "outputs": [
    {
     "name": "stdout",
     "output_type": "stream",
     "text": [
      "Sorting values by values of Series:\n",
      " 2     49\n",
      "3     49\n",
      "4     47\n",
      "5     47\n",
      "6     47\n",
      "7     47\n",
      "8     35\n",
      "9     35\n",
      "12    34\n",
      "13    34\n",
      "10    32\n",
      "11    32\n",
      "14    29\n",
      "0     19\n",
      "1     19\n",
      "Name: First_Series_S1, dtype: int64\n"
     ]
    }
   ],
   "source": [
    "print(\"Sorting values by values of Series:\\n\",s1.sort_values(ascending=False))"
   ]
  },
  {
   "cell_type": "markdown",
   "id": "7672d4dc",
   "metadata": {
    "papermill": {
     "duration": 0.064858,
     "end_time": "2022-09-29T06:58:43.289985",
     "exception": false,
     "start_time": "2022-09-29T06:58:43.225127",
     "status": "completed"
    },
    "tags": []
   },
   "source": [
    "- Returns a new Series sorted by label if inplace argument is False, otherwise updates the original series and returns None"
   ]
  },
  {
   "cell_type": "code",
   "execution_count": 49,
   "id": "4f83a094",
   "metadata": {
    "execution": {
     "iopub.execute_input": "2022-09-29T06:58:43.422505Z",
     "iopub.status.busy": "2022-09-29T06:58:43.421288Z",
     "iopub.status.idle": "2022-09-29T06:58:43.431705Z",
     "shell.execute_reply": "2022-09-29T06:58:43.429143Z"
    },
    "papermill": {
     "duration": 0.081128,
     "end_time": "2022-09-29T06:58:43.434410",
     "exception": false,
     "start_time": "2022-09-29T06:58:43.353282",
     "status": "completed"
    },
    "tags": []
   },
   "outputs": [
    {
     "name": "stdout",
     "output_type": "stream",
     "text": [
      "Print 'None'(Reason above): None\n",
      "2     49\n",
      "3     49\n",
      "4     47\n",
      "5     47\n",
      "6     47\n",
      "7     47\n",
      "8     35\n",
      "9     35\n",
      "12    34\n",
      "13    34\n",
      "10    32\n",
      "11    32\n",
      "14    29\n",
      "0     19\n",
      "1     19\n",
      "Name: First_Series_S1, dtype: int64\n"
     ]
    }
   ],
   "source": [
    "print(\"Print 'None'(Reason above):\",s1.sort_values(ascending=False,inplace=True))\n",
    "print(s1)"
   ]
  },
  {
   "cell_type": "code",
   "execution_count": 50,
   "id": "dfe24007",
   "metadata": {
    "execution": {
     "iopub.execute_input": "2022-09-29T06:58:43.569055Z",
     "iopub.status.busy": "2022-09-29T06:58:43.568052Z",
     "iopub.status.idle": "2022-09-29T06:58:43.581536Z",
     "shell.execute_reply": "2022-09-29T06:58:43.580100Z"
    },
    "papermill": {
     "duration": 0.081332,
     "end_time": "2022-09-29T06:58:43.584687",
     "exception": false,
     "start_time": "2022-09-29T06:58:43.503355",
     "status": "completed"
    },
    "tags": []
   },
   "outputs": [
    {
     "name": "stdout",
     "output_type": "stream",
     "text": [
      "Sorting values by values of Series:\n",
      " 3    NaN\n",
      "6    NaN\n",
      "0    1.0\n",
      "1    2.0\n",
      "2    3.0\n",
      "5    4.0\n",
      "8    4.0\n",
      "4    5.0\n",
      "7    6.0\n",
      "dtype: float64\n",
      "Sorting values by values of Series:\n",
      " 0    1.0\n",
      "1    2.0\n",
      "2    3.0\n",
      "5    4.0\n",
      "8    4.0\n",
      "4    5.0\n",
      "7    6.0\n",
      "3    NaN\n",
      "6    NaN\n",
      "dtype: float64\n"
     ]
    }
   ],
   "source": [
    "a=pd.Series([1,2,3,np.nan,5,4,np.nan,6,4])\n",
    "print(\"Sorting values by values of Series:\\n\",a.sort_values(ascending=True,na_position='first'))\n",
    "print(\"Sorting values by values of Series:\\n\",a.sort_values(ascending=True,na_position='last'))"
   ]
  },
  {
   "cell_type": "code",
   "execution_count": 51,
   "id": "72932a89",
   "metadata": {
    "execution": {
     "iopub.execute_input": "2022-09-29T06:58:43.715139Z",
     "iopub.status.busy": "2022-09-29T06:58:43.714763Z",
     "iopub.status.idle": "2022-09-29T06:58:43.724628Z",
     "shell.execute_reply": "2022-09-29T06:58:43.722380Z"
    },
    "papermill": {
     "duration": 0.079803,
     "end_time": "2022-09-29T06:58:43.728521",
     "exception": false,
     "start_time": "2022-09-29T06:58:43.648718",
     "status": "completed"
    },
    "tags": []
   },
   "outputs": [
    {
     "name": "stdout",
     "output_type": "stream",
     "text": [
      "Sorting values by values of Series:\n",
      " 3    a\n",
      "1    b\n",
      "4    c\n",
      "2    d\n",
      "0    z\n",
      "dtype: object\n"
     ]
    }
   ],
   "source": [
    "test = pd.Series(['z', 'b', 'd', 'a', 'c'])\n",
    "print(\"Sorting values by values of Series:\\n\",test.sort_values())\n"
   ]
  },
  {
   "cell_type": "code",
   "execution_count": 52,
   "id": "23886a44",
   "metadata": {
    "execution": {
     "iopub.execute_input": "2022-09-29T06:58:43.861942Z",
     "iopub.status.busy": "2022-09-29T06:58:43.861535Z",
     "iopub.status.idle": "2022-09-29T06:58:43.872816Z",
     "shell.execute_reply": "2022-09-29T06:58:43.871146Z"
    },
    "papermill": {
     "duration": 0.080535,
     "end_time": "2022-09-29T06:58:43.876787",
     "exception": false,
     "start_time": "2022-09-29T06:58:43.796252",
     "status": "completed"
    },
    "tags": []
   },
   "outputs": [
    {
     "name": "stdout",
     "output_type": "stream",
     "text": [
      "Before:\n",
      " 1     B\n",
      "3     D\n",
      "7     F\n",
      "8     I\n",
      "0     a\n",
      "2     c\n",
      "4     e\n",
      "5     g\n",
      "6     h\n",
      "9     j\n",
      "10    k\n",
      "dtype: object\n",
      "\n",
      "After:\n",
      " 0     a\n",
      "1     B\n",
      "2     c\n",
      "3     D\n",
      "4     e\n",
      "7     F\n",
      "5     g\n",
      "6     h\n",
      "8     I\n",
      "9     j\n",
      "10    k\n",
      "dtype: object\n"
     ]
    }
   ],
   "source": [
    "s = pd.Series(['a', 'B', 'c', 'D', 'e','g','h','F','I','j','k',])\n",
    "print(\"Before:\\n\",s.sort_values())\n",
    "print(\"\\nAfter:\\n\",s.sort_values(key=lambda x: x.str.lower()))"
   ]
  },
  {
   "cell_type": "code",
   "execution_count": 53,
   "id": "a99e42b7",
   "metadata": {
    "execution": {
     "iopub.execute_input": "2022-09-29T06:58:44.008823Z",
     "iopub.status.busy": "2022-09-29T06:58:44.007588Z",
     "iopub.status.idle": "2022-09-29T06:58:44.022032Z",
     "shell.execute_reply": "2022-09-29T06:58:44.020581Z"
    },
    "papermill": {
     "duration": 0.081271,
     "end_time": "2022-09-29T06:58:44.024583",
     "exception": false,
     "start_time": "2022-09-29T06:58:43.943312",
     "status": "completed"
    },
    "tags": []
   },
   "outputs": [
    {
     "data": {
      "text/plain": [
       "1   -2\n",
       "4    4\n",
       "2    0\n",
       "0   -4\n",
       "3    2\n",
       "dtype: int64"
      ]
     },
     "execution_count": 53,
     "metadata": {},
     "output_type": "execute_result"
    }
   ],
   "source": [
    "\"\"\"NumPy ufuncs work well here. For example, we can sort by the sin of the value\"\"\"\n",
    "s = pd.Series([-4, -2, 0, 2, 4])\n",
    "s.sort_values(key=np.sin)"
   ]
  },
  {
   "cell_type": "code",
   "execution_count": 54,
   "id": "aed36a9d",
   "metadata": {
    "execution": {
     "iopub.execute_input": "2022-09-29T06:58:44.154059Z",
     "iopub.status.busy": "2022-09-29T06:58:44.153112Z",
     "iopub.status.idle": "2022-09-29T06:58:44.163455Z",
     "shell.execute_reply": "2022-09-29T06:58:44.162129Z"
    },
    "papermill": {
     "duration": 0.078541,
     "end_time": "2022-09-29T06:58:44.166078",
     "exception": false,
     "start_time": "2022-09-29T06:58:44.087537",
     "status": "completed"
    },
    "tags": []
   },
   "outputs": [
    {
     "data": {
      "text/plain": [
       "0   -4\n",
       "3    2\n",
       "4    4\n",
       "1   -2\n",
       "2    0\n",
       "dtype: int64"
      ]
     },
     "execution_count": 54,
     "metadata": {},
     "output_type": "execute_result"
    }
   ],
   "source": [
    "\"\"\"More complicated user-defined functions can be used, as long as they expect\n",
    "a Series and return an array-like\"\"\"\n",
    "\n",
    "s.sort_values(key=lambda x: (np.tan(x.cumsum())))"
   ]
  },
  {
   "cell_type": "markdown",
   "id": "fe876eb0",
   "metadata": {
    "papermill": {
     "duration": 0.064333,
     "end_time": "2022-09-29T06:58:44.293361",
     "exception": false,
     "start_time": "2022-09-29T06:58:44.229028",
     "status": "completed"
    },
    "tags": []
   },
   "source": [
    "### Python | pandas.Series.sort_index():\n",
    "- Sort Series by index labels.\n",
    "- Returns a new Series sorted by label if inplace argument is **False**, otherwise updates the original series and returns **None**\n",
    "- **Syntax** <h4>Series.sort_index(axis=0, level=None, ascending=True, inplace=False, kind='quicksort', na_position='last', sort_remaining=True, ignore_index=False, key=None)"
   ]
  },
  {
   "cell_type": "code",
   "execution_count": 55,
   "id": "51d02474",
   "metadata": {
    "execution": {
     "iopub.execute_input": "2022-09-29T06:58:44.426471Z",
     "iopub.status.busy": "2022-09-29T06:58:44.425366Z",
     "iopub.status.idle": "2022-09-29T06:58:44.441052Z",
     "shell.execute_reply": "2022-09-29T06:58:44.439743Z"
    },
    "papermill": {
     "duration": 0.086977,
     "end_time": "2022-09-29T06:58:44.443879",
     "exception": false,
     "start_time": "2022-09-29T06:58:44.356902",
     "status": "completed"
    },
    "tags": []
   },
   "outputs": [
    {
     "name": "stdout",
     "output_type": "stream",
     "text": [
      "Before :\n",
      " 3    a\n",
      "2    b\n",
      "1    c\n",
      "4    d\n",
      "dtype: object\n"
     ]
    },
    {
     "data": {
      "text/plain": [
       "1    c\n",
       "2    b\n",
       "3    a\n",
       "4    d\n",
       "dtype: object"
      ]
     },
     "execution_count": 55,
     "metadata": {},
     "output_type": "execute_result"
    }
   ],
   "source": [
    "s = pd.Series(['a', 'b', 'c', 'd'], index=[3, 2, 1, 4])\n",
    "print(\"Before :\\n\",s)\n",
    "s.sort_index()"
   ]
  },
  {
   "cell_type": "code",
   "execution_count": 56,
   "id": "7a7d8baa",
   "metadata": {
    "execution": {
     "iopub.execute_input": "2022-09-29T06:58:44.583666Z",
     "iopub.status.busy": "2022-09-29T06:58:44.583273Z",
     "iopub.status.idle": "2022-09-29T06:58:44.593309Z",
     "shell.execute_reply": "2022-09-29T06:58:44.591816Z"
    },
    "papermill": {
     "duration": 0.080797,
     "end_time": "2022-09-29T06:58:44.596119",
     "exception": false,
     "start_time": "2022-09-29T06:58:44.515322",
     "status": "completed"
    },
    "tags": []
   },
   "outputs": [
    {
     "data": {
      "text/plain": [
       "4    d\n",
       "3    a\n",
       "2    b\n",
       "1    c\n",
       "dtype: object"
      ]
     },
     "execution_count": 56,
     "metadata": {},
     "output_type": "execute_result"
    }
   ],
   "source": [
    "s.sort_index(ascending=False)"
   ]
  },
  {
   "cell_type": "code",
   "execution_count": 57,
   "id": "e53cd62e",
   "metadata": {
    "execution": {
     "iopub.execute_input": "2022-09-29T06:58:44.732769Z",
     "iopub.status.busy": "2022-09-29T06:58:44.731493Z",
     "iopub.status.idle": "2022-09-29T06:58:44.741846Z",
     "shell.execute_reply": "2022-09-29T06:58:44.739558Z"
    },
    "papermill": {
     "duration": 0.082872,
     "end_time": "2022-09-29T06:58:44.744526",
     "exception": false,
     "start_time": "2022-09-29T06:58:44.661654",
     "status": "completed"
    },
    "tags": []
   },
   "outputs": [
    {
     "name": "stdout",
     "output_type": "stream",
     "text": [
      "None\n",
      "1    c\n",
      "2    b\n",
      "3    a\n",
      "4    d\n",
      "dtype: object\n"
     ]
    }
   ],
   "source": [
    "\"\"\"Returns a new Series sorted by label if inplace argument is False, \n",
    "otherwise updates the original series and returns None\"\"\"\n",
    "\n",
    "print(s.sort_index(inplace=True))\n",
    "print(s)"
   ]
  },
  {
   "cell_type": "code",
   "execution_count": 58,
   "id": "5df75e27",
   "metadata": {
    "execution": {
     "iopub.execute_input": "2022-09-29T06:58:44.875366Z",
     "iopub.status.busy": "2022-09-29T06:58:44.875024Z",
     "iopub.status.idle": "2022-09-29T06:58:44.885003Z",
     "shell.execute_reply": "2022-09-29T06:58:44.883594Z"
    },
    "papermill": {
     "duration": 0.077007,
     "end_time": "2022-09-29T06:58:44.887750",
     "exception": false,
     "start_time": "2022-09-29T06:58:44.810743",
     "status": "completed"
    },
    "tags": []
   },
   "outputs": [
    {
     "data": {
      "text/plain": [
       "NaN    d\n",
       "1.0    c\n",
       "2.0    b\n",
       "3.0    a\n",
       "dtype: object"
      ]
     },
     "execution_count": 58,
     "metadata": {},
     "output_type": "execute_result"
    }
   ],
   "source": [
    "s = pd.Series(['a', 'b', 'c', 'd'], index=[3, 2, 1, np.nan])\n",
    "s.sort_index(na_position='first')"
   ]
  },
  {
   "cell_type": "code",
   "execution_count": 59,
   "id": "92c3d839",
   "metadata": {
    "execution": {
     "iopub.execute_input": "2022-09-29T06:58:45.018718Z",
     "iopub.status.busy": "2022-09-29T06:58:45.017730Z",
     "iopub.status.idle": "2022-09-29T06:58:45.035610Z",
     "shell.execute_reply": "2022-09-29T06:58:45.033711Z"
    },
    "papermill": {
     "duration": 0.085968,
     "end_time": "2022-09-29T06:58:45.038301",
     "exception": false,
     "start_time": "2022-09-29T06:58:44.952333",
     "status": "completed"
    },
    "tags": []
   },
   "outputs": [
    {
     "name": "stdout",
     "output_type": "stream",
     "text": [
      "Print By level 1:\n",
      " bar  one    8\n",
      "baz  one    6\n",
      "foo  one    4\n",
      "qux  one    2\n",
      "bar  two    7\n",
      "baz  two    5\n",
      "foo  two    3\n",
      "qux  two    1\n",
      "dtype: int64\n",
      "\n",
      "Print By level 2:\n",
      " bar  one    8\n",
      "     two    7\n",
      "baz  one    6\n",
      "     two    5\n",
      "foo  one    4\n",
      "     two    3\n",
      "qux  one    2\n",
      "     two    1\n",
      "dtype: int64\n"
     ]
    }
   ],
   "source": [
    "arrays = [np.array(['qux', 'qux', 'foo', 'foo',\n",
    "                    'baz', 'baz', 'bar', 'bar']),\n",
    "          np.array(['two', 'one', 'two', 'one',\n",
    "                    'two', 'one', 'two', 'one'])]\n",
    "#2-D array index\n",
    "s = pd.Series([1, 2, 3, 4, 5, 6, 7, 8], index=arrays)\n",
    "print(\"Print By level 1:\\n\",s.sort_index(level=1))\n",
    "print(\"\\nPrint By level 2:\\n\",s.sort_index(level=0))"
   ]
  },
  {
   "cell_type": "code",
   "execution_count": 60,
   "id": "23a87ced",
   "metadata": {
    "execution": {
     "iopub.execute_input": "2022-09-29T06:58:45.175155Z",
     "iopub.status.busy": "2022-09-29T06:58:45.173960Z",
     "iopub.status.idle": "2022-09-29T06:58:45.184625Z",
     "shell.execute_reply": "2022-09-29T06:58:45.183266Z"
    },
    "papermill": {
     "duration": 0.079947,
     "end_time": "2022-09-29T06:58:45.187300",
     "exception": false,
     "start_time": "2022-09-29T06:58:45.107353",
     "status": "completed"
    },
    "tags": []
   },
   "outputs": [
    {
     "data": {
      "text/plain": [
       "qux  one    2\n",
       "foo  one    4\n",
       "baz  one    6\n",
       "bar  one    8\n",
       "qux  two    1\n",
       "foo  two    3\n",
       "baz  two    5\n",
       "bar  two    7\n",
       "dtype: int64"
      ]
     },
     "execution_count": 60,
     "metadata": {},
     "output_type": "execute_result"
    }
   ],
   "source": [
    "s.sort_index(level=1, sort_remaining=False)"
   ]
  },
  {
   "cell_type": "code",
   "execution_count": 61,
   "id": "2f495dca",
   "metadata": {
    "execution": {
     "iopub.execute_input": "2022-09-29T06:58:45.322938Z",
     "iopub.status.busy": "2022-09-29T06:58:45.321334Z",
     "iopub.status.idle": "2022-09-29T06:58:45.333721Z",
     "shell.execute_reply": "2022-09-29T06:58:45.332324Z"
    },
    "papermill": {
     "duration": 0.084928,
     "end_time": "2022-09-29T06:58:45.336310",
     "exception": false,
     "start_time": "2022-09-29T06:58:45.251382",
     "status": "completed"
    },
    "tags": []
   },
   "outputs": [
    {
     "data": {
      "text/plain": [
       "A    1\n",
       "b    2\n",
       "C    3\n",
       "d    4\n",
       "dtype: int64"
      ]
     },
     "execution_count": 61,
     "metadata": {},
     "output_type": "execute_result"
    }
   ],
   "source": [
    "s = pd.Series([1, 2, 3, 4], index=['A', 'b', 'C', 'd'])\n",
    "s.sort_index(key=lambda x : x.str.lower())"
   ]
  },
  {
   "cell_type": "markdown",
   "id": "ed9eb578",
   "metadata": {
    "papermill": {
     "duration": 0.066969,
     "end_time": "2022-09-29T06:58:45.470200",
     "exception": false,
     "start_time": "2022-09-29T06:58:45.403231",
     "status": "completed"
    },
    "tags": []
   },
   "source": [
    "# NOTE FOR ALL THE METHODS & ATTRIBUTE VISIT \n",
    "https://pandas.pydata.org/docs/reference/api/pandas.Series.html#pandas.Series\n",
    "***"
   ]
  },
  {
   "cell_type": "markdown",
   "id": "9db676e2",
   "metadata": {
    "papermill": {
     "duration": 0.067891,
     "end_time": "2022-09-29T06:58:45.603624",
     "exception": false,
     "start_time": "2022-09-29T06:58:45.535733",
     "status": "completed"
    },
    "tags": []
   },
   "source": [
    "***\n",
    "# 2. pandas.DataFrame(): \n",
    "- DataFrame is a 2-dimensional labeled data structure with columns of potentially different types. You can think of it like a **spreadsheet** or **SQL table**, or a dict of Series objects. It is generally the most commonly used pandas object.\n",
    "\n",
    "- **Like Series, DataFrame accepts many different kinds of input:**\n",
    "\n",
    "    - Dict of 1D ndarrays, lists, dicts, or Series\n",
    "    - 2-D numpy.ndarray\n",
    "    - Structured or record ndarray\n",
    "    - A Series\n",
    "    - Another DataFrame\n",
    "    \n",
    "Along with the data, you can optionally pass index (row labels) and columns (column labels) arguments. If you pass an index and / or columns, you are guaranteeing the index and / or columns of the resulting DataFrame. Thus, a dict of Series plus a specific index will discard all data not matching up to the passed index.\n",
    "\n",
    "If axis labels are not passed, they will be constructed from the input data based on common sense rules.\n",
    "\n",
    "- **Syntex:** <h3>class pandas.DataFrame(data=None, index=None, columns=None, dtype=None, copy=None)</h3>\n",
    "![](https://media.geeksforgeeks.org/wp-content/uploads/finallpandas.png)\n",
    "\n",
    "\n",
    "### Attributes of DataFrame:\n",
    "***\n",
    "<table class=\"autosummary longtable table autosummary\">\n",
    "<colgroup>\n",
    "<col style=\"width: 10%\">\n",
    "<col style=\"width: 90%\">\n",
    "</colgroup>\n",
    "<tbody>\n",
    "<tr class=\"row-odd\"><td><p><a class=\"reference internal\" href=\"https://pandas.pydata.org/docs/reference/api/pandas.DataFrame.at.html#pandas.DataFrame.at\" title=\"pandas.DataFrame.at\"><code class=\"xref py py-obj docutils literal notranslate\"><span class=\"pre\">at</span></code></a></p></td>\n",
    "<td><p>Access a single value for a row/column label pair.</p></td>\n",
    "</tr>\n",
    "<tr class=\"row-even\"><td><p><a class=\"reference internal\" href=\"pandas.DataFrame.attrs.html#pandas.DataFrame.attrs\" title=\"pandas.DataFrame.attrs\"><code class=\"xref py py-obj docutils literal notranslate\"><span class=\"pre\">attrs</span></code></a></p></td>\n",
    "<td><p>Dictionary of global attributes of this dataset.</p></td>\n",
    "</tr>\n",
    "<tr class=\"row-odd\"><td><p><a class=\"reference internal\" href=\"pandas.DataFrame.axes.html#pandas.DataFrame.axes\" title=\"pandas.DataFrame.axes\"><code class=\"xref py py-obj docutils literal notranslate\"><span class=\"pre\">axes</span></code></a></p></td>\n",
    "<td><p>Return a list representing the axes of the DataFrame.</p></td>\n",
    "</tr>\n",
    "<tr class=\"row-even\"><td><p><a class=\"reference internal\" href=\"pandas.DataFrame.columns.html#pandas.DataFrame.columns\" title=\"pandas.DataFrame.columns\"><code class=\"xref py py-obj docutils literal notranslate\"><span class=\"pre\">columns</span></code></a></p></td>\n",
    "<td><p>The column labels of the DataFrame.</p></td>\n",
    "</tr>\n",
    "<tr class=\"row-odd\"><td><p><a class=\"reference internal\" href=\"pandas.DataFrame.dtypes.html#pandas.DataFrame.dtypes\" title=\"pandas.DataFrame.dtypes\"><code class=\"xref py py-obj docutils literal notranslate\"><span class=\"pre\">dtypes</span></code></a></p></td>\n",
    "<td><p>Return the dtypes in the DataFrame.</p></td>\n",
    "</tr>\n",
    "<tr class=\"row-even\"><td><p><a class=\"reference internal\" href=\"pandas.DataFrame.empty.html#pandas.DataFrame.empty\" title=\"pandas.DataFrame.empty\"><code class=\"xref py py-obj docutils literal notranslate\"><span class=\"pre\">empty</span></code></a></p></td>\n",
    "<td><p>Indicator whether Series/DataFrame is empty.</p></td>\n",
    "</tr>\n",
    "<tr class=\"row-odd\"><td><p><a class=\"reference internal\" href=\"pandas.DataFrame.flags.html#pandas.DataFrame.flags\" title=\"pandas.DataFrame.flags\"><code class=\"xref py py-obj docutils literal notranslate\"><span class=\"pre\">flags</span></code></a></p></td>\n",
    "<td><p>Get the properties associated with this pandas object.</p></td>\n",
    "</tr>\n",
    "<tr class=\"row-even\"><td><p><a class=\"reference internal\" href=\"pandas.DataFrame.iat.html#pandas.DataFrame.iat\" title=\"pandas.DataFrame.iat\"><code class=\"xref py py-obj docutils literal notranslate\"><span class=\"pre\">iat</span></code></a></p></td>\n",
    "<td><p>Access a single value for a row/column pair by integer position.</p></td>\n",
    "</tr>\n",
    "<tr class=\"row-odd\"><td><p><a class=\"reference internal\" href=\"pandas.DataFrame.iloc.html#pandas.DataFrame.iloc\" title=\"pandas.DataFrame.iloc\"><code class=\"xref py py-obj docutils literal notranslate\"><span class=\"pre\">iloc</span></code></a></p></td>\n",
    "<td><p>Purely integer-location based indexing for selection by position.</p></td>\n",
    "</tr>\n",
    "<tr class=\"row-even\"><td><p><a class=\"reference internal\" href=\"pandas.DataFrame.index.html#pandas.DataFrame.index\" title=\"pandas.DataFrame.index\"><code class=\"xref py py-obj docutils literal notranslate\"><span class=\"pre\">index</span></code></a></p></td>\n",
    "<td><p>The index (row labels) of the DataFrame.</p></td>\n",
    "</tr>\n",
    "<tr class=\"row-odd\"><td><p><a class=\"reference internal\" href=\"pandas.DataFrame.loc.html#pandas.DataFrame.loc\" title=\"pandas.DataFrame.loc\"><code class=\"xref py py-obj docutils literal notranslate\"><span class=\"pre\">loc</span></code></a></p></td>\n",
    "<td><p>Access a group of rows and columns by label(s) or a boolean array.</p></td>\n",
    "</tr>\n",
    "<tr class=\"row-even\"><td><p><a class=\"reference internal\" href=\"pandas.DataFrame.ndim.html#pandas.DataFrame.ndim\" title=\"pandas.DataFrame.ndim\"><code class=\"xref py py-obj docutils literal notranslate\"><span class=\"pre\">ndim</span></code></a></p></td>\n",
    "<td><p>Return an int representing the number of axes / array dimensions.</p></td>\n",
    "</tr>\n",
    "<tr class=\"row-odd\"><td><p><a class=\"reference internal\" href=\"pandas.DataFrame.shape.html#pandas.DataFrame.shape\" title=\"pandas.DataFrame.shape\"><code class=\"xref py py-obj docutils literal notranslate\"><span class=\"pre\">shape</span></code></a></p></td>\n",
    "<td><p>Return a tuple representing the dimensionality of the DataFrame.</p></td>\n",
    "</tr>\n",
    "<tr class=\"row-even\"><td><p><a class=\"reference internal\" href=\"pandas.DataFrame.size.html#pandas.DataFrame.size\" title=\"pandas.DataFrame.size\"><code class=\"xref py py-obj docutils literal notranslate\"><span class=\"pre\">size</span></code></a></p></td>\n",
    "<td><p>Return an int representing the number of elements in this object.</p></td>\n",
    "</tr>\n",
    "<tr class=\"row-odd\"><td><p><a class=\"reference internal\" href=\"pandas.DataFrame.style.html#pandas.DataFrame.style\" title=\"pandas.DataFrame.style\"><code class=\"xref py py-obj docutils literal notranslate\"><span class=\"pre\">style</span></code></a></p></td>\n",
    "<td><p>Returns a Styler object.</p></td>\n",
    "</tr>\n",
    "<tr class=\"row-even\"><td><p><a class=\"reference internal\" href=\"pandas.DataFrame.values.html#pandas.DataFrame.values\" title=\"pandas.DataFrame.values\"><code class=\"xref py py-obj docutils literal notranslate\"><span class=\"pre\">values</span></code></a></p></td>\n",
    "<td><p>Return a Numpy representation of the DataFrame.</p></td>\n",
    "</tr>\n",
    "</tbody>\n",
    "</table>\n",
    "\n",
    "### Methods of DataFrame:\n",
    "***\n",
    "<dd> \n",
    "<table class=\"autosummary longtable table autosummary\">\n",
    "<colgroup>\n",
    "<col style=\"width: 10%\">\n",
    "<col style=\"width: 90%\">\n",
    "</colgroup>\n",
    "<tbody>\n",
    "<tr class=\"row-odd\"><td><p><a class=\"reference internal\" href=\"pandas.DataFrame.abs.html#pandas.DataFrame.abs\" title=\"pandas.DataFrame.abs\"><code class=\"xref py py-obj docutils literal notranslate\"><span class=\"pre\">abs</span></code></a>()</p></td>\n",
    "<td><p>Return a Series/DataFrame with absolute numeric value of each element.</p></td>\n",
    "</tr>\n",
    "<tr class=\"row-even\"><td><p><a class=\"reference internal\" href=\"pandas.DataFrame.add.html#pandas.DataFrame.add\" title=\"pandas.DataFrame.add\"><code class=\"xref py py-obj docutils literal notranslate\"><span class=\"pre\">add</span></code></a>(other[,&nbsp;axis,&nbsp;level,&nbsp;fill_value])</p></td>\n",
    "<td><p>Get Addition of dataframe and other, element-wise (binary operator <cite>add</cite>).</p></td>\n",
    "</tr>\n",
    "<tr class=\"row-odd\"><td><p><a class=\"reference internal\" href=\"pandas.DataFrame.add_prefix.html#pandas.DataFrame.add_prefix\" title=\"pandas.DataFrame.add_prefix\"><code class=\"xref py py-obj docutils literal notranslate\"><span class=\"pre\">add_prefix</span></code></a>(prefix)</p></td>\n",
    "<td><p>Prefix labels with string <cite>prefix</cite>.</p></td>\n",
    "</tr>\n",
    "<tr class=\"row-even\"><td><p><a class=\"reference internal\" href=\"pandas.DataFrame.add_suffix.html#pandas.DataFrame.add_suffix\" title=\"pandas.DataFrame.add_suffix\"><code class=\"xref py py-obj docutils literal notranslate\"><span class=\"pre\">add_suffix</span></code></a>(suffix)</p></td>\n",
    "<td><p>Suffix labels with string <cite>suffix</cite>.</p></td>\n",
    "</tr>\n",
    "<tr class=\"row-odd\"><td><p><a class=\"reference internal\" href=\"pandas.DataFrame.agg.html#pandas.DataFrame.agg\" title=\"pandas.DataFrame.agg\"><code class=\"xref py py-obj docutils literal notranslate\"><span class=\"pre\">agg</span></code></a>([func,&nbsp;axis])</p></td>\n",
    "<td><p>Aggregate using one or more operations over the specified axis.</p></td>\n",
    "</tr>\n",
    "<tr class=\"row-even\"><td><p><a class=\"reference internal\" href=\"pandas.DataFrame.aggregate.html#pandas.DataFrame.aggregate\" title=\"pandas.DataFrame.aggregate\"><code class=\"xref py py-obj docutils literal notranslate\"><span class=\"pre\">aggregate</span></code></a>([func,&nbsp;axis])</p></td>\n",
    "<td><p>Aggregate using one or more operations over the specified axis.</p></td>\n",
    "</tr>\n",
    "<tr class=\"row-odd\"><td><p><a class=\"reference internal\" href=\"pandas.DataFrame.align.html#pandas.DataFrame.align\" title=\"pandas.DataFrame.align\"><code class=\"xref py py-obj docutils literal notranslate\"><span class=\"pre\">align</span></code></a>(other[,&nbsp;join,&nbsp;axis,&nbsp;level,&nbsp;copy,&nbsp;...])</p></td>\n",
    "<td><p>Align two objects on their axes with the specified join method.</p></td>\n",
    "</tr>\n",
    "<tr class=\"row-even\"><td><p><a class=\"reference internal\" href=\"pandas.DataFrame.all.html#pandas.DataFrame.all\" title=\"pandas.DataFrame.all\"><code class=\"xref py py-obj docutils literal notranslate\"><span class=\"pre\">all</span></code></a>([axis,&nbsp;bool_only,&nbsp;skipna,&nbsp;level])</p></td>\n",
    "<td><p>Return whether all elements are True, potentially over an axis.</p></td>\n",
    "</tr>\n",
    "<tr class=\"row-odd\"><td><p><a class=\"reference internal\" href=\"pandas.DataFrame.any.html#pandas.DataFrame.any\" title=\"pandas.DataFrame.any\"><code class=\"xref py py-obj docutils literal notranslate\"><span class=\"pre\">any</span></code></a>([axis,&nbsp;bool_only,&nbsp;skipna,&nbsp;level])</p></td>\n",
    "<td><p>Return whether any element is True, potentially over an axis.</p></td>\n",
    "</tr>\n",
    "<tr class=\"row-even\"><td><p><a class=\"reference internal\" href=\"pandas.DataFrame.append.html#pandas.DataFrame.append\" title=\"pandas.DataFrame.append\"><code class=\"xref py py-obj docutils literal notranslate\"><span class=\"pre\">append</span></code></a>(other[,&nbsp;ignore_index,&nbsp;...])</p></td>\n",
    "<td><p>(DEPRECATED) Append rows of <cite>other</cite> to the end of caller, returning a new object.</p></td>\n",
    "</tr>\n",
    "<tr class=\"row-odd\"><td><p><a class=\"reference internal\" href=\"pandas.DataFrame.apply.html#pandas.DataFrame.apply\" title=\"pandas.DataFrame.apply\"><code class=\"xref py py-obj docutils literal notranslate\"><span class=\"pre\">apply</span></code></a>(func[,&nbsp;axis,&nbsp;raw,&nbsp;result_type,&nbsp;args])</p></td>\n",
    "<td><p>Apply a function along an axis of the DataFrame.</p></td>\n",
    "</tr>\n",
    "<tr class=\"row-even\"><td><p><a class=\"reference internal\" href=\"pandas.DataFrame.applymap.html#pandas.DataFrame.applymap\" title=\"pandas.DataFrame.applymap\"><code class=\"xref py py-obj docutils literal notranslate\"><span class=\"pre\">applymap</span></code></a>(func[,&nbsp;na_action])</p></td>\n",
    "<td><p>Apply a function to a Dataframe elementwise.</p></td>\n",
    "</tr>\n",
    "<tr class=\"row-odd\"><td><p><a class=\"reference internal\" href=\"pandas.DataFrame.asfreq.html#pandas.DataFrame.asfreq\" title=\"pandas.DataFrame.asfreq\"><code class=\"xref py py-obj docutils literal notranslate\"><span class=\"pre\">asfreq</span></code></a>(freq[,&nbsp;method,&nbsp;how,&nbsp;normalize,&nbsp;...])</p></td>\n",
    "<td><p>Convert time series to specified frequency.</p></td>\n",
    "</tr>\n",
    "<tr class=\"row-even\"><td><p><a class=\"reference internal\" href=\"pandas.DataFrame.asof.html#pandas.DataFrame.asof\" title=\"pandas.DataFrame.asof\"><code class=\"xref py py-obj docutils literal notranslate\"><span class=\"pre\">asof</span></code></a>(where[,&nbsp;subset])</p></td>\n",
    "<td><p>Return the last row(s) without any NaNs before <cite>where</cite>.</p></td>\n",
    "</tr>\n",
    "<tr class=\"row-odd\"><td><p><a class=\"reference internal\" href=\"pandas.DataFrame.assign.html#pandas.DataFrame.assign\" title=\"pandas.DataFrame.assign\"><code class=\"xref py py-obj docutils literal notranslate\"><span class=\"pre\">assign</span></code></a>(**kwargs)</p></td>\n",
    "<td><p>Assign new columns to a DataFrame.</p></td>\n",
    "</tr>\n",
    "<tr class=\"row-even\"><td><p><a class=\"reference internal\" href=\"pandas.DataFrame.astype.html#pandas.DataFrame.astype\" title=\"pandas.DataFrame.astype\"><code class=\"xref py py-obj docutils literal notranslate\"><span class=\"pre\">astype</span></code></a>(dtype[,&nbsp;copy,&nbsp;errors])</p></td>\n",
    "<td><p>Cast a pandas object to a specified dtype <code class=\"docutils literal notranslate\"><span class=\"pre\">dtype</span></code>.</p></td>\n",
    "</tr>\n",
    "<tr class=\"row-odd\"><td><p><a class=\"reference internal\" href=\"pandas.DataFrame.at_time.html#pandas.DataFrame.at_time\" title=\"pandas.DataFrame.at_time\"><code class=\"xref py py-obj docutils literal notranslate\"><span class=\"pre\">at_time</span></code></a>(time[,&nbsp;asof,&nbsp;axis])</p></td>\n",
    "<td><p>Select values at particular time of day (e.g., 9:30AM).</p></td>\n",
    "</tr>\n",
    "<tr class=\"row-even\"><td><p><a class=\"reference internal\" href=\"pandas.DataFrame.backfill.html#pandas.DataFrame.backfill\" title=\"pandas.DataFrame.backfill\"><code class=\"xref py py-obj docutils literal notranslate\"><span class=\"pre\">backfill</span></code></a>([axis,&nbsp;inplace,&nbsp;limit,&nbsp;downcast])</p></td>\n",
    "<td><p>Synonym for <a class=\"reference internal\" href=\"pandas.DataFrame.fillna.html#pandas.DataFrame.fillna\" title=\"pandas.DataFrame.fillna\"><code class=\"xref py py-meth docutils literal notranslate\"><span class=\"pre\">DataFrame.fillna()</span></code></a> with <code class=\"docutils literal notranslate\"><span class=\"pre\">method='bfill'</span></code>.</p></td>\n",
    "</tr>\n",
    "<tr class=\"row-odd\"><td><p><a class=\"reference internal\" href=\"pandas.DataFrame.between_time.html#pandas.DataFrame.between_time\" title=\"pandas.DataFrame.between_time\"><code class=\"xref py py-obj docutils literal notranslate\"><span class=\"pre\">between_time</span></code></a>(start_time,&nbsp;end_time[,&nbsp;...])</p></td>\n",
    "<td><p>Select values between particular times of the day (e.g., 9:00-9:30 AM).</p></td>\n",
    "</tr>\n",
    "<tr class=\"row-even\"><td><p><a class=\"reference internal\" href=\"pandas.DataFrame.bfill.html#pandas.DataFrame.bfill\" title=\"pandas.DataFrame.bfill\"><code class=\"xref py py-obj docutils literal notranslate\"><span class=\"pre\">bfill</span></code></a>([axis,&nbsp;inplace,&nbsp;limit,&nbsp;downcast])</p></td>\n",
    "<td><p>Synonym for <a class=\"reference internal\" href=\"pandas.DataFrame.fillna.html#pandas.DataFrame.fillna\" title=\"pandas.DataFrame.fillna\"><code class=\"xref py py-meth docutils literal notranslate\"><span class=\"pre\">DataFrame.fillna()</span></code></a> with <code class=\"docutils literal notranslate\"><span class=\"pre\">method='bfill'</span></code>.</p></td>\n",
    "</tr>\n",
    "<tr class=\"row-odd\"><td><p><a class=\"reference internal\" href=\"pandas.DataFrame.bool.html#pandas.DataFrame.bool\" title=\"pandas.DataFrame.bool\"><code class=\"xref py py-obj docutils literal notranslate\"><span class=\"pre\">bool</span></code></a>()</p></td>\n",
    "<td><p>Return the bool of a single element Series or DataFrame.</p></td>\n",
    "</tr>\n",
    "<tr class=\"row-even\"><td><p><a class=\"reference internal\" href=\"pandas.DataFrame.boxplot.html#pandas.DataFrame.boxplot\" title=\"pandas.DataFrame.boxplot\"><code class=\"xref py py-obj docutils literal notranslate\"><span class=\"pre\">boxplot</span></code></a>([column,&nbsp;by,&nbsp;ax,&nbsp;fontsize,&nbsp;rot,&nbsp;...])</p></td>\n",
    "<td><p>Make a box plot from DataFrame columns.</p></td>\n",
    "</tr>\n",
    "<tr class=\"row-odd\"><td><p><a class=\"reference internal\" href=\"pandas.DataFrame.clip.html#pandas.DataFrame.clip\" title=\"pandas.DataFrame.clip\"><code class=\"xref py py-obj docutils literal notranslate\"><span class=\"pre\">clip</span></code></a>([lower,&nbsp;upper,&nbsp;axis,&nbsp;inplace])</p></td>\n",
    "<td><p>Trim values at input threshold(s).</p></td>\n",
    "</tr>\n",
    "<tr class=\"row-even\"><td><p><a class=\"reference internal\" href=\"pandas.DataFrame.combine.html#pandas.DataFrame.combine\" title=\"pandas.DataFrame.combine\"><code class=\"xref py py-obj docutils literal notranslate\"><span class=\"pre\">combine</span></code></a>(other,&nbsp;func[,&nbsp;fill_value,&nbsp;overwrite])</p></td>\n",
    "<td><p>Perform column-wise combine with another DataFrame.</p></td>\n",
    "</tr>\n",
    "<tr class=\"row-odd\"><td><p><a class=\"reference internal\" href=\"pandas.DataFrame.combine_first.html#pandas.DataFrame.combine_first\" title=\"pandas.DataFrame.combine_first\"><code class=\"xref py py-obj docutils literal notranslate\"><span class=\"pre\">combine_first</span></code></a>(other)</p></td>\n",
    "<td><p>Update null elements with value in the same location in <cite>other</cite>.</p></td>\n",
    "</tr>\n",
    "<tr class=\"row-even\"><td><p><a class=\"reference internal\" href=\"pandas.DataFrame.compare.html#pandas.DataFrame.compare\" title=\"pandas.DataFrame.compare\"><code class=\"xref py py-obj docutils literal notranslate\"><span class=\"pre\">compare</span></code></a>(other[,&nbsp;align_axis,&nbsp;keep_shape,&nbsp;...])</p></td>\n",
    "<td><p>Compare to another DataFrame and show the differences.</p></td>\n",
    "</tr>\n",
    "<tr class=\"row-odd\"><td><p><a class=\"reference internal\" href=\"pandas.DataFrame.convert_dtypes.html#pandas.DataFrame.convert_dtypes\" title=\"pandas.DataFrame.convert_dtypes\"><code class=\"xref py py-obj docutils literal notranslate\"><span class=\"pre\">convert_dtypes</span></code></a>([infer_objects,&nbsp;...])</p></td>\n",
    "<td><p>Convert columns to best possible dtypes using dtypes supporting <code class=\"docutils literal notranslate\"><span class=\"pre\">pd.NA</span></code>.</p></td>\n",
    "</tr>\n",
    "<tr class=\"row-even\"><td><p><a class=\"reference internal\" href=\"pandas.DataFrame.copy.html#pandas.DataFrame.copy\" title=\"pandas.DataFrame.copy\"><code class=\"xref py py-obj docutils literal notranslate\"><span class=\"pre\">copy</span></code></a>([deep])</p></td>\n",
    "<td><p>Make a copy of this object's indices and data.</p></td>\n",
    "</tr>\n",
    "<tr class=\"row-odd\"><td><p><a class=\"reference internal\" href=\"pandas.DataFrame.corr.html#pandas.DataFrame.corr\" title=\"pandas.DataFrame.corr\"><code class=\"xref py py-obj docutils literal notranslate\"><span class=\"pre\">corr</span></code></a>([method,&nbsp;min_periods,&nbsp;numeric_only])</p></td>\n",
    "<td><p>Compute pairwise correlation of columns, excluding NA/null values.</p></td>\n",
    "</tr>\n",
    "<tr class=\"row-even\"><td><p><a class=\"reference internal\" href=\"pandas.DataFrame.corrwith.html#pandas.DataFrame.corrwith\" title=\"pandas.DataFrame.corrwith\"><code class=\"xref py py-obj docutils literal notranslate\"><span class=\"pre\">corrwith</span></code></a>(other[,&nbsp;axis,&nbsp;drop,&nbsp;method,&nbsp;...])</p></td>\n",
    "<td><p>Compute pairwise correlation.</p></td>\n",
    "</tr>\n",
    "<tr class=\"row-odd\"><td><p><a class=\"reference internal\" href=\"pandas.DataFrame.count.html#pandas.DataFrame.count\" title=\"pandas.DataFrame.count\"><code class=\"xref py py-obj docutils literal notranslate\"><span class=\"pre\">count</span></code></a>([axis,&nbsp;level,&nbsp;numeric_only])</p></td>\n",
    "<td><p>Count non-NA cells for each column or row.</p></td>\n",
    "</tr>\n",
    "<tr class=\"row-even\"><td><p><a class=\"reference internal\" href=\"pandas.DataFrame.cov.html#pandas.DataFrame.cov\" title=\"pandas.DataFrame.cov\"><code class=\"xref py py-obj docutils literal notranslate\"><span class=\"pre\">cov</span></code></a>([min_periods,&nbsp;ddof,&nbsp;numeric_only])</p></td>\n",
    "<td><p>Compute pairwise covariance of columns, excluding NA/null values.</p></td>\n",
    "</tr>\n",
    "<tr class=\"row-odd\"><td><p><a class=\"reference internal\" href=\"pandas.DataFrame.cummax.html#pandas.DataFrame.cummax\" title=\"pandas.DataFrame.cummax\"><code class=\"xref py py-obj docutils literal notranslate\"><span class=\"pre\">cummax</span></code></a>([axis,&nbsp;skipna])</p></td>\n",
    "<td><p>Return cumulative maximum over a DataFrame or Series axis.</p></td>\n",
    "</tr>\n",
    "<tr class=\"row-even\"><td><p><a class=\"reference internal\" href=\"pandas.DataFrame.cummin.html#pandas.DataFrame.cummin\" title=\"pandas.DataFrame.cummin\"><code class=\"xref py py-obj docutils literal notranslate\"><span class=\"pre\">cummin</span></code></a>([axis,&nbsp;skipna])</p></td>\n",
    "<td><p>Return cumulative minimum over a DataFrame or Series axis.</p></td>\n",
    "</tr>\n",
    "<tr class=\"row-odd\"><td><p><a class=\"reference internal\" href=\"pandas.DataFrame.cumprod.html#pandas.DataFrame.cumprod\" title=\"pandas.DataFrame.cumprod\"><code class=\"xref py py-obj docutils literal notranslate\"><span class=\"pre\">cumprod</span></code></a>([axis,&nbsp;skipna])</p></td>\n",
    "<td><p>Return cumulative product over a DataFrame or Series axis.</p></td>\n",
    "</tr>\n",
    "<tr class=\"row-even\"><td><p><a class=\"reference internal\" href=\"pandas.DataFrame.cumsum.html#pandas.DataFrame.cumsum\" title=\"pandas.DataFrame.cumsum\"><code class=\"xref py py-obj docutils literal notranslate\"><span class=\"pre\">cumsum</span></code></a>([axis,&nbsp;skipna])</p></td>\n",
    "<td><p>Return cumulative sum over a DataFrame or Series axis.</p></td>\n",
    "</tr>\n",
    "<tr class=\"row-odd\"><td><p><a class=\"reference internal\" href=\"pandas.DataFrame.describe.html#pandas.DataFrame.describe\" title=\"pandas.DataFrame.describe\"><code class=\"xref py py-obj docutils literal notranslate\"><span class=\"pre\">describe</span></code></a>([percentiles,&nbsp;include,&nbsp;exclude,&nbsp;...])</p></td>\n",
    "<td><p>Generate descriptive statistics.</p></td>\n",
    "</tr>\n",
    "<tr class=\"row-even\"><td><p><a class=\"reference internal\" href=\"pandas.DataFrame.diff.html#pandas.DataFrame.diff\" title=\"pandas.DataFrame.diff\"><code class=\"xref py py-obj docutils literal notranslate\"><span class=\"pre\">diff</span></code></a>([periods,&nbsp;axis])</p></td>\n",
    "<td><p>First discrete difference of element.</p></td>\n",
    "</tr>\n",
    "<tr class=\"row-odd\"><td><p><a class=\"reference internal\" href=\"pandas.DataFrame.div.html#pandas.DataFrame.div\" title=\"pandas.DataFrame.div\"><code class=\"xref py py-obj docutils literal notranslate\"><span class=\"pre\">div</span></code></a>(other[,&nbsp;axis,&nbsp;level,&nbsp;fill_value])</p></td>\n",
    "<td><p>Get Floating division of dataframe and other, element-wise (binary operator <cite>truediv</cite>).</p></td>\n",
    "</tr>\n",
    "<tr class=\"row-even\"><td><p><a class=\"reference internal\" href=\"pandas.DataFrame.divide.html#pandas.DataFrame.divide\" title=\"pandas.DataFrame.divide\"><code class=\"xref py py-obj docutils literal notranslate\"><span class=\"pre\">divide</span></code></a>(other[,&nbsp;axis,&nbsp;level,&nbsp;fill_value])</p></td>\n",
    "<td><p>Get Floating division of dataframe and other, element-wise (binary operator <cite>truediv</cite>).</p></td>\n",
    "</tr>\n",
    "<tr class=\"row-odd\"><td><p><a class=\"reference internal\" href=\"pandas.DataFrame.dot.html#pandas.DataFrame.dot\" title=\"pandas.DataFrame.dot\"><code class=\"xref py py-obj docutils literal notranslate\"><span class=\"pre\">dot</span></code></a>(other)</p></td>\n",
    "<td><p>Compute the matrix multiplication between the DataFrame and other.</p></td>\n",
    "</tr>\n",
    "<tr class=\"row-even\"><td><p><a class=\"reference internal\" href=\"pandas.DataFrame.drop.html#pandas.DataFrame.drop\" title=\"pandas.DataFrame.drop\"><code class=\"xref py py-obj docutils literal notranslate\"><span class=\"pre\">drop</span></code></a>([labels,&nbsp;axis,&nbsp;index,&nbsp;columns,&nbsp;level,&nbsp;...])</p></td>\n",
    "<td><p>Drop specified labels from rows or columns.</p></td>\n",
    "</tr>\n",
    "<tr class=\"row-odd\"><td><p><a class=\"reference internal\" href=\"pandas.DataFrame.drop_duplicates.html#pandas.DataFrame.drop_duplicates\" title=\"pandas.DataFrame.drop_duplicates\"><code class=\"xref py py-obj docutils literal notranslate\"><span class=\"pre\">drop_duplicates</span></code></a>([subset,&nbsp;keep,&nbsp;inplace,&nbsp;...])</p></td>\n",
    "<td><p>Return DataFrame with duplicate rows removed.</p></td>\n",
    "</tr>\n",
    "<tr class=\"row-even\"><td><p><a class=\"reference internal\" href=\"pandas.DataFrame.droplevel.html#pandas.DataFrame.droplevel\" title=\"pandas.DataFrame.droplevel\"><code class=\"xref py py-obj docutils literal notranslate\"><span class=\"pre\">droplevel</span></code></a>(level[,&nbsp;axis])</p></td>\n",
    "<td><p>Return Series/DataFrame with requested index / column level(s) removed.</p></td>\n",
    "</tr>\n",
    "<tr class=\"row-odd\"><td><p><a class=\"reference internal\" href=\"pandas.DataFrame.dropna.html#pandas.DataFrame.dropna\" title=\"pandas.DataFrame.dropna\"><code class=\"xref py py-obj docutils literal notranslate\"><span class=\"pre\">dropna</span></code></a>([axis,&nbsp;how,&nbsp;thresh,&nbsp;subset,&nbsp;inplace])</p></td>\n",
    "<td><p>Remove missing values.</p></td>\n",
    "</tr>\n",
    "<tr class=\"row-even\"><td><p><a class=\"reference internal\" href=\"pandas.DataFrame.duplicated.html#pandas.DataFrame.duplicated\" title=\"pandas.DataFrame.duplicated\"><code class=\"xref py py-obj docutils literal notranslate\"><span class=\"pre\">duplicated</span></code></a>([subset,&nbsp;keep])</p></td>\n",
    "<td><p>Return boolean Series denoting duplicate rows.</p></td>\n",
    "</tr>\n",
    "<tr class=\"row-odd\"><td><p><a class=\"reference internal\" href=\"pandas.DataFrame.eq.html#pandas.DataFrame.eq\" title=\"pandas.DataFrame.eq\"><code class=\"xref py py-obj docutils literal notranslate\"><span class=\"pre\">eq</span></code></a>(other[,&nbsp;axis,&nbsp;level])</p></td>\n",
    "<td><p>Get Equal to of dataframe and other, element-wise (binary operator <cite>eq</cite>).</p></td>\n",
    "</tr>\n",
    "<tr class=\"row-even\"><td><p><a class=\"reference internal\" href=\"pandas.DataFrame.equals.html#pandas.DataFrame.equals\" title=\"pandas.DataFrame.equals\"><code class=\"xref py py-obj docutils literal notranslate\"><span class=\"pre\">equals</span></code></a>(other)</p></td>\n",
    "<td><p>Test whether two objects contain the same elements.</p></td>\n",
    "</tr>\n",
    "<tr class=\"row-odd\"><td><p><a class=\"reference internal\" href=\"pandas.DataFrame.eval.html#pandas.DataFrame.eval\" title=\"pandas.DataFrame.eval\"><code class=\"xref py py-obj docutils literal notranslate\"><span class=\"pre\">eval</span></code></a>(expr[,&nbsp;inplace])</p></td>\n",
    "<td><p>Evaluate a string describing operations on DataFrame columns.</p></td>\n",
    "</tr>\n",
    "<tr class=\"row-even\"><td><p><a class=\"reference internal\" href=\"pandas.DataFrame.ewm.html#pandas.DataFrame.ewm\" title=\"pandas.DataFrame.ewm\"><code class=\"xref py py-obj docutils literal notranslate\"><span class=\"pre\">ewm</span></code></a>([com,&nbsp;span,&nbsp;halflife,&nbsp;alpha,&nbsp;...])</p></td>\n",
    "<td><p>Provide exponentially weighted (EW) calculations.</p></td>\n",
    "</tr>\n",
    "<tr class=\"row-odd\"><td><p><a class=\"reference internal\" href=\"pandas.DataFrame.expanding.html#pandas.DataFrame.expanding\" title=\"pandas.DataFrame.expanding\"><code class=\"xref py py-obj docutils literal notranslate\"><span class=\"pre\">expanding</span></code></a>([min_periods,&nbsp;center,&nbsp;axis,&nbsp;method])</p></td>\n",
    "<td><p>Provide expanding window calculations.</p></td>\n",
    "</tr>\n",
    "<tr class=\"row-even\"><td><p><a class=\"reference internal\" href=\"pandas.DataFrame.explode.html#pandas.DataFrame.explode\" title=\"pandas.DataFrame.explode\"><code class=\"xref py py-obj docutils literal notranslate\"><span class=\"pre\">explode</span></code></a>(column[,&nbsp;ignore_index])</p></td>\n",
    "<td><p>Transform each element of a list-like to a row, replicating index values.</p></td>\n",
    "</tr>\n",
    "<tr class=\"row-odd\"><td><p><a class=\"reference internal\" href=\"pandas.DataFrame.ffill.html#pandas.DataFrame.ffill\" title=\"pandas.DataFrame.ffill\"><code class=\"xref py py-obj docutils literal notranslate\"><span class=\"pre\">ffill</span></code></a>([axis,&nbsp;inplace,&nbsp;limit,&nbsp;downcast])</p></td>\n",
    "<td><p>Synonym for <a class=\"reference internal\" href=\"pandas.DataFrame.fillna.html#pandas.DataFrame.fillna\" title=\"pandas.DataFrame.fillna\"><code class=\"xref py py-meth docutils literal notranslate\"><span class=\"pre\">DataFrame.fillna()</span></code></a> with <code class=\"docutils literal notranslate\"><span class=\"pre\">method='ffill'</span></code>.</p></td>\n",
    "</tr>\n",
    "<tr class=\"row-even\"><td><p><a class=\"reference internal\" href=\"pandas.DataFrame.fillna.html#pandas.DataFrame.fillna\" title=\"pandas.DataFrame.fillna\"><code class=\"xref py py-obj docutils literal notranslate\"><span class=\"pre\">fillna</span></code></a>([value,&nbsp;method,&nbsp;axis,&nbsp;inplace,&nbsp;...])</p></td>\n",
    "<td><p>Fill NA/NaN values using the specified method.</p></td>\n",
    "</tr>\n",
    "<tr class=\"row-odd\"><td><p><a class=\"reference internal\" href=\"pandas.DataFrame.filter.html#pandas.DataFrame.filter\" title=\"pandas.DataFrame.filter\"><code class=\"xref py py-obj docutils literal notranslate\"><span class=\"pre\">filter</span></code></a>([items,&nbsp;like,&nbsp;regex,&nbsp;axis])</p></td>\n",
    "<td><p>Subset the dataframe rows or columns according to the specified index labels.</p></td>\n",
    "</tr>\n",
    "<tr class=\"row-even\"><td><p><a class=\"reference internal\" href=\"pandas.DataFrame.first.html#pandas.DataFrame.first\" title=\"pandas.DataFrame.first\"><code class=\"xref py py-obj docutils literal notranslate\"><span class=\"pre\">first</span></code></a>(offset)</p></td>\n",
    "<td><p>Select initial periods of time series data based on a date offset.</p></td>\n",
    "</tr>\n",
    "<tr class=\"row-odd\"><td><p><a class=\"reference internal\" href=\"pandas.DataFrame.first_valid_index.html#pandas.DataFrame.first_valid_index\" title=\"pandas.DataFrame.first_valid_index\"><code class=\"xref py py-obj docutils literal notranslate\"><span class=\"pre\">first_valid_index</span></code></a>()</p></td>\n",
    "<td><p>Return index for first non-NA value or None, if no non-NA value is found.</p></td>\n",
    "</tr>\n",
    "<tr class=\"row-even\"><td><p><a class=\"reference internal\" href=\"pandas.DataFrame.floordiv.html#pandas.DataFrame.floordiv\" title=\"pandas.DataFrame.floordiv\"><code class=\"xref py py-obj docutils literal notranslate\"><span class=\"pre\">floordiv</span></code></a>(other[,&nbsp;axis,&nbsp;level,&nbsp;fill_value])</p></td>\n",
    "<td><p>Get Integer division of dataframe and other, element-wise (binary operator <cite>floordiv</cite>).</p></td>\n",
    "</tr>\n",
    "<tr class=\"row-odd\"><td><p><a class=\"reference internal\" href=\"pandas.DataFrame.from_dict.html#pandas.DataFrame.from_dict\" title=\"pandas.DataFrame.from_dict\"><code class=\"xref py py-obj docutils literal notranslate\"><span class=\"pre\">from_dict</span></code></a>(data[,&nbsp;orient,&nbsp;dtype,&nbsp;columns])</p></td>\n",
    "<td><p>Construct DataFrame from dict of array-like or dicts.</p></td>\n",
    "</tr>\n",
    "<tr class=\"row-even\"><td><p><a class=\"reference internal\" href=\"pandas.DataFrame.from_records.html#pandas.DataFrame.from_records\" title=\"pandas.DataFrame.from_records\"><code class=\"xref py py-obj docutils literal notranslate\"><span class=\"pre\">from_records</span></code></a>(data[,&nbsp;index,&nbsp;exclude,&nbsp;...])</p></td>\n",
    "<td><p>Convert structured or record ndarray to DataFrame.</p></td>\n",
    "</tr>\n",
    "<tr class=\"row-odd\"><td><p><a class=\"reference internal\" href=\"pandas.DataFrame.ge.html#pandas.DataFrame.ge\" title=\"pandas.DataFrame.ge\"><code class=\"xref py py-obj docutils literal notranslate\"><span class=\"pre\">ge</span></code></a>(other[,&nbsp;axis,&nbsp;level])</p></td>\n",
    "<td><p>Get Greater than or equal to of dataframe and other, element-wise (binary operator <cite>ge</cite>).</p></td>\n",
    "</tr>\n",
    "<tr class=\"row-even\"><td><p><a class=\"reference internal\" href=\"pandas.DataFrame.get.html#pandas.DataFrame.get\" title=\"pandas.DataFrame.get\"><code class=\"xref py py-obj docutils literal notranslate\"><span class=\"pre\">get</span></code></a>(key[,&nbsp;default])</p></td>\n",
    "<td><p>Get item from object for given key (ex: DataFrame column).</p></td>\n",
    "</tr>\n",
    "<tr class=\"row-odd\"><td><p><a class=\"reference internal\" href=\"pandas.DataFrame.groupby.html#pandas.DataFrame.groupby\" title=\"pandas.DataFrame.groupby\"><code class=\"xref py py-obj docutils literal notranslate\"><span class=\"pre\">groupby</span></code></a>([by,&nbsp;axis,&nbsp;level,&nbsp;as_index,&nbsp;sort,&nbsp;...])</p></td>\n",
    "<td><p>Group DataFrame using a mapper or by a Series of columns.</p></td>\n",
    "</tr>\n",
    "<tr class=\"row-even\"><td><p><a class=\"reference internal\" href=\"pandas.DataFrame.gt.html#pandas.DataFrame.gt\" title=\"pandas.DataFrame.gt\"><code class=\"xref py py-obj docutils literal notranslate\"><span class=\"pre\">gt</span></code></a>(other[,&nbsp;axis,&nbsp;level])</p></td>\n",
    "<td><p>Get Greater than of dataframe and other, element-wise (binary operator <cite>gt</cite>).</p></td>\n",
    "</tr>\n",
    "<tr class=\"row-odd\"><td><p><a class=\"reference internal\" href=\"pandas.DataFrame.head.html#pandas.DataFrame.head\" title=\"pandas.DataFrame.head\"><code class=\"xref py py-obj docutils literal notranslate\"><span class=\"pre\">head</span></code></a>([n])</p></td>\n",
    "<td><p>Return the first <cite>n</cite> rows.</p></td>\n",
    "</tr>\n",
    "<tr class=\"row-even\"><td><p><a class=\"reference internal\" href=\"pandas.DataFrame.hist.html#pandas.DataFrame.hist\" title=\"pandas.DataFrame.hist\"><code class=\"xref py py-obj docutils literal notranslate\"><span class=\"pre\">hist</span></code></a>([column,&nbsp;by,&nbsp;grid,&nbsp;xlabelsize,&nbsp;xrot,&nbsp;...])</p></td>\n",
    "<td><p>Make a histogram of the DataFrame's columns.</p></td>\n",
    "</tr>\n",
    "<tr class=\"row-odd\"><td><p><a class=\"reference internal\" href=\"pandas.DataFrame.idxmax.html#pandas.DataFrame.idxmax\" title=\"pandas.DataFrame.idxmax\"><code class=\"xref py py-obj docutils literal notranslate\"><span class=\"pre\">idxmax</span></code></a>([axis,&nbsp;skipna,&nbsp;numeric_only])</p></td>\n",
    "<td><p>Return index of first occurrence of maximum over requested axis.</p></td>\n",
    "</tr>\n",
    "<tr class=\"row-even\"><td><p><a class=\"reference internal\" href=\"pandas.DataFrame.idxmin.html#pandas.DataFrame.idxmin\" title=\"pandas.DataFrame.idxmin\"><code class=\"xref py py-obj docutils literal notranslate\"><span class=\"pre\">idxmin</span></code></a>([axis,&nbsp;skipna,&nbsp;numeric_only])</p></td>\n",
    "<td><p>Return index of first occurrence of minimum over requested axis.</p></td>\n",
    "</tr>\n",
    "<tr class=\"row-odd\"><td><p><a class=\"reference internal\" href=\"pandas.DataFrame.infer_objects.html#pandas.DataFrame.infer_objects\" title=\"pandas.DataFrame.infer_objects\"><code class=\"xref py py-obj docutils literal notranslate\"><span class=\"pre\">infer_objects</span></code></a>()</p></td>\n",
    "<td><p>Attempt to infer better dtypes for object columns.</p></td>\n",
    "</tr>\n",
    "<tr class=\"row-even\"><td><p><a class=\"reference internal\" href=\"pandas.DataFrame.info.html#pandas.DataFrame.info\" title=\"pandas.DataFrame.info\"><code class=\"xref py py-obj docutils literal notranslate\"><span class=\"pre\">info</span></code></a>([verbose,&nbsp;buf,&nbsp;max_cols,&nbsp;memory_usage,&nbsp;...])</p></td>\n",
    "<td><p>Print a concise summary of a DataFrame.</p></td>\n",
    "</tr>\n",
    "<tr class=\"row-odd\"><td><p><a class=\"reference internal\" href=\"pandas.DataFrame.insert.html#pandas.DataFrame.insert\" title=\"pandas.DataFrame.insert\"><code class=\"xref py py-obj docutils literal notranslate\"><span class=\"pre\">insert</span></code></a>(loc,&nbsp;column,&nbsp;value[,&nbsp;allow_duplicates])</p></td>\n",
    "<td><p>Insert column into DataFrame at specified location.</p></td>\n",
    "</tr>\n",
    "<tr class=\"row-even\"><td><p><a class=\"reference internal\" href=\"pandas.DataFrame.interpolate.html#pandas.DataFrame.interpolate\" title=\"pandas.DataFrame.interpolate\"><code class=\"xref py py-obj docutils literal notranslate\"><span class=\"pre\">interpolate</span></code></a>([method,&nbsp;axis,&nbsp;limit,&nbsp;inplace,&nbsp;...])</p></td>\n",
    "<td><p>Fill NaN values using an interpolation method.</p></td>\n",
    "</tr>\n",
    "<tr class=\"row-odd\"><td><p><a class=\"reference internal\" href=\"pandas.DataFrame.isetitem.html#pandas.DataFrame.isetitem\" title=\"pandas.DataFrame.isetitem\"><code class=\"xref py py-obj docutils literal notranslate\"><span class=\"pre\">isetitem</span></code></a>(loc,&nbsp;value)</p></td>\n",
    "<td><p>Set the given value in the column with position 'loc'.</p></td>\n",
    "</tr>\n",
    "<tr class=\"row-even\"><td><p><a class=\"reference internal\" href=\"pandas.DataFrame.isin.html#pandas.DataFrame.isin\" title=\"pandas.DataFrame.isin\"><code class=\"xref py py-obj docutils literal notranslate\"><span class=\"pre\">isin</span></code></a>(values)</p></td>\n",
    "<td><p>Whether each element in the DataFrame is contained in values.</p></td>\n",
    "</tr>\n",
    "<tr class=\"row-odd\"><td><p><a class=\"reference internal\" href=\"pandas.DataFrame.isna.html#pandas.DataFrame.isna\" title=\"pandas.DataFrame.isna\"><code class=\"xref py py-obj docutils literal notranslate\"><span class=\"pre\">isna</span></code></a>()</p></td>\n",
    "<td><p>Detect missing values.</p></td>\n",
    "</tr>\n",
    "<tr class=\"row-even\"><td><p><a class=\"reference internal\" href=\"pandas.DataFrame.isnull.html#pandas.DataFrame.isnull\" title=\"pandas.DataFrame.isnull\"><code class=\"xref py py-obj docutils literal notranslate\"><span class=\"pre\">isnull</span></code></a>()</p></td>\n",
    "<td><p>DataFrame.isnull is an alias for DataFrame.isna.</p></td>\n",
    "</tr>\n",
    "<tr class=\"row-odd\"><td><p><a class=\"reference internal\" href=\"pandas.DataFrame.items.html#pandas.DataFrame.items\" title=\"pandas.DataFrame.items\"><code class=\"xref py py-obj docutils literal notranslate\"><span class=\"pre\">items</span></code></a>()</p></td>\n",
    "<td><p>Iterate over (column name, Series) pairs.</p></td>\n",
    "</tr>\n",
    "<tr class=\"row-even\"><td><p><a class=\"reference internal\" href=\"pandas.DataFrame.iteritems.html#pandas.DataFrame.iteritems\" title=\"pandas.DataFrame.iteritems\"><code class=\"xref py py-obj docutils literal notranslate\"><span class=\"pre\">iteritems</span></code></a>()</p></td>\n",
    "<td><p>(DEPRECATED) Iterate over (column name, Series) pairs.</p></td>\n",
    "</tr>\n",
    "<tr class=\"row-odd\"><td><p><a class=\"reference internal\" href=\"pandas.DataFrame.iterrows.html#pandas.DataFrame.iterrows\" title=\"pandas.DataFrame.iterrows\"><code class=\"xref py py-obj docutils literal notranslate\"><span class=\"pre\">iterrows</span></code></a>()</p></td>\n",
    "<td><p>Iterate over DataFrame rows as (index, Series) pairs.</p></td>\n",
    "</tr>\n",
    "<tr class=\"row-even\"><td><p><a class=\"reference internal\" href=\"pandas.DataFrame.itertuples.html#pandas.DataFrame.itertuples\" title=\"pandas.DataFrame.itertuples\"><code class=\"xref py py-obj docutils literal notranslate\"><span class=\"pre\">itertuples</span></code></a>([index,&nbsp;name])</p></td>\n",
    "<td><p>Iterate over DataFrame rows as namedtuples.</p></td>\n",
    "</tr>\n",
    "<tr class=\"row-odd\"><td><p><a class=\"reference internal\" href=\"pandas.DataFrame.join.html#pandas.DataFrame.join\" title=\"pandas.DataFrame.join\"><code class=\"xref py py-obj docutils literal notranslate\"><span class=\"pre\">join</span></code></a>(other[,&nbsp;on,&nbsp;how,&nbsp;lsuffix,&nbsp;rsuffix,&nbsp;...])</p></td>\n",
    "<td><p>Join columns of another DataFrame.</p></td>\n",
    "</tr>\n",
    "<tr class=\"row-even\"><td><p><a class=\"reference internal\" href=\"pandas.DataFrame.keys.html#pandas.DataFrame.keys\" title=\"pandas.DataFrame.keys\"><code class=\"xref py py-obj docutils literal notranslate\"><span class=\"pre\">keys</span></code></a>()</p></td>\n",
    "<td><p>Get the 'info axis' (see Indexing for more).</p></td>\n",
    "</tr>\n",
    "<tr class=\"row-odd\"><td><p><a class=\"reference internal\" href=\"pandas.DataFrame.kurt.html#pandas.DataFrame.kurt\" title=\"pandas.DataFrame.kurt\"><code class=\"xref py py-obj docutils literal notranslate\"><span class=\"pre\">kurt</span></code></a>([axis,&nbsp;skipna,&nbsp;level,&nbsp;numeric_only])</p></td>\n",
    "<td><p>Return unbiased kurtosis over requested axis.</p></td>\n",
    "</tr>\n",
    "<tr class=\"row-even\"><td><p><a class=\"reference internal\" href=\"pandas.DataFrame.kurtosis.html#pandas.DataFrame.kurtosis\" title=\"pandas.DataFrame.kurtosis\"><code class=\"xref py py-obj docutils literal notranslate\"><span class=\"pre\">kurtosis</span></code></a>([axis,&nbsp;skipna,&nbsp;level,&nbsp;numeric_only])</p></td>\n",
    "<td><p>Return unbiased kurtosis over requested axis.</p></td>\n",
    "</tr>\n",
    "<tr class=\"row-odd\"><td><p><a class=\"reference internal\" href=\"pandas.DataFrame.last.html#pandas.DataFrame.last\" title=\"pandas.DataFrame.last\"><code class=\"xref py py-obj docutils literal notranslate\"><span class=\"pre\">last</span></code></a>(offset)</p></td>\n",
    "<td><p>Select final periods of time series data based on a date offset.</p></td>\n",
    "</tr>\n",
    "<tr class=\"row-even\"><td><p><a class=\"reference internal\" href=\"pandas.DataFrame.last_valid_index.html#pandas.DataFrame.last_valid_index\" title=\"pandas.DataFrame.last_valid_index\"><code class=\"xref py py-obj docutils literal notranslate\"><span class=\"pre\">last_valid_index</span></code></a>()</p></td>\n",
    "<td><p>Return index for last non-NA value or None, if no non-NA value is found.</p></td>\n",
    "</tr>\n",
    "<tr class=\"row-odd\"><td><p><a class=\"reference internal\" href=\"pandas.DataFrame.le.html#pandas.DataFrame.le\" title=\"pandas.DataFrame.le\"><code class=\"xref py py-obj docutils literal notranslate\"><span class=\"pre\">le</span></code></a>(other[,&nbsp;axis,&nbsp;level])</p></td>\n",
    "<td><p>Get Less than or equal to of dataframe and other, element-wise (binary operator <cite>le</cite>).</p></td>\n",
    "</tr>\n",
    "<tr class=\"row-even\"><td><p><a class=\"reference internal\" href=\"pandas.DataFrame.lookup.html#pandas.DataFrame.lookup\" title=\"pandas.DataFrame.lookup\"><code class=\"xref py py-obj docutils literal notranslate\"><span class=\"pre\">lookup</span></code></a>(row_labels,&nbsp;col_labels)</p></td>\n",
    "<td><p>(DEPRECATED) Label-based \"fancy indexing\" function for DataFrame.</p></td>\n",
    "</tr>\n",
    "<tr class=\"row-odd\"><td><p><a class=\"reference internal\" href=\"pandas.DataFrame.lt.html#pandas.DataFrame.lt\" title=\"pandas.DataFrame.lt\"><code class=\"xref py py-obj docutils literal notranslate\"><span class=\"pre\">lt</span></code></a>(other[,&nbsp;axis,&nbsp;level])</p></td>\n",
    "<td><p>Get Less than of dataframe and other, element-wise (binary operator <cite>lt</cite>).</p></td>\n",
    "</tr>\n",
    "<tr class=\"row-even\"><td><p><a class=\"reference internal\" href=\"pandas.DataFrame.mad.html#pandas.DataFrame.mad\" title=\"pandas.DataFrame.mad\"><code class=\"xref py py-obj docutils literal notranslate\"><span class=\"pre\">mad</span></code></a>([axis,&nbsp;skipna,&nbsp;level])</p></td>\n",
    "<td><p>(DEPRECATED) Return the mean absolute deviation of the values over the requested axis.</p></td>\n",
    "</tr>\n",
    "<tr class=\"row-odd\"><td><p><a class=\"reference internal\" href=\"pandas.DataFrame.mask.html#pandas.DataFrame.mask\" title=\"pandas.DataFrame.mask\"><code class=\"xref py py-obj docutils literal notranslate\"><span class=\"pre\">mask</span></code></a>(cond[,&nbsp;other,&nbsp;inplace,&nbsp;axis,&nbsp;level,&nbsp;...])</p></td>\n",
    "<td><p>Replace values where the condition is True.</p></td>\n",
    "</tr>\n",
    "<tr class=\"row-even\"><td><p><a class=\"reference internal\" href=\"pandas.DataFrame.max.html#pandas.DataFrame.max\" title=\"pandas.DataFrame.max\"><code class=\"xref py py-obj docutils literal notranslate\"><span class=\"pre\">max</span></code></a>([axis,&nbsp;skipna,&nbsp;level,&nbsp;numeric_only])</p></td>\n",
    "<td><p>Return the maximum of the values over the requested axis.</p></td>\n",
    "</tr>\n",
    "<tr class=\"row-odd\"><td><p><a class=\"reference internal\" href=\"pandas.DataFrame.mean.html#pandas.DataFrame.mean\" title=\"pandas.DataFrame.mean\"><code class=\"xref py py-obj docutils literal notranslate\"><span class=\"pre\">mean</span></code></a>([axis,&nbsp;skipna,&nbsp;level,&nbsp;numeric_only])</p></td>\n",
    "<td><p>Return the mean of the values over the requested axis.</p></td>\n",
    "</tr>\n",
    "<tr class=\"row-even\"><td><p><a class=\"reference internal\" href=\"pandas.DataFrame.median.html#pandas.DataFrame.median\" title=\"pandas.DataFrame.median\"><code class=\"xref py py-obj docutils literal notranslate\"><span class=\"pre\">median</span></code></a>([axis,&nbsp;skipna,&nbsp;level,&nbsp;numeric_only])</p></td>\n",
    "<td><p>Return the median of the values over the requested axis.</p></td>\n",
    "</tr>\n",
    "<tr class=\"row-odd\"><td><p><a class=\"reference internal\" href=\"pandas.DataFrame.melt.html#pandas.DataFrame.melt\" title=\"pandas.DataFrame.melt\"><code class=\"xref py py-obj docutils literal notranslate\"><span class=\"pre\">melt</span></code></a>([id_vars,&nbsp;value_vars,&nbsp;var_name,&nbsp;...])</p></td>\n",
    "<td><p>Unpivot a DataFrame from wide to long format, optionally leaving identifiers set.</p></td>\n",
    "</tr>\n",
    "<tr class=\"row-even\"><td><p><a class=\"reference internal\" href=\"pandas.DataFrame.memory_usage.html#pandas.DataFrame.memory_usage\" title=\"pandas.DataFrame.memory_usage\"><code class=\"xref py py-obj docutils literal notranslate\"><span class=\"pre\">memory_usage</span></code></a>([index,&nbsp;deep])</p></td>\n",
    "<td><p>Return the memory usage of each column in bytes.</p></td>\n",
    "</tr>\n",
    "<tr class=\"row-odd\"><td><p><a class=\"reference internal\" href=\"pandas.DataFrame.merge.html#pandas.DataFrame.merge\" title=\"pandas.DataFrame.merge\"><code class=\"xref py py-obj docutils literal notranslate\"><span class=\"pre\">merge</span></code></a>(right[,&nbsp;how,&nbsp;on,&nbsp;left_on,&nbsp;right_on,&nbsp;...])</p></td>\n",
    "<td><p>Merge DataFrame or named Series objects with a database-style join.</p></td>\n",
    "</tr>\n",
    "<tr class=\"row-even\"><td><p><a class=\"reference internal\" href=\"pandas.DataFrame.min.html#pandas.DataFrame.min\" title=\"pandas.DataFrame.min\"><code class=\"xref py py-obj docutils literal notranslate\"><span class=\"pre\">min</span></code></a>([axis,&nbsp;skipna,&nbsp;level,&nbsp;numeric_only])</p></td>\n",
    "<td><p>Return the minimum of the values over the requested axis.</p></td>\n",
    "</tr>\n",
    "<tr class=\"row-odd\"><td><p><a class=\"reference internal\" href=\"pandas.DataFrame.mod.html#pandas.DataFrame.mod\" title=\"pandas.DataFrame.mod\"><code class=\"xref py py-obj docutils literal notranslate\"><span class=\"pre\">mod</span></code></a>(other[,&nbsp;axis,&nbsp;level,&nbsp;fill_value])</p></td>\n",
    "<td><p>Get Modulo of dataframe and other, element-wise (binary operator <cite>mod</cite>).</p></td>\n",
    "</tr>\n",
    "<tr class=\"row-even\"><td><p><a class=\"reference internal\" href=\"pandas.DataFrame.mode.html#pandas.DataFrame.mode\" title=\"pandas.DataFrame.mode\"><code class=\"xref py py-obj docutils literal notranslate\"><span class=\"pre\">mode</span></code></a>([axis,&nbsp;numeric_only,&nbsp;dropna])</p></td>\n",
    "<td><p>Get the mode(s) of each element along the selected axis.</p></td>\n",
    "</tr>\n",
    "<tr class=\"row-odd\"><td><p><a class=\"reference internal\" href=\"pandas.DataFrame.mul.html#pandas.DataFrame.mul\" title=\"pandas.DataFrame.mul\"><code class=\"xref py py-obj docutils literal notranslate\"><span class=\"pre\">mul</span></code></a>(other[,&nbsp;axis,&nbsp;level,&nbsp;fill_value])</p></td>\n",
    "<td><p>Get Multiplication of dataframe and other, element-wise (binary operator <cite>mul</cite>).</p></td>\n",
    "</tr>\n",
    "<tr class=\"row-even\"><td><p><a class=\"reference internal\" href=\"pandas.DataFrame.multiply.html#pandas.DataFrame.multiply\" title=\"pandas.DataFrame.multiply\"><code class=\"xref py py-obj docutils literal notranslate\"><span class=\"pre\">multiply</span></code></a>(other[,&nbsp;axis,&nbsp;level,&nbsp;fill_value])</p></td>\n",
    "<td><p>Get Multiplication of dataframe and other, element-wise (binary operator <cite>mul</cite>).</p></td>\n",
    "</tr>\n",
    "<tr class=\"row-odd\"><td><p><a class=\"reference internal\" href=\"pandas.DataFrame.ne.html#pandas.DataFrame.ne\" title=\"pandas.DataFrame.ne\"><code class=\"xref py py-obj docutils literal notranslate\"><span class=\"pre\">ne</span></code></a>(other[,&nbsp;axis,&nbsp;level])</p></td>\n",
    "<td><p>Get Not equal to of dataframe and other, element-wise (binary operator <cite>ne</cite>).</p></td>\n",
    "</tr>\n",
    "<tr class=\"row-even\"><td><p><a class=\"reference internal\" href=\"pandas.DataFrame.nlargest.html#pandas.DataFrame.nlargest\" title=\"pandas.DataFrame.nlargest\"><code class=\"xref py py-obj docutils literal notranslate\"><span class=\"pre\">nlargest</span></code></a>(n,&nbsp;columns[,&nbsp;keep])</p></td>\n",
    "<td><p>Return the first <cite>n</cite> rows ordered by <cite>columns</cite> in descending order.</p></td>\n",
    "</tr>\n",
    "<tr class=\"row-odd\"><td><p><a class=\"reference internal\" href=\"pandas.DataFrame.notna.html#pandas.DataFrame.notna\" title=\"pandas.DataFrame.notna\"><code class=\"xref py py-obj docutils literal notranslate\"><span class=\"pre\">notna</span></code></a>()</p></td>\n",
    "<td><p>Detect existing (non-missing) values.</p></td>\n",
    "</tr>\n",
    "<tr class=\"row-even\"><td><p><a class=\"reference internal\" href=\"pandas.DataFrame.notnull.html#pandas.DataFrame.notnull\" title=\"pandas.DataFrame.notnull\"><code class=\"xref py py-obj docutils literal notranslate\"><span class=\"pre\">notnull</span></code></a>()</p></td>\n",
    "<td><p>DataFrame.notnull is an alias for DataFrame.notna.</p></td>\n",
    "</tr>\n",
    "<tr class=\"row-odd\"><td><p><a class=\"reference internal\" href=\"pandas.DataFrame.nsmallest.html#pandas.DataFrame.nsmallest\" title=\"pandas.DataFrame.nsmallest\"><code class=\"xref py py-obj docutils literal notranslate\"><span class=\"pre\">nsmallest</span></code></a>(n,&nbsp;columns[,&nbsp;keep])</p></td>\n",
    "<td><p>Return the first <cite>n</cite> rows ordered by <cite>columns</cite> in ascending order.</p></td>\n",
    "</tr>\n",
    "<tr class=\"row-even\"><td><p><a class=\"reference internal\" href=\"pandas.DataFrame.nunique.html#pandas.DataFrame.nunique\" title=\"pandas.DataFrame.nunique\"><code class=\"xref py py-obj docutils literal notranslate\"><span class=\"pre\">nunique</span></code></a>([axis,&nbsp;dropna])</p></td>\n",
    "<td><p>Count number of distinct elements in specified axis.</p></td>\n",
    "</tr>\n",
    "<tr class=\"row-odd\"><td><p><a class=\"reference internal\" href=\"pandas.DataFrame.pad.html#pandas.DataFrame.pad\" title=\"pandas.DataFrame.pad\"><code class=\"xref py py-obj docutils literal notranslate\"><span class=\"pre\">pad</span></code></a>([axis,&nbsp;inplace,&nbsp;limit,&nbsp;downcast])</p></td>\n",
    "<td><p>Synonym for <a class=\"reference internal\" href=\"pandas.DataFrame.fillna.html#pandas.DataFrame.fillna\" title=\"pandas.DataFrame.fillna\"><code class=\"xref py py-meth docutils literal notranslate\"><span class=\"pre\">DataFrame.fillna()</span></code></a> with <code class=\"docutils literal notranslate\"><span class=\"pre\">method='ffill'</span></code>.</p></td>\n",
    "</tr>\n",
    "<tr class=\"row-even\"><td><p><a class=\"reference internal\" href=\"pandas.DataFrame.pct_change.html#pandas.DataFrame.pct_change\" title=\"pandas.DataFrame.pct_change\"><code class=\"xref py py-obj docutils literal notranslate\"><span class=\"pre\">pct_change</span></code></a>([periods,&nbsp;fill_method,&nbsp;limit,&nbsp;freq])</p></td>\n",
    "<td><p>Percentage change between the current and a prior element.</p></td>\n",
    "</tr>\n",
    "<tr class=\"row-odd\"><td><p><a class=\"reference internal\" href=\"pandas.DataFrame.pipe.html#pandas.DataFrame.pipe\" title=\"pandas.DataFrame.pipe\"><code class=\"xref py py-obj docutils literal notranslate\"><span class=\"pre\">pipe</span></code></a>(func,&nbsp;*args,&nbsp;**kwargs)</p></td>\n",
    "<td><p>Apply chainable functions that expect Series or DataFrames.</p></td>\n",
    "</tr>\n",
    "<tr class=\"row-even\"><td><p><a class=\"reference internal\" href=\"pandas.DataFrame.pivot.html#pandas.DataFrame.pivot\" title=\"pandas.DataFrame.pivot\"><code class=\"xref py py-obj docutils literal notranslate\"><span class=\"pre\">pivot</span></code></a>([index,&nbsp;columns,&nbsp;values])</p></td>\n",
    "<td><p>Return reshaped DataFrame organized by given index / column values.</p></td>\n",
    "</tr>\n",
    "<tr class=\"row-odd\"><td><p><a class=\"reference internal\" href=\"pandas.DataFrame.pivot_table.html#pandas.DataFrame.pivot_table\" title=\"pandas.DataFrame.pivot_table\"><code class=\"xref py py-obj docutils literal notranslate\"><span class=\"pre\">pivot_table</span></code></a>([values,&nbsp;index,&nbsp;columns,&nbsp;...])</p></td>\n",
    "<td><p>Create a spreadsheet-style pivot table as a DataFrame.</p></td>\n",
    "</tr>\n",
    "<tr class=\"row-even\"><td><p><a class=\"reference internal\" href=\"pandas.DataFrame.plot.html#pandas.DataFrame.plot\" title=\"pandas.DataFrame.plot\"><code class=\"xref py py-obj docutils literal notranslate\"><span class=\"pre\">plot</span></code></a></p></td>\n",
    "<td><p>alias of <code class=\"xref py py-class docutils literal notranslate\"><span class=\"pre\">pandas.plotting._core.PlotAccessor</span></code></p></td>\n",
    "</tr>\n",
    "<tr class=\"row-odd\"><td><p><a class=\"reference internal\" href=\"pandas.DataFrame.pop.html#pandas.DataFrame.pop\" title=\"pandas.DataFrame.pop\"><code class=\"xref py py-obj docutils literal notranslate\"><span class=\"pre\">pop</span></code></a>(item)</p></td>\n",
    "<td><p>Return item and drop from frame.</p></td>\n",
    "</tr>\n",
    "<tr class=\"row-even\"><td><p><a class=\"reference internal\" href=\"pandas.DataFrame.pow.html#pandas.DataFrame.pow\" title=\"pandas.DataFrame.pow\"><code class=\"xref py py-obj docutils literal notranslate\"><span class=\"pre\">pow</span></code></a>(other[,&nbsp;axis,&nbsp;level,&nbsp;fill_value])</p></td>\n",
    "<td><p>Get Exponential power of dataframe and other, element-wise (binary operator <cite>pow</cite>).</p></td>\n",
    "</tr>\n",
    "<tr class=\"row-odd\"><td><p><a class=\"reference internal\" href=\"pandas.DataFrame.prod.html#pandas.DataFrame.prod\" title=\"pandas.DataFrame.prod\"><code class=\"xref py py-obj docutils literal notranslate\"><span class=\"pre\">prod</span></code></a>([axis,&nbsp;skipna,&nbsp;level,&nbsp;numeric_only,&nbsp;...])</p></td>\n",
    "<td><p>Return the product of the values over the requested axis.</p></td>\n",
    "</tr>\n",
    "<tr class=\"row-even\"><td><p><a class=\"reference internal\" href=\"pandas.DataFrame.product.html#pandas.DataFrame.product\" title=\"pandas.DataFrame.product\"><code class=\"xref py py-obj docutils literal notranslate\"><span class=\"pre\">product</span></code></a>([axis,&nbsp;skipna,&nbsp;level,&nbsp;numeric_only,&nbsp;...])</p></td>\n",
    "<td><p>Return the product of the values over the requested axis.</p></td>\n",
    "</tr>\n",
    "<tr class=\"row-odd\"><td><p><a class=\"reference internal\" href=\"pandas.DataFrame.quantile.html#pandas.DataFrame.quantile\" title=\"pandas.DataFrame.quantile\"><code class=\"xref py py-obj docutils literal notranslate\"><span class=\"pre\">quantile</span></code></a>([q,&nbsp;axis,&nbsp;numeric_only,&nbsp;...])</p></td>\n",
    "<td><p>Return values at the given quantile over requested axis.</p></td>\n",
    "</tr>\n",
    "<tr class=\"row-even\"><td><p><a class=\"reference internal\" href=\"pandas.DataFrame.query.html#pandas.DataFrame.query\" title=\"pandas.DataFrame.query\"><code class=\"xref py py-obj docutils literal notranslate\"><span class=\"pre\">query</span></code></a>(expr[,&nbsp;inplace])</p></td>\n",
    "<td><p>Query the columns of a DataFrame with a boolean expression.</p></td>\n",
    "</tr>\n",
    "<tr class=\"row-odd\"><td><p><a class=\"reference internal\" href=\"pandas.DataFrame.radd.html#pandas.DataFrame.radd\" title=\"pandas.DataFrame.radd\"><code class=\"xref py py-obj docutils literal notranslate\"><span class=\"pre\">radd</span></code></a>(other[,&nbsp;axis,&nbsp;level,&nbsp;fill_value])</p></td>\n",
    "<td><p>Get Addition of dataframe and other, element-wise (binary operator <cite>radd</cite>).</p></td>\n",
    "</tr>\n",
    "<tr class=\"row-even\"><td><p><a class=\"reference internal\" href=\"pandas.DataFrame.rank.html#pandas.DataFrame.rank\" title=\"pandas.DataFrame.rank\"><code class=\"xref py py-obj docutils literal notranslate\"><span class=\"pre\">rank</span></code></a>([axis,&nbsp;method,&nbsp;numeric_only,&nbsp;...])</p></td>\n",
    "<td><p>Compute numerical data ranks (1 through n) along axis.</p></td>\n",
    "</tr>\n",
    "<tr class=\"row-odd\"><td><p><a class=\"reference internal\" href=\"pandas.DataFrame.rdiv.html#pandas.DataFrame.rdiv\" title=\"pandas.DataFrame.rdiv\"><code class=\"xref py py-obj docutils literal notranslate\"><span class=\"pre\">rdiv</span></code></a>(other[,&nbsp;axis,&nbsp;level,&nbsp;fill_value])</p></td>\n",
    "<td><p>Get Floating division of dataframe and other, element-wise (binary operator <cite>rtruediv</cite>).</p></td>\n",
    "</tr>\n",
    "<tr class=\"row-even\"><td><p><a class=\"reference internal\" href=\"pandas.DataFrame.reindex.html#pandas.DataFrame.reindex\" title=\"pandas.DataFrame.reindex\"><code class=\"xref py py-obj docutils literal notranslate\"><span class=\"pre\">reindex</span></code></a>([labels,&nbsp;index,&nbsp;columns,&nbsp;axis,&nbsp;...])</p></td>\n",
    "<td><p>Conform Series/DataFrame to new index with optional filling logic.</p></td>\n",
    "</tr>\n",
    "<tr class=\"row-odd\"><td><p><a class=\"reference internal\" href=\"pandas.DataFrame.reindex_like.html#pandas.DataFrame.reindex_like\" title=\"pandas.DataFrame.reindex_like\"><code class=\"xref py py-obj docutils literal notranslate\"><span class=\"pre\">reindex_like</span></code></a>(other[,&nbsp;method,&nbsp;copy,&nbsp;limit,&nbsp;...])</p></td>\n",
    "<td><p>Return an object with matching indices as other object.</p></td>\n",
    "</tr>\n",
    "<tr class=\"row-even\"><td><p><a class=\"reference internal\" href=\"pandas.DataFrame.rename.html#pandas.DataFrame.rename\" title=\"pandas.DataFrame.rename\"><code class=\"xref py py-obj docutils literal notranslate\"><span class=\"pre\">rename</span></code></a>([mapper,&nbsp;index,&nbsp;columns,&nbsp;axis,&nbsp;copy,&nbsp;...])</p></td>\n",
    "<td><p>Alter axes labels.</p></td>\n",
    "</tr>\n",
    "<tr class=\"row-odd\"><td><p><a class=\"reference internal\" href=\"pandas.DataFrame.rename_axis.html#pandas.DataFrame.rename_axis\" title=\"pandas.DataFrame.rename_axis\"><code class=\"xref py py-obj docutils literal notranslate\"><span class=\"pre\">rename_axis</span></code></a>([mapper,&nbsp;index,&nbsp;columns,&nbsp;axis,&nbsp;copy])</p></td>\n",
    "<td><p>Set the name of the axis for the index or columns.</p></td>\n",
    "</tr>\n",
    "<tr class=\"row-even\"><td><p><a class=\"reference internal\" href=\"pandas.DataFrame.reorder_levels.html#pandas.DataFrame.reorder_levels\" title=\"pandas.DataFrame.reorder_levels\"><code class=\"xref py py-obj docutils literal notranslate\"><span class=\"pre\">reorder_levels</span></code></a>(order[,&nbsp;axis])</p></td>\n",
    "<td><p>Rearrange index levels using input order.</p></td>\n",
    "</tr>\n",
    "<tr class=\"row-odd\"><td><p><a class=\"reference internal\" href=\"pandas.DataFrame.replace.html#pandas.DataFrame.replace\" title=\"pandas.DataFrame.replace\"><code class=\"xref py py-obj docutils literal notranslate\"><span class=\"pre\">replace</span></code></a>([to_replace,&nbsp;value,&nbsp;inplace,&nbsp;limit,&nbsp;...])</p></td>\n",
    "<td><p>Replace values given in <cite>to_replace</cite> with <cite>value</cite>.</p></td>\n",
    "</tr>\n",
    "<tr class=\"row-even\"><td><p><a class=\"reference internal\" href=\"pandas.DataFrame.resample.html#pandas.DataFrame.resample\" title=\"pandas.DataFrame.resample\"><code class=\"xref py py-obj docutils literal notranslate\"><span class=\"pre\">resample</span></code></a>(rule[,&nbsp;axis,&nbsp;closed,&nbsp;label,&nbsp;...])</p></td>\n",
    "<td><p>Resample time-series data.</p></td>\n",
    "</tr>\n",
    "<tr class=\"row-odd\"><td><p><a class=\"reference internal\" href=\"pandas.DataFrame.reset_index.html#pandas.DataFrame.reset_index\" title=\"pandas.DataFrame.reset_index\"><code class=\"xref py py-obj docutils literal notranslate\"><span class=\"pre\">reset_index</span></code></a>([level,&nbsp;drop,&nbsp;inplace,&nbsp;...])</p></td>\n",
    "<td><p>Reset the index, or a level of it.</p></td>\n",
    "</tr>\n",
    "<tr class=\"row-even\"><td><p><a class=\"reference internal\" href=\"pandas.DataFrame.rfloordiv.html#pandas.DataFrame.rfloordiv\" title=\"pandas.DataFrame.rfloordiv\"><code class=\"xref py py-obj docutils literal notranslate\"><span class=\"pre\">rfloordiv</span></code></a>(other[,&nbsp;axis,&nbsp;level,&nbsp;fill_value])</p></td>\n",
    "<td><p>Get Integer division of dataframe and other, element-wise (binary operator <cite>rfloordiv</cite>).</p></td>\n",
    "</tr>\n",
    "<tr class=\"row-odd\"><td><p><a class=\"reference internal\" href=\"pandas.DataFrame.rmod.html#pandas.DataFrame.rmod\" title=\"pandas.DataFrame.rmod\"><code class=\"xref py py-obj docutils literal notranslate\"><span class=\"pre\">rmod</span></code></a>(other[,&nbsp;axis,&nbsp;level,&nbsp;fill_value])</p></td>\n",
    "<td><p>Get Modulo of dataframe and other, element-wise (binary operator <cite>rmod</cite>).</p></td>\n",
    "</tr>\n",
    "<tr class=\"row-even\"><td><p><a class=\"reference internal\" href=\"pandas.DataFrame.rmul.html#pandas.DataFrame.rmul\" title=\"pandas.DataFrame.rmul\"><code class=\"xref py py-obj docutils literal notranslate\"><span class=\"pre\">rmul</span></code></a>(other[,&nbsp;axis,&nbsp;level,&nbsp;fill_value])</p></td>\n",
    "<td><p>Get Multiplication of dataframe and other, element-wise (binary operator <cite>rmul</cite>).</p></td>\n",
    "</tr>\n",
    "<tr class=\"row-odd\"><td><p><a class=\"reference internal\" href=\"pandas.DataFrame.rolling.html#pandas.DataFrame.rolling\" title=\"pandas.DataFrame.rolling\"><code class=\"xref py py-obj docutils literal notranslate\"><span class=\"pre\">rolling</span></code></a>(window[,&nbsp;min_periods,&nbsp;center,&nbsp;...])</p></td>\n",
    "<td><p>Provide rolling window calculations.</p></td>\n",
    "</tr>\n",
    "<tr class=\"row-even\"><td><p><a class=\"reference internal\" href=\"pandas.DataFrame.round.html#pandas.DataFrame.round\" title=\"pandas.DataFrame.round\"><code class=\"xref py py-obj docutils literal notranslate\"><span class=\"pre\">round</span></code></a>([decimals])</p></td>\n",
    "<td><p>Round a DataFrame to a variable number of decimal places.</p></td>\n",
    "</tr>\n",
    "<tr class=\"row-odd\"><td><p><a class=\"reference internal\" href=\"pandas.DataFrame.rpow.html#pandas.DataFrame.rpow\" title=\"pandas.DataFrame.rpow\"><code class=\"xref py py-obj docutils literal notranslate\"><span class=\"pre\">rpow</span></code></a>(other[,&nbsp;axis,&nbsp;level,&nbsp;fill_value])</p></td>\n",
    "<td><p>Get Exponential power of dataframe and other, element-wise (binary operator <cite>rpow</cite>).</p></td>\n",
    "</tr>\n",
    "<tr class=\"row-even\"><td><p><a class=\"reference internal\" href=\"pandas.DataFrame.rsub.html#pandas.DataFrame.rsub\" title=\"pandas.DataFrame.rsub\"><code class=\"xref py py-obj docutils literal notranslate\"><span class=\"pre\">rsub</span></code></a>(other[,&nbsp;axis,&nbsp;level,&nbsp;fill_value])</p></td>\n",
    "<td><p>Get Subtraction of dataframe and other, element-wise (binary operator <cite>rsub</cite>).</p></td>\n",
    "</tr>\n",
    "<tr class=\"row-odd\"><td><p><a class=\"reference internal\" href=\"pandas.DataFrame.rtruediv.html#pandas.DataFrame.rtruediv\" title=\"pandas.DataFrame.rtruediv\"><code class=\"xref py py-obj docutils literal notranslate\"><span class=\"pre\">rtruediv</span></code></a>(other[,&nbsp;axis,&nbsp;level,&nbsp;fill_value])</p></td>\n",
    "<td><p>Get Floating division of dataframe and other, element-wise (binary operator <cite>rtruediv</cite>).</p></td>\n",
    "</tr>\n",
    "<tr class=\"row-even\"><td><p><a class=\"reference internal\" href=\"pandas.DataFrame.sample.html#pandas.DataFrame.sample\" title=\"pandas.DataFrame.sample\"><code class=\"xref py py-obj docutils literal notranslate\"><span class=\"pre\">sample</span></code></a>([n,&nbsp;frac,&nbsp;replace,&nbsp;weights,&nbsp;...])</p></td>\n",
    "<td><p>Return a random sample of items from an axis of object.</p></td>\n",
    "</tr>\n",
    "<tr class=\"row-odd\"><td><p><a class=\"reference internal\" href=\"pandas.DataFrame.select_dtypes.html#pandas.DataFrame.select_dtypes\" title=\"pandas.DataFrame.select_dtypes\"><code class=\"xref py py-obj docutils literal notranslate\"><span class=\"pre\">select_dtypes</span></code></a>([include,&nbsp;exclude])</p></td>\n",
    "<td><p>Return a subset of the DataFrame's columns based on the column dtypes.</p></td>\n",
    "</tr>\n",
    "<tr class=\"row-even\"><td><p><a class=\"reference internal\" href=\"pandas.DataFrame.sem.html#pandas.DataFrame.sem\" title=\"pandas.DataFrame.sem\"><code class=\"xref py py-obj docutils literal notranslate\"><span class=\"pre\">sem</span></code></a>([axis,&nbsp;skipna,&nbsp;level,&nbsp;ddof,&nbsp;numeric_only])</p></td>\n",
    "<td><p>Return unbiased standard error of the mean over requested axis.</p></td>\n",
    "</tr>\n",
    "<tr class=\"row-odd\"><td><p><a class=\"reference internal\" href=\"pandas.DataFrame.set_axis.html#pandas.DataFrame.set_axis\" title=\"pandas.DataFrame.set_axis\"><code class=\"xref py py-obj docutils literal notranslate\"><span class=\"pre\">set_axis</span></code></a>(labels[,&nbsp;axis,&nbsp;inplace,&nbsp;copy])</p></td>\n",
    "<td><p>Assign desired index to given axis.</p></td>\n",
    "</tr>\n",
    "<tr class=\"row-even\"><td><p><a class=\"reference internal\" href=\"pandas.DataFrame.set_flags.html#pandas.DataFrame.set_flags\" title=\"pandas.DataFrame.set_flags\"><code class=\"xref py py-obj docutils literal notranslate\"><span class=\"pre\">set_flags</span></code></a>(*[,&nbsp;copy,&nbsp;allows_duplicate_labels])</p></td>\n",
    "<td><p>Return a new object with updated flags.</p></td>\n",
    "</tr>\n",
    "<tr class=\"row-odd\"><td><p><a class=\"reference internal\" href=\"pandas.DataFrame.set_index.html#pandas.DataFrame.set_index\" title=\"pandas.DataFrame.set_index\"><code class=\"xref py py-obj docutils literal notranslate\"><span class=\"pre\">set_index</span></code></a>(keys[,&nbsp;drop,&nbsp;append,&nbsp;inplace,&nbsp;...])</p></td>\n",
    "<td><p>Set the DataFrame index using existing columns.</p></td>\n",
    "</tr>\n",
    "<tr class=\"row-even\"><td><p><a class=\"reference internal\" href=\"pandas.DataFrame.shift.html#pandas.DataFrame.shift\" title=\"pandas.DataFrame.shift\"><code class=\"xref py py-obj docutils literal notranslate\"><span class=\"pre\">shift</span></code></a>([periods,&nbsp;freq,&nbsp;axis,&nbsp;fill_value])</p></td>\n",
    "<td><p>Shift index by desired number of periods with an optional time <cite>freq</cite>.</p></td>\n",
    "</tr>\n",
    "<tr class=\"row-odd\"><td><p><a class=\"reference internal\" href=\"pandas.DataFrame.skew.html#pandas.DataFrame.skew\" title=\"pandas.DataFrame.skew\"><code class=\"xref py py-obj docutils literal notranslate\"><span class=\"pre\">skew</span></code></a>([axis,&nbsp;skipna,&nbsp;level,&nbsp;numeric_only])</p></td>\n",
    "<td><p>Return unbiased skew over requested axis.</p></td>\n",
    "</tr>\n",
    "<tr class=\"row-even\"><td><p><a class=\"reference internal\" href=\"pandas.DataFrame.slice_shift.html#pandas.DataFrame.slice_shift\" title=\"pandas.DataFrame.slice_shift\"><code class=\"xref py py-obj docutils literal notranslate\"><span class=\"pre\">slice_shift</span></code></a>([periods,&nbsp;axis])</p></td>\n",
    "<td><p>(DEPRECATED) Equivalent to <cite>shift</cite> without copying data.</p></td>\n",
    "</tr>\n",
    "<tr class=\"row-odd\"><td><p><a class=\"reference internal\" href=\"pandas.DataFrame.sort_index.html#pandas.DataFrame.sort_index\" title=\"pandas.DataFrame.sort_index\"><code class=\"xref py py-obj docutils literal notranslate\"><span class=\"pre\">sort_index</span></code></a>([axis,&nbsp;level,&nbsp;ascending,&nbsp;...])</p></td>\n",
    "<td><p>Sort object by labels (along an axis).</p></td>\n",
    "</tr>\n",
    "<tr class=\"row-even\"><td><p><a class=\"reference internal\" href=\"pandas.DataFrame.sort_values.html#pandas.DataFrame.sort_values\" title=\"pandas.DataFrame.sort_values\"><code class=\"xref py py-obj docutils literal notranslate\"><span class=\"pre\">sort_values</span></code></a>(by[,&nbsp;axis,&nbsp;ascending,&nbsp;inplace,&nbsp;...])</p></td>\n",
    "<td><p>Sort by the values along either axis.</p></td>\n",
    "</tr>\n",
    "<tr class=\"row-odd\"><td><p><a class=\"reference internal\" href=\"pandas.DataFrame.sparse.html#pandas.DataFrame.sparse\" title=\"pandas.DataFrame.sparse\"><code class=\"xref py py-obj docutils literal notranslate\"><span class=\"pre\">sparse</span></code></a></p></td>\n",
    "<td><p>alias of <code class=\"xref py py-class docutils literal notranslate\"><span class=\"pre\">pandas.core.arrays.sparse.accessor.SparseFrameAccessor</span></code></p></td>\n",
    "</tr>\n",
    "<tr class=\"row-even\"><td><p><a class=\"reference internal\" href=\"pandas.DataFrame.squeeze.html#pandas.DataFrame.squeeze\" title=\"pandas.DataFrame.squeeze\"><code class=\"xref py py-obj docutils literal notranslate\"><span class=\"pre\">squeeze</span></code></a>([axis])</p></td>\n",
    "<td><p>Squeeze 1 dimensional axis objects into scalars.</p></td>\n",
    "</tr>\n",
    "<tr class=\"row-odd\"><td><p><a class=\"reference internal\" href=\"pandas.DataFrame.stack.html#pandas.DataFrame.stack\" title=\"pandas.DataFrame.stack\"><code class=\"xref py py-obj docutils literal notranslate\"><span class=\"pre\">stack</span></code></a>([level,&nbsp;dropna])</p></td>\n",
    "<td><p>Stack the prescribed level(s) from columns to index.</p></td>\n",
    "</tr>\n",
    "<tr class=\"row-even\"><td><p><a class=\"reference internal\" href=\"pandas.DataFrame.std.html#pandas.DataFrame.std\" title=\"pandas.DataFrame.std\"><code class=\"xref py py-obj docutils literal notranslate\"><span class=\"pre\">std</span></code></a>([axis,&nbsp;skipna,&nbsp;level,&nbsp;ddof,&nbsp;numeric_only])</p></td>\n",
    "<td><p>Return sample standard deviation over requested axis.</p></td>\n",
    "</tr>\n",
    "<tr class=\"row-odd\"><td><p><a class=\"reference internal\" href=\"pandas.DataFrame.sub.html#pandas.DataFrame.sub\" title=\"pandas.DataFrame.sub\"><code class=\"xref py py-obj docutils literal notranslate\"><span class=\"pre\">sub</span></code></a>(other[,&nbsp;axis,&nbsp;level,&nbsp;fill_value])</p></td>\n",
    "<td><p>Get Subtraction of dataframe and other, element-wise (binary operator <cite>sub</cite>).</p></td>\n",
    "</tr>\n",
    "<tr class=\"row-even\"><td><p><a class=\"reference internal\" href=\"pandas.DataFrame.subtract.html#pandas.DataFrame.subtract\" title=\"pandas.DataFrame.subtract\"><code class=\"xref py py-obj docutils literal notranslate\"><span class=\"pre\">subtract</span></code></a>(other[,&nbsp;axis,&nbsp;level,&nbsp;fill_value])</p></td>\n",
    "<td><p>Get Subtraction of dataframe and other, element-wise (binary operator <cite>sub</cite>).</p></td>\n",
    "</tr>\n",
    "<tr class=\"row-odd\"><td><p><a class=\"reference internal\" href=\"pandas.DataFrame.sum.html#pandas.DataFrame.sum\" title=\"pandas.DataFrame.sum\"><code class=\"xref py py-obj docutils literal notranslate\"><span class=\"pre\">sum</span></code></a>([axis,&nbsp;skipna,&nbsp;level,&nbsp;numeric_only,&nbsp;...])</p></td>\n",
    "<td><p>Return the sum of the values over the requested axis.</p></td>\n",
    "</tr>\n",
    "<tr class=\"row-even\"><td><p><a class=\"reference internal\" href=\"pandas.DataFrame.swapaxes.html#pandas.DataFrame.swapaxes\" title=\"pandas.DataFrame.swapaxes\"><code class=\"xref py py-obj docutils literal notranslate\"><span class=\"pre\">swapaxes</span></code></a>(axis1,&nbsp;axis2[,&nbsp;copy])</p></td>\n",
    "<td><p>Interchange axes and swap values axes appropriately.</p></td>\n",
    "</tr>\n",
    "<tr class=\"row-odd\"><td><p><a class=\"reference internal\" href=\"pandas.DataFrame.swaplevel.html#pandas.DataFrame.swaplevel\" title=\"pandas.DataFrame.swaplevel\"><code class=\"xref py py-obj docutils literal notranslate\"><span class=\"pre\">swaplevel</span></code></a>([i,&nbsp;j,&nbsp;axis])</p></td>\n",
    "<td><p>Swap levels i and j in a <a class=\"reference internal\" href=\"pandas.MultiIndex.html#pandas.MultiIndex\" title=\"pandas.MultiIndex\"><code class=\"xref py py-class docutils literal notranslate\"><span class=\"pre\">MultiIndex</span></code></a>.</p></td>\n",
    "</tr>\n",
    "<tr class=\"row-even\"><td><p><a class=\"reference internal\" href=\"pandas.DataFrame.tail.html#pandas.DataFrame.tail\" title=\"pandas.DataFrame.tail\"><code class=\"xref py py-obj docutils literal notranslate\"><span class=\"pre\">tail</span></code></a>([n])</p></td>\n",
    "<td><p>Return the last <cite>n</cite> rows.</p></td>\n",
    "</tr>\n",
    "<tr class=\"row-odd\"><td><p><a class=\"reference internal\" href=\"pandas.DataFrame.take.html#pandas.DataFrame.take\" title=\"pandas.DataFrame.take\"><code class=\"xref py py-obj docutils literal notranslate\"><span class=\"pre\">take</span></code></a>(indices[,&nbsp;axis,&nbsp;is_copy])</p></td>\n",
    "<td><p>Return the elements in the given <em>positional</em> indices along an axis.</p></td>\n",
    "</tr>\n",
    "<tr class=\"row-even\"><td><p><a class=\"reference internal\" href=\"pandas.DataFrame.to_clipboard.html#pandas.DataFrame.to_clipboard\" title=\"pandas.DataFrame.to_clipboard\"><code class=\"xref py py-obj docutils literal notranslate\"><span class=\"pre\">to_clipboard</span></code></a>([excel,&nbsp;sep])</p></td>\n",
    "<td><p>Copy object to the system clipboard.</p></td>\n",
    "</tr>\n",
    "<tr class=\"row-odd\"><td><p><a class=\"reference internal\" href=\"pandas.DataFrame.to_csv.html#pandas.DataFrame.to_csv\" title=\"pandas.DataFrame.to_csv\"><code class=\"xref py py-obj docutils literal notranslate\"><span class=\"pre\">to_csv</span></code></a>([path_or_buf,&nbsp;sep,&nbsp;na_rep,&nbsp;...])</p></td>\n",
    "<td><p>Write object to a comma-separated values (csv) file.</p></td>\n",
    "</tr>\n",
    "<tr class=\"row-even\"><td><p><a class=\"reference internal\" href=\"pandas.DataFrame.to_dict.html#pandas.DataFrame.to_dict\" title=\"pandas.DataFrame.to_dict\"><code class=\"xref py py-obj docutils literal notranslate\"><span class=\"pre\">to_dict</span></code></a>([orient,&nbsp;into])</p></td>\n",
    "<td><p>Convert the DataFrame to a dictionary.</p></td>\n",
    "</tr>\n",
    "<tr class=\"row-odd\"><td><p><a class=\"reference internal\" href=\"pandas.DataFrame.to_excel.html#pandas.DataFrame.to_excel\" title=\"pandas.DataFrame.to_excel\"><code class=\"xref py py-obj docutils literal notranslate\"><span class=\"pre\">to_excel</span></code></a>(excel_writer[,&nbsp;sheet_name,&nbsp;na_rep,&nbsp;...])</p></td>\n",
    "<td><p>Write object to an Excel sheet.</p></td>\n",
    "</tr>\n",
    "<tr class=\"row-even\"><td><p><a class=\"reference internal\" href=\"pandas.DataFrame.to_feather.html#pandas.DataFrame.to_feather\" title=\"pandas.DataFrame.to_feather\"><code class=\"xref py py-obj docutils literal notranslate\"><span class=\"pre\">to_feather</span></code></a>(path,&nbsp;**kwargs)</p></td>\n",
    "<td><p>Write a DataFrame to the binary Feather format.</p></td>\n",
    "</tr>\n",
    "<tr class=\"row-odd\"><td><p><a class=\"reference internal\" href=\"pandas.DataFrame.to_gbq.html#pandas.DataFrame.to_gbq\" title=\"pandas.DataFrame.to_gbq\"><code class=\"xref py py-obj docutils literal notranslate\"><span class=\"pre\">to_gbq</span></code></a>(destination_table[,&nbsp;project_id,&nbsp;...])</p></td>\n",
    "<td><p>Write a DataFrame to a Google BigQuery table.</p></td>\n",
    "</tr>\n",
    "<tr class=\"row-even\"><td><p><a class=\"reference internal\" href=\"pandas.DataFrame.to_hdf.html#pandas.DataFrame.to_hdf\" title=\"pandas.DataFrame.to_hdf\"><code class=\"xref py py-obj docutils literal notranslate\"><span class=\"pre\">to_hdf</span></code></a>(path_or_buf,&nbsp;key[,&nbsp;mode,&nbsp;complevel,&nbsp;...])</p></td>\n",
    "<td><p>Write the contained data to an HDF5 file using HDFStore.</p></td>\n",
    "</tr>\n",
    "<tr class=\"row-odd\"><td><p><a class=\"reference internal\" href=\"pandas.DataFrame.to_html.html#pandas.DataFrame.to_html\" title=\"pandas.DataFrame.to_html\"><code class=\"xref py py-obj docutils literal notranslate\"><span class=\"pre\">to_html</span></code></a>([buf,&nbsp;columns,&nbsp;col_space,&nbsp;header,&nbsp;...])</p></td>\n",
    "<td><p>Render a DataFrame as an HTML table.</p></td>\n",
    "</tr>\n",
    "<tr class=\"row-even\"><td><p><a class=\"reference internal\" href=\"pandas.DataFrame.to_json.html#pandas.DataFrame.to_json\" title=\"pandas.DataFrame.to_json\"><code class=\"xref py py-obj docutils literal notranslate\"><span class=\"pre\">to_json</span></code></a>([path_or_buf,&nbsp;orient,&nbsp;date_format,&nbsp;...])</p></td>\n",
    "<td><p>Convert the object to a JSON string.</p></td>\n",
    "</tr>\n",
    "<tr class=\"row-odd\"><td><p><a class=\"reference internal\" href=\"pandas.DataFrame.to_latex.html#pandas.DataFrame.to_latex\" title=\"pandas.DataFrame.to_latex\"><code class=\"xref py py-obj docutils literal notranslate\"><span class=\"pre\">to_latex</span></code></a>([buf,&nbsp;columns,&nbsp;col_space,&nbsp;header,&nbsp;...])</p></td>\n",
    "<td><p>Render object to a LaTeX tabular, longtable, or nested table.</p></td>\n",
    "</tr>\n",
    "<tr class=\"row-even\"><td><p><a class=\"reference internal\" href=\"pandas.DataFrame.to_markdown.html#pandas.DataFrame.to_markdown\" title=\"pandas.DataFrame.to_markdown\"><code class=\"xref py py-obj docutils literal notranslate\"><span class=\"pre\">to_markdown</span></code></a>([buf,&nbsp;mode,&nbsp;index,&nbsp;storage_options])</p></td>\n",
    "<td><p>Print DataFrame in Markdown-friendly format.</p></td>\n",
    "</tr>\n",
    "<tr class=\"row-odd\"><td><p><a class=\"reference internal\" href=\"pandas.DataFrame.to_numpy.html#pandas.DataFrame.to_numpy\" title=\"pandas.DataFrame.to_numpy\"><code class=\"xref py py-obj docutils literal notranslate\"><span class=\"pre\">to_numpy</span></code></a>([dtype,&nbsp;copy,&nbsp;na_value])</p></td>\n",
    "<td><p>Convert the DataFrame to a NumPy array.</p></td>\n",
    "</tr>\n",
    "<tr class=\"row-even\"><td><p><a class=\"reference internal\" href=\"pandas.DataFrame.to_orc.html#pandas.DataFrame.to_orc\" title=\"pandas.DataFrame.to_orc\"><code class=\"xref py py-obj docutils literal notranslate\"><span class=\"pre\">to_orc</span></code></a>([path,&nbsp;engine,&nbsp;index,&nbsp;engine_kwargs])</p></td>\n",
    "<td><p>Write a DataFrame to the ORC format.</p></td>\n",
    "</tr>\n",
    "<tr class=\"row-odd\"><td><p><a class=\"reference internal\" href=\"pandas.DataFrame.to_parquet.html#pandas.DataFrame.to_parquet\" title=\"pandas.DataFrame.to_parquet\"><code class=\"xref py py-obj docutils literal notranslate\"><span class=\"pre\">to_parquet</span></code></a>([path,&nbsp;engine,&nbsp;compression,&nbsp;...])</p></td>\n",
    "<td><p>Write a DataFrame to the binary parquet format.</p></td>\n",
    "</tr>\n",
    "<tr class=\"row-even\"><td><p><a class=\"reference internal\" href=\"pandas.DataFrame.to_period.html#pandas.DataFrame.to_period\" title=\"pandas.DataFrame.to_period\"><code class=\"xref py py-obj docutils literal notranslate\"><span class=\"pre\">to_period</span></code></a>([freq,&nbsp;axis,&nbsp;copy])</p></td>\n",
    "<td><p>Convert DataFrame from DatetimeIndex to PeriodIndex.</p></td>\n",
    "</tr>\n",
    "<tr class=\"row-odd\"><td><p><a class=\"reference internal\" href=\"pandas.DataFrame.to_pickle.html#pandas.DataFrame.to_pickle\" title=\"pandas.DataFrame.to_pickle\"><code class=\"xref py py-obj docutils literal notranslate\"><span class=\"pre\">to_pickle</span></code></a>(path[,&nbsp;compression,&nbsp;protocol,&nbsp;...])</p></td>\n",
    "<td><p>Pickle (serialize) object to file.</p></td>\n",
    "</tr>\n",
    "<tr class=\"row-even\"><td><p><a class=\"reference internal\" href=\"pandas.DataFrame.to_records.html#pandas.DataFrame.to_records\" title=\"pandas.DataFrame.to_records\"><code class=\"xref py py-obj docutils literal notranslate\"><span class=\"pre\">to_records</span></code></a>([index,&nbsp;column_dtypes,&nbsp;index_dtypes])</p></td>\n",
    "<td><p>Convert DataFrame to a NumPy record array.</p></td>\n",
    "</tr>\n",
    "<tr class=\"row-odd\"><td><p><a class=\"reference internal\" href=\"pandas.DataFrame.to_sql.html#pandas.DataFrame.to_sql\" title=\"pandas.DataFrame.to_sql\"><code class=\"xref py py-obj docutils literal notranslate\"><span class=\"pre\">to_sql</span></code></a>(name,&nbsp;con[,&nbsp;schema,&nbsp;if_exists,&nbsp;...])</p></td>\n",
    "<td><p>Write records stored in a DataFrame to a SQL database.</p></td>\n",
    "</tr>\n",
    "<tr class=\"row-even\"><td><p><a class=\"reference internal\" href=\"pandas.DataFrame.to_stata.html#pandas.DataFrame.to_stata\" title=\"pandas.DataFrame.to_stata\"><code class=\"xref py py-obj docutils literal notranslate\"><span class=\"pre\">to_stata</span></code></a>(path[,&nbsp;convert_dates,&nbsp;write_index,&nbsp;...])</p></td>\n",
    "<td><p>Export DataFrame object to Stata dta format.</p></td>\n",
    "</tr>\n",
    "<tr class=\"row-odd\"><td><p><a class=\"reference internal\" href=\"pandas.DataFrame.to_string.html#pandas.DataFrame.to_string\" title=\"pandas.DataFrame.to_string\"><code class=\"xref py py-obj docutils literal notranslate\"><span class=\"pre\">to_string</span></code></a>([buf,&nbsp;columns,&nbsp;col_space,&nbsp;header,&nbsp;...])</p></td>\n",
    "<td><p>Render a DataFrame to a console-friendly tabular output.</p></td>\n",
    "</tr>\n",
    "<tr class=\"row-even\"><td><p><a class=\"reference internal\" href=\"pandas.DataFrame.to_timestamp.html#pandas.DataFrame.to_timestamp\" title=\"pandas.DataFrame.to_timestamp\"><code class=\"xref py py-obj docutils literal notranslate\"><span class=\"pre\">to_timestamp</span></code></a>([freq,&nbsp;how,&nbsp;axis,&nbsp;copy])</p></td>\n",
    "<td><p>Cast to DatetimeIndex of timestamps, at <em>beginning</em> of period.</p></td>\n",
    "</tr>\n",
    "<tr class=\"row-odd\"><td><p><a class=\"reference internal\" href=\"pandas.DataFrame.to_xarray.html#pandas.DataFrame.to_xarray\" title=\"pandas.DataFrame.to_xarray\"><code class=\"xref py py-obj docutils literal notranslate\"><span class=\"pre\">to_xarray</span></code></a>()</p></td>\n",
    "<td><p>Return an xarray object from the pandas object.</p></td>\n",
    "</tr>\n",
    "<tr class=\"row-even\"><td><p><a class=\"reference internal\" href=\"pandas.DataFrame.to_xml.html#pandas.DataFrame.to_xml\" title=\"pandas.DataFrame.to_xml\"><code class=\"xref py py-obj docutils literal notranslate\"><span class=\"pre\">to_xml</span></code></a>([path_or_buffer,&nbsp;index,&nbsp;root_name,&nbsp;...])</p></td>\n",
    "<td><p>Render a DataFrame to an XML document.</p></td>\n",
    "</tr>\n",
    "<tr class=\"row-odd\"><td><p><a class=\"reference internal\" href=\"pandas.DataFrame.transform.html#pandas.DataFrame.transform\" title=\"pandas.DataFrame.transform\"><code class=\"xref py py-obj docutils literal notranslate\"><span class=\"pre\">transform</span></code></a>(func[,&nbsp;axis])</p></td>\n",
    "<td><p>Call <code class=\"docutils literal notranslate\"><span class=\"pre\">func</span></code> on self producing a DataFrame with the same axis shape as self.</p></td>\n",
    "</tr>\n",
    "<tr class=\"row-even\"><td><p><a class=\"reference internal\" href=\"pandas.DataFrame.transpose.html#pandas.DataFrame.transpose\" title=\"pandas.DataFrame.transpose\"><code class=\"xref py py-obj docutils literal notranslate\"><span class=\"pre\">transpose</span></code></a>(*args[,&nbsp;copy])</p></td>\n",
    "<td><p>Transpose index and columns.</p></td>\n",
    "</tr>\n",
    "<tr class=\"row-odd\"><td><p><a class=\"reference internal\" href=\"pandas.DataFrame.truediv.html#pandas.DataFrame.truediv\" title=\"pandas.DataFrame.truediv\"><code class=\"xref py py-obj docutils literal notranslate\"><span class=\"pre\">truediv</span></code></a>(other[,&nbsp;axis,&nbsp;level,&nbsp;fill_value])</p></td>\n",
    "<td><p>Get Floating division of dataframe and other, element-wise (binary operator <cite>truediv</cite>).</p></td>\n",
    "</tr>\n",
    "<tr class=\"row-even\"><td><p><a class=\"reference internal\" href=\"pandas.DataFrame.truncate.html#pandas.DataFrame.truncate\" title=\"pandas.DataFrame.truncate\"><code class=\"xref py py-obj docutils literal notranslate\"><span class=\"pre\">truncate</span></code></a>([before,&nbsp;after,&nbsp;axis,&nbsp;copy])</p></td>\n",
    "<td><p>Truncate a Series or DataFrame before and after some index value.</p></td>\n",
    "</tr>\n",
    "<tr class=\"row-odd\"><td><p><a class=\"reference internal\" href=\"pandas.DataFrame.tshift.html#pandas.DataFrame.tshift\" title=\"pandas.DataFrame.tshift\"><code class=\"xref py py-obj docutils literal notranslate\"><span class=\"pre\">tshift</span></code></a>([periods,&nbsp;freq,&nbsp;axis])</p></td>\n",
    "<td><p>(DEPRECATED) Shift the time index, using the index's frequency if available.</p></td>\n",
    "</tr>\n",
    "<tr class=\"row-even\"><td><p><a class=\"reference internal\" href=\"pandas.DataFrame.tz_convert.html#pandas.DataFrame.tz_convert\" title=\"pandas.DataFrame.tz_convert\"><code class=\"xref py py-obj docutils literal notranslate\"><span class=\"pre\">tz_convert</span></code></a>(tz[,&nbsp;axis,&nbsp;level,&nbsp;copy])</p></td>\n",
    "<td><p>Convert tz-aware axis to target time zone.</p></td>\n",
    "</tr>\n",
    "<tr class=\"row-odd\"><td><p><a class=\"reference internal\" href=\"pandas.DataFrame.tz_localize.html#pandas.DataFrame.tz_localize\" title=\"pandas.DataFrame.tz_localize\"><code class=\"xref py py-obj docutils literal notranslate\"><span class=\"pre\">tz_localize</span></code></a>(tz[,&nbsp;axis,&nbsp;level,&nbsp;copy,&nbsp;...])</p></td>\n",
    "<td><p>Localize tz-naive index of a Series or DataFrame to target time zone.</p></td>\n",
    "</tr>\n",
    "<tr class=\"row-even\"><td><p><a class=\"reference internal\" href=\"pandas.DataFrame.unstack.html#pandas.DataFrame.unstack\" title=\"pandas.DataFrame.unstack\"><code class=\"xref py py-obj docutils literal notranslate\"><span class=\"pre\">unstack</span></code></a>([level,&nbsp;fill_value])</p></td>\n",
    "<td><p>Pivot a level of the (necessarily hierarchical) index labels.</p></td>\n",
    "</tr>\n",
    "<tr class=\"row-odd\"><td><p><a class=\"reference internal\" href=\"pandas.DataFrame.update.html#pandas.DataFrame.update\" title=\"pandas.DataFrame.update\"><code class=\"xref py py-obj docutils literal notranslate\"><span class=\"pre\">update</span></code></a>(other[,&nbsp;join,&nbsp;overwrite,&nbsp;...])</p></td>\n",
    "<td><p>Modify in place using non-NA values from another DataFrame.</p></td>\n",
    "</tr>\n",
    "<tr class=\"row-even\"><td><p><a class=\"reference internal\" href=\"pandas.DataFrame.value_counts.html#pandas.DataFrame.value_counts\" title=\"pandas.DataFrame.value_counts\"><code class=\"xref py py-obj docutils literal notranslate\"><span class=\"pre\">value_counts</span></code></a>([subset,&nbsp;normalize,&nbsp;sort,&nbsp;...])</p></td>\n",
    "<td><p>Return a Series containing counts of unique rows in the DataFrame.</p></td>\n",
    "</tr>\n",
    "<tr class=\"row-odd\"><td><p><a class=\"reference internal\" href=\"pandas.DataFrame.var.html#pandas.DataFrame.var\" title=\"pandas.DataFrame.var\"><code class=\"xref py py-obj docutils literal notranslate\"><span class=\"pre\">var</span></code></a>([axis,&nbsp;skipna,&nbsp;level,&nbsp;ddof,&nbsp;numeric_only])</p></td>\n",
    "<td><p>Return unbiased variance over requested axis.</p></td>\n",
    "</tr>\n",
    "<tr class=\"row-even\"><td><p><a class=\"reference internal\" href=\"pandas.DataFrame.where.html#pandas.DataFrame.where\" title=\"pandas.DataFrame.where\"><code class=\"xref py py-obj docutils literal notranslate\"><span class=\"pre\">where</span></code></a>(cond[,&nbsp;other,&nbsp;inplace,&nbsp;axis,&nbsp;level,&nbsp;...])</p></td>\n",
    "<td><p>Replace values where the condition is False.</p></td>\n",
    "</tr>\n",
    "<tr class=\"row-odd\"><td><p><a class=\"reference internal\" href=\"pandas.DataFrame.xs.html#pandas.DataFrame.xs\" title=\"pandas.DataFrame.xs\"><code class=\"xref py py-obj docutils literal notranslate\"><span class=\"pre\">xs</span></code></a>(key[,&nbsp;axis,&nbsp;level,&nbsp;drop_level])</p></td>\n",
    "<td><p>Return cross-section from the Series/DataFrame.</p></td>\n",
    "</tr>\n",
    "</tbody>\n",
    "</table>\n",
    "    </dd>"
   ]
  },
  {
   "cell_type": "markdown",
   "id": "35d5c931",
   "metadata": {
    "papermill": {
     "duration": 0.066276,
     "end_time": "2022-09-29T06:58:45.736846",
     "exception": false,
     "start_time": "2022-09-29T06:58:45.670570",
     "status": "completed"
    },
    "tags": []
   },
   "source": [
    "##### Creating a Pandas DataFrame\n",
    "\n"
   ]
  },
  {
   "cell_type": "code",
   "execution_count": 62,
   "id": "a5935223",
   "metadata": {
    "execution": {
     "iopub.execute_input": "2022-09-29T06:58:45.869917Z",
     "iopub.status.busy": "2022-09-29T06:58:45.869461Z",
     "iopub.status.idle": "2022-09-29T06:58:45.877147Z",
     "shell.execute_reply": "2022-09-29T06:58:45.875738Z"
    },
    "papermill": {
     "duration": 0.077296,
     "end_time": "2022-09-29T06:58:45.880976",
     "exception": false,
     "start_time": "2022-09-29T06:58:45.803680",
     "status": "completed"
    },
    "tags": []
   },
   "outputs": [
    {
     "name": "stdout",
     "output_type": "stream",
     "text": [
      "Empty DataFrame\n",
      "Columns: []\n",
      "Index: []\n"
     ]
    }
   ],
   "source": [
    "# Creating Empty DataFrame:\n",
    "empty_df=pd.DataFrame()\n",
    "print(empty_df) #No data "
   ]
  },
  {
   "cell_type": "code",
   "execution_count": 63,
   "id": "14072296",
   "metadata": {
    "execution": {
     "iopub.execute_input": "2022-09-29T06:58:46.017745Z",
     "iopub.status.busy": "2022-09-29T06:58:46.016272Z",
     "iopub.status.idle": "2022-09-29T06:58:46.026400Z",
     "shell.execute_reply": "2022-09-29T06:58:46.025062Z"
    },
    "papermill": {
     "duration": 0.081921,
     "end_time": "2022-09-29T06:58:46.030277",
     "exception": false,
     "start_time": "2022-09-29T06:58:45.948356",
     "status": "completed"
    },
    "tags": []
   },
   "outputs": [
    {
     "name": "stdout",
     "output_type": "stream",
     "text": [
      "We can Print by Using print():\n",
      "           0\n",
      "0     Bhawan\n",
      "1      Singh\n",
      "2    Solanki\n",
      "3   Learning\n",
      "4     Pandas\n",
      "5  DataFrame\n"
     ]
    }
   ],
   "source": [
    "# Creating by giving list:\n",
    "lst=[\"Bhawan\",\"Singh\",\"Solanki\",\"Learning\",\"Pandas\",\"DataFrame\"]\n",
    "df=pd.DataFrame(lst)\n",
    "print(\"We can Print by Using print():\")\n",
    "print(df)"
   ]
  },
  {
   "cell_type": "code",
   "execution_count": 64,
   "id": "131e8d81",
   "metadata": {
    "execution": {
     "iopub.execute_input": "2022-09-29T06:58:46.168790Z",
     "iopub.status.busy": "2022-09-29T06:58:46.167588Z",
     "iopub.status.idle": "2022-09-29T06:58:46.180808Z",
     "shell.execute_reply": "2022-09-29T06:58:46.178147Z"
    },
    "papermill": {
     "duration": 0.085415,
     "end_time": "2022-09-29T06:58:46.184132",
     "exception": false,
     "start_time": "2022-09-29T06:58:46.098717",
     "status": "completed"
    },
    "tags": []
   },
   "outputs": [
    {
     "name": "stdout",
     "output_type": "stream",
     "text": [
      "We can direct like below:\n"
     ]
    },
    {
     "data": {
      "text/html": [
       "<div>\n",
       "<style scoped>\n",
       "    .dataframe tbody tr th:only-of-type {\n",
       "        vertical-align: middle;\n",
       "    }\n",
       "\n",
       "    .dataframe tbody tr th {\n",
       "        vertical-align: top;\n",
       "    }\n",
       "\n",
       "    .dataframe thead th {\n",
       "        text-align: right;\n",
       "    }\n",
       "</style>\n",
       "<table border=\"1\" class=\"dataframe\">\n",
       "  <thead>\n",
       "    <tr style=\"text-align: right;\">\n",
       "      <th></th>\n",
       "      <th>0</th>\n",
       "    </tr>\n",
       "  </thead>\n",
       "  <tbody>\n",
       "    <tr>\n",
       "      <th>0</th>\n",
       "      <td>Bhawan</td>\n",
       "    </tr>\n",
       "    <tr>\n",
       "      <th>1</th>\n",
       "      <td>Singh</td>\n",
       "    </tr>\n",
       "    <tr>\n",
       "      <th>2</th>\n",
       "      <td>Solanki</td>\n",
       "    </tr>\n",
       "    <tr>\n",
       "      <th>3</th>\n",
       "      <td>Learning</td>\n",
       "    </tr>\n",
       "    <tr>\n",
       "      <th>4</th>\n",
       "      <td>Pandas</td>\n",
       "    </tr>\n",
       "    <tr>\n",
       "      <th>5</th>\n",
       "      <td>DataFrame</td>\n",
       "    </tr>\n",
       "  </tbody>\n",
       "</table>\n",
       "</div>"
      ],
      "text/plain": [
       "           0\n",
       "0     Bhawan\n",
       "1      Singh\n",
       "2    Solanki\n",
       "3   Learning\n",
       "4     Pandas\n",
       "5  DataFrame"
      ]
     },
     "execution_count": 64,
     "metadata": {},
     "output_type": "execute_result"
    }
   ],
   "source": [
    "print(\"We can direct like below:\")\n",
    "df"
   ]
  },
  {
   "cell_type": "code",
   "execution_count": 65,
   "id": "0728efb8",
   "metadata": {
    "execution": {
     "iopub.execute_input": "2022-09-29T06:58:46.358300Z",
     "iopub.status.busy": "2022-09-29T06:58:46.357088Z",
     "iopub.status.idle": "2022-09-29T06:58:46.373174Z",
     "shell.execute_reply": "2022-09-29T06:58:46.370323Z"
    },
    "papermill": {
     "duration": 0.090629,
     "end_time": "2022-09-29T06:58:46.376576",
     "exception": false,
     "start_time": "2022-09-29T06:58:46.285947",
     "status": "completed"
    },
    "tags": []
   },
   "outputs": [
    {
     "name": "stdout",
     "output_type": "stream",
     "text": [
      "DataFrame with Multiple column:\n"
     ]
    },
    {
     "data": {
      "text/html": [
       "<div>\n",
       "<style scoped>\n",
       "    .dataframe tbody tr th:only-of-type {\n",
       "        vertical-align: middle;\n",
       "    }\n",
       "\n",
       "    .dataframe tbody tr th {\n",
       "        vertical-align: top;\n",
       "    }\n",
       "\n",
       "    .dataframe thead th {\n",
       "        text-align: right;\n",
       "    }\n",
       "</style>\n",
       "<table border=\"1\" class=\"dataframe\">\n",
       "  <thead>\n",
       "    <tr style=\"text-align: right;\">\n",
       "      <th></th>\n",
       "      <th>0</th>\n",
       "      <th>1</th>\n",
       "      <th>2</th>\n",
       "    </tr>\n",
       "  </thead>\n",
       "  <tbody>\n",
       "    <tr>\n",
       "      <th>0</th>\n",
       "      <td>1</td>\n",
       "      <td>2</td>\n",
       "      <td>3</td>\n",
       "    </tr>\n",
       "    <tr>\n",
       "      <th>1</th>\n",
       "      <td>4</td>\n",
       "      <td>5</td>\n",
       "      <td>6</td>\n",
       "    </tr>\n",
       "    <tr>\n",
       "      <th>2</th>\n",
       "      <td>7</td>\n",
       "      <td>8</td>\n",
       "      <td>9</td>\n",
       "    </tr>\n",
       "  </tbody>\n",
       "</table>\n",
       "</div>"
      ],
      "text/plain": [
       "   0  1  2\n",
       "0  1  2  3\n",
       "1  4  5  6\n",
       "2  7  8  9"
      ]
     },
     "execution_count": 65,
     "metadata": {},
     "output_type": "execute_result"
    }
   ],
   "source": [
    "#list with multiple columnn\n",
    "lst=[[1,2,3],[4,5,6],[7,8,9]]\n",
    "df1=pd.DataFrame(lst)\n",
    "print(\"DataFrame with Multiple column:\")\n",
    "df1"
   ]
  },
  {
   "cell_type": "code",
   "execution_count": 66,
   "id": "c994c666",
   "metadata": {
    "execution": {
     "iopub.execute_input": "2022-09-29T06:58:46.514731Z",
     "iopub.status.busy": "2022-09-29T06:58:46.513852Z",
     "iopub.status.idle": "2022-09-29T06:58:46.529316Z",
     "shell.execute_reply": "2022-09-29T06:58:46.527706Z"
    },
    "papermill": {
     "duration": 0.087955,
     "end_time": "2022-09-29T06:58:46.532755",
     "exception": false,
     "start_time": "2022-09-29T06:58:46.444800",
     "status": "completed"
    },
    "tags": []
   },
   "outputs": [
    {
     "name": "stdout",
     "output_type": "stream",
     "text": [
      "DataFrame with Multiple column:\n"
     ]
    },
    {
     "data": {
      "text/html": [
       "<div>\n",
       "<style scoped>\n",
       "    .dataframe tbody tr th:only-of-type {\n",
       "        vertical-align: middle;\n",
       "    }\n",
       "\n",
       "    .dataframe tbody tr th {\n",
       "        vertical-align: top;\n",
       "    }\n",
       "\n",
       "    .dataframe thead th {\n",
       "        text-align: right;\n",
       "    }\n",
       "</style>\n",
       "<table border=\"1\" class=\"dataframe\">\n",
       "  <thead>\n",
       "    <tr style=\"text-align: right;\">\n",
       "      <th></th>\n",
       "      <th>0</th>\n",
       "      <th>1</th>\n",
       "      <th>2</th>\n",
       "      <th>3</th>\n",
       "    </tr>\n",
       "  </thead>\n",
       "  <tbody>\n",
       "    <tr>\n",
       "      <th>0</th>\n",
       "      <td>1</td>\n",
       "      <td>2</td>\n",
       "      <td>3</td>\n",
       "      <td>NaN</td>\n",
       "    </tr>\n",
       "    <tr>\n",
       "      <th>1</th>\n",
       "      <td>4</td>\n",
       "      <td>5</td>\n",
       "      <td>6</td>\n",
       "      <td>NaN</td>\n",
       "    </tr>\n",
       "    <tr>\n",
       "      <th>2</th>\n",
       "      <td>7</td>\n",
       "      <td>8</td>\n",
       "      <td>9</td>\n",
       "      <td>NaN</td>\n",
       "    </tr>\n",
       "    <tr>\n",
       "      <th>3</th>\n",
       "      <td>1</td>\n",
       "      <td>2</td>\n",
       "      <td>3</td>\n",
       "      <td>4.0</td>\n",
       "    </tr>\n",
       "  </tbody>\n",
       "</table>\n",
       "</div>"
      ],
      "text/plain": [
       "   0  1  2    3\n",
       "0  1  2  3  NaN\n",
       "1  4  5  6  NaN\n",
       "2  7  8  9  NaN\n",
       "3  1  2  3  4.0"
      ]
     },
     "execution_count": 66,
     "metadata": {},
     "output_type": "execute_result"
    }
   ],
   "source": [
    "#list with multiple columnn\n",
    "lst=[[1,2,3],[4,5,6],[7,8,9],[1,2,3,4]]\n",
    "df1=pd.DataFrame(lst)\n",
    "print(\"DataFrame with Multiple column:\")\n",
    "df1"
   ]
  },
  {
   "cell_type": "code",
   "execution_count": 67,
   "id": "9e32761e",
   "metadata": {
    "execution": {
     "iopub.execute_input": "2022-09-29T06:58:46.672363Z",
     "iopub.status.busy": "2022-09-29T06:58:46.671958Z",
     "iopub.status.idle": "2022-09-29T06:58:46.695403Z",
     "shell.execute_reply": "2022-09-29T06:58:46.693568Z"
    },
    "papermill": {
     "duration": 0.097761,
     "end_time": "2022-09-29T06:58:46.698969",
     "exception": false,
     "start_time": "2022-09-29T06:58:46.601208",
     "status": "completed"
    },
    "tags": []
   },
   "outputs": [
    {
     "name": "stdout",
     "output_type": "stream",
     "text": [
      "DataFrame with Dictionalry:\n"
     ]
    },
    {
     "data": {
      "text/html": [
       "<div>\n",
       "<style scoped>\n",
       "    .dataframe tbody tr th:only-of-type {\n",
       "        vertical-align: middle;\n",
       "    }\n",
       "\n",
       "    .dataframe tbody tr th {\n",
       "        vertical-align: top;\n",
       "    }\n",
       "\n",
       "    .dataframe thead th {\n",
       "        text-align: right;\n",
       "    }\n",
       "</style>\n",
       "<table border=\"1\" class=\"dataframe\">\n",
       "  <thead>\n",
       "    <tr style=\"text-align: right;\">\n",
       "      <th></th>\n",
       "      <th>Test</th>\n",
       "      <th>Odi</th>\n",
       "      <th>T-20</th>\n",
       "    </tr>\n",
       "  </thead>\n",
       "  <tbody>\n",
       "    <tr>\n",
       "      <th>0</th>\n",
       "      <td>India</td>\n",
       "      <td>England</td>\n",
       "      <td>Pakistan</td>\n",
       "    </tr>\n",
       "    <tr>\n",
       "      <th>1</th>\n",
       "      <td>South Africa</td>\n",
       "      <td>India</td>\n",
       "      <td>India</td>\n",
       "    </tr>\n",
       "    <tr>\n",
       "      <th>2</th>\n",
       "      <td>England</td>\n",
       "      <td>New Zealand</td>\n",
       "      <td>Australia</td>\n",
       "    </tr>\n",
       "    <tr>\n",
       "      <th>3</th>\n",
       "      <td>New Zealand</td>\n",
       "      <td>South Africa</td>\n",
       "      <td>England</td>\n",
       "    </tr>\n",
       "    <tr>\n",
       "      <th>4</th>\n",
       "      <td>Australia</td>\n",
       "      <td>Pakistan</td>\n",
       "      <td>New Zealand</td>\n",
       "    </tr>\n",
       "  </tbody>\n",
       "</table>\n",
       "</div>"
      ],
      "text/plain": [
       "           Test           Odi         T-20\n",
       "0         India       England     Pakistan\n",
       "1  South Africa         India        India\n",
       "2       England   New Zealand    Australia\n",
       "3   New Zealand  South Africa      England\n",
       "4     Australia      Pakistan  New Zealand"
      ]
     },
     "execution_count": 67,
     "metadata": {},
     "output_type": "execute_result"
    }
   ],
   "source": [
    "#Creating DataFrame from dict of ndarray/lists:\n",
    "dic={'Test': ['India', 'South Africa', 'England',\n",
    "                            'New Zealand', 'Australia'],\n",
    "              'Odi': ['England', 'India', 'New Zealand',\n",
    "                            'South Africa', 'Pakistan'],\n",
    "               'T-20': ['Pakistan', 'India', 'Australia', \n",
    "                              'England', 'New Zealand']}\n",
    "print(\"DataFrame with Dictionalry:\")\n",
    "df2=pd.DataFrame(dic)\n",
    "df2"
   ]
  },
  {
   "cell_type": "code",
   "execution_count": 68,
   "id": "b63eeb55",
   "metadata": {
    "execution": {
     "iopub.execute_input": "2022-09-29T06:58:46.835407Z",
     "iopub.status.busy": "2022-09-29T06:58:46.835053Z",
     "iopub.status.idle": "2022-09-29T06:58:46.847189Z",
     "shell.execute_reply": "2022-09-29T06:58:46.845836Z"
    },
    "papermill": {
     "duration": 0.082112,
     "end_time": "2022-09-29T06:58:46.849950",
     "exception": false,
     "start_time": "2022-09-29T06:58:46.767838",
     "status": "completed"
    },
    "tags": []
   },
   "outputs": [
    {
     "data": {
      "text/html": [
       "<div>\n",
       "<style scoped>\n",
       "    .dataframe tbody tr th:only-of-type {\n",
       "        vertical-align: middle;\n",
       "    }\n",
       "\n",
       "    .dataframe tbody tr th {\n",
       "        vertical-align: top;\n",
       "    }\n",
       "\n",
       "    .dataframe thead th {\n",
       "        text-align: right;\n",
       "    }\n",
       "</style>\n",
       "<table border=\"1\" class=\"dataframe\">\n",
       "  <thead>\n",
       "    <tr style=\"text-align: right;\">\n",
       "      <th></th>\n",
       "      <th>Test</th>\n",
       "      <th>Odi</th>\n",
       "      <th>T-20</th>\n",
       "    </tr>\n",
       "  </thead>\n",
       "  <tbody>\n",
       "    <tr>\n",
       "      <th>1</th>\n",
       "      <td>India</td>\n",
       "      <td>England</td>\n",
       "      <td>Pakistan</td>\n",
       "    </tr>\n",
       "    <tr>\n",
       "      <th>2</th>\n",
       "      <td>South Africa</td>\n",
       "      <td>India</td>\n",
       "      <td>India</td>\n",
       "    </tr>\n",
       "    <tr>\n",
       "      <th>3</th>\n",
       "      <td>England</td>\n",
       "      <td>New Zealand</td>\n",
       "      <td>Australia</td>\n",
       "    </tr>\n",
       "    <tr>\n",
       "      <th>4</th>\n",
       "      <td>New Zealand</td>\n",
       "      <td>South Africa</td>\n",
       "      <td>England</td>\n",
       "    </tr>\n",
       "    <tr>\n",
       "      <th>5</th>\n",
       "      <td>Australia</td>\n",
       "      <td>Pakistan</td>\n",
       "      <td>New Zealand</td>\n",
       "    </tr>\n",
       "  </tbody>\n",
       "</table>\n",
       "</div>"
      ],
      "text/plain": [
       "           Test           Odi         T-20\n",
       "1         India       England     Pakistan\n",
       "2  South Africa         India        India\n",
       "3       England   New Zealand    Australia\n",
       "4   New Zealand  South Africa      England\n",
       "5     Australia      Pakistan  New Zealand"
      ]
     },
     "execution_count": 68,
     "metadata": {},
     "output_type": "execute_result"
    }
   ],
   "source": [
    "# Incrementing the index so that index starts at 1 (starts at 0 by default) \n",
    "df2.index += 1\n",
    "df2"
   ]
  },
  {
   "cell_type": "code",
   "execution_count": 69,
   "id": "faf8be11",
   "metadata": {
    "execution": {
     "iopub.execute_input": "2022-09-29T06:58:46.989488Z",
     "iopub.status.busy": "2022-09-29T06:58:46.989111Z",
     "iopub.status.idle": "2022-09-29T06:58:47.004059Z",
     "shell.execute_reply": "2022-09-29T06:58:47.002924Z"
    },
    "papermill": {
     "duration": 0.089993,
     "end_time": "2022-09-29T06:58:47.006597",
     "exception": false,
     "start_time": "2022-09-29T06:58:46.916604",
     "status": "completed"
    },
    "tags": []
   },
   "outputs": [
    {
     "data": {
      "text/html": [
       "<div>\n",
       "<style scoped>\n",
       "    .dataframe tbody tr th:only-of-type {\n",
       "        vertical-align: middle;\n",
       "    }\n",
       "\n",
       "    .dataframe tbody tr th {\n",
       "        vertical-align: top;\n",
       "    }\n",
       "\n",
       "    .dataframe thead th {\n",
       "        text-align: right;\n",
       "    }\n",
       "</style>\n",
       "<table border=\"1\" class=\"dataframe\">\n",
       "  <thead>\n",
       "    <tr style=\"text-align: right;\">\n",
       "      <th></th>\n",
       "      <th>Test</th>\n",
       "      <th>ODI</th>\n",
       "      <th>T20</th>\n",
       "    </tr>\n",
       "  </thead>\n",
       "  <tbody>\n",
       "    <tr>\n",
       "      <th>1</th>\n",
       "      <td>Virat Kohli</td>\n",
       "      <td>Virat Kohli</td>\n",
       "      <td>Babar Azam</td>\n",
       "    </tr>\n",
       "    <tr>\n",
       "      <th>2</th>\n",
       "      <td>Steve Smith</td>\n",
       "      <td>Rohit Sharma</td>\n",
       "      <td>Aaron Finch</td>\n",
       "    </tr>\n",
       "    <tr>\n",
       "      <th>3</th>\n",
       "      <td>Kane Williamson</td>\n",
       "      <td>Joe Root</td>\n",
       "      <td>Colin Munro</td>\n",
       "    </tr>\n",
       "    <tr>\n",
       "      <th>4</th>\n",
       "      <td>Joe Root</td>\n",
       "      <td>David Warner</td>\n",
       "      <td>Lokesh Rahul</td>\n",
       "    </tr>\n",
       "    <tr>\n",
       "      <th>5</th>\n",
       "      <td>David Warner</td>\n",
       "      <td>Babar Azam</td>\n",
       "      <td>Fakhar Zaman</td>\n",
       "    </tr>\n",
       "  </tbody>\n",
       "</table>\n",
       "</div>"
      ],
      "text/plain": [
       "              Test           ODI           T20\n",
       "1      Virat Kohli   Virat Kohli    Babar Azam\n",
       "2      Steve Smith  Rohit Sharma   Aaron Finch\n",
       "3  Kane Williamson      Joe Root   Colin Munro\n",
       "4         Joe Root  David Warner  Lokesh Rahul\n",
       "5     David Warner    Babar Azam  Fakhar Zaman"
      ]
     },
     "execution_count": 69,
     "metadata": {},
     "output_type": "execute_result"
    }
   ],
   "source": [
    "# Lists of top 5 batsmen for each format\n",
    "test_batsmen = ['Virat Kohli', 'Steve Smith', 'Kane Williamson',\n",
    "                                     'Joe Root', 'David Warner']\n",
    "odi_batsmen = ['Virat Kohli', 'Rohit Sharma', 'Joe Root',\n",
    "                            'David Warner', 'Babar Azam']\n",
    "t20_batsmen = ['Babar Azam', 'Aaron Finch', 'Colin Munro',\n",
    "                           'Lokesh Rahul', 'Fakhar Zaman']\n",
    "\n",
    "# Define a dictionary containing ICC rankings for batsmen\n",
    "dic={'Test':test_batsmen,\n",
    "    'ODI':odi_batsmen,\n",
    "    'T20':t20_batsmen}\n",
    "\n",
    "# Convert the dictionary into DataFrame\n",
    "df2=pd.DataFrame(dic)\n",
    "df2.index+=1\n",
    "df2"
   ]
  },
  {
   "cell_type": "markdown",
   "id": "293aeb80",
   "metadata": {
    "papermill": {
     "duration": 0.066556,
     "end_time": "2022-09-29T06:58:47.158141",
     "exception": false,
     "start_time": "2022-09-29T06:58:47.091585",
     "status": "completed"
    },
    "tags": []
   },
   "source": [
    "``` python\n",
    "dic={\"ID\":[1,2,3,4,5],\"Name\":[\"Bhawan\",\"Deena\",\"Bhavi\"]}\n",
    "df2=pd.DataFrame(dic)\n",
    "\n",
    "---------------------------------------------------------------------------\n",
    "ValueError                                Traceback (most recent call last)\n",
    "/tmp/ipykernel_17/3048458879.py in <module>\n",
    "      1 dic={\"ID\":[1,2,3,4,5],\"Name\":[\"Bhawan\",\"Deena\",\"Bhavi\"]}\n",
    "----> 2 df2=pd.DataFrame(dic)\n",
    "\n",
    "/opt/conda/lib/python3.7/site-packages/pandas/core/frame.py in __init__(self, data, index, columns, dtype, copy)\n",
    "    612         elif isinstance(data, dict):\n",
    "    613             # GH#38939 de facto copy defaults to False only in non-dict cases\n",
    "--> 614             mgr = dict_to_mgr(data, index, columns, dtype=dtype, copy=copy, typ=manager)\n",
    "    615         elif isinstance(data, ma.MaskedArray):\n",
    "    616             import numpy.ma.mrecords as mrecords\n",
    "\n",
    "/opt/conda/lib/python3.7/site-packages/pandas/core/internals/construction.py in dict_to_mgr(data, index, columns, dtype, typ, copy)\n",
    "    463 \n",
    "    464     return arrays_to_mgr(\n",
    "--> 465         arrays, data_names, index, columns, dtype=dtype, typ=typ, consolidate=copy\n",
    "    466     )\n",
    "    467 \n",
    "\n",
    "/opt/conda/lib/python3.7/site-packages/pandas/core/internals/construction.py in arrays_to_mgr(arrays, arr_names, index, columns, dtype, verify_integrity, typ, consolidate)\n",
    "    117         # figure out the index, if necessary\n",
    "    118         if index is None:\n",
    "--> 119             index = _extract_index(arrays)\n",
    "    120         else:\n",
    "    121             index = ensure_index(index)\n",
    "\n",
    "/opt/conda/lib/python3.7/site-packages/pandas/core/internals/construction.py in _extract_index(data)\n",
    "    633             lengths = list(set(raw_lengths))\n",
    "    634             if len(lengths) > 1:\n",
    "--> 635                 raise ValueError(\"All arrays must be of the same length\")\n",
    "    636 \n",
    "    637             if have_dicts:\n",
    "\n",
    "ValueError: All arrays must be of the same length\n",
    "```"
   ]
  },
  {
   "cell_type": "code",
   "execution_count": 70,
   "id": "a3d6e13b",
   "metadata": {
    "execution": {
     "iopub.execute_input": "2022-09-29T06:58:47.295638Z",
     "iopub.status.busy": "2022-09-29T06:58:47.295223Z",
     "iopub.status.idle": "2022-09-29T06:58:47.310120Z",
     "shell.execute_reply": "2022-09-29T06:58:47.308730Z"
    },
    "papermill": {
     "duration": 0.087723,
     "end_time": "2022-09-29T06:58:47.312833",
     "exception": false,
     "start_time": "2022-09-29T06:58:47.225110",
     "status": "completed"
    },
    "tags": []
   },
   "outputs": [
    {
     "data": {
      "text/html": [
       "<div>\n",
       "<style scoped>\n",
       "    .dataframe tbody tr th:only-of-type {\n",
       "        vertical-align: middle;\n",
       "    }\n",
       "\n",
       "    .dataframe tbody tr th {\n",
       "        vertical-align: top;\n",
       "    }\n",
       "\n",
       "    .dataframe thead th {\n",
       "        text-align: right;\n",
       "    }\n",
       "</style>\n",
       "<table border=\"1\" class=\"dataframe\">\n",
       "  <thead>\n",
       "    <tr style=\"text-align: right;\">\n",
       "      <th></th>\n",
       "      <th>ID</th>\n",
       "      <th>Name</th>\n",
       "    </tr>\n",
       "  </thead>\n",
       "  <tbody>\n",
       "    <tr>\n",
       "      <th>0</th>\n",
       "      <td>1</td>\n",
       "      <td>Bhawan</td>\n",
       "    </tr>\n",
       "    <tr>\n",
       "      <th>1</th>\n",
       "      <td>2</td>\n",
       "      <td>Deena</td>\n",
       "    </tr>\n",
       "    <tr>\n",
       "      <th>2</th>\n",
       "      <td>3</td>\n",
       "      <td>Bhavi</td>\n",
       "    </tr>\n",
       "    <tr>\n",
       "      <th>3</th>\n",
       "      <td>4</td>\n",
       "      <td>Gaurav</td>\n",
       "    </tr>\n",
       "    <tr>\n",
       "      <th>4</th>\n",
       "      <td>5</td>\n",
       "      <td>Birag</td>\n",
       "    </tr>\n",
       "  </tbody>\n",
       "</table>\n",
       "</div>"
      ],
      "text/plain": [
       "   ID    Name\n",
       "0   1  Bhawan\n",
       "1   2   Deena\n",
       "2   3   Bhavi\n",
       "3   4  Gaurav\n",
       "4   5   Birag"
      ]
     },
     "execution_count": 70,
     "metadata": {},
     "output_type": "execute_result"
    }
   ],
   "source": [
    "dic={\"ID\":[1,2,3,4,5],\"Name\":[\"Bhawan\",\"Deena\",\"Bhavi\",\"Gaurav\",\"Birag\"]}\n",
    "df2=pd.DataFrame(dic)\n",
    "df2"
   ]
  },
  {
   "cell_type": "code",
   "execution_count": 71,
   "id": "77325b54",
   "metadata": {
    "execution": {
     "iopub.execute_input": "2022-09-29T06:58:47.451551Z",
     "iopub.status.busy": "2022-09-29T06:58:47.451163Z",
     "iopub.status.idle": "2022-09-29T06:58:47.464093Z",
     "shell.execute_reply": "2022-09-29T06:58:47.462837Z"
    },
    "papermill": {
     "duration": 0.085473,
     "end_time": "2022-09-29T06:58:47.466570",
     "exception": false,
     "start_time": "2022-09-29T06:58:47.381097",
     "status": "completed"
    },
    "tags": []
   },
   "outputs": [
    {
     "data": {
      "text/html": [
       "<div>\n",
       "<style scoped>\n",
       "    .dataframe tbody tr th:only-of-type {\n",
       "        vertical-align: middle;\n",
       "    }\n",
       "\n",
       "    .dataframe tbody tr th {\n",
       "        vertical-align: top;\n",
       "    }\n",
       "\n",
       "    .dataframe thead th {\n",
       "        text-align: right;\n",
       "    }\n",
       "</style>\n",
       "<table border=\"1\" class=\"dataframe\">\n",
       "  <thead>\n",
       "    <tr style=\"text-align: right;\">\n",
       "      <th></th>\n",
       "      <th>a</th>\n",
       "      <th>b</th>\n",
       "      <th>c</th>\n",
       "    </tr>\n",
       "  </thead>\n",
       "  <tbody>\n",
       "    <tr>\n",
       "      <th>0</th>\n",
       "      <td>1</td>\n",
       "      <td>2</td>\n",
       "      <td>NaN</td>\n",
       "    </tr>\n",
       "    <tr>\n",
       "      <th>1</th>\n",
       "      <td>3</td>\n",
       "      <td>4</td>\n",
       "      <td>Bhawan</td>\n",
       "    </tr>\n",
       "  </tbody>\n",
       "</table>\n",
       "</div>"
      ],
      "text/plain": [
       "   a  b       c\n",
       "0  1  2     NaN\n",
       "1  3  4  Bhawan"
      ]
     },
     "execution_count": 71,
     "metadata": {},
     "output_type": "execute_result"
    }
   ],
   "source": [
    "# Creating with help of list of Dictionary:\n",
    "ls_dict = [{'a':1, 'b':2}, {'a':3, 'b':4,'c':\"Bhawan\"}]\n",
    "df2=pd.DataFrame(ls_dict)\n",
    "df2"
   ]
  },
  {
   "cell_type": "code",
   "execution_count": 72,
   "id": "3d81aeea",
   "metadata": {
    "execution": {
     "iopub.execute_input": "2022-09-29T06:58:47.606457Z",
     "iopub.status.busy": "2022-09-29T06:58:47.605359Z",
     "iopub.status.idle": "2022-09-29T06:58:47.626081Z",
     "shell.execute_reply": "2022-09-29T06:58:47.624587Z"
    },
    "papermill": {
     "duration": 0.09367,
     "end_time": "2022-09-29T06:58:47.628699",
     "exception": false,
     "start_time": "2022-09-29T06:58:47.535029",
     "status": "completed"
    },
    "tags": []
   },
   "outputs": [
    {
     "data": {
      "text/html": [
       "<div>\n",
       "<style scoped>\n",
       "    .dataframe tbody tr th:only-of-type {\n",
       "        vertical-align: middle;\n",
       "    }\n",
       "\n",
       "    .dataframe tbody tr th {\n",
       "        vertical-align: top;\n",
       "    }\n",
       "\n",
       "    .dataframe thead th {\n",
       "        text-align: right;\n",
       "    }\n",
       "</style>\n",
       "<table border=\"1\" class=\"dataframe\">\n",
       "  <thead>\n",
       "    <tr style=\"text-align: right;\">\n",
       "      <th></th>\n",
       "      <th>List1</th>\n",
       "      <th>DATA</th>\n",
       "      <th>List2</th>\n",
       "      <th>data</th>\n",
       "    </tr>\n",
       "  </thead>\n",
       "  <tbody>\n",
       "    <tr>\n",
       "      <th>0</th>\n",
       "      <td>[1, 2, 3, 4]</td>\n",
       "      <td>[Bhawan, Bhavi]</td>\n",
       "      <td>NaN</td>\n",
       "      <td>NaN</td>\n",
       "    </tr>\n",
       "    <tr>\n",
       "      <th>1</th>\n",
       "      <td>NaN</td>\n",
       "      <td>NaN</td>\n",
       "      <td>[list second, Second]</td>\n",
       "      <td>this is Data of list 2</td>\n",
       "    </tr>\n",
       "  </tbody>\n",
       "</table>\n",
       "</div>"
      ],
      "text/plain": [
       "          List1             DATA                  List2  \\\n",
       "0  [1, 2, 3, 4]  [Bhawan, Bhavi]                    NaN   \n",
       "1           NaN              NaN  [list second, Second]   \n",
       "\n",
       "                     data  \n",
       "0                     NaN  \n",
       "1  this is Data of list 2  "
      ]
     },
     "execution_count": 72,
     "metadata": {},
     "output_type": "execute_result"
    }
   ],
   "source": [
    "lst=[{\"List1\":[1,2,3,4],\"DATA\":[\"Bhawan\",\"Bhavi\"]},{\"List2\":[\"list second\",\"Second\"],\"data\":\"this is Data of list 2\"}]\n",
    "df2=pd.DataFrame(lst)\n",
    "df2"
   ]
  },
  {
   "cell_type": "markdown",
   "id": "b1409fff",
   "metadata": {
    "papermill": {
     "duration": 0.068713,
     "end_time": "2022-09-29T06:58:47.766330",
     "exception": false,
     "start_time": "2022-09-29T06:58:47.697617",
     "status": "completed"
    },
    "tags": []
   },
   "source": [
    "### Accessing Element from DataFrame :"
   ]
  },
  {
   "cell_type": "code",
   "execution_count": 73,
   "id": "627f1c63",
   "metadata": {
    "execution": {
     "iopub.execute_input": "2022-09-29T06:58:47.905484Z",
     "iopub.status.busy": "2022-09-29T06:58:47.905089Z",
     "iopub.status.idle": "2022-09-29T06:58:47.921119Z",
     "shell.execute_reply": "2022-09-29T06:58:47.919769Z"
    },
    "papermill": {
     "duration": 0.089471,
     "end_time": "2022-09-29T06:58:47.923806",
     "exception": false,
     "start_time": "2022-09-29T06:58:47.834335",
     "status": "completed"
    },
    "tags": []
   },
   "outputs": [
    {
     "data": {
      "text/html": [
       "<div>\n",
       "<style scoped>\n",
       "    .dataframe tbody tr th:only-of-type {\n",
       "        vertical-align: middle;\n",
       "    }\n",
       "\n",
       "    .dataframe tbody tr th {\n",
       "        vertical-align: top;\n",
       "    }\n",
       "\n",
       "    .dataframe thead th {\n",
       "        text-align: right;\n",
       "    }\n",
       "</style>\n",
       "<table border=\"1\" class=\"dataframe\">\n",
       "  <thead>\n",
       "    <tr style=\"text-align: right;\">\n",
       "      <th></th>\n",
       "      <th>Name</th>\n",
       "      <th>Age</th>\n",
       "      <th>Address</th>\n",
       "      <th>Qualification</th>\n",
       "    </tr>\n",
       "  </thead>\n",
       "  <tbody>\n",
       "    <tr>\n",
       "      <th>0</th>\n",
       "      <td>Jai</td>\n",
       "      <td>27</td>\n",
       "      <td>Delhi</td>\n",
       "      <td>Msc</td>\n",
       "    </tr>\n",
       "    <tr>\n",
       "      <th>1</th>\n",
       "      <td>Princi</td>\n",
       "      <td>24</td>\n",
       "      <td>Kanpur</td>\n",
       "      <td>MA</td>\n",
       "    </tr>\n",
       "    <tr>\n",
       "      <th>2</th>\n",
       "      <td>Gaurav</td>\n",
       "      <td>22</td>\n",
       "      <td>Allahabad</td>\n",
       "      <td>MCA</td>\n",
       "    </tr>\n",
       "    <tr>\n",
       "      <th>3</th>\n",
       "      <td>Anuj</td>\n",
       "      <td>32</td>\n",
       "      <td>Kannauj</td>\n",
       "      <td>Phd</td>\n",
       "    </tr>\n",
       "  </tbody>\n",
       "</table>\n",
       "</div>"
      ],
      "text/plain": [
       "     Name  Age    Address Qualification\n",
       "0     Jai   27      Delhi           Msc\n",
       "1  Princi   24     Kanpur            MA\n",
       "2  Gaurav   22  Allahabad           MCA\n",
       "3    Anuj   32    Kannauj           Phd"
      ]
     },
     "execution_count": 73,
     "metadata": {},
     "output_type": "execute_result"
    }
   ],
   "source": [
    "data = {'Name':['Jai', 'Princi', 'Gaurav', 'Anuj'],\n",
    "        'Age':[27, 24, 22, 32],\n",
    "        'Address':['Delhi', 'Kanpur', 'Allahabad', 'Kannauj'],\n",
    "        'Qualification':['Msc', 'MA', 'MCA', 'Phd']}\n",
    "df=pd.DataFrame(data)\n",
    "df"
   ]
  },
  {
   "cell_type": "code",
   "execution_count": 74,
   "id": "a37439eb",
   "metadata": {
    "execution": {
     "iopub.execute_input": "2022-09-29T06:58:48.064966Z",
     "iopub.status.busy": "2022-09-29T06:58:48.062920Z",
     "iopub.status.idle": "2022-09-29T06:58:48.087106Z",
     "shell.execute_reply": "2022-09-29T06:58:48.085716Z"
    },
    "papermill": {
     "duration": 0.096841,
     "end_time": "2022-09-29T06:58:48.089885",
     "exception": false,
     "start_time": "2022-09-29T06:58:47.993044",
     "status": "completed"
    },
    "tags": []
   },
   "outputs": [
    {
     "data": {
      "text/plain": [
       "Team        Utah Jazz\n",
       "Number            8.0\n",
       "Position           PG\n",
       "Age              26.0\n",
       "Height            6-3\n",
       "Weight          203.0\n",
       "College        Butler\n",
       "Salary      2433333.0\n",
       "Name: Shelvin Mack, dtype: object"
      ]
     },
     "execution_count": 74,
     "metadata": {},
     "output_type": "execute_result"
    }
   ],
   "source": [
    "data = pd.read_csv(\"/kaggle/input/nba-data/nba.csv\",index_col=\"Name\")  \n",
    "first = data.loc[\"Shelvin Mack\"]\n",
    "first"
   ]
  },
  {
   "cell_type": "code",
   "execution_count": 75,
   "id": "733da04e",
   "metadata": {
    "execution": {
     "iopub.execute_input": "2022-09-29T06:58:48.234916Z",
     "iopub.status.busy": "2022-09-29T06:58:48.232917Z",
     "iopub.status.idle": "2022-09-29T06:58:48.252050Z",
     "shell.execute_reply": "2022-09-29T06:58:48.250718Z"
    },
    "papermill": {
     "duration": 0.093306,
     "end_time": "2022-09-29T06:58:48.254885",
     "exception": false,
     "start_time": "2022-09-29T06:58:48.161579",
     "status": "completed"
    },
    "tags": []
   },
   "outputs": [
    {
     "data": {
      "text/html": [
       "<div>\n",
       "<style scoped>\n",
       "    .dataframe tbody tr th:only-of-type {\n",
       "        vertical-align: middle;\n",
       "    }\n",
       "\n",
       "    .dataframe tbody tr th {\n",
       "        vertical-align: top;\n",
       "    }\n",
       "\n",
       "    .dataframe thead th {\n",
       "        text-align: right;\n",
       "    }\n",
       "</style>\n",
       "<table border=\"1\" class=\"dataframe\">\n",
       "  <thead>\n",
       "    <tr style=\"text-align: right;\">\n",
       "      <th></th>\n",
       "      <th>Team</th>\n",
       "      <th>Number</th>\n",
       "      <th>Position</th>\n",
       "      <th>Age</th>\n",
       "      <th>Height</th>\n",
       "      <th>Weight</th>\n",
       "      <th>College</th>\n",
       "      <th>Salary</th>\n",
       "    </tr>\n",
       "    <tr>\n",
       "      <th>Name</th>\n",
       "      <th></th>\n",
       "      <th></th>\n",
       "      <th></th>\n",
       "      <th></th>\n",
       "      <th></th>\n",
       "      <th></th>\n",
       "      <th></th>\n",
       "      <th></th>\n",
       "    </tr>\n",
       "  </thead>\n",
       "  <tbody>\n",
       "    <tr>\n",
       "      <th>Avery Bradley</th>\n",
       "      <td>Boston Celtics</td>\n",
       "      <td>0.0</td>\n",
       "      <td>PG</td>\n",
       "      <td>25.0</td>\n",
       "      <td>6-2</td>\n",
       "      <td>180.0</td>\n",
       "      <td>Texas</td>\n",
       "      <td>7730337.0</td>\n",
       "    </tr>\n",
       "    <tr>\n",
       "      <th>Jae Crowder</th>\n",
       "      <td>Boston Celtics</td>\n",
       "      <td>99.0</td>\n",
       "      <td>SF</td>\n",
       "      <td>25.0</td>\n",
       "      <td>6-6</td>\n",
       "      <td>235.0</td>\n",
       "      <td>Marquette</td>\n",
       "      <td>6796117.0</td>\n",
       "    </tr>\n",
       "    <tr>\n",
       "      <th>John Holland</th>\n",
       "      <td>Boston Celtics</td>\n",
       "      <td>30.0</td>\n",
       "      <td>SG</td>\n",
       "      <td>27.0</td>\n",
       "      <td>6-5</td>\n",
       "      <td>205.0</td>\n",
       "      <td>Boston University</td>\n",
       "      <td>NaN</td>\n",
       "    </tr>\n",
       "    <tr>\n",
       "      <th>R.J. Hunter</th>\n",
       "      <td>Boston Celtics</td>\n",
       "      <td>28.0</td>\n",
       "      <td>SG</td>\n",
       "      <td>22.0</td>\n",
       "      <td>6-5</td>\n",
       "      <td>185.0</td>\n",
       "      <td>Georgia State</td>\n",
       "      <td>1148640.0</td>\n",
       "    </tr>\n",
       "    <tr>\n",
       "      <th>Jonas Jerebko</th>\n",
       "      <td>Boston Celtics</td>\n",
       "      <td>8.0</td>\n",
       "      <td>PF</td>\n",
       "      <td>29.0</td>\n",
       "      <td>6-10</td>\n",
       "      <td>231.0</td>\n",
       "      <td>NaN</td>\n",
       "      <td>5000000.0</td>\n",
       "    </tr>\n",
       "  </tbody>\n",
       "</table>\n",
       "</div>"
      ],
      "text/plain": [
       "                         Team  Number Position   Age Height  Weight  \\\n",
       "Name                                                                  \n",
       "Avery Bradley  Boston Celtics     0.0       PG  25.0    6-2   180.0   \n",
       "Jae Crowder    Boston Celtics    99.0       SF  25.0    6-6   235.0   \n",
       "John Holland   Boston Celtics    30.0       SG  27.0    6-5   205.0   \n",
       "R.J. Hunter    Boston Celtics    28.0       SG  22.0    6-5   185.0   \n",
       "Jonas Jerebko  Boston Celtics     8.0       PF  29.0   6-10   231.0   \n",
       "\n",
       "                         College     Salary  \n",
       "Name                                         \n",
       "Avery Bradley              Texas  7730337.0  \n",
       "Jae Crowder            Marquette  6796117.0  \n",
       "John Holland   Boston University        NaN  \n",
       "R.J. Hunter        Georgia State  1148640.0  \n",
       "Jonas Jerebko                NaN  5000000.0  "
      ]
     },
     "execution_count": 75,
     "metadata": {},
     "output_type": "execute_result"
    }
   ],
   "source": [
    "df=pd.DataFrame(data)\n",
    "df.head()"
   ]
  },
  {
   "cell_type": "code",
   "execution_count": 76,
   "id": "894f96b6",
   "metadata": {
    "execution": {
     "iopub.execute_input": "2022-09-29T06:58:48.399632Z",
     "iopub.status.busy": "2022-09-29T06:58:48.397564Z",
     "iopub.status.idle": "2022-09-29T06:58:48.408955Z",
     "shell.execute_reply": "2022-09-29T06:58:48.407567Z"
    },
    "papermill": {
     "duration": 0.086707,
     "end_time": "2022-09-29T06:58:48.411654",
     "exception": false,
     "start_time": "2022-09-29T06:58:48.324947",
     "status": "completed"
    },
    "tags": []
   },
   "outputs": [
    {
     "data": {
      "text/plain": [
       "Name\n",
       "Avery Bradley    25.0\n",
       "Jae Crowder      25.0\n",
       "John Holland     27.0\n",
       "R.J. Hunter      22.0\n",
       "Jonas Jerebko    29.0\n",
       "                 ... \n",
       "Shelvin Mack     26.0\n",
       "Raul Neto        24.0\n",
       "Tibor Pleiss     26.0\n",
       "Jeff Withey      26.0\n",
       "NaN               NaN\n",
       "Name: Age, Length: 458, dtype: float64"
      ]
     },
     "execution_count": 76,
     "metadata": {},
     "output_type": "execute_result"
    }
   ],
   "source": [
    "df[\"Age\"]"
   ]
  },
  {
   "cell_type": "markdown",
   "id": "b5a1ce7f",
   "metadata": {
    "papermill": {
     "duration": 0.072238,
     "end_time": "2022-09-29T06:58:48.555303",
     "exception": false,
     "start_time": "2022-09-29T06:58:48.483065",
     "status": "completed"
    },
    "tags": []
   },
   "source": [
    "# Indexing and selecting data In DataFrame:\n",
    "- The axis labeling information in pandas objects serves many purposes:\n",
    "\n",
    "    - Identifies data (i.e. provides metadata) using known indicators, important for analysis, visualization, and interactive console display.\n",
    "    - Enables automatic and explicit data alignment.\n",
    "    - Allows intuitive getting and setting of subsets of the data set.\n",
    "\n",
    "## Indexing and selecting data In DataFrame: | Basics:\n",
    "- As mentioned when introducing the data structures in the last section, the primary function of indexing with **[]** (a.k.a. __ **getitem** __ for those familiar with implementing class behavior in Python) is selecting out lower-dimensional slices. The following table shows return type values when indexing pandas objects with **[]:**\n",
    "\n",
    "<table class=\"colwidths-given table\">\n",
    "<colgroup>\n",
    "<col style=\"width: 25%\">\n",
    "<col style=\"width: 25%\">\n",
    "<col style=\"width: 50%\">\n",
    "</colgroup>\n",
    "<thead>\n",
    "<tr class=\"row-odd\"><th class=\"head\"><p>Object Type</p></th>\n",
    "<th class=\"head\"><p>Selection</p></th>\n",
    "<th class=\"head\"><p>Return Value Type</p></th>\n",
    "</tr>\n",
    "</thead>\n",
    "<tbody>\n",
    "<tr class=\"row-even\"><td><p>Series</p></td>\n",
    "<td><p><code class=\"docutils literal notranslate\"><span class=\"pre\">series[label]</span></code></p></td>\n",
    "<td><p>scalar value</p></td>\n",
    "</tr>\n",
    "<tr class=\"row-odd\"><td><p>DataFrame</p></td>\n",
    "<td><p><code class=\"docutils literal notranslate\"><span class=\"pre\">frame[colname]</span></code></p></td>\n",
    "<td><p><code class=\"docutils literal notranslate\"><span class=\"pre\">Series</span></code> corresponding to colname</p></td>\n",
    "</tr>\n",
    "</tbody>\n",
    "</table>"
   ]
  },
  {
   "cell_type": "code",
   "execution_count": 77,
   "id": "ba929efa",
   "metadata": {
    "execution": {
     "iopub.execute_input": "2022-09-29T06:58:48.697350Z",
     "iopub.status.busy": "2022-09-29T06:58:48.696947Z",
     "iopub.status.idle": "2022-09-29T06:58:48.722465Z",
     "shell.execute_reply": "2022-09-29T06:58:48.720168Z"
    },
    "papermill": {
     "duration": 0.098983,
     "end_time": "2022-09-29T06:58:48.725236",
     "exception": false,
     "start_time": "2022-09-29T06:58:48.626253",
     "status": "completed"
    },
    "tags": []
   },
   "outputs": [
    {
     "name": "stdout",
     "output_type": "stream",
     "text": [
      "DatetimeIndex(['2000-01-01', '2000-01-02', '2000-01-03', '2000-01-04',\n",
      "               '2000-01-05', '2000-01-06', '2000-01-07', '2000-01-08'],\n",
      "              dtype='datetime64[ns]', freq='D') \n",
      "\n"
     ]
    },
    {
     "data": {
      "text/html": [
       "<div>\n",
       "<style scoped>\n",
       "    .dataframe tbody tr th:only-of-type {\n",
       "        vertical-align: middle;\n",
       "    }\n",
       "\n",
       "    .dataframe tbody tr th {\n",
       "        vertical-align: top;\n",
       "    }\n",
       "\n",
       "    .dataframe thead th {\n",
       "        text-align: right;\n",
       "    }\n",
       "</style>\n",
       "<table border=\"1\" class=\"dataframe\">\n",
       "  <thead>\n",
       "    <tr style=\"text-align: right;\">\n",
       "      <th></th>\n",
       "      <th>A</th>\n",
       "      <th>B</th>\n",
       "      <th>C</th>\n",
       "      <th>D</th>\n",
       "    </tr>\n",
       "  </thead>\n",
       "  <tbody>\n",
       "    <tr>\n",
       "      <th>2000-01-01</th>\n",
       "      <td>1.747723</td>\n",
       "      <td>1.402904</td>\n",
       "      <td>2.021912</td>\n",
       "      <td>0.341947</td>\n",
       "    </tr>\n",
       "    <tr>\n",
       "      <th>2000-01-02</th>\n",
       "      <td>-1.097969</td>\n",
       "      <td>-0.727633</td>\n",
       "      <td>0.669440</td>\n",
       "      <td>0.526305</td>\n",
       "    </tr>\n",
       "    <tr>\n",
       "      <th>2000-01-03</th>\n",
       "      <td>-1.503982</td>\n",
       "      <td>-2.145250</td>\n",
       "      <td>0.603084</td>\n",
       "      <td>-0.299959</td>\n",
       "    </tr>\n",
       "    <tr>\n",
       "      <th>2000-01-04</th>\n",
       "      <td>-1.303619</td>\n",
       "      <td>-1.015660</td>\n",
       "      <td>-1.652772</td>\n",
       "      <td>0.251474</td>\n",
       "    </tr>\n",
       "    <tr>\n",
       "      <th>2000-01-05</th>\n",
       "      <td>-0.886956</td>\n",
       "      <td>0.048130</td>\n",
       "      <td>3.096559</td>\n",
       "      <td>-0.009938</td>\n",
       "    </tr>\n",
       "    <tr>\n",
       "      <th>2000-01-06</th>\n",
       "      <td>1.646651</td>\n",
       "      <td>-0.581065</td>\n",
       "      <td>0.511260</td>\n",
       "      <td>-0.054996</td>\n",
       "    </tr>\n",
       "    <tr>\n",
       "      <th>2000-01-07</th>\n",
       "      <td>-0.653317</td>\n",
       "      <td>0.079982</td>\n",
       "      <td>-2.154764</td>\n",
       "      <td>-0.258879</td>\n",
       "    </tr>\n",
       "    <tr>\n",
       "      <th>2000-01-08</th>\n",
       "      <td>0.127853</td>\n",
       "      <td>-0.963385</td>\n",
       "      <td>1.796046</td>\n",
       "      <td>-0.527062</td>\n",
       "    </tr>\n",
       "  </tbody>\n",
       "</table>\n",
       "</div>"
      ],
      "text/plain": [
       "                   A         B         C         D\n",
       "2000-01-01  1.747723  1.402904  2.021912  0.341947\n",
       "2000-01-02 -1.097969 -0.727633  0.669440  0.526305\n",
       "2000-01-03 -1.503982 -2.145250  0.603084 -0.299959\n",
       "2000-01-04 -1.303619 -1.015660 -1.652772  0.251474\n",
       "2000-01-05 -0.886956  0.048130  3.096559 -0.009938\n",
       "2000-01-06  1.646651 -0.581065  0.511260 -0.054996\n",
       "2000-01-07 -0.653317  0.079982 -2.154764 -0.258879\n",
       "2000-01-08  0.127853 -0.963385  1.796046 -0.527062"
      ]
     },
     "execution_count": 77,
     "metadata": {},
     "output_type": "execute_result"
    }
   ],
   "source": [
    "dates = pd.date_range('1/1/2000', periods=8) #Creating Index As Date\n",
    "print(dates,\"\\n\")\n",
    "\n",
    "df = pd.DataFrame(np.random.randn(8, 4),index=dates, columns=['A', 'B', 'C', 'D']) #Creating  DataFrame\n",
    "df"
   ]
  },
  {
   "cell_type": "code",
   "execution_count": 78,
   "id": "1c572a1b",
   "metadata": {
    "execution": {
     "iopub.execute_input": "2022-09-29T06:58:48.865221Z",
     "iopub.status.busy": "2022-09-29T06:58:48.864128Z",
     "iopub.status.idle": "2022-09-29T06:58:48.872141Z",
     "shell.execute_reply": "2022-09-29T06:58:48.870462Z"
    },
    "papermill": {
     "duration": 0.08188,
     "end_time": "2022-09-29T06:58:48.876054",
     "exception": false,
     "start_time": "2022-09-29T06:58:48.794174",
     "status": "completed"
    },
    "tags": []
   },
   "outputs": [
    {
     "name": "stdout",
     "output_type": "stream",
     "text": [
      "Value of Dates:\n",
      "\n",
      " DatetimeIndex(['2000-01-01', '2000-01-02', '2000-01-03', '2000-01-04',\n",
      "               '2000-01-05', '2000-01-06', '2000-01-07', '2000-01-08'],\n",
      "              dtype='datetime64[ns]', freq='D')\n",
      "\n",
      "Type of dates:  <class 'pandas.core.indexes.datetimes.DatetimeIndex'>\n"
     ]
    }
   ],
   "source": [
    "print(\"Value of Dates:\\n\\n\",dates)\n",
    "print(\"\\nType of dates: \",type(dates))"
   ]
  },
  {
   "cell_type": "code",
   "execution_count": 79,
   "id": "8b5f1ec8",
   "metadata": {
    "execution": {
     "iopub.execute_input": "2022-09-29T06:58:49.021084Z",
     "iopub.status.busy": "2022-09-29T06:58:49.019893Z",
     "iopub.status.idle": "2022-09-29T06:58:49.028815Z",
     "shell.execute_reply": "2022-09-29T06:58:49.026826Z"
    },
    "papermill": {
     "duration": 0.083015,
     "end_time": "2022-09-29T06:58:49.031637",
     "exception": false,
     "start_time": "2022-09-29T06:58:48.948622",
     "status": "completed"
    },
    "tags": []
   },
   "outputs": [
    {
     "name": "stdout",
     "output_type": "stream",
     "text": [
      "Value at DataFrame['A'] Series Index 4: -0.8869560411930332\n",
      "Data Type of Value: <class 'numpy.float64'>\n"
     ]
    }
   ],
   "source": [
    "#Indexing data by Series Index(0,1,2,3,4,5,.........like that)\n",
    "\n",
    "s=df[\"A\"]  #Assigning DataFrame Value(A Series) to s.\n",
    "print(\"Value at DataFrame['A'] Series Index 4:\",s[4])\n",
    "print(\"Data Type of Value:\",type(s[4]))"
   ]
  },
  {
   "cell_type": "code",
   "execution_count": 80,
   "id": "900cf50b",
   "metadata": {
    "execution": {
     "iopub.execute_input": "2022-09-29T06:58:49.174475Z",
     "iopub.status.busy": "2022-09-29T06:58:49.174060Z",
     "iopub.status.idle": "2022-09-29T06:58:49.181572Z",
     "shell.execute_reply": "2022-09-29T06:58:49.180231Z"
    },
    "papermill": {
     "duration": 0.08477,
     "end_time": "2022-09-29T06:58:49.186059",
     "exception": false,
     "start_time": "2022-09-29T06:58:49.101289",
     "status": "completed"
    },
    "tags": []
   },
   "outputs": [
    {
     "name": "stdout",
     "output_type": "stream",
     "text": [
      "Value at dates[4] index: -0.8869560411930332\n",
      "Data Type of Value: <class 'numpy.float64'>\n"
     ]
    }
   ],
   "source": [
    "print(\"Value at dates[4] index:\",s[dates[4]]) #We are direct giving Index\n",
    "print(\"Data Type of Value:\",type(s[dates[5]]))"
   ]
  },
  {
   "cell_type": "code",
   "execution_count": 81,
   "id": "9dd82deb",
   "metadata": {
    "execution": {
     "iopub.execute_input": "2022-09-29T06:58:49.331470Z",
     "iopub.status.busy": "2022-09-29T06:58:49.331088Z",
     "iopub.status.idle": "2022-09-29T06:58:49.347320Z",
     "shell.execute_reply": "2022-09-29T06:58:49.345968Z"
    },
    "papermill": {
     "duration": 0.093208,
     "end_time": "2022-09-29T06:58:49.351504",
     "exception": false,
     "start_time": "2022-09-29T06:58:49.258296",
     "status": "completed"
    },
    "tags": []
   },
   "outputs": [
    {
     "name": "stdout",
     "output_type": "stream",
     "text": [
      "Before Changing: \n",
      "                    A         B\n",
      "2000-01-01  1.747723  1.402904\n",
      "2000-01-02 -1.097969 -0.727633\n",
      "2000-01-03 -1.503982 -2.145250\n",
      "2000-01-04 -1.303619 -1.015660\n",
      "2000-01-05 -0.886956  0.048130\n",
      "2000-01-06  1.646651 -0.581065\n",
      "2000-01-07 -0.653317  0.079982\n",
      "2000-01-08  0.127853 -0.963385\n",
      "\n",
      "After Changing:\n",
      "                    A         B\n",
      "2000-01-01  1.402904  1.747723\n",
      "2000-01-02 -0.727633 -1.097969\n",
      "2000-01-03 -2.145250 -1.503982\n",
      "2000-01-04 -1.015660 -1.303619\n",
      "2000-01-05  0.048130 -0.886956\n",
      "2000-01-06 -0.581065  1.646651\n",
      "2000-01-07  0.079982 -0.653317\n",
      "2000-01-08 -0.963385  0.127853\n"
     ]
    }
   ],
   "source": [
    "print(\"Before Changing: \\n\",df[['A','B']])\n",
    "df[['B', 'A']] = df[['A', 'B']]   #Changing Column value \n",
    "print(\"\\nAfter Changing:\\n\",df[['A','B']])"
   ]
  },
  {
   "cell_type": "markdown",
   "id": "32373e7d",
   "metadata": {
    "papermill": {
     "duration": 0.069993,
     "end_time": "2022-09-29T06:58:49.495081",
     "exception": false,
     "start_time": "2022-09-29T06:58:49.425088",
     "status": "completed"
    },
    "tags": []
   },
   "source": [
    "> <h2>⚠️Warning</h2>\n",
    "\n",
    "> - **pandas aligns all AXES when setting Series and DataFrame from .loc, and .iloc.**\n",
    "> - **This will not modify df because the column alignment is before value assignment.**"
   ]
  },
  {
   "cell_type": "code",
   "execution_count": 82,
   "id": "85598d7c",
   "metadata": {
    "execution": {
     "iopub.execute_input": "2022-09-29T06:58:49.649228Z",
     "iopub.status.busy": "2022-09-29T06:58:49.648843Z",
     "iopub.status.idle": "2022-09-29T06:58:49.668249Z",
     "shell.execute_reply": "2022-09-29T06:58:49.665718Z"
    },
    "papermill": {
     "duration": 0.107114,
     "end_time": "2022-09-29T06:58:49.671153",
     "exception": false,
     "start_time": "2022-09-29T06:58:49.564039",
     "status": "completed"
    },
    "tags": []
   },
   "outputs": [
    {
     "name": "stdout",
     "output_type": "stream",
     "text": [
      "Before Changing: \n",
      "                    A         B\n",
      "2000-01-01  1.402904  1.747723\n",
      "2000-01-02 -0.727633 -1.097969\n",
      "2000-01-03 -2.145250 -1.503982\n",
      "2000-01-04 -1.015660 -1.303619\n",
      "2000-01-05  0.048130 -0.886956\n",
      "2000-01-06 -0.581065  1.646651\n",
      "2000-01-07  0.079982 -0.653317\n",
      "2000-01-08 -0.963385  0.127853\n",
      "\n",
      "After Changing:\n",
      "                    A         B\n",
      "2000-01-01  1.402904  1.747723\n",
      "2000-01-02 -0.727633 -1.097969\n",
      "2000-01-03 -2.145250 -1.503982\n",
      "2000-01-04 -1.015660 -1.303619\n",
      "2000-01-05  0.048130 -0.886956\n",
      "2000-01-06 -0.581065  1.646651\n",
      "2000-01-07  0.079982 -0.653317\n",
      "2000-01-08 -0.963385  0.127853\n"
     ]
    }
   ],
   "source": [
    "print(\"Before Changing: \\n\",df[['A','B']])\n",
    "df.loc[:, ['B', 'A']] = df[['A', 'B']]         #Not Changing Value \n",
    "print(\"\\nAfter Changing:\\n\",df[['A','B']])"
   ]
  },
  {
   "cell_type": "code",
   "execution_count": 83,
   "id": "153e6674",
   "metadata": {
    "execution": {
     "iopub.execute_input": "2022-09-29T06:58:49.813504Z",
     "iopub.status.busy": "2022-09-29T06:58:49.812373Z",
     "iopub.status.idle": "2022-09-29T06:58:49.824902Z",
     "shell.execute_reply": "2022-09-29T06:58:49.823473Z"
    },
    "papermill": {
     "duration": 0.088304,
     "end_time": "2022-09-29T06:58:49.828576",
     "exception": false,
     "start_time": "2022-09-29T06:58:49.740272",
     "status": "completed"
    },
    "tags": []
   },
   "outputs": [
    {
     "name": "stdout",
     "output_type": "stream",
     "text": [
      "\n",
      "After Changing:\n",
      "                    A         B\n",
      "2000-01-01  1.747723  1.402904\n",
      "2000-01-02 -1.097969 -0.727633\n",
      "2000-01-03 -1.503982 -2.145250\n",
      "2000-01-04 -1.303619 -1.015660\n",
      "2000-01-05 -0.886956  0.048130\n",
      "2000-01-06  1.646651 -0.581065\n",
      "2000-01-07 -0.653317  0.079982\n",
      "2000-01-08  0.127853 -0.963385\n"
     ]
    }
   ],
   "source": [
    "df.loc[:, ['B', 'A']] = df[['A', 'B']].to_numpy()\n",
    "print(\"\\nAfter Changing:\\n\",df[['A','B']])"
   ]
  },
  {
   "cell_type": "markdown",
   "id": "b7bf476a",
   "metadata": {
    "papermill": {
     "duration": 0.070298,
     "end_time": "2022-09-29T06:58:49.969577",
     "exception": false,
     "start_time": "2022-09-29T06:58:49.899279",
     "status": "completed"
    },
    "tags": []
   },
   "source": [
    "## Indexing and selecting data In DataFrame: | Attribute access:"
   ]
  },
  {
   "cell_type": "code",
   "execution_count": 84,
   "id": "a4378748",
   "metadata": {
    "execution": {
     "iopub.execute_input": "2022-09-29T06:58:50.113865Z",
     "iopub.status.busy": "2022-09-29T06:58:50.113349Z",
     "iopub.status.idle": "2022-09-29T06:58:50.122788Z",
     "shell.execute_reply": "2022-09-29T06:58:50.121359Z"
    },
    "papermill": {
     "duration": 0.087304,
     "end_time": "2022-09-29T06:58:50.125469",
     "exception": false,
     "start_time": "2022-09-29T06:58:50.038165",
     "status": "completed"
    },
    "tags": []
   },
   "outputs": [
    {
     "data": {
      "text/plain": [
       "a    1\n",
       "b    2\n",
       "c    3\n",
       "dtype: int64"
      ]
     },
     "execution_count": 84,
     "metadata": {},
     "output_type": "execute_result"
    }
   ],
   "source": [
    "sa = pd.Series([1, 2, 3], index=list('abc'))  # Creating SA Series \n",
    "sa"
   ]
  },
  {
   "cell_type": "code",
   "execution_count": 85,
   "id": "658ad433",
   "metadata": {
    "execution": {
     "iopub.execute_input": "2022-09-29T06:58:50.266182Z",
     "iopub.status.busy": "2022-09-29T06:58:50.265818Z",
     "iopub.status.idle": "2022-09-29T06:58:50.284223Z",
     "shell.execute_reply": "2022-09-29T06:58:50.282537Z"
    },
    "papermill": {
     "duration": 0.092151,
     "end_time": "2022-09-29T06:58:50.287261",
     "exception": false,
     "start_time": "2022-09-29T06:58:50.195110",
     "status": "completed"
    },
    "tags": []
   },
   "outputs": [
    {
     "name": "stdout",
     "output_type": "stream",
     "text": [
      "DataFrame dfa:\n",
      "\n"
     ]
    },
    {
     "data": {
      "text/html": [
       "<div>\n",
       "<style scoped>\n",
       "    .dataframe tbody tr th:only-of-type {\n",
       "        vertical-align: middle;\n",
       "    }\n",
       "\n",
       "    .dataframe tbody tr th {\n",
       "        vertical-align: top;\n",
       "    }\n",
       "\n",
       "    .dataframe thead th {\n",
       "        text-align: right;\n",
       "    }\n",
       "</style>\n",
       "<table border=\"1\" class=\"dataframe\">\n",
       "  <thead>\n",
       "    <tr style=\"text-align: right;\">\n",
       "      <th></th>\n",
       "      <th>A</th>\n",
       "      <th>B</th>\n",
       "      <th>C</th>\n",
       "      <th>D</th>\n",
       "    </tr>\n",
       "  </thead>\n",
       "  <tbody>\n",
       "    <tr>\n",
       "      <th>2000-01-01</th>\n",
       "      <td>1.747723</td>\n",
       "      <td>1.402904</td>\n",
       "      <td>2.021912</td>\n",
       "      <td>0.341947</td>\n",
       "    </tr>\n",
       "    <tr>\n",
       "      <th>2000-01-02</th>\n",
       "      <td>-1.097969</td>\n",
       "      <td>-0.727633</td>\n",
       "      <td>0.669440</td>\n",
       "      <td>0.526305</td>\n",
       "    </tr>\n",
       "    <tr>\n",
       "      <th>2000-01-03</th>\n",
       "      <td>-1.503982</td>\n",
       "      <td>-2.145250</td>\n",
       "      <td>0.603084</td>\n",
       "      <td>-0.299959</td>\n",
       "    </tr>\n",
       "    <tr>\n",
       "      <th>2000-01-04</th>\n",
       "      <td>-1.303619</td>\n",
       "      <td>-1.015660</td>\n",
       "      <td>-1.652772</td>\n",
       "      <td>0.251474</td>\n",
       "    </tr>\n",
       "    <tr>\n",
       "      <th>2000-01-05</th>\n",
       "      <td>-0.886956</td>\n",
       "      <td>0.048130</td>\n",
       "      <td>3.096559</td>\n",
       "      <td>-0.009938</td>\n",
       "    </tr>\n",
       "    <tr>\n",
       "      <th>2000-01-06</th>\n",
       "      <td>1.646651</td>\n",
       "      <td>-0.581065</td>\n",
       "      <td>0.511260</td>\n",
       "      <td>-0.054996</td>\n",
       "    </tr>\n",
       "    <tr>\n",
       "      <th>2000-01-07</th>\n",
       "      <td>-0.653317</td>\n",
       "      <td>0.079982</td>\n",
       "      <td>-2.154764</td>\n",
       "      <td>-0.258879</td>\n",
       "    </tr>\n",
       "    <tr>\n",
       "      <th>2000-01-08</th>\n",
       "      <td>0.127853</td>\n",
       "      <td>-0.963385</td>\n",
       "      <td>1.796046</td>\n",
       "      <td>-0.527062</td>\n",
       "    </tr>\n",
       "  </tbody>\n",
       "</table>\n",
       "</div>"
      ],
      "text/plain": [
       "                   A         B         C         D\n",
       "2000-01-01  1.747723  1.402904  2.021912  0.341947\n",
       "2000-01-02 -1.097969 -0.727633  0.669440  0.526305\n",
       "2000-01-03 -1.503982 -2.145250  0.603084 -0.299959\n",
       "2000-01-04 -1.303619 -1.015660 -1.652772  0.251474\n",
       "2000-01-05 -0.886956  0.048130  3.096559 -0.009938\n",
       "2000-01-06  1.646651 -0.581065  0.511260 -0.054996\n",
       "2000-01-07 -0.653317  0.079982 -2.154764 -0.258879\n",
       "2000-01-08  0.127853 -0.963385  1.796046 -0.527062"
      ]
     },
     "execution_count": 85,
     "metadata": {},
     "output_type": "execute_result"
    }
   ],
   "source": [
    "print(\"DataFrame dfa:\\n\")\n",
    "dfa = df.copy() #Making Copy of df in dfa\n",
    "dfa"
   ]
  },
  {
   "cell_type": "code",
   "execution_count": 86,
   "id": "5ee6743e",
   "metadata": {
    "execution": {
     "iopub.execute_input": "2022-09-29T06:58:50.433443Z",
     "iopub.status.busy": "2022-09-29T06:58:50.432248Z",
     "iopub.status.idle": "2022-09-29T06:58:50.442431Z",
     "shell.execute_reply": "2022-09-29T06:58:50.440931Z"
    },
    "papermill": {
     "duration": 0.087331,
     "end_time": "2022-09-29T06:58:50.445248",
     "exception": false,
     "start_time": "2022-09-29T06:58:50.357917",
     "status": "completed"
    },
    "tags": []
   },
   "outputs": [
    {
     "data": {
      "text/plain": [
       "2000-01-01    1.747723\n",
       "2000-01-02   -1.097969\n",
       "2000-01-03   -1.503982\n",
       "2000-01-04   -1.303619\n",
       "2000-01-05   -0.886956\n",
       "2000-01-06    1.646651\n",
       "2000-01-07   -0.653317\n",
       "2000-01-08    0.127853\n",
       "Freq: D, Name: A, dtype: float64"
      ]
     },
     "execution_count": 86,
     "metadata": {},
     "output_type": "execute_result"
    }
   ],
   "source": [
    "dfa.A   #accesing as a attribute "
   ]
  },
  {
   "cell_type": "code",
   "execution_count": 87,
   "id": "ec3fef65",
   "metadata": {
    "execution": {
     "iopub.execute_input": "2022-09-29T06:58:50.586243Z",
     "iopub.status.busy": "2022-09-29T06:58:50.585889Z",
     "iopub.status.idle": "2022-09-29T06:58:50.593672Z",
     "shell.execute_reply": "2022-09-29T06:58:50.592397Z"
    },
    "papermill": {
     "duration": 0.081976,
     "end_time": "2022-09-29T06:58:50.596420",
     "exception": false,
     "start_time": "2022-09-29T06:58:50.514444",
     "status": "completed"
    },
    "tags": []
   },
   "outputs": [
    {
     "data": {
      "text/plain": [
       "DatetimeIndex(['2000-01-01', '2000-01-02', '2000-01-03', '2000-01-04',\n",
       "               '2000-01-05', '2000-01-06', '2000-01-07', '2000-01-08'],\n",
       "              dtype='datetime64[ns]', freq='D')"
      ]
     },
     "execution_count": 87,
     "metadata": {},
     "output_type": "execute_result"
    }
   ],
   "source": [
    "dfa.index # index of dfa DataFrame"
   ]
  },
  {
   "cell_type": "code",
   "execution_count": 88,
   "id": "40dbf76c",
   "metadata": {
    "execution": {
     "iopub.execute_input": "2022-09-29T06:58:50.735288Z",
     "iopub.status.busy": "2022-09-29T06:58:50.734970Z",
     "iopub.status.idle": "2022-09-29T06:58:50.749411Z",
     "shell.execute_reply": "2022-09-29T06:58:50.748092Z"
    },
    "papermill": {
     "duration": 0.087046,
     "end_time": "2022-09-29T06:58:50.752069",
     "exception": false,
     "start_time": "2022-09-29T06:58:50.665023",
     "status": "completed"
    },
    "tags": []
   },
   "outputs": [
    {
     "data": {
      "text/html": [
       "<div>\n",
       "<style scoped>\n",
       "    .dataframe tbody tr th:only-of-type {\n",
       "        vertical-align: middle;\n",
       "    }\n",
       "\n",
       "    .dataframe tbody tr th {\n",
       "        vertical-align: top;\n",
       "    }\n",
       "\n",
       "    .dataframe thead th {\n",
       "        text-align: right;\n",
       "    }\n",
       "</style>\n",
       "<table border=\"1\" class=\"dataframe\">\n",
       "  <thead>\n",
       "    <tr style=\"text-align: right;\">\n",
       "      <th></th>\n",
       "      <th>A</th>\n",
       "      <th>B</th>\n",
       "      <th>C</th>\n",
       "      <th>D</th>\n",
       "    </tr>\n",
       "  </thead>\n",
       "  <tbody>\n",
       "    <tr>\n",
       "      <th>2000-01-01</th>\n",
       "      <td>0</td>\n",
       "      <td>1.402904</td>\n",
       "      <td>2.021912</td>\n",
       "      <td>0.341947</td>\n",
       "    </tr>\n",
       "    <tr>\n",
       "      <th>2000-01-02</th>\n",
       "      <td>1</td>\n",
       "      <td>-0.727633</td>\n",
       "      <td>0.669440</td>\n",
       "      <td>0.526305</td>\n",
       "    </tr>\n",
       "    <tr>\n",
       "      <th>2000-01-03</th>\n",
       "      <td>2</td>\n",
       "      <td>-2.145250</td>\n",
       "      <td>0.603084</td>\n",
       "      <td>-0.299959</td>\n",
       "    </tr>\n",
       "    <tr>\n",
       "      <th>2000-01-04</th>\n",
       "      <td>3</td>\n",
       "      <td>-1.015660</td>\n",
       "      <td>-1.652772</td>\n",
       "      <td>0.251474</td>\n",
       "    </tr>\n",
       "    <tr>\n",
       "      <th>2000-01-05</th>\n",
       "      <td>4</td>\n",
       "      <td>0.048130</td>\n",
       "      <td>3.096559</td>\n",
       "      <td>-0.009938</td>\n",
       "    </tr>\n",
       "    <tr>\n",
       "      <th>2000-01-06</th>\n",
       "      <td>5</td>\n",
       "      <td>-0.581065</td>\n",
       "      <td>0.511260</td>\n",
       "      <td>-0.054996</td>\n",
       "    </tr>\n",
       "    <tr>\n",
       "      <th>2000-01-07</th>\n",
       "      <td>6</td>\n",
       "      <td>0.079982</td>\n",
       "      <td>-2.154764</td>\n",
       "      <td>-0.258879</td>\n",
       "    </tr>\n",
       "    <tr>\n",
       "      <th>2000-01-08</th>\n",
       "      <td>7</td>\n",
       "      <td>-0.963385</td>\n",
       "      <td>1.796046</td>\n",
       "      <td>-0.527062</td>\n",
       "    </tr>\n",
       "  </tbody>\n",
       "</table>\n",
       "</div>"
      ],
      "text/plain": [
       "            A         B         C         D\n",
       "2000-01-01  0  1.402904  2.021912  0.341947\n",
       "2000-01-02  1 -0.727633  0.669440  0.526305\n",
       "2000-01-03  2 -2.145250  0.603084 -0.299959\n",
       "2000-01-04  3 -1.015660 -1.652772  0.251474\n",
       "2000-01-05  4  0.048130  3.096559 -0.009938\n",
       "2000-01-06  5 -0.581065  0.511260 -0.054996\n",
       "2000-01-07  6  0.079982 -2.154764 -0.258879\n",
       "2000-01-08  7 -0.963385  1.796046 -0.527062"
      ]
     },
     "execution_count": 88,
     "metadata": {},
     "output_type": "execute_result"
    }
   ],
   "source": [
    "# Changing Value of by attribute Access\n",
    "dfa.A=list(range(len(dfa.index)))           ## ok if A already exists else refer below warning\n",
    "dfa"
   ]
  },
  {
   "cell_type": "markdown",
   "id": "d3135ab3",
   "metadata": {
    "papermill": {
     "duration": 0.107392,
     "end_time": "2022-09-29T06:58:50.927364",
     "exception": false,
     "start_time": "2022-09-29T06:58:50.819972",
     "status": "completed"
    },
    "tags": []
   },
   "source": [
    "``` python\n",
    "dfa.E=list(range(len(dfa.index)))\n",
    "\n",
    "/opt/conda/lib/python3.7/site-packages/ipykernel_launcher.py:1: UserWarning: Pandas doesn't allow columns to be created via a new attribute name - see https://pandas.pydata.org/pandas-docs/stable/indexing.html#attribute-access\n",
    "  \"\"\"Entry point for launching an IPython kernel.\n",
    "\n",
    "```"
   ]
  },
  {
   "cell_type": "code",
   "execution_count": 89,
   "id": "69c97c58",
   "metadata": {
    "execution": {
     "iopub.execute_input": "2022-09-29T06:58:51.136302Z",
     "iopub.status.busy": "2022-09-29T06:58:51.133584Z",
     "iopub.status.idle": "2022-09-29T06:58:51.179608Z",
     "shell.execute_reply": "2022-09-29T06:58:51.177955Z"
    },
    "papermill": {
     "duration": 0.179529,
     "end_time": "2022-09-29T06:58:51.184532",
     "exception": false,
     "start_time": "2022-09-29T06:58:51.005003",
     "status": "completed"
    },
    "tags": []
   },
   "outputs": [
    {
     "data": {
      "text/html": [
       "<div>\n",
       "<style scoped>\n",
       "    .dataframe tbody tr th:only-of-type {\n",
       "        vertical-align: middle;\n",
       "    }\n",
       "\n",
       "    .dataframe tbody tr th {\n",
       "        vertical-align: top;\n",
       "    }\n",
       "\n",
       "    .dataframe thead th {\n",
       "        text-align: right;\n",
       "    }\n",
       "</style>\n",
       "<table border=\"1\" class=\"dataframe\">\n",
       "  <thead>\n",
       "    <tr style=\"text-align: right;\">\n",
       "      <th></th>\n",
       "      <th>A</th>\n",
       "      <th>B</th>\n",
       "      <th>C</th>\n",
       "      <th>D</th>\n",
       "      <th>E</th>\n",
       "    </tr>\n",
       "  </thead>\n",
       "  <tbody>\n",
       "    <tr>\n",
       "      <th>2000-01-01</th>\n",
       "      <td>0</td>\n",
       "      <td>1.402904</td>\n",
       "      <td>2.021912</td>\n",
       "      <td>0.341947</td>\n",
       "      <td>0</td>\n",
       "    </tr>\n",
       "    <tr>\n",
       "      <th>2000-01-02</th>\n",
       "      <td>1</td>\n",
       "      <td>-0.727633</td>\n",
       "      <td>0.669440</td>\n",
       "      <td>0.526305</td>\n",
       "      <td>1</td>\n",
       "    </tr>\n",
       "    <tr>\n",
       "      <th>2000-01-03</th>\n",
       "      <td>2</td>\n",
       "      <td>-2.145250</td>\n",
       "      <td>0.603084</td>\n",
       "      <td>-0.299959</td>\n",
       "      <td>2</td>\n",
       "    </tr>\n",
       "    <tr>\n",
       "      <th>2000-01-04</th>\n",
       "      <td>3</td>\n",
       "      <td>-1.015660</td>\n",
       "      <td>-1.652772</td>\n",
       "      <td>0.251474</td>\n",
       "      <td>3</td>\n",
       "    </tr>\n",
       "    <tr>\n",
       "      <th>2000-01-05</th>\n",
       "      <td>4</td>\n",
       "      <td>0.048130</td>\n",
       "      <td>3.096559</td>\n",
       "      <td>-0.009938</td>\n",
       "      <td>4</td>\n",
       "    </tr>\n",
       "    <tr>\n",
       "      <th>2000-01-06</th>\n",
       "      <td>5</td>\n",
       "      <td>-0.581065</td>\n",
       "      <td>0.511260</td>\n",
       "      <td>-0.054996</td>\n",
       "      <td>5</td>\n",
       "    </tr>\n",
       "    <tr>\n",
       "      <th>2000-01-07</th>\n",
       "      <td>6</td>\n",
       "      <td>0.079982</td>\n",
       "      <td>-2.154764</td>\n",
       "      <td>-0.258879</td>\n",
       "      <td>6</td>\n",
       "    </tr>\n",
       "    <tr>\n",
       "      <th>2000-01-08</th>\n",
       "      <td>7</td>\n",
       "      <td>-0.963385</td>\n",
       "      <td>1.796046</td>\n",
       "      <td>-0.527062</td>\n",
       "      <td>7</td>\n",
       "    </tr>\n",
       "  </tbody>\n",
       "</table>\n",
       "</div>"
      ],
      "text/plain": [
       "            A         B         C         D  E\n",
       "2000-01-01  0  1.402904  2.021912  0.341947  0\n",
       "2000-01-02  1 -0.727633  0.669440  0.526305  1\n",
       "2000-01-03  2 -2.145250  0.603084 -0.299959  2\n",
       "2000-01-04  3 -1.015660 -1.652772  0.251474  3\n",
       "2000-01-05  4  0.048130  3.096559 -0.009938  4\n",
       "2000-01-06  5 -0.581065  0.511260 -0.054996  5\n",
       "2000-01-07  6  0.079982 -2.154764 -0.258879  6\n",
       "2000-01-08  7 -0.963385  1.796046 -0.527062  7"
      ]
     },
     "execution_count": 89,
     "metadata": {},
     "output_type": "execute_result"
    }
   ],
   "source": [
    "dfa[\"E\"]=list(range(len(dfa.index)))  #Assinging Value to E Columns\n",
    "dfa"
   ]
  },
  {
   "cell_type": "markdown",
   "id": "de3fac20",
   "metadata": {
    "papermill": {
     "duration": 0.12131,
     "end_time": "2022-09-29T06:58:51.471994",
     "exception": false,
     "start_time": "2022-09-29T06:58:51.350684",
     "status": "completed"
    },
    "tags": []
   },
   "source": [
    ">  ## ⚠️Warning\n",
    "\n",
    "> - You can use this access only if the index element is a valid Python identifier, e.g. s.1 is not allowed. See here for an explanation of valid identifiers.\n",
    "> - The attribute will not be available if it conflicts with an existing method name, e.g. s.min is not allowed, but s['min'] is possible.\n",
    "> - Similarly, the attribute will not be available if it conflicts with any of the following list: index, major_axis, minor_axis, items.\n",
    "> - In any of these cases, standard indexing will still work, e.g. s['1'], s['min'], and s['index'] will access the corresponding element or column."
   ]
  },
  {
   "cell_type": "code",
   "execution_count": 90,
   "id": "8db05fc0",
   "metadata": {
    "execution": {
     "iopub.execute_input": "2022-09-29T06:58:51.716021Z",
     "iopub.status.busy": "2022-09-29T06:58:51.715264Z",
     "iopub.status.idle": "2022-09-29T06:58:51.747183Z",
     "shell.execute_reply": "2022-09-29T06:58:51.745840Z"
    },
    "papermill": {
     "duration": 0.159433,
     "end_time": "2022-09-29T06:58:51.750842",
     "exception": false,
     "start_time": "2022-09-29T06:58:51.591409",
     "status": "completed"
    },
    "tags": []
   },
   "outputs": [
    {
     "name": "stdout",
     "output_type": "stream",
     "text": [
      "Before Assignment:\n",
      "\n"
     ]
    },
    {
     "data": {
      "text/html": [
       "<div>\n",
       "<style scoped>\n",
       "    .dataframe tbody tr th:only-of-type {\n",
       "        vertical-align: middle;\n",
       "    }\n",
       "\n",
       "    .dataframe tbody tr th {\n",
       "        vertical-align: top;\n",
       "    }\n",
       "\n",
       "    .dataframe thead th {\n",
       "        text-align: right;\n",
       "    }\n",
       "</style>\n",
       "<table border=\"1\" class=\"dataframe\">\n",
       "  <thead>\n",
       "    <tr style=\"text-align: right;\">\n",
       "      <th></th>\n",
       "      <th>x</th>\n",
       "      <th>y</th>\n",
       "    </tr>\n",
       "  </thead>\n",
       "  <tbody>\n",
       "    <tr>\n",
       "      <th>0</th>\n",
       "      <td>1</td>\n",
       "      <td>3</td>\n",
       "    </tr>\n",
       "    <tr>\n",
       "      <th>1</th>\n",
       "      <td>2</td>\n",
       "      <td>4</td>\n",
       "    </tr>\n",
       "    <tr>\n",
       "      <th>2</th>\n",
       "      <td>3</td>\n",
       "      <td>5</td>\n",
       "    </tr>\n",
       "  </tbody>\n",
       "</table>\n",
       "</div>"
      ],
      "text/plain": [
       "   x  y\n",
       "0  1  3\n",
       "1  2  4\n",
       "2  3  5"
      ]
     },
     "execution_count": 90,
     "metadata": {},
     "output_type": "execute_result"
    }
   ],
   "source": [
    "# You can also assign a dict to a row of a DataFrame:\n",
    "x = pd.DataFrame({'x': [1, 2, 3], 'y': [3, 4, 5]})\n",
    "print(\"Before Assignment:\\n\")\n",
    "x"
   ]
  },
  {
   "cell_type": "code",
   "execution_count": 91,
   "id": "78a320d5",
   "metadata": {
    "execution": {
     "iopub.execute_input": "2022-09-29T06:58:51.985795Z",
     "iopub.status.busy": "2022-09-29T06:58:51.985362Z",
     "iopub.status.idle": "2022-09-29T06:58:51.999045Z",
     "shell.execute_reply": "2022-09-29T06:58:51.997627Z"
    },
    "papermill": {
     "duration": 0.093562,
     "end_time": "2022-09-29T06:58:52.001791",
     "exception": false,
     "start_time": "2022-09-29T06:58:51.908229",
     "status": "completed"
    },
    "tags": []
   },
   "outputs": [
    {
     "name": "stdout",
     "output_type": "stream",
     "text": [
      "\n",
      "After Assignment:\n",
      "\n"
     ]
    },
    {
     "data": {
      "text/html": [
       "<div>\n",
       "<style scoped>\n",
       "    .dataframe tbody tr th:only-of-type {\n",
       "        vertical-align: middle;\n",
       "    }\n",
       "\n",
       "    .dataframe tbody tr th {\n",
       "        vertical-align: top;\n",
       "    }\n",
       "\n",
       "    .dataframe thead th {\n",
       "        text-align: right;\n",
       "    }\n",
       "</style>\n",
       "<table border=\"1\" class=\"dataframe\">\n",
       "  <thead>\n",
       "    <tr style=\"text-align: right;\">\n",
       "      <th></th>\n",
       "      <th>x</th>\n",
       "      <th>y</th>\n",
       "    </tr>\n",
       "  </thead>\n",
       "  <tbody>\n",
       "    <tr>\n",
       "      <th>0</th>\n",
       "      <td>1</td>\n",
       "      <td>3</td>\n",
       "    </tr>\n",
       "    <tr>\n",
       "      <th>1</th>\n",
       "      <td>9</td>\n",
       "      <td>99</td>\n",
       "    </tr>\n",
       "    <tr>\n",
       "      <th>2</th>\n",
       "      <td>3</td>\n",
       "      <td>5</td>\n",
       "    </tr>\n",
       "  </tbody>\n",
       "</table>\n",
       "</div>"
      ],
      "text/plain": [
       "   x   y\n",
       "0  1   3\n",
       "1  9  99\n",
       "2  3   5"
      ]
     },
     "execution_count": 91,
     "metadata": {},
     "output_type": "execute_result"
    }
   ],
   "source": [
    "x.iloc[1] = {'x': 9, 'y': 99}\n",
    "print(\"\\nAfter Assignment:\\n\")\n",
    "x"
   ]
  },
  {
   "cell_type": "markdown",
   "id": "ad94e82e",
   "metadata": {
    "papermill": {
     "duration": 0.070862,
     "end_time": "2022-09-29T06:58:52.144630",
     "exception": false,
     "start_time": "2022-09-29T06:58:52.073768",
     "status": "completed"
    },
    "tags": []
   },
   "source": [
    "## Indexing and selecting data In DataFrame | Slicing ranges in DataFrame:\n",
    "- The most robust and consistent way of slicing ranges along arbitrary axes is described in the Selection by Position section detailing the **.iloc** method. For now, we explain the semantics of slicing using the **[]** operator.\n",
    "\n",
    "- With Series, the syntax works exactly as with an ndarray, returning a slice of the values and the corresponding labels:"
   ]
  },
  {
   "cell_type": "code",
   "execution_count": 92,
   "id": "4a2acffa",
   "metadata": {
    "execution": {
     "iopub.execute_input": "2022-09-29T06:58:52.293204Z",
     "iopub.status.busy": "2022-09-29T06:58:52.292168Z",
     "iopub.status.idle": "2022-09-29T06:58:52.303669Z",
     "shell.execute_reply": "2022-09-29T06:58:52.302078Z"
    },
    "papermill": {
     "duration": 0.089342,
     "end_time": "2022-09-29T06:58:52.306672",
     "exception": false,
     "start_time": "2022-09-29T06:58:52.217330",
     "status": "completed"
    },
    "tags": []
   },
   "outputs": [
    {
     "data": {
      "text/plain": [
       "2000-01-01    1.747723\n",
       "2000-01-02   -1.097969\n",
       "2000-01-03   -1.503982\n",
       "2000-01-04   -1.303619\n",
       "2000-01-05   -0.886956\n",
       "Freq: D, Name: A, dtype: float64"
      ]
     },
     "execution_count": 92,
     "metadata": {},
     "output_type": "execute_result"
    }
   ],
   "source": [
    "s[:5]    #Slicing in Sereis s=df[\"A\"]  / print value from 0 to 5(Exclude)"
   ]
  },
  {
   "cell_type": "code",
   "execution_count": 93,
   "id": "43107d26",
   "metadata": {
    "execution": {
     "iopub.execute_input": "2022-09-29T06:58:52.455233Z",
     "iopub.status.busy": "2022-09-29T06:58:52.453968Z",
     "iopub.status.idle": "2022-09-29T06:58:52.466083Z",
     "shell.execute_reply": "2022-09-29T06:58:52.464610Z"
    },
    "papermill": {
     "duration": 0.089317,
     "end_time": "2022-09-29T06:58:52.469151",
     "exception": false,
     "start_time": "2022-09-29T06:58:52.379834",
     "status": "completed"
    },
    "tags": []
   },
   "outputs": [
    {
     "data": {
      "text/plain": [
       "2000-01-01    1.747723\n",
       "2000-01-03   -1.503982\n",
       "2000-01-05   -0.886956\n",
       "2000-01-07   -0.653317\n",
       "Freq: 2D, Name: A, dtype: float64"
      ]
     },
     "execution_count": 93,
     "metadata": {},
     "output_type": "execute_result"
    }
   ],
   "source": [
    "s[::2]    #2 works as Steping Value (after 2 point print value)"
   ]
  },
  {
   "cell_type": "code",
   "execution_count": 94,
   "id": "a1a0169b",
   "metadata": {
    "execution": {
     "iopub.execute_input": "2022-09-29T06:58:52.620037Z",
     "iopub.status.busy": "2022-09-29T06:58:52.618863Z",
     "iopub.status.idle": "2022-09-29T06:58:52.629538Z",
     "shell.execute_reply": "2022-09-29T06:58:52.628060Z"
    },
    "papermill": {
     "duration": 0.088092,
     "end_time": "2022-09-29T06:58:52.632194",
     "exception": false,
     "start_time": "2022-09-29T06:58:52.544102",
     "status": "completed"
    },
    "tags": []
   },
   "outputs": [
    {
     "data": {
      "text/plain": [
       "2000-01-08    0.127853\n",
       "2000-01-07   -0.653317\n",
       "2000-01-06    1.646651\n",
       "2000-01-05   -0.886956\n",
       "2000-01-04   -1.303619\n",
       "2000-01-03   -1.503982\n",
       "2000-01-02   -1.097969\n",
       "2000-01-01    1.747723\n",
       "Freq: -1D, Name: A, dtype: float64"
      ]
     },
     "execution_count": 94,
     "metadata": {},
     "output_type": "execute_result"
    }
   ],
   "source": [
    "s[::-1]     #it Reverse the. Series "
   ]
  },
  {
   "cell_type": "code",
   "execution_count": 95,
   "id": "0d188323",
   "metadata": {
    "execution": {
     "iopub.execute_input": "2022-09-29T06:58:52.784203Z",
     "iopub.status.busy": "2022-09-29T06:58:52.782980Z",
     "iopub.status.idle": "2022-09-29T06:58:52.794072Z",
     "shell.execute_reply": "2022-09-29T06:58:52.792642Z"
    },
    "papermill": {
     "duration": 0.090134,
     "end_time": "2022-09-29T06:58:52.796785",
     "exception": false,
     "start_time": "2022-09-29T06:58:52.706651",
     "status": "completed"
    },
    "tags": []
   },
   "outputs": [
    {
     "data": {
      "text/plain": [
       "2000-01-01    0.000000\n",
       "2000-01-02    0.000000\n",
       "2000-01-03    0.000000\n",
       "2000-01-04    0.000000\n",
       "2000-01-05    0.000000\n",
       "2000-01-06    1.646651\n",
       "2000-01-07   -0.653317\n",
       "2000-01-08    0.127853\n",
       "Freq: D, Name: A, dtype: float64"
      ]
     },
     "execution_count": 95,
     "metadata": {},
     "output_type": "execute_result"
    }
   ],
   "source": [
    "s2 = s.copy()   #Copying value of s \n",
    "s2[:5]=0       #Assigning Value from 0 to 5\n",
    "s2"
   ]
  },
  {
   "cell_type": "markdown",
   "id": "bb346ca2",
   "metadata": {
    "papermill": {
     "duration": 0.073689,
     "end_time": "2022-09-29T06:58:52.944110",
     "exception": false,
     "start_time": "2022-09-29T06:58:52.870421",
     "status": "completed"
    },
    "tags": []
   },
   "source": [
    " #### With DataFrame, slicing inside of [] slices the rows. This is provided largely as a convenience since it is such a common operation."
   ]
  },
  {
   "cell_type": "code",
   "execution_count": 96,
   "id": "fa1e736f",
   "metadata": {
    "execution": {
     "iopub.execute_input": "2022-09-29T06:58:53.090977Z",
     "iopub.status.busy": "2022-09-29T06:58:53.089724Z",
     "iopub.status.idle": "2022-09-29T06:58:53.105042Z",
     "shell.execute_reply": "2022-09-29T06:58:53.103575Z"
    },
    "papermill": {
     "duration": 0.091711,
     "end_time": "2022-09-29T06:58:53.107936",
     "exception": false,
     "start_time": "2022-09-29T06:58:53.016225",
     "status": "completed"
    },
    "tags": []
   },
   "outputs": [
    {
     "data": {
      "text/html": [
       "<div>\n",
       "<style scoped>\n",
       "    .dataframe tbody tr th:only-of-type {\n",
       "        vertical-align: middle;\n",
       "    }\n",
       "\n",
       "    .dataframe tbody tr th {\n",
       "        vertical-align: top;\n",
       "    }\n",
       "\n",
       "    .dataframe thead th {\n",
       "        text-align: right;\n",
       "    }\n",
       "</style>\n",
       "<table border=\"1\" class=\"dataframe\">\n",
       "  <thead>\n",
       "    <tr style=\"text-align: right;\">\n",
       "      <th></th>\n",
       "      <th>A</th>\n",
       "      <th>B</th>\n",
       "      <th>C</th>\n",
       "      <th>D</th>\n",
       "      <th>E</th>\n",
       "    </tr>\n",
       "  </thead>\n",
       "  <tbody>\n",
       "    <tr>\n",
       "      <th>2000-01-01</th>\n",
       "      <td>0</td>\n",
       "      <td>1.402904</td>\n",
       "      <td>2.021912</td>\n",
       "      <td>0.341947</td>\n",
       "      <td>0</td>\n",
       "    </tr>\n",
       "    <tr>\n",
       "      <th>2000-01-02</th>\n",
       "      <td>1</td>\n",
       "      <td>-0.727633</td>\n",
       "      <td>0.669440</td>\n",
       "      <td>0.526305</td>\n",
       "      <td>1</td>\n",
       "    </tr>\n",
       "    <tr>\n",
       "      <th>2000-01-03</th>\n",
       "      <td>2</td>\n",
       "      <td>-2.145250</td>\n",
       "      <td>0.603084</td>\n",
       "      <td>-0.299959</td>\n",
       "      <td>2</td>\n",
       "    </tr>\n",
       "    <tr>\n",
       "      <th>2000-01-04</th>\n",
       "      <td>3</td>\n",
       "      <td>-1.015660</td>\n",
       "      <td>-1.652772</td>\n",
       "      <td>0.251474</td>\n",
       "      <td>3</td>\n",
       "    </tr>\n",
       "    <tr>\n",
       "      <th>2000-01-05</th>\n",
       "      <td>4</td>\n",
       "      <td>0.048130</td>\n",
       "      <td>3.096559</td>\n",
       "      <td>-0.009938</td>\n",
       "      <td>4</td>\n",
       "    </tr>\n",
       "    <tr>\n",
       "      <th>2000-01-06</th>\n",
       "      <td>5</td>\n",
       "      <td>-0.581065</td>\n",
       "      <td>0.511260</td>\n",
       "      <td>-0.054996</td>\n",
       "      <td>5</td>\n",
       "    </tr>\n",
       "    <tr>\n",
       "      <th>2000-01-07</th>\n",
       "      <td>6</td>\n",
       "      <td>0.079982</td>\n",
       "      <td>-2.154764</td>\n",
       "      <td>-0.258879</td>\n",
       "      <td>6</td>\n",
       "    </tr>\n",
       "    <tr>\n",
       "      <th>2000-01-08</th>\n",
       "      <td>7</td>\n",
       "      <td>-0.963385</td>\n",
       "      <td>1.796046</td>\n",
       "      <td>-0.527062</td>\n",
       "      <td>7</td>\n",
       "    </tr>\n",
       "  </tbody>\n",
       "</table>\n",
       "</div>"
      ],
      "text/plain": [
       "            A         B         C         D  E\n",
       "2000-01-01  0  1.402904  2.021912  0.341947  0\n",
       "2000-01-02  1 -0.727633  0.669440  0.526305  1\n",
       "2000-01-03  2 -2.145250  0.603084 -0.299959  2\n",
       "2000-01-04  3 -1.015660 -1.652772  0.251474  3\n",
       "2000-01-05  4  0.048130  3.096559 -0.009938  4\n",
       "2000-01-06  5 -0.581065  0.511260 -0.054996  5\n",
       "2000-01-07  6  0.079982 -2.154764 -0.258879  6\n",
       "2000-01-08  7 -0.963385  1.796046 -0.527062  7"
      ]
     },
     "execution_count": 96,
     "metadata": {},
     "output_type": "execute_result"
    }
   ],
   "source": [
    "dfa"
   ]
  },
  {
   "cell_type": "code",
   "execution_count": 97,
   "id": "8d48da29",
   "metadata": {
    "execution": {
     "iopub.execute_input": "2022-09-29T06:58:53.254894Z",
     "iopub.status.busy": "2022-09-29T06:58:53.254267Z",
     "iopub.status.idle": "2022-09-29T06:58:53.269336Z",
     "shell.execute_reply": "2022-09-29T06:58:53.267924Z"
    },
    "papermill": {
     "duration": 0.092294,
     "end_time": "2022-09-29T06:58:53.272170",
     "exception": false,
     "start_time": "2022-09-29T06:58:53.179876",
     "status": "completed"
    },
    "tags": []
   },
   "outputs": [
    {
     "data": {
      "text/html": [
       "<div>\n",
       "<style scoped>\n",
       "    .dataframe tbody tr th:only-of-type {\n",
       "        vertical-align: middle;\n",
       "    }\n",
       "\n",
       "    .dataframe tbody tr th {\n",
       "        vertical-align: top;\n",
       "    }\n",
       "\n",
       "    .dataframe thead th {\n",
       "        text-align: right;\n",
       "    }\n",
       "</style>\n",
       "<table border=\"1\" class=\"dataframe\">\n",
       "  <thead>\n",
       "    <tr style=\"text-align: right;\">\n",
       "      <th></th>\n",
       "      <th>A</th>\n",
       "      <th>B</th>\n",
       "      <th>C</th>\n",
       "      <th>D</th>\n",
       "      <th>E</th>\n",
       "    </tr>\n",
       "  </thead>\n",
       "  <tbody>\n",
       "    <tr>\n",
       "      <th>2000-01-04</th>\n",
       "      <td>3</td>\n",
       "      <td>-1.015660</td>\n",
       "      <td>-1.652772</td>\n",
       "      <td>0.251474</td>\n",
       "      <td>3</td>\n",
       "    </tr>\n",
       "    <tr>\n",
       "      <th>2000-01-05</th>\n",
       "      <td>4</td>\n",
       "      <td>0.048130</td>\n",
       "      <td>3.096559</td>\n",
       "      <td>-0.009938</td>\n",
       "      <td>4</td>\n",
       "    </tr>\n",
       "    <tr>\n",
       "      <th>2000-01-06</th>\n",
       "      <td>5</td>\n",
       "      <td>-0.581065</td>\n",
       "      <td>0.511260</td>\n",
       "      <td>-0.054996</td>\n",
       "      <td>5</td>\n",
       "    </tr>\n",
       "    <tr>\n",
       "      <th>2000-01-07</th>\n",
       "      <td>6</td>\n",
       "      <td>0.079982</td>\n",
       "      <td>-2.154764</td>\n",
       "      <td>-0.258879</td>\n",
       "      <td>6</td>\n",
       "    </tr>\n",
       "    <tr>\n",
       "      <th>2000-01-08</th>\n",
       "      <td>7</td>\n",
       "      <td>-0.963385</td>\n",
       "      <td>1.796046</td>\n",
       "      <td>-0.527062</td>\n",
       "      <td>7</td>\n",
       "    </tr>\n",
       "  </tbody>\n",
       "</table>\n",
       "</div>"
      ],
      "text/plain": [
       "            A         B         C         D  E\n",
       "2000-01-04  3 -1.015660 -1.652772  0.251474  3\n",
       "2000-01-05  4  0.048130  3.096559 -0.009938  4\n",
       "2000-01-06  5 -0.581065  0.511260 -0.054996  5\n",
       "2000-01-07  6  0.079982 -2.154764 -0.258879  6\n",
       "2000-01-08  7 -0.963385  1.796046 -0.527062  7"
      ]
     },
     "execution_count": 97,
     "metadata": {},
     "output_type": "execute_result"
    }
   ],
   "source": [
    "dfa[3:]   #From 3 To end of DataFrame"
   ]
  },
  {
   "cell_type": "code",
   "execution_count": 98,
   "id": "29ee4f20",
   "metadata": {
    "execution": {
     "iopub.execute_input": "2022-09-29T06:58:53.421454Z",
     "iopub.status.busy": "2022-09-29T06:58:53.420125Z",
     "iopub.status.idle": "2022-09-29T06:58:53.435216Z",
     "shell.execute_reply": "2022-09-29T06:58:53.433884Z"
    },
    "papermill": {
     "duration": 0.093806,
     "end_time": "2022-09-29T06:58:53.437933",
     "exception": false,
     "start_time": "2022-09-29T06:58:53.344127",
     "status": "completed"
    },
    "tags": []
   },
   "outputs": [
    {
     "data": {
      "text/html": [
       "<div>\n",
       "<style scoped>\n",
       "    .dataframe tbody tr th:only-of-type {\n",
       "        vertical-align: middle;\n",
       "    }\n",
       "\n",
       "    .dataframe tbody tr th {\n",
       "        vertical-align: top;\n",
       "    }\n",
       "\n",
       "    .dataframe thead th {\n",
       "        text-align: right;\n",
       "    }\n",
       "</style>\n",
       "<table border=\"1\" class=\"dataframe\">\n",
       "  <thead>\n",
       "    <tr style=\"text-align: right;\">\n",
       "      <th></th>\n",
       "      <th>A</th>\n",
       "      <th>B</th>\n",
       "      <th>C</th>\n",
       "      <th>D</th>\n",
       "      <th>E</th>\n",
       "    </tr>\n",
       "  </thead>\n",
       "  <tbody>\n",
       "    <tr>\n",
       "      <th>2000-01-01</th>\n",
       "      <td>0</td>\n",
       "      <td>1.402904</td>\n",
       "      <td>2.021912</td>\n",
       "      <td>0.341947</td>\n",
       "      <td>0</td>\n",
       "    </tr>\n",
       "    <tr>\n",
       "      <th>2000-01-02</th>\n",
       "      <td>1</td>\n",
       "      <td>-0.727633</td>\n",
       "      <td>0.669440</td>\n",
       "      <td>0.526305</td>\n",
       "      <td>1</td>\n",
       "    </tr>\n",
       "    <tr>\n",
       "      <th>2000-01-03</th>\n",
       "      <td>2</td>\n",
       "      <td>-2.145250</td>\n",
       "      <td>0.603084</td>\n",
       "      <td>-0.299959</td>\n",
       "      <td>2</td>\n",
       "    </tr>\n",
       "  </tbody>\n",
       "</table>\n",
       "</div>"
      ],
      "text/plain": [
       "            A         B         C         D  E\n",
       "2000-01-01  0  1.402904  2.021912  0.341947  0\n",
       "2000-01-02  1 -0.727633  0.669440  0.526305  1\n",
       "2000-01-03  2 -2.145250  0.603084 -0.299959  2"
      ]
     },
     "execution_count": 98,
     "metadata": {},
     "output_type": "execute_result"
    }
   ],
   "source": [
    "dfa[:3]    #Start to 3"
   ]
  },
  {
   "cell_type": "code",
   "execution_count": 99,
   "id": "97da8838",
   "metadata": {
    "execution": {
     "iopub.execute_input": "2022-09-29T06:58:53.586103Z",
     "iopub.status.busy": "2022-09-29T06:58:53.585001Z",
     "iopub.status.idle": "2022-09-29T06:58:53.599345Z",
     "shell.execute_reply": "2022-09-29T06:58:53.597929Z"
    },
    "papermill": {
     "duration": 0.091445,
     "end_time": "2022-09-29T06:58:53.602046",
     "exception": false,
     "start_time": "2022-09-29T06:58:53.510601",
     "status": "completed"
    },
    "tags": []
   },
   "outputs": [
    {
     "data": {
      "text/html": [
       "<div>\n",
       "<style scoped>\n",
       "    .dataframe tbody tr th:only-of-type {\n",
       "        vertical-align: middle;\n",
       "    }\n",
       "\n",
       "    .dataframe tbody tr th {\n",
       "        vertical-align: top;\n",
       "    }\n",
       "\n",
       "    .dataframe thead th {\n",
       "        text-align: right;\n",
       "    }\n",
       "</style>\n",
       "<table border=\"1\" class=\"dataframe\">\n",
       "  <thead>\n",
       "    <tr style=\"text-align: right;\">\n",
       "      <th></th>\n",
       "      <th>A</th>\n",
       "      <th>B</th>\n",
       "      <th>C</th>\n",
       "      <th>D</th>\n",
       "      <th>E</th>\n",
       "    </tr>\n",
       "  </thead>\n",
       "  <tbody>\n",
       "    <tr>\n",
       "      <th>2000-01-01</th>\n",
       "      <td>0</td>\n",
       "      <td>1.402904</td>\n",
       "      <td>2.021912</td>\n",
       "      <td>0.341947</td>\n",
       "      <td>0</td>\n",
       "    </tr>\n",
       "    <tr>\n",
       "      <th>2000-01-03</th>\n",
       "      <td>2</td>\n",
       "      <td>-2.145250</td>\n",
       "      <td>0.603084</td>\n",
       "      <td>-0.299959</td>\n",
       "      <td>2</td>\n",
       "    </tr>\n",
       "    <tr>\n",
       "      <th>2000-01-05</th>\n",
       "      <td>4</td>\n",
       "      <td>0.048130</td>\n",
       "      <td>3.096559</td>\n",
       "      <td>-0.009938</td>\n",
       "      <td>4</td>\n",
       "    </tr>\n",
       "    <tr>\n",
       "      <th>2000-01-07</th>\n",
       "      <td>6</td>\n",
       "      <td>0.079982</td>\n",
       "      <td>-2.154764</td>\n",
       "      <td>-0.258879</td>\n",
       "      <td>6</td>\n",
       "    </tr>\n",
       "  </tbody>\n",
       "</table>\n",
       "</div>"
      ],
      "text/plain": [
       "            A         B         C         D  E\n",
       "2000-01-01  0  1.402904  2.021912  0.341947  0\n",
       "2000-01-03  2 -2.145250  0.603084 -0.299959  2\n",
       "2000-01-05  4  0.048130  3.096559 -0.009938  4\n",
       "2000-01-07  6  0.079982 -2.154764 -0.258879  6"
      ]
     },
     "execution_count": 99,
     "metadata": {},
     "output_type": "execute_result"
    }
   ],
   "source": [
    "dfa[::2]     #steping value of 2"
   ]
  },
  {
   "cell_type": "code",
   "execution_count": 100,
   "id": "982a481b",
   "metadata": {
    "execution": {
     "iopub.execute_input": "2022-09-29T06:58:53.748524Z",
     "iopub.status.busy": "2022-09-29T06:58:53.747328Z",
     "iopub.status.idle": "2022-09-29T06:58:53.762828Z",
     "shell.execute_reply": "2022-09-29T06:58:53.761378Z"
    },
    "papermill": {
     "duration": 0.092129,
     "end_time": "2022-09-29T06:58:53.766109",
     "exception": false,
     "start_time": "2022-09-29T06:58:53.673980",
     "status": "completed"
    },
    "tags": []
   },
   "outputs": [
    {
     "data": {
      "text/html": [
       "<div>\n",
       "<style scoped>\n",
       "    .dataframe tbody tr th:only-of-type {\n",
       "        vertical-align: middle;\n",
       "    }\n",
       "\n",
       "    .dataframe tbody tr th {\n",
       "        vertical-align: top;\n",
       "    }\n",
       "\n",
       "    .dataframe thead th {\n",
       "        text-align: right;\n",
       "    }\n",
       "</style>\n",
       "<table border=\"1\" class=\"dataframe\">\n",
       "  <thead>\n",
       "    <tr style=\"text-align: right;\">\n",
       "      <th></th>\n",
       "      <th>A</th>\n",
       "      <th>B</th>\n",
       "      <th>C</th>\n",
       "      <th>D</th>\n",
       "      <th>E</th>\n",
       "    </tr>\n",
       "  </thead>\n",
       "  <tbody>\n",
       "    <tr>\n",
       "      <th>2000-01-08</th>\n",
       "      <td>7</td>\n",
       "      <td>-0.963385</td>\n",
       "      <td>1.796046</td>\n",
       "      <td>-0.527062</td>\n",
       "      <td>7</td>\n",
       "    </tr>\n",
       "    <tr>\n",
       "      <th>2000-01-07</th>\n",
       "      <td>6</td>\n",
       "      <td>0.079982</td>\n",
       "      <td>-2.154764</td>\n",
       "      <td>-0.258879</td>\n",
       "      <td>6</td>\n",
       "    </tr>\n",
       "    <tr>\n",
       "      <th>2000-01-06</th>\n",
       "      <td>5</td>\n",
       "      <td>-0.581065</td>\n",
       "      <td>0.511260</td>\n",
       "      <td>-0.054996</td>\n",
       "      <td>5</td>\n",
       "    </tr>\n",
       "    <tr>\n",
       "      <th>2000-01-05</th>\n",
       "      <td>4</td>\n",
       "      <td>0.048130</td>\n",
       "      <td>3.096559</td>\n",
       "      <td>-0.009938</td>\n",
       "      <td>4</td>\n",
       "    </tr>\n",
       "    <tr>\n",
       "      <th>2000-01-04</th>\n",
       "      <td>3</td>\n",
       "      <td>-1.015660</td>\n",
       "      <td>-1.652772</td>\n",
       "      <td>0.251474</td>\n",
       "      <td>3</td>\n",
       "    </tr>\n",
       "    <tr>\n",
       "      <th>2000-01-03</th>\n",
       "      <td>2</td>\n",
       "      <td>-2.145250</td>\n",
       "      <td>0.603084</td>\n",
       "      <td>-0.299959</td>\n",
       "      <td>2</td>\n",
       "    </tr>\n",
       "    <tr>\n",
       "      <th>2000-01-02</th>\n",
       "      <td>1</td>\n",
       "      <td>-0.727633</td>\n",
       "      <td>0.669440</td>\n",
       "      <td>0.526305</td>\n",
       "      <td>1</td>\n",
       "    </tr>\n",
       "    <tr>\n",
       "      <th>2000-01-01</th>\n",
       "      <td>0</td>\n",
       "      <td>1.402904</td>\n",
       "      <td>2.021912</td>\n",
       "      <td>0.341947</td>\n",
       "      <td>0</td>\n",
       "    </tr>\n",
       "  </tbody>\n",
       "</table>\n",
       "</div>"
      ],
      "text/plain": [
       "            A         B         C         D  E\n",
       "2000-01-08  7 -0.963385  1.796046 -0.527062  7\n",
       "2000-01-07  6  0.079982 -2.154764 -0.258879  6\n",
       "2000-01-06  5 -0.581065  0.511260 -0.054996  5\n",
       "2000-01-05  4  0.048130  3.096559 -0.009938  4\n",
       "2000-01-04  3 -1.015660 -1.652772  0.251474  3\n",
       "2000-01-03  2 -2.145250  0.603084 -0.299959  2\n",
       "2000-01-02  1 -0.727633  0.669440  0.526305  1\n",
       "2000-01-01  0  1.402904  2.021912  0.341947  0"
      ]
     },
     "execution_count": 100,
     "metadata": {},
     "output_type": "execute_result"
    }
   ],
   "source": [
    "dfa[::-1]   #reverse of DataFrame"
   ]
  },
  {
   "cell_type": "code",
   "execution_count": 101,
   "id": "c72ab480",
   "metadata": {
    "execution": {
     "iopub.execute_input": "2022-09-29T06:58:53.916066Z",
     "iopub.status.busy": "2022-09-29T06:58:53.914793Z",
     "iopub.status.idle": "2022-09-29T06:58:53.932401Z",
     "shell.execute_reply": "2022-09-29T06:58:53.930993Z"
    },
    "papermill": {
     "duration": 0.098025,
     "end_time": "2022-09-29T06:58:53.935243",
     "exception": false,
     "start_time": "2022-09-29T06:58:53.837218",
     "status": "completed"
    },
    "tags": []
   },
   "outputs": [
    {
     "data": {
      "text/html": [
       "<div>\n",
       "<style scoped>\n",
       "    .dataframe tbody tr th:only-of-type {\n",
       "        vertical-align: middle;\n",
       "    }\n",
       "\n",
       "    .dataframe tbody tr th {\n",
       "        vertical-align: top;\n",
       "    }\n",
       "\n",
       "    .dataframe thead th {\n",
       "        text-align: right;\n",
       "    }\n",
       "</style>\n",
       "<table border=\"1\" class=\"dataframe\">\n",
       "  <thead>\n",
       "    <tr style=\"text-align: right;\">\n",
       "      <th></th>\n",
       "      <th>A</th>\n",
       "      <th>B</th>\n",
       "      <th>C</th>\n",
       "      <th>D</th>\n",
       "      <th>E</th>\n",
       "    </tr>\n",
       "  </thead>\n",
       "  <tbody>\n",
       "    <tr>\n",
       "      <th>2000-01-01</th>\n",
       "      <td>0</td>\n",
       "      <td>0.000000</td>\n",
       "      <td>0.000000</td>\n",
       "      <td>0.000000</td>\n",
       "      <td>0</td>\n",
       "    </tr>\n",
       "    <tr>\n",
       "      <th>2000-01-02</th>\n",
       "      <td>0</td>\n",
       "      <td>0.000000</td>\n",
       "      <td>0.000000</td>\n",
       "      <td>0.000000</td>\n",
       "      <td>0</td>\n",
       "    </tr>\n",
       "    <tr>\n",
       "      <th>2000-01-03</th>\n",
       "      <td>0</td>\n",
       "      <td>0.000000</td>\n",
       "      <td>0.000000</td>\n",
       "      <td>0.000000</td>\n",
       "      <td>0</td>\n",
       "    </tr>\n",
       "    <tr>\n",
       "      <th>2000-01-04</th>\n",
       "      <td>0</td>\n",
       "      <td>0.000000</td>\n",
       "      <td>0.000000</td>\n",
       "      <td>0.000000</td>\n",
       "      <td>0</td>\n",
       "    </tr>\n",
       "    <tr>\n",
       "      <th>2000-01-05</th>\n",
       "      <td>0</td>\n",
       "      <td>0.000000</td>\n",
       "      <td>0.000000</td>\n",
       "      <td>0.000000</td>\n",
       "      <td>0</td>\n",
       "    </tr>\n",
       "    <tr>\n",
       "      <th>2000-01-06</th>\n",
       "      <td>5</td>\n",
       "      <td>-0.581065</td>\n",
       "      <td>0.511260</td>\n",
       "      <td>-0.054996</td>\n",
       "      <td>5</td>\n",
       "    </tr>\n",
       "    <tr>\n",
       "      <th>2000-01-07</th>\n",
       "      <td>6</td>\n",
       "      <td>0.079982</td>\n",
       "      <td>-2.154764</td>\n",
       "      <td>-0.258879</td>\n",
       "      <td>6</td>\n",
       "    </tr>\n",
       "    <tr>\n",
       "      <th>2000-01-08</th>\n",
       "      <td>7</td>\n",
       "      <td>-0.963385</td>\n",
       "      <td>1.796046</td>\n",
       "      <td>-0.527062</td>\n",
       "      <td>7</td>\n",
       "    </tr>\n",
       "  </tbody>\n",
       "</table>\n",
       "</div>"
      ],
      "text/plain": [
       "            A         B         C         D  E\n",
       "2000-01-01  0  0.000000  0.000000  0.000000  0\n",
       "2000-01-02  0  0.000000  0.000000  0.000000  0\n",
       "2000-01-03  0  0.000000  0.000000  0.000000  0\n",
       "2000-01-04  0  0.000000  0.000000  0.000000  0\n",
       "2000-01-05  0  0.000000  0.000000  0.000000  0\n",
       "2000-01-06  5 -0.581065  0.511260 -0.054996  5\n",
       "2000-01-07  6  0.079982 -2.154764 -0.258879  6\n",
       "2000-01-08  7 -0.963385  1.796046 -0.527062  7"
      ]
     },
     "execution_count": 101,
     "metadata": {},
     "output_type": "execute_result"
    }
   ],
   "source": [
    "dfC=dfa.copy()           #Making Copying of DataFrame dfa\n",
    "dfC[:5]=0            #it will assign all value to 0 from (0,5)\n",
    "dfC"
   ]
  },
  {
   "cell_type": "markdown",
   "id": "c0e34cf4",
   "metadata": {
    "papermill": {
     "duration": 0.08133,
     "end_time": "2022-09-29T06:58:54.095270",
     "exception": false,
     "start_time": "2022-09-29T06:58:54.013940",
     "status": "completed"
    },
    "tags": []
   },
   "source": [
    "## Indexing and selecting data In DataFrame | Selection by label\n",
    "> ## ⚠️Warning\n",
    "> - Whether a copy or a reference is returned for a setting operation, may depend on the context. This is sometimes called chained assignment and should be avoided. \n",
    "\n",
    "> - See Returning a View versus Copy.\n",
    "https://pandas.pydata.org/docs/user_guide/indexing.html#indexing-view-versus-copy"
   ]
  },
  {
   "cell_type": "markdown",
   "id": "c75bdd46",
   "metadata": {
    "papermill": {
     "duration": 0.177798,
     "end_time": "2022-09-29T06:58:54.350351",
     "exception": false,
     "start_time": "2022-09-29T06:58:54.172553",
     "status": "completed"
    },
    "tags": []
   },
   "source": [
    "> ## ⚠️Warning\n",
    "> - .loc is strict when you present slicers that are not compatible (or convertible) with the index type. For example using integers in a DatetimeIndex. These will raise a TypeError."
   ]
  },
  {
   "cell_type": "code",
   "execution_count": 102,
   "id": "b8f765f5",
   "metadata": {
    "execution": {
     "iopub.execute_input": "2022-09-29T06:58:54.653907Z",
     "iopub.status.busy": "2022-09-29T06:58:54.653184Z",
     "iopub.status.idle": "2022-09-29T06:58:54.680139Z",
     "shell.execute_reply": "2022-09-29T06:58:54.678866Z"
    },
    "papermill": {
     "duration": 0.173437,
     "end_time": "2022-09-29T06:58:54.683604",
     "exception": false,
     "start_time": "2022-09-29T06:58:54.510167",
     "status": "completed"
    },
    "tags": []
   },
   "outputs": [
    {
     "data": {
      "text/html": [
       "<div>\n",
       "<style scoped>\n",
       "    .dataframe tbody tr th:only-of-type {\n",
       "        vertical-align: middle;\n",
       "    }\n",
       "\n",
       "    .dataframe tbody tr th {\n",
       "        vertical-align: top;\n",
       "    }\n",
       "\n",
       "    .dataframe thead th {\n",
       "        text-align: right;\n",
       "    }\n",
       "</style>\n",
       "<table border=\"1\" class=\"dataframe\">\n",
       "  <thead>\n",
       "    <tr style=\"text-align: right;\">\n",
       "      <th></th>\n",
       "      <th>A</th>\n",
       "      <th>B</th>\n",
       "      <th>C</th>\n",
       "      <th>D</th>\n",
       "    </tr>\n",
       "  </thead>\n",
       "  <tbody>\n",
       "    <tr>\n",
       "      <th>2013-01-01</th>\n",
       "      <td>-1.054201</td>\n",
       "      <td>0.262207</td>\n",
       "      <td>0.017356</td>\n",
       "      <td>1.184982</td>\n",
       "    </tr>\n",
       "    <tr>\n",
       "      <th>2013-01-02</th>\n",
       "      <td>-0.948840</td>\n",
       "      <td>0.167219</td>\n",
       "      <td>-0.504749</td>\n",
       "      <td>-0.875428</td>\n",
       "    </tr>\n",
       "    <tr>\n",
       "      <th>2013-01-03</th>\n",
       "      <td>-0.302926</td>\n",
       "      <td>-0.566981</td>\n",
       "      <td>-0.883208</td>\n",
       "      <td>0.368593</td>\n",
       "    </tr>\n",
       "    <tr>\n",
       "      <th>2013-01-04</th>\n",
       "      <td>-0.245086</td>\n",
       "      <td>-1.455097</td>\n",
       "      <td>-0.069832</td>\n",
       "      <td>0.286643</td>\n",
       "    </tr>\n",
       "    <tr>\n",
       "      <th>2013-01-05</th>\n",
       "      <td>-0.946779</td>\n",
       "      <td>0.397203</td>\n",
       "      <td>0.472970</td>\n",
       "      <td>0.420796</td>\n",
       "    </tr>\n",
       "  </tbody>\n",
       "</table>\n",
       "</div>"
      ],
      "text/plain": [
       "                   A         B         C         D\n",
       "2013-01-01 -1.054201  0.262207  0.017356  1.184982\n",
       "2013-01-02 -0.948840  0.167219 -0.504749 -0.875428\n",
       "2013-01-03 -0.302926 -0.566981 -0.883208  0.368593\n",
       "2013-01-04 -0.245086 -1.455097 -0.069832  0.286643\n",
       "2013-01-05 -0.946779  0.397203  0.472970  0.420796"
      ]
     },
     "execution_count": 102,
     "metadata": {},
     "output_type": "execute_result"
    }
   ],
   "source": [
    "                     #giving 2-D array\n",
    "    \n",
    "dfl = pd.DataFrame(np.random.randn(5, 4),       \n",
    "                   columns=list('ABCD'),\n",
    "                   index=pd.date_range('20130101', periods=5))\n",
    "dfl"
   ]
  },
  {
   "cell_type": "markdown",
   "id": "101d6d08",
   "metadata": {
    "execution": {
     "iopub.execute_input": "2022-09-25T05:24:56.677947Z",
     "iopub.status.busy": "2022-09-25T05:24:56.677417Z",
     "iopub.status.idle": "2022-09-25T05:24:56.766054Z",
     "shell.execute_reply": "2022-09-25T05:24:56.764202Z",
     "shell.execute_reply.started": "2022-09-25T05:24:56.677905Z"
    },
    "papermill": {
     "duration": 0.151848,
     "end_time": "2022-09-29T06:58:54.972546",
     "exception": false,
     "start_time": "2022-09-29T06:58:54.820698",
     "status": "completed"
    },
    "tags": []
   },
   "source": [
    "``` python\n",
    "dfl.loc[2:3]\n",
    "\n",
    "---------------------------------------------------------------------------\n",
    "TypeError                                 Traceback (most recent call last)\n",
    "/tmp/ipykernel_17/564008759.py in <module>\n",
    "----> 1 dfl.loc[2:3]\n",
    "\n",
    "\"all other error removed\"\n",
    "\n",
    "TypeError: cannot do slice indexing on DatetimeIndex with these indexers [2] of type int\n",
    "\n",
    "```"
   ]
  },
  {
   "cell_type": "code",
   "execution_count": 103,
   "id": "7471af60",
   "metadata": {
    "execution": {
     "iopub.execute_input": "2022-09-29T06:58:55.245291Z",
     "iopub.status.busy": "2022-09-29T06:58:55.244814Z",
     "iopub.status.idle": "2022-09-29T06:58:55.268604Z",
     "shell.execute_reply": "2022-09-29T06:58:55.267424Z"
    },
    "papermill": {
     "duration": 0.162908,
     "end_time": "2022-09-29T06:58:55.271870",
     "exception": false,
     "start_time": "2022-09-29T06:58:55.108962",
     "status": "completed"
    },
    "tags": []
   },
   "outputs": [
    {
     "data": {
      "text/html": [
       "<div>\n",
       "<style scoped>\n",
       "    .dataframe tbody tr th:only-of-type {\n",
       "        vertical-align: middle;\n",
       "    }\n",
       "\n",
       "    .dataframe tbody tr th {\n",
       "        vertical-align: top;\n",
       "    }\n",
       "\n",
       "    .dataframe thead th {\n",
       "        text-align: right;\n",
       "    }\n",
       "</style>\n",
       "<table border=\"1\" class=\"dataframe\">\n",
       "  <thead>\n",
       "    <tr style=\"text-align: right;\">\n",
       "      <th></th>\n",
       "      <th>A</th>\n",
       "      <th>B</th>\n",
       "      <th>C</th>\n",
       "      <th>D</th>\n",
       "    </tr>\n",
       "  </thead>\n",
       "  <tbody>\n",
       "    <tr>\n",
       "      <th>2013-01-02</th>\n",
       "      <td>-0.948840</td>\n",
       "      <td>0.167219</td>\n",
       "      <td>-0.504749</td>\n",
       "      <td>-0.875428</td>\n",
       "    </tr>\n",
       "    <tr>\n",
       "      <th>2013-01-03</th>\n",
       "      <td>-0.302926</td>\n",
       "      <td>-0.566981</td>\n",
       "      <td>-0.883208</td>\n",
       "      <td>0.368593</td>\n",
       "    </tr>\n",
       "    <tr>\n",
       "      <th>2013-01-04</th>\n",
       "      <td>-0.245086</td>\n",
       "      <td>-1.455097</td>\n",
       "      <td>-0.069832</td>\n",
       "      <td>0.286643</td>\n",
       "    </tr>\n",
       "  </tbody>\n",
       "</table>\n",
       "</div>"
      ],
      "text/plain": [
       "                   A         B         C         D\n",
       "2013-01-02 -0.948840  0.167219 -0.504749 -0.875428\n",
       "2013-01-03 -0.302926 -0.566981 -0.883208  0.368593\n",
       "2013-01-04 -0.245086 -1.455097 -0.069832  0.286643"
      ]
     },
     "execution_count": 103,
     "metadata": {},
     "output_type": "execute_result"
    }
   ],
   "source": [
    "dfl.loc['20130102':'20130104']      #right indexing for DateTime indeixng data "
   ]
  },
  {
   "cell_type": "markdown",
   "id": "bcf76c25",
   "metadata": {
    "papermill": {
     "duration": 0.137399,
     "end_time": "2022-09-29T06:58:55.554081",
     "exception": false,
     "start_time": "2022-09-29T06:58:55.416682",
     "status": "completed"
    },
    "tags": []
   },
   "source": [
    "- pandas provides a suite of methods in order to have **purely label based indexing.** This is a strict inclusion based protocol. Every label asked for must be in the index, or a **KeyError** will be raised. When slicing, both the start bound **AND** the stop bound are included, if present in the index. Integers are valid labels, but they refer to the label **and not the position.**\n",
    "\n",
    "- The .loc attribute is the primary access method. The following are valid inputs:\n",
    "\n",
    "    - A single label, e.g. 5 or 'a' (Note that 5 is interpreted as a label of the index. This use is not an integer position along the index.).\n",
    "    - A list or array of labels ['a', 'b', 'c'].\n",
    "    - A slice object with labels 'a':'f' (Note that contrary to usual Python slices, **both** the start and the stop are included, when present in the index! See Slicing with labels.\n",
    "    - A boolean array.\n",
    "    - A **callable**, see Selection By Callable."
   ]
  },
  {
   "cell_type": "code",
   "execution_count": 104,
   "id": "36247a83",
   "metadata": {
    "execution": {
     "iopub.execute_input": "2022-09-29T06:58:55.828476Z",
     "iopub.status.busy": "2022-09-29T06:58:55.828002Z",
     "iopub.status.idle": "2022-09-29T06:58:55.843578Z",
     "shell.execute_reply": "2022-09-29T06:58:55.842432Z"
    },
    "papermill": {
     "duration": 0.160834,
     "end_time": "2022-09-29T06:58:55.848614",
     "exception": false,
     "start_time": "2022-09-29T06:58:55.687780",
     "status": "completed"
    },
    "tags": []
   },
   "outputs": [
    {
     "data": {
      "text/plain": [
       "a   -0.609565\n",
       "b   -0.145213\n",
       "c    0.618006\n",
       "d   -1.785174\n",
       "e   -0.785868\n",
       "f    1.651041\n",
       "dtype: float64"
      ]
     },
     "execution_count": 104,
     "metadata": {},
     "output_type": "execute_result"
    }
   ],
   "source": [
    "s1 = pd.Series(np.random.randn(6), index=list('abcdef')) #creating Series s1\n",
    "s1              #printing s1"
   ]
  },
  {
   "cell_type": "code",
   "execution_count": 105,
   "id": "f283b288",
   "metadata": {
    "execution": {
     "iopub.execute_input": "2022-09-29T06:58:56.035669Z",
     "iopub.status.busy": "2022-09-29T06:58:56.035222Z",
     "iopub.status.idle": "2022-09-29T06:58:56.044772Z",
     "shell.execute_reply": "2022-09-29T06:58:56.043429Z"
    },
    "papermill": {
     "duration": 0.092774,
     "end_time": "2022-09-29T06:58:56.047777",
     "exception": false,
     "start_time": "2022-09-29T06:58:55.955003",
     "status": "completed"
    },
    "tags": []
   },
   "outputs": [
    {
     "data": {
      "text/plain": [
       "d   -1.785174\n",
       "e   -0.785868\n",
       "f    1.651041\n",
       "dtype: float64"
      ]
     },
     "execution_count": 105,
     "metadata": {},
     "output_type": "execute_result"
    }
   ],
   "source": [
    "s1[3:]        #By indexing "
   ]
  },
  {
   "cell_type": "code",
   "execution_count": 106,
   "id": "77cae07a",
   "metadata": {
    "execution": {
     "iopub.execute_input": "2022-09-29T06:58:56.231830Z",
     "iopub.status.busy": "2022-09-29T06:58:56.231365Z",
     "iopub.status.idle": "2022-09-29T06:58:56.240308Z",
     "shell.execute_reply": "2022-09-29T06:58:56.239002Z"
    },
    "papermill": {
     "duration": 0.117404,
     "end_time": "2022-09-29T06:58:56.243070",
     "exception": false,
     "start_time": "2022-09-29T06:58:56.125666",
     "status": "completed"
    },
    "tags": []
   },
   "outputs": [
    {
     "data": {
      "text/plain": [
       "c    0.618006\n",
       "d   -1.785174\n",
       "e   -0.785868\n",
       "f    1.651041\n",
       "dtype: float64"
      ]
     },
     "execution_count": 106,
     "metadata": {},
     "output_type": "execute_result"
    }
   ],
   "source": [
    "s1[\"c\":]      #by indexing label "
   ]
  },
  {
   "cell_type": "code",
   "execution_count": 107,
   "id": "2c75e02e",
   "metadata": {
    "execution": {
     "iopub.execute_input": "2022-09-29T06:58:56.401629Z",
     "iopub.status.busy": "2022-09-29T06:58:56.401210Z",
     "iopub.status.idle": "2022-09-29T06:58:56.412840Z",
     "shell.execute_reply": "2022-09-29T06:58:56.411373Z"
    },
    "papermill": {
     "duration": 0.096042,
     "end_time": "2022-09-29T06:58:56.415862",
     "exception": false,
     "start_time": "2022-09-29T06:58:56.319820",
     "status": "completed"
    },
    "tags": []
   },
   "outputs": [
    {
     "data": {
      "text/plain": [
       "c    0.618006\n",
       "d   -1.785174\n",
       "e   -0.785868\n",
       "f    1.651041\n",
       "dtype: float64"
      ]
     },
     "execution_count": 107,
     "metadata": {},
     "output_type": "execute_result"
    }
   ],
   "source": [
    "s1.loc['c':]      #asscessing by label "
   ]
  },
  {
   "cell_type": "code",
   "execution_count": 108,
   "id": "b8da6d64",
   "metadata": {
    "execution": {
     "iopub.execute_input": "2022-09-29T06:58:56.582021Z",
     "iopub.status.busy": "2022-09-29T06:58:56.579837Z",
     "iopub.status.idle": "2022-09-29T06:58:56.590697Z",
     "shell.execute_reply": "2022-09-29T06:58:56.589261Z"
    },
    "papermill": {
     "duration": 0.096955,
     "end_time": "2022-09-29T06:58:56.593446",
     "exception": false,
     "start_time": "2022-09-29T06:58:56.496491",
     "status": "completed"
    },
    "tags": []
   },
   "outputs": [
    {
     "data": {
      "text/plain": [
       "a   -0.609565\n",
       "b   -0.145213\n",
       "c    0.000000\n",
       "d    0.000000\n",
       "e    0.000000\n",
       "f    0.000000\n",
       "dtype: float64"
      ]
     },
     "execution_count": 108,
     "metadata": {},
     "output_type": "execute_result"
    }
   ],
   "source": [
    "s1.loc['c':] = 0    #Assinging value to Series\n",
    "s1"
   ]
  },
  {
   "cell_type": "markdown",
   "id": "d17f89f9",
   "metadata": {
    "papermill": {
     "duration": 0.081388,
     "end_time": "2022-09-29T06:58:56.755794",
     "exception": false,
     "start_time": "2022-09-29T06:58:56.674406",
     "status": "completed"
    },
    "tags": []
   },
   "source": [
    "**With DataFrame**"
   ]
  },
  {
   "cell_type": "code",
   "execution_count": 109,
   "id": "0b8ba50f",
   "metadata": {
    "execution": {
     "iopub.execute_input": "2022-09-29T06:58:56.970454Z",
     "iopub.status.busy": "2022-09-29T06:58:56.970048Z",
     "iopub.status.idle": "2022-09-29T06:58:56.987091Z",
     "shell.execute_reply": "2022-09-29T06:58:56.985725Z"
    },
    "papermill": {
     "duration": 0.141571,
     "end_time": "2022-09-29T06:58:56.990035",
     "exception": false,
     "start_time": "2022-09-29T06:58:56.848464",
     "status": "completed"
    },
    "tags": []
   },
   "outputs": [
    {
     "data": {
      "text/html": [
       "<div>\n",
       "<style scoped>\n",
       "    .dataframe tbody tr th:only-of-type {\n",
       "        vertical-align: middle;\n",
       "    }\n",
       "\n",
       "    .dataframe tbody tr th {\n",
       "        vertical-align: top;\n",
       "    }\n",
       "\n",
       "    .dataframe thead th {\n",
       "        text-align: right;\n",
       "    }\n",
       "</style>\n",
       "<table border=\"1\" class=\"dataframe\">\n",
       "  <thead>\n",
       "    <tr style=\"text-align: right;\">\n",
       "      <th></th>\n",
       "      <th>A</th>\n",
       "      <th>B</th>\n",
       "      <th>C</th>\n",
       "      <th>D</th>\n",
       "    </tr>\n",
       "  </thead>\n",
       "  <tbody>\n",
       "    <tr>\n",
       "      <th>a</th>\n",
       "      <td>-0.099682</td>\n",
       "      <td>-0.118889</td>\n",
       "      <td>0.798097</td>\n",
       "      <td>-1.448134</td>\n",
       "    </tr>\n",
       "    <tr>\n",
       "      <th>b</th>\n",
       "      <td>-0.531863</td>\n",
       "      <td>-1.570286</td>\n",
       "      <td>-2.059052</td>\n",
       "      <td>-0.650924</td>\n",
       "    </tr>\n",
       "    <tr>\n",
       "      <th>c</th>\n",
       "      <td>-0.564267</td>\n",
       "      <td>-0.890454</td>\n",
       "      <td>-0.089760</td>\n",
       "      <td>-2.069567</td>\n",
       "    </tr>\n",
       "    <tr>\n",
       "      <th>d</th>\n",
       "      <td>0.113123</td>\n",
       "      <td>-0.288419</td>\n",
       "      <td>-0.252913</td>\n",
       "      <td>-0.215305</td>\n",
       "    </tr>\n",
       "    <tr>\n",
       "      <th>e</th>\n",
       "      <td>-0.872578</td>\n",
       "      <td>-1.212123</td>\n",
       "      <td>-0.281294</td>\n",
       "      <td>-1.009007</td>\n",
       "    </tr>\n",
       "    <tr>\n",
       "      <th>f</th>\n",
       "      <td>0.689477</td>\n",
       "      <td>0.283139</td>\n",
       "      <td>0.449175</td>\n",
       "      <td>-0.933471</td>\n",
       "    </tr>\n",
       "  </tbody>\n",
       "</table>\n",
       "</div>"
      ],
      "text/plain": [
       "          A         B         C         D\n",
       "a -0.099682 -0.118889  0.798097 -1.448134\n",
       "b -0.531863 -1.570286 -2.059052 -0.650924\n",
       "c -0.564267 -0.890454 -0.089760 -2.069567\n",
       "d  0.113123 -0.288419 -0.252913 -0.215305\n",
       "e -0.872578 -1.212123 -0.281294 -1.009007\n",
       "f  0.689477  0.283139  0.449175 -0.933471"
      ]
     },
     "execution_count": 109,
     "metadata": {},
     "output_type": "execute_result"
    }
   ],
   "source": [
    "df1 = pd.DataFrame(np.random.randn(6, 4),\n",
    "                   index=list('abcdef'),\n",
    "                   columns=list('ABCD'))\n",
    "df1"
   ]
  },
  {
   "cell_type": "code",
   "execution_count": 110,
   "id": "be8e4bc9",
   "metadata": {
    "execution": {
     "iopub.execute_input": "2022-09-29T06:58:57.161689Z",
     "iopub.status.busy": "2022-09-29T06:58:57.161251Z",
     "iopub.status.idle": "2022-09-29T06:58:57.175370Z",
     "shell.execute_reply": "2022-09-29T06:58:57.174019Z"
    },
    "papermill": {
     "duration": 0.093893,
     "end_time": "2022-09-29T06:58:57.178524",
     "exception": false,
     "start_time": "2022-09-29T06:58:57.084631",
     "status": "completed"
    },
    "tags": []
   },
   "outputs": [
    {
     "data": {
      "text/html": [
       "<div>\n",
       "<style scoped>\n",
       "    .dataframe tbody tr th:only-of-type {\n",
       "        vertical-align: middle;\n",
       "    }\n",
       "\n",
       "    .dataframe tbody tr th {\n",
       "        vertical-align: top;\n",
       "    }\n",
       "\n",
       "    .dataframe thead th {\n",
       "        text-align: right;\n",
       "    }\n",
       "</style>\n",
       "<table border=\"1\" class=\"dataframe\">\n",
       "  <thead>\n",
       "    <tr style=\"text-align: right;\">\n",
       "      <th></th>\n",
       "      <th>A</th>\n",
       "      <th>B</th>\n",
       "      <th>C</th>\n",
       "      <th>D</th>\n",
       "    </tr>\n",
       "  </thead>\n",
       "  <tbody>\n",
       "    <tr>\n",
       "      <th>d</th>\n",
       "      <td>0.113123</td>\n",
       "      <td>-0.288419</td>\n",
       "      <td>-0.252913</td>\n",
       "      <td>-0.215305</td>\n",
       "    </tr>\n",
       "    <tr>\n",
       "      <th>e</th>\n",
       "      <td>-0.872578</td>\n",
       "      <td>-1.212123</td>\n",
       "      <td>-0.281294</td>\n",
       "      <td>-1.009007</td>\n",
       "    </tr>\n",
       "    <tr>\n",
       "      <th>f</th>\n",
       "      <td>0.689477</td>\n",
       "      <td>0.283139</td>\n",
       "      <td>0.449175</td>\n",
       "      <td>-0.933471</td>\n",
       "    </tr>\n",
       "  </tbody>\n",
       "</table>\n",
       "</div>"
      ],
      "text/plain": [
       "          A         B         C         D\n",
       "d  0.113123 -0.288419 -0.252913 -0.215305\n",
       "e -0.872578 -1.212123 -0.281294 -1.009007\n",
       "f  0.689477  0.283139  0.449175 -0.933471"
      ]
     },
     "execution_count": 110,
     "metadata": {},
     "output_type": "execute_result"
    }
   ],
   "source": [
    "df1[3:]"
   ]
  },
  {
   "cell_type": "code",
   "execution_count": 111,
   "id": "c0cdc7d3",
   "metadata": {
    "execution": {
     "iopub.execute_input": "2022-09-29T06:58:57.328062Z",
     "iopub.status.busy": "2022-09-29T06:58:57.327623Z",
     "iopub.status.idle": "2022-09-29T06:58:57.342007Z",
     "shell.execute_reply": "2022-09-29T06:58:57.340545Z"
    },
    "papermill": {
     "duration": 0.092327,
     "end_time": "2022-09-29T06:58:57.344808",
     "exception": false,
     "start_time": "2022-09-29T06:58:57.252481",
     "status": "completed"
    },
    "tags": []
   },
   "outputs": [
    {
     "data": {
      "text/html": [
       "<div>\n",
       "<style scoped>\n",
       "    .dataframe tbody tr th:only-of-type {\n",
       "        vertical-align: middle;\n",
       "    }\n",
       "\n",
       "    .dataframe tbody tr th {\n",
       "        vertical-align: top;\n",
       "    }\n",
       "\n",
       "    .dataframe thead th {\n",
       "        text-align: right;\n",
       "    }\n",
       "</style>\n",
       "<table border=\"1\" class=\"dataframe\">\n",
       "  <thead>\n",
       "    <tr style=\"text-align: right;\">\n",
       "      <th></th>\n",
       "      <th>A</th>\n",
       "      <th>B</th>\n",
       "      <th>C</th>\n",
       "      <th>D</th>\n",
       "    </tr>\n",
       "  </thead>\n",
       "  <tbody>\n",
       "    <tr>\n",
       "      <th>c</th>\n",
       "      <td>-0.564267</td>\n",
       "      <td>-0.890454</td>\n",
       "      <td>-0.089760</td>\n",
       "      <td>-2.069567</td>\n",
       "    </tr>\n",
       "    <tr>\n",
       "      <th>d</th>\n",
       "      <td>0.113123</td>\n",
       "      <td>-0.288419</td>\n",
       "      <td>-0.252913</td>\n",
       "      <td>-0.215305</td>\n",
       "    </tr>\n",
       "    <tr>\n",
       "      <th>e</th>\n",
       "      <td>-0.872578</td>\n",
       "      <td>-1.212123</td>\n",
       "      <td>-0.281294</td>\n",
       "      <td>-1.009007</td>\n",
       "    </tr>\n",
       "    <tr>\n",
       "      <th>f</th>\n",
       "      <td>0.689477</td>\n",
       "      <td>0.283139</td>\n",
       "      <td>0.449175</td>\n",
       "      <td>-0.933471</td>\n",
       "    </tr>\n",
       "  </tbody>\n",
       "</table>\n",
       "</div>"
      ],
      "text/plain": [
       "          A         B         C         D\n",
       "c -0.564267 -0.890454 -0.089760 -2.069567\n",
       "d  0.113123 -0.288419 -0.252913 -0.215305\n",
       "e -0.872578 -1.212123 -0.281294 -1.009007\n",
       "f  0.689477  0.283139  0.449175 -0.933471"
      ]
     },
     "execution_count": 111,
     "metadata": {},
     "output_type": "execute_result"
    }
   ],
   "source": [
    "df1[\"c\":]"
   ]
  },
  {
   "cell_type": "code",
   "execution_count": 112,
   "id": "ad9e76f9",
   "metadata": {
    "execution": {
     "iopub.execute_input": "2022-09-29T06:58:57.500081Z",
     "iopub.status.busy": "2022-09-29T06:58:57.498948Z",
     "iopub.status.idle": "2022-09-29T06:58:57.508900Z",
     "shell.execute_reply": "2022-09-29T06:58:57.507439Z"
    },
    "papermill": {
     "duration": 0.090272,
     "end_time": "2022-09-29T06:58:57.511342",
     "exception": false,
     "start_time": "2022-09-29T06:58:57.421070",
     "status": "completed"
    },
    "tags": []
   },
   "outputs": [
    {
     "data": {
      "text/plain": [
       "A   -0.099682\n",
       "B   -0.118889\n",
       "C    0.798097\n",
       "D   -1.448134\n",
       "Name: a, dtype: float64"
      ]
     },
     "execution_count": 112,
     "metadata": {},
     "output_type": "execute_result"
    }
   ],
   "source": [
    "df1.loc[\"a\"] #value of column a only #For getting a cross section using a label (equivalent to df.xs('a')):"
   ]
  },
  {
   "cell_type": "code",
   "execution_count": 113,
   "id": "b5d60d9e",
   "metadata": {
    "execution": {
     "iopub.execute_input": "2022-09-29T06:58:57.660639Z",
     "iopub.status.busy": "2022-09-29T06:58:57.660248Z",
     "iopub.status.idle": "2022-09-29T06:58:57.669153Z",
     "shell.execute_reply": "2022-09-29T06:58:57.667862Z"
    },
    "papermill": {
     "duration": 0.086773,
     "end_time": "2022-09-29T06:58:57.672589",
     "exception": false,
     "start_time": "2022-09-29T06:58:57.585816",
     "status": "completed"
    },
    "tags": []
   },
   "outputs": [
    {
     "data": {
      "text/plain": [
       "A   -0.099682\n",
       "B   -0.118889\n",
       "C    0.798097\n",
       "D   -1.448134\n",
       "Name: a, dtype: float64"
      ]
     },
     "execution_count": 113,
     "metadata": {},
     "output_type": "execute_result"
    }
   ],
   "source": [
    "df1.xs('a')  #Both are same df1.loc[\"a\"]"
   ]
  },
  {
   "cell_type": "code",
   "execution_count": 114,
   "id": "a77c0d1e",
   "metadata": {
    "execution": {
     "iopub.execute_input": "2022-09-29T06:58:57.826310Z",
     "iopub.status.busy": "2022-09-29T06:58:57.825929Z",
     "iopub.status.idle": "2022-09-29T06:58:57.841034Z",
     "shell.execute_reply": "2022-09-29T06:58:57.839716Z"
    },
    "papermill": {
     "duration": 0.095449,
     "end_time": "2022-09-29T06:58:57.843560",
     "exception": false,
     "start_time": "2022-09-29T06:58:57.748111",
     "status": "completed"
    },
    "tags": []
   },
   "outputs": [
    {
     "data": {
      "text/html": [
       "<div>\n",
       "<style scoped>\n",
       "    .dataframe tbody tr th:only-of-type {\n",
       "        vertical-align: middle;\n",
       "    }\n",
       "\n",
       "    .dataframe tbody tr th {\n",
       "        vertical-align: top;\n",
       "    }\n",
       "\n",
       "    .dataframe thead th {\n",
       "        text-align: right;\n",
       "    }\n",
       "</style>\n",
       "<table border=\"1\" class=\"dataframe\">\n",
       "  <thead>\n",
       "    <tr style=\"text-align: right;\">\n",
       "      <th></th>\n",
       "      <th>A</th>\n",
       "      <th>B</th>\n",
       "      <th>C</th>\n",
       "      <th>D</th>\n",
       "    </tr>\n",
       "  </thead>\n",
       "  <tbody>\n",
       "    <tr>\n",
       "      <th>a</th>\n",
       "      <td>-0.099682</td>\n",
       "      <td>-0.118889</td>\n",
       "      <td>0.798097</td>\n",
       "      <td>-1.448134</td>\n",
       "    </tr>\n",
       "    <tr>\n",
       "      <th>c</th>\n",
       "      <td>-0.564267</td>\n",
       "      <td>-0.890454</td>\n",
       "      <td>-0.089760</td>\n",
       "      <td>-2.069567</td>\n",
       "    </tr>\n",
       "    <tr>\n",
       "      <th>d</th>\n",
       "      <td>0.113123</td>\n",
       "      <td>-0.288419</td>\n",
       "      <td>-0.252913</td>\n",
       "      <td>-0.215305</td>\n",
       "    </tr>\n",
       "  </tbody>\n",
       "</table>\n",
       "</div>"
      ],
      "text/plain": [
       "          A         B         C         D\n",
       "a -0.099682 -0.118889  0.798097 -1.448134\n",
       "c -0.564267 -0.890454 -0.089760 -2.069567\n",
       "d  0.113123 -0.288419 -0.252913 -0.215305"
      ]
     },
     "execution_count": 114,
     "metadata": {},
     "output_type": "execute_result"
    }
   ],
   "source": [
    "df1.loc[[\"a\",\"c\",\"d\"]]"
   ]
  },
  {
   "cell_type": "code",
   "execution_count": 115,
   "id": "e5716d0d",
   "metadata": {
    "execution": {
     "iopub.execute_input": "2022-09-29T06:58:57.993095Z",
     "iopub.status.busy": "2022-09-29T06:58:57.992686Z",
     "iopub.status.idle": "2022-09-29T06:58:58.007514Z",
     "shell.execute_reply": "2022-09-29T06:58:58.005957Z"
    },
    "papermill": {
     "duration": 0.092815,
     "end_time": "2022-09-29T06:58:58.010414",
     "exception": false,
     "start_time": "2022-09-29T06:58:57.917599",
     "status": "completed"
    },
    "tags": []
   },
   "outputs": [
    {
     "data": {
      "text/html": [
       "<div>\n",
       "<style scoped>\n",
       "    .dataframe tbody tr th:only-of-type {\n",
       "        vertical-align: middle;\n",
       "    }\n",
       "\n",
       "    .dataframe tbody tr th {\n",
       "        vertical-align: top;\n",
       "    }\n",
       "\n",
       "    .dataframe thead th {\n",
       "        text-align: right;\n",
       "    }\n",
       "</style>\n",
       "<table border=\"1\" class=\"dataframe\">\n",
       "  <thead>\n",
       "    <tr style=\"text-align: right;\">\n",
       "      <th></th>\n",
       "      <th>A</th>\n",
       "      <th>B</th>\n",
       "      <th>C</th>\n",
       "      <th>D</th>\n",
       "    </tr>\n",
       "  </thead>\n",
       "  <tbody>\n",
       "    <tr>\n",
       "      <th>a</th>\n",
       "      <td>-0.099682</td>\n",
       "      <td>-0.118889</td>\n",
       "      <td>0.798097</td>\n",
       "      <td>-1.448134</td>\n",
       "    </tr>\n",
       "    <tr>\n",
       "      <th>c</th>\n",
       "      <td>-0.564267</td>\n",
       "      <td>-0.890454</td>\n",
       "      <td>-0.089760</td>\n",
       "      <td>-2.069567</td>\n",
       "    </tr>\n",
       "    <tr>\n",
       "      <th>d</th>\n",
       "      <td>0.113123</td>\n",
       "      <td>-0.288419</td>\n",
       "      <td>-0.252913</td>\n",
       "      <td>-0.215305</td>\n",
       "    </tr>\n",
       "  </tbody>\n",
       "</table>\n",
       "</div>"
      ],
      "text/plain": [
       "          A         B         C         D\n",
       "a -0.099682 -0.118889  0.798097 -1.448134\n",
       "c -0.564267 -0.890454 -0.089760 -2.069567\n",
       "d  0.113123 -0.288419 -0.252913 -0.215305"
      ]
     },
     "execution_count": 115,
     "metadata": {},
     "output_type": "execute_result"
    }
   ],
   "source": [
    "df1.loc[[\"a\",\"c\",\"d\"],:]     #Before \",\" rows and after \",\" Colummns "
   ]
  },
  {
   "cell_type": "code",
   "execution_count": 116,
   "id": "18e5472f",
   "metadata": {
    "execution": {
     "iopub.execute_input": "2022-09-29T06:58:58.158647Z",
     "iopub.status.busy": "2022-09-29T06:58:58.158310Z",
     "iopub.status.idle": "2022-09-29T06:58:58.171110Z",
     "shell.execute_reply": "2022-09-29T06:58:58.169832Z"
    },
    "papermill": {
     "duration": 0.08908,
     "end_time": "2022-09-29T06:58:58.173732",
     "exception": false,
     "start_time": "2022-09-29T06:58:58.084652",
     "status": "completed"
    },
    "tags": []
   },
   "outputs": [
    {
     "data": {
      "text/html": [
       "<div>\n",
       "<style scoped>\n",
       "    .dataframe tbody tr th:only-of-type {\n",
       "        vertical-align: middle;\n",
       "    }\n",
       "\n",
       "    .dataframe tbody tr th {\n",
       "        vertical-align: top;\n",
       "    }\n",
       "\n",
       "    .dataframe thead th {\n",
       "        text-align: right;\n",
       "    }\n",
       "</style>\n",
       "<table border=\"1\" class=\"dataframe\">\n",
       "  <thead>\n",
       "    <tr style=\"text-align: right;\">\n",
       "      <th></th>\n",
       "      <th>A</th>\n",
       "      <th>B</th>\n",
       "    </tr>\n",
       "  </thead>\n",
       "  <tbody>\n",
       "    <tr>\n",
       "      <th>a</th>\n",
       "      <td>-0.099682</td>\n",
       "      <td>-0.118889</td>\n",
       "    </tr>\n",
       "    <tr>\n",
       "      <th>c</th>\n",
       "      <td>-0.564267</td>\n",
       "      <td>-0.890454</td>\n",
       "    </tr>\n",
       "    <tr>\n",
       "      <th>d</th>\n",
       "      <td>0.113123</td>\n",
       "      <td>-0.288419</td>\n",
       "    </tr>\n",
       "  </tbody>\n",
       "</table>\n",
       "</div>"
      ],
      "text/plain": [
       "          A         B\n",
       "a -0.099682 -0.118889\n",
       "c -0.564267 -0.890454\n",
       "d  0.113123 -0.288419"
      ]
     },
     "execution_count": 116,
     "metadata": {},
     "output_type": "execute_result"
    }
   ],
   "source": [
    "df1.loc[[\"a\",\"c\",\"d\"],\"A\":\"B\"]"
   ]
  },
  {
   "cell_type": "code",
   "execution_count": 117,
   "id": "5b98fc79",
   "metadata": {
    "execution": {
     "iopub.execute_input": "2022-09-29T06:58:58.324583Z",
     "iopub.status.busy": "2022-09-29T06:58:58.324179Z",
     "iopub.status.idle": "2022-09-29T06:58:58.336899Z",
     "shell.execute_reply": "2022-09-29T06:58:58.335496Z"
    },
    "papermill": {
     "duration": 0.091682,
     "end_time": "2022-09-29T06:58:58.339500",
     "exception": false,
     "start_time": "2022-09-29T06:58:58.247818",
     "status": "completed"
    },
    "tags": []
   },
   "outputs": [
    {
     "data": {
      "text/html": [
       "<div>\n",
       "<style scoped>\n",
       "    .dataframe tbody tr th:only-of-type {\n",
       "        vertical-align: middle;\n",
       "    }\n",
       "\n",
       "    .dataframe tbody tr th {\n",
       "        vertical-align: top;\n",
       "    }\n",
       "\n",
       "    .dataframe thead th {\n",
       "        text-align: right;\n",
       "    }\n",
       "</style>\n",
       "<table border=\"1\" class=\"dataframe\">\n",
       "  <thead>\n",
       "    <tr style=\"text-align: right;\">\n",
       "      <th></th>\n",
       "      <th>C</th>\n",
       "      <th>D</th>\n",
       "    </tr>\n",
       "  </thead>\n",
       "  <tbody>\n",
       "    <tr>\n",
       "      <th>d</th>\n",
       "      <td>-0.252913</td>\n",
       "      <td>-0.215305</td>\n",
       "    </tr>\n",
       "    <tr>\n",
       "      <th>e</th>\n",
       "      <td>-0.281294</td>\n",
       "      <td>-1.009007</td>\n",
       "    </tr>\n",
       "    <tr>\n",
       "      <th>f</th>\n",
       "      <td>0.449175</td>\n",
       "      <td>-0.933471</td>\n",
       "    </tr>\n",
       "  </tbody>\n",
       "</table>\n",
       "</div>"
      ],
      "text/plain": [
       "          C         D\n",
       "d -0.252913 -0.215305\n",
       "e -0.281294 -1.009007\n",
       "f  0.449175 -0.933471"
      ]
     },
     "execution_count": 117,
     "metadata": {},
     "output_type": "execute_result"
    }
   ],
   "source": [
    "df1.loc['d':,\"C\":\"D\"]"
   ]
  },
  {
   "cell_type": "code",
   "execution_count": 118,
   "id": "3209ea58",
   "metadata": {
    "execution": {
     "iopub.execute_input": "2022-09-29T06:58:58.494915Z",
     "iopub.status.busy": "2022-09-29T06:58:58.494199Z",
     "iopub.status.idle": "2022-09-29T06:58:58.504991Z",
     "shell.execute_reply": "2022-09-29T06:58:58.503459Z"
    },
    "papermill": {
     "duration": 0.092392,
     "end_time": "2022-09-29T06:58:58.508004",
     "exception": false,
     "start_time": "2022-09-29T06:58:58.415612",
     "status": "completed"
    },
    "tags": []
   },
   "outputs": [
    {
     "data": {
      "text/plain": [
       "A    False\n",
       "B    False\n",
       "C     True\n",
       "D    False\n",
       "Name: a, dtype: bool"
      ]
     },
     "execution_count": 118,
     "metadata": {},
     "output_type": "execute_result"
    }
   ],
   "source": [
    "df1.loc['a'] > 0"
   ]
  },
  {
   "cell_type": "markdown",
   "id": "f49e0aea",
   "metadata": {
    "papermill": {
     "duration": 0.073727,
     "end_time": "2022-09-29T06:58:58.657119",
     "exception": false,
     "start_time": "2022-09-29T06:58:58.583392",
     "status": "completed"
    },
    "tags": []
   },
   "source": []
  },
  {
   "cell_type": "markdown",
   "id": "57e7f2cf",
   "metadata": {
    "papermill": {
     "duration": 0.07577,
     "end_time": "2022-09-29T06:58:58.808563",
     "exception": false,
     "start_time": "2022-09-29T06:58:58.732793",
     "status": "completed"
    },
    "tags": []
   },
   "source": [
    "### Selection by label | Slicing with labels :\n",
    "- When using .loc with slices, if both the start and the stop labels are present in the index, then elements located between the two (including them) are returned:"
   ]
  },
  {
   "cell_type": "code",
   "execution_count": 119,
   "id": "a5c49495",
   "metadata": {
    "execution": {
     "iopub.execute_input": "2022-09-29T06:58:58.960000Z",
     "iopub.status.busy": "2022-09-29T06:58:58.958729Z",
     "iopub.status.idle": "2022-09-29T06:58:58.969628Z",
     "shell.execute_reply": "2022-09-29T06:58:58.968198Z"
    },
    "papermill": {
     "duration": 0.091462,
     "end_time": "2022-09-29T06:58:58.972517",
     "exception": false,
     "start_time": "2022-09-29T06:58:58.881055",
     "status": "completed"
    },
    "tags": []
   },
   "outputs": [
    {
     "data": {
      "text/plain": [
       "0    a\n",
       "3    b\n",
       "2    c\n",
       "5    d\n",
       "4    e\n",
       "dtype: object"
      ]
     },
     "execution_count": 119,
     "metadata": {},
     "output_type": "execute_result"
    }
   ],
   "source": [
    "s = pd.Series(list('abcde'), index=[0, 3, 2, 5, 4]) #Value of s by not sorted index\n",
    "s"
   ]
  },
  {
   "cell_type": "code",
   "execution_count": 120,
   "id": "52b4a20d",
   "metadata": {
    "execution": {
     "iopub.execute_input": "2022-09-29T06:58:59.124611Z",
     "iopub.status.busy": "2022-09-29T06:58:59.123457Z",
     "iopub.status.idle": "2022-09-29T06:58:59.133493Z",
     "shell.execute_reply": "2022-09-29T06:58:59.132127Z"
    },
    "papermill": {
     "duration": 0.086183,
     "end_time": "2022-09-29T06:58:59.136057",
     "exception": false,
     "start_time": "2022-09-29T06:58:59.049874",
     "status": "completed"
    },
    "tags": []
   },
   "outputs": [
    {
     "data": {
      "text/plain": [
       "3    b\n",
       "2    c\n",
       "5    d\n",
       "dtype: object"
      ]
     },
     "execution_count": 120,
     "metadata": {},
     "output_type": "execute_result"
    }
   ],
   "source": [
    "s.loc[3:5]   # returned value fall between this 3 to 5 index"
   ]
  },
  {
   "cell_type": "markdown",
   "id": "dbba70f5",
   "metadata": {
    "papermill": {
     "duration": 0.073798,
     "end_time": "2022-09-29T06:58:59.284382",
     "exception": false,
     "start_time": "2022-09-29T06:58:59.210584",
     "status": "completed"
    },
    "tags": []
   },
   "source": [
    "If at least one of the two is absent, but the index is sorted, and can be compared against start and stop labels, then slicing will still work as expected, by selecting labels which rank between the two:"
   ]
  },
  {
   "cell_type": "code",
   "execution_count": 121,
   "id": "e71958a6",
   "metadata": {
    "execution": {
     "iopub.execute_input": "2022-09-29T06:58:59.438431Z",
     "iopub.status.busy": "2022-09-29T06:58:59.437219Z",
     "iopub.status.idle": "2022-09-29T06:58:59.448111Z",
     "shell.execute_reply": "2022-09-29T06:58:59.446720Z"
    },
    "papermill": {
     "duration": 0.091764,
     "end_time": "2022-09-29T06:58:59.450834",
     "exception": false,
     "start_time": "2022-09-29T06:58:59.359070",
     "status": "completed"
    },
    "tags": []
   },
   "outputs": [
    {
     "data": {
      "text/plain": [
       "0    a\n",
       "2    c\n",
       "3    b\n",
       "4    e\n",
       "5    d\n",
       "dtype: object"
      ]
     },
     "execution_count": 121,
     "metadata": {},
     "output_type": "execute_result"
    }
   ],
   "source": [
    "s.sort_index()  #sorting value here by index"
   ]
  },
  {
   "cell_type": "code",
   "execution_count": 122,
   "id": "e3ddc1f0",
   "metadata": {
    "execution": {
     "iopub.execute_input": "2022-09-29T06:58:59.604272Z",
     "iopub.status.busy": "2022-09-29T06:58:59.603074Z",
     "iopub.status.idle": "2022-09-29T06:58:59.613638Z",
     "shell.execute_reply": "2022-09-29T06:58:59.612078Z"
    },
    "papermill": {
     "duration": 0.089813,
     "end_time": "2022-09-29T06:58:59.616245",
     "exception": false,
     "start_time": "2022-09-29T06:58:59.526432",
     "status": "completed"
    },
    "tags": []
   },
   "outputs": [
    {
     "data": {
      "text/plain": [
       "3    b\n",
       "4    e\n",
       "5    d\n",
       "dtype: object"
      ]
     },
     "execution_count": 122,
     "metadata": {},
     "output_type": "execute_result"
    }
   ],
   "source": [
    "s.sort_index().loc[3:5]  #after sorting the values "
   ]
  },
  {
   "cell_type": "markdown",
   "id": "ef776a92",
   "metadata": {
    "papermill": {
     "duration": 0.076538,
     "end_time": "2022-09-29T06:58:59.766856",
     "exception": false,
     "start_time": "2022-09-29T06:58:59.690318",
     "status": "completed"
    },
    "tags": []
   },
   "source": [
    ">However, if at least one of the two is absent and the index is not sorted, an error will be raised (since doing otherwise would be computationally expensive, as well as potentially ambiguous for mixed type indexes). For instance, in the above example, s.loc[1:6] would raise KeyError.\n",
    "\n",
    "For the rationale behind this behavior, see Endpoints are inclusive."
   ]
  },
  {
   "cell_type": "markdown",
   "id": "f9258b4d",
   "metadata": {
    "execution": {
     "iopub.execute_input": "2022-09-25T07:28:29.276477Z",
     "iopub.status.busy": "2022-09-25T07:28:29.276038Z",
     "iopub.status.idle": "2022-09-25T07:28:29.308607Z",
     "shell.execute_reply": "2022-09-25T07:28:29.307015Z",
     "shell.execute_reply.started": "2022-09-25T07:28:29.276440Z"
    },
    "papermill": {
     "duration": 0.074511,
     "end_time": "2022-09-29T06:58:59.915015",
     "exception": false,
     "start_time": "2022-09-29T06:58:59.840504",
     "status": "completed"
    },
    "tags": []
   },
   "source": [
    "``` python\n",
    "s = pd.Series(list('abcdef'), index=[0, 3, 2, 5, 4, 2])\n",
    "s.loc[2:5]\n",
    "\n",
    "---------------------------------------------------------------------------\n",
    "KeyError                                  Traceback (most recent call last)\n",
    "/tmp/ipykernel_18/1395166310.py in <module>\n",
    "      1 s = pd.Series(list('abcdef'), index=[0, 3, 2, 5, 4, 2])\n",
    "----> 2 s.loc[2:5]\n",
    "\n",
    "--- removed part of error----\n",
    "KeyError: 'Cannot get left slice bound for non-unique label: 2'\n"
   ]
  },
  {
   "cell_type": "code",
   "execution_count": 123,
   "id": "42a30778",
   "metadata": {
    "execution": {
     "iopub.execute_input": "2022-09-29T06:59:00.066989Z",
     "iopub.status.busy": "2022-09-29T06:59:00.065808Z",
     "iopub.status.idle": "2022-09-29T06:59:00.075965Z",
     "shell.execute_reply": "2022-09-29T06:59:00.074546Z"
    },
    "papermill": {
     "duration": 0.089457,
     "end_time": "2022-09-29T06:59:00.078565",
     "exception": false,
     "start_time": "2022-09-29T06:58:59.989108",
     "status": "completed"
    },
    "tags": []
   },
   "outputs": [
    {
     "data": {
      "text/plain": [
       "3    b\n",
       "2    c\n",
       "5    d\n",
       "dtype: object"
      ]
     },
     "execution_count": 123,
     "metadata": {},
     "output_type": "execute_result"
    }
   ],
   "source": [
    "s.loc[3:5]"
   ]
  },
  {
   "cell_type": "markdown",
   "id": "696a37a9",
   "metadata": {
    "papermill": {
     "duration": 0.074523,
     "end_time": "2022-09-29T06:59:00.225534",
     "exception": false,
     "start_time": "2022-09-29T06:59:00.151011",
     "status": "completed"
    },
    "tags": []
   },
   "source": [
    "## Indexing and selecting data In DataFrame | Selection by position:\n",
    "\n",
    "> ## ⚠️Warning \n",
    "Whether a copy or a reference is returned for a setting operation, may depend on the context. This is sometimes called chained assignment and should be avoided. See Returning a View versus Copy."
   ]
  },
  {
   "cell_type": "markdown",
   "id": "ac6c1877",
   "metadata": {
    "papermill": {
     "duration": 0.073286,
     "end_time": "2022-09-29T06:59:00.373592",
     "exception": false,
     "start_time": "2022-09-29T06:59:00.300306",
     "status": "completed"
    },
    "tags": []
   },
   "source": [
    "pandas provides a suite of methods in order to get **purely integer based indexing.** The semantics follow closely Python and NumPy slicing. These are **0-based** indexing. When slicing, the start bound is included, while the upper bound is excluded. Trying to use a non-integer, even a valid label will raise an **IndexError.**\n",
    "\n",
    "The **.iloc** attribute is the primary access method. The following are valid inputs:\n",
    "\n",
    "- An integer e.g. 5.\n",
    "- A list or array of integers [4, 3, 0].\n",
    "- A slice object with ints 1:7.\n",
    "- A boolean array.\n",
    "- A callable, see Selection By Callable."
   ]
  },
  {
   "cell_type": "code",
   "execution_count": 124,
   "id": "25fa1474",
   "metadata": {
    "execution": {
     "iopub.execute_input": "2022-09-29T06:59:00.524350Z",
     "iopub.status.busy": "2022-09-29T06:59:00.523202Z",
     "iopub.status.idle": "2022-09-29T06:59:00.539187Z",
     "shell.execute_reply": "2022-09-29T06:59:00.537815Z"
    },
    "papermill": {
     "duration": 0.093736,
     "end_time": "2022-09-29T06:59:00.542006",
     "exception": false,
     "start_time": "2022-09-29T06:59:00.448270",
     "status": "completed"
    },
    "tags": []
   },
   "outputs": [
    {
     "data": {
      "text/html": [
       "<div>\n",
       "<style scoped>\n",
       "    .dataframe tbody tr th:only-of-type {\n",
       "        vertical-align: middle;\n",
       "    }\n",
       "\n",
       "    .dataframe tbody tr th {\n",
       "        vertical-align: top;\n",
       "    }\n",
       "\n",
       "    .dataframe thead th {\n",
       "        text-align: right;\n",
       "    }\n",
       "</style>\n",
       "<table border=\"1\" class=\"dataframe\">\n",
       "  <thead>\n",
       "    <tr style=\"text-align: right;\">\n",
       "      <th></th>\n",
       "      <th>0</th>\n",
       "      <th>2</th>\n",
       "      <th>4</th>\n",
       "      <th>6</th>\n",
       "    </tr>\n",
       "  </thead>\n",
       "  <tbody>\n",
       "    <tr>\n",
       "      <th>0</th>\n",
       "      <td>1.363623</td>\n",
       "      <td>-1.160044</td>\n",
       "      <td>1.122820</td>\n",
       "      <td>-2.043971</td>\n",
       "    </tr>\n",
       "    <tr>\n",
       "      <th>2</th>\n",
       "      <td>1.551787</td>\n",
       "      <td>0.100940</td>\n",
       "      <td>-0.918854</td>\n",
       "      <td>-1.543287</td>\n",
       "    </tr>\n",
       "    <tr>\n",
       "      <th>4</th>\n",
       "      <td>1.984488</td>\n",
       "      <td>-1.443518</td>\n",
       "      <td>-0.352631</td>\n",
       "      <td>1.243077</td>\n",
       "    </tr>\n",
       "    <tr>\n",
       "      <th>6</th>\n",
       "      <td>0.479748</td>\n",
       "      <td>-0.911383</td>\n",
       "      <td>-0.570634</td>\n",
       "      <td>-0.701482</td>\n",
       "    </tr>\n",
       "    <tr>\n",
       "      <th>8</th>\n",
       "      <td>-0.264290</td>\n",
       "      <td>0.453129</td>\n",
       "      <td>0.271806</td>\n",
       "      <td>1.450284</td>\n",
       "    </tr>\n",
       "    <tr>\n",
       "      <th>10</th>\n",
       "      <td>0.181849</td>\n",
       "      <td>-0.548392</td>\n",
       "      <td>-0.533568</td>\n",
       "      <td>1.389574</td>\n",
       "    </tr>\n",
       "  </tbody>\n",
       "</table>\n",
       "</div>"
      ],
      "text/plain": [
       "           0         2         4         6\n",
       "0   1.363623 -1.160044  1.122820 -2.043971\n",
       "2   1.551787  0.100940 -0.918854 -1.543287\n",
       "4   1.984488 -1.443518 -0.352631  1.243077\n",
       "6   0.479748 -0.911383 -0.570634 -0.701482\n",
       "8  -0.264290  0.453129  0.271806  1.450284\n",
       "10  0.181849 -0.548392 -0.533568  1.389574"
      ]
     },
     "execution_count": 124,
     "metadata": {},
     "output_type": "execute_result"
    }
   ],
   "source": [
    "df1 = pd.DataFrame(np.random.randn(6, 4),\n",
    "                   index=list(range(0, 12, 2)),\n",
    "                   columns=list(range(0, 8, 2)))\n",
    "df1"
   ]
  },
  {
   "cell_type": "code",
   "execution_count": 125,
   "id": "c9b25346",
   "metadata": {
    "execution": {
     "iopub.execute_input": "2022-09-29T06:59:00.693354Z",
     "iopub.status.busy": "2022-09-29T06:59:00.692282Z",
     "iopub.status.idle": "2022-09-29T06:59:00.705592Z",
     "shell.execute_reply": "2022-09-29T06:59:00.704273Z"
    },
    "papermill": {
     "duration": 0.091163,
     "end_time": "2022-09-29T06:59:00.708205",
     "exception": false,
     "start_time": "2022-09-29T06:59:00.617042",
     "status": "completed"
    },
    "tags": []
   },
   "outputs": [
    {
     "data": {
      "text/html": [
       "<div>\n",
       "<style scoped>\n",
       "    .dataframe tbody tr th:only-of-type {\n",
       "        vertical-align: middle;\n",
       "    }\n",
       "\n",
       "    .dataframe tbody tr th {\n",
       "        vertical-align: top;\n",
       "    }\n",
       "\n",
       "    .dataframe thead th {\n",
       "        text-align: right;\n",
       "    }\n",
       "</style>\n",
       "<table border=\"1\" class=\"dataframe\">\n",
       "  <thead>\n",
       "    <tr style=\"text-align: right;\">\n",
       "      <th></th>\n",
       "      <th>0</th>\n",
       "      <th>2</th>\n",
       "      <th>4</th>\n",
       "      <th>6</th>\n",
       "    </tr>\n",
       "  </thead>\n",
       "  <tbody>\n",
       "    <tr>\n",
       "      <th>0</th>\n",
       "      <td>1.363623</td>\n",
       "      <td>-1.160044</td>\n",
       "      <td>1.122820</td>\n",
       "      <td>-2.043971</td>\n",
       "    </tr>\n",
       "    <tr>\n",
       "      <th>2</th>\n",
       "      <td>1.551787</td>\n",
       "      <td>0.100940</td>\n",
       "      <td>-0.918854</td>\n",
       "      <td>-1.543287</td>\n",
       "    </tr>\n",
       "    <tr>\n",
       "      <th>4</th>\n",
       "      <td>1.984488</td>\n",
       "      <td>-1.443518</td>\n",
       "      <td>-0.352631</td>\n",
       "      <td>1.243077</td>\n",
       "    </tr>\n",
       "  </tbody>\n",
       "</table>\n",
       "</div>"
      ],
      "text/plain": [
       "          0         2         4         6\n",
       "0  1.363623 -1.160044  1.122820 -2.043971\n",
       "2  1.551787  0.100940 -0.918854 -1.543287\n",
       "4  1.984488 -1.443518 -0.352631  1.243077"
      ]
     },
     "execution_count": 125,
     "metadata": {},
     "output_type": "execute_result"
    }
   ],
   "source": [
    "df1.iloc[:3]  # position rows 0,1,2,"
   ]
  },
  {
   "cell_type": "code",
   "execution_count": 126,
   "id": "bae686b1",
   "metadata": {
    "execution": {
     "iopub.execute_input": "2022-09-29T06:59:00.863056Z",
     "iopub.status.busy": "2022-09-29T06:59:00.862584Z",
     "iopub.status.idle": "2022-09-29T06:59:00.877121Z",
     "shell.execute_reply": "2022-09-29T06:59:00.875680Z"
    },
    "papermill": {
     "duration": 0.094153,
     "end_time": "2022-09-29T06:59:00.879929",
     "exception": false,
     "start_time": "2022-09-29T06:59:00.785776",
     "status": "completed"
    },
    "tags": []
   },
   "outputs": [
    {
     "data": {
      "text/html": [
       "<div>\n",
       "<style scoped>\n",
       "    .dataframe tbody tr th:only-of-type {\n",
       "        vertical-align: middle;\n",
       "    }\n",
       "\n",
       "    .dataframe tbody tr th {\n",
       "        vertical-align: top;\n",
       "    }\n",
       "\n",
       "    .dataframe thead th {\n",
       "        text-align: right;\n",
       "    }\n",
       "</style>\n",
       "<table border=\"1\" class=\"dataframe\">\n",
       "  <thead>\n",
       "    <tr style=\"text-align: right;\">\n",
       "      <th></th>\n",
       "      <th>0</th>\n",
       "      <th>2</th>\n",
       "      <th>4</th>\n",
       "      <th>6</th>\n",
       "    </tr>\n",
       "  </thead>\n",
       "  <tbody>\n",
       "    <tr>\n",
       "      <th>2</th>\n",
       "      <td>1.551787</td>\n",
       "      <td>0.100940</td>\n",
       "      <td>-0.918854</td>\n",
       "      <td>-1.543287</td>\n",
       "    </tr>\n",
       "    <tr>\n",
       "      <th>4</th>\n",
       "      <td>1.984488</td>\n",
       "      <td>-1.443518</td>\n",
       "      <td>-0.352631</td>\n",
       "      <td>1.243077</td>\n",
       "    </tr>\n",
       "  </tbody>\n",
       "</table>\n",
       "</div>"
      ],
      "text/plain": [
       "          0         2         4         6\n",
       "2  1.551787  0.100940 -0.918854 -1.543287\n",
       "4  1.984488 -1.443518 -0.352631  1.243077"
      ]
     },
     "execution_count": 126,
     "metadata": {},
     "output_type": "execute_result"
    }
   ],
   "source": [
    "df1.iloc[1:3]"
   ]
  },
  {
   "cell_type": "code",
   "execution_count": 127,
   "id": "b05c53c6",
   "metadata": {
    "execution": {
     "iopub.execute_input": "2022-09-29T06:59:01.037127Z",
     "iopub.status.busy": "2022-09-29T06:59:01.035995Z",
     "iopub.status.idle": "2022-09-29T06:59:01.048487Z",
     "shell.execute_reply": "2022-09-29T06:59:01.047074Z"
    },
    "papermill": {
     "duration": 0.092345,
     "end_time": "2022-09-29T06:59:01.051184",
     "exception": false,
     "start_time": "2022-09-29T06:59:00.958839",
     "status": "completed"
    },
    "tags": []
   },
   "outputs": [
    {
     "data": {
      "text/html": [
       "<div>\n",
       "<style scoped>\n",
       "    .dataframe tbody tr th:only-of-type {\n",
       "        vertical-align: middle;\n",
       "    }\n",
       "\n",
       "    .dataframe tbody tr th {\n",
       "        vertical-align: top;\n",
       "    }\n",
       "\n",
       "    .dataframe thead th {\n",
       "        text-align: right;\n",
       "    }\n",
       "</style>\n",
       "<table border=\"1\" class=\"dataframe\">\n",
       "  <thead>\n",
       "    <tr style=\"text-align: right;\">\n",
       "      <th></th>\n",
       "      <th>0</th>\n",
       "      <th>2</th>\n",
       "    </tr>\n",
       "  </thead>\n",
       "  <tbody>\n",
       "    <tr>\n",
       "      <th>2</th>\n",
       "      <td>1.551787</td>\n",
       "      <td>0.100940</td>\n",
       "    </tr>\n",
       "    <tr>\n",
       "      <th>4</th>\n",
       "      <td>1.984488</td>\n",
       "      <td>-1.443518</td>\n",
       "    </tr>\n",
       "    <tr>\n",
       "      <th>6</th>\n",
       "      <td>0.479748</td>\n",
       "      <td>-0.911383</td>\n",
       "    </tr>\n",
       "    <tr>\n",
       "      <th>8</th>\n",
       "      <td>-0.264290</td>\n",
       "      <td>0.453129</td>\n",
       "    </tr>\n",
       "    <tr>\n",
       "      <th>10</th>\n",
       "      <td>0.181849</td>\n",
       "      <td>-0.548392</td>\n",
       "    </tr>\n",
       "  </tbody>\n",
       "</table>\n",
       "</div>"
      ],
      "text/plain": [
       "           0         2\n",
       "2   1.551787  0.100940\n",
       "4   1.984488 -1.443518\n",
       "6   0.479748 -0.911383\n",
       "8  -0.264290  0.453129\n",
       "10  0.181849 -0.548392"
      ]
     },
     "execution_count": 127,
     "metadata": {},
     "output_type": "execute_result"
    }
   ],
   "source": [
    "df1.iloc[1:6,0:2]  #position for columns 0:2"
   ]
  },
  {
   "cell_type": "code",
   "execution_count": 128,
   "id": "55b1c604",
   "metadata": {
    "execution": {
     "iopub.execute_input": "2022-09-29T06:59:01.210687Z",
     "iopub.status.busy": "2022-09-29T06:59:01.210317Z",
     "iopub.status.idle": "2022-09-29T06:59:01.224105Z",
     "shell.execute_reply": "2022-09-29T06:59:01.222692Z"
    },
    "papermill": {
     "duration": 0.094668,
     "end_time": "2022-09-29T06:59:01.226751",
     "exception": false,
     "start_time": "2022-09-29T06:59:01.132083",
     "status": "completed"
    },
    "tags": []
   },
   "outputs": [
    {
     "data": {
      "text/html": [
       "<div>\n",
       "<style scoped>\n",
       "    .dataframe tbody tr th:only-of-type {\n",
       "        vertical-align: middle;\n",
       "    }\n",
       "\n",
       "    .dataframe tbody tr th {\n",
       "        vertical-align: top;\n",
       "    }\n",
       "\n",
       "    .dataframe thead th {\n",
       "        text-align: right;\n",
       "    }\n",
       "</style>\n",
       "<table border=\"1\" class=\"dataframe\">\n",
       "  <thead>\n",
       "    <tr style=\"text-align: right;\">\n",
       "      <th></th>\n",
       "      <th>2</th>\n",
       "      <th>6</th>\n",
       "    </tr>\n",
       "  </thead>\n",
       "  <tbody>\n",
       "    <tr>\n",
       "      <th>2</th>\n",
       "      <td>0.100940</td>\n",
       "      <td>-1.543287</td>\n",
       "    </tr>\n",
       "    <tr>\n",
       "      <th>6</th>\n",
       "      <td>-0.911383</td>\n",
       "      <td>-0.701482</td>\n",
       "    </tr>\n",
       "    <tr>\n",
       "      <th>10</th>\n",
       "      <td>-0.548392</td>\n",
       "      <td>1.389574</td>\n",
       "    </tr>\n",
       "  </tbody>\n",
       "</table>\n",
       "</div>"
      ],
      "text/plain": [
       "           2         6\n",
       "2   0.100940 -1.543287\n",
       "6  -0.911383 -0.701482\n",
       "10 -0.548392  1.389574"
      ]
     },
     "execution_count": 128,
     "metadata": {},
     "output_type": "execute_result"
    }
   ],
   "source": [
    "df1.iloc[[1, 3, 5], [1, 3]]  #rows(1,3,5) and columns(1,3)"
   ]
  },
  {
   "cell_type": "code",
   "execution_count": 129,
   "id": "b522515d",
   "metadata": {
    "execution": {
     "iopub.execute_input": "2022-09-29T06:59:01.381386Z",
     "iopub.status.busy": "2022-09-29T06:59:01.379448Z",
     "iopub.status.idle": "2022-09-29T06:59:01.393666Z",
     "shell.execute_reply": "2022-09-29T06:59:01.392168Z"
    },
    "papermill": {
     "duration": 0.094199,
     "end_time": "2022-09-29T06:59:01.396290",
     "exception": false,
     "start_time": "2022-09-29T06:59:01.302091",
     "status": "completed"
    },
    "tags": []
   },
   "outputs": [
    {
     "data": {
      "text/html": [
       "<div>\n",
       "<style scoped>\n",
       "    .dataframe tbody tr th:only-of-type {\n",
       "        vertical-align: middle;\n",
       "    }\n",
       "\n",
       "    .dataframe tbody tr th {\n",
       "        vertical-align: top;\n",
       "    }\n",
       "\n",
       "    .dataframe thead th {\n",
       "        text-align: right;\n",
       "    }\n",
       "</style>\n",
       "<table border=\"1\" class=\"dataframe\">\n",
       "  <thead>\n",
       "    <tr style=\"text-align: right;\">\n",
       "      <th></th>\n",
       "      <th>0</th>\n",
       "      <th>2</th>\n",
       "      <th>4</th>\n",
       "      <th>6</th>\n",
       "    </tr>\n",
       "  </thead>\n",
       "  <tbody>\n",
       "    <tr>\n",
       "      <th>2</th>\n",
       "      <td>1.551787</td>\n",
       "      <td>0.100940</td>\n",
       "      <td>-0.918854</td>\n",
       "      <td>-1.543287</td>\n",
       "    </tr>\n",
       "    <tr>\n",
       "      <th>4</th>\n",
       "      <td>1.984488</td>\n",
       "      <td>-1.443518</td>\n",
       "      <td>-0.352631</td>\n",
       "      <td>1.243077</td>\n",
       "    </tr>\n",
       "  </tbody>\n",
       "</table>\n",
       "</div>"
      ],
      "text/plain": [
       "          0         2         4         6\n",
       "2  1.551787  0.100940 -0.918854 -1.543287\n",
       "4  1.984488 -1.443518 -0.352631  1.243077"
      ]
     },
     "execution_count": 129,
     "metadata": {},
     "output_type": "execute_result"
    }
   ],
   "source": [
    "df1.iloc[1:3, :]"
   ]
  },
  {
   "cell_type": "code",
   "execution_count": 130,
   "id": "b7c0e734",
   "metadata": {
    "execution": {
     "iopub.execute_input": "2022-09-29T06:59:01.548689Z",
     "iopub.status.busy": "2022-09-29T06:59:01.548289Z",
     "iopub.status.idle": "2022-09-29T06:59:01.556086Z",
     "shell.execute_reply": "2022-09-29T06:59:01.554810Z"
    },
    "papermill": {
     "duration": 0.087554,
     "end_time": "2022-09-29T06:59:01.558892",
     "exception": false,
     "start_time": "2022-09-29T06:59:01.471338",
     "status": "completed"
    },
    "tags": []
   },
   "outputs": [
    {
     "data": {
      "text/plain": [
       "0.10094048148202017"
      ]
     },
     "execution_count": 130,
     "metadata": {},
     "output_type": "execute_result"
    }
   ],
   "source": [
    "# this is also equivalent to ``df1.iat[1,1]``\n",
    "df1.iloc[1, 1]"
   ]
  },
  {
   "cell_type": "code",
   "execution_count": 131,
   "id": "f8ca8977",
   "metadata": {
    "execution": {
     "iopub.execute_input": "2022-09-29T06:59:01.754317Z",
     "iopub.status.busy": "2022-09-29T06:59:01.753907Z",
     "iopub.status.idle": "2022-09-29T06:59:01.764348Z",
     "shell.execute_reply": "2022-09-29T06:59:01.762960Z"
    },
    "papermill": {
     "duration": 0.131965,
     "end_time": "2022-09-29T06:59:01.767777",
     "exception": false,
     "start_time": "2022-09-29T06:59:01.635812",
     "status": "completed"
    },
    "tags": []
   },
   "outputs": [
    {
     "data": {
      "text/plain": [
       "0    1.551787\n",
       "2    0.100940\n",
       "4   -0.918854\n",
       "6   -1.543287\n",
       "Name: 2, dtype: float64"
      ]
     },
     "execution_count": 131,
     "metadata": {},
     "output_type": "execute_result"
    }
   ],
   "source": [
    "df1.iloc[1]  #rows at 1 value "
   ]
  },
  {
   "cell_type": "markdown",
   "id": "c69c7d41",
   "metadata": {
    "papermill": {
     "duration": 0.097781,
     "end_time": "2022-09-29T06:59:01.942395",
     "exception": false,
     "start_time": "2022-09-29T06:59:01.844614",
     "status": "completed"
    },
    "tags": []
   },
   "source": [
    "> ## ✍️ Note:\n",
    "> #### Out of range slice indexes are handled gracefully just as in Python/NumPy."
   ]
  },
  {
   "cell_type": "code",
   "execution_count": 132,
   "id": "50389cbc",
   "metadata": {
    "execution": {
     "iopub.execute_input": "2022-09-29T06:59:02.159985Z",
     "iopub.status.busy": "2022-09-29T06:59:02.158831Z",
     "iopub.status.idle": "2022-09-29T06:59:02.171832Z",
     "shell.execute_reply": "2022-09-29T06:59:02.170196Z"
    },
    "papermill": {
     "duration": 0.158538,
     "end_time": "2022-09-29T06:59:02.176949",
     "exception": false,
     "start_time": "2022-09-29T06:59:02.018411",
     "status": "completed"
    },
    "tags": []
   },
   "outputs": [
    {
     "data": {
      "text/plain": [
       "['e', 'f']"
      ]
     },
     "execution_count": 132,
     "metadata": {},
     "output_type": "execute_result"
    }
   ],
   "source": [
    "x = list('abcdef')\n",
    "x[4:10]"
   ]
  },
  {
   "cell_type": "code",
   "execution_count": 133,
   "id": "b5f5908a",
   "metadata": {
    "execution": {
     "iopub.execute_input": "2022-09-29T06:59:02.485369Z",
     "iopub.status.busy": "2022-09-29T06:59:02.484906Z",
     "iopub.status.idle": "2022-09-29T06:59:02.497945Z",
     "shell.execute_reply": "2022-09-29T06:59:02.496732Z"
    },
    "papermill": {
     "duration": 0.153438,
     "end_time": "2022-09-29T06:59:02.502809",
     "exception": false,
     "start_time": "2022-09-29T06:59:02.349371",
     "status": "completed"
    },
    "tags": []
   },
   "outputs": [
    {
     "data": {
      "text/plain": [
       "0    a\n",
       "1    b\n",
       "2    c\n",
       "3    d\n",
       "4    e\n",
       "5    f\n",
       "dtype: object"
      ]
     },
     "execution_count": 133,
     "metadata": {},
     "output_type": "execute_result"
    }
   ],
   "source": [
    "s = pd.Series(x)\n",
    "s"
   ]
  },
  {
   "cell_type": "code",
   "execution_count": 134,
   "id": "cdbf049d",
   "metadata": {
    "execution": {
     "iopub.execute_input": "2022-09-29T06:59:02.800059Z",
     "iopub.status.busy": "2022-09-29T06:59:02.798495Z",
     "iopub.status.idle": "2022-09-29T06:59:02.819576Z",
     "shell.execute_reply": "2022-09-29T06:59:02.818805Z"
    },
    "papermill": {
     "duration": 0.194117,
     "end_time": "2022-09-29T06:59:02.825454",
     "exception": false,
     "start_time": "2022-09-29T06:59:02.631337",
     "status": "completed"
    },
    "tags": []
   },
   "outputs": [
    {
     "data": {
      "text/plain": [
       "4    e\n",
       "5    f\n",
       "dtype: object"
      ]
     },
     "execution_count": 134,
     "metadata": {},
     "output_type": "execute_result"
    }
   ],
   "source": [
    "s.iloc[4:10]   #Out bound will be handled easily"
   ]
  },
  {
   "cell_type": "code",
   "execution_count": 135,
   "id": "f2a27262",
   "metadata": {
    "execution": {
     "iopub.execute_input": "2022-09-29T06:59:02.988827Z",
     "iopub.status.busy": "2022-09-29T06:59:02.988329Z",
     "iopub.status.idle": "2022-09-29T06:59:02.996934Z",
     "shell.execute_reply": "2022-09-29T06:59:02.995733Z"
    },
    "papermill": {
     "duration": 0.08879,
     "end_time": "2022-09-29T06:59:02.999217",
     "exception": false,
     "start_time": "2022-09-29T06:59:02.910427",
     "status": "completed"
    },
    "tags": []
   },
   "outputs": [
    {
     "data": {
      "text/plain": [
       "Series([], dtype: object)"
      ]
     },
     "execution_count": 135,
     "metadata": {},
     "output_type": "execute_result"
    }
   ],
   "source": [
    "s.iloc[8:10] #there is no value in that position that's why empty "
   ]
  },
  {
   "cell_type": "markdown",
   "id": "6b63c196",
   "metadata": {
    "papermill": {
     "duration": 0.075907,
     "end_time": "2022-09-29T06:59:03.150729",
     "exception": false,
     "start_time": "2022-09-29T06:59:03.074822",
     "status": "completed"
    },
    "tags": []
   },
   "source": [
    "> ## ✍️ Note:\n",
    "> #### Note that using slices that go out of bounds can result in an empty axis (e.g. an empty DataFrame being returned)."
   ]
  },
  {
   "cell_type": "code",
   "execution_count": 136,
   "id": "08826ea0",
   "metadata": {
    "execution": {
     "iopub.execute_input": "2022-09-29T06:59:03.307913Z",
     "iopub.status.busy": "2022-09-29T06:59:03.307240Z",
     "iopub.status.idle": "2022-09-29T06:59:03.319894Z",
     "shell.execute_reply": "2022-09-29T06:59:03.318675Z"
    },
    "papermill": {
     "duration": 0.095021,
     "end_time": "2022-09-29T06:59:03.322387",
     "exception": false,
     "start_time": "2022-09-29T06:59:03.227366",
     "status": "completed"
    },
    "tags": []
   },
   "outputs": [
    {
     "data": {
      "text/html": [
       "<div>\n",
       "<style scoped>\n",
       "    .dataframe tbody tr th:only-of-type {\n",
       "        vertical-align: middle;\n",
       "    }\n",
       "\n",
       "    .dataframe tbody tr th {\n",
       "        vertical-align: top;\n",
       "    }\n",
       "\n",
       "    .dataframe thead th {\n",
       "        text-align: right;\n",
       "    }\n",
       "</style>\n",
       "<table border=\"1\" class=\"dataframe\">\n",
       "  <thead>\n",
       "    <tr style=\"text-align: right;\">\n",
       "      <th></th>\n",
       "      <th>A</th>\n",
       "      <th>B</th>\n",
       "    </tr>\n",
       "  </thead>\n",
       "  <tbody>\n",
       "    <tr>\n",
       "      <th>0</th>\n",
       "      <td>1.401550</td>\n",
       "      <td>-0.169208</td>\n",
       "    </tr>\n",
       "    <tr>\n",
       "      <th>1</th>\n",
       "      <td>0.658519</td>\n",
       "      <td>-0.859637</td>\n",
       "    </tr>\n",
       "    <tr>\n",
       "      <th>2</th>\n",
       "      <td>0.426466</td>\n",
       "      <td>1.472111</td>\n",
       "    </tr>\n",
       "    <tr>\n",
       "      <th>3</th>\n",
       "      <td>-0.045724</td>\n",
       "      <td>-1.039160</td>\n",
       "    </tr>\n",
       "    <tr>\n",
       "      <th>4</th>\n",
       "      <td>0.548012</td>\n",
       "      <td>0.086612</td>\n",
       "    </tr>\n",
       "  </tbody>\n",
       "</table>\n",
       "</div>"
      ],
      "text/plain": [
       "          A         B\n",
       "0  1.401550 -0.169208\n",
       "1  0.658519 -0.859637\n",
       "2  0.426466  1.472111\n",
       "3 -0.045724 -1.039160\n",
       "4  0.548012  0.086612"
      ]
     },
     "execution_count": 136,
     "metadata": {},
     "output_type": "execute_result"
    }
   ],
   "source": [
    "dfl = pd.DataFrame(np.random.randn(5, 2), columns=list('AB'))\n",
    "dfl"
   ]
  },
  {
   "cell_type": "code",
   "execution_count": 137,
   "id": "2d084c6f",
   "metadata": {
    "execution": {
     "iopub.execute_input": "2022-09-29T06:59:03.477198Z",
     "iopub.status.busy": "2022-09-29T06:59:03.476117Z",
     "iopub.status.idle": "2022-09-29T06:59:03.488677Z",
     "shell.execute_reply": "2022-09-29T06:59:03.486826Z"
    },
    "papermill": {
     "duration": 0.094951,
     "end_time": "2022-09-29T06:59:03.492786",
     "exception": false,
     "start_time": "2022-09-29T06:59:03.397835",
     "status": "completed"
    },
    "tags": []
   },
   "outputs": [
    {
     "name": "stdout",
     "output_type": "stream",
     "text": [
      "Empty DataFrame\n",
      "Columns: []\n",
      "Index: [0, 1, 2, 3, 4]\n"
     ]
    },
    {
     "data": {
      "text/html": [
       "<div>\n",
       "<style scoped>\n",
       "    .dataframe tbody tr th:only-of-type {\n",
       "        vertical-align: middle;\n",
       "    }\n",
       "\n",
       "    .dataframe tbody tr th {\n",
       "        vertical-align: top;\n",
       "    }\n",
       "\n",
       "    .dataframe thead th {\n",
       "        text-align: right;\n",
       "    }\n",
       "</style>\n",
       "<table border=\"1\" class=\"dataframe\">\n",
       "  <thead>\n",
       "    <tr style=\"text-align: right;\">\n",
       "      <th></th>\n",
       "    </tr>\n",
       "  </thead>\n",
       "  <tbody>\n",
       "    <tr>\n",
       "      <th>0</th>\n",
       "    </tr>\n",
       "    <tr>\n",
       "      <th>1</th>\n",
       "    </tr>\n",
       "    <tr>\n",
       "      <th>2</th>\n",
       "    </tr>\n",
       "    <tr>\n",
       "      <th>3</th>\n",
       "    </tr>\n",
       "    <tr>\n",
       "      <th>4</th>\n",
       "    </tr>\n",
       "  </tbody>\n",
       "</table>\n",
       "</div>"
      ],
      "text/plain": [
       "Empty DataFrame\n",
       "Columns: []\n",
       "Index: [0, 1, 2, 3, 4]"
      ]
     },
     "execution_count": 137,
     "metadata": {},
     "output_type": "execute_result"
    }
   ],
   "source": [
    "print(dfl.iloc[:, 2:3]) #no columns at position 2,3\n",
    "dfl.iloc[:, 2:3]"
   ]
  },
  {
   "cell_type": "code",
   "execution_count": 138,
   "id": "1e6f1725",
   "metadata": {
    "execution": {
     "iopub.execute_input": "2022-09-29T06:59:03.647909Z",
     "iopub.status.busy": "2022-09-29T06:59:03.646973Z",
     "iopub.status.idle": "2022-09-29T06:59:03.659475Z",
     "shell.execute_reply": "2022-09-29T06:59:03.658128Z"
    },
    "papermill": {
     "duration": 0.092676,
     "end_time": "2022-09-29T06:59:03.662016",
     "exception": false,
     "start_time": "2022-09-29T06:59:03.569340",
     "status": "completed"
    },
    "tags": []
   },
   "outputs": [
    {
     "data": {
      "text/html": [
       "<div>\n",
       "<style scoped>\n",
       "    .dataframe tbody tr th:only-of-type {\n",
       "        vertical-align: middle;\n",
       "    }\n",
       "\n",
       "    .dataframe tbody tr th {\n",
       "        vertical-align: top;\n",
       "    }\n",
       "\n",
       "    .dataframe thead th {\n",
       "        text-align: right;\n",
       "    }\n",
       "</style>\n",
       "<table border=\"1\" class=\"dataframe\">\n",
       "  <thead>\n",
       "    <tr style=\"text-align: right;\">\n",
       "      <th></th>\n",
       "      <th>B</th>\n",
       "    </tr>\n",
       "  </thead>\n",
       "  <tbody>\n",
       "    <tr>\n",
       "      <th>0</th>\n",
       "      <td>-0.169208</td>\n",
       "    </tr>\n",
       "    <tr>\n",
       "      <th>1</th>\n",
       "      <td>-0.859637</td>\n",
       "    </tr>\n",
       "    <tr>\n",
       "      <th>2</th>\n",
       "      <td>1.472111</td>\n",
       "    </tr>\n",
       "    <tr>\n",
       "      <th>3</th>\n",
       "      <td>-1.039160</td>\n",
       "    </tr>\n",
       "    <tr>\n",
       "      <th>4</th>\n",
       "      <td>0.086612</td>\n",
       "    </tr>\n",
       "  </tbody>\n",
       "</table>\n",
       "</div>"
      ],
      "text/plain": [
       "          B\n",
       "0 -0.169208\n",
       "1 -0.859637\n",
       "2  1.472111\n",
       "3 -1.039160\n",
       "4  0.086612"
      ]
     },
     "execution_count": 138,
     "metadata": {},
     "output_type": "execute_result"
    }
   ],
   "source": [
    "dfl.iloc[:, 1:3] #column present at position 1 but not position 3"
   ]
  },
  {
   "cell_type": "code",
   "execution_count": 139,
   "id": "c908846e",
   "metadata": {
    "execution": {
     "iopub.execute_input": "2022-09-29T06:59:03.819349Z",
     "iopub.status.busy": "2022-09-29T06:59:03.818165Z",
     "iopub.status.idle": "2022-09-29T06:59:03.830255Z",
     "shell.execute_reply": "2022-09-29T06:59:03.828974Z"
    },
    "papermill": {
     "duration": 0.09497,
     "end_time": "2022-09-29T06:59:03.832830",
     "exception": false,
     "start_time": "2022-09-29T06:59:03.737860",
     "status": "completed"
    },
    "tags": []
   },
   "outputs": [
    {
     "data": {
      "text/html": [
       "<div>\n",
       "<style scoped>\n",
       "    .dataframe tbody tr th:only-of-type {\n",
       "        vertical-align: middle;\n",
       "    }\n",
       "\n",
       "    .dataframe tbody tr th {\n",
       "        vertical-align: top;\n",
       "    }\n",
       "\n",
       "    .dataframe thead th {\n",
       "        text-align: right;\n",
       "    }\n",
       "</style>\n",
       "<table border=\"1\" class=\"dataframe\">\n",
       "  <thead>\n",
       "    <tr style=\"text-align: right;\">\n",
       "      <th></th>\n",
       "      <th>A</th>\n",
       "      <th>B</th>\n",
       "    </tr>\n",
       "  </thead>\n",
       "  <tbody>\n",
       "    <tr>\n",
       "      <th>4</th>\n",
       "      <td>0.548012</td>\n",
       "      <td>0.086612</td>\n",
       "    </tr>\n",
       "  </tbody>\n",
       "</table>\n",
       "</div>"
      ],
      "text/plain": [
       "          A         B\n",
       "4  0.548012  0.086612"
      ]
     },
     "execution_count": 139,
     "metadata": {},
     "output_type": "execute_result"
    }
   ],
   "source": [
    "dfl.iloc[4:6]"
   ]
  },
  {
   "cell_type": "markdown",
   "id": "930c47e3",
   "metadata": {
    "papermill": {
     "duration": 0.07512,
     "end_time": "2022-09-29T06:59:03.983888",
     "exception": false,
     "start_time": "2022-09-29T06:59:03.908768",
     "status": "completed"
    },
    "tags": []
   },
   "source": [
    "> ## ✍️ Note:\n",
    "> ####  A single indexer that is out of bounds will raise an IndexError. A list of indexers where any element is out of bounds will raise an IndexError."
   ]
  },
  {
   "cell_type": "markdown",
   "id": "46f02a87",
   "metadata": {
    "papermill": {
     "duration": 0.074927,
     "end_time": "2022-09-29T06:59:04.133080",
     "exception": false,
     "start_time": "2022-09-29T06:59:04.058153",
     "status": "completed"
    },
    "tags": []
   },
   "source": [
    "``` python\n",
    "dfl.iloc[[4, 5, 6]]\n",
    "\n",
    "---------------------------------------------------------------------------\n",
    "IndexError                                Traceback (most recent call last)\n",
    "\n",
    "----extra error removed----\n",
    "IndexError: positional indexers are out-of-bounds\n",
    "```"
   ]
  },
  {
   "cell_type": "markdown",
   "id": "461bd119",
   "metadata": {
    "papermill": {
     "duration": 0.076778,
     "end_time": "2022-09-29T06:59:04.287291",
     "exception": false,
     "start_time": "2022-09-29T06:59:04.210513",
     "status": "completed"
    },
    "tags": []
   },
   "source": [
    "``` python \n",
    "dfl.iloc[:, 4]\n",
    "\n",
    "---------------------------------------------------------------------------\n",
    "IndexError                                Traceback (most recent call last)\n",
    "/tmp/ipykernel_18/1683638990.py in <module>\n",
    "----> 1 dfl.iloc[:, 4]\n",
    "\n",
    "----extra error removed----\n",
    "IndexError: single positional indexer is out-of-bounds\n",
    "```"
   ]
  },
  {
   "cell_type": "markdown",
   "id": "83e45d4f",
   "metadata": {
    "papermill": {
     "duration": 0.079286,
     "end_time": "2022-09-29T06:59:04.443777",
     "exception": false,
     "start_time": "2022-09-29T06:59:04.364491",
     "status": "completed"
    },
    "tags": []
   },
   "source": [
    "## Indexing and selecting data In DataFrame | Selection by callable:\n",
    "- .loc, .iloc, and also [] indexing can accept a **callable** as indexer. The **callable** must be a function with one argument (the calling Series or DataFrame) that returns valid output for indexing.\n"
   ]
  },
  {
   "cell_type": "code",
   "execution_count": 140,
   "id": "2524f03e",
   "metadata": {
    "execution": {
     "iopub.execute_input": "2022-09-29T06:59:04.604950Z",
     "iopub.status.busy": "2022-09-29T06:59:04.603688Z",
     "iopub.status.idle": "2022-09-29T06:59:04.619930Z",
     "shell.execute_reply": "2022-09-29T06:59:04.618511Z"
    },
    "papermill": {
     "duration": 0.099423,
     "end_time": "2022-09-29T06:59:04.622658",
     "exception": false,
     "start_time": "2022-09-29T06:59:04.523235",
     "status": "completed"
    },
    "tags": []
   },
   "outputs": [
    {
     "data": {
      "text/html": [
       "<div>\n",
       "<style scoped>\n",
       "    .dataframe tbody tr th:only-of-type {\n",
       "        vertical-align: middle;\n",
       "    }\n",
       "\n",
       "    .dataframe tbody tr th {\n",
       "        vertical-align: top;\n",
       "    }\n",
       "\n",
       "    .dataframe thead th {\n",
       "        text-align: right;\n",
       "    }\n",
       "</style>\n",
       "<table border=\"1\" class=\"dataframe\">\n",
       "  <thead>\n",
       "    <tr style=\"text-align: right;\">\n",
       "      <th></th>\n",
       "      <th>A</th>\n",
       "      <th>B</th>\n",
       "      <th>C</th>\n",
       "      <th>D</th>\n",
       "    </tr>\n",
       "  </thead>\n",
       "  <tbody>\n",
       "    <tr>\n",
       "      <th>a</th>\n",
       "      <td>-1.710307</td>\n",
       "      <td>-0.336591</td>\n",
       "      <td>1.002300</td>\n",
       "      <td>-2.320883</td>\n",
       "    </tr>\n",
       "    <tr>\n",
       "      <th>b</th>\n",
       "      <td>1.172201</td>\n",
       "      <td>-0.507478</td>\n",
       "      <td>1.650087</td>\n",
       "      <td>0.828482</td>\n",
       "    </tr>\n",
       "    <tr>\n",
       "      <th>c</th>\n",
       "      <td>1.055931</td>\n",
       "      <td>-1.160095</td>\n",
       "      <td>-0.462804</td>\n",
       "      <td>-0.911537</td>\n",
       "    </tr>\n",
       "    <tr>\n",
       "      <th>d</th>\n",
       "      <td>-0.534750</td>\n",
       "      <td>-1.751393</td>\n",
       "      <td>-0.682239</td>\n",
       "      <td>-1.543320</td>\n",
       "    </tr>\n",
       "    <tr>\n",
       "      <th>e</th>\n",
       "      <td>0.136734</td>\n",
       "      <td>1.774432</td>\n",
       "      <td>-0.019708</td>\n",
       "      <td>-0.210160</td>\n",
       "    </tr>\n",
       "    <tr>\n",
       "      <th>f</th>\n",
       "      <td>1.072003</td>\n",
       "      <td>-0.554390</td>\n",
       "      <td>-1.536757</td>\n",
       "      <td>-0.838860</td>\n",
       "    </tr>\n",
       "  </tbody>\n",
       "</table>\n",
       "</div>"
      ],
      "text/plain": [
       "          A         B         C         D\n",
       "a -1.710307 -0.336591  1.002300 -2.320883\n",
       "b  1.172201 -0.507478  1.650087  0.828482\n",
       "c  1.055931 -1.160095 -0.462804 -0.911537\n",
       "d -0.534750 -1.751393 -0.682239 -1.543320\n",
       "e  0.136734  1.774432 -0.019708 -0.210160\n",
       "f  1.072003 -0.554390 -1.536757 -0.838860"
      ]
     },
     "execution_count": 140,
     "metadata": {},
     "output_type": "execute_result"
    }
   ],
   "source": [
    "df1 = pd.DataFrame(np.random.randn(6, 4),\n",
    "                   index=list('abcdef'),\n",
    "                   columns=list('ABCD'))\n",
    "df1"
   ]
  },
  {
   "cell_type": "code",
   "execution_count": 141,
   "id": "b6c3e5cd",
   "metadata": {
    "execution": {
     "iopub.execute_input": "2022-09-29T06:59:04.779247Z",
     "iopub.status.busy": "2022-09-29T06:59:04.777510Z",
     "iopub.status.idle": "2022-09-29T06:59:04.793851Z",
     "shell.execute_reply": "2022-09-29T06:59:04.792489Z"
    },
    "papermill": {
     "duration": 0.096336,
     "end_time": "2022-09-29T06:59:04.796343",
     "exception": false,
     "start_time": "2022-09-29T06:59:04.700007",
     "status": "completed"
    },
    "tags": []
   },
   "outputs": [
    {
     "data": {
      "text/html": [
       "<div>\n",
       "<style scoped>\n",
       "    .dataframe tbody tr th:only-of-type {\n",
       "        vertical-align: middle;\n",
       "    }\n",
       "\n",
       "    .dataframe tbody tr th {\n",
       "        vertical-align: top;\n",
       "    }\n",
       "\n",
       "    .dataframe thead th {\n",
       "        text-align: right;\n",
       "    }\n",
       "</style>\n",
       "<table border=\"1\" class=\"dataframe\">\n",
       "  <thead>\n",
       "    <tr style=\"text-align: right;\">\n",
       "      <th></th>\n",
       "      <th>A</th>\n",
       "      <th>B</th>\n",
       "      <th>C</th>\n",
       "      <th>D</th>\n",
       "    </tr>\n",
       "  </thead>\n",
       "  <tbody>\n",
       "    <tr>\n",
       "      <th>b</th>\n",
       "      <td>1.172201</td>\n",
       "      <td>-0.507478</td>\n",
       "      <td>1.650087</td>\n",
       "      <td>0.828482</td>\n",
       "    </tr>\n",
       "    <tr>\n",
       "      <th>c</th>\n",
       "      <td>1.055931</td>\n",
       "      <td>-1.160095</td>\n",
       "      <td>-0.462804</td>\n",
       "      <td>-0.911537</td>\n",
       "    </tr>\n",
       "    <tr>\n",
       "      <th>e</th>\n",
       "      <td>0.136734</td>\n",
       "      <td>1.774432</td>\n",
       "      <td>-0.019708</td>\n",
       "      <td>-0.210160</td>\n",
       "    </tr>\n",
       "    <tr>\n",
       "      <th>f</th>\n",
       "      <td>1.072003</td>\n",
       "      <td>-0.554390</td>\n",
       "      <td>-1.536757</td>\n",
       "      <td>-0.838860</td>\n",
       "    </tr>\n",
       "  </tbody>\n",
       "</table>\n",
       "</div>"
      ],
      "text/plain": [
       "          A         B         C         D\n",
       "b  1.172201 -0.507478  1.650087  0.828482\n",
       "c  1.055931 -1.160095 -0.462804 -0.911537\n",
       "e  0.136734  1.774432 -0.019708 -0.210160\n",
       "f  1.072003 -0.554390 -1.536757 -0.838860"
      ]
     },
     "execution_count": 141,
     "metadata": {},
     "output_type": "execute_result"
    }
   ],
   "source": [
    "df1.loc[lambda df: df['A'] > 0, :]"
   ]
  },
  {
   "cell_type": "code",
   "execution_count": 142,
   "id": "74a2f160",
   "metadata": {
    "execution": {
     "iopub.execute_input": "2022-09-29T06:59:04.954847Z",
     "iopub.status.busy": "2022-09-29T06:59:04.953709Z",
     "iopub.status.idle": "2022-09-29T06:59:04.967753Z",
     "shell.execute_reply": "2022-09-29T06:59:04.966225Z"
    },
    "papermill": {
     "duration": 0.097533,
     "end_time": "2022-09-29T06:59:04.970528",
     "exception": false,
     "start_time": "2022-09-29T06:59:04.872995",
     "status": "completed"
    },
    "tags": []
   },
   "outputs": [
    {
     "data": {
      "text/html": [
       "<div>\n",
       "<style scoped>\n",
       "    .dataframe tbody tr th:only-of-type {\n",
       "        vertical-align: middle;\n",
       "    }\n",
       "\n",
       "    .dataframe tbody tr th {\n",
       "        vertical-align: top;\n",
       "    }\n",
       "\n",
       "    .dataframe thead th {\n",
       "        text-align: right;\n",
       "    }\n",
       "</style>\n",
       "<table border=\"1\" class=\"dataframe\">\n",
       "  <thead>\n",
       "    <tr style=\"text-align: right;\">\n",
       "      <th></th>\n",
       "      <th>A</th>\n",
       "      <th>B</th>\n",
       "    </tr>\n",
       "  </thead>\n",
       "  <tbody>\n",
       "    <tr>\n",
       "      <th>a</th>\n",
       "      <td>-1.710307</td>\n",
       "      <td>-0.336591</td>\n",
       "    </tr>\n",
       "    <tr>\n",
       "      <th>b</th>\n",
       "      <td>1.172201</td>\n",
       "      <td>-0.507478</td>\n",
       "    </tr>\n",
       "    <tr>\n",
       "      <th>c</th>\n",
       "      <td>1.055931</td>\n",
       "      <td>-1.160095</td>\n",
       "    </tr>\n",
       "    <tr>\n",
       "      <th>d</th>\n",
       "      <td>-0.534750</td>\n",
       "      <td>-1.751393</td>\n",
       "    </tr>\n",
       "    <tr>\n",
       "      <th>e</th>\n",
       "      <td>0.136734</td>\n",
       "      <td>1.774432</td>\n",
       "    </tr>\n",
       "    <tr>\n",
       "      <th>f</th>\n",
       "      <td>1.072003</td>\n",
       "      <td>-0.554390</td>\n",
       "    </tr>\n",
       "  </tbody>\n",
       "</table>\n",
       "</div>"
      ],
      "text/plain": [
       "          A         B\n",
       "a -1.710307 -0.336591\n",
       "b  1.172201 -0.507478\n",
       "c  1.055931 -1.160095\n",
       "d -0.534750 -1.751393\n",
       "e  0.136734  1.774432\n",
       "f  1.072003 -0.554390"
      ]
     },
     "execution_count": 142,
     "metadata": {},
     "output_type": "execute_result"
    }
   ],
   "source": [
    "df1.loc[:, lambda df: ['A', 'B']]   #using loc"
   ]
  },
  {
   "cell_type": "code",
   "execution_count": 143,
   "id": "c4fa21de",
   "metadata": {
    "execution": {
     "iopub.execute_input": "2022-09-29T06:59:05.131219Z",
     "iopub.status.busy": "2022-09-29T06:59:05.130703Z",
     "iopub.status.idle": "2022-09-29T06:59:05.144822Z",
     "shell.execute_reply": "2022-09-29T06:59:05.143443Z"
    },
    "papermill": {
     "duration": 0.09734,
     "end_time": "2022-09-29T06:59:05.147600",
     "exception": false,
     "start_time": "2022-09-29T06:59:05.050260",
     "status": "completed"
    },
    "tags": []
   },
   "outputs": [
    {
     "data": {
      "text/html": [
       "<div>\n",
       "<style scoped>\n",
       "    .dataframe tbody tr th:only-of-type {\n",
       "        vertical-align: middle;\n",
       "    }\n",
       "\n",
       "    .dataframe tbody tr th {\n",
       "        vertical-align: top;\n",
       "    }\n",
       "\n",
       "    .dataframe thead th {\n",
       "        text-align: right;\n",
       "    }\n",
       "</style>\n",
       "<table border=\"1\" class=\"dataframe\">\n",
       "  <thead>\n",
       "    <tr style=\"text-align: right;\">\n",
       "      <th></th>\n",
       "      <th>A</th>\n",
       "      <th>B</th>\n",
       "    </tr>\n",
       "  </thead>\n",
       "  <tbody>\n",
       "    <tr>\n",
       "      <th>a</th>\n",
       "      <td>-1.710307</td>\n",
       "      <td>-0.336591</td>\n",
       "    </tr>\n",
       "    <tr>\n",
       "      <th>b</th>\n",
       "      <td>1.172201</td>\n",
       "      <td>-0.507478</td>\n",
       "    </tr>\n",
       "    <tr>\n",
       "      <th>c</th>\n",
       "      <td>1.055931</td>\n",
       "      <td>-1.160095</td>\n",
       "    </tr>\n",
       "    <tr>\n",
       "      <th>d</th>\n",
       "      <td>-0.534750</td>\n",
       "      <td>-1.751393</td>\n",
       "    </tr>\n",
       "    <tr>\n",
       "      <th>e</th>\n",
       "      <td>0.136734</td>\n",
       "      <td>1.774432</td>\n",
       "    </tr>\n",
       "    <tr>\n",
       "      <th>f</th>\n",
       "      <td>1.072003</td>\n",
       "      <td>-0.554390</td>\n",
       "    </tr>\n",
       "  </tbody>\n",
       "</table>\n",
       "</div>"
      ],
      "text/plain": [
       "          A         B\n",
       "a -1.710307 -0.336591\n",
       "b  1.172201 -0.507478\n",
       "c  1.055931 -1.160095\n",
       "d -0.534750 -1.751393\n",
       "e  0.136734  1.774432\n",
       "f  1.072003 -0.554390"
      ]
     },
     "execution_count": 143,
     "metadata": {},
     "output_type": "execute_result"
    }
   ],
   "source": [
    "df1.iloc[:, lambda df: [0, 1]]    #using iloc"
   ]
  },
  {
   "cell_type": "code",
   "execution_count": 144,
   "id": "bb4c6a87",
   "metadata": {
    "execution": {
     "iopub.execute_input": "2022-09-29T06:59:05.310435Z",
     "iopub.status.busy": "2022-09-29T06:59:05.309082Z",
     "iopub.status.idle": "2022-09-29T06:59:05.319507Z",
     "shell.execute_reply": "2022-09-29T06:59:05.318123Z"
    },
    "papermill": {
     "duration": 0.096128,
     "end_time": "2022-09-29T06:59:05.322570",
     "exception": false,
     "start_time": "2022-09-29T06:59:05.226442",
     "status": "completed"
    },
    "tags": []
   },
   "outputs": [
    {
     "data": {
      "text/plain": [
       "a   -1.710307\n",
       "b    1.172201\n",
       "c    1.055931\n",
       "d   -0.534750\n",
       "e    0.136734\n",
       "f    1.072003\n",
       "Name: A, dtype: float64"
      ]
     },
     "execution_count": 144,
     "metadata": {},
     "output_type": "execute_result"
    }
   ],
   "source": [
    "df1[lambda df: df.columns[0]]"
   ]
  },
  {
   "cell_type": "code",
   "execution_count": 145,
   "id": "60b2cab3",
   "metadata": {
    "execution": {
     "iopub.execute_input": "2022-09-29T06:59:05.485095Z",
     "iopub.status.busy": "2022-09-29T06:59:05.483993Z",
     "iopub.status.idle": "2022-09-29T06:59:05.495104Z",
     "shell.execute_reply": "2022-09-29T06:59:05.493534Z"
    },
    "papermill": {
     "duration": 0.093105,
     "end_time": "2022-09-29T06:59:05.497632",
     "exception": false,
     "start_time": "2022-09-29T06:59:05.404527",
     "status": "completed"
    },
    "tags": []
   },
   "outputs": [
    {
     "data": {
      "text/plain": [
       "b    1.172201\n",
       "c    1.055931\n",
       "e    0.136734\n",
       "f    1.072003\n",
       "Name: A, dtype: float64"
      ]
     },
     "execution_count": 145,
     "metadata": {},
     "output_type": "execute_result"
    }
   ],
   "source": [
    "#You can use callable indexing in Series.\n",
    "\n",
    "df1['A'].loc[lambda s: s > 0]"
   ]
  },
  {
   "cell_type": "markdown",
   "id": "ff5a3451",
   "metadata": {
    "papermill": {
     "duration": 0.079621,
     "end_time": "2022-09-29T06:59:05.657184",
     "exception": false,
     "start_time": "2022-09-29T06:59:05.577563",
     "status": "completed"
    },
    "tags": []
   },
   "source": [
    "## Indexing and selecting data In DataFrame | Combining positional and label-based indexing\n",
    "If you wish to get the 0th and the 2nd elements from the index in the ‘A’ column, you can do:"
   ]
  },
  {
   "cell_type": "code",
   "execution_count": 146,
   "id": "a9a96063",
   "metadata": {
    "execution": {
     "iopub.execute_input": "2022-09-29T06:59:05.817257Z",
     "iopub.status.busy": "2022-09-29T06:59:05.816487Z",
     "iopub.status.idle": "2022-09-29T06:59:05.828850Z",
     "shell.execute_reply": "2022-09-29T06:59:05.827396Z"
    },
    "papermill": {
     "duration": 0.097156,
     "end_time": "2022-09-29T06:59:05.831726",
     "exception": false,
     "start_time": "2022-09-29T06:59:05.734570",
     "status": "completed"
    },
    "tags": []
   },
   "outputs": [
    {
     "data": {
      "text/html": [
       "<div>\n",
       "<style scoped>\n",
       "    .dataframe tbody tr th:only-of-type {\n",
       "        vertical-align: middle;\n",
       "    }\n",
       "\n",
       "    .dataframe tbody tr th {\n",
       "        vertical-align: top;\n",
       "    }\n",
       "\n",
       "    .dataframe thead th {\n",
       "        text-align: right;\n",
       "    }\n",
       "</style>\n",
       "<table border=\"1\" class=\"dataframe\">\n",
       "  <thead>\n",
       "    <tr style=\"text-align: right;\">\n",
       "      <th></th>\n",
       "      <th>A</th>\n",
       "      <th>B</th>\n",
       "    </tr>\n",
       "  </thead>\n",
       "  <tbody>\n",
       "    <tr>\n",
       "      <th>a</th>\n",
       "      <td>1</td>\n",
       "      <td>4</td>\n",
       "    </tr>\n",
       "    <tr>\n",
       "      <th>b</th>\n",
       "      <td>2</td>\n",
       "      <td>5</td>\n",
       "    </tr>\n",
       "    <tr>\n",
       "      <th>c</th>\n",
       "      <td>3</td>\n",
       "      <td>6</td>\n",
       "    </tr>\n",
       "  </tbody>\n",
       "</table>\n",
       "</div>"
      ],
      "text/plain": [
       "   A  B\n",
       "a  1  4\n",
       "b  2  5\n",
       "c  3  6"
      ]
     },
     "execution_count": 146,
     "metadata": {},
     "output_type": "execute_result"
    }
   ],
   "source": [
    "dfd = pd.DataFrame({'A': [1, 2, 3],\n",
    "   ....:                     'B': [4, 5, 6]},\n",
    "   ....:                    index=list('abc'))\n",
    "dfd"
   ]
  },
  {
   "cell_type": "code",
   "execution_count": 147,
   "id": "4a6117ac",
   "metadata": {
    "execution": {
     "iopub.execute_input": "2022-09-29T06:59:06.030919Z",
     "iopub.status.busy": "2022-09-29T06:59:06.029625Z",
     "iopub.status.idle": "2022-09-29T06:59:06.040927Z",
     "shell.execute_reply": "2022-09-29T06:59:06.039334Z"
    },
    "papermill": {
     "duration": 0.093006,
     "end_time": "2022-09-29T06:59:06.043529",
     "exception": false,
     "start_time": "2022-09-29T06:59:05.950523",
     "status": "completed"
    },
    "tags": []
   },
   "outputs": [
    {
     "data": {
      "text/plain": [
       "a    1\n",
       "c    3\n",
       "Name: A, dtype: int64"
      ]
     },
     "execution_count": 147,
     "metadata": {},
     "output_type": "execute_result"
    }
   ],
   "source": [
    "#Getting value of column \"A\" at row or Position 0,2:\n",
    "#dfd.loc[[\"a\",\"c\"],'A']\n",
    "\n",
    "dfd.loc[dfd.index[[0,2]],'A']"
   ]
  },
  {
   "cell_type": "markdown",
   "id": "f59b35bf",
   "metadata": {
    "papermill": {
     "duration": 0.076742,
     "end_time": "2022-09-29T06:59:06.200265",
     "exception": false,
     "start_time": "2022-09-29T06:59:06.123523",
     "status": "completed"
    },
    "tags": []
   },
   "source": [
    "> ## ✍️ Note:\n",
    "> This can also be expressed using **.iloc**, by explicitly getting locations on the indexers, and using positional indexing to select things."
   ]
  },
  {
   "cell_type": "code",
   "execution_count": 148,
   "id": "4d81f9c4",
   "metadata": {
    "execution": {
     "iopub.execute_input": "2022-09-29T06:59:06.359715Z",
     "iopub.status.busy": "2022-09-29T06:59:06.357264Z",
     "iopub.status.idle": "2022-09-29T06:59:06.368689Z",
     "shell.execute_reply": "2022-09-29T06:59:06.367294Z"
    },
    "papermill": {
     "duration": 0.093692,
     "end_time": "2022-09-29T06:59:06.371387",
     "exception": false,
     "start_time": "2022-09-29T06:59:06.277695",
     "status": "completed"
    },
    "tags": []
   },
   "outputs": [
    {
     "data": {
      "text/plain": [
       "a    1\n",
       "c    3\n",
       "Name: A, dtype: int64"
      ]
     },
     "execution_count": 148,
     "metadata": {},
     "output_type": "execute_result"
    }
   ],
   "source": [
    "dfd.iloc[[0, 2], dfd.columns.get_loc('A')]"
   ]
  },
  {
   "cell_type": "code",
   "execution_count": 149,
   "id": "f7d6573b",
   "metadata": {
    "execution": {
     "iopub.execute_input": "2022-09-29T06:59:06.530876Z",
     "iopub.status.busy": "2022-09-29T06:59:06.529680Z",
     "iopub.status.idle": "2022-09-29T06:59:06.542910Z",
     "shell.execute_reply": "2022-09-29T06:59:06.541434Z"
    },
    "papermill": {
     "duration": 0.095098,
     "end_time": "2022-09-29T06:59:06.545761",
     "exception": false,
     "start_time": "2022-09-29T06:59:06.450663",
     "status": "completed"
    },
    "tags": []
   },
   "outputs": [
    {
     "data": {
      "text/html": [
       "<div>\n",
       "<style scoped>\n",
       "    .dataframe tbody tr th:only-of-type {\n",
       "        vertical-align: middle;\n",
       "    }\n",
       "\n",
       "    .dataframe tbody tr th {\n",
       "        vertical-align: top;\n",
       "    }\n",
       "\n",
       "    .dataframe thead th {\n",
       "        text-align: right;\n",
       "    }\n",
       "</style>\n",
       "<table border=\"1\" class=\"dataframe\">\n",
       "  <thead>\n",
       "    <tr style=\"text-align: right;\">\n",
       "      <th></th>\n",
       "      <th>A</th>\n",
       "      <th>B</th>\n",
       "    </tr>\n",
       "  </thead>\n",
       "  <tbody>\n",
       "    <tr>\n",
       "      <th>a</th>\n",
       "      <td>1</td>\n",
       "      <td>4</td>\n",
       "    </tr>\n",
       "    <tr>\n",
       "      <th>c</th>\n",
       "      <td>3</td>\n",
       "      <td>6</td>\n",
       "    </tr>\n",
       "  </tbody>\n",
       "</table>\n",
       "</div>"
      ],
      "text/plain": [
       "   A  B\n",
       "a  1  4\n",
       "c  3  6"
      ]
     },
     "execution_count": 149,
     "metadata": {},
     "output_type": "execute_result"
    }
   ],
   "source": [
    "dfd.iloc[[0, 2], dfd.columns.get_indexer(['A', 'B'])]"
   ]
  },
  {
   "cell_type": "markdown",
   "id": "a606b59a",
   "metadata": {
    "papermill": {
     "duration": 0.077755,
     "end_time": "2022-09-29T06:59:06.703391",
     "exception": false,
     "start_time": "2022-09-29T06:59:06.625636",
     "status": "completed"
    },
    "tags": []
   },
   "source": [
    "## Indexing and selecting data In DataFrame | Indexing with list with missing labels is deprecated:\n",
    "- In prior versions, using .loc[list-of-labels] would work as long as at least 1 of the keys was found (otherwise it would raise a KeyError). This behavior was changed and will now raise a KeyError if at least one label is missing. The recommended alternative is to use .reindex().\n",
    "\n",
    "For example."
   ]
  },
  {
   "cell_type": "code",
   "execution_count": 150,
   "id": "e4fa337d",
   "metadata": {
    "execution": {
     "iopub.execute_input": "2022-09-29T06:59:06.864913Z",
     "iopub.status.busy": "2022-09-29T06:59:06.864233Z",
     "iopub.status.idle": "2022-09-29T06:59:06.877857Z",
     "shell.execute_reply": "2022-09-29T06:59:06.875898Z"
    },
    "papermill": {
     "duration": 0.09856,
     "end_time": "2022-09-29T06:59:06.881240",
     "exception": false,
     "start_time": "2022-09-29T06:59:06.782680",
     "status": "completed"
    },
    "tags": []
   },
   "outputs": [
    {
     "data": {
      "text/plain": [
       "0    1\n",
       "1    2\n",
       "2    3\n",
       "dtype: int64"
      ]
     },
     "execution_count": 150,
     "metadata": {},
     "output_type": "execute_result"
    }
   ],
   "source": [
    "s = pd.Series([1, 2, 3])\n",
    "s"
   ]
  },
  {
   "cell_type": "code",
   "execution_count": 151,
   "id": "99d74bf6",
   "metadata": {
    "execution": {
     "iopub.execute_input": "2022-09-29T06:59:07.056966Z",
     "iopub.status.busy": "2022-09-29T06:59:07.054493Z",
     "iopub.status.idle": "2022-09-29T06:59:07.071304Z",
     "shell.execute_reply": "2022-09-29T06:59:07.069580Z"
    },
    "papermill": {
     "duration": 0.104996,
     "end_time": "2022-09-29T06:59:07.076528",
     "exception": false,
     "start_time": "2022-09-29T06:59:06.971532",
     "status": "completed"
    },
    "tags": []
   },
   "outputs": [
    {
     "data": {
      "text/plain": [
       "1    2\n",
       "2    3\n",
       "dtype: int64"
      ]
     },
     "execution_count": 151,
     "metadata": {},
     "output_type": "execute_result"
    }
   ],
   "source": [
    "s.loc[[1, 2]]\n"
   ]
  },
  {
   "cell_type": "markdown",
   "id": "7ed38993",
   "metadata": {
    "papermill": {
     "duration": 0.082953,
     "end_time": "2022-09-29T06:59:07.262554",
     "exception": false,
     "start_time": "2022-09-29T06:59:07.179601",
     "status": "completed"
    },
    "tags": []
   },
   "source": [
    "``` python \n",
    "# Previous Behavior:\n",
    "\n",
    "s.loc[[1, 2, 3]]\n",
    "Out[4]:\n",
    "1    2.0\n",
    "2    3.0\n",
    "3    NaN\n",
    "dtype: float64\n",
    "\n",
    "#Current Behavior:\n",
    "\n",
    "s.loc[[1, 2, 3]]\n",
    "---------------------------------------------------------------------------\n",
    "KeyError                                  Traceback (most recent call last)\n",
    "/tmp/ipykernel_17/3597896592.py in <module>\n",
    "----> 1 s.loc[[1, 2, 3]]\n",
    "----Other Error removed----\n",
    "\n",
    "KeyError: '[3] not in index'\n",
    "    \n",
    "```\n"
   ]
  },
  {
   "cell_type": "markdown",
   "id": "a89c58be",
   "metadata": {
    "papermill": {
     "duration": 0.078161,
     "end_time": "2022-09-29T06:59:07.418655",
     "exception": false,
     "start_time": "2022-09-29T06:59:07.340494",
     "status": "completed"
    },
    "tags": []
   },
   "source": [
    "### Indexing with list with missing labels is deprecated: | Reindexing\n",
    "- The idiomatic way to achieve selecting potentially not-found elements is via .reindex(). See also the section on reindexing."
   ]
  },
  {
   "cell_type": "code",
   "execution_count": 152,
   "id": "6ce490aa",
   "metadata": {
    "execution": {
     "iopub.execute_input": "2022-09-29T06:59:07.576080Z",
     "iopub.status.busy": "2022-09-29T06:59:07.574809Z",
     "iopub.status.idle": "2022-09-29T06:59:07.586183Z",
     "shell.execute_reply": "2022-09-29T06:59:07.584791Z"
    },
    "papermill": {
     "duration": 0.09536,
     "end_time": "2022-09-29T06:59:07.589444",
     "exception": false,
     "start_time": "2022-09-29T06:59:07.494084",
     "status": "completed"
    },
    "tags": []
   },
   "outputs": [
    {
     "data": {
      "text/plain": [
       "1    2.0\n",
       "2    3.0\n",
       "3    NaN\n",
       "dtype: float64"
      ]
     },
     "execution_count": 152,
     "metadata": {},
     "output_type": "execute_result"
    }
   ],
   "source": [
    "s.reindex([1, 2, 3])"
   ]
  },
  {
   "cell_type": "markdown",
   "id": "c0311ad7",
   "metadata": {
    "papermill": {
     "duration": 0.076438,
     "end_time": "2022-09-29T06:59:07.743395",
     "exception": false,
     "start_time": "2022-09-29T06:59:07.666957",
     "status": "completed"
    },
    "tags": []
   },
   "source": [
    "> #### Alternatively, if you want to select only valid keys, the following is idiomatic and efficient; it is guaranteed to preserve the dtype of the selection."
   ]
  },
  {
   "cell_type": "code",
   "execution_count": 153,
   "id": "8f7b6bd7",
   "metadata": {
    "execution": {
     "iopub.execute_input": "2022-09-29T06:59:07.903004Z",
     "iopub.status.busy": "2022-09-29T06:59:07.902568Z",
     "iopub.status.idle": "2022-09-29T06:59:07.914275Z",
     "shell.execute_reply": "2022-09-29T06:59:07.912911Z"
    },
    "papermill": {
     "duration": 0.094785,
     "end_time": "2022-09-29T06:59:07.917094",
     "exception": false,
     "start_time": "2022-09-29T06:59:07.822309",
     "status": "completed"
    },
    "tags": []
   },
   "outputs": [
    {
     "data": {
      "text/plain": [
       "1    2\n",
       "2    3\n",
       "dtype: int64"
      ]
     },
     "execution_count": 153,
     "metadata": {},
     "output_type": "execute_result"
    }
   ],
   "source": [
    "labels = [1, 2, 3]\n",
    "s.loc[s.index.intersection(labels)]"
   ]
  },
  {
   "cell_type": "markdown",
   "id": "923b4683",
   "metadata": {
    "papermill": {
     "duration": 0.07741,
     "end_time": "2022-09-29T06:59:08.073569",
     "exception": false,
     "start_time": "2022-09-29T06:59:07.996159",
     "status": "completed"
    },
    "tags": []
   },
   "source": [
    "> #### Having a duplicated index will raise for a .reindex():"
   ]
  },
  {
   "cell_type": "code",
   "execution_count": 154,
   "id": "204b266c",
   "metadata": {
    "execution": {
     "iopub.execute_input": "2022-09-29T06:59:08.233124Z",
     "iopub.status.busy": "2022-09-29T06:59:08.231921Z",
     "iopub.status.idle": "2022-09-29T06:59:08.239224Z",
     "shell.execute_reply": "2022-09-29T06:59:08.238020Z"
    },
    "papermill": {
     "duration": 0.090099,
     "end_time": "2022-09-29T06:59:08.241856",
     "exception": false,
     "start_time": "2022-09-29T06:59:08.151757",
     "status": "completed"
    },
    "tags": []
   },
   "outputs": [],
   "source": [
    "s = pd.Series(np.arange(4), index=['a', 'a', 'b', 'c'])\n",
    "labels = ['c', 'd']"
   ]
  },
  {
   "cell_type": "markdown",
   "id": "1bfe562d",
   "metadata": {
    "papermill": {
     "duration": 0.077797,
     "end_time": "2022-09-29T06:59:08.398375",
     "exception": false,
     "start_time": "2022-09-29T06:59:08.320578",
     "status": "completed"
    },
    "tags": []
   },
   "source": [
    "``` python\n",
    "s.reindex(labels)\n",
    "\n",
    "---------------------------------------------------------------------------\n",
    "ValueError                                Traceback (most recent call last)\n",
    "/tmp/ipykernel_17/3168030933.py in <module>\n",
    "----> 1 s.reindex(labels)\n",
    "\n",
    "\n",
    "----extra error----\n",
    "ValueError: cannot reindex from a duplicate axis\n",
    "  \n",
    "```\n",
    "\n"
   ]
  },
  {
   "cell_type": "code",
   "execution_count": 155,
   "id": "c2619d2e",
   "metadata": {
    "execution": {
     "iopub.execute_input": "2022-09-29T06:59:08.562587Z",
     "iopub.status.busy": "2022-09-29T06:59:08.561335Z",
     "iopub.status.idle": "2022-09-29T06:59:08.574945Z",
     "shell.execute_reply": "2022-09-29T06:59:08.573636Z"
    },
    "papermill": {
     "duration": 0.098447,
     "end_time": "2022-09-29T06:59:08.577648",
     "exception": false,
     "start_time": "2022-09-29T06:59:08.479201",
     "status": "completed"
    },
    "tags": []
   },
   "outputs": [
    {
     "data": {
      "text/plain": [
       "c    3.0\n",
       "d    NaN\n",
       "dtype: float64"
      ]
     },
     "execution_count": 155,
     "metadata": {},
     "output_type": "execute_result"
    }
   ],
   "source": [
    "s.loc[s.index.intersection(labels)].reindex(labels)"
   ]
  },
  {
   "cell_type": "markdown",
   "id": "1c463402",
   "metadata": {
    "papermill": {
     "duration": 0.078587,
     "end_time": "2022-09-29T06:59:08.735461",
     "exception": false,
     "start_time": "2022-09-29T06:59:08.656874",
     "status": "completed"
    },
    "tags": []
   },
   "source": [
    "> #### However, this would still raise if your resulting index is duplicated."
   ]
  },
  {
   "cell_type": "markdown",
   "id": "1f8eb736",
   "metadata": {
    "papermill": {
     "duration": 0.076122,
     "end_time": "2022-09-29T06:59:08.889844",
     "exception": false,
     "start_time": "2022-09-29T06:59:08.813722",
     "status": "completed"
    },
    "tags": []
   },
   "source": [
    "``` python\n",
    "\n",
    "labels = ['a', 'd']\n",
    "s.loc[s.index.intersection(labels)].reindex(labels)\n",
    "\n",
    "\n",
    "---------------------------------------------------------------------------\n",
    "ValueError                                Traceback (most recent call last)\n",
    "/tmp/ipykernel_17/2354864613.py in <module>\n",
    "      1 labels = ['a', 'd']\n",
    "----> 2 s.loc[s.index.intersection(labels)].reindex(labels)\n",
    "\n",
    "----extra error rempved----\n",
    "ValueError: cannot reindex from a duplicate axis\n",
    "    \n",
    "```"
   ]
  },
  {
   "cell_type": "markdown",
   "id": "21ee0af8",
   "metadata": {
    "papermill": {
     "duration": 0.074851,
     "end_time": "2022-09-29T06:59:09.043470",
     "exception": false,
     "start_time": "2022-09-29T06:59:08.968619",
     "status": "completed"
    },
    "tags": []
   },
   "source": [
    "## Selecting random samples:\n",
    "A random selection of rows or columns from a Series or DataFrame with the sample() method. The method will sample rows by default, and accepts a specific number of rows/columns to return, or a fraction of rows."
   ]
  },
  {
   "cell_type": "code",
   "execution_count": 156,
   "id": "2f2ab126",
   "metadata": {
    "execution": {
     "iopub.execute_input": "2022-09-29T06:59:09.236034Z",
     "iopub.status.busy": "2022-09-29T06:59:09.235633Z",
     "iopub.status.idle": "2022-09-29T06:59:09.244928Z",
     "shell.execute_reply": "2022-09-29T06:59:09.243584Z"
    },
    "papermill": {
     "duration": 0.089291,
     "end_time": "2022-09-29T06:59:09.247704",
     "exception": false,
     "start_time": "2022-09-29T06:59:09.158413",
     "status": "completed"
    },
    "tags": []
   },
   "outputs": [
    {
     "data": {
      "text/plain": [
       "0    0\n",
       "1    1\n",
       "2    2\n",
       "3    3\n",
       "4    4\n",
       "5    5\n",
       "dtype: int64"
      ]
     },
     "execution_count": 156,
     "metadata": {},
     "output_type": "execute_result"
    }
   ],
   "source": [
    "s = pd.Series([0, 1, 2, 3, 4, 5])\n",
    "s"
   ]
  },
  {
   "cell_type": "code",
   "execution_count": 157,
   "id": "1ff5e37f",
   "metadata": {
    "execution": {
     "iopub.execute_input": "2022-09-29T06:59:09.408026Z",
     "iopub.status.busy": "2022-09-29T06:59:09.406879Z",
     "iopub.status.idle": "2022-09-29T06:59:09.417050Z",
     "shell.execute_reply": "2022-09-29T06:59:09.415713Z"
    },
    "papermill": {
     "duration": 0.092207,
     "end_time": "2022-09-29T06:59:09.419635",
     "exception": false,
     "start_time": "2022-09-29T06:59:09.327428",
     "status": "completed"
    },
    "tags": []
   },
   "outputs": [
    {
     "data": {
      "text/plain": [
       "5    5\n",
       "dtype: int64"
      ]
     },
     "execution_count": 157,
     "metadata": {},
     "output_type": "execute_result"
    }
   ],
   "source": [
    "s.sample() ## When no arguments are passed, returns 1 row."
   ]
  },
  {
   "cell_type": "code",
   "execution_count": 158,
   "id": "efed4c1c",
   "metadata": {
    "execution": {
     "iopub.execute_input": "2022-09-29T06:59:09.577762Z",
     "iopub.status.busy": "2022-09-29T06:59:09.576537Z",
     "iopub.status.idle": "2022-09-29T06:59:09.586160Z",
     "shell.execute_reply": "2022-09-29T06:59:09.584820Z"
    },
    "papermill": {
     "duration": 0.089748,
     "end_time": "2022-09-29T06:59:09.588895",
     "exception": false,
     "start_time": "2022-09-29T06:59:09.499147",
     "status": "completed"
    },
    "tags": []
   },
   "outputs": [
    {
     "data": {
      "text/plain": [
       "0    0\n",
       "5    5\n",
       "2    2\n",
       "dtype: int64"
      ]
     },
     "execution_count": 158,
     "metadata": {},
     "output_type": "execute_result"
    }
   ],
   "source": [
    "s.sample(n=3) ## One may specify either a number of rows:"
   ]
  },
  {
   "cell_type": "code",
   "execution_count": 159,
   "id": "9f9ce551",
   "metadata": {
    "execution": {
     "iopub.execute_input": "2022-09-29T06:59:09.749870Z",
     "iopub.status.busy": "2022-09-29T06:59:09.749502Z",
     "iopub.status.idle": "2022-09-29T06:59:09.758072Z",
     "shell.execute_reply": "2022-09-29T06:59:09.756699Z"
    },
    "papermill": {
     "duration": 0.091208,
     "end_time": "2022-09-29T06:59:09.760816",
     "exception": false,
     "start_time": "2022-09-29T06:59:09.669608",
     "status": "completed"
    },
    "tags": []
   },
   "outputs": [
    {
     "data": {
      "text/plain": [
       "5    5\n",
       "4    4\n",
       "1    1\n",
       "dtype: int64"
      ]
     },
     "execution_count": 159,
     "metadata": {},
     "output_type": "execute_result"
    }
   ],
   "source": [
    "# Or a fraction of the rows:\n",
    "s.sample(frac=0.5)"
   ]
  },
  {
   "cell_type": "markdown",
   "id": "4120ded4",
   "metadata": {
    "papermill": {
     "duration": 0.078094,
     "end_time": "2022-09-29T06:59:09.918349",
     "exception": false,
     "start_time": "2022-09-29T06:59:09.840255",
     "status": "completed"
    },
    "tags": []
   },
   "source": [
    "## Indexing and selecting data In DataFrame | Setting with enlargement:\n",
    "- The .loc / [] operations can perform enlargement when setting a non-existent key for that axis.\n",
    "\n",
    "- In the Series case this is effectively an appending operation."
   ]
  },
  {
   "cell_type": "code",
   "execution_count": 160,
   "id": "5ab5febf",
   "metadata": {
    "execution": {
     "iopub.execute_input": "2022-09-29T06:59:10.077284Z",
     "iopub.status.busy": "2022-09-29T06:59:10.076916Z",
     "iopub.status.idle": "2022-09-29T06:59:10.085978Z",
     "shell.execute_reply": "2022-09-29T06:59:10.084633Z"
    },
    "papermill": {
     "duration": 0.09256,
     "end_time": "2022-09-29T06:59:10.088599",
     "exception": false,
     "start_time": "2022-09-29T06:59:09.996039",
     "status": "completed"
    },
    "tags": []
   },
   "outputs": [
    {
     "data": {
      "text/plain": [
       "0    1\n",
       "1    2\n",
       "2    3\n",
       "dtype: int64"
      ]
     },
     "execution_count": 160,
     "metadata": {},
     "output_type": "execute_result"
    }
   ],
   "source": [
    "se = pd.Series([1, 2, 3])\n",
    "se"
   ]
  },
  {
   "cell_type": "code",
   "execution_count": 161,
   "id": "27622476",
   "metadata": {
    "execution": {
     "iopub.execute_input": "2022-09-29T06:59:10.248823Z",
     "iopub.status.busy": "2022-09-29T06:59:10.246873Z",
     "iopub.status.idle": "2022-09-29T06:59:10.259184Z",
     "shell.execute_reply": "2022-09-29T06:59:10.257735Z"
    },
    "papermill": {
     "duration": 0.09511,
     "end_time": "2022-09-29T06:59:10.262157",
     "exception": false,
     "start_time": "2022-09-29T06:59:10.167047",
     "status": "completed"
    },
    "tags": []
   },
   "outputs": [
    {
     "data": {
      "text/plain": [
       "0    1.0\n",
       "1    2.0\n",
       "2    3.0\n",
       "5    5.0\n",
       "dtype: float64"
      ]
     },
     "execution_count": 161,
     "metadata": {},
     "output_type": "execute_result"
    }
   ],
   "source": [
    "se[5] = 5.    #Setting a new index 5 with value 5.0\n",
    "se"
   ]
  },
  {
   "cell_type": "code",
   "execution_count": 162,
   "id": "5f082175",
   "metadata": {
    "execution": {
     "iopub.execute_input": "2022-09-29T06:59:10.422268Z",
     "iopub.status.busy": "2022-09-29T06:59:10.421478Z",
     "iopub.status.idle": "2022-09-29T06:59:10.432794Z",
     "shell.execute_reply": "2022-09-29T06:59:10.431477Z"
    },
    "papermill": {
     "duration": 0.095134,
     "end_time": "2022-09-29T06:59:10.435586",
     "exception": false,
     "start_time": "2022-09-29T06:59:10.340452",
     "status": "completed"
    },
    "tags": []
   },
   "outputs": [
    {
     "data": {
      "text/html": [
       "<div>\n",
       "<style scoped>\n",
       "    .dataframe tbody tr th:only-of-type {\n",
       "        vertical-align: middle;\n",
       "    }\n",
       "\n",
       "    .dataframe tbody tr th {\n",
       "        vertical-align: top;\n",
       "    }\n",
       "\n",
       "    .dataframe thead th {\n",
       "        text-align: right;\n",
       "    }\n",
       "</style>\n",
       "<table border=\"1\" class=\"dataframe\">\n",
       "  <thead>\n",
       "    <tr style=\"text-align: right;\">\n",
       "      <th></th>\n",
       "      <th>A</th>\n",
       "      <th>B</th>\n",
       "    </tr>\n",
       "  </thead>\n",
       "  <tbody>\n",
       "    <tr>\n",
       "      <th>0</th>\n",
       "      <td>0</td>\n",
       "      <td>1</td>\n",
       "    </tr>\n",
       "    <tr>\n",
       "      <th>1</th>\n",
       "      <td>2</td>\n",
       "      <td>3</td>\n",
       "    </tr>\n",
       "    <tr>\n",
       "      <th>2</th>\n",
       "      <td>4</td>\n",
       "      <td>5</td>\n",
       "    </tr>\n",
       "  </tbody>\n",
       "</table>\n",
       "</div>"
      ],
      "text/plain": [
       "   A  B\n",
       "0  0  1\n",
       "1  2  3\n",
       "2  4  5"
      ]
     },
     "execution_count": 162,
     "metadata": {},
     "output_type": "execute_result"
    }
   ],
   "source": [
    "dfi = pd.DataFrame(np.arange(6).reshape(3, 2),\n",
    "   .....:                    columns=['A', 'B'])\n",
    "dfi"
   ]
  },
  {
   "cell_type": "code",
   "execution_count": 163,
   "id": "88418968",
   "metadata": {
    "execution": {
     "iopub.execute_input": "2022-09-29T06:59:10.594360Z",
     "iopub.status.busy": "2022-09-29T06:59:10.593315Z",
     "iopub.status.idle": "2022-09-29T06:59:10.606550Z",
     "shell.execute_reply": "2022-09-29T06:59:10.604896Z"
    },
    "papermill": {
     "duration": 0.096708,
     "end_time": "2022-09-29T06:59:10.609339",
     "exception": false,
     "start_time": "2022-09-29T06:59:10.512631",
     "status": "completed"
    },
    "tags": []
   },
   "outputs": [
    {
     "data": {
      "text/html": [
       "<div>\n",
       "<style scoped>\n",
       "    .dataframe tbody tr th:only-of-type {\n",
       "        vertical-align: middle;\n",
       "    }\n",
       "\n",
       "    .dataframe tbody tr th {\n",
       "        vertical-align: top;\n",
       "    }\n",
       "\n",
       "    .dataframe thead th {\n",
       "        text-align: right;\n",
       "    }\n",
       "</style>\n",
       "<table border=\"1\" class=\"dataframe\">\n",
       "  <thead>\n",
       "    <tr style=\"text-align: right;\">\n",
       "      <th></th>\n",
       "      <th>A</th>\n",
       "      <th>B</th>\n",
       "      <th>C</th>\n",
       "    </tr>\n",
       "  </thead>\n",
       "  <tbody>\n",
       "    <tr>\n",
       "      <th>0</th>\n",
       "      <td>0</td>\n",
       "      <td>1</td>\n",
       "      <td>0</td>\n",
       "    </tr>\n",
       "    <tr>\n",
       "      <th>1</th>\n",
       "      <td>2</td>\n",
       "      <td>3</td>\n",
       "      <td>2</td>\n",
       "    </tr>\n",
       "    <tr>\n",
       "      <th>2</th>\n",
       "      <td>4</td>\n",
       "      <td>5</td>\n",
       "      <td>4</td>\n",
       "    </tr>\n",
       "  </tbody>\n",
       "</table>\n",
       "</div>"
      ],
      "text/plain": [
       "   A  B  C\n",
       "0  0  1  0\n",
       "1  2  3  2\n",
       "2  4  5  4"
      ]
     },
     "execution_count": 163,
     "metadata": {},
     "output_type": "execute_result"
    }
   ],
   "source": [
    "dfi.loc[:, 'C'] = dfi.loc[:, 'A']    #Column \"A\" value will Setting with to new column 'C'\n",
    "dfi\n"
   ]
  },
  {
   "cell_type": "code",
   "execution_count": 164,
   "id": "8db77820",
   "metadata": {
    "execution": {
     "iopub.execute_input": "2022-09-29T06:59:10.771517Z",
     "iopub.status.busy": "2022-09-29T06:59:10.771103Z",
     "iopub.status.idle": "2022-09-29T06:59:10.786728Z",
     "shell.execute_reply": "2022-09-29T06:59:10.785347Z"
    },
    "papermill": {
     "duration": 0.099381,
     "end_time": "2022-09-29T06:59:10.789447",
     "exception": false,
     "start_time": "2022-09-29T06:59:10.690066",
     "status": "completed"
    },
    "tags": []
   },
   "outputs": [
    {
     "data": {
      "text/html": [
       "<div>\n",
       "<style scoped>\n",
       "    .dataframe tbody tr th:only-of-type {\n",
       "        vertical-align: middle;\n",
       "    }\n",
       "\n",
       "    .dataframe tbody tr th {\n",
       "        vertical-align: top;\n",
       "    }\n",
       "\n",
       "    .dataframe thead th {\n",
       "        text-align: right;\n",
       "    }\n",
       "</style>\n",
       "<table border=\"1\" class=\"dataframe\">\n",
       "  <thead>\n",
       "    <tr style=\"text-align: right;\">\n",
       "      <th></th>\n",
       "      <th>A</th>\n",
       "      <th>B</th>\n",
       "      <th>C</th>\n",
       "    </tr>\n",
       "  </thead>\n",
       "  <tbody>\n",
       "    <tr>\n",
       "      <th>0</th>\n",
       "      <td>0</td>\n",
       "      <td>1</td>\n",
       "      <td>0</td>\n",
       "    </tr>\n",
       "    <tr>\n",
       "      <th>1</th>\n",
       "      <td>2</td>\n",
       "      <td>3</td>\n",
       "      <td>2</td>\n",
       "    </tr>\n",
       "    <tr>\n",
       "      <th>2</th>\n",
       "      <td>4</td>\n",
       "      <td>5</td>\n",
       "      <td>4</td>\n",
       "    </tr>\n",
       "    <tr>\n",
       "      <th>3</th>\n",
       "      <td>5</td>\n",
       "      <td>5</td>\n",
       "      <td>5</td>\n",
       "    </tr>\n",
       "  </tbody>\n",
       "</table>\n",
       "</div>"
      ],
      "text/plain": [
       "   A  B  C\n",
       "0  0  1  0\n",
       "1  2  3  2\n",
       "2  4  5  4\n",
       "3  5  5  5"
      ]
     },
     "execution_count": 164,
     "metadata": {},
     "output_type": "execute_result"
    }
   ],
   "source": [
    "dfi.loc[3] = 5  # Setting a new row index \"3\" with value 5\n",
    "dfi"
   ]
  },
  {
   "cell_type": "markdown",
   "id": "67b8a843",
   "metadata": {
    "papermill": {
     "duration": 0.079729,
     "end_time": "2022-09-29T06:59:10.947193",
     "exception": false,
     "start_time": "2022-09-29T06:59:10.867464",
     "status": "completed"
    },
    "tags": []
   },
   "source": [
    "## Fast scalar value getting and setting | Indexing and selecting data In DataFrame:\n",
    "- Since indexing with [] must handle a lot of cases (single-label access, slicing, boolean indexing, etc.), it has a bit of overhead in order to figure out what you’re asking for. If you only want to access a scalar value, the fastest way is to use the at and iat methods, which are implemented on all of the data structures.\n",
    "\n",
    "- Similarly to loc, at provides label based scalar lookups, while, iat provides integer based lookups analogously to iloc"
   ]
  },
  {
   "cell_type": "code",
   "execution_count": 165,
   "id": "2a4b85cc",
   "metadata": {
    "execution": {
     "iopub.execute_input": "2022-09-29T06:59:11.107787Z",
     "iopub.status.busy": "2022-09-29T06:59:11.106591Z",
     "iopub.status.idle": "2022-09-29T06:59:11.117096Z",
     "shell.execute_reply": "2022-09-29T06:59:11.115240Z"
    },
    "papermill": {
     "duration": 0.094574,
     "end_time": "2022-09-29T06:59:11.119906",
     "exception": false,
     "start_time": "2022-09-29T06:59:11.025332",
     "status": "completed"
    },
    "tags": []
   },
   "outputs": [
    {
     "name": "stdout",
     "output_type": "stream",
     "text": [
      "0    0\n",
      "1    1\n",
      "2    2\n",
      "3    3\n",
      "4    4\n",
      "5    5\n",
      "dtype: int64\n"
     ]
    },
    {
     "data": {
      "text/plain": [
       "5"
      ]
     },
     "execution_count": 165,
     "metadata": {},
     "output_type": "execute_result"
    }
   ],
   "source": [
    "print(s)\n",
    "s.iat[5]"
   ]
  },
  {
   "cell_type": "code",
   "execution_count": 166,
   "id": "f9823157",
   "metadata": {
    "execution": {
     "iopub.execute_input": "2022-09-29T06:59:11.282877Z",
     "iopub.status.busy": "2022-09-29T06:59:11.281781Z",
     "iopub.status.idle": "2022-09-29T06:59:11.296869Z",
     "shell.execute_reply": "2022-09-29T06:59:11.295205Z"
    },
    "papermill": {
     "duration": 0.099413,
     "end_time": "2022-09-29T06:59:11.300003",
     "exception": false,
     "start_time": "2022-09-29T06:59:11.200590",
     "status": "completed"
    },
    "tags": []
   },
   "outputs": [
    {
     "name": "stdout",
     "output_type": "stream",
     "text": [
      "                   A         B         C         D\n",
      "2000-01-01  1.747723  1.402904  2.021912  0.341947\n",
      "2000-01-02 -1.097969 -0.727633  0.669440  0.526305\n",
      "2000-01-03 -1.503982 -2.145250  0.603084 -0.299959\n",
      "2000-01-04 -1.303619 -1.015660 -1.652772  0.251474\n",
      "2000-01-05 -0.886956  0.048130  3.096559 -0.009938\n",
      "2000-01-06  1.646651 -0.581065  0.511260 -0.054996\n",
      "2000-01-07 -0.653317  0.079982 -2.154764 -0.258879\n",
      "2000-01-08  0.127853 -0.963385  1.796046 -0.527062\n"
     ]
    },
    {
     "data": {
      "text/plain": [
       "1.6466510997663297"
      ]
     },
     "execution_count": 166,
     "metadata": {},
     "output_type": "execute_result"
    }
   ],
   "source": [
    "print(df)\n",
    "\n",
    "df.at[dates[5], 'A']"
   ]
  },
  {
   "cell_type": "code",
   "execution_count": 167,
   "id": "e0374e3e",
   "metadata": {
    "execution": {
     "iopub.execute_input": "2022-09-29T06:59:11.463454Z",
     "iopub.status.busy": "2022-09-29T06:59:11.462288Z",
     "iopub.status.idle": "2022-09-29T06:59:11.471085Z",
     "shell.execute_reply": "2022-09-29T06:59:11.469747Z"
    },
    "papermill": {
     "duration": 0.094418,
     "end_time": "2022-09-29T06:59:11.473569",
     "exception": false,
     "start_time": "2022-09-29T06:59:11.379151",
     "status": "completed"
    },
    "tags": []
   },
   "outputs": [
    {
     "data": {
      "text/plain": [
       "-1.303619316152868"
      ]
     },
     "execution_count": 167,
     "metadata": {},
     "output_type": "execute_result"
    }
   ],
   "source": [
    "df.iat[3, 0]"
   ]
  },
  {
   "cell_type": "markdown",
   "id": "e717ff22",
   "metadata": {
    "papermill": {
     "duration": 0.080256,
     "end_time": "2022-09-29T06:59:11.631797",
     "exception": false,
     "start_time": "2022-09-29T06:59:11.551541",
     "status": "completed"
    },
    "tags": []
   },
   "source": [
    ">You can also set using these same indexers."
   ]
  },
  {
   "cell_type": "code",
   "execution_count": 168,
   "id": "0679b2ab",
   "metadata": {
    "execution": {
     "iopub.execute_input": "2022-09-29T06:59:11.795867Z",
     "iopub.status.busy": "2022-09-29T06:59:11.795494Z",
     "iopub.status.idle": "2022-09-29T06:59:11.813009Z",
     "shell.execute_reply": "2022-09-29T06:59:11.811826Z"
    },
    "papermill": {
     "duration": 0.102759,
     "end_time": "2022-09-29T06:59:11.815536",
     "exception": false,
     "start_time": "2022-09-29T06:59:11.712777",
     "status": "completed"
    },
    "tags": []
   },
   "outputs": [
    {
     "data": {
      "text/html": [
       "<div>\n",
       "<style scoped>\n",
       "    .dataframe tbody tr th:only-of-type {\n",
       "        vertical-align: middle;\n",
       "    }\n",
       "\n",
       "    .dataframe tbody tr th {\n",
       "        vertical-align: top;\n",
       "    }\n",
       "\n",
       "    .dataframe thead th {\n",
       "        text-align: right;\n",
       "    }\n",
       "</style>\n",
       "<table border=\"1\" class=\"dataframe\">\n",
       "  <thead>\n",
       "    <tr style=\"text-align: right;\">\n",
       "      <th></th>\n",
       "      <th>A</th>\n",
       "      <th>B</th>\n",
       "      <th>C</th>\n",
       "      <th>D</th>\n",
       "      <th>E</th>\n",
       "    </tr>\n",
       "  </thead>\n",
       "  <tbody>\n",
       "    <tr>\n",
       "      <th>2000-01-01</th>\n",
       "      <td>1.747723</td>\n",
       "      <td>1.402904</td>\n",
       "      <td>2.021912</td>\n",
       "      <td>0.341947</td>\n",
       "      <td>NaN</td>\n",
       "    </tr>\n",
       "    <tr>\n",
       "      <th>2000-01-02</th>\n",
       "      <td>-1.097969</td>\n",
       "      <td>-0.727633</td>\n",
       "      <td>0.669440</td>\n",
       "      <td>0.526305</td>\n",
       "      <td>NaN</td>\n",
       "    </tr>\n",
       "    <tr>\n",
       "      <th>2000-01-03</th>\n",
       "      <td>-1.503982</td>\n",
       "      <td>-2.145250</td>\n",
       "      <td>0.603084</td>\n",
       "      <td>-0.299959</td>\n",
       "      <td>NaN</td>\n",
       "    </tr>\n",
       "    <tr>\n",
       "      <th>2000-01-04</th>\n",
       "      <td>7.000000</td>\n",
       "      <td>-1.015660</td>\n",
       "      <td>-1.652772</td>\n",
       "      <td>0.251474</td>\n",
       "      <td>NaN</td>\n",
       "    </tr>\n",
       "    <tr>\n",
       "      <th>2000-01-05</th>\n",
       "      <td>-0.886956</td>\n",
       "      <td>0.048130</td>\n",
       "      <td>3.096559</td>\n",
       "      <td>-0.009938</td>\n",
       "      <td>NaN</td>\n",
       "    </tr>\n",
       "    <tr>\n",
       "      <th>2000-01-06</th>\n",
       "      <td>1.646651</td>\n",
       "      <td>-0.581065</td>\n",
       "      <td>0.511260</td>\n",
       "      <td>-0.054996</td>\n",
       "      <td>7.0</td>\n",
       "    </tr>\n",
       "    <tr>\n",
       "      <th>2000-01-07</th>\n",
       "      <td>-0.653317</td>\n",
       "      <td>0.079982</td>\n",
       "      <td>-2.154764</td>\n",
       "      <td>-0.258879</td>\n",
       "      <td>NaN</td>\n",
       "    </tr>\n",
       "    <tr>\n",
       "      <th>2000-01-08</th>\n",
       "      <td>0.127853</td>\n",
       "      <td>-0.963385</td>\n",
       "      <td>1.796046</td>\n",
       "      <td>-0.527062</td>\n",
       "      <td>NaN</td>\n",
       "    </tr>\n",
       "  </tbody>\n",
       "</table>\n",
       "</div>"
      ],
      "text/plain": [
       "                   A         B         C         D    E\n",
       "2000-01-01  1.747723  1.402904  2.021912  0.341947  NaN\n",
       "2000-01-02 -1.097969 -0.727633  0.669440  0.526305  NaN\n",
       "2000-01-03 -1.503982 -2.145250  0.603084 -0.299959  NaN\n",
       "2000-01-04  7.000000 -1.015660 -1.652772  0.251474  NaN\n",
       "2000-01-05 -0.886956  0.048130  3.096559 -0.009938  NaN\n",
       "2000-01-06  1.646651 -0.581065  0.511260 -0.054996  7.0\n",
       "2000-01-07 -0.653317  0.079982 -2.154764 -0.258879  NaN\n",
       "2000-01-08  0.127853 -0.963385  1.796046 -0.527062  NaN"
      ]
     },
     "execution_count": 168,
     "metadata": {},
     "output_type": "execute_result"
    }
   ],
   "source": [
    "df.at[dates[5], 'E'] = 7\n",
    "df.iat[3, 0] = 7\n",
    "df"
   ]
  },
  {
   "cell_type": "markdown",
   "id": "544c631f",
   "metadata": {
    "papermill": {
     "duration": 0.099416,
     "end_time": "2022-09-29T06:59:11.996357",
     "exception": false,
     "start_time": "2022-09-29T06:59:11.896941",
     "status": "completed"
    },
    "tags": []
   },
   "source": [
    "## Boolean indexing:\n",
    "Another common operation is the use of boolean vectors to filter the data. The operators are: | for or, & for and, and ~ for not. These must be grouped by using parentheses, since by default Python will evaluate an expression such as df['A'] > 2 & df['B'] < 3 as df['A'] > (2 & df['B']) < 3, while the desired evaluation order is (df['A'] > 2) & (df['B'] < 3).\n"
   ]
  },
  {
   "cell_type": "code",
   "execution_count": 169,
   "id": "466acbbc",
   "metadata": {
    "execution": {
     "iopub.execute_input": "2022-09-29T06:59:12.162338Z",
     "iopub.status.busy": "2022-09-29T06:59:12.161957Z",
     "iopub.status.idle": "2022-09-29T06:59:12.170799Z",
     "shell.execute_reply": "2022-09-29T06:59:12.169519Z"
    },
    "papermill": {
     "duration": 0.093316,
     "end_time": "2022-09-29T06:59:12.173624",
     "exception": false,
     "start_time": "2022-09-29T06:59:12.080308",
     "status": "completed"
    },
    "tags": []
   },
   "outputs": [
    {
     "data": {
      "text/plain": [
       "0   -3\n",
       "1   -2\n",
       "2   -1\n",
       "3    0\n",
       "4    1\n",
       "5    2\n",
       "6    3\n",
       "dtype: int64"
      ]
     },
     "execution_count": 169,
     "metadata": {},
     "output_type": "execute_result"
    }
   ],
   "source": [
    "s = pd.Series(range(-3, 4))\n",
    "s"
   ]
  },
  {
   "cell_type": "code",
   "execution_count": 170,
   "id": "72ad00ad",
   "metadata": {
    "execution": {
     "iopub.execute_input": "2022-09-29T06:59:12.338044Z",
     "iopub.status.busy": "2022-09-29T06:59:12.336909Z",
     "iopub.status.idle": "2022-09-29T06:59:12.347002Z",
     "shell.execute_reply": "2022-09-29T06:59:12.345648Z"
    },
    "papermill": {
     "duration": 0.09514,
     "end_time": "2022-09-29T06:59:12.349654",
     "exception": false,
     "start_time": "2022-09-29T06:59:12.254514",
     "status": "completed"
    },
    "tags": []
   },
   "outputs": [
    {
     "data": {
      "text/plain": [
       "4    1\n",
       "5    2\n",
       "6    3\n",
       "dtype: int64"
      ]
     },
     "execution_count": 170,
     "metadata": {},
     "output_type": "execute_result"
    }
   ],
   "source": [
    "s[s > 0]"
   ]
  },
  {
   "cell_type": "code",
   "execution_count": 171,
   "id": "3558293d",
   "metadata": {
    "execution": {
     "iopub.execute_input": "2022-09-29T06:59:12.517561Z",
     "iopub.status.busy": "2022-09-29T06:59:12.515435Z",
     "iopub.status.idle": "2022-09-29T06:59:12.526170Z",
     "shell.execute_reply": "2022-09-29T06:59:12.524885Z"
    },
    "papermill": {
     "duration": 0.095808,
     "end_time": "2022-09-29T06:59:12.528578",
     "exception": false,
     "start_time": "2022-09-29T06:59:12.432770",
     "status": "completed"
    },
    "tags": []
   },
   "outputs": [
    {
     "data": {
      "text/plain": [
       "0   -3\n",
       "1   -2\n",
       "4    1\n",
       "5    2\n",
       "6    3\n",
       "dtype: int64"
      ]
     },
     "execution_count": 171,
     "metadata": {},
     "output_type": "execute_result"
    }
   ],
   "source": [
    "s[(s < -1) | (s > 0.5)]"
   ]
  },
  {
   "cell_type": "code",
   "execution_count": 172,
   "id": "496d3231",
   "metadata": {
    "execution": {
     "iopub.execute_input": "2022-09-29T06:59:12.696545Z",
     "iopub.status.busy": "2022-09-29T06:59:12.695275Z",
     "iopub.status.idle": "2022-09-29T06:59:12.706199Z",
     "shell.execute_reply": "2022-09-29T06:59:12.704612Z"
    },
    "papermill": {
     "duration": 0.099265,
     "end_time": "2022-09-29T06:59:12.708853",
     "exception": false,
     "start_time": "2022-09-29T06:59:12.609588",
     "status": "completed"
    },
    "tags": []
   },
   "outputs": [
    {
     "data": {
      "text/plain": [
       "3    0\n",
       "4    1\n",
       "5    2\n",
       "6    3\n",
       "dtype: int64"
      ]
     },
     "execution_count": 172,
     "metadata": {},
     "output_type": "execute_result"
    }
   ],
   "source": [
    "s[~(s < 0)]     # ~ (Not)"
   ]
  },
  {
   "cell_type": "markdown",
   "id": "f8bafd36",
   "metadata": {
    "papermill": {
     "duration": 0.07981,
     "end_time": "2022-09-29T06:59:12.870971",
     "exception": false,
     "start_time": "2022-09-29T06:59:12.791161",
     "status": "completed"
    },
    "tags": []
   },
   "source": [
    "## Indexing and selecting data | Indexing with isin:\n",
    "- Consider the isin() method of Series, which returns a boolean vector that is true wherever the Series elements exist in the passed list. This allows you to select rows where one or more columns have values you want:"
   ]
  },
  {
   "cell_type": "code",
   "execution_count": 173,
   "id": "15f6198d",
   "metadata": {
    "execution": {
     "iopub.execute_input": "2022-09-29T06:59:13.038579Z",
     "iopub.status.busy": "2022-09-29T06:59:13.037464Z",
     "iopub.status.idle": "2022-09-29T06:59:13.048068Z",
     "shell.execute_reply": "2022-09-29T06:59:13.046763Z"
    },
    "papermill": {
     "duration": 0.095341,
     "end_time": "2022-09-29T06:59:13.050747",
     "exception": false,
     "start_time": "2022-09-29T06:59:12.955406",
     "status": "completed"
    },
    "tags": []
   },
   "outputs": [
    {
     "data": {
      "text/plain": [
       "4    0\n",
       "3    1\n",
       "2    2\n",
       "1    3\n",
       "0    4\n",
       "dtype: int64"
      ]
     },
     "execution_count": 173,
     "metadata": {},
     "output_type": "execute_result"
    }
   ],
   "source": [
    "s = pd.Series(np.arange(5), index=np.arange(5)[::-1], dtype='int64')\n",
    "s"
   ]
  },
  {
   "cell_type": "code",
   "execution_count": 174,
   "id": "18e3c7d3",
   "metadata": {
    "execution": {
     "iopub.execute_input": "2022-09-29T06:59:13.424311Z",
     "iopub.status.busy": "2022-09-29T06:59:13.423829Z",
     "iopub.status.idle": "2022-09-29T06:59:13.437249Z",
     "shell.execute_reply": "2022-09-29T06:59:13.436131Z"
    },
    "papermill": {
     "duration": 0.165648,
     "end_time": "2022-09-29T06:59:13.440637",
     "exception": false,
     "start_time": "2022-09-29T06:59:13.274989",
     "status": "completed"
    },
    "tags": []
   },
   "outputs": [
    {
     "data": {
      "text/plain": [
       "4    False\n",
       "3    False\n",
       "2     True\n",
       "1    False\n",
       "0     True\n",
       "dtype: bool"
      ]
     },
     "execution_count": 174,
     "metadata": {},
     "output_type": "execute_result"
    }
   ],
   "source": [
    "s.isin([2, 4, 6])"
   ]
  },
  {
   "cell_type": "code",
   "execution_count": 175,
   "id": "51c53009",
   "metadata": {
    "execution": {
     "iopub.execute_input": "2022-09-29T06:59:13.726650Z",
     "iopub.status.busy": "2022-09-29T06:59:13.725942Z",
     "iopub.status.idle": "2022-09-29T06:59:13.742169Z",
     "shell.execute_reply": "2022-09-29T06:59:13.740567Z"
    },
    "papermill": {
     "duration": 0.170446,
     "end_time": "2022-09-29T06:59:13.750247",
     "exception": false,
     "start_time": "2022-09-29T06:59:13.579801",
     "status": "completed"
    },
    "tags": []
   },
   "outputs": [
    {
     "data": {
      "text/plain": [
       "2    2\n",
       "0    4\n",
       "dtype: int64"
      ]
     },
     "execution_count": 175,
     "metadata": {},
     "output_type": "execute_result"
    }
   ],
   "source": [
    "s[s.isin([2, 4, 6])]"
   ]
  },
  {
   "cell_type": "markdown",
   "id": "3ba20594",
   "metadata": {
    "papermill": {
     "duration": 0.116094,
     "end_time": "2022-09-29T06:59:14.004588",
     "exception": false,
     "start_time": "2022-09-29T06:59:13.888494",
     "status": "completed"
    },
    "tags": []
   },
   "source": [
    ">The same method is available for Index objects and is useful for the cases when you don’t know which of the sought labels are in fact present:"
   ]
  },
  {
   "cell_type": "code",
   "execution_count": 176,
   "id": "56eefd9f",
   "metadata": {
    "execution": {
     "iopub.execute_input": "2022-09-29T06:59:14.165373Z",
     "iopub.status.busy": "2022-09-29T06:59:14.165011Z",
     "iopub.status.idle": "2022-09-29T06:59:14.175873Z",
     "shell.execute_reply": "2022-09-29T06:59:14.174437Z"
    },
    "papermill": {
     "duration": 0.094666,
     "end_time": "2022-09-29T06:59:14.178449",
     "exception": false,
     "start_time": "2022-09-29T06:59:14.083783",
     "status": "completed"
    },
    "tags": []
   },
   "outputs": [
    {
     "data": {
      "text/plain": [
       "4    0\n",
       "2    2\n",
       "dtype: int64"
      ]
     },
     "execution_count": 176,
     "metadata": {},
     "output_type": "execute_result"
    }
   ],
   "source": [
    "s[s.index.isin([2, 4, 6])]"
   ]
  },
  {
   "cell_type": "code",
   "execution_count": 177,
   "id": "2383e0b8",
   "metadata": {
    "execution": {
     "iopub.execute_input": "2022-09-29T06:59:14.342232Z",
     "iopub.status.busy": "2022-09-29T06:59:14.341077Z",
     "iopub.status.idle": "2022-09-29T06:59:14.351644Z",
     "shell.execute_reply": "2022-09-29T06:59:14.350241Z"
    },
    "papermill": {
     "duration": 0.095518,
     "end_time": "2022-09-29T06:59:14.354321",
     "exception": false,
     "start_time": "2022-09-29T06:59:14.258803",
     "status": "completed"
    },
    "tags": []
   },
   "outputs": [
    {
     "data": {
      "text/plain": [
       "2    2.0\n",
       "4    0.0\n",
       "6    NaN\n",
       "dtype: float64"
      ]
     },
     "execution_count": 177,
     "metadata": {},
     "output_type": "execute_result"
    }
   ],
   "source": [
    "# compare it to the following\n",
    "s.reindex([2, 4, 6])"
   ]
  },
  {
   "cell_type": "markdown",
   "id": "a2e9a480",
   "metadata": {
    "papermill": {
     "duration": 0.079575,
     "end_time": "2022-09-29T06:59:14.515527",
     "exception": false,
     "start_time": "2022-09-29T06:59:14.435952",
     "status": "completed"
    },
    "tags": []
   },
   "source": [
    "> In addition to that, MultiIndex allows selecting a separate level to use in the membership check:"
   ]
  },
  {
   "cell_type": "code",
   "execution_count": 178,
   "id": "77058ad3",
   "metadata": {
    "execution": {
     "iopub.execute_input": "2022-09-29T06:59:14.681090Z",
     "iopub.status.busy": "2022-09-29T06:59:14.680321Z",
     "iopub.status.idle": "2022-09-29T06:59:14.695717Z",
     "shell.execute_reply": "2022-09-29T06:59:14.694320Z"
    },
    "papermill": {
     "duration": 0.102257,
     "end_time": "2022-09-29T06:59:14.698191",
     "exception": false,
     "start_time": "2022-09-29T06:59:14.595934",
     "status": "completed"
    },
    "tags": []
   },
   "outputs": [
    {
     "data": {
      "text/plain": [
       "0  a    0\n",
       "   b    1\n",
       "   c    2\n",
       "1  a    3\n",
       "   b    4\n",
       "   c    5\n",
       "dtype: int64"
      ]
     },
     "execution_count": 178,
     "metadata": {},
     "output_type": "execute_result"
    }
   ],
   "source": [
    "s_mi = pd.Series(np.arange(6),\n",
    "   .....:                  index=pd.MultiIndex.from_product([[0, 1], ['a', 'b', 'c']]))\n",
    "   .....: \n",
    "        \n",
    "s_mi"
   ]
  },
  {
   "cell_type": "code",
   "execution_count": 179,
   "id": "d8d74941",
   "metadata": {
    "execution": {
     "iopub.execute_input": "2022-09-29T06:59:14.867305Z",
     "iopub.status.busy": "2022-09-29T06:59:14.866967Z",
     "iopub.status.idle": "2022-09-29T06:59:14.879799Z",
     "shell.execute_reply": "2022-09-29T06:59:14.878343Z"
    },
    "papermill": {
     "duration": 0.098801,
     "end_time": "2022-09-29T06:59:14.882715",
     "exception": false,
     "start_time": "2022-09-29T06:59:14.783914",
     "status": "completed"
    },
    "tags": []
   },
   "outputs": [
    {
     "data": {
      "text/plain": [
       "0  c    2\n",
       "1  a    3\n",
       "dtype: int64"
      ]
     },
     "execution_count": 179,
     "metadata": {},
     "output_type": "execute_result"
    }
   ],
   "source": [
    "s_mi.iloc[s_mi.index.isin([(1, 'a'), (2, 'b'), (0, 'c')])]"
   ]
  },
  {
   "cell_type": "code",
   "execution_count": 180,
   "id": "cb459878",
   "metadata": {
    "execution": {
     "iopub.execute_input": "2022-09-29T06:59:15.045736Z",
     "iopub.status.busy": "2022-09-29T06:59:15.044566Z",
     "iopub.status.idle": "2022-09-29T06:59:15.056142Z",
     "shell.execute_reply": "2022-09-29T06:59:15.054833Z"
    },
    "papermill": {
     "duration": 0.094262,
     "end_time": "2022-09-29T06:59:15.058855",
     "exception": false,
     "start_time": "2022-09-29T06:59:14.964593",
     "status": "completed"
    },
    "tags": []
   },
   "outputs": [
    {
     "data": {
      "text/plain": [
       "0  a    0\n",
       "   c    2\n",
       "1  a    3\n",
       "   c    5\n",
       "dtype: int64"
      ]
     },
     "execution_count": 180,
     "metadata": {},
     "output_type": "execute_result"
    }
   ],
   "source": [
    "s_mi.iloc[s_mi.index.isin(['a', 'c', 'e'], level=1)]"
   ]
  },
  {
   "cell_type": "markdown",
   "id": "1b3cc0cf",
   "metadata": {
    "papermill": {
     "duration": 0.0811,
     "end_time": "2022-09-29T06:59:15.218668",
     "exception": false,
     "start_time": "2022-09-29T06:59:15.137568",
     "status": "completed"
    },
    "tags": []
   },
   "source": [
    "> #### DataFrame also has an isin() method. When calling isin, pass a set of values as either an array or dict. If values is an array, isin returns a DataFrame of booleans that is the same shape as the original DataFrame, with True wherever the element is in the sequence of values."
   ]
  },
  {
   "cell_type": "code",
   "execution_count": 181,
   "id": "bc339082",
   "metadata": {
    "execution": {
     "iopub.execute_input": "2022-09-29T06:59:15.383864Z",
     "iopub.status.busy": "2022-09-29T06:59:15.382541Z",
     "iopub.status.idle": "2022-09-29T06:59:15.397030Z",
     "shell.execute_reply": "2022-09-29T06:59:15.395571Z"
    },
    "papermill": {
     "duration": 0.099685,
     "end_time": "2022-09-29T06:59:15.399684",
     "exception": false,
     "start_time": "2022-09-29T06:59:15.299999",
     "status": "completed"
    },
    "tags": []
   },
   "outputs": [
    {
     "data": {
      "text/html": [
       "<div>\n",
       "<style scoped>\n",
       "    .dataframe tbody tr th:only-of-type {\n",
       "        vertical-align: middle;\n",
       "    }\n",
       "\n",
       "    .dataframe tbody tr th {\n",
       "        vertical-align: top;\n",
       "    }\n",
       "\n",
       "    .dataframe thead th {\n",
       "        text-align: right;\n",
       "    }\n",
       "</style>\n",
       "<table border=\"1\" class=\"dataframe\">\n",
       "  <thead>\n",
       "    <tr style=\"text-align: right;\">\n",
       "      <th></th>\n",
       "      <th>vals</th>\n",
       "      <th>ids</th>\n",
       "      <th>ids2</th>\n",
       "    </tr>\n",
       "  </thead>\n",
       "  <tbody>\n",
       "    <tr>\n",
       "      <th>0</th>\n",
       "      <td>1</td>\n",
       "      <td>a</td>\n",
       "      <td>a</td>\n",
       "    </tr>\n",
       "    <tr>\n",
       "      <th>1</th>\n",
       "      <td>2</td>\n",
       "      <td>b</td>\n",
       "      <td>n</td>\n",
       "    </tr>\n",
       "    <tr>\n",
       "      <th>2</th>\n",
       "      <td>3</td>\n",
       "      <td>f</td>\n",
       "      <td>c</td>\n",
       "    </tr>\n",
       "    <tr>\n",
       "      <th>3</th>\n",
       "      <td>4</td>\n",
       "      <td>n</td>\n",
       "      <td>n</td>\n",
       "    </tr>\n",
       "  </tbody>\n",
       "</table>\n",
       "</div>"
      ],
      "text/plain": [
       "   vals ids ids2\n",
       "0     1   a    a\n",
       "1     2   b    n\n",
       "2     3   f    c\n",
       "3     4   n    n"
      ]
     },
     "execution_count": 181,
     "metadata": {},
     "output_type": "execute_result"
    }
   ],
   "source": [
    "df = pd.DataFrame({'vals': [1, 2, 3, 4], 'ids': ['a', 'b', 'f', 'n'],\n",
    "   .....:                    'ids2': ['a', 'n', 'c', 'n']})\n",
    "   .....: \n",
    "df"
   ]
  },
  {
   "cell_type": "code",
   "execution_count": 182,
   "id": "7ea4b280",
   "metadata": {
    "execution": {
     "iopub.execute_input": "2022-09-29T06:59:15.561346Z",
     "iopub.status.busy": "2022-09-29T06:59:15.561014Z",
     "iopub.status.idle": "2022-09-29T06:59:15.573955Z",
     "shell.execute_reply": "2022-09-29T06:59:15.572529Z"
    },
    "papermill": {
     "duration": 0.095861,
     "end_time": "2022-09-29T06:59:15.576621",
     "exception": false,
     "start_time": "2022-09-29T06:59:15.480760",
     "status": "completed"
    },
    "tags": []
   },
   "outputs": [
    {
     "data": {
      "text/html": [
       "<div>\n",
       "<style scoped>\n",
       "    .dataframe tbody tr th:only-of-type {\n",
       "        vertical-align: middle;\n",
       "    }\n",
       "\n",
       "    .dataframe tbody tr th {\n",
       "        vertical-align: top;\n",
       "    }\n",
       "\n",
       "    .dataframe thead th {\n",
       "        text-align: right;\n",
       "    }\n",
       "</style>\n",
       "<table border=\"1\" class=\"dataframe\">\n",
       "  <thead>\n",
       "    <tr style=\"text-align: right;\">\n",
       "      <th></th>\n",
       "      <th>vals</th>\n",
       "      <th>ids</th>\n",
       "      <th>ids2</th>\n",
       "    </tr>\n",
       "  </thead>\n",
       "  <tbody>\n",
       "    <tr>\n",
       "      <th>0</th>\n",
       "      <td>True</td>\n",
       "      <td>True</td>\n",
       "      <td>True</td>\n",
       "    </tr>\n",
       "    <tr>\n",
       "      <th>1</th>\n",
       "      <td>False</td>\n",
       "      <td>True</td>\n",
       "      <td>False</td>\n",
       "    </tr>\n",
       "    <tr>\n",
       "      <th>2</th>\n",
       "      <td>True</td>\n",
       "      <td>False</td>\n",
       "      <td>False</td>\n",
       "    </tr>\n",
       "    <tr>\n",
       "      <th>3</th>\n",
       "      <td>False</td>\n",
       "      <td>False</td>\n",
       "      <td>False</td>\n",
       "    </tr>\n",
       "  </tbody>\n",
       "</table>\n",
       "</div>"
      ],
      "text/plain": [
       "    vals    ids   ids2\n",
       "0   True   True   True\n",
       "1  False   True  False\n",
       "2   True  False  False\n",
       "3  False  False  False"
      ]
     },
     "execution_count": 182,
     "metadata": {},
     "output_type": "execute_result"
    }
   ],
   "source": [
    "values = ['a', 'b', 1, 3]\n",
    "df.isin(values)"
   ]
  },
  {
   "cell_type": "markdown",
   "id": "c86129bf",
   "metadata": {
    "papermill": {
     "duration": 0.094721,
     "end_time": "2022-09-29T06:59:15.753991",
     "exception": false,
     "start_time": "2022-09-29T06:59:15.659270",
     "status": "completed"
    },
    "tags": []
   },
   "source": [
    "Oftentimes you’ll want to match certain values with certain columns. Just make values a dict where the key is the column, and the value is a list of items you want to check for."
   ]
  },
  {
   "cell_type": "code",
   "execution_count": 183,
   "id": "6a0520f5",
   "metadata": {
    "execution": {
     "iopub.execute_input": "2022-09-29T06:59:15.922493Z",
     "iopub.status.busy": "2022-09-29T06:59:15.921285Z",
     "iopub.status.idle": "2022-09-29T06:59:15.936871Z",
     "shell.execute_reply": "2022-09-29T06:59:15.935389Z"
    },
    "papermill": {
     "duration": 0.102916,
     "end_time": "2022-09-29T06:59:15.939613",
     "exception": false,
     "start_time": "2022-09-29T06:59:15.836697",
     "status": "completed"
    },
    "tags": []
   },
   "outputs": [
    {
     "data": {
      "text/html": [
       "<div>\n",
       "<style scoped>\n",
       "    .dataframe tbody tr th:only-of-type {\n",
       "        vertical-align: middle;\n",
       "    }\n",
       "\n",
       "    .dataframe tbody tr th {\n",
       "        vertical-align: top;\n",
       "    }\n",
       "\n",
       "    .dataframe thead th {\n",
       "        text-align: right;\n",
       "    }\n",
       "</style>\n",
       "<table border=\"1\" class=\"dataframe\">\n",
       "  <thead>\n",
       "    <tr style=\"text-align: right;\">\n",
       "      <th></th>\n",
       "      <th>vals</th>\n",
       "      <th>ids</th>\n",
       "      <th>ids2</th>\n",
       "    </tr>\n",
       "  </thead>\n",
       "  <tbody>\n",
       "    <tr>\n",
       "      <th>0</th>\n",
       "      <td>True</td>\n",
       "      <td>True</td>\n",
       "      <td>False</td>\n",
       "    </tr>\n",
       "    <tr>\n",
       "      <th>1</th>\n",
       "      <td>False</td>\n",
       "      <td>True</td>\n",
       "      <td>False</td>\n",
       "    </tr>\n",
       "    <tr>\n",
       "      <th>2</th>\n",
       "      <td>True</td>\n",
       "      <td>False</td>\n",
       "      <td>False</td>\n",
       "    </tr>\n",
       "    <tr>\n",
       "      <th>3</th>\n",
       "      <td>False</td>\n",
       "      <td>False</td>\n",
       "      <td>False</td>\n",
       "    </tr>\n",
       "  </tbody>\n",
       "</table>\n",
       "</div>"
      ],
      "text/plain": [
       "    vals    ids   ids2\n",
       "0   True   True  False\n",
       "1  False   True  False\n",
       "2   True  False  False\n",
       "3  False  False  False"
      ]
     },
     "execution_count": 183,
     "metadata": {},
     "output_type": "execute_result"
    }
   ],
   "source": [
    "values = {'ids': ['a', 'b'], 'vals': [1, 3]}\n",
    "df.isin(values)"
   ]
  },
  {
   "cell_type": "markdown",
   "id": "9a581c10",
   "metadata": {
    "papermill": {
     "duration": 0.080712,
     "end_time": "2022-09-29T06:59:16.101865",
     "exception": false,
     "start_time": "2022-09-29T06:59:16.021153",
     "status": "completed"
    },
    "tags": []
   },
   "source": [
    "To return the DataFrame of booleans where the values are not in the original DataFrame, use the ~ operator:"
   ]
  },
  {
   "cell_type": "code",
   "execution_count": 184,
   "id": "20837ef5",
   "metadata": {
    "execution": {
     "iopub.execute_input": "2022-09-29T06:59:16.269006Z",
     "iopub.status.busy": "2022-09-29T06:59:16.267869Z",
     "iopub.status.idle": "2022-09-29T06:59:16.283375Z",
     "shell.execute_reply": "2022-09-29T06:59:16.282000Z"
    },
    "papermill": {
     "duration": 0.102903,
     "end_time": "2022-09-29T06:59:16.285960",
     "exception": false,
     "start_time": "2022-09-29T06:59:16.183057",
     "status": "completed"
    },
    "tags": []
   },
   "outputs": [
    {
     "data": {
      "text/html": [
       "<div>\n",
       "<style scoped>\n",
       "    .dataframe tbody tr th:only-of-type {\n",
       "        vertical-align: middle;\n",
       "    }\n",
       "\n",
       "    .dataframe tbody tr th {\n",
       "        vertical-align: top;\n",
       "    }\n",
       "\n",
       "    .dataframe thead th {\n",
       "        text-align: right;\n",
       "    }\n",
       "</style>\n",
       "<table border=\"1\" class=\"dataframe\">\n",
       "  <thead>\n",
       "    <tr style=\"text-align: right;\">\n",
       "      <th></th>\n",
       "      <th>vals</th>\n",
       "      <th>ids</th>\n",
       "      <th>ids2</th>\n",
       "    </tr>\n",
       "  </thead>\n",
       "  <tbody>\n",
       "    <tr>\n",
       "      <th>0</th>\n",
       "      <td>False</td>\n",
       "      <td>False</td>\n",
       "      <td>True</td>\n",
       "    </tr>\n",
       "    <tr>\n",
       "      <th>1</th>\n",
       "      <td>True</td>\n",
       "      <td>False</td>\n",
       "      <td>True</td>\n",
       "    </tr>\n",
       "    <tr>\n",
       "      <th>2</th>\n",
       "      <td>False</td>\n",
       "      <td>True</td>\n",
       "      <td>True</td>\n",
       "    </tr>\n",
       "    <tr>\n",
       "      <th>3</th>\n",
       "      <td>True</td>\n",
       "      <td>True</td>\n",
       "      <td>True</td>\n",
       "    </tr>\n",
       "  </tbody>\n",
       "</table>\n",
       "</div>"
      ],
      "text/plain": [
       "    vals    ids  ids2\n",
       "0  False  False  True\n",
       "1   True  False  True\n",
       "2  False   True  True\n",
       "3   True   True  True"
      ]
     },
     "execution_count": 184,
     "metadata": {},
     "output_type": "execute_result"
    }
   ],
   "source": [
    "values = {'ids': ['a', 'b'], 'vals': [1, 3]}\n",
    "~df.isin(values)"
   ]
  },
  {
   "cell_type": "markdown",
   "id": "f24d50ab",
   "metadata": {
    "papermill": {
     "duration": 0.083035,
     "end_time": "2022-09-29T06:59:16.450963",
     "exception": false,
     "start_time": "2022-09-29T06:59:16.367928",
     "status": "completed"
    },
    "tags": []
   },
   "source": [
    "Combine DataFrame’s isin with the any() and all() methods to quickly select subsets of your data that meet a given criteria. To select a row where each column meets its own criterion:"
   ]
  },
  {
   "cell_type": "code",
   "execution_count": 185,
   "id": "a6f19903",
   "metadata": {
    "execution": {
     "iopub.execute_input": "2022-09-29T06:59:16.620886Z",
     "iopub.status.busy": "2022-09-29T06:59:16.619243Z",
     "iopub.status.idle": "2022-09-29T06:59:16.636712Z",
     "shell.execute_reply": "2022-09-29T06:59:16.635283Z"
    },
    "papermill": {
     "duration": 0.105684,
     "end_time": "2022-09-29T06:59:16.639380",
     "exception": false,
     "start_time": "2022-09-29T06:59:16.533696",
     "status": "completed"
    },
    "tags": []
   },
   "outputs": [
    {
     "data": {
      "text/html": [
       "<div>\n",
       "<style scoped>\n",
       "    .dataframe tbody tr th:only-of-type {\n",
       "        vertical-align: middle;\n",
       "    }\n",
       "\n",
       "    .dataframe tbody tr th {\n",
       "        vertical-align: top;\n",
       "    }\n",
       "\n",
       "    .dataframe thead th {\n",
       "        text-align: right;\n",
       "    }\n",
       "</style>\n",
       "<table border=\"1\" class=\"dataframe\">\n",
       "  <thead>\n",
       "    <tr style=\"text-align: right;\">\n",
       "      <th></th>\n",
       "      <th>vals</th>\n",
       "      <th>ids</th>\n",
       "      <th>ids2</th>\n",
       "    </tr>\n",
       "  </thead>\n",
       "  <tbody>\n",
       "    <tr>\n",
       "      <th>0</th>\n",
       "      <td>1</td>\n",
       "      <td>a</td>\n",
       "      <td>a</td>\n",
       "    </tr>\n",
       "  </tbody>\n",
       "</table>\n",
       "</div>"
      ],
      "text/plain": [
       "   vals ids ids2\n",
       "0     1   a    a"
      ]
     },
     "execution_count": 185,
     "metadata": {},
     "output_type": "execute_result"
    }
   ],
   "source": [
    "values = {'ids': ['a', 'b'], 'ids2': ['a', 'c'], 'vals': [1, 3]}\n",
    "row_mask = df.isin(values).all(1)\n",
    "df[row_mask]"
   ]
  },
  {
   "cell_type": "markdown",
   "id": "8f550d5e",
   "metadata": {
    "papermill": {
     "duration": 0.082536,
     "end_time": "2022-09-29T06:59:16.802289",
     "exception": false,
     "start_time": "2022-09-29T06:59:16.719753",
     "status": "completed"
    },
    "tags": []
   },
   "source": [
    "## Indexing and selecting data | The where() Method and Masking:\n",
    "> **Selecting values from a Series with a boolean vector generally returns a subset of the data. To guarantee that selection output has the same shape as the original data, you can use the where method in Series and DataFrame.**\n",
    "\n",
    "\n",
    "To return only the selected rows:"
   ]
  },
  {
   "cell_type": "code",
   "execution_count": 186,
   "id": "b85d1a42",
   "metadata": {
    "execution": {
     "iopub.execute_input": "2022-09-29T06:59:16.972249Z",
     "iopub.status.busy": "2022-09-29T06:59:16.969905Z",
     "iopub.status.idle": "2022-09-29T06:59:16.983248Z",
     "shell.execute_reply": "2022-09-29T06:59:16.980742Z"
    },
    "papermill": {
     "duration": 0.104086,
     "end_time": "2022-09-29T06:59:16.986355",
     "exception": false,
     "start_time": "2022-09-29T06:59:16.882269",
     "status": "completed"
    },
    "tags": []
   },
   "outputs": [
    {
     "data": {
      "text/plain": [
       "3    1\n",
       "2    2\n",
       "1    3\n",
       "0    4\n",
       "dtype: int64"
      ]
     },
     "execution_count": 186,
     "metadata": {},
     "output_type": "execute_result"
    }
   ],
   "source": [
    "s[s > 0]"
   ]
  },
  {
   "cell_type": "code",
   "execution_count": 187,
   "id": "74b6cb69",
   "metadata": {
    "execution": {
     "iopub.execute_input": "2022-09-29T06:59:17.221276Z",
     "iopub.status.busy": "2022-09-29T06:59:17.220853Z",
     "iopub.status.idle": "2022-09-29T06:59:17.231106Z",
     "shell.execute_reply": "2022-09-29T06:59:17.229741Z"
    },
    "papermill": {
     "duration": 0.097661,
     "end_time": "2022-09-29T06:59:17.233902",
     "exception": false,
     "start_time": "2022-09-29T06:59:17.136241",
     "status": "completed"
    },
    "tags": []
   },
   "outputs": [
    {
     "data": {
      "text/plain": [
       "4    NaN\n",
       "3    1.0\n",
       "2    2.0\n",
       "1    3.0\n",
       "0    4.0\n",
       "dtype: float64"
      ]
     },
     "execution_count": 187,
     "metadata": {},
     "output_type": "execute_result"
    }
   ],
   "source": [
    "s.where(s > 0)"
   ]
  },
  {
   "cell_type": "markdown",
   "id": "9d12cd96",
   "metadata": {
    "papermill": {
     "duration": 0.082219,
     "end_time": "2022-09-29T06:59:17.397900",
     "exception": false,
     "start_time": "2022-09-29T06:59:17.315681",
     "status": "completed"
    },
    "tags": []
   },
   "source": [
    "Selecting values from a DataFrame with a boolean criterion now also preserves input data shape. where is used under the hood as the implementation. The code below is equivalent to df.where(df < 0)."
   ]
  },
  {
   "cell_type": "code",
   "execution_count": 188,
   "id": "4234f31d",
   "metadata": {
    "execution": {
     "iopub.execute_input": "2022-09-29T06:59:17.568855Z",
     "iopub.status.busy": "2022-09-29T06:59:17.566779Z",
     "iopub.status.idle": "2022-09-29T06:59:17.583551Z",
     "shell.execute_reply": "2022-09-29T06:59:17.582301Z"
    },
    "papermill": {
     "duration": 0.103957,
     "end_time": "2022-09-29T06:59:17.586513",
     "exception": false,
     "start_time": "2022-09-29T06:59:17.482556",
     "status": "completed"
    },
    "tags": []
   },
   "outputs": [
    {
     "data": {
      "text/html": [
       "<div>\n",
       "<style scoped>\n",
       "    .dataframe tbody tr th:only-of-type {\n",
       "        vertical-align: middle;\n",
       "    }\n",
       "\n",
       "    .dataframe tbody tr th {\n",
       "        vertical-align: top;\n",
       "    }\n",
       "\n",
       "    .dataframe thead th {\n",
       "        text-align: right;\n",
       "    }\n",
       "</style>\n",
       "<table border=\"1\" class=\"dataframe\">\n",
       "  <thead>\n",
       "    <tr style=\"text-align: right;\">\n",
       "      <th></th>\n",
       "      <th>A</th>\n",
       "      <th>B</th>\n",
       "      <th>C</th>\n",
       "      <th>D</th>\n",
       "    </tr>\n",
       "  </thead>\n",
       "  <tbody>\n",
       "    <tr>\n",
       "      <th>2000-01-01</th>\n",
       "      <td>0.872785</td>\n",
       "      <td>-0.165075</td>\n",
       "      <td>1.119368</td>\n",
       "      <td>1.536064</td>\n",
       "    </tr>\n",
       "    <tr>\n",
       "      <th>2000-01-02</th>\n",
       "      <td>-0.758367</td>\n",
       "      <td>0.212775</td>\n",
       "      <td>-0.436352</td>\n",
       "      <td>0.693922</td>\n",
       "    </tr>\n",
       "    <tr>\n",
       "      <th>2000-01-03</th>\n",
       "      <td>0.486265</td>\n",
       "      <td>1.415480</td>\n",
       "      <td>1.771454</td>\n",
       "      <td>1.397096</td>\n",
       "    </tr>\n",
       "    <tr>\n",
       "      <th>2000-01-04</th>\n",
       "      <td>1.188366</td>\n",
       "      <td>-1.413628</td>\n",
       "      <td>-0.626850</td>\n",
       "      <td>-0.164129</td>\n",
       "    </tr>\n",
       "    <tr>\n",
       "      <th>2000-01-05</th>\n",
       "      <td>-1.328423</td>\n",
       "      <td>-1.351002</td>\n",
       "      <td>-0.926571</td>\n",
       "      <td>-0.735808</td>\n",
       "    </tr>\n",
       "    <tr>\n",
       "      <th>2000-01-06</th>\n",
       "      <td>0.730846</td>\n",
       "      <td>0.444226</td>\n",
       "      <td>-0.186022</td>\n",
       "      <td>-0.173167</td>\n",
       "    </tr>\n",
       "    <tr>\n",
       "      <th>2000-01-07</th>\n",
       "      <td>0.246703</td>\n",
       "      <td>-1.120089</td>\n",
       "      <td>0.842168</td>\n",
       "      <td>1.193891</td>\n",
       "    </tr>\n",
       "    <tr>\n",
       "      <th>2000-01-08</th>\n",
       "      <td>-1.836319</td>\n",
       "      <td>0.374886</td>\n",
       "      <td>1.080498</td>\n",
       "      <td>-0.478778</td>\n",
       "    </tr>\n",
       "  </tbody>\n",
       "</table>\n",
       "</div>"
      ],
      "text/plain": [
       "                   A         B         C         D\n",
       "2000-01-01  0.872785 -0.165075  1.119368  1.536064\n",
       "2000-01-02 -0.758367  0.212775 -0.436352  0.693922\n",
       "2000-01-03  0.486265  1.415480  1.771454  1.397096\n",
       "2000-01-04  1.188366 -1.413628 -0.626850 -0.164129\n",
       "2000-01-05 -1.328423 -1.351002 -0.926571 -0.735808\n",
       "2000-01-06  0.730846  0.444226 -0.186022 -0.173167\n",
       "2000-01-07  0.246703 -1.120089  0.842168  1.193891\n",
       "2000-01-08 -1.836319  0.374886  1.080498 -0.478778"
      ]
     },
     "execution_count": 188,
     "metadata": {},
     "output_type": "execute_result"
    }
   ],
   "source": [
    "df = pd.DataFrame(np.random.randn(8, 4),\n",
    "   ...:                   index=dates, columns=['A', 'B', 'C', 'D'])\n",
    "df"
   ]
  },
  {
   "cell_type": "code",
   "execution_count": 189,
   "id": "b3bb73c4",
   "metadata": {
    "execution": {
     "iopub.execute_input": "2022-09-29T06:59:17.756104Z",
     "iopub.status.busy": "2022-09-29T06:59:17.753924Z",
     "iopub.status.idle": "2022-09-29T06:59:17.773231Z",
     "shell.execute_reply": "2022-09-29T06:59:17.770866Z"
    },
    "papermill": {
     "duration": 0.105159,
     "end_time": "2022-09-29T06:59:17.776270",
     "exception": false,
     "start_time": "2022-09-29T06:59:17.671111",
     "status": "completed"
    },
    "tags": []
   },
   "outputs": [
    {
     "data": {
      "text/html": [
       "<div>\n",
       "<style scoped>\n",
       "    .dataframe tbody tr th:only-of-type {\n",
       "        vertical-align: middle;\n",
       "    }\n",
       "\n",
       "    .dataframe tbody tr th {\n",
       "        vertical-align: top;\n",
       "    }\n",
       "\n",
       "    .dataframe thead th {\n",
       "        text-align: right;\n",
       "    }\n",
       "</style>\n",
       "<table border=\"1\" class=\"dataframe\">\n",
       "  <thead>\n",
       "    <tr style=\"text-align: right;\">\n",
       "      <th></th>\n",
       "      <th>A</th>\n",
       "      <th>B</th>\n",
       "      <th>C</th>\n",
       "      <th>D</th>\n",
       "    </tr>\n",
       "  </thead>\n",
       "  <tbody>\n",
       "    <tr>\n",
       "      <th>2000-01-01</th>\n",
       "      <td>NaN</td>\n",
       "      <td>-0.165075</td>\n",
       "      <td>NaN</td>\n",
       "      <td>NaN</td>\n",
       "    </tr>\n",
       "    <tr>\n",
       "      <th>2000-01-02</th>\n",
       "      <td>-0.758367</td>\n",
       "      <td>NaN</td>\n",
       "      <td>-0.436352</td>\n",
       "      <td>NaN</td>\n",
       "    </tr>\n",
       "    <tr>\n",
       "      <th>2000-01-03</th>\n",
       "      <td>NaN</td>\n",
       "      <td>NaN</td>\n",
       "      <td>NaN</td>\n",
       "      <td>NaN</td>\n",
       "    </tr>\n",
       "    <tr>\n",
       "      <th>2000-01-04</th>\n",
       "      <td>NaN</td>\n",
       "      <td>-1.413628</td>\n",
       "      <td>-0.626850</td>\n",
       "      <td>-0.164129</td>\n",
       "    </tr>\n",
       "    <tr>\n",
       "      <th>2000-01-05</th>\n",
       "      <td>-1.328423</td>\n",
       "      <td>-1.351002</td>\n",
       "      <td>-0.926571</td>\n",
       "      <td>-0.735808</td>\n",
       "    </tr>\n",
       "    <tr>\n",
       "      <th>2000-01-06</th>\n",
       "      <td>NaN</td>\n",
       "      <td>NaN</td>\n",
       "      <td>-0.186022</td>\n",
       "      <td>-0.173167</td>\n",
       "    </tr>\n",
       "    <tr>\n",
       "      <th>2000-01-07</th>\n",
       "      <td>NaN</td>\n",
       "      <td>-1.120089</td>\n",
       "      <td>NaN</td>\n",
       "      <td>NaN</td>\n",
       "    </tr>\n",
       "    <tr>\n",
       "      <th>2000-01-08</th>\n",
       "      <td>-1.836319</td>\n",
       "      <td>NaN</td>\n",
       "      <td>NaN</td>\n",
       "      <td>-0.478778</td>\n",
       "    </tr>\n",
       "  </tbody>\n",
       "</table>\n",
       "</div>"
      ],
      "text/plain": [
       "                   A         B         C         D\n",
       "2000-01-01       NaN -0.165075       NaN       NaN\n",
       "2000-01-02 -0.758367       NaN -0.436352       NaN\n",
       "2000-01-03       NaN       NaN       NaN       NaN\n",
       "2000-01-04       NaN -1.413628 -0.626850 -0.164129\n",
       "2000-01-05 -1.328423 -1.351002 -0.926571 -0.735808\n",
       "2000-01-06       NaN       NaN -0.186022 -0.173167\n",
       "2000-01-07       NaN -1.120089       NaN       NaN\n",
       "2000-01-08 -1.836319       NaN       NaN -0.478778"
      ]
     },
     "execution_count": 189,
     "metadata": {},
     "output_type": "execute_result"
    }
   ],
   "source": [
    "df[df < 0]"
   ]
  },
  {
   "cell_type": "code",
   "execution_count": 190,
   "id": "4ed40021",
   "metadata": {
    "execution": {
     "iopub.execute_input": "2022-09-29T06:59:17.944278Z",
     "iopub.status.busy": "2022-09-29T06:59:17.943903Z",
     "iopub.status.idle": "2022-09-29T06:59:17.960184Z",
     "shell.execute_reply": "2022-09-29T06:59:17.958881Z"
    },
    "papermill": {
     "duration": 0.10483,
     "end_time": "2022-09-29T06:59:17.962770",
     "exception": false,
     "start_time": "2022-09-29T06:59:17.857940",
     "status": "completed"
    },
    "tags": []
   },
   "outputs": [
    {
     "data": {
      "text/html": [
       "<div>\n",
       "<style scoped>\n",
       "    .dataframe tbody tr th:only-of-type {\n",
       "        vertical-align: middle;\n",
       "    }\n",
       "\n",
       "    .dataframe tbody tr th {\n",
       "        vertical-align: top;\n",
       "    }\n",
       "\n",
       "    .dataframe thead th {\n",
       "        text-align: right;\n",
       "    }\n",
       "</style>\n",
       "<table border=\"1\" class=\"dataframe\">\n",
       "  <thead>\n",
       "    <tr style=\"text-align: right;\">\n",
       "      <th></th>\n",
       "      <th>A</th>\n",
       "      <th>B</th>\n",
       "      <th>C</th>\n",
       "      <th>D</th>\n",
       "    </tr>\n",
       "  </thead>\n",
       "  <tbody>\n",
       "    <tr>\n",
       "      <th>2000-01-01</th>\n",
       "      <td>-0.872785</td>\n",
       "      <td>-0.165075</td>\n",
       "      <td>-1.119368</td>\n",
       "      <td>-1.536064</td>\n",
       "    </tr>\n",
       "    <tr>\n",
       "      <th>2000-01-02</th>\n",
       "      <td>-0.758367</td>\n",
       "      <td>-0.212775</td>\n",
       "      <td>-0.436352</td>\n",
       "      <td>-0.693922</td>\n",
       "    </tr>\n",
       "    <tr>\n",
       "      <th>2000-01-03</th>\n",
       "      <td>-0.486265</td>\n",
       "      <td>-1.415480</td>\n",
       "      <td>-1.771454</td>\n",
       "      <td>-1.397096</td>\n",
       "    </tr>\n",
       "    <tr>\n",
       "      <th>2000-01-04</th>\n",
       "      <td>-1.188366</td>\n",
       "      <td>-1.413628</td>\n",
       "      <td>-0.626850</td>\n",
       "      <td>-0.164129</td>\n",
       "    </tr>\n",
       "    <tr>\n",
       "      <th>2000-01-05</th>\n",
       "      <td>-1.328423</td>\n",
       "      <td>-1.351002</td>\n",
       "      <td>-0.926571</td>\n",
       "      <td>-0.735808</td>\n",
       "    </tr>\n",
       "    <tr>\n",
       "      <th>2000-01-06</th>\n",
       "      <td>-0.730846</td>\n",
       "      <td>-0.444226</td>\n",
       "      <td>-0.186022</td>\n",
       "      <td>-0.173167</td>\n",
       "    </tr>\n",
       "    <tr>\n",
       "      <th>2000-01-07</th>\n",
       "      <td>-0.246703</td>\n",
       "      <td>-1.120089</td>\n",
       "      <td>-0.842168</td>\n",
       "      <td>-1.193891</td>\n",
       "    </tr>\n",
       "    <tr>\n",
       "      <th>2000-01-08</th>\n",
       "      <td>-1.836319</td>\n",
       "      <td>-0.374886</td>\n",
       "      <td>-1.080498</td>\n",
       "      <td>-0.478778</td>\n",
       "    </tr>\n",
       "  </tbody>\n",
       "</table>\n",
       "</div>"
      ],
      "text/plain": [
       "                   A         B         C         D\n",
       "2000-01-01 -0.872785 -0.165075 -1.119368 -1.536064\n",
       "2000-01-02 -0.758367 -0.212775 -0.436352 -0.693922\n",
       "2000-01-03 -0.486265 -1.415480 -1.771454 -1.397096\n",
       "2000-01-04 -1.188366 -1.413628 -0.626850 -0.164129\n",
       "2000-01-05 -1.328423 -1.351002 -0.926571 -0.735808\n",
       "2000-01-06 -0.730846 -0.444226 -0.186022 -0.173167\n",
       "2000-01-07 -0.246703 -1.120089 -0.842168 -1.193891\n",
       "2000-01-08 -1.836319 -0.374886 -1.080498 -0.478778"
      ]
     },
     "execution_count": 190,
     "metadata": {},
     "output_type": "execute_result"
    }
   ],
   "source": [
    "df.where(df < 0, -df)"
   ]
  },
  {
   "cell_type": "markdown",
   "id": "e244c81f",
   "metadata": {
    "papermill": {
     "duration": 0.084852,
     "end_time": "2022-09-29T06:59:18.128982",
     "exception": false,
     "start_time": "2022-09-29T06:59:18.044130",
     "status": "completed"
    },
    "tags": []
   },
   "source": [
    "You may wish to set values based on some boolean criteria. This can be done intuitively like so:"
   ]
  },
  {
   "cell_type": "code",
   "execution_count": 191,
   "id": "c8510e15",
   "metadata": {
    "execution": {
     "iopub.execute_input": "2022-09-29T06:59:18.301163Z",
     "iopub.status.busy": "2022-09-29T06:59:18.298925Z",
     "iopub.status.idle": "2022-09-29T06:59:18.311153Z",
     "shell.execute_reply": "2022-09-29T06:59:18.309696Z"
    },
    "papermill": {
     "duration": 0.100725,
     "end_time": "2022-09-29T06:59:18.313824",
     "exception": false,
     "start_time": "2022-09-29T06:59:18.213099",
     "status": "completed"
    },
    "tags": []
   },
   "outputs": [
    {
     "data": {
      "text/plain": [
       "4    0\n",
       "3    1\n",
       "2    2\n",
       "1    3\n",
       "0    4\n",
       "dtype: int64"
      ]
     },
     "execution_count": 191,
     "metadata": {},
     "output_type": "execute_result"
    }
   ],
   "source": [
    "s2 = s.copy()\n",
    "s2[s2 < 0] = 0\n",
    "s2"
   ]
  },
  {
   "cell_type": "code",
   "execution_count": 192,
   "id": "1b11028d",
   "metadata": {
    "execution": {
     "iopub.execute_input": "2022-09-29T06:59:18.484067Z",
     "iopub.status.busy": "2022-09-29T06:59:18.483056Z",
     "iopub.status.idle": "2022-09-29T06:59:18.498541Z",
     "shell.execute_reply": "2022-09-29T06:59:18.497314Z"
    },
    "papermill": {
     "duration": 0.102893,
     "end_time": "2022-09-29T06:59:18.500997",
     "exception": false,
     "start_time": "2022-09-29T06:59:18.398104",
     "status": "completed"
    },
    "tags": []
   },
   "outputs": [
    {
     "data": {
      "text/html": [
       "<div>\n",
       "<style scoped>\n",
       "    .dataframe tbody tr th:only-of-type {\n",
       "        vertical-align: middle;\n",
       "    }\n",
       "\n",
       "    .dataframe tbody tr th {\n",
       "        vertical-align: top;\n",
       "    }\n",
       "\n",
       "    .dataframe thead th {\n",
       "        text-align: right;\n",
       "    }\n",
       "</style>\n",
       "<table border=\"1\" class=\"dataframe\">\n",
       "  <thead>\n",
       "    <tr style=\"text-align: right;\">\n",
       "      <th></th>\n",
       "      <th>A</th>\n",
       "      <th>B</th>\n",
       "      <th>C</th>\n",
       "      <th>D</th>\n",
       "    </tr>\n",
       "  </thead>\n",
       "  <tbody>\n",
       "    <tr>\n",
       "      <th>2000-01-01</th>\n",
       "      <td>0.872785</td>\n",
       "      <td>0.000000</td>\n",
       "      <td>1.119368</td>\n",
       "      <td>1.536064</td>\n",
       "    </tr>\n",
       "    <tr>\n",
       "      <th>2000-01-02</th>\n",
       "      <td>0.000000</td>\n",
       "      <td>0.212775</td>\n",
       "      <td>0.000000</td>\n",
       "      <td>0.693922</td>\n",
       "    </tr>\n",
       "    <tr>\n",
       "      <th>2000-01-03</th>\n",
       "      <td>0.486265</td>\n",
       "      <td>1.415480</td>\n",
       "      <td>1.771454</td>\n",
       "      <td>1.397096</td>\n",
       "    </tr>\n",
       "    <tr>\n",
       "      <th>2000-01-04</th>\n",
       "      <td>1.188366</td>\n",
       "      <td>0.000000</td>\n",
       "      <td>0.000000</td>\n",
       "      <td>0.000000</td>\n",
       "    </tr>\n",
       "    <tr>\n",
       "      <th>2000-01-05</th>\n",
       "      <td>0.000000</td>\n",
       "      <td>0.000000</td>\n",
       "      <td>0.000000</td>\n",
       "      <td>0.000000</td>\n",
       "    </tr>\n",
       "    <tr>\n",
       "      <th>2000-01-06</th>\n",
       "      <td>0.730846</td>\n",
       "      <td>0.444226</td>\n",
       "      <td>0.000000</td>\n",
       "      <td>0.000000</td>\n",
       "    </tr>\n",
       "    <tr>\n",
       "      <th>2000-01-07</th>\n",
       "      <td>0.246703</td>\n",
       "      <td>0.000000</td>\n",
       "      <td>0.842168</td>\n",
       "      <td>1.193891</td>\n",
       "    </tr>\n",
       "    <tr>\n",
       "      <th>2000-01-08</th>\n",
       "      <td>0.000000</td>\n",
       "      <td>0.374886</td>\n",
       "      <td>1.080498</td>\n",
       "      <td>0.000000</td>\n",
       "    </tr>\n",
       "  </tbody>\n",
       "</table>\n",
       "</div>"
      ],
      "text/plain": [
       "                   A         B         C         D\n",
       "2000-01-01  0.872785  0.000000  1.119368  1.536064\n",
       "2000-01-02  0.000000  0.212775  0.000000  0.693922\n",
       "2000-01-03  0.486265  1.415480  1.771454  1.397096\n",
       "2000-01-04  1.188366  0.000000  0.000000  0.000000\n",
       "2000-01-05  0.000000  0.000000  0.000000  0.000000\n",
       "2000-01-06  0.730846  0.444226  0.000000  0.000000\n",
       "2000-01-07  0.246703  0.000000  0.842168  1.193891\n",
       "2000-01-08  0.000000  0.374886  1.080498  0.000000"
      ]
     },
     "execution_count": 192,
     "metadata": {},
     "output_type": "execute_result"
    }
   ],
   "source": [
    "df2 = df.copy()\n",
    "df2[df2 < 0] = 0\n",
    "\n",
    "df2"
   ]
  },
  {
   "cell_type": "markdown",
   "id": "40f776a0",
   "metadata": {
    "papermill": {
     "duration": 0.084201,
     "end_time": "2022-09-29T06:59:18.668733",
     "exception": false,
     "start_time": "2022-09-29T06:59:18.584532",
     "status": "completed"
    },
    "tags": []
   },
   "source": [
    "By default, where returns a modified copy of the data. There is an optional parameter inplace so that the original data can be modified without creating a copy:"
   ]
  },
  {
   "cell_type": "code",
   "execution_count": 193,
   "id": "4e019401",
   "metadata": {
    "execution": {
     "iopub.execute_input": "2022-09-29T06:59:18.848338Z",
     "iopub.status.busy": "2022-09-29T06:59:18.847907Z",
     "iopub.status.idle": "2022-09-29T06:59:18.853815Z",
     "shell.execute_reply": "2022-09-29T06:59:18.852453Z"
    },
    "papermill": {
     "duration": 0.100844,
     "end_time": "2022-09-29T06:59:18.856443",
     "exception": false,
     "start_time": "2022-09-29T06:59:18.755599",
     "status": "completed"
    },
    "tags": []
   },
   "outputs": [],
   "source": [
    "df_orig = df.copy()"
   ]
  },
  {
   "cell_type": "code",
   "execution_count": 194,
   "id": "a5a779b3",
   "metadata": {
    "execution": {
     "iopub.execute_input": "2022-09-29T06:59:19.032142Z",
     "iopub.status.busy": "2022-09-29T06:59:19.031772Z",
     "iopub.status.idle": "2022-09-29T06:59:19.048048Z",
     "shell.execute_reply": "2022-09-29T06:59:19.046717Z"
    },
    "papermill": {
     "duration": 0.106306,
     "end_time": "2022-09-29T06:59:19.050492",
     "exception": false,
     "start_time": "2022-09-29T06:59:18.944186",
     "status": "completed"
    },
    "tags": []
   },
   "outputs": [
    {
     "data": {
      "text/html": [
       "<div>\n",
       "<style scoped>\n",
       "    .dataframe tbody tr th:only-of-type {\n",
       "        vertical-align: middle;\n",
       "    }\n",
       "\n",
       "    .dataframe tbody tr th {\n",
       "        vertical-align: top;\n",
       "    }\n",
       "\n",
       "    .dataframe thead th {\n",
       "        text-align: right;\n",
       "    }\n",
       "</style>\n",
       "<table border=\"1\" class=\"dataframe\">\n",
       "  <thead>\n",
       "    <tr style=\"text-align: right;\">\n",
       "      <th></th>\n",
       "      <th>A</th>\n",
       "      <th>B</th>\n",
       "      <th>C</th>\n",
       "      <th>D</th>\n",
       "    </tr>\n",
       "  </thead>\n",
       "  <tbody>\n",
       "    <tr>\n",
       "      <th>2000-01-01</th>\n",
       "      <td>0.872785</td>\n",
       "      <td>0.165075</td>\n",
       "      <td>1.119368</td>\n",
       "      <td>1.536064</td>\n",
       "    </tr>\n",
       "    <tr>\n",
       "      <th>2000-01-02</th>\n",
       "      <td>0.758367</td>\n",
       "      <td>0.212775</td>\n",
       "      <td>0.436352</td>\n",
       "      <td>0.693922</td>\n",
       "    </tr>\n",
       "    <tr>\n",
       "      <th>2000-01-03</th>\n",
       "      <td>0.486265</td>\n",
       "      <td>1.415480</td>\n",
       "      <td>1.771454</td>\n",
       "      <td>1.397096</td>\n",
       "    </tr>\n",
       "    <tr>\n",
       "      <th>2000-01-04</th>\n",
       "      <td>1.188366</td>\n",
       "      <td>1.413628</td>\n",
       "      <td>0.626850</td>\n",
       "      <td>0.164129</td>\n",
       "    </tr>\n",
       "    <tr>\n",
       "      <th>2000-01-05</th>\n",
       "      <td>1.328423</td>\n",
       "      <td>1.351002</td>\n",
       "      <td>0.926571</td>\n",
       "      <td>0.735808</td>\n",
       "    </tr>\n",
       "    <tr>\n",
       "      <th>2000-01-06</th>\n",
       "      <td>0.730846</td>\n",
       "      <td>0.444226</td>\n",
       "      <td>0.186022</td>\n",
       "      <td>0.173167</td>\n",
       "    </tr>\n",
       "    <tr>\n",
       "      <th>2000-01-07</th>\n",
       "      <td>0.246703</td>\n",
       "      <td>1.120089</td>\n",
       "      <td>0.842168</td>\n",
       "      <td>1.193891</td>\n",
       "    </tr>\n",
       "    <tr>\n",
       "      <th>2000-01-08</th>\n",
       "      <td>1.836319</td>\n",
       "      <td>0.374886</td>\n",
       "      <td>1.080498</td>\n",
       "      <td>0.478778</td>\n",
       "    </tr>\n",
       "  </tbody>\n",
       "</table>\n",
       "</div>"
      ],
      "text/plain": [
       "                   A         B         C         D\n",
       "2000-01-01  0.872785  0.165075  1.119368  1.536064\n",
       "2000-01-02  0.758367  0.212775  0.436352  0.693922\n",
       "2000-01-03  0.486265  1.415480  1.771454  1.397096\n",
       "2000-01-04  1.188366  1.413628  0.626850  0.164129\n",
       "2000-01-05  1.328423  1.351002  0.926571  0.735808\n",
       "2000-01-06  0.730846  0.444226  0.186022  0.173167\n",
       "2000-01-07  0.246703  1.120089  0.842168  1.193891\n",
       "2000-01-08  1.836319  0.374886  1.080498  0.478778"
      ]
     },
     "execution_count": 194,
     "metadata": {},
     "output_type": "execute_result"
    }
   ],
   "source": [
    "df_orig.where(df > 0, -df, inplace=True)\n",
    "df_orig"
   ]
  },
  {
   "cell_type": "markdown",
   "id": "76c47093",
   "metadata": {
    "papermill": {
     "duration": 0.085411,
     "end_time": "2022-09-29T06:59:19.223200",
     "exception": false,
     "start_time": "2022-09-29T06:59:19.137789",
     "status": "completed"
    },
    "tags": []
   },
   "source": [
    "By default, where returns a modified copy of the data. There is an optional parameter inplace so that the original data can be modified without creating a copy:"
   ]
  },
  {
   "cell_type": "code",
   "execution_count": 195,
   "id": "596c8074",
   "metadata": {
    "execution": {
     "iopub.execute_input": "2022-09-29T06:59:19.398072Z",
     "iopub.status.busy": "2022-09-29T06:59:19.396647Z",
     "iopub.status.idle": "2022-09-29T06:59:19.414844Z",
     "shell.execute_reply": "2022-09-29T06:59:19.413449Z"
    },
    "papermill": {
     "duration": 0.108729,
     "end_time": "2022-09-29T06:59:19.417547",
     "exception": false,
     "start_time": "2022-09-29T06:59:19.308818",
     "status": "completed"
    },
    "tags": []
   },
   "outputs": [
    {
     "data": {
      "text/html": [
       "<div>\n",
       "<style scoped>\n",
       "    .dataframe tbody tr th:only-of-type {\n",
       "        vertical-align: middle;\n",
       "    }\n",
       "\n",
       "    .dataframe tbody tr th {\n",
       "        vertical-align: top;\n",
       "    }\n",
       "\n",
       "    .dataframe thead th {\n",
       "        text-align: right;\n",
       "    }\n",
       "</style>\n",
       "<table border=\"1\" class=\"dataframe\">\n",
       "  <thead>\n",
       "    <tr style=\"text-align: right;\">\n",
       "      <th></th>\n",
       "      <th>A</th>\n",
       "      <th>B</th>\n",
       "      <th>C</th>\n",
       "      <th>D</th>\n",
       "    </tr>\n",
       "  </thead>\n",
       "  <tbody>\n",
       "    <tr>\n",
       "      <th>2000-01-01</th>\n",
       "      <td>0.872785</td>\n",
       "      <td>0.165075</td>\n",
       "      <td>1.119368</td>\n",
       "      <td>1.536064</td>\n",
       "    </tr>\n",
       "    <tr>\n",
       "      <th>2000-01-02</th>\n",
       "      <td>0.758367</td>\n",
       "      <td>0.212775</td>\n",
       "      <td>0.436352</td>\n",
       "      <td>0.693922</td>\n",
       "    </tr>\n",
       "    <tr>\n",
       "      <th>2000-01-03</th>\n",
       "      <td>0.486265</td>\n",
       "      <td>1.415480</td>\n",
       "      <td>1.771454</td>\n",
       "      <td>1.397096</td>\n",
       "    </tr>\n",
       "    <tr>\n",
       "      <th>2000-01-04</th>\n",
       "      <td>1.188366</td>\n",
       "      <td>1.413628</td>\n",
       "      <td>0.626850</td>\n",
       "      <td>0.164129</td>\n",
       "    </tr>\n",
       "    <tr>\n",
       "      <th>2000-01-05</th>\n",
       "      <td>1.328423</td>\n",
       "      <td>1.351002</td>\n",
       "      <td>0.926571</td>\n",
       "      <td>0.735808</td>\n",
       "    </tr>\n",
       "    <tr>\n",
       "      <th>2000-01-06</th>\n",
       "      <td>0.730846</td>\n",
       "      <td>0.444226</td>\n",
       "      <td>0.186022</td>\n",
       "      <td>0.173167</td>\n",
       "    </tr>\n",
       "    <tr>\n",
       "      <th>2000-01-07</th>\n",
       "      <td>0.246703</td>\n",
       "      <td>1.120089</td>\n",
       "      <td>0.842168</td>\n",
       "      <td>1.193891</td>\n",
       "    </tr>\n",
       "    <tr>\n",
       "      <th>2000-01-08</th>\n",
       "      <td>1.836319</td>\n",
       "      <td>0.374886</td>\n",
       "      <td>1.080498</td>\n",
       "      <td>0.478778</td>\n",
       "    </tr>\n",
       "  </tbody>\n",
       "</table>\n",
       "</div>"
      ],
      "text/plain": [
       "                   A         B         C         D\n",
       "2000-01-01  0.872785  0.165075  1.119368  1.536064\n",
       "2000-01-02  0.758367  0.212775  0.436352  0.693922\n",
       "2000-01-03  0.486265  1.415480  1.771454  1.397096\n",
       "2000-01-04  1.188366  1.413628  0.626850  0.164129\n",
       "2000-01-05  1.328423  1.351002  0.926571  0.735808\n",
       "2000-01-06  0.730846  0.444226  0.186022  0.173167\n",
       "2000-01-07  0.246703  1.120089  0.842168  1.193891\n",
       "2000-01-08  1.836319  0.374886  1.080498  0.478778"
      ]
     },
     "execution_count": 195,
     "metadata": {},
     "output_type": "execute_result"
    }
   ],
   "source": [
    "df_orig = df.copy()\n",
    "df_orig.where(df > 0, -df, inplace=True)\n",
    "df_orig"
   ]
  },
  {
   "cell_type": "markdown",
   "id": "91e3834a",
   "metadata": {
    "papermill": {
     "duration": 0.08676,
     "end_time": "2022-09-29T06:59:19.592103",
     "exception": false,
     "start_time": "2022-09-29T06:59:19.505343",
     "status": "completed"
    },
    "tags": []
   },
   "source": [
    "> > ## ✍️ Note:\n",
    "> **The signature for DataFrame.where() differs from numpy.where(). Roughly df1.where(m, df2) is equivalent to np.where(m, df1, df2).**"
   ]
  },
  {
   "cell_type": "code",
   "execution_count": 196,
   "id": "d2380dcd",
   "metadata": {
    "execution": {
     "iopub.execute_input": "2022-09-29T06:59:19.780339Z",
     "iopub.status.busy": "2022-09-29T06:59:19.779955Z",
     "iopub.status.idle": "2022-09-29T06:59:19.796285Z",
     "shell.execute_reply": "2022-09-29T06:59:19.795042Z"
    },
    "papermill": {
     "duration": 0.110233,
     "end_time": "2022-09-29T06:59:19.798900",
     "exception": false,
     "start_time": "2022-09-29T06:59:19.688667",
     "status": "completed"
    },
    "tags": []
   },
   "outputs": [
    {
     "data": {
      "text/html": [
       "<div>\n",
       "<style scoped>\n",
       "    .dataframe tbody tr th:only-of-type {\n",
       "        vertical-align: middle;\n",
       "    }\n",
       "\n",
       "    .dataframe tbody tr th {\n",
       "        vertical-align: top;\n",
       "    }\n",
       "\n",
       "    .dataframe thead th {\n",
       "        text-align: right;\n",
       "    }\n",
       "</style>\n",
       "<table border=\"1\" class=\"dataframe\">\n",
       "  <thead>\n",
       "    <tr style=\"text-align: right;\">\n",
       "      <th></th>\n",
       "      <th>A</th>\n",
       "      <th>B</th>\n",
       "      <th>C</th>\n",
       "      <th>D</th>\n",
       "    </tr>\n",
       "  </thead>\n",
       "  <tbody>\n",
       "    <tr>\n",
       "      <th>2000-01-01</th>\n",
       "      <td>True</td>\n",
       "      <td>True</td>\n",
       "      <td>True</td>\n",
       "      <td>True</td>\n",
       "    </tr>\n",
       "    <tr>\n",
       "      <th>2000-01-02</th>\n",
       "      <td>True</td>\n",
       "      <td>True</td>\n",
       "      <td>True</td>\n",
       "      <td>True</td>\n",
       "    </tr>\n",
       "    <tr>\n",
       "      <th>2000-01-03</th>\n",
       "      <td>True</td>\n",
       "      <td>True</td>\n",
       "      <td>True</td>\n",
       "      <td>True</td>\n",
       "    </tr>\n",
       "    <tr>\n",
       "      <th>2000-01-04</th>\n",
       "      <td>True</td>\n",
       "      <td>True</td>\n",
       "      <td>True</td>\n",
       "      <td>True</td>\n",
       "    </tr>\n",
       "    <tr>\n",
       "      <th>2000-01-05</th>\n",
       "      <td>True</td>\n",
       "      <td>True</td>\n",
       "      <td>True</td>\n",
       "      <td>True</td>\n",
       "    </tr>\n",
       "    <tr>\n",
       "      <th>2000-01-06</th>\n",
       "      <td>True</td>\n",
       "      <td>True</td>\n",
       "      <td>True</td>\n",
       "      <td>True</td>\n",
       "    </tr>\n",
       "    <tr>\n",
       "      <th>2000-01-07</th>\n",
       "      <td>True</td>\n",
       "      <td>True</td>\n",
       "      <td>True</td>\n",
       "      <td>True</td>\n",
       "    </tr>\n",
       "    <tr>\n",
       "      <th>2000-01-08</th>\n",
       "      <td>True</td>\n",
       "      <td>True</td>\n",
       "      <td>True</td>\n",
       "      <td>True</td>\n",
       "    </tr>\n",
       "  </tbody>\n",
       "</table>\n",
       "</div>"
      ],
      "text/plain": [
       "               A     B     C     D\n",
       "2000-01-01  True  True  True  True\n",
       "2000-01-02  True  True  True  True\n",
       "2000-01-03  True  True  True  True\n",
       "2000-01-04  True  True  True  True\n",
       "2000-01-05  True  True  True  True\n",
       "2000-01-06  True  True  True  True\n",
       "2000-01-07  True  True  True  True\n",
       "2000-01-08  True  True  True  True"
      ]
     },
     "execution_count": 196,
     "metadata": {},
     "output_type": "execute_result"
    }
   ],
   "source": [
    "df.where(df < 0, -df) == np.where(df < 0, df, -df)"
   ]
  },
  {
   "cell_type": "markdown",
   "id": "38ad319a",
   "metadata": {
    "papermill": {
     "duration": 0.086122,
     "end_time": "2022-09-29T06:59:19.971860",
     "exception": false,
     "start_time": "2022-09-29T06:59:19.885738",
     "status": "completed"
    },
    "tags": []
   },
   "source": [
    "#### The where() Method and Masking | Alignment\n",
    "\n",
    "- Furthermore, where aligns the input boolean condition (ndarray or DataFrame), such that partial selection with setting is possible. This is analogous to partial setting via .loc (but on the contents rather than the axis labels)."
   ]
  },
  {
   "cell_type": "code",
   "execution_count": 197,
   "id": "8d7d079e",
   "metadata": {
    "execution": {
     "iopub.execute_input": "2022-09-29T06:59:20.146575Z",
     "iopub.status.busy": "2022-09-29T06:59:20.146110Z",
     "iopub.status.idle": "2022-09-29T06:59:20.164685Z",
     "shell.execute_reply": "2022-09-29T06:59:20.163376Z"
    },
    "papermill": {
     "duration": 0.109199,
     "end_time": "2022-09-29T06:59:20.167170",
     "exception": false,
     "start_time": "2022-09-29T06:59:20.057971",
     "status": "completed"
    },
    "tags": []
   },
   "outputs": [
    {
     "data": {
      "text/html": [
       "<div>\n",
       "<style scoped>\n",
       "    .dataframe tbody tr th:only-of-type {\n",
       "        vertical-align: middle;\n",
       "    }\n",
       "\n",
       "    .dataframe tbody tr th {\n",
       "        vertical-align: top;\n",
       "    }\n",
       "\n",
       "    .dataframe thead th {\n",
       "        text-align: right;\n",
       "    }\n",
       "</style>\n",
       "<table border=\"1\" class=\"dataframe\">\n",
       "  <thead>\n",
       "    <tr style=\"text-align: right;\">\n",
       "      <th></th>\n",
       "      <th>A</th>\n",
       "      <th>B</th>\n",
       "      <th>C</th>\n",
       "      <th>D</th>\n",
       "    </tr>\n",
       "  </thead>\n",
       "  <tbody>\n",
       "    <tr>\n",
       "      <th>2000-01-01</th>\n",
       "      <td>0.872785</td>\n",
       "      <td>-0.165075</td>\n",
       "      <td>1.119368</td>\n",
       "      <td>1.536064</td>\n",
       "    </tr>\n",
       "    <tr>\n",
       "      <th>2000-01-02</th>\n",
       "      <td>-0.758367</td>\n",
       "      <td>3.000000</td>\n",
       "      <td>-0.436352</td>\n",
       "      <td>3.000000</td>\n",
       "    </tr>\n",
       "    <tr>\n",
       "      <th>2000-01-03</th>\n",
       "      <td>3.000000</td>\n",
       "      <td>3.000000</td>\n",
       "      <td>3.000000</td>\n",
       "      <td>3.000000</td>\n",
       "    </tr>\n",
       "    <tr>\n",
       "      <th>2000-01-04</th>\n",
       "      <td>3.000000</td>\n",
       "      <td>-1.413628</td>\n",
       "      <td>-0.626850</td>\n",
       "      <td>-0.164129</td>\n",
       "    </tr>\n",
       "    <tr>\n",
       "      <th>2000-01-05</th>\n",
       "      <td>-1.328423</td>\n",
       "      <td>-1.351002</td>\n",
       "      <td>-0.926571</td>\n",
       "      <td>-0.735808</td>\n",
       "    </tr>\n",
       "    <tr>\n",
       "      <th>2000-01-06</th>\n",
       "      <td>0.730846</td>\n",
       "      <td>0.444226</td>\n",
       "      <td>-0.186022</td>\n",
       "      <td>-0.173167</td>\n",
       "    </tr>\n",
       "    <tr>\n",
       "      <th>2000-01-07</th>\n",
       "      <td>0.246703</td>\n",
       "      <td>-1.120089</td>\n",
       "      <td>0.842168</td>\n",
       "      <td>1.193891</td>\n",
       "    </tr>\n",
       "    <tr>\n",
       "      <th>2000-01-08</th>\n",
       "      <td>-1.836319</td>\n",
       "      <td>0.374886</td>\n",
       "      <td>1.080498</td>\n",
       "      <td>-0.478778</td>\n",
       "    </tr>\n",
       "  </tbody>\n",
       "</table>\n",
       "</div>"
      ],
      "text/plain": [
       "                   A         B         C         D\n",
       "2000-01-01  0.872785 -0.165075  1.119368  1.536064\n",
       "2000-01-02 -0.758367  3.000000 -0.436352  3.000000\n",
       "2000-01-03  3.000000  3.000000  3.000000  3.000000\n",
       "2000-01-04  3.000000 -1.413628 -0.626850 -0.164129\n",
       "2000-01-05 -1.328423 -1.351002 -0.926571 -0.735808\n",
       "2000-01-06  0.730846  0.444226 -0.186022 -0.173167\n",
       "2000-01-07  0.246703 -1.120089  0.842168  1.193891\n",
       "2000-01-08 -1.836319  0.374886  1.080498 -0.478778"
      ]
     },
     "execution_count": 197,
     "metadata": {},
     "output_type": "execute_result"
    }
   ],
   "source": [
    "df2 = df.copy()\n",
    "df2[df2[1:4] > 0] = 3\n",
    "df2"
   ]
  },
  {
   "cell_type": "markdown",
   "id": "50d965c2",
   "metadata": {
    "papermill": {
     "duration": 0.086487,
     "end_time": "2022-09-29T06:59:20.338764",
     "exception": false,
     "start_time": "2022-09-29T06:59:20.252277",
     "status": "completed"
    },
    "tags": []
   },
   "source": [
    ">Where can also accept axis and level parameters to align the input when performing the where."
   ]
  },
  {
   "cell_type": "code",
   "execution_count": 198,
   "id": "b1da8ace",
   "metadata": {
    "execution": {
     "iopub.execute_input": "2022-09-29T06:59:20.517371Z",
     "iopub.status.busy": "2022-09-29T06:59:20.516119Z",
     "iopub.status.idle": "2022-09-29T06:59:20.533640Z",
     "shell.execute_reply": "2022-09-29T06:59:20.532201Z"
    },
    "papermill": {
     "duration": 0.109768,
     "end_time": "2022-09-29T06:59:20.536075",
     "exception": false,
     "start_time": "2022-09-29T06:59:20.426307",
     "status": "completed"
    },
    "tags": []
   },
   "outputs": [
    {
     "data": {
      "text/html": [
       "<div>\n",
       "<style scoped>\n",
       "    .dataframe tbody tr th:only-of-type {\n",
       "        vertical-align: middle;\n",
       "    }\n",
       "\n",
       "    .dataframe tbody tr th {\n",
       "        vertical-align: top;\n",
       "    }\n",
       "\n",
       "    .dataframe thead th {\n",
       "        text-align: right;\n",
       "    }\n",
       "</style>\n",
       "<table border=\"1\" class=\"dataframe\">\n",
       "  <thead>\n",
       "    <tr style=\"text-align: right;\">\n",
       "      <th></th>\n",
       "      <th>A</th>\n",
       "      <th>B</th>\n",
       "      <th>C</th>\n",
       "      <th>D</th>\n",
       "    </tr>\n",
       "  </thead>\n",
       "  <tbody>\n",
       "    <tr>\n",
       "      <th>2000-01-01</th>\n",
       "      <td>0.872785</td>\n",
       "      <td>0.872785</td>\n",
       "      <td>1.119368</td>\n",
       "      <td>1.536064</td>\n",
       "    </tr>\n",
       "    <tr>\n",
       "      <th>2000-01-02</th>\n",
       "      <td>-0.758367</td>\n",
       "      <td>0.212775</td>\n",
       "      <td>-0.758367</td>\n",
       "      <td>0.693922</td>\n",
       "    </tr>\n",
       "    <tr>\n",
       "      <th>2000-01-03</th>\n",
       "      <td>0.486265</td>\n",
       "      <td>1.415480</td>\n",
       "      <td>1.771454</td>\n",
       "      <td>1.397096</td>\n",
       "    </tr>\n",
       "    <tr>\n",
       "      <th>2000-01-04</th>\n",
       "      <td>1.188366</td>\n",
       "      <td>1.188366</td>\n",
       "      <td>1.188366</td>\n",
       "      <td>1.188366</td>\n",
       "    </tr>\n",
       "    <tr>\n",
       "      <th>2000-01-05</th>\n",
       "      <td>-1.328423</td>\n",
       "      <td>-1.328423</td>\n",
       "      <td>-1.328423</td>\n",
       "      <td>-1.328423</td>\n",
       "    </tr>\n",
       "    <tr>\n",
       "      <th>2000-01-06</th>\n",
       "      <td>0.730846</td>\n",
       "      <td>0.444226</td>\n",
       "      <td>0.730846</td>\n",
       "      <td>0.730846</td>\n",
       "    </tr>\n",
       "    <tr>\n",
       "      <th>2000-01-07</th>\n",
       "      <td>0.246703</td>\n",
       "      <td>0.246703</td>\n",
       "      <td>0.842168</td>\n",
       "      <td>1.193891</td>\n",
       "    </tr>\n",
       "    <tr>\n",
       "      <th>2000-01-08</th>\n",
       "      <td>-1.836319</td>\n",
       "      <td>0.374886</td>\n",
       "      <td>1.080498</td>\n",
       "      <td>-1.836319</td>\n",
       "    </tr>\n",
       "  </tbody>\n",
       "</table>\n",
       "</div>"
      ],
      "text/plain": [
       "                   A         B         C         D\n",
       "2000-01-01  0.872785  0.872785  1.119368  1.536064\n",
       "2000-01-02 -0.758367  0.212775 -0.758367  0.693922\n",
       "2000-01-03  0.486265  1.415480  1.771454  1.397096\n",
       "2000-01-04  1.188366  1.188366  1.188366  1.188366\n",
       "2000-01-05 -1.328423 -1.328423 -1.328423 -1.328423\n",
       "2000-01-06  0.730846  0.444226  0.730846  0.730846\n",
       "2000-01-07  0.246703  0.246703  0.842168  1.193891\n",
       "2000-01-08 -1.836319  0.374886  1.080498 -1.836319"
      ]
     },
     "execution_count": 198,
     "metadata": {},
     "output_type": "execute_result"
    }
   ],
   "source": [
    "df2 = df.copy()\n",
    "df2.where(df2 > 0, df2['A'], axis='index')"
   ]
  },
  {
   "cell_type": "markdown",
   "id": "03e1f20e",
   "metadata": {
    "papermill": {
     "duration": 0.086378,
     "end_time": "2022-09-29T06:59:20.710446",
     "exception": false,
     "start_time": "2022-09-29T06:59:20.624068",
     "status": "completed"
    },
    "tags": []
   },
   "source": [
    ">This is equivalent to (but faster than) the following."
   ]
  },
  {
   "cell_type": "code",
   "execution_count": 199,
   "id": "744dcca6",
   "metadata": {
    "execution": {
     "iopub.execute_input": "2022-09-29T06:59:20.929494Z",
     "iopub.status.busy": "2022-09-29T06:59:20.929035Z",
     "iopub.status.idle": "2022-09-29T06:59:20.951271Z",
     "shell.execute_reply": "2022-09-29T06:59:20.949869Z"
    },
    "papermill": {
     "duration": 0.114067,
     "end_time": "2022-09-29T06:59:20.953990",
     "exception": false,
     "start_time": "2022-09-29T06:59:20.839923",
     "status": "completed"
    },
    "tags": []
   },
   "outputs": [
    {
     "data": {
      "text/html": [
       "<div>\n",
       "<style scoped>\n",
       "    .dataframe tbody tr th:only-of-type {\n",
       "        vertical-align: middle;\n",
       "    }\n",
       "\n",
       "    .dataframe tbody tr th {\n",
       "        vertical-align: top;\n",
       "    }\n",
       "\n",
       "    .dataframe thead th {\n",
       "        text-align: right;\n",
       "    }\n",
       "</style>\n",
       "<table border=\"1\" class=\"dataframe\">\n",
       "  <thead>\n",
       "    <tr style=\"text-align: right;\">\n",
       "      <th></th>\n",
       "      <th>A</th>\n",
       "      <th>B</th>\n",
       "      <th>C</th>\n",
       "      <th>D</th>\n",
       "    </tr>\n",
       "  </thead>\n",
       "  <tbody>\n",
       "    <tr>\n",
       "      <th>2000-01-01</th>\n",
       "      <td>0.872785</td>\n",
       "      <td>0.872785</td>\n",
       "      <td>1.119368</td>\n",
       "      <td>1.536064</td>\n",
       "    </tr>\n",
       "    <tr>\n",
       "      <th>2000-01-02</th>\n",
       "      <td>-0.758367</td>\n",
       "      <td>0.212775</td>\n",
       "      <td>-0.758367</td>\n",
       "      <td>0.693922</td>\n",
       "    </tr>\n",
       "    <tr>\n",
       "      <th>2000-01-03</th>\n",
       "      <td>0.486265</td>\n",
       "      <td>1.415480</td>\n",
       "      <td>1.771454</td>\n",
       "      <td>1.397096</td>\n",
       "    </tr>\n",
       "    <tr>\n",
       "      <th>2000-01-04</th>\n",
       "      <td>1.188366</td>\n",
       "      <td>1.188366</td>\n",
       "      <td>1.188366</td>\n",
       "      <td>1.188366</td>\n",
       "    </tr>\n",
       "    <tr>\n",
       "      <th>2000-01-05</th>\n",
       "      <td>-1.328423</td>\n",
       "      <td>-1.328423</td>\n",
       "      <td>-1.328423</td>\n",
       "      <td>-1.328423</td>\n",
       "    </tr>\n",
       "    <tr>\n",
       "      <th>2000-01-06</th>\n",
       "      <td>0.730846</td>\n",
       "      <td>0.444226</td>\n",
       "      <td>0.730846</td>\n",
       "      <td>0.730846</td>\n",
       "    </tr>\n",
       "    <tr>\n",
       "      <th>2000-01-07</th>\n",
       "      <td>0.246703</td>\n",
       "      <td>0.246703</td>\n",
       "      <td>0.842168</td>\n",
       "      <td>1.193891</td>\n",
       "    </tr>\n",
       "    <tr>\n",
       "      <th>2000-01-08</th>\n",
       "      <td>-1.836319</td>\n",
       "      <td>0.374886</td>\n",
       "      <td>1.080498</td>\n",
       "      <td>-1.836319</td>\n",
       "    </tr>\n",
       "  </tbody>\n",
       "</table>\n",
       "</div>"
      ],
      "text/plain": [
       "                   A         B         C         D\n",
       "2000-01-01  0.872785  0.872785  1.119368  1.536064\n",
       "2000-01-02 -0.758367  0.212775 -0.758367  0.693922\n",
       "2000-01-03  0.486265  1.415480  1.771454  1.397096\n",
       "2000-01-04  1.188366  1.188366  1.188366  1.188366\n",
       "2000-01-05 -1.328423 -1.328423 -1.328423 -1.328423\n",
       "2000-01-06  0.730846  0.444226  0.730846  0.730846\n",
       "2000-01-07  0.246703  0.246703  0.842168  1.193891\n",
       "2000-01-08 -1.836319  0.374886  1.080498 -1.836319"
      ]
     },
     "execution_count": 199,
     "metadata": {},
     "output_type": "execute_result"
    }
   ],
   "source": [
    "df2 = df.copy()\n",
    "df.apply(lambda x, y: x.where(x > 0, y), y=df['A'])"
   ]
  },
  {
   "cell_type": "markdown",
   "id": "8e1b961e",
   "metadata": {
    "papermill": {
     "duration": 0.088012,
     "end_time": "2022-09-29T06:59:21.130425",
     "exception": false,
     "start_time": "2022-09-29T06:59:21.042413",
     "status": "completed"
    },
    "tags": []
   },
   "source": [
    "where can accept a callable as condition and other arguments. The function must be with one argument (the calling Series or DataFrame) and that returns valid output as condition and other argument."
   ]
  },
  {
   "cell_type": "code",
   "execution_count": 200,
   "id": "491cb4c2",
   "metadata": {
    "execution": {
     "iopub.execute_input": "2022-09-29T06:59:21.304776Z",
     "iopub.status.busy": "2022-09-29T06:59:21.303763Z",
     "iopub.status.idle": "2022-09-29T06:59:21.320000Z",
     "shell.execute_reply": "2022-09-29T06:59:21.318681Z"
    },
    "papermill": {
     "duration": 0.106995,
     "end_time": "2022-09-29T06:59:21.322733",
     "exception": false,
     "start_time": "2022-09-29T06:59:21.215738",
     "status": "completed"
    },
    "tags": []
   },
   "outputs": [
    {
     "data": {
      "text/html": [
       "<div>\n",
       "<style scoped>\n",
       "    .dataframe tbody tr th:only-of-type {\n",
       "        vertical-align: middle;\n",
       "    }\n",
       "\n",
       "    .dataframe tbody tr th {\n",
       "        vertical-align: top;\n",
       "    }\n",
       "\n",
       "    .dataframe thead th {\n",
       "        text-align: right;\n",
       "    }\n",
       "</style>\n",
       "<table border=\"1\" class=\"dataframe\">\n",
       "  <thead>\n",
       "    <tr style=\"text-align: right;\">\n",
       "      <th></th>\n",
       "      <th>A</th>\n",
       "      <th>B</th>\n",
       "      <th>C</th>\n",
       "    </tr>\n",
       "  </thead>\n",
       "  <tbody>\n",
       "    <tr>\n",
       "      <th>0</th>\n",
       "      <td>11</td>\n",
       "      <td>14</td>\n",
       "      <td>7</td>\n",
       "    </tr>\n",
       "    <tr>\n",
       "      <th>1</th>\n",
       "      <td>12</td>\n",
       "      <td>5</td>\n",
       "      <td>8</td>\n",
       "    </tr>\n",
       "    <tr>\n",
       "      <th>2</th>\n",
       "      <td>13</td>\n",
       "      <td>6</td>\n",
       "      <td>9</td>\n",
       "    </tr>\n",
       "  </tbody>\n",
       "</table>\n",
       "</div>"
      ],
      "text/plain": [
       "    A   B  C\n",
       "0  11  14  7\n",
       "1  12   5  8\n",
       "2  13   6  9"
      ]
     },
     "execution_count": 200,
     "metadata": {},
     "output_type": "execute_result"
    }
   ],
   "source": [
    "df3 = pd.DataFrame({'A': [1, 2, 3],\n",
    "   .....:                     'B': [4, 5, 6],\n",
    "   .....:                     'C': [7, 8, 9]})\n",
    "df3.where(lambda x: x > 4, lambda x: x + 10)"
   ]
  },
  {
   "cell_type": "markdown",
   "id": "ad861c38",
   "metadata": {
    "papermill": {
     "duration": 0.085772,
     "end_time": "2022-09-29T06:59:21.497121",
     "exception": false,
     "start_time": "2022-09-29T06:59:21.411349",
     "status": "completed"
    },
    "tags": []
   },
   "source": [
    "> ## MASK:\n",
    "> ##### mask() is the inverse boolean operation of where."
   ]
  },
  {
   "cell_type": "code",
   "execution_count": 201,
   "id": "ecd9340a",
   "metadata": {
    "execution": {
     "iopub.execute_input": "2022-09-29T06:59:21.674632Z",
     "iopub.status.busy": "2022-09-29T06:59:21.673370Z",
     "iopub.status.idle": "2022-09-29T06:59:21.684732Z",
     "shell.execute_reply": "2022-09-29T06:59:21.683230Z"
    },
    "papermill": {
     "duration": 0.104022,
     "end_time": "2022-09-29T06:59:21.687457",
     "exception": false,
     "start_time": "2022-09-29T06:59:21.583435",
     "status": "completed"
    },
    "tags": []
   },
   "outputs": [
    {
     "data": {
      "text/plain": [
       "4   NaN\n",
       "3   NaN\n",
       "2   NaN\n",
       "1   NaN\n",
       "0   NaN\n",
       "dtype: float64"
      ]
     },
     "execution_count": 201,
     "metadata": {},
     "output_type": "execute_result"
    }
   ],
   "source": [
    "s.mask(s >= 0)"
   ]
  },
  {
   "cell_type": "code",
   "execution_count": 202,
   "id": "4a587aa7",
   "metadata": {
    "execution": {
     "iopub.execute_input": "2022-09-29T06:59:21.869227Z",
     "iopub.status.busy": "2022-09-29T06:59:21.868774Z",
     "iopub.status.idle": "2022-09-29T06:59:21.886209Z",
     "shell.execute_reply": "2022-09-29T06:59:21.884731Z"
    },
    "papermill": {
     "duration": 0.110636,
     "end_time": "2022-09-29T06:59:21.889023",
     "exception": false,
     "start_time": "2022-09-29T06:59:21.778387",
     "status": "completed"
    },
    "tags": []
   },
   "outputs": [
    {
     "data": {
      "text/html": [
       "<div>\n",
       "<style scoped>\n",
       "    .dataframe tbody tr th:only-of-type {\n",
       "        vertical-align: middle;\n",
       "    }\n",
       "\n",
       "    .dataframe tbody tr th {\n",
       "        vertical-align: top;\n",
       "    }\n",
       "\n",
       "    .dataframe thead th {\n",
       "        text-align: right;\n",
       "    }\n",
       "</style>\n",
       "<table border=\"1\" class=\"dataframe\">\n",
       "  <thead>\n",
       "    <tr style=\"text-align: right;\">\n",
       "      <th></th>\n",
       "      <th>A</th>\n",
       "      <th>B</th>\n",
       "      <th>C</th>\n",
       "      <th>D</th>\n",
       "    </tr>\n",
       "  </thead>\n",
       "  <tbody>\n",
       "    <tr>\n",
       "      <th>2000-01-01</th>\n",
       "      <td>NaN</td>\n",
       "      <td>-0.165075</td>\n",
       "      <td>NaN</td>\n",
       "      <td>NaN</td>\n",
       "    </tr>\n",
       "    <tr>\n",
       "      <th>2000-01-02</th>\n",
       "      <td>-0.758367</td>\n",
       "      <td>NaN</td>\n",
       "      <td>-0.436352</td>\n",
       "      <td>NaN</td>\n",
       "    </tr>\n",
       "    <tr>\n",
       "      <th>2000-01-03</th>\n",
       "      <td>NaN</td>\n",
       "      <td>NaN</td>\n",
       "      <td>NaN</td>\n",
       "      <td>NaN</td>\n",
       "    </tr>\n",
       "    <tr>\n",
       "      <th>2000-01-04</th>\n",
       "      <td>NaN</td>\n",
       "      <td>-1.413628</td>\n",
       "      <td>-0.626850</td>\n",
       "      <td>-0.164129</td>\n",
       "    </tr>\n",
       "    <tr>\n",
       "      <th>2000-01-05</th>\n",
       "      <td>-1.328423</td>\n",
       "      <td>-1.351002</td>\n",
       "      <td>-0.926571</td>\n",
       "      <td>-0.735808</td>\n",
       "    </tr>\n",
       "    <tr>\n",
       "      <th>2000-01-06</th>\n",
       "      <td>NaN</td>\n",
       "      <td>NaN</td>\n",
       "      <td>-0.186022</td>\n",
       "      <td>-0.173167</td>\n",
       "    </tr>\n",
       "    <tr>\n",
       "      <th>2000-01-07</th>\n",
       "      <td>NaN</td>\n",
       "      <td>-1.120089</td>\n",
       "      <td>NaN</td>\n",
       "      <td>NaN</td>\n",
       "    </tr>\n",
       "    <tr>\n",
       "      <th>2000-01-08</th>\n",
       "      <td>-1.836319</td>\n",
       "      <td>NaN</td>\n",
       "      <td>NaN</td>\n",
       "      <td>-0.478778</td>\n",
       "    </tr>\n",
       "  </tbody>\n",
       "</table>\n",
       "</div>"
      ],
      "text/plain": [
       "                   A         B         C         D\n",
       "2000-01-01       NaN -0.165075       NaN       NaN\n",
       "2000-01-02 -0.758367       NaN -0.436352       NaN\n",
       "2000-01-03       NaN       NaN       NaN       NaN\n",
       "2000-01-04       NaN -1.413628 -0.626850 -0.164129\n",
       "2000-01-05 -1.328423 -1.351002 -0.926571 -0.735808\n",
       "2000-01-06       NaN       NaN -0.186022 -0.173167\n",
       "2000-01-07       NaN -1.120089       NaN       NaN\n",
       "2000-01-08 -1.836319       NaN       NaN -0.478778"
      ]
     },
     "execution_count": 202,
     "metadata": {},
     "output_type": "execute_result"
    }
   ],
   "source": [
    "df.mask(df >= 0)"
   ]
  },
  {
   "cell_type": "markdown",
   "id": "48e5f0e0",
   "metadata": {
    "papermill": {
     "duration": 0.110728,
     "end_time": "2022-09-29T06:59:22.096170",
     "exception": false,
     "start_time": "2022-09-29T06:59:21.985442",
     "status": "completed"
    },
    "tags": []
   },
   "source": [
    "## The query() Method:\n",
    "- DataFrame objects have a query() method that allows selection using an expression.\n",
    "\n",
    "- You can get the value of the frame where column b has values between the values of columns a and c. For example:"
   ]
  },
  {
   "cell_type": "code",
   "execution_count": 203,
   "id": "eaedb46d",
   "metadata": {
    "execution": {
     "iopub.execute_input": "2022-09-29T06:59:22.283851Z",
     "iopub.status.busy": "2022-09-29T06:59:22.282555Z",
     "iopub.status.idle": "2022-09-29T06:59:22.298151Z",
     "shell.execute_reply": "2022-09-29T06:59:22.296742Z"
    },
    "papermill": {
     "duration": 0.111982,
     "end_time": "2022-09-29T06:59:22.300964",
     "exception": false,
     "start_time": "2022-09-29T06:59:22.188982",
     "status": "completed"
    },
    "tags": []
   },
   "outputs": [
    {
     "data": {
      "text/html": [
       "<div>\n",
       "<style scoped>\n",
       "    .dataframe tbody tr th:only-of-type {\n",
       "        vertical-align: middle;\n",
       "    }\n",
       "\n",
       "    .dataframe tbody tr th {\n",
       "        vertical-align: top;\n",
       "    }\n",
       "\n",
       "    .dataframe thead th {\n",
       "        text-align: right;\n",
       "    }\n",
       "</style>\n",
       "<table border=\"1\" class=\"dataframe\">\n",
       "  <thead>\n",
       "    <tr style=\"text-align: right;\">\n",
       "      <th></th>\n",
       "      <th>a</th>\n",
       "      <th>b</th>\n",
       "      <th>c</th>\n",
       "    </tr>\n",
       "  </thead>\n",
       "  <tbody>\n",
       "    <tr>\n",
       "      <th>0</th>\n",
       "      <td>0.654095</td>\n",
       "      <td>0.347707</td>\n",
       "      <td>0.489190</td>\n",
       "    </tr>\n",
       "    <tr>\n",
       "      <th>1</th>\n",
       "      <td>0.199971</td>\n",
       "      <td>0.462731</td>\n",
       "      <td>0.701336</td>\n",
       "    </tr>\n",
       "    <tr>\n",
       "      <th>2</th>\n",
       "      <td>0.483693</td>\n",
       "      <td>0.502888</td>\n",
       "      <td>0.223893</td>\n",
       "    </tr>\n",
       "    <tr>\n",
       "      <th>3</th>\n",
       "      <td>0.100321</td>\n",
       "      <td>0.710113</td>\n",
       "      <td>0.000025</td>\n",
       "    </tr>\n",
       "    <tr>\n",
       "      <th>4</th>\n",
       "      <td>0.028933</td>\n",
       "      <td>0.353686</td>\n",
       "      <td>0.682225</td>\n",
       "    </tr>\n",
       "    <tr>\n",
       "      <th>5</th>\n",
       "      <td>0.626201</td>\n",
       "      <td>0.076960</td>\n",
       "      <td>0.422286</td>\n",
       "    </tr>\n",
       "    <tr>\n",
       "      <th>6</th>\n",
       "      <td>0.174212</td>\n",
       "      <td>0.405489</td>\n",
       "      <td>0.720259</td>\n",
       "    </tr>\n",
       "    <tr>\n",
       "      <th>7</th>\n",
       "      <td>0.946898</td>\n",
       "      <td>0.654188</td>\n",
       "      <td>0.251838</td>\n",
       "    </tr>\n",
       "    <tr>\n",
       "      <th>8</th>\n",
       "      <td>0.860964</td>\n",
       "      <td>0.000470</td>\n",
       "      <td>0.726814</td>\n",
       "    </tr>\n",
       "    <tr>\n",
       "      <th>9</th>\n",
       "      <td>0.996553</td>\n",
       "      <td>0.537322</td>\n",
       "      <td>0.068728</td>\n",
       "    </tr>\n",
       "  </tbody>\n",
       "</table>\n",
       "</div>"
      ],
      "text/plain": [
       "          a         b         c\n",
       "0  0.654095  0.347707  0.489190\n",
       "1  0.199971  0.462731  0.701336\n",
       "2  0.483693  0.502888  0.223893\n",
       "3  0.100321  0.710113  0.000025\n",
       "4  0.028933  0.353686  0.682225\n",
       "5  0.626201  0.076960  0.422286\n",
       "6  0.174212  0.405489  0.720259\n",
       "7  0.946898  0.654188  0.251838\n",
       "8  0.860964  0.000470  0.726814\n",
       "9  0.996553  0.537322  0.068728"
      ]
     },
     "execution_count": 203,
     "metadata": {},
     "output_type": "execute_result"
    }
   ],
   "source": [
    "n=10\n",
    "df = pd.DataFrame(np.random.rand(n, 3), columns=list('abc'))\n",
    "df"
   ]
  },
  {
   "cell_type": "code",
   "execution_count": 204,
   "id": "acfa63da",
   "metadata": {
    "execution": {
     "iopub.execute_input": "2022-09-29T06:59:22.486676Z",
     "iopub.status.busy": "2022-09-29T06:59:22.486204Z",
     "iopub.status.idle": "2022-09-29T06:59:22.502881Z",
     "shell.execute_reply": "2022-09-29T06:59:22.501558Z"
    },
    "papermill": {
     "duration": 0.112649,
     "end_time": "2022-09-29T06:59:22.505351",
     "exception": false,
     "start_time": "2022-09-29T06:59:22.392702",
     "status": "completed"
    },
    "tags": []
   },
   "outputs": [
    {
     "data": {
      "text/html": [
       "<div>\n",
       "<style scoped>\n",
       "    .dataframe tbody tr th:only-of-type {\n",
       "        vertical-align: middle;\n",
       "    }\n",
       "\n",
       "    .dataframe tbody tr th {\n",
       "        vertical-align: top;\n",
       "    }\n",
       "\n",
       "    .dataframe thead th {\n",
       "        text-align: right;\n",
       "    }\n",
       "</style>\n",
       "<table border=\"1\" class=\"dataframe\">\n",
       "  <thead>\n",
       "    <tr style=\"text-align: right;\">\n",
       "      <th></th>\n",
       "      <th>a</th>\n",
       "      <th>b</th>\n",
       "      <th>c</th>\n",
       "    </tr>\n",
       "  </thead>\n",
       "  <tbody>\n",
       "    <tr>\n",
       "      <th>1</th>\n",
       "      <td>0.199971</td>\n",
       "      <td>0.462731</td>\n",
       "      <td>0.701336</td>\n",
       "    </tr>\n",
       "    <tr>\n",
       "      <th>4</th>\n",
       "      <td>0.028933</td>\n",
       "      <td>0.353686</td>\n",
       "      <td>0.682225</td>\n",
       "    </tr>\n",
       "    <tr>\n",
       "      <th>6</th>\n",
       "      <td>0.174212</td>\n",
       "      <td>0.405489</td>\n",
       "      <td>0.720259</td>\n",
       "    </tr>\n",
       "  </tbody>\n",
       "</table>\n",
       "</div>"
      ],
      "text/plain": [
       "          a         b         c\n",
       "1  0.199971  0.462731  0.701336\n",
       "4  0.028933  0.353686  0.682225\n",
       "6  0.174212  0.405489  0.720259"
      ]
     },
     "execution_count": 204,
     "metadata": {},
     "output_type": "execute_result"
    }
   ],
   "source": [
    "df[(df['a'] < df['b']) & (df['b'] < df['c'])]      #Pure Python "
   ]
  },
  {
   "cell_type": "code",
   "execution_count": 205,
   "id": "4f568145",
   "metadata": {
    "execution": {
     "iopub.execute_input": "2022-09-29T06:59:22.690055Z",
     "iopub.status.busy": "2022-09-29T06:59:22.689626Z",
     "iopub.status.idle": "2022-09-29T06:59:22.706875Z",
     "shell.execute_reply": "2022-09-29T06:59:22.705697Z"
    },
    "papermill": {
     "duration": 0.111682,
     "end_time": "2022-09-29T06:59:22.709553",
     "exception": false,
     "start_time": "2022-09-29T06:59:22.597871",
     "status": "completed"
    },
    "tags": []
   },
   "outputs": [
    {
     "data": {
      "text/html": [
       "<div>\n",
       "<style scoped>\n",
       "    .dataframe tbody tr th:only-of-type {\n",
       "        vertical-align: middle;\n",
       "    }\n",
       "\n",
       "    .dataframe tbody tr th {\n",
       "        vertical-align: top;\n",
       "    }\n",
       "\n",
       "    .dataframe thead th {\n",
       "        text-align: right;\n",
       "    }\n",
       "</style>\n",
       "<table border=\"1\" class=\"dataframe\">\n",
       "  <thead>\n",
       "    <tr style=\"text-align: right;\">\n",
       "      <th></th>\n",
       "      <th>a</th>\n",
       "      <th>b</th>\n",
       "      <th>c</th>\n",
       "    </tr>\n",
       "  </thead>\n",
       "  <tbody>\n",
       "    <tr>\n",
       "      <th>1</th>\n",
       "      <td>0.199971</td>\n",
       "      <td>0.462731</td>\n",
       "      <td>0.701336</td>\n",
       "    </tr>\n",
       "    <tr>\n",
       "      <th>4</th>\n",
       "      <td>0.028933</td>\n",
       "      <td>0.353686</td>\n",
       "      <td>0.682225</td>\n",
       "    </tr>\n",
       "    <tr>\n",
       "      <th>6</th>\n",
       "      <td>0.174212</td>\n",
       "      <td>0.405489</td>\n",
       "      <td>0.720259</td>\n",
       "    </tr>\n",
       "  </tbody>\n",
       "</table>\n",
       "</div>"
      ],
      "text/plain": [
       "          a         b         c\n",
       "1  0.199971  0.462731  0.701336\n",
       "4  0.028933  0.353686  0.682225\n",
       "6  0.174212  0.405489  0.720259"
      ]
     },
     "execution_count": 205,
     "metadata": {},
     "output_type": "execute_result"
    }
   ],
   "source": [
    "df.query('(a < b) & (b < c)')          #QUERY"
   ]
  },
  {
   "cell_type": "markdown",
   "id": "300c939f",
   "metadata": {
    "papermill": {
     "duration": 0.091719,
     "end_time": "2022-09-29T06:59:22.892078",
     "exception": false,
     "start_time": "2022-09-29T06:59:22.800359",
     "status": "completed"
    },
    "tags": []
   },
   "source": [
    "> Do the same thing but fall back on a named index if there is no column with the name a."
   ]
  },
  {
   "cell_type": "code",
   "execution_count": 206,
   "id": "801765aa",
   "metadata": {
    "execution": {
     "iopub.execute_input": "2022-09-29T06:59:23.076497Z",
     "iopub.status.busy": "2022-09-29T06:59:23.076047Z",
     "iopub.status.idle": "2022-09-29T06:59:23.088494Z",
     "shell.execute_reply": "2022-09-29T06:59:23.087249Z"
    },
    "papermill": {
     "duration": 0.107497,
     "end_time": "2022-09-29T06:59:23.091121",
     "exception": false,
     "start_time": "2022-09-29T06:59:22.983624",
     "status": "completed"
    },
    "tags": []
   },
   "outputs": [
    {
     "data": {
      "text/html": [
       "<div>\n",
       "<style scoped>\n",
       "    .dataframe tbody tr th:only-of-type {\n",
       "        vertical-align: middle;\n",
       "    }\n",
       "\n",
       "    .dataframe tbody tr th {\n",
       "        vertical-align: top;\n",
       "    }\n",
       "\n",
       "    .dataframe thead th {\n",
       "        text-align: right;\n",
       "    }\n",
       "</style>\n",
       "<table border=\"1\" class=\"dataframe\">\n",
       "  <thead>\n",
       "    <tr style=\"text-align: right;\">\n",
       "      <th></th>\n",
       "      <th>b</th>\n",
       "      <th>c</th>\n",
       "    </tr>\n",
       "    <tr>\n",
       "      <th>a</th>\n",
       "      <th></th>\n",
       "      <th></th>\n",
       "    </tr>\n",
       "  </thead>\n",
       "  <tbody>\n",
       "    <tr>\n",
       "      <th>0</th>\n",
       "      <td>1</td>\n",
       "      <td>2</td>\n",
       "    </tr>\n",
       "    <tr>\n",
       "      <th>1</th>\n",
       "      <td>3</td>\n",
       "      <td>0</td>\n",
       "    </tr>\n",
       "    <tr>\n",
       "      <th>2</th>\n",
       "      <td>1</td>\n",
       "      <td>0</td>\n",
       "    </tr>\n",
       "    <tr>\n",
       "      <th>3</th>\n",
       "      <td>1</td>\n",
       "      <td>0</td>\n",
       "    </tr>\n",
       "    <tr>\n",
       "      <th>4</th>\n",
       "      <td>2</td>\n",
       "      <td>1</td>\n",
       "    </tr>\n",
       "    <tr>\n",
       "      <th>5</th>\n",
       "      <td>1</td>\n",
       "      <td>2</td>\n",
       "    </tr>\n",
       "    <tr>\n",
       "      <th>6</th>\n",
       "      <td>4</td>\n",
       "      <td>4</td>\n",
       "    </tr>\n",
       "    <tr>\n",
       "      <th>7</th>\n",
       "      <td>3</td>\n",
       "      <td>3</td>\n",
       "    </tr>\n",
       "    <tr>\n",
       "      <th>8</th>\n",
       "      <td>1</td>\n",
       "      <td>0</td>\n",
       "    </tr>\n",
       "    <tr>\n",
       "      <th>9</th>\n",
       "      <td>1</td>\n",
       "      <td>2</td>\n",
       "    </tr>\n",
       "  </tbody>\n",
       "</table>\n",
       "</div>"
      ],
      "text/plain": [
       "   b  c\n",
       "a      \n",
       "0  1  2\n",
       "1  3  0\n",
       "2  1  0\n",
       "3  1  0\n",
       "4  2  1\n",
       "5  1  2\n",
       "6  4  4\n",
       "7  3  3\n",
       "8  1  0\n",
       "9  1  2"
      ]
     },
     "execution_count": 206,
     "metadata": {},
     "output_type": "execute_result"
    }
   ],
   "source": [
    "df = pd.DataFrame(np.random.randint(n / 2, size=(n, 2)), columns=list('bc'))\n",
    "df.index.name = 'a'\n",
    "df"
   ]
  },
  {
   "cell_type": "code",
   "execution_count": 207,
   "id": "16340d53",
   "metadata": {
    "execution": {
     "iopub.execute_input": "2022-09-29T06:59:23.271349Z",
     "iopub.status.busy": "2022-09-29T06:59:23.270085Z",
     "iopub.status.idle": "2022-09-29T06:59:23.285257Z",
     "shell.execute_reply": "2022-09-29T06:59:23.284070Z"
    },
    "papermill": {
     "duration": 0.110309,
     "end_time": "2022-09-29T06:59:23.288084",
     "exception": false,
     "start_time": "2022-09-29T06:59:23.177775",
     "status": "completed"
    },
    "tags": []
   },
   "outputs": [
    {
     "data": {
      "text/html": [
       "<div>\n",
       "<style scoped>\n",
       "    .dataframe tbody tr th:only-of-type {\n",
       "        vertical-align: middle;\n",
       "    }\n",
       "\n",
       "    .dataframe tbody tr th {\n",
       "        vertical-align: top;\n",
       "    }\n",
       "\n",
       "    .dataframe thead th {\n",
       "        text-align: right;\n",
       "    }\n",
       "</style>\n",
       "<table border=\"1\" class=\"dataframe\">\n",
       "  <thead>\n",
       "    <tr style=\"text-align: right;\">\n",
       "      <th></th>\n",
       "      <th>b</th>\n",
       "      <th>c</th>\n",
       "    </tr>\n",
       "    <tr>\n",
       "      <th>a</th>\n",
       "      <th></th>\n",
       "      <th></th>\n",
       "    </tr>\n",
       "  </thead>\n",
       "  <tbody>\n",
       "    <tr>\n",
       "      <th>0</th>\n",
       "      <td>1</td>\n",
       "      <td>2</td>\n",
       "    </tr>\n",
       "  </tbody>\n",
       "</table>\n",
       "</div>"
      ],
      "text/plain": [
       "   b  c\n",
       "a      \n",
       "0  1  2"
      ]
     },
     "execution_count": 207,
     "metadata": {},
     "output_type": "execute_result"
    }
   ],
   "source": [
    "df.query('a < b and b < c')"
   ]
  },
  {
   "cell_type": "markdown",
   "id": "4fcf0911",
   "metadata": {
    "papermill": {
     "duration": 0.091278,
     "end_time": "2022-09-29T06:59:23.469644",
     "exception": false,
     "start_time": "2022-09-29T06:59:23.378366",
     "status": "completed"
    },
    "tags": []
   },
   "source": [
    "If instead you don’t want to or cannot name your index, you can use the name index in your query expression:"
   ]
  },
  {
   "cell_type": "code",
   "execution_count": 208,
   "id": "2a949177",
   "metadata": {
    "execution": {
     "iopub.execute_input": "2022-09-29T06:59:23.651178Z",
     "iopub.status.busy": "2022-09-29T06:59:23.649765Z",
     "iopub.status.idle": "2022-09-29T06:59:23.663154Z",
     "shell.execute_reply": "2022-09-29T06:59:23.661748Z"
    },
    "papermill": {
     "duration": 0.107222,
     "end_time": "2022-09-29T06:59:23.665844",
     "exception": false,
     "start_time": "2022-09-29T06:59:23.558622",
     "status": "completed"
    },
    "tags": []
   },
   "outputs": [
    {
     "data": {
      "text/html": [
       "<div>\n",
       "<style scoped>\n",
       "    .dataframe tbody tr th:only-of-type {\n",
       "        vertical-align: middle;\n",
       "    }\n",
       "\n",
       "    .dataframe tbody tr th {\n",
       "        vertical-align: top;\n",
       "    }\n",
       "\n",
       "    .dataframe thead th {\n",
       "        text-align: right;\n",
       "    }\n",
       "</style>\n",
       "<table border=\"1\" class=\"dataframe\">\n",
       "  <thead>\n",
       "    <tr style=\"text-align: right;\">\n",
       "      <th></th>\n",
       "      <th>b</th>\n",
       "      <th>c</th>\n",
       "    </tr>\n",
       "  </thead>\n",
       "  <tbody>\n",
       "    <tr>\n",
       "      <th>0</th>\n",
       "      <td>3</td>\n",
       "      <td>0</td>\n",
       "    </tr>\n",
       "    <tr>\n",
       "      <th>1</th>\n",
       "      <td>3</td>\n",
       "      <td>5</td>\n",
       "    </tr>\n",
       "    <tr>\n",
       "      <th>2</th>\n",
       "      <td>7</td>\n",
       "      <td>8</td>\n",
       "    </tr>\n",
       "    <tr>\n",
       "      <th>3</th>\n",
       "      <td>9</td>\n",
       "      <td>4</td>\n",
       "    </tr>\n",
       "    <tr>\n",
       "      <th>4</th>\n",
       "      <td>7</td>\n",
       "      <td>8</td>\n",
       "    </tr>\n",
       "    <tr>\n",
       "      <th>5</th>\n",
       "      <td>9</td>\n",
       "      <td>4</td>\n",
       "    </tr>\n",
       "    <tr>\n",
       "      <th>6</th>\n",
       "      <td>2</td>\n",
       "      <td>5</td>\n",
       "    </tr>\n",
       "    <tr>\n",
       "      <th>7</th>\n",
       "      <td>0</td>\n",
       "      <td>0</td>\n",
       "    </tr>\n",
       "    <tr>\n",
       "      <th>8</th>\n",
       "      <td>1</td>\n",
       "      <td>9</td>\n",
       "    </tr>\n",
       "    <tr>\n",
       "      <th>9</th>\n",
       "      <td>2</td>\n",
       "      <td>3</td>\n",
       "    </tr>\n",
       "  </tbody>\n",
       "</table>\n",
       "</div>"
      ],
      "text/plain": [
       "   b  c\n",
       "0  3  0\n",
       "1  3  5\n",
       "2  7  8\n",
       "3  9  4\n",
       "4  7  8\n",
       "5  9  4\n",
       "6  2  5\n",
       "7  0  0\n",
       "8  1  9\n",
       "9  2  3"
      ]
     },
     "execution_count": 208,
     "metadata": {},
     "output_type": "execute_result"
    }
   ],
   "source": [
    "\n",
    "df = pd.DataFrame(np.random.randint(n, size=(n, 2)), columns=list('bc'))\n",
    "df"
   ]
  },
  {
   "cell_type": "code",
   "execution_count": 209,
   "id": "4ce3ed55",
   "metadata": {
    "execution": {
     "iopub.execute_input": "2022-09-29T06:59:23.846305Z",
     "iopub.status.busy": "2022-09-29T06:59:23.845904Z",
     "iopub.status.idle": "2022-09-29T06:59:23.861386Z",
     "shell.execute_reply": "2022-09-29T06:59:23.860030Z"
    },
    "papermill": {
     "duration": 0.107511,
     "end_time": "2022-09-29T06:59:23.864230",
     "exception": false,
     "start_time": "2022-09-29T06:59:23.756719",
     "status": "completed"
    },
    "tags": []
   },
   "outputs": [
    {
     "data": {
      "text/html": [
       "<div>\n",
       "<style scoped>\n",
       "    .dataframe tbody tr th:only-of-type {\n",
       "        vertical-align: middle;\n",
       "    }\n",
       "\n",
       "    .dataframe tbody tr th {\n",
       "        vertical-align: top;\n",
       "    }\n",
       "\n",
       "    .dataframe thead th {\n",
       "        text-align: right;\n",
       "    }\n",
       "</style>\n",
       "<table border=\"1\" class=\"dataframe\">\n",
       "  <thead>\n",
       "    <tr style=\"text-align: right;\">\n",
       "      <th></th>\n",
       "      <th>b</th>\n",
       "      <th>c</th>\n",
       "    </tr>\n",
       "  </thead>\n",
       "  <tbody>\n",
       "    <tr>\n",
       "      <th>1</th>\n",
       "      <td>3</td>\n",
       "      <td>5</td>\n",
       "    </tr>\n",
       "    <tr>\n",
       "      <th>2</th>\n",
       "      <td>7</td>\n",
       "      <td>8</td>\n",
       "    </tr>\n",
       "    <tr>\n",
       "      <th>4</th>\n",
       "      <td>7</td>\n",
       "      <td>8</td>\n",
       "    </tr>\n",
       "  </tbody>\n",
       "</table>\n",
       "</div>"
      ],
      "text/plain": [
       "   b  c\n",
       "1  3  5\n",
       "2  7  8\n",
       "4  7  8"
      ]
     },
     "execution_count": 209,
     "metadata": {},
     "output_type": "execute_result"
    }
   ],
   "source": [
    "df.query('index < b < c')"
   ]
  },
  {
   "cell_type": "markdown",
   "id": "4b4a0247",
   "metadata": {
    "papermill": {
     "duration": 0.087538,
     "end_time": "2022-09-29T06:59:24.040547",
     "exception": false,
     "start_time": "2022-09-29T06:59:23.953009",
     "status": "completed"
    },
    "tags": []
   },
   "source": [
    "> > ## ✍️ Note:\n",
    "If the name of your index overlaps with a column name, the column name is given precedence. For example,"
   ]
  },
  {
   "cell_type": "code",
   "execution_count": 210,
   "id": "14004dc1",
   "metadata": {
    "execution": {
     "iopub.execute_input": "2022-09-29T06:59:24.433749Z",
     "iopub.status.busy": "2022-09-29T06:59:24.433019Z",
     "iopub.status.idle": "2022-09-29T06:59:24.459164Z",
     "shell.execute_reply": "2022-09-29T06:59:24.457824Z"
    },
    "papermill": {
     "duration": 0.219086,
     "end_time": "2022-09-29T06:59:24.462844",
     "exception": false,
     "start_time": "2022-09-29T06:59:24.243758",
     "status": "completed"
    },
    "tags": []
   },
   "outputs": [
    {
     "data": {
      "text/html": [
       "<div>\n",
       "<style scoped>\n",
       "    .dataframe tbody tr th:only-of-type {\n",
       "        vertical-align: middle;\n",
       "    }\n",
       "\n",
       "    .dataframe tbody tr th {\n",
       "        vertical-align: top;\n",
       "    }\n",
       "\n",
       "    .dataframe thead th {\n",
       "        text-align: right;\n",
       "    }\n",
       "</style>\n",
       "<table border=\"1\" class=\"dataframe\">\n",
       "  <thead>\n",
       "    <tr style=\"text-align: right;\">\n",
       "      <th></th>\n",
       "      <th>a</th>\n",
       "    </tr>\n",
       "    <tr>\n",
       "      <th>a</th>\n",
       "      <th></th>\n",
       "    </tr>\n",
       "  </thead>\n",
       "  <tbody>\n",
       "    <tr>\n",
       "      <th>2</th>\n",
       "      <td>4</td>\n",
       "    </tr>\n",
       "    <tr>\n",
       "      <th>4</th>\n",
       "      <td>4</td>\n",
       "    </tr>\n",
       "  </tbody>\n",
       "</table>\n",
       "</div>"
      ],
      "text/plain": [
       "   a\n",
       "a   \n",
       "2  4\n",
       "4  4"
      ]
     },
     "execution_count": 210,
     "metadata": {},
     "output_type": "execute_result"
    }
   ],
   "source": [
    "df = pd.DataFrame({'a': np.random.randint(5, size=5)})\n",
    "df.index.name = 'a'\n",
    "df.query('a > 2')  # uses the column 'a', not the index"
   ]
  },
  {
   "cell_type": "code",
   "execution_count": 211,
   "id": "f0ae130f",
   "metadata": {
    "execution": {
     "iopub.execute_input": "2022-09-29T06:59:24.782020Z",
     "iopub.status.busy": "2022-09-29T06:59:24.781449Z",
     "iopub.status.idle": "2022-09-29T06:59:24.800197Z",
     "shell.execute_reply": "2022-09-29T06:59:24.799004Z"
    },
    "papermill": {
     "duration": 0.177025,
     "end_time": "2022-09-29T06:59:24.803751",
     "exception": false,
     "start_time": "2022-09-29T06:59:24.626726",
     "status": "completed"
    },
    "tags": []
   },
   "outputs": [
    {
     "data": {
      "text/html": [
       "<div>\n",
       "<style scoped>\n",
       "    .dataframe tbody tr th:only-of-type {\n",
       "        vertical-align: middle;\n",
       "    }\n",
       "\n",
       "    .dataframe tbody tr th {\n",
       "        vertical-align: top;\n",
       "    }\n",
       "\n",
       "    .dataframe thead th {\n",
       "        text-align: right;\n",
       "    }\n",
       "</style>\n",
       "<table border=\"1\" class=\"dataframe\">\n",
       "  <thead>\n",
       "    <tr style=\"text-align: right;\">\n",
       "      <th></th>\n",
       "      <th>a</th>\n",
       "    </tr>\n",
       "    <tr>\n",
       "      <th>a</th>\n",
       "      <th></th>\n",
       "    </tr>\n",
       "  </thead>\n",
       "  <tbody>\n",
       "    <tr>\n",
       "      <th>3</th>\n",
       "      <td>0</td>\n",
       "    </tr>\n",
       "    <tr>\n",
       "      <th>4</th>\n",
       "      <td>4</td>\n",
       "    </tr>\n",
       "  </tbody>\n",
       "</table>\n",
       "</div>"
      ],
      "text/plain": [
       "   a\n",
       "a   \n",
       "3  0\n",
       "4  4"
      ]
     },
     "execution_count": 211,
     "metadata": {},
     "output_type": "execute_result"
    }
   ],
   "source": [
    "#You can still use the index in a query expression by using the special identifier ‘index’:\n",
    "\"\"\"If for some reason you have a column named index, then you can refer to the \n",
    "index as ilevel_0 as well, but at this point you should consider renaming your columns to something less ambiguous.\"\"\"\n",
    "df.query('index > 2')\n",
    "\n"
   ]
  },
  {
   "cell_type": "markdown",
   "id": "d7746bab",
   "metadata": {
    "papermill": {
     "duration": 0.137832,
     "end_time": "2022-09-29T06:59:25.116852",
     "exception": false,
     "start_time": "2022-09-29T06:59:24.979020",
     "status": "completed"
    },
    "tags": []
   },
   "source": [
    ">  ## ✍️ Note: \n",
    "> #### Please Refer Document mention on Pandas\n",
    "   > - https://pandas.pydata.org/docs/user_guide/indexing.html#multiindex-query-syntax"
   ]
  },
  {
   "cell_type": "code",
   "execution_count": 212,
   "id": "437d248c",
   "metadata": {
    "execution": {
     "iopub.execute_input": "2022-09-29T06:59:25.318373Z",
     "iopub.status.busy": "2022-09-29T06:59:25.317991Z",
     "iopub.status.idle": "2022-09-29T06:59:25.342032Z",
     "shell.execute_reply": "2022-09-29T06:59:25.340627Z"
    },
    "papermill": {
     "duration": 0.126028,
     "end_time": "2022-09-29T06:59:25.344984",
     "exception": false,
     "start_time": "2022-09-29T06:59:25.218956",
     "status": "completed"
    },
    "tags": []
   },
   "outputs": [
    {
     "data": {
      "text/html": [
       "<div>\n",
       "<style scoped>\n",
       "    .dataframe tbody tr th:only-of-type {\n",
       "        vertical-align: middle;\n",
       "    }\n",
       "\n",
       "    .dataframe tbody tr th {\n",
       "        vertical-align: top;\n",
       "    }\n",
       "\n",
       "    .dataframe thead th {\n",
       "        text-align: right;\n",
       "    }\n",
       "</style>\n",
       "<table border=\"1\" class=\"dataframe\">\n",
       "  <thead>\n",
       "    <tr style=\"text-align: right;\">\n",
       "      <th></th>\n",
       "      <th>Date</th>\n",
       "      <th>Day</th>\n",
       "      <th>Month</th>\n",
       "      <th>Year</th>\n",
       "      <th>Customer_Age</th>\n",
       "      <th>Age_Group</th>\n",
       "      <th>Customer_Gender</th>\n",
       "      <th>Country</th>\n",
       "    </tr>\n",
       "  </thead>\n",
       "  <tbody>\n",
       "    <tr>\n",
       "      <th>0</th>\n",
       "      <td>2013-11-26</td>\n",
       "      <td>26</td>\n",
       "      <td>November</td>\n",
       "      <td>2013</td>\n",
       "      <td>19</td>\n",
       "      <td>Youth (&lt;25)</td>\n",
       "      <td>M</td>\n",
       "      <td>Canada</td>\n",
       "    </tr>\n",
       "    <tr>\n",
       "      <th>1</th>\n",
       "      <td>2015-11-26</td>\n",
       "      <td>26</td>\n",
       "      <td>November</td>\n",
       "      <td>2015</td>\n",
       "      <td>19</td>\n",
       "      <td>Youth (&lt;25)</td>\n",
       "      <td>M</td>\n",
       "      <td>Canada</td>\n",
       "    </tr>\n",
       "    <tr>\n",
       "      <th>2</th>\n",
       "      <td>2014-03-23</td>\n",
       "      <td>23</td>\n",
       "      <td>March</td>\n",
       "      <td>2014</td>\n",
       "      <td>49</td>\n",
       "      <td>Adults (35-64)</td>\n",
       "      <td>M</td>\n",
       "      <td>Australia</td>\n",
       "    </tr>\n",
       "    <tr>\n",
       "      <th>3</th>\n",
       "      <td>2016-03-23</td>\n",
       "      <td>23</td>\n",
       "      <td>March</td>\n",
       "      <td>2016</td>\n",
       "      <td>49</td>\n",
       "      <td>Adults (35-64)</td>\n",
       "      <td>M</td>\n",
       "      <td>Australia</td>\n",
       "    </tr>\n",
       "    <tr>\n",
       "      <th>4</th>\n",
       "      <td>2014-05-15</td>\n",
       "      <td>15</td>\n",
       "      <td>May</td>\n",
       "      <td>2014</td>\n",
       "      <td>47</td>\n",
       "      <td>Adults (35-64)</td>\n",
       "      <td>F</td>\n",
       "      <td>Australia</td>\n",
       "    </tr>\n",
       "    <tr>\n",
       "      <th>5</th>\n",
       "      <td>2016-05-15</td>\n",
       "      <td>15</td>\n",
       "      <td>May</td>\n",
       "      <td>2016</td>\n",
       "      <td>47</td>\n",
       "      <td>Adults (35-64)</td>\n",
       "      <td>F</td>\n",
       "      <td>Australia</td>\n",
       "    </tr>\n",
       "    <tr>\n",
       "      <th>6</th>\n",
       "      <td>2014-05-22</td>\n",
       "      <td>22</td>\n",
       "      <td>May</td>\n",
       "      <td>2014</td>\n",
       "      <td>47</td>\n",
       "      <td>Adults (35-64)</td>\n",
       "      <td>F</td>\n",
       "      <td>Australia</td>\n",
       "    </tr>\n",
       "    <tr>\n",
       "      <th>7</th>\n",
       "      <td>2016-05-22</td>\n",
       "      <td>22</td>\n",
       "      <td>May</td>\n",
       "      <td>2016</td>\n",
       "      <td>47</td>\n",
       "      <td>Adults (35-64)</td>\n",
       "      <td>F</td>\n",
       "      <td>Australia</td>\n",
       "    </tr>\n",
       "    <tr>\n",
       "      <th>8</th>\n",
       "      <td>2014-02-22</td>\n",
       "      <td>22</td>\n",
       "      <td>February</td>\n",
       "      <td>2014</td>\n",
       "      <td>35</td>\n",
       "      <td>Adults (35-64)</td>\n",
       "      <td>M</td>\n",
       "      <td>Australia</td>\n",
       "    </tr>\n",
       "    <tr>\n",
       "      <th>9</th>\n",
       "      <td>2016-02-22</td>\n",
       "      <td>22</td>\n",
       "      <td>February</td>\n",
       "      <td>2016</td>\n",
       "      <td>35</td>\n",
       "      <td>Adults (35-64)</td>\n",
       "      <td>M</td>\n",
       "      <td>Australia</td>\n",
       "    </tr>\n",
       "  </tbody>\n",
       "</table>\n",
       "</div>"
      ],
      "text/plain": [
       "         Date  Day     Month  Year  Customer_Age       Age_Group  \\\n",
       "0  2013-11-26   26  November  2013            19     Youth (<25)   \n",
       "1  2015-11-26   26  November  2015            19     Youth (<25)   \n",
       "2  2014-03-23   23     March  2014            49  Adults (35-64)   \n",
       "3  2016-03-23   23     March  2016            49  Adults (35-64)   \n",
       "4  2014-05-15   15       May  2014            47  Adults (35-64)   \n",
       "5  2016-05-15   15       May  2016            47  Adults (35-64)   \n",
       "6  2014-05-22   22       May  2014            47  Adults (35-64)   \n",
       "7  2016-05-22   22       May  2016            47  Adults (35-64)   \n",
       "8  2014-02-22   22  February  2014            35  Adults (35-64)   \n",
       "9  2016-02-22   22  February  2016            35  Adults (35-64)   \n",
       "\n",
       "  Customer_Gender    Country  \n",
       "0               M     Canada  \n",
       "1               M     Canada  \n",
       "2               M  Australia  \n",
       "3               M  Australia  \n",
       "4               F  Australia  \n",
       "5               F  Australia  \n",
       "6               F  Australia  \n",
       "7               F  Australia  \n",
       "8               M  Australia  \n",
       "9               M  Australia  "
      ]
     },
     "execution_count": 212,
     "metadata": {},
     "output_type": "execute_result"
    }
   ],
   "source": [
    "#Giving rows and columns both \n",
    "df=pd.read_csv('/kaggle/input/sales-data-practise/sales_data.csv',nrows=100,usecols=[0,1,2,3,4,5,6,7])\n",
    "df.head(10)"
   ]
  },
  {
   "cell_type": "code",
   "execution_count": 213,
   "id": "341160fd",
   "metadata": {
    "execution": {
     "iopub.execute_input": "2022-09-29T06:59:25.540291Z",
     "iopub.status.busy": "2022-09-29T06:59:25.539211Z",
     "iopub.status.idle": "2022-09-29T06:59:25.805729Z",
     "shell.execute_reply": "2022-09-29T06:59:25.804384Z"
    },
    "papermill": {
     "duration": 0.365835,
     "end_time": "2022-09-29T06:59:25.808785",
     "exception": false,
     "start_time": "2022-09-29T06:59:25.442950",
     "status": "completed"
    },
    "tags": []
   },
   "outputs": [
    {
     "data": {
      "text/html": [
       "<div>\n",
       "<style scoped>\n",
       "    .dataframe tbody tr th:only-of-type {\n",
       "        vertical-align: middle;\n",
       "    }\n",
       "\n",
       "    .dataframe tbody tr th {\n",
       "        vertical-align: top;\n",
       "    }\n",
       "\n",
       "    .dataframe thead th {\n",
       "        text-align: right;\n",
       "    }\n",
       "</style>\n",
       "<table border=\"1\" class=\"dataframe\">\n",
       "  <thead>\n",
       "    <tr style=\"text-align: right;\">\n",
       "      <th></th>\n",
       "      <th>2014-05-15</th>\n",
       "      <th>15</th>\n",
       "      <th>May</th>\n",
       "      <th>2014</th>\n",
       "      <th>47</th>\n",
       "      <th>Adults (35-64)</th>\n",
       "      <th>F</th>\n",
       "      <th>Australia</th>\n",
       "      <th>New South Wales</th>\n",
       "      <th>Accessories</th>\n",
       "      <th>Bike Racks</th>\n",
       "      <th>Hitch Rack - 4-Bike</th>\n",
       "      <th>4</th>\n",
       "      <th>45</th>\n",
       "      <th>120</th>\n",
       "      <th>238</th>\n",
       "      <th>180</th>\n",
       "      <th>418</th>\n",
       "    </tr>\n",
       "  </thead>\n",
       "  <tbody>\n",
       "    <tr>\n",
       "      <th>0</th>\n",
       "      <td>2016-05-15</td>\n",
       "      <td>15</td>\n",
       "      <td>May</td>\n",
       "      <td>2016</td>\n",
       "      <td>47</td>\n",
       "      <td>Adults (35-64)</td>\n",
       "      <td>F</td>\n",
       "      <td>Australia</td>\n",
       "      <td>New South Wales</td>\n",
       "      <td>Accessories</td>\n",
       "      <td>Bike Racks</td>\n",
       "      <td>Hitch Rack - 4-Bike</td>\n",
       "      <td>5</td>\n",
       "      <td>45</td>\n",
       "      <td>120</td>\n",
       "      <td>297</td>\n",
       "      <td>225</td>\n",
       "      <td>522</td>\n",
       "    </tr>\n",
       "    <tr>\n",
       "      <th>1</th>\n",
       "      <td>2014-05-22</td>\n",
       "      <td>22</td>\n",
       "      <td>May</td>\n",
       "      <td>2014</td>\n",
       "      <td>47</td>\n",
       "      <td>Adults (35-64)</td>\n",
       "      <td>F</td>\n",
       "      <td>Australia</td>\n",
       "      <td>Victoria</td>\n",
       "      <td>Accessories</td>\n",
       "      <td>Bike Racks</td>\n",
       "      <td>Hitch Rack - 4-Bike</td>\n",
       "      <td>4</td>\n",
       "      <td>45</td>\n",
       "      <td>120</td>\n",
       "      <td>199</td>\n",
       "      <td>180</td>\n",
       "      <td>379</td>\n",
       "    </tr>\n",
       "    <tr>\n",
       "      <th>2</th>\n",
       "      <td>2016-05-22</td>\n",
       "      <td>22</td>\n",
       "      <td>May</td>\n",
       "      <td>2016</td>\n",
       "      <td>47</td>\n",
       "      <td>Adults (35-64)</td>\n",
       "      <td>F</td>\n",
       "      <td>Australia</td>\n",
       "      <td>Victoria</td>\n",
       "      <td>Accessories</td>\n",
       "      <td>Bike Racks</td>\n",
       "      <td>Hitch Rack - 4-Bike</td>\n",
       "      <td>2</td>\n",
       "      <td>45</td>\n",
       "      <td>120</td>\n",
       "      <td>100</td>\n",
       "      <td>90</td>\n",
       "      <td>190</td>\n",
       "    </tr>\n",
       "    <tr>\n",
       "      <th>3</th>\n",
       "      <td>2014-02-22</td>\n",
       "      <td>22</td>\n",
       "      <td>February</td>\n",
       "      <td>2014</td>\n",
       "      <td>35</td>\n",
       "      <td>Adults (35-64)</td>\n",
       "      <td>M</td>\n",
       "      <td>Australia</td>\n",
       "      <td>Victoria</td>\n",
       "      <td>Accessories</td>\n",
       "      <td>Bike Racks</td>\n",
       "      <td>Hitch Rack - 4-Bike</td>\n",
       "      <td>22</td>\n",
       "      <td>45</td>\n",
       "      <td>120</td>\n",
       "      <td>1096</td>\n",
       "      <td>990</td>\n",
       "      <td>2086</td>\n",
       "    </tr>\n",
       "    <tr>\n",
       "      <th>4</th>\n",
       "      <td>2016-02-22</td>\n",
       "      <td>22</td>\n",
       "      <td>February</td>\n",
       "      <td>2016</td>\n",
       "      <td>35</td>\n",
       "      <td>Adults (35-64)</td>\n",
       "      <td>M</td>\n",
       "      <td>Australia</td>\n",
       "      <td>Victoria</td>\n",
       "      <td>Accessories</td>\n",
       "      <td>Bike Racks</td>\n",
       "      <td>Hitch Rack - 4-Bike</td>\n",
       "      <td>21</td>\n",
       "      <td>45</td>\n",
       "      <td>120</td>\n",
       "      <td>1046</td>\n",
       "      <td>945</td>\n",
       "      <td>1991</td>\n",
       "    </tr>\n",
       "    <tr>\n",
       "      <th>...</th>\n",
       "      <td>...</td>\n",
       "      <td>...</td>\n",
       "      <td>...</td>\n",
       "      <td>...</td>\n",
       "      <td>...</td>\n",
       "      <td>...</td>\n",
       "      <td>...</td>\n",
       "      <td>...</td>\n",
       "      <td>...</td>\n",
       "      <td>...</td>\n",
       "      <td>...</td>\n",
       "      <td>...</td>\n",
       "      <td>...</td>\n",
       "      <td>...</td>\n",
       "      <td>...</td>\n",
       "      <td>...</td>\n",
       "      <td>...</td>\n",
       "      <td>...</td>\n",
       "    </tr>\n",
       "    <tr>\n",
       "      <th>113026</th>\n",
       "      <td>2016-04-12</td>\n",
       "      <td>12</td>\n",
       "      <td>April</td>\n",
       "      <td>2016</td>\n",
       "      <td>41</td>\n",
       "      <td>Adults (35-64)</td>\n",
       "      <td>M</td>\n",
       "      <td>United Kingdom</td>\n",
       "      <td>England</td>\n",
       "      <td>Clothing</td>\n",
       "      <td>Vests</td>\n",
       "      <td>Classic Vest, S</td>\n",
       "      <td>3</td>\n",
       "      <td>24</td>\n",
       "      <td>64</td>\n",
       "      <td>112</td>\n",
       "      <td>72</td>\n",
       "      <td>184</td>\n",
       "    </tr>\n",
       "    <tr>\n",
       "      <th>113027</th>\n",
       "      <td>2014-04-02</td>\n",
       "      <td>2</td>\n",
       "      <td>April</td>\n",
       "      <td>2014</td>\n",
       "      <td>18</td>\n",
       "      <td>Youth (&lt;25)</td>\n",
       "      <td>M</td>\n",
       "      <td>Australia</td>\n",
       "      <td>Queensland</td>\n",
       "      <td>Clothing</td>\n",
       "      <td>Vests</td>\n",
       "      <td>Classic Vest, M</td>\n",
       "      <td>22</td>\n",
       "      <td>24</td>\n",
       "      <td>64</td>\n",
       "      <td>655</td>\n",
       "      <td>528</td>\n",
       "      <td>1183</td>\n",
       "    </tr>\n",
       "    <tr>\n",
       "      <th>113028</th>\n",
       "      <td>2016-04-02</td>\n",
       "      <td>2</td>\n",
       "      <td>April</td>\n",
       "      <td>2016</td>\n",
       "      <td>18</td>\n",
       "      <td>Youth (&lt;25)</td>\n",
       "      <td>M</td>\n",
       "      <td>Australia</td>\n",
       "      <td>Queensland</td>\n",
       "      <td>Clothing</td>\n",
       "      <td>Vests</td>\n",
       "      <td>Classic Vest, M</td>\n",
       "      <td>22</td>\n",
       "      <td>24</td>\n",
       "      <td>64</td>\n",
       "      <td>655</td>\n",
       "      <td>528</td>\n",
       "      <td>1183</td>\n",
       "    </tr>\n",
       "    <tr>\n",
       "      <th>113029</th>\n",
       "      <td>2014-03-04</td>\n",
       "      <td>4</td>\n",
       "      <td>March</td>\n",
       "      <td>2014</td>\n",
       "      <td>37</td>\n",
       "      <td>Adults (35-64)</td>\n",
       "      <td>F</td>\n",
       "      <td>France</td>\n",
       "      <td>Seine (Paris)</td>\n",
       "      <td>Clothing</td>\n",
       "      <td>Vests</td>\n",
       "      <td>Classic Vest, L</td>\n",
       "      <td>24</td>\n",
       "      <td>24</td>\n",
       "      <td>64</td>\n",
       "      <td>684</td>\n",
       "      <td>576</td>\n",
       "      <td>1260</td>\n",
       "    </tr>\n",
       "    <tr>\n",
       "      <th>113030</th>\n",
       "      <td>2016-03-04</td>\n",
       "      <td>4</td>\n",
       "      <td>March</td>\n",
       "      <td>2016</td>\n",
       "      <td>37</td>\n",
       "      <td>Adults (35-64)</td>\n",
       "      <td>F</td>\n",
       "      <td>France</td>\n",
       "      <td>Seine (Paris)</td>\n",
       "      <td>Clothing</td>\n",
       "      <td>Vests</td>\n",
       "      <td>Classic Vest, L</td>\n",
       "      <td>23</td>\n",
       "      <td>24</td>\n",
       "      <td>64</td>\n",
       "      <td>655</td>\n",
       "      <td>552</td>\n",
       "      <td>1207</td>\n",
       "    </tr>\n",
       "  </tbody>\n",
       "</table>\n",
       "<p>113031 rows × 18 columns</p>\n",
       "</div>"
      ],
      "text/plain": [
       "        2014-05-15  15       May  2014  47  Adults (35-64)  F       Australia  \\\n",
       "0       2016-05-15  15       May  2016  47  Adults (35-64)  F       Australia   \n",
       "1       2014-05-22  22       May  2014  47  Adults (35-64)  F       Australia   \n",
       "2       2016-05-22  22       May  2016  47  Adults (35-64)  F       Australia   \n",
       "3       2014-02-22  22  February  2014  35  Adults (35-64)  M       Australia   \n",
       "4       2016-02-22  22  February  2016  35  Adults (35-64)  M       Australia   \n",
       "...            ...  ..       ...   ...  ..             ... ..             ...   \n",
       "113026  2016-04-12  12     April  2016  41  Adults (35-64)  M  United Kingdom   \n",
       "113027  2014-04-02   2     April  2014  18     Youth (<25)  M       Australia   \n",
       "113028  2016-04-02   2     April  2016  18     Youth (<25)  M       Australia   \n",
       "113029  2014-03-04   4     March  2014  37  Adults (35-64)  F          France   \n",
       "113030  2016-03-04   4     March  2016  37  Adults (35-64)  F          France   \n",
       "\n",
       "        New South Wales  Accessories  Bike Racks  Hitch Rack - 4-Bike   4  45  \\\n",
       "0       New South Wales  Accessories  Bike Racks  Hitch Rack - 4-Bike   5  45   \n",
       "1              Victoria  Accessories  Bike Racks  Hitch Rack - 4-Bike   4  45   \n",
       "2              Victoria  Accessories  Bike Racks  Hitch Rack - 4-Bike   2  45   \n",
       "3              Victoria  Accessories  Bike Racks  Hitch Rack - 4-Bike  22  45   \n",
       "4              Victoria  Accessories  Bike Racks  Hitch Rack - 4-Bike  21  45   \n",
       "...                 ...          ...         ...                  ...  ..  ..   \n",
       "113026          England     Clothing       Vests      Classic Vest, S   3  24   \n",
       "113027       Queensland     Clothing       Vests      Classic Vest, M  22  24   \n",
       "113028       Queensland     Clothing       Vests      Classic Vest, M  22  24   \n",
       "113029    Seine (Paris)     Clothing       Vests      Classic Vest, L  24  24   \n",
       "113030    Seine (Paris)     Clothing       Vests      Classic Vest, L  23  24   \n",
       "\n",
       "        120   238  180   418  \n",
       "0       120   297  225   522  \n",
       "1       120   199  180   379  \n",
       "2       120   100   90   190  \n",
       "3       120  1096  990  2086  \n",
       "4       120  1046  945  1991  \n",
       "...     ...   ...  ...   ...  \n",
       "113026   64   112   72   184  \n",
       "113027   64   655  528  1183  \n",
       "113028   64   655  528  1183  \n",
       "113029   64   684  576  1260  \n",
       "113030   64   655  552  1207  \n",
       "\n",
       "[113031 rows x 18 columns]"
      ]
     },
     "execution_count": 213,
     "metadata": {},
     "output_type": "execute_result"
    }
   ],
   "source": [
    "df=pd.read_csv('/kaggle/input/sales-data-practise/sales_data.csv',skiprows=5)   #Skiping first 5 rows in DataFrame\n",
    "df"
   ]
  },
  {
   "cell_type": "code",
   "execution_count": 214,
   "id": "1e3e0e63",
   "metadata": {
    "execution": {
     "iopub.execute_input": "2022-09-29T06:59:26.008512Z",
     "iopub.status.busy": "2022-09-29T06:59:26.007302Z",
     "iopub.status.idle": "2022-09-29T06:59:26.283329Z",
     "shell.execute_reply": "2022-09-29T06:59:26.281572Z"
    },
    "papermill": {
     "duration": 0.384864,
     "end_time": "2022-09-29T06:59:26.290711",
     "exception": false,
     "start_time": "2022-09-29T06:59:25.905847",
     "status": "completed"
    },
    "tags": []
   },
   "outputs": [
    {
     "data": {
      "text/html": [
       "<div>\n",
       "<style scoped>\n",
       "    .dataframe tbody tr th:only-of-type {\n",
       "        vertical-align: middle;\n",
       "    }\n",
       "\n",
       "    .dataframe tbody tr th {\n",
       "        vertical-align: top;\n",
       "    }\n",
       "\n",
       "    .dataframe thead th {\n",
       "        text-align: right;\n",
       "    }\n",
       "</style>\n",
       "<table border=\"1\" class=\"dataframe\">\n",
       "  <thead>\n",
       "    <tr style=\"text-align: right;\">\n",
       "      <th></th>\n",
       "      <th>Date</th>\n",
       "      <th>Day</th>\n",
       "      <th>Month</th>\n",
       "      <th>Year</th>\n",
       "      <th>Customer_Age</th>\n",
       "      <th>Age_Group</th>\n",
       "      <th>Customer_Gender</th>\n",
       "      <th>Country</th>\n",
       "      <th>State</th>\n",
       "      <th>Product_Category</th>\n",
       "      <th>Sub_Category</th>\n",
       "      <th>Product</th>\n",
       "      <th>Order_Quantity</th>\n",
       "      <th>Unit_Cost</th>\n",
       "      <th>Unit_Price</th>\n",
       "      <th>Profit</th>\n",
       "      <th>Cost</th>\n",
       "      <th>Revenue</th>\n",
       "    </tr>\n",
       "  </thead>\n",
       "  <tbody>\n",
       "    <tr>\n",
       "      <th>0</th>\n",
       "      <td>2013-11-26</td>\n",
       "      <td>26</td>\n",
       "      <td>November</td>\n",
       "      <td>2013</td>\n",
       "      <td>19</td>\n",
       "      <td>Youth (&lt;25)</td>\n",
       "      <td>M</td>\n",
       "      <td>Canada</td>\n",
       "      <td>British Columbia</td>\n",
       "      <td>Accessories</td>\n",
       "      <td>Bike Racks</td>\n",
       "      <td>Hitch Rack - 4-Bike</td>\n",
       "      <td>8</td>\n",
       "      <td>45</td>\n",
       "      <td>120</td>\n",
       "      <td>590</td>\n",
       "      <td>360</td>\n",
       "      <td>950</td>\n",
       "    </tr>\n",
       "    <tr>\n",
       "      <th>1</th>\n",
       "      <td>2014-03-23</td>\n",
       "      <td>23</td>\n",
       "      <td>March</td>\n",
       "      <td>2014</td>\n",
       "      <td>49</td>\n",
       "      <td>Adults (35-64)</td>\n",
       "      <td>M</td>\n",
       "      <td>Australia</td>\n",
       "      <td>New South Wales</td>\n",
       "      <td>Accessories</td>\n",
       "      <td>Bike Racks</td>\n",
       "      <td>Hitch Rack - 4-Bike</td>\n",
       "      <td>23</td>\n",
       "      <td>45</td>\n",
       "      <td>120</td>\n",
       "      <td>1366</td>\n",
       "      <td>1035</td>\n",
       "      <td>2401</td>\n",
       "    </tr>\n",
       "    <tr>\n",
       "      <th>2</th>\n",
       "      <td>2016-03-23</td>\n",
       "      <td>23</td>\n",
       "      <td>March</td>\n",
       "      <td>2016</td>\n",
       "      <td>49</td>\n",
       "      <td>Adults (35-64)</td>\n",
       "      <td>M</td>\n",
       "      <td>Australia</td>\n",
       "      <td>New South Wales</td>\n",
       "      <td>Accessories</td>\n",
       "      <td>Bike Racks</td>\n",
       "      <td>Hitch Rack - 4-Bike</td>\n",
       "      <td>20</td>\n",
       "      <td>45</td>\n",
       "      <td>120</td>\n",
       "      <td>1188</td>\n",
       "      <td>900</td>\n",
       "      <td>2088</td>\n",
       "    </tr>\n",
       "    <tr>\n",
       "      <th>3</th>\n",
       "      <td>2014-05-15</td>\n",
       "      <td>15</td>\n",
       "      <td>May</td>\n",
       "      <td>2014</td>\n",
       "      <td>47</td>\n",
       "      <td>Adults (35-64)</td>\n",
       "      <td>F</td>\n",
       "      <td>Australia</td>\n",
       "      <td>New South Wales</td>\n",
       "      <td>Accessories</td>\n",
       "      <td>Bike Racks</td>\n",
       "      <td>Hitch Rack - 4-Bike</td>\n",
       "      <td>4</td>\n",
       "      <td>45</td>\n",
       "      <td>120</td>\n",
       "      <td>238</td>\n",
       "      <td>180</td>\n",
       "      <td>418</td>\n",
       "    </tr>\n",
       "    <tr>\n",
       "      <th>4</th>\n",
       "      <td>2016-05-15</td>\n",
       "      <td>15</td>\n",
       "      <td>May</td>\n",
       "      <td>2016</td>\n",
       "      <td>47</td>\n",
       "      <td>Adults (35-64)</td>\n",
       "      <td>F</td>\n",
       "      <td>Australia</td>\n",
       "      <td>New South Wales</td>\n",
       "      <td>Accessories</td>\n",
       "      <td>Bike Racks</td>\n",
       "      <td>Hitch Rack - 4-Bike</td>\n",
       "      <td>5</td>\n",
       "      <td>45</td>\n",
       "      <td>120</td>\n",
       "      <td>297</td>\n",
       "      <td>225</td>\n",
       "      <td>522</td>\n",
       "    </tr>\n",
       "    <tr>\n",
       "      <th>...</th>\n",
       "      <td>...</td>\n",
       "      <td>...</td>\n",
       "      <td>...</td>\n",
       "      <td>...</td>\n",
       "      <td>...</td>\n",
       "      <td>...</td>\n",
       "      <td>...</td>\n",
       "      <td>...</td>\n",
       "      <td>...</td>\n",
       "      <td>...</td>\n",
       "      <td>...</td>\n",
       "      <td>...</td>\n",
       "      <td>...</td>\n",
       "      <td>...</td>\n",
       "      <td>...</td>\n",
       "      <td>...</td>\n",
       "      <td>...</td>\n",
       "      <td>...</td>\n",
       "    </tr>\n",
       "    <tr>\n",
       "      <th>113030</th>\n",
       "      <td>2016-04-12</td>\n",
       "      <td>12</td>\n",
       "      <td>April</td>\n",
       "      <td>2016</td>\n",
       "      <td>41</td>\n",
       "      <td>Adults (35-64)</td>\n",
       "      <td>M</td>\n",
       "      <td>United Kingdom</td>\n",
       "      <td>England</td>\n",
       "      <td>Clothing</td>\n",
       "      <td>Vests</td>\n",
       "      <td>Classic Vest, S</td>\n",
       "      <td>3</td>\n",
       "      <td>24</td>\n",
       "      <td>64</td>\n",
       "      <td>112</td>\n",
       "      <td>72</td>\n",
       "      <td>184</td>\n",
       "    </tr>\n",
       "    <tr>\n",
       "      <th>113031</th>\n",
       "      <td>2014-04-02</td>\n",
       "      <td>2</td>\n",
       "      <td>April</td>\n",
       "      <td>2014</td>\n",
       "      <td>18</td>\n",
       "      <td>Youth (&lt;25)</td>\n",
       "      <td>M</td>\n",
       "      <td>Australia</td>\n",
       "      <td>Queensland</td>\n",
       "      <td>Clothing</td>\n",
       "      <td>Vests</td>\n",
       "      <td>Classic Vest, M</td>\n",
       "      <td>22</td>\n",
       "      <td>24</td>\n",
       "      <td>64</td>\n",
       "      <td>655</td>\n",
       "      <td>528</td>\n",
       "      <td>1183</td>\n",
       "    </tr>\n",
       "    <tr>\n",
       "      <th>113032</th>\n",
       "      <td>2016-04-02</td>\n",
       "      <td>2</td>\n",
       "      <td>April</td>\n",
       "      <td>2016</td>\n",
       "      <td>18</td>\n",
       "      <td>Youth (&lt;25)</td>\n",
       "      <td>M</td>\n",
       "      <td>Australia</td>\n",
       "      <td>Queensland</td>\n",
       "      <td>Clothing</td>\n",
       "      <td>Vests</td>\n",
       "      <td>Classic Vest, M</td>\n",
       "      <td>22</td>\n",
       "      <td>24</td>\n",
       "      <td>64</td>\n",
       "      <td>655</td>\n",
       "      <td>528</td>\n",
       "      <td>1183</td>\n",
       "    </tr>\n",
       "    <tr>\n",
       "      <th>113033</th>\n",
       "      <td>2014-03-04</td>\n",
       "      <td>4</td>\n",
       "      <td>March</td>\n",
       "      <td>2014</td>\n",
       "      <td>37</td>\n",
       "      <td>Adults (35-64)</td>\n",
       "      <td>F</td>\n",
       "      <td>France</td>\n",
       "      <td>Seine (Paris)</td>\n",
       "      <td>Clothing</td>\n",
       "      <td>Vests</td>\n",
       "      <td>Classic Vest, L</td>\n",
       "      <td>24</td>\n",
       "      <td>24</td>\n",
       "      <td>64</td>\n",
       "      <td>684</td>\n",
       "      <td>576</td>\n",
       "      <td>1260</td>\n",
       "    </tr>\n",
       "    <tr>\n",
       "      <th>113034</th>\n",
       "      <td>2016-03-04</td>\n",
       "      <td>4</td>\n",
       "      <td>March</td>\n",
       "      <td>2016</td>\n",
       "      <td>37</td>\n",
       "      <td>Adults (35-64)</td>\n",
       "      <td>F</td>\n",
       "      <td>France</td>\n",
       "      <td>Seine (Paris)</td>\n",
       "      <td>Clothing</td>\n",
       "      <td>Vests</td>\n",
       "      <td>Classic Vest, L</td>\n",
       "      <td>23</td>\n",
       "      <td>24</td>\n",
       "      <td>64</td>\n",
       "      <td>655</td>\n",
       "      <td>552</td>\n",
       "      <td>1207</td>\n",
       "    </tr>\n",
       "  </tbody>\n",
       "</table>\n",
       "<p>113035 rows × 18 columns</p>\n",
       "</div>"
      ],
      "text/plain": [
       "              Date  Day     Month  Year  Customer_Age       Age_Group  \\\n",
       "0       2013-11-26   26  November  2013            19     Youth (<25)   \n",
       "1       2014-03-23   23     March  2014            49  Adults (35-64)   \n",
       "2       2016-03-23   23     March  2016            49  Adults (35-64)   \n",
       "3       2014-05-15   15       May  2014            47  Adults (35-64)   \n",
       "4       2016-05-15   15       May  2016            47  Adults (35-64)   \n",
       "...            ...  ...       ...   ...           ...             ...   \n",
       "113030  2016-04-12   12     April  2016            41  Adults (35-64)   \n",
       "113031  2014-04-02    2     April  2014            18     Youth (<25)   \n",
       "113032  2016-04-02    2     April  2016            18     Youth (<25)   \n",
       "113033  2014-03-04    4     March  2014            37  Adults (35-64)   \n",
       "113034  2016-03-04    4     March  2016            37  Adults (35-64)   \n",
       "\n",
       "       Customer_Gender         Country             State Product_Category  \\\n",
       "0                    M          Canada  British Columbia      Accessories   \n",
       "1                    M       Australia   New South Wales      Accessories   \n",
       "2                    M       Australia   New South Wales      Accessories   \n",
       "3                    F       Australia   New South Wales      Accessories   \n",
       "4                    F       Australia   New South Wales      Accessories   \n",
       "...                ...             ...               ...              ...   \n",
       "113030               M  United Kingdom           England         Clothing   \n",
       "113031               M       Australia        Queensland         Clothing   \n",
       "113032               M       Australia        Queensland         Clothing   \n",
       "113033               F          France     Seine (Paris)         Clothing   \n",
       "113034               F          France     Seine (Paris)         Clothing   \n",
       "\n",
       "       Sub_Category              Product  Order_Quantity  Unit_Cost  \\\n",
       "0        Bike Racks  Hitch Rack - 4-Bike               8         45   \n",
       "1        Bike Racks  Hitch Rack - 4-Bike              23         45   \n",
       "2        Bike Racks  Hitch Rack - 4-Bike              20         45   \n",
       "3        Bike Racks  Hitch Rack - 4-Bike               4         45   \n",
       "4        Bike Racks  Hitch Rack - 4-Bike               5         45   \n",
       "...             ...                  ...             ...        ...   \n",
       "113030        Vests      Classic Vest, S               3         24   \n",
       "113031        Vests      Classic Vest, M              22         24   \n",
       "113032        Vests      Classic Vest, M              22         24   \n",
       "113033        Vests      Classic Vest, L              24         24   \n",
       "113034        Vests      Classic Vest, L              23         24   \n",
       "\n",
       "        Unit_Price  Profit  Cost  Revenue  \n",
       "0              120     590   360      950  \n",
       "1              120    1366  1035     2401  \n",
       "2              120    1188   900     2088  \n",
       "3              120     238   180      418  \n",
       "4              120     297   225      522  \n",
       "...            ...     ...   ...      ...  \n",
       "113030          64     112    72      184  \n",
       "113031          64     655   528     1183  \n",
       "113032          64     655   528     1183  \n",
       "113033          64     684   576     1260  \n",
       "113034          64     655   552     1207  \n",
       "\n",
       "[113035 rows x 18 columns]"
      ]
     },
     "execution_count": 214,
     "metadata": {},
     "output_type": "execute_result"
    }
   ],
   "source": [
    "\n",
    "df=pd.read_csv('/kaggle/input/sales-data-practise/sales_data.csv',skiprows=[2])   #Skiping rows in DataFrame by index\n",
    "df"
   ]
  },
  {
   "cell_type": "code",
   "execution_count": 215,
   "id": "435a902d",
   "metadata": {
    "execution": {
     "iopub.execute_input": "2022-09-29T06:59:26.664024Z",
     "iopub.status.busy": "2022-09-29T06:59:26.663395Z",
     "iopub.status.idle": "2022-09-29T06:59:27.098302Z",
     "shell.execute_reply": "2022-09-29T06:59:27.092805Z"
    },
    "papermill": {
     "duration": 0.601977,
     "end_time": "2022-09-29T06:59:27.101990",
     "exception": false,
     "start_time": "2022-09-29T06:59:26.500013",
     "status": "completed"
    },
    "tags": []
   },
   "outputs": [
    {
     "data": {
      "text/html": [
       "<div>\n",
       "<style scoped>\n",
       "    .dataframe tbody tr th:only-of-type {\n",
       "        vertical-align: middle;\n",
       "    }\n",
       "\n",
       "    .dataframe tbody tr th {\n",
       "        vertical-align: top;\n",
       "    }\n",
       "\n",
       "    .dataframe thead th {\n",
       "        text-align: right;\n",
       "    }\n",
       "</style>\n",
       "<table border=\"1\" class=\"dataframe\">\n",
       "  <thead>\n",
       "    <tr style=\"text-align: right;\">\n",
       "      <th></th>\n",
       "      <th></th>\n",
       "      <th>Month</th>\n",
       "      <th>Year</th>\n",
       "      <th>Customer_Age</th>\n",
       "      <th>Age_Group</th>\n",
       "      <th>Customer_Gender</th>\n",
       "      <th>Country</th>\n",
       "      <th>State</th>\n",
       "      <th>Product_Category</th>\n",
       "      <th>Sub_Category</th>\n",
       "      <th>Product</th>\n",
       "      <th>Order_Quantity</th>\n",
       "      <th>Unit_Cost</th>\n",
       "      <th>Unit_Price</th>\n",
       "      <th>Profit</th>\n",
       "      <th>Cost</th>\n",
       "      <th>Revenue</th>\n",
       "    </tr>\n",
       "    <tr>\n",
       "      <th>Date</th>\n",
       "      <th>Day</th>\n",
       "      <th></th>\n",
       "      <th></th>\n",
       "      <th></th>\n",
       "      <th></th>\n",
       "      <th></th>\n",
       "      <th></th>\n",
       "      <th></th>\n",
       "      <th></th>\n",
       "      <th></th>\n",
       "      <th></th>\n",
       "      <th></th>\n",
       "      <th></th>\n",
       "      <th></th>\n",
       "      <th></th>\n",
       "      <th></th>\n",
       "      <th></th>\n",
       "    </tr>\n",
       "  </thead>\n",
       "  <tbody>\n",
       "    <tr>\n",
       "      <th>2013-11-26</th>\n",
       "      <th>26</th>\n",
       "      <td>November</td>\n",
       "      <td>2013</td>\n",
       "      <td>19</td>\n",
       "      <td>Youth (&lt;25)</td>\n",
       "      <td>M</td>\n",
       "      <td>Canada</td>\n",
       "      <td>British Columbia</td>\n",
       "      <td>Accessories</td>\n",
       "      <td>Bike Racks</td>\n",
       "      <td>Hitch Rack - 4-Bike</td>\n",
       "      <td>8</td>\n",
       "      <td>45</td>\n",
       "      <td>120</td>\n",
       "      <td>590</td>\n",
       "      <td>360</td>\n",
       "      <td>950</td>\n",
       "    </tr>\n",
       "    <tr>\n",
       "      <th>2015-11-26</th>\n",
       "      <th>26</th>\n",
       "      <td>November</td>\n",
       "      <td>2015</td>\n",
       "      <td>19</td>\n",
       "      <td>Youth (&lt;25)</td>\n",
       "      <td>M</td>\n",
       "      <td>Canada</td>\n",
       "      <td>British Columbia</td>\n",
       "      <td>Accessories</td>\n",
       "      <td>Bike Racks</td>\n",
       "      <td>Hitch Rack - 4-Bike</td>\n",
       "      <td>8</td>\n",
       "      <td>45</td>\n",
       "      <td>120</td>\n",
       "      <td>590</td>\n",
       "      <td>360</td>\n",
       "      <td>950</td>\n",
       "    </tr>\n",
       "    <tr>\n",
       "      <th>2014-03-23</th>\n",
       "      <th>23</th>\n",
       "      <td>March</td>\n",
       "      <td>2014</td>\n",
       "      <td>49</td>\n",
       "      <td>Adults (35-64)</td>\n",
       "      <td>M</td>\n",
       "      <td>Australia</td>\n",
       "      <td>New South Wales</td>\n",
       "      <td>Accessories</td>\n",
       "      <td>Bike Racks</td>\n",
       "      <td>Hitch Rack - 4-Bike</td>\n",
       "      <td>23</td>\n",
       "      <td>45</td>\n",
       "      <td>120</td>\n",
       "      <td>1366</td>\n",
       "      <td>1035</td>\n",
       "      <td>2401</td>\n",
       "    </tr>\n",
       "    <tr>\n",
       "      <th>2016-03-23</th>\n",
       "      <th>23</th>\n",
       "      <td>March</td>\n",
       "      <td>2016</td>\n",
       "      <td>49</td>\n",
       "      <td>Adults (35-64)</td>\n",
       "      <td>M</td>\n",
       "      <td>Australia</td>\n",
       "      <td>New South Wales</td>\n",
       "      <td>Accessories</td>\n",
       "      <td>Bike Racks</td>\n",
       "      <td>Hitch Rack - 4-Bike</td>\n",
       "      <td>20</td>\n",
       "      <td>45</td>\n",
       "      <td>120</td>\n",
       "      <td>1188</td>\n",
       "      <td>900</td>\n",
       "      <td>2088</td>\n",
       "    </tr>\n",
       "    <tr>\n",
       "      <th>2014-05-15</th>\n",
       "      <th>15</th>\n",
       "      <td>May</td>\n",
       "      <td>2014</td>\n",
       "      <td>47</td>\n",
       "      <td>Adults (35-64)</td>\n",
       "      <td>F</td>\n",
       "      <td>Australia</td>\n",
       "      <td>New South Wales</td>\n",
       "      <td>Accessories</td>\n",
       "      <td>Bike Racks</td>\n",
       "      <td>Hitch Rack - 4-Bike</td>\n",
       "      <td>4</td>\n",
       "      <td>45</td>\n",
       "      <td>120</td>\n",
       "      <td>238</td>\n",
       "      <td>180</td>\n",
       "      <td>418</td>\n",
       "    </tr>\n",
       "    <tr>\n",
       "      <th>...</th>\n",
       "      <th>...</th>\n",
       "      <td>...</td>\n",
       "      <td>...</td>\n",
       "      <td>...</td>\n",
       "      <td>...</td>\n",
       "      <td>...</td>\n",
       "      <td>...</td>\n",
       "      <td>...</td>\n",
       "      <td>...</td>\n",
       "      <td>...</td>\n",
       "      <td>...</td>\n",
       "      <td>...</td>\n",
       "      <td>...</td>\n",
       "      <td>...</td>\n",
       "      <td>...</td>\n",
       "      <td>...</td>\n",
       "      <td>...</td>\n",
       "    </tr>\n",
       "    <tr>\n",
       "      <th>2016-04-12</th>\n",
       "      <th>12</th>\n",
       "      <td>April</td>\n",
       "      <td>2016</td>\n",
       "      <td>41</td>\n",
       "      <td>Adults (35-64)</td>\n",
       "      <td>M</td>\n",
       "      <td>United Kingdom</td>\n",
       "      <td>England</td>\n",
       "      <td>Clothing</td>\n",
       "      <td>Vests</td>\n",
       "      <td>Classic Vest, S</td>\n",
       "      <td>3</td>\n",
       "      <td>24</td>\n",
       "      <td>64</td>\n",
       "      <td>112</td>\n",
       "      <td>72</td>\n",
       "      <td>184</td>\n",
       "    </tr>\n",
       "    <tr>\n",
       "      <th>2014-04-02</th>\n",
       "      <th>2</th>\n",
       "      <td>April</td>\n",
       "      <td>2014</td>\n",
       "      <td>18</td>\n",
       "      <td>Youth (&lt;25)</td>\n",
       "      <td>M</td>\n",
       "      <td>Australia</td>\n",
       "      <td>Queensland</td>\n",
       "      <td>Clothing</td>\n",
       "      <td>Vests</td>\n",
       "      <td>Classic Vest, M</td>\n",
       "      <td>22</td>\n",
       "      <td>24</td>\n",
       "      <td>64</td>\n",
       "      <td>655</td>\n",
       "      <td>528</td>\n",
       "      <td>1183</td>\n",
       "    </tr>\n",
       "    <tr>\n",
       "      <th>2016-04-02</th>\n",
       "      <th>2</th>\n",
       "      <td>April</td>\n",
       "      <td>2016</td>\n",
       "      <td>18</td>\n",
       "      <td>Youth (&lt;25)</td>\n",
       "      <td>M</td>\n",
       "      <td>Australia</td>\n",
       "      <td>Queensland</td>\n",
       "      <td>Clothing</td>\n",
       "      <td>Vests</td>\n",
       "      <td>Classic Vest, M</td>\n",
       "      <td>22</td>\n",
       "      <td>24</td>\n",
       "      <td>64</td>\n",
       "      <td>655</td>\n",
       "      <td>528</td>\n",
       "      <td>1183</td>\n",
       "    </tr>\n",
       "    <tr>\n",
       "      <th>2014-03-04</th>\n",
       "      <th>4</th>\n",
       "      <td>March</td>\n",
       "      <td>2014</td>\n",
       "      <td>37</td>\n",
       "      <td>Adults (35-64)</td>\n",
       "      <td>F</td>\n",
       "      <td>France</td>\n",
       "      <td>Seine (Paris)</td>\n",
       "      <td>Clothing</td>\n",
       "      <td>Vests</td>\n",
       "      <td>Classic Vest, L</td>\n",
       "      <td>24</td>\n",
       "      <td>24</td>\n",
       "      <td>64</td>\n",
       "      <td>684</td>\n",
       "      <td>576</td>\n",
       "      <td>1260</td>\n",
       "    </tr>\n",
       "    <tr>\n",
       "      <th>2016-03-04</th>\n",
       "      <th>4</th>\n",
       "      <td>March</td>\n",
       "      <td>2016</td>\n",
       "      <td>37</td>\n",
       "      <td>Adults (35-64)</td>\n",
       "      <td>F</td>\n",
       "      <td>France</td>\n",
       "      <td>Seine (Paris)</td>\n",
       "      <td>Clothing</td>\n",
       "      <td>Vests</td>\n",
       "      <td>Classic Vest, L</td>\n",
       "      <td>23</td>\n",
       "      <td>24</td>\n",
       "      <td>64</td>\n",
       "      <td>655</td>\n",
       "      <td>552</td>\n",
       "      <td>1207</td>\n",
       "    </tr>\n",
       "  </tbody>\n",
       "</table>\n",
       "<p>113036 rows × 16 columns</p>\n",
       "</div>"
      ],
      "text/plain": [
       "                   Month  Year  Customer_Age       Age_Group Customer_Gender  \\\n",
       "Date       Day                                                                 \n",
       "2013-11-26 26   November  2013            19     Youth (<25)               M   \n",
       "2015-11-26 26   November  2015            19     Youth (<25)               M   \n",
       "2014-03-23 23      March  2014            49  Adults (35-64)               M   \n",
       "2016-03-23 23      March  2016            49  Adults (35-64)               M   \n",
       "2014-05-15 15        May  2014            47  Adults (35-64)               F   \n",
       "...                  ...   ...           ...             ...             ...   \n",
       "2016-04-12 12      April  2016            41  Adults (35-64)               M   \n",
       "2014-04-02 2       April  2014            18     Youth (<25)               M   \n",
       "2016-04-02 2       April  2016            18     Youth (<25)               M   \n",
       "2014-03-04 4       March  2014            37  Adults (35-64)               F   \n",
       "2016-03-04 4       March  2016            37  Adults (35-64)               F   \n",
       "\n",
       "                       Country             State Product_Category  \\\n",
       "Date       Day                                                      \n",
       "2013-11-26 26           Canada  British Columbia      Accessories   \n",
       "2015-11-26 26           Canada  British Columbia      Accessories   \n",
       "2014-03-23 23        Australia   New South Wales      Accessories   \n",
       "2016-03-23 23        Australia   New South Wales      Accessories   \n",
       "2014-05-15 15        Australia   New South Wales      Accessories   \n",
       "...                        ...               ...              ...   \n",
       "2016-04-12 12   United Kingdom           England         Clothing   \n",
       "2014-04-02 2         Australia        Queensland         Clothing   \n",
       "2016-04-02 2         Australia        Queensland         Clothing   \n",
       "2014-03-04 4            France     Seine (Paris)         Clothing   \n",
       "2016-03-04 4            France     Seine (Paris)         Clothing   \n",
       "\n",
       "               Sub_Category              Product  Order_Quantity  Unit_Cost  \\\n",
       "Date       Day                                                                \n",
       "2013-11-26 26    Bike Racks  Hitch Rack - 4-Bike               8         45   \n",
       "2015-11-26 26    Bike Racks  Hitch Rack - 4-Bike               8         45   \n",
       "2014-03-23 23    Bike Racks  Hitch Rack - 4-Bike              23         45   \n",
       "2016-03-23 23    Bike Racks  Hitch Rack - 4-Bike              20         45   \n",
       "2014-05-15 15    Bike Racks  Hitch Rack - 4-Bike               4         45   \n",
       "...                     ...                  ...             ...        ...   \n",
       "2016-04-12 12         Vests      Classic Vest, S               3         24   \n",
       "2014-04-02 2          Vests      Classic Vest, M              22         24   \n",
       "2016-04-02 2          Vests      Classic Vest, M              22         24   \n",
       "2014-03-04 4          Vests      Classic Vest, L              24         24   \n",
       "2016-03-04 4          Vests      Classic Vest, L              23         24   \n",
       "\n",
       "                Unit_Price  Profit  Cost  Revenue  \n",
       "Date       Day                                     \n",
       "2013-11-26 26          120     590   360      950  \n",
       "2015-11-26 26          120     590   360      950  \n",
       "2014-03-23 23          120    1366  1035     2401  \n",
       "2016-03-23 23          120    1188   900     2088  \n",
       "2014-05-15 15          120     238   180      418  \n",
       "...                    ...     ...   ...      ...  \n",
       "2016-04-12 12           64     112    72      184  \n",
       "2014-04-02 2            64     655   528     1183  \n",
       "2016-04-02 2            64     655   528     1183  \n",
       "2014-03-04 4            64     684   576     1260  \n",
       "2016-03-04 4            64     655   552     1207  \n",
       "\n",
       "[113036 rows x 16 columns]"
      ]
     },
     "execution_count": 215,
     "metadata": {},
     "output_type": "execute_result"
    }
   ],
   "source": [
    "df=pd.read_csv('/kaggle/input/sales-data-practise/sales_data.csv',index_col=[\"Date\",\"Day\"])   #Giving Index in DataFrame by index\n",
    "df"
   ]
  },
  {
   "cell_type": "code",
   "execution_count": 216,
   "id": "46ceaa89",
   "metadata": {
    "execution": {
     "iopub.execute_input": "2022-09-29T06:59:27.469008Z",
     "iopub.status.busy": "2022-09-29T06:59:27.467295Z",
     "iopub.status.idle": "2022-09-29T06:59:27.819275Z",
     "shell.execute_reply": "2022-09-29T06:59:27.818044Z"
    },
    "papermill": {
     "duration": 0.547292,
     "end_time": "2022-09-29T06:59:27.823114",
     "exception": false,
     "start_time": "2022-09-29T06:59:27.275822",
     "status": "completed"
    },
    "tags": []
   },
   "outputs": [
    {
     "data": {
      "text/html": [
       "<div>\n",
       "<style scoped>\n",
       "    .dataframe tbody tr th:only-of-type {\n",
       "        vertical-align: middle;\n",
       "    }\n",
       "\n",
       "    .dataframe tbody tr th {\n",
       "        vertical-align: top;\n",
       "    }\n",
       "\n",
       "    .dataframe thead th {\n",
       "        text-align: right;\n",
       "    }\n",
       "</style>\n",
       "<table border=\"1\" class=\"dataframe\">\n",
       "  <thead>\n",
       "    <tr style=\"text-align: right;\">\n",
       "      <th></th>\n",
       "      <th>Date</th>\n",
       "      <th>Day</th>\n",
       "      <th>Month</th>\n",
       "      <th>Year</th>\n",
       "      <th>Customer_Age</th>\n",
       "      <th>Age_Group</th>\n",
       "      <th>Customer_Gender</th>\n",
       "      <th>Country</th>\n",
       "      <th>State</th>\n",
       "      <th>Product_Category</th>\n",
       "      <th>Sub_Category</th>\n",
       "      <th>Product</th>\n",
       "      <th>Order_Quantity</th>\n",
       "      <th>Unit_Cost</th>\n",
       "      <th>Unit_Price</th>\n",
       "      <th>Profit</th>\n",
       "      <th>Cost</th>\n",
       "      <th>Revenue</th>\n",
       "    </tr>\n",
       "  </thead>\n",
       "  <tbody>\n",
       "    <tr>\n",
       "      <th>0</th>\n",
       "      <td>2013-11-26</td>\n",
       "      <td>26</td>\n",
       "      <td>November</td>\n",
       "      <td>2013</td>\n",
       "      <td>19</td>\n",
       "      <td>Youth (&lt;25)</td>\n",
       "      <td>M</td>\n",
       "      <td>Canada</td>\n",
       "      <td>British Columbia</td>\n",
       "      <td>Accessories</td>\n",
       "      <td>Bike Racks</td>\n",
       "      <td>Hitch Rack - 4-Bike</td>\n",
       "      <td>8</td>\n",
       "      <td>45</td>\n",
       "      <td>120</td>\n",
       "      <td>590</td>\n",
       "      <td>360</td>\n",
       "      <td>950</td>\n",
       "    </tr>\n",
       "    <tr>\n",
       "      <th>1</th>\n",
       "      <td>2015-11-26</td>\n",
       "      <td>26</td>\n",
       "      <td>November</td>\n",
       "      <td>2015</td>\n",
       "      <td>19</td>\n",
       "      <td>Youth (&lt;25)</td>\n",
       "      <td>M</td>\n",
       "      <td>Canada</td>\n",
       "      <td>British Columbia</td>\n",
       "      <td>Accessories</td>\n",
       "      <td>Bike Racks</td>\n",
       "      <td>Hitch Rack - 4-Bike</td>\n",
       "      <td>8</td>\n",
       "      <td>45</td>\n",
       "      <td>120</td>\n",
       "      <td>590</td>\n",
       "      <td>360</td>\n",
       "      <td>950</td>\n",
       "    </tr>\n",
       "    <tr>\n",
       "      <th>2</th>\n",
       "      <td>2014-03-23</td>\n",
       "      <td>23</td>\n",
       "      <td>March</td>\n",
       "      <td>2014</td>\n",
       "      <td>49</td>\n",
       "      <td>Adults (35-64)</td>\n",
       "      <td>M</td>\n",
       "      <td>Australia</td>\n",
       "      <td>New South Wales</td>\n",
       "      <td>Accessories</td>\n",
       "      <td>Bike Racks</td>\n",
       "      <td>Hitch Rack - 4-Bike</td>\n",
       "      <td>23</td>\n",
       "      <td>45</td>\n",
       "      <td>120</td>\n",
       "      <td>1366</td>\n",
       "      <td>1035</td>\n",
       "      <td>2401</td>\n",
       "    </tr>\n",
       "    <tr>\n",
       "      <th>3</th>\n",
       "      <td>2016-03-23</td>\n",
       "      <td>23</td>\n",
       "      <td>March</td>\n",
       "      <td>2016</td>\n",
       "      <td>49</td>\n",
       "      <td>Adults (35-64)</td>\n",
       "      <td>M</td>\n",
       "      <td>Australia</td>\n",
       "      <td>New South Wales</td>\n",
       "      <td>Accessories</td>\n",
       "      <td>Bike Racks</td>\n",
       "      <td>Hitch Rack - 4-Bike</td>\n",
       "      <td>20</td>\n",
       "      <td>45</td>\n",
       "      <td>120</td>\n",
       "      <td>1188</td>\n",
       "      <td>900</td>\n",
       "      <td>2088</td>\n",
       "    </tr>\n",
       "    <tr>\n",
       "      <th>4</th>\n",
       "      <td>2014-05-15</td>\n",
       "      <td>15</td>\n",
       "      <td>May</td>\n",
       "      <td>2014</td>\n",
       "      <td>47</td>\n",
       "      <td>Adults (35-64)</td>\n",
       "      <td>F</td>\n",
       "      <td>Australia</td>\n",
       "      <td>New South Wales</td>\n",
       "      <td>Accessories</td>\n",
       "      <td>Bike Racks</td>\n",
       "      <td>Hitch Rack - 4-Bike</td>\n",
       "      <td>4</td>\n",
       "      <td>45</td>\n",
       "      <td>120</td>\n",
       "      <td>238</td>\n",
       "      <td>180</td>\n",
       "      <td>418</td>\n",
       "    </tr>\n",
       "  </tbody>\n",
       "</table>\n",
       "</div>"
      ],
      "text/plain": [
       "         Date  Day     Month  Year  Customer_Age       Age_Group  \\\n",
       "0  2013-11-26   26  November  2013            19     Youth (<25)   \n",
       "1  2015-11-26   26  November  2015            19     Youth (<25)   \n",
       "2  2014-03-23   23     March  2014            49  Adults (35-64)   \n",
       "3  2016-03-23   23     March  2016            49  Adults (35-64)   \n",
       "4  2014-05-15   15       May  2014            47  Adults (35-64)   \n",
       "\n",
       "  Customer_Gender    Country             State Product_Category Sub_Category  \\\n",
       "0               M     Canada  British Columbia      Accessories   Bike Racks   \n",
       "1               M     Canada  British Columbia      Accessories   Bike Racks   \n",
       "2               M  Australia   New South Wales      Accessories   Bike Racks   \n",
       "3               M  Australia   New South Wales      Accessories   Bike Racks   \n",
       "4               F  Australia   New South Wales      Accessories   Bike Racks   \n",
       "\n",
       "               Product  Order_Quantity  Unit_Cost  Unit_Price  Profit  Cost  \\\n",
       "0  Hitch Rack - 4-Bike               8         45         120     590   360   \n",
       "1  Hitch Rack - 4-Bike               8         45         120     590   360   \n",
       "2  Hitch Rack - 4-Bike              23         45         120    1366  1035   \n",
       "3  Hitch Rack - 4-Bike              20         45         120    1188   900   \n",
       "4  Hitch Rack - 4-Bike               4         45         120     238   180   \n",
       "\n",
       "   Revenue  \n",
       "0      950  \n",
       "1      950  \n",
       "2     2401  \n",
       "3     2088  \n",
       "4      418  "
      ]
     },
     "execution_count": 216,
     "metadata": {},
     "output_type": "execute_result"
    }
   ],
   "source": [
    "df=pd.read_csv('/kaggle/input/sales-data-practise/sales_data.csv')\n",
    "df.head()  #Print only 5 row default"
   ]
  },
  {
   "cell_type": "markdown",
   "id": "17f545b7",
   "metadata": {
    "papermill": {
     "duration": 0.100742,
     "end_time": "2022-09-29T06:59:28.064209",
     "exception": false,
     "start_time": "2022-09-29T06:59:27.963467",
     "status": "completed"
    },
    "tags": []
   },
   "source": [
    "# 3. Pandas | Panel :\n",
    "> ## ✍️ Note: \n",
    "Panel has been removed from future version of Pandas Library."
   ]
  }
 ],
 "metadata": {
  "kernelspec": {
   "display_name": "Python 3",
   "language": "python",
   "name": "python3"
  },
  "language_info": {
   "codemirror_mode": {
    "name": "ipython",
    "version": 3
   },
   "file_extension": ".py",
   "mimetype": "text/x-python",
   "name": "python",
   "nbconvert_exporter": "python",
   "pygments_lexer": "ipython3",
   "version": "3.7.12"
  },
  "papermill": {
   "default_parameters": {},
   "duration": 68.344373,
   "end_time": "2022-09-29T06:59:28.785331",
   "environment_variables": {},
   "exception": null,
   "input_path": "__notebook__.ipynb",
   "output_path": "__notebook__.ipynb",
   "parameters": {},
   "start_time": "2022-09-29T06:58:20.440958",
   "version": "2.3.4"
  }
 },
 "nbformat": 4,
 "nbformat_minor": 5
}
