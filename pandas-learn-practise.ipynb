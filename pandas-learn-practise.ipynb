{
 "cells": [
  {
   "cell_type": "code",
   "execution_count": 1,
   "id": "f8d36dbc",
   "metadata": {
    "_cell_guid": "b1076dfc-b9ad-4769-8c92-a6c4dae69d19",
    "_uuid": "8f2839f25d086af736a60e9eeb907d3b93b6e0e5",
    "execution": {
     "iopub.execute_input": "2022-09-24T18:53:02.005516Z",
     "iopub.status.busy": "2022-09-24T18:53:02.005080Z",
     "iopub.status.idle": "2022-09-24T18:53:02.037257Z",
     "shell.execute_reply": "2022-09-24T18:53:02.036138Z"
    },
    "papermill": {
     "duration": 0.070071,
     "end_time": "2022-09-24T18:53:02.040328",
     "exception": false,
     "start_time": "2022-09-24T18:53:01.970257",
     "status": "completed"
    },
    "tags": []
   },
   "outputs": [
    {
     "name": "stdout",
     "output_type": "stream",
     "text": [
      "/kaggle/input/nba-data/nba.csv\n",
      "/kaggle/input/sales-data-practise/sales_data.csv\n"
     ]
    }
   ],
   "source": [
    "# This Python 3 environment comes with many helpful analytics libraries installed\n",
    "# It is defined by the kaggle/python Docker image: https://github.com/kaggle/docker-python\n",
    "# For example, here's several helpful packages to load\n",
    "\n",
    "import numpy as np # linear algebra\n",
    "import pandas as pd # data processing, CSV file I/O (e.g. pd.read_csv)\n",
    "\n",
    "# Input data files are available in the read-only \"../input/\" directory\n",
    "# For example, running this (by clicking run or pressing Shift+Enter) will list all files under the input directory\n",
    "\n",
    "import os\n",
    "for dirname, _, filenames in os.walk('/kaggle/input'):\n",
    "    for filename in filenames:\n",
    "        print(os.path.join(dirname, filename))\n",
    "\n",
    "# You can write up to 20GB to the current directory (/kaggle/working/) that gets preserved as output when you create a version using \"Save & Run All\" \n",
    "# You can also write temporary files to /kaggle/temp/, but they won't be saved outside of the current session"
   ]
  },
  {
   "cell_type": "markdown",
   "id": "4965a3f2",
   "metadata": {
    "papermill": {
     "duration": 0.031278,
     "end_time": "2022-09-24T18:53:02.102228",
     "exception": false,
     "start_time": "2022-09-24T18:53:02.070950",
     "status": "completed"
    },
    "tags": []
   },
   "source": [
    "# Working with Pandas Library:\n",
    "- Pandas is an open-source library that uses for working with relational or labeled data both easily and intuitively. It provides various data structures and operations for manipulating numerical data and time series. It offers a tool for cleaning and processes your data. It is the most popular Python library that is used for data analysis. In this article, We are going to learn about Pandas Data structure.\n",
    "\n",
    "\n",
    "\n",
    "\n",
    "<img src=\"https://www.w3resource.com/w3r_images/pandas-data-structure.svg\" alt=\"Pandas Data structure\" style=\"max-width:100%;display:block;height:auto;border: 2px solid silver;\"><br>\n",
    "\n",
    "<p><strong>Create Test Objects</strong></p>\n",
    "<div class=\"table-responsive\">\n",
    "<table class=\"table table-bordered\">\n",
    "<tbody><tr>\n",
    "<td>pd.DataFrame(np.random.rand(20,5))</td>\n",
    "<td>5 columns and 20 rows of random floats</td>\n",
    "</tr>\n",
    "<tr>\n",
    "<td>pd.Series(my_list)</td>\n",
    "<td>Create a series from an iterable my_list</td>\n",
    "</tr>\n",
    "<tr>\n",
    "<td>df.index = pd.date_range('1900/1/30', periods=df.shape[0])</td>\n",
    "<td>Add a date index</td>\n",
    "</tr>\n",
    "</tbody></table></div>\n",
    "<p><strong>Viewing/Inspecting Data</strong></p>\n",
    "<div class=\"table-responsive\">\n",
    "<table class=\"table table-bordered\">\n",
    "<tbody><tr>\n",
    "<td>df.head(n)</td>\n",
    "<td>First n rows of the DataFrame</td>\n",
    "</tr>\n",
    "<tr>\n",
    "<td>df.tail(n)</td>\n",
    "<td> Last n rows of the DataFrame</td>\n",
    "</tr>\n",
    "<tr>\n",
    "<td>df.shape</td>\n",
    "<td> Number of rows and columns</td>\n",
    "</tr>\n",
    "<tr>\n",
    "<td>df.info()</td>\n",
    "<td>Index, Datatype and Memory information</td>\n",
    "</tr>\n",
    "<tr>\n",
    "<td>df.describe()</td>\n",
    "<td>Summary statistics for numerical columns</td>\n",
    "</tr>\n",
    "<tr>\n",
    "<td>s.value_counts(dropna=False)</td>\n",
    "<td>View unique values and counts</td>\n",
    "</tr>\n",
    "<tr>\n",
    "<td>df.apply(pd.Series.value_counts)</td>\n",
    "<td>Unique values and counts for all columns</td>\n",
    "</tr>\n",
    "</tbody></table></div>\n",
    "<p><strong>Selection</strong></p>\n",
    "<div class=\"table-responsive\">\n",
    "<table class=\"table table-bordered\">\n",
    "<tbody><tr>\n",
    "<td>df[col]</td>\n",
    "<td>Returns column with label col as Series</td>\n",
    "</tr>\n",
    "<tr>\n",
    "<td>df[[col1, col2]]</td>\n",
    "<td>Returns columns as a new DataFrame</td>\n",
    "</tr>\n",
    "<tr>\n",
    "<td>s.iloc[0]</td>\n",
    "<td>Selection by position</td>\n",
    "</tr>\n",
    "<tr>\n",
    "<td>s.loc['index_one']</td>\n",
    "<td>Selection by index</td>\n",
    "</tr>\n",
    "<tr>\n",
    "<td>df.iloc[0,:]</td>\n",
    "<td>First row</td>\n",
    "</tr>\n",
    "<tr>\n",
    "<td>df.iloc[0,0]</td>\n",
    "<td>First element of first column</td>\n",
    "</tr>\n",
    "</tbody></table></div>\n",
    "<p><strong>Data Cleaning</strong></p>\n",
    "<div class=\"table-responsive\">\n",
    "<table class=\"table table-bordered\">\n",
    "<tbody><tr>\n",
    "<td>df.columns = ['a','b','c']</td>\n",
    "<td>Rename columns</td>\n",
    "</tr>\n",
    "<tr>\n",
    "<td>pd.isnull()</td>\n",
    "<td> Checks for null Values, Returns Boolean Arrray</td>\n",
    "</tr>\n",
    "<tr>\n",
    "<td>pd.notnull()</td>\n",
    "<td>Opposite of pd.isnull()</td>\n",
    "</tr>\n",
    "<tr>\n",
    "<td>df.dropna()</td>\n",
    "<td>Drop all rows that contain null values</td>\n",
    "</tr>\n",
    "<tr>\n",
    "<td>df.dropna(axis=1)</td>\n",
    "<td>Drop all columns that contain null values</td>\n",
    "</tr>\n",
    "<tr>\n",
    "<td>df.dropna(axis=1,thresh=n)</td>\n",
    "<td>Drop all rows have have less than n non null values</td>\n",
    "</tr>\n",
    "<tr>\n",
    "<td>df.fillna(x)</td>\n",
    "<td>Replace all null values with x</td>\n",
    "</tr>\n",
    "<tr>\n",
    "<td>s.fillna(s.mean())</td>\n",
    "<td>Replace all null values with the mean</td>\n",
    "</tr>\n",
    "<tr>\n",
    "<td>s.astype(float)</td>\n",
    "<td>Convert the datatype of the series to float</td>\n",
    "</tr>\n",
    "<tr>\n",
    "<td>s.replace(1,'one')</td>\n",
    "<td>Replace all values equal to 1 with 'one'</td>\n",
    "</tr>\n",
    "<tr>\n",
    "<td>s.replace([2,3],['two', 'three'])</td>\n",
    "<td>Replace all 2 with 'two' and 3 with 'three'</td>\n",
    "</tr>\n",
    "<tr>\n",
    "<td>df.rename(columns=lambda x: x + 1)</td>\n",
    "<td>Mass renaming of columns</td>\n",
    "</tr>\n",
    "<tr>\n",
    "<td>df.rename(columns={'old_name': 'new_ name'})</td>\n",
    "<td>Selective renaming</td>\n",
    "</tr>\n",
    "<tr>\n",
    "<td>df.set_index('column_one')</td>\n",
    "<td>Change the index</td>\n",
    "</tr>\n",
    "<tr>\n",
    "<td>df.rename(index=lambda x: x + 1)</td>\n",
    "<td>Mass renaming of index</td>\n",
    "</tr>\n",
    "</tbody></table></div>\n",
    "<p><strong>Filter, Sort, and Groupby</strong></p>\n",
    "<div class=\"table-responsive\">\n",
    "<table class=\"table table-bordered\">\n",
    "<tbody><tr>\n",
    "<td>df[df[col] &gt; 0.6]</td>\n",
    "<td>Rows where the column col is greater than 0.6</td>\n",
    "</tr>\n",
    "<tr>\n",
    "<td>df[(df[col] &gt; 0.6) &amp; (df[col] &lt; 0.8)]</td>\n",
    "<td> Rows where 0.8 &gt; col &gt; 0.6</td>\n",
    "</tr>\n",
    "<tr>\n",
    "<td>df.sort_values(col1)</td>\n",
    "<td> Sort values by col1 in ascending order</td>\n",
    "</tr>\n",
    "<tr>\n",
    "<td>df.sort_values(col2,ascending=False)</td>\n",
    "<td> Sort values by col2 in descending order.5</td>\n",
    "</tr>\n",
    "<tr>\n",
    "<td>df.sort_values([col1,col2],ascending=[True,False]) </td>\n",
    "<td> Sort values by col1 in ascending order then col2 in descending order</td>\n",
    "</tr>\n",
    "<tr>\n",
    "<td>df.groupby(col)</td>\n",
    "<td>Returns a groupby object for values from one column</td>\n",
    "</tr>\n",
    "<tr>\n",
    "<td>df.groupby([col1,col2])</td>\n",
    "<td>Returns groupby object for values from multiple columns</td>\n",
    "</tr>\n",
    "<tr>\n",
    "<td>df.groupby(col1)[col2]</td>\n",
    "<td>Returns the mean of the values in col2, grouped by the values in col1</td>\n",
    "</tr>\n",
    "<tr>\n",
    "<td>df.pivot_table(index=col1,values=[col2,col3],aggfunc=mean)</td>\n",
    "<td>Create a pivot table that groups by col1 and calculates the mean of col2 and col3</td>\n",
    "</tr>\n",
    "<tr>\n",
    "<td>df.groupby(col1).agg(np.mean)</td>\n",
    "<td>Find the average across all columns for every unique col1 group</td>\n",
    "</tr>\n",
    "<tr>\n",
    "<td>df.apply(np.mean)</td>\n",
    "<td>Apply the function np.mean() across each column</td>\n",
    "</tr>\n",
    "<tr>\n",
    "<td>nf.apply(np.max,axis=1)</td>\n",
    "<td>Apply the function np.max() across each row</td>\n",
    "</tr>\n",
    "</tbody></table></div>\n",
    "<p><strong>Join/Combine</strong></p>\n",
    "<div class=\"table-responsive\">\n",
    "<table class=\"table table-bordered\">\n",
    "<tbody><tr>\n",
    "<td>df1.append(df2)</td>\n",
    "<td>Add the rows in df1 to the end of df2 (columns should be identical)</td>\n",
    "</tr>\n",
    "<tr>\n",
    "<td>pd.concat([df1, df2],axis=1)</td>\n",
    "<td>Add the columns in df1 to the end of df2 (rows should be identical)</td>\n",
    "</tr>\n",
    "<tr>\n",
    "<td>df1.join(df2,on=col1, how='inner')</td>\n",
    "<td>SQL-style join the columns in df1 with the columns on df2 where the rows for col have identical values. The 'how' can be 'left', 'right', 'outer' or 'inner'</td>\n",
    "</tr>\n",
    "</tbody></table></div>\n",
    "<p><strong>Statistics</strong></p>\n",
    "<div class=\"table-responsive\">\n",
    "<table class=\"table table-bordered\">\n",
    "<tbody><tr>\n",
    "<td>df.describe()</td>\n",
    "<td>Summary statistics for numerical columns</td>\n",
    "</tr>\n",
    "<tr>\n",
    "<td>df.mean()</td>\n",
    "<td>Returns the mean of all columns</td>\n",
    "</tr>\n",
    "<tr>\n",
    "<td>df.corr()</td>\n",
    "<td>Returns the correlation between columns in a DataFrame</td>\n",
    "</tr>\n",
    "<tr>\n",
    "<td>df.count()</td>\n",
    "<td>Returns the number of non-null values in each DataFrame column</td>\n",
    "</tr>\n",
    "<tr>\n",
    "<td>df.max()</td>\n",
    "<td>Returns the highest value in each column</td>\n",
    "</tr>\n",
    "<tr>\n",
    "<td>df.min()</td>\n",
    "<td>Returns the lowest value in each column</td>\n",
    "</tr>\n",
    "<tr>\n",
    "<td>df.median()</td>\n",
    "<td>Returns the median of each column</td>\n",
    "</tr>\n",
    "<tr>\n",
    "<td>df.std()</td>\n",
    "<td>Returns the standard deviation of each column</td>\n",
    "</tr>\n",
    "</tbody></table></div>\n",
    "<p><strong>Importing Data</strong></p>\n",
    "<div class=\"table-responsive\">\n",
    "<table class=\"table table-bordered\">\n",
    "<tbody><tr>\n",
    "<td>pd.read_csv(filename)</td>\n",
    "<td>From a CSV file</td>\n",
    "</tr>\n",
    "<tr>\n",
    "<td>pd.read_table(filename)</td>\n",
    "<td>From a delimited text file (like TSV)</td>\n",
    "</tr>\n",
    "<tr>\n",
    "<td>pd.read_excel(filename)</td>\n",
    "<td>From an Excel file</td>\n",
    "</tr>\n",
    "<tr>\n",
    "<td>pd.read_sql(query, connection_object)</td>\n",
    "<td>Read from a SQL table/database</td>\n",
    "</tr>\n",
    "<tr>\n",
    "<td>pd.read_json(json_string)</td>\n",
    "<td>Read from a JSON formatted string, URL or file.</td>\n",
    "</tr>\n",
    "<tr>\n",
    "<td>pd.read_html(url)</td>\n",
    "<td> Parses an html URL, string or file and extracts tables to a list of dataframes</td>\n",
    "</tr>\n",
    "<tr>\n",
    "<td>pd.read_clipboard() </td>\n",
    "<td>Takes the contents of your clipboard and passes it to read_table()</td>\n",
    "</tr>\n",
    "<tr>\n",
    "<td>pd.DataFrame(dict)</td>\n",
    "<td>From a dict, keys for columns names, values for data as lists</td>\n",
    "</tr>\n",
    "</tbody></table></div>\n",
    "<p><strong>Exporting Data</strong></p>\n",
    "<div class=\"table-responsive\">\n",
    "<table class=\"table table-bordered\">\n",
    "<tbody><tr>\n",
    "<td>df.to_csv(filename)</td>\n",
    "<td>Write to a CSV file</td>\n",
    "</tr>\n",
    "<tr>\n",
    "<td>df.to_excel(filename)</td>\n",
    "<td>Write to an Excel file</td>\n",
    "</tr>\n",
    "<tr>\n",
    "<td>df.to_sql(table_name, connection_object)</td>\n",
    "<td>Write to a SQL table</td>\n",
    "</tr>\n",
    "<tr>\n",
    "<td>df.to_json(filename)</td>\n",
    "<td>Write to a file in JSON format</td>\n",
    "</tr>\n",
    "</tbody></table>\n",
    "</div>\n",
    "    \n",
    "- It supports three data structures:\n",
    "\n",
    "    1. **Series**\n",
    "    2. **Dataframe**\n",
    "    3. **Panel**\n",
    "    \n",
    "## 1. pandas.series(): \n",
    "- Pandas Series is a one-dimensional labeled array capable of holding data of any type (integer, string, float, python objects, etc.). The axis labels are collectively called index. Pandas Series is nothing but a column in an excel sheet.\n",
    "- Labels need not be unique but must be a hashable type. The object supports both integer and label-based indexing and provides a host of methods for performing operations involving the index.\n",
    "- **Syntax** <H4>class pandas.Series(data=None, index=None, dtype=None, name=None, copy=False, fastpath=False)</H4>"
   ]
  },
  {
   "cell_type": "code",
   "execution_count": 2,
   "id": "9d2af055",
   "metadata": {
    "execution": {
     "iopub.execute_input": "2022-09-24T18:53:02.164038Z",
     "iopub.status.busy": "2022-09-24T18:53:02.163624Z",
     "iopub.status.idle": "2022-09-24T18:53:02.173909Z",
     "shell.execute_reply": "2022-09-24T18:53:02.172778Z"
    },
    "papermill": {
     "duration": 0.044429,
     "end_time": "2022-09-24T18:53:02.176513",
     "exception": false,
     "start_time": "2022-09-24T18:53:02.132084",
     "status": "completed"
    },
    "tags": []
   },
   "outputs": [
    {
     "name": "stdout",
     "output_type": "stream",
     "text": [
      "Series:\n",
      "\n",
      " 0     Bhawan\n",
      "1      Singh\n",
      "2    Solanki\n",
      "dtype: object \n",
      "\n",
      "Type of Series:  <class 'pandas.core.series.Series'> \n",
      "\n",
      "Data type of Series:  object\n",
      "Dimension of series:  1\n"
     ]
    }
   ],
   "source": [
    "#Creating Series by using arrray: \n",
    "\n",
    "data=np.array([\"Bhawan\",\"Singh\",\"Solanki\"])\n",
    "\n",
    "s=pd.Series(data)\n",
    "\n",
    "print(\"Series:\\n\\n\",s,\"\\n\\nType of Series: \",type(s),\"\\n\\nData type of Series: \",s.dtype)\n",
    "print(\"Dimension of series: \",s.ndim)"
   ]
  },
  {
   "cell_type": "code",
   "execution_count": 3,
   "id": "c2e37764",
   "metadata": {
    "execution": {
     "iopub.execute_input": "2022-09-24T18:53:02.238796Z",
     "iopub.status.busy": "2022-09-24T18:53:02.238393Z",
     "iopub.status.idle": "2022-09-24T18:53:02.250378Z",
     "shell.execute_reply": "2022-09-24T18:53:02.248913Z"
    },
    "papermill": {
     "duration": 0.045819,
     "end_time": "2022-09-24T18:53:02.252636",
     "exception": false,
     "start_time": "2022-09-24T18:53:02.206817",
     "status": "completed"
    },
    "tags": []
   },
   "outputs": [
    {
     "name": "stdout",
     "output_type": "stream",
     "text": [
      "Series:\n",
      "\n",
      " First Name      Bhawan\n",
      "Middle Name      Singh\n",
      "Last Name      Solanki\n",
      "dtype: object \n",
      "\n",
      "Type of Series:  <class 'pandas.core.series.Series'> \n",
      "Data type of Series:  object\n",
      "Dimension of series:  1\n"
     ]
    }
   ],
   "source": [
    "# Giving the index to the Series data\n",
    "\n",
    "data=np.array([\"Bhawan\",\"Singh\",\"Solanki\"])\n",
    "\n",
    "s1=pd.Series(data,index=[\"First Name\",\"Middle Name\",\"Last Name\"])\n",
    "\n",
    "print(\"Series:\\n\\n\",s1,\"\\n\\nType of Series: \",type(s1),\"\\nData type of Series: \",s1.dtype)\n",
    "print(\"Dimension of series: \",s1.ndim)"
   ]
  },
  {
   "cell_type": "code",
   "execution_count": 4,
   "id": "2a110c0c",
   "metadata": {
    "execution": {
     "iopub.execute_input": "2022-09-24T18:53:02.314303Z",
     "iopub.status.busy": "2022-09-24T18:53:02.313875Z",
     "iopub.status.idle": "2022-09-24T18:53:02.328572Z",
     "shell.execute_reply": "2022-09-24T18:53:02.327130Z"
    },
    "papermill": {
     "duration": 0.048061,
     "end_time": "2022-09-24T18:53:02.330890",
     "exception": false,
     "start_time": "2022-09-24T18:53:02.282829",
     "status": "completed"
    },
    "tags": []
   },
   "outputs": [
    {
     "name": "stdout",
     "output_type": "stream",
     "text": [
      "Series:\n",
      "\n",
      " 0          1\n",
      "1          2\n",
      "2          3\n",
      "3          4\n",
      "4          5\n",
      "5          5\n",
      "6          6\n",
      "7          4\n",
      "8          3\n",
      "9          5\n",
      "10         5\n",
      "11       5.4\n",
      "12       3.2\n",
      "13    bhawan\n",
      "14     singh\n",
      "dtype: object \n",
      "\n",
      "Type of Series:  <class 'pandas.core.series.Series'> \n",
      "Data type of Series:  object\n",
      "Dimension of series:  1\n"
     ]
    }
   ],
   "source": [
    "# Giving List data to Series\n",
    "\n",
    "list1=[1,2,3,4,5,5,6,4,3,5,5,5.4,3.2,\"bhawan\",\"singh\"]\n",
    "s2=pd.Series(list1)\n",
    "print(\"Series:\\n\\n\",s2,\"\\n\\nType of Series: \",type(s2),\"\\nData type of Series: \",s2.dtype)\n",
    "print(\"Dimension of series: \",s2.ndim)"
   ]
  },
  {
   "cell_type": "code",
   "execution_count": 5,
   "id": "14c8a230",
   "metadata": {
    "execution": {
     "iopub.execute_input": "2022-09-24T18:53:02.393144Z",
     "iopub.status.busy": "2022-09-24T18:53:02.392437Z",
     "iopub.status.idle": "2022-09-24T18:53:02.399132Z",
     "shell.execute_reply": "2022-09-24T18:53:02.397730Z"
    },
    "papermill": {
     "duration": 0.040317,
     "end_time": "2022-09-24T18:53:02.401267",
     "exception": false,
     "start_time": "2022-09-24T18:53:02.360950",
     "status": "completed"
    },
    "tags": []
   },
   "outputs": [
    {
     "name": "stdout",
     "output_type": "stream",
     "text": [
      "Series([], dtype: float64)\n"
     ]
    },
    {
     "name": "stderr",
     "output_type": "stream",
     "text": [
      "/opt/conda/lib/python3.7/site-packages/ipykernel_launcher.py:3: DeprecationWarning: The default dtype for empty Series will be 'object' instead of 'float64' in a future version. Specify a dtype explicitly to silence this warning.\n",
      "  This is separate from the ipykernel package so we can avoid doing imports until\n"
     ]
    }
   ],
   "source": [
    "# Creating empty Series:\n",
    "\n",
    "empty_s=pd.Series([])\n",
    "print(empty_s)"
   ]
  },
  {
   "cell_type": "code",
   "execution_count": 6,
   "id": "fa4df661",
   "metadata": {
    "execution": {
     "iopub.execute_input": "2022-09-24T18:53:02.464286Z",
     "iopub.status.busy": "2022-09-24T18:53:02.463853Z",
     "iopub.status.idle": "2022-09-24T18:53:02.471052Z",
     "shell.execute_reply": "2022-09-24T18:53:02.470190Z"
    },
    "papermill": {
     "duration": 0.041774,
     "end_time": "2022-09-24T18:53:02.473355",
     "exception": false,
     "start_time": "2022-09-24T18:53:02.431581",
     "status": "completed"
    },
    "tags": []
   },
   "outputs": [
    {
     "name": "stdout",
     "output_type": "stream",
     "text": [
      "0     1.0\n",
      "1     2.0\n",
      "2     3.0\n",
      "3     4.0\n",
      "4     5.0\n",
      "5     5.0\n",
      "6     6.0\n",
      "7     4.0\n",
      "8     3.0\n",
      "9     5.0\n",
      "10    5.0\n",
      "11    5.4\n",
      "12    3.2\n",
      "Name: Series_s2, dtype: float64\n"
     ]
    }
   ],
   "source": [
    "# GIving name& data type to series:\n",
    "\n",
    "list1=[1,2,3,4,5,5,6,4,3,5,5,5.4,3.2]\n",
    "s2=pd.Series(list1,dtype=float,name=\"Series_s2\")\n",
    "print(s2)"
   ]
  },
  {
   "cell_type": "code",
   "execution_count": 7,
   "id": "73e592b2",
   "metadata": {
    "execution": {
     "iopub.execute_input": "2022-09-24T18:53:02.536225Z",
     "iopub.status.busy": "2022-09-24T18:53:02.535813Z",
     "iopub.status.idle": "2022-09-24T18:53:02.545780Z",
     "shell.execute_reply": "2022-09-24T18:53:02.544708Z"
    },
    "papermill": {
     "duration": 0.043977,
     "end_time": "2022-09-24T18:53:02.548135",
     "exception": false,
     "start_time": "2022-09-24T18:53:02.504158",
     "status": "completed"
    },
    "tags": []
   },
   "outputs": [
    {
     "name": "stdout",
     "output_type": "stream",
     "text": [
      "0    4.5\n",
      "dtype: float64\n",
      "\n",
      "Multiple Scaler value series:\n",
      " 1    4.5\n",
      "2    4.5\n",
      "3    4.5\n",
      "4    4.5\n",
      "5    4.5\n",
      "6    4.5\n",
      "dtype: float64\n"
     ]
    }
   ],
   "source": [
    "#Creating Series with Scalar value:\n",
    "Scalar_s=pd.Series(4.5)\n",
    "print(Scalar_s)\n",
    "\n",
    "Scalar_s=pd.Series(4.5,index=[1,2,3,4,5,6])\n",
    "print(\"\\nMultiple Scaler value series:\\n\",Scalar_s)"
   ]
  },
  {
   "cell_type": "code",
   "execution_count": 8,
   "id": "b9db0a5c",
   "metadata": {
    "execution": {
     "iopub.execute_input": "2022-09-24T18:53:02.611974Z",
     "iopub.status.busy": "2022-09-24T18:53:02.611616Z",
     "iopub.status.idle": "2022-09-24T18:53:02.618596Z",
     "shell.execute_reply": "2022-09-24T18:53:02.617803Z"
    },
    "papermill": {
     "duration": 0.041439,
     "end_time": "2022-09-24T18:53:02.620768",
     "exception": false,
     "start_time": "2022-09-24T18:53:02.579329",
     "status": "completed"
    },
    "tags": []
   },
   "outputs": [
    {
     "name": "stdout",
     "output_type": "stream",
     "text": [
      "\n",
      "Creating Series with Dictionnary:\n",
      " 1    [Bhawan, test]\n",
      "2             Singh\n",
      "3           Solanki\n",
      "dtype: object\n"
     ]
    }
   ],
   "source": [
    "#Creating Series with Dictionary:\n",
    "\n",
    "dict_series=pd.Series({1:[\"Bhawan\",\"test\"],2:\"Singh\",3:\"Solanki\"})\n",
    "print(\"\\nCreating Series with Dictionnary:\\n\",dict_series)\n"
   ]
  },
  {
   "cell_type": "markdown",
   "id": "5c4ebcfb",
   "metadata": {
    "papermill": {
     "duration": 0.030176,
     "end_time": "2022-09-24T18:53:02.681244",
     "exception": false,
     "start_time": "2022-09-24T18:53:02.651068",
     "status": "completed"
    },
    "tags": []
   },
   "source": [
    "#### Atributes of Series\n",
    "***\n",
    "\n",
    "\n",
    "<dd>\n",
    "<table class=\"autosummary longtable table autosummary\">\n",
    "<colgroup>\n",
    "<col style=\"width: 10%\">\n",
    "<col style=\"width: 90%\">\n",
    "</colgroup>\n",
    "<tbody>\n",
    "<tr class=\"row-odd\"><td><p><a class=\"reference internal\" href=\"pandas.Series.T.html#pandas.Series.T\" title=\"pandas.Series.T\"><code class=\"xref py py-obj docutils literal notranslate\"><span class=\"pre\">T</span></code></a></p></td>\n",
    "<td><p>Return the transpose, which is by definition self.</p></td>\n",
    "</tr>\n",
    "<tr class=\"row-even\"><td><p><a class=\"reference internal\" href=\"pandas.Series.array.html#pandas.Series.array\" title=\"pandas.Series.array\"><code class=\"xref py py-obj docutils literal notranslate\"><span class=\"pre\">array</span></code></a></p></td>\n",
    "<td><p>The ExtensionArray of the data backing this Series or Index.</p></td>\n",
    "</tr>\n",
    "<tr class=\"row-odd\"><td><p><a class=\"reference internal\" href=\"pandas.Series.at.html#pandas.Series.at\" title=\"pandas.Series.at\"><code class=\"xref py py-obj docutils literal notranslate\"><span class=\"pre\">at</span></code></a></p></td>\n",
    "<td><p>Access a single value for a row/column label pair.</p></td>\n",
    "</tr>\n",
    "<tr class=\"row-even\"><td><p><a class=\"reference internal\" href=\"pandas.Series.attrs.html#pandas.Series.attrs\" title=\"pandas.Series.attrs\"><code class=\"xref py py-obj docutils literal notranslate\"><span class=\"pre\">attrs</span></code></a></p></td>\n",
    "<td><p>Dictionary of global attributes of this dataset.</p></td>\n",
    "</tr>\n",
    "<tr class=\"row-odd\"><td><p><a class=\"reference internal\" href=\"pandas.Series.axes.html#pandas.Series.axes\" title=\"pandas.Series.axes\"><code class=\"xref py py-obj docutils literal notranslate\"><span class=\"pre\">axes</span></code></a></p></td>\n",
    "<td><p>Return a list of the row axis labels.</p></td>\n",
    "</tr>\n",
    "<tr class=\"row-even\"><td><p><a class=\"reference internal\" href=\"pandas.Series.dtype.html#pandas.Series.dtype\" title=\"pandas.Series.dtype\"><code class=\"xref py py-obj docutils literal notranslate\"><span class=\"pre\">dtype</span></code></a></p></td>\n",
    "<td><p>Return the dtype object of the underlying data.</p></td>\n",
    "</tr>\n",
    "<tr class=\"row-odd\"><td><p><a class=\"reference internal\" href=\"pandas.Series.dtypes.html#pandas.Series.dtypes\" title=\"pandas.Series.dtypes\"><code class=\"xref py py-obj docutils literal notranslate\"><span class=\"pre\">dtypes</span></code></a></p></td>\n",
    "<td><p>Return the dtype object of the underlying data.</p></td>\n",
    "</tr>\n",
    "<tr class=\"row-even\"><td><p><a class=\"reference internal\" href=\"pandas.Series.flags.html#pandas.Series.flags\" title=\"pandas.Series.flags\"><code class=\"xref py py-obj docutils literal notranslate\"><span class=\"pre\">flags</span></code></a></p></td>\n",
    "<td><p>Get the properties associated with this pandas object.</p></td>\n",
    "</tr>\n",
    "<tr class=\"row-odd\"><td><p><a class=\"reference internal\" href=\"pandas.Series.hasnans.html#pandas.Series.hasnans\" title=\"pandas.Series.hasnans\"><code class=\"xref py py-obj docutils literal notranslate\"><span class=\"pre\">hasnans</span></code></a></p></td>\n",
    "<td><p>Return True if there are any NaNs.</p></td>\n",
    "</tr>\n",
    "<tr class=\"row-even\"><td><p><a class=\"reference internal\" href=\"pandas.Series.iat.html#pandas.Series.iat\" title=\"pandas.Series.iat\"><code class=\"xref py py-obj docutils literal notranslate\"><span class=\"pre\">iat</span></code></a></p></td>\n",
    "<td><p>Access a single value for a row/column pair by integer position.</p></td>\n",
    "</tr>\n",
    "<tr class=\"row-odd\"><td><p><a class=\"reference internal\" href=\"pandas.Series.iloc.html#pandas.Series.iloc\" title=\"pandas.Series.iloc\"><code class=\"xref py py-obj docutils literal notranslate\"><span class=\"pre\">iloc</span></code></a></p></td>\n",
    "<td><p>Purely integer-location based indexing for selection by position.</p></td>\n",
    "</tr>\n",
    "<tr class=\"row-even\"><td><p><a class=\"reference internal\" href=\"pandas.Series.index.html#pandas.Series.index\" title=\"pandas.Series.index\"><code class=\"xref py py-obj docutils literal notranslate\"><span class=\"pre\">index</span></code></a></p></td>\n",
    "<td><p>The index (axis labels) of the Series.</p></td>\n",
    "</tr>\n",
    "<tr class=\"row-odd\"><td><p><a class=\"reference internal\" href=\"pandas.Series.is_monotonic.html#pandas.Series.is_monotonic\" title=\"pandas.Series.is_monotonic\"><code class=\"xref py py-obj docutils literal notranslate\"><span class=\"pre\">is_monotonic</span></code></a></p></td>\n",
    "<td><p>(DEPRECATED) Return boolean if values in the object are monotonically increasing.</p></td>\n",
    "</tr>\n",
    "<tr class=\"row-even\"><td><p><a class=\"reference internal\" href=\"pandas.Series.is_monotonic_decreasing.html#pandas.Series.is_monotonic_decreasing\" title=\"pandas.Series.is_monotonic_decreasing\"><code class=\"xref py py-obj docutils literal notranslate\"><span class=\"pre\">is_monotonic_decreasing</span></code></a></p></td>\n",
    "<td><p>Return boolean if values in the object are monotonically decreasing.</p></td>\n",
    "</tr>\n",
    "<tr class=\"row-odd\"><td><p><a class=\"reference internal\" href=\"pandas.Series.is_monotonic_increasing.html#pandas.Series.is_monotonic_increasing\" title=\"pandas.Series.is_monotonic_increasing\"><code class=\"xref py py-obj docutils literal notranslate\"><span class=\"pre\">is_monotonic_increasing</span></code></a></p></td>\n",
    "<td><p>Return boolean if values in the object are monotonically increasing.</p></td>\n",
    "</tr>\n",
    "<tr class=\"row-even\"><td><p><a class=\"reference internal\" href=\"pandas.Series.is_unique.html#pandas.Series.is_unique\" title=\"pandas.Series.is_unique\"><code class=\"xref py py-obj docutils literal notranslate\"><span class=\"pre\">is_unique</span></code></a></p></td>\n",
    "<td><p>Return boolean if values in the object are unique.</p></td>\n",
    "</tr>\n",
    "<tr class=\"row-odd\"><td><p><a class=\"reference internal\" href=\"pandas.Series.loc.html#pandas.Series.loc\" title=\"pandas.Series.loc\"><code class=\"xref py py-obj docutils literal notranslate\"><span class=\"pre\">loc</span></code></a></p></td>\n",
    "<td><p>Access a group of rows and columns by label(s) or a boolean array.</p></td>\n",
    "</tr>\n",
    "<tr class=\"row-even\"><td><p><a class=\"reference internal\" href=\"pandas.Series.name.html#pandas.Series.name\" title=\"pandas.Series.name\"><code class=\"xref py py-obj docutils literal notranslate\"><span class=\"pre\">name</span></code></a></p></td>\n",
    "<td><p>Return the name of the Series.</p></td>\n",
    "</tr>\n",
    "<tr class=\"row-odd\"><td><p><a class=\"reference internal\" href=\"pandas.Series.nbytes.html#pandas.Series.nbytes\" title=\"pandas.Series.nbytes\"><code class=\"xref py py-obj docutils literal notranslate\"><span class=\"pre\">nbytes</span></code></a></p></td>\n",
    "<td><p>Return the number of bytes in the underlying data.</p></td>\n",
    "</tr>\n",
    "<tr class=\"row-even\"><td><p><a class=\"reference internal\" href=\"pandas.Series.ndim.html#pandas.Series.ndim\" title=\"pandas.Series.ndim\"><code class=\"xref py py-obj docutils literal notranslate\"><span class=\"pre\">ndim</span></code></a></p></td>\n",
    "<td><p>Number of dimensions of the underlying data, by definition 1.</p></td>\n",
    "</tr>\n",
    "<tr class=\"row-odd\"><td><p><a class=\"reference internal\" href=\"pandas.Series.shape.html#pandas.Series.shape\" title=\"pandas.Series.shape\"><code class=\"xref py py-obj docutils literal notranslate\"><span class=\"pre\">shape</span></code></a></p></td>\n",
    "<td><p>Return a tuple of the shape of the underlying data.</p></td>\n",
    "</tr>\n",
    "<tr class=\"row-even\"><td><p><a class=\"reference internal\" href=\"pandas.Series.size.html#pandas.Series.size\" title=\"pandas.Series.size\"><code class=\"xref py py-obj docutils literal notranslate\"><span class=\"pre\">size</span></code></a></p></td>\n",
    "<td><p>Return the number of elements in the underlying data.</p></td>\n",
    "</tr>\n",
    "<tr class=\"row-odd\"><td><p><a class=\"reference internal\" href=\"pandas.Series.values.html#pandas.Series.values\" title=\"pandas.Series.values\"><code class=\"xref py py-obj docutils literal notranslate\"><span class=\"pre\">values</span></code></a></p></td>\n",
    "<td><p>Return Series as ndarray or ndarray-like depending on the dtype.</p></td>\n",
    "</tr>\n",
    "</tbody>\n",
    "</table>\n",
    "    </dd>  \n",
    "    \n",
    "#### Methods Of Series\n",
    "*** \n",
    "<dd>    \n",
    "<table class=\"autosummary longtable table autosummary\">\n",
    "<colgroup>\n",
    "<col style=\"width: 10%\">\n",
    "<col style=\"width: 90%\">\n",
    "</colgroup>\n",
    "<tbody>\n",
    "<tr class=\"row-odd\"><td><p><a class=\"reference internal\" href=\"pandas.Series.abs.html#pandas.Series.abs\" title=\"pandas.Series.abs\"><code class=\"xref py py-obj docutils literal notranslate\"><span class=\"pre\">abs</span></code></a>()</p></td>\n",
    "<td><p>Return a Series/DataFrame with absolute numeric value of each element.</p></td>\n",
    "</tr>\n",
    "<tr class=\"row-even\"><td><p><a class=\"reference internal\" href=\"pandas.Series.add.html#pandas.Series.add\" title=\"pandas.Series.add\"><code class=\"xref py py-obj docutils literal notranslate\"><span class=\"pre\">add</span></code></a>(other[,&nbsp;level,&nbsp;fill_value,&nbsp;axis])</p></td>\n",
    "<td><p>Return Addition of series and other, element-wise (binary operator <cite>add</cite>).</p></td>\n",
    "</tr>\n",
    "<tr class=\"row-odd\"><td><p><a class=\"reference internal\" href=\"pandas.Series.add_prefix.html#pandas.Series.add_prefix\" title=\"pandas.Series.add_prefix\"><code class=\"xref py py-obj docutils literal notranslate\"><span class=\"pre\">add_prefix</span></code></a>(prefix)</p></td>\n",
    "<td><p>Prefix labels with string <cite>prefix</cite>.</p></td>\n",
    "</tr>\n",
    "<tr class=\"row-even\"><td><p><a class=\"reference internal\" href=\"pandas.Series.add_suffix.html#pandas.Series.add_suffix\" title=\"pandas.Series.add_suffix\"><code class=\"xref py py-obj docutils literal notranslate\"><span class=\"pre\">add_suffix</span></code></a>(suffix)</p></td>\n",
    "<td><p>Suffix labels with string <cite>suffix</cite>.</p></td>\n",
    "</tr>\n",
    "<tr class=\"row-odd\"><td><p><a class=\"reference internal\" href=\"pandas.Series.agg.html#pandas.Series.agg\" title=\"pandas.Series.agg\"><code class=\"xref py py-obj docutils literal notranslate\"><span class=\"pre\">agg</span></code></a>([func,&nbsp;axis])</p></td>\n",
    "<td><p>Aggregate using one or more operations over the specified axis.</p></td>\n",
    "</tr>\n",
    "<tr class=\"row-even\"><td><p><a class=\"reference internal\" href=\"pandas.Series.aggregate.html#pandas.Series.aggregate\" title=\"pandas.Series.aggregate\"><code class=\"xref py py-obj docutils literal notranslate\"><span class=\"pre\">aggregate</span></code></a>([func,&nbsp;axis])</p></td>\n",
    "<td><p>Aggregate using one or more operations over the specified axis.</p></td>\n",
    "</tr>\n",
    "<tr class=\"row-odd\"><td><p><a class=\"reference internal\" href=\"pandas.Series.align.html#pandas.Series.align\" title=\"pandas.Series.align\"><code class=\"xref py py-obj docutils literal notranslate\"><span class=\"pre\">align</span></code></a>(other[,&nbsp;join,&nbsp;axis,&nbsp;level,&nbsp;copy,&nbsp;...])</p></td>\n",
    "<td><p>Align two objects on their axes with the specified join method.</p></td>\n",
    "</tr>\n",
    "<tr class=\"row-even\"><td><p><a class=\"reference internal\" href=\"pandas.Series.all.html#pandas.Series.all\" title=\"pandas.Series.all\"><code class=\"xref py py-obj docutils literal notranslate\"><span class=\"pre\">all</span></code></a>([axis,&nbsp;bool_only,&nbsp;skipna,&nbsp;level])</p></td>\n",
    "<td><p>Return whether all elements are True, potentially over an axis.</p></td>\n",
    "</tr>\n",
    "<tr class=\"row-odd\"><td><p><a class=\"reference internal\" href=\"pandas.Series.any.html#pandas.Series.any\" title=\"pandas.Series.any\"><code class=\"xref py py-obj docutils literal notranslate\"><span class=\"pre\">any</span></code></a>([axis,&nbsp;bool_only,&nbsp;skipna,&nbsp;level])</p></td>\n",
    "<td><p>Return whether any element is True, potentially over an axis.</p></td>\n",
    "</tr>\n",
    "<tr class=\"row-even\"><td><p><a class=\"reference internal\" href=\"pandas.Series.append.html#pandas.Series.append\" title=\"pandas.Series.append\"><code class=\"xref py py-obj docutils literal notranslate\"><span class=\"pre\">append</span></code></a>(to_append[,&nbsp;ignore_index,&nbsp;...])</p></td>\n",
    "<td><p>(DEPRECATED) Concatenate two or more Series.</p></td>\n",
    "</tr>\n",
    "<tr class=\"row-odd\"><td><p><a class=\"reference internal\" href=\"pandas.Series.apply.html#pandas.Series.apply\" title=\"pandas.Series.apply\"><code class=\"xref py py-obj docutils literal notranslate\"><span class=\"pre\">apply</span></code></a>(func[,&nbsp;convert_dtype,&nbsp;args])</p></td>\n",
    "<td><p>Invoke function on values of Series.</p></td>\n",
    "</tr>\n",
    "<tr class=\"row-even\"><td><p><a class=\"reference internal\" href=\"pandas.Series.argmax.html#pandas.Series.argmax\" title=\"pandas.Series.argmax\"><code class=\"xref py py-obj docutils literal notranslate\"><span class=\"pre\">argmax</span></code></a>([axis,&nbsp;skipna])</p></td>\n",
    "<td><p>Return int position of the largest value in the Series.</p></td>\n",
    "</tr>\n",
    "<tr class=\"row-odd\"><td><p><a class=\"reference internal\" href=\"pandas.Series.argmin.html#pandas.Series.argmin\" title=\"pandas.Series.argmin\"><code class=\"xref py py-obj docutils literal notranslate\"><span class=\"pre\">argmin</span></code></a>([axis,&nbsp;skipna])</p></td>\n",
    "<td><p>Return int position of the smallest value in the Series.</p></td>\n",
    "</tr>\n",
    "<tr class=\"row-even\"><td><p><a class=\"reference internal\" href=\"pandas.Series.argsort.html#pandas.Series.argsort\" title=\"pandas.Series.argsort\"><code class=\"xref py py-obj docutils literal notranslate\"><span class=\"pre\">argsort</span></code></a>([axis,&nbsp;kind,&nbsp;order])</p></td>\n",
    "<td><p>Return the integer indices that would sort the Series values.</p></td>\n",
    "</tr>\n",
    "<tr class=\"row-odd\"><td><p><a class=\"reference internal\" href=\"pandas.Series.asfreq.html#pandas.Series.asfreq\" title=\"pandas.Series.asfreq\"><code class=\"xref py py-obj docutils literal notranslate\"><span class=\"pre\">asfreq</span></code></a>(freq[,&nbsp;method,&nbsp;how,&nbsp;normalize,&nbsp;...])</p></td>\n",
    "<td><p>Convert time series to specified frequency.</p></td>\n",
    "</tr>\n",
    "<tr class=\"row-even\"><td><p><a class=\"reference internal\" href=\"pandas.Series.asof.html#pandas.Series.asof\" title=\"pandas.Series.asof\"><code class=\"xref py py-obj docutils literal notranslate\"><span class=\"pre\">asof</span></code></a>(where[,&nbsp;subset])</p></td>\n",
    "<td><p>Return the last row(s) without any NaNs before <cite>where</cite>.</p></td>\n",
    "</tr>\n",
    "<tr class=\"row-odd\"><td><p><a class=\"reference internal\" href=\"pandas.Series.astype.html#pandas.Series.astype\" title=\"pandas.Series.astype\"><code class=\"xref py py-obj docutils literal notranslate\"><span class=\"pre\">astype</span></code></a>(dtype[,&nbsp;copy,&nbsp;errors])</p></td>\n",
    "<td><p>Cast a pandas object to a specified dtype <code class=\"docutils literal notranslate\"><span class=\"pre\">dtype</span></code>.</p></td>\n",
    "</tr>\n",
    "<tr class=\"row-even\"><td><p><a class=\"reference internal\" href=\"pandas.Series.at_time.html#pandas.Series.at_time\" title=\"pandas.Series.at_time\"><code class=\"xref py py-obj docutils literal notranslate\"><span class=\"pre\">at_time</span></code></a>(time[,&nbsp;asof,&nbsp;axis])</p></td>\n",
    "<td><p>Select values at particular time of day (e.g., 9:30AM).</p></td>\n",
    "</tr>\n",
    "<tr class=\"row-odd\"><td><p><a class=\"reference internal\" href=\"pandas.Series.autocorr.html#pandas.Series.autocorr\" title=\"pandas.Series.autocorr\"><code class=\"xref py py-obj docutils literal notranslate\"><span class=\"pre\">autocorr</span></code></a>([lag])</p></td>\n",
    "<td><p>Compute the lag-N autocorrelation.</p></td>\n",
    "</tr>\n",
    "<tr class=\"row-even\"><td><p><a class=\"reference internal\" href=\"pandas.Series.backfill.html#pandas.Series.backfill\" title=\"pandas.Series.backfill\"><code class=\"xref py py-obj docutils literal notranslate\"><span class=\"pre\">backfill</span></code></a>([axis,&nbsp;inplace,&nbsp;limit,&nbsp;downcast])</p></td>\n",
    "<td><p>Synonym for <a class=\"reference internal\" href=\"pandas.DataFrame.fillna.html#pandas.DataFrame.fillna\" title=\"pandas.DataFrame.fillna\"><code class=\"xref py py-meth docutils literal notranslate\"><span class=\"pre\">DataFrame.fillna()</span></code></a> with <code class=\"docutils literal notranslate\"><span class=\"pre\">method='bfill'</span></code>.</p></td>\n",
    "</tr>\n",
    "<tr class=\"row-odd\"><td><p><a class=\"reference internal\" href=\"pandas.Series.between.html#pandas.Series.between\" title=\"pandas.Series.between\"><code class=\"xref py py-obj docutils literal notranslate\"><span class=\"pre\">between</span></code></a>(left,&nbsp;right[,&nbsp;inclusive])</p></td>\n",
    "<td><p>Return boolean Series equivalent to left &lt;= series &lt;= right.</p></td>\n",
    "</tr>\n",
    "<tr class=\"row-even\"><td><p><a class=\"reference internal\" href=\"pandas.Series.between_time.html#pandas.Series.between_time\" title=\"pandas.Series.between_time\"><code class=\"xref py py-obj docutils literal notranslate\"><span class=\"pre\">between_time</span></code></a>(start_time,&nbsp;end_time[,&nbsp;...])</p></td>\n",
    "<td><p>Select values between particular times of the day (e.g., 9:00-9:30 AM).</p></td>\n",
    "</tr>\n",
    "<tr class=\"row-odd\"><td><p><a class=\"reference internal\" href=\"pandas.Series.bfill.html#pandas.Series.bfill\" title=\"pandas.Series.bfill\"><code class=\"xref py py-obj docutils literal notranslate\"><span class=\"pre\">bfill</span></code></a>([axis,&nbsp;inplace,&nbsp;limit,&nbsp;downcast])</p></td>\n",
    "<td><p>Synonym for <a class=\"reference internal\" href=\"pandas.DataFrame.fillna.html#pandas.DataFrame.fillna\" title=\"pandas.DataFrame.fillna\"><code class=\"xref py py-meth docutils literal notranslate\"><span class=\"pre\">DataFrame.fillna()</span></code></a> with <code class=\"docutils literal notranslate\"><span class=\"pre\">method='bfill'</span></code>.</p></td>\n",
    "</tr>\n",
    "<tr class=\"row-even\"><td><p><a class=\"reference internal\" href=\"pandas.Series.bool.html#pandas.Series.bool\" title=\"pandas.Series.bool\"><code class=\"xref py py-obj docutils literal notranslate\"><span class=\"pre\">bool</span></code></a>()</p></td>\n",
    "<td><p>Return the bool of a single element Series or DataFrame.</p></td>\n",
    "</tr>\n",
    "<tr class=\"row-odd\"><td><p><a class=\"reference internal\" href=\"pandas.Series.cat.html#pandas.Series.cat\" title=\"pandas.Series.cat\"><code class=\"xref py py-obj docutils literal notranslate\"><span class=\"pre\">cat</span></code></a></p></td>\n",
    "<td><p>alias of <code class=\"xref py py-class docutils literal notranslate\"><span class=\"pre\">pandas.core.arrays.categorical.CategoricalAccessor</span></code></p></td>\n",
    "</tr>\n",
    "<tr class=\"row-even\"><td><p><a class=\"reference internal\" href=\"pandas.Series.clip.html#pandas.Series.clip\" title=\"pandas.Series.clip\"><code class=\"xref py py-obj docutils literal notranslate\"><span class=\"pre\">clip</span></code></a>([lower,&nbsp;upper,&nbsp;axis,&nbsp;inplace])</p></td>\n",
    "<td><p>Trim values at input threshold(s).</p></td>\n",
    "</tr>\n",
    "<tr class=\"row-odd\"><td><p><a class=\"reference internal\" href=\"pandas.Series.combine.html#pandas.Series.combine\" title=\"pandas.Series.combine\"><code class=\"xref py py-obj docutils literal notranslate\"><span class=\"pre\">combine</span></code></a>(other,&nbsp;func[,&nbsp;fill_value])</p></td>\n",
    "<td><p>Combine the Series with a Series or scalar according to <cite>func</cite>.</p></td>\n",
    "</tr>\n",
    "<tr class=\"row-even\"><td><p><a class=\"reference internal\" href=\"pandas.Series.combine_first.html#pandas.Series.combine_first\" title=\"pandas.Series.combine_first\"><code class=\"xref py py-obj docutils literal notranslate\"><span class=\"pre\">combine_first</span></code></a>(other)</p></td>\n",
    "<td><p>Update null elements with value in the same location in 'other'.</p></td>\n",
    "</tr>\n",
    "<tr class=\"row-odd\"><td><p><a class=\"reference internal\" href=\"pandas.Series.compare.html#pandas.Series.compare\" title=\"pandas.Series.compare\"><code class=\"xref py py-obj docutils literal notranslate\"><span class=\"pre\">compare</span></code></a>(other[,&nbsp;align_axis,&nbsp;keep_shape,&nbsp;...])</p></td>\n",
    "<td><p>Compare to another Series and show the differences.</p></td>\n",
    "</tr>\n",
    "<tr class=\"row-even\"><td><p><a class=\"reference internal\" href=\"pandas.Series.convert_dtypes.html#pandas.Series.convert_dtypes\" title=\"pandas.Series.convert_dtypes\"><code class=\"xref py py-obj docutils literal notranslate\"><span class=\"pre\">convert_dtypes</span></code></a>([infer_objects,&nbsp;...])</p></td>\n",
    "<td><p>Convert columns to best possible dtypes using dtypes supporting <code class=\"docutils literal notranslate\"><span class=\"pre\">pd.NA</span></code>.</p></td>\n",
    "</tr>\n",
    "<tr class=\"row-odd\"><td><p><a class=\"reference internal\" href=\"pandas.Series.copy.html#pandas.Series.copy\" title=\"pandas.Series.copy\"><code class=\"xref py py-obj docutils literal notranslate\"><span class=\"pre\">copy</span></code></a>([deep])</p></td>\n",
    "<td><p>Make a copy of this object's indices and data.</p></td>\n",
    "</tr>\n",
    "<tr class=\"row-even\"><td><p><a class=\"reference internal\" href=\"pandas.Series.corr.html#pandas.Series.corr\" title=\"pandas.Series.corr\"><code class=\"xref py py-obj docutils literal notranslate\"><span class=\"pre\">corr</span></code></a>(other[,&nbsp;method,&nbsp;min_periods])</p></td>\n",
    "<td><p>Compute correlation with <cite>other</cite> Series, excluding missing values.</p></td>\n",
    "</tr>\n",
    "<tr class=\"row-odd\"><td><p><a class=\"reference internal\" href=\"pandas.Series.count.html#pandas.Series.count\" title=\"pandas.Series.count\"><code class=\"xref py py-obj docutils literal notranslate\"><span class=\"pre\">count</span></code></a>([level])</p></td>\n",
    "<td><p>Return number of non-NA/null observations in the Series.</p></td>\n",
    "</tr>\n",
    "<tr class=\"row-even\"><td><p><a class=\"reference internal\" href=\"pandas.Series.cov.html#pandas.Series.cov\" title=\"pandas.Series.cov\"><code class=\"xref py py-obj docutils literal notranslate\"><span class=\"pre\">cov</span></code></a>(other[,&nbsp;min_periods,&nbsp;ddof])</p></td>\n",
    "<td><p>Compute covariance with Series, excluding missing values.</p></td>\n",
    "</tr>\n",
    "<tr class=\"row-odd\"><td><p><a class=\"reference internal\" href=\"pandas.Series.cummax.html#pandas.Series.cummax\" title=\"pandas.Series.cummax\"><code class=\"xref py py-obj docutils literal notranslate\"><span class=\"pre\">cummax</span></code></a>([axis,&nbsp;skipna])</p></td>\n",
    "<td><p>Return cumulative maximum over a DataFrame or Series axis.</p></td>\n",
    "</tr>\n",
    "<tr class=\"row-even\"><td><p><a class=\"reference internal\" href=\"pandas.Series.cummin.html#pandas.Series.cummin\" title=\"pandas.Series.cummin\"><code class=\"xref py py-obj docutils literal notranslate\"><span class=\"pre\">cummin</span></code></a>([axis,&nbsp;skipna])</p></td>\n",
    "<td><p>Return cumulative minimum over a DataFrame or Series axis.</p></td>\n",
    "</tr>\n",
    "<tr class=\"row-odd\"><td><p><a class=\"reference internal\" href=\"pandas.Series.cumprod.html#pandas.Series.cumprod\" title=\"pandas.Series.cumprod\"><code class=\"xref py py-obj docutils literal notranslate\"><span class=\"pre\">cumprod</span></code></a>([axis,&nbsp;skipna])</p></td>\n",
    "<td><p>Return cumulative product over a DataFrame or Series axis.</p></td>\n",
    "</tr>\n",
    "<tr class=\"row-even\"><td><p><a class=\"reference internal\" href=\"pandas.Series.cumsum.html#pandas.Series.cumsum\" title=\"pandas.Series.cumsum\"><code class=\"xref py py-obj docutils literal notranslate\"><span class=\"pre\">cumsum</span></code></a>([axis,&nbsp;skipna])</p></td>\n",
    "<td><p>Return cumulative sum over a DataFrame or Series axis.</p></td>\n",
    "</tr>\n",
    "<tr class=\"row-odd\"><td><p><a class=\"reference internal\" href=\"pandas.Series.describe.html#pandas.Series.describe\" title=\"pandas.Series.describe\"><code class=\"xref py py-obj docutils literal notranslate\"><span class=\"pre\">describe</span></code></a>([percentiles,&nbsp;include,&nbsp;exclude,&nbsp;...])</p></td>\n",
    "<td><p>Generate descriptive statistics.</p></td>\n",
    "</tr>\n",
    "<tr class=\"row-even\"><td><p><a class=\"reference internal\" href=\"pandas.Series.diff.html#pandas.Series.diff\" title=\"pandas.Series.diff\"><code class=\"xref py py-obj docutils literal notranslate\"><span class=\"pre\">diff</span></code></a>([periods])</p></td>\n",
    "<td><p>First discrete difference of element.</p></td>\n",
    "</tr>\n",
    "<tr class=\"row-odd\"><td><p><a class=\"reference internal\" href=\"pandas.Series.div.html#pandas.Series.div\" title=\"pandas.Series.div\"><code class=\"xref py py-obj docutils literal notranslate\"><span class=\"pre\">div</span></code></a>(other[,&nbsp;level,&nbsp;fill_value,&nbsp;axis])</p></td>\n",
    "<td><p>Return Floating division of series and other, element-wise (binary operator <cite>truediv</cite>).</p></td>\n",
    "</tr>\n",
    "<tr class=\"row-even\"><td><p><a class=\"reference internal\" href=\"pandas.Series.divide.html#pandas.Series.divide\" title=\"pandas.Series.divide\"><code class=\"xref py py-obj docutils literal notranslate\"><span class=\"pre\">divide</span></code></a>(other[,&nbsp;level,&nbsp;fill_value,&nbsp;axis])</p></td>\n",
    "<td><p>Return Floating division of series and other, element-wise (binary operator <cite>truediv</cite>).</p></td>\n",
    "</tr>\n",
    "<tr class=\"row-odd\"><td><p><a class=\"reference internal\" href=\"pandas.Series.divmod.html#pandas.Series.divmod\" title=\"pandas.Series.divmod\"><code class=\"xref py py-obj docutils literal notranslate\"><span class=\"pre\">divmod</span></code></a>(other[,&nbsp;level,&nbsp;fill_value,&nbsp;axis])</p></td>\n",
    "<td><p>Return Integer division and modulo of series and other, element-wise (binary operator <cite>divmod</cite>).</p></td>\n",
    "</tr>\n",
    "<tr class=\"row-even\"><td><p><a class=\"reference internal\" href=\"pandas.Series.dot.html#pandas.Series.dot\" title=\"pandas.Series.dot\"><code class=\"xref py py-obj docutils literal notranslate\"><span class=\"pre\">dot</span></code></a>(other)</p></td>\n",
    "<td><p>Compute the dot product between the Series and the columns of other.</p></td>\n",
    "</tr>\n",
    "<tr class=\"row-odd\"><td><p><a class=\"reference internal\" href=\"pandas.Series.drop.html#pandas.Series.drop\" title=\"pandas.Series.drop\"><code class=\"xref py py-obj docutils literal notranslate\"><span class=\"pre\">drop</span></code></a>([labels,&nbsp;axis,&nbsp;index,&nbsp;columns,&nbsp;level,&nbsp;...])</p></td>\n",
    "<td><p>Return Series with specified index labels removed.</p></td>\n",
    "</tr>\n",
    "<tr class=\"row-even\"><td><p><a class=\"reference internal\" href=\"pandas.Series.drop_duplicates.html#pandas.Series.drop_duplicates\" title=\"pandas.Series.drop_duplicates\"><code class=\"xref py py-obj docutils literal notranslate\"><span class=\"pre\">drop_duplicates</span></code></a>([keep,&nbsp;inplace])</p></td>\n",
    "<td><p>Return Series with duplicate values removed.</p></td>\n",
    "</tr>\n",
    "<tr class=\"row-odd\"><td><p><a class=\"reference internal\" href=\"pandas.Series.droplevel.html#pandas.Series.droplevel\" title=\"pandas.Series.droplevel\"><code class=\"xref py py-obj docutils literal notranslate\"><span class=\"pre\">droplevel</span></code></a>(level[,&nbsp;axis])</p></td>\n",
    "<td><p>Return Series/DataFrame with requested index / column level(s) removed.</p></td>\n",
    "</tr>\n",
    "<tr class=\"row-even\"><td><p><a class=\"reference internal\" href=\"pandas.Series.dropna.html#pandas.Series.dropna\" title=\"pandas.Series.dropna\"><code class=\"xref py py-obj docutils literal notranslate\"><span class=\"pre\">dropna</span></code></a>([axis,&nbsp;inplace,&nbsp;how])</p></td>\n",
    "<td><p>Return a new Series with missing values removed.</p></td>\n",
    "</tr>\n",
    "<tr class=\"row-odd\"><td><p><a class=\"reference internal\" href=\"pandas.Series.dt.html#pandas.Series.dt\" title=\"pandas.Series.dt\"><code class=\"xref py py-obj docutils literal notranslate\"><span class=\"pre\">dt</span></code></a></p></td>\n",
    "<td><p>alias of <code class=\"xref py py-class docutils literal notranslate\"><span class=\"pre\">pandas.core.indexes.accessors.CombinedDatetimelikeProperties</span></code></p></td>\n",
    "</tr>\n",
    "<tr class=\"row-even\"><td><p><a class=\"reference internal\" href=\"pandas.Series.duplicated.html#pandas.Series.duplicated\" title=\"pandas.Series.duplicated\"><code class=\"xref py py-obj docutils literal notranslate\"><span class=\"pre\">duplicated</span></code></a>([keep])</p></td>\n",
    "<td><p>Indicate duplicate Series values.</p></td>\n",
    "</tr>\n",
    "<tr class=\"row-odd\"><td><p><a class=\"reference internal\" href=\"pandas.Series.eq.html#pandas.Series.eq\" title=\"pandas.Series.eq\"><code class=\"xref py py-obj docutils literal notranslate\"><span class=\"pre\">eq</span></code></a>(other[,&nbsp;level,&nbsp;fill_value,&nbsp;axis])</p></td>\n",
    "<td><p>Return Equal to of series and other, element-wise (binary operator <cite>eq</cite>).</p></td>\n",
    "</tr>\n",
    "<tr class=\"row-even\"><td><p><a class=\"reference internal\" href=\"pandas.Series.equals.html#pandas.Series.equals\" title=\"pandas.Series.equals\"><code class=\"xref py py-obj docutils literal notranslate\"><span class=\"pre\">equals</span></code></a>(other)</p></td>\n",
    "<td><p>Test whether two objects contain the same elements.</p></td>\n",
    "</tr>\n",
    "<tr class=\"row-odd\"><td><p><a class=\"reference internal\" href=\"pandas.Series.ewm.html#pandas.Series.ewm\" title=\"pandas.Series.ewm\"><code class=\"xref py py-obj docutils literal notranslate\"><span class=\"pre\">ewm</span></code></a>([com,&nbsp;span,&nbsp;halflife,&nbsp;alpha,&nbsp;...])</p></td>\n",
    "<td><p>Provide exponentially weighted (EW) calculations.</p></td>\n",
    "</tr>\n",
    "<tr class=\"row-even\"><td><p><a class=\"reference internal\" href=\"pandas.Series.expanding.html#pandas.Series.expanding\" title=\"pandas.Series.expanding\"><code class=\"xref py py-obj docutils literal notranslate\"><span class=\"pre\">expanding</span></code></a>([min_periods,&nbsp;center,&nbsp;axis,&nbsp;method])</p></td>\n",
    "<td><p>Provide expanding window calculations.</p></td>\n",
    "</tr>\n",
    "<tr class=\"row-odd\"><td><p><a class=\"reference internal\" href=\"pandas.Series.explode.html#pandas.Series.explode\" title=\"pandas.Series.explode\"><code class=\"xref py py-obj docutils literal notranslate\"><span class=\"pre\">explode</span></code></a>([ignore_index])</p></td>\n",
    "<td><p>Transform each element of a list-like to a row.</p></td>\n",
    "</tr>\n",
    "<tr class=\"row-even\"><td><p><a class=\"reference internal\" href=\"pandas.Series.factorize.html#pandas.Series.factorize\" title=\"pandas.Series.factorize\"><code class=\"xref py py-obj docutils literal notranslate\"><span class=\"pre\">factorize</span></code></a>([sort,&nbsp;na_sentinel,&nbsp;use_na_sentinel])</p></td>\n",
    "<td><p>Encode the object as an enumerated type or categorical variable.</p></td>\n",
    "</tr>\n",
    "<tr class=\"row-odd\"><td><p><a class=\"reference internal\" href=\"pandas.Series.ffill.html#pandas.Series.ffill\" title=\"pandas.Series.ffill\"><code class=\"xref py py-obj docutils literal notranslate\"><span class=\"pre\">ffill</span></code></a>([axis,&nbsp;inplace,&nbsp;limit,&nbsp;downcast])</p></td>\n",
    "<td><p>Synonym for <a class=\"reference internal\" href=\"pandas.DataFrame.fillna.html#pandas.DataFrame.fillna\" title=\"pandas.DataFrame.fillna\"><code class=\"xref py py-meth docutils literal notranslate\"><span class=\"pre\">DataFrame.fillna()</span></code></a> with <code class=\"docutils literal notranslate\"><span class=\"pre\">method='ffill'</span></code>.</p></td>\n",
    "</tr>\n",
    "<tr class=\"row-even\"><td><p><a class=\"reference internal\" href=\"pandas.Series.fillna.html#pandas.Series.fillna\" title=\"pandas.Series.fillna\"><code class=\"xref py py-obj docutils literal notranslate\"><span class=\"pre\">fillna</span></code></a>([value,&nbsp;method,&nbsp;axis,&nbsp;inplace,&nbsp;...])</p></td>\n",
    "<td><p>Fill NA/NaN values using the specified method.</p></td>\n",
    "</tr>\n",
    "<tr class=\"row-odd\"><td><p><a class=\"reference internal\" href=\"pandas.Series.filter.html#pandas.Series.filter\" title=\"pandas.Series.filter\"><code class=\"xref py py-obj docutils literal notranslate\"><span class=\"pre\">filter</span></code></a>([items,&nbsp;like,&nbsp;regex,&nbsp;axis])</p></td>\n",
    "<td><p>Subset the dataframe rows or columns according to the specified index labels.</p></td>\n",
    "</tr>\n",
    "<tr class=\"row-even\"><td><p><a class=\"reference internal\" href=\"pandas.Series.first.html#pandas.Series.first\" title=\"pandas.Series.first\"><code class=\"xref py py-obj docutils literal notranslate\"><span class=\"pre\">first</span></code></a>(offset)</p></td>\n",
    "<td><p>Select initial periods of time series data based on a date offset.</p></td>\n",
    "</tr>\n",
    "<tr class=\"row-odd\"><td><p><a class=\"reference internal\" href=\"pandas.Series.first_valid_index.html#pandas.Series.first_valid_index\" title=\"pandas.Series.first_valid_index\"><code class=\"xref py py-obj docutils literal notranslate\"><span class=\"pre\">first_valid_index</span></code></a>()</p></td>\n",
    "<td><p>Return index for first non-NA value or None, if no non-NA value is found.</p></td>\n",
    "</tr>\n",
    "<tr class=\"row-even\"><td><p><a class=\"reference internal\" href=\"pandas.Series.floordiv.html#pandas.Series.floordiv\" title=\"pandas.Series.floordiv\"><code class=\"xref py py-obj docutils literal notranslate\"><span class=\"pre\">floordiv</span></code></a>(other[,&nbsp;level,&nbsp;fill_value,&nbsp;axis])</p></td>\n",
    "<td><p>Return Integer division of series and other, element-wise (binary operator <cite>floordiv</cite>).</p></td>\n",
    "</tr>\n",
    "<tr class=\"row-odd\"><td><p><a class=\"reference internal\" href=\"pandas.Series.ge.html#pandas.Series.ge\" title=\"pandas.Series.ge\"><code class=\"xref py py-obj docutils literal notranslate\"><span class=\"pre\">ge</span></code></a>(other[,&nbsp;level,&nbsp;fill_value,&nbsp;axis])</p></td>\n",
    "<td><p>Return Greater than or equal to of series and other, element-wise (binary operator <cite>ge</cite>).</p></td>\n",
    "</tr>\n",
    "<tr class=\"row-even\"><td><p><a class=\"reference internal\" href=\"pandas.Series.get.html#pandas.Series.get\" title=\"pandas.Series.get\"><code class=\"xref py py-obj docutils literal notranslate\"><span class=\"pre\">get</span></code></a>(key[,&nbsp;default])</p></td>\n",
    "<td><p>Get item from object for given key (ex: DataFrame column).</p></td>\n",
    "</tr>\n",
    "<tr class=\"row-odd\"><td><p><a class=\"reference internal\" href=\"pandas.Series.groupby.html#pandas.Series.groupby\" title=\"pandas.Series.groupby\"><code class=\"xref py py-obj docutils literal notranslate\"><span class=\"pre\">groupby</span></code></a>([by,&nbsp;axis,&nbsp;level,&nbsp;as_index,&nbsp;sort,&nbsp;...])</p></td>\n",
    "<td><p>Group Series using a mapper or by a Series of columns.</p></td>\n",
    "</tr>\n",
    "<tr class=\"row-even\"><td><p><a class=\"reference internal\" href=\"pandas.Series.gt.html#pandas.Series.gt\" title=\"pandas.Series.gt\"><code class=\"xref py py-obj docutils literal notranslate\"><span class=\"pre\">gt</span></code></a>(other[,&nbsp;level,&nbsp;fill_value,&nbsp;axis])</p></td>\n",
    "<td><p>Return Greater than of series and other, element-wise (binary operator <cite>gt</cite>).</p></td>\n",
    "</tr>\n",
    "<tr class=\"row-odd\"><td><p><a class=\"reference internal\" href=\"pandas.Series.head.html#pandas.Series.head\" title=\"pandas.Series.head\"><code class=\"xref py py-obj docutils literal notranslate\"><span class=\"pre\">head</span></code></a>([n])</p></td>\n",
    "<td><p>Return the first <cite>n</cite> rows.</p></td>\n",
    "</tr>\n",
    "<tr class=\"row-even\"><td><p><a class=\"reference internal\" href=\"pandas.Series.hist.html#pandas.Series.hist\" title=\"pandas.Series.hist\"><code class=\"xref py py-obj docutils literal notranslate\"><span class=\"pre\">hist</span></code></a>([by,&nbsp;ax,&nbsp;grid,&nbsp;xlabelsize,&nbsp;xrot,&nbsp;...])</p></td>\n",
    "<td><p>Draw histogram of the input series using matplotlib.</p></td>\n",
    "</tr>\n",
    "<tr class=\"row-odd\"><td><p><a class=\"reference internal\" href=\"pandas.Series.idxmax.html#pandas.Series.idxmax\" title=\"pandas.Series.idxmax\"><code class=\"xref py py-obj docutils literal notranslate\"><span class=\"pre\">idxmax</span></code></a>([axis,&nbsp;skipna])</p></td>\n",
    "<td><p>Return the row label of the maximum value.</p></td>\n",
    "</tr>\n",
    "<tr class=\"row-even\"><td><p><a class=\"reference internal\" href=\"pandas.Series.idxmin.html#pandas.Series.idxmin\" title=\"pandas.Series.idxmin\"><code class=\"xref py py-obj docutils literal notranslate\"><span class=\"pre\">idxmin</span></code></a>([axis,&nbsp;skipna])</p></td>\n",
    "<td><p>Return the row label of the minimum value.</p></td>\n",
    "</tr>\n",
    "<tr class=\"row-odd\"><td><p><a class=\"reference internal\" href=\"pandas.Series.infer_objects.html#pandas.Series.infer_objects\" title=\"pandas.Series.infer_objects\"><code class=\"xref py py-obj docutils literal notranslate\"><span class=\"pre\">infer_objects</span></code></a>()</p></td>\n",
    "<td><p>Attempt to infer better dtypes for object columns.</p></td>\n",
    "</tr>\n",
    "<tr class=\"row-even\"><td><p><a class=\"reference internal\" href=\"pandas.Series.info.html#pandas.Series.info\" title=\"pandas.Series.info\"><code class=\"xref py py-obj docutils literal notranslate\"><span class=\"pre\">info</span></code></a>([verbose,&nbsp;buf,&nbsp;max_cols,&nbsp;memory_usage,&nbsp;...])</p></td>\n",
    "<td><p>Print a concise summary of a Series.</p></td>\n",
    "</tr>\n",
    "<tr class=\"row-odd\"><td><p><a class=\"reference internal\" href=\"pandas.Series.interpolate.html#pandas.Series.interpolate\" title=\"pandas.Series.interpolate\"><code class=\"xref py py-obj docutils literal notranslate\"><span class=\"pre\">interpolate</span></code></a>([method,&nbsp;axis,&nbsp;limit,&nbsp;inplace,&nbsp;...])</p></td>\n",
    "<td><p>Fill NaN values using an interpolation method.</p></td>\n",
    "</tr>\n",
    "<tr class=\"row-even\"><td><p><a class=\"reference internal\" href=\"pandas.Series.isin.html#pandas.Series.isin\" title=\"pandas.Series.isin\"><code class=\"xref py py-obj docutils literal notranslate\"><span class=\"pre\">isin</span></code></a>(values)</p></td>\n",
    "<td><p>Whether elements in Series are contained in <cite>values</cite>.</p></td>\n",
    "</tr>\n",
    "<tr class=\"row-odd\"><td><p><a class=\"reference internal\" href=\"pandas.Series.isna.html#pandas.Series.isna\" title=\"pandas.Series.isna\"><code class=\"xref py py-obj docutils literal notranslate\"><span class=\"pre\">isna</span></code></a>()</p></td>\n",
    "<td><p>Detect missing values.</p></td>\n",
    "</tr>\n",
    "<tr class=\"row-even\"><td><p><a class=\"reference internal\" href=\"pandas.Series.isnull.html#pandas.Series.isnull\" title=\"pandas.Series.isnull\"><code class=\"xref py py-obj docutils literal notranslate\"><span class=\"pre\">isnull</span></code></a>()</p></td>\n",
    "<td><p>Series.isnull is an alias for Series.isna.</p></td>\n",
    "</tr>\n",
    "<tr class=\"row-odd\"><td><p><a class=\"reference internal\" href=\"pandas.Series.item.html#pandas.Series.item\" title=\"pandas.Series.item\"><code class=\"xref py py-obj docutils literal notranslate\"><span class=\"pre\">item</span></code></a>()</p></td>\n",
    "<td><p>Return the first element of the underlying data as a Python scalar.</p></td>\n",
    "</tr>\n",
    "<tr class=\"row-even\"><td><p><a class=\"reference internal\" href=\"pandas.Series.items.html#pandas.Series.items\" title=\"pandas.Series.items\"><code class=\"xref py py-obj docutils literal notranslate\"><span class=\"pre\">items</span></code></a>()</p></td>\n",
    "<td><p>Lazily iterate over (index, value) tuples.</p></td>\n",
    "</tr>\n",
    "<tr class=\"row-odd\"><td><p><a class=\"reference internal\" href=\"pandas.Series.iteritems.html#pandas.Series.iteritems\" title=\"pandas.Series.iteritems\"><code class=\"xref py py-obj docutils literal notranslate\"><span class=\"pre\">iteritems</span></code></a>()</p></td>\n",
    "<td><p>(DEPRECATED) Lazily iterate over (index, value) tuples.</p></td>\n",
    "</tr>\n",
    "<tr class=\"row-even\"><td><p><a class=\"reference internal\" href=\"pandas.Series.keys.html#pandas.Series.keys\" title=\"pandas.Series.keys\"><code class=\"xref py py-obj docutils literal notranslate\"><span class=\"pre\">keys</span></code></a>()</p></td>\n",
    "<td><p>Return alias for index.</p></td>\n",
    "</tr>\n",
    "<tr class=\"row-odd\"><td><p><a class=\"reference internal\" href=\"pandas.Series.kurt.html#pandas.Series.kurt\" title=\"pandas.Series.kurt\"><code class=\"xref py py-obj docutils literal notranslate\"><span class=\"pre\">kurt</span></code></a>([axis,&nbsp;skipna,&nbsp;level,&nbsp;numeric_only])</p></td>\n",
    "<td><p>Return unbiased kurtosis over requested axis.</p></td>\n",
    "</tr>\n",
    "<tr class=\"row-even\"><td><p><a class=\"reference internal\" href=\"pandas.Series.kurtosis.html#pandas.Series.kurtosis\" title=\"pandas.Series.kurtosis\"><code class=\"xref py py-obj docutils literal notranslate\"><span class=\"pre\">kurtosis</span></code></a>([axis,&nbsp;skipna,&nbsp;level,&nbsp;numeric_only])</p></td>\n",
    "<td><p>Return unbiased kurtosis over requested axis.</p></td>\n",
    "</tr>\n",
    "<tr class=\"row-odd\"><td><p><a class=\"reference internal\" href=\"pandas.Series.last.html#pandas.Series.last\" title=\"pandas.Series.last\"><code class=\"xref py py-obj docutils literal notranslate\"><span class=\"pre\">last</span></code></a>(offset)</p></td>\n",
    "<td><p>Select final periods of time series data based on a date offset.</p></td>\n",
    "</tr>\n",
    "<tr class=\"row-even\"><td><p><a class=\"reference internal\" href=\"pandas.Series.last_valid_index.html#pandas.Series.last_valid_index\" title=\"pandas.Series.last_valid_index\"><code class=\"xref py py-obj docutils literal notranslate\"><span class=\"pre\">last_valid_index</span></code></a>()</p></td>\n",
    "<td><p>Return index for last non-NA value or None, if no non-NA value is found.</p></td>\n",
    "</tr>\n",
    "<tr class=\"row-odd\"><td><p><a class=\"reference internal\" href=\"pandas.Series.le.html#pandas.Series.le\" title=\"pandas.Series.le\"><code class=\"xref py py-obj docutils literal notranslate\"><span class=\"pre\">le</span></code></a>(other[,&nbsp;level,&nbsp;fill_value,&nbsp;axis])</p></td>\n",
    "<td><p>Return Less than or equal to of series and other, element-wise (binary operator <cite>le</cite>).</p></td>\n",
    "</tr>\n",
    "<tr class=\"row-even\"><td><p><a class=\"reference internal\" href=\"pandas.Series.lt.html#pandas.Series.lt\" title=\"pandas.Series.lt\"><code class=\"xref py py-obj docutils literal notranslate\"><span class=\"pre\">lt</span></code></a>(other[,&nbsp;level,&nbsp;fill_value,&nbsp;axis])</p></td>\n",
    "<td><p>Return Less than of series and other, element-wise (binary operator <cite>lt</cite>).</p></td>\n",
    "</tr>\n",
    "<tr class=\"row-odd\"><td><p><a class=\"reference internal\" href=\"pandas.Series.mad.html#pandas.Series.mad\" title=\"pandas.Series.mad\"><code class=\"xref py py-obj docutils literal notranslate\"><span class=\"pre\">mad</span></code></a>([axis,&nbsp;skipna,&nbsp;level])</p></td>\n",
    "<td><p>(DEPRECATED) Return the mean absolute deviation of the values over the requested axis.</p></td>\n",
    "</tr>\n",
    "<tr class=\"row-even\"><td><p><a class=\"reference internal\" href=\"pandas.Series.map.html#pandas.Series.map\" title=\"pandas.Series.map\"><code class=\"xref py py-obj docutils literal notranslate\"><span class=\"pre\">map</span></code></a>(arg[,&nbsp;na_action])</p></td>\n",
    "<td><p>Map values of Series according to an input mapping or function.</p></td>\n",
    "</tr>\n",
    "<tr class=\"row-odd\"><td><p><a class=\"reference internal\" href=\"pandas.Series.mask.html#pandas.Series.mask\" title=\"pandas.Series.mask\"><code class=\"xref py py-obj docutils literal notranslate\"><span class=\"pre\">mask</span></code></a>(cond[,&nbsp;other,&nbsp;inplace,&nbsp;axis,&nbsp;level,&nbsp;...])</p></td>\n",
    "<td><p>Replace values where the condition is True.</p></td>\n",
    "</tr>\n",
    "<tr class=\"row-even\"><td><p><a class=\"reference internal\" href=\"pandas.Series.max.html#pandas.Series.max\" title=\"pandas.Series.max\"><code class=\"xref py py-obj docutils literal notranslate\"><span class=\"pre\">max</span></code></a>([axis,&nbsp;skipna,&nbsp;level,&nbsp;numeric_only])</p></td>\n",
    "<td><p>Return the maximum of the values over the requested axis.</p></td>\n",
    "</tr>\n",
    "<tr class=\"row-odd\"><td><p><a class=\"reference internal\" href=\"pandas.Series.mean.html#pandas.Series.mean\" title=\"pandas.Series.mean\"><code class=\"xref py py-obj docutils literal notranslate\"><span class=\"pre\">mean</span></code></a>([axis,&nbsp;skipna,&nbsp;level,&nbsp;numeric_only])</p></td>\n",
    "<td><p>Return the mean of the values over the requested axis.</p></td>\n",
    "</tr>\n",
    "<tr class=\"row-even\"><td><p><a class=\"reference internal\" href=\"pandas.Series.median.html#pandas.Series.median\" title=\"pandas.Series.median\"><code class=\"xref py py-obj docutils literal notranslate\"><span class=\"pre\">median</span></code></a>([axis,&nbsp;skipna,&nbsp;level,&nbsp;numeric_only])</p></td>\n",
    "<td><p>Return the median of the values over the requested axis.</p></td>\n",
    "</tr>\n",
    "<tr class=\"row-odd\"><td><p><a class=\"reference internal\" href=\"pandas.Series.memory_usage.html#pandas.Series.memory_usage\" title=\"pandas.Series.memory_usage\"><code class=\"xref py py-obj docutils literal notranslate\"><span class=\"pre\">memory_usage</span></code></a>([index,&nbsp;deep])</p></td>\n",
    "<td><p>Return the memory usage of the Series.</p></td>\n",
    "</tr>\n",
    "<tr class=\"row-even\"><td><p><a class=\"reference internal\" href=\"pandas.Series.min.html#pandas.Series.min\" title=\"pandas.Series.min\"><code class=\"xref py py-obj docutils literal notranslate\"><span class=\"pre\">min</span></code></a>([axis,&nbsp;skipna,&nbsp;level,&nbsp;numeric_only])</p></td>\n",
    "<td><p>Return the minimum of the values over the requested axis.</p></td>\n",
    "</tr>\n",
    "<tr class=\"row-odd\"><td><p><a class=\"reference internal\" href=\"pandas.Series.mod.html#pandas.Series.mod\" title=\"pandas.Series.mod\"><code class=\"xref py py-obj docutils literal notranslate\"><span class=\"pre\">mod</span></code></a>(other[,&nbsp;level,&nbsp;fill_value,&nbsp;axis])</p></td>\n",
    "<td><p>Return Modulo of series and other, element-wise (binary operator <cite>mod</cite>).</p></td>\n",
    "</tr>\n",
    "<tr class=\"row-even\"><td><p><a class=\"reference internal\" href=\"pandas.Series.mode.html#pandas.Series.mode\" title=\"pandas.Series.mode\"><code class=\"xref py py-obj docutils literal notranslate\"><span class=\"pre\">mode</span></code></a>([dropna])</p></td>\n",
    "<td><p>Return the mode(s) of the Series.</p></td>\n",
    "</tr>\n",
    "<tr class=\"row-odd\"><td><p><a class=\"reference internal\" href=\"pandas.Series.mul.html#pandas.Series.mul\" title=\"pandas.Series.mul\"><code class=\"xref py py-obj docutils literal notranslate\"><span class=\"pre\">mul</span></code></a>(other[,&nbsp;level,&nbsp;fill_value,&nbsp;axis])</p></td>\n",
    "<td><p>Return Multiplication of series and other, element-wise (binary operator <cite>mul</cite>).</p></td>\n",
    "</tr>\n",
    "<tr class=\"row-even\"><td><p><a class=\"reference internal\" href=\"pandas.Series.multiply.html#pandas.Series.multiply\" title=\"pandas.Series.multiply\"><code class=\"xref py py-obj docutils literal notranslate\"><span class=\"pre\">multiply</span></code></a>(other[,&nbsp;level,&nbsp;fill_value,&nbsp;axis])</p></td>\n",
    "<td><p>Return Multiplication of series and other, element-wise (binary operator <cite>mul</cite>).</p></td>\n",
    "</tr>\n",
    "<tr class=\"row-odd\"><td><p><a class=\"reference internal\" href=\"pandas.Series.ne.html#pandas.Series.ne\" title=\"pandas.Series.ne\"><code class=\"xref py py-obj docutils literal notranslate\"><span class=\"pre\">ne</span></code></a>(other[,&nbsp;level,&nbsp;fill_value,&nbsp;axis])</p></td>\n",
    "<td><p>Return Not equal to of series and other, element-wise (binary operator <cite>ne</cite>).</p></td>\n",
    "</tr>\n",
    "<tr class=\"row-even\"><td><p><a class=\"reference internal\" href=\"pandas.Series.nlargest.html#pandas.Series.nlargest\" title=\"pandas.Series.nlargest\"><code class=\"xref py py-obj docutils literal notranslate\"><span class=\"pre\">nlargest</span></code></a>([n,&nbsp;keep])</p></td>\n",
    "<td><p>Return the largest <cite>n</cite> elements.</p></td>\n",
    "</tr>\n",
    "<tr class=\"row-odd\"><td><p><a class=\"reference internal\" href=\"pandas.Series.notna.html#pandas.Series.notna\" title=\"pandas.Series.notna\"><code class=\"xref py py-obj docutils literal notranslate\"><span class=\"pre\">notna</span></code></a>()</p></td>\n",
    "<td><p>Detect existing (non-missing) values.</p></td>\n",
    "</tr>\n",
    "<tr class=\"row-even\"><td><p><a class=\"reference internal\" href=\"pandas.Series.notnull.html#pandas.Series.notnull\" title=\"pandas.Series.notnull\"><code class=\"xref py py-obj docutils literal notranslate\"><span class=\"pre\">notnull</span></code></a>()</p></td>\n",
    "<td><p>Series.notnull is an alias for Series.notna.</p></td>\n",
    "</tr>\n",
    "<tr class=\"row-odd\"><td><p><a class=\"reference internal\" href=\"pandas.Series.nsmallest.html#pandas.Series.nsmallest\" title=\"pandas.Series.nsmallest\"><code class=\"xref py py-obj docutils literal notranslate\"><span class=\"pre\">nsmallest</span></code></a>([n,&nbsp;keep])</p></td>\n",
    "<td><p>Return the smallest <cite>n</cite> elements.</p></td>\n",
    "</tr>\n",
    "<tr class=\"row-even\"><td><p><a class=\"reference internal\" href=\"pandas.Series.nunique.html#pandas.Series.nunique\" title=\"pandas.Series.nunique\"><code class=\"xref py py-obj docutils literal notranslate\"><span class=\"pre\">nunique</span></code></a>([dropna])</p></td>\n",
    "<td><p>Return number of unique elements in the object.</p></td>\n",
    "</tr>\n",
    "<tr class=\"row-odd\"><td><p><a class=\"reference internal\" href=\"pandas.Series.pad.html#pandas.Series.pad\" title=\"pandas.Series.pad\"><code class=\"xref py py-obj docutils literal notranslate\"><span class=\"pre\">pad</span></code></a>([axis,&nbsp;inplace,&nbsp;limit,&nbsp;downcast])</p></td>\n",
    "<td><p>Synonym for <a class=\"reference internal\" href=\"pandas.DataFrame.fillna.html#pandas.DataFrame.fillna\" title=\"pandas.DataFrame.fillna\"><code class=\"xref py py-meth docutils literal notranslate\"><span class=\"pre\">DataFrame.fillna()</span></code></a> with <code class=\"docutils literal notranslate\"><span class=\"pre\">method='ffill'</span></code>.</p></td>\n",
    "</tr>\n",
    "<tr class=\"row-even\"><td><p><a class=\"reference internal\" href=\"pandas.Series.pct_change.html#pandas.Series.pct_change\" title=\"pandas.Series.pct_change\"><code class=\"xref py py-obj docutils literal notranslate\"><span class=\"pre\">pct_change</span></code></a>([periods,&nbsp;fill_method,&nbsp;limit,&nbsp;freq])</p></td>\n",
    "<td><p>Percentage change between the current and a prior element.</p></td>\n",
    "</tr>\n",
    "<tr class=\"row-odd\"><td><p><a class=\"reference internal\" href=\"pandas.Series.pipe.html#pandas.Series.pipe\" title=\"pandas.Series.pipe\"><code class=\"xref py py-obj docutils literal notranslate\"><span class=\"pre\">pipe</span></code></a>(func,&nbsp;*args,&nbsp;**kwargs)</p></td>\n",
    "<td><p>Apply chainable functions that expect Series or DataFrames.</p></td>\n",
    "</tr>\n",
    "<tr class=\"row-even\"><td><p><a class=\"reference internal\" href=\"pandas.Series.plot.html#pandas.Series.plot\" title=\"pandas.Series.plot\"><code class=\"xref py py-obj docutils literal notranslate\"><span class=\"pre\">plot</span></code></a></p></td>\n",
    "<td><p>alias of <code class=\"xref py py-class docutils literal notranslate\"><span class=\"pre\">pandas.plotting._core.PlotAccessor</span></code></p></td>\n",
    "</tr>\n",
    "<tr class=\"row-odd\"><td><p><a class=\"reference internal\" href=\"pandas.Series.pop.html#pandas.Series.pop\" title=\"pandas.Series.pop\"><code class=\"xref py py-obj docutils literal notranslate\"><span class=\"pre\">pop</span></code></a>(item)</p></td>\n",
    "<td><p>Return item and drops from series.</p></td>\n",
    "</tr>\n",
    "<tr class=\"row-even\"><td><p><a class=\"reference internal\" href=\"pandas.Series.pow.html#pandas.Series.pow\" title=\"pandas.Series.pow\"><code class=\"xref py py-obj docutils literal notranslate\"><span class=\"pre\">pow</span></code></a>(other[,&nbsp;level,&nbsp;fill_value,&nbsp;axis])</p></td>\n",
    "<td><p>Return Exponential power of series and other, element-wise (binary operator <cite>pow</cite>).</p></td>\n",
    "</tr>\n",
    "<tr class=\"row-odd\"><td><p><a class=\"reference internal\" href=\"pandas.Series.prod.html#pandas.Series.prod\" title=\"pandas.Series.prod\"><code class=\"xref py py-obj docutils literal notranslate\"><span class=\"pre\">prod</span></code></a>([axis,&nbsp;skipna,&nbsp;level,&nbsp;numeric_only,&nbsp;...])</p></td>\n",
    "<td><p>Return the product of the values over the requested axis.</p></td>\n",
    "</tr>\n",
    "<tr class=\"row-even\"><td><p><a class=\"reference internal\" href=\"pandas.Series.product.html#pandas.Series.product\" title=\"pandas.Series.product\"><code class=\"xref py py-obj docutils literal notranslate\"><span class=\"pre\">product</span></code></a>([axis,&nbsp;skipna,&nbsp;level,&nbsp;numeric_only,&nbsp;...])</p></td>\n",
    "<td><p>Return the product of the values over the requested axis.</p></td>\n",
    "</tr>\n",
    "<tr class=\"row-odd\"><td><p><a class=\"reference internal\" href=\"pandas.Series.quantile.html#pandas.Series.quantile\" title=\"pandas.Series.quantile\"><code class=\"xref py py-obj docutils literal notranslate\"><span class=\"pre\">quantile</span></code></a>([q,&nbsp;interpolation])</p></td>\n",
    "<td><p>Return value at the given quantile.</p></td>\n",
    "</tr>\n",
    "<tr class=\"row-even\"><td><p><a class=\"reference internal\" href=\"pandas.Series.radd.html#pandas.Series.radd\" title=\"pandas.Series.radd\"><code class=\"xref py py-obj docutils literal notranslate\"><span class=\"pre\">radd</span></code></a>(other[,&nbsp;level,&nbsp;fill_value,&nbsp;axis])</p></td>\n",
    "<td><p>Return Addition of series and other, element-wise (binary operator <cite>radd</cite>).</p></td>\n",
    "</tr>\n",
    "<tr class=\"row-odd\"><td><p><a class=\"reference internal\" href=\"pandas.Series.rank.html#pandas.Series.rank\" title=\"pandas.Series.rank\"><code class=\"xref py py-obj docutils literal notranslate\"><span class=\"pre\">rank</span></code></a>([axis,&nbsp;method,&nbsp;numeric_only,&nbsp;...])</p></td>\n",
    "<td><p>Compute numerical data ranks (1 through n) along axis.</p></td>\n",
    "</tr>\n",
    "<tr class=\"row-even\"><td><p><a class=\"reference internal\" href=\"pandas.Series.ravel.html#pandas.Series.ravel\" title=\"pandas.Series.ravel\"><code class=\"xref py py-obj docutils literal notranslate\"><span class=\"pre\">ravel</span></code></a>([order])</p></td>\n",
    "<td><p>Return the flattened underlying data as an ndarray.</p></td>\n",
    "</tr>\n",
    "<tr class=\"row-odd\"><td><p><a class=\"reference internal\" href=\"pandas.Series.rdiv.html#pandas.Series.rdiv\" title=\"pandas.Series.rdiv\"><code class=\"xref py py-obj docutils literal notranslate\"><span class=\"pre\">rdiv</span></code></a>(other[,&nbsp;level,&nbsp;fill_value,&nbsp;axis])</p></td>\n",
    "<td><p>Return Floating division of series and other, element-wise (binary operator <cite>rtruediv</cite>).</p></td>\n",
    "</tr>\n",
    "<tr class=\"row-even\"><td><p><a class=\"reference internal\" href=\"pandas.Series.rdivmod.html#pandas.Series.rdivmod\" title=\"pandas.Series.rdivmod\"><code class=\"xref py py-obj docutils literal notranslate\"><span class=\"pre\">rdivmod</span></code></a>(other[,&nbsp;level,&nbsp;fill_value,&nbsp;axis])</p></td>\n",
    "<td><p>Return Integer division and modulo of series and other, element-wise (binary operator <cite>rdivmod</cite>).</p></td>\n",
    "</tr>\n",
    "<tr class=\"row-odd\"><td><p><a class=\"reference internal\" href=\"pandas.Series.reindex.html#pandas.Series.reindex\" title=\"pandas.Series.reindex\"><code class=\"xref py py-obj docutils literal notranslate\"><span class=\"pre\">reindex</span></code></a>(*args,&nbsp;**kwargs)</p></td>\n",
    "<td><p>Conform Series to new index with optional filling logic.</p></td>\n",
    "</tr>\n",
    "<tr class=\"row-even\"><td><p><a class=\"reference internal\" href=\"pandas.Series.reindex_like.html#pandas.Series.reindex_like\" title=\"pandas.Series.reindex_like\"><code class=\"xref py py-obj docutils literal notranslate\"><span class=\"pre\">reindex_like</span></code></a>(other[,&nbsp;method,&nbsp;copy,&nbsp;limit,&nbsp;...])</p></td>\n",
    "<td><p>Return an object with matching indices as other object.</p></td>\n",
    "</tr>\n",
    "<tr class=\"row-odd\"><td><p><a class=\"reference internal\" href=\"pandas.Series.rename.html#pandas.Series.rename\" title=\"pandas.Series.rename\"><code class=\"xref py py-obj docutils literal notranslate\"><span class=\"pre\">rename</span></code></a>([index,&nbsp;axis,&nbsp;copy,&nbsp;inplace,&nbsp;level,&nbsp;...])</p></td>\n",
    "<td><p>Alter Series index labels or name.</p></td>\n",
    "</tr>\n",
    "<tr class=\"row-even\"><td><p><a class=\"reference internal\" href=\"pandas.Series.rename_axis.html#pandas.Series.rename_axis\" title=\"pandas.Series.rename_axis\"><code class=\"xref py py-obj docutils literal notranslate\"><span class=\"pre\">rename_axis</span></code></a>([mapper,&nbsp;index,&nbsp;columns,&nbsp;axis,&nbsp;copy])</p></td>\n",
    "<td><p>Set the name of the axis for the index or columns.</p></td>\n",
    "</tr>\n",
    "<tr class=\"row-odd\"><td><p><a class=\"reference internal\" href=\"pandas.Series.reorder_levels.html#pandas.Series.reorder_levels\" title=\"pandas.Series.reorder_levels\"><code class=\"xref py py-obj docutils literal notranslate\"><span class=\"pre\">reorder_levels</span></code></a>(order)</p></td>\n",
    "<td><p>Rearrange index levels using input order.</p></td>\n",
    "</tr>\n",
    "<tr class=\"row-even\"><td><p><a class=\"reference internal\" href=\"pandas.Series.repeat.html#pandas.Series.repeat\" title=\"pandas.Series.repeat\"><code class=\"xref py py-obj docutils literal notranslate\"><span class=\"pre\">repeat</span></code></a>(repeats[,&nbsp;axis])</p></td>\n",
    "<td><p>Repeat elements of a Series.</p></td>\n",
    "</tr>\n",
    "<tr class=\"row-odd\"><td><p><a class=\"reference internal\" href=\"pandas.Series.replace.html#pandas.Series.replace\" title=\"pandas.Series.replace\"><code class=\"xref py py-obj docutils literal notranslate\"><span class=\"pre\">replace</span></code></a>([to_replace,&nbsp;value,&nbsp;inplace,&nbsp;limit,&nbsp;...])</p></td>\n",
    "<td><p>Replace values given in <cite>to_replace</cite> with <cite>value</cite>.</p></td>\n",
    "</tr>\n",
    "<tr class=\"row-even\"><td><p><a class=\"reference internal\" href=\"pandas.Series.resample.html#pandas.Series.resample\" title=\"pandas.Series.resample\"><code class=\"xref py py-obj docutils literal notranslate\"><span class=\"pre\">resample</span></code></a>(rule[,&nbsp;axis,&nbsp;closed,&nbsp;label,&nbsp;...])</p></td>\n",
    "<td><p>Resample time-series data.</p></td>\n",
    "</tr>\n",
    "<tr class=\"row-odd\"><td><p><a class=\"reference internal\" href=\"pandas.Series.reset_index.html#pandas.Series.reset_index\" title=\"pandas.Series.reset_index\"><code class=\"xref py py-obj docutils literal notranslate\"><span class=\"pre\">reset_index</span></code></a>([level,&nbsp;drop,&nbsp;name,&nbsp;inplace,&nbsp;...])</p></td>\n",
    "<td><p>Generate a new DataFrame or Series with the index reset.</p></td>\n",
    "</tr>\n",
    "<tr class=\"row-even\"><td><p><a class=\"reference internal\" href=\"pandas.Series.rfloordiv.html#pandas.Series.rfloordiv\" title=\"pandas.Series.rfloordiv\"><code class=\"xref py py-obj docutils literal notranslate\"><span class=\"pre\">rfloordiv</span></code></a>(other[,&nbsp;level,&nbsp;fill_value,&nbsp;axis])</p></td>\n",
    "<td><p>Return Integer division of series and other, element-wise (binary operator <cite>rfloordiv</cite>).</p></td>\n",
    "</tr>\n",
    "<tr class=\"row-odd\"><td><p><a class=\"reference internal\" href=\"pandas.Series.rmod.html#pandas.Series.rmod\" title=\"pandas.Series.rmod\"><code class=\"xref py py-obj docutils literal notranslate\"><span class=\"pre\">rmod</span></code></a>(other[,&nbsp;level,&nbsp;fill_value,&nbsp;axis])</p></td>\n",
    "<td><p>Return Modulo of series and other, element-wise (binary operator <cite>rmod</cite>).</p></td>\n",
    "</tr>\n",
    "<tr class=\"row-even\"><td><p><a class=\"reference internal\" href=\"pandas.Series.rmul.html#pandas.Series.rmul\" title=\"pandas.Series.rmul\"><code class=\"xref py py-obj docutils literal notranslate\"><span class=\"pre\">rmul</span></code></a>(other[,&nbsp;level,&nbsp;fill_value,&nbsp;axis])</p></td>\n",
    "<td><p>Return Multiplication of series and other, element-wise (binary operator <cite>rmul</cite>).</p></td>\n",
    "</tr>\n",
    "<tr class=\"row-odd\"><td><p><a class=\"reference internal\" href=\"pandas.Series.rolling.html#pandas.Series.rolling\" title=\"pandas.Series.rolling\"><code class=\"xref py py-obj docutils literal notranslate\"><span class=\"pre\">rolling</span></code></a>(window[,&nbsp;min_periods,&nbsp;center,&nbsp;...])</p></td>\n",
    "<td><p>Provide rolling window calculations.</p></td>\n",
    "</tr>\n",
    "<tr class=\"row-even\"><td><p><a class=\"reference internal\" href=\"pandas.Series.round.html#pandas.Series.round\" title=\"pandas.Series.round\"><code class=\"xref py py-obj docutils literal notranslate\"><span class=\"pre\">round</span></code></a>([decimals])</p></td>\n",
    "<td><p>Round each value in a Series to the given number of decimals.</p></td>\n",
    "</tr>\n",
    "<tr class=\"row-odd\"><td><p><a class=\"reference internal\" href=\"pandas.Series.rpow.html#pandas.Series.rpow\" title=\"pandas.Series.rpow\"><code class=\"xref py py-obj docutils literal notranslate\"><span class=\"pre\">rpow</span></code></a>(other[,&nbsp;level,&nbsp;fill_value,&nbsp;axis])</p></td>\n",
    "<td><p>Return Exponential power of series and other, element-wise (binary operator <cite>rpow</cite>).</p></td>\n",
    "</tr>\n",
    "<tr class=\"row-even\"><td><p><a class=\"reference internal\" href=\"pandas.Series.rsub.html#pandas.Series.rsub\" title=\"pandas.Series.rsub\"><code class=\"xref py py-obj docutils literal notranslate\"><span class=\"pre\">rsub</span></code></a>(other[,&nbsp;level,&nbsp;fill_value,&nbsp;axis])</p></td>\n",
    "<td><p>Return Subtraction of series and other, element-wise (binary operator <cite>rsub</cite>).</p></td>\n",
    "</tr>\n",
    "<tr class=\"row-odd\"><td><p><a class=\"reference internal\" href=\"pandas.Series.rtruediv.html#pandas.Series.rtruediv\" title=\"pandas.Series.rtruediv\"><code class=\"xref py py-obj docutils literal notranslate\"><span class=\"pre\">rtruediv</span></code></a>(other[,&nbsp;level,&nbsp;fill_value,&nbsp;axis])</p></td>\n",
    "<td><p>Return Floating division of series and other, element-wise (binary operator <cite>rtruediv</cite>).</p></td>\n",
    "</tr>\n",
    "<tr class=\"row-even\"><td><p><a class=\"reference internal\" href=\"pandas.Series.sample.html#pandas.Series.sample\" title=\"pandas.Series.sample\"><code class=\"xref py py-obj docutils literal notranslate\"><span class=\"pre\">sample</span></code></a>([n,&nbsp;frac,&nbsp;replace,&nbsp;weights,&nbsp;...])</p></td>\n",
    "<td><p>Return a random sample of items from an axis of object.</p></td>\n",
    "</tr>\n",
    "<tr class=\"row-odd\"><td><p><a class=\"reference internal\" href=\"pandas.Series.searchsorted.html#pandas.Series.searchsorted\" title=\"pandas.Series.searchsorted\"><code class=\"xref py py-obj docutils literal notranslate\"><span class=\"pre\">searchsorted</span></code></a>(value[,&nbsp;side,&nbsp;sorter])</p></td>\n",
    "<td><p>Find indices where elements should be inserted to maintain order.</p></td>\n",
    "</tr>\n",
    "<tr class=\"row-even\"><td><p><a class=\"reference internal\" href=\"pandas.Series.sem.html#pandas.Series.sem\" title=\"pandas.Series.sem\"><code class=\"xref py py-obj docutils literal notranslate\"><span class=\"pre\">sem</span></code></a>([axis,&nbsp;skipna,&nbsp;level,&nbsp;ddof,&nbsp;numeric_only])</p></td>\n",
    "<td><p>Return unbiased standard error of the mean over requested axis.</p></td>\n",
    "</tr>\n",
    "<tr class=\"row-odd\"><td><p><a class=\"reference internal\" href=\"pandas.Series.set_axis.html#pandas.Series.set_axis\" title=\"pandas.Series.set_axis\"><code class=\"xref py py-obj docutils literal notranslate\"><span class=\"pre\">set_axis</span></code></a>(labels[,&nbsp;axis,&nbsp;inplace,&nbsp;copy])</p></td>\n",
    "<td><p>Assign desired index to given axis.</p></td>\n",
    "</tr>\n",
    "<tr class=\"row-even\"><td><p><a class=\"reference internal\" href=\"pandas.Series.set_flags.html#pandas.Series.set_flags\" title=\"pandas.Series.set_flags\"><code class=\"xref py py-obj docutils literal notranslate\"><span class=\"pre\">set_flags</span></code></a>(*[,&nbsp;copy,&nbsp;allows_duplicate_labels])</p></td>\n",
    "<td><p>Return a new object with updated flags.</p></td>\n",
    "</tr>\n",
    "<tr class=\"row-odd\"><td><p><a class=\"reference internal\" href=\"pandas.Series.shift.html#pandas.Series.shift\" title=\"pandas.Series.shift\"><code class=\"xref py py-obj docutils literal notranslate\"><span class=\"pre\">shift</span></code></a>([periods,&nbsp;freq,&nbsp;axis,&nbsp;fill_value])</p></td>\n",
    "<td><p>Shift index by desired number of periods with an optional time <cite>freq</cite>.</p></td>\n",
    "</tr>\n",
    "<tr class=\"row-even\"><td><p><a class=\"reference internal\" href=\"pandas.Series.skew.html#pandas.Series.skew\" title=\"pandas.Series.skew\"><code class=\"xref py py-obj docutils literal notranslate\"><span class=\"pre\">skew</span></code></a>([axis,&nbsp;skipna,&nbsp;level,&nbsp;numeric_only])</p></td>\n",
    "<td><p>Return unbiased skew over requested axis.</p></td>\n",
    "</tr>\n",
    "<tr class=\"row-odd\"><td><p><a class=\"reference internal\" href=\"pandas.Series.slice_shift.html#pandas.Series.slice_shift\" title=\"pandas.Series.slice_shift\"><code class=\"xref py py-obj docutils literal notranslate\"><span class=\"pre\">slice_shift</span></code></a>([periods,&nbsp;axis])</p></td>\n",
    "<td><p>(DEPRECATED) Equivalent to <cite>shift</cite> without copying data.</p></td>\n",
    "</tr>\n",
    "<tr class=\"row-even\"><td><p><a class=\"reference internal\" href=\"pandas.Series.sort_index.html#pandas.Series.sort_index\" title=\"pandas.Series.sort_index\"><code class=\"xref py py-obj docutils literal notranslate\"><span class=\"pre\">sort_index</span></code></a>([axis,&nbsp;level,&nbsp;ascending,&nbsp;...])</p></td>\n",
    "<td><p>Sort Series by index labels.</p></td>\n",
    "</tr>\n",
    "<tr class=\"row-odd\"><td><p><a class=\"reference internal\" href=\"pandas.Series.sort_values.html#pandas.Series.sort_values\" title=\"pandas.Series.sort_values\"><code class=\"xref py py-obj docutils literal notranslate\"><span class=\"pre\">sort_values</span></code></a>([axis,&nbsp;ascending,&nbsp;inplace,&nbsp;...])</p></td>\n",
    "<td><p>Sort by the values.</p></td>\n",
    "</tr>\n",
    "<tr class=\"row-even\"><td><p><a class=\"reference internal\" href=\"pandas.Series.sparse.html#pandas.Series.sparse\" title=\"pandas.Series.sparse\"><code class=\"xref py py-obj docutils literal notranslate\"><span class=\"pre\">sparse</span></code></a></p></td>\n",
    "<td><p>alias of <code class=\"xref py py-class docutils literal notranslate\"><span class=\"pre\">pandas.core.arrays.sparse.accessor.SparseAccessor</span></code></p></td>\n",
    "</tr>\n",
    "<tr class=\"row-odd\"><td><p><a class=\"reference internal\" href=\"pandas.Series.squeeze.html#pandas.Series.squeeze\" title=\"pandas.Series.squeeze\"><code class=\"xref py py-obj docutils literal notranslate\"><span class=\"pre\">squeeze</span></code></a>([axis])</p></td>\n",
    "<td><p>Squeeze 1 dimensional axis objects into scalars.</p></td>\n",
    "</tr>\n",
    "<tr class=\"row-even\"><td><p><a class=\"reference internal\" href=\"pandas.Series.std.html#pandas.Series.std\" title=\"pandas.Series.std\"><code class=\"xref py py-obj docutils literal notranslate\"><span class=\"pre\">std</span></code></a>([axis,&nbsp;skipna,&nbsp;level,&nbsp;ddof,&nbsp;numeric_only])</p></td>\n",
    "<td><p>Return sample standard deviation over requested axis.</p></td>\n",
    "</tr>\n",
    "<tr class=\"row-odd\"><td><p><a class=\"reference internal\" href=\"pandas.Series.str.html#pandas.Series.str\" title=\"pandas.Series.str\"><code class=\"xref py py-obj docutils literal notranslate\"><span class=\"pre\">str</span></code></a></p></td>\n",
    "<td><p>alias of <code class=\"xref py py-class docutils literal notranslate\"><span class=\"pre\">pandas.core.strings.accessor.StringMethods</span></code></p></td>\n",
    "</tr>\n",
    "<tr class=\"row-even\"><td><p><a class=\"reference internal\" href=\"pandas.Series.sub.html#pandas.Series.sub\" title=\"pandas.Series.sub\"><code class=\"xref py py-obj docutils literal notranslate\"><span class=\"pre\">sub</span></code></a>(other[,&nbsp;level,&nbsp;fill_value,&nbsp;axis])</p></td>\n",
    "<td><p>Return Subtraction of series and other, element-wise (binary operator <cite>sub</cite>).</p></td>\n",
    "</tr>\n",
    "<tr class=\"row-odd\"><td><p><a class=\"reference internal\" href=\"pandas.Series.subtract.html#pandas.Series.subtract\" title=\"pandas.Series.subtract\"><code class=\"xref py py-obj docutils literal notranslate\"><span class=\"pre\">subtract</span></code></a>(other[,&nbsp;level,&nbsp;fill_value,&nbsp;axis])</p></td>\n",
    "<td><p>Return Subtraction of series and other, element-wise (binary operator <cite>sub</cite>).</p></td>\n",
    "</tr>\n",
    "<tr class=\"row-even\"><td><p><a class=\"reference internal\" href=\"pandas.Series.sum.html#pandas.Series.sum\" title=\"pandas.Series.sum\"><code class=\"xref py py-obj docutils literal notranslate\"><span class=\"pre\">sum</span></code></a>([axis,&nbsp;skipna,&nbsp;level,&nbsp;numeric_only,&nbsp;...])</p></td>\n",
    "<td><p>Return the sum of the values over the requested axis.</p></td>\n",
    "</tr>\n",
    "<tr class=\"row-odd\"><td><p><a class=\"reference internal\" href=\"pandas.Series.swapaxes.html#pandas.Series.swapaxes\" title=\"pandas.Series.swapaxes\"><code class=\"xref py py-obj docutils literal notranslate\"><span class=\"pre\">swapaxes</span></code></a>(axis1,&nbsp;axis2[,&nbsp;copy])</p></td>\n",
    "<td><p>Interchange axes and swap values axes appropriately.</p></td>\n",
    "</tr>\n",
    "<tr class=\"row-even\"><td><p><a class=\"reference internal\" href=\"pandas.Series.swaplevel.html#pandas.Series.swaplevel\" title=\"pandas.Series.swaplevel\"><code class=\"xref py py-obj docutils literal notranslate\"><span class=\"pre\">swaplevel</span></code></a>([i,&nbsp;j,&nbsp;copy])</p></td>\n",
    "<td><p>Swap levels i and j in a <a class=\"reference internal\" href=\"pandas.MultiIndex.html#pandas.MultiIndex\" title=\"pandas.MultiIndex\"><code class=\"xref py py-class docutils literal notranslate\"><span class=\"pre\">MultiIndex</span></code></a>.</p></td>\n",
    "</tr>\n",
    "<tr class=\"row-odd\"><td><p><a class=\"reference internal\" href=\"pandas.Series.tail.html#pandas.Series.tail\" title=\"pandas.Series.tail\"><code class=\"xref py py-obj docutils literal notranslate\"><span class=\"pre\">tail</span></code></a>([n])</p></td>\n",
    "<td><p>Return the last <cite>n</cite> rows.</p></td>\n",
    "</tr>\n",
    "<tr class=\"row-even\"><td><p><a class=\"reference internal\" href=\"pandas.Series.take.html#pandas.Series.take\" title=\"pandas.Series.take\"><code class=\"xref py py-obj docutils literal notranslate\"><span class=\"pre\">take</span></code></a>(indices[,&nbsp;axis,&nbsp;is_copy])</p></td>\n",
    "<td><p>Return the elements in the given <em>positional</em> indices along an axis.</p></td>\n",
    "</tr>\n",
    "<tr class=\"row-odd\"><td><p><a class=\"reference internal\" href=\"pandas.Series.to_clipboard.html#pandas.Series.to_clipboard\" title=\"pandas.Series.to_clipboard\"><code class=\"xref py py-obj docutils literal notranslate\"><span class=\"pre\">to_clipboard</span></code></a>([excel,&nbsp;sep])</p></td>\n",
    "<td><p>Copy object to the system clipboard.</p></td>\n",
    "</tr>\n",
    "<tr class=\"row-even\"><td><p><a class=\"reference internal\" href=\"pandas.Series.to_csv.html#pandas.Series.to_csv\" title=\"pandas.Series.to_csv\"><code class=\"xref py py-obj docutils literal notranslate\"><span class=\"pre\">to_csv</span></code></a>([path_or_buf,&nbsp;sep,&nbsp;na_rep,&nbsp;...])</p></td>\n",
    "<td><p>Write object to a comma-separated values (csv) file.</p></td>\n",
    "</tr>\n",
    "<tr class=\"row-odd\"><td><p><a class=\"reference internal\" href=\"pandas.Series.to_dict.html#pandas.Series.to_dict\" title=\"pandas.Series.to_dict\"><code class=\"xref py py-obj docutils literal notranslate\"><span class=\"pre\">to_dict</span></code></a>([into])</p></td>\n",
    "<td><p>Convert Series to {label -&gt; value} dict or dict-like object.</p></td>\n",
    "</tr>\n",
    "<tr class=\"row-even\"><td><p><a class=\"reference internal\" href=\"pandas.Series.to_excel.html#pandas.Series.to_excel\" title=\"pandas.Series.to_excel\"><code class=\"xref py py-obj docutils literal notranslate\"><span class=\"pre\">to_excel</span></code></a>(excel_writer[,&nbsp;sheet_name,&nbsp;na_rep,&nbsp;...])</p></td>\n",
    "<td><p>Write object to an Excel sheet.</p></td>\n",
    "</tr>\n",
    "<tr class=\"row-odd\"><td><p><a class=\"reference internal\" href=\"pandas.Series.to_frame.html#pandas.Series.to_frame\" title=\"pandas.Series.to_frame\"><code class=\"xref py py-obj docutils literal notranslate\"><span class=\"pre\">to_frame</span></code></a>([name])</p></td>\n",
    "<td><p>Convert Series to DataFrame.</p></td>\n",
    "</tr>\n",
    "<tr class=\"row-even\"><td><p><a class=\"reference internal\" href=\"pandas.Series.to_hdf.html#pandas.Series.to_hdf\" title=\"pandas.Series.to_hdf\"><code class=\"xref py py-obj docutils literal notranslate\"><span class=\"pre\">to_hdf</span></code></a>(path_or_buf,&nbsp;key[,&nbsp;mode,&nbsp;complevel,&nbsp;...])</p></td>\n",
    "<td><p>Write the contained data to an HDF5 file using HDFStore.</p></td>\n",
    "</tr>\n",
    "<tr class=\"row-odd\"><td><p><a class=\"reference internal\" href=\"pandas.Series.to_json.html#pandas.Series.to_json\" title=\"pandas.Series.to_json\"><code class=\"xref py py-obj docutils literal notranslate\"><span class=\"pre\">to_json</span></code></a>([path_or_buf,&nbsp;orient,&nbsp;date_format,&nbsp;...])</p></td>\n",
    "<td><p>Convert the object to a JSON string.</p></td>\n",
    "</tr>\n",
    "<tr class=\"row-even\"><td><p><a class=\"reference internal\" href=\"pandas.Series.to_latex.html#pandas.Series.to_latex\" title=\"pandas.Series.to_latex\"><code class=\"xref py py-obj docutils literal notranslate\"><span class=\"pre\">to_latex</span></code></a>([buf,&nbsp;columns,&nbsp;col_space,&nbsp;header,&nbsp;...])</p></td>\n",
    "<td><p>Render object to a LaTeX tabular, longtable, or nested table.</p></td>\n",
    "</tr>\n",
    "<tr class=\"row-odd\"><td><p><a class=\"reference internal\" href=\"pandas.Series.to_list.html#pandas.Series.to_list\" title=\"pandas.Series.to_list\"><code class=\"xref py py-obj docutils literal notranslate\"><span class=\"pre\">to_list</span></code></a>()</p></td>\n",
    "<td><p>Return a list of the values.</p></td>\n",
    "</tr>\n",
    "<tr class=\"row-even\"><td><p><a class=\"reference internal\" href=\"pandas.Series.to_markdown.html#pandas.Series.to_markdown\" title=\"pandas.Series.to_markdown\"><code class=\"xref py py-obj docutils literal notranslate\"><span class=\"pre\">to_markdown</span></code></a>([buf,&nbsp;mode,&nbsp;index,&nbsp;storage_options])</p></td>\n",
    "<td><p>Print Series in Markdown-friendly format.</p></td>\n",
    "</tr>\n",
    "<tr class=\"row-odd\"><td><p><a class=\"reference internal\" href=\"pandas.Series.to_numpy.html#pandas.Series.to_numpy\" title=\"pandas.Series.to_numpy\"><code class=\"xref py py-obj docutils literal notranslate\"><span class=\"pre\">to_numpy</span></code></a>([dtype,&nbsp;copy,&nbsp;na_value])</p></td>\n",
    "<td><p>A NumPy ndarray representing the values in this Series or Index.</p></td>\n",
    "</tr>\n",
    "<tr class=\"row-even\"><td><p><a class=\"reference internal\" href=\"pandas.Series.to_period.html#pandas.Series.to_period\" title=\"pandas.Series.to_period\"><code class=\"xref py py-obj docutils literal notranslate\"><span class=\"pre\">to_period</span></code></a>([freq,&nbsp;copy])</p></td>\n",
    "<td><p>Convert Series from DatetimeIndex to PeriodIndex.</p></td>\n",
    "</tr>\n",
    "<tr class=\"row-odd\"><td><p><a class=\"reference internal\" href=\"pandas.Series.to_pickle.html#pandas.Series.to_pickle\" title=\"pandas.Series.to_pickle\"><code class=\"xref py py-obj docutils literal notranslate\"><span class=\"pre\">to_pickle</span></code></a>(path[,&nbsp;compression,&nbsp;protocol,&nbsp;...])</p></td>\n",
    "<td><p>Pickle (serialize) object to file.</p></td>\n",
    "</tr>\n",
    "<tr class=\"row-even\"><td><p><a class=\"reference internal\" href=\"pandas.Series.to_sql.html#pandas.Series.to_sql\" title=\"pandas.Series.to_sql\"><code class=\"xref py py-obj docutils literal notranslate\"><span class=\"pre\">to_sql</span></code></a>(name,&nbsp;con[,&nbsp;schema,&nbsp;if_exists,&nbsp;...])</p></td>\n",
    "<td><p>Write records stored in a DataFrame to a SQL database.</p></td>\n",
    "</tr>\n",
    "<tr class=\"row-odd\"><td><p><a class=\"reference internal\" href=\"pandas.Series.to_string.html#pandas.Series.to_string\" title=\"pandas.Series.to_string\"><code class=\"xref py py-obj docutils literal notranslate\"><span class=\"pre\">to_string</span></code></a>([buf,&nbsp;na_rep,&nbsp;float_format,&nbsp;...])</p></td>\n",
    "<td><p>Render a string representation of the Series.</p></td>\n",
    "</tr>\n",
    "<tr class=\"row-even\"><td><p><a class=\"reference internal\" href=\"pandas.Series.to_timestamp.html#pandas.Series.to_timestamp\" title=\"pandas.Series.to_timestamp\"><code class=\"xref py py-obj docutils literal notranslate\"><span class=\"pre\">to_timestamp</span></code></a>([freq,&nbsp;how,&nbsp;copy])</p></td>\n",
    "<td><p>Cast to DatetimeIndex of Timestamps, at <em>beginning</em> of period.</p></td>\n",
    "</tr>\n",
    "<tr class=\"row-odd\"><td><p><a class=\"reference internal\" href=\"pandas.Series.to_xarray.html#pandas.Series.to_xarray\" title=\"pandas.Series.to_xarray\"><code class=\"xref py py-obj docutils literal notranslate\"><span class=\"pre\">to_xarray</span></code></a>()</p></td>\n",
    "<td><p>Return an xarray object from the pandas object.</p></td>\n",
    "</tr>\n",
    "<tr class=\"row-even\"><td><p><a class=\"reference internal\" href=\"pandas.Series.tolist.html#pandas.Series.tolist\" title=\"pandas.Series.tolist\"><code class=\"xref py py-obj docutils literal notranslate\"><span class=\"pre\">tolist</span></code></a>()</p></td>\n",
    "<td><p>Return a list of the values.</p></td>\n",
    "</tr>\n",
    "<tr class=\"row-odd\"><td><p><a class=\"reference internal\" href=\"pandas.Series.transform.html#pandas.Series.transform\" title=\"pandas.Series.transform\"><code class=\"xref py py-obj docutils literal notranslate\"><span class=\"pre\">transform</span></code></a>(func[,&nbsp;axis])</p></td>\n",
    "<td><p>Call <code class=\"docutils literal notranslate\"><span class=\"pre\">func</span></code> on self producing a Series with the same axis shape as self.</p></td>\n",
    "</tr>\n",
    "<tr class=\"row-even\"><td><p><a class=\"reference internal\" href=\"pandas.Series.transpose.html#pandas.Series.transpose\" title=\"pandas.Series.transpose\"><code class=\"xref py py-obj docutils literal notranslate\"><span class=\"pre\">transpose</span></code></a>(*args,&nbsp;**kwargs)</p></td>\n",
    "<td><p>Return the transpose, which is by definition self.</p></td>\n",
    "</tr>\n",
    "<tr class=\"row-odd\"><td><p><a class=\"reference internal\" href=\"pandas.Series.truediv.html#pandas.Series.truediv\" title=\"pandas.Series.truediv\"><code class=\"xref py py-obj docutils literal notranslate\"><span class=\"pre\">truediv</span></code></a>(other[,&nbsp;level,&nbsp;fill_value,&nbsp;axis])</p></td>\n",
    "<td><p>Return Floating division of series and other, element-wise (binary operator <cite>truediv</cite>).</p></td>\n",
    "</tr>\n",
    "<tr class=\"row-even\"><td><p><a class=\"reference internal\" href=\"pandas.Series.truncate.html#pandas.Series.truncate\" title=\"pandas.Series.truncate\"><code class=\"xref py py-obj docutils literal notranslate\"><span class=\"pre\">truncate</span></code></a>([before,&nbsp;after,&nbsp;axis,&nbsp;copy])</p></td>\n",
    "<td><p>Truncate a Series or DataFrame before and after some index value.</p></td>\n",
    "</tr>\n",
    "<tr class=\"row-odd\"><td><p><a class=\"reference internal\" href=\"pandas.Series.tshift.html#pandas.Series.tshift\" title=\"pandas.Series.tshift\"><code class=\"xref py py-obj docutils literal notranslate\"><span class=\"pre\">tshift</span></code></a>([periods,&nbsp;freq,&nbsp;axis])</p></td>\n",
    "<td><p>(DEPRECATED) Shift the time index, using the index's frequency if available.</p></td>\n",
    "</tr>\n",
    "<tr class=\"row-even\"><td><p><a class=\"reference internal\" href=\"pandas.Series.tz_convert.html#pandas.Series.tz_convert\" title=\"pandas.Series.tz_convert\"><code class=\"xref py py-obj docutils literal notranslate\"><span class=\"pre\">tz_convert</span></code></a>(tz[,&nbsp;axis,&nbsp;level,&nbsp;copy])</p></td>\n",
    "<td><p>Convert tz-aware axis to target time zone.</p></td>\n",
    "</tr>\n",
    "<tr class=\"row-odd\"><td><p><a class=\"reference internal\" href=\"pandas.Series.tz_localize.html#pandas.Series.tz_localize\" title=\"pandas.Series.tz_localize\"><code class=\"xref py py-obj docutils literal notranslate\"><span class=\"pre\">tz_localize</span></code></a>(tz[,&nbsp;axis,&nbsp;level,&nbsp;copy,&nbsp;...])</p></td>\n",
    "<td><p>Localize tz-naive index of a Series or DataFrame to target time zone.</p></td>\n",
    "</tr>\n",
    "<tr class=\"row-even\"><td><p><a class=\"reference internal\" href=\"pandas.Series.unique.html#pandas.Series.unique\" title=\"pandas.Series.unique\"><code class=\"xref py py-obj docutils literal notranslate\"><span class=\"pre\">unique</span></code></a>()</p></td>\n",
    "<td><p>Return unique values of Series object.</p></td>\n",
    "</tr>\n",
    "<tr class=\"row-odd\"><td><p><a class=\"reference internal\" href=\"pandas.Series.unstack.html#pandas.Series.unstack\" title=\"pandas.Series.unstack\"><code class=\"xref py py-obj docutils literal notranslate\"><span class=\"pre\">unstack</span></code></a>([level,&nbsp;fill_value])</p></td>\n",
    "<td><p>Unstack, also known as pivot, Series with MultiIndex to produce DataFrame.</p></td>\n",
    "</tr>\n",
    "<tr class=\"row-even\"><td><p><a class=\"reference internal\" href=\"pandas.Series.update.html#pandas.Series.update\" title=\"pandas.Series.update\"><code class=\"xref py py-obj docutils literal notranslate\"><span class=\"pre\">update</span></code></a>(other)</p></td>\n",
    "<td><p>Modify Series in place using values from passed Series.</p></td>\n",
    "</tr>\n",
    "<tr class=\"row-odd\"><td><p><a class=\"reference internal\" href=\"pandas.Series.value_counts.html#pandas.Series.value_counts\" title=\"pandas.Series.value_counts\"><code class=\"xref py py-obj docutils literal notranslate\"><span class=\"pre\">value_counts</span></code></a>([normalize,&nbsp;sort,&nbsp;ascending,&nbsp;...])</p></td>\n",
    "<td><p>Return a Series containing counts of unique values.</p></td>\n",
    "</tr>\n",
    "<tr class=\"row-even\"><td><p><a class=\"reference internal\" href=\"pandas.Series.var.html#pandas.Series.var\" title=\"pandas.Series.var\"><code class=\"xref py py-obj docutils literal notranslate\"><span class=\"pre\">var</span></code></a>([axis,&nbsp;skipna,&nbsp;level,&nbsp;ddof,&nbsp;numeric_only])</p></td>\n",
    "<td><p>Return unbiased variance over requested axis.</p></td>\n",
    "</tr>\n",
    "<tr class=\"row-odd\"><td><p><a class=\"reference internal\" href=\"pandas.Series.view.html#pandas.Series.view\" title=\"pandas.Series.view\"><code class=\"xref py py-obj docutils literal notranslate\"><span class=\"pre\">view</span></code></a>([dtype])</p></td>\n",
    "<td><p>Create a new view of the Series.</p></td>\n",
    "</tr>\n",
    "<tr class=\"row-even\"><td><p><a class=\"reference internal\" href=\"pandas.Series.where.html#pandas.Series.where\" title=\"pandas.Series.where\"><code class=\"xref py py-obj docutils literal notranslate\"><span class=\"pre\">where</span></code></a>(cond[,&nbsp;other,&nbsp;inplace,&nbsp;axis,&nbsp;level,&nbsp;...])</p></td>\n",
    "<td><p>Replace values where the condition is False.</p></td>\n",
    "</tr>\n",
    "<tr class=\"row-odd\"><td><p><a class=\"reference internal\" href=\"pandas.Series.xs.html#pandas.Series.xs\" title=\"pandas.Series.xs\"><code class=\"xref py py-obj docutils literal notranslate\"><span class=\"pre\">xs</span></code></a>(key[,&nbsp;axis,&nbsp;level,&nbsp;drop_level])</p></td>\n",
    "<td><p>Return cross-section from the Series/DataFrame.</p></td>\n",
    "</tr>\n",
    "</tbody>\n",
    "</table>\n",
    "</dd>"
   ]
  },
  {
   "cell_type": "markdown",
   "id": "2b49b41f",
   "metadata": {
    "papermill": {
     "duration": 0.02998,
     "end_time": "2022-09-24T18:53:02.741269",
     "exception": false,
     "start_time": "2022-09-24T18:53:02.711289",
     "status": "completed"
    },
    "tags": []
   },
   "source": [
    "### Accessing Element from Series with Position : \n",
    "- In order to access the series element refers to the index number. Use the index operator [ ] to access an element in a series. The index must be an integer. In order to access multiple elements from a series, we use Slice operation.\n"
   ]
  },
  {
   "cell_type": "code",
   "execution_count": 9,
   "id": "28922ca2",
   "metadata": {
    "execution": {
     "iopub.execute_input": "2022-09-24T18:53:02.804542Z",
     "iopub.status.busy": "2022-09-24T18:53:02.803858Z",
     "iopub.status.idle": "2022-09-24T18:53:02.811642Z",
     "shell.execute_reply": "2022-09-24T18:53:02.809788Z"
    },
    "papermill": {
     "duration": 0.042194,
     "end_time": "2022-09-24T18:53:02.813935",
     "exception": false,
     "start_time": "2022-09-24T18:53:02.771741",
     "status": "completed"
    },
    "tags": []
   },
   "outputs": [
    {
     "name": "stdout",
     "output_type": "stream",
     "text": [
      "Series element at index 3 :\n",
      "\n",
      " 4.0 \n",
      "\n",
      "Type of element:  <class 'numpy.float64'>\n",
      "\n",
      "Series element at index 11 to 14 :\n",
      "\n",
      " 11    5.4\n",
      "12    3.2\n",
      "Name: Series_s2, dtype: float64 \n",
      "\n",
      "Type of element:  <class 'pandas.core.series.Series'>\n"
     ]
    }
   ],
   "source": [
    "# Acessing element of the Series\n",
    "print(\"Series element at index 3 :\\n\\n\",s2[3],\"\\n\\nType of element: \",type(s2[3]))\n",
    "print(\"\\nSeries element at index 11 to 14 :\\n\\n\",s2[11:14],\"\\n\\nType of element: \",type(s2[11:14]))"
   ]
  },
  {
   "cell_type": "markdown",
   "id": "0fc9048c",
   "metadata": {
    "papermill": {
     "duration": 0.029948,
     "end_time": "2022-09-24T18:53:02.874055",
     "exception": false,
     "start_time": "2022-09-24T18:53:02.844107",
     "status": "completed"
    },
    "tags": []
   },
   "source": [
    "### Accessing Element Using Label (index) :\n",
    "- In order to access an element from series, we have to set values by index label. A Series is like a fixed-size dictionary in that you can get and set values by index label.\n",
    "\n"
   ]
  },
  {
   "cell_type": "code",
   "execution_count": 10,
   "id": "34c2eff4",
   "metadata": {
    "execution": {
     "iopub.execute_input": "2022-09-24T18:53:02.937102Z",
     "iopub.status.busy": "2022-09-24T18:53:02.936424Z",
     "iopub.status.idle": "2022-09-24T18:53:02.947410Z",
     "shell.execute_reply": "2022-09-24T18:53:02.945898Z"
    },
    "papermill": {
     "duration": 0.045119,
     "end_time": "2022-09-24T18:53:02.949849",
     "exception": false,
     "start_time": "2022-09-24T18:53:02.904730",
     "status": "completed"
    },
    "tags": []
   },
   "outputs": [
    {
     "name": "stdout",
     "output_type": "stream",
     "text": [
      "Series element at index 3 :\n",
      "\n",
      " Bhawan \n",
      "\n",
      "Type of element:  <class 'str'>\n"
     ]
    }
   ],
   "source": [
    "# Accessing Element Using Label (index) :¶\n",
    "print(\"Series element at index 3 :\\n\\n\",s1[\"First Name\"],\"\\n\\nType of element: \",type(s1[\"First Name\"]))"
   ]
  },
  {
   "cell_type": "markdown",
   "id": "38cb79ce",
   "metadata": {
    "papermill": {
     "duration": 0.029768,
     "end_time": "2022-09-24T18:53:03.010053",
     "exception": false,
     "start_time": "2022-09-24T18:53:02.980285",
     "status": "completed"
    },
    "tags": []
   },
   "source": [
    "### Indexing and Selecting Data in Series:"
   ]
  },
  {
   "cell_type": "code",
   "execution_count": 11,
   "id": "a438620e",
   "metadata": {
    "execution": {
     "iopub.execute_input": "2022-09-24T18:53:03.073925Z",
     "iopub.status.busy": "2022-09-24T18:53:03.073522Z",
     "iopub.status.idle": "2022-09-24T18:53:03.551238Z",
     "shell.execute_reply": "2022-09-24T18:53:03.549856Z"
    },
    "papermill": {
     "duration": 0.512157,
     "end_time": "2022-09-24T18:53:03.553822",
     "exception": false,
     "start_time": "2022-09-24T18:53:03.041665",
     "status": "completed"
    },
    "tags": []
   },
   "outputs": [
    {
     "name": "stdout",
     "output_type": "stream",
     "text": [
      "0     2013\n",
      "1     2015\n",
      "2     2014\n",
      "3     2016\n",
      "4     2014\n",
      "      ... \n",
      "95    2015\n",
      "96    2013\n",
      "97    2015\n",
      "98    2013\n",
      "99    2015\n",
      "Name: Year, Length: 100, dtype: int64\n"
     ]
    }
   ],
   "source": [
    "df = pd.read_csv(\"/kaggle/input/sales-data-practise/sales_data.csv\")  \n",
    "   \n",
    "file_ser = pd.Series(df['Year']) \n",
    "data = file_ser.head(100)      #print first 15 line\n",
    "print(data) "
   ]
  },
  {
   "cell_type": "markdown",
   "id": "2c6bea7a",
   "metadata": {
    "papermill": {
     "duration": 0.030756,
     "end_time": "2022-09-24T18:53:03.619289",
     "exception": false,
     "start_time": "2022-09-24T18:53:03.588533",
     "status": "completed"
    },
    "tags": []
   },
   "source": [
    "#### 1.Indexing a Series using indexing operator [] :"
   ]
  },
  {
   "cell_type": "code",
   "execution_count": 12,
   "id": "30c8eb5d",
   "metadata": {
    "execution": {
     "iopub.execute_input": "2022-09-24T18:53:03.681878Z",
     "iopub.status.busy": "2022-09-24T18:53:03.681437Z",
     "iopub.status.idle": "2022-09-24T18:53:03.687927Z",
     "shell.execute_reply": "2022-09-24T18:53:03.686840Z"
    },
    "papermill": {
     "duration": 0.040767,
     "end_time": "2022-09-24T18:53:03.690337",
     "exception": false,
     "start_time": "2022-09-24T18:53:03.649570",
     "status": "completed"
    },
    "tags": []
   },
   "outputs": [
    {
     "name": "stdout",
     "output_type": "stream",
     "text": [
      "Printing data using index Operator:[From 10 to 30]\n",
      "\n",
      "10    2013\n",
      "11    2015\n",
      "12    2013\n",
      "13    2015\n",
      "14    2013\n",
      "15    2015\n",
      "16    2013\n",
      "17    2015\n",
      "18    2014\n",
      "19    2016\n",
      "20    2014\n",
      "21    2016\n",
      "22    2014\n",
      "23    2016\n",
      "24    2013\n",
      "25    2015\n",
      "26    2013\n",
      "27    2015\n",
      "28    2014\n",
      "29    2016\n",
      "Name: Year, dtype: int64\n"
     ]
    }
   ],
   "source": [
    "#Using index Operator :\n",
    "print(\"Printing data using index Operator:[From 10 to 30]\\n\")\n",
    "print(data[10:30])"
   ]
  },
  {
   "cell_type": "markdown",
   "id": "d4f272c2",
   "metadata": {
    "papermill": {
     "duration": 0.030154,
     "end_time": "2022-09-24T18:53:03.751013",
     "exception": false,
     "start_time": "2022-09-24T18:53:03.720859",
     "status": "completed"
    },
    "tags": []
   },
   "source": [
    "#### 2. Indexing a Series using .loc[ ] :\n",
    "- This function selects data by refering the explicit index . The df.loc indexer selects data in a different way than just the indexing operator. It can select subsets of data."
   ]
  },
  {
   "cell_type": "code",
   "execution_count": 13,
   "id": "3cdfc4a5",
   "metadata": {
    "execution": {
     "iopub.execute_input": "2022-09-24T18:53:03.814835Z",
     "iopub.status.busy": "2022-09-24T18:53:03.814092Z",
     "iopub.status.idle": "2022-09-24T18:53:03.821171Z",
     "shell.execute_reply": "2022-09-24T18:53:03.819591Z"
    },
    "papermill": {
     "duration": 0.042983,
     "end_time": "2022-09-24T18:53:03.824800",
     "exception": false,
     "start_time": "2022-09-24T18:53:03.781817",
     "status": "completed"
    },
    "tags": []
   },
   "outputs": [
    {
     "name": "stdout",
     "output_type": "stream",
     "text": [
      "Indexing element Using .loc[]:\n",
      "\n",
      "12    2013\n",
      "13    2015\n",
      "14    2013\n",
      "15    2015\n",
      "16    2013\n",
      "17    2015\n",
      "18    2014\n",
      "19    2016\n",
      "20    2014\n",
      "21    2016\n",
      "22    2014\n",
      "23    2016\n",
      "24    2013\n",
      "25    2015\n",
      "26    2013\n",
      "27    2015\n",
      "28    2014\n",
      "29    2016\n",
      "30    2014\n",
      "31    2016\n",
      "32    2014\n",
      "33    2016\n",
      "34    2013\n",
      "35    2015\n",
      "36    2013\n",
      "37    2015\n",
      "38    2013\n",
      "39    2015\n",
      "40    2014\n",
      "Name: Year, dtype: int64\n"
     ]
    }
   ],
   "source": [
    "#Using .loc[]:\n",
    "print(\"Indexing element Using .loc[]:\\n\")\n",
    "print(data.loc[12:40])"
   ]
  },
  {
   "cell_type": "markdown",
   "id": "0a4b8126",
   "metadata": {
    "papermill": {
     "duration": 0.040664,
     "end_time": "2022-09-24T18:53:03.899719",
     "exception": false,
     "start_time": "2022-09-24T18:53:03.859055",
     "status": "completed"
    },
    "tags": []
   },
   "source": [
    "#### 3. Indexing a Series using .iloc[ ] :\n",
    "- This function allows us to retrieve data by position. In order to do that, we’ll need to specify the positions of the data that we want. The df.iloc indexer is very similar to df.loc but only uses integer locations to make its selections."
   ]
  },
  {
   "cell_type": "code",
   "execution_count": 14,
   "id": "d78e09b4",
   "metadata": {
    "execution": {
     "iopub.execute_input": "2022-09-24T18:53:03.965468Z",
     "iopub.status.busy": "2022-09-24T18:53:03.964665Z",
     "iopub.status.idle": "2022-09-24T18:53:03.971695Z",
     "shell.execute_reply": "2022-09-24T18:53:03.970426Z"
    },
    "papermill": {
     "duration": 0.042928,
     "end_time": "2022-09-24T18:53:03.974441",
     "exception": false,
     "start_time": "2022-09-24T18:53:03.931513",
     "status": "completed"
    },
    "tags": []
   },
   "outputs": [
    {
     "name": "stdout",
     "output_type": "stream",
     "text": [
      "Indexing element Using .iloc[]:\n",
      "\n",
      "12    2013\n",
      "13    2015\n",
      "14    2013\n",
      "15    2015\n",
      "16    2013\n",
      "17    2015\n",
      "18    2014\n",
      "19    2016\n",
      "20    2014\n",
      "21    2016\n",
      "22    2014\n",
      "23    2016\n",
      "24    2013\n",
      "25    2015\n",
      "26    2013\n",
      "27    2015\n",
      "28    2014\n",
      "29    2016\n",
      "30    2014\n",
      "31    2016\n",
      "32    2014\n",
      "33    2016\n",
      "34    2013\n",
      "35    2015\n",
      "36    2013\n",
      "37    2015\n",
      "38    2013\n",
      "39    2015\n",
      "Name: Year, dtype: int64\n"
     ]
    }
   ],
   "source": [
    "#Using .iloc[]:\n",
    "print(\"Indexing element Using .iloc[]:\\n\")\n",
    "print(data.iloc[12:40])"
   ]
  },
  {
   "cell_type": "markdown",
   "id": "a8f346f2",
   "metadata": {
    "papermill": {
     "duration": 0.030768,
     "end_time": "2022-09-24T18:53:04.036068",
     "exception": false,
     "start_time": "2022-09-24T18:53:04.005300",
     "status": "completed"
    },
    "tags": []
   },
   "source": [
    "### Mathematicals Operation on Series:\n",
    "\n",
    "- **Note:** if value it not present to perform operation it will add **\"NaN\"** (Not a Number)\n",
    "\n",
    "#### Adding Series add() and +:\n"
   ]
  },
  {
   "cell_type": "code",
   "execution_count": 15,
   "id": "5a82b8e0",
   "metadata": {
    "execution": {
     "iopub.execute_input": "2022-09-24T18:53:04.101324Z",
     "iopub.status.busy": "2022-09-24T18:53:04.100579Z",
     "iopub.status.idle": "2022-09-24T18:53:04.111066Z",
     "shell.execute_reply": "2022-09-24T18:53:04.109657Z"
    },
    "papermill": {
     "duration": 0.046433,
     "end_time": "2022-09-24T18:53:04.113950",
     "exception": false,
     "start_time": "2022-09-24T18:53:04.067517",
     "status": "completed"
    },
    "tags": []
   },
   "outputs": [
    {
     "name": "stdout",
     "output_type": "stream",
     "text": [
      "Sample Series 1:\n",
      " 0    19\n",
      "1    19\n",
      "2    49\n",
      "3    49\n",
      "4    47\n",
      "Name: Customer_Age, dtype: int64\n",
      "\n",
      "Sample Series 2:\n",
      " 0    26\n",
      "1    26\n",
      "2    23\n",
      "3    23\n",
      "4    15\n",
      "Name: Day, dtype: int64\n"
     ]
    }
   ],
   "source": [
    "#sample data\n",
    "data = pd.Series(df['Customer_Age']) \n",
    "s1 = data.head(15)      #print first 50 line\n",
    "print(\"Sample Series 1:\\n\",s1.head())\n",
    "\n",
    "#sample1 data\n",
    "data1 = pd.Series(df['Day']) \n",
    "s2 = data1.head(15)      #print first 50 line\n",
    "print(\"\\nSample Series 2:\\n\",s2.head())"
   ]
  },
  {
   "cell_type": "code",
   "execution_count": 16,
   "id": "e9e17108",
   "metadata": {
    "execution": {
     "iopub.execute_input": "2022-09-24T18:53:04.179909Z",
     "iopub.status.busy": "2022-09-24T18:53:04.179519Z",
     "iopub.status.idle": "2022-09-24T18:53:04.186075Z",
     "shell.execute_reply": "2022-09-24T18:53:04.184797Z"
    },
    "papermill": {
     "duration": 0.041537,
     "end_time": "2022-09-24T18:53:04.188636",
     "exception": false,
     "start_time": "2022-09-24T18:53:04.147099",
     "status": "completed"
    },
    "tags": []
   },
   "outputs": [
    {
     "name": "stdout",
     "output_type": "stream",
     "text": [
      "Adding Series with the help of '+' Operator:\n",
      "0     45\n",
      "1     45\n",
      "2     72\n",
      "3     72\n",
      "4     62\n",
      "5     62\n",
      "6     69\n",
      "7     69\n",
      "8     57\n",
      "9     57\n",
      "10    62\n",
      "11    62\n",
      "12    49\n",
      "13    49\n",
      "14    31\n",
      "dtype: int64\n"
     ]
    }
   ],
   "source": [
    "print(\"Adding Series with the help of '+' Operator:\")\n",
    "print(s1+s2)"
   ]
  },
  {
   "cell_type": "code",
   "execution_count": 17,
   "id": "fa2b9567",
   "metadata": {
    "execution": {
     "iopub.execute_input": "2022-09-24T18:53:04.252373Z",
     "iopub.status.busy": "2022-09-24T18:53:04.251960Z",
     "iopub.status.idle": "2022-09-24T18:53:04.258186Z",
     "shell.execute_reply": "2022-09-24T18:53:04.257076Z"
    },
    "papermill": {
     "duration": 0.041975,
     "end_time": "2022-09-24T18:53:04.261512",
     "exception": false,
     "start_time": "2022-09-24T18:53:04.219537",
     "status": "completed"
    },
    "tags": []
   },
   "outputs": [
    {
     "name": "stdout",
     "output_type": "stream",
     "text": [
      "Adding Series with the help of add() Fun:\n",
      "0     45\n",
      "1     45\n",
      "2     72\n",
      "3     72\n",
      "4     62\n",
      "5     62\n",
      "6     69\n",
      "7     69\n",
      "8     57\n",
      "9     57\n",
      "10    62\n",
      "11    62\n",
      "12    49\n",
      "13    49\n",
      "14    31\n",
      "dtype: int64\n"
     ]
    }
   ],
   "source": [
    "print(\"Adding Series with the help of add() Fun:\")\n",
    "#print(pd.Series.add(s1,s2))  Both are the same\n",
    "print(s1.add(s2))\n"
   ]
  },
  {
   "cell_type": "markdown",
   "id": "3eab779e",
   "metadata": {
    "papermill": {
     "duration": 0.030689,
     "end_time": "2022-09-24T18:53:04.323103",
     "exception": false,
     "start_time": "2022-09-24T18:53:04.292414",
     "status": "completed"
    },
    "tags": []
   },
   "source": [
    "#### Subtraction with help of '-' and sub():"
   ]
  },
  {
   "cell_type": "code",
   "execution_count": 18,
   "id": "f6741df5",
   "metadata": {
    "execution": {
     "iopub.execute_input": "2022-09-24T18:53:04.386861Z",
     "iopub.status.busy": "2022-09-24T18:53:04.386210Z",
     "iopub.status.idle": "2022-09-24T18:53:04.393476Z",
     "shell.execute_reply": "2022-09-24T18:53:04.392101Z"
    },
    "papermill": {
     "duration": 0.041722,
     "end_time": "2022-09-24T18:53:04.395671",
     "exception": false,
     "start_time": "2022-09-24T18:53:04.353949",
     "status": "completed"
    },
    "tags": []
   },
   "outputs": [
    {
     "name": "stdout",
     "output_type": "stream",
     "text": [
      "Subtract Series with the help of '-' Operator:\n",
      "0     -7\n",
      "1     -7\n",
      "2     26\n",
      "3     26\n",
      "4     32\n",
      "5     32\n",
      "6     25\n",
      "7     25\n",
      "8     13\n",
      "9     13\n",
      "10     2\n",
      "11     2\n",
      "12    19\n",
      "13    19\n",
      "14    27\n",
      "dtype: int64\n"
     ]
    }
   ],
   "source": [
    "print(\"Subtract Series with the help of '-' Operator:\")\n",
    "print(s1-s2)"
   ]
  },
  {
   "cell_type": "code",
   "execution_count": 19,
   "id": "bf67b859",
   "metadata": {
    "execution": {
     "iopub.execute_input": "2022-09-24T18:53:04.459783Z",
     "iopub.status.busy": "2022-09-24T18:53:04.459148Z",
     "iopub.status.idle": "2022-09-24T18:53:04.466260Z",
     "shell.execute_reply": "2022-09-24T18:53:04.464658Z"
    },
    "papermill": {
     "duration": 0.04239,
     "end_time": "2022-09-24T18:53:04.469232",
     "exception": false,
     "start_time": "2022-09-24T18:53:04.426842",
     "status": "completed"
    },
    "tags": []
   },
   "outputs": [
    {
     "name": "stdout",
     "output_type": "stream",
     "text": [
      "Subtract Series with the help of sub() Fun:\n",
      "0     -7\n",
      "1     -7\n",
      "2     26\n",
      "3     26\n",
      "4     32\n",
      "5     32\n",
      "6     25\n",
      "7     25\n",
      "8     13\n",
      "9     13\n",
      "10     2\n",
      "11     2\n",
      "12    19\n",
      "13    19\n",
      "14    27\n",
      "dtype: int64\n"
     ]
    }
   ],
   "source": [
    "print(\"Subtract Series with the help of sub() Fun:\")\n",
    "#print(pd.Series.sub(s1,s2))  #Both are the same\n",
    "print(s1.sub(s2))"
   ]
  },
  {
   "cell_type": "markdown",
   "id": "20a4fe90",
   "metadata": {
    "papermill": {
     "duration": 0.030611,
     "end_time": "2022-09-24T18:53:04.531250",
     "exception": false,
     "start_time": "2022-09-24T18:53:04.500639",
     "status": "completed"
    },
    "tags": []
   },
   "source": [
    "#### Multiplication with help of '*' and mul():"
   ]
  },
  {
   "cell_type": "code",
   "execution_count": 20,
   "id": "257e2b34",
   "metadata": {
    "execution": {
     "iopub.execute_input": "2022-09-24T18:53:04.595008Z",
     "iopub.status.busy": "2022-09-24T18:53:04.594603Z",
     "iopub.status.idle": "2022-09-24T18:53:04.600601Z",
     "shell.execute_reply": "2022-09-24T18:53:04.599419Z"
    },
    "papermill": {
     "duration": 0.041596,
     "end_time": "2022-09-24T18:53:04.603617",
     "exception": false,
     "start_time": "2022-09-24T18:53:04.562021",
     "status": "completed"
    },
    "tags": []
   },
   "outputs": [
    {
     "name": "stdout",
     "output_type": "stream",
     "text": [
      "Multiply Series with help of '*':\n",
      "0      494\n",
      "1      494\n",
      "2     1127\n",
      "3     1127\n",
      "4      705\n",
      "5      705\n",
      "6     1034\n",
      "7     1034\n",
      "8      770\n",
      "9      770\n",
      "10     960\n",
      "11     960\n",
      "12     510\n",
      "13     510\n",
      "14      58\n",
      "dtype: int64\n"
     ]
    }
   ],
   "source": [
    "print(\"Multiply Series with help of '*':\")\n",
    "print(s1*s2)"
   ]
  },
  {
   "cell_type": "code",
   "execution_count": 21,
   "id": "a700baf3",
   "metadata": {
    "execution": {
     "iopub.execute_input": "2022-09-24T18:53:04.669142Z",
     "iopub.status.busy": "2022-09-24T18:53:04.668472Z",
     "iopub.status.idle": "2022-09-24T18:53:04.675431Z",
     "shell.execute_reply": "2022-09-24T18:53:04.674043Z"
    },
    "papermill": {
     "duration": 0.042214,
     "end_time": "2022-09-24T18:53:04.677956",
     "exception": false,
     "start_time": "2022-09-24T18:53:04.635742",
     "status": "completed"
    },
    "tags": []
   },
   "outputs": [
    {
     "name": "stdout",
     "output_type": "stream",
     "text": [
      "Multiply Series with help of mul():\n",
      "0      494\n",
      "1      494\n",
      "2     1127\n",
      "3     1127\n",
      "4      705\n",
      "5      705\n",
      "6     1034\n",
      "7     1034\n",
      "8      770\n",
      "9      770\n",
      "10     960\n",
      "11     960\n",
      "12     510\n",
      "13     510\n",
      "14      58\n",
      "dtype: int64\n"
     ]
    }
   ],
   "source": [
    "print(\"Multiply Series with help of mul():\")\n",
    "# pd.series.mul(s1,s2)\n",
    "print(s1.mul(s2))"
   ]
  },
  {
   "cell_type": "markdown",
   "id": "91329969",
   "metadata": {
    "papermill": {
     "duration": 0.031066,
     "end_time": "2022-09-24T18:53:04.740285",
     "exception": false,
     "start_time": "2022-09-24T18:53:04.709219",
     "status": "completed"
    },
    "tags": []
   },
   "source": [
    "#### Division with help of '/' and div():"
   ]
  },
  {
   "cell_type": "code",
   "execution_count": 22,
   "id": "377f2bc2",
   "metadata": {
    "execution": {
     "iopub.execute_input": "2022-09-24T18:53:04.805167Z",
     "iopub.status.busy": "2022-09-24T18:53:04.804754Z",
     "iopub.status.idle": "2022-09-24T18:53:04.810855Z",
     "shell.execute_reply": "2022-09-24T18:53:04.810007Z"
    },
    "papermill": {
     "duration": 0.042169,
     "end_time": "2022-09-24T18:53:04.813744",
     "exception": false,
     "start_time": "2022-09-24T18:53:04.771575",
     "status": "completed"
    },
    "tags": []
   },
   "outputs": [
    {
     "name": "stdout",
     "output_type": "stream",
     "text": [
      "Dividation of Series with help of '/' Operator:\n",
      "0      0.730769\n",
      "1      0.730769\n",
      "2      2.130435\n",
      "3      2.130435\n",
      "4      3.133333\n",
      "5      3.133333\n",
      "6      2.136364\n",
      "7      2.136364\n",
      "8      1.590909\n",
      "9      1.590909\n",
      "10     1.066667\n",
      "11     1.066667\n",
      "12     2.266667\n",
      "13     2.266667\n",
      "14    14.500000\n",
      "dtype: float64\n"
     ]
    }
   ],
   "source": [
    "print(\"Dividation of Series with help of '/' Operator:\")\n",
    "print(s1/s2)"
   ]
  },
  {
   "cell_type": "code",
   "execution_count": 23,
   "id": "7ee0e55d",
   "metadata": {
    "execution": {
     "iopub.execute_input": "2022-09-24T18:53:04.878552Z",
     "iopub.status.busy": "2022-09-24T18:53:04.877821Z",
     "iopub.status.idle": "2022-09-24T18:53:04.884647Z",
     "shell.execute_reply": "2022-09-24T18:53:04.882930Z"
    },
    "papermill": {
     "duration": 0.042153,
     "end_time": "2022-09-24T18:53:04.887484",
     "exception": false,
     "start_time": "2022-09-24T18:53:04.845331",
     "status": "completed"
    },
    "tags": []
   },
   "outputs": [
    {
     "name": "stdout",
     "output_type": "stream",
     "text": [
      "Dividation of Series with help of mul() fun:\n",
      "0      0.730769\n",
      "1      0.730769\n",
      "2      2.130435\n",
      "3      2.130435\n",
      "4      3.133333\n",
      "5      3.133333\n",
      "6      2.136364\n",
      "7      2.136364\n",
      "8      1.590909\n",
      "9      1.590909\n",
      "10     1.066667\n",
      "11     1.066667\n",
      "12     2.266667\n",
      "13     2.266667\n",
      "14    14.500000\n",
      "dtype: float64\n"
     ]
    }
   ],
   "source": [
    "print(\"Dividation of Series with help of mul() fun:\")\n",
    "print(s1.div(s2))"
   ]
  },
  {
   "cell_type": "markdown",
   "id": "ae096a09",
   "metadata": {
    "papermill": {
     "duration": 0.031579,
     "end_time": "2022-09-24T18:53:04.951391",
     "exception": false,
     "start_time": "2022-09-24T18:53:04.919812",
     "status": "completed"
    },
    "tags": []
   },
   "source": [
    "#### Maximum of Series using max():"
   ]
  },
  {
   "cell_type": "code",
   "execution_count": 24,
   "id": "fd5d4275",
   "metadata": {
    "execution": {
     "iopub.execute_input": "2022-09-24T18:53:05.017188Z",
     "iopub.status.busy": "2022-09-24T18:53:05.016752Z",
     "iopub.status.idle": "2022-09-24T18:53:05.023463Z",
     "shell.execute_reply": "2022-09-24T18:53:05.022357Z"
    },
    "papermill": {
     "duration": 0.042071,
     "end_time": "2022-09-24T18:53:05.025894",
     "exception": false,
     "start_time": "2022-09-24T18:53:04.983823",
     "status": "completed"
    },
    "tags": []
   },
   "outputs": [
    {
     "name": "stdout",
     "output_type": "stream",
     "text": [
      "Maximum of Series: 49\n",
      "Maximum of Series: 30\n"
     ]
    }
   ],
   "source": [
    "print(\"Maximum of Series:\",s1.max())\n",
    "print(\"Maximum of Series:\",s2.max())"
   ]
  },
  {
   "cell_type": "code",
   "execution_count": 25,
   "id": "55e125c9",
   "metadata": {
    "execution": {
     "iopub.execute_input": "2022-09-24T18:53:05.091964Z",
     "iopub.status.busy": "2022-09-24T18:53:05.091572Z",
     "iopub.status.idle": "2022-09-24T18:53:05.097908Z",
     "shell.execute_reply": "2022-09-24T18:53:05.096818Z"
    },
    "papermill": {
     "duration": 0.043075,
     "end_time": "2022-09-24T18:53:05.100524",
     "exception": false,
     "start_time": "2022-09-24T18:53:05.057449",
     "status": "completed"
    },
    "tags": []
   },
   "outputs": [
    {
     "name": "stdout",
     "output_type": "stream",
     "text": [
      "Index of max S1: 2\n",
      "Index of max S2: 10\n"
     ]
    }
   ],
   "source": [
    "#Give Index of MAXIMUM\n",
    "print(\"Index of max S1:\",s1.idxmax())\n",
    "print(\"Index of max S2:\",s2.idxmax())"
   ]
  },
  {
   "cell_type": "markdown",
   "id": "94264742",
   "metadata": {
    "papermill": {
     "duration": 0.034408,
     "end_time": "2022-09-24T18:53:05.166795",
     "exception": false,
     "start_time": "2022-09-24T18:53:05.132387",
     "status": "completed"
    },
    "tags": []
   },
   "source": [
    "#### Minimum of Series using min():"
   ]
  },
  {
   "cell_type": "code",
   "execution_count": 26,
   "id": "614ca869",
   "metadata": {
    "execution": {
     "iopub.execute_input": "2022-09-24T18:53:05.243984Z",
     "iopub.status.busy": "2022-09-24T18:53:05.243250Z",
     "iopub.status.idle": "2022-09-24T18:53:05.250557Z",
     "shell.execute_reply": "2022-09-24T18:53:05.249069Z"
    },
    "papermill": {
     "duration": 0.047938,
     "end_time": "2022-09-24T18:53:05.252697",
     "exception": false,
     "start_time": "2022-09-24T18:53:05.204759",
     "status": "completed"
    },
    "tags": []
   },
   "outputs": [
    {
     "name": "stdout",
     "output_type": "stream",
     "text": [
      "Minimum of Series: 19\n",
      "Minimum of Series: 2\n"
     ]
    }
   ],
   "source": [
    "print(\"Minimum of Series:\",s1.min())\n",
    "print(\"Minimum of Series:\",s2.min())"
   ]
  },
  {
   "cell_type": "code",
   "execution_count": 27,
   "id": "d01492b5",
   "metadata": {
    "execution": {
     "iopub.execute_input": "2022-09-24T18:53:05.319056Z",
     "iopub.status.busy": "2022-09-24T18:53:05.318430Z",
     "iopub.status.idle": "2022-09-24T18:53:05.323874Z",
     "shell.execute_reply": "2022-09-24T18:53:05.322689Z"
    },
    "papermill": {
     "duration": 0.041386,
     "end_time": "2022-09-24T18:53:05.326042",
     "exception": false,
     "start_time": "2022-09-24T18:53:05.284656",
     "status": "completed"
    },
    "tags": []
   },
   "outputs": [
    {
     "name": "stdout",
     "output_type": "stream",
     "text": [
      "Index of MIN S1: 0\n",
      "Index of MIN S2: 14\n"
     ]
    }
   ],
   "source": [
    "#Give the index of MINIMUM\n",
    "print(\"Index of MIN S1:\",s1.idxmin())\n",
    "print(\"Index of MIN S2:\",s2.idxmin())"
   ]
  },
  {
   "cell_type": "markdown",
   "id": "63d693cc",
   "metadata": {
    "papermill": {
     "duration": 0.031392,
     "end_time": "2022-09-24T18:53:05.389220",
     "exception": false,
     "start_time": "2022-09-24T18:53:05.357828",
     "status": "completed"
    },
    "tags": []
   },
   "source": [
    "#### Sum of all element: Sum():"
   ]
  },
  {
   "cell_type": "code",
   "execution_count": 28,
   "id": "77c3332c",
   "metadata": {
    "execution": {
     "iopub.execute_input": "2022-09-24T18:53:05.455157Z",
     "iopub.status.busy": "2022-09-24T18:53:05.454376Z",
     "iopub.status.idle": "2022-09-24T18:53:05.460081Z",
     "shell.execute_reply": "2022-09-24T18:53:05.459033Z"
    },
    "papermill": {
     "duration": 0.04124,
     "end_time": "2022-09-24T18:53:05.462363",
     "exception": false,
     "start_time": "2022-09-24T18:53:05.421123",
     "status": "completed"
    },
    "tags": []
   },
   "outputs": [
    {
     "name": "stdout",
     "output_type": "stream",
     "text": [
      "Sum of all element S1: 555\n",
      "Sum of all element S2: 308\n"
     ]
    }
   ],
   "source": [
    "print(\"Sum of all element S1:\",s1.sum())\n",
    "print(\"Sum of all element S2:\",s2.sum())"
   ]
  },
  {
   "cell_type": "markdown",
   "id": "4dfa6604",
   "metadata": {
    "papermill": {
     "duration": 0.031615,
     "end_time": "2022-09-24T18:53:05.525783",
     "exception": false,
     "start_time": "2022-09-24T18:53:05.494168",
     "status": "completed"
    },
    "tags": []
   },
   "source": [
    "#### Product of all Value:\n",
    "- Return the product of the values over the requested axis.\n",
    "- **Syntex** <h4>Series.prod(axis=None, skipna=True, level=None, numeric_only=None, min_count=0, **kwargs)</h4>"
   ]
  },
  {
   "cell_type": "code",
   "execution_count": 29,
   "id": "3176f2f9",
   "metadata": {
    "execution": {
     "iopub.execute_input": "2022-09-24T18:53:05.591330Z",
     "iopub.status.busy": "2022-09-24T18:53:05.590908Z",
     "iopub.status.idle": "2022-09-24T18:53:05.597235Z",
     "shell.execute_reply": "2022-09-24T18:53:05.596147Z"
    },
    "papermill": {
     "duration": 0.041703,
     "end_time": "2022-09-24T18:53:05.599617",
     "exception": false,
     "start_time": "2022-09-24T18:53:05.557914",
     "status": "completed"
    },
    "tags": []
   },
   "outputs": [
    {
     "name": "stdout",
     "output_type": "stream",
     "text": [
      "Due to data type(int64 require higher) it is giviing wrong value: -1711325169118031872\n",
      "Data type: <class 'numpy.int64'>\n",
      "\n",
      "Product of s2 Sereis: 7633621679112000000\n"
     ]
    }
   ],
   "source": [
    "###Due to data type (int64) it is giving wrong value beacuse product value is very high can't store in int64\n",
    "\n",
    "print(\"Due to data type(int64 require higher) it is giviing wrong value:\",s1.prod())  \n",
    "print(\"Data type:\",type(s1.prod()))\n",
    "\n",
    "print(\"\\nProduct of s2 Sereis:\",s2.prod())"
   ]
  },
  {
   "cell_type": "markdown",
   "id": "73278291",
   "metadata": {
    "papermill": {
     "duration": 0.031654,
     "end_time": "2022-09-24T18:53:05.663230",
     "exception": false,
     "start_time": "2022-09-24T18:53:05.631576",
     "status": "completed"
    },
    "tags": []
   },
   "source": [
    "#### Mean of Series Value:\n",
    "- Return the mean of the values over the requested axis.\n",
    "- **Syntax** <h4>Series.mean(axis=_NoDefault.no_default, skipna=True, level=None, numeric_only=None, **kwargs)</h4>\n",
    "\n"
   ]
  },
  {
   "cell_type": "code",
   "execution_count": 30,
   "id": "deeca714",
   "metadata": {
    "execution": {
     "iopub.execute_input": "2022-09-24T18:53:05.729196Z",
     "iopub.status.busy": "2022-09-24T18:53:05.727981Z",
     "iopub.status.idle": "2022-09-24T18:53:05.735319Z",
     "shell.execute_reply": "2022-09-24T18:53:05.734038Z"
    },
    "papermill": {
     "duration": 0.042613,
     "end_time": "2022-09-24T18:53:05.737731",
     "exception": false,
     "start_time": "2022-09-24T18:53:05.695118",
     "status": "completed"
    },
    "tags": []
   },
   "outputs": [
    {
     "name": "stdout",
     "output_type": "stream",
     "text": [
      "Mean of series 1 value: 37.0\n",
      "Mean of series 2 value: 20.533333333333335\n"
     ]
    }
   ],
   "source": [
    "print(\"Mean of series 1 value:\",s1.mean())\n",
    "print(\"Mean of series 2 value:\",s2.mean())"
   ]
  },
  {
   "cell_type": "markdown",
   "id": "8b7ad811",
   "metadata": {
    "papermill": {
     "duration": 0.032616,
     "end_time": "2022-09-24T18:53:05.802679",
     "exception": false,
     "start_time": "2022-09-24T18:53:05.770063",
     "status": "completed"
    },
    "tags": []
   },
   "source": [
    "#### Power of Series Value:\n",
    "- Return Exponential power of series and other, element-wise (binary operator pow).\n",
    "- **Syntax:** <h4>Series.pow(other, level=None, fill_value=None, axis=0)</h4>"
   ]
  },
  {
   "cell_type": "code",
   "execution_count": 31,
   "id": "04f8a675",
   "metadata": {
    "execution": {
     "iopub.execute_input": "2022-09-24T18:53:05.869433Z",
     "iopub.status.busy": "2022-09-24T18:53:05.868331Z",
     "iopub.status.idle": "2022-09-24T18:53:05.884803Z",
     "shell.execute_reply": "2022-09-24T18:53:05.882908Z"
    },
    "papermill": {
     "duration": 0.052503,
     "end_time": "2022-09-24T18:53:05.887412",
     "exception": false,
     "start_time": "2022-09-24T18:53:05.834909",
     "status": "completed"
    },
    "tags": []
   },
   "outputs": [
    {
     "name": "stdout",
     "output_type": "stream",
     "text": [
      "Power of Series 1 value:\n",
      " 0      361.0\n",
      "1      361.0\n",
      "2     2401.0\n",
      "3     2401.0\n",
      "4     2209.0\n",
      "5     2209.0\n",
      "6     2209.0\n",
      "7     2209.0\n",
      "8     1225.0\n",
      "9     1225.0\n",
      "10    1024.0\n",
      "11    1024.0\n",
      "12    1156.0\n",
      "13    1156.0\n",
      "14     841.0\n",
      "15       NaN\n",
      "16       NaN\n",
      "dtype: float64\n",
      "\n",
      "Power of Series 2 value:\n",
      " 0     676.0\n",
      "1     676.0\n",
      "2     529.0\n",
      "3     529.0\n",
      "4     225.0\n",
      "5     225.0\n",
      "6     484.0\n",
      "7     484.0\n",
      "8     484.0\n",
      "9     484.0\n",
      "10    900.0\n",
      "11    900.0\n",
      "12    225.0\n",
      "13    225.0\n",
      "14      4.0\n",
      "15      NaN\n",
      "16      NaN\n",
      "dtype: float64\n"
     ]
    }
   ],
   "source": [
    "list1=[2 for i in range(17)]\n",
    "power=pd.Series(list1)\n",
    "\n",
    "#power is series with value 2 as POWER to Series s1.\n",
    "print(\"Power of Series 1 value:\\n\",s1.pow(power)) \n",
    "print(\"\\nPower of Series 2 value:\\n\",s2.pow(power))"
   ]
  },
  {
   "cell_type": "code",
   "execution_count": 32,
   "id": "ebc1c010",
   "metadata": {
    "execution": {
     "iopub.execute_input": "2022-09-24T18:53:05.953846Z",
     "iopub.status.busy": "2022-09-24T18:53:05.952809Z",
     "iopub.status.idle": "2022-09-24T18:53:05.964087Z",
     "shell.execute_reply": "2022-09-24T18:53:05.962347Z"
    },
    "papermill": {
     "duration": 0.047165,
     "end_time": "2022-09-24T18:53:05.966592",
     "exception": false,
     "start_time": "2022-09-24T18:53:05.919427",
     "status": "completed"
    },
    "tags": []
   },
   "outputs": [
    {
     "name": "stdout",
     "output_type": "stream",
     "text": [
      "Power of Series 1 value:\n",
      " 0      361.0\n",
      "1      361.0\n",
      "2     2401.0\n",
      "3     2401.0\n",
      "4     2209.0\n",
      "5     2209.0\n",
      "6     2209.0\n",
      "7     2209.0\n",
      "8     1225.0\n",
      "9     1225.0\n",
      "10    1024.0\n",
      "11    1024.0\n",
      "12    1156.0\n",
      "13    1156.0\n",
      "14     841.0\n",
      "15       0.0\n",
      "16       0.0\n",
      "dtype: float64\n",
      "\n",
      "Power of Series 2 value:\n",
      " 0     676.0\n",
      "1     676.0\n",
      "2     529.0\n",
      "3     529.0\n",
      "4     225.0\n",
      "5     225.0\n",
      "6     484.0\n",
      "7     484.0\n",
      "8     484.0\n",
      "9     484.0\n",
      "10    900.0\n",
      "11    900.0\n",
      "12    225.0\n",
      "13    225.0\n",
      "14      4.0\n",
      "15      0.0\n",
      "16      0.0\n",
      "dtype: float64\n"
     ]
    }
   ],
   "source": [
    "# NaN NONE value replacement \n",
    "None_value=0\n",
    "print(\"Power of Series 1 value:\\n\",s1.pow(power,fill_value=None_value)) \n",
    "print(\"\\nPower of Series 2 value:\\n\",s2.pow(power,fill_value=None_value))"
   ]
  },
  {
   "cell_type": "markdown",
   "id": "a90d5bd1",
   "metadata": {
    "papermill": {
     "duration": 0.031841,
     "end_time": "2022-09-24T18:53:06.031329",
     "exception": false,
     "start_time": "2022-09-24T18:53:05.999488",
     "status": "completed"
    },
    "tags": []
   },
   "source": [
    "#### Absolute value / abs():\n",
    "- The abs() function is used to get a Series/DataFrame with absolute numeric value of each element.|\n",
    "- This function only applies to elements that are all numeric"
   ]
  },
  {
   "cell_type": "code",
   "execution_count": 33,
   "id": "9a39a27c",
   "metadata": {
    "execution": {
     "iopub.execute_input": "2022-09-24T18:53:06.097848Z",
     "iopub.status.busy": "2022-09-24T18:53:06.097420Z",
     "iopub.status.idle": "2022-09-24T18:53:06.104911Z",
     "shell.execute_reply": "2022-09-24T18:53:06.104039Z"
    },
    "papermill": {
     "duration": 0.04347,
     "end_time": "2022-09-24T18:53:06.107361",
     "exception": false,
     "start_time": "2022-09-24T18:53:06.063891",
     "status": "completed"
    },
    "tags": []
   },
   "outputs": [
    {
     "name": "stdout",
     "output_type": "stream",
     "text": [
      "Original test Series:\n",
      " 0     -1.0\n",
      "1      3.0\n",
      "2     -4.0\n",
      "3     -4.5\n",
      "4    -10.3\n",
      "5    -90.0\n",
      "6    100.0\n",
      "dtype: float64 \n",
      "\n",
      "Finding absolute value of Series:\n",
      " 0      1.0\n",
      "1      3.0\n",
      "2      4.0\n",
      "3      4.5\n",
      "4     10.3\n",
      "5     90.0\n",
      "6    100.0\n",
      "dtype: float64\n"
     ]
    }
   ],
   "source": [
    "test=pd.Series([-1,3,-4,-4.5,-10.3,-90,100])\n",
    "print(\"Original test Series:\\n\",test,\"\\n\\nFinding absolute value of Series:\\n\",test.abs())"
   ]
  },
  {
   "cell_type": "code",
   "execution_count": 34,
   "id": "65481257",
   "metadata": {
    "execution": {
     "iopub.execute_input": "2022-09-24T18:53:06.174170Z",
     "iopub.status.busy": "2022-09-24T18:53:06.173728Z",
     "iopub.status.idle": "2022-09-24T18:53:06.198677Z",
     "shell.execute_reply": "2022-09-24T18:53:06.197308Z"
    },
    "papermill": {
     "duration": 0.061341,
     "end_time": "2022-09-24T18:53:06.201094",
     "exception": false,
     "start_time": "2022-09-24T18:53:06.139753",
     "status": "completed"
    },
    "tags": []
   },
   "outputs": [
    {
     "name": "stdout",
     "output_type": "stream",
     "text": [
      "First it perform '-' Operation and than absolute:\n"
     ]
    },
    {
     "data": {
      "text/html": [
       "<div>\n",
       "<style scoped>\n",
       "    .dataframe tbody tr th:only-of-type {\n",
       "        vertical-align: middle;\n",
       "    }\n",
       "\n",
       "    .dataframe tbody tr th {\n",
       "        vertical-align: top;\n",
       "    }\n",
       "\n",
       "    .dataframe thead th {\n",
       "        text-align: right;\n",
       "    }\n",
       "</style>\n",
       "<table border=\"1\" class=\"dataframe\">\n",
       "  <thead>\n",
       "    <tr style=\"text-align: right;\">\n",
       "      <th></th>\n",
       "      <th>Name</th>\n",
       "      <th>Age</th>\n",
       "      <th>val</th>\n",
       "      <th>ope</th>\n",
       "    </tr>\n",
       "  </thead>\n",
       "  <tbody>\n",
       "    <tr>\n",
       "      <th>0</th>\n",
       "      <td>John</td>\n",
       "      <td>31</td>\n",
       "      <td>98</td>\n",
       "      <td>11</td>\n",
       "    </tr>\n",
       "    <tr>\n",
       "      <th>1</th>\n",
       "      <td>Hari</td>\n",
       "      <td>29</td>\n",
       "      <td>48</td>\n",
       "      <td>39</td>\n",
       "    </tr>\n",
       "    <tr>\n",
       "      <th>2</th>\n",
       "      <td>Peter</td>\n",
       "      <td>57</td>\n",
       "      <td>-80</td>\n",
       "      <td>167</td>\n",
       "    </tr>\n",
       "    <tr>\n",
       "      <th>3</th>\n",
       "      <td>Loani</td>\n",
       "      <td>40</td>\n",
       "      <td>-14</td>\n",
       "      <td>101</td>\n",
       "    </tr>\n",
       "  </tbody>\n",
       "</table>\n",
       "</div>"
      ],
      "text/plain": [
       "    Name  Age  val  ope\n",
       "0   John   31   98   11\n",
       "1   Hari   29   48   39\n",
       "2  Peter   57  -80  167\n",
       "3  Loani   40  -14  101"
      ]
     },
     "execution_count": 34,
     "metadata": {},
     "output_type": "execute_result"
    }
   ],
   "source": [
    "df = pd.DataFrame({'Name': ['John', 'Hari', 'Peter', 'Loani'],\n",
    "                  'Age': [31, 29, 57, 40],\n",
    "                  'val': [98, 48, -80, -14]})\n",
    " \n",
    "\n",
    "print(\"First it perform '-' Operation and than absolute:\")\n",
    "df['ope'] = (df.val - 87).abs() \n",
    "df"
   ]
  },
  {
   "cell_type": "markdown",
   "id": "5a229656",
   "metadata": {
    "papermill": {
     "duration": 0.032476,
     "end_time": "2022-09-24T18:53:06.266694",
     "exception": false,
     "start_time": "2022-09-24T18:53:06.234218",
     "status": "completed"
    },
    "tags": []
   },
   "source": [
    "#### Covariance\n",
    "- Compute covariance with Series, excluding missing values.\n",
    "- **Syntax** <h4>Series.cov(other, min_periods=None, ddof=1)"
   ]
  },
  {
   "cell_type": "code",
   "execution_count": 35,
   "id": "d5ed5362",
   "metadata": {
    "execution": {
     "iopub.execute_input": "2022-09-24T18:53:06.333870Z",
     "iopub.status.busy": "2022-09-24T18:53:06.332751Z",
     "iopub.status.idle": "2022-09-24T18:53:06.342854Z",
     "shell.execute_reply": "2022-09-24T18:53:06.341532Z"
    },
    "papermill": {
     "duration": 0.046549,
     "end_time": "2022-09-24T18:53:06.345409",
     "exception": false,
     "start_time": "2022-09-24T18:53:06.298860",
     "status": "completed"
    },
    "tags": []
   },
   "outputs": [
    {
     "name": "stdout",
     "output_type": "stream",
     "text": [
      "Find covariance of Sereis: -9.857142857142854\n",
      "Find covariance of Sereis: -9.857142857142854\n"
     ]
    }
   ],
   "source": [
    "print(\"Find covariance of Sereis:\",s2.cov(s1))\n",
    "print(\"Find covariance of Sereis:\",s1.cov(s2))"
   ]
  },
  {
   "cell_type": "code",
   "execution_count": 36,
   "id": "a4ef766f",
   "metadata": {
    "execution": {
     "iopub.execute_input": "2022-09-24T18:53:06.413834Z",
     "iopub.status.busy": "2022-09-24T18:53:06.413115Z",
     "iopub.status.idle": "2022-09-24T18:53:06.420980Z",
     "shell.execute_reply": "2022-09-24T18:53:06.419811Z"
    },
    "papermill": {
     "duration": 0.044755,
     "end_time": "2022-09-24T18:53:06.423573",
     "exception": false,
     "start_time": "2022-09-24T18:53:06.378818",
     "status": "completed"
    },
    "tags": []
   },
   "outputs": [
    {
     "name": "stdout",
     "output_type": "stream",
     "text": [
      "By Manually: -9.857142857142856\n"
     ]
    }
   ],
   "source": [
    "# storing average of a\n",
    "av_a = sum(s1)/len(s1)\n",
    " \n",
    "# storing average of b\n",
    "av_b = sum(s2)/len(s2)\n",
    " \n",
    "# finding covariance manually\n",
    "def covarfn(a, b, av_a, av_b):\n",
    "    cov = 0\n",
    " \n",
    "    for i in range(0, len(a)):\n",
    "        cov += (a[i] - av_a) * (b[i] - av_b)\n",
    "    return (cov / (len(a)-1))\n",
    " \n",
    "# calling function\n",
    "cov = covarfn(s1, s2, av_a, av_b)\n",
    "\n",
    "print(\"By Manually:\",cov)"
   ]
  },
  {
   "cell_type": "code",
   "execution_count": 37,
   "id": "12cafc63",
   "metadata": {
    "execution": {
     "iopub.execute_input": "2022-09-24T18:53:06.490758Z",
     "iopub.status.busy": "2022-09-24T18:53:06.490010Z",
     "iopub.status.idle": "2022-09-24T18:53:06.497716Z",
     "shell.execute_reply": "2022-09-24T18:53:06.496290Z"
    },
    "papermill": {
     "duration": 0.043741,
     "end_time": "2022-09-24T18:53:06.500038",
     "exception": false,
     "start_time": "2022-09-24T18:53:06.456297",
     "status": "completed"
    },
    "tags": []
   },
   "outputs": [
    {
     "name": "stdout",
     "output_type": "stream",
     "text": [
      "Find covariance of Sereis: 105.42857142857142\n",
      "Find covariance of Sereis: 51.838095238095235\n"
     ]
    }
   ],
   "source": [
    "print(\"Find covariance of Sereis:\",s1.cov(s1))\n",
    "print(\"Find covariance of Sereis:\",s2.cov(s2))"
   ]
  },
  {
   "cell_type": "markdown",
   "id": "321b85ce",
   "metadata": {
    "papermill": {
     "duration": 0.032681,
     "end_time": "2022-09-24T18:53:06.565477",
     "exception": false,
     "start_time": "2022-09-24T18:53:06.532796",
     "status": "completed"
    },
    "tags": []
   },
   "source": [
    "## Attributes Practise:\n",
    "### Python | pandas.Series.is_unique:\n",
    "- Return boolean if values in the object are unique.\n",
    "- **Syntax** <h4>property Series.is_unique[source]</h4>\n"
   ]
  },
  {
   "cell_type": "code",
   "execution_count": 38,
   "id": "cfba48cf",
   "metadata": {
    "execution": {
     "iopub.execute_input": "2022-09-24T18:53:06.633404Z",
     "iopub.status.busy": "2022-09-24T18:53:06.632781Z",
     "iopub.status.idle": "2022-09-24T18:53:06.642310Z",
     "shell.execute_reply": "2022-09-24T18:53:06.640938Z"
    },
    "papermill": {
     "duration": 0.046076,
     "end_time": "2022-09-24T18:53:06.644612",
     "exception": false,
     "start_time": "2022-09-24T18:53:06.598536",
     "status": "completed"
    },
    "tags": []
   },
   "outputs": [
    {
     "name": "stdout",
     "output_type": "stream",
     "text": [
      "Is s1 Unique? False\n",
      "Is s2 Unique? False\n",
      "Is a Unique? True\n"
     ]
    }
   ],
   "source": [
    "print(\"Is s1 Unique?\",s1.is_unique)\n",
    "print(\"Is s2 Unique?\",s2.is_unique)\n",
    "\n",
    "a=pd.Series([1,2,3,4,5,6,7,8,9])\n",
    "print(\"Is a Unique?\",a.is_unique)\n"
   ]
  },
  {
   "cell_type": "markdown",
   "id": "e83b6926",
   "metadata": {
    "papermill": {
     "duration": 0.032581,
     "end_time": "2022-09-24T18:53:06.710046",
     "exception": false,
     "start_time": "2022-09-24T18:53:06.677465",
     "status": "completed"
    },
    "tags": []
   },
   "source": [
    "### Python | pandas.Series.size:\n",
    "- Return the number of elements in the underlying data.\n",
    "- **Syntax** <h4>property Series.size</h4>\n",
    "\n"
   ]
  },
  {
   "cell_type": "code",
   "execution_count": 39,
   "id": "030bae5a",
   "metadata": {
    "execution": {
     "iopub.execute_input": "2022-09-24T18:53:06.777195Z",
     "iopub.status.busy": "2022-09-24T18:53:06.776662Z",
     "iopub.status.idle": "2022-09-24T18:53:06.783271Z",
     "shell.execute_reply": "2022-09-24T18:53:06.782147Z"
    },
    "papermill": {
     "duration": 0.043285,
     "end_time": "2022-09-24T18:53:06.785803",
     "exception": false,
     "start_time": "2022-09-24T18:53:06.742518",
     "status": "completed"
    },
    "tags": []
   },
   "outputs": [
    {
     "name": "stdout",
     "output_type": "stream",
     "text": [
      "Size of s1: 15\n",
      "Size of s1: 15\n",
      "Size of s1: 9\n"
     ]
    }
   ],
   "source": [
    "print(\"Size of s1:\",s1.size)\n",
    "print(\"Size of s1:\",s2.size)\n",
    "print(\"Size of s1:\",a.size)"
   ]
  },
  {
   "cell_type": "markdown",
   "id": "0e6c7049",
   "metadata": {
    "papermill": {
     "duration": 0.033018,
     "end_time": "2022-09-24T18:53:06.851900",
     "exception": false,
     "start_time": "2022-09-24T18:53:06.818882",
     "status": "completed"
    },
    "tags": []
   },
   "source": [
    "#### Python | pandas.Series.name:\n",
    "- Return the name of the Series.\n",
    "- **Syntax** <h4>property Series.name</h4>\n",
    "\n",
    "- FOR RENAME WE USE RENAME ATTRIBUTE"
   ]
  },
  {
   "cell_type": "code",
   "execution_count": 40,
   "id": "278b1031",
   "metadata": {
    "execution": {
     "iopub.execute_input": "2022-09-24T18:53:06.919905Z",
     "iopub.status.busy": "2022-09-24T18:53:06.918936Z",
     "iopub.status.idle": "2022-09-24T18:53:06.926083Z",
     "shell.execute_reply": "2022-09-24T18:53:06.925053Z"
    },
    "papermill": {
     "duration": 0.043742,
     "end_time": "2022-09-24T18:53:06.928306",
     "exception": false,
     "start_time": "2022-09-24T18:53:06.884564",
     "status": "completed"
    },
    "tags": []
   },
   "outputs": [
    {
     "name": "stdout",
     "output_type": "stream",
     "text": [
      "0    19\n",
      "1    19\n",
      "2    49\n",
      "3    49\n",
      "4    47\n",
      "Name: First_Series_S1, dtype: int64\n",
      "\n",
      "0    26\n",
      "1    26\n",
      "2    23\n",
      "3    23\n",
      "4    15\n",
      "Name: Second_Series_S2, dtype: int64\n"
     ]
    }
   ],
   "source": [
    "s1.name=\"First_Series_S1\"\n",
    "s2.name=\"Second_Series_S2\"\n",
    "print(s1.head())\n",
    "print()\n",
    "print(s2.head())"
   ]
  },
  {
   "cell_type": "markdown",
   "id": "c53faf10",
   "metadata": {
    "papermill": {
     "duration": 0.032774,
     "end_time": "2022-09-24T18:53:06.994534",
     "exception": false,
     "start_time": "2022-09-24T18:53:06.961760",
     "status": "completed"
    },
    "tags": []
   },
   "source": []
  },
  {
   "cell_type": "code",
   "execution_count": null,
   "id": "48294215",
   "metadata": {
    "papermill": {
     "duration": 0.03489,
     "end_time": "2022-09-24T18:53:07.062521",
     "exception": false,
     "start_time": "2022-09-24T18:53:07.027631",
     "status": "completed"
    },
    "tags": []
   },
   "outputs": [],
   "source": []
  },
  {
   "cell_type": "markdown",
   "id": "cb884aac",
   "metadata": {
    "papermill": {
     "duration": 0.032911,
     "end_time": "2022-09-24T18:53:07.128715",
     "exception": false,
     "start_time": "2022-09-24T18:53:07.095804",
     "status": "completed"
    },
    "tags": []
   },
   "source": [
    "## Other Methods Practise:\n",
    "### Python | Pandas Series.combine_first()\n",
    "- Pandas combine_first() method is used to combine two series into one. The result is union of the two series that is in case of Null value in caller series, the value from passed series is taken. In case of both null values at the same index, null is returned at that index.\n",
    "- **Syntax** <h4>Series.combine_first(other)</h4>\n",
    "- Update null elements with value in the same location in ‘other’.\n",
    "\n"
   ]
  },
  {
   "cell_type": "code",
   "execution_count": 41,
   "id": "e756ae0a",
   "metadata": {
    "execution": {
     "iopub.execute_input": "2022-09-24T18:53:07.197188Z",
     "iopub.status.busy": "2022-09-24T18:53:07.196561Z",
     "iopub.status.idle": "2022-09-24T18:53:07.207713Z",
     "shell.execute_reply": "2022-09-24T18:53:07.206895Z"
    },
    "papermill": {
     "duration": 0.048823,
     "end_time": "2022-09-24T18:53:07.210870",
     "exception": false,
     "start_time": "2022-09-24T18:53:07.162047",
     "status": "completed"
    },
    "tags": []
   },
   "outputs": [
    {
     "name": "stdout",
     "output_type": "stream",
     "text": [
      "Series 1: 0    1.0\n",
      "1    2.0\n",
      "2    3.0\n",
      "3    4.0\n",
      "4    5.0\n",
      "5    NaN\n",
      "dtype: float64\n",
      "\n",
      "Series 2: 0    1.0\n",
      "1    2.0\n",
      "2    3.0\n",
      "3    4.0\n",
      "4    5.0\n",
      "5    NaN\n",
      "dtype: float64\n",
      "\n",
      "Combine List 0    1.0\n",
      "1    2.0\n",
      "2    3.0\n",
      "3    4.0\n",
      "4    5.0\n",
      "5    6.0\n",
      "dtype: float64\n",
      "\n",
      "Combine List if both have none value at same place 0    1.0\n",
      "1    2.0\n",
      "2    3.0\n",
      "3    4.0\n",
      "4    5.0\n",
      "5    NaN\n",
      "dtype: float64\n"
     ]
    }
   ],
   "source": [
    "a=pd.Series([1,2,3,4,5,np.nan])\n",
    "b=pd.Series([1,2,3,4,5,6])\n",
    "\n",
    "\n",
    "print(\"Series 1:\",a)\n",
    "print(\"\\nSeries 2:\",a)\n",
    "print(\"\\nCombine List\",a.combine_first(b))\n",
    "print(\"\\nCombine List if both have none value at same place\",a.combine_first(a))\n"
   ]
  },
  {
   "cell_type": "markdown",
   "id": "352f11e9",
   "metadata": {
    "papermill": {
     "duration": 0.033045,
     "end_time": "2022-09-24T18:53:07.278120",
     "exception": false,
     "start_time": "2022-09-24T18:53:07.245075",
     "status": "completed"
    },
    "tags": []
   },
   "source": [
    "### Python | Pandas Series.count():\n",
    "- Return number of non-NA/null observations in the Series.\n",
    "- **Syntax** <h4>Series.count(level=None)[source]\n"
   ]
  },
  {
   "cell_type": "code",
   "execution_count": 42,
   "id": "0358a35b",
   "metadata": {
    "execution": {
     "iopub.execute_input": "2022-09-24T18:53:07.346831Z",
     "iopub.status.busy": "2022-09-24T18:53:07.346081Z",
     "iopub.status.idle": "2022-09-24T18:53:07.352403Z",
     "shell.execute_reply": "2022-09-24T18:53:07.351013Z"
    },
    "papermill": {
     "duration": 0.043405,
     "end_time": "2022-09-24T18:53:07.355026",
     "exception": false,
     "start_time": "2022-09-24T18:53:07.311621",
     "status": "completed"
    },
    "tags": []
   },
   "outputs": [
    {
     "name": "stdout",
     "output_type": "stream",
     "text": [
      "Length of Series: 6\n",
      "Count of Non-NULL(NaN) value: 5\n",
      "Count of NULL value: 1\n"
     ]
    }
   ],
   "source": [
    "print(\"Length of Series:\",len(a))\n",
    "print(\"Count of Non-NULL(NaN) value:\",a.count())\n",
    "print(\"Count of NULL value:\",len(a)-a.count())"
   ]
  },
  {
   "cell_type": "markdown",
   "id": "92dce35e",
   "metadata": {
    "papermill": {
     "duration": 0.034915,
     "end_time": "2022-09-24T18:53:07.424268",
     "exception": false,
     "start_time": "2022-09-24T18:53:07.389353",
     "status": "completed"
    },
    "tags": []
   },
   "source": [
    "### Python | pandas.Series.sort_values():\n",
    "- Sort by the values.\n",
    "    - Sort a Series in ascending or descending order by some criterion.\n",
    "- **Syntax** <h4>Series.sort_values(axis=0, ascending=True, inplace=False, kind='quicksort', na_position='last', ignore_index=False, key=None)\n"
   ]
  },
  {
   "cell_type": "code",
   "execution_count": 43,
   "id": "b7a073a7",
   "metadata": {
    "execution": {
     "iopub.execute_input": "2022-09-24T18:53:07.494194Z",
     "iopub.status.busy": "2022-09-24T18:53:07.493453Z",
     "iopub.status.idle": "2022-09-24T18:53:07.499822Z",
     "shell.execute_reply": "2022-09-24T18:53:07.498764Z"
    },
    "papermill": {
     "duration": 0.044093,
     "end_time": "2022-09-24T18:53:07.502335",
     "exception": false,
     "start_time": "2022-09-24T18:53:07.458242",
     "status": "completed"
    },
    "tags": []
   },
   "outputs": [
    {
     "name": "stdout",
     "output_type": "stream",
     "text": [
      "Sorting values by values of Series:\n",
      " 0     19\n",
      "1     19\n",
      "14    29\n",
      "10    32\n",
      "11    32\n",
      "12    34\n",
      "13    34\n",
      "8     35\n",
      "9     35\n",
      "4     47\n",
      "5     47\n",
      "6     47\n",
      "7     47\n",
      "2     49\n",
      "3     49\n",
      "Name: First_Series_S1, dtype: int64\n"
     ]
    }
   ],
   "source": [
    "print(\"Sorting values by values of Series:\\n\",s1.sort_values(ascending=True))"
   ]
  },
  {
   "cell_type": "code",
   "execution_count": 44,
   "id": "3e3e8c02",
   "metadata": {
    "execution": {
     "iopub.execute_input": "2022-09-24T18:53:07.572446Z",
     "iopub.status.busy": "2022-09-24T18:53:07.571986Z",
     "iopub.status.idle": "2022-09-24T18:53:07.578829Z",
     "shell.execute_reply": "2022-09-24T18:53:07.577580Z"
    },
    "papermill": {
     "duration": 0.044599,
     "end_time": "2022-09-24T18:53:07.581039",
     "exception": false,
     "start_time": "2022-09-24T18:53:07.536440",
     "status": "completed"
    },
    "tags": []
   },
   "outputs": [
    {
     "name": "stdout",
     "output_type": "stream",
     "text": [
      "Sorting values by values of Series:\n",
      " 2     49\n",
      "3     49\n",
      "4     47\n",
      "5     47\n",
      "6     47\n",
      "7     47\n",
      "8     35\n",
      "9     35\n",
      "12    34\n",
      "13    34\n",
      "10    32\n",
      "11    32\n",
      "14    29\n",
      "0     19\n",
      "1     19\n",
      "Name: First_Series_S1, dtype: int64\n"
     ]
    }
   ],
   "source": [
    "print(\"Sorting values by values of Series:\\n\",s1.sort_values(ascending=False))"
   ]
  },
  {
   "cell_type": "markdown",
   "id": "a9cd6166",
   "metadata": {
    "papermill": {
     "duration": 0.033256,
     "end_time": "2022-09-24T18:53:07.649445",
     "exception": false,
     "start_time": "2022-09-24T18:53:07.616189",
     "status": "completed"
    },
    "tags": []
   },
   "source": [
    "- Returns a new Series sorted by label if inplace argument is False, otherwise updates the original series and returns None"
   ]
  },
  {
   "cell_type": "code",
   "execution_count": 45,
   "id": "247158f6",
   "metadata": {
    "execution": {
     "iopub.execute_input": "2022-09-24T18:53:07.719631Z",
     "iopub.status.busy": "2022-09-24T18:53:07.719202Z",
     "iopub.status.idle": "2022-09-24T18:53:07.726352Z",
     "shell.execute_reply": "2022-09-24T18:53:07.725250Z"
    },
    "papermill": {
     "duration": 0.045707,
     "end_time": "2022-09-24T18:53:07.728933",
     "exception": false,
     "start_time": "2022-09-24T18:53:07.683226",
     "status": "completed"
    },
    "tags": []
   },
   "outputs": [
    {
     "name": "stdout",
     "output_type": "stream",
     "text": [
      "Print 'None'(Reason above): None\n",
      "2     49\n",
      "3     49\n",
      "4     47\n",
      "5     47\n",
      "6     47\n",
      "7     47\n",
      "8     35\n",
      "9     35\n",
      "12    34\n",
      "13    34\n",
      "10    32\n",
      "11    32\n",
      "14    29\n",
      "0     19\n",
      "1     19\n",
      "Name: First_Series_S1, dtype: int64\n"
     ]
    }
   ],
   "source": [
    "print(\"Print 'None'(Reason above):\",s1.sort_values(ascending=False,inplace=True))\n",
    "print(s1)"
   ]
  },
  {
   "cell_type": "code",
   "execution_count": 46,
   "id": "97c45ba8",
   "metadata": {
    "execution": {
     "iopub.execute_input": "2022-09-24T18:53:07.799058Z",
     "iopub.status.busy": "2022-09-24T18:53:07.798274Z",
     "iopub.status.idle": "2022-09-24T18:53:07.808418Z",
     "shell.execute_reply": "2022-09-24T18:53:07.806889Z"
    },
    "papermill": {
     "duration": 0.047451,
     "end_time": "2022-09-24T18:53:07.810925",
     "exception": false,
     "start_time": "2022-09-24T18:53:07.763474",
     "status": "completed"
    },
    "tags": []
   },
   "outputs": [
    {
     "name": "stdout",
     "output_type": "stream",
     "text": [
      "Sorting values by values of Series:\n",
      " 3    NaN\n",
      "6    NaN\n",
      "0    1.0\n",
      "1    2.0\n",
      "2    3.0\n",
      "5    4.0\n",
      "8    4.0\n",
      "4    5.0\n",
      "7    6.0\n",
      "dtype: float64\n",
      "Sorting values by values of Series:\n",
      " 0    1.0\n",
      "1    2.0\n",
      "2    3.0\n",
      "5    4.0\n",
      "8    4.0\n",
      "4    5.0\n",
      "7    6.0\n",
      "3    NaN\n",
      "6    NaN\n",
      "dtype: float64\n"
     ]
    }
   ],
   "source": [
    "a=pd.Series([1,2,3,np.nan,5,4,np.nan,6,4])\n",
    "print(\"Sorting values by values of Series:\\n\",a.sort_values(ascending=True,na_position='first'))\n",
    "print(\"Sorting values by values of Series:\\n\",a.sort_values(ascending=True,na_position='last'))"
   ]
  },
  {
   "cell_type": "code",
   "execution_count": 47,
   "id": "c9d60241",
   "metadata": {
    "execution": {
     "iopub.execute_input": "2022-09-24T18:53:07.880333Z",
     "iopub.status.busy": "2022-09-24T18:53:07.879632Z",
     "iopub.status.idle": "2022-09-24T18:53:07.887648Z",
     "shell.execute_reply": "2022-09-24T18:53:07.885764Z"
    },
    "papermill": {
     "duration": 0.045221,
     "end_time": "2022-09-24T18:53:07.889962",
     "exception": false,
     "start_time": "2022-09-24T18:53:07.844741",
     "status": "completed"
    },
    "tags": []
   },
   "outputs": [
    {
     "name": "stdout",
     "output_type": "stream",
     "text": [
      "Sorting values by values of Series:\n",
      " 3    a\n",
      "1    b\n",
      "4    c\n",
      "2    d\n",
      "0    z\n",
      "dtype: object\n"
     ]
    }
   ],
   "source": [
    "test = pd.Series(['z', 'b', 'd', 'a', 'c'])\n",
    "print(\"Sorting values by values of Series:\\n\",test.sort_values())\n"
   ]
  },
  {
   "cell_type": "code",
   "execution_count": 48,
   "id": "ec5c6bff",
   "metadata": {
    "execution": {
     "iopub.execute_input": "2022-09-24T18:53:07.958530Z",
     "iopub.status.busy": "2022-09-24T18:53:07.958115Z",
     "iopub.status.idle": "2022-09-24T18:53:07.967961Z",
     "shell.execute_reply": "2022-09-24T18:53:07.966885Z"
    },
    "papermill": {
     "duration": 0.047176,
     "end_time": "2022-09-24T18:53:07.970661",
     "exception": false,
     "start_time": "2022-09-24T18:53:07.923485",
     "status": "completed"
    },
    "tags": []
   },
   "outputs": [
    {
     "name": "stdout",
     "output_type": "stream",
     "text": [
      "Before:\n",
      " 1     B\n",
      "3     D\n",
      "7     F\n",
      "8     I\n",
      "0     a\n",
      "2     c\n",
      "4     e\n",
      "5     g\n",
      "6     h\n",
      "9     j\n",
      "10    k\n",
      "dtype: object\n",
      "\n",
      "After:\n",
      " 0     a\n",
      "1     B\n",
      "2     c\n",
      "3     D\n",
      "4     e\n",
      "7     F\n",
      "5     g\n",
      "6     h\n",
      "8     I\n",
      "9     j\n",
      "10    k\n",
      "dtype: object\n"
     ]
    }
   ],
   "source": [
    "s = pd.Series(['a', 'B', 'c', 'D', 'e','g','h','F','I','j','k',])\n",
    "print(\"Before:\\n\",s.sort_values())\n",
    "print(\"\\nAfter:\\n\",s.sort_values(key=lambda x: x.str.lower()))"
   ]
  },
  {
   "cell_type": "code",
   "execution_count": 49,
   "id": "12925e1e",
   "metadata": {
    "execution": {
     "iopub.execute_input": "2022-09-24T18:53:08.040681Z",
     "iopub.status.busy": "2022-09-24T18:53:08.039583Z",
     "iopub.status.idle": "2022-09-24T18:53:08.051285Z",
     "shell.execute_reply": "2022-09-24T18:53:08.050232Z"
    },
    "papermill": {
     "duration": 0.048883,
     "end_time": "2022-09-24T18:53:08.053467",
     "exception": false,
     "start_time": "2022-09-24T18:53:08.004584",
     "status": "completed"
    },
    "tags": []
   },
   "outputs": [
    {
     "data": {
      "text/plain": [
       "1   -2\n",
       "4    4\n",
       "2    0\n",
       "0   -4\n",
       "3    2\n",
       "dtype: int64"
      ]
     },
     "execution_count": 49,
     "metadata": {},
     "output_type": "execute_result"
    }
   ],
   "source": [
    "\"\"\"NumPy ufuncs work well here. For example, we can sort by the sin of the value\"\"\"\n",
    "s = pd.Series([-4, -2, 0, 2, 4])\n",
    "s.sort_values(key=np.sin)"
   ]
  },
  {
   "cell_type": "code",
   "execution_count": 50,
   "id": "8fdf0740",
   "metadata": {
    "execution": {
     "iopub.execute_input": "2022-09-24T18:53:08.123344Z",
     "iopub.status.busy": "2022-09-24T18:53:08.122916Z",
     "iopub.status.idle": "2022-09-24T18:53:08.131465Z",
     "shell.execute_reply": "2022-09-24T18:53:08.130623Z"
    },
    "papermill": {
     "duration": 0.045531,
     "end_time": "2022-09-24T18:53:08.133441",
     "exception": false,
     "start_time": "2022-09-24T18:53:08.087910",
     "status": "completed"
    },
    "tags": []
   },
   "outputs": [
    {
     "data": {
      "text/plain": [
       "0   -4\n",
       "3    2\n",
       "4    4\n",
       "1   -2\n",
       "2    0\n",
       "dtype: int64"
      ]
     },
     "execution_count": 50,
     "metadata": {},
     "output_type": "execute_result"
    }
   ],
   "source": [
    "\"\"\"More complicated user-defined functions can be used, as long as they expect\n",
    "a Series and return an array-like\"\"\"\n",
    "\n",
    "s.sort_values(key=lambda x: (np.tan(x.cumsum())))"
   ]
  },
  {
   "cell_type": "markdown",
   "id": "485ba6e2",
   "metadata": {
    "papermill": {
     "duration": 0.033379,
     "end_time": "2022-09-24T18:53:08.200664",
     "exception": false,
     "start_time": "2022-09-24T18:53:08.167285",
     "status": "completed"
    },
    "tags": []
   },
   "source": [
    "### Python | pandas.Series.sort_index():\n",
    "- Sort Series by index labels.\n",
    "- Returns a new Series sorted by label if inplace argument is **False**, otherwise updates the original series and returns **None**\n",
    "- **Syntax** <h4>Series.sort_index(axis=0, level=None, ascending=True, inplace=False, kind='quicksort', na_position='last', sort_remaining=True, ignore_index=False, key=None)"
   ]
  },
  {
   "cell_type": "code",
   "execution_count": 51,
   "id": "175c9991",
   "metadata": {
    "execution": {
     "iopub.execute_input": "2022-09-24T18:53:08.268924Z",
     "iopub.status.busy": "2022-09-24T18:53:08.268493Z",
     "iopub.status.idle": "2022-09-24T18:53:08.280083Z",
     "shell.execute_reply": "2022-09-24T18:53:08.279183Z"
    },
    "papermill": {
     "duration": 0.049042,
     "end_time": "2022-09-24T18:53:08.283067",
     "exception": false,
     "start_time": "2022-09-24T18:53:08.234025",
     "status": "completed"
    },
    "tags": []
   },
   "outputs": [
    {
     "name": "stdout",
     "output_type": "stream",
     "text": [
      "Before :\n",
      " 3    a\n",
      "2    b\n",
      "1    c\n",
      "4    d\n",
      "dtype: object\n"
     ]
    },
    {
     "data": {
      "text/plain": [
       "1    c\n",
       "2    b\n",
       "3    a\n",
       "4    d\n",
       "dtype: object"
      ]
     },
     "execution_count": 51,
     "metadata": {},
     "output_type": "execute_result"
    }
   ],
   "source": [
    "s = pd.Series(['a', 'b', 'c', 'd'], index=[3, 2, 1, 4])\n",
    "print(\"Before :\\n\",s)\n",
    "s.sort_index()"
   ]
  },
  {
   "cell_type": "code",
   "execution_count": 52,
   "id": "84ee5dd4",
   "metadata": {
    "execution": {
     "iopub.execute_input": "2022-09-24T18:53:08.352439Z",
     "iopub.status.busy": "2022-09-24T18:53:08.351718Z",
     "iopub.status.idle": "2022-09-24T18:53:08.360279Z",
     "shell.execute_reply": "2022-09-24T18:53:08.359087Z"
    },
    "papermill": {
     "duration": 0.0458,
     "end_time": "2022-09-24T18:53:08.362490",
     "exception": false,
     "start_time": "2022-09-24T18:53:08.316690",
     "status": "completed"
    },
    "tags": []
   },
   "outputs": [
    {
     "data": {
      "text/plain": [
       "4    d\n",
       "3    a\n",
       "2    b\n",
       "1    c\n",
       "dtype: object"
      ]
     },
     "execution_count": 52,
     "metadata": {},
     "output_type": "execute_result"
    }
   ],
   "source": [
    "s.sort_index(ascending=False)"
   ]
  },
  {
   "cell_type": "code",
   "execution_count": 53,
   "id": "b60415ea",
   "metadata": {
    "execution": {
     "iopub.execute_input": "2022-09-24T18:53:08.432974Z",
     "iopub.status.busy": "2022-09-24T18:53:08.432566Z",
     "iopub.status.idle": "2022-09-24T18:53:08.439546Z",
     "shell.execute_reply": "2022-09-24T18:53:08.438485Z"
    },
    "papermill": {
     "duration": 0.045197,
     "end_time": "2022-09-24T18:53:08.441956",
     "exception": false,
     "start_time": "2022-09-24T18:53:08.396759",
     "status": "completed"
    },
    "tags": []
   },
   "outputs": [
    {
     "name": "stdout",
     "output_type": "stream",
     "text": [
      "None\n",
      "1    c\n",
      "2    b\n",
      "3    a\n",
      "4    d\n",
      "dtype: object\n"
     ]
    }
   ],
   "source": [
    "\"\"\"Returns a new Series sorted by label if inplace argument is False, \n",
    "otherwise updates the original series and returns None\"\"\"\n",
    "\n",
    "print(s.sort_index(inplace=True))\n",
    "print(s)"
   ]
  },
  {
   "cell_type": "code",
   "execution_count": 54,
   "id": "8b4492d2",
   "metadata": {
    "execution": {
     "iopub.execute_input": "2022-09-24T18:53:08.511511Z",
     "iopub.status.busy": "2022-09-24T18:53:08.511146Z",
     "iopub.status.idle": "2022-09-24T18:53:08.521130Z",
     "shell.execute_reply": "2022-09-24T18:53:08.520058Z"
    },
    "papermill": {
     "duration": 0.047506,
     "end_time": "2022-09-24T18:53:08.523421",
     "exception": false,
     "start_time": "2022-09-24T18:53:08.475915",
     "status": "completed"
    },
    "tags": []
   },
   "outputs": [
    {
     "data": {
      "text/plain": [
       "NaN    d\n",
       "1.0    c\n",
       "2.0    b\n",
       "3.0    a\n",
       "dtype: object"
      ]
     },
     "execution_count": 54,
     "metadata": {},
     "output_type": "execute_result"
    }
   ],
   "source": [
    "s = pd.Series(['a', 'b', 'c', 'd'], index=[3, 2, 1, np.nan])\n",
    "s.sort_index(na_position='first')"
   ]
  },
  {
   "cell_type": "code",
   "execution_count": 55,
   "id": "9e88e2d3",
   "metadata": {
    "execution": {
     "iopub.execute_input": "2022-09-24T18:53:08.593309Z",
     "iopub.status.busy": "2022-09-24T18:53:08.592886Z",
     "iopub.status.idle": "2022-09-24T18:53:08.608632Z",
     "shell.execute_reply": "2022-09-24T18:53:08.607586Z"
    },
    "papermill": {
     "duration": 0.053518,
     "end_time": "2022-09-24T18:53:08.611152",
     "exception": false,
     "start_time": "2022-09-24T18:53:08.557634",
     "status": "completed"
    },
    "tags": []
   },
   "outputs": [
    {
     "name": "stdout",
     "output_type": "stream",
     "text": [
      "Print By level 1:\n",
      " bar  one    8\n",
      "baz  one    6\n",
      "foo  one    4\n",
      "qux  one    2\n",
      "bar  two    7\n",
      "baz  two    5\n",
      "foo  two    3\n",
      "qux  two    1\n",
      "dtype: int64\n",
      "\n",
      "Print By level 2:\n",
      " bar  one    8\n",
      "     two    7\n",
      "baz  one    6\n",
      "     two    5\n",
      "foo  one    4\n",
      "     two    3\n",
      "qux  one    2\n",
      "     two    1\n",
      "dtype: int64\n"
     ]
    }
   ],
   "source": [
    "arrays = [np.array(['qux', 'qux', 'foo', 'foo',\n",
    "                    'baz', 'baz', 'bar', 'bar']),\n",
    "          np.array(['two', 'one', 'two', 'one',\n",
    "                    'two', 'one', 'two', 'one'])]\n",
    "#2-D array index\n",
    "s = pd.Series([1, 2, 3, 4, 5, 6, 7, 8], index=arrays)\n",
    "print(\"Print By level 1:\\n\",s.sort_index(level=1))\n",
    "print(\"\\nPrint By level 2:\\n\",s.sort_index(level=0))"
   ]
  },
  {
   "cell_type": "code",
   "execution_count": 56,
   "id": "5ede81da",
   "metadata": {
    "execution": {
     "iopub.execute_input": "2022-09-24T18:53:08.682526Z",
     "iopub.status.busy": "2022-09-24T18:53:08.682156Z",
     "iopub.status.idle": "2022-09-24T18:53:08.691501Z",
     "shell.execute_reply": "2022-09-24T18:53:08.690551Z"
    },
    "papermill": {
     "duration": 0.047033,
     "end_time": "2022-09-24T18:53:08.693687",
     "exception": false,
     "start_time": "2022-09-24T18:53:08.646654",
     "status": "completed"
    },
    "tags": []
   },
   "outputs": [
    {
     "data": {
      "text/plain": [
       "qux  one    2\n",
       "foo  one    4\n",
       "baz  one    6\n",
       "bar  one    8\n",
       "qux  two    1\n",
       "foo  two    3\n",
       "baz  two    5\n",
       "bar  two    7\n",
       "dtype: int64"
      ]
     },
     "execution_count": 56,
     "metadata": {},
     "output_type": "execute_result"
    }
   ],
   "source": [
    "s.sort_index(level=1, sort_remaining=False)"
   ]
  },
  {
   "cell_type": "code",
   "execution_count": 57,
   "id": "b5679344",
   "metadata": {
    "execution": {
     "iopub.execute_input": "2022-09-24T18:53:08.765935Z",
     "iopub.status.busy": "2022-09-24T18:53:08.765510Z",
     "iopub.status.idle": "2022-09-24T18:53:08.775647Z",
     "shell.execute_reply": "2022-09-24T18:53:08.774418Z"
    },
    "papermill": {
     "duration": 0.048783,
     "end_time": "2022-09-24T18:53:08.778150",
     "exception": false,
     "start_time": "2022-09-24T18:53:08.729367",
     "status": "completed"
    },
    "tags": []
   },
   "outputs": [
    {
     "data": {
      "text/plain": [
       "A    1\n",
       "b    2\n",
       "C    3\n",
       "d    4\n",
       "dtype: int64"
      ]
     },
     "execution_count": 57,
     "metadata": {},
     "output_type": "execute_result"
    }
   ],
   "source": [
    "s = pd.Series([1, 2, 3, 4], index=['A', 'b', 'C', 'd'])\n",
    "s.sort_index(key=lambda x : x.str.lower())"
   ]
  },
  {
   "cell_type": "markdown",
   "id": "7aa258b2",
   "metadata": {
    "papermill": {
     "duration": 0.033989,
     "end_time": "2022-09-24T18:53:08.847317",
     "exception": false,
     "start_time": "2022-09-24T18:53:08.813328",
     "status": "completed"
    },
    "tags": []
   },
   "source": [
    "# NOTE FOR ALL THE METHODS & ATTRIBUTE VISIT \n",
    "https://pandas.pydata.org/docs/reference/api/pandas.Series.html#pandas.Series\n",
    "***"
   ]
  },
  {
   "cell_type": "markdown",
   "id": "15b3bda3",
   "metadata": {
    "papermill": {
     "duration": 0.034049,
     "end_time": "2022-09-24T18:53:08.915715",
     "exception": false,
     "start_time": "2022-09-24T18:53:08.881666",
     "status": "completed"
    },
    "tags": []
   },
   "source": [
    "***\n",
    "# 2. pandas.DataFrame(): \n",
    "- DataFrame is a 2-dimensional labeled data structure with columns of potentially different types. You can think of it like a **spreadsheet** or **SQL table**, or a dict of Series objects. It is generally the most commonly used pandas object.\n",
    "\n",
    "- **Like Series, DataFrame accepts many different kinds of input:**\n",
    "\n",
    "    - Dict of 1D ndarrays, lists, dicts, or Series\n",
    "    - 2-D numpy.ndarray\n",
    "    - Structured or record ndarray\n",
    "    - A Series\n",
    "    - Another DataFrame\n",
    "    \n",
    "Along with the data, you can optionally pass index (row labels) and columns (column labels) arguments. If you pass an index and / or columns, you are guaranteeing the index and / or columns of the resulting DataFrame. Thus, a dict of Series plus a specific index will discard all data not matching up to the passed index.\n",
    "\n",
    "If axis labels are not passed, they will be constructed from the input data based on common sense rules.\n",
    "\n",
    "- **Syntex:** <h3>class pandas.DataFrame(data=None, index=None, columns=None, dtype=None, copy=None)</h3>\n",
    "![](https://media.geeksforgeeks.org/wp-content/uploads/finallpandas.png)\n",
    "\n",
    "\n",
    "### Attributes of DataFrame:\n",
    "***\n",
    "<table class=\"autosummary longtable table autosummary\">\n",
    "<colgroup>\n",
    "<col style=\"width: 10%\">\n",
    "<col style=\"width: 90%\">\n",
    "</colgroup>\n",
    "<tbody>\n",
    "<tr class=\"row-odd\"><td><p><a class=\"reference internal\" href=\"https://pandas.pydata.org/docs/reference/api/pandas.DataFrame.at.html#pandas.DataFrame.at\" title=\"pandas.DataFrame.at\"><code class=\"xref py py-obj docutils literal notranslate\"><span class=\"pre\">at</span></code></a></p></td>\n",
    "<td><p>Access a single value for a row/column label pair.</p></td>\n",
    "</tr>\n",
    "<tr class=\"row-even\"><td><p><a class=\"reference internal\" href=\"pandas.DataFrame.attrs.html#pandas.DataFrame.attrs\" title=\"pandas.DataFrame.attrs\"><code class=\"xref py py-obj docutils literal notranslate\"><span class=\"pre\">attrs</span></code></a></p></td>\n",
    "<td><p>Dictionary of global attributes of this dataset.</p></td>\n",
    "</tr>\n",
    "<tr class=\"row-odd\"><td><p><a class=\"reference internal\" href=\"pandas.DataFrame.axes.html#pandas.DataFrame.axes\" title=\"pandas.DataFrame.axes\"><code class=\"xref py py-obj docutils literal notranslate\"><span class=\"pre\">axes</span></code></a></p></td>\n",
    "<td><p>Return a list representing the axes of the DataFrame.</p></td>\n",
    "</tr>\n",
    "<tr class=\"row-even\"><td><p><a class=\"reference internal\" href=\"pandas.DataFrame.columns.html#pandas.DataFrame.columns\" title=\"pandas.DataFrame.columns\"><code class=\"xref py py-obj docutils literal notranslate\"><span class=\"pre\">columns</span></code></a></p></td>\n",
    "<td><p>The column labels of the DataFrame.</p></td>\n",
    "</tr>\n",
    "<tr class=\"row-odd\"><td><p><a class=\"reference internal\" href=\"pandas.DataFrame.dtypes.html#pandas.DataFrame.dtypes\" title=\"pandas.DataFrame.dtypes\"><code class=\"xref py py-obj docutils literal notranslate\"><span class=\"pre\">dtypes</span></code></a></p></td>\n",
    "<td><p>Return the dtypes in the DataFrame.</p></td>\n",
    "</tr>\n",
    "<tr class=\"row-even\"><td><p><a class=\"reference internal\" href=\"pandas.DataFrame.empty.html#pandas.DataFrame.empty\" title=\"pandas.DataFrame.empty\"><code class=\"xref py py-obj docutils literal notranslate\"><span class=\"pre\">empty</span></code></a></p></td>\n",
    "<td><p>Indicator whether Series/DataFrame is empty.</p></td>\n",
    "</tr>\n",
    "<tr class=\"row-odd\"><td><p><a class=\"reference internal\" href=\"pandas.DataFrame.flags.html#pandas.DataFrame.flags\" title=\"pandas.DataFrame.flags\"><code class=\"xref py py-obj docutils literal notranslate\"><span class=\"pre\">flags</span></code></a></p></td>\n",
    "<td><p>Get the properties associated with this pandas object.</p></td>\n",
    "</tr>\n",
    "<tr class=\"row-even\"><td><p><a class=\"reference internal\" href=\"pandas.DataFrame.iat.html#pandas.DataFrame.iat\" title=\"pandas.DataFrame.iat\"><code class=\"xref py py-obj docutils literal notranslate\"><span class=\"pre\">iat</span></code></a></p></td>\n",
    "<td><p>Access a single value for a row/column pair by integer position.</p></td>\n",
    "</tr>\n",
    "<tr class=\"row-odd\"><td><p><a class=\"reference internal\" href=\"pandas.DataFrame.iloc.html#pandas.DataFrame.iloc\" title=\"pandas.DataFrame.iloc\"><code class=\"xref py py-obj docutils literal notranslate\"><span class=\"pre\">iloc</span></code></a></p></td>\n",
    "<td><p>Purely integer-location based indexing for selection by position.</p></td>\n",
    "</tr>\n",
    "<tr class=\"row-even\"><td><p><a class=\"reference internal\" href=\"pandas.DataFrame.index.html#pandas.DataFrame.index\" title=\"pandas.DataFrame.index\"><code class=\"xref py py-obj docutils literal notranslate\"><span class=\"pre\">index</span></code></a></p></td>\n",
    "<td><p>The index (row labels) of the DataFrame.</p></td>\n",
    "</tr>\n",
    "<tr class=\"row-odd\"><td><p><a class=\"reference internal\" href=\"pandas.DataFrame.loc.html#pandas.DataFrame.loc\" title=\"pandas.DataFrame.loc\"><code class=\"xref py py-obj docutils literal notranslate\"><span class=\"pre\">loc</span></code></a></p></td>\n",
    "<td><p>Access a group of rows and columns by label(s) or a boolean array.</p></td>\n",
    "</tr>\n",
    "<tr class=\"row-even\"><td><p><a class=\"reference internal\" href=\"pandas.DataFrame.ndim.html#pandas.DataFrame.ndim\" title=\"pandas.DataFrame.ndim\"><code class=\"xref py py-obj docutils literal notranslate\"><span class=\"pre\">ndim</span></code></a></p></td>\n",
    "<td><p>Return an int representing the number of axes / array dimensions.</p></td>\n",
    "</tr>\n",
    "<tr class=\"row-odd\"><td><p><a class=\"reference internal\" href=\"pandas.DataFrame.shape.html#pandas.DataFrame.shape\" title=\"pandas.DataFrame.shape\"><code class=\"xref py py-obj docutils literal notranslate\"><span class=\"pre\">shape</span></code></a></p></td>\n",
    "<td><p>Return a tuple representing the dimensionality of the DataFrame.</p></td>\n",
    "</tr>\n",
    "<tr class=\"row-even\"><td><p><a class=\"reference internal\" href=\"pandas.DataFrame.size.html#pandas.DataFrame.size\" title=\"pandas.DataFrame.size\"><code class=\"xref py py-obj docutils literal notranslate\"><span class=\"pre\">size</span></code></a></p></td>\n",
    "<td><p>Return an int representing the number of elements in this object.</p></td>\n",
    "</tr>\n",
    "<tr class=\"row-odd\"><td><p><a class=\"reference internal\" href=\"pandas.DataFrame.style.html#pandas.DataFrame.style\" title=\"pandas.DataFrame.style\"><code class=\"xref py py-obj docutils literal notranslate\"><span class=\"pre\">style</span></code></a></p></td>\n",
    "<td><p>Returns a Styler object.</p></td>\n",
    "</tr>\n",
    "<tr class=\"row-even\"><td><p><a class=\"reference internal\" href=\"pandas.DataFrame.values.html#pandas.DataFrame.values\" title=\"pandas.DataFrame.values\"><code class=\"xref py py-obj docutils literal notranslate\"><span class=\"pre\">values</span></code></a></p></td>\n",
    "<td><p>Return a Numpy representation of the DataFrame.</p></td>\n",
    "</tr>\n",
    "</tbody>\n",
    "</table>\n",
    "\n",
    "### Methods of DataFrame:\n",
    "***\n",
    "<dd> \n",
    "<table class=\"autosummary longtable table autosummary\">\n",
    "<colgroup>\n",
    "<col style=\"width: 10%\">\n",
    "<col style=\"width: 90%\">\n",
    "</colgroup>\n",
    "<tbody>\n",
    "<tr class=\"row-odd\"><td><p><a class=\"reference internal\" href=\"pandas.DataFrame.abs.html#pandas.DataFrame.abs\" title=\"pandas.DataFrame.abs\"><code class=\"xref py py-obj docutils literal notranslate\"><span class=\"pre\">abs</span></code></a>()</p></td>\n",
    "<td><p>Return a Series/DataFrame with absolute numeric value of each element.</p></td>\n",
    "</tr>\n",
    "<tr class=\"row-even\"><td><p><a class=\"reference internal\" href=\"pandas.DataFrame.add.html#pandas.DataFrame.add\" title=\"pandas.DataFrame.add\"><code class=\"xref py py-obj docutils literal notranslate\"><span class=\"pre\">add</span></code></a>(other[,&nbsp;axis,&nbsp;level,&nbsp;fill_value])</p></td>\n",
    "<td><p>Get Addition of dataframe and other, element-wise (binary operator <cite>add</cite>).</p></td>\n",
    "</tr>\n",
    "<tr class=\"row-odd\"><td><p><a class=\"reference internal\" href=\"pandas.DataFrame.add_prefix.html#pandas.DataFrame.add_prefix\" title=\"pandas.DataFrame.add_prefix\"><code class=\"xref py py-obj docutils literal notranslate\"><span class=\"pre\">add_prefix</span></code></a>(prefix)</p></td>\n",
    "<td><p>Prefix labels with string <cite>prefix</cite>.</p></td>\n",
    "</tr>\n",
    "<tr class=\"row-even\"><td><p><a class=\"reference internal\" href=\"pandas.DataFrame.add_suffix.html#pandas.DataFrame.add_suffix\" title=\"pandas.DataFrame.add_suffix\"><code class=\"xref py py-obj docutils literal notranslate\"><span class=\"pre\">add_suffix</span></code></a>(suffix)</p></td>\n",
    "<td><p>Suffix labels with string <cite>suffix</cite>.</p></td>\n",
    "</tr>\n",
    "<tr class=\"row-odd\"><td><p><a class=\"reference internal\" href=\"pandas.DataFrame.agg.html#pandas.DataFrame.agg\" title=\"pandas.DataFrame.agg\"><code class=\"xref py py-obj docutils literal notranslate\"><span class=\"pre\">agg</span></code></a>([func,&nbsp;axis])</p></td>\n",
    "<td><p>Aggregate using one or more operations over the specified axis.</p></td>\n",
    "</tr>\n",
    "<tr class=\"row-even\"><td><p><a class=\"reference internal\" href=\"pandas.DataFrame.aggregate.html#pandas.DataFrame.aggregate\" title=\"pandas.DataFrame.aggregate\"><code class=\"xref py py-obj docutils literal notranslate\"><span class=\"pre\">aggregate</span></code></a>([func,&nbsp;axis])</p></td>\n",
    "<td><p>Aggregate using one or more operations over the specified axis.</p></td>\n",
    "</tr>\n",
    "<tr class=\"row-odd\"><td><p><a class=\"reference internal\" href=\"pandas.DataFrame.align.html#pandas.DataFrame.align\" title=\"pandas.DataFrame.align\"><code class=\"xref py py-obj docutils literal notranslate\"><span class=\"pre\">align</span></code></a>(other[,&nbsp;join,&nbsp;axis,&nbsp;level,&nbsp;copy,&nbsp;...])</p></td>\n",
    "<td><p>Align two objects on their axes with the specified join method.</p></td>\n",
    "</tr>\n",
    "<tr class=\"row-even\"><td><p><a class=\"reference internal\" href=\"pandas.DataFrame.all.html#pandas.DataFrame.all\" title=\"pandas.DataFrame.all\"><code class=\"xref py py-obj docutils literal notranslate\"><span class=\"pre\">all</span></code></a>([axis,&nbsp;bool_only,&nbsp;skipna,&nbsp;level])</p></td>\n",
    "<td><p>Return whether all elements are True, potentially over an axis.</p></td>\n",
    "</tr>\n",
    "<tr class=\"row-odd\"><td><p><a class=\"reference internal\" href=\"pandas.DataFrame.any.html#pandas.DataFrame.any\" title=\"pandas.DataFrame.any\"><code class=\"xref py py-obj docutils literal notranslate\"><span class=\"pre\">any</span></code></a>([axis,&nbsp;bool_only,&nbsp;skipna,&nbsp;level])</p></td>\n",
    "<td><p>Return whether any element is True, potentially over an axis.</p></td>\n",
    "</tr>\n",
    "<tr class=\"row-even\"><td><p><a class=\"reference internal\" href=\"pandas.DataFrame.append.html#pandas.DataFrame.append\" title=\"pandas.DataFrame.append\"><code class=\"xref py py-obj docutils literal notranslate\"><span class=\"pre\">append</span></code></a>(other[,&nbsp;ignore_index,&nbsp;...])</p></td>\n",
    "<td><p>(DEPRECATED) Append rows of <cite>other</cite> to the end of caller, returning a new object.</p></td>\n",
    "</tr>\n",
    "<tr class=\"row-odd\"><td><p><a class=\"reference internal\" href=\"pandas.DataFrame.apply.html#pandas.DataFrame.apply\" title=\"pandas.DataFrame.apply\"><code class=\"xref py py-obj docutils literal notranslate\"><span class=\"pre\">apply</span></code></a>(func[,&nbsp;axis,&nbsp;raw,&nbsp;result_type,&nbsp;args])</p></td>\n",
    "<td><p>Apply a function along an axis of the DataFrame.</p></td>\n",
    "</tr>\n",
    "<tr class=\"row-even\"><td><p><a class=\"reference internal\" href=\"pandas.DataFrame.applymap.html#pandas.DataFrame.applymap\" title=\"pandas.DataFrame.applymap\"><code class=\"xref py py-obj docutils literal notranslate\"><span class=\"pre\">applymap</span></code></a>(func[,&nbsp;na_action])</p></td>\n",
    "<td><p>Apply a function to a Dataframe elementwise.</p></td>\n",
    "</tr>\n",
    "<tr class=\"row-odd\"><td><p><a class=\"reference internal\" href=\"pandas.DataFrame.asfreq.html#pandas.DataFrame.asfreq\" title=\"pandas.DataFrame.asfreq\"><code class=\"xref py py-obj docutils literal notranslate\"><span class=\"pre\">asfreq</span></code></a>(freq[,&nbsp;method,&nbsp;how,&nbsp;normalize,&nbsp;...])</p></td>\n",
    "<td><p>Convert time series to specified frequency.</p></td>\n",
    "</tr>\n",
    "<tr class=\"row-even\"><td><p><a class=\"reference internal\" href=\"pandas.DataFrame.asof.html#pandas.DataFrame.asof\" title=\"pandas.DataFrame.asof\"><code class=\"xref py py-obj docutils literal notranslate\"><span class=\"pre\">asof</span></code></a>(where[,&nbsp;subset])</p></td>\n",
    "<td><p>Return the last row(s) without any NaNs before <cite>where</cite>.</p></td>\n",
    "</tr>\n",
    "<tr class=\"row-odd\"><td><p><a class=\"reference internal\" href=\"pandas.DataFrame.assign.html#pandas.DataFrame.assign\" title=\"pandas.DataFrame.assign\"><code class=\"xref py py-obj docutils literal notranslate\"><span class=\"pre\">assign</span></code></a>(**kwargs)</p></td>\n",
    "<td><p>Assign new columns to a DataFrame.</p></td>\n",
    "</tr>\n",
    "<tr class=\"row-even\"><td><p><a class=\"reference internal\" href=\"pandas.DataFrame.astype.html#pandas.DataFrame.astype\" title=\"pandas.DataFrame.astype\"><code class=\"xref py py-obj docutils literal notranslate\"><span class=\"pre\">astype</span></code></a>(dtype[,&nbsp;copy,&nbsp;errors])</p></td>\n",
    "<td><p>Cast a pandas object to a specified dtype <code class=\"docutils literal notranslate\"><span class=\"pre\">dtype</span></code>.</p></td>\n",
    "</tr>\n",
    "<tr class=\"row-odd\"><td><p><a class=\"reference internal\" href=\"pandas.DataFrame.at_time.html#pandas.DataFrame.at_time\" title=\"pandas.DataFrame.at_time\"><code class=\"xref py py-obj docutils literal notranslate\"><span class=\"pre\">at_time</span></code></a>(time[,&nbsp;asof,&nbsp;axis])</p></td>\n",
    "<td><p>Select values at particular time of day (e.g., 9:30AM).</p></td>\n",
    "</tr>\n",
    "<tr class=\"row-even\"><td><p><a class=\"reference internal\" href=\"pandas.DataFrame.backfill.html#pandas.DataFrame.backfill\" title=\"pandas.DataFrame.backfill\"><code class=\"xref py py-obj docutils literal notranslate\"><span class=\"pre\">backfill</span></code></a>([axis,&nbsp;inplace,&nbsp;limit,&nbsp;downcast])</p></td>\n",
    "<td><p>Synonym for <a class=\"reference internal\" href=\"pandas.DataFrame.fillna.html#pandas.DataFrame.fillna\" title=\"pandas.DataFrame.fillna\"><code class=\"xref py py-meth docutils literal notranslate\"><span class=\"pre\">DataFrame.fillna()</span></code></a> with <code class=\"docutils literal notranslate\"><span class=\"pre\">method='bfill'</span></code>.</p></td>\n",
    "</tr>\n",
    "<tr class=\"row-odd\"><td><p><a class=\"reference internal\" href=\"pandas.DataFrame.between_time.html#pandas.DataFrame.between_time\" title=\"pandas.DataFrame.between_time\"><code class=\"xref py py-obj docutils literal notranslate\"><span class=\"pre\">between_time</span></code></a>(start_time,&nbsp;end_time[,&nbsp;...])</p></td>\n",
    "<td><p>Select values between particular times of the day (e.g., 9:00-9:30 AM).</p></td>\n",
    "</tr>\n",
    "<tr class=\"row-even\"><td><p><a class=\"reference internal\" href=\"pandas.DataFrame.bfill.html#pandas.DataFrame.bfill\" title=\"pandas.DataFrame.bfill\"><code class=\"xref py py-obj docutils literal notranslate\"><span class=\"pre\">bfill</span></code></a>([axis,&nbsp;inplace,&nbsp;limit,&nbsp;downcast])</p></td>\n",
    "<td><p>Synonym for <a class=\"reference internal\" href=\"pandas.DataFrame.fillna.html#pandas.DataFrame.fillna\" title=\"pandas.DataFrame.fillna\"><code class=\"xref py py-meth docutils literal notranslate\"><span class=\"pre\">DataFrame.fillna()</span></code></a> with <code class=\"docutils literal notranslate\"><span class=\"pre\">method='bfill'</span></code>.</p></td>\n",
    "</tr>\n",
    "<tr class=\"row-odd\"><td><p><a class=\"reference internal\" href=\"pandas.DataFrame.bool.html#pandas.DataFrame.bool\" title=\"pandas.DataFrame.bool\"><code class=\"xref py py-obj docutils literal notranslate\"><span class=\"pre\">bool</span></code></a>()</p></td>\n",
    "<td><p>Return the bool of a single element Series or DataFrame.</p></td>\n",
    "</tr>\n",
    "<tr class=\"row-even\"><td><p><a class=\"reference internal\" href=\"pandas.DataFrame.boxplot.html#pandas.DataFrame.boxplot\" title=\"pandas.DataFrame.boxplot\"><code class=\"xref py py-obj docutils literal notranslate\"><span class=\"pre\">boxplot</span></code></a>([column,&nbsp;by,&nbsp;ax,&nbsp;fontsize,&nbsp;rot,&nbsp;...])</p></td>\n",
    "<td><p>Make a box plot from DataFrame columns.</p></td>\n",
    "</tr>\n",
    "<tr class=\"row-odd\"><td><p><a class=\"reference internal\" href=\"pandas.DataFrame.clip.html#pandas.DataFrame.clip\" title=\"pandas.DataFrame.clip\"><code class=\"xref py py-obj docutils literal notranslate\"><span class=\"pre\">clip</span></code></a>([lower,&nbsp;upper,&nbsp;axis,&nbsp;inplace])</p></td>\n",
    "<td><p>Trim values at input threshold(s).</p></td>\n",
    "</tr>\n",
    "<tr class=\"row-even\"><td><p><a class=\"reference internal\" href=\"pandas.DataFrame.combine.html#pandas.DataFrame.combine\" title=\"pandas.DataFrame.combine\"><code class=\"xref py py-obj docutils literal notranslate\"><span class=\"pre\">combine</span></code></a>(other,&nbsp;func[,&nbsp;fill_value,&nbsp;overwrite])</p></td>\n",
    "<td><p>Perform column-wise combine with another DataFrame.</p></td>\n",
    "</tr>\n",
    "<tr class=\"row-odd\"><td><p><a class=\"reference internal\" href=\"pandas.DataFrame.combine_first.html#pandas.DataFrame.combine_first\" title=\"pandas.DataFrame.combine_first\"><code class=\"xref py py-obj docutils literal notranslate\"><span class=\"pre\">combine_first</span></code></a>(other)</p></td>\n",
    "<td><p>Update null elements with value in the same location in <cite>other</cite>.</p></td>\n",
    "</tr>\n",
    "<tr class=\"row-even\"><td><p><a class=\"reference internal\" href=\"pandas.DataFrame.compare.html#pandas.DataFrame.compare\" title=\"pandas.DataFrame.compare\"><code class=\"xref py py-obj docutils literal notranslate\"><span class=\"pre\">compare</span></code></a>(other[,&nbsp;align_axis,&nbsp;keep_shape,&nbsp;...])</p></td>\n",
    "<td><p>Compare to another DataFrame and show the differences.</p></td>\n",
    "</tr>\n",
    "<tr class=\"row-odd\"><td><p><a class=\"reference internal\" href=\"pandas.DataFrame.convert_dtypes.html#pandas.DataFrame.convert_dtypes\" title=\"pandas.DataFrame.convert_dtypes\"><code class=\"xref py py-obj docutils literal notranslate\"><span class=\"pre\">convert_dtypes</span></code></a>([infer_objects,&nbsp;...])</p></td>\n",
    "<td><p>Convert columns to best possible dtypes using dtypes supporting <code class=\"docutils literal notranslate\"><span class=\"pre\">pd.NA</span></code>.</p></td>\n",
    "</tr>\n",
    "<tr class=\"row-even\"><td><p><a class=\"reference internal\" href=\"pandas.DataFrame.copy.html#pandas.DataFrame.copy\" title=\"pandas.DataFrame.copy\"><code class=\"xref py py-obj docutils literal notranslate\"><span class=\"pre\">copy</span></code></a>([deep])</p></td>\n",
    "<td><p>Make a copy of this object's indices and data.</p></td>\n",
    "</tr>\n",
    "<tr class=\"row-odd\"><td><p><a class=\"reference internal\" href=\"pandas.DataFrame.corr.html#pandas.DataFrame.corr\" title=\"pandas.DataFrame.corr\"><code class=\"xref py py-obj docutils literal notranslate\"><span class=\"pre\">corr</span></code></a>([method,&nbsp;min_periods,&nbsp;numeric_only])</p></td>\n",
    "<td><p>Compute pairwise correlation of columns, excluding NA/null values.</p></td>\n",
    "</tr>\n",
    "<tr class=\"row-even\"><td><p><a class=\"reference internal\" href=\"pandas.DataFrame.corrwith.html#pandas.DataFrame.corrwith\" title=\"pandas.DataFrame.corrwith\"><code class=\"xref py py-obj docutils literal notranslate\"><span class=\"pre\">corrwith</span></code></a>(other[,&nbsp;axis,&nbsp;drop,&nbsp;method,&nbsp;...])</p></td>\n",
    "<td><p>Compute pairwise correlation.</p></td>\n",
    "</tr>\n",
    "<tr class=\"row-odd\"><td><p><a class=\"reference internal\" href=\"pandas.DataFrame.count.html#pandas.DataFrame.count\" title=\"pandas.DataFrame.count\"><code class=\"xref py py-obj docutils literal notranslate\"><span class=\"pre\">count</span></code></a>([axis,&nbsp;level,&nbsp;numeric_only])</p></td>\n",
    "<td><p>Count non-NA cells for each column or row.</p></td>\n",
    "</tr>\n",
    "<tr class=\"row-even\"><td><p><a class=\"reference internal\" href=\"pandas.DataFrame.cov.html#pandas.DataFrame.cov\" title=\"pandas.DataFrame.cov\"><code class=\"xref py py-obj docutils literal notranslate\"><span class=\"pre\">cov</span></code></a>([min_periods,&nbsp;ddof,&nbsp;numeric_only])</p></td>\n",
    "<td><p>Compute pairwise covariance of columns, excluding NA/null values.</p></td>\n",
    "</tr>\n",
    "<tr class=\"row-odd\"><td><p><a class=\"reference internal\" href=\"pandas.DataFrame.cummax.html#pandas.DataFrame.cummax\" title=\"pandas.DataFrame.cummax\"><code class=\"xref py py-obj docutils literal notranslate\"><span class=\"pre\">cummax</span></code></a>([axis,&nbsp;skipna])</p></td>\n",
    "<td><p>Return cumulative maximum over a DataFrame or Series axis.</p></td>\n",
    "</tr>\n",
    "<tr class=\"row-even\"><td><p><a class=\"reference internal\" href=\"pandas.DataFrame.cummin.html#pandas.DataFrame.cummin\" title=\"pandas.DataFrame.cummin\"><code class=\"xref py py-obj docutils literal notranslate\"><span class=\"pre\">cummin</span></code></a>([axis,&nbsp;skipna])</p></td>\n",
    "<td><p>Return cumulative minimum over a DataFrame or Series axis.</p></td>\n",
    "</tr>\n",
    "<tr class=\"row-odd\"><td><p><a class=\"reference internal\" href=\"pandas.DataFrame.cumprod.html#pandas.DataFrame.cumprod\" title=\"pandas.DataFrame.cumprod\"><code class=\"xref py py-obj docutils literal notranslate\"><span class=\"pre\">cumprod</span></code></a>([axis,&nbsp;skipna])</p></td>\n",
    "<td><p>Return cumulative product over a DataFrame or Series axis.</p></td>\n",
    "</tr>\n",
    "<tr class=\"row-even\"><td><p><a class=\"reference internal\" href=\"pandas.DataFrame.cumsum.html#pandas.DataFrame.cumsum\" title=\"pandas.DataFrame.cumsum\"><code class=\"xref py py-obj docutils literal notranslate\"><span class=\"pre\">cumsum</span></code></a>([axis,&nbsp;skipna])</p></td>\n",
    "<td><p>Return cumulative sum over a DataFrame or Series axis.</p></td>\n",
    "</tr>\n",
    "<tr class=\"row-odd\"><td><p><a class=\"reference internal\" href=\"pandas.DataFrame.describe.html#pandas.DataFrame.describe\" title=\"pandas.DataFrame.describe\"><code class=\"xref py py-obj docutils literal notranslate\"><span class=\"pre\">describe</span></code></a>([percentiles,&nbsp;include,&nbsp;exclude,&nbsp;...])</p></td>\n",
    "<td><p>Generate descriptive statistics.</p></td>\n",
    "</tr>\n",
    "<tr class=\"row-even\"><td><p><a class=\"reference internal\" href=\"pandas.DataFrame.diff.html#pandas.DataFrame.diff\" title=\"pandas.DataFrame.diff\"><code class=\"xref py py-obj docutils literal notranslate\"><span class=\"pre\">diff</span></code></a>([periods,&nbsp;axis])</p></td>\n",
    "<td><p>First discrete difference of element.</p></td>\n",
    "</tr>\n",
    "<tr class=\"row-odd\"><td><p><a class=\"reference internal\" href=\"pandas.DataFrame.div.html#pandas.DataFrame.div\" title=\"pandas.DataFrame.div\"><code class=\"xref py py-obj docutils literal notranslate\"><span class=\"pre\">div</span></code></a>(other[,&nbsp;axis,&nbsp;level,&nbsp;fill_value])</p></td>\n",
    "<td><p>Get Floating division of dataframe and other, element-wise (binary operator <cite>truediv</cite>).</p></td>\n",
    "</tr>\n",
    "<tr class=\"row-even\"><td><p><a class=\"reference internal\" href=\"pandas.DataFrame.divide.html#pandas.DataFrame.divide\" title=\"pandas.DataFrame.divide\"><code class=\"xref py py-obj docutils literal notranslate\"><span class=\"pre\">divide</span></code></a>(other[,&nbsp;axis,&nbsp;level,&nbsp;fill_value])</p></td>\n",
    "<td><p>Get Floating division of dataframe and other, element-wise (binary operator <cite>truediv</cite>).</p></td>\n",
    "</tr>\n",
    "<tr class=\"row-odd\"><td><p><a class=\"reference internal\" href=\"pandas.DataFrame.dot.html#pandas.DataFrame.dot\" title=\"pandas.DataFrame.dot\"><code class=\"xref py py-obj docutils literal notranslate\"><span class=\"pre\">dot</span></code></a>(other)</p></td>\n",
    "<td><p>Compute the matrix multiplication between the DataFrame and other.</p></td>\n",
    "</tr>\n",
    "<tr class=\"row-even\"><td><p><a class=\"reference internal\" href=\"pandas.DataFrame.drop.html#pandas.DataFrame.drop\" title=\"pandas.DataFrame.drop\"><code class=\"xref py py-obj docutils literal notranslate\"><span class=\"pre\">drop</span></code></a>([labels,&nbsp;axis,&nbsp;index,&nbsp;columns,&nbsp;level,&nbsp;...])</p></td>\n",
    "<td><p>Drop specified labels from rows or columns.</p></td>\n",
    "</tr>\n",
    "<tr class=\"row-odd\"><td><p><a class=\"reference internal\" href=\"pandas.DataFrame.drop_duplicates.html#pandas.DataFrame.drop_duplicates\" title=\"pandas.DataFrame.drop_duplicates\"><code class=\"xref py py-obj docutils literal notranslate\"><span class=\"pre\">drop_duplicates</span></code></a>([subset,&nbsp;keep,&nbsp;inplace,&nbsp;...])</p></td>\n",
    "<td><p>Return DataFrame with duplicate rows removed.</p></td>\n",
    "</tr>\n",
    "<tr class=\"row-even\"><td><p><a class=\"reference internal\" href=\"pandas.DataFrame.droplevel.html#pandas.DataFrame.droplevel\" title=\"pandas.DataFrame.droplevel\"><code class=\"xref py py-obj docutils literal notranslate\"><span class=\"pre\">droplevel</span></code></a>(level[,&nbsp;axis])</p></td>\n",
    "<td><p>Return Series/DataFrame with requested index / column level(s) removed.</p></td>\n",
    "</tr>\n",
    "<tr class=\"row-odd\"><td><p><a class=\"reference internal\" href=\"pandas.DataFrame.dropna.html#pandas.DataFrame.dropna\" title=\"pandas.DataFrame.dropna\"><code class=\"xref py py-obj docutils literal notranslate\"><span class=\"pre\">dropna</span></code></a>([axis,&nbsp;how,&nbsp;thresh,&nbsp;subset,&nbsp;inplace])</p></td>\n",
    "<td><p>Remove missing values.</p></td>\n",
    "</tr>\n",
    "<tr class=\"row-even\"><td><p><a class=\"reference internal\" href=\"pandas.DataFrame.duplicated.html#pandas.DataFrame.duplicated\" title=\"pandas.DataFrame.duplicated\"><code class=\"xref py py-obj docutils literal notranslate\"><span class=\"pre\">duplicated</span></code></a>([subset,&nbsp;keep])</p></td>\n",
    "<td><p>Return boolean Series denoting duplicate rows.</p></td>\n",
    "</tr>\n",
    "<tr class=\"row-odd\"><td><p><a class=\"reference internal\" href=\"pandas.DataFrame.eq.html#pandas.DataFrame.eq\" title=\"pandas.DataFrame.eq\"><code class=\"xref py py-obj docutils literal notranslate\"><span class=\"pre\">eq</span></code></a>(other[,&nbsp;axis,&nbsp;level])</p></td>\n",
    "<td><p>Get Equal to of dataframe and other, element-wise (binary operator <cite>eq</cite>).</p></td>\n",
    "</tr>\n",
    "<tr class=\"row-even\"><td><p><a class=\"reference internal\" href=\"pandas.DataFrame.equals.html#pandas.DataFrame.equals\" title=\"pandas.DataFrame.equals\"><code class=\"xref py py-obj docutils literal notranslate\"><span class=\"pre\">equals</span></code></a>(other)</p></td>\n",
    "<td><p>Test whether two objects contain the same elements.</p></td>\n",
    "</tr>\n",
    "<tr class=\"row-odd\"><td><p><a class=\"reference internal\" href=\"pandas.DataFrame.eval.html#pandas.DataFrame.eval\" title=\"pandas.DataFrame.eval\"><code class=\"xref py py-obj docutils literal notranslate\"><span class=\"pre\">eval</span></code></a>(expr[,&nbsp;inplace])</p></td>\n",
    "<td><p>Evaluate a string describing operations on DataFrame columns.</p></td>\n",
    "</tr>\n",
    "<tr class=\"row-even\"><td><p><a class=\"reference internal\" href=\"pandas.DataFrame.ewm.html#pandas.DataFrame.ewm\" title=\"pandas.DataFrame.ewm\"><code class=\"xref py py-obj docutils literal notranslate\"><span class=\"pre\">ewm</span></code></a>([com,&nbsp;span,&nbsp;halflife,&nbsp;alpha,&nbsp;...])</p></td>\n",
    "<td><p>Provide exponentially weighted (EW) calculations.</p></td>\n",
    "</tr>\n",
    "<tr class=\"row-odd\"><td><p><a class=\"reference internal\" href=\"pandas.DataFrame.expanding.html#pandas.DataFrame.expanding\" title=\"pandas.DataFrame.expanding\"><code class=\"xref py py-obj docutils literal notranslate\"><span class=\"pre\">expanding</span></code></a>([min_periods,&nbsp;center,&nbsp;axis,&nbsp;method])</p></td>\n",
    "<td><p>Provide expanding window calculations.</p></td>\n",
    "</tr>\n",
    "<tr class=\"row-even\"><td><p><a class=\"reference internal\" href=\"pandas.DataFrame.explode.html#pandas.DataFrame.explode\" title=\"pandas.DataFrame.explode\"><code class=\"xref py py-obj docutils literal notranslate\"><span class=\"pre\">explode</span></code></a>(column[,&nbsp;ignore_index])</p></td>\n",
    "<td><p>Transform each element of a list-like to a row, replicating index values.</p></td>\n",
    "</tr>\n",
    "<tr class=\"row-odd\"><td><p><a class=\"reference internal\" href=\"pandas.DataFrame.ffill.html#pandas.DataFrame.ffill\" title=\"pandas.DataFrame.ffill\"><code class=\"xref py py-obj docutils literal notranslate\"><span class=\"pre\">ffill</span></code></a>([axis,&nbsp;inplace,&nbsp;limit,&nbsp;downcast])</p></td>\n",
    "<td><p>Synonym for <a class=\"reference internal\" href=\"pandas.DataFrame.fillna.html#pandas.DataFrame.fillna\" title=\"pandas.DataFrame.fillna\"><code class=\"xref py py-meth docutils literal notranslate\"><span class=\"pre\">DataFrame.fillna()</span></code></a> with <code class=\"docutils literal notranslate\"><span class=\"pre\">method='ffill'</span></code>.</p></td>\n",
    "</tr>\n",
    "<tr class=\"row-even\"><td><p><a class=\"reference internal\" href=\"pandas.DataFrame.fillna.html#pandas.DataFrame.fillna\" title=\"pandas.DataFrame.fillna\"><code class=\"xref py py-obj docutils literal notranslate\"><span class=\"pre\">fillna</span></code></a>([value,&nbsp;method,&nbsp;axis,&nbsp;inplace,&nbsp;...])</p></td>\n",
    "<td><p>Fill NA/NaN values using the specified method.</p></td>\n",
    "</tr>\n",
    "<tr class=\"row-odd\"><td><p><a class=\"reference internal\" href=\"pandas.DataFrame.filter.html#pandas.DataFrame.filter\" title=\"pandas.DataFrame.filter\"><code class=\"xref py py-obj docutils literal notranslate\"><span class=\"pre\">filter</span></code></a>([items,&nbsp;like,&nbsp;regex,&nbsp;axis])</p></td>\n",
    "<td><p>Subset the dataframe rows or columns according to the specified index labels.</p></td>\n",
    "</tr>\n",
    "<tr class=\"row-even\"><td><p><a class=\"reference internal\" href=\"pandas.DataFrame.first.html#pandas.DataFrame.first\" title=\"pandas.DataFrame.first\"><code class=\"xref py py-obj docutils literal notranslate\"><span class=\"pre\">first</span></code></a>(offset)</p></td>\n",
    "<td><p>Select initial periods of time series data based on a date offset.</p></td>\n",
    "</tr>\n",
    "<tr class=\"row-odd\"><td><p><a class=\"reference internal\" href=\"pandas.DataFrame.first_valid_index.html#pandas.DataFrame.first_valid_index\" title=\"pandas.DataFrame.first_valid_index\"><code class=\"xref py py-obj docutils literal notranslate\"><span class=\"pre\">first_valid_index</span></code></a>()</p></td>\n",
    "<td><p>Return index for first non-NA value or None, if no non-NA value is found.</p></td>\n",
    "</tr>\n",
    "<tr class=\"row-even\"><td><p><a class=\"reference internal\" href=\"pandas.DataFrame.floordiv.html#pandas.DataFrame.floordiv\" title=\"pandas.DataFrame.floordiv\"><code class=\"xref py py-obj docutils literal notranslate\"><span class=\"pre\">floordiv</span></code></a>(other[,&nbsp;axis,&nbsp;level,&nbsp;fill_value])</p></td>\n",
    "<td><p>Get Integer division of dataframe and other, element-wise (binary operator <cite>floordiv</cite>).</p></td>\n",
    "</tr>\n",
    "<tr class=\"row-odd\"><td><p><a class=\"reference internal\" href=\"pandas.DataFrame.from_dict.html#pandas.DataFrame.from_dict\" title=\"pandas.DataFrame.from_dict\"><code class=\"xref py py-obj docutils literal notranslate\"><span class=\"pre\">from_dict</span></code></a>(data[,&nbsp;orient,&nbsp;dtype,&nbsp;columns])</p></td>\n",
    "<td><p>Construct DataFrame from dict of array-like or dicts.</p></td>\n",
    "</tr>\n",
    "<tr class=\"row-even\"><td><p><a class=\"reference internal\" href=\"pandas.DataFrame.from_records.html#pandas.DataFrame.from_records\" title=\"pandas.DataFrame.from_records\"><code class=\"xref py py-obj docutils literal notranslate\"><span class=\"pre\">from_records</span></code></a>(data[,&nbsp;index,&nbsp;exclude,&nbsp;...])</p></td>\n",
    "<td><p>Convert structured or record ndarray to DataFrame.</p></td>\n",
    "</tr>\n",
    "<tr class=\"row-odd\"><td><p><a class=\"reference internal\" href=\"pandas.DataFrame.ge.html#pandas.DataFrame.ge\" title=\"pandas.DataFrame.ge\"><code class=\"xref py py-obj docutils literal notranslate\"><span class=\"pre\">ge</span></code></a>(other[,&nbsp;axis,&nbsp;level])</p></td>\n",
    "<td><p>Get Greater than or equal to of dataframe and other, element-wise (binary operator <cite>ge</cite>).</p></td>\n",
    "</tr>\n",
    "<tr class=\"row-even\"><td><p><a class=\"reference internal\" href=\"pandas.DataFrame.get.html#pandas.DataFrame.get\" title=\"pandas.DataFrame.get\"><code class=\"xref py py-obj docutils literal notranslate\"><span class=\"pre\">get</span></code></a>(key[,&nbsp;default])</p></td>\n",
    "<td><p>Get item from object for given key (ex: DataFrame column).</p></td>\n",
    "</tr>\n",
    "<tr class=\"row-odd\"><td><p><a class=\"reference internal\" href=\"pandas.DataFrame.groupby.html#pandas.DataFrame.groupby\" title=\"pandas.DataFrame.groupby\"><code class=\"xref py py-obj docutils literal notranslate\"><span class=\"pre\">groupby</span></code></a>([by,&nbsp;axis,&nbsp;level,&nbsp;as_index,&nbsp;sort,&nbsp;...])</p></td>\n",
    "<td><p>Group DataFrame using a mapper or by a Series of columns.</p></td>\n",
    "</tr>\n",
    "<tr class=\"row-even\"><td><p><a class=\"reference internal\" href=\"pandas.DataFrame.gt.html#pandas.DataFrame.gt\" title=\"pandas.DataFrame.gt\"><code class=\"xref py py-obj docutils literal notranslate\"><span class=\"pre\">gt</span></code></a>(other[,&nbsp;axis,&nbsp;level])</p></td>\n",
    "<td><p>Get Greater than of dataframe and other, element-wise (binary operator <cite>gt</cite>).</p></td>\n",
    "</tr>\n",
    "<tr class=\"row-odd\"><td><p><a class=\"reference internal\" href=\"pandas.DataFrame.head.html#pandas.DataFrame.head\" title=\"pandas.DataFrame.head\"><code class=\"xref py py-obj docutils literal notranslate\"><span class=\"pre\">head</span></code></a>([n])</p></td>\n",
    "<td><p>Return the first <cite>n</cite> rows.</p></td>\n",
    "</tr>\n",
    "<tr class=\"row-even\"><td><p><a class=\"reference internal\" href=\"pandas.DataFrame.hist.html#pandas.DataFrame.hist\" title=\"pandas.DataFrame.hist\"><code class=\"xref py py-obj docutils literal notranslate\"><span class=\"pre\">hist</span></code></a>([column,&nbsp;by,&nbsp;grid,&nbsp;xlabelsize,&nbsp;xrot,&nbsp;...])</p></td>\n",
    "<td><p>Make a histogram of the DataFrame's columns.</p></td>\n",
    "</tr>\n",
    "<tr class=\"row-odd\"><td><p><a class=\"reference internal\" href=\"pandas.DataFrame.idxmax.html#pandas.DataFrame.idxmax\" title=\"pandas.DataFrame.idxmax\"><code class=\"xref py py-obj docutils literal notranslate\"><span class=\"pre\">idxmax</span></code></a>([axis,&nbsp;skipna,&nbsp;numeric_only])</p></td>\n",
    "<td><p>Return index of first occurrence of maximum over requested axis.</p></td>\n",
    "</tr>\n",
    "<tr class=\"row-even\"><td><p><a class=\"reference internal\" href=\"pandas.DataFrame.idxmin.html#pandas.DataFrame.idxmin\" title=\"pandas.DataFrame.idxmin\"><code class=\"xref py py-obj docutils literal notranslate\"><span class=\"pre\">idxmin</span></code></a>([axis,&nbsp;skipna,&nbsp;numeric_only])</p></td>\n",
    "<td><p>Return index of first occurrence of minimum over requested axis.</p></td>\n",
    "</tr>\n",
    "<tr class=\"row-odd\"><td><p><a class=\"reference internal\" href=\"pandas.DataFrame.infer_objects.html#pandas.DataFrame.infer_objects\" title=\"pandas.DataFrame.infer_objects\"><code class=\"xref py py-obj docutils literal notranslate\"><span class=\"pre\">infer_objects</span></code></a>()</p></td>\n",
    "<td><p>Attempt to infer better dtypes for object columns.</p></td>\n",
    "</tr>\n",
    "<tr class=\"row-even\"><td><p><a class=\"reference internal\" href=\"pandas.DataFrame.info.html#pandas.DataFrame.info\" title=\"pandas.DataFrame.info\"><code class=\"xref py py-obj docutils literal notranslate\"><span class=\"pre\">info</span></code></a>([verbose,&nbsp;buf,&nbsp;max_cols,&nbsp;memory_usage,&nbsp;...])</p></td>\n",
    "<td><p>Print a concise summary of a DataFrame.</p></td>\n",
    "</tr>\n",
    "<tr class=\"row-odd\"><td><p><a class=\"reference internal\" href=\"pandas.DataFrame.insert.html#pandas.DataFrame.insert\" title=\"pandas.DataFrame.insert\"><code class=\"xref py py-obj docutils literal notranslate\"><span class=\"pre\">insert</span></code></a>(loc,&nbsp;column,&nbsp;value[,&nbsp;allow_duplicates])</p></td>\n",
    "<td><p>Insert column into DataFrame at specified location.</p></td>\n",
    "</tr>\n",
    "<tr class=\"row-even\"><td><p><a class=\"reference internal\" href=\"pandas.DataFrame.interpolate.html#pandas.DataFrame.interpolate\" title=\"pandas.DataFrame.interpolate\"><code class=\"xref py py-obj docutils literal notranslate\"><span class=\"pre\">interpolate</span></code></a>([method,&nbsp;axis,&nbsp;limit,&nbsp;inplace,&nbsp;...])</p></td>\n",
    "<td><p>Fill NaN values using an interpolation method.</p></td>\n",
    "</tr>\n",
    "<tr class=\"row-odd\"><td><p><a class=\"reference internal\" href=\"pandas.DataFrame.isetitem.html#pandas.DataFrame.isetitem\" title=\"pandas.DataFrame.isetitem\"><code class=\"xref py py-obj docutils literal notranslate\"><span class=\"pre\">isetitem</span></code></a>(loc,&nbsp;value)</p></td>\n",
    "<td><p>Set the given value in the column with position 'loc'.</p></td>\n",
    "</tr>\n",
    "<tr class=\"row-even\"><td><p><a class=\"reference internal\" href=\"pandas.DataFrame.isin.html#pandas.DataFrame.isin\" title=\"pandas.DataFrame.isin\"><code class=\"xref py py-obj docutils literal notranslate\"><span class=\"pre\">isin</span></code></a>(values)</p></td>\n",
    "<td><p>Whether each element in the DataFrame is contained in values.</p></td>\n",
    "</tr>\n",
    "<tr class=\"row-odd\"><td><p><a class=\"reference internal\" href=\"pandas.DataFrame.isna.html#pandas.DataFrame.isna\" title=\"pandas.DataFrame.isna\"><code class=\"xref py py-obj docutils literal notranslate\"><span class=\"pre\">isna</span></code></a>()</p></td>\n",
    "<td><p>Detect missing values.</p></td>\n",
    "</tr>\n",
    "<tr class=\"row-even\"><td><p><a class=\"reference internal\" href=\"pandas.DataFrame.isnull.html#pandas.DataFrame.isnull\" title=\"pandas.DataFrame.isnull\"><code class=\"xref py py-obj docutils literal notranslate\"><span class=\"pre\">isnull</span></code></a>()</p></td>\n",
    "<td><p>DataFrame.isnull is an alias for DataFrame.isna.</p></td>\n",
    "</tr>\n",
    "<tr class=\"row-odd\"><td><p><a class=\"reference internal\" href=\"pandas.DataFrame.items.html#pandas.DataFrame.items\" title=\"pandas.DataFrame.items\"><code class=\"xref py py-obj docutils literal notranslate\"><span class=\"pre\">items</span></code></a>()</p></td>\n",
    "<td><p>Iterate over (column name, Series) pairs.</p></td>\n",
    "</tr>\n",
    "<tr class=\"row-even\"><td><p><a class=\"reference internal\" href=\"pandas.DataFrame.iteritems.html#pandas.DataFrame.iteritems\" title=\"pandas.DataFrame.iteritems\"><code class=\"xref py py-obj docutils literal notranslate\"><span class=\"pre\">iteritems</span></code></a>()</p></td>\n",
    "<td><p>(DEPRECATED) Iterate over (column name, Series) pairs.</p></td>\n",
    "</tr>\n",
    "<tr class=\"row-odd\"><td><p><a class=\"reference internal\" href=\"pandas.DataFrame.iterrows.html#pandas.DataFrame.iterrows\" title=\"pandas.DataFrame.iterrows\"><code class=\"xref py py-obj docutils literal notranslate\"><span class=\"pre\">iterrows</span></code></a>()</p></td>\n",
    "<td><p>Iterate over DataFrame rows as (index, Series) pairs.</p></td>\n",
    "</tr>\n",
    "<tr class=\"row-even\"><td><p><a class=\"reference internal\" href=\"pandas.DataFrame.itertuples.html#pandas.DataFrame.itertuples\" title=\"pandas.DataFrame.itertuples\"><code class=\"xref py py-obj docutils literal notranslate\"><span class=\"pre\">itertuples</span></code></a>([index,&nbsp;name])</p></td>\n",
    "<td><p>Iterate over DataFrame rows as namedtuples.</p></td>\n",
    "</tr>\n",
    "<tr class=\"row-odd\"><td><p><a class=\"reference internal\" href=\"pandas.DataFrame.join.html#pandas.DataFrame.join\" title=\"pandas.DataFrame.join\"><code class=\"xref py py-obj docutils literal notranslate\"><span class=\"pre\">join</span></code></a>(other[,&nbsp;on,&nbsp;how,&nbsp;lsuffix,&nbsp;rsuffix,&nbsp;...])</p></td>\n",
    "<td><p>Join columns of another DataFrame.</p></td>\n",
    "</tr>\n",
    "<tr class=\"row-even\"><td><p><a class=\"reference internal\" href=\"pandas.DataFrame.keys.html#pandas.DataFrame.keys\" title=\"pandas.DataFrame.keys\"><code class=\"xref py py-obj docutils literal notranslate\"><span class=\"pre\">keys</span></code></a>()</p></td>\n",
    "<td><p>Get the 'info axis' (see Indexing for more).</p></td>\n",
    "</tr>\n",
    "<tr class=\"row-odd\"><td><p><a class=\"reference internal\" href=\"pandas.DataFrame.kurt.html#pandas.DataFrame.kurt\" title=\"pandas.DataFrame.kurt\"><code class=\"xref py py-obj docutils literal notranslate\"><span class=\"pre\">kurt</span></code></a>([axis,&nbsp;skipna,&nbsp;level,&nbsp;numeric_only])</p></td>\n",
    "<td><p>Return unbiased kurtosis over requested axis.</p></td>\n",
    "</tr>\n",
    "<tr class=\"row-even\"><td><p><a class=\"reference internal\" href=\"pandas.DataFrame.kurtosis.html#pandas.DataFrame.kurtosis\" title=\"pandas.DataFrame.kurtosis\"><code class=\"xref py py-obj docutils literal notranslate\"><span class=\"pre\">kurtosis</span></code></a>([axis,&nbsp;skipna,&nbsp;level,&nbsp;numeric_only])</p></td>\n",
    "<td><p>Return unbiased kurtosis over requested axis.</p></td>\n",
    "</tr>\n",
    "<tr class=\"row-odd\"><td><p><a class=\"reference internal\" href=\"pandas.DataFrame.last.html#pandas.DataFrame.last\" title=\"pandas.DataFrame.last\"><code class=\"xref py py-obj docutils literal notranslate\"><span class=\"pre\">last</span></code></a>(offset)</p></td>\n",
    "<td><p>Select final periods of time series data based on a date offset.</p></td>\n",
    "</tr>\n",
    "<tr class=\"row-even\"><td><p><a class=\"reference internal\" href=\"pandas.DataFrame.last_valid_index.html#pandas.DataFrame.last_valid_index\" title=\"pandas.DataFrame.last_valid_index\"><code class=\"xref py py-obj docutils literal notranslate\"><span class=\"pre\">last_valid_index</span></code></a>()</p></td>\n",
    "<td><p>Return index for last non-NA value or None, if no non-NA value is found.</p></td>\n",
    "</tr>\n",
    "<tr class=\"row-odd\"><td><p><a class=\"reference internal\" href=\"pandas.DataFrame.le.html#pandas.DataFrame.le\" title=\"pandas.DataFrame.le\"><code class=\"xref py py-obj docutils literal notranslate\"><span class=\"pre\">le</span></code></a>(other[,&nbsp;axis,&nbsp;level])</p></td>\n",
    "<td><p>Get Less than or equal to of dataframe and other, element-wise (binary operator <cite>le</cite>).</p></td>\n",
    "</tr>\n",
    "<tr class=\"row-even\"><td><p><a class=\"reference internal\" href=\"pandas.DataFrame.lookup.html#pandas.DataFrame.lookup\" title=\"pandas.DataFrame.lookup\"><code class=\"xref py py-obj docutils literal notranslate\"><span class=\"pre\">lookup</span></code></a>(row_labels,&nbsp;col_labels)</p></td>\n",
    "<td><p>(DEPRECATED) Label-based \"fancy indexing\" function for DataFrame.</p></td>\n",
    "</tr>\n",
    "<tr class=\"row-odd\"><td><p><a class=\"reference internal\" href=\"pandas.DataFrame.lt.html#pandas.DataFrame.lt\" title=\"pandas.DataFrame.lt\"><code class=\"xref py py-obj docutils literal notranslate\"><span class=\"pre\">lt</span></code></a>(other[,&nbsp;axis,&nbsp;level])</p></td>\n",
    "<td><p>Get Less than of dataframe and other, element-wise (binary operator <cite>lt</cite>).</p></td>\n",
    "</tr>\n",
    "<tr class=\"row-even\"><td><p><a class=\"reference internal\" href=\"pandas.DataFrame.mad.html#pandas.DataFrame.mad\" title=\"pandas.DataFrame.mad\"><code class=\"xref py py-obj docutils literal notranslate\"><span class=\"pre\">mad</span></code></a>([axis,&nbsp;skipna,&nbsp;level])</p></td>\n",
    "<td><p>(DEPRECATED) Return the mean absolute deviation of the values over the requested axis.</p></td>\n",
    "</tr>\n",
    "<tr class=\"row-odd\"><td><p><a class=\"reference internal\" href=\"pandas.DataFrame.mask.html#pandas.DataFrame.mask\" title=\"pandas.DataFrame.mask\"><code class=\"xref py py-obj docutils literal notranslate\"><span class=\"pre\">mask</span></code></a>(cond[,&nbsp;other,&nbsp;inplace,&nbsp;axis,&nbsp;level,&nbsp;...])</p></td>\n",
    "<td><p>Replace values where the condition is True.</p></td>\n",
    "</tr>\n",
    "<tr class=\"row-even\"><td><p><a class=\"reference internal\" href=\"pandas.DataFrame.max.html#pandas.DataFrame.max\" title=\"pandas.DataFrame.max\"><code class=\"xref py py-obj docutils literal notranslate\"><span class=\"pre\">max</span></code></a>([axis,&nbsp;skipna,&nbsp;level,&nbsp;numeric_only])</p></td>\n",
    "<td><p>Return the maximum of the values over the requested axis.</p></td>\n",
    "</tr>\n",
    "<tr class=\"row-odd\"><td><p><a class=\"reference internal\" href=\"pandas.DataFrame.mean.html#pandas.DataFrame.mean\" title=\"pandas.DataFrame.mean\"><code class=\"xref py py-obj docutils literal notranslate\"><span class=\"pre\">mean</span></code></a>([axis,&nbsp;skipna,&nbsp;level,&nbsp;numeric_only])</p></td>\n",
    "<td><p>Return the mean of the values over the requested axis.</p></td>\n",
    "</tr>\n",
    "<tr class=\"row-even\"><td><p><a class=\"reference internal\" href=\"pandas.DataFrame.median.html#pandas.DataFrame.median\" title=\"pandas.DataFrame.median\"><code class=\"xref py py-obj docutils literal notranslate\"><span class=\"pre\">median</span></code></a>([axis,&nbsp;skipna,&nbsp;level,&nbsp;numeric_only])</p></td>\n",
    "<td><p>Return the median of the values over the requested axis.</p></td>\n",
    "</tr>\n",
    "<tr class=\"row-odd\"><td><p><a class=\"reference internal\" href=\"pandas.DataFrame.melt.html#pandas.DataFrame.melt\" title=\"pandas.DataFrame.melt\"><code class=\"xref py py-obj docutils literal notranslate\"><span class=\"pre\">melt</span></code></a>([id_vars,&nbsp;value_vars,&nbsp;var_name,&nbsp;...])</p></td>\n",
    "<td><p>Unpivot a DataFrame from wide to long format, optionally leaving identifiers set.</p></td>\n",
    "</tr>\n",
    "<tr class=\"row-even\"><td><p><a class=\"reference internal\" href=\"pandas.DataFrame.memory_usage.html#pandas.DataFrame.memory_usage\" title=\"pandas.DataFrame.memory_usage\"><code class=\"xref py py-obj docutils literal notranslate\"><span class=\"pre\">memory_usage</span></code></a>([index,&nbsp;deep])</p></td>\n",
    "<td><p>Return the memory usage of each column in bytes.</p></td>\n",
    "</tr>\n",
    "<tr class=\"row-odd\"><td><p><a class=\"reference internal\" href=\"pandas.DataFrame.merge.html#pandas.DataFrame.merge\" title=\"pandas.DataFrame.merge\"><code class=\"xref py py-obj docutils literal notranslate\"><span class=\"pre\">merge</span></code></a>(right[,&nbsp;how,&nbsp;on,&nbsp;left_on,&nbsp;right_on,&nbsp;...])</p></td>\n",
    "<td><p>Merge DataFrame or named Series objects with a database-style join.</p></td>\n",
    "</tr>\n",
    "<tr class=\"row-even\"><td><p><a class=\"reference internal\" href=\"pandas.DataFrame.min.html#pandas.DataFrame.min\" title=\"pandas.DataFrame.min\"><code class=\"xref py py-obj docutils literal notranslate\"><span class=\"pre\">min</span></code></a>([axis,&nbsp;skipna,&nbsp;level,&nbsp;numeric_only])</p></td>\n",
    "<td><p>Return the minimum of the values over the requested axis.</p></td>\n",
    "</tr>\n",
    "<tr class=\"row-odd\"><td><p><a class=\"reference internal\" href=\"pandas.DataFrame.mod.html#pandas.DataFrame.mod\" title=\"pandas.DataFrame.mod\"><code class=\"xref py py-obj docutils literal notranslate\"><span class=\"pre\">mod</span></code></a>(other[,&nbsp;axis,&nbsp;level,&nbsp;fill_value])</p></td>\n",
    "<td><p>Get Modulo of dataframe and other, element-wise (binary operator <cite>mod</cite>).</p></td>\n",
    "</tr>\n",
    "<tr class=\"row-even\"><td><p><a class=\"reference internal\" href=\"pandas.DataFrame.mode.html#pandas.DataFrame.mode\" title=\"pandas.DataFrame.mode\"><code class=\"xref py py-obj docutils literal notranslate\"><span class=\"pre\">mode</span></code></a>([axis,&nbsp;numeric_only,&nbsp;dropna])</p></td>\n",
    "<td><p>Get the mode(s) of each element along the selected axis.</p></td>\n",
    "</tr>\n",
    "<tr class=\"row-odd\"><td><p><a class=\"reference internal\" href=\"pandas.DataFrame.mul.html#pandas.DataFrame.mul\" title=\"pandas.DataFrame.mul\"><code class=\"xref py py-obj docutils literal notranslate\"><span class=\"pre\">mul</span></code></a>(other[,&nbsp;axis,&nbsp;level,&nbsp;fill_value])</p></td>\n",
    "<td><p>Get Multiplication of dataframe and other, element-wise (binary operator <cite>mul</cite>).</p></td>\n",
    "</tr>\n",
    "<tr class=\"row-even\"><td><p><a class=\"reference internal\" href=\"pandas.DataFrame.multiply.html#pandas.DataFrame.multiply\" title=\"pandas.DataFrame.multiply\"><code class=\"xref py py-obj docutils literal notranslate\"><span class=\"pre\">multiply</span></code></a>(other[,&nbsp;axis,&nbsp;level,&nbsp;fill_value])</p></td>\n",
    "<td><p>Get Multiplication of dataframe and other, element-wise (binary operator <cite>mul</cite>).</p></td>\n",
    "</tr>\n",
    "<tr class=\"row-odd\"><td><p><a class=\"reference internal\" href=\"pandas.DataFrame.ne.html#pandas.DataFrame.ne\" title=\"pandas.DataFrame.ne\"><code class=\"xref py py-obj docutils literal notranslate\"><span class=\"pre\">ne</span></code></a>(other[,&nbsp;axis,&nbsp;level])</p></td>\n",
    "<td><p>Get Not equal to of dataframe and other, element-wise (binary operator <cite>ne</cite>).</p></td>\n",
    "</tr>\n",
    "<tr class=\"row-even\"><td><p><a class=\"reference internal\" href=\"pandas.DataFrame.nlargest.html#pandas.DataFrame.nlargest\" title=\"pandas.DataFrame.nlargest\"><code class=\"xref py py-obj docutils literal notranslate\"><span class=\"pre\">nlargest</span></code></a>(n,&nbsp;columns[,&nbsp;keep])</p></td>\n",
    "<td><p>Return the first <cite>n</cite> rows ordered by <cite>columns</cite> in descending order.</p></td>\n",
    "</tr>\n",
    "<tr class=\"row-odd\"><td><p><a class=\"reference internal\" href=\"pandas.DataFrame.notna.html#pandas.DataFrame.notna\" title=\"pandas.DataFrame.notna\"><code class=\"xref py py-obj docutils literal notranslate\"><span class=\"pre\">notna</span></code></a>()</p></td>\n",
    "<td><p>Detect existing (non-missing) values.</p></td>\n",
    "</tr>\n",
    "<tr class=\"row-even\"><td><p><a class=\"reference internal\" href=\"pandas.DataFrame.notnull.html#pandas.DataFrame.notnull\" title=\"pandas.DataFrame.notnull\"><code class=\"xref py py-obj docutils literal notranslate\"><span class=\"pre\">notnull</span></code></a>()</p></td>\n",
    "<td><p>DataFrame.notnull is an alias for DataFrame.notna.</p></td>\n",
    "</tr>\n",
    "<tr class=\"row-odd\"><td><p><a class=\"reference internal\" href=\"pandas.DataFrame.nsmallest.html#pandas.DataFrame.nsmallest\" title=\"pandas.DataFrame.nsmallest\"><code class=\"xref py py-obj docutils literal notranslate\"><span class=\"pre\">nsmallest</span></code></a>(n,&nbsp;columns[,&nbsp;keep])</p></td>\n",
    "<td><p>Return the first <cite>n</cite> rows ordered by <cite>columns</cite> in ascending order.</p></td>\n",
    "</tr>\n",
    "<tr class=\"row-even\"><td><p><a class=\"reference internal\" href=\"pandas.DataFrame.nunique.html#pandas.DataFrame.nunique\" title=\"pandas.DataFrame.nunique\"><code class=\"xref py py-obj docutils literal notranslate\"><span class=\"pre\">nunique</span></code></a>([axis,&nbsp;dropna])</p></td>\n",
    "<td><p>Count number of distinct elements in specified axis.</p></td>\n",
    "</tr>\n",
    "<tr class=\"row-odd\"><td><p><a class=\"reference internal\" href=\"pandas.DataFrame.pad.html#pandas.DataFrame.pad\" title=\"pandas.DataFrame.pad\"><code class=\"xref py py-obj docutils literal notranslate\"><span class=\"pre\">pad</span></code></a>([axis,&nbsp;inplace,&nbsp;limit,&nbsp;downcast])</p></td>\n",
    "<td><p>Synonym for <a class=\"reference internal\" href=\"pandas.DataFrame.fillna.html#pandas.DataFrame.fillna\" title=\"pandas.DataFrame.fillna\"><code class=\"xref py py-meth docutils literal notranslate\"><span class=\"pre\">DataFrame.fillna()</span></code></a> with <code class=\"docutils literal notranslate\"><span class=\"pre\">method='ffill'</span></code>.</p></td>\n",
    "</tr>\n",
    "<tr class=\"row-even\"><td><p><a class=\"reference internal\" href=\"pandas.DataFrame.pct_change.html#pandas.DataFrame.pct_change\" title=\"pandas.DataFrame.pct_change\"><code class=\"xref py py-obj docutils literal notranslate\"><span class=\"pre\">pct_change</span></code></a>([periods,&nbsp;fill_method,&nbsp;limit,&nbsp;freq])</p></td>\n",
    "<td><p>Percentage change between the current and a prior element.</p></td>\n",
    "</tr>\n",
    "<tr class=\"row-odd\"><td><p><a class=\"reference internal\" href=\"pandas.DataFrame.pipe.html#pandas.DataFrame.pipe\" title=\"pandas.DataFrame.pipe\"><code class=\"xref py py-obj docutils literal notranslate\"><span class=\"pre\">pipe</span></code></a>(func,&nbsp;*args,&nbsp;**kwargs)</p></td>\n",
    "<td><p>Apply chainable functions that expect Series or DataFrames.</p></td>\n",
    "</tr>\n",
    "<tr class=\"row-even\"><td><p><a class=\"reference internal\" href=\"pandas.DataFrame.pivot.html#pandas.DataFrame.pivot\" title=\"pandas.DataFrame.pivot\"><code class=\"xref py py-obj docutils literal notranslate\"><span class=\"pre\">pivot</span></code></a>([index,&nbsp;columns,&nbsp;values])</p></td>\n",
    "<td><p>Return reshaped DataFrame organized by given index / column values.</p></td>\n",
    "</tr>\n",
    "<tr class=\"row-odd\"><td><p><a class=\"reference internal\" href=\"pandas.DataFrame.pivot_table.html#pandas.DataFrame.pivot_table\" title=\"pandas.DataFrame.pivot_table\"><code class=\"xref py py-obj docutils literal notranslate\"><span class=\"pre\">pivot_table</span></code></a>([values,&nbsp;index,&nbsp;columns,&nbsp;...])</p></td>\n",
    "<td><p>Create a spreadsheet-style pivot table as a DataFrame.</p></td>\n",
    "</tr>\n",
    "<tr class=\"row-even\"><td><p><a class=\"reference internal\" href=\"pandas.DataFrame.plot.html#pandas.DataFrame.plot\" title=\"pandas.DataFrame.plot\"><code class=\"xref py py-obj docutils literal notranslate\"><span class=\"pre\">plot</span></code></a></p></td>\n",
    "<td><p>alias of <code class=\"xref py py-class docutils literal notranslate\"><span class=\"pre\">pandas.plotting._core.PlotAccessor</span></code></p></td>\n",
    "</tr>\n",
    "<tr class=\"row-odd\"><td><p><a class=\"reference internal\" href=\"pandas.DataFrame.pop.html#pandas.DataFrame.pop\" title=\"pandas.DataFrame.pop\"><code class=\"xref py py-obj docutils literal notranslate\"><span class=\"pre\">pop</span></code></a>(item)</p></td>\n",
    "<td><p>Return item and drop from frame.</p></td>\n",
    "</tr>\n",
    "<tr class=\"row-even\"><td><p><a class=\"reference internal\" href=\"pandas.DataFrame.pow.html#pandas.DataFrame.pow\" title=\"pandas.DataFrame.pow\"><code class=\"xref py py-obj docutils literal notranslate\"><span class=\"pre\">pow</span></code></a>(other[,&nbsp;axis,&nbsp;level,&nbsp;fill_value])</p></td>\n",
    "<td><p>Get Exponential power of dataframe and other, element-wise (binary operator <cite>pow</cite>).</p></td>\n",
    "</tr>\n",
    "<tr class=\"row-odd\"><td><p><a class=\"reference internal\" href=\"pandas.DataFrame.prod.html#pandas.DataFrame.prod\" title=\"pandas.DataFrame.prod\"><code class=\"xref py py-obj docutils literal notranslate\"><span class=\"pre\">prod</span></code></a>([axis,&nbsp;skipna,&nbsp;level,&nbsp;numeric_only,&nbsp;...])</p></td>\n",
    "<td><p>Return the product of the values over the requested axis.</p></td>\n",
    "</tr>\n",
    "<tr class=\"row-even\"><td><p><a class=\"reference internal\" href=\"pandas.DataFrame.product.html#pandas.DataFrame.product\" title=\"pandas.DataFrame.product\"><code class=\"xref py py-obj docutils literal notranslate\"><span class=\"pre\">product</span></code></a>([axis,&nbsp;skipna,&nbsp;level,&nbsp;numeric_only,&nbsp;...])</p></td>\n",
    "<td><p>Return the product of the values over the requested axis.</p></td>\n",
    "</tr>\n",
    "<tr class=\"row-odd\"><td><p><a class=\"reference internal\" href=\"pandas.DataFrame.quantile.html#pandas.DataFrame.quantile\" title=\"pandas.DataFrame.quantile\"><code class=\"xref py py-obj docutils literal notranslate\"><span class=\"pre\">quantile</span></code></a>([q,&nbsp;axis,&nbsp;numeric_only,&nbsp;...])</p></td>\n",
    "<td><p>Return values at the given quantile over requested axis.</p></td>\n",
    "</tr>\n",
    "<tr class=\"row-even\"><td><p><a class=\"reference internal\" href=\"pandas.DataFrame.query.html#pandas.DataFrame.query\" title=\"pandas.DataFrame.query\"><code class=\"xref py py-obj docutils literal notranslate\"><span class=\"pre\">query</span></code></a>(expr[,&nbsp;inplace])</p></td>\n",
    "<td><p>Query the columns of a DataFrame with a boolean expression.</p></td>\n",
    "</tr>\n",
    "<tr class=\"row-odd\"><td><p><a class=\"reference internal\" href=\"pandas.DataFrame.radd.html#pandas.DataFrame.radd\" title=\"pandas.DataFrame.radd\"><code class=\"xref py py-obj docutils literal notranslate\"><span class=\"pre\">radd</span></code></a>(other[,&nbsp;axis,&nbsp;level,&nbsp;fill_value])</p></td>\n",
    "<td><p>Get Addition of dataframe and other, element-wise (binary operator <cite>radd</cite>).</p></td>\n",
    "</tr>\n",
    "<tr class=\"row-even\"><td><p><a class=\"reference internal\" href=\"pandas.DataFrame.rank.html#pandas.DataFrame.rank\" title=\"pandas.DataFrame.rank\"><code class=\"xref py py-obj docutils literal notranslate\"><span class=\"pre\">rank</span></code></a>([axis,&nbsp;method,&nbsp;numeric_only,&nbsp;...])</p></td>\n",
    "<td><p>Compute numerical data ranks (1 through n) along axis.</p></td>\n",
    "</tr>\n",
    "<tr class=\"row-odd\"><td><p><a class=\"reference internal\" href=\"pandas.DataFrame.rdiv.html#pandas.DataFrame.rdiv\" title=\"pandas.DataFrame.rdiv\"><code class=\"xref py py-obj docutils literal notranslate\"><span class=\"pre\">rdiv</span></code></a>(other[,&nbsp;axis,&nbsp;level,&nbsp;fill_value])</p></td>\n",
    "<td><p>Get Floating division of dataframe and other, element-wise (binary operator <cite>rtruediv</cite>).</p></td>\n",
    "</tr>\n",
    "<tr class=\"row-even\"><td><p><a class=\"reference internal\" href=\"pandas.DataFrame.reindex.html#pandas.DataFrame.reindex\" title=\"pandas.DataFrame.reindex\"><code class=\"xref py py-obj docutils literal notranslate\"><span class=\"pre\">reindex</span></code></a>([labels,&nbsp;index,&nbsp;columns,&nbsp;axis,&nbsp;...])</p></td>\n",
    "<td><p>Conform Series/DataFrame to new index with optional filling logic.</p></td>\n",
    "</tr>\n",
    "<tr class=\"row-odd\"><td><p><a class=\"reference internal\" href=\"pandas.DataFrame.reindex_like.html#pandas.DataFrame.reindex_like\" title=\"pandas.DataFrame.reindex_like\"><code class=\"xref py py-obj docutils literal notranslate\"><span class=\"pre\">reindex_like</span></code></a>(other[,&nbsp;method,&nbsp;copy,&nbsp;limit,&nbsp;...])</p></td>\n",
    "<td><p>Return an object with matching indices as other object.</p></td>\n",
    "</tr>\n",
    "<tr class=\"row-even\"><td><p><a class=\"reference internal\" href=\"pandas.DataFrame.rename.html#pandas.DataFrame.rename\" title=\"pandas.DataFrame.rename\"><code class=\"xref py py-obj docutils literal notranslate\"><span class=\"pre\">rename</span></code></a>([mapper,&nbsp;index,&nbsp;columns,&nbsp;axis,&nbsp;copy,&nbsp;...])</p></td>\n",
    "<td><p>Alter axes labels.</p></td>\n",
    "</tr>\n",
    "<tr class=\"row-odd\"><td><p><a class=\"reference internal\" href=\"pandas.DataFrame.rename_axis.html#pandas.DataFrame.rename_axis\" title=\"pandas.DataFrame.rename_axis\"><code class=\"xref py py-obj docutils literal notranslate\"><span class=\"pre\">rename_axis</span></code></a>([mapper,&nbsp;index,&nbsp;columns,&nbsp;axis,&nbsp;copy])</p></td>\n",
    "<td><p>Set the name of the axis for the index or columns.</p></td>\n",
    "</tr>\n",
    "<tr class=\"row-even\"><td><p><a class=\"reference internal\" href=\"pandas.DataFrame.reorder_levels.html#pandas.DataFrame.reorder_levels\" title=\"pandas.DataFrame.reorder_levels\"><code class=\"xref py py-obj docutils literal notranslate\"><span class=\"pre\">reorder_levels</span></code></a>(order[,&nbsp;axis])</p></td>\n",
    "<td><p>Rearrange index levels using input order.</p></td>\n",
    "</tr>\n",
    "<tr class=\"row-odd\"><td><p><a class=\"reference internal\" href=\"pandas.DataFrame.replace.html#pandas.DataFrame.replace\" title=\"pandas.DataFrame.replace\"><code class=\"xref py py-obj docutils literal notranslate\"><span class=\"pre\">replace</span></code></a>([to_replace,&nbsp;value,&nbsp;inplace,&nbsp;limit,&nbsp;...])</p></td>\n",
    "<td><p>Replace values given in <cite>to_replace</cite> with <cite>value</cite>.</p></td>\n",
    "</tr>\n",
    "<tr class=\"row-even\"><td><p><a class=\"reference internal\" href=\"pandas.DataFrame.resample.html#pandas.DataFrame.resample\" title=\"pandas.DataFrame.resample\"><code class=\"xref py py-obj docutils literal notranslate\"><span class=\"pre\">resample</span></code></a>(rule[,&nbsp;axis,&nbsp;closed,&nbsp;label,&nbsp;...])</p></td>\n",
    "<td><p>Resample time-series data.</p></td>\n",
    "</tr>\n",
    "<tr class=\"row-odd\"><td><p><a class=\"reference internal\" href=\"pandas.DataFrame.reset_index.html#pandas.DataFrame.reset_index\" title=\"pandas.DataFrame.reset_index\"><code class=\"xref py py-obj docutils literal notranslate\"><span class=\"pre\">reset_index</span></code></a>([level,&nbsp;drop,&nbsp;inplace,&nbsp;...])</p></td>\n",
    "<td><p>Reset the index, or a level of it.</p></td>\n",
    "</tr>\n",
    "<tr class=\"row-even\"><td><p><a class=\"reference internal\" href=\"pandas.DataFrame.rfloordiv.html#pandas.DataFrame.rfloordiv\" title=\"pandas.DataFrame.rfloordiv\"><code class=\"xref py py-obj docutils literal notranslate\"><span class=\"pre\">rfloordiv</span></code></a>(other[,&nbsp;axis,&nbsp;level,&nbsp;fill_value])</p></td>\n",
    "<td><p>Get Integer division of dataframe and other, element-wise (binary operator <cite>rfloordiv</cite>).</p></td>\n",
    "</tr>\n",
    "<tr class=\"row-odd\"><td><p><a class=\"reference internal\" href=\"pandas.DataFrame.rmod.html#pandas.DataFrame.rmod\" title=\"pandas.DataFrame.rmod\"><code class=\"xref py py-obj docutils literal notranslate\"><span class=\"pre\">rmod</span></code></a>(other[,&nbsp;axis,&nbsp;level,&nbsp;fill_value])</p></td>\n",
    "<td><p>Get Modulo of dataframe and other, element-wise (binary operator <cite>rmod</cite>).</p></td>\n",
    "</tr>\n",
    "<tr class=\"row-even\"><td><p><a class=\"reference internal\" href=\"pandas.DataFrame.rmul.html#pandas.DataFrame.rmul\" title=\"pandas.DataFrame.rmul\"><code class=\"xref py py-obj docutils literal notranslate\"><span class=\"pre\">rmul</span></code></a>(other[,&nbsp;axis,&nbsp;level,&nbsp;fill_value])</p></td>\n",
    "<td><p>Get Multiplication of dataframe and other, element-wise (binary operator <cite>rmul</cite>).</p></td>\n",
    "</tr>\n",
    "<tr class=\"row-odd\"><td><p><a class=\"reference internal\" href=\"pandas.DataFrame.rolling.html#pandas.DataFrame.rolling\" title=\"pandas.DataFrame.rolling\"><code class=\"xref py py-obj docutils literal notranslate\"><span class=\"pre\">rolling</span></code></a>(window[,&nbsp;min_periods,&nbsp;center,&nbsp;...])</p></td>\n",
    "<td><p>Provide rolling window calculations.</p></td>\n",
    "</tr>\n",
    "<tr class=\"row-even\"><td><p><a class=\"reference internal\" href=\"pandas.DataFrame.round.html#pandas.DataFrame.round\" title=\"pandas.DataFrame.round\"><code class=\"xref py py-obj docutils literal notranslate\"><span class=\"pre\">round</span></code></a>([decimals])</p></td>\n",
    "<td><p>Round a DataFrame to a variable number of decimal places.</p></td>\n",
    "</tr>\n",
    "<tr class=\"row-odd\"><td><p><a class=\"reference internal\" href=\"pandas.DataFrame.rpow.html#pandas.DataFrame.rpow\" title=\"pandas.DataFrame.rpow\"><code class=\"xref py py-obj docutils literal notranslate\"><span class=\"pre\">rpow</span></code></a>(other[,&nbsp;axis,&nbsp;level,&nbsp;fill_value])</p></td>\n",
    "<td><p>Get Exponential power of dataframe and other, element-wise (binary operator <cite>rpow</cite>).</p></td>\n",
    "</tr>\n",
    "<tr class=\"row-even\"><td><p><a class=\"reference internal\" href=\"pandas.DataFrame.rsub.html#pandas.DataFrame.rsub\" title=\"pandas.DataFrame.rsub\"><code class=\"xref py py-obj docutils literal notranslate\"><span class=\"pre\">rsub</span></code></a>(other[,&nbsp;axis,&nbsp;level,&nbsp;fill_value])</p></td>\n",
    "<td><p>Get Subtraction of dataframe and other, element-wise (binary operator <cite>rsub</cite>).</p></td>\n",
    "</tr>\n",
    "<tr class=\"row-odd\"><td><p><a class=\"reference internal\" href=\"pandas.DataFrame.rtruediv.html#pandas.DataFrame.rtruediv\" title=\"pandas.DataFrame.rtruediv\"><code class=\"xref py py-obj docutils literal notranslate\"><span class=\"pre\">rtruediv</span></code></a>(other[,&nbsp;axis,&nbsp;level,&nbsp;fill_value])</p></td>\n",
    "<td><p>Get Floating division of dataframe and other, element-wise (binary operator <cite>rtruediv</cite>).</p></td>\n",
    "</tr>\n",
    "<tr class=\"row-even\"><td><p><a class=\"reference internal\" href=\"pandas.DataFrame.sample.html#pandas.DataFrame.sample\" title=\"pandas.DataFrame.sample\"><code class=\"xref py py-obj docutils literal notranslate\"><span class=\"pre\">sample</span></code></a>([n,&nbsp;frac,&nbsp;replace,&nbsp;weights,&nbsp;...])</p></td>\n",
    "<td><p>Return a random sample of items from an axis of object.</p></td>\n",
    "</tr>\n",
    "<tr class=\"row-odd\"><td><p><a class=\"reference internal\" href=\"pandas.DataFrame.select_dtypes.html#pandas.DataFrame.select_dtypes\" title=\"pandas.DataFrame.select_dtypes\"><code class=\"xref py py-obj docutils literal notranslate\"><span class=\"pre\">select_dtypes</span></code></a>([include,&nbsp;exclude])</p></td>\n",
    "<td><p>Return a subset of the DataFrame's columns based on the column dtypes.</p></td>\n",
    "</tr>\n",
    "<tr class=\"row-even\"><td><p><a class=\"reference internal\" href=\"pandas.DataFrame.sem.html#pandas.DataFrame.sem\" title=\"pandas.DataFrame.sem\"><code class=\"xref py py-obj docutils literal notranslate\"><span class=\"pre\">sem</span></code></a>([axis,&nbsp;skipna,&nbsp;level,&nbsp;ddof,&nbsp;numeric_only])</p></td>\n",
    "<td><p>Return unbiased standard error of the mean over requested axis.</p></td>\n",
    "</tr>\n",
    "<tr class=\"row-odd\"><td><p><a class=\"reference internal\" href=\"pandas.DataFrame.set_axis.html#pandas.DataFrame.set_axis\" title=\"pandas.DataFrame.set_axis\"><code class=\"xref py py-obj docutils literal notranslate\"><span class=\"pre\">set_axis</span></code></a>(labels[,&nbsp;axis,&nbsp;inplace,&nbsp;copy])</p></td>\n",
    "<td><p>Assign desired index to given axis.</p></td>\n",
    "</tr>\n",
    "<tr class=\"row-even\"><td><p><a class=\"reference internal\" href=\"pandas.DataFrame.set_flags.html#pandas.DataFrame.set_flags\" title=\"pandas.DataFrame.set_flags\"><code class=\"xref py py-obj docutils literal notranslate\"><span class=\"pre\">set_flags</span></code></a>(*[,&nbsp;copy,&nbsp;allows_duplicate_labels])</p></td>\n",
    "<td><p>Return a new object with updated flags.</p></td>\n",
    "</tr>\n",
    "<tr class=\"row-odd\"><td><p><a class=\"reference internal\" href=\"pandas.DataFrame.set_index.html#pandas.DataFrame.set_index\" title=\"pandas.DataFrame.set_index\"><code class=\"xref py py-obj docutils literal notranslate\"><span class=\"pre\">set_index</span></code></a>(keys[,&nbsp;drop,&nbsp;append,&nbsp;inplace,&nbsp;...])</p></td>\n",
    "<td><p>Set the DataFrame index using existing columns.</p></td>\n",
    "</tr>\n",
    "<tr class=\"row-even\"><td><p><a class=\"reference internal\" href=\"pandas.DataFrame.shift.html#pandas.DataFrame.shift\" title=\"pandas.DataFrame.shift\"><code class=\"xref py py-obj docutils literal notranslate\"><span class=\"pre\">shift</span></code></a>([periods,&nbsp;freq,&nbsp;axis,&nbsp;fill_value])</p></td>\n",
    "<td><p>Shift index by desired number of periods with an optional time <cite>freq</cite>.</p></td>\n",
    "</tr>\n",
    "<tr class=\"row-odd\"><td><p><a class=\"reference internal\" href=\"pandas.DataFrame.skew.html#pandas.DataFrame.skew\" title=\"pandas.DataFrame.skew\"><code class=\"xref py py-obj docutils literal notranslate\"><span class=\"pre\">skew</span></code></a>([axis,&nbsp;skipna,&nbsp;level,&nbsp;numeric_only])</p></td>\n",
    "<td><p>Return unbiased skew over requested axis.</p></td>\n",
    "</tr>\n",
    "<tr class=\"row-even\"><td><p><a class=\"reference internal\" href=\"pandas.DataFrame.slice_shift.html#pandas.DataFrame.slice_shift\" title=\"pandas.DataFrame.slice_shift\"><code class=\"xref py py-obj docutils literal notranslate\"><span class=\"pre\">slice_shift</span></code></a>([periods,&nbsp;axis])</p></td>\n",
    "<td><p>(DEPRECATED) Equivalent to <cite>shift</cite> without copying data.</p></td>\n",
    "</tr>\n",
    "<tr class=\"row-odd\"><td><p><a class=\"reference internal\" href=\"pandas.DataFrame.sort_index.html#pandas.DataFrame.sort_index\" title=\"pandas.DataFrame.sort_index\"><code class=\"xref py py-obj docutils literal notranslate\"><span class=\"pre\">sort_index</span></code></a>([axis,&nbsp;level,&nbsp;ascending,&nbsp;...])</p></td>\n",
    "<td><p>Sort object by labels (along an axis).</p></td>\n",
    "</tr>\n",
    "<tr class=\"row-even\"><td><p><a class=\"reference internal\" href=\"pandas.DataFrame.sort_values.html#pandas.DataFrame.sort_values\" title=\"pandas.DataFrame.sort_values\"><code class=\"xref py py-obj docutils literal notranslate\"><span class=\"pre\">sort_values</span></code></a>(by[,&nbsp;axis,&nbsp;ascending,&nbsp;inplace,&nbsp;...])</p></td>\n",
    "<td><p>Sort by the values along either axis.</p></td>\n",
    "</tr>\n",
    "<tr class=\"row-odd\"><td><p><a class=\"reference internal\" href=\"pandas.DataFrame.sparse.html#pandas.DataFrame.sparse\" title=\"pandas.DataFrame.sparse\"><code class=\"xref py py-obj docutils literal notranslate\"><span class=\"pre\">sparse</span></code></a></p></td>\n",
    "<td><p>alias of <code class=\"xref py py-class docutils literal notranslate\"><span class=\"pre\">pandas.core.arrays.sparse.accessor.SparseFrameAccessor</span></code></p></td>\n",
    "</tr>\n",
    "<tr class=\"row-even\"><td><p><a class=\"reference internal\" href=\"pandas.DataFrame.squeeze.html#pandas.DataFrame.squeeze\" title=\"pandas.DataFrame.squeeze\"><code class=\"xref py py-obj docutils literal notranslate\"><span class=\"pre\">squeeze</span></code></a>([axis])</p></td>\n",
    "<td><p>Squeeze 1 dimensional axis objects into scalars.</p></td>\n",
    "</tr>\n",
    "<tr class=\"row-odd\"><td><p><a class=\"reference internal\" href=\"pandas.DataFrame.stack.html#pandas.DataFrame.stack\" title=\"pandas.DataFrame.stack\"><code class=\"xref py py-obj docutils literal notranslate\"><span class=\"pre\">stack</span></code></a>([level,&nbsp;dropna])</p></td>\n",
    "<td><p>Stack the prescribed level(s) from columns to index.</p></td>\n",
    "</tr>\n",
    "<tr class=\"row-even\"><td><p><a class=\"reference internal\" href=\"pandas.DataFrame.std.html#pandas.DataFrame.std\" title=\"pandas.DataFrame.std\"><code class=\"xref py py-obj docutils literal notranslate\"><span class=\"pre\">std</span></code></a>([axis,&nbsp;skipna,&nbsp;level,&nbsp;ddof,&nbsp;numeric_only])</p></td>\n",
    "<td><p>Return sample standard deviation over requested axis.</p></td>\n",
    "</tr>\n",
    "<tr class=\"row-odd\"><td><p><a class=\"reference internal\" href=\"pandas.DataFrame.sub.html#pandas.DataFrame.sub\" title=\"pandas.DataFrame.sub\"><code class=\"xref py py-obj docutils literal notranslate\"><span class=\"pre\">sub</span></code></a>(other[,&nbsp;axis,&nbsp;level,&nbsp;fill_value])</p></td>\n",
    "<td><p>Get Subtraction of dataframe and other, element-wise (binary operator <cite>sub</cite>).</p></td>\n",
    "</tr>\n",
    "<tr class=\"row-even\"><td><p><a class=\"reference internal\" href=\"pandas.DataFrame.subtract.html#pandas.DataFrame.subtract\" title=\"pandas.DataFrame.subtract\"><code class=\"xref py py-obj docutils literal notranslate\"><span class=\"pre\">subtract</span></code></a>(other[,&nbsp;axis,&nbsp;level,&nbsp;fill_value])</p></td>\n",
    "<td><p>Get Subtraction of dataframe and other, element-wise (binary operator <cite>sub</cite>).</p></td>\n",
    "</tr>\n",
    "<tr class=\"row-odd\"><td><p><a class=\"reference internal\" href=\"pandas.DataFrame.sum.html#pandas.DataFrame.sum\" title=\"pandas.DataFrame.sum\"><code class=\"xref py py-obj docutils literal notranslate\"><span class=\"pre\">sum</span></code></a>([axis,&nbsp;skipna,&nbsp;level,&nbsp;numeric_only,&nbsp;...])</p></td>\n",
    "<td><p>Return the sum of the values over the requested axis.</p></td>\n",
    "</tr>\n",
    "<tr class=\"row-even\"><td><p><a class=\"reference internal\" href=\"pandas.DataFrame.swapaxes.html#pandas.DataFrame.swapaxes\" title=\"pandas.DataFrame.swapaxes\"><code class=\"xref py py-obj docutils literal notranslate\"><span class=\"pre\">swapaxes</span></code></a>(axis1,&nbsp;axis2[,&nbsp;copy])</p></td>\n",
    "<td><p>Interchange axes and swap values axes appropriately.</p></td>\n",
    "</tr>\n",
    "<tr class=\"row-odd\"><td><p><a class=\"reference internal\" href=\"pandas.DataFrame.swaplevel.html#pandas.DataFrame.swaplevel\" title=\"pandas.DataFrame.swaplevel\"><code class=\"xref py py-obj docutils literal notranslate\"><span class=\"pre\">swaplevel</span></code></a>([i,&nbsp;j,&nbsp;axis])</p></td>\n",
    "<td><p>Swap levels i and j in a <a class=\"reference internal\" href=\"pandas.MultiIndex.html#pandas.MultiIndex\" title=\"pandas.MultiIndex\"><code class=\"xref py py-class docutils literal notranslate\"><span class=\"pre\">MultiIndex</span></code></a>.</p></td>\n",
    "</tr>\n",
    "<tr class=\"row-even\"><td><p><a class=\"reference internal\" href=\"pandas.DataFrame.tail.html#pandas.DataFrame.tail\" title=\"pandas.DataFrame.tail\"><code class=\"xref py py-obj docutils literal notranslate\"><span class=\"pre\">tail</span></code></a>([n])</p></td>\n",
    "<td><p>Return the last <cite>n</cite> rows.</p></td>\n",
    "</tr>\n",
    "<tr class=\"row-odd\"><td><p><a class=\"reference internal\" href=\"pandas.DataFrame.take.html#pandas.DataFrame.take\" title=\"pandas.DataFrame.take\"><code class=\"xref py py-obj docutils literal notranslate\"><span class=\"pre\">take</span></code></a>(indices[,&nbsp;axis,&nbsp;is_copy])</p></td>\n",
    "<td><p>Return the elements in the given <em>positional</em> indices along an axis.</p></td>\n",
    "</tr>\n",
    "<tr class=\"row-even\"><td><p><a class=\"reference internal\" href=\"pandas.DataFrame.to_clipboard.html#pandas.DataFrame.to_clipboard\" title=\"pandas.DataFrame.to_clipboard\"><code class=\"xref py py-obj docutils literal notranslate\"><span class=\"pre\">to_clipboard</span></code></a>([excel,&nbsp;sep])</p></td>\n",
    "<td><p>Copy object to the system clipboard.</p></td>\n",
    "</tr>\n",
    "<tr class=\"row-odd\"><td><p><a class=\"reference internal\" href=\"pandas.DataFrame.to_csv.html#pandas.DataFrame.to_csv\" title=\"pandas.DataFrame.to_csv\"><code class=\"xref py py-obj docutils literal notranslate\"><span class=\"pre\">to_csv</span></code></a>([path_or_buf,&nbsp;sep,&nbsp;na_rep,&nbsp;...])</p></td>\n",
    "<td><p>Write object to a comma-separated values (csv) file.</p></td>\n",
    "</tr>\n",
    "<tr class=\"row-even\"><td><p><a class=\"reference internal\" href=\"pandas.DataFrame.to_dict.html#pandas.DataFrame.to_dict\" title=\"pandas.DataFrame.to_dict\"><code class=\"xref py py-obj docutils literal notranslate\"><span class=\"pre\">to_dict</span></code></a>([orient,&nbsp;into])</p></td>\n",
    "<td><p>Convert the DataFrame to a dictionary.</p></td>\n",
    "</tr>\n",
    "<tr class=\"row-odd\"><td><p><a class=\"reference internal\" href=\"pandas.DataFrame.to_excel.html#pandas.DataFrame.to_excel\" title=\"pandas.DataFrame.to_excel\"><code class=\"xref py py-obj docutils literal notranslate\"><span class=\"pre\">to_excel</span></code></a>(excel_writer[,&nbsp;sheet_name,&nbsp;na_rep,&nbsp;...])</p></td>\n",
    "<td><p>Write object to an Excel sheet.</p></td>\n",
    "</tr>\n",
    "<tr class=\"row-even\"><td><p><a class=\"reference internal\" href=\"pandas.DataFrame.to_feather.html#pandas.DataFrame.to_feather\" title=\"pandas.DataFrame.to_feather\"><code class=\"xref py py-obj docutils literal notranslate\"><span class=\"pre\">to_feather</span></code></a>(path,&nbsp;**kwargs)</p></td>\n",
    "<td><p>Write a DataFrame to the binary Feather format.</p></td>\n",
    "</tr>\n",
    "<tr class=\"row-odd\"><td><p><a class=\"reference internal\" href=\"pandas.DataFrame.to_gbq.html#pandas.DataFrame.to_gbq\" title=\"pandas.DataFrame.to_gbq\"><code class=\"xref py py-obj docutils literal notranslate\"><span class=\"pre\">to_gbq</span></code></a>(destination_table[,&nbsp;project_id,&nbsp;...])</p></td>\n",
    "<td><p>Write a DataFrame to a Google BigQuery table.</p></td>\n",
    "</tr>\n",
    "<tr class=\"row-even\"><td><p><a class=\"reference internal\" href=\"pandas.DataFrame.to_hdf.html#pandas.DataFrame.to_hdf\" title=\"pandas.DataFrame.to_hdf\"><code class=\"xref py py-obj docutils literal notranslate\"><span class=\"pre\">to_hdf</span></code></a>(path_or_buf,&nbsp;key[,&nbsp;mode,&nbsp;complevel,&nbsp;...])</p></td>\n",
    "<td><p>Write the contained data to an HDF5 file using HDFStore.</p></td>\n",
    "</tr>\n",
    "<tr class=\"row-odd\"><td><p><a class=\"reference internal\" href=\"pandas.DataFrame.to_html.html#pandas.DataFrame.to_html\" title=\"pandas.DataFrame.to_html\"><code class=\"xref py py-obj docutils literal notranslate\"><span class=\"pre\">to_html</span></code></a>([buf,&nbsp;columns,&nbsp;col_space,&nbsp;header,&nbsp;...])</p></td>\n",
    "<td><p>Render a DataFrame as an HTML table.</p></td>\n",
    "</tr>\n",
    "<tr class=\"row-even\"><td><p><a class=\"reference internal\" href=\"pandas.DataFrame.to_json.html#pandas.DataFrame.to_json\" title=\"pandas.DataFrame.to_json\"><code class=\"xref py py-obj docutils literal notranslate\"><span class=\"pre\">to_json</span></code></a>([path_or_buf,&nbsp;orient,&nbsp;date_format,&nbsp;...])</p></td>\n",
    "<td><p>Convert the object to a JSON string.</p></td>\n",
    "</tr>\n",
    "<tr class=\"row-odd\"><td><p><a class=\"reference internal\" href=\"pandas.DataFrame.to_latex.html#pandas.DataFrame.to_latex\" title=\"pandas.DataFrame.to_latex\"><code class=\"xref py py-obj docutils literal notranslate\"><span class=\"pre\">to_latex</span></code></a>([buf,&nbsp;columns,&nbsp;col_space,&nbsp;header,&nbsp;...])</p></td>\n",
    "<td><p>Render object to a LaTeX tabular, longtable, or nested table.</p></td>\n",
    "</tr>\n",
    "<tr class=\"row-even\"><td><p><a class=\"reference internal\" href=\"pandas.DataFrame.to_markdown.html#pandas.DataFrame.to_markdown\" title=\"pandas.DataFrame.to_markdown\"><code class=\"xref py py-obj docutils literal notranslate\"><span class=\"pre\">to_markdown</span></code></a>([buf,&nbsp;mode,&nbsp;index,&nbsp;storage_options])</p></td>\n",
    "<td><p>Print DataFrame in Markdown-friendly format.</p></td>\n",
    "</tr>\n",
    "<tr class=\"row-odd\"><td><p><a class=\"reference internal\" href=\"pandas.DataFrame.to_numpy.html#pandas.DataFrame.to_numpy\" title=\"pandas.DataFrame.to_numpy\"><code class=\"xref py py-obj docutils literal notranslate\"><span class=\"pre\">to_numpy</span></code></a>([dtype,&nbsp;copy,&nbsp;na_value])</p></td>\n",
    "<td><p>Convert the DataFrame to a NumPy array.</p></td>\n",
    "</tr>\n",
    "<tr class=\"row-even\"><td><p><a class=\"reference internal\" href=\"pandas.DataFrame.to_orc.html#pandas.DataFrame.to_orc\" title=\"pandas.DataFrame.to_orc\"><code class=\"xref py py-obj docutils literal notranslate\"><span class=\"pre\">to_orc</span></code></a>([path,&nbsp;engine,&nbsp;index,&nbsp;engine_kwargs])</p></td>\n",
    "<td><p>Write a DataFrame to the ORC format.</p></td>\n",
    "</tr>\n",
    "<tr class=\"row-odd\"><td><p><a class=\"reference internal\" href=\"pandas.DataFrame.to_parquet.html#pandas.DataFrame.to_parquet\" title=\"pandas.DataFrame.to_parquet\"><code class=\"xref py py-obj docutils literal notranslate\"><span class=\"pre\">to_parquet</span></code></a>([path,&nbsp;engine,&nbsp;compression,&nbsp;...])</p></td>\n",
    "<td><p>Write a DataFrame to the binary parquet format.</p></td>\n",
    "</tr>\n",
    "<tr class=\"row-even\"><td><p><a class=\"reference internal\" href=\"pandas.DataFrame.to_period.html#pandas.DataFrame.to_period\" title=\"pandas.DataFrame.to_period\"><code class=\"xref py py-obj docutils literal notranslate\"><span class=\"pre\">to_period</span></code></a>([freq,&nbsp;axis,&nbsp;copy])</p></td>\n",
    "<td><p>Convert DataFrame from DatetimeIndex to PeriodIndex.</p></td>\n",
    "</tr>\n",
    "<tr class=\"row-odd\"><td><p><a class=\"reference internal\" href=\"pandas.DataFrame.to_pickle.html#pandas.DataFrame.to_pickle\" title=\"pandas.DataFrame.to_pickle\"><code class=\"xref py py-obj docutils literal notranslate\"><span class=\"pre\">to_pickle</span></code></a>(path[,&nbsp;compression,&nbsp;protocol,&nbsp;...])</p></td>\n",
    "<td><p>Pickle (serialize) object to file.</p></td>\n",
    "</tr>\n",
    "<tr class=\"row-even\"><td><p><a class=\"reference internal\" href=\"pandas.DataFrame.to_records.html#pandas.DataFrame.to_records\" title=\"pandas.DataFrame.to_records\"><code class=\"xref py py-obj docutils literal notranslate\"><span class=\"pre\">to_records</span></code></a>([index,&nbsp;column_dtypes,&nbsp;index_dtypes])</p></td>\n",
    "<td><p>Convert DataFrame to a NumPy record array.</p></td>\n",
    "</tr>\n",
    "<tr class=\"row-odd\"><td><p><a class=\"reference internal\" href=\"pandas.DataFrame.to_sql.html#pandas.DataFrame.to_sql\" title=\"pandas.DataFrame.to_sql\"><code class=\"xref py py-obj docutils literal notranslate\"><span class=\"pre\">to_sql</span></code></a>(name,&nbsp;con[,&nbsp;schema,&nbsp;if_exists,&nbsp;...])</p></td>\n",
    "<td><p>Write records stored in a DataFrame to a SQL database.</p></td>\n",
    "</tr>\n",
    "<tr class=\"row-even\"><td><p><a class=\"reference internal\" href=\"pandas.DataFrame.to_stata.html#pandas.DataFrame.to_stata\" title=\"pandas.DataFrame.to_stata\"><code class=\"xref py py-obj docutils literal notranslate\"><span class=\"pre\">to_stata</span></code></a>(path[,&nbsp;convert_dates,&nbsp;write_index,&nbsp;...])</p></td>\n",
    "<td><p>Export DataFrame object to Stata dta format.</p></td>\n",
    "</tr>\n",
    "<tr class=\"row-odd\"><td><p><a class=\"reference internal\" href=\"pandas.DataFrame.to_string.html#pandas.DataFrame.to_string\" title=\"pandas.DataFrame.to_string\"><code class=\"xref py py-obj docutils literal notranslate\"><span class=\"pre\">to_string</span></code></a>([buf,&nbsp;columns,&nbsp;col_space,&nbsp;header,&nbsp;...])</p></td>\n",
    "<td><p>Render a DataFrame to a console-friendly tabular output.</p></td>\n",
    "</tr>\n",
    "<tr class=\"row-even\"><td><p><a class=\"reference internal\" href=\"pandas.DataFrame.to_timestamp.html#pandas.DataFrame.to_timestamp\" title=\"pandas.DataFrame.to_timestamp\"><code class=\"xref py py-obj docutils literal notranslate\"><span class=\"pre\">to_timestamp</span></code></a>([freq,&nbsp;how,&nbsp;axis,&nbsp;copy])</p></td>\n",
    "<td><p>Cast to DatetimeIndex of timestamps, at <em>beginning</em> of period.</p></td>\n",
    "</tr>\n",
    "<tr class=\"row-odd\"><td><p><a class=\"reference internal\" href=\"pandas.DataFrame.to_xarray.html#pandas.DataFrame.to_xarray\" title=\"pandas.DataFrame.to_xarray\"><code class=\"xref py py-obj docutils literal notranslate\"><span class=\"pre\">to_xarray</span></code></a>()</p></td>\n",
    "<td><p>Return an xarray object from the pandas object.</p></td>\n",
    "</tr>\n",
    "<tr class=\"row-even\"><td><p><a class=\"reference internal\" href=\"pandas.DataFrame.to_xml.html#pandas.DataFrame.to_xml\" title=\"pandas.DataFrame.to_xml\"><code class=\"xref py py-obj docutils literal notranslate\"><span class=\"pre\">to_xml</span></code></a>([path_or_buffer,&nbsp;index,&nbsp;root_name,&nbsp;...])</p></td>\n",
    "<td><p>Render a DataFrame to an XML document.</p></td>\n",
    "</tr>\n",
    "<tr class=\"row-odd\"><td><p><a class=\"reference internal\" href=\"pandas.DataFrame.transform.html#pandas.DataFrame.transform\" title=\"pandas.DataFrame.transform\"><code class=\"xref py py-obj docutils literal notranslate\"><span class=\"pre\">transform</span></code></a>(func[,&nbsp;axis])</p></td>\n",
    "<td><p>Call <code class=\"docutils literal notranslate\"><span class=\"pre\">func</span></code> on self producing a DataFrame with the same axis shape as self.</p></td>\n",
    "</tr>\n",
    "<tr class=\"row-even\"><td><p><a class=\"reference internal\" href=\"pandas.DataFrame.transpose.html#pandas.DataFrame.transpose\" title=\"pandas.DataFrame.transpose\"><code class=\"xref py py-obj docutils literal notranslate\"><span class=\"pre\">transpose</span></code></a>(*args[,&nbsp;copy])</p></td>\n",
    "<td><p>Transpose index and columns.</p></td>\n",
    "</tr>\n",
    "<tr class=\"row-odd\"><td><p><a class=\"reference internal\" href=\"pandas.DataFrame.truediv.html#pandas.DataFrame.truediv\" title=\"pandas.DataFrame.truediv\"><code class=\"xref py py-obj docutils literal notranslate\"><span class=\"pre\">truediv</span></code></a>(other[,&nbsp;axis,&nbsp;level,&nbsp;fill_value])</p></td>\n",
    "<td><p>Get Floating division of dataframe and other, element-wise (binary operator <cite>truediv</cite>).</p></td>\n",
    "</tr>\n",
    "<tr class=\"row-even\"><td><p><a class=\"reference internal\" href=\"pandas.DataFrame.truncate.html#pandas.DataFrame.truncate\" title=\"pandas.DataFrame.truncate\"><code class=\"xref py py-obj docutils literal notranslate\"><span class=\"pre\">truncate</span></code></a>([before,&nbsp;after,&nbsp;axis,&nbsp;copy])</p></td>\n",
    "<td><p>Truncate a Series or DataFrame before and after some index value.</p></td>\n",
    "</tr>\n",
    "<tr class=\"row-odd\"><td><p><a class=\"reference internal\" href=\"pandas.DataFrame.tshift.html#pandas.DataFrame.tshift\" title=\"pandas.DataFrame.tshift\"><code class=\"xref py py-obj docutils literal notranslate\"><span class=\"pre\">tshift</span></code></a>([periods,&nbsp;freq,&nbsp;axis])</p></td>\n",
    "<td><p>(DEPRECATED) Shift the time index, using the index's frequency if available.</p></td>\n",
    "</tr>\n",
    "<tr class=\"row-even\"><td><p><a class=\"reference internal\" href=\"pandas.DataFrame.tz_convert.html#pandas.DataFrame.tz_convert\" title=\"pandas.DataFrame.tz_convert\"><code class=\"xref py py-obj docutils literal notranslate\"><span class=\"pre\">tz_convert</span></code></a>(tz[,&nbsp;axis,&nbsp;level,&nbsp;copy])</p></td>\n",
    "<td><p>Convert tz-aware axis to target time zone.</p></td>\n",
    "</tr>\n",
    "<tr class=\"row-odd\"><td><p><a class=\"reference internal\" href=\"pandas.DataFrame.tz_localize.html#pandas.DataFrame.tz_localize\" title=\"pandas.DataFrame.tz_localize\"><code class=\"xref py py-obj docutils literal notranslate\"><span class=\"pre\">tz_localize</span></code></a>(tz[,&nbsp;axis,&nbsp;level,&nbsp;copy,&nbsp;...])</p></td>\n",
    "<td><p>Localize tz-naive index of a Series or DataFrame to target time zone.</p></td>\n",
    "</tr>\n",
    "<tr class=\"row-even\"><td><p><a class=\"reference internal\" href=\"pandas.DataFrame.unstack.html#pandas.DataFrame.unstack\" title=\"pandas.DataFrame.unstack\"><code class=\"xref py py-obj docutils literal notranslate\"><span class=\"pre\">unstack</span></code></a>([level,&nbsp;fill_value])</p></td>\n",
    "<td><p>Pivot a level of the (necessarily hierarchical) index labels.</p></td>\n",
    "</tr>\n",
    "<tr class=\"row-odd\"><td><p><a class=\"reference internal\" href=\"pandas.DataFrame.update.html#pandas.DataFrame.update\" title=\"pandas.DataFrame.update\"><code class=\"xref py py-obj docutils literal notranslate\"><span class=\"pre\">update</span></code></a>(other[,&nbsp;join,&nbsp;overwrite,&nbsp;...])</p></td>\n",
    "<td><p>Modify in place using non-NA values from another DataFrame.</p></td>\n",
    "</tr>\n",
    "<tr class=\"row-even\"><td><p><a class=\"reference internal\" href=\"pandas.DataFrame.value_counts.html#pandas.DataFrame.value_counts\" title=\"pandas.DataFrame.value_counts\"><code class=\"xref py py-obj docutils literal notranslate\"><span class=\"pre\">value_counts</span></code></a>([subset,&nbsp;normalize,&nbsp;sort,&nbsp;...])</p></td>\n",
    "<td><p>Return a Series containing counts of unique rows in the DataFrame.</p></td>\n",
    "</tr>\n",
    "<tr class=\"row-odd\"><td><p><a class=\"reference internal\" href=\"pandas.DataFrame.var.html#pandas.DataFrame.var\" title=\"pandas.DataFrame.var\"><code class=\"xref py py-obj docutils literal notranslate\"><span class=\"pre\">var</span></code></a>([axis,&nbsp;skipna,&nbsp;level,&nbsp;ddof,&nbsp;numeric_only])</p></td>\n",
    "<td><p>Return unbiased variance over requested axis.</p></td>\n",
    "</tr>\n",
    "<tr class=\"row-even\"><td><p><a class=\"reference internal\" href=\"pandas.DataFrame.where.html#pandas.DataFrame.where\" title=\"pandas.DataFrame.where\"><code class=\"xref py py-obj docutils literal notranslate\"><span class=\"pre\">where</span></code></a>(cond[,&nbsp;other,&nbsp;inplace,&nbsp;axis,&nbsp;level,&nbsp;...])</p></td>\n",
    "<td><p>Replace values where the condition is False.</p></td>\n",
    "</tr>\n",
    "<tr class=\"row-odd\"><td><p><a class=\"reference internal\" href=\"pandas.DataFrame.xs.html#pandas.DataFrame.xs\" title=\"pandas.DataFrame.xs\"><code class=\"xref py py-obj docutils literal notranslate\"><span class=\"pre\">xs</span></code></a>(key[,&nbsp;axis,&nbsp;level,&nbsp;drop_level])</p></td>\n",
    "<td><p>Return cross-section from the Series/DataFrame.</p></td>\n",
    "</tr>\n",
    "</tbody>\n",
    "</table>\n",
    "    </dd>"
   ]
  },
  {
   "cell_type": "markdown",
   "id": "5542ce0f",
   "metadata": {
    "papermill": {
     "duration": 0.033874,
     "end_time": "2022-09-24T18:53:08.983793",
     "exception": false,
     "start_time": "2022-09-24T18:53:08.949919",
     "status": "completed"
    },
    "tags": []
   },
   "source": [
    "##### Creating a Pandas DataFrame\n",
    "\n"
   ]
  },
  {
   "cell_type": "code",
   "execution_count": 58,
   "id": "f175504f",
   "metadata": {
    "execution": {
     "iopub.execute_input": "2022-09-24T18:53:09.055680Z",
     "iopub.status.busy": "2022-09-24T18:53:09.054890Z",
     "iopub.status.idle": "2022-09-24T18:53:09.061898Z",
     "shell.execute_reply": "2022-09-24T18:53:09.060744Z"
    },
    "papermill": {
     "duration": 0.045203,
     "end_time": "2022-09-24T18:53:09.064481",
     "exception": false,
     "start_time": "2022-09-24T18:53:09.019278",
     "status": "completed"
    },
    "tags": []
   },
   "outputs": [
    {
     "name": "stdout",
     "output_type": "stream",
     "text": [
      "Empty DataFrame\n",
      "Columns: []\n",
      "Index: []\n"
     ]
    }
   ],
   "source": [
    "# Creating Empty DataFrame:\n",
    "empty_df=pd.DataFrame()\n",
    "print(empty_df) #No data "
   ]
  },
  {
   "cell_type": "code",
   "execution_count": 59,
   "id": "fedfb58f",
   "metadata": {
    "execution": {
     "iopub.execute_input": "2022-09-24T18:53:09.136118Z",
     "iopub.status.busy": "2022-09-24T18:53:09.135188Z",
     "iopub.status.idle": "2022-09-24T18:53:09.143166Z",
     "shell.execute_reply": "2022-09-24T18:53:09.142012Z"
    },
    "papermill": {
     "duration": 0.046567,
     "end_time": "2022-09-24T18:53:09.145726",
     "exception": false,
     "start_time": "2022-09-24T18:53:09.099159",
     "status": "completed"
    },
    "tags": []
   },
   "outputs": [
    {
     "name": "stdout",
     "output_type": "stream",
     "text": [
      "We can Print by Using print():\n",
      "           0\n",
      "0     Bhawan\n",
      "1      Singh\n",
      "2    Solanki\n",
      "3   Learning\n",
      "4     Pandas\n",
      "5  DataFrame\n"
     ]
    }
   ],
   "source": [
    "# Creating by giving list:\n",
    "lst=[\"Bhawan\",\"Singh\",\"Solanki\",\"Learning\",\"Pandas\",\"DataFrame\"]\n",
    "df=pd.DataFrame(lst)\n",
    "print(\"We can Print by Using print():\")\n",
    "print(df)"
   ]
  },
  {
   "cell_type": "code",
   "execution_count": 60,
   "id": "7571eb0f",
   "metadata": {
    "execution": {
     "iopub.execute_input": "2022-09-24T18:53:09.216182Z",
     "iopub.status.busy": "2022-09-24T18:53:09.215778Z",
     "iopub.status.idle": "2022-09-24T18:53:09.225157Z",
     "shell.execute_reply": "2022-09-24T18:53:09.224040Z"
    },
    "papermill": {
     "duration": 0.047279,
     "end_time": "2022-09-24T18:53:09.227571",
     "exception": false,
     "start_time": "2022-09-24T18:53:09.180292",
     "status": "completed"
    },
    "tags": []
   },
   "outputs": [
    {
     "name": "stdout",
     "output_type": "stream",
     "text": [
      "We can direct like below:\n"
     ]
    },
    {
     "data": {
      "text/html": [
       "<div>\n",
       "<style scoped>\n",
       "    .dataframe tbody tr th:only-of-type {\n",
       "        vertical-align: middle;\n",
       "    }\n",
       "\n",
       "    .dataframe tbody tr th {\n",
       "        vertical-align: top;\n",
       "    }\n",
       "\n",
       "    .dataframe thead th {\n",
       "        text-align: right;\n",
       "    }\n",
       "</style>\n",
       "<table border=\"1\" class=\"dataframe\">\n",
       "  <thead>\n",
       "    <tr style=\"text-align: right;\">\n",
       "      <th></th>\n",
       "      <th>0</th>\n",
       "    </tr>\n",
       "  </thead>\n",
       "  <tbody>\n",
       "    <tr>\n",
       "      <th>0</th>\n",
       "      <td>Bhawan</td>\n",
       "    </tr>\n",
       "    <tr>\n",
       "      <th>1</th>\n",
       "      <td>Singh</td>\n",
       "    </tr>\n",
       "    <tr>\n",
       "      <th>2</th>\n",
       "      <td>Solanki</td>\n",
       "    </tr>\n",
       "    <tr>\n",
       "      <th>3</th>\n",
       "      <td>Learning</td>\n",
       "    </tr>\n",
       "    <tr>\n",
       "      <th>4</th>\n",
       "      <td>Pandas</td>\n",
       "    </tr>\n",
       "    <tr>\n",
       "      <th>5</th>\n",
       "      <td>DataFrame</td>\n",
       "    </tr>\n",
       "  </tbody>\n",
       "</table>\n",
       "</div>"
      ],
      "text/plain": [
       "           0\n",
       "0     Bhawan\n",
       "1      Singh\n",
       "2    Solanki\n",
       "3   Learning\n",
       "4     Pandas\n",
       "5  DataFrame"
      ]
     },
     "execution_count": 60,
     "metadata": {},
     "output_type": "execute_result"
    }
   ],
   "source": [
    "print(\"We can direct like below:\")\n",
    "df"
   ]
  },
  {
   "cell_type": "code",
   "execution_count": 61,
   "id": "cf42f141",
   "metadata": {
    "execution": {
     "iopub.execute_input": "2022-09-24T18:53:09.298756Z",
     "iopub.status.busy": "2022-09-24T18:53:09.298382Z",
     "iopub.status.idle": "2022-09-24T18:53:09.311229Z",
     "shell.execute_reply": "2022-09-24T18:53:09.309843Z"
    },
    "papermill": {
     "duration": 0.051922,
     "end_time": "2022-09-24T18:53:09.314205",
     "exception": false,
     "start_time": "2022-09-24T18:53:09.262283",
     "status": "completed"
    },
    "tags": []
   },
   "outputs": [
    {
     "name": "stdout",
     "output_type": "stream",
     "text": [
      "DataFrame with Multiple column:\n"
     ]
    },
    {
     "data": {
      "text/html": [
       "<div>\n",
       "<style scoped>\n",
       "    .dataframe tbody tr th:only-of-type {\n",
       "        vertical-align: middle;\n",
       "    }\n",
       "\n",
       "    .dataframe tbody tr th {\n",
       "        vertical-align: top;\n",
       "    }\n",
       "\n",
       "    .dataframe thead th {\n",
       "        text-align: right;\n",
       "    }\n",
       "</style>\n",
       "<table border=\"1\" class=\"dataframe\">\n",
       "  <thead>\n",
       "    <tr style=\"text-align: right;\">\n",
       "      <th></th>\n",
       "      <th>0</th>\n",
       "      <th>1</th>\n",
       "      <th>2</th>\n",
       "    </tr>\n",
       "  </thead>\n",
       "  <tbody>\n",
       "    <tr>\n",
       "      <th>0</th>\n",
       "      <td>1</td>\n",
       "      <td>2</td>\n",
       "      <td>3</td>\n",
       "    </tr>\n",
       "    <tr>\n",
       "      <th>1</th>\n",
       "      <td>4</td>\n",
       "      <td>5</td>\n",
       "      <td>6</td>\n",
       "    </tr>\n",
       "    <tr>\n",
       "      <th>2</th>\n",
       "      <td>7</td>\n",
       "      <td>8</td>\n",
       "      <td>9</td>\n",
       "    </tr>\n",
       "  </tbody>\n",
       "</table>\n",
       "</div>"
      ],
      "text/plain": [
       "   0  1  2\n",
       "0  1  2  3\n",
       "1  4  5  6\n",
       "2  7  8  9"
      ]
     },
     "execution_count": 61,
     "metadata": {},
     "output_type": "execute_result"
    }
   ],
   "source": [
    "#list with multiple columnn\n",
    "lst=[[1,2,3],[4,5,6],[7,8,9]]\n",
    "df1=pd.DataFrame(lst)\n",
    "print(\"DataFrame with Multiple column:\")\n",
    "df1"
   ]
  },
  {
   "cell_type": "code",
   "execution_count": 62,
   "id": "8be753dc",
   "metadata": {
    "execution": {
     "iopub.execute_input": "2022-09-24T18:53:09.386834Z",
     "iopub.status.busy": "2022-09-24T18:53:09.386470Z",
     "iopub.status.idle": "2022-09-24T18:53:09.399525Z",
     "shell.execute_reply": "2022-09-24T18:53:09.398051Z"
    },
    "papermill": {
     "duration": 0.052629,
     "end_time": "2022-09-24T18:53:09.402335",
     "exception": false,
     "start_time": "2022-09-24T18:53:09.349706",
     "status": "completed"
    },
    "tags": []
   },
   "outputs": [
    {
     "name": "stdout",
     "output_type": "stream",
     "text": [
      "DataFrame with Multiple column:\n"
     ]
    },
    {
     "data": {
      "text/html": [
       "<div>\n",
       "<style scoped>\n",
       "    .dataframe tbody tr th:only-of-type {\n",
       "        vertical-align: middle;\n",
       "    }\n",
       "\n",
       "    .dataframe tbody tr th {\n",
       "        vertical-align: top;\n",
       "    }\n",
       "\n",
       "    .dataframe thead th {\n",
       "        text-align: right;\n",
       "    }\n",
       "</style>\n",
       "<table border=\"1\" class=\"dataframe\">\n",
       "  <thead>\n",
       "    <tr style=\"text-align: right;\">\n",
       "      <th></th>\n",
       "      <th>0</th>\n",
       "      <th>1</th>\n",
       "      <th>2</th>\n",
       "      <th>3</th>\n",
       "    </tr>\n",
       "  </thead>\n",
       "  <tbody>\n",
       "    <tr>\n",
       "      <th>0</th>\n",
       "      <td>1</td>\n",
       "      <td>2</td>\n",
       "      <td>3</td>\n",
       "      <td>NaN</td>\n",
       "    </tr>\n",
       "    <tr>\n",
       "      <th>1</th>\n",
       "      <td>4</td>\n",
       "      <td>5</td>\n",
       "      <td>6</td>\n",
       "      <td>NaN</td>\n",
       "    </tr>\n",
       "    <tr>\n",
       "      <th>2</th>\n",
       "      <td>7</td>\n",
       "      <td>8</td>\n",
       "      <td>9</td>\n",
       "      <td>NaN</td>\n",
       "    </tr>\n",
       "    <tr>\n",
       "      <th>3</th>\n",
       "      <td>1</td>\n",
       "      <td>2</td>\n",
       "      <td>3</td>\n",
       "      <td>4.0</td>\n",
       "    </tr>\n",
       "  </tbody>\n",
       "</table>\n",
       "</div>"
      ],
      "text/plain": [
       "   0  1  2    3\n",
       "0  1  2  3  NaN\n",
       "1  4  5  6  NaN\n",
       "2  7  8  9  NaN\n",
       "3  1  2  3  4.0"
      ]
     },
     "execution_count": 62,
     "metadata": {},
     "output_type": "execute_result"
    }
   ],
   "source": [
    "#list with multiple columnn\n",
    "lst=[[1,2,3],[4,5,6],[7,8,9],[1,2,3,4]]\n",
    "df1=pd.DataFrame(lst)\n",
    "print(\"DataFrame with Multiple column:\")\n",
    "df1"
   ]
  },
  {
   "cell_type": "code",
   "execution_count": 63,
   "id": "182b9938",
   "metadata": {
    "execution": {
     "iopub.execute_input": "2022-09-24T18:53:09.474816Z",
     "iopub.status.busy": "2022-09-24T18:53:09.474108Z",
     "iopub.status.idle": "2022-09-24T18:53:09.489356Z",
     "shell.execute_reply": "2022-09-24T18:53:09.487693Z"
    },
    "papermill": {
     "duration": 0.053683,
     "end_time": "2022-09-24T18:53:09.491637",
     "exception": false,
     "start_time": "2022-09-24T18:53:09.437954",
     "status": "completed"
    },
    "tags": []
   },
   "outputs": [
    {
     "name": "stdout",
     "output_type": "stream",
     "text": [
      "DataFrame with Dictionalry:\n"
     ]
    },
    {
     "data": {
      "text/html": [
       "<div>\n",
       "<style scoped>\n",
       "    .dataframe tbody tr th:only-of-type {\n",
       "        vertical-align: middle;\n",
       "    }\n",
       "\n",
       "    .dataframe tbody tr th {\n",
       "        vertical-align: top;\n",
       "    }\n",
       "\n",
       "    .dataframe thead th {\n",
       "        text-align: right;\n",
       "    }\n",
       "</style>\n",
       "<table border=\"1\" class=\"dataframe\">\n",
       "  <thead>\n",
       "    <tr style=\"text-align: right;\">\n",
       "      <th></th>\n",
       "      <th>Test</th>\n",
       "      <th>Odi</th>\n",
       "      <th>T-20</th>\n",
       "    </tr>\n",
       "  </thead>\n",
       "  <tbody>\n",
       "    <tr>\n",
       "      <th>0</th>\n",
       "      <td>India</td>\n",
       "      <td>England</td>\n",
       "      <td>Pakistan</td>\n",
       "    </tr>\n",
       "    <tr>\n",
       "      <th>1</th>\n",
       "      <td>South Africa</td>\n",
       "      <td>India</td>\n",
       "      <td>India</td>\n",
       "    </tr>\n",
       "    <tr>\n",
       "      <th>2</th>\n",
       "      <td>England</td>\n",
       "      <td>New Zealand</td>\n",
       "      <td>Australia</td>\n",
       "    </tr>\n",
       "    <tr>\n",
       "      <th>3</th>\n",
       "      <td>New Zealand</td>\n",
       "      <td>South Africa</td>\n",
       "      <td>England</td>\n",
       "    </tr>\n",
       "    <tr>\n",
       "      <th>4</th>\n",
       "      <td>Australia</td>\n",
       "      <td>Pakistan</td>\n",
       "      <td>New Zealand</td>\n",
       "    </tr>\n",
       "  </tbody>\n",
       "</table>\n",
       "</div>"
      ],
      "text/plain": [
       "           Test           Odi         T-20\n",
       "0         India       England     Pakistan\n",
       "1  South Africa         India        India\n",
       "2       England   New Zealand    Australia\n",
       "3   New Zealand  South Africa      England\n",
       "4     Australia      Pakistan  New Zealand"
      ]
     },
     "execution_count": 63,
     "metadata": {},
     "output_type": "execute_result"
    }
   ],
   "source": [
    "#Creating DataFrame from dict of ndarray/lists:\n",
    "dic={'Test': ['India', 'South Africa', 'England',\n",
    "                            'New Zealand', 'Australia'],\n",
    "              'Odi': ['England', 'India', 'New Zealand',\n",
    "                            'South Africa', 'Pakistan'],\n",
    "               'T-20': ['Pakistan', 'India', 'Australia', \n",
    "                              'England', 'New Zealand']}\n",
    "print(\"DataFrame with Dictionalry:\")\n",
    "df2=pd.DataFrame(dic)\n",
    "df2"
   ]
  },
  {
   "cell_type": "code",
   "execution_count": 64,
   "id": "e7713277",
   "metadata": {
    "execution": {
     "iopub.execute_input": "2022-09-24T18:53:09.565421Z",
     "iopub.status.busy": "2022-09-24T18:53:09.565040Z",
     "iopub.status.idle": "2022-09-24T18:53:09.576171Z",
     "shell.execute_reply": "2022-09-24T18:53:09.575153Z"
    },
    "papermill": {
     "duration": 0.050118,
     "end_time": "2022-09-24T18:53:09.578414",
     "exception": false,
     "start_time": "2022-09-24T18:53:09.528296",
     "status": "completed"
    },
    "tags": []
   },
   "outputs": [
    {
     "data": {
      "text/html": [
       "<div>\n",
       "<style scoped>\n",
       "    .dataframe tbody tr th:only-of-type {\n",
       "        vertical-align: middle;\n",
       "    }\n",
       "\n",
       "    .dataframe tbody tr th {\n",
       "        vertical-align: top;\n",
       "    }\n",
       "\n",
       "    .dataframe thead th {\n",
       "        text-align: right;\n",
       "    }\n",
       "</style>\n",
       "<table border=\"1\" class=\"dataframe\">\n",
       "  <thead>\n",
       "    <tr style=\"text-align: right;\">\n",
       "      <th></th>\n",
       "      <th>Test</th>\n",
       "      <th>Odi</th>\n",
       "      <th>T-20</th>\n",
       "    </tr>\n",
       "  </thead>\n",
       "  <tbody>\n",
       "    <tr>\n",
       "      <th>1</th>\n",
       "      <td>India</td>\n",
       "      <td>England</td>\n",
       "      <td>Pakistan</td>\n",
       "    </tr>\n",
       "    <tr>\n",
       "      <th>2</th>\n",
       "      <td>South Africa</td>\n",
       "      <td>India</td>\n",
       "      <td>India</td>\n",
       "    </tr>\n",
       "    <tr>\n",
       "      <th>3</th>\n",
       "      <td>England</td>\n",
       "      <td>New Zealand</td>\n",
       "      <td>Australia</td>\n",
       "    </tr>\n",
       "    <tr>\n",
       "      <th>4</th>\n",
       "      <td>New Zealand</td>\n",
       "      <td>South Africa</td>\n",
       "      <td>England</td>\n",
       "    </tr>\n",
       "    <tr>\n",
       "      <th>5</th>\n",
       "      <td>Australia</td>\n",
       "      <td>Pakistan</td>\n",
       "      <td>New Zealand</td>\n",
       "    </tr>\n",
       "  </tbody>\n",
       "</table>\n",
       "</div>"
      ],
      "text/plain": [
       "           Test           Odi         T-20\n",
       "1         India       England     Pakistan\n",
       "2  South Africa         India        India\n",
       "3       England   New Zealand    Australia\n",
       "4   New Zealand  South Africa      England\n",
       "5     Australia      Pakistan  New Zealand"
      ]
     },
     "execution_count": 64,
     "metadata": {},
     "output_type": "execute_result"
    }
   ],
   "source": [
    "# Incrementing the index so that index starts at 1 (starts at 0 by default) \n",
    "df2.index += 1\n",
    "df2"
   ]
  },
  {
   "cell_type": "code",
   "execution_count": 65,
   "id": "0803166b",
   "metadata": {
    "execution": {
     "iopub.execute_input": "2022-09-24T18:53:09.652795Z",
     "iopub.status.busy": "2022-09-24T18:53:09.652416Z",
     "iopub.status.idle": "2022-09-24T18:53:09.665929Z",
     "shell.execute_reply": "2022-09-24T18:53:09.665123Z"
    },
    "papermill": {
     "duration": 0.053814,
     "end_time": "2022-09-24T18:53:09.668238",
     "exception": false,
     "start_time": "2022-09-24T18:53:09.614424",
     "status": "completed"
    },
    "tags": []
   },
   "outputs": [
    {
     "data": {
      "text/html": [
       "<div>\n",
       "<style scoped>\n",
       "    .dataframe tbody tr th:only-of-type {\n",
       "        vertical-align: middle;\n",
       "    }\n",
       "\n",
       "    .dataframe tbody tr th {\n",
       "        vertical-align: top;\n",
       "    }\n",
       "\n",
       "    .dataframe thead th {\n",
       "        text-align: right;\n",
       "    }\n",
       "</style>\n",
       "<table border=\"1\" class=\"dataframe\">\n",
       "  <thead>\n",
       "    <tr style=\"text-align: right;\">\n",
       "      <th></th>\n",
       "      <th>Test</th>\n",
       "      <th>ODI</th>\n",
       "      <th>T20</th>\n",
       "    </tr>\n",
       "  </thead>\n",
       "  <tbody>\n",
       "    <tr>\n",
       "      <th>1</th>\n",
       "      <td>Virat Kohli</td>\n",
       "      <td>Virat Kohli</td>\n",
       "      <td>Babar Azam</td>\n",
       "    </tr>\n",
       "    <tr>\n",
       "      <th>2</th>\n",
       "      <td>Steve Smith</td>\n",
       "      <td>Rohit Sharma</td>\n",
       "      <td>Aaron Finch</td>\n",
       "    </tr>\n",
       "    <tr>\n",
       "      <th>3</th>\n",
       "      <td>Kane Williamson</td>\n",
       "      <td>Joe Root</td>\n",
       "      <td>Colin Munro</td>\n",
       "    </tr>\n",
       "    <tr>\n",
       "      <th>4</th>\n",
       "      <td>Joe Root</td>\n",
       "      <td>David Warner</td>\n",
       "      <td>Lokesh Rahul</td>\n",
       "    </tr>\n",
       "    <tr>\n",
       "      <th>5</th>\n",
       "      <td>David Warner</td>\n",
       "      <td>Babar Azam</td>\n",
       "      <td>Fakhar Zaman</td>\n",
       "    </tr>\n",
       "  </tbody>\n",
       "</table>\n",
       "</div>"
      ],
      "text/plain": [
       "              Test           ODI           T20\n",
       "1      Virat Kohli   Virat Kohli    Babar Azam\n",
       "2      Steve Smith  Rohit Sharma   Aaron Finch\n",
       "3  Kane Williamson      Joe Root   Colin Munro\n",
       "4         Joe Root  David Warner  Lokesh Rahul\n",
       "5     David Warner    Babar Azam  Fakhar Zaman"
      ]
     },
     "execution_count": 65,
     "metadata": {},
     "output_type": "execute_result"
    }
   ],
   "source": [
    "# Lists of top 5 batsmen for each format\n",
    "test_batsmen = ['Virat Kohli', 'Steve Smith', 'Kane Williamson',\n",
    "                                     'Joe Root', 'David Warner']\n",
    "odi_batsmen = ['Virat Kohli', 'Rohit Sharma', 'Joe Root',\n",
    "                            'David Warner', 'Babar Azam']\n",
    "t20_batsmen = ['Babar Azam', 'Aaron Finch', 'Colin Munro',\n",
    "                           'Lokesh Rahul', 'Fakhar Zaman']\n",
    "\n",
    "# Define a dictionary containing ICC rankings for batsmen\n",
    "dic={'Test':test_batsmen,\n",
    "    'ODI':odi_batsmen,\n",
    "    'T20':t20_batsmen}\n",
    "\n",
    "# Convert the dictionary into DataFrame\n",
    "df2=pd.DataFrame(dic)\n",
    "df2.index+=1\n",
    "df2"
   ]
  },
  {
   "cell_type": "markdown",
   "id": "d3e49b53",
   "metadata": {
    "papermill": {
     "duration": 0.035954,
     "end_time": "2022-09-24T18:53:09.740546",
     "exception": false,
     "start_time": "2022-09-24T18:53:09.704592",
     "status": "completed"
    },
    "tags": []
   },
   "source": [
    "``` python\n",
    "dic={\"ID\":[1,2,3,4,5],\"Name\":[\"Bhawan\",\"Deena\",\"Bhavi\"]}\n",
    "df2=pd.DataFrame(dic)\n",
    "\n",
    "---------------------------------------------------------------------------\n",
    "ValueError                                Traceback (most recent call last)\n",
    "/tmp/ipykernel_17/3048458879.py in <module>\n",
    "      1 dic={\"ID\":[1,2,3,4,5],\"Name\":[\"Bhawan\",\"Deena\",\"Bhavi\"]}\n",
    "----> 2 df2=pd.DataFrame(dic)\n",
    "\n",
    "/opt/conda/lib/python3.7/site-packages/pandas/core/frame.py in __init__(self, data, index, columns, dtype, copy)\n",
    "    612         elif isinstance(data, dict):\n",
    "    613             # GH#38939 de facto copy defaults to False only in non-dict cases\n",
    "--> 614             mgr = dict_to_mgr(data, index, columns, dtype=dtype, copy=copy, typ=manager)\n",
    "    615         elif isinstance(data, ma.MaskedArray):\n",
    "    616             import numpy.ma.mrecords as mrecords\n",
    "\n",
    "/opt/conda/lib/python3.7/site-packages/pandas/core/internals/construction.py in dict_to_mgr(data, index, columns, dtype, typ, copy)\n",
    "    463 \n",
    "    464     return arrays_to_mgr(\n",
    "--> 465         arrays, data_names, index, columns, dtype=dtype, typ=typ, consolidate=copy\n",
    "    466     )\n",
    "    467 \n",
    "\n",
    "/opt/conda/lib/python3.7/site-packages/pandas/core/internals/construction.py in arrays_to_mgr(arrays, arr_names, index, columns, dtype, verify_integrity, typ, consolidate)\n",
    "    117         # figure out the index, if necessary\n",
    "    118         if index is None:\n",
    "--> 119             index = _extract_index(arrays)\n",
    "    120         else:\n",
    "    121             index = ensure_index(index)\n",
    "\n",
    "/opt/conda/lib/python3.7/site-packages/pandas/core/internals/construction.py in _extract_index(data)\n",
    "    633             lengths = list(set(raw_lengths))\n",
    "    634             if len(lengths) > 1:\n",
    "--> 635                 raise ValueError(\"All arrays must be of the same length\")\n",
    "    636 \n",
    "    637             if have_dicts:\n",
    "\n",
    "ValueError: All arrays must be of the same length\n",
    "```"
   ]
  },
  {
   "cell_type": "code",
   "execution_count": 66,
   "id": "84aee0da",
   "metadata": {
    "execution": {
     "iopub.execute_input": "2022-09-24T18:53:09.814377Z",
     "iopub.status.busy": "2022-09-24T18:53:09.813867Z",
     "iopub.status.idle": "2022-09-24T18:53:09.825874Z",
     "shell.execute_reply": "2022-09-24T18:53:09.824750Z"
    },
    "papermill": {
     "duration": 0.051763,
     "end_time": "2022-09-24T18:53:09.828420",
     "exception": false,
     "start_time": "2022-09-24T18:53:09.776657",
     "status": "completed"
    },
    "tags": []
   },
   "outputs": [
    {
     "data": {
      "text/html": [
       "<div>\n",
       "<style scoped>\n",
       "    .dataframe tbody tr th:only-of-type {\n",
       "        vertical-align: middle;\n",
       "    }\n",
       "\n",
       "    .dataframe tbody tr th {\n",
       "        vertical-align: top;\n",
       "    }\n",
       "\n",
       "    .dataframe thead th {\n",
       "        text-align: right;\n",
       "    }\n",
       "</style>\n",
       "<table border=\"1\" class=\"dataframe\">\n",
       "  <thead>\n",
       "    <tr style=\"text-align: right;\">\n",
       "      <th></th>\n",
       "      <th>ID</th>\n",
       "      <th>Name</th>\n",
       "    </tr>\n",
       "  </thead>\n",
       "  <tbody>\n",
       "    <tr>\n",
       "      <th>0</th>\n",
       "      <td>1</td>\n",
       "      <td>Bhawan</td>\n",
       "    </tr>\n",
       "    <tr>\n",
       "      <th>1</th>\n",
       "      <td>2</td>\n",
       "      <td>Deena</td>\n",
       "    </tr>\n",
       "    <tr>\n",
       "      <th>2</th>\n",
       "      <td>3</td>\n",
       "      <td>Bhavi</td>\n",
       "    </tr>\n",
       "    <tr>\n",
       "      <th>3</th>\n",
       "      <td>4</td>\n",
       "      <td>Gaurav</td>\n",
       "    </tr>\n",
       "    <tr>\n",
       "      <th>4</th>\n",
       "      <td>5</td>\n",
       "      <td>Birag</td>\n",
       "    </tr>\n",
       "  </tbody>\n",
       "</table>\n",
       "</div>"
      ],
      "text/plain": [
       "   ID    Name\n",
       "0   1  Bhawan\n",
       "1   2   Deena\n",
       "2   3   Bhavi\n",
       "3   4  Gaurav\n",
       "4   5   Birag"
      ]
     },
     "execution_count": 66,
     "metadata": {},
     "output_type": "execute_result"
    }
   ],
   "source": [
    "dic={\"ID\":[1,2,3,4,5],\"Name\":[\"Bhawan\",\"Deena\",\"Bhavi\",\"Gaurav\",\"Birag\"]}\n",
    "df2=pd.DataFrame(dic)\n",
    "df2"
   ]
  },
  {
   "cell_type": "code",
   "execution_count": 67,
   "id": "7b0d1b5c",
   "metadata": {
    "execution": {
     "iopub.execute_input": "2022-09-24T18:53:09.904012Z",
     "iopub.status.busy": "2022-09-24T18:53:09.903186Z",
     "iopub.status.idle": "2022-09-24T18:53:09.914407Z",
     "shell.execute_reply": "2022-09-24T18:53:09.913591Z"
    },
    "papermill": {
     "duration": 0.051199,
     "end_time": "2022-09-24T18:53:09.916391",
     "exception": false,
     "start_time": "2022-09-24T18:53:09.865192",
     "status": "completed"
    },
    "tags": []
   },
   "outputs": [
    {
     "data": {
      "text/html": [
       "<div>\n",
       "<style scoped>\n",
       "    .dataframe tbody tr th:only-of-type {\n",
       "        vertical-align: middle;\n",
       "    }\n",
       "\n",
       "    .dataframe tbody tr th {\n",
       "        vertical-align: top;\n",
       "    }\n",
       "\n",
       "    .dataframe thead th {\n",
       "        text-align: right;\n",
       "    }\n",
       "</style>\n",
       "<table border=\"1\" class=\"dataframe\">\n",
       "  <thead>\n",
       "    <tr style=\"text-align: right;\">\n",
       "      <th></th>\n",
       "      <th>a</th>\n",
       "      <th>b</th>\n",
       "      <th>c</th>\n",
       "    </tr>\n",
       "  </thead>\n",
       "  <tbody>\n",
       "    <tr>\n",
       "      <th>0</th>\n",
       "      <td>1</td>\n",
       "      <td>2</td>\n",
       "      <td>NaN</td>\n",
       "    </tr>\n",
       "    <tr>\n",
       "      <th>1</th>\n",
       "      <td>3</td>\n",
       "      <td>4</td>\n",
       "      <td>Bhawan</td>\n",
       "    </tr>\n",
       "  </tbody>\n",
       "</table>\n",
       "</div>"
      ],
      "text/plain": [
       "   a  b       c\n",
       "0  1  2     NaN\n",
       "1  3  4  Bhawan"
      ]
     },
     "execution_count": 67,
     "metadata": {},
     "output_type": "execute_result"
    }
   ],
   "source": [
    "# Creating with help of list of Dictionary:\n",
    "ls_dict = [{'a':1, 'b':2}, {'a':3, 'b':4,'c':\"Bhawan\"}]\n",
    "df2=pd.DataFrame(ls_dict)\n",
    "df2"
   ]
  },
  {
   "cell_type": "code",
   "execution_count": 68,
   "id": "bd247198",
   "metadata": {
    "execution": {
     "iopub.execute_input": "2022-09-24T18:53:09.991845Z",
     "iopub.status.busy": "2022-09-24T18:53:09.991469Z",
     "iopub.status.idle": "2022-09-24T18:53:10.005895Z",
     "shell.execute_reply": "2022-09-24T18:53:10.004788Z"
    },
    "papermill": {
     "duration": 0.054416,
     "end_time": "2022-09-24T18:53:10.008084",
     "exception": false,
     "start_time": "2022-09-24T18:53:09.953668",
     "status": "completed"
    },
    "tags": []
   },
   "outputs": [
    {
     "data": {
      "text/html": [
       "<div>\n",
       "<style scoped>\n",
       "    .dataframe tbody tr th:only-of-type {\n",
       "        vertical-align: middle;\n",
       "    }\n",
       "\n",
       "    .dataframe tbody tr th {\n",
       "        vertical-align: top;\n",
       "    }\n",
       "\n",
       "    .dataframe thead th {\n",
       "        text-align: right;\n",
       "    }\n",
       "</style>\n",
       "<table border=\"1\" class=\"dataframe\">\n",
       "  <thead>\n",
       "    <tr style=\"text-align: right;\">\n",
       "      <th></th>\n",
       "      <th>List1</th>\n",
       "      <th>DATA</th>\n",
       "      <th>List2</th>\n",
       "      <th>data</th>\n",
       "    </tr>\n",
       "  </thead>\n",
       "  <tbody>\n",
       "    <tr>\n",
       "      <th>0</th>\n",
       "      <td>[1, 2, 3, 4]</td>\n",
       "      <td>[Bhawan, Bhavi]</td>\n",
       "      <td>NaN</td>\n",
       "      <td>NaN</td>\n",
       "    </tr>\n",
       "    <tr>\n",
       "      <th>1</th>\n",
       "      <td>NaN</td>\n",
       "      <td>NaN</td>\n",
       "      <td>[list second, Second]</td>\n",
       "      <td>this is Data of list 2</td>\n",
       "    </tr>\n",
       "  </tbody>\n",
       "</table>\n",
       "</div>"
      ],
      "text/plain": [
       "          List1             DATA                  List2  \\\n",
       "0  [1, 2, 3, 4]  [Bhawan, Bhavi]                    NaN   \n",
       "1           NaN              NaN  [list second, Second]   \n",
       "\n",
       "                     data  \n",
       "0                     NaN  \n",
       "1  this is Data of list 2  "
      ]
     },
     "execution_count": 68,
     "metadata": {},
     "output_type": "execute_result"
    }
   ],
   "source": [
    "lst=[{\"List1\":[1,2,3,4],\"DATA\":[\"Bhawan\",\"Bhavi\"]},{\"List2\":[\"list second\",\"Second\"],\"data\":\"this is Data of list 2\"}]\n",
    "df2=pd.DataFrame(lst)\n",
    "df2"
   ]
  },
  {
   "cell_type": "markdown",
   "id": "ef6f20fc",
   "metadata": {
    "papermill": {
     "duration": 0.03623,
     "end_time": "2022-09-24T18:53:10.081115",
     "exception": false,
     "start_time": "2022-09-24T18:53:10.044885",
     "status": "completed"
    },
    "tags": []
   },
   "source": [
    "### Accessing Element from DataFrame :"
   ]
  },
  {
   "cell_type": "code",
   "execution_count": 69,
   "id": "a8242a7d",
   "metadata": {
    "execution": {
     "iopub.execute_input": "2022-09-24T18:53:10.156228Z",
     "iopub.status.busy": "2022-09-24T18:53:10.155243Z",
     "iopub.status.idle": "2022-09-24T18:53:10.168830Z",
     "shell.execute_reply": "2022-09-24T18:53:10.167807Z"
    },
    "papermill": {
     "duration": 0.05348,
     "end_time": "2022-09-24T18:53:10.170929",
     "exception": false,
     "start_time": "2022-09-24T18:53:10.117449",
     "status": "completed"
    },
    "tags": []
   },
   "outputs": [
    {
     "data": {
      "text/html": [
       "<div>\n",
       "<style scoped>\n",
       "    .dataframe tbody tr th:only-of-type {\n",
       "        vertical-align: middle;\n",
       "    }\n",
       "\n",
       "    .dataframe tbody tr th {\n",
       "        vertical-align: top;\n",
       "    }\n",
       "\n",
       "    .dataframe thead th {\n",
       "        text-align: right;\n",
       "    }\n",
       "</style>\n",
       "<table border=\"1\" class=\"dataframe\">\n",
       "  <thead>\n",
       "    <tr style=\"text-align: right;\">\n",
       "      <th></th>\n",
       "      <th>Name</th>\n",
       "      <th>Age</th>\n",
       "      <th>Address</th>\n",
       "      <th>Qualification</th>\n",
       "    </tr>\n",
       "  </thead>\n",
       "  <tbody>\n",
       "    <tr>\n",
       "      <th>0</th>\n",
       "      <td>Jai</td>\n",
       "      <td>27</td>\n",
       "      <td>Delhi</td>\n",
       "      <td>Msc</td>\n",
       "    </tr>\n",
       "    <tr>\n",
       "      <th>1</th>\n",
       "      <td>Princi</td>\n",
       "      <td>24</td>\n",
       "      <td>Kanpur</td>\n",
       "      <td>MA</td>\n",
       "    </tr>\n",
       "    <tr>\n",
       "      <th>2</th>\n",
       "      <td>Gaurav</td>\n",
       "      <td>22</td>\n",
       "      <td>Allahabad</td>\n",
       "      <td>MCA</td>\n",
       "    </tr>\n",
       "    <tr>\n",
       "      <th>3</th>\n",
       "      <td>Anuj</td>\n",
       "      <td>32</td>\n",
       "      <td>Kannauj</td>\n",
       "      <td>Phd</td>\n",
       "    </tr>\n",
       "  </tbody>\n",
       "</table>\n",
       "</div>"
      ],
      "text/plain": [
       "     Name  Age    Address Qualification\n",
       "0     Jai   27      Delhi           Msc\n",
       "1  Princi   24     Kanpur            MA\n",
       "2  Gaurav   22  Allahabad           MCA\n",
       "3    Anuj   32    Kannauj           Phd"
      ]
     },
     "execution_count": 69,
     "metadata": {},
     "output_type": "execute_result"
    }
   ],
   "source": [
    "data = {'Name':['Jai', 'Princi', 'Gaurav', 'Anuj'],\n",
    "        'Age':[27, 24, 22, 32],\n",
    "        'Address':['Delhi', 'Kanpur', 'Allahabad', 'Kannauj'],\n",
    "        'Qualification':['Msc', 'MA', 'MCA', 'Phd']}\n",
    "df=pd.DataFrame(data)\n",
    "df"
   ]
  },
  {
   "cell_type": "code",
   "execution_count": null,
   "id": "ed72f6ad",
   "metadata": {
    "papermill": {
     "duration": 0.100226,
     "end_time": "2022-09-24T18:53:10.307903",
     "exception": false,
     "start_time": "2022-09-24T18:53:10.207677",
     "status": "completed"
    },
    "tags": []
   },
   "outputs": [],
   "source": []
  },
  {
   "cell_type": "markdown",
   "id": "f87016b9",
   "metadata": {
    "papermill": {
     "duration": 0.036129,
     "end_time": "2022-09-24T18:53:10.380529",
     "exception": false,
     "start_time": "2022-09-24T18:53:10.344400",
     "status": "completed"
    },
    "tags": []
   },
   "source": [
    "#### Dealing with Rows and Columns:"
   ]
  },
  {
   "cell_type": "code",
   "execution_count": 70,
   "id": "febe2ebf",
   "metadata": {
    "execution": {
     "iopub.execute_input": "2022-09-24T18:53:10.455637Z",
     "iopub.status.busy": "2022-09-24T18:53:10.455270Z",
     "iopub.status.idle": "2022-09-24T18:53:10.468727Z",
     "shell.execute_reply": "2022-09-24T18:53:10.467531Z"
    },
    "papermill": {
     "duration": 0.053733,
     "end_time": "2022-09-24T18:53:10.470945",
     "exception": false,
     "start_time": "2022-09-24T18:53:10.417212",
     "status": "completed"
    },
    "tags": []
   },
   "outputs": [
    {
     "data": {
      "text/html": [
       "<div>\n",
       "<style scoped>\n",
       "    .dataframe tbody tr th:only-of-type {\n",
       "        vertical-align: middle;\n",
       "    }\n",
       "\n",
       "    .dataframe tbody tr th {\n",
       "        vertical-align: top;\n",
       "    }\n",
       "\n",
       "    .dataframe thead th {\n",
       "        text-align: right;\n",
       "    }\n",
       "</style>\n",
       "<table border=\"1\" class=\"dataframe\">\n",
       "  <thead>\n",
       "    <tr style=\"text-align: right;\">\n",
       "      <th></th>\n",
       "      <th>Name</th>\n",
       "      <th>Age</th>\n",
       "      <th>Address</th>\n",
       "      <th>Qualification</th>\n",
       "    </tr>\n",
       "  </thead>\n",
       "  <tbody>\n",
       "    <tr>\n",
       "      <th>0</th>\n",
       "      <td>Jai</td>\n",
       "      <td>27</td>\n",
       "      <td>Delhi</td>\n",
       "      <td>Msc</td>\n",
       "    </tr>\n",
       "    <tr>\n",
       "      <th>1</th>\n",
       "      <td>Princi</td>\n",
       "      <td>24</td>\n",
       "      <td>Kanpur</td>\n",
       "      <td>MA</td>\n",
       "    </tr>\n",
       "    <tr>\n",
       "      <th>2</th>\n",
       "      <td>Gaurav</td>\n",
       "      <td>22</td>\n",
       "      <td>Allahabad</td>\n",
       "      <td>MCA</td>\n",
       "    </tr>\n",
       "    <tr>\n",
       "      <th>3</th>\n",
       "      <td>Anuj</td>\n",
       "      <td>32</td>\n",
       "      <td>Kannauj</td>\n",
       "      <td>Phd</td>\n",
       "    </tr>\n",
       "  </tbody>\n",
       "</table>\n",
       "</div>"
      ],
      "text/plain": [
       "     Name  Age    Address Qualification\n",
       "0     Jai   27      Delhi           Msc\n",
       "1  Princi   24     Kanpur            MA\n",
       "2  Gaurav   22  Allahabad           MCA\n",
       "3    Anuj   32    Kannauj           Phd"
      ]
     },
     "execution_count": 70,
     "metadata": {},
     "output_type": "execute_result"
    }
   ],
   "source": [
    "data = {'Name':['Jai', 'Princi', 'Gaurav', 'Anuj'],\n",
    "        'Age':[27, 24, 22, 32],\n",
    "        'Address':['Delhi', 'Kanpur', 'Allahabad', 'Kannauj'],\n",
    "        'Qualification':['Msc', 'MA', 'MCA', 'Phd']}\n",
    "df=pd.DataFrame(data)\n",
    "df"
   ]
  },
  {
   "cell_type": "code",
   "execution_count": 71,
   "id": "40f318ae",
   "metadata": {
    "execution": {
     "iopub.execute_input": "2022-09-24T18:53:10.546638Z",
     "iopub.status.busy": "2022-09-24T18:53:10.545842Z",
     "iopub.status.idle": "2022-09-24T18:53:10.556657Z",
     "shell.execute_reply": "2022-09-24T18:53:10.555831Z"
    },
    "papermill": {
     "duration": 0.050702,
     "end_time": "2022-09-24T18:53:10.558640",
     "exception": false,
     "start_time": "2022-09-24T18:53:10.507938",
     "status": "completed"
    },
    "tags": []
   },
   "outputs": [
    {
     "data": {
      "text/html": [
       "<div>\n",
       "<style scoped>\n",
       "    .dataframe tbody tr th:only-of-type {\n",
       "        vertical-align: middle;\n",
       "    }\n",
       "\n",
       "    .dataframe tbody tr th {\n",
       "        vertical-align: top;\n",
       "    }\n",
       "\n",
       "    .dataframe thead th {\n",
       "        text-align: right;\n",
       "    }\n",
       "</style>\n",
       "<table border=\"1\" class=\"dataframe\">\n",
       "  <thead>\n",
       "    <tr style=\"text-align: right;\">\n",
       "      <th></th>\n",
       "      <th>Name</th>\n",
       "      <th>Age</th>\n",
       "    </tr>\n",
       "  </thead>\n",
       "  <tbody>\n",
       "    <tr>\n",
       "      <th>0</th>\n",
       "      <td>Jai</td>\n",
       "      <td>27</td>\n",
       "    </tr>\n",
       "    <tr>\n",
       "      <th>1</th>\n",
       "      <td>Princi</td>\n",
       "      <td>24</td>\n",
       "    </tr>\n",
       "    <tr>\n",
       "      <th>2</th>\n",
       "      <td>Gaurav</td>\n",
       "      <td>22</td>\n",
       "    </tr>\n",
       "    <tr>\n",
       "      <th>3</th>\n",
       "      <td>Anuj</td>\n",
       "      <td>32</td>\n",
       "    </tr>\n",
       "  </tbody>\n",
       "</table>\n",
       "</div>"
      ],
      "text/plain": [
       "     Name  Age\n",
       "0     Jai   27\n",
       "1  Princi   24\n",
       "2  Gaurav   22\n",
       "3    Anuj   32"
      ]
     },
     "execution_count": 71,
     "metadata": {},
     "output_type": "execute_result"
    }
   ],
   "source": [
    "#Selecting rows nad columns:\n",
    "df[[\"Name\",\"Age\"]]"
   ]
  },
  {
   "cell_type": "code",
   "execution_count": 72,
   "id": "2d43d570",
   "metadata": {
    "execution": {
     "iopub.execute_input": "2022-09-24T18:53:10.634542Z",
     "iopub.status.busy": "2022-09-24T18:53:10.634131Z",
     "iopub.status.idle": "2022-09-24T18:53:10.646515Z",
     "shell.execute_reply": "2022-09-24T18:53:10.645058Z"
    },
    "papermill": {
     "duration": 0.053118,
     "end_time": "2022-09-24T18:53:10.648862",
     "exception": false,
     "start_time": "2022-09-24T18:53:10.595744",
     "status": "completed"
    },
    "tags": []
   },
   "outputs": [
    {
     "data": {
      "text/html": [
       "<div>\n",
       "<style scoped>\n",
       "    .dataframe tbody tr th:only-of-type {\n",
       "        vertical-align: middle;\n",
       "    }\n",
       "\n",
       "    .dataframe tbody tr th {\n",
       "        vertical-align: top;\n",
       "    }\n",
       "\n",
       "    .dataframe thead th {\n",
       "        text-align: right;\n",
       "    }\n",
       "</style>\n",
       "<table border=\"1\" class=\"dataframe\">\n",
       "  <thead>\n",
       "    <tr style=\"text-align: right;\">\n",
       "      <th></th>\n",
       "      <th>Name</th>\n",
       "      <th>Address</th>\n",
       "    </tr>\n",
       "  </thead>\n",
       "  <tbody>\n",
       "    <tr>\n",
       "      <th>0</th>\n",
       "      <td>Jai</td>\n",
       "      <td>Delhi</td>\n",
       "    </tr>\n",
       "    <tr>\n",
       "      <th>1</th>\n",
       "      <td>Princi</td>\n",
       "      <td>Kanpur</td>\n",
       "    </tr>\n",
       "    <tr>\n",
       "      <th>2</th>\n",
       "      <td>Gaurav</td>\n",
       "      <td>Allahabad</td>\n",
       "    </tr>\n",
       "    <tr>\n",
       "      <th>3</th>\n",
       "      <td>Anuj</td>\n",
       "      <td>Kannauj</td>\n",
       "    </tr>\n",
       "  </tbody>\n",
       "</table>\n",
       "</div>"
      ],
      "text/plain": [
       "     Name    Address\n",
       "0     Jai      Delhi\n",
       "1  Princi     Kanpur\n",
       "2  Gaurav  Allahabad\n",
       "3    Anuj    Kannauj"
      ]
     },
     "execution_count": 72,
     "metadata": {},
     "output_type": "execute_result"
    }
   ],
   "source": [
    "df[[\"Name\",\"Address\"]]"
   ]
  },
  {
   "cell_type": "code",
   "execution_count": 73,
   "id": "33cc28b5",
   "metadata": {
    "execution": {
     "iopub.execute_input": "2022-09-24T18:53:10.725461Z",
     "iopub.status.busy": "2022-09-24T18:53:10.725062Z",
     "iopub.status.idle": "2022-09-24T18:53:10.742596Z",
     "shell.execute_reply": "2022-09-24T18:53:10.741653Z"
    },
    "papermill": {
     "duration": 0.05827,
     "end_time": "2022-09-24T18:53:10.744719",
     "exception": false,
     "start_time": "2022-09-24T18:53:10.686449",
     "status": "completed"
    },
    "tags": []
   },
   "outputs": [
    {
     "data": {
      "text/plain": [
       "Team        Utah Jazz\n",
       "Number            8.0\n",
       "Position           PG\n",
       "Age              26.0\n",
       "Height            6-3\n",
       "Weight          203.0\n",
       "College        Butler\n",
       "Salary      2433333.0\n",
       "Name: Shelvin Mack, dtype: object"
      ]
     },
     "execution_count": 73,
     "metadata": {},
     "output_type": "execute_result"
    }
   ],
   "source": [
    "data = pd.read_csv(\"/kaggle/input/nba-data/nba.csv\",index_col=\"Name\")  \n",
    "first = data.loc[\"Shelvin Mack\"]\n",
    "first"
   ]
  },
  {
   "cell_type": "code",
   "execution_count": 74,
   "id": "14462d66",
   "metadata": {
    "execution": {
     "iopub.execute_input": "2022-09-24T18:53:10.822128Z",
     "iopub.status.busy": "2022-09-24T18:53:10.821413Z",
     "iopub.status.idle": "2022-09-24T18:53:10.837344Z",
     "shell.execute_reply": "2022-09-24T18:53:10.836383Z"
    },
    "papermill": {
     "duration": 0.056685,
     "end_time": "2022-09-24T18:53:10.839379",
     "exception": false,
     "start_time": "2022-09-24T18:53:10.782694",
     "status": "completed"
    },
    "tags": []
   },
   "outputs": [
    {
     "data": {
      "text/html": [
       "<div>\n",
       "<style scoped>\n",
       "    .dataframe tbody tr th:only-of-type {\n",
       "        vertical-align: middle;\n",
       "    }\n",
       "\n",
       "    .dataframe tbody tr th {\n",
       "        vertical-align: top;\n",
       "    }\n",
       "\n",
       "    .dataframe thead th {\n",
       "        text-align: right;\n",
       "    }\n",
       "</style>\n",
       "<table border=\"1\" class=\"dataframe\">\n",
       "  <thead>\n",
       "    <tr style=\"text-align: right;\">\n",
       "      <th></th>\n",
       "      <th>Team</th>\n",
       "      <th>Number</th>\n",
       "      <th>Position</th>\n",
       "      <th>Age</th>\n",
       "      <th>Height</th>\n",
       "      <th>Weight</th>\n",
       "      <th>College</th>\n",
       "      <th>Salary</th>\n",
       "    </tr>\n",
       "    <tr>\n",
       "      <th>Name</th>\n",
       "      <th></th>\n",
       "      <th></th>\n",
       "      <th></th>\n",
       "      <th></th>\n",
       "      <th></th>\n",
       "      <th></th>\n",
       "      <th></th>\n",
       "      <th></th>\n",
       "    </tr>\n",
       "  </thead>\n",
       "  <tbody>\n",
       "    <tr>\n",
       "      <th>Avery Bradley</th>\n",
       "      <td>Boston Celtics</td>\n",
       "      <td>0.0</td>\n",
       "      <td>PG</td>\n",
       "      <td>25.0</td>\n",
       "      <td>6-2</td>\n",
       "      <td>180.0</td>\n",
       "      <td>Texas</td>\n",
       "      <td>7730337.0</td>\n",
       "    </tr>\n",
       "    <tr>\n",
       "      <th>Jae Crowder</th>\n",
       "      <td>Boston Celtics</td>\n",
       "      <td>99.0</td>\n",
       "      <td>SF</td>\n",
       "      <td>25.0</td>\n",
       "      <td>6-6</td>\n",
       "      <td>235.0</td>\n",
       "      <td>Marquette</td>\n",
       "      <td>6796117.0</td>\n",
       "    </tr>\n",
       "    <tr>\n",
       "      <th>John Holland</th>\n",
       "      <td>Boston Celtics</td>\n",
       "      <td>30.0</td>\n",
       "      <td>SG</td>\n",
       "      <td>27.0</td>\n",
       "      <td>6-5</td>\n",
       "      <td>205.0</td>\n",
       "      <td>Boston University</td>\n",
       "      <td>NaN</td>\n",
       "    </tr>\n",
       "    <tr>\n",
       "      <th>R.J. Hunter</th>\n",
       "      <td>Boston Celtics</td>\n",
       "      <td>28.0</td>\n",
       "      <td>SG</td>\n",
       "      <td>22.0</td>\n",
       "      <td>6-5</td>\n",
       "      <td>185.0</td>\n",
       "      <td>Georgia State</td>\n",
       "      <td>1148640.0</td>\n",
       "    </tr>\n",
       "    <tr>\n",
       "      <th>Jonas Jerebko</th>\n",
       "      <td>Boston Celtics</td>\n",
       "      <td>8.0</td>\n",
       "      <td>PF</td>\n",
       "      <td>29.0</td>\n",
       "      <td>6-10</td>\n",
       "      <td>231.0</td>\n",
       "      <td>NaN</td>\n",
       "      <td>5000000.0</td>\n",
       "    </tr>\n",
       "  </tbody>\n",
       "</table>\n",
       "</div>"
      ],
      "text/plain": [
       "                         Team  Number Position   Age Height  Weight  \\\n",
       "Name                                                                  \n",
       "Avery Bradley  Boston Celtics     0.0       PG  25.0    6-2   180.0   \n",
       "Jae Crowder    Boston Celtics    99.0       SF  25.0    6-6   235.0   \n",
       "John Holland   Boston Celtics    30.0       SG  27.0    6-5   205.0   \n",
       "R.J. Hunter    Boston Celtics    28.0       SG  22.0    6-5   185.0   \n",
       "Jonas Jerebko  Boston Celtics     8.0       PF  29.0   6-10   231.0   \n",
       "\n",
       "                         College     Salary  \n",
       "Name                                         \n",
       "Avery Bradley              Texas  7730337.0  \n",
       "Jae Crowder            Marquette  6796117.0  \n",
       "John Holland   Boston University        NaN  \n",
       "R.J. Hunter        Georgia State  1148640.0  \n",
       "Jonas Jerebko                NaN  5000000.0  "
      ]
     },
     "execution_count": 74,
     "metadata": {},
     "output_type": "execute_result"
    }
   ],
   "source": [
    "df=pd.DataFrame(data)\n",
    "df.head()"
   ]
  },
  {
   "cell_type": "markdown",
   "id": "bb18eb4c",
   "metadata": {
    "papermill": {
     "duration": 0.037338,
     "end_time": "2022-09-24T18:53:10.914554",
     "exception": false,
     "start_time": "2022-09-24T18:53:10.877216",
     "status": "completed"
    },
    "tags": []
   },
   "source": [
    "#### Indexing and Selecting Data:"
   ]
  },
  {
   "cell_type": "code",
   "execution_count": 75,
   "id": "ac410370",
   "metadata": {
    "execution": {
     "iopub.execute_input": "2022-09-24T18:53:10.992584Z",
     "iopub.status.busy": "2022-09-24T18:53:10.991878Z",
     "iopub.status.idle": "2022-09-24T18:53:11.000306Z",
     "shell.execute_reply": "2022-09-24T18:53:10.999389Z"
    },
    "papermill": {
     "duration": 0.050543,
     "end_time": "2022-09-24T18:53:11.002688",
     "exception": false,
     "start_time": "2022-09-24T18:53:10.952145",
     "status": "completed"
    },
    "tags": []
   },
   "outputs": [
    {
     "data": {
      "text/plain": [
       "Name\n",
       "Avery Bradley    25.0\n",
       "Jae Crowder      25.0\n",
       "John Holland     27.0\n",
       "R.J. Hunter      22.0\n",
       "Jonas Jerebko    29.0\n",
       "                 ... \n",
       "Shelvin Mack     26.0\n",
       "Raul Neto        24.0\n",
       "Tibor Pleiss     26.0\n",
       "Jeff Withey      26.0\n",
       "NaN               NaN\n",
       "Name: Age, Length: 458, dtype: float64"
      ]
     },
     "execution_count": 75,
     "metadata": {},
     "output_type": "execute_result"
    }
   ],
   "source": [
    "df[\"Age\"]"
   ]
  },
  {
   "cell_type": "markdown",
   "id": "c0eccda0",
   "metadata": {
    "papermill": {
     "duration": 0.037514,
     "end_time": "2022-09-24T18:53:11.078811",
     "exception": false,
     "start_time": "2022-09-24T18:53:11.041297",
     "status": "completed"
    },
    "tags": []
   },
   "source": [
    "# Indexing and selecting data In DataFrame:\n",
    "- The axis labeling information in pandas objects serves many purposes:\n",
    "\n",
    "    - Identifies data (i.e. provides metadata) using known indicators, important for analysis, visualization, and interactive console display.\n",
    "    - Enables automatic and explicit data alignment.\n",
    "    - Allows intuitive getting and setting of subsets of the data set.\n",
    "\n",
    "### Basics:\n",
    "- As mentioned when introducing the data structures in the last section, the primary function of indexing with **[]** (a.k.a. __ **getitem** __ for those familiar with implementing class behavior in Python) is selecting out lower-dimensional slices. The following table shows return type values when indexing pandas objects with **[]:**\n",
    "\n",
    "<table class=\"colwidths-given table\">\n",
    "<colgroup>\n",
    "<col style=\"width: 25%\">\n",
    "<col style=\"width: 25%\">\n",
    "<col style=\"width: 50%\">\n",
    "</colgroup>\n",
    "<thead>\n",
    "<tr class=\"row-odd\"><th class=\"head\"><p>Object Type</p></th>\n",
    "<th class=\"head\"><p>Selection</p></th>\n",
    "<th class=\"head\"><p>Return Value Type</p></th>\n",
    "</tr>\n",
    "</thead>\n",
    "<tbody>\n",
    "<tr class=\"row-even\"><td><p>Series</p></td>\n",
    "<td><p><code class=\"docutils literal notranslate\"><span class=\"pre\">series[label]</span></code></p></td>\n",
    "<td><p>scalar value</p></td>\n",
    "</tr>\n",
    "<tr class=\"row-odd\"><td><p>DataFrame</p></td>\n",
    "<td><p><code class=\"docutils literal notranslate\"><span class=\"pre\">frame[colname]</span></code></p></td>\n",
    "<td><p><code class=\"docutils literal notranslate\"><span class=\"pre\">Series</span></code> corresponding to colname</p></td>\n",
    "</tr>\n",
    "</tbody>\n",
    "</table>"
   ]
  },
  {
   "cell_type": "code",
   "execution_count": 76,
   "id": "3ae286a1",
   "metadata": {
    "execution": {
     "iopub.execute_input": "2022-09-24T18:53:11.157180Z",
     "iopub.status.busy": "2022-09-24T18:53:11.156739Z",
     "iopub.status.idle": "2022-09-24T18:53:11.177135Z",
     "shell.execute_reply": "2022-09-24T18:53:11.175792Z"
    },
    "papermill": {
     "duration": 0.063492,
     "end_time": "2022-09-24T18:53:11.180154",
     "exception": false,
     "start_time": "2022-09-24T18:53:11.116662",
     "status": "completed"
    },
    "tags": []
   },
   "outputs": [
    {
     "name": "stdout",
     "output_type": "stream",
     "text": [
      "DatetimeIndex(['2000-01-01', '2000-01-02', '2000-01-03', '2000-01-04',\n",
      "               '2000-01-05', '2000-01-06', '2000-01-07', '2000-01-08'],\n",
      "              dtype='datetime64[ns]', freq='D') \n",
      "\n"
     ]
    },
    {
     "data": {
      "text/html": [
       "<div>\n",
       "<style scoped>\n",
       "    .dataframe tbody tr th:only-of-type {\n",
       "        vertical-align: middle;\n",
       "    }\n",
       "\n",
       "    .dataframe tbody tr th {\n",
       "        vertical-align: top;\n",
       "    }\n",
       "\n",
       "    .dataframe thead th {\n",
       "        text-align: right;\n",
       "    }\n",
       "</style>\n",
       "<table border=\"1\" class=\"dataframe\">\n",
       "  <thead>\n",
       "    <tr style=\"text-align: right;\">\n",
       "      <th></th>\n",
       "      <th>A</th>\n",
       "      <th>B</th>\n",
       "      <th>C</th>\n",
       "      <th>D</th>\n",
       "    </tr>\n",
       "  </thead>\n",
       "  <tbody>\n",
       "    <tr>\n",
       "      <th>2000-01-01</th>\n",
       "      <td>0.654970</td>\n",
       "      <td>-0.742747</td>\n",
       "      <td>-1.423438</td>\n",
       "      <td>-1.270914</td>\n",
       "    </tr>\n",
       "    <tr>\n",
       "      <th>2000-01-02</th>\n",
       "      <td>2.030694</td>\n",
       "      <td>-0.651788</td>\n",
       "      <td>-1.307838</td>\n",
       "      <td>1.077340</td>\n",
       "    </tr>\n",
       "    <tr>\n",
       "      <th>2000-01-03</th>\n",
       "      <td>1.163630</td>\n",
       "      <td>0.666752</td>\n",
       "      <td>0.228342</td>\n",
       "      <td>-1.732433</td>\n",
       "    </tr>\n",
       "    <tr>\n",
       "      <th>2000-01-04</th>\n",
       "      <td>-0.913907</td>\n",
       "      <td>-0.246921</td>\n",
       "      <td>-0.854483</td>\n",
       "      <td>2.044545</td>\n",
       "    </tr>\n",
       "    <tr>\n",
       "      <th>2000-01-05</th>\n",
       "      <td>-0.960541</td>\n",
       "      <td>-1.713421</td>\n",
       "      <td>-1.041099</td>\n",
       "      <td>-0.352670</td>\n",
       "    </tr>\n",
       "    <tr>\n",
       "      <th>2000-01-06</th>\n",
       "      <td>0.619902</td>\n",
       "      <td>-0.594014</td>\n",
       "      <td>1.299084</td>\n",
       "      <td>-0.776939</td>\n",
       "    </tr>\n",
       "    <tr>\n",
       "      <th>2000-01-07</th>\n",
       "      <td>1.560470</td>\n",
       "      <td>-0.950712</td>\n",
       "      <td>-1.008239</td>\n",
       "      <td>-0.177276</td>\n",
       "    </tr>\n",
       "    <tr>\n",
       "      <th>2000-01-08</th>\n",
       "      <td>-0.334981</td>\n",
       "      <td>0.405256</td>\n",
       "      <td>-0.522762</td>\n",
       "      <td>0.256734</td>\n",
       "    </tr>\n",
       "  </tbody>\n",
       "</table>\n",
       "</div>"
      ],
      "text/plain": [
       "                   A         B         C         D\n",
       "2000-01-01  0.654970 -0.742747 -1.423438 -1.270914\n",
       "2000-01-02  2.030694 -0.651788 -1.307838  1.077340\n",
       "2000-01-03  1.163630  0.666752  0.228342 -1.732433\n",
       "2000-01-04 -0.913907 -0.246921 -0.854483  2.044545\n",
       "2000-01-05 -0.960541 -1.713421 -1.041099 -0.352670\n",
       "2000-01-06  0.619902 -0.594014  1.299084 -0.776939\n",
       "2000-01-07  1.560470 -0.950712 -1.008239 -0.177276\n",
       "2000-01-08 -0.334981  0.405256 -0.522762  0.256734"
      ]
     },
     "execution_count": 76,
     "metadata": {},
     "output_type": "execute_result"
    }
   ],
   "source": [
    "dates = pd.date_range('1/1/2000', periods=8) #Creating Index As Date\n",
    "print(dates,\"\\n\")\n",
    "\n",
    "df = pd.DataFrame(np.random.randn(8, 4),index=dates, columns=['A', 'B', 'C', 'D']) #Creating  DataFrame\n",
    "df"
   ]
  },
  {
   "cell_type": "code",
   "execution_count": 77,
   "id": "b239d295",
   "metadata": {
    "execution": {
     "iopub.execute_input": "2022-09-24T18:53:11.258595Z",
     "iopub.status.busy": "2022-09-24T18:53:11.258109Z",
     "iopub.status.idle": "2022-09-24T18:53:11.264912Z",
     "shell.execute_reply": "2022-09-24T18:53:11.263752Z"
    },
    "papermill": {
     "duration": 0.049226,
     "end_time": "2022-09-24T18:53:11.267837",
     "exception": false,
     "start_time": "2022-09-24T18:53:11.218611",
     "status": "completed"
    },
    "tags": []
   },
   "outputs": [
    {
     "name": "stdout",
     "output_type": "stream",
     "text": [
      "Value of Dates:\n",
      "\n",
      " DatetimeIndex(['2000-01-01', '2000-01-02', '2000-01-03', '2000-01-04',\n",
      "               '2000-01-05', '2000-01-06', '2000-01-07', '2000-01-08'],\n",
      "              dtype='datetime64[ns]', freq='D')\n",
      "\n",
      "Type of dates:  <class 'pandas.core.indexes.datetimes.DatetimeIndex'>\n"
     ]
    }
   ],
   "source": [
    "print(\"Value of Dates:\\n\\n\",dates)\n",
    "print(\"\\nType of dates: \",type(dates))"
   ]
  },
  {
   "cell_type": "code",
   "execution_count": 78,
   "id": "9416ef12",
   "metadata": {
    "execution": {
     "iopub.execute_input": "2022-09-24T18:53:11.348302Z",
     "iopub.status.busy": "2022-09-24T18:53:11.347635Z",
     "iopub.status.idle": "2022-09-24T18:53:11.354031Z",
     "shell.execute_reply": "2022-09-24T18:53:11.352678Z"
    },
    "papermill": {
     "duration": 0.048617,
     "end_time": "2022-09-24T18:53:11.356279",
     "exception": false,
     "start_time": "2022-09-24T18:53:11.307662",
     "status": "completed"
    },
    "tags": []
   },
   "outputs": [
    {
     "name": "stdout",
     "output_type": "stream",
     "text": [
      "Value at DataFrame['A'] Series Index 4: -0.960540854534194\n",
      "Data Type of Value: <class 'numpy.float64'>\n"
     ]
    }
   ],
   "source": [
    "#Indexing data by Series Index(0,1,2,3,4,5,.........like that)\n",
    "\n",
    "s=df[\"A\"]  #Assigning DataFrame Value(A Series) to s.\n",
    "print(\"Value at DataFrame['A'] Series Index 4:\",s[4])\n",
    "print(\"Data Type of Value:\",type(s[4]))"
   ]
  },
  {
   "cell_type": "code",
   "execution_count": 79,
   "id": "f810f4c3",
   "metadata": {
    "execution": {
     "iopub.execute_input": "2022-09-24T18:53:11.435109Z",
     "iopub.status.busy": "2022-09-24T18:53:11.434697Z",
     "iopub.status.idle": "2022-09-24T18:53:11.443032Z",
     "shell.execute_reply": "2022-09-24T18:53:11.441695Z"
    },
    "papermill": {
     "duration": 0.050728,
     "end_time": "2022-09-24T18:53:11.445466",
     "exception": false,
     "start_time": "2022-09-24T18:53:11.394738",
     "status": "completed"
    },
    "tags": []
   },
   "outputs": [
    {
     "name": "stdout",
     "output_type": "stream",
     "text": [
      "Value at dates[4] index: -0.960540854534194\n",
      "Data Type of Value: <class 'numpy.float64'>\n"
     ]
    }
   ],
   "source": [
    "print(\"Value at dates[4] index:\",s[dates[4]]) #We are direct giving Index\n",
    "print(\"Data Type of Value:\",type(s[dates[5]]))"
   ]
  },
  {
   "cell_type": "code",
   "execution_count": 80,
   "id": "005a6a79",
   "metadata": {
    "execution": {
     "iopub.execute_input": "2022-09-24T18:53:11.525467Z",
     "iopub.status.busy": "2022-09-24T18:53:11.524808Z",
     "iopub.status.idle": "2022-09-24T18:53:11.538518Z",
     "shell.execute_reply": "2022-09-24T18:53:11.537221Z"
    },
    "papermill": {
     "duration": 0.056268,
     "end_time": "2022-09-24T18:53:11.541476",
     "exception": false,
     "start_time": "2022-09-24T18:53:11.485208",
     "status": "completed"
    },
    "tags": []
   },
   "outputs": [
    {
     "name": "stdout",
     "output_type": "stream",
     "text": [
      "Before Changing: \n",
      "                    A         B\n",
      "2000-01-01  0.654970 -0.742747\n",
      "2000-01-02  2.030694 -0.651788\n",
      "2000-01-03  1.163630  0.666752\n",
      "2000-01-04 -0.913907 -0.246921\n",
      "2000-01-05 -0.960541 -1.713421\n",
      "2000-01-06  0.619902 -0.594014\n",
      "2000-01-07  1.560470 -0.950712\n",
      "2000-01-08 -0.334981  0.405256\n",
      "\n",
      "After Changing:\n",
      "                    A         B\n",
      "2000-01-01 -0.742747  0.654970\n",
      "2000-01-02 -0.651788  2.030694\n",
      "2000-01-03  0.666752  1.163630\n",
      "2000-01-04 -0.246921 -0.913907\n",
      "2000-01-05 -1.713421 -0.960541\n",
      "2000-01-06 -0.594014  0.619902\n",
      "2000-01-07 -0.950712  1.560470\n",
      "2000-01-08  0.405256 -0.334981\n"
     ]
    }
   ],
   "source": [
    "print(\"Before Changing: \\n\",df[['A','B']])\n",
    "df[['B', 'A']] = df[['A', 'B']]   #Changing Column value \n",
    "print(\"\\nAfter Changing:\\n\",df[['A','B']])"
   ]
  },
  {
   "cell_type": "markdown",
   "id": "e96f05f0",
   "metadata": {
    "papermill": {
     "duration": 0.037957,
     "end_time": "2022-09-24T18:53:11.618218",
     "exception": false,
     "start_time": "2022-09-24T18:53:11.580261",
     "status": "completed"
    },
    "tags": []
   },
   "source": [
    "> <h2>⚠️Warning</h2>\n",
    "\n",
    "> - **pandas aligns all AXES when setting Series and DataFrame from .loc, and .iloc.**\n",
    "> - **This will not modify df because the column alignment is before value assignment.**"
   ]
  },
  {
   "cell_type": "code",
   "execution_count": 81,
   "id": "9382e9b3",
   "metadata": {
    "execution": {
     "iopub.execute_input": "2022-09-24T18:53:11.697796Z",
     "iopub.status.busy": "2022-09-24T18:53:11.696650Z",
     "iopub.status.idle": "2022-09-24T18:53:11.713660Z",
     "shell.execute_reply": "2022-09-24T18:53:11.712495Z"
    },
    "papermill": {
     "duration": 0.05911,
     "end_time": "2022-09-24T18:53:11.715969",
     "exception": false,
     "start_time": "2022-09-24T18:53:11.656859",
     "status": "completed"
    },
    "tags": []
   },
   "outputs": [
    {
     "name": "stdout",
     "output_type": "stream",
     "text": [
      "Before Changing: \n",
      "                    A         B\n",
      "2000-01-01 -0.742747  0.654970\n",
      "2000-01-02 -0.651788  2.030694\n",
      "2000-01-03  0.666752  1.163630\n",
      "2000-01-04 -0.246921 -0.913907\n",
      "2000-01-05 -1.713421 -0.960541\n",
      "2000-01-06 -0.594014  0.619902\n",
      "2000-01-07 -0.950712  1.560470\n",
      "2000-01-08  0.405256 -0.334981\n",
      "\n",
      "After Changing:\n",
      "                    A         B\n",
      "2000-01-01 -0.742747  0.654970\n",
      "2000-01-02 -0.651788  2.030694\n",
      "2000-01-03  0.666752  1.163630\n",
      "2000-01-04 -0.246921 -0.913907\n",
      "2000-01-05 -1.713421 -0.960541\n",
      "2000-01-06 -0.594014  0.619902\n",
      "2000-01-07 -0.950712  1.560470\n",
      "2000-01-08  0.405256 -0.334981\n"
     ]
    }
   ],
   "source": [
    "print(\"Before Changing: \\n\",df[['A','B']])\n",
    "df.loc[:, ['B', 'A']] = df[['A', 'B']]         #Not Changing Value \n",
    "print(\"\\nAfter Changing:\\n\",df[['A','B']])"
   ]
  },
  {
   "cell_type": "code",
   "execution_count": 82,
   "id": "36a6b242",
   "metadata": {
    "execution": {
     "iopub.execute_input": "2022-09-24T18:53:11.794876Z",
     "iopub.status.busy": "2022-09-24T18:53:11.794312Z",
     "iopub.status.idle": "2022-09-24T18:53:11.807285Z",
     "shell.execute_reply": "2022-09-24T18:53:11.805564Z"
    },
    "papermill": {
     "duration": 0.05616,
     "end_time": "2022-09-24T18:53:11.810837",
     "exception": false,
     "start_time": "2022-09-24T18:53:11.754677",
     "status": "completed"
    },
    "tags": []
   },
   "outputs": [
    {
     "name": "stdout",
     "output_type": "stream",
     "text": [
      "\n",
      "After Changing:\n",
      "                    A         B\n",
      "2000-01-01  0.654970 -0.742747\n",
      "2000-01-02  2.030694 -0.651788\n",
      "2000-01-03  1.163630  0.666752\n",
      "2000-01-04 -0.913907 -0.246921\n",
      "2000-01-05 -0.960541 -1.713421\n",
      "2000-01-06  0.619902 -0.594014\n",
      "2000-01-07  1.560470 -0.950712\n",
      "2000-01-08 -0.334981  0.405256\n"
     ]
    }
   ],
   "source": [
    "df.loc[:, ['B', 'A']] = df[['A', 'B']].to_numpy()\n",
    "print(\"\\nAfter Changing:\\n\",df[['A','B']])"
   ]
  },
  {
   "cell_type": "markdown",
   "id": "f84d4562",
   "metadata": {
    "papermill": {
     "duration": 0.039225,
     "end_time": "2022-09-24T18:53:11.890276",
     "exception": false,
     "start_time": "2022-09-24T18:53:11.851051",
     "status": "completed"
    },
    "tags": []
   },
   "source": [
    "### Attribute access:"
   ]
  },
  {
   "cell_type": "code",
   "execution_count": 83,
   "id": "90d3510e",
   "metadata": {
    "execution": {
     "iopub.execute_input": "2022-09-24T18:53:11.971119Z",
     "iopub.status.busy": "2022-09-24T18:53:11.970170Z",
     "iopub.status.idle": "2022-09-24T18:53:11.978781Z",
     "shell.execute_reply": "2022-09-24T18:53:11.977891Z"
    },
    "papermill": {
     "duration": 0.051384,
     "end_time": "2022-09-24T18:53:11.980731",
     "exception": false,
     "start_time": "2022-09-24T18:53:11.929347",
     "status": "completed"
    },
    "tags": []
   },
   "outputs": [
    {
     "data": {
      "text/plain": [
       "a    1\n",
       "b    2\n",
       "c    3\n",
       "dtype: int64"
      ]
     },
     "execution_count": 83,
     "metadata": {},
     "output_type": "execute_result"
    }
   ],
   "source": [
    "sa = pd.Series([1, 2, 3], index=list('abc'))  # Creating SA Series \n",
    "sa"
   ]
  },
  {
   "cell_type": "code",
   "execution_count": 84,
   "id": "38b3ea4b",
   "metadata": {
    "execution": {
     "iopub.execute_input": "2022-09-24T18:53:12.060785Z",
     "iopub.status.busy": "2022-09-24T18:53:12.060208Z",
     "iopub.status.idle": "2022-09-24T18:53:12.075073Z",
     "shell.execute_reply": "2022-09-24T18:53:12.073874Z"
    },
    "papermill": {
     "duration": 0.057673,
     "end_time": "2022-09-24T18:53:12.077367",
     "exception": false,
     "start_time": "2022-09-24T18:53:12.019694",
     "status": "completed"
    },
    "tags": []
   },
   "outputs": [
    {
     "name": "stdout",
     "output_type": "stream",
     "text": [
      "DataFrame dfa:\n",
      "\n"
     ]
    },
    {
     "data": {
      "text/html": [
       "<div>\n",
       "<style scoped>\n",
       "    .dataframe tbody tr th:only-of-type {\n",
       "        vertical-align: middle;\n",
       "    }\n",
       "\n",
       "    .dataframe tbody tr th {\n",
       "        vertical-align: top;\n",
       "    }\n",
       "\n",
       "    .dataframe thead th {\n",
       "        text-align: right;\n",
       "    }\n",
       "</style>\n",
       "<table border=\"1\" class=\"dataframe\">\n",
       "  <thead>\n",
       "    <tr style=\"text-align: right;\">\n",
       "      <th></th>\n",
       "      <th>A</th>\n",
       "      <th>B</th>\n",
       "      <th>C</th>\n",
       "      <th>D</th>\n",
       "    </tr>\n",
       "  </thead>\n",
       "  <tbody>\n",
       "    <tr>\n",
       "      <th>2000-01-01</th>\n",
       "      <td>0.654970</td>\n",
       "      <td>-0.742747</td>\n",
       "      <td>-1.423438</td>\n",
       "      <td>-1.270914</td>\n",
       "    </tr>\n",
       "    <tr>\n",
       "      <th>2000-01-02</th>\n",
       "      <td>2.030694</td>\n",
       "      <td>-0.651788</td>\n",
       "      <td>-1.307838</td>\n",
       "      <td>1.077340</td>\n",
       "    </tr>\n",
       "    <tr>\n",
       "      <th>2000-01-03</th>\n",
       "      <td>1.163630</td>\n",
       "      <td>0.666752</td>\n",
       "      <td>0.228342</td>\n",
       "      <td>-1.732433</td>\n",
       "    </tr>\n",
       "    <tr>\n",
       "      <th>2000-01-04</th>\n",
       "      <td>-0.913907</td>\n",
       "      <td>-0.246921</td>\n",
       "      <td>-0.854483</td>\n",
       "      <td>2.044545</td>\n",
       "    </tr>\n",
       "    <tr>\n",
       "      <th>2000-01-05</th>\n",
       "      <td>-0.960541</td>\n",
       "      <td>-1.713421</td>\n",
       "      <td>-1.041099</td>\n",
       "      <td>-0.352670</td>\n",
       "    </tr>\n",
       "    <tr>\n",
       "      <th>2000-01-06</th>\n",
       "      <td>0.619902</td>\n",
       "      <td>-0.594014</td>\n",
       "      <td>1.299084</td>\n",
       "      <td>-0.776939</td>\n",
       "    </tr>\n",
       "    <tr>\n",
       "      <th>2000-01-07</th>\n",
       "      <td>1.560470</td>\n",
       "      <td>-0.950712</td>\n",
       "      <td>-1.008239</td>\n",
       "      <td>-0.177276</td>\n",
       "    </tr>\n",
       "    <tr>\n",
       "      <th>2000-01-08</th>\n",
       "      <td>-0.334981</td>\n",
       "      <td>0.405256</td>\n",
       "      <td>-0.522762</td>\n",
       "      <td>0.256734</td>\n",
       "    </tr>\n",
       "  </tbody>\n",
       "</table>\n",
       "</div>"
      ],
      "text/plain": [
       "                   A         B         C         D\n",
       "2000-01-01  0.654970 -0.742747 -1.423438 -1.270914\n",
       "2000-01-02  2.030694 -0.651788 -1.307838  1.077340\n",
       "2000-01-03  1.163630  0.666752  0.228342 -1.732433\n",
       "2000-01-04 -0.913907 -0.246921 -0.854483  2.044545\n",
       "2000-01-05 -0.960541 -1.713421 -1.041099 -0.352670\n",
       "2000-01-06  0.619902 -0.594014  1.299084 -0.776939\n",
       "2000-01-07  1.560470 -0.950712 -1.008239 -0.177276\n",
       "2000-01-08 -0.334981  0.405256 -0.522762  0.256734"
      ]
     },
     "execution_count": 84,
     "metadata": {},
     "output_type": "execute_result"
    }
   ],
   "source": [
    "print(\"DataFrame dfa:\\n\")\n",
    "dfa = df.copy() #Making Copy of df in dfa\n",
    "dfa"
   ]
  },
  {
   "cell_type": "code",
   "execution_count": 85,
   "id": "606964e0",
   "metadata": {
    "execution": {
     "iopub.execute_input": "2022-09-24T18:53:12.166596Z",
     "iopub.status.busy": "2022-09-24T18:53:12.165779Z",
     "iopub.status.idle": "2022-09-24T18:53:12.174544Z",
     "shell.execute_reply": "2022-09-24T18:53:12.173500Z"
    },
    "papermill": {
     "duration": 0.053755,
     "end_time": "2022-09-24T18:53:12.176567",
     "exception": false,
     "start_time": "2022-09-24T18:53:12.122812",
     "status": "completed"
    },
    "tags": []
   },
   "outputs": [
    {
     "data": {
      "text/plain": [
       "2000-01-01    0.654970\n",
       "2000-01-02    2.030694\n",
       "2000-01-03    1.163630\n",
       "2000-01-04   -0.913907\n",
       "2000-01-05   -0.960541\n",
       "2000-01-06    0.619902\n",
       "2000-01-07    1.560470\n",
       "2000-01-08   -0.334981\n",
       "Freq: D, Name: A, dtype: float64"
      ]
     },
     "execution_count": 85,
     "metadata": {},
     "output_type": "execute_result"
    }
   ],
   "source": [
    "dfa.A   #accesing as a attribute "
   ]
  },
  {
   "cell_type": "code",
   "execution_count": 86,
   "id": "641eb5cd",
   "metadata": {
    "execution": {
     "iopub.execute_input": "2022-09-24T18:53:12.256699Z",
     "iopub.status.busy": "2022-09-24T18:53:12.256267Z",
     "iopub.status.idle": "2022-09-24T18:53:12.263703Z",
     "shell.execute_reply": "2022-09-24T18:53:12.262441Z"
    },
    "papermill": {
     "duration": 0.050325,
     "end_time": "2022-09-24T18:53:12.265964",
     "exception": false,
     "start_time": "2022-09-24T18:53:12.215639",
     "status": "completed"
    },
    "tags": []
   },
   "outputs": [
    {
     "data": {
      "text/plain": [
       "DatetimeIndex(['2000-01-01', '2000-01-02', '2000-01-03', '2000-01-04',\n",
       "               '2000-01-05', '2000-01-06', '2000-01-07', '2000-01-08'],\n",
       "              dtype='datetime64[ns]', freq='D')"
      ]
     },
     "execution_count": 86,
     "metadata": {},
     "output_type": "execute_result"
    }
   ],
   "source": [
    "dfa.index # index of dfa DataFrame"
   ]
  },
  {
   "cell_type": "code",
   "execution_count": 87,
   "id": "08605855",
   "metadata": {
    "execution": {
     "iopub.execute_input": "2022-09-24T18:53:12.345723Z",
     "iopub.status.busy": "2022-09-24T18:53:12.345304Z",
     "iopub.status.idle": "2022-09-24T18:53:12.358657Z",
     "shell.execute_reply": "2022-09-24T18:53:12.357654Z"
    },
    "papermill": {
     "duration": 0.056442,
     "end_time": "2022-09-24T18:53:12.361193",
     "exception": false,
     "start_time": "2022-09-24T18:53:12.304751",
     "status": "completed"
    },
    "tags": []
   },
   "outputs": [
    {
     "data": {
      "text/html": [
       "<div>\n",
       "<style scoped>\n",
       "    .dataframe tbody tr th:only-of-type {\n",
       "        vertical-align: middle;\n",
       "    }\n",
       "\n",
       "    .dataframe tbody tr th {\n",
       "        vertical-align: top;\n",
       "    }\n",
       "\n",
       "    .dataframe thead th {\n",
       "        text-align: right;\n",
       "    }\n",
       "</style>\n",
       "<table border=\"1\" class=\"dataframe\">\n",
       "  <thead>\n",
       "    <tr style=\"text-align: right;\">\n",
       "      <th></th>\n",
       "      <th>A</th>\n",
       "      <th>B</th>\n",
       "      <th>C</th>\n",
       "      <th>D</th>\n",
       "    </tr>\n",
       "  </thead>\n",
       "  <tbody>\n",
       "    <tr>\n",
       "      <th>2000-01-01</th>\n",
       "      <td>0</td>\n",
       "      <td>-0.742747</td>\n",
       "      <td>-1.423438</td>\n",
       "      <td>-1.270914</td>\n",
       "    </tr>\n",
       "    <tr>\n",
       "      <th>2000-01-02</th>\n",
       "      <td>1</td>\n",
       "      <td>-0.651788</td>\n",
       "      <td>-1.307838</td>\n",
       "      <td>1.077340</td>\n",
       "    </tr>\n",
       "    <tr>\n",
       "      <th>2000-01-03</th>\n",
       "      <td>2</td>\n",
       "      <td>0.666752</td>\n",
       "      <td>0.228342</td>\n",
       "      <td>-1.732433</td>\n",
       "    </tr>\n",
       "    <tr>\n",
       "      <th>2000-01-04</th>\n",
       "      <td>3</td>\n",
       "      <td>-0.246921</td>\n",
       "      <td>-0.854483</td>\n",
       "      <td>2.044545</td>\n",
       "    </tr>\n",
       "    <tr>\n",
       "      <th>2000-01-05</th>\n",
       "      <td>4</td>\n",
       "      <td>-1.713421</td>\n",
       "      <td>-1.041099</td>\n",
       "      <td>-0.352670</td>\n",
       "    </tr>\n",
       "    <tr>\n",
       "      <th>2000-01-06</th>\n",
       "      <td>5</td>\n",
       "      <td>-0.594014</td>\n",
       "      <td>1.299084</td>\n",
       "      <td>-0.776939</td>\n",
       "    </tr>\n",
       "    <tr>\n",
       "      <th>2000-01-07</th>\n",
       "      <td>6</td>\n",
       "      <td>-0.950712</td>\n",
       "      <td>-1.008239</td>\n",
       "      <td>-0.177276</td>\n",
       "    </tr>\n",
       "    <tr>\n",
       "      <th>2000-01-08</th>\n",
       "      <td>7</td>\n",
       "      <td>0.405256</td>\n",
       "      <td>-0.522762</td>\n",
       "      <td>0.256734</td>\n",
       "    </tr>\n",
       "  </tbody>\n",
       "</table>\n",
       "</div>"
      ],
      "text/plain": [
       "            A         B         C         D\n",
       "2000-01-01  0 -0.742747 -1.423438 -1.270914\n",
       "2000-01-02  1 -0.651788 -1.307838  1.077340\n",
       "2000-01-03  2  0.666752  0.228342 -1.732433\n",
       "2000-01-04  3 -0.246921 -0.854483  2.044545\n",
       "2000-01-05  4 -1.713421 -1.041099 -0.352670\n",
       "2000-01-06  5 -0.594014  1.299084 -0.776939\n",
       "2000-01-07  6 -0.950712 -1.008239 -0.177276\n",
       "2000-01-08  7  0.405256 -0.522762  0.256734"
      ]
     },
     "execution_count": 87,
     "metadata": {},
     "output_type": "execute_result"
    }
   ],
   "source": [
    "# Changing Value of by attribute Access\n",
    "dfa.A=list(range(len(dfa.index)))           ## ok if A already exists else refer below warning\n",
    "dfa"
   ]
  },
  {
   "cell_type": "markdown",
   "id": "099fee57",
   "metadata": {
    "papermill": {
     "duration": 0.038963,
     "end_time": "2022-09-24T18:53:12.439086",
     "exception": false,
     "start_time": "2022-09-24T18:53:12.400123",
     "status": "completed"
    },
    "tags": []
   },
   "source": [
    "``` python\n",
    "dfa.E=list(range(len(dfa.index)))\n",
    "\n",
    "/opt/conda/lib/python3.7/site-packages/ipykernel_launcher.py:1: UserWarning: Pandas doesn't allow columns to be created via a new attribute name - see https://pandas.pydata.org/pandas-docs/stable/indexing.html#attribute-access\n",
    "  \"\"\"Entry point for launching an IPython kernel.\n"
   ]
  },
  {
   "cell_type": "code",
   "execution_count": 88,
   "id": "e0f8af6c",
   "metadata": {
    "execution": {
     "iopub.execute_input": "2022-09-24T18:53:12.519101Z",
     "iopub.status.busy": "2022-09-24T18:53:12.518694Z",
     "iopub.status.idle": "2022-09-24T18:53:12.534829Z",
     "shell.execute_reply": "2022-09-24T18:53:12.533752Z"
    },
    "papermill": {
     "duration": 0.058738,
     "end_time": "2022-09-24T18:53:12.537221",
     "exception": false,
     "start_time": "2022-09-24T18:53:12.478483",
     "status": "completed"
    },
    "tags": []
   },
   "outputs": [
    {
     "data": {
      "text/html": [
       "<div>\n",
       "<style scoped>\n",
       "    .dataframe tbody tr th:only-of-type {\n",
       "        vertical-align: middle;\n",
       "    }\n",
       "\n",
       "    .dataframe tbody tr th {\n",
       "        vertical-align: top;\n",
       "    }\n",
       "\n",
       "    .dataframe thead th {\n",
       "        text-align: right;\n",
       "    }\n",
       "</style>\n",
       "<table border=\"1\" class=\"dataframe\">\n",
       "  <thead>\n",
       "    <tr style=\"text-align: right;\">\n",
       "      <th></th>\n",
       "      <th>A</th>\n",
       "      <th>B</th>\n",
       "      <th>C</th>\n",
       "      <th>D</th>\n",
       "      <th>E</th>\n",
       "    </tr>\n",
       "  </thead>\n",
       "  <tbody>\n",
       "    <tr>\n",
       "      <th>2000-01-01</th>\n",
       "      <td>0</td>\n",
       "      <td>-0.742747</td>\n",
       "      <td>-1.423438</td>\n",
       "      <td>-1.270914</td>\n",
       "      <td>0</td>\n",
       "    </tr>\n",
       "    <tr>\n",
       "      <th>2000-01-02</th>\n",
       "      <td>1</td>\n",
       "      <td>-0.651788</td>\n",
       "      <td>-1.307838</td>\n",
       "      <td>1.077340</td>\n",
       "      <td>1</td>\n",
       "    </tr>\n",
       "    <tr>\n",
       "      <th>2000-01-03</th>\n",
       "      <td>2</td>\n",
       "      <td>0.666752</td>\n",
       "      <td>0.228342</td>\n",
       "      <td>-1.732433</td>\n",
       "      <td>2</td>\n",
       "    </tr>\n",
       "    <tr>\n",
       "      <th>2000-01-04</th>\n",
       "      <td>3</td>\n",
       "      <td>-0.246921</td>\n",
       "      <td>-0.854483</td>\n",
       "      <td>2.044545</td>\n",
       "      <td>3</td>\n",
       "    </tr>\n",
       "    <tr>\n",
       "      <th>2000-01-05</th>\n",
       "      <td>4</td>\n",
       "      <td>-1.713421</td>\n",
       "      <td>-1.041099</td>\n",
       "      <td>-0.352670</td>\n",
       "      <td>4</td>\n",
       "    </tr>\n",
       "    <tr>\n",
       "      <th>2000-01-06</th>\n",
       "      <td>5</td>\n",
       "      <td>-0.594014</td>\n",
       "      <td>1.299084</td>\n",
       "      <td>-0.776939</td>\n",
       "      <td>5</td>\n",
       "    </tr>\n",
       "    <tr>\n",
       "      <th>2000-01-07</th>\n",
       "      <td>6</td>\n",
       "      <td>-0.950712</td>\n",
       "      <td>-1.008239</td>\n",
       "      <td>-0.177276</td>\n",
       "      <td>6</td>\n",
       "    </tr>\n",
       "    <tr>\n",
       "      <th>2000-01-08</th>\n",
       "      <td>7</td>\n",
       "      <td>0.405256</td>\n",
       "      <td>-0.522762</td>\n",
       "      <td>0.256734</td>\n",
       "      <td>7</td>\n",
       "    </tr>\n",
       "  </tbody>\n",
       "</table>\n",
       "</div>"
      ],
      "text/plain": [
       "            A         B         C         D  E\n",
       "2000-01-01  0 -0.742747 -1.423438 -1.270914  0\n",
       "2000-01-02  1 -0.651788 -1.307838  1.077340  1\n",
       "2000-01-03  2  0.666752  0.228342 -1.732433  2\n",
       "2000-01-04  3 -0.246921 -0.854483  2.044545  3\n",
       "2000-01-05  4 -1.713421 -1.041099 -0.352670  4\n",
       "2000-01-06  5 -0.594014  1.299084 -0.776939  5\n",
       "2000-01-07  6 -0.950712 -1.008239 -0.177276  6\n",
       "2000-01-08  7  0.405256 -0.522762  0.256734  7"
      ]
     },
     "execution_count": 88,
     "metadata": {},
     "output_type": "execute_result"
    }
   ],
   "source": [
    "dfa[\"E\"]=list(range(len(dfa.index)))\n",
    "dfa"
   ]
  },
  {
   "cell_type": "markdown",
   "id": "88398cfa",
   "metadata": {
    "papermill": {
     "duration": 0.039269,
     "end_time": "2022-09-24T18:53:12.616127",
     "exception": false,
     "start_time": "2022-09-24T18:53:12.576858",
     "status": "completed"
    },
    "tags": []
   },
   "source": [
    ">  ## ⚠️Warning\n",
    "\n",
    "> - #### You can use this access only if the index element is a valid Python identifier, e.g. s.1 is not allowed. See here for an explanation of valid identifiers.\n",
    "> - #### The attribute will not be available if it conflicts with an existing method name, e.g. s.min is not allowed, but s['min'] is possible.\n",
    "> - #### Similarly, the attribute will not be available if it conflicts with any of the following list: index, major_axis, minor_axis, items.\n",
    "> - #### In any of these cases, standard indexing will still work, e.g. s['1'], s['min'], and s['index'] will access the corresponding element or column."
   ]
  },
  {
   "cell_type": "code",
   "execution_count": 89,
   "id": "f046fc43",
   "metadata": {
    "execution": {
     "iopub.execute_input": "2022-09-24T18:53:12.697243Z",
     "iopub.status.busy": "2022-09-24T18:53:12.696403Z",
     "iopub.status.idle": "2022-09-24T18:53:12.708563Z",
     "shell.execute_reply": "2022-09-24T18:53:12.707253Z"
    },
    "papermill": {
     "duration": 0.054905,
     "end_time": "2022-09-24T18:53:12.710804",
     "exception": false,
     "start_time": "2022-09-24T18:53:12.655899",
     "status": "completed"
    },
    "tags": []
   },
   "outputs": [
    {
     "name": "stdout",
     "output_type": "stream",
     "text": [
      "Before Assignment:\n",
      "\n"
     ]
    },
    {
     "data": {
      "text/html": [
       "<div>\n",
       "<style scoped>\n",
       "    .dataframe tbody tr th:only-of-type {\n",
       "        vertical-align: middle;\n",
       "    }\n",
       "\n",
       "    .dataframe tbody tr th {\n",
       "        vertical-align: top;\n",
       "    }\n",
       "\n",
       "    .dataframe thead th {\n",
       "        text-align: right;\n",
       "    }\n",
       "</style>\n",
       "<table border=\"1\" class=\"dataframe\">\n",
       "  <thead>\n",
       "    <tr style=\"text-align: right;\">\n",
       "      <th></th>\n",
       "      <th>x</th>\n",
       "      <th>y</th>\n",
       "    </tr>\n",
       "  </thead>\n",
       "  <tbody>\n",
       "    <tr>\n",
       "      <th>0</th>\n",
       "      <td>1</td>\n",
       "      <td>3</td>\n",
       "    </tr>\n",
       "    <tr>\n",
       "      <th>1</th>\n",
       "      <td>2</td>\n",
       "      <td>4</td>\n",
       "    </tr>\n",
       "    <tr>\n",
       "      <th>2</th>\n",
       "      <td>3</td>\n",
       "      <td>5</td>\n",
       "    </tr>\n",
       "  </tbody>\n",
       "</table>\n",
       "</div>"
      ],
      "text/plain": [
       "   x  y\n",
       "0  1  3\n",
       "1  2  4\n",
       "2  3  5"
      ]
     },
     "execution_count": 89,
     "metadata": {},
     "output_type": "execute_result"
    }
   ],
   "source": [
    "# You can also assign a dict to a row of a DataFrame:\n",
    "x = pd.DataFrame({'x': [1, 2, 3], 'y': [3, 4, 5]})\n",
    "print(\"Before Assignment:\\n\")\n",
    "x"
   ]
  },
  {
   "cell_type": "code",
   "execution_count": 90,
   "id": "b708776f",
   "metadata": {
    "execution": {
     "iopub.execute_input": "2022-09-24T18:53:12.792361Z",
     "iopub.status.busy": "2022-09-24T18:53:12.791931Z",
     "iopub.status.idle": "2022-09-24T18:53:12.803912Z",
     "shell.execute_reply": "2022-09-24T18:53:12.802329Z"
    },
    "papermill": {
     "duration": 0.055261,
     "end_time": "2022-09-24T18:53:12.806132",
     "exception": false,
     "start_time": "2022-09-24T18:53:12.750871",
     "status": "completed"
    },
    "tags": []
   },
   "outputs": [
    {
     "name": "stdout",
     "output_type": "stream",
     "text": [
      "\n",
      "After Assignment:\n",
      "\n"
     ]
    },
    {
     "data": {
      "text/html": [
       "<div>\n",
       "<style scoped>\n",
       "    .dataframe tbody tr th:only-of-type {\n",
       "        vertical-align: middle;\n",
       "    }\n",
       "\n",
       "    .dataframe tbody tr th {\n",
       "        vertical-align: top;\n",
       "    }\n",
       "\n",
       "    .dataframe thead th {\n",
       "        text-align: right;\n",
       "    }\n",
       "</style>\n",
       "<table border=\"1\" class=\"dataframe\">\n",
       "  <thead>\n",
       "    <tr style=\"text-align: right;\">\n",
       "      <th></th>\n",
       "      <th>x</th>\n",
       "      <th>y</th>\n",
       "    </tr>\n",
       "  </thead>\n",
       "  <tbody>\n",
       "    <tr>\n",
       "      <th>0</th>\n",
       "      <td>1</td>\n",
       "      <td>3</td>\n",
       "    </tr>\n",
       "    <tr>\n",
       "      <th>1</th>\n",
       "      <td>9</td>\n",
       "      <td>99</td>\n",
       "    </tr>\n",
       "    <tr>\n",
       "      <th>2</th>\n",
       "      <td>3</td>\n",
       "      <td>5</td>\n",
       "    </tr>\n",
       "  </tbody>\n",
       "</table>\n",
       "</div>"
      ],
      "text/plain": [
       "   x   y\n",
       "0  1   3\n",
       "1  9  99\n",
       "2  3   5"
      ]
     },
     "execution_count": 90,
     "metadata": {},
     "output_type": "execute_result"
    }
   ],
   "source": [
    "x.iloc[1] = {'x': 9, 'y': 99}\n",
    "print(\"\\nAfter Assignment:\\n\")\n",
    "x"
   ]
  },
  {
   "cell_type": "markdown",
   "id": "965be42c",
   "metadata": {
    "papermill": {
     "duration": 0.039694,
     "end_time": "2022-09-24T18:53:12.885835",
     "exception": false,
     "start_time": "2022-09-24T18:53:12.846141",
     "status": "completed"
    },
    "tags": []
   },
   "source": [
    "### Slicing ranges in DataFrame:"
   ]
  },
  {
   "cell_type": "code",
   "execution_count": null,
   "id": "062dcd24",
   "metadata": {
    "papermill": {
     "duration": 0.040381,
     "end_time": "2022-09-24T18:53:12.966975",
     "exception": false,
     "start_time": "2022-09-24T18:53:12.926594",
     "status": "completed"
    },
    "tags": []
   },
   "outputs": [],
   "source": []
  }
 ],
 "metadata": {
  "kernelspec": {
   "display_name": "Python 3",
   "language": "python",
   "name": "python3"
  },
  "language_info": {
   "codemirror_mode": {
    "name": "ipython",
    "version": 3
   },
   "file_extension": ".py",
   "mimetype": "text/x-python",
   "name": "python",
   "nbconvert_exporter": "python",
   "pygments_lexer": "ipython3",
   "version": "3.7.12"
  },
  "papermill": {
   "default_parameters": {},
   "duration": 20.195586,
   "end_time": "2022-09-24T18:53:13.628590",
   "environment_variables": {},
   "exception": null,
   "input_path": "__notebook__.ipynb",
   "output_path": "__notebook__.ipynb",
   "parameters": {},
   "start_time": "2022-09-24T18:52:53.433004",
   "version": "2.3.4"
  }
 },
 "nbformat": 4,
 "nbformat_minor": 5
}
