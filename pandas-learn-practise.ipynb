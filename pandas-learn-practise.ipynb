{
 "cells": [
  {
   "cell_type": "code",
   "execution_count": 1,
   "id": "69cc8137",
   "metadata": {
    "_cell_guid": "b1076dfc-b9ad-4769-8c92-a6c4dae69d19",
    "_uuid": "8f2839f25d086af736a60e9eeb907d3b93b6e0e5",
    "execution": {
     "iopub.execute_input": "2022-09-26T13:10:57.326245Z",
     "iopub.status.busy": "2022-09-26T13:10:57.325742Z",
     "iopub.status.idle": "2022-09-26T13:10:57.345184Z",
     "shell.execute_reply": "2022-09-26T13:10:57.343790Z"
    },
    "papermill": {
     "duration": 0.078027,
     "end_time": "2022-09-26T13:10:57.347276",
     "exception": false,
     "start_time": "2022-09-26T13:10:57.269249",
     "status": "completed"
    },
    "tags": []
   },
   "outputs": [
    {
     "name": "stdout",
     "output_type": "stream",
     "text": [
      "/kaggle/input/sales-data-practise/sales_data.csv\n",
      "/kaggle/input/nba-data/nba.csv\n"
     ]
    }
   ],
   "source": [
    "# This Python 3 environment comes with many helpful analytics libraries installed\n",
    "# It is defined by the kaggle/python Docker image: https://github.com/kaggle/docker-python\n",
    "# For example, here's several helpful packages to load\n",
    "\n",
    "import numpy as np # linear algebra\n",
    "import pandas as pd # data processing, CSV file I/O (e.g. pd.read_csv)\n",
    "\n",
    "# Input data files are available in the read-only \"../input/\" directory\n",
    "# For example, running this (by clicking run or pressing Shift+Enter) will list all files under the input directory\n",
    "\n",
    "import os\n",
    "for dirname, _, filenames in os.walk('/kaggle/input'):\n",
    "    for filename in filenames:\n",
    "        print(os.path.join(dirname, filename))\n",
    "\n",
    "# You can write up to 20GB to the current directory (/kaggle/working/) that gets preserved as output when you create a version using \"Save & Run All\" \n",
    "# You can also write temporary files to /kaggle/temp/, but they won't be saved outside of the current session"
   ]
  },
  {
   "cell_type": "markdown",
   "id": "6648d06a",
   "metadata": {
    "papermill": {
     "duration": 0.049345,
     "end_time": "2022-09-26T13:10:57.446712",
     "exception": false,
     "start_time": "2022-09-26T13:10:57.397367",
     "status": "completed"
    },
    "tags": []
   },
   "source": [
    "# Working with Pandas Library:\n",
    "- Pandas is an open-source library that uses for working with relational or labeled data both easily and intuitively. It provides various data structures and operations for manipulating numerical data and time series. It offers a tool for cleaning and processes your data. It is the most popular Python library that is used for data analysis. In this article, We are going to learn about Pandas Data structure.\n",
    "\n",
    "\n",
    "\n",
    "\n",
    "<img src=\"https://www.w3resource.com/w3r_images/pandas-data-structure.svg\" alt=\"Pandas Data structure\" style=\"max-width:100%;display:block;height:auto;border: 2px solid silver;\"><br>\n",
    "\n",
    "<p><strong>Create Test Objects</strong></p>\n",
    "<div class=\"table-responsive\">\n",
    "<table class=\"table table-bordered\">\n",
    "<tbody><tr>\n",
    "<td>pd.DataFrame(np.random.rand(20,5))</td>\n",
    "<td>5 columns and 20 rows of random floats</td>\n",
    "</tr>\n",
    "<tr>\n",
    "<td>pd.Series(my_list)</td>\n",
    "<td>Create a series from an iterable my_list</td>\n",
    "</tr>\n",
    "<tr>\n",
    "<td>df.index = pd.date_range('1900/1/30', periods=df.shape[0])</td>\n",
    "<td>Add a date index</td>\n",
    "</tr>\n",
    "</tbody></table></div>\n",
    "<p><strong>Viewing/Inspecting Data</strong></p>\n",
    "<div class=\"table-responsive\">\n",
    "<table class=\"table table-bordered\">\n",
    "<tbody><tr>\n",
    "<td>df.head(n)</td>\n",
    "<td>First n rows of the DataFrame</td>\n",
    "</tr>\n",
    "<tr>\n",
    "<td>df.tail(n)</td>\n",
    "<td> Last n rows of the DataFrame</td>\n",
    "</tr>\n",
    "<tr>\n",
    "<td>df.shape</td>\n",
    "<td> Number of rows and columns</td>\n",
    "</tr>\n",
    "<tr>\n",
    "<td>df.info()</td>\n",
    "<td>Index, Datatype and Memory information</td>\n",
    "</tr>\n",
    "<tr>\n",
    "<td>df.describe()</td>\n",
    "<td>Summary statistics for numerical columns</td>\n",
    "</tr>\n",
    "<tr>\n",
    "<td>s.value_counts(dropna=False)</td>\n",
    "<td>View unique values and counts</td>\n",
    "</tr>\n",
    "<tr>\n",
    "<td>df.apply(pd.Series.value_counts)</td>\n",
    "<td>Unique values and counts for all columns</td>\n",
    "</tr>\n",
    "</tbody></table></div>\n",
    "<p><strong>Selection</strong></p>\n",
    "<div class=\"table-responsive\">\n",
    "<table class=\"table table-bordered\">\n",
    "<tbody><tr>\n",
    "<td>df[col]</td>\n",
    "<td>Returns column with label col as Series</td>\n",
    "</tr>\n",
    "<tr>\n",
    "<td>df[[col1, col2]]</td>\n",
    "<td>Returns columns as a new DataFrame</td>\n",
    "</tr>\n",
    "<tr>\n",
    "<td>s.iloc[0]</td>\n",
    "<td>Selection by position</td>\n",
    "</tr>\n",
    "<tr>\n",
    "<td>s.loc['index_one']</td>\n",
    "<td>Selection by index</td>\n",
    "</tr>\n",
    "<tr>\n",
    "<td>df.iloc[0,:]</td>\n",
    "<td>First row</td>\n",
    "</tr>\n",
    "<tr>\n",
    "<td>df.iloc[0,0]</td>\n",
    "<td>First element of first column</td>\n",
    "</tr>\n",
    "</tbody></table></div>\n",
    "<p><strong>Data Cleaning</strong></p>\n",
    "<div class=\"table-responsive\">\n",
    "<table class=\"table table-bordered\">\n",
    "<tbody><tr>\n",
    "<td>df.columns = ['a','b','c']</td>\n",
    "<td>Rename columns</td>\n",
    "</tr>\n",
    "<tr>\n",
    "<td>pd.isnull()</td>\n",
    "<td> Checks for null Values, Returns Boolean Arrray</td>\n",
    "</tr>\n",
    "<tr>\n",
    "<td>pd.notnull()</td>\n",
    "<td>Opposite of pd.isnull()</td>\n",
    "</tr>\n",
    "<tr>\n",
    "<td>df.dropna()</td>\n",
    "<td>Drop all rows that contain null values</td>\n",
    "</tr>\n",
    "<tr>\n",
    "<td>df.dropna(axis=1)</td>\n",
    "<td>Drop all columns that contain null values</td>\n",
    "</tr>\n",
    "<tr>\n",
    "<td>df.dropna(axis=1,thresh=n)</td>\n",
    "<td>Drop all rows have have less than n non null values</td>\n",
    "</tr>\n",
    "<tr>\n",
    "<td>df.fillna(x)</td>\n",
    "<td>Replace all null values with x</td>\n",
    "</tr>\n",
    "<tr>\n",
    "<td>s.fillna(s.mean())</td>\n",
    "<td>Replace all null values with the mean</td>\n",
    "</tr>\n",
    "<tr>\n",
    "<td>s.astype(float)</td>\n",
    "<td>Convert the datatype of the series to float</td>\n",
    "</tr>\n",
    "<tr>\n",
    "<td>s.replace(1,'one')</td>\n",
    "<td>Replace all values equal to 1 with 'one'</td>\n",
    "</tr>\n",
    "<tr>\n",
    "<td>s.replace([2,3],['two', 'three'])</td>\n",
    "<td>Replace all 2 with 'two' and 3 with 'three'</td>\n",
    "</tr>\n",
    "<tr>\n",
    "<td>df.rename(columns=lambda x: x + 1)</td>\n",
    "<td>Mass renaming of columns</td>\n",
    "</tr>\n",
    "<tr>\n",
    "<td>df.rename(columns={'old_name': 'new_ name'})</td>\n",
    "<td>Selective renaming</td>\n",
    "</tr>\n",
    "<tr>\n",
    "<td>df.set_index('column_one')</td>\n",
    "<td>Change the index</td>\n",
    "</tr>\n",
    "<tr>\n",
    "<td>df.rename(index=lambda x: x + 1)</td>\n",
    "<td>Mass renaming of index</td>\n",
    "</tr>\n",
    "</tbody></table></div>\n",
    "<p><strong>Filter, Sort, and Groupby</strong></p>\n",
    "<div class=\"table-responsive\">\n",
    "<table class=\"table table-bordered\">\n",
    "<tbody><tr>\n",
    "<td>df[df[col] &gt; 0.6]</td>\n",
    "<td>Rows where the column col is greater than 0.6</td>\n",
    "</tr>\n",
    "<tr>\n",
    "<td>df[(df[col] &gt; 0.6) &amp; (df[col] &lt; 0.8)]</td>\n",
    "<td> Rows where 0.8 &gt; col &gt; 0.6</td>\n",
    "</tr>\n",
    "<tr>\n",
    "<td>df.sort_values(col1)</td>\n",
    "<td> Sort values by col1 in ascending order</td>\n",
    "</tr>\n",
    "<tr>\n",
    "<td>df.sort_values(col2,ascending=False)</td>\n",
    "<td> Sort values by col2 in descending order.5</td>\n",
    "</tr>\n",
    "<tr>\n",
    "<td>df.sort_values([col1,col2],ascending=[True,False]) </td>\n",
    "<td> Sort values by col1 in ascending order then col2 in descending order</td>\n",
    "</tr>\n",
    "<tr>\n",
    "<td>df.groupby(col)</td>\n",
    "<td>Returns a groupby object for values from one column</td>\n",
    "</tr>\n",
    "<tr>\n",
    "<td>df.groupby([col1,col2])</td>\n",
    "<td>Returns groupby object for values from multiple columns</td>\n",
    "</tr>\n",
    "<tr>\n",
    "<td>df.groupby(col1)[col2]</td>\n",
    "<td>Returns the mean of the values in col2, grouped by the values in col1</td>\n",
    "</tr>\n",
    "<tr>\n",
    "<td>df.pivot_table(index=col1,values=[col2,col3],aggfunc=mean)</td>\n",
    "<td>Create a pivot table that groups by col1 and calculates the mean of col2 and col3</td>\n",
    "</tr>\n",
    "<tr>\n",
    "<td>df.groupby(col1).agg(np.mean)</td>\n",
    "<td>Find the average across all columns for every unique col1 group</td>\n",
    "</tr>\n",
    "<tr>\n",
    "<td>df.apply(np.mean)</td>\n",
    "<td>Apply the function np.mean() across each column</td>\n",
    "</tr>\n",
    "<tr>\n",
    "<td>nf.apply(np.max,axis=1)</td>\n",
    "<td>Apply the function np.max() across each row</td>\n",
    "</tr>\n",
    "</tbody></table></div>\n",
    "<p><strong>Join/Combine</strong></p>\n",
    "<div class=\"table-responsive\">\n",
    "<table class=\"table table-bordered\">\n",
    "<tbody><tr>\n",
    "<td>df1.append(df2)</td>\n",
    "<td>Add the rows in df1 to the end of df2 (columns should be identical)</td>\n",
    "</tr>\n",
    "<tr>\n",
    "<td>pd.concat([df1, df2],axis=1)</td>\n",
    "<td>Add the columns in df1 to the end of df2 (rows should be identical)</td>\n",
    "</tr>\n",
    "<tr>\n",
    "<td>df1.join(df2,on=col1, how='inner')</td>\n",
    "<td>SQL-style join the columns in df1 with the columns on df2 where the rows for col have identical values. The 'how' can be 'left', 'right', 'outer' or 'inner'</td>\n",
    "</tr>\n",
    "</tbody></table></div>\n",
    "<p><strong>Statistics</strong></p>\n",
    "<div class=\"table-responsive\">\n",
    "<table class=\"table table-bordered\">\n",
    "<tbody><tr>\n",
    "<td>df.describe()</td>\n",
    "<td>Summary statistics for numerical columns</td>\n",
    "</tr>\n",
    "<tr>\n",
    "<td>df.mean()</td>\n",
    "<td>Returns the mean of all columns</td>\n",
    "</tr>\n",
    "<tr>\n",
    "<td>df.corr()</td>\n",
    "<td>Returns the correlation between columns in a DataFrame</td>\n",
    "</tr>\n",
    "<tr>\n",
    "<td>df.count()</td>\n",
    "<td>Returns the number of non-null values in each DataFrame column</td>\n",
    "</tr>\n",
    "<tr>\n",
    "<td>df.max()</td>\n",
    "<td>Returns the highest value in each column</td>\n",
    "</tr>\n",
    "<tr>\n",
    "<td>df.min()</td>\n",
    "<td>Returns the lowest value in each column</td>\n",
    "</tr>\n",
    "<tr>\n",
    "<td>df.median()</td>\n",
    "<td>Returns the median of each column</td>\n",
    "</tr>\n",
    "<tr>\n",
    "<td>df.std()</td>\n",
    "<td>Returns the standard deviation of each column</td>\n",
    "</tr>\n",
    "</tbody></table></div>\n",
    "<p><strong>Importing Data</strong></p>\n",
    "<div class=\"table-responsive\">\n",
    "<table class=\"table table-bordered\">\n",
    "<tbody><tr>\n",
    "<td>pd.read_csv(filename)</td>\n",
    "<td>From a CSV file</td>\n",
    "</tr>\n",
    "<tr>\n",
    "<td>pd.read_table(filename)</td>\n",
    "<td>From a delimited text file (like TSV)</td>\n",
    "</tr>\n",
    "<tr>\n",
    "<td>pd.read_excel(filename)</td>\n",
    "<td>From an Excel file</td>\n",
    "</tr>\n",
    "<tr>\n",
    "<td>pd.read_sql(query, connection_object)</td>\n",
    "<td>Read from a SQL table/database</td>\n",
    "</tr>\n",
    "<tr>\n",
    "<td>pd.read_json(json_string)</td>\n",
    "<td>Read from a JSON formatted string, URL or file.</td>\n",
    "</tr>\n",
    "<tr>\n",
    "<td>pd.read_html(url)</td>\n",
    "<td> Parses an html URL, string or file and extracts tables to a list of dataframes</td>\n",
    "</tr>\n",
    "<tr>\n",
    "<td>pd.read_clipboard() </td>\n",
    "<td>Takes the contents of your clipboard and passes it to read_table()</td>\n",
    "</tr>\n",
    "<tr>\n",
    "<td>pd.DataFrame(dict)</td>\n",
    "<td>From a dict, keys for columns names, values for data as lists</td>\n",
    "</tr>\n",
    "</tbody></table></div>\n",
    "<p><strong>Exporting Data</strong></p>\n",
    "<div class=\"table-responsive\">\n",
    "<table class=\"table table-bordered\">\n",
    "<tbody><tr>\n",
    "<td>df.to_csv(filename)</td>\n",
    "<td>Write to a CSV file</td>\n",
    "</tr>\n",
    "<tr>\n",
    "<td>df.to_excel(filename)</td>\n",
    "<td>Write to an Excel file</td>\n",
    "</tr>\n",
    "<tr>\n",
    "<td>df.to_sql(table_name, connection_object)</td>\n",
    "<td>Write to a SQL table</td>\n",
    "</tr>\n",
    "<tr>\n",
    "<td>df.to_json(filename)</td>\n",
    "<td>Write to a file in JSON format</td>\n",
    "</tr>\n",
    "</tbody></table>\n",
    "</div>\n",
    "    \n",
    "- It supports three data structures:\n",
    "\n",
    "    1. **Series**\n",
    "    2. **Dataframe**\n",
    "    3. **Panel**\n",
    "    \n",
    "## 1. pandas.series(): \n",
    "- Pandas Series is a one-dimensional labeled array capable of holding data of any type (integer, string, float, python objects, etc.). The axis labels are collectively called index. Pandas Series is nothing but a column in an excel sheet.\n",
    "- Labels need not be unique but must be a hashable type. The object supports both integer and label-based indexing and provides a host of methods for performing operations involving the index.\n",
    "- **Syntax** <H4>class pandas.Series(data=None, index=None, dtype=None, name=None, copy=False, fastpath=False)</H4>"
   ]
  },
  {
   "cell_type": "code",
   "execution_count": 2,
   "id": "65ea5701",
   "metadata": {
    "execution": {
     "iopub.execute_input": "2022-09-26T13:10:57.549465Z",
     "iopub.status.busy": "2022-09-26T13:10:57.549137Z",
     "iopub.status.idle": "2022-09-26T13:10:57.557939Z",
     "shell.execute_reply": "2022-09-26T13:10:57.556993Z"
    },
    "papermill": {
     "duration": 0.062312,
     "end_time": "2022-09-26T13:10:57.560323",
     "exception": false,
     "start_time": "2022-09-26T13:10:57.498011",
     "status": "completed"
    },
    "tags": []
   },
   "outputs": [
    {
     "name": "stdout",
     "output_type": "stream",
     "text": [
      "Series:\n",
      "\n",
      " 0     Bhawan\n",
      "1      Singh\n",
      "2    Solanki\n",
      "dtype: object \n",
      "\n",
      "Type of Series:  <class 'pandas.core.series.Series'> \n",
      "\n",
      "Data type of Series:  object\n",
      "Dimension of series:  1\n"
     ]
    }
   ],
   "source": [
    "#Creating Series by using arrray: \n",
    "\n",
    "data=np.array([\"Bhawan\",\"Singh\",\"Solanki\"])\n",
    "\n",
    "s=pd.Series(data)\n",
    "\n",
    "print(\"Series:\\n\\n\",s,\"\\n\\nType of Series: \",type(s),\"\\n\\nData type of Series: \",s.dtype)\n",
    "print(\"Dimension of series: \",s.ndim)"
   ]
  },
  {
   "cell_type": "code",
   "execution_count": 3,
   "id": "9d726d09",
   "metadata": {
    "execution": {
     "iopub.execute_input": "2022-09-26T13:10:57.665636Z",
     "iopub.status.busy": "2022-09-26T13:10:57.665302Z",
     "iopub.status.idle": "2022-09-26T13:10:57.674058Z",
     "shell.execute_reply": "2022-09-26T13:10:57.673127Z"
    },
    "papermill": {
     "duration": 0.062983,
     "end_time": "2022-09-26T13:10:57.676476",
     "exception": false,
     "start_time": "2022-09-26T13:10:57.613493",
     "status": "completed"
    },
    "tags": []
   },
   "outputs": [
    {
     "name": "stdout",
     "output_type": "stream",
     "text": [
      "Series:\n",
      "\n",
      " First Name      Bhawan\n",
      "Middle Name      Singh\n",
      "Last Name      Solanki\n",
      "dtype: object \n",
      "\n",
      "Type of Series:  <class 'pandas.core.series.Series'> \n",
      "Data type of Series:  object\n",
      "Dimension of series:  1\n"
     ]
    }
   ],
   "source": [
    "# Giving the index to the Series data\n",
    "\n",
    "data=np.array([\"Bhawan\",\"Singh\",\"Solanki\"])\n",
    "\n",
    "s1=pd.Series(data,index=[\"First Name\",\"Middle Name\",\"Last Name\"])\n",
    "\n",
    "print(\"Series:\\n\\n\",s1,\"\\n\\nType of Series: \",type(s1),\"\\nData type of Series: \",s1.dtype)\n",
    "print(\"Dimension of series: \",s1.ndim)"
   ]
  },
  {
   "cell_type": "code",
   "execution_count": 4,
   "id": "7323d496",
   "metadata": {
    "execution": {
     "iopub.execute_input": "2022-09-26T13:10:57.779070Z",
     "iopub.status.busy": "2022-09-26T13:10:57.778781Z",
     "iopub.status.idle": "2022-09-26T13:10:57.785708Z",
     "shell.execute_reply": "2022-09-26T13:10:57.784785Z"
    },
    "papermill": {
     "duration": 0.060219,
     "end_time": "2022-09-26T13:10:57.788061",
     "exception": false,
     "start_time": "2022-09-26T13:10:57.727842",
     "status": "completed"
    },
    "tags": []
   },
   "outputs": [
    {
     "name": "stdout",
     "output_type": "stream",
     "text": [
      "Series:\n",
      "\n",
      " 0          1\n",
      "1          2\n",
      "2          3\n",
      "3          4\n",
      "4          5\n",
      "5          5\n",
      "6          6\n",
      "7          4\n",
      "8          3\n",
      "9          5\n",
      "10         5\n",
      "11       5.4\n",
      "12       3.2\n",
      "13    bhawan\n",
      "14     singh\n",
      "dtype: object \n",
      "\n",
      "Type of Series:  <class 'pandas.core.series.Series'> \n",
      "Data type of Series:  object\n",
      "Dimension of series:  1\n"
     ]
    }
   ],
   "source": [
    "# Giving List data to Series\n",
    "\n",
    "list1=[1,2,3,4,5,5,6,4,3,5,5,5.4,3.2,\"bhawan\",\"singh\"]\n",
    "s2=pd.Series(list1)\n",
    "print(\"Series:\\n\\n\",s2,\"\\n\\nType of Series: \",type(s2),\"\\nData type of Series: \",s2.dtype)\n",
    "print(\"Dimension of series: \",s2.ndim)"
   ]
  },
  {
   "cell_type": "code",
   "execution_count": 5,
   "id": "b0579644",
   "metadata": {
    "execution": {
     "iopub.execute_input": "2022-09-26T13:10:57.891208Z",
     "iopub.status.busy": "2022-09-26T13:10:57.890330Z",
     "iopub.status.idle": "2022-09-26T13:10:57.897292Z",
     "shell.execute_reply": "2022-09-26T13:10:57.896175Z"
    },
    "papermill": {
     "duration": 0.064708,
     "end_time": "2022-09-26T13:10:57.904168",
     "exception": false,
     "start_time": "2022-09-26T13:10:57.839460",
     "status": "completed"
    },
    "tags": []
   },
   "outputs": [
    {
     "name": "stdout",
     "output_type": "stream",
     "text": [
      "Series([], dtype: float64)\n"
     ]
    },
    {
     "name": "stderr",
     "output_type": "stream",
     "text": [
      "/opt/conda/lib/python3.7/site-packages/ipykernel_launcher.py:3: DeprecationWarning: The default dtype for empty Series will be 'object' instead of 'float64' in a future version. Specify a dtype explicitly to silence this warning.\n",
      "  This is separate from the ipykernel package so we can avoid doing imports until\n"
     ]
    }
   ],
   "source": [
    "# Creating empty Series:\n",
    "\n",
    "empty_s=pd.Series([])\n",
    "print(empty_s)"
   ]
  },
  {
   "cell_type": "code",
   "execution_count": 6,
   "id": "90114493",
   "metadata": {
    "execution": {
     "iopub.execute_input": "2022-09-26T13:10:58.007145Z",
     "iopub.status.busy": "2022-09-26T13:10:58.006233Z",
     "iopub.status.idle": "2022-09-26T13:10:58.014155Z",
     "shell.execute_reply": "2022-09-26T13:10:58.012658Z"
    },
    "papermill": {
     "duration": 0.06174,
     "end_time": "2022-09-26T13:10:58.016699",
     "exception": false,
     "start_time": "2022-09-26T13:10:57.954959",
     "status": "completed"
    },
    "tags": []
   },
   "outputs": [
    {
     "name": "stdout",
     "output_type": "stream",
     "text": [
      "0     1.0\n",
      "1     2.0\n",
      "2     3.0\n",
      "3     4.0\n",
      "4     5.0\n",
      "5     5.0\n",
      "6     6.0\n",
      "7     4.0\n",
      "8     3.0\n",
      "9     5.0\n",
      "10    5.0\n",
      "11    5.4\n",
      "12    3.2\n",
      "Name: Series_s2, dtype: float64\n"
     ]
    }
   ],
   "source": [
    "# GIving name& data type to series:\n",
    "\n",
    "list1=[1,2,3,4,5,5,6,4,3,5,5,5.4,3.2]\n",
    "s2=pd.Series(list1,dtype=float,name=\"Series_s2\")\n",
    "print(s2)"
   ]
  },
  {
   "cell_type": "code",
   "execution_count": 7,
   "id": "0615750a",
   "metadata": {
    "execution": {
     "iopub.execute_input": "2022-09-26T13:10:58.120895Z",
     "iopub.status.busy": "2022-09-26T13:10:58.119989Z",
     "iopub.status.idle": "2022-09-26T13:10:58.128778Z",
     "shell.execute_reply": "2022-09-26T13:10:58.127157Z"
    },
    "papermill": {
     "duration": 0.063228,
     "end_time": "2022-09-26T13:10:58.130785",
     "exception": false,
     "start_time": "2022-09-26T13:10:58.067557",
     "status": "completed"
    },
    "tags": []
   },
   "outputs": [
    {
     "name": "stdout",
     "output_type": "stream",
     "text": [
      "0    4.5\n",
      "dtype: float64\n",
      "\n",
      "Multiple Scaler value series:\n",
      " 1    4.5\n",
      "2    4.5\n",
      "3    4.5\n",
      "4    4.5\n",
      "5    4.5\n",
      "6    4.5\n",
      "dtype: float64\n"
     ]
    }
   ],
   "source": [
    "#Creating Series with Scalar value:\n",
    "Scalar_s=pd.Series(4.5)\n",
    "print(Scalar_s)\n",
    "\n",
    "Scalar_s=pd.Series(4.5,index=[1,2,3,4,5,6])\n",
    "print(\"\\nMultiple Scaler value series:\\n\",Scalar_s)"
   ]
  },
  {
   "cell_type": "code",
   "execution_count": 8,
   "id": "cc23a99b",
   "metadata": {
    "execution": {
     "iopub.execute_input": "2022-09-26T13:10:58.231922Z",
     "iopub.status.busy": "2022-09-26T13:10:58.231582Z",
     "iopub.status.idle": "2022-09-26T13:10:58.239311Z",
     "shell.execute_reply": "2022-09-26T13:10:58.238387Z"
    },
    "papermill": {
     "duration": 0.060641,
     "end_time": "2022-09-26T13:10:58.241514",
     "exception": false,
     "start_time": "2022-09-26T13:10:58.180873",
     "status": "completed"
    },
    "tags": []
   },
   "outputs": [
    {
     "name": "stdout",
     "output_type": "stream",
     "text": [
      "\n",
      "Creating Series with Dictionnary:\n",
      " 1    [Bhawan, test]\n",
      "2             Singh\n",
      "3           Solanki\n",
      "dtype: object\n"
     ]
    }
   ],
   "source": [
    "#Creating Series with Dictionary:\n",
    "\n",
    "dict_series=pd.Series({1:[\"Bhawan\",\"test\"],2:\"Singh\",3:\"Solanki\"})\n",
    "print(\"\\nCreating Series with Dictionnary:\\n\",dict_series)\n"
   ]
  },
  {
   "cell_type": "markdown",
   "id": "8cc147cc",
   "metadata": {
    "papermill": {
     "duration": 0.050418,
     "end_time": "2022-09-26T13:10:58.341847",
     "exception": false,
     "start_time": "2022-09-26T13:10:58.291429",
     "status": "completed"
    },
    "tags": []
   },
   "source": [
    "### MultiIndex Index Series:"
   ]
  },
  {
   "cell_type": "code",
   "execution_count": 9,
   "id": "c3f33ffd",
   "metadata": {
    "execution": {
     "iopub.execute_input": "2022-09-26T13:10:58.498298Z",
     "iopub.status.busy": "2022-09-26T13:10:58.497581Z",
     "iopub.status.idle": "2022-09-26T13:10:58.519530Z",
     "shell.execute_reply": "2022-09-26T13:10:58.518640Z"
    },
    "papermill": {
     "duration": 0.077718,
     "end_time": "2022-09-26T13:10:58.521546",
     "exception": false,
     "start_time": "2022-09-26T13:10:58.443828",
     "status": "completed"
    },
    "tags": []
   },
   "outputs": [
    {
     "data": {
      "text/plain": [
       "0  a    0\n",
       "   b    1\n",
       "   c    2\n",
       "1  a    3\n",
       "   b    4\n",
       "   c    5\n",
       "dtype: int64"
      ]
     },
     "execution_count": 9,
     "metadata": {},
     "output_type": "execute_result"
    }
   ],
   "source": [
    "s_mi = pd.Series(np.arange(6),\n",
    "   .....:                  index=pd.MultiIndex.from_product([[0, 1], ['a', 'b', 'c']]))\n",
    "   .....: \n",
    "        \n",
    "s_mi"
   ]
  },
  {
   "cell_type": "code",
   "execution_count": 10,
   "id": "7aaf7e63",
   "metadata": {
    "execution": {
     "iopub.execute_input": "2022-09-26T13:10:58.673908Z",
     "iopub.status.busy": "2022-09-26T13:10:58.673341Z",
     "iopub.status.idle": "2022-09-26T13:10:58.683991Z",
     "shell.execute_reply": "2022-09-26T13:10:58.682268Z"
    },
    "papermill": {
     "duration": 0.120344,
     "end_time": "2022-09-26T13:10:58.692074",
     "exception": false,
     "start_time": "2022-09-26T13:10:58.571730",
     "status": "completed"
    },
    "tags": []
   },
   "outputs": [
    {
     "data": {
      "text/plain": [
       "pandas.core.series.Series"
      ]
     },
     "execution_count": 10,
     "metadata": {},
     "output_type": "execute_result"
    }
   ],
   "source": [
    "type(s_mi)"
   ]
  },
  {
   "cell_type": "code",
   "execution_count": 11,
   "id": "62314155",
   "metadata": {
    "execution": {
     "iopub.execute_input": "2022-09-26T13:10:58.863722Z",
     "iopub.status.busy": "2022-09-26T13:10:58.863282Z",
     "iopub.status.idle": "2022-09-26T13:10:58.869852Z",
     "shell.execute_reply": "2022-09-26T13:10:58.868972Z"
    },
    "papermill": {
     "duration": 0.092941,
     "end_time": "2022-09-26T13:10:58.875512",
     "exception": false,
     "start_time": "2022-09-26T13:10:58.782571",
     "status": "completed"
    },
    "tags": []
   },
   "outputs": [
    {
     "data": {
      "text/plain": [
       "dtype('int64')"
      ]
     },
     "execution_count": 11,
     "metadata": {},
     "output_type": "execute_result"
    }
   ],
   "source": [
    "s_mi.dtype"
   ]
  },
  {
   "cell_type": "markdown",
   "id": "d59a0902",
   "metadata": {
    "papermill": {
     "duration": 0.075848,
     "end_time": "2022-09-26T13:10:59.028724",
     "exception": false,
     "start_time": "2022-09-26T13:10:58.952876",
     "status": "completed"
    },
    "tags": []
   },
   "source": [
    "#### Atributes of Series\n",
    "***\n",
    "\n",
    "\n",
    "<dd>\n",
    "<table class=\"autosummary longtable table autosummary\">\n",
    "<colgroup>\n",
    "<col style=\"width: 10%\">\n",
    "<col style=\"width: 90%\">\n",
    "</colgroup>\n",
    "<tbody>\n",
    "<tr class=\"row-odd\"><td><p><a class=\"reference internal\" href=\"pandas.Series.T.html#pandas.Series.T\" title=\"pandas.Series.T\"><code class=\"xref py py-obj docutils literal notranslate\"><span class=\"pre\">T</span></code></a></p></td>\n",
    "<td><p>Return the transpose, which is by definition self.</p></td>\n",
    "</tr>\n",
    "<tr class=\"row-even\"><td><p><a class=\"reference internal\" href=\"pandas.Series.array.html#pandas.Series.array\" title=\"pandas.Series.array\"><code class=\"xref py py-obj docutils literal notranslate\"><span class=\"pre\">array</span></code></a></p></td>\n",
    "<td><p>The ExtensionArray of the data backing this Series or Index.</p></td>\n",
    "</tr>\n",
    "<tr class=\"row-odd\"><td><p><a class=\"reference internal\" href=\"pandas.Series.at.html#pandas.Series.at\" title=\"pandas.Series.at\"><code class=\"xref py py-obj docutils literal notranslate\"><span class=\"pre\">at</span></code></a></p></td>\n",
    "<td><p>Access a single value for a row/column label pair.</p></td>\n",
    "</tr>\n",
    "<tr class=\"row-even\"><td><p><a class=\"reference internal\" href=\"pandas.Series.attrs.html#pandas.Series.attrs\" title=\"pandas.Series.attrs\"><code class=\"xref py py-obj docutils literal notranslate\"><span class=\"pre\">attrs</span></code></a></p></td>\n",
    "<td><p>Dictionary of global attributes of this dataset.</p></td>\n",
    "</tr>\n",
    "<tr class=\"row-odd\"><td><p><a class=\"reference internal\" href=\"pandas.Series.axes.html#pandas.Series.axes\" title=\"pandas.Series.axes\"><code class=\"xref py py-obj docutils literal notranslate\"><span class=\"pre\">axes</span></code></a></p></td>\n",
    "<td><p>Return a list of the row axis labels.</p></td>\n",
    "</tr>\n",
    "<tr class=\"row-even\"><td><p><a class=\"reference internal\" href=\"pandas.Series.dtype.html#pandas.Series.dtype\" title=\"pandas.Series.dtype\"><code class=\"xref py py-obj docutils literal notranslate\"><span class=\"pre\">dtype</span></code></a></p></td>\n",
    "<td><p>Return the dtype object of the underlying data.</p></td>\n",
    "</tr>\n",
    "<tr class=\"row-odd\"><td><p><a class=\"reference internal\" href=\"pandas.Series.dtypes.html#pandas.Series.dtypes\" title=\"pandas.Series.dtypes\"><code class=\"xref py py-obj docutils literal notranslate\"><span class=\"pre\">dtypes</span></code></a></p></td>\n",
    "<td><p>Return the dtype object of the underlying data.</p></td>\n",
    "</tr>\n",
    "<tr class=\"row-even\"><td><p><a class=\"reference internal\" href=\"pandas.Series.flags.html#pandas.Series.flags\" title=\"pandas.Series.flags\"><code class=\"xref py py-obj docutils literal notranslate\"><span class=\"pre\">flags</span></code></a></p></td>\n",
    "<td><p>Get the properties associated with this pandas object.</p></td>\n",
    "</tr>\n",
    "<tr class=\"row-odd\"><td><p><a class=\"reference internal\" href=\"pandas.Series.hasnans.html#pandas.Series.hasnans\" title=\"pandas.Series.hasnans\"><code class=\"xref py py-obj docutils literal notranslate\"><span class=\"pre\">hasnans</span></code></a></p></td>\n",
    "<td><p>Return True if there are any NaNs.</p></td>\n",
    "</tr>\n",
    "<tr class=\"row-even\"><td><p><a class=\"reference internal\" href=\"pandas.Series.iat.html#pandas.Series.iat\" title=\"pandas.Series.iat\"><code class=\"xref py py-obj docutils literal notranslate\"><span class=\"pre\">iat</span></code></a></p></td>\n",
    "<td><p>Access a single value for a row/column pair by integer position.</p></td>\n",
    "</tr>\n",
    "<tr class=\"row-odd\"><td><p><a class=\"reference internal\" href=\"pandas.Series.iloc.html#pandas.Series.iloc\" title=\"pandas.Series.iloc\"><code class=\"xref py py-obj docutils literal notranslate\"><span class=\"pre\">iloc</span></code></a></p></td>\n",
    "<td><p>Purely integer-location based indexing for selection by position.</p></td>\n",
    "</tr>\n",
    "<tr class=\"row-even\"><td><p><a class=\"reference internal\" href=\"pandas.Series.index.html#pandas.Series.index\" title=\"pandas.Series.index\"><code class=\"xref py py-obj docutils literal notranslate\"><span class=\"pre\">index</span></code></a></p></td>\n",
    "<td><p>The index (axis labels) of the Series.</p></td>\n",
    "</tr>\n",
    "<tr class=\"row-odd\"><td><p><a class=\"reference internal\" href=\"pandas.Series.is_monotonic.html#pandas.Series.is_monotonic\" title=\"pandas.Series.is_monotonic\"><code class=\"xref py py-obj docutils literal notranslate\"><span class=\"pre\">is_monotonic</span></code></a></p></td>\n",
    "<td><p>(DEPRECATED) Return boolean if values in the object are monotonically increasing.</p></td>\n",
    "</tr>\n",
    "<tr class=\"row-even\"><td><p><a class=\"reference internal\" href=\"pandas.Series.is_monotonic_decreasing.html#pandas.Series.is_monotonic_decreasing\" title=\"pandas.Series.is_monotonic_decreasing\"><code class=\"xref py py-obj docutils literal notranslate\"><span class=\"pre\">is_monotonic_decreasing</span></code></a></p></td>\n",
    "<td><p>Return boolean if values in the object are monotonically decreasing.</p></td>\n",
    "</tr>\n",
    "<tr class=\"row-odd\"><td><p><a class=\"reference internal\" href=\"pandas.Series.is_monotonic_increasing.html#pandas.Series.is_monotonic_increasing\" title=\"pandas.Series.is_monotonic_increasing\"><code class=\"xref py py-obj docutils literal notranslate\"><span class=\"pre\">is_monotonic_increasing</span></code></a></p></td>\n",
    "<td><p>Return boolean if values in the object are monotonically increasing.</p></td>\n",
    "</tr>\n",
    "<tr class=\"row-even\"><td><p><a class=\"reference internal\" href=\"pandas.Series.is_unique.html#pandas.Series.is_unique\" title=\"pandas.Series.is_unique\"><code class=\"xref py py-obj docutils literal notranslate\"><span class=\"pre\">is_unique</span></code></a></p></td>\n",
    "<td><p>Return boolean if values in the object are unique.</p></td>\n",
    "</tr>\n",
    "<tr class=\"row-odd\"><td><p><a class=\"reference internal\" href=\"pandas.Series.loc.html#pandas.Series.loc\" title=\"pandas.Series.loc\"><code class=\"xref py py-obj docutils literal notranslate\"><span class=\"pre\">loc</span></code></a></p></td>\n",
    "<td><p>Access a group of rows and columns by label(s) or a boolean array.</p></td>\n",
    "</tr>\n",
    "<tr class=\"row-even\"><td><p><a class=\"reference internal\" href=\"pandas.Series.name.html#pandas.Series.name\" title=\"pandas.Series.name\"><code class=\"xref py py-obj docutils literal notranslate\"><span class=\"pre\">name</span></code></a></p></td>\n",
    "<td><p>Return the name of the Series.</p></td>\n",
    "</tr>\n",
    "<tr class=\"row-odd\"><td><p><a class=\"reference internal\" href=\"pandas.Series.nbytes.html#pandas.Series.nbytes\" title=\"pandas.Series.nbytes\"><code class=\"xref py py-obj docutils literal notranslate\"><span class=\"pre\">nbytes</span></code></a></p></td>\n",
    "<td><p>Return the number of bytes in the underlying data.</p></td>\n",
    "</tr>\n",
    "<tr class=\"row-even\"><td><p><a class=\"reference internal\" href=\"pandas.Series.ndim.html#pandas.Series.ndim\" title=\"pandas.Series.ndim\"><code class=\"xref py py-obj docutils literal notranslate\"><span class=\"pre\">ndim</span></code></a></p></td>\n",
    "<td><p>Number of dimensions of the underlying data, by definition 1.</p></td>\n",
    "</tr>\n",
    "<tr class=\"row-odd\"><td><p><a class=\"reference internal\" href=\"pandas.Series.shape.html#pandas.Series.shape\" title=\"pandas.Series.shape\"><code class=\"xref py py-obj docutils literal notranslate\"><span class=\"pre\">shape</span></code></a></p></td>\n",
    "<td><p>Return a tuple of the shape of the underlying data.</p></td>\n",
    "</tr>\n",
    "<tr class=\"row-even\"><td><p><a class=\"reference internal\" href=\"pandas.Series.size.html#pandas.Series.size\" title=\"pandas.Series.size\"><code class=\"xref py py-obj docutils literal notranslate\"><span class=\"pre\">size</span></code></a></p></td>\n",
    "<td><p>Return the number of elements in the underlying data.</p></td>\n",
    "</tr>\n",
    "<tr class=\"row-odd\"><td><p><a class=\"reference internal\" href=\"pandas.Series.values.html#pandas.Series.values\" title=\"pandas.Series.values\"><code class=\"xref py py-obj docutils literal notranslate\"><span class=\"pre\">values</span></code></a></p></td>\n",
    "<td><p>Return Series as ndarray or ndarray-like depending on the dtype.</p></td>\n",
    "</tr>\n",
    "</tbody>\n",
    "</table>\n",
    "    </dd>  \n",
    "    \n",
    "#### Methods Of Series\n",
    "*** \n",
    "<dd>    \n",
    "<table class=\"autosummary longtable table autosummary\">\n",
    "<colgroup>\n",
    "<col style=\"width: 10%\">\n",
    "<col style=\"width: 90%\">\n",
    "</colgroup>\n",
    "<tbody>\n",
    "<tr class=\"row-odd\"><td><p><a class=\"reference internal\" href=\"pandas.Series.abs.html#pandas.Series.abs\" title=\"pandas.Series.abs\"><code class=\"xref py py-obj docutils literal notranslate\"><span class=\"pre\">abs</span></code></a>()</p></td>\n",
    "<td><p>Return a Series/DataFrame with absolute numeric value of each element.</p></td>\n",
    "</tr>\n",
    "<tr class=\"row-even\"><td><p><a class=\"reference internal\" href=\"pandas.Series.add.html#pandas.Series.add\" title=\"pandas.Series.add\"><code class=\"xref py py-obj docutils literal notranslate\"><span class=\"pre\">add</span></code></a>(other[,&nbsp;level,&nbsp;fill_value,&nbsp;axis])</p></td>\n",
    "<td><p>Return Addition of series and other, element-wise (binary operator <cite>add</cite>).</p></td>\n",
    "</tr>\n",
    "<tr class=\"row-odd\"><td><p><a class=\"reference internal\" href=\"pandas.Series.add_prefix.html#pandas.Series.add_prefix\" title=\"pandas.Series.add_prefix\"><code class=\"xref py py-obj docutils literal notranslate\"><span class=\"pre\">add_prefix</span></code></a>(prefix)</p></td>\n",
    "<td><p>Prefix labels with string <cite>prefix</cite>.</p></td>\n",
    "</tr>\n",
    "<tr class=\"row-even\"><td><p><a class=\"reference internal\" href=\"pandas.Series.add_suffix.html#pandas.Series.add_suffix\" title=\"pandas.Series.add_suffix\"><code class=\"xref py py-obj docutils literal notranslate\"><span class=\"pre\">add_suffix</span></code></a>(suffix)</p></td>\n",
    "<td><p>Suffix labels with string <cite>suffix</cite>.</p></td>\n",
    "</tr>\n",
    "<tr class=\"row-odd\"><td><p><a class=\"reference internal\" href=\"pandas.Series.agg.html#pandas.Series.agg\" title=\"pandas.Series.agg\"><code class=\"xref py py-obj docutils literal notranslate\"><span class=\"pre\">agg</span></code></a>([func,&nbsp;axis])</p></td>\n",
    "<td><p>Aggregate using one or more operations over the specified axis.</p></td>\n",
    "</tr>\n",
    "<tr class=\"row-even\"><td><p><a class=\"reference internal\" href=\"pandas.Series.aggregate.html#pandas.Series.aggregate\" title=\"pandas.Series.aggregate\"><code class=\"xref py py-obj docutils literal notranslate\"><span class=\"pre\">aggregate</span></code></a>([func,&nbsp;axis])</p></td>\n",
    "<td><p>Aggregate using one or more operations over the specified axis.</p></td>\n",
    "</tr>\n",
    "<tr class=\"row-odd\"><td><p><a class=\"reference internal\" href=\"pandas.Series.align.html#pandas.Series.align\" title=\"pandas.Series.align\"><code class=\"xref py py-obj docutils literal notranslate\"><span class=\"pre\">align</span></code></a>(other[,&nbsp;join,&nbsp;axis,&nbsp;level,&nbsp;copy,&nbsp;...])</p></td>\n",
    "<td><p>Align two objects on their axes with the specified join method.</p></td>\n",
    "</tr>\n",
    "<tr class=\"row-even\"><td><p><a class=\"reference internal\" href=\"pandas.Series.all.html#pandas.Series.all\" title=\"pandas.Series.all\"><code class=\"xref py py-obj docutils literal notranslate\"><span class=\"pre\">all</span></code></a>([axis,&nbsp;bool_only,&nbsp;skipna,&nbsp;level])</p></td>\n",
    "<td><p>Return whether all elements are True, potentially over an axis.</p></td>\n",
    "</tr>\n",
    "<tr class=\"row-odd\"><td><p><a class=\"reference internal\" href=\"pandas.Series.any.html#pandas.Series.any\" title=\"pandas.Series.any\"><code class=\"xref py py-obj docutils literal notranslate\"><span class=\"pre\">any</span></code></a>([axis,&nbsp;bool_only,&nbsp;skipna,&nbsp;level])</p></td>\n",
    "<td><p>Return whether any element is True, potentially over an axis.</p></td>\n",
    "</tr>\n",
    "<tr class=\"row-even\"><td><p><a class=\"reference internal\" href=\"pandas.Series.append.html#pandas.Series.append\" title=\"pandas.Series.append\"><code class=\"xref py py-obj docutils literal notranslate\"><span class=\"pre\">append</span></code></a>(to_append[,&nbsp;ignore_index,&nbsp;...])</p></td>\n",
    "<td><p>(DEPRECATED) Concatenate two or more Series.</p></td>\n",
    "</tr>\n",
    "<tr class=\"row-odd\"><td><p><a class=\"reference internal\" href=\"pandas.Series.apply.html#pandas.Series.apply\" title=\"pandas.Series.apply\"><code class=\"xref py py-obj docutils literal notranslate\"><span class=\"pre\">apply</span></code></a>(func[,&nbsp;convert_dtype,&nbsp;args])</p></td>\n",
    "<td><p>Invoke function on values of Series.</p></td>\n",
    "</tr>\n",
    "<tr class=\"row-even\"><td><p><a class=\"reference internal\" href=\"pandas.Series.argmax.html#pandas.Series.argmax\" title=\"pandas.Series.argmax\"><code class=\"xref py py-obj docutils literal notranslate\"><span class=\"pre\">argmax</span></code></a>([axis,&nbsp;skipna])</p></td>\n",
    "<td><p>Return int position of the largest value in the Series.</p></td>\n",
    "</tr>\n",
    "<tr class=\"row-odd\"><td><p><a class=\"reference internal\" href=\"pandas.Series.argmin.html#pandas.Series.argmin\" title=\"pandas.Series.argmin\"><code class=\"xref py py-obj docutils literal notranslate\"><span class=\"pre\">argmin</span></code></a>([axis,&nbsp;skipna])</p></td>\n",
    "<td><p>Return int position of the smallest value in the Series.</p></td>\n",
    "</tr>\n",
    "<tr class=\"row-even\"><td><p><a class=\"reference internal\" href=\"pandas.Series.argsort.html#pandas.Series.argsort\" title=\"pandas.Series.argsort\"><code class=\"xref py py-obj docutils literal notranslate\"><span class=\"pre\">argsort</span></code></a>([axis,&nbsp;kind,&nbsp;order])</p></td>\n",
    "<td><p>Return the integer indices that would sort the Series values.</p></td>\n",
    "</tr>\n",
    "<tr class=\"row-odd\"><td><p><a class=\"reference internal\" href=\"pandas.Series.asfreq.html#pandas.Series.asfreq\" title=\"pandas.Series.asfreq\"><code class=\"xref py py-obj docutils literal notranslate\"><span class=\"pre\">asfreq</span></code></a>(freq[,&nbsp;method,&nbsp;how,&nbsp;normalize,&nbsp;...])</p></td>\n",
    "<td><p>Convert time series to specified frequency.</p></td>\n",
    "</tr>\n",
    "<tr class=\"row-even\"><td><p><a class=\"reference internal\" href=\"pandas.Series.asof.html#pandas.Series.asof\" title=\"pandas.Series.asof\"><code class=\"xref py py-obj docutils literal notranslate\"><span class=\"pre\">asof</span></code></a>(where[,&nbsp;subset])</p></td>\n",
    "<td><p>Return the last row(s) without any NaNs before <cite>where</cite>.</p></td>\n",
    "</tr>\n",
    "<tr class=\"row-odd\"><td><p><a class=\"reference internal\" href=\"pandas.Series.astype.html#pandas.Series.astype\" title=\"pandas.Series.astype\"><code class=\"xref py py-obj docutils literal notranslate\"><span class=\"pre\">astype</span></code></a>(dtype[,&nbsp;copy,&nbsp;errors])</p></td>\n",
    "<td><p>Cast a pandas object to a specified dtype <code class=\"docutils literal notranslate\"><span class=\"pre\">dtype</span></code>.</p></td>\n",
    "</tr>\n",
    "<tr class=\"row-even\"><td><p><a class=\"reference internal\" href=\"pandas.Series.at_time.html#pandas.Series.at_time\" title=\"pandas.Series.at_time\"><code class=\"xref py py-obj docutils literal notranslate\"><span class=\"pre\">at_time</span></code></a>(time[,&nbsp;asof,&nbsp;axis])</p></td>\n",
    "<td><p>Select values at particular time of day (e.g., 9:30AM).</p></td>\n",
    "</tr>\n",
    "<tr class=\"row-odd\"><td><p><a class=\"reference internal\" href=\"pandas.Series.autocorr.html#pandas.Series.autocorr\" title=\"pandas.Series.autocorr\"><code class=\"xref py py-obj docutils literal notranslate\"><span class=\"pre\">autocorr</span></code></a>([lag])</p></td>\n",
    "<td><p>Compute the lag-N autocorrelation.</p></td>\n",
    "</tr>\n",
    "<tr class=\"row-even\"><td><p><a class=\"reference internal\" href=\"pandas.Series.backfill.html#pandas.Series.backfill\" title=\"pandas.Series.backfill\"><code class=\"xref py py-obj docutils literal notranslate\"><span class=\"pre\">backfill</span></code></a>([axis,&nbsp;inplace,&nbsp;limit,&nbsp;downcast])</p></td>\n",
    "<td><p>Synonym for <a class=\"reference internal\" href=\"pandas.DataFrame.fillna.html#pandas.DataFrame.fillna\" title=\"pandas.DataFrame.fillna\"><code class=\"xref py py-meth docutils literal notranslate\"><span class=\"pre\">DataFrame.fillna()</span></code></a> with <code class=\"docutils literal notranslate\"><span class=\"pre\">method='bfill'</span></code>.</p></td>\n",
    "</tr>\n",
    "<tr class=\"row-odd\"><td><p><a class=\"reference internal\" href=\"pandas.Series.between.html#pandas.Series.between\" title=\"pandas.Series.between\"><code class=\"xref py py-obj docutils literal notranslate\"><span class=\"pre\">between</span></code></a>(left,&nbsp;right[,&nbsp;inclusive])</p></td>\n",
    "<td><p>Return boolean Series equivalent to left &lt;= series &lt;= right.</p></td>\n",
    "</tr>\n",
    "<tr class=\"row-even\"><td><p><a class=\"reference internal\" href=\"pandas.Series.between_time.html#pandas.Series.between_time\" title=\"pandas.Series.between_time\"><code class=\"xref py py-obj docutils literal notranslate\"><span class=\"pre\">between_time</span></code></a>(start_time,&nbsp;end_time[,&nbsp;...])</p></td>\n",
    "<td><p>Select values between particular times of the day (e.g., 9:00-9:30 AM).</p></td>\n",
    "</tr>\n",
    "<tr class=\"row-odd\"><td><p><a class=\"reference internal\" href=\"pandas.Series.bfill.html#pandas.Series.bfill\" title=\"pandas.Series.bfill\"><code class=\"xref py py-obj docutils literal notranslate\"><span class=\"pre\">bfill</span></code></a>([axis,&nbsp;inplace,&nbsp;limit,&nbsp;downcast])</p></td>\n",
    "<td><p>Synonym for <a class=\"reference internal\" href=\"pandas.DataFrame.fillna.html#pandas.DataFrame.fillna\" title=\"pandas.DataFrame.fillna\"><code class=\"xref py py-meth docutils literal notranslate\"><span class=\"pre\">DataFrame.fillna()</span></code></a> with <code class=\"docutils literal notranslate\"><span class=\"pre\">method='bfill'</span></code>.</p></td>\n",
    "</tr>\n",
    "<tr class=\"row-even\"><td><p><a class=\"reference internal\" href=\"pandas.Series.bool.html#pandas.Series.bool\" title=\"pandas.Series.bool\"><code class=\"xref py py-obj docutils literal notranslate\"><span class=\"pre\">bool</span></code></a>()</p></td>\n",
    "<td><p>Return the bool of a single element Series or DataFrame.</p></td>\n",
    "</tr>\n",
    "<tr class=\"row-odd\"><td><p><a class=\"reference internal\" href=\"pandas.Series.cat.html#pandas.Series.cat\" title=\"pandas.Series.cat\"><code class=\"xref py py-obj docutils literal notranslate\"><span class=\"pre\">cat</span></code></a></p></td>\n",
    "<td><p>alias of <code class=\"xref py py-class docutils literal notranslate\"><span class=\"pre\">pandas.core.arrays.categorical.CategoricalAccessor</span></code></p></td>\n",
    "</tr>\n",
    "<tr class=\"row-even\"><td><p><a class=\"reference internal\" href=\"pandas.Series.clip.html#pandas.Series.clip\" title=\"pandas.Series.clip\"><code class=\"xref py py-obj docutils literal notranslate\"><span class=\"pre\">clip</span></code></a>([lower,&nbsp;upper,&nbsp;axis,&nbsp;inplace])</p></td>\n",
    "<td><p>Trim values at input threshold(s).</p></td>\n",
    "</tr>\n",
    "<tr class=\"row-odd\"><td><p><a class=\"reference internal\" href=\"pandas.Series.combine.html#pandas.Series.combine\" title=\"pandas.Series.combine\"><code class=\"xref py py-obj docutils literal notranslate\"><span class=\"pre\">combine</span></code></a>(other,&nbsp;func[,&nbsp;fill_value])</p></td>\n",
    "<td><p>Combine the Series with a Series or scalar according to <cite>func</cite>.</p></td>\n",
    "</tr>\n",
    "<tr class=\"row-even\"><td><p><a class=\"reference internal\" href=\"pandas.Series.combine_first.html#pandas.Series.combine_first\" title=\"pandas.Series.combine_first\"><code class=\"xref py py-obj docutils literal notranslate\"><span class=\"pre\">combine_first</span></code></a>(other)</p></td>\n",
    "<td><p>Update null elements with value in the same location in 'other'.</p></td>\n",
    "</tr>\n",
    "<tr class=\"row-odd\"><td><p><a class=\"reference internal\" href=\"pandas.Series.compare.html#pandas.Series.compare\" title=\"pandas.Series.compare\"><code class=\"xref py py-obj docutils literal notranslate\"><span class=\"pre\">compare</span></code></a>(other[,&nbsp;align_axis,&nbsp;keep_shape,&nbsp;...])</p></td>\n",
    "<td><p>Compare to another Series and show the differences.</p></td>\n",
    "</tr>\n",
    "<tr class=\"row-even\"><td><p><a class=\"reference internal\" href=\"pandas.Series.convert_dtypes.html#pandas.Series.convert_dtypes\" title=\"pandas.Series.convert_dtypes\"><code class=\"xref py py-obj docutils literal notranslate\"><span class=\"pre\">convert_dtypes</span></code></a>([infer_objects,&nbsp;...])</p></td>\n",
    "<td><p>Convert columns to best possible dtypes using dtypes supporting <code class=\"docutils literal notranslate\"><span class=\"pre\">pd.NA</span></code>.</p></td>\n",
    "</tr>\n",
    "<tr class=\"row-odd\"><td><p><a class=\"reference internal\" href=\"pandas.Series.copy.html#pandas.Series.copy\" title=\"pandas.Series.copy\"><code class=\"xref py py-obj docutils literal notranslate\"><span class=\"pre\">copy</span></code></a>([deep])</p></td>\n",
    "<td><p>Make a copy of this object's indices and data.</p></td>\n",
    "</tr>\n",
    "<tr class=\"row-even\"><td><p><a class=\"reference internal\" href=\"pandas.Series.corr.html#pandas.Series.corr\" title=\"pandas.Series.corr\"><code class=\"xref py py-obj docutils literal notranslate\"><span class=\"pre\">corr</span></code></a>(other[,&nbsp;method,&nbsp;min_periods])</p></td>\n",
    "<td><p>Compute correlation with <cite>other</cite> Series, excluding missing values.</p></td>\n",
    "</tr>\n",
    "<tr class=\"row-odd\"><td><p><a class=\"reference internal\" href=\"pandas.Series.count.html#pandas.Series.count\" title=\"pandas.Series.count\"><code class=\"xref py py-obj docutils literal notranslate\"><span class=\"pre\">count</span></code></a>([level])</p></td>\n",
    "<td><p>Return number of non-NA/null observations in the Series.</p></td>\n",
    "</tr>\n",
    "<tr class=\"row-even\"><td><p><a class=\"reference internal\" href=\"pandas.Series.cov.html#pandas.Series.cov\" title=\"pandas.Series.cov\"><code class=\"xref py py-obj docutils literal notranslate\"><span class=\"pre\">cov</span></code></a>(other[,&nbsp;min_periods,&nbsp;ddof])</p></td>\n",
    "<td><p>Compute covariance with Series, excluding missing values.</p></td>\n",
    "</tr>\n",
    "<tr class=\"row-odd\"><td><p><a class=\"reference internal\" href=\"pandas.Series.cummax.html#pandas.Series.cummax\" title=\"pandas.Series.cummax\"><code class=\"xref py py-obj docutils literal notranslate\"><span class=\"pre\">cummax</span></code></a>([axis,&nbsp;skipna])</p></td>\n",
    "<td><p>Return cumulative maximum over a DataFrame or Series axis.</p></td>\n",
    "</tr>\n",
    "<tr class=\"row-even\"><td><p><a class=\"reference internal\" href=\"pandas.Series.cummin.html#pandas.Series.cummin\" title=\"pandas.Series.cummin\"><code class=\"xref py py-obj docutils literal notranslate\"><span class=\"pre\">cummin</span></code></a>([axis,&nbsp;skipna])</p></td>\n",
    "<td><p>Return cumulative minimum over a DataFrame or Series axis.</p></td>\n",
    "</tr>\n",
    "<tr class=\"row-odd\"><td><p><a class=\"reference internal\" href=\"pandas.Series.cumprod.html#pandas.Series.cumprod\" title=\"pandas.Series.cumprod\"><code class=\"xref py py-obj docutils literal notranslate\"><span class=\"pre\">cumprod</span></code></a>([axis,&nbsp;skipna])</p></td>\n",
    "<td><p>Return cumulative product over a DataFrame or Series axis.</p></td>\n",
    "</tr>\n",
    "<tr class=\"row-even\"><td><p><a class=\"reference internal\" href=\"pandas.Series.cumsum.html#pandas.Series.cumsum\" title=\"pandas.Series.cumsum\"><code class=\"xref py py-obj docutils literal notranslate\"><span class=\"pre\">cumsum</span></code></a>([axis,&nbsp;skipna])</p></td>\n",
    "<td><p>Return cumulative sum over a DataFrame or Series axis.</p></td>\n",
    "</tr>\n",
    "<tr class=\"row-odd\"><td><p><a class=\"reference internal\" href=\"pandas.Series.describe.html#pandas.Series.describe\" title=\"pandas.Series.describe\"><code class=\"xref py py-obj docutils literal notranslate\"><span class=\"pre\">describe</span></code></a>([percentiles,&nbsp;include,&nbsp;exclude,&nbsp;...])</p></td>\n",
    "<td><p>Generate descriptive statistics.</p></td>\n",
    "</tr>\n",
    "<tr class=\"row-even\"><td><p><a class=\"reference internal\" href=\"pandas.Series.diff.html#pandas.Series.diff\" title=\"pandas.Series.diff\"><code class=\"xref py py-obj docutils literal notranslate\"><span class=\"pre\">diff</span></code></a>([periods])</p></td>\n",
    "<td><p>First discrete difference of element.</p></td>\n",
    "</tr>\n",
    "<tr class=\"row-odd\"><td><p><a class=\"reference internal\" href=\"pandas.Series.div.html#pandas.Series.div\" title=\"pandas.Series.div\"><code class=\"xref py py-obj docutils literal notranslate\"><span class=\"pre\">div</span></code></a>(other[,&nbsp;level,&nbsp;fill_value,&nbsp;axis])</p></td>\n",
    "<td><p>Return Floating division of series and other, element-wise (binary operator <cite>truediv</cite>).</p></td>\n",
    "</tr>\n",
    "<tr class=\"row-even\"><td><p><a class=\"reference internal\" href=\"pandas.Series.divide.html#pandas.Series.divide\" title=\"pandas.Series.divide\"><code class=\"xref py py-obj docutils literal notranslate\"><span class=\"pre\">divide</span></code></a>(other[,&nbsp;level,&nbsp;fill_value,&nbsp;axis])</p></td>\n",
    "<td><p>Return Floating division of series and other, element-wise (binary operator <cite>truediv</cite>).</p></td>\n",
    "</tr>\n",
    "<tr class=\"row-odd\"><td><p><a class=\"reference internal\" href=\"pandas.Series.divmod.html#pandas.Series.divmod\" title=\"pandas.Series.divmod\"><code class=\"xref py py-obj docutils literal notranslate\"><span class=\"pre\">divmod</span></code></a>(other[,&nbsp;level,&nbsp;fill_value,&nbsp;axis])</p></td>\n",
    "<td><p>Return Integer division and modulo of series and other, element-wise (binary operator <cite>divmod</cite>).</p></td>\n",
    "</tr>\n",
    "<tr class=\"row-even\"><td><p><a class=\"reference internal\" href=\"pandas.Series.dot.html#pandas.Series.dot\" title=\"pandas.Series.dot\"><code class=\"xref py py-obj docutils literal notranslate\"><span class=\"pre\">dot</span></code></a>(other)</p></td>\n",
    "<td><p>Compute the dot product between the Series and the columns of other.</p></td>\n",
    "</tr>\n",
    "<tr class=\"row-odd\"><td><p><a class=\"reference internal\" href=\"pandas.Series.drop.html#pandas.Series.drop\" title=\"pandas.Series.drop\"><code class=\"xref py py-obj docutils literal notranslate\"><span class=\"pre\">drop</span></code></a>([labels,&nbsp;axis,&nbsp;index,&nbsp;columns,&nbsp;level,&nbsp;...])</p></td>\n",
    "<td><p>Return Series with specified index labels removed.</p></td>\n",
    "</tr>\n",
    "<tr class=\"row-even\"><td><p><a class=\"reference internal\" href=\"pandas.Series.drop_duplicates.html#pandas.Series.drop_duplicates\" title=\"pandas.Series.drop_duplicates\"><code class=\"xref py py-obj docutils literal notranslate\"><span class=\"pre\">drop_duplicates</span></code></a>([keep,&nbsp;inplace])</p></td>\n",
    "<td><p>Return Series with duplicate values removed.</p></td>\n",
    "</tr>\n",
    "<tr class=\"row-odd\"><td><p><a class=\"reference internal\" href=\"pandas.Series.droplevel.html#pandas.Series.droplevel\" title=\"pandas.Series.droplevel\"><code class=\"xref py py-obj docutils literal notranslate\"><span class=\"pre\">droplevel</span></code></a>(level[,&nbsp;axis])</p></td>\n",
    "<td><p>Return Series/DataFrame with requested index / column level(s) removed.</p></td>\n",
    "</tr>\n",
    "<tr class=\"row-even\"><td><p><a class=\"reference internal\" href=\"pandas.Series.dropna.html#pandas.Series.dropna\" title=\"pandas.Series.dropna\"><code class=\"xref py py-obj docutils literal notranslate\"><span class=\"pre\">dropna</span></code></a>([axis,&nbsp;inplace,&nbsp;how])</p></td>\n",
    "<td><p>Return a new Series with missing values removed.</p></td>\n",
    "</tr>\n",
    "<tr class=\"row-odd\"><td><p><a class=\"reference internal\" href=\"pandas.Series.dt.html#pandas.Series.dt\" title=\"pandas.Series.dt\"><code class=\"xref py py-obj docutils literal notranslate\"><span class=\"pre\">dt</span></code></a></p></td>\n",
    "<td><p>alias of <code class=\"xref py py-class docutils literal notranslate\"><span class=\"pre\">pandas.core.indexes.accessors.CombinedDatetimelikeProperties</span></code></p></td>\n",
    "</tr>\n",
    "<tr class=\"row-even\"><td><p><a class=\"reference internal\" href=\"pandas.Series.duplicated.html#pandas.Series.duplicated\" title=\"pandas.Series.duplicated\"><code class=\"xref py py-obj docutils literal notranslate\"><span class=\"pre\">duplicated</span></code></a>([keep])</p></td>\n",
    "<td><p>Indicate duplicate Series values.</p></td>\n",
    "</tr>\n",
    "<tr class=\"row-odd\"><td><p><a class=\"reference internal\" href=\"pandas.Series.eq.html#pandas.Series.eq\" title=\"pandas.Series.eq\"><code class=\"xref py py-obj docutils literal notranslate\"><span class=\"pre\">eq</span></code></a>(other[,&nbsp;level,&nbsp;fill_value,&nbsp;axis])</p></td>\n",
    "<td><p>Return Equal to of series and other, element-wise (binary operator <cite>eq</cite>).</p></td>\n",
    "</tr>\n",
    "<tr class=\"row-even\"><td><p><a class=\"reference internal\" href=\"pandas.Series.equals.html#pandas.Series.equals\" title=\"pandas.Series.equals\"><code class=\"xref py py-obj docutils literal notranslate\"><span class=\"pre\">equals</span></code></a>(other)</p></td>\n",
    "<td><p>Test whether two objects contain the same elements.</p></td>\n",
    "</tr>\n",
    "<tr class=\"row-odd\"><td><p><a class=\"reference internal\" href=\"pandas.Series.ewm.html#pandas.Series.ewm\" title=\"pandas.Series.ewm\"><code class=\"xref py py-obj docutils literal notranslate\"><span class=\"pre\">ewm</span></code></a>([com,&nbsp;span,&nbsp;halflife,&nbsp;alpha,&nbsp;...])</p></td>\n",
    "<td><p>Provide exponentially weighted (EW) calculations.</p></td>\n",
    "</tr>\n",
    "<tr class=\"row-even\"><td><p><a class=\"reference internal\" href=\"pandas.Series.expanding.html#pandas.Series.expanding\" title=\"pandas.Series.expanding\"><code class=\"xref py py-obj docutils literal notranslate\"><span class=\"pre\">expanding</span></code></a>([min_periods,&nbsp;center,&nbsp;axis,&nbsp;method])</p></td>\n",
    "<td><p>Provide expanding window calculations.</p></td>\n",
    "</tr>\n",
    "<tr class=\"row-odd\"><td><p><a class=\"reference internal\" href=\"pandas.Series.explode.html#pandas.Series.explode\" title=\"pandas.Series.explode\"><code class=\"xref py py-obj docutils literal notranslate\"><span class=\"pre\">explode</span></code></a>([ignore_index])</p></td>\n",
    "<td><p>Transform each element of a list-like to a row.</p></td>\n",
    "</tr>\n",
    "<tr class=\"row-even\"><td><p><a class=\"reference internal\" href=\"pandas.Series.factorize.html#pandas.Series.factorize\" title=\"pandas.Series.factorize\"><code class=\"xref py py-obj docutils literal notranslate\"><span class=\"pre\">factorize</span></code></a>([sort,&nbsp;na_sentinel,&nbsp;use_na_sentinel])</p></td>\n",
    "<td><p>Encode the object as an enumerated type or categorical variable.</p></td>\n",
    "</tr>\n",
    "<tr class=\"row-odd\"><td><p><a class=\"reference internal\" href=\"pandas.Series.ffill.html#pandas.Series.ffill\" title=\"pandas.Series.ffill\"><code class=\"xref py py-obj docutils literal notranslate\"><span class=\"pre\">ffill</span></code></a>([axis,&nbsp;inplace,&nbsp;limit,&nbsp;downcast])</p></td>\n",
    "<td><p>Synonym for <a class=\"reference internal\" href=\"pandas.DataFrame.fillna.html#pandas.DataFrame.fillna\" title=\"pandas.DataFrame.fillna\"><code class=\"xref py py-meth docutils literal notranslate\"><span class=\"pre\">DataFrame.fillna()</span></code></a> with <code class=\"docutils literal notranslate\"><span class=\"pre\">method='ffill'</span></code>.</p></td>\n",
    "</tr>\n",
    "<tr class=\"row-even\"><td><p><a class=\"reference internal\" href=\"pandas.Series.fillna.html#pandas.Series.fillna\" title=\"pandas.Series.fillna\"><code class=\"xref py py-obj docutils literal notranslate\"><span class=\"pre\">fillna</span></code></a>([value,&nbsp;method,&nbsp;axis,&nbsp;inplace,&nbsp;...])</p></td>\n",
    "<td><p>Fill NA/NaN values using the specified method.</p></td>\n",
    "</tr>\n",
    "<tr class=\"row-odd\"><td><p><a class=\"reference internal\" href=\"pandas.Series.filter.html#pandas.Series.filter\" title=\"pandas.Series.filter\"><code class=\"xref py py-obj docutils literal notranslate\"><span class=\"pre\">filter</span></code></a>([items,&nbsp;like,&nbsp;regex,&nbsp;axis])</p></td>\n",
    "<td><p>Subset the dataframe rows or columns according to the specified index labels.</p></td>\n",
    "</tr>\n",
    "<tr class=\"row-even\"><td><p><a class=\"reference internal\" href=\"pandas.Series.first.html#pandas.Series.first\" title=\"pandas.Series.first\"><code class=\"xref py py-obj docutils literal notranslate\"><span class=\"pre\">first</span></code></a>(offset)</p></td>\n",
    "<td><p>Select initial periods of time series data based on a date offset.</p></td>\n",
    "</tr>\n",
    "<tr class=\"row-odd\"><td><p><a class=\"reference internal\" href=\"pandas.Series.first_valid_index.html#pandas.Series.first_valid_index\" title=\"pandas.Series.first_valid_index\"><code class=\"xref py py-obj docutils literal notranslate\"><span class=\"pre\">first_valid_index</span></code></a>()</p></td>\n",
    "<td><p>Return index for first non-NA value or None, if no non-NA value is found.</p></td>\n",
    "</tr>\n",
    "<tr class=\"row-even\"><td><p><a class=\"reference internal\" href=\"pandas.Series.floordiv.html#pandas.Series.floordiv\" title=\"pandas.Series.floordiv\"><code class=\"xref py py-obj docutils literal notranslate\"><span class=\"pre\">floordiv</span></code></a>(other[,&nbsp;level,&nbsp;fill_value,&nbsp;axis])</p></td>\n",
    "<td><p>Return Integer division of series and other, element-wise (binary operator <cite>floordiv</cite>).</p></td>\n",
    "</tr>\n",
    "<tr class=\"row-odd\"><td><p><a class=\"reference internal\" href=\"pandas.Series.ge.html#pandas.Series.ge\" title=\"pandas.Series.ge\"><code class=\"xref py py-obj docutils literal notranslate\"><span class=\"pre\">ge</span></code></a>(other[,&nbsp;level,&nbsp;fill_value,&nbsp;axis])</p></td>\n",
    "<td><p>Return Greater than or equal to of series and other, element-wise (binary operator <cite>ge</cite>).</p></td>\n",
    "</tr>\n",
    "<tr class=\"row-even\"><td><p><a class=\"reference internal\" href=\"pandas.Series.get.html#pandas.Series.get\" title=\"pandas.Series.get\"><code class=\"xref py py-obj docutils literal notranslate\"><span class=\"pre\">get</span></code></a>(key[,&nbsp;default])</p></td>\n",
    "<td><p>Get item from object for given key (ex: DataFrame column).</p></td>\n",
    "</tr>\n",
    "<tr class=\"row-odd\"><td><p><a class=\"reference internal\" href=\"pandas.Series.groupby.html#pandas.Series.groupby\" title=\"pandas.Series.groupby\"><code class=\"xref py py-obj docutils literal notranslate\"><span class=\"pre\">groupby</span></code></a>([by,&nbsp;axis,&nbsp;level,&nbsp;as_index,&nbsp;sort,&nbsp;...])</p></td>\n",
    "<td><p>Group Series using a mapper or by a Series of columns.</p></td>\n",
    "</tr>\n",
    "<tr class=\"row-even\"><td><p><a class=\"reference internal\" href=\"pandas.Series.gt.html#pandas.Series.gt\" title=\"pandas.Series.gt\"><code class=\"xref py py-obj docutils literal notranslate\"><span class=\"pre\">gt</span></code></a>(other[,&nbsp;level,&nbsp;fill_value,&nbsp;axis])</p></td>\n",
    "<td><p>Return Greater than of series and other, element-wise (binary operator <cite>gt</cite>).</p></td>\n",
    "</tr>\n",
    "<tr class=\"row-odd\"><td><p><a class=\"reference internal\" href=\"pandas.Series.head.html#pandas.Series.head\" title=\"pandas.Series.head\"><code class=\"xref py py-obj docutils literal notranslate\"><span class=\"pre\">head</span></code></a>([n])</p></td>\n",
    "<td><p>Return the first <cite>n</cite> rows.</p></td>\n",
    "</tr>\n",
    "<tr class=\"row-even\"><td><p><a class=\"reference internal\" href=\"pandas.Series.hist.html#pandas.Series.hist\" title=\"pandas.Series.hist\"><code class=\"xref py py-obj docutils literal notranslate\"><span class=\"pre\">hist</span></code></a>([by,&nbsp;ax,&nbsp;grid,&nbsp;xlabelsize,&nbsp;xrot,&nbsp;...])</p></td>\n",
    "<td><p>Draw histogram of the input series using matplotlib.</p></td>\n",
    "</tr>\n",
    "<tr class=\"row-odd\"><td><p><a class=\"reference internal\" href=\"pandas.Series.idxmax.html#pandas.Series.idxmax\" title=\"pandas.Series.idxmax\"><code class=\"xref py py-obj docutils literal notranslate\"><span class=\"pre\">idxmax</span></code></a>([axis,&nbsp;skipna])</p></td>\n",
    "<td><p>Return the row label of the maximum value.</p></td>\n",
    "</tr>\n",
    "<tr class=\"row-even\"><td><p><a class=\"reference internal\" href=\"pandas.Series.idxmin.html#pandas.Series.idxmin\" title=\"pandas.Series.idxmin\"><code class=\"xref py py-obj docutils literal notranslate\"><span class=\"pre\">idxmin</span></code></a>([axis,&nbsp;skipna])</p></td>\n",
    "<td><p>Return the row label of the minimum value.</p></td>\n",
    "</tr>\n",
    "<tr class=\"row-odd\"><td><p><a class=\"reference internal\" href=\"pandas.Series.infer_objects.html#pandas.Series.infer_objects\" title=\"pandas.Series.infer_objects\"><code class=\"xref py py-obj docutils literal notranslate\"><span class=\"pre\">infer_objects</span></code></a>()</p></td>\n",
    "<td><p>Attempt to infer better dtypes for object columns.</p></td>\n",
    "</tr>\n",
    "<tr class=\"row-even\"><td><p><a class=\"reference internal\" href=\"pandas.Series.info.html#pandas.Series.info\" title=\"pandas.Series.info\"><code class=\"xref py py-obj docutils literal notranslate\"><span class=\"pre\">info</span></code></a>([verbose,&nbsp;buf,&nbsp;max_cols,&nbsp;memory_usage,&nbsp;...])</p></td>\n",
    "<td><p>Print a concise summary of a Series.</p></td>\n",
    "</tr>\n",
    "<tr class=\"row-odd\"><td><p><a class=\"reference internal\" href=\"pandas.Series.interpolate.html#pandas.Series.interpolate\" title=\"pandas.Series.interpolate\"><code class=\"xref py py-obj docutils literal notranslate\"><span class=\"pre\">interpolate</span></code></a>([method,&nbsp;axis,&nbsp;limit,&nbsp;inplace,&nbsp;...])</p></td>\n",
    "<td><p>Fill NaN values using an interpolation method.</p></td>\n",
    "</tr>\n",
    "<tr class=\"row-even\"><td><p><a class=\"reference internal\" href=\"pandas.Series.isin.html#pandas.Series.isin\" title=\"pandas.Series.isin\"><code class=\"xref py py-obj docutils literal notranslate\"><span class=\"pre\">isin</span></code></a>(values)</p></td>\n",
    "<td><p>Whether elements in Series are contained in <cite>values</cite>.</p></td>\n",
    "</tr>\n",
    "<tr class=\"row-odd\"><td><p><a class=\"reference internal\" href=\"pandas.Series.isna.html#pandas.Series.isna\" title=\"pandas.Series.isna\"><code class=\"xref py py-obj docutils literal notranslate\"><span class=\"pre\">isna</span></code></a>()</p></td>\n",
    "<td><p>Detect missing values.</p></td>\n",
    "</tr>\n",
    "<tr class=\"row-even\"><td><p><a class=\"reference internal\" href=\"pandas.Series.isnull.html#pandas.Series.isnull\" title=\"pandas.Series.isnull\"><code class=\"xref py py-obj docutils literal notranslate\"><span class=\"pre\">isnull</span></code></a>()</p></td>\n",
    "<td><p>Series.isnull is an alias for Series.isna.</p></td>\n",
    "</tr>\n",
    "<tr class=\"row-odd\"><td><p><a class=\"reference internal\" href=\"pandas.Series.item.html#pandas.Series.item\" title=\"pandas.Series.item\"><code class=\"xref py py-obj docutils literal notranslate\"><span class=\"pre\">item</span></code></a>()</p></td>\n",
    "<td><p>Return the first element of the underlying data as a Python scalar.</p></td>\n",
    "</tr>\n",
    "<tr class=\"row-even\"><td><p><a class=\"reference internal\" href=\"pandas.Series.items.html#pandas.Series.items\" title=\"pandas.Series.items\"><code class=\"xref py py-obj docutils literal notranslate\"><span class=\"pre\">items</span></code></a>()</p></td>\n",
    "<td><p>Lazily iterate over (index, value) tuples.</p></td>\n",
    "</tr>\n",
    "<tr class=\"row-odd\"><td><p><a class=\"reference internal\" href=\"pandas.Series.iteritems.html#pandas.Series.iteritems\" title=\"pandas.Series.iteritems\"><code class=\"xref py py-obj docutils literal notranslate\"><span class=\"pre\">iteritems</span></code></a>()</p></td>\n",
    "<td><p>(DEPRECATED) Lazily iterate over (index, value) tuples.</p></td>\n",
    "</tr>\n",
    "<tr class=\"row-even\"><td><p><a class=\"reference internal\" href=\"pandas.Series.keys.html#pandas.Series.keys\" title=\"pandas.Series.keys\"><code class=\"xref py py-obj docutils literal notranslate\"><span class=\"pre\">keys</span></code></a>()</p></td>\n",
    "<td><p>Return alias for index.</p></td>\n",
    "</tr>\n",
    "<tr class=\"row-odd\"><td><p><a class=\"reference internal\" href=\"pandas.Series.kurt.html#pandas.Series.kurt\" title=\"pandas.Series.kurt\"><code class=\"xref py py-obj docutils literal notranslate\"><span class=\"pre\">kurt</span></code></a>([axis,&nbsp;skipna,&nbsp;level,&nbsp;numeric_only])</p></td>\n",
    "<td><p>Return unbiased kurtosis over requested axis.</p></td>\n",
    "</tr>\n",
    "<tr class=\"row-even\"><td><p><a class=\"reference internal\" href=\"pandas.Series.kurtosis.html#pandas.Series.kurtosis\" title=\"pandas.Series.kurtosis\"><code class=\"xref py py-obj docutils literal notranslate\"><span class=\"pre\">kurtosis</span></code></a>([axis,&nbsp;skipna,&nbsp;level,&nbsp;numeric_only])</p></td>\n",
    "<td><p>Return unbiased kurtosis over requested axis.</p></td>\n",
    "</tr>\n",
    "<tr class=\"row-odd\"><td><p><a class=\"reference internal\" href=\"pandas.Series.last.html#pandas.Series.last\" title=\"pandas.Series.last\"><code class=\"xref py py-obj docutils literal notranslate\"><span class=\"pre\">last</span></code></a>(offset)</p></td>\n",
    "<td><p>Select final periods of time series data based on a date offset.</p></td>\n",
    "</tr>\n",
    "<tr class=\"row-even\"><td><p><a class=\"reference internal\" href=\"pandas.Series.last_valid_index.html#pandas.Series.last_valid_index\" title=\"pandas.Series.last_valid_index\"><code class=\"xref py py-obj docutils literal notranslate\"><span class=\"pre\">last_valid_index</span></code></a>()</p></td>\n",
    "<td><p>Return index for last non-NA value or None, if no non-NA value is found.</p></td>\n",
    "</tr>\n",
    "<tr class=\"row-odd\"><td><p><a class=\"reference internal\" href=\"pandas.Series.le.html#pandas.Series.le\" title=\"pandas.Series.le\"><code class=\"xref py py-obj docutils literal notranslate\"><span class=\"pre\">le</span></code></a>(other[,&nbsp;level,&nbsp;fill_value,&nbsp;axis])</p></td>\n",
    "<td><p>Return Less than or equal to of series and other, element-wise (binary operator <cite>le</cite>).</p></td>\n",
    "</tr>\n",
    "<tr class=\"row-even\"><td><p><a class=\"reference internal\" href=\"pandas.Series.lt.html#pandas.Series.lt\" title=\"pandas.Series.lt\"><code class=\"xref py py-obj docutils literal notranslate\"><span class=\"pre\">lt</span></code></a>(other[,&nbsp;level,&nbsp;fill_value,&nbsp;axis])</p></td>\n",
    "<td><p>Return Less than of series and other, element-wise (binary operator <cite>lt</cite>).</p></td>\n",
    "</tr>\n",
    "<tr class=\"row-odd\"><td><p><a class=\"reference internal\" href=\"pandas.Series.mad.html#pandas.Series.mad\" title=\"pandas.Series.mad\"><code class=\"xref py py-obj docutils literal notranslate\"><span class=\"pre\">mad</span></code></a>([axis,&nbsp;skipna,&nbsp;level])</p></td>\n",
    "<td><p>(DEPRECATED) Return the mean absolute deviation of the values over the requested axis.</p></td>\n",
    "</tr>\n",
    "<tr class=\"row-even\"><td><p><a class=\"reference internal\" href=\"pandas.Series.map.html#pandas.Series.map\" title=\"pandas.Series.map\"><code class=\"xref py py-obj docutils literal notranslate\"><span class=\"pre\">map</span></code></a>(arg[,&nbsp;na_action])</p></td>\n",
    "<td><p>Map values of Series according to an input mapping or function.</p></td>\n",
    "</tr>\n",
    "<tr class=\"row-odd\"><td><p><a class=\"reference internal\" href=\"pandas.Series.mask.html#pandas.Series.mask\" title=\"pandas.Series.mask\"><code class=\"xref py py-obj docutils literal notranslate\"><span class=\"pre\">mask</span></code></a>(cond[,&nbsp;other,&nbsp;inplace,&nbsp;axis,&nbsp;level,&nbsp;...])</p></td>\n",
    "<td><p>Replace values where the condition is True.</p></td>\n",
    "</tr>\n",
    "<tr class=\"row-even\"><td><p><a class=\"reference internal\" href=\"pandas.Series.max.html#pandas.Series.max\" title=\"pandas.Series.max\"><code class=\"xref py py-obj docutils literal notranslate\"><span class=\"pre\">max</span></code></a>([axis,&nbsp;skipna,&nbsp;level,&nbsp;numeric_only])</p></td>\n",
    "<td><p>Return the maximum of the values over the requested axis.</p></td>\n",
    "</tr>\n",
    "<tr class=\"row-odd\"><td><p><a class=\"reference internal\" href=\"pandas.Series.mean.html#pandas.Series.mean\" title=\"pandas.Series.mean\"><code class=\"xref py py-obj docutils literal notranslate\"><span class=\"pre\">mean</span></code></a>([axis,&nbsp;skipna,&nbsp;level,&nbsp;numeric_only])</p></td>\n",
    "<td><p>Return the mean of the values over the requested axis.</p></td>\n",
    "</tr>\n",
    "<tr class=\"row-even\"><td><p><a class=\"reference internal\" href=\"pandas.Series.median.html#pandas.Series.median\" title=\"pandas.Series.median\"><code class=\"xref py py-obj docutils literal notranslate\"><span class=\"pre\">median</span></code></a>([axis,&nbsp;skipna,&nbsp;level,&nbsp;numeric_only])</p></td>\n",
    "<td><p>Return the median of the values over the requested axis.</p></td>\n",
    "</tr>\n",
    "<tr class=\"row-odd\"><td><p><a class=\"reference internal\" href=\"pandas.Series.memory_usage.html#pandas.Series.memory_usage\" title=\"pandas.Series.memory_usage\"><code class=\"xref py py-obj docutils literal notranslate\"><span class=\"pre\">memory_usage</span></code></a>([index,&nbsp;deep])</p></td>\n",
    "<td><p>Return the memory usage of the Series.</p></td>\n",
    "</tr>\n",
    "<tr class=\"row-even\"><td><p><a class=\"reference internal\" href=\"pandas.Series.min.html#pandas.Series.min\" title=\"pandas.Series.min\"><code class=\"xref py py-obj docutils literal notranslate\"><span class=\"pre\">min</span></code></a>([axis,&nbsp;skipna,&nbsp;level,&nbsp;numeric_only])</p></td>\n",
    "<td><p>Return the minimum of the values over the requested axis.</p></td>\n",
    "</tr>\n",
    "<tr class=\"row-odd\"><td><p><a class=\"reference internal\" href=\"pandas.Series.mod.html#pandas.Series.mod\" title=\"pandas.Series.mod\"><code class=\"xref py py-obj docutils literal notranslate\"><span class=\"pre\">mod</span></code></a>(other[,&nbsp;level,&nbsp;fill_value,&nbsp;axis])</p></td>\n",
    "<td><p>Return Modulo of series and other, element-wise (binary operator <cite>mod</cite>).</p></td>\n",
    "</tr>\n",
    "<tr class=\"row-even\"><td><p><a class=\"reference internal\" href=\"pandas.Series.mode.html#pandas.Series.mode\" title=\"pandas.Series.mode\"><code class=\"xref py py-obj docutils literal notranslate\"><span class=\"pre\">mode</span></code></a>([dropna])</p></td>\n",
    "<td><p>Return the mode(s) of the Series.</p></td>\n",
    "</tr>\n",
    "<tr class=\"row-odd\"><td><p><a class=\"reference internal\" href=\"pandas.Series.mul.html#pandas.Series.mul\" title=\"pandas.Series.mul\"><code class=\"xref py py-obj docutils literal notranslate\"><span class=\"pre\">mul</span></code></a>(other[,&nbsp;level,&nbsp;fill_value,&nbsp;axis])</p></td>\n",
    "<td><p>Return Multiplication of series and other, element-wise (binary operator <cite>mul</cite>).</p></td>\n",
    "</tr>\n",
    "<tr class=\"row-even\"><td><p><a class=\"reference internal\" href=\"pandas.Series.multiply.html#pandas.Series.multiply\" title=\"pandas.Series.multiply\"><code class=\"xref py py-obj docutils literal notranslate\"><span class=\"pre\">multiply</span></code></a>(other[,&nbsp;level,&nbsp;fill_value,&nbsp;axis])</p></td>\n",
    "<td><p>Return Multiplication of series and other, element-wise (binary operator <cite>mul</cite>).</p></td>\n",
    "</tr>\n",
    "<tr class=\"row-odd\"><td><p><a class=\"reference internal\" href=\"pandas.Series.ne.html#pandas.Series.ne\" title=\"pandas.Series.ne\"><code class=\"xref py py-obj docutils literal notranslate\"><span class=\"pre\">ne</span></code></a>(other[,&nbsp;level,&nbsp;fill_value,&nbsp;axis])</p></td>\n",
    "<td><p>Return Not equal to of series and other, element-wise (binary operator <cite>ne</cite>).</p></td>\n",
    "</tr>\n",
    "<tr class=\"row-even\"><td><p><a class=\"reference internal\" href=\"pandas.Series.nlargest.html#pandas.Series.nlargest\" title=\"pandas.Series.nlargest\"><code class=\"xref py py-obj docutils literal notranslate\"><span class=\"pre\">nlargest</span></code></a>([n,&nbsp;keep])</p></td>\n",
    "<td><p>Return the largest <cite>n</cite> elements.</p></td>\n",
    "</tr>\n",
    "<tr class=\"row-odd\"><td><p><a class=\"reference internal\" href=\"pandas.Series.notna.html#pandas.Series.notna\" title=\"pandas.Series.notna\"><code class=\"xref py py-obj docutils literal notranslate\"><span class=\"pre\">notna</span></code></a>()</p></td>\n",
    "<td><p>Detect existing (non-missing) values.</p></td>\n",
    "</tr>\n",
    "<tr class=\"row-even\"><td><p><a class=\"reference internal\" href=\"pandas.Series.notnull.html#pandas.Series.notnull\" title=\"pandas.Series.notnull\"><code class=\"xref py py-obj docutils literal notranslate\"><span class=\"pre\">notnull</span></code></a>()</p></td>\n",
    "<td><p>Series.notnull is an alias for Series.notna.</p></td>\n",
    "</tr>\n",
    "<tr class=\"row-odd\"><td><p><a class=\"reference internal\" href=\"pandas.Series.nsmallest.html#pandas.Series.nsmallest\" title=\"pandas.Series.nsmallest\"><code class=\"xref py py-obj docutils literal notranslate\"><span class=\"pre\">nsmallest</span></code></a>([n,&nbsp;keep])</p></td>\n",
    "<td><p>Return the smallest <cite>n</cite> elements.</p></td>\n",
    "</tr>\n",
    "<tr class=\"row-even\"><td><p><a class=\"reference internal\" href=\"pandas.Series.nunique.html#pandas.Series.nunique\" title=\"pandas.Series.nunique\"><code class=\"xref py py-obj docutils literal notranslate\"><span class=\"pre\">nunique</span></code></a>([dropna])</p></td>\n",
    "<td><p>Return number of unique elements in the object.</p></td>\n",
    "</tr>\n",
    "<tr class=\"row-odd\"><td><p><a class=\"reference internal\" href=\"pandas.Series.pad.html#pandas.Series.pad\" title=\"pandas.Series.pad\"><code class=\"xref py py-obj docutils literal notranslate\"><span class=\"pre\">pad</span></code></a>([axis,&nbsp;inplace,&nbsp;limit,&nbsp;downcast])</p></td>\n",
    "<td><p>Synonym for <a class=\"reference internal\" href=\"pandas.DataFrame.fillna.html#pandas.DataFrame.fillna\" title=\"pandas.DataFrame.fillna\"><code class=\"xref py py-meth docutils literal notranslate\"><span class=\"pre\">DataFrame.fillna()</span></code></a> with <code class=\"docutils literal notranslate\"><span class=\"pre\">method='ffill'</span></code>.</p></td>\n",
    "</tr>\n",
    "<tr class=\"row-even\"><td><p><a class=\"reference internal\" href=\"pandas.Series.pct_change.html#pandas.Series.pct_change\" title=\"pandas.Series.pct_change\"><code class=\"xref py py-obj docutils literal notranslate\"><span class=\"pre\">pct_change</span></code></a>([periods,&nbsp;fill_method,&nbsp;limit,&nbsp;freq])</p></td>\n",
    "<td><p>Percentage change between the current and a prior element.</p></td>\n",
    "</tr>\n",
    "<tr class=\"row-odd\"><td><p><a class=\"reference internal\" href=\"pandas.Series.pipe.html#pandas.Series.pipe\" title=\"pandas.Series.pipe\"><code class=\"xref py py-obj docutils literal notranslate\"><span class=\"pre\">pipe</span></code></a>(func,&nbsp;*args,&nbsp;**kwargs)</p></td>\n",
    "<td><p>Apply chainable functions that expect Series or DataFrames.</p></td>\n",
    "</tr>\n",
    "<tr class=\"row-even\"><td><p><a class=\"reference internal\" href=\"pandas.Series.plot.html#pandas.Series.plot\" title=\"pandas.Series.plot\"><code class=\"xref py py-obj docutils literal notranslate\"><span class=\"pre\">plot</span></code></a></p></td>\n",
    "<td><p>alias of <code class=\"xref py py-class docutils literal notranslate\"><span class=\"pre\">pandas.plotting._core.PlotAccessor</span></code></p></td>\n",
    "</tr>\n",
    "<tr class=\"row-odd\"><td><p><a class=\"reference internal\" href=\"pandas.Series.pop.html#pandas.Series.pop\" title=\"pandas.Series.pop\"><code class=\"xref py py-obj docutils literal notranslate\"><span class=\"pre\">pop</span></code></a>(item)</p></td>\n",
    "<td><p>Return item and drops from series.</p></td>\n",
    "</tr>\n",
    "<tr class=\"row-even\"><td><p><a class=\"reference internal\" href=\"pandas.Series.pow.html#pandas.Series.pow\" title=\"pandas.Series.pow\"><code class=\"xref py py-obj docutils literal notranslate\"><span class=\"pre\">pow</span></code></a>(other[,&nbsp;level,&nbsp;fill_value,&nbsp;axis])</p></td>\n",
    "<td><p>Return Exponential power of series and other, element-wise (binary operator <cite>pow</cite>).</p></td>\n",
    "</tr>\n",
    "<tr class=\"row-odd\"><td><p><a class=\"reference internal\" href=\"pandas.Series.prod.html#pandas.Series.prod\" title=\"pandas.Series.prod\"><code class=\"xref py py-obj docutils literal notranslate\"><span class=\"pre\">prod</span></code></a>([axis,&nbsp;skipna,&nbsp;level,&nbsp;numeric_only,&nbsp;...])</p></td>\n",
    "<td><p>Return the product of the values over the requested axis.</p></td>\n",
    "</tr>\n",
    "<tr class=\"row-even\"><td><p><a class=\"reference internal\" href=\"pandas.Series.product.html#pandas.Series.product\" title=\"pandas.Series.product\"><code class=\"xref py py-obj docutils literal notranslate\"><span class=\"pre\">product</span></code></a>([axis,&nbsp;skipna,&nbsp;level,&nbsp;numeric_only,&nbsp;...])</p></td>\n",
    "<td><p>Return the product of the values over the requested axis.</p></td>\n",
    "</tr>\n",
    "<tr class=\"row-odd\"><td><p><a class=\"reference internal\" href=\"pandas.Series.quantile.html#pandas.Series.quantile\" title=\"pandas.Series.quantile\"><code class=\"xref py py-obj docutils literal notranslate\"><span class=\"pre\">quantile</span></code></a>([q,&nbsp;interpolation])</p></td>\n",
    "<td><p>Return value at the given quantile.</p></td>\n",
    "</tr>\n",
    "<tr class=\"row-even\"><td><p><a class=\"reference internal\" href=\"pandas.Series.radd.html#pandas.Series.radd\" title=\"pandas.Series.radd\"><code class=\"xref py py-obj docutils literal notranslate\"><span class=\"pre\">radd</span></code></a>(other[,&nbsp;level,&nbsp;fill_value,&nbsp;axis])</p></td>\n",
    "<td><p>Return Addition of series and other, element-wise (binary operator <cite>radd</cite>).</p></td>\n",
    "</tr>\n",
    "<tr class=\"row-odd\"><td><p><a class=\"reference internal\" href=\"pandas.Series.rank.html#pandas.Series.rank\" title=\"pandas.Series.rank\"><code class=\"xref py py-obj docutils literal notranslate\"><span class=\"pre\">rank</span></code></a>([axis,&nbsp;method,&nbsp;numeric_only,&nbsp;...])</p></td>\n",
    "<td><p>Compute numerical data ranks (1 through n) along axis.</p></td>\n",
    "</tr>\n",
    "<tr class=\"row-even\"><td><p><a class=\"reference internal\" href=\"pandas.Series.ravel.html#pandas.Series.ravel\" title=\"pandas.Series.ravel\"><code class=\"xref py py-obj docutils literal notranslate\"><span class=\"pre\">ravel</span></code></a>([order])</p></td>\n",
    "<td><p>Return the flattened underlying data as an ndarray.</p></td>\n",
    "</tr>\n",
    "<tr class=\"row-odd\"><td><p><a class=\"reference internal\" href=\"pandas.Series.rdiv.html#pandas.Series.rdiv\" title=\"pandas.Series.rdiv\"><code class=\"xref py py-obj docutils literal notranslate\"><span class=\"pre\">rdiv</span></code></a>(other[,&nbsp;level,&nbsp;fill_value,&nbsp;axis])</p></td>\n",
    "<td><p>Return Floating division of series and other, element-wise (binary operator <cite>rtruediv</cite>).</p></td>\n",
    "</tr>\n",
    "<tr class=\"row-even\"><td><p><a class=\"reference internal\" href=\"pandas.Series.rdivmod.html#pandas.Series.rdivmod\" title=\"pandas.Series.rdivmod\"><code class=\"xref py py-obj docutils literal notranslate\"><span class=\"pre\">rdivmod</span></code></a>(other[,&nbsp;level,&nbsp;fill_value,&nbsp;axis])</p></td>\n",
    "<td><p>Return Integer division and modulo of series and other, element-wise (binary operator <cite>rdivmod</cite>).</p></td>\n",
    "</tr>\n",
    "<tr class=\"row-odd\"><td><p><a class=\"reference internal\" href=\"pandas.Series.reindex.html#pandas.Series.reindex\" title=\"pandas.Series.reindex\"><code class=\"xref py py-obj docutils literal notranslate\"><span class=\"pre\">reindex</span></code></a>(*args,&nbsp;**kwargs)</p></td>\n",
    "<td><p>Conform Series to new index with optional filling logic.</p></td>\n",
    "</tr>\n",
    "<tr class=\"row-even\"><td><p><a class=\"reference internal\" href=\"pandas.Series.reindex_like.html#pandas.Series.reindex_like\" title=\"pandas.Series.reindex_like\"><code class=\"xref py py-obj docutils literal notranslate\"><span class=\"pre\">reindex_like</span></code></a>(other[,&nbsp;method,&nbsp;copy,&nbsp;limit,&nbsp;...])</p></td>\n",
    "<td><p>Return an object with matching indices as other object.</p></td>\n",
    "</tr>\n",
    "<tr class=\"row-odd\"><td><p><a class=\"reference internal\" href=\"pandas.Series.rename.html#pandas.Series.rename\" title=\"pandas.Series.rename\"><code class=\"xref py py-obj docutils literal notranslate\"><span class=\"pre\">rename</span></code></a>([index,&nbsp;axis,&nbsp;copy,&nbsp;inplace,&nbsp;level,&nbsp;...])</p></td>\n",
    "<td><p>Alter Series index labels or name.</p></td>\n",
    "</tr>\n",
    "<tr class=\"row-even\"><td><p><a class=\"reference internal\" href=\"pandas.Series.rename_axis.html#pandas.Series.rename_axis\" title=\"pandas.Series.rename_axis\"><code class=\"xref py py-obj docutils literal notranslate\"><span class=\"pre\">rename_axis</span></code></a>([mapper,&nbsp;index,&nbsp;columns,&nbsp;axis,&nbsp;copy])</p></td>\n",
    "<td><p>Set the name of the axis for the index or columns.</p></td>\n",
    "</tr>\n",
    "<tr class=\"row-odd\"><td><p><a class=\"reference internal\" href=\"pandas.Series.reorder_levels.html#pandas.Series.reorder_levels\" title=\"pandas.Series.reorder_levels\"><code class=\"xref py py-obj docutils literal notranslate\"><span class=\"pre\">reorder_levels</span></code></a>(order)</p></td>\n",
    "<td><p>Rearrange index levels using input order.</p></td>\n",
    "</tr>\n",
    "<tr class=\"row-even\"><td><p><a class=\"reference internal\" href=\"pandas.Series.repeat.html#pandas.Series.repeat\" title=\"pandas.Series.repeat\"><code class=\"xref py py-obj docutils literal notranslate\"><span class=\"pre\">repeat</span></code></a>(repeats[,&nbsp;axis])</p></td>\n",
    "<td><p>Repeat elements of a Series.</p></td>\n",
    "</tr>\n",
    "<tr class=\"row-odd\"><td><p><a class=\"reference internal\" href=\"pandas.Series.replace.html#pandas.Series.replace\" title=\"pandas.Series.replace\"><code class=\"xref py py-obj docutils literal notranslate\"><span class=\"pre\">replace</span></code></a>([to_replace,&nbsp;value,&nbsp;inplace,&nbsp;limit,&nbsp;...])</p></td>\n",
    "<td><p>Replace values given in <cite>to_replace</cite> with <cite>value</cite>.</p></td>\n",
    "</tr>\n",
    "<tr class=\"row-even\"><td><p><a class=\"reference internal\" href=\"pandas.Series.resample.html#pandas.Series.resample\" title=\"pandas.Series.resample\"><code class=\"xref py py-obj docutils literal notranslate\"><span class=\"pre\">resample</span></code></a>(rule[,&nbsp;axis,&nbsp;closed,&nbsp;label,&nbsp;...])</p></td>\n",
    "<td><p>Resample time-series data.</p></td>\n",
    "</tr>\n",
    "<tr class=\"row-odd\"><td><p><a class=\"reference internal\" href=\"pandas.Series.reset_index.html#pandas.Series.reset_index\" title=\"pandas.Series.reset_index\"><code class=\"xref py py-obj docutils literal notranslate\"><span class=\"pre\">reset_index</span></code></a>([level,&nbsp;drop,&nbsp;name,&nbsp;inplace,&nbsp;...])</p></td>\n",
    "<td><p>Generate a new DataFrame or Series with the index reset.</p></td>\n",
    "</tr>\n",
    "<tr class=\"row-even\"><td><p><a class=\"reference internal\" href=\"pandas.Series.rfloordiv.html#pandas.Series.rfloordiv\" title=\"pandas.Series.rfloordiv\"><code class=\"xref py py-obj docutils literal notranslate\"><span class=\"pre\">rfloordiv</span></code></a>(other[,&nbsp;level,&nbsp;fill_value,&nbsp;axis])</p></td>\n",
    "<td><p>Return Integer division of series and other, element-wise (binary operator <cite>rfloordiv</cite>).</p></td>\n",
    "</tr>\n",
    "<tr class=\"row-odd\"><td><p><a class=\"reference internal\" href=\"pandas.Series.rmod.html#pandas.Series.rmod\" title=\"pandas.Series.rmod\"><code class=\"xref py py-obj docutils literal notranslate\"><span class=\"pre\">rmod</span></code></a>(other[,&nbsp;level,&nbsp;fill_value,&nbsp;axis])</p></td>\n",
    "<td><p>Return Modulo of series and other, element-wise (binary operator <cite>rmod</cite>).</p></td>\n",
    "</tr>\n",
    "<tr class=\"row-even\"><td><p><a class=\"reference internal\" href=\"pandas.Series.rmul.html#pandas.Series.rmul\" title=\"pandas.Series.rmul\"><code class=\"xref py py-obj docutils literal notranslate\"><span class=\"pre\">rmul</span></code></a>(other[,&nbsp;level,&nbsp;fill_value,&nbsp;axis])</p></td>\n",
    "<td><p>Return Multiplication of series and other, element-wise (binary operator <cite>rmul</cite>).</p></td>\n",
    "</tr>\n",
    "<tr class=\"row-odd\"><td><p><a class=\"reference internal\" href=\"pandas.Series.rolling.html#pandas.Series.rolling\" title=\"pandas.Series.rolling\"><code class=\"xref py py-obj docutils literal notranslate\"><span class=\"pre\">rolling</span></code></a>(window[,&nbsp;min_periods,&nbsp;center,&nbsp;...])</p></td>\n",
    "<td><p>Provide rolling window calculations.</p></td>\n",
    "</tr>\n",
    "<tr class=\"row-even\"><td><p><a class=\"reference internal\" href=\"pandas.Series.round.html#pandas.Series.round\" title=\"pandas.Series.round\"><code class=\"xref py py-obj docutils literal notranslate\"><span class=\"pre\">round</span></code></a>([decimals])</p></td>\n",
    "<td><p>Round each value in a Series to the given number of decimals.</p></td>\n",
    "</tr>\n",
    "<tr class=\"row-odd\"><td><p><a class=\"reference internal\" href=\"pandas.Series.rpow.html#pandas.Series.rpow\" title=\"pandas.Series.rpow\"><code class=\"xref py py-obj docutils literal notranslate\"><span class=\"pre\">rpow</span></code></a>(other[,&nbsp;level,&nbsp;fill_value,&nbsp;axis])</p></td>\n",
    "<td><p>Return Exponential power of series and other, element-wise (binary operator <cite>rpow</cite>).</p></td>\n",
    "</tr>\n",
    "<tr class=\"row-even\"><td><p><a class=\"reference internal\" href=\"pandas.Series.rsub.html#pandas.Series.rsub\" title=\"pandas.Series.rsub\"><code class=\"xref py py-obj docutils literal notranslate\"><span class=\"pre\">rsub</span></code></a>(other[,&nbsp;level,&nbsp;fill_value,&nbsp;axis])</p></td>\n",
    "<td><p>Return Subtraction of series and other, element-wise (binary operator <cite>rsub</cite>).</p></td>\n",
    "</tr>\n",
    "<tr class=\"row-odd\"><td><p><a class=\"reference internal\" href=\"pandas.Series.rtruediv.html#pandas.Series.rtruediv\" title=\"pandas.Series.rtruediv\"><code class=\"xref py py-obj docutils literal notranslate\"><span class=\"pre\">rtruediv</span></code></a>(other[,&nbsp;level,&nbsp;fill_value,&nbsp;axis])</p></td>\n",
    "<td><p>Return Floating division of series and other, element-wise (binary operator <cite>rtruediv</cite>).</p></td>\n",
    "</tr>\n",
    "<tr class=\"row-even\"><td><p><a class=\"reference internal\" href=\"pandas.Series.sample.html#pandas.Series.sample\" title=\"pandas.Series.sample\"><code class=\"xref py py-obj docutils literal notranslate\"><span class=\"pre\">sample</span></code></a>([n,&nbsp;frac,&nbsp;replace,&nbsp;weights,&nbsp;...])</p></td>\n",
    "<td><p>Return a random sample of items from an axis of object.</p></td>\n",
    "</tr>\n",
    "<tr class=\"row-odd\"><td><p><a class=\"reference internal\" href=\"pandas.Series.searchsorted.html#pandas.Series.searchsorted\" title=\"pandas.Series.searchsorted\"><code class=\"xref py py-obj docutils literal notranslate\"><span class=\"pre\">searchsorted</span></code></a>(value[,&nbsp;side,&nbsp;sorter])</p></td>\n",
    "<td><p>Find indices where elements should be inserted to maintain order.</p></td>\n",
    "</tr>\n",
    "<tr class=\"row-even\"><td><p><a class=\"reference internal\" href=\"pandas.Series.sem.html#pandas.Series.sem\" title=\"pandas.Series.sem\"><code class=\"xref py py-obj docutils literal notranslate\"><span class=\"pre\">sem</span></code></a>([axis,&nbsp;skipna,&nbsp;level,&nbsp;ddof,&nbsp;numeric_only])</p></td>\n",
    "<td><p>Return unbiased standard error of the mean over requested axis.</p></td>\n",
    "</tr>\n",
    "<tr class=\"row-odd\"><td><p><a class=\"reference internal\" href=\"pandas.Series.set_axis.html#pandas.Series.set_axis\" title=\"pandas.Series.set_axis\"><code class=\"xref py py-obj docutils literal notranslate\"><span class=\"pre\">set_axis</span></code></a>(labels[,&nbsp;axis,&nbsp;inplace,&nbsp;copy])</p></td>\n",
    "<td><p>Assign desired index to given axis.</p></td>\n",
    "</tr>\n",
    "<tr class=\"row-even\"><td><p><a class=\"reference internal\" href=\"pandas.Series.set_flags.html#pandas.Series.set_flags\" title=\"pandas.Series.set_flags\"><code class=\"xref py py-obj docutils literal notranslate\"><span class=\"pre\">set_flags</span></code></a>(*[,&nbsp;copy,&nbsp;allows_duplicate_labels])</p></td>\n",
    "<td><p>Return a new object with updated flags.</p></td>\n",
    "</tr>\n",
    "<tr class=\"row-odd\"><td><p><a class=\"reference internal\" href=\"pandas.Series.shift.html#pandas.Series.shift\" title=\"pandas.Series.shift\"><code class=\"xref py py-obj docutils literal notranslate\"><span class=\"pre\">shift</span></code></a>([periods,&nbsp;freq,&nbsp;axis,&nbsp;fill_value])</p></td>\n",
    "<td><p>Shift index by desired number of periods with an optional time <cite>freq</cite>.</p></td>\n",
    "</tr>\n",
    "<tr class=\"row-even\"><td><p><a class=\"reference internal\" href=\"pandas.Series.skew.html#pandas.Series.skew\" title=\"pandas.Series.skew\"><code class=\"xref py py-obj docutils literal notranslate\"><span class=\"pre\">skew</span></code></a>([axis,&nbsp;skipna,&nbsp;level,&nbsp;numeric_only])</p></td>\n",
    "<td><p>Return unbiased skew over requested axis.</p></td>\n",
    "</tr>\n",
    "<tr class=\"row-odd\"><td><p><a class=\"reference internal\" href=\"pandas.Series.slice_shift.html#pandas.Series.slice_shift\" title=\"pandas.Series.slice_shift\"><code class=\"xref py py-obj docutils literal notranslate\"><span class=\"pre\">slice_shift</span></code></a>([periods,&nbsp;axis])</p></td>\n",
    "<td><p>(DEPRECATED) Equivalent to <cite>shift</cite> without copying data.</p></td>\n",
    "</tr>\n",
    "<tr class=\"row-even\"><td><p><a class=\"reference internal\" href=\"pandas.Series.sort_index.html#pandas.Series.sort_index\" title=\"pandas.Series.sort_index\"><code class=\"xref py py-obj docutils literal notranslate\"><span class=\"pre\">sort_index</span></code></a>([axis,&nbsp;level,&nbsp;ascending,&nbsp;...])</p></td>\n",
    "<td><p>Sort Series by index labels.</p></td>\n",
    "</tr>\n",
    "<tr class=\"row-odd\"><td><p><a class=\"reference internal\" href=\"pandas.Series.sort_values.html#pandas.Series.sort_values\" title=\"pandas.Series.sort_values\"><code class=\"xref py py-obj docutils literal notranslate\"><span class=\"pre\">sort_values</span></code></a>([axis,&nbsp;ascending,&nbsp;inplace,&nbsp;...])</p></td>\n",
    "<td><p>Sort by the values.</p></td>\n",
    "</tr>\n",
    "<tr class=\"row-even\"><td><p><a class=\"reference internal\" href=\"pandas.Series.sparse.html#pandas.Series.sparse\" title=\"pandas.Series.sparse\"><code class=\"xref py py-obj docutils literal notranslate\"><span class=\"pre\">sparse</span></code></a></p></td>\n",
    "<td><p>alias of <code class=\"xref py py-class docutils literal notranslate\"><span class=\"pre\">pandas.core.arrays.sparse.accessor.SparseAccessor</span></code></p></td>\n",
    "</tr>\n",
    "<tr class=\"row-odd\"><td><p><a class=\"reference internal\" href=\"pandas.Series.squeeze.html#pandas.Series.squeeze\" title=\"pandas.Series.squeeze\"><code class=\"xref py py-obj docutils literal notranslate\"><span class=\"pre\">squeeze</span></code></a>([axis])</p></td>\n",
    "<td><p>Squeeze 1 dimensional axis objects into scalars.</p></td>\n",
    "</tr>\n",
    "<tr class=\"row-even\"><td><p><a class=\"reference internal\" href=\"pandas.Series.std.html#pandas.Series.std\" title=\"pandas.Series.std\"><code class=\"xref py py-obj docutils literal notranslate\"><span class=\"pre\">std</span></code></a>([axis,&nbsp;skipna,&nbsp;level,&nbsp;ddof,&nbsp;numeric_only])</p></td>\n",
    "<td><p>Return sample standard deviation over requested axis.</p></td>\n",
    "</tr>\n",
    "<tr class=\"row-odd\"><td><p><a class=\"reference internal\" href=\"pandas.Series.str.html#pandas.Series.str\" title=\"pandas.Series.str\"><code class=\"xref py py-obj docutils literal notranslate\"><span class=\"pre\">str</span></code></a></p></td>\n",
    "<td><p>alias of <code class=\"xref py py-class docutils literal notranslate\"><span class=\"pre\">pandas.core.strings.accessor.StringMethods</span></code></p></td>\n",
    "</tr>\n",
    "<tr class=\"row-even\"><td><p><a class=\"reference internal\" href=\"pandas.Series.sub.html#pandas.Series.sub\" title=\"pandas.Series.sub\"><code class=\"xref py py-obj docutils literal notranslate\"><span class=\"pre\">sub</span></code></a>(other[,&nbsp;level,&nbsp;fill_value,&nbsp;axis])</p></td>\n",
    "<td><p>Return Subtraction of series and other, element-wise (binary operator <cite>sub</cite>).</p></td>\n",
    "</tr>\n",
    "<tr class=\"row-odd\"><td><p><a class=\"reference internal\" href=\"pandas.Series.subtract.html#pandas.Series.subtract\" title=\"pandas.Series.subtract\"><code class=\"xref py py-obj docutils literal notranslate\"><span class=\"pre\">subtract</span></code></a>(other[,&nbsp;level,&nbsp;fill_value,&nbsp;axis])</p></td>\n",
    "<td><p>Return Subtraction of series and other, element-wise (binary operator <cite>sub</cite>).</p></td>\n",
    "</tr>\n",
    "<tr class=\"row-even\"><td><p><a class=\"reference internal\" href=\"pandas.Series.sum.html#pandas.Series.sum\" title=\"pandas.Series.sum\"><code class=\"xref py py-obj docutils literal notranslate\"><span class=\"pre\">sum</span></code></a>([axis,&nbsp;skipna,&nbsp;level,&nbsp;numeric_only,&nbsp;...])</p></td>\n",
    "<td><p>Return the sum of the values over the requested axis.</p></td>\n",
    "</tr>\n",
    "<tr class=\"row-odd\"><td><p><a class=\"reference internal\" href=\"pandas.Series.swapaxes.html#pandas.Series.swapaxes\" title=\"pandas.Series.swapaxes\"><code class=\"xref py py-obj docutils literal notranslate\"><span class=\"pre\">swapaxes</span></code></a>(axis1,&nbsp;axis2[,&nbsp;copy])</p></td>\n",
    "<td><p>Interchange axes and swap values axes appropriately.</p></td>\n",
    "</tr>\n",
    "<tr class=\"row-even\"><td><p><a class=\"reference internal\" href=\"pandas.Series.swaplevel.html#pandas.Series.swaplevel\" title=\"pandas.Series.swaplevel\"><code class=\"xref py py-obj docutils literal notranslate\"><span class=\"pre\">swaplevel</span></code></a>([i,&nbsp;j,&nbsp;copy])</p></td>\n",
    "<td><p>Swap levels i and j in a <a class=\"reference internal\" href=\"pandas.MultiIndex.html#pandas.MultiIndex\" title=\"pandas.MultiIndex\"><code class=\"xref py py-class docutils literal notranslate\"><span class=\"pre\">MultiIndex</span></code></a>.</p></td>\n",
    "</tr>\n",
    "<tr class=\"row-odd\"><td><p><a class=\"reference internal\" href=\"pandas.Series.tail.html#pandas.Series.tail\" title=\"pandas.Series.tail\"><code class=\"xref py py-obj docutils literal notranslate\"><span class=\"pre\">tail</span></code></a>([n])</p></td>\n",
    "<td><p>Return the last <cite>n</cite> rows.</p></td>\n",
    "</tr>\n",
    "<tr class=\"row-even\"><td><p><a class=\"reference internal\" href=\"pandas.Series.take.html#pandas.Series.take\" title=\"pandas.Series.take\"><code class=\"xref py py-obj docutils literal notranslate\"><span class=\"pre\">take</span></code></a>(indices[,&nbsp;axis,&nbsp;is_copy])</p></td>\n",
    "<td><p>Return the elements in the given <em>positional</em> indices along an axis.</p></td>\n",
    "</tr>\n",
    "<tr class=\"row-odd\"><td><p><a class=\"reference internal\" href=\"pandas.Series.to_clipboard.html#pandas.Series.to_clipboard\" title=\"pandas.Series.to_clipboard\"><code class=\"xref py py-obj docutils literal notranslate\"><span class=\"pre\">to_clipboard</span></code></a>([excel,&nbsp;sep])</p></td>\n",
    "<td><p>Copy object to the system clipboard.</p></td>\n",
    "</tr>\n",
    "<tr class=\"row-even\"><td><p><a class=\"reference internal\" href=\"pandas.Series.to_csv.html#pandas.Series.to_csv\" title=\"pandas.Series.to_csv\"><code class=\"xref py py-obj docutils literal notranslate\"><span class=\"pre\">to_csv</span></code></a>([path_or_buf,&nbsp;sep,&nbsp;na_rep,&nbsp;...])</p></td>\n",
    "<td><p>Write object to a comma-separated values (csv) file.</p></td>\n",
    "</tr>\n",
    "<tr class=\"row-odd\"><td><p><a class=\"reference internal\" href=\"pandas.Series.to_dict.html#pandas.Series.to_dict\" title=\"pandas.Series.to_dict\"><code class=\"xref py py-obj docutils literal notranslate\"><span class=\"pre\">to_dict</span></code></a>([into])</p></td>\n",
    "<td><p>Convert Series to {label -&gt; value} dict or dict-like object.</p></td>\n",
    "</tr>\n",
    "<tr class=\"row-even\"><td><p><a class=\"reference internal\" href=\"pandas.Series.to_excel.html#pandas.Series.to_excel\" title=\"pandas.Series.to_excel\"><code class=\"xref py py-obj docutils literal notranslate\"><span class=\"pre\">to_excel</span></code></a>(excel_writer[,&nbsp;sheet_name,&nbsp;na_rep,&nbsp;...])</p></td>\n",
    "<td><p>Write object to an Excel sheet.</p></td>\n",
    "</tr>\n",
    "<tr class=\"row-odd\"><td><p><a class=\"reference internal\" href=\"pandas.Series.to_frame.html#pandas.Series.to_frame\" title=\"pandas.Series.to_frame\"><code class=\"xref py py-obj docutils literal notranslate\"><span class=\"pre\">to_frame</span></code></a>([name])</p></td>\n",
    "<td><p>Convert Series to DataFrame.</p></td>\n",
    "</tr>\n",
    "<tr class=\"row-even\"><td><p><a class=\"reference internal\" href=\"pandas.Series.to_hdf.html#pandas.Series.to_hdf\" title=\"pandas.Series.to_hdf\"><code class=\"xref py py-obj docutils literal notranslate\"><span class=\"pre\">to_hdf</span></code></a>(path_or_buf,&nbsp;key[,&nbsp;mode,&nbsp;complevel,&nbsp;...])</p></td>\n",
    "<td><p>Write the contained data to an HDF5 file using HDFStore.</p></td>\n",
    "</tr>\n",
    "<tr class=\"row-odd\"><td><p><a class=\"reference internal\" href=\"pandas.Series.to_json.html#pandas.Series.to_json\" title=\"pandas.Series.to_json\"><code class=\"xref py py-obj docutils literal notranslate\"><span class=\"pre\">to_json</span></code></a>([path_or_buf,&nbsp;orient,&nbsp;date_format,&nbsp;...])</p></td>\n",
    "<td><p>Convert the object to a JSON string.</p></td>\n",
    "</tr>\n",
    "<tr class=\"row-even\"><td><p><a class=\"reference internal\" href=\"pandas.Series.to_latex.html#pandas.Series.to_latex\" title=\"pandas.Series.to_latex\"><code class=\"xref py py-obj docutils literal notranslate\"><span class=\"pre\">to_latex</span></code></a>([buf,&nbsp;columns,&nbsp;col_space,&nbsp;header,&nbsp;...])</p></td>\n",
    "<td><p>Render object to a LaTeX tabular, longtable, or nested table.</p></td>\n",
    "</tr>\n",
    "<tr class=\"row-odd\"><td><p><a class=\"reference internal\" href=\"pandas.Series.to_list.html#pandas.Series.to_list\" title=\"pandas.Series.to_list\"><code class=\"xref py py-obj docutils literal notranslate\"><span class=\"pre\">to_list</span></code></a>()</p></td>\n",
    "<td><p>Return a list of the values.</p></td>\n",
    "</tr>\n",
    "<tr class=\"row-even\"><td><p><a class=\"reference internal\" href=\"pandas.Series.to_markdown.html#pandas.Series.to_markdown\" title=\"pandas.Series.to_markdown\"><code class=\"xref py py-obj docutils literal notranslate\"><span class=\"pre\">to_markdown</span></code></a>([buf,&nbsp;mode,&nbsp;index,&nbsp;storage_options])</p></td>\n",
    "<td><p>Print Series in Markdown-friendly format.</p></td>\n",
    "</tr>\n",
    "<tr class=\"row-odd\"><td><p><a class=\"reference internal\" href=\"pandas.Series.to_numpy.html#pandas.Series.to_numpy\" title=\"pandas.Series.to_numpy\"><code class=\"xref py py-obj docutils literal notranslate\"><span class=\"pre\">to_numpy</span></code></a>([dtype,&nbsp;copy,&nbsp;na_value])</p></td>\n",
    "<td><p>A NumPy ndarray representing the values in this Series or Index.</p></td>\n",
    "</tr>\n",
    "<tr class=\"row-even\"><td><p><a class=\"reference internal\" href=\"pandas.Series.to_period.html#pandas.Series.to_period\" title=\"pandas.Series.to_period\"><code class=\"xref py py-obj docutils literal notranslate\"><span class=\"pre\">to_period</span></code></a>([freq,&nbsp;copy])</p></td>\n",
    "<td><p>Convert Series from DatetimeIndex to PeriodIndex.</p></td>\n",
    "</tr>\n",
    "<tr class=\"row-odd\"><td><p><a class=\"reference internal\" href=\"pandas.Series.to_pickle.html#pandas.Series.to_pickle\" title=\"pandas.Series.to_pickle\"><code class=\"xref py py-obj docutils literal notranslate\"><span class=\"pre\">to_pickle</span></code></a>(path[,&nbsp;compression,&nbsp;protocol,&nbsp;...])</p></td>\n",
    "<td><p>Pickle (serialize) object to file.</p></td>\n",
    "</tr>\n",
    "<tr class=\"row-even\"><td><p><a class=\"reference internal\" href=\"pandas.Series.to_sql.html#pandas.Series.to_sql\" title=\"pandas.Series.to_sql\"><code class=\"xref py py-obj docutils literal notranslate\"><span class=\"pre\">to_sql</span></code></a>(name,&nbsp;con[,&nbsp;schema,&nbsp;if_exists,&nbsp;...])</p></td>\n",
    "<td><p>Write records stored in a DataFrame to a SQL database.</p></td>\n",
    "</tr>\n",
    "<tr class=\"row-odd\"><td><p><a class=\"reference internal\" href=\"pandas.Series.to_string.html#pandas.Series.to_string\" title=\"pandas.Series.to_string\"><code class=\"xref py py-obj docutils literal notranslate\"><span class=\"pre\">to_string</span></code></a>([buf,&nbsp;na_rep,&nbsp;float_format,&nbsp;...])</p></td>\n",
    "<td><p>Render a string representation of the Series.</p></td>\n",
    "</tr>\n",
    "<tr class=\"row-even\"><td><p><a class=\"reference internal\" href=\"pandas.Series.to_timestamp.html#pandas.Series.to_timestamp\" title=\"pandas.Series.to_timestamp\"><code class=\"xref py py-obj docutils literal notranslate\"><span class=\"pre\">to_timestamp</span></code></a>([freq,&nbsp;how,&nbsp;copy])</p></td>\n",
    "<td><p>Cast to DatetimeIndex of Timestamps, at <em>beginning</em> of period.</p></td>\n",
    "</tr>\n",
    "<tr class=\"row-odd\"><td><p><a class=\"reference internal\" href=\"pandas.Series.to_xarray.html#pandas.Series.to_xarray\" title=\"pandas.Series.to_xarray\"><code class=\"xref py py-obj docutils literal notranslate\"><span class=\"pre\">to_xarray</span></code></a>()</p></td>\n",
    "<td><p>Return an xarray object from the pandas object.</p></td>\n",
    "</tr>\n",
    "<tr class=\"row-even\"><td><p><a class=\"reference internal\" href=\"pandas.Series.tolist.html#pandas.Series.tolist\" title=\"pandas.Series.tolist\"><code class=\"xref py py-obj docutils literal notranslate\"><span class=\"pre\">tolist</span></code></a>()</p></td>\n",
    "<td><p>Return a list of the values.</p></td>\n",
    "</tr>\n",
    "<tr class=\"row-odd\"><td><p><a class=\"reference internal\" href=\"pandas.Series.transform.html#pandas.Series.transform\" title=\"pandas.Series.transform\"><code class=\"xref py py-obj docutils literal notranslate\"><span class=\"pre\">transform</span></code></a>(func[,&nbsp;axis])</p></td>\n",
    "<td><p>Call <code class=\"docutils literal notranslate\"><span class=\"pre\">func</span></code> on self producing a Series with the same axis shape as self.</p></td>\n",
    "</tr>\n",
    "<tr class=\"row-even\"><td><p><a class=\"reference internal\" href=\"pandas.Series.transpose.html#pandas.Series.transpose\" title=\"pandas.Series.transpose\"><code class=\"xref py py-obj docutils literal notranslate\"><span class=\"pre\">transpose</span></code></a>(*args,&nbsp;**kwargs)</p></td>\n",
    "<td><p>Return the transpose, which is by definition self.</p></td>\n",
    "</tr>\n",
    "<tr class=\"row-odd\"><td><p><a class=\"reference internal\" href=\"pandas.Series.truediv.html#pandas.Series.truediv\" title=\"pandas.Series.truediv\"><code class=\"xref py py-obj docutils literal notranslate\"><span class=\"pre\">truediv</span></code></a>(other[,&nbsp;level,&nbsp;fill_value,&nbsp;axis])</p></td>\n",
    "<td><p>Return Floating division of series and other, element-wise (binary operator <cite>truediv</cite>).</p></td>\n",
    "</tr>\n",
    "<tr class=\"row-even\"><td><p><a class=\"reference internal\" href=\"pandas.Series.truncate.html#pandas.Series.truncate\" title=\"pandas.Series.truncate\"><code class=\"xref py py-obj docutils literal notranslate\"><span class=\"pre\">truncate</span></code></a>([before,&nbsp;after,&nbsp;axis,&nbsp;copy])</p></td>\n",
    "<td><p>Truncate a Series or DataFrame before and after some index value.</p></td>\n",
    "</tr>\n",
    "<tr class=\"row-odd\"><td><p><a class=\"reference internal\" href=\"pandas.Series.tshift.html#pandas.Series.tshift\" title=\"pandas.Series.tshift\"><code class=\"xref py py-obj docutils literal notranslate\"><span class=\"pre\">tshift</span></code></a>([periods,&nbsp;freq,&nbsp;axis])</p></td>\n",
    "<td><p>(DEPRECATED) Shift the time index, using the index's frequency if available.</p></td>\n",
    "</tr>\n",
    "<tr class=\"row-even\"><td><p><a class=\"reference internal\" href=\"pandas.Series.tz_convert.html#pandas.Series.tz_convert\" title=\"pandas.Series.tz_convert\"><code class=\"xref py py-obj docutils literal notranslate\"><span class=\"pre\">tz_convert</span></code></a>(tz[,&nbsp;axis,&nbsp;level,&nbsp;copy])</p></td>\n",
    "<td><p>Convert tz-aware axis to target time zone.</p></td>\n",
    "</tr>\n",
    "<tr class=\"row-odd\"><td><p><a class=\"reference internal\" href=\"pandas.Series.tz_localize.html#pandas.Series.tz_localize\" title=\"pandas.Series.tz_localize\"><code class=\"xref py py-obj docutils literal notranslate\"><span class=\"pre\">tz_localize</span></code></a>(tz[,&nbsp;axis,&nbsp;level,&nbsp;copy,&nbsp;...])</p></td>\n",
    "<td><p>Localize tz-naive index of a Series or DataFrame to target time zone.</p></td>\n",
    "</tr>\n",
    "<tr class=\"row-even\"><td><p><a class=\"reference internal\" href=\"pandas.Series.unique.html#pandas.Series.unique\" title=\"pandas.Series.unique\"><code class=\"xref py py-obj docutils literal notranslate\"><span class=\"pre\">unique</span></code></a>()</p></td>\n",
    "<td><p>Return unique values of Series object.</p></td>\n",
    "</tr>\n",
    "<tr class=\"row-odd\"><td><p><a class=\"reference internal\" href=\"pandas.Series.unstack.html#pandas.Series.unstack\" title=\"pandas.Series.unstack\"><code class=\"xref py py-obj docutils literal notranslate\"><span class=\"pre\">unstack</span></code></a>([level,&nbsp;fill_value])</p></td>\n",
    "<td><p>Unstack, also known as pivot, Series with MultiIndex to produce DataFrame.</p></td>\n",
    "</tr>\n",
    "<tr class=\"row-even\"><td><p><a class=\"reference internal\" href=\"pandas.Series.update.html#pandas.Series.update\" title=\"pandas.Series.update\"><code class=\"xref py py-obj docutils literal notranslate\"><span class=\"pre\">update</span></code></a>(other)</p></td>\n",
    "<td><p>Modify Series in place using values from passed Series.</p></td>\n",
    "</tr>\n",
    "<tr class=\"row-odd\"><td><p><a class=\"reference internal\" href=\"pandas.Series.value_counts.html#pandas.Series.value_counts\" title=\"pandas.Series.value_counts\"><code class=\"xref py py-obj docutils literal notranslate\"><span class=\"pre\">value_counts</span></code></a>([normalize,&nbsp;sort,&nbsp;ascending,&nbsp;...])</p></td>\n",
    "<td><p>Return a Series containing counts of unique values.</p></td>\n",
    "</tr>\n",
    "<tr class=\"row-even\"><td><p><a class=\"reference internal\" href=\"pandas.Series.var.html#pandas.Series.var\" title=\"pandas.Series.var\"><code class=\"xref py py-obj docutils literal notranslate\"><span class=\"pre\">var</span></code></a>([axis,&nbsp;skipna,&nbsp;level,&nbsp;ddof,&nbsp;numeric_only])</p></td>\n",
    "<td><p>Return unbiased variance over requested axis.</p></td>\n",
    "</tr>\n",
    "<tr class=\"row-odd\"><td><p><a class=\"reference internal\" href=\"pandas.Series.view.html#pandas.Series.view\" title=\"pandas.Series.view\"><code class=\"xref py py-obj docutils literal notranslate\"><span class=\"pre\">view</span></code></a>([dtype])</p></td>\n",
    "<td><p>Create a new view of the Series.</p></td>\n",
    "</tr>\n",
    "<tr class=\"row-even\"><td><p><a class=\"reference internal\" href=\"pandas.Series.where.html#pandas.Series.where\" title=\"pandas.Series.where\"><code class=\"xref py py-obj docutils literal notranslate\"><span class=\"pre\">where</span></code></a>(cond[,&nbsp;other,&nbsp;inplace,&nbsp;axis,&nbsp;level,&nbsp;...])</p></td>\n",
    "<td><p>Replace values where the condition is False.</p></td>\n",
    "</tr>\n",
    "<tr class=\"row-odd\"><td><p><a class=\"reference internal\" href=\"pandas.Series.xs.html#pandas.Series.xs\" title=\"pandas.Series.xs\"><code class=\"xref py py-obj docutils literal notranslate\"><span class=\"pre\">xs</span></code></a>(key[,&nbsp;axis,&nbsp;level,&nbsp;drop_level])</p></td>\n",
    "<td><p>Return cross-section from the Series/DataFrame.</p></td>\n",
    "</tr>\n",
    "</tbody>\n",
    "</table>\n",
    "</dd>"
   ]
  },
  {
   "cell_type": "markdown",
   "id": "6cdfa40a",
   "metadata": {
    "papermill": {
     "duration": 0.075761,
     "end_time": "2022-09-26T13:10:59.182362",
     "exception": false,
     "start_time": "2022-09-26T13:10:59.106601",
     "status": "completed"
    },
    "tags": []
   },
   "source": [
    "### Accessing Element from Series with Position : \n",
    "- In order to access the series element refers to the index number. Use the index operator [ ] to access an element in a series. The index must be an integer. In order to access multiple elements from a series, we use Slice operation.\n"
   ]
  },
  {
   "cell_type": "code",
   "execution_count": 12,
   "id": "873a7327",
   "metadata": {
    "execution": {
     "iopub.execute_input": "2022-09-26T13:10:59.284365Z",
     "iopub.status.busy": "2022-09-26T13:10:59.283999Z",
     "iopub.status.idle": "2022-09-26T13:10:59.290515Z",
     "shell.execute_reply": "2022-09-26T13:10:59.289566Z"
    },
    "papermill": {
     "duration": 0.061155,
     "end_time": "2022-09-26T13:10:59.293557",
     "exception": false,
     "start_time": "2022-09-26T13:10:59.232402",
     "status": "completed"
    },
    "tags": []
   },
   "outputs": [
    {
     "name": "stdout",
     "output_type": "stream",
     "text": [
      "Series element at index 3 :\n",
      "\n",
      " 4.0 \n",
      "\n",
      "Type of element:  <class 'numpy.float64'>\n",
      "\n",
      "Series element at index 11 to 14 :\n",
      "\n",
      " 11    5.4\n",
      "12    3.2\n",
      "Name: Series_s2, dtype: float64 \n",
      "\n",
      "Type of element:  <class 'pandas.core.series.Series'>\n"
     ]
    }
   ],
   "source": [
    "# Acessing element of the Series\n",
    "print(\"Series element at index 3 :\\n\\n\",s2[3],\"\\n\\nType of element: \",type(s2[3]))\n",
    "print(\"\\nSeries element at index 11 to 14 :\\n\\n\",s2[11:14],\"\\n\\nType of element: \",type(s2[11:14]))"
   ]
  },
  {
   "cell_type": "markdown",
   "id": "1acb2ed1",
   "metadata": {
    "papermill": {
     "duration": 0.050285,
     "end_time": "2022-09-26T13:10:59.394947",
     "exception": false,
     "start_time": "2022-09-26T13:10:59.344662",
     "status": "completed"
    },
    "tags": []
   },
   "source": [
    "### Accessing Element Using Label (index) :\n",
    "- In order to access an element from series, we have to set values by index label. A Series is like a fixed-size dictionary in that you can get and set values by index label.\n",
    "\n"
   ]
  },
  {
   "cell_type": "code",
   "execution_count": 13,
   "id": "715edbef",
   "metadata": {
    "execution": {
     "iopub.execute_input": "2022-09-26T13:10:59.497111Z",
     "iopub.status.busy": "2022-09-26T13:10:59.496755Z",
     "iopub.status.idle": "2022-09-26T13:10:59.502525Z",
     "shell.execute_reply": "2022-09-26T13:10:59.501522Z"
    },
    "papermill": {
     "duration": 0.06015,
     "end_time": "2022-09-26T13:10:59.505185",
     "exception": false,
     "start_time": "2022-09-26T13:10:59.445035",
     "status": "completed"
    },
    "tags": []
   },
   "outputs": [
    {
     "name": "stdout",
     "output_type": "stream",
     "text": [
      "Series element at index 3 :\n",
      "\n",
      " Bhawan \n",
      "\n",
      "Type of element:  <class 'str'>\n"
     ]
    }
   ],
   "source": [
    "# Accessing Element Using Label (index) :¶\n",
    "print(\"Series element at index 3 :\\n\\n\",s1[\"First Name\"],\"\\n\\nType of element: \",type(s1[\"First Name\"]))"
   ]
  },
  {
   "cell_type": "markdown",
   "id": "a0717296",
   "metadata": {
    "papermill": {
     "duration": 0.050468,
     "end_time": "2022-09-26T13:10:59.607720",
     "exception": false,
     "start_time": "2022-09-26T13:10:59.557252",
     "status": "completed"
    },
    "tags": []
   },
   "source": [
    "### Indexing and Selecting Data in Series:"
   ]
  },
  {
   "cell_type": "code",
   "execution_count": 14,
   "id": "112d638f",
   "metadata": {
    "execution": {
     "iopub.execute_input": "2022-09-26T13:10:59.711574Z",
     "iopub.status.busy": "2022-09-26T13:10:59.710744Z",
     "iopub.status.idle": "2022-09-26T13:11:00.066560Z",
     "shell.execute_reply": "2022-09-26T13:11:00.065119Z"
    },
    "papermill": {
     "duration": 0.410085,
     "end_time": "2022-09-26T13:11:00.068888",
     "exception": false,
     "start_time": "2022-09-26T13:10:59.658803",
     "status": "completed"
    },
    "tags": []
   },
   "outputs": [
    {
     "name": "stdout",
     "output_type": "stream",
     "text": [
      "0     2013\n",
      "1     2015\n",
      "2     2014\n",
      "3     2016\n",
      "4     2014\n",
      "      ... \n",
      "95    2015\n",
      "96    2013\n",
      "97    2015\n",
      "98    2013\n",
      "99    2015\n",
      "Name: Year, Length: 100, dtype: int64\n"
     ]
    }
   ],
   "source": [
    "df = pd.read_csv(\"/kaggle/input/sales-data-practise/sales_data.csv\")  \n",
    "   \n",
    "file_ser = pd.Series(df['Year']) \n",
    "data = file_ser.head(100)      #print first 15 line\n",
    "print(data) "
   ]
  },
  {
   "cell_type": "markdown",
   "id": "6359db67",
   "metadata": {
    "papermill": {
     "duration": 0.050586,
     "end_time": "2022-09-26T13:11:00.170882",
     "exception": false,
     "start_time": "2022-09-26T13:11:00.120296",
     "status": "completed"
    },
    "tags": []
   },
   "source": [
    "#### 1.Indexing a Series using indexing operator [] :"
   ]
  },
  {
   "cell_type": "code",
   "execution_count": 15,
   "id": "60d39450",
   "metadata": {
    "execution": {
     "iopub.execute_input": "2022-09-26T13:11:00.274269Z",
     "iopub.status.busy": "2022-09-26T13:11:00.272424Z",
     "iopub.status.idle": "2022-09-26T13:11:00.278998Z",
     "shell.execute_reply": "2022-09-26T13:11:00.278050Z"
    },
    "papermill": {
     "duration": 0.06063,
     "end_time": "2022-09-26T13:11:00.281581",
     "exception": false,
     "start_time": "2022-09-26T13:11:00.220951",
     "status": "completed"
    },
    "tags": []
   },
   "outputs": [
    {
     "name": "stdout",
     "output_type": "stream",
     "text": [
      "Printing data using index Operator:[From 10 to 30]\n",
      "\n",
      "10    2013\n",
      "11    2015\n",
      "12    2013\n",
      "13    2015\n",
      "14    2013\n",
      "15    2015\n",
      "16    2013\n",
      "17    2015\n",
      "18    2014\n",
      "19    2016\n",
      "20    2014\n",
      "21    2016\n",
      "22    2014\n",
      "23    2016\n",
      "24    2013\n",
      "25    2015\n",
      "26    2013\n",
      "27    2015\n",
      "28    2014\n",
      "29    2016\n",
      "Name: Year, dtype: int64\n"
     ]
    }
   ],
   "source": [
    "#Using index Operator :\n",
    "print(\"Printing data using index Operator:[From 10 to 30]\\n\")\n",
    "print(data[10:30])"
   ]
  },
  {
   "cell_type": "markdown",
   "id": "67fc872d",
   "metadata": {
    "papermill": {
     "duration": 0.049697,
     "end_time": "2022-09-26T13:11:00.382583",
     "exception": false,
     "start_time": "2022-09-26T13:11:00.332886",
     "status": "completed"
    },
    "tags": []
   },
   "source": [
    "#### 2. Indexing a Series using .loc[ ] :\n",
    "- This function selects data by refering the explicit index . The df.loc indexer selects data in a different way than just the indexing operator. It can select subsets of data."
   ]
  },
  {
   "cell_type": "code",
   "execution_count": 16,
   "id": "6076fa9e",
   "metadata": {
    "execution": {
     "iopub.execute_input": "2022-09-26T13:11:00.491312Z",
     "iopub.status.busy": "2022-09-26T13:11:00.490974Z",
     "iopub.status.idle": "2022-09-26T13:11:00.496206Z",
     "shell.execute_reply": "2022-09-26T13:11:00.495300Z"
    },
    "papermill": {
     "duration": 0.063773,
     "end_time": "2022-09-26T13:11:00.500480",
     "exception": false,
     "start_time": "2022-09-26T13:11:00.436707",
     "status": "completed"
    },
    "tags": []
   },
   "outputs": [
    {
     "name": "stdout",
     "output_type": "stream",
     "text": [
      "Indexing element Using .loc[]:\n",
      "\n",
      "12    2013\n",
      "13    2015\n",
      "14    2013\n",
      "15    2015\n",
      "16    2013\n",
      "17    2015\n",
      "18    2014\n",
      "19    2016\n",
      "20    2014\n",
      "21    2016\n",
      "22    2014\n",
      "23    2016\n",
      "24    2013\n",
      "25    2015\n",
      "26    2013\n",
      "27    2015\n",
      "28    2014\n",
      "29    2016\n",
      "30    2014\n",
      "31    2016\n",
      "32    2014\n",
      "33    2016\n",
      "34    2013\n",
      "35    2015\n",
      "36    2013\n",
      "37    2015\n",
      "38    2013\n",
      "39    2015\n",
      "40    2014\n",
      "Name: Year, dtype: int64\n"
     ]
    }
   ],
   "source": [
    "#Using .loc[]:\n",
    "print(\"Indexing element Using .loc[]:\\n\")\n",
    "print(data.loc[12:40])"
   ]
  },
  {
   "cell_type": "markdown",
   "id": "f2af9cec",
   "metadata": {
    "papermill": {
     "duration": 0.05014,
     "end_time": "2022-09-26T13:11:00.602366",
     "exception": false,
     "start_time": "2022-09-26T13:11:00.552226",
     "status": "completed"
    },
    "tags": []
   },
   "source": [
    "#### 3. Indexing a Series using .iloc[ ] :\n",
    "- This function allows us to retrieve data by position. In order to do that, we’ll need to specify the positions of the data that we want. The df.iloc indexer is very similar to df.loc but only uses integer locations to make its selections."
   ]
  },
  {
   "cell_type": "code",
   "execution_count": 17,
   "id": "d1aec9cb",
   "metadata": {
    "execution": {
     "iopub.execute_input": "2022-09-26T13:11:00.704323Z",
     "iopub.status.busy": "2022-09-26T13:11:00.703975Z",
     "iopub.status.idle": "2022-09-26T13:11:00.709661Z",
     "shell.execute_reply": "2022-09-26T13:11:00.708649Z"
    },
    "papermill": {
     "duration": 0.059718,
     "end_time": "2022-09-26T13:11:00.712251",
     "exception": false,
     "start_time": "2022-09-26T13:11:00.652533",
     "status": "completed"
    },
    "tags": []
   },
   "outputs": [
    {
     "name": "stdout",
     "output_type": "stream",
     "text": [
      "Indexing element Using .iloc[]:\n",
      "\n",
      "12    2013\n",
      "13    2015\n",
      "14    2013\n",
      "15    2015\n",
      "16    2013\n",
      "17    2015\n",
      "18    2014\n",
      "19    2016\n",
      "20    2014\n",
      "21    2016\n",
      "22    2014\n",
      "23    2016\n",
      "24    2013\n",
      "25    2015\n",
      "26    2013\n",
      "27    2015\n",
      "28    2014\n",
      "29    2016\n",
      "30    2014\n",
      "31    2016\n",
      "32    2014\n",
      "33    2016\n",
      "34    2013\n",
      "35    2015\n",
      "36    2013\n",
      "37    2015\n",
      "38    2013\n",
      "39    2015\n",
      "Name: Year, dtype: int64\n"
     ]
    }
   ],
   "source": [
    "#Using .iloc[]:\n",
    "print(\"Indexing element Using .iloc[]:\\n\")\n",
    "print(data.iloc[12:40])"
   ]
  },
  {
   "cell_type": "markdown",
   "id": "9d447afb",
   "metadata": {
    "papermill": {
     "duration": 0.049822,
     "end_time": "2022-09-26T13:11:00.814366",
     "exception": false,
     "start_time": "2022-09-26T13:11:00.764544",
     "status": "completed"
    },
    "tags": []
   },
   "source": [
    "### Mathematicals Operation on Series:\n",
    "\n",
    "- **Note:** if value it not present to perform operation it will add **\"NaN\"** (Not a Number)\n",
    "\n",
    "#### Adding Series add() and +:\n"
   ]
  },
  {
   "cell_type": "code",
   "execution_count": 18,
   "id": "0beb7f95",
   "metadata": {
    "execution": {
     "iopub.execute_input": "2022-09-26T13:11:00.916085Z",
     "iopub.status.busy": "2022-09-26T13:11:00.915771Z",
     "iopub.status.idle": "2022-09-26T13:11:00.922577Z",
     "shell.execute_reply": "2022-09-26T13:11:00.921676Z"
    },
    "papermill": {
     "duration": 0.060491,
     "end_time": "2022-09-26T13:11:00.925140",
     "exception": false,
     "start_time": "2022-09-26T13:11:00.864649",
     "status": "completed"
    },
    "tags": []
   },
   "outputs": [
    {
     "name": "stdout",
     "output_type": "stream",
     "text": [
      "Sample Series 1:\n",
      " 0    19\n",
      "1    19\n",
      "2    49\n",
      "3    49\n",
      "4    47\n",
      "Name: Customer_Age, dtype: int64\n",
      "\n",
      "Sample Series 2:\n",
      " 0    26\n",
      "1    26\n",
      "2    23\n",
      "3    23\n",
      "4    15\n",
      "Name: Day, dtype: int64\n"
     ]
    }
   ],
   "source": [
    "#sample data\n",
    "data = pd.Series(df['Customer_Age']) \n",
    "s1 = data.head(15)      #print first 50 line\n",
    "print(\"Sample Series 1:\\n\",s1.head())\n",
    "\n",
    "#sample1 data\n",
    "data1 = pd.Series(df['Day']) \n",
    "s2 = data1.head(15)      #print first 50 line\n",
    "print(\"\\nSample Series 2:\\n\",s2.head())"
   ]
  },
  {
   "cell_type": "code",
   "execution_count": 19,
   "id": "99d1065e",
   "metadata": {
    "execution": {
     "iopub.execute_input": "2022-09-26T13:11:01.029240Z",
     "iopub.status.busy": "2022-09-26T13:11:01.028907Z",
     "iopub.status.idle": "2022-09-26T13:11:01.034587Z",
     "shell.execute_reply": "2022-09-26T13:11:01.033676Z"
    },
    "papermill": {
     "duration": 0.060212,
     "end_time": "2022-09-26T13:11:01.037295",
     "exception": false,
     "start_time": "2022-09-26T13:11:00.977083",
     "status": "completed"
    },
    "tags": []
   },
   "outputs": [
    {
     "name": "stdout",
     "output_type": "stream",
     "text": [
      "Adding Series with the help of '+' Operator:\n",
      "0     45\n",
      "1     45\n",
      "2     72\n",
      "3     72\n",
      "4     62\n",
      "5     62\n",
      "6     69\n",
      "7     69\n",
      "8     57\n",
      "9     57\n",
      "10    62\n",
      "11    62\n",
      "12    49\n",
      "13    49\n",
      "14    31\n",
      "dtype: int64\n"
     ]
    }
   ],
   "source": [
    "print(\"Adding Series with the help of '+' Operator:\")\n",
    "print(s1+s2)"
   ]
  },
  {
   "cell_type": "code",
   "execution_count": 20,
   "id": "0455d8fa",
   "metadata": {
    "execution": {
     "iopub.execute_input": "2022-09-26T13:11:01.140363Z",
     "iopub.status.busy": "2022-09-26T13:11:01.140042Z",
     "iopub.status.idle": "2022-09-26T13:11:01.145465Z",
     "shell.execute_reply": "2022-09-26T13:11:01.144532Z"
    },
    "papermill": {
     "duration": 0.059413,
     "end_time": "2022-09-26T13:11:01.147894",
     "exception": false,
     "start_time": "2022-09-26T13:11:01.088481",
     "status": "completed"
    },
    "tags": []
   },
   "outputs": [
    {
     "name": "stdout",
     "output_type": "stream",
     "text": [
      "Adding Series with the help of add() Fun:\n",
      "0     45\n",
      "1     45\n",
      "2     72\n",
      "3     72\n",
      "4     62\n",
      "5     62\n",
      "6     69\n",
      "7     69\n",
      "8     57\n",
      "9     57\n",
      "10    62\n",
      "11    62\n",
      "12    49\n",
      "13    49\n",
      "14    31\n",
      "dtype: int64\n"
     ]
    }
   ],
   "source": [
    "print(\"Adding Series with the help of add() Fun:\")\n",
    "#print(pd.Series.add(s1,s2))  Both are the same\n",
    "print(s1.add(s2))\n"
   ]
  },
  {
   "cell_type": "markdown",
   "id": "8d53223d",
   "metadata": {
    "papermill": {
     "duration": 0.050358,
     "end_time": "2022-09-26T13:11:01.248519",
     "exception": false,
     "start_time": "2022-09-26T13:11:01.198161",
     "status": "completed"
    },
    "tags": []
   },
   "source": [
    "#### Subtraction with help of '-' and sub():"
   ]
  },
  {
   "cell_type": "code",
   "execution_count": 21,
   "id": "696e6943",
   "metadata": {
    "execution": {
     "iopub.execute_input": "2022-09-26T13:11:01.352814Z",
     "iopub.status.busy": "2022-09-26T13:11:01.351072Z",
     "iopub.status.idle": "2022-09-26T13:11:01.358044Z",
     "shell.execute_reply": "2022-09-26T13:11:01.356685Z"
    },
    "papermill": {
     "duration": 0.061147,
     "end_time": "2022-09-26T13:11:01.360165",
     "exception": false,
     "start_time": "2022-09-26T13:11:01.299018",
     "status": "completed"
    },
    "tags": []
   },
   "outputs": [
    {
     "name": "stdout",
     "output_type": "stream",
     "text": [
      "Subtract Series with the help of '-' Operator:\n",
      "0     -7\n",
      "1     -7\n",
      "2     26\n",
      "3     26\n",
      "4     32\n",
      "5     32\n",
      "6     25\n",
      "7     25\n",
      "8     13\n",
      "9     13\n",
      "10     2\n",
      "11     2\n",
      "12    19\n",
      "13    19\n",
      "14    27\n",
      "dtype: int64\n"
     ]
    }
   ],
   "source": [
    "print(\"Subtract Series with the help of '-' Operator:\")\n",
    "print(s1-s2)"
   ]
  },
  {
   "cell_type": "code",
   "execution_count": 22,
   "id": "02807eca",
   "metadata": {
    "execution": {
     "iopub.execute_input": "2022-09-26T13:11:01.464097Z",
     "iopub.status.busy": "2022-09-26T13:11:01.463071Z",
     "iopub.status.idle": "2022-09-26T13:11:01.470174Z",
     "shell.execute_reply": "2022-09-26T13:11:01.468651Z"
    },
    "papermill": {
     "duration": 0.060831,
     "end_time": "2022-09-26T13:11:01.472138",
     "exception": false,
     "start_time": "2022-09-26T13:11:01.411307",
     "status": "completed"
    },
    "tags": []
   },
   "outputs": [
    {
     "name": "stdout",
     "output_type": "stream",
     "text": [
      "Subtract Series with the help of sub() Fun:\n",
      "0     -7\n",
      "1     -7\n",
      "2     26\n",
      "3     26\n",
      "4     32\n",
      "5     32\n",
      "6     25\n",
      "7     25\n",
      "8     13\n",
      "9     13\n",
      "10     2\n",
      "11     2\n",
      "12    19\n",
      "13    19\n",
      "14    27\n",
      "dtype: int64\n"
     ]
    }
   ],
   "source": [
    "print(\"Subtract Series with the help of sub() Fun:\")\n",
    "#print(pd.Series.sub(s1,s2))  #Both are the same\n",
    "print(s1.sub(s2))"
   ]
  },
  {
   "cell_type": "markdown",
   "id": "6336b982",
   "metadata": {
    "papermill": {
     "duration": 0.051062,
     "end_time": "2022-09-26T13:11:01.574001",
     "exception": false,
     "start_time": "2022-09-26T13:11:01.522939",
     "status": "completed"
    },
    "tags": []
   },
   "source": [
    "#### Multiplication with help of '*' and mul():"
   ]
  },
  {
   "cell_type": "code",
   "execution_count": 23,
   "id": "9625f4b2",
   "metadata": {
    "execution": {
     "iopub.execute_input": "2022-09-26T13:11:01.679754Z",
     "iopub.status.busy": "2022-09-26T13:11:01.678868Z",
     "iopub.status.idle": "2022-09-26T13:11:01.685116Z",
     "shell.execute_reply": "2022-09-26T13:11:01.684074Z"
    },
    "papermill": {
     "duration": 0.062179,
     "end_time": "2022-09-26T13:11:01.688161",
     "exception": false,
     "start_time": "2022-09-26T13:11:01.625982",
     "status": "completed"
    },
    "tags": []
   },
   "outputs": [
    {
     "name": "stdout",
     "output_type": "stream",
     "text": [
      "Multiply Series with help of '*':\n",
      "0      494\n",
      "1      494\n",
      "2     1127\n",
      "3     1127\n",
      "4      705\n",
      "5      705\n",
      "6     1034\n",
      "7     1034\n",
      "8      770\n",
      "9      770\n",
      "10     960\n",
      "11     960\n",
      "12     510\n",
      "13     510\n",
      "14      58\n",
      "dtype: int64\n"
     ]
    }
   ],
   "source": [
    "print(\"Multiply Series with help of '*':\")\n",
    "print(s1*s2)"
   ]
  },
  {
   "cell_type": "code",
   "execution_count": 24,
   "id": "5337f34c",
   "metadata": {
    "execution": {
     "iopub.execute_input": "2022-09-26T13:11:01.791480Z",
     "iopub.status.busy": "2022-09-26T13:11:01.791178Z",
     "iopub.status.idle": "2022-09-26T13:11:01.796584Z",
     "shell.execute_reply": "2022-09-26T13:11:01.795675Z"
    },
    "papermill": {
     "duration": 0.061019,
     "end_time": "2022-09-26T13:11:01.800158",
     "exception": false,
     "start_time": "2022-09-26T13:11:01.739139",
     "status": "completed"
    },
    "tags": []
   },
   "outputs": [
    {
     "name": "stdout",
     "output_type": "stream",
     "text": [
      "Multiply Series with help of mul():\n",
      "0      494\n",
      "1      494\n",
      "2     1127\n",
      "3     1127\n",
      "4      705\n",
      "5      705\n",
      "6     1034\n",
      "7     1034\n",
      "8      770\n",
      "9      770\n",
      "10     960\n",
      "11     960\n",
      "12     510\n",
      "13     510\n",
      "14      58\n",
      "dtype: int64\n"
     ]
    }
   ],
   "source": [
    "print(\"Multiply Series with help of mul():\")\n",
    "# pd.series.mul(s1,s2)\n",
    "print(s1.mul(s2))"
   ]
  },
  {
   "cell_type": "markdown",
   "id": "043fc9d5",
   "metadata": {
    "papermill": {
     "duration": 0.050394,
     "end_time": "2022-09-26T13:11:01.903787",
     "exception": false,
     "start_time": "2022-09-26T13:11:01.853393",
     "status": "completed"
    },
    "tags": []
   },
   "source": [
    "#### Division with help of '/' and div():"
   ]
  },
  {
   "cell_type": "code",
   "execution_count": 25,
   "id": "7633a601",
   "metadata": {
    "execution": {
     "iopub.execute_input": "2022-09-26T13:11:02.006947Z",
     "iopub.status.busy": "2022-09-26T13:11:02.006630Z",
     "iopub.status.idle": "2022-09-26T13:11:02.012505Z",
     "shell.execute_reply": "2022-09-26T13:11:02.011579Z"
    },
    "papermill": {
     "duration": 0.060615,
     "end_time": "2022-09-26T13:11:02.015027",
     "exception": false,
     "start_time": "2022-09-26T13:11:01.954412",
     "status": "completed"
    },
    "tags": []
   },
   "outputs": [
    {
     "name": "stdout",
     "output_type": "stream",
     "text": [
      "Dividation of Series with help of '/' Operator:\n",
      "0      0.730769\n",
      "1      0.730769\n",
      "2      2.130435\n",
      "3      2.130435\n",
      "4      3.133333\n",
      "5      3.133333\n",
      "6      2.136364\n",
      "7      2.136364\n",
      "8      1.590909\n",
      "9      1.590909\n",
      "10     1.066667\n",
      "11     1.066667\n",
      "12     2.266667\n",
      "13     2.266667\n",
      "14    14.500000\n",
      "dtype: float64\n"
     ]
    }
   ],
   "source": [
    "print(\"Dividation of Series with help of '/' Operator:\")\n",
    "print(s1/s2)"
   ]
  },
  {
   "cell_type": "code",
   "execution_count": 26,
   "id": "4c00a36f",
   "metadata": {
    "execution": {
     "iopub.execute_input": "2022-09-26T13:11:02.120133Z",
     "iopub.status.busy": "2022-09-26T13:11:02.119181Z",
     "iopub.status.idle": "2022-09-26T13:11:02.125823Z",
     "shell.execute_reply": "2022-09-26T13:11:02.124792Z"
    },
    "papermill": {
     "duration": 0.061071,
     "end_time": "2022-09-26T13:11:02.128346",
     "exception": false,
     "start_time": "2022-09-26T13:11:02.067275",
     "status": "completed"
    },
    "tags": []
   },
   "outputs": [
    {
     "name": "stdout",
     "output_type": "stream",
     "text": [
      "Dividation of Series with help of mul() fun:\n",
      "0      0.730769\n",
      "1      0.730769\n",
      "2      2.130435\n",
      "3      2.130435\n",
      "4      3.133333\n",
      "5      3.133333\n",
      "6      2.136364\n",
      "7      2.136364\n",
      "8      1.590909\n",
      "9      1.590909\n",
      "10     1.066667\n",
      "11     1.066667\n",
      "12     2.266667\n",
      "13     2.266667\n",
      "14    14.500000\n",
      "dtype: float64\n"
     ]
    }
   ],
   "source": [
    "print(\"Dividation of Series with help of mul() fun:\")\n",
    "print(s1.div(s2))"
   ]
  },
  {
   "cell_type": "markdown",
   "id": "3ec69694",
   "metadata": {
    "papermill": {
     "duration": 0.050493,
     "end_time": "2022-09-26T13:11:02.230693",
     "exception": false,
     "start_time": "2022-09-26T13:11:02.180200",
     "status": "completed"
    },
    "tags": []
   },
   "source": [
    "#### Maximum of Series using max():"
   ]
  },
  {
   "cell_type": "code",
   "execution_count": 27,
   "id": "9b1f0e08",
   "metadata": {
    "execution": {
     "iopub.execute_input": "2022-09-26T13:11:02.335175Z",
     "iopub.status.busy": "2022-09-26T13:11:02.334805Z",
     "iopub.status.idle": "2022-09-26T13:11:02.340760Z",
     "shell.execute_reply": "2022-09-26T13:11:02.339545Z"
    },
    "papermill": {
     "duration": 0.062262,
     "end_time": "2022-09-26T13:11:02.343822",
     "exception": false,
     "start_time": "2022-09-26T13:11:02.281560",
     "status": "completed"
    },
    "tags": []
   },
   "outputs": [
    {
     "name": "stdout",
     "output_type": "stream",
     "text": [
      "Maximum of Series: 49\n",
      "Maximum of Series: 30\n"
     ]
    }
   ],
   "source": [
    "print(\"Maximum of Series:\",s1.max())\n",
    "print(\"Maximum of Series:\",s2.max())"
   ]
  },
  {
   "cell_type": "code",
   "execution_count": 28,
   "id": "79f62cfc",
   "metadata": {
    "execution": {
     "iopub.execute_input": "2022-09-26T13:11:02.455220Z",
     "iopub.status.busy": "2022-09-26T13:11:02.454321Z",
     "iopub.status.idle": "2022-09-26T13:11:02.461055Z",
     "shell.execute_reply": "2022-09-26T13:11:02.459735Z"
    },
    "papermill": {
     "duration": 0.061522,
     "end_time": "2022-09-26T13:11:02.463688",
     "exception": false,
     "start_time": "2022-09-26T13:11:02.402166",
     "status": "completed"
    },
    "tags": []
   },
   "outputs": [
    {
     "name": "stdout",
     "output_type": "stream",
     "text": [
      "Index of max S1: 2\n",
      "Index of max S2: 10\n"
     ]
    }
   ],
   "source": [
    "#Give Index of MAXIMUM\n",
    "print(\"Index of max S1:\",s1.idxmax())\n",
    "print(\"Index of max S2:\",s2.idxmax())"
   ]
  },
  {
   "cell_type": "markdown",
   "id": "98aa4f59",
   "metadata": {
    "papermill": {
     "duration": 0.051486,
     "end_time": "2022-09-26T13:11:02.568199",
     "exception": false,
     "start_time": "2022-09-26T13:11:02.516713",
     "status": "completed"
    },
    "tags": []
   },
   "source": [
    "#### Minimum of Series using min():"
   ]
  },
  {
   "cell_type": "code",
   "execution_count": 29,
   "id": "78b3b362",
   "metadata": {
    "execution": {
     "iopub.execute_input": "2022-09-26T13:11:02.672128Z",
     "iopub.status.busy": "2022-09-26T13:11:02.671797Z",
     "iopub.status.idle": "2022-09-26T13:11:02.677395Z",
     "shell.execute_reply": "2022-09-26T13:11:02.676425Z"
    },
    "papermill": {
     "duration": 0.06067,
     "end_time": "2022-09-26T13:11:02.680218",
     "exception": false,
     "start_time": "2022-09-26T13:11:02.619548",
     "status": "completed"
    },
    "tags": []
   },
   "outputs": [
    {
     "name": "stdout",
     "output_type": "stream",
     "text": [
      "Minimum of Series: 19\n",
      "Minimum of Series: 2\n"
     ]
    }
   ],
   "source": [
    "print(\"Minimum of Series:\",s1.min())\n",
    "print(\"Minimum of Series:\",s2.min())"
   ]
  },
  {
   "cell_type": "code",
   "execution_count": 30,
   "id": "00c7905f",
   "metadata": {
    "execution": {
     "iopub.execute_input": "2022-09-26T13:11:02.785798Z",
     "iopub.status.busy": "2022-09-26T13:11:02.785480Z",
     "iopub.status.idle": "2022-09-26T13:11:02.790942Z",
     "shell.execute_reply": "2022-09-26T13:11:02.789918Z"
    },
    "papermill": {
     "duration": 0.062138,
     "end_time": "2022-09-26T13:11:02.794529",
     "exception": false,
     "start_time": "2022-09-26T13:11:02.732391",
     "status": "completed"
    },
    "tags": []
   },
   "outputs": [
    {
     "name": "stdout",
     "output_type": "stream",
     "text": [
      "Index of MIN S1: 0\n",
      "Index of MIN S2: 14\n"
     ]
    }
   ],
   "source": [
    "#Give the index of MINIMUM\n",
    "print(\"Index of MIN S1:\",s1.idxmin())\n",
    "print(\"Index of MIN S2:\",s2.idxmin())"
   ]
  },
  {
   "cell_type": "markdown",
   "id": "cec0a5cb",
   "metadata": {
    "papermill": {
     "duration": 0.050869,
     "end_time": "2022-09-26T13:11:02.897716",
     "exception": false,
     "start_time": "2022-09-26T13:11:02.846847",
     "status": "completed"
    },
    "tags": []
   },
   "source": [
    "#### Sum of all element: Sum():"
   ]
  },
  {
   "cell_type": "code",
   "execution_count": 31,
   "id": "41cf212e",
   "metadata": {
    "execution": {
     "iopub.execute_input": "2022-09-26T13:11:03.001028Z",
     "iopub.status.busy": "2022-09-26T13:11:03.000712Z",
     "iopub.status.idle": "2022-09-26T13:11:03.006152Z",
     "shell.execute_reply": "2022-09-26T13:11:03.005263Z"
    },
    "papermill": {
     "duration": 0.060517,
     "end_time": "2022-09-26T13:11:03.008997",
     "exception": false,
     "start_time": "2022-09-26T13:11:02.948480",
     "status": "completed"
    },
    "tags": []
   },
   "outputs": [
    {
     "name": "stdout",
     "output_type": "stream",
     "text": [
      "Sum of all element S1: 555\n",
      "Sum of all element S2: 308\n"
     ]
    }
   ],
   "source": [
    "print(\"Sum of all element S1:\",s1.sum())\n",
    "print(\"Sum of all element S2:\",s2.sum())"
   ]
  },
  {
   "cell_type": "markdown",
   "id": "3576eb92",
   "metadata": {
    "papermill": {
     "duration": 0.051163,
     "end_time": "2022-09-26T13:11:03.111947",
     "exception": false,
     "start_time": "2022-09-26T13:11:03.060784",
     "status": "completed"
    },
    "tags": []
   },
   "source": [
    "#### Product of all Value:\n",
    "- Return the product of the values over the requested axis.\n",
    "- **Syntex** <h4>Series.prod(axis=None, skipna=True, level=None, numeric_only=None, min_count=0, **kwargs)</h4>"
   ]
  },
  {
   "cell_type": "code",
   "execution_count": 32,
   "id": "c0a18948",
   "metadata": {
    "execution": {
     "iopub.execute_input": "2022-09-26T13:11:03.216260Z",
     "iopub.status.busy": "2022-09-26T13:11:03.215913Z",
     "iopub.status.idle": "2022-09-26T13:11:03.221704Z",
     "shell.execute_reply": "2022-09-26T13:11:03.220766Z"
    },
    "papermill": {
     "duration": 0.060799,
     "end_time": "2022-09-26T13:11:03.224274",
     "exception": false,
     "start_time": "2022-09-26T13:11:03.163475",
     "status": "completed"
    },
    "tags": []
   },
   "outputs": [
    {
     "name": "stdout",
     "output_type": "stream",
     "text": [
      "Due to data type(int64 require higher) it is giviing wrong value: -1711325169118031872\n",
      "Data type: <class 'numpy.int64'>\n",
      "\n",
      "Product of s2 Sereis: 7633621679112000000\n"
     ]
    }
   ],
   "source": [
    "###Due to data type (int64) it is giving wrong value beacuse product value is very high can't store in int64\n",
    "\n",
    "print(\"Due to data type(int64 require higher) it is giviing wrong value:\",s1.prod())  \n",
    "print(\"Data type:\",type(s1.prod()))\n",
    "\n",
    "print(\"\\nProduct of s2 Sereis:\",s2.prod())"
   ]
  },
  {
   "cell_type": "markdown",
   "id": "97edab41",
   "metadata": {
    "papermill": {
     "duration": 0.051207,
     "end_time": "2022-09-26T13:11:03.327562",
     "exception": false,
     "start_time": "2022-09-26T13:11:03.276355",
     "status": "completed"
    },
    "tags": []
   },
   "source": [
    "#### Mean of Series Value:\n",
    "- Return the mean of the values over the requested axis.\n",
    "- **Syntax** <h4>Series.mean(axis=_NoDefault.no_default, skipna=True, level=None, numeric_only=None, **kwargs)</h4>\n",
    "\n"
   ]
  },
  {
   "cell_type": "code",
   "execution_count": 33,
   "id": "12a061fc",
   "metadata": {
    "execution": {
     "iopub.execute_input": "2022-09-26T13:11:03.433109Z",
     "iopub.status.busy": "2022-09-26T13:11:03.431404Z",
     "iopub.status.idle": "2022-09-26T13:11:03.437981Z",
     "shell.execute_reply": "2022-09-26T13:11:03.436955Z"
    },
    "papermill": {
     "duration": 0.061836,
     "end_time": "2022-09-26T13:11:03.440558",
     "exception": false,
     "start_time": "2022-09-26T13:11:03.378722",
     "status": "completed"
    },
    "tags": []
   },
   "outputs": [
    {
     "name": "stdout",
     "output_type": "stream",
     "text": [
      "Mean of series 1 value: 37.0\n",
      "Mean of series 2 value: 20.533333333333335\n"
     ]
    }
   ],
   "source": [
    "print(\"Mean of series 1 value:\",s1.mean())\n",
    "print(\"Mean of series 2 value:\",s2.mean())"
   ]
  },
  {
   "cell_type": "markdown",
   "id": "da050a1b",
   "metadata": {
    "papermill": {
     "duration": 0.051102,
     "end_time": "2022-09-26T13:11:03.543584",
     "exception": false,
     "start_time": "2022-09-26T13:11:03.492482",
     "status": "completed"
    },
    "tags": []
   },
   "source": [
    "#### Power of Series Value:\n",
    "- Return Exponential power of series and other, element-wise (binary operator pow).\n",
    "- **Syntax:** <h4>Series.pow(other, level=None, fill_value=None, axis=0)</h4>"
   ]
  },
  {
   "cell_type": "code",
   "execution_count": 34,
   "id": "e1986d72",
   "metadata": {
    "execution": {
     "iopub.execute_input": "2022-09-26T13:11:03.648105Z",
     "iopub.status.busy": "2022-09-26T13:11:03.647781Z",
     "iopub.status.idle": "2022-09-26T13:11:03.660430Z",
     "shell.execute_reply": "2022-09-26T13:11:03.659492Z"
    },
    "papermill": {
     "duration": 0.068134,
     "end_time": "2022-09-26T13:11:03.663176",
     "exception": false,
     "start_time": "2022-09-26T13:11:03.595042",
     "status": "completed"
    },
    "tags": []
   },
   "outputs": [
    {
     "name": "stdout",
     "output_type": "stream",
     "text": [
      "Power of Series 1 value:\n",
      " 0      361.0\n",
      "1      361.0\n",
      "2     2401.0\n",
      "3     2401.0\n",
      "4     2209.0\n",
      "5     2209.0\n",
      "6     2209.0\n",
      "7     2209.0\n",
      "8     1225.0\n",
      "9     1225.0\n",
      "10    1024.0\n",
      "11    1024.0\n",
      "12    1156.0\n",
      "13    1156.0\n",
      "14     841.0\n",
      "15       NaN\n",
      "16       NaN\n",
      "dtype: float64\n",
      "\n",
      "Power of Series 2 value:\n",
      " 0     676.0\n",
      "1     676.0\n",
      "2     529.0\n",
      "3     529.0\n",
      "4     225.0\n",
      "5     225.0\n",
      "6     484.0\n",
      "7     484.0\n",
      "8     484.0\n",
      "9     484.0\n",
      "10    900.0\n",
      "11    900.0\n",
      "12    225.0\n",
      "13    225.0\n",
      "14      4.0\n",
      "15      NaN\n",
      "16      NaN\n",
      "dtype: float64\n"
     ]
    }
   ],
   "source": [
    "list1=[2 for i in range(17)]\n",
    "power=pd.Series(list1)\n",
    "\n",
    "#power is series with value 2 as POWER to Series s1.\n",
    "print(\"Power of Series 1 value:\\n\",s1.pow(power)) \n",
    "print(\"\\nPower of Series 2 value:\\n\",s2.pow(power))"
   ]
  },
  {
   "cell_type": "code",
   "execution_count": 35,
   "id": "0aa7f493",
   "metadata": {
    "execution": {
     "iopub.execute_input": "2022-09-26T13:11:03.770977Z",
     "iopub.status.busy": "2022-09-26T13:11:03.770099Z",
     "iopub.status.idle": "2022-09-26T13:11:03.780023Z",
     "shell.execute_reply": "2022-09-26T13:11:03.778363Z"
    },
    "papermill": {
     "duration": 0.065837,
     "end_time": "2022-09-26T13:11:03.782160",
     "exception": false,
     "start_time": "2022-09-26T13:11:03.716323",
     "status": "completed"
    },
    "tags": []
   },
   "outputs": [
    {
     "name": "stdout",
     "output_type": "stream",
     "text": [
      "Power of Series 1 value:\n",
      " 0      361.0\n",
      "1      361.0\n",
      "2     2401.0\n",
      "3     2401.0\n",
      "4     2209.0\n",
      "5     2209.0\n",
      "6     2209.0\n",
      "7     2209.0\n",
      "8     1225.0\n",
      "9     1225.0\n",
      "10    1024.0\n",
      "11    1024.0\n",
      "12    1156.0\n",
      "13    1156.0\n",
      "14     841.0\n",
      "15       0.0\n",
      "16       0.0\n",
      "dtype: float64\n",
      "\n",
      "Power of Series 2 value:\n",
      " 0     676.0\n",
      "1     676.0\n",
      "2     529.0\n",
      "3     529.0\n",
      "4     225.0\n",
      "5     225.0\n",
      "6     484.0\n",
      "7     484.0\n",
      "8     484.0\n",
      "9     484.0\n",
      "10    900.0\n",
      "11    900.0\n",
      "12    225.0\n",
      "13    225.0\n",
      "14      4.0\n",
      "15      0.0\n",
      "16      0.0\n",
      "dtype: float64\n"
     ]
    }
   ],
   "source": [
    "# NaN NONE value replacement \n",
    "None_value=0\n",
    "print(\"Power of Series 1 value:\\n\",s1.pow(power,fill_value=None_value)) \n",
    "print(\"\\nPower of Series 2 value:\\n\",s2.pow(power,fill_value=None_value))"
   ]
  },
  {
   "cell_type": "markdown",
   "id": "598284e9",
   "metadata": {
    "papermill": {
     "duration": 0.051509,
     "end_time": "2022-09-26T13:11:03.884923",
     "exception": false,
     "start_time": "2022-09-26T13:11:03.833414",
     "status": "completed"
    },
    "tags": []
   },
   "source": [
    "#### Absolute value / abs():\n",
    "- The abs() function is used to get a Series/DataFrame with absolute numeric value of each element.|\n",
    "- This function only applies to elements that are all numeric"
   ]
  },
  {
   "cell_type": "code",
   "execution_count": 36,
   "id": "337d5889",
   "metadata": {
    "execution": {
     "iopub.execute_input": "2022-09-26T13:11:04.032278Z",
     "iopub.status.busy": "2022-09-26T13:11:04.031580Z",
     "iopub.status.idle": "2022-09-26T13:11:04.038967Z",
     "shell.execute_reply": "2022-09-26T13:11:04.037967Z"
    },
    "papermill": {
     "duration": 0.063317,
     "end_time": "2022-09-26T13:11:04.041856",
     "exception": false,
     "start_time": "2022-09-26T13:11:03.978539",
     "status": "completed"
    },
    "tags": []
   },
   "outputs": [
    {
     "name": "stdout",
     "output_type": "stream",
     "text": [
      "Original test Series:\n",
      " 0     -1.0\n",
      "1      3.0\n",
      "2     -4.0\n",
      "3     -4.5\n",
      "4    -10.3\n",
      "5    -90.0\n",
      "6    100.0\n",
      "dtype: float64 \n",
      "\n",
      "Finding absolute value of Series:\n",
      " 0      1.0\n",
      "1      3.0\n",
      "2      4.0\n",
      "3      4.5\n",
      "4     10.3\n",
      "5     90.0\n",
      "6    100.0\n",
      "dtype: float64\n"
     ]
    }
   ],
   "source": [
    "test=pd.Series([-1,3,-4,-4.5,-10.3,-90,100])\n",
    "print(\"Original test Series:\\n\",test,\"\\n\\nFinding absolute value of Series:\\n\",test.abs())"
   ]
  },
  {
   "cell_type": "code",
   "execution_count": 37,
   "id": "8330029f",
   "metadata": {
    "execution": {
     "iopub.execute_input": "2022-09-26T13:11:04.147889Z",
     "iopub.status.busy": "2022-09-26T13:11:04.146276Z",
     "iopub.status.idle": "2022-09-26T13:11:04.167466Z",
     "shell.execute_reply": "2022-09-26T13:11:04.165898Z"
    },
    "papermill": {
     "duration": 0.075921,
     "end_time": "2022-09-26T13:11:04.169894",
     "exception": false,
     "start_time": "2022-09-26T13:11:04.093973",
     "status": "completed"
    },
    "tags": []
   },
   "outputs": [
    {
     "name": "stdout",
     "output_type": "stream",
     "text": [
      "First it perform '-' Operation and than absolute:\n"
     ]
    },
    {
     "data": {
      "text/html": [
       "<div>\n",
       "<style scoped>\n",
       "    .dataframe tbody tr th:only-of-type {\n",
       "        vertical-align: middle;\n",
       "    }\n",
       "\n",
       "    .dataframe tbody tr th {\n",
       "        vertical-align: top;\n",
       "    }\n",
       "\n",
       "    .dataframe thead th {\n",
       "        text-align: right;\n",
       "    }\n",
       "</style>\n",
       "<table border=\"1\" class=\"dataframe\">\n",
       "  <thead>\n",
       "    <tr style=\"text-align: right;\">\n",
       "      <th></th>\n",
       "      <th>Name</th>\n",
       "      <th>Age</th>\n",
       "      <th>val</th>\n",
       "      <th>ope</th>\n",
       "    </tr>\n",
       "  </thead>\n",
       "  <tbody>\n",
       "    <tr>\n",
       "      <th>0</th>\n",
       "      <td>John</td>\n",
       "      <td>31</td>\n",
       "      <td>98</td>\n",
       "      <td>11</td>\n",
       "    </tr>\n",
       "    <tr>\n",
       "      <th>1</th>\n",
       "      <td>Hari</td>\n",
       "      <td>29</td>\n",
       "      <td>48</td>\n",
       "      <td>39</td>\n",
       "    </tr>\n",
       "    <tr>\n",
       "      <th>2</th>\n",
       "      <td>Peter</td>\n",
       "      <td>57</td>\n",
       "      <td>-80</td>\n",
       "      <td>167</td>\n",
       "    </tr>\n",
       "    <tr>\n",
       "      <th>3</th>\n",
       "      <td>Loani</td>\n",
       "      <td>40</td>\n",
       "      <td>-14</td>\n",
       "      <td>101</td>\n",
       "    </tr>\n",
       "  </tbody>\n",
       "</table>\n",
       "</div>"
      ],
      "text/plain": [
       "    Name  Age  val  ope\n",
       "0   John   31   98   11\n",
       "1   Hari   29   48   39\n",
       "2  Peter   57  -80  167\n",
       "3  Loani   40  -14  101"
      ]
     },
     "execution_count": 37,
     "metadata": {},
     "output_type": "execute_result"
    }
   ],
   "source": [
    "df = pd.DataFrame({'Name': ['John', 'Hari', 'Peter', 'Loani'],\n",
    "                  'Age': [31, 29, 57, 40],\n",
    "                  'val': [98, 48, -80, -14]})\n",
    " \n",
    "\n",
    "print(\"First it perform '-' Operation and than absolute:\")\n",
    "df['ope'] = (df.val - 87).abs() \n",
    "df"
   ]
  },
  {
   "cell_type": "markdown",
   "id": "8c366929",
   "metadata": {
    "papermill": {
     "duration": 0.051178,
     "end_time": "2022-09-26T13:11:04.272986",
     "exception": false,
     "start_time": "2022-09-26T13:11:04.221808",
     "status": "completed"
    },
    "tags": []
   },
   "source": [
    "#### Covariance\n",
    "- Compute covariance with Series, excluding missing values.\n",
    "- **Syntax** <h4>Series.cov(other, min_periods=None, ddof=1)"
   ]
  },
  {
   "cell_type": "code",
   "execution_count": 38,
   "id": "1426247f",
   "metadata": {
    "execution": {
     "iopub.execute_input": "2022-09-26T13:11:04.377875Z",
     "iopub.status.busy": "2022-09-26T13:11:04.376996Z",
     "iopub.status.idle": "2022-09-26T13:11:04.384928Z",
     "shell.execute_reply": "2022-09-26T13:11:04.383908Z"
    },
    "papermill": {
     "duration": 0.063172,
     "end_time": "2022-09-26T13:11:04.387607",
     "exception": false,
     "start_time": "2022-09-26T13:11:04.324435",
     "status": "completed"
    },
    "tags": []
   },
   "outputs": [
    {
     "name": "stdout",
     "output_type": "stream",
     "text": [
      "Find covariance of Sereis: -9.857142857142854\n",
      "Find covariance of Sereis: -9.857142857142854\n"
     ]
    }
   ],
   "source": [
    "print(\"Find covariance of Sereis:\",s2.cov(s1))\n",
    "print(\"Find covariance of Sereis:\",s1.cov(s2))"
   ]
  },
  {
   "cell_type": "code",
   "execution_count": 39,
   "id": "e01e2f0e",
   "metadata": {
    "execution": {
     "iopub.execute_input": "2022-09-26T13:11:04.493022Z",
     "iopub.status.busy": "2022-09-26T13:11:04.492171Z",
     "iopub.status.idle": "2022-09-26T13:11:04.500441Z",
     "shell.execute_reply": "2022-09-26T13:11:04.499066Z"
    },
    "papermill": {
     "duration": 0.063428,
     "end_time": "2022-09-26T13:11:04.503016",
     "exception": false,
     "start_time": "2022-09-26T13:11:04.439588",
     "status": "completed"
    },
    "tags": []
   },
   "outputs": [
    {
     "name": "stdout",
     "output_type": "stream",
     "text": [
      "By Manually: -9.857142857142856\n"
     ]
    }
   ],
   "source": [
    "# storing average of a\n",
    "av_a = sum(s1)/len(s1)\n",
    " \n",
    "# storing average of b\n",
    "av_b = sum(s2)/len(s2)\n",
    " \n",
    "# finding covariance manually\n",
    "def covarfn(a, b, av_a, av_b):\n",
    "    cov = 0\n",
    " \n",
    "    for i in range(0, len(a)):\n",
    "        cov += (a[i] - av_a) * (b[i] - av_b)\n",
    "    return (cov / (len(a)-1))\n",
    " \n",
    "# calling function\n",
    "cov = covarfn(s1, s2, av_a, av_b)\n",
    "\n",
    "print(\"By Manually:\",cov)"
   ]
  },
  {
   "cell_type": "code",
   "execution_count": 40,
   "id": "ebbf96b8",
   "metadata": {
    "execution": {
     "iopub.execute_input": "2022-09-26T13:11:04.608368Z",
     "iopub.status.busy": "2022-09-26T13:11:04.607746Z",
     "iopub.status.idle": "2022-09-26T13:11:04.615116Z",
     "shell.execute_reply": "2022-09-26T13:11:04.613603Z"
    },
    "papermill": {
     "duration": 0.062794,
     "end_time": "2022-09-26T13:11:04.617680",
     "exception": false,
     "start_time": "2022-09-26T13:11:04.554886",
     "status": "completed"
    },
    "tags": []
   },
   "outputs": [
    {
     "name": "stdout",
     "output_type": "stream",
     "text": [
      "Find covariance of Sereis: 105.42857142857142\n",
      "Find covariance of Sereis: 51.838095238095235\n"
     ]
    }
   ],
   "source": [
    "print(\"Find covariance of Sereis:\",s1.cov(s1))\n",
    "print(\"Find covariance of Sereis:\",s2.cov(s2))"
   ]
  },
  {
   "cell_type": "markdown",
   "id": "03bb476d",
   "metadata": {
    "papermill": {
     "duration": 0.051421,
     "end_time": "2022-09-26T13:11:04.721351",
     "exception": false,
     "start_time": "2022-09-26T13:11:04.669930",
     "status": "completed"
    },
    "tags": []
   },
   "source": [
    "## Attributes Practise:\n",
    "### Python | pandas.Series.is_unique:\n",
    "- Return boolean if values in the object are unique.\n",
    "- **Syntax** <h4>property Series.is_unique[source]</h4>\n"
   ]
  },
  {
   "cell_type": "code",
   "execution_count": 41,
   "id": "3ea6abc3",
   "metadata": {
    "execution": {
     "iopub.execute_input": "2022-09-26T13:11:04.827130Z",
     "iopub.status.busy": "2022-09-26T13:11:04.826797Z",
     "iopub.status.idle": "2022-09-26T13:11:04.833017Z",
     "shell.execute_reply": "2022-09-26T13:11:04.832081Z"
    },
    "papermill": {
     "duration": 0.061813,
     "end_time": "2022-09-26T13:11:04.835567",
     "exception": false,
     "start_time": "2022-09-26T13:11:04.773754",
     "status": "completed"
    },
    "tags": []
   },
   "outputs": [
    {
     "name": "stdout",
     "output_type": "stream",
     "text": [
      "Is s1 Unique? False\n",
      "Is s2 Unique? False\n",
      "Is a Unique? True\n"
     ]
    }
   ],
   "source": [
    "print(\"Is s1 Unique?\",s1.is_unique)\n",
    "print(\"Is s2 Unique?\",s2.is_unique)\n",
    "\n",
    "a=pd.Series([1,2,3,4,5,6,7,8,9])\n",
    "print(\"Is a Unique?\",a.is_unique)\n"
   ]
  },
  {
   "cell_type": "markdown",
   "id": "515d5f60",
   "metadata": {
    "papermill": {
     "duration": 0.051589,
     "end_time": "2022-09-26T13:11:04.939713",
     "exception": false,
     "start_time": "2022-09-26T13:11:04.888124",
     "status": "completed"
    },
    "tags": []
   },
   "source": [
    "### Python | pandas.Series.size:\n",
    "- Return the number of elements in the underlying data.\n",
    "- **Syntax** <h4>property Series.size</h4>\n",
    "\n"
   ]
  },
  {
   "cell_type": "code",
   "execution_count": 42,
   "id": "7e239747",
   "metadata": {
    "execution": {
     "iopub.execute_input": "2022-09-26T13:11:05.046159Z",
     "iopub.status.busy": "2022-09-26T13:11:05.044420Z",
     "iopub.status.idle": "2022-09-26T13:11:05.051129Z",
     "shell.execute_reply": "2022-09-26T13:11:05.049856Z"
    },
    "papermill": {
     "duration": 0.062284,
     "end_time": "2022-09-26T13:11:05.053700",
     "exception": false,
     "start_time": "2022-09-26T13:11:04.991416",
     "status": "completed"
    },
    "tags": []
   },
   "outputs": [
    {
     "name": "stdout",
     "output_type": "stream",
     "text": [
      "Size of s1: 15\n",
      "Size of s1: 15\n",
      "Size of s1: 9\n"
     ]
    }
   ],
   "source": [
    "print(\"Size of s1:\",s1.size)\n",
    "print(\"Size of s1:\",s2.size)\n",
    "print(\"Size of s1:\",a.size)"
   ]
  },
  {
   "cell_type": "markdown",
   "id": "2284da10",
   "metadata": {
    "papermill": {
     "duration": 0.055514,
     "end_time": "2022-09-26T13:11:05.161853",
     "exception": false,
     "start_time": "2022-09-26T13:11:05.106339",
     "status": "completed"
    },
    "tags": []
   },
   "source": [
    "#### Python | pandas.Series.name:\n",
    "- Return the name of the Series.\n",
    "- **Syntax** <h4>property Series.name</h4>\n",
    "\n",
    "- FOR RENAME WE USE RENAME ATTRIBUTE"
   ]
  },
  {
   "cell_type": "code",
   "execution_count": 43,
   "id": "fbb3cc04",
   "metadata": {
    "execution": {
     "iopub.execute_input": "2022-09-26T13:11:05.266784Z",
     "iopub.status.busy": "2022-09-26T13:11:05.266429Z",
     "iopub.status.idle": "2022-09-26T13:11:05.273087Z",
     "shell.execute_reply": "2022-09-26T13:11:05.272164Z"
    },
    "papermill": {
     "duration": 0.062,
     "end_time": "2022-09-26T13:11:05.275419",
     "exception": false,
     "start_time": "2022-09-26T13:11:05.213419",
     "status": "completed"
    },
    "tags": []
   },
   "outputs": [
    {
     "name": "stdout",
     "output_type": "stream",
     "text": [
      "0    19\n",
      "1    19\n",
      "2    49\n",
      "3    49\n",
      "4    47\n",
      "Name: First_Series_S1, dtype: int64\n",
      "\n",
      "0    26\n",
      "1    26\n",
      "2    23\n",
      "3    23\n",
      "4    15\n",
      "Name: Second_Series_S2, dtype: int64\n"
     ]
    }
   ],
   "source": [
    "s1.name=\"First_Series_S1\"\n",
    "s2.name=\"Second_Series_S2\"\n",
    "print(s1.head())\n",
    "print()\n",
    "print(s2.head())"
   ]
  },
  {
   "cell_type": "markdown",
   "id": "e1fa2c80",
   "metadata": {
    "papermill": {
     "duration": 0.051979,
     "end_time": "2022-09-26T13:11:05.379053",
     "exception": false,
     "start_time": "2022-09-26T13:11:05.327074",
     "status": "completed"
    },
    "tags": []
   },
   "source": []
  },
  {
   "cell_type": "code",
   "execution_count": null,
   "id": "e3cb5b0d",
   "metadata": {
    "papermill": {
     "duration": 0.052149,
     "end_time": "2022-09-26T13:11:05.483240",
     "exception": false,
     "start_time": "2022-09-26T13:11:05.431091",
     "status": "completed"
    },
    "tags": []
   },
   "outputs": [],
   "source": []
  },
  {
   "cell_type": "markdown",
   "id": "77e20d74",
   "metadata": {
    "papermill": {
     "duration": 0.051557,
     "end_time": "2022-09-26T13:11:05.587109",
     "exception": false,
     "start_time": "2022-09-26T13:11:05.535552",
     "status": "completed"
    },
    "tags": []
   },
   "source": [
    "## Other Methods Practise:\n",
    "### Python | Pandas Series.combine_first()\n",
    "- Pandas combine_first() method is used to combine two series into one. The result is union of the two series that is in case of Null value in caller series, the value from passed series is taken. In case of both null values at the same index, null is returned at that index.\n",
    "- **Syntax** <h4>Series.combine_first(other)</h4>\n",
    "- Update null elements with value in the same location in ‘other’.\n",
    "\n"
   ]
  },
  {
   "cell_type": "code",
   "execution_count": 44,
   "id": "ee015156",
   "metadata": {
    "execution": {
     "iopub.execute_input": "2022-09-26T13:11:05.693124Z",
     "iopub.status.busy": "2022-09-26T13:11:05.692134Z",
     "iopub.status.idle": "2022-09-26T13:11:05.703361Z",
     "shell.execute_reply": "2022-09-26T13:11:05.702419Z"
    },
    "papermill": {
     "duration": 0.067184,
     "end_time": "2022-09-26T13:11:05.706209",
     "exception": false,
     "start_time": "2022-09-26T13:11:05.639025",
     "status": "completed"
    },
    "tags": []
   },
   "outputs": [
    {
     "name": "stdout",
     "output_type": "stream",
     "text": [
      "Series 1: 0    1.0\n",
      "1    2.0\n",
      "2    3.0\n",
      "3    4.0\n",
      "4    5.0\n",
      "5    NaN\n",
      "dtype: float64\n",
      "\n",
      "Series 2: 0    1.0\n",
      "1    2.0\n",
      "2    3.0\n",
      "3    4.0\n",
      "4    5.0\n",
      "5    NaN\n",
      "dtype: float64\n",
      "\n",
      "Combine List 0    1.0\n",
      "1    2.0\n",
      "2    3.0\n",
      "3    4.0\n",
      "4    5.0\n",
      "5    6.0\n",
      "dtype: float64\n",
      "\n",
      "Combine List if both have none value at same place 0    1.0\n",
      "1    2.0\n",
      "2    3.0\n",
      "3    4.0\n",
      "4    5.0\n",
      "5    NaN\n",
      "dtype: float64\n"
     ]
    }
   ],
   "source": [
    "a=pd.Series([1,2,3,4,5,np.nan])\n",
    "b=pd.Series([1,2,3,4,5,6])\n",
    "\n",
    "\n",
    "print(\"Series 1:\",a)\n",
    "print(\"\\nSeries 2:\",a)\n",
    "print(\"\\nCombine List\",a.combine_first(b))\n",
    "print(\"\\nCombine List if both have none value at same place\",a.combine_first(a))\n"
   ]
  },
  {
   "cell_type": "markdown",
   "id": "46e8fedc",
   "metadata": {
    "papermill": {
     "duration": 0.052919,
     "end_time": "2022-09-26T13:11:05.812431",
     "exception": false,
     "start_time": "2022-09-26T13:11:05.759512",
     "status": "completed"
    },
    "tags": []
   },
   "source": [
    "### Python | Pandas Series.count():\n",
    "- Return number of non-NA/null observations in the Series.\n",
    "- **Syntax** <h4>Series.count(level=None)[source]\n"
   ]
  },
  {
   "cell_type": "code",
   "execution_count": 45,
   "id": "ab89929e",
   "metadata": {
    "execution": {
     "iopub.execute_input": "2022-09-26T13:11:05.919071Z",
     "iopub.status.busy": "2022-09-26T13:11:05.918478Z",
     "iopub.status.idle": "2022-09-26T13:11:05.924555Z",
     "shell.execute_reply": "2022-09-26T13:11:05.923366Z"
    },
    "papermill": {
     "duration": 0.062577,
     "end_time": "2022-09-26T13:11:05.927315",
     "exception": false,
     "start_time": "2022-09-26T13:11:05.864738",
     "status": "completed"
    },
    "tags": []
   },
   "outputs": [
    {
     "name": "stdout",
     "output_type": "stream",
     "text": [
      "Length of Series: 6\n",
      "Count of Non-NULL(NaN) value: 5\n",
      "Count of NULL value: 1\n"
     ]
    }
   ],
   "source": [
    "print(\"Length of Series:\",len(a))\n",
    "print(\"Count of Non-NULL(NaN) value:\",a.count())\n",
    "print(\"Count of NULL value:\",len(a)-a.count())"
   ]
  },
  {
   "cell_type": "markdown",
   "id": "82786554",
   "metadata": {
    "papermill": {
     "duration": 0.052373,
     "end_time": "2022-09-26T13:11:06.032887",
     "exception": false,
     "start_time": "2022-09-26T13:11:05.980514",
     "status": "completed"
    },
    "tags": []
   },
   "source": [
    "### Python | pandas.Series.sort_values():\n",
    "- Sort by the values.\n",
    "    - Sort a Series in ascending or descending order by some criterion.\n",
    "- **Syntax** <h4>Series.sort_values(axis=0, ascending=True, inplace=False, kind='quicksort', na_position='last', ignore_index=False, key=None)\n"
   ]
  },
  {
   "cell_type": "code",
   "execution_count": 46,
   "id": "1dc4e556",
   "metadata": {
    "execution": {
     "iopub.execute_input": "2022-09-26T13:11:06.139219Z",
     "iopub.status.busy": "2022-09-26T13:11:06.138507Z",
     "iopub.status.idle": "2022-09-26T13:11:06.144625Z",
     "shell.execute_reply": "2022-09-26T13:11:06.143678Z"
    },
    "papermill": {
     "duration": 0.061842,
     "end_time": "2022-09-26T13:11:06.147375",
     "exception": false,
     "start_time": "2022-09-26T13:11:06.085533",
     "status": "completed"
    },
    "tags": []
   },
   "outputs": [
    {
     "name": "stdout",
     "output_type": "stream",
     "text": [
      "Sorting values by values of Series:\n",
      " 0     19\n",
      "1     19\n",
      "14    29\n",
      "10    32\n",
      "11    32\n",
      "12    34\n",
      "13    34\n",
      "8     35\n",
      "9     35\n",
      "4     47\n",
      "5     47\n",
      "6     47\n",
      "7     47\n",
      "2     49\n",
      "3     49\n",
      "Name: First_Series_S1, dtype: int64\n"
     ]
    }
   ],
   "source": [
    "print(\"Sorting values by values of Series:\\n\",s1.sort_values(ascending=True))"
   ]
  },
  {
   "cell_type": "code",
   "execution_count": 47,
   "id": "a3acc40c",
   "metadata": {
    "execution": {
     "iopub.execute_input": "2022-09-26T13:11:06.255696Z",
     "iopub.status.busy": "2022-09-26T13:11:06.254740Z",
     "iopub.status.idle": "2022-09-26T13:11:06.260983Z",
     "shell.execute_reply": "2022-09-26T13:11:06.260023Z"
    },
    "papermill": {
     "duration": 0.062609,
     "end_time": "2022-09-26T13:11:06.263606",
     "exception": false,
     "start_time": "2022-09-26T13:11:06.200997",
     "status": "completed"
    },
    "tags": []
   },
   "outputs": [
    {
     "name": "stdout",
     "output_type": "stream",
     "text": [
      "Sorting values by values of Series:\n",
      " 2     49\n",
      "3     49\n",
      "4     47\n",
      "5     47\n",
      "6     47\n",
      "7     47\n",
      "8     35\n",
      "9     35\n",
      "12    34\n",
      "13    34\n",
      "10    32\n",
      "11    32\n",
      "14    29\n",
      "0     19\n",
      "1     19\n",
      "Name: First_Series_S1, dtype: int64\n"
     ]
    }
   ],
   "source": [
    "print(\"Sorting values by values of Series:\\n\",s1.sort_values(ascending=False))"
   ]
  },
  {
   "cell_type": "markdown",
   "id": "a54b0c45",
   "metadata": {
    "papermill": {
     "duration": 0.052951,
     "end_time": "2022-09-26T13:11:06.409641",
     "exception": false,
     "start_time": "2022-09-26T13:11:06.356690",
     "status": "completed"
    },
    "tags": []
   },
   "source": [
    "- Returns a new Series sorted by label if inplace argument is False, otherwise updates the original series and returns None"
   ]
  },
  {
   "cell_type": "code",
   "execution_count": 48,
   "id": "554870fe",
   "metadata": {
    "execution": {
     "iopub.execute_input": "2022-09-26T13:11:06.516100Z",
     "iopub.status.busy": "2022-09-26T13:11:06.515740Z",
     "iopub.status.idle": "2022-09-26T13:11:06.523138Z",
     "shell.execute_reply": "2022-09-26T13:11:06.521425Z"
    },
    "papermill": {
     "duration": 0.063208,
     "end_time": "2022-09-26T13:11:06.525154",
     "exception": false,
     "start_time": "2022-09-26T13:11:06.461946",
     "status": "completed"
    },
    "tags": []
   },
   "outputs": [
    {
     "name": "stdout",
     "output_type": "stream",
     "text": [
      "Print 'None'(Reason above): None\n",
      "2     49\n",
      "3     49\n",
      "4     47\n",
      "5     47\n",
      "6     47\n",
      "7     47\n",
      "8     35\n",
      "9     35\n",
      "12    34\n",
      "13    34\n",
      "10    32\n",
      "11    32\n",
      "14    29\n",
      "0     19\n",
      "1     19\n",
      "Name: First_Series_S1, dtype: int64\n"
     ]
    }
   ],
   "source": [
    "print(\"Print 'None'(Reason above):\",s1.sort_values(ascending=False,inplace=True))\n",
    "print(s1)"
   ]
  },
  {
   "cell_type": "code",
   "execution_count": 49,
   "id": "e1417d08",
   "metadata": {
    "execution": {
     "iopub.execute_input": "2022-09-26T13:11:06.643390Z",
     "iopub.status.busy": "2022-09-26T13:11:06.643045Z",
     "iopub.status.idle": "2022-09-26T13:11:06.653378Z",
     "shell.execute_reply": "2022-09-26T13:11:06.651665Z"
    },
    "papermill": {
     "duration": 0.07092,
     "end_time": "2022-09-26T13:11:06.655587",
     "exception": false,
     "start_time": "2022-09-26T13:11:06.584667",
     "status": "completed"
    },
    "tags": []
   },
   "outputs": [
    {
     "name": "stdout",
     "output_type": "stream",
     "text": [
      "Sorting values by values of Series:\n",
      " 3    NaN\n",
      "6    NaN\n",
      "0    1.0\n",
      "1    2.0\n",
      "2    3.0\n",
      "5    4.0\n",
      "8    4.0\n",
      "4    5.0\n",
      "7    6.0\n",
      "dtype: float64\n",
      "Sorting values by values of Series:\n",
      " 0    1.0\n",
      "1    2.0\n",
      "2    3.0\n",
      "5    4.0\n",
      "8    4.0\n",
      "4    5.0\n",
      "7    6.0\n",
      "3    NaN\n",
      "6    NaN\n",
      "dtype: float64\n"
     ]
    }
   ],
   "source": [
    "a=pd.Series([1,2,3,np.nan,5,4,np.nan,6,4])\n",
    "print(\"Sorting values by values of Series:\\n\",a.sort_values(ascending=True,na_position='first'))\n",
    "print(\"Sorting values by values of Series:\\n\",a.sort_values(ascending=True,na_position='last'))"
   ]
  },
  {
   "cell_type": "code",
   "execution_count": 50,
   "id": "ff235817",
   "metadata": {
    "execution": {
     "iopub.execute_input": "2022-09-26T13:11:06.763929Z",
     "iopub.status.busy": "2022-09-26T13:11:06.763573Z",
     "iopub.status.idle": "2022-09-26T13:11:06.770943Z",
     "shell.execute_reply": "2022-09-26T13:11:06.769627Z"
    },
    "papermill": {
     "duration": 0.062919,
     "end_time": "2022-09-26T13:11:06.772974",
     "exception": false,
     "start_time": "2022-09-26T13:11:06.710055",
     "status": "completed"
    },
    "tags": []
   },
   "outputs": [
    {
     "name": "stdout",
     "output_type": "stream",
     "text": [
      "Sorting values by values of Series:\n",
      " 3    a\n",
      "1    b\n",
      "4    c\n",
      "2    d\n",
      "0    z\n",
      "dtype: object\n"
     ]
    }
   ],
   "source": [
    "test = pd.Series(['z', 'b', 'd', 'a', 'c'])\n",
    "print(\"Sorting values by values of Series:\\n\",test.sort_values())\n"
   ]
  },
  {
   "cell_type": "code",
   "execution_count": 51,
   "id": "7a19a5e7",
   "metadata": {
    "execution": {
     "iopub.execute_input": "2022-09-26T13:11:06.882163Z",
     "iopub.status.busy": "2022-09-26T13:11:06.881849Z",
     "iopub.status.idle": "2022-09-26T13:11:06.891298Z",
     "shell.execute_reply": "2022-09-26T13:11:06.889726Z"
    },
    "papermill": {
     "duration": 0.067267,
     "end_time": "2022-09-26T13:11:06.893404",
     "exception": false,
     "start_time": "2022-09-26T13:11:06.826137",
     "status": "completed"
    },
    "tags": []
   },
   "outputs": [
    {
     "name": "stdout",
     "output_type": "stream",
     "text": [
      "Before:\n",
      " 1     B\n",
      "3     D\n",
      "7     F\n",
      "8     I\n",
      "0     a\n",
      "2     c\n",
      "4     e\n",
      "5     g\n",
      "6     h\n",
      "9     j\n",
      "10    k\n",
      "dtype: object\n",
      "\n",
      "After:\n",
      " 0     a\n",
      "1     B\n",
      "2     c\n",
      "3     D\n",
      "4     e\n",
      "7     F\n",
      "5     g\n",
      "6     h\n",
      "8     I\n",
      "9     j\n",
      "10    k\n",
      "dtype: object\n"
     ]
    }
   ],
   "source": [
    "s = pd.Series(['a', 'B', 'c', 'D', 'e','g','h','F','I','j','k',])\n",
    "print(\"Before:\\n\",s.sort_values())\n",
    "print(\"\\nAfter:\\n\",s.sort_values(key=lambda x: x.str.lower()))"
   ]
  },
  {
   "cell_type": "code",
   "execution_count": 52,
   "id": "2aa9752d",
   "metadata": {
    "execution": {
     "iopub.execute_input": "2022-09-26T13:11:06.999455Z",
     "iopub.status.busy": "2022-09-26T13:11:06.999151Z",
     "iopub.status.idle": "2022-09-26T13:11:07.009082Z",
     "shell.execute_reply": "2022-09-26T13:11:07.008147Z"
    },
    "papermill": {
     "duration": 0.065548,
     "end_time": "2022-09-26T13:11:07.011106",
     "exception": false,
     "start_time": "2022-09-26T13:11:06.945558",
     "status": "completed"
    },
    "tags": []
   },
   "outputs": [
    {
     "data": {
      "text/plain": [
       "1   -2\n",
       "4    4\n",
       "2    0\n",
       "0   -4\n",
       "3    2\n",
       "dtype: int64"
      ]
     },
     "execution_count": 52,
     "metadata": {},
     "output_type": "execute_result"
    }
   ],
   "source": [
    "\"\"\"NumPy ufuncs work well here. For example, we can sort by the sin of the value\"\"\"\n",
    "s = pd.Series([-4, -2, 0, 2, 4])\n",
    "s.sort_values(key=np.sin)"
   ]
  },
  {
   "cell_type": "code",
   "execution_count": 53,
   "id": "ad946e02",
   "metadata": {
    "execution": {
     "iopub.execute_input": "2022-09-26T13:11:07.119881Z",
     "iopub.status.busy": "2022-09-26T13:11:07.118333Z",
     "iopub.status.idle": "2022-09-26T13:11:07.126913Z",
     "shell.execute_reply": "2022-09-26T13:11:07.125960Z"
    },
    "papermill": {
     "duration": 0.064587,
     "end_time": "2022-09-26T13:11:07.128938",
     "exception": false,
     "start_time": "2022-09-26T13:11:07.064351",
     "status": "completed"
    },
    "tags": []
   },
   "outputs": [
    {
     "data": {
      "text/plain": [
       "0   -4\n",
       "3    2\n",
       "4    4\n",
       "1   -2\n",
       "2    0\n",
       "dtype: int64"
      ]
     },
     "execution_count": 53,
     "metadata": {},
     "output_type": "execute_result"
    }
   ],
   "source": [
    "\"\"\"More complicated user-defined functions can be used, as long as they expect\n",
    "a Series and return an array-like\"\"\"\n",
    "\n",
    "s.sort_values(key=lambda x: (np.tan(x.cumsum())))"
   ]
  },
  {
   "cell_type": "markdown",
   "id": "1a31b732",
   "metadata": {
    "papermill": {
     "duration": 0.052456,
     "end_time": "2022-09-26T13:11:07.234176",
     "exception": false,
     "start_time": "2022-09-26T13:11:07.181720",
     "status": "completed"
    },
    "tags": []
   },
   "source": [
    "### Python | pandas.Series.sort_index():\n",
    "- Sort Series by index labels.\n",
    "- Returns a new Series sorted by label if inplace argument is **False**, otherwise updates the original series and returns **None**\n",
    "- **Syntax** <h4>Series.sort_index(axis=0, level=None, ascending=True, inplace=False, kind='quicksort', na_position='last', sort_remaining=True, ignore_index=False, key=None)"
   ]
  },
  {
   "cell_type": "code",
   "execution_count": 54,
   "id": "b6bac393",
   "metadata": {
    "execution": {
     "iopub.execute_input": "2022-09-26T13:11:07.342230Z",
     "iopub.status.busy": "2022-09-26T13:11:07.341552Z",
     "iopub.status.idle": "2022-09-26T13:11:07.356463Z",
     "shell.execute_reply": "2022-09-26T13:11:07.355063Z"
    },
    "papermill": {
     "duration": 0.073336,
     "end_time": "2022-09-26T13:11:07.360091",
     "exception": false,
     "start_time": "2022-09-26T13:11:07.286755",
     "status": "completed"
    },
    "tags": []
   },
   "outputs": [
    {
     "name": "stdout",
     "output_type": "stream",
     "text": [
      "Before :\n",
      " 3    a\n",
      "2    b\n",
      "1    c\n",
      "4    d\n",
      "dtype: object\n"
     ]
    },
    {
     "data": {
      "text/plain": [
       "1    c\n",
       "2    b\n",
       "3    a\n",
       "4    d\n",
       "dtype: object"
      ]
     },
     "execution_count": 54,
     "metadata": {},
     "output_type": "execute_result"
    }
   ],
   "source": [
    "s = pd.Series(['a', 'b', 'c', 'd'], index=[3, 2, 1, 4])\n",
    "print(\"Before :\\n\",s)\n",
    "s.sort_index()"
   ]
  },
  {
   "cell_type": "code",
   "execution_count": 55,
   "id": "22eff926",
   "metadata": {
    "execution": {
     "iopub.execute_input": "2022-09-26T13:11:07.472170Z",
     "iopub.status.busy": "2022-09-26T13:11:07.471816Z",
     "iopub.status.idle": "2022-09-26T13:11:07.479465Z",
     "shell.execute_reply": "2022-09-26T13:11:07.478540Z"
    },
    "papermill": {
     "duration": 0.063532,
     "end_time": "2022-09-26T13:11:07.481356",
     "exception": false,
     "start_time": "2022-09-26T13:11:07.417824",
     "status": "completed"
    },
    "tags": []
   },
   "outputs": [
    {
     "data": {
      "text/plain": [
       "4    d\n",
       "3    a\n",
       "2    b\n",
       "1    c\n",
       "dtype: object"
      ]
     },
     "execution_count": 55,
     "metadata": {},
     "output_type": "execute_result"
    }
   ],
   "source": [
    "s.sort_index(ascending=False)"
   ]
  },
  {
   "cell_type": "code",
   "execution_count": 56,
   "id": "d4efae70",
   "metadata": {
    "execution": {
     "iopub.execute_input": "2022-09-26T13:11:07.591148Z",
     "iopub.status.busy": "2022-09-26T13:11:07.590123Z",
     "iopub.status.idle": "2022-09-26T13:11:07.597520Z",
     "shell.execute_reply": "2022-09-26T13:11:07.596073Z"
    },
    "papermill": {
     "duration": 0.063771,
     "end_time": "2022-09-26T13:11:07.599535",
     "exception": false,
     "start_time": "2022-09-26T13:11:07.535764",
     "status": "completed"
    },
    "tags": []
   },
   "outputs": [
    {
     "name": "stdout",
     "output_type": "stream",
     "text": [
      "None\n",
      "1    c\n",
      "2    b\n",
      "3    a\n",
      "4    d\n",
      "dtype: object\n"
     ]
    }
   ],
   "source": [
    "\"\"\"Returns a new Series sorted by label if inplace argument is False, \n",
    "otherwise updates the original series and returns None\"\"\"\n",
    "\n",
    "print(s.sort_index(inplace=True))\n",
    "print(s)"
   ]
  },
  {
   "cell_type": "code",
   "execution_count": 57,
   "id": "56cfed88",
   "metadata": {
    "execution": {
     "iopub.execute_input": "2022-09-26T13:11:07.709757Z",
     "iopub.status.busy": "2022-09-26T13:11:07.708864Z",
     "iopub.status.idle": "2022-09-26T13:11:07.718374Z",
     "shell.execute_reply": "2022-09-26T13:11:07.717340Z"
    },
    "papermill": {
     "duration": 0.06743,
     "end_time": "2022-09-26T13:11:07.720393",
     "exception": false,
     "start_time": "2022-09-26T13:11:07.652963",
     "status": "completed"
    },
    "tags": []
   },
   "outputs": [
    {
     "data": {
      "text/plain": [
       "NaN    d\n",
       "1.0    c\n",
       "2.0    b\n",
       "3.0    a\n",
       "dtype: object"
      ]
     },
     "execution_count": 57,
     "metadata": {},
     "output_type": "execute_result"
    }
   ],
   "source": [
    "s = pd.Series(['a', 'b', 'c', 'd'], index=[3, 2, 1, np.nan])\n",
    "s.sort_index(na_position='first')"
   ]
  },
  {
   "cell_type": "code",
   "execution_count": 58,
   "id": "0906e13f",
   "metadata": {
    "execution": {
     "iopub.execute_input": "2022-09-26T13:11:07.829459Z",
     "iopub.status.busy": "2022-09-26T13:11:07.829162Z",
     "iopub.status.idle": "2022-09-26T13:11:07.843891Z",
     "shell.execute_reply": "2022-09-26T13:11:07.842374Z"
    },
    "papermill": {
     "duration": 0.071786,
     "end_time": "2022-09-26T13:11:07.845856",
     "exception": false,
     "start_time": "2022-09-26T13:11:07.774070",
     "status": "completed"
    },
    "tags": []
   },
   "outputs": [
    {
     "name": "stdout",
     "output_type": "stream",
     "text": [
      "Print By level 1:\n",
      " bar  one    8\n",
      "baz  one    6\n",
      "foo  one    4\n",
      "qux  one    2\n",
      "bar  two    7\n",
      "baz  two    5\n",
      "foo  two    3\n",
      "qux  two    1\n",
      "dtype: int64\n",
      "\n",
      "Print By level 2:\n",
      " bar  one    8\n",
      "     two    7\n",
      "baz  one    6\n",
      "     two    5\n",
      "foo  one    4\n",
      "     two    3\n",
      "qux  one    2\n",
      "     two    1\n",
      "dtype: int64\n"
     ]
    }
   ],
   "source": [
    "arrays = [np.array(['qux', 'qux', 'foo', 'foo',\n",
    "                    'baz', 'baz', 'bar', 'bar']),\n",
    "          np.array(['two', 'one', 'two', 'one',\n",
    "                    'two', 'one', 'two', 'one'])]\n",
    "#2-D array index\n",
    "s = pd.Series([1, 2, 3, 4, 5, 6, 7, 8], index=arrays)\n",
    "print(\"Print By level 1:\\n\",s.sort_index(level=1))\n",
    "print(\"\\nPrint By level 2:\\n\",s.sort_index(level=0))"
   ]
  },
  {
   "cell_type": "code",
   "execution_count": 59,
   "id": "b4f23807",
   "metadata": {
    "execution": {
     "iopub.execute_input": "2022-09-26T13:11:07.953062Z",
     "iopub.status.busy": "2022-09-26T13:11:07.952258Z",
     "iopub.status.idle": "2022-09-26T13:11:07.960631Z",
     "shell.execute_reply": "2022-09-26T13:11:07.959661Z"
    },
    "papermill": {
     "duration": 0.064033,
     "end_time": "2022-09-26T13:11:07.962582",
     "exception": false,
     "start_time": "2022-09-26T13:11:07.898549",
     "status": "completed"
    },
    "tags": []
   },
   "outputs": [
    {
     "data": {
      "text/plain": [
       "qux  one    2\n",
       "foo  one    4\n",
       "baz  one    6\n",
       "bar  one    8\n",
       "qux  two    1\n",
       "foo  two    3\n",
       "baz  two    5\n",
       "bar  two    7\n",
       "dtype: int64"
      ]
     },
     "execution_count": 59,
     "metadata": {},
     "output_type": "execute_result"
    }
   ],
   "source": [
    "s.sort_index(level=1, sort_remaining=False)"
   ]
  },
  {
   "cell_type": "code",
   "execution_count": 60,
   "id": "ca25ca18",
   "metadata": {
    "execution": {
     "iopub.execute_input": "2022-09-26T13:11:08.070909Z",
     "iopub.status.busy": "2022-09-26T13:11:08.070556Z",
     "iopub.status.idle": "2022-09-26T13:11:08.078591Z",
     "shell.execute_reply": "2022-09-26T13:11:08.077741Z"
    },
    "papermill": {
     "duration": 0.064347,
     "end_time": "2022-09-26T13:11:08.080480",
     "exception": false,
     "start_time": "2022-09-26T13:11:08.016133",
     "status": "completed"
    },
    "tags": []
   },
   "outputs": [
    {
     "data": {
      "text/plain": [
       "A    1\n",
       "b    2\n",
       "C    3\n",
       "d    4\n",
       "dtype: int64"
      ]
     },
     "execution_count": 60,
     "metadata": {},
     "output_type": "execute_result"
    }
   ],
   "source": [
    "s = pd.Series([1, 2, 3, 4], index=['A', 'b', 'C', 'd'])\n",
    "s.sort_index(key=lambda x : x.str.lower())"
   ]
  },
  {
   "cell_type": "markdown",
   "id": "98cdae0c",
   "metadata": {
    "papermill": {
     "duration": 0.053266,
     "end_time": "2022-09-26T13:11:08.187329",
     "exception": false,
     "start_time": "2022-09-26T13:11:08.134063",
     "status": "completed"
    },
    "tags": []
   },
   "source": [
    "# NOTE FOR ALL THE METHODS & ATTRIBUTE VISIT \n",
    "https://pandas.pydata.org/docs/reference/api/pandas.Series.html#pandas.Series\n",
    "***"
   ]
  },
  {
   "cell_type": "markdown",
   "id": "e6f7d194",
   "metadata": {
    "papermill": {
     "duration": 0.052928,
     "end_time": "2022-09-26T13:11:08.293354",
     "exception": false,
     "start_time": "2022-09-26T13:11:08.240426",
     "status": "completed"
    },
    "tags": []
   },
   "source": [
    "***\n",
    "# 2. pandas.DataFrame(): \n",
    "- DataFrame is a 2-dimensional labeled data structure with columns of potentially different types. You can think of it like a **spreadsheet** or **SQL table**, or a dict of Series objects. It is generally the most commonly used pandas object.\n",
    "\n",
    "- **Like Series, DataFrame accepts many different kinds of input:**\n",
    "\n",
    "    - Dict of 1D ndarrays, lists, dicts, or Series\n",
    "    - 2-D numpy.ndarray\n",
    "    - Structured or record ndarray\n",
    "    - A Series\n",
    "    - Another DataFrame\n",
    "    \n",
    "Along with the data, you can optionally pass index (row labels) and columns (column labels) arguments. If you pass an index and / or columns, you are guaranteeing the index and / or columns of the resulting DataFrame. Thus, a dict of Series plus a specific index will discard all data not matching up to the passed index.\n",
    "\n",
    "If axis labels are not passed, they will be constructed from the input data based on common sense rules.\n",
    "\n",
    "- **Syntex:** <h3>class pandas.DataFrame(data=None, index=None, columns=None, dtype=None, copy=None)</h3>\n",
    "![](https://media.geeksforgeeks.org/wp-content/uploads/finallpandas.png)\n",
    "\n",
    "\n",
    "### Attributes of DataFrame:\n",
    "***\n",
    "<table class=\"autosummary longtable table autosummary\">\n",
    "<colgroup>\n",
    "<col style=\"width: 10%\">\n",
    "<col style=\"width: 90%\">\n",
    "</colgroup>\n",
    "<tbody>\n",
    "<tr class=\"row-odd\"><td><p><a class=\"reference internal\" href=\"https://pandas.pydata.org/docs/reference/api/pandas.DataFrame.at.html#pandas.DataFrame.at\" title=\"pandas.DataFrame.at\"><code class=\"xref py py-obj docutils literal notranslate\"><span class=\"pre\">at</span></code></a></p></td>\n",
    "<td><p>Access a single value for a row/column label pair.</p></td>\n",
    "</tr>\n",
    "<tr class=\"row-even\"><td><p><a class=\"reference internal\" href=\"pandas.DataFrame.attrs.html#pandas.DataFrame.attrs\" title=\"pandas.DataFrame.attrs\"><code class=\"xref py py-obj docutils literal notranslate\"><span class=\"pre\">attrs</span></code></a></p></td>\n",
    "<td><p>Dictionary of global attributes of this dataset.</p></td>\n",
    "</tr>\n",
    "<tr class=\"row-odd\"><td><p><a class=\"reference internal\" href=\"pandas.DataFrame.axes.html#pandas.DataFrame.axes\" title=\"pandas.DataFrame.axes\"><code class=\"xref py py-obj docutils literal notranslate\"><span class=\"pre\">axes</span></code></a></p></td>\n",
    "<td><p>Return a list representing the axes of the DataFrame.</p></td>\n",
    "</tr>\n",
    "<tr class=\"row-even\"><td><p><a class=\"reference internal\" href=\"pandas.DataFrame.columns.html#pandas.DataFrame.columns\" title=\"pandas.DataFrame.columns\"><code class=\"xref py py-obj docutils literal notranslate\"><span class=\"pre\">columns</span></code></a></p></td>\n",
    "<td><p>The column labels of the DataFrame.</p></td>\n",
    "</tr>\n",
    "<tr class=\"row-odd\"><td><p><a class=\"reference internal\" href=\"pandas.DataFrame.dtypes.html#pandas.DataFrame.dtypes\" title=\"pandas.DataFrame.dtypes\"><code class=\"xref py py-obj docutils literal notranslate\"><span class=\"pre\">dtypes</span></code></a></p></td>\n",
    "<td><p>Return the dtypes in the DataFrame.</p></td>\n",
    "</tr>\n",
    "<tr class=\"row-even\"><td><p><a class=\"reference internal\" href=\"pandas.DataFrame.empty.html#pandas.DataFrame.empty\" title=\"pandas.DataFrame.empty\"><code class=\"xref py py-obj docutils literal notranslate\"><span class=\"pre\">empty</span></code></a></p></td>\n",
    "<td><p>Indicator whether Series/DataFrame is empty.</p></td>\n",
    "</tr>\n",
    "<tr class=\"row-odd\"><td><p><a class=\"reference internal\" href=\"pandas.DataFrame.flags.html#pandas.DataFrame.flags\" title=\"pandas.DataFrame.flags\"><code class=\"xref py py-obj docutils literal notranslate\"><span class=\"pre\">flags</span></code></a></p></td>\n",
    "<td><p>Get the properties associated with this pandas object.</p></td>\n",
    "</tr>\n",
    "<tr class=\"row-even\"><td><p><a class=\"reference internal\" href=\"pandas.DataFrame.iat.html#pandas.DataFrame.iat\" title=\"pandas.DataFrame.iat\"><code class=\"xref py py-obj docutils literal notranslate\"><span class=\"pre\">iat</span></code></a></p></td>\n",
    "<td><p>Access a single value for a row/column pair by integer position.</p></td>\n",
    "</tr>\n",
    "<tr class=\"row-odd\"><td><p><a class=\"reference internal\" href=\"pandas.DataFrame.iloc.html#pandas.DataFrame.iloc\" title=\"pandas.DataFrame.iloc\"><code class=\"xref py py-obj docutils literal notranslate\"><span class=\"pre\">iloc</span></code></a></p></td>\n",
    "<td><p>Purely integer-location based indexing for selection by position.</p></td>\n",
    "</tr>\n",
    "<tr class=\"row-even\"><td><p><a class=\"reference internal\" href=\"pandas.DataFrame.index.html#pandas.DataFrame.index\" title=\"pandas.DataFrame.index\"><code class=\"xref py py-obj docutils literal notranslate\"><span class=\"pre\">index</span></code></a></p></td>\n",
    "<td><p>The index (row labels) of the DataFrame.</p></td>\n",
    "</tr>\n",
    "<tr class=\"row-odd\"><td><p><a class=\"reference internal\" href=\"pandas.DataFrame.loc.html#pandas.DataFrame.loc\" title=\"pandas.DataFrame.loc\"><code class=\"xref py py-obj docutils literal notranslate\"><span class=\"pre\">loc</span></code></a></p></td>\n",
    "<td><p>Access a group of rows and columns by label(s) or a boolean array.</p></td>\n",
    "</tr>\n",
    "<tr class=\"row-even\"><td><p><a class=\"reference internal\" href=\"pandas.DataFrame.ndim.html#pandas.DataFrame.ndim\" title=\"pandas.DataFrame.ndim\"><code class=\"xref py py-obj docutils literal notranslate\"><span class=\"pre\">ndim</span></code></a></p></td>\n",
    "<td><p>Return an int representing the number of axes / array dimensions.</p></td>\n",
    "</tr>\n",
    "<tr class=\"row-odd\"><td><p><a class=\"reference internal\" href=\"pandas.DataFrame.shape.html#pandas.DataFrame.shape\" title=\"pandas.DataFrame.shape\"><code class=\"xref py py-obj docutils literal notranslate\"><span class=\"pre\">shape</span></code></a></p></td>\n",
    "<td><p>Return a tuple representing the dimensionality of the DataFrame.</p></td>\n",
    "</tr>\n",
    "<tr class=\"row-even\"><td><p><a class=\"reference internal\" href=\"pandas.DataFrame.size.html#pandas.DataFrame.size\" title=\"pandas.DataFrame.size\"><code class=\"xref py py-obj docutils literal notranslate\"><span class=\"pre\">size</span></code></a></p></td>\n",
    "<td><p>Return an int representing the number of elements in this object.</p></td>\n",
    "</tr>\n",
    "<tr class=\"row-odd\"><td><p><a class=\"reference internal\" href=\"pandas.DataFrame.style.html#pandas.DataFrame.style\" title=\"pandas.DataFrame.style\"><code class=\"xref py py-obj docutils literal notranslate\"><span class=\"pre\">style</span></code></a></p></td>\n",
    "<td><p>Returns a Styler object.</p></td>\n",
    "</tr>\n",
    "<tr class=\"row-even\"><td><p><a class=\"reference internal\" href=\"pandas.DataFrame.values.html#pandas.DataFrame.values\" title=\"pandas.DataFrame.values\"><code class=\"xref py py-obj docutils literal notranslate\"><span class=\"pre\">values</span></code></a></p></td>\n",
    "<td><p>Return a Numpy representation of the DataFrame.</p></td>\n",
    "</tr>\n",
    "</tbody>\n",
    "</table>\n",
    "\n",
    "### Methods of DataFrame:\n",
    "***\n",
    "<dd> \n",
    "<table class=\"autosummary longtable table autosummary\">\n",
    "<colgroup>\n",
    "<col style=\"width: 10%\">\n",
    "<col style=\"width: 90%\">\n",
    "</colgroup>\n",
    "<tbody>\n",
    "<tr class=\"row-odd\"><td><p><a class=\"reference internal\" href=\"pandas.DataFrame.abs.html#pandas.DataFrame.abs\" title=\"pandas.DataFrame.abs\"><code class=\"xref py py-obj docutils literal notranslate\"><span class=\"pre\">abs</span></code></a>()</p></td>\n",
    "<td><p>Return a Series/DataFrame with absolute numeric value of each element.</p></td>\n",
    "</tr>\n",
    "<tr class=\"row-even\"><td><p><a class=\"reference internal\" href=\"pandas.DataFrame.add.html#pandas.DataFrame.add\" title=\"pandas.DataFrame.add\"><code class=\"xref py py-obj docutils literal notranslate\"><span class=\"pre\">add</span></code></a>(other[,&nbsp;axis,&nbsp;level,&nbsp;fill_value])</p></td>\n",
    "<td><p>Get Addition of dataframe and other, element-wise (binary operator <cite>add</cite>).</p></td>\n",
    "</tr>\n",
    "<tr class=\"row-odd\"><td><p><a class=\"reference internal\" href=\"pandas.DataFrame.add_prefix.html#pandas.DataFrame.add_prefix\" title=\"pandas.DataFrame.add_prefix\"><code class=\"xref py py-obj docutils literal notranslate\"><span class=\"pre\">add_prefix</span></code></a>(prefix)</p></td>\n",
    "<td><p>Prefix labels with string <cite>prefix</cite>.</p></td>\n",
    "</tr>\n",
    "<tr class=\"row-even\"><td><p><a class=\"reference internal\" href=\"pandas.DataFrame.add_suffix.html#pandas.DataFrame.add_suffix\" title=\"pandas.DataFrame.add_suffix\"><code class=\"xref py py-obj docutils literal notranslate\"><span class=\"pre\">add_suffix</span></code></a>(suffix)</p></td>\n",
    "<td><p>Suffix labels with string <cite>suffix</cite>.</p></td>\n",
    "</tr>\n",
    "<tr class=\"row-odd\"><td><p><a class=\"reference internal\" href=\"pandas.DataFrame.agg.html#pandas.DataFrame.agg\" title=\"pandas.DataFrame.agg\"><code class=\"xref py py-obj docutils literal notranslate\"><span class=\"pre\">agg</span></code></a>([func,&nbsp;axis])</p></td>\n",
    "<td><p>Aggregate using one or more operations over the specified axis.</p></td>\n",
    "</tr>\n",
    "<tr class=\"row-even\"><td><p><a class=\"reference internal\" href=\"pandas.DataFrame.aggregate.html#pandas.DataFrame.aggregate\" title=\"pandas.DataFrame.aggregate\"><code class=\"xref py py-obj docutils literal notranslate\"><span class=\"pre\">aggregate</span></code></a>([func,&nbsp;axis])</p></td>\n",
    "<td><p>Aggregate using one or more operations over the specified axis.</p></td>\n",
    "</tr>\n",
    "<tr class=\"row-odd\"><td><p><a class=\"reference internal\" href=\"pandas.DataFrame.align.html#pandas.DataFrame.align\" title=\"pandas.DataFrame.align\"><code class=\"xref py py-obj docutils literal notranslate\"><span class=\"pre\">align</span></code></a>(other[,&nbsp;join,&nbsp;axis,&nbsp;level,&nbsp;copy,&nbsp;...])</p></td>\n",
    "<td><p>Align two objects on their axes with the specified join method.</p></td>\n",
    "</tr>\n",
    "<tr class=\"row-even\"><td><p><a class=\"reference internal\" href=\"pandas.DataFrame.all.html#pandas.DataFrame.all\" title=\"pandas.DataFrame.all\"><code class=\"xref py py-obj docutils literal notranslate\"><span class=\"pre\">all</span></code></a>([axis,&nbsp;bool_only,&nbsp;skipna,&nbsp;level])</p></td>\n",
    "<td><p>Return whether all elements are True, potentially over an axis.</p></td>\n",
    "</tr>\n",
    "<tr class=\"row-odd\"><td><p><a class=\"reference internal\" href=\"pandas.DataFrame.any.html#pandas.DataFrame.any\" title=\"pandas.DataFrame.any\"><code class=\"xref py py-obj docutils literal notranslate\"><span class=\"pre\">any</span></code></a>([axis,&nbsp;bool_only,&nbsp;skipna,&nbsp;level])</p></td>\n",
    "<td><p>Return whether any element is True, potentially over an axis.</p></td>\n",
    "</tr>\n",
    "<tr class=\"row-even\"><td><p><a class=\"reference internal\" href=\"pandas.DataFrame.append.html#pandas.DataFrame.append\" title=\"pandas.DataFrame.append\"><code class=\"xref py py-obj docutils literal notranslate\"><span class=\"pre\">append</span></code></a>(other[,&nbsp;ignore_index,&nbsp;...])</p></td>\n",
    "<td><p>(DEPRECATED) Append rows of <cite>other</cite> to the end of caller, returning a new object.</p></td>\n",
    "</tr>\n",
    "<tr class=\"row-odd\"><td><p><a class=\"reference internal\" href=\"pandas.DataFrame.apply.html#pandas.DataFrame.apply\" title=\"pandas.DataFrame.apply\"><code class=\"xref py py-obj docutils literal notranslate\"><span class=\"pre\">apply</span></code></a>(func[,&nbsp;axis,&nbsp;raw,&nbsp;result_type,&nbsp;args])</p></td>\n",
    "<td><p>Apply a function along an axis of the DataFrame.</p></td>\n",
    "</tr>\n",
    "<tr class=\"row-even\"><td><p><a class=\"reference internal\" href=\"pandas.DataFrame.applymap.html#pandas.DataFrame.applymap\" title=\"pandas.DataFrame.applymap\"><code class=\"xref py py-obj docutils literal notranslate\"><span class=\"pre\">applymap</span></code></a>(func[,&nbsp;na_action])</p></td>\n",
    "<td><p>Apply a function to a Dataframe elementwise.</p></td>\n",
    "</tr>\n",
    "<tr class=\"row-odd\"><td><p><a class=\"reference internal\" href=\"pandas.DataFrame.asfreq.html#pandas.DataFrame.asfreq\" title=\"pandas.DataFrame.asfreq\"><code class=\"xref py py-obj docutils literal notranslate\"><span class=\"pre\">asfreq</span></code></a>(freq[,&nbsp;method,&nbsp;how,&nbsp;normalize,&nbsp;...])</p></td>\n",
    "<td><p>Convert time series to specified frequency.</p></td>\n",
    "</tr>\n",
    "<tr class=\"row-even\"><td><p><a class=\"reference internal\" href=\"pandas.DataFrame.asof.html#pandas.DataFrame.asof\" title=\"pandas.DataFrame.asof\"><code class=\"xref py py-obj docutils literal notranslate\"><span class=\"pre\">asof</span></code></a>(where[,&nbsp;subset])</p></td>\n",
    "<td><p>Return the last row(s) without any NaNs before <cite>where</cite>.</p></td>\n",
    "</tr>\n",
    "<tr class=\"row-odd\"><td><p><a class=\"reference internal\" href=\"pandas.DataFrame.assign.html#pandas.DataFrame.assign\" title=\"pandas.DataFrame.assign\"><code class=\"xref py py-obj docutils literal notranslate\"><span class=\"pre\">assign</span></code></a>(**kwargs)</p></td>\n",
    "<td><p>Assign new columns to a DataFrame.</p></td>\n",
    "</tr>\n",
    "<tr class=\"row-even\"><td><p><a class=\"reference internal\" href=\"pandas.DataFrame.astype.html#pandas.DataFrame.astype\" title=\"pandas.DataFrame.astype\"><code class=\"xref py py-obj docutils literal notranslate\"><span class=\"pre\">astype</span></code></a>(dtype[,&nbsp;copy,&nbsp;errors])</p></td>\n",
    "<td><p>Cast a pandas object to a specified dtype <code class=\"docutils literal notranslate\"><span class=\"pre\">dtype</span></code>.</p></td>\n",
    "</tr>\n",
    "<tr class=\"row-odd\"><td><p><a class=\"reference internal\" href=\"pandas.DataFrame.at_time.html#pandas.DataFrame.at_time\" title=\"pandas.DataFrame.at_time\"><code class=\"xref py py-obj docutils literal notranslate\"><span class=\"pre\">at_time</span></code></a>(time[,&nbsp;asof,&nbsp;axis])</p></td>\n",
    "<td><p>Select values at particular time of day (e.g., 9:30AM).</p></td>\n",
    "</tr>\n",
    "<tr class=\"row-even\"><td><p><a class=\"reference internal\" href=\"pandas.DataFrame.backfill.html#pandas.DataFrame.backfill\" title=\"pandas.DataFrame.backfill\"><code class=\"xref py py-obj docutils literal notranslate\"><span class=\"pre\">backfill</span></code></a>([axis,&nbsp;inplace,&nbsp;limit,&nbsp;downcast])</p></td>\n",
    "<td><p>Synonym for <a class=\"reference internal\" href=\"pandas.DataFrame.fillna.html#pandas.DataFrame.fillna\" title=\"pandas.DataFrame.fillna\"><code class=\"xref py py-meth docutils literal notranslate\"><span class=\"pre\">DataFrame.fillna()</span></code></a> with <code class=\"docutils literal notranslate\"><span class=\"pre\">method='bfill'</span></code>.</p></td>\n",
    "</tr>\n",
    "<tr class=\"row-odd\"><td><p><a class=\"reference internal\" href=\"pandas.DataFrame.between_time.html#pandas.DataFrame.between_time\" title=\"pandas.DataFrame.between_time\"><code class=\"xref py py-obj docutils literal notranslate\"><span class=\"pre\">between_time</span></code></a>(start_time,&nbsp;end_time[,&nbsp;...])</p></td>\n",
    "<td><p>Select values between particular times of the day (e.g., 9:00-9:30 AM).</p></td>\n",
    "</tr>\n",
    "<tr class=\"row-even\"><td><p><a class=\"reference internal\" href=\"pandas.DataFrame.bfill.html#pandas.DataFrame.bfill\" title=\"pandas.DataFrame.bfill\"><code class=\"xref py py-obj docutils literal notranslate\"><span class=\"pre\">bfill</span></code></a>([axis,&nbsp;inplace,&nbsp;limit,&nbsp;downcast])</p></td>\n",
    "<td><p>Synonym for <a class=\"reference internal\" href=\"pandas.DataFrame.fillna.html#pandas.DataFrame.fillna\" title=\"pandas.DataFrame.fillna\"><code class=\"xref py py-meth docutils literal notranslate\"><span class=\"pre\">DataFrame.fillna()</span></code></a> with <code class=\"docutils literal notranslate\"><span class=\"pre\">method='bfill'</span></code>.</p></td>\n",
    "</tr>\n",
    "<tr class=\"row-odd\"><td><p><a class=\"reference internal\" href=\"pandas.DataFrame.bool.html#pandas.DataFrame.bool\" title=\"pandas.DataFrame.bool\"><code class=\"xref py py-obj docutils literal notranslate\"><span class=\"pre\">bool</span></code></a>()</p></td>\n",
    "<td><p>Return the bool of a single element Series or DataFrame.</p></td>\n",
    "</tr>\n",
    "<tr class=\"row-even\"><td><p><a class=\"reference internal\" href=\"pandas.DataFrame.boxplot.html#pandas.DataFrame.boxplot\" title=\"pandas.DataFrame.boxplot\"><code class=\"xref py py-obj docutils literal notranslate\"><span class=\"pre\">boxplot</span></code></a>([column,&nbsp;by,&nbsp;ax,&nbsp;fontsize,&nbsp;rot,&nbsp;...])</p></td>\n",
    "<td><p>Make a box plot from DataFrame columns.</p></td>\n",
    "</tr>\n",
    "<tr class=\"row-odd\"><td><p><a class=\"reference internal\" href=\"pandas.DataFrame.clip.html#pandas.DataFrame.clip\" title=\"pandas.DataFrame.clip\"><code class=\"xref py py-obj docutils literal notranslate\"><span class=\"pre\">clip</span></code></a>([lower,&nbsp;upper,&nbsp;axis,&nbsp;inplace])</p></td>\n",
    "<td><p>Trim values at input threshold(s).</p></td>\n",
    "</tr>\n",
    "<tr class=\"row-even\"><td><p><a class=\"reference internal\" href=\"pandas.DataFrame.combine.html#pandas.DataFrame.combine\" title=\"pandas.DataFrame.combine\"><code class=\"xref py py-obj docutils literal notranslate\"><span class=\"pre\">combine</span></code></a>(other,&nbsp;func[,&nbsp;fill_value,&nbsp;overwrite])</p></td>\n",
    "<td><p>Perform column-wise combine with another DataFrame.</p></td>\n",
    "</tr>\n",
    "<tr class=\"row-odd\"><td><p><a class=\"reference internal\" href=\"pandas.DataFrame.combine_first.html#pandas.DataFrame.combine_first\" title=\"pandas.DataFrame.combine_first\"><code class=\"xref py py-obj docutils literal notranslate\"><span class=\"pre\">combine_first</span></code></a>(other)</p></td>\n",
    "<td><p>Update null elements with value in the same location in <cite>other</cite>.</p></td>\n",
    "</tr>\n",
    "<tr class=\"row-even\"><td><p><a class=\"reference internal\" href=\"pandas.DataFrame.compare.html#pandas.DataFrame.compare\" title=\"pandas.DataFrame.compare\"><code class=\"xref py py-obj docutils literal notranslate\"><span class=\"pre\">compare</span></code></a>(other[,&nbsp;align_axis,&nbsp;keep_shape,&nbsp;...])</p></td>\n",
    "<td><p>Compare to another DataFrame and show the differences.</p></td>\n",
    "</tr>\n",
    "<tr class=\"row-odd\"><td><p><a class=\"reference internal\" href=\"pandas.DataFrame.convert_dtypes.html#pandas.DataFrame.convert_dtypes\" title=\"pandas.DataFrame.convert_dtypes\"><code class=\"xref py py-obj docutils literal notranslate\"><span class=\"pre\">convert_dtypes</span></code></a>([infer_objects,&nbsp;...])</p></td>\n",
    "<td><p>Convert columns to best possible dtypes using dtypes supporting <code class=\"docutils literal notranslate\"><span class=\"pre\">pd.NA</span></code>.</p></td>\n",
    "</tr>\n",
    "<tr class=\"row-even\"><td><p><a class=\"reference internal\" href=\"pandas.DataFrame.copy.html#pandas.DataFrame.copy\" title=\"pandas.DataFrame.copy\"><code class=\"xref py py-obj docutils literal notranslate\"><span class=\"pre\">copy</span></code></a>([deep])</p></td>\n",
    "<td><p>Make a copy of this object's indices and data.</p></td>\n",
    "</tr>\n",
    "<tr class=\"row-odd\"><td><p><a class=\"reference internal\" href=\"pandas.DataFrame.corr.html#pandas.DataFrame.corr\" title=\"pandas.DataFrame.corr\"><code class=\"xref py py-obj docutils literal notranslate\"><span class=\"pre\">corr</span></code></a>([method,&nbsp;min_periods,&nbsp;numeric_only])</p></td>\n",
    "<td><p>Compute pairwise correlation of columns, excluding NA/null values.</p></td>\n",
    "</tr>\n",
    "<tr class=\"row-even\"><td><p><a class=\"reference internal\" href=\"pandas.DataFrame.corrwith.html#pandas.DataFrame.corrwith\" title=\"pandas.DataFrame.corrwith\"><code class=\"xref py py-obj docutils literal notranslate\"><span class=\"pre\">corrwith</span></code></a>(other[,&nbsp;axis,&nbsp;drop,&nbsp;method,&nbsp;...])</p></td>\n",
    "<td><p>Compute pairwise correlation.</p></td>\n",
    "</tr>\n",
    "<tr class=\"row-odd\"><td><p><a class=\"reference internal\" href=\"pandas.DataFrame.count.html#pandas.DataFrame.count\" title=\"pandas.DataFrame.count\"><code class=\"xref py py-obj docutils literal notranslate\"><span class=\"pre\">count</span></code></a>([axis,&nbsp;level,&nbsp;numeric_only])</p></td>\n",
    "<td><p>Count non-NA cells for each column or row.</p></td>\n",
    "</tr>\n",
    "<tr class=\"row-even\"><td><p><a class=\"reference internal\" href=\"pandas.DataFrame.cov.html#pandas.DataFrame.cov\" title=\"pandas.DataFrame.cov\"><code class=\"xref py py-obj docutils literal notranslate\"><span class=\"pre\">cov</span></code></a>([min_periods,&nbsp;ddof,&nbsp;numeric_only])</p></td>\n",
    "<td><p>Compute pairwise covariance of columns, excluding NA/null values.</p></td>\n",
    "</tr>\n",
    "<tr class=\"row-odd\"><td><p><a class=\"reference internal\" href=\"pandas.DataFrame.cummax.html#pandas.DataFrame.cummax\" title=\"pandas.DataFrame.cummax\"><code class=\"xref py py-obj docutils literal notranslate\"><span class=\"pre\">cummax</span></code></a>([axis,&nbsp;skipna])</p></td>\n",
    "<td><p>Return cumulative maximum over a DataFrame or Series axis.</p></td>\n",
    "</tr>\n",
    "<tr class=\"row-even\"><td><p><a class=\"reference internal\" href=\"pandas.DataFrame.cummin.html#pandas.DataFrame.cummin\" title=\"pandas.DataFrame.cummin\"><code class=\"xref py py-obj docutils literal notranslate\"><span class=\"pre\">cummin</span></code></a>([axis,&nbsp;skipna])</p></td>\n",
    "<td><p>Return cumulative minimum over a DataFrame or Series axis.</p></td>\n",
    "</tr>\n",
    "<tr class=\"row-odd\"><td><p><a class=\"reference internal\" href=\"pandas.DataFrame.cumprod.html#pandas.DataFrame.cumprod\" title=\"pandas.DataFrame.cumprod\"><code class=\"xref py py-obj docutils literal notranslate\"><span class=\"pre\">cumprod</span></code></a>([axis,&nbsp;skipna])</p></td>\n",
    "<td><p>Return cumulative product over a DataFrame or Series axis.</p></td>\n",
    "</tr>\n",
    "<tr class=\"row-even\"><td><p><a class=\"reference internal\" href=\"pandas.DataFrame.cumsum.html#pandas.DataFrame.cumsum\" title=\"pandas.DataFrame.cumsum\"><code class=\"xref py py-obj docutils literal notranslate\"><span class=\"pre\">cumsum</span></code></a>([axis,&nbsp;skipna])</p></td>\n",
    "<td><p>Return cumulative sum over a DataFrame or Series axis.</p></td>\n",
    "</tr>\n",
    "<tr class=\"row-odd\"><td><p><a class=\"reference internal\" href=\"pandas.DataFrame.describe.html#pandas.DataFrame.describe\" title=\"pandas.DataFrame.describe\"><code class=\"xref py py-obj docutils literal notranslate\"><span class=\"pre\">describe</span></code></a>([percentiles,&nbsp;include,&nbsp;exclude,&nbsp;...])</p></td>\n",
    "<td><p>Generate descriptive statistics.</p></td>\n",
    "</tr>\n",
    "<tr class=\"row-even\"><td><p><a class=\"reference internal\" href=\"pandas.DataFrame.diff.html#pandas.DataFrame.diff\" title=\"pandas.DataFrame.diff\"><code class=\"xref py py-obj docutils literal notranslate\"><span class=\"pre\">diff</span></code></a>([periods,&nbsp;axis])</p></td>\n",
    "<td><p>First discrete difference of element.</p></td>\n",
    "</tr>\n",
    "<tr class=\"row-odd\"><td><p><a class=\"reference internal\" href=\"pandas.DataFrame.div.html#pandas.DataFrame.div\" title=\"pandas.DataFrame.div\"><code class=\"xref py py-obj docutils literal notranslate\"><span class=\"pre\">div</span></code></a>(other[,&nbsp;axis,&nbsp;level,&nbsp;fill_value])</p></td>\n",
    "<td><p>Get Floating division of dataframe and other, element-wise (binary operator <cite>truediv</cite>).</p></td>\n",
    "</tr>\n",
    "<tr class=\"row-even\"><td><p><a class=\"reference internal\" href=\"pandas.DataFrame.divide.html#pandas.DataFrame.divide\" title=\"pandas.DataFrame.divide\"><code class=\"xref py py-obj docutils literal notranslate\"><span class=\"pre\">divide</span></code></a>(other[,&nbsp;axis,&nbsp;level,&nbsp;fill_value])</p></td>\n",
    "<td><p>Get Floating division of dataframe and other, element-wise (binary operator <cite>truediv</cite>).</p></td>\n",
    "</tr>\n",
    "<tr class=\"row-odd\"><td><p><a class=\"reference internal\" href=\"pandas.DataFrame.dot.html#pandas.DataFrame.dot\" title=\"pandas.DataFrame.dot\"><code class=\"xref py py-obj docutils literal notranslate\"><span class=\"pre\">dot</span></code></a>(other)</p></td>\n",
    "<td><p>Compute the matrix multiplication between the DataFrame and other.</p></td>\n",
    "</tr>\n",
    "<tr class=\"row-even\"><td><p><a class=\"reference internal\" href=\"pandas.DataFrame.drop.html#pandas.DataFrame.drop\" title=\"pandas.DataFrame.drop\"><code class=\"xref py py-obj docutils literal notranslate\"><span class=\"pre\">drop</span></code></a>([labels,&nbsp;axis,&nbsp;index,&nbsp;columns,&nbsp;level,&nbsp;...])</p></td>\n",
    "<td><p>Drop specified labels from rows or columns.</p></td>\n",
    "</tr>\n",
    "<tr class=\"row-odd\"><td><p><a class=\"reference internal\" href=\"pandas.DataFrame.drop_duplicates.html#pandas.DataFrame.drop_duplicates\" title=\"pandas.DataFrame.drop_duplicates\"><code class=\"xref py py-obj docutils literal notranslate\"><span class=\"pre\">drop_duplicates</span></code></a>([subset,&nbsp;keep,&nbsp;inplace,&nbsp;...])</p></td>\n",
    "<td><p>Return DataFrame with duplicate rows removed.</p></td>\n",
    "</tr>\n",
    "<tr class=\"row-even\"><td><p><a class=\"reference internal\" href=\"pandas.DataFrame.droplevel.html#pandas.DataFrame.droplevel\" title=\"pandas.DataFrame.droplevel\"><code class=\"xref py py-obj docutils literal notranslate\"><span class=\"pre\">droplevel</span></code></a>(level[,&nbsp;axis])</p></td>\n",
    "<td><p>Return Series/DataFrame with requested index / column level(s) removed.</p></td>\n",
    "</tr>\n",
    "<tr class=\"row-odd\"><td><p><a class=\"reference internal\" href=\"pandas.DataFrame.dropna.html#pandas.DataFrame.dropna\" title=\"pandas.DataFrame.dropna\"><code class=\"xref py py-obj docutils literal notranslate\"><span class=\"pre\">dropna</span></code></a>([axis,&nbsp;how,&nbsp;thresh,&nbsp;subset,&nbsp;inplace])</p></td>\n",
    "<td><p>Remove missing values.</p></td>\n",
    "</tr>\n",
    "<tr class=\"row-even\"><td><p><a class=\"reference internal\" href=\"pandas.DataFrame.duplicated.html#pandas.DataFrame.duplicated\" title=\"pandas.DataFrame.duplicated\"><code class=\"xref py py-obj docutils literal notranslate\"><span class=\"pre\">duplicated</span></code></a>([subset,&nbsp;keep])</p></td>\n",
    "<td><p>Return boolean Series denoting duplicate rows.</p></td>\n",
    "</tr>\n",
    "<tr class=\"row-odd\"><td><p><a class=\"reference internal\" href=\"pandas.DataFrame.eq.html#pandas.DataFrame.eq\" title=\"pandas.DataFrame.eq\"><code class=\"xref py py-obj docutils literal notranslate\"><span class=\"pre\">eq</span></code></a>(other[,&nbsp;axis,&nbsp;level])</p></td>\n",
    "<td><p>Get Equal to of dataframe and other, element-wise (binary operator <cite>eq</cite>).</p></td>\n",
    "</tr>\n",
    "<tr class=\"row-even\"><td><p><a class=\"reference internal\" href=\"pandas.DataFrame.equals.html#pandas.DataFrame.equals\" title=\"pandas.DataFrame.equals\"><code class=\"xref py py-obj docutils literal notranslate\"><span class=\"pre\">equals</span></code></a>(other)</p></td>\n",
    "<td><p>Test whether two objects contain the same elements.</p></td>\n",
    "</tr>\n",
    "<tr class=\"row-odd\"><td><p><a class=\"reference internal\" href=\"pandas.DataFrame.eval.html#pandas.DataFrame.eval\" title=\"pandas.DataFrame.eval\"><code class=\"xref py py-obj docutils literal notranslate\"><span class=\"pre\">eval</span></code></a>(expr[,&nbsp;inplace])</p></td>\n",
    "<td><p>Evaluate a string describing operations on DataFrame columns.</p></td>\n",
    "</tr>\n",
    "<tr class=\"row-even\"><td><p><a class=\"reference internal\" href=\"pandas.DataFrame.ewm.html#pandas.DataFrame.ewm\" title=\"pandas.DataFrame.ewm\"><code class=\"xref py py-obj docutils literal notranslate\"><span class=\"pre\">ewm</span></code></a>([com,&nbsp;span,&nbsp;halflife,&nbsp;alpha,&nbsp;...])</p></td>\n",
    "<td><p>Provide exponentially weighted (EW) calculations.</p></td>\n",
    "</tr>\n",
    "<tr class=\"row-odd\"><td><p><a class=\"reference internal\" href=\"pandas.DataFrame.expanding.html#pandas.DataFrame.expanding\" title=\"pandas.DataFrame.expanding\"><code class=\"xref py py-obj docutils literal notranslate\"><span class=\"pre\">expanding</span></code></a>([min_periods,&nbsp;center,&nbsp;axis,&nbsp;method])</p></td>\n",
    "<td><p>Provide expanding window calculations.</p></td>\n",
    "</tr>\n",
    "<tr class=\"row-even\"><td><p><a class=\"reference internal\" href=\"pandas.DataFrame.explode.html#pandas.DataFrame.explode\" title=\"pandas.DataFrame.explode\"><code class=\"xref py py-obj docutils literal notranslate\"><span class=\"pre\">explode</span></code></a>(column[,&nbsp;ignore_index])</p></td>\n",
    "<td><p>Transform each element of a list-like to a row, replicating index values.</p></td>\n",
    "</tr>\n",
    "<tr class=\"row-odd\"><td><p><a class=\"reference internal\" href=\"pandas.DataFrame.ffill.html#pandas.DataFrame.ffill\" title=\"pandas.DataFrame.ffill\"><code class=\"xref py py-obj docutils literal notranslate\"><span class=\"pre\">ffill</span></code></a>([axis,&nbsp;inplace,&nbsp;limit,&nbsp;downcast])</p></td>\n",
    "<td><p>Synonym for <a class=\"reference internal\" href=\"pandas.DataFrame.fillna.html#pandas.DataFrame.fillna\" title=\"pandas.DataFrame.fillna\"><code class=\"xref py py-meth docutils literal notranslate\"><span class=\"pre\">DataFrame.fillna()</span></code></a> with <code class=\"docutils literal notranslate\"><span class=\"pre\">method='ffill'</span></code>.</p></td>\n",
    "</tr>\n",
    "<tr class=\"row-even\"><td><p><a class=\"reference internal\" href=\"pandas.DataFrame.fillna.html#pandas.DataFrame.fillna\" title=\"pandas.DataFrame.fillna\"><code class=\"xref py py-obj docutils literal notranslate\"><span class=\"pre\">fillna</span></code></a>([value,&nbsp;method,&nbsp;axis,&nbsp;inplace,&nbsp;...])</p></td>\n",
    "<td><p>Fill NA/NaN values using the specified method.</p></td>\n",
    "</tr>\n",
    "<tr class=\"row-odd\"><td><p><a class=\"reference internal\" href=\"pandas.DataFrame.filter.html#pandas.DataFrame.filter\" title=\"pandas.DataFrame.filter\"><code class=\"xref py py-obj docutils literal notranslate\"><span class=\"pre\">filter</span></code></a>([items,&nbsp;like,&nbsp;regex,&nbsp;axis])</p></td>\n",
    "<td><p>Subset the dataframe rows or columns according to the specified index labels.</p></td>\n",
    "</tr>\n",
    "<tr class=\"row-even\"><td><p><a class=\"reference internal\" href=\"pandas.DataFrame.first.html#pandas.DataFrame.first\" title=\"pandas.DataFrame.first\"><code class=\"xref py py-obj docutils literal notranslate\"><span class=\"pre\">first</span></code></a>(offset)</p></td>\n",
    "<td><p>Select initial periods of time series data based on a date offset.</p></td>\n",
    "</tr>\n",
    "<tr class=\"row-odd\"><td><p><a class=\"reference internal\" href=\"pandas.DataFrame.first_valid_index.html#pandas.DataFrame.first_valid_index\" title=\"pandas.DataFrame.first_valid_index\"><code class=\"xref py py-obj docutils literal notranslate\"><span class=\"pre\">first_valid_index</span></code></a>()</p></td>\n",
    "<td><p>Return index for first non-NA value or None, if no non-NA value is found.</p></td>\n",
    "</tr>\n",
    "<tr class=\"row-even\"><td><p><a class=\"reference internal\" href=\"pandas.DataFrame.floordiv.html#pandas.DataFrame.floordiv\" title=\"pandas.DataFrame.floordiv\"><code class=\"xref py py-obj docutils literal notranslate\"><span class=\"pre\">floordiv</span></code></a>(other[,&nbsp;axis,&nbsp;level,&nbsp;fill_value])</p></td>\n",
    "<td><p>Get Integer division of dataframe and other, element-wise (binary operator <cite>floordiv</cite>).</p></td>\n",
    "</tr>\n",
    "<tr class=\"row-odd\"><td><p><a class=\"reference internal\" href=\"pandas.DataFrame.from_dict.html#pandas.DataFrame.from_dict\" title=\"pandas.DataFrame.from_dict\"><code class=\"xref py py-obj docutils literal notranslate\"><span class=\"pre\">from_dict</span></code></a>(data[,&nbsp;orient,&nbsp;dtype,&nbsp;columns])</p></td>\n",
    "<td><p>Construct DataFrame from dict of array-like or dicts.</p></td>\n",
    "</tr>\n",
    "<tr class=\"row-even\"><td><p><a class=\"reference internal\" href=\"pandas.DataFrame.from_records.html#pandas.DataFrame.from_records\" title=\"pandas.DataFrame.from_records\"><code class=\"xref py py-obj docutils literal notranslate\"><span class=\"pre\">from_records</span></code></a>(data[,&nbsp;index,&nbsp;exclude,&nbsp;...])</p></td>\n",
    "<td><p>Convert structured or record ndarray to DataFrame.</p></td>\n",
    "</tr>\n",
    "<tr class=\"row-odd\"><td><p><a class=\"reference internal\" href=\"pandas.DataFrame.ge.html#pandas.DataFrame.ge\" title=\"pandas.DataFrame.ge\"><code class=\"xref py py-obj docutils literal notranslate\"><span class=\"pre\">ge</span></code></a>(other[,&nbsp;axis,&nbsp;level])</p></td>\n",
    "<td><p>Get Greater than or equal to of dataframe and other, element-wise (binary operator <cite>ge</cite>).</p></td>\n",
    "</tr>\n",
    "<tr class=\"row-even\"><td><p><a class=\"reference internal\" href=\"pandas.DataFrame.get.html#pandas.DataFrame.get\" title=\"pandas.DataFrame.get\"><code class=\"xref py py-obj docutils literal notranslate\"><span class=\"pre\">get</span></code></a>(key[,&nbsp;default])</p></td>\n",
    "<td><p>Get item from object for given key (ex: DataFrame column).</p></td>\n",
    "</tr>\n",
    "<tr class=\"row-odd\"><td><p><a class=\"reference internal\" href=\"pandas.DataFrame.groupby.html#pandas.DataFrame.groupby\" title=\"pandas.DataFrame.groupby\"><code class=\"xref py py-obj docutils literal notranslate\"><span class=\"pre\">groupby</span></code></a>([by,&nbsp;axis,&nbsp;level,&nbsp;as_index,&nbsp;sort,&nbsp;...])</p></td>\n",
    "<td><p>Group DataFrame using a mapper or by a Series of columns.</p></td>\n",
    "</tr>\n",
    "<tr class=\"row-even\"><td><p><a class=\"reference internal\" href=\"pandas.DataFrame.gt.html#pandas.DataFrame.gt\" title=\"pandas.DataFrame.gt\"><code class=\"xref py py-obj docutils literal notranslate\"><span class=\"pre\">gt</span></code></a>(other[,&nbsp;axis,&nbsp;level])</p></td>\n",
    "<td><p>Get Greater than of dataframe and other, element-wise (binary operator <cite>gt</cite>).</p></td>\n",
    "</tr>\n",
    "<tr class=\"row-odd\"><td><p><a class=\"reference internal\" href=\"pandas.DataFrame.head.html#pandas.DataFrame.head\" title=\"pandas.DataFrame.head\"><code class=\"xref py py-obj docutils literal notranslate\"><span class=\"pre\">head</span></code></a>([n])</p></td>\n",
    "<td><p>Return the first <cite>n</cite> rows.</p></td>\n",
    "</tr>\n",
    "<tr class=\"row-even\"><td><p><a class=\"reference internal\" href=\"pandas.DataFrame.hist.html#pandas.DataFrame.hist\" title=\"pandas.DataFrame.hist\"><code class=\"xref py py-obj docutils literal notranslate\"><span class=\"pre\">hist</span></code></a>([column,&nbsp;by,&nbsp;grid,&nbsp;xlabelsize,&nbsp;xrot,&nbsp;...])</p></td>\n",
    "<td><p>Make a histogram of the DataFrame's columns.</p></td>\n",
    "</tr>\n",
    "<tr class=\"row-odd\"><td><p><a class=\"reference internal\" href=\"pandas.DataFrame.idxmax.html#pandas.DataFrame.idxmax\" title=\"pandas.DataFrame.idxmax\"><code class=\"xref py py-obj docutils literal notranslate\"><span class=\"pre\">idxmax</span></code></a>([axis,&nbsp;skipna,&nbsp;numeric_only])</p></td>\n",
    "<td><p>Return index of first occurrence of maximum over requested axis.</p></td>\n",
    "</tr>\n",
    "<tr class=\"row-even\"><td><p><a class=\"reference internal\" href=\"pandas.DataFrame.idxmin.html#pandas.DataFrame.idxmin\" title=\"pandas.DataFrame.idxmin\"><code class=\"xref py py-obj docutils literal notranslate\"><span class=\"pre\">idxmin</span></code></a>([axis,&nbsp;skipna,&nbsp;numeric_only])</p></td>\n",
    "<td><p>Return index of first occurrence of minimum over requested axis.</p></td>\n",
    "</tr>\n",
    "<tr class=\"row-odd\"><td><p><a class=\"reference internal\" href=\"pandas.DataFrame.infer_objects.html#pandas.DataFrame.infer_objects\" title=\"pandas.DataFrame.infer_objects\"><code class=\"xref py py-obj docutils literal notranslate\"><span class=\"pre\">infer_objects</span></code></a>()</p></td>\n",
    "<td><p>Attempt to infer better dtypes for object columns.</p></td>\n",
    "</tr>\n",
    "<tr class=\"row-even\"><td><p><a class=\"reference internal\" href=\"pandas.DataFrame.info.html#pandas.DataFrame.info\" title=\"pandas.DataFrame.info\"><code class=\"xref py py-obj docutils literal notranslate\"><span class=\"pre\">info</span></code></a>([verbose,&nbsp;buf,&nbsp;max_cols,&nbsp;memory_usage,&nbsp;...])</p></td>\n",
    "<td><p>Print a concise summary of a DataFrame.</p></td>\n",
    "</tr>\n",
    "<tr class=\"row-odd\"><td><p><a class=\"reference internal\" href=\"pandas.DataFrame.insert.html#pandas.DataFrame.insert\" title=\"pandas.DataFrame.insert\"><code class=\"xref py py-obj docutils literal notranslate\"><span class=\"pre\">insert</span></code></a>(loc,&nbsp;column,&nbsp;value[,&nbsp;allow_duplicates])</p></td>\n",
    "<td><p>Insert column into DataFrame at specified location.</p></td>\n",
    "</tr>\n",
    "<tr class=\"row-even\"><td><p><a class=\"reference internal\" href=\"pandas.DataFrame.interpolate.html#pandas.DataFrame.interpolate\" title=\"pandas.DataFrame.interpolate\"><code class=\"xref py py-obj docutils literal notranslate\"><span class=\"pre\">interpolate</span></code></a>([method,&nbsp;axis,&nbsp;limit,&nbsp;inplace,&nbsp;...])</p></td>\n",
    "<td><p>Fill NaN values using an interpolation method.</p></td>\n",
    "</tr>\n",
    "<tr class=\"row-odd\"><td><p><a class=\"reference internal\" href=\"pandas.DataFrame.isetitem.html#pandas.DataFrame.isetitem\" title=\"pandas.DataFrame.isetitem\"><code class=\"xref py py-obj docutils literal notranslate\"><span class=\"pre\">isetitem</span></code></a>(loc,&nbsp;value)</p></td>\n",
    "<td><p>Set the given value in the column with position 'loc'.</p></td>\n",
    "</tr>\n",
    "<tr class=\"row-even\"><td><p><a class=\"reference internal\" href=\"pandas.DataFrame.isin.html#pandas.DataFrame.isin\" title=\"pandas.DataFrame.isin\"><code class=\"xref py py-obj docutils literal notranslate\"><span class=\"pre\">isin</span></code></a>(values)</p></td>\n",
    "<td><p>Whether each element in the DataFrame is contained in values.</p></td>\n",
    "</tr>\n",
    "<tr class=\"row-odd\"><td><p><a class=\"reference internal\" href=\"pandas.DataFrame.isna.html#pandas.DataFrame.isna\" title=\"pandas.DataFrame.isna\"><code class=\"xref py py-obj docutils literal notranslate\"><span class=\"pre\">isna</span></code></a>()</p></td>\n",
    "<td><p>Detect missing values.</p></td>\n",
    "</tr>\n",
    "<tr class=\"row-even\"><td><p><a class=\"reference internal\" href=\"pandas.DataFrame.isnull.html#pandas.DataFrame.isnull\" title=\"pandas.DataFrame.isnull\"><code class=\"xref py py-obj docutils literal notranslate\"><span class=\"pre\">isnull</span></code></a>()</p></td>\n",
    "<td><p>DataFrame.isnull is an alias for DataFrame.isna.</p></td>\n",
    "</tr>\n",
    "<tr class=\"row-odd\"><td><p><a class=\"reference internal\" href=\"pandas.DataFrame.items.html#pandas.DataFrame.items\" title=\"pandas.DataFrame.items\"><code class=\"xref py py-obj docutils literal notranslate\"><span class=\"pre\">items</span></code></a>()</p></td>\n",
    "<td><p>Iterate over (column name, Series) pairs.</p></td>\n",
    "</tr>\n",
    "<tr class=\"row-even\"><td><p><a class=\"reference internal\" href=\"pandas.DataFrame.iteritems.html#pandas.DataFrame.iteritems\" title=\"pandas.DataFrame.iteritems\"><code class=\"xref py py-obj docutils literal notranslate\"><span class=\"pre\">iteritems</span></code></a>()</p></td>\n",
    "<td><p>(DEPRECATED) Iterate over (column name, Series) pairs.</p></td>\n",
    "</tr>\n",
    "<tr class=\"row-odd\"><td><p><a class=\"reference internal\" href=\"pandas.DataFrame.iterrows.html#pandas.DataFrame.iterrows\" title=\"pandas.DataFrame.iterrows\"><code class=\"xref py py-obj docutils literal notranslate\"><span class=\"pre\">iterrows</span></code></a>()</p></td>\n",
    "<td><p>Iterate over DataFrame rows as (index, Series) pairs.</p></td>\n",
    "</tr>\n",
    "<tr class=\"row-even\"><td><p><a class=\"reference internal\" href=\"pandas.DataFrame.itertuples.html#pandas.DataFrame.itertuples\" title=\"pandas.DataFrame.itertuples\"><code class=\"xref py py-obj docutils literal notranslate\"><span class=\"pre\">itertuples</span></code></a>([index,&nbsp;name])</p></td>\n",
    "<td><p>Iterate over DataFrame rows as namedtuples.</p></td>\n",
    "</tr>\n",
    "<tr class=\"row-odd\"><td><p><a class=\"reference internal\" href=\"pandas.DataFrame.join.html#pandas.DataFrame.join\" title=\"pandas.DataFrame.join\"><code class=\"xref py py-obj docutils literal notranslate\"><span class=\"pre\">join</span></code></a>(other[,&nbsp;on,&nbsp;how,&nbsp;lsuffix,&nbsp;rsuffix,&nbsp;...])</p></td>\n",
    "<td><p>Join columns of another DataFrame.</p></td>\n",
    "</tr>\n",
    "<tr class=\"row-even\"><td><p><a class=\"reference internal\" href=\"pandas.DataFrame.keys.html#pandas.DataFrame.keys\" title=\"pandas.DataFrame.keys\"><code class=\"xref py py-obj docutils literal notranslate\"><span class=\"pre\">keys</span></code></a>()</p></td>\n",
    "<td><p>Get the 'info axis' (see Indexing for more).</p></td>\n",
    "</tr>\n",
    "<tr class=\"row-odd\"><td><p><a class=\"reference internal\" href=\"pandas.DataFrame.kurt.html#pandas.DataFrame.kurt\" title=\"pandas.DataFrame.kurt\"><code class=\"xref py py-obj docutils literal notranslate\"><span class=\"pre\">kurt</span></code></a>([axis,&nbsp;skipna,&nbsp;level,&nbsp;numeric_only])</p></td>\n",
    "<td><p>Return unbiased kurtosis over requested axis.</p></td>\n",
    "</tr>\n",
    "<tr class=\"row-even\"><td><p><a class=\"reference internal\" href=\"pandas.DataFrame.kurtosis.html#pandas.DataFrame.kurtosis\" title=\"pandas.DataFrame.kurtosis\"><code class=\"xref py py-obj docutils literal notranslate\"><span class=\"pre\">kurtosis</span></code></a>([axis,&nbsp;skipna,&nbsp;level,&nbsp;numeric_only])</p></td>\n",
    "<td><p>Return unbiased kurtosis over requested axis.</p></td>\n",
    "</tr>\n",
    "<tr class=\"row-odd\"><td><p><a class=\"reference internal\" href=\"pandas.DataFrame.last.html#pandas.DataFrame.last\" title=\"pandas.DataFrame.last\"><code class=\"xref py py-obj docutils literal notranslate\"><span class=\"pre\">last</span></code></a>(offset)</p></td>\n",
    "<td><p>Select final periods of time series data based on a date offset.</p></td>\n",
    "</tr>\n",
    "<tr class=\"row-even\"><td><p><a class=\"reference internal\" href=\"pandas.DataFrame.last_valid_index.html#pandas.DataFrame.last_valid_index\" title=\"pandas.DataFrame.last_valid_index\"><code class=\"xref py py-obj docutils literal notranslate\"><span class=\"pre\">last_valid_index</span></code></a>()</p></td>\n",
    "<td><p>Return index for last non-NA value or None, if no non-NA value is found.</p></td>\n",
    "</tr>\n",
    "<tr class=\"row-odd\"><td><p><a class=\"reference internal\" href=\"pandas.DataFrame.le.html#pandas.DataFrame.le\" title=\"pandas.DataFrame.le\"><code class=\"xref py py-obj docutils literal notranslate\"><span class=\"pre\">le</span></code></a>(other[,&nbsp;axis,&nbsp;level])</p></td>\n",
    "<td><p>Get Less than or equal to of dataframe and other, element-wise (binary operator <cite>le</cite>).</p></td>\n",
    "</tr>\n",
    "<tr class=\"row-even\"><td><p><a class=\"reference internal\" href=\"pandas.DataFrame.lookup.html#pandas.DataFrame.lookup\" title=\"pandas.DataFrame.lookup\"><code class=\"xref py py-obj docutils literal notranslate\"><span class=\"pre\">lookup</span></code></a>(row_labels,&nbsp;col_labels)</p></td>\n",
    "<td><p>(DEPRECATED) Label-based \"fancy indexing\" function for DataFrame.</p></td>\n",
    "</tr>\n",
    "<tr class=\"row-odd\"><td><p><a class=\"reference internal\" href=\"pandas.DataFrame.lt.html#pandas.DataFrame.lt\" title=\"pandas.DataFrame.lt\"><code class=\"xref py py-obj docutils literal notranslate\"><span class=\"pre\">lt</span></code></a>(other[,&nbsp;axis,&nbsp;level])</p></td>\n",
    "<td><p>Get Less than of dataframe and other, element-wise (binary operator <cite>lt</cite>).</p></td>\n",
    "</tr>\n",
    "<tr class=\"row-even\"><td><p><a class=\"reference internal\" href=\"pandas.DataFrame.mad.html#pandas.DataFrame.mad\" title=\"pandas.DataFrame.mad\"><code class=\"xref py py-obj docutils literal notranslate\"><span class=\"pre\">mad</span></code></a>([axis,&nbsp;skipna,&nbsp;level])</p></td>\n",
    "<td><p>(DEPRECATED) Return the mean absolute deviation of the values over the requested axis.</p></td>\n",
    "</tr>\n",
    "<tr class=\"row-odd\"><td><p><a class=\"reference internal\" href=\"pandas.DataFrame.mask.html#pandas.DataFrame.mask\" title=\"pandas.DataFrame.mask\"><code class=\"xref py py-obj docutils literal notranslate\"><span class=\"pre\">mask</span></code></a>(cond[,&nbsp;other,&nbsp;inplace,&nbsp;axis,&nbsp;level,&nbsp;...])</p></td>\n",
    "<td><p>Replace values where the condition is True.</p></td>\n",
    "</tr>\n",
    "<tr class=\"row-even\"><td><p><a class=\"reference internal\" href=\"pandas.DataFrame.max.html#pandas.DataFrame.max\" title=\"pandas.DataFrame.max\"><code class=\"xref py py-obj docutils literal notranslate\"><span class=\"pre\">max</span></code></a>([axis,&nbsp;skipna,&nbsp;level,&nbsp;numeric_only])</p></td>\n",
    "<td><p>Return the maximum of the values over the requested axis.</p></td>\n",
    "</tr>\n",
    "<tr class=\"row-odd\"><td><p><a class=\"reference internal\" href=\"pandas.DataFrame.mean.html#pandas.DataFrame.mean\" title=\"pandas.DataFrame.mean\"><code class=\"xref py py-obj docutils literal notranslate\"><span class=\"pre\">mean</span></code></a>([axis,&nbsp;skipna,&nbsp;level,&nbsp;numeric_only])</p></td>\n",
    "<td><p>Return the mean of the values over the requested axis.</p></td>\n",
    "</tr>\n",
    "<tr class=\"row-even\"><td><p><a class=\"reference internal\" href=\"pandas.DataFrame.median.html#pandas.DataFrame.median\" title=\"pandas.DataFrame.median\"><code class=\"xref py py-obj docutils literal notranslate\"><span class=\"pre\">median</span></code></a>([axis,&nbsp;skipna,&nbsp;level,&nbsp;numeric_only])</p></td>\n",
    "<td><p>Return the median of the values over the requested axis.</p></td>\n",
    "</tr>\n",
    "<tr class=\"row-odd\"><td><p><a class=\"reference internal\" href=\"pandas.DataFrame.melt.html#pandas.DataFrame.melt\" title=\"pandas.DataFrame.melt\"><code class=\"xref py py-obj docutils literal notranslate\"><span class=\"pre\">melt</span></code></a>([id_vars,&nbsp;value_vars,&nbsp;var_name,&nbsp;...])</p></td>\n",
    "<td><p>Unpivot a DataFrame from wide to long format, optionally leaving identifiers set.</p></td>\n",
    "</tr>\n",
    "<tr class=\"row-even\"><td><p><a class=\"reference internal\" href=\"pandas.DataFrame.memory_usage.html#pandas.DataFrame.memory_usage\" title=\"pandas.DataFrame.memory_usage\"><code class=\"xref py py-obj docutils literal notranslate\"><span class=\"pre\">memory_usage</span></code></a>([index,&nbsp;deep])</p></td>\n",
    "<td><p>Return the memory usage of each column in bytes.</p></td>\n",
    "</tr>\n",
    "<tr class=\"row-odd\"><td><p><a class=\"reference internal\" href=\"pandas.DataFrame.merge.html#pandas.DataFrame.merge\" title=\"pandas.DataFrame.merge\"><code class=\"xref py py-obj docutils literal notranslate\"><span class=\"pre\">merge</span></code></a>(right[,&nbsp;how,&nbsp;on,&nbsp;left_on,&nbsp;right_on,&nbsp;...])</p></td>\n",
    "<td><p>Merge DataFrame or named Series objects with a database-style join.</p></td>\n",
    "</tr>\n",
    "<tr class=\"row-even\"><td><p><a class=\"reference internal\" href=\"pandas.DataFrame.min.html#pandas.DataFrame.min\" title=\"pandas.DataFrame.min\"><code class=\"xref py py-obj docutils literal notranslate\"><span class=\"pre\">min</span></code></a>([axis,&nbsp;skipna,&nbsp;level,&nbsp;numeric_only])</p></td>\n",
    "<td><p>Return the minimum of the values over the requested axis.</p></td>\n",
    "</tr>\n",
    "<tr class=\"row-odd\"><td><p><a class=\"reference internal\" href=\"pandas.DataFrame.mod.html#pandas.DataFrame.mod\" title=\"pandas.DataFrame.mod\"><code class=\"xref py py-obj docutils literal notranslate\"><span class=\"pre\">mod</span></code></a>(other[,&nbsp;axis,&nbsp;level,&nbsp;fill_value])</p></td>\n",
    "<td><p>Get Modulo of dataframe and other, element-wise (binary operator <cite>mod</cite>).</p></td>\n",
    "</tr>\n",
    "<tr class=\"row-even\"><td><p><a class=\"reference internal\" href=\"pandas.DataFrame.mode.html#pandas.DataFrame.mode\" title=\"pandas.DataFrame.mode\"><code class=\"xref py py-obj docutils literal notranslate\"><span class=\"pre\">mode</span></code></a>([axis,&nbsp;numeric_only,&nbsp;dropna])</p></td>\n",
    "<td><p>Get the mode(s) of each element along the selected axis.</p></td>\n",
    "</tr>\n",
    "<tr class=\"row-odd\"><td><p><a class=\"reference internal\" href=\"pandas.DataFrame.mul.html#pandas.DataFrame.mul\" title=\"pandas.DataFrame.mul\"><code class=\"xref py py-obj docutils literal notranslate\"><span class=\"pre\">mul</span></code></a>(other[,&nbsp;axis,&nbsp;level,&nbsp;fill_value])</p></td>\n",
    "<td><p>Get Multiplication of dataframe and other, element-wise (binary operator <cite>mul</cite>).</p></td>\n",
    "</tr>\n",
    "<tr class=\"row-even\"><td><p><a class=\"reference internal\" href=\"pandas.DataFrame.multiply.html#pandas.DataFrame.multiply\" title=\"pandas.DataFrame.multiply\"><code class=\"xref py py-obj docutils literal notranslate\"><span class=\"pre\">multiply</span></code></a>(other[,&nbsp;axis,&nbsp;level,&nbsp;fill_value])</p></td>\n",
    "<td><p>Get Multiplication of dataframe and other, element-wise (binary operator <cite>mul</cite>).</p></td>\n",
    "</tr>\n",
    "<tr class=\"row-odd\"><td><p><a class=\"reference internal\" href=\"pandas.DataFrame.ne.html#pandas.DataFrame.ne\" title=\"pandas.DataFrame.ne\"><code class=\"xref py py-obj docutils literal notranslate\"><span class=\"pre\">ne</span></code></a>(other[,&nbsp;axis,&nbsp;level])</p></td>\n",
    "<td><p>Get Not equal to of dataframe and other, element-wise (binary operator <cite>ne</cite>).</p></td>\n",
    "</tr>\n",
    "<tr class=\"row-even\"><td><p><a class=\"reference internal\" href=\"pandas.DataFrame.nlargest.html#pandas.DataFrame.nlargest\" title=\"pandas.DataFrame.nlargest\"><code class=\"xref py py-obj docutils literal notranslate\"><span class=\"pre\">nlargest</span></code></a>(n,&nbsp;columns[,&nbsp;keep])</p></td>\n",
    "<td><p>Return the first <cite>n</cite> rows ordered by <cite>columns</cite> in descending order.</p></td>\n",
    "</tr>\n",
    "<tr class=\"row-odd\"><td><p><a class=\"reference internal\" href=\"pandas.DataFrame.notna.html#pandas.DataFrame.notna\" title=\"pandas.DataFrame.notna\"><code class=\"xref py py-obj docutils literal notranslate\"><span class=\"pre\">notna</span></code></a>()</p></td>\n",
    "<td><p>Detect existing (non-missing) values.</p></td>\n",
    "</tr>\n",
    "<tr class=\"row-even\"><td><p><a class=\"reference internal\" href=\"pandas.DataFrame.notnull.html#pandas.DataFrame.notnull\" title=\"pandas.DataFrame.notnull\"><code class=\"xref py py-obj docutils literal notranslate\"><span class=\"pre\">notnull</span></code></a>()</p></td>\n",
    "<td><p>DataFrame.notnull is an alias for DataFrame.notna.</p></td>\n",
    "</tr>\n",
    "<tr class=\"row-odd\"><td><p><a class=\"reference internal\" href=\"pandas.DataFrame.nsmallest.html#pandas.DataFrame.nsmallest\" title=\"pandas.DataFrame.nsmallest\"><code class=\"xref py py-obj docutils literal notranslate\"><span class=\"pre\">nsmallest</span></code></a>(n,&nbsp;columns[,&nbsp;keep])</p></td>\n",
    "<td><p>Return the first <cite>n</cite> rows ordered by <cite>columns</cite> in ascending order.</p></td>\n",
    "</tr>\n",
    "<tr class=\"row-even\"><td><p><a class=\"reference internal\" href=\"pandas.DataFrame.nunique.html#pandas.DataFrame.nunique\" title=\"pandas.DataFrame.nunique\"><code class=\"xref py py-obj docutils literal notranslate\"><span class=\"pre\">nunique</span></code></a>([axis,&nbsp;dropna])</p></td>\n",
    "<td><p>Count number of distinct elements in specified axis.</p></td>\n",
    "</tr>\n",
    "<tr class=\"row-odd\"><td><p><a class=\"reference internal\" href=\"pandas.DataFrame.pad.html#pandas.DataFrame.pad\" title=\"pandas.DataFrame.pad\"><code class=\"xref py py-obj docutils literal notranslate\"><span class=\"pre\">pad</span></code></a>([axis,&nbsp;inplace,&nbsp;limit,&nbsp;downcast])</p></td>\n",
    "<td><p>Synonym for <a class=\"reference internal\" href=\"pandas.DataFrame.fillna.html#pandas.DataFrame.fillna\" title=\"pandas.DataFrame.fillna\"><code class=\"xref py py-meth docutils literal notranslate\"><span class=\"pre\">DataFrame.fillna()</span></code></a> with <code class=\"docutils literal notranslate\"><span class=\"pre\">method='ffill'</span></code>.</p></td>\n",
    "</tr>\n",
    "<tr class=\"row-even\"><td><p><a class=\"reference internal\" href=\"pandas.DataFrame.pct_change.html#pandas.DataFrame.pct_change\" title=\"pandas.DataFrame.pct_change\"><code class=\"xref py py-obj docutils literal notranslate\"><span class=\"pre\">pct_change</span></code></a>([periods,&nbsp;fill_method,&nbsp;limit,&nbsp;freq])</p></td>\n",
    "<td><p>Percentage change between the current and a prior element.</p></td>\n",
    "</tr>\n",
    "<tr class=\"row-odd\"><td><p><a class=\"reference internal\" href=\"pandas.DataFrame.pipe.html#pandas.DataFrame.pipe\" title=\"pandas.DataFrame.pipe\"><code class=\"xref py py-obj docutils literal notranslate\"><span class=\"pre\">pipe</span></code></a>(func,&nbsp;*args,&nbsp;**kwargs)</p></td>\n",
    "<td><p>Apply chainable functions that expect Series or DataFrames.</p></td>\n",
    "</tr>\n",
    "<tr class=\"row-even\"><td><p><a class=\"reference internal\" href=\"pandas.DataFrame.pivot.html#pandas.DataFrame.pivot\" title=\"pandas.DataFrame.pivot\"><code class=\"xref py py-obj docutils literal notranslate\"><span class=\"pre\">pivot</span></code></a>([index,&nbsp;columns,&nbsp;values])</p></td>\n",
    "<td><p>Return reshaped DataFrame organized by given index / column values.</p></td>\n",
    "</tr>\n",
    "<tr class=\"row-odd\"><td><p><a class=\"reference internal\" href=\"pandas.DataFrame.pivot_table.html#pandas.DataFrame.pivot_table\" title=\"pandas.DataFrame.pivot_table\"><code class=\"xref py py-obj docutils literal notranslate\"><span class=\"pre\">pivot_table</span></code></a>([values,&nbsp;index,&nbsp;columns,&nbsp;...])</p></td>\n",
    "<td><p>Create a spreadsheet-style pivot table as a DataFrame.</p></td>\n",
    "</tr>\n",
    "<tr class=\"row-even\"><td><p><a class=\"reference internal\" href=\"pandas.DataFrame.plot.html#pandas.DataFrame.plot\" title=\"pandas.DataFrame.plot\"><code class=\"xref py py-obj docutils literal notranslate\"><span class=\"pre\">plot</span></code></a></p></td>\n",
    "<td><p>alias of <code class=\"xref py py-class docutils literal notranslate\"><span class=\"pre\">pandas.plotting._core.PlotAccessor</span></code></p></td>\n",
    "</tr>\n",
    "<tr class=\"row-odd\"><td><p><a class=\"reference internal\" href=\"pandas.DataFrame.pop.html#pandas.DataFrame.pop\" title=\"pandas.DataFrame.pop\"><code class=\"xref py py-obj docutils literal notranslate\"><span class=\"pre\">pop</span></code></a>(item)</p></td>\n",
    "<td><p>Return item and drop from frame.</p></td>\n",
    "</tr>\n",
    "<tr class=\"row-even\"><td><p><a class=\"reference internal\" href=\"pandas.DataFrame.pow.html#pandas.DataFrame.pow\" title=\"pandas.DataFrame.pow\"><code class=\"xref py py-obj docutils literal notranslate\"><span class=\"pre\">pow</span></code></a>(other[,&nbsp;axis,&nbsp;level,&nbsp;fill_value])</p></td>\n",
    "<td><p>Get Exponential power of dataframe and other, element-wise (binary operator <cite>pow</cite>).</p></td>\n",
    "</tr>\n",
    "<tr class=\"row-odd\"><td><p><a class=\"reference internal\" href=\"pandas.DataFrame.prod.html#pandas.DataFrame.prod\" title=\"pandas.DataFrame.prod\"><code class=\"xref py py-obj docutils literal notranslate\"><span class=\"pre\">prod</span></code></a>([axis,&nbsp;skipna,&nbsp;level,&nbsp;numeric_only,&nbsp;...])</p></td>\n",
    "<td><p>Return the product of the values over the requested axis.</p></td>\n",
    "</tr>\n",
    "<tr class=\"row-even\"><td><p><a class=\"reference internal\" href=\"pandas.DataFrame.product.html#pandas.DataFrame.product\" title=\"pandas.DataFrame.product\"><code class=\"xref py py-obj docutils literal notranslate\"><span class=\"pre\">product</span></code></a>([axis,&nbsp;skipna,&nbsp;level,&nbsp;numeric_only,&nbsp;...])</p></td>\n",
    "<td><p>Return the product of the values over the requested axis.</p></td>\n",
    "</tr>\n",
    "<tr class=\"row-odd\"><td><p><a class=\"reference internal\" href=\"pandas.DataFrame.quantile.html#pandas.DataFrame.quantile\" title=\"pandas.DataFrame.quantile\"><code class=\"xref py py-obj docutils literal notranslate\"><span class=\"pre\">quantile</span></code></a>([q,&nbsp;axis,&nbsp;numeric_only,&nbsp;...])</p></td>\n",
    "<td><p>Return values at the given quantile over requested axis.</p></td>\n",
    "</tr>\n",
    "<tr class=\"row-even\"><td><p><a class=\"reference internal\" href=\"pandas.DataFrame.query.html#pandas.DataFrame.query\" title=\"pandas.DataFrame.query\"><code class=\"xref py py-obj docutils literal notranslate\"><span class=\"pre\">query</span></code></a>(expr[,&nbsp;inplace])</p></td>\n",
    "<td><p>Query the columns of a DataFrame with a boolean expression.</p></td>\n",
    "</tr>\n",
    "<tr class=\"row-odd\"><td><p><a class=\"reference internal\" href=\"pandas.DataFrame.radd.html#pandas.DataFrame.radd\" title=\"pandas.DataFrame.radd\"><code class=\"xref py py-obj docutils literal notranslate\"><span class=\"pre\">radd</span></code></a>(other[,&nbsp;axis,&nbsp;level,&nbsp;fill_value])</p></td>\n",
    "<td><p>Get Addition of dataframe and other, element-wise (binary operator <cite>radd</cite>).</p></td>\n",
    "</tr>\n",
    "<tr class=\"row-even\"><td><p><a class=\"reference internal\" href=\"pandas.DataFrame.rank.html#pandas.DataFrame.rank\" title=\"pandas.DataFrame.rank\"><code class=\"xref py py-obj docutils literal notranslate\"><span class=\"pre\">rank</span></code></a>([axis,&nbsp;method,&nbsp;numeric_only,&nbsp;...])</p></td>\n",
    "<td><p>Compute numerical data ranks (1 through n) along axis.</p></td>\n",
    "</tr>\n",
    "<tr class=\"row-odd\"><td><p><a class=\"reference internal\" href=\"pandas.DataFrame.rdiv.html#pandas.DataFrame.rdiv\" title=\"pandas.DataFrame.rdiv\"><code class=\"xref py py-obj docutils literal notranslate\"><span class=\"pre\">rdiv</span></code></a>(other[,&nbsp;axis,&nbsp;level,&nbsp;fill_value])</p></td>\n",
    "<td><p>Get Floating division of dataframe and other, element-wise (binary operator <cite>rtruediv</cite>).</p></td>\n",
    "</tr>\n",
    "<tr class=\"row-even\"><td><p><a class=\"reference internal\" href=\"pandas.DataFrame.reindex.html#pandas.DataFrame.reindex\" title=\"pandas.DataFrame.reindex\"><code class=\"xref py py-obj docutils literal notranslate\"><span class=\"pre\">reindex</span></code></a>([labels,&nbsp;index,&nbsp;columns,&nbsp;axis,&nbsp;...])</p></td>\n",
    "<td><p>Conform Series/DataFrame to new index with optional filling logic.</p></td>\n",
    "</tr>\n",
    "<tr class=\"row-odd\"><td><p><a class=\"reference internal\" href=\"pandas.DataFrame.reindex_like.html#pandas.DataFrame.reindex_like\" title=\"pandas.DataFrame.reindex_like\"><code class=\"xref py py-obj docutils literal notranslate\"><span class=\"pre\">reindex_like</span></code></a>(other[,&nbsp;method,&nbsp;copy,&nbsp;limit,&nbsp;...])</p></td>\n",
    "<td><p>Return an object with matching indices as other object.</p></td>\n",
    "</tr>\n",
    "<tr class=\"row-even\"><td><p><a class=\"reference internal\" href=\"pandas.DataFrame.rename.html#pandas.DataFrame.rename\" title=\"pandas.DataFrame.rename\"><code class=\"xref py py-obj docutils literal notranslate\"><span class=\"pre\">rename</span></code></a>([mapper,&nbsp;index,&nbsp;columns,&nbsp;axis,&nbsp;copy,&nbsp;...])</p></td>\n",
    "<td><p>Alter axes labels.</p></td>\n",
    "</tr>\n",
    "<tr class=\"row-odd\"><td><p><a class=\"reference internal\" href=\"pandas.DataFrame.rename_axis.html#pandas.DataFrame.rename_axis\" title=\"pandas.DataFrame.rename_axis\"><code class=\"xref py py-obj docutils literal notranslate\"><span class=\"pre\">rename_axis</span></code></a>([mapper,&nbsp;index,&nbsp;columns,&nbsp;axis,&nbsp;copy])</p></td>\n",
    "<td><p>Set the name of the axis for the index or columns.</p></td>\n",
    "</tr>\n",
    "<tr class=\"row-even\"><td><p><a class=\"reference internal\" href=\"pandas.DataFrame.reorder_levels.html#pandas.DataFrame.reorder_levels\" title=\"pandas.DataFrame.reorder_levels\"><code class=\"xref py py-obj docutils literal notranslate\"><span class=\"pre\">reorder_levels</span></code></a>(order[,&nbsp;axis])</p></td>\n",
    "<td><p>Rearrange index levels using input order.</p></td>\n",
    "</tr>\n",
    "<tr class=\"row-odd\"><td><p><a class=\"reference internal\" href=\"pandas.DataFrame.replace.html#pandas.DataFrame.replace\" title=\"pandas.DataFrame.replace\"><code class=\"xref py py-obj docutils literal notranslate\"><span class=\"pre\">replace</span></code></a>([to_replace,&nbsp;value,&nbsp;inplace,&nbsp;limit,&nbsp;...])</p></td>\n",
    "<td><p>Replace values given in <cite>to_replace</cite> with <cite>value</cite>.</p></td>\n",
    "</tr>\n",
    "<tr class=\"row-even\"><td><p><a class=\"reference internal\" href=\"pandas.DataFrame.resample.html#pandas.DataFrame.resample\" title=\"pandas.DataFrame.resample\"><code class=\"xref py py-obj docutils literal notranslate\"><span class=\"pre\">resample</span></code></a>(rule[,&nbsp;axis,&nbsp;closed,&nbsp;label,&nbsp;...])</p></td>\n",
    "<td><p>Resample time-series data.</p></td>\n",
    "</tr>\n",
    "<tr class=\"row-odd\"><td><p><a class=\"reference internal\" href=\"pandas.DataFrame.reset_index.html#pandas.DataFrame.reset_index\" title=\"pandas.DataFrame.reset_index\"><code class=\"xref py py-obj docutils literal notranslate\"><span class=\"pre\">reset_index</span></code></a>([level,&nbsp;drop,&nbsp;inplace,&nbsp;...])</p></td>\n",
    "<td><p>Reset the index, or a level of it.</p></td>\n",
    "</tr>\n",
    "<tr class=\"row-even\"><td><p><a class=\"reference internal\" href=\"pandas.DataFrame.rfloordiv.html#pandas.DataFrame.rfloordiv\" title=\"pandas.DataFrame.rfloordiv\"><code class=\"xref py py-obj docutils literal notranslate\"><span class=\"pre\">rfloordiv</span></code></a>(other[,&nbsp;axis,&nbsp;level,&nbsp;fill_value])</p></td>\n",
    "<td><p>Get Integer division of dataframe and other, element-wise (binary operator <cite>rfloordiv</cite>).</p></td>\n",
    "</tr>\n",
    "<tr class=\"row-odd\"><td><p><a class=\"reference internal\" href=\"pandas.DataFrame.rmod.html#pandas.DataFrame.rmod\" title=\"pandas.DataFrame.rmod\"><code class=\"xref py py-obj docutils literal notranslate\"><span class=\"pre\">rmod</span></code></a>(other[,&nbsp;axis,&nbsp;level,&nbsp;fill_value])</p></td>\n",
    "<td><p>Get Modulo of dataframe and other, element-wise (binary operator <cite>rmod</cite>).</p></td>\n",
    "</tr>\n",
    "<tr class=\"row-even\"><td><p><a class=\"reference internal\" href=\"pandas.DataFrame.rmul.html#pandas.DataFrame.rmul\" title=\"pandas.DataFrame.rmul\"><code class=\"xref py py-obj docutils literal notranslate\"><span class=\"pre\">rmul</span></code></a>(other[,&nbsp;axis,&nbsp;level,&nbsp;fill_value])</p></td>\n",
    "<td><p>Get Multiplication of dataframe and other, element-wise (binary operator <cite>rmul</cite>).</p></td>\n",
    "</tr>\n",
    "<tr class=\"row-odd\"><td><p><a class=\"reference internal\" href=\"pandas.DataFrame.rolling.html#pandas.DataFrame.rolling\" title=\"pandas.DataFrame.rolling\"><code class=\"xref py py-obj docutils literal notranslate\"><span class=\"pre\">rolling</span></code></a>(window[,&nbsp;min_periods,&nbsp;center,&nbsp;...])</p></td>\n",
    "<td><p>Provide rolling window calculations.</p></td>\n",
    "</tr>\n",
    "<tr class=\"row-even\"><td><p><a class=\"reference internal\" href=\"pandas.DataFrame.round.html#pandas.DataFrame.round\" title=\"pandas.DataFrame.round\"><code class=\"xref py py-obj docutils literal notranslate\"><span class=\"pre\">round</span></code></a>([decimals])</p></td>\n",
    "<td><p>Round a DataFrame to a variable number of decimal places.</p></td>\n",
    "</tr>\n",
    "<tr class=\"row-odd\"><td><p><a class=\"reference internal\" href=\"pandas.DataFrame.rpow.html#pandas.DataFrame.rpow\" title=\"pandas.DataFrame.rpow\"><code class=\"xref py py-obj docutils literal notranslate\"><span class=\"pre\">rpow</span></code></a>(other[,&nbsp;axis,&nbsp;level,&nbsp;fill_value])</p></td>\n",
    "<td><p>Get Exponential power of dataframe and other, element-wise (binary operator <cite>rpow</cite>).</p></td>\n",
    "</tr>\n",
    "<tr class=\"row-even\"><td><p><a class=\"reference internal\" href=\"pandas.DataFrame.rsub.html#pandas.DataFrame.rsub\" title=\"pandas.DataFrame.rsub\"><code class=\"xref py py-obj docutils literal notranslate\"><span class=\"pre\">rsub</span></code></a>(other[,&nbsp;axis,&nbsp;level,&nbsp;fill_value])</p></td>\n",
    "<td><p>Get Subtraction of dataframe and other, element-wise (binary operator <cite>rsub</cite>).</p></td>\n",
    "</tr>\n",
    "<tr class=\"row-odd\"><td><p><a class=\"reference internal\" href=\"pandas.DataFrame.rtruediv.html#pandas.DataFrame.rtruediv\" title=\"pandas.DataFrame.rtruediv\"><code class=\"xref py py-obj docutils literal notranslate\"><span class=\"pre\">rtruediv</span></code></a>(other[,&nbsp;axis,&nbsp;level,&nbsp;fill_value])</p></td>\n",
    "<td><p>Get Floating division of dataframe and other, element-wise (binary operator <cite>rtruediv</cite>).</p></td>\n",
    "</tr>\n",
    "<tr class=\"row-even\"><td><p><a class=\"reference internal\" href=\"pandas.DataFrame.sample.html#pandas.DataFrame.sample\" title=\"pandas.DataFrame.sample\"><code class=\"xref py py-obj docutils literal notranslate\"><span class=\"pre\">sample</span></code></a>([n,&nbsp;frac,&nbsp;replace,&nbsp;weights,&nbsp;...])</p></td>\n",
    "<td><p>Return a random sample of items from an axis of object.</p></td>\n",
    "</tr>\n",
    "<tr class=\"row-odd\"><td><p><a class=\"reference internal\" href=\"pandas.DataFrame.select_dtypes.html#pandas.DataFrame.select_dtypes\" title=\"pandas.DataFrame.select_dtypes\"><code class=\"xref py py-obj docutils literal notranslate\"><span class=\"pre\">select_dtypes</span></code></a>([include,&nbsp;exclude])</p></td>\n",
    "<td><p>Return a subset of the DataFrame's columns based on the column dtypes.</p></td>\n",
    "</tr>\n",
    "<tr class=\"row-even\"><td><p><a class=\"reference internal\" href=\"pandas.DataFrame.sem.html#pandas.DataFrame.sem\" title=\"pandas.DataFrame.sem\"><code class=\"xref py py-obj docutils literal notranslate\"><span class=\"pre\">sem</span></code></a>([axis,&nbsp;skipna,&nbsp;level,&nbsp;ddof,&nbsp;numeric_only])</p></td>\n",
    "<td><p>Return unbiased standard error of the mean over requested axis.</p></td>\n",
    "</tr>\n",
    "<tr class=\"row-odd\"><td><p><a class=\"reference internal\" href=\"pandas.DataFrame.set_axis.html#pandas.DataFrame.set_axis\" title=\"pandas.DataFrame.set_axis\"><code class=\"xref py py-obj docutils literal notranslate\"><span class=\"pre\">set_axis</span></code></a>(labels[,&nbsp;axis,&nbsp;inplace,&nbsp;copy])</p></td>\n",
    "<td><p>Assign desired index to given axis.</p></td>\n",
    "</tr>\n",
    "<tr class=\"row-even\"><td><p><a class=\"reference internal\" href=\"pandas.DataFrame.set_flags.html#pandas.DataFrame.set_flags\" title=\"pandas.DataFrame.set_flags\"><code class=\"xref py py-obj docutils literal notranslate\"><span class=\"pre\">set_flags</span></code></a>(*[,&nbsp;copy,&nbsp;allows_duplicate_labels])</p></td>\n",
    "<td><p>Return a new object with updated flags.</p></td>\n",
    "</tr>\n",
    "<tr class=\"row-odd\"><td><p><a class=\"reference internal\" href=\"pandas.DataFrame.set_index.html#pandas.DataFrame.set_index\" title=\"pandas.DataFrame.set_index\"><code class=\"xref py py-obj docutils literal notranslate\"><span class=\"pre\">set_index</span></code></a>(keys[,&nbsp;drop,&nbsp;append,&nbsp;inplace,&nbsp;...])</p></td>\n",
    "<td><p>Set the DataFrame index using existing columns.</p></td>\n",
    "</tr>\n",
    "<tr class=\"row-even\"><td><p><a class=\"reference internal\" href=\"pandas.DataFrame.shift.html#pandas.DataFrame.shift\" title=\"pandas.DataFrame.shift\"><code class=\"xref py py-obj docutils literal notranslate\"><span class=\"pre\">shift</span></code></a>([periods,&nbsp;freq,&nbsp;axis,&nbsp;fill_value])</p></td>\n",
    "<td><p>Shift index by desired number of periods with an optional time <cite>freq</cite>.</p></td>\n",
    "</tr>\n",
    "<tr class=\"row-odd\"><td><p><a class=\"reference internal\" href=\"pandas.DataFrame.skew.html#pandas.DataFrame.skew\" title=\"pandas.DataFrame.skew\"><code class=\"xref py py-obj docutils literal notranslate\"><span class=\"pre\">skew</span></code></a>([axis,&nbsp;skipna,&nbsp;level,&nbsp;numeric_only])</p></td>\n",
    "<td><p>Return unbiased skew over requested axis.</p></td>\n",
    "</tr>\n",
    "<tr class=\"row-even\"><td><p><a class=\"reference internal\" href=\"pandas.DataFrame.slice_shift.html#pandas.DataFrame.slice_shift\" title=\"pandas.DataFrame.slice_shift\"><code class=\"xref py py-obj docutils literal notranslate\"><span class=\"pre\">slice_shift</span></code></a>([periods,&nbsp;axis])</p></td>\n",
    "<td><p>(DEPRECATED) Equivalent to <cite>shift</cite> without copying data.</p></td>\n",
    "</tr>\n",
    "<tr class=\"row-odd\"><td><p><a class=\"reference internal\" href=\"pandas.DataFrame.sort_index.html#pandas.DataFrame.sort_index\" title=\"pandas.DataFrame.sort_index\"><code class=\"xref py py-obj docutils literal notranslate\"><span class=\"pre\">sort_index</span></code></a>([axis,&nbsp;level,&nbsp;ascending,&nbsp;...])</p></td>\n",
    "<td><p>Sort object by labels (along an axis).</p></td>\n",
    "</tr>\n",
    "<tr class=\"row-even\"><td><p><a class=\"reference internal\" href=\"pandas.DataFrame.sort_values.html#pandas.DataFrame.sort_values\" title=\"pandas.DataFrame.sort_values\"><code class=\"xref py py-obj docutils literal notranslate\"><span class=\"pre\">sort_values</span></code></a>(by[,&nbsp;axis,&nbsp;ascending,&nbsp;inplace,&nbsp;...])</p></td>\n",
    "<td><p>Sort by the values along either axis.</p></td>\n",
    "</tr>\n",
    "<tr class=\"row-odd\"><td><p><a class=\"reference internal\" href=\"pandas.DataFrame.sparse.html#pandas.DataFrame.sparse\" title=\"pandas.DataFrame.sparse\"><code class=\"xref py py-obj docutils literal notranslate\"><span class=\"pre\">sparse</span></code></a></p></td>\n",
    "<td><p>alias of <code class=\"xref py py-class docutils literal notranslate\"><span class=\"pre\">pandas.core.arrays.sparse.accessor.SparseFrameAccessor</span></code></p></td>\n",
    "</tr>\n",
    "<tr class=\"row-even\"><td><p><a class=\"reference internal\" href=\"pandas.DataFrame.squeeze.html#pandas.DataFrame.squeeze\" title=\"pandas.DataFrame.squeeze\"><code class=\"xref py py-obj docutils literal notranslate\"><span class=\"pre\">squeeze</span></code></a>([axis])</p></td>\n",
    "<td><p>Squeeze 1 dimensional axis objects into scalars.</p></td>\n",
    "</tr>\n",
    "<tr class=\"row-odd\"><td><p><a class=\"reference internal\" href=\"pandas.DataFrame.stack.html#pandas.DataFrame.stack\" title=\"pandas.DataFrame.stack\"><code class=\"xref py py-obj docutils literal notranslate\"><span class=\"pre\">stack</span></code></a>([level,&nbsp;dropna])</p></td>\n",
    "<td><p>Stack the prescribed level(s) from columns to index.</p></td>\n",
    "</tr>\n",
    "<tr class=\"row-even\"><td><p><a class=\"reference internal\" href=\"pandas.DataFrame.std.html#pandas.DataFrame.std\" title=\"pandas.DataFrame.std\"><code class=\"xref py py-obj docutils literal notranslate\"><span class=\"pre\">std</span></code></a>([axis,&nbsp;skipna,&nbsp;level,&nbsp;ddof,&nbsp;numeric_only])</p></td>\n",
    "<td><p>Return sample standard deviation over requested axis.</p></td>\n",
    "</tr>\n",
    "<tr class=\"row-odd\"><td><p><a class=\"reference internal\" href=\"pandas.DataFrame.sub.html#pandas.DataFrame.sub\" title=\"pandas.DataFrame.sub\"><code class=\"xref py py-obj docutils literal notranslate\"><span class=\"pre\">sub</span></code></a>(other[,&nbsp;axis,&nbsp;level,&nbsp;fill_value])</p></td>\n",
    "<td><p>Get Subtraction of dataframe and other, element-wise (binary operator <cite>sub</cite>).</p></td>\n",
    "</tr>\n",
    "<tr class=\"row-even\"><td><p><a class=\"reference internal\" href=\"pandas.DataFrame.subtract.html#pandas.DataFrame.subtract\" title=\"pandas.DataFrame.subtract\"><code class=\"xref py py-obj docutils literal notranslate\"><span class=\"pre\">subtract</span></code></a>(other[,&nbsp;axis,&nbsp;level,&nbsp;fill_value])</p></td>\n",
    "<td><p>Get Subtraction of dataframe and other, element-wise (binary operator <cite>sub</cite>).</p></td>\n",
    "</tr>\n",
    "<tr class=\"row-odd\"><td><p><a class=\"reference internal\" href=\"pandas.DataFrame.sum.html#pandas.DataFrame.sum\" title=\"pandas.DataFrame.sum\"><code class=\"xref py py-obj docutils literal notranslate\"><span class=\"pre\">sum</span></code></a>([axis,&nbsp;skipna,&nbsp;level,&nbsp;numeric_only,&nbsp;...])</p></td>\n",
    "<td><p>Return the sum of the values over the requested axis.</p></td>\n",
    "</tr>\n",
    "<tr class=\"row-even\"><td><p><a class=\"reference internal\" href=\"pandas.DataFrame.swapaxes.html#pandas.DataFrame.swapaxes\" title=\"pandas.DataFrame.swapaxes\"><code class=\"xref py py-obj docutils literal notranslate\"><span class=\"pre\">swapaxes</span></code></a>(axis1,&nbsp;axis2[,&nbsp;copy])</p></td>\n",
    "<td><p>Interchange axes and swap values axes appropriately.</p></td>\n",
    "</tr>\n",
    "<tr class=\"row-odd\"><td><p><a class=\"reference internal\" href=\"pandas.DataFrame.swaplevel.html#pandas.DataFrame.swaplevel\" title=\"pandas.DataFrame.swaplevel\"><code class=\"xref py py-obj docutils literal notranslate\"><span class=\"pre\">swaplevel</span></code></a>([i,&nbsp;j,&nbsp;axis])</p></td>\n",
    "<td><p>Swap levels i and j in a <a class=\"reference internal\" href=\"pandas.MultiIndex.html#pandas.MultiIndex\" title=\"pandas.MultiIndex\"><code class=\"xref py py-class docutils literal notranslate\"><span class=\"pre\">MultiIndex</span></code></a>.</p></td>\n",
    "</tr>\n",
    "<tr class=\"row-even\"><td><p><a class=\"reference internal\" href=\"pandas.DataFrame.tail.html#pandas.DataFrame.tail\" title=\"pandas.DataFrame.tail\"><code class=\"xref py py-obj docutils literal notranslate\"><span class=\"pre\">tail</span></code></a>([n])</p></td>\n",
    "<td><p>Return the last <cite>n</cite> rows.</p></td>\n",
    "</tr>\n",
    "<tr class=\"row-odd\"><td><p><a class=\"reference internal\" href=\"pandas.DataFrame.take.html#pandas.DataFrame.take\" title=\"pandas.DataFrame.take\"><code class=\"xref py py-obj docutils literal notranslate\"><span class=\"pre\">take</span></code></a>(indices[,&nbsp;axis,&nbsp;is_copy])</p></td>\n",
    "<td><p>Return the elements in the given <em>positional</em> indices along an axis.</p></td>\n",
    "</tr>\n",
    "<tr class=\"row-even\"><td><p><a class=\"reference internal\" href=\"pandas.DataFrame.to_clipboard.html#pandas.DataFrame.to_clipboard\" title=\"pandas.DataFrame.to_clipboard\"><code class=\"xref py py-obj docutils literal notranslate\"><span class=\"pre\">to_clipboard</span></code></a>([excel,&nbsp;sep])</p></td>\n",
    "<td><p>Copy object to the system clipboard.</p></td>\n",
    "</tr>\n",
    "<tr class=\"row-odd\"><td><p><a class=\"reference internal\" href=\"pandas.DataFrame.to_csv.html#pandas.DataFrame.to_csv\" title=\"pandas.DataFrame.to_csv\"><code class=\"xref py py-obj docutils literal notranslate\"><span class=\"pre\">to_csv</span></code></a>([path_or_buf,&nbsp;sep,&nbsp;na_rep,&nbsp;...])</p></td>\n",
    "<td><p>Write object to a comma-separated values (csv) file.</p></td>\n",
    "</tr>\n",
    "<tr class=\"row-even\"><td><p><a class=\"reference internal\" href=\"pandas.DataFrame.to_dict.html#pandas.DataFrame.to_dict\" title=\"pandas.DataFrame.to_dict\"><code class=\"xref py py-obj docutils literal notranslate\"><span class=\"pre\">to_dict</span></code></a>([orient,&nbsp;into])</p></td>\n",
    "<td><p>Convert the DataFrame to a dictionary.</p></td>\n",
    "</tr>\n",
    "<tr class=\"row-odd\"><td><p><a class=\"reference internal\" href=\"pandas.DataFrame.to_excel.html#pandas.DataFrame.to_excel\" title=\"pandas.DataFrame.to_excel\"><code class=\"xref py py-obj docutils literal notranslate\"><span class=\"pre\">to_excel</span></code></a>(excel_writer[,&nbsp;sheet_name,&nbsp;na_rep,&nbsp;...])</p></td>\n",
    "<td><p>Write object to an Excel sheet.</p></td>\n",
    "</tr>\n",
    "<tr class=\"row-even\"><td><p><a class=\"reference internal\" href=\"pandas.DataFrame.to_feather.html#pandas.DataFrame.to_feather\" title=\"pandas.DataFrame.to_feather\"><code class=\"xref py py-obj docutils literal notranslate\"><span class=\"pre\">to_feather</span></code></a>(path,&nbsp;**kwargs)</p></td>\n",
    "<td><p>Write a DataFrame to the binary Feather format.</p></td>\n",
    "</tr>\n",
    "<tr class=\"row-odd\"><td><p><a class=\"reference internal\" href=\"pandas.DataFrame.to_gbq.html#pandas.DataFrame.to_gbq\" title=\"pandas.DataFrame.to_gbq\"><code class=\"xref py py-obj docutils literal notranslate\"><span class=\"pre\">to_gbq</span></code></a>(destination_table[,&nbsp;project_id,&nbsp;...])</p></td>\n",
    "<td><p>Write a DataFrame to a Google BigQuery table.</p></td>\n",
    "</tr>\n",
    "<tr class=\"row-even\"><td><p><a class=\"reference internal\" href=\"pandas.DataFrame.to_hdf.html#pandas.DataFrame.to_hdf\" title=\"pandas.DataFrame.to_hdf\"><code class=\"xref py py-obj docutils literal notranslate\"><span class=\"pre\">to_hdf</span></code></a>(path_or_buf,&nbsp;key[,&nbsp;mode,&nbsp;complevel,&nbsp;...])</p></td>\n",
    "<td><p>Write the contained data to an HDF5 file using HDFStore.</p></td>\n",
    "</tr>\n",
    "<tr class=\"row-odd\"><td><p><a class=\"reference internal\" href=\"pandas.DataFrame.to_html.html#pandas.DataFrame.to_html\" title=\"pandas.DataFrame.to_html\"><code class=\"xref py py-obj docutils literal notranslate\"><span class=\"pre\">to_html</span></code></a>([buf,&nbsp;columns,&nbsp;col_space,&nbsp;header,&nbsp;...])</p></td>\n",
    "<td><p>Render a DataFrame as an HTML table.</p></td>\n",
    "</tr>\n",
    "<tr class=\"row-even\"><td><p><a class=\"reference internal\" href=\"pandas.DataFrame.to_json.html#pandas.DataFrame.to_json\" title=\"pandas.DataFrame.to_json\"><code class=\"xref py py-obj docutils literal notranslate\"><span class=\"pre\">to_json</span></code></a>([path_or_buf,&nbsp;orient,&nbsp;date_format,&nbsp;...])</p></td>\n",
    "<td><p>Convert the object to a JSON string.</p></td>\n",
    "</tr>\n",
    "<tr class=\"row-odd\"><td><p><a class=\"reference internal\" href=\"pandas.DataFrame.to_latex.html#pandas.DataFrame.to_latex\" title=\"pandas.DataFrame.to_latex\"><code class=\"xref py py-obj docutils literal notranslate\"><span class=\"pre\">to_latex</span></code></a>([buf,&nbsp;columns,&nbsp;col_space,&nbsp;header,&nbsp;...])</p></td>\n",
    "<td><p>Render object to a LaTeX tabular, longtable, or nested table.</p></td>\n",
    "</tr>\n",
    "<tr class=\"row-even\"><td><p><a class=\"reference internal\" href=\"pandas.DataFrame.to_markdown.html#pandas.DataFrame.to_markdown\" title=\"pandas.DataFrame.to_markdown\"><code class=\"xref py py-obj docutils literal notranslate\"><span class=\"pre\">to_markdown</span></code></a>([buf,&nbsp;mode,&nbsp;index,&nbsp;storage_options])</p></td>\n",
    "<td><p>Print DataFrame in Markdown-friendly format.</p></td>\n",
    "</tr>\n",
    "<tr class=\"row-odd\"><td><p><a class=\"reference internal\" href=\"pandas.DataFrame.to_numpy.html#pandas.DataFrame.to_numpy\" title=\"pandas.DataFrame.to_numpy\"><code class=\"xref py py-obj docutils literal notranslate\"><span class=\"pre\">to_numpy</span></code></a>([dtype,&nbsp;copy,&nbsp;na_value])</p></td>\n",
    "<td><p>Convert the DataFrame to a NumPy array.</p></td>\n",
    "</tr>\n",
    "<tr class=\"row-even\"><td><p><a class=\"reference internal\" href=\"pandas.DataFrame.to_orc.html#pandas.DataFrame.to_orc\" title=\"pandas.DataFrame.to_orc\"><code class=\"xref py py-obj docutils literal notranslate\"><span class=\"pre\">to_orc</span></code></a>([path,&nbsp;engine,&nbsp;index,&nbsp;engine_kwargs])</p></td>\n",
    "<td><p>Write a DataFrame to the ORC format.</p></td>\n",
    "</tr>\n",
    "<tr class=\"row-odd\"><td><p><a class=\"reference internal\" href=\"pandas.DataFrame.to_parquet.html#pandas.DataFrame.to_parquet\" title=\"pandas.DataFrame.to_parquet\"><code class=\"xref py py-obj docutils literal notranslate\"><span class=\"pre\">to_parquet</span></code></a>([path,&nbsp;engine,&nbsp;compression,&nbsp;...])</p></td>\n",
    "<td><p>Write a DataFrame to the binary parquet format.</p></td>\n",
    "</tr>\n",
    "<tr class=\"row-even\"><td><p><a class=\"reference internal\" href=\"pandas.DataFrame.to_period.html#pandas.DataFrame.to_period\" title=\"pandas.DataFrame.to_period\"><code class=\"xref py py-obj docutils literal notranslate\"><span class=\"pre\">to_period</span></code></a>([freq,&nbsp;axis,&nbsp;copy])</p></td>\n",
    "<td><p>Convert DataFrame from DatetimeIndex to PeriodIndex.</p></td>\n",
    "</tr>\n",
    "<tr class=\"row-odd\"><td><p><a class=\"reference internal\" href=\"pandas.DataFrame.to_pickle.html#pandas.DataFrame.to_pickle\" title=\"pandas.DataFrame.to_pickle\"><code class=\"xref py py-obj docutils literal notranslate\"><span class=\"pre\">to_pickle</span></code></a>(path[,&nbsp;compression,&nbsp;protocol,&nbsp;...])</p></td>\n",
    "<td><p>Pickle (serialize) object to file.</p></td>\n",
    "</tr>\n",
    "<tr class=\"row-even\"><td><p><a class=\"reference internal\" href=\"pandas.DataFrame.to_records.html#pandas.DataFrame.to_records\" title=\"pandas.DataFrame.to_records\"><code class=\"xref py py-obj docutils literal notranslate\"><span class=\"pre\">to_records</span></code></a>([index,&nbsp;column_dtypes,&nbsp;index_dtypes])</p></td>\n",
    "<td><p>Convert DataFrame to a NumPy record array.</p></td>\n",
    "</tr>\n",
    "<tr class=\"row-odd\"><td><p><a class=\"reference internal\" href=\"pandas.DataFrame.to_sql.html#pandas.DataFrame.to_sql\" title=\"pandas.DataFrame.to_sql\"><code class=\"xref py py-obj docutils literal notranslate\"><span class=\"pre\">to_sql</span></code></a>(name,&nbsp;con[,&nbsp;schema,&nbsp;if_exists,&nbsp;...])</p></td>\n",
    "<td><p>Write records stored in a DataFrame to a SQL database.</p></td>\n",
    "</tr>\n",
    "<tr class=\"row-even\"><td><p><a class=\"reference internal\" href=\"pandas.DataFrame.to_stata.html#pandas.DataFrame.to_stata\" title=\"pandas.DataFrame.to_stata\"><code class=\"xref py py-obj docutils literal notranslate\"><span class=\"pre\">to_stata</span></code></a>(path[,&nbsp;convert_dates,&nbsp;write_index,&nbsp;...])</p></td>\n",
    "<td><p>Export DataFrame object to Stata dta format.</p></td>\n",
    "</tr>\n",
    "<tr class=\"row-odd\"><td><p><a class=\"reference internal\" href=\"pandas.DataFrame.to_string.html#pandas.DataFrame.to_string\" title=\"pandas.DataFrame.to_string\"><code class=\"xref py py-obj docutils literal notranslate\"><span class=\"pre\">to_string</span></code></a>([buf,&nbsp;columns,&nbsp;col_space,&nbsp;header,&nbsp;...])</p></td>\n",
    "<td><p>Render a DataFrame to a console-friendly tabular output.</p></td>\n",
    "</tr>\n",
    "<tr class=\"row-even\"><td><p><a class=\"reference internal\" href=\"pandas.DataFrame.to_timestamp.html#pandas.DataFrame.to_timestamp\" title=\"pandas.DataFrame.to_timestamp\"><code class=\"xref py py-obj docutils literal notranslate\"><span class=\"pre\">to_timestamp</span></code></a>([freq,&nbsp;how,&nbsp;axis,&nbsp;copy])</p></td>\n",
    "<td><p>Cast to DatetimeIndex of timestamps, at <em>beginning</em> of period.</p></td>\n",
    "</tr>\n",
    "<tr class=\"row-odd\"><td><p><a class=\"reference internal\" href=\"pandas.DataFrame.to_xarray.html#pandas.DataFrame.to_xarray\" title=\"pandas.DataFrame.to_xarray\"><code class=\"xref py py-obj docutils literal notranslate\"><span class=\"pre\">to_xarray</span></code></a>()</p></td>\n",
    "<td><p>Return an xarray object from the pandas object.</p></td>\n",
    "</tr>\n",
    "<tr class=\"row-even\"><td><p><a class=\"reference internal\" href=\"pandas.DataFrame.to_xml.html#pandas.DataFrame.to_xml\" title=\"pandas.DataFrame.to_xml\"><code class=\"xref py py-obj docutils literal notranslate\"><span class=\"pre\">to_xml</span></code></a>([path_or_buffer,&nbsp;index,&nbsp;root_name,&nbsp;...])</p></td>\n",
    "<td><p>Render a DataFrame to an XML document.</p></td>\n",
    "</tr>\n",
    "<tr class=\"row-odd\"><td><p><a class=\"reference internal\" href=\"pandas.DataFrame.transform.html#pandas.DataFrame.transform\" title=\"pandas.DataFrame.transform\"><code class=\"xref py py-obj docutils literal notranslate\"><span class=\"pre\">transform</span></code></a>(func[,&nbsp;axis])</p></td>\n",
    "<td><p>Call <code class=\"docutils literal notranslate\"><span class=\"pre\">func</span></code> on self producing a DataFrame with the same axis shape as self.</p></td>\n",
    "</tr>\n",
    "<tr class=\"row-even\"><td><p><a class=\"reference internal\" href=\"pandas.DataFrame.transpose.html#pandas.DataFrame.transpose\" title=\"pandas.DataFrame.transpose\"><code class=\"xref py py-obj docutils literal notranslate\"><span class=\"pre\">transpose</span></code></a>(*args[,&nbsp;copy])</p></td>\n",
    "<td><p>Transpose index and columns.</p></td>\n",
    "</tr>\n",
    "<tr class=\"row-odd\"><td><p><a class=\"reference internal\" href=\"pandas.DataFrame.truediv.html#pandas.DataFrame.truediv\" title=\"pandas.DataFrame.truediv\"><code class=\"xref py py-obj docutils literal notranslate\"><span class=\"pre\">truediv</span></code></a>(other[,&nbsp;axis,&nbsp;level,&nbsp;fill_value])</p></td>\n",
    "<td><p>Get Floating division of dataframe and other, element-wise (binary operator <cite>truediv</cite>).</p></td>\n",
    "</tr>\n",
    "<tr class=\"row-even\"><td><p><a class=\"reference internal\" href=\"pandas.DataFrame.truncate.html#pandas.DataFrame.truncate\" title=\"pandas.DataFrame.truncate\"><code class=\"xref py py-obj docutils literal notranslate\"><span class=\"pre\">truncate</span></code></a>([before,&nbsp;after,&nbsp;axis,&nbsp;copy])</p></td>\n",
    "<td><p>Truncate a Series or DataFrame before and after some index value.</p></td>\n",
    "</tr>\n",
    "<tr class=\"row-odd\"><td><p><a class=\"reference internal\" href=\"pandas.DataFrame.tshift.html#pandas.DataFrame.tshift\" title=\"pandas.DataFrame.tshift\"><code class=\"xref py py-obj docutils literal notranslate\"><span class=\"pre\">tshift</span></code></a>([periods,&nbsp;freq,&nbsp;axis])</p></td>\n",
    "<td><p>(DEPRECATED) Shift the time index, using the index's frequency if available.</p></td>\n",
    "</tr>\n",
    "<tr class=\"row-even\"><td><p><a class=\"reference internal\" href=\"pandas.DataFrame.tz_convert.html#pandas.DataFrame.tz_convert\" title=\"pandas.DataFrame.tz_convert\"><code class=\"xref py py-obj docutils literal notranslate\"><span class=\"pre\">tz_convert</span></code></a>(tz[,&nbsp;axis,&nbsp;level,&nbsp;copy])</p></td>\n",
    "<td><p>Convert tz-aware axis to target time zone.</p></td>\n",
    "</tr>\n",
    "<tr class=\"row-odd\"><td><p><a class=\"reference internal\" href=\"pandas.DataFrame.tz_localize.html#pandas.DataFrame.tz_localize\" title=\"pandas.DataFrame.tz_localize\"><code class=\"xref py py-obj docutils literal notranslate\"><span class=\"pre\">tz_localize</span></code></a>(tz[,&nbsp;axis,&nbsp;level,&nbsp;copy,&nbsp;...])</p></td>\n",
    "<td><p>Localize tz-naive index of a Series or DataFrame to target time zone.</p></td>\n",
    "</tr>\n",
    "<tr class=\"row-even\"><td><p><a class=\"reference internal\" href=\"pandas.DataFrame.unstack.html#pandas.DataFrame.unstack\" title=\"pandas.DataFrame.unstack\"><code class=\"xref py py-obj docutils literal notranslate\"><span class=\"pre\">unstack</span></code></a>([level,&nbsp;fill_value])</p></td>\n",
    "<td><p>Pivot a level of the (necessarily hierarchical) index labels.</p></td>\n",
    "</tr>\n",
    "<tr class=\"row-odd\"><td><p><a class=\"reference internal\" href=\"pandas.DataFrame.update.html#pandas.DataFrame.update\" title=\"pandas.DataFrame.update\"><code class=\"xref py py-obj docutils literal notranslate\"><span class=\"pre\">update</span></code></a>(other[,&nbsp;join,&nbsp;overwrite,&nbsp;...])</p></td>\n",
    "<td><p>Modify in place using non-NA values from another DataFrame.</p></td>\n",
    "</tr>\n",
    "<tr class=\"row-even\"><td><p><a class=\"reference internal\" href=\"pandas.DataFrame.value_counts.html#pandas.DataFrame.value_counts\" title=\"pandas.DataFrame.value_counts\"><code class=\"xref py py-obj docutils literal notranslate\"><span class=\"pre\">value_counts</span></code></a>([subset,&nbsp;normalize,&nbsp;sort,&nbsp;...])</p></td>\n",
    "<td><p>Return a Series containing counts of unique rows in the DataFrame.</p></td>\n",
    "</tr>\n",
    "<tr class=\"row-odd\"><td><p><a class=\"reference internal\" href=\"pandas.DataFrame.var.html#pandas.DataFrame.var\" title=\"pandas.DataFrame.var\"><code class=\"xref py py-obj docutils literal notranslate\"><span class=\"pre\">var</span></code></a>([axis,&nbsp;skipna,&nbsp;level,&nbsp;ddof,&nbsp;numeric_only])</p></td>\n",
    "<td><p>Return unbiased variance over requested axis.</p></td>\n",
    "</tr>\n",
    "<tr class=\"row-even\"><td><p><a class=\"reference internal\" href=\"pandas.DataFrame.where.html#pandas.DataFrame.where\" title=\"pandas.DataFrame.where\"><code class=\"xref py py-obj docutils literal notranslate\"><span class=\"pre\">where</span></code></a>(cond[,&nbsp;other,&nbsp;inplace,&nbsp;axis,&nbsp;level,&nbsp;...])</p></td>\n",
    "<td><p>Replace values where the condition is False.</p></td>\n",
    "</tr>\n",
    "<tr class=\"row-odd\"><td><p><a class=\"reference internal\" href=\"pandas.DataFrame.xs.html#pandas.DataFrame.xs\" title=\"pandas.DataFrame.xs\"><code class=\"xref py py-obj docutils literal notranslate\"><span class=\"pre\">xs</span></code></a>(key[,&nbsp;axis,&nbsp;level,&nbsp;drop_level])</p></td>\n",
    "<td><p>Return cross-section from the Series/DataFrame.</p></td>\n",
    "</tr>\n",
    "</tbody>\n",
    "</table>\n",
    "    </dd>"
   ]
  },
  {
   "cell_type": "markdown",
   "id": "5cd2a754",
   "metadata": {
    "papermill": {
     "duration": 0.053146,
     "end_time": "2022-09-26T13:11:08.399953",
     "exception": false,
     "start_time": "2022-09-26T13:11:08.346807",
     "status": "completed"
    },
    "tags": []
   },
   "source": [
    "##### Creating a Pandas DataFrame\n",
    "\n"
   ]
  },
  {
   "cell_type": "code",
   "execution_count": 61,
   "id": "0db2311c",
   "metadata": {
    "execution": {
     "iopub.execute_input": "2022-09-26T13:11:08.508231Z",
     "iopub.status.busy": "2022-09-26T13:11:08.507871Z",
     "iopub.status.idle": "2022-09-26T13:11:08.513919Z",
     "shell.execute_reply": "2022-09-26T13:11:08.512954Z"
    },
    "papermill": {
     "duration": 0.063154,
     "end_time": "2022-09-26T13:11:08.516654",
     "exception": false,
     "start_time": "2022-09-26T13:11:08.453500",
     "status": "completed"
    },
    "tags": []
   },
   "outputs": [
    {
     "name": "stdout",
     "output_type": "stream",
     "text": [
      "Empty DataFrame\n",
      "Columns: []\n",
      "Index: []\n"
     ]
    }
   ],
   "source": [
    "# Creating Empty DataFrame:\n",
    "empty_df=pd.DataFrame()\n",
    "print(empty_df) #No data "
   ]
  },
  {
   "cell_type": "code",
   "execution_count": 62,
   "id": "35597dbc",
   "metadata": {
    "execution": {
     "iopub.execute_input": "2022-09-26T13:11:08.627141Z",
     "iopub.status.busy": "2022-09-26T13:11:08.626114Z",
     "iopub.status.idle": "2022-09-26T13:11:08.634438Z",
     "shell.execute_reply": "2022-09-26T13:11:08.633248Z"
    },
    "papermill": {
     "duration": 0.067147,
     "end_time": "2022-09-26T13:11:08.636979",
     "exception": false,
     "start_time": "2022-09-26T13:11:08.569832",
     "status": "completed"
    },
    "tags": []
   },
   "outputs": [
    {
     "name": "stdout",
     "output_type": "stream",
     "text": [
      "We can Print by Using print():\n",
      "           0\n",
      "0     Bhawan\n",
      "1      Singh\n",
      "2    Solanki\n",
      "3   Learning\n",
      "4     Pandas\n",
      "5  DataFrame\n"
     ]
    }
   ],
   "source": [
    "# Creating by giving list:\n",
    "lst=[\"Bhawan\",\"Singh\",\"Solanki\",\"Learning\",\"Pandas\",\"DataFrame\"]\n",
    "df=pd.DataFrame(lst)\n",
    "print(\"We can Print by Using print():\")\n",
    "print(df)"
   ]
  },
  {
   "cell_type": "code",
   "execution_count": 63,
   "id": "4155e454",
   "metadata": {
    "execution": {
     "iopub.execute_input": "2022-09-26T13:11:08.748708Z",
     "iopub.status.busy": "2022-09-26T13:11:08.748324Z",
     "iopub.status.idle": "2022-09-26T13:11:08.757895Z",
     "shell.execute_reply": "2022-09-26T13:11:08.756271Z"
    },
    "papermill": {
     "duration": 0.070205,
     "end_time": "2022-09-26T13:11:08.760902",
     "exception": false,
     "start_time": "2022-09-26T13:11:08.690697",
     "status": "completed"
    },
    "tags": []
   },
   "outputs": [
    {
     "name": "stdout",
     "output_type": "stream",
     "text": [
      "We can direct like below:\n"
     ]
    },
    {
     "data": {
      "text/html": [
       "<div>\n",
       "<style scoped>\n",
       "    .dataframe tbody tr th:only-of-type {\n",
       "        vertical-align: middle;\n",
       "    }\n",
       "\n",
       "    .dataframe tbody tr th {\n",
       "        vertical-align: top;\n",
       "    }\n",
       "\n",
       "    .dataframe thead th {\n",
       "        text-align: right;\n",
       "    }\n",
       "</style>\n",
       "<table border=\"1\" class=\"dataframe\">\n",
       "  <thead>\n",
       "    <tr style=\"text-align: right;\">\n",
       "      <th></th>\n",
       "      <th>0</th>\n",
       "    </tr>\n",
       "  </thead>\n",
       "  <tbody>\n",
       "    <tr>\n",
       "      <th>0</th>\n",
       "      <td>Bhawan</td>\n",
       "    </tr>\n",
       "    <tr>\n",
       "      <th>1</th>\n",
       "      <td>Singh</td>\n",
       "    </tr>\n",
       "    <tr>\n",
       "      <th>2</th>\n",
       "      <td>Solanki</td>\n",
       "    </tr>\n",
       "    <tr>\n",
       "      <th>3</th>\n",
       "      <td>Learning</td>\n",
       "    </tr>\n",
       "    <tr>\n",
       "      <th>4</th>\n",
       "      <td>Pandas</td>\n",
       "    </tr>\n",
       "    <tr>\n",
       "      <th>5</th>\n",
       "      <td>DataFrame</td>\n",
       "    </tr>\n",
       "  </tbody>\n",
       "</table>\n",
       "</div>"
      ],
      "text/plain": [
       "           0\n",
       "0     Bhawan\n",
       "1      Singh\n",
       "2    Solanki\n",
       "3   Learning\n",
       "4     Pandas\n",
       "5  DataFrame"
      ]
     },
     "execution_count": 63,
     "metadata": {},
     "output_type": "execute_result"
    }
   ],
   "source": [
    "print(\"We can direct like below:\")\n",
    "df"
   ]
  },
  {
   "cell_type": "code",
   "execution_count": 64,
   "id": "906c155e",
   "metadata": {
    "execution": {
     "iopub.execute_input": "2022-09-26T13:11:08.874712Z",
     "iopub.status.busy": "2022-09-26T13:11:08.874377Z",
     "iopub.status.idle": "2022-09-26T13:11:08.886109Z",
     "shell.execute_reply": "2022-09-26T13:11:08.884728Z"
    },
    "papermill": {
     "duration": 0.070309,
     "end_time": "2022-09-26T13:11:08.888570",
     "exception": false,
     "start_time": "2022-09-26T13:11:08.818261",
     "status": "completed"
    },
    "tags": []
   },
   "outputs": [
    {
     "name": "stdout",
     "output_type": "stream",
     "text": [
      "DataFrame with Multiple column:\n"
     ]
    },
    {
     "data": {
      "text/html": [
       "<div>\n",
       "<style scoped>\n",
       "    .dataframe tbody tr th:only-of-type {\n",
       "        vertical-align: middle;\n",
       "    }\n",
       "\n",
       "    .dataframe tbody tr th {\n",
       "        vertical-align: top;\n",
       "    }\n",
       "\n",
       "    .dataframe thead th {\n",
       "        text-align: right;\n",
       "    }\n",
       "</style>\n",
       "<table border=\"1\" class=\"dataframe\">\n",
       "  <thead>\n",
       "    <tr style=\"text-align: right;\">\n",
       "      <th></th>\n",
       "      <th>0</th>\n",
       "      <th>1</th>\n",
       "      <th>2</th>\n",
       "    </tr>\n",
       "  </thead>\n",
       "  <tbody>\n",
       "    <tr>\n",
       "      <th>0</th>\n",
       "      <td>1</td>\n",
       "      <td>2</td>\n",
       "      <td>3</td>\n",
       "    </tr>\n",
       "    <tr>\n",
       "      <th>1</th>\n",
       "      <td>4</td>\n",
       "      <td>5</td>\n",
       "      <td>6</td>\n",
       "    </tr>\n",
       "    <tr>\n",
       "      <th>2</th>\n",
       "      <td>7</td>\n",
       "      <td>8</td>\n",
       "      <td>9</td>\n",
       "    </tr>\n",
       "  </tbody>\n",
       "</table>\n",
       "</div>"
      ],
      "text/plain": [
       "   0  1  2\n",
       "0  1  2  3\n",
       "1  4  5  6\n",
       "2  7  8  9"
      ]
     },
     "execution_count": 64,
     "metadata": {},
     "output_type": "execute_result"
    }
   ],
   "source": [
    "#list with multiple columnn\n",
    "lst=[[1,2,3],[4,5,6],[7,8,9]]\n",
    "df1=pd.DataFrame(lst)\n",
    "print(\"DataFrame with Multiple column:\")\n",
    "df1"
   ]
  },
  {
   "cell_type": "code",
   "execution_count": 65,
   "id": "32a0b248",
   "metadata": {
    "execution": {
     "iopub.execute_input": "2022-09-26T13:11:08.998905Z",
     "iopub.status.busy": "2022-09-26T13:11:08.998383Z",
     "iopub.status.idle": "2022-09-26T13:11:09.011371Z",
     "shell.execute_reply": "2022-09-26T13:11:09.010180Z"
    },
    "papermill": {
     "duration": 0.07041,
     "end_time": "2022-09-26T13:11:09.013893",
     "exception": false,
     "start_time": "2022-09-26T13:11:08.943483",
     "status": "completed"
    },
    "tags": []
   },
   "outputs": [
    {
     "name": "stdout",
     "output_type": "stream",
     "text": [
      "DataFrame with Multiple column:\n"
     ]
    },
    {
     "data": {
      "text/html": [
       "<div>\n",
       "<style scoped>\n",
       "    .dataframe tbody tr th:only-of-type {\n",
       "        vertical-align: middle;\n",
       "    }\n",
       "\n",
       "    .dataframe tbody tr th {\n",
       "        vertical-align: top;\n",
       "    }\n",
       "\n",
       "    .dataframe thead th {\n",
       "        text-align: right;\n",
       "    }\n",
       "</style>\n",
       "<table border=\"1\" class=\"dataframe\">\n",
       "  <thead>\n",
       "    <tr style=\"text-align: right;\">\n",
       "      <th></th>\n",
       "      <th>0</th>\n",
       "      <th>1</th>\n",
       "      <th>2</th>\n",
       "      <th>3</th>\n",
       "    </tr>\n",
       "  </thead>\n",
       "  <tbody>\n",
       "    <tr>\n",
       "      <th>0</th>\n",
       "      <td>1</td>\n",
       "      <td>2</td>\n",
       "      <td>3</td>\n",
       "      <td>NaN</td>\n",
       "    </tr>\n",
       "    <tr>\n",
       "      <th>1</th>\n",
       "      <td>4</td>\n",
       "      <td>5</td>\n",
       "      <td>6</td>\n",
       "      <td>NaN</td>\n",
       "    </tr>\n",
       "    <tr>\n",
       "      <th>2</th>\n",
       "      <td>7</td>\n",
       "      <td>8</td>\n",
       "      <td>9</td>\n",
       "      <td>NaN</td>\n",
       "    </tr>\n",
       "    <tr>\n",
       "      <th>3</th>\n",
       "      <td>1</td>\n",
       "      <td>2</td>\n",
       "      <td>3</td>\n",
       "      <td>4.0</td>\n",
       "    </tr>\n",
       "  </tbody>\n",
       "</table>\n",
       "</div>"
      ],
      "text/plain": [
       "   0  1  2    3\n",
       "0  1  2  3  NaN\n",
       "1  4  5  6  NaN\n",
       "2  7  8  9  NaN\n",
       "3  1  2  3  4.0"
      ]
     },
     "execution_count": 65,
     "metadata": {},
     "output_type": "execute_result"
    }
   ],
   "source": [
    "#list with multiple columnn\n",
    "lst=[[1,2,3],[4,5,6],[7,8,9],[1,2,3,4]]\n",
    "df1=pd.DataFrame(lst)\n",
    "print(\"DataFrame with Multiple column:\")\n",
    "df1"
   ]
  },
  {
   "cell_type": "code",
   "execution_count": 66,
   "id": "e78c8aef",
   "metadata": {
    "execution": {
     "iopub.execute_input": "2022-09-26T13:11:09.124854Z",
     "iopub.status.busy": "2022-09-26T13:11:09.124019Z",
     "iopub.status.idle": "2022-09-26T13:11:09.137043Z",
     "shell.execute_reply": "2022-09-26T13:11:09.136018Z"
    },
    "papermill": {
     "duration": 0.070236,
     "end_time": "2022-09-26T13:11:09.139008",
     "exception": false,
     "start_time": "2022-09-26T13:11:09.068772",
     "status": "completed"
    },
    "tags": []
   },
   "outputs": [
    {
     "name": "stdout",
     "output_type": "stream",
     "text": [
      "DataFrame with Dictionalry:\n"
     ]
    },
    {
     "data": {
      "text/html": [
       "<div>\n",
       "<style scoped>\n",
       "    .dataframe tbody tr th:only-of-type {\n",
       "        vertical-align: middle;\n",
       "    }\n",
       "\n",
       "    .dataframe tbody tr th {\n",
       "        vertical-align: top;\n",
       "    }\n",
       "\n",
       "    .dataframe thead th {\n",
       "        text-align: right;\n",
       "    }\n",
       "</style>\n",
       "<table border=\"1\" class=\"dataframe\">\n",
       "  <thead>\n",
       "    <tr style=\"text-align: right;\">\n",
       "      <th></th>\n",
       "      <th>Test</th>\n",
       "      <th>Odi</th>\n",
       "      <th>T-20</th>\n",
       "    </tr>\n",
       "  </thead>\n",
       "  <tbody>\n",
       "    <tr>\n",
       "      <th>0</th>\n",
       "      <td>India</td>\n",
       "      <td>England</td>\n",
       "      <td>Pakistan</td>\n",
       "    </tr>\n",
       "    <tr>\n",
       "      <th>1</th>\n",
       "      <td>South Africa</td>\n",
       "      <td>India</td>\n",
       "      <td>India</td>\n",
       "    </tr>\n",
       "    <tr>\n",
       "      <th>2</th>\n",
       "      <td>England</td>\n",
       "      <td>New Zealand</td>\n",
       "      <td>Australia</td>\n",
       "    </tr>\n",
       "    <tr>\n",
       "      <th>3</th>\n",
       "      <td>New Zealand</td>\n",
       "      <td>South Africa</td>\n",
       "      <td>England</td>\n",
       "    </tr>\n",
       "    <tr>\n",
       "      <th>4</th>\n",
       "      <td>Australia</td>\n",
       "      <td>Pakistan</td>\n",
       "      <td>New Zealand</td>\n",
       "    </tr>\n",
       "  </tbody>\n",
       "</table>\n",
       "</div>"
      ],
      "text/plain": [
       "           Test           Odi         T-20\n",
       "0         India       England     Pakistan\n",
       "1  South Africa         India        India\n",
       "2       England   New Zealand    Australia\n",
       "3   New Zealand  South Africa      England\n",
       "4     Australia      Pakistan  New Zealand"
      ]
     },
     "execution_count": 66,
     "metadata": {},
     "output_type": "execute_result"
    }
   ],
   "source": [
    "#Creating DataFrame from dict of ndarray/lists:\n",
    "dic={'Test': ['India', 'South Africa', 'England',\n",
    "                            'New Zealand', 'Australia'],\n",
    "              'Odi': ['England', 'India', 'New Zealand',\n",
    "                            'South Africa', 'Pakistan'],\n",
    "               'T-20': ['Pakistan', 'India', 'Australia', \n",
    "                              'England', 'New Zealand']}\n",
    "print(\"DataFrame with Dictionalry:\")\n",
    "df2=pd.DataFrame(dic)\n",
    "df2"
   ]
  },
  {
   "cell_type": "code",
   "execution_count": 67,
   "id": "c5f1666e",
   "metadata": {
    "execution": {
     "iopub.execute_input": "2022-09-26T13:11:09.249074Z",
     "iopub.status.busy": "2022-09-26T13:11:09.248741Z",
     "iopub.status.idle": "2022-09-26T13:11:09.259449Z",
     "shell.execute_reply": "2022-09-26T13:11:09.258585Z"
    },
    "papermill": {
     "duration": 0.068212,
     "end_time": "2022-09-26T13:11:09.261442",
     "exception": false,
     "start_time": "2022-09-26T13:11:09.193230",
     "status": "completed"
    },
    "tags": []
   },
   "outputs": [
    {
     "data": {
      "text/html": [
       "<div>\n",
       "<style scoped>\n",
       "    .dataframe tbody tr th:only-of-type {\n",
       "        vertical-align: middle;\n",
       "    }\n",
       "\n",
       "    .dataframe tbody tr th {\n",
       "        vertical-align: top;\n",
       "    }\n",
       "\n",
       "    .dataframe thead th {\n",
       "        text-align: right;\n",
       "    }\n",
       "</style>\n",
       "<table border=\"1\" class=\"dataframe\">\n",
       "  <thead>\n",
       "    <tr style=\"text-align: right;\">\n",
       "      <th></th>\n",
       "      <th>Test</th>\n",
       "      <th>Odi</th>\n",
       "      <th>T-20</th>\n",
       "    </tr>\n",
       "  </thead>\n",
       "  <tbody>\n",
       "    <tr>\n",
       "      <th>1</th>\n",
       "      <td>India</td>\n",
       "      <td>England</td>\n",
       "      <td>Pakistan</td>\n",
       "    </tr>\n",
       "    <tr>\n",
       "      <th>2</th>\n",
       "      <td>South Africa</td>\n",
       "      <td>India</td>\n",
       "      <td>India</td>\n",
       "    </tr>\n",
       "    <tr>\n",
       "      <th>3</th>\n",
       "      <td>England</td>\n",
       "      <td>New Zealand</td>\n",
       "      <td>Australia</td>\n",
       "    </tr>\n",
       "    <tr>\n",
       "      <th>4</th>\n",
       "      <td>New Zealand</td>\n",
       "      <td>South Africa</td>\n",
       "      <td>England</td>\n",
       "    </tr>\n",
       "    <tr>\n",
       "      <th>5</th>\n",
       "      <td>Australia</td>\n",
       "      <td>Pakistan</td>\n",
       "      <td>New Zealand</td>\n",
       "    </tr>\n",
       "  </tbody>\n",
       "</table>\n",
       "</div>"
      ],
      "text/plain": [
       "           Test           Odi         T-20\n",
       "1         India       England     Pakistan\n",
       "2  South Africa         India        India\n",
       "3       England   New Zealand    Australia\n",
       "4   New Zealand  South Africa      England\n",
       "5     Australia      Pakistan  New Zealand"
      ]
     },
     "execution_count": 67,
     "metadata": {},
     "output_type": "execute_result"
    }
   ],
   "source": [
    "# Incrementing the index so that index starts at 1 (starts at 0 by default) \n",
    "df2.index += 1\n",
    "df2"
   ]
  },
  {
   "cell_type": "code",
   "execution_count": 68,
   "id": "5dc7f4d6",
   "metadata": {
    "execution": {
     "iopub.execute_input": "2022-09-26T13:11:09.373102Z",
     "iopub.status.busy": "2022-09-26T13:11:09.371421Z",
     "iopub.status.idle": "2022-09-26T13:11:09.384382Z",
     "shell.execute_reply": "2022-09-26T13:11:09.383440Z"
    },
    "papermill": {
     "duration": 0.070937,
     "end_time": "2022-09-26T13:11:09.386541",
     "exception": false,
     "start_time": "2022-09-26T13:11:09.315604",
     "status": "completed"
    },
    "tags": []
   },
   "outputs": [
    {
     "data": {
      "text/html": [
       "<div>\n",
       "<style scoped>\n",
       "    .dataframe tbody tr th:only-of-type {\n",
       "        vertical-align: middle;\n",
       "    }\n",
       "\n",
       "    .dataframe tbody tr th {\n",
       "        vertical-align: top;\n",
       "    }\n",
       "\n",
       "    .dataframe thead th {\n",
       "        text-align: right;\n",
       "    }\n",
       "</style>\n",
       "<table border=\"1\" class=\"dataframe\">\n",
       "  <thead>\n",
       "    <tr style=\"text-align: right;\">\n",
       "      <th></th>\n",
       "      <th>Test</th>\n",
       "      <th>ODI</th>\n",
       "      <th>T20</th>\n",
       "    </tr>\n",
       "  </thead>\n",
       "  <tbody>\n",
       "    <tr>\n",
       "      <th>1</th>\n",
       "      <td>Virat Kohli</td>\n",
       "      <td>Virat Kohli</td>\n",
       "      <td>Babar Azam</td>\n",
       "    </tr>\n",
       "    <tr>\n",
       "      <th>2</th>\n",
       "      <td>Steve Smith</td>\n",
       "      <td>Rohit Sharma</td>\n",
       "      <td>Aaron Finch</td>\n",
       "    </tr>\n",
       "    <tr>\n",
       "      <th>3</th>\n",
       "      <td>Kane Williamson</td>\n",
       "      <td>Joe Root</td>\n",
       "      <td>Colin Munro</td>\n",
       "    </tr>\n",
       "    <tr>\n",
       "      <th>4</th>\n",
       "      <td>Joe Root</td>\n",
       "      <td>David Warner</td>\n",
       "      <td>Lokesh Rahul</td>\n",
       "    </tr>\n",
       "    <tr>\n",
       "      <th>5</th>\n",
       "      <td>David Warner</td>\n",
       "      <td>Babar Azam</td>\n",
       "      <td>Fakhar Zaman</td>\n",
       "    </tr>\n",
       "  </tbody>\n",
       "</table>\n",
       "</div>"
      ],
      "text/plain": [
       "              Test           ODI           T20\n",
       "1      Virat Kohli   Virat Kohli    Babar Azam\n",
       "2      Steve Smith  Rohit Sharma   Aaron Finch\n",
       "3  Kane Williamson      Joe Root   Colin Munro\n",
       "4         Joe Root  David Warner  Lokesh Rahul\n",
       "5     David Warner    Babar Azam  Fakhar Zaman"
      ]
     },
     "execution_count": 68,
     "metadata": {},
     "output_type": "execute_result"
    }
   ],
   "source": [
    "# Lists of top 5 batsmen for each format\n",
    "test_batsmen = ['Virat Kohli', 'Steve Smith', 'Kane Williamson',\n",
    "                                     'Joe Root', 'David Warner']\n",
    "odi_batsmen = ['Virat Kohli', 'Rohit Sharma', 'Joe Root',\n",
    "                            'David Warner', 'Babar Azam']\n",
    "t20_batsmen = ['Babar Azam', 'Aaron Finch', 'Colin Munro',\n",
    "                           'Lokesh Rahul', 'Fakhar Zaman']\n",
    "\n",
    "# Define a dictionary containing ICC rankings for batsmen\n",
    "dic={'Test':test_batsmen,\n",
    "    'ODI':odi_batsmen,\n",
    "    'T20':t20_batsmen}\n",
    "\n",
    "# Convert the dictionary into DataFrame\n",
    "df2=pd.DataFrame(dic)\n",
    "df2.index+=1\n",
    "df2"
   ]
  },
  {
   "cell_type": "markdown",
   "id": "a7240f73",
   "metadata": {
    "papermill": {
     "duration": 0.054259,
     "end_time": "2022-09-26T13:11:09.495644",
     "exception": false,
     "start_time": "2022-09-26T13:11:09.441385",
     "status": "completed"
    },
    "tags": []
   },
   "source": [
    "``` python\n",
    "dic={\"ID\":[1,2,3,4,5],\"Name\":[\"Bhawan\",\"Deena\",\"Bhavi\"]}\n",
    "df2=pd.DataFrame(dic)\n",
    "\n",
    "---------------------------------------------------------------------------\n",
    "ValueError                                Traceback (most recent call last)\n",
    "/tmp/ipykernel_17/3048458879.py in <module>\n",
    "      1 dic={\"ID\":[1,2,3,4,5],\"Name\":[\"Bhawan\",\"Deena\",\"Bhavi\"]}\n",
    "----> 2 df2=pd.DataFrame(dic)\n",
    "\n",
    "/opt/conda/lib/python3.7/site-packages/pandas/core/frame.py in __init__(self, data, index, columns, dtype, copy)\n",
    "    612         elif isinstance(data, dict):\n",
    "    613             # GH#38939 de facto copy defaults to False only in non-dict cases\n",
    "--> 614             mgr = dict_to_mgr(data, index, columns, dtype=dtype, copy=copy, typ=manager)\n",
    "    615         elif isinstance(data, ma.MaskedArray):\n",
    "    616             import numpy.ma.mrecords as mrecords\n",
    "\n",
    "/opt/conda/lib/python3.7/site-packages/pandas/core/internals/construction.py in dict_to_mgr(data, index, columns, dtype, typ, copy)\n",
    "    463 \n",
    "    464     return arrays_to_mgr(\n",
    "--> 465         arrays, data_names, index, columns, dtype=dtype, typ=typ, consolidate=copy\n",
    "    466     )\n",
    "    467 \n",
    "\n",
    "/opt/conda/lib/python3.7/site-packages/pandas/core/internals/construction.py in arrays_to_mgr(arrays, arr_names, index, columns, dtype, verify_integrity, typ, consolidate)\n",
    "    117         # figure out the index, if necessary\n",
    "    118         if index is None:\n",
    "--> 119             index = _extract_index(arrays)\n",
    "    120         else:\n",
    "    121             index = ensure_index(index)\n",
    "\n",
    "/opt/conda/lib/python3.7/site-packages/pandas/core/internals/construction.py in _extract_index(data)\n",
    "    633             lengths = list(set(raw_lengths))\n",
    "    634             if len(lengths) > 1:\n",
    "--> 635                 raise ValueError(\"All arrays must be of the same length\")\n",
    "    636 \n",
    "    637             if have_dicts:\n",
    "\n",
    "ValueError: All arrays must be of the same length\n",
    "```"
   ]
  },
  {
   "cell_type": "code",
   "execution_count": 69,
   "id": "7bb45195",
   "metadata": {
    "execution": {
     "iopub.execute_input": "2022-09-26T13:11:09.637143Z",
     "iopub.status.busy": "2022-09-26T13:11:09.636721Z",
     "iopub.status.idle": "2022-09-26T13:11:09.656882Z",
     "shell.execute_reply": "2022-09-26T13:11:09.655602Z"
    },
    "papermill": {
     "duration": 0.110082,
     "end_time": "2022-09-26T13:11:09.659763",
     "exception": false,
     "start_time": "2022-09-26T13:11:09.549681",
     "status": "completed"
    },
    "tags": []
   },
   "outputs": [
    {
     "data": {
      "text/html": [
       "<div>\n",
       "<style scoped>\n",
       "    .dataframe tbody tr th:only-of-type {\n",
       "        vertical-align: middle;\n",
       "    }\n",
       "\n",
       "    .dataframe tbody tr th {\n",
       "        vertical-align: top;\n",
       "    }\n",
       "\n",
       "    .dataframe thead th {\n",
       "        text-align: right;\n",
       "    }\n",
       "</style>\n",
       "<table border=\"1\" class=\"dataframe\">\n",
       "  <thead>\n",
       "    <tr style=\"text-align: right;\">\n",
       "      <th></th>\n",
       "      <th>ID</th>\n",
       "      <th>Name</th>\n",
       "    </tr>\n",
       "  </thead>\n",
       "  <tbody>\n",
       "    <tr>\n",
       "      <th>0</th>\n",
       "      <td>1</td>\n",
       "      <td>Bhawan</td>\n",
       "    </tr>\n",
       "    <tr>\n",
       "      <th>1</th>\n",
       "      <td>2</td>\n",
       "      <td>Deena</td>\n",
       "    </tr>\n",
       "    <tr>\n",
       "      <th>2</th>\n",
       "      <td>3</td>\n",
       "      <td>Bhavi</td>\n",
       "    </tr>\n",
       "    <tr>\n",
       "      <th>3</th>\n",
       "      <td>4</td>\n",
       "      <td>Gaurav</td>\n",
       "    </tr>\n",
       "    <tr>\n",
       "      <th>4</th>\n",
       "      <td>5</td>\n",
       "      <td>Birag</td>\n",
       "    </tr>\n",
       "  </tbody>\n",
       "</table>\n",
       "</div>"
      ],
      "text/plain": [
       "   ID    Name\n",
       "0   1  Bhawan\n",
       "1   2   Deena\n",
       "2   3   Bhavi\n",
       "3   4  Gaurav\n",
       "4   5   Birag"
      ]
     },
     "execution_count": 69,
     "metadata": {},
     "output_type": "execute_result"
    }
   ],
   "source": [
    "dic={\"ID\":[1,2,3,4,5],\"Name\":[\"Bhawan\",\"Deena\",\"Bhavi\",\"Gaurav\",\"Birag\"]}\n",
    "df2=pd.DataFrame(dic)\n",
    "df2"
   ]
  },
  {
   "cell_type": "code",
   "execution_count": 70,
   "id": "a02b642c",
   "metadata": {
    "execution": {
     "iopub.execute_input": "2022-09-26T13:11:09.853799Z",
     "iopub.status.busy": "2022-09-26T13:11:09.853364Z",
     "iopub.status.idle": "2022-09-26T13:11:09.869742Z",
     "shell.execute_reply": "2022-09-26T13:11:09.868863Z"
    },
    "papermill": {
     "duration": 0.109243,
     "end_time": "2022-09-26T13:11:09.872345",
     "exception": false,
     "start_time": "2022-09-26T13:11:09.763102",
     "status": "completed"
    },
    "tags": []
   },
   "outputs": [
    {
     "data": {
      "text/html": [
       "<div>\n",
       "<style scoped>\n",
       "    .dataframe tbody tr th:only-of-type {\n",
       "        vertical-align: middle;\n",
       "    }\n",
       "\n",
       "    .dataframe tbody tr th {\n",
       "        vertical-align: top;\n",
       "    }\n",
       "\n",
       "    .dataframe thead th {\n",
       "        text-align: right;\n",
       "    }\n",
       "</style>\n",
       "<table border=\"1\" class=\"dataframe\">\n",
       "  <thead>\n",
       "    <tr style=\"text-align: right;\">\n",
       "      <th></th>\n",
       "      <th>a</th>\n",
       "      <th>b</th>\n",
       "      <th>c</th>\n",
       "    </tr>\n",
       "  </thead>\n",
       "  <tbody>\n",
       "    <tr>\n",
       "      <th>0</th>\n",
       "      <td>1</td>\n",
       "      <td>2</td>\n",
       "      <td>NaN</td>\n",
       "    </tr>\n",
       "    <tr>\n",
       "      <th>1</th>\n",
       "      <td>3</td>\n",
       "      <td>4</td>\n",
       "      <td>Bhawan</td>\n",
       "    </tr>\n",
       "  </tbody>\n",
       "</table>\n",
       "</div>"
      ],
      "text/plain": [
       "   a  b       c\n",
       "0  1  2     NaN\n",
       "1  3  4  Bhawan"
      ]
     },
     "execution_count": 70,
     "metadata": {},
     "output_type": "execute_result"
    }
   ],
   "source": [
    "# Creating with help of list of Dictionary:\n",
    "ls_dict = [{'a':1, 'b':2}, {'a':3, 'b':4,'c':\"Bhawan\"}]\n",
    "df2=pd.DataFrame(ls_dict)\n",
    "df2"
   ]
  },
  {
   "cell_type": "code",
   "execution_count": 71,
   "id": "05e32bda",
   "metadata": {
    "execution": {
     "iopub.execute_input": "2022-09-26T13:11:10.052228Z",
     "iopub.status.busy": "2022-09-26T13:11:10.051869Z",
     "iopub.status.idle": "2022-09-26T13:11:10.076183Z",
     "shell.execute_reply": "2022-09-26T13:11:10.075396Z"
    },
    "papermill": {
     "duration": 0.11511,
     "end_time": "2022-09-26T13:11:10.078628",
     "exception": false,
     "start_time": "2022-09-26T13:11:09.963518",
     "status": "completed"
    },
    "tags": []
   },
   "outputs": [
    {
     "data": {
      "text/html": [
       "<div>\n",
       "<style scoped>\n",
       "    .dataframe tbody tr th:only-of-type {\n",
       "        vertical-align: middle;\n",
       "    }\n",
       "\n",
       "    .dataframe tbody tr th {\n",
       "        vertical-align: top;\n",
       "    }\n",
       "\n",
       "    .dataframe thead th {\n",
       "        text-align: right;\n",
       "    }\n",
       "</style>\n",
       "<table border=\"1\" class=\"dataframe\">\n",
       "  <thead>\n",
       "    <tr style=\"text-align: right;\">\n",
       "      <th></th>\n",
       "      <th>List1</th>\n",
       "      <th>DATA</th>\n",
       "      <th>List2</th>\n",
       "      <th>data</th>\n",
       "    </tr>\n",
       "  </thead>\n",
       "  <tbody>\n",
       "    <tr>\n",
       "      <th>0</th>\n",
       "      <td>[1, 2, 3, 4]</td>\n",
       "      <td>[Bhawan, Bhavi]</td>\n",
       "      <td>NaN</td>\n",
       "      <td>NaN</td>\n",
       "    </tr>\n",
       "    <tr>\n",
       "      <th>1</th>\n",
       "      <td>NaN</td>\n",
       "      <td>NaN</td>\n",
       "      <td>[list second, Second]</td>\n",
       "      <td>this is Data of list 2</td>\n",
       "    </tr>\n",
       "  </tbody>\n",
       "</table>\n",
       "</div>"
      ],
      "text/plain": [
       "          List1             DATA                  List2  \\\n",
       "0  [1, 2, 3, 4]  [Bhawan, Bhavi]                    NaN   \n",
       "1           NaN              NaN  [list second, Second]   \n",
       "\n",
       "                     data  \n",
       "0                     NaN  \n",
       "1  this is Data of list 2  "
      ]
     },
     "execution_count": 71,
     "metadata": {},
     "output_type": "execute_result"
    }
   ],
   "source": [
    "lst=[{\"List1\":[1,2,3,4],\"DATA\":[\"Bhawan\",\"Bhavi\"]},{\"List2\":[\"list second\",\"Second\"],\"data\":\"this is Data of list 2\"}]\n",
    "df2=pd.DataFrame(lst)\n",
    "df2"
   ]
  },
  {
   "cell_type": "markdown",
   "id": "d37c9242",
   "metadata": {
    "papermill": {
     "duration": 0.05513,
     "end_time": "2022-09-26T13:11:10.226473",
     "exception": false,
     "start_time": "2022-09-26T13:11:10.171343",
     "status": "completed"
    },
    "tags": []
   },
   "source": [
    "### Accessing Element from DataFrame :"
   ]
  },
  {
   "cell_type": "code",
   "execution_count": 72,
   "id": "723417f1",
   "metadata": {
    "execution": {
     "iopub.execute_input": "2022-09-26T13:11:10.337851Z",
     "iopub.status.busy": "2022-09-26T13:11:10.337467Z",
     "iopub.status.idle": "2022-09-26T13:11:10.350123Z",
     "shell.execute_reply": "2022-09-26T13:11:10.349179Z"
    },
    "papermill": {
     "duration": 0.070686,
     "end_time": "2022-09-26T13:11:10.352106",
     "exception": false,
     "start_time": "2022-09-26T13:11:10.281420",
     "status": "completed"
    },
    "tags": []
   },
   "outputs": [
    {
     "data": {
      "text/html": [
       "<div>\n",
       "<style scoped>\n",
       "    .dataframe tbody tr th:only-of-type {\n",
       "        vertical-align: middle;\n",
       "    }\n",
       "\n",
       "    .dataframe tbody tr th {\n",
       "        vertical-align: top;\n",
       "    }\n",
       "\n",
       "    .dataframe thead th {\n",
       "        text-align: right;\n",
       "    }\n",
       "</style>\n",
       "<table border=\"1\" class=\"dataframe\">\n",
       "  <thead>\n",
       "    <tr style=\"text-align: right;\">\n",
       "      <th></th>\n",
       "      <th>Name</th>\n",
       "      <th>Age</th>\n",
       "      <th>Address</th>\n",
       "      <th>Qualification</th>\n",
       "    </tr>\n",
       "  </thead>\n",
       "  <tbody>\n",
       "    <tr>\n",
       "      <th>0</th>\n",
       "      <td>Jai</td>\n",
       "      <td>27</td>\n",
       "      <td>Delhi</td>\n",
       "      <td>Msc</td>\n",
       "    </tr>\n",
       "    <tr>\n",
       "      <th>1</th>\n",
       "      <td>Princi</td>\n",
       "      <td>24</td>\n",
       "      <td>Kanpur</td>\n",
       "      <td>MA</td>\n",
       "    </tr>\n",
       "    <tr>\n",
       "      <th>2</th>\n",
       "      <td>Gaurav</td>\n",
       "      <td>22</td>\n",
       "      <td>Allahabad</td>\n",
       "      <td>MCA</td>\n",
       "    </tr>\n",
       "    <tr>\n",
       "      <th>3</th>\n",
       "      <td>Anuj</td>\n",
       "      <td>32</td>\n",
       "      <td>Kannauj</td>\n",
       "      <td>Phd</td>\n",
       "    </tr>\n",
       "  </tbody>\n",
       "</table>\n",
       "</div>"
      ],
      "text/plain": [
       "     Name  Age    Address Qualification\n",
       "0     Jai   27      Delhi           Msc\n",
       "1  Princi   24     Kanpur            MA\n",
       "2  Gaurav   22  Allahabad           MCA\n",
       "3    Anuj   32    Kannauj           Phd"
      ]
     },
     "execution_count": 72,
     "metadata": {},
     "output_type": "execute_result"
    }
   ],
   "source": [
    "data = {'Name':['Jai', 'Princi', 'Gaurav', 'Anuj'],\n",
    "        'Age':[27, 24, 22, 32],\n",
    "        'Address':['Delhi', 'Kanpur', 'Allahabad', 'Kannauj'],\n",
    "        'Qualification':['Msc', 'MA', 'MCA', 'Phd']}\n",
    "df=pd.DataFrame(data)\n",
    "df"
   ]
  },
  {
   "cell_type": "code",
   "execution_count": 73,
   "id": "c86a6c9a",
   "metadata": {
    "execution": {
     "iopub.execute_input": "2022-09-26T13:11:10.506572Z",
     "iopub.status.busy": "2022-09-26T13:11:10.505576Z",
     "iopub.status.idle": "2022-09-26T13:11:10.521918Z",
     "shell.execute_reply": "2022-09-26T13:11:10.520936Z"
    },
    "papermill": {
     "duration": 0.07489,
     "end_time": "2022-09-26T13:11:10.524056",
     "exception": false,
     "start_time": "2022-09-26T13:11:10.449166",
     "status": "completed"
    },
    "tags": []
   },
   "outputs": [
    {
     "data": {
      "text/plain": [
       "Team        Utah Jazz\n",
       "Number            8.0\n",
       "Position           PG\n",
       "Age              26.0\n",
       "Height            6-3\n",
       "Weight          203.0\n",
       "College        Butler\n",
       "Salary      2433333.0\n",
       "Name: Shelvin Mack, dtype: object"
      ]
     },
     "execution_count": 73,
     "metadata": {},
     "output_type": "execute_result"
    }
   ],
   "source": [
    "data = pd.read_csv(\"/kaggle/input/nba-data/nba.csv\",index_col=\"Name\")  \n",
    "first = data.loc[\"Shelvin Mack\"]\n",
    "first"
   ]
  },
  {
   "cell_type": "code",
   "execution_count": 74,
   "id": "5a4ed283",
   "metadata": {
    "execution": {
     "iopub.execute_input": "2022-09-26T13:11:10.641713Z",
     "iopub.status.busy": "2022-09-26T13:11:10.640776Z",
     "iopub.status.idle": "2022-09-26T13:11:10.656502Z",
     "shell.execute_reply": "2022-09-26T13:11:10.655413Z"
    },
    "papermill": {
     "duration": 0.076844,
     "end_time": "2022-09-26T13:11:10.658765",
     "exception": false,
     "start_time": "2022-09-26T13:11:10.581921",
     "status": "completed"
    },
    "tags": []
   },
   "outputs": [
    {
     "data": {
      "text/html": [
       "<div>\n",
       "<style scoped>\n",
       "    .dataframe tbody tr th:only-of-type {\n",
       "        vertical-align: middle;\n",
       "    }\n",
       "\n",
       "    .dataframe tbody tr th {\n",
       "        vertical-align: top;\n",
       "    }\n",
       "\n",
       "    .dataframe thead th {\n",
       "        text-align: right;\n",
       "    }\n",
       "</style>\n",
       "<table border=\"1\" class=\"dataframe\">\n",
       "  <thead>\n",
       "    <tr style=\"text-align: right;\">\n",
       "      <th></th>\n",
       "      <th>Team</th>\n",
       "      <th>Number</th>\n",
       "      <th>Position</th>\n",
       "      <th>Age</th>\n",
       "      <th>Height</th>\n",
       "      <th>Weight</th>\n",
       "      <th>College</th>\n",
       "      <th>Salary</th>\n",
       "    </tr>\n",
       "    <tr>\n",
       "      <th>Name</th>\n",
       "      <th></th>\n",
       "      <th></th>\n",
       "      <th></th>\n",
       "      <th></th>\n",
       "      <th></th>\n",
       "      <th></th>\n",
       "      <th></th>\n",
       "      <th></th>\n",
       "    </tr>\n",
       "  </thead>\n",
       "  <tbody>\n",
       "    <tr>\n",
       "      <th>Avery Bradley</th>\n",
       "      <td>Boston Celtics</td>\n",
       "      <td>0.0</td>\n",
       "      <td>PG</td>\n",
       "      <td>25.0</td>\n",
       "      <td>6-2</td>\n",
       "      <td>180.0</td>\n",
       "      <td>Texas</td>\n",
       "      <td>7730337.0</td>\n",
       "    </tr>\n",
       "    <tr>\n",
       "      <th>Jae Crowder</th>\n",
       "      <td>Boston Celtics</td>\n",
       "      <td>99.0</td>\n",
       "      <td>SF</td>\n",
       "      <td>25.0</td>\n",
       "      <td>6-6</td>\n",
       "      <td>235.0</td>\n",
       "      <td>Marquette</td>\n",
       "      <td>6796117.0</td>\n",
       "    </tr>\n",
       "    <tr>\n",
       "      <th>John Holland</th>\n",
       "      <td>Boston Celtics</td>\n",
       "      <td>30.0</td>\n",
       "      <td>SG</td>\n",
       "      <td>27.0</td>\n",
       "      <td>6-5</td>\n",
       "      <td>205.0</td>\n",
       "      <td>Boston University</td>\n",
       "      <td>NaN</td>\n",
       "    </tr>\n",
       "    <tr>\n",
       "      <th>R.J. Hunter</th>\n",
       "      <td>Boston Celtics</td>\n",
       "      <td>28.0</td>\n",
       "      <td>SG</td>\n",
       "      <td>22.0</td>\n",
       "      <td>6-5</td>\n",
       "      <td>185.0</td>\n",
       "      <td>Georgia State</td>\n",
       "      <td>1148640.0</td>\n",
       "    </tr>\n",
       "    <tr>\n",
       "      <th>Jonas Jerebko</th>\n",
       "      <td>Boston Celtics</td>\n",
       "      <td>8.0</td>\n",
       "      <td>PF</td>\n",
       "      <td>29.0</td>\n",
       "      <td>6-10</td>\n",
       "      <td>231.0</td>\n",
       "      <td>NaN</td>\n",
       "      <td>5000000.0</td>\n",
       "    </tr>\n",
       "  </tbody>\n",
       "</table>\n",
       "</div>"
      ],
      "text/plain": [
       "                         Team  Number Position   Age Height  Weight  \\\n",
       "Name                                                                  \n",
       "Avery Bradley  Boston Celtics     0.0       PG  25.0    6-2   180.0   \n",
       "Jae Crowder    Boston Celtics    99.0       SF  25.0    6-6   235.0   \n",
       "John Holland   Boston Celtics    30.0       SG  27.0    6-5   205.0   \n",
       "R.J. Hunter    Boston Celtics    28.0       SG  22.0    6-5   185.0   \n",
       "Jonas Jerebko  Boston Celtics     8.0       PF  29.0   6-10   231.0   \n",
       "\n",
       "                         College     Salary  \n",
       "Name                                         \n",
       "Avery Bradley              Texas  7730337.0  \n",
       "Jae Crowder            Marquette  6796117.0  \n",
       "John Holland   Boston University        NaN  \n",
       "R.J. Hunter        Georgia State  1148640.0  \n",
       "Jonas Jerebko                NaN  5000000.0  "
      ]
     },
     "execution_count": 74,
     "metadata": {},
     "output_type": "execute_result"
    }
   ],
   "source": [
    "df=pd.DataFrame(data)\n",
    "df.head()"
   ]
  },
  {
   "cell_type": "code",
   "execution_count": 75,
   "id": "1229efe9",
   "metadata": {
    "execution": {
     "iopub.execute_input": "2022-09-26T13:11:10.772339Z",
     "iopub.status.busy": "2022-09-26T13:11:10.772026Z",
     "iopub.status.idle": "2022-09-26T13:11:10.779827Z",
     "shell.execute_reply": "2022-09-26T13:11:10.778943Z"
    },
    "papermill": {
     "duration": 0.065927,
     "end_time": "2022-09-26T13:11:10.781905",
     "exception": false,
     "start_time": "2022-09-26T13:11:10.715978",
     "status": "completed"
    },
    "tags": []
   },
   "outputs": [
    {
     "data": {
      "text/plain": [
       "Name\n",
       "Avery Bradley    25.0\n",
       "Jae Crowder      25.0\n",
       "John Holland     27.0\n",
       "R.J. Hunter      22.0\n",
       "Jonas Jerebko    29.0\n",
       "                 ... \n",
       "Shelvin Mack     26.0\n",
       "Raul Neto        24.0\n",
       "Tibor Pleiss     26.0\n",
       "Jeff Withey      26.0\n",
       "NaN               NaN\n",
       "Name: Age, Length: 458, dtype: float64"
      ]
     },
     "execution_count": 75,
     "metadata": {},
     "output_type": "execute_result"
    }
   ],
   "source": [
    "df[\"Age\"]"
   ]
  },
  {
   "cell_type": "markdown",
   "id": "a64a1f0a",
   "metadata": {
    "papermill": {
     "duration": 0.055595,
     "end_time": "2022-09-26T13:11:10.893648",
     "exception": false,
     "start_time": "2022-09-26T13:11:10.838053",
     "status": "completed"
    },
    "tags": []
   },
   "source": [
    "# Indexing and selecting data In DataFrame:\n",
    "- The axis labeling information in pandas objects serves many purposes:\n",
    "\n",
    "    - Identifies data (i.e. provides metadata) using known indicators, important for analysis, visualization, and interactive console display.\n",
    "    - Enables automatic and explicit data alignment.\n",
    "    - Allows intuitive getting and setting of subsets of the data set.\n",
    "\n",
    "## Indexing and selecting data In DataFrame: | Basics:\n",
    "- As mentioned when introducing the data structures in the last section, the primary function of indexing with **[]** (a.k.a. __ **getitem** __ for those familiar with implementing class behavior in Python) is selecting out lower-dimensional slices. The following table shows return type values when indexing pandas objects with **[]:**\n",
    "\n",
    "<table class=\"colwidths-given table\">\n",
    "<colgroup>\n",
    "<col style=\"width: 25%\">\n",
    "<col style=\"width: 25%\">\n",
    "<col style=\"width: 50%\">\n",
    "</colgroup>\n",
    "<thead>\n",
    "<tr class=\"row-odd\"><th class=\"head\"><p>Object Type</p></th>\n",
    "<th class=\"head\"><p>Selection</p></th>\n",
    "<th class=\"head\"><p>Return Value Type</p></th>\n",
    "</tr>\n",
    "</thead>\n",
    "<tbody>\n",
    "<tr class=\"row-even\"><td><p>Series</p></td>\n",
    "<td><p><code class=\"docutils literal notranslate\"><span class=\"pre\">series[label]</span></code></p></td>\n",
    "<td><p>scalar value</p></td>\n",
    "</tr>\n",
    "<tr class=\"row-odd\"><td><p>DataFrame</p></td>\n",
    "<td><p><code class=\"docutils literal notranslate\"><span class=\"pre\">frame[colname]</span></code></p></td>\n",
    "<td><p><code class=\"docutils literal notranslate\"><span class=\"pre\">Series</span></code> corresponding to colname</p></td>\n",
    "</tr>\n",
    "</tbody>\n",
    "</table>"
   ]
  },
  {
   "cell_type": "code",
   "execution_count": 76,
   "id": "3f401406",
   "metadata": {
    "execution": {
     "iopub.execute_input": "2022-09-26T13:11:11.006671Z",
     "iopub.status.busy": "2022-09-26T13:11:11.006309Z",
     "iopub.status.idle": "2022-09-26T13:11:11.024960Z",
     "shell.execute_reply": "2022-09-26T13:11:11.023466Z"
    },
    "papermill": {
     "duration": 0.078202,
     "end_time": "2022-09-26T13:11:11.027573",
     "exception": false,
     "start_time": "2022-09-26T13:11:10.949371",
     "status": "completed"
    },
    "tags": []
   },
   "outputs": [
    {
     "name": "stdout",
     "output_type": "stream",
     "text": [
      "DatetimeIndex(['2000-01-01', '2000-01-02', '2000-01-03', '2000-01-04',\n",
      "               '2000-01-05', '2000-01-06', '2000-01-07', '2000-01-08'],\n",
      "              dtype='datetime64[ns]', freq='D') \n",
      "\n"
     ]
    },
    {
     "data": {
      "text/html": [
       "<div>\n",
       "<style scoped>\n",
       "    .dataframe tbody tr th:only-of-type {\n",
       "        vertical-align: middle;\n",
       "    }\n",
       "\n",
       "    .dataframe tbody tr th {\n",
       "        vertical-align: top;\n",
       "    }\n",
       "\n",
       "    .dataframe thead th {\n",
       "        text-align: right;\n",
       "    }\n",
       "</style>\n",
       "<table border=\"1\" class=\"dataframe\">\n",
       "  <thead>\n",
       "    <tr style=\"text-align: right;\">\n",
       "      <th></th>\n",
       "      <th>A</th>\n",
       "      <th>B</th>\n",
       "      <th>C</th>\n",
       "      <th>D</th>\n",
       "    </tr>\n",
       "  </thead>\n",
       "  <tbody>\n",
       "    <tr>\n",
       "      <th>2000-01-01</th>\n",
       "      <td>-0.693913</td>\n",
       "      <td>0.762382</td>\n",
       "      <td>-1.556214</td>\n",
       "      <td>0.972583</td>\n",
       "    </tr>\n",
       "    <tr>\n",
       "      <th>2000-01-02</th>\n",
       "      <td>0.061439</td>\n",
       "      <td>2.983050</td>\n",
       "      <td>-0.151774</td>\n",
       "      <td>0.972846</td>\n",
       "    </tr>\n",
       "    <tr>\n",
       "      <th>2000-01-03</th>\n",
       "      <td>-0.060725</td>\n",
       "      <td>0.213316</td>\n",
       "      <td>0.361111</td>\n",
       "      <td>0.442083</td>\n",
       "    </tr>\n",
       "    <tr>\n",
       "      <th>2000-01-04</th>\n",
       "      <td>-0.781887</td>\n",
       "      <td>-0.395696</td>\n",
       "      <td>0.498175</td>\n",
       "      <td>0.239725</td>\n",
       "    </tr>\n",
       "    <tr>\n",
       "      <th>2000-01-05</th>\n",
       "      <td>1.296831</td>\n",
       "      <td>0.815954</td>\n",
       "      <td>-1.164301</td>\n",
       "      <td>0.630668</td>\n",
       "    </tr>\n",
       "    <tr>\n",
       "      <th>2000-01-06</th>\n",
       "      <td>-0.685639</td>\n",
       "      <td>0.259600</td>\n",
       "      <td>-2.053700</td>\n",
       "      <td>1.280533</td>\n",
       "    </tr>\n",
       "    <tr>\n",
       "      <th>2000-01-07</th>\n",
       "      <td>-0.202421</td>\n",
       "      <td>0.718932</td>\n",
       "      <td>-0.965612</td>\n",
       "      <td>-1.490796</td>\n",
       "    </tr>\n",
       "    <tr>\n",
       "      <th>2000-01-08</th>\n",
       "      <td>1.082973</td>\n",
       "      <td>-0.616383</td>\n",
       "      <td>-0.676444</td>\n",
       "      <td>-0.038139</td>\n",
       "    </tr>\n",
       "  </tbody>\n",
       "</table>\n",
       "</div>"
      ],
      "text/plain": [
       "                   A         B         C         D\n",
       "2000-01-01 -0.693913  0.762382 -1.556214  0.972583\n",
       "2000-01-02  0.061439  2.983050 -0.151774  0.972846\n",
       "2000-01-03 -0.060725  0.213316  0.361111  0.442083\n",
       "2000-01-04 -0.781887 -0.395696  0.498175  0.239725\n",
       "2000-01-05  1.296831  0.815954 -1.164301  0.630668\n",
       "2000-01-06 -0.685639  0.259600 -2.053700  1.280533\n",
       "2000-01-07 -0.202421  0.718932 -0.965612 -1.490796\n",
       "2000-01-08  1.082973 -0.616383 -0.676444 -0.038139"
      ]
     },
     "execution_count": 76,
     "metadata": {},
     "output_type": "execute_result"
    }
   ],
   "source": [
    "dates = pd.date_range('1/1/2000', periods=8) #Creating Index As Date\n",
    "print(dates,\"\\n\")\n",
    "\n",
    "df = pd.DataFrame(np.random.randn(8, 4),index=dates, columns=['A', 'B', 'C', 'D']) #Creating  DataFrame\n",
    "df"
   ]
  },
  {
   "cell_type": "code",
   "execution_count": 77,
   "id": "0165fa12",
   "metadata": {
    "execution": {
     "iopub.execute_input": "2022-09-26T13:11:11.142047Z",
     "iopub.status.busy": "2022-09-26T13:11:11.141712Z",
     "iopub.status.idle": "2022-09-26T13:11:11.148637Z",
     "shell.execute_reply": "2022-09-26T13:11:11.146997Z"
    },
    "papermill": {
     "duration": 0.065849,
     "end_time": "2022-09-26T13:11:11.150701",
     "exception": false,
     "start_time": "2022-09-26T13:11:11.084852",
     "status": "completed"
    },
    "tags": []
   },
   "outputs": [
    {
     "name": "stdout",
     "output_type": "stream",
     "text": [
      "Value of Dates:\n",
      "\n",
      " DatetimeIndex(['2000-01-01', '2000-01-02', '2000-01-03', '2000-01-04',\n",
      "               '2000-01-05', '2000-01-06', '2000-01-07', '2000-01-08'],\n",
      "              dtype='datetime64[ns]', freq='D')\n",
      "\n",
      "Type of dates:  <class 'pandas.core.indexes.datetimes.DatetimeIndex'>\n"
     ]
    }
   ],
   "source": [
    "print(\"Value of Dates:\\n\\n\",dates)\n",
    "print(\"\\nType of dates: \",type(dates))"
   ]
  },
  {
   "cell_type": "code",
   "execution_count": 78,
   "id": "fec8e9af",
   "metadata": {
    "execution": {
     "iopub.execute_input": "2022-09-26T13:11:11.264523Z",
     "iopub.status.busy": "2022-09-26T13:11:11.263690Z",
     "iopub.status.idle": "2022-09-26T13:11:11.270454Z",
     "shell.execute_reply": "2022-09-26T13:11:11.269051Z"
    },
    "papermill": {
     "duration": 0.066222,
     "end_time": "2022-09-26T13:11:11.272994",
     "exception": false,
     "start_time": "2022-09-26T13:11:11.206772",
     "status": "completed"
    },
    "tags": []
   },
   "outputs": [
    {
     "name": "stdout",
     "output_type": "stream",
     "text": [
      "Value at DataFrame['A'] Series Index 4: 1.2968307418565748\n",
      "Data Type of Value: <class 'numpy.float64'>\n"
     ]
    }
   ],
   "source": [
    "#Indexing data by Series Index(0,1,2,3,4,5,.........like that)\n",
    "\n",
    "s=df[\"A\"]  #Assigning DataFrame Value(A Series) to s.\n",
    "print(\"Value at DataFrame['A'] Series Index 4:\",s[4])\n",
    "print(\"Data Type of Value:\",type(s[4]))"
   ]
  },
  {
   "cell_type": "code",
   "execution_count": 79,
   "id": "926d6e7e",
   "metadata": {
    "execution": {
     "iopub.execute_input": "2022-09-26T13:11:11.387863Z",
     "iopub.status.busy": "2022-09-26T13:11:11.386956Z",
     "iopub.status.idle": "2022-09-26T13:11:11.393830Z",
     "shell.execute_reply": "2022-09-26T13:11:11.392472Z"
    },
    "papermill": {
     "duration": 0.06704,
     "end_time": "2022-09-26T13:11:11.396378",
     "exception": false,
     "start_time": "2022-09-26T13:11:11.329338",
     "status": "completed"
    },
    "tags": []
   },
   "outputs": [
    {
     "name": "stdout",
     "output_type": "stream",
     "text": [
      "Value at dates[4] index: 1.2968307418565748\n",
      "Data Type of Value: <class 'numpy.float64'>\n"
     ]
    }
   ],
   "source": [
    "print(\"Value at dates[4] index:\",s[dates[4]]) #We are direct giving Index\n",
    "print(\"Data Type of Value:\",type(s[dates[5]]))"
   ]
  },
  {
   "cell_type": "code",
   "execution_count": 80,
   "id": "61b335d8",
   "metadata": {
    "execution": {
     "iopub.execute_input": "2022-09-26T13:11:11.510357Z",
     "iopub.status.busy": "2022-09-26T13:11:11.509507Z",
     "iopub.status.idle": "2022-09-26T13:11:11.523465Z",
     "shell.execute_reply": "2022-09-26T13:11:11.521949Z"
    },
    "papermill": {
     "duration": 0.073266,
     "end_time": "2022-09-26T13:11:11.526012",
     "exception": false,
     "start_time": "2022-09-26T13:11:11.452746",
     "status": "completed"
    },
    "tags": []
   },
   "outputs": [
    {
     "name": "stdout",
     "output_type": "stream",
     "text": [
      "Before Changing: \n",
      "                    A         B\n",
      "2000-01-01 -0.693913  0.762382\n",
      "2000-01-02  0.061439  2.983050\n",
      "2000-01-03 -0.060725  0.213316\n",
      "2000-01-04 -0.781887 -0.395696\n",
      "2000-01-05  1.296831  0.815954\n",
      "2000-01-06 -0.685639  0.259600\n",
      "2000-01-07 -0.202421  0.718932\n",
      "2000-01-08  1.082973 -0.616383\n",
      "\n",
      "After Changing:\n",
      "                    A         B\n",
      "2000-01-01  0.762382 -0.693913\n",
      "2000-01-02  2.983050  0.061439\n",
      "2000-01-03  0.213316 -0.060725\n",
      "2000-01-04 -0.395696 -0.781887\n",
      "2000-01-05  0.815954  1.296831\n",
      "2000-01-06  0.259600 -0.685639\n",
      "2000-01-07  0.718932 -0.202421\n",
      "2000-01-08 -0.616383  1.082973\n"
     ]
    }
   ],
   "source": [
    "print(\"Before Changing: \\n\",df[['A','B']])\n",
    "df[['B', 'A']] = df[['A', 'B']]   #Changing Column value \n",
    "print(\"\\nAfter Changing:\\n\",df[['A','B']])"
   ]
  },
  {
   "cell_type": "markdown",
   "id": "063fe911",
   "metadata": {
    "papermill": {
     "duration": 0.057777,
     "end_time": "2022-09-26T13:11:11.655061",
     "exception": false,
     "start_time": "2022-09-26T13:11:11.597284",
     "status": "completed"
    },
    "tags": []
   },
   "source": [
    "> <h2>⚠️Warning</h2>\n",
    "\n",
    "> - **pandas aligns all AXES when setting Series and DataFrame from .loc, and .iloc.**\n",
    "> - **This will not modify df because the column alignment is before value assignment.**"
   ]
  },
  {
   "cell_type": "code",
   "execution_count": 81,
   "id": "34d0aadc",
   "metadata": {
    "execution": {
     "iopub.execute_input": "2022-09-26T13:11:11.768374Z",
     "iopub.status.busy": "2022-09-26T13:11:11.768032Z",
     "iopub.status.idle": "2022-09-26T13:11:11.781718Z",
     "shell.execute_reply": "2022-09-26T13:11:11.780770Z"
    },
    "papermill": {
     "duration": 0.073739,
     "end_time": "2022-09-26T13:11:11.784743",
     "exception": false,
     "start_time": "2022-09-26T13:11:11.711004",
     "status": "completed"
    },
    "tags": []
   },
   "outputs": [
    {
     "name": "stdout",
     "output_type": "stream",
     "text": [
      "Before Changing: \n",
      "                    A         B\n",
      "2000-01-01  0.762382 -0.693913\n",
      "2000-01-02  2.983050  0.061439\n",
      "2000-01-03  0.213316 -0.060725\n",
      "2000-01-04 -0.395696 -0.781887\n",
      "2000-01-05  0.815954  1.296831\n",
      "2000-01-06  0.259600 -0.685639\n",
      "2000-01-07  0.718932 -0.202421\n",
      "2000-01-08 -0.616383  1.082973\n",
      "\n",
      "After Changing:\n",
      "                    A         B\n",
      "2000-01-01  0.762382 -0.693913\n",
      "2000-01-02  2.983050  0.061439\n",
      "2000-01-03  0.213316 -0.060725\n",
      "2000-01-04 -0.395696 -0.781887\n",
      "2000-01-05  0.815954  1.296831\n",
      "2000-01-06  0.259600 -0.685639\n",
      "2000-01-07  0.718932 -0.202421\n",
      "2000-01-08 -0.616383  1.082973\n"
     ]
    }
   ],
   "source": [
    "print(\"Before Changing: \\n\",df[['A','B']])\n",
    "df.loc[:, ['B', 'A']] = df[['A', 'B']]         #Not Changing Value \n",
    "print(\"\\nAfter Changing:\\n\",df[['A','B']])"
   ]
  },
  {
   "cell_type": "code",
   "execution_count": 82,
   "id": "abf1d42c",
   "metadata": {
    "execution": {
     "iopub.execute_input": "2022-09-26T13:11:11.899952Z",
     "iopub.status.busy": "2022-09-26T13:11:11.899595Z",
     "iopub.status.idle": "2022-09-26T13:11:11.910352Z",
     "shell.execute_reply": "2022-09-26T13:11:11.908805Z"
    },
    "papermill": {
     "duration": 0.070376,
     "end_time": "2022-09-26T13:11:11.912678",
     "exception": false,
     "start_time": "2022-09-26T13:11:11.842302",
     "status": "completed"
    },
    "tags": []
   },
   "outputs": [
    {
     "name": "stdout",
     "output_type": "stream",
     "text": [
      "\n",
      "After Changing:\n",
      "                    A         B\n",
      "2000-01-01 -0.693913  0.762382\n",
      "2000-01-02  0.061439  2.983050\n",
      "2000-01-03 -0.060725  0.213316\n",
      "2000-01-04 -0.781887 -0.395696\n",
      "2000-01-05  1.296831  0.815954\n",
      "2000-01-06 -0.685639  0.259600\n",
      "2000-01-07 -0.202421  0.718932\n",
      "2000-01-08  1.082973 -0.616383\n"
     ]
    }
   ],
   "source": [
    "df.loc[:, ['B', 'A']] = df[['A', 'B']].to_numpy()\n",
    "print(\"\\nAfter Changing:\\n\",df[['A','B']])"
   ]
  },
  {
   "cell_type": "markdown",
   "id": "52216b69",
   "metadata": {
    "papermill": {
     "duration": 0.056118,
     "end_time": "2022-09-26T13:11:12.025078",
     "exception": false,
     "start_time": "2022-09-26T13:11:11.968960",
     "status": "completed"
    },
    "tags": []
   },
   "source": [
    "## Indexing and selecting data In DataFrame: | Attribute access:"
   ]
  },
  {
   "cell_type": "code",
   "execution_count": 83,
   "id": "e944fdcf",
   "metadata": {
    "execution": {
     "iopub.execute_input": "2022-09-26T13:11:12.139754Z",
     "iopub.status.busy": "2022-09-26T13:11:12.138832Z",
     "iopub.status.idle": "2022-09-26T13:11:12.147002Z",
     "shell.execute_reply": "2022-09-26T13:11:12.146002Z"
    },
    "papermill": {
     "duration": 0.067402,
     "end_time": "2022-09-26T13:11:12.148951",
     "exception": false,
     "start_time": "2022-09-26T13:11:12.081549",
     "status": "completed"
    },
    "tags": []
   },
   "outputs": [
    {
     "data": {
      "text/plain": [
       "a    1\n",
       "b    2\n",
       "c    3\n",
       "dtype: int64"
      ]
     },
     "execution_count": 83,
     "metadata": {},
     "output_type": "execute_result"
    }
   ],
   "source": [
    "sa = pd.Series([1, 2, 3], index=list('abc'))  # Creating SA Series \n",
    "sa"
   ]
  },
  {
   "cell_type": "code",
   "execution_count": 84,
   "id": "7310b926",
   "metadata": {
    "execution": {
     "iopub.execute_input": "2022-09-26T13:11:12.262366Z",
     "iopub.status.busy": "2022-09-26T13:11:12.261784Z",
     "iopub.status.idle": "2022-09-26T13:11:12.274314Z",
     "shell.execute_reply": "2022-09-26T13:11:12.272890Z"
    },
    "papermill": {
     "duration": 0.071407,
     "end_time": "2022-09-26T13:11:12.276260",
     "exception": false,
     "start_time": "2022-09-26T13:11:12.204853",
     "status": "completed"
    },
    "tags": []
   },
   "outputs": [
    {
     "name": "stdout",
     "output_type": "stream",
     "text": [
      "DataFrame dfa:\n",
      "\n"
     ]
    },
    {
     "data": {
      "text/html": [
       "<div>\n",
       "<style scoped>\n",
       "    .dataframe tbody tr th:only-of-type {\n",
       "        vertical-align: middle;\n",
       "    }\n",
       "\n",
       "    .dataframe tbody tr th {\n",
       "        vertical-align: top;\n",
       "    }\n",
       "\n",
       "    .dataframe thead th {\n",
       "        text-align: right;\n",
       "    }\n",
       "</style>\n",
       "<table border=\"1\" class=\"dataframe\">\n",
       "  <thead>\n",
       "    <tr style=\"text-align: right;\">\n",
       "      <th></th>\n",
       "      <th>A</th>\n",
       "      <th>B</th>\n",
       "      <th>C</th>\n",
       "      <th>D</th>\n",
       "    </tr>\n",
       "  </thead>\n",
       "  <tbody>\n",
       "    <tr>\n",
       "      <th>2000-01-01</th>\n",
       "      <td>-0.693913</td>\n",
       "      <td>0.762382</td>\n",
       "      <td>-1.556214</td>\n",
       "      <td>0.972583</td>\n",
       "    </tr>\n",
       "    <tr>\n",
       "      <th>2000-01-02</th>\n",
       "      <td>0.061439</td>\n",
       "      <td>2.983050</td>\n",
       "      <td>-0.151774</td>\n",
       "      <td>0.972846</td>\n",
       "    </tr>\n",
       "    <tr>\n",
       "      <th>2000-01-03</th>\n",
       "      <td>-0.060725</td>\n",
       "      <td>0.213316</td>\n",
       "      <td>0.361111</td>\n",
       "      <td>0.442083</td>\n",
       "    </tr>\n",
       "    <tr>\n",
       "      <th>2000-01-04</th>\n",
       "      <td>-0.781887</td>\n",
       "      <td>-0.395696</td>\n",
       "      <td>0.498175</td>\n",
       "      <td>0.239725</td>\n",
       "    </tr>\n",
       "    <tr>\n",
       "      <th>2000-01-05</th>\n",
       "      <td>1.296831</td>\n",
       "      <td>0.815954</td>\n",
       "      <td>-1.164301</td>\n",
       "      <td>0.630668</td>\n",
       "    </tr>\n",
       "    <tr>\n",
       "      <th>2000-01-06</th>\n",
       "      <td>-0.685639</td>\n",
       "      <td>0.259600</td>\n",
       "      <td>-2.053700</td>\n",
       "      <td>1.280533</td>\n",
       "    </tr>\n",
       "    <tr>\n",
       "      <th>2000-01-07</th>\n",
       "      <td>-0.202421</td>\n",
       "      <td>0.718932</td>\n",
       "      <td>-0.965612</td>\n",
       "      <td>-1.490796</td>\n",
       "    </tr>\n",
       "    <tr>\n",
       "      <th>2000-01-08</th>\n",
       "      <td>1.082973</td>\n",
       "      <td>-0.616383</td>\n",
       "      <td>-0.676444</td>\n",
       "      <td>-0.038139</td>\n",
       "    </tr>\n",
       "  </tbody>\n",
       "</table>\n",
       "</div>"
      ],
      "text/plain": [
       "                   A         B         C         D\n",
       "2000-01-01 -0.693913  0.762382 -1.556214  0.972583\n",
       "2000-01-02  0.061439  2.983050 -0.151774  0.972846\n",
       "2000-01-03 -0.060725  0.213316  0.361111  0.442083\n",
       "2000-01-04 -0.781887 -0.395696  0.498175  0.239725\n",
       "2000-01-05  1.296831  0.815954 -1.164301  0.630668\n",
       "2000-01-06 -0.685639  0.259600 -2.053700  1.280533\n",
       "2000-01-07 -0.202421  0.718932 -0.965612 -1.490796\n",
       "2000-01-08  1.082973 -0.616383 -0.676444 -0.038139"
      ]
     },
     "execution_count": 84,
     "metadata": {},
     "output_type": "execute_result"
    }
   ],
   "source": [
    "print(\"DataFrame dfa:\\n\")\n",
    "dfa = df.copy() #Making Copy of df in dfa\n",
    "dfa"
   ]
  },
  {
   "cell_type": "code",
   "execution_count": 85,
   "id": "912adf2b",
   "metadata": {
    "execution": {
     "iopub.execute_input": "2022-09-26T13:11:12.392296Z",
     "iopub.status.busy": "2022-09-26T13:11:12.391300Z",
     "iopub.status.idle": "2022-09-26T13:11:12.399362Z",
     "shell.execute_reply": "2022-09-26T13:11:12.398355Z"
    },
    "papermill": {
     "duration": 0.068949,
     "end_time": "2022-09-26T13:11:12.402298",
     "exception": false,
     "start_time": "2022-09-26T13:11:12.333349",
     "status": "completed"
    },
    "tags": []
   },
   "outputs": [
    {
     "data": {
      "text/plain": [
       "2000-01-01   -0.693913\n",
       "2000-01-02    0.061439\n",
       "2000-01-03   -0.060725\n",
       "2000-01-04   -0.781887\n",
       "2000-01-05    1.296831\n",
       "2000-01-06   -0.685639\n",
       "2000-01-07   -0.202421\n",
       "2000-01-08    1.082973\n",
       "Freq: D, Name: A, dtype: float64"
      ]
     },
     "execution_count": 85,
     "metadata": {},
     "output_type": "execute_result"
    }
   ],
   "source": [
    "dfa.A   #accesing as a attribute "
   ]
  },
  {
   "cell_type": "code",
   "execution_count": 86,
   "id": "830dad6e",
   "metadata": {
    "execution": {
     "iopub.execute_input": "2022-09-26T13:11:12.522116Z",
     "iopub.status.busy": "2022-09-26T13:11:12.521781Z",
     "iopub.status.idle": "2022-09-26T13:11:12.528022Z",
     "shell.execute_reply": "2022-09-26T13:11:12.527136Z"
    },
    "papermill": {
     "duration": 0.065816,
     "end_time": "2022-09-26T13:11:12.529994",
     "exception": false,
     "start_time": "2022-09-26T13:11:12.464178",
     "status": "completed"
    },
    "tags": []
   },
   "outputs": [
    {
     "data": {
      "text/plain": [
       "DatetimeIndex(['2000-01-01', '2000-01-02', '2000-01-03', '2000-01-04',\n",
       "               '2000-01-05', '2000-01-06', '2000-01-07', '2000-01-08'],\n",
       "              dtype='datetime64[ns]', freq='D')"
      ]
     },
     "execution_count": 86,
     "metadata": {},
     "output_type": "execute_result"
    }
   ],
   "source": [
    "dfa.index # index of dfa DataFrame"
   ]
  },
  {
   "cell_type": "code",
   "execution_count": 87,
   "id": "7ba9889d",
   "metadata": {
    "execution": {
     "iopub.execute_input": "2022-09-26T13:11:12.644221Z",
     "iopub.status.busy": "2022-09-26T13:11:12.643655Z",
     "iopub.status.idle": "2022-09-26T13:11:12.654868Z",
     "shell.execute_reply": "2022-09-26T13:11:12.653941Z"
    },
    "papermill": {
     "duration": 0.070677,
     "end_time": "2022-09-26T13:11:12.656829",
     "exception": false,
     "start_time": "2022-09-26T13:11:12.586152",
     "status": "completed"
    },
    "tags": []
   },
   "outputs": [
    {
     "data": {
      "text/html": [
       "<div>\n",
       "<style scoped>\n",
       "    .dataframe tbody tr th:only-of-type {\n",
       "        vertical-align: middle;\n",
       "    }\n",
       "\n",
       "    .dataframe tbody tr th {\n",
       "        vertical-align: top;\n",
       "    }\n",
       "\n",
       "    .dataframe thead th {\n",
       "        text-align: right;\n",
       "    }\n",
       "</style>\n",
       "<table border=\"1\" class=\"dataframe\">\n",
       "  <thead>\n",
       "    <tr style=\"text-align: right;\">\n",
       "      <th></th>\n",
       "      <th>A</th>\n",
       "      <th>B</th>\n",
       "      <th>C</th>\n",
       "      <th>D</th>\n",
       "    </tr>\n",
       "  </thead>\n",
       "  <tbody>\n",
       "    <tr>\n",
       "      <th>2000-01-01</th>\n",
       "      <td>0</td>\n",
       "      <td>0.762382</td>\n",
       "      <td>-1.556214</td>\n",
       "      <td>0.972583</td>\n",
       "    </tr>\n",
       "    <tr>\n",
       "      <th>2000-01-02</th>\n",
       "      <td>1</td>\n",
       "      <td>2.983050</td>\n",
       "      <td>-0.151774</td>\n",
       "      <td>0.972846</td>\n",
       "    </tr>\n",
       "    <tr>\n",
       "      <th>2000-01-03</th>\n",
       "      <td>2</td>\n",
       "      <td>0.213316</td>\n",
       "      <td>0.361111</td>\n",
       "      <td>0.442083</td>\n",
       "    </tr>\n",
       "    <tr>\n",
       "      <th>2000-01-04</th>\n",
       "      <td>3</td>\n",
       "      <td>-0.395696</td>\n",
       "      <td>0.498175</td>\n",
       "      <td>0.239725</td>\n",
       "    </tr>\n",
       "    <tr>\n",
       "      <th>2000-01-05</th>\n",
       "      <td>4</td>\n",
       "      <td>0.815954</td>\n",
       "      <td>-1.164301</td>\n",
       "      <td>0.630668</td>\n",
       "    </tr>\n",
       "    <tr>\n",
       "      <th>2000-01-06</th>\n",
       "      <td>5</td>\n",
       "      <td>0.259600</td>\n",
       "      <td>-2.053700</td>\n",
       "      <td>1.280533</td>\n",
       "    </tr>\n",
       "    <tr>\n",
       "      <th>2000-01-07</th>\n",
       "      <td>6</td>\n",
       "      <td>0.718932</td>\n",
       "      <td>-0.965612</td>\n",
       "      <td>-1.490796</td>\n",
       "    </tr>\n",
       "    <tr>\n",
       "      <th>2000-01-08</th>\n",
       "      <td>7</td>\n",
       "      <td>-0.616383</td>\n",
       "      <td>-0.676444</td>\n",
       "      <td>-0.038139</td>\n",
       "    </tr>\n",
       "  </tbody>\n",
       "</table>\n",
       "</div>"
      ],
      "text/plain": [
       "            A         B         C         D\n",
       "2000-01-01  0  0.762382 -1.556214  0.972583\n",
       "2000-01-02  1  2.983050 -0.151774  0.972846\n",
       "2000-01-03  2  0.213316  0.361111  0.442083\n",
       "2000-01-04  3 -0.395696  0.498175  0.239725\n",
       "2000-01-05  4  0.815954 -1.164301  0.630668\n",
       "2000-01-06  5  0.259600 -2.053700  1.280533\n",
       "2000-01-07  6  0.718932 -0.965612 -1.490796\n",
       "2000-01-08  7 -0.616383 -0.676444 -0.038139"
      ]
     },
     "execution_count": 87,
     "metadata": {},
     "output_type": "execute_result"
    }
   ],
   "source": [
    "# Changing Value of by attribute Access\n",
    "dfa.A=list(range(len(dfa.index)))           ## ok if A already exists else refer below warning\n",
    "dfa"
   ]
  },
  {
   "cell_type": "markdown",
   "id": "ab8b7111",
   "metadata": {
    "papermill": {
     "duration": 0.05649,
     "end_time": "2022-09-26T13:11:12.769725",
     "exception": false,
     "start_time": "2022-09-26T13:11:12.713235",
     "status": "completed"
    },
    "tags": []
   },
   "source": [
    "``` python\n",
    "dfa.E=list(range(len(dfa.index)))\n",
    "\n",
    "/opt/conda/lib/python3.7/site-packages/ipykernel_launcher.py:1: UserWarning: Pandas doesn't allow columns to be created via a new attribute name - see https://pandas.pydata.org/pandas-docs/stable/indexing.html#attribute-access\n",
    "  \"\"\"Entry point for launching an IPython kernel.\n",
    "\n",
    "```"
   ]
  },
  {
   "cell_type": "code",
   "execution_count": 88,
   "id": "7286e708",
   "metadata": {
    "execution": {
     "iopub.execute_input": "2022-09-26T13:11:12.886498Z",
     "iopub.status.busy": "2022-09-26T13:11:12.886152Z",
     "iopub.status.idle": "2022-09-26T13:11:12.902937Z",
     "shell.execute_reply": "2022-09-26T13:11:12.901981Z"
    },
    "papermill": {
     "duration": 0.078171,
     "end_time": "2022-09-26T13:11:12.904942",
     "exception": false,
     "start_time": "2022-09-26T13:11:12.826771",
     "status": "completed"
    },
    "tags": []
   },
   "outputs": [
    {
     "data": {
      "text/html": [
       "<div>\n",
       "<style scoped>\n",
       "    .dataframe tbody tr th:only-of-type {\n",
       "        vertical-align: middle;\n",
       "    }\n",
       "\n",
       "    .dataframe tbody tr th {\n",
       "        vertical-align: top;\n",
       "    }\n",
       "\n",
       "    .dataframe thead th {\n",
       "        text-align: right;\n",
       "    }\n",
       "</style>\n",
       "<table border=\"1\" class=\"dataframe\">\n",
       "  <thead>\n",
       "    <tr style=\"text-align: right;\">\n",
       "      <th></th>\n",
       "      <th>A</th>\n",
       "      <th>B</th>\n",
       "      <th>C</th>\n",
       "      <th>D</th>\n",
       "      <th>E</th>\n",
       "    </tr>\n",
       "  </thead>\n",
       "  <tbody>\n",
       "    <tr>\n",
       "      <th>2000-01-01</th>\n",
       "      <td>0</td>\n",
       "      <td>0.762382</td>\n",
       "      <td>-1.556214</td>\n",
       "      <td>0.972583</td>\n",
       "      <td>0</td>\n",
       "    </tr>\n",
       "    <tr>\n",
       "      <th>2000-01-02</th>\n",
       "      <td>1</td>\n",
       "      <td>2.983050</td>\n",
       "      <td>-0.151774</td>\n",
       "      <td>0.972846</td>\n",
       "      <td>1</td>\n",
       "    </tr>\n",
       "    <tr>\n",
       "      <th>2000-01-03</th>\n",
       "      <td>2</td>\n",
       "      <td>0.213316</td>\n",
       "      <td>0.361111</td>\n",
       "      <td>0.442083</td>\n",
       "      <td>2</td>\n",
       "    </tr>\n",
       "    <tr>\n",
       "      <th>2000-01-04</th>\n",
       "      <td>3</td>\n",
       "      <td>-0.395696</td>\n",
       "      <td>0.498175</td>\n",
       "      <td>0.239725</td>\n",
       "      <td>3</td>\n",
       "    </tr>\n",
       "    <tr>\n",
       "      <th>2000-01-05</th>\n",
       "      <td>4</td>\n",
       "      <td>0.815954</td>\n",
       "      <td>-1.164301</td>\n",
       "      <td>0.630668</td>\n",
       "      <td>4</td>\n",
       "    </tr>\n",
       "    <tr>\n",
       "      <th>2000-01-06</th>\n",
       "      <td>5</td>\n",
       "      <td>0.259600</td>\n",
       "      <td>-2.053700</td>\n",
       "      <td>1.280533</td>\n",
       "      <td>5</td>\n",
       "    </tr>\n",
       "    <tr>\n",
       "      <th>2000-01-07</th>\n",
       "      <td>6</td>\n",
       "      <td>0.718932</td>\n",
       "      <td>-0.965612</td>\n",
       "      <td>-1.490796</td>\n",
       "      <td>6</td>\n",
       "    </tr>\n",
       "    <tr>\n",
       "      <th>2000-01-08</th>\n",
       "      <td>7</td>\n",
       "      <td>-0.616383</td>\n",
       "      <td>-0.676444</td>\n",
       "      <td>-0.038139</td>\n",
       "      <td>7</td>\n",
       "    </tr>\n",
       "  </tbody>\n",
       "</table>\n",
       "</div>"
      ],
      "text/plain": [
       "            A         B         C         D  E\n",
       "2000-01-01  0  0.762382 -1.556214  0.972583  0\n",
       "2000-01-02  1  2.983050 -0.151774  0.972846  1\n",
       "2000-01-03  2  0.213316  0.361111  0.442083  2\n",
       "2000-01-04  3 -0.395696  0.498175  0.239725  3\n",
       "2000-01-05  4  0.815954 -1.164301  0.630668  4\n",
       "2000-01-06  5  0.259600 -2.053700  1.280533  5\n",
       "2000-01-07  6  0.718932 -0.965612 -1.490796  6\n",
       "2000-01-08  7 -0.616383 -0.676444 -0.038139  7"
      ]
     },
     "execution_count": 88,
     "metadata": {},
     "output_type": "execute_result"
    }
   ],
   "source": [
    "dfa[\"E\"]=list(range(len(dfa.index)))  #Assinging Value to E Columns\n",
    "dfa"
   ]
  },
  {
   "cell_type": "markdown",
   "id": "2330ce63",
   "metadata": {
    "papermill": {
     "duration": 0.056271,
     "end_time": "2022-09-26T13:11:13.018248",
     "exception": false,
     "start_time": "2022-09-26T13:11:12.961977",
     "status": "completed"
    },
    "tags": []
   },
   "source": [
    ">  ## ⚠️Warning\n",
    "\n",
    "> - You can use this access only if the index element is a valid Python identifier, e.g. s.1 is not allowed. See here for an explanation of valid identifiers.\n",
    "> - The attribute will not be available if it conflicts with an existing method name, e.g. s.min is not allowed, but s['min'] is possible.\n",
    "> - Similarly, the attribute will not be available if it conflicts with any of the following list: index, major_axis, minor_axis, items.\n",
    "> - In any of these cases, standard indexing will still work, e.g. s['1'], s['min'], and s['index'] will access the corresponding element or column."
   ]
  },
  {
   "cell_type": "code",
   "execution_count": 89,
   "id": "e1e59418",
   "metadata": {
    "execution": {
     "iopub.execute_input": "2022-09-26T13:11:13.134861Z",
     "iopub.status.busy": "2022-09-26T13:11:13.133961Z",
     "iopub.status.idle": "2022-09-26T13:11:13.146130Z",
     "shell.execute_reply": "2022-09-26T13:11:13.144428Z"
    },
    "papermill": {
     "duration": 0.073055,
     "end_time": "2022-09-26T13:11:13.148658",
     "exception": false,
     "start_time": "2022-09-26T13:11:13.075603",
     "status": "completed"
    },
    "tags": []
   },
   "outputs": [
    {
     "name": "stdout",
     "output_type": "stream",
     "text": [
      "Before Assignment:\n",
      "\n"
     ]
    },
    {
     "data": {
      "text/html": [
       "<div>\n",
       "<style scoped>\n",
       "    .dataframe tbody tr th:only-of-type {\n",
       "        vertical-align: middle;\n",
       "    }\n",
       "\n",
       "    .dataframe tbody tr th {\n",
       "        vertical-align: top;\n",
       "    }\n",
       "\n",
       "    .dataframe thead th {\n",
       "        text-align: right;\n",
       "    }\n",
       "</style>\n",
       "<table border=\"1\" class=\"dataframe\">\n",
       "  <thead>\n",
       "    <tr style=\"text-align: right;\">\n",
       "      <th></th>\n",
       "      <th>x</th>\n",
       "      <th>y</th>\n",
       "    </tr>\n",
       "  </thead>\n",
       "  <tbody>\n",
       "    <tr>\n",
       "      <th>0</th>\n",
       "      <td>1</td>\n",
       "      <td>3</td>\n",
       "    </tr>\n",
       "    <tr>\n",
       "      <th>1</th>\n",
       "      <td>2</td>\n",
       "      <td>4</td>\n",
       "    </tr>\n",
       "    <tr>\n",
       "      <th>2</th>\n",
       "      <td>3</td>\n",
       "      <td>5</td>\n",
       "    </tr>\n",
       "  </tbody>\n",
       "</table>\n",
       "</div>"
      ],
      "text/plain": [
       "   x  y\n",
       "0  1  3\n",
       "1  2  4\n",
       "2  3  5"
      ]
     },
     "execution_count": 89,
     "metadata": {},
     "output_type": "execute_result"
    }
   ],
   "source": [
    "# You can also assign a dict to a row of a DataFrame:\n",
    "x = pd.DataFrame({'x': [1, 2, 3], 'y': [3, 4, 5]})\n",
    "print(\"Before Assignment:\\n\")\n",
    "x"
   ]
  },
  {
   "cell_type": "code",
   "execution_count": 90,
   "id": "880a0201",
   "metadata": {
    "execution": {
     "iopub.execute_input": "2022-09-26T13:11:13.264558Z",
     "iopub.status.busy": "2022-09-26T13:11:13.263951Z",
     "iopub.status.idle": "2022-09-26T13:11:13.274176Z",
     "shell.execute_reply": "2022-09-26T13:11:13.272775Z"
    },
    "papermill": {
     "duration": 0.071049,
     "end_time": "2022-09-26T13:11:13.277237",
     "exception": false,
     "start_time": "2022-09-26T13:11:13.206188",
     "status": "completed"
    },
    "tags": []
   },
   "outputs": [
    {
     "name": "stdout",
     "output_type": "stream",
     "text": [
      "\n",
      "After Assignment:\n",
      "\n"
     ]
    },
    {
     "data": {
      "text/html": [
       "<div>\n",
       "<style scoped>\n",
       "    .dataframe tbody tr th:only-of-type {\n",
       "        vertical-align: middle;\n",
       "    }\n",
       "\n",
       "    .dataframe tbody tr th {\n",
       "        vertical-align: top;\n",
       "    }\n",
       "\n",
       "    .dataframe thead th {\n",
       "        text-align: right;\n",
       "    }\n",
       "</style>\n",
       "<table border=\"1\" class=\"dataframe\">\n",
       "  <thead>\n",
       "    <tr style=\"text-align: right;\">\n",
       "      <th></th>\n",
       "      <th>x</th>\n",
       "      <th>y</th>\n",
       "    </tr>\n",
       "  </thead>\n",
       "  <tbody>\n",
       "    <tr>\n",
       "      <th>0</th>\n",
       "      <td>1</td>\n",
       "      <td>3</td>\n",
       "    </tr>\n",
       "    <tr>\n",
       "      <th>1</th>\n",
       "      <td>9</td>\n",
       "      <td>99</td>\n",
       "    </tr>\n",
       "    <tr>\n",
       "      <th>2</th>\n",
       "      <td>3</td>\n",
       "      <td>5</td>\n",
       "    </tr>\n",
       "  </tbody>\n",
       "</table>\n",
       "</div>"
      ],
      "text/plain": [
       "   x   y\n",
       "0  1   3\n",
       "1  9  99\n",
       "2  3   5"
      ]
     },
     "execution_count": 90,
     "metadata": {},
     "output_type": "execute_result"
    }
   ],
   "source": [
    "x.iloc[1] = {'x': 9, 'y': 99}\n",
    "print(\"\\nAfter Assignment:\\n\")\n",
    "x"
   ]
  },
  {
   "cell_type": "markdown",
   "id": "bd179d67",
   "metadata": {
    "papermill": {
     "duration": 0.057482,
     "end_time": "2022-09-26T13:11:13.393043",
     "exception": false,
     "start_time": "2022-09-26T13:11:13.335561",
     "status": "completed"
    },
    "tags": []
   },
   "source": [
    "## Indexing and selecting data In DataFrame | Slicing ranges in DataFrame:\n",
    "- The most robust and consistent way of slicing ranges along arbitrary axes is described in the Selection by Position section detailing the **.iloc** method. For now, we explain the semantics of slicing using the **[]** operator.\n",
    "\n",
    "- With Series, the syntax works exactly as with an ndarray, returning a slice of the values and the corresponding labels:"
   ]
  },
  {
   "cell_type": "code",
   "execution_count": 91,
   "id": "ed71dce1",
   "metadata": {
    "execution": {
     "iopub.execute_input": "2022-09-26T13:11:13.509813Z",
     "iopub.status.busy": "2022-09-26T13:11:13.508863Z",
     "iopub.status.idle": "2022-09-26T13:11:13.516926Z",
     "shell.execute_reply": "2022-09-26T13:11:13.515979Z"
    },
    "papermill": {
     "duration": 0.068686,
     "end_time": "2022-09-26T13:11:13.518844",
     "exception": false,
     "start_time": "2022-09-26T13:11:13.450158",
     "status": "completed"
    },
    "tags": []
   },
   "outputs": [
    {
     "data": {
      "text/plain": [
       "2000-01-01   -0.693913\n",
       "2000-01-02    0.061439\n",
       "2000-01-03   -0.060725\n",
       "2000-01-04   -0.781887\n",
       "2000-01-05    1.296831\n",
       "Freq: D, Name: A, dtype: float64"
      ]
     },
     "execution_count": 91,
     "metadata": {},
     "output_type": "execute_result"
    }
   ],
   "source": [
    "s[:5]    #Slicing in Sereis s=df[\"A\"]  / print value from 0 to 5(Exclude)"
   ]
  },
  {
   "cell_type": "code",
   "execution_count": 92,
   "id": "5466ffa5",
   "metadata": {
    "execution": {
     "iopub.execute_input": "2022-09-26T13:11:13.634944Z",
     "iopub.status.busy": "2022-09-26T13:11:13.634581Z",
     "iopub.status.idle": "2022-09-26T13:11:13.643128Z",
     "shell.execute_reply": "2022-09-26T13:11:13.642228Z"
    },
    "papermill": {
     "duration": 0.068944,
     "end_time": "2022-09-26T13:11:13.645050",
     "exception": false,
     "start_time": "2022-09-26T13:11:13.576106",
     "status": "completed"
    },
    "tags": []
   },
   "outputs": [
    {
     "data": {
      "text/plain": [
       "2000-01-01   -0.693913\n",
       "2000-01-03   -0.060725\n",
       "2000-01-05    1.296831\n",
       "2000-01-07   -0.202421\n",
       "Freq: 2D, Name: A, dtype: float64"
      ]
     },
     "execution_count": 92,
     "metadata": {},
     "output_type": "execute_result"
    }
   ],
   "source": [
    "s[::2]    #2 works as Steping Value (after 2 point print value)"
   ]
  },
  {
   "cell_type": "code",
   "execution_count": 93,
   "id": "09a19fb0",
   "metadata": {
    "execution": {
     "iopub.execute_input": "2022-09-26T13:11:13.763142Z",
     "iopub.status.busy": "2022-09-26T13:11:13.761432Z",
     "iopub.status.idle": "2022-09-26T13:11:13.769812Z",
     "shell.execute_reply": "2022-09-26T13:11:13.768758Z"
    },
    "papermill": {
     "duration": 0.069097,
     "end_time": "2022-09-26T13:11:13.771764",
     "exception": false,
     "start_time": "2022-09-26T13:11:13.702667",
     "status": "completed"
    },
    "tags": []
   },
   "outputs": [
    {
     "data": {
      "text/plain": [
       "2000-01-08    1.082973\n",
       "2000-01-07   -0.202421\n",
       "2000-01-06   -0.685639\n",
       "2000-01-05    1.296831\n",
       "2000-01-04   -0.781887\n",
       "2000-01-03   -0.060725\n",
       "2000-01-02    0.061439\n",
       "2000-01-01   -0.693913\n",
       "Freq: -1D, Name: A, dtype: float64"
      ]
     },
     "execution_count": 93,
     "metadata": {},
     "output_type": "execute_result"
    }
   ],
   "source": [
    "s[::-1]     #it Reverse the. Series "
   ]
  },
  {
   "cell_type": "code",
   "execution_count": 94,
   "id": "e202df4e",
   "metadata": {
    "execution": {
     "iopub.execute_input": "2022-09-26T13:11:13.931424Z",
     "iopub.status.busy": "2022-09-26T13:11:13.931072Z",
     "iopub.status.idle": "2022-09-26T13:11:13.938909Z",
     "shell.execute_reply": "2022-09-26T13:11:13.937997Z"
    },
    "papermill": {
     "duration": 0.110426,
     "end_time": "2022-09-26T13:11:13.940820",
     "exception": false,
     "start_time": "2022-09-26T13:11:13.830394",
     "status": "completed"
    },
    "tags": []
   },
   "outputs": [
    {
     "data": {
      "text/plain": [
       "2000-01-01    0.000000\n",
       "2000-01-02    0.000000\n",
       "2000-01-03    0.000000\n",
       "2000-01-04    0.000000\n",
       "2000-01-05    0.000000\n",
       "2000-01-06   -0.685639\n",
       "2000-01-07   -0.202421\n",
       "2000-01-08    1.082973\n",
       "Freq: D, Name: A, dtype: float64"
      ]
     },
     "execution_count": 94,
     "metadata": {},
     "output_type": "execute_result"
    }
   ],
   "source": [
    "s2 = s.copy()   #Copying value of s \n",
    "s2[:5]=0       #Assigning Value from 0 to 5\n",
    "s2"
   ]
  },
  {
   "cell_type": "markdown",
   "id": "ac0e7fa2",
   "metadata": {
    "papermill": {
     "duration": 0.057809,
     "end_time": "2022-09-26T13:11:14.056983",
     "exception": false,
     "start_time": "2022-09-26T13:11:13.999174",
     "status": "completed"
    },
    "tags": []
   },
   "source": [
    " #### With DataFrame, slicing inside of [] slices the rows. This is provided largely as a convenience since it is such a common operation."
   ]
  },
  {
   "cell_type": "code",
   "execution_count": 95,
   "id": "592c919a",
   "metadata": {
    "execution": {
     "iopub.execute_input": "2022-09-26T13:11:14.173958Z",
     "iopub.status.busy": "2022-09-26T13:11:14.173628Z",
     "iopub.status.idle": "2022-09-26T13:11:14.184683Z",
     "shell.execute_reply": "2022-09-26T13:11:14.183782Z"
    },
    "papermill": {
     "duration": 0.071855,
     "end_time": "2022-09-26T13:11:14.186683",
     "exception": false,
     "start_time": "2022-09-26T13:11:14.114828",
     "status": "completed"
    },
    "tags": []
   },
   "outputs": [
    {
     "data": {
      "text/html": [
       "<div>\n",
       "<style scoped>\n",
       "    .dataframe tbody tr th:only-of-type {\n",
       "        vertical-align: middle;\n",
       "    }\n",
       "\n",
       "    .dataframe tbody tr th {\n",
       "        vertical-align: top;\n",
       "    }\n",
       "\n",
       "    .dataframe thead th {\n",
       "        text-align: right;\n",
       "    }\n",
       "</style>\n",
       "<table border=\"1\" class=\"dataframe\">\n",
       "  <thead>\n",
       "    <tr style=\"text-align: right;\">\n",
       "      <th></th>\n",
       "      <th>A</th>\n",
       "      <th>B</th>\n",
       "      <th>C</th>\n",
       "      <th>D</th>\n",
       "      <th>E</th>\n",
       "    </tr>\n",
       "  </thead>\n",
       "  <tbody>\n",
       "    <tr>\n",
       "      <th>2000-01-01</th>\n",
       "      <td>0</td>\n",
       "      <td>0.762382</td>\n",
       "      <td>-1.556214</td>\n",
       "      <td>0.972583</td>\n",
       "      <td>0</td>\n",
       "    </tr>\n",
       "    <tr>\n",
       "      <th>2000-01-02</th>\n",
       "      <td>1</td>\n",
       "      <td>2.983050</td>\n",
       "      <td>-0.151774</td>\n",
       "      <td>0.972846</td>\n",
       "      <td>1</td>\n",
       "    </tr>\n",
       "    <tr>\n",
       "      <th>2000-01-03</th>\n",
       "      <td>2</td>\n",
       "      <td>0.213316</td>\n",
       "      <td>0.361111</td>\n",
       "      <td>0.442083</td>\n",
       "      <td>2</td>\n",
       "    </tr>\n",
       "    <tr>\n",
       "      <th>2000-01-04</th>\n",
       "      <td>3</td>\n",
       "      <td>-0.395696</td>\n",
       "      <td>0.498175</td>\n",
       "      <td>0.239725</td>\n",
       "      <td>3</td>\n",
       "    </tr>\n",
       "    <tr>\n",
       "      <th>2000-01-05</th>\n",
       "      <td>4</td>\n",
       "      <td>0.815954</td>\n",
       "      <td>-1.164301</td>\n",
       "      <td>0.630668</td>\n",
       "      <td>4</td>\n",
       "    </tr>\n",
       "    <tr>\n",
       "      <th>2000-01-06</th>\n",
       "      <td>5</td>\n",
       "      <td>0.259600</td>\n",
       "      <td>-2.053700</td>\n",
       "      <td>1.280533</td>\n",
       "      <td>5</td>\n",
       "    </tr>\n",
       "    <tr>\n",
       "      <th>2000-01-07</th>\n",
       "      <td>6</td>\n",
       "      <td>0.718932</td>\n",
       "      <td>-0.965612</td>\n",
       "      <td>-1.490796</td>\n",
       "      <td>6</td>\n",
       "    </tr>\n",
       "    <tr>\n",
       "      <th>2000-01-08</th>\n",
       "      <td>7</td>\n",
       "      <td>-0.616383</td>\n",
       "      <td>-0.676444</td>\n",
       "      <td>-0.038139</td>\n",
       "      <td>7</td>\n",
       "    </tr>\n",
       "  </tbody>\n",
       "</table>\n",
       "</div>"
      ],
      "text/plain": [
       "            A         B         C         D  E\n",
       "2000-01-01  0  0.762382 -1.556214  0.972583  0\n",
       "2000-01-02  1  2.983050 -0.151774  0.972846  1\n",
       "2000-01-03  2  0.213316  0.361111  0.442083  2\n",
       "2000-01-04  3 -0.395696  0.498175  0.239725  3\n",
       "2000-01-05  4  0.815954 -1.164301  0.630668  4\n",
       "2000-01-06  5  0.259600 -2.053700  1.280533  5\n",
       "2000-01-07  6  0.718932 -0.965612 -1.490796  6\n",
       "2000-01-08  7 -0.616383 -0.676444 -0.038139  7"
      ]
     },
     "execution_count": 95,
     "metadata": {},
     "output_type": "execute_result"
    }
   ],
   "source": [
    "dfa"
   ]
  },
  {
   "cell_type": "code",
   "execution_count": 96,
   "id": "724ea342",
   "metadata": {
    "execution": {
     "iopub.execute_input": "2022-09-26T13:11:14.304598Z",
     "iopub.status.busy": "2022-09-26T13:11:14.303881Z",
     "iopub.status.idle": "2022-09-26T13:11:14.315934Z",
     "shell.execute_reply": "2022-09-26T13:11:14.314932Z"
    },
    "papermill": {
     "duration": 0.072989,
     "end_time": "2022-09-26T13:11:14.317910",
     "exception": false,
     "start_time": "2022-09-26T13:11:14.244921",
     "status": "completed"
    },
    "tags": []
   },
   "outputs": [
    {
     "data": {
      "text/html": [
       "<div>\n",
       "<style scoped>\n",
       "    .dataframe tbody tr th:only-of-type {\n",
       "        vertical-align: middle;\n",
       "    }\n",
       "\n",
       "    .dataframe tbody tr th {\n",
       "        vertical-align: top;\n",
       "    }\n",
       "\n",
       "    .dataframe thead th {\n",
       "        text-align: right;\n",
       "    }\n",
       "</style>\n",
       "<table border=\"1\" class=\"dataframe\">\n",
       "  <thead>\n",
       "    <tr style=\"text-align: right;\">\n",
       "      <th></th>\n",
       "      <th>A</th>\n",
       "      <th>B</th>\n",
       "      <th>C</th>\n",
       "      <th>D</th>\n",
       "      <th>E</th>\n",
       "    </tr>\n",
       "  </thead>\n",
       "  <tbody>\n",
       "    <tr>\n",
       "      <th>2000-01-04</th>\n",
       "      <td>3</td>\n",
       "      <td>-0.395696</td>\n",
       "      <td>0.498175</td>\n",
       "      <td>0.239725</td>\n",
       "      <td>3</td>\n",
       "    </tr>\n",
       "    <tr>\n",
       "      <th>2000-01-05</th>\n",
       "      <td>4</td>\n",
       "      <td>0.815954</td>\n",
       "      <td>-1.164301</td>\n",
       "      <td>0.630668</td>\n",
       "      <td>4</td>\n",
       "    </tr>\n",
       "    <tr>\n",
       "      <th>2000-01-06</th>\n",
       "      <td>5</td>\n",
       "      <td>0.259600</td>\n",
       "      <td>-2.053700</td>\n",
       "      <td>1.280533</td>\n",
       "      <td>5</td>\n",
       "    </tr>\n",
       "    <tr>\n",
       "      <th>2000-01-07</th>\n",
       "      <td>6</td>\n",
       "      <td>0.718932</td>\n",
       "      <td>-0.965612</td>\n",
       "      <td>-1.490796</td>\n",
       "      <td>6</td>\n",
       "    </tr>\n",
       "    <tr>\n",
       "      <th>2000-01-08</th>\n",
       "      <td>7</td>\n",
       "      <td>-0.616383</td>\n",
       "      <td>-0.676444</td>\n",
       "      <td>-0.038139</td>\n",
       "      <td>7</td>\n",
       "    </tr>\n",
       "  </tbody>\n",
       "</table>\n",
       "</div>"
      ],
      "text/plain": [
       "            A         B         C         D  E\n",
       "2000-01-04  3 -0.395696  0.498175  0.239725  3\n",
       "2000-01-05  4  0.815954 -1.164301  0.630668  4\n",
       "2000-01-06  5  0.259600 -2.053700  1.280533  5\n",
       "2000-01-07  6  0.718932 -0.965612 -1.490796  6\n",
       "2000-01-08  7 -0.616383 -0.676444 -0.038139  7"
      ]
     },
     "execution_count": 96,
     "metadata": {},
     "output_type": "execute_result"
    }
   ],
   "source": [
    "dfa[3:]   #From 3 To end of DataFrame"
   ]
  },
  {
   "cell_type": "code",
   "execution_count": 97,
   "id": "806d7d48",
   "metadata": {
    "execution": {
     "iopub.execute_input": "2022-09-26T13:11:14.436201Z",
     "iopub.status.busy": "2022-09-26T13:11:14.435339Z",
     "iopub.status.idle": "2022-09-26T13:11:14.446276Z",
     "shell.execute_reply": "2022-09-26T13:11:14.445281Z"
    },
    "papermill": {
     "duration": 0.071882,
     "end_time": "2022-09-26T13:11:14.448440",
     "exception": false,
     "start_time": "2022-09-26T13:11:14.376558",
     "status": "completed"
    },
    "tags": []
   },
   "outputs": [
    {
     "data": {
      "text/html": [
       "<div>\n",
       "<style scoped>\n",
       "    .dataframe tbody tr th:only-of-type {\n",
       "        vertical-align: middle;\n",
       "    }\n",
       "\n",
       "    .dataframe tbody tr th {\n",
       "        vertical-align: top;\n",
       "    }\n",
       "\n",
       "    .dataframe thead th {\n",
       "        text-align: right;\n",
       "    }\n",
       "</style>\n",
       "<table border=\"1\" class=\"dataframe\">\n",
       "  <thead>\n",
       "    <tr style=\"text-align: right;\">\n",
       "      <th></th>\n",
       "      <th>A</th>\n",
       "      <th>B</th>\n",
       "      <th>C</th>\n",
       "      <th>D</th>\n",
       "      <th>E</th>\n",
       "    </tr>\n",
       "  </thead>\n",
       "  <tbody>\n",
       "    <tr>\n",
       "      <th>2000-01-01</th>\n",
       "      <td>0</td>\n",
       "      <td>0.762382</td>\n",
       "      <td>-1.556214</td>\n",
       "      <td>0.972583</td>\n",
       "      <td>0</td>\n",
       "    </tr>\n",
       "    <tr>\n",
       "      <th>2000-01-02</th>\n",
       "      <td>1</td>\n",
       "      <td>2.983050</td>\n",
       "      <td>-0.151774</td>\n",
       "      <td>0.972846</td>\n",
       "      <td>1</td>\n",
       "    </tr>\n",
       "    <tr>\n",
       "      <th>2000-01-03</th>\n",
       "      <td>2</td>\n",
       "      <td>0.213316</td>\n",
       "      <td>0.361111</td>\n",
       "      <td>0.442083</td>\n",
       "      <td>2</td>\n",
       "    </tr>\n",
       "  </tbody>\n",
       "</table>\n",
       "</div>"
      ],
      "text/plain": [
       "            A         B         C         D  E\n",
       "2000-01-01  0  0.762382 -1.556214  0.972583  0\n",
       "2000-01-02  1  2.983050 -0.151774  0.972846  1\n",
       "2000-01-03  2  0.213316  0.361111  0.442083  2"
      ]
     },
     "execution_count": 97,
     "metadata": {},
     "output_type": "execute_result"
    }
   ],
   "source": [
    "dfa[:3]    #Start to 3"
   ]
  },
  {
   "cell_type": "code",
   "execution_count": 98,
   "id": "e127557d",
   "metadata": {
    "execution": {
     "iopub.execute_input": "2022-09-26T13:11:14.566656Z",
     "iopub.status.busy": "2022-09-26T13:11:14.566292Z",
     "iopub.status.idle": "2022-09-26T13:11:14.578051Z",
     "shell.execute_reply": "2022-09-26T13:11:14.576997Z"
    },
    "papermill": {
     "duration": 0.073052,
     "end_time": "2022-09-26T13:11:14.580039",
     "exception": false,
     "start_time": "2022-09-26T13:11:14.506987",
     "status": "completed"
    },
    "tags": []
   },
   "outputs": [
    {
     "data": {
      "text/html": [
       "<div>\n",
       "<style scoped>\n",
       "    .dataframe tbody tr th:only-of-type {\n",
       "        vertical-align: middle;\n",
       "    }\n",
       "\n",
       "    .dataframe tbody tr th {\n",
       "        vertical-align: top;\n",
       "    }\n",
       "\n",
       "    .dataframe thead th {\n",
       "        text-align: right;\n",
       "    }\n",
       "</style>\n",
       "<table border=\"1\" class=\"dataframe\">\n",
       "  <thead>\n",
       "    <tr style=\"text-align: right;\">\n",
       "      <th></th>\n",
       "      <th>A</th>\n",
       "      <th>B</th>\n",
       "      <th>C</th>\n",
       "      <th>D</th>\n",
       "      <th>E</th>\n",
       "    </tr>\n",
       "  </thead>\n",
       "  <tbody>\n",
       "    <tr>\n",
       "      <th>2000-01-01</th>\n",
       "      <td>0</td>\n",
       "      <td>0.762382</td>\n",
       "      <td>-1.556214</td>\n",
       "      <td>0.972583</td>\n",
       "      <td>0</td>\n",
       "    </tr>\n",
       "    <tr>\n",
       "      <th>2000-01-03</th>\n",
       "      <td>2</td>\n",
       "      <td>0.213316</td>\n",
       "      <td>0.361111</td>\n",
       "      <td>0.442083</td>\n",
       "      <td>2</td>\n",
       "    </tr>\n",
       "    <tr>\n",
       "      <th>2000-01-05</th>\n",
       "      <td>4</td>\n",
       "      <td>0.815954</td>\n",
       "      <td>-1.164301</td>\n",
       "      <td>0.630668</td>\n",
       "      <td>4</td>\n",
       "    </tr>\n",
       "    <tr>\n",
       "      <th>2000-01-07</th>\n",
       "      <td>6</td>\n",
       "      <td>0.718932</td>\n",
       "      <td>-0.965612</td>\n",
       "      <td>-1.490796</td>\n",
       "      <td>6</td>\n",
       "    </tr>\n",
       "  </tbody>\n",
       "</table>\n",
       "</div>"
      ],
      "text/plain": [
       "            A         B         C         D  E\n",
       "2000-01-01  0  0.762382 -1.556214  0.972583  0\n",
       "2000-01-03  2  0.213316  0.361111  0.442083  2\n",
       "2000-01-05  4  0.815954 -1.164301  0.630668  4\n",
       "2000-01-07  6  0.718932 -0.965612 -1.490796  6"
      ]
     },
     "execution_count": 98,
     "metadata": {},
     "output_type": "execute_result"
    }
   ],
   "source": [
    "dfa[::2]     #steping value of 2"
   ]
  },
  {
   "cell_type": "code",
   "execution_count": 99,
   "id": "f845d99f",
   "metadata": {
    "execution": {
     "iopub.execute_input": "2022-09-26T13:11:14.698761Z",
     "iopub.status.busy": "2022-09-26T13:11:14.697909Z",
     "iopub.status.idle": "2022-09-26T13:11:14.709449Z",
     "shell.execute_reply": "2022-09-26T13:11:14.708489Z"
    },
    "papermill": {
     "duration": 0.072628,
     "end_time": "2022-09-26T13:11:14.711526",
     "exception": false,
     "start_time": "2022-09-26T13:11:14.638898",
     "status": "completed"
    },
    "tags": []
   },
   "outputs": [
    {
     "data": {
      "text/html": [
       "<div>\n",
       "<style scoped>\n",
       "    .dataframe tbody tr th:only-of-type {\n",
       "        vertical-align: middle;\n",
       "    }\n",
       "\n",
       "    .dataframe tbody tr th {\n",
       "        vertical-align: top;\n",
       "    }\n",
       "\n",
       "    .dataframe thead th {\n",
       "        text-align: right;\n",
       "    }\n",
       "</style>\n",
       "<table border=\"1\" class=\"dataframe\">\n",
       "  <thead>\n",
       "    <tr style=\"text-align: right;\">\n",
       "      <th></th>\n",
       "      <th>A</th>\n",
       "      <th>B</th>\n",
       "      <th>C</th>\n",
       "      <th>D</th>\n",
       "      <th>E</th>\n",
       "    </tr>\n",
       "  </thead>\n",
       "  <tbody>\n",
       "    <tr>\n",
       "      <th>2000-01-08</th>\n",
       "      <td>7</td>\n",
       "      <td>-0.616383</td>\n",
       "      <td>-0.676444</td>\n",
       "      <td>-0.038139</td>\n",
       "      <td>7</td>\n",
       "    </tr>\n",
       "    <tr>\n",
       "      <th>2000-01-07</th>\n",
       "      <td>6</td>\n",
       "      <td>0.718932</td>\n",
       "      <td>-0.965612</td>\n",
       "      <td>-1.490796</td>\n",
       "      <td>6</td>\n",
       "    </tr>\n",
       "    <tr>\n",
       "      <th>2000-01-06</th>\n",
       "      <td>5</td>\n",
       "      <td>0.259600</td>\n",
       "      <td>-2.053700</td>\n",
       "      <td>1.280533</td>\n",
       "      <td>5</td>\n",
       "    </tr>\n",
       "    <tr>\n",
       "      <th>2000-01-05</th>\n",
       "      <td>4</td>\n",
       "      <td>0.815954</td>\n",
       "      <td>-1.164301</td>\n",
       "      <td>0.630668</td>\n",
       "      <td>4</td>\n",
       "    </tr>\n",
       "    <tr>\n",
       "      <th>2000-01-04</th>\n",
       "      <td>3</td>\n",
       "      <td>-0.395696</td>\n",
       "      <td>0.498175</td>\n",
       "      <td>0.239725</td>\n",
       "      <td>3</td>\n",
       "    </tr>\n",
       "    <tr>\n",
       "      <th>2000-01-03</th>\n",
       "      <td>2</td>\n",
       "      <td>0.213316</td>\n",
       "      <td>0.361111</td>\n",
       "      <td>0.442083</td>\n",
       "      <td>2</td>\n",
       "    </tr>\n",
       "    <tr>\n",
       "      <th>2000-01-02</th>\n",
       "      <td>1</td>\n",
       "      <td>2.983050</td>\n",
       "      <td>-0.151774</td>\n",
       "      <td>0.972846</td>\n",
       "      <td>1</td>\n",
       "    </tr>\n",
       "    <tr>\n",
       "      <th>2000-01-01</th>\n",
       "      <td>0</td>\n",
       "      <td>0.762382</td>\n",
       "      <td>-1.556214</td>\n",
       "      <td>0.972583</td>\n",
       "      <td>0</td>\n",
       "    </tr>\n",
       "  </tbody>\n",
       "</table>\n",
       "</div>"
      ],
      "text/plain": [
       "            A         B         C         D  E\n",
       "2000-01-08  7 -0.616383 -0.676444 -0.038139  7\n",
       "2000-01-07  6  0.718932 -0.965612 -1.490796  6\n",
       "2000-01-06  5  0.259600 -2.053700  1.280533  5\n",
       "2000-01-05  4  0.815954 -1.164301  0.630668  4\n",
       "2000-01-04  3 -0.395696  0.498175  0.239725  3\n",
       "2000-01-03  2  0.213316  0.361111  0.442083  2\n",
       "2000-01-02  1  2.983050 -0.151774  0.972846  1\n",
       "2000-01-01  0  0.762382 -1.556214  0.972583  0"
      ]
     },
     "execution_count": 99,
     "metadata": {},
     "output_type": "execute_result"
    }
   ],
   "source": [
    "dfa[::-1]   #reverse of DataFrame"
   ]
  },
  {
   "cell_type": "code",
   "execution_count": 100,
   "id": "48ebe5d0",
   "metadata": {
    "execution": {
     "iopub.execute_input": "2022-09-26T13:11:14.829785Z",
     "iopub.status.busy": "2022-09-26T13:11:14.829447Z",
     "iopub.status.idle": "2022-09-26T13:11:14.842647Z",
     "shell.execute_reply": "2022-09-26T13:11:14.841628Z"
    },
    "papermill": {
     "duration": 0.074645,
     "end_time": "2022-09-26T13:11:14.844761",
     "exception": false,
     "start_time": "2022-09-26T13:11:14.770116",
     "status": "completed"
    },
    "tags": []
   },
   "outputs": [
    {
     "data": {
      "text/html": [
       "<div>\n",
       "<style scoped>\n",
       "    .dataframe tbody tr th:only-of-type {\n",
       "        vertical-align: middle;\n",
       "    }\n",
       "\n",
       "    .dataframe tbody tr th {\n",
       "        vertical-align: top;\n",
       "    }\n",
       "\n",
       "    .dataframe thead th {\n",
       "        text-align: right;\n",
       "    }\n",
       "</style>\n",
       "<table border=\"1\" class=\"dataframe\">\n",
       "  <thead>\n",
       "    <tr style=\"text-align: right;\">\n",
       "      <th></th>\n",
       "      <th>A</th>\n",
       "      <th>B</th>\n",
       "      <th>C</th>\n",
       "      <th>D</th>\n",
       "      <th>E</th>\n",
       "    </tr>\n",
       "  </thead>\n",
       "  <tbody>\n",
       "    <tr>\n",
       "      <th>2000-01-01</th>\n",
       "      <td>0</td>\n",
       "      <td>0.000000</td>\n",
       "      <td>0.000000</td>\n",
       "      <td>0.000000</td>\n",
       "      <td>0</td>\n",
       "    </tr>\n",
       "    <tr>\n",
       "      <th>2000-01-02</th>\n",
       "      <td>0</td>\n",
       "      <td>0.000000</td>\n",
       "      <td>0.000000</td>\n",
       "      <td>0.000000</td>\n",
       "      <td>0</td>\n",
       "    </tr>\n",
       "    <tr>\n",
       "      <th>2000-01-03</th>\n",
       "      <td>0</td>\n",
       "      <td>0.000000</td>\n",
       "      <td>0.000000</td>\n",
       "      <td>0.000000</td>\n",
       "      <td>0</td>\n",
       "    </tr>\n",
       "    <tr>\n",
       "      <th>2000-01-04</th>\n",
       "      <td>0</td>\n",
       "      <td>0.000000</td>\n",
       "      <td>0.000000</td>\n",
       "      <td>0.000000</td>\n",
       "      <td>0</td>\n",
       "    </tr>\n",
       "    <tr>\n",
       "      <th>2000-01-05</th>\n",
       "      <td>0</td>\n",
       "      <td>0.000000</td>\n",
       "      <td>0.000000</td>\n",
       "      <td>0.000000</td>\n",
       "      <td>0</td>\n",
       "    </tr>\n",
       "    <tr>\n",
       "      <th>2000-01-06</th>\n",
       "      <td>5</td>\n",
       "      <td>0.259600</td>\n",
       "      <td>-2.053700</td>\n",
       "      <td>1.280533</td>\n",
       "      <td>5</td>\n",
       "    </tr>\n",
       "    <tr>\n",
       "      <th>2000-01-07</th>\n",
       "      <td>6</td>\n",
       "      <td>0.718932</td>\n",
       "      <td>-0.965612</td>\n",
       "      <td>-1.490796</td>\n",
       "      <td>6</td>\n",
       "    </tr>\n",
       "    <tr>\n",
       "      <th>2000-01-08</th>\n",
       "      <td>7</td>\n",
       "      <td>-0.616383</td>\n",
       "      <td>-0.676444</td>\n",
       "      <td>-0.038139</td>\n",
       "      <td>7</td>\n",
       "    </tr>\n",
       "  </tbody>\n",
       "</table>\n",
       "</div>"
      ],
      "text/plain": [
       "            A         B         C         D  E\n",
       "2000-01-01  0  0.000000  0.000000  0.000000  0\n",
       "2000-01-02  0  0.000000  0.000000  0.000000  0\n",
       "2000-01-03  0  0.000000  0.000000  0.000000  0\n",
       "2000-01-04  0  0.000000  0.000000  0.000000  0\n",
       "2000-01-05  0  0.000000  0.000000  0.000000  0\n",
       "2000-01-06  5  0.259600 -2.053700  1.280533  5\n",
       "2000-01-07  6  0.718932 -0.965612 -1.490796  6\n",
       "2000-01-08  7 -0.616383 -0.676444 -0.038139  7"
      ]
     },
     "execution_count": 100,
     "metadata": {},
     "output_type": "execute_result"
    }
   ],
   "source": [
    "dfC=dfa.copy()           #Making Copying of DataFrame dfa\n",
    "dfC[:5]=0            #it will assign all value to 0 from (0,5)\n",
    "dfC"
   ]
  },
  {
   "cell_type": "markdown",
   "id": "74434ca4",
   "metadata": {
    "papermill": {
     "duration": 0.058393,
     "end_time": "2022-09-26T13:11:14.962581",
     "exception": false,
     "start_time": "2022-09-26T13:11:14.904188",
     "status": "completed"
    },
    "tags": []
   },
   "source": [
    "## Indexing and selecting data In DataFrame | Selection by label\n",
    "> ## ⚠️Warning\n",
    "> - Whether a copy or a reference is returned for a setting operation, may depend on the context. This is sometimes called chained assignment and should be avoided. \n",
    "\n",
    "> - See Returning a View versus Copy.\n",
    "https://pandas.pydata.org/docs/user_guide/indexing.html#indexing-view-versus-copy"
   ]
  },
  {
   "cell_type": "markdown",
   "id": "97a1523c",
   "metadata": {
    "papermill": {
     "duration": 0.058653,
     "end_time": "2022-09-26T13:11:15.079657",
     "exception": false,
     "start_time": "2022-09-26T13:11:15.021004",
     "status": "completed"
    },
    "tags": []
   },
   "source": [
    "> ## ⚠️Warning\n",
    "> - .loc is strict when you present slicers that are not compatible (or convertible) with the index type. For example using integers in a DatetimeIndex. These will raise a TypeError."
   ]
  },
  {
   "cell_type": "code",
   "execution_count": 101,
   "id": "01f68cb3",
   "metadata": {
    "execution": {
     "iopub.execute_input": "2022-09-26T13:11:15.197840Z",
     "iopub.status.busy": "2022-09-26T13:11:15.197477Z",
     "iopub.status.idle": "2022-09-26T13:11:15.209807Z",
     "shell.execute_reply": "2022-09-26T13:11:15.208905Z"
    },
    "papermill": {
     "duration": 0.074015,
     "end_time": "2022-09-26T13:11:15.211832",
     "exception": false,
     "start_time": "2022-09-26T13:11:15.137817",
     "status": "completed"
    },
    "tags": []
   },
   "outputs": [
    {
     "data": {
      "text/html": [
       "<div>\n",
       "<style scoped>\n",
       "    .dataframe tbody tr th:only-of-type {\n",
       "        vertical-align: middle;\n",
       "    }\n",
       "\n",
       "    .dataframe tbody tr th {\n",
       "        vertical-align: top;\n",
       "    }\n",
       "\n",
       "    .dataframe thead th {\n",
       "        text-align: right;\n",
       "    }\n",
       "</style>\n",
       "<table border=\"1\" class=\"dataframe\">\n",
       "  <thead>\n",
       "    <tr style=\"text-align: right;\">\n",
       "      <th></th>\n",
       "      <th>A</th>\n",
       "      <th>B</th>\n",
       "      <th>C</th>\n",
       "      <th>D</th>\n",
       "    </tr>\n",
       "  </thead>\n",
       "  <tbody>\n",
       "    <tr>\n",
       "      <th>2013-01-01</th>\n",
       "      <td>-0.485953</td>\n",
       "      <td>1.011875</td>\n",
       "      <td>1.750788</td>\n",
       "      <td>-0.928115</td>\n",
       "    </tr>\n",
       "    <tr>\n",
       "      <th>2013-01-02</th>\n",
       "      <td>-0.700877</td>\n",
       "      <td>1.090630</td>\n",
       "      <td>-0.432377</td>\n",
       "      <td>-0.627016</td>\n",
       "    </tr>\n",
       "    <tr>\n",
       "      <th>2013-01-03</th>\n",
       "      <td>0.072627</td>\n",
       "      <td>0.384167</td>\n",
       "      <td>-1.070459</td>\n",
       "      <td>3.111099</td>\n",
       "    </tr>\n",
       "    <tr>\n",
       "      <th>2013-01-04</th>\n",
       "      <td>-1.430359</td>\n",
       "      <td>1.085304</td>\n",
       "      <td>-1.427854</td>\n",
       "      <td>0.992054</td>\n",
       "    </tr>\n",
       "    <tr>\n",
       "      <th>2013-01-05</th>\n",
       "      <td>-1.222467</td>\n",
       "      <td>0.822693</td>\n",
       "      <td>0.699189</td>\n",
       "      <td>0.271352</td>\n",
       "    </tr>\n",
       "  </tbody>\n",
       "</table>\n",
       "</div>"
      ],
      "text/plain": [
       "                   A         B         C         D\n",
       "2013-01-01 -0.485953  1.011875  1.750788 -0.928115\n",
       "2013-01-02 -0.700877  1.090630 -0.432377 -0.627016\n",
       "2013-01-03  0.072627  0.384167 -1.070459  3.111099\n",
       "2013-01-04 -1.430359  1.085304 -1.427854  0.992054\n",
       "2013-01-05 -1.222467  0.822693  0.699189  0.271352"
      ]
     },
     "execution_count": 101,
     "metadata": {},
     "output_type": "execute_result"
    }
   ],
   "source": [
    "                     #giving 2-D array\n",
    "    \n",
    "dfl = pd.DataFrame(np.random.randn(5, 4),       \n",
    "                   columns=list('ABCD'),\n",
    "                   index=pd.date_range('20130101', periods=5))\n",
    "dfl"
   ]
  },
  {
   "cell_type": "markdown",
   "id": "f13811b9",
   "metadata": {
    "execution": {
     "iopub.execute_input": "2022-09-25T05:24:56.677947Z",
     "iopub.status.busy": "2022-09-25T05:24:56.677417Z",
     "iopub.status.idle": "2022-09-25T05:24:56.766054Z",
     "shell.execute_reply": "2022-09-25T05:24:56.764202Z",
     "shell.execute_reply.started": "2022-09-25T05:24:56.677905Z"
    },
    "papermill": {
     "duration": 0.063797,
     "end_time": "2022-09-26T13:11:15.334537",
     "exception": false,
     "start_time": "2022-09-26T13:11:15.270740",
     "status": "completed"
    },
    "tags": []
   },
   "source": [
    "``` python\n",
    "dfl.loc[2:3]\n",
    "\n",
    "---------------------------------------------------------------------------\n",
    "TypeError                                 Traceback (most recent call last)\n",
    "/tmp/ipykernel_17/564008759.py in <module>\n",
    "----> 1 dfl.loc[2:3]\n",
    "\n",
    "\"all other error removed\"\n",
    "\n",
    "TypeError: cannot do slice indexing on DatetimeIndex with these indexers [2] of type int\n",
    "\n",
    "```"
   ]
  },
  {
   "cell_type": "code",
   "execution_count": 102,
   "id": "b1045e31",
   "metadata": {
    "execution": {
     "iopub.execute_input": "2022-09-26T13:11:15.455080Z",
     "iopub.status.busy": "2022-09-26T13:11:15.453343Z",
     "iopub.status.idle": "2022-09-26T13:11:15.467993Z",
     "shell.execute_reply": "2022-09-26T13:11:15.466988Z"
    },
    "papermill": {
     "duration": 0.076732,
     "end_time": "2022-09-26T13:11:15.469999",
     "exception": false,
     "start_time": "2022-09-26T13:11:15.393267",
     "status": "completed"
    },
    "tags": []
   },
   "outputs": [
    {
     "data": {
      "text/html": [
       "<div>\n",
       "<style scoped>\n",
       "    .dataframe tbody tr th:only-of-type {\n",
       "        vertical-align: middle;\n",
       "    }\n",
       "\n",
       "    .dataframe tbody tr th {\n",
       "        vertical-align: top;\n",
       "    }\n",
       "\n",
       "    .dataframe thead th {\n",
       "        text-align: right;\n",
       "    }\n",
       "</style>\n",
       "<table border=\"1\" class=\"dataframe\">\n",
       "  <thead>\n",
       "    <tr style=\"text-align: right;\">\n",
       "      <th></th>\n",
       "      <th>A</th>\n",
       "      <th>B</th>\n",
       "      <th>C</th>\n",
       "      <th>D</th>\n",
       "    </tr>\n",
       "  </thead>\n",
       "  <tbody>\n",
       "    <tr>\n",
       "      <th>2013-01-02</th>\n",
       "      <td>-0.700877</td>\n",
       "      <td>1.090630</td>\n",
       "      <td>-0.432377</td>\n",
       "      <td>-0.627016</td>\n",
       "    </tr>\n",
       "    <tr>\n",
       "      <th>2013-01-03</th>\n",
       "      <td>0.072627</td>\n",
       "      <td>0.384167</td>\n",
       "      <td>-1.070459</td>\n",
       "      <td>3.111099</td>\n",
       "    </tr>\n",
       "    <tr>\n",
       "      <th>2013-01-04</th>\n",
       "      <td>-1.430359</td>\n",
       "      <td>1.085304</td>\n",
       "      <td>-1.427854</td>\n",
       "      <td>0.992054</td>\n",
       "    </tr>\n",
       "  </tbody>\n",
       "</table>\n",
       "</div>"
      ],
      "text/plain": [
       "                   A         B         C         D\n",
       "2013-01-02 -0.700877  1.090630 -0.432377 -0.627016\n",
       "2013-01-03  0.072627  0.384167 -1.070459  3.111099\n",
       "2013-01-04 -1.430359  1.085304 -1.427854  0.992054"
      ]
     },
     "execution_count": 102,
     "metadata": {},
     "output_type": "execute_result"
    }
   ],
   "source": [
    "dfl.loc['20130102':'20130104']      #right indexing for DateTime indeixng data "
   ]
  },
  {
   "cell_type": "markdown",
   "id": "bdd6a2c9",
   "metadata": {
    "papermill": {
     "duration": 0.058388,
     "end_time": "2022-09-26T13:11:15.587267",
     "exception": false,
     "start_time": "2022-09-26T13:11:15.528879",
     "status": "completed"
    },
    "tags": []
   },
   "source": [
    "- pandas provides a suite of methods in order to have **purely label based indexing.** This is a strict inclusion based protocol. Every label asked for must be in the index, or a **KeyError** will be raised. When slicing, both the start bound **AND** the stop bound are included, if present in the index. Integers are valid labels, but they refer to the label **and not the position.**\n",
    "\n",
    "- The .loc attribute is the primary access method. The following are valid inputs:\n",
    "\n",
    "    - A single label, e.g. 5 or 'a' (Note that 5 is interpreted as a label of the index. This use is not an integer position along the index.).\n",
    "    - A list or array of labels ['a', 'b', 'c'].\n",
    "    - A slice object with labels 'a':'f' (Note that contrary to usual Python slices, **both** the start and the stop are included, when present in the index! See Slicing with labels.\n",
    "    - A boolean array.\n",
    "    - A **callable**, see Selection By Callable."
   ]
  },
  {
   "cell_type": "code",
   "execution_count": 103,
   "id": "dc12dd67",
   "metadata": {
    "execution": {
     "iopub.execute_input": "2022-09-26T13:11:15.706547Z",
     "iopub.status.busy": "2022-09-26T13:11:15.706217Z",
     "iopub.status.idle": "2022-09-26T13:11:15.715609Z",
     "shell.execute_reply": "2022-09-26T13:11:15.714629Z"
    },
    "papermill": {
     "duration": 0.071269,
     "end_time": "2022-09-26T13:11:15.717681",
     "exception": false,
     "start_time": "2022-09-26T13:11:15.646412",
     "status": "completed"
    },
    "tags": []
   },
   "outputs": [
    {
     "data": {
      "text/plain": [
       "a   -1.311940\n",
       "b    0.242249\n",
       "c   -0.225256\n",
       "d   -0.217917\n",
       "e    0.235170\n",
       "f    1.075337\n",
       "dtype: float64"
      ]
     },
     "execution_count": 103,
     "metadata": {},
     "output_type": "execute_result"
    }
   ],
   "source": [
    "s1 = pd.Series(np.random.randn(6), index=list('abcdef')) #creating Series s1\n",
    "s1              #printing s1"
   ]
  },
  {
   "cell_type": "code",
   "execution_count": 104,
   "id": "0b96ce75",
   "metadata": {
    "execution": {
     "iopub.execute_input": "2022-09-26T13:11:15.837541Z",
     "iopub.status.busy": "2022-09-26T13:11:15.837229Z",
     "iopub.status.idle": "2022-09-26T13:11:15.844272Z",
     "shell.execute_reply": "2022-09-26T13:11:15.843385Z"
    },
    "papermill": {
     "duration": 0.069177,
     "end_time": "2022-09-26T13:11:15.846192",
     "exception": false,
     "start_time": "2022-09-26T13:11:15.777015",
     "status": "completed"
    },
    "tags": []
   },
   "outputs": [
    {
     "data": {
      "text/plain": [
       "d   -0.217917\n",
       "e    0.235170\n",
       "f    1.075337\n",
       "dtype: float64"
      ]
     },
     "execution_count": 104,
     "metadata": {},
     "output_type": "execute_result"
    }
   ],
   "source": [
    "s1[3:]        #By indexing "
   ]
  },
  {
   "cell_type": "code",
   "execution_count": 105,
   "id": "47e0dd92",
   "metadata": {
    "execution": {
     "iopub.execute_input": "2022-09-26T13:11:15.966039Z",
     "iopub.status.busy": "2022-09-26T13:11:15.965743Z",
     "iopub.status.idle": "2022-09-26T13:11:15.972654Z",
     "shell.execute_reply": "2022-09-26T13:11:15.971764Z"
    },
    "papermill": {
     "duration": 0.068888,
     "end_time": "2022-09-26T13:11:15.974576",
     "exception": false,
     "start_time": "2022-09-26T13:11:15.905688",
     "status": "completed"
    },
    "tags": []
   },
   "outputs": [
    {
     "data": {
      "text/plain": [
       "c   -0.225256\n",
       "d   -0.217917\n",
       "e    0.235170\n",
       "f    1.075337\n",
       "dtype: float64"
      ]
     },
     "execution_count": 105,
     "metadata": {},
     "output_type": "execute_result"
    }
   ],
   "source": [
    "s1[\"c\":]      #by indexing label "
   ]
  },
  {
   "cell_type": "code",
   "execution_count": 106,
   "id": "31df32c1",
   "metadata": {
    "execution": {
     "iopub.execute_input": "2022-09-26T13:11:16.098168Z",
     "iopub.status.busy": "2022-09-26T13:11:16.097509Z",
     "iopub.status.idle": "2022-09-26T13:11:16.105050Z",
     "shell.execute_reply": "2022-09-26T13:11:16.104150Z"
    },
    "papermill": {
     "duration": 0.072571,
     "end_time": "2022-09-26T13:11:16.107228",
     "exception": false,
     "start_time": "2022-09-26T13:11:16.034657",
     "status": "completed"
    },
    "tags": []
   },
   "outputs": [
    {
     "data": {
      "text/plain": [
       "c   -0.225256\n",
       "d   -0.217917\n",
       "e    0.235170\n",
       "f    1.075337\n",
       "dtype: float64"
      ]
     },
     "execution_count": 106,
     "metadata": {},
     "output_type": "execute_result"
    }
   ],
   "source": [
    "s1.loc['c':]      #asscessing by label "
   ]
  },
  {
   "cell_type": "code",
   "execution_count": 107,
   "id": "0380f0ef",
   "metadata": {
    "execution": {
     "iopub.execute_input": "2022-09-26T13:11:16.229819Z",
     "iopub.status.busy": "2022-09-26T13:11:16.228757Z",
     "iopub.status.idle": "2022-09-26T13:11:16.236971Z",
     "shell.execute_reply": "2022-09-26T13:11:16.235955Z"
    },
    "papermill": {
     "duration": 0.071757,
     "end_time": "2022-09-26T13:11:16.239007",
     "exception": false,
     "start_time": "2022-09-26T13:11:16.167250",
     "status": "completed"
    },
    "tags": []
   },
   "outputs": [
    {
     "data": {
      "text/plain": [
       "a   -1.311940\n",
       "b    0.242249\n",
       "c    0.000000\n",
       "d    0.000000\n",
       "e    0.000000\n",
       "f    0.000000\n",
       "dtype: float64"
      ]
     },
     "execution_count": 107,
     "metadata": {},
     "output_type": "execute_result"
    }
   ],
   "source": [
    "s1.loc['c':] = 0    #Assinging value to Series\n",
    "s1"
   ]
  },
  {
   "cell_type": "markdown",
   "id": "a81c90be",
   "metadata": {
    "papermill": {
     "duration": 0.060074,
     "end_time": "2022-09-26T13:11:16.358791",
     "exception": false,
     "start_time": "2022-09-26T13:11:16.298717",
     "status": "completed"
    },
    "tags": []
   },
   "source": [
    "**With DataFrame**"
   ]
  },
  {
   "cell_type": "code",
   "execution_count": 108,
   "id": "9090042a",
   "metadata": {
    "execution": {
     "iopub.execute_input": "2022-09-26T13:11:16.480781Z",
     "iopub.status.busy": "2022-09-26T13:11:16.479831Z",
     "iopub.status.idle": "2022-09-26T13:11:16.492324Z",
     "shell.execute_reply": "2022-09-26T13:11:16.491289Z"
    },
    "papermill": {
     "duration": 0.075742,
     "end_time": "2022-09-26T13:11:16.494387",
     "exception": false,
     "start_time": "2022-09-26T13:11:16.418645",
     "status": "completed"
    },
    "tags": []
   },
   "outputs": [
    {
     "data": {
      "text/html": [
       "<div>\n",
       "<style scoped>\n",
       "    .dataframe tbody tr th:only-of-type {\n",
       "        vertical-align: middle;\n",
       "    }\n",
       "\n",
       "    .dataframe tbody tr th {\n",
       "        vertical-align: top;\n",
       "    }\n",
       "\n",
       "    .dataframe thead th {\n",
       "        text-align: right;\n",
       "    }\n",
       "</style>\n",
       "<table border=\"1\" class=\"dataframe\">\n",
       "  <thead>\n",
       "    <tr style=\"text-align: right;\">\n",
       "      <th></th>\n",
       "      <th>A</th>\n",
       "      <th>B</th>\n",
       "      <th>C</th>\n",
       "      <th>D</th>\n",
       "    </tr>\n",
       "  </thead>\n",
       "  <tbody>\n",
       "    <tr>\n",
       "      <th>a</th>\n",
       "      <td>0.918321</td>\n",
       "      <td>0.328100</td>\n",
       "      <td>-0.465137</td>\n",
       "      <td>0.693694</td>\n",
       "    </tr>\n",
       "    <tr>\n",
       "      <th>b</th>\n",
       "      <td>0.888259</td>\n",
       "      <td>-0.018651</td>\n",
       "      <td>-1.095078</td>\n",
       "      <td>1.008100</td>\n",
       "    </tr>\n",
       "    <tr>\n",
       "      <th>c</th>\n",
       "      <td>-1.344920</td>\n",
       "      <td>-0.500116</td>\n",
       "      <td>1.028854</td>\n",
       "      <td>0.143953</td>\n",
       "    </tr>\n",
       "    <tr>\n",
       "      <th>d</th>\n",
       "      <td>0.218985</td>\n",
       "      <td>1.013660</td>\n",
       "      <td>-0.758705</td>\n",
       "      <td>-0.370961</td>\n",
       "    </tr>\n",
       "    <tr>\n",
       "      <th>e</th>\n",
       "      <td>0.349960</td>\n",
       "      <td>0.000729</td>\n",
       "      <td>-0.732638</td>\n",
       "      <td>-0.272120</td>\n",
       "    </tr>\n",
       "    <tr>\n",
       "      <th>f</th>\n",
       "      <td>0.687011</td>\n",
       "      <td>-2.384721</td>\n",
       "      <td>0.712800</td>\n",
       "      <td>-1.138444</td>\n",
       "    </tr>\n",
       "  </tbody>\n",
       "</table>\n",
       "</div>"
      ],
      "text/plain": [
       "          A         B         C         D\n",
       "a  0.918321  0.328100 -0.465137  0.693694\n",
       "b  0.888259 -0.018651 -1.095078  1.008100\n",
       "c -1.344920 -0.500116  1.028854  0.143953\n",
       "d  0.218985  1.013660 -0.758705 -0.370961\n",
       "e  0.349960  0.000729 -0.732638 -0.272120\n",
       "f  0.687011 -2.384721  0.712800 -1.138444"
      ]
     },
     "execution_count": 108,
     "metadata": {},
     "output_type": "execute_result"
    }
   ],
   "source": [
    "df1 = pd.DataFrame(np.random.randn(6, 4),\n",
    "                   index=list('abcdef'),\n",
    "                   columns=list('ABCD'))\n",
    "df1"
   ]
  },
  {
   "cell_type": "code",
   "execution_count": 109,
   "id": "de01af7a",
   "metadata": {
    "execution": {
     "iopub.execute_input": "2022-09-26T13:11:16.634497Z",
     "iopub.status.busy": "2022-09-26T13:11:16.634146Z",
     "iopub.status.idle": "2022-09-26T13:11:16.645551Z",
     "shell.execute_reply": "2022-09-26T13:11:16.644691Z"
    },
    "papermill": {
     "duration": 0.0928,
     "end_time": "2022-09-26T13:11:16.647631",
     "exception": false,
     "start_time": "2022-09-26T13:11:16.554831",
     "status": "completed"
    },
    "tags": []
   },
   "outputs": [
    {
     "data": {
      "text/html": [
       "<div>\n",
       "<style scoped>\n",
       "    .dataframe tbody tr th:only-of-type {\n",
       "        vertical-align: middle;\n",
       "    }\n",
       "\n",
       "    .dataframe tbody tr th {\n",
       "        vertical-align: top;\n",
       "    }\n",
       "\n",
       "    .dataframe thead th {\n",
       "        text-align: right;\n",
       "    }\n",
       "</style>\n",
       "<table border=\"1\" class=\"dataframe\">\n",
       "  <thead>\n",
       "    <tr style=\"text-align: right;\">\n",
       "      <th></th>\n",
       "      <th>A</th>\n",
       "      <th>B</th>\n",
       "      <th>C</th>\n",
       "      <th>D</th>\n",
       "    </tr>\n",
       "  </thead>\n",
       "  <tbody>\n",
       "    <tr>\n",
       "      <th>d</th>\n",
       "      <td>0.218985</td>\n",
       "      <td>1.013660</td>\n",
       "      <td>-0.758705</td>\n",
       "      <td>-0.370961</td>\n",
       "    </tr>\n",
       "    <tr>\n",
       "      <th>e</th>\n",
       "      <td>0.349960</td>\n",
       "      <td>0.000729</td>\n",
       "      <td>-0.732638</td>\n",
       "      <td>-0.272120</td>\n",
       "    </tr>\n",
       "    <tr>\n",
       "      <th>f</th>\n",
       "      <td>0.687011</td>\n",
       "      <td>-2.384721</td>\n",
       "      <td>0.712800</td>\n",
       "      <td>-1.138444</td>\n",
       "    </tr>\n",
       "  </tbody>\n",
       "</table>\n",
       "</div>"
      ],
      "text/plain": [
       "          A         B         C         D\n",
       "d  0.218985  1.013660 -0.758705 -0.370961\n",
       "e  0.349960  0.000729 -0.732638 -0.272120\n",
       "f  0.687011 -2.384721  0.712800 -1.138444"
      ]
     },
     "execution_count": 109,
     "metadata": {},
     "output_type": "execute_result"
    }
   ],
   "source": [
    "df1[3:]"
   ]
  },
  {
   "cell_type": "code",
   "execution_count": 110,
   "id": "1e611619",
   "metadata": {
    "execution": {
     "iopub.execute_input": "2022-09-26T13:11:16.769048Z",
     "iopub.status.busy": "2022-09-26T13:11:16.768177Z",
     "iopub.status.idle": "2022-09-26T13:11:16.779062Z",
     "shell.execute_reply": "2022-09-26T13:11:16.778066Z"
    },
    "papermill": {
     "duration": 0.073829,
     "end_time": "2022-09-26T13:11:16.781181",
     "exception": false,
     "start_time": "2022-09-26T13:11:16.707352",
     "status": "completed"
    },
    "tags": []
   },
   "outputs": [
    {
     "data": {
      "text/html": [
       "<div>\n",
       "<style scoped>\n",
       "    .dataframe tbody tr th:only-of-type {\n",
       "        vertical-align: middle;\n",
       "    }\n",
       "\n",
       "    .dataframe tbody tr th {\n",
       "        vertical-align: top;\n",
       "    }\n",
       "\n",
       "    .dataframe thead th {\n",
       "        text-align: right;\n",
       "    }\n",
       "</style>\n",
       "<table border=\"1\" class=\"dataframe\">\n",
       "  <thead>\n",
       "    <tr style=\"text-align: right;\">\n",
       "      <th></th>\n",
       "      <th>A</th>\n",
       "      <th>B</th>\n",
       "      <th>C</th>\n",
       "      <th>D</th>\n",
       "    </tr>\n",
       "  </thead>\n",
       "  <tbody>\n",
       "    <tr>\n",
       "      <th>c</th>\n",
       "      <td>-1.344920</td>\n",
       "      <td>-0.500116</td>\n",
       "      <td>1.028854</td>\n",
       "      <td>0.143953</td>\n",
       "    </tr>\n",
       "    <tr>\n",
       "      <th>d</th>\n",
       "      <td>0.218985</td>\n",
       "      <td>1.013660</td>\n",
       "      <td>-0.758705</td>\n",
       "      <td>-0.370961</td>\n",
       "    </tr>\n",
       "    <tr>\n",
       "      <th>e</th>\n",
       "      <td>0.349960</td>\n",
       "      <td>0.000729</td>\n",
       "      <td>-0.732638</td>\n",
       "      <td>-0.272120</td>\n",
       "    </tr>\n",
       "    <tr>\n",
       "      <th>f</th>\n",
       "      <td>0.687011</td>\n",
       "      <td>-2.384721</td>\n",
       "      <td>0.712800</td>\n",
       "      <td>-1.138444</td>\n",
       "    </tr>\n",
       "  </tbody>\n",
       "</table>\n",
       "</div>"
      ],
      "text/plain": [
       "          A         B         C         D\n",
       "c -1.344920 -0.500116  1.028854  0.143953\n",
       "d  0.218985  1.013660 -0.758705 -0.370961\n",
       "e  0.349960  0.000729 -0.732638 -0.272120\n",
       "f  0.687011 -2.384721  0.712800 -1.138444"
      ]
     },
     "execution_count": 110,
     "metadata": {},
     "output_type": "execute_result"
    }
   ],
   "source": [
    "df1[\"c\":]"
   ]
  },
  {
   "cell_type": "code",
   "execution_count": 111,
   "id": "4a1e6301",
   "metadata": {
    "execution": {
     "iopub.execute_input": "2022-09-26T13:11:16.903732Z",
     "iopub.status.busy": "2022-09-26T13:11:16.902762Z",
     "iopub.status.idle": "2022-09-26T13:11:16.911022Z",
     "shell.execute_reply": "2022-09-26T13:11:16.909837Z"
    },
    "papermill": {
     "duration": 0.071882,
     "end_time": "2022-09-26T13:11:16.913940",
     "exception": false,
     "start_time": "2022-09-26T13:11:16.842058",
     "status": "completed"
    },
    "tags": []
   },
   "outputs": [
    {
     "data": {
      "text/plain": [
       "A    0.918321\n",
       "B    0.328100\n",
       "C   -0.465137\n",
       "D    0.693694\n",
       "Name: a, dtype: float64"
      ]
     },
     "execution_count": 111,
     "metadata": {},
     "output_type": "execute_result"
    }
   ],
   "source": [
    "df1.loc[\"a\"] #value of column a only #For getting a cross section using a label (equivalent to df.xs('a')):"
   ]
  },
  {
   "cell_type": "code",
   "execution_count": 112,
   "id": "96e8fb70",
   "metadata": {
    "execution": {
     "iopub.execute_input": "2022-09-26T13:11:17.097876Z",
     "iopub.status.busy": "2022-09-26T13:11:17.097112Z",
     "iopub.status.idle": "2022-09-26T13:11:17.112551Z",
     "shell.execute_reply": "2022-09-26T13:11:17.111746Z"
    },
    "papermill": {
     "duration": 0.121948,
     "end_time": "2022-09-26T13:11:17.114765",
     "exception": false,
     "start_time": "2022-09-26T13:11:16.992817",
     "status": "completed"
    },
    "tags": []
   },
   "outputs": [
    {
     "data": {
      "text/plain": [
       "A    0.918321\n",
       "B    0.328100\n",
       "C   -0.465137\n",
       "D    0.693694\n",
       "Name: a, dtype: float64"
      ]
     },
     "execution_count": 112,
     "metadata": {},
     "output_type": "execute_result"
    }
   ],
   "source": [
    "df1.xs('a')  #Both are same df1.loc[\"a\"]"
   ]
  },
  {
   "cell_type": "code",
   "execution_count": 113,
   "id": "863383dc",
   "metadata": {
    "execution": {
     "iopub.execute_input": "2022-09-26T13:11:17.302280Z",
     "iopub.status.busy": "2022-09-26T13:11:17.301722Z",
     "iopub.status.idle": "2022-09-26T13:11:17.319356Z",
     "shell.execute_reply": "2022-09-26T13:11:17.318478Z"
    },
    "papermill": {
     "duration": 0.116352,
     "end_time": "2022-09-26T13:11:17.325485",
     "exception": false,
     "start_time": "2022-09-26T13:11:17.209133",
     "status": "completed"
    },
    "tags": []
   },
   "outputs": [
    {
     "data": {
      "text/html": [
       "<div>\n",
       "<style scoped>\n",
       "    .dataframe tbody tr th:only-of-type {\n",
       "        vertical-align: middle;\n",
       "    }\n",
       "\n",
       "    .dataframe tbody tr th {\n",
       "        vertical-align: top;\n",
       "    }\n",
       "\n",
       "    .dataframe thead th {\n",
       "        text-align: right;\n",
       "    }\n",
       "</style>\n",
       "<table border=\"1\" class=\"dataframe\">\n",
       "  <thead>\n",
       "    <tr style=\"text-align: right;\">\n",
       "      <th></th>\n",
       "      <th>A</th>\n",
       "      <th>B</th>\n",
       "      <th>C</th>\n",
       "      <th>D</th>\n",
       "    </tr>\n",
       "  </thead>\n",
       "  <tbody>\n",
       "    <tr>\n",
       "      <th>a</th>\n",
       "      <td>0.918321</td>\n",
       "      <td>0.328100</td>\n",
       "      <td>-0.465137</td>\n",
       "      <td>0.693694</td>\n",
       "    </tr>\n",
       "    <tr>\n",
       "      <th>c</th>\n",
       "      <td>-1.344920</td>\n",
       "      <td>-0.500116</td>\n",
       "      <td>1.028854</td>\n",
       "      <td>0.143953</td>\n",
       "    </tr>\n",
       "    <tr>\n",
       "      <th>d</th>\n",
       "      <td>0.218985</td>\n",
       "      <td>1.013660</td>\n",
       "      <td>-0.758705</td>\n",
       "      <td>-0.370961</td>\n",
       "    </tr>\n",
       "  </tbody>\n",
       "</table>\n",
       "</div>"
      ],
      "text/plain": [
       "          A         B         C         D\n",
       "a  0.918321  0.328100 -0.465137  0.693694\n",
       "c -1.344920 -0.500116  1.028854  0.143953\n",
       "d  0.218985  1.013660 -0.758705 -0.370961"
      ]
     },
     "execution_count": 113,
     "metadata": {},
     "output_type": "execute_result"
    }
   ],
   "source": [
    "df1.loc[[\"a\",\"c\",\"d\"]]"
   ]
  },
  {
   "cell_type": "code",
   "execution_count": 114,
   "id": "6e4033cf",
   "metadata": {
    "execution": {
     "iopub.execute_input": "2022-09-26T13:11:17.544011Z",
     "iopub.status.busy": "2022-09-26T13:11:17.543544Z",
     "iopub.status.idle": "2022-09-26T13:11:17.556902Z",
     "shell.execute_reply": "2022-09-26T13:11:17.556070Z"
    },
    "papermill": {
     "duration": 0.13103,
     "end_time": "2022-09-26T13:11:17.561965",
     "exception": false,
     "start_time": "2022-09-26T13:11:17.430935",
     "status": "completed"
    },
    "tags": []
   },
   "outputs": [
    {
     "data": {
      "text/html": [
       "<div>\n",
       "<style scoped>\n",
       "    .dataframe tbody tr th:only-of-type {\n",
       "        vertical-align: middle;\n",
       "    }\n",
       "\n",
       "    .dataframe tbody tr th {\n",
       "        vertical-align: top;\n",
       "    }\n",
       "\n",
       "    .dataframe thead th {\n",
       "        text-align: right;\n",
       "    }\n",
       "</style>\n",
       "<table border=\"1\" class=\"dataframe\">\n",
       "  <thead>\n",
       "    <tr style=\"text-align: right;\">\n",
       "      <th></th>\n",
       "      <th>A</th>\n",
       "      <th>B</th>\n",
       "      <th>C</th>\n",
       "      <th>D</th>\n",
       "    </tr>\n",
       "  </thead>\n",
       "  <tbody>\n",
       "    <tr>\n",
       "      <th>a</th>\n",
       "      <td>0.918321</td>\n",
       "      <td>0.328100</td>\n",
       "      <td>-0.465137</td>\n",
       "      <td>0.693694</td>\n",
       "    </tr>\n",
       "    <tr>\n",
       "      <th>c</th>\n",
       "      <td>-1.344920</td>\n",
       "      <td>-0.500116</td>\n",
       "      <td>1.028854</td>\n",
       "      <td>0.143953</td>\n",
       "    </tr>\n",
       "    <tr>\n",
       "      <th>d</th>\n",
       "      <td>0.218985</td>\n",
       "      <td>1.013660</td>\n",
       "      <td>-0.758705</td>\n",
       "      <td>-0.370961</td>\n",
       "    </tr>\n",
       "  </tbody>\n",
       "</table>\n",
       "</div>"
      ],
      "text/plain": [
       "          A         B         C         D\n",
       "a  0.918321  0.328100 -0.465137  0.693694\n",
       "c -1.344920 -0.500116  1.028854  0.143953\n",
       "d  0.218985  1.013660 -0.758705 -0.370961"
      ]
     },
     "execution_count": 114,
     "metadata": {},
     "output_type": "execute_result"
    }
   ],
   "source": [
    "df1.loc[[\"a\",\"c\",\"d\"],:]     #Before \",\" rows and after \",\" Colummns "
   ]
  },
  {
   "cell_type": "code",
   "execution_count": 115,
   "id": "1d0e14a3",
   "metadata": {
    "execution": {
     "iopub.execute_input": "2022-09-26T13:11:17.749547Z",
     "iopub.status.busy": "2022-09-26T13:11:17.749148Z",
     "iopub.status.idle": "2022-09-26T13:11:17.764793Z",
     "shell.execute_reply": "2022-09-26T13:11:17.763965Z"
    },
    "papermill": {
     "duration": 0.111037,
     "end_time": "2022-09-26T13:11:17.767069",
     "exception": false,
     "start_time": "2022-09-26T13:11:17.656032",
     "status": "completed"
    },
    "tags": []
   },
   "outputs": [
    {
     "data": {
      "text/html": [
       "<div>\n",
       "<style scoped>\n",
       "    .dataframe tbody tr th:only-of-type {\n",
       "        vertical-align: middle;\n",
       "    }\n",
       "\n",
       "    .dataframe tbody tr th {\n",
       "        vertical-align: top;\n",
       "    }\n",
       "\n",
       "    .dataframe thead th {\n",
       "        text-align: right;\n",
       "    }\n",
       "</style>\n",
       "<table border=\"1\" class=\"dataframe\">\n",
       "  <thead>\n",
       "    <tr style=\"text-align: right;\">\n",
       "      <th></th>\n",
       "      <th>A</th>\n",
       "      <th>B</th>\n",
       "    </tr>\n",
       "  </thead>\n",
       "  <tbody>\n",
       "    <tr>\n",
       "      <th>a</th>\n",
       "      <td>0.918321</td>\n",
       "      <td>0.328100</td>\n",
       "    </tr>\n",
       "    <tr>\n",
       "      <th>c</th>\n",
       "      <td>-1.344920</td>\n",
       "      <td>-0.500116</td>\n",
       "    </tr>\n",
       "    <tr>\n",
       "      <th>d</th>\n",
       "      <td>0.218985</td>\n",
       "      <td>1.013660</td>\n",
       "    </tr>\n",
       "  </tbody>\n",
       "</table>\n",
       "</div>"
      ],
      "text/plain": [
       "          A         B\n",
       "a  0.918321  0.328100\n",
       "c -1.344920 -0.500116\n",
       "d  0.218985  1.013660"
      ]
     },
     "execution_count": 115,
     "metadata": {},
     "output_type": "execute_result"
    }
   ],
   "source": [
    "df1.loc[[\"a\",\"c\",\"d\"],\"A\":\"B\"]"
   ]
  },
  {
   "cell_type": "code",
   "execution_count": 116,
   "id": "8657b170",
   "metadata": {
    "execution": {
     "iopub.execute_input": "2022-09-26T13:11:17.954254Z",
     "iopub.status.busy": "2022-09-26T13:11:17.953873Z",
     "iopub.status.idle": "2022-09-26T13:11:17.968131Z",
     "shell.execute_reply": "2022-09-26T13:11:17.967332Z"
    },
    "papermill": {
     "duration": 0.110497,
     "end_time": "2022-09-26T13:11:17.970752",
     "exception": false,
     "start_time": "2022-09-26T13:11:17.860255",
     "status": "completed"
    },
    "tags": []
   },
   "outputs": [
    {
     "data": {
      "text/html": [
       "<div>\n",
       "<style scoped>\n",
       "    .dataframe tbody tr th:only-of-type {\n",
       "        vertical-align: middle;\n",
       "    }\n",
       "\n",
       "    .dataframe tbody tr th {\n",
       "        vertical-align: top;\n",
       "    }\n",
       "\n",
       "    .dataframe thead th {\n",
       "        text-align: right;\n",
       "    }\n",
       "</style>\n",
       "<table border=\"1\" class=\"dataframe\">\n",
       "  <thead>\n",
       "    <tr style=\"text-align: right;\">\n",
       "      <th></th>\n",
       "      <th>C</th>\n",
       "      <th>D</th>\n",
       "    </tr>\n",
       "  </thead>\n",
       "  <tbody>\n",
       "    <tr>\n",
       "      <th>d</th>\n",
       "      <td>-0.758705</td>\n",
       "      <td>-0.370961</td>\n",
       "    </tr>\n",
       "    <tr>\n",
       "      <th>e</th>\n",
       "      <td>-0.732638</td>\n",
       "      <td>-0.272120</td>\n",
       "    </tr>\n",
       "    <tr>\n",
       "      <th>f</th>\n",
       "      <td>0.712800</td>\n",
       "      <td>-1.138444</td>\n",
       "    </tr>\n",
       "  </tbody>\n",
       "</table>\n",
       "</div>"
      ],
      "text/plain": [
       "          C         D\n",
       "d -0.758705 -0.370961\n",
       "e -0.732638 -0.272120\n",
       "f  0.712800 -1.138444"
      ]
     },
     "execution_count": 116,
     "metadata": {},
     "output_type": "execute_result"
    }
   ],
   "source": [
    "df1.loc['d':,\"C\":\"D\"]"
   ]
  },
  {
   "cell_type": "code",
   "execution_count": 117,
   "id": "a5e9f397",
   "metadata": {
    "execution": {
     "iopub.execute_input": "2022-09-26T13:11:18.214816Z",
     "iopub.status.busy": "2022-09-26T13:11:18.214442Z",
     "iopub.status.idle": "2022-09-26T13:11:18.222053Z",
     "shell.execute_reply": "2022-09-26T13:11:18.221152Z"
    },
    "papermill": {
     "duration": 0.158601,
     "end_time": "2022-09-26T13:11:18.224103",
     "exception": false,
     "start_time": "2022-09-26T13:11:18.065502",
     "status": "completed"
    },
    "tags": []
   },
   "outputs": [
    {
     "data": {
      "text/plain": [
       "A     True\n",
       "B     True\n",
       "C    False\n",
       "D     True\n",
       "Name: a, dtype: bool"
      ]
     },
     "execution_count": 117,
     "metadata": {},
     "output_type": "execute_result"
    }
   ],
   "source": [
    "df1.loc['a'] > 0"
   ]
  },
  {
   "cell_type": "markdown",
   "id": "de8b549a",
   "metadata": {
    "papermill": {
     "duration": 0.061962,
     "end_time": "2022-09-26T13:11:18.347233",
     "exception": false,
     "start_time": "2022-09-26T13:11:18.285271",
     "status": "completed"
    },
    "tags": []
   },
   "source": []
  },
  {
   "cell_type": "markdown",
   "id": "677b7557",
   "metadata": {
    "papermill": {
     "duration": 0.060237,
     "end_time": "2022-09-26T13:11:18.467764",
     "exception": false,
     "start_time": "2022-09-26T13:11:18.407527",
     "status": "completed"
    },
    "tags": []
   },
   "source": [
    "### Selection by label | Slicing with labels :\n",
    "- When using .loc with slices, if both the start and the stop labels are present in the index, then elements located between the two (including them) are returned:"
   ]
  },
  {
   "cell_type": "code",
   "execution_count": 118,
   "id": "ab24f049",
   "metadata": {
    "execution": {
     "iopub.execute_input": "2022-09-26T13:11:18.591139Z",
     "iopub.status.busy": "2022-09-26T13:11:18.590160Z",
     "iopub.status.idle": "2022-09-26T13:11:18.598919Z",
     "shell.execute_reply": "2022-09-26T13:11:18.597661Z"
    },
    "papermill": {
     "duration": 0.072565,
     "end_time": "2022-09-26T13:11:18.600952",
     "exception": false,
     "start_time": "2022-09-26T13:11:18.528387",
     "status": "completed"
    },
    "tags": []
   },
   "outputs": [
    {
     "data": {
      "text/plain": [
       "0    a\n",
       "3    b\n",
       "2    c\n",
       "5    d\n",
       "4    e\n",
       "dtype: object"
      ]
     },
     "execution_count": 118,
     "metadata": {},
     "output_type": "execute_result"
    }
   ],
   "source": [
    "s = pd.Series(list('abcde'), index=[0, 3, 2, 5, 4]) #Value of s by not sorted index\n",
    "s"
   ]
  },
  {
   "cell_type": "code",
   "execution_count": 119,
   "id": "9c723bb8",
   "metadata": {
    "execution": {
     "iopub.execute_input": "2022-09-26T13:11:18.724356Z",
     "iopub.status.busy": "2022-09-26T13:11:18.723452Z",
     "iopub.status.idle": "2022-09-26T13:11:18.731351Z",
     "shell.execute_reply": "2022-09-26T13:11:18.730299Z"
    },
    "papermill": {
     "duration": 0.071984,
     "end_time": "2022-09-26T13:11:18.733430",
     "exception": false,
     "start_time": "2022-09-26T13:11:18.661446",
     "status": "completed"
    },
    "tags": []
   },
   "outputs": [
    {
     "data": {
      "text/plain": [
       "3    b\n",
       "2    c\n",
       "5    d\n",
       "dtype: object"
      ]
     },
     "execution_count": 119,
     "metadata": {},
     "output_type": "execute_result"
    }
   ],
   "source": [
    "s.loc[3:5]   # returned value fall between this 3 to 5 index"
   ]
  },
  {
   "cell_type": "markdown",
   "id": "139f9f85",
   "metadata": {
    "papermill": {
     "duration": 0.061055,
     "end_time": "2022-09-26T13:11:18.856031",
     "exception": false,
     "start_time": "2022-09-26T13:11:18.794976",
     "status": "completed"
    },
    "tags": []
   },
   "source": [
    "If at least one of the two is absent, but the index is sorted, and can be compared against start and stop labels, then slicing will still work as expected, by selecting labels which rank between the two:"
   ]
  },
  {
   "cell_type": "code",
   "execution_count": 120,
   "id": "7071b337",
   "metadata": {
    "execution": {
     "iopub.execute_input": "2022-09-26T13:11:18.979704Z",
     "iopub.status.busy": "2022-09-26T13:11:18.979334Z",
     "iopub.status.idle": "2022-09-26T13:11:18.986896Z",
     "shell.execute_reply": "2022-09-26T13:11:18.986027Z"
    },
    "papermill": {
     "duration": 0.071647,
     "end_time": "2022-09-26T13:11:18.988790",
     "exception": false,
     "start_time": "2022-09-26T13:11:18.917143",
     "status": "completed"
    },
    "tags": []
   },
   "outputs": [
    {
     "data": {
      "text/plain": [
       "0    a\n",
       "2    c\n",
       "3    b\n",
       "4    e\n",
       "5    d\n",
       "dtype: object"
      ]
     },
     "execution_count": 120,
     "metadata": {},
     "output_type": "execute_result"
    }
   ],
   "source": [
    "s.sort_index()  #sorting value here by index"
   ]
  },
  {
   "cell_type": "code",
   "execution_count": 121,
   "id": "6ee3c7fc",
   "metadata": {
    "execution": {
     "iopub.execute_input": "2022-09-26T13:11:19.112980Z",
     "iopub.status.busy": "2022-09-26T13:11:19.112667Z",
     "iopub.status.idle": "2022-09-26T13:11:19.121627Z",
     "shell.execute_reply": "2022-09-26T13:11:19.120690Z"
    },
    "papermill": {
     "duration": 0.073672,
     "end_time": "2022-09-26T13:11:19.123634",
     "exception": false,
     "start_time": "2022-09-26T13:11:19.049962",
     "status": "completed"
    },
    "tags": []
   },
   "outputs": [
    {
     "data": {
      "text/plain": [
       "3    b\n",
       "4    e\n",
       "5    d\n",
       "dtype: object"
      ]
     },
     "execution_count": 121,
     "metadata": {},
     "output_type": "execute_result"
    }
   ],
   "source": [
    "s.sort_index().loc[3:5]  #after sorting the values "
   ]
  },
  {
   "cell_type": "markdown",
   "id": "9c8a2a98",
   "metadata": {
    "papermill": {
     "duration": 0.061053,
     "end_time": "2022-09-26T13:11:19.245233",
     "exception": false,
     "start_time": "2022-09-26T13:11:19.184180",
     "status": "completed"
    },
    "tags": []
   },
   "source": [
    ">However, if at least one of the two is absent and the index is not sorted, an error will be raised (since doing otherwise would be computationally expensive, as well as potentially ambiguous for mixed type indexes). For instance, in the above example, s.loc[1:6] would raise KeyError.\n",
    "\n",
    "For the rationale behind this behavior, see Endpoints are inclusive."
   ]
  },
  {
   "cell_type": "markdown",
   "id": "e5da1867",
   "metadata": {
    "execution": {
     "iopub.execute_input": "2022-09-25T07:28:29.276477Z",
     "iopub.status.busy": "2022-09-25T07:28:29.276038Z",
     "iopub.status.idle": "2022-09-25T07:28:29.308607Z",
     "shell.execute_reply": "2022-09-25T07:28:29.307015Z",
     "shell.execute_reply.started": "2022-09-25T07:28:29.276440Z"
    },
    "papermill": {
     "duration": 0.06081,
     "end_time": "2022-09-26T13:11:19.367094",
     "exception": false,
     "start_time": "2022-09-26T13:11:19.306284",
     "status": "completed"
    },
    "tags": []
   },
   "source": [
    "``` python\n",
    "s = pd.Series(list('abcdef'), index=[0, 3, 2, 5, 4, 2])\n",
    "s.loc[2:5]\n",
    "\n",
    "---------------------------------------------------------------------------\n",
    "KeyError                                  Traceback (most recent call last)\n",
    "/tmp/ipykernel_18/1395166310.py in <module>\n",
    "      1 s = pd.Series(list('abcdef'), index=[0, 3, 2, 5, 4, 2])\n",
    "----> 2 s.loc[2:5]\n",
    "\n",
    "--- removed part of error----\n",
    "KeyError: 'Cannot get left slice bound for non-unique label: 2'\n"
   ]
  },
  {
   "cell_type": "code",
   "execution_count": 122,
   "id": "5cd53416",
   "metadata": {
    "execution": {
     "iopub.execute_input": "2022-09-26T13:11:19.492198Z",
     "iopub.status.busy": "2022-09-26T13:11:19.491225Z",
     "iopub.status.idle": "2022-09-26T13:11:19.499132Z",
     "shell.execute_reply": "2022-09-26T13:11:19.498121Z"
    },
    "papermill": {
     "duration": 0.072758,
     "end_time": "2022-09-26T13:11:19.501228",
     "exception": false,
     "start_time": "2022-09-26T13:11:19.428470",
     "status": "completed"
    },
    "tags": []
   },
   "outputs": [
    {
     "data": {
      "text/plain": [
       "3    b\n",
       "2    c\n",
       "5    d\n",
       "dtype: object"
      ]
     },
     "execution_count": 122,
     "metadata": {},
     "output_type": "execute_result"
    }
   ],
   "source": [
    "s.loc[3:5]"
   ]
  },
  {
   "cell_type": "markdown",
   "id": "5b4b4026",
   "metadata": {
    "papermill": {
     "duration": 0.066812,
     "end_time": "2022-09-26T13:11:19.633306",
     "exception": false,
     "start_time": "2022-09-26T13:11:19.566494",
     "status": "completed"
    },
    "tags": []
   },
   "source": [
    "## Indexing and selecting data In DataFrame | Selection by position:\n",
    "\n",
    "> ## ⚠️Warning \n",
    "Whether a copy or a reference is returned for a setting operation, may depend on the context. This is sometimes called chained assignment and should be avoided. See Returning a View versus Copy."
   ]
  },
  {
   "cell_type": "markdown",
   "id": "98808690",
   "metadata": {
    "papermill": {
     "duration": 0.060869,
     "end_time": "2022-09-26T13:11:19.756338",
     "exception": false,
     "start_time": "2022-09-26T13:11:19.695469",
     "status": "completed"
    },
    "tags": []
   },
   "source": [
    "pandas provides a suite of methods in order to get **purely integer based indexing.** The semantics follow closely Python and NumPy slicing. These are **0-based** indexing. When slicing, the start bound is included, while the upper bound is excluded. Trying to use a non-integer, even a valid label will raise an **IndexError.**\n",
    "\n",
    "The **.iloc** attribute is the primary access method. The following are valid inputs:\n",
    "\n",
    "- An integer e.g. 5.\n",
    "- A list or array of integers [4, 3, 0].\n",
    "- A slice object with ints 1:7.\n",
    "- A boolean array.\n",
    "- A callable, see Selection By Callable."
   ]
  },
  {
   "cell_type": "code",
   "execution_count": 123,
   "id": "8ebee785",
   "metadata": {
    "execution": {
     "iopub.execute_input": "2022-09-26T13:11:19.881009Z",
     "iopub.status.busy": "2022-09-26T13:11:19.880054Z",
     "iopub.status.idle": "2022-09-26T13:11:19.892530Z",
     "shell.execute_reply": "2022-09-26T13:11:19.891536Z"
    },
    "papermill": {
     "duration": 0.076846,
     "end_time": "2022-09-26T13:11:19.894567",
     "exception": false,
     "start_time": "2022-09-26T13:11:19.817721",
     "status": "completed"
    },
    "tags": []
   },
   "outputs": [
    {
     "data": {
      "text/html": [
       "<div>\n",
       "<style scoped>\n",
       "    .dataframe tbody tr th:only-of-type {\n",
       "        vertical-align: middle;\n",
       "    }\n",
       "\n",
       "    .dataframe tbody tr th {\n",
       "        vertical-align: top;\n",
       "    }\n",
       "\n",
       "    .dataframe thead th {\n",
       "        text-align: right;\n",
       "    }\n",
       "</style>\n",
       "<table border=\"1\" class=\"dataframe\">\n",
       "  <thead>\n",
       "    <tr style=\"text-align: right;\">\n",
       "      <th></th>\n",
       "      <th>0</th>\n",
       "      <th>2</th>\n",
       "      <th>4</th>\n",
       "      <th>6</th>\n",
       "    </tr>\n",
       "  </thead>\n",
       "  <tbody>\n",
       "    <tr>\n",
       "      <th>0</th>\n",
       "      <td>0.182339</td>\n",
       "      <td>2.609103</td>\n",
       "      <td>-0.454688</td>\n",
       "      <td>-0.754235</td>\n",
       "    </tr>\n",
       "    <tr>\n",
       "      <th>2</th>\n",
       "      <td>-1.601775</td>\n",
       "      <td>2.278032</td>\n",
       "      <td>0.609397</td>\n",
       "      <td>0.602689</td>\n",
       "    </tr>\n",
       "    <tr>\n",
       "      <th>4</th>\n",
       "      <td>0.429241</td>\n",
       "      <td>1.809239</td>\n",
       "      <td>0.265265</td>\n",
       "      <td>0.370137</td>\n",
       "    </tr>\n",
       "    <tr>\n",
       "      <th>6</th>\n",
       "      <td>-1.207770</td>\n",
       "      <td>2.141456</td>\n",
       "      <td>0.046276</td>\n",
       "      <td>-0.979749</td>\n",
       "    </tr>\n",
       "    <tr>\n",
       "      <th>8</th>\n",
       "      <td>-1.244173</td>\n",
       "      <td>0.243979</td>\n",
       "      <td>0.382205</td>\n",
       "      <td>-0.713337</td>\n",
       "    </tr>\n",
       "    <tr>\n",
       "      <th>10</th>\n",
       "      <td>-1.756304</td>\n",
       "      <td>-0.661766</td>\n",
       "      <td>1.047480</td>\n",
       "      <td>0.368184</td>\n",
       "    </tr>\n",
       "  </tbody>\n",
       "</table>\n",
       "</div>"
      ],
      "text/plain": [
       "           0         2         4         6\n",
       "0   0.182339  2.609103 -0.454688 -0.754235\n",
       "2  -1.601775  2.278032  0.609397  0.602689\n",
       "4   0.429241  1.809239  0.265265  0.370137\n",
       "6  -1.207770  2.141456  0.046276 -0.979749\n",
       "8  -1.244173  0.243979  0.382205 -0.713337\n",
       "10 -1.756304 -0.661766  1.047480  0.368184"
      ]
     },
     "execution_count": 123,
     "metadata": {},
     "output_type": "execute_result"
    }
   ],
   "source": [
    "df1 = pd.DataFrame(np.random.randn(6, 4),\n",
    "                   index=list(range(0, 12, 2)),\n",
    "                   columns=list(range(0, 8, 2)))\n",
    "df1"
   ]
  },
  {
   "cell_type": "code",
   "execution_count": 124,
   "id": "739feb31",
   "metadata": {
    "execution": {
     "iopub.execute_input": "2022-09-26T13:11:20.020335Z",
     "iopub.status.busy": "2022-09-26T13:11:20.019459Z",
     "iopub.status.idle": "2022-09-26T13:11:20.030161Z",
     "shell.execute_reply": "2022-09-26T13:11:20.029046Z"
    },
    "papermill": {
     "duration": 0.074969,
     "end_time": "2022-09-26T13:11:20.032117",
     "exception": false,
     "start_time": "2022-09-26T13:11:19.957148",
     "status": "completed"
    },
    "tags": []
   },
   "outputs": [
    {
     "data": {
      "text/html": [
       "<div>\n",
       "<style scoped>\n",
       "    .dataframe tbody tr th:only-of-type {\n",
       "        vertical-align: middle;\n",
       "    }\n",
       "\n",
       "    .dataframe tbody tr th {\n",
       "        vertical-align: top;\n",
       "    }\n",
       "\n",
       "    .dataframe thead th {\n",
       "        text-align: right;\n",
       "    }\n",
       "</style>\n",
       "<table border=\"1\" class=\"dataframe\">\n",
       "  <thead>\n",
       "    <tr style=\"text-align: right;\">\n",
       "      <th></th>\n",
       "      <th>0</th>\n",
       "      <th>2</th>\n",
       "      <th>4</th>\n",
       "      <th>6</th>\n",
       "    </tr>\n",
       "  </thead>\n",
       "  <tbody>\n",
       "    <tr>\n",
       "      <th>0</th>\n",
       "      <td>0.182339</td>\n",
       "      <td>2.609103</td>\n",
       "      <td>-0.454688</td>\n",
       "      <td>-0.754235</td>\n",
       "    </tr>\n",
       "    <tr>\n",
       "      <th>2</th>\n",
       "      <td>-1.601775</td>\n",
       "      <td>2.278032</td>\n",
       "      <td>0.609397</td>\n",
       "      <td>0.602689</td>\n",
       "    </tr>\n",
       "    <tr>\n",
       "      <th>4</th>\n",
       "      <td>0.429241</td>\n",
       "      <td>1.809239</td>\n",
       "      <td>0.265265</td>\n",
       "      <td>0.370137</td>\n",
       "    </tr>\n",
       "  </tbody>\n",
       "</table>\n",
       "</div>"
      ],
      "text/plain": [
       "          0         2         4         6\n",
       "0  0.182339  2.609103 -0.454688 -0.754235\n",
       "2 -1.601775  2.278032  0.609397  0.602689\n",
       "4  0.429241  1.809239  0.265265  0.370137"
      ]
     },
     "execution_count": 124,
     "metadata": {},
     "output_type": "execute_result"
    }
   ],
   "source": [
    "df1.iloc[:3]  # position rows 0,1,2,"
   ]
  },
  {
   "cell_type": "code",
   "execution_count": 125,
   "id": "a9b1e1d7",
   "metadata": {
    "execution": {
     "iopub.execute_input": "2022-09-26T13:11:20.158945Z",
     "iopub.status.busy": "2022-09-26T13:11:20.158031Z",
     "iopub.status.idle": "2022-09-26T13:11:20.168931Z",
     "shell.execute_reply": "2022-09-26T13:11:20.167839Z"
    },
    "papermill": {
     "duration": 0.075893,
     "end_time": "2022-09-26T13:11:20.170989",
     "exception": false,
     "start_time": "2022-09-26T13:11:20.095096",
     "status": "completed"
    },
    "tags": []
   },
   "outputs": [
    {
     "data": {
      "text/html": [
       "<div>\n",
       "<style scoped>\n",
       "    .dataframe tbody tr th:only-of-type {\n",
       "        vertical-align: middle;\n",
       "    }\n",
       "\n",
       "    .dataframe tbody tr th {\n",
       "        vertical-align: top;\n",
       "    }\n",
       "\n",
       "    .dataframe thead th {\n",
       "        text-align: right;\n",
       "    }\n",
       "</style>\n",
       "<table border=\"1\" class=\"dataframe\">\n",
       "  <thead>\n",
       "    <tr style=\"text-align: right;\">\n",
       "      <th></th>\n",
       "      <th>0</th>\n",
       "      <th>2</th>\n",
       "      <th>4</th>\n",
       "      <th>6</th>\n",
       "    </tr>\n",
       "  </thead>\n",
       "  <tbody>\n",
       "    <tr>\n",
       "      <th>2</th>\n",
       "      <td>-1.601775</td>\n",
       "      <td>2.278032</td>\n",
       "      <td>0.609397</td>\n",
       "      <td>0.602689</td>\n",
       "    </tr>\n",
       "    <tr>\n",
       "      <th>4</th>\n",
       "      <td>0.429241</td>\n",
       "      <td>1.809239</td>\n",
       "      <td>0.265265</td>\n",
       "      <td>0.370137</td>\n",
       "    </tr>\n",
       "  </tbody>\n",
       "</table>\n",
       "</div>"
      ],
      "text/plain": [
       "          0         2         4         6\n",
       "2 -1.601775  2.278032  0.609397  0.602689\n",
       "4  0.429241  1.809239  0.265265  0.370137"
      ]
     },
     "execution_count": 125,
     "metadata": {},
     "output_type": "execute_result"
    }
   ],
   "source": [
    "df1.iloc[1:3]"
   ]
  },
  {
   "cell_type": "code",
   "execution_count": 126,
   "id": "f9cad174",
   "metadata": {
    "execution": {
     "iopub.execute_input": "2022-09-26T13:11:20.296511Z",
     "iopub.status.busy": "2022-09-26T13:11:20.295501Z",
     "iopub.status.idle": "2022-09-26T13:11:20.305238Z",
     "shell.execute_reply": "2022-09-26T13:11:20.304218Z"
    },
    "papermill": {
     "duration": 0.074023,
     "end_time": "2022-09-26T13:11:20.307213",
     "exception": false,
     "start_time": "2022-09-26T13:11:20.233190",
     "status": "completed"
    },
    "tags": []
   },
   "outputs": [
    {
     "data": {
      "text/html": [
       "<div>\n",
       "<style scoped>\n",
       "    .dataframe tbody tr th:only-of-type {\n",
       "        vertical-align: middle;\n",
       "    }\n",
       "\n",
       "    .dataframe tbody tr th {\n",
       "        vertical-align: top;\n",
       "    }\n",
       "\n",
       "    .dataframe thead th {\n",
       "        text-align: right;\n",
       "    }\n",
       "</style>\n",
       "<table border=\"1\" class=\"dataframe\">\n",
       "  <thead>\n",
       "    <tr style=\"text-align: right;\">\n",
       "      <th></th>\n",
       "      <th>0</th>\n",
       "      <th>2</th>\n",
       "    </tr>\n",
       "  </thead>\n",
       "  <tbody>\n",
       "    <tr>\n",
       "      <th>2</th>\n",
       "      <td>-1.601775</td>\n",
       "      <td>2.278032</td>\n",
       "    </tr>\n",
       "    <tr>\n",
       "      <th>4</th>\n",
       "      <td>0.429241</td>\n",
       "      <td>1.809239</td>\n",
       "    </tr>\n",
       "    <tr>\n",
       "      <th>6</th>\n",
       "      <td>-1.207770</td>\n",
       "      <td>2.141456</td>\n",
       "    </tr>\n",
       "    <tr>\n",
       "      <th>8</th>\n",
       "      <td>-1.244173</td>\n",
       "      <td>0.243979</td>\n",
       "    </tr>\n",
       "    <tr>\n",
       "      <th>10</th>\n",
       "      <td>-1.756304</td>\n",
       "      <td>-0.661766</td>\n",
       "    </tr>\n",
       "  </tbody>\n",
       "</table>\n",
       "</div>"
      ],
      "text/plain": [
       "           0         2\n",
       "2  -1.601775  2.278032\n",
       "4   0.429241  1.809239\n",
       "6  -1.207770  2.141456\n",
       "8  -1.244173  0.243979\n",
       "10 -1.756304 -0.661766"
      ]
     },
     "execution_count": 126,
     "metadata": {},
     "output_type": "execute_result"
    }
   ],
   "source": [
    "df1.iloc[1:6,0:2]  #position for columns 0:2"
   ]
  },
  {
   "cell_type": "code",
   "execution_count": 127,
   "id": "62f84de4",
   "metadata": {
    "execution": {
     "iopub.execute_input": "2022-09-26T13:11:20.433895Z",
     "iopub.status.busy": "2022-09-26T13:11:20.432968Z",
     "iopub.status.idle": "2022-09-26T13:11:20.443557Z",
     "shell.execute_reply": "2022-09-26T13:11:20.442529Z"
    },
    "papermill": {
     "duration": 0.075407,
     "end_time": "2022-09-26T13:11:20.445576",
     "exception": false,
     "start_time": "2022-09-26T13:11:20.370169",
     "status": "completed"
    },
    "tags": []
   },
   "outputs": [
    {
     "data": {
      "text/html": [
       "<div>\n",
       "<style scoped>\n",
       "    .dataframe tbody tr th:only-of-type {\n",
       "        vertical-align: middle;\n",
       "    }\n",
       "\n",
       "    .dataframe tbody tr th {\n",
       "        vertical-align: top;\n",
       "    }\n",
       "\n",
       "    .dataframe thead th {\n",
       "        text-align: right;\n",
       "    }\n",
       "</style>\n",
       "<table border=\"1\" class=\"dataframe\">\n",
       "  <thead>\n",
       "    <tr style=\"text-align: right;\">\n",
       "      <th></th>\n",
       "      <th>2</th>\n",
       "      <th>6</th>\n",
       "    </tr>\n",
       "  </thead>\n",
       "  <tbody>\n",
       "    <tr>\n",
       "      <th>2</th>\n",
       "      <td>2.278032</td>\n",
       "      <td>0.602689</td>\n",
       "    </tr>\n",
       "    <tr>\n",
       "      <th>6</th>\n",
       "      <td>2.141456</td>\n",
       "      <td>-0.979749</td>\n",
       "    </tr>\n",
       "    <tr>\n",
       "      <th>10</th>\n",
       "      <td>-0.661766</td>\n",
       "      <td>0.368184</td>\n",
       "    </tr>\n",
       "  </tbody>\n",
       "</table>\n",
       "</div>"
      ],
      "text/plain": [
       "           2         6\n",
       "2   2.278032  0.602689\n",
       "6   2.141456 -0.979749\n",
       "10 -0.661766  0.368184"
      ]
     },
     "execution_count": 127,
     "metadata": {},
     "output_type": "execute_result"
    }
   ],
   "source": [
    "df1.iloc[[1, 3, 5], [1, 3]]  #rows(1,3,5) and columns(1,3)"
   ]
  },
  {
   "cell_type": "code",
   "execution_count": 128,
   "id": "d6539176",
   "metadata": {
    "execution": {
     "iopub.execute_input": "2022-09-26T13:11:20.571377Z",
     "iopub.status.busy": "2022-09-26T13:11:20.570418Z",
     "iopub.status.idle": "2022-09-26T13:11:20.591301Z",
     "shell.execute_reply": "2022-09-26T13:11:20.586682Z"
    },
    "papermill": {
     "duration": 0.087851,
     "end_time": "2022-09-26T13:11:20.595952",
     "exception": false,
     "start_time": "2022-09-26T13:11:20.508101",
     "status": "completed"
    },
    "tags": []
   },
   "outputs": [
    {
     "data": {
      "text/html": [
       "<div>\n",
       "<style scoped>\n",
       "    .dataframe tbody tr th:only-of-type {\n",
       "        vertical-align: middle;\n",
       "    }\n",
       "\n",
       "    .dataframe tbody tr th {\n",
       "        vertical-align: top;\n",
       "    }\n",
       "\n",
       "    .dataframe thead th {\n",
       "        text-align: right;\n",
       "    }\n",
       "</style>\n",
       "<table border=\"1\" class=\"dataframe\">\n",
       "  <thead>\n",
       "    <tr style=\"text-align: right;\">\n",
       "      <th></th>\n",
       "      <th>0</th>\n",
       "      <th>2</th>\n",
       "      <th>4</th>\n",
       "      <th>6</th>\n",
       "    </tr>\n",
       "  </thead>\n",
       "  <tbody>\n",
       "    <tr>\n",
       "      <th>2</th>\n",
       "      <td>-1.601775</td>\n",
       "      <td>2.278032</td>\n",
       "      <td>0.609397</td>\n",
       "      <td>0.602689</td>\n",
       "    </tr>\n",
       "    <tr>\n",
       "      <th>4</th>\n",
       "      <td>0.429241</td>\n",
       "      <td>1.809239</td>\n",
       "      <td>0.265265</td>\n",
       "      <td>0.370137</td>\n",
       "    </tr>\n",
       "  </tbody>\n",
       "</table>\n",
       "</div>"
      ],
      "text/plain": [
       "          0         2         4         6\n",
       "2 -1.601775  2.278032  0.609397  0.602689\n",
       "4  0.429241  1.809239  0.265265  0.370137"
      ]
     },
     "execution_count": 128,
     "metadata": {},
     "output_type": "execute_result"
    }
   ],
   "source": [
    "df1.iloc[1:3, :]"
   ]
  },
  {
   "cell_type": "code",
   "execution_count": 129,
   "id": "34049822",
   "metadata": {
    "execution": {
     "iopub.execute_input": "2022-09-26T13:11:20.851929Z",
     "iopub.status.busy": "2022-09-26T13:11:20.851017Z",
     "iopub.status.idle": "2022-09-26T13:11:20.858298Z",
     "shell.execute_reply": "2022-09-26T13:11:20.857414Z"
    },
    "papermill": {
     "duration": 0.130988,
     "end_time": "2022-09-26T13:11:20.861519",
     "exception": false,
     "start_time": "2022-09-26T13:11:20.730531",
     "status": "completed"
    },
    "tags": []
   },
   "outputs": [
    {
     "data": {
      "text/plain": [
       "2.2780315539085896"
      ]
     },
     "execution_count": 129,
     "metadata": {},
     "output_type": "execute_result"
    }
   ],
   "source": [
    "# this is also equivalent to ``df1.iat[1,1]``\n",
    "df1.iloc[1, 1]"
   ]
  },
  {
   "cell_type": "code",
   "execution_count": 130,
   "id": "d6e85723",
   "metadata": {
    "execution": {
     "iopub.execute_input": "2022-09-26T13:11:21.049062Z",
     "iopub.status.busy": "2022-09-26T13:11:21.048504Z",
     "iopub.status.idle": "2022-09-26T13:11:21.059341Z",
     "shell.execute_reply": "2022-09-26T13:11:21.058540Z"
    },
    "papermill": {
     "duration": 0.107125,
     "end_time": "2022-09-26T13:11:21.062027",
     "exception": false,
     "start_time": "2022-09-26T13:11:20.954902",
     "status": "completed"
    },
    "tags": []
   },
   "outputs": [
    {
     "data": {
      "text/plain": [
       "0   -1.601775\n",
       "2    2.278032\n",
       "4    0.609397\n",
       "6    0.602689\n",
       "Name: 2, dtype: float64"
      ]
     },
     "execution_count": 130,
     "metadata": {},
     "output_type": "execute_result"
    }
   ],
   "source": [
    "df1.iloc[1]  #rows at 1 value "
   ]
  },
  {
   "cell_type": "markdown",
   "id": "f23b741e",
   "metadata": {
    "papermill": {
     "duration": 0.062777,
     "end_time": "2022-09-26T13:11:21.230444",
     "exception": false,
     "start_time": "2022-09-26T13:11:21.167667",
     "status": "completed"
    },
    "tags": []
   },
   "source": [
    "> ## ✍️ Note:\n",
    "> #### Out of range slice indexes are handled gracefully just as in Python/NumPy."
   ]
  },
  {
   "cell_type": "code",
   "execution_count": 131,
   "id": "e1915dc2",
   "metadata": {
    "execution": {
     "iopub.execute_input": "2022-09-26T13:11:21.355995Z",
     "iopub.status.busy": "2022-09-26T13:11:21.355602Z",
     "iopub.status.idle": "2022-09-26T13:11:21.362080Z",
     "shell.execute_reply": "2022-09-26T13:11:21.361180Z"
    },
    "papermill": {
     "duration": 0.072061,
     "end_time": "2022-09-26T13:11:21.364283",
     "exception": false,
     "start_time": "2022-09-26T13:11:21.292222",
     "status": "completed"
    },
    "tags": []
   },
   "outputs": [
    {
     "data": {
      "text/plain": [
       "['e', 'f']"
      ]
     },
     "execution_count": 131,
     "metadata": {},
     "output_type": "execute_result"
    }
   ],
   "source": [
    "x = list('abcdef')\n",
    "x[4:10]"
   ]
  },
  {
   "cell_type": "code",
   "execution_count": 132,
   "id": "fae8c125",
   "metadata": {
    "execution": {
     "iopub.execute_input": "2022-09-26T13:11:21.492396Z",
     "iopub.status.busy": "2022-09-26T13:11:21.492042Z",
     "iopub.status.idle": "2022-09-26T13:11:21.499336Z",
     "shell.execute_reply": "2022-09-26T13:11:21.498281Z"
    },
    "papermill": {
     "duration": 0.074688,
     "end_time": "2022-09-26T13:11:21.501561",
     "exception": false,
     "start_time": "2022-09-26T13:11:21.426873",
     "status": "completed"
    },
    "tags": []
   },
   "outputs": [
    {
     "data": {
      "text/plain": [
       "0    a\n",
       "1    b\n",
       "2    c\n",
       "3    d\n",
       "4    e\n",
       "5    f\n",
       "dtype: object"
      ]
     },
     "execution_count": 132,
     "metadata": {},
     "output_type": "execute_result"
    }
   ],
   "source": [
    "s = pd.Series(x)\n",
    "s"
   ]
  },
  {
   "cell_type": "code",
   "execution_count": 133,
   "id": "9081cc4c",
   "metadata": {
    "execution": {
     "iopub.execute_input": "2022-09-26T13:11:21.646825Z",
     "iopub.status.busy": "2022-09-26T13:11:21.645781Z",
     "iopub.status.idle": "2022-09-26T13:11:21.654516Z",
     "shell.execute_reply": "2022-09-26T13:11:21.653357Z"
    },
    "papermill": {
     "duration": 0.087574,
     "end_time": "2022-09-26T13:11:21.656996",
     "exception": false,
     "start_time": "2022-09-26T13:11:21.569422",
     "status": "completed"
    },
    "tags": []
   },
   "outputs": [
    {
     "data": {
      "text/plain": [
       "4    e\n",
       "5    f\n",
       "dtype: object"
      ]
     },
     "execution_count": 133,
     "metadata": {},
     "output_type": "execute_result"
    }
   ],
   "source": [
    "s.iloc[4:10]   #Out bound will be handled easily"
   ]
  },
  {
   "cell_type": "code",
   "execution_count": 134,
   "id": "b1c1605b",
   "metadata": {
    "execution": {
     "iopub.execute_input": "2022-09-26T13:11:21.795130Z",
     "iopub.status.busy": "2022-09-26T13:11:21.794785Z",
     "iopub.status.idle": "2022-09-26T13:11:21.801782Z",
     "shell.execute_reply": "2022-09-26T13:11:21.800831Z"
    },
    "papermill": {
     "duration": 0.07651,
     "end_time": "2022-09-26T13:11:21.803795",
     "exception": false,
     "start_time": "2022-09-26T13:11:21.727285",
     "status": "completed"
    },
    "tags": []
   },
   "outputs": [
    {
     "data": {
      "text/plain": [
       "Series([], dtype: object)"
      ]
     },
     "execution_count": 134,
     "metadata": {},
     "output_type": "execute_result"
    }
   ],
   "source": [
    "s.iloc[8:10] #there is no value in that position that's why empty "
   ]
  },
  {
   "cell_type": "markdown",
   "id": "2d61ff86",
   "metadata": {
    "papermill": {
     "duration": 0.066401,
     "end_time": "2022-09-26T13:11:21.937527",
     "exception": false,
     "start_time": "2022-09-26T13:11:21.871126",
     "status": "completed"
    },
    "tags": []
   },
   "source": [
    "> ## ✍️ Note:\n",
    "> #### Note that using slices that go out of bounds can result in an empty axis (e.g. an empty DataFrame being returned)."
   ]
  },
  {
   "cell_type": "code",
   "execution_count": 135,
   "id": "3e57b797",
   "metadata": {
    "execution": {
     "iopub.execute_input": "2022-09-26T13:11:22.067498Z",
     "iopub.status.busy": "2022-09-26T13:11:22.067163Z",
     "iopub.status.idle": "2022-09-26T13:11:22.077861Z",
     "shell.execute_reply": "2022-09-26T13:11:22.076887Z"
    },
    "papermill": {
     "duration": 0.077735,
     "end_time": "2022-09-26T13:11:22.079768",
     "exception": false,
     "start_time": "2022-09-26T13:11:22.002033",
     "status": "completed"
    },
    "tags": []
   },
   "outputs": [
    {
     "data": {
      "text/html": [
       "<div>\n",
       "<style scoped>\n",
       "    .dataframe tbody tr th:only-of-type {\n",
       "        vertical-align: middle;\n",
       "    }\n",
       "\n",
       "    .dataframe tbody tr th {\n",
       "        vertical-align: top;\n",
       "    }\n",
       "\n",
       "    .dataframe thead th {\n",
       "        text-align: right;\n",
       "    }\n",
       "</style>\n",
       "<table border=\"1\" class=\"dataframe\">\n",
       "  <thead>\n",
       "    <tr style=\"text-align: right;\">\n",
       "      <th></th>\n",
       "      <th>A</th>\n",
       "      <th>B</th>\n",
       "    </tr>\n",
       "  </thead>\n",
       "  <tbody>\n",
       "    <tr>\n",
       "      <th>0</th>\n",
       "      <td>0.081913</td>\n",
       "      <td>0.352777</td>\n",
       "    </tr>\n",
       "    <tr>\n",
       "      <th>1</th>\n",
       "      <td>-0.000112</td>\n",
       "      <td>0.313463</td>\n",
       "    </tr>\n",
       "    <tr>\n",
       "      <th>2</th>\n",
       "      <td>0.630948</td>\n",
       "      <td>-0.697218</td>\n",
       "    </tr>\n",
       "    <tr>\n",
       "      <th>3</th>\n",
       "      <td>0.120404</td>\n",
       "      <td>1.415352</td>\n",
       "    </tr>\n",
       "    <tr>\n",
       "      <th>4</th>\n",
       "      <td>0.756136</td>\n",
       "      <td>-1.497392</td>\n",
       "    </tr>\n",
       "  </tbody>\n",
       "</table>\n",
       "</div>"
      ],
      "text/plain": [
       "          A         B\n",
       "0  0.081913  0.352777\n",
       "1 -0.000112  0.313463\n",
       "2  0.630948 -0.697218\n",
       "3  0.120404  1.415352\n",
       "4  0.756136 -1.497392"
      ]
     },
     "execution_count": 135,
     "metadata": {},
     "output_type": "execute_result"
    }
   ],
   "source": [
    "dfl = pd.DataFrame(np.random.randn(5, 2), columns=list('AB'))\n",
    "dfl"
   ]
  },
  {
   "cell_type": "code",
   "execution_count": 136,
   "id": "242992a7",
   "metadata": {
    "execution": {
     "iopub.execute_input": "2022-09-26T13:11:22.215653Z",
     "iopub.status.busy": "2022-09-26T13:11:22.213849Z",
     "iopub.status.idle": "2022-09-26T13:11:22.225132Z",
     "shell.execute_reply": "2022-09-26T13:11:22.223396Z"
    },
    "papermill": {
     "duration": 0.083049,
     "end_time": "2022-09-26T13:11:22.227745",
     "exception": false,
     "start_time": "2022-09-26T13:11:22.144696",
     "status": "completed"
    },
    "tags": []
   },
   "outputs": [
    {
     "name": "stdout",
     "output_type": "stream",
     "text": [
      "Empty DataFrame\n",
      "Columns: []\n",
      "Index: [0, 1, 2, 3, 4]\n"
     ]
    },
    {
     "data": {
      "text/html": [
       "<div>\n",
       "<style scoped>\n",
       "    .dataframe tbody tr th:only-of-type {\n",
       "        vertical-align: middle;\n",
       "    }\n",
       "\n",
       "    .dataframe tbody tr th {\n",
       "        vertical-align: top;\n",
       "    }\n",
       "\n",
       "    .dataframe thead th {\n",
       "        text-align: right;\n",
       "    }\n",
       "</style>\n",
       "<table border=\"1\" class=\"dataframe\">\n",
       "  <thead>\n",
       "    <tr style=\"text-align: right;\">\n",
       "      <th></th>\n",
       "    </tr>\n",
       "  </thead>\n",
       "  <tbody>\n",
       "    <tr>\n",
       "      <th>0</th>\n",
       "    </tr>\n",
       "    <tr>\n",
       "      <th>1</th>\n",
       "    </tr>\n",
       "    <tr>\n",
       "      <th>2</th>\n",
       "    </tr>\n",
       "    <tr>\n",
       "      <th>3</th>\n",
       "    </tr>\n",
       "    <tr>\n",
       "      <th>4</th>\n",
       "    </tr>\n",
       "  </tbody>\n",
       "</table>\n",
       "</div>"
      ],
      "text/plain": [
       "Empty DataFrame\n",
       "Columns: []\n",
       "Index: [0, 1, 2, 3, 4]"
      ]
     },
     "execution_count": 136,
     "metadata": {},
     "output_type": "execute_result"
    }
   ],
   "source": [
    "print(dfl.iloc[:, 2:3]) #no columns at position 2,3\n",
    "dfl.iloc[:, 2:3]"
   ]
  },
  {
   "cell_type": "code",
   "execution_count": 137,
   "id": "f4681c8a",
   "metadata": {
    "execution": {
     "iopub.execute_input": "2022-09-26T13:11:22.400410Z",
     "iopub.status.busy": "2022-09-26T13:11:22.399469Z",
     "iopub.status.idle": "2022-09-26T13:11:22.409412Z",
     "shell.execute_reply": "2022-09-26T13:11:22.408196Z"
    },
    "papermill": {
     "duration": 0.117258,
     "end_time": "2022-09-26T13:11:22.411566",
     "exception": false,
     "start_time": "2022-09-26T13:11:22.294308",
     "status": "completed"
    },
    "tags": []
   },
   "outputs": [
    {
     "data": {
      "text/html": [
       "<div>\n",
       "<style scoped>\n",
       "    .dataframe tbody tr th:only-of-type {\n",
       "        vertical-align: middle;\n",
       "    }\n",
       "\n",
       "    .dataframe tbody tr th {\n",
       "        vertical-align: top;\n",
       "    }\n",
       "\n",
       "    .dataframe thead th {\n",
       "        text-align: right;\n",
       "    }\n",
       "</style>\n",
       "<table border=\"1\" class=\"dataframe\">\n",
       "  <thead>\n",
       "    <tr style=\"text-align: right;\">\n",
       "      <th></th>\n",
       "      <th>B</th>\n",
       "    </tr>\n",
       "  </thead>\n",
       "  <tbody>\n",
       "    <tr>\n",
       "      <th>0</th>\n",
       "      <td>0.352777</td>\n",
       "    </tr>\n",
       "    <tr>\n",
       "      <th>1</th>\n",
       "      <td>0.313463</td>\n",
       "    </tr>\n",
       "    <tr>\n",
       "      <th>2</th>\n",
       "      <td>-0.697218</td>\n",
       "    </tr>\n",
       "    <tr>\n",
       "      <th>3</th>\n",
       "      <td>1.415352</td>\n",
       "    </tr>\n",
       "    <tr>\n",
       "      <th>4</th>\n",
       "      <td>-1.497392</td>\n",
       "    </tr>\n",
       "  </tbody>\n",
       "</table>\n",
       "</div>"
      ],
      "text/plain": [
       "          B\n",
       "0  0.352777\n",
       "1  0.313463\n",
       "2 -0.697218\n",
       "3  1.415352\n",
       "4 -1.497392"
      ]
     },
     "execution_count": 137,
     "metadata": {},
     "output_type": "execute_result"
    }
   ],
   "source": [
    "dfl.iloc[:, 1:3] #column present at position 1 but not position 3"
   ]
  },
  {
   "cell_type": "code",
   "execution_count": 138,
   "id": "848c65f3",
   "metadata": {
    "execution": {
     "iopub.execute_input": "2022-09-26T13:11:22.550693Z",
     "iopub.status.busy": "2022-09-26T13:11:22.550318Z",
     "iopub.status.idle": "2022-09-26T13:11:22.559047Z",
     "shell.execute_reply": "2022-09-26T13:11:22.558172Z"
    },
    "papermill": {
     "duration": 0.083097,
     "end_time": "2022-09-26T13:11:22.561001",
     "exception": false,
     "start_time": "2022-09-26T13:11:22.477904",
     "status": "completed"
    },
    "tags": []
   },
   "outputs": [
    {
     "data": {
      "text/html": [
       "<div>\n",
       "<style scoped>\n",
       "    .dataframe tbody tr th:only-of-type {\n",
       "        vertical-align: middle;\n",
       "    }\n",
       "\n",
       "    .dataframe tbody tr th {\n",
       "        vertical-align: top;\n",
       "    }\n",
       "\n",
       "    .dataframe thead th {\n",
       "        text-align: right;\n",
       "    }\n",
       "</style>\n",
       "<table border=\"1\" class=\"dataframe\">\n",
       "  <thead>\n",
       "    <tr style=\"text-align: right;\">\n",
       "      <th></th>\n",
       "      <th>A</th>\n",
       "      <th>B</th>\n",
       "    </tr>\n",
       "  </thead>\n",
       "  <tbody>\n",
       "    <tr>\n",
       "      <th>4</th>\n",
       "      <td>0.756136</td>\n",
       "      <td>-1.497392</td>\n",
       "    </tr>\n",
       "  </tbody>\n",
       "</table>\n",
       "</div>"
      ],
      "text/plain": [
       "          A         B\n",
       "4  0.756136 -1.497392"
      ]
     },
     "execution_count": 138,
     "metadata": {},
     "output_type": "execute_result"
    }
   ],
   "source": [
    "dfl.iloc[4:6]"
   ]
  },
  {
   "cell_type": "markdown",
   "id": "320853aa",
   "metadata": {
    "papermill": {
     "duration": 0.062418,
     "end_time": "2022-09-26T13:11:22.686517",
     "exception": false,
     "start_time": "2022-09-26T13:11:22.624099",
     "status": "completed"
    },
    "tags": []
   },
   "source": [
    "> ## ✍️ Note:\n",
    "> ####  A single indexer that is out of bounds will raise an IndexError. A list of indexers where any element is out of bounds will raise an IndexError."
   ]
  },
  {
   "cell_type": "markdown",
   "id": "e636f0d0",
   "metadata": {
    "papermill": {
     "duration": 0.062461,
     "end_time": "2022-09-26T13:11:22.811686",
     "exception": false,
     "start_time": "2022-09-26T13:11:22.749225",
     "status": "completed"
    },
    "tags": []
   },
   "source": [
    "``` python\n",
    "dfl.iloc[[4, 5, 6]]\n",
    "\n",
    "---------------------------------------------------------------------------\n",
    "IndexError                                Traceback (most recent call last)\n",
    "\n",
    "----extra error removed----\n",
    "IndexError: positional indexers are out-of-bounds\n",
    "```"
   ]
  },
  {
   "cell_type": "markdown",
   "id": "064fa83d",
   "metadata": {
    "papermill": {
     "duration": 0.062646,
     "end_time": "2022-09-26T13:11:22.937681",
     "exception": false,
     "start_time": "2022-09-26T13:11:22.875035",
     "status": "completed"
    },
    "tags": []
   },
   "source": [
    "``` python \n",
    "dfl.iloc[:, 4]\n",
    "\n",
    "---------------------------------------------------------------------------\n",
    "IndexError                                Traceback (most recent call last)\n",
    "/tmp/ipykernel_18/1683638990.py in <module>\n",
    "----> 1 dfl.iloc[:, 4]\n",
    "\n",
    "----extra error removed----\n",
    "IndexError: single positional indexer is out-of-bounds\n",
    "```"
   ]
  },
  {
   "cell_type": "markdown",
   "id": "13f3f881",
   "metadata": {
    "papermill": {
     "duration": 0.062677,
     "end_time": "2022-09-26T13:11:23.063675",
     "exception": false,
     "start_time": "2022-09-26T13:11:23.000998",
     "status": "completed"
    },
    "tags": []
   },
   "source": [
    "## Indexing and selecting data In DataFrame | Selection by callable:\n",
    "- .loc, .iloc, and also [] indexing can accept a **callable** as indexer. The **callable** must be a function with one argument (the calling Series or DataFrame) that returns valid output for indexing.\n"
   ]
  },
  {
   "cell_type": "code",
   "execution_count": 139,
   "id": "35881836",
   "metadata": {
    "execution": {
     "iopub.execute_input": "2022-09-26T13:11:23.191791Z",
     "iopub.status.busy": "2022-09-26T13:11:23.191419Z",
     "iopub.status.idle": "2022-09-26T13:11:23.205117Z",
     "shell.execute_reply": "2022-09-26T13:11:23.204139Z"
    },
    "papermill": {
     "duration": 0.08009,
     "end_time": "2022-09-26T13:11:23.207218",
     "exception": false,
     "start_time": "2022-09-26T13:11:23.127128",
     "status": "completed"
    },
    "tags": []
   },
   "outputs": [
    {
     "data": {
      "text/html": [
       "<div>\n",
       "<style scoped>\n",
       "    .dataframe tbody tr th:only-of-type {\n",
       "        vertical-align: middle;\n",
       "    }\n",
       "\n",
       "    .dataframe tbody tr th {\n",
       "        vertical-align: top;\n",
       "    }\n",
       "\n",
       "    .dataframe thead th {\n",
       "        text-align: right;\n",
       "    }\n",
       "</style>\n",
       "<table border=\"1\" class=\"dataframe\">\n",
       "  <thead>\n",
       "    <tr style=\"text-align: right;\">\n",
       "      <th></th>\n",
       "      <th>A</th>\n",
       "      <th>B</th>\n",
       "      <th>C</th>\n",
       "      <th>D</th>\n",
       "    </tr>\n",
       "  </thead>\n",
       "  <tbody>\n",
       "    <tr>\n",
       "      <th>a</th>\n",
       "      <td>1.739164</td>\n",
       "      <td>1.034904</td>\n",
       "      <td>0.153147</td>\n",
       "      <td>1.573560</td>\n",
       "    </tr>\n",
       "    <tr>\n",
       "      <th>b</th>\n",
       "      <td>-1.202163</td>\n",
       "      <td>0.401839</td>\n",
       "      <td>0.175774</td>\n",
       "      <td>-0.460244</td>\n",
       "    </tr>\n",
       "    <tr>\n",
       "      <th>c</th>\n",
       "      <td>-1.290356</td>\n",
       "      <td>-0.112809</td>\n",
       "      <td>0.164460</td>\n",
       "      <td>-2.169768</td>\n",
       "    </tr>\n",
       "    <tr>\n",
       "      <th>d</th>\n",
       "      <td>1.120039</td>\n",
       "      <td>0.626468</td>\n",
       "      <td>1.440279</td>\n",
       "      <td>0.203081</td>\n",
       "    </tr>\n",
       "    <tr>\n",
       "      <th>e</th>\n",
       "      <td>-0.617899</td>\n",
       "      <td>0.843811</td>\n",
       "      <td>0.172158</td>\n",
       "      <td>-1.083249</td>\n",
       "    </tr>\n",
       "    <tr>\n",
       "      <th>f</th>\n",
       "      <td>0.855024</td>\n",
       "      <td>-0.182483</td>\n",
       "      <td>0.188441</td>\n",
       "      <td>1.244603</td>\n",
       "    </tr>\n",
       "  </tbody>\n",
       "</table>\n",
       "</div>"
      ],
      "text/plain": [
       "          A         B         C         D\n",
       "a  1.739164  1.034904  0.153147  1.573560\n",
       "b -1.202163  0.401839  0.175774 -0.460244\n",
       "c -1.290356 -0.112809  0.164460 -2.169768\n",
       "d  1.120039  0.626468  1.440279  0.203081\n",
       "e -0.617899  0.843811  0.172158 -1.083249\n",
       "f  0.855024 -0.182483  0.188441  1.244603"
      ]
     },
     "execution_count": 139,
     "metadata": {},
     "output_type": "execute_result"
    }
   ],
   "source": [
    "df1 = pd.DataFrame(np.random.randn(6, 4),\n",
    "                   index=list('abcdef'),\n",
    "                   columns=list('ABCD'))\n",
    "df1"
   ]
  },
  {
   "cell_type": "code",
   "execution_count": 140,
   "id": "5dd81a64",
   "metadata": {
    "execution": {
     "iopub.execute_input": "2022-09-26T13:11:23.337253Z",
     "iopub.status.busy": "2022-09-26T13:11:23.336291Z",
     "iopub.status.idle": "2022-09-26T13:11:23.347967Z",
     "shell.execute_reply": "2022-09-26T13:11:23.346939Z"
    },
    "papermill": {
     "duration": 0.079279,
     "end_time": "2022-09-26T13:11:23.350249",
     "exception": false,
     "start_time": "2022-09-26T13:11:23.270970",
     "status": "completed"
    },
    "tags": []
   },
   "outputs": [
    {
     "data": {
      "text/html": [
       "<div>\n",
       "<style scoped>\n",
       "    .dataframe tbody tr th:only-of-type {\n",
       "        vertical-align: middle;\n",
       "    }\n",
       "\n",
       "    .dataframe tbody tr th {\n",
       "        vertical-align: top;\n",
       "    }\n",
       "\n",
       "    .dataframe thead th {\n",
       "        text-align: right;\n",
       "    }\n",
       "</style>\n",
       "<table border=\"1\" class=\"dataframe\">\n",
       "  <thead>\n",
       "    <tr style=\"text-align: right;\">\n",
       "      <th></th>\n",
       "      <th>A</th>\n",
       "      <th>B</th>\n",
       "      <th>C</th>\n",
       "      <th>D</th>\n",
       "    </tr>\n",
       "  </thead>\n",
       "  <tbody>\n",
       "    <tr>\n",
       "      <th>a</th>\n",
       "      <td>1.739164</td>\n",
       "      <td>1.034904</td>\n",
       "      <td>0.153147</td>\n",
       "      <td>1.573560</td>\n",
       "    </tr>\n",
       "    <tr>\n",
       "      <th>d</th>\n",
       "      <td>1.120039</td>\n",
       "      <td>0.626468</td>\n",
       "      <td>1.440279</td>\n",
       "      <td>0.203081</td>\n",
       "    </tr>\n",
       "    <tr>\n",
       "      <th>f</th>\n",
       "      <td>0.855024</td>\n",
       "      <td>-0.182483</td>\n",
       "      <td>0.188441</td>\n",
       "      <td>1.244603</td>\n",
       "    </tr>\n",
       "  </tbody>\n",
       "</table>\n",
       "</div>"
      ],
      "text/plain": [
       "          A         B         C         D\n",
       "a  1.739164  1.034904  0.153147  1.573560\n",
       "d  1.120039  0.626468  1.440279  0.203081\n",
       "f  0.855024 -0.182483  0.188441  1.244603"
      ]
     },
     "execution_count": 140,
     "metadata": {},
     "output_type": "execute_result"
    }
   ],
   "source": [
    "df1.loc[lambda df: df['A'] > 0, :]"
   ]
  },
  {
   "cell_type": "code",
   "execution_count": 141,
   "id": "5b8aa4fe",
   "metadata": {
    "execution": {
     "iopub.execute_input": "2022-09-26T13:11:23.480180Z",
     "iopub.status.busy": "2022-09-26T13:11:23.479826Z",
     "iopub.status.idle": "2022-09-26T13:11:23.490689Z",
     "shell.execute_reply": "2022-09-26T13:11:23.489769Z"
    },
    "papermill": {
     "duration": 0.077805,
     "end_time": "2022-09-26T13:11:23.492825",
     "exception": false,
     "start_time": "2022-09-26T13:11:23.415020",
     "status": "completed"
    },
    "tags": []
   },
   "outputs": [
    {
     "data": {
      "text/html": [
       "<div>\n",
       "<style scoped>\n",
       "    .dataframe tbody tr th:only-of-type {\n",
       "        vertical-align: middle;\n",
       "    }\n",
       "\n",
       "    .dataframe tbody tr th {\n",
       "        vertical-align: top;\n",
       "    }\n",
       "\n",
       "    .dataframe thead th {\n",
       "        text-align: right;\n",
       "    }\n",
       "</style>\n",
       "<table border=\"1\" class=\"dataframe\">\n",
       "  <thead>\n",
       "    <tr style=\"text-align: right;\">\n",
       "      <th></th>\n",
       "      <th>A</th>\n",
       "      <th>B</th>\n",
       "    </tr>\n",
       "  </thead>\n",
       "  <tbody>\n",
       "    <tr>\n",
       "      <th>a</th>\n",
       "      <td>1.739164</td>\n",
       "      <td>1.034904</td>\n",
       "    </tr>\n",
       "    <tr>\n",
       "      <th>b</th>\n",
       "      <td>-1.202163</td>\n",
       "      <td>0.401839</td>\n",
       "    </tr>\n",
       "    <tr>\n",
       "      <th>c</th>\n",
       "      <td>-1.290356</td>\n",
       "      <td>-0.112809</td>\n",
       "    </tr>\n",
       "    <tr>\n",
       "      <th>d</th>\n",
       "      <td>1.120039</td>\n",
       "      <td>0.626468</td>\n",
       "    </tr>\n",
       "    <tr>\n",
       "      <th>e</th>\n",
       "      <td>-0.617899</td>\n",
       "      <td>0.843811</td>\n",
       "    </tr>\n",
       "    <tr>\n",
       "      <th>f</th>\n",
       "      <td>0.855024</td>\n",
       "      <td>-0.182483</td>\n",
       "    </tr>\n",
       "  </tbody>\n",
       "</table>\n",
       "</div>"
      ],
      "text/plain": [
       "          A         B\n",
       "a  1.739164  1.034904\n",
       "b -1.202163  0.401839\n",
       "c -1.290356 -0.112809\n",
       "d  1.120039  0.626468\n",
       "e -0.617899  0.843811\n",
       "f  0.855024 -0.182483"
      ]
     },
     "execution_count": 141,
     "metadata": {},
     "output_type": "execute_result"
    }
   ],
   "source": [
    "df1.loc[:, lambda df: ['A', 'B']]   #using loc"
   ]
  },
  {
   "cell_type": "code",
   "execution_count": 142,
   "id": "538db0e1",
   "metadata": {
    "execution": {
     "iopub.execute_input": "2022-09-26T13:11:23.623130Z",
     "iopub.status.busy": "2022-09-26T13:11:23.622053Z",
     "iopub.status.idle": "2022-09-26T13:11:23.633689Z",
     "shell.execute_reply": "2022-09-26T13:11:23.632690Z"
    },
    "papermill": {
     "duration": 0.079198,
     "end_time": "2022-09-26T13:11:23.635736",
     "exception": false,
     "start_time": "2022-09-26T13:11:23.556538",
     "status": "completed"
    },
    "tags": []
   },
   "outputs": [
    {
     "data": {
      "text/html": [
       "<div>\n",
       "<style scoped>\n",
       "    .dataframe tbody tr th:only-of-type {\n",
       "        vertical-align: middle;\n",
       "    }\n",
       "\n",
       "    .dataframe tbody tr th {\n",
       "        vertical-align: top;\n",
       "    }\n",
       "\n",
       "    .dataframe thead th {\n",
       "        text-align: right;\n",
       "    }\n",
       "</style>\n",
       "<table border=\"1\" class=\"dataframe\">\n",
       "  <thead>\n",
       "    <tr style=\"text-align: right;\">\n",
       "      <th></th>\n",
       "      <th>A</th>\n",
       "      <th>B</th>\n",
       "    </tr>\n",
       "  </thead>\n",
       "  <tbody>\n",
       "    <tr>\n",
       "      <th>a</th>\n",
       "      <td>1.739164</td>\n",
       "      <td>1.034904</td>\n",
       "    </tr>\n",
       "    <tr>\n",
       "      <th>b</th>\n",
       "      <td>-1.202163</td>\n",
       "      <td>0.401839</td>\n",
       "    </tr>\n",
       "    <tr>\n",
       "      <th>c</th>\n",
       "      <td>-1.290356</td>\n",
       "      <td>-0.112809</td>\n",
       "    </tr>\n",
       "    <tr>\n",
       "      <th>d</th>\n",
       "      <td>1.120039</td>\n",
       "      <td>0.626468</td>\n",
       "    </tr>\n",
       "    <tr>\n",
       "      <th>e</th>\n",
       "      <td>-0.617899</td>\n",
       "      <td>0.843811</td>\n",
       "    </tr>\n",
       "    <tr>\n",
       "      <th>f</th>\n",
       "      <td>0.855024</td>\n",
       "      <td>-0.182483</td>\n",
       "    </tr>\n",
       "  </tbody>\n",
       "</table>\n",
       "</div>"
      ],
      "text/plain": [
       "          A         B\n",
       "a  1.739164  1.034904\n",
       "b -1.202163  0.401839\n",
       "c -1.290356 -0.112809\n",
       "d  1.120039  0.626468\n",
       "e -0.617899  0.843811\n",
       "f  0.855024 -0.182483"
      ]
     },
     "execution_count": 142,
     "metadata": {},
     "output_type": "execute_result"
    }
   ],
   "source": [
    "df1.iloc[:, lambda df: [0, 1]]    #using iloc"
   ]
  },
  {
   "cell_type": "code",
   "execution_count": 143,
   "id": "37b39b91",
   "metadata": {
    "execution": {
     "iopub.execute_input": "2022-09-26T13:11:23.768388Z",
     "iopub.status.busy": "2022-09-26T13:11:23.767462Z",
     "iopub.status.idle": "2022-09-26T13:11:23.775862Z",
     "shell.execute_reply": "2022-09-26T13:11:23.774850Z"
    },
    "papermill": {
     "duration": 0.076668,
     "end_time": "2022-09-26T13:11:23.777882",
     "exception": false,
     "start_time": "2022-09-26T13:11:23.701214",
     "status": "completed"
    },
    "tags": []
   },
   "outputs": [
    {
     "data": {
      "text/plain": [
       "a    1.739164\n",
       "b   -1.202163\n",
       "c   -1.290356\n",
       "d    1.120039\n",
       "e   -0.617899\n",
       "f    0.855024\n",
       "Name: A, dtype: float64"
      ]
     },
     "execution_count": 143,
     "metadata": {},
     "output_type": "execute_result"
    }
   ],
   "source": [
    "df1[lambda df: df.columns[0]]"
   ]
  },
  {
   "cell_type": "code",
   "execution_count": 144,
   "id": "ea3d4176",
   "metadata": {
    "execution": {
     "iopub.execute_input": "2022-09-26T13:11:23.908875Z",
     "iopub.status.busy": "2022-09-26T13:11:23.907262Z",
     "iopub.status.idle": "2022-09-26T13:11:23.915629Z",
     "shell.execute_reply": "2022-09-26T13:11:23.914693Z"
    },
    "papermill": {
     "duration": 0.07512,
     "end_time": "2022-09-26T13:11:23.917609",
     "exception": false,
     "start_time": "2022-09-26T13:11:23.842489",
     "status": "completed"
    },
    "tags": []
   },
   "outputs": [
    {
     "data": {
      "text/plain": [
       "a    1.739164\n",
       "d    1.120039\n",
       "f    0.855024\n",
       "Name: A, dtype: float64"
      ]
     },
     "execution_count": 144,
     "metadata": {},
     "output_type": "execute_result"
    }
   ],
   "source": [
    "#You can use callable indexing in Series.\n",
    "\n",
    "df1['A'].loc[lambda s: s > 0]"
   ]
  },
  {
   "cell_type": "markdown",
   "id": "2fd8b591",
   "metadata": {
    "papermill": {
     "duration": 0.063614,
     "end_time": "2022-09-26T13:11:24.046258",
     "exception": false,
     "start_time": "2022-09-26T13:11:23.982644",
     "status": "completed"
    },
    "tags": []
   },
   "source": [
    "## Indexing and selecting data In DataFrame | Combining positional and label-based indexing\n",
    "If you wish to get the 0th and the 2nd elements from the index in the ‘A’ column, you can do:"
   ]
  },
  {
   "cell_type": "code",
   "execution_count": 145,
   "id": "bedc4627",
   "metadata": {
    "execution": {
     "iopub.execute_input": "2022-09-26T13:11:24.177541Z",
     "iopub.status.busy": "2022-09-26T13:11:24.176577Z",
     "iopub.status.idle": "2022-09-26T13:11:24.186908Z",
     "shell.execute_reply": "2022-09-26T13:11:24.185869Z"
    },
    "papermill": {
     "duration": 0.077802,
     "end_time": "2022-09-26T13:11:24.188900",
     "exception": false,
     "start_time": "2022-09-26T13:11:24.111098",
     "status": "completed"
    },
    "tags": []
   },
   "outputs": [
    {
     "data": {
      "text/html": [
       "<div>\n",
       "<style scoped>\n",
       "    .dataframe tbody tr th:only-of-type {\n",
       "        vertical-align: middle;\n",
       "    }\n",
       "\n",
       "    .dataframe tbody tr th {\n",
       "        vertical-align: top;\n",
       "    }\n",
       "\n",
       "    .dataframe thead th {\n",
       "        text-align: right;\n",
       "    }\n",
       "</style>\n",
       "<table border=\"1\" class=\"dataframe\">\n",
       "  <thead>\n",
       "    <tr style=\"text-align: right;\">\n",
       "      <th></th>\n",
       "      <th>A</th>\n",
       "      <th>B</th>\n",
       "    </tr>\n",
       "  </thead>\n",
       "  <tbody>\n",
       "    <tr>\n",
       "      <th>a</th>\n",
       "      <td>1</td>\n",
       "      <td>4</td>\n",
       "    </tr>\n",
       "    <tr>\n",
       "      <th>b</th>\n",
       "      <td>2</td>\n",
       "      <td>5</td>\n",
       "    </tr>\n",
       "    <tr>\n",
       "      <th>c</th>\n",
       "      <td>3</td>\n",
       "      <td>6</td>\n",
       "    </tr>\n",
       "  </tbody>\n",
       "</table>\n",
       "</div>"
      ],
      "text/plain": [
       "   A  B\n",
       "a  1  4\n",
       "b  2  5\n",
       "c  3  6"
      ]
     },
     "execution_count": 145,
     "metadata": {},
     "output_type": "execute_result"
    }
   ],
   "source": [
    "dfd = pd.DataFrame({'A': [1, 2, 3],\n",
    "   ....:                     'B': [4, 5, 6]},\n",
    "   ....:                    index=list('abc'))\n",
    "dfd"
   ]
  },
  {
   "cell_type": "code",
   "execution_count": 146,
   "id": "14360309",
   "metadata": {
    "execution": {
     "iopub.execute_input": "2022-09-26T13:11:24.319724Z",
     "iopub.status.busy": "2022-09-26T13:11:24.318791Z",
     "iopub.status.idle": "2022-09-26T13:11:24.327304Z",
     "shell.execute_reply": "2022-09-26T13:11:24.326329Z"
    },
    "papermill": {
     "duration": 0.076214,
     "end_time": "2022-09-26T13:11:24.329506",
     "exception": false,
     "start_time": "2022-09-26T13:11:24.253292",
     "status": "completed"
    },
    "tags": []
   },
   "outputs": [
    {
     "data": {
      "text/plain": [
       "a    1\n",
       "c    3\n",
       "Name: A, dtype: int64"
      ]
     },
     "execution_count": 146,
     "metadata": {},
     "output_type": "execute_result"
    }
   ],
   "source": [
    "#Getting value of column \"A\" at row or Position 0,2:\n",
    "#dfd.loc[[\"a\",\"c\"],'A']\n",
    "\n",
    "dfd.loc[dfd.index[[0,2]],'A']"
   ]
  },
  {
   "cell_type": "markdown",
   "id": "0fac1971",
   "metadata": {
    "papermill": {
     "duration": 0.063795,
     "end_time": "2022-09-26T13:11:24.457715",
     "exception": false,
     "start_time": "2022-09-26T13:11:24.393920",
     "status": "completed"
    },
    "tags": []
   },
   "source": [
    "> ## ✍️ Note:\n",
    "> This can also be expressed using **.iloc**, by explicitly getting locations on the indexers, and using positional indexing to select things."
   ]
  },
  {
   "cell_type": "code",
   "execution_count": 147,
   "id": "b2601021",
   "metadata": {
    "execution": {
     "iopub.execute_input": "2022-09-26T13:11:24.587841Z",
     "iopub.status.busy": "2022-09-26T13:11:24.586890Z",
     "iopub.status.idle": "2022-09-26T13:11:24.595204Z",
     "shell.execute_reply": "2022-09-26T13:11:24.594193Z"
    },
    "papermill": {
     "duration": 0.075257,
     "end_time": "2022-09-26T13:11:24.597139",
     "exception": false,
     "start_time": "2022-09-26T13:11:24.521882",
     "status": "completed"
    },
    "tags": []
   },
   "outputs": [
    {
     "data": {
      "text/plain": [
       "a    1\n",
       "c    3\n",
       "Name: A, dtype: int64"
      ]
     },
     "execution_count": 147,
     "metadata": {},
     "output_type": "execute_result"
    }
   ],
   "source": [
    "dfd.iloc[[0, 2], dfd.columns.get_loc('A')]"
   ]
  },
  {
   "cell_type": "code",
   "execution_count": 148,
   "id": "bd46aa9d",
   "metadata": {
    "execution": {
     "iopub.execute_input": "2022-09-26T13:11:24.727753Z",
     "iopub.status.busy": "2022-09-26T13:11:24.726877Z",
     "iopub.status.idle": "2022-09-26T13:11:24.737153Z",
     "shell.execute_reply": "2022-09-26T13:11:24.736144Z"
    },
    "papermill": {
     "duration": 0.077608,
     "end_time": "2022-09-26T13:11:24.739269",
     "exception": false,
     "start_time": "2022-09-26T13:11:24.661661",
     "status": "completed"
    },
    "tags": []
   },
   "outputs": [
    {
     "data": {
      "text/html": [
       "<div>\n",
       "<style scoped>\n",
       "    .dataframe tbody tr th:only-of-type {\n",
       "        vertical-align: middle;\n",
       "    }\n",
       "\n",
       "    .dataframe tbody tr th {\n",
       "        vertical-align: top;\n",
       "    }\n",
       "\n",
       "    .dataframe thead th {\n",
       "        text-align: right;\n",
       "    }\n",
       "</style>\n",
       "<table border=\"1\" class=\"dataframe\">\n",
       "  <thead>\n",
       "    <tr style=\"text-align: right;\">\n",
       "      <th></th>\n",
       "      <th>A</th>\n",
       "      <th>B</th>\n",
       "    </tr>\n",
       "  </thead>\n",
       "  <tbody>\n",
       "    <tr>\n",
       "      <th>a</th>\n",
       "      <td>1</td>\n",
       "      <td>4</td>\n",
       "    </tr>\n",
       "    <tr>\n",
       "      <th>c</th>\n",
       "      <td>3</td>\n",
       "      <td>6</td>\n",
       "    </tr>\n",
       "  </tbody>\n",
       "</table>\n",
       "</div>"
      ],
      "text/plain": [
       "   A  B\n",
       "a  1  4\n",
       "c  3  6"
      ]
     },
     "execution_count": 148,
     "metadata": {},
     "output_type": "execute_result"
    }
   ],
   "source": [
    "dfd.iloc[[0, 2], dfd.columns.get_indexer(['A', 'B'])]"
   ]
  },
  {
   "cell_type": "markdown",
   "id": "a0d3e1e5",
   "metadata": {
    "papermill": {
     "duration": 0.06374,
     "end_time": "2022-09-26T13:11:24.867756",
     "exception": false,
     "start_time": "2022-09-26T13:11:24.804016",
     "status": "completed"
    },
    "tags": []
   },
   "source": [
    "## Indexing and selecting data In DataFrame | Indexing with list with missing labels is deprecated:\n",
    "- In prior versions, using .loc[list-of-labels] would work as long as at least 1 of the keys was found (otherwise it would raise a KeyError). This behavior was changed and will now raise a KeyError if at least one label is missing. The recommended alternative is to use .reindex().\n",
    "\n",
    "For example."
   ]
  },
  {
   "cell_type": "code",
   "execution_count": 149,
   "id": "edf7b901",
   "metadata": {
    "execution": {
     "iopub.execute_input": "2022-09-26T13:11:24.997955Z",
     "iopub.status.busy": "2022-09-26T13:11:24.997571Z",
     "iopub.status.idle": "2022-09-26T13:11:25.004409Z",
     "shell.execute_reply": "2022-09-26T13:11:25.003523Z"
    },
    "papermill": {
     "duration": 0.07481,
     "end_time": "2022-09-26T13:11:25.006453",
     "exception": false,
     "start_time": "2022-09-26T13:11:24.931643",
     "status": "completed"
    },
    "tags": []
   },
   "outputs": [
    {
     "data": {
      "text/plain": [
       "0    1\n",
       "1    2\n",
       "2    3\n",
       "dtype: int64"
      ]
     },
     "execution_count": 149,
     "metadata": {},
     "output_type": "execute_result"
    }
   ],
   "source": [
    "s = pd.Series([1, 2, 3])\n",
    "s"
   ]
  },
  {
   "cell_type": "code",
   "execution_count": 150,
   "id": "a9c871d5",
   "metadata": {
    "execution": {
     "iopub.execute_input": "2022-09-26T13:11:25.138171Z",
     "iopub.status.busy": "2022-09-26T13:11:25.136423Z",
     "iopub.status.idle": "2022-09-26T13:11:25.144642Z",
     "shell.execute_reply": "2022-09-26T13:11:25.143689Z"
    },
    "papermill": {
     "duration": 0.075756,
     "end_time": "2022-09-26T13:11:25.146665",
     "exception": false,
     "start_time": "2022-09-26T13:11:25.070909",
     "status": "completed"
    },
    "tags": []
   },
   "outputs": [
    {
     "data": {
      "text/plain": [
       "1    2\n",
       "2    3\n",
       "dtype: int64"
      ]
     },
     "execution_count": 150,
     "metadata": {},
     "output_type": "execute_result"
    }
   ],
   "source": [
    "s.loc[[1, 2]]\n"
   ]
  },
  {
   "cell_type": "markdown",
   "id": "1ec59e68",
   "metadata": {
    "papermill": {
     "duration": 0.063982,
     "end_time": "2022-09-26T13:11:25.275468",
     "exception": false,
     "start_time": "2022-09-26T13:11:25.211486",
     "status": "completed"
    },
    "tags": []
   },
   "source": [
    "``` python \n",
    "# Previous Behavior:\n",
    "\n",
    "s.loc[[1, 2, 3]]\n",
    "Out[4]:\n",
    "1    2.0\n",
    "2    3.0\n",
    "3    NaN\n",
    "dtype: float64\n",
    "\n",
    "#Current Behavior:\n",
    "\n",
    "s.loc[[1, 2, 3]]\n",
    "---------------------------------------------------------------------------\n",
    "KeyError                                  Traceback (most recent call last)\n",
    "/tmp/ipykernel_17/3597896592.py in <module>\n",
    "----> 1 s.loc[[1, 2, 3]]\n",
    "----Other Error removed----\n",
    "\n",
    "KeyError: '[3] not in index'\n",
    "    \n",
    "```\n"
   ]
  },
  {
   "cell_type": "markdown",
   "id": "a689a857",
   "metadata": {
    "papermill": {
     "duration": 0.074245,
     "end_time": "2022-09-26T13:11:25.414684",
     "exception": false,
     "start_time": "2022-09-26T13:11:25.340439",
     "status": "completed"
    },
    "tags": []
   },
   "source": [
    "### Indexing with list with missing labels is deprecated: | Reindexing\n",
    "- The idiomatic way to achieve selecting potentially not-found elements is via .reindex(). See also the section on reindexing."
   ]
  },
  {
   "cell_type": "code",
   "execution_count": 151,
   "id": "e9cff6d5",
   "metadata": {
    "execution": {
     "iopub.execute_input": "2022-09-26T13:11:25.568100Z",
     "iopub.status.busy": "2022-09-26T13:11:25.567066Z",
     "iopub.status.idle": "2022-09-26T13:11:25.577217Z",
     "shell.execute_reply": "2022-09-26T13:11:25.575956Z"
    },
    "papermill": {
     "duration": 0.09001,
     "end_time": "2022-09-26T13:11:25.579651",
     "exception": false,
     "start_time": "2022-09-26T13:11:25.489641",
     "status": "completed"
    },
    "tags": []
   },
   "outputs": [
    {
     "data": {
      "text/plain": [
       "1    2.0\n",
       "2    3.0\n",
       "3    NaN\n",
       "dtype: float64"
      ]
     },
     "execution_count": 151,
     "metadata": {},
     "output_type": "execute_result"
    }
   ],
   "source": [
    "s.reindex([1, 2, 3])"
   ]
  },
  {
   "cell_type": "markdown",
   "id": "4a37ede2",
   "metadata": {
    "papermill": {
     "duration": 0.06424,
     "end_time": "2022-09-26T13:11:25.709279",
     "exception": false,
     "start_time": "2022-09-26T13:11:25.645039",
     "status": "completed"
    },
    "tags": []
   },
   "source": [
    "> #### Alternatively, if you want to select only valid keys, the following is idiomatic and efficient; it is guaranteed to preserve the dtype of the selection."
   ]
  },
  {
   "cell_type": "code",
   "execution_count": 152,
   "id": "a21d88ef",
   "metadata": {
    "execution": {
     "iopub.execute_input": "2022-09-26T13:11:25.840916Z",
     "iopub.status.busy": "2022-09-26T13:11:25.840007Z",
     "iopub.status.idle": "2022-09-26T13:11:25.849818Z",
     "shell.execute_reply": "2022-09-26T13:11:25.848722Z"
    },
    "papermill": {
     "duration": 0.077393,
     "end_time": "2022-09-26T13:11:25.852034",
     "exception": false,
     "start_time": "2022-09-26T13:11:25.774641",
     "status": "completed"
    },
    "tags": []
   },
   "outputs": [
    {
     "data": {
      "text/plain": [
       "1    2\n",
       "2    3\n",
       "dtype: int64"
      ]
     },
     "execution_count": 152,
     "metadata": {},
     "output_type": "execute_result"
    }
   ],
   "source": [
    "labels = [1, 2, 3]\n",
    "s.loc[s.index.intersection(labels)]"
   ]
  },
  {
   "cell_type": "markdown",
   "id": "8cbb5260",
   "metadata": {
    "papermill": {
     "duration": 0.108202,
     "end_time": "2022-09-26T13:11:26.024695",
     "exception": false,
     "start_time": "2022-09-26T13:11:25.916493",
     "status": "completed"
    },
    "tags": []
   },
   "source": [
    "> #### Having a duplicated index will raise for a .reindex():"
   ]
  },
  {
   "cell_type": "code",
   "execution_count": 153,
   "id": "4c486491",
   "metadata": {
    "execution": {
     "iopub.execute_input": "2022-09-26T13:11:26.165221Z",
     "iopub.status.busy": "2022-09-26T13:11:26.164859Z",
     "iopub.status.idle": "2022-09-26T13:11:26.170070Z",
     "shell.execute_reply": "2022-09-26T13:11:26.169139Z"
    },
    "papermill": {
     "duration": 0.074442,
     "end_time": "2022-09-26T13:11:26.171995",
     "exception": false,
     "start_time": "2022-09-26T13:11:26.097553",
     "status": "completed"
    },
    "tags": []
   },
   "outputs": [],
   "source": [
    "s = pd.Series(np.arange(4), index=['a', 'a', 'b', 'c'])\n",
    "labels = ['c', 'd']"
   ]
  },
  {
   "cell_type": "markdown",
   "id": "c452e1d1",
   "metadata": {
    "papermill": {
     "duration": 0.073618,
     "end_time": "2022-09-26T13:11:26.312596",
     "exception": false,
     "start_time": "2022-09-26T13:11:26.238978",
     "status": "completed"
    },
    "tags": []
   },
   "source": [
    "``` python\n",
    "s.reindex(labels)\n",
    "\n",
    "---------------------------------------------------------------------------\n",
    "ValueError                                Traceback (most recent call last)\n",
    "/tmp/ipykernel_17/3168030933.py in <module>\n",
    "----> 1 s.reindex(labels)\n",
    "\n",
    "\n",
    "----extra error----\n",
    "ValueError: cannot reindex from a duplicate axis\n",
    "  \n",
    "```\n",
    "\n"
   ]
  },
  {
   "cell_type": "code",
   "execution_count": 154,
   "id": "6adbe4e8",
   "metadata": {
    "execution": {
     "iopub.execute_input": "2022-09-26T13:11:26.450718Z",
     "iopub.status.busy": "2022-09-26T13:11:26.449876Z",
     "iopub.status.idle": "2022-09-26T13:11:26.461073Z",
     "shell.execute_reply": "2022-09-26T13:11:26.460092Z"
    },
    "papermill": {
     "duration": 0.082237,
     "end_time": "2022-09-26T13:11:26.463391",
     "exception": false,
     "start_time": "2022-09-26T13:11:26.381154",
     "status": "completed"
    },
    "tags": []
   },
   "outputs": [
    {
     "data": {
      "text/plain": [
       "c    3.0\n",
       "d    NaN\n",
       "dtype: float64"
      ]
     },
     "execution_count": 154,
     "metadata": {},
     "output_type": "execute_result"
    }
   ],
   "source": [
    "s.loc[s.index.intersection(labels)].reindex(labels)"
   ]
  },
  {
   "cell_type": "markdown",
   "id": "e4537caf",
   "metadata": {
    "papermill": {
     "duration": 0.074997,
     "end_time": "2022-09-26T13:11:26.606111",
     "exception": false,
     "start_time": "2022-09-26T13:11:26.531114",
     "status": "completed"
    },
    "tags": []
   },
   "source": [
    "> #### However, this would still raise if your resulting index is duplicated."
   ]
  },
  {
   "cell_type": "markdown",
   "id": "d7b0d5f1",
   "metadata": {
    "papermill": {
     "duration": 0.064479,
     "end_time": "2022-09-26T13:11:26.735769",
     "exception": false,
     "start_time": "2022-09-26T13:11:26.671290",
     "status": "completed"
    },
    "tags": []
   },
   "source": [
    "``` python\n",
    "\n",
    "labels = ['a', 'd']\n",
    "s.loc[s.index.intersection(labels)].reindex(labels)\n",
    "\n",
    "\n",
    "---------------------------------------------------------------------------\n",
    "ValueError                                Traceback (most recent call last)\n",
    "/tmp/ipykernel_17/2354864613.py in <module>\n",
    "      1 labels = ['a', 'd']\n",
    "----> 2 s.loc[s.index.intersection(labels)].reindex(labels)\n",
    "\n",
    "----extra error rempved----\n",
    "ValueError: cannot reindex from a duplicate axis\n",
    "    \n",
    "```"
   ]
  },
  {
   "cell_type": "markdown",
   "id": "36c82034",
   "metadata": {
    "papermill": {
     "duration": 0.064856,
     "end_time": "2022-09-26T13:11:26.865597",
     "exception": false,
     "start_time": "2022-09-26T13:11:26.800741",
     "status": "completed"
    },
    "tags": []
   },
   "source": [
    "## Selecting random samples:\n",
    "A random selection of rows or columns from a Series or DataFrame with the sample() method. The method will sample rows by default, and accepts a specific number of rows/columns to return, or a fraction of rows."
   ]
  },
  {
   "cell_type": "code",
   "execution_count": 155,
   "id": "10a2875a",
   "metadata": {
    "execution": {
     "iopub.execute_input": "2022-09-26T13:11:26.997189Z",
     "iopub.status.busy": "2022-09-26T13:11:26.996835Z",
     "iopub.status.idle": "2022-09-26T13:11:27.004121Z",
     "shell.execute_reply": "2022-09-26T13:11:27.003102Z"
    },
    "papermill": {
     "duration": 0.075505,
     "end_time": "2022-09-26T13:11:27.006240",
     "exception": false,
     "start_time": "2022-09-26T13:11:26.930735",
     "status": "completed"
    },
    "tags": []
   },
   "outputs": [
    {
     "data": {
      "text/plain": [
       "0    0\n",
       "1    1\n",
       "2    2\n",
       "3    3\n",
       "4    4\n",
       "5    5\n",
       "dtype: int64"
      ]
     },
     "execution_count": 155,
     "metadata": {},
     "output_type": "execute_result"
    }
   ],
   "source": [
    "s = pd.Series([0, 1, 2, 3, 4, 5])\n",
    "s"
   ]
  },
  {
   "cell_type": "code",
   "execution_count": 156,
   "id": "88369dbf",
   "metadata": {
    "execution": {
     "iopub.execute_input": "2022-09-26T13:11:27.138207Z",
     "iopub.status.busy": "2022-09-26T13:11:27.137896Z",
     "iopub.status.idle": "2022-09-26T13:11:27.144702Z",
     "shell.execute_reply": "2022-09-26T13:11:27.143794Z"
    },
    "papermill": {
     "duration": 0.074122,
     "end_time": "2022-09-26T13:11:27.146683",
     "exception": false,
     "start_time": "2022-09-26T13:11:27.072561",
     "status": "completed"
    },
    "tags": []
   },
   "outputs": [
    {
     "data": {
      "text/plain": [
       "4    4\n",
       "dtype: int64"
      ]
     },
     "execution_count": 156,
     "metadata": {},
     "output_type": "execute_result"
    }
   ],
   "source": [
    "s.sample() ## When no arguments are passed, returns 1 row."
   ]
  },
  {
   "cell_type": "code",
   "execution_count": 157,
   "id": "6d377910",
   "metadata": {
    "execution": {
     "iopub.execute_input": "2022-09-26T13:11:27.278101Z",
     "iopub.status.busy": "2022-09-26T13:11:27.277267Z",
     "iopub.status.idle": "2022-09-26T13:11:27.284583Z",
     "shell.execute_reply": "2022-09-26T13:11:27.283649Z"
    },
    "papermill": {
     "duration": 0.075307,
     "end_time": "2022-09-26T13:11:27.286551",
     "exception": false,
     "start_time": "2022-09-26T13:11:27.211244",
     "status": "completed"
    },
    "tags": []
   },
   "outputs": [
    {
     "data": {
      "text/plain": [
       "1    1\n",
       "2    2\n",
       "4    4\n",
       "dtype: int64"
      ]
     },
     "execution_count": 157,
     "metadata": {},
     "output_type": "execute_result"
    }
   ],
   "source": [
    "s.sample(n=3) ## One may specify either a number of rows:"
   ]
  },
  {
   "cell_type": "code",
   "execution_count": 158,
   "id": "a7124e2e",
   "metadata": {
    "execution": {
     "iopub.execute_input": "2022-09-26T13:11:27.419411Z",
     "iopub.status.busy": "2022-09-26T13:11:27.418322Z",
     "iopub.status.idle": "2022-09-26T13:11:27.426054Z",
     "shell.execute_reply": "2022-09-26T13:11:27.425056Z"
    },
    "papermill": {
     "duration": 0.076025,
     "end_time": "2022-09-26T13:11:27.428043",
     "exception": false,
     "start_time": "2022-09-26T13:11:27.352018",
     "status": "completed"
    },
    "tags": []
   },
   "outputs": [
    {
     "data": {
      "text/plain": [
       "1    1\n",
       "5    5\n",
       "4    4\n",
       "dtype: int64"
      ]
     },
     "execution_count": 158,
     "metadata": {},
     "output_type": "execute_result"
    }
   ],
   "source": [
    "# Or a fraction of the rows:\n",
    "s.sample(frac=0.5)"
   ]
  },
  {
   "cell_type": "markdown",
   "id": "64c630b0",
   "metadata": {
    "papermill": {
     "duration": 0.074418,
     "end_time": "2022-09-26T13:11:27.569784",
     "exception": false,
     "start_time": "2022-09-26T13:11:27.495366",
     "status": "completed"
    },
    "tags": []
   },
   "source": [
    "## Indexing and selecting data In DataFrame | Setting with enlargement:\n",
    "- The .loc / [] operations can perform enlargement when setting a non-existent key for that axis.\n",
    "\n",
    "- In the Series case this is effectively an appending operation."
   ]
  },
  {
   "cell_type": "code",
   "execution_count": 159,
   "id": "bd19503a",
   "metadata": {
    "execution": {
     "iopub.execute_input": "2022-09-26T13:11:27.702099Z",
     "iopub.status.busy": "2022-09-26T13:11:27.701748Z",
     "iopub.status.idle": "2022-09-26T13:11:27.708967Z",
     "shell.execute_reply": "2022-09-26T13:11:27.708048Z"
    },
    "papermill": {
     "duration": 0.075541,
     "end_time": "2022-09-26T13:11:27.710887",
     "exception": false,
     "start_time": "2022-09-26T13:11:27.635346",
     "status": "completed"
    },
    "tags": []
   },
   "outputs": [
    {
     "data": {
      "text/plain": [
       "0    1\n",
       "1    2\n",
       "2    3\n",
       "dtype: int64"
      ]
     },
     "execution_count": 159,
     "metadata": {},
     "output_type": "execute_result"
    }
   ],
   "source": [
    "se = pd.Series([1, 2, 3])\n",
    "se"
   ]
  },
  {
   "cell_type": "code",
   "execution_count": 160,
   "id": "abb8bddb",
   "metadata": {
    "execution": {
     "iopub.execute_input": "2022-09-26T13:11:27.843713Z",
     "iopub.status.busy": "2022-09-26T13:11:27.842055Z",
     "iopub.status.idle": "2022-09-26T13:11:27.850771Z",
     "shell.execute_reply": "2022-09-26T13:11:27.849817Z"
    },
    "papermill": {
     "duration": 0.077105,
     "end_time": "2022-09-26T13:11:27.852860",
     "exception": false,
     "start_time": "2022-09-26T13:11:27.775755",
     "status": "completed"
    },
    "tags": []
   },
   "outputs": [
    {
     "data": {
      "text/plain": [
       "0    1.0\n",
       "1    2.0\n",
       "2    3.0\n",
       "5    5.0\n",
       "dtype: float64"
      ]
     },
     "execution_count": 160,
     "metadata": {},
     "output_type": "execute_result"
    }
   ],
   "source": [
    "se[5] = 5.    #Setting a new index 5 with value 5.0\n",
    "se"
   ]
  },
  {
   "cell_type": "code",
   "execution_count": 161,
   "id": "c4cf053b",
   "metadata": {
    "execution": {
     "iopub.execute_input": "2022-09-26T13:11:27.985398Z",
     "iopub.status.busy": "2022-09-26T13:11:27.984587Z",
     "iopub.status.idle": "2022-09-26T13:11:27.994439Z",
     "shell.execute_reply": "2022-09-26T13:11:27.993537Z"
    },
    "papermill": {
     "duration": 0.077887,
     "end_time": "2022-09-26T13:11:27.996390",
     "exception": false,
     "start_time": "2022-09-26T13:11:27.918503",
     "status": "completed"
    },
    "tags": []
   },
   "outputs": [
    {
     "data": {
      "text/html": [
       "<div>\n",
       "<style scoped>\n",
       "    .dataframe tbody tr th:only-of-type {\n",
       "        vertical-align: middle;\n",
       "    }\n",
       "\n",
       "    .dataframe tbody tr th {\n",
       "        vertical-align: top;\n",
       "    }\n",
       "\n",
       "    .dataframe thead th {\n",
       "        text-align: right;\n",
       "    }\n",
       "</style>\n",
       "<table border=\"1\" class=\"dataframe\">\n",
       "  <thead>\n",
       "    <tr style=\"text-align: right;\">\n",
       "      <th></th>\n",
       "      <th>A</th>\n",
       "      <th>B</th>\n",
       "    </tr>\n",
       "  </thead>\n",
       "  <tbody>\n",
       "    <tr>\n",
       "      <th>0</th>\n",
       "      <td>0</td>\n",
       "      <td>1</td>\n",
       "    </tr>\n",
       "    <tr>\n",
       "      <th>1</th>\n",
       "      <td>2</td>\n",
       "      <td>3</td>\n",
       "    </tr>\n",
       "    <tr>\n",
       "      <th>2</th>\n",
       "      <td>4</td>\n",
       "      <td>5</td>\n",
       "    </tr>\n",
       "  </tbody>\n",
       "</table>\n",
       "</div>"
      ],
      "text/plain": [
       "   A  B\n",
       "0  0  1\n",
       "1  2  3\n",
       "2  4  5"
      ]
     },
     "execution_count": 161,
     "metadata": {},
     "output_type": "execute_result"
    }
   ],
   "source": [
    "dfi = pd.DataFrame(np.arange(6).reshape(3, 2),\n",
    "   .....:                    columns=['A', 'B'])\n",
    "dfi"
   ]
  },
  {
   "cell_type": "code",
   "execution_count": 162,
   "id": "e6d12a70",
   "metadata": {
    "execution": {
     "iopub.execute_input": "2022-09-26T13:11:28.129921Z",
     "iopub.status.busy": "2022-09-26T13:11:28.128362Z",
     "iopub.status.idle": "2022-09-26T13:11:28.138508Z",
     "shell.execute_reply": "2022-09-26T13:11:28.137544Z"
    },
    "papermill": {
     "duration": 0.0788,
     "end_time": "2022-09-26T13:11:28.140533",
     "exception": false,
     "start_time": "2022-09-26T13:11:28.061733",
     "status": "completed"
    },
    "tags": []
   },
   "outputs": [
    {
     "data": {
      "text/html": [
       "<div>\n",
       "<style scoped>\n",
       "    .dataframe tbody tr th:only-of-type {\n",
       "        vertical-align: middle;\n",
       "    }\n",
       "\n",
       "    .dataframe tbody tr th {\n",
       "        vertical-align: top;\n",
       "    }\n",
       "\n",
       "    .dataframe thead th {\n",
       "        text-align: right;\n",
       "    }\n",
       "</style>\n",
       "<table border=\"1\" class=\"dataframe\">\n",
       "  <thead>\n",
       "    <tr style=\"text-align: right;\">\n",
       "      <th></th>\n",
       "      <th>A</th>\n",
       "      <th>B</th>\n",
       "      <th>C</th>\n",
       "    </tr>\n",
       "  </thead>\n",
       "  <tbody>\n",
       "    <tr>\n",
       "      <th>0</th>\n",
       "      <td>0</td>\n",
       "      <td>1</td>\n",
       "      <td>0</td>\n",
       "    </tr>\n",
       "    <tr>\n",
       "      <th>1</th>\n",
       "      <td>2</td>\n",
       "      <td>3</td>\n",
       "      <td>2</td>\n",
       "    </tr>\n",
       "    <tr>\n",
       "      <th>2</th>\n",
       "      <td>4</td>\n",
       "      <td>5</td>\n",
       "      <td>4</td>\n",
       "    </tr>\n",
       "  </tbody>\n",
       "</table>\n",
       "</div>"
      ],
      "text/plain": [
       "   A  B  C\n",
       "0  0  1  0\n",
       "1  2  3  2\n",
       "2  4  5  4"
      ]
     },
     "execution_count": 162,
     "metadata": {},
     "output_type": "execute_result"
    }
   ],
   "source": [
    "dfi.loc[:, 'C'] = dfi.loc[:, 'A']    #Column \"A\" value will Setting with to new column 'C'\n",
    "dfi\n"
   ]
  },
  {
   "cell_type": "code",
   "execution_count": 163,
   "id": "1c6c72a8",
   "metadata": {
    "execution": {
     "iopub.execute_input": "2022-09-26T13:11:28.273729Z",
     "iopub.status.busy": "2022-09-26T13:11:28.272873Z",
     "iopub.status.idle": "2022-09-26T13:11:28.284497Z",
     "shell.execute_reply": "2022-09-26T13:11:28.283517Z"
    },
    "papermill": {
     "duration": 0.080646,
     "end_time": "2022-09-26T13:11:28.286461",
     "exception": false,
     "start_time": "2022-09-26T13:11:28.205815",
     "status": "completed"
    },
    "tags": []
   },
   "outputs": [
    {
     "data": {
      "text/html": [
       "<div>\n",
       "<style scoped>\n",
       "    .dataframe tbody tr th:only-of-type {\n",
       "        vertical-align: middle;\n",
       "    }\n",
       "\n",
       "    .dataframe tbody tr th {\n",
       "        vertical-align: top;\n",
       "    }\n",
       "\n",
       "    .dataframe thead th {\n",
       "        text-align: right;\n",
       "    }\n",
       "</style>\n",
       "<table border=\"1\" class=\"dataframe\">\n",
       "  <thead>\n",
       "    <tr style=\"text-align: right;\">\n",
       "      <th></th>\n",
       "      <th>A</th>\n",
       "      <th>B</th>\n",
       "      <th>C</th>\n",
       "    </tr>\n",
       "  </thead>\n",
       "  <tbody>\n",
       "    <tr>\n",
       "      <th>0</th>\n",
       "      <td>0</td>\n",
       "      <td>1</td>\n",
       "      <td>0</td>\n",
       "    </tr>\n",
       "    <tr>\n",
       "      <th>1</th>\n",
       "      <td>2</td>\n",
       "      <td>3</td>\n",
       "      <td>2</td>\n",
       "    </tr>\n",
       "    <tr>\n",
       "      <th>2</th>\n",
       "      <td>4</td>\n",
       "      <td>5</td>\n",
       "      <td>4</td>\n",
       "    </tr>\n",
       "    <tr>\n",
       "      <th>3</th>\n",
       "      <td>5</td>\n",
       "      <td>5</td>\n",
       "      <td>5</td>\n",
       "    </tr>\n",
       "  </tbody>\n",
       "</table>\n",
       "</div>"
      ],
      "text/plain": [
       "   A  B  C\n",
       "0  0  1  0\n",
       "1  2  3  2\n",
       "2  4  5  4\n",
       "3  5  5  5"
      ]
     },
     "execution_count": 163,
     "metadata": {},
     "output_type": "execute_result"
    }
   ],
   "source": [
    "dfi.loc[3] = 5  # Setting a new row index \"3\" with value 5\n",
    "dfi"
   ]
  },
  {
   "cell_type": "markdown",
   "id": "88919d58",
   "metadata": {
    "papermill": {
     "duration": 0.06543,
     "end_time": "2022-09-26T13:11:28.418220",
     "exception": false,
     "start_time": "2022-09-26T13:11:28.352790",
     "status": "completed"
    },
    "tags": []
   },
   "source": [
    "## Fast scalar value getting and setting | Indexing and selecting data In DataFrame:\n",
    "- Since indexing with [] must handle a lot of cases (single-label access, slicing, boolean indexing, etc.), it has a bit of overhead in order to figure out what you’re asking for. If you only want to access a scalar value, the fastest way is to use the at and iat methods, which are implemented on all of the data structures.\n",
    "\n",
    "- Similarly to loc, at provides label based scalar lookups, while, iat provides integer based lookups analogously to iloc"
   ]
  },
  {
   "cell_type": "code",
   "execution_count": 164,
   "id": "70c7046a",
   "metadata": {
    "execution": {
     "iopub.execute_input": "2022-09-26T13:11:28.551691Z",
     "iopub.status.busy": "2022-09-26T13:11:28.550741Z",
     "iopub.status.idle": "2022-09-26T13:11:28.559641Z",
     "shell.execute_reply": "2022-09-26T13:11:28.558380Z"
    },
    "papermill": {
     "duration": 0.078645,
     "end_time": "2022-09-26T13:11:28.562109",
     "exception": false,
     "start_time": "2022-09-26T13:11:28.483464",
     "status": "completed"
    },
    "tags": []
   },
   "outputs": [
    {
     "name": "stdout",
     "output_type": "stream",
     "text": [
      "0    0\n",
      "1    1\n",
      "2    2\n",
      "3    3\n",
      "4    4\n",
      "5    5\n",
      "dtype: int64\n"
     ]
    },
    {
     "data": {
      "text/plain": [
       "5"
      ]
     },
     "execution_count": 164,
     "metadata": {},
     "output_type": "execute_result"
    }
   ],
   "source": [
    "print(s)\n",
    "s.iat[5]"
   ]
  },
  {
   "cell_type": "code",
   "execution_count": 165,
   "id": "ff603c84",
   "metadata": {
    "execution": {
     "iopub.execute_input": "2022-09-26T13:11:28.696901Z",
     "iopub.status.busy": "2022-09-26T13:11:28.696114Z",
     "iopub.status.idle": "2022-09-26T13:11:28.707471Z",
     "shell.execute_reply": "2022-09-26T13:11:28.705667Z"
    },
    "papermill": {
     "duration": 0.081823,
     "end_time": "2022-09-26T13:11:28.710322",
     "exception": false,
     "start_time": "2022-09-26T13:11:28.628499",
     "status": "completed"
    },
    "tags": []
   },
   "outputs": [
    {
     "name": "stdout",
     "output_type": "stream",
     "text": [
      "                   A         B         C         D\n",
      "2000-01-01 -0.693913  0.762382 -1.556214  0.972583\n",
      "2000-01-02  0.061439  2.983050 -0.151774  0.972846\n",
      "2000-01-03 -0.060725  0.213316  0.361111  0.442083\n",
      "2000-01-04 -0.781887 -0.395696  0.498175  0.239725\n",
      "2000-01-05  1.296831  0.815954 -1.164301  0.630668\n",
      "2000-01-06 -0.685639  0.259600 -2.053700  1.280533\n",
      "2000-01-07 -0.202421  0.718932 -0.965612 -1.490796\n",
      "2000-01-08  1.082973 -0.616383 -0.676444 -0.038139\n"
     ]
    },
    {
     "data": {
      "text/plain": [
       "-0.685639359045093"
      ]
     },
     "execution_count": 165,
     "metadata": {},
     "output_type": "execute_result"
    }
   ],
   "source": [
    "print(df)\n",
    "\n",
    "df.at[dates[5], 'A']"
   ]
  },
  {
   "cell_type": "code",
   "execution_count": 166,
   "id": "dcc03746",
   "metadata": {
    "execution": {
     "iopub.execute_input": "2022-09-26T13:11:28.845604Z",
     "iopub.status.busy": "2022-09-26T13:11:28.844753Z",
     "iopub.status.idle": "2022-09-26T13:11:28.851593Z",
     "shell.execute_reply": "2022-09-26T13:11:28.850550Z"
    },
    "papermill": {
     "duration": 0.075584,
     "end_time": "2022-09-26T13:11:28.853556",
     "exception": false,
     "start_time": "2022-09-26T13:11:28.777972",
     "status": "completed"
    },
    "tags": []
   },
   "outputs": [
    {
     "data": {
      "text/plain": [
       "-0.7818870574866437"
      ]
     },
     "execution_count": 166,
     "metadata": {},
     "output_type": "execute_result"
    }
   ],
   "source": [
    "df.iat[3, 0]"
   ]
  },
  {
   "cell_type": "markdown",
   "id": "cb66fe70",
   "metadata": {
    "papermill": {
     "duration": 0.065722,
     "end_time": "2022-09-26T13:11:28.985373",
     "exception": false,
     "start_time": "2022-09-26T13:11:28.919651",
     "status": "completed"
    },
    "tags": []
   },
   "source": [
    ">You can also set using these same indexers."
   ]
  },
  {
   "cell_type": "code",
   "execution_count": 167,
   "id": "ad3fd8c3",
   "metadata": {
    "execution": {
     "iopub.execute_input": "2022-09-26T13:11:29.120532Z",
     "iopub.status.busy": "2022-09-26T13:11:29.120186Z",
     "iopub.status.idle": "2022-09-26T13:11:29.134687Z",
     "shell.execute_reply": "2022-09-26T13:11:29.133686Z"
    },
    "papermill": {
     "duration": 0.0842,
     "end_time": "2022-09-26T13:11:29.136608",
     "exception": false,
     "start_time": "2022-09-26T13:11:29.052408",
     "status": "completed"
    },
    "tags": []
   },
   "outputs": [
    {
     "data": {
      "text/html": [
       "<div>\n",
       "<style scoped>\n",
       "    .dataframe tbody tr th:only-of-type {\n",
       "        vertical-align: middle;\n",
       "    }\n",
       "\n",
       "    .dataframe tbody tr th {\n",
       "        vertical-align: top;\n",
       "    }\n",
       "\n",
       "    .dataframe thead th {\n",
       "        text-align: right;\n",
       "    }\n",
       "</style>\n",
       "<table border=\"1\" class=\"dataframe\">\n",
       "  <thead>\n",
       "    <tr style=\"text-align: right;\">\n",
       "      <th></th>\n",
       "      <th>A</th>\n",
       "      <th>B</th>\n",
       "      <th>C</th>\n",
       "      <th>D</th>\n",
       "      <th>E</th>\n",
       "    </tr>\n",
       "  </thead>\n",
       "  <tbody>\n",
       "    <tr>\n",
       "      <th>2000-01-01</th>\n",
       "      <td>-0.693913</td>\n",
       "      <td>0.762382</td>\n",
       "      <td>-1.556214</td>\n",
       "      <td>0.972583</td>\n",
       "      <td>NaN</td>\n",
       "    </tr>\n",
       "    <tr>\n",
       "      <th>2000-01-02</th>\n",
       "      <td>0.061439</td>\n",
       "      <td>2.983050</td>\n",
       "      <td>-0.151774</td>\n",
       "      <td>0.972846</td>\n",
       "      <td>NaN</td>\n",
       "    </tr>\n",
       "    <tr>\n",
       "      <th>2000-01-03</th>\n",
       "      <td>-0.060725</td>\n",
       "      <td>0.213316</td>\n",
       "      <td>0.361111</td>\n",
       "      <td>0.442083</td>\n",
       "      <td>NaN</td>\n",
       "    </tr>\n",
       "    <tr>\n",
       "      <th>2000-01-04</th>\n",
       "      <td>7.000000</td>\n",
       "      <td>-0.395696</td>\n",
       "      <td>0.498175</td>\n",
       "      <td>0.239725</td>\n",
       "      <td>NaN</td>\n",
       "    </tr>\n",
       "    <tr>\n",
       "      <th>2000-01-05</th>\n",
       "      <td>1.296831</td>\n",
       "      <td>0.815954</td>\n",
       "      <td>-1.164301</td>\n",
       "      <td>0.630668</td>\n",
       "      <td>NaN</td>\n",
       "    </tr>\n",
       "    <tr>\n",
       "      <th>2000-01-06</th>\n",
       "      <td>-0.685639</td>\n",
       "      <td>0.259600</td>\n",
       "      <td>-2.053700</td>\n",
       "      <td>1.280533</td>\n",
       "      <td>7.0</td>\n",
       "    </tr>\n",
       "    <tr>\n",
       "      <th>2000-01-07</th>\n",
       "      <td>-0.202421</td>\n",
       "      <td>0.718932</td>\n",
       "      <td>-0.965612</td>\n",
       "      <td>-1.490796</td>\n",
       "      <td>NaN</td>\n",
       "    </tr>\n",
       "    <tr>\n",
       "      <th>2000-01-08</th>\n",
       "      <td>1.082973</td>\n",
       "      <td>-0.616383</td>\n",
       "      <td>-0.676444</td>\n",
       "      <td>-0.038139</td>\n",
       "      <td>NaN</td>\n",
       "    </tr>\n",
       "  </tbody>\n",
       "</table>\n",
       "</div>"
      ],
      "text/plain": [
       "                   A         B         C         D    E\n",
       "2000-01-01 -0.693913  0.762382 -1.556214  0.972583  NaN\n",
       "2000-01-02  0.061439  2.983050 -0.151774  0.972846  NaN\n",
       "2000-01-03 -0.060725  0.213316  0.361111  0.442083  NaN\n",
       "2000-01-04  7.000000 -0.395696  0.498175  0.239725  NaN\n",
       "2000-01-05  1.296831  0.815954 -1.164301  0.630668  NaN\n",
       "2000-01-06 -0.685639  0.259600 -2.053700  1.280533  7.0\n",
       "2000-01-07 -0.202421  0.718932 -0.965612 -1.490796  NaN\n",
       "2000-01-08  1.082973 -0.616383 -0.676444 -0.038139  NaN"
      ]
     },
     "execution_count": 167,
     "metadata": {},
     "output_type": "execute_result"
    }
   ],
   "source": [
    "df.at[dates[5], 'E'] = 7\n",
    "df.iat[3, 0] = 7\n",
    "df"
   ]
  },
  {
   "cell_type": "markdown",
   "id": "9c1e1faa",
   "metadata": {
    "papermill": {
     "duration": 0.067929,
     "end_time": "2022-09-26T13:11:29.270515",
     "exception": false,
     "start_time": "2022-09-26T13:11:29.202586",
     "status": "completed"
    },
    "tags": []
   },
   "source": [
    "## Boolean indexing:\n",
    "Another common operation is the use of boolean vectors to filter the data. The operators are: | for or, & for and, and ~ for not. These must be grouped by using parentheses, since by default Python will evaluate an expression such as df['A'] > 2 & df['B'] < 3 as df['A'] > (2 & df['B']) < 3, while the desired evaluation order is (df['A'] > 2) & (df['B'] < 3).\n"
   ]
  },
  {
   "cell_type": "code",
   "execution_count": 168,
   "id": "8db84d3a",
   "metadata": {
    "execution": {
     "iopub.execute_input": "2022-09-26T13:11:29.403728Z",
     "iopub.status.busy": "2022-09-26T13:11:29.403347Z",
     "iopub.status.idle": "2022-09-26T13:11:29.410484Z",
     "shell.execute_reply": "2022-09-26T13:11:29.409634Z"
    },
    "papermill": {
     "duration": 0.076392,
     "end_time": "2022-09-26T13:11:29.412422",
     "exception": false,
     "start_time": "2022-09-26T13:11:29.336030",
     "status": "completed"
    },
    "tags": []
   },
   "outputs": [
    {
     "data": {
      "text/plain": [
       "0   -3\n",
       "1   -2\n",
       "2   -1\n",
       "3    0\n",
       "4    1\n",
       "5    2\n",
       "6    3\n",
       "dtype: int64"
      ]
     },
     "execution_count": 168,
     "metadata": {},
     "output_type": "execute_result"
    }
   ],
   "source": [
    "s = pd.Series(range(-3, 4))\n",
    "s"
   ]
  },
  {
   "cell_type": "code",
   "execution_count": 169,
   "id": "0e9d8383",
   "metadata": {
    "execution": {
     "iopub.execute_input": "2022-09-26T13:11:29.546026Z",
     "iopub.status.busy": "2022-09-26T13:11:29.545104Z",
     "iopub.status.idle": "2022-09-26T13:11:29.552361Z",
     "shell.execute_reply": "2022-09-26T13:11:29.551469Z"
    },
    "papermill": {
     "duration": 0.076285,
     "end_time": "2022-09-26T13:11:29.554325",
     "exception": false,
     "start_time": "2022-09-26T13:11:29.478040",
     "status": "completed"
    },
    "tags": []
   },
   "outputs": [
    {
     "data": {
      "text/plain": [
       "4    1\n",
       "5    2\n",
       "6    3\n",
       "dtype: int64"
      ]
     },
     "execution_count": 169,
     "metadata": {},
     "output_type": "execute_result"
    }
   ],
   "source": [
    "s[s > 0]"
   ]
  },
  {
   "cell_type": "code",
   "execution_count": 170,
   "id": "7df801f8",
   "metadata": {
    "execution": {
     "iopub.execute_input": "2022-09-26T13:11:29.730784Z",
     "iopub.status.busy": "2022-09-26T13:11:29.729873Z",
     "iopub.status.idle": "2022-09-26T13:11:29.737633Z",
     "shell.execute_reply": "2022-09-26T13:11:29.736695Z"
    },
    "papermill": {
     "duration": 0.077291,
     "end_time": "2022-09-26T13:11:29.739604",
     "exception": false,
     "start_time": "2022-09-26T13:11:29.662313",
     "status": "completed"
    },
    "tags": []
   },
   "outputs": [
    {
     "data": {
      "text/plain": [
       "0   -3\n",
       "1   -2\n",
       "4    1\n",
       "5    2\n",
       "6    3\n",
       "dtype: int64"
      ]
     },
     "execution_count": 170,
     "metadata": {},
     "output_type": "execute_result"
    }
   ],
   "source": [
    "s[(s < -1) | (s > 0.5)]"
   ]
  },
  {
   "cell_type": "code",
   "execution_count": 171,
   "id": "07c81b65",
   "metadata": {
    "execution": {
     "iopub.execute_input": "2022-09-26T13:11:29.873792Z",
     "iopub.status.busy": "2022-09-26T13:11:29.872905Z",
     "iopub.status.idle": "2022-09-26T13:11:29.880556Z",
     "shell.execute_reply": "2022-09-26T13:11:29.879580Z"
    },
    "papermill": {
     "duration": 0.076565,
     "end_time": "2022-09-26T13:11:29.882572",
     "exception": false,
     "start_time": "2022-09-26T13:11:29.806007",
     "status": "completed"
    },
    "tags": []
   },
   "outputs": [
    {
     "data": {
      "text/plain": [
       "3    0\n",
       "4    1\n",
       "5    2\n",
       "6    3\n",
       "dtype: int64"
      ]
     },
     "execution_count": 171,
     "metadata": {},
     "output_type": "execute_result"
    }
   ],
   "source": [
    "s[~(s < 0)]     # ~ (Not)"
   ]
  },
  {
   "cell_type": "markdown",
   "id": "03925665",
   "metadata": {
    "papermill": {
     "duration": 0.066264,
     "end_time": "2022-09-26T13:11:30.014945",
     "exception": false,
     "start_time": "2022-09-26T13:11:29.948681",
     "status": "completed"
    },
    "tags": []
   },
   "source": [
    "## Indexing and selecting data | Indexing with isin:\n",
    "- Consider the isin() method of Series, which returns a boolean vector that is true wherever the Series elements exist in the passed list. This allows you to select rows where one or more columns have values you want:"
   ]
  },
  {
   "cell_type": "code",
   "execution_count": 172,
   "id": "96395703",
   "metadata": {
    "execution": {
     "iopub.execute_input": "2022-09-26T13:11:30.149330Z",
     "iopub.status.busy": "2022-09-26T13:11:30.148996Z",
     "iopub.status.idle": "2022-09-26T13:11:30.156569Z",
     "shell.execute_reply": "2022-09-26T13:11:30.155690Z"
    },
    "papermill": {
     "duration": 0.076644,
     "end_time": "2022-09-26T13:11:30.158495",
     "exception": false,
     "start_time": "2022-09-26T13:11:30.081851",
     "status": "completed"
    },
    "tags": []
   },
   "outputs": [
    {
     "data": {
      "text/plain": [
       "4    0\n",
       "3    1\n",
       "2    2\n",
       "1    3\n",
       "0    4\n",
       "dtype: int64"
      ]
     },
     "execution_count": 172,
     "metadata": {},
     "output_type": "execute_result"
    }
   ],
   "source": [
    "s = pd.Series(np.arange(5), index=np.arange(5)[::-1], dtype='int64')\n",
    "s"
   ]
  },
  {
   "cell_type": "code",
   "execution_count": 173,
   "id": "3cfef9e8",
   "metadata": {
    "execution": {
     "iopub.execute_input": "2022-09-26T13:11:30.292984Z",
     "iopub.status.busy": "2022-09-26T13:11:30.292050Z",
     "iopub.status.idle": "2022-09-26T13:11:30.300953Z",
     "shell.execute_reply": "2022-09-26T13:11:30.299968Z"
    },
    "papermill": {
     "duration": 0.078298,
     "end_time": "2022-09-26T13:11:30.302933",
     "exception": false,
     "start_time": "2022-09-26T13:11:30.224635",
     "status": "completed"
    },
    "tags": []
   },
   "outputs": [
    {
     "data": {
      "text/plain": [
       "4    False\n",
       "3    False\n",
       "2     True\n",
       "1    False\n",
       "0     True\n",
       "dtype: bool"
      ]
     },
     "execution_count": 173,
     "metadata": {},
     "output_type": "execute_result"
    }
   ],
   "source": [
    "s.isin([2, 4, 6])"
   ]
  },
  {
   "cell_type": "code",
   "execution_count": 174,
   "id": "d9f5dbb2",
   "metadata": {
    "execution": {
     "iopub.execute_input": "2022-09-26T13:11:30.442452Z",
     "iopub.status.busy": "2022-09-26T13:11:30.441857Z",
     "iopub.status.idle": "2022-09-26T13:11:30.451662Z",
     "shell.execute_reply": "2022-09-26T13:11:30.450688Z"
    },
    "papermill": {
     "duration": 0.083747,
     "end_time": "2022-09-26T13:11:30.453629",
     "exception": false,
     "start_time": "2022-09-26T13:11:30.369882",
     "status": "completed"
    },
    "tags": []
   },
   "outputs": [
    {
     "data": {
      "text/plain": [
       "2    2\n",
       "0    4\n",
       "dtype: int64"
      ]
     },
     "execution_count": 174,
     "metadata": {},
     "output_type": "execute_result"
    }
   ],
   "source": [
    "s[s.isin([2, 4, 6])]"
   ]
  },
  {
   "cell_type": "markdown",
   "id": "0fe80443",
   "metadata": {
    "papermill": {
     "duration": 0.070573,
     "end_time": "2022-09-26T13:11:30.590927",
     "exception": false,
     "start_time": "2022-09-26T13:11:30.520354",
     "status": "completed"
    },
    "tags": []
   },
   "source": [
    ">The same method is available for Index objects and is useful for the cases when you don’t know which of the sought labels are in fact present:"
   ]
  },
  {
   "cell_type": "code",
   "execution_count": 175,
   "id": "933b232d",
   "metadata": {
    "execution": {
     "iopub.execute_input": "2022-09-26T13:11:30.729567Z",
     "iopub.status.busy": "2022-09-26T13:11:30.728774Z",
     "iopub.status.idle": "2022-09-26T13:11:30.736261Z",
     "shell.execute_reply": "2022-09-26T13:11:30.735368Z"
    },
    "papermill": {
     "duration": 0.077362,
     "end_time": "2022-09-26T13:11:30.738218",
     "exception": false,
     "start_time": "2022-09-26T13:11:30.660856",
     "status": "completed"
    },
    "tags": []
   },
   "outputs": [
    {
     "data": {
      "text/plain": [
       "4    0\n",
       "2    2\n",
       "dtype: int64"
      ]
     },
     "execution_count": 175,
     "metadata": {},
     "output_type": "execute_result"
    }
   ],
   "source": [
    "s[s.index.isin([2, 4, 6])]"
   ]
  },
  {
   "cell_type": "code",
   "execution_count": 176,
   "id": "01bc8f55",
   "metadata": {
    "execution": {
     "iopub.execute_input": "2022-09-26T13:11:30.873029Z",
     "iopub.status.busy": "2022-09-26T13:11:30.872184Z",
     "iopub.status.idle": "2022-09-26T13:11:30.880638Z",
     "shell.execute_reply": "2022-09-26T13:11:30.879663Z"
    },
    "papermill": {
     "duration": 0.078134,
     "end_time": "2022-09-26T13:11:30.882583",
     "exception": false,
     "start_time": "2022-09-26T13:11:30.804449",
     "status": "completed"
    },
    "tags": []
   },
   "outputs": [
    {
     "data": {
      "text/plain": [
       "2    2.0\n",
       "4    0.0\n",
       "6    NaN\n",
       "dtype: float64"
      ]
     },
     "execution_count": 176,
     "metadata": {},
     "output_type": "execute_result"
    }
   ],
   "source": [
    "# compare it to the following\n",
    "s.reindex([2, 4, 6])"
   ]
  },
  {
   "cell_type": "markdown",
   "id": "9f33c1f1",
   "metadata": {
    "papermill": {
     "duration": 0.066426,
     "end_time": "2022-09-26T13:11:31.016110",
     "exception": false,
     "start_time": "2022-09-26T13:11:30.949684",
     "status": "completed"
    },
    "tags": []
   },
   "source": [
    "> In addition to that, MultiIndex allows selecting a separate level to use in the membership check:"
   ]
  },
  {
   "cell_type": "code",
   "execution_count": 177,
   "id": "900f3963",
   "metadata": {
    "execution": {
     "iopub.execute_input": "2022-09-26T13:11:31.152046Z",
     "iopub.status.busy": "2022-09-26T13:11:31.151705Z",
     "iopub.status.idle": "2022-09-26T13:11:31.161665Z",
     "shell.execute_reply": "2022-09-26T13:11:31.160757Z"
    },
    "papermill": {
     "duration": 0.079861,
     "end_time": "2022-09-26T13:11:31.163546",
     "exception": false,
     "start_time": "2022-09-26T13:11:31.083685",
     "status": "completed"
    },
    "tags": []
   },
   "outputs": [
    {
     "data": {
      "text/plain": [
       "0  a    0\n",
       "   b    1\n",
       "   c    2\n",
       "1  a    3\n",
       "   b    4\n",
       "   c    5\n",
       "dtype: int64"
      ]
     },
     "execution_count": 177,
     "metadata": {},
     "output_type": "execute_result"
    }
   ],
   "source": [
    "s_mi = pd.Series(np.arange(6),\n",
    "   .....:                  index=pd.MultiIndex.from_product([[0, 1], ['a', 'b', 'c']]))\n",
    "   .....: \n",
    "        \n",
    "s_mi"
   ]
  },
  {
   "cell_type": "code",
   "execution_count": 178,
   "id": "51a12b30",
   "metadata": {
    "execution": {
     "iopub.execute_input": "2022-09-26T13:11:31.301324Z",
     "iopub.status.busy": "2022-09-26T13:11:31.300456Z",
     "iopub.status.idle": "2022-09-26T13:11:31.311231Z",
     "shell.execute_reply": "2022-09-26T13:11:31.310258Z"
    },
    "papermill": {
     "duration": 0.0822,
     "end_time": "2022-09-26T13:11:31.313244",
     "exception": false,
     "start_time": "2022-09-26T13:11:31.231044",
     "status": "completed"
    },
    "tags": []
   },
   "outputs": [
    {
     "data": {
      "text/plain": [
       "0  c    2\n",
       "1  a    3\n",
       "dtype: int64"
      ]
     },
     "execution_count": 178,
     "metadata": {},
     "output_type": "execute_result"
    }
   ],
   "source": [
    "s_mi.iloc[s_mi.index.isin([(1, 'a'), (2, 'b'), (0, 'c')])]"
   ]
  },
  {
   "cell_type": "code",
   "execution_count": 179,
   "id": "b84b87bd",
   "metadata": {
    "execution": {
     "iopub.execute_input": "2022-09-26T13:11:31.453014Z",
     "iopub.status.busy": "2022-09-26T13:11:31.451930Z",
     "iopub.status.idle": "2022-09-26T13:11:31.462029Z",
     "shell.execute_reply": "2022-09-26T13:11:31.460938Z"
    },
    "papermill": {
     "duration": 0.082915,
     "end_time": "2022-09-26T13:11:31.464014",
     "exception": false,
     "start_time": "2022-09-26T13:11:31.381099",
     "status": "completed"
    },
    "tags": []
   },
   "outputs": [
    {
     "data": {
      "text/plain": [
       "0  a    0\n",
       "   c    2\n",
       "1  a    3\n",
       "   c    5\n",
       "dtype: int64"
      ]
     },
     "execution_count": 179,
     "metadata": {},
     "output_type": "execute_result"
    }
   ],
   "source": [
    "s_mi.iloc[s_mi.index.isin(['a', 'c', 'e'], level=1)]"
   ]
  },
  {
   "cell_type": "markdown",
   "id": "21eb7c65",
   "metadata": {
    "papermill": {
     "duration": 0.13512,
     "end_time": "2022-09-26T13:11:31.678947",
     "exception": false,
     "start_time": "2022-09-26T13:11:31.543827",
     "status": "completed"
    },
    "tags": []
   },
   "source": [
    "> #### DataFrame also has an isin() method. When calling isin, pass a set of values as either an array or dict. If values is an array, isin returns a DataFrame of booleans that is the same shape as the original DataFrame, with True wherever the element is in the sequence of values."
   ]
  },
  {
   "cell_type": "code",
   "execution_count": 180,
   "id": "0034a6be",
   "metadata": {
    "execution": {
     "iopub.execute_input": "2022-09-26T13:11:31.900319Z",
     "iopub.status.busy": "2022-09-26T13:11:31.899882Z",
     "iopub.status.idle": "2022-09-26T13:11:31.916227Z",
     "shell.execute_reply": "2022-09-26T13:11:31.915374Z"
    },
    "papermill": {
     "duration": 0.120566,
     "end_time": "2022-09-26T13:11:31.918686",
     "exception": false,
     "start_time": "2022-09-26T13:11:31.798120",
     "status": "completed"
    },
    "tags": []
   },
   "outputs": [
    {
     "data": {
      "text/html": [
       "<div>\n",
       "<style scoped>\n",
       "    .dataframe tbody tr th:only-of-type {\n",
       "        vertical-align: middle;\n",
       "    }\n",
       "\n",
       "    .dataframe tbody tr th {\n",
       "        vertical-align: top;\n",
       "    }\n",
       "\n",
       "    .dataframe thead th {\n",
       "        text-align: right;\n",
       "    }\n",
       "</style>\n",
       "<table border=\"1\" class=\"dataframe\">\n",
       "  <thead>\n",
       "    <tr style=\"text-align: right;\">\n",
       "      <th></th>\n",
       "      <th>vals</th>\n",
       "      <th>ids</th>\n",
       "      <th>ids2</th>\n",
       "    </tr>\n",
       "  </thead>\n",
       "  <tbody>\n",
       "    <tr>\n",
       "      <th>0</th>\n",
       "      <td>1</td>\n",
       "      <td>a</td>\n",
       "      <td>a</td>\n",
       "    </tr>\n",
       "    <tr>\n",
       "      <th>1</th>\n",
       "      <td>2</td>\n",
       "      <td>b</td>\n",
       "      <td>n</td>\n",
       "    </tr>\n",
       "    <tr>\n",
       "      <th>2</th>\n",
       "      <td>3</td>\n",
       "      <td>f</td>\n",
       "      <td>c</td>\n",
       "    </tr>\n",
       "    <tr>\n",
       "      <th>3</th>\n",
       "      <td>4</td>\n",
       "      <td>n</td>\n",
       "      <td>n</td>\n",
       "    </tr>\n",
       "  </tbody>\n",
       "</table>\n",
       "</div>"
      ],
      "text/plain": [
       "   vals ids ids2\n",
       "0     1   a    a\n",
       "1     2   b    n\n",
       "2     3   f    c\n",
       "3     4   n    n"
      ]
     },
     "execution_count": 180,
     "metadata": {},
     "output_type": "execute_result"
    }
   ],
   "source": [
    "df = pd.DataFrame({'vals': [1, 2, 3, 4], 'ids': ['a', 'b', 'f', 'n'],\n",
    "   .....:                    'ids2': ['a', 'n', 'c', 'n']})\n",
    "   .....: \n",
    "df"
   ]
  },
  {
   "cell_type": "code",
   "execution_count": 181,
   "id": "07b05c76",
   "metadata": {
    "execution": {
     "iopub.execute_input": "2022-09-26T13:11:32.122597Z",
     "iopub.status.busy": "2022-09-26T13:11:32.122181Z",
     "iopub.status.idle": "2022-09-26T13:11:32.140805Z",
     "shell.execute_reply": "2022-09-26T13:11:32.139598Z"
    },
    "papermill": {
     "duration": 0.125319,
     "end_time": "2022-09-26T13:11:32.144448",
     "exception": false,
     "start_time": "2022-09-26T13:11:32.019129",
     "status": "completed"
    },
    "tags": []
   },
   "outputs": [
    {
     "data": {
      "text/html": [
       "<div>\n",
       "<style scoped>\n",
       "    .dataframe tbody tr th:only-of-type {\n",
       "        vertical-align: middle;\n",
       "    }\n",
       "\n",
       "    .dataframe tbody tr th {\n",
       "        vertical-align: top;\n",
       "    }\n",
       "\n",
       "    .dataframe thead th {\n",
       "        text-align: right;\n",
       "    }\n",
       "</style>\n",
       "<table border=\"1\" class=\"dataframe\">\n",
       "  <thead>\n",
       "    <tr style=\"text-align: right;\">\n",
       "      <th></th>\n",
       "      <th>vals</th>\n",
       "      <th>ids</th>\n",
       "      <th>ids2</th>\n",
       "    </tr>\n",
       "  </thead>\n",
       "  <tbody>\n",
       "    <tr>\n",
       "      <th>0</th>\n",
       "      <td>True</td>\n",
       "      <td>True</td>\n",
       "      <td>True</td>\n",
       "    </tr>\n",
       "    <tr>\n",
       "      <th>1</th>\n",
       "      <td>False</td>\n",
       "      <td>True</td>\n",
       "      <td>False</td>\n",
       "    </tr>\n",
       "    <tr>\n",
       "      <th>2</th>\n",
       "      <td>True</td>\n",
       "      <td>False</td>\n",
       "      <td>False</td>\n",
       "    </tr>\n",
       "    <tr>\n",
       "      <th>3</th>\n",
       "      <td>False</td>\n",
       "      <td>False</td>\n",
       "      <td>False</td>\n",
       "    </tr>\n",
       "  </tbody>\n",
       "</table>\n",
       "</div>"
      ],
      "text/plain": [
       "    vals    ids   ids2\n",
       "0   True   True   True\n",
       "1  False   True  False\n",
       "2   True  False  False\n",
       "3  False  False  False"
      ]
     },
     "execution_count": 181,
     "metadata": {},
     "output_type": "execute_result"
    }
   ],
   "source": [
    "values = ['a', 'b', 1, 3]\n",
    "df.isin(values)"
   ]
  },
  {
   "cell_type": "markdown",
   "id": "da16306c",
   "metadata": {
    "papermill": {
     "duration": 0.067367,
     "end_time": "2022-09-26T13:11:32.285917",
     "exception": false,
     "start_time": "2022-09-26T13:11:32.218550",
     "status": "completed"
    },
    "tags": []
   },
   "source": [
    "Oftentimes you’ll want to match certain values with certain columns. Just make values a dict where the key is the column, and the value is a list of items you want to check for."
   ]
  },
  {
   "cell_type": "code",
   "execution_count": 182,
   "id": "605756eb",
   "metadata": {
    "execution": {
     "iopub.execute_input": "2022-09-26T13:11:32.421642Z",
     "iopub.status.busy": "2022-09-26T13:11:32.421259Z",
     "iopub.status.idle": "2022-09-26T13:11:32.433053Z",
     "shell.execute_reply": "2022-09-26T13:11:32.432146Z"
    },
    "papermill": {
     "duration": 0.081805,
     "end_time": "2022-09-26T13:11:32.435000",
     "exception": false,
     "start_time": "2022-09-26T13:11:32.353195",
     "status": "completed"
    },
    "tags": []
   },
   "outputs": [
    {
     "data": {
      "text/html": [
       "<div>\n",
       "<style scoped>\n",
       "    .dataframe tbody tr th:only-of-type {\n",
       "        vertical-align: middle;\n",
       "    }\n",
       "\n",
       "    .dataframe tbody tr th {\n",
       "        vertical-align: top;\n",
       "    }\n",
       "\n",
       "    .dataframe thead th {\n",
       "        text-align: right;\n",
       "    }\n",
       "</style>\n",
       "<table border=\"1\" class=\"dataframe\">\n",
       "  <thead>\n",
       "    <tr style=\"text-align: right;\">\n",
       "      <th></th>\n",
       "      <th>vals</th>\n",
       "      <th>ids</th>\n",
       "      <th>ids2</th>\n",
       "    </tr>\n",
       "  </thead>\n",
       "  <tbody>\n",
       "    <tr>\n",
       "      <th>0</th>\n",
       "      <td>True</td>\n",
       "      <td>True</td>\n",
       "      <td>False</td>\n",
       "    </tr>\n",
       "    <tr>\n",
       "      <th>1</th>\n",
       "      <td>False</td>\n",
       "      <td>True</td>\n",
       "      <td>False</td>\n",
       "    </tr>\n",
       "    <tr>\n",
       "      <th>2</th>\n",
       "      <td>True</td>\n",
       "      <td>False</td>\n",
       "      <td>False</td>\n",
       "    </tr>\n",
       "    <tr>\n",
       "      <th>3</th>\n",
       "      <td>False</td>\n",
       "      <td>False</td>\n",
       "      <td>False</td>\n",
       "    </tr>\n",
       "  </tbody>\n",
       "</table>\n",
       "</div>"
      ],
      "text/plain": [
       "    vals    ids   ids2\n",
       "0   True   True  False\n",
       "1  False   True  False\n",
       "2   True  False  False\n",
       "3  False  False  False"
      ]
     },
     "execution_count": 182,
     "metadata": {},
     "output_type": "execute_result"
    }
   ],
   "source": [
    "values = {'ids': ['a', 'b'], 'vals': [1, 3]}\n",
    "df.isin(values)"
   ]
  },
  {
   "cell_type": "markdown",
   "id": "a113e390",
   "metadata": {
    "papermill": {
     "duration": 0.075945,
     "end_time": "2022-09-26T13:11:32.579886",
     "exception": false,
     "start_time": "2022-09-26T13:11:32.503941",
     "status": "completed"
    },
    "tags": []
   },
   "source": [
    "To return the DataFrame of booleans where the values are not in the original DataFrame, use the ~ operator:"
   ]
  },
  {
   "cell_type": "code",
   "execution_count": 183,
   "id": "e354252a",
   "metadata": {
    "execution": {
     "iopub.execute_input": "2022-09-26T13:11:32.716817Z",
     "iopub.status.busy": "2022-09-26T13:11:32.716423Z",
     "iopub.status.idle": "2022-09-26T13:11:32.728297Z",
     "shell.execute_reply": "2022-09-26T13:11:32.727405Z"
    },
    "papermill": {
     "duration": 0.082418,
     "end_time": "2022-09-26T13:11:32.730214",
     "exception": false,
     "start_time": "2022-09-26T13:11:32.647796",
     "status": "completed"
    },
    "tags": []
   },
   "outputs": [
    {
     "data": {
      "text/html": [
       "<div>\n",
       "<style scoped>\n",
       "    .dataframe tbody tr th:only-of-type {\n",
       "        vertical-align: middle;\n",
       "    }\n",
       "\n",
       "    .dataframe tbody tr th {\n",
       "        vertical-align: top;\n",
       "    }\n",
       "\n",
       "    .dataframe thead th {\n",
       "        text-align: right;\n",
       "    }\n",
       "</style>\n",
       "<table border=\"1\" class=\"dataframe\">\n",
       "  <thead>\n",
       "    <tr style=\"text-align: right;\">\n",
       "      <th></th>\n",
       "      <th>vals</th>\n",
       "      <th>ids</th>\n",
       "      <th>ids2</th>\n",
       "    </tr>\n",
       "  </thead>\n",
       "  <tbody>\n",
       "    <tr>\n",
       "      <th>0</th>\n",
       "      <td>False</td>\n",
       "      <td>False</td>\n",
       "      <td>True</td>\n",
       "    </tr>\n",
       "    <tr>\n",
       "      <th>1</th>\n",
       "      <td>True</td>\n",
       "      <td>False</td>\n",
       "      <td>True</td>\n",
       "    </tr>\n",
       "    <tr>\n",
       "      <th>2</th>\n",
       "      <td>False</td>\n",
       "      <td>True</td>\n",
       "      <td>True</td>\n",
       "    </tr>\n",
       "    <tr>\n",
       "      <th>3</th>\n",
       "      <td>True</td>\n",
       "      <td>True</td>\n",
       "      <td>True</td>\n",
       "    </tr>\n",
       "  </tbody>\n",
       "</table>\n",
       "</div>"
      ],
      "text/plain": [
       "    vals    ids  ids2\n",
       "0  False  False  True\n",
       "1   True  False  True\n",
       "2  False   True  True\n",
       "3   True   True  True"
      ]
     },
     "execution_count": 183,
     "metadata": {},
     "output_type": "execute_result"
    }
   ],
   "source": [
    "values = {'ids': ['a', 'b'], 'vals': [1, 3]}\n",
    "~df.isin(values)"
   ]
  },
  {
   "cell_type": "markdown",
   "id": "eb2fa98a",
   "metadata": {
    "papermill": {
     "duration": 0.067881,
     "end_time": "2022-09-26T13:11:32.865823",
     "exception": false,
     "start_time": "2022-09-26T13:11:32.797942",
     "status": "completed"
    },
    "tags": []
   },
   "source": [
    "Combine DataFrame’s isin with the any() and all() methods to quickly select subsets of your data that meet a given criteria. To select a row where each column meets its own criterion:"
   ]
  },
  {
   "cell_type": "code",
   "execution_count": 184,
   "id": "5b2c25b6",
   "metadata": {
    "execution": {
     "iopub.execute_input": "2022-09-26T13:11:33.001820Z",
     "iopub.status.busy": "2022-09-26T13:11:33.001466Z",
     "iopub.status.idle": "2022-09-26T13:11:33.014400Z",
     "shell.execute_reply": "2022-09-26T13:11:33.013508Z"
    },
    "papermill": {
     "duration": 0.083127,
     "end_time": "2022-09-26T13:11:33.016310",
     "exception": false,
     "start_time": "2022-09-26T13:11:32.933183",
     "status": "completed"
    },
    "tags": []
   },
   "outputs": [
    {
     "data": {
      "text/html": [
       "<div>\n",
       "<style scoped>\n",
       "    .dataframe tbody tr th:only-of-type {\n",
       "        vertical-align: middle;\n",
       "    }\n",
       "\n",
       "    .dataframe tbody tr th {\n",
       "        vertical-align: top;\n",
       "    }\n",
       "\n",
       "    .dataframe thead th {\n",
       "        text-align: right;\n",
       "    }\n",
       "</style>\n",
       "<table border=\"1\" class=\"dataframe\">\n",
       "  <thead>\n",
       "    <tr style=\"text-align: right;\">\n",
       "      <th></th>\n",
       "      <th>vals</th>\n",
       "      <th>ids</th>\n",
       "      <th>ids2</th>\n",
       "    </tr>\n",
       "  </thead>\n",
       "  <tbody>\n",
       "    <tr>\n",
       "      <th>0</th>\n",
       "      <td>1</td>\n",
       "      <td>a</td>\n",
       "      <td>a</td>\n",
       "    </tr>\n",
       "  </tbody>\n",
       "</table>\n",
       "</div>"
      ],
      "text/plain": [
       "   vals ids ids2\n",
       "0     1   a    a"
      ]
     },
     "execution_count": 184,
     "metadata": {},
     "output_type": "execute_result"
    }
   ],
   "source": [
    "values = {'ids': ['a', 'b'], 'ids2': ['a', 'c'], 'vals': [1, 3]}\n",
    "row_mask = df.isin(values).all(1)\n",
    "df[row_mask]"
   ]
  },
  {
   "cell_type": "markdown",
   "id": "bd750c71",
   "metadata": {
    "papermill": {
     "duration": 0.06767,
     "end_time": "2022-09-26T13:11:33.152822",
     "exception": false,
     "start_time": "2022-09-26T13:11:33.085152",
     "status": "completed"
    },
    "tags": []
   },
   "source": [
    "## Indexing and selecting data | The where() Method and Masking:\n",
    "> **Selecting values from a Series with a boolean vector generally returns a subset of the data. To guarantee that selection output has the same shape as the original data, you can use the where method in Series and DataFrame.**\n",
    "\n",
    "\n",
    "To return only the selected rows:"
   ]
  },
  {
   "cell_type": "code",
   "execution_count": 185,
   "id": "2800e0cc",
   "metadata": {
    "execution": {
     "iopub.execute_input": "2022-09-26T13:11:33.290167Z",
     "iopub.status.busy": "2022-09-26T13:11:33.289801Z",
     "iopub.status.idle": "2022-09-26T13:11:33.298411Z",
     "shell.execute_reply": "2022-09-26T13:11:33.297458Z"
    },
    "papermill": {
     "duration": 0.079751,
     "end_time": "2022-09-26T13:11:33.300469",
     "exception": false,
     "start_time": "2022-09-26T13:11:33.220718",
     "status": "completed"
    },
    "tags": []
   },
   "outputs": [
    {
     "data": {
      "text/plain": [
       "3    1\n",
       "2    2\n",
       "1    3\n",
       "0    4\n",
       "dtype: int64"
      ]
     },
     "execution_count": 185,
     "metadata": {},
     "output_type": "execute_result"
    }
   ],
   "source": [
    "s[s > 0]"
   ]
  },
  {
   "cell_type": "code",
   "execution_count": 186,
   "id": "5e7efdef",
   "metadata": {
    "execution": {
     "iopub.execute_input": "2022-09-26T13:11:33.437992Z",
     "iopub.status.busy": "2022-09-26T13:11:33.437637Z",
     "iopub.status.idle": "2022-09-26T13:11:33.445967Z",
     "shell.execute_reply": "2022-09-26T13:11:33.444873Z"
    },
    "papermill": {
     "duration": 0.080384,
     "end_time": "2022-09-26T13:11:33.449212",
     "exception": false,
     "start_time": "2022-09-26T13:11:33.368828",
     "status": "completed"
    },
    "tags": []
   },
   "outputs": [
    {
     "data": {
      "text/plain": [
       "4    NaN\n",
       "3    1.0\n",
       "2    2.0\n",
       "1    3.0\n",
       "0    4.0\n",
       "dtype: float64"
      ]
     },
     "execution_count": 186,
     "metadata": {},
     "output_type": "execute_result"
    }
   ],
   "source": [
    "s.where(s > 0)"
   ]
  },
  {
   "cell_type": "markdown",
   "id": "704400f2",
   "metadata": {
    "papermill": {
     "duration": 0.06715,
     "end_time": "2022-09-26T13:11:33.584370",
     "exception": false,
     "start_time": "2022-09-26T13:11:33.517220",
     "status": "completed"
    },
    "tags": []
   },
   "source": [
    "Selecting values from a DataFrame with a boolean criterion now also preserves input data shape. where is used under the hood as the implementation. The code below is equivalent to df.where(df < 0)."
   ]
  },
  {
   "cell_type": "code",
   "execution_count": 187,
   "id": "365befb2",
   "metadata": {
    "execution": {
     "iopub.execute_input": "2022-09-26T13:11:33.720802Z",
     "iopub.status.busy": "2022-09-26T13:11:33.720431Z",
     "iopub.status.idle": "2022-09-26T13:11:33.732998Z",
     "shell.execute_reply": "2022-09-26T13:11:33.732087Z"
    },
    "papermill": {
     "duration": 0.083067,
     "end_time": "2022-09-26T13:11:33.735043",
     "exception": false,
     "start_time": "2022-09-26T13:11:33.651976",
     "status": "completed"
    },
    "tags": []
   },
   "outputs": [
    {
     "data": {
      "text/html": [
       "<div>\n",
       "<style scoped>\n",
       "    .dataframe tbody tr th:only-of-type {\n",
       "        vertical-align: middle;\n",
       "    }\n",
       "\n",
       "    .dataframe tbody tr th {\n",
       "        vertical-align: top;\n",
       "    }\n",
       "\n",
       "    .dataframe thead th {\n",
       "        text-align: right;\n",
       "    }\n",
       "</style>\n",
       "<table border=\"1\" class=\"dataframe\">\n",
       "  <thead>\n",
       "    <tr style=\"text-align: right;\">\n",
       "      <th></th>\n",
       "      <th>A</th>\n",
       "      <th>B</th>\n",
       "      <th>C</th>\n",
       "      <th>D</th>\n",
       "    </tr>\n",
       "  </thead>\n",
       "  <tbody>\n",
       "    <tr>\n",
       "      <th>2000-01-01</th>\n",
       "      <td>1.132067</td>\n",
       "      <td>-0.508500</td>\n",
       "      <td>1.009483</td>\n",
       "      <td>1.908510</td>\n",
       "    </tr>\n",
       "    <tr>\n",
       "      <th>2000-01-02</th>\n",
       "      <td>-0.979125</td>\n",
       "      <td>-0.733617</td>\n",
       "      <td>-1.604209</td>\n",
       "      <td>-0.305125</td>\n",
       "    </tr>\n",
       "    <tr>\n",
       "      <th>2000-01-03</th>\n",
       "      <td>0.293552</td>\n",
       "      <td>0.376412</td>\n",
       "      <td>0.348386</td>\n",
       "      <td>-1.453743</td>\n",
       "    </tr>\n",
       "    <tr>\n",
       "      <th>2000-01-04</th>\n",
       "      <td>0.276791</td>\n",
       "      <td>1.820946</td>\n",
       "      <td>0.195492</td>\n",
       "      <td>1.244240</td>\n",
       "    </tr>\n",
       "    <tr>\n",
       "      <th>2000-01-05</th>\n",
       "      <td>0.152582</td>\n",
       "      <td>-2.032975</td>\n",
       "      <td>0.222535</td>\n",
       "      <td>-0.146948</td>\n",
       "    </tr>\n",
       "    <tr>\n",
       "      <th>2000-01-06</th>\n",
       "      <td>-1.216851</td>\n",
       "      <td>1.228856</td>\n",
       "      <td>-1.032079</td>\n",
       "      <td>2.202712</td>\n",
       "    </tr>\n",
       "    <tr>\n",
       "      <th>2000-01-07</th>\n",
       "      <td>0.609918</td>\n",
       "      <td>-0.214172</td>\n",
       "      <td>0.731894</td>\n",
       "      <td>-0.141470</td>\n",
       "    </tr>\n",
       "    <tr>\n",
       "      <th>2000-01-08</th>\n",
       "      <td>-0.196825</td>\n",
       "      <td>0.408052</td>\n",
       "      <td>-0.508046</td>\n",
       "      <td>1.414406</td>\n",
       "    </tr>\n",
       "  </tbody>\n",
       "</table>\n",
       "</div>"
      ],
      "text/plain": [
       "                   A         B         C         D\n",
       "2000-01-01  1.132067 -0.508500  1.009483  1.908510\n",
       "2000-01-02 -0.979125 -0.733617 -1.604209 -0.305125\n",
       "2000-01-03  0.293552  0.376412  0.348386 -1.453743\n",
       "2000-01-04  0.276791  1.820946  0.195492  1.244240\n",
       "2000-01-05  0.152582 -2.032975  0.222535 -0.146948\n",
       "2000-01-06 -1.216851  1.228856 -1.032079  2.202712\n",
       "2000-01-07  0.609918 -0.214172  0.731894 -0.141470\n",
       "2000-01-08 -0.196825  0.408052 -0.508046  1.414406"
      ]
     },
     "execution_count": 187,
     "metadata": {},
     "output_type": "execute_result"
    }
   ],
   "source": [
    "df = pd.DataFrame(np.random.randn(8, 4),\n",
    "   ...:                   index=dates, columns=['A', 'B', 'C', 'D'])\n",
    "df"
   ]
  },
  {
   "cell_type": "code",
   "execution_count": 188,
   "id": "561385e4",
   "metadata": {
    "execution": {
     "iopub.execute_input": "2022-09-26T13:11:33.873353Z",
     "iopub.status.busy": "2022-09-26T13:11:33.872418Z",
     "iopub.status.idle": "2022-09-26T13:11:33.886695Z",
     "shell.execute_reply": "2022-09-26T13:11:33.885839Z"
    },
    "papermill": {
     "duration": 0.085123,
     "end_time": "2022-09-26T13:11:33.888755",
     "exception": false,
     "start_time": "2022-09-26T13:11:33.803632",
     "status": "completed"
    },
    "tags": []
   },
   "outputs": [
    {
     "data": {
      "text/html": [
       "<div>\n",
       "<style scoped>\n",
       "    .dataframe tbody tr th:only-of-type {\n",
       "        vertical-align: middle;\n",
       "    }\n",
       "\n",
       "    .dataframe tbody tr th {\n",
       "        vertical-align: top;\n",
       "    }\n",
       "\n",
       "    .dataframe thead th {\n",
       "        text-align: right;\n",
       "    }\n",
       "</style>\n",
       "<table border=\"1\" class=\"dataframe\">\n",
       "  <thead>\n",
       "    <tr style=\"text-align: right;\">\n",
       "      <th></th>\n",
       "      <th>A</th>\n",
       "      <th>B</th>\n",
       "      <th>C</th>\n",
       "      <th>D</th>\n",
       "    </tr>\n",
       "  </thead>\n",
       "  <tbody>\n",
       "    <tr>\n",
       "      <th>2000-01-01</th>\n",
       "      <td>NaN</td>\n",
       "      <td>-0.508500</td>\n",
       "      <td>NaN</td>\n",
       "      <td>NaN</td>\n",
       "    </tr>\n",
       "    <tr>\n",
       "      <th>2000-01-02</th>\n",
       "      <td>-0.979125</td>\n",
       "      <td>-0.733617</td>\n",
       "      <td>-1.604209</td>\n",
       "      <td>-0.305125</td>\n",
       "    </tr>\n",
       "    <tr>\n",
       "      <th>2000-01-03</th>\n",
       "      <td>NaN</td>\n",
       "      <td>NaN</td>\n",
       "      <td>NaN</td>\n",
       "      <td>-1.453743</td>\n",
       "    </tr>\n",
       "    <tr>\n",
       "      <th>2000-01-04</th>\n",
       "      <td>NaN</td>\n",
       "      <td>NaN</td>\n",
       "      <td>NaN</td>\n",
       "      <td>NaN</td>\n",
       "    </tr>\n",
       "    <tr>\n",
       "      <th>2000-01-05</th>\n",
       "      <td>NaN</td>\n",
       "      <td>-2.032975</td>\n",
       "      <td>NaN</td>\n",
       "      <td>-0.146948</td>\n",
       "    </tr>\n",
       "    <tr>\n",
       "      <th>2000-01-06</th>\n",
       "      <td>-1.216851</td>\n",
       "      <td>NaN</td>\n",
       "      <td>-1.032079</td>\n",
       "      <td>NaN</td>\n",
       "    </tr>\n",
       "    <tr>\n",
       "      <th>2000-01-07</th>\n",
       "      <td>NaN</td>\n",
       "      <td>-0.214172</td>\n",
       "      <td>NaN</td>\n",
       "      <td>-0.141470</td>\n",
       "    </tr>\n",
       "    <tr>\n",
       "      <th>2000-01-08</th>\n",
       "      <td>-0.196825</td>\n",
       "      <td>NaN</td>\n",
       "      <td>-0.508046</td>\n",
       "      <td>NaN</td>\n",
       "    </tr>\n",
       "  </tbody>\n",
       "</table>\n",
       "</div>"
      ],
      "text/plain": [
       "                   A         B         C         D\n",
       "2000-01-01       NaN -0.508500       NaN       NaN\n",
       "2000-01-02 -0.979125 -0.733617 -1.604209 -0.305125\n",
       "2000-01-03       NaN       NaN       NaN -1.453743\n",
       "2000-01-04       NaN       NaN       NaN       NaN\n",
       "2000-01-05       NaN -2.032975       NaN -0.146948\n",
       "2000-01-06 -1.216851       NaN -1.032079       NaN\n",
       "2000-01-07       NaN -0.214172       NaN -0.141470\n",
       "2000-01-08 -0.196825       NaN -0.508046       NaN"
      ]
     },
     "execution_count": 188,
     "metadata": {},
     "output_type": "execute_result"
    }
   ],
   "source": [
    "df[df < 0]"
   ]
  },
  {
   "cell_type": "code",
   "execution_count": 189,
   "id": "ab1ed8db",
   "metadata": {
    "execution": {
     "iopub.execute_input": "2022-09-26T13:11:34.027806Z",
     "iopub.status.busy": "2022-09-26T13:11:34.027440Z",
     "iopub.status.idle": "2022-09-26T13:11:34.042436Z",
     "shell.execute_reply": "2022-09-26T13:11:34.041575Z"
    },
    "papermill": {
     "duration": 0.086555,
     "end_time": "2022-09-26T13:11:34.044514",
     "exception": false,
     "start_time": "2022-09-26T13:11:33.957959",
     "status": "completed"
    },
    "tags": []
   },
   "outputs": [
    {
     "data": {
      "text/html": [
       "<div>\n",
       "<style scoped>\n",
       "    .dataframe tbody tr th:only-of-type {\n",
       "        vertical-align: middle;\n",
       "    }\n",
       "\n",
       "    .dataframe tbody tr th {\n",
       "        vertical-align: top;\n",
       "    }\n",
       "\n",
       "    .dataframe thead th {\n",
       "        text-align: right;\n",
       "    }\n",
       "</style>\n",
       "<table border=\"1\" class=\"dataframe\">\n",
       "  <thead>\n",
       "    <tr style=\"text-align: right;\">\n",
       "      <th></th>\n",
       "      <th>A</th>\n",
       "      <th>B</th>\n",
       "      <th>C</th>\n",
       "      <th>D</th>\n",
       "    </tr>\n",
       "  </thead>\n",
       "  <tbody>\n",
       "    <tr>\n",
       "      <th>2000-01-01</th>\n",
       "      <td>-1.132067</td>\n",
       "      <td>-0.508500</td>\n",
       "      <td>-1.009483</td>\n",
       "      <td>-1.908510</td>\n",
       "    </tr>\n",
       "    <tr>\n",
       "      <th>2000-01-02</th>\n",
       "      <td>-0.979125</td>\n",
       "      <td>-0.733617</td>\n",
       "      <td>-1.604209</td>\n",
       "      <td>-0.305125</td>\n",
       "    </tr>\n",
       "    <tr>\n",
       "      <th>2000-01-03</th>\n",
       "      <td>-0.293552</td>\n",
       "      <td>-0.376412</td>\n",
       "      <td>-0.348386</td>\n",
       "      <td>-1.453743</td>\n",
       "    </tr>\n",
       "    <tr>\n",
       "      <th>2000-01-04</th>\n",
       "      <td>-0.276791</td>\n",
       "      <td>-1.820946</td>\n",
       "      <td>-0.195492</td>\n",
       "      <td>-1.244240</td>\n",
       "    </tr>\n",
       "    <tr>\n",
       "      <th>2000-01-05</th>\n",
       "      <td>-0.152582</td>\n",
       "      <td>-2.032975</td>\n",
       "      <td>-0.222535</td>\n",
       "      <td>-0.146948</td>\n",
       "    </tr>\n",
       "    <tr>\n",
       "      <th>2000-01-06</th>\n",
       "      <td>-1.216851</td>\n",
       "      <td>-1.228856</td>\n",
       "      <td>-1.032079</td>\n",
       "      <td>-2.202712</td>\n",
       "    </tr>\n",
       "    <tr>\n",
       "      <th>2000-01-07</th>\n",
       "      <td>-0.609918</td>\n",
       "      <td>-0.214172</td>\n",
       "      <td>-0.731894</td>\n",
       "      <td>-0.141470</td>\n",
       "    </tr>\n",
       "    <tr>\n",
       "      <th>2000-01-08</th>\n",
       "      <td>-0.196825</td>\n",
       "      <td>-0.408052</td>\n",
       "      <td>-0.508046</td>\n",
       "      <td>-1.414406</td>\n",
       "    </tr>\n",
       "  </tbody>\n",
       "</table>\n",
       "</div>"
      ],
      "text/plain": [
       "                   A         B         C         D\n",
       "2000-01-01 -1.132067 -0.508500 -1.009483 -1.908510\n",
       "2000-01-02 -0.979125 -0.733617 -1.604209 -0.305125\n",
       "2000-01-03 -0.293552 -0.376412 -0.348386 -1.453743\n",
       "2000-01-04 -0.276791 -1.820946 -0.195492 -1.244240\n",
       "2000-01-05 -0.152582 -2.032975 -0.222535 -0.146948\n",
       "2000-01-06 -1.216851 -1.228856 -1.032079 -2.202712\n",
       "2000-01-07 -0.609918 -0.214172 -0.731894 -0.141470\n",
       "2000-01-08 -0.196825 -0.408052 -0.508046 -1.414406"
      ]
     },
     "execution_count": 189,
     "metadata": {},
     "output_type": "execute_result"
    }
   ],
   "source": [
    "df.where(df < 0, -df)"
   ]
  },
  {
   "cell_type": "markdown",
   "id": "86fbd282",
   "metadata": {
    "papermill": {
     "duration": 0.068432,
     "end_time": "2022-09-26T13:11:34.182826",
     "exception": false,
     "start_time": "2022-09-26T13:11:34.114394",
     "status": "completed"
    },
    "tags": []
   },
   "source": [
    "You may wish to set values based on some boolean criteria. This can be done intuitively like so:"
   ]
  },
  {
   "cell_type": "code",
   "execution_count": 190,
   "id": "bc269c2a",
   "metadata": {
    "execution": {
     "iopub.execute_input": "2022-09-26T13:11:34.322713Z",
     "iopub.status.busy": "2022-09-26T13:11:34.322283Z",
     "iopub.status.idle": "2022-09-26T13:11:34.333623Z",
     "shell.execute_reply": "2022-09-26T13:11:34.332776Z"
    },
    "papermill": {
     "duration": 0.083411,
     "end_time": "2022-09-26T13:11:34.335601",
     "exception": false,
     "start_time": "2022-09-26T13:11:34.252190",
     "status": "completed"
    },
    "tags": []
   },
   "outputs": [
    {
     "data": {
      "text/plain": [
       "4    0\n",
       "3    1\n",
       "2    2\n",
       "1    3\n",
       "0    4\n",
       "dtype: int64"
      ]
     },
     "execution_count": 190,
     "metadata": {},
     "output_type": "execute_result"
    }
   ],
   "source": [
    "s2 = s.copy()\n",
    "s2[s2 < 0] = 0\n",
    "s2"
   ]
  },
  {
   "cell_type": "code",
   "execution_count": 191,
   "id": "b97672a4",
   "metadata": {
    "execution": {
     "iopub.execute_input": "2022-09-26T13:11:34.474152Z",
     "iopub.status.busy": "2022-09-26T13:11:34.473227Z",
     "iopub.status.idle": "2022-09-26T13:11:34.486426Z",
     "shell.execute_reply": "2022-09-26T13:11:34.485386Z"
    },
    "papermill": {
     "duration": 0.085225,
     "end_time": "2022-09-26T13:11:34.489020",
     "exception": false,
     "start_time": "2022-09-26T13:11:34.403795",
     "status": "completed"
    },
    "tags": []
   },
   "outputs": [
    {
     "data": {
      "text/html": [
       "<div>\n",
       "<style scoped>\n",
       "    .dataframe tbody tr th:only-of-type {\n",
       "        vertical-align: middle;\n",
       "    }\n",
       "\n",
       "    .dataframe tbody tr th {\n",
       "        vertical-align: top;\n",
       "    }\n",
       "\n",
       "    .dataframe thead th {\n",
       "        text-align: right;\n",
       "    }\n",
       "</style>\n",
       "<table border=\"1\" class=\"dataframe\">\n",
       "  <thead>\n",
       "    <tr style=\"text-align: right;\">\n",
       "      <th></th>\n",
       "      <th>A</th>\n",
       "      <th>B</th>\n",
       "      <th>C</th>\n",
       "      <th>D</th>\n",
       "    </tr>\n",
       "  </thead>\n",
       "  <tbody>\n",
       "    <tr>\n",
       "      <th>2000-01-01</th>\n",
       "      <td>1.132067</td>\n",
       "      <td>0.000000</td>\n",
       "      <td>1.009483</td>\n",
       "      <td>1.908510</td>\n",
       "    </tr>\n",
       "    <tr>\n",
       "      <th>2000-01-02</th>\n",
       "      <td>0.000000</td>\n",
       "      <td>0.000000</td>\n",
       "      <td>0.000000</td>\n",
       "      <td>0.000000</td>\n",
       "    </tr>\n",
       "    <tr>\n",
       "      <th>2000-01-03</th>\n",
       "      <td>0.293552</td>\n",
       "      <td>0.376412</td>\n",
       "      <td>0.348386</td>\n",
       "      <td>0.000000</td>\n",
       "    </tr>\n",
       "    <tr>\n",
       "      <th>2000-01-04</th>\n",
       "      <td>0.276791</td>\n",
       "      <td>1.820946</td>\n",
       "      <td>0.195492</td>\n",
       "      <td>1.244240</td>\n",
       "    </tr>\n",
       "    <tr>\n",
       "      <th>2000-01-05</th>\n",
       "      <td>0.152582</td>\n",
       "      <td>0.000000</td>\n",
       "      <td>0.222535</td>\n",
       "      <td>0.000000</td>\n",
       "    </tr>\n",
       "    <tr>\n",
       "      <th>2000-01-06</th>\n",
       "      <td>0.000000</td>\n",
       "      <td>1.228856</td>\n",
       "      <td>0.000000</td>\n",
       "      <td>2.202712</td>\n",
       "    </tr>\n",
       "    <tr>\n",
       "      <th>2000-01-07</th>\n",
       "      <td>0.609918</td>\n",
       "      <td>0.000000</td>\n",
       "      <td>0.731894</td>\n",
       "      <td>0.000000</td>\n",
       "    </tr>\n",
       "    <tr>\n",
       "      <th>2000-01-08</th>\n",
       "      <td>0.000000</td>\n",
       "      <td>0.408052</td>\n",
       "      <td>0.000000</td>\n",
       "      <td>1.414406</td>\n",
       "    </tr>\n",
       "  </tbody>\n",
       "</table>\n",
       "</div>"
      ],
      "text/plain": [
       "                   A         B         C         D\n",
       "2000-01-01  1.132067  0.000000  1.009483  1.908510\n",
       "2000-01-02  0.000000  0.000000  0.000000  0.000000\n",
       "2000-01-03  0.293552  0.376412  0.348386  0.000000\n",
       "2000-01-04  0.276791  1.820946  0.195492  1.244240\n",
       "2000-01-05  0.152582  0.000000  0.222535  0.000000\n",
       "2000-01-06  0.000000  1.228856  0.000000  2.202712\n",
       "2000-01-07  0.609918  0.000000  0.731894  0.000000\n",
       "2000-01-08  0.000000  0.408052  0.000000  1.414406"
      ]
     },
     "execution_count": 191,
     "metadata": {},
     "output_type": "execute_result"
    }
   ],
   "source": [
    "df2 = df.copy()\n",
    "df2[df2 < 0] = 0\n",
    "\n",
    "df2"
   ]
  },
  {
   "cell_type": "markdown",
   "id": "9b5d5ba4",
   "metadata": {
    "papermill": {
     "duration": 0.068219,
     "end_time": "2022-09-26T13:11:34.625887",
     "exception": false,
     "start_time": "2022-09-26T13:11:34.557668",
     "status": "completed"
    },
    "tags": []
   },
   "source": [
    "By default, where returns a modified copy of the data. There is an optional parameter inplace so that the original data can be modified without creating a copy:"
   ]
  },
  {
   "cell_type": "code",
   "execution_count": 192,
   "id": "9dfbd1e7",
   "metadata": {
    "execution": {
     "iopub.execute_input": "2022-09-26T13:11:34.764244Z",
     "iopub.status.busy": "2022-09-26T13:11:34.763560Z",
     "iopub.status.idle": "2022-09-26T13:11:34.768434Z",
     "shell.execute_reply": "2022-09-26T13:11:34.767393Z"
    },
    "papermill": {
     "duration": 0.076459,
     "end_time": "2022-09-26T13:11:34.770847",
     "exception": false,
     "start_time": "2022-09-26T13:11:34.694388",
     "status": "completed"
    },
    "tags": []
   },
   "outputs": [],
   "source": [
    "df_orig = df.copy()"
   ]
  },
  {
   "cell_type": "code",
   "execution_count": 193,
   "id": "5971ea70",
   "metadata": {
    "execution": {
     "iopub.execute_input": "2022-09-26T13:11:34.910273Z",
     "iopub.status.busy": "2022-09-26T13:11:34.909363Z",
     "iopub.status.idle": "2022-09-26T13:11:34.922372Z",
     "shell.execute_reply": "2022-09-26T13:11:34.921388Z"
    },
    "papermill": {
     "duration": 0.084379,
     "end_time": "2022-09-26T13:11:34.924396",
     "exception": false,
     "start_time": "2022-09-26T13:11:34.840017",
     "status": "completed"
    },
    "tags": []
   },
   "outputs": [
    {
     "data": {
      "text/html": [
       "<div>\n",
       "<style scoped>\n",
       "    .dataframe tbody tr th:only-of-type {\n",
       "        vertical-align: middle;\n",
       "    }\n",
       "\n",
       "    .dataframe tbody tr th {\n",
       "        vertical-align: top;\n",
       "    }\n",
       "\n",
       "    .dataframe thead th {\n",
       "        text-align: right;\n",
       "    }\n",
       "</style>\n",
       "<table border=\"1\" class=\"dataframe\">\n",
       "  <thead>\n",
       "    <tr style=\"text-align: right;\">\n",
       "      <th></th>\n",
       "      <th>A</th>\n",
       "      <th>B</th>\n",
       "      <th>C</th>\n",
       "      <th>D</th>\n",
       "    </tr>\n",
       "  </thead>\n",
       "  <tbody>\n",
       "    <tr>\n",
       "      <th>2000-01-01</th>\n",
       "      <td>1.132067</td>\n",
       "      <td>0.508500</td>\n",
       "      <td>1.009483</td>\n",
       "      <td>1.908510</td>\n",
       "    </tr>\n",
       "    <tr>\n",
       "      <th>2000-01-02</th>\n",
       "      <td>0.979125</td>\n",
       "      <td>0.733617</td>\n",
       "      <td>1.604209</td>\n",
       "      <td>0.305125</td>\n",
       "    </tr>\n",
       "    <tr>\n",
       "      <th>2000-01-03</th>\n",
       "      <td>0.293552</td>\n",
       "      <td>0.376412</td>\n",
       "      <td>0.348386</td>\n",
       "      <td>1.453743</td>\n",
       "    </tr>\n",
       "    <tr>\n",
       "      <th>2000-01-04</th>\n",
       "      <td>0.276791</td>\n",
       "      <td>1.820946</td>\n",
       "      <td>0.195492</td>\n",
       "      <td>1.244240</td>\n",
       "    </tr>\n",
       "    <tr>\n",
       "      <th>2000-01-05</th>\n",
       "      <td>0.152582</td>\n",
       "      <td>2.032975</td>\n",
       "      <td>0.222535</td>\n",
       "      <td>0.146948</td>\n",
       "    </tr>\n",
       "    <tr>\n",
       "      <th>2000-01-06</th>\n",
       "      <td>1.216851</td>\n",
       "      <td>1.228856</td>\n",
       "      <td>1.032079</td>\n",
       "      <td>2.202712</td>\n",
       "    </tr>\n",
       "    <tr>\n",
       "      <th>2000-01-07</th>\n",
       "      <td>0.609918</td>\n",
       "      <td>0.214172</td>\n",
       "      <td>0.731894</td>\n",
       "      <td>0.141470</td>\n",
       "    </tr>\n",
       "    <tr>\n",
       "      <th>2000-01-08</th>\n",
       "      <td>0.196825</td>\n",
       "      <td>0.408052</td>\n",
       "      <td>0.508046</td>\n",
       "      <td>1.414406</td>\n",
       "    </tr>\n",
       "  </tbody>\n",
       "</table>\n",
       "</div>"
      ],
      "text/plain": [
       "                   A         B         C         D\n",
       "2000-01-01  1.132067  0.508500  1.009483  1.908510\n",
       "2000-01-02  0.979125  0.733617  1.604209  0.305125\n",
       "2000-01-03  0.293552  0.376412  0.348386  1.453743\n",
       "2000-01-04  0.276791  1.820946  0.195492  1.244240\n",
       "2000-01-05  0.152582  2.032975  0.222535  0.146948\n",
       "2000-01-06  1.216851  1.228856  1.032079  2.202712\n",
       "2000-01-07  0.609918  0.214172  0.731894  0.141470\n",
       "2000-01-08  0.196825  0.408052  0.508046  1.414406"
      ]
     },
     "execution_count": 193,
     "metadata": {},
     "output_type": "execute_result"
    }
   ],
   "source": [
    "df_orig.where(df > 0, -df, inplace=True)\n",
    "df_orig"
   ]
  },
  {
   "cell_type": "markdown",
   "id": "4bd4dc2c",
   "metadata": {
    "papermill": {
     "duration": 0.068319,
     "end_time": "2022-09-26T13:11:35.061583",
     "exception": false,
     "start_time": "2022-09-26T13:11:34.993264",
     "status": "completed"
    },
    "tags": []
   },
   "source": [
    "By default, where returns a modified copy of the data. There is an optional parameter inplace so that the original data can be modified without creating a copy:"
   ]
  },
  {
   "cell_type": "code",
   "execution_count": 194,
   "id": "901db0ca",
   "metadata": {
    "execution": {
     "iopub.execute_input": "2022-09-26T13:11:35.242471Z",
     "iopub.status.busy": "2022-09-26T13:11:35.241494Z",
     "iopub.status.idle": "2022-09-26T13:11:35.255162Z",
     "shell.execute_reply": "2022-09-26T13:11:35.254163Z"
    },
    "papermill": {
     "duration": 0.085479,
     "end_time": "2022-09-26T13:11:35.257153",
     "exception": false,
     "start_time": "2022-09-26T13:11:35.171674",
     "status": "completed"
    },
    "tags": []
   },
   "outputs": [
    {
     "data": {
      "text/html": [
       "<div>\n",
       "<style scoped>\n",
       "    .dataframe tbody tr th:only-of-type {\n",
       "        vertical-align: middle;\n",
       "    }\n",
       "\n",
       "    .dataframe tbody tr th {\n",
       "        vertical-align: top;\n",
       "    }\n",
       "\n",
       "    .dataframe thead th {\n",
       "        text-align: right;\n",
       "    }\n",
       "</style>\n",
       "<table border=\"1\" class=\"dataframe\">\n",
       "  <thead>\n",
       "    <tr style=\"text-align: right;\">\n",
       "      <th></th>\n",
       "      <th>A</th>\n",
       "      <th>B</th>\n",
       "      <th>C</th>\n",
       "      <th>D</th>\n",
       "    </tr>\n",
       "  </thead>\n",
       "  <tbody>\n",
       "    <tr>\n",
       "      <th>2000-01-01</th>\n",
       "      <td>1.132067</td>\n",
       "      <td>0.508500</td>\n",
       "      <td>1.009483</td>\n",
       "      <td>1.908510</td>\n",
       "    </tr>\n",
       "    <tr>\n",
       "      <th>2000-01-02</th>\n",
       "      <td>0.979125</td>\n",
       "      <td>0.733617</td>\n",
       "      <td>1.604209</td>\n",
       "      <td>0.305125</td>\n",
       "    </tr>\n",
       "    <tr>\n",
       "      <th>2000-01-03</th>\n",
       "      <td>0.293552</td>\n",
       "      <td>0.376412</td>\n",
       "      <td>0.348386</td>\n",
       "      <td>1.453743</td>\n",
       "    </tr>\n",
       "    <tr>\n",
       "      <th>2000-01-04</th>\n",
       "      <td>0.276791</td>\n",
       "      <td>1.820946</td>\n",
       "      <td>0.195492</td>\n",
       "      <td>1.244240</td>\n",
       "    </tr>\n",
       "    <tr>\n",
       "      <th>2000-01-05</th>\n",
       "      <td>0.152582</td>\n",
       "      <td>2.032975</td>\n",
       "      <td>0.222535</td>\n",
       "      <td>0.146948</td>\n",
       "    </tr>\n",
       "    <tr>\n",
       "      <th>2000-01-06</th>\n",
       "      <td>1.216851</td>\n",
       "      <td>1.228856</td>\n",
       "      <td>1.032079</td>\n",
       "      <td>2.202712</td>\n",
       "    </tr>\n",
       "    <tr>\n",
       "      <th>2000-01-07</th>\n",
       "      <td>0.609918</td>\n",
       "      <td>0.214172</td>\n",
       "      <td>0.731894</td>\n",
       "      <td>0.141470</td>\n",
       "    </tr>\n",
       "    <tr>\n",
       "      <th>2000-01-08</th>\n",
       "      <td>0.196825</td>\n",
       "      <td>0.408052</td>\n",
       "      <td>0.508046</td>\n",
       "      <td>1.414406</td>\n",
       "    </tr>\n",
       "  </tbody>\n",
       "</table>\n",
       "</div>"
      ],
      "text/plain": [
       "                   A         B         C         D\n",
       "2000-01-01  1.132067  0.508500  1.009483  1.908510\n",
       "2000-01-02  0.979125  0.733617  1.604209  0.305125\n",
       "2000-01-03  0.293552  0.376412  0.348386  1.453743\n",
       "2000-01-04  0.276791  1.820946  0.195492  1.244240\n",
       "2000-01-05  0.152582  2.032975  0.222535  0.146948\n",
       "2000-01-06  1.216851  1.228856  1.032079  2.202712\n",
       "2000-01-07  0.609918  0.214172  0.731894  0.141470\n",
       "2000-01-08  0.196825  0.408052  0.508046  1.414406"
      ]
     },
     "execution_count": 194,
     "metadata": {},
     "output_type": "execute_result"
    }
   ],
   "source": [
    "df_orig = df.copy()\n",
    "df_orig.where(df > 0, -df, inplace=True)\n",
    "df_orig"
   ]
  },
  {
   "cell_type": "markdown",
   "id": "b090d462",
   "metadata": {
    "papermill": {
     "duration": 0.06952,
     "end_time": "2022-09-26T13:11:35.396097",
     "exception": false,
     "start_time": "2022-09-26T13:11:35.326577",
     "status": "completed"
    },
    "tags": []
   },
   "source": [
    "> > ## ✍️ Note:\n",
    "> **The signature for DataFrame.where() differs from numpy.where(). Roughly df1.where(m, df2) is equivalent to np.where(m, df1, df2).**"
   ]
  },
  {
   "cell_type": "code",
   "execution_count": 195,
   "id": "db0fc45c",
   "metadata": {
    "execution": {
     "iopub.execute_input": "2022-09-26T13:11:35.536338Z",
     "iopub.status.busy": "2022-09-26T13:11:35.535593Z",
     "iopub.status.idle": "2022-09-26T13:11:35.548565Z",
     "shell.execute_reply": "2022-09-26T13:11:35.547682Z"
    },
    "papermill": {
     "duration": 0.084829,
     "end_time": "2022-09-26T13:11:35.550493",
     "exception": false,
     "start_time": "2022-09-26T13:11:35.465664",
     "status": "completed"
    },
    "tags": []
   },
   "outputs": [
    {
     "data": {
      "text/html": [
       "<div>\n",
       "<style scoped>\n",
       "    .dataframe tbody tr th:only-of-type {\n",
       "        vertical-align: middle;\n",
       "    }\n",
       "\n",
       "    .dataframe tbody tr th {\n",
       "        vertical-align: top;\n",
       "    }\n",
       "\n",
       "    .dataframe thead th {\n",
       "        text-align: right;\n",
       "    }\n",
       "</style>\n",
       "<table border=\"1\" class=\"dataframe\">\n",
       "  <thead>\n",
       "    <tr style=\"text-align: right;\">\n",
       "      <th></th>\n",
       "      <th>A</th>\n",
       "      <th>B</th>\n",
       "      <th>C</th>\n",
       "      <th>D</th>\n",
       "    </tr>\n",
       "  </thead>\n",
       "  <tbody>\n",
       "    <tr>\n",
       "      <th>2000-01-01</th>\n",
       "      <td>True</td>\n",
       "      <td>True</td>\n",
       "      <td>True</td>\n",
       "      <td>True</td>\n",
       "    </tr>\n",
       "    <tr>\n",
       "      <th>2000-01-02</th>\n",
       "      <td>True</td>\n",
       "      <td>True</td>\n",
       "      <td>True</td>\n",
       "      <td>True</td>\n",
       "    </tr>\n",
       "    <tr>\n",
       "      <th>2000-01-03</th>\n",
       "      <td>True</td>\n",
       "      <td>True</td>\n",
       "      <td>True</td>\n",
       "      <td>True</td>\n",
       "    </tr>\n",
       "    <tr>\n",
       "      <th>2000-01-04</th>\n",
       "      <td>True</td>\n",
       "      <td>True</td>\n",
       "      <td>True</td>\n",
       "      <td>True</td>\n",
       "    </tr>\n",
       "    <tr>\n",
       "      <th>2000-01-05</th>\n",
       "      <td>True</td>\n",
       "      <td>True</td>\n",
       "      <td>True</td>\n",
       "      <td>True</td>\n",
       "    </tr>\n",
       "    <tr>\n",
       "      <th>2000-01-06</th>\n",
       "      <td>True</td>\n",
       "      <td>True</td>\n",
       "      <td>True</td>\n",
       "      <td>True</td>\n",
       "    </tr>\n",
       "    <tr>\n",
       "      <th>2000-01-07</th>\n",
       "      <td>True</td>\n",
       "      <td>True</td>\n",
       "      <td>True</td>\n",
       "      <td>True</td>\n",
       "    </tr>\n",
       "    <tr>\n",
       "      <th>2000-01-08</th>\n",
       "      <td>True</td>\n",
       "      <td>True</td>\n",
       "      <td>True</td>\n",
       "      <td>True</td>\n",
       "    </tr>\n",
       "  </tbody>\n",
       "</table>\n",
       "</div>"
      ],
      "text/plain": [
       "               A     B     C     D\n",
       "2000-01-01  True  True  True  True\n",
       "2000-01-02  True  True  True  True\n",
       "2000-01-03  True  True  True  True\n",
       "2000-01-04  True  True  True  True\n",
       "2000-01-05  True  True  True  True\n",
       "2000-01-06  True  True  True  True\n",
       "2000-01-07  True  True  True  True\n",
       "2000-01-08  True  True  True  True"
      ]
     },
     "execution_count": 195,
     "metadata": {},
     "output_type": "execute_result"
    }
   ],
   "source": [
    "df.where(df < 0, -df) == np.where(df < 0, df, -df)"
   ]
  },
  {
   "cell_type": "markdown",
   "id": "60c6915f",
   "metadata": {
    "papermill": {
     "duration": 0.069403,
     "end_time": "2022-09-26T13:11:35.688665",
     "exception": false,
     "start_time": "2022-09-26T13:11:35.619262",
     "status": "completed"
    },
    "tags": []
   },
   "source": [
    "#### The where() Method and Masking | Alignment\n",
    "\n",
    "- Furthermore, where aligns the input boolean condition (ndarray or DataFrame), such that partial selection with setting is possible. This is analogous to partial setting via .loc (but on the contents rather than the axis labels)."
   ]
  },
  {
   "cell_type": "code",
   "execution_count": 196,
   "id": "fb3550f1",
   "metadata": {
    "execution": {
     "iopub.execute_input": "2022-09-26T13:11:35.828001Z",
     "iopub.status.busy": "2022-09-26T13:11:35.827652Z",
     "iopub.status.idle": "2022-09-26T13:11:35.841753Z",
     "shell.execute_reply": "2022-09-26T13:11:35.840806Z"
    },
    "papermill": {
     "duration": 0.085869,
     "end_time": "2022-09-26T13:11:35.843730",
     "exception": false,
     "start_time": "2022-09-26T13:11:35.757861",
     "status": "completed"
    },
    "tags": []
   },
   "outputs": [
    {
     "data": {
      "text/html": [
       "<div>\n",
       "<style scoped>\n",
       "    .dataframe tbody tr th:only-of-type {\n",
       "        vertical-align: middle;\n",
       "    }\n",
       "\n",
       "    .dataframe tbody tr th {\n",
       "        vertical-align: top;\n",
       "    }\n",
       "\n",
       "    .dataframe thead th {\n",
       "        text-align: right;\n",
       "    }\n",
       "</style>\n",
       "<table border=\"1\" class=\"dataframe\">\n",
       "  <thead>\n",
       "    <tr style=\"text-align: right;\">\n",
       "      <th></th>\n",
       "      <th>A</th>\n",
       "      <th>B</th>\n",
       "      <th>C</th>\n",
       "      <th>D</th>\n",
       "    </tr>\n",
       "  </thead>\n",
       "  <tbody>\n",
       "    <tr>\n",
       "      <th>2000-01-01</th>\n",
       "      <td>1.132067</td>\n",
       "      <td>-0.508500</td>\n",
       "      <td>1.009483</td>\n",
       "      <td>1.908510</td>\n",
       "    </tr>\n",
       "    <tr>\n",
       "      <th>2000-01-02</th>\n",
       "      <td>-0.979125</td>\n",
       "      <td>-0.733617</td>\n",
       "      <td>-1.604209</td>\n",
       "      <td>-0.305125</td>\n",
       "    </tr>\n",
       "    <tr>\n",
       "      <th>2000-01-03</th>\n",
       "      <td>3.000000</td>\n",
       "      <td>3.000000</td>\n",
       "      <td>3.000000</td>\n",
       "      <td>-1.453743</td>\n",
       "    </tr>\n",
       "    <tr>\n",
       "      <th>2000-01-04</th>\n",
       "      <td>3.000000</td>\n",
       "      <td>3.000000</td>\n",
       "      <td>3.000000</td>\n",
       "      <td>3.000000</td>\n",
       "    </tr>\n",
       "    <tr>\n",
       "      <th>2000-01-05</th>\n",
       "      <td>0.152582</td>\n",
       "      <td>-2.032975</td>\n",
       "      <td>0.222535</td>\n",
       "      <td>-0.146948</td>\n",
       "    </tr>\n",
       "    <tr>\n",
       "      <th>2000-01-06</th>\n",
       "      <td>-1.216851</td>\n",
       "      <td>1.228856</td>\n",
       "      <td>-1.032079</td>\n",
       "      <td>2.202712</td>\n",
       "    </tr>\n",
       "    <tr>\n",
       "      <th>2000-01-07</th>\n",
       "      <td>0.609918</td>\n",
       "      <td>-0.214172</td>\n",
       "      <td>0.731894</td>\n",
       "      <td>-0.141470</td>\n",
       "    </tr>\n",
       "    <tr>\n",
       "      <th>2000-01-08</th>\n",
       "      <td>-0.196825</td>\n",
       "      <td>0.408052</td>\n",
       "      <td>-0.508046</td>\n",
       "      <td>1.414406</td>\n",
       "    </tr>\n",
       "  </tbody>\n",
       "</table>\n",
       "</div>"
      ],
      "text/plain": [
       "                   A         B         C         D\n",
       "2000-01-01  1.132067 -0.508500  1.009483  1.908510\n",
       "2000-01-02 -0.979125 -0.733617 -1.604209 -0.305125\n",
       "2000-01-03  3.000000  3.000000  3.000000 -1.453743\n",
       "2000-01-04  3.000000  3.000000  3.000000  3.000000\n",
       "2000-01-05  0.152582 -2.032975  0.222535 -0.146948\n",
       "2000-01-06 -1.216851  1.228856 -1.032079  2.202712\n",
       "2000-01-07  0.609918 -0.214172  0.731894 -0.141470\n",
       "2000-01-08 -0.196825  0.408052 -0.508046  1.414406"
      ]
     },
     "execution_count": 196,
     "metadata": {},
     "output_type": "execute_result"
    }
   ],
   "source": [
    "df2 = df.copy()\n",
    "df2[df2[1:4] > 0] = 3\n",
    "df2"
   ]
  },
  {
   "cell_type": "markdown",
   "id": "13a310db",
   "metadata": {
    "papermill": {
     "duration": 0.069036,
     "end_time": "2022-09-26T13:11:35.983101",
     "exception": false,
     "start_time": "2022-09-26T13:11:35.914065",
     "status": "completed"
    },
    "tags": []
   },
   "source": [
    ">Where can also accept axis and level parameters to align the input when performing the where."
   ]
  },
  {
   "cell_type": "code",
   "execution_count": 197,
   "id": "18dc4bc3",
   "metadata": {
    "execution": {
     "iopub.execute_input": "2022-09-26T13:11:36.124073Z",
     "iopub.status.busy": "2022-09-26T13:11:36.123732Z",
     "iopub.status.idle": "2022-09-26T13:11:36.137423Z",
     "shell.execute_reply": "2022-09-26T13:11:36.136533Z"
    },
    "papermill": {
     "duration": 0.086753,
     "end_time": "2022-09-26T13:11:36.139468",
     "exception": false,
     "start_time": "2022-09-26T13:11:36.052715",
     "status": "completed"
    },
    "tags": []
   },
   "outputs": [
    {
     "data": {
      "text/html": [
       "<div>\n",
       "<style scoped>\n",
       "    .dataframe tbody tr th:only-of-type {\n",
       "        vertical-align: middle;\n",
       "    }\n",
       "\n",
       "    .dataframe tbody tr th {\n",
       "        vertical-align: top;\n",
       "    }\n",
       "\n",
       "    .dataframe thead th {\n",
       "        text-align: right;\n",
       "    }\n",
       "</style>\n",
       "<table border=\"1\" class=\"dataframe\">\n",
       "  <thead>\n",
       "    <tr style=\"text-align: right;\">\n",
       "      <th></th>\n",
       "      <th>A</th>\n",
       "      <th>B</th>\n",
       "      <th>C</th>\n",
       "      <th>D</th>\n",
       "    </tr>\n",
       "  </thead>\n",
       "  <tbody>\n",
       "    <tr>\n",
       "      <th>2000-01-01</th>\n",
       "      <td>1.132067</td>\n",
       "      <td>1.132067</td>\n",
       "      <td>1.009483</td>\n",
       "      <td>1.908510</td>\n",
       "    </tr>\n",
       "    <tr>\n",
       "      <th>2000-01-02</th>\n",
       "      <td>-0.979125</td>\n",
       "      <td>-0.979125</td>\n",
       "      <td>-0.979125</td>\n",
       "      <td>-0.979125</td>\n",
       "    </tr>\n",
       "    <tr>\n",
       "      <th>2000-01-03</th>\n",
       "      <td>0.293552</td>\n",
       "      <td>0.376412</td>\n",
       "      <td>0.348386</td>\n",
       "      <td>0.293552</td>\n",
       "    </tr>\n",
       "    <tr>\n",
       "      <th>2000-01-04</th>\n",
       "      <td>0.276791</td>\n",
       "      <td>1.820946</td>\n",
       "      <td>0.195492</td>\n",
       "      <td>1.244240</td>\n",
       "    </tr>\n",
       "    <tr>\n",
       "      <th>2000-01-05</th>\n",
       "      <td>0.152582</td>\n",
       "      <td>0.152582</td>\n",
       "      <td>0.222535</td>\n",
       "      <td>0.152582</td>\n",
       "    </tr>\n",
       "    <tr>\n",
       "      <th>2000-01-06</th>\n",
       "      <td>-1.216851</td>\n",
       "      <td>1.228856</td>\n",
       "      <td>-1.216851</td>\n",
       "      <td>2.202712</td>\n",
       "    </tr>\n",
       "    <tr>\n",
       "      <th>2000-01-07</th>\n",
       "      <td>0.609918</td>\n",
       "      <td>0.609918</td>\n",
       "      <td>0.731894</td>\n",
       "      <td>0.609918</td>\n",
       "    </tr>\n",
       "    <tr>\n",
       "      <th>2000-01-08</th>\n",
       "      <td>-0.196825</td>\n",
       "      <td>0.408052</td>\n",
       "      <td>-0.196825</td>\n",
       "      <td>1.414406</td>\n",
       "    </tr>\n",
       "  </tbody>\n",
       "</table>\n",
       "</div>"
      ],
      "text/plain": [
       "                   A         B         C         D\n",
       "2000-01-01  1.132067  1.132067  1.009483  1.908510\n",
       "2000-01-02 -0.979125 -0.979125 -0.979125 -0.979125\n",
       "2000-01-03  0.293552  0.376412  0.348386  0.293552\n",
       "2000-01-04  0.276791  1.820946  0.195492  1.244240\n",
       "2000-01-05  0.152582  0.152582  0.222535  0.152582\n",
       "2000-01-06 -1.216851  1.228856 -1.216851  2.202712\n",
       "2000-01-07  0.609918  0.609918  0.731894  0.609918\n",
       "2000-01-08 -0.196825  0.408052 -0.196825  1.414406"
      ]
     },
     "execution_count": 197,
     "metadata": {},
     "output_type": "execute_result"
    }
   ],
   "source": [
    "df2 = df.copy()\n",
    "df2.where(df2 > 0, df2['A'], axis='index')"
   ]
  },
  {
   "cell_type": "markdown",
   "id": "6d834a04",
   "metadata": {
    "papermill": {
     "duration": 0.068803,
     "end_time": "2022-09-26T13:11:36.278285",
     "exception": false,
     "start_time": "2022-09-26T13:11:36.209482",
     "status": "completed"
    },
    "tags": []
   },
   "source": [
    ">This is equivalent to (but faster than) the following."
   ]
  },
  {
   "cell_type": "code",
   "execution_count": 198,
   "id": "ea040da4",
   "metadata": {
    "execution": {
     "iopub.execute_input": "2022-09-26T13:11:36.418368Z",
     "iopub.status.busy": "2022-09-26T13:11:36.418012Z",
     "iopub.status.idle": "2022-09-26T13:11:36.434267Z",
     "shell.execute_reply": "2022-09-26T13:11:36.433363Z"
    },
    "papermill": {
     "duration": 0.088622,
     "end_time": "2022-09-26T13:11:36.436226",
     "exception": false,
     "start_time": "2022-09-26T13:11:36.347604",
     "status": "completed"
    },
    "tags": []
   },
   "outputs": [
    {
     "data": {
      "text/html": [
       "<div>\n",
       "<style scoped>\n",
       "    .dataframe tbody tr th:only-of-type {\n",
       "        vertical-align: middle;\n",
       "    }\n",
       "\n",
       "    .dataframe tbody tr th {\n",
       "        vertical-align: top;\n",
       "    }\n",
       "\n",
       "    .dataframe thead th {\n",
       "        text-align: right;\n",
       "    }\n",
       "</style>\n",
       "<table border=\"1\" class=\"dataframe\">\n",
       "  <thead>\n",
       "    <tr style=\"text-align: right;\">\n",
       "      <th></th>\n",
       "      <th>A</th>\n",
       "      <th>B</th>\n",
       "      <th>C</th>\n",
       "      <th>D</th>\n",
       "    </tr>\n",
       "  </thead>\n",
       "  <tbody>\n",
       "    <tr>\n",
       "      <th>2000-01-01</th>\n",
       "      <td>1.132067</td>\n",
       "      <td>1.132067</td>\n",
       "      <td>1.009483</td>\n",
       "      <td>1.908510</td>\n",
       "    </tr>\n",
       "    <tr>\n",
       "      <th>2000-01-02</th>\n",
       "      <td>-0.979125</td>\n",
       "      <td>-0.979125</td>\n",
       "      <td>-0.979125</td>\n",
       "      <td>-0.979125</td>\n",
       "    </tr>\n",
       "    <tr>\n",
       "      <th>2000-01-03</th>\n",
       "      <td>0.293552</td>\n",
       "      <td>0.376412</td>\n",
       "      <td>0.348386</td>\n",
       "      <td>0.293552</td>\n",
       "    </tr>\n",
       "    <tr>\n",
       "      <th>2000-01-04</th>\n",
       "      <td>0.276791</td>\n",
       "      <td>1.820946</td>\n",
       "      <td>0.195492</td>\n",
       "      <td>1.244240</td>\n",
       "    </tr>\n",
       "    <tr>\n",
       "      <th>2000-01-05</th>\n",
       "      <td>0.152582</td>\n",
       "      <td>0.152582</td>\n",
       "      <td>0.222535</td>\n",
       "      <td>0.152582</td>\n",
       "    </tr>\n",
       "    <tr>\n",
       "      <th>2000-01-06</th>\n",
       "      <td>-1.216851</td>\n",
       "      <td>1.228856</td>\n",
       "      <td>-1.216851</td>\n",
       "      <td>2.202712</td>\n",
       "    </tr>\n",
       "    <tr>\n",
       "      <th>2000-01-07</th>\n",
       "      <td>0.609918</td>\n",
       "      <td>0.609918</td>\n",
       "      <td>0.731894</td>\n",
       "      <td>0.609918</td>\n",
       "    </tr>\n",
       "    <tr>\n",
       "      <th>2000-01-08</th>\n",
       "      <td>-0.196825</td>\n",
       "      <td>0.408052</td>\n",
       "      <td>-0.196825</td>\n",
       "      <td>1.414406</td>\n",
       "    </tr>\n",
       "  </tbody>\n",
       "</table>\n",
       "</div>"
      ],
      "text/plain": [
       "                   A         B         C         D\n",
       "2000-01-01  1.132067  1.132067  1.009483  1.908510\n",
       "2000-01-02 -0.979125 -0.979125 -0.979125 -0.979125\n",
       "2000-01-03  0.293552  0.376412  0.348386  0.293552\n",
       "2000-01-04  0.276791  1.820946  0.195492  1.244240\n",
       "2000-01-05  0.152582  0.152582  0.222535  0.152582\n",
       "2000-01-06 -1.216851  1.228856 -1.216851  2.202712\n",
       "2000-01-07  0.609918  0.609918  0.731894  0.609918\n",
       "2000-01-08 -0.196825  0.408052 -0.196825  1.414406"
      ]
     },
     "execution_count": 198,
     "metadata": {},
     "output_type": "execute_result"
    }
   ],
   "source": [
    "df2 = df.copy()\n",
    "df.apply(lambda x, y: x.where(x > 0, y), y=df['A'])"
   ]
  },
  {
   "cell_type": "markdown",
   "id": "d7f1cad4",
   "metadata": {
    "papermill": {
     "duration": 0.0698,
     "end_time": "2022-09-26T13:11:36.575651",
     "exception": false,
     "start_time": "2022-09-26T13:11:36.505851",
     "status": "completed"
    },
    "tags": []
   },
   "source": [
    "where can accept a callable as condition and other arguments. The function must be with one argument (the calling Series or DataFrame) and that returns valid output as condition and other argument."
   ]
  },
  {
   "cell_type": "code",
   "execution_count": 199,
   "id": "47a3617d",
   "metadata": {
    "execution": {
     "iopub.execute_input": "2022-09-26T13:11:36.726589Z",
     "iopub.status.busy": "2022-09-26T13:11:36.726226Z",
     "iopub.status.idle": "2022-09-26T13:11:36.738283Z",
     "shell.execute_reply": "2022-09-26T13:11:36.737298Z"
    },
    "papermill": {
     "duration": 0.084776,
     "end_time": "2022-09-26T13:11:36.740274",
     "exception": false,
     "start_time": "2022-09-26T13:11:36.655498",
     "status": "completed"
    },
    "tags": []
   },
   "outputs": [
    {
     "data": {
      "text/html": [
       "<div>\n",
       "<style scoped>\n",
       "    .dataframe tbody tr th:only-of-type {\n",
       "        vertical-align: middle;\n",
       "    }\n",
       "\n",
       "    .dataframe tbody tr th {\n",
       "        vertical-align: top;\n",
       "    }\n",
       "\n",
       "    .dataframe thead th {\n",
       "        text-align: right;\n",
       "    }\n",
       "</style>\n",
       "<table border=\"1\" class=\"dataframe\">\n",
       "  <thead>\n",
       "    <tr style=\"text-align: right;\">\n",
       "      <th></th>\n",
       "      <th>A</th>\n",
       "      <th>B</th>\n",
       "      <th>C</th>\n",
       "    </tr>\n",
       "  </thead>\n",
       "  <tbody>\n",
       "    <tr>\n",
       "      <th>0</th>\n",
       "      <td>11</td>\n",
       "      <td>14</td>\n",
       "      <td>7</td>\n",
       "    </tr>\n",
       "    <tr>\n",
       "      <th>1</th>\n",
       "      <td>12</td>\n",
       "      <td>5</td>\n",
       "      <td>8</td>\n",
       "    </tr>\n",
       "    <tr>\n",
       "      <th>2</th>\n",
       "      <td>13</td>\n",
       "      <td>6</td>\n",
       "      <td>9</td>\n",
       "    </tr>\n",
       "  </tbody>\n",
       "</table>\n",
       "</div>"
      ],
      "text/plain": [
       "    A   B  C\n",
       "0  11  14  7\n",
       "1  12   5  8\n",
       "2  13   6  9"
      ]
     },
     "execution_count": 199,
     "metadata": {},
     "output_type": "execute_result"
    }
   ],
   "source": [
    "df3 = pd.DataFrame({'A': [1, 2, 3],\n",
    "   .....:                     'B': [4, 5, 6],\n",
    "   .....:                     'C': [7, 8, 9]})\n",
    "df3.where(lambda x: x > 4, lambda x: x + 10)"
   ]
  },
  {
   "cell_type": "markdown",
   "id": "a1412507",
   "metadata": {
    "papermill": {
     "duration": 0.069157,
     "end_time": "2022-09-26T13:11:36.879173",
     "exception": false,
     "start_time": "2022-09-26T13:11:36.810016",
     "status": "completed"
    },
    "tags": []
   },
   "source": [
    "> ## MASK:\n",
    "> ##### mask() is the inverse boolean operation of where."
   ]
  },
  {
   "cell_type": "code",
   "execution_count": 200,
   "id": "ae63a820",
   "metadata": {
    "execution": {
     "iopub.execute_input": "2022-09-26T13:11:37.021048Z",
     "iopub.status.busy": "2022-09-26T13:11:37.020085Z",
     "iopub.status.idle": "2022-09-26T13:11:37.028598Z",
     "shell.execute_reply": "2022-09-26T13:11:37.027595Z"
    },
    "papermill": {
     "duration": 0.082163,
     "end_time": "2022-09-26T13:11:37.030628",
     "exception": false,
     "start_time": "2022-09-26T13:11:36.948465",
     "status": "completed"
    },
    "tags": []
   },
   "outputs": [
    {
     "data": {
      "text/plain": [
       "4   NaN\n",
       "3   NaN\n",
       "2   NaN\n",
       "1   NaN\n",
       "0   NaN\n",
       "dtype: float64"
      ]
     },
     "execution_count": 200,
     "metadata": {},
     "output_type": "execute_result"
    }
   ],
   "source": [
    "s.mask(s >= 0)"
   ]
  },
  {
   "cell_type": "code",
   "execution_count": 201,
   "id": "cdd11717",
   "metadata": {
    "execution": {
     "iopub.execute_input": "2022-09-26T13:11:37.173796Z",
     "iopub.status.busy": "2022-09-26T13:11:37.172054Z",
     "iopub.status.idle": "2022-09-26T13:11:37.185319Z",
     "shell.execute_reply": "2022-09-26T13:11:37.184294Z"
    },
    "papermill": {
     "duration": 0.086776,
     "end_time": "2022-09-26T13:11:37.187531",
     "exception": false,
     "start_time": "2022-09-26T13:11:37.100755",
     "status": "completed"
    },
    "tags": []
   },
   "outputs": [
    {
     "data": {
      "text/html": [
       "<div>\n",
       "<style scoped>\n",
       "    .dataframe tbody tr th:only-of-type {\n",
       "        vertical-align: middle;\n",
       "    }\n",
       "\n",
       "    .dataframe tbody tr th {\n",
       "        vertical-align: top;\n",
       "    }\n",
       "\n",
       "    .dataframe thead th {\n",
       "        text-align: right;\n",
       "    }\n",
       "</style>\n",
       "<table border=\"1\" class=\"dataframe\">\n",
       "  <thead>\n",
       "    <tr style=\"text-align: right;\">\n",
       "      <th></th>\n",
       "      <th>A</th>\n",
       "      <th>B</th>\n",
       "      <th>C</th>\n",
       "      <th>D</th>\n",
       "    </tr>\n",
       "  </thead>\n",
       "  <tbody>\n",
       "    <tr>\n",
       "      <th>2000-01-01</th>\n",
       "      <td>NaN</td>\n",
       "      <td>-0.508500</td>\n",
       "      <td>NaN</td>\n",
       "      <td>NaN</td>\n",
       "    </tr>\n",
       "    <tr>\n",
       "      <th>2000-01-02</th>\n",
       "      <td>-0.979125</td>\n",
       "      <td>-0.733617</td>\n",
       "      <td>-1.604209</td>\n",
       "      <td>-0.305125</td>\n",
       "    </tr>\n",
       "    <tr>\n",
       "      <th>2000-01-03</th>\n",
       "      <td>NaN</td>\n",
       "      <td>NaN</td>\n",
       "      <td>NaN</td>\n",
       "      <td>-1.453743</td>\n",
       "    </tr>\n",
       "    <tr>\n",
       "      <th>2000-01-04</th>\n",
       "      <td>NaN</td>\n",
       "      <td>NaN</td>\n",
       "      <td>NaN</td>\n",
       "      <td>NaN</td>\n",
       "    </tr>\n",
       "    <tr>\n",
       "      <th>2000-01-05</th>\n",
       "      <td>NaN</td>\n",
       "      <td>-2.032975</td>\n",
       "      <td>NaN</td>\n",
       "      <td>-0.146948</td>\n",
       "    </tr>\n",
       "    <tr>\n",
       "      <th>2000-01-06</th>\n",
       "      <td>-1.216851</td>\n",
       "      <td>NaN</td>\n",
       "      <td>-1.032079</td>\n",
       "      <td>NaN</td>\n",
       "    </tr>\n",
       "    <tr>\n",
       "      <th>2000-01-07</th>\n",
       "      <td>NaN</td>\n",
       "      <td>-0.214172</td>\n",
       "      <td>NaN</td>\n",
       "      <td>-0.141470</td>\n",
       "    </tr>\n",
       "    <tr>\n",
       "      <th>2000-01-08</th>\n",
       "      <td>-0.196825</td>\n",
       "      <td>NaN</td>\n",
       "      <td>-0.508046</td>\n",
       "      <td>NaN</td>\n",
       "    </tr>\n",
       "  </tbody>\n",
       "</table>\n",
       "</div>"
      ],
      "text/plain": [
       "                   A         B         C         D\n",
       "2000-01-01       NaN -0.508500       NaN       NaN\n",
       "2000-01-02 -0.979125 -0.733617 -1.604209 -0.305125\n",
       "2000-01-03       NaN       NaN       NaN -1.453743\n",
       "2000-01-04       NaN       NaN       NaN       NaN\n",
       "2000-01-05       NaN -2.032975       NaN -0.146948\n",
       "2000-01-06 -1.216851       NaN -1.032079       NaN\n",
       "2000-01-07       NaN -0.214172       NaN -0.141470\n",
       "2000-01-08 -0.196825       NaN -0.508046       NaN"
      ]
     },
     "execution_count": 201,
     "metadata": {},
     "output_type": "execute_result"
    }
   ],
   "source": [
    "df.mask(df >= 0)"
   ]
  },
  {
   "cell_type": "markdown",
   "id": "5f6102b7",
   "metadata": {
    "papermill": {
     "duration": 0.069545,
     "end_time": "2022-09-26T13:11:37.327584",
     "exception": false,
     "start_time": "2022-09-26T13:11:37.258039",
     "status": "completed"
    },
    "tags": []
   },
   "source": [
    "## The query() Method:\n",
    "- DataFrame objects have a query() method that allows selection using an expression.\n",
    "\n",
    "- You can get the value of the frame where column b has values between the values of columns a and c. For example:"
   ]
  },
  {
   "cell_type": "code",
   "execution_count": 202,
   "id": "16900ead",
   "metadata": {
    "execution": {
     "iopub.execute_input": "2022-09-26T13:11:37.469565Z",
     "iopub.status.busy": "2022-09-26T13:11:37.469212Z",
     "iopub.status.idle": "2022-09-26T13:11:37.480757Z",
     "shell.execute_reply": "2022-09-26T13:11:37.479827Z"
    },
    "papermill": {
     "duration": 0.08536,
     "end_time": "2022-09-26T13:11:37.482929",
     "exception": false,
     "start_time": "2022-09-26T13:11:37.397569",
     "status": "completed"
    },
    "tags": []
   },
   "outputs": [
    {
     "data": {
      "text/html": [
       "<div>\n",
       "<style scoped>\n",
       "    .dataframe tbody tr th:only-of-type {\n",
       "        vertical-align: middle;\n",
       "    }\n",
       "\n",
       "    .dataframe tbody tr th {\n",
       "        vertical-align: top;\n",
       "    }\n",
       "\n",
       "    .dataframe thead th {\n",
       "        text-align: right;\n",
       "    }\n",
       "</style>\n",
       "<table border=\"1\" class=\"dataframe\">\n",
       "  <thead>\n",
       "    <tr style=\"text-align: right;\">\n",
       "      <th></th>\n",
       "      <th>a</th>\n",
       "      <th>b</th>\n",
       "      <th>c</th>\n",
       "    </tr>\n",
       "  </thead>\n",
       "  <tbody>\n",
       "    <tr>\n",
       "      <th>0</th>\n",
       "      <td>0.191480</td>\n",
       "      <td>0.898092</td>\n",
       "      <td>0.286448</td>\n",
       "    </tr>\n",
       "    <tr>\n",
       "      <th>1</th>\n",
       "      <td>0.246398</td>\n",
       "      <td>0.058713</td>\n",
       "      <td>0.443207</td>\n",
       "    </tr>\n",
       "    <tr>\n",
       "      <th>2</th>\n",
       "      <td>0.063571</td>\n",
       "      <td>0.619552</td>\n",
       "      <td>0.087926</td>\n",
       "    </tr>\n",
       "    <tr>\n",
       "      <th>3</th>\n",
       "      <td>0.469091</td>\n",
       "      <td>0.918774</td>\n",
       "      <td>0.559972</td>\n",
       "    </tr>\n",
       "    <tr>\n",
       "      <th>4</th>\n",
       "      <td>0.190643</td>\n",
       "      <td>0.718216</td>\n",
       "      <td>0.358848</td>\n",
       "    </tr>\n",
       "    <tr>\n",
       "      <th>5</th>\n",
       "      <td>0.084851</td>\n",
       "      <td>0.678160</td>\n",
       "      <td>0.181227</td>\n",
       "    </tr>\n",
       "    <tr>\n",
       "      <th>6</th>\n",
       "      <td>0.078588</td>\n",
       "      <td>0.659702</td>\n",
       "      <td>0.919526</td>\n",
       "    </tr>\n",
       "    <tr>\n",
       "      <th>7</th>\n",
       "      <td>0.203546</td>\n",
       "      <td>0.054939</td>\n",
       "      <td>0.005462</td>\n",
       "    </tr>\n",
       "    <tr>\n",
       "      <th>8</th>\n",
       "      <td>0.103236</td>\n",
       "      <td>0.768265</td>\n",
       "      <td>0.876924</td>\n",
       "    </tr>\n",
       "    <tr>\n",
       "      <th>9</th>\n",
       "      <td>0.926212</td>\n",
       "      <td>0.610329</td>\n",
       "      <td>0.009631</td>\n",
       "    </tr>\n",
       "  </tbody>\n",
       "</table>\n",
       "</div>"
      ],
      "text/plain": [
       "          a         b         c\n",
       "0  0.191480  0.898092  0.286448\n",
       "1  0.246398  0.058713  0.443207\n",
       "2  0.063571  0.619552  0.087926\n",
       "3  0.469091  0.918774  0.559972\n",
       "4  0.190643  0.718216  0.358848\n",
       "5  0.084851  0.678160  0.181227\n",
       "6  0.078588  0.659702  0.919526\n",
       "7  0.203546  0.054939  0.005462\n",
       "8  0.103236  0.768265  0.876924\n",
       "9  0.926212  0.610329  0.009631"
      ]
     },
     "execution_count": 202,
     "metadata": {},
     "output_type": "execute_result"
    }
   ],
   "source": [
    "n=10\n",
    "df = pd.DataFrame(np.random.rand(n, 3), columns=list('abc'))\n",
    "df"
   ]
  },
  {
   "cell_type": "code",
   "execution_count": 203,
   "id": "fe89db9e",
   "metadata": {
    "execution": {
     "iopub.execute_input": "2022-09-26T13:11:37.637009Z",
     "iopub.status.busy": "2022-09-26T13:11:37.635965Z",
     "iopub.status.idle": "2022-09-26T13:11:37.647425Z",
     "shell.execute_reply": "2022-09-26T13:11:37.646469Z"
    },
    "papermill": {
     "duration": 0.095053,
     "end_time": "2022-09-26T13:11:37.649474",
     "exception": false,
     "start_time": "2022-09-26T13:11:37.554421",
     "status": "completed"
    },
    "tags": []
   },
   "outputs": [
    {
     "data": {
      "text/html": [
       "<div>\n",
       "<style scoped>\n",
       "    .dataframe tbody tr th:only-of-type {\n",
       "        vertical-align: middle;\n",
       "    }\n",
       "\n",
       "    .dataframe tbody tr th {\n",
       "        vertical-align: top;\n",
       "    }\n",
       "\n",
       "    .dataframe thead th {\n",
       "        text-align: right;\n",
       "    }\n",
       "</style>\n",
       "<table border=\"1\" class=\"dataframe\">\n",
       "  <thead>\n",
       "    <tr style=\"text-align: right;\">\n",
       "      <th></th>\n",
       "      <th>a</th>\n",
       "      <th>b</th>\n",
       "      <th>c</th>\n",
       "    </tr>\n",
       "  </thead>\n",
       "  <tbody>\n",
       "    <tr>\n",
       "      <th>6</th>\n",
       "      <td>0.078588</td>\n",
       "      <td>0.659702</td>\n",
       "      <td>0.919526</td>\n",
       "    </tr>\n",
       "    <tr>\n",
       "      <th>8</th>\n",
       "      <td>0.103236</td>\n",
       "      <td>0.768265</td>\n",
       "      <td>0.876924</td>\n",
       "    </tr>\n",
       "  </tbody>\n",
       "</table>\n",
       "</div>"
      ],
      "text/plain": [
       "          a         b         c\n",
       "6  0.078588  0.659702  0.919526\n",
       "8  0.103236  0.768265  0.876924"
      ]
     },
     "execution_count": 203,
     "metadata": {},
     "output_type": "execute_result"
    }
   ],
   "source": [
    "df[(df['a'] < df['b']) & (df['b'] < df['c'])]      #Pure Python "
   ]
  },
  {
   "cell_type": "code",
   "execution_count": 204,
   "id": "4bb8b14e",
   "metadata": {
    "execution": {
     "iopub.execute_input": "2022-09-26T13:11:37.793085Z",
     "iopub.status.busy": "2022-09-26T13:11:37.792199Z",
     "iopub.status.idle": "2022-09-26T13:11:37.805168Z",
     "shell.execute_reply": "2022-09-26T13:11:37.804188Z"
    },
    "papermill": {
     "duration": 0.086659,
     "end_time": "2022-09-26T13:11:37.807169",
     "exception": false,
     "start_time": "2022-09-26T13:11:37.720510",
     "status": "completed"
    },
    "tags": []
   },
   "outputs": [
    {
     "data": {
      "text/html": [
       "<div>\n",
       "<style scoped>\n",
       "    .dataframe tbody tr th:only-of-type {\n",
       "        vertical-align: middle;\n",
       "    }\n",
       "\n",
       "    .dataframe tbody tr th {\n",
       "        vertical-align: top;\n",
       "    }\n",
       "\n",
       "    .dataframe thead th {\n",
       "        text-align: right;\n",
       "    }\n",
       "</style>\n",
       "<table border=\"1\" class=\"dataframe\">\n",
       "  <thead>\n",
       "    <tr style=\"text-align: right;\">\n",
       "      <th></th>\n",
       "      <th>a</th>\n",
       "      <th>b</th>\n",
       "      <th>c</th>\n",
       "    </tr>\n",
       "  </thead>\n",
       "  <tbody>\n",
       "    <tr>\n",
       "      <th>6</th>\n",
       "      <td>0.078588</td>\n",
       "      <td>0.659702</td>\n",
       "      <td>0.919526</td>\n",
       "    </tr>\n",
       "    <tr>\n",
       "      <th>8</th>\n",
       "      <td>0.103236</td>\n",
       "      <td>0.768265</td>\n",
       "      <td>0.876924</td>\n",
       "    </tr>\n",
       "  </tbody>\n",
       "</table>\n",
       "</div>"
      ],
      "text/plain": [
       "          a         b         c\n",
       "6  0.078588  0.659702  0.919526\n",
       "8  0.103236  0.768265  0.876924"
      ]
     },
     "execution_count": 204,
     "metadata": {},
     "output_type": "execute_result"
    }
   ],
   "source": [
    "df.query('(a < b) & (b < c)')          #QUERY"
   ]
  },
  {
   "cell_type": "markdown",
   "id": "dda9b5f7",
   "metadata": {
    "papermill": {
     "duration": 0.070104,
     "end_time": "2022-09-26T13:11:37.948856",
     "exception": false,
     "start_time": "2022-09-26T13:11:37.878752",
     "status": "completed"
    },
    "tags": []
   },
   "source": [
    "> Do the same thing but fall back on a named index if there is no column with the name a."
   ]
  },
  {
   "cell_type": "code",
   "execution_count": 205,
   "id": "884e5226",
   "metadata": {
    "execution": {
     "iopub.execute_input": "2022-09-26T13:11:38.132124Z",
     "iopub.status.busy": "2022-09-26T13:11:38.131760Z",
     "iopub.status.idle": "2022-09-26T13:11:38.141831Z",
     "shell.execute_reply": "2022-09-26T13:11:38.140923Z"
    },
    "papermill": {
     "duration": 0.124565,
     "end_time": "2022-09-26T13:11:38.143739",
     "exception": false,
     "start_time": "2022-09-26T13:11:38.019174",
     "status": "completed"
    },
    "tags": []
   },
   "outputs": [
    {
     "data": {
      "text/html": [
       "<div>\n",
       "<style scoped>\n",
       "    .dataframe tbody tr th:only-of-type {\n",
       "        vertical-align: middle;\n",
       "    }\n",
       "\n",
       "    .dataframe tbody tr th {\n",
       "        vertical-align: top;\n",
       "    }\n",
       "\n",
       "    .dataframe thead th {\n",
       "        text-align: right;\n",
       "    }\n",
       "</style>\n",
       "<table border=\"1\" class=\"dataframe\">\n",
       "  <thead>\n",
       "    <tr style=\"text-align: right;\">\n",
       "      <th></th>\n",
       "      <th>b</th>\n",
       "      <th>c</th>\n",
       "    </tr>\n",
       "    <tr>\n",
       "      <th>a</th>\n",
       "      <th></th>\n",
       "      <th></th>\n",
       "    </tr>\n",
       "  </thead>\n",
       "  <tbody>\n",
       "    <tr>\n",
       "      <th>0</th>\n",
       "      <td>1</td>\n",
       "      <td>0</td>\n",
       "    </tr>\n",
       "    <tr>\n",
       "      <th>1</th>\n",
       "      <td>1</td>\n",
       "      <td>0</td>\n",
       "    </tr>\n",
       "    <tr>\n",
       "      <th>2</th>\n",
       "      <td>0</td>\n",
       "      <td>0</td>\n",
       "    </tr>\n",
       "    <tr>\n",
       "      <th>3</th>\n",
       "      <td>4</td>\n",
       "      <td>2</td>\n",
       "    </tr>\n",
       "    <tr>\n",
       "      <th>4</th>\n",
       "      <td>3</td>\n",
       "      <td>2</td>\n",
       "    </tr>\n",
       "    <tr>\n",
       "      <th>5</th>\n",
       "      <td>4</td>\n",
       "      <td>0</td>\n",
       "    </tr>\n",
       "    <tr>\n",
       "      <th>6</th>\n",
       "      <td>1</td>\n",
       "      <td>0</td>\n",
       "    </tr>\n",
       "    <tr>\n",
       "      <th>7</th>\n",
       "      <td>1</td>\n",
       "      <td>0</td>\n",
       "    </tr>\n",
       "    <tr>\n",
       "      <th>8</th>\n",
       "      <td>1</td>\n",
       "      <td>4</td>\n",
       "    </tr>\n",
       "    <tr>\n",
       "      <th>9</th>\n",
       "      <td>0</td>\n",
       "      <td>3</td>\n",
       "    </tr>\n",
       "  </tbody>\n",
       "</table>\n",
       "</div>"
      ],
      "text/plain": [
       "   b  c\n",
       "a      \n",
       "0  1  0\n",
       "1  1  0\n",
       "2  0  0\n",
       "3  4  2\n",
       "4  3  2\n",
       "5  4  0\n",
       "6  1  0\n",
       "7  1  0\n",
       "8  1  4\n",
       "9  0  3"
      ]
     },
     "execution_count": 205,
     "metadata": {},
     "output_type": "execute_result"
    }
   ],
   "source": [
    "df = pd.DataFrame(np.random.randint(n / 2, size=(n, 2)), columns=list('bc'))\n",
    "df.index.name = 'a'\n",
    "df"
   ]
  },
  {
   "cell_type": "code",
   "execution_count": 206,
   "id": "0984ad80",
   "metadata": {
    "execution": {
     "iopub.execute_input": "2022-09-26T13:11:38.287310Z",
     "iopub.status.busy": "2022-09-26T13:11:38.286964Z",
     "iopub.status.idle": "2022-09-26T13:11:38.298269Z",
     "shell.execute_reply": "2022-09-26T13:11:38.297298Z"
    },
    "papermill": {
     "duration": 0.085005,
     "end_time": "2022-09-26T13:11:38.300325",
     "exception": false,
     "start_time": "2022-09-26T13:11:38.215320",
     "status": "completed"
    },
    "tags": []
   },
   "outputs": [
    {
     "data": {
      "text/html": [
       "<div>\n",
       "<style scoped>\n",
       "    .dataframe tbody tr th:only-of-type {\n",
       "        vertical-align: middle;\n",
       "    }\n",
       "\n",
       "    .dataframe tbody tr th {\n",
       "        vertical-align: top;\n",
       "    }\n",
       "\n",
       "    .dataframe thead th {\n",
       "        text-align: right;\n",
       "    }\n",
       "</style>\n",
       "<table border=\"1\" class=\"dataframe\">\n",
       "  <thead>\n",
       "    <tr style=\"text-align: right;\">\n",
       "      <th></th>\n",
       "      <th>b</th>\n",
       "      <th>c</th>\n",
       "    </tr>\n",
       "    <tr>\n",
       "      <th>a</th>\n",
       "      <th></th>\n",
       "      <th></th>\n",
       "    </tr>\n",
       "  </thead>\n",
       "  <tbody>\n",
       "  </tbody>\n",
       "</table>\n",
       "</div>"
      ],
      "text/plain": [
       "Empty DataFrame\n",
       "Columns: [b, c]\n",
       "Index: []"
      ]
     },
     "execution_count": 206,
     "metadata": {},
     "output_type": "execute_result"
    }
   ],
   "source": [
    "df.query('a < b and b < c')"
   ]
  },
  {
   "cell_type": "markdown",
   "id": "69dcf741",
   "metadata": {
    "papermill": {
     "duration": 0.070929,
     "end_time": "2022-09-26T13:11:38.442289",
     "exception": false,
     "start_time": "2022-09-26T13:11:38.371360",
     "status": "completed"
    },
    "tags": []
   },
   "source": [
    "If instead you don’t want to or cannot name your index, you can use the name index in your query expression:"
   ]
  },
  {
   "cell_type": "code",
   "execution_count": 207,
   "id": "c7aa6146",
   "metadata": {
    "execution": {
     "iopub.execute_input": "2022-09-26T13:11:38.586430Z",
     "iopub.status.busy": "2022-09-26T13:11:38.585488Z",
     "iopub.status.idle": "2022-09-26T13:11:38.595272Z",
     "shell.execute_reply": "2022-09-26T13:11:38.594350Z"
    },
    "papermill": {
     "duration": 0.083393,
     "end_time": "2022-09-26T13:11:38.597196",
     "exception": false,
     "start_time": "2022-09-26T13:11:38.513803",
     "status": "completed"
    },
    "tags": []
   },
   "outputs": [
    {
     "data": {
      "text/html": [
       "<div>\n",
       "<style scoped>\n",
       "    .dataframe tbody tr th:only-of-type {\n",
       "        vertical-align: middle;\n",
       "    }\n",
       "\n",
       "    .dataframe tbody tr th {\n",
       "        vertical-align: top;\n",
       "    }\n",
       "\n",
       "    .dataframe thead th {\n",
       "        text-align: right;\n",
       "    }\n",
       "</style>\n",
       "<table border=\"1\" class=\"dataframe\">\n",
       "  <thead>\n",
       "    <tr style=\"text-align: right;\">\n",
       "      <th></th>\n",
       "      <th>b</th>\n",
       "      <th>c</th>\n",
       "    </tr>\n",
       "  </thead>\n",
       "  <tbody>\n",
       "    <tr>\n",
       "      <th>0</th>\n",
       "      <td>9</td>\n",
       "      <td>8</td>\n",
       "    </tr>\n",
       "    <tr>\n",
       "      <th>1</th>\n",
       "      <td>8</td>\n",
       "      <td>2</td>\n",
       "    </tr>\n",
       "    <tr>\n",
       "      <th>2</th>\n",
       "      <td>3</td>\n",
       "      <td>9</td>\n",
       "    </tr>\n",
       "    <tr>\n",
       "      <th>3</th>\n",
       "      <td>6</td>\n",
       "      <td>9</td>\n",
       "    </tr>\n",
       "    <tr>\n",
       "      <th>4</th>\n",
       "      <td>3</td>\n",
       "      <td>5</td>\n",
       "    </tr>\n",
       "    <tr>\n",
       "      <th>5</th>\n",
       "      <td>2</td>\n",
       "      <td>6</td>\n",
       "    </tr>\n",
       "    <tr>\n",
       "      <th>6</th>\n",
       "      <td>7</td>\n",
       "      <td>0</td>\n",
       "    </tr>\n",
       "    <tr>\n",
       "      <th>7</th>\n",
       "      <td>7</td>\n",
       "      <td>9</td>\n",
       "    </tr>\n",
       "    <tr>\n",
       "      <th>8</th>\n",
       "      <td>5</td>\n",
       "      <td>4</td>\n",
       "    </tr>\n",
       "    <tr>\n",
       "      <th>9</th>\n",
       "      <td>4</td>\n",
       "      <td>3</td>\n",
       "    </tr>\n",
       "  </tbody>\n",
       "</table>\n",
       "</div>"
      ],
      "text/plain": [
       "   b  c\n",
       "0  9  8\n",
       "1  8  2\n",
       "2  3  9\n",
       "3  6  9\n",
       "4  3  5\n",
       "5  2  6\n",
       "6  7  0\n",
       "7  7  9\n",
       "8  5  4\n",
       "9  4  3"
      ]
     },
     "execution_count": 207,
     "metadata": {},
     "output_type": "execute_result"
    }
   ],
   "source": [
    "\n",
    "df = pd.DataFrame(np.random.randint(n, size=(n, 2)), columns=list('bc'))\n",
    "df"
   ]
  },
  {
   "cell_type": "code",
   "execution_count": 208,
   "id": "0e29d5e3",
   "metadata": {
    "execution": {
     "iopub.execute_input": "2022-09-26T13:11:38.743374Z",
     "iopub.status.busy": "2022-09-26T13:11:38.743009Z",
     "iopub.status.idle": "2022-09-26T13:11:38.755138Z",
     "shell.execute_reply": "2022-09-26T13:11:38.754131Z"
    },
    "papermill": {
     "duration": 0.089304,
     "end_time": "2022-09-26T13:11:38.757386",
     "exception": false,
     "start_time": "2022-09-26T13:11:38.668082",
     "status": "completed"
    },
    "tags": []
   },
   "outputs": [
    {
     "data": {
      "text/html": [
       "<div>\n",
       "<style scoped>\n",
       "    .dataframe tbody tr th:only-of-type {\n",
       "        vertical-align: middle;\n",
       "    }\n",
       "\n",
       "    .dataframe tbody tr th {\n",
       "        vertical-align: top;\n",
       "    }\n",
       "\n",
       "    .dataframe thead th {\n",
       "        text-align: right;\n",
       "    }\n",
       "</style>\n",
       "<table border=\"1\" class=\"dataframe\">\n",
       "  <thead>\n",
       "    <tr style=\"text-align: right;\">\n",
       "      <th></th>\n",
       "      <th>b</th>\n",
       "      <th>c</th>\n",
       "    </tr>\n",
       "  </thead>\n",
       "  <tbody>\n",
       "    <tr>\n",
       "      <th>2</th>\n",
       "      <td>3</td>\n",
       "      <td>9</td>\n",
       "    </tr>\n",
       "    <tr>\n",
       "      <th>3</th>\n",
       "      <td>6</td>\n",
       "      <td>9</td>\n",
       "    </tr>\n",
       "  </tbody>\n",
       "</table>\n",
       "</div>"
      ],
      "text/plain": [
       "   b  c\n",
       "2  3  9\n",
       "3  6  9"
      ]
     },
     "execution_count": 208,
     "metadata": {},
     "output_type": "execute_result"
    }
   ],
   "source": [
    "df.query('index < b < c')"
   ]
  },
  {
   "cell_type": "markdown",
   "id": "7c247cc3",
   "metadata": {
    "papermill": {
     "duration": 0.075631,
     "end_time": "2022-09-26T13:11:38.908035",
     "exception": false,
     "start_time": "2022-09-26T13:11:38.832404",
     "status": "completed"
    },
    "tags": []
   },
   "source": [
    "> > ## ✍️ Note:\n",
    "If the name of your index overlaps with a column name, the column name is given precedence. For example,"
   ]
  },
  {
   "cell_type": "code",
   "execution_count": 209,
   "id": "570a71d0",
   "metadata": {
    "execution": {
     "iopub.execute_input": "2022-09-26T13:11:39.052395Z",
     "iopub.status.busy": "2022-09-26T13:11:39.051470Z",
     "iopub.status.idle": "2022-09-26T13:11:39.063934Z",
     "shell.execute_reply": "2022-09-26T13:11:39.062946Z"
    },
    "papermill": {
     "duration": 0.086577,
     "end_time": "2022-09-26T13:11:39.065956",
     "exception": false,
     "start_time": "2022-09-26T13:11:38.979379",
     "status": "completed"
    },
    "tags": []
   },
   "outputs": [
    {
     "data": {
      "text/html": [
       "<div>\n",
       "<style scoped>\n",
       "    .dataframe tbody tr th:only-of-type {\n",
       "        vertical-align: middle;\n",
       "    }\n",
       "\n",
       "    .dataframe tbody tr th {\n",
       "        vertical-align: top;\n",
       "    }\n",
       "\n",
       "    .dataframe thead th {\n",
       "        text-align: right;\n",
       "    }\n",
       "</style>\n",
       "<table border=\"1\" class=\"dataframe\">\n",
       "  <thead>\n",
       "    <tr style=\"text-align: right;\">\n",
       "      <th></th>\n",
       "      <th>a</th>\n",
       "    </tr>\n",
       "    <tr>\n",
       "      <th>a</th>\n",
       "      <th></th>\n",
       "    </tr>\n",
       "  </thead>\n",
       "  <tbody>\n",
       "    <tr>\n",
       "      <th>0</th>\n",
       "      <td>3</td>\n",
       "    </tr>\n",
       "    <tr>\n",
       "      <th>2</th>\n",
       "      <td>3</td>\n",
       "    </tr>\n",
       "    <tr>\n",
       "      <th>4</th>\n",
       "      <td>3</td>\n",
       "    </tr>\n",
       "  </tbody>\n",
       "</table>\n",
       "</div>"
      ],
      "text/plain": [
       "   a\n",
       "a   \n",
       "0  3\n",
       "2  3\n",
       "4  3"
      ]
     },
     "execution_count": 209,
     "metadata": {},
     "output_type": "execute_result"
    }
   ],
   "source": [
    "df = pd.DataFrame({'a': np.random.randint(5, size=5)})\n",
    "df.index.name = 'a'\n",
    "df.query('a > 2')  # uses the column 'a', not the index"
   ]
  },
  {
   "cell_type": "code",
   "execution_count": 210,
   "id": "51f9f925",
   "metadata": {
    "execution": {
     "iopub.execute_input": "2022-09-26T13:11:39.212002Z",
     "iopub.status.busy": "2022-09-26T13:11:39.211655Z",
     "iopub.status.idle": "2022-09-26T13:11:39.222241Z",
     "shell.execute_reply": "2022-09-26T13:11:39.221347Z"
    },
    "papermill": {
     "duration": 0.086214,
     "end_time": "2022-09-26T13:11:39.224130",
     "exception": false,
     "start_time": "2022-09-26T13:11:39.137916",
     "status": "completed"
    },
    "tags": []
   },
   "outputs": [
    {
     "data": {
      "text/html": [
       "<div>\n",
       "<style scoped>\n",
       "    .dataframe tbody tr th:only-of-type {\n",
       "        vertical-align: middle;\n",
       "    }\n",
       "\n",
       "    .dataframe tbody tr th {\n",
       "        vertical-align: top;\n",
       "    }\n",
       "\n",
       "    .dataframe thead th {\n",
       "        text-align: right;\n",
       "    }\n",
       "</style>\n",
       "<table border=\"1\" class=\"dataframe\">\n",
       "  <thead>\n",
       "    <tr style=\"text-align: right;\">\n",
       "      <th></th>\n",
       "      <th>a</th>\n",
       "    </tr>\n",
       "    <tr>\n",
       "      <th>a</th>\n",
       "      <th></th>\n",
       "    </tr>\n",
       "  </thead>\n",
       "  <tbody>\n",
       "    <tr>\n",
       "      <th>3</th>\n",
       "      <td>2</td>\n",
       "    </tr>\n",
       "    <tr>\n",
       "      <th>4</th>\n",
       "      <td>3</td>\n",
       "    </tr>\n",
       "  </tbody>\n",
       "</table>\n",
       "</div>"
      ],
      "text/plain": [
       "   a\n",
       "a   \n",
       "3  2\n",
       "4  3"
      ]
     },
     "execution_count": 210,
     "metadata": {},
     "output_type": "execute_result"
    }
   ],
   "source": [
    "#You can still use the index in a query expression by using the special identifier ‘index’:\n",
    "\"\"\"If for some reason you have a column named index, then you can refer to the \n",
    "index as ilevel_0 as well, but at this point you should consider renaming your columns to something less ambiguous.\"\"\"\n",
    "df.query('index > 2')\n",
    "\n"
   ]
  },
  {
   "cell_type": "markdown",
   "id": "66ebc6d1",
   "metadata": {
    "papermill": {
     "duration": 0.071025,
     "end_time": "2022-09-26T13:11:39.366235",
     "exception": false,
     "start_time": "2022-09-26T13:11:39.295210",
     "status": "completed"
    },
    "tags": []
   },
   "source": [
    ">  ## ✍️ Note: \n",
    "> #### Please Refer Document mention on Pandas\n",
    "   > - https://pandas.pydata.org/docs/user_guide/indexing.html#multiindex-query-syntax"
   ]
  },
  {
   "cell_type": "markdown",
   "id": "3f0c2e4a",
   "metadata": {
    "papermill": {
     "duration": 0.071485,
     "end_time": "2022-09-26T13:11:39.510428",
     "exception": false,
     "start_time": "2022-09-26T13:11:39.438943",
     "status": "completed"
    },
    "tags": []
   },
   "source": [
    "# 3. Pandas | Panel :\n",
    "> ## ✍️ Note: \n",
    "Panel has been removed from future version of Pandas Library."
   ]
  }
 ],
 "metadata": {
  "kernelspec": {
   "display_name": "Python 3",
   "language": "python",
   "name": "python3"
  },
  "language_info": {
   "codemirror_mode": {
    "name": "ipython",
    "version": 3
   },
   "file_extension": ".py",
   "mimetype": "text/x-python",
   "name": "python",
   "nbconvert_exporter": "python",
   "pygments_lexer": "ipython3",
   "version": "3.7.12"
  },
  "papermill": {
   "default_parameters": {},
   "duration": 50.723049,
   "end_time": "2022-09-26T13:11:40.102929",
   "environment_variables": {},
   "exception": null,
   "input_path": "__notebook__.ipynb",
   "output_path": "__notebook__.ipynb",
   "parameters": {},
   "start_time": "2022-09-26T13:10:49.379880",
   "version": "2.3.4"
  }
 },
 "nbformat": 4,
 "nbformat_minor": 5
}
