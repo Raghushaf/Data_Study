{
 "cells": [
  {
   "cell_type": "code",
   "execution_count": 1,
   "id": "ebea395f",
   "metadata": {
    "_cell_guid": "b1076dfc-b9ad-4769-8c92-a6c4dae69d19",
    "_uuid": "8f2839f25d086af736a60e9eeb907d3b93b6e0e5",
    "execution": {
     "iopub.execute_input": "2022-09-16T18:43:57.930889Z",
     "iopub.status.busy": "2022-09-16T18:43:57.929941Z",
     "iopub.status.idle": "2022-09-16T18:43:57.951429Z",
     "shell.execute_reply": "2022-09-16T18:43:57.950109Z"
    },
    "papermill": {
     "duration": 0.041686,
     "end_time": "2022-09-16T18:43:57.954531",
     "exception": false,
     "start_time": "2022-09-16T18:43:57.912845",
     "status": "completed"
    },
    "tags": []
   },
   "outputs": [
    {
     "name": "stdout",
     "output_type": "stream",
     "text": [
      "/kaggle/input/hisfflsakjfkdsa/fig-1.webp\n"
     ]
    }
   ],
   "source": [
    "# This Python 3 environment comes with many helpful analytics libraries installed\n",
    "# It is defined by the kaggle/python Docker image: https://github.com/kaggle/docker-python\n",
    "# For example, here's several helpful packages to load\n",
    "\n",
    "import numpy as np # linear algebra\n",
    "import pandas as pd # data processing, CSV file I/O (e.g. pd.read_csv)\n",
    "\n",
    "# Input data files are available in the read-only \"../input/\" directory\n",
    "# For example, running this (by clicking run or pressing Shift+Enter) will list all files under the input directory\n",
    "\n",
    "import os\n",
    "for dirname, _, filenames in os.walk('/kaggle/input'):\n",
    "    for filename in filenames:\n",
    "        print(os.path.join(dirname, filename))\n",
    "\n",
    "# You can write up to 20GB to the current directory (/kaggle/working/) that gets preserved as output when you create a version using \"Save & Run All\" \n",
    "# You can also write temporary files to /kaggle/temp/, but they won't be saved outside of the current session"
   ]
  },
  {
   "cell_type": "markdown",
   "id": "90a53b17",
   "metadata": {
    "papermill": {
     "duration": 0.013099,
     "end_time": "2022-09-16T18:43:57.981729",
     "exception": false,
     "start_time": "2022-09-16T18:43:57.968630",
     "status": "completed"
    },
    "tags": []
   },
   "source": [
    "### Creating 1-D Array:"
   ]
  },
  {
   "cell_type": "code",
   "execution_count": 2,
   "id": "af1a5252",
   "metadata": {
    "execution": {
     "iopub.execute_input": "2022-09-16T18:43:58.012464Z",
     "iopub.status.busy": "2022-09-16T18:43:58.012015Z",
     "iopub.status.idle": "2022-09-16T18:43:58.019407Z",
     "shell.execute_reply": "2022-09-16T18:43:58.018452Z"
    },
    "papermill": {
     "duration": 0.024947,
     "end_time": "2022-09-16T18:43:58.021849",
     "exception": false,
     "start_time": "2022-09-16T18:43:57.996902",
     "status": "completed"
    },
    "tags": []
   },
   "outputs": [
    {
     "name": "stdout",
     "output_type": "stream",
     "text": [
      "This is 1-D array: [1 2 3 4 5]\n"
     ]
    }
   ],
   "source": [
    "arr1d=np.array([1,2,3,4,5])\n",
    "print(\"This is 1-D array:\",arr1d)"
   ]
  },
  {
   "cell_type": "markdown",
   "id": "f6aa9881",
   "metadata": {
    "papermill": {
     "duration": 0.013551,
     "end_time": "2022-09-16T18:43:58.049530",
     "exception": false,
     "start_time": "2022-09-16T18:43:58.035979",
     "status": "completed"
    },
    "tags": []
   },
   "source": [
    "### Creating 2-D Array:"
   ]
  },
  {
   "cell_type": "code",
   "execution_count": 3,
   "id": "232c56ee",
   "metadata": {
    "execution": {
     "iopub.execute_input": "2022-09-16T18:43:58.078038Z",
     "iopub.status.busy": "2022-09-16T18:43:58.077580Z",
     "iopub.status.idle": "2022-09-16T18:43:58.085391Z",
     "shell.execute_reply": "2022-09-16T18:43:58.083783Z"
    },
    "papermill": {
     "duration": 0.025359,
     "end_time": "2022-09-16T18:43:58.088262",
     "exception": false,
     "start_time": "2022-09-16T18:43:58.062903",
     "status": "completed"
    },
    "tags": []
   },
   "outputs": [
    {
     "name": "stdout",
     "output_type": "stream",
     "text": [
      "This is 2-D array:\n",
      "\n",
      " [[1 2 3 4]\n",
      " [1 2 3 4]\n",
      " [1 2 3 4]]\n"
     ]
    }
   ],
   "source": [
    "arr2d=np.array([[1,2,3,4],\n",
    "                [1,2,3,4],\n",
    "                [1,2,3,4],\n",
    "               ])\n",
    "print(\"This is 2-D array:\\n\\n\",arr2d)"
   ]
  },
  {
   "cell_type": "markdown",
   "id": "49501fef",
   "metadata": {
    "papermill": {
     "duration": 0.013168,
     "end_time": "2022-09-16T18:43:58.115655",
     "exception": false,
     "start_time": "2022-09-16T18:43:58.102487",
     "status": "completed"
    },
    "tags": []
   },
   "source": [
    "### Creating 3-D or Multi-D Array:"
   ]
  },
  {
   "cell_type": "code",
   "execution_count": 4,
   "id": "988cffef",
   "metadata": {
    "execution": {
     "iopub.execute_input": "2022-09-16T18:43:58.145734Z",
     "iopub.status.busy": "2022-09-16T18:43:58.145330Z",
     "iopub.status.idle": "2022-09-16T18:43:58.152709Z",
     "shell.execute_reply": "2022-09-16T18:43:58.151633Z"
    },
    "papermill": {
     "duration": 0.025369,
     "end_time": "2022-09-16T18:43:58.155837",
     "exception": false,
     "start_time": "2022-09-16T18:43:58.130468",
     "status": "completed"
    },
    "tags": []
   },
   "outputs": [
    {
     "name": "stdout",
     "output_type": "stream",
     "text": [
      "This is 3-D array:\n",
      "\n",
      " [[[1 2 3 4]\n",
      "  [1 2 3 4]\n",
      "  [1 2 3 4]]\n",
      "\n",
      " [[1 2 3 4]\n",
      "  [1 2 3 4]\n",
      "  [1 2 3 4]]\n",
      "\n",
      " [[1 2 3 4]\n",
      "  [1 2 3 4]\n",
      "  [1 2 3 4]]]\n"
     ]
    }
   ],
   "source": [
    "arr3d=np.array([[[1,2,3,4],\n",
    "                [1,2,3,4],\n",
    "                [1,2,3,4],\n",
    "               ],\n",
    "               [[1,2,3,4],\n",
    "                [1,2,3,4],\n",
    "                [1,2,3,4],\n",
    "               ],\n",
    "                [[1,2,3,4],\n",
    "                [1,2,3,4],\n",
    "                [1,2,3,4],\n",
    "               ]])\n",
    "print(\"This is 3-D array:\\n\\n\",arr3d)"
   ]
  },
  {
   "cell_type": "markdown",
   "id": "f017e4eb",
   "metadata": {
    "papermill": {
     "duration": 0.013398,
     "end_time": "2022-09-16T18:43:58.183218",
     "exception": false,
     "start_time": "2022-09-16T18:43:58.169820",
     "status": "completed"
    },
    "tags": []
   },
   "source": [
    "### Use of type() function:\n",
    "- It will give the type of object.\n"
   ]
  },
  {
   "cell_type": "code",
   "execution_count": 5,
   "id": "7929f9b8",
   "metadata": {
    "execution": {
     "iopub.execute_input": "2022-09-16T18:43:58.212288Z",
     "iopub.status.busy": "2022-09-16T18:43:58.211841Z",
     "iopub.status.idle": "2022-09-16T18:43:58.218242Z",
     "shell.execute_reply": "2022-09-16T18:43:58.216897Z"
    },
    "papermill": {
     "duration": 0.023795,
     "end_time": "2022-09-16T18:43:58.220555",
     "exception": false,
     "start_time": "2022-09-16T18:43:58.196760",
     "status": "completed"
    },
    "tags": []
   },
   "outputs": [
    {
     "name": "stdout",
     "output_type": "stream",
     "text": [
      "type of array 1-D array: <class 'numpy.ndarray'>\n"
     ]
    }
   ],
   "source": [
    "print(\"type of array 1-D array:\",type(arr1d))"
   ]
  },
  {
   "cell_type": "markdown",
   "id": "d32bb155",
   "metadata": {
    "papermill": {
     "duration": 0.013122,
     "end_time": "2022-09-16T18:43:58.247233",
     "exception": false,
     "start_time": "2022-09-16T18:43:58.234111",
     "status": "completed"
    },
    "tags": []
   },
   "source": [
    "### Use of ndim:\n",
    "- It will give the dimention of NumPy array."
   ]
  },
  {
   "cell_type": "code",
   "execution_count": 6,
   "id": "0be0e812",
   "metadata": {
    "execution": {
     "iopub.execute_input": "2022-09-16T18:43:58.276767Z",
     "iopub.status.busy": "2022-09-16T18:43:58.276352Z",
     "iopub.status.idle": "2022-09-16T18:43:58.282042Z",
     "shell.execute_reply": "2022-09-16T18:43:58.280834Z"
    },
    "papermill": {
     "duration": 0.023347,
     "end_time": "2022-09-16T18:43:58.284401",
     "exception": false,
     "start_time": "2022-09-16T18:43:58.261054",
     "status": "completed"
    },
    "tags": []
   },
   "outputs": [
    {
     "name": "stdout",
     "output_type": "stream",
     "text": [
      "Dimention of Array arr1d:-> 1\n",
      "Dimention of Array arr2d:-> 2\n",
      "Dimention of Array arr3d:-> 3\n"
     ]
    }
   ],
   "source": [
    "print(\"Dimention of Array arr1d:->\",arr1d.ndim)\n",
    "print(\"Dimention of Array arr2d:->\",arr2d.ndim)\n",
    "print(\"Dimention of Array arr3d:->\",arr3d.ndim)"
   ]
  },
  {
   "cell_type": "markdown",
   "id": "cf8402ac",
   "metadata": {
    "papermill": {
     "duration": 0.013658,
     "end_time": "2022-09-16T18:43:58.311660",
     "exception": false,
     "start_time": "2022-09-16T18:43:58.298002",
     "status": "completed"
    },
    "tags": []
   },
   "source": [
    "### Use of shape:\n",
    "- It will give you shape of array."
   ]
  },
  {
   "cell_type": "code",
   "execution_count": 7,
   "id": "d53b16a9",
   "metadata": {
    "execution": {
     "iopub.execute_input": "2022-09-16T18:43:58.342330Z",
     "iopub.status.busy": "2022-09-16T18:43:58.341900Z",
     "iopub.status.idle": "2022-09-16T18:43:58.348041Z",
     "shell.execute_reply": "2022-09-16T18:43:58.346831Z"
    },
    "papermill": {
     "duration": 0.025432,
     "end_time": "2022-09-16T18:43:58.351158",
     "exception": false,
     "start_time": "2022-09-16T18:43:58.325726",
     "status": "completed"
    },
    "tags": []
   },
   "outputs": [
    {
     "name": "stdout",
     "output_type": "stream",
     "text": [
      "Shape of array arr1d will be:  (5,)\n",
      "Shape of array qrr2d will be: (3, 4)\n",
      "Shape of array arr3d will be: (3, 3, 4)\n"
     ]
    }
   ],
   "source": [
    "print(\"Shape of array arr1d will be: \", arr1d.shape)\n",
    "print(\"Shape of array qrr2d will be:\", arr2d.shape)\n",
    "print(\"Shape of array arr3d will be:\", arr3d.shape)"
   ]
  },
  {
   "cell_type": "markdown",
   "id": "4b05686d",
   "metadata": {
    "papermill": {
     "duration": 0.013247,
     "end_time": "2022-09-16T18:43:58.378139",
     "exception": false,
     "start_time": "2022-09-16T18:43:58.364892",
     "status": "completed"
    },
    "tags": []
   },
   "source": [
    "*** \n",
    "### Data Types in Python\n",
    "- By default Python have these data types:\n",
    "    - strings - used to represent text data, the text is given under quote marks. e.g. \"ABCD\"\n",
    "    - integer - used to represent integer numbers. e.g. -1, -2, -3\n",
    "    - float - used to represent real numbers. e.g. 1.2, 42.42\n",
    "    - boolean - used to represent True or False.\n",
    "    - complex - used to represent complex numbers. e.g. 1.0 + 2.0j, 1.5 + 2.5j \n",
    "***"
   ]
  },
  {
   "cell_type": "markdown",
   "id": "c4b92f42",
   "metadata": {
    "papermill": {
     "duration": 0.013369,
     "end_time": "2022-09-16T18:43:58.405064",
     "exception": false,
     "start_time": "2022-09-16T18:43:58.391695",
     "status": "completed"
    },
    "tags": []
   },
   "source": [
    "***\n",
    "### Data Types in NumPy\n",
    "- NumPy has some extra data types, and refer to data types with one character, like i for integers, u for unsigned integers etc.\n",
    "\n",
    "    Below is a list of all data types in NumPy and the characters used to represent them.\n",
    "\n",
    "    - i - integer\n",
    "    - b - boolean\n",
    "    - u - unsigned integer\n",
    "    - f - float\n",
    "    - c - complex float\n",
    "    - m - timedelta\n",
    "    - M - datetime\n",
    "    - O - object\n",
    "    - S - string\n",
    "    - U - unicode string\n",
    "    - V - fixed chunk of memory for other type ( void )\n",
    "\n",
    "***\n",
    "- <H4>Use of dtype:</H4>\n",
    "    - It give what kind of data means type of data we are using."
   ]
  },
  {
   "cell_type": "code",
   "execution_count": 8,
   "id": "9e372496",
   "metadata": {
    "execution": {
     "iopub.execute_input": "2022-09-16T18:43:58.434137Z",
     "iopub.status.busy": "2022-09-16T18:43:58.433695Z",
     "iopub.status.idle": "2022-09-16T18:43:58.439727Z",
     "shell.execute_reply": "2022-09-16T18:43:58.438758Z"
    },
    "papermill": {
     "duration": 0.023703,
     "end_time": "2022-09-16T18:43:58.442364",
     "exception": false,
     "start_time": "2022-09-16T18:43:58.418661",
     "status": "completed"
    },
    "tags": []
   },
   "outputs": [
    {
     "name": "stdout",
     "output_type": "stream",
     "text": [
      "Data type of array arr1d: int64\n",
      "Data type of array arr1d: int64\n",
      "Data type of array arr1d: int64\n"
     ]
    }
   ],
   "source": [
    "print(\"Data type of array arr1d:\", arr1d.dtype)\n",
    "print(\"Data type of array arr1d:\", arr2d.dtype)\n",
    "print(\"Data type of array arr1d:\", arr3d.dtype)"
   ]
  },
  {
   "cell_type": "code",
   "execution_count": 9,
   "id": "87a19825",
   "metadata": {
    "execution": {
     "iopub.execute_input": "2022-09-16T18:43:58.471905Z",
     "iopub.status.busy": "2022-09-16T18:43:58.471422Z",
     "iopub.status.idle": "2022-09-16T18:43:58.477229Z",
     "shell.execute_reply": "2022-09-16T18:43:58.476304Z"
    },
    "papermill": {
     "duration": 0.023554,
     "end_time": "2022-09-16T18:43:58.479998",
     "exception": false,
     "start_time": "2022-09-16T18:43:58.456444",
     "status": "completed"
    },
    "tags": []
   },
   "outputs": [
    {
     "name": "stdout",
     "output_type": "stream",
     "text": [
      "Data type of array arr: <U6\n"
     ]
    }
   ],
   "source": [
    "arr = np.array(['apple', 'banana', 'cherry'])\n",
    "\n",
    "print(\"Data type of array arr:\", arr.dtype)"
   ]
  },
  {
   "cell_type": "markdown",
   "id": "1dd95730",
   "metadata": {
    "papermill": {
     "duration": 0.013362,
     "end_time": "2022-09-16T18:43:58.508138",
     "exception": false,
     "start_time": "2022-09-16T18:43:58.494776",
     "status": "completed"
    },
    "tags": []
   },
   "source": [
    "- Create an array with data type string:"
   ]
  },
  {
   "cell_type": "code",
   "execution_count": 10,
   "id": "30265ff7",
   "metadata": {
    "execution": {
     "iopub.execute_input": "2022-09-16T18:43:58.537908Z",
     "iopub.status.busy": "2022-09-16T18:43:58.537013Z",
     "iopub.status.idle": "2022-09-16T18:43:58.543771Z",
     "shell.execute_reply": "2022-09-16T18:43:58.542555Z"
    },
    "papermill": {
     "duration": 0.0246,
     "end_time": "2022-09-16T18:43:58.546392",
     "exception": false,
     "start_time": "2022-09-16T18:43:58.521792",
     "status": "completed"
    },
    "tags": []
   },
   "outputs": [
    {
     "name": "stdout",
     "output_type": "stream",
     "text": [
      "Here is array: [b'1' b'2' b'3' b'4']\n",
      "Data type of array arr: |S1\n"
     ]
    }
   ],
   "source": [
    "arr = np.array([1, 2, 3, 4], dtype='S')\n",
    "\n",
    "print(\"Here is array:\",arr)\n",
    "print(\"Data type of array arr:\", arr.dtype)\n"
   ]
  },
  {
   "cell_type": "markdown",
   "id": "edd27832",
   "metadata": {
    "papermill": {
     "duration": 0.013471,
     "end_time": "2022-09-16T18:43:58.573471",
     "exception": false,
     "start_time": "2022-09-16T18:43:58.560000",
     "status": "completed"
    },
    "tags": []
   },
   "source": [
    " ## Note: For i, u, f, S and U we can define size as well."
   ]
  },
  {
   "cell_type": "markdown",
   "id": "6fc61e35",
   "metadata": {
    "papermill": {
     "duration": 0.013343,
     "end_time": "2022-09-16T18:43:58.600730",
     "exception": false,
     "start_time": "2022-09-16T18:43:58.587387",
     "status": "completed"
    },
    "tags": []
   },
   "source": [
    "- Create an array with data type 4 bytes integer:"
   ]
  },
  {
   "cell_type": "code",
   "execution_count": 11,
   "id": "e4f3e8f6",
   "metadata": {
    "execution": {
     "iopub.execute_input": "2022-09-16T18:43:58.630849Z",
     "iopub.status.busy": "2022-09-16T18:43:58.629780Z",
     "iopub.status.idle": "2022-09-16T18:43:58.639782Z",
     "shell.execute_reply": "2022-09-16T18:43:58.637813Z"
    },
    "papermill": {
     "duration": 0.027892,
     "end_time": "2022-09-16T18:43:58.642420",
     "exception": false,
     "start_time": "2022-09-16T18:43:58.614528",
     "status": "completed"
    },
    "tags": []
   },
   "outputs": [
    {
     "name": "stdout",
     "output_type": "stream",
     "text": [
      "[1 2 3 4]\n",
      "int32\n"
     ]
    }
   ],
   "source": [
    "arr = np.array([1, 2, 3, 4], dtype='i4')\n",
    "print(arr)\n",
    "print(arr.dtype)"
   ]
  },
  {
   "cell_type": "markdown",
   "id": "4a3cddb6",
   "metadata": {
    "papermill": {
     "duration": 0.013597,
     "end_time": "2022-09-16T18:43:58.670801",
     "exception": false,
     "start_time": "2022-09-16T18:43:58.657204",
     "status": "completed"
    },
    "tags": []
   },
   "source": [
    "- There is diffrence between type of value and given type.\n",
    "- that's why error.\n",
    "\n",
    "``` python\n",
    "arr = np.array(['a', '2', '3'], dtype='i')\n",
    "\n",
    "---------------------------------------------------------------------------\n",
    "ValueError                                Traceback (most recent call last)\n",
    "Input In [35], in <cell line: 1>()\n",
    "----> 1 arr = np.array(['a', '2', '3'], dtype='i')\n",
    "\n",
    "ValueError: invalid literal for int() with base 10: 'a'\n",
    "        \n",
    "```"
   ]
  },
  {
   "cell_type": "markdown",
   "id": "3fda8349",
   "metadata": {
    "papermill": {
     "duration": 0.013542,
     "end_time": "2022-09-16T18:43:58.698306",
     "exception": false,
     "start_time": "2022-09-16T18:43:58.684764",
     "status": "completed"
    },
    "tags": []
   },
   "source": [
    "***\n",
    "#### Converting Data Type on Existing Arrays\n",
    "- The astype() function creates a copy of the array, and allows you to specify the data type as a parameter.\n",
    "\n",
    "- The data type can be specified using a string, like 'f' for float, 'i' for integer etc. or you can use the data type directly like float for float and int for integer.\n",
    "<li>\n",
    "    The argument dtype=int doesn’t refer to Python int. It translates to NumPy int64 or simply np.int.\n",
    "\n",
    "    - NumPy offers you several integer fixed-sized dtypes that differ in memory and limits:\n",
    "\n",
    "    1. np.int8: 8-bit signed integer (from -128 to 127)\n",
    "    2. np.uint8: 8-bit unsigned integer (from 0 to 255)\n",
    "    3. np.int16: 16-bit signed integer (from -32768 to 32767)\n",
    "    4. np.uint16: 16-bit unsigned integer (from 0 to 65535)\n",
    "    5. np.int32: 32-bit signed integer (from -2<sup>31</sup> to 2<sup>31</sup>-1)\n",
    "    6. np.uint32: 32-bit unsigned integer (from 0 to 2<sup>31</sup>-1)\n",
    "    7. np.int64: 64-bit signed integer (from -2<sup>63</sup> to 2<sup>63</sup>-1)\n",
    "    8. np.uint64: 64-bit unsigned integer (from 0 to 2<sup>64</sup>-1)\n",
    "</li>\n",
    "***"
   ]
  },
  {
   "cell_type": "code",
   "execution_count": 12,
   "id": "e3e00078",
   "metadata": {
    "execution": {
     "iopub.execute_input": "2022-09-16T18:43:58.728409Z",
     "iopub.status.busy": "2022-09-16T18:43:58.727272Z",
     "iopub.status.idle": "2022-09-16T18:43:58.736676Z",
     "shell.execute_reply": "2022-09-16T18:43:58.735453Z"
    },
    "papermill": {
     "duration": 0.02716,
     "end_time": "2022-09-16T18:43:58.739217",
     "exception": false,
     "start_time": "2022-09-16T18:43:58.712057",
     "status": "completed"
    },
    "tags": []
   },
   "outputs": [
    {
     "name": "stdout",
     "output_type": "stream",
     "text": [
      "\n",
      "'i' as parameter\n",
      "This is array with float as Data type: [1.1 2.1 3.1] float64\n",
      "\n",
      "This is new array with Data type int: [1 2 3] int32\n",
      "\n",
      "###################################################################\n",
      "\n",
      "'int' as parameter\n",
      "\n",
      "This is array with float as Data type: [1.1 2.1 3.1] float64\n",
      "\n",
      "This is new array with Data type int: [1 2 3] int64\n"
     ]
    }
   ],
   "source": [
    "print(\"\\n'i' as parameter\")\n",
    "\n",
    "arr = np.array([1.1, 2.1, 3.1])\n",
    "print(\"This is array with float as Data type:\",arr,arr.dtype)\n",
    "\n",
    "newarr = arr.astype('i')\n",
    "\n",
    "print(\"\\nThis is new array with Data type int:\",newarr,newarr.dtype)\n",
    "\n",
    "print('\\n###################################################################')\n",
    "\n",
    "print(\"\\n'int' as parameter\")\n",
    "arr = np.array([1.1, 2.1, 3.1])\n",
    "print(\"\\nThis is array with float as Data type:\",arr,arr.dtype)\n",
    "\n",
    "newarr = arr.astype(int)\n",
    "\n",
    "print(\"\\nThis is new array with Data type int:\",newarr,newarr.dtype)"
   ]
  },
  {
   "cell_type": "markdown",
   "id": "1b2723f8",
   "metadata": {
    "papermill": {
     "duration": 0.013722,
     "end_time": "2022-09-16T18:43:58.766950",
     "exception": false,
     "start_time": "2022-09-16T18:43:58.753228",
     "status": "completed"
    },
    "tags": []
   },
   "source": [
    "- Change data type from float to integer by using **\"i\" as parameter value:**"
   ]
  },
  {
   "cell_type": "code",
   "execution_count": 13,
   "id": "7b871ccd",
   "metadata": {
    "execution": {
     "iopub.execute_input": "2022-09-16T18:43:58.797704Z",
     "iopub.status.busy": "2022-09-16T18:43:58.796998Z",
     "iopub.status.idle": "2022-09-16T18:43:58.805343Z",
     "shell.execute_reply": "2022-09-16T18:43:58.804174Z"
    },
    "papermill": {
     "duration": 0.027288,
     "end_time": "2022-09-16T18:43:58.808759",
     "exception": false,
     "start_time": "2022-09-16T18:43:58.781471",
     "status": "completed"
    },
    "tags": []
   },
   "outputs": [
    {
     "name": "stdout",
     "output_type": "stream",
     "text": [
      "New array with int value [1 2 3]\n",
      "Old Data type: float64\n",
      "New data type: int32\n"
     ]
    }
   ],
   "source": [
    "arr = np.array([1.1, 2.1, 3.1])\n",
    "\n",
    "newarr = arr.astype('i')\n",
    "\n",
    "print(\"New array with int value\",newarr)\n",
    "print(\"Old Data type:\",arr.dtype)\n",
    "print(\"New data type:\",newarr.dtype)"
   ]
  },
  {
   "cell_type": "markdown",
   "id": "20b26548",
   "metadata": {
    "papermill": {
     "duration": 0.014186,
     "end_time": "2022-09-16T18:43:58.837590",
     "exception": false,
     "start_time": "2022-09-16T18:43:58.823404",
     "status": "completed"
    },
    "tags": []
   },
   "source": [
    "- Change data type from float to integer by using **int as parameter value:**"
   ]
  },
  {
   "cell_type": "code",
   "execution_count": 14,
   "id": "d82362cc",
   "metadata": {
    "execution": {
     "iopub.execute_input": "2022-09-16T18:43:58.867716Z",
     "iopub.status.busy": "2022-09-16T18:43:58.867253Z",
     "iopub.status.idle": "2022-09-16T18:43:58.874595Z",
     "shell.execute_reply": "2022-09-16T18:43:58.873157Z"
    },
    "papermill": {
     "duration": 0.026421,
     "end_time": "2022-09-16T18:43:58.878167",
     "exception": false,
     "start_time": "2022-09-16T18:43:58.851746",
     "status": "completed"
    },
    "tags": []
   },
   "outputs": [
    {
     "name": "stdout",
     "output_type": "stream",
     "text": [
      "New array with int value [1 2 3]\n",
      "Old Data type: float64\n",
      "New data type: int64\n"
     ]
    }
   ],
   "source": [
    "arr = np.array([1.1, 2.1, 3.1])\n",
    "\n",
    "newarr = arr.astype(int)\n",
    "\n",
    "print(\"New array with int value\",newarr)\n",
    "print(\"Old Data type:\",arr.dtype)\n",
    "print(\"New data type:\",newarr.dtype)"
   ]
  },
  {
   "cell_type": "code",
   "execution_count": 15,
   "id": "fdb0a424",
   "metadata": {
    "execution": {
     "iopub.execute_input": "2022-09-16T18:43:58.911498Z",
     "iopub.status.busy": "2022-09-16T18:43:58.910503Z",
     "iopub.status.idle": "2022-09-16T18:43:58.918072Z",
     "shell.execute_reply": "2022-09-16T18:43:58.916514Z"
    },
    "papermill": {
     "duration": 0.026991,
     "end_time": "2022-09-16T18:43:58.920889",
     "exception": false,
     "start_time": "2022-09-16T18:43:58.893898",
     "status": "completed"
    },
    "tags": []
   },
   "outputs": [
    {
     "name": "stdout",
     "output_type": "stream",
     "text": [
      "New array with int value [ True False  True]\n",
      "Old Data type: float64\n",
      "New data type: bool\n"
     ]
    }
   ],
   "source": [
    "arr = np.array([1, 0, 3.1])\n",
    "\n",
    "newarr = arr.astype(bool)\n",
    "\n",
    "print(\"New array with int value\",newarr)\n",
    "print(\"Old Data type:\",arr.dtype)\n",
    "print(\"New data type:\",newarr.dtype)"
   ]
  },
  {
   "cell_type": "code",
   "execution_count": 16,
   "id": "ced3d40c",
   "metadata": {
    "execution": {
     "iopub.execute_input": "2022-09-16T18:43:58.951528Z",
     "iopub.status.busy": "2022-09-16T18:43:58.951123Z",
     "iopub.status.idle": "2022-09-16T18:43:58.966020Z",
     "shell.execute_reply": "2022-09-16T18:43:58.964748Z"
    },
    "papermill": {
     "duration": 0.033098,
     "end_time": "2022-09-16T18:43:58.968427",
     "exception": false,
     "start_time": "2022-09-16T18:43:58.935329",
     "status": "completed"
    },
    "tags": []
   },
   "outputs": [
    {
     "name": "stdout",
     "output_type": "stream",
     "text": [
      "Data type of float value array: float64\n",
      "Data type of str value array: <U6\n",
      "Data type of mix value array: <U32\n"
     ]
    }
   ],
   "source": [
    "flaotarr=np.array([1.0,2,3,4])\n",
    "strarr=np.array([\"this\",\"is\",\"bhawan\"])\n",
    "strflaotintarr=np.array([1,2,3.5,\"bhawan\"])\n",
    "\n",
    "print(\"Data type of float value array:\",flaotarr.dtype)\n",
    "print(\"Data type of str value array:\",strarr.dtype)\n",
    "print(\"Data type of mix value array:\",strflaotintarr.dtype)"
   ]
  },
  {
   "cell_type": "markdown",
   "id": "07ac32b9",
   "metadata": {
    "papermill": {
     "duration": 0.014008,
     "end_time": "2022-09-16T18:43:58.996792",
     "exception": false,
     "start_time": "2022-09-16T18:43:58.982784",
     "status": "completed"
    },
    "tags": []
   },
   "source": [
    "### Use of Ones():\n",
    "- Python numpy.ones() function returns a new array of given shape and data type, where the element’s value is set to 1.\n",
    "\n",
    "- **Syntex:** <H3>ones(shape, dtype=None, order='C')</H3>"
   ]
  },
  {
   "cell_type": "code",
   "execution_count": 17,
   "id": "b4fcf259",
   "metadata": {
    "execution": {
     "iopub.execute_input": "2022-09-16T18:43:59.028455Z",
     "iopub.status.busy": "2022-09-16T18:43:59.027704Z",
     "iopub.status.idle": "2022-09-16T18:43:59.038504Z",
     "shell.execute_reply": "2022-09-16T18:43:59.036768Z"
    },
    "papermill": {
     "duration": 0.029905,
     "end_time": "2022-09-16T18:43:59.041342",
     "exception": false,
     "start_time": "2022-09-16T18:43:59.011437",
     "status": "completed"
    },
    "tags": []
   },
   "outputs": [
    {
     "name": "stdout",
     "output_type": "stream",
     "text": [
      "Ones array:\n",
      " [[1. 1.]\n",
      " [1. 1.]]\n",
      "\n",
      "#### Change in type of array:\n",
      "\n",
      "Ones array:\n",
      " [[1 1 1 1]\n",
      " [1 1 1 1]\n",
      " [1 1 1 1]\n",
      " [1 1 1 1]]\n",
      "\n",
      "Ones array 3-D\n",
      " [[[1 1 1]\n",
      "  [1 1 1]\n",
      "  [1 1 1]\n",
      "  [1 1 1]]\n",
      "\n",
      " [[1 1 1]\n",
      "  [1 1 1]\n",
      "  [1 1 1]\n",
      "  [1 1 1]]\n",
      "\n",
      " [[1 1 1]\n",
      "  [1 1 1]\n",
      "  [1 1 1]\n",
      "  [1 1 1]]\n",
      "\n",
      " [[1 1 1]\n",
      "  [1 1 1]\n",
      "  [1 1 1]\n",
      "  [1 1 1]]]\n",
      "\n",
      "#### MIX value type of array:\n",
      "\n",
      "Ones array:\n",
      " [[(1, 1.) (1, 1.) (1, 1.)]\n",
      " [(1, 1.) (1, 1.) (1, 1.)]\n",
      " [(1, 1.) (1, 1.) (1, 1.)]]\n"
     ]
    }
   ],
   "source": [
    "onesarr=np.ones((2,2))\n",
    "print(\"Ones array:\\n\",onesarr)\n",
    "\n",
    "############################\n",
    "\n",
    "print(\"\\n#### Change in type of array:\")\n",
    "onesarr=np.ones((4,4),dtype=int)\n",
    "print(\"\\nOnes array:\\n\",onesarr)\n",
    "\n",
    "onesarr=np.ones((4,4,3),dtype=int)\n",
    "print(\"\\nOnes array 3-D\\n\",onesarr)\n",
    "\n",
    "###########################\n",
    "\n",
    "print(\"\\n#### MIX value type of array:\")\n",
    "onesarr=np.ones((3,3),dtype=[('x',int),('y',float)])\n",
    "print(\"\\nOnes array:\\n\",onesarr)\n"
   ]
  },
  {
   "cell_type": "markdown",
   "id": "6a565766",
   "metadata": {
    "papermill": {
     "duration": 0.014061,
     "end_time": "2022-09-16T18:43:59.069884",
     "exception": false,
     "start_time": "2022-09-16T18:43:59.055823",
     "status": "completed"
    },
    "tags": []
   },
   "source": [
    "### Use of Zeros():\n",
    "- Return a new array of given shape and type, filled with zeros.\n",
    "\n",
    "- **Syntex:** <H3>numpy.zeros(shape, dtype=float, order='C', *, like=None)\n",
    "</H3>"
   ]
  },
  {
   "cell_type": "code",
   "execution_count": 18,
   "id": "42766d98",
   "metadata": {
    "execution": {
     "iopub.execute_input": "2022-09-16T18:43:59.100560Z",
     "iopub.status.busy": "2022-09-16T18:43:59.100056Z",
     "iopub.status.idle": "2022-09-16T18:43:59.113571Z",
     "shell.execute_reply": "2022-09-16T18:43:59.111793Z"
    },
    "papermill": {
     "duration": 0.032497,
     "end_time": "2022-09-16T18:43:59.116886",
     "exception": false,
     "start_time": "2022-09-16T18:43:59.084389",
     "status": "completed"
    },
    "tags": []
   },
   "outputs": [
    {
     "name": "stdout",
     "output_type": "stream",
     "text": [
      "Zeros array:\n",
      " [[0. 0. 0.]\n",
      " [0. 0. 0.]\n",
      " [0. 0. 0.]]\n",
      "\n",
      "#### Change in type of array:\n",
      "\n",
      "Zeros array:\n",
      " [[0 0 0 0]\n",
      " [0 0 0 0]\n",
      " [0 0 0 0]\n",
      " [0 0 0 0]]\n",
      "\n",
      "Zeros array 3-D\n",
      " [[[0 0 0]\n",
      "  [0 0 0]\n",
      "  [0 0 0]\n",
      "  [0 0 0]]\n",
      "\n",
      " [[0 0 0]\n",
      "  [0 0 0]\n",
      "  [0 0 0]\n",
      "  [0 0 0]]\n",
      "\n",
      " [[0 0 0]\n",
      "  [0 0 0]\n",
      "  [0 0 0]\n",
      "  [0 0 0]]\n",
      "\n",
      " [[0 0 0]\n",
      "  [0 0 0]\n",
      "  [0 0 0]\n",
      "  [0 0 0]]]\n",
      "\n",
      "#### MIX value type of array:\n",
      "\n",
      "O's array:\n",
      " [[(0, 0.) (0, 0.) (0, 0.)]\n",
      " [(0, 0.) (0, 0.) (0, 0.)]\n",
      " [(0, 0.) (0, 0.) (0, 0.)]]\n"
     ]
    }
   ],
   "source": [
    "zrerosarr=np.zeros((3,3))\n",
    "print(\"Zeros array:\\n\",zrerosarr)\n",
    "\n",
    "############################\n",
    "\n",
    "print(\"\\n#### Change in type of array:\")\n",
    "zrerosarr=np.zeros((4,4),dtype=int)\n",
    "print(\"\\nZeros array:\\n\",zrerosarr)\n",
    "\n",
    "zrerosarr=np.zeros((4,4,3),dtype=int)\n",
    "print(\"\\nZeros array 3-D\\n\",zrerosarr)\n",
    "\n",
    "###########################\n",
    "\n",
    "print(\"\\n#### MIX value type of array:\")\n",
    "zrerosarr=np.zeros((3,3),dtype=[('x',int),('y',float)])\n",
    "print(\"\\nO's array:\\n\",zrerosarr)\n"
   ]
  },
  {
   "cell_type": "markdown",
   "id": "295cf2da",
   "metadata": {
    "papermill": {
     "duration": 0.016216,
     "end_time": "2022-09-16T18:43:59.149286",
     "exception": false,
     "start_time": "2022-09-16T18:43:59.133070",
     "status": "completed"
    },
    "tags": []
   },
   "source": [
    "### Use of empty():\n",
    "-Return a new array of given shape and type, without initializing entries.\n",
    "- **Syntex:** <H3>numpy.empty(shape, dtype=float, order='C', *, like=None)\n",
    "</H3>\n"
   ]
  },
  {
   "cell_type": "code",
   "execution_count": 19,
   "id": "dc4725d4",
   "metadata": {
    "execution": {
     "iopub.execute_input": "2022-09-16T18:43:59.191604Z",
     "iopub.status.busy": "2022-09-16T18:43:59.190334Z",
     "iopub.status.idle": "2022-09-16T18:43:59.201230Z",
     "shell.execute_reply": "2022-09-16T18:43:59.200203Z"
    },
    "papermill": {
     "duration": 0.040062,
     "end_time": "2022-09-16T18:43:59.205409",
     "exception": false,
     "start_time": "2022-09-16T18:43:59.165347",
     "status": "completed"
    },
    "tags": []
   },
   "outputs": [
    {
     "name": "stdout",
     "output_type": "stream",
     "text": [
      "Empty array:\n",
      " [[0. 0. 0.]\n",
      " [0. 0. 0.]\n",
      " [0. 0. 0.]]\n",
      "\n",
      "###################################################################################\n",
      "\n",
      "#### Change in type of array:\n",
      "\n",
      " Empty array:\n",
      " [[0 0 0]\n",
      " [0 0 0]\n",
      " [0 0 0]]\n",
      "\n",
      " Empty array 3-D\n",
      " [[[94445553352224              0 10020158701575]\n",
      "  [             0    17179869187              0]\n",
      "  [             0   137438953494              0]]\n",
      "\n",
      " [[             0              0              0]\n",
      "  [             0              0              0]\n",
      "  [             0              0              0]]\n",
      "\n",
      " [[             0              0              0]\n",
      "  [             0 94445559015952 94445559016208]\n",
      "  [94445559016400              0              0]]]\n",
      "\n",
      "###################################################################################\n",
      "\n",
      "#### MIX value type of array:\n",
      "\n",
      " Empty array:\n",
      " [[( 94445559486096, 0.00000000e+000) (140536050610096, 6.94345722e-310)\n",
      "  (140536050609328, 6.94345722e-310)]\n",
      " [(140536050609840, 6.94345722e-310) (140536050609264, 6.94345722e-310)\n",
      "  (140536050609584, 6.94345722e-310)]\n",
      " [(140536050608368, 6.94345722e-310) (140536050608752, 6.94345722e-310)\n",
      "  (140536050608432, 6.94345722e-310)]]\n"
     ]
    }
   ],
   "source": [
    "emptyarr=np.empty((3,3))\n",
    "print(\"Empty array:\\n\",emptyarr)\n",
    "\n",
    "print(\"\\n###################################################################################\")\n",
    "\n",
    "print(\"\\n#### Change in type of array:\")\n",
    "emptyarr=np.empty((3,3),dtype=int)\n",
    "print(\"\\n Empty array:\\n\", emptyarr)\n",
    "\n",
    "emptyarr=np.empty((3,3,3),dtype=int)\n",
    "print(\"\\n Empty array 3-D\\n\", emptyarr)\n",
    "\n",
    "print(\"\\n###################################################################################\")\n",
    "\n",
    "print(\"\\n#### MIX value type of array:\")\n",
    "emptyarr=np.empty((3,3),dtype=[('x',int),('y',float)])\n",
    "print(\"\\n Empty array:\\n\",emptyarr)\n"
   ]
  },
  {
   "cell_type": "markdown",
   "id": "831a0094",
   "metadata": {
    "papermill": {
     "duration": 0.015701,
     "end_time": "2022-09-16T18:43:59.241988",
     "exception": false,
     "start_time": "2022-09-16T18:43:59.226287",
     "status": "completed"
    },
    "tags": []
   },
   "source": [
    "### Use of empty_like():\n",
    "- Return a new array with the same shape and type as a given array.\n",
    "- **Syntex:** <H3>numpy.empty_like(prototype, dtype=None, order='K', subok=True, shape=None)\n",
    "</H3>\n"
   ]
  },
  {
   "cell_type": "code",
   "execution_count": 20,
   "id": "0abec2bd",
   "metadata": {
    "execution": {
     "iopub.execute_input": "2022-09-16T18:43:59.273246Z",
     "iopub.status.busy": "2022-09-16T18:43:59.272774Z",
     "iopub.status.idle": "2022-09-16T18:43:59.285672Z",
     "shell.execute_reply": "2022-09-16T18:43:59.283924Z"
    },
    "papermill": {
     "duration": 0.031271,
     "end_time": "2022-09-16T18:43:59.288054",
     "exception": false,
     "start_time": "2022-09-16T18:43:59.256783",
     "status": "completed"
    },
    "tags": []
   },
   "outputs": [
    {
     "name": "stdout",
     "output_type": "stream",
     "text": [
      "Empty array:\n",
      " [[1 2 3 4]\n",
      " [1 2 3 4]\n",
      " [1 2 3 4]]\n",
      "\n",
      " Type of empty_like: int64\n",
      "\n",
      "###################################################################################\n",
      "\n",
      "#### Change in type of array:\n",
      "\n",
      " Empty array:\n",
      " [[4.66623062e-310 0.00000000e+000 0.00000000e+000 0.00000000e+000]\n",
      " [6.94338243e-310 4.79214976e-037 1.53181386e-047 2.42138216e-052]\n",
      " [7.25336736e+169 4.18221599e-062 8.30687745e-067 5.68614709e-062]]\n",
      "\n",
      "###################################################################################\n",
      "\n",
      "#### MIX value type of array:\n",
      "\n",
      " Empty array:\n",
      " [[(4596373779694328218, 0.2 ) (4603579539098121011, 1.  )\n",
      "  (                  0, 0.6 ) (4607182418800017408, 1.  )]\n",
      " [(                  0, 0.8 ) (4600877379321698714, 1.  )\n",
      "  (4607182418800017408, 1.  ) (4603579539098121011, 1.  )]\n",
      " [(4602678819172646912, 0.36) (4599616371426034975, 1.  )\n",
      "  (4607182418800017408, 1.  ) (4607182418800017408, 1.  )]]\n",
      "\n",
      "###################################################################################\n",
      "\n",
      "#### Change in Subok and Shape:\n",
      "\n",
      " Empty array:\n",
      " [[0.2  1.   0.6 ]\n",
      " [1.   0.8  1.  ]\n",
      " [1.   1.   0.36]\n",
      " [1.   1.   1.  ]]\n"
     ]
    }
   ],
   "source": [
    "arr2d=np.array([[1,2,3,4],\n",
    "                [1,2,3,4],\n",
    "                [1,2,3,4],\n",
    "               ])\n",
    "\n",
    "emptyarr_like=np.empty_like(arr2d)\n",
    "print(\"Empty array:\\n\",emptyarr_like)\n",
    "\n",
    "print(\"\\n Type of empty_like:\",emptyarr_like.dtype)\n",
    "\n",
    "print(\"\\n###################################################################################\")\n",
    "\n",
    "print(\"\\n#### Change in type of array:\")\n",
    "emptyarr_like=np.empty_like(arr2d,dtype=float)\n",
    "print(\"\\n Empty array:\\n\", emptyarr_like)\n",
    "\n",
    "print(\"\\n###################################################################################\")\n",
    "\n",
    "print(\"\\n#### MIX value type of array:\")\n",
    "emptyarr_like=np.empty_like(arr2d,dtype=[(\"x\",int),(\"y\",float)])\n",
    "print(\"\\n Empty array:\\n\",emptyarr_like)\n",
    "\n",
    "print(\"\\n###################################################################################\")\n",
    "\n",
    "print(\"\\n#### Change in Subok and Shape:\")\n",
    "\n",
    "emptyarr_like=np.empty_like(arr2d,dtype=float,subok=False,shape=(4,3))\n",
    "print(\"\\n Empty array:\\n\", emptyarr_like)"
   ]
  },
  {
   "cell_type": "markdown",
   "id": "e22aacf3",
   "metadata": {
    "papermill": {
     "duration": 0.014385,
     "end_time": "2022-09-16T18:43:59.317315",
     "exception": false,
     "start_time": "2022-09-16T18:43:59.302930",
     "status": "completed"
    },
    "tags": []
   },
   "source": [
    "### Use of full():\n",
    "- Return a new array of given shape and type, filled with fill_value.\n",
    "- **Syntex:** <H3>numpy.full(shape, fill_value, dtype=None, order='C', *, like=None)</H3>"
   ]
  },
  {
   "cell_type": "code",
   "execution_count": 21,
   "id": "28e91c62",
   "metadata": {
    "execution": {
     "iopub.execute_input": "2022-09-16T18:43:59.348724Z",
     "iopub.status.busy": "2022-09-16T18:43:59.348287Z",
     "iopub.status.idle": "2022-09-16T18:43:59.358228Z",
     "shell.execute_reply": "2022-09-16T18:43:59.356946Z"
    },
    "papermill": {
     "duration": 0.030447,
     "end_time": "2022-09-16T18:43:59.362483",
     "exception": false,
     "start_time": "2022-09-16T18:43:59.332036",
     "status": "completed"
    },
    "tags": []
   },
   "outputs": [
    {
     "name": "stdout",
     "output_type": "stream",
     "text": [
      "Empty array:\n",
      " [[4 4 4]\n",
      " [4 4 4]\n",
      " [4 4 4]]\n",
      "\n",
      "###################################################################################\n",
      "\n",
      "#### Change in type of array:\n",
      "\n",
      " Empty array:\n",
      " [[4 4 4]\n",
      " [4 4 4]\n",
      " [4 4 4]]\n",
      "\n",
      " Empty array 3-D\n",
      " [[[4 4 4]\n",
      "  [4 4 4]\n",
      "  [4 4 4]]\n",
      "\n",
      " [[4 4 4]\n",
      "  [4 4 4]\n",
      "  [4 4 4]]\n",
      "\n",
      " [[4 4 4]\n",
      "  [4 4 4]\n",
      "  [4 4 4]]]\n",
      "\n",
      "###################################################################################\n",
      "\n",
      "#### MIX value type of array:\n",
      "\n",
      " Empty array:\n",
      " [[(4, 4.) (4, 4.) (4, 4.)]\n",
      " [(4, 4.) (4, 4.) (4, 4.)]\n",
      " [(4, 4.) (4, 4.) (4, 4.)]]\n"
     ]
    }
   ],
   "source": [
    "fullarr=np.full((3,3),4)\n",
    "print(\"Empty array:\\n\",fullarr)\n",
    "\n",
    "print(\"\\n###################################################################################\")\n",
    "\n",
    "print(\"\\n#### Change in type of array:\")\n",
    "fullarr=np.full((3,3),4,dtype=int)\n",
    "print(\"\\n Empty array:\\n\", fullarr)\n",
    "\n",
    "fullarr=np.full((3,3,3),4,dtype=int)\n",
    "print(\"\\n Empty array 3-D\\n\", fullarr)\n",
    "\n",
    "print(\"\\n###################################################################################\")\n",
    "\n",
    "print(\"\\n#### MIX value type of array:\")\n",
    "fullarr=np.full((3,3),4,dtype=[('x',int),('y',float)])\n",
    "print(\"\\n Empty array:\\n\",fullarr)\n"
   ]
  },
  {
   "cell_type": "markdown",
   "id": "76565646",
   "metadata": {
    "papermill": {
     "duration": 0.014636,
     "end_time": "2022-09-16T18:43:59.392206",
     "exception": false,
     "start_time": "2022-09-16T18:43:59.377570",
     "status": "completed"
    },
    "tags": []
   },
   "source": [
    "### Example of 'order' parameter in all of above practise:\n",
    "\n",
    "- Whether to store multi-dimensional data in row-major (C-style) or column-major (Fortran-style) order in memory."
   ]
  },
  {
   "cell_type": "code",
   "execution_count": 22,
   "id": "9defb3aa",
   "metadata": {
    "execution": {
     "iopub.execute_input": "2022-09-16T18:43:59.424431Z",
     "iopub.status.busy": "2022-09-16T18:43:59.423977Z",
     "iopub.status.idle": "2022-09-16T18:43:59.432023Z",
     "shell.execute_reply": "2022-09-16T18:43:59.430682Z"
    },
    "papermill": {
     "duration": 0.028322,
     "end_time": "2022-09-16T18:43:59.435573",
     "exception": false,
     "start_time": "2022-09-16T18:43:59.407251",
     "status": "completed"
    },
    "tags": []
   },
   "outputs": [
    {
     "name": "stdout",
     "output_type": "stream",
     "text": [
      "Example of order:\n",
      "[[0 1 2]\n",
      " [3 4 5]\n",
      " [6 7 8]] It give's 'True' if fortran:- False\n",
      "[[0 3 6]\n",
      " [1 4 7]\n",
      " [2 5 8]] It give's 'True' if fortran:- True\n"
     ]
    }
   ],
   "source": [
    "print(\"Example of order:\")\n",
    "x=np.reshape(np.arange(9),newshape=(3,3))\n",
    "print(x,\"It give's 'True' if fortran:-\",np.isfortran(x))\n",
    "y=np.reshape(np.arange(9),newshape=(3,3),order='F')\n",
    "print(y,\"It give's 'True' if fortran:-\",np.isfortran(y))"
   ]
  },
  {
   "cell_type": "code",
   "execution_count": 23,
   "id": "baba1aee",
   "metadata": {
    "execution": {
     "iopub.execute_input": "2022-09-16T18:43:59.468523Z",
     "iopub.status.busy": "2022-09-16T18:43:59.468061Z",
     "iopub.status.idle": "2022-09-16T18:43:59.475313Z",
     "shell.execute_reply": "2022-09-16T18:43:59.474267Z"
    },
    "papermill": {
     "duration": 0.027039,
     "end_time": "2022-09-16T18:43:59.478794",
     "exception": false,
     "start_time": "2022-09-16T18:43:59.451755",
     "status": "completed"
    },
    "tags": []
   },
   "outputs": [
    {
     "name": "stdout",
     "output_type": "stream",
     "text": [
      "[[1 2 3]\n",
      " [4 5 6]] False\n",
      "\n",
      " [[1 4]\n",
      " [2 5]\n",
      " [3 6]] True\n"
     ]
    }
   ],
   "source": [
    "a = np.array([[1, 2, 3], [4, 5, 6]], order='C')\n",
    "print(a,np.isfortran(a))\n",
    "\n",
    "b = a.T\n",
    "print(\"\\n\",b,np.isfortran(b))"
   ]
  },
  {
   "cell_type": "markdown",
   "id": "21ec7c58",
   "metadata": {
    "papermill": {
     "duration": 0.014788,
     "end_time": "2022-09-16T18:43:59.510130",
     "exception": false,
     "start_time": "2022-09-16T18:43:59.495342",
     "status": "completed"
    },
    "tags": []
   },
   "source": [
    "### Use of arrange():\n",
    "- Return evenly spaced values within a given interval.\n",
    "- **Syntex:** <H3>numpy.arange([start, ]stop, [step, ]dtype=None, *, like=None)</H3>\n",
    "\n",
    "arange can be called with a varying number of positional arguments:\n",
    "\n",
    "- **arange(stop):** Values are generated within the half-open interval **[0, stop)** (in other words, the interval including start but excluding stop).\n",
    "\n",
    "- **arange(start, stop):** Values are generated within the half-open interval .**[start, stop).**\n",
    "\n",
    "- **arange(start, stop, step)** Values are generated within the half-open interval **[start, stop)**, with spacing between values given by step.\n",
    "\n",
    "For integer arguments the function is roughly equivalent to the Python built-in range, but returns an ndarray rather than a range instance.\n",
    "\n",
    "- When using a non-integer step, such as 0.1, it is often better to use numpy.linspace."
   ]
  },
  {
   "cell_type": "code",
   "execution_count": 24,
   "id": "48090bdb",
   "metadata": {
    "execution": {
     "iopub.execute_input": "2022-09-16T18:43:59.542468Z",
     "iopub.status.busy": "2022-09-16T18:43:59.541761Z",
     "iopub.status.idle": "2022-09-16T18:43:59.547740Z",
     "shell.execute_reply": "2022-09-16T18:43:59.546574Z"
    },
    "papermill": {
     "duration": 0.025383,
     "end_time": "2022-09-16T18:43:59.550517",
     "exception": false,
     "start_time": "2022-09-16T18:43:59.525134",
     "status": "completed"
    },
    "tags": []
   },
   "outputs": [
    {
     "name": "stdout",
     "output_type": "stream",
     "text": [
      "Array with evenly speced no. [0 1 2 3 4 5 6 7 8]\n"
     ]
    }
   ],
   "source": [
    "Arange=np.arange(9)\n",
    "print(\"Array with evenly speced no.\",Arange)"
   ]
  },
  {
   "cell_type": "markdown",
   "id": "22c8a5b6",
   "metadata": {
    "papermill": {
     "duration": 0.01463,
     "end_time": "2022-09-16T18:43:59.580156",
     "exception": false,
     "start_time": "2022-09-16T18:43:59.565526",
     "status": "completed"
    },
    "tags": []
   },
   "source": [
    "- giving start,stop and step value\n",
    "![](https://files.realpython.com/media/fig-1.1d8bc9379e87.png)"
   ]
  },
  {
   "cell_type": "code",
   "execution_count": 25,
   "id": "4d7442a8",
   "metadata": {
    "execution": {
     "iopub.execute_input": "2022-09-16T18:43:59.611830Z",
     "iopub.status.busy": "2022-09-16T18:43:59.611399Z",
     "iopub.status.idle": "2022-09-16T18:43:59.620166Z",
     "shell.execute_reply": "2022-09-16T18:43:59.618952Z"
    },
    "papermill": {
     "duration": 0.027567,
     "end_time": "2022-09-16T18:43:59.622579",
     "exception": false,
     "start_time": "2022-09-16T18:43:59.595012",
     "status": "completed"
    },
    "tags": []
   },
   "outputs": [
    {
     "name": "stdout",
     "output_type": "stream",
     "text": [
      "Array with step value 3(difference is 3): [1 4 7]\n",
      "[1 4 7]\n",
      "[-9 -8 -7 -6 -5 -4 -3 -2]\n",
      "[-9 -7 -5 -3 -1]\n",
      "[9 8 7 6 5 4 3 2]\n",
      "[] Length of array is: 0\n",
      "[]\n"
     ]
    }
   ],
   "source": [
    "Arrange=np.arange(start=1, stop=10, step=3)\n",
    "print(\"Array with step value 3(difference is 3):\",Arrange)\n",
    "\n",
    "Arrange=np.arange(1,10,3)\n",
    "print(Arrange)\n",
    "\n",
    "Arrange=np.arange(-9,-1,1)\n",
    "print(Arrange)\n",
    "\n",
    "Arrange=np.arange(-9,1,2)\n",
    "print(Arrange)\n",
    "\n",
    "Arrange=np.arange(9,1,-1)\n",
    "print(Arrange)\n",
    "\n",
    "##### IT WONT WORK WHEN WE USE DIFFRENT WAY LIKE (Give Empty array)\n",
    "Arrange=np.arange(19,1)\n",
    "print(Arrange,\"Length of array is:\",len(Arrange))\n",
    "\n",
    "Arrange=np.arange(1,9,-2)\n",
    "print(Arrange)\n"
   ]
  },
  {
   "cell_type": "code",
   "execution_count": 26,
   "id": "3d87e299",
   "metadata": {
    "execution": {
     "iopub.execute_input": "2022-09-16T18:43:59.656209Z",
     "iopub.status.busy": "2022-09-16T18:43:59.655738Z",
     "iopub.status.idle": "2022-09-16T18:43:59.662608Z",
     "shell.execute_reply": "2022-09-16T18:43:59.661277Z"
    },
    "papermill": {
     "duration": 0.026061,
     "end_time": "2022-09-16T18:43:59.665220",
     "exception": false,
     "start_time": "2022-09-16T18:43:59.639159",
     "status": "completed"
    },
    "tags": []
   },
   "outputs": [
    {
     "name": "stdout",
     "output_type": "stream",
     "text": [
      "Array with step value 3(difference is 3) & data type as float: [1. 4. 7.]\n"
     ]
    }
   ],
   "source": [
    "Arrange=np.arange(start=1, stop=10, step=3,dtype=float)\n",
    "print(\"Array with step value 3(difference is 3) & data type as float:\",Arrange)"
   ]
  },
  {
   "cell_type": "code",
   "execution_count": 27,
   "id": "52e0b93c",
   "metadata": {
    "execution": {
     "iopub.execute_input": "2022-09-16T18:43:59.697455Z",
     "iopub.status.busy": "2022-09-16T18:43:59.696986Z",
     "iopub.status.idle": "2022-09-16T18:43:59.702963Z",
     "shell.execute_reply": "2022-09-16T18:43:59.701828Z"
    },
    "papermill": {
     "duration": 0.025407,
     "end_time": "2022-09-16T18:43:59.705841",
     "exception": false,
     "start_time": "2022-09-16T18:43:59.680434",
     "status": "completed"
    },
    "tags": []
   },
   "outputs": [
    {
     "name": "stdout",
     "output_type": "stream",
     "text": [
      "[ 0  1  2  3  4  5  6  7  8  9 10 11 12 13 14 15 16 17 18 19 20 21 22 23]\n"
     ]
    }
   ],
   "source": [
    "Arrange=np.arange(stop=24)\n",
    "print(Arrange)"
   ]
  },
  {
   "cell_type": "markdown",
   "id": "99eb7b01",
   "metadata": {
    "papermill": {
     "duration": 0.014867,
     "end_time": "2022-09-16T18:43:59.736801",
     "exception": false,
     "start_time": "2022-09-16T18:43:59.721934",
     "status": "completed"
    },
    "tags": []
   },
   "source": [
    "***\n",
    "### Use of numpy.ndarray.itemsize\n",
    "- Length of one array element in bytes.\n",
    "- **Syntex:** <H4>ndarray.itemsize</H4>\n",
    "\n",
    "***"
   ]
  },
  {
   "cell_type": "code",
   "execution_count": 28,
   "id": "a5d9b9d4",
   "metadata": {
    "execution": {
     "iopub.execute_input": "2022-09-16T18:43:59.769706Z",
     "iopub.status.busy": "2022-09-16T18:43:59.769287Z",
     "iopub.status.idle": "2022-09-16T18:43:59.774788Z",
     "shell.execute_reply": "2022-09-16T18:43:59.773907Z"
    },
    "papermill": {
     "duration": 0.025366,
     "end_time": "2022-09-16T18:43:59.777585",
     "exception": false,
     "start_time": "2022-09-16T18:43:59.752219",
     "status": "completed"
    },
    "tags": []
   },
   "outputs": [
    {
     "name": "stdout",
     "output_type": "stream",
     "text": [
      "int64\n",
      "8\n"
     ]
    }
   ],
   "source": [
    "print(Arrange.dtype)\n",
    "print(Arrange.itemsize ) # In bytes"
   ]
  },
  {
   "cell_type": "markdown",
   "id": "8224b2e8",
   "metadata": {
    "papermill": {
     "duration": 0.015177,
     "end_time": "2022-09-16T18:43:59.809767",
     "exception": false,
     "start_time": "2022-09-16T18:43:59.794590",
     "status": "completed"
    },
    "tags": []
   },
   "source": [
    "### Use of np.linspace():\n",
    "- Return evenly spaced numbers over a specified interval.\n",
    "\n",
    "- Returns num evenly spaced samples, calculated over the interval [start, stop].\n",
    "\n",
    "- The endpoint of the interval can optionally be excluded.\n",
    "- **Syntex:** <H4>numpy.linspace(start, stop, num=50, endpoint=True, retstep=False, dtype=None, axis=0)[source]</H4>"
   ]
  },
  {
   "cell_type": "code",
   "execution_count": 29,
   "id": "7ada8922",
   "metadata": {
    "execution": {
     "iopub.execute_input": "2022-09-16T18:43:59.842638Z",
     "iopub.status.busy": "2022-09-16T18:43:59.842179Z",
     "iopub.status.idle": "2022-09-16T18:43:59.848924Z",
     "shell.execute_reply": "2022-09-16T18:43:59.847879Z"
    },
    "papermill": {
     "duration": 0.026593,
     "end_time": "2022-09-16T18:43:59.851827",
     "exception": false,
     "start_time": "2022-09-16T18:43:59.825234",
     "status": "completed"
    },
    "tags": []
   },
   "outputs": [
    {
     "name": "stdout",
     "output_type": "stream",
     "text": [
      "[ 1.          1.18367347  1.36734694  1.55102041  1.73469388  1.91836735\n",
      "  2.10204082  2.28571429  2.46938776  2.65306122  2.83673469  3.02040816\n",
      "  3.20408163  3.3877551   3.57142857  3.75510204  3.93877551  4.12244898\n",
      "  4.30612245  4.48979592  4.67346939  4.85714286  5.04081633  5.2244898\n",
      "  5.40816327  5.59183673  5.7755102   5.95918367  6.14285714  6.32653061\n",
      "  6.51020408  6.69387755  6.87755102  7.06122449  7.24489796  7.42857143\n",
      "  7.6122449   7.79591837  7.97959184  8.16326531  8.34693878  8.53061224\n",
      "  8.71428571  8.89795918  9.08163265  9.26530612  9.44897959  9.63265306\n",
      "  9.81632653 10.        ]\n"
     ]
    }
   ],
   "source": [
    "linspace=np.linspace(1,10) #default is 50 that's why 50 no.\n",
    "print(linspace)"
   ]
  },
  {
   "cell_type": "code",
   "execution_count": 30,
   "id": "8248af14",
   "metadata": {
    "execution": {
     "iopub.execute_input": "2022-09-16T18:43:59.886493Z",
     "iopub.status.busy": "2022-09-16T18:43:59.885212Z",
     "iopub.status.idle": "2022-09-16T18:43:59.892396Z",
     "shell.execute_reply": "2022-09-16T18:43:59.890703Z"
    },
    "papermill": {
     "duration": 0.027049,
     "end_time": "2022-09-16T18:43:59.895320",
     "exception": false,
     "start_time": "2022-09-16T18:43:59.868271",
     "status": "completed"
    },
    "tags": []
   },
   "outputs": [
    {
     "name": "stdout",
     "output_type": "stream",
     "text": [
      "[ 1.   1.9  2.8  3.7  4.6  5.5  6.4  7.3  8.2  9.1 10. ]\n"
     ]
    }
   ],
   "source": [
    "linspace=np.linspace(1,10,11) #evenly spaced no. total 11.\n",
    "print(linspace)"
   ]
  },
  {
   "cell_type": "code",
   "execution_count": 31,
   "id": "d665c200",
   "metadata": {
    "execution": {
     "iopub.execute_input": "2022-09-16T18:43:59.929754Z",
     "iopub.status.busy": "2022-09-16T18:43:59.929319Z",
     "iopub.status.idle": "2022-09-16T18:43:59.936546Z",
     "shell.execute_reply": "2022-09-16T18:43:59.935214Z"
    },
    "papermill": {
     "duration": 0.027228,
     "end_time": "2022-09-16T18:43:59.939198",
     "exception": false,
     "start_time": "2022-09-16T18:43:59.911970",
     "status": "completed"
    },
    "tags": []
   },
   "outputs": [
    {
     "name": "stdout",
     "output_type": "stream",
     "text": [
      "[1.         1.81818182 2.63636364 3.45454545 4.27272727 5.09090909\n",
      " 5.90909091 6.72727273 7.54545455 8.36363636 9.18181818]\n"
     ]
    }
   ],
   "source": [
    "linspace=np.linspace(1,10,11,endpoint=False) #Did not include last 10 number.\n",
    "print(linspace)"
   ]
  },
  {
   "cell_type": "code",
   "execution_count": 32,
   "id": "41428d92",
   "metadata": {
    "execution": {
     "iopub.execute_input": "2022-09-16T18:43:59.972794Z",
     "iopub.status.busy": "2022-09-16T18:43:59.972379Z",
     "iopub.status.idle": "2022-09-16T18:43:59.982843Z",
     "shell.execute_reply": "2022-09-16T18:43:59.981354Z"
    },
    "papermill": {
     "duration": 0.030354,
     "end_time": "2022-09-16T18:43:59.985642",
     "exception": false,
     "start_time": "2022-09-16T18:43:59.955288",
     "status": "completed"
    },
    "tags": []
   },
   "outputs": [
    {
     "name": "stdout",
     "output_type": "stream",
     "text": [
      "[ 1.   2.8  4.6  6.4  8.2 10. ]\n",
      "Give the step also:\n",
      "(array([ 1. ,  2.8,  4.6,  6.4,  8.2, 10. ]), 1.8)\n",
      "(array([1. , 2.5, 4. , 5.5, 7. , 8.5]), 1.5)\n",
      "(array([ 1,  2,  4,  6,  8, 10]), 1.8)\n",
      "(array([ 1,  2,  4,  6,  8, 10]), 1.8)\n"
     ]
    }
   ],
   "source": [
    "linspace=np.linspace(1,10,6) #evenly spaced no. total 11.\n",
    "print(linspace)\n",
    "\n",
    "print(\"Give the step also:\")\n",
    "linspace=np.linspace(1,10,6,retstep=True) #Default is False\n",
    "print(linspace)\n",
    "\n",
    "linspace=np.linspace(1,10,6,endpoint=False,retstep=True) #with endpoint\n",
    "print(linspace)\n",
    "\n",
    "linspace=np.linspace(1,10,6,retstep=True,dtype=int) #with data type\n",
    "print(linspace)\n",
    "\n",
    "linspace=np.linspace(1,10,6,retstep=True,dtype=int,axis=0) #with data type\n",
    "print(linspace)"
   ]
  },
  {
   "cell_type": "code",
   "execution_count": 33,
   "id": "69042fb6",
   "metadata": {
    "execution": {
     "iopub.execute_input": "2022-09-16T18:44:00.019777Z",
     "iopub.status.busy": "2022-09-16T18:44:00.019378Z",
     "iopub.status.idle": "2022-09-16T18:44:00.026071Z",
     "shell.execute_reply": "2022-09-16T18:44:00.024820Z"
    },
    "papermill": {
     "duration": 0.026449,
     "end_time": "2022-09-16T18:44:00.028626",
     "exception": false,
     "start_time": "2022-09-16T18:44:00.002177",
     "status": "completed"
    },
    "tags": []
   },
   "outputs": [
    {
     "name": "stdout",
     "output_type": "stream",
     "text": [
      "[ 1  2  4  6  8 10]\n",
      "1.8\n"
     ]
    }
   ],
   "source": [
    "linspace,step=np.linspace(1,10,6,retstep=True,dtype=int) #we store step differently\n",
    "print(linspace)\n",
    "print(step)"
   ]
  },
  {
   "cell_type": "markdown",
   "id": "fb048e19",
   "metadata": {
    "papermill": {
     "duration": 0.015392,
     "end_time": "2022-09-16T18:44:00.059691",
     "exception": false,
     "start_time": "2022-09-16T18:44:00.044299",
     "status": "completed"
    },
    "tags": []
   },
   "source": [
    "### Nonscalar Values for Higher-Dimensional Arrays\n",
    "\n",
    "- Axis: This parameter is used only with nonscalar start and stop values. It determines the axis along which the results are stored."
   ]
  },
  {
   "cell_type": "code",
   "execution_count": 34,
   "id": "7b44abd9",
   "metadata": {
    "execution": {
     "iopub.execute_input": "2022-09-16T18:44:00.093658Z",
     "iopub.status.busy": "2022-09-16T18:44:00.092560Z",
     "iopub.status.idle": "2022-09-16T18:44:00.102800Z",
     "shell.execute_reply": "2022-09-16T18:44:00.101448Z"
    },
    "papermill": {
     "duration": 0.029878,
     "end_time": "2022-09-16T18:44:00.105278",
     "exception": false,
     "start_time": "2022-09-16T18:44:00.075400",
     "status": "completed"
    },
    "tags": []
   },
   "outputs": [
    {
     "name": "stdout",
     "output_type": "stream",
     "text": [
      "[[  2.    5.    9. ]\n",
      " [ 21.6  30.   39.2]\n",
      " [ 41.2  55.   69.4]\n",
      " [ 60.8  80.   99.6]\n",
      " [ 80.4 105.  129.8]\n",
      " [100.  130.  160. ]]\n",
      "\n",
      "Shepe of this array: (6, 3)\n",
      "\n",
      " Element of array:(at postion:0) [2. 5. 9.]\n",
      "\n",
      " Element of array:(at postion:1) [21.6 30.  39.2]\n",
      "\n",
      " Element of array:(at postion:2) [41.2 55.  69.4]\n",
      "\n",
      " Element of array:(at postion:0,1) 5.0\n",
      "\n",
      " Element of array:(at postion:1,1) 30.0\n",
      "\n",
      " Element of array:(at postion:2,2) 69.4\n"
     ]
    }
   ],
   "source": [
    "output = np.linspace(start=[2, 5, 9], stop=[100, 130, 160], num=6)\n",
    "print(output)\n",
    "\n",
    "print(\"\\nShepe of this array:\",output.shape)\n",
    "\n",
    "print(\"\\n Element of array:(at postion:0)\",output[0])\n",
    "print(\"\\n Element of array:(at postion:1)\",output[1])\n",
    "print(\"\\n Element of array:(at postion:2)\",output[2])\n",
    "\n",
    "print(\"\\n Element of array:(at postion:0,1)\",output[0][1])\n",
    "print(\"\\n Element of array:(at postion:1,1)\",output[1][1])\n",
    "print(\"\\n Element of array:(at postion:2,2)\",output[2][2])"
   ]
  },
  {
   "cell_type": "code",
   "execution_count": 35,
   "id": "c6c6326c",
   "metadata": {
    "execution": {
     "iopub.execute_input": "2022-09-16T18:44:00.139535Z",
     "iopub.status.busy": "2022-09-16T18:44:00.138463Z",
     "iopub.status.idle": "2022-09-16T18:44:00.148812Z",
     "shell.execute_reply": "2022-09-16T18:44:00.147021Z"
    },
    "papermill": {
     "duration": 0.030475,
     "end_time": "2022-09-16T18:44:00.151941",
     "exception": false,
     "start_time": "2022-09-16T18:44:00.121466",
     "status": "completed"
    },
    "tags": []
   },
   "outputs": [
    {
     "name": "stdout",
     "output_type": "stream",
     "text": [
      "[[  2.   21.6  41.2  60.8  80.4 100. ]\n",
      " [  5.   30.   55.   80.  105.  130. ]\n",
      " [  9.   39.2  69.4  99.6 129.8 160. ]]\n",
      "\n",
      "Shepe of this array: (3, 6)\n",
      "\n",
      " Element of array:(at postion:0) [  2.   21.6  41.2  60.8  80.4 100. ]\n",
      "\n",
      " Element of array:(at postion:1) [  5.  30.  55.  80. 105. 130.]\n",
      "\n",
      " Element of array:(at postion:2) [  9.   39.2  69.4  99.6 129.8 160. ]\n",
      "\n",
      " Element of array:(at postion:0,1) 21.6\n",
      "\n",
      " Element of array:(at postion:1,1) 30.0\n",
      "\n",
      " Element of array:(at postion:2,2) 69.4\n"
     ]
    }
   ],
   "source": [
    "output = np.linspace(start=[2, 5, 9],stop=[100, 130, 160],num=6,axis=1) #default axis is 0\n",
    "print(output)\n",
    "\n",
    "print(\"\\nShepe of this array:\",output.shape)\n",
    "\n",
    "print(\"\\n Element of array:(at postion:0)\",output[0])\n",
    "print(\"\\n Element of array:(at postion:1)\",output[1])\n",
    "print(\"\\n Element of array:(at postion:2)\",output[2])\n",
    "\n",
    "print(\"\\n Element of array:(at postion:0,1)\",output[0][1])\n",
    "print(\"\\n Element of array:(at postion:1,1)\",output[1][1])\n",
    "print(\"\\n Element of array:(at postion:2,2)\",output[2][2])"
   ]
  },
  {
   "cell_type": "markdown",
   "id": "c2d31f52",
   "metadata": {
    "papermill": {
     "duration": 0.015639,
     "end_time": "2022-09-16T18:44:00.183928",
     "exception": false,
     "start_time": "2022-09-16T18:44:00.168289",
     "status": "completed"
    },
    "tags": []
   },
   "source": [
    "#### Mathematical Functions With np.linspace()"
   ]
  },
  {
   "cell_type": "code",
   "execution_count": 36,
   "id": "7cedfb8b",
   "metadata": {
    "execution": {
     "iopub.execute_input": "2022-09-16T18:44:00.218326Z",
     "iopub.status.busy": "2022-09-16T18:44:00.217036Z",
     "iopub.status.idle": "2022-09-16T18:44:00.226906Z",
     "shell.execute_reply": "2022-09-16T18:44:00.225642Z"
    },
    "papermill": {
     "duration": 0.029913,
     "end_time": "2022-09-16T18:44:00.229749",
     "exception": false,
     "start_time": "2022-09-16T18:44:00.199836",
     "status": "completed"
    },
    "tags": []
   },
   "outputs": [
    {
     "name": "stdout",
     "output_type": "stream",
     "text": [
      "X-Value\n",
      "\n",
      " [-100.          -97.97979798  -95.95959596  -93.93939394  -91.91919192\n",
      "  -89.8989899   -87.87878788  -85.85858586  -83.83838384  -81.81818182\n",
      "  -79.7979798   -77.77777778  -75.75757576  -73.73737374  -71.71717172\n",
      "  -69.6969697   -67.67676768  -65.65656566  -63.63636364  -61.61616162\n",
      "  -59.5959596   -57.57575758  -55.55555556  -53.53535354  -51.51515152\n",
      "  -49.49494949  -47.47474747  -45.45454545  -43.43434343  -41.41414141\n",
      "  -39.39393939  -37.37373737  -35.35353535  -33.33333333  -31.31313131\n",
      "  -29.29292929  -27.27272727  -25.25252525  -23.23232323  -21.21212121\n",
      "  -19.19191919  -17.17171717  -15.15151515  -13.13131313  -11.11111111\n",
      "   -9.09090909   -7.07070707   -5.05050505   -3.03030303   -1.01010101\n",
      "    1.01010101    3.03030303    5.05050505    7.07070707    9.09090909\n",
      "   11.11111111   13.13131313   15.15151515   17.17171717   19.19191919\n",
      "   21.21212121   23.23232323   25.25252525   27.27272727   29.29292929\n",
      "   31.31313131   33.33333333   35.35353535   37.37373737   39.39393939\n",
      "   41.41414141   43.43434343   45.45454545   47.47474747   49.49494949\n",
      "   51.51515152   53.53535354   55.55555556   57.57575758   59.5959596\n",
      "   61.61616162   63.63636364   65.65656566   67.67676768   69.6969697\n",
      "   71.71717172   73.73737374   75.75757576   77.77777778   79.7979798\n",
      "   81.81818182   83.83838384   85.85858586   87.87878788   89.8989899\n",
      "   91.91919192   93.93939394   95.95959596   97.97979798  100.        ] \n",
      "\n",
      "\n",
      "Y-Value\n",
      "\n",
      " [-3.98050000e+06 -3.74373005e+06 -3.51654083e+06 -3.29873444e+06\n",
      " -3.09011301e+06 -2.89047867e+06 -2.69963354e+06 -2.51737974e+06\n",
      " -2.34351939e+06 -2.17785462e+06 -2.02018755e+06 -1.87032030e+06\n",
      " -1.72805500e+06 -1.59319376e+06 -1.46553872e+06 -1.34489199e+06\n",
      " -1.23105570e+06 -1.12383197e+06 -1.02302292e+06 -9.28430670e+05\n",
      " -8.39857353e+05 -7.57105087e+05 -6.79975995e+05 -6.08272199e+05\n",
      " -5.41795823e+05 -4.80348990e+05 -4.23733822e+05 -3.71752442e+05\n",
      " -3.24206973e+05 -2.80899538e+05 -2.41632259e+05 -2.06207260e+05\n",
      " -1.74426664e+05 -1.46092593e+05 -1.21007169e+05 -9.89725172e+04\n",
      " -7.97907588e+04 -6.32640171e+04 -4.91944148e+04 -3.73840749e+04\n",
      " -2.76351202e+04 -1.97496736e+04 -1.35298578e+04 -8.77779581e+03\n",
      " -5.29561043e+03 -2.88542449e+03 -1.34936087e+03 -4.89542399e+02\n",
      " -1.08091939e+02 -7.13233756e+00  1.12135538e+01  1.44822884e+02\n",
      "  5.91572804e+02  1.54934046e+03  3.21600301e+03  5.78943759e+03\n",
      "  9.46752135e+03  1.44481315e+04  2.09291450e+04  2.91084393e+04\n",
      "  3.91838913e+04  5.13533782e+04  6.58147772e+04  8.27659654e+04\n",
      "  1.02404820e+05  1.24929218e+05  1.50537037e+05  1.79426154e+05\n",
      "  2.11794445e+05  2.47839789e+05  2.87760062e+05  3.31753142e+05\n",
      "  3.80016905e+05  4.32749228e+05  4.90147990e+05  5.52411067e+05\n",
      "  6.19736335e+05  6.92321674e+05  7.70364958e+05  8.54064066e+05\n",
      "  9.43616875e+05  1.03922126e+06  1.14107510e+06  1.24937628e+06\n",
      "  1.36432266e+06  1.48611213e+06  1.61494257e+06  1.75101184e+06\n",
      "  1.89451783e+06  2.04565842e+06  2.20463148e+06  2.37163489e+06\n",
      "  2.54686653e+06  2.73052426e+06  2.92280599e+06  3.12390956e+06\n",
      "  3.33403288e+06  3.55337380e+06  3.78213022e+06  4.02050000e+06]\n"
     ]
    }
   ],
   "source": [
    "x_ = np.linspace(-100, 100, 100)\n",
    "y_ = 4 * (x_**3) + 2 * (x_**2) + 5 * x_\n",
    "print(\"X-Value\\n\\n\",x_,\"\\n\\n\\nY-Value\\n\\n\",y_)"
   ]
  },
  {
   "cell_type": "code",
   "execution_count": 37,
   "id": "2b1c4efe",
   "metadata": {
    "execution": {
     "iopub.execute_input": "2022-09-16T18:44:00.263664Z",
     "iopub.status.busy": "2022-09-16T18:44:00.263260Z",
     "iopub.status.idle": "2022-09-16T18:44:00.490419Z",
     "shell.execute_reply": "2022-09-16T18:44:00.489252Z"
    },
    "papermill": {
     "duration": 0.247289,
     "end_time": "2022-09-16T18:44:00.492984",
     "exception": false,
     "start_time": "2022-09-16T18:44:00.245695",
     "status": "completed"
    },
    "tags": []
   },
   "outputs": [
    {
     "data": {
      "image/png": "[encoded data removed]",
      "text/plain": [
       "<Figure size 432x288 with 1 Axes>"
      ]
     },
     "metadata": {
      "needs_background": "light"
     },
     "output_type": "display_data"
    }
   ],
   "source": [
    "import matplotlib.pyplot as plt\n",
    "\n",
    "plt.plot(x_, y_)\n",
    "plt.show()"
   ]
  },
  {
   "cell_type": "code",
   "execution_count": null,
   "id": "e88275f2",
   "metadata": {
    "papermill": {
     "duration": 0.016008,
     "end_time": "2022-09-16T18:44:00.525539",
     "exception": false,
     "start_time": "2022-09-16T18:44:00.509531",
     "status": "completed"
    },
    "tags": []
   },
   "outputs": [],
   "source": []
  }
 ],
 "metadata": {
  "kernelspec": {
   "display_name": "Python 3",
   "language": "python",
   "name": "python3"
  },
  "language_info": {
   "codemirror_mode": {
    "name": "ipython",
    "version": 3
   },
   "file_extension": ".py",
   "mimetype": "text/x-python",
   "name": "python",
   "nbconvert_exporter": "python",
   "pygments_lexer": "ipython3",
   "version": "3.7.12"
  },
  "papermill": {
   "default_parameters": {},
   "duration": 12.741965,
   "end_time": "2022-09-16T18:44:01.264612",
   "environment_variables": {},
   "exception": null,
   "input_path": "__notebook__.ipynb",
   "output_path": "__notebook__.ipynb",
   "parameters": {},
   "start_time": "2022-09-16T18:43:48.522647",
   "version": "2.3.4"
  }
 },
 "nbformat": 4,
 "nbformat_minor": 5
}
