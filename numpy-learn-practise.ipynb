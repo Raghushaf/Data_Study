{
 "cells": [
  {
   "cell_type": "code",
   "execution_count": 1,
   "id": "296e8b79",
   "metadata": {
    "_cell_guid": "b1076dfc-b9ad-4769-8c92-a6c4dae69d19",
    "_uuid": "8f2839f25d086af736a60e9eeb907d3b93b6e0e5",
    "execution": {
     "iopub.execute_input": "2022-09-18T05:53:08.506895Z",
     "iopub.status.busy": "2022-09-18T05:53:08.506039Z",
     "iopub.status.idle": "2022-09-18T05:53:08.522285Z",
     "shell.execute_reply": "2022-09-18T05:53:08.520226Z"
    },
    "papermill": {
     "duration": 0.053383,
     "end_time": "2022-09-18T05:53:08.526194",
     "exception": false,
     "start_time": "2022-09-18T05:53:08.472811",
     "status": "completed"
    },
    "tags": []
   },
   "outputs": [],
   "source": [
    "# This Python 3 environment comes with many helpful analytics libraries installed\n",
    "# It is defined by the kaggle/python Docker image: https://github.com/kaggle/docker-python\n",
    "# For example, here's several helpful packages to load\n",
    "\n",
    "import numpy as np # linear algebra\n",
    "import pandas as pd # data processing, CSV file I/O (e.g. pd.read_csv)\n",
    "\n",
    "# Input data files are available in the read-only \"../input/\" directory\n",
    "# For example, running this (by clicking run or pressing Shift+Enter) will list all files under the input directory\n",
    "\n",
    "import os\n",
    "for dirname, _, filenames in os.walk('/kaggle/input'):\n",
    "    for filename in filenames:\n",
    "        print(os.path.join(dirname, filename))\n",
    "\n",
    "# You can write up to 20GB to the current directory (/kaggle/working/) that gets preserved as output when you create a version using \"Save & Run All\" \n",
    "# You can also write temporary files to /kaggle/temp/, but they won't be saved outside of the current session"
   ]
  },
  {
   "cell_type": "markdown",
   "id": "62e0d681",
   "metadata": {
    "papermill": {
     "duration": 0.02474,
     "end_time": "2022-09-18T05:53:08.577333",
     "exception": false,
     "start_time": "2022-09-18T05:53:08.552593",
     "status": "completed"
    },
    "tags": []
   },
   "source": [
    "<p><strong>NumPy Basics</strong></p>\n",
    "<div class=\"table-responsive\">\n",
    "<table class=\"table table-bordered\">\n",
    "<tbody><tr>\n",
    "<th>Operator</th>\n",
    "<th>Description</th>\n",
    "</tr>\n",
    "<tr>\n",
    "<td>np.array([1,2,3])</td>\n",
    "<td>1d array</td>\n",
    "</tr>\n",
    "<tr>\n",
    "<td>np.array([(1,2,3),(4,5,6)])\t</td>\n",
    "<td>2d array</td>\n",
    "</tr>\n",
    "<tr>\n",
    "<td>np.arange(start,stop,step)</td>\n",
    "<td>range array</td>\n",
    "</tr>\n",
    "</tbody></table></div>\n",
    "<p><strong>Placeholders</strong></p>\n",
    "<div class=\"table-responsive\">\n",
    "<table class=\"table table-bordered\">\n",
    "<tbody><tr>\n",
    "<th>Operator</th>\n",
    "<th>Description</th>\n",
    "</tr>\n",
    "<tr>\n",
    "<td>np.linspace(0,2,9)</td>\n",
    "<td>Add evenly spaced values btw interval to array of length</td>\n",
    "</tr>\n",
    "<tr>\n",
    "<td>np.zeros((1,2))</td>\n",
    "<td>Create and array filled with zeros</td>\n",
    "</tr>\n",
    "<tr>\n",
    "<td>np.ones((1,2))</td>\n",
    "<td>Creates an array filled with ones</td>\n",
    "</tr>\n",
    "<tr>\n",
    "<td>np.random.random((5,5))</td>\n",
    "<td>Creates random array</td>\n",
    "</tr>\n",
    "<tr>\n",
    "<td>np.empty((2,2))</td>\n",
    "<td>Creates an empty array</td>\n",
    "</tr>\n",
    "</tbody></table></div>\n",
    "<p><strong>Array</strong></p>\n",
    "<div class=\"table-responsive\">\n",
    "<table class=\"table table-bordered\">\n",
    "<tbody><tr>\n",
    "<th>Syntax</th>\n",
    "<th>Description</th>\n",
    "</tr>\n",
    "<tr>\n",
    "<td>array.shape</td>\n",
    "<td>Dimensions (Rows,Columns)</td>\n",
    "</tr>\n",
    "<tr>\n",
    "<td>len(array)</td>\n",
    "<td>Length of Array</td>\n",
    "</tr>\n",
    "<tr>\n",
    "<td>array.ndim</td>\n",
    "<td>Number of Array Dimensions</td>\n",
    "</tr>\n",
    "<tr>\n",
    "<td>array.dtype</td>\n",
    "<td>Data Type</td>\n",
    "</tr>\n",
    "<tr>\n",
    "<td>array.astype(type)</td>\n",
    "<td>Converts to Data Type</td>\n",
    "</tr>\n",
    "<tr>\n",
    "<td>type(array)</td>\n",
    "<td>Type of Array</td>\n",
    "</tr>\n",
    "</tbody></table></div>\n",
    "<img src=\"https://www.w3resource.com/w3r_images/numpy-array-xyz-axis.png\" alt=\"NumPy: numpy array axis\" style=\"max-width:100%;display:block;height:auto;border: 2px solid silver;\"><br>\n",
    "<p><strong>Copying/Sorting</strong></p>\n",
    "<div class=\"table-responsive\">\n",
    "<table class=\"table table-bordered\">\n",
    "<tbody><tr>\n",
    "<th>Operators</th>\n",
    "<th>Description</th>\n",
    "</tr>\n",
    "<tr>\n",
    "<td>np.copy(array)</td>\n",
    "<td>Creates copy of array</td>\n",
    "</tr>\n",
    "<tr>\n",
    "<td>other = array.copy()</td>\n",
    "<td>Creates deep copy of array</td>\n",
    "</tr>\n",
    "<tr>\n",
    "<td>array.sort()</td>\n",
    "<td>Sorts an array</td>\n",
    "</tr>\n",
    "<tr>\n",
    "<td>array.sort(axis=0)</td>\n",
    "<td>Sorts axis of array</td>\n",
    "</tr>\n",
    "</tbody></table></div>\n",
    "<p><strong>Array Manipulation</strong></p>\n",
    "<p><strong>Adding or Removing Elements</strong></p>\n",
    "<div class=\"table-responsive\">\n",
    "<table class=\"table table-bordered\">\n",
    "<tbody><tr>\n",
    "<th>Operator</th>\n",
    "<th>Description</th>\n",
    "</tr>\n",
    "<tr>\n",
    "<td>np.append(a,b)</td>\n",
    "<td>Append items to array</td>\n",
    "</tr>\n",
    "<tr>\n",
    "<td>np.insert(array, 1, 2, axis)</td>\n",
    "<td>Insert items into array at axis 0 or 1</td>\n",
    "</tr>\n",
    "<tr>\n",
    "<td>np.resize((2,4))</td>\n",
    "<td>Resize array to shape(2,4)</td>\n",
    "</tr>\n",
    "<tr>\n",
    "<td>np.delete(array,1,axis)</td>\n",
    "<td>Deletes items from array</td>\n",
    "</tr>\n",
    "</tbody></table></div>\n",
    "<p><strong>Combining Arrays</strong></p>\n",
    "<div class=\"table-responsive\">\n",
    "<table class=\"table table-bordered\">\n",
    "<tbody><tr>\n",
    "<th>Operator</th>\n",
    "<th>Description</th>\n",
    "</tr>\n",
    "<tr>\n",
    "<td>np.concatenate((a,b),axis=0)</td>\n",
    "<td>Concatenates 2 arrays, adds to end</td>\n",
    "</tr>\n",
    "<tr>\n",
    "<td>np.vstack((a,b))</td>\n",
    "<td>Stack array row-wise</td>\n",
    "</tr>\n",
    "<tr>\n",
    "<td>np.hstack((a,b))</td>\n",
    "<td>Stack array column wise</td>\n",
    "</tr>\n",
    "</tbody></table></div>\n",
    "<p><strong>Splitting Arrays</strong></p>\n",
    "<div class=\"table-responsive\">\n",
    "<table class=\"table table-bordered\">\n",
    "<tbody><tr>\n",
    "<th>Operator</th>\n",
    "<th>Description</th>\n",
    "</tr>\n",
    "<tr>\n",
    "<td>numpy.split()</td>\n",
    "<td>Split an array into multiple sub-arrays.</td>\n",
    "</tr>\n",
    "<tr>\n",
    "<td>np.array_split(array, 3)</td>\n",
    "<td>Split an array in sub-arrays of (nearly) identical size</td>\n",
    "</tr>\n",
    "<tr>\n",
    "<td>numpy.hsplit(array, 3)</td>\n",
    "<td>Split the array horizontally at 3rd index</td>\n",
    "</tr>\n",
    "</tbody></table></div>\n",
    "<p><strong>More</strong></p>\n",
    "<div class=\"table-responsive\">\n",
    "<table class=\"table table-bordered\">\n",
    "<tbody><tr>\n",
    "<th>Operator</th>\n",
    "<th>Description</th>\n",
    "</tr>\n",
    "<tr>\n",
    "<td>other = ndarray.flatten()</td>\n",
    "<td>Flattens a 2d array to 1d</td>\n",
    "</tr>\n",
    "<tr>\n",
    "<td>array = np.transpose(other)<br>array.T</td>\n",
    "<td>Transpose array</td>\n",
    "</tr>\n",
    "<tr>\n",
    "<td>inverse = np.linalg.inv(matrix)</td>\n",
    "<td>Inverse of a given matrix</td>\n",
    "</tr>\n",
    "<tr>\n",
    "<td></td>\n",
    "<td></td>\n",
    "</tr>\n",
    "</tbody></table></div>\n",
    "<p><strong>Mathematics</strong></p>\n",
    "<p><strong>Operations</strong></p>\n",
    "<div class=\"table-responsive\">\n",
    "<table class=\"table table-bordered\">\n",
    "<tbody><tr>\n",
    "<th>Operator</th>\n",
    "<th>Description</th>\n",
    "</tr>\n",
    "<tr>\n",
    "<td>np.add(x,y)<br>x + y</td>\n",
    "<td>Addition</td>\n",
    "</tr>\n",
    "<tr>\n",
    "<td>np.substract(x,y)<br>x - y</td>\n",
    "<td>Subtraction</td>\n",
    "</tr>\n",
    "<tr>\n",
    "<td>np.divide(x,y)<br>x / y</td>\n",
    "<td>Division</td>\n",
    "</tr>\n",
    "<tr>\n",
    "<td>np.multiply(x,y)<br>x @ y</td>\n",
    "<td>Multiplication</td>\n",
    "</tr>\n",
    "<tr>\n",
    "<td>np.sqrt(x)</td>\n",
    "<td>Square Root</td>\n",
    "</tr>\n",
    "<tr>\n",
    "<td>np.sin(x)</td>\n",
    "<td>Element-wise sine</td>\n",
    "</tr>\n",
    "<tr>\n",
    "<td>np.cos(x)</td>\n",
    "<td>Element-wise cosine</td>\n",
    "</tr>\n",
    "<tr>\n",
    "<td>np.log(x)</td>\n",
    "<td>Element-wise natural log</td>\n",
    "</tr>\n",
    "<tr>\n",
    "<td>np.dot(x,y)</td>\n",
    "<td>Dot product</td>\n",
    "</tr>\n",
    "<tr>\n",
    "<td>np.roots([1,0,-4])</td>\n",
    "<td>Roots of a given polynomial coefficients</td>\n",
    "</tr>\n",
    "</tbody></table></div>\n",
    "<p><strong>Comparison</strong></p>\n",
    "<div class=\"table-responsive\">\n",
    "<table class=\"table table-bordered\">\n",
    "<tbody><tr>\n",
    "<th>Operator</th>\n",
    "<th>Description</th>\n",
    "</tr>\n",
    "<tr>\n",
    "<td>==</td>\n",
    "<td>Equal</td>\n",
    "</tr>\n",
    "<tr>\n",
    "<td>!=</td>\n",
    "<td>Not equal</td>\n",
    "</tr>\n",
    "<tr>\n",
    "<td>&lt;</td>\n",
    "<td>Smaller than</td>\n",
    "</tr>\n",
    "<tr>\n",
    "<td>&gt;</td>\n",
    "<td>Greater than</td>\n",
    "</tr>\n",
    "<tr>\n",
    "<td>&lt;=</td>\n",
    "<td>Smaller than or equal</td>\n",
    "</tr>\n",
    "<tr>\n",
    "<td>&gt;=</td>\n",
    "<td>Greater than or equal</td>\n",
    "</tr>\n",
    "<tr>\n",
    "<td>np.array_equal(x,y)</td>\n",
    "<td>Array-wise comparison</td>\n",
    "</tr>\n",
    "</tbody></table></div>\n",
    "<p><strong>Basic Statistics</strong></p>\n",
    "<div class=\"table-responsive\">\n",
    "<table class=\"table table-bordered\">\n",
    "<tbody><tr>\n",
    "<th>Operator</th>\n",
    "<th>Description</th>\n",
    "</tr>\n",
    "<tr>\n",
    "<td>np.mean(array)</td>\n",
    "<td>Mean</td>\n",
    "</tr>\n",
    "<tr>\n",
    "<td>np.median(array)</td>\n",
    "<td>Median</td>\n",
    "</tr>\n",
    "<tr>\n",
    "<td>array.corrcoef()</td>\n",
    "<td>Correlation Coefficient</td>\n",
    "</tr>\n",
    "<tr>\n",
    "<td>np.std(array)</td>\n",
    "<td>Standard Deviation</td>\n",
    "</tr>\n",
    "</tbody></table></div>\n",
    "<p><strong>More</strong></p>\n",
    "<div class=\"table-responsive\">\n",
    "<table class=\"table table-bordered\">\n",
    "<tbody><tr>\n",
    "<th>Operator</th>\n",
    "<th>Description</th>\n",
    "</tr>\n",
    "<tr>\n",
    "<td>array.sum()</td>\n",
    "<td>Array-wise sum</td>\n",
    "</tr>\n",
    "<tr>\n",
    "<td>array.min()</td>\n",
    "<td>Array-wise minimum value</td>\n",
    "</tr>\n",
    "<tr>\n",
    "<td>array.max(axis=0)</td>\n",
    "<td>Maximum value of specified axis</td>\n",
    "</tr>\n",
    "<tr>\n",
    "<td>array.cumsum(axis=0)</td>\n",
    "<td>Cumulative sum of specified axis</td>\n",
    "</tr>\n",
    "</tbody></table></div>\n",
    "<p><strong>Slicing and Subsetting</strong></p>\n",
    "<div class=\"table-responsive\">\n",
    "<table class=\"table table-bordered\">\n",
    "<tbody><tr>\n",
    "<th>Operator</th>\n",
    "<th>Description</th>\n",
    "</tr>\n",
    "<tr>\n",
    "<td>array[i]</td>\n",
    "<td>1d array at index i</td>\n",
    "</tr>\n",
    "<tr>\n",
    "<td>array[i,j]</td>\n",
    "<td>2d array at index[i][j]</td>\n",
    "</tr>\n",
    "<tr>\n",
    "<td>array[i&lt;4]</td>\n",
    "<td>Boolean Indexing, see Tricks</td>\n",
    "</tr>\n",
    "<tr>\n",
    "<td>array[0:3]</td>\n",
    "<td>Select items of index 0, 1 and 2</td>\n",
    "</tr>\n",
    "<tr>\n",
    "<td>array[0:2,1]</td>\n",
    "<td>Select items of rows 0 and 1 at column 1</td>\n",
    "</tr>\n",
    "<tr>\n",
    "<td>array[:1]</td>\n",
    "<td>Select items of row 0 (equals array[0:1, :])</td>\n",
    "</tr>\n",
    "<tr>\n",
    "<td>array[1:2, :]</td>\n",
    "<td>Select items of row 1</td>\n",
    "</tr>\n",
    "<tr>\n",
    "<td>[comment]: &lt;&gt; (</td>\n",
    "<td>array[1,...]</td>\n",
    "</tr>\n",
    "<tr>\n",
    "<td>array[ : :-1]</td>\n",
    "<td>Reverses array</td>\n",
    "</tr>\n",
    "</tbody></table></div>\n",
    "<p><strong>Importing/exporting</strong></p>\n",
    "<div class=\"table-responsive\">\n",
    "<table class=\"table table-bordered\">\n",
    "<tbody><tr>\n",
    "<th>Syntax</th>\n",
    "<th>Description</th>\n",
    "</tr>\n",
    "<tr>\n",
    "<td>np.loadtxt('file.txt')</td>\n",
    "<td>From a text file. </td>\n",
    "</tr>\n",
    "<tr>\n",
    "<td>np.genfromtxt('file.csv',delimiter=',') </td>\n",
    "<td>From a csv file.</td>\n",
    "</tr>\n",
    "<tr>\n",
    "<td>np.savetxt('file.txt',arr,delimiter=' ') </td>\n",
    "<td>Writes to a text file.</td>\n",
    "</tr>\n",
    "<tr>\n",
    "<td>np.savetxt('file.csv',arr,delimiter=',') </td>\n",
    "<td>Writes to a CSV file.</td>\n",
    "</tr>\n",
    "</tbody></table></div>"
   ]
  },
  {
   "cell_type": "markdown",
   "id": "b4a3c276",
   "metadata": {
    "papermill": {
     "duration": 0.024465,
     "end_time": "2022-09-18T05:53:08.626464",
     "exception": false,
     "start_time": "2022-09-18T05:53:08.601999",
     "status": "completed"
    },
    "tags": []
   },
   "source": [
    "### Creating 1-D Array:"
   ]
  },
  {
   "cell_type": "code",
   "execution_count": 2,
   "id": "c0927bfa",
   "metadata": {
    "execution": {
     "iopub.execute_input": "2022-09-18T05:53:08.683250Z",
     "iopub.status.busy": "2022-09-18T05:53:08.682767Z",
     "iopub.status.idle": "2022-09-18T05:53:08.691709Z",
     "shell.execute_reply": "2022-09-18T05:53:08.690364Z"
    },
    "papermill": {
     "duration": 0.041666,
     "end_time": "2022-09-18T05:53:08.694366",
     "exception": false,
     "start_time": "2022-09-18T05:53:08.652700",
     "status": "completed"
    },
    "tags": []
   },
   "outputs": [
    {
     "name": "stdout",
     "output_type": "stream",
     "text": [
      "This is 1-D array: [1 2 3 4 5]\n"
     ]
    }
   ],
   "source": [
    "arr1d=np.array([1,2,3,4,5])\n",
    "print(\"This is 1-D array:\",arr1d)"
   ]
  },
  {
   "cell_type": "markdown",
   "id": "b44c0b78",
   "metadata": {
    "papermill": {
     "duration": 0.027069,
     "end_time": "2022-09-18T05:53:08.749853",
     "exception": false,
     "start_time": "2022-09-18T05:53:08.722784",
     "status": "completed"
    },
    "tags": []
   },
   "source": [
    "### Creating 2-D Array:"
   ]
  },
  {
   "cell_type": "code",
   "execution_count": 3,
   "id": "bec57563",
   "metadata": {
    "execution": {
     "iopub.execute_input": "2022-09-18T05:53:08.808413Z",
     "iopub.status.busy": "2022-09-18T05:53:08.807897Z",
     "iopub.status.idle": "2022-09-18T05:53:08.816026Z",
     "shell.execute_reply": "2022-09-18T05:53:08.814345Z"
    },
    "papermill": {
     "duration": 0.04203,
     "end_time": "2022-09-18T05:53:08.820026",
     "exception": false,
     "start_time": "2022-09-18T05:53:08.777996",
     "status": "completed"
    },
    "tags": []
   },
   "outputs": [
    {
     "name": "stdout",
     "output_type": "stream",
     "text": [
      "This is 2-D array:\n",
      "\n",
      " [[1 2 3 4]\n",
      " [1 2 3 4]\n",
      " [1 2 3 4]]\n"
     ]
    }
   ],
   "source": [
    "arr2d=np.array([[1,2,3,4],\n",
    "                [1,2,3,4],\n",
    "                [1,2,3,4],\n",
    "               ])\n",
    "print(\"This is 2-D array:\\n\\n\",arr2d)"
   ]
  },
  {
   "cell_type": "markdown",
   "id": "4256c0a0",
   "metadata": {
    "papermill": {
     "duration": 0.025991,
     "end_time": "2022-09-18T05:53:08.873006",
     "exception": false,
     "start_time": "2022-09-18T05:53:08.847015",
     "status": "completed"
    },
    "tags": []
   },
   "source": [
    "### Creating 3-D or Multi-D Array:"
   ]
  },
  {
   "cell_type": "code",
   "execution_count": 4,
   "id": "26df0762",
   "metadata": {
    "execution": {
     "iopub.execute_input": "2022-09-18T05:53:08.929284Z",
     "iopub.status.busy": "2022-09-18T05:53:08.927978Z",
     "iopub.status.idle": "2022-09-18T05:53:08.938728Z",
     "shell.execute_reply": "2022-09-18T05:53:08.936762Z"
    },
    "papermill": {
     "duration": 0.042016,
     "end_time": "2022-09-18T05:53:08.941265",
     "exception": false,
     "start_time": "2022-09-18T05:53:08.899249",
     "status": "completed"
    },
    "tags": []
   },
   "outputs": [
    {
     "name": "stdout",
     "output_type": "stream",
     "text": [
      "This is 3-D array:\n",
      "\n",
      " [[[1 2 3 4]\n",
      "  [1 2 3 4]\n",
      "  [1 2 3 4]]\n",
      "\n",
      " [[1 2 3 4]\n",
      "  [1 2 3 4]\n",
      "  [1 2 3 4]]\n",
      "\n",
      " [[1 2 3 4]\n",
      "  [1 2 3 4]\n",
      "  [1 2 3 4]]]\n"
     ]
    }
   ],
   "source": [
    "arr3d=np.array([[[1,2,3,4],\n",
    "                [1,2,3,4],\n",
    "                [1,2,3,4],\n",
    "               ],\n",
    "               [[1,2,3,4],\n",
    "                [1,2,3,4],\n",
    "                [1,2,3,4],\n",
    "               ],\n",
    "                [[1,2,3,4],\n",
    "                [1,2,3,4],\n",
    "                [1,2,3,4],\n",
    "               ]])\n",
    "print(\"This is 3-D array:\\n\\n\",arr3d)"
   ]
  },
  {
   "cell_type": "markdown",
   "id": "0e33ef73",
   "metadata": {
    "papermill": {
     "duration": 0.02871,
     "end_time": "2022-09-18T05:53:08.997110",
     "exception": false,
     "start_time": "2022-09-18T05:53:08.968400",
     "status": "completed"
    },
    "tags": []
   },
   "source": [
    "### Use of type() function:\n",
    "- It will give the type of object.\n"
   ]
  },
  {
   "cell_type": "code",
   "execution_count": 5,
   "id": "63a6e9e3",
   "metadata": {
    "execution": {
     "iopub.execute_input": "2022-09-18T05:53:09.059620Z",
     "iopub.status.busy": "2022-09-18T05:53:09.059166Z",
     "iopub.status.idle": "2022-09-18T05:53:09.064952Z",
     "shell.execute_reply": "2022-09-18T05:53:09.064004Z"
    },
    "papermill": {
     "duration": 0.038346,
     "end_time": "2022-09-18T05:53:09.068111",
     "exception": false,
     "start_time": "2022-09-18T05:53:09.029765",
     "status": "completed"
    },
    "tags": []
   },
   "outputs": [
    {
     "name": "stdout",
     "output_type": "stream",
     "text": [
      "type of array 1-D array: <class 'numpy.ndarray'>\n"
     ]
    }
   ],
   "source": [
    "print(\"type of array 1-D array:\",type(arr1d))"
   ]
  },
  {
   "cell_type": "markdown",
   "id": "bc0d9df6",
   "metadata": {
    "papermill": {
     "duration": 0.026838,
     "end_time": "2022-09-18T05:53:09.121071",
     "exception": false,
     "start_time": "2022-09-18T05:53:09.094233",
     "status": "completed"
    },
    "tags": []
   },
   "source": [
    "### Use of ndim:\n",
    "- It will give the dimention of NumPy array."
   ]
  },
  {
   "cell_type": "code",
   "execution_count": 6,
   "id": "84230cdd",
   "metadata": {
    "execution": {
     "iopub.execute_input": "2022-09-18T05:53:09.178533Z",
     "iopub.status.busy": "2022-09-18T05:53:09.178013Z",
     "iopub.status.idle": "2022-09-18T05:53:09.187058Z",
     "shell.execute_reply": "2022-09-18T05:53:09.184479Z"
    },
    "papermill": {
     "duration": 0.041629,
     "end_time": "2022-09-18T05:53:09.190233",
     "exception": false,
     "start_time": "2022-09-18T05:53:09.148604",
     "status": "completed"
    },
    "tags": []
   },
   "outputs": [
    {
     "name": "stdout",
     "output_type": "stream",
     "text": [
      "Dimention of Array arr1d:-> 1\n",
      "Dimention of Array arr2d:-> 2\n",
      "Dimention of Array arr3d:-> 3\n"
     ]
    }
   ],
   "source": [
    "print(\"Dimention of Array arr1d:->\",arr1d.ndim)\n",
    "print(\"Dimention of Array arr2d:->\",arr2d.ndim)\n",
    "print(\"Dimention of Array arr3d:->\",arr3d.ndim)"
   ]
  },
  {
   "cell_type": "markdown",
   "id": "7729e700",
   "metadata": {
    "papermill": {
     "duration": 0.028424,
     "end_time": "2022-09-18T05:53:09.245420",
     "exception": false,
     "start_time": "2022-09-18T05:53:09.216996",
     "status": "completed"
    },
    "tags": []
   },
   "source": [
    "### Use of shape:\n",
    "- It will give you shape of array."
   ]
  },
  {
   "cell_type": "code",
   "execution_count": 7,
   "id": "d9abcb32",
   "metadata": {
    "execution": {
     "iopub.execute_input": "2022-09-18T05:53:09.305007Z",
     "iopub.status.busy": "2022-09-18T05:53:09.304573Z",
     "iopub.status.idle": "2022-09-18T05:53:09.311664Z",
     "shell.execute_reply": "2022-09-18T05:53:09.309758Z"
    },
    "papermill": {
     "duration": 0.042084,
     "end_time": "2022-09-18T05:53:09.315449",
     "exception": false,
     "start_time": "2022-09-18T05:53:09.273365",
     "status": "completed"
    },
    "tags": []
   },
   "outputs": [
    {
     "name": "stdout",
     "output_type": "stream",
     "text": [
      "Shape of array arr1d will be:  (5,)\n",
      "Shape of array qrr2d will be: (3, 4)\n",
      "Shape of array arr3d will be: (3, 3, 4)\n"
     ]
    }
   ],
   "source": [
    "print(\"Shape of array arr1d will be: \", arr1d.shape)\n",
    "print(\"Shape of array qrr2d will be:\", arr2d.shape)\n",
    "print(\"Shape of array arr3d will be:\", arr3d.shape)"
   ]
  },
  {
   "cell_type": "markdown",
   "id": "aaab2901",
   "metadata": {
    "papermill": {
     "duration": 0.027728,
     "end_time": "2022-09-18T05:53:09.372504",
     "exception": false,
     "start_time": "2022-09-18T05:53:09.344776",
     "status": "completed"
    },
    "tags": []
   },
   "source": [
    "*** \n",
    "### Data Types in Python\n",
    "- By default Python have these data types:\n",
    "    - strings - used to represent text data, the text is given under quote marks. e.g. \"ABCD\"\n",
    "    - integer - used to represent integer numbers. e.g. -1, -2, -3\n",
    "    - float - used to represent real numbers. e.g. 1.2, 42.42\n",
    "    - boolean - used to represent True or False.\n",
    "    - complex - used to represent complex numbers. e.g. 1.0 + 2.0j, 1.5 + 2.5j \n",
    "***"
   ]
  },
  {
   "cell_type": "markdown",
   "id": "f7e7a77c",
   "metadata": {
    "papermill": {
     "duration": 0.025663,
     "end_time": "2022-09-18T05:53:09.424907",
     "exception": false,
     "start_time": "2022-09-18T05:53:09.399244",
     "status": "completed"
    },
    "tags": []
   },
   "source": [
    "***\n",
    "### Data Types in NumPy\n",
    "- NumPy has some extra data types, and refer to data types with one character, like i for integers, u for unsigned integers etc.\n",
    "\n",
    "    Below is a list of all data types in NumPy and the characters used to represent them.\n",
    "\n",
    "    - i - integer\n",
    "    - b - boolean\n",
    "    - u - unsigned integer\n",
    "    - f - float\n",
    "    - c - complex float\n",
    "    - m - timedelta\n",
    "    - M - datetime\n",
    "    - O - object\n",
    "    - S - string\n",
    "    - U - unicode string\n",
    "    - V - fixed chunk of memory for other type ( void )\n",
    "\n",
    "***\n",
    "- <H4>Use of dtype:</H4>\n",
    "    - It give what kind of data means type of data we are using."
   ]
  },
  {
   "cell_type": "code",
   "execution_count": 8,
   "id": "d7602744",
   "metadata": {
    "execution": {
     "iopub.execute_input": "2022-09-18T05:53:09.480562Z",
     "iopub.status.busy": "2022-09-18T05:53:09.480131Z",
     "iopub.status.idle": "2022-09-18T05:53:09.486148Z",
     "shell.execute_reply": "2022-09-18T05:53:09.484885Z"
    },
    "papermill": {
     "duration": 0.037039,
     "end_time": "2022-09-18T05:53:09.488947",
     "exception": false,
     "start_time": "2022-09-18T05:53:09.451908",
     "status": "completed"
    },
    "tags": []
   },
   "outputs": [
    {
     "name": "stdout",
     "output_type": "stream",
     "text": [
      "Data type of array arr1d: int64\n",
      "Data type of array arr1d: int64\n",
      "Data type of array arr1d: int64\n"
     ]
    }
   ],
   "source": [
    "print(\"Data type of array arr1d:\", arr1d.dtype)\n",
    "print(\"Data type of array arr1d:\", arr2d.dtype)\n",
    "print(\"Data type of array arr1d:\", arr3d.dtype)"
   ]
  },
  {
   "cell_type": "code",
   "execution_count": 9,
   "id": "e148ba53",
   "metadata": {
    "execution": {
     "iopub.execute_input": "2022-09-18T05:53:09.546780Z",
     "iopub.status.busy": "2022-09-18T05:53:09.545973Z",
     "iopub.status.idle": "2022-09-18T05:53:09.553909Z",
     "shell.execute_reply": "2022-09-18T05:53:09.551615Z"
    },
    "papermill": {
     "duration": 0.039899,
     "end_time": "2022-09-18T05:53:09.557967",
     "exception": false,
     "start_time": "2022-09-18T05:53:09.518068",
     "status": "completed"
    },
    "tags": []
   },
   "outputs": [
    {
     "name": "stdout",
     "output_type": "stream",
     "text": [
      "Data type of array arr: <U6\n"
     ]
    }
   ],
   "source": [
    "arr = np.array(['apple', 'banana', 'cherry'])\n",
    "\n",
    "print(\"Data type of array arr:\", arr.dtype)"
   ]
  },
  {
   "cell_type": "markdown",
   "id": "90e78323",
   "metadata": {
    "papermill": {
     "duration": 0.026348,
     "end_time": "2022-09-18T05:53:09.613008",
     "exception": false,
     "start_time": "2022-09-18T05:53:09.586660",
     "status": "completed"
    },
    "tags": []
   },
   "source": [
    "- Create an array with data type string:"
   ]
  },
  {
   "cell_type": "code",
   "execution_count": 10,
   "id": "ce08d26f",
   "metadata": {
    "execution": {
     "iopub.execute_input": "2022-09-18T05:53:09.668750Z",
     "iopub.status.busy": "2022-09-18T05:53:09.668258Z",
     "iopub.status.idle": "2022-09-18T05:53:09.675412Z",
     "shell.execute_reply": "2022-09-18T05:53:09.673814Z"
    },
    "papermill": {
     "duration": 0.039233,
     "end_time": "2022-09-18T05:53:09.678335",
     "exception": false,
     "start_time": "2022-09-18T05:53:09.639102",
     "status": "completed"
    },
    "tags": []
   },
   "outputs": [
    {
     "name": "stdout",
     "output_type": "stream",
     "text": [
      "Here is array: [b'1' b'2' b'3' b'4']\n",
      "Data type of array arr: |S1\n"
     ]
    }
   ],
   "source": [
    "arr = np.array([1, 2, 3, 4], dtype='S')\n",
    "\n",
    "print(\"Here is array:\",arr)\n",
    "print(\"Data type of array arr:\", arr.dtype)\n"
   ]
  },
  {
   "cell_type": "markdown",
   "id": "48dd4a73",
   "metadata": {
    "papermill": {
     "duration": 0.028631,
     "end_time": "2022-09-18T05:53:09.735275",
     "exception": false,
     "start_time": "2022-09-18T05:53:09.706644",
     "status": "completed"
    },
    "tags": []
   },
   "source": [
    " ## Note: For i, u, f, S and U we can define size as well."
   ]
  },
  {
   "cell_type": "markdown",
   "id": "c8f7700d",
   "metadata": {
    "papermill": {
     "duration": 0.026816,
     "end_time": "2022-09-18T05:53:09.790107",
     "exception": false,
     "start_time": "2022-09-18T05:53:09.763291",
     "status": "completed"
    },
    "tags": []
   },
   "source": [
    "- Create an array with data type 4 bytes integer:"
   ]
  },
  {
   "cell_type": "code",
   "execution_count": 11,
   "id": "225dbf6b",
   "metadata": {
    "execution": {
     "iopub.execute_input": "2022-09-18T05:53:09.850240Z",
     "iopub.status.busy": "2022-09-18T05:53:09.849839Z",
     "iopub.status.idle": "2022-09-18T05:53:09.857466Z",
     "shell.execute_reply": "2022-09-18T05:53:09.856767Z"
    },
    "papermill": {
     "duration": 0.041839,
     "end_time": "2022-09-18T05:53:09.861784",
     "exception": false,
     "start_time": "2022-09-18T05:53:09.819945",
     "status": "completed"
    },
    "tags": []
   },
   "outputs": [
    {
     "name": "stdout",
     "output_type": "stream",
     "text": [
      "[1 2 3 4]\n",
      "int32\n"
     ]
    }
   ],
   "source": [
    "arr = np.array([1, 2, 3, 4], dtype='i4')\n",
    "print(arr)\n",
    "print(arr.dtype)"
   ]
  },
  {
   "cell_type": "markdown",
   "id": "96cd6b42",
   "metadata": {
    "papermill": {
     "duration": 0.027744,
     "end_time": "2022-09-18T05:53:09.917509",
     "exception": false,
     "start_time": "2022-09-18T05:53:09.889765",
     "status": "completed"
    },
    "tags": []
   },
   "source": [
    "- There is diffrence between type of value and given type.\n",
    "- that's why error.\n",
    "\n",
    "``` python\n",
    "arr = np.array(['a', '2', '3'], dtype='i')\n",
    "\n",
    "---------------------------------------------------------------------------\n",
    "ValueError                                Traceback (most recent call last)\n",
    "Input In [35], in <cell line: 1>()\n",
    "----> 1 arr = np.array(['a', '2', '3'], dtype='i')\n",
    "\n",
    "ValueError: invalid literal for int() with base 10: 'a'\n",
    "        \n",
    "```"
   ]
  },
  {
   "cell_type": "markdown",
   "id": "858121c1",
   "metadata": {
    "papermill": {
     "duration": 0.027823,
     "end_time": "2022-09-18T05:53:09.974497",
     "exception": false,
     "start_time": "2022-09-18T05:53:09.946674",
     "status": "completed"
    },
    "tags": []
   },
   "source": [
    "***\n",
    "#### Converting Data Type on Existing Arrays\n",
    "- The astype() function creates a copy of the array, and allows you to specify the data type as a parameter.\n",
    "\n",
    "- The data type can be specified using a string, like 'f' for float, 'i' for integer etc. or you can use the data type directly like float for float and int for integer.\n",
    "<li>\n",
    "    The argument dtype=int doesn’t refer to Python int. It translates to NumPy int64 or simply np.int.\n",
    "\n",
    "    - NumPy offers you several integer fixed-sized dtypes that differ in memory and limits:\n",
    "\n",
    "    1. np.int8: 8-bit signed integer (from -128 to 127)\n",
    "    2. np.uint8: 8-bit unsigned integer (from 0 to 255)\n",
    "    3. np.int16: 16-bit signed integer (from -32768 to 32767)\n",
    "    4. np.uint16: 16-bit unsigned integer (from 0 to 65535)\n",
    "    5. np.int32: 32-bit signed integer (from -2<sup>31</sup> to 2<sup>31</sup>-1)\n",
    "    6. np.uint32: 32-bit unsigned integer (from 0 to 2<sup>31</sup>-1)\n",
    "    7. np.int64: 64-bit signed integer (from -2<sup>63</sup> to 2<sup>63</sup>-1)\n",
    "    8. np.uint64: 64-bit unsigned integer (from 0 to 2<sup>64</sup>-1)\n",
    "</li>\n",
    "***"
   ]
  },
  {
   "cell_type": "code",
   "execution_count": 12,
   "id": "35db8c02",
   "metadata": {
    "execution": {
     "iopub.execute_input": "2022-09-18T05:53:10.031355Z",
     "iopub.status.busy": "2022-09-18T05:53:10.030278Z",
     "iopub.status.idle": "2022-09-18T05:53:10.041001Z",
     "shell.execute_reply": "2022-09-18T05:53:10.039456Z"
    },
    "papermill": {
     "duration": 0.042338,
     "end_time": "2022-09-18T05:53:10.044009",
     "exception": false,
     "start_time": "2022-09-18T05:53:10.001671",
     "status": "completed"
    },
    "tags": []
   },
   "outputs": [
    {
     "name": "stdout",
     "output_type": "stream",
     "text": [
      "\n",
      "'i' as parameter\n",
      "This is array with float as Data type: [1.1 2.1 3.1] float64\n",
      "\n",
      "This is new array with Data type int: [1 2 3] int32\n",
      "\n",
      "###################################################################\n",
      "\n",
      "'int' as parameter\n",
      "\n",
      "This is array with float as Data type: [1.1 2.1 3.1] float64\n",
      "\n",
      "This is new array with Data type int: [1 2 3] int64\n"
     ]
    }
   ],
   "source": [
    "print(\"\\n'i' as parameter\")\n",
    "\n",
    "arr = np.array([1.1, 2.1, 3.1])\n",
    "print(\"This is array with float as Data type:\",arr,arr.dtype)\n",
    "\n",
    "newarr = arr.astype('i')\n",
    "\n",
    "print(\"\\nThis is new array with Data type int:\",newarr,newarr.dtype)\n",
    "\n",
    "print('\\n###################################################################')\n",
    "\n",
    "print(\"\\n'int' as parameter\")\n",
    "arr = np.array([1.1, 2.1, 3.1])\n",
    "print(\"\\nThis is array with float as Data type:\",arr,arr.dtype)\n",
    "\n",
    "newarr = arr.astype(int)\n",
    "\n",
    "print(\"\\nThis is new array with Data type int:\",newarr,newarr.dtype)"
   ]
  },
  {
   "cell_type": "markdown",
   "id": "115f0651",
   "metadata": {
    "papermill": {
     "duration": 0.028222,
     "end_time": "2022-09-18T05:53:10.100637",
     "exception": false,
     "start_time": "2022-09-18T05:53:10.072415",
     "status": "completed"
    },
    "tags": []
   },
   "source": [
    "- Change data type from float to integer by using **\"i\" as parameter value:**"
   ]
  },
  {
   "cell_type": "code",
   "execution_count": 13,
   "id": "787752a9",
   "metadata": {
    "execution": {
     "iopub.execute_input": "2022-09-18T05:53:10.161087Z",
     "iopub.status.busy": "2022-09-18T05:53:10.160071Z",
     "iopub.status.idle": "2022-09-18T05:53:10.167611Z",
     "shell.execute_reply": "2022-09-18T05:53:10.166472Z"
    },
    "papermill": {
     "duration": 0.040472,
     "end_time": "2022-09-18T05:53:10.170144",
     "exception": false,
     "start_time": "2022-09-18T05:53:10.129672",
     "status": "completed"
    },
    "tags": []
   },
   "outputs": [
    {
     "name": "stdout",
     "output_type": "stream",
     "text": [
      "New array with int value [1 2 3]\n",
      "Old Data type: float64\n",
      "New data type: int32\n"
     ]
    }
   ],
   "source": [
    "arr = np.array([1.1, 2.1, 3.1])\n",
    "\n",
    "newarr = arr.astype('i')\n",
    "\n",
    "print(\"New array with int value\",newarr)\n",
    "print(\"Old Data type:\",arr.dtype)\n",
    "print(\"New data type:\",newarr.dtype)"
   ]
  },
  {
   "cell_type": "markdown",
   "id": "9104a5ee",
   "metadata": {
    "papermill": {
     "duration": 0.025926,
     "end_time": "2022-09-18T05:53:10.223268",
     "exception": false,
     "start_time": "2022-09-18T05:53:10.197342",
     "status": "completed"
    },
    "tags": []
   },
   "source": [
    "- Change data type from float to integer by using **int as parameter value:**"
   ]
  },
  {
   "cell_type": "code",
   "execution_count": 14,
   "id": "5e329fcd",
   "metadata": {
    "execution": {
     "iopub.execute_input": "2022-09-18T05:53:10.281500Z",
     "iopub.status.busy": "2022-09-18T05:53:10.281088Z",
     "iopub.status.idle": "2022-09-18T05:53:10.288464Z",
     "shell.execute_reply": "2022-09-18T05:53:10.287056Z"
    },
    "papermill": {
     "duration": 0.04094,
     "end_time": "2022-09-18T05:53:10.292175",
     "exception": false,
     "start_time": "2022-09-18T05:53:10.251235",
     "status": "completed"
    },
    "tags": []
   },
   "outputs": [
    {
     "name": "stdout",
     "output_type": "stream",
     "text": [
      "New array with int value [1 2 3]\n",
      "Old Data type: float64\n",
      "New data type: int64\n"
     ]
    }
   ],
   "source": [
    "arr = np.array([1.1, 2.1, 3.1])\n",
    "\n",
    "newarr = arr.astype(int)\n",
    "\n",
    "print(\"New array with int value\",newarr)\n",
    "print(\"Old Data type:\",arr.dtype)\n",
    "print(\"New data type:\",newarr.dtype)"
   ]
  },
  {
   "cell_type": "code",
   "execution_count": 15,
   "id": "0ecba268",
   "metadata": {
    "execution": {
     "iopub.execute_input": "2022-09-18T05:53:10.350084Z",
     "iopub.status.busy": "2022-09-18T05:53:10.349676Z",
     "iopub.status.idle": "2022-09-18T05:53:10.357640Z",
     "shell.execute_reply": "2022-09-18T05:53:10.356226Z"
    },
    "papermill": {
     "duration": 0.039092,
     "end_time": "2022-09-18T05:53:10.360290",
     "exception": false,
     "start_time": "2022-09-18T05:53:10.321198",
     "status": "completed"
    },
    "tags": []
   },
   "outputs": [
    {
     "name": "stdout",
     "output_type": "stream",
     "text": [
      "New array with int value [ True False  True]\n",
      "Old Data type: float64\n",
      "New data type: bool\n"
     ]
    }
   ],
   "source": [
    "arr = np.array([1, 0, 3.1])\n",
    "\n",
    "newarr = arr.astype(bool)\n",
    "\n",
    "print(\"New array with int value\",newarr)\n",
    "print(\"Old Data type:\",arr.dtype)\n",
    "print(\"New data type:\",newarr.dtype)"
   ]
  },
  {
   "cell_type": "code",
   "execution_count": 16,
   "id": "353a13a1",
   "metadata": {
    "execution": {
     "iopub.execute_input": "2022-09-18T05:53:10.419986Z",
     "iopub.status.busy": "2022-09-18T05:53:10.419447Z",
     "iopub.status.idle": "2022-09-18T05:53:10.435274Z",
     "shell.execute_reply": "2022-09-18T05:53:10.433795Z"
    },
    "papermill": {
     "duration": 0.048059,
     "end_time": "2022-09-18T05:53:10.437779",
     "exception": false,
     "start_time": "2022-09-18T05:53:10.389720",
     "status": "completed"
    },
    "tags": []
   },
   "outputs": [
    {
     "name": "stdout",
     "output_type": "stream",
     "text": [
      "Data type of float value array: float64\n",
      "Data type of str value array: <U6\n",
      "Data type of mix value array: <U32\n"
     ]
    }
   ],
   "source": [
    "flaotarr=np.array([1.0,2,3,4])\n",
    "strarr=np.array([\"this\",\"is\",\"bhawan\"])\n",
    "strflaotintarr=np.array([1,2,3.5,\"bhawan\"])\n",
    "\n",
    "print(\"Data type of float value array:\",flaotarr.dtype)\n",
    "print(\"Data type of str value array:\",strarr.dtype)\n",
    "print(\"Data type of mix value array:\",strflaotintarr.dtype)"
   ]
  },
  {
   "cell_type": "markdown",
   "id": "86285c79",
   "metadata": {
    "papermill": {
     "duration": 0.027489,
     "end_time": "2022-09-18T05:53:10.493258",
     "exception": false,
     "start_time": "2022-09-18T05:53:10.465769",
     "status": "completed"
    },
    "tags": []
   },
   "source": [
    "### Use of Ones():\n",
    "- Python numpy.ones() function returns a new array of given shape and data type, where the element’s value is set to 1.\n",
    "\n",
    "- **Syntex:** <H3>ones(shape, dtype=None, order='C')</H3>"
   ]
  },
  {
   "cell_type": "code",
   "execution_count": 17,
   "id": "cf0b7b49",
   "metadata": {
    "execution": {
     "iopub.execute_input": "2022-09-18T05:53:10.549848Z",
     "iopub.status.busy": "2022-09-18T05:53:10.549416Z",
     "iopub.status.idle": "2022-09-18T05:53:10.561562Z",
     "shell.execute_reply": "2022-09-18T05:53:10.559883Z"
    },
    "papermill": {
     "duration": 0.043404,
     "end_time": "2022-09-18T05:53:10.564572",
     "exception": false,
     "start_time": "2022-09-18T05:53:10.521168",
     "status": "completed"
    },
    "tags": []
   },
   "outputs": [
    {
     "name": "stdout",
     "output_type": "stream",
     "text": [
      "Ones array:\n",
      " [[1. 1.]\n",
      " [1. 1.]]\n",
      "\n",
      "#### Change in type of array:\n",
      "\n",
      "Ones array:\n",
      " [[1 1 1 1]\n",
      " [1 1 1 1]\n",
      " [1 1 1 1]\n",
      " [1 1 1 1]]\n",
      "\n",
      "Ones array 3-D\n",
      " [[[1 1 1]\n",
      "  [1 1 1]\n",
      "  [1 1 1]\n",
      "  [1 1 1]]\n",
      "\n",
      " [[1 1 1]\n",
      "  [1 1 1]\n",
      "  [1 1 1]\n",
      "  [1 1 1]]\n",
      "\n",
      " [[1 1 1]\n",
      "  [1 1 1]\n",
      "  [1 1 1]\n",
      "  [1 1 1]]\n",
      "\n",
      " [[1 1 1]\n",
      "  [1 1 1]\n",
      "  [1 1 1]\n",
      "  [1 1 1]]]\n",
      "\n",
      "#### MIX value type of array:\n",
      "\n",
      "Ones array:\n",
      " [[(1, 1.) (1, 1.) (1, 1.)]\n",
      " [(1, 1.) (1, 1.) (1, 1.)]\n",
      " [(1, 1.) (1, 1.) (1, 1.)]]\n"
     ]
    }
   ],
   "source": [
    "onesarr=np.ones((2,2))\n",
    "print(\"Ones array:\\n\",onesarr)\n",
    "\n",
    "############################\n",
    "\n",
    "print(\"\\n#### Change in type of array:\")\n",
    "onesarr=np.ones((4,4),dtype=int)\n",
    "print(\"\\nOnes array:\\n\",onesarr)\n",
    "\n",
    "onesarr=np.ones((4,4,3),dtype=int)\n",
    "print(\"\\nOnes array 3-D\\n\",onesarr)\n",
    "\n",
    "###########################\n",
    "\n",
    "print(\"\\n#### MIX value type of array:\")\n",
    "onesarr=np.ones((3,3),dtype=[('x',int),('y',float)])\n",
    "print(\"\\nOnes array:\\n\",onesarr)\n"
   ]
  },
  {
   "cell_type": "markdown",
   "id": "6d13f02f",
   "metadata": {
    "papermill": {
     "duration": 0.027769,
     "end_time": "2022-09-18T05:53:10.621877",
     "exception": false,
     "start_time": "2022-09-18T05:53:10.594108",
     "status": "completed"
    },
    "tags": []
   },
   "source": [
    "### Use of Zeros():\n",
    "- Return a new array of given shape and type, filled with zeros.\n",
    "\n",
    "- **Syntex:** <H3>numpy.zeros(shape, dtype=float, order='C', *, like=None)\n",
    "</H3>"
   ]
  },
  {
   "cell_type": "code",
   "execution_count": 18,
   "id": "56d419c9",
   "metadata": {
    "execution": {
     "iopub.execute_input": "2022-09-18T05:53:10.679281Z",
     "iopub.status.busy": "2022-09-18T05:53:10.678865Z",
     "iopub.status.idle": "2022-09-18T05:53:10.691667Z",
     "shell.execute_reply": "2022-09-18T05:53:10.689564Z"
    },
    "papermill": {
     "duration": 0.045883,
     "end_time": "2022-09-18T05:53:10.695365",
     "exception": false,
     "start_time": "2022-09-18T05:53:10.649482",
     "status": "completed"
    },
    "tags": []
   },
   "outputs": [
    {
     "name": "stdout",
     "output_type": "stream",
     "text": [
      "Zeros array:\n",
      " [[0. 0. 0.]\n",
      " [0. 0. 0.]\n",
      " [0. 0. 0.]]\n",
      "\n",
      "#### Change in type of array:\n",
      "\n",
      "Zeros array:\n",
      " [[0 0 0 0]\n",
      " [0 0 0 0]\n",
      " [0 0 0 0]\n",
      " [0 0 0 0]]\n",
      "\n",
      "Zeros array 3-D\n",
      " [[[0 0 0]\n",
      "  [0 0 0]\n",
      "  [0 0 0]\n",
      "  [0 0 0]]\n",
      "\n",
      " [[0 0 0]\n",
      "  [0 0 0]\n",
      "  [0 0 0]\n",
      "  [0 0 0]]\n",
      "\n",
      " [[0 0 0]\n",
      "  [0 0 0]\n",
      "  [0 0 0]\n",
      "  [0 0 0]]\n",
      "\n",
      " [[0 0 0]\n",
      "  [0 0 0]\n",
      "  [0 0 0]\n",
      "  [0 0 0]]]\n",
      "\n",
      "#### MIX value type of array:\n",
      "\n",
      "O's array:\n",
      " [[(0, 0.) (0, 0.) (0, 0.)]\n",
      " [(0, 0.) (0, 0.) (0, 0.)]\n",
      " [(0, 0.) (0, 0.) (0, 0.)]]\n"
     ]
    }
   ],
   "source": [
    "zrerosarr=np.zeros((3,3))\n",
    "print(\"Zeros array:\\n\",zrerosarr)\n",
    "\n",
    "############################\n",
    "\n",
    "print(\"\\n#### Change in type of array:\")\n",
    "zrerosarr=np.zeros((4,4),dtype=int)\n",
    "print(\"\\nZeros array:\\n\",zrerosarr)\n",
    "\n",
    "zrerosarr=np.zeros((4,4,3),dtype=int)\n",
    "print(\"\\nZeros array 3-D\\n\",zrerosarr)\n",
    "\n",
    "###########################\n",
    "\n",
    "print(\"\\n#### MIX value type of array:\")\n",
    "zrerosarr=np.zeros((3,3),dtype=[('x',int),('y',float)])\n",
    "print(\"\\nO's array:\\n\",zrerosarr)\n"
   ]
  },
  {
   "cell_type": "markdown",
   "id": "178cfd55",
   "metadata": {
    "papermill": {
     "duration": 0.027984,
     "end_time": "2022-09-18T05:53:10.750411",
     "exception": false,
     "start_time": "2022-09-18T05:53:10.722427",
     "status": "completed"
    },
    "tags": []
   },
   "source": [
    "### Use of empty():\n",
    "-Return a new array of given shape and type, without initializing entries.\n",
    "- **Syntex:** <H3>numpy.empty(shape, dtype=float, order='C', *, like=None)\n",
    "</H3>\n"
   ]
  },
  {
   "cell_type": "code",
   "execution_count": 19,
   "id": "9b93013d",
   "metadata": {
    "execution": {
     "iopub.execute_input": "2022-09-18T05:53:10.804765Z",
     "iopub.status.busy": "2022-09-18T05:53:10.804314Z",
     "iopub.status.idle": "2022-09-18T05:53:10.815461Z",
     "shell.execute_reply": "2022-09-18T05:53:10.813800Z"
    },
    "papermill": {
     "duration": 0.042231,
     "end_time": "2022-09-18T05:53:10.818941",
     "exception": false,
     "start_time": "2022-09-18T05:53:10.776710",
     "status": "completed"
    },
    "tags": []
   },
   "outputs": [
    {
     "name": "stdout",
     "output_type": "stream",
     "text": [
      "Empty array:\n",
      " [[0. 0. 0.]\n",
      " [0. 0. 0.]\n",
      " [0. 0. 0.]]\n",
      "\n",
      "###################################################################################\n",
      "\n",
      "#### Change in type of array:\n",
      "\n",
      " Empty array:\n",
      " [[0 0 0]\n",
      " [0 0 0]\n",
      " [0 0 0]]\n",
      "\n",
      " Empty array 3-D\n",
      " [[[94525290322272              0 10020158701575]\n",
      "  [             0    17179869187              0]\n",
      "  [             0   137438953494              0]]\n",
      "\n",
      " [[             0              0              0]\n",
      "  [             0              0              0]\n",
      "  [             0              0              0]]\n",
      "\n",
      " [[             0              0              0]\n",
      "  [             0 94525298011056 94525298011472]\n",
      "  [94525298011728              0              0]]]\n",
      "\n",
      "###################################################################################\n",
      "\n",
      "#### MIX value type of array:\n",
      "\n",
      " Empty array:\n",
      " [[( 94525298482016, 0.00000000e+000) (139938852465200, 6.91395171e-310)\n",
      "  (139938852466032, 6.91395171e-310)]\n",
      " [(139938852464368, 6.91395171e-310) (139938852465008, 6.91395171e-310)\n",
      "  (139938852465072, 6.91395171e-310)]\n",
      " [(139938852464560, 6.91395171e-310) (139938852466544, 6.91395171e-310)\n",
      "  (139938852466608, 6.91395171e-310)]]\n"
     ]
    }
   ],
   "source": [
    "emptyarr=np.empty((3,3))\n",
    "print(\"Empty array:\\n\",emptyarr)\n",
    "\n",
    "print(\"\\n###################################################################################\")\n",
    "\n",
    "print(\"\\n#### Change in type of array:\")\n",
    "emptyarr=np.empty((3,3),dtype=int)\n",
    "print(\"\\n Empty array:\\n\", emptyarr)\n",
    "\n",
    "emptyarr=np.empty((3,3,3),dtype=int)\n",
    "print(\"\\n Empty array 3-D\\n\", emptyarr)\n",
    "\n",
    "print(\"\\n###################################################################################\")\n",
    "\n",
    "print(\"\\n#### MIX value type of array:\")\n",
    "emptyarr=np.empty((3,3),dtype=[('x',int),('y',float)])\n",
    "print(\"\\n Empty array:\\n\",emptyarr)\n"
   ]
  },
  {
   "cell_type": "markdown",
   "id": "de10633d",
   "metadata": {
    "papermill": {
     "duration": 0.026544,
     "end_time": "2022-09-18T05:53:10.874159",
     "exception": false,
     "start_time": "2022-09-18T05:53:10.847615",
     "status": "completed"
    },
    "tags": []
   },
   "source": [
    "### Use of empty_like():\n",
    "- Return a new array with the same shape and type as a given array.\n",
    "- **Syntex:** <H3>numpy.empty_like(prototype, dtype=None, order='K', subok=True, shape=None)\n",
    "</H3>\n"
   ]
  },
  {
   "cell_type": "code",
   "execution_count": 20,
   "id": "7cb07305",
   "metadata": {
    "execution": {
     "iopub.execute_input": "2022-09-18T05:53:10.930103Z",
     "iopub.status.busy": "2022-09-18T05:53:10.929687Z",
     "iopub.status.idle": "2022-09-18T05:53:10.943421Z",
     "shell.execute_reply": "2022-09-18T05:53:10.941853Z"
    },
    "papermill": {
     "duration": 0.046645,
     "end_time": "2022-09-18T05:53:10.946815",
     "exception": false,
     "start_time": "2022-09-18T05:53:10.900170",
     "status": "completed"
    },
    "tags": []
   },
   "outputs": [
    {
     "name": "stdout",
     "output_type": "stream",
     "text": [
      "Empty array:\n",
      " [[1 2 3 4]\n",
      " [1 2 3 4]\n",
      " [1 2 3 4]]\n",
      "\n",
      " Type of empty_like: int64\n",
      "\n",
      "###################################################################################\n",
      "\n",
      "#### Change in type of array:\n",
      "\n",
      " Empty array:\n",
      " [[4.67017033e-310 0.00000000e+000 0.00000000e+000 0.00000000e+000]\n",
      " [6.91388669e-310 1.03096699e-071 4.51391626e-037 1.17633635e-047]\n",
      " [3.75935878e+179 9.84937631e+165 4.04736679e-037 7.87487455e-071]]\n",
      "\n",
      "###################################################################################\n",
      "\n",
      "#### MIX value type of array:\n",
      "\n",
      " Empty array:\n",
      " [[(4596373779694328218, 0.2 ) (4603579539098121011, 1.  )\n",
      "  (                  0, 0.6 ) (4607182418800017408, 1.  )]\n",
      " [(                  0, 0.8 ) (4600877379321698714, 1.  )\n",
      "  (4607182418800017408, 1.  ) (4603579539098121011, 1.  )]\n",
      " [(4602678819172646912, 0.36) (4599616371426034975, 1.  )\n",
      "  (4607182418800017408, 1.  ) (4607182418800017408, 1.  )]]\n",
      "\n",
      "###################################################################################\n",
      "\n",
      "#### Change in Subok and Shape:\n",
      "\n",
      " Empty array:\n",
      " [[0.2  1.   0.6 ]\n",
      " [1.   0.8  1.  ]\n",
      " [1.   1.   0.36]\n",
      " [1.   1.   1.  ]]\n"
     ]
    }
   ],
   "source": [
    "arr2d=np.array([[1,2,3,4],\n",
    "                [1,2,3,4],\n",
    "                [1,2,3,4],\n",
    "               ])\n",
    "\n",
    "emptyarr_like=np.empty_like(arr2d)\n",
    "print(\"Empty array:\\n\",emptyarr_like)\n",
    "\n",
    "print(\"\\n Type of empty_like:\",emptyarr_like.dtype)\n",
    "\n",
    "print(\"\\n###################################################################################\")\n",
    "\n",
    "print(\"\\n#### Change in type of array:\")\n",
    "emptyarr_like=np.empty_like(arr2d,dtype=float)\n",
    "print(\"\\n Empty array:\\n\", emptyarr_like)\n",
    "\n",
    "print(\"\\n###################################################################################\")\n",
    "\n",
    "print(\"\\n#### MIX value type of array:\")\n",
    "emptyarr_like=np.empty_like(arr2d,dtype=[(\"x\",int),(\"y\",float)])\n",
    "print(\"\\n Empty array:\\n\",emptyarr_like)\n",
    "\n",
    "print(\"\\n###################################################################################\")\n",
    "\n",
    "print(\"\\n#### Change in Subok and Shape:\")\n",
    "\n",
    "emptyarr_like=np.empty_like(arr2d,dtype=float,subok=False,shape=(4,3))\n",
    "print(\"\\n Empty array:\\n\", emptyarr_like)"
   ]
  },
  {
   "cell_type": "markdown",
   "id": "5ae4ddbe",
   "metadata": {
    "papermill": {
     "duration": 0.028271,
     "end_time": "2022-09-18T05:53:11.002590",
     "exception": false,
     "start_time": "2022-09-18T05:53:10.974319",
     "status": "completed"
    },
    "tags": []
   },
   "source": [
    "### Use of full():\n",
    "- Return a new array of given shape and type, filled with fill_value.\n",
    "- **Syntex:** <H3>numpy.full(shape, fill_value, dtype=None, order='C', *, like=None)</H3>"
   ]
  },
  {
   "cell_type": "code",
   "execution_count": 21,
   "id": "8119ff24",
   "metadata": {
    "execution": {
     "iopub.execute_input": "2022-09-18T05:53:11.060695Z",
     "iopub.status.busy": "2022-09-18T05:53:11.059859Z",
     "iopub.status.idle": "2022-09-18T05:53:11.071670Z",
     "shell.execute_reply": "2022-09-18T05:53:11.070125Z"
    },
    "papermill": {
     "duration": 0.044228,
     "end_time": "2022-09-18T05:53:11.074207",
     "exception": false,
     "start_time": "2022-09-18T05:53:11.029979",
     "status": "completed"
    },
    "tags": []
   },
   "outputs": [
    {
     "name": "stdout",
     "output_type": "stream",
     "text": [
      "Empty array:\n",
      " [[4 4 4]\n",
      " [4 4 4]\n",
      " [4 4 4]]\n",
      "\n",
      "###################################################################################\n",
      "\n",
      "#### Change in type of array:\n",
      "\n",
      " Empty array:\n",
      " [[4 4 4]\n",
      " [4 4 4]\n",
      " [4 4 4]]\n",
      "\n",
      " Empty array 3-D\n",
      " [[[4 4 4]\n",
      "  [4 4 4]\n",
      "  [4 4 4]]\n",
      "\n",
      " [[4 4 4]\n",
      "  [4 4 4]\n",
      "  [4 4 4]]\n",
      "\n",
      " [[4 4 4]\n",
      "  [4 4 4]\n",
      "  [4 4 4]]]\n",
      "\n",
      "###################################################################################\n",
      "\n",
      "#### MIX value type of array:\n",
      "\n",
      " Empty array:\n",
      " [[(4, 4.) (4, 4.) (4, 4.)]\n",
      " [(4, 4.) (4, 4.) (4, 4.)]\n",
      " [(4, 4.) (4, 4.) (4, 4.)]]\n"
     ]
    }
   ],
   "source": [
    "fullarr=np.full((3,3),4)\n",
    "print(\"Empty array:\\n\",fullarr)\n",
    "\n",
    "print(\"\\n###################################################################################\")\n",
    "\n",
    "print(\"\\n#### Change in type of array:\")\n",
    "fullarr=np.full((3,3),4,dtype=int)\n",
    "print(\"\\n Empty array:\\n\", fullarr)\n",
    "\n",
    "fullarr=np.full((3,3,3),4,dtype=int)\n",
    "print(\"\\n Empty array 3-D\\n\", fullarr)\n",
    "\n",
    "print(\"\\n###################################################################################\")\n",
    "\n",
    "print(\"\\n#### MIX value type of array:\")\n",
    "fullarr=np.full((3,3),4,dtype=[('x',int),('y',float)])\n",
    "print(\"\\n Empty array:\\n\",fullarr)\n"
   ]
  },
  {
   "cell_type": "markdown",
   "id": "4ba3af73",
   "metadata": {
    "papermill": {
     "duration": 0.025457,
     "end_time": "2022-09-18T05:53:11.126427",
     "exception": false,
     "start_time": "2022-09-18T05:53:11.100970",
     "status": "completed"
    },
    "tags": []
   },
   "source": [
    "### Example of 'order' parameter in all of above practise:\n",
    "\n",
    "- Whether to store multi-dimensional data in row-major (C-style) or column-major (Fortran-style) order in memory."
   ]
  },
  {
   "cell_type": "code",
   "execution_count": 22,
   "id": "e3697a42",
   "metadata": {
    "execution": {
     "iopub.execute_input": "2022-09-18T05:53:11.184149Z",
     "iopub.status.busy": "2022-09-18T05:53:11.183306Z",
     "iopub.status.idle": "2022-09-18T05:53:11.192376Z",
     "shell.execute_reply": "2022-09-18T05:53:11.190877Z"
    },
    "papermill": {
     "duration": 0.042538,
     "end_time": "2022-09-18T05:53:11.195600",
     "exception": false,
     "start_time": "2022-09-18T05:53:11.153062",
     "status": "completed"
    },
    "tags": []
   },
   "outputs": [
    {
     "name": "stdout",
     "output_type": "stream",
     "text": [
      "Example of order:\n",
      "[[0 1 2]\n",
      " [3 4 5]\n",
      " [6 7 8]] It give's 'True' if fortran:- False\n",
      "[[0 3 6]\n",
      " [1 4 7]\n",
      " [2 5 8]] It give's 'True' if fortran:- True\n"
     ]
    }
   ],
   "source": [
    "print(\"Example of order:\")\n",
    "x=np.reshape(np.arange(9),newshape=(3,3))\n",
    "print(x,\"It give's 'True' if fortran:-\",np.isfortran(x))\n",
    "y=np.reshape(np.arange(9),newshape=(3,3),order='F')\n",
    "print(y,\"It give's 'True' if fortran:-\",np.isfortran(y))"
   ]
  },
  {
   "cell_type": "code",
   "execution_count": 23,
   "id": "fc6440c9",
   "metadata": {
    "execution": {
     "iopub.execute_input": "2022-09-18T05:53:11.252690Z",
     "iopub.status.busy": "2022-09-18T05:53:11.251959Z",
     "iopub.status.idle": "2022-09-18T05:53:11.259848Z",
     "shell.execute_reply": "2022-09-18T05:53:11.257890Z"
    },
    "papermill": {
     "duration": 0.037971,
     "end_time": "2022-09-18T05:53:11.262491",
     "exception": false,
     "start_time": "2022-09-18T05:53:11.224520",
     "status": "completed"
    },
    "tags": []
   },
   "outputs": [
    {
     "name": "stdout",
     "output_type": "stream",
     "text": [
      "[[1 2 3]\n",
      " [4 5 6]] False\n",
      "\n",
      " [[1 4]\n",
      " [2 5]\n",
      " [3 6]] True\n"
     ]
    }
   ],
   "source": [
    "a = np.array([[1, 2, 3], [4, 5, 6]], order='C')\n",
    "print(a,np.isfortran(a))\n",
    "\n",
    "b = a.T\n",
    "print(\"\\n\",b,np.isfortran(b))"
   ]
  },
  {
   "cell_type": "markdown",
   "id": "f822383a",
   "metadata": {
    "papermill": {
     "duration": 0.027734,
     "end_time": "2022-09-18T05:53:11.316411",
     "exception": false,
     "start_time": "2022-09-18T05:53:11.288677",
     "status": "completed"
    },
    "tags": []
   },
   "source": [
    "### Use of arrange():\n",
    "- Return evenly spaced values within a given interval.\n",
    "- **Syntex:** <H3>numpy.arange([start, ]stop, [step, ]dtype=None, *, like=None)</H3>\n",
    "\n",
    "arange can be called with a varying number of positional arguments:\n",
    "\n",
    "- **arange(stop):** Values are generated within the half-open interval **[0, stop)** (in other words, the interval including start but excluding stop).\n",
    "\n",
    "- **arange(start, stop):** Values are generated within the half-open interval .**[start, stop).**\n",
    "\n",
    "- **arange(start, stop, step)** Values are generated within the half-open interval **[start, stop)**, with spacing between values given by step.\n",
    "\n",
    "For integer arguments the function is roughly equivalent to the Python built-in range, but returns an ndarray rather than a range instance.\n",
    "\n",
    "- When using a non-integer step, such as 0.1, it is often better to use numpy.linspace."
   ]
  },
  {
   "cell_type": "code",
   "execution_count": 24,
   "id": "5aa7317a",
   "metadata": {
    "execution": {
     "iopub.execute_input": "2022-09-18T05:53:11.371655Z",
     "iopub.status.busy": "2022-09-18T05:53:11.370915Z",
     "iopub.status.idle": "2022-09-18T05:53:11.376938Z",
     "shell.execute_reply": "2022-09-18T05:53:11.375728Z"
    },
    "papermill": {
     "duration": 0.036594,
     "end_time": "2022-09-18T05:53:11.379418",
     "exception": false,
     "start_time": "2022-09-18T05:53:11.342824",
     "status": "completed"
    },
    "tags": []
   },
   "outputs": [
    {
     "name": "stdout",
     "output_type": "stream",
     "text": [
      "Array with evenly speced no. [0 1 2 3 4 5 6 7 8]\n"
     ]
    }
   ],
   "source": [
    "Arange=np.arange(9)\n",
    "print(\"Array with evenly speced no.\",Arange)"
   ]
  },
  {
   "cell_type": "markdown",
   "id": "760285c5",
   "metadata": {
    "papermill": {
     "duration": 0.026775,
     "end_time": "2022-09-18T05:53:11.433140",
     "exception": false,
     "start_time": "2022-09-18T05:53:11.406365",
     "status": "completed"
    },
    "tags": []
   },
   "source": [
    "- giving start,stop and step value\n",
    "![](https://files.realpython.com/media/fig-1.1d8bc9379e87.png)"
   ]
  },
  {
   "cell_type": "code",
   "execution_count": 25,
   "id": "8bd96f78",
   "metadata": {
    "execution": {
     "iopub.execute_input": "2022-09-18T05:53:11.489699Z",
     "iopub.status.busy": "2022-09-18T05:53:11.489185Z",
     "iopub.status.idle": "2022-09-18T05:53:11.498871Z",
     "shell.execute_reply": "2022-09-18T05:53:11.497706Z"
    },
    "papermill": {
     "duration": 0.04041,
     "end_time": "2022-09-18T05:53:11.501069",
     "exception": false,
     "start_time": "2022-09-18T05:53:11.460659",
     "status": "completed"
    },
    "tags": []
   },
   "outputs": [
    {
     "name": "stdout",
     "output_type": "stream",
     "text": [
      "Array with step value 3(difference is 3): [1 4 7]\n",
      "[1 4 7]\n",
      "[-9 -8 -7 -6 -5 -4 -3 -2]\n",
      "[-9 -7 -5 -3 -1]\n",
      "[9 8 7 6 5 4 3 2]\n",
      "[] Length of array is: 0\n",
      "[]\n"
     ]
    }
   ],
   "source": [
    "Arrange=np.arange(start=1, stop=10, step=3)\n",
    "print(\"Array with step value 3(difference is 3):\",Arrange)\n",
    "\n",
    "Arrange=np.arange(1,10,3)\n",
    "print(Arrange)\n",
    "\n",
    "Arrange=np.arange(-9,-1,1)\n",
    "print(Arrange)\n",
    "\n",
    "Arrange=np.arange(-9,1,2)\n",
    "print(Arrange)\n",
    "\n",
    "Arrange=np.arange(9,1,-1)\n",
    "print(Arrange)\n",
    "\n",
    "##### IT WONT WORK WHEN WE USE DIFFRENT WAY LIKE (Give Empty array)\n",
    "Arrange=np.arange(19,1)\n",
    "print(Arrange,\"Length of array is:\",len(Arrange))\n",
    "\n",
    "Arrange=np.arange(1,9,-2)\n",
    "print(Arrange)\n"
   ]
  },
  {
   "cell_type": "code",
   "execution_count": 26,
   "id": "07eb3c68",
   "metadata": {
    "execution": {
     "iopub.execute_input": "2022-09-18T05:53:11.557174Z",
     "iopub.status.busy": "2022-09-18T05:53:11.556469Z",
     "iopub.status.idle": "2022-09-18T05:53:11.562656Z",
     "shell.execute_reply": "2022-09-18T05:53:11.561867Z"
    },
    "papermill": {
     "duration": 0.037667,
     "end_time": "2022-09-18T05:53:11.565201",
     "exception": false,
     "start_time": "2022-09-18T05:53:11.527534",
     "status": "completed"
    },
    "tags": []
   },
   "outputs": [
    {
     "name": "stdout",
     "output_type": "stream",
     "text": [
      "Array with step value 3(difference is 3) & data type as float: [1. 4. 7.]\n"
     ]
    }
   ],
   "source": [
    "Arrange=np.arange(start=1, stop=10, step=3,dtype=float)\n",
    "print(\"Array with step value 3(difference is 3) & data type as float:\",Arrange)"
   ]
  },
  {
   "cell_type": "code",
   "execution_count": 27,
   "id": "798d8592",
   "metadata": {
    "execution": {
     "iopub.execute_input": "2022-09-18T05:53:11.622446Z",
     "iopub.status.busy": "2022-09-18T05:53:11.621729Z",
     "iopub.status.idle": "2022-09-18T05:53:11.628106Z",
     "shell.execute_reply": "2022-09-18T05:53:11.626552Z"
    },
    "papermill": {
     "duration": 0.038782,
     "end_time": "2022-09-18T05:53:11.631053",
     "exception": false,
     "start_time": "2022-09-18T05:53:11.592271",
     "status": "completed"
    },
    "tags": []
   },
   "outputs": [
    {
     "name": "stdout",
     "output_type": "stream",
     "text": [
      "[ 0  1  2  3  4  5  6  7  8  9 10 11 12 13 14 15 16 17 18 19 20 21 22 23]\n"
     ]
    }
   ],
   "source": [
    "Arrange=np.arange(stop=24)\n",
    "print(Arrange)"
   ]
  },
  {
   "cell_type": "markdown",
   "id": "dd715d9b",
   "metadata": {
    "papermill": {
     "duration": 0.02685,
     "end_time": "2022-09-18T05:53:11.684665",
     "exception": false,
     "start_time": "2022-09-18T05:53:11.657815",
     "status": "completed"
    },
    "tags": []
   },
   "source": [
    "***\n",
    "### Use of numpy.ndarray.itemsize\n",
    "- Length of one array element in bytes.\n",
    "- **Syntex:** <H4>ndarray.itemsize</H4>\n",
    "\n",
    "***"
   ]
  },
  {
   "cell_type": "code",
   "execution_count": 28,
   "id": "47089e90",
   "metadata": {
    "execution": {
     "iopub.execute_input": "2022-09-18T05:53:11.741188Z",
     "iopub.status.busy": "2022-09-18T05:53:11.739895Z",
     "iopub.status.idle": "2022-09-18T05:53:11.746799Z",
     "shell.execute_reply": "2022-09-18T05:53:11.745171Z"
    },
    "papermill": {
     "duration": 0.038532,
     "end_time": "2022-09-18T05:53:11.750182",
     "exception": false,
     "start_time": "2022-09-18T05:53:11.711650",
     "status": "completed"
    },
    "tags": []
   },
   "outputs": [
    {
     "name": "stdout",
     "output_type": "stream",
     "text": [
      "int64\n",
      "8\n"
     ]
    }
   ],
   "source": [
    "print(Arrange.dtype)\n",
    "print(Arrange.itemsize ) # In bytes"
   ]
  },
  {
   "cell_type": "markdown",
   "id": "763f3479",
   "metadata": {
    "papermill": {
     "duration": 0.027386,
     "end_time": "2022-09-18T05:53:11.804720",
     "exception": false,
     "start_time": "2022-09-18T05:53:11.777334",
     "status": "completed"
    },
    "tags": []
   },
   "source": [
    "### Use of np.linspace():\n",
    "- Return evenly spaced numbers over a specified interval.\n",
    "\n",
    "- Returns num evenly spaced samples, calculated over the interval [start, stop].\n",
    "\n",
    "- The endpoint of the interval can optionally be excluded.\n",
    "- **Syntex:** <H4>numpy.linspace(start, stop, num=50, endpoint=True, retstep=False, dtype=None, axis=0)[source]</H4>"
   ]
  },
  {
   "cell_type": "code",
   "execution_count": 29,
   "id": "ae86ae74",
   "metadata": {
    "execution": {
     "iopub.execute_input": "2022-09-18T05:53:11.865502Z",
     "iopub.status.busy": "2022-09-18T05:53:11.864787Z",
     "iopub.status.idle": "2022-09-18T05:53:11.871690Z",
     "shell.execute_reply": "2022-09-18T05:53:11.870413Z"
    },
    "papermill": {
     "duration": 0.039243,
     "end_time": "2022-09-18T05:53:11.874395",
     "exception": false,
     "start_time": "2022-09-18T05:53:11.835152",
     "status": "completed"
    },
    "tags": []
   },
   "outputs": [
    {
     "name": "stdout",
     "output_type": "stream",
     "text": [
      "[ 1.          1.18367347  1.36734694  1.55102041  1.73469388  1.91836735\n",
      "  2.10204082  2.28571429  2.46938776  2.65306122  2.83673469  3.02040816\n",
      "  3.20408163  3.3877551   3.57142857  3.75510204  3.93877551  4.12244898\n",
      "  4.30612245  4.48979592  4.67346939  4.85714286  5.04081633  5.2244898\n",
      "  5.40816327  5.59183673  5.7755102   5.95918367  6.14285714  6.32653061\n",
      "  6.51020408  6.69387755  6.87755102  7.06122449  7.24489796  7.42857143\n",
      "  7.6122449   7.79591837  7.97959184  8.16326531  8.34693878  8.53061224\n",
      "  8.71428571  8.89795918  9.08163265  9.26530612  9.44897959  9.63265306\n",
      "  9.81632653 10.        ]\n"
     ]
    }
   ],
   "source": [
    "linspace=np.linspace(1,10) #default is 50 that's why 50 no.\n",
    "print(linspace)"
   ]
  },
  {
   "cell_type": "code",
   "execution_count": 30,
   "id": "b2432dbc",
   "metadata": {
    "execution": {
     "iopub.execute_input": "2022-09-18T05:53:11.932640Z",
     "iopub.status.busy": "2022-09-18T05:53:11.932083Z",
     "iopub.status.idle": "2022-09-18T05:53:11.939879Z",
     "shell.execute_reply": "2022-09-18T05:53:11.938458Z"
    },
    "papermill": {
     "duration": 0.041246,
     "end_time": "2022-09-18T05:53:11.942618",
     "exception": false,
     "start_time": "2022-09-18T05:53:11.901372",
     "status": "completed"
    },
    "tags": []
   },
   "outputs": [
    {
     "name": "stdout",
     "output_type": "stream",
     "text": [
      "[ 1.   1.9  2.8  3.7  4.6  5.5  6.4  7.3  8.2  9.1 10. ]\n"
     ]
    }
   ],
   "source": [
    "linspace=np.linspace(1,10,11) #evenly spaced no. total 11.\n",
    "print(linspace)"
   ]
  },
  {
   "cell_type": "code",
   "execution_count": 31,
   "id": "d8f574e6",
   "metadata": {
    "execution": {
     "iopub.execute_input": "2022-09-18T05:53:12.003703Z",
     "iopub.status.busy": "2022-09-18T05:53:12.003241Z",
     "iopub.status.idle": "2022-09-18T05:53:12.011096Z",
     "shell.execute_reply": "2022-09-18T05:53:12.009200Z"
    },
    "papermill": {
     "duration": 0.041603,
     "end_time": "2022-09-18T05:53:12.014226",
     "exception": false,
     "start_time": "2022-09-18T05:53:11.972623",
     "status": "completed"
    },
    "tags": []
   },
   "outputs": [
    {
     "name": "stdout",
     "output_type": "stream",
     "text": [
      "[1.         1.81818182 2.63636364 3.45454545 4.27272727 5.09090909\n",
      " 5.90909091 6.72727273 7.54545455 8.36363636 9.18181818]\n"
     ]
    }
   ],
   "source": [
    "linspace=np.linspace(1,10,11,endpoint=False) #Did not include last 10 number.\n",
    "print(linspace)"
   ]
  },
  {
   "cell_type": "code",
   "execution_count": 32,
   "id": "88190c70",
   "metadata": {
    "execution": {
     "iopub.execute_input": "2022-09-18T05:53:12.071324Z",
     "iopub.status.busy": "2022-09-18T05:53:12.070899Z",
     "iopub.status.idle": "2022-09-18T05:53:12.081179Z",
     "shell.execute_reply": "2022-09-18T05:53:12.079867Z"
    },
    "papermill": {
     "duration": 0.042624,
     "end_time": "2022-09-18T05:53:12.084760",
     "exception": false,
     "start_time": "2022-09-18T05:53:12.042136",
     "status": "completed"
    },
    "tags": []
   },
   "outputs": [
    {
     "name": "stdout",
     "output_type": "stream",
     "text": [
      "[ 1.   2.8  4.6  6.4  8.2 10. ]\n",
      "Give the step also:\n",
      "(array([ 1. ,  2.8,  4.6,  6.4,  8.2, 10. ]), 1.8)\n",
      "(array([1. , 2.5, 4. , 5.5, 7. , 8.5]), 1.5)\n",
      "(array([ 1,  2,  4,  6,  8, 10]), 1.8)\n",
      "(array([ 1,  2,  4,  6,  8, 10]), 1.8)\n"
     ]
    }
   ],
   "source": [
    "linspace=np.linspace(1,10,6) #evenly spaced no. total 11.\n",
    "print(linspace)\n",
    "\n",
    "print(\"Give the step also:\")\n",
    "linspace=np.linspace(1,10,6,retstep=True) #Default is False\n",
    "print(linspace)\n",
    "\n",
    "linspace=np.linspace(1,10,6,endpoint=False,retstep=True) #with endpoint\n",
    "print(linspace)\n",
    "\n",
    "linspace=np.linspace(1,10,6,retstep=True,dtype=int) #with data type\n",
    "print(linspace)\n",
    "\n",
    "linspace=np.linspace(1,10,6,retstep=True,dtype=int,axis=0) #with data type\n",
    "print(linspace)"
   ]
  },
  {
   "cell_type": "code",
   "execution_count": 33,
   "id": "ab7a89d1",
   "metadata": {
    "execution": {
     "iopub.execute_input": "2022-09-18T05:53:12.144275Z",
     "iopub.status.busy": "2022-09-18T05:53:12.143423Z",
     "iopub.status.idle": "2022-09-18T05:53:12.150347Z",
     "shell.execute_reply": "2022-09-18T05:53:12.149044Z"
    },
    "papermill": {
     "duration": 0.038843,
     "end_time": "2022-09-18T05:53:12.152967",
     "exception": false,
     "start_time": "2022-09-18T05:53:12.114124",
     "status": "completed"
    },
    "tags": []
   },
   "outputs": [
    {
     "name": "stdout",
     "output_type": "stream",
     "text": [
      "[ 1  2  4  6  8 10]\n",
      "1.8\n"
     ]
    }
   ],
   "source": [
    "linspace,step=np.linspace(1,10,6,retstep=True,dtype=int) #we store step differently\n",
    "print(linspace)\n",
    "print(step)"
   ]
  },
  {
   "cell_type": "markdown",
   "id": "96a476af",
   "metadata": {
    "papermill": {
     "duration": 0.028853,
     "end_time": "2022-09-18T05:53:12.210635",
     "exception": false,
     "start_time": "2022-09-18T05:53:12.181782",
     "status": "completed"
    },
    "tags": []
   },
   "source": [
    "### Nonscalar Values for Higher-Dimensional Arrays\n",
    "\n",
    "- Axis: This parameter is used only with nonscalar start and stop values. It determines the axis along which the results are stored."
   ]
  },
  {
   "cell_type": "code",
   "execution_count": 34,
   "id": "fe6ee8bd",
   "metadata": {
    "execution": {
     "iopub.execute_input": "2022-09-18T05:53:12.272805Z",
     "iopub.status.busy": "2022-09-18T05:53:12.272319Z",
     "iopub.status.idle": "2022-09-18T05:53:12.282380Z",
     "shell.execute_reply": "2022-09-18T05:53:12.281032Z"
    },
    "papermill": {
     "duration": 0.043854,
     "end_time": "2022-09-18T05:53:12.285888",
     "exception": false,
     "start_time": "2022-09-18T05:53:12.242034",
     "status": "completed"
    },
    "tags": []
   },
   "outputs": [
    {
     "name": "stdout",
     "output_type": "stream",
     "text": [
      "[[  2.    5.    9. ]\n",
      " [ 21.6  30.   39.2]\n",
      " [ 41.2  55.   69.4]\n",
      " [ 60.8  80.   99.6]\n",
      " [ 80.4 105.  129.8]\n",
      " [100.  130.  160. ]]\n",
      "\n",
      "Shepe of this array: (6, 3)\n",
      "\n",
      " Element of array:(at postion:0) [2. 5. 9.]\n",
      "\n",
      " Element of array:(at postion:1) [21.6 30.  39.2]\n",
      "\n",
      " Element of array:(at postion:2) [41.2 55.  69.4]\n",
      "\n",
      " Element of array:(at postion:0,1) 5.0\n",
      "\n",
      " Element of array:(at postion:1,1) 30.0\n",
      "\n",
      " Element of array:(at postion:2,2) 69.4\n"
     ]
    }
   ],
   "source": [
    "output = np.linspace(start=[2, 5, 9], stop=[100, 130, 160], num=6)\n",
    "print(output)\n",
    "\n",
    "print(\"\\nShepe of this array:\",output.shape)\n",
    "\n",
    "print(\"\\n Element of array:(at postion:0)\",output[0])\n",
    "print(\"\\n Element of array:(at postion:1)\",output[1])\n",
    "print(\"\\n Element of array:(at postion:2)\",output[2])\n",
    "\n",
    "print(\"\\n Element of array:(at postion:0,1)\",output[0][1])\n",
    "print(\"\\n Element of array:(at postion:1,1)\",output[1][1])\n",
    "print(\"\\n Element of array:(at postion:2,2)\",output[2][2])"
   ]
  },
  {
   "cell_type": "code",
   "execution_count": 35,
   "id": "6f736409",
   "metadata": {
    "execution": {
     "iopub.execute_input": "2022-09-18T05:53:12.348367Z",
     "iopub.status.busy": "2022-09-18T05:53:12.346590Z",
     "iopub.status.idle": "2022-09-18T05:53:12.359933Z",
     "shell.execute_reply": "2022-09-18T05:53:12.358103Z"
    },
    "papermill": {
     "duration": 0.051155,
     "end_time": "2022-09-18T05:53:12.365103",
     "exception": false,
     "start_time": "2022-09-18T05:53:12.313948",
     "status": "completed"
    },
    "tags": []
   },
   "outputs": [
    {
     "name": "stdout",
     "output_type": "stream",
     "text": [
      "[[  2.   21.6  41.2  60.8  80.4 100. ]\n",
      " [  5.   30.   55.   80.  105.  130. ]\n",
      " [  9.   39.2  69.4  99.6 129.8 160. ]]\n",
      "\n",
      "Shepe of this array: (3, 6)\n",
      "\n",
      " Element of array:(at postion:0) [  2.   21.6  41.2  60.8  80.4 100. ]\n",
      "\n",
      " Element of array:(at postion:1) [  5.  30.  55.  80. 105. 130.]\n",
      "\n",
      " Element of array:(at postion:2) [  9.   39.2  69.4  99.6 129.8 160. ]\n",
      "\n",
      " Element of array:(at postion:0,1) 21.6\n",
      "\n",
      " Element of array:(at postion:1,1) 30.0\n",
      "\n",
      " Element of array:(at postion:2,2) 69.4\n"
     ]
    }
   ],
   "source": [
    "output = np.linspace(start=[2, 5, 9],stop=[100, 130, 160],num=6,axis=1) #default axis is 0\n",
    "print(output)\n",
    "\n",
    "print(\"\\nShepe of this array:\",output.shape)\n",
    "\n",
    "print(\"\\n Element of array:(at postion:0)\",output[0])\n",
    "print(\"\\n Element of array:(at postion:1)\",output[1])\n",
    "print(\"\\n Element of array:(at postion:2)\",output[2])\n",
    "\n",
    "print(\"\\n Element of array:(at postion:0,1)\",output[0][1])\n",
    "print(\"\\n Element of array:(at postion:1,1)\",output[1][1])\n",
    "print(\"\\n Element of array:(at postion:2,2)\",output[2][2])"
   ]
  },
  {
   "cell_type": "markdown",
   "id": "3e5f3211",
   "metadata": {
    "papermill": {
     "duration": 0.026613,
     "end_time": "2022-09-18T05:53:12.419194",
     "exception": false,
     "start_time": "2022-09-18T05:53:12.392581",
     "status": "completed"
    },
    "tags": []
   },
   "source": [
    "#### Mathematical Functions With np.linspace()"
   ]
  },
  {
   "cell_type": "code",
   "execution_count": 36,
   "id": "c1159eb7",
   "metadata": {
    "execution": {
     "iopub.execute_input": "2022-09-18T05:53:12.479555Z",
     "iopub.status.busy": "2022-09-18T05:53:12.478831Z",
     "iopub.status.idle": "2022-09-18T05:53:12.488854Z",
     "shell.execute_reply": "2022-09-18T05:53:12.487202Z"
    },
    "papermill": {
     "duration": 0.043801,
     "end_time": "2022-09-18T05:53:12.492164",
     "exception": false,
     "start_time": "2022-09-18T05:53:12.448363",
     "status": "completed"
    },
    "tags": []
   },
   "outputs": [
    {
     "name": "stdout",
     "output_type": "stream",
     "text": [
      "X-Value\n",
      "\n",
      " [-100.          -97.97979798  -95.95959596  -93.93939394  -91.91919192\n",
      "  -89.8989899   -87.87878788  -85.85858586  -83.83838384  -81.81818182\n",
      "  -79.7979798   -77.77777778  -75.75757576  -73.73737374  -71.71717172\n",
      "  -69.6969697   -67.67676768  -65.65656566  -63.63636364  -61.61616162\n",
      "  -59.5959596   -57.57575758  -55.55555556  -53.53535354  -51.51515152\n",
      "  -49.49494949  -47.47474747  -45.45454545  -43.43434343  -41.41414141\n",
      "  -39.39393939  -37.37373737  -35.35353535  -33.33333333  -31.31313131\n",
      "  -29.29292929  -27.27272727  -25.25252525  -23.23232323  -21.21212121\n",
      "  -19.19191919  -17.17171717  -15.15151515  -13.13131313  -11.11111111\n",
      "   -9.09090909   -7.07070707   -5.05050505   -3.03030303   -1.01010101\n",
      "    1.01010101    3.03030303    5.05050505    7.07070707    9.09090909\n",
      "   11.11111111   13.13131313   15.15151515   17.17171717   19.19191919\n",
      "   21.21212121   23.23232323   25.25252525   27.27272727   29.29292929\n",
      "   31.31313131   33.33333333   35.35353535   37.37373737   39.39393939\n",
      "   41.41414141   43.43434343   45.45454545   47.47474747   49.49494949\n",
      "   51.51515152   53.53535354   55.55555556   57.57575758   59.5959596\n",
      "   61.61616162   63.63636364   65.65656566   67.67676768   69.6969697\n",
      "   71.71717172   73.73737374   75.75757576   77.77777778   79.7979798\n",
      "   81.81818182   83.83838384   85.85858586   87.87878788   89.8989899\n",
      "   91.91919192   93.93939394   95.95959596   97.97979798  100.        ] \n",
      "\n",
      "\n",
      "Y-Value\n",
      "\n",
      " [-3.98050000e+06 -3.74373005e+06 -3.51654083e+06 -3.29873444e+06\n",
      " -3.09011301e+06 -2.89047867e+06 -2.69963354e+06 -2.51737974e+06\n",
      " -2.34351939e+06 -2.17785462e+06 -2.02018755e+06 -1.87032030e+06\n",
      " -1.72805500e+06 -1.59319376e+06 -1.46553872e+06 -1.34489199e+06\n",
      " -1.23105570e+06 -1.12383197e+06 -1.02302292e+06 -9.28430670e+05\n",
      " -8.39857353e+05 -7.57105087e+05 -6.79975995e+05 -6.08272199e+05\n",
      " -5.41795823e+05 -4.80348990e+05 -4.23733822e+05 -3.71752442e+05\n",
      " -3.24206973e+05 -2.80899538e+05 -2.41632259e+05 -2.06207260e+05\n",
      " -1.74426664e+05 -1.46092593e+05 -1.21007169e+05 -9.89725172e+04\n",
      " -7.97907588e+04 -6.32640171e+04 -4.91944148e+04 -3.73840749e+04\n",
      " -2.76351202e+04 -1.97496736e+04 -1.35298578e+04 -8.77779581e+03\n",
      " -5.29561043e+03 -2.88542449e+03 -1.34936087e+03 -4.89542399e+02\n",
      " -1.08091939e+02 -7.13233756e+00  1.12135538e+01  1.44822884e+02\n",
      "  5.91572804e+02  1.54934046e+03  3.21600301e+03  5.78943759e+03\n",
      "  9.46752135e+03  1.44481315e+04  2.09291450e+04  2.91084393e+04\n",
      "  3.91838913e+04  5.13533782e+04  6.58147772e+04  8.27659654e+04\n",
      "  1.02404820e+05  1.24929218e+05  1.50537037e+05  1.79426154e+05\n",
      "  2.11794445e+05  2.47839789e+05  2.87760062e+05  3.31753142e+05\n",
      "  3.80016905e+05  4.32749228e+05  4.90147990e+05  5.52411067e+05\n",
      "  6.19736335e+05  6.92321674e+05  7.70364958e+05  8.54064066e+05\n",
      "  9.43616875e+05  1.03922126e+06  1.14107510e+06  1.24937628e+06\n",
      "  1.36432266e+06  1.48611213e+06  1.61494257e+06  1.75101184e+06\n",
      "  1.89451783e+06  2.04565842e+06  2.20463148e+06  2.37163489e+06\n",
      "  2.54686653e+06  2.73052426e+06  2.92280599e+06  3.12390956e+06\n",
      "  3.33403288e+06  3.55337380e+06  3.78213022e+06  4.02050000e+06]\n"
     ]
    }
   ],
   "source": [
    "x_ = np.linspace(-100, 100, 100)\n",
    "y_ = 4 * (x_**3) + 2 * (x_**2) + 5 * x_\n",
    "print(\"X-Value\\n\\n\",x_,\"\\n\\n\\nY-Value\\n\\n\",y_)"
   ]
  },
  {
   "cell_type": "code",
   "execution_count": 37,
   "id": "d405eaad",
   "metadata": {
    "execution": {
     "iopub.execute_input": "2022-09-18T05:53:12.551436Z",
     "iopub.status.busy": "2022-09-18T05:53:12.550958Z",
     "iopub.status.idle": "2022-09-18T05:53:12.818474Z",
     "shell.execute_reply": "2022-09-18T05:53:12.817270Z"
    },
    "papermill": {
     "duration": 0.305798,
     "end_time": "2022-09-18T05:53:12.826162",
     "exception": false,
     "start_time": "2022-09-18T05:53:12.520364",
     "status": "completed"
    },
    "tags": []
   },
   "outputs": [
    {
     "data": {
      "image/png": "[encoded data removed]",
      "text/plain": [
       "<Figure size 432x288 with 1 Axes>"
      ]
     },
     "metadata": {
      "needs_background": "light"
     },
     "output_type": "display_data"
    }
   ],
   "source": [
    "import matplotlib.pyplot as plt\n",
    "\n",
    "plt.plot(x_, y_)\n",
    "plt.show()"
   ]
  },
  {
   "cell_type": "markdown",
   "id": "f6124552",
   "metadata": {
    "papermill": {
     "duration": 0.0275,
     "end_time": "2022-09-18T05:53:12.882932",
     "exception": false,
     "start_time": "2022-09-18T05:53:12.855432",
     "status": "completed"
    },
    "tags": []
   },
   "source": [
    "### Use of np.reshape():\n",
    "- Gives a new shape to an array without changing its data.\n",
    "- **Syntex:** <H3>numpy.reshape(a, newshape, order='C')</H3>\n"
   ]
  },
  {
   "cell_type": "code",
   "execution_count": 38,
   "id": "ca14dc7d",
   "metadata": {
    "execution": {
     "iopub.execute_input": "2022-09-18T05:53:12.941559Z",
     "iopub.status.busy": "2022-09-18T05:53:12.940653Z",
     "iopub.status.idle": "2022-09-18T05:53:12.948246Z",
     "shell.execute_reply": "2022-09-18T05:53:12.946958Z"
    },
    "papermill": {
     "duration": 0.040273,
     "end_time": "2022-09-18T05:53:12.951104",
     "exception": false,
     "start_time": "2022-09-18T05:53:12.910831",
     "status": "completed"
    },
    "tags": []
   },
   "outputs": [
    {
     "name": "stdout",
     "output_type": "stream",
     "text": [
      "Sample array A:\n",
      " [[0 1]\n",
      " [2 3]\n",
      " [4 5]]\n",
      "Reshape Array A:\n",
      " [[0 1 2]\n",
      " [3 4 5]]\n"
     ]
    }
   ],
   "source": [
    "a = np.arange(6).reshape((3, 2))    #CREATING ARRAY OF SHAPE 3,2\n",
    "print(\"Sample array A:\\n\",a)\n",
    "\n",
    "b=np.reshape(a, (2, 3))          #CHANGING SHAPE OF ARRAY FROM 3,2 TO 2,3\n",
    "print(\"Reshape Array A:\\n\",b)"
   ]
  },
  {
   "cell_type": "code",
   "execution_count": 39,
   "id": "b092296b",
   "metadata": {
    "execution": {
     "iopub.execute_input": "2022-09-18T05:53:13.007639Z",
     "iopub.status.busy": "2022-09-18T05:53:13.007215Z",
     "iopub.status.idle": "2022-09-18T05:53:13.015142Z",
     "shell.execute_reply": "2022-09-18T05:53:13.013715Z"
    },
    "papermill": {
     "duration": 0.040838,
     "end_time": "2022-09-18T05:53:13.019699",
     "exception": false,
     "start_time": "2022-09-18T05:53:12.978861",
     "status": "completed"
    },
    "tags": []
   },
   "outputs": [
    {
     "name": "stdout",
     "output_type": "stream",
     "text": [
      "with change in order:\n",
      " [[0 1]\n",
      " [2 3]\n",
      " [4 5]] False\n",
      "without change in order:\n",
      " [[0 4 3]\n",
      " [2 1 5]] True\n"
     ]
    }
   ],
   "source": [
    "#without changing shape and order np.isfortran is \"False\"\n",
    "b=np.reshape(a, (3,2),order=\"F\")\n",
    "print(\"with change in order:\\n\",b,np.isfortran(b))\n",
    "\n",
    "#with changing shape and order also np.isfortran is \"True\"\n",
    "b=np.reshape(a, (2,3),order=\"F\")\n",
    "print(\"without change in order:\\n\",b,np.isfortran(b))"
   ]
  },
  {
   "cell_type": "code",
   "execution_count": 40,
   "id": "7e785487",
   "metadata": {
    "execution": {
     "iopub.execute_input": "2022-09-18T05:53:13.079574Z",
     "iopub.status.busy": "2022-09-18T05:53:13.078762Z",
     "iopub.status.idle": "2022-09-18T05:53:13.086114Z",
     "shell.execute_reply": "2022-09-18T05:53:13.084656Z"
    },
    "papermill": {
     "duration": 0.03936,
     "end_time": "2022-09-18T05:53:13.088803",
     "exception": false,
     "start_time": "2022-09-18T05:53:13.049443",
     "status": "completed"
    },
    "tags": []
   },
   "outputs": [
    {
     "name": "stdout",
     "output_type": "stream",
     "text": [
      "Contineous Flatted array: [0 1 2 3 4 5]\n",
      "\n",
      "New shape array b:\n",
      " [[0 1 2]\n",
      " [3 4 5]]\n"
     ]
    }
   ],
   "source": [
    "b=np.ravel(a) #Contineous Flatted array:\n",
    "print(\"Contineous Flatted array:\",b)\n",
    "\n",
    "b=np.reshape(b, (2, 3))\n",
    "print(\"\\nNew shape array b:\\n\",b)"
   ]
  },
  {
   "cell_type": "code",
   "execution_count": 41,
   "id": "fd0d7399",
   "metadata": {
    "execution": {
     "iopub.execute_input": "2022-09-18T05:53:13.145960Z",
     "iopub.status.busy": "2022-09-18T05:53:13.145509Z",
     "iopub.status.idle": "2022-09-18T05:53:13.156806Z",
     "shell.execute_reply": "2022-09-18T05:53:13.154363Z"
    },
    "papermill": {
     "duration": 0.043469,
     "end_time": "2022-09-18T05:53:13.159919",
     "exception": false,
     "start_time": "2022-09-18T05:53:13.116450",
     "status": "completed"
    },
    "tags": []
   },
   "outputs": [
    {
     "name": "stdout",
     "output_type": "stream",
     "text": [
      "flatten array with order 'F':\n",
      " [0 2 4 1 3 5]\n",
      "new array:\n",
      " [[0 4 3]\n",
      " [2 1 5]]\n"
     ]
    }
   ],
   "source": [
    "b=np.ravel(a, order='F')\n",
    "print(\"flatten array with order 'F':\\n\",b)\n",
    "b=np.reshape(b, (2, 3), order='F')\n",
    "print(\"new array:\\n\",b)"
   ]
  },
  {
   "cell_type": "code",
   "execution_count": 42,
   "id": "c28a9f51",
   "metadata": {
    "execution": {
     "iopub.execute_input": "2022-09-18T05:53:13.222353Z",
     "iopub.status.busy": "2022-09-18T05:53:13.221873Z",
     "iopub.status.idle": "2022-09-18T05:53:13.231618Z",
     "shell.execute_reply": "2022-09-18T05:53:13.229774Z"
    },
    "papermill": {
     "duration": 0.045284,
     "end_time": "2022-09-18T05:53:13.235243",
     "exception": false,
     "start_time": "2022-09-18T05:53:13.189959",
     "status": "completed"
    },
    "tags": []
   },
   "outputs": [
    {
     "name": "stdout",
     "output_type": "stream",
     "text": [
      "[[1 2 3]\n",
      " [4 5 6]]\n",
      "IN 1-D array :  [1 4 2 5 3 6]\n",
      "\n",
      "1-D array: [1 2 3 4 5 6]\n"
     ]
    }
   ],
   "source": [
    "a = np.array([[1,2,3], [4,5,6]])\n",
    "print(a)\n",
    "b=np.reshape(a, 6, order='F')\n",
    "print(\"IN 1-D array : \",b)\n",
    "\n",
    "\n",
    "#WE CAN CREATE FLATTEN LIKE THAT ALSO\n",
    "\n",
    "arr = np.array([[1, 2, 3], [4, 5, 6]])\n",
    "newarr = arr.reshape(-1)\n",
    "print(\"\\n1-D array:\",newarr)"
   ]
  },
  {
   "cell_type": "code",
   "execution_count": 43,
   "id": "229ce24a",
   "metadata": {
    "execution": {
     "iopub.execute_input": "2022-09-18T05:53:13.295562Z",
     "iopub.status.busy": "2022-09-18T05:53:13.295098Z",
     "iopub.status.idle": "2022-09-18T05:53:13.302022Z",
     "shell.execute_reply": "2022-09-18T05:53:13.300825Z"
    },
    "papermill": {
     "duration": 0.040187,
     "end_time": "2022-09-18T05:53:13.304662",
     "exception": false,
     "start_time": "2022-09-18T05:53:13.264475",
     "status": "completed"
    },
    "tags": []
   },
   "outputs": [
    {
     "name": "stdout",
     "output_type": "stream",
     "text": [
      "[1 2 3 4 5 6 7 8 9]\n"
     ]
    }
   ],
   "source": [
    "arr = np.array([1, 2, 3, 4, 5, 6, 7, 8,9])\n",
    "arr1=arr.reshape(3,3) ###WE CAN USE LIKE THAT ALSO\n",
    "print(arr)"
   ]
  },
  {
   "cell_type": "markdown",
   "id": "1e8e2aea",
   "metadata": {
    "papermill": {
     "duration": 0.028223,
     "end_time": "2022-09-18T05:53:13.360866",
     "exception": false,
     "start_time": "2022-09-18T05:53:13.332643",
     "status": "completed"
    },
    "tags": []
   },
   "source": [
    "##### numpy.ndarray.base\n",
    "- Base object if memory is from some other object."
   ]
  },
  {
   "cell_type": "code",
   "execution_count": 44,
   "id": "2815aff4",
   "metadata": {
    "execution": {
     "iopub.execute_input": "2022-09-18T05:53:13.420579Z",
     "iopub.status.busy": "2022-09-18T05:53:13.420163Z",
     "iopub.status.idle": "2022-09-18T05:53:13.427974Z",
     "shell.execute_reply": "2022-09-18T05:53:13.426038Z"
    },
    "papermill": {
     "duration": 0.042496,
     "end_time": "2022-09-18T05:53:13.431253",
     "exception": false,
     "start_time": "2022-09-18T05:53:13.388757",
     "status": "completed"
    },
    "tags": []
   },
   "outputs": [
    {
     "name": "stdout",
     "output_type": "stream",
     "text": [
      "None True \n",
      " Give the base of array:base: [1 2 3 4 5 6 7 8 9] False\n"
     ]
    }
   ],
   "source": [
    "print(arr.base,arr.base is None,\"\\n Give the base of array:base:\",arr1.base,arr1.base is None)"
   ]
  },
  {
   "cell_type": "markdown",
   "id": "45f433ae",
   "metadata": {
    "papermill": {
     "duration": 0.02885,
     "end_time": "2022-09-18T05:53:13.490282",
     "exception": false,
     "start_time": "2022-09-18T05:53:13.461432",
     "status": "completed"
    },
    "tags": []
   },
   "source": [
    "## Working with numpy.ravel\n",
    "- Return a contiguous flattened array.\n",
    "\n",
    "- A 1-D array, containing the elements of the input, is returned. A copy is made only if needed.\n",
    "\n",
    "- As of NumPy 1.10, the returned array will have the same type as the input array. (for example, a masked array will be returned for a masked array input)\n",
    "- **Syntex:** <H3>numpy.ravel(a, order='C')</H3>\n"
   ]
  },
  {
   "cell_type": "code",
   "execution_count": 45,
   "id": "370056be",
   "metadata": {
    "execution": {
     "iopub.execute_input": "2022-09-18T05:53:13.555229Z",
     "iopub.status.busy": "2022-09-18T05:53:13.554732Z",
     "iopub.status.idle": "2022-09-18T05:53:13.562027Z",
     "shell.execute_reply": "2022-09-18T05:53:13.561127Z"
    },
    "papermill": {
     "duration": 0.042582,
     "end_time": "2022-09-18T05:53:13.565063",
     "exception": false,
     "start_time": "2022-09-18T05:53:13.522481",
     "status": "completed"
    },
    "tags": []
   },
   "outputs": [
    {
     "name": "stdout",
     "output_type": "stream",
     "text": [
      "Sample 2-D array:\n",
      " [[1 2 3]\n",
      " [4 5 6]]\n",
      "New Flattened array(1-D) [1 2 3 4 5 6] \n",
      "Shape of New array (6,)\n"
     ]
    }
   ],
   "source": [
    "arr_revel= np.array([[1, 2, 3], [4, 5, 6]])\n",
    "print(\"Sample 2-D array:\\n\",arr_revel)\n",
    "newarr=np.ravel(arr_revel)\n",
    "print(\"New Flattened array(1-D)\",newarr,'\\nShape of New array',newarr.shape)\n"
   ]
  },
  {
   "cell_type": "code",
   "execution_count": 46,
   "id": "8e1f287b",
   "metadata": {
    "execution": {
     "iopub.execute_input": "2022-09-18T05:53:13.628212Z",
     "iopub.status.busy": "2022-09-18T05:53:13.627363Z",
     "iopub.status.idle": "2022-09-18T05:53:13.633286Z",
     "shell.execute_reply": "2022-09-18T05:53:13.632408Z"
    },
    "papermill": {
     "duration": 0.04077,
     "end_time": "2022-09-18T05:53:13.636510",
     "exception": false,
     "start_time": "2022-09-18T05:53:13.595740",
     "status": "completed"
    },
    "tags": []
   },
   "outputs": [
    {
     "name": "stdout",
     "output_type": "stream",
     "text": [
      "New flatten array with order: [1 4 2 5 3 6]\n"
     ]
    }
   ],
   "source": [
    "newarr=np.ravel(arr_revel, order='F')\n",
    "print(\"New flatten array with order:\",newarr)"
   ]
  },
  {
   "cell_type": "markdown",
   "id": "4487e932",
   "metadata": {
    "papermill": {
     "duration": 0.027775,
     "end_time": "2022-09-18T05:53:13.695238",
     "exception": false,
     "start_time": "2022-09-18T05:53:13.667463",
     "status": "completed"
    },
    "tags": []
   },
   "source": [
    "## Working with numpy.ndarray.flatten\n",
    "- Return a copy of the array collapsed into one dimension.\n",
    "- **Syntex:** <H3>ndarray.flatten(order='C')</H3>\n"
   ]
  },
  {
   "cell_type": "code",
   "execution_count": 47,
   "id": "b50dbcb0",
   "metadata": {
    "execution": {
     "iopub.execute_input": "2022-09-18T05:53:13.758894Z",
     "iopub.status.busy": "2022-09-18T05:53:13.757775Z",
     "iopub.status.idle": "2022-09-18T05:53:13.765187Z",
     "shell.execute_reply": "2022-09-18T05:53:13.763797Z"
    },
    "papermill": {
     "duration": 0.042162,
     "end_time": "2022-09-18T05:53:13.768029",
     "exception": false,
     "start_time": "2022-09-18T05:53:13.725867",
     "status": "completed"
    },
    "tags": []
   },
   "outputs": [
    {
     "name": "stdout",
     "output_type": "stream",
     "text": [
      "Give a Copy of Array:\n",
      " [[1 2]\n",
      " [3 4]]\n"
     ]
    }
   ],
   "source": [
    "aflate = np.array([[1,2], [3,4]])\n",
    "print(\"Give a Copy of Array:\\n\",aflate)"
   ]
  },
  {
   "cell_type": "markdown",
   "id": "fddaba04",
   "metadata": {
    "papermill": {
     "duration": 0.029581,
     "end_time": "2022-09-18T05:53:13.828197",
     "exception": false,
     "start_time": "2022-09-18T05:53:13.798616",
     "status": "completed"
    },
    "tags": []
   },
   "source": [
    "\n",
    "<html>\n",
    "    <h2 style=\"text-align:center\"><strong>Differences between Flatten() and Ravel()</strong></h2>\n",
    "<figure class=\"table\"><table><thead><tr><th><p style=\"text-align:center\"><strong>ravel()</strong></p></th><th><p style=\"text-align:center\"><strong>flatten()</strong></p></th></tr></thead><tbody><tr><td>Return only reference/view of the original array</td><td>Return copy of the original array</td></tr><tr><td>If you modify the array you would notice that the value of the original array also changes.</td><td>If you modify any value of this array value of the original array is not affected.</td></tr><tr><td>Ravel is faster than flatten() as it does not occupy any memory.</td><td>Flatten() is comparatively slower than ravel() as it occupies memory.</td></tr><tr><td>Ravel is a library-level function.&nbsp;</td><td>Flatten is a method of an ndarray object. Let us check out the difference in this code.</td></tr></tbody></table></figure>\n",
    "</html>"
   ]
  },
  {
   "cell_type": "markdown",
   "id": "8c53407a",
   "metadata": {
    "papermill": {
     "duration": 0.02852,
     "end_time": "2022-09-18T05:53:13.886619",
     "exception": false,
     "start_time": "2022-09-18T05:53:13.858099",
     "status": "completed"
    },
    "tags": []
   },
   "source": [
    "### Working with numpy.transpose\n",
    "- Reverse or permute the axes of an array; returns the modified array.(Returns a view of the array with axes transposed.)\n",
    "\n",
    "- For an array a with two axes, transpose(a) gives the matrix transpose.\n",
    "\n",
    "- **Syntex:** <H3>numpy.transpose(a, axes=None)</H3>\n"
   ]
  },
  {
   "cell_type": "code",
   "execution_count": 48,
   "id": "5b7ed2f0",
   "metadata": {
    "execution": {
     "iopub.execute_input": "2022-09-18T05:53:13.947486Z",
     "iopub.status.busy": "2022-09-18T05:53:13.947097Z",
     "iopub.status.idle": "2022-09-18T05:53:13.953999Z",
     "shell.execute_reply": "2022-09-18T05:53:13.952772Z"
    },
    "papermill": {
     "duration": 0.040847,
     "end_time": "2022-09-18T05:53:13.957229",
     "exception": false,
     "start_time": "2022-09-18T05:53:13.916382",
     "status": "completed"
    },
    "tags": []
   },
   "outputs": [
    {
     "name": "stdout",
     "output_type": "stream",
     "text": [
      "Sample array:\n",
      " [[1 2 3]\n",
      " [4 5 6]\n",
      " [7 8 9]]\n",
      "Transpose array:\n",
      " [[1 4 7]\n",
      " [2 5 8]\n",
      " [3 6 9]]\n"
     ]
    }
   ],
   "source": [
    "arr_trans=np.array([[1, 2, 3],\n",
    "                [4, 5, 6],\n",
    "                [7, 8, 9]])\n",
    "print(\"Sample array:\\n\",arr_trans)\n",
    "print(\"Transpose array:\\n\",arr_trans.transpose())\n",
    "                "
   ]
  },
  {
   "cell_type": "code",
   "execution_count": 49,
   "id": "5a0f0950",
   "metadata": {
    "execution": {
     "iopub.execute_input": "2022-09-18T05:53:14.020001Z",
     "iopub.status.busy": "2022-09-18T05:53:14.019426Z",
     "iopub.status.idle": "2022-09-18T05:53:14.027080Z",
     "shell.execute_reply": "2022-09-18T05:53:14.025780Z"
    },
    "papermill": {
     "duration": 0.043888,
     "end_time": "2022-09-18T05:53:14.031038",
     "exception": false,
     "start_time": "2022-09-18T05:53:13.987150",
     "status": "completed"
    },
    "tags": []
   },
   "outputs": [
    {
     "name": "stdout",
     "output_type": "stream",
     "text": [
      "Sample array:\n",
      " [[1 2 3]\n",
      " [4 5 6]\n",
      " [7 8 9]]\n",
      "Transpose array:\n",
      " [[1 4 7]\n",
      " [2 5 8]\n",
      " [3 6 9]]\n"
     ]
    }
   ],
   "source": [
    "arr_trans=np.array([[1, 2, 3],\n",
    "                [4, 5, 6],\n",
    "                [7, 8, 9]])\n",
    "print(\"Sample array:\\n\",arr_trans)\n",
    "print(\"Transpose array:\\n\",arr_trans.T)"
   ]
  },
  {
   "cell_type": "code",
   "execution_count": 50,
   "id": "6ae7cca1",
   "metadata": {
    "execution": {
     "iopub.execute_input": "2022-09-18T05:53:14.096412Z",
     "iopub.status.busy": "2022-09-18T05:53:14.095994Z",
     "iopub.status.idle": "2022-09-18T05:53:14.103349Z",
     "shell.execute_reply": "2022-09-18T05:53:14.102072Z"
    },
    "papermill": {
     "duration": 0.043416,
     "end_time": "2022-09-18T05:53:14.106405",
     "exception": false,
     "start_time": "2022-09-18T05:53:14.062989",
     "status": "completed"
    },
    "tags": []
   },
   "outputs": [
    {
     "name": "stdout",
     "output_type": "stream",
     "text": [
      "Sample arrary\n",
      " [[1 2]\n",
      " [4 5]\n",
      " [7 8]]\n",
      "Transpose with axis:\n",
      " [[1 4 7]\n",
      " [2 5 8]]\n"
     ]
    }
   ],
   "source": [
    "a= np.array([[1, 2], [4, 5], [7, 8]])  \n",
    "print(\"Sample arrary\\n\",a)\n",
    "b=np.transpose(a, (1,0))  \n",
    "print(\"Transpose with axis:\\n\",b)\n"
   ]
  },
  {
   "cell_type": "code",
   "execution_count": 51,
   "id": "a6877110",
   "metadata": {
    "execution": {
     "iopub.execute_input": "2022-09-18T05:53:14.171510Z",
     "iopub.status.busy": "2022-09-18T05:53:14.171066Z",
     "iopub.status.idle": "2022-09-18T05:53:14.180018Z",
     "shell.execute_reply": "2022-09-18T05:53:14.178795Z"
    },
    "papermill": {
     "duration": 0.045654,
     "end_time": "2022-09-18T05:53:14.184131",
     "exception": false,
     "start_time": "2022-09-18T05:53:14.138477",
     "status": "completed"
    },
    "tags": []
   },
   "outputs": [
    {
     "name": "stdout",
     "output_type": "stream",
     "text": [
      "Shape of sample array:\n",
      " [[[1. 1. 1. 1.]\n",
      "  [1. 1. 1. 1.]\n",
      "  [1. 1. 1. 1.]]\n",
      "\n",
      " [[1. 1. 1. 1.]\n",
      "  [1. 1. 1. 1.]\n",
      "  [1. 1. 1. 1.]]] \n",
      "Shape of Sample array (2, 3, 4) \n",
      "Dimention of Sample array: 3\n",
      "\n",
      "Transpose array b:\n",
      " [[[1. 1. 1. 1.]\n",
      "  [1. 1. 1. 1.]]\n",
      "\n",
      " [[1. 1. 1. 1.]\n",
      "  [1. 1. 1. 1.]]\n",
      "\n",
      " [[1. 1. 1. 1.]\n",
      "  [1. 1. 1. 1.]]] \n",
      "Shape of Transpose array (3, 2, 4) \n",
      "Dimention of Transpose array: 3\n",
      "\n",
      "Transpose array c:\n",
      " [[[1. 1.]\n",
      "  [1. 1.]\n",
      "  [1. 1.]]\n",
      "\n",
      " [[1. 1.]\n",
      "  [1. 1.]\n",
      "  [1. 1.]]\n",
      "\n",
      " [[1. 1.]\n",
      "  [1. 1.]\n",
      "  [1. 1.]]\n",
      "\n",
      " [[1. 1.]\n",
      "  [1. 1.]\n",
      "  [1. 1.]]] \n",
      "Shape of Transpose array (4, 3, 2) \n",
      "Dimention of Transpose array: 3\n"
     ]
    }
   ],
   "source": [
    "a = np.ones((2,3,4))\n",
    "print(\"Shape of sample array:\\n\",a,\"\\nShape of Sample array\",a.shape,\"\\nDimention of Sample array:\",a.ndim)\n",
    "\n",
    "\n",
    "b=np.transpose(a,(1,0,2))   #0, 1 ,2 the axis refer 2,3,4 in a\n",
    "print(\"\\nTranspose array b:\\n\",b,\"\\nShape of Transpose array\",b.shape,\"\\nDimention of Transpose array:\",b.ndim)\n",
    "\n",
    "\n",
    "c=np.transpose(a,(2,1,0))   #0, 1 ,2 the axis refer 2,3,4 in a\n",
    "print(\"\\nTranspose array c:\\n\",c,\"\\nShape of Transpose array\",c.shape,\"\\nDimention of Transpose array:\",c.ndim)\n"
   ]
  },
  {
   "cell_type": "markdown",
   "id": "5a78d03b",
   "metadata": {
    "papermill": {
     "duration": 0.02942,
     "end_time": "2022-09-18T05:53:14.242224",
     "exception": false,
     "start_time": "2022-09-18T05:53:14.212804",
     "status": "completed"
    },
    "tags": []
   },
   "source": [
    "# Mathematical Operation Using NumPy:\n",
    "\n",
    "### Working with Addition:\n",
    "- We use add() to add.\n",
    "- Or we can use '+' operator.\n",
    "- **Syntex:** <H3>np.add()</H3>"
   ]
  },
  {
   "cell_type": "code",
   "execution_count": 52,
   "id": "c8d942f7",
   "metadata": {
    "execution": {
     "iopub.execute_input": "2022-09-18T05:53:14.304813Z",
     "iopub.status.busy": "2022-09-18T05:53:14.304188Z",
     "iopub.status.idle": "2022-09-18T05:53:14.313131Z",
     "shell.execute_reply": "2022-09-18T05:53:14.311634Z"
    },
    "papermill": {
     "duration": 0.043684,
     "end_time": "2022-09-18T05:53:14.316094",
     "exception": false,
     "start_time": "2022-09-18T05:53:14.272410",
     "status": "completed"
    },
    "tags": []
   },
   "outputs": [
    {
     "name": "stdout",
     "output_type": "stream",
     "text": [
      "Sample Array1:\n",
      " [[0 1 2]\n",
      " [3 4 5]\n",
      " [6 7 8]]\n",
      "\n",
      "Sample Array2:\n",
      " [[9 8 7]\n",
      " [6 5 4]\n",
      " [3 2 1]]\n"
     ]
    }
   ],
   "source": [
    "array1=np.arange(0,9).reshape(3,3)\n",
    "array2=np.arange(9,0,-1).reshape(3,3)\n",
    "print(\"Sample Array1:\\n\",array1)\n",
    "print(\"\\nSample Array2:\\n\",array2)"
   ]
  },
  {
   "cell_type": "code",
   "execution_count": 53,
   "id": "025ab18b",
   "metadata": {
    "execution": {
     "iopub.execute_input": "2022-09-18T05:53:14.378809Z",
     "iopub.status.busy": "2022-09-18T05:53:14.378308Z",
     "iopub.status.idle": "2022-09-18T05:53:14.386742Z",
     "shell.execute_reply": "2022-09-18T05:53:14.384931Z"
    },
    "papermill": {
     "duration": 0.043975,
     "end_time": "2022-09-18T05:53:14.390671",
     "exception": false,
     "start_time": "2022-09-18T05:53:14.346696",
     "status": "completed"
    },
    "tags": []
   },
   "outputs": [
    {
     "name": "stdout",
     "output_type": "stream",
     "text": [
      "Addition of array is:\n",
      " [[9 9 9]\n",
      " [9 9 9]\n",
      " [9 9 9]]\n",
      "\n",
      "Addition of array is:\n",
      " [[9 9 9]\n",
      " [9 9 9]\n",
      " [9 9 9]]\n"
     ]
    }
   ],
   "source": [
    "#use of '+' Operator\n",
    "\n",
    "print(\"Addition of array is:\\n\",array1+array2) \n",
    "\n",
    "#use of add()\n",
    "\n",
    "print(\"\\nAddition of array is:\\n\",np.add(array1,array2)) "
   ]
  },
  {
   "cell_type": "markdown",
   "id": "7bb97952",
   "metadata": {
    "papermill": {
     "duration": 0.031798,
     "end_time": "2022-09-18T05:53:14.452526",
     "exception": false,
     "start_time": "2022-09-18T05:53:14.420728",
     "status": "completed"
    },
    "tags": []
   },
   "source": [
    "### Working with Subtraction:\n",
    "- We use subtract() to subtract.\n",
    "- Or we can use '-' operator.\n",
    "- **Syntex:** <H3>np.subtract()</H3>"
   ]
  },
  {
   "cell_type": "code",
   "execution_count": 54,
   "id": "edc44efa",
   "metadata": {
    "execution": {
     "iopub.execute_input": "2022-09-18T05:53:14.519740Z",
     "iopub.status.busy": "2022-09-18T05:53:14.519280Z",
     "iopub.status.idle": "2022-09-18T05:53:14.526130Z",
     "shell.execute_reply": "2022-09-18T05:53:14.524882Z"
    },
    "papermill": {
     "duration": 0.046142,
     "end_time": "2022-09-18T05:53:14.529346",
     "exception": false,
     "start_time": "2022-09-18T05:53:14.483204",
     "status": "completed"
    },
    "tags": []
   },
   "outputs": [
    {
     "name": "stdout",
     "output_type": "stream",
     "text": [
      "Subtraction of array is:\n",
      " [[-9 -7 -5]\n",
      " [-3 -1  1]\n",
      " [ 3  5  7]] \n",
      "\n",
      "Type of +: <class 'numpy.ndarray'>\n",
      "\n",
      "Subtraction of array is:\n",
      " [[-9 -7 -5]\n",
      " [-3 -1  1]\n",
      " [ 3  5  7]]\n"
     ]
    }
   ],
   "source": [
    "#use of '-' Operator\n",
    "\n",
    "print(\"Subtraction of array is:\\n\",array1-array2,\"\\n\\nType of +:\",type(array1*array2) )\n",
    "\n",
    "#use of subtract()\n",
    "\n",
    "print(\"\\nSubtraction of array is:\\n\",np.subtract(array1,array2)) "
   ]
  },
  {
   "cell_type": "markdown",
   "id": "22913e6d",
   "metadata": {
    "papermill": {
     "duration": 0.029755,
     "end_time": "2022-09-18T05:53:14.589356",
     "exception": false,
     "start_time": "2022-09-18T05:53:14.559601",
     "status": "completed"
    },
    "tags": []
   },
   "source": [
    "### Working with Divition:\n",
    "- We use divide() to divide.\n",
    "- Or we can use '/' operator.\n",
    "- **Syntex:** <H3>np.divide()</H3>"
   ]
  },
  {
   "cell_type": "code",
   "execution_count": 55,
   "id": "3dd502d5",
   "metadata": {
    "execution": {
     "iopub.execute_input": "2022-09-18T05:53:14.651258Z",
     "iopub.status.busy": "2022-09-18T05:53:14.650812Z",
     "iopub.status.idle": "2022-09-18T05:53:14.658179Z",
     "shell.execute_reply": "2022-09-18T05:53:14.656764Z"
    },
    "papermill": {
     "duration": 0.042122,
     "end_time": "2022-09-18T05:53:14.660818",
     "exception": false,
     "start_time": "2022-09-18T05:53:14.618696",
     "status": "completed"
    },
    "tags": []
   },
   "outputs": [
    {
     "name": "stdout",
     "output_type": "stream",
     "text": [
      "Divition of array is:\n",
      " [[0.         0.125      0.28571429]\n",
      " [0.5        0.8        1.25      ]\n",
      " [2.         3.5        8.        ]]\n",
      "\n",
      "Divition of array is:\n",
      " [[0.         0.125      0.28571429]\n",
      " [0.5        0.8        1.25      ]\n",
      " [2.         3.5        8.        ]]\n"
     ]
    }
   ],
   "source": [
    "#use of '/' Operator\n",
    "\n",
    "print(\"Divition of array is:\\n\",array1/array2) \n",
    "\n",
    "#use of divide()\n",
    "\n",
    "print(\"\\nDivition of array is:\\n\",np.divide(array1,array2)) "
   ]
  },
  {
   "cell_type": "markdown",
   "id": "1683dc97",
   "metadata": {
    "papermill": {
     "duration": 0.029614,
     "end_time": "2022-09-18T05:53:14.720399",
     "exception": false,
     "start_time": "2022-09-18T05:53:14.690785",
     "status": "completed"
    },
    "tags": []
   },
   "source": [
    "### Working with Multiply:\n",
    "- We use multiply() to multiply.\n",
    "- Or we can use '*' operator.\n",
    "- **Syntex:** <H3>np.multiply()</H3>"
   ]
  },
  {
   "cell_type": "code",
   "execution_count": 56,
   "id": "d9bd55b0",
   "metadata": {
    "execution": {
     "iopub.execute_input": "2022-09-18T05:53:14.783258Z",
     "iopub.status.busy": "2022-09-18T05:53:14.782854Z",
     "iopub.status.idle": "2022-09-18T05:53:14.791241Z",
     "shell.execute_reply": "2022-09-18T05:53:14.789299Z"
    },
    "papermill": {
     "duration": 0.042883,
     "end_time": "2022-09-18T05:53:14.794418",
     "exception": false,
     "start_time": "2022-09-18T05:53:14.751535",
     "status": "completed"
    },
    "tags": []
   },
   "outputs": [
    {
     "name": "stdout",
     "output_type": "stream",
     "text": [
      "Multiply of array is:\n",
      " [[ 0  8 14]\n",
      " [18 20 20]\n",
      " [18 14  8]]\n",
      "\n",
      "Multiply of array is:\n",
      " [[ 0  8 14]\n",
      " [18 20 20]\n",
      " [18 14  8]]\n"
     ]
    }
   ],
   "source": [
    "#use of '*' Operator\n",
    "print(\"Multiply of array is:\\n\",array1*array2) \n",
    "\n",
    "#use of multiply()\n",
    "\n",
    "print(\"\\nMultiply of array is:\\n\",np.multiply(array1,array2)) "
   ]
  },
  {
   "cell_type": "markdown",
   "id": "9b435412",
   "metadata": {
    "papermill": {
     "duration": 0.029875,
     "end_time": "2022-09-18T05:53:14.855769",
     "exception": false,
     "start_time": "2022-09-18T05:53:14.825894",
     "status": "completed"
    },
    "tags": []
   },
   "source": [
    "### <span style=\"color: red\"> Note: This is elementry multiply for matrix multiplication we use '@' or numpy.dot\n",
    " </span>"
   ]
  },
  {
   "cell_type": "code",
   "execution_count": 57,
   "id": "7d6abb89",
   "metadata": {
    "execution": {
     "iopub.execute_input": "2022-09-18T05:53:14.915700Z",
     "iopub.status.busy": "2022-09-18T05:53:14.915259Z",
     "iopub.status.idle": "2022-09-18T05:53:14.922697Z",
     "shell.execute_reply": "2022-09-18T05:53:14.921023Z"
    },
    "papermill": {
     "duration": 0.041663,
     "end_time": "2022-09-18T05:53:14.926182",
     "exception": false,
     "start_time": "2022-09-18T05:53:14.884519",
     "status": "completed"
    },
    "tags": []
   },
   "outputs": [
    {
     "name": "stdout",
     "output_type": "stream",
     "text": [
      "Matrix Multiply of array is:\n",
      " [[ 12   9   6]\n",
      " [ 66  54  42]\n",
      " [120  99  78]]\n",
      "\n",
      "Matrix Multiply of array is:\n",
      " [[ 12   9   6]\n",
      " [ 66  54  42]\n",
      " [120  99  78]]\n"
     ]
    }
   ],
   "source": [
    "#use of '@' Operator\n",
    "\n",
    "print(\"Matrix Multiply of array is:\\n\",array1@array2) \n",
    "\n",
    "#use of .dot()\n",
    "\n",
    "print(\"\\nMatrix Multiply of array is:\\n\",array1.dot(array2)) "
   ]
  },
  {
   "cell_type": "markdown",
   "id": "0eff8d09",
   "metadata": {
    "papermill": {
     "duration": 0.028275,
     "end_time": "2022-09-18T05:53:14.983721",
     "exception": false,
     "start_time": "2022-09-18T05:53:14.955446",
     "status": "completed"
    },
    "tags": []
   },
   "source": [
    "### Working with Power:\n",
    "- The **power()** function rises the values from the first array to the power of the values of the second array, and return the results in a new array."
   ]
  },
  {
   "cell_type": "code",
   "execution_count": 58,
   "id": "e57c8346",
   "metadata": {
    "execution": {
     "iopub.execute_input": "2022-09-18T05:53:15.048450Z",
     "iopub.status.busy": "2022-09-18T05:53:15.048037Z",
     "iopub.status.idle": "2022-09-18T05:53:15.054835Z",
     "shell.execute_reply": "2022-09-18T05:53:15.053429Z"
    },
    "papermill": {
     "duration": 0.043078,
     "end_time": "2022-09-18T05:53:15.057532",
     "exception": false,
     "start_time": "2022-09-18T05:53:15.014454",
     "status": "completed"
    },
    "tags": []
   },
   "outputs": [
    {
     "name": "stdout",
     "output_type": "stream",
     "text": [
      "Power() use:\n",
      " [[   0    1  128]\n",
      " [ 729 1024  625]\n",
      " [ 216   49    8]]\n",
      "Power() use:\n",
      " [[   1    8   49]\n",
      " [ 216  625 1024]\n",
      " [ 729  128    1]]\n"
     ]
    }
   ],
   "source": [
    "print(\"Power() use:\\n\",np.power(array1,array2)) \n",
    "print(\"Power() use:\\n\",np.power(array2,array1)) "
   ]
  },
  {
   "cell_type": "code",
   "execution_count": 59,
   "id": "ed8889c4",
   "metadata": {
    "execution": {
     "iopub.execute_input": "2022-09-18T05:53:15.120077Z",
     "iopub.status.busy": "2022-09-18T05:53:15.119675Z",
     "iopub.status.idle": "2022-09-18T05:53:15.127947Z",
     "shell.execute_reply": "2022-09-18T05:53:15.126075Z"
    },
    "papermill": {
     "duration": 0.042665,
     "end_time": "2022-09-18T05:53:15.130575",
     "exception": false,
     "start_time": "2022-09-18T05:53:15.087910",
     "status": "completed"
    },
    "tags": []
   },
   "outputs": [
    {
     "name": "stdout",
     "output_type": "stream",
     "text": [
      "[[106 109 119]\n",
      " [101 109 116]\n",
      " [111  98 115]\n",
      " [107 118 100]\n",
      " [104 101 118]\n",
      " [109 118  91]\n",
      " [103 101  92]\n",
      " [118 108  94]] \n",
      "\n",
      "Power of 2 on test array:\n",
      " [[11236 11881 14161]\n",
      " [10201 11881 13456]\n",
      " [12321  9604 13225]\n",
      " [11449 13924 10000]\n",
      " [10816 10201 13924]\n",
      " [11881 13924  8281]\n",
      " [10609 10201  8464]\n",
      " [13924 11664  8836]] <class 'numpy.ndarray'>\n"
     ]
    }
   ],
   "source": [
    "test = np.random.randint(90,120,(8,3))\n",
    "test1=test**2\n",
    "print(test,\"\\n\\nPower of 2 on test array:\\n\",test1,type(test1))"
   ]
  },
  {
   "cell_type": "markdown",
   "id": "c4b1159a",
   "metadata": {
    "papermill": {
     "duration": 0.030605,
     "end_time": "2022-09-18T05:53:15.190917",
     "exception": false,
     "start_time": "2022-09-18T05:53:15.160312",
     "status": "completed"
    },
    "tags": []
   },
   "source": [
    "### Working with Remainder:\n",
    "- Both the **mod()** and the **remainder()** functions return the remainder of the values in the first array corresponding to the values in the second array, and return the results in a new array."
   ]
  },
  {
   "cell_type": "code",
   "execution_count": 60,
   "id": "a7805e40",
   "metadata": {
    "execution": {
     "iopub.execute_input": "2022-09-18T05:53:15.252935Z",
     "iopub.status.busy": "2022-09-18T05:53:15.252535Z",
     "iopub.status.idle": "2022-09-18T05:53:15.258903Z",
     "shell.execute_reply": "2022-09-18T05:53:15.257641Z"
    },
    "papermill": {
     "duration": 0.039992,
     "end_time": "2022-09-18T05:53:15.261238",
     "exception": false,
     "start_time": "2022-09-18T05:53:15.221246",
     "status": "completed"
    },
    "tags": []
   },
   "outputs": [
    {
     "name": "stdout",
     "output_type": "stream",
     "text": [
      "Working with mod():\n",
      " [[0 1 2]\n",
      " [3 4 1]\n",
      " [0 1 0]]\n",
      "Working with remainder():\n",
      " [[0 1 2]\n",
      " [3 4 1]\n",
      " [0 1 0]]\n"
     ]
    }
   ],
   "source": [
    "print(\"Working with mod():\\n\",np.mod(array1,array2))\n",
    "print(\"Working with remainder():\\n\",np.remainder(array1,array2))"
   ]
  },
  {
   "cell_type": "markdown",
   "id": "b6a8b04d",
   "metadata": {
    "papermill": {
     "duration": 0.031265,
     "end_time": "2022-09-18T05:53:15.323333",
     "exception": false,
     "start_time": "2022-09-18T05:53:15.292068",
     "status": "completed"
    },
    "tags": []
   },
   "source": [
    "### Working with Quotient and Mod:\n",
    "- The **divmod()** function return both the quotient and the the mod. The return value is two arrays, the first array contains the quotient and second array contains the mod."
   ]
  },
  {
   "cell_type": "code",
   "execution_count": 61,
   "id": "421ed410",
   "metadata": {
    "execution": {
     "iopub.execute_input": "2022-09-18T05:53:15.391062Z",
     "iopub.status.busy": "2022-09-18T05:53:15.390642Z",
     "iopub.status.idle": "2022-09-18T05:53:15.397777Z",
     "shell.execute_reply": "2022-09-18T05:53:15.396063Z"
    },
    "papermill": {
     "duration": 0.044915,
     "end_time": "2022-09-18T05:53:15.401298",
     "exception": false,
     "start_time": "2022-09-18T05:53:15.356383",
     "status": "completed"
    },
    "tags": []
   },
   "outputs": [
    {
     "name": "stdout",
     "output_type": "stream",
     "text": [
      "(array([[0, 0, 0],\n",
      "       [0, 0, 1],\n",
      "       [2, 3, 8]]), array([[0, 1, 2],\n",
      "       [3, 4, 1],\n",
      "       [0, 1, 0]]))\n"
     ]
    }
   ],
   "source": [
    "newarr=np.divmod(array1,array2)\n",
    "print(newarr)"
   ]
  },
  {
   "cell_type": "code",
   "execution_count": 62,
   "id": "7bef72d8",
   "metadata": {
    "execution": {
     "iopub.execute_input": "2022-09-18T05:53:15.463627Z",
     "iopub.status.busy": "2022-09-18T05:53:15.463163Z",
     "iopub.status.idle": "2022-09-18T05:53:15.471277Z",
     "shell.execute_reply": "2022-09-18T05:53:15.469455Z"
    },
    "papermill": {
     "duration": 0.043272,
     "end_time": "2022-09-18T05:53:15.473806",
     "exception": false,
     "start_time": "2022-09-18T05:53:15.430534",
     "status": "completed"
    },
    "tags": []
   },
   "outputs": [
    {
     "name": "stdout",
     "output_type": "stream",
     "text": [
      "[[0 0 0]\n",
      " [0 0 1]\n",
      " [2 3 8]] <class 'numpy.ndarray'>\n"
     ]
    }
   ],
   "source": [
    "newarr=array1//array2  #Quotient of both array\n",
    "print(newarr,type(newarr))"
   ]
  },
  {
   "cell_type": "markdown",
   "id": "f7480daa",
   "metadata": {
    "papermill": {
     "duration": 0.031123,
     "end_time": "2022-09-18T05:53:15.535377",
     "exception": false,
     "start_time": "2022-09-18T05:53:15.504254",
     "status": "completed"
    },
    "tags": []
   },
   "source": [
    "### working with absolute():\n",
    "- Both the **absolute()** and the **abs()** functions do the same absolute operation element-wise but we should use **absolute()** to avoid confusion with python's inbuilt **math.abs()**\n",
    "\n"
   ]
  },
  {
   "cell_type": "code",
   "execution_count": 63,
   "id": "47aed43a",
   "metadata": {
    "execution": {
     "iopub.execute_input": "2022-09-18T05:53:15.597266Z",
     "iopub.status.busy": "2022-09-18T05:53:15.596795Z",
     "iopub.status.idle": "2022-09-18T05:53:15.604206Z",
     "shell.execute_reply": "2022-09-18T05:53:15.602317Z"
    },
    "papermill": {
     "duration": 0.042806,
     "end_time": "2022-09-18T05:53:15.607267",
     "exception": false,
     "start_time": "2022-09-18T05:53:15.564461",
     "status": "completed"
    },
    "tags": []
   },
   "outputs": [
    {
     "name": "stdout",
     "output_type": "stream",
     "text": [
      "[1.  2.  1.5 2.  3.  4. ]\n"
     ]
    }
   ],
   "source": [
    "arr = np.array([-1, -2, 1.5, 2, 3, -4])\n",
    "newarr = np.absolute(arr)\n",
    "print(newarr)"
   ]
  },
  {
   "cell_type": "markdown",
   "id": "93c547ec",
   "metadata": {
    "papermill": {
     "duration": 0.029091,
     "end_time": "2022-09-18T05:53:15.666266",
     "exception": false,
     "start_time": "2022-09-18T05:53:15.637175",
     "status": "completed"
    },
    "tags": []
   },
   "source": [
    "### Working with Reciprocal Fun<sup>n</sup>\n",
    "- This Function returns the reciprocal of all the array elements."
   ]
  },
  {
   "cell_type": "code",
   "execution_count": 64,
   "id": "df2a5b8e",
   "metadata": {
    "execution": {
     "iopub.execute_input": "2022-09-18T05:53:15.729142Z",
     "iopub.status.busy": "2022-09-18T05:53:15.728729Z",
     "iopub.status.idle": "2022-09-18T05:53:15.737191Z",
     "shell.execute_reply": "2022-09-18T05:53:15.735630Z"
    },
    "papermill": {
     "duration": 0.0435,
     "end_time": "2022-09-18T05:53:15.740079",
     "exception": false,
     "start_time": "2022-09-18T05:53:15.696579",
     "status": "completed"
    },
    "tags": []
   },
   "outputs": [
    {
     "data": {
      "text/plain": [
       "array([0, 0, 0, 0, 1])"
      ]
     },
     "execution_count": 64,
     "metadata": {},
     "output_type": "execute_result"
    }
   ],
   "source": [
    "a = np.array([7,3,4,5,1])\n",
    "np.reciprocal(a)"
   ]
  },
  {
   "cell_type": "markdown",
   "id": "99571ccb",
   "metadata": {
    "papermill": {
     "duration": 0.030334,
     "end_time": "2022-09-18T05:53:15.802559",
     "exception": false,
     "start_time": "2022-09-18T05:53:15.772225",
     "status": "completed"
    },
    "tags": []
   },
   "source": [
    "#### Here dividation with '0' happen\n",
    "\n",
    "``` python\n",
    "np.reciprocal(array1)\n",
    "\n",
    "/opt/conda/lib/python3.7/site-packages/ipykernel_launcher.py:1: RuntimeWarning: divide by zero encountered in reciprocal\n",
    "  \"\"\"Entry point for launching an IPython kernel.\n",
    "/opt/conda/lib/python3.7/site-packages/ipykernel_launcher.py:1: RuntimeWarning: invalid value encountered in reciprocal\n",
    "  \"\"\"Entry point for launching an IPython kernel.\n",
    "\n",
    "Out[1]:\n",
    "array([[-9223372036854775808,                    1,                    0],\n",
    "       [                   0,                    0,                    0],\n",
    "       [                   0,                    0,                    0]])\n",
    "```"
   ]
  },
  {
   "cell_type": "code",
   "execution_count": 65,
   "id": "4432b3ee",
   "metadata": {
    "execution": {
     "iopub.execute_input": "2022-09-18T05:53:15.873055Z",
     "iopub.status.busy": "2022-09-18T05:53:15.872433Z",
     "iopub.status.idle": "2022-09-18T05:53:15.882911Z",
     "shell.execute_reply": "2022-09-18T05:53:15.880651Z"
    },
    "papermill": {
     "duration": 0.049636,
     "end_time": "2022-09-18T05:53:15.886100",
     "exception": false,
     "start_time": "2022-09-18T05:53:15.836464",
     "status": "completed"
    },
    "tags": []
   },
   "outputs": [
    {
     "data": {
      "text/plain": [
       "array([[0, 0, 0],\n",
       "       [0, 0, 0],\n",
       "       [0, 0, 1]])"
      ]
     },
     "execution_count": 65,
     "metadata": {},
     "output_type": "execute_result"
    }
   ],
   "source": [
    "np.reciprocal(array2)"
   ]
  },
  {
   "cell_type": "markdown",
   "id": "a990d5ec",
   "metadata": {
    "papermill": {
     "duration": 0.034435,
     "end_time": "2022-09-18T05:53:15.959152",
     "exception": false,
     "start_time": "2022-09-18T05:53:15.924717",
     "status": "completed"
    },
    "tags": []
   },
   "source": [
    "## Working with other function:"
   ]
  },
  {
   "cell_type": "code",
   "execution_count": 66,
   "id": "97543bfa",
   "metadata": {
    "execution": {
     "iopub.execute_input": "2022-09-18T05:53:16.027715Z",
     "iopub.status.busy": "2022-09-18T05:53:16.027124Z",
     "iopub.status.idle": "2022-09-18T05:53:16.035644Z",
     "shell.execute_reply": "2022-09-18T05:53:16.034151Z"
    },
    "papermill": {
     "duration": 0.045384,
     "end_time": "2022-09-18T05:53:16.038503",
     "exception": false,
     "start_time": "2022-09-18T05:53:15.993119",
     "status": "completed"
    },
    "tags": []
   },
   "outputs": [
    {
     "name": "stdout",
     "output_type": "stream",
     "text": [
      "[ 2  6 10 14 18 22 26 30 34 38 42 46 50 54 58 62 66 70 74 78 82 86 90 94\n",
      " 98]\n"
     ]
    }
   ],
   "source": [
    "sample=np.arange(2,100,4)\n",
    "print(sample)"
   ]
  },
  {
   "cell_type": "code",
   "execution_count": 67,
   "id": "3be7ccb7",
   "metadata": {
    "execution": {
     "iopub.execute_input": "2022-09-18T05:53:16.100040Z",
     "iopub.status.busy": "2022-09-18T05:53:16.099633Z",
     "iopub.status.idle": "2022-09-18T05:53:16.106773Z",
     "shell.execute_reply": "2022-09-18T05:53:16.105196Z"
    },
    "papermill": {
     "duration": 0.04094,
     "end_time": "2022-09-18T05:53:16.109582",
     "exception": false,
     "start_time": "2022-09-18T05:53:16.068642",
     "status": "completed"
    },
    "tags": []
   },
   "outputs": [
    {
     "name": "stdout",
     "output_type": "stream",
     "text": [
      "1250\n"
     ]
    }
   ],
   "source": [
    "print(sample.sum())"
   ]
  },
  {
   "cell_type": "code",
   "execution_count": 68,
   "id": "1d9779ea",
   "metadata": {
    "execution": {
     "iopub.execute_input": "2022-09-18T05:53:16.179679Z",
     "iopub.status.busy": "2022-09-18T05:53:16.179245Z",
     "iopub.status.idle": "2022-09-18T05:53:16.186785Z",
     "shell.execute_reply": "2022-09-18T05:53:16.185346Z"
    },
    "papermill": {
     "duration": 0.044534,
     "end_time": "2022-09-18T05:53:16.191062",
     "exception": false,
     "start_time": "2022-09-18T05:53:16.146528",
     "status": "completed"
    },
    "tags": []
   },
   "outputs": [
    {
     "name": "stdout",
     "output_type": "stream",
     "text": [
      "98\n"
     ]
    }
   ],
   "source": [
    "print(sample.max())"
   ]
  },
  {
   "cell_type": "code",
   "execution_count": 69,
   "id": "3ced24d6",
   "metadata": {
    "execution": {
     "iopub.execute_input": "2022-09-18T05:53:16.257932Z",
     "iopub.status.busy": "2022-09-18T05:53:16.257326Z",
     "iopub.status.idle": "2022-09-18T05:53:16.264919Z",
     "shell.execute_reply": "2022-09-18T05:53:16.263280Z"
    },
    "papermill": {
     "duration": 0.044056,
     "end_time": "2022-09-18T05:53:16.267666",
     "exception": false,
     "start_time": "2022-09-18T05:53:16.223610",
     "status": "completed"
    },
    "tags": []
   },
   "outputs": [
    {
     "name": "stdout",
     "output_type": "stream",
     "text": [
      "2\n"
     ]
    }
   ],
   "source": [
    "print(sample.min())"
   ]
  },
  {
   "cell_type": "code",
   "execution_count": 70,
   "id": "94df17bc",
   "metadata": {
    "execution": {
     "iopub.execute_input": "2022-09-18T05:53:16.332551Z",
     "iopub.status.busy": "2022-09-18T05:53:16.332097Z",
     "iopub.status.idle": "2022-09-18T05:53:16.338706Z",
     "shell.execute_reply": "2022-09-18T05:53:16.337066Z"
    },
    "papermill": {
     "duration": 0.042928,
     "end_time": "2022-09-18T05:53:16.342213",
     "exception": false,
     "start_time": "2022-09-18T05:53:16.299285",
     "status": "completed"
    },
    "tags": []
   },
   "outputs": [
    {
     "name": "stdout",
     "output_type": "stream",
     "text": [
      "50.0\n"
     ]
    }
   ],
   "source": [
    "print(sample.mean())"
   ]
  },
  {
   "cell_type": "markdown",
   "id": "a489c69f",
   "metadata": {
    "papermill": {
     "duration": 0.031396,
     "end_time": "2022-09-18T05:53:16.406084",
     "exception": false,
     "start_time": "2022-09-18T05:53:16.374688",
     "status": "completed"
    },
    "tags": []
   },
   "source": [
    "## Working with numpy.random.randint\n",
    "- Return random integers from low (inclusive) to high (exclusive).\n",
    "- **Syntex:** <H3>random.randint(low, high=None, size=None, dtype=int)</H3>\n",
    "\n",
    "- Return random integers from the “discrete uniform” distribution of the specified dtype in the “half-open” interval [low, high). If high is None (the default), then results are from [0, low)"
   ]
  },
  {
   "cell_type": "code",
   "execution_count": 71,
   "id": "36ca83ac",
   "metadata": {
    "execution": {
     "iopub.execute_input": "2022-09-18T05:53:16.470588Z",
     "iopub.status.busy": "2022-09-18T05:53:16.470137Z",
     "iopub.status.idle": "2022-09-18T05:53:16.476257Z",
     "shell.execute_reply": "2022-09-18T05:53:16.474948Z"
    },
    "papermill": {
     "duration": 0.043715,
     "end_time": "2022-09-18T05:53:16.480465",
     "exception": false,
     "start_time": "2022-09-18T05:53:16.436750",
     "status": "completed"
    },
    "tags": []
   },
   "outputs": [
    {
     "name": "stdout",
     "output_type": "stream",
     "text": [
      "[[49 38 27 19]\n",
      " [ 1 43 38  8]\n",
      " [25 14 49 42]\n",
      " [26 44 19  7]\n",
      " [ 3 33 14  5]\n",
      " [20 35 38 31]\n",
      " [ 8 18 11 41]\n",
      " [45 34  6 17]]\n"
     ]
    }
   ],
   "source": [
    "sample=np.random.randint(0,50,(8,4)) #(size of array)\n",
    "print(sample)"
   ]
  },
  {
   "cell_type": "code",
   "execution_count": 72,
   "id": "f56992ed",
   "metadata": {
    "execution": {
     "iopub.execute_input": "2022-09-18T05:53:16.547418Z",
     "iopub.status.busy": "2022-09-18T05:53:16.547013Z",
     "iopub.status.idle": "2022-09-18T05:53:16.553922Z",
     "shell.execute_reply": "2022-09-18T05:53:16.552465Z"
    },
    "papermill": {
     "duration": 0.0447,
     "end_time": "2022-09-18T05:53:16.557965",
     "exception": false,
     "start_time": "2022-09-18T05:53:16.513265",
     "status": "completed"
    },
    "tags": []
   },
   "outputs": [
    {
     "name": "stdout",
     "output_type": "stream",
     "text": [
      "[[29 45 13 16]\n",
      " [23 43 33  4]\n",
      " [23 30 44  3]\n",
      " [23  0 17 17]\n",
      " [ 7 25 12 14]\n",
      " [41  4 13 48]\n",
      " [45 11 30  5]\n",
      " [10 17 28 11]] \n",
      "\n",
      "Data type of sample: int8\n"
     ]
    }
   ],
   "source": [
    "sample=np.random.randint(0,50,(8,4),dtype=np.int8) #(size of array)\n",
    "print(sample,\"\\n\\nData type of sample:\",sample.dtype)"
   ]
  },
  {
   "cell_type": "code",
   "execution_count": 73,
   "id": "3dd9a480",
   "metadata": {
    "execution": {
     "iopub.execute_input": "2022-09-18T05:53:16.710242Z",
     "iopub.status.busy": "2022-09-18T05:53:16.709738Z",
     "iopub.status.idle": "2022-09-18T05:53:16.717570Z",
     "shell.execute_reply": "2022-09-18T05:53:16.716153Z"
    },
    "papermill": {
     "duration": 0.129873,
     "end_time": "2022-09-18T05:53:16.720105",
     "exception": false,
     "start_time": "2022-09-18T05:53:16.590232",
     "status": "completed"
    },
    "tags": []
   },
   "outputs": [
    {
     "name": "stdout",
     "output_type": "stream",
     "text": [
      "[[47 29 41 12]\n",
      " [36 42 38  6]\n",
      " [46 35 18 22]\n",
      " [ 3 19  1 49]\n",
      " [13 15 14 48]\n",
      " [21  7 43 38]\n",
      " [21 36  8  2]\n",
      " [22  9 43 12]] \n",
      "\n",
      "Data type of sample: int64\n"
     ]
    }
   ],
   "source": [
    "sample=np.random.randint(0.45,50.2,(8,4)) #(size of array)\n",
    "print(sample,\"\\n\\nData type of sample:\",sample.dtype)"
   ]
  },
  {
   "cell_type": "markdown",
   "id": "d0b9ab98",
   "metadata": {
    "papermill": {
     "duration": 0.029888,
     "end_time": "2022-09-18T05:53:16.782942",
     "exception": false,
     "start_time": "2022-09-18T05:53:16.753054",
     "status": "completed"
    },
    "tags": []
   },
   "source": [
    "## Working with numpy.random.rand:\n",
    "- Random values in a given shape.\n",
    "- **Syntex:** <H3>random.randint(low, high=None, size=None, dtype=int)</H3>\n"
   ]
  },
  {
   "cell_type": "code",
   "execution_count": 74,
   "id": "45bfff3f",
   "metadata": {
    "execution": {
     "iopub.execute_input": "2022-09-18T05:53:16.851595Z",
     "iopub.status.busy": "2022-09-18T05:53:16.851167Z",
     "iopub.status.idle": "2022-09-18T05:53:16.858230Z",
     "shell.execute_reply": "2022-09-18T05:53:16.856429Z"
    },
    "papermill": {
     "duration": 0.044902,
     "end_time": "2022-09-18T05:53:16.861221",
     "exception": false,
     "start_time": "2022-09-18T05:53:16.816319",
     "status": "completed"
    },
    "tags": []
   },
   "outputs": [
    {
     "name": "stdout",
     "output_type": "stream",
     "text": [
      "Random flaot value array of given shape(4,5):\n",
      " [[0.64370415 0.50586574 0.89202971 0.19399535 0.14178522]\n",
      " [0.07207723 0.14606671 0.85289588 0.09651141 0.26069749]\n",
      " [0.33922754 0.16302545 0.87441604 0.04707486 0.29909671]\n",
      " [0.08219604 0.6025129  0.93653328 0.93389212 0.3461074 ]] \n",
      "\n",
      "Shape: (4, 5) \n",
      "Data type: float64\n"
     ]
    }
   ],
   "source": [
    "sample=np.random.rand(4,5)\n",
    "print(\"Random flaot value array of given shape(4,5):\\n\",sample,\"\\n\\nShape:\",sample.shape,\"\\nData type:\",sample.dtype)\n"
   ]
  },
  {
   "cell_type": "code",
   "execution_count": 75,
   "id": "38da8963",
   "metadata": {
    "execution": {
     "iopub.execute_input": "2022-09-18T05:53:16.926418Z",
     "iopub.status.busy": "2022-09-18T05:53:16.925954Z",
     "iopub.status.idle": "2022-09-18T05:53:16.933745Z",
     "shell.execute_reply": "2022-09-18T05:53:16.932516Z"
    },
    "papermill": {
     "duration": 0.042715,
     "end_time": "2022-09-18T05:53:16.936321",
     "exception": false,
     "start_time": "2022-09-18T05:53:16.893606",
     "status": "completed"
    },
    "tags": []
   },
   "outputs": [
    {
     "data": {
      "text/plain": [
       "array([[6.93111244, 6.51759723, 7.67608914, 5.58198604, 5.42535565],\n",
       "       [5.21623168, 5.43820014, 7.55868763, 5.28953422, 5.78209248],\n",
       "       [6.01768261, 5.48907635, 7.62324812, 5.14122458, 5.89729013],\n",
       "       [5.24658811, 6.8075387 , 7.80959985, 7.80167636, 6.03832219]])"
      ]
     },
     "execution_count": 75,
     "metadata": {},
     "output_type": "execute_result"
    }
   ],
   "source": [
    "3*sample+5"
   ]
  },
  {
   "cell_type": "code",
   "execution_count": null,
   "id": "f34b2e00",
   "metadata": {
    "papermill": {
     "duration": 0.031842,
     "end_time": "2022-09-18T05:53:17.002058",
     "exception": false,
     "start_time": "2022-09-18T05:53:16.970216",
     "status": "completed"
    },
    "tags": []
   },
   "outputs": [],
   "source": []
  }
 ],
 "metadata": {
  "kernelspec": {
   "display_name": "Python 3",
   "language": "python",
   "name": "python3"
  },
  "language_info": {
   "codemirror_mode": {
    "name": "ipython",
    "version": 3
   },
   "file_extension": ".py",
   "mimetype": "text/x-python",
   "name": "python",
   "nbconvert_exporter": "python",
   "pygments_lexer": "ipython3",
   "version": "3.7.12"
  },
  "papermill": {
   "default_parameters": {},
   "duration": 22.102948,
   "end_time": "2022-09-18T05:53:17.857109",
   "environment_variables": {},
   "exception": null,
   "input_path": "__notebook__.ipynb",
   "output_path": "__notebook__.ipynb",
   "parameters": {},
   "start_time": "2022-09-18T05:52:55.754161",
   "version": "2.3.4"
  }
 },
 "nbformat": 4,
 "nbformat_minor": 5
}
