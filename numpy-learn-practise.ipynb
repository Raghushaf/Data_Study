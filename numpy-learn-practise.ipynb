{
 "cells": [
  {
   "cell_type": "code",
   "execution_count": 1,
   "id": "4053af69",
   "metadata": {
    "_cell_guid": "b1076dfc-b9ad-4769-8c92-a6c4dae69d19",
    "_uuid": "8f2839f25d086af736a60e9eeb907d3b93b6e0e5",
    "execution": {
     "iopub.execute_input": "2022-09-17T08:38:42.525054Z",
     "iopub.status.busy": "2022-09-17T08:38:42.524584Z",
     "iopub.status.idle": "2022-09-17T08:38:42.536287Z",
     "shell.execute_reply": "2022-09-17T08:38:42.535261Z"
    },
    "papermill": {
     "duration": 0.038682,
     "end_time": "2022-09-17T08:38:42.539241",
     "exception": false,
     "start_time": "2022-09-17T08:38:42.500559",
     "status": "completed"
    },
    "tags": []
   },
   "outputs": [],
   "source": [
    "# This Python 3 environment comes with many helpful analytics libraries installed\n",
    "# It is defined by the kaggle/python Docker image: https://github.com/kaggle/docker-python\n",
    "# For example, here's several helpful packages to load\n",
    "\n",
    "import numpy as np # linear algebra\n",
    "import pandas as pd # data processing, CSV file I/O (e.g. pd.read_csv)\n",
    "\n",
    "# Input data files are available in the read-only \"../input/\" directory\n",
    "# For example, running this (by clicking run or pressing Shift+Enter) will list all files under the input directory\n",
    "\n",
    "import os\n",
    "for dirname, _, filenames in os.walk('/kaggle/input'):\n",
    "    for filename in filenames:\n",
    "        print(os.path.join(dirname, filename))\n",
    "\n",
    "# You can write up to 20GB to the current directory (/kaggle/working/) that gets preserved as output when you create a version using \"Save & Run All\" \n",
    "# You can also write temporary files to /kaggle/temp/, but they won't be saved outside of the current session"
   ]
  },
  {
   "cell_type": "markdown",
   "id": "8fc1a5a6",
   "metadata": {
    "papermill": {
     "duration": 0.016721,
     "end_time": "2022-09-17T08:38:42.573308",
     "exception": false,
     "start_time": "2022-09-17T08:38:42.556587",
     "status": "completed"
    },
    "tags": []
   },
   "source": [
    "### Creating 1-D Array:"
   ]
  },
  {
   "cell_type": "code",
   "execution_count": 2,
   "id": "5e297ff9",
   "metadata": {
    "execution": {
     "iopub.execute_input": "2022-09-17T08:38:42.609364Z",
     "iopub.status.busy": "2022-09-17T08:38:42.608892Z",
     "iopub.status.idle": "2022-09-17T08:38:42.617788Z",
     "shell.execute_reply": "2022-09-17T08:38:42.616387Z"
    },
    "papermill": {
     "duration": 0.030308,
     "end_time": "2022-09-17T08:38:42.620491",
     "exception": false,
     "start_time": "2022-09-17T08:38:42.590183",
     "status": "completed"
    },
    "tags": []
   },
   "outputs": [
    {
     "name": "stdout",
     "output_type": "stream",
     "text": [
      "This is 1-D array: [1 2 3 4 5]\n"
     ]
    }
   ],
   "source": [
    "arr1d=np.array([1,2,3,4,5])\n",
    "print(\"This is 1-D array:\",arr1d)"
   ]
  },
  {
   "cell_type": "markdown",
   "id": "544c3e54",
   "metadata": {
    "papermill": {
     "duration": 0.016554,
     "end_time": "2022-09-17T08:38:42.653936",
     "exception": false,
     "start_time": "2022-09-17T08:38:42.637382",
     "status": "completed"
    },
    "tags": []
   },
   "source": [
    "### Creating 2-D Array:"
   ]
  },
  {
   "cell_type": "code",
   "execution_count": 3,
   "id": "245d4f78",
   "metadata": {
    "execution": {
     "iopub.execute_input": "2022-09-17T08:38:42.690390Z",
     "iopub.status.busy": "2022-09-17T08:38:42.689215Z",
     "iopub.status.idle": "2022-09-17T08:38:42.697463Z",
     "shell.execute_reply": "2022-09-17T08:38:42.695884Z"
    },
    "papermill": {
     "duration": 0.031062,
     "end_time": "2022-09-17T08:38:42.701926",
     "exception": false,
     "start_time": "2022-09-17T08:38:42.670864",
     "status": "completed"
    },
    "tags": []
   },
   "outputs": [
    {
     "name": "stdout",
     "output_type": "stream",
     "text": [
      "This is 2-D array:\n",
      "\n",
      " [[1 2 3 4]\n",
      " [1 2 3 4]\n",
      " [1 2 3 4]]\n"
     ]
    }
   ],
   "source": [
    "arr2d=np.array([[1,2,3,4],\n",
    "                [1,2,3,4],\n",
    "                [1,2,3,4],\n",
    "               ])\n",
    "print(\"This is 2-D array:\\n\\n\",arr2d)"
   ]
  },
  {
   "cell_type": "markdown",
   "id": "322fe629",
   "metadata": {
    "papermill": {
     "duration": 0.017187,
     "end_time": "2022-09-17T08:38:42.737680",
     "exception": false,
     "start_time": "2022-09-17T08:38:42.720493",
     "status": "completed"
    },
    "tags": []
   },
   "source": [
    "### Creating 3-D or Multi-D Array:"
   ]
  },
  {
   "cell_type": "code",
   "execution_count": 4,
   "id": "24976057",
   "metadata": {
    "execution": {
     "iopub.execute_input": "2022-09-17T08:38:42.775306Z",
     "iopub.status.busy": "2022-09-17T08:38:42.774718Z",
     "iopub.status.idle": "2022-09-17T08:38:42.783532Z",
     "shell.execute_reply": "2022-09-17T08:38:42.781951Z"
    },
    "papermill": {
     "duration": 0.031632,
     "end_time": "2022-09-17T08:38:42.786635",
     "exception": false,
     "start_time": "2022-09-17T08:38:42.755003",
     "status": "completed"
    },
    "tags": []
   },
   "outputs": [
    {
     "name": "stdout",
     "output_type": "stream",
     "text": [
      "This is 3-D array:\n",
      "\n",
      " [[[1 2 3 4]\n",
      "  [1 2 3 4]\n",
      "  [1 2 3 4]]\n",
      "\n",
      " [[1 2 3 4]\n",
      "  [1 2 3 4]\n",
      "  [1 2 3 4]]\n",
      "\n",
      " [[1 2 3 4]\n",
      "  [1 2 3 4]\n",
      "  [1 2 3 4]]]\n"
     ]
    }
   ],
   "source": [
    "arr3d=np.array([[[1,2,3,4],\n",
    "                [1,2,3,4],\n",
    "                [1,2,3,4],\n",
    "               ],\n",
    "               [[1,2,3,4],\n",
    "                [1,2,3,4],\n",
    "                [1,2,3,4],\n",
    "               ],\n",
    "                [[1,2,3,4],\n",
    "                [1,2,3,4],\n",
    "                [1,2,3,4],\n",
    "               ]])\n",
    "print(\"This is 3-D array:\\n\\n\",arr3d)"
   ]
  },
  {
   "cell_type": "markdown",
   "id": "fe985119",
   "metadata": {
    "papermill": {
     "duration": 0.017161,
     "end_time": "2022-09-17T08:38:42.824677",
     "exception": false,
     "start_time": "2022-09-17T08:38:42.807516",
     "status": "completed"
    },
    "tags": []
   },
   "source": [
    "### Use of type() function:\n",
    "- It will give the type of object.\n"
   ]
  },
  {
   "cell_type": "code",
   "execution_count": 5,
   "id": "efa045d9",
   "metadata": {
    "execution": {
     "iopub.execute_input": "2022-09-17T08:38:42.861050Z",
     "iopub.status.busy": "2022-09-17T08:38:42.860680Z",
     "iopub.status.idle": "2022-09-17T08:38:42.866732Z",
     "shell.execute_reply": "2022-09-17T08:38:42.865243Z"
    },
    "papermill": {
     "duration": 0.02761,
     "end_time": "2022-09-17T08:38:42.869204",
     "exception": false,
     "start_time": "2022-09-17T08:38:42.841594",
     "status": "completed"
    },
    "tags": []
   },
   "outputs": [
    {
     "name": "stdout",
     "output_type": "stream",
     "text": [
      "type of array 1-D array: <class 'numpy.ndarray'>\n"
     ]
    }
   ],
   "source": [
    "print(\"type of array 1-D array:\",type(arr1d))"
   ]
  },
  {
   "cell_type": "markdown",
   "id": "79920741",
   "metadata": {
    "papermill": {
     "duration": 0.016995,
     "end_time": "2022-09-17T08:38:42.903231",
     "exception": false,
     "start_time": "2022-09-17T08:38:42.886236",
     "status": "completed"
    },
    "tags": []
   },
   "source": [
    "### Use of ndim:\n",
    "- It will give the dimention of NumPy array."
   ]
  },
  {
   "cell_type": "code",
   "execution_count": 6,
   "id": "91513de1",
   "metadata": {
    "execution": {
     "iopub.execute_input": "2022-09-17T08:38:42.940651Z",
     "iopub.status.busy": "2022-09-17T08:38:42.940249Z",
     "iopub.status.idle": "2022-09-17T08:38:42.946820Z",
     "shell.execute_reply": "2022-09-17T08:38:42.945017Z"
    },
    "papermill": {
     "duration": 0.030247,
     "end_time": "2022-09-17T08:38:42.950564",
     "exception": false,
     "start_time": "2022-09-17T08:38:42.920317",
     "status": "completed"
    },
    "tags": []
   },
   "outputs": [
    {
     "name": "stdout",
     "output_type": "stream",
     "text": [
      "Dimention of Array arr1d:-> 1\n",
      "Dimention of Array arr2d:-> 2\n",
      "Dimention of Array arr3d:-> 3\n"
     ]
    }
   ],
   "source": [
    "print(\"Dimention of Array arr1d:->\",arr1d.ndim)\n",
    "print(\"Dimention of Array arr2d:->\",arr2d.ndim)\n",
    "print(\"Dimention of Array arr3d:->\",arr3d.ndim)"
   ]
  },
  {
   "cell_type": "markdown",
   "id": "ff1c8557",
   "metadata": {
    "papermill": {
     "duration": 0.018344,
     "end_time": "2022-09-17T08:38:42.988038",
     "exception": false,
     "start_time": "2022-09-17T08:38:42.969694",
     "status": "completed"
    },
    "tags": []
   },
   "source": [
    "### Use of shape:\n",
    "- It will give you shape of array."
   ]
  },
  {
   "cell_type": "code",
   "execution_count": 7,
   "id": "82d7c480",
   "metadata": {
    "execution": {
     "iopub.execute_input": "2022-09-17T08:38:43.025317Z",
     "iopub.status.busy": "2022-09-17T08:38:43.024900Z",
     "iopub.status.idle": "2022-09-17T08:38:43.030538Z",
     "shell.execute_reply": "2022-09-17T08:38:43.029454Z"
    },
    "papermill": {
     "duration": 0.028075,
     "end_time": "2022-09-17T08:38:43.033802",
     "exception": false,
     "start_time": "2022-09-17T08:38:43.005727",
     "status": "completed"
    },
    "tags": []
   },
   "outputs": [
    {
     "name": "stdout",
     "output_type": "stream",
     "text": [
      "Shape of array arr1d will be:  (5,)\n",
      "Shape of array qrr2d will be: (3, 4)\n",
      "Shape of array arr3d will be: (3, 3, 4)\n"
     ]
    }
   ],
   "source": [
    "print(\"Shape of array arr1d will be: \", arr1d.shape)\n",
    "print(\"Shape of array qrr2d will be:\", arr2d.shape)\n",
    "print(\"Shape of array arr3d will be:\", arr3d.shape)"
   ]
  },
  {
   "cell_type": "markdown",
   "id": "f886091a",
   "metadata": {
    "papermill": {
     "duration": 0.017285,
     "end_time": "2022-09-17T08:38:43.068533",
     "exception": false,
     "start_time": "2022-09-17T08:38:43.051248",
     "status": "completed"
    },
    "tags": []
   },
   "source": [
    "*** \n",
    "### Data Types in Python\n",
    "- By default Python have these data types:\n",
    "    - strings - used to represent text data, the text is given under quote marks. e.g. \"ABCD\"\n",
    "    - integer - used to represent integer numbers. e.g. -1, -2, -3\n",
    "    - float - used to represent real numbers. e.g. 1.2, 42.42\n",
    "    - boolean - used to represent True or False.\n",
    "    - complex - used to represent complex numbers. e.g. 1.0 + 2.0j, 1.5 + 2.5j \n",
    "***"
   ]
  },
  {
   "cell_type": "markdown",
   "id": "b6fd6b44",
   "metadata": {
    "papermill": {
     "duration": 0.017232,
     "end_time": "2022-09-17T08:38:43.102997",
     "exception": false,
     "start_time": "2022-09-17T08:38:43.085765",
     "status": "completed"
    },
    "tags": []
   },
   "source": [
    "***\n",
    "### Data Types in NumPy\n",
    "- NumPy has some extra data types, and refer to data types with one character, like i for integers, u for unsigned integers etc.\n",
    "\n",
    "    Below is a list of all data types in NumPy and the characters used to represent them.\n",
    "\n",
    "    - i - integer\n",
    "    - b - boolean\n",
    "    - u - unsigned integer\n",
    "    - f - float\n",
    "    - c - complex float\n",
    "    - m - timedelta\n",
    "    - M - datetime\n",
    "    - O - object\n",
    "    - S - string\n",
    "    - U - unicode string\n",
    "    - V - fixed chunk of memory for other type ( void )\n",
    "\n",
    "***\n",
    "- <H4>Use of dtype:</H4>\n",
    "    - It give what kind of data means type of data we are using."
   ]
  },
  {
   "cell_type": "code",
   "execution_count": 8,
   "id": "a0c069ee",
   "metadata": {
    "execution": {
     "iopub.execute_input": "2022-09-17T08:38:43.139693Z",
     "iopub.status.busy": "2022-09-17T08:38:43.139090Z",
     "iopub.status.idle": "2022-09-17T08:38:43.145751Z",
     "shell.execute_reply": "2022-09-17T08:38:43.144165Z"
    },
    "papermill": {
     "duration": 0.028731,
     "end_time": "2022-09-17T08:38:43.148773",
     "exception": false,
     "start_time": "2022-09-17T08:38:43.120042",
     "status": "completed"
    },
    "tags": []
   },
   "outputs": [
    {
     "name": "stdout",
     "output_type": "stream",
     "text": [
      "Data type of array arr1d: int64\n",
      "Data type of array arr1d: int64\n",
      "Data type of array arr1d: int64\n"
     ]
    }
   ],
   "source": [
    "print(\"Data type of array arr1d:\", arr1d.dtype)\n",
    "print(\"Data type of array arr1d:\", arr2d.dtype)\n",
    "print(\"Data type of array arr1d:\", arr3d.dtype)"
   ]
  },
  {
   "cell_type": "code",
   "execution_count": 9,
   "id": "f0eaeb0a",
   "metadata": {
    "execution": {
     "iopub.execute_input": "2022-09-17T08:38:43.185335Z",
     "iopub.status.busy": "2022-09-17T08:38:43.184977Z",
     "iopub.status.idle": "2022-09-17T08:38:43.190777Z",
     "shell.execute_reply": "2022-09-17T08:38:43.189508Z"
    },
    "papermill": {
     "duration": 0.027015,
     "end_time": "2022-09-17T08:38:43.193476",
     "exception": false,
     "start_time": "2022-09-17T08:38:43.166461",
     "status": "completed"
    },
    "tags": []
   },
   "outputs": [
    {
     "name": "stdout",
     "output_type": "stream",
     "text": [
      "Data type of array arr: <U6\n"
     ]
    }
   ],
   "source": [
    "arr = np.array(['apple', 'banana', 'cherry'])\n",
    "\n",
    "print(\"Data type of array arr:\", arr.dtype)"
   ]
  },
  {
   "cell_type": "markdown",
   "id": "a159ac4a",
   "metadata": {
    "papermill": {
     "duration": 0.017367,
     "end_time": "2022-09-17T08:38:43.228160",
     "exception": false,
     "start_time": "2022-09-17T08:38:43.210793",
     "status": "completed"
    },
    "tags": []
   },
   "source": [
    "- Create an array with data type string:"
   ]
  },
  {
   "cell_type": "code",
   "execution_count": 10,
   "id": "461e5928",
   "metadata": {
    "execution": {
     "iopub.execute_input": "2022-09-17T08:38:43.265500Z",
     "iopub.status.busy": "2022-09-17T08:38:43.264233Z",
     "iopub.status.idle": "2022-09-17T08:38:43.272031Z",
     "shell.execute_reply": "2022-09-17T08:38:43.270317Z"
    },
    "papermill": {
     "duration": 0.029127,
     "end_time": "2022-09-17T08:38:43.274673",
     "exception": false,
     "start_time": "2022-09-17T08:38:43.245546",
     "status": "completed"
    },
    "tags": []
   },
   "outputs": [
    {
     "name": "stdout",
     "output_type": "stream",
     "text": [
      "Here is array: [b'1' b'2' b'3' b'4']\n",
      "Data type of array arr: |S1\n"
     ]
    }
   ],
   "source": [
    "arr = np.array([1, 2, 3, 4], dtype='S')\n",
    "\n",
    "print(\"Here is array:\",arr)\n",
    "print(\"Data type of array arr:\", arr.dtype)\n"
   ]
  },
  {
   "cell_type": "markdown",
   "id": "539bfe8e",
   "metadata": {
    "papermill": {
     "duration": 0.016839,
     "end_time": "2022-09-17T08:38:43.308771",
     "exception": false,
     "start_time": "2022-09-17T08:38:43.291932",
     "status": "completed"
    },
    "tags": []
   },
   "source": [
    " ## Note: For i, u, f, S and U we can define size as well."
   ]
  },
  {
   "cell_type": "markdown",
   "id": "9d7c45cc",
   "metadata": {
    "papermill": {
     "duration": 0.016985,
     "end_time": "2022-09-17T08:38:43.343079",
     "exception": false,
     "start_time": "2022-09-17T08:38:43.326094",
     "status": "completed"
    },
    "tags": []
   },
   "source": [
    "- Create an array with data type 4 bytes integer:"
   ]
  },
  {
   "cell_type": "code",
   "execution_count": 11,
   "id": "d0924da8",
   "metadata": {
    "execution": {
     "iopub.execute_input": "2022-09-17T08:38:43.379205Z",
     "iopub.status.busy": "2022-09-17T08:38:43.378836Z",
     "iopub.status.idle": "2022-09-17T08:38:43.386710Z",
     "shell.execute_reply": "2022-09-17T08:38:43.385531Z"
    },
    "papermill": {
     "duration": 0.029401,
     "end_time": "2022-09-17T08:38:43.389600",
     "exception": false,
     "start_time": "2022-09-17T08:38:43.360199",
     "status": "completed"
    },
    "tags": []
   },
   "outputs": [
    {
     "name": "stdout",
     "output_type": "stream",
     "text": [
      "[1 2 3 4]\n",
      "int32\n"
     ]
    }
   ],
   "source": [
    "arr = np.array([1, 2, 3, 4], dtype='i4')\n",
    "print(arr)\n",
    "print(arr.dtype)"
   ]
  },
  {
   "cell_type": "markdown",
   "id": "b56ea1f0",
   "metadata": {
    "papermill": {
     "duration": 0.0171,
     "end_time": "2022-09-17T08:38:43.424927",
     "exception": false,
     "start_time": "2022-09-17T08:38:43.407827",
     "status": "completed"
    },
    "tags": []
   },
   "source": [
    "- There is diffrence between type of value and given type.\n",
    "- that's why error.\n",
    "\n",
    "``` python\n",
    "arr = np.array(['a', '2', '3'], dtype='i')\n",
    "\n",
    "---------------------------------------------------------------------------\n",
    "ValueError                                Traceback (most recent call last)\n",
    "Input In [35], in <cell line: 1>()\n",
    "----> 1 arr = np.array(['a', '2', '3'], dtype='i')\n",
    "\n",
    "ValueError: invalid literal for int() with base 10: 'a'\n",
    "        \n",
    "```"
   ]
  },
  {
   "cell_type": "markdown",
   "id": "4c4726c7",
   "metadata": {
    "papermill": {
     "duration": 0.017546,
     "end_time": "2022-09-17T08:38:43.465242",
     "exception": false,
     "start_time": "2022-09-17T08:38:43.447696",
     "status": "completed"
    },
    "tags": []
   },
   "source": [
    "***\n",
    "#### Converting Data Type on Existing Arrays\n",
    "- The astype() function creates a copy of the array, and allows you to specify the data type as a parameter.\n",
    "\n",
    "- The data type can be specified using a string, like 'f' for float, 'i' for integer etc. or you can use the data type directly like float for float and int for integer.\n",
    "<li>\n",
    "    The argument dtype=int doesn’t refer to Python int. It translates to NumPy int64 or simply np.int.\n",
    "\n",
    "    - NumPy offers you several integer fixed-sized dtypes that differ in memory and limits:\n",
    "\n",
    "    1. np.int8: 8-bit signed integer (from -128 to 127)\n",
    "    2. np.uint8: 8-bit unsigned integer (from 0 to 255)\n",
    "    3. np.int16: 16-bit signed integer (from -32768 to 32767)\n",
    "    4. np.uint16: 16-bit unsigned integer (from 0 to 65535)\n",
    "    5. np.int32: 32-bit signed integer (from -2<sup>31</sup> to 2<sup>31</sup>-1)\n",
    "    6. np.uint32: 32-bit unsigned integer (from 0 to 2<sup>31</sup>-1)\n",
    "    7. np.int64: 64-bit signed integer (from -2<sup>63</sup> to 2<sup>63</sup>-1)\n",
    "    8. np.uint64: 64-bit unsigned integer (from 0 to 2<sup>64</sup>-1)\n",
    "</li>\n",
    "***"
   ]
  },
  {
   "cell_type": "code",
   "execution_count": 12,
   "id": "905de175",
   "metadata": {
    "execution": {
     "iopub.execute_input": "2022-09-17T08:38:43.513348Z",
     "iopub.status.busy": "2022-09-17T08:38:43.512191Z",
     "iopub.status.idle": "2022-09-17T08:38:43.523037Z",
     "shell.execute_reply": "2022-09-17T08:38:43.521520Z"
    },
    "papermill": {
     "duration": 0.041774,
     "end_time": "2022-09-17T08:38:43.526419",
     "exception": false,
     "start_time": "2022-09-17T08:38:43.484645",
     "status": "completed"
    },
    "tags": []
   },
   "outputs": [
    {
     "name": "stdout",
     "output_type": "stream",
     "text": [
      "\n",
      "'i' as parameter\n",
      "This is array with float as Data type: [1.1 2.1 3.1] float64\n",
      "\n",
      "This is new array with Data type int: [1 2 3] int32\n",
      "\n",
      "###################################################################\n",
      "\n",
      "'int' as parameter\n",
      "\n",
      "This is array with float as Data type: [1.1 2.1 3.1] float64\n",
      "\n",
      "This is new array with Data type int: [1 2 3] int64\n"
     ]
    }
   ],
   "source": [
    "print(\"\\n'i' as parameter\")\n",
    "\n",
    "arr = np.array([1.1, 2.1, 3.1])\n",
    "print(\"This is array with float as Data type:\",arr,arr.dtype)\n",
    "\n",
    "newarr = arr.astype('i')\n",
    "\n",
    "print(\"\\nThis is new array with Data type int:\",newarr,newarr.dtype)\n",
    "\n",
    "print('\\n###################################################################')\n",
    "\n",
    "print(\"\\n'int' as parameter\")\n",
    "arr = np.array([1.1, 2.1, 3.1])\n",
    "print(\"\\nThis is array with float as Data type:\",arr,arr.dtype)\n",
    "\n",
    "newarr = arr.astype(int)\n",
    "\n",
    "print(\"\\nThis is new array with Data type int:\",newarr,newarr.dtype)"
   ]
  },
  {
   "cell_type": "markdown",
   "id": "de825353",
   "metadata": {
    "papermill": {
     "duration": 0.017631,
     "end_time": "2022-09-17T08:38:43.568646",
     "exception": false,
     "start_time": "2022-09-17T08:38:43.551015",
     "status": "completed"
    },
    "tags": []
   },
   "source": [
    "- Change data type from float to integer by using **\"i\" as parameter value:**"
   ]
  },
  {
   "cell_type": "code",
   "execution_count": 13,
   "id": "1e902410",
   "metadata": {
    "execution": {
     "iopub.execute_input": "2022-09-17T08:38:43.605831Z",
     "iopub.status.busy": "2022-09-17T08:38:43.605319Z",
     "iopub.status.idle": "2022-09-17T08:38:43.614054Z",
     "shell.execute_reply": "2022-09-17T08:38:43.612118Z"
    },
    "papermill": {
     "duration": 0.030317,
     "end_time": "2022-09-17T08:38:43.616670",
     "exception": false,
     "start_time": "2022-09-17T08:38:43.586353",
     "status": "completed"
    },
    "tags": []
   },
   "outputs": [
    {
     "name": "stdout",
     "output_type": "stream",
     "text": [
      "New array with int value [1 2 3]\n",
      "Old Data type: float64\n",
      "New data type: int32\n"
     ]
    }
   ],
   "source": [
    "arr = np.array([1.1, 2.1, 3.1])\n",
    "\n",
    "newarr = arr.astype('i')\n",
    "\n",
    "print(\"New array with int value\",newarr)\n",
    "print(\"Old Data type:\",arr.dtype)\n",
    "print(\"New data type:\",newarr.dtype)"
   ]
  },
  {
   "cell_type": "markdown",
   "id": "60684e1b",
   "metadata": {
    "papermill": {
     "duration": 0.017678,
     "end_time": "2022-09-17T08:38:43.652560",
     "exception": false,
     "start_time": "2022-09-17T08:38:43.634882",
     "status": "completed"
    },
    "tags": []
   },
   "source": [
    "- Change data type from float to integer by using **int as parameter value:**"
   ]
  },
  {
   "cell_type": "code",
   "execution_count": 14,
   "id": "2a1336fa",
   "metadata": {
    "execution": {
     "iopub.execute_input": "2022-09-17T08:38:43.691027Z",
     "iopub.status.busy": "2022-09-17T08:38:43.690111Z",
     "iopub.status.idle": "2022-09-17T08:38:43.698189Z",
     "shell.execute_reply": "2022-09-17T08:38:43.696644Z"
    },
    "papermill": {
     "duration": 0.030009,
     "end_time": "2022-09-17T08:38:43.700885",
     "exception": false,
     "start_time": "2022-09-17T08:38:43.670876",
     "status": "completed"
    },
    "tags": []
   },
   "outputs": [
    {
     "name": "stdout",
     "output_type": "stream",
     "text": [
      "New array with int value [1 2 3]\n",
      "Old Data type: float64\n",
      "New data type: int64\n"
     ]
    }
   ],
   "source": [
    "arr = np.array([1.1, 2.1, 3.1])\n",
    "\n",
    "newarr = arr.astype(int)\n",
    "\n",
    "print(\"New array with int value\",newarr)\n",
    "print(\"Old Data type:\",arr.dtype)\n",
    "print(\"New data type:\",newarr.dtype)"
   ]
  },
  {
   "cell_type": "code",
   "execution_count": 15,
   "id": "6bc3875d",
   "metadata": {
    "execution": {
     "iopub.execute_input": "2022-09-17T08:38:43.738078Z",
     "iopub.status.busy": "2022-09-17T08:38:43.737707Z",
     "iopub.status.idle": "2022-09-17T08:38:43.745037Z",
     "shell.execute_reply": "2022-09-17T08:38:43.743380Z"
    },
    "papermill": {
     "duration": 0.028917,
     "end_time": "2022-09-17T08:38:43.747503",
     "exception": false,
     "start_time": "2022-09-17T08:38:43.718586",
     "status": "completed"
    },
    "tags": []
   },
   "outputs": [
    {
     "name": "stdout",
     "output_type": "stream",
     "text": [
      "New array with int value [ True False  True]\n",
      "Old Data type: float64\n",
      "New data type: bool\n"
     ]
    }
   ],
   "source": [
    "arr = np.array([1, 0, 3.1])\n",
    "\n",
    "newarr = arr.astype(bool)\n",
    "\n",
    "print(\"New array with int value\",newarr)\n",
    "print(\"Old Data type:\",arr.dtype)\n",
    "print(\"New data type:\",newarr.dtype)"
   ]
  },
  {
   "cell_type": "code",
   "execution_count": 16,
   "id": "9873d2d3",
   "metadata": {
    "execution": {
     "iopub.execute_input": "2022-09-17T08:38:43.787136Z",
     "iopub.status.busy": "2022-09-17T08:38:43.786745Z",
     "iopub.status.idle": "2022-09-17T08:38:43.794009Z",
     "shell.execute_reply": "2022-09-17T08:38:43.792857Z"
    },
    "papermill": {
     "duration": 0.031238,
     "end_time": "2022-09-17T08:38:43.797326",
     "exception": false,
     "start_time": "2022-09-17T08:38:43.766088",
     "status": "completed"
    },
    "tags": []
   },
   "outputs": [
    {
     "name": "stdout",
     "output_type": "stream",
     "text": [
      "Data type of float value array: float64\n",
      "Data type of str value array: <U6\n",
      "Data type of mix value array: <U32\n"
     ]
    }
   ],
   "source": [
    "flaotarr=np.array([1.0,2,3,4])\n",
    "strarr=np.array([\"this\",\"is\",\"bhawan\"])\n",
    "strflaotintarr=np.array([1,2,3.5,\"bhawan\"])\n",
    "\n",
    "print(\"Data type of float value array:\",flaotarr.dtype)\n",
    "print(\"Data type of str value array:\",strarr.dtype)\n",
    "print(\"Data type of mix value array:\",strflaotintarr.dtype)"
   ]
  },
  {
   "cell_type": "markdown",
   "id": "3efe7d31",
   "metadata": {
    "papermill": {
     "duration": 0.018239,
     "end_time": "2022-09-17T08:38:43.835398",
     "exception": false,
     "start_time": "2022-09-17T08:38:43.817159",
     "status": "completed"
    },
    "tags": []
   },
   "source": [
    "### Use of Ones():\n",
    "- Python numpy.ones() function returns a new array of given shape and data type, where the element’s value is set to 1.\n",
    "\n",
    "- **Syntex:** <H3>ones(shape, dtype=None, order='C')</H3>"
   ]
  },
  {
   "cell_type": "code",
   "execution_count": 17,
   "id": "2d7b45ef",
   "metadata": {
    "execution": {
     "iopub.execute_input": "2022-09-17T08:38:43.874403Z",
     "iopub.status.busy": "2022-09-17T08:38:43.873995Z",
     "iopub.status.idle": "2022-09-17T08:38:43.892495Z",
     "shell.execute_reply": "2022-09-17T08:38:43.890948Z"
    },
    "papermill": {
     "duration": 0.041614,
     "end_time": "2022-09-17T08:38:43.895702",
     "exception": false,
     "start_time": "2022-09-17T08:38:43.854088",
     "status": "completed"
    },
    "tags": []
   },
   "outputs": [
    {
     "name": "stdout",
     "output_type": "stream",
     "text": [
      "Ones array:\n",
      " [[1. 1.]\n",
      " [1. 1.]]\n",
      "\n",
      "#### Change in type of array:\n",
      "\n",
      "Ones array:\n",
      " [[1 1 1 1]\n",
      " [1 1 1 1]\n",
      " [1 1 1 1]\n",
      " [1 1 1 1]]\n",
      "\n",
      "Ones array 3-D\n",
      " [[[1 1 1]\n",
      "  [1 1 1]\n",
      "  [1 1 1]\n",
      "  [1 1 1]]\n",
      "\n",
      " [[1 1 1]\n",
      "  [1 1 1]\n",
      "  [1 1 1]\n",
      "  [1 1 1]]\n",
      "\n",
      " [[1 1 1]\n",
      "  [1 1 1]\n",
      "  [1 1 1]\n",
      "  [1 1 1]]\n",
      "\n",
      " [[1 1 1]\n",
      "  [1 1 1]\n",
      "  [1 1 1]\n",
      "  [1 1 1]]]\n",
      "\n",
      "#### MIX value type of array:\n",
      "\n",
      "Ones array:\n",
      " [[(1, 1.) (1, 1.) (1, 1.)]\n",
      " [(1, 1.) (1, 1.) (1, 1.)]\n",
      " [(1, 1.) (1, 1.) (1, 1.)]]\n"
     ]
    }
   ],
   "source": [
    "onesarr=np.ones((2,2))\n",
    "print(\"Ones array:\\n\",onesarr)\n",
    "\n",
    "############################\n",
    "\n",
    "print(\"\\n#### Change in type of array:\")\n",
    "onesarr=np.ones((4,4),dtype=int)\n",
    "print(\"\\nOnes array:\\n\",onesarr)\n",
    "\n",
    "onesarr=np.ones((4,4,3),dtype=int)\n",
    "print(\"\\nOnes array 3-D\\n\",onesarr)\n",
    "\n",
    "###########################\n",
    "\n",
    "print(\"\\n#### MIX value type of array:\")\n",
    "onesarr=np.ones((3,3),dtype=[('x',int),('y',float)])\n",
    "print(\"\\nOnes array:\\n\",onesarr)\n"
   ]
  },
  {
   "cell_type": "markdown",
   "id": "1ea501f2",
   "metadata": {
    "papermill": {
     "duration": 0.018106,
     "end_time": "2022-09-17T08:38:43.932706",
     "exception": false,
     "start_time": "2022-09-17T08:38:43.914600",
     "status": "completed"
    },
    "tags": []
   },
   "source": [
    "### Use of Zeros():\n",
    "- Return a new array of given shape and type, filled with zeros.\n",
    "\n",
    "- **Syntex:** <H3>numpy.zeros(shape, dtype=float, order='C', *, like=None)\n",
    "</H3>"
   ]
  },
  {
   "cell_type": "code",
   "execution_count": 18,
   "id": "949ae128",
   "metadata": {
    "execution": {
     "iopub.execute_input": "2022-09-17T08:38:43.973863Z",
     "iopub.status.busy": "2022-09-17T08:38:43.973376Z",
     "iopub.status.idle": "2022-09-17T08:38:43.984253Z",
     "shell.execute_reply": "2022-09-17T08:38:43.982757Z"
    },
    "papermill": {
     "duration": 0.035654,
     "end_time": "2022-09-17T08:38:43.988144",
     "exception": false,
     "start_time": "2022-09-17T08:38:43.952490",
     "status": "completed"
    },
    "tags": []
   },
   "outputs": [
    {
     "name": "stdout",
     "output_type": "stream",
     "text": [
      "Zeros array:\n",
      " [[0. 0. 0.]\n",
      " [0. 0. 0.]\n",
      " [0. 0. 0.]]\n",
      "\n",
      "#### Change in type of array:\n",
      "\n",
      "Zeros array:\n",
      " [[0 0 0 0]\n",
      " [0 0 0 0]\n",
      " [0 0 0 0]\n",
      " [0 0 0 0]]\n",
      "\n",
      "Zeros array 3-D\n",
      " [[[0 0 0]\n",
      "  [0 0 0]\n",
      "  [0 0 0]\n",
      "  [0 0 0]]\n",
      "\n",
      " [[0 0 0]\n",
      "  [0 0 0]\n",
      "  [0 0 0]\n",
      "  [0 0 0]]\n",
      "\n",
      " [[0 0 0]\n",
      "  [0 0 0]\n",
      "  [0 0 0]\n",
      "  [0 0 0]]\n",
      "\n",
      " [[0 0 0]\n",
      "  [0 0 0]\n",
      "  [0 0 0]\n",
      "  [0 0 0]]]\n",
      "\n",
      "#### MIX value type of array:\n",
      "\n",
      "O's array:\n",
      " [[(0, 0.) (0, 0.) (0, 0.)]\n",
      " [(0, 0.) (0, 0.) (0, 0.)]\n",
      " [(0, 0.) (0, 0.) (0, 0.)]]\n"
     ]
    }
   ],
   "source": [
    "zrerosarr=np.zeros((3,3))\n",
    "print(\"Zeros array:\\n\",zrerosarr)\n",
    "\n",
    "############################\n",
    "\n",
    "print(\"\\n#### Change in type of array:\")\n",
    "zrerosarr=np.zeros((4,4),dtype=int)\n",
    "print(\"\\nZeros array:\\n\",zrerosarr)\n",
    "\n",
    "zrerosarr=np.zeros((4,4,3),dtype=int)\n",
    "print(\"\\nZeros array 3-D\\n\",zrerosarr)\n",
    "\n",
    "###########################\n",
    "\n",
    "print(\"\\n#### MIX value type of array:\")\n",
    "zrerosarr=np.zeros((3,3),dtype=[('x',int),('y',float)])\n",
    "print(\"\\nO's array:\\n\",zrerosarr)\n"
   ]
  },
  {
   "cell_type": "markdown",
   "id": "eff4890c",
   "metadata": {
    "papermill": {
     "duration": 0.017853,
     "end_time": "2022-09-17T08:38:44.024824",
     "exception": false,
     "start_time": "2022-09-17T08:38:44.006971",
     "status": "completed"
    },
    "tags": []
   },
   "source": [
    "### Use of empty():\n",
    "-Return a new array of given shape and type, without initializing entries.\n",
    "- **Syntex:** <H3>numpy.empty(shape, dtype=float, order='C', *, like=None)\n",
    "</H3>\n"
   ]
  },
  {
   "cell_type": "code",
   "execution_count": 19,
   "id": "4e94490d",
   "metadata": {
    "execution": {
     "iopub.execute_input": "2022-09-17T08:38:44.062979Z",
     "iopub.status.busy": "2022-09-17T08:38:44.062481Z",
     "iopub.status.idle": "2022-09-17T08:38:44.073863Z",
     "shell.execute_reply": "2022-09-17T08:38:44.072345Z"
    },
    "papermill": {
     "duration": 0.034259,
     "end_time": "2022-09-17T08:38:44.077101",
     "exception": false,
     "start_time": "2022-09-17T08:38:44.042842",
     "status": "completed"
    },
    "tags": []
   },
   "outputs": [
    {
     "name": "stdout",
     "output_type": "stream",
     "text": [
      "Empty array:\n",
      " [[0. 0. 0.]\n",
      " [0. 0. 0.]\n",
      " [0. 0. 0.]]\n",
      "\n",
      "###################################################################################\n",
      "\n",
      "#### Change in type of array:\n",
      "\n",
      " Empty array:\n",
      " [[0 0 0]\n",
      " [0 0 0]\n",
      " [0 0 0]]\n",
      "\n",
      " Empty array 3-D\n",
      " [[[94543672539920              0 10020158701575]\n",
      "  [             0    17179869187              0]\n",
      "  [             0   137438953494              0]]\n",
      "\n",
      " [[             0              0              0]\n",
      "  [             0              0              0]\n",
      "  [             0              0              0]]\n",
      "\n",
      " [[             0              0              0]\n",
      "  [             0 94543678438784 94543678439040]\n",
      "  [94543678439232              0              0]]]\n",
      "\n",
      "###################################################################################\n",
      "\n",
      "#### MIX value type of array:\n",
      "\n",
      " Empty array:\n",
      " [[( 94543678909072, 0.00000000e+000) (140582858316720, 6.94576983e-310)\n",
      "  (140582858317616, 6.94576983e-310)]\n",
      " [(140582858316080, 6.94576983e-310) (140582858317296, 6.94576983e-310)\n",
      "  (140582858316528, 6.94576983e-310)]\n",
      " [(140582858317360, 6.94576983e-310) (140582858315824, 6.94576983e-310)\n",
      "  (140582858316016, 6.94576983e-310)]]\n"
     ]
    }
   ],
   "source": [
    "emptyarr=np.empty((3,3))\n",
    "print(\"Empty array:\\n\",emptyarr)\n",
    "\n",
    "print(\"\\n###################################################################################\")\n",
    "\n",
    "print(\"\\n#### Change in type of array:\")\n",
    "emptyarr=np.empty((3,3),dtype=int)\n",
    "print(\"\\n Empty array:\\n\", emptyarr)\n",
    "\n",
    "emptyarr=np.empty((3,3,3),dtype=int)\n",
    "print(\"\\n Empty array 3-D\\n\", emptyarr)\n",
    "\n",
    "print(\"\\n###################################################################################\")\n",
    "\n",
    "print(\"\\n#### MIX value type of array:\")\n",
    "emptyarr=np.empty((3,3),dtype=[('x',int),('y',float)])\n",
    "print(\"\\n Empty array:\\n\",emptyarr)\n"
   ]
  },
  {
   "cell_type": "markdown",
   "id": "c1ac6a39",
   "metadata": {
    "papermill": {
     "duration": 0.018776,
     "end_time": "2022-09-17T08:38:44.114860",
     "exception": false,
     "start_time": "2022-09-17T08:38:44.096084",
     "status": "completed"
    },
    "tags": []
   },
   "source": [
    "### Use of empty_like():\n",
    "- Return a new array with the same shape and type as a given array.\n",
    "- **Syntex:** <H3>numpy.empty_like(prototype, dtype=None, order='K', subok=True, shape=None)\n",
    "</H3>\n"
   ]
  },
  {
   "cell_type": "code",
   "execution_count": 20,
   "id": "d6464e7c",
   "metadata": {
    "execution": {
     "iopub.execute_input": "2022-09-17T08:38:44.154353Z",
     "iopub.status.busy": "2022-09-17T08:38:44.153914Z",
     "iopub.status.idle": "2022-09-17T08:38:44.167362Z",
     "shell.execute_reply": "2022-09-17T08:38:44.166022Z"
    },
    "papermill": {
     "duration": 0.03679,
     "end_time": "2022-09-17T08:38:44.170320",
     "exception": false,
     "start_time": "2022-09-17T08:38:44.133530",
     "status": "completed"
    },
    "tags": []
   },
   "outputs": [
    {
     "name": "stdout",
     "output_type": "stream",
     "text": [
      "Empty array:\n",
      " [[1 2 3 4]\n",
      " [1 2 3 4]\n",
      " [1 2 3 4]]\n",
      "\n",
      " Type of empty_like: int64\n",
      "\n",
      "###################################################################################\n",
      "\n",
      "#### Change in type of array:\n",
      "\n",
      " Empty array:\n",
      " [[4.67107841e-310 0.00000000e+000 0.00000000e+000 0.00000000e+000]\n",
      " [4.67093714e-310 2.67950299e+184 1.16440622e+165 4.25137389e+174]\n",
      " [1.48998848e+161 2.16613982e+184 1.02942371e-071 1.00536070e-070]]\n",
      "\n",
      "###################################################################################\n",
      "\n",
      "#### MIX value type of array:\n",
      "\n",
      " Empty array:\n",
      " [[(4596373779694328218, 0.2 ) (4603579539098121011, 1.  )\n",
      "  (                  0, 0.6 ) (4607182418800017408, 1.  )]\n",
      " [(                  0, 0.8 ) (4600877379321698714, 1.  )\n",
      "  (4607182418800017408, 1.  ) (4603579539098121011, 1.  )]\n",
      " [(4602678819172646912, 0.36) (4599616371426034975, 1.  )\n",
      "  (4607182418800017408, 1.  ) (4607182418800017408, 1.  )]]\n",
      "\n",
      "###################################################################################\n",
      "\n",
      "#### Change in Subok and Shape:\n",
      "\n",
      " Empty array:\n",
      " [[0.2  1.   0.6 ]\n",
      " [1.   0.8  1.  ]\n",
      " [1.   1.   0.36]\n",
      " [1.   1.   1.  ]]\n"
     ]
    }
   ],
   "source": [
    "arr2d=np.array([[1,2,3,4],\n",
    "                [1,2,3,4],\n",
    "                [1,2,3,4],\n",
    "               ])\n",
    "\n",
    "emptyarr_like=np.empty_like(arr2d)\n",
    "print(\"Empty array:\\n\",emptyarr_like)\n",
    "\n",
    "print(\"\\n Type of empty_like:\",emptyarr_like.dtype)\n",
    "\n",
    "print(\"\\n###################################################################################\")\n",
    "\n",
    "print(\"\\n#### Change in type of array:\")\n",
    "emptyarr_like=np.empty_like(arr2d,dtype=float)\n",
    "print(\"\\n Empty array:\\n\", emptyarr_like)\n",
    "\n",
    "print(\"\\n###################################################################################\")\n",
    "\n",
    "print(\"\\n#### MIX value type of array:\")\n",
    "emptyarr_like=np.empty_like(arr2d,dtype=[(\"x\",int),(\"y\",float)])\n",
    "print(\"\\n Empty array:\\n\",emptyarr_like)\n",
    "\n",
    "print(\"\\n###################################################################################\")\n",
    "\n",
    "print(\"\\n#### Change in Subok and Shape:\")\n",
    "\n",
    "emptyarr_like=np.empty_like(arr2d,dtype=float,subok=False,shape=(4,3))\n",
    "print(\"\\n Empty array:\\n\", emptyarr_like)"
   ]
  },
  {
   "cell_type": "markdown",
   "id": "1b0eb9b4",
   "metadata": {
    "papermill": {
     "duration": 0.018518,
     "end_time": "2022-09-17T08:38:44.208148",
     "exception": false,
     "start_time": "2022-09-17T08:38:44.189630",
     "status": "completed"
    },
    "tags": []
   },
   "source": [
    "### Use of full():\n",
    "- Return a new array of given shape and type, filled with fill_value.\n",
    "- **Syntex:** <H3>numpy.full(shape, fill_value, dtype=None, order='C', *, like=None)</H3>"
   ]
  },
  {
   "cell_type": "code",
   "execution_count": 21,
   "id": "caf6c156",
   "metadata": {
    "execution": {
     "iopub.execute_input": "2022-09-17T08:38:44.248714Z",
     "iopub.status.busy": "2022-09-17T08:38:44.248213Z",
     "iopub.status.idle": "2022-09-17T08:38:44.260795Z",
     "shell.execute_reply": "2022-09-17T08:38:44.259404Z"
    },
    "papermill": {
     "duration": 0.038429,
     "end_time": "2022-09-17T08:38:44.266161",
     "exception": false,
     "start_time": "2022-09-17T08:38:44.227732",
     "status": "completed"
    },
    "tags": []
   },
   "outputs": [
    {
     "name": "stdout",
     "output_type": "stream",
     "text": [
      "Empty array:\n",
      " [[4 4 4]\n",
      " [4 4 4]\n",
      " [4 4 4]]\n",
      "\n",
      "###################################################################################\n",
      "\n",
      "#### Change in type of array:\n",
      "\n",
      " Empty array:\n",
      " [[4 4 4]\n",
      " [4 4 4]\n",
      " [4 4 4]]\n",
      "\n",
      " Empty array 3-D\n",
      " [[[4 4 4]\n",
      "  [4 4 4]\n",
      "  [4 4 4]]\n",
      "\n",
      " [[4 4 4]\n",
      "  [4 4 4]\n",
      "  [4 4 4]]\n",
      "\n",
      " [[4 4 4]\n",
      "  [4 4 4]\n",
      "  [4 4 4]]]\n",
      "\n",
      "###################################################################################\n",
      "\n",
      "#### MIX value type of array:\n",
      "\n",
      " Empty array:\n",
      " [[(4, 4.) (4, 4.) (4, 4.)]\n",
      " [(4, 4.) (4, 4.) (4, 4.)]\n",
      " [(4, 4.) (4, 4.) (4, 4.)]]\n"
     ]
    }
   ],
   "source": [
    "fullarr=np.full((3,3),4)\n",
    "print(\"Empty array:\\n\",fullarr)\n",
    "\n",
    "print(\"\\n###################################################################################\")\n",
    "\n",
    "print(\"\\n#### Change in type of array:\")\n",
    "fullarr=np.full((3,3),4,dtype=int)\n",
    "print(\"\\n Empty array:\\n\", fullarr)\n",
    "\n",
    "fullarr=np.full((3,3,3),4,dtype=int)\n",
    "print(\"\\n Empty array 3-D\\n\", fullarr)\n",
    "\n",
    "print(\"\\n###################################################################################\")\n",
    "\n",
    "print(\"\\n#### MIX value type of array:\")\n",
    "fullarr=np.full((3,3),4,dtype=[('x',int),('y',float)])\n",
    "print(\"\\n Empty array:\\n\",fullarr)\n"
   ]
  },
  {
   "cell_type": "markdown",
   "id": "4d7daf7d",
   "metadata": {
    "papermill": {
     "duration": 0.018092,
     "end_time": "2022-09-17T08:38:44.303798",
     "exception": false,
     "start_time": "2022-09-17T08:38:44.285706",
     "status": "completed"
    },
    "tags": []
   },
   "source": [
    "### Example of 'order' parameter in all of above practise:\n",
    "\n",
    "- Whether to store multi-dimensional data in row-major (C-style) or column-major (Fortran-style) order in memory."
   ]
  },
  {
   "cell_type": "code",
   "execution_count": 22,
   "id": "aacbc4ae",
   "metadata": {
    "execution": {
     "iopub.execute_input": "2022-09-17T08:38:44.342932Z",
     "iopub.status.busy": "2022-09-17T08:38:44.342072Z",
     "iopub.status.idle": "2022-09-17T08:38:44.351599Z",
     "shell.execute_reply": "2022-09-17T08:38:44.349739Z"
    },
    "papermill": {
     "duration": 0.032617,
     "end_time": "2022-09-17T08:38:44.354640",
     "exception": false,
     "start_time": "2022-09-17T08:38:44.322023",
     "status": "completed"
    },
    "tags": []
   },
   "outputs": [
    {
     "name": "stdout",
     "output_type": "stream",
     "text": [
      "Example of order:\n",
      "[[0 1 2]\n",
      " [3 4 5]\n",
      " [6 7 8]] It give's 'True' if fortran:- False\n",
      "[[0 3 6]\n",
      " [1 4 7]\n",
      " [2 5 8]] It give's 'True' if fortran:- True\n"
     ]
    }
   ],
   "source": [
    "print(\"Example of order:\")\n",
    "x=np.reshape(np.arange(9),newshape=(3,3))\n",
    "print(x,\"It give's 'True' if fortran:-\",np.isfortran(x))\n",
    "y=np.reshape(np.arange(9),newshape=(3,3),order='F')\n",
    "print(y,\"It give's 'True' if fortran:-\",np.isfortran(y))"
   ]
  },
  {
   "cell_type": "code",
   "execution_count": 23,
   "id": "b6c84cf0",
   "metadata": {
    "execution": {
     "iopub.execute_input": "2022-09-17T08:38:44.394509Z",
     "iopub.status.busy": "2022-09-17T08:38:44.394045Z",
     "iopub.status.idle": "2022-09-17T08:38:44.402788Z",
     "shell.execute_reply": "2022-09-17T08:38:44.401373Z"
    },
    "papermill": {
     "duration": 0.032085,
     "end_time": "2022-09-17T08:38:44.405585",
     "exception": false,
     "start_time": "2022-09-17T08:38:44.373500",
     "status": "completed"
    },
    "tags": []
   },
   "outputs": [
    {
     "name": "stdout",
     "output_type": "stream",
     "text": [
      "[[1 2 3]\n",
      " [4 5 6]] False\n",
      "\n",
      " [[1 4]\n",
      " [2 5]\n",
      " [3 6]] True\n"
     ]
    }
   ],
   "source": [
    "a = np.array([[1, 2, 3], [4, 5, 6]], order='C')\n",
    "print(a,np.isfortran(a))\n",
    "\n",
    "b = a.T\n",
    "print(\"\\n\",b,np.isfortran(b))"
   ]
  },
  {
   "cell_type": "markdown",
   "id": "8dfe336c",
   "metadata": {
    "papermill": {
     "duration": 0.018426,
     "end_time": "2022-09-17T08:38:44.442949",
     "exception": false,
     "start_time": "2022-09-17T08:38:44.424523",
     "status": "completed"
    },
    "tags": []
   },
   "source": [
    "### Use of arrange():\n",
    "- Return evenly spaced values within a given interval.\n",
    "- **Syntex:** <H3>numpy.arange([start, ]stop, [step, ]dtype=None, *, like=None)</H3>\n",
    "\n",
    "arange can be called with a varying number of positional arguments:\n",
    "\n",
    "- **arange(stop):** Values are generated within the half-open interval **[0, stop)** (in other words, the interval including start but excluding stop).\n",
    "\n",
    "- **arange(start, stop):** Values are generated within the half-open interval .**[start, stop).**\n",
    "\n",
    "- **arange(start, stop, step)** Values are generated within the half-open interval **[start, stop)**, with spacing between values given by step.\n",
    "\n",
    "For integer arguments the function is roughly equivalent to the Python built-in range, but returns an ndarray rather than a range instance.\n",
    "\n",
    "- When using a non-integer step, such as 0.1, it is often better to use numpy.linspace."
   ]
  },
  {
   "cell_type": "code",
   "execution_count": 24,
   "id": "c4140ed3",
   "metadata": {
    "execution": {
     "iopub.execute_input": "2022-09-17T08:38:44.482619Z",
     "iopub.status.busy": "2022-09-17T08:38:44.482149Z",
     "iopub.status.idle": "2022-09-17T08:38:44.488210Z",
     "shell.execute_reply": "2022-09-17T08:38:44.487262Z"
    },
    "papermill": {
     "duration": 0.029125,
     "end_time": "2022-09-17T08:38:44.490766",
     "exception": false,
     "start_time": "2022-09-17T08:38:44.461641",
     "status": "completed"
    },
    "tags": []
   },
   "outputs": [
    {
     "name": "stdout",
     "output_type": "stream",
     "text": [
      "Array with evenly speced no. [0 1 2 3 4 5 6 7 8]\n"
     ]
    }
   ],
   "source": [
    "Arange=np.arange(9)\n",
    "print(\"Array with evenly speced no.\",Arange)"
   ]
  },
  {
   "cell_type": "markdown",
   "id": "562dc58d",
   "metadata": {
    "papermill": {
     "duration": 0.018236,
     "end_time": "2022-09-17T08:38:44.527717",
     "exception": false,
     "start_time": "2022-09-17T08:38:44.509481",
     "status": "completed"
    },
    "tags": []
   },
   "source": [
    "- giving start,stop and step value\n",
    "![](https://files.realpython.com/media/fig-1.1d8bc9379e87.png)"
   ]
  },
  {
   "cell_type": "code",
   "execution_count": 25,
   "id": "3251f3ff",
   "metadata": {
    "execution": {
     "iopub.execute_input": "2022-09-17T08:38:44.567489Z",
     "iopub.status.busy": "2022-09-17T08:38:44.566231Z",
     "iopub.status.idle": "2022-09-17T08:38:44.578045Z",
     "shell.execute_reply": "2022-09-17T08:38:44.575893Z"
    },
    "papermill": {
     "duration": 0.034327,
     "end_time": "2022-09-17T08:38:44.580653",
     "exception": false,
     "start_time": "2022-09-17T08:38:44.546326",
     "status": "completed"
    },
    "tags": []
   },
   "outputs": [
    {
     "name": "stdout",
     "output_type": "stream",
     "text": [
      "Array with step value 3(difference is 3): [1 4 7]\n",
      "[1 4 7]\n",
      "[-9 -8 -7 -6 -5 -4 -3 -2]\n",
      "[-9 -7 -5 -3 -1]\n",
      "[9 8 7 6 5 4 3 2]\n",
      "[] Length of array is: 0\n",
      "[]\n"
     ]
    }
   ],
   "source": [
    "Arrange=np.arange(start=1, stop=10, step=3)\n",
    "print(\"Array with step value 3(difference is 3):\",Arrange)\n",
    "\n",
    "Arrange=np.arange(1,10,3)\n",
    "print(Arrange)\n",
    "\n",
    "Arrange=np.arange(-9,-1,1)\n",
    "print(Arrange)\n",
    "\n",
    "Arrange=np.arange(-9,1,2)\n",
    "print(Arrange)\n",
    "\n",
    "Arrange=np.arange(9,1,-1)\n",
    "print(Arrange)\n",
    "\n",
    "##### IT WONT WORK WHEN WE USE DIFFRENT WAY LIKE (Give Empty array)\n",
    "Arrange=np.arange(19,1)\n",
    "print(Arrange,\"Length of array is:\",len(Arrange))\n",
    "\n",
    "Arrange=np.arange(1,9,-2)\n",
    "print(Arrange)\n"
   ]
  },
  {
   "cell_type": "code",
   "execution_count": 26,
   "id": "3c2d2d62",
   "metadata": {
    "execution": {
     "iopub.execute_input": "2022-09-17T08:38:44.620326Z",
     "iopub.status.busy": "2022-09-17T08:38:44.619882Z",
     "iopub.status.idle": "2022-09-17T08:38:44.626264Z",
     "shell.execute_reply": "2022-09-17T08:38:44.625426Z"
    },
    "papermill": {
     "duration": 0.029375,
     "end_time": "2022-09-17T08:38:44.629057",
     "exception": false,
     "start_time": "2022-09-17T08:38:44.599682",
     "status": "completed"
    },
    "tags": []
   },
   "outputs": [
    {
     "name": "stdout",
     "output_type": "stream",
     "text": [
      "Array with step value 3(difference is 3) & data type as float: [1. 4. 7.]\n"
     ]
    }
   ],
   "source": [
    "Arrange=np.arange(start=1, stop=10, step=3,dtype=float)\n",
    "print(\"Array with step value 3(difference is 3) & data type as float:\",Arrange)"
   ]
  },
  {
   "cell_type": "code",
   "execution_count": 27,
   "id": "ab2df943",
   "metadata": {
    "execution": {
     "iopub.execute_input": "2022-09-17T08:38:44.670130Z",
     "iopub.status.busy": "2022-09-17T08:38:44.669102Z",
     "iopub.status.idle": "2022-09-17T08:38:44.676268Z",
     "shell.execute_reply": "2022-09-17T08:38:44.674604Z"
    },
    "papermill": {
     "duration": 0.029324,
     "end_time": "2022-09-17T08:38:44.678399",
     "exception": false,
     "start_time": "2022-09-17T08:38:44.649075",
     "status": "completed"
    },
    "tags": []
   },
   "outputs": [
    {
     "name": "stdout",
     "output_type": "stream",
     "text": [
      "[ 0  1  2  3  4  5  6  7  8  9 10 11 12 13 14 15 16 17 18 19 20 21 22 23]\n"
     ]
    }
   ],
   "source": [
    "Arrange=np.arange(stop=24)\n",
    "print(Arrange)"
   ]
  },
  {
   "cell_type": "markdown",
   "id": "176b12b5",
   "metadata": {
    "papermill": {
     "duration": 0.018631,
     "end_time": "2022-09-17T08:38:44.715576",
     "exception": false,
     "start_time": "2022-09-17T08:38:44.696945",
     "status": "completed"
    },
    "tags": []
   },
   "source": [
    "***\n",
    "### Use of numpy.ndarray.itemsize\n",
    "- Length of one array element in bytes.\n",
    "- **Syntex:** <H4>ndarray.itemsize</H4>\n",
    "\n",
    "***"
   ]
  },
  {
   "cell_type": "code",
   "execution_count": 28,
   "id": "0e58bcdd",
   "metadata": {
    "execution": {
     "iopub.execute_input": "2022-09-17T08:38:44.756335Z",
     "iopub.status.busy": "2022-09-17T08:38:44.755516Z",
     "iopub.status.idle": "2022-09-17T08:38:44.762478Z",
     "shell.execute_reply": "2022-09-17T08:38:44.760518Z"
    },
    "papermill": {
     "duration": 0.030754,
     "end_time": "2022-09-17T08:38:44.765019",
     "exception": false,
     "start_time": "2022-09-17T08:38:44.734265",
     "status": "completed"
    },
    "tags": []
   },
   "outputs": [
    {
     "name": "stdout",
     "output_type": "stream",
     "text": [
      "int64\n",
      "8\n"
     ]
    }
   ],
   "source": [
    "print(Arrange.dtype)\n",
    "print(Arrange.itemsize ) # In bytes"
   ]
  },
  {
   "cell_type": "markdown",
   "id": "b33d5c83",
   "metadata": {
    "papermill": {
     "duration": 0.018158,
     "end_time": "2022-09-17T08:38:44.801870",
     "exception": false,
     "start_time": "2022-09-17T08:38:44.783712",
     "status": "completed"
    },
    "tags": []
   },
   "source": [
    "### Use of np.linspace():\n",
    "- Return evenly spaced numbers over a specified interval.\n",
    "\n",
    "- Returns num evenly spaced samples, calculated over the interval [start, stop].\n",
    "\n",
    "- The endpoint of the interval can optionally be excluded.\n",
    "- **Syntex:** <H4>numpy.linspace(start, stop, num=50, endpoint=True, retstep=False, dtype=None, axis=0)[source]</H4>"
   ]
  },
  {
   "cell_type": "code",
   "execution_count": 29,
   "id": "dfb0ec2c",
   "metadata": {
    "execution": {
     "iopub.execute_input": "2022-09-17T08:38:44.847709Z",
     "iopub.status.busy": "2022-09-17T08:38:44.846720Z",
     "iopub.status.idle": "2022-09-17T08:38:44.854873Z",
     "shell.execute_reply": "2022-09-17T08:38:44.853354Z"
    },
    "papermill": {
     "duration": 0.037461,
     "end_time": "2022-09-17T08:38:44.857781",
     "exception": false,
     "start_time": "2022-09-17T08:38:44.820320",
     "status": "completed"
    },
    "tags": []
   },
   "outputs": [
    {
     "name": "stdout",
     "output_type": "stream",
     "text": [
      "[ 1.          1.18367347  1.36734694  1.55102041  1.73469388  1.91836735\n",
      "  2.10204082  2.28571429  2.46938776  2.65306122  2.83673469  3.02040816\n",
      "  3.20408163  3.3877551   3.57142857  3.75510204  3.93877551  4.12244898\n",
      "  4.30612245  4.48979592  4.67346939  4.85714286  5.04081633  5.2244898\n",
      "  5.40816327  5.59183673  5.7755102   5.95918367  6.14285714  6.32653061\n",
      "  6.51020408  6.69387755  6.87755102  7.06122449  7.24489796  7.42857143\n",
      "  7.6122449   7.79591837  7.97959184  8.16326531  8.34693878  8.53061224\n",
      "  8.71428571  8.89795918  9.08163265  9.26530612  9.44897959  9.63265306\n",
      "  9.81632653 10.        ]\n"
     ]
    }
   ],
   "source": [
    "linspace=np.linspace(1,10) #default is 50 that's why 50 no.\n",
    "print(linspace)"
   ]
  },
  {
   "cell_type": "code",
   "execution_count": 30,
   "id": "0902ea1f",
   "metadata": {
    "execution": {
     "iopub.execute_input": "2022-09-17T08:38:44.898120Z",
     "iopub.status.busy": "2022-09-17T08:38:44.897148Z",
     "iopub.status.idle": "2022-09-17T08:38:44.904915Z",
     "shell.execute_reply": "2022-09-17T08:38:44.903462Z"
    },
    "papermill": {
     "duration": 0.030798,
     "end_time": "2022-09-17T08:38:44.907763",
     "exception": false,
     "start_time": "2022-09-17T08:38:44.876965",
     "status": "completed"
    },
    "tags": []
   },
   "outputs": [
    {
     "name": "stdout",
     "output_type": "stream",
     "text": [
      "[ 1.   1.9  2.8  3.7  4.6  5.5  6.4  7.3  8.2  9.1 10. ]\n"
     ]
    }
   ],
   "source": [
    "linspace=np.linspace(1,10,11) #evenly spaced no. total 11.\n",
    "print(linspace)"
   ]
  },
  {
   "cell_type": "code",
   "execution_count": 31,
   "id": "a5ee7879",
   "metadata": {
    "execution": {
     "iopub.execute_input": "2022-09-17T08:38:44.948406Z",
     "iopub.status.busy": "2022-09-17T08:38:44.946863Z",
     "iopub.status.idle": "2022-09-17T08:38:44.955030Z",
     "shell.execute_reply": "2022-09-17T08:38:44.953521Z"
    },
    "papermill": {
     "duration": 0.031079,
     "end_time": "2022-09-17T08:38:44.957863",
     "exception": false,
     "start_time": "2022-09-17T08:38:44.926784",
     "status": "completed"
    },
    "tags": []
   },
   "outputs": [
    {
     "name": "stdout",
     "output_type": "stream",
     "text": [
      "[1.         1.81818182 2.63636364 3.45454545 4.27272727 5.09090909\n",
      " 5.90909091 6.72727273 7.54545455 8.36363636 9.18181818]\n"
     ]
    }
   ],
   "source": [
    "linspace=np.linspace(1,10,11,endpoint=False) #Did not include last 10 number.\n",
    "print(linspace)"
   ]
  },
  {
   "cell_type": "code",
   "execution_count": 32,
   "id": "4305e7e3",
   "metadata": {
    "execution": {
     "iopub.execute_input": "2022-09-17T08:38:44.999776Z",
     "iopub.status.busy": "2022-09-17T08:38:44.999105Z",
     "iopub.status.idle": "2022-09-17T08:38:45.009346Z",
     "shell.execute_reply": "2022-09-17T08:38:45.007892Z"
    },
    "papermill": {
     "duration": 0.033126,
     "end_time": "2022-09-17T08:38:45.011724",
     "exception": false,
     "start_time": "2022-09-17T08:38:44.978598",
     "status": "completed"
    },
    "tags": []
   },
   "outputs": [
    {
     "name": "stdout",
     "output_type": "stream",
     "text": [
      "[ 1.   2.8  4.6  6.4  8.2 10. ]\n",
      "Give the step also:\n",
      "(array([ 1. ,  2.8,  4.6,  6.4,  8.2, 10. ]), 1.8)\n",
      "(array([1. , 2.5, 4. , 5.5, 7. , 8.5]), 1.5)\n",
      "(array([ 1,  2,  4,  6,  8, 10]), 1.8)\n",
      "(array([ 1,  2,  4,  6,  8, 10]), 1.8)\n"
     ]
    }
   ],
   "source": [
    "linspace=np.linspace(1,10,6) #evenly spaced no. total 11.\n",
    "print(linspace)\n",
    "\n",
    "print(\"Give the step also:\")\n",
    "linspace=np.linspace(1,10,6,retstep=True) #Default is False\n",
    "print(linspace)\n",
    "\n",
    "linspace=np.linspace(1,10,6,endpoint=False,retstep=True) #with endpoint\n",
    "print(linspace)\n",
    "\n",
    "linspace=np.linspace(1,10,6,retstep=True,dtype=int) #with data type\n",
    "print(linspace)\n",
    "\n",
    "linspace=np.linspace(1,10,6,retstep=True,dtype=int,axis=0) #with data type\n",
    "print(linspace)"
   ]
  },
  {
   "cell_type": "code",
   "execution_count": 33,
   "id": "5dd5c7cd",
   "metadata": {
    "execution": {
     "iopub.execute_input": "2022-09-17T08:38:45.054188Z",
     "iopub.status.busy": "2022-09-17T08:38:45.053526Z",
     "iopub.status.idle": "2022-09-17T08:38:45.059845Z",
     "shell.execute_reply": "2022-09-17T08:38:45.058397Z"
    },
    "papermill": {
     "duration": 0.030484,
     "end_time": "2022-09-17T08:38:45.062542",
     "exception": false,
     "start_time": "2022-09-17T08:38:45.032058",
     "status": "completed"
    },
    "tags": []
   },
   "outputs": [
    {
     "name": "stdout",
     "output_type": "stream",
     "text": [
      "[ 1  2  4  6  8 10]\n",
      "1.8\n"
     ]
    }
   ],
   "source": [
    "linspace,step=np.linspace(1,10,6,retstep=True,dtype=int) #we store step differently\n",
    "print(linspace)\n",
    "print(step)"
   ]
  },
  {
   "cell_type": "markdown",
   "id": "a8819a2d",
   "metadata": {
    "papermill": {
     "duration": 0.019017,
     "end_time": "2022-09-17T08:38:45.101186",
     "exception": false,
     "start_time": "2022-09-17T08:38:45.082169",
     "status": "completed"
    },
    "tags": []
   },
   "source": [
    "### Nonscalar Values for Higher-Dimensional Arrays\n",
    "\n",
    "- Axis: This parameter is used only with nonscalar start and stop values. It determines the axis along which the results are stored."
   ]
  },
  {
   "cell_type": "code",
   "execution_count": 34,
   "id": "ca26b5cb",
   "metadata": {
    "execution": {
     "iopub.execute_input": "2022-09-17T08:38:45.142153Z",
     "iopub.status.busy": "2022-09-17T08:38:45.141761Z",
     "iopub.status.idle": "2022-09-17T08:38:45.150654Z",
     "shell.execute_reply": "2022-09-17T08:38:45.149477Z"
    },
    "papermill": {
     "duration": 0.03306,
     "end_time": "2022-09-17T08:38:45.153565",
     "exception": false,
     "start_time": "2022-09-17T08:38:45.120505",
     "status": "completed"
    },
    "tags": []
   },
   "outputs": [
    {
     "name": "stdout",
     "output_type": "stream",
     "text": [
      "[[  2.    5.    9. ]\n",
      " [ 21.6  30.   39.2]\n",
      " [ 41.2  55.   69.4]\n",
      " [ 60.8  80.   99.6]\n",
      " [ 80.4 105.  129.8]\n",
      " [100.  130.  160. ]]\n",
      "\n",
      "Shepe of this array: (6, 3)\n",
      "\n",
      " Element of array:(at postion:0) [2. 5. 9.]\n",
      "\n",
      " Element of array:(at postion:1) [21.6 30.  39.2]\n",
      "\n",
      " Element of array:(at postion:2) [41.2 55.  69.4]\n",
      "\n",
      " Element of array:(at postion:0,1) 5.0\n",
      "\n",
      " Element of array:(at postion:1,1) 30.0\n",
      "\n",
      " Element of array:(at postion:2,2) 69.4\n"
     ]
    }
   ],
   "source": [
    "output = np.linspace(start=[2, 5, 9], stop=[100, 130, 160], num=6)\n",
    "print(output)\n",
    "\n",
    "print(\"\\nShepe of this array:\",output.shape)\n",
    "\n",
    "print(\"\\n Element of array:(at postion:0)\",output[0])\n",
    "print(\"\\n Element of array:(at postion:1)\",output[1])\n",
    "print(\"\\n Element of array:(at postion:2)\",output[2])\n",
    "\n",
    "print(\"\\n Element of array:(at postion:0,1)\",output[0][1])\n",
    "print(\"\\n Element of array:(at postion:1,1)\",output[1][1])\n",
    "print(\"\\n Element of array:(at postion:2,2)\",output[2][2])"
   ]
  },
  {
   "cell_type": "code",
   "execution_count": 35,
   "id": "48e5ca56",
   "metadata": {
    "execution": {
     "iopub.execute_input": "2022-09-17T08:38:45.194575Z",
     "iopub.status.busy": "2022-09-17T08:38:45.194195Z",
     "iopub.status.idle": "2022-09-17T08:38:45.203802Z",
     "shell.execute_reply": "2022-09-17T08:38:45.202364Z"
    },
    "papermill": {
     "duration": 0.033525,
     "end_time": "2022-09-17T08:38:45.206782",
     "exception": false,
     "start_time": "2022-09-17T08:38:45.173257",
     "status": "completed"
    },
    "tags": []
   },
   "outputs": [
    {
     "name": "stdout",
     "output_type": "stream",
     "text": [
      "[[  2.   21.6  41.2  60.8  80.4 100. ]\n",
      " [  5.   30.   55.   80.  105.  130. ]\n",
      " [  9.   39.2  69.4  99.6 129.8 160. ]]\n",
      "\n",
      "Shepe of this array: (3, 6)\n",
      "\n",
      " Element of array:(at postion:0) [  2.   21.6  41.2  60.8  80.4 100. ]\n",
      "\n",
      " Element of array:(at postion:1) [  5.  30.  55.  80. 105. 130.]\n",
      "\n",
      " Element of array:(at postion:2) [  9.   39.2  69.4  99.6 129.8 160. ]\n",
      "\n",
      " Element of array:(at postion:0,1) 21.6\n",
      "\n",
      " Element of array:(at postion:1,1) 30.0\n",
      "\n",
      " Element of array:(at postion:2,2) 69.4\n"
     ]
    }
   ],
   "source": [
    "output = np.linspace(start=[2, 5, 9],stop=[100, 130, 160],num=6,axis=1) #default axis is 0\n",
    "print(output)\n",
    "\n",
    "print(\"\\nShepe of this array:\",output.shape)\n",
    "\n",
    "print(\"\\n Element of array:(at postion:0)\",output[0])\n",
    "print(\"\\n Element of array:(at postion:1)\",output[1])\n",
    "print(\"\\n Element of array:(at postion:2)\",output[2])\n",
    "\n",
    "print(\"\\n Element of array:(at postion:0,1)\",output[0][1])\n",
    "print(\"\\n Element of array:(at postion:1,1)\",output[1][1])\n",
    "print(\"\\n Element of array:(at postion:2,2)\",output[2][2])"
   ]
  },
  {
   "cell_type": "markdown",
   "id": "00d7616d",
   "metadata": {
    "papermill": {
     "duration": 0.019135,
     "end_time": "2022-09-17T08:38:45.246964",
     "exception": false,
     "start_time": "2022-09-17T08:38:45.227829",
     "status": "completed"
    },
    "tags": []
   },
   "source": [
    "#### Mathematical Functions With np.linspace()"
   ]
  },
  {
   "cell_type": "code",
   "execution_count": 36,
   "id": "d789a414",
   "metadata": {
    "execution": {
     "iopub.execute_input": "2022-09-17T08:38:45.289603Z",
     "iopub.status.busy": "2022-09-17T08:38:45.288328Z",
     "iopub.status.idle": "2022-09-17T08:38:45.298851Z",
     "shell.execute_reply": "2022-09-17T08:38:45.297303Z"
    },
    "papermill": {
     "duration": 0.036512,
     "end_time": "2022-09-17T08:38:45.303273",
     "exception": false,
     "start_time": "2022-09-17T08:38:45.266761",
     "status": "completed"
    },
    "tags": []
   },
   "outputs": [
    {
     "name": "stdout",
     "output_type": "stream",
     "text": [
      "X-Value\n",
      "\n",
      " [-100.          -97.97979798  -95.95959596  -93.93939394  -91.91919192\n",
      "  -89.8989899   -87.87878788  -85.85858586  -83.83838384  -81.81818182\n",
      "  -79.7979798   -77.77777778  -75.75757576  -73.73737374  -71.71717172\n",
      "  -69.6969697   -67.67676768  -65.65656566  -63.63636364  -61.61616162\n",
      "  -59.5959596   -57.57575758  -55.55555556  -53.53535354  -51.51515152\n",
      "  -49.49494949  -47.47474747  -45.45454545  -43.43434343  -41.41414141\n",
      "  -39.39393939  -37.37373737  -35.35353535  -33.33333333  -31.31313131\n",
      "  -29.29292929  -27.27272727  -25.25252525  -23.23232323  -21.21212121\n",
      "  -19.19191919  -17.17171717  -15.15151515  -13.13131313  -11.11111111\n",
      "   -9.09090909   -7.07070707   -5.05050505   -3.03030303   -1.01010101\n",
      "    1.01010101    3.03030303    5.05050505    7.07070707    9.09090909\n",
      "   11.11111111   13.13131313   15.15151515   17.17171717   19.19191919\n",
      "   21.21212121   23.23232323   25.25252525   27.27272727   29.29292929\n",
      "   31.31313131   33.33333333   35.35353535   37.37373737   39.39393939\n",
      "   41.41414141   43.43434343   45.45454545   47.47474747   49.49494949\n",
      "   51.51515152   53.53535354   55.55555556   57.57575758   59.5959596\n",
      "   61.61616162   63.63636364   65.65656566   67.67676768   69.6969697\n",
      "   71.71717172   73.73737374   75.75757576   77.77777778   79.7979798\n",
      "   81.81818182   83.83838384   85.85858586   87.87878788   89.8989899\n",
      "   91.91919192   93.93939394   95.95959596   97.97979798  100.        ] \n",
      "\n",
      "\n",
      "Y-Value\n",
      "\n",
      " [-3.98050000e+06 -3.74373005e+06 -3.51654083e+06 -3.29873444e+06\n",
      " -3.09011301e+06 -2.89047867e+06 -2.69963354e+06 -2.51737974e+06\n",
      " -2.34351939e+06 -2.17785462e+06 -2.02018755e+06 -1.87032030e+06\n",
      " -1.72805500e+06 -1.59319376e+06 -1.46553872e+06 -1.34489199e+06\n",
      " -1.23105570e+06 -1.12383197e+06 -1.02302292e+06 -9.28430670e+05\n",
      " -8.39857353e+05 -7.57105087e+05 -6.79975995e+05 -6.08272199e+05\n",
      " -5.41795823e+05 -4.80348990e+05 -4.23733822e+05 -3.71752442e+05\n",
      " -3.24206973e+05 -2.80899538e+05 -2.41632259e+05 -2.06207260e+05\n",
      " -1.74426664e+05 -1.46092593e+05 -1.21007169e+05 -9.89725172e+04\n",
      " -7.97907588e+04 -6.32640171e+04 -4.91944148e+04 -3.73840749e+04\n",
      " -2.76351202e+04 -1.97496736e+04 -1.35298578e+04 -8.77779581e+03\n",
      " -5.29561043e+03 -2.88542449e+03 -1.34936087e+03 -4.89542399e+02\n",
      " -1.08091939e+02 -7.13233756e+00  1.12135538e+01  1.44822884e+02\n",
      "  5.91572804e+02  1.54934046e+03  3.21600301e+03  5.78943759e+03\n",
      "  9.46752135e+03  1.44481315e+04  2.09291450e+04  2.91084393e+04\n",
      "  3.91838913e+04  5.13533782e+04  6.58147772e+04  8.27659654e+04\n",
      "  1.02404820e+05  1.24929218e+05  1.50537037e+05  1.79426154e+05\n",
      "  2.11794445e+05  2.47839789e+05  2.87760062e+05  3.31753142e+05\n",
      "  3.80016905e+05  4.32749228e+05  4.90147990e+05  5.52411067e+05\n",
      "  6.19736335e+05  6.92321674e+05  7.70364958e+05  8.54064066e+05\n",
      "  9.43616875e+05  1.03922126e+06  1.14107510e+06  1.24937628e+06\n",
      "  1.36432266e+06  1.48611213e+06  1.61494257e+06  1.75101184e+06\n",
      "  1.89451783e+06  2.04565842e+06  2.20463148e+06  2.37163489e+06\n",
      "  2.54686653e+06  2.73052426e+06  2.92280599e+06  3.12390956e+06\n",
      "  3.33403288e+06  3.55337380e+06  3.78213022e+06  4.02050000e+06]\n"
     ]
    }
   ],
   "source": [
    "x_ = np.linspace(-100, 100, 100)\n",
    "y_ = 4 * (x_**3) + 2 * (x_**2) + 5 * x_\n",
    "print(\"X-Value\\n\\n\",x_,\"\\n\\n\\nY-Value\\n\\n\",y_)"
   ]
  },
  {
   "cell_type": "code",
   "execution_count": 37,
   "id": "2a734b3f",
   "metadata": {
    "execution": {
     "iopub.execute_input": "2022-09-17T08:38:45.344966Z",
     "iopub.status.busy": "2022-09-17T08:38:45.344540Z",
     "iopub.status.idle": "2022-09-17T08:38:45.601018Z",
     "shell.execute_reply": "2022-09-17T08:38:45.599531Z"
    },
    "papermill": {
     "duration": 0.280313,
     "end_time": "2022-09-17T08:38:45.603858",
     "exception": false,
     "start_time": "2022-09-17T08:38:45.323545",
     "status": "completed"
    },
    "tags": []
   },
   "outputs": [
    {
     "data": {
      "image/png": "[encoded data removed]",
      "text/plain": [
       "<Figure size 432x288 with 1 Axes>"
      ]
     },
     "metadata": {
      "needs_background": "light"
     },
     "output_type": "display_data"
    }
   ],
   "source": [
    "import matplotlib.pyplot as plt\n",
    "\n",
    "plt.plot(x_, y_)\n",
    "plt.show()"
   ]
  },
  {
   "cell_type": "markdown",
   "id": "c2767552",
   "metadata": {
    "papermill": {
     "duration": 0.019228,
     "end_time": "2022-09-17T08:38:45.642862",
     "exception": false,
     "start_time": "2022-09-17T08:38:45.623634",
     "status": "completed"
    },
    "tags": []
   },
   "source": [
    "### Use of np.reshape():\n",
    "- Gives a new shape to an array without changing its data.\n",
    "- **Syntex:** <H3>numpy.reshape(a, newshape, order='C')</H3>\n"
   ]
  },
  {
   "cell_type": "code",
   "execution_count": 38,
   "id": "e26b7aaa",
   "metadata": {
    "execution": {
     "iopub.execute_input": "2022-09-17T08:38:45.683984Z",
     "iopub.status.busy": "2022-09-17T08:38:45.683523Z",
     "iopub.status.idle": "2022-09-17T08:38:45.691566Z",
     "shell.execute_reply": "2022-09-17T08:38:45.690061Z"
    },
    "papermill": {
     "duration": 0.031937,
     "end_time": "2022-09-17T08:38:45.694194",
     "exception": false,
     "start_time": "2022-09-17T08:38:45.662257",
     "status": "completed"
    },
    "tags": []
   },
   "outputs": [
    {
     "name": "stdout",
     "output_type": "stream",
     "text": [
      "Sample array A:\n",
      " [[0 1]\n",
      " [2 3]\n",
      " [4 5]]\n",
      "Reshape Array A:\n",
      " [[0 1 2]\n",
      " [3 4 5]]\n"
     ]
    }
   ],
   "source": [
    "a = np.arange(6).reshape((3, 2))    #CREATING ARRAY OF SHAPE 3,2\n",
    "print(\"Sample array A:\\n\",a)\n",
    "\n",
    "b=np.reshape(a, (2, 3))          #CHANGING SHAPE OF ARRAY FROM 3,2 TO 2,3\n",
    "print(\"Reshape Array A:\\n\",b)"
   ]
  },
  {
   "cell_type": "code",
   "execution_count": 39,
   "id": "34ce4569",
   "metadata": {
    "execution": {
     "iopub.execute_input": "2022-09-17T08:38:45.735905Z",
     "iopub.status.busy": "2022-09-17T08:38:45.735400Z",
     "iopub.status.idle": "2022-09-17T08:38:45.742979Z",
     "shell.execute_reply": "2022-09-17T08:38:45.742072Z"
    },
    "papermill": {
     "duration": 0.031415,
     "end_time": "2022-09-17T08:38:45.745261",
     "exception": false,
     "start_time": "2022-09-17T08:38:45.713846",
     "status": "completed"
    },
    "tags": []
   },
   "outputs": [
    {
     "name": "stdout",
     "output_type": "stream",
     "text": [
      "with change in order:\n",
      " [[0 1]\n",
      " [2 3]\n",
      " [4 5]] False\n",
      "without change in order:\n",
      " [[0 4 3]\n",
      " [2 1 5]] True\n"
     ]
    }
   ],
   "source": [
    "#without changing shape and order np.isfortran is \"False\"\n",
    "b=np.reshape(a, (3,2),order=\"F\")\n",
    "print(\"with change in order:\\n\",b,np.isfortran(b))\n",
    "\n",
    "#with changing shape and order also np.isfortran is \"True\"\n",
    "b=np.reshape(a, (2,3),order=\"F\")\n",
    "print(\"without change in order:\\n\",b,np.isfortran(b))"
   ]
  },
  {
   "cell_type": "code",
   "execution_count": 40,
   "id": "b77afade",
   "metadata": {
    "execution": {
     "iopub.execute_input": "2022-09-17T08:38:45.786606Z",
     "iopub.status.busy": "2022-09-17T08:38:45.786099Z",
     "iopub.status.idle": "2022-09-17T08:38:45.793221Z",
     "shell.execute_reply": "2022-09-17T08:38:45.792040Z"
    },
    "papermill": {
     "duration": 0.03129,
     "end_time": "2022-09-17T08:38:45.796278",
     "exception": false,
     "start_time": "2022-09-17T08:38:45.764988",
     "status": "completed"
    },
    "tags": []
   },
   "outputs": [
    {
     "name": "stdout",
     "output_type": "stream",
     "text": [
      "Contineous Flatted array: [0 1 2 3 4 5]\n",
      "\n",
      "New shape array b:\n",
      " [[0 1 2]\n",
      " [3 4 5]]\n"
     ]
    }
   ],
   "source": [
    "b=np.ravel(a) #Contineous Flatted array:\n",
    "print(\"Contineous Flatted array:\",b)\n",
    "\n",
    "b=np.reshape(b, (2, 3))\n",
    "print(\"\\nNew shape array b:\\n\",b)"
   ]
  },
  {
   "cell_type": "code",
   "execution_count": 41,
   "id": "b70c07a0",
   "metadata": {
    "execution": {
     "iopub.execute_input": "2022-09-17T08:38:45.839546Z",
     "iopub.status.busy": "2022-09-17T08:38:45.838980Z",
     "iopub.status.idle": "2022-09-17T08:38:45.845774Z",
     "shell.execute_reply": "2022-09-17T08:38:45.844645Z"
    },
    "papermill": {
     "duration": 0.03111,
     "end_time": "2022-09-17T08:38:45.848132",
     "exception": false,
     "start_time": "2022-09-17T08:38:45.817022",
     "status": "completed"
    },
    "tags": []
   },
   "outputs": [
    {
     "name": "stdout",
     "output_type": "stream",
     "text": [
      "flatten array with order 'F':\n",
      " [0 2 4 1 3 5]\n",
      "new array:\n",
      " [[0 4 3]\n",
      " [2 1 5]]\n"
     ]
    }
   ],
   "source": [
    "b=np.ravel(a, order='F')\n",
    "print(\"flatten array with order 'F':\\n\",b)\n",
    "b=np.reshape(b, (2, 3), order='F')\n",
    "print(\"new array:\\n\",b)"
   ]
  },
  {
   "cell_type": "code",
   "execution_count": 42,
   "id": "c72cb9ed",
   "metadata": {
    "execution": {
     "iopub.execute_input": "2022-09-17T08:38:45.890044Z",
     "iopub.status.busy": "2022-09-17T08:38:45.889592Z",
     "iopub.status.idle": "2022-09-17T08:38:45.897555Z",
     "shell.execute_reply": "2022-09-17T08:38:45.896487Z"
    },
    "papermill": {
     "duration": 0.032061,
     "end_time": "2022-09-17T08:38:45.900021",
     "exception": false,
     "start_time": "2022-09-17T08:38:45.867960",
     "status": "completed"
    },
    "tags": []
   },
   "outputs": [
    {
     "name": "stdout",
     "output_type": "stream",
     "text": [
      "[[1 2 3]\n",
      " [4 5 6]]\n",
      "IN 1-D array :  [1 4 2 5 3 6]\n",
      "\n",
      "1-D array: [1 2 3 4 5 6]\n"
     ]
    }
   ],
   "source": [
    "a = np.array([[1,2,3], [4,5,6]])\n",
    "print(a)\n",
    "b=np.reshape(a, 6, order='F')\n",
    "print(\"IN 1-D array : \",b)\n",
    "\n",
    "\n",
    "#WE CAN CREATE FLATTEN LIKE THAT ALSO\n",
    "\n",
    "arr = np.array([[1, 2, 3], [4, 5, 6]])\n",
    "newarr = arr.reshape(-1)\n",
    "print(\"\\n1-D array:\",newarr)"
   ]
  },
  {
   "cell_type": "code",
   "execution_count": 43,
   "id": "333ac7f2",
   "metadata": {
    "execution": {
     "iopub.execute_input": "2022-09-17T08:38:45.942223Z",
     "iopub.status.busy": "2022-09-17T08:38:45.941754Z",
     "iopub.status.idle": "2022-09-17T08:38:45.948862Z",
     "shell.execute_reply": "2022-09-17T08:38:45.947338Z"
    },
    "papermill": {
     "duration": 0.031854,
     "end_time": "2022-09-17T08:38:45.951603",
     "exception": false,
     "start_time": "2022-09-17T08:38:45.919749",
     "status": "completed"
    },
    "tags": []
   },
   "outputs": [
    {
     "name": "stdout",
     "output_type": "stream",
     "text": [
      "[1 2 3 4 5 6 7 8 9]\n"
     ]
    }
   ],
   "source": [
    "arr = np.array([1, 2, 3, 4, 5, 6, 7, 8,9])\n",
    "arr1=arr.reshape(3,3) ###WE CAN USE LIKE THAT ALSO\n",
    "print(arr)"
   ]
  },
  {
   "cell_type": "markdown",
   "id": "9c28c4e2",
   "metadata": {
    "papermill": {
     "duration": 0.020299,
     "end_time": "2022-09-17T08:38:45.992128",
     "exception": false,
     "start_time": "2022-09-17T08:38:45.971829",
     "status": "completed"
    },
    "tags": []
   },
   "source": [
    "##### numpy.ndarray.base\n",
    "- Base object if memory is from some other object."
   ]
  },
  {
   "cell_type": "code",
   "execution_count": 44,
   "id": "cf0a445b",
   "metadata": {
    "execution": {
     "iopub.execute_input": "2022-09-17T08:38:46.033831Z",
     "iopub.status.busy": "2022-09-17T08:38:46.033337Z",
     "iopub.status.idle": "2022-09-17T08:38:46.040530Z",
     "shell.execute_reply": "2022-09-17T08:38:46.038872Z"
    },
    "papermill": {
     "duration": 0.03145,
     "end_time": "2022-09-17T08:38:46.043497",
     "exception": false,
     "start_time": "2022-09-17T08:38:46.012047",
     "status": "completed"
    },
    "tags": []
   },
   "outputs": [
    {
     "name": "stdout",
     "output_type": "stream",
     "text": [
      "None True \n",
      " Give the base of array:base: [1 2 3 4 5 6 7 8 9] False\n"
     ]
    }
   ],
   "source": [
    "print(arr.base,arr.base is None,\"\\n Give the base of array:base:\",arr1.base,arr1.base is None)"
   ]
  },
  {
   "cell_type": "markdown",
   "id": "683421de",
   "metadata": {
    "papermill": {
     "duration": 0.019452,
     "end_time": "2022-09-17T08:38:46.083552",
     "exception": false,
     "start_time": "2022-09-17T08:38:46.064100",
     "status": "completed"
    },
    "tags": []
   },
   "source": [
    "## Working with numpy.ravel\n",
    "- Return a contiguous flattened array.\n",
    "\n",
    "- A 1-D array, containing the elements of the input, is returned. A copy is made only if needed.\n",
    "\n",
    "- As of NumPy 1.10, the returned array will have the same type as the input array. (for example, a masked array will be returned for a masked array input)\n",
    "- **Syntex:** <H3>numpy.ravel(a, order='C')</H3>\n"
   ]
  },
  {
   "cell_type": "code",
   "execution_count": 45,
   "id": "fabb9fab",
   "metadata": {
    "execution": {
     "iopub.execute_input": "2022-09-17T08:38:46.125888Z",
     "iopub.status.busy": "2022-09-17T08:38:46.125404Z",
     "iopub.status.idle": "2022-09-17T08:38:46.133618Z",
     "shell.execute_reply": "2022-09-17T08:38:46.132086Z"
    },
    "papermill": {
     "duration": 0.032844,
     "end_time": "2022-09-17T08:38:46.136666",
     "exception": false,
     "start_time": "2022-09-17T08:38:46.103822",
     "status": "completed"
    },
    "tags": []
   },
   "outputs": [
    {
     "name": "stdout",
     "output_type": "stream",
     "text": [
      "Sample 2-D array:\n",
      " [[1 2 3]\n",
      " [4 5 6]]\n",
      "New Flattened array(1-D) [1 2 3 4 5 6] \n",
      "Shape of New array (6,)\n"
     ]
    }
   ],
   "source": [
    "arr_revel= np.array([[1, 2, 3], [4, 5, 6]])\n",
    "print(\"Sample 2-D array:\\n\",arr_revel)\n",
    "newarr=np.ravel(arr_revel)\n",
    "print(\"New Flattened array(1-D)\",newarr,'\\nShape of New array',newarr.shape)\n"
   ]
  },
  {
   "cell_type": "code",
   "execution_count": 46,
   "id": "c270195b",
   "metadata": {
    "execution": {
     "iopub.execute_input": "2022-09-17T08:38:46.181703Z",
     "iopub.status.busy": "2022-09-17T08:38:46.181036Z",
     "iopub.status.idle": "2022-09-17T08:38:46.186997Z",
     "shell.execute_reply": "2022-09-17T08:38:46.185552Z"
    },
    "papermill": {
     "duration": 0.031724,
     "end_time": "2022-09-17T08:38:46.189527",
     "exception": false,
     "start_time": "2022-09-17T08:38:46.157803",
     "status": "completed"
    },
    "tags": []
   },
   "outputs": [
    {
     "name": "stdout",
     "output_type": "stream",
     "text": [
      "New flatten array with order: [1 4 2 5 3 6]\n"
     ]
    }
   ],
   "source": [
    "newarr=np.ravel(arr_revel, order='F')\n",
    "print(\"New flatten array with order:\",newarr)"
   ]
  },
  {
   "cell_type": "markdown",
   "id": "d256b020",
   "metadata": {
    "papermill": {
     "duration": 0.020336,
     "end_time": "2022-09-17T08:38:46.230630",
     "exception": false,
     "start_time": "2022-09-17T08:38:46.210294",
     "status": "completed"
    },
    "tags": []
   },
   "source": [
    "## Working with numpy.ndarray.flatten\n",
    "- Return a copy of the array collapsed into one dimension.\n",
    "- **Syntex:** <H3>ndarray.flatten(order='C')</H3>\n"
   ]
  },
  {
   "cell_type": "code",
   "execution_count": 47,
   "id": "be3266c2",
   "metadata": {
    "execution": {
     "iopub.execute_input": "2022-09-17T08:38:46.274713Z",
     "iopub.status.busy": "2022-09-17T08:38:46.274022Z",
     "iopub.status.idle": "2022-09-17T08:38:46.279902Z",
     "shell.execute_reply": "2022-09-17T08:38:46.278491Z"
    },
    "papermill": {
     "duration": 0.032247,
     "end_time": "2022-09-17T08:38:46.283576",
     "exception": false,
     "start_time": "2022-09-17T08:38:46.251329",
     "status": "completed"
    },
    "tags": []
   },
   "outputs": [
    {
     "name": "stdout",
     "output_type": "stream",
     "text": [
      "Give a Copy of Array:\n",
      " [[1 2]\n",
      " [3 4]]\n"
     ]
    }
   ],
   "source": [
    "aflate = np.array([[1,2], [3,4]])\n",
    "print(\"Give a Copy of Array:\\n\",aflate)"
   ]
  },
  {
   "cell_type": "markdown",
   "id": "27ffc4e0",
   "metadata": {
    "papermill": {
     "duration": 0.020631,
     "end_time": "2022-09-17T08:38:46.326639",
     "exception": false,
     "start_time": "2022-09-17T08:38:46.306008",
     "status": "completed"
    },
    "tags": []
   },
   "source": [
    "\n",
    "<html>\n",
    "    <h2 style=\"text-align:center\"><strong>Differences between Flatten() and Ravel()</strong></h2>\n",
    "<figure class=\"table\"><table><thead><tr><th><p style=\"text-align:center\"><strong>ravel()</strong></p></th><th><p style=\"text-align:center\"><strong>flatten()</strong></p></th></tr></thead><tbody><tr><td>Return only reference/view of the original array</td><td>Return copy of the original array</td></tr><tr><td>If you modify the array you would notice that the value of the original array also changes.</td><td>If you modify any value of this array value of the original array is not affected.</td></tr><tr><td>Ravel is faster than flatten() as it does not occupy any memory.</td><td>Flatten() is comparatively slower than ravel() as it occupies memory.</td></tr><tr><td>Ravel is a library-level function.&nbsp;</td><td>Flatten is a method of an ndarray object. Let us check out the difference in this code.</td></tr></tbody></table></figure>\n",
    "</html>"
   ]
  },
  {
   "cell_type": "markdown",
   "id": "13efffbf",
   "metadata": {
    "papermill": {
     "duration": 0.020427,
     "end_time": "2022-09-17T08:38:46.367916",
     "exception": false,
     "start_time": "2022-09-17T08:38:46.347489",
     "status": "completed"
    },
    "tags": []
   },
   "source": [
    "### Working with numpy.transpose\n",
    "- Reverse or permute the axes of an array; returns the modified array.(Returns a view of the array with axes transposed.)\n",
    "\n",
    "- For an array a with two axes, transpose(a) gives the matrix transpose.\n",
    "\n",
    "- **Syntex:** <H3>numpy.transpose(a, axes=None)</H3>\n"
   ]
  },
  {
   "cell_type": "code",
   "execution_count": 48,
   "id": "45abe992",
   "metadata": {
    "execution": {
     "iopub.execute_input": "2022-09-17T08:38:46.412224Z",
     "iopub.status.busy": "2022-09-17T08:38:46.411789Z",
     "iopub.status.idle": "2022-09-17T08:38:46.419355Z",
     "shell.execute_reply": "2022-09-17T08:38:46.418255Z"
    },
    "papermill": {
     "duration": 0.033165,
     "end_time": "2022-09-17T08:38:46.421949",
     "exception": false,
     "start_time": "2022-09-17T08:38:46.388784",
     "status": "completed"
    },
    "tags": []
   },
   "outputs": [
    {
     "name": "stdout",
     "output_type": "stream",
     "text": [
      "Sample array:\n",
      " [[1 2 3]\n",
      " [4 5 6]\n",
      " [7 8 9]]\n",
      "Transpose array:\n",
      " [[1 4 7]\n",
      " [2 5 8]\n",
      " [3 6 9]]\n"
     ]
    }
   ],
   "source": [
    "arr_trans=np.array([[1, 2, 3],\n",
    "                [4, 5, 6],\n",
    "                [7, 8, 9]])\n",
    "print(\"Sample array:\\n\",arr_trans)\n",
    "print(\"Transpose array:\\n\",arr_trans.transpose())\n",
    "                "
   ]
  },
  {
   "cell_type": "code",
   "execution_count": 49,
   "id": "f8609525",
   "metadata": {
    "execution": {
     "iopub.execute_input": "2022-09-17T08:38:46.466629Z",
     "iopub.status.busy": "2022-09-17T08:38:46.465498Z",
     "iopub.status.idle": "2022-09-17T08:38:46.472485Z",
     "shell.execute_reply": "2022-09-17T08:38:46.471134Z"
    },
    "papermill": {
     "duration": 0.031879,
     "end_time": "2022-09-17T08:38:46.474997",
     "exception": false,
     "start_time": "2022-09-17T08:38:46.443118",
     "status": "completed"
    },
    "tags": []
   },
   "outputs": [
    {
     "name": "stdout",
     "output_type": "stream",
     "text": [
      "Sample array:\n",
      " [[1 2 3]\n",
      " [4 5 6]\n",
      " [7 8 9]]\n",
      "Transpose array:\n",
      " [[1 4 7]\n",
      " [2 5 8]\n",
      " [3 6 9]]\n"
     ]
    }
   ],
   "source": [
    "arr_trans=np.array([[1, 2, 3],\n",
    "                [4, 5, 6],\n",
    "                [7, 8, 9]])\n",
    "print(\"Sample array:\\n\",arr_trans)\n",
    "print(\"Transpose array:\\n\",arr_trans.T)"
   ]
  },
  {
   "cell_type": "code",
   "execution_count": 50,
   "id": "f702fca2",
   "metadata": {
    "execution": {
     "iopub.execute_input": "2022-09-17T08:38:46.519037Z",
     "iopub.status.busy": "2022-09-17T08:38:46.518632Z",
     "iopub.status.idle": "2022-09-17T08:38:46.525775Z",
     "shell.execute_reply": "2022-09-17T08:38:46.524325Z"
    },
    "papermill": {
     "duration": 0.032504,
     "end_time": "2022-09-17T08:38:46.528601",
     "exception": false,
     "start_time": "2022-09-17T08:38:46.496097",
     "status": "completed"
    },
    "tags": []
   },
   "outputs": [
    {
     "name": "stdout",
     "output_type": "stream",
     "text": [
      "Sample arrary\n",
      " [[1 2]\n",
      " [4 5]\n",
      " [7 8]]\n",
      "Transpose with axis:\n",
      " [[1 4 7]\n",
      " [2 5 8]]\n"
     ]
    }
   ],
   "source": [
    "a= np.array([[1, 2], [4, 5], [7, 8]])  \n",
    "print(\"Sample arrary\\n\",a)\n",
    "b=np.transpose(a, (1,0))  \n",
    "print(\"Transpose with axis:\\n\",b)\n"
   ]
  },
  {
   "cell_type": "code",
   "execution_count": 51,
   "id": "3cfd183b",
   "metadata": {
    "execution": {
     "iopub.execute_input": "2022-09-17T08:38:46.573693Z",
     "iopub.status.busy": "2022-09-17T08:38:46.573036Z",
     "iopub.status.idle": "2022-09-17T08:38:46.581698Z",
     "shell.execute_reply": "2022-09-17T08:38:46.580490Z"
    },
    "papermill": {
     "duration": 0.034031,
     "end_time": "2022-09-17T08:38:46.584199",
     "exception": false,
     "start_time": "2022-09-17T08:38:46.550168",
     "status": "completed"
    },
    "tags": []
   },
   "outputs": [
    {
     "name": "stdout",
     "output_type": "stream",
     "text": [
      "Shape of sample array:\n",
      " [[[1. 1. 1. 1.]\n",
      "  [1. 1. 1. 1.]\n",
      "  [1. 1. 1. 1.]]\n",
      "\n",
      " [[1. 1. 1. 1.]\n",
      "  [1. 1. 1. 1.]\n",
      "  [1. 1. 1. 1.]]] \n",
      "Shape of Sample array (2, 3, 4) \n",
      "Dimention of Sample array: 3\n",
      "\n",
      "Transpose array b:\n",
      " [[[1. 1. 1. 1.]\n",
      "  [1. 1. 1. 1.]]\n",
      "\n",
      " [[1. 1. 1. 1.]\n",
      "  [1. 1. 1. 1.]]\n",
      "\n",
      " [[1. 1. 1. 1.]\n",
      "  [1. 1. 1. 1.]]] \n",
      "Shape of Transpose array (3, 2, 4) \n",
      "Dimention of Transpose array: 3\n",
      "\n",
      "Transpose array c:\n",
      " [[[1. 1.]\n",
      "  [1. 1.]\n",
      "  [1. 1.]]\n",
      "\n",
      " [[1. 1.]\n",
      "  [1. 1.]\n",
      "  [1. 1.]]\n",
      "\n",
      " [[1. 1.]\n",
      "  [1. 1.]\n",
      "  [1. 1.]]\n",
      "\n",
      " [[1. 1.]\n",
      "  [1. 1.]\n",
      "  [1. 1.]]] \n",
      "Shape of Transpose array (4, 3, 2) \n",
      "Dimention of Transpose array: 3\n"
     ]
    }
   ],
   "source": [
    "a = np.ones((2,3,4))\n",
    "print(\"Shape of sample array:\\n\",a,\"\\nShape of Sample array\",a.shape,\"\\nDimention of Sample array:\",a.ndim)\n",
    "\n",
    "\n",
    "b=np.transpose(a,(1,0,2))   #0, 1 ,2 the axis refer 2,3,4 in a\n",
    "print(\"\\nTranspose array b:\\n\",b,\"\\nShape of Transpose array\",b.shape,\"\\nDimention of Transpose array:\",b.ndim)\n",
    "\n",
    "\n",
    "c=np.transpose(a,(2,1,0))   #0, 1 ,2 the axis refer 2,3,4 in a\n",
    "print(\"\\nTranspose array c:\\n\",c,\"\\nShape of Transpose array\",c.shape,\"\\nDimention of Transpose array:\",c.ndim)\n"
   ]
  },
  {
   "cell_type": "markdown",
   "id": "032fefb7",
   "metadata": {
    "papermill": {
     "duration": 0.020863,
     "end_time": "2022-09-17T08:38:46.626428",
     "exception": false,
     "start_time": "2022-09-17T08:38:46.605565",
     "status": "completed"
    },
    "tags": []
   },
   "source": [
    "# Mathematical Operation Using NumPy:\n"
   ]
  },
  {
   "cell_type": "code",
   "execution_count": null,
   "id": "f0b9cf1b",
   "metadata": {
    "papermill": {
     "duration": 0.020642,
     "end_time": "2022-09-17T08:38:46.668225",
     "exception": false,
     "start_time": "2022-09-17T08:38:46.647583",
     "status": "completed"
    },
    "tags": []
   },
   "outputs": [],
   "source": []
  }
 ],
 "metadata": {
  "kernelspec": {
   "display_name": "Python 3",
   "language": "python",
   "name": "python3"
  },
  "language_info": {
   "codemirror_mode": {
    "name": "ipython",
    "version": 3
   },
   "file_extension": ".py",
   "mimetype": "text/x-python",
   "name": "python",
   "nbconvert_exporter": "python",
   "pygments_lexer": "ipython3",
   "version": "3.7.12"
  },
  "papermill": {
   "default_parameters": {},
   "duration": 14.443428,
   "end_time": "2022-09-17T08:38:47.413662",
   "environment_variables": {},
   "exception": null,
   "input_path": "__notebook__.ipynb",
   "output_path": "__notebook__.ipynb",
   "parameters": {},
   "start_time": "2022-09-17T08:38:32.970234",
   "version": "2.3.4"
  }
 },
 "nbformat": 4,
 "nbformat_minor": 5
}
