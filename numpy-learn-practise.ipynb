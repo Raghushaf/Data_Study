{
 "cells": [
  {
   "cell_type": "code",
   "execution_count": 1,
   "id": "1cd2df1e",
   "metadata": {
    "_cell_guid": "b1076dfc-b9ad-4769-8c92-a6c4dae69d19",
    "_uuid": "8f2839f25d086af736a60e9eeb907d3b93b6e0e5",
    "execution": {
     "iopub.execute_input": "2022-09-19T12:49:59.393637Z",
     "iopub.status.busy": "2022-09-19T12:49:59.393142Z",
     "iopub.status.idle": "2022-09-19T12:49:59.405135Z",
     "shell.execute_reply": "2022-09-19T12:49:59.404048Z"
    },
    "papermill": {
     "duration": 0.056361,
     "end_time": "2022-09-19T12:49:59.407675",
     "exception": false,
     "start_time": "2022-09-19T12:49:59.351314",
     "status": "completed"
    },
    "tags": []
   },
   "outputs": [],
   "source": [
    "# This Python 3 environment comes with many helpful analytics libraries installed\n",
    "# It is defined by the kaggle/python Docker image: https://github.com/kaggle/docker-python\n",
    "# For example, here's several helpful packages to load\n",
    "\n",
    "import numpy as np # linear algebra\n",
    "import pandas as pd # data processing, CSV file I/O (e.g. pd.read_csv)\n",
    "\n",
    "# Input data files are available in the read-only \"../input/\" directory\n",
    "# For example, running this (by clicking run or pressing Shift+Enter) will list all files under the input directory\n",
    "\n",
    "import os\n",
    "for dirname, _, filenames in os.walk('/kaggle/input'):\n",
    "    for filename in filenames:\n",
    "        print(os.path.join(dirname, filename))\n",
    "\n",
    "# You can write up to 20GB to the current directory (/kaggle/working/) that gets preserved as output when you create a version using \"Save & Run All\" \n",
    "# You can also write temporary files to /kaggle/temp/, but they won't be saved outside of the current session"
   ]
  },
  {
   "cell_type": "markdown",
   "id": "5d7a7c37",
   "metadata": {
    "papermill": {
     "duration": 0.035663,
     "end_time": "2022-09-19T12:49:59.481355",
     "exception": false,
     "start_time": "2022-09-19T12:49:59.445692",
     "status": "completed"
    },
    "tags": []
   },
   "source": [
    "<p><strong>NumPy Basics</strong></p>\n",
    "<div class=\"table-responsive\">\n",
    "<table class=\"table table-bordered\">\n",
    "<tbody><tr>\n",
    "<th>Operator</th>\n",
    "<th>Description</th>\n",
    "</tr>\n",
    "<tr>\n",
    "<td>np.array([1,2,3])</td>\n",
    "<td>1d array</td>\n",
    "</tr>\n",
    "<tr>\n",
    "<td>np.array([(1,2,3),(4,5,6)])\t</td>\n",
    "<td>2d array</td>\n",
    "</tr>\n",
    "<tr>\n",
    "<td>np.arange(start,stop,step)</td>\n",
    "<td>range array</td>\n",
    "</tr>\n",
    "</tbody></table></div>\n",
    "<p><strong>Placeholders</strong></p>\n",
    "<div class=\"table-responsive\">\n",
    "<table class=\"table table-bordered\">\n",
    "<tbody><tr>\n",
    "<th>Operator</th>\n",
    "<th>Description</th>\n",
    "</tr>\n",
    "<tr>\n",
    "<td>np.linspace(0,2,9)</td>\n",
    "<td>Add evenly spaced values btw interval to array of length</td>\n",
    "</tr>\n",
    "<tr>\n",
    "<td>np.zeros((1,2))</td>\n",
    "<td>Create and array filled with zeros</td>\n",
    "</tr>\n",
    "<tr>\n",
    "<td>np.ones((1,2))</td>\n",
    "<td>Creates an array filled with ones</td>\n",
    "</tr>\n",
    "<tr>\n",
    "<td>np.random.random((5,5))</td>\n",
    "<td>Creates random array</td>\n",
    "</tr>\n",
    "<tr>\n",
    "<td>np.empty((2,2))</td>\n",
    "<td>Creates an empty array</td>\n",
    "</tr>\n",
    "</tbody></table></div>\n",
    "<p><strong>Array</strong></p>\n",
    "<div class=\"table-responsive\">\n",
    "<table class=\"table table-bordered\">\n",
    "<tbody><tr>\n",
    "<th>Syntax</th>\n",
    "<th>Description</th>\n",
    "</tr>\n",
    "<tr>\n",
    "<td>array.shape</td>\n",
    "<td>Dimensions (Rows,Columns)</td>\n",
    "</tr>\n",
    "<tr>\n",
    "<td>len(array)</td>\n",
    "<td>Length of Array</td>\n",
    "</tr>\n",
    "<tr>\n",
    "<td>array.ndim</td>\n",
    "<td>Number of Array Dimensions</td>\n",
    "</tr>\n",
    "<tr>\n",
    "<td>array.dtype</td>\n",
    "<td>Data Type</td>\n",
    "</tr>\n",
    "<tr>\n",
    "<td>array.astype(type)</td>\n",
    "<td>Converts to Data Type</td>\n",
    "</tr>\n",
    "<tr>\n",
    "<td>type(array)</td>\n",
    "<td>Type of Array</td>\n",
    "</tr>\n",
    "</tbody></table></div>\n",
    "<img src=\"https://www.w3resource.com/w3r_images/numpy-array-xyz-axis.png\" alt=\"NumPy: numpy array axis\" style=\"max-width:100%;display:block;height:auto;border: 2px solid silver;\"><br>\n",
    "<p><strong>Copying/Sorting</strong></p>\n",
    "<div class=\"table-responsive\">\n",
    "<table class=\"table table-bordered\">\n",
    "<tbody><tr>\n",
    "<th>Operators</th>\n",
    "<th>Description</th>\n",
    "</tr>\n",
    "<tr>\n",
    "<td>np.copy(array)</td>\n",
    "<td>Creates copy of array</td>\n",
    "</tr>\n",
    "<tr>\n",
    "<td>other = array.copy()</td>\n",
    "<td>Creates deep copy of array</td>\n",
    "</tr>\n",
    "<tr>\n",
    "<td>array.sort()</td>\n",
    "<td>Sorts an array</td>\n",
    "</tr>\n",
    "<tr>\n",
    "<td>array.sort(axis=0)</td>\n",
    "<td>Sorts axis of array</td>\n",
    "</tr>\n",
    "</tbody></table></div>\n",
    "<p><strong>Array Manipulation</strong></p>\n",
    "<p><strong>Adding or Removing Elements</strong></p>\n",
    "<div class=\"table-responsive\">\n",
    "<table class=\"table table-bordered\">\n",
    "<tbody><tr>\n",
    "<th>Operator</th>\n",
    "<th>Description</th>\n",
    "</tr>\n",
    "<tr>\n",
    "<td>np.append(a,b)</td>\n",
    "<td>Append items to array</td>\n",
    "</tr>\n",
    "<tr>\n",
    "<td>np.insert(array, 1, 2, axis)</td>\n",
    "<td>Insert items into array at axis 0 or 1</td>\n",
    "</tr>\n",
    "<tr>\n",
    "<td>np.resize((2,4))</td>\n",
    "<td>Resize array to shape(2,4)</td>\n",
    "</tr>\n",
    "<tr>\n",
    "<td>np.delete(array,1,axis)</td>\n",
    "<td>Deletes items from array</td>\n",
    "</tr>\n",
    "</tbody></table></div>\n",
    "<p><strong>Combining Arrays</strong></p>\n",
    "<div class=\"table-responsive\">\n",
    "<table class=\"table table-bordered\">\n",
    "<tbody><tr>\n",
    "<th>Operator</th>\n",
    "<th>Description</th>\n",
    "</tr>\n",
    "<tr>\n",
    "<td>np.concatenate((a,b),axis=0)</td>\n",
    "<td>Concatenates 2 arrays, adds to end</td>\n",
    "</tr>\n",
    "<tr>\n",
    "<td>np.vstack((a,b))</td>\n",
    "<td>Stack array row-wise</td>\n",
    "</tr>\n",
    "<tr>\n",
    "<td>np.hstack((a,b))</td>\n",
    "<td>Stack array column wise</td>\n",
    "</tr>\n",
    "</tbody></table></div>\n",
    "<p><strong>Splitting Arrays</strong></p>\n",
    "<div class=\"table-responsive\">\n",
    "<table class=\"table table-bordered\">\n",
    "<tbody><tr>\n",
    "<th>Operator</th>\n",
    "<th>Description</th>\n",
    "</tr>\n",
    "<tr>\n",
    "<td>numpy.split()</td>\n",
    "<td>Split an array into multiple sub-arrays.</td>\n",
    "</tr>\n",
    "<tr>\n",
    "<td>np.array_split(array, 3)</td>\n",
    "<td>Split an array in sub-arrays of (nearly) identical size</td>\n",
    "</tr>\n",
    "<tr>\n",
    "<td>numpy.hsplit(array, 3)</td>\n",
    "<td>Split the array horizontally at 3rd index</td>\n",
    "</tr>\n",
    "</tbody></table></div>\n",
    "<p><strong>More</strong></p>\n",
    "<div class=\"table-responsive\">\n",
    "<table class=\"table table-bordered\">\n",
    "<tbody><tr>\n",
    "<th>Operator</th>\n",
    "<th>Description</th>\n",
    "</tr>\n",
    "<tr>\n",
    "<td>other = ndarray.flatten()</td>\n",
    "<td>Flattens a 2d array to 1d</td>\n",
    "</tr>\n",
    "<tr>\n",
    "<td>array = np.transpose(other)<br>array.T</td>\n",
    "<td>Transpose array</td>\n",
    "</tr>\n",
    "<tr>\n",
    "<td>inverse = np.linalg.inv(matrix)</td>\n",
    "<td>Inverse of a given matrix</td>\n",
    "</tr>\n",
    "<tr>\n",
    "<td></td>\n",
    "<td></td>\n",
    "</tr>\n",
    "</tbody></table></div>\n",
    "<p><strong>Mathematics</strong></p>\n",
    "<p><strong>Operations</strong></p>\n",
    "<div class=\"table-responsive\">\n",
    "<table class=\"table table-bordered\">\n",
    "<tbody><tr>\n",
    "<th>Operator</th>\n",
    "<th>Description</th>\n",
    "</tr>\n",
    "<tr>\n",
    "<td>np.add(x,y)<br>x + y</td>\n",
    "<td>Addition</td>\n",
    "</tr>\n",
    "<tr>\n",
    "<td>np.substract(x,y)<br>x - y</td>\n",
    "<td>Subtraction</td>\n",
    "</tr>\n",
    "<tr>\n",
    "<td>np.divide(x,y)<br>x / y</td>\n",
    "<td>Division</td>\n",
    "</tr>\n",
    "<tr>\n",
    "<td>np.multiply(x,y)<br>x @ y</td>\n",
    "<td>Multiplication</td>\n",
    "</tr>\n",
    "<tr>\n",
    "<td>np.sqrt(x)</td>\n",
    "<td>Square Root</td>\n",
    "</tr>\n",
    "<tr>\n",
    "<td>np.sin(x)</td>\n",
    "<td>Element-wise sine</td>\n",
    "</tr>\n",
    "<tr>\n",
    "<td>np.cos(x)</td>\n",
    "<td>Element-wise cosine</td>\n",
    "</tr>\n",
    "<tr>\n",
    "<td>np.log(x)</td>\n",
    "<td>Element-wise natural log</td>\n",
    "</tr>\n",
    "<tr>\n",
    "<td>np.dot(x,y)</td>\n",
    "<td>Dot product</td>\n",
    "</tr>\n",
    "<tr>\n",
    "<td>np.roots([1,0,-4])</td>\n",
    "<td>Roots of a given polynomial coefficients</td>\n",
    "</tr>\n",
    "</tbody></table></div>\n",
    "<p><strong>Comparison</strong></p>\n",
    "<div class=\"table-responsive\">\n",
    "<table class=\"table table-bordered\">\n",
    "<tbody><tr>\n",
    "<th>Operator</th>\n",
    "<th>Description</th>\n",
    "</tr>\n",
    "<tr>\n",
    "<td>==</td>\n",
    "<td>Equal</td>\n",
    "</tr>\n",
    "<tr>\n",
    "<td>!=</td>\n",
    "<td>Not equal</td>\n",
    "</tr>\n",
    "<tr>\n",
    "<td>&lt;</td>\n",
    "<td>Smaller than</td>\n",
    "</tr>\n",
    "<tr>\n",
    "<td>&gt;</td>\n",
    "<td>Greater than</td>\n",
    "</tr>\n",
    "<tr>\n",
    "<td>&lt;=</td>\n",
    "<td>Smaller than or equal</td>\n",
    "</tr>\n",
    "<tr>\n",
    "<td>&gt;=</td>\n",
    "<td>Greater than or equal</td>\n",
    "</tr>\n",
    "<tr>\n",
    "<td>np.array_equal(x,y)</td>\n",
    "<td>Array-wise comparison</td>\n",
    "</tr>\n",
    "</tbody></table></div>\n",
    "<p><strong>Basic Statistics</strong></p>\n",
    "<div class=\"table-responsive\">\n",
    "<table class=\"table table-bordered\">\n",
    "<tbody><tr>\n",
    "<th>Operator</th>\n",
    "<th>Description</th>\n",
    "</tr>\n",
    "<tr>\n",
    "<td>np.mean(array)</td>\n",
    "<td>Mean</td>\n",
    "</tr>\n",
    "<tr>\n",
    "<td>np.median(array)</td>\n",
    "<td>Median</td>\n",
    "</tr>\n",
    "<tr>\n",
    "<td>array.corrcoef()</td>\n",
    "<td>Correlation Coefficient</td>\n",
    "</tr>\n",
    "<tr>\n",
    "<td>np.std(array)</td>\n",
    "<td>Standard Deviation</td>\n",
    "</tr>\n",
    "</tbody></table></div>\n",
    "<p><strong>More</strong></p>\n",
    "<div class=\"table-responsive\">\n",
    "<table class=\"table table-bordered\">\n",
    "<tbody><tr>\n",
    "<th>Operator</th>\n",
    "<th>Description</th>\n",
    "</tr>\n",
    "<tr>\n",
    "<td>array.sum()</td>\n",
    "<td>Array-wise sum</td>\n",
    "</tr>\n",
    "<tr>\n",
    "<td>array.min()</td>\n",
    "<td>Array-wise minimum value</td>\n",
    "</tr>\n",
    "<tr>\n",
    "<td>array.max(axis=0)</td>\n",
    "<td>Maximum value of specified axis</td>\n",
    "</tr>\n",
    "<tr>\n",
    "<td>array.cumsum(axis=0)</td>\n",
    "<td>Cumulative sum of specified axis</td>\n",
    "</tr>\n",
    "</tbody></table></div>\n",
    "<p><strong>Slicing and Subsetting</strong></p>\n",
    "<div class=\"table-responsive\">\n",
    "<table class=\"table table-bordered\">\n",
    "<tbody><tr>\n",
    "<th>Operator</th>\n",
    "<th>Description</th>\n",
    "</tr>\n",
    "<tr>\n",
    "<td>array[i]</td>\n",
    "<td>1d array at index i</td>\n",
    "</tr>\n",
    "<tr>\n",
    "<td>array[i,j]</td>\n",
    "<td>2d array at index[i][j]</td>\n",
    "</tr>\n",
    "<tr>\n",
    "<td>array[i&lt;4]</td>\n",
    "<td>Boolean Indexing, see Tricks</td>\n",
    "</tr>\n",
    "<tr>\n",
    "<td>array[0:3]</td>\n",
    "<td>Select items of index 0, 1 and 2</td>\n",
    "</tr>\n",
    "<tr>\n",
    "<td>array[0:2,1]</td>\n",
    "<td>Select items of rows 0 and 1 at column 1</td>\n",
    "</tr>\n",
    "<tr>\n",
    "<td>array[:1]</td>\n",
    "<td>Select items of row 0 (equals array[0:1, :])</td>\n",
    "</tr>\n",
    "<tr>\n",
    "<td>array[1:2, :]</td>\n",
    "<td>Select items of row 1</td>\n",
    "</tr>\n",
    "<tr>\n",
    "<td>[comment]: &lt;&gt; (</td>\n",
    "<td>array[1,...]</td>\n",
    "</tr>\n",
    "<tr>\n",
    "<td>array[ : :-1]</td>\n",
    "<td>Reverses array</td>\n",
    "</tr>\n",
    "</tbody></table></div>\n",
    "<p><strong>Importing/exporting</strong></p>\n",
    "<div class=\"table-responsive\">\n",
    "<table class=\"table table-bordered\">\n",
    "<tbody><tr>\n",
    "<th>Syntax</th>\n",
    "<th>Description</th>\n",
    "</tr>\n",
    "<tr>\n",
    "<td>np.loadtxt('file.txt')</td>\n",
    "<td>From a text file. </td>\n",
    "</tr>\n",
    "<tr>\n",
    "<td>np.genfromtxt('file.csv',delimiter=',') </td>\n",
    "<td>From a csv file.</td>\n",
    "</tr>\n",
    "<tr>\n",
    "<td>np.savetxt('file.txt',arr,delimiter=' ') </td>\n",
    "<td>Writes to a text file.</td>\n",
    "</tr>\n",
    "<tr>\n",
    "<td>np.savetxt('file.csv',arr,delimiter=',') </td>\n",
    "<td>Writes to a CSV file.</td>\n",
    "</tr>\n",
    "</tbody></table></div>"
   ]
  },
  {
   "cell_type": "markdown",
   "id": "3f7ec4b6",
   "metadata": {
    "papermill": {
     "duration": 0.035428,
     "end_time": "2022-09-19T12:49:59.552684",
     "exception": false,
     "start_time": "2022-09-19T12:49:59.517256",
     "status": "completed"
    },
    "tags": []
   },
   "source": [
    "### Creating 1-D Array:"
   ]
  },
  {
   "cell_type": "code",
   "execution_count": 2,
   "id": "51daa4fc",
   "metadata": {
    "execution": {
     "iopub.execute_input": "2022-09-19T12:49:59.626410Z",
     "iopub.status.busy": "2022-09-19T12:49:59.625998Z",
     "iopub.status.idle": "2022-09-19T12:49:59.634009Z",
     "shell.execute_reply": "2022-09-19T12:49:59.632839Z"
    },
    "papermill": {
     "duration": 0.049474,
     "end_time": "2022-09-19T12:49:59.637847",
     "exception": false,
     "start_time": "2022-09-19T12:49:59.588373",
     "status": "completed"
    },
    "tags": []
   },
   "outputs": [
    {
     "name": "stdout",
     "output_type": "stream",
     "text": [
      "This is 1-D array: [1 2 3 4 5]\n"
     ]
    }
   ],
   "source": [
    "arr1d=np.array([1,2,3,4,5])\n",
    "print(\"This is 1-D array:\",arr1d)"
   ]
  },
  {
   "cell_type": "markdown",
   "id": "4c19a1be",
   "metadata": {
    "papermill": {
     "duration": 0.034862,
     "end_time": "2022-09-19T12:49:59.708389",
     "exception": false,
     "start_time": "2022-09-19T12:49:59.673527",
     "status": "completed"
    },
    "tags": []
   },
   "source": [
    "### Creating 2-D Array:"
   ]
  },
  {
   "cell_type": "code",
   "execution_count": 3,
   "id": "4dd17e09",
   "metadata": {
    "execution": {
     "iopub.execute_input": "2022-09-19T12:49:59.780342Z",
     "iopub.status.busy": "2022-09-19T12:49:59.779959Z",
     "iopub.status.idle": "2022-09-19T12:49:59.786334Z",
     "shell.execute_reply": "2022-09-19T12:49:59.785191Z"
    },
    "papermill": {
     "duration": 0.046003,
     "end_time": "2022-09-19T12:49:59.789233",
     "exception": false,
     "start_time": "2022-09-19T12:49:59.743230",
     "status": "completed"
    },
    "tags": []
   },
   "outputs": [
    {
     "name": "stdout",
     "output_type": "stream",
     "text": [
      "This is 2-D array:\n",
      "\n",
      " [[1 2 3 4]\n",
      " [1 2 3 4]\n",
      " [1 2 3 4]]\n"
     ]
    }
   ],
   "source": [
    "arr2d=np.array([[1,2,3,4],\n",
    "                [1,2,3,4],\n",
    "                [1,2,3,4],\n",
    "               ])\n",
    "print(\"This is 2-D array:\\n\\n\",arr2d)"
   ]
  },
  {
   "cell_type": "markdown",
   "id": "7eccb2ab",
   "metadata": {
    "papermill": {
     "duration": 0.049521,
     "end_time": "2022-09-19T12:49:59.884585",
     "exception": false,
     "start_time": "2022-09-19T12:49:59.835064",
     "status": "completed"
    },
    "tags": []
   },
   "source": [
    "### Creating 3-D or Multi-D Array:"
   ]
  },
  {
   "cell_type": "code",
   "execution_count": 4,
   "id": "435dac06",
   "metadata": {
    "execution": {
     "iopub.execute_input": "2022-09-19T12:49:59.969028Z",
     "iopub.status.busy": "2022-09-19T12:49:59.968636Z",
     "iopub.status.idle": "2022-09-19T12:49:59.976501Z",
     "shell.execute_reply": "2022-09-19T12:49:59.975035Z"
    },
    "papermill": {
     "duration": 0.047453,
     "end_time": "2022-09-19T12:49:59.979507",
     "exception": false,
     "start_time": "2022-09-19T12:49:59.932054",
     "status": "completed"
    },
    "tags": []
   },
   "outputs": [
    {
     "name": "stdout",
     "output_type": "stream",
     "text": [
      "This is 3-D array:\n",
      "\n",
      " [[[1 2 3 4]\n",
      "  [1 2 3 4]\n",
      "  [1 2 3 4]]\n",
      "\n",
      " [[1 2 3 4]\n",
      "  [1 2 3 4]\n",
      "  [1 2 3 4]]\n",
      "\n",
      " [[1 2 3 4]\n",
      "  [1 2 3 4]\n",
      "  [1 2 3 4]]]\n"
     ]
    }
   ],
   "source": [
    "arr3d=np.array([[[1,2,3,4],\n",
    "                [1,2,3,4],\n",
    "                [1,2,3,4],\n",
    "               ],\n",
    "               [[1,2,3,4],\n",
    "                [1,2,3,4],\n",
    "                [1,2,3,4],\n",
    "               ],\n",
    "                [[1,2,3,4],\n",
    "                [1,2,3,4],\n",
    "                [1,2,3,4],\n",
    "               ]])\n",
    "print(\"This is 3-D array:\\n\\n\",arr3d)"
   ]
  },
  {
   "cell_type": "markdown",
   "id": "40f37bab",
   "metadata": {
    "papermill": {
     "duration": 0.035759,
     "end_time": "2022-09-19T12:50:00.050779",
     "exception": false,
     "start_time": "2022-09-19T12:50:00.015020",
     "status": "completed"
    },
    "tags": []
   },
   "source": [
    "### Use of type() function:\n",
    "- It will give the type of object.\n"
   ]
  },
  {
   "cell_type": "code",
   "execution_count": 5,
   "id": "219b418e",
   "metadata": {
    "execution": {
     "iopub.execute_input": "2022-09-19T12:50:00.123104Z",
     "iopub.status.busy": "2022-09-19T12:50:00.122734Z",
     "iopub.status.idle": "2022-09-19T12:50:00.128328Z",
     "shell.execute_reply": "2022-09-19T12:50:00.127189Z"
    },
    "papermill": {
     "duration": 0.044992,
     "end_time": "2022-09-19T12:50:00.131123",
     "exception": false,
     "start_time": "2022-09-19T12:50:00.086131",
     "status": "completed"
    },
    "tags": []
   },
   "outputs": [
    {
     "name": "stdout",
     "output_type": "stream",
     "text": [
      "type of array 1-D array: <class 'numpy.ndarray'>\n"
     ]
    }
   ],
   "source": [
    "print(\"type of array 1-D array:\",type(arr1d))"
   ]
  },
  {
   "cell_type": "markdown",
   "id": "be8e2e40",
   "metadata": {
    "papermill": {
     "duration": 0.034814,
     "end_time": "2022-09-19T12:50:00.200828",
     "exception": false,
     "start_time": "2022-09-19T12:50:00.166014",
     "status": "completed"
    },
    "tags": []
   },
   "source": [
    "### Use of ndim:\n",
    "- It will give the dimention of NumPy array."
   ]
  },
  {
   "cell_type": "code",
   "execution_count": 6,
   "id": "3b0d99fc",
   "metadata": {
    "execution": {
     "iopub.execute_input": "2022-09-19T12:50:00.272818Z",
     "iopub.status.busy": "2022-09-19T12:50:00.272403Z",
     "iopub.status.idle": "2022-09-19T12:50:00.278681Z",
     "shell.execute_reply": "2022-09-19T12:50:00.277600Z"
    },
    "papermill": {
     "duration": 0.045401,
     "end_time": "2022-09-19T12:50:00.281233",
     "exception": false,
     "start_time": "2022-09-19T12:50:00.235832",
     "status": "completed"
    },
    "tags": []
   },
   "outputs": [
    {
     "name": "stdout",
     "output_type": "stream",
     "text": [
      "Dimention of Array arr1d:-> 1\n",
      "Dimention of Array arr2d:-> 2\n",
      "Dimention of Array arr3d:-> 3\n"
     ]
    }
   ],
   "source": [
    "print(\"Dimention of Array arr1d:->\",arr1d.ndim)\n",
    "print(\"Dimention of Array arr2d:->\",arr2d.ndim)\n",
    "print(\"Dimention of Array arr3d:->\",arr3d.ndim)"
   ]
  },
  {
   "cell_type": "markdown",
   "id": "13b3680b",
   "metadata": {
    "papermill": {
     "duration": 0.036335,
     "end_time": "2022-09-19T12:50:00.354687",
     "exception": false,
     "start_time": "2022-09-19T12:50:00.318352",
     "status": "completed"
    },
    "tags": []
   },
   "source": [
    "### Use of shape:\n",
    "- It will give you shape of array."
   ]
  },
  {
   "cell_type": "code",
   "execution_count": 7,
   "id": "043ea060",
   "metadata": {
    "execution": {
     "iopub.execute_input": "2022-09-19T12:50:00.429648Z",
     "iopub.status.busy": "2022-09-19T12:50:00.429225Z",
     "iopub.status.idle": "2022-09-19T12:50:00.435216Z",
     "shell.execute_reply": "2022-09-19T12:50:00.433931Z"
    },
    "papermill": {
     "duration": 0.04701,
     "end_time": "2022-09-19T12:50:00.438121",
     "exception": false,
     "start_time": "2022-09-19T12:50:00.391111",
     "status": "completed"
    },
    "tags": []
   },
   "outputs": [
    {
     "name": "stdout",
     "output_type": "stream",
     "text": [
      "Shape of array arr1d will be:  (5,)\n",
      "Shape of array qrr2d will be: (3, 4)\n",
      "Shape of array arr3d will be: (3, 3, 4)\n"
     ]
    }
   ],
   "source": [
    "print(\"Shape of array arr1d will be: \", arr1d.shape)\n",
    "print(\"Shape of array qrr2d will be:\", arr2d.shape)\n",
    "print(\"Shape of array arr3d will be:\", arr3d.shape)"
   ]
  },
  {
   "cell_type": "markdown",
   "id": "bc999f01",
   "metadata": {
    "papermill": {
     "duration": 0.035491,
     "end_time": "2022-09-19T12:50:00.509751",
     "exception": false,
     "start_time": "2022-09-19T12:50:00.474260",
     "status": "completed"
    },
    "tags": []
   },
   "source": [
    "*** \n",
    "### Data Types in Python\n",
    "- By default Python have these data types:\n",
    "    - strings - used to represent text data, the text is given under quote marks. e.g. \"ABCD\"\n",
    "    - integer - used to represent integer numbers. e.g. -1, -2, -3\n",
    "    - float - used to represent real numbers. e.g. 1.2, 42.42\n",
    "    - boolean - used to represent True or False.\n",
    "    - complex - used to represent complex numbers. e.g. 1.0 + 2.0j, 1.5 + 2.5j \n",
    "***"
   ]
  },
  {
   "cell_type": "markdown",
   "id": "48e6734a",
   "metadata": {
    "papermill": {
     "duration": 0.035703,
     "end_time": "2022-09-19T12:50:00.580932",
     "exception": false,
     "start_time": "2022-09-19T12:50:00.545229",
     "status": "completed"
    },
    "tags": []
   },
   "source": [
    "***\n",
    "### Data Types in NumPy\n",
    "- NumPy has some extra data types, and refer to data types with one character, like i for integers, u for unsigned integers etc.\n",
    "\n",
    "    Below is a list of all data types in NumPy and the characters used to represent them.\n",
    "\n",
    "    - i - integer\n",
    "    - b - boolean\n",
    "    - u - unsigned integer\n",
    "    - f - float\n",
    "    - c - complex float\n",
    "    - m - timedelta\n",
    "    - M - datetime\n",
    "    - O - object\n",
    "    - S - string\n",
    "    - U - unicode string\n",
    "    - V - fixed chunk of memory for other type ( void )\n",
    "\n",
    "***\n",
    "- <H4>Use of dtype:</H4>\n",
    "    - It give what kind of data means type of data we are using."
   ]
  },
  {
   "cell_type": "code",
   "execution_count": 8,
   "id": "a11763d5",
   "metadata": {
    "execution": {
     "iopub.execute_input": "2022-09-19T12:50:00.655323Z",
     "iopub.status.busy": "2022-09-19T12:50:00.654268Z",
     "iopub.status.idle": "2022-09-19T12:50:00.661894Z",
     "shell.execute_reply": "2022-09-19T12:50:00.660165Z"
    },
    "papermill": {
     "duration": 0.048326,
     "end_time": "2022-09-19T12:50:00.664677",
     "exception": false,
     "start_time": "2022-09-19T12:50:00.616351",
     "status": "completed"
    },
    "tags": []
   },
   "outputs": [
    {
     "name": "stdout",
     "output_type": "stream",
     "text": [
      "Data type of array arr1d: int64\n",
      "Data type of array arr1d: int64\n",
      "Data type of array arr1d: int64\n"
     ]
    }
   ],
   "source": [
    "print(\"Data type of array arr1d:\", arr1d.dtype)\n",
    "print(\"Data type of array arr1d:\", arr2d.dtype)\n",
    "print(\"Data type of array arr1d:\", arr3d.dtype)"
   ]
  },
  {
   "cell_type": "code",
   "execution_count": 9,
   "id": "f03ff3b9",
   "metadata": {
    "execution": {
     "iopub.execute_input": "2022-09-19T12:50:00.742132Z",
     "iopub.status.busy": "2022-09-19T12:50:00.741594Z",
     "iopub.status.idle": "2022-09-19T12:50:00.747991Z",
     "shell.execute_reply": "2022-09-19T12:50:00.746852Z"
    },
    "papermill": {
     "duration": 0.047534,
     "end_time": "2022-09-19T12:50:00.750700",
     "exception": false,
     "start_time": "2022-09-19T12:50:00.703166",
     "status": "completed"
    },
    "tags": []
   },
   "outputs": [
    {
     "name": "stdout",
     "output_type": "stream",
     "text": [
      "Data type of array arr: <U6\n"
     ]
    }
   ],
   "source": [
    "arr = np.array(['apple', 'banana', 'cherry'])\n",
    "\n",
    "print(\"Data type of array arr:\", arr.dtype)"
   ]
  },
  {
   "cell_type": "markdown",
   "id": "18a549d2",
   "metadata": {
    "papermill": {
     "duration": 0.037312,
     "end_time": "2022-09-19T12:50:00.826078",
     "exception": false,
     "start_time": "2022-09-19T12:50:00.788766",
     "status": "completed"
    },
    "tags": []
   },
   "source": [
    "- Create an array with data type string:"
   ]
  },
  {
   "cell_type": "code",
   "execution_count": 10,
   "id": "8c241d76",
   "metadata": {
    "execution": {
     "iopub.execute_input": "2022-09-19T12:50:00.902427Z",
     "iopub.status.busy": "2022-09-19T12:50:00.902011Z",
     "iopub.status.idle": "2022-09-19T12:50:00.907750Z",
     "shell.execute_reply": "2022-09-19T12:50:00.906958Z"
    },
    "papermill": {
     "duration": 0.047217,
     "end_time": "2022-09-19T12:50:00.910452",
     "exception": false,
     "start_time": "2022-09-19T12:50:00.863235",
     "status": "completed"
    },
    "tags": []
   },
   "outputs": [
    {
     "name": "stdout",
     "output_type": "stream",
     "text": [
      "Here is array: [b'1' b'2' b'3' b'4']\n",
      "Data type of array arr: |S1\n"
     ]
    }
   ],
   "source": [
    "arr = np.array([1, 2, 3, 4], dtype='S')\n",
    "\n",
    "print(\"Here is array:\",arr)\n",
    "print(\"Data type of array arr:\", arr.dtype)\n"
   ]
  },
  {
   "cell_type": "markdown",
   "id": "c598c555",
   "metadata": {
    "papermill": {
     "duration": 0.038359,
     "end_time": "2022-09-19T12:50:00.987069",
     "exception": false,
     "start_time": "2022-09-19T12:50:00.948710",
     "status": "completed"
    },
    "tags": []
   },
   "source": [
    " ## Note: For i, u, f, S and U we can define size as well."
   ]
  },
  {
   "cell_type": "markdown",
   "id": "53fcc480",
   "metadata": {
    "papermill": {
     "duration": 0.036564,
     "end_time": "2022-09-19T12:50:01.062201",
     "exception": false,
     "start_time": "2022-09-19T12:50:01.025637",
     "status": "completed"
    },
    "tags": []
   },
   "source": [
    "- Create an array with data type 4 bytes integer:"
   ]
  },
  {
   "cell_type": "code",
   "execution_count": 11,
   "id": "04bd99af",
   "metadata": {
    "execution": {
     "iopub.execute_input": "2022-09-19T12:50:01.138536Z",
     "iopub.status.busy": "2022-09-19T12:50:01.138081Z",
     "iopub.status.idle": "2022-09-19T12:50:01.146606Z",
     "shell.execute_reply": "2022-09-19T12:50:01.145132Z"
    },
    "papermill": {
     "duration": 0.049757,
     "end_time": "2022-09-19T12:50:01.149071",
     "exception": false,
     "start_time": "2022-09-19T12:50:01.099314",
     "status": "completed"
    },
    "tags": []
   },
   "outputs": [
    {
     "name": "stdout",
     "output_type": "stream",
     "text": [
      "[1 2 3 4]\n",
      "int32\n"
     ]
    }
   ],
   "source": [
    "arr = np.array([1, 2, 3, 4], dtype='i4')\n",
    "print(arr)\n",
    "print(arr.dtype)"
   ]
  },
  {
   "cell_type": "markdown",
   "id": "5c2e6249",
   "metadata": {
    "papermill": {
     "duration": 0.042692,
     "end_time": "2022-09-19T12:50:01.228293",
     "exception": false,
     "start_time": "2022-09-19T12:50:01.185601",
     "status": "completed"
    },
    "tags": []
   },
   "source": [
    "- There is diffrence between type of value and given type.\n",
    "- that's why error.\n",
    "\n",
    "``` python\n",
    "arr = np.array(['a', '2', '3'], dtype='i')\n",
    "\n",
    "---------------------------------------------------------------------------\n",
    "ValueError                                Traceback (most recent call last)\n",
    "Input In [35], in <cell line: 1>()\n",
    "----> 1 arr = np.array(['a', '2', '3'], dtype='i')\n",
    "\n",
    "ValueError: invalid literal for int() with base 10: 'a'\n",
    "        \n",
    "```"
   ]
  },
  {
   "cell_type": "markdown",
   "id": "ea1a19c1",
   "metadata": {
    "papermill": {
     "duration": 0.039791,
     "end_time": "2022-09-19T12:50:01.313800",
     "exception": false,
     "start_time": "2022-09-19T12:50:01.274009",
     "status": "completed"
    },
    "tags": []
   },
   "source": [
    "***\n",
    "#### Converting Data Type on Existing Arrays\n",
    "- The astype() function creates a copy of the array, and allows you to specify the data type as a parameter.\n",
    "\n",
    "- The data type can be specified using a string, like 'f' for float, 'i' for integer etc. or you can use the data type directly like float for float and int for integer.\n",
    "<li>\n",
    "    The argument dtype=int doesn’t refer to Python int. It translates to NumPy int64 or simply np.int.\n",
    "\n",
    "    - NumPy offers you several integer fixed-sized dtypes that differ in memory and limits:\n",
    "\n",
    "    1. np.int8: 8-bit signed integer (from -128 to 127)\n",
    "    2. np.uint8: 8-bit unsigned integer (from 0 to 255)\n",
    "    3. np.int16: 16-bit signed integer (from -32768 to 32767)\n",
    "    4. np.uint16: 16-bit unsigned integer (from 0 to 65535)\n",
    "    5. np.int32: 32-bit signed integer (from -2<sup>31</sup> to 2<sup>31</sup>-1)\n",
    "    6. np.uint32: 32-bit unsigned integer (from 0 to 2<sup>31</sup>-1)\n",
    "    7. np.int64: 64-bit signed integer (from -2<sup>63</sup> to 2<sup>63</sup>-1)\n",
    "    8. np.uint64: 64-bit unsigned integer (from 0 to 2<sup>64</sup>-1)\n",
    "</li>\n",
    "***"
   ]
  },
  {
   "cell_type": "code",
   "execution_count": 12,
   "id": "fdabfa6e",
   "metadata": {
    "execution": {
     "iopub.execute_input": "2022-09-19T12:50:01.396180Z",
     "iopub.status.busy": "2022-09-19T12:50:01.395678Z",
     "iopub.status.idle": "2022-09-19T12:50:01.406385Z",
     "shell.execute_reply": "2022-09-19T12:50:01.405289Z"
    },
    "papermill": {
     "duration": 0.0528,
     "end_time": "2022-09-19T12:50:01.409247",
     "exception": false,
     "start_time": "2022-09-19T12:50:01.356447",
     "status": "completed"
    },
    "tags": []
   },
   "outputs": [
    {
     "name": "stdout",
     "output_type": "stream",
     "text": [
      "\n",
      "'i' as parameter\n",
      "This is array with float as Data type: [1.1 2.1 3.1] float64\n",
      "\n",
      "This is new array with Data type int: [1 2 3] int32\n",
      "\n",
      "###################################################################\n",
      "\n",
      "'int' as parameter\n",
      "\n",
      "This is array with float as Data type: [1.1 2.1 3.1] float64\n",
      "\n",
      "This is new array with Data type int: [1 2 3] int64\n"
     ]
    }
   ],
   "source": [
    "print(\"\\n'i' as parameter\")\n",
    "\n",
    "arr = np.array([1.1, 2.1, 3.1])\n",
    "print(\"This is array with float as Data type:\",arr,arr.dtype)\n",
    "\n",
    "newarr = arr.astype('i')\n",
    "\n",
    "print(\"\\nThis is new array with Data type int:\",newarr,newarr.dtype)\n",
    "\n",
    "print('\\n###################################################################')\n",
    "\n",
    "print(\"\\n'int' as parameter\")\n",
    "arr = np.array([1.1, 2.1, 3.1])\n",
    "print(\"\\nThis is array with float as Data type:\",arr,arr.dtype)\n",
    "\n",
    "newarr = arr.astype(int)\n",
    "\n",
    "print(\"\\nThis is new array with Data type int:\",newarr,newarr.dtype)"
   ]
  },
  {
   "cell_type": "markdown",
   "id": "26f8e3a8",
   "metadata": {
    "papermill": {
     "duration": 0.047654,
     "end_time": "2022-09-19T12:50:01.495865",
     "exception": false,
     "start_time": "2022-09-19T12:50:01.448211",
     "status": "completed"
    },
    "tags": []
   },
   "source": [
    "- Change data type from float to integer by using **\"i\" as parameter value:**"
   ]
  },
  {
   "cell_type": "code",
   "execution_count": 13,
   "id": "b4f0b62a",
   "metadata": {
    "execution": {
     "iopub.execute_input": "2022-09-19T12:50:01.582912Z",
     "iopub.status.busy": "2022-09-19T12:50:01.582516Z",
     "iopub.status.idle": "2022-09-19T12:50:01.591754Z",
     "shell.execute_reply": "2022-09-19T12:50:01.589723Z"
    },
    "papermill": {
     "duration": 0.060531,
     "end_time": "2022-09-19T12:50:01.594719",
     "exception": false,
     "start_time": "2022-09-19T12:50:01.534188",
     "status": "completed"
    },
    "tags": []
   },
   "outputs": [
    {
     "name": "stdout",
     "output_type": "stream",
     "text": [
      "New array with int value [1 2 3]\n",
      "Old Data type: float64\n",
      "New data type: int32\n"
     ]
    }
   ],
   "source": [
    "arr = np.array([1.1, 2.1, 3.1])\n",
    "\n",
    "newarr = arr.astype('i')\n",
    "\n",
    "print(\"New array with int value\",newarr)\n",
    "print(\"Old Data type:\",arr.dtype)\n",
    "print(\"New data type:\",newarr.dtype)"
   ]
  },
  {
   "cell_type": "markdown",
   "id": "165407ac",
   "metadata": {
    "papermill": {
     "duration": 0.037253,
     "end_time": "2022-09-19T12:50:01.669881",
     "exception": false,
     "start_time": "2022-09-19T12:50:01.632628",
     "status": "completed"
    },
    "tags": []
   },
   "source": [
    "- Change data type from float to integer by using **int as parameter value:**"
   ]
  },
  {
   "cell_type": "code",
   "execution_count": 14,
   "id": "d0f33620",
   "metadata": {
    "execution": {
     "iopub.execute_input": "2022-09-19T12:50:01.746872Z",
     "iopub.status.busy": "2022-09-19T12:50:01.746403Z",
     "iopub.status.idle": "2022-09-19T12:50:01.753677Z",
     "shell.execute_reply": "2022-09-19T12:50:01.752441Z"
    },
    "papermill": {
     "duration": 0.048429,
     "end_time": "2022-09-19T12:50:01.756533",
     "exception": false,
     "start_time": "2022-09-19T12:50:01.708104",
     "status": "completed"
    },
    "tags": []
   },
   "outputs": [
    {
     "name": "stdout",
     "output_type": "stream",
     "text": [
      "New array with int value [1 2 3]\n",
      "Old Data type: float64\n",
      "New data type: int64\n"
     ]
    }
   ],
   "source": [
    "arr = np.array([1.1, 2.1, 3.1])\n",
    "\n",
    "newarr = arr.astype(int)\n",
    "\n",
    "print(\"New array with int value\",newarr)\n",
    "print(\"Old Data type:\",arr.dtype)\n",
    "print(\"New data type:\",newarr.dtype)"
   ]
  },
  {
   "cell_type": "code",
   "execution_count": 15,
   "id": "6cd08a73",
   "metadata": {
    "execution": {
     "iopub.execute_input": "2022-09-19T12:50:01.831890Z",
     "iopub.status.busy": "2022-09-19T12:50:01.831430Z",
     "iopub.status.idle": "2022-09-19T12:50:01.838646Z",
     "shell.execute_reply": "2022-09-19T12:50:01.837369Z"
    },
    "papermill": {
     "duration": 0.048491,
     "end_time": "2022-09-19T12:50:01.841506",
     "exception": false,
     "start_time": "2022-09-19T12:50:01.793015",
     "status": "completed"
    },
    "tags": []
   },
   "outputs": [
    {
     "name": "stdout",
     "output_type": "stream",
     "text": [
      "New array with int value [ True False  True]\n",
      "Old Data type: float64\n",
      "New data type: bool\n"
     ]
    }
   ],
   "source": [
    "arr = np.array([1, 0, 3.1])\n",
    "\n",
    "newarr = arr.astype(bool)\n",
    "\n",
    "print(\"New array with int value\",newarr)\n",
    "print(\"Old Data type:\",arr.dtype)\n",
    "print(\"New data type:\",newarr.dtype)"
   ]
  },
  {
   "cell_type": "code",
   "execution_count": 16,
   "id": "348405df",
   "metadata": {
    "execution": {
     "iopub.execute_input": "2022-09-19T12:50:01.918113Z",
     "iopub.status.busy": "2022-09-19T12:50:01.917682Z",
     "iopub.status.idle": "2022-09-19T12:50:01.933196Z",
     "shell.execute_reply": "2022-09-19T12:50:01.931788Z"
    },
    "papermill": {
     "duration": 0.057424,
     "end_time": "2022-09-19T12:50:01.936425",
     "exception": false,
     "start_time": "2022-09-19T12:50:01.879001",
     "status": "completed"
    },
    "tags": []
   },
   "outputs": [
    {
     "name": "stdout",
     "output_type": "stream",
     "text": [
      "Data type of float value array: float64\n",
      "Data type of str value array: <U6\n",
      "Data type of mix value array: <U32\n"
     ]
    }
   ],
   "source": [
    "flaotarr=np.array([1.0,2,3,4])\n",
    "strarr=np.array([\"this\",\"is\",\"bhawan\"])\n",
    "strflaotintarr=np.array([1,2,3.5,\"bhawan\"])\n",
    "\n",
    "print(\"Data type of float value array:\",flaotarr.dtype)\n",
    "print(\"Data type of str value array:\",strarr.dtype)\n",
    "print(\"Data type of mix value array:\",strflaotintarr.dtype)"
   ]
  },
  {
   "cell_type": "markdown",
   "id": "5f3ab974",
   "metadata": {
    "papermill": {
     "duration": 0.039235,
     "end_time": "2022-09-19T12:50:02.026771",
     "exception": false,
     "start_time": "2022-09-19T12:50:01.987536",
     "status": "completed"
    },
    "tags": []
   },
   "source": [
    "### Use of Ones():\n",
    "- Python numpy.ones() function returns a new array of given shape and data type, where the element’s value is set to 1.\n",
    "\n",
    "- **Syntex:** <H3>ones(shape, dtype=None, order='C')</H3>"
   ]
  },
  {
   "cell_type": "code",
   "execution_count": 17,
   "id": "7b3f3be2",
   "metadata": {
    "execution": {
     "iopub.execute_input": "2022-09-19T12:50:02.102846Z",
     "iopub.status.busy": "2022-09-19T12:50:02.102349Z",
     "iopub.status.idle": "2022-09-19T12:50:02.115091Z",
     "shell.execute_reply": "2022-09-19T12:50:02.113521Z"
    },
    "papermill": {
     "duration": 0.053473,
     "end_time": "2022-09-19T12:50:02.117354",
     "exception": false,
     "start_time": "2022-09-19T12:50:02.063881",
     "status": "completed"
    },
    "tags": []
   },
   "outputs": [
    {
     "name": "stdout",
     "output_type": "stream",
     "text": [
      "Ones array:\n",
      " [[1. 1.]\n",
      " [1. 1.]]\n",
      "\n",
      "#### Change in type of array:\n",
      "\n",
      "Ones array:\n",
      " [[1 1 1 1]\n",
      " [1 1 1 1]\n",
      " [1 1 1 1]\n",
      " [1 1 1 1]]\n",
      "\n",
      "Ones array 3-D\n",
      " [[[1 1 1]\n",
      "  [1 1 1]\n",
      "  [1 1 1]\n",
      "  [1 1 1]]\n",
      "\n",
      " [[1 1 1]\n",
      "  [1 1 1]\n",
      "  [1 1 1]\n",
      "  [1 1 1]]\n",
      "\n",
      " [[1 1 1]\n",
      "  [1 1 1]\n",
      "  [1 1 1]\n",
      "  [1 1 1]]\n",
      "\n",
      " [[1 1 1]\n",
      "  [1 1 1]\n",
      "  [1 1 1]\n",
      "  [1 1 1]]]\n",
      "\n",
      "#### MIX value type of array:\n",
      "\n",
      "Ones array:\n",
      " [[(1, 1.) (1, 1.) (1, 1.)]\n",
      " [(1, 1.) (1, 1.) (1, 1.)]\n",
      " [(1, 1.) (1, 1.) (1, 1.)]]\n"
     ]
    }
   ],
   "source": [
    "onesarr=np.ones((2,2))\n",
    "print(\"Ones array:\\n\",onesarr)\n",
    "\n",
    "############################\n",
    "\n",
    "print(\"\\n#### Change in type of array:\")\n",
    "onesarr=np.ones((4,4),dtype=int)\n",
    "print(\"\\nOnes array:\\n\",onesarr)\n",
    "\n",
    "onesarr=np.ones((4,4,3),dtype=int)\n",
    "print(\"\\nOnes array 3-D\\n\",onesarr)\n",
    "\n",
    "###########################\n",
    "\n",
    "print(\"\\n#### MIX value type of array:\")\n",
    "onesarr=np.ones((3,3),dtype=[('x',int),('y',float)])\n",
    "print(\"\\nOnes array:\\n\",onesarr)\n"
   ]
  },
  {
   "cell_type": "markdown",
   "id": "5a3bc637",
   "metadata": {
    "papermill": {
     "duration": 0.036181,
     "end_time": "2022-09-19T12:50:02.193584",
     "exception": false,
     "start_time": "2022-09-19T12:50:02.157403",
     "status": "completed"
    },
    "tags": []
   },
   "source": [
    "### Use of Zeros():\n",
    "- Return a new array of given shape and type, filled with zeros.\n",
    "\n",
    "- **Syntex:** <H3>numpy.zeros(shape, dtype=float, order='C', *, like=None)\n",
    "</H3>"
   ]
  },
  {
   "cell_type": "code",
   "execution_count": 18,
   "id": "04b484ce",
   "metadata": {
    "execution": {
     "iopub.execute_input": "2022-09-19T12:50:02.269773Z",
     "iopub.status.busy": "2022-09-19T12:50:02.269285Z",
     "iopub.status.idle": "2022-09-19T12:50:02.279944Z",
     "shell.execute_reply": "2022-09-19T12:50:02.278406Z"
    },
    "papermill": {
     "duration": 0.053072,
     "end_time": "2022-09-19T12:50:02.283621",
     "exception": false,
     "start_time": "2022-09-19T12:50:02.230549",
     "status": "completed"
    },
    "tags": []
   },
   "outputs": [
    {
     "name": "stdout",
     "output_type": "stream",
     "text": [
      "Zeros array:\n",
      " [[0. 0. 0.]\n",
      " [0. 0. 0.]\n",
      " [0. 0. 0.]]\n",
      "\n",
      "#### Change in type of array:\n",
      "\n",
      "Zeros array:\n",
      " [[0 0 0 0]\n",
      " [0 0 0 0]\n",
      " [0 0 0 0]\n",
      " [0 0 0 0]]\n",
      "\n",
      "Zeros array 3-D\n",
      " [[[0 0 0]\n",
      "  [0 0 0]\n",
      "  [0 0 0]\n",
      "  [0 0 0]]\n",
      "\n",
      " [[0 0 0]\n",
      "  [0 0 0]\n",
      "  [0 0 0]\n",
      "  [0 0 0]]\n",
      "\n",
      " [[0 0 0]\n",
      "  [0 0 0]\n",
      "  [0 0 0]\n",
      "  [0 0 0]]\n",
      "\n",
      " [[0 0 0]\n",
      "  [0 0 0]\n",
      "  [0 0 0]\n",
      "  [0 0 0]]]\n",
      "\n",
      "#### MIX value type of array:\n",
      "\n",
      "O's array:\n",
      " [[(0, 0.) (0, 0.) (0, 0.)]\n",
      " [(0, 0.) (0, 0.) (0, 0.)]\n",
      " [(0, 0.) (0, 0.) (0, 0.)]]\n"
     ]
    }
   ],
   "source": [
    "zrerosarr=np.zeros((3,3))\n",
    "print(\"Zeros array:\\n\",zrerosarr)\n",
    "\n",
    "############################\n",
    "\n",
    "print(\"\\n#### Change in type of array:\")\n",
    "zrerosarr=np.zeros((4,4),dtype=int)\n",
    "print(\"\\nZeros array:\\n\",zrerosarr)\n",
    "\n",
    "zrerosarr=np.zeros((4,4,3),dtype=int)\n",
    "print(\"\\nZeros array 3-D\\n\",zrerosarr)\n",
    "\n",
    "###########################\n",
    "\n",
    "print(\"\\n#### MIX value type of array:\")\n",
    "zrerosarr=np.zeros((3,3),dtype=[('x',int),('y',float)])\n",
    "print(\"\\nO's array:\\n\",zrerosarr)\n"
   ]
  },
  {
   "cell_type": "markdown",
   "id": "6c4e7ab8",
   "metadata": {
    "papermill": {
     "duration": 0.037807,
     "end_time": "2022-09-19T12:50:02.359818",
     "exception": false,
     "start_time": "2022-09-19T12:50:02.322011",
     "status": "completed"
    },
    "tags": []
   },
   "source": [
    "### Use of empty():\n",
    "-Return a new array of given shape and type, without initializing entries.\n",
    "- **Syntex:** <H3>numpy.empty(shape, dtype=float, order='C', *, like=None)\n",
    "</H3>\n"
   ]
  },
  {
   "cell_type": "code",
   "execution_count": 19,
   "id": "220040b5",
   "metadata": {
    "execution": {
     "iopub.execute_input": "2022-09-19T12:50:02.438450Z",
     "iopub.status.busy": "2022-09-19T12:50:02.437625Z",
     "iopub.status.idle": "2022-09-19T12:50:02.448329Z",
     "shell.execute_reply": "2022-09-19T12:50:02.446563Z"
    },
    "papermill": {
     "duration": 0.052674,
     "end_time": "2022-09-19T12:50:02.450869",
     "exception": false,
     "start_time": "2022-09-19T12:50:02.398195",
     "status": "completed"
    },
    "tags": []
   },
   "outputs": [
    {
     "name": "stdout",
     "output_type": "stream",
     "text": [
      "Empty array:\n",
      " [[0. 0. 0.]\n",
      " [0. 0. 0.]\n",
      " [0. 0. 0.]]\n",
      "\n",
      "###################################################################################\n",
      "\n",
      "#### Change in type of array:\n",
      "\n",
      " Empty array:\n",
      " [[0 0 0]\n",
      " [0 0 0]\n",
      " [0 0 0]]\n",
      "\n",
      " Empty array 3-D\n",
      " [[[94544133580864              0 10020158701575]\n",
      "  [             0    17179869187              0]\n",
      "  [             0   137438953494              0]]\n",
      "\n",
      " [[             0              0              0]\n",
      "  [             0              0              0]\n",
      "  [             0              0              0]]\n",
      "\n",
      " [[             0              0              0]\n",
      "  [             0 94544139072304 94544139072720]\n",
      "  [94544139072976              0              0]]]\n",
      "\n",
      "###################################################################################\n",
      "\n",
      "#### MIX value type of array:\n",
      "\n",
      " Empty array:\n",
      " [[( 94544139543376, 0.00000000e+000) (140053282774448, 6.91960532e-310)\n",
      "  (140053282774000, 6.91960532e-310)]\n",
      " [(140053282774896, 6.91960532e-310) (140053282773808, 6.91960532e-310)\n",
      "  (140053282774640, 6.91960532e-310)]\n",
      " [(140053282773104, 6.91960532e-310) (140053282773168, 6.91960532e-310)\n",
      "  (140053282773040, 6.91960532e-310)]]\n"
     ]
    }
   ],
   "source": [
    "emptyarr=np.empty((3,3))\n",
    "print(\"Empty array:\\n\",emptyarr)\n",
    "\n",
    "print(\"\\n###################################################################################\")\n",
    "\n",
    "print(\"\\n#### Change in type of array:\")\n",
    "emptyarr=np.empty((3,3),dtype=int)\n",
    "print(\"\\n Empty array:\\n\", emptyarr)\n",
    "\n",
    "emptyarr=np.empty((3,3,3),dtype=int)\n",
    "print(\"\\n Empty array 3-D\\n\", emptyarr)\n",
    "\n",
    "print(\"\\n###################################################################################\")\n",
    "\n",
    "print(\"\\n#### MIX value type of array:\")\n",
    "emptyarr=np.empty((3,3),dtype=[('x',int),('y',float)])\n",
    "print(\"\\n Empty array:\\n\",emptyarr)\n"
   ]
  },
  {
   "cell_type": "markdown",
   "id": "9a1682dd",
   "metadata": {
    "papermill": {
     "duration": 0.037155,
     "end_time": "2022-09-19T12:50:02.525006",
     "exception": false,
     "start_time": "2022-09-19T12:50:02.487851",
     "status": "completed"
    },
    "tags": []
   },
   "source": [
    "### Use of empty_like():\n",
    "- Return a new array with the same shape and type as a given array.\n",
    "- **Syntex:** <H3>numpy.empty_like(prototype, dtype=None, order='K', subok=True, shape=None)\n",
    "</H3>\n"
   ]
  },
  {
   "cell_type": "code",
   "execution_count": 20,
   "id": "d6f87e47",
   "metadata": {
    "execution": {
     "iopub.execute_input": "2022-09-19T12:50:02.601508Z",
     "iopub.status.busy": "2022-09-19T12:50:02.600750Z",
     "iopub.status.idle": "2022-09-19T12:50:02.612269Z",
     "shell.execute_reply": "2022-09-19T12:50:02.610745Z"
    },
    "papermill": {
     "duration": 0.054198,
     "end_time": "2022-09-19T12:50:02.616181",
     "exception": false,
     "start_time": "2022-09-19T12:50:02.561983",
     "status": "completed"
    },
    "tags": []
   },
   "outputs": [
    {
     "name": "stdout",
     "output_type": "stream",
     "text": [
      "Empty array:\n",
      " [[1 2 3 4]\n",
      " [1 2 3 4]\n",
      " [1 2 3 4]]\n",
      "\n",
      " Type of empty_like: int64\n",
      "\n",
      "###################################################################################\n",
      "\n",
      "#### Change in type of array:\n",
      "\n",
      " Empty array:\n",
      " [[4.67110124e-310 0.00000000e+000 0.00000000e+000 0.00000000e+000]\n",
      " [6.91940388e-310 1.71570567e+185 9.73304303e-072 5.88668221e-062]\n",
      " [1.91622131e-076 1.88799638e+185 6.58025270e-038 8.38451455e+165]]\n",
      "\n",
      "###################################################################################\n",
      "\n",
      "#### MIX value type of array:\n",
      "\n",
      " Empty array:\n",
      " [[(4596373779694328218, 0.2 ) (4603579539098121011, 1.  )\n",
      "  (                  0, 0.6 ) (4607182418800017408, 1.  )]\n",
      " [(                  0, 0.8 ) (4600877379321698714, 1.  )\n",
      "  (4607182418800017408, 1.  ) (4603579539098121011, 1.  )]\n",
      " [(4602678819172646912, 0.36) (4599616371426034975, 1.  )\n",
      "  (4607182418800017408, 1.  ) (4607182418800017408, 1.  )]]\n",
      "\n",
      "###################################################################################\n",
      "\n",
      "#### Change in Subok and Shape:\n",
      "\n",
      " Empty array:\n",
      " [[0.2  1.   0.6 ]\n",
      " [1.   0.8  1.  ]\n",
      " [1.   1.   0.36]\n",
      " [1.   1.   1.  ]]\n"
     ]
    }
   ],
   "source": [
    "arr2d=np.array([[1,2,3,4],\n",
    "                [1,2,3,4],\n",
    "                [1,2,3,4],\n",
    "               ])\n",
    "\n",
    "emptyarr_like=np.empty_like(arr2d)\n",
    "print(\"Empty array:\\n\",emptyarr_like)\n",
    "\n",
    "print(\"\\n Type of empty_like:\",emptyarr_like.dtype)\n",
    "\n",
    "print(\"\\n###################################################################################\")\n",
    "\n",
    "print(\"\\n#### Change in type of array:\")\n",
    "emptyarr_like=np.empty_like(arr2d,dtype=float)\n",
    "print(\"\\n Empty array:\\n\", emptyarr_like)\n",
    "\n",
    "print(\"\\n###################################################################################\")\n",
    "\n",
    "print(\"\\n#### MIX value type of array:\")\n",
    "emptyarr_like=np.empty_like(arr2d,dtype=[(\"x\",int),(\"y\",float)])\n",
    "print(\"\\n Empty array:\\n\",emptyarr_like)\n",
    "\n",
    "print(\"\\n###################################################################################\")\n",
    "\n",
    "print(\"\\n#### Change in Subok and Shape:\")\n",
    "\n",
    "emptyarr_like=np.empty_like(arr2d,dtype=float,subok=False,shape=(4,3))\n",
    "print(\"\\n Empty array:\\n\", emptyarr_like)"
   ]
  },
  {
   "cell_type": "markdown",
   "id": "3d74483d",
   "metadata": {
    "papermill": {
     "duration": 0.037415,
     "end_time": "2022-09-19T12:50:02.693073",
     "exception": false,
     "start_time": "2022-09-19T12:50:02.655658",
     "status": "completed"
    },
    "tags": []
   },
   "source": [
    "### Use of full():\n",
    "- Return a new array of given shape and type, filled with fill_value.\n",
    "- **Syntex:** <H3>numpy.full(shape, fill_value, dtype=None, order='C', *, like=None)</H3>"
   ]
  },
  {
   "cell_type": "code",
   "execution_count": 21,
   "id": "ed56acbc",
   "metadata": {
    "execution": {
     "iopub.execute_input": "2022-09-19T12:50:02.772604Z",
     "iopub.status.busy": "2022-09-19T12:50:02.772107Z",
     "iopub.status.idle": "2022-09-19T12:50:02.782325Z",
     "shell.execute_reply": "2022-09-19T12:50:02.781070Z"
    },
    "papermill": {
     "duration": 0.053098,
     "end_time": "2022-09-19T12:50:02.785351",
     "exception": false,
     "start_time": "2022-09-19T12:50:02.732253",
     "status": "completed"
    },
    "tags": []
   },
   "outputs": [
    {
     "name": "stdout",
     "output_type": "stream",
     "text": [
      "Empty array:\n",
      " [[4 4 4]\n",
      " [4 4 4]\n",
      " [4 4 4]]\n",
      "\n",
      "###################################################################################\n",
      "\n",
      "#### Change in type of array:\n",
      "\n",
      " Empty array:\n",
      " [[4 4 4]\n",
      " [4 4 4]\n",
      " [4 4 4]]\n",
      "\n",
      " Empty array 3-D\n",
      " [[[4 4 4]\n",
      "  [4 4 4]\n",
      "  [4 4 4]]\n",
      "\n",
      " [[4 4 4]\n",
      "  [4 4 4]\n",
      "  [4 4 4]]\n",
      "\n",
      " [[4 4 4]\n",
      "  [4 4 4]\n",
      "  [4 4 4]]]\n",
      "\n",
      "###################################################################################\n",
      "\n",
      "#### MIX value type of array:\n",
      "\n",
      " Empty array:\n",
      " [[(4, 4.) (4, 4.) (4, 4.)]\n",
      " [(4, 4.) (4, 4.) (4, 4.)]\n",
      " [(4, 4.) (4, 4.) (4, 4.)]]\n"
     ]
    }
   ],
   "source": [
    "fullarr=np.full((3,3),4)\n",
    "print(\"Empty array:\\n\",fullarr)\n",
    "\n",
    "print(\"\\n###################################################################################\")\n",
    "\n",
    "print(\"\\n#### Change in type of array:\")\n",
    "fullarr=np.full((3,3),4,dtype=int)\n",
    "print(\"\\n Empty array:\\n\", fullarr)\n",
    "\n",
    "fullarr=np.full((3,3,3),4,dtype=int)\n",
    "print(\"\\n Empty array 3-D\\n\", fullarr)\n",
    "\n",
    "print(\"\\n###################################################################################\")\n",
    "\n",
    "print(\"\\n#### MIX value type of array:\")\n",
    "fullarr=np.full((3,3),4,dtype=[('x',int),('y',float)])\n",
    "print(\"\\n Empty array:\\n\",fullarr)\n"
   ]
  },
  {
   "cell_type": "markdown",
   "id": "cc2ffc51",
   "metadata": {
    "papermill": {
     "duration": 0.036947,
     "end_time": "2022-09-19T12:50:02.859986",
     "exception": false,
     "start_time": "2022-09-19T12:50:02.823039",
     "status": "completed"
    },
    "tags": []
   },
   "source": [
    "### Example of 'order' parameter in all of above practise:\n",
    "\n",
    "- Whether to store multi-dimensional data in row-major (C-style) or column-major (Fortran-style) order in memory."
   ]
  },
  {
   "cell_type": "code",
   "execution_count": 22,
   "id": "bace368b",
   "metadata": {
    "execution": {
     "iopub.execute_input": "2022-09-19T12:50:02.938816Z",
     "iopub.status.busy": "2022-09-19T12:50:02.937804Z",
     "iopub.status.idle": "2022-09-19T12:50:02.946620Z",
     "shell.execute_reply": "2022-09-19T12:50:02.944638Z"
    },
    "papermill": {
     "duration": 0.05211,
     "end_time": "2022-09-19T12:50:02.949327",
     "exception": false,
     "start_time": "2022-09-19T12:50:02.897217",
     "status": "completed"
    },
    "tags": []
   },
   "outputs": [
    {
     "name": "stdout",
     "output_type": "stream",
     "text": [
      "Example of order:\n",
      "[[0 1 2]\n",
      " [3 4 5]\n",
      " [6 7 8]] It give's 'True' if fortran:- False\n",
      "[[0 3 6]\n",
      " [1 4 7]\n",
      " [2 5 8]] It give's 'True' if fortran:- True\n"
     ]
    }
   ],
   "source": [
    "print(\"Example of order:\")\n",
    "x=np.reshape(np.arange(9),newshape=(3,3))\n",
    "print(x,\"It give's 'True' if fortran:-\",np.isfortran(x))\n",
    "y=np.reshape(np.arange(9),newshape=(3,3),order='F')\n",
    "print(y,\"It give's 'True' if fortran:-\",np.isfortran(y))"
   ]
  },
  {
   "cell_type": "code",
   "execution_count": 23,
   "id": "4237d6a8",
   "metadata": {
    "execution": {
     "iopub.execute_input": "2022-09-19T12:50:03.028628Z",
     "iopub.status.busy": "2022-09-19T12:50:03.028198Z",
     "iopub.status.idle": "2022-09-19T12:50:03.035096Z",
     "shell.execute_reply": "2022-09-19T12:50:03.033838Z"
    },
    "papermill": {
     "duration": 0.050432,
     "end_time": "2022-09-19T12:50:03.038216",
     "exception": false,
     "start_time": "2022-09-19T12:50:02.987784",
     "status": "completed"
    },
    "tags": []
   },
   "outputs": [
    {
     "name": "stdout",
     "output_type": "stream",
     "text": [
      "[[1 2 3]\n",
      " [4 5 6]] False\n",
      "\n",
      " [[1 4]\n",
      " [2 5]\n",
      " [3 6]] True\n"
     ]
    }
   ],
   "source": [
    "a = np.array([[1, 2, 3], [4, 5, 6]], order='C')\n",
    "print(a,np.isfortran(a))\n",
    "\n",
    "b = a.T\n",
    "print(\"\\n\",b,np.isfortran(b))"
   ]
  },
  {
   "cell_type": "markdown",
   "id": "4e12b2b1",
   "metadata": {
    "papermill": {
     "duration": 0.038301,
     "end_time": "2022-09-19T12:50:03.113943",
     "exception": false,
     "start_time": "2022-09-19T12:50:03.075642",
     "status": "completed"
    },
    "tags": []
   },
   "source": [
    "### Use of arrange():\n",
    "- Return evenly spaced values within a given interval.\n",
    "- **Syntex:** <H3>numpy.arange([start, ]stop, [step, ]dtype=None, *, like=None)</H3>\n",
    "\n",
    "arange can be called with a varying number of positional arguments:\n",
    "\n",
    "- **arange(stop):** Values are generated within the half-open interval **[0, stop)** (in other words, the interval including start but excluding stop).\n",
    "\n",
    "- **arange(start, stop):** Values are generated within the half-open interval .**[start, stop).**\n",
    "\n",
    "- **arange(start, stop, step)** Values are generated within the half-open interval **[start, stop)**, with spacing between values given by step.\n",
    "\n",
    "For integer arguments the function is roughly equivalent to the Python built-in range, but returns an ndarray rather than a range instance.\n",
    "\n",
    "- When using a non-integer step, such as 0.1, it is often better to use numpy.linspace."
   ]
  },
  {
   "cell_type": "code",
   "execution_count": 24,
   "id": "15822b3c",
   "metadata": {
    "execution": {
     "iopub.execute_input": "2022-09-19T12:50:03.191554Z",
     "iopub.status.busy": "2022-09-19T12:50:03.191118Z",
     "iopub.status.idle": "2022-09-19T12:50:03.198400Z",
     "shell.execute_reply": "2022-09-19T12:50:03.197032Z"
    },
    "papermill": {
     "duration": 0.049063,
     "end_time": "2022-09-19T12:50:03.201357",
     "exception": false,
     "start_time": "2022-09-19T12:50:03.152294",
     "status": "completed"
    },
    "tags": []
   },
   "outputs": [
    {
     "name": "stdout",
     "output_type": "stream",
     "text": [
      "Array with evenly speced no. [0 1 2 3 4 5 6 7 8]\n"
     ]
    }
   ],
   "source": [
    "Arange=np.arange(9)\n",
    "print(\"Array with evenly speced no.\",Arange)"
   ]
  },
  {
   "cell_type": "markdown",
   "id": "36ac5017",
   "metadata": {
    "papermill": {
     "duration": 0.037613,
     "end_time": "2022-09-19T12:50:03.275939",
     "exception": false,
     "start_time": "2022-09-19T12:50:03.238326",
     "status": "completed"
    },
    "tags": []
   },
   "source": [
    "- giving start,stop and step value\n",
    "![](https://files.realpython.com/media/fig-1.1d8bc9379e87.png)"
   ]
  },
  {
   "cell_type": "code",
   "execution_count": 25,
   "id": "d7d96b9d",
   "metadata": {
    "execution": {
     "iopub.execute_input": "2022-09-19T12:50:03.352014Z",
     "iopub.status.busy": "2022-09-19T12:50:03.351278Z",
     "iopub.status.idle": "2022-09-19T12:50:03.359885Z",
     "shell.execute_reply": "2022-09-19T12:50:03.359120Z"
    },
    "papermill": {
     "duration": 0.049755,
     "end_time": "2022-09-19T12:50:03.362726",
     "exception": false,
     "start_time": "2022-09-19T12:50:03.312971",
     "status": "completed"
    },
    "tags": []
   },
   "outputs": [
    {
     "name": "stdout",
     "output_type": "stream",
     "text": [
      "Array with step value 3(difference is 3): [1 4 7]\n",
      "[1 4 7]\n",
      "[-9 -8 -7 -6 -5 -4 -3 -2]\n",
      "[-9 -7 -5 -3 -1]\n",
      "[9 8 7 6 5 4 3 2]\n",
      "[] Length of array is: 0\n",
      "[]\n"
     ]
    }
   ],
   "source": [
    "Arrange=np.arange(start=1, stop=10, step=3)\n",
    "print(\"Array with step value 3(difference is 3):\",Arrange)\n",
    "\n",
    "Arrange=np.arange(1,10,3)\n",
    "print(Arrange)\n",
    "\n",
    "Arrange=np.arange(-9,-1,1)\n",
    "print(Arrange)\n",
    "\n",
    "Arrange=np.arange(-9,1,2)\n",
    "print(Arrange)\n",
    "\n",
    "Arrange=np.arange(9,1,-1)\n",
    "print(Arrange)\n",
    "\n",
    "##### IT WONT WORK WHEN WE USE DIFFRENT WAY LIKE (Give Empty array)\n",
    "Arrange=np.arange(19,1)\n",
    "print(Arrange,\"Length of array is:\",len(Arrange))\n",
    "\n",
    "Arrange=np.arange(1,9,-2)\n",
    "print(Arrange)\n"
   ]
  },
  {
   "cell_type": "code",
   "execution_count": 26,
   "id": "acfb626d",
   "metadata": {
    "execution": {
     "iopub.execute_input": "2022-09-19T12:50:03.439189Z",
     "iopub.status.busy": "2022-09-19T12:50:03.438786Z",
     "iopub.status.idle": "2022-09-19T12:50:03.446108Z",
     "shell.execute_reply": "2022-09-19T12:50:03.444731Z"
    },
    "papermill": {
     "duration": 0.048739,
     "end_time": "2022-09-19T12:50:03.448750",
     "exception": false,
     "start_time": "2022-09-19T12:50:03.400011",
     "status": "completed"
    },
    "tags": []
   },
   "outputs": [
    {
     "name": "stdout",
     "output_type": "stream",
     "text": [
      "Array with step value 3(difference is 3) & data type as float: [1. 4. 7.]\n"
     ]
    }
   ],
   "source": [
    "Arrange=np.arange(start=1, stop=10, step=3,dtype=float)\n",
    "print(\"Array with step value 3(difference is 3) & data type as float:\",Arrange)"
   ]
  },
  {
   "cell_type": "code",
   "execution_count": 27,
   "id": "47aeeba3",
   "metadata": {
    "execution": {
     "iopub.execute_input": "2022-09-19T12:50:03.527168Z",
     "iopub.status.busy": "2022-09-19T12:50:03.526788Z",
     "iopub.status.idle": "2022-09-19T12:50:03.533232Z",
     "shell.execute_reply": "2022-09-19T12:50:03.531763Z"
    },
    "papermill": {
     "duration": 0.05018,
     "end_time": "2022-09-19T12:50:03.536430",
     "exception": false,
     "start_time": "2022-09-19T12:50:03.486250",
     "status": "completed"
    },
    "tags": []
   },
   "outputs": [
    {
     "name": "stdout",
     "output_type": "stream",
     "text": [
      "[ 0  1  2  3  4  5  6  7  8  9 10 11 12 13 14 15 16 17 18 19 20 21 22 23]\n"
     ]
    }
   ],
   "source": [
    "Arrange=np.arange(stop=24)\n",
    "print(Arrange)"
   ]
  },
  {
   "cell_type": "markdown",
   "id": "4d195ed1",
   "metadata": {
    "papermill": {
     "duration": 0.037457,
     "end_time": "2022-09-19T12:50:03.612884",
     "exception": false,
     "start_time": "2022-09-19T12:50:03.575427",
     "status": "completed"
    },
    "tags": []
   },
   "source": [
    "***\n",
    "### Use of numpy.ndarray.itemsize\n",
    "- Length of one array element in bytes.\n",
    "- **Syntex:** <H4>ndarray.itemsize</H4>\n",
    "\n",
    "***"
   ]
  },
  {
   "cell_type": "code",
   "execution_count": 28,
   "id": "e78adee4",
   "metadata": {
    "execution": {
     "iopub.execute_input": "2022-09-19T12:50:03.690483Z",
     "iopub.status.busy": "2022-09-19T12:50:03.690093Z",
     "iopub.status.idle": "2022-09-19T12:50:03.695461Z",
     "shell.execute_reply": "2022-09-19T12:50:03.694419Z"
    },
    "papermill": {
     "duration": 0.047491,
     "end_time": "2022-09-19T12:50:03.698309",
     "exception": false,
     "start_time": "2022-09-19T12:50:03.650818",
     "status": "completed"
    },
    "tags": []
   },
   "outputs": [
    {
     "name": "stdout",
     "output_type": "stream",
     "text": [
      "int64\n",
      "8\n"
     ]
    }
   ],
   "source": [
    "print(Arrange.dtype)\n",
    "print(Arrange.itemsize ) # In bytes"
   ]
  },
  {
   "cell_type": "markdown",
   "id": "d4958af6",
   "metadata": {
    "papermill": {
     "duration": 0.037093,
     "end_time": "2022-09-19T12:50:03.775357",
     "exception": false,
     "start_time": "2022-09-19T12:50:03.738264",
     "status": "completed"
    },
    "tags": []
   },
   "source": [
    "### Use of np.linspace():\n",
    "- Return evenly spaced numbers over a specified interval.\n",
    "\n",
    "- Returns num evenly spaced samples, calculated over the interval [start, stop].\n",
    "\n",
    "- The endpoint of the interval can optionally be excluded.\n",
    "- **Syntex:** <H4>numpy.linspace(start, stop, num=50, endpoint=True, retstep=False, dtype=None, axis=0)[source]</H4>"
   ]
  },
  {
   "cell_type": "code",
   "execution_count": 29,
   "id": "3e5bc7fc",
   "metadata": {
    "execution": {
     "iopub.execute_input": "2022-09-19T12:50:03.852655Z",
     "iopub.status.busy": "2022-09-19T12:50:03.852229Z",
     "iopub.status.idle": "2022-09-19T12:50:03.859192Z",
     "shell.execute_reply": "2022-09-19T12:50:03.857791Z"
    },
    "papermill": {
     "duration": 0.048999,
     "end_time": "2022-09-19T12:50:03.861709",
     "exception": false,
     "start_time": "2022-09-19T12:50:03.812710",
     "status": "completed"
    },
    "tags": []
   },
   "outputs": [
    {
     "name": "stdout",
     "output_type": "stream",
     "text": [
      "[ 1.          1.18367347  1.36734694  1.55102041  1.73469388  1.91836735\n",
      "  2.10204082  2.28571429  2.46938776  2.65306122  2.83673469  3.02040816\n",
      "  3.20408163  3.3877551   3.57142857  3.75510204  3.93877551  4.12244898\n",
      "  4.30612245  4.48979592  4.67346939  4.85714286  5.04081633  5.2244898\n",
      "  5.40816327  5.59183673  5.7755102   5.95918367  6.14285714  6.32653061\n",
      "  6.51020408  6.69387755  6.87755102  7.06122449  7.24489796  7.42857143\n",
      "  7.6122449   7.79591837  7.97959184  8.16326531  8.34693878  8.53061224\n",
      "  8.71428571  8.89795918  9.08163265  9.26530612  9.44897959  9.63265306\n",
      "  9.81632653 10.        ]\n"
     ]
    }
   ],
   "source": [
    "linspace=np.linspace(1,10) #default is 50 that's why 50 no.\n",
    "print(linspace)"
   ]
  },
  {
   "cell_type": "code",
   "execution_count": 30,
   "id": "8741796f",
   "metadata": {
    "execution": {
     "iopub.execute_input": "2022-09-19T12:50:03.940223Z",
     "iopub.status.busy": "2022-09-19T12:50:03.939836Z",
     "iopub.status.idle": "2022-09-19T12:50:03.946444Z",
     "shell.execute_reply": "2022-09-19T12:50:03.945066Z"
    },
    "papermill": {
     "duration": 0.049149,
     "end_time": "2022-09-19T12:50:03.948902",
     "exception": false,
     "start_time": "2022-09-19T12:50:03.899753",
     "status": "completed"
    },
    "tags": []
   },
   "outputs": [
    {
     "name": "stdout",
     "output_type": "stream",
     "text": [
      "[ 1.   1.9  2.8  3.7  4.6  5.5  6.4  7.3  8.2  9.1 10. ]\n"
     ]
    }
   ],
   "source": [
    "linspace=np.linspace(1,10,11) #evenly spaced no. total 11.\n",
    "print(linspace)"
   ]
  },
  {
   "cell_type": "code",
   "execution_count": 31,
   "id": "32171871",
   "metadata": {
    "execution": {
     "iopub.execute_input": "2022-09-19T12:50:04.029852Z",
     "iopub.status.busy": "2022-09-19T12:50:04.029429Z",
     "iopub.status.idle": "2022-09-19T12:50:04.035825Z",
     "shell.execute_reply": "2022-09-19T12:50:04.034715Z"
    },
    "papermill": {
     "duration": 0.051789,
     "end_time": "2022-09-19T12:50:04.038540",
     "exception": false,
     "start_time": "2022-09-19T12:50:03.986751",
     "status": "completed"
    },
    "tags": []
   },
   "outputs": [
    {
     "name": "stdout",
     "output_type": "stream",
     "text": [
      "[1.         1.81818182 2.63636364 3.45454545 4.27272727 5.09090909\n",
      " 5.90909091 6.72727273 7.54545455 8.36363636 9.18181818]\n"
     ]
    }
   ],
   "source": [
    "linspace=np.linspace(1,10,11,endpoint=False) #Did not include last 10 number.\n",
    "print(linspace)"
   ]
  },
  {
   "cell_type": "code",
   "execution_count": 32,
   "id": "9238a56c",
   "metadata": {
    "execution": {
     "iopub.execute_input": "2022-09-19T12:50:04.117202Z",
     "iopub.status.busy": "2022-09-19T12:50:04.116786Z",
     "iopub.status.idle": "2022-09-19T12:50:04.125840Z",
     "shell.execute_reply": "2022-09-19T12:50:04.125041Z"
    },
    "papermill": {
     "duration": 0.051579,
     "end_time": "2022-09-19T12:50:04.128448",
     "exception": false,
     "start_time": "2022-09-19T12:50:04.076869",
     "status": "completed"
    },
    "tags": []
   },
   "outputs": [
    {
     "name": "stdout",
     "output_type": "stream",
     "text": [
      "[ 1.   2.8  4.6  6.4  8.2 10. ]\n",
      "Give the step also:\n",
      "(array([ 1. ,  2.8,  4.6,  6.4,  8.2, 10. ]), 1.8)\n",
      "(array([1. , 2.5, 4. , 5.5, 7. , 8.5]), 1.5)\n",
      "(array([ 1,  2,  4,  6,  8, 10]), 1.8)\n",
      "(array([ 1,  2,  4,  6,  8, 10]), 1.8)\n"
     ]
    }
   ],
   "source": [
    "linspace=np.linspace(1,10,6) #evenly spaced no. total 11.\n",
    "print(linspace)\n",
    "\n",
    "print(\"Give the step also:\")\n",
    "linspace=np.linspace(1,10,6,retstep=True) #Default is False\n",
    "print(linspace)\n",
    "\n",
    "linspace=np.linspace(1,10,6,endpoint=False,retstep=True) #with endpoint\n",
    "print(linspace)\n",
    "\n",
    "linspace=np.linspace(1,10,6,retstep=True,dtype=int) #with data type\n",
    "print(linspace)\n",
    "\n",
    "linspace=np.linspace(1,10,6,retstep=True,dtype=int,axis=0) #with data type\n",
    "print(linspace)"
   ]
  },
  {
   "cell_type": "code",
   "execution_count": 33,
   "id": "96cec601",
   "metadata": {
    "execution": {
     "iopub.execute_input": "2022-09-19T12:50:04.206241Z",
     "iopub.status.busy": "2022-09-19T12:50:04.205881Z",
     "iopub.status.idle": "2022-09-19T12:50:04.212271Z",
     "shell.execute_reply": "2022-09-19T12:50:04.211096Z"
    },
    "papermill": {
     "duration": 0.048304,
     "end_time": "2022-09-19T12:50:04.214811",
     "exception": false,
     "start_time": "2022-09-19T12:50:04.166507",
     "status": "completed"
    },
    "tags": []
   },
   "outputs": [
    {
     "name": "stdout",
     "output_type": "stream",
     "text": [
      "[ 1  2  4  6  8 10]\n",
      "1.8\n"
     ]
    }
   ],
   "source": [
    "linspace,step=np.linspace(1,10,6,retstep=True,dtype=int) #we store step differently\n",
    "print(linspace)\n",
    "print(step)"
   ]
  },
  {
   "cell_type": "markdown",
   "id": "f2973f09",
   "metadata": {
    "papermill": {
     "duration": 0.037883,
     "end_time": "2022-09-19T12:50:04.290865",
     "exception": false,
     "start_time": "2022-09-19T12:50:04.252982",
     "status": "completed"
    },
    "tags": []
   },
   "source": [
    "### Nonscalar Values for Higher-Dimensional Arrays\n",
    "\n",
    "- Axis: This parameter is used only with nonscalar start and stop values. It determines the axis along which the results are stored."
   ]
  },
  {
   "cell_type": "code",
   "execution_count": 34,
   "id": "9ff5b24d",
   "metadata": {
    "execution": {
     "iopub.execute_input": "2022-09-19T12:50:04.368947Z",
     "iopub.status.busy": "2022-09-19T12:50:04.368536Z",
     "iopub.status.idle": "2022-09-19T12:50:04.377569Z",
     "shell.execute_reply": "2022-09-19T12:50:04.376402Z"
    },
    "papermill": {
     "duration": 0.051517,
     "end_time": "2022-09-19T12:50:04.380267",
     "exception": false,
     "start_time": "2022-09-19T12:50:04.328750",
     "status": "completed"
    },
    "tags": []
   },
   "outputs": [
    {
     "name": "stdout",
     "output_type": "stream",
     "text": [
      "[[  2.    5.    9. ]\n",
      " [ 21.6  30.   39.2]\n",
      " [ 41.2  55.   69.4]\n",
      " [ 60.8  80.   99.6]\n",
      " [ 80.4 105.  129.8]\n",
      " [100.  130.  160. ]]\n",
      "\n",
      "Shepe of this array: (6, 3)\n",
      "\n",
      " Element of array:(at postion:0) [2. 5. 9.]\n",
      "\n",
      " Element of array:(at postion:1) [21.6 30.  39.2]\n",
      "\n",
      " Element of array:(at postion:2) [41.2 55.  69.4]\n",
      "\n",
      " Element of array:(at postion:0,1) 5.0\n",
      "\n",
      " Element of array:(at postion:1,1) 30.0\n",
      "\n",
      " Element of array:(at postion:2,2) 69.4\n"
     ]
    }
   ],
   "source": [
    "output = np.linspace(start=[2, 5, 9], stop=[100, 130, 160], num=6)\n",
    "print(output)\n",
    "\n",
    "print(\"\\nShepe of this array:\",output.shape)\n",
    "\n",
    "print(\"\\n Element of array:(at postion:0)\",output[0])\n",
    "print(\"\\n Element of array:(at postion:1)\",output[1])\n",
    "print(\"\\n Element of array:(at postion:2)\",output[2])\n",
    "\n",
    "print(\"\\n Element of array:(at postion:0,1)\",output[0][1])\n",
    "print(\"\\n Element of array:(at postion:1,1)\",output[1][1])\n",
    "print(\"\\n Element of array:(at postion:2,2)\",output[2][2])"
   ]
  },
  {
   "cell_type": "code",
   "execution_count": 35,
   "id": "4b4733bd",
   "metadata": {
    "execution": {
     "iopub.execute_input": "2022-09-19T12:50:04.460069Z",
     "iopub.status.busy": "2022-09-19T12:50:04.459656Z",
     "iopub.status.idle": "2022-09-19T12:50:04.469585Z",
     "shell.execute_reply": "2022-09-19T12:50:04.468538Z"
    },
    "papermill": {
     "duration": 0.053124,
     "end_time": "2022-09-19T12:50:04.472195",
     "exception": false,
     "start_time": "2022-09-19T12:50:04.419071",
     "status": "completed"
    },
    "tags": []
   },
   "outputs": [
    {
     "name": "stdout",
     "output_type": "stream",
     "text": [
      "[[  2.   21.6  41.2  60.8  80.4 100. ]\n",
      " [  5.   30.   55.   80.  105.  130. ]\n",
      " [  9.   39.2  69.4  99.6 129.8 160. ]]\n",
      "\n",
      "Shepe of this array: (3, 6)\n",
      "\n",
      " Element of array:(at postion:0) [  2.   21.6  41.2  60.8  80.4 100. ]\n",
      "\n",
      " Element of array:(at postion:1) [  5.  30.  55.  80. 105. 130.]\n",
      "\n",
      " Element of array:(at postion:2) [  9.   39.2  69.4  99.6 129.8 160. ]\n",
      "\n",
      " Element of array:(at postion:0,1) 21.6\n",
      "\n",
      " Element of array:(at postion:1,1) 30.0\n",
      "\n",
      " Element of array:(at postion:2,2) 69.4\n"
     ]
    }
   ],
   "source": [
    "output = np.linspace(start=[2, 5, 9],stop=[100, 130, 160],num=6,axis=1) #default axis is 0\n",
    "print(output)\n",
    "\n",
    "print(\"\\nShepe of this array:\",output.shape)\n",
    "\n",
    "print(\"\\n Element of array:(at postion:0)\",output[0])\n",
    "print(\"\\n Element of array:(at postion:1)\",output[1])\n",
    "print(\"\\n Element of array:(at postion:2)\",output[2])\n",
    "\n",
    "print(\"\\n Element of array:(at postion:0,1)\",output[0][1])\n",
    "print(\"\\n Element of array:(at postion:1,1)\",output[1][1])\n",
    "print(\"\\n Element of array:(at postion:2,2)\",output[2][2])"
   ]
  },
  {
   "cell_type": "markdown",
   "id": "a856e729",
   "metadata": {
    "papermill": {
     "duration": 0.037564,
     "end_time": "2022-09-19T12:50:04.547880",
     "exception": false,
     "start_time": "2022-09-19T12:50:04.510316",
     "status": "completed"
    },
    "tags": []
   },
   "source": [
    "#### Mathematical Functions With np.linspace()"
   ]
  },
  {
   "cell_type": "code",
   "execution_count": 36,
   "id": "a4e2d341",
   "metadata": {
    "execution": {
     "iopub.execute_input": "2022-09-19T12:50:04.625429Z",
     "iopub.status.busy": "2022-09-19T12:50:04.625023Z",
     "iopub.status.idle": "2022-09-19T12:50:04.633945Z",
     "shell.execute_reply": "2022-09-19T12:50:04.632790Z"
    },
    "papermill": {
     "duration": 0.051805,
     "end_time": "2022-09-19T12:50:04.637385",
     "exception": false,
     "start_time": "2022-09-19T12:50:04.585580",
     "status": "completed"
    },
    "tags": []
   },
   "outputs": [
    {
     "name": "stdout",
     "output_type": "stream",
     "text": [
      "X-Value\n",
      "\n",
      " [-100.          -97.97979798  -95.95959596  -93.93939394  -91.91919192\n",
      "  -89.8989899   -87.87878788  -85.85858586  -83.83838384  -81.81818182\n",
      "  -79.7979798   -77.77777778  -75.75757576  -73.73737374  -71.71717172\n",
      "  -69.6969697   -67.67676768  -65.65656566  -63.63636364  -61.61616162\n",
      "  -59.5959596   -57.57575758  -55.55555556  -53.53535354  -51.51515152\n",
      "  -49.49494949  -47.47474747  -45.45454545  -43.43434343  -41.41414141\n",
      "  -39.39393939  -37.37373737  -35.35353535  -33.33333333  -31.31313131\n",
      "  -29.29292929  -27.27272727  -25.25252525  -23.23232323  -21.21212121\n",
      "  -19.19191919  -17.17171717  -15.15151515  -13.13131313  -11.11111111\n",
      "   -9.09090909   -7.07070707   -5.05050505   -3.03030303   -1.01010101\n",
      "    1.01010101    3.03030303    5.05050505    7.07070707    9.09090909\n",
      "   11.11111111   13.13131313   15.15151515   17.17171717   19.19191919\n",
      "   21.21212121   23.23232323   25.25252525   27.27272727   29.29292929\n",
      "   31.31313131   33.33333333   35.35353535   37.37373737   39.39393939\n",
      "   41.41414141   43.43434343   45.45454545   47.47474747   49.49494949\n",
      "   51.51515152   53.53535354   55.55555556   57.57575758   59.5959596\n",
      "   61.61616162   63.63636364   65.65656566   67.67676768   69.6969697\n",
      "   71.71717172   73.73737374   75.75757576   77.77777778   79.7979798\n",
      "   81.81818182   83.83838384   85.85858586   87.87878788   89.8989899\n",
      "   91.91919192   93.93939394   95.95959596   97.97979798  100.        ] \n",
      "\n",
      "\n",
      "Y-Value\n",
      "\n",
      " [-3.98050000e+06 -3.74373005e+06 -3.51654083e+06 -3.29873444e+06\n",
      " -3.09011301e+06 -2.89047867e+06 -2.69963354e+06 -2.51737974e+06\n",
      " -2.34351939e+06 -2.17785462e+06 -2.02018755e+06 -1.87032030e+06\n",
      " -1.72805500e+06 -1.59319376e+06 -1.46553872e+06 -1.34489199e+06\n",
      " -1.23105570e+06 -1.12383197e+06 -1.02302292e+06 -9.28430670e+05\n",
      " -8.39857353e+05 -7.57105087e+05 -6.79975995e+05 -6.08272199e+05\n",
      " -5.41795823e+05 -4.80348990e+05 -4.23733822e+05 -3.71752442e+05\n",
      " -3.24206973e+05 -2.80899538e+05 -2.41632259e+05 -2.06207260e+05\n",
      " -1.74426664e+05 -1.46092593e+05 -1.21007169e+05 -9.89725172e+04\n",
      " -7.97907588e+04 -6.32640171e+04 -4.91944148e+04 -3.73840749e+04\n",
      " -2.76351202e+04 -1.97496736e+04 -1.35298578e+04 -8.77779581e+03\n",
      " -5.29561043e+03 -2.88542449e+03 -1.34936087e+03 -4.89542399e+02\n",
      " -1.08091939e+02 -7.13233756e+00  1.12135538e+01  1.44822884e+02\n",
      "  5.91572804e+02  1.54934046e+03  3.21600301e+03  5.78943759e+03\n",
      "  9.46752135e+03  1.44481315e+04  2.09291450e+04  2.91084393e+04\n",
      "  3.91838913e+04  5.13533782e+04  6.58147772e+04  8.27659654e+04\n",
      "  1.02404820e+05  1.24929218e+05  1.50537037e+05  1.79426154e+05\n",
      "  2.11794445e+05  2.47839789e+05  2.87760062e+05  3.31753142e+05\n",
      "  3.80016905e+05  4.32749228e+05  4.90147990e+05  5.52411067e+05\n",
      "  6.19736335e+05  6.92321674e+05  7.70364958e+05  8.54064066e+05\n",
      "  9.43616875e+05  1.03922126e+06  1.14107510e+06  1.24937628e+06\n",
      "  1.36432266e+06  1.48611213e+06  1.61494257e+06  1.75101184e+06\n",
      "  1.89451783e+06  2.04565842e+06  2.20463148e+06  2.37163489e+06\n",
      "  2.54686653e+06  2.73052426e+06  2.92280599e+06  3.12390956e+06\n",
      "  3.33403288e+06  3.55337380e+06  3.78213022e+06  4.02050000e+06]\n"
     ]
    }
   ],
   "source": [
    "x_ = np.linspace(-100, 100, 100)\n",
    "y_ = 4 * (x_**3) + 2 * (x_**2) + 5 * x_\n",
    "print(\"X-Value\\n\\n\",x_,\"\\n\\n\\nY-Value\\n\\n\",y_)"
   ]
  },
  {
   "cell_type": "code",
   "execution_count": 37,
   "id": "21ddc2ec",
   "metadata": {
    "execution": {
     "iopub.execute_input": "2022-09-19T12:50:04.717026Z",
     "iopub.status.busy": "2022-09-19T12:50:04.716300Z",
     "iopub.status.idle": "2022-09-19T12:50:04.972189Z",
     "shell.execute_reply": "2022-09-19T12:50:04.970703Z"
    },
    "papermill": {
     "duration": 0.298094,
     "end_time": "2022-09-19T12:50:04.974830",
     "exception": false,
     "start_time": "2022-09-19T12:50:04.676736",
     "status": "completed"
    },
    "tags": []
   },
   "outputs": [
    {
     "data": {
      "image/png": "[encoded data removed]",
      "text/plain": [
       "<Figure size 432x288 with 1 Axes>"
      ]
     },
     "metadata": {
      "needs_background": "light"
     },
     "output_type": "display_data"
    }
   ],
   "source": [
    "import matplotlib.pyplot as plt\n",
    "\n",
    "plt.plot(x_, y_)\n",
    "plt.show()"
   ]
  },
  {
   "cell_type": "markdown",
   "id": "d11c3d36",
   "metadata": {
    "papermill": {
     "duration": 0.038467,
     "end_time": "2022-09-19T12:50:05.054251",
     "exception": false,
     "start_time": "2022-09-19T12:50:05.015784",
     "status": "completed"
    },
    "tags": []
   },
   "source": [
    "### Use of np.reshape():\n",
    "- Gives a new shape to an array without changing its data.\n",
    "- **Syntex:** <H3>numpy.reshape(a, newshape, order='C')</H3>\n"
   ]
  },
  {
   "cell_type": "code",
   "execution_count": 38,
   "id": "2e8fdcb9",
   "metadata": {
    "execution": {
     "iopub.execute_input": "2022-09-19T12:50:05.133887Z",
     "iopub.status.busy": "2022-09-19T12:50:05.133445Z",
     "iopub.status.idle": "2022-09-19T12:50:05.141581Z",
     "shell.execute_reply": "2022-09-19T12:50:05.140213Z"
    },
    "papermill": {
     "duration": 0.05087,
     "end_time": "2022-09-19T12:50:05.144058",
     "exception": false,
     "start_time": "2022-09-19T12:50:05.093188",
     "status": "completed"
    },
    "tags": []
   },
   "outputs": [
    {
     "name": "stdout",
     "output_type": "stream",
     "text": [
      "Sample array A:\n",
      " [[0 1]\n",
      " [2 3]\n",
      " [4 5]]\n",
      "Reshape Array A:\n",
      " [[0 1 2]\n",
      " [3 4 5]]\n"
     ]
    }
   ],
   "source": [
    "a = np.arange(6).reshape((3, 2))    #CREATING ARRAY OF SHAPE 3,2\n",
    "print(\"Sample array A:\\n\",a)\n",
    "\n",
    "b=np.reshape(a, (2, 3))          #CHANGING SHAPE OF ARRAY FROM 3,2 TO 2,3\n",
    "print(\"Reshape Array A:\\n\",b)"
   ]
  },
  {
   "cell_type": "code",
   "execution_count": 39,
   "id": "15bbbd8e",
   "metadata": {
    "execution": {
     "iopub.execute_input": "2022-09-19T12:50:05.223565Z",
     "iopub.status.busy": "2022-09-19T12:50:05.222819Z",
     "iopub.status.idle": "2022-09-19T12:50:05.229785Z",
     "shell.execute_reply": "2022-09-19T12:50:05.228528Z"
    },
    "papermill": {
     "duration": 0.049341,
     "end_time": "2022-09-19T12:50:05.232044",
     "exception": false,
     "start_time": "2022-09-19T12:50:05.182703",
     "status": "completed"
    },
    "tags": []
   },
   "outputs": [
    {
     "name": "stdout",
     "output_type": "stream",
     "text": [
      "with change in order:\n",
      " [[0 1]\n",
      " [2 3]\n",
      " [4 5]] False\n",
      "without change in order:\n",
      " [[0 4 3]\n",
      " [2 1 5]] True\n"
     ]
    }
   ],
   "source": [
    "#without changing shape and order np.isfortran is \"False\"\n",
    "b=np.reshape(a, (3,2),order=\"F\")\n",
    "print(\"with change in order:\\n\",b,np.isfortran(b))\n",
    "\n",
    "#with changing shape and order also np.isfortran is \"True\"\n",
    "b=np.reshape(a, (2,3),order=\"F\")\n",
    "print(\"without change in order:\\n\",b,np.isfortran(b))"
   ]
  },
  {
   "cell_type": "code",
   "execution_count": 40,
   "id": "169d287b",
   "metadata": {
    "execution": {
     "iopub.execute_input": "2022-09-19T12:50:05.311818Z",
     "iopub.status.busy": "2022-09-19T12:50:05.311385Z",
     "iopub.status.idle": "2022-09-19T12:50:05.319059Z",
     "shell.execute_reply": "2022-09-19T12:50:05.317445Z"
    },
    "papermill": {
     "duration": 0.051615,
     "end_time": "2022-09-19T12:50:05.322313",
     "exception": false,
     "start_time": "2022-09-19T12:50:05.270698",
     "status": "completed"
    },
    "tags": []
   },
   "outputs": [
    {
     "name": "stdout",
     "output_type": "stream",
     "text": [
      "Contineous Flatted array: [0 1 2 3 4 5]\n",
      "\n",
      "New shape array b:\n",
      " [[0 1 2]\n",
      " [3 4 5]]\n"
     ]
    }
   ],
   "source": [
    "b=np.ravel(a) #Contineous Flatted array:\n",
    "print(\"Contineous Flatted array:\",b)\n",
    "\n",
    "b=np.reshape(b, (2, 3))\n",
    "print(\"\\nNew shape array b:\\n\",b)"
   ]
  },
  {
   "cell_type": "code",
   "execution_count": 41,
   "id": "383c1c58",
   "metadata": {
    "execution": {
     "iopub.execute_input": "2022-09-19T12:50:05.404278Z",
     "iopub.status.busy": "2022-09-19T12:50:05.403355Z",
     "iopub.status.idle": "2022-09-19T12:50:05.411704Z",
     "shell.execute_reply": "2022-09-19T12:50:05.409566Z"
    },
    "papermill": {
     "duration": 0.053067,
     "end_time": "2022-09-19T12:50:05.415455",
     "exception": false,
     "start_time": "2022-09-19T12:50:05.362388",
     "status": "completed"
    },
    "tags": []
   },
   "outputs": [
    {
     "name": "stdout",
     "output_type": "stream",
     "text": [
      "flatten array with order 'F':\n",
      " [0 2 4 1 3 5]\n",
      "new array:\n",
      " [[0 4 3]\n",
      " [2 1 5]]\n"
     ]
    }
   ],
   "source": [
    "b=np.ravel(a, order='F')\n",
    "print(\"flatten array with order 'F':\\n\",b)\n",
    "b=np.reshape(b, (2, 3), order='F')\n",
    "print(\"new array:\\n\",b)"
   ]
  },
  {
   "cell_type": "code",
   "execution_count": 42,
   "id": "0049f690",
   "metadata": {
    "execution": {
     "iopub.execute_input": "2022-09-19T12:50:05.496735Z",
     "iopub.status.busy": "2022-09-19T12:50:05.495622Z",
     "iopub.status.idle": "2022-09-19T12:50:05.504983Z",
     "shell.execute_reply": "2022-09-19T12:50:05.503401Z"
    },
    "papermill": {
     "duration": 0.051889,
     "end_time": "2022-09-19T12:50:05.507577",
     "exception": false,
     "start_time": "2022-09-19T12:50:05.455688",
     "status": "completed"
    },
    "tags": []
   },
   "outputs": [
    {
     "name": "stdout",
     "output_type": "stream",
     "text": [
      "[[1 2 3]\n",
      " [4 5 6]]\n",
      "IN 1-D array :  [1 4 2 5 3 6]\n",
      "\n",
      "1-D array: [1 2 3 4 5 6]\n"
     ]
    }
   ],
   "source": [
    "a = np.array([[1,2,3], [4,5,6]])\n",
    "print(a)\n",
    "b=np.reshape(a, 6, order='F')\n",
    "print(\"IN 1-D array : \",b)\n",
    "\n",
    "\n",
    "#WE CAN CREATE FLATTEN LIKE THAT ALSO\n",
    "\n",
    "arr = np.array([[1, 2, 3], [4, 5, 6]])\n",
    "newarr = arr.reshape(-1)\n",
    "print(\"\\n1-D array:\",newarr)"
   ]
  },
  {
   "cell_type": "code",
   "execution_count": 43,
   "id": "00ac9168",
   "metadata": {
    "execution": {
     "iopub.execute_input": "2022-09-19T12:50:05.588481Z",
     "iopub.status.busy": "2022-09-19T12:50:05.587855Z",
     "iopub.status.idle": "2022-09-19T12:50:05.594431Z",
     "shell.execute_reply": "2022-09-19T12:50:05.592879Z"
    },
    "papermill": {
     "duration": 0.050158,
     "end_time": "2022-09-19T12:50:05.597007",
     "exception": false,
     "start_time": "2022-09-19T12:50:05.546849",
     "status": "completed"
    },
    "tags": []
   },
   "outputs": [
    {
     "name": "stdout",
     "output_type": "stream",
     "text": [
      "[1 2 3 4 5 6 7 8 9]\n"
     ]
    }
   ],
   "source": [
    "arr = np.array([1, 2, 3, 4, 5, 6, 7, 8,9])\n",
    "arr1=arr.reshape(3,3) ###WE CAN USE LIKE THAT ALSO\n",
    "print(arr)"
   ]
  },
  {
   "cell_type": "markdown",
   "id": "a34af730",
   "metadata": {
    "papermill": {
     "duration": 0.039248,
     "end_time": "2022-09-19T12:50:05.674942",
     "exception": false,
     "start_time": "2022-09-19T12:50:05.635694",
     "status": "completed"
    },
    "tags": []
   },
   "source": [
    "##### numpy.ndarray.base\n",
    "- Base object if memory is from some other object."
   ]
  },
  {
   "cell_type": "code",
   "execution_count": 44,
   "id": "46a561ba",
   "metadata": {
    "execution": {
     "iopub.execute_input": "2022-09-19T12:50:05.755459Z",
     "iopub.status.busy": "2022-09-19T12:50:05.754949Z",
     "iopub.status.idle": "2022-09-19T12:50:05.762406Z",
     "shell.execute_reply": "2022-09-19T12:50:05.760997Z"
    },
    "papermill": {
     "duration": 0.051185,
     "end_time": "2022-09-19T12:50:05.765121",
     "exception": false,
     "start_time": "2022-09-19T12:50:05.713936",
     "status": "completed"
    },
    "tags": []
   },
   "outputs": [
    {
     "name": "stdout",
     "output_type": "stream",
     "text": [
      "None True \n",
      " Give the base of array:base: [1 2 3 4 5 6 7 8 9] False\n"
     ]
    }
   ],
   "source": [
    "print(arr.base,arr.base is None,\"\\n Give the base of array:base:\",arr1.base,arr1.base is None)"
   ]
  },
  {
   "cell_type": "markdown",
   "id": "f50a25cb",
   "metadata": {
    "papermill": {
     "duration": 0.03834,
     "end_time": "2022-09-19T12:50:05.842140",
     "exception": false,
     "start_time": "2022-09-19T12:50:05.803800",
     "status": "completed"
    },
    "tags": []
   },
   "source": [
    "## Working with numpy.ravel\n",
    "- Return a contiguous flattened array.\n",
    "\n",
    "- A 1-D array, containing the elements of the input, is returned. A copy is made only if needed.\n",
    "\n",
    "- As of NumPy 1.10, the returned array will have the same type as the input array. (for example, a masked array will be returned for a masked array input)\n",
    "- **Syntex:** <H3>numpy.ravel(a, order='C')</H3>\n"
   ]
  },
  {
   "cell_type": "code",
   "execution_count": 45,
   "id": "556be8b2",
   "metadata": {
    "execution": {
     "iopub.execute_input": "2022-09-19T12:50:05.919585Z",
     "iopub.status.busy": "2022-09-19T12:50:05.919107Z",
     "iopub.status.idle": "2022-09-19T12:50:05.927868Z",
     "shell.execute_reply": "2022-09-19T12:50:05.926088Z"
    },
    "papermill": {
     "duration": 0.050867,
     "end_time": "2022-09-19T12:50:05.930673",
     "exception": false,
     "start_time": "2022-09-19T12:50:05.879806",
     "status": "completed"
    },
    "tags": []
   },
   "outputs": [
    {
     "name": "stdout",
     "output_type": "stream",
     "text": [
      "Sample 2-D array:\n",
      " [[1 2 3]\n",
      " [4 5 6]]\n",
      "New Flattened array(1-D) [1 2 3 4 5 6] \n",
      "Shape of New array (6,)\n"
     ]
    }
   ],
   "source": [
    "arr_revel= np.array([[1, 2, 3], [4, 5, 6]])\n",
    "print(\"Sample 2-D array:\\n\",arr_revel)\n",
    "newarr=np.ravel(arr_revel)\n",
    "print(\"New Flattened array(1-D)\",newarr,'\\nShape of New array',newarr.shape)\n"
   ]
  },
  {
   "cell_type": "code",
   "execution_count": 46,
   "id": "64805c85",
   "metadata": {
    "execution": {
     "iopub.execute_input": "2022-09-19T12:50:06.011200Z",
     "iopub.status.busy": "2022-09-19T12:50:06.010742Z",
     "iopub.status.idle": "2022-09-19T12:50:06.018122Z",
     "shell.execute_reply": "2022-09-19T12:50:06.016420Z"
    },
    "papermill": {
     "duration": 0.050978,
     "end_time": "2022-09-19T12:50:06.020601",
     "exception": false,
     "start_time": "2022-09-19T12:50:05.969623",
     "status": "completed"
    },
    "tags": []
   },
   "outputs": [
    {
     "name": "stdout",
     "output_type": "stream",
     "text": [
      "New flatten array with order: [1 4 2 5 3 6]\n"
     ]
    }
   ],
   "source": [
    "newarr=np.ravel(arr_revel, order='F')\n",
    "print(\"New flatten array with order:\",newarr)"
   ]
  },
  {
   "cell_type": "markdown",
   "id": "deb581db",
   "metadata": {
    "papermill": {
     "duration": 0.038171,
     "end_time": "2022-09-19T12:50:06.097115",
     "exception": false,
     "start_time": "2022-09-19T12:50:06.058944",
     "status": "completed"
    },
    "tags": []
   },
   "source": [
    "## Working with numpy.ndarray.flatten\n",
    "- Return a copy of the array collapsed into one dimension.\n",
    "- **Syntex:** <H3>ndarray.flatten(order='C')</H3>\n"
   ]
  },
  {
   "cell_type": "code",
   "execution_count": 47,
   "id": "9bf930f5",
   "metadata": {
    "execution": {
     "iopub.execute_input": "2022-09-19T12:50:06.176728Z",
     "iopub.status.busy": "2022-09-19T12:50:06.175266Z",
     "iopub.status.idle": "2022-09-19T12:50:06.183220Z",
     "shell.execute_reply": "2022-09-19T12:50:06.181526Z"
    },
    "papermill": {
     "duration": 0.049966,
     "end_time": "2022-09-19T12:50:06.185592",
     "exception": false,
     "start_time": "2022-09-19T12:50:06.135626",
     "status": "completed"
    },
    "tags": []
   },
   "outputs": [
    {
     "name": "stdout",
     "output_type": "stream",
     "text": [
      "Give a Copy of Array:\n",
      " [[1 2]\n",
      " [3 4]]\n"
     ]
    }
   ],
   "source": [
    "aflate = np.array([[1,2], [3,4]])\n",
    "print(\"Give a Copy of Array:\\n\",aflate)"
   ]
  },
  {
   "cell_type": "markdown",
   "id": "d074b523",
   "metadata": {
    "papermill": {
     "duration": 0.037763,
     "end_time": "2022-09-19T12:50:06.261880",
     "exception": false,
     "start_time": "2022-09-19T12:50:06.224117",
     "status": "completed"
    },
    "tags": []
   },
   "source": [
    "\n",
    "<html>\n",
    "    <h2 style=\"text-align:center\"><strong>Differences between Flatten() and Ravel()</strong></h2>\n",
    "<figure class=\"table\"><table><thead><tr><th><p style=\"text-align:center\"><strong>ravel()</strong></p></th><th><p style=\"text-align:center\"><strong>flatten()</strong></p></th></tr></thead><tbody><tr><td>Return only reference/view of the original array</td><td>Return copy of the original array</td></tr><tr><td>If you modify the array you would notice that the value of the original array also changes.</td><td>If you modify any value of this array value of the original array is not affected.</td></tr><tr><td>Ravel is faster than flatten() as it does not occupy any memory.</td><td>Flatten() is comparatively slower than ravel() as it occupies memory.</td></tr><tr><td>Ravel is a library-level function.&nbsp;</td><td>Flatten is a method of an ndarray object. Let us check out the difference in this code.</td></tr></tbody></table></figure>\n",
    "</html>"
   ]
  },
  {
   "cell_type": "markdown",
   "id": "b45400b6",
   "metadata": {
    "papermill": {
     "duration": 0.038327,
     "end_time": "2022-09-19T12:50:06.338176",
     "exception": false,
     "start_time": "2022-09-19T12:50:06.299849",
     "status": "completed"
    },
    "tags": []
   },
   "source": [
    "### Working with numpy.transpose\n",
    "- Reverse or permute the axes of an array; returns the modified array.(Returns a view of the array with axes transposed.)\n",
    "\n",
    "- For an array a with two axes, transpose(a) gives the matrix transpose.\n",
    "\n",
    "- **Syntex:** <H3>numpy.transpose(a, axes=None)</H3>\n"
   ]
  },
  {
   "cell_type": "code",
   "execution_count": 48,
   "id": "8b59d18f",
   "metadata": {
    "execution": {
     "iopub.execute_input": "2022-09-19T12:50:06.418298Z",
     "iopub.status.busy": "2022-09-19T12:50:06.416822Z",
     "iopub.status.idle": "2022-09-19T12:50:06.425438Z",
     "shell.execute_reply": "2022-09-19T12:50:06.424075Z"
    },
    "papermill": {
     "duration": 0.051157,
     "end_time": "2022-09-19T12:50:06.428010",
     "exception": false,
     "start_time": "2022-09-19T12:50:06.376853",
     "status": "completed"
    },
    "tags": []
   },
   "outputs": [
    {
     "name": "stdout",
     "output_type": "stream",
     "text": [
      "Sample array:\n",
      " [[1 2 3]\n",
      " [4 5 6]\n",
      " [7 8 9]]\n",
      "Transpose array:\n",
      " [[1 4 7]\n",
      " [2 5 8]\n",
      " [3 6 9]]\n"
     ]
    }
   ],
   "source": [
    "arr_trans=np.array([[1, 2, 3],\n",
    "                [4, 5, 6],\n",
    "                [7, 8, 9]])\n",
    "print(\"Sample array:\\n\",arr_trans)\n",
    "print(\"Transpose array:\\n\",arr_trans.transpose())\n",
    "                "
   ]
  },
  {
   "cell_type": "code",
   "execution_count": 49,
   "id": "ddcafefd",
   "metadata": {
    "execution": {
     "iopub.execute_input": "2022-09-19T12:50:06.509538Z",
     "iopub.status.busy": "2022-09-19T12:50:06.508550Z",
     "iopub.status.idle": "2022-09-19T12:50:06.515295Z",
     "shell.execute_reply": "2022-09-19T12:50:06.514065Z"
    },
    "papermill": {
     "duration": 0.050062,
     "end_time": "2022-09-19T12:50:06.517930",
     "exception": false,
     "start_time": "2022-09-19T12:50:06.467868",
     "status": "completed"
    },
    "tags": []
   },
   "outputs": [
    {
     "name": "stdout",
     "output_type": "stream",
     "text": [
      "Sample array:\n",
      " [[1 2 3]\n",
      " [4 5 6]\n",
      " [7 8 9]]\n",
      "Transpose array:\n",
      " [[1 4 7]\n",
      " [2 5 8]\n",
      " [3 6 9]]\n"
     ]
    }
   ],
   "source": [
    "arr_trans=np.array([[1, 2, 3],\n",
    "                [4, 5, 6],\n",
    "                [7, 8, 9]])\n",
    "print(\"Sample array:\\n\",arr_trans)\n",
    "print(\"Transpose array:\\n\",arr_trans.T)"
   ]
  },
  {
   "cell_type": "code",
   "execution_count": 50,
   "id": "9f0627f7",
   "metadata": {
    "execution": {
     "iopub.execute_input": "2022-09-19T12:50:06.600450Z",
     "iopub.status.busy": "2022-09-19T12:50:06.599740Z",
     "iopub.status.idle": "2022-09-19T12:50:06.606075Z",
     "shell.execute_reply": "2022-09-19T12:50:06.605147Z"
    },
    "papermill": {
     "duration": 0.050391,
     "end_time": "2022-09-19T12:50:06.608683",
     "exception": false,
     "start_time": "2022-09-19T12:50:06.558292",
     "status": "completed"
    },
    "tags": []
   },
   "outputs": [
    {
     "name": "stdout",
     "output_type": "stream",
     "text": [
      "Sample arrary\n",
      " [[1 2]\n",
      " [4 5]\n",
      " [7 8]]\n",
      "Transpose with axis:\n",
      " [[1 4 7]\n",
      " [2 5 8]]\n"
     ]
    }
   ],
   "source": [
    "a= np.array([[1, 2], [4, 5], [7, 8]])  \n",
    "print(\"Sample arrary\\n\",a)\n",
    "b=np.transpose(a, (1,0))  \n",
    "print(\"Transpose with axis:\\n\",b)\n"
   ]
  },
  {
   "cell_type": "code",
   "execution_count": 51,
   "id": "78368a7d",
   "metadata": {
    "execution": {
     "iopub.execute_input": "2022-09-19T12:50:06.690036Z",
     "iopub.status.busy": "2022-09-19T12:50:06.689623Z",
     "iopub.status.idle": "2022-09-19T12:50:06.698813Z",
     "shell.execute_reply": "2022-09-19T12:50:06.697690Z"
    },
    "papermill": {
     "duration": 0.052503,
     "end_time": "2022-09-19T12:50:06.701449",
     "exception": false,
     "start_time": "2022-09-19T12:50:06.648946",
     "status": "completed"
    },
    "tags": []
   },
   "outputs": [
    {
     "name": "stdout",
     "output_type": "stream",
     "text": [
      "Shape of sample array:\n",
      " [[[1. 1. 1. 1.]\n",
      "  [1. 1. 1. 1.]\n",
      "  [1. 1. 1. 1.]]\n",
      "\n",
      " [[1. 1. 1. 1.]\n",
      "  [1. 1. 1. 1.]\n",
      "  [1. 1. 1. 1.]]] \n",
      "Shape of Sample array (2, 3, 4) \n",
      "Dimention of Sample array: 3\n",
      "\n",
      "Transpose array b:\n",
      " [[[1. 1. 1. 1.]\n",
      "  [1. 1. 1. 1.]]\n",
      "\n",
      " [[1. 1. 1. 1.]\n",
      "  [1. 1. 1. 1.]]\n",
      "\n",
      " [[1. 1. 1. 1.]\n",
      "  [1. 1. 1. 1.]]] \n",
      "Shape of Transpose array (3, 2, 4) \n",
      "Dimention of Transpose array: 3\n",
      "\n",
      "Transpose array c:\n",
      " [[[1. 1.]\n",
      "  [1. 1.]\n",
      "  [1. 1.]]\n",
      "\n",
      " [[1. 1.]\n",
      "  [1. 1.]\n",
      "  [1. 1.]]\n",
      "\n",
      " [[1. 1.]\n",
      "  [1. 1.]\n",
      "  [1. 1.]]\n",
      "\n",
      " [[1. 1.]\n",
      "  [1. 1.]\n",
      "  [1. 1.]]] \n",
      "Shape of Transpose array (4, 3, 2) \n",
      "Dimention of Transpose array: 3\n"
     ]
    }
   ],
   "source": [
    "a = np.ones((2,3,4))\n",
    "print(\"Shape of sample array:\\n\",a,\"\\nShape of Sample array\",a.shape,\"\\nDimention of Sample array:\",a.ndim)\n",
    "\n",
    "\n",
    "b=np.transpose(a,(1,0,2))   #0, 1 ,2 the axis refer 2,3,4 in a\n",
    "print(\"\\nTranspose array b:\\n\",b,\"\\nShape of Transpose array\",b.shape,\"\\nDimention of Transpose array:\",b.ndim)\n",
    "\n",
    "\n",
    "c=np.transpose(a,(2,1,0))   #0, 1 ,2 the axis refer 2,3,4 in a\n",
    "print(\"\\nTranspose array c:\\n\",c,\"\\nShape of Transpose array\",c.shape,\"\\nDimention of Transpose array:\",c.ndim)\n"
   ]
  },
  {
   "cell_type": "markdown",
   "id": "35bcd7a7",
   "metadata": {
    "papermill": {
     "duration": 0.0408,
     "end_time": "2022-09-19T12:50:06.784647",
     "exception": false,
     "start_time": "2022-09-19T12:50:06.743847",
     "status": "completed"
    },
    "tags": []
   },
   "source": [
    "# Mathematical Operation Using NumPy:\n",
    "\n",
    "### Working with Addition:\n",
    "- We use add() to add.\n",
    "- Or we can use '+' operator.\n",
    "- **Syntex:** <H3>np.add()</H3>"
   ]
  },
  {
   "cell_type": "code",
   "execution_count": 52,
   "id": "3cbfcef7",
   "metadata": {
    "execution": {
     "iopub.execute_input": "2022-09-19T12:50:06.867292Z",
     "iopub.status.busy": "2022-09-19T12:50:06.866866Z",
     "iopub.status.idle": "2022-09-19T12:50:06.875784Z",
     "shell.execute_reply": "2022-09-19T12:50:06.873731Z"
    },
    "papermill": {
     "duration": 0.054765,
     "end_time": "2022-09-19T12:50:06.879407",
     "exception": false,
     "start_time": "2022-09-19T12:50:06.824642",
     "status": "completed"
    },
    "tags": []
   },
   "outputs": [
    {
     "name": "stdout",
     "output_type": "stream",
     "text": [
      "Sample Array1:\n",
      " [[0 1 2]\n",
      " [3 4 5]\n",
      " [6 7 8]]\n",
      "\n",
      "Sample Array2:\n",
      " [[9 8 7]\n",
      " [6 5 4]\n",
      " [3 2 1]]\n"
     ]
    }
   ],
   "source": [
    "array1=np.arange(0,9).reshape(3,3)\n",
    "array2=np.arange(9,0,-1).reshape(3,3)\n",
    "print(\"Sample Array1:\\n\",array1)\n",
    "print(\"\\nSample Array2:\\n\",array2)"
   ]
  },
  {
   "cell_type": "code",
   "execution_count": 53,
   "id": "52ec54af",
   "metadata": {
    "execution": {
     "iopub.execute_input": "2022-09-19T12:50:06.965013Z",
     "iopub.status.busy": "2022-09-19T12:50:06.964556Z",
     "iopub.status.idle": "2022-09-19T12:50:06.970955Z",
     "shell.execute_reply": "2022-09-19T12:50:06.970104Z"
    },
    "papermill": {
     "duration": 0.052572,
     "end_time": "2022-09-19T12:50:06.973416",
     "exception": false,
     "start_time": "2022-09-19T12:50:06.920844",
     "status": "completed"
    },
    "tags": []
   },
   "outputs": [
    {
     "name": "stdout",
     "output_type": "stream",
     "text": [
      "Addition of array is:\n",
      " [[9 9 9]\n",
      " [9 9 9]\n",
      " [9 9 9]]\n",
      "\n",
      "Addition of array is:\n",
      " [[9 9 9]\n",
      " [9 9 9]\n",
      " [9 9 9]]\n"
     ]
    }
   ],
   "source": [
    "#use of '+' Operator\n",
    "\n",
    "print(\"Addition of array is:\\n\",array1+array2) \n",
    "\n",
    "#use of add()\n",
    "\n",
    "print(\"\\nAddition of array is:\\n\",np.add(array1,array2)) "
   ]
  },
  {
   "cell_type": "markdown",
   "id": "d85aa031",
   "metadata": {
    "papermill": {
     "duration": 0.039516,
     "end_time": "2022-09-19T12:50:07.054592",
     "exception": false,
     "start_time": "2022-09-19T12:50:07.015076",
     "status": "completed"
    },
    "tags": []
   },
   "source": [
    "### Working with Subtraction:\n",
    "- We use subtract() to subtract.\n",
    "- Or we can use '-' operator.\n",
    "- **Syntex:** <H3>np.subtract()</H3>"
   ]
  },
  {
   "cell_type": "code",
   "execution_count": 54,
   "id": "d919effc",
   "metadata": {
    "execution": {
     "iopub.execute_input": "2022-09-19T12:50:07.137023Z",
     "iopub.status.busy": "2022-09-19T12:50:07.136614Z",
     "iopub.status.idle": "2022-09-19T12:50:07.143991Z",
     "shell.execute_reply": "2022-09-19T12:50:07.142568Z"
    },
    "papermill": {
     "duration": 0.052097,
     "end_time": "2022-09-19T12:50:07.147041",
     "exception": false,
     "start_time": "2022-09-19T12:50:07.094944",
     "status": "completed"
    },
    "tags": []
   },
   "outputs": [
    {
     "name": "stdout",
     "output_type": "stream",
     "text": [
      "Subtraction of array is:\n",
      " [[-9 -7 -5]\n",
      " [-3 -1  1]\n",
      " [ 3  5  7]] \n",
      "\n",
      "Type of +: <class 'numpy.ndarray'>\n",
      "\n",
      "Subtraction of array is:\n",
      " [[-9 -7 -5]\n",
      " [-3 -1  1]\n",
      " [ 3  5  7]]\n"
     ]
    }
   ],
   "source": [
    "#use of '-' Operator\n",
    "\n",
    "print(\"Subtraction of array is:\\n\",array1-array2,\"\\n\\nType of +:\",type(array1*array2) )\n",
    "\n",
    "#use of subtract()\n",
    "\n",
    "print(\"\\nSubtraction of array is:\\n\",np.subtract(array1,array2)) "
   ]
  },
  {
   "cell_type": "markdown",
   "id": "deac2a5b",
   "metadata": {
    "papermill": {
     "duration": 0.039774,
     "end_time": "2022-09-19T12:50:07.228140",
     "exception": false,
     "start_time": "2022-09-19T12:50:07.188366",
     "status": "completed"
    },
    "tags": []
   },
   "source": [
    "### Working with Divition:\n",
    "- We use divide() to divide.\n",
    "- Or we can use '/' operator.\n",
    "- **Syntex:** <H3>np.divide()</H3>"
   ]
  },
  {
   "cell_type": "code",
   "execution_count": 55,
   "id": "5dbd30e9",
   "metadata": {
    "execution": {
     "iopub.execute_input": "2022-09-19T12:50:07.310307Z",
     "iopub.status.busy": "2022-09-19T12:50:07.309907Z",
     "iopub.status.idle": "2022-09-19T12:50:07.317525Z",
     "shell.execute_reply": "2022-09-19T12:50:07.316138Z"
    },
    "papermill": {
     "duration": 0.053048,
     "end_time": "2022-09-19T12:50:07.321271",
     "exception": false,
     "start_time": "2022-09-19T12:50:07.268223",
     "status": "completed"
    },
    "tags": []
   },
   "outputs": [
    {
     "name": "stdout",
     "output_type": "stream",
     "text": [
      "Divition of array is:\n",
      " [[0.         0.125      0.28571429]\n",
      " [0.5        0.8        1.25      ]\n",
      " [2.         3.5        8.        ]]\n",
      "\n",
      "Divition of array is:\n",
      " [[0.         0.125      0.28571429]\n",
      " [0.5        0.8        1.25      ]\n",
      " [2.         3.5        8.        ]]\n"
     ]
    }
   ],
   "source": [
    "#use of '/' Operator\n",
    "\n",
    "print(\"Divition of array is:\\n\",array1/array2) \n",
    "\n",
    "#use of divide()\n",
    "\n",
    "print(\"\\nDivition of array is:\\n\",np.divide(array1,array2)) "
   ]
  },
  {
   "cell_type": "markdown",
   "id": "29848a4d",
   "metadata": {
    "papermill": {
     "duration": 0.040119,
     "end_time": "2022-09-19T12:50:07.404711",
     "exception": false,
     "start_time": "2022-09-19T12:50:07.364592",
     "status": "completed"
    },
    "tags": []
   },
   "source": [
    "### Working with Multiply:\n",
    "- We use multiply() to multiply.\n",
    "- Or we can use '*' operator.\n",
    "- **Syntex:** <H3>np.multiply()</H3>"
   ]
  },
  {
   "cell_type": "code",
   "execution_count": 56,
   "id": "86b64341",
   "metadata": {
    "execution": {
     "iopub.execute_input": "2022-09-19T12:50:07.486656Z",
     "iopub.status.busy": "2022-09-19T12:50:07.486224Z",
     "iopub.status.idle": "2022-09-19T12:50:07.493111Z",
     "shell.execute_reply": "2022-09-19T12:50:07.491686Z"
    },
    "papermill": {
     "duration": 0.051133,
     "end_time": "2022-09-19T12:50:07.495820",
     "exception": false,
     "start_time": "2022-09-19T12:50:07.444687",
     "status": "completed"
    },
    "tags": []
   },
   "outputs": [
    {
     "name": "stdout",
     "output_type": "stream",
     "text": [
      "Multiply of array is:\n",
      " [[ 0  8 14]\n",
      " [18 20 20]\n",
      " [18 14  8]]\n",
      "\n",
      "Multiply of array is:\n",
      " [[ 0  8 14]\n",
      " [18 20 20]\n",
      " [18 14  8]]\n"
     ]
    }
   ],
   "source": [
    "#use of '*' Operator\n",
    "print(\"Multiply of array is:\\n\",array1*array2) \n",
    "\n",
    "#use of multiply()\n",
    "\n",
    "print(\"\\nMultiply of array is:\\n\",np.multiply(array1,array2)) "
   ]
  },
  {
   "cell_type": "markdown",
   "id": "5d1568f0",
   "metadata": {
    "papermill": {
     "duration": 0.039823,
     "end_time": "2022-09-19T12:50:07.576759",
     "exception": false,
     "start_time": "2022-09-19T12:50:07.536936",
     "status": "completed"
    },
    "tags": []
   },
   "source": [
    "### <span style=\"color: red\"> Note: This is elementry multiply for matrix multiplication we use '@' or numpy.dot\n",
    " </span>"
   ]
  },
  {
   "cell_type": "code",
   "execution_count": 57,
   "id": "fa3af3ac",
   "metadata": {
    "execution": {
     "iopub.execute_input": "2022-09-19T12:50:07.660039Z",
     "iopub.status.busy": "2022-09-19T12:50:07.659599Z",
     "iopub.status.idle": "2022-09-19T12:50:07.666647Z",
     "shell.execute_reply": "2022-09-19T12:50:07.665325Z"
    },
    "papermill": {
     "duration": 0.052478,
     "end_time": "2022-09-19T12:50:07.670002",
     "exception": false,
     "start_time": "2022-09-19T12:50:07.617524",
     "status": "completed"
    },
    "tags": []
   },
   "outputs": [
    {
     "name": "stdout",
     "output_type": "stream",
     "text": [
      "Matrix Multiply of array is:\n",
      " [[ 12   9   6]\n",
      " [ 66  54  42]\n",
      " [120  99  78]]\n",
      "\n",
      "Matrix Multiply of array is:\n",
      " [[ 12   9   6]\n",
      " [ 66  54  42]\n",
      " [120  99  78]]\n"
     ]
    }
   ],
   "source": [
    "#use of '@' Operator\n",
    "\n",
    "print(\"Matrix Multiply of array is:\\n\",array1@array2) \n",
    "\n",
    "#use of .dot()\n",
    "\n",
    "print(\"\\nMatrix Multiply of array is:\\n\",array1.dot(array2)) "
   ]
  },
  {
   "cell_type": "markdown",
   "id": "6ddc74a3",
   "metadata": {
    "papermill": {
     "duration": 0.040295,
     "end_time": "2022-09-19T12:50:07.753196",
     "exception": false,
     "start_time": "2022-09-19T12:50:07.712901",
     "status": "completed"
    },
    "tags": []
   },
   "source": [
    "### Working with Power:\n",
    "- The **power()** function rises the values from the first array to the power of the values of the second array, and return the results in a new array."
   ]
  },
  {
   "cell_type": "code",
   "execution_count": 58,
   "id": "9ad3ffcd",
   "metadata": {
    "execution": {
     "iopub.execute_input": "2022-09-19T12:50:07.841921Z",
     "iopub.status.busy": "2022-09-19T12:50:07.840582Z",
     "iopub.status.idle": "2022-09-19T12:50:07.847665Z",
     "shell.execute_reply": "2022-09-19T12:50:07.846592Z"
    },
    "papermill": {
     "duration": 0.0555,
     "end_time": "2022-09-19T12:50:07.850171",
     "exception": false,
     "start_time": "2022-09-19T12:50:07.794671",
     "status": "completed"
    },
    "tags": []
   },
   "outputs": [
    {
     "name": "stdout",
     "output_type": "stream",
     "text": [
      "Power() use:\n",
      " [[   0    1  128]\n",
      " [ 729 1024  625]\n",
      " [ 216   49    8]]\n",
      "Power() use:\n",
      " [[   1    8   49]\n",
      " [ 216  625 1024]\n",
      " [ 729  128    1]]\n"
     ]
    }
   ],
   "source": [
    "print(\"Power() use:\\n\",np.power(array1,array2)) \n",
    "print(\"Power() use:\\n\",np.power(array2,array1)) "
   ]
  },
  {
   "cell_type": "code",
   "execution_count": 59,
   "id": "c1da850c",
   "metadata": {
    "execution": {
     "iopub.execute_input": "2022-09-19T12:50:08.030237Z",
     "iopub.status.busy": "2022-09-19T12:50:08.029813Z",
     "iopub.status.idle": "2022-09-19T12:50:08.037641Z",
     "shell.execute_reply": "2022-09-19T12:50:08.036216Z"
    },
    "papermill": {
     "duration": 0.054612,
     "end_time": "2022-09-19T12:50:08.040706",
     "exception": false,
     "start_time": "2022-09-19T12:50:07.986094",
     "status": "completed"
    },
    "tags": []
   },
   "outputs": [
    {
     "name": "stdout",
     "output_type": "stream",
     "text": [
      "[[112 102 113]\n",
      " [115 113  94]\n",
      " [ 97 105 111]\n",
      " [ 94  98 108]\n",
      " [113 107 118]\n",
      " [111 116 105]\n",
      " [103 100  98]\n",
      " [ 97 105 115]] \n",
      "\n",
      "Power of 2 on test array:\n",
      " [[12544 10404 12769]\n",
      " [13225 12769  8836]\n",
      " [ 9409 11025 12321]\n",
      " [ 8836  9604 11664]\n",
      " [12769 11449 13924]\n",
      " [12321 13456 11025]\n",
      " [10609 10000  9604]\n",
      " [ 9409 11025 13225]] <class 'numpy.ndarray'>\n"
     ]
    }
   ],
   "source": [
    "test = np.random.randint(90,120,(8,3))\n",
    "test1=test**2\n",
    "print(test,\"\\n\\nPower of 2 on test array:\\n\",test1,type(test1))"
   ]
  },
  {
   "cell_type": "markdown",
   "id": "55bf97b3",
   "metadata": {
    "papermill": {
     "duration": 0.040414,
     "end_time": "2022-09-19T12:50:08.122217",
     "exception": false,
     "start_time": "2022-09-19T12:50:08.081803",
     "status": "completed"
    },
    "tags": []
   },
   "source": [
    "### Working with Remainder:\n",
    "- Both the **mod()** and the **remainder()** functions return the remainder of the values in the first array corresponding to the values in the second array, and return the results in a new array."
   ]
  },
  {
   "cell_type": "code",
   "execution_count": 60,
   "id": "c033fc6e",
   "metadata": {
    "execution": {
     "iopub.execute_input": "2022-09-19T12:50:08.206396Z",
     "iopub.status.busy": "2022-09-19T12:50:08.205951Z",
     "iopub.status.idle": "2022-09-19T12:50:08.212860Z",
     "shell.execute_reply": "2022-09-19T12:50:08.211660Z"
    },
    "papermill": {
     "duration": 0.053041,
     "end_time": "2022-09-19T12:50:08.216239",
     "exception": false,
     "start_time": "2022-09-19T12:50:08.163198",
     "status": "completed"
    },
    "tags": []
   },
   "outputs": [
    {
     "name": "stdout",
     "output_type": "stream",
     "text": [
      "Working with mod():\n",
      " [[0 1 2]\n",
      " [3 4 1]\n",
      " [0 1 0]]\n",
      "Working with remainder():\n",
      " [[0 1 2]\n",
      " [3 4 1]\n",
      " [0 1 0]]\n"
     ]
    }
   ],
   "source": [
    "print(\"Working with mod():\\n\",np.mod(array1,array2))\n",
    "print(\"Working with remainder():\\n\",np.remainder(array1,array2))"
   ]
  },
  {
   "cell_type": "markdown",
   "id": "e52416d4",
   "metadata": {
    "papermill": {
     "duration": 0.040491,
     "end_time": "2022-09-19T12:50:08.298847",
     "exception": false,
     "start_time": "2022-09-19T12:50:08.258356",
     "status": "completed"
    },
    "tags": []
   },
   "source": [
    "### Working with Quotient and Mod:\n",
    "- The **divmod()** function return both the quotient and the the mod. The return value is two arrays, the first array contains the quotient and second array contains the mod."
   ]
  },
  {
   "cell_type": "code",
   "execution_count": 61,
   "id": "3ef8eeb3",
   "metadata": {
    "execution": {
     "iopub.execute_input": "2022-09-19T12:50:08.383156Z",
     "iopub.status.busy": "2022-09-19T12:50:08.382301Z",
     "iopub.status.idle": "2022-09-19T12:50:08.389377Z",
     "shell.execute_reply": "2022-09-19T12:50:08.388141Z"
    },
    "papermill": {
     "duration": 0.052238,
     "end_time": "2022-09-19T12:50:08.391989",
     "exception": false,
     "start_time": "2022-09-19T12:50:08.339751",
     "status": "completed"
    },
    "tags": []
   },
   "outputs": [
    {
     "name": "stdout",
     "output_type": "stream",
     "text": [
      "(array([[0, 0, 0],\n",
      "       [0, 0, 1],\n",
      "       [2, 3, 8]]), array([[0, 1, 2],\n",
      "       [3, 4, 1],\n",
      "       [0, 1, 0]]))\n"
     ]
    }
   ],
   "source": [
    "newarr=np.divmod(array1,array2)\n",
    "print(newarr)"
   ]
  },
  {
   "cell_type": "code",
   "execution_count": 62,
   "id": "0b6af96c",
   "metadata": {
    "execution": {
     "iopub.execute_input": "2022-09-19T12:50:08.477382Z",
     "iopub.status.busy": "2022-09-19T12:50:08.476987Z",
     "iopub.status.idle": "2022-09-19T12:50:08.482583Z",
     "shell.execute_reply": "2022-09-19T12:50:08.481805Z"
    },
    "papermill": {
     "duration": 0.050302,
     "end_time": "2022-09-19T12:50:08.485134",
     "exception": false,
     "start_time": "2022-09-19T12:50:08.434832",
     "status": "completed"
    },
    "tags": []
   },
   "outputs": [
    {
     "name": "stdout",
     "output_type": "stream",
     "text": [
      "[[0 0 0]\n",
      " [0 0 1]\n",
      " [2 3 8]] <class 'numpy.ndarray'>\n"
     ]
    }
   ],
   "source": [
    "newarr=array1//array2  #Quotient of both array\n",
    "print(newarr,type(newarr))"
   ]
  },
  {
   "cell_type": "markdown",
   "id": "2d7b1025",
   "metadata": {
    "papermill": {
     "duration": 0.040428,
     "end_time": "2022-09-19T12:50:08.566838",
     "exception": false,
     "start_time": "2022-09-19T12:50:08.526410",
     "status": "completed"
    },
    "tags": []
   },
   "source": [
    "### working with absolute():\n",
    "- Both the **absolute()** and the **abs()** functions do the same absolute operation element-wise but we should use **absolute()** to avoid confusion with python's inbuilt **math.abs()**\n",
    "\n"
   ]
  },
  {
   "cell_type": "code",
   "execution_count": 63,
   "id": "b0c020b2",
   "metadata": {
    "execution": {
     "iopub.execute_input": "2022-09-19T12:50:08.650760Z",
     "iopub.status.busy": "2022-09-19T12:50:08.650014Z",
     "iopub.status.idle": "2022-09-19T12:50:08.656729Z",
     "shell.execute_reply": "2022-09-19T12:50:08.655610Z"
    },
    "papermill": {
     "duration": 0.051609,
     "end_time": "2022-09-19T12:50:08.659569",
     "exception": false,
     "start_time": "2022-09-19T12:50:08.607960",
     "status": "completed"
    },
    "tags": []
   },
   "outputs": [
    {
     "name": "stdout",
     "output_type": "stream",
     "text": [
      "[1.  2.  1.5 2.  3.  4. ]\n"
     ]
    }
   ],
   "source": [
    "arr = np.array([-1, -2, 1.5, 2, 3, -4])\n",
    "newarr = np.absolute(arr)\n",
    "print(newarr)"
   ]
  },
  {
   "cell_type": "markdown",
   "id": "8b26ac19",
   "metadata": {
    "papermill": {
     "duration": 0.039403,
     "end_time": "2022-09-19T12:50:08.740497",
     "exception": false,
     "start_time": "2022-09-19T12:50:08.701094",
     "status": "completed"
    },
    "tags": []
   },
   "source": [
    "### Working with Reciprocal Fun<sup>n</sup>\n",
    "- This Function returns the reciprocal of all the array elements."
   ]
  },
  {
   "cell_type": "code",
   "execution_count": 64,
   "id": "2103a78f",
   "metadata": {
    "execution": {
     "iopub.execute_input": "2022-09-19T12:50:08.823850Z",
     "iopub.status.busy": "2022-09-19T12:50:08.823370Z",
     "iopub.status.idle": "2022-09-19T12:50:08.832550Z",
     "shell.execute_reply": "2022-09-19T12:50:08.831066Z"
    },
    "papermill": {
     "duration": 0.05478,
     "end_time": "2022-09-19T12:50:08.834868",
     "exception": false,
     "start_time": "2022-09-19T12:50:08.780088",
     "status": "completed"
    },
    "tags": []
   },
   "outputs": [
    {
     "data": {
      "text/plain": [
       "array([0, 0, 0, 0, 1])"
      ]
     },
     "execution_count": 64,
     "metadata": {},
     "output_type": "execute_result"
    }
   ],
   "source": [
    "a = np.array([7,3,4,5,1])\n",
    "np.reciprocal(a)"
   ]
  },
  {
   "cell_type": "markdown",
   "id": "35f3efa3",
   "metadata": {
    "papermill": {
     "duration": 0.039798,
     "end_time": "2022-09-19T12:50:08.915550",
     "exception": false,
     "start_time": "2022-09-19T12:50:08.875752",
     "status": "completed"
    },
    "tags": []
   },
   "source": [
    "#### Here dividation with '0' happen\n",
    "\n",
    "``` python\n",
    "np.reciprocal(array1)\n",
    "\n",
    "/opt/conda/lib/python3.7/site-packages/ipykernel_launcher.py:1: RuntimeWarning: divide by zero encountered in reciprocal\n",
    "  \"\"\"Entry point for launching an IPython kernel.\n",
    "/opt/conda/lib/python3.7/site-packages/ipykernel_launcher.py:1: RuntimeWarning: invalid value encountered in reciprocal\n",
    "  \"\"\"Entry point for launching an IPython kernel.\n",
    "\n",
    "Out[1]:\n",
    "array([[-9223372036854775808,                    1,                    0],\n",
    "       [                   0,                    0,                    0],\n",
    "       [                   0,                    0,                    0]])\n",
    "```"
   ]
  },
  {
   "cell_type": "code",
   "execution_count": 65,
   "id": "1a144221",
   "metadata": {
    "execution": {
     "iopub.execute_input": "2022-09-19T12:50:09.001843Z",
     "iopub.status.busy": "2022-09-19T12:50:09.001334Z",
     "iopub.status.idle": "2022-09-19T12:50:09.011408Z",
     "shell.execute_reply": "2022-09-19T12:50:09.009929Z"
    },
    "papermill": {
     "duration": 0.057861,
     "end_time": "2022-09-19T12:50:09.013802",
     "exception": false,
     "start_time": "2022-09-19T12:50:08.955941",
     "status": "completed"
    },
    "tags": []
   },
   "outputs": [
    {
     "data": {
      "text/plain": [
       "array([[0, 0, 0],\n",
       "       [0, 0, 0],\n",
       "       [0, 0, 1]])"
      ]
     },
     "execution_count": 65,
     "metadata": {},
     "output_type": "execute_result"
    }
   ],
   "source": [
    "np.reciprocal(array2)"
   ]
  },
  {
   "cell_type": "markdown",
   "id": "68c7b38c",
   "metadata": {
    "papermill": {
     "duration": 0.039834,
     "end_time": "2022-09-19T12:50:09.096085",
     "exception": false,
     "start_time": "2022-09-19T12:50:09.056251",
     "status": "completed"
    },
    "tags": []
   },
   "source": [
    "## Working with other function:"
   ]
  },
  {
   "cell_type": "code",
   "execution_count": 66,
   "id": "f3b53ae2",
   "metadata": {
    "execution": {
     "iopub.execute_input": "2022-09-19T12:50:09.179197Z",
     "iopub.status.busy": "2022-09-19T12:50:09.178740Z",
     "iopub.status.idle": "2022-09-19T12:50:09.188160Z",
     "shell.execute_reply": "2022-09-19T12:50:09.185991Z"
    },
    "papermill": {
     "duration": 0.054147,
     "end_time": "2022-09-19T12:50:09.190783",
     "exception": false,
     "start_time": "2022-09-19T12:50:09.136636",
     "status": "completed"
    },
    "tags": []
   },
   "outputs": [
    {
     "name": "stdout",
     "output_type": "stream",
     "text": [
      "Sample 1:\n",
      " [[ 2  6 10 14 18]\n",
      " [22 26 30 34 38]\n",
      " [42 46 50 54 58]\n",
      " [62 66 70 74 78]\n",
      " [82 86 90 94 98]] \n",
      "\n",
      "Sample 2:\n",
      " [[ 1  6 11 16 21]\n",
      " [26 31 36 41 46]\n",
      " [51 56 61 66 71]\n",
      " [76 81 86 91 96]]\n"
     ]
    }
   ],
   "source": [
    "sample=np.arange(2,100,4).reshape(5,5)\n",
    "sample1=np.arange(1,99,5).reshape(4,5)\n",
    "print(\"Sample 1:\\n\",sample,\"\\n\\nSample 2:\\n\",sample1)"
   ]
  },
  {
   "cell_type": "code",
   "execution_count": 67,
   "id": "12758540",
   "metadata": {
    "execution": {
     "iopub.execute_input": "2022-09-19T12:50:09.277233Z",
     "iopub.status.busy": "2022-09-19T12:50:09.275927Z",
     "iopub.status.idle": "2022-09-19T12:50:09.289121Z",
     "shell.execute_reply": "2022-09-19T12:50:09.286960Z"
    },
    "papermill": {
     "duration": 0.059295,
     "end_time": "2022-09-19T12:50:09.292089",
     "exception": false,
     "start_time": "2022-09-19T12:50:09.232794",
     "status": "completed"
    },
    "tags": []
   },
   "outputs": [
    {
     "name": "stdout",
     "output_type": "stream",
     "text": [
      "Sum of sample array 1 1250\n",
      "Sum of sample array 2: 970\n",
      "\n",
      "Sum of sample array 1 in column's: [210 230 250 270 290]\n",
      "Sum of sample array 2 in column's: [154 174 194 214 234]\n",
      "\n",
      "Sum of sample array 1 in row's: [ 50 150 250 350 450]\n",
      "Sum of sample array 2 in row's: [ 55 180 305 430]\n"
     ]
    },
    {
     "data": {
      "text/plain": [
       "array([210, 230, 250, 270, 290])"
      ]
     },
     "execution_count": 67,
     "metadata": {},
     "output_type": "execute_result"
    }
   ],
   "source": [
    "print(\"Sum of sample array 1\",sample.sum())\n",
    "print(\"Sum of sample array 2:\",sample1.sum())\n",
    "\n",
    "print(\"\\nSum of sample array 1 in column's:\",sample.sum(axis=0))\n",
    "print(\"Sum of sample array 2 in column's:\",sample1.sum(axis=0))\n",
    "\n",
    "print(\"\\nSum of sample array 1 in row's:\",sample.sum(axis=1))\n",
    "print(\"Sum of sample array 2 in row's:\",sample1.sum(axis=1))\n",
    "\n",
    "sum(sample)"
   ]
  },
  {
   "cell_type": "markdown",
   "id": "a96e1557",
   "metadata": {
    "papermill": {
     "duration": 0.041365,
     "end_time": "2022-09-19T12:50:09.375951",
     "exception": false,
     "start_time": "2022-09-19T12:50:09.334586",
     "status": "completed"
    },
    "tags": []
   },
   "source": [
    "#### Working with numpy.maximum():\n",
    "- numpy.maximum() function is used to find the element-wise maximum of array elements.\n",
    "- It compares two arrays and returns a new array containing the element-wise maxima. If one of the elements being compared is a NaN, then that element is returned. If both elements are NaNs then the first is returned.\n",
    "\n",
    "- **Syntex:** <H4>numpy.maximum(x1, x2, /, out=None, *, where=True, casting='same_kind', order='K', dtype=None, subok=True[, signature, extobj]) = <ufunc 'maximum'></H4>\n"
   ]
  },
  {
   "cell_type": "markdown",
   "id": "fd56894f",
   "metadata": {
    "papermill": {
     "duration": 0.041711,
     "end_time": "2022-09-19T12:50:09.459561",
     "exception": false,
     "start_time": "2022-09-19T12:50:09.417850",
     "status": "completed"
    },
    "tags": []
   },
   "source": [
    "``` python\n",
    "print(\"\\nArray1:\\n\",sample)\n",
    "print(\"\\nArray2:\\n\",sample1)\n",
    "\n",
    "print(\"\\nFinding max using maximum():\\n\",np.maximum(sample,sample1))\n",
    "print(\"\\nFinding min using minimum():\\n\",np.maximum(sample,sample1))\n",
    "\n",
    "---------------------------------------------------------------------------\n",
    "ValueError                                Traceback (most recent call last)\n",
    "/tmp/ipykernel_17/2215792630.py in <module>\n",
    "      2 print(\"\\nArray2:\\n\",sample1)\n",
    "      3 \n",
    "----> 4 print(\"\\nFinding max using maximum():\\n\",np.maximum(sample,sample1))\n",
    "      5 print(\"\\nFinding min using minimum():\\n\",np.maximum(sample,sample1))\n",
    "      6 \n",
    "\n",
    "ValueError: operands could not be broadcast together with shapes (5,5) (4,5) \n",
    "```\n"
   ]
  },
  {
   "cell_type": "code",
   "execution_count": 68,
   "id": "ed3b59ed",
   "metadata": {
    "execution": {
     "iopub.execute_input": "2022-09-19T12:50:09.551061Z",
     "iopub.status.busy": "2022-09-19T12:50:09.550678Z",
     "iopub.status.idle": "2022-09-19T12:50:09.558757Z",
     "shell.execute_reply": "2022-09-19T12:50:09.557550Z"
    },
    "papermill": {
     "duration": 0.054075,
     "end_time": "2022-09-19T12:50:09.562830",
     "exception": false,
     "start_time": "2022-09-19T12:50:09.508755",
     "status": "completed"
    },
    "tags": []
   },
   "outputs": [
    {
     "name": "stdout",
     "output_type": "stream",
     "text": [
      "\n",
      "Array1:\n",
      " [[ 2  6 10 14 18]\n",
      " [22 26 30 34 38]\n",
      " [42 46 50 54 58]\n",
      " [62 66 70 74 78]\n",
      " [82 86 90 94 98]]\n",
      "\n",
      "Array2:\n",
      " [[ 22  26  30  34  38]\n",
      " [ 42  46  50  54  58]\n",
      " [ 62  66  70  74  78]\n",
      " [ 82  86  90  94  98]\n",
      " [102 106 110 114 118]]\n",
      "\n",
      "Finding max using maximum():\n",
      " [[ 22  26  30  34  38]\n",
      " [ 42  46  50  54  58]\n",
      " [ 62  66  70  74  78]\n",
      " [ 82  86  90  94  98]\n",
      " [102 106 110 114 118]]\n",
      "\n",
      "Finding min using minimum():\n",
      " [[ 2  6 10 14 18]\n",
      " [22 26 30 34 38]\n",
      " [42 46 50 54 58]\n",
      " [62 66 70 74 78]\n",
      " [82 86 90 94 98]]\n"
     ]
    }
   ],
   "source": [
    "a=np.arange(2,100,4).reshape(5,5)\n",
    "b=np.arange(22,122,4).reshape(5,5)\n",
    "print(\"\\nArray1:\\n\",a)\n",
    "print(\"\\nArray2:\\n\",b)\n",
    "\n",
    "print(\"\\nFinding max using maximum():\\n\",np.maximum(a,b))\n",
    "print(\"\\nFinding min using minimum():\\n\",np.minimum(a,b))"
   ]
  },
  {
   "cell_type": "markdown",
   "id": "fd332e0b",
   "metadata": {
    "papermill": {
     "duration": 0.039982,
     "end_time": "2022-09-19T12:50:09.644136",
     "exception": false,
     "start_time": "2022-09-19T12:50:09.604154",
     "status": "completed"
    },
    "tags": []
   },
   "source": [
    "### np.max()"
   ]
  },
  {
   "cell_type": "code",
   "execution_count": 69,
   "id": "3c02daed",
   "metadata": {
    "execution": {
     "iopub.execute_input": "2022-09-19T12:50:09.727405Z",
     "iopub.status.busy": "2022-09-19T12:50:09.726119Z",
     "iopub.status.idle": "2022-09-19T12:50:09.737927Z",
     "shell.execute_reply": "2022-09-19T12:50:09.736364Z"
    },
    "papermill": {
     "duration": 0.057531,
     "end_time": "2022-09-19T12:50:09.741898",
     "exception": false,
     "start_time": "2022-09-19T12:50:09.684367",
     "status": "completed"
    },
    "tags": []
   },
   "outputs": [
    {
     "name": "stdout",
     "output_type": "stream",
     "text": [
      "Findin max using Max(): 98\n",
      "Findin index of max using argmax(): 24\n",
      "Findin index of max using argmax() in column: [4 4 4 4 4]\n",
      "Findin index of max using argmax() in row: [4 4 4 4 4]\n",
      "Findin max using Max() in column's: [82 86 90 94 98]\n",
      "Findin max using Max() in raw's: [18 38 58 78 98]\n",
      "\n",
      "\n",
      "\n",
      "Findin max using Max(): 96\n",
      "Findin index of max using argmax(): 19\n",
      "Findin index of max using argmax() in column: [3 3 3 3 3]\n",
      "Findin index of max using argmax() in row: [4 4 4 4]\n",
      "Findin max using Max() in column's: [76 81 86 91 96]\n",
      "Findin max using Max() in raw's: [21 46 71 96]\n"
     ]
    }
   ],
   "source": [
    "print(\"Findin max using Max():\",sample.max())\n",
    "print(\"Findin index of max using argmax():\",sample.argmax())\n",
    "print(\"Findin index of max using argmax() in column:\",sample.argmax(axis=0))\n",
    "print(\"Findin index of max using argmax() in row:\",sample.argmax(axis=1))\n",
    "print(\"Findin max using Max() in column's:\",sample.max(axis=0)) ## 0 axix mean's column in max()\n",
    "print(\"Findin max using Max() in raw's:\",sample.max(axis=1)) ## 1 axis mean's rows max()\n",
    "\n",
    "\n",
    "print(\"\\n\\n\\nFindin max using Max():\",sample1.max())\n",
    "print(\"Findin index of max using argmax():\",sample1.argmax())\n",
    "print(\"Findin index of max using argmax() in column:\",sample1.argmax(axis=0))\n",
    "print(\"Findin index of max using argmax() in row:\",sample1.argmax(axis=1))\n",
    "print(\"Findin max using Max() in column's:\",sample1.max(axis=0)) ## 0 axix mean's column in max()\n",
    "print(\"Findin max using Max() in raw's:\",sample1.max(axis=1)) ## 1 axis mean's rows max()"
   ]
  },
  {
   "cell_type": "markdown",
   "id": "015760bf",
   "metadata": {
    "papermill": {
     "duration": 0.043539,
     "end_time": "2022-09-19T12:50:09.826821",
     "exception": false,
     "start_time": "2022-09-19T12:50:09.783282",
     "status": "completed"
    },
    "tags": []
   },
   "source": [
    "### np.min():"
   ]
  },
  {
   "cell_type": "code",
   "execution_count": 70,
   "id": "f696e9d8",
   "metadata": {
    "execution": {
     "iopub.execute_input": "2022-09-19T12:50:09.911570Z",
     "iopub.status.busy": "2022-09-19T12:50:09.910161Z",
     "iopub.status.idle": "2022-09-19T12:50:09.921430Z",
     "shell.execute_reply": "2022-09-19T12:50:09.920218Z"
    },
    "papermill": {
     "duration": 0.056858,
     "end_time": "2022-09-19T12:50:09.924528",
     "exception": false,
     "start_time": "2022-09-19T12:50:09.867670",
     "status": "completed"
    },
    "tags": []
   },
   "outputs": [
    {
     "name": "stdout",
     "output_type": "stream",
     "text": [
      "Findin min using min(): 2\n",
      "Findin index of min using argmin(): 0\n",
      "Findin index of min using argmin() in column: [0 0 0 0 0]\n",
      "Findin index of min using argmin() in row: [0 0 0 0 0]\n",
      "Findin min using MIN() in column's: [ 2  6 10 14 18]\n",
      "Findin min using MIN() in raw's: [ 2 22 42 62 82]\n",
      "\n",
      "\n",
      "\n",
      "Findin min using MIN(): 1\n",
      "Findin index of min using argmin(): 0\n",
      "Findin index of min using argmin() in column: [0 0 0 0 0]\n",
      "Findin index of min using argmin() in row: [0 0 0 0]\n",
      "Findin min using min() in column's: [ 1  6 11 16 21]\n",
      "Findin min using min() in raw's: [ 1 26 51 76]\n"
     ]
    }
   ],
   "source": [
    "print(\"Findin min using min():\",sample.min())\n",
    "print(\"Findin index of min using argmin():\",sample.argmin())\n",
    "print(\"Findin index of min using argmin() in column:\",sample.argmin(axis=0))\n",
    "print(\"Findin index of min using argmin() in row:\",sample.argmin(axis=1))\n",
    "print(\"Findin min using MIN() in column's:\",sample.min(axis=0)) ## 0 axix mean's column in max()\n",
    "print(\"Findin min using MIN() in raw's:\",sample.min(axis=1)) ## 1 axis mean's rows max()\n",
    "\n",
    "\n",
    "print(\"\\n\\n\\nFindin min using MIN():\",sample1.min())\n",
    "print(\"Findin index of min using argmin():\",sample1.argmin())\n",
    "print(\"Findin index of min using argmin() in column:\",sample1.argmin(axis=0))\n",
    "print(\"Findin index of min using argmin() in row:\",sample1.argmin(axis=1))\n",
    "print(\"Findin min using min() in column's:\",sample1.min(axis=0)) ## 0 axix mean's column in max()\n",
    "print(\"Findin min using min() in raw's:\",sample1.min(axis=1))    ## 1 axis mean's rows max()"
   ]
  },
  {
   "cell_type": "markdown",
   "id": "5b1db2db",
   "metadata": {
    "papermill": {
     "duration": 0.04047,
     "end_time": "2022-09-19T12:50:10.005302",
     "exception": false,
     "start_time": "2022-09-19T12:50:09.964832",
     "status": "completed"
    },
    "tags": []
   },
   "source": [
    "### np.mean():"
   ]
  },
  {
   "cell_type": "code",
   "execution_count": 71,
   "id": "87d92584",
   "metadata": {
    "execution": {
     "iopub.execute_input": "2022-09-19T12:50:10.088704Z",
     "iopub.status.busy": "2022-09-19T12:50:10.088271Z",
     "iopub.status.idle": "2022-09-19T12:50:10.097042Z",
     "shell.execute_reply": "2022-09-19T12:50:10.095658Z"
    },
    "papermill": {
     "duration": 0.053921,
     "end_time": "2022-09-19T12:50:10.099918",
     "exception": false,
     "start_time": "2022-09-19T12:50:10.045997",
     "status": "completed"
    },
    "tags": []
   },
   "outputs": [
    {
     "name": "stdout",
     "output_type": "stream",
     "text": [
      "Finding mean of sample array: 50.0\n",
      "\n",
      "Finding mean of sample array: [42. 46. 50. 54. 58.]\n",
      "\n",
      "Finding mean of sample array: [10. 30. 50. 70. 90.]\n",
      "\n",
      "\n",
      "Finding mean of sample1 array: 48.5\n",
      "\n",
      "Finding mean of sample1 array: [38.5 43.5 48.5 53.5 58.5]\n",
      "\n",
      "Finding mean of sample1 array: [11. 36. 61. 86.]\n"
     ]
    }
   ],
   "source": [
    "print(\"Finding mean of sample array:\",sample.mean())\n",
    "print(\"\\nFinding mean of sample array:\",sample.mean(axis=0))     #column's\n",
    "print(\"\\nFinding mean of sample array:\",sample.mean(axis=1))     #row's\n",
    "\n",
    "\n",
    "print(\"\\n\\nFinding mean of sample1 array:\",sample1.mean())\n",
    "print(\"\\nFinding mean of sample1 array:\",sample1.mean(axis=0))   #column's\n",
    "print(\"\\nFinding mean of sample1 array:\",sample1.mean(axis=1))   #row's"
   ]
  },
  {
   "cell_type": "markdown",
   "id": "b2fb5f61",
   "metadata": {
    "papermill": {
     "duration": 0.041151,
     "end_time": "2022-09-19T12:50:10.182281",
     "exception": false,
     "start_time": "2022-09-19T12:50:10.141130",
     "status": "completed"
    },
    "tags": []
   },
   "source": [
    "### np.sqrt():"
   ]
  },
  {
   "cell_type": "code",
   "execution_count": 72,
   "id": "484bbbd8",
   "metadata": {
    "execution": {
     "iopub.execute_input": "2022-09-19T12:50:10.265091Z",
     "iopub.status.busy": "2022-09-19T12:50:10.264722Z",
     "iopub.status.idle": "2022-09-19T12:50:10.272042Z",
     "shell.execute_reply": "2022-09-19T12:50:10.270562Z"
    },
    "papermill": {
     "duration": 0.051702,
     "end_time": "2022-09-19T12:50:10.274850",
     "exception": false,
     "start_time": "2022-09-19T12:50:10.223148",
     "status": "completed"
    },
    "tags": []
   },
   "outputs": [
    {
     "name": "stdout",
     "output_type": "stream",
     "text": [
      "Finding square root of sample array:\n",
      " [[1.41421356 2.44948974 3.16227766 3.74165739 4.24264069]\n",
      " [4.69041576 5.09901951 5.47722558 5.83095189 6.164414  ]\n",
      " [6.4807407  6.78232998 7.07106781 7.34846923 7.61577311]\n",
      " [7.87400787 8.1240384  8.36660027 8.60232527 8.83176087]\n",
      " [9.05538514 9.2736185  9.48683298 9.69535971 9.89949494]]\n",
      "\n",
      "\n",
      "Finding square root of sample1 array:\n",
      " [[1.         2.44948974 3.31662479 4.         4.58257569]\n",
      " [5.09901951 5.56776436 6.         6.40312424 6.78232998]\n",
      " [7.14142843 7.48331477 7.81024968 8.1240384  8.42614977]\n",
      " [8.71779789 9.         9.2736185  9.53939201 9.79795897]]\n"
     ]
    }
   ],
   "source": [
    "print(\"Finding square root of sample array:\\n\",np.sqrt(sample))\n",
    "\n",
    "print(\"\\n\\nFinding square root of sample1 array:\\n\",np.sqrt(sample1))"
   ]
  },
  {
   "cell_type": "markdown",
   "id": "2e4530c4",
   "metadata": {
    "papermill": {
     "duration": 0.040061,
     "end_time": "2022-09-19T12:50:10.355641",
     "exception": false,
     "start_time": "2022-09-19T12:50:10.315580",
     "status": "completed"
    },
    "tags": []
   },
   "source": [
    "### np.std():"
   ]
  },
  {
   "cell_type": "code",
   "execution_count": 73,
   "id": "c8fe7714",
   "metadata": {
    "execution": {
     "iopub.execute_input": "2022-09-19T12:50:10.438121Z",
     "iopub.status.busy": "2022-09-19T12:50:10.437741Z",
     "iopub.status.idle": "2022-09-19T12:50:10.444589Z",
     "shell.execute_reply": "2022-09-19T12:50:10.443204Z"
    },
    "papermill": {
     "duration": 0.051275,
     "end_time": "2022-09-19T12:50:10.447372",
     "exception": false,
     "start_time": "2022-09-19T12:50:10.396097",
     "status": "completed"
    },
    "tags": []
   },
   "outputs": [
    {
     "name": "stdout",
     "output_type": "stream",
     "text": [
      "Finding square root of sample array:\n",
      " 28.844410203711913\n",
      "\n",
      "\n",
      "Finding square root of sample1 array:\n",
      " 28.83140648667699\n"
     ]
    }
   ],
   "source": [
    "print(\"Finding square root of sample array:\\n\",np.std(sample))\n",
    "\n",
    "print(\"\\n\\nFinding square root of sample1 array:\\n\",np.std(sample1))"
   ]
  },
  {
   "cell_type": "markdown",
   "id": "05560414",
   "metadata": {
    "papermill": {
     "duration": 0.042165,
     "end_time": "2022-09-19T12:50:10.530155",
     "exception": false,
     "start_time": "2022-09-19T12:50:10.487990",
     "status": "completed"
    },
    "tags": []
   },
   "source": [
    "### np.exp() :"
   ]
  },
  {
   "cell_type": "code",
   "execution_count": 74,
   "id": "fadb34fb",
   "metadata": {
    "execution": {
     "iopub.execute_input": "2022-09-19T12:50:10.615806Z",
     "iopub.status.busy": "2022-09-19T12:50:10.615325Z",
     "iopub.status.idle": "2022-09-19T12:50:10.623225Z",
     "shell.execute_reply": "2022-09-19T12:50:10.621866Z"
    },
    "papermill": {
     "duration": 0.054766,
     "end_time": "2022-09-19T12:50:10.626783",
     "exception": false,
     "start_time": "2022-09-19T12:50:10.572017",
     "status": "completed"
    },
    "tags": []
   },
   "outputs": [
    {
     "name": "stdout",
     "output_type": "stream",
     "text": [
      "Finding exponential of sample array:\n",
      " [[7.38905610e+00 4.03428793e+02 2.20264658e+04 1.20260428e+06\n",
      "  6.56599691e+07]\n",
      " [3.58491285e+09 1.95729609e+11 1.06864746e+13 5.83461743e+14\n",
      "  3.18559318e+16]\n",
      " [1.73927494e+18 9.49611942e+19 5.18470553e+21 2.83075330e+23\n",
      "  1.54553894e+25]\n",
      " [8.43835667e+26 4.60718663e+28 2.51543867e+30 1.37338298e+32\n",
      "  7.49841700e+33]\n",
      " [4.09399696e+35 2.23524660e+37 1.22040329e+39 6.66317622e+40\n",
      "  3.63797095e+42]]\n",
      "\n",
      "\n",
      "Finding exponential of sample1 array:\n",
      " [[2.71828183e+00 4.03428793e+02 5.98741417e+04 8.88611052e+06\n",
      "  1.31881573e+09]\n",
      " [1.95729609e+11 2.90488497e+13 4.31123155e+15 6.39843494e+17\n",
      "  9.49611942e+19]\n",
      " [1.40934908e+22 2.09165950e+24 3.10429794e+26 4.60718663e+28\n",
      "  6.83767123e+30]\n",
      " [1.01480039e+33 1.50609731e+35 2.23524660e+37 3.31740010e+39\n",
      "  4.92345829e+41]]\n"
     ]
    }
   ],
   "source": [
    "print(\"Finding exponential of sample array:\\n\",np.exp(sample))\n",
    "\n",
    "print(\"\\n\\nFinding exponential of sample1 array:\\n\",np.exp(sample1))"
   ]
  },
  {
   "cell_type": "markdown",
   "id": "bceeb974",
   "metadata": {
    "papermill": {
     "duration": 0.040312,
     "end_time": "2022-09-19T12:50:10.708853",
     "exception": false,
     "start_time": "2022-09-19T12:50:10.668541",
     "status": "completed"
    },
    "tags": []
   },
   "source": [
    "### np.log() / np.log10() / np.log2 / numpy.log1p / "
   ]
  },
  {
   "cell_type": "code",
   "execution_count": 75,
   "id": "04a1bdbb",
   "metadata": {
    "execution": {
     "iopub.execute_input": "2022-09-19T12:50:10.794265Z",
     "iopub.status.busy": "2022-09-19T12:50:10.793826Z",
     "iopub.status.idle": "2022-09-19T12:50:10.806482Z",
     "shell.execute_reply": "2022-09-19T12:50:10.804561Z"
    },
    "papermill": {
     "duration": 0.059645,
     "end_time": "2022-09-19T12:50:10.809693",
     "exception": false,
     "start_time": "2022-09-19T12:50:10.750048",
     "status": "completed"
    },
    "tags": []
   },
   "outputs": [
    {
     "name": "stdout",
     "output_type": "stream",
     "text": [
      "Finding Natural log() of sample array:\n",
      " [[0.69314718 1.79175947 2.30258509 2.63905733 2.89037176]\n",
      " [3.09104245 3.25809654 3.40119738 3.52636052 3.63758616]\n",
      " [3.73766962 3.8286414  3.91202301 3.98898405 4.06044301]\n",
      " [4.12713439 4.18965474 4.24849524 4.30406509 4.35670883]\n",
      " [4.40671925 4.4543473  4.49980967 4.54329478 4.58496748]]\n",
      "\n",
      "Finding base 10 logarithm of sample array:\n",
      " [[0.30103    0.77815125 1.         1.14612804 1.25527251]\n",
      " [1.34242268 1.41497335 1.47712125 1.53147892 1.5797836 ]\n",
      " [1.62324929 1.66275783 1.69897    1.73239376 1.76342799]\n",
      " [1.79239169 1.81954394 1.84509804 1.86923172 1.8920946 ]\n",
      " [1.91381385 1.93449845 1.95424251 1.97312785 1.99122608]]\n",
      "\n",
      "Finding Base-2 logarithm of sample array:\n",
      " [[1.         2.5849625  3.32192809 3.80735492 4.169925  ]\n",
      " [4.45943162 4.70043972 4.9068906  5.08746284 5.24792751]\n",
      " [5.39231742 5.52356196 5.64385619 5.7548875  5.857981  ]\n",
      " [5.95419631 6.04439412 6.12928302 6.20945337 6.28540222]\n",
      " [6.357552   6.42626475 6.4918531  6.55458885 6.61470984]]\n",
      "\n",
      "Finding natural logarithm of one plus the input array:\n",
      " [[1.09861229 1.94591015 2.39789527 2.7080502  2.94443898]\n",
      " [3.13549422 3.29583687 3.4339872  3.55534806 3.66356165]\n",
      " [3.76120012 3.8501476  3.93182563 4.00733319 4.07753744]\n",
      " [4.14313473 4.20469262 4.26267988 4.31748811 4.36944785]\n",
      " [4.41884061 4.46590812 4.51085951 4.55387689 4.59511985]]\n",
      "\n",
      "\n",
      "Finding Natural log() of sample1 array:\n",
      " [[0.         1.79175947 2.39789527 2.77258872 3.04452244]\n",
      " [3.25809654 3.4339872  3.58351894 3.71357207 3.8286414 ]\n",
      " [3.93182563 4.02535169 4.11087386 4.18965474 4.26267988]\n",
      " [4.33073334 4.39444915 4.4543473  4.51085951 4.56434819]]\n",
      "\n",
      "Finding base 10 logarithm of sample array:\n",
      " [[0.         0.77815125 1.04139269 1.20411998 1.32221929]\n",
      " [1.41497335 1.49136169 1.5563025  1.61278386 1.66275783]\n",
      " [1.70757018 1.74818803 1.78532984 1.81954394 1.85125835]\n",
      " [1.88081359 1.90848502 1.93449845 1.95904139 1.98227123]]\n",
      "\n",
      "Finding Base-2 logarithm of sample array:\n",
      " [[0.         2.5849625  3.45943162 4.         4.39231742]\n",
      " [4.70043972 4.95419631 5.169925   5.357552   5.52356196]\n",
      " [5.67242534 5.80735492 5.93073734 6.04439412 6.14974712]\n",
      " [6.24792751 6.33985    6.42626475 6.50779464 6.5849625 ]]\n",
      "\n",
      "Finding natural logarithm of one plus the input array:\n",
      " [[0.69314718 1.94591015 2.48490665 2.83321334 3.09104245]\n",
      " [3.29583687 3.4657359  3.61091791 3.73766962 3.8501476 ]\n",
      " [3.95124372 4.04305127 4.12713439 4.20469262 4.27666612]\n",
      " [4.34380542 4.40671925 4.46590812 4.52178858 4.57471098]]\n"
     ]
    }
   ],
   "source": [
    "print(\"Finding Natural log() of sample array:\\n\",np.log(sample))\n",
    "print(\"\\nFinding base 10 logarithm of sample array:\\n\",np.log10(sample))\n",
    "print(\"\\nFinding Base-2 logarithm of sample array:\\n\",np.log2(sample))\n",
    "print(\"\\nFinding natural logarithm of one plus the input array:\\n\",np.log1p(sample))\n",
    "\n",
    "\n",
    "print(\"\\n\\nFinding Natural log() of sample1 array:\\n\",np.log(sample1))\n",
    "print(\"\\nFinding base 10 logarithm of sample array:\\n\",np.log10(sample1))\n",
    "print(\"\\nFinding Base-2 logarithm of sample array:\\n\",np.log2(sample1))\n",
    "print(\"\\nFinding natural logarithm of one plus the input array:\\n\",np.log1p(sample1))\n"
   ]
  },
  {
   "cell_type": "markdown",
   "id": "b0ec2f86",
   "metadata": {
    "papermill": {
     "duration": 0.051449,
     "end_time": "2022-09-19T12:50:10.915611",
     "exception": false,
     "start_time": "2022-09-19T12:50:10.864162",
     "status": "completed"
    },
    "tags": []
   },
   "source": [
    "### np.logaddexp():"
   ]
  },
  {
   "cell_type": "code",
   "execution_count": 76,
   "id": "f25dbbbd",
   "metadata": {
    "execution": {
     "iopub.execute_input": "2022-09-19T12:50:11.001579Z",
     "iopub.status.busy": "2022-09-19T12:50:11.000683Z",
     "iopub.status.idle": "2022-09-19T12:50:11.010097Z",
     "shell.execute_reply": "2022-09-19T12:50:11.008517Z"
    },
    "papermill": {
     "duration": 0.05542,
     "end_time": "2022-09-19T12:50:11.012637",
     "exception": false,
     "start_time": "2022-09-19T12:50:10.957217",
     "status": "completed"
    },
    "tags": []
   },
   "outputs": [
    {
     "name": "stdout",
     "output_type": "stream",
     "text": [
      "\n",
      "Finding sum of exponentiations of sample array:\n",
      " [[ 22.  26.  30.  34.  38.]\n",
      " [ 42.  46.  50.  54.  58.]\n",
      " [ 62.  66.  70.  74.  78.]\n",
      " [ 82.  86.  90.  94.  98.]\n",
      " [102. 106. 110. 114. 118.]]\n",
      "\n",
      "Finding sum of exponentiations of sample array in base-2.:\n",
      " [[ 22.00000138  26.00000138  30.00000138  34.00000138  38.00000138]\n",
      " [ 42.00000138  46.00000138  50.00000138  54.00000138  58.00000138]\n",
      " [ 62.00000138  66.00000138  70.00000138  74.00000138  78.00000138]\n",
      " [ 82.00000138  86.00000138  90.00000138  94.00000138  98.00000138]\n",
      " [102.00000138 106.00000138 110.00000138 114.00000138 118.00000138]]\n"
     ]
    }
   ],
   "source": [
    "a=np.arange(2,100,4).reshape(5,5)\n",
    "b=np.arange(22,122,4).reshape(5,5)\n",
    "\n",
    "#Logarithm of the sum of exponentiations of the inputs.\n",
    "print(\"\\nFinding sum of exponentiations of sample array:\\n\",np.logaddexp(a,b))\n",
    "\n",
    "#Logarithm of the sum of exponentiations of the inputs in base-2.\n",
    "print(\"\\nFinding sum of exponentiations of sample array in base-2.:\\n\",np.logaddexp2(a,b))\n"
   ]
  },
  {
   "cell_type": "markdown",
   "id": "afc06093",
   "metadata": {
    "papermill": {
     "duration": 0.04039,
     "end_time": "2022-09-19T12:50:11.094109",
     "exception": false,
     "start_time": "2022-09-19T12:50:11.053719",
     "status": "completed"
    },
    "tags": []
   },
   "source": [
    "## Working with numpy.random.randint\n",
    "- Return random integers from low (inclusive) to high (exclusive).\n",
    "- **Syntex:** <H3>random.randint(low, high=None, size=None, dtype=int)</H3>\n",
    "\n",
    "- Return random integers from the “discrete uniform” distribution of the specified dtype in the “half-open” interval [low, high). If high is None (the default), then results are from [0, low)"
   ]
  },
  {
   "cell_type": "code",
   "execution_count": 77,
   "id": "f1d03c3e",
   "metadata": {
    "execution": {
     "iopub.execute_input": "2022-09-19T12:50:11.178702Z",
     "iopub.status.busy": "2022-09-19T12:50:11.178052Z",
     "iopub.status.idle": "2022-09-19T12:50:11.184999Z",
     "shell.execute_reply": "2022-09-19T12:50:11.183743Z"
    },
    "papermill": {
     "duration": 0.052901,
     "end_time": "2022-09-19T12:50:11.187916",
     "exception": false,
     "start_time": "2022-09-19T12:50:11.135015",
     "status": "completed"
    },
    "tags": []
   },
   "outputs": [
    {
     "name": "stdout",
     "output_type": "stream",
     "text": [
      "[[28 10 30 33]\n",
      " [48 18 49 12]\n",
      " [28 29 45 44]\n",
      " [27 31 37 22]\n",
      " [44  2 36 11]\n",
      " [33 12 19 13]\n",
      " [38 19 26 49]\n",
      " [19 26 48 13]]\n"
     ]
    }
   ],
   "source": [
    "sample=np.random.randint(0,50,(8,4)) #(size of array)\n",
    "print(sample)"
   ]
  },
  {
   "cell_type": "code",
   "execution_count": 78,
   "id": "7214479f",
   "metadata": {
    "execution": {
     "iopub.execute_input": "2022-09-19T12:50:11.271705Z",
     "iopub.status.busy": "2022-09-19T12:50:11.271180Z",
     "iopub.status.idle": "2022-09-19T12:50:11.279310Z",
     "shell.execute_reply": "2022-09-19T12:50:11.277716Z"
    },
    "papermill": {
     "duration": 0.05337,
     "end_time": "2022-09-19T12:50:11.282128",
     "exception": false,
     "start_time": "2022-09-19T12:50:11.228758",
     "status": "completed"
    },
    "tags": []
   },
   "outputs": [
    {
     "name": "stdout",
     "output_type": "stream",
     "text": [
      "[[46 45 13 11]\n",
      " [49 24  9 49]\n",
      " [29  9 47 48]\n",
      " [22 23 29 12]\n",
      " [27  9 21 30]\n",
      " [40  1 24 36]\n",
      " [ 2 42 25 35]\n",
      " [28 48 33 40]] \n",
      "\n",
      "Data type of sample: int8\n"
     ]
    }
   ],
   "source": [
    "sample=np.random.randint(0,50,(8,4),dtype=np.int8) #(size of array)\n",
    "print(sample,\"\\n\\nData type of sample:\",sample.dtype)"
   ]
  },
  {
   "cell_type": "code",
   "execution_count": 79,
   "id": "75bcffb2",
   "metadata": {
    "execution": {
     "iopub.execute_input": "2022-09-19T12:50:11.368389Z",
     "iopub.status.busy": "2022-09-19T12:50:11.366835Z",
     "iopub.status.idle": "2022-09-19T12:50:11.375002Z",
     "shell.execute_reply": "2022-09-19T12:50:11.373548Z"
    },
    "papermill": {
     "duration": 0.053938,
     "end_time": "2022-09-19T12:50:11.377526",
     "exception": false,
     "start_time": "2022-09-19T12:50:11.323588",
     "status": "completed"
    },
    "tags": []
   },
   "outputs": [
    {
     "name": "stdout",
     "output_type": "stream",
     "text": [
      "[[43  8  3  6]\n",
      " [40 34 42 34]\n",
      " [ 4  2 47 21]\n",
      " [32 27 32 33]\n",
      " [26 38 44  4]\n",
      " [45 15 40 49]\n",
      " [14 47 20 22]\n",
      " [ 7 30 18 16]] \n",
      "\n",
      "Data type of sample: int64\n"
     ]
    }
   ],
   "source": [
    "sample=np.random.randint(0.45,50.2,(8,4)) #(size of array)\n",
    "print(sample,\"\\n\\nData type of sample:\",sample.dtype)"
   ]
  },
  {
   "cell_type": "markdown",
   "id": "87f82b3d",
   "metadata": {
    "papermill": {
     "duration": 0.040769,
     "end_time": "2022-09-19T12:50:11.459742",
     "exception": false,
     "start_time": "2022-09-19T12:50:11.418973",
     "status": "completed"
    },
    "tags": []
   },
   "source": [
    "## Working with numpy.random.rand:\n",
    "- Random values in a given shape.\n",
    "- **Syntex:** <H3>random.randint(low, high=None, size=None, dtype=int)</H3>\n"
   ]
  },
  {
   "cell_type": "code",
   "execution_count": 80,
   "id": "aace0677",
   "metadata": {
    "execution": {
     "iopub.execute_input": "2022-09-19T12:50:11.544495Z",
     "iopub.status.busy": "2022-09-19T12:50:11.544039Z",
     "iopub.status.idle": "2022-09-19T12:50:11.551707Z",
     "shell.execute_reply": "2022-09-19T12:50:11.550319Z"
    },
    "papermill": {
     "duration": 0.053371,
     "end_time": "2022-09-19T12:50:11.554522",
     "exception": false,
     "start_time": "2022-09-19T12:50:11.501151",
     "status": "completed"
    },
    "tags": []
   },
   "outputs": [
    {
     "name": "stdout",
     "output_type": "stream",
     "text": [
      "Random flaot value array of given shape(4,5):\n",
      " [[0.2026133  0.00402022 0.322227   0.61037675 0.70136924]\n",
      " [0.17565403 0.37468562 0.67474925 0.20019217 0.48163016]\n",
      " [0.49649502 0.30785507 0.77479062 0.52222706 0.6875085 ]\n",
      " [0.40917281 0.28758718 0.86078076 0.85538484 0.99036595]] \n",
      "\n",
      "Shape: (4, 5) \n",
      "Data type: float64\n"
     ]
    }
   ],
   "source": [
    "sample=np.random.rand(4,5)\n",
    "print(\"Random flaot value array of given shape(4,5):\\n\",sample,\"\\n\\nShape:\",sample.shape,\"\\nData type:\",sample.dtype)\n"
   ]
  },
  {
   "cell_type": "code",
   "execution_count": 81,
   "id": "6768de82",
   "metadata": {
    "execution": {
     "iopub.execute_input": "2022-09-19T12:50:11.641612Z",
     "iopub.status.busy": "2022-09-19T12:50:11.641148Z",
     "iopub.status.idle": "2022-09-19T12:50:11.648272Z",
     "shell.execute_reply": "2022-09-19T12:50:11.647291Z"
    },
    "papermill": {
     "duration": 0.053139,
     "end_time": "2022-09-19T12:50:11.650365",
     "exception": false,
     "start_time": "2022-09-19T12:50:11.597226",
     "status": "completed"
    },
    "tags": []
   },
   "outputs": [
    {
     "data": {
      "text/plain": [
       "array([[5.60783989, 5.01206067, 5.966681  , 6.83113024, 7.10410771],\n",
       "       [5.5269621 , 6.12405687, 7.02424776, 5.60057652, 6.44489047],\n",
       "       [6.48948506, 5.9235652 , 7.32437186, 6.56668118, 7.06252549],\n",
       "       [6.22751842, 5.86276154, 7.58234229, 7.56615453, 7.97109786]])"
      ]
     },
     "execution_count": 81,
     "metadata": {},
     "output_type": "execute_result"
    }
   ],
   "source": [
    "3*sample+5"
   ]
  },
  {
   "cell_type": "markdown",
   "id": "87095f04",
   "metadata": {
    "papermill": {
     "duration": 0.042535,
     "end_time": "2022-09-19T12:50:11.735527",
     "exception": false,
     "start_time": "2022-09-19T12:50:11.692992",
     "status": "completed"
    },
    "tags": []
   },
   "source": [
    "## Python NumPy array slicing:"
   ]
  },
  {
   "cell_type": "code",
   "execution_count": 82,
   "id": "3b6face3",
   "metadata": {
    "execution": {
     "iopub.execute_input": "2022-09-19T12:50:11.824549Z",
     "iopub.status.busy": "2022-09-19T12:50:11.823253Z",
     "iopub.status.idle": "2022-09-19T12:50:11.831684Z",
     "shell.execute_reply": "2022-09-19T12:50:11.829847Z"
    },
    "papermill": {
     "duration": 0.056163,
     "end_time": "2022-09-19T12:50:11.834251",
     "exception": false,
     "start_time": "2022-09-19T12:50:11.778088",
     "status": "completed"
    },
    "tags": []
   },
   "outputs": [
    {
     "name": "stdout",
     "output_type": "stream",
     "text": [
      "[[  1   2   3   4   5   6   7   8   9  10]\n",
      " [ 11  12  13  14  15  16  17  18  19  20]\n",
      " [ 21  22  23  24  25  26  27  28  29  30]\n",
      " [ 31  32  33  34  35  36  37  38  39  40]\n",
      " [ 41  42  43  44  45  46  47  48  49  50]\n",
      " [ 51  52  53  54  55  56  57  58  59  60]\n",
      " [ 61  62  63  64  65  66  67  68  69  70]\n",
      " [ 71  72  73  74  75  76  77  78  79  80]\n",
      " [ 81  82  83  84  85  86  87  88  89  90]\n",
      " [ 91  92  93  94  95  96  97  98  99 100]]\n"
     ]
    }
   ],
   "source": [
    "mx=np.arange(1,101,1).reshape(10,10)\n",
    "print(mx)"
   ]
  },
  {
   "cell_type": "code",
   "execution_count": 83,
   "id": "bf53b8f5",
   "metadata": {
    "execution": {
     "iopub.execute_input": "2022-09-19T12:50:11.921784Z",
     "iopub.status.busy": "2022-09-19T12:50:11.921346Z",
     "iopub.status.idle": "2022-09-19T12:50:11.928779Z",
     "shell.execute_reply": "2022-09-19T12:50:11.927305Z"
    },
    "papermill": {
     "duration": 0.053642,
     "end_time": "2022-09-19T12:50:11.931246",
     "exception": false,
     "start_time": "2022-09-19T12:50:11.877604",
     "status": "completed"
    },
    "tags": []
   },
   "outputs": [
    {
     "name": "stdout",
     "output_type": "stream",
     "text": [
      "Value at 0,0: 1\n",
      "Dimansion of this value: 0\n"
     ]
    }
   ],
   "source": [
    "print(\"Value at 0,0:\",mx[0,0])  #zero row and first column\n",
    "print(\"Dimansion of this value:\",mx[0,0].ndim)  #"
   ]
  },
  {
   "cell_type": "code",
   "execution_count": 84,
   "id": "023b09d8",
   "metadata": {
    "execution": {
     "iopub.execute_input": "2022-09-19T12:50:12.020354Z",
     "iopub.status.busy": "2022-09-19T12:50:12.019975Z",
     "iopub.status.idle": "2022-09-19T12:50:12.029489Z",
     "shell.execute_reply": "2022-09-19T12:50:12.027964Z"
    },
    "papermill": {
     "duration": 0.058056,
     "end_time": "2022-09-19T12:50:12.032384",
     "exception": false,
     "start_time": "2022-09-19T12:50:11.974328",
     "status": "completed"
    },
    "tags": []
   },
   "outputs": [
    {
     "name": "stdout",
     "output_type": "stream",
     "text": [
      "\n",
      "Value at 0: 0 :\n",
      " []\n",
      "Dimansion of this value: 2\n",
      "\n",
      "Value at 0: 1 :\n",
      " [[ 1  2  3  4  5  6  7  8  9 10]]\n",
      "Dimansion of this value: 2\n",
      "\n",
      "Value at 0: 2 :\n",
      " [[ 1  2  3  4  5  6  7  8  9 10]\n",
      " [11 12 13 14 15 16 17 18 19 20]]\n",
      "Dimansion of this value: 2\n",
      "\n",
      "Value at 0: 3 :\n",
      " [[ 1  2  3  4  5  6  7  8  9 10]\n",
      " [11 12 13 14 15 16 17 18 19 20]\n",
      " [21 22 23 24 25 26 27 28 29 30]]\n",
      "Dimansion of this value: 2\n",
      "\n",
      "Value at 0: 4 :\n",
      " [[ 1  2  3  4  5  6  7  8  9 10]\n",
      " [11 12 13 14 15 16 17 18 19 20]\n",
      " [21 22 23 24 25 26 27 28 29 30]\n",
      " [31 32 33 34 35 36 37 38 39 40]]\n",
      "Dimansion of this value: 2\n",
      "\n",
      "Value at 0: 5 :\n",
      " [[ 1  2  3  4  5  6  7  8  9 10]\n",
      " [11 12 13 14 15 16 17 18 19 20]\n",
      " [21 22 23 24 25 26 27 28 29 30]\n",
      " [31 32 33 34 35 36 37 38 39 40]\n",
      " [41 42 43 44 45 46 47 48 49 50]]\n",
      "Dimansion of this value: 2\n",
      "\n",
      "Value at 0: 6 :\n",
      " [[ 1  2  3  4  5  6  7  8  9 10]\n",
      " [11 12 13 14 15 16 17 18 19 20]\n",
      " [21 22 23 24 25 26 27 28 29 30]\n",
      " [31 32 33 34 35 36 37 38 39 40]\n",
      " [41 42 43 44 45 46 47 48 49 50]\n",
      " [51 52 53 54 55 56 57 58 59 60]]\n",
      "Dimansion of this value: 2\n",
      "\n",
      "Value at 0: 7 :\n",
      " [[ 1  2  3  4  5  6  7  8  9 10]\n",
      " [11 12 13 14 15 16 17 18 19 20]\n",
      " [21 22 23 24 25 26 27 28 29 30]\n",
      " [31 32 33 34 35 36 37 38 39 40]\n",
      " [41 42 43 44 45 46 47 48 49 50]\n",
      " [51 52 53 54 55 56 57 58 59 60]\n",
      " [61 62 63 64 65 66 67 68 69 70]]\n",
      "Dimansion of this value: 2\n",
      "\n",
      "Value at 0: 8 :\n",
      " [[ 1  2  3  4  5  6  7  8  9 10]\n",
      " [11 12 13 14 15 16 17 18 19 20]\n",
      " [21 22 23 24 25 26 27 28 29 30]\n",
      " [31 32 33 34 35 36 37 38 39 40]\n",
      " [41 42 43 44 45 46 47 48 49 50]\n",
      " [51 52 53 54 55 56 57 58 59 60]\n",
      " [61 62 63 64 65 66 67 68 69 70]\n",
      " [71 72 73 74 75 76 77 78 79 80]]\n",
      "Dimansion of this value: 2\n",
      "\n",
      "Value at 0: 9 :\n",
      " [[ 1  2  3  4  5  6  7  8  9 10]\n",
      " [11 12 13 14 15 16 17 18 19 20]\n",
      " [21 22 23 24 25 26 27 28 29 30]\n",
      " [31 32 33 34 35 36 37 38 39 40]\n",
      " [41 42 43 44 45 46 47 48 49 50]\n",
      " [51 52 53 54 55 56 57 58 59 60]\n",
      " [61 62 63 64 65 66 67 68 69 70]\n",
      " [71 72 73 74 75 76 77 78 79 80]\n",
      " [81 82 83 84 85 86 87 88 89 90]]\n",
      "Dimansion of this value: 2\n"
     ]
    }
   ],
   "source": [
    "for i in range(len(mx)):\n",
    "    print(\"\\nValue at 0:\",i,\":\\n\",mx[0:i])    #zeroth row and row of first zeroth row\n",
    "    print(\"Dimansion of this value:\",mx[0:i].ndim) "
   ]
  },
  {
   "cell_type": "code",
   "execution_count": 85,
   "id": "7cdfee4f",
   "metadata": {
    "execution": {
     "iopub.execute_input": "2022-09-19T12:50:12.124346Z",
     "iopub.status.busy": "2022-09-19T12:50:12.123830Z",
     "iopub.status.idle": "2022-09-19T12:50:12.131957Z",
     "shell.execute_reply": "2022-09-19T12:50:12.130206Z"
    },
    "papermill": {
     "duration": 0.057333,
     "end_time": "2022-09-19T12:50:12.135316",
     "exception": false,
     "start_time": "2022-09-19T12:50:12.077983",
     "status": "completed"
    },
    "tags": []
   },
   "outputs": [
    {
     "name": "stdout",
     "output_type": "stream",
     "text": [
      "\n",
      "Value at 0: 0 :\n",
      " 1\n",
      "Dimansion of this value: 0\n",
      "\n",
      "Value at 0: 1 :\n",
      " 2\n",
      "Dimansion of this value: 0\n",
      "\n",
      "Value at 0: 2 :\n",
      " 3\n",
      "Dimansion of this value: 0\n",
      "\n",
      "Value at 0: 3 :\n",
      " 4\n",
      "Dimansion of this value: 0\n",
      "\n",
      "Value at 0: 4 :\n",
      " 5\n",
      "Dimansion of this value: 0\n",
      "\n",
      "Value at 0: 5 :\n",
      " 6\n",
      "Dimansion of this value: 0\n",
      "\n",
      "Value at 0: 6 :\n",
      " 7\n",
      "Dimansion of this value: 0\n",
      "\n",
      "Value at 0: 7 :\n",
      " 8\n",
      "Dimansion of this value: 0\n",
      "\n",
      "Value at 0: 8 :\n",
      " 9\n",
      "Dimansion of this value: 0\n",
      "\n",
      "Value at 0: 9 :\n",
      " 10\n",
      "Dimansion of this value: 0\n"
     ]
    }
   ],
   "source": [
    "for i in range(len(mx)):\n",
    "    print(\"\\nValue at 0:\",i,\":\\n\",mx[0,i])    #zeroth row and row of first zeroth row\n",
    "    print(\"Dimansion of this value:\",mx[0,i].ndim)"
   ]
  },
  {
   "cell_type": "code",
   "execution_count": 86,
   "id": "2a95359e",
   "metadata": {
    "execution": {
     "iopub.execute_input": "2022-09-19T12:50:12.225357Z",
     "iopub.status.busy": "2022-09-19T12:50:12.224917Z",
     "iopub.status.idle": "2022-09-19T12:50:12.233907Z",
     "shell.execute_reply": "2022-09-19T12:50:12.232474Z"
    },
    "papermill": {
     "duration": 0.056704,
     "end_time": "2022-09-19T12:50:12.236583",
     "exception": false,
     "start_time": "2022-09-19T12:50:12.179879",
     "status": "completed"
    },
    "tags": []
   },
   "outputs": [
    {
     "name": "stdout",
     "output_type": "stream",
     "text": [
      "\n",
      "Value at  0 :\n",
      " [ 1  2  3  4  5  6  7  8  9 10]\n",
      "Dimansion of this value: 1\n",
      "\n",
      "Value at  1 :\n",
      " [11 12 13 14 15 16 17 18 19 20]\n",
      "Dimansion of this value: 1\n",
      "\n",
      "Value at  2 :\n",
      " [21 22 23 24 25 26 27 28 29 30]\n",
      "Dimansion of this value: 1\n",
      "\n",
      "Value at  3 :\n",
      " [31 32 33 34 35 36 37 38 39 40]\n",
      "Dimansion of this value: 1\n",
      "\n",
      "Value at  4 :\n",
      " [41 42 43 44 45 46 47 48 49 50]\n",
      "Dimansion of this value: 1\n",
      "\n",
      "Value at  5 :\n",
      " [51 52 53 54 55 56 57 58 59 60]\n",
      "Dimansion of this value: 1\n",
      "\n",
      "Value at  6 :\n",
      " [61 62 63 64 65 66 67 68 69 70]\n",
      "Dimansion of this value: 1\n",
      "\n",
      "Value at  7 :\n",
      " [71 72 73 74 75 76 77 78 79 80]\n",
      "Dimansion of this value: 1\n",
      "\n",
      "Value at  8 :\n",
      " [81 82 83 84 85 86 87 88 89 90]\n",
      "Dimansion of this value: 1\n",
      "\n",
      "Value at  9 :\n",
      " [ 91  92  93  94  95  96  97  98  99 100]\n",
      "Dimansion of this value: 1\n"
     ]
    }
   ],
   "source": [
    "for i in range(len(mx)):\n",
    "    print(\"\\nValue at \",i,\":\\n\",mx[i])    #zeroth row and row of first zeroth row\n",
    "    print(\"Dimansion of this value:\",mx[i].ndim)"
   ]
  },
  {
   "cell_type": "code",
   "execution_count": 87,
   "id": "0eb8af27",
   "metadata": {
    "execution": {
     "iopub.execute_input": "2022-09-19T12:50:12.326413Z",
     "iopub.status.busy": "2022-09-19T12:50:12.325977Z",
     "iopub.status.idle": "2022-09-19T12:50:12.336042Z",
     "shell.execute_reply": "2022-09-19T12:50:12.334557Z"
    },
    "papermill": {
     "duration": 0.058161,
     "end_time": "2022-09-19T12:50:12.339550",
     "exception": false,
     "start_time": "2022-09-19T12:50:12.281389",
     "status": "completed"
    },
    "tags": []
   },
   "outputs": [
    {
     "name": "stdout",
     "output_type": "stream",
     "text": [
      "\n",
      "Value at [:,0: 0 ]:\n",
      " []\n",
      "Dimansion of this value: 2\n",
      "\n",
      "Value at [:,0: 1 ]:\n",
      " [[ 1]\n",
      " [11]\n",
      " [21]\n",
      " [31]\n",
      " [41]\n",
      " [51]\n",
      " [61]\n",
      " [71]\n",
      " [81]\n",
      " [91]]\n",
      "Dimansion of this value: 2\n",
      "\n",
      "Value at [:,0: 2 ]:\n",
      " [[ 1  2]\n",
      " [11 12]\n",
      " [21 22]\n",
      " [31 32]\n",
      " [41 42]\n",
      " [51 52]\n",
      " [61 62]\n",
      " [71 72]\n",
      " [81 82]\n",
      " [91 92]]\n",
      "Dimansion of this value: 2\n",
      "\n",
      "Value at [:,0: 3 ]:\n",
      " [[ 1  2  3]\n",
      " [11 12 13]\n",
      " [21 22 23]\n",
      " [31 32 33]\n",
      " [41 42 43]\n",
      " [51 52 53]\n",
      " [61 62 63]\n",
      " [71 72 73]\n",
      " [81 82 83]\n",
      " [91 92 93]]\n",
      "Dimansion of this value: 2\n",
      "\n",
      "Value at [:,0: 4 ]:\n",
      " [[ 1  2  3  4]\n",
      " [11 12 13 14]\n",
      " [21 22 23 24]\n",
      " [31 32 33 34]\n",
      " [41 42 43 44]\n",
      " [51 52 53 54]\n",
      " [61 62 63 64]\n",
      " [71 72 73 74]\n",
      " [81 82 83 84]\n",
      " [91 92 93 94]]\n",
      "Dimansion of this value: 2\n",
      "\n",
      "Value at [:,0: 5 ]:\n",
      " [[ 1  2  3  4  5]\n",
      " [11 12 13 14 15]\n",
      " [21 22 23 24 25]\n",
      " [31 32 33 34 35]\n",
      " [41 42 43 44 45]\n",
      " [51 52 53 54 55]\n",
      " [61 62 63 64 65]\n",
      " [71 72 73 74 75]\n",
      " [81 82 83 84 85]\n",
      " [91 92 93 94 95]]\n",
      "Dimansion of this value: 2\n",
      "\n",
      "Value at [:,0: 6 ]:\n",
      " [[ 1  2  3  4  5  6]\n",
      " [11 12 13 14 15 16]\n",
      " [21 22 23 24 25 26]\n",
      " [31 32 33 34 35 36]\n",
      " [41 42 43 44 45 46]\n",
      " [51 52 53 54 55 56]\n",
      " [61 62 63 64 65 66]\n",
      " [71 72 73 74 75 76]\n",
      " [81 82 83 84 85 86]\n",
      " [91 92 93 94 95 96]]\n",
      "Dimansion of this value: 2\n",
      "\n",
      "Value at [:,0: 7 ]:\n",
      " [[ 1  2  3  4  5  6  7]\n",
      " [11 12 13 14 15 16 17]\n",
      " [21 22 23 24 25 26 27]\n",
      " [31 32 33 34 35 36 37]\n",
      " [41 42 43 44 45 46 47]\n",
      " [51 52 53 54 55 56 57]\n",
      " [61 62 63 64 65 66 67]\n",
      " [71 72 73 74 75 76 77]\n",
      " [81 82 83 84 85 86 87]\n",
      " [91 92 93 94 95 96 97]]\n",
      "Dimansion of this value: 2\n",
      "\n",
      "Value at [:,0: 8 ]:\n",
      " [[ 1  2  3  4  5  6  7  8]\n",
      " [11 12 13 14 15 16 17 18]\n",
      " [21 22 23 24 25 26 27 28]\n",
      " [31 32 33 34 35 36 37 38]\n",
      " [41 42 43 44 45 46 47 48]\n",
      " [51 52 53 54 55 56 57 58]\n",
      " [61 62 63 64 65 66 67 68]\n",
      " [71 72 73 74 75 76 77 78]\n",
      " [81 82 83 84 85 86 87 88]\n",
      " [91 92 93 94 95 96 97 98]]\n",
      "Dimansion of this value: 2\n",
      "\n",
      "Value at [:,0: 9 ]:\n",
      " [[ 1  2  3  4  5  6  7  8  9]\n",
      " [11 12 13 14 15 16 17 18 19]\n",
      " [21 22 23 24 25 26 27 28 29]\n",
      " [31 32 33 34 35 36 37 38 39]\n",
      " [41 42 43 44 45 46 47 48 49]\n",
      " [51 52 53 54 55 56 57 58 59]\n",
      " [61 62 63 64 65 66 67 68 69]\n",
      " [71 72 73 74 75 76 77 78 79]\n",
      " [81 82 83 84 85 86 87 88 89]\n",
      " [91 92 93 94 95 96 97 98 99]]\n",
      "Dimansion of this value: 2\n"
     ]
    }
   ],
   "source": [
    "for i in range(len(mx)):\n",
    "    print(\"\\nValue at [:,0:\",i,\"]:\\n\",mx[:,0:i])    #zeroth row and row of first zeroth row\n",
    "    print(\"Dimansion of this value:\",mx[:,0:i].ndim)"
   ]
  },
  {
   "cell_type": "code",
   "execution_count": 88,
   "id": "49b17c49",
   "metadata": {
    "execution": {
     "iopub.execute_input": "2022-09-19T12:50:12.430670Z",
     "iopub.status.busy": "2022-09-19T12:50:12.430233Z",
     "iopub.status.idle": "2022-09-19T12:50:12.438982Z",
     "shell.execute_reply": "2022-09-19T12:50:12.437697Z"
    },
    "papermill": {
     "duration": 0.059184,
     "end_time": "2022-09-19T12:50:12.443130",
     "exception": false,
     "start_time": "2022-09-19T12:50:12.383946",
     "status": "completed"
    },
    "tags": []
   },
   "outputs": [
    {
     "name": "stdout",
     "output_type": "stream",
     "text": [
      "\n",
      "Value at [:, 0 : 1 ]:\n",
      " [[ 1]\n",
      " [11]\n",
      " [21]\n",
      " [31]\n",
      " [41]\n",
      " [51]\n",
      " [61]\n",
      " [71]\n",
      " [81]\n",
      " [91]]\n",
      "Dimansion of this value: 2\n",
      "\n",
      "Value at [:, 1 : 2 ]:\n",
      " [[ 2]\n",
      " [12]\n",
      " [22]\n",
      " [32]\n",
      " [42]\n",
      " [52]\n",
      " [62]\n",
      " [72]\n",
      " [82]\n",
      " [92]]\n",
      "Dimansion of this value: 2\n",
      "\n",
      "Value at [:, 2 : 3 ]:\n",
      " [[ 3]\n",
      " [13]\n",
      " [23]\n",
      " [33]\n",
      " [43]\n",
      " [53]\n",
      " [63]\n",
      " [73]\n",
      " [83]\n",
      " [93]]\n",
      "Dimansion of this value: 2\n",
      "\n",
      "Value at [:, 3 : 4 ]:\n",
      " [[ 4]\n",
      " [14]\n",
      " [24]\n",
      " [34]\n",
      " [44]\n",
      " [54]\n",
      " [64]\n",
      " [74]\n",
      " [84]\n",
      " [94]]\n",
      "Dimansion of this value: 2\n",
      "\n",
      "Value at [:, 4 : 5 ]:\n",
      " [[ 5]\n",
      " [15]\n",
      " [25]\n",
      " [35]\n",
      " [45]\n",
      " [55]\n",
      " [65]\n",
      " [75]\n",
      " [85]\n",
      " [95]]\n",
      "Dimansion of this value: 2\n",
      "\n",
      "Value at [:, 5 : 6 ]:\n",
      " [[ 6]\n",
      " [16]\n",
      " [26]\n",
      " [36]\n",
      " [46]\n",
      " [56]\n",
      " [66]\n",
      " [76]\n",
      " [86]\n",
      " [96]]\n",
      "Dimansion of this value: 2\n",
      "\n",
      "Value at [:, 6 : 7 ]:\n",
      " [[ 7]\n",
      " [17]\n",
      " [27]\n",
      " [37]\n",
      " [47]\n",
      " [57]\n",
      " [67]\n",
      " [77]\n",
      " [87]\n",
      " [97]]\n",
      "Dimansion of this value: 2\n",
      "\n",
      "Value at [:, 7 : 8 ]:\n",
      " [[ 8]\n",
      " [18]\n",
      " [28]\n",
      " [38]\n",
      " [48]\n",
      " [58]\n",
      " [68]\n",
      " [78]\n",
      " [88]\n",
      " [98]]\n",
      "Dimansion of this value: 2\n",
      "\n",
      "Value at [:, 8 : 9 ]:\n",
      " [[ 9]\n",
      " [19]\n",
      " [29]\n",
      " [39]\n",
      " [49]\n",
      " [59]\n",
      " [69]\n",
      " [79]\n",
      " [89]\n",
      " [99]]\n",
      "Dimansion of this value: 2\n",
      "\n",
      "Value at [:, 9 : 10 ]:\n",
      " [[ 10]\n",
      " [ 20]\n",
      " [ 30]\n",
      " [ 40]\n",
      " [ 50]\n",
      " [ 60]\n",
      " [ 70]\n",
      " [ 80]\n",
      " [ 90]\n",
      " [100]]\n",
      "Dimansion of this value: 2\n"
     ]
    }
   ],
   "source": [
    "for i in range(len(mx)):\n",
    "    print(\"\\nValue at [:,\",i,\":\",i+1,\"]:\\n\",mx[:,i:i+1])    \n",
    "    print(\"Dimansion of this value:\",mx[:,i:i+1].ndim)"
   ]
  },
  {
   "cell_type": "code",
   "execution_count": 89,
   "id": "c5064883",
   "metadata": {
    "execution": {
     "iopub.execute_input": "2022-09-19T12:50:12.532259Z",
     "iopub.status.busy": "2022-09-19T12:50:12.531800Z",
     "iopub.status.idle": "2022-09-19T12:50:12.539669Z",
     "shell.execute_reply": "2022-09-19T12:50:12.538388Z"
    },
    "papermill": {
     "duration": 0.056713,
     "end_time": "2022-09-19T12:50:12.543246",
     "exception": false,
     "start_time": "2022-09-19T12:50:12.486533",
     "status": "completed"
    },
    "tags": []
   },
   "outputs": [
    {
     "name": "stdout",
     "output_type": "stream",
     "text": [
      "[[  1   2   3   4   5   6   7   8   9  10]\n",
      " [ 11  12  13  14  15  16  17  18  19  20]\n",
      " [ 21  22  23  24  25  26  27  28  29  30]\n",
      " [ 31  32  33  34  35  36  37  38  39  40]\n",
      " [ 41  42  43  44  45  46  47  48  49  50]\n",
      " [ 51  52  53  54  55  56  57  58  59  60]\n",
      " [ 61  62  63  64  65  66  67  68  69  70]\n",
      " [ 71  72  73  74  75  76  77  78  79  80]\n",
      " [ 81  82  83  84  85  86  87  88  89  90]\n",
      " [ 91  92  93  94  95  96  97  98  99 100]]\n",
      "\n",
      " [[23 24]\n",
      " [33 34]] 2\n"
     ]
    }
   ],
   "source": [
    "print(mx)\n",
    "print(\"\\n\",mx[2:4,2:4],mx[2:4,2:4].ndim)"
   ]
  },
  {
   "cell_type": "code",
   "execution_count": 90,
   "id": "5ea163a3",
   "metadata": {
    "execution": {
     "iopub.execute_input": "2022-09-19T12:50:12.635612Z",
     "iopub.status.busy": "2022-09-19T12:50:12.635194Z",
     "iopub.status.idle": "2022-09-19T12:50:12.641868Z",
     "shell.execute_reply": "2022-09-19T12:50:12.640418Z"
    },
    "papermill": {
     "duration": 0.05586,
     "end_time": "2022-09-19T12:50:12.644738",
     "exception": false,
     "start_time": "2022-09-19T12:50:12.588878",
     "status": "completed"
    },
    "tags": []
   },
   "outputs": [
    {
     "name": "stdout",
     "output_type": "stream",
     "text": [
      "8\n",
      "int64\n"
     ]
    }
   ],
   "source": [
    "print(mx.itemsize) ## size in byte \n",
    "print(mx.dtype)"
   ]
  },
  {
   "cell_type": "markdown",
   "id": "3ce15556",
   "metadata": {
    "papermill": {
     "duration": 0.044725,
     "end_time": "2022-09-19T12:50:12.733997",
     "exception": false,
     "start_time": "2022-09-19T12:50:12.689272",
     "status": "completed"
    },
    "tags": []
   },
   "source": [
    "# Python NumPy Array Concatination ,Split & Joining:"
   ]
  },
  {
   "cell_type": "code",
   "execution_count": 91,
   "id": "893be9d7",
   "metadata": {
    "execution": {
     "iopub.execute_input": "2022-09-19T12:50:12.824998Z",
     "iopub.status.busy": "2022-09-19T12:50:12.824602Z",
     "iopub.status.idle": "2022-09-19T12:50:12.832940Z",
     "shell.execute_reply": "2022-09-19T12:50:12.831313Z"
    },
    "papermill": {
     "duration": 0.058025,
     "end_time": "2022-09-19T12:50:12.836421",
     "exception": false,
     "start_time": "2022-09-19T12:50:12.778396",
     "status": "completed"
    },
    "tags": []
   },
   "outputs": [
    {
     "name": "stdout",
     "output_type": "stream",
     "text": [
      "Array 1:\n",
      " [[ 1  2  3  4]\n",
      " [ 5  6  7  8]\n",
      " [ 9 10 11 12]\n",
      " [13 14 15 16]]\n",
      "\n",
      "Array 2:\n",
      " [[17 18 19 20]\n",
      " [21 22 23 24]\n",
      " [25 26 27 28]\n",
      " [29 30 31 32]]\n"
     ]
    }
   ],
   "source": [
    "sample=np.arange(1,17).reshape(4,4)\n",
    "sample1=np.arange(17,33).reshape(4,4)\n",
    "print(\"Array 1:\\n\",sample)\n",
    "print()\n",
    "print(\"Array 2:\\n\",sample1)"
   ]
  },
  {
   "cell_type": "markdown",
   "id": "fd3b6b5b",
   "metadata": {
    "papermill": {
     "duration": 0.045646,
     "end_time": "2022-09-19T12:50:12.928267",
     "exception": false,
     "start_time": "2022-09-19T12:50:12.882621",
     "status": "completed"
    },
    "tags": []
   },
   "source": [
    "- Concatination in list:\n",
    "\n",
    "``` python\n",
    "list1=[1,2,3,4,5]\n",
    "list2=[6,7,8,9,0]\n",
    "list1+list2\n",
    "\n",
    "#OUTPUT\n",
    "\n",
    "[1, 2, 3, 4, 5, 6, 7, 8, 9, 0]\n",
    "\n",
    "```\n",
    "#### Here in NumPy it do the Addition\n"
   ]
  },
  {
   "cell_type": "code",
   "execution_count": 92,
   "id": "4d3b87eb",
   "metadata": {
    "execution": {
     "iopub.execute_input": "2022-09-19T12:50:13.021784Z",
     "iopub.status.busy": "2022-09-19T12:50:13.021280Z",
     "iopub.status.idle": "2022-09-19T12:50:13.028617Z",
     "shell.execute_reply": "2022-09-19T12:50:13.027320Z"
    },
    "papermill": {
     "duration": 0.058883,
     "end_time": "2022-09-19T12:50:13.031298",
     "exception": false,
     "start_time": "2022-09-19T12:50:12.972415",
     "status": "completed"
    },
    "tags": []
   },
   "outputs": [
    {
     "name": "stdout",
     "output_type": "stream",
     "text": [
      "[[18 20 22 24]\n",
      " [26 28 30 32]\n",
      " [34 36 38 40]\n",
      " [42 44 46 48]]\n"
     ]
    }
   ],
   "source": [
    "print(sample+sample1) ##by using '+' it add two array"
   ]
  },
  {
   "cell_type": "markdown",
   "id": "00ec10b5",
   "metadata": {
    "papermill": {
     "duration": 0.043957,
     "end_time": "2022-09-19T12:50:13.119757",
     "exception": false,
     "start_time": "2022-09-19T12:50:13.075800",
     "status": "completed"
    },
    "tags": []
   },
   "source": [
    "## 1.Concatetination:\n",
    "### np.concatente:\n",
    "- **Syntex:** <H4>numpy.concatenate((a1, a2, ...), axis=0, out=None, dtype=None, casting=\"same_kind\")</H4>\n",
    "    - **a1, a2, …sequence of array_like**\n",
    "    The arrays must have the same shape, except in the dimension corresponding to axis (the first, by default).\n",
    "    - **axis int, optional**\n",
    "    The axis along which the arrays will be joined. If axis is None, arrays are flattened before use. Default is 0.\n",
    "\n",
    "    - **outndarray, optional**\n",
    "    If provided, the destination to place the result. The shape must be correct, matching that of what concatenate would have returned if no out argument were specified.\n",
    "    - **dtypestr or dtype**\n",
    "    If provided, the destination array will have this dtype. Cannot be provided together with out.\n",
    "\n",
    "    - **casting{‘no’, ‘equiv’, ‘safe’, ‘same_kind’, ‘unsafe’}, optional**\n",
    "    Controls what kind of data casting may occur. Defaults to ‘same_kind’."
   ]
  },
  {
   "cell_type": "code",
   "execution_count": 93,
   "id": "4730b3ab",
   "metadata": {
    "execution": {
     "iopub.execute_input": "2022-09-19T12:50:13.210678Z",
     "iopub.status.busy": "2022-09-19T12:50:13.210222Z",
     "iopub.status.idle": "2022-09-19T12:50:13.216291Z",
     "shell.execute_reply": "2022-09-19T12:50:13.215534Z"
    },
    "papermill": {
     "duration": 0.054864,
     "end_time": "2022-09-19T12:50:13.219279",
     "exception": false,
     "start_time": "2022-09-19T12:50:13.164415",
     "status": "completed"
    },
    "tags": []
   },
   "outputs": [
    {
     "name": "stdout",
     "output_type": "stream",
     "text": [
      "Concatenation of Array:\n",
      " [[ 1  2  3  4]\n",
      " [ 5  6  7  8]\n",
      " [ 9 10 11 12]\n",
      " [13 14 15 16]\n",
      " [17 18 19 20]\n",
      " [21 22 23 24]\n",
      " [25 26 27 28]\n",
      " [29 30 31 32]]\n",
      "\n",
      "Concatenation of Array\n",
      " [[17 18 19 20]\n",
      " [21 22 23 24]\n",
      " [25 26 27 28]\n",
      " [29 30 31 32]\n",
      " [ 1  2  3  4]\n",
      " [ 5  6  7  8]\n",
      " [ 9 10 11 12]\n",
      " [13 14 15 16]]\n"
     ]
    }
   ],
   "source": [
    "print(\"Concatenation of Array:\\n\",np.concatenate((sample,sample1)))\n",
    "print(\"\\nConcatenation of Array\\n\",np.concatenate((sample1,sample)))"
   ]
  },
  {
   "cell_type": "code",
   "execution_count": 94,
   "id": "e83cbe36",
   "metadata": {
    "execution": {
     "iopub.execute_input": "2022-09-19T12:50:13.310243Z",
     "iopub.status.busy": "2022-09-19T12:50:13.309829Z",
     "iopub.status.idle": "2022-09-19T12:50:13.316978Z",
     "shell.execute_reply": "2022-09-19T12:50:13.315594Z"
    },
    "papermill": {
     "duration": 0.0559,
     "end_time": "2022-09-19T12:50:13.319977",
     "exception": false,
     "start_time": "2022-09-19T12:50:13.264077",
     "status": "completed"
    },
    "tags": []
   },
   "outputs": [
    {
     "name": "stdout",
     "output_type": "stream",
     "text": [
      "Concatenation of Array:\n",
      " [[ 1  2  3  4]\n",
      " [ 5  6  7  8]\n",
      " [ 9 10 11 12]\n",
      " [13 14 15 16]\n",
      " [17 18 19 20]\n",
      " [21 22 23 24]\n",
      " [25 26 27 28]\n",
      " [29 30 31 32]]\n",
      "\n",
      "Concatenation of Array:\n",
      " [[ 1  2  3  4 17 18 19 20]\n",
      " [ 5  6  7  8 21 22 23 24]\n",
      " [ 9 10 11 12 25 26 27 28]\n",
      " [13 14 15 16 29 30 31 32]]\n"
     ]
    }
   ],
   "source": [
    "print(\"Concatenation of Array:\\n\",np.concatenate((sample,sample1),axis=0)) #default is '0'\n",
    "\n",
    "print(\"\\nConcatenation of Array:\\n\",np.concatenate((sample,sample1),axis=1)) \n",
    "\n",
    "#Concatination of with axis with row wise or coloumn wise concatenation"
   ]
  },
  {
   "cell_type": "markdown",
   "id": "83743b0a",
   "metadata": {
    "papermill": {
     "duration": 0.043814,
     "end_time": "2022-09-19T12:50:13.408529",
     "exception": false,
     "start_time": "2022-09-19T12:50:13.364715",
     "status": "completed"
    },
    "tags": []
   },
   "source": [
    "## 2.Joining Arrays Using Stack Functions:\n",
    "-   Stacking is used to join arrays of same dimension along a new axis.\n",
    "    - Stack are of three types:\n",
    "        - Horizontal stacking (hstack())\n",
    "        - Vertical stacking (vstack())\n",
    "        - Height stacking (dstack())\n",
    "\n",
    "### numpy.stack():\n",
    "- Join a sequence of arrays along a new axis.\n",
    "- **Syntax**<H4>numpy.stack(arrays, axis=0, out=None)[source]</H4>\n"
   ]
  },
  {
   "cell_type": "code",
   "execution_count": 95,
   "id": "716d193d",
   "metadata": {
    "execution": {
     "iopub.execute_input": "2022-09-19T12:50:13.499453Z",
     "iopub.status.busy": "2022-09-19T12:50:13.499083Z",
     "iopub.status.idle": "2022-09-19T12:50:13.505361Z",
     "shell.execute_reply": "2022-09-19T12:50:13.504050Z"
    },
    "papermill": {
     "duration": 0.055535,
     "end_time": "2022-09-19T12:50:13.508200",
     "exception": false,
     "start_time": "2022-09-19T12:50:13.452665",
     "status": "completed"
    },
    "tags": []
   },
   "outputs": [
    {
     "name": "stdout",
     "output_type": "stream",
     "text": [
      "Joing array by:\n",
      " [[[ 1  2  3  4]\n",
      "  [ 5  6  7  8]\n",
      "  [ 9 10 11 12]\n",
      "  [13 14 15 16]]\n",
      "\n",
      " [[17 18 19 20]\n",
      "  [21 22 23 24]\n",
      "  [25 26 27 28]\n",
      "  [29 30 31 32]]] \n",
      "\n",
      "Dimention of array: 3\n"
     ]
    }
   ],
   "source": [
    "print(\"Joing array by:\\n\",np.stack((sample,sample1)),\"\\n\\nDimention of array:\",np.stack((sample,sample1)).ndim)"
   ]
  },
  {
   "cell_type": "code",
   "execution_count": 96,
   "id": "48c2e4b7",
   "metadata": {
    "execution": {
     "iopub.execute_input": "2022-09-19T12:50:13.601428Z",
     "iopub.status.busy": "2022-09-19T12:50:13.600998Z",
     "iopub.status.idle": "2022-09-19T12:50:13.608100Z",
     "shell.execute_reply": "2022-09-19T12:50:13.606565Z"
    },
    "papermill": {
     "duration": 0.057239,
     "end_time": "2022-09-19T12:50:13.610984",
     "exception": false,
     "start_time": "2022-09-19T12:50:13.553745",
     "status": "completed"
    },
    "tags": []
   },
   "outputs": [
    {
     "name": "stdout",
     "output_type": "stream",
     "text": [
      "\n",
      "Joing array by:\n",
      " [[[ 1  2  3  4]\n",
      "  [ 5  6  7  8]\n",
      "  [ 9 10 11 12]\n",
      "  [13 14 15 16]]\n",
      "\n",
      " [[17 18 19 20]\n",
      "  [21 22 23 24]\n",
      "  [25 26 27 28]\n",
      "  [29 30 31 32]]]\n"
     ]
    }
   ],
   "source": [
    "print(\"\\nJoing array by:\\n\",np.stack((sample,sample1),axis=0))"
   ]
  },
  {
   "cell_type": "code",
   "execution_count": 97,
   "id": "fa1d9040",
   "metadata": {
    "execution": {
     "iopub.execute_input": "2022-09-19T12:50:13.702694Z",
     "iopub.status.busy": "2022-09-19T12:50:13.702218Z",
     "iopub.status.idle": "2022-09-19T12:50:13.709762Z",
     "shell.execute_reply": "2022-09-19T12:50:13.708180Z"
    },
    "papermill": {
     "duration": 0.05718,
     "end_time": "2022-09-19T12:50:13.712870",
     "exception": false,
     "start_time": "2022-09-19T12:50:13.655690",
     "status": "completed"
    },
    "tags": []
   },
   "outputs": [
    {
     "name": "stdout",
     "output_type": "stream",
     "text": [
      "\n",
      "Joing array by:\n",
      " [[[ 1  2  3  4]\n",
      "  [17 18 19 20]]\n",
      "\n",
      " [[ 5  6  7  8]\n",
      "  [21 22 23 24]]\n",
      "\n",
      " [[ 9 10 11 12]\n",
      "  [25 26 27 28]]\n",
      "\n",
      " [[13 14 15 16]\n",
      "  [29 30 31 32]]]\n"
     ]
    }
   ],
   "source": [
    "#it join by row in 2-d\n",
    "print(\"\\nJoing array by:\\n\",np.stack((sample,sample1),axis=1))"
   ]
  },
  {
   "cell_type": "code",
   "execution_count": 98,
   "id": "08b39504",
   "metadata": {
    "execution": {
     "iopub.execute_input": "2022-09-19T12:50:13.808301Z",
     "iopub.status.busy": "2022-09-19T12:50:13.807862Z",
     "iopub.status.idle": "2022-09-19T12:50:13.815385Z",
     "shell.execute_reply": "2022-09-19T12:50:13.813922Z"
    },
    "papermill": {
     "duration": 0.057606,
     "end_time": "2022-09-19T12:50:13.818689",
     "exception": false,
     "start_time": "2022-09-19T12:50:13.761083",
     "status": "completed"
    },
    "tags": []
   },
   "outputs": [
    {
     "name": "stdout",
     "output_type": "stream",
     "text": [
      "\n",
      "Joing array by:\n",
      " [[[ 1 17]\n",
      "  [ 2 18]\n",
      "  [ 3 19]\n",
      "  [ 4 20]]\n",
      "\n",
      " [[ 5 21]\n",
      "  [ 6 22]\n",
      "  [ 7 23]\n",
      "  [ 8 24]]\n",
      "\n",
      " [[ 9 25]\n",
      "  [10 26]\n",
      "  [11 27]\n",
      "  [12 28]]\n",
      "\n",
      " [[13 29]\n",
      "  [14 30]\n",
      "  [15 31]\n",
      "  [16 32]]]\n"
     ]
    }
   ],
   "source": [
    "# by coloumn value\n",
    "print(\"\\nJoing array by:\\n\",np.stack((sample,sample1),axis=2))"
   ]
  },
  {
   "cell_type": "markdown",
   "id": "c3583f85",
   "metadata": {
    "papermill": {
     "duration": 0.04306,
     "end_time": "2022-09-19T12:50:13.907209",
     "exception": false,
     "start_time": "2022-09-19T12:50:13.864149",
     "status": "completed"
    },
    "tags": []
   },
   "source": [
    "### np.vstack():\n",
    "- Stack arrays in sequence vertically (row wise).\n",
    "- **Syntax** <H4>numpy.vstack(tup)</H4>\n"
   ]
  },
  {
   "cell_type": "code",
   "execution_count": 99,
   "id": "9b235213",
   "metadata": {
    "execution": {
     "iopub.execute_input": "2022-09-19T12:50:13.998689Z",
     "iopub.status.busy": "2022-09-19T12:50:13.997299Z",
     "iopub.status.idle": "2022-09-19T12:50:14.006908Z",
     "shell.execute_reply": "2022-09-19T12:50:14.004822Z"
    },
    "papermill": {
     "duration": 0.05862,
     "end_time": "2022-09-19T12:50:14.010253",
     "exception": false,
     "start_time": "2022-09-19T12:50:13.951633",
     "status": "completed"
    },
    "tags": []
   },
   "outputs": [
    {
     "name": "stdout",
     "output_type": "stream",
     "text": [
      "Joing array by:\n",
      " [[ 1  2  3  4]\n",
      " [ 5  6  7  8]\n",
      " [ 9 10 11 12]\n",
      " [13 14 15 16]\n",
      " [17 18 19 20]\n",
      " [21 22 23 24]\n",
      " [25 26 27 28]\n",
      " [29 30 31 32]] \n",
      "\n",
      "Dimention of array: 2\n"
     ]
    }
   ],
   "source": [
    "print(\"Joing array by:\\n\",np.vstack((sample,sample1)),\"\\n\\nDimention of array:\",np.vstack((sample,sample1)).ndim)"
   ]
  },
  {
   "cell_type": "code",
   "execution_count": 100,
   "id": "b04afb8b",
   "metadata": {
    "execution": {
     "iopub.execute_input": "2022-09-19T12:50:14.099630Z",
     "iopub.status.busy": "2022-09-19T12:50:14.099193Z",
     "iopub.status.idle": "2022-09-19T12:50:14.107409Z",
     "shell.execute_reply": "2022-09-19T12:50:14.105894Z"
    },
    "papermill": {
     "duration": 0.05559,
     "end_time": "2022-09-19T12:50:14.110515",
     "exception": false,
     "start_time": "2022-09-19T12:50:14.054925",
     "status": "completed"
    },
    "tags": []
   },
   "outputs": [
    {
     "name": "stdout",
     "output_type": "stream",
     "text": [
      "Sample 3-D:\n",
      " [[[ 1  2  3]\n",
      "  [ 4  5  6]\n",
      "  [ 7  8  9]]\n",
      "\n",
      " [[10 11 12]\n",
      "  [13 14 15]\n",
      "  [16 17 18]]\n",
      "\n",
      " [[19 20 21]\n",
      "  [22 23 24]\n",
      "  [25 26 27]]]\n",
      "\n",
      "Sample 2 3-D:\n",
      " [[[28 29 30]\n",
      "  [31 32 33]\n",
      "  [34 35 36]]\n",
      "\n",
      " [[37 38 39]\n",
      "  [40 41 42]\n",
      "  [43 44 45]]\n",
      "\n",
      " [[46 47 48]\n",
      "  [49 50 51]\n",
      "  [52 53 54]]]\n"
     ]
    }
   ],
   "source": [
    "d31=np.arange(1,28).reshape(3,3,3)\n",
    "d32=np.arange(28,55).reshape(3,3,3)\n",
    "print(\"Sample 3-D:\\n\",d31)\n",
    "print()\n",
    "print(\"Sample 2 3-D:\\n\",d32)\n",
    "\n"
   ]
  },
  {
   "cell_type": "code",
   "execution_count": 101,
   "id": "57041a73",
   "metadata": {
    "execution": {
     "iopub.execute_input": "2022-09-19T12:50:14.199554Z",
     "iopub.status.busy": "2022-09-19T12:50:14.198194Z",
     "iopub.status.idle": "2022-09-19T12:50:14.206929Z",
     "shell.execute_reply": "2022-09-19T12:50:14.204992Z"
    },
    "papermill": {
     "duration": 0.056281,
     "end_time": "2022-09-19T12:50:14.209822",
     "exception": false,
     "start_time": "2022-09-19T12:50:14.153541",
     "status": "completed"
    },
    "tags": []
   },
   "outputs": [
    {
     "name": "stdout",
     "output_type": "stream",
     "text": [
      "Joing array by:\n",
      " [[[ 1  2  3]\n",
      "  [ 4  5  6]\n",
      "  [ 7  8  9]]\n",
      "\n",
      " [[10 11 12]\n",
      "  [13 14 15]\n",
      "  [16 17 18]]\n",
      "\n",
      " [[19 20 21]\n",
      "  [22 23 24]\n",
      "  [25 26 27]]\n",
      "\n",
      " [[28 29 30]\n",
      "  [31 32 33]\n",
      "  [34 35 36]]\n",
      "\n",
      " [[37 38 39]\n",
      "  [40 41 42]\n",
      "  [43 44 45]]\n",
      "\n",
      " [[46 47 48]\n",
      "  [49 50 51]\n",
      "  [52 53 54]]] \n",
      "\n",
      "Dimention of array: 3\n"
     ]
    }
   ],
   "source": [
    "print(\"Joing array by:\\n\",np.vstack((d31,d32)),\"\\n\\nDimention of array:\",np.vstack((d31,d32)).ndim)"
   ]
  },
  {
   "cell_type": "markdown",
   "id": "dfce4ede",
   "metadata": {
    "papermill": {
     "duration": 0.042723,
     "end_time": "2022-09-19T12:50:14.295650",
     "exception": false,
     "start_time": "2022-09-19T12:50:14.252927",
     "status": "completed"
    },
    "tags": []
   },
   "source": [
    "### np.hstack():\n",
    "- Stack arrays in sequence horizontally (column wise).\n",
    "- **Syntax** <H4>numpy.hstack(tup)[source]</H4>\n"
   ]
  },
  {
   "cell_type": "code",
   "execution_count": 102,
   "id": "d06f4fb0",
   "metadata": {
    "execution": {
     "iopub.execute_input": "2022-09-19T12:50:14.384256Z",
     "iopub.status.busy": "2022-09-19T12:50:14.383798Z",
     "iopub.status.idle": "2022-09-19T12:50:14.390446Z",
     "shell.execute_reply": "2022-09-19T12:50:14.389315Z"
    },
    "papermill": {
     "duration": 0.054656,
     "end_time": "2022-09-19T12:50:14.393335",
     "exception": false,
     "start_time": "2022-09-19T12:50:14.338679",
     "status": "completed"
    },
    "tags": []
   },
   "outputs": [
    {
     "name": "stdout",
     "output_type": "stream",
     "text": [
      "Joing array by:\n",
      " [[ 1  2  3  4 17 18 19 20]\n",
      " [ 5  6  7  8 21 22 23 24]\n",
      " [ 9 10 11 12 25 26 27 28]\n",
      " [13 14 15 16 29 30 31 32]] \n",
      "\n",
      "Dimention of array: 2\n"
     ]
    }
   ],
   "source": [
    "print(\"Joing array by:\\n\",np.hstack((sample,sample1)),\"\\n\\nDimention of array:\",np.hstack((sample,sample1)).ndim)"
   ]
  },
  {
   "cell_type": "code",
   "execution_count": 103,
   "id": "7566001c",
   "metadata": {
    "execution": {
     "iopub.execute_input": "2022-09-19T12:50:14.487189Z",
     "iopub.status.busy": "2022-09-19T12:50:14.486154Z",
     "iopub.status.idle": "2022-09-19T12:50:14.493525Z",
     "shell.execute_reply": "2022-09-19T12:50:14.492179Z"
    },
    "papermill": {
     "duration": 0.057245,
     "end_time": "2022-09-19T12:50:14.496681",
     "exception": false,
     "start_time": "2022-09-19T12:50:14.439436",
     "status": "completed"
    },
    "tags": []
   },
   "outputs": [
    {
     "name": "stdout",
     "output_type": "stream",
     "text": [
      "Joing array by:\n",
      " [[[ 1  2  3]\n",
      "  [ 4  5  6]\n",
      "  [ 7  8  9]\n",
      "  [28 29 30]\n",
      "  [31 32 33]\n",
      "  [34 35 36]]\n",
      "\n",
      " [[10 11 12]\n",
      "  [13 14 15]\n",
      "  [16 17 18]\n",
      "  [37 38 39]\n",
      "  [40 41 42]\n",
      "  [43 44 45]]\n",
      "\n",
      " [[19 20 21]\n",
      "  [22 23 24]\n",
      "  [25 26 27]\n",
      "  [46 47 48]\n",
      "  [49 50 51]\n",
      "  [52 53 54]]] \n",
      "\n",
      "Dimention of array: 3\n"
     ]
    }
   ],
   "source": [
    "print(\"Joing array by:\\n\",np.hstack((d31,d32)),\"\\n\\nDimention of array:\",np.hstack((d31,d32)).ndim)"
   ]
  },
  {
   "cell_type": "markdown",
   "id": "a128dd73",
   "metadata": {
    "papermill": {
     "duration": 0.044362,
     "end_time": "2022-09-19T12:50:14.588309",
     "exception": false,
     "start_time": "2022-09-19T12:50:14.543947",
     "status": "completed"
    },
    "tags": []
   },
   "source": [
    "### np.dstack():\n",
    "- Stack arrays in sequence depth wise (along third axis).\n",
    "- **Syntax** <h4>numpy.dstack(tup)[source]</h4>"
   ]
  },
  {
   "cell_type": "code",
   "execution_count": 104,
   "id": "7abc24ce",
   "metadata": {
    "execution": {
     "iopub.execute_input": "2022-09-19T12:50:14.680719Z",
     "iopub.status.busy": "2022-09-19T12:50:14.680288Z",
     "iopub.status.idle": "2022-09-19T12:50:14.687680Z",
     "shell.execute_reply": "2022-09-19T12:50:14.685886Z"
    },
    "papermill": {
     "duration": 0.057767,
     "end_time": "2022-09-19T12:50:14.691016",
     "exception": false,
     "start_time": "2022-09-19T12:50:14.633249",
     "status": "completed"
    },
    "tags": []
   },
   "outputs": [
    {
     "name": "stdout",
     "output_type": "stream",
     "text": [
      "Joing array by:\n",
      " [[[ 1 17]\n",
      "  [ 2 18]\n",
      "  [ 3 19]\n",
      "  [ 4 20]]\n",
      "\n",
      " [[ 5 21]\n",
      "  [ 6 22]\n",
      "  [ 7 23]\n",
      "  [ 8 24]]\n",
      "\n",
      " [[ 9 25]\n",
      "  [10 26]\n",
      "  [11 27]\n",
      "  [12 28]]\n",
      "\n",
      " [[13 29]\n",
      "  [14 30]\n",
      "  [15 31]\n",
      "  [16 32]]] \n",
      "\n",
      "Dimention of array: 3\n"
     ]
    }
   ],
   "source": [
    "print(\"Joing array by:\\n\",np.dstack((sample,sample1)),\"\\n\\nDimention of array:\",np.dstack((sample,sample1)).ndim)"
   ]
  },
  {
   "cell_type": "code",
   "execution_count": 105,
   "id": "4d2f2b9b",
   "metadata": {
    "execution": {
     "iopub.execute_input": "2022-09-19T12:50:14.783739Z",
     "iopub.status.busy": "2022-09-19T12:50:14.783256Z",
     "iopub.status.idle": "2022-09-19T12:50:14.791286Z",
     "shell.execute_reply": "2022-09-19T12:50:14.789757Z"
    },
    "papermill": {
     "duration": 0.058118,
     "end_time": "2022-09-19T12:50:14.793729",
     "exception": false,
     "start_time": "2022-09-19T12:50:14.735611",
     "status": "completed"
    },
    "tags": []
   },
   "outputs": [
    {
     "name": "stdout",
     "output_type": "stream",
     "text": [
      "Joing array by:\n",
      " [[[ 1  2  3 28 29 30]\n",
      "  [ 4  5  6 31 32 33]\n",
      "  [ 7  8  9 34 35 36]]\n",
      "\n",
      " [[10 11 12 37 38 39]\n",
      "  [13 14 15 40 41 42]\n",
      "  [16 17 18 43 44 45]]\n",
      "\n",
      " [[19 20 21 46 47 48]\n",
      "  [22 23 24 49 50 51]\n",
      "  [25 26 27 52 53 54]]] \n",
      "\n",
      "Dimention of array: 3\n"
     ]
    }
   ],
   "source": [
    "print(\"Joing array by:\\n\",np.dstack((d31,d32)),\"\\n\\nDimention of array:\",np.dstack((d31,d32)).ndim)"
   ]
  },
  {
   "cell_type": "markdown",
   "id": "6a7de5ff",
   "metadata": {
    "papermill": {
     "duration": 0.043301,
     "end_time": "2022-09-19T12:50:14.881678",
     "exception": false,
     "start_time": "2022-09-19T12:50:14.838377",
     "status": "completed"
    },
    "tags": []
   },
   "source": [
    "## 3.Spliting of array:\n",
    "### np.split():\n",
    "- Split an array into multiple sub-arrays as views into ary.\n",
    "- **Syntax** <h4>numpy.split(ary, indices_or_sections, axis=0)[source]</h4>\n",
    "\n",
    "    - **array_split**\n",
    "    \n",
    "    Split an array into multiple sub-arrays of equal or near-equal size. Does not raise an exception if an equal division cannot be made.\n",
    "    - **hsplit**\n",
    "    \n",
    "    Split array into multiple sub-arrays horizontally (column-wise).\n",
    "    - **vsplit**\n",
    "    \n",
    "    Split array into multiple sub-arrays vertically (row wise).\n",
    "    - **dsplit**\n",
    "    \n",
    "    Split array into multiple sub-arrays along the 3rd axis (depth).\n"
   ]
  },
  {
   "cell_type": "code",
   "execution_count": 106,
   "id": "8dbeb1ed",
   "metadata": {
    "execution": {
     "iopub.execute_input": "2022-09-19T12:50:14.972294Z",
     "iopub.status.busy": "2022-09-19T12:50:14.971838Z",
     "iopub.status.idle": "2022-09-19T12:50:14.979498Z",
     "shell.execute_reply": "2022-09-19T12:50:14.978234Z"
    },
    "papermill": {
     "duration": 0.056943,
     "end_time": "2022-09-19T12:50:14.982256",
     "exception": false,
     "start_time": "2022-09-19T12:50:14.925313",
     "status": "completed"
    },
    "tags": []
   },
   "outputs": [
    {
     "name": "stdout",
     "output_type": "stream",
     "text": [
      "Spliting the array:\n",
      " [array([[[1, 2, 3],\n",
      "        [4, 5, 6],\n",
      "        [7, 8, 9]]]), array([[[10, 11, 12],\n",
      "        [13, 14, 15],\n",
      "        [16, 17, 18]]]), array([[[19, 20, 21],\n",
      "        [22, 23, 24],\n",
      "        [25, 26, 27]]])]\n",
      "Type of array after sliting: <class 'list'>\n"
     ]
    }
   ],
   "source": [
    "print(\"Spliting the array:\\n\",np.split(d31,3))\n",
    "print(\"Type of array after sliting:\",type(np.split(d31,3)))"
   ]
  },
  {
   "cell_type": "code",
   "execution_count": 107,
   "id": "16cc9379",
   "metadata": {
    "execution": {
     "iopub.execute_input": "2022-09-19T12:50:15.073870Z",
     "iopub.status.busy": "2022-09-19T12:50:15.072813Z",
     "iopub.status.idle": "2022-09-19T12:50:15.080334Z",
     "shell.execute_reply": "2022-09-19T12:50:15.078871Z"
    },
    "papermill": {
     "duration": 0.055273,
     "end_time": "2022-09-19T12:50:15.082931",
     "exception": false,
     "start_time": "2022-09-19T12:50:15.027658",
     "status": "completed"
    },
    "tags": []
   },
   "outputs": [
    {
     "name": "stdout",
     "output_type": "stream",
     "text": [
      "Spliting the array:\n",
      " [array([[1, 2, 3, 4],\n",
      "       [5, 6, 7, 8]]), array([[ 9, 10, 11, 12],\n",
      "       [13, 14, 15, 16]])]\n",
      "Type of array after sliting: <class 'list'>\n"
     ]
    }
   ],
   "source": [
    "print(\"Spliting the array:\\n\",np.split(sample,2))\n",
    "print(\"Type of array after sliting:\",type(np.split(sample,2)))"
   ]
  },
  {
   "cell_type": "code",
   "execution_count": 108,
   "id": "79027126",
   "metadata": {
    "execution": {
     "iopub.execute_input": "2022-09-19T12:50:15.172968Z",
     "iopub.status.busy": "2022-09-19T12:50:15.171524Z",
     "iopub.status.idle": "2022-09-19T12:50:15.179394Z",
     "shell.execute_reply": "2022-09-19T12:50:15.177945Z"
    },
    "papermill": {
     "duration": 0.055106,
     "end_time": "2022-09-19T12:50:15.181683",
     "exception": false,
     "start_time": "2022-09-19T12:50:15.126577",
     "status": "completed"
    },
    "tags": []
   },
   "outputs": [
    {
     "name": "stdout",
     "output_type": "stream",
     "text": [
      "Spliting the array and value at 0:\n",
      " [[1 2 3 4]\n",
      " [5 6 7 8]]\n",
      "Spliting the array and value at 1:\n",
      " [[ 9 10 11 12]\n",
      " [13 14 15 16]]\n"
     ]
    }
   ],
   "source": [
    "list1=np.split(sample,2)\n",
    "print(\"Spliting the array and value at 0:\\n\",list1[0])\n",
    "print(\"Spliting the array and value at 1:\\n\",list1[1])"
   ]
  },
  {
   "cell_type": "code",
   "execution_count": 109,
   "id": "fb89a280",
   "metadata": {
    "execution": {
     "iopub.execute_input": "2022-09-19T12:50:15.271502Z",
     "iopub.status.busy": "2022-09-19T12:50:15.271016Z",
     "iopub.status.idle": "2022-09-19T12:50:15.278264Z",
     "shell.execute_reply": "2022-09-19T12:50:15.277047Z"
    },
    "papermill": {
     "duration": 0.055037,
     "end_time": "2022-09-19T12:50:15.280622",
     "exception": false,
     "start_time": "2022-09-19T12:50:15.225585",
     "status": "completed"
    },
    "tags": []
   },
   "outputs": [
    {
     "name": "stdout",
     "output_type": "stream",
     "text": [
      "Spliting the array and value at 0:\n",
      " [[[1 2 3]\n",
      "  [4 5 6]\n",
      "  [7 8 9]]]\n",
      "Spliting the array and value at 1:\n",
      " [[[10 11 12]\n",
      "  [13 14 15]\n",
      "  [16 17 18]]]\n",
      "Spliting the array and value at 2:\n",
      " [[[19 20 21]\n",
      "  [22 23 24]\n",
      "  [25 26 27]]]\n"
     ]
    }
   ],
   "source": [
    "list1=np.split(d31,3)\n",
    "print(\"Spliting the array and value at 0:\\n\",list1[0])\n",
    "print(\"Spliting the array and value at 1:\\n\",list1[1])\n",
    "print(\"Spliting the array and value at 2:\\n\",list1[2])"
   ]
  },
  {
   "cell_type": "markdown",
   "id": "cafc5721",
   "metadata": {
    "papermill": {
     "duration": 0.043386,
     "end_time": "2022-09-19T12:50:15.368414",
     "exception": false,
     "start_time": "2022-09-19T12:50:15.325028",
     "status": "completed"
    },
    "tags": []
   },
   "source": [
    "### np.array_split():\n",
    "- Split an array into multiple sub-arrays.\n",
    "- **Syntax** <h4>numpy.array_split(ary, indices_or_sections, axis=0)</h4>"
   ]
  },
  {
   "cell_type": "code",
   "execution_count": 110,
   "id": "5e89c1d4",
   "metadata": {
    "execution": {
     "iopub.execute_input": "2022-09-19T12:50:15.458839Z",
     "iopub.status.busy": "2022-09-19T12:50:15.458336Z",
     "iopub.status.idle": "2022-09-19T12:50:15.466245Z",
     "shell.execute_reply": "2022-09-19T12:50:15.464786Z"
    },
    "papermill": {
     "duration": 0.056094,
     "end_time": "2022-09-19T12:50:15.468624",
     "exception": false,
     "start_time": "2022-09-19T12:50:15.412530",
     "status": "completed"
    },
    "tags": []
   },
   "outputs": [
    {
     "name": "stdout",
     "output_type": "stream",
     "text": [
      "Spliting the array and value at 0:\n",
      " [[[1 2 3]\n",
      "  [4 5 6]\n",
      "  [7 8 9]]]\n",
      "Spliting the array and value at 1:\n",
      " [[[10 11 12]\n",
      "  [13 14 15]\n",
      "  [16 17 18]]]\n",
      "Spliting the array and value at 2:\n",
      " [[[19 20 21]\n",
      "  [22 23 24]\n",
      "  [25 26 27]]]\n"
     ]
    }
   ],
   "source": [
    "list1=np.array_split(d31,3)\n",
    "print(\"Spliting the array and value at 0:\\n\",list1[0])\n",
    "print(\"Spliting the array and value at 1:\\n\",list1[1])\n",
    "print(\"Spliting the array and value at 2:\\n\",list1[2])"
   ]
  },
  {
   "cell_type": "code",
   "execution_count": 111,
   "id": "66493903",
   "metadata": {
    "execution": {
     "iopub.execute_input": "2022-09-19T12:50:15.559080Z",
     "iopub.status.busy": "2022-09-19T12:50:15.558581Z",
     "iopub.status.idle": "2022-09-19T12:50:15.567406Z",
     "shell.execute_reply": "2022-09-19T12:50:15.565558Z"
    },
    "papermill": {
     "duration": 0.05755,
     "end_time": "2022-09-19T12:50:15.569902",
     "exception": false,
     "start_time": "2022-09-19T12:50:15.512352",
     "status": "completed"
    },
    "tags": []
   },
   "outputs": [
    {
     "name": "stdout",
     "output_type": "stream",
     "text": [
      "[array([[[ 1,  2,  3]],\n",
      "\n",
      "       [[10, 11, 12]],\n",
      "\n",
      "       [[19, 20, 21]]]), array([[[ 4,  5,  6]],\n",
      "\n",
      "       [[13, 14, 15]],\n",
      "\n",
      "       [[22, 23, 24]]]), array([[[ 7,  8,  9]],\n",
      "\n",
      "       [[16, 17, 18]],\n",
      "\n",
      "       [[25, 26, 27]]])]\n",
      "\n",
      "Spliting the array and value at 0:\n",
      " [[[ 1  2  3]]\n",
      "\n",
      " [[10 11 12]]\n",
      "\n",
      " [[19 20 21]]]\n",
      "Spliting the array and value at 1:\n",
      " [[[ 4  5  6]]\n",
      "\n",
      " [[13 14 15]]\n",
      "\n",
      " [[22 23 24]]]\n",
      "Spliting the array and value at 2:\n",
      " [[[ 7  8  9]]\n",
      "\n",
      " [[16 17 18]]\n",
      "\n",
      " [[25 26 27]]]\n"
     ]
    }
   ],
   "source": [
    "list1=np.array_split(d31,3,axis=1)\n",
    "print(list1)\n",
    "print(\"\\nSpliting the array and value at 0:\\n\",list1[0])\n",
    "print(\"Spliting the array and value at 1:\\n\",list1[1])\n",
    "print(\"Spliting the array and value at 2:\\n\",list1[2])"
   ]
  },
  {
   "cell_type": "code",
   "execution_count": 112,
   "id": "f2f21dc9",
   "metadata": {
    "execution": {
     "iopub.execute_input": "2022-09-19T12:50:15.661443Z",
     "iopub.status.busy": "2022-09-19T12:50:15.660553Z",
     "iopub.status.idle": "2022-09-19T12:50:15.669543Z",
     "shell.execute_reply": "2022-09-19T12:50:15.667912Z"
    },
    "papermill": {
     "duration": 0.058394,
     "end_time": "2022-09-19T12:50:15.672368",
     "exception": false,
     "start_time": "2022-09-19T12:50:15.613974",
     "status": "completed"
    },
    "tags": []
   },
   "outputs": [
    {
     "name": "stdout",
     "output_type": "stream",
     "text": [
      "[array([[[ 1],\n",
      "        [ 4],\n",
      "        [ 7]],\n",
      "\n",
      "       [[10],\n",
      "        [13],\n",
      "        [16]],\n",
      "\n",
      "       [[19],\n",
      "        [22],\n",
      "        [25]]]), array([[[ 2],\n",
      "        [ 5],\n",
      "        [ 8]],\n",
      "\n",
      "       [[11],\n",
      "        [14],\n",
      "        [17]],\n",
      "\n",
      "       [[20],\n",
      "        [23],\n",
      "        [26]]]), array([[[ 3],\n",
      "        [ 6],\n",
      "        [ 9]],\n",
      "\n",
      "       [[12],\n",
      "        [15],\n",
      "        [18]],\n",
      "\n",
      "       [[21],\n",
      "        [24],\n",
      "        [27]]])]\n",
      "\n",
      "Spliting the array and value at 0:\n",
      " [[[ 1]\n",
      "  [ 4]\n",
      "  [ 7]]\n",
      "\n",
      " [[10]\n",
      "  [13]\n",
      "  [16]]\n",
      "\n",
      " [[19]\n",
      "  [22]\n",
      "  [25]]] <class 'numpy.ndarray'>\n",
      "\n",
      "Spliting the array and value at 1:\n",
      " [[[ 2]\n",
      "  [ 5]\n",
      "  [ 8]]\n",
      "\n",
      " [[11]\n",
      "  [14]\n",
      "  [17]]\n",
      "\n",
      " [[20]\n",
      "  [23]\n",
      "  [26]]]\n",
      "\n",
      "Spliting the array and value at 2:\n",
      " [[[ 3]\n",
      "  [ 6]\n",
      "  [ 9]]\n",
      "\n",
      " [[12]\n",
      "  [15]\n",
      "  [18]]\n",
      "\n",
      " [[21]\n",
      "  [24]\n",
      "  [27]]]\n"
     ]
    }
   ],
   "source": [
    "list1=np.array_split(d31,3,axis=2)\n",
    "print(list1)\n",
    "print(\"\\nSpliting the array and value at 0:\\n\",list1[0],type(list1[0]))\n",
    "print(\"\\nSpliting the array and value at 1:\\n\",list1[1])\n",
    "print(\"\\nSpliting the array and value at 2:\\n\",list1[2])"
   ]
  },
  {
   "cell_type": "markdown",
   "id": "51ac0182",
   "metadata": {
    "execution": {
     "iopub.execute_input": "2022-09-19T12:47:38.354380Z",
     "iopub.status.busy": "2022-09-19T12:47:38.353964Z",
     "iopub.status.idle": "2022-09-19T12:47:38.361949Z",
     "shell.execute_reply": "2022-09-19T12:47:38.360446Z",
     "shell.execute_reply.started": "2022-09-19T12:47:38.354343Z"
    },
    "papermill": {
     "duration": 0.045434,
     "end_time": "2022-09-19T12:50:15.762166",
     "exception": false,
     "start_time": "2022-09-19T12:50:15.716732",
     "status": "completed"
    },
    "tags": []
   },
   "source": [
    "### np.vsplit()\n",
    "### np.hsplit()\n",
    "### np.dsplit()\n",
    "refer stack Practise"
   ]
  },
  {
   "cell_type": "code",
   "execution_count": 113,
   "id": "240d7cfc",
   "metadata": {
    "execution": {
     "iopub.execute_input": "2022-09-19T12:50:15.854886Z",
     "iopub.status.busy": "2022-09-19T12:50:15.854423Z",
     "iopub.status.idle": "2022-09-19T12:50:15.861163Z",
     "shell.execute_reply": "2022-09-19T12:50:15.859987Z"
    },
    "papermill": {
     "duration": 0.056447,
     "end_time": "2022-09-19T12:50:15.863668",
     "exception": false,
     "start_time": "2022-09-19T12:50:15.807221",
     "status": "completed"
    },
    "tags": []
   },
   "outputs": [
    {
     "name": "stdout",
     "output_type": "stream",
     "text": [
      "[array([1, 2]), array([3, 4, 5]), array([6, 7, 8]), array([9, 0])]\n"
     ]
    }
   ],
   "source": [
    "d1=np.array([1,2,3,4,5,6,7,8,9,0])\n",
    "print(np.split(d1,[2,5,8]))  #first 0to 1index ,after 2,3,4 index & then 5,6,7 and when not give any value it will asign last "
   ]
  },
  {
   "cell_type": "code",
   "execution_count": null,
   "id": "cdc8f851",
   "metadata": {
    "papermill": {
     "duration": 0.043546,
     "end_time": "2022-09-19T12:50:15.951368",
     "exception": false,
     "start_time": "2022-09-19T12:50:15.907822",
     "status": "completed"
    },
    "tags": []
   },
   "outputs": [],
   "source": []
  }
 ],
 "metadata": {
  "kernelspec": {
   "display_name": "Python 3",
   "language": "python",
   "name": "python3"
  },
  "language_info": {
   "codemirror_mode": {
    "name": "ipython",
    "version": 3
   },
   "file_extension": ".py",
   "mimetype": "text/x-python",
   "name": "python",
   "nbconvert_exporter": "python",
   "pygments_lexer": "ipython3",
   "version": "3.7.12"
  },
  "papermill": {
   "default_parameters": {},
   "duration": 27.354794,
   "end_time": "2022-09-19T12:50:16.719721",
   "environment_variables": {},
   "exception": null,
   "input_path": "__notebook__.ipynb",
   "output_path": "__notebook__.ipynb",
   "parameters": {},
   "start_time": "2022-09-19T12:49:49.364927",
   "version": "2.3.4"
  }
 },
 "nbformat": 4,
 "nbformat_minor": 5
}
