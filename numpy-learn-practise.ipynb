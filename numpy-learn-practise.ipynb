{
 "cells": [
  {
   "cell_type": "code",
   "execution_count": 1,
   "id": "744918f7",
   "metadata": {
    "_cell_guid": "b1076dfc-b9ad-4769-8c92-a6c4dae69d19",
    "_uuid": "8f2839f25d086af736a60e9eeb907d3b93b6e0e5",
    "execution": {
     "iopub.execute_input": "2022-09-19T19:39:02.245538Z",
     "iopub.status.busy": "2022-09-19T19:39:02.244761Z",
     "iopub.status.idle": "2022-09-19T19:39:02.256936Z",
     "shell.execute_reply": "2022-09-19T19:39:02.255869Z"
    },
    "papermill": {
     "duration": 0.061392,
     "end_time": "2022-09-19T19:39:02.259525",
     "exception": false,
     "start_time": "2022-09-19T19:39:02.198133",
     "status": "completed"
    },
    "tags": []
   },
   "outputs": [],
   "source": [
    "# This Python 3 environment comes with many helpful analytics libraries installed\n",
    "# It is defined by the kaggle/python Docker image: https://github.com/kaggle/docker-python\n",
    "# For example, here's several helpful packages to load\n",
    "\n",
    "import numpy as np # linear algebra\n",
    "import pandas as pd # data processing, CSV file I/O (e.g. pd.read_csv)\n",
    "\n",
    "# Input data files are available in the read-only \"../input/\" directory\n",
    "# For example, running this (by clicking run or pressing Shift+Enter) will list all files under the input directory\n",
    "\n",
    "import os\n",
    "for dirname, _, filenames in os.walk('/kaggle/input'):\n",
    "    for filename in filenames:\n",
    "        print(os.path.join(dirname, filename))\n",
    "\n",
    "# You can write up to 20GB to the current directory (/kaggle/working/) that gets preserved as output when you create a version using \"Save & Run All\" \n",
    "# You can also write temporary files to /kaggle/temp/, but they won't be saved outside of the current session"
   ]
  },
  {
   "cell_type": "markdown",
   "id": "bfdd25d9",
   "metadata": {
    "papermill": {
     "duration": 0.039399,
     "end_time": "2022-09-19T19:39:02.340025",
     "exception": false,
     "start_time": "2022-09-19T19:39:02.300626",
     "status": "completed"
    },
    "tags": []
   },
   "source": [
    "<p><strong>NumPy Basics</strong></p>\n",
    "<div class=\"table-responsive\">\n",
    "<table class=\"table table-bordered\">\n",
    "<tbody><tr>\n",
    "<th>Operator</th>\n",
    "<th>Description</th>\n",
    "</tr>\n",
    "<tr>\n",
    "<td>np.array([1,2,3])</td>\n",
    "<td>1d array</td>\n",
    "</tr>\n",
    "<tr>\n",
    "<td>np.array([(1,2,3),(4,5,6)])\t</td>\n",
    "<td>2d array</td>\n",
    "</tr>\n",
    "<tr>\n",
    "<td>np.arange(start,stop,step)</td>\n",
    "<td>range array</td>\n",
    "</tr>\n",
    "</tbody></table></div>\n",
    "<p><strong>Placeholders</strong></p>\n",
    "<div class=\"table-responsive\">\n",
    "<table class=\"table table-bordered\">\n",
    "<tbody><tr>\n",
    "<th>Operator</th>\n",
    "<th>Description</th>\n",
    "</tr>\n",
    "<tr>\n",
    "<td>np.linspace(0,2,9)</td>\n",
    "<td>Add evenly spaced values btw interval to array of length</td>\n",
    "</tr>\n",
    "<tr>\n",
    "<td>np.zeros((1,2))</td>\n",
    "<td>Create and array filled with zeros</td>\n",
    "</tr>\n",
    "<tr>\n",
    "<td>np.ones((1,2))</td>\n",
    "<td>Creates an array filled with ones</td>\n",
    "</tr>\n",
    "<tr>\n",
    "<td>np.random.random((5,5))</td>\n",
    "<td>Creates random array</td>\n",
    "</tr>\n",
    "<tr>\n",
    "<td>np.empty((2,2))</td>\n",
    "<td>Creates an empty array</td>\n",
    "</tr>\n",
    "</tbody></table></div>\n",
    "<p><strong>Array</strong></p>\n",
    "<div class=\"table-responsive\">\n",
    "<table class=\"table table-bordered\">\n",
    "<tbody><tr>\n",
    "<th>Syntax</th>\n",
    "<th>Description</th>\n",
    "</tr>\n",
    "<tr>\n",
    "<td>array.shape</td>\n",
    "<td>Dimensions (Rows,Columns)</td>\n",
    "</tr>\n",
    "<tr>\n",
    "<td>len(array)</td>\n",
    "<td>Length of Array</td>\n",
    "</tr>\n",
    "<tr>\n",
    "<td>array.ndim</td>\n",
    "<td>Number of Array Dimensions</td>\n",
    "</tr>\n",
    "<tr>\n",
    "<td>array.dtype</td>\n",
    "<td>Data Type</td>\n",
    "</tr>\n",
    "<tr>\n",
    "<td>array.astype(type)</td>\n",
    "<td>Converts to Data Type</td>\n",
    "</tr>\n",
    "<tr>\n",
    "<td>type(array)</td>\n",
    "<td>Type of Array</td>\n",
    "</tr>\n",
    "</tbody></table></div>\n",
    "<img src=\"https://www.w3resource.com/w3r_images/numpy-array-xyz-axis.png\" alt=\"NumPy: numpy array axis\" style=\"max-width:100%;display:block;height:auto;border: 2px solid silver;\"><br>\n",
    "<p><strong>Copying/Sorting</strong></p>\n",
    "<div class=\"table-responsive\">\n",
    "<table class=\"table table-bordered\">\n",
    "<tbody><tr>\n",
    "<th>Operators</th>\n",
    "<th>Description</th>\n",
    "</tr>\n",
    "<tr>\n",
    "<td>np.copy(array)</td>\n",
    "<td>Creates copy of array</td>\n",
    "</tr>\n",
    "<tr>\n",
    "<td>other = array.copy()</td>\n",
    "<td>Creates deep copy of array</td>\n",
    "</tr>\n",
    "<tr>\n",
    "<td>array.sort()</td>\n",
    "<td>Sorts an array</td>\n",
    "</tr>\n",
    "<tr>\n",
    "<td>array.sort(axis=0)</td>\n",
    "<td>Sorts axis of array</td>\n",
    "</tr>\n",
    "</tbody></table></div>\n",
    "<p><strong>Array Manipulation</strong></p>\n",
    "<p><strong>Adding or Removing Elements</strong></p>\n",
    "<div class=\"table-responsive\">\n",
    "<table class=\"table table-bordered\">\n",
    "<tbody><tr>\n",
    "<th>Operator</th>\n",
    "<th>Description</th>\n",
    "</tr>\n",
    "<tr>\n",
    "<td>np.append(a,b)</td>\n",
    "<td>Append items to array</td>\n",
    "</tr>\n",
    "<tr>\n",
    "<td>np.insert(array, 1, 2, axis)</td>\n",
    "<td>Insert items into array at axis 0 or 1</td>\n",
    "</tr>\n",
    "<tr>\n",
    "<td>np.resize((2,4))</td>\n",
    "<td>Resize array to shape(2,4)</td>\n",
    "</tr>\n",
    "<tr>\n",
    "<td>np.delete(array,1,axis)</td>\n",
    "<td>Deletes items from array</td>\n",
    "</tr>\n",
    "</tbody></table></div>\n",
    "<p><strong>Combining Arrays</strong></p>\n",
    "<div class=\"table-responsive\">\n",
    "<table class=\"table table-bordered\">\n",
    "<tbody><tr>\n",
    "<th>Operator</th>\n",
    "<th>Description</th>\n",
    "</tr>\n",
    "<tr>\n",
    "<td>np.concatenate((a,b),axis=0)</td>\n",
    "<td>Concatenates 2 arrays, adds to end</td>\n",
    "</tr>\n",
    "<tr>\n",
    "<td>np.vstack((a,b))</td>\n",
    "<td>Stack array row-wise</td>\n",
    "</tr>\n",
    "<tr>\n",
    "<td>np.hstack((a,b))</td>\n",
    "<td>Stack array column wise</td>\n",
    "</tr>\n",
    "</tbody></table></div>\n",
    "<p><strong>Splitting Arrays</strong></p>\n",
    "<div class=\"table-responsive\">\n",
    "<table class=\"table table-bordered\">\n",
    "<tbody><tr>\n",
    "<th>Operator</th>\n",
    "<th>Description</th>\n",
    "</tr>\n",
    "<tr>\n",
    "<td>numpy.split()</td>\n",
    "<td>Split an array into multiple sub-arrays.</td>\n",
    "</tr>\n",
    "<tr>\n",
    "<td>np.array_split(array, 3)</td>\n",
    "<td>Split an array in sub-arrays of (nearly) identical size</td>\n",
    "</tr>\n",
    "<tr>\n",
    "<td>numpy.hsplit(array, 3)</td>\n",
    "<td>Split the array horizontally at 3rd index</td>\n",
    "</tr>\n",
    "</tbody></table></div>\n",
    "<p><strong>More</strong></p>\n",
    "<div class=\"table-responsive\">\n",
    "<table class=\"table table-bordered\">\n",
    "<tbody><tr>\n",
    "<th>Operator</th>\n",
    "<th>Description</th>\n",
    "</tr>\n",
    "<tr>\n",
    "<td>other = ndarray.flatten()</td>\n",
    "<td>Flattens a 2d array to 1d</td>\n",
    "</tr>\n",
    "<tr>\n",
    "<td>array = np.transpose(other)<br>array.T</td>\n",
    "<td>Transpose array</td>\n",
    "</tr>\n",
    "<tr>\n",
    "<td>inverse = np.linalg.inv(matrix)</td>\n",
    "<td>Inverse of a given matrix</td>\n",
    "</tr>\n",
    "<tr>\n",
    "<td></td>\n",
    "<td></td>\n",
    "</tr>\n",
    "</tbody></table></div>\n",
    "<p><strong>Mathematics</strong></p>\n",
    "<p><strong>Operations</strong></p>\n",
    "<div class=\"table-responsive\">\n",
    "<table class=\"table table-bordered\">\n",
    "<tbody><tr>\n",
    "<th>Operator</th>\n",
    "<th>Description</th>\n",
    "</tr>\n",
    "<tr>\n",
    "<td>np.add(x,y)<br>x + y</td>\n",
    "<td>Addition</td>\n",
    "</tr>\n",
    "<tr>\n",
    "<td>np.substract(x,y)<br>x - y</td>\n",
    "<td>Subtraction</td>\n",
    "</tr>\n",
    "<tr>\n",
    "<td>np.divide(x,y)<br>x / y</td>\n",
    "<td>Division</td>\n",
    "</tr>\n",
    "<tr>\n",
    "<td>np.multiply(x,y)<br>x @ y</td>\n",
    "<td>Multiplication</td>\n",
    "</tr>\n",
    "<tr>\n",
    "<td>np.sqrt(x)</td>\n",
    "<td>Square Root</td>\n",
    "</tr>\n",
    "<tr>\n",
    "<td>np.sin(x)</td>\n",
    "<td>Element-wise sine</td>\n",
    "</tr>\n",
    "<tr>\n",
    "<td>np.cos(x)</td>\n",
    "<td>Element-wise cosine</td>\n",
    "</tr>\n",
    "<tr>\n",
    "<td>np.log(x)</td>\n",
    "<td>Element-wise natural log</td>\n",
    "</tr>\n",
    "<tr>\n",
    "<td>np.dot(x,y)</td>\n",
    "<td>Dot product</td>\n",
    "</tr>\n",
    "<tr>\n",
    "<td>np.roots([1,0,-4])</td>\n",
    "<td>Roots of a given polynomial coefficients</td>\n",
    "</tr>\n",
    "</tbody></table></div>\n",
    "<p><strong>Comparison</strong></p>\n",
    "<div class=\"table-responsive\">\n",
    "<table class=\"table table-bordered\">\n",
    "<tbody><tr>\n",
    "<th>Operator</th>\n",
    "<th>Description</th>\n",
    "</tr>\n",
    "<tr>\n",
    "<td>==</td>\n",
    "<td>Equal</td>\n",
    "</tr>\n",
    "<tr>\n",
    "<td>!=</td>\n",
    "<td>Not equal</td>\n",
    "</tr>\n",
    "<tr>\n",
    "<td>&lt;</td>\n",
    "<td>Smaller than</td>\n",
    "</tr>\n",
    "<tr>\n",
    "<td>&gt;</td>\n",
    "<td>Greater than</td>\n",
    "</tr>\n",
    "<tr>\n",
    "<td>&lt;=</td>\n",
    "<td>Smaller than or equal</td>\n",
    "</tr>\n",
    "<tr>\n",
    "<td>&gt;=</td>\n",
    "<td>Greater than or equal</td>\n",
    "</tr>\n",
    "<tr>\n",
    "<td>np.array_equal(x,y)</td>\n",
    "<td>Array-wise comparison</td>\n",
    "</tr>\n",
    "</tbody></table></div>\n",
    "<p><strong>Basic Statistics</strong></p>\n",
    "<div class=\"table-responsive\">\n",
    "<table class=\"table table-bordered\">\n",
    "<tbody><tr>\n",
    "<th>Operator</th>\n",
    "<th>Description</th>\n",
    "</tr>\n",
    "<tr>\n",
    "<td>np.mean(array)</td>\n",
    "<td>Mean</td>\n",
    "</tr>\n",
    "<tr>\n",
    "<td>np.median(array)</td>\n",
    "<td>Median</td>\n",
    "</tr>\n",
    "<tr>\n",
    "<td>array.corrcoef()</td>\n",
    "<td>Correlation Coefficient</td>\n",
    "</tr>\n",
    "<tr>\n",
    "<td>np.std(array)</td>\n",
    "<td>Standard Deviation</td>\n",
    "</tr>\n",
    "</tbody></table></div>\n",
    "<p><strong>More</strong></p>\n",
    "<div class=\"table-responsive\">\n",
    "<table class=\"table table-bordered\">\n",
    "<tbody><tr>\n",
    "<th>Operator</th>\n",
    "<th>Description</th>\n",
    "</tr>\n",
    "<tr>\n",
    "<td>array.sum()</td>\n",
    "<td>Array-wise sum</td>\n",
    "</tr>\n",
    "<tr>\n",
    "<td>array.min()</td>\n",
    "<td>Array-wise minimum value</td>\n",
    "</tr>\n",
    "<tr>\n",
    "<td>array.max(axis=0)</td>\n",
    "<td>Maximum value of specified axis</td>\n",
    "</tr>\n",
    "<tr>\n",
    "<td>array.cumsum(axis=0)</td>\n",
    "<td>Cumulative sum of specified axis</td>\n",
    "</tr>\n",
    "</tbody></table></div>\n",
    "<p><strong>Slicing and Subsetting</strong></p>\n",
    "<div class=\"table-responsive\">\n",
    "<table class=\"table table-bordered\">\n",
    "<tbody><tr>\n",
    "<th>Operator</th>\n",
    "<th>Description</th>\n",
    "</tr>\n",
    "<tr>\n",
    "<td>array[i]</td>\n",
    "<td>1d array at index i</td>\n",
    "</tr>\n",
    "<tr>\n",
    "<td>array[i,j]</td>\n",
    "<td>2d array at index[i][j]</td>\n",
    "</tr>\n",
    "<tr>\n",
    "<td>array[i&lt;4]</td>\n",
    "<td>Boolean Indexing, see Tricks</td>\n",
    "</tr>\n",
    "<tr>\n",
    "<td>array[0:3]</td>\n",
    "<td>Select items of index 0, 1 and 2</td>\n",
    "</tr>\n",
    "<tr>\n",
    "<td>array[0:2,1]</td>\n",
    "<td>Select items of rows 0 and 1 at column 1</td>\n",
    "</tr>\n",
    "<tr>\n",
    "<td>array[:1]</td>\n",
    "<td>Select items of row 0 (equals array[0:1, :])</td>\n",
    "</tr>\n",
    "<tr>\n",
    "<td>array[1:2, :]</td>\n",
    "<td>Select items of row 1</td>\n",
    "</tr>\n",
    "<tr>\n",
    "<td>[comment]: &lt;&gt; (</td>\n",
    "<td>array[1,...]</td>\n",
    "</tr>\n",
    "<tr>\n",
    "<td>array[ : :-1]</td>\n",
    "<td>Reverses array</td>\n",
    "</tr>\n",
    "</tbody></table></div>\n",
    "<p><strong>Importing/exporting</strong></p>\n",
    "<div class=\"table-responsive\">\n",
    "<table class=\"table table-bordered\">\n",
    "<tbody><tr>\n",
    "<th>Syntax</th>\n",
    "<th>Description</th>\n",
    "</tr>\n",
    "<tr>\n",
    "<td>np.loadtxt('file.txt')</td>\n",
    "<td>From a text file. </td>\n",
    "</tr>\n",
    "<tr>\n",
    "<td>np.genfromtxt('file.csv',delimiter=',') </td>\n",
    "<td>From a csv file.</td>\n",
    "</tr>\n",
    "<tr>\n",
    "<td>np.savetxt('file.txt',arr,delimiter=' ') </td>\n",
    "<td>Writes to a text file.</td>\n",
    "</tr>\n",
    "<tr>\n",
    "<td>np.savetxt('file.csv',arr,delimiter=',') </td>\n",
    "<td>Writes to a CSV file.</td>\n",
    "</tr>\n",
    "</tbody></table></div>"
   ]
  },
  {
   "cell_type": "markdown",
   "id": "3f78d140",
   "metadata": {
    "papermill": {
     "duration": 0.039613,
     "end_time": "2022-09-19T19:39:02.419363",
     "exception": false,
     "start_time": "2022-09-19T19:39:02.379750",
     "status": "completed"
    },
    "tags": []
   },
   "source": [
    "### Creating 1-D Array:"
   ]
  },
  {
   "cell_type": "code",
   "execution_count": 2,
   "id": "cde1d771",
   "metadata": {
    "execution": {
     "iopub.execute_input": "2022-09-19T19:39:02.501356Z",
     "iopub.status.busy": "2022-09-19T19:39:02.500600Z",
     "iopub.status.idle": "2022-09-19T19:39:02.508688Z",
     "shell.execute_reply": "2022-09-19T19:39:02.507410Z"
    },
    "papermill": {
     "duration": 0.05247,
     "end_time": "2022-09-19T19:39:02.511110",
     "exception": false,
     "start_time": "2022-09-19T19:39:02.458640",
     "status": "completed"
    },
    "tags": []
   },
   "outputs": [
    {
     "name": "stdout",
     "output_type": "stream",
     "text": [
      "This is 1-D array: [1 2 3 4 5]\n"
     ]
    }
   ],
   "source": [
    "arr1d=np.array([1,2,3,4,5])\n",
    "print(\"This is 1-D array:\",arr1d)"
   ]
  },
  {
   "cell_type": "markdown",
   "id": "3b48693a",
   "metadata": {
    "papermill": {
     "duration": 0.039561,
     "end_time": "2022-09-19T19:39:02.590528",
     "exception": false,
     "start_time": "2022-09-19T19:39:02.550967",
     "status": "completed"
    },
    "tags": []
   },
   "source": [
    "### Creating 2-D Array:"
   ]
  },
  {
   "cell_type": "code",
   "execution_count": 3,
   "id": "0638bd01",
   "metadata": {
    "execution": {
     "iopub.execute_input": "2022-09-19T19:39:02.672077Z",
     "iopub.status.busy": "2022-09-19T19:39:02.671679Z",
     "iopub.status.idle": "2022-09-19T19:39:02.678118Z",
     "shell.execute_reply": "2022-09-19T19:39:02.676818Z"
    },
    "papermill": {
     "duration": 0.050342,
     "end_time": "2022-09-19T19:39:02.680676",
     "exception": false,
     "start_time": "2022-09-19T19:39:02.630334",
     "status": "completed"
    },
    "tags": []
   },
   "outputs": [
    {
     "name": "stdout",
     "output_type": "stream",
     "text": [
      "This is 2-D array:\n",
      "\n",
      " [[1 2 3 4]\n",
      " [1 2 3 4]\n",
      " [1 2 3 4]]\n"
     ]
    }
   ],
   "source": [
    "arr2d=np.array([[1,2,3,4],\n",
    "                [1,2,3,4],\n",
    "                [1,2,3,4],\n",
    "               ])\n",
    "print(\"This is 2-D array:\\n\\n\",arr2d)"
   ]
  },
  {
   "cell_type": "markdown",
   "id": "aed67707",
   "metadata": {
    "papermill": {
     "duration": 0.039553,
     "end_time": "2022-09-19T19:39:02.760406",
     "exception": false,
     "start_time": "2022-09-19T19:39:02.720853",
     "status": "completed"
    },
    "tags": []
   },
   "source": [
    "### Creating 3-D or Multi-D Array:"
   ]
  },
  {
   "cell_type": "code",
   "execution_count": 4,
   "id": "d28245ad",
   "metadata": {
    "execution": {
     "iopub.execute_input": "2022-09-19T19:39:02.841750Z",
     "iopub.status.busy": "2022-09-19T19:39:02.841375Z",
     "iopub.status.idle": "2022-09-19T19:39:02.849021Z",
     "shell.execute_reply": "2022-09-19T19:39:02.847767Z"
    },
    "papermill": {
     "duration": 0.05245,
     "end_time": "2022-09-19T19:39:02.852458",
     "exception": false,
     "start_time": "2022-09-19T19:39:02.800008",
     "status": "completed"
    },
    "tags": []
   },
   "outputs": [
    {
     "name": "stdout",
     "output_type": "stream",
     "text": [
      "This is 3-D array:\n",
      "\n",
      " [[[1 2 3 4]\n",
      "  [1 2 3 4]\n",
      "  [1 2 3 4]]\n",
      "\n",
      " [[1 2 3 4]\n",
      "  [1 2 3 4]\n",
      "  [1 2 3 4]]\n",
      "\n",
      " [[1 2 3 4]\n",
      "  [1 2 3 4]\n",
      "  [1 2 3 4]]]\n"
     ]
    }
   ],
   "source": [
    "arr3d=np.array([[[1,2,3,4],\n",
    "                [1,2,3,4],\n",
    "                [1,2,3,4],\n",
    "               ],\n",
    "               [[1,2,3,4],\n",
    "                [1,2,3,4],\n",
    "                [1,2,3,4],\n",
    "               ],\n",
    "                [[1,2,3,4],\n",
    "                [1,2,3,4],\n",
    "                [1,2,3,4],\n",
    "               ]])\n",
    "print(\"This is 3-D array:\\n\\n\",arr3d)"
   ]
  },
  {
   "cell_type": "markdown",
   "id": "14007972",
   "metadata": {
    "papermill": {
     "duration": 0.040701,
     "end_time": "2022-09-19T19:39:02.934892",
     "exception": false,
     "start_time": "2022-09-19T19:39:02.894191",
     "status": "completed"
    },
    "tags": []
   },
   "source": [
    "### Use of type() function:\n",
    "- It will give the type of object.\n"
   ]
  },
  {
   "cell_type": "code",
   "execution_count": 5,
   "id": "52ee52a6",
   "metadata": {
    "execution": {
     "iopub.execute_input": "2022-09-19T19:39:03.016843Z",
     "iopub.status.busy": "2022-09-19T19:39:03.016379Z",
     "iopub.status.idle": "2022-09-19T19:39:03.022804Z",
     "shell.execute_reply": "2022-09-19T19:39:03.021488Z"
    },
    "papermill": {
     "duration": 0.049921,
     "end_time": "2022-09-19T19:39:03.024761",
     "exception": false,
     "start_time": "2022-09-19T19:39:02.974840",
     "status": "completed"
    },
    "tags": []
   },
   "outputs": [
    {
     "name": "stdout",
     "output_type": "stream",
     "text": [
      "type of array 1-D array: <class 'numpy.ndarray'>\n"
     ]
    }
   ],
   "source": [
    "print(\"type of array 1-D array:\",type(arr1d))"
   ]
  },
  {
   "cell_type": "markdown",
   "id": "abfb27fd",
   "metadata": {
    "papermill": {
     "duration": 0.039413,
     "end_time": "2022-09-19T19:39:03.103899",
     "exception": false,
     "start_time": "2022-09-19T19:39:03.064486",
     "status": "completed"
    },
    "tags": []
   },
   "source": [
    "### Use of ndim:\n",
    "- It will give the dimention of NumPy array."
   ]
  },
  {
   "cell_type": "code",
   "execution_count": 6,
   "id": "6b2c2eaf",
   "metadata": {
    "execution": {
     "iopub.execute_input": "2022-09-19T19:39:03.185324Z",
     "iopub.status.busy": "2022-09-19T19:39:03.184932Z",
     "iopub.status.idle": "2022-09-19T19:39:03.190480Z",
     "shell.execute_reply": "2022-09-19T19:39:03.189413Z"
    },
    "papermill": {
     "duration": 0.049276,
     "end_time": "2022-09-19T19:39:03.192844",
     "exception": false,
     "start_time": "2022-09-19T19:39:03.143568",
     "status": "completed"
    },
    "tags": []
   },
   "outputs": [
    {
     "name": "stdout",
     "output_type": "stream",
     "text": [
      "Dimention of Array arr1d:-> 1\n",
      "Dimention of Array arr2d:-> 2\n",
      "Dimention of Array arr3d:-> 3\n"
     ]
    }
   ],
   "source": [
    "print(\"Dimention of Array arr1d:->\",arr1d.ndim)\n",
    "print(\"Dimention of Array arr2d:->\",arr2d.ndim)\n",
    "print(\"Dimention of Array arr3d:->\",arr3d.ndim)"
   ]
  },
  {
   "cell_type": "markdown",
   "id": "c276292c",
   "metadata": {
    "papermill": {
     "duration": 0.03931,
     "end_time": "2022-09-19T19:39:03.271799",
     "exception": false,
     "start_time": "2022-09-19T19:39:03.232489",
     "status": "completed"
    },
    "tags": []
   },
   "source": [
    "### Use of shape:\n",
    "- It will give you shape of array."
   ]
  },
  {
   "cell_type": "code",
   "execution_count": 7,
   "id": "11056b6d",
   "metadata": {
    "execution": {
     "iopub.execute_input": "2022-09-19T19:39:03.352919Z",
     "iopub.status.busy": "2022-09-19T19:39:03.352548Z",
     "iopub.status.idle": "2022-09-19T19:39:03.358239Z",
     "shell.execute_reply": "2022-09-19T19:39:03.357068Z"
    },
    "papermill": {
     "duration": 0.049422,
     "end_time": "2022-09-19T19:39:03.361009",
     "exception": false,
     "start_time": "2022-09-19T19:39:03.311587",
     "status": "completed"
    },
    "tags": []
   },
   "outputs": [
    {
     "name": "stdout",
     "output_type": "stream",
     "text": [
      "Shape of array arr1d will be:  (5,)\n",
      "Shape of array qrr2d will be: (3, 4)\n",
      "Shape of array arr3d will be: (3, 3, 4)\n"
     ]
    }
   ],
   "source": [
    "print(\"Shape of array arr1d will be: \", arr1d.shape)\n",
    "print(\"Shape of array qrr2d will be:\", arr2d.shape)\n",
    "print(\"Shape of array arr3d will be:\", arr3d.shape)"
   ]
  },
  {
   "cell_type": "markdown",
   "id": "268e33f9",
   "metadata": {
    "papermill": {
     "duration": 0.039743,
     "end_time": "2022-09-19T19:39:03.440636",
     "exception": false,
     "start_time": "2022-09-19T19:39:03.400893",
     "status": "completed"
    },
    "tags": []
   },
   "source": [
    "*** \n",
    "### Data Types in Python\n",
    "- By default Python have these data types:\n",
    "    - strings - used to represent text data, the text is given under quote marks. e.g. \"ABCD\"\n",
    "    - integer - used to represent integer numbers. e.g. -1, -2, -3\n",
    "    - float - used to represent real numbers. e.g. 1.2, 42.42\n",
    "    - boolean - used to represent True or False.\n",
    "    - complex - used to represent complex numbers. e.g. 1.0 + 2.0j, 1.5 + 2.5j \n",
    "***"
   ]
  },
  {
   "cell_type": "markdown",
   "id": "82527c3a",
   "metadata": {
    "papermill": {
     "duration": 0.046307,
     "end_time": "2022-09-19T19:39:03.531781",
     "exception": false,
     "start_time": "2022-09-19T19:39:03.485474",
     "status": "completed"
    },
    "tags": []
   },
   "source": [
    "***\n",
    "### Data Types in NumPy\n",
    "- NumPy has some extra data types, and refer to data types with one character, like i for integers, u for unsigned integers etc.\n",
    "\n",
    "    Below is a list of all data types in NumPy and the characters used to represent them.\n",
    "\n",
    "    - i - integer\n",
    "    - b - boolean\n",
    "    - u - unsigned integer\n",
    "    - f - float\n",
    "    - c - complex float\n",
    "    - m - timedelta\n",
    "    - M - datetime\n",
    "    - O - object\n",
    "    - S - string\n",
    "    - U - unicode string\n",
    "    - V - fixed chunk of memory for other type ( void )\n",
    "\n",
    "***\n",
    "- <H4>Use of dtype:</H4>\n",
    "    - It give what kind of data means type of data we are using."
   ]
  },
  {
   "cell_type": "code",
   "execution_count": 8,
   "id": "6c1a48e1",
   "metadata": {
    "execution": {
     "iopub.execute_input": "2022-09-19T19:39:03.613362Z",
     "iopub.status.busy": "2022-09-19T19:39:03.612942Z",
     "iopub.status.idle": "2022-09-19T19:39:03.618367Z",
     "shell.execute_reply": "2022-09-19T19:39:03.617575Z"
    },
    "papermill": {
     "duration": 0.049631,
     "end_time": "2022-09-19T19:39:03.621280",
     "exception": false,
     "start_time": "2022-09-19T19:39:03.571649",
     "status": "completed"
    },
    "tags": []
   },
   "outputs": [
    {
     "name": "stdout",
     "output_type": "stream",
     "text": [
      "Data type of array arr1d: int64\n",
      "Data type of array arr1d: int64\n",
      "Data type of array arr1d: int64\n"
     ]
    }
   ],
   "source": [
    "print(\"Data type of array arr1d:\", arr1d.dtype)\n",
    "print(\"Data type of array arr1d:\", arr2d.dtype)\n",
    "print(\"Data type of array arr1d:\", arr3d.dtype)"
   ]
  },
  {
   "cell_type": "code",
   "execution_count": 9,
   "id": "09e3e2fc",
   "metadata": {
    "execution": {
     "iopub.execute_input": "2022-09-19T19:39:03.704311Z",
     "iopub.status.busy": "2022-09-19T19:39:03.703873Z",
     "iopub.status.idle": "2022-09-19T19:39:03.709652Z",
     "shell.execute_reply": "2022-09-19T19:39:03.708413Z"
    },
    "papermill": {
     "duration": 0.04953,
     "end_time": "2022-09-19T19:39:03.712222",
     "exception": false,
     "start_time": "2022-09-19T19:39:03.662692",
     "status": "completed"
    },
    "tags": []
   },
   "outputs": [
    {
     "name": "stdout",
     "output_type": "stream",
     "text": [
      "Data type of array arr: <U6\n"
     ]
    }
   ],
   "source": [
    "arr = np.array(['apple', 'banana', 'cherry'])\n",
    "\n",
    "print(\"Data type of array arr:\", arr.dtype)"
   ]
  },
  {
   "cell_type": "markdown",
   "id": "5c2aee5b",
   "metadata": {
    "papermill": {
     "duration": 0.040372,
     "end_time": "2022-09-19T19:39:03.792859",
     "exception": false,
     "start_time": "2022-09-19T19:39:03.752487",
     "status": "completed"
    },
    "tags": []
   },
   "source": [
    "- Create an array with data type string:"
   ]
  },
  {
   "cell_type": "code",
   "execution_count": 10,
   "id": "749aef53",
   "metadata": {
    "execution": {
     "iopub.execute_input": "2022-09-19T19:39:03.875688Z",
     "iopub.status.busy": "2022-09-19T19:39:03.875308Z",
     "iopub.status.idle": "2022-09-19T19:39:03.881693Z",
     "shell.execute_reply": "2022-09-19T19:39:03.880341Z"
    },
    "papermill": {
     "duration": 0.051687,
     "end_time": "2022-09-19T19:39:03.884949",
     "exception": false,
     "start_time": "2022-09-19T19:39:03.833262",
     "status": "completed"
    },
    "tags": []
   },
   "outputs": [
    {
     "name": "stdout",
     "output_type": "stream",
     "text": [
      "Here is array: [b'1' b'2' b'3' b'4']\n",
      "Data type of array arr: |S1\n"
     ]
    }
   ],
   "source": [
    "arr = np.array([1, 2, 3, 4], dtype='S')\n",
    "\n",
    "print(\"Here is array:\",arr)\n",
    "print(\"Data type of array arr:\", arr.dtype)\n"
   ]
  },
  {
   "cell_type": "markdown",
   "id": "f786c772",
   "metadata": {
    "papermill": {
     "duration": 0.040314,
     "end_time": "2022-09-19T19:39:03.972671",
     "exception": false,
     "start_time": "2022-09-19T19:39:03.932357",
     "status": "completed"
    },
    "tags": []
   },
   "source": [
    " ## Note: For i, u, f, S and U we can define size as well."
   ]
  },
  {
   "cell_type": "markdown",
   "id": "a318f893",
   "metadata": {
    "papermill": {
     "duration": 0.039547,
     "end_time": "2022-09-19T19:39:04.054245",
     "exception": false,
     "start_time": "2022-09-19T19:39:04.014698",
     "status": "completed"
    },
    "tags": []
   },
   "source": [
    "- Create an array with data type 4 bytes integer:"
   ]
  },
  {
   "cell_type": "code",
   "execution_count": 11,
   "id": "954fc61a",
   "metadata": {
    "execution": {
     "iopub.execute_input": "2022-09-19T19:39:04.135503Z",
     "iopub.status.busy": "2022-09-19T19:39:04.135064Z",
     "iopub.status.idle": "2022-09-19T19:39:04.143288Z",
     "shell.execute_reply": "2022-09-19T19:39:04.141951Z"
    },
    "papermill": {
     "duration": 0.051265,
     "end_time": "2022-09-19T19:39:04.145390",
     "exception": false,
     "start_time": "2022-09-19T19:39:04.094125",
     "status": "completed"
    },
    "tags": []
   },
   "outputs": [
    {
     "name": "stdout",
     "output_type": "stream",
     "text": [
      "[1 2 3 4]\n",
      "int32\n"
     ]
    }
   ],
   "source": [
    "arr = np.array([1, 2, 3, 4], dtype='i4')\n",
    "print(arr)\n",
    "print(arr.dtype)"
   ]
  },
  {
   "cell_type": "markdown",
   "id": "20c98981",
   "metadata": {
    "papermill": {
     "duration": 0.040007,
     "end_time": "2022-09-19T19:39:04.228930",
     "exception": false,
     "start_time": "2022-09-19T19:39:04.188923",
     "status": "completed"
    },
    "tags": []
   },
   "source": [
    "- There is diffrence between type of value and given type.\n",
    "- that's why error.\n",
    "\n",
    "``` python\n",
    "arr = np.array(['a', '2', '3'], dtype='i')\n",
    "\n",
    "---------------------------------------------------------------------------\n",
    "ValueError                                Traceback (most recent call last)\n",
    "Input In [35], in <cell line: 1>()\n",
    "----> 1 arr = np.array(['a', '2', '3'], dtype='i')\n",
    "\n",
    "ValueError: invalid literal for int() with base 10: 'a'\n",
    "        \n",
    "```"
   ]
  },
  {
   "cell_type": "markdown",
   "id": "b210c24d",
   "metadata": {
    "papermill": {
     "duration": 0.040023,
     "end_time": "2022-09-19T19:39:04.309402",
     "exception": false,
     "start_time": "2022-09-19T19:39:04.269379",
     "status": "completed"
    },
    "tags": []
   },
   "source": [
    "***\n",
    "#### Converting Data Type on Existing Arrays\n",
    "- The astype() function creates a copy of the array, and allows you to specify the data type as a parameter.\n",
    "\n",
    "- The data type can be specified using a string, like 'f' for float, 'i' for integer etc. or you can use the data type directly like float for float and int for integer.\n",
    "<li>\n",
    "    The argument dtype=int doesn’t refer to Python int. It translates to NumPy int64 or simply np.int.\n",
    "\n",
    "    - NumPy offers you several integer fixed-sized dtypes that differ in memory and limits:\n",
    "\n",
    "    1. np.int8: 8-bit signed integer (from -128 to 127)\n",
    "    2. np.uint8: 8-bit unsigned integer (from 0 to 255)\n",
    "    3. np.int16: 16-bit signed integer (from -32768 to 32767)\n",
    "    4. np.uint16: 16-bit unsigned integer (from 0 to 65535)\n",
    "    5. np.int32: 32-bit signed integer (from -2<sup>31</sup> to 2<sup>31</sup>-1)\n",
    "    6. np.uint32: 32-bit unsigned integer (from 0 to 2<sup>31</sup>-1)\n",
    "    7. np.int64: 64-bit signed integer (from -2<sup>63</sup> to 2<sup>63</sup>-1)\n",
    "    8. np.uint64: 64-bit unsigned integer (from 0 to 2<sup>64</sup>-1)\n",
    "</li>\n",
    "***"
   ]
  },
  {
   "cell_type": "code",
   "execution_count": 12,
   "id": "c43ab373",
   "metadata": {
    "execution": {
     "iopub.execute_input": "2022-09-19T19:39:04.398448Z",
     "iopub.status.busy": "2022-09-19T19:39:04.397930Z",
     "iopub.status.idle": "2022-09-19T19:39:04.407869Z",
     "shell.execute_reply": "2022-09-19T19:39:04.406246Z"
    },
    "papermill": {
     "duration": 0.061011,
     "end_time": "2022-09-19T19:39:04.410790",
     "exception": false,
     "start_time": "2022-09-19T19:39:04.349779",
     "status": "completed"
    },
    "tags": []
   },
   "outputs": [
    {
     "name": "stdout",
     "output_type": "stream",
     "text": [
      "\n",
      "'i' as parameter\n",
      "This is array with float as Data type: [1.1 2.1 3.1] float64\n",
      "\n",
      "This is new array with Data type int: [1 2 3] int32\n",
      "\n",
      "###################################################################\n",
      "\n",
      "'int' as parameter\n",
      "\n",
      "This is array with float as Data type: [1.1 2.1 3.1] float64\n",
      "\n",
      "This is new array with Data type int: [1 2 3] int64\n"
     ]
    }
   ],
   "source": [
    "print(\"\\n'i' as parameter\")\n",
    "\n",
    "arr = np.array([1.1, 2.1, 3.1])\n",
    "print(\"This is array with float as Data type:\",arr,arr.dtype)\n",
    "\n",
    "newarr = arr.astype('i')\n",
    "\n",
    "print(\"\\nThis is new array with Data type int:\",newarr,newarr.dtype)\n",
    "\n",
    "print('\\n###################################################################')\n",
    "\n",
    "print(\"\\n'int' as parameter\")\n",
    "arr = np.array([1.1, 2.1, 3.1])\n",
    "print(\"\\nThis is array with float as Data type:\",arr,arr.dtype)\n",
    "\n",
    "newarr = arr.astype(int)\n",
    "\n",
    "print(\"\\nThis is new array with Data type int:\",newarr,newarr.dtype)"
   ]
  },
  {
   "cell_type": "markdown",
   "id": "15c4a303",
   "metadata": {
    "papermill": {
     "duration": 0.045233,
     "end_time": "2022-09-19T19:39:04.501238",
     "exception": false,
     "start_time": "2022-09-19T19:39:04.456005",
     "status": "completed"
    },
    "tags": []
   },
   "source": [
    "- Change data type from float to integer by using **\"i\" as parameter value:**"
   ]
  },
  {
   "cell_type": "code",
   "execution_count": 13,
   "id": "6c25f9ce",
   "metadata": {
    "execution": {
     "iopub.execute_input": "2022-09-19T19:39:04.585621Z",
     "iopub.status.busy": "2022-09-19T19:39:04.585208Z",
     "iopub.status.idle": "2022-09-19T19:39:04.591564Z",
     "shell.execute_reply": "2022-09-19T19:39:04.590522Z"
    },
    "papermill": {
     "duration": 0.051291,
     "end_time": "2022-09-19T19:39:04.594528",
     "exception": false,
     "start_time": "2022-09-19T19:39:04.543237",
     "status": "completed"
    },
    "tags": []
   },
   "outputs": [
    {
     "name": "stdout",
     "output_type": "stream",
     "text": [
      "New array with int value [1 2 3]\n",
      "Old Data type: float64\n",
      "New data type: int32\n"
     ]
    }
   ],
   "source": [
    "arr = np.array([1.1, 2.1, 3.1])\n",
    "\n",
    "newarr = arr.astype('i')\n",
    "\n",
    "print(\"New array with int value\",newarr)\n",
    "print(\"Old Data type:\",arr.dtype)\n",
    "print(\"New data type:\",newarr.dtype)"
   ]
  },
  {
   "cell_type": "markdown",
   "id": "1e71bb03",
   "metadata": {
    "papermill": {
     "duration": 0.04048,
     "end_time": "2022-09-19T19:39:04.677341",
     "exception": false,
     "start_time": "2022-09-19T19:39:04.636861",
     "status": "completed"
    },
    "tags": []
   },
   "source": [
    "- Change data type from float to integer by using **int as parameter value:**"
   ]
  },
  {
   "cell_type": "code",
   "execution_count": 14,
   "id": "51ec402e",
   "metadata": {
    "execution": {
     "iopub.execute_input": "2022-09-19T19:39:04.760356Z",
     "iopub.status.busy": "2022-09-19T19:39:04.759931Z",
     "iopub.status.idle": "2022-09-19T19:39:04.766108Z",
     "shell.execute_reply": "2022-09-19T19:39:04.765059Z"
    },
    "papermill": {
     "duration": 0.050953,
     "end_time": "2022-09-19T19:39:04.768560",
     "exception": false,
     "start_time": "2022-09-19T19:39:04.717607",
     "status": "completed"
    },
    "tags": []
   },
   "outputs": [
    {
     "name": "stdout",
     "output_type": "stream",
     "text": [
      "New array with int value [1 2 3]\n",
      "Old Data type: float64\n",
      "New data type: int64\n"
     ]
    }
   ],
   "source": [
    "arr = np.array([1.1, 2.1, 3.1])\n",
    "\n",
    "newarr = arr.astype(int)\n",
    "\n",
    "print(\"New array with int value\",newarr)\n",
    "print(\"Old Data type:\",arr.dtype)\n",
    "print(\"New data type:\",newarr.dtype)"
   ]
  },
  {
   "cell_type": "code",
   "execution_count": 15,
   "id": "dabdb8c4",
   "metadata": {
    "execution": {
     "iopub.execute_input": "2022-09-19T19:39:04.853066Z",
     "iopub.status.busy": "2022-09-19T19:39:04.852674Z",
     "iopub.status.idle": "2022-09-19T19:39:04.858955Z",
     "shell.execute_reply": "2022-09-19T19:39:04.857860Z"
    },
    "papermill": {
     "duration": 0.052915,
     "end_time": "2022-09-19T19:39:04.861867",
     "exception": false,
     "start_time": "2022-09-19T19:39:04.808952",
     "status": "completed"
    },
    "tags": []
   },
   "outputs": [
    {
     "name": "stdout",
     "output_type": "stream",
     "text": [
      "New array with int value [ True False  True]\n",
      "Old Data type: float64\n",
      "New data type: bool\n"
     ]
    }
   ],
   "source": [
    "arr = np.array([1, 0, 3.1])\n",
    "\n",
    "newarr = arr.astype(bool)\n",
    "\n",
    "print(\"New array with int value\",newarr)\n",
    "print(\"Old Data type:\",arr.dtype)\n",
    "print(\"New data type:\",newarr.dtype)"
   ]
  },
  {
   "cell_type": "code",
   "execution_count": 16,
   "id": "20f97690",
   "metadata": {
    "execution": {
     "iopub.execute_input": "2022-09-19T19:39:04.946437Z",
     "iopub.status.busy": "2022-09-19T19:39:04.945354Z",
     "iopub.status.idle": "2022-09-19T19:39:04.958413Z",
     "shell.execute_reply": "2022-09-19T19:39:04.957636Z"
    },
    "papermill": {
     "duration": 0.058104,
     "end_time": "2022-09-19T19:39:04.961241",
     "exception": false,
     "start_time": "2022-09-19T19:39:04.903137",
     "status": "completed"
    },
    "tags": []
   },
   "outputs": [
    {
     "name": "stdout",
     "output_type": "stream",
     "text": [
      "Data type of float value array: float64\n",
      "Data type of str value array: <U6\n",
      "Data type of mix value array: <U32\n"
     ]
    }
   ],
   "source": [
    "flaotarr=np.array([1.0,2,3,4])\n",
    "strarr=np.array([\"this\",\"is\",\"bhawan\"])\n",
    "strflaotintarr=np.array([1,2,3.5,\"bhawan\"])\n",
    "\n",
    "print(\"Data type of float value array:\",flaotarr.dtype)\n",
    "print(\"Data type of str value array:\",strarr.dtype)\n",
    "print(\"Data type of mix value array:\",strflaotintarr.dtype)"
   ]
  },
  {
   "cell_type": "markdown",
   "id": "cd5fa50e",
   "metadata": {
    "papermill": {
     "duration": 0.040211,
     "end_time": "2022-09-19T19:39:05.043321",
     "exception": false,
     "start_time": "2022-09-19T19:39:05.003110",
     "status": "completed"
    },
    "tags": []
   },
   "source": [
    "### Use of Ones():\n",
    "- Python numpy.ones() function returns a new array of given shape and data type, where the element’s value is set to 1.\n",
    "\n",
    "- **Syntex:** <H3>ones(shape, dtype=None, order='C')</H3>"
   ]
  },
  {
   "cell_type": "code",
   "execution_count": 17,
   "id": "f0f55013",
   "metadata": {
    "execution": {
     "iopub.execute_input": "2022-09-19T19:39:05.127507Z",
     "iopub.status.busy": "2022-09-19T19:39:05.127084Z",
     "iopub.status.idle": "2022-09-19T19:39:05.136312Z",
     "shell.execute_reply": "2022-09-19T19:39:05.135136Z"
    },
    "papermill": {
     "duration": 0.055318,
     "end_time": "2022-09-19T19:39:05.139528",
     "exception": false,
     "start_time": "2022-09-19T19:39:05.084210",
     "status": "completed"
    },
    "tags": []
   },
   "outputs": [
    {
     "name": "stdout",
     "output_type": "stream",
     "text": [
      "Ones array:\n",
      " [[1. 1.]\n",
      " [1. 1.]]\n",
      "\n",
      "#### Change in type of array:\n",
      "\n",
      "Ones array:\n",
      " [[1 1 1 1]\n",
      " [1 1 1 1]\n",
      " [1 1 1 1]\n",
      " [1 1 1 1]]\n",
      "\n",
      "Ones array 3-D\n",
      " [[[1 1 1]\n",
      "  [1 1 1]\n",
      "  [1 1 1]\n",
      "  [1 1 1]]\n",
      "\n",
      " [[1 1 1]\n",
      "  [1 1 1]\n",
      "  [1 1 1]\n",
      "  [1 1 1]]\n",
      "\n",
      " [[1 1 1]\n",
      "  [1 1 1]\n",
      "  [1 1 1]\n",
      "  [1 1 1]]\n",
      "\n",
      " [[1 1 1]\n",
      "  [1 1 1]\n",
      "  [1 1 1]\n",
      "  [1 1 1]]]\n",
      "\n",
      "#### MIX value type of array:\n",
      "\n",
      "Ones array:\n",
      " [[(1, 1.) (1, 1.) (1, 1.)]\n",
      " [(1, 1.) (1, 1.) (1, 1.)]\n",
      " [(1, 1.) (1, 1.) (1, 1.)]]\n"
     ]
    }
   ],
   "source": [
    "onesarr=np.ones((2,2))\n",
    "print(\"Ones array:\\n\",onesarr)\n",
    "\n",
    "############################\n",
    "\n",
    "print(\"\\n#### Change in type of array:\")\n",
    "onesarr=np.ones((4,4),dtype=int)\n",
    "print(\"\\nOnes array:\\n\",onesarr)\n",
    "\n",
    "onesarr=np.ones((4,4,3),dtype=int)\n",
    "print(\"\\nOnes array 3-D\\n\",onesarr)\n",
    "\n",
    "###########################\n",
    "\n",
    "print(\"\\n#### MIX value type of array:\")\n",
    "onesarr=np.ones((3,3),dtype=[('x',int),('y',float)])\n",
    "print(\"\\nOnes array:\\n\",onesarr)\n"
   ]
  },
  {
   "cell_type": "markdown",
   "id": "ae58c6e2",
   "metadata": {
    "papermill": {
     "duration": 0.040171,
     "end_time": "2022-09-19T19:39:05.221745",
     "exception": false,
     "start_time": "2022-09-19T19:39:05.181574",
     "status": "completed"
    },
    "tags": []
   },
   "source": [
    "### Use of Zeros():\n",
    "- Return a new array of given shape and type, filled with zeros.\n",
    "\n",
    "- **Syntex:** <H3>numpy.zeros(shape, dtype=float, order='C', *, like=None)\n",
    "</H3>"
   ]
  },
  {
   "cell_type": "code",
   "execution_count": 18,
   "id": "79b32794",
   "metadata": {
    "execution": {
     "iopub.execute_input": "2022-09-19T19:39:05.304814Z",
     "iopub.status.busy": "2022-09-19T19:39:05.304452Z",
     "iopub.status.idle": "2022-09-19T19:39:05.314164Z",
     "shell.execute_reply": "2022-09-19T19:39:05.313151Z"
    },
    "papermill": {
     "duration": 0.055104,
     "end_time": "2022-09-19T19:39:05.317404",
     "exception": false,
     "start_time": "2022-09-19T19:39:05.262300",
     "status": "completed"
    },
    "tags": []
   },
   "outputs": [
    {
     "name": "stdout",
     "output_type": "stream",
     "text": [
      "Zeros array:\n",
      " [[0. 0. 0.]\n",
      " [0. 0. 0.]\n",
      " [0. 0. 0.]]\n",
      "\n",
      "#### Change in type of array:\n",
      "\n",
      "Zeros array:\n",
      " [[0 0 0 0]\n",
      " [0 0 0 0]\n",
      " [0 0 0 0]\n",
      " [0 0 0 0]]\n",
      "\n",
      "Zeros array 3-D\n",
      " [[[0 0 0]\n",
      "  [0 0 0]\n",
      "  [0 0 0]\n",
      "  [0 0 0]]\n",
      "\n",
      " [[0 0 0]\n",
      "  [0 0 0]\n",
      "  [0 0 0]\n",
      "  [0 0 0]]\n",
      "\n",
      " [[0 0 0]\n",
      "  [0 0 0]\n",
      "  [0 0 0]\n",
      "  [0 0 0]]\n",
      "\n",
      " [[0 0 0]\n",
      "  [0 0 0]\n",
      "  [0 0 0]\n",
      "  [0 0 0]]]\n",
      "\n",
      "#### MIX value type of array:\n",
      "\n",
      "O's array:\n",
      " [[(0, 0.) (0, 0.) (0, 0.)]\n",
      " [(0, 0.) (0, 0.) (0, 0.)]\n",
      " [(0, 0.) (0, 0.) (0, 0.)]]\n"
     ]
    }
   ],
   "source": [
    "zrerosarr=np.zeros((3,3))\n",
    "print(\"Zeros array:\\n\",zrerosarr)\n",
    "\n",
    "############################\n",
    "\n",
    "print(\"\\n#### Change in type of array:\")\n",
    "zrerosarr=np.zeros((4,4),dtype=int)\n",
    "print(\"\\nZeros array:\\n\",zrerosarr)\n",
    "\n",
    "zrerosarr=np.zeros((4,4,3),dtype=int)\n",
    "print(\"\\nZeros array 3-D\\n\",zrerosarr)\n",
    "\n",
    "###########################\n",
    "\n",
    "print(\"\\n#### MIX value type of array:\")\n",
    "zrerosarr=np.zeros((3,3),dtype=[('x',int),('y',float)])\n",
    "print(\"\\nO's array:\\n\",zrerosarr)\n"
   ]
  },
  {
   "cell_type": "markdown",
   "id": "d63d29db",
   "metadata": {
    "papermill": {
     "duration": 0.040324,
     "end_time": "2022-09-19T19:39:05.398415",
     "exception": false,
     "start_time": "2022-09-19T19:39:05.358091",
     "status": "completed"
    },
    "tags": []
   },
   "source": [
    "### Use of empty():\n",
    "-Return a new array of given shape and type, without initializing entries.\n",
    "- **Syntex:** <H3>numpy.empty(shape, dtype=float, order='C', *, like=None)\n",
    "</H3>\n"
   ]
  },
  {
   "cell_type": "code",
   "execution_count": 19,
   "id": "23bfcaaf",
   "metadata": {
    "execution": {
     "iopub.execute_input": "2022-09-19T19:39:05.487691Z",
     "iopub.status.busy": "2022-09-19T19:39:05.487293Z",
     "iopub.status.idle": "2022-09-19T19:39:05.501908Z",
     "shell.execute_reply": "2022-09-19T19:39:05.499625Z"
    },
    "papermill": {
     "duration": 0.065916,
     "end_time": "2022-09-19T19:39:05.504658",
     "exception": false,
     "start_time": "2022-09-19T19:39:05.438742",
     "status": "completed"
    },
    "tags": []
   },
   "outputs": [
    {
     "name": "stdout",
     "output_type": "stream",
     "text": [
      "Empty array:\n",
      " [[0. 0. 0.]\n",
      " [0. 0. 0.]\n",
      " [0. 0. 0.]]\n",
      "\n",
      "###################################################################################\n",
      "\n",
      "#### Change in type of array:\n",
      "\n",
      " Empty array:\n",
      " [[0 0 0]\n",
      " [0 0 0]\n",
      " [0 0 0]]\n",
      "\n",
      " Empty array 3-D\n",
      " [[[94897583186560              0 10020158701575]\n",
      "  [             0    17179869187              0]\n",
      "  [             0   137438953494              0]]\n",
      "\n",
      " [[             0              0              0]\n",
      "  [             0              0              0]\n",
      "  [             0              0              0]]\n",
      "\n",
      " [[             0              0              0]\n",
      "  [             0 94897589499792 94897589500048]\n",
      "  [94897589500240              0              0]]]\n",
      "\n",
      "###################################################################################\n",
      "\n",
      "#### MIX value type of array:\n",
      "\n",
      " Empty array:\n",
      " [[( 94897586530112, 0.00000000e+000) (140114792022512, 6.92264428e-310)\n",
      "  (140115880903536, 6.92264428e-310)]\n",
      " [(140114792022448, 6.92264428e-310) (140114792022384, 6.92264428e-310)\n",
      "  (140114792022320, 6.92264428e-310)]\n",
      " [(140114792022256, 6.92264428e-310) (140114792022192, 6.92264428e-310)\n",
      "  (140114792022128, 6.92264428e-310)]]\n"
     ]
    }
   ],
   "source": [
    "emptyarr=np.empty((3,3))\n",
    "print(\"Empty array:\\n\",emptyarr)\n",
    "\n",
    "print(\"\\n###################################################################################\")\n",
    "\n",
    "print(\"\\n#### Change in type of array:\")\n",
    "emptyarr=np.empty((3,3),dtype=int)\n",
    "print(\"\\n Empty array:\\n\", emptyarr)\n",
    "\n",
    "emptyarr=np.empty((3,3,3),dtype=int)\n",
    "print(\"\\n Empty array 3-D\\n\", emptyarr)\n",
    "\n",
    "print(\"\\n###################################################################################\")\n",
    "\n",
    "print(\"\\n#### MIX value type of array:\")\n",
    "emptyarr=np.empty((3,3),dtype=[('x',int),('y',float)])\n",
    "print(\"\\n Empty array:\\n\",emptyarr)\n"
   ]
  },
  {
   "cell_type": "markdown",
   "id": "f1a2be27",
   "metadata": {
    "papermill": {
     "duration": 0.041583,
     "end_time": "2022-09-19T19:39:05.597491",
     "exception": false,
     "start_time": "2022-09-19T19:39:05.555908",
     "status": "completed"
    },
    "tags": []
   },
   "source": [
    "### Use of empty_like():\n",
    "- Return a new array with the same shape and type as a given array.\n",
    "- **Syntex:** <H3>numpy.empty_like(prototype, dtype=None, order='K', subok=True, shape=None)\n",
    "</H3>\n"
   ]
  },
  {
   "cell_type": "code",
   "execution_count": 20,
   "id": "c48866a7",
   "metadata": {
    "execution": {
     "iopub.execute_input": "2022-09-19T19:39:05.681250Z",
     "iopub.status.busy": "2022-09-19T19:39:05.680842Z",
     "iopub.status.idle": "2022-09-19T19:39:05.691099Z",
     "shell.execute_reply": "2022-09-19T19:39:05.689993Z"
    },
    "papermill": {
     "duration": 0.055622,
     "end_time": "2022-09-19T19:39:05.694048",
     "exception": false,
     "start_time": "2022-09-19T19:39:05.638426",
     "status": "completed"
    },
    "tags": []
   },
   "outputs": [
    {
     "name": "stdout",
     "output_type": "stream",
     "text": [
      "Empty array:\n",
      " [[1 2 3 4]\n",
      " [1 2 3 4]\n",
      " [1 2 3 4]]\n",
      "\n",
      " Type of empty_like: int64\n",
      "\n",
      "###################################################################################\n",
      "\n",
      "#### Change in type of array:\n",
      "\n",
      " Empty array:\n",
      " [[4.68856394e-310 0.00000000e+000 0.00000000e+000 0.00000000e+000]\n",
      " [4.68854970e-310 9.13449889e+169 3.85776918e-057 6.04740609e-066]\n",
      " [5.40590093e-038 3.43834371e+179 1.34728780e+165 2.61130651e-057]]\n",
      "\n",
      "###################################################################################\n",
      "\n",
      "#### MIX value type of array:\n",
      "\n",
      " Empty array:\n",
      " [[(4596373779694328218, 0.2 ) (4603579539098121011, 1.  )\n",
      "  (                  0, 0.6 ) (4607182418800017408, 1.  )]\n",
      " [(                  0, 0.8 ) (4600877379321698714, 1.  )\n",
      "  (4607182418800017408, 1.  ) (4603579539098121011, 1.  )]\n",
      " [(4602678819172646912, 0.36) (4599616371426034975, 1.  )\n",
      "  (4607182418800017408, 1.  ) (4607182418800017408, 1.  )]]\n",
      "\n",
      "###################################################################################\n",
      "\n",
      "#### Change in Subok and Shape:\n",
      "\n",
      " Empty array:\n",
      " [[0.2  1.   0.6 ]\n",
      " [1.   0.8  1.  ]\n",
      " [1.   1.   0.36]\n",
      " [1.   1.   1.  ]]\n"
     ]
    }
   ],
   "source": [
    "arr2d=np.array([[1,2,3,4],\n",
    "                [1,2,3,4],\n",
    "                [1,2,3,4],\n",
    "               ])\n",
    "\n",
    "emptyarr_like=np.empty_like(arr2d)\n",
    "print(\"Empty array:\\n\",emptyarr_like)\n",
    "\n",
    "print(\"\\n Type of empty_like:\",emptyarr_like.dtype)\n",
    "\n",
    "print(\"\\n###################################################################################\")\n",
    "\n",
    "print(\"\\n#### Change in type of array:\")\n",
    "emptyarr_like=np.empty_like(arr2d,dtype=float)\n",
    "print(\"\\n Empty array:\\n\", emptyarr_like)\n",
    "\n",
    "print(\"\\n###################################################################################\")\n",
    "\n",
    "print(\"\\n#### MIX value type of array:\")\n",
    "emptyarr_like=np.empty_like(arr2d,dtype=[(\"x\",int),(\"y\",float)])\n",
    "print(\"\\n Empty array:\\n\",emptyarr_like)\n",
    "\n",
    "print(\"\\n###################################################################################\")\n",
    "\n",
    "print(\"\\n#### Change in Subok and Shape:\")\n",
    "\n",
    "emptyarr_like=np.empty_like(arr2d,dtype=float,subok=False,shape=(4,3))\n",
    "print(\"\\n Empty array:\\n\", emptyarr_like)"
   ]
  },
  {
   "cell_type": "markdown",
   "id": "5dbc707c",
   "metadata": {
    "papermill": {
     "duration": 0.041526,
     "end_time": "2022-09-19T19:39:05.776597",
     "exception": false,
     "start_time": "2022-09-19T19:39:05.735071",
     "status": "completed"
    },
    "tags": []
   },
   "source": [
    "### Use of full():\n",
    "- Return a new array of given shape and type, filled with fill_value.\n",
    "- **Syntex:** <H3>numpy.full(shape, fill_value, dtype=None, order='C', *, like=None)</H3>"
   ]
  },
  {
   "cell_type": "code",
   "execution_count": 21,
   "id": "feab5b85",
   "metadata": {
    "execution": {
     "iopub.execute_input": "2022-09-19T19:39:05.862633Z",
     "iopub.status.busy": "2022-09-19T19:39:05.862222Z",
     "iopub.status.idle": "2022-09-19T19:39:05.871471Z",
     "shell.execute_reply": "2022-09-19T19:39:05.870212Z"
    },
    "papermill": {
     "duration": 0.055465,
     "end_time": "2022-09-19T19:39:05.874317",
     "exception": false,
     "start_time": "2022-09-19T19:39:05.818852",
     "status": "completed"
    },
    "tags": []
   },
   "outputs": [
    {
     "name": "stdout",
     "output_type": "stream",
     "text": [
      "Empty array:\n",
      " [[4 4 4]\n",
      " [4 4 4]\n",
      " [4 4 4]]\n",
      "\n",
      "###################################################################################\n",
      "\n",
      "#### Change in type of array:\n",
      "\n",
      " Empty array:\n",
      " [[4 4 4]\n",
      " [4 4 4]\n",
      " [4 4 4]]\n",
      "\n",
      " Empty array 3-D\n",
      " [[[4 4 4]\n",
      "  [4 4 4]\n",
      "  [4 4 4]]\n",
      "\n",
      " [[4 4 4]\n",
      "  [4 4 4]\n",
      "  [4 4 4]]\n",
      "\n",
      " [[4 4 4]\n",
      "  [4 4 4]\n",
      "  [4 4 4]]]\n",
      "\n",
      "###################################################################################\n",
      "\n",
      "#### MIX value type of array:\n",
      "\n",
      " Empty array:\n",
      " [[(4, 4.) (4, 4.) (4, 4.)]\n",
      " [(4, 4.) (4, 4.) (4, 4.)]\n",
      " [(4, 4.) (4, 4.) (4, 4.)]]\n"
     ]
    }
   ],
   "source": [
    "fullarr=np.full((3,3),4)\n",
    "print(\"Empty array:\\n\",fullarr)\n",
    "\n",
    "print(\"\\n###################################################################################\")\n",
    "\n",
    "print(\"\\n#### Change in type of array:\")\n",
    "fullarr=np.full((3,3),4,dtype=int)\n",
    "print(\"\\n Empty array:\\n\", fullarr)\n",
    "\n",
    "fullarr=np.full((3,3,3),4,dtype=int)\n",
    "print(\"\\n Empty array 3-D\\n\", fullarr)\n",
    "\n",
    "print(\"\\n###################################################################################\")\n",
    "\n",
    "print(\"\\n#### MIX value type of array:\")\n",
    "fullarr=np.full((3,3),4,dtype=[('x',int),('y',float)])\n",
    "print(\"\\n Empty array:\\n\",fullarr)\n"
   ]
  },
  {
   "cell_type": "markdown",
   "id": "ec5604c2",
   "metadata": {
    "papermill": {
     "duration": 0.040766,
     "end_time": "2022-09-19T19:39:05.956972",
     "exception": false,
     "start_time": "2022-09-19T19:39:05.916206",
     "status": "completed"
    },
    "tags": []
   },
   "source": [
    "### Example of 'order' parameter in all of above practise:\n",
    "\n",
    "- Whether to store multi-dimensional data in row-major (C-style) or column-major (Fortran-style) order in memory."
   ]
  },
  {
   "cell_type": "code",
   "execution_count": 22,
   "id": "88ef8986",
   "metadata": {
    "execution": {
     "iopub.execute_input": "2022-09-19T19:39:06.041630Z",
     "iopub.status.busy": "2022-09-19T19:39:06.041262Z",
     "iopub.status.idle": "2022-09-19T19:39:06.048745Z",
     "shell.execute_reply": "2022-09-19T19:39:06.047509Z"
    },
    "papermill": {
     "duration": 0.052606,
     "end_time": "2022-09-19T19:39:06.051158",
     "exception": false,
     "start_time": "2022-09-19T19:39:05.998552",
     "status": "completed"
    },
    "tags": []
   },
   "outputs": [
    {
     "name": "stdout",
     "output_type": "stream",
     "text": [
      "Example of order:\n",
      "[[0 1 2]\n",
      " [3 4 5]\n",
      " [6 7 8]] It give's 'True' if fortran:- False\n",
      "[[0 3 6]\n",
      " [1 4 7]\n",
      " [2 5 8]] It give's 'True' if fortran:- True\n"
     ]
    }
   ],
   "source": [
    "print(\"Example of order:\")\n",
    "x=np.reshape(np.arange(9),newshape=(3,3))\n",
    "print(x,\"It give's 'True' if fortran:-\",np.isfortran(x))\n",
    "y=np.reshape(np.arange(9),newshape=(3,3),order='F')\n",
    "print(y,\"It give's 'True' if fortran:-\",np.isfortran(y))"
   ]
  },
  {
   "cell_type": "code",
   "execution_count": 23,
   "id": "2d4ddfe6",
   "metadata": {
    "execution": {
     "iopub.execute_input": "2022-09-19T19:39:06.135430Z",
     "iopub.status.busy": "2022-09-19T19:39:06.135047Z",
     "iopub.status.idle": "2022-09-19T19:39:06.141419Z",
     "shell.execute_reply": "2022-09-19T19:39:06.140391Z"
    },
    "papermill": {
     "duration": 0.051389,
     "end_time": "2022-09-19T19:39:06.143982",
     "exception": false,
     "start_time": "2022-09-19T19:39:06.092593",
     "status": "completed"
    },
    "tags": []
   },
   "outputs": [
    {
     "name": "stdout",
     "output_type": "stream",
     "text": [
      "[[1 2 3]\n",
      " [4 5 6]] False\n",
      "\n",
      " [[1 4]\n",
      " [2 5]\n",
      " [3 6]] True\n"
     ]
    }
   ],
   "source": [
    "a = np.array([[1, 2, 3], [4, 5, 6]], order='C')\n",
    "print(a,np.isfortran(a))\n",
    "\n",
    "b = a.T\n",
    "print(\"\\n\",b,np.isfortran(b))"
   ]
  },
  {
   "cell_type": "markdown",
   "id": "4f1c6ddf",
   "metadata": {
    "papermill": {
     "duration": 0.040782,
     "end_time": "2022-09-19T19:39:06.226147",
     "exception": false,
     "start_time": "2022-09-19T19:39:06.185365",
     "status": "completed"
    },
    "tags": []
   },
   "source": [
    "### Use of arrange():\n",
    "- Return evenly spaced values within a given interval.\n",
    "- **Syntex:** <H3>numpy.arange([start, ]stop, [step, ]dtype=None, *, like=None)</H3>\n",
    "\n",
    "arange can be called with a varying number of positional arguments:\n",
    "\n",
    "- **arange(stop):** Values are generated within the half-open interval **[0, stop)** (in other words, the interval including start but excluding stop).\n",
    "\n",
    "- **arange(start, stop):** Values are generated within the half-open interval .**[start, stop).**\n",
    "\n",
    "- **arange(start, stop, step)** Values are generated within the half-open interval **[start, stop)**, with spacing between values given by step.\n",
    "\n",
    "For integer arguments the function is roughly equivalent to the Python built-in range, but returns an ndarray rather than a range instance.\n",
    "\n",
    "- When using a non-integer step, such as 0.1, it is often better to use numpy.linspace."
   ]
  },
  {
   "cell_type": "code",
   "execution_count": 24,
   "id": "f14893ae",
   "metadata": {
    "execution": {
     "iopub.execute_input": "2022-09-19T19:39:06.311980Z",
     "iopub.status.busy": "2022-09-19T19:39:06.311603Z",
     "iopub.status.idle": "2022-09-19T19:39:06.317307Z",
     "shell.execute_reply": "2022-09-19T19:39:06.316183Z"
    },
    "papermill": {
     "duration": 0.052345,
     "end_time": "2022-09-19T19:39:06.320565",
     "exception": false,
     "start_time": "2022-09-19T19:39:06.268220",
     "status": "completed"
    },
    "tags": []
   },
   "outputs": [
    {
     "name": "stdout",
     "output_type": "stream",
     "text": [
      "Array with evenly speced no. [0 1 2 3 4 5 6 7 8]\n"
     ]
    }
   ],
   "source": [
    "Arange=np.arange(9)\n",
    "print(\"Array with evenly speced no.\",Arange)"
   ]
  },
  {
   "cell_type": "markdown",
   "id": "e0734797",
   "metadata": {
    "papermill": {
     "duration": 0.04085,
     "end_time": "2022-09-19T19:39:06.403998",
     "exception": false,
     "start_time": "2022-09-19T19:39:06.363148",
     "status": "completed"
    },
    "tags": []
   },
   "source": [
    "- giving start,stop and step value\n",
    "![](https://files.realpython.com/media/fig-1.1d8bc9379e87.png)"
   ]
  },
  {
   "cell_type": "code",
   "execution_count": 25,
   "id": "f82c8754",
   "metadata": {
    "execution": {
     "iopub.execute_input": "2022-09-19T19:39:06.489260Z",
     "iopub.status.busy": "2022-09-19T19:39:06.488809Z",
     "iopub.status.idle": "2022-09-19T19:39:06.499245Z",
     "shell.execute_reply": "2022-09-19T19:39:06.497479Z"
    },
    "papermill": {
     "duration": 0.055854,
     "end_time": "2022-09-19T19:39:06.501446",
     "exception": false,
     "start_time": "2022-09-19T19:39:06.445592",
     "status": "completed"
    },
    "tags": []
   },
   "outputs": [
    {
     "name": "stdout",
     "output_type": "stream",
     "text": [
      "Array with step value 3(difference is 3): [1 4 7]\n",
      "[1 4 7]\n",
      "[-9 -8 -7 -6 -5 -4 -3 -2]\n",
      "[-9 -7 -5 -3 -1]\n",
      "[9 8 7 6 5 4 3 2]\n",
      "[] Length of array is: 0\n",
      "[]\n"
     ]
    }
   ],
   "source": [
    "Arrange=np.arange(start=1, stop=10, step=3)\n",
    "print(\"Array with step value 3(difference is 3):\",Arrange)\n",
    "\n",
    "Arrange=np.arange(1,10,3)\n",
    "print(Arrange)\n",
    "\n",
    "Arrange=np.arange(-9,-1,1)\n",
    "print(Arrange)\n",
    "\n",
    "Arrange=np.arange(-9,1,2)\n",
    "print(Arrange)\n",
    "\n",
    "Arrange=np.arange(9,1,-1)\n",
    "print(Arrange)\n",
    "\n",
    "##### IT WONT WORK WHEN WE USE DIFFRENT WAY LIKE (Give Empty array)\n",
    "Arrange=np.arange(19,1)\n",
    "print(Arrange,\"Length of array is:\",len(Arrange))\n",
    "\n",
    "Arrange=np.arange(1,9,-2)\n",
    "print(Arrange)\n"
   ]
  },
  {
   "cell_type": "code",
   "execution_count": 26,
   "id": "329a7a47",
   "metadata": {
    "execution": {
     "iopub.execute_input": "2022-09-19T19:39:06.586875Z",
     "iopub.status.busy": "2022-09-19T19:39:06.586490Z",
     "iopub.status.idle": "2022-09-19T19:39:06.591352Z",
     "shell.execute_reply": "2022-09-19T19:39:06.590612Z"
    },
    "papermill": {
     "duration": 0.049939,
     "end_time": "2022-09-19T19:39:06.593837",
     "exception": false,
     "start_time": "2022-09-19T19:39:06.543898",
     "status": "completed"
    },
    "tags": []
   },
   "outputs": [
    {
     "name": "stdout",
     "output_type": "stream",
     "text": [
      "Array with step value 3(difference is 3) & data type as float: [1. 4. 7.]\n"
     ]
    }
   ],
   "source": [
    "Arrange=np.arange(start=1, stop=10, step=3,dtype=float)\n",
    "print(\"Array with step value 3(difference is 3) & data type as float:\",Arrange)"
   ]
  },
  {
   "cell_type": "code",
   "execution_count": 27,
   "id": "11d40b7b",
   "metadata": {
    "execution": {
     "iopub.execute_input": "2022-09-19T19:39:06.678601Z",
     "iopub.status.busy": "2022-09-19T19:39:06.678009Z",
     "iopub.status.idle": "2022-09-19T19:39:06.683575Z",
     "shell.execute_reply": "2022-09-19T19:39:06.682552Z"
    },
    "papermill": {
     "duration": 0.050419,
     "end_time": "2022-09-19T19:39:06.685745",
     "exception": false,
     "start_time": "2022-09-19T19:39:06.635326",
     "status": "completed"
    },
    "tags": []
   },
   "outputs": [
    {
     "name": "stdout",
     "output_type": "stream",
     "text": [
      "[ 0  1  2  3  4  5  6  7  8  9 10 11 12 13 14 15 16 17 18 19 20 21 22 23]\n"
     ]
    }
   ],
   "source": [
    "Arrange=np.arange(stop=24)\n",
    "print(Arrange)"
   ]
  },
  {
   "cell_type": "markdown",
   "id": "2d0bd144",
   "metadata": {
    "papermill": {
     "duration": 0.040921,
     "end_time": "2022-09-19T19:39:06.768162",
     "exception": false,
     "start_time": "2022-09-19T19:39:06.727241",
     "status": "completed"
    },
    "tags": []
   },
   "source": [
    "***\n",
    "### Use of numpy.ndarray.itemsize\n",
    "- Length of one array element in bytes.\n",
    "- **Syntex:** <H4>ndarray.itemsize</H4>\n",
    "\n",
    "***"
   ]
  },
  {
   "cell_type": "code",
   "execution_count": 28,
   "id": "6da62336",
   "metadata": {
    "execution": {
     "iopub.execute_input": "2022-09-19T19:39:06.853420Z",
     "iopub.status.busy": "2022-09-19T19:39:06.853016Z",
     "iopub.status.idle": "2022-09-19T19:39:06.858032Z",
     "shell.execute_reply": "2022-09-19T19:39:06.857234Z"
    },
    "papermill": {
     "duration": 0.049829,
     "end_time": "2022-09-19T19:39:06.860163",
     "exception": false,
     "start_time": "2022-09-19T19:39:06.810334",
     "status": "completed"
    },
    "tags": []
   },
   "outputs": [
    {
     "name": "stdout",
     "output_type": "stream",
     "text": [
      "int64\n",
      "8\n"
     ]
    }
   ],
   "source": [
    "print(Arrange.dtype)\n",
    "print(Arrange.itemsize ) # In bytes"
   ]
  },
  {
   "cell_type": "markdown",
   "id": "d13990fb",
   "metadata": {
    "papermill": {
     "duration": 0.04106,
     "end_time": "2022-09-19T19:39:06.942979",
     "exception": false,
     "start_time": "2022-09-19T19:39:06.901919",
     "status": "completed"
    },
    "tags": []
   },
   "source": [
    "### Use of np.linspace():\n",
    "- Return evenly spaced numbers over a specified interval.\n",
    "\n",
    "- Returns num evenly spaced samples, calculated over the interval [start, stop].\n",
    "\n",
    "- The endpoint of the interval can optionally be excluded.\n",
    "- **Syntex:** <H4>numpy.linspace(start, stop, num=50, endpoint=True, retstep=False, dtype=None, axis=0)[source]</H4>"
   ]
  },
  {
   "cell_type": "code",
   "execution_count": 29,
   "id": "23bb3bde",
   "metadata": {
    "execution": {
     "iopub.execute_input": "2022-09-19T19:39:07.029880Z",
     "iopub.status.busy": "2022-09-19T19:39:07.029499Z",
     "iopub.status.idle": "2022-09-19T19:39:07.035987Z",
     "shell.execute_reply": "2022-09-19T19:39:07.034704Z"
    },
    "papermill": {
     "duration": 0.0543,
     "end_time": "2022-09-19T19:39:07.038739",
     "exception": false,
     "start_time": "2022-09-19T19:39:06.984439",
     "status": "completed"
    },
    "tags": []
   },
   "outputs": [
    {
     "name": "stdout",
     "output_type": "stream",
     "text": [
      "[ 1.          1.18367347  1.36734694  1.55102041  1.73469388  1.91836735\n",
      "  2.10204082  2.28571429  2.46938776  2.65306122  2.83673469  3.02040816\n",
      "  3.20408163  3.3877551   3.57142857  3.75510204  3.93877551  4.12244898\n",
      "  4.30612245  4.48979592  4.67346939  4.85714286  5.04081633  5.2244898\n",
      "  5.40816327  5.59183673  5.7755102   5.95918367  6.14285714  6.32653061\n",
      "  6.51020408  6.69387755  6.87755102  7.06122449  7.24489796  7.42857143\n",
      "  7.6122449   7.79591837  7.97959184  8.16326531  8.34693878  8.53061224\n",
      "  8.71428571  8.89795918  9.08163265  9.26530612  9.44897959  9.63265306\n",
      "  9.81632653 10.        ]\n"
     ]
    }
   ],
   "source": [
    "linspace=np.linspace(1,10) #default is 50 that's why 50 no.\n",
    "print(linspace)"
   ]
  },
  {
   "cell_type": "code",
   "execution_count": 30,
   "id": "06bfcc73",
   "metadata": {
    "execution": {
     "iopub.execute_input": "2022-09-19T19:39:07.124462Z",
     "iopub.status.busy": "2022-09-19T19:39:07.124081Z",
     "iopub.status.idle": "2022-09-19T19:39:07.129086Z",
     "shell.execute_reply": "2022-09-19T19:39:07.128358Z"
    },
    "papermill": {
     "duration": 0.050179,
     "end_time": "2022-09-19T19:39:07.131279",
     "exception": false,
     "start_time": "2022-09-19T19:39:07.081100",
     "status": "completed"
    },
    "tags": []
   },
   "outputs": [
    {
     "name": "stdout",
     "output_type": "stream",
     "text": [
      "[ 1.   1.9  2.8  3.7  4.6  5.5  6.4  7.3  8.2  9.1 10. ]\n"
     ]
    }
   ],
   "source": [
    "linspace=np.linspace(1,10,11) #evenly spaced no. total 11.\n",
    "print(linspace)"
   ]
  },
  {
   "cell_type": "code",
   "execution_count": 31,
   "id": "07ceccaf",
   "metadata": {
    "execution": {
     "iopub.execute_input": "2022-09-19T19:39:07.215993Z",
     "iopub.status.busy": "2022-09-19T19:39:07.215567Z",
     "iopub.status.idle": "2022-09-19T19:39:07.221187Z",
     "shell.execute_reply": "2022-09-19T19:39:07.220436Z"
    },
    "papermill": {
     "duration": 0.050501,
     "end_time": "2022-09-19T19:39:07.223314",
     "exception": false,
     "start_time": "2022-09-19T19:39:07.172813",
     "status": "completed"
    },
    "tags": []
   },
   "outputs": [
    {
     "name": "stdout",
     "output_type": "stream",
     "text": [
      "[1.         1.81818182 2.63636364 3.45454545 4.27272727 5.09090909\n",
      " 5.90909091 6.72727273 7.54545455 8.36363636 9.18181818]\n"
     ]
    }
   ],
   "source": [
    "linspace=np.linspace(1,10,11,endpoint=False) #Did not include last 10 number.\n",
    "print(linspace)"
   ]
  },
  {
   "cell_type": "code",
   "execution_count": 32,
   "id": "5e164210",
   "metadata": {
    "execution": {
     "iopub.execute_input": "2022-09-19T19:39:07.314257Z",
     "iopub.status.busy": "2022-09-19T19:39:07.313242Z",
     "iopub.status.idle": "2022-09-19T19:39:07.323214Z",
     "shell.execute_reply": "2022-09-19T19:39:07.322464Z"
    },
    "papermill": {
     "duration": 0.060628,
     "end_time": "2022-09-19T19:39:07.325462",
     "exception": false,
     "start_time": "2022-09-19T19:39:07.264834",
     "status": "completed"
    },
    "tags": []
   },
   "outputs": [
    {
     "name": "stdout",
     "output_type": "stream",
     "text": [
      "[ 1.   2.8  4.6  6.4  8.2 10. ]\n",
      "Give the step also:\n",
      "(array([ 1. ,  2.8,  4.6,  6.4,  8.2, 10. ]), 1.8)\n",
      "(array([1. , 2.5, 4. , 5.5, 7. , 8.5]), 1.5)\n",
      "(array([ 1,  2,  4,  6,  8, 10]), 1.8)\n",
      "(array([ 1,  2,  4,  6,  8, 10]), 1.8)\n"
     ]
    }
   ],
   "source": [
    "linspace=np.linspace(1,10,6) #evenly spaced no. total 11.\n",
    "print(linspace)\n",
    "\n",
    "print(\"Give the step also:\")\n",
    "linspace=np.linspace(1,10,6,retstep=True) #Default is False\n",
    "print(linspace)\n",
    "\n",
    "linspace=np.linspace(1,10,6,endpoint=False,retstep=True) #with endpoint\n",
    "print(linspace)\n",
    "\n",
    "linspace=np.linspace(1,10,6,retstep=True,dtype=int) #with data type\n",
    "print(linspace)\n",
    "\n",
    "linspace=np.linspace(1,10,6,retstep=True,dtype=int,axis=0) #with data type\n",
    "print(linspace)"
   ]
  },
  {
   "cell_type": "code",
   "execution_count": 33,
   "id": "ce58acc2",
   "metadata": {
    "execution": {
     "iopub.execute_input": "2022-09-19T19:39:07.410704Z",
     "iopub.status.busy": "2022-09-19T19:39:07.410312Z",
     "iopub.status.idle": "2022-09-19T19:39:07.416847Z",
     "shell.execute_reply": "2022-09-19T19:39:07.415414Z"
    },
    "papermill": {
     "duration": 0.051727,
     "end_time": "2022-09-19T19:39:07.419123",
     "exception": false,
     "start_time": "2022-09-19T19:39:07.367396",
     "status": "completed"
    },
    "tags": []
   },
   "outputs": [
    {
     "name": "stdout",
     "output_type": "stream",
     "text": [
      "[ 1  2  4  6  8 10]\n",
      "1.8\n"
     ]
    }
   ],
   "source": [
    "linspace,step=np.linspace(1,10,6,retstep=True,dtype=int) #we store step differently\n",
    "print(linspace)\n",
    "print(step)"
   ]
  },
  {
   "cell_type": "markdown",
   "id": "6402af68",
   "metadata": {
    "papermill": {
     "duration": 0.041188,
     "end_time": "2022-09-19T19:39:07.501739",
     "exception": false,
     "start_time": "2022-09-19T19:39:07.460551",
     "status": "completed"
    },
    "tags": []
   },
   "source": [
    "### Nonscalar Values for Higher-Dimensional Arrays\n",
    "\n",
    "- Axis: This parameter is used only with nonscalar start and stop values. It determines the axis along which the results are stored."
   ]
  },
  {
   "cell_type": "code",
   "execution_count": 34,
   "id": "d5919380",
   "metadata": {
    "execution": {
     "iopub.execute_input": "2022-09-19T19:39:07.587541Z",
     "iopub.status.busy": "2022-09-19T19:39:07.587122Z",
     "iopub.status.idle": "2022-09-19T19:39:07.596494Z",
     "shell.execute_reply": "2022-09-19T19:39:07.595089Z"
    },
    "papermill": {
     "duration": 0.054501,
     "end_time": "2022-09-19T19:39:07.598582",
     "exception": false,
     "start_time": "2022-09-19T19:39:07.544081",
     "status": "completed"
    },
    "tags": []
   },
   "outputs": [
    {
     "name": "stdout",
     "output_type": "stream",
     "text": [
      "[[  2.    5.    9. ]\n",
      " [ 21.6  30.   39.2]\n",
      " [ 41.2  55.   69.4]\n",
      " [ 60.8  80.   99.6]\n",
      " [ 80.4 105.  129.8]\n",
      " [100.  130.  160. ]]\n",
      "\n",
      "Shepe of this array: (6, 3)\n",
      "\n",
      " Element of array:(at postion:0) [2. 5. 9.]\n",
      "\n",
      " Element of array:(at postion:1) [21.6 30.  39.2]\n",
      "\n",
      " Element of array:(at postion:2) [41.2 55.  69.4]\n",
      "\n",
      " Element of array:(at postion:0,1) 5.0\n",
      "\n",
      " Element of array:(at postion:1,1) 30.0\n",
      "\n",
      " Element of array:(at postion:2,2) 69.4\n"
     ]
    }
   ],
   "source": [
    "output = np.linspace(start=[2, 5, 9], stop=[100, 130, 160], num=6)\n",
    "print(output)\n",
    "\n",
    "print(\"\\nShepe of this array:\",output.shape)\n",
    "\n",
    "print(\"\\n Element of array:(at postion:0)\",output[0])\n",
    "print(\"\\n Element of array:(at postion:1)\",output[1])\n",
    "print(\"\\n Element of array:(at postion:2)\",output[2])\n",
    "\n",
    "print(\"\\n Element of array:(at postion:0,1)\",output[0][1])\n",
    "print(\"\\n Element of array:(at postion:1,1)\",output[1][1])\n",
    "print(\"\\n Element of array:(at postion:2,2)\",output[2][2])"
   ]
  },
  {
   "cell_type": "code",
   "execution_count": 35,
   "id": "c294f4c4",
   "metadata": {
    "execution": {
     "iopub.execute_input": "2022-09-19T19:39:07.684276Z",
     "iopub.status.busy": "2022-09-19T19:39:07.683890Z",
     "iopub.status.idle": "2022-09-19T19:39:07.692773Z",
     "shell.execute_reply": "2022-09-19T19:39:07.691481Z"
    },
    "papermill": {
     "duration": 0.054506,
     "end_time": "2022-09-19T19:39:07.695234",
     "exception": false,
     "start_time": "2022-09-19T19:39:07.640728",
     "status": "completed"
    },
    "tags": []
   },
   "outputs": [
    {
     "name": "stdout",
     "output_type": "stream",
     "text": [
      "[[  2.   21.6  41.2  60.8  80.4 100. ]\n",
      " [  5.   30.   55.   80.  105.  130. ]\n",
      " [  9.   39.2  69.4  99.6 129.8 160. ]]\n",
      "\n",
      "Shepe of this array: (3, 6)\n",
      "\n",
      " Element of array:(at postion:0) [  2.   21.6  41.2  60.8  80.4 100. ]\n",
      "\n",
      " Element of array:(at postion:1) [  5.  30.  55.  80. 105. 130.]\n",
      "\n",
      " Element of array:(at postion:2) [  9.   39.2  69.4  99.6 129.8 160. ]\n",
      "\n",
      " Element of array:(at postion:0,1) 21.6\n",
      "\n",
      " Element of array:(at postion:1,1) 30.0\n",
      "\n",
      " Element of array:(at postion:2,2) 69.4\n"
     ]
    }
   ],
   "source": [
    "output = np.linspace(start=[2, 5, 9],stop=[100, 130, 160],num=6,axis=1) #default axis is 0\n",
    "print(output)\n",
    "\n",
    "print(\"\\nShepe of this array:\",output.shape)\n",
    "\n",
    "print(\"\\n Element of array:(at postion:0)\",output[0])\n",
    "print(\"\\n Element of array:(at postion:1)\",output[1])\n",
    "print(\"\\n Element of array:(at postion:2)\",output[2])\n",
    "\n",
    "print(\"\\n Element of array:(at postion:0,1)\",output[0][1])\n",
    "print(\"\\n Element of array:(at postion:1,1)\",output[1][1])\n",
    "print(\"\\n Element of array:(at postion:2,2)\",output[2][2])"
   ]
  },
  {
   "cell_type": "markdown",
   "id": "c1f2fa0e",
   "metadata": {
    "papermill": {
     "duration": 0.042566,
     "end_time": "2022-09-19T19:39:07.780115",
     "exception": false,
     "start_time": "2022-09-19T19:39:07.737549",
     "status": "completed"
    },
    "tags": []
   },
   "source": [
    "#### Mathematical Functions With np.linspace()"
   ]
  },
  {
   "cell_type": "code",
   "execution_count": 36,
   "id": "0a7e6891",
   "metadata": {
    "execution": {
     "iopub.execute_input": "2022-09-19T19:39:07.866616Z",
     "iopub.status.busy": "2022-09-19T19:39:07.866174Z",
     "iopub.status.idle": "2022-09-19T19:39:07.876960Z",
     "shell.execute_reply": "2022-09-19T19:39:07.874963Z"
    },
    "papermill": {
     "duration": 0.057359,
     "end_time": "2022-09-19T19:39:07.879817",
     "exception": false,
     "start_time": "2022-09-19T19:39:07.822458",
     "status": "completed"
    },
    "tags": []
   },
   "outputs": [
    {
     "name": "stdout",
     "output_type": "stream",
     "text": [
      "X-Value\n",
      "\n",
      " [-100.          -97.97979798  -95.95959596  -93.93939394  -91.91919192\n",
      "  -89.8989899   -87.87878788  -85.85858586  -83.83838384  -81.81818182\n",
      "  -79.7979798   -77.77777778  -75.75757576  -73.73737374  -71.71717172\n",
      "  -69.6969697   -67.67676768  -65.65656566  -63.63636364  -61.61616162\n",
      "  -59.5959596   -57.57575758  -55.55555556  -53.53535354  -51.51515152\n",
      "  -49.49494949  -47.47474747  -45.45454545  -43.43434343  -41.41414141\n",
      "  -39.39393939  -37.37373737  -35.35353535  -33.33333333  -31.31313131\n",
      "  -29.29292929  -27.27272727  -25.25252525  -23.23232323  -21.21212121\n",
      "  -19.19191919  -17.17171717  -15.15151515  -13.13131313  -11.11111111\n",
      "   -9.09090909   -7.07070707   -5.05050505   -3.03030303   -1.01010101\n",
      "    1.01010101    3.03030303    5.05050505    7.07070707    9.09090909\n",
      "   11.11111111   13.13131313   15.15151515   17.17171717   19.19191919\n",
      "   21.21212121   23.23232323   25.25252525   27.27272727   29.29292929\n",
      "   31.31313131   33.33333333   35.35353535   37.37373737   39.39393939\n",
      "   41.41414141   43.43434343   45.45454545   47.47474747   49.49494949\n",
      "   51.51515152   53.53535354   55.55555556   57.57575758   59.5959596\n",
      "   61.61616162   63.63636364   65.65656566   67.67676768   69.6969697\n",
      "   71.71717172   73.73737374   75.75757576   77.77777778   79.7979798\n",
      "   81.81818182   83.83838384   85.85858586   87.87878788   89.8989899\n",
      "   91.91919192   93.93939394   95.95959596   97.97979798  100.        ] \n",
      "\n",
      "\n",
      "Y-Value\n",
      "\n",
      " [-3.98050000e+06 -3.74373005e+06 -3.51654083e+06 -3.29873444e+06\n",
      " -3.09011301e+06 -2.89047867e+06 -2.69963354e+06 -2.51737974e+06\n",
      " -2.34351939e+06 -2.17785462e+06 -2.02018755e+06 -1.87032030e+06\n",
      " -1.72805500e+06 -1.59319376e+06 -1.46553872e+06 -1.34489199e+06\n",
      " -1.23105570e+06 -1.12383197e+06 -1.02302292e+06 -9.28430670e+05\n",
      " -8.39857353e+05 -7.57105087e+05 -6.79975995e+05 -6.08272199e+05\n",
      " -5.41795823e+05 -4.80348990e+05 -4.23733822e+05 -3.71752442e+05\n",
      " -3.24206973e+05 -2.80899538e+05 -2.41632259e+05 -2.06207260e+05\n",
      " -1.74426664e+05 -1.46092593e+05 -1.21007169e+05 -9.89725172e+04\n",
      " -7.97907588e+04 -6.32640171e+04 -4.91944148e+04 -3.73840749e+04\n",
      " -2.76351202e+04 -1.97496736e+04 -1.35298578e+04 -8.77779581e+03\n",
      " -5.29561043e+03 -2.88542449e+03 -1.34936087e+03 -4.89542399e+02\n",
      " -1.08091939e+02 -7.13233756e+00  1.12135538e+01  1.44822884e+02\n",
      "  5.91572804e+02  1.54934046e+03  3.21600301e+03  5.78943759e+03\n",
      "  9.46752135e+03  1.44481315e+04  2.09291450e+04  2.91084393e+04\n",
      "  3.91838913e+04  5.13533782e+04  6.58147772e+04  8.27659654e+04\n",
      "  1.02404820e+05  1.24929218e+05  1.50537037e+05  1.79426154e+05\n",
      "  2.11794445e+05  2.47839789e+05  2.87760062e+05  3.31753142e+05\n",
      "  3.80016905e+05  4.32749228e+05  4.90147990e+05  5.52411067e+05\n",
      "  6.19736335e+05  6.92321674e+05  7.70364958e+05  8.54064066e+05\n",
      "  9.43616875e+05  1.03922126e+06  1.14107510e+06  1.24937628e+06\n",
      "  1.36432266e+06  1.48611213e+06  1.61494257e+06  1.75101184e+06\n",
      "  1.89451783e+06  2.04565842e+06  2.20463148e+06  2.37163489e+06\n",
      "  2.54686653e+06  2.73052426e+06  2.92280599e+06  3.12390956e+06\n",
      "  3.33403288e+06  3.55337380e+06  3.78213022e+06  4.02050000e+06]\n"
     ]
    }
   ],
   "source": [
    "x_ = np.linspace(-100, 100, 100)\n",
    "y_ = 4 * (x_**3) + 2 * (x_**2) + 5 * x_\n",
    "print(\"X-Value\\n\\n\",x_,\"\\n\\n\\nY-Value\\n\\n\",y_)"
   ]
  },
  {
   "cell_type": "code",
   "execution_count": 37,
   "id": "c7615830",
   "metadata": {
    "execution": {
     "iopub.execute_input": "2022-09-19T19:39:07.967097Z",
     "iopub.status.busy": "2022-09-19T19:39:07.966022Z",
     "iopub.status.idle": "2022-09-19T19:39:08.201316Z",
     "shell.execute_reply": "2022-09-19T19:39:08.200250Z"
    },
    "papermill": {
     "duration": 0.281073,
     "end_time": "2022-09-19T19:39:08.204071",
     "exception": false,
     "start_time": "2022-09-19T19:39:07.922998",
     "status": "completed"
    },
    "tags": []
   },
   "outputs": [
    {
     "data": {
      "image/png": "[encoded data removed]",
      "text/plain": [
       "<Figure size 432x288 with 1 Axes>"
      ]
     },
     "metadata": {
      "needs_background": "light"
     },
     "output_type": "display_data"
    }
   ],
   "source": [
    "import matplotlib.pyplot as plt\n",
    "\n",
    "plt.plot(x_, y_)\n",
    "plt.show()"
   ]
  },
  {
   "cell_type": "markdown",
   "id": "9237c6ba",
   "metadata": {
    "papermill": {
     "duration": 0.041839,
     "end_time": "2022-09-19T19:39:08.288610",
     "exception": false,
     "start_time": "2022-09-19T19:39:08.246771",
     "status": "completed"
    },
    "tags": []
   },
   "source": [
    "### Use of np.reshape():\n",
    "- Gives a new shape to an array without changing its data.\n",
    "- **Syntex:** <H3>numpy.reshape(a, newshape, order='C')</H3>\n"
   ]
  },
  {
   "cell_type": "code",
   "execution_count": 38,
   "id": "ff992f8f",
   "metadata": {
    "execution": {
     "iopub.execute_input": "2022-09-19T19:39:08.374647Z",
     "iopub.status.busy": "2022-09-19T19:39:08.373966Z",
     "iopub.status.idle": "2022-09-19T19:39:08.381777Z",
     "shell.execute_reply": "2022-09-19T19:39:08.380429Z"
    },
    "papermill": {
     "duration": 0.053378,
     "end_time": "2022-09-19T19:39:08.383838",
     "exception": false,
     "start_time": "2022-09-19T19:39:08.330460",
     "status": "completed"
    },
    "tags": []
   },
   "outputs": [
    {
     "name": "stdout",
     "output_type": "stream",
     "text": [
      "Sample array A:\n",
      " [[0 1]\n",
      " [2 3]\n",
      " [4 5]]\n",
      "Reshape Array A:\n",
      " [[0 1 2]\n",
      " [3 4 5]]\n"
     ]
    }
   ],
   "source": [
    "a = np.arange(6).reshape((3, 2))    #CREATING ARRAY OF SHAPE 3,2\n",
    "print(\"Sample array A:\\n\",a)\n",
    "\n",
    "b=np.reshape(a, (2, 3))          #CHANGING SHAPE OF ARRAY FROM 3,2 TO 2,3\n",
    "print(\"Reshape Array A:\\n\",b)"
   ]
  },
  {
   "cell_type": "code",
   "execution_count": 39,
   "id": "ac258a59",
   "metadata": {
    "execution": {
     "iopub.execute_input": "2022-09-19T19:39:08.469978Z",
     "iopub.status.busy": "2022-09-19T19:39:08.469577Z",
     "iopub.status.idle": "2022-09-19T19:39:08.476078Z",
     "shell.execute_reply": "2022-09-19T19:39:08.475025Z"
    },
    "papermill": {
     "duration": 0.05331,
     "end_time": "2022-09-19T19:39:08.479049",
     "exception": false,
     "start_time": "2022-09-19T19:39:08.425739",
     "status": "completed"
    },
    "tags": []
   },
   "outputs": [
    {
     "name": "stdout",
     "output_type": "stream",
     "text": [
      "with change in order:\n",
      " [[0 1]\n",
      " [2 3]\n",
      " [4 5]] False\n",
      "without change in order:\n",
      " [[0 4 3]\n",
      " [2 1 5]] True\n"
     ]
    }
   ],
   "source": [
    "#without changing shape and order np.isfortran is \"False\"\n",
    "b=np.reshape(a, (3,2),order=\"F\")\n",
    "print(\"with change in order:\\n\",b,np.isfortran(b))\n",
    "\n",
    "#with changing shape and order also np.isfortran is \"True\"\n",
    "b=np.reshape(a, (2,3),order=\"F\")\n",
    "print(\"without change in order:\\n\",b,np.isfortran(b))"
   ]
  },
  {
   "cell_type": "code",
   "execution_count": 40,
   "id": "4cfca9e7",
   "metadata": {
    "execution": {
     "iopub.execute_input": "2022-09-19T19:39:08.566004Z",
     "iopub.status.busy": "2022-09-19T19:39:08.565638Z",
     "iopub.status.idle": "2022-09-19T19:39:08.571752Z",
     "shell.execute_reply": "2022-09-19T19:39:08.570716Z"
    },
    "papermill": {
     "duration": 0.052968,
     "end_time": "2022-09-19T19:39:08.574398",
     "exception": false,
     "start_time": "2022-09-19T19:39:08.521430",
     "status": "completed"
    },
    "tags": []
   },
   "outputs": [
    {
     "name": "stdout",
     "output_type": "stream",
     "text": [
      "Contineous Flatted array: [0 1 2 3 4 5]\n",
      "\n",
      "New shape array b:\n",
      " [[0 1 2]\n",
      " [3 4 5]]\n"
     ]
    }
   ],
   "source": [
    "b=np.ravel(a) #Contineous Flatted array:\n",
    "print(\"Contineous Flatted array:\",b)\n",
    "\n",
    "b=np.reshape(b, (2, 3))\n",
    "print(\"\\nNew shape array b:\\n\",b)"
   ]
  },
  {
   "cell_type": "code",
   "execution_count": 41,
   "id": "60058944",
   "metadata": {
    "execution": {
     "iopub.execute_input": "2022-09-19T19:39:08.661100Z",
     "iopub.status.busy": "2022-09-19T19:39:08.660724Z",
     "iopub.status.idle": "2022-09-19T19:39:08.666936Z",
     "shell.execute_reply": "2022-09-19T19:39:08.665816Z"
    },
    "papermill": {
     "duration": 0.052623,
     "end_time": "2022-09-19T19:39:08.669584",
     "exception": false,
     "start_time": "2022-09-19T19:39:08.616961",
     "status": "completed"
    },
    "tags": []
   },
   "outputs": [
    {
     "name": "stdout",
     "output_type": "stream",
     "text": [
      "flatten array with order 'F':\n",
      " [0 2 4 1 3 5]\n",
      "new array:\n",
      " [[0 4 3]\n",
      " [2 1 5]]\n"
     ]
    }
   ],
   "source": [
    "b=np.ravel(a, order='F')\n",
    "print(\"flatten array with order 'F':\\n\",b)\n",
    "b=np.reshape(b, (2, 3), order='F')\n",
    "print(\"new array:\\n\",b)"
   ]
  },
  {
   "cell_type": "code",
   "execution_count": 42,
   "id": "e79ac7f3",
   "metadata": {
    "execution": {
     "iopub.execute_input": "2022-09-19T19:39:08.758080Z",
     "iopub.status.busy": "2022-09-19T19:39:08.757713Z",
     "iopub.status.idle": "2022-09-19T19:39:08.764991Z",
     "shell.execute_reply": "2022-09-19T19:39:08.763941Z"
    },
    "papermill": {
     "duration": 0.055653,
     "end_time": "2022-09-19T19:39:08.767673",
     "exception": false,
     "start_time": "2022-09-19T19:39:08.712020",
     "status": "completed"
    },
    "tags": []
   },
   "outputs": [
    {
     "name": "stdout",
     "output_type": "stream",
     "text": [
      "[[1 2 3]\n",
      " [4 5 6]]\n",
      "IN 1-D array :  [1 4 2 5 3 6]\n",
      "\n",
      "1-D array: [1 2 3 4 5 6]\n"
     ]
    }
   ],
   "source": [
    "a = np.array([[1,2,3], [4,5,6]])\n",
    "print(a)\n",
    "b=np.reshape(a, 6, order='F')\n",
    "print(\"IN 1-D array : \",b)\n",
    "\n",
    "\n",
    "#WE CAN CREATE FLATTEN LIKE THAT ALSO\n",
    "\n",
    "arr = np.array([[1, 2, 3], [4, 5, 6]])\n",
    "newarr = arr.reshape(-1)\n",
    "print(\"\\n1-D array:\",newarr)"
   ]
  },
  {
   "cell_type": "code",
   "execution_count": 43,
   "id": "e3048029",
   "metadata": {
    "execution": {
     "iopub.execute_input": "2022-09-19T19:39:08.856339Z",
     "iopub.status.busy": "2022-09-19T19:39:08.855945Z",
     "iopub.status.idle": "2022-09-19T19:39:08.862498Z",
     "shell.execute_reply": "2022-09-19T19:39:08.861448Z"
    },
    "papermill": {
     "duration": 0.053738,
     "end_time": "2022-09-19T19:39:08.865063",
     "exception": false,
     "start_time": "2022-09-19T19:39:08.811325",
     "status": "completed"
    },
    "tags": []
   },
   "outputs": [
    {
     "name": "stdout",
     "output_type": "stream",
     "text": [
      "[1 2 3 4 5 6 7 8 9]\n"
     ]
    }
   ],
   "source": [
    "arr = np.array([1, 2, 3, 4, 5, 6, 7, 8,9])\n",
    "arr1=arr.reshape(3,3) ###WE CAN USE LIKE THAT ALSO\n",
    "print(arr)"
   ]
  },
  {
   "cell_type": "markdown",
   "id": "6e722731",
   "metadata": {
    "papermill": {
     "duration": 0.042895,
     "end_time": "2022-09-19T19:39:08.950598",
     "exception": false,
     "start_time": "2022-09-19T19:39:08.907703",
     "status": "completed"
    },
    "tags": []
   },
   "source": [
    "##### numpy.ndarray.base\n",
    "- Base object if memory is from some other object."
   ]
  },
  {
   "cell_type": "code",
   "execution_count": 44,
   "id": "0c1b778f",
   "metadata": {
    "execution": {
     "iopub.execute_input": "2022-09-19T19:39:09.038356Z",
     "iopub.status.busy": "2022-09-19T19:39:09.037924Z",
     "iopub.status.idle": "2022-09-19T19:39:09.044530Z",
     "shell.execute_reply": "2022-09-19T19:39:09.043373Z"
    },
    "papermill": {
     "duration": 0.0537,
     "end_time": "2022-09-19T19:39:09.047550",
     "exception": false,
     "start_time": "2022-09-19T19:39:08.993850",
     "status": "completed"
    },
    "tags": []
   },
   "outputs": [
    {
     "name": "stdout",
     "output_type": "stream",
     "text": [
      "None True \n",
      " Give the base of array:base: [1 2 3 4 5 6 7 8 9] False\n"
     ]
    }
   ],
   "source": [
    "print(arr.base,arr.base is None,\"\\n Give the base of array:base:\",arr1.base,arr1.base is None)"
   ]
  },
  {
   "cell_type": "markdown",
   "id": "fe7023bb",
   "metadata": {
    "papermill": {
     "duration": 0.042735,
     "end_time": "2022-09-19T19:39:09.134462",
     "exception": false,
     "start_time": "2022-09-19T19:39:09.091727",
     "status": "completed"
    },
    "tags": []
   },
   "source": [
    "## Working with numpy.ravel\n",
    "- Return a contiguous flattened array.\n",
    "\n",
    "- A 1-D array, containing the elements of the input, is returned. A copy is made only if needed.\n",
    "\n",
    "- As of NumPy 1.10, the returned array will have the same type as the input array. (for example, a masked array will be returned for a masked array input)\n",
    "- **Syntex:** <H3>numpy.ravel(a, order='C')</H3>\n"
   ]
  },
  {
   "cell_type": "code",
   "execution_count": 45,
   "id": "d65fcb34",
   "metadata": {
    "execution": {
     "iopub.execute_input": "2022-09-19T19:39:09.221959Z",
     "iopub.status.busy": "2022-09-19T19:39:09.221564Z",
     "iopub.status.idle": "2022-09-19T19:39:09.228314Z",
     "shell.execute_reply": "2022-09-19T19:39:09.227086Z"
    },
    "papermill": {
     "duration": 0.05308,
     "end_time": "2022-09-19T19:39:09.230566",
     "exception": false,
     "start_time": "2022-09-19T19:39:09.177486",
     "status": "completed"
    },
    "tags": []
   },
   "outputs": [
    {
     "name": "stdout",
     "output_type": "stream",
     "text": [
      "Sample 2-D array:\n",
      " [[1 2 3]\n",
      " [4 5 6]]\n",
      "New Flattened array(1-D) [1 2 3 4 5 6] \n",
      "Shape of New array (6,)\n"
     ]
    }
   ],
   "source": [
    "arr_revel= np.array([[1, 2, 3], [4, 5, 6]])\n",
    "print(\"Sample 2-D array:\\n\",arr_revel)\n",
    "newarr=np.ravel(arr_revel)\n",
    "print(\"New Flattened array(1-D)\",newarr,'\\nShape of New array',newarr.shape)\n"
   ]
  },
  {
   "cell_type": "code",
   "execution_count": 46,
   "id": "45c65cc6",
   "metadata": {
    "execution": {
     "iopub.execute_input": "2022-09-19T19:39:09.317214Z",
     "iopub.status.busy": "2022-09-19T19:39:09.316783Z",
     "iopub.status.idle": "2022-09-19T19:39:09.323312Z",
     "shell.execute_reply": "2022-09-19T19:39:09.321569Z"
    },
    "papermill": {
     "duration": 0.052655,
     "end_time": "2022-09-19T19:39:09.325656",
     "exception": false,
     "start_time": "2022-09-19T19:39:09.273001",
     "status": "completed"
    },
    "tags": []
   },
   "outputs": [
    {
     "name": "stdout",
     "output_type": "stream",
     "text": [
      "New flatten array with order: [1 4 2 5 3 6]\n"
     ]
    }
   ],
   "source": [
    "newarr=np.ravel(arr_revel, order='F')\n",
    "print(\"New flatten array with order:\",newarr)"
   ]
  },
  {
   "cell_type": "markdown",
   "id": "c9ff47d2",
   "metadata": {
    "papermill": {
     "duration": 0.042609,
     "end_time": "2022-09-19T19:39:09.411568",
     "exception": false,
     "start_time": "2022-09-19T19:39:09.368959",
     "status": "completed"
    },
    "tags": []
   },
   "source": [
    "## Working with numpy.ndarray.flatten\n",
    "- Return a copy of the array collapsed into one dimension.\n",
    "- **Syntex:** <H3>ndarray.flatten(order='C')</H3>\n"
   ]
  },
  {
   "cell_type": "code",
   "execution_count": 47,
   "id": "126ea67b",
   "metadata": {
    "execution": {
     "iopub.execute_input": "2022-09-19T19:39:09.499196Z",
     "iopub.status.busy": "2022-09-19T19:39:09.498800Z",
     "iopub.status.idle": "2022-09-19T19:39:09.505081Z",
     "shell.execute_reply": "2022-09-19T19:39:09.503944Z"
    },
    "papermill": {
     "duration": 0.053631,
     "end_time": "2022-09-19T19:39:09.508156",
     "exception": false,
     "start_time": "2022-09-19T19:39:09.454525",
     "status": "completed"
    },
    "tags": []
   },
   "outputs": [
    {
     "name": "stdout",
     "output_type": "stream",
     "text": [
      "Give a Copy of Array:\n",
      " [[1 2]\n",
      " [3 4]]\n"
     ]
    }
   ],
   "source": [
    "aflate = np.array([[1,2], [3,4]])\n",
    "print(\"Give a Copy of Array:\\n\",aflate)"
   ]
  },
  {
   "cell_type": "markdown",
   "id": "672ccf57",
   "metadata": {
    "papermill": {
     "duration": 0.043841,
     "end_time": "2022-09-19T19:39:09.596707",
     "exception": false,
     "start_time": "2022-09-19T19:39:09.552866",
     "status": "completed"
    },
    "tags": []
   },
   "source": [
    "\n",
    "<html>\n",
    "    <h2 style=\"text-align:center\"><strong>Differences between Flatten() and Ravel()</strong></h2>\n",
    "<figure class=\"table\"><table><thead><tr><th><p style=\"text-align:center\"><strong>ravel()</strong></p></th><th><p style=\"text-align:center\"><strong>flatten()</strong></p></th></tr></thead><tbody><tr><td>Return only reference/view of the original array</td><td>Return copy of the original array</td></tr><tr><td>If you modify the array you would notice that the value of the original array also changes.</td><td>If you modify any value of this array value of the original array is not affected.</td></tr><tr><td>Ravel is faster than flatten() as it does not occupy any memory.</td><td>Flatten() is comparatively slower than ravel() as it occupies memory.</td></tr><tr><td>Ravel is a library-level function.&nbsp;</td><td>Flatten is a method of an ndarray object. Let us check out the difference in this code.</td></tr></tbody></table></figure>\n",
    "</html>"
   ]
  },
  {
   "cell_type": "markdown",
   "id": "cb131d77",
   "metadata": {
    "papermill": {
     "duration": 0.043137,
     "end_time": "2022-09-19T19:39:09.684225",
     "exception": false,
     "start_time": "2022-09-19T19:39:09.641088",
     "status": "completed"
    },
    "tags": []
   },
   "source": [
    "### Working with numpy.transpose\n",
    "- Reverse or permute the axes of an array; returns the modified array.(Returns a view of the array with axes transposed.)\n",
    "\n",
    "- For an array a with two axes, transpose(a) gives the matrix transpose.\n",
    "\n",
    "- **Syntex:** <H3>numpy.transpose(a, axes=None)</H3>\n"
   ]
  },
  {
   "cell_type": "code",
   "execution_count": 48,
   "id": "54a2fbb8",
   "metadata": {
    "execution": {
     "iopub.execute_input": "2022-09-19T19:39:09.773717Z",
     "iopub.status.busy": "2022-09-19T19:39:09.772746Z",
     "iopub.status.idle": "2022-09-19T19:39:09.779461Z",
     "shell.execute_reply": "2022-09-19T19:39:09.778343Z"
    },
    "papermill": {
     "duration": 0.055056,
     "end_time": "2022-09-19T19:39:09.782462",
     "exception": false,
     "start_time": "2022-09-19T19:39:09.727406",
     "status": "completed"
    },
    "tags": []
   },
   "outputs": [
    {
     "name": "stdout",
     "output_type": "stream",
     "text": [
      "Sample array:\n",
      " [[1 2 3]\n",
      " [4 5 6]\n",
      " [7 8 9]]\n",
      "Transpose array:\n",
      " [[1 4 7]\n",
      " [2 5 8]\n",
      " [3 6 9]]\n"
     ]
    }
   ],
   "source": [
    "arr_trans=np.array([[1, 2, 3],\n",
    "                [4, 5, 6],\n",
    "                [7, 8, 9]])\n",
    "print(\"Sample array:\\n\",arr_trans)\n",
    "print(\"Transpose array:\\n\",arr_trans.transpose())\n",
    "                "
   ]
  },
  {
   "cell_type": "code",
   "execution_count": 49,
   "id": "5dfbad5f",
   "metadata": {
    "execution": {
     "iopub.execute_input": "2022-09-19T19:39:09.873264Z",
     "iopub.status.busy": "2022-09-19T19:39:09.872127Z",
     "iopub.status.idle": "2022-09-19T19:39:09.879331Z",
     "shell.execute_reply": "2022-09-19T19:39:09.877950Z"
    },
    "papermill": {
     "duration": 0.054728,
     "end_time": "2022-09-19T19:39:09.881802",
     "exception": false,
     "start_time": "2022-09-19T19:39:09.827074",
     "status": "completed"
    },
    "tags": []
   },
   "outputs": [
    {
     "name": "stdout",
     "output_type": "stream",
     "text": [
      "Sample array:\n",
      " [[1 2 3]\n",
      " [4 5 6]\n",
      " [7 8 9]]\n",
      "Transpose array:\n",
      " [[1 4 7]\n",
      " [2 5 8]\n",
      " [3 6 9]]\n"
     ]
    }
   ],
   "source": [
    "arr_trans=np.array([[1, 2, 3],\n",
    "                [4, 5, 6],\n",
    "                [7, 8, 9]])\n",
    "print(\"Sample array:\\n\",arr_trans)\n",
    "print(\"Transpose array:\\n\",arr_trans.T)"
   ]
  },
  {
   "cell_type": "code",
   "execution_count": 50,
   "id": "41c9eee4",
   "metadata": {
    "execution": {
     "iopub.execute_input": "2022-09-19T19:39:09.970910Z",
     "iopub.status.busy": "2022-09-19T19:39:09.970501Z",
     "iopub.status.idle": "2022-09-19T19:39:09.977123Z",
     "shell.execute_reply": "2022-09-19T19:39:09.975891Z"
    },
    "papermill": {
     "duration": 0.053554,
     "end_time": "2022-09-19T19:39:09.979418",
     "exception": false,
     "start_time": "2022-09-19T19:39:09.925864",
     "status": "completed"
    },
    "tags": []
   },
   "outputs": [
    {
     "name": "stdout",
     "output_type": "stream",
     "text": [
      "Sample arrary\n",
      " [[1 2]\n",
      " [4 5]\n",
      " [7 8]]\n",
      "Transpose with axis:\n",
      " [[1 4 7]\n",
      " [2 5 8]]\n"
     ]
    }
   ],
   "source": [
    "a= np.array([[1, 2], [4, 5], [7, 8]])  \n",
    "print(\"Sample arrary\\n\",a)\n",
    "b=np.transpose(a, (1,0))  \n",
    "print(\"Transpose with axis:\\n\",b)\n"
   ]
  },
  {
   "cell_type": "code",
   "execution_count": 51,
   "id": "0d2a810f",
   "metadata": {
    "execution": {
     "iopub.execute_input": "2022-09-19T19:39:10.068211Z",
     "iopub.status.busy": "2022-09-19T19:39:10.067430Z",
     "iopub.status.idle": "2022-09-19T19:39:10.076076Z",
     "shell.execute_reply": "2022-09-19T19:39:10.075032Z"
    },
    "papermill": {
     "duration": 0.055565,
     "end_time": "2022-09-19T19:39:10.078760",
     "exception": false,
     "start_time": "2022-09-19T19:39:10.023195",
     "status": "completed"
    },
    "tags": []
   },
   "outputs": [
    {
     "name": "stdout",
     "output_type": "stream",
     "text": [
      "Shape of sample array:\n",
      " [[[1. 1. 1. 1.]\n",
      "  [1. 1. 1. 1.]\n",
      "  [1. 1. 1. 1.]]\n",
      "\n",
      " [[1. 1. 1. 1.]\n",
      "  [1. 1. 1. 1.]\n",
      "  [1. 1. 1. 1.]]] \n",
      "Shape of Sample array (2, 3, 4) \n",
      "Dimention of Sample array: 3\n",
      "\n",
      "Transpose array b:\n",
      " [[[1. 1. 1. 1.]\n",
      "  [1. 1. 1. 1.]]\n",
      "\n",
      " [[1. 1. 1. 1.]\n",
      "  [1. 1. 1. 1.]]\n",
      "\n",
      " [[1. 1. 1. 1.]\n",
      "  [1. 1. 1. 1.]]] \n",
      "Shape of Transpose array (3, 2, 4) \n",
      "Dimention of Transpose array: 3\n",
      "\n",
      "Transpose array c:\n",
      " [[[1. 1.]\n",
      "  [1. 1.]\n",
      "  [1. 1.]]\n",
      "\n",
      " [[1. 1.]\n",
      "  [1. 1.]\n",
      "  [1. 1.]]\n",
      "\n",
      " [[1. 1.]\n",
      "  [1. 1.]\n",
      "  [1. 1.]]\n",
      "\n",
      " [[1. 1.]\n",
      "  [1. 1.]\n",
      "  [1. 1.]]] \n",
      "Shape of Transpose array (4, 3, 2) \n",
      "Dimention of Transpose array: 3\n"
     ]
    }
   ],
   "source": [
    "a = np.ones((2,3,4))\n",
    "print(\"Shape of sample array:\\n\",a,\"\\nShape of Sample array\",a.shape,\"\\nDimention of Sample array:\",a.ndim)\n",
    "\n",
    "\n",
    "b=np.transpose(a,(1,0,2))   #0, 1 ,2 the axis refer 2,3,4 in a\n",
    "print(\"\\nTranspose array b:\\n\",b,\"\\nShape of Transpose array\",b.shape,\"\\nDimention of Transpose array:\",b.ndim)\n",
    "\n",
    "\n",
    "c=np.transpose(a,(2,1,0))   #0, 1 ,2 the axis refer 2,3,4 in a\n",
    "print(\"\\nTranspose array c:\\n\",c,\"\\nShape of Transpose array\",c.shape,\"\\nDimention of Transpose array:\",c.ndim)\n"
   ]
  },
  {
   "cell_type": "markdown",
   "id": "c0bfe3d2",
   "metadata": {
    "papermill": {
     "duration": 0.042686,
     "end_time": "2022-09-19T19:39:10.164739",
     "exception": false,
     "start_time": "2022-09-19T19:39:10.122053",
     "status": "completed"
    },
    "tags": []
   },
   "source": [
    "# Mathematical Operation Using NumPy:\n",
    "\n",
    "### Working with Addition:\n",
    "- We use add() to add.\n",
    "- Or we can use '+' operator.\n",
    "- **Syntex:** <H3>np.add()</H3>"
   ]
  },
  {
   "cell_type": "code",
   "execution_count": 52,
   "id": "d16c550f",
   "metadata": {
    "execution": {
     "iopub.execute_input": "2022-09-19T19:39:10.252114Z",
     "iopub.status.busy": "2022-09-19T19:39:10.251722Z",
     "iopub.status.idle": "2022-09-19T19:39:10.258450Z",
     "shell.execute_reply": "2022-09-19T19:39:10.257439Z"
    },
    "papermill": {
     "duration": 0.053587,
     "end_time": "2022-09-19T19:39:10.261131",
     "exception": false,
     "start_time": "2022-09-19T19:39:10.207544",
     "status": "completed"
    },
    "tags": []
   },
   "outputs": [
    {
     "name": "stdout",
     "output_type": "stream",
     "text": [
      "Sample Array1:\n",
      " [[0 1 2]\n",
      " [3 4 5]\n",
      " [6 7 8]]\n",
      "\n",
      "Sample Array2:\n",
      " [[9 8 7]\n",
      " [6 5 4]\n",
      " [3 2 1]]\n"
     ]
    }
   ],
   "source": [
    "array1=np.arange(0,9).reshape(3,3)\n",
    "array2=np.arange(9,0,-1).reshape(3,3)\n",
    "print(\"Sample Array1:\\n\",array1)\n",
    "print(\"\\nSample Array2:\\n\",array2)"
   ]
  },
  {
   "cell_type": "code",
   "execution_count": 53,
   "id": "dce14400",
   "metadata": {
    "execution": {
     "iopub.execute_input": "2022-09-19T19:39:10.349121Z",
     "iopub.status.busy": "2022-09-19T19:39:10.348745Z",
     "iopub.status.idle": "2022-09-19T19:39:10.354551Z",
     "shell.execute_reply": "2022-09-19T19:39:10.353807Z"
    },
    "papermill": {
     "duration": 0.052269,
     "end_time": "2022-09-19T19:39:10.356751",
     "exception": false,
     "start_time": "2022-09-19T19:39:10.304482",
     "status": "completed"
    },
    "tags": []
   },
   "outputs": [
    {
     "name": "stdout",
     "output_type": "stream",
     "text": [
      "Addition of array is:\n",
      " [[9 9 9]\n",
      " [9 9 9]\n",
      " [9 9 9]]\n",
      "\n",
      "Addition of array is:\n",
      " [[9 9 9]\n",
      " [9 9 9]\n",
      " [9 9 9]]\n"
     ]
    }
   ],
   "source": [
    "#use of '+' Operator\n",
    "\n",
    "print(\"Addition of array is:\\n\",array1+array2) \n",
    "\n",
    "#use of add()\n",
    "\n",
    "print(\"\\nAddition of array is:\\n\",np.add(array1,array2)) "
   ]
  },
  {
   "cell_type": "markdown",
   "id": "ad227775",
   "metadata": {
    "papermill": {
     "duration": 0.043075,
     "end_time": "2022-09-19T19:39:10.442814",
     "exception": false,
     "start_time": "2022-09-19T19:39:10.399739",
     "status": "completed"
    },
    "tags": []
   },
   "source": [
    "### Working with Subtraction:\n",
    "- We use subtract() to subtract.\n",
    "- Or we can use '-' operator.\n",
    "- **Syntex:** <H3>np.subtract()</H3>"
   ]
  },
  {
   "cell_type": "code",
   "execution_count": 54,
   "id": "3a241df6",
   "metadata": {
    "execution": {
     "iopub.execute_input": "2022-09-19T19:39:10.530893Z",
     "iopub.status.busy": "2022-09-19T19:39:10.530525Z",
     "iopub.status.idle": "2022-09-19T19:39:10.536314Z",
     "shell.execute_reply": "2022-09-19T19:39:10.535235Z"
    },
    "papermill": {
     "duration": 0.053519,
     "end_time": "2022-09-19T19:39:10.539596",
     "exception": false,
     "start_time": "2022-09-19T19:39:10.486077",
     "status": "completed"
    },
    "tags": []
   },
   "outputs": [
    {
     "name": "stdout",
     "output_type": "stream",
     "text": [
      "Subtraction of array is:\n",
      " [[-9 -7 -5]\n",
      " [-3 -1  1]\n",
      " [ 3  5  7]] \n",
      "\n",
      "Type of +: <class 'numpy.ndarray'>\n",
      "\n",
      "Subtraction of array is:\n",
      " [[-9 -7 -5]\n",
      " [-3 -1  1]\n",
      " [ 3  5  7]]\n"
     ]
    }
   ],
   "source": [
    "#use of '-' Operator\n",
    "\n",
    "print(\"Subtraction of array is:\\n\",array1-array2,\"\\n\\nType of +:\",type(array1*array2) )\n",
    "\n",
    "#use of subtract()\n",
    "\n",
    "print(\"\\nSubtraction of array is:\\n\",np.subtract(array1,array2)) "
   ]
  },
  {
   "cell_type": "markdown",
   "id": "a5623213",
   "metadata": {
    "papermill": {
     "duration": 0.043967,
     "end_time": "2022-09-19T19:39:10.628889",
     "exception": false,
     "start_time": "2022-09-19T19:39:10.584922",
     "status": "completed"
    },
    "tags": []
   },
   "source": [
    "### Working with Divition:\n",
    "- We use divide() to divide.\n",
    "- Or we can use '/' operator.\n",
    "- **Syntex:** <H3>np.divide()</H3>"
   ]
  },
  {
   "cell_type": "code",
   "execution_count": 55,
   "id": "8ff651eb",
   "metadata": {
    "execution": {
     "iopub.execute_input": "2022-09-19T19:39:10.719540Z",
     "iopub.status.busy": "2022-09-19T19:39:10.718907Z",
     "iopub.status.idle": "2022-09-19T19:39:10.726317Z",
     "shell.execute_reply": "2022-09-19T19:39:10.724709Z"
    },
    "papermill": {
     "duration": 0.054431,
     "end_time": "2022-09-19T19:39:10.728406",
     "exception": false,
     "start_time": "2022-09-19T19:39:10.673975",
     "status": "completed"
    },
    "tags": []
   },
   "outputs": [
    {
     "name": "stdout",
     "output_type": "stream",
     "text": [
      "Divition of array is:\n",
      " [[0.         0.125      0.28571429]\n",
      " [0.5        0.8        1.25      ]\n",
      " [2.         3.5        8.        ]]\n",
      "\n",
      "Divition of array is:\n",
      " [[0.         0.125      0.28571429]\n",
      " [0.5        0.8        1.25      ]\n",
      " [2.         3.5        8.        ]]\n"
     ]
    }
   ],
   "source": [
    "#use of '/' Operator\n",
    "\n",
    "print(\"Divition of array is:\\n\",array1/array2) \n",
    "\n",
    "#use of divide()\n",
    "\n",
    "print(\"\\nDivition of array is:\\n\",np.divide(array1,array2)) "
   ]
  },
  {
   "cell_type": "markdown",
   "id": "4de84610",
   "metadata": {
    "papermill": {
     "duration": 0.04331,
     "end_time": "2022-09-19T19:39:10.815403",
     "exception": false,
     "start_time": "2022-09-19T19:39:10.772093",
     "status": "completed"
    },
    "tags": []
   },
   "source": [
    "### Working with Multiply:\n",
    "- We use multiply() to multiply.\n",
    "- Or we can use '*' operator.\n",
    "- **Syntex:** <H3>np.multiply()</H3>"
   ]
  },
  {
   "cell_type": "code",
   "execution_count": 56,
   "id": "13a2b874",
   "metadata": {
    "execution": {
     "iopub.execute_input": "2022-09-19T19:39:10.905043Z",
     "iopub.status.busy": "2022-09-19T19:39:10.904631Z",
     "iopub.status.idle": "2022-09-19T19:39:10.909892Z",
     "shell.execute_reply": "2022-09-19T19:39:10.909147Z"
    },
    "papermill": {
     "duration": 0.052822,
     "end_time": "2022-09-19T19:39:10.912149",
     "exception": false,
     "start_time": "2022-09-19T19:39:10.859327",
     "status": "completed"
    },
    "tags": []
   },
   "outputs": [
    {
     "name": "stdout",
     "output_type": "stream",
     "text": [
      "Multiply of array is:\n",
      " [[ 0  8 14]\n",
      " [18 20 20]\n",
      " [18 14  8]]\n",
      "\n",
      "Multiply of array is:\n",
      " [[ 0  8 14]\n",
      " [18 20 20]\n",
      " [18 14  8]]\n"
     ]
    }
   ],
   "source": [
    "#use of '*' Operator\n",
    "print(\"Multiply of array is:\\n\",array1*array2) \n",
    "\n",
    "#use of multiply()\n",
    "\n",
    "print(\"\\nMultiply of array is:\\n\",np.multiply(array1,array2)) "
   ]
  },
  {
   "cell_type": "markdown",
   "id": "a3ae4b53",
   "metadata": {
    "papermill": {
     "duration": 0.043888,
     "end_time": "2022-09-19T19:39:10.999714",
     "exception": false,
     "start_time": "2022-09-19T19:39:10.955826",
     "status": "completed"
    },
    "tags": []
   },
   "source": [
    "### <span style=\"color: red\"> Note: This is elementry multiply for matrix multiplication we use '@' or numpy.dot\n",
    " </span>"
   ]
  },
  {
   "cell_type": "code",
   "execution_count": 57,
   "id": "cff319e0",
   "metadata": {
    "execution": {
     "iopub.execute_input": "2022-09-19T19:39:11.088922Z",
     "iopub.status.busy": "2022-09-19T19:39:11.088503Z",
     "iopub.status.idle": "2022-09-19T19:39:11.094929Z",
     "shell.execute_reply": "2022-09-19T19:39:11.093799Z"
    },
    "papermill": {
     "duration": 0.054561,
     "end_time": "2022-09-19T19:39:11.097716",
     "exception": false,
     "start_time": "2022-09-19T19:39:11.043155",
     "status": "completed"
    },
    "tags": []
   },
   "outputs": [
    {
     "name": "stdout",
     "output_type": "stream",
     "text": [
      "Matrix Multiply of array is:\n",
      " [[ 12   9   6]\n",
      " [ 66  54  42]\n",
      " [120  99  78]]\n",
      "\n",
      "Matrix Multiply of array is:\n",
      " [[ 12   9   6]\n",
      " [ 66  54  42]\n",
      " [120  99  78]]\n"
     ]
    }
   ],
   "source": [
    "#use of '@' Operator\n",
    "\n",
    "print(\"Matrix Multiply of array is:\\n\",array1@array2) \n",
    "\n",
    "#use of .dot()\n",
    "\n",
    "print(\"\\nMatrix Multiply of array is:\\n\",array1.dot(array2)) "
   ]
  },
  {
   "cell_type": "markdown",
   "id": "93a136e9",
   "metadata": {
    "papermill": {
     "duration": 0.044257,
     "end_time": "2022-09-19T19:39:11.186761",
     "exception": false,
     "start_time": "2022-09-19T19:39:11.142504",
     "status": "completed"
    },
    "tags": []
   },
   "source": [
    "### Working with Power:\n",
    "- The **power()** function rises the values from the first array to the power of the values of the second array, and return the results in a new array."
   ]
  },
  {
   "cell_type": "code",
   "execution_count": 58,
   "id": "9b0304be",
   "metadata": {
    "execution": {
     "iopub.execute_input": "2022-09-19T19:39:11.277826Z",
     "iopub.status.busy": "2022-09-19T19:39:11.277418Z",
     "iopub.status.idle": "2022-09-19T19:39:11.283845Z",
     "shell.execute_reply": "2022-09-19T19:39:11.282555Z"
    },
    "papermill": {
     "duration": 0.05533,
     "end_time": "2022-09-19T19:39:11.286226",
     "exception": false,
     "start_time": "2022-09-19T19:39:11.230896",
     "status": "completed"
    },
    "tags": []
   },
   "outputs": [
    {
     "name": "stdout",
     "output_type": "stream",
     "text": [
      "Power() use:\n",
      " [[   0    1  128]\n",
      " [ 729 1024  625]\n",
      " [ 216   49    8]]\n",
      "Power() use:\n",
      " [[   1    8   49]\n",
      " [ 216  625 1024]\n",
      " [ 729  128    1]]\n"
     ]
    }
   ],
   "source": [
    "print(\"Power() use:\\n\",np.power(array1,array2)) \n",
    "print(\"Power() use:\\n\",np.power(array2,array1)) "
   ]
  },
  {
   "cell_type": "code",
   "execution_count": 59,
   "id": "bdfbe9c8",
   "metadata": {
    "execution": {
     "iopub.execute_input": "2022-09-19T19:39:11.375407Z",
     "iopub.status.busy": "2022-09-19T19:39:11.374747Z",
     "iopub.status.idle": "2022-09-19T19:39:11.381144Z",
     "shell.execute_reply": "2022-09-19T19:39:11.380390Z"
    },
    "papermill": {
     "duration": 0.053435,
     "end_time": "2022-09-19T19:39:11.383510",
     "exception": false,
     "start_time": "2022-09-19T19:39:11.330075",
     "status": "completed"
    },
    "tags": []
   },
   "outputs": [
    {
     "name": "stdout",
     "output_type": "stream",
     "text": [
      "[[ 99 110  96]\n",
      " [105 101 101]\n",
      " [112 103 110]\n",
      " [ 93 106 114]\n",
      " [ 90  94  97]\n",
      " [ 98 106  93]\n",
      " [106 107 106]\n",
      " [109 115  98]] \n",
      "\n",
      "Power of 2 on test array:\n",
      " [[ 9801 12100  9216]\n",
      " [11025 10201 10201]\n",
      " [12544 10609 12100]\n",
      " [ 8649 11236 12996]\n",
      " [ 8100  8836  9409]\n",
      " [ 9604 11236  8649]\n",
      " [11236 11449 11236]\n",
      " [11881 13225  9604]] <class 'numpy.ndarray'>\n"
     ]
    }
   ],
   "source": [
    "test = np.random.randint(90,120,(8,3))\n",
    "test1=test**2\n",
    "print(test,\"\\n\\nPower of 2 on test array:\\n\",test1,type(test1))"
   ]
  },
  {
   "cell_type": "markdown",
   "id": "f0b6d146",
   "metadata": {
    "papermill": {
     "duration": 0.04345,
     "end_time": "2022-09-19T19:39:11.471434",
     "exception": false,
     "start_time": "2022-09-19T19:39:11.427984",
     "status": "completed"
    },
    "tags": []
   },
   "source": [
    "### Working with Remainder:\n",
    "- Both the **mod()** and the **remainder()** functions return the remainder of the values in the first array corresponding to the values in the second array, and return the results in a new array."
   ]
  },
  {
   "cell_type": "code",
   "execution_count": 60,
   "id": "bfedc06b",
   "metadata": {
    "execution": {
     "iopub.execute_input": "2022-09-19T19:39:11.560490Z",
     "iopub.status.busy": "2022-09-19T19:39:11.560103Z",
     "iopub.status.idle": "2022-09-19T19:39:11.566393Z",
     "shell.execute_reply": "2022-09-19T19:39:11.565284Z"
    },
    "papermill": {
     "duration": 0.0536,
     "end_time": "2022-09-19T19:39:11.568864",
     "exception": false,
     "start_time": "2022-09-19T19:39:11.515264",
     "status": "completed"
    },
    "tags": []
   },
   "outputs": [
    {
     "name": "stdout",
     "output_type": "stream",
     "text": [
      "Working with mod():\n",
      " [[0 1 2]\n",
      " [3 4 1]\n",
      " [0 1 0]]\n",
      "Working with remainder():\n",
      " [[0 1 2]\n",
      " [3 4 1]\n",
      " [0 1 0]]\n"
     ]
    }
   ],
   "source": [
    "print(\"Working with mod():\\n\",np.mod(array1,array2))\n",
    "print(\"Working with remainder():\\n\",np.remainder(array1,array2))"
   ]
  },
  {
   "cell_type": "markdown",
   "id": "29772e4a",
   "metadata": {
    "papermill": {
     "duration": 0.043998,
     "end_time": "2022-09-19T19:39:11.658231",
     "exception": false,
     "start_time": "2022-09-19T19:39:11.614233",
     "status": "completed"
    },
    "tags": []
   },
   "source": [
    "### Working with Quotient and Mod:\n",
    "- The **divmod()** function return both the quotient and the the mod. The return value is two arrays, the first array contains the quotient and second array contains the mod."
   ]
  },
  {
   "cell_type": "code",
   "execution_count": 61,
   "id": "ea7a05ec",
   "metadata": {
    "execution": {
     "iopub.execute_input": "2022-09-19T19:39:11.748545Z",
     "iopub.status.busy": "2022-09-19T19:39:11.748139Z",
     "iopub.status.idle": "2022-09-19T19:39:11.753418Z",
     "shell.execute_reply": "2022-09-19T19:39:11.752377Z"
    },
    "papermill": {
     "duration": 0.053502,
     "end_time": "2022-09-19T19:39:11.756422",
     "exception": false,
     "start_time": "2022-09-19T19:39:11.702920",
     "status": "completed"
    },
    "tags": []
   },
   "outputs": [
    {
     "name": "stdout",
     "output_type": "stream",
     "text": [
      "(array([[0, 0, 0],\n",
      "       [0, 0, 1],\n",
      "       [2, 3, 8]]), array([[0, 1, 2],\n",
      "       [3, 4, 1],\n",
      "       [0, 1, 0]]))\n"
     ]
    }
   ],
   "source": [
    "newarr=np.divmod(array1,array2)\n",
    "print(newarr)"
   ]
  },
  {
   "cell_type": "code",
   "execution_count": 62,
   "id": "033b1a11",
   "metadata": {
    "execution": {
     "iopub.execute_input": "2022-09-19T19:39:11.845987Z",
     "iopub.status.busy": "2022-09-19T19:39:11.845607Z",
     "iopub.status.idle": "2022-09-19T19:39:11.851085Z",
     "shell.execute_reply": "2022-09-19T19:39:11.850005Z"
    },
    "papermill": {
     "duration": 0.053114,
     "end_time": "2022-09-19T19:39:11.853553",
     "exception": false,
     "start_time": "2022-09-19T19:39:11.800439",
     "status": "completed"
    },
    "tags": []
   },
   "outputs": [
    {
     "name": "stdout",
     "output_type": "stream",
     "text": [
      "[[0 0 0]\n",
      " [0 0 1]\n",
      " [2 3 8]] <class 'numpy.ndarray'>\n"
     ]
    }
   ],
   "source": [
    "newarr=array1//array2  #Quotient of both array\n",
    "print(newarr,type(newarr))"
   ]
  },
  {
   "cell_type": "markdown",
   "id": "decbc81c",
   "metadata": {
    "papermill": {
     "duration": 0.043576,
     "end_time": "2022-09-19T19:39:11.941200",
     "exception": false,
     "start_time": "2022-09-19T19:39:11.897624",
     "status": "completed"
    },
    "tags": []
   },
   "source": [
    "### working with absolute():\n",
    "- Both the **absolute()** and the **abs()** functions do the same absolute operation element-wise but we should use **absolute()** to avoid confusion with python's inbuilt **math.abs()**\n",
    "\n"
   ]
  },
  {
   "cell_type": "code",
   "execution_count": 63,
   "id": "04d59db1",
   "metadata": {
    "execution": {
     "iopub.execute_input": "2022-09-19T19:39:12.030896Z",
     "iopub.status.busy": "2022-09-19T19:39:12.030519Z",
     "iopub.status.idle": "2022-09-19T19:39:12.036499Z",
     "shell.execute_reply": "2022-09-19T19:39:12.035408Z"
    },
    "papermill": {
     "duration": 0.055144,
     "end_time": "2022-09-19T19:39:12.040517",
     "exception": false,
     "start_time": "2022-09-19T19:39:11.985373",
     "status": "completed"
    },
    "tags": []
   },
   "outputs": [
    {
     "name": "stdout",
     "output_type": "stream",
     "text": [
      "[1.  2.  1.5 2.  3.  4. ]\n"
     ]
    }
   ],
   "source": [
    "arr = np.array([-1, -2, 1.5, 2, 3, -4])\n",
    "newarr = np.absolute(arr)\n",
    "print(newarr)"
   ]
  },
  {
   "cell_type": "markdown",
   "id": "3cc78bdd",
   "metadata": {
    "papermill": {
     "duration": 0.043752,
     "end_time": "2022-09-19T19:39:12.131443",
     "exception": false,
     "start_time": "2022-09-19T19:39:12.087691",
     "status": "completed"
    },
    "tags": []
   },
   "source": [
    "### Working with Reciprocal Fun<sup>n</sup>\n",
    "- This Function returns the reciprocal of all the array elements."
   ]
  },
  {
   "cell_type": "code",
   "execution_count": 64,
   "id": "6ff957a1",
   "metadata": {
    "execution": {
     "iopub.execute_input": "2022-09-19T19:39:12.221126Z",
     "iopub.status.busy": "2022-09-19T19:39:12.220757Z",
     "iopub.status.idle": "2022-09-19T19:39:12.228055Z",
     "shell.execute_reply": "2022-09-19T19:39:12.226839Z"
    },
    "papermill": {
     "duration": 0.054597,
     "end_time": "2022-09-19T19:39:12.230289",
     "exception": false,
     "start_time": "2022-09-19T19:39:12.175692",
     "status": "completed"
    },
    "tags": []
   },
   "outputs": [
    {
     "data": {
      "text/plain": [
       "array([0, 0, 0, 0, 1])"
      ]
     },
     "execution_count": 64,
     "metadata": {},
     "output_type": "execute_result"
    }
   ],
   "source": [
    "a = np.array([7,3,4,5,1])\n",
    "np.reciprocal(a)"
   ]
  },
  {
   "cell_type": "markdown",
   "id": "d18bf5d7",
   "metadata": {
    "papermill": {
     "duration": 0.047132,
     "end_time": "2022-09-19T19:39:12.321900",
     "exception": false,
     "start_time": "2022-09-19T19:39:12.274768",
     "status": "completed"
    },
    "tags": []
   },
   "source": [
    "#### Here dividation with '0' happen\n",
    "\n",
    "``` python\n",
    "np.reciprocal(array1)\n",
    "\n",
    "/opt/conda/lib/python3.7/site-packages/ipykernel_launcher.py:1: RuntimeWarning: divide by zero encountered in reciprocal\n",
    "  \"\"\"Entry point for launching an IPython kernel.\n",
    "/opt/conda/lib/python3.7/site-packages/ipykernel_launcher.py:1: RuntimeWarning: invalid value encountered in reciprocal\n",
    "  \"\"\"Entry point for launching an IPython kernel.\n",
    "\n",
    "Out[1]:\n",
    "array([[-9223372036854775808,                    1,                    0],\n",
    "       [                   0,                    0,                    0],\n",
    "       [                   0,                    0,                    0]])\n",
    "```"
   ]
  },
  {
   "cell_type": "code",
   "execution_count": 65,
   "id": "98a8998c",
   "metadata": {
    "execution": {
     "iopub.execute_input": "2022-09-19T19:39:12.412027Z",
     "iopub.status.busy": "2022-09-19T19:39:12.411643Z",
     "iopub.status.idle": "2022-09-19T19:39:12.417886Z",
     "shell.execute_reply": "2022-09-19T19:39:12.416845Z"
    },
    "papermill": {
     "duration": 0.053914,
     "end_time": "2022-09-19T19:39:12.420241",
     "exception": false,
     "start_time": "2022-09-19T19:39:12.366327",
     "status": "completed"
    },
    "tags": []
   },
   "outputs": [
    {
     "data": {
      "text/plain": [
       "array([[0, 0, 0],\n",
       "       [0, 0, 0],\n",
       "       [0, 0, 1]])"
      ]
     },
     "execution_count": 65,
     "metadata": {},
     "output_type": "execute_result"
    }
   ],
   "source": [
    "np.reciprocal(array2)"
   ]
  },
  {
   "cell_type": "markdown",
   "id": "158a7c29",
   "metadata": {
    "papermill": {
     "duration": 0.044463,
     "end_time": "2022-09-19T19:39:12.509304",
     "exception": false,
     "start_time": "2022-09-19T19:39:12.464841",
     "status": "completed"
    },
    "tags": []
   },
   "source": [
    "## Working with other function:"
   ]
  },
  {
   "cell_type": "code",
   "execution_count": 66,
   "id": "0529c73b",
   "metadata": {
    "execution": {
     "iopub.execute_input": "2022-09-19T19:39:12.600446Z",
     "iopub.status.busy": "2022-09-19T19:39:12.600058Z",
     "iopub.status.idle": "2022-09-19T19:39:12.606790Z",
     "shell.execute_reply": "2022-09-19T19:39:12.605748Z"
    },
    "papermill": {
     "duration": 0.055606,
     "end_time": "2022-09-19T19:39:12.609525",
     "exception": false,
     "start_time": "2022-09-19T19:39:12.553919",
     "status": "completed"
    },
    "tags": []
   },
   "outputs": [
    {
     "name": "stdout",
     "output_type": "stream",
     "text": [
      "Sample 1:\n",
      " [[ 2  6 10 14 18]\n",
      " [22 26 30 34 38]\n",
      " [42 46 50 54 58]\n",
      " [62 66 70 74 78]\n",
      " [82 86 90 94 98]] \n",
      "\n",
      "Sample 2:\n",
      " [[ 1  6 11 16 21]\n",
      " [26 31 36 41 46]\n",
      " [51 56 61 66 71]\n",
      " [76 81 86 91 96]]\n"
     ]
    }
   ],
   "source": [
    "sample=np.arange(2,100,4).reshape(5,5)\n",
    "sample1=np.arange(1,99,5).reshape(4,5)\n",
    "print(\"Sample 1:\\n\",sample,\"\\n\\nSample 2:\\n\",sample1)"
   ]
  },
  {
   "cell_type": "code",
   "execution_count": 67,
   "id": "9817421f",
   "metadata": {
    "execution": {
     "iopub.execute_input": "2022-09-19T19:39:12.700930Z",
     "iopub.status.busy": "2022-09-19T19:39:12.699876Z",
     "iopub.status.idle": "2022-09-19T19:39:12.709625Z",
     "shell.execute_reply": "2022-09-19T19:39:12.708526Z"
    },
    "papermill": {
     "duration": 0.057746,
     "end_time": "2022-09-19T19:39:12.712069",
     "exception": false,
     "start_time": "2022-09-19T19:39:12.654323",
     "status": "completed"
    },
    "tags": []
   },
   "outputs": [
    {
     "name": "stdout",
     "output_type": "stream",
     "text": [
      "Sum of sample array 1 1250\n",
      "Sum of sample array 2: 970\n",
      "\n",
      "Sum of sample array 1 in column's: [210 230 250 270 290]\n",
      "Sum of sample array 2 in column's: [154 174 194 214 234]\n",
      "\n",
      "Sum of sample array 1 in row's: [ 50 150 250 350 450]\n",
      "Sum of sample array 2 in row's: [ 55 180 305 430]\n"
     ]
    },
    {
     "data": {
      "text/plain": [
       "array([210, 230, 250, 270, 290])"
      ]
     },
     "execution_count": 67,
     "metadata": {},
     "output_type": "execute_result"
    }
   ],
   "source": [
    "print(\"Sum of sample array 1\",sample.sum())\n",
    "print(\"Sum of sample array 2:\",sample1.sum())\n",
    "\n",
    "print(\"\\nSum of sample array 1 in column's:\",sample.sum(axis=0))\n",
    "print(\"Sum of sample array 2 in column's:\",sample1.sum(axis=0))\n",
    "\n",
    "print(\"\\nSum of sample array 1 in row's:\",sample.sum(axis=1))\n",
    "print(\"Sum of sample array 2 in row's:\",sample1.sum(axis=1))\n",
    "\n",
    "sum(sample)"
   ]
  },
  {
   "cell_type": "markdown",
   "id": "2d801a26",
   "metadata": {
    "papermill": {
     "duration": 0.044369,
     "end_time": "2022-09-19T19:39:12.801603",
     "exception": false,
     "start_time": "2022-09-19T19:39:12.757234",
     "status": "completed"
    },
    "tags": []
   },
   "source": [
    "#### Working with numpy.maximum():\n",
    "- numpy.maximum() function is used to find the element-wise maximum of array elements.\n",
    "- It compares two arrays and returns a new array containing the element-wise maxima. If one of the elements being compared is a NaN, then that element is returned. If both elements are NaNs then the first is returned.\n",
    "\n",
    "- **Syntex:** <H4>numpy.maximum(x1, x2, /, out=None, *, where=True, casting='same_kind', order='K', dtype=None, subok=True[, signature, extobj]) = <ufunc 'maximum'></H4>\n"
   ]
  },
  {
   "cell_type": "markdown",
   "id": "dd3371f4",
   "metadata": {
    "papermill": {
     "duration": 0.044485,
     "end_time": "2022-09-19T19:39:12.891820",
     "exception": false,
     "start_time": "2022-09-19T19:39:12.847335",
     "status": "completed"
    },
    "tags": []
   },
   "source": [
    "``` python\n",
    "print(\"\\nArray1:\\n\",sample)\n",
    "print(\"\\nArray2:\\n\",sample1)\n",
    "\n",
    "print(\"\\nFinding max using maximum():\\n\",np.maximum(sample,sample1))\n",
    "print(\"\\nFinding min using minimum():\\n\",np.maximum(sample,sample1))\n",
    "\n",
    "---------------------------------------------------------------------------\n",
    "ValueError                                Traceback (most recent call last)\n",
    "/tmp/ipykernel_17/2215792630.py in <module>\n",
    "      2 print(\"\\nArray2:\\n\",sample1)\n",
    "      3 \n",
    "----> 4 print(\"\\nFinding max using maximum():\\n\",np.maximum(sample,sample1))\n",
    "      5 print(\"\\nFinding min using minimum():\\n\",np.maximum(sample,sample1))\n",
    "      6 \n",
    "\n",
    "ValueError: operands could not be broadcast together with shapes (5,5) (4,5) \n",
    "```\n"
   ]
  },
  {
   "cell_type": "code",
   "execution_count": 68,
   "id": "fc691cf2",
   "metadata": {
    "execution": {
     "iopub.execute_input": "2022-09-19T19:39:12.983033Z",
     "iopub.status.busy": "2022-09-19T19:39:12.982664Z",
     "iopub.status.idle": "2022-09-19T19:39:12.989884Z",
     "shell.execute_reply": "2022-09-19T19:39:12.988788Z"
    },
    "papermill": {
     "duration": 0.056039,
     "end_time": "2022-09-19T19:39:12.992759",
     "exception": false,
     "start_time": "2022-09-19T19:39:12.936720",
     "status": "completed"
    },
    "tags": []
   },
   "outputs": [
    {
     "name": "stdout",
     "output_type": "stream",
     "text": [
      "\n",
      "Array1:\n",
      " [[ 2  6 10 14 18]\n",
      " [22 26 30 34 38]\n",
      " [42 46 50 54 58]\n",
      " [62 66 70 74 78]\n",
      " [82 86 90 94 98]]\n",
      "\n",
      "Array2:\n",
      " [[ 22  26  30  34  38]\n",
      " [ 42  46  50  54  58]\n",
      " [ 62  66  70  74  78]\n",
      " [ 82  86  90  94  98]\n",
      " [102 106 110 114 118]]\n",
      "\n",
      "Finding max using maximum():\n",
      " [[ 22  26  30  34  38]\n",
      " [ 42  46  50  54  58]\n",
      " [ 62  66  70  74  78]\n",
      " [ 82  86  90  94  98]\n",
      " [102 106 110 114 118]]\n",
      "\n",
      "Finding min using minimum():\n",
      " [[ 2  6 10 14 18]\n",
      " [22 26 30 34 38]\n",
      " [42 46 50 54 58]\n",
      " [62 66 70 74 78]\n",
      " [82 86 90 94 98]]\n"
     ]
    }
   ],
   "source": [
    "a=np.arange(2,100,4).reshape(5,5)\n",
    "b=np.arange(22,122,4).reshape(5,5)\n",
    "print(\"\\nArray1:\\n\",a)\n",
    "print(\"\\nArray2:\\n\",b)\n",
    "\n",
    "print(\"\\nFinding max using maximum():\\n\",np.maximum(a,b))\n",
    "print(\"\\nFinding min using minimum():\\n\",np.minimum(a,b))"
   ]
  },
  {
   "cell_type": "markdown",
   "id": "bc5e01fa",
   "metadata": {
    "papermill": {
     "duration": 0.04404,
     "end_time": "2022-09-19T19:39:13.081288",
     "exception": false,
     "start_time": "2022-09-19T19:39:13.037248",
     "status": "completed"
    },
    "tags": []
   },
   "source": [
    "### np.max()"
   ]
  },
  {
   "cell_type": "code",
   "execution_count": 69,
   "id": "a24d607c",
   "metadata": {
    "execution": {
     "iopub.execute_input": "2022-09-19T19:39:13.171240Z",
     "iopub.status.busy": "2022-09-19T19:39:13.170819Z",
     "iopub.status.idle": "2022-09-19T19:39:13.180494Z",
     "shell.execute_reply": "2022-09-19T19:39:13.179492Z"
    },
    "papermill": {
     "duration": 0.058446,
     "end_time": "2022-09-19T19:39:13.183723",
     "exception": false,
     "start_time": "2022-09-19T19:39:13.125277",
     "status": "completed"
    },
    "tags": []
   },
   "outputs": [
    {
     "name": "stdout",
     "output_type": "stream",
     "text": [
      "Findin max using Max(): 98\n",
      "Findin index of max using argmax(): 24\n",
      "Findin index of max using argmax() in column: [4 4 4 4 4]\n",
      "Findin index of max using argmax() in row: [4 4 4 4 4]\n",
      "Findin max using Max() in column's: [82 86 90 94 98]\n",
      "Findin max using Max() in raw's: [18 38 58 78 98]\n",
      "\n",
      "\n",
      "\n",
      "Findin max using Max(): 96\n",
      "Findin index of max using argmax(): 19\n",
      "Findin index of max using argmax() in column: [3 3 3 3 3]\n",
      "Findin index of max using argmax() in row: [4 4 4 4]\n",
      "Findin max using Max() in column's: [76 81 86 91 96]\n",
      "Findin max using Max() in raw's: [21 46 71 96]\n"
     ]
    }
   ],
   "source": [
    "print(\"Findin max using Max():\",sample.max())\n",
    "print(\"Findin index of max using argmax():\",sample.argmax())\n",
    "print(\"Findin index of max using argmax() in column:\",sample.argmax(axis=0))\n",
    "print(\"Findin index of max using argmax() in row:\",sample.argmax(axis=1))\n",
    "print(\"Findin max using Max() in column's:\",sample.max(axis=0)) ## 0 axix mean's column in max()\n",
    "print(\"Findin max using Max() in raw's:\",sample.max(axis=1)) ## 1 axis mean's rows max()\n",
    "\n",
    "\n",
    "print(\"\\n\\n\\nFindin max using Max():\",sample1.max())\n",
    "print(\"Findin index of max using argmax():\",sample1.argmax())\n",
    "print(\"Findin index of max using argmax() in column:\",sample1.argmax(axis=0))\n",
    "print(\"Findin index of max using argmax() in row:\",sample1.argmax(axis=1))\n",
    "print(\"Findin max using Max() in column's:\",sample1.max(axis=0)) ## 0 axix mean's column in max()\n",
    "print(\"Findin max using Max() in raw's:\",sample1.max(axis=1)) ## 1 axis mean's rows max()"
   ]
  },
  {
   "cell_type": "markdown",
   "id": "54cb1757",
   "metadata": {
    "papermill": {
     "duration": 0.044456,
     "end_time": "2022-09-19T19:39:13.274332",
     "exception": false,
     "start_time": "2022-09-19T19:39:13.229876",
     "status": "completed"
    },
    "tags": []
   },
   "source": [
    "### np.min():"
   ]
  },
  {
   "cell_type": "code",
   "execution_count": 70,
   "id": "46475ea4",
   "metadata": {
    "execution": {
     "iopub.execute_input": "2022-09-19T19:39:13.365050Z",
     "iopub.status.busy": "2022-09-19T19:39:13.364683Z",
     "iopub.status.idle": "2022-09-19T19:39:13.374066Z",
     "shell.execute_reply": "2022-09-19T19:39:13.373027Z"
    },
    "papermill": {
     "duration": 0.057815,
     "end_time": "2022-09-19T19:39:13.376669",
     "exception": false,
     "start_time": "2022-09-19T19:39:13.318854",
     "status": "completed"
    },
    "tags": []
   },
   "outputs": [
    {
     "name": "stdout",
     "output_type": "stream",
     "text": [
      "Findin min using min(): 2\n",
      "Findin index of min using argmin(): 0\n",
      "Findin index of min using argmin() in column: [0 0 0 0 0]\n",
      "Findin index of min using argmin() in row: [0 0 0 0 0]\n",
      "Findin min using MIN() in column's: [ 2  6 10 14 18]\n",
      "Findin min using MIN() in raw's: [ 2 22 42 62 82]\n",
      "\n",
      "\n",
      "\n",
      "Findin min using MIN(): 1\n",
      "Findin index of min using argmin(): 0\n",
      "Findin index of min using argmin() in column: [0 0 0 0 0]\n",
      "Findin index of min using argmin() in row: [0 0 0 0]\n",
      "Findin min using min() in column's: [ 1  6 11 16 21]\n",
      "Findin min using min() in raw's: [ 1 26 51 76]\n"
     ]
    }
   ],
   "source": [
    "print(\"Findin min using min():\",sample.min())\n",
    "print(\"Findin index of min using argmin():\",sample.argmin())\n",
    "print(\"Findin index of min using argmin() in column:\",sample.argmin(axis=0))\n",
    "print(\"Findin index of min using argmin() in row:\",sample.argmin(axis=1))\n",
    "print(\"Findin min using MIN() in column's:\",sample.min(axis=0)) ## 0 axix mean's column in max()\n",
    "print(\"Findin min using MIN() in raw's:\",sample.min(axis=1)) ## 1 axis mean's rows max()\n",
    "\n",
    "\n",
    "print(\"\\n\\n\\nFindin min using MIN():\",sample1.min())\n",
    "print(\"Findin index of min using argmin():\",sample1.argmin())\n",
    "print(\"Findin index of min using argmin() in column:\",sample1.argmin(axis=0))\n",
    "print(\"Findin index of min using argmin() in row:\",sample1.argmin(axis=1))\n",
    "print(\"Findin min using min() in column's:\",sample1.min(axis=0)) ## 0 axix mean's column in max()\n",
    "print(\"Findin min using min() in raw's:\",sample1.min(axis=1))    ## 1 axis mean's rows max()"
   ]
  },
  {
   "cell_type": "markdown",
   "id": "a41be79b",
   "metadata": {
    "papermill": {
     "duration": 0.045637,
     "end_time": "2022-09-19T19:39:13.467055",
     "exception": false,
     "start_time": "2022-09-19T19:39:13.421418",
     "status": "completed"
    },
    "tags": []
   },
   "source": [
    "### np.mean():"
   ]
  },
  {
   "cell_type": "code",
   "execution_count": 71,
   "id": "97947440",
   "metadata": {
    "execution": {
     "iopub.execute_input": "2022-09-19T19:39:13.558489Z",
     "iopub.status.busy": "2022-09-19T19:39:13.558072Z",
     "iopub.status.idle": "2022-09-19T19:39:13.565582Z",
     "shell.execute_reply": "2022-09-19T19:39:13.564526Z"
    },
    "papermill": {
     "duration": 0.055997,
     "end_time": "2022-09-19T19:39:13.568017",
     "exception": false,
     "start_time": "2022-09-19T19:39:13.512020",
     "status": "completed"
    },
    "tags": []
   },
   "outputs": [
    {
     "name": "stdout",
     "output_type": "stream",
     "text": [
      "Finding mean of sample array: 50.0\n",
      "\n",
      "Finding mean of sample array: [42. 46. 50. 54. 58.]\n",
      "\n",
      "Finding mean of sample array: [10. 30. 50. 70. 90.]\n",
      "\n",
      "\n",
      "Finding mean of sample1 array: 48.5\n",
      "\n",
      "Finding mean of sample1 array: [38.5 43.5 48.5 53.5 58.5]\n",
      "\n",
      "Finding mean of sample1 array: [11. 36. 61. 86.]\n"
     ]
    }
   ],
   "source": [
    "print(\"Finding mean of sample array:\",sample.mean())\n",
    "print(\"\\nFinding mean of sample array:\",sample.mean(axis=0))     #column's\n",
    "print(\"\\nFinding mean of sample array:\",sample.mean(axis=1))     #row's\n",
    "\n",
    "\n",
    "print(\"\\n\\nFinding mean of sample1 array:\",sample1.mean())\n",
    "print(\"\\nFinding mean of sample1 array:\",sample1.mean(axis=0))   #column's\n",
    "print(\"\\nFinding mean of sample1 array:\",sample1.mean(axis=1))   #row's"
   ]
  },
  {
   "cell_type": "markdown",
   "id": "3cc72cb2",
   "metadata": {
    "papermill": {
     "duration": 0.045626,
     "end_time": "2022-09-19T19:39:13.659958",
     "exception": false,
     "start_time": "2022-09-19T19:39:13.614332",
     "status": "completed"
    },
    "tags": []
   },
   "source": [
    "### np.sqrt():"
   ]
  },
  {
   "cell_type": "code",
   "execution_count": 72,
   "id": "5e16808f",
   "metadata": {
    "execution": {
     "iopub.execute_input": "2022-09-19T19:39:13.753185Z",
     "iopub.status.busy": "2022-09-19T19:39:13.752514Z",
     "iopub.status.idle": "2022-09-19T19:39:13.759405Z",
     "shell.execute_reply": "2022-09-19T19:39:13.757901Z"
    },
    "papermill": {
     "duration": 0.056852,
     "end_time": "2022-09-19T19:39:13.761813",
     "exception": false,
     "start_time": "2022-09-19T19:39:13.704961",
     "status": "completed"
    },
    "tags": []
   },
   "outputs": [
    {
     "name": "stdout",
     "output_type": "stream",
     "text": [
      "Finding square root of sample array:\n",
      " [[1.41421356 2.44948974 3.16227766 3.74165739 4.24264069]\n",
      " [4.69041576 5.09901951 5.47722558 5.83095189 6.164414  ]\n",
      " [6.4807407  6.78232998 7.07106781 7.34846923 7.61577311]\n",
      " [7.87400787 8.1240384  8.36660027 8.60232527 8.83176087]\n",
      " [9.05538514 9.2736185  9.48683298 9.69535971 9.89949494]]\n",
      "\n",
      "\n",
      "Finding square root of sample1 array:\n",
      " [[1.         2.44948974 3.31662479 4.         4.58257569]\n",
      " [5.09901951 5.56776436 6.         6.40312424 6.78232998]\n",
      " [7.14142843 7.48331477 7.81024968 8.1240384  8.42614977]\n",
      " [8.71779789 9.         9.2736185  9.53939201 9.79795897]]\n"
     ]
    }
   ],
   "source": [
    "print(\"Finding square root of sample array:\\n\",np.sqrt(sample))\n",
    "\n",
    "print(\"\\n\\nFinding square root of sample1 array:\\n\",np.sqrt(sample1))"
   ]
  },
  {
   "cell_type": "markdown",
   "id": "a20c2a11",
   "metadata": {
    "papermill": {
     "duration": 0.045294,
     "end_time": "2022-09-19T19:39:13.851975",
     "exception": false,
     "start_time": "2022-09-19T19:39:13.806681",
     "status": "completed"
    },
    "tags": []
   },
   "source": [
    "### np.std():"
   ]
  },
  {
   "cell_type": "code",
   "execution_count": 73,
   "id": "aa9799e9",
   "metadata": {
    "execution": {
     "iopub.execute_input": "2022-09-19T19:39:13.943567Z",
     "iopub.status.busy": "2022-09-19T19:39:13.943145Z",
     "iopub.status.idle": "2022-09-19T19:39:13.949845Z",
     "shell.execute_reply": "2022-09-19T19:39:13.948393Z"
    },
    "papermill": {
     "duration": 0.055222,
     "end_time": "2022-09-19T19:39:13.952324",
     "exception": false,
     "start_time": "2022-09-19T19:39:13.897102",
     "status": "completed"
    },
    "tags": []
   },
   "outputs": [
    {
     "name": "stdout",
     "output_type": "stream",
     "text": [
      "Finding square root of sample array:\n",
      " 28.844410203711913\n",
      "\n",
      "\n",
      "Finding square root of sample1 array:\n",
      " 28.83140648667699\n"
     ]
    }
   ],
   "source": [
    "print(\"Finding square root of sample array:\\n\",np.std(sample))\n",
    "\n",
    "print(\"\\n\\nFinding square root of sample1 array:\\n\",np.std(sample1))"
   ]
  },
  {
   "cell_type": "markdown",
   "id": "1b311059",
   "metadata": {
    "papermill": {
     "duration": 0.044294,
     "end_time": "2022-09-19T19:39:14.041611",
     "exception": false,
     "start_time": "2022-09-19T19:39:13.997317",
     "status": "completed"
    },
    "tags": []
   },
   "source": [
    "### np.exp() :"
   ]
  },
  {
   "cell_type": "code",
   "execution_count": 74,
   "id": "88c114a5",
   "metadata": {
    "execution": {
     "iopub.execute_input": "2022-09-19T19:39:14.133755Z",
     "iopub.status.busy": "2022-09-19T19:39:14.132582Z",
     "iopub.status.idle": "2022-09-19T19:39:14.139931Z",
     "shell.execute_reply": "2022-09-19T19:39:14.138683Z"
    },
    "papermill": {
     "duration": 0.055554,
     "end_time": "2022-09-19T19:39:14.142094",
     "exception": false,
     "start_time": "2022-09-19T19:39:14.086540",
     "status": "completed"
    },
    "tags": []
   },
   "outputs": [
    {
     "name": "stdout",
     "output_type": "stream",
     "text": [
      "Finding exponential of sample array:\n",
      " [[7.38905610e+00 4.03428793e+02 2.20264658e+04 1.20260428e+06\n",
      "  6.56599691e+07]\n",
      " [3.58491285e+09 1.95729609e+11 1.06864746e+13 5.83461743e+14\n",
      "  3.18559318e+16]\n",
      " [1.73927494e+18 9.49611942e+19 5.18470553e+21 2.83075330e+23\n",
      "  1.54553894e+25]\n",
      " [8.43835667e+26 4.60718663e+28 2.51543867e+30 1.37338298e+32\n",
      "  7.49841700e+33]\n",
      " [4.09399696e+35 2.23524660e+37 1.22040329e+39 6.66317622e+40\n",
      "  3.63797095e+42]]\n",
      "\n",
      "\n",
      "Finding exponential of sample1 array:\n",
      " [[2.71828183e+00 4.03428793e+02 5.98741417e+04 8.88611052e+06\n",
      "  1.31881573e+09]\n",
      " [1.95729609e+11 2.90488497e+13 4.31123155e+15 6.39843494e+17\n",
      "  9.49611942e+19]\n",
      " [1.40934908e+22 2.09165950e+24 3.10429794e+26 4.60718663e+28\n",
      "  6.83767123e+30]\n",
      " [1.01480039e+33 1.50609731e+35 2.23524660e+37 3.31740010e+39\n",
      "  4.92345829e+41]]\n"
     ]
    }
   ],
   "source": [
    "print(\"Finding exponential of sample array:\\n\",np.exp(sample))\n",
    "\n",
    "print(\"\\n\\nFinding exponential of sample1 array:\\n\",np.exp(sample1))"
   ]
  },
  {
   "cell_type": "markdown",
   "id": "28857295",
   "metadata": {
    "papermill": {
     "duration": 0.044234,
     "end_time": "2022-09-19T19:39:14.231082",
     "exception": false,
     "start_time": "2022-09-19T19:39:14.186848",
     "status": "completed"
    },
    "tags": []
   },
   "source": [
    "### np.log() / np.log10() / np.log2 / numpy.log1p / "
   ]
  },
  {
   "cell_type": "code",
   "execution_count": 75,
   "id": "b2ccf817",
   "metadata": {
    "execution": {
     "iopub.execute_input": "2022-09-19T19:39:14.321487Z",
     "iopub.status.busy": "2022-09-19T19:39:14.321074Z",
     "iopub.status.idle": "2022-09-19T19:39:14.332252Z",
     "shell.execute_reply": "2022-09-19T19:39:14.331035Z"
    },
    "papermill": {
     "duration": 0.059905,
     "end_time": "2022-09-19T19:39:14.335335",
     "exception": false,
     "start_time": "2022-09-19T19:39:14.275430",
     "status": "completed"
    },
    "tags": []
   },
   "outputs": [
    {
     "name": "stdout",
     "output_type": "stream",
     "text": [
      "Finding Natural log() of sample array:\n",
      " [[0.69314718 1.79175947 2.30258509 2.63905733 2.89037176]\n",
      " [3.09104245 3.25809654 3.40119738 3.52636052 3.63758616]\n",
      " [3.73766962 3.8286414  3.91202301 3.98898405 4.06044301]\n",
      " [4.12713439 4.18965474 4.24849524 4.30406509 4.35670883]\n",
      " [4.40671925 4.4543473  4.49980967 4.54329478 4.58496748]]\n",
      "\n",
      "Finding base 10 logarithm of sample array:\n",
      " [[0.30103    0.77815125 1.         1.14612804 1.25527251]\n",
      " [1.34242268 1.41497335 1.47712125 1.53147892 1.5797836 ]\n",
      " [1.62324929 1.66275783 1.69897    1.73239376 1.76342799]\n",
      " [1.79239169 1.81954394 1.84509804 1.86923172 1.8920946 ]\n",
      " [1.91381385 1.93449845 1.95424251 1.97312785 1.99122608]]\n",
      "\n",
      "Finding Base-2 logarithm of sample array:\n",
      " [[1.         2.5849625  3.32192809 3.80735492 4.169925  ]\n",
      " [4.45943162 4.70043972 4.9068906  5.08746284 5.24792751]\n",
      " [5.39231742 5.52356196 5.64385619 5.7548875  5.857981  ]\n",
      " [5.95419631 6.04439412 6.12928302 6.20945337 6.28540222]\n",
      " [6.357552   6.42626475 6.4918531  6.55458885 6.61470984]]\n",
      "\n",
      "Finding natural logarithm of one plus the input array:\n",
      " [[1.09861229 1.94591015 2.39789527 2.7080502  2.94443898]\n",
      " [3.13549422 3.29583687 3.4339872  3.55534806 3.66356165]\n",
      " [3.76120012 3.8501476  3.93182563 4.00733319 4.07753744]\n",
      " [4.14313473 4.20469262 4.26267988 4.31748811 4.36944785]\n",
      " [4.41884061 4.46590812 4.51085951 4.55387689 4.59511985]]\n",
      "\n",
      "\n",
      "Finding Natural log() of sample1 array:\n",
      " [[0.         1.79175947 2.39789527 2.77258872 3.04452244]\n",
      " [3.25809654 3.4339872  3.58351894 3.71357207 3.8286414 ]\n",
      " [3.93182563 4.02535169 4.11087386 4.18965474 4.26267988]\n",
      " [4.33073334 4.39444915 4.4543473  4.51085951 4.56434819]]\n",
      "\n",
      "Finding base 10 logarithm of sample array:\n",
      " [[0.         0.77815125 1.04139269 1.20411998 1.32221929]\n",
      " [1.41497335 1.49136169 1.5563025  1.61278386 1.66275783]\n",
      " [1.70757018 1.74818803 1.78532984 1.81954394 1.85125835]\n",
      " [1.88081359 1.90848502 1.93449845 1.95904139 1.98227123]]\n",
      "\n",
      "Finding Base-2 logarithm of sample array:\n",
      " [[0.         2.5849625  3.45943162 4.         4.39231742]\n",
      " [4.70043972 4.95419631 5.169925   5.357552   5.52356196]\n",
      " [5.67242534 5.80735492 5.93073734 6.04439412 6.14974712]\n",
      " [6.24792751 6.33985    6.42626475 6.50779464 6.5849625 ]]\n",
      "\n",
      "Finding natural logarithm of one plus the input array:\n",
      " [[0.69314718 1.94591015 2.48490665 2.83321334 3.09104245]\n",
      " [3.29583687 3.4657359  3.61091791 3.73766962 3.8501476 ]\n",
      " [3.95124372 4.04305127 4.12713439 4.20469262 4.27666612]\n",
      " [4.34380542 4.40671925 4.46590812 4.52178858 4.57471098]]\n"
     ]
    }
   ],
   "source": [
    "print(\"Finding Natural log() of sample array:\\n\",np.log(sample))\n",
    "print(\"\\nFinding base 10 logarithm of sample array:\\n\",np.log10(sample))\n",
    "print(\"\\nFinding Base-2 logarithm of sample array:\\n\",np.log2(sample))\n",
    "print(\"\\nFinding natural logarithm of one plus the input array:\\n\",np.log1p(sample))\n",
    "\n",
    "\n",
    "print(\"\\n\\nFinding Natural log() of sample1 array:\\n\",np.log(sample1))\n",
    "print(\"\\nFinding base 10 logarithm of sample array:\\n\",np.log10(sample1))\n",
    "print(\"\\nFinding Base-2 logarithm of sample array:\\n\",np.log2(sample1))\n",
    "print(\"\\nFinding natural logarithm of one plus the input array:\\n\",np.log1p(sample1))\n"
   ]
  },
  {
   "cell_type": "markdown",
   "id": "65d5074d",
   "metadata": {
    "papermill": {
     "duration": 0.044397,
     "end_time": "2022-09-19T19:39:14.426130",
     "exception": false,
     "start_time": "2022-09-19T19:39:14.381733",
     "status": "completed"
    },
    "tags": []
   },
   "source": [
    "### np.logaddexp():"
   ]
  },
  {
   "cell_type": "code",
   "execution_count": 76,
   "id": "675d4edf",
   "metadata": {
    "execution": {
     "iopub.execute_input": "2022-09-19T19:39:14.517448Z",
     "iopub.status.busy": "2022-09-19T19:39:14.517064Z",
     "iopub.status.idle": "2022-09-19T19:39:14.523672Z",
     "shell.execute_reply": "2022-09-19T19:39:14.522954Z"
    },
    "papermill": {
     "duration": 0.055103,
     "end_time": "2022-09-19T19:39:14.525993",
     "exception": false,
     "start_time": "2022-09-19T19:39:14.470890",
     "status": "completed"
    },
    "tags": []
   },
   "outputs": [
    {
     "name": "stdout",
     "output_type": "stream",
     "text": [
      "\n",
      "Finding sum of exponentiations of sample array:\n",
      " [[ 22.  26.  30.  34.  38.]\n",
      " [ 42.  46.  50.  54.  58.]\n",
      " [ 62.  66.  70.  74.  78.]\n",
      " [ 82.  86.  90.  94.  98.]\n",
      " [102. 106. 110. 114. 118.]]\n",
      "\n",
      "Finding sum of exponentiations of sample array in base-2.:\n",
      " [[ 22.00000138  26.00000138  30.00000138  34.00000138  38.00000138]\n",
      " [ 42.00000138  46.00000138  50.00000138  54.00000138  58.00000138]\n",
      " [ 62.00000138  66.00000138  70.00000138  74.00000138  78.00000138]\n",
      " [ 82.00000138  86.00000138  90.00000138  94.00000138  98.00000138]\n",
      " [102.00000138 106.00000138 110.00000138 114.00000138 118.00000138]]\n"
     ]
    }
   ],
   "source": [
    "a=np.arange(2,100,4).reshape(5,5)\n",
    "b=np.arange(22,122,4).reshape(5,5)\n",
    "\n",
    "#Logarithm of the sum of exponentiations of the inputs.\n",
    "print(\"\\nFinding sum of exponentiations of sample array:\\n\",np.logaddexp(a,b))\n",
    "\n",
    "#Logarithm of the sum of exponentiations of the inputs in base-2.\n",
    "print(\"\\nFinding sum of exponentiations of sample array in base-2.:\\n\",np.logaddexp2(a,b))\n"
   ]
  },
  {
   "cell_type": "markdown",
   "id": "64f561e6",
   "metadata": {
    "papermill": {
     "duration": 0.044753,
     "end_time": "2022-09-19T19:39:14.616060",
     "exception": false,
     "start_time": "2022-09-19T19:39:14.571307",
     "status": "completed"
    },
    "tags": []
   },
   "source": [
    "## Python NumPy array slicing:"
   ]
  },
  {
   "cell_type": "code",
   "execution_count": 77,
   "id": "39bdf9ca",
   "metadata": {
    "execution": {
     "iopub.execute_input": "2022-09-19T19:39:14.707891Z",
     "iopub.status.busy": "2022-09-19T19:39:14.707520Z",
     "iopub.status.idle": "2022-09-19T19:39:14.713455Z",
     "shell.execute_reply": "2022-09-19T19:39:14.712268Z"
    },
    "papermill": {
     "duration": 0.054633,
     "end_time": "2022-09-19T19:39:14.716016",
     "exception": false,
     "start_time": "2022-09-19T19:39:14.661383",
     "status": "completed"
    },
    "tags": []
   },
   "outputs": [
    {
     "name": "stdout",
     "output_type": "stream",
     "text": [
      "[[  1   2   3   4   5   6   7   8   9  10]\n",
      " [ 11  12  13  14  15  16  17  18  19  20]\n",
      " [ 21  22  23  24  25  26  27  28  29  30]\n",
      " [ 31  32  33  34  35  36  37  38  39  40]\n",
      " [ 41  42  43  44  45  46  47  48  49  50]\n",
      " [ 51  52  53  54  55  56  57  58  59  60]\n",
      " [ 61  62  63  64  65  66  67  68  69  70]\n",
      " [ 71  72  73  74  75  76  77  78  79  80]\n",
      " [ 81  82  83  84  85  86  87  88  89  90]\n",
      " [ 91  92  93  94  95  96  97  98  99 100]]\n"
     ]
    }
   ],
   "source": [
    "mx=np.arange(1,101,1).reshape(10,10)\n",
    "print(mx)"
   ]
  },
  {
   "cell_type": "code",
   "execution_count": 78,
   "id": "7004ff2c",
   "metadata": {
    "execution": {
     "iopub.execute_input": "2022-09-19T19:39:14.808669Z",
     "iopub.status.busy": "2022-09-19T19:39:14.808097Z",
     "iopub.status.idle": "2022-09-19T19:39:14.813943Z",
     "shell.execute_reply": "2022-09-19T19:39:14.812880Z"
    },
    "papermill": {
     "duration": 0.055556,
     "end_time": "2022-09-19T19:39:14.816814",
     "exception": false,
     "start_time": "2022-09-19T19:39:14.761258",
     "status": "completed"
    },
    "tags": []
   },
   "outputs": [
    {
     "name": "stdout",
     "output_type": "stream",
     "text": [
      "Value at 0,0: 1\n",
      "Dimansion of this value: 0\n"
     ]
    }
   ],
   "source": [
    "print(\"Value at 0,0:\",mx[0,0])  #zero row and first column\n",
    "print(\"Dimansion of this value:\",mx[0,0].ndim)  #"
   ]
  },
  {
   "cell_type": "code",
   "execution_count": 79,
   "id": "f3662ffb",
   "metadata": {
    "execution": {
     "iopub.execute_input": "2022-09-19T19:39:14.910255Z",
     "iopub.status.busy": "2022-09-19T19:39:14.909498Z",
     "iopub.status.idle": "2022-09-19T19:39:14.917792Z",
     "shell.execute_reply": "2022-09-19T19:39:14.916667Z"
    },
    "papermill": {
     "duration": 0.05787,
     "end_time": "2022-09-19T19:39:14.920708",
     "exception": false,
     "start_time": "2022-09-19T19:39:14.862838",
     "status": "completed"
    },
    "tags": []
   },
   "outputs": [
    {
     "name": "stdout",
     "output_type": "stream",
     "text": [
      "\n",
      "Value at 0: 0 :\n",
      " []\n",
      "Dimansion of this value: 2\n",
      "\n",
      "Value at 0: 1 :\n",
      " [[ 1  2  3  4  5  6  7  8  9 10]]\n",
      "Dimansion of this value: 2\n",
      "\n",
      "Value at 0: 2 :\n",
      " [[ 1  2  3  4  5  6  7  8  9 10]\n",
      " [11 12 13 14 15 16 17 18 19 20]]\n",
      "Dimansion of this value: 2\n",
      "\n",
      "Value at 0: 3 :\n",
      " [[ 1  2  3  4  5  6  7  8  9 10]\n",
      " [11 12 13 14 15 16 17 18 19 20]\n",
      " [21 22 23 24 25 26 27 28 29 30]]\n",
      "Dimansion of this value: 2\n",
      "\n",
      "Value at 0: 4 :\n",
      " [[ 1  2  3  4  5  6  7  8  9 10]\n",
      " [11 12 13 14 15 16 17 18 19 20]\n",
      " [21 22 23 24 25 26 27 28 29 30]\n",
      " [31 32 33 34 35 36 37 38 39 40]]\n",
      "Dimansion of this value: 2\n",
      "\n",
      "Value at 0: 5 :\n",
      " [[ 1  2  3  4  5  6  7  8  9 10]\n",
      " [11 12 13 14 15 16 17 18 19 20]\n",
      " [21 22 23 24 25 26 27 28 29 30]\n",
      " [31 32 33 34 35 36 37 38 39 40]\n",
      " [41 42 43 44 45 46 47 48 49 50]]\n",
      "Dimansion of this value: 2\n",
      "\n",
      "Value at 0: 6 :\n",
      " [[ 1  2  3  4  5  6  7  8  9 10]\n",
      " [11 12 13 14 15 16 17 18 19 20]\n",
      " [21 22 23 24 25 26 27 28 29 30]\n",
      " [31 32 33 34 35 36 37 38 39 40]\n",
      " [41 42 43 44 45 46 47 48 49 50]\n",
      " [51 52 53 54 55 56 57 58 59 60]]\n",
      "Dimansion of this value: 2\n",
      "\n",
      "Value at 0: 7 :\n",
      " [[ 1  2  3  4  5  6  7  8  9 10]\n",
      " [11 12 13 14 15 16 17 18 19 20]\n",
      " [21 22 23 24 25 26 27 28 29 30]\n",
      " [31 32 33 34 35 36 37 38 39 40]\n",
      " [41 42 43 44 45 46 47 48 49 50]\n",
      " [51 52 53 54 55 56 57 58 59 60]\n",
      " [61 62 63 64 65 66 67 68 69 70]]\n",
      "Dimansion of this value: 2\n",
      "\n",
      "Value at 0: 8 :\n",
      " [[ 1  2  3  4  5  6  7  8  9 10]\n",
      " [11 12 13 14 15 16 17 18 19 20]\n",
      " [21 22 23 24 25 26 27 28 29 30]\n",
      " [31 32 33 34 35 36 37 38 39 40]\n",
      " [41 42 43 44 45 46 47 48 49 50]\n",
      " [51 52 53 54 55 56 57 58 59 60]\n",
      " [61 62 63 64 65 66 67 68 69 70]\n",
      " [71 72 73 74 75 76 77 78 79 80]]\n",
      "Dimansion of this value: 2\n",
      "\n",
      "Value at 0: 9 :\n",
      " [[ 1  2  3  4  5  6  7  8  9 10]\n",
      " [11 12 13 14 15 16 17 18 19 20]\n",
      " [21 22 23 24 25 26 27 28 29 30]\n",
      " [31 32 33 34 35 36 37 38 39 40]\n",
      " [41 42 43 44 45 46 47 48 49 50]\n",
      " [51 52 53 54 55 56 57 58 59 60]\n",
      " [61 62 63 64 65 66 67 68 69 70]\n",
      " [71 72 73 74 75 76 77 78 79 80]\n",
      " [81 82 83 84 85 86 87 88 89 90]]\n",
      "Dimansion of this value: 2\n"
     ]
    }
   ],
   "source": [
    "for i in range(len(mx)):\n",
    "    print(\"\\nValue at 0:\",i,\":\\n\",mx[0:i])    #zeroth row and row of first zeroth row\n",
    "    print(\"Dimansion of this value:\",mx[0:i].ndim) "
   ]
  },
  {
   "cell_type": "code",
   "execution_count": 80,
   "id": "91e859f5",
   "metadata": {
    "execution": {
     "iopub.execute_input": "2022-09-19T19:39:15.013719Z",
     "iopub.status.busy": "2022-09-19T19:39:15.013350Z",
     "iopub.status.idle": "2022-09-19T19:39:15.019408Z",
     "shell.execute_reply": "2022-09-19T19:39:15.018332Z"
    },
    "papermill": {
     "duration": 0.056112,
     "end_time": "2022-09-19T19:39:15.022595",
     "exception": false,
     "start_time": "2022-09-19T19:39:14.966483",
     "status": "completed"
    },
    "tags": []
   },
   "outputs": [
    {
     "name": "stdout",
     "output_type": "stream",
     "text": [
      "\n",
      "Value at 0: 0 :\n",
      " 1\n",
      "Dimansion of this value: 0\n",
      "\n",
      "Value at 0: 1 :\n",
      " 2\n",
      "Dimansion of this value: 0\n",
      "\n",
      "Value at 0: 2 :\n",
      " 3\n",
      "Dimansion of this value: 0\n",
      "\n",
      "Value at 0: 3 :\n",
      " 4\n",
      "Dimansion of this value: 0\n",
      "\n",
      "Value at 0: 4 :\n",
      " 5\n",
      "Dimansion of this value: 0\n",
      "\n",
      "Value at 0: 5 :\n",
      " 6\n",
      "Dimansion of this value: 0\n",
      "\n",
      "Value at 0: 6 :\n",
      " 7\n",
      "Dimansion of this value: 0\n",
      "\n",
      "Value at 0: 7 :\n",
      " 8\n",
      "Dimansion of this value: 0\n",
      "\n",
      "Value at 0: 8 :\n",
      " 9\n",
      "Dimansion of this value: 0\n",
      "\n",
      "Value at 0: 9 :\n",
      " 10\n",
      "Dimansion of this value: 0\n"
     ]
    }
   ],
   "source": [
    "for i in range(len(mx)):\n",
    "    print(\"\\nValue at 0:\",i,\":\\n\",mx[0,i])    #zeroth row and row of first zeroth row\n",
    "    print(\"Dimansion of this value:\",mx[0,i].ndim)"
   ]
  },
  {
   "cell_type": "code",
   "execution_count": 81,
   "id": "ef02851b",
   "metadata": {
    "execution": {
     "iopub.execute_input": "2022-09-19T19:39:15.116841Z",
     "iopub.status.busy": "2022-09-19T19:39:15.116470Z",
     "iopub.status.idle": "2022-09-19T19:39:15.123060Z",
     "shell.execute_reply": "2022-09-19T19:39:15.122035Z"
    },
    "papermill": {
     "duration": 0.0569,
     "end_time": "2022-09-19T19:39:15.126754",
     "exception": false,
     "start_time": "2022-09-19T19:39:15.069854",
     "status": "completed"
    },
    "tags": []
   },
   "outputs": [
    {
     "name": "stdout",
     "output_type": "stream",
     "text": [
      "\n",
      "Value at  0 :\n",
      " [ 1  2  3  4  5  6  7  8  9 10]\n",
      "Dimansion of this value: 1\n",
      "\n",
      "Value at  1 :\n",
      " [11 12 13 14 15 16 17 18 19 20]\n",
      "Dimansion of this value: 1\n",
      "\n",
      "Value at  2 :\n",
      " [21 22 23 24 25 26 27 28 29 30]\n",
      "Dimansion of this value: 1\n",
      "\n",
      "Value at  3 :\n",
      " [31 32 33 34 35 36 37 38 39 40]\n",
      "Dimansion of this value: 1\n",
      "\n",
      "Value at  4 :\n",
      " [41 42 43 44 45 46 47 48 49 50]\n",
      "Dimansion of this value: 1\n",
      "\n",
      "Value at  5 :\n",
      " [51 52 53 54 55 56 57 58 59 60]\n",
      "Dimansion of this value: 1\n",
      "\n",
      "Value at  6 :\n",
      " [61 62 63 64 65 66 67 68 69 70]\n",
      "Dimansion of this value: 1\n",
      "\n",
      "Value at  7 :\n",
      " [71 72 73 74 75 76 77 78 79 80]\n",
      "Dimansion of this value: 1\n",
      "\n",
      "Value at  8 :\n",
      " [81 82 83 84 85 86 87 88 89 90]\n",
      "Dimansion of this value: 1\n",
      "\n",
      "Value at  9 :\n",
      " [ 91  92  93  94  95  96  97  98  99 100]\n",
      "Dimansion of this value: 1\n"
     ]
    }
   ],
   "source": [
    "for i in range(len(mx)):\n",
    "    print(\"\\nValue at \",i,\":\\n\",mx[i])    #zeroth row and row of first zeroth row\n",
    "    print(\"Dimansion of this value:\",mx[i].ndim)"
   ]
  },
  {
   "cell_type": "code",
   "execution_count": 82,
   "id": "5226f124",
   "metadata": {
    "execution": {
     "iopub.execute_input": "2022-09-19T19:39:15.223191Z",
     "iopub.status.busy": "2022-09-19T19:39:15.222787Z",
     "iopub.status.idle": "2022-09-19T19:39:15.230586Z",
     "shell.execute_reply": "2022-09-19T19:39:15.229842Z"
    },
    "papermill": {
     "duration": 0.059409,
     "end_time": "2022-09-19T19:39:15.233823",
     "exception": false,
     "start_time": "2022-09-19T19:39:15.174414",
     "status": "completed"
    },
    "tags": []
   },
   "outputs": [
    {
     "name": "stdout",
     "output_type": "stream",
     "text": [
      "\n",
      "Value at [:,0: 0 ]:\n",
      " []\n",
      "Dimansion of this value: 2\n",
      "\n",
      "Value at [:,0: 1 ]:\n",
      " [[ 1]\n",
      " [11]\n",
      " [21]\n",
      " [31]\n",
      " [41]\n",
      " [51]\n",
      " [61]\n",
      " [71]\n",
      " [81]\n",
      " [91]]\n",
      "Dimansion of this value: 2\n",
      "\n",
      "Value at [:,0: 2 ]:\n",
      " [[ 1  2]\n",
      " [11 12]\n",
      " [21 22]\n",
      " [31 32]\n",
      " [41 42]\n",
      " [51 52]\n",
      " [61 62]\n",
      " [71 72]\n",
      " [81 82]\n",
      " [91 92]]\n",
      "Dimansion of this value: 2\n",
      "\n",
      "Value at [:,0: 3 ]:\n",
      " [[ 1  2  3]\n",
      " [11 12 13]\n",
      " [21 22 23]\n",
      " [31 32 33]\n",
      " [41 42 43]\n",
      " [51 52 53]\n",
      " [61 62 63]\n",
      " [71 72 73]\n",
      " [81 82 83]\n",
      " [91 92 93]]\n",
      "Dimansion of this value: 2\n",
      "\n",
      "Value at [:,0: 4 ]:\n",
      " [[ 1  2  3  4]\n",
      " [11 12 13 14]\n",
      " [21 22 23 24]\n",
      " [31 32 33 34]\n",
      " [41 42 43 44]\n",
      " [51 52 53 54]\n",
      " [61 62 63 64]\n",
      " [71 72 73 74]\n",
      " [81 82 83 84]\n",
      " [91 92 93 94]]\n",
      "Dimansion of this value: 2\n",
      "\n",
      "Value at [:,0: 5 ]:\n",
      " [[ 1  2  3  4  5]\n",
      " [11 12 13 14 15]\n",
      " [21 22 23 24 25]\n",
      " [31 32 33 34 35]\n",
      " [41 42 43 44 45]\n",
      " [51 52 53 54 55]\n",
      " [61 62 63 64 65]\n",
      " [71 72 73 74 75]\n",
      " [81 82 83 84 85]\n",
      " [91 92 93 94 95]]\n",
      "Dimansion of this value: 2\n",
      "\n",
      "Value at [:,0: 6 ]:\n",
      " [[ 1  2  3  4  5  6]\n",
      " [11 12 13 14 15 16]\n",
      " [21 22 23 24 25 26]\n",
      " [31 32 33 34 35 36]\n",
      " [41 42 43 44 45 46]\n",
      " [51 52 53 54 55 56]\n",
      " [61 62 63 64 65 66]\n",
      " [71 72 73 74 75 76]\n",
      " [81 82 83 84 85 86]\n",
      " [91 92 93 94 95 96]]\n",
      "Dimansion of this value: 2\n",
      "\n",
      "Value at [:,0: 7 ]:\n",
      " [[ 1  2  3  4  5  6  7]\n",
      " [11 12 13 14 15 16 17]\n",
      " [21 22 23 24 25 26 27]\n",
      " [31 32 33 34 35 36 37]\n",
      " [41 42 43 44 45 46 47]\n",
      " [51 52 53 54 55 56 57]\n",
      " [61 62 63 64 65 66 67]\n",
      " [71 72 73 74 75 76 77]\n",
      " [81 82 83 84 85 86 87]\n",
      " [91 92 93 94 95 96 97]]\n",
      "Dimansion of this value: 2\n",
      "\n",
      "Value at [:,0: 8 ]:\n",
      " [[ 1  2  3  4  5  6  7  8]\n",
      " [11 12 13 14 15 16 17 18]\n",
      " [21 22 23 24 25 26 27 28]\n",
      " [31 32 33 34 35 36 37 38]\n",
      " [41 42 43 44 45 46 47 48]\n",
      " [51 52 53 54 55 56 57 58]\n",
      " [61 62 63 64 65 66 67 68]\n",
      " [71 72 73 74 75 76 77 78]\n",
      " [81 82 83 84 85 86 87 88]\n",
      " [91 92 93 94 95 96 97 98]]\n",
      "Dimansion of this value: 2\n",
      "\n",
      "Value at [:,0: 9 ]:\n",
      " [[ 1  2  3  4  5  6  7  8  9]\n",
      " [11 12 13 14 15 16 17 18 19]\n",
      " [21 22 23 24 25 26 27 28 29]\n",
      " [31 32 33 34 35 36 37 38 39]\n",
      " [41 42 43 44 45 46 47 48 49]\n",
      " [51 52 53 54 55 56 57 58 59]\n",
      " [61 62 63 64 65 66 67 68 69]\n",
      " [71 72 73 74 75 76 77 78 79]\n",
      " [81 82 83 84 85 86 87 88 89]\n",
      " [91 92 93 94 95 96 97 98 99]]\n",
      "Dimansion of this value: 2\n"
     ]
    }
   ],
   "source": [
    "for i in range(len(mx)):\n",
    "    print(\"\\nValue at [:,0:\",i,\"]:\\n\",mx[:,0:i])    #zeroth row and row of first zeroth row\n",
    "    print(\"Dimansion of this value:\",mx[:,0:i].ndim)"
   ]
  },
  {
   "cell_type": "code",
   "execution_count": 83,
   "id": "28265e4c",
   "metadata": {
    "execution": {
     "iopub.execute_input": "2022-09-19T19:39:15.328004Z",
     "iopub.status.busy": "2022-09-19T19:39:15.327014Z",
     "iopub.status.idle": "2022-09-19T19:39:15.336035Z",
     "shell.execute_reply": "2022-09-19T19:39:15.333965Z"
    },
    "papermill": {
     "duration": 0.058575,
     "end_time": "2022-09-19T19:39:15.338505",
     "exception": false,
     "start_time": "2022-09-19T19:39:15.279930",
     "status": "completed"
    },
    "tags": []
   },
   "outputs": [
    {
     "name": "stdout",
     "output_type": "stream",
     "text": [
      "\n",
      "Value at [:, 0 : 1 ]:\n",
      " [[ 1]\n",
      " [11]\n",
      " [21]\n",
      " [31]\n",
      " [41]\n",
      " [51]\n",
      " [61]\n",
      " [71]\n",
      " [81]\n",
      " [91]]\n",
      "Dimansion of this value: 2\n",
      "\n",
      "Value at [:, 1 : 2 ]:\n",
      " [[ 2]\n",
      " [12]\n",
      " [22]\n",
      " [32]\n",
      " [42]\n",
      " [52]\n",
      " [62]\n",
      " [72]\n",
      " [82]\n",
      " [92]]\n",
      "Dimansion of this value: 2\n",
      "\n",
      "Value at [:, 2 : 3 ]:\n",
      " [[ 3]\n",
      " [13]\n",
      " [23]\n",
      " [33]\n",
      " [43]\n",
      " [53]\n",
      " [63]\n",
      " [73]\n",
      " [83]\n",
      " [93]]\n",
      "Dimansion of this value: 2\n",
      "\n",
      "Value at [:, 3 : 4 ]:\n",
      " [[ 4]\n",
      " [14]\n",
      " [24]\n",
      " [34]\n",
      " [44]\n",
      " [54]\n",
      " [64]\n",
      " [74]\n",
      " [84]\n",
      " [94]]\n",
      "Dimansion of this value: 2\n",
      "\n",
      "Value at [:, 4 : 5 ]:\n",
      " [[ 5]\n",
      " [15]\n",
      " [25]\n",
      " [35]\n",
      " [45]\n",
      " [55]\n",
      " [65]\n",
      " [75]\n",
      " [85]\n",
      " [95]]\n",
      "Dimansion of this value: 2\n",
      "\n",
      "Value at [:, 5 : 6 ]:\n",
      " [[ 6]\n",
      " [16]\n",
      " [26]\n",
      " [36]\n",
      " [46]\n",
      " [56]\n",
      " [66]\n",
      " [76]\n",
      " [86]\n",
      " [96]]\n",
      "Dimansion of this value: 2\n",
      "\n",
      "Value at [:, 6 : 7 ]:\n",
      " [[ 7]\n",
      " [17]\n",
      " [27]\n",
      " [37]\n",
      " [47]\n",
      " [57]\n",
      " [67]\n",
      " [77]\n",
      " [87]\n",
      " [97]]\n",
      "Dimansion of this value: 2\n",
      "\n",
      "Value at [:, 7 : 8 ]:\n",
      " [[ 8]\n",
      " [18]\n",
      " [28]\n",
      " [38]\n",
      " [48]\n",
      " [58]\n",
      " [68]\n",
      " [78]\n",
      " [88]\n",
      " [98]]\n",
      "Dimansion of this value: 2\n",
      "\n",
      "Value at [:, 8 : 9 ]:\n",
      " [[ 9]\n",
      " [19]\n",
      " [29]\n",
      " [39]\n",
      " [49]\n",
      " [59]\n",
      " [69]\n",
      " [79]\n",
      " [89]\n",
      " [99]]\n",
      "Dimansion of this value: 2\n",
      "\n",
      "Value at [:, 9 : 10 ]:\n",
      " [[ 10]\n",
      " [ 20]\n",
      " [ 30]\n",
      " [ 40]\n",
      " [ 50]\n",
      " [ 60]\n",
      " [ 70]\n",
      " [ 80]\n",
      " [ 90]\n",
      " [100]]\n",
      "Dimansion of this value: 2\n"
     ]
    }
   ],
   "source": [
    "for i in range(len(mx)):\n",
    "    print(\"\\nValue at [:,\",i,\":\",i+1,\"]:\\n\",mx[:,i:i+1])    \n",
    "    print(\"Dimansion of this value:\",mx[:,i:i+1].ndim)"
   ]
  },
  {
   "cell_type": "code",
   "execution_count": 84,
   "id": "7f6c92fe",
   "metadata": {
    "execution": {
     "iopub.execute_input": "2022-09-19T19:39:15.433639Z",
     "iopub.status.busy": "2022-09-19T19:39:15.433232Z",
     "iopub.status.idle": "2022-09-19T19:39:15.440040Z",
     "shell.execute_reply": "2022-09-19T19:39:15.438441Z"
    },
    "papermill": {
     "duration": 0.057072,
     "end_time": "2022-09-19T19:39:15.442132",
     "exception": false,
     "start_time": "2022-09-19T19:39:15.385060",
     "status": "completed"
    },
    "tags": []
   },
   "outputs": [
    {
     "name": "stdout",
     "output_type": "stream",
     "text": [
      "[[  1   2   3   4   5   6   7   8   9  10]\n",
      " [ 11  12  13  14  15  16  17  18  19  20]\n",
      " [ 21  22  23  24  25  26  27  28  29  30]\n",
      " [ 31  32  33  34  35  36  37  38  39  40]\n",
      " [ 41  42  43  44  45  46  47  48  49  50]\n",
      " [ 51  52  53  54  55  56  57  58  59  60]\n",
      " [ 61  62  63  64  65  66  67  68  69  70]\n",
      " [ 71  72  73  74  75  76  77  78  79  80]\n",
      " [ 81  82  83  84  85  86  87  88  89  90]\n",
      " [ 91  92  93  94  95  96  97  98  99 100]]\n",
      "\n",
      " [[23 24]\n",
      " [33 34]] 2\n"
     ]
    }
   ],
   "source": [
    "print(mx)\n",
    "print(\"\\n\",mx[2:4,2:4],mx[2:4,2:4].ndim)"
   ]
  },
  {
   "cell_type": "code",
   "execution_count": 85,
   "id": "a39ffbab",
   "metadata": {
    "execution": {
     "iopub.execute_input": "2022-09-19T19:39:15.538518Z",
     "iopub.status.busy": "2022-09-19T19:39:15.538072Z",
     "iopub.status.idle": "2022-09-19T19:39:15.543395Z",
     "shell.execute_reply": "2022-09-19T19:39:15.542313Z"
    },
    "papermill": {
     "duration": 0.055447,
     "end_time": "2022-09-19T19:39:15.545873",
     "exception": false,
     "start_time": "2022-09-19T19:39:15.490426",
     "status": "completed"
    },
    "tags": []
   },
   "outputs": [
    {
     "name": "stdout",
     "output_type": "stream",
     "text": [
      "8\n",
      "int64\n"
     ]
    }
   ],
   "source": [
    "print(mx.itemsize) ## size in byte \n",
    "print(mx.dtype)"
   ]
  },
  {
   "cell_type": "markdown",
   "id": "6ebb632a",
   "metadata": {
    "papermill": {
     "duration": 0.047123,
     "end_time": "2022-09-19T19:39:15.639386",
     "exception": false,
     "start_time": "2022-09-19T19:39:15.592263",
     "status": "completed"
    },
    "tags": []
   },
   "source": [
    "# Python NumPy Array Concatination ,Split & Joining:"
   ]
  },
  {
   "cell_type": "code",
   "execution_count": 86,
   "id": "511025a8",
   "metadata": {
    "execution": {
     "iopub.execute_input": "2022-09-19T19:39:15.735545Z",
     "iopub.status.busy": "2022-09-19T19:39:15.735152Z",
     "iopub.status.idle": "2022-09-19T19:39:15.742633Z",
     "shell.execute_reply": "2022-09-19T19:39:15.741157Z"
    },
    "papermill": {
     "duration": 0.058162,
     "end_time": "2022-09-19T19:39:15.744753",
     "exception": false,
     "start_time": "2022-09-19T19:39:15.686591",
     "status": "completed"
    },
    "tags": []
   },
   "outputs": [
    {
     "name": "stdout",
     "output_type": "stream",
     "text": [
      "Array 1:\n",
      " [[ 1  2  3  4]\n",
      " [ 5  6  7  8]\n",
      " [ 9 10 11 12]\n",
      " [13 14 15 16]]\n",
      "\n",
      "Array 2:\n",
      " [[17 18 19 20]\n",
      " [21 22 23 24]\n",
      " [25 26 27 28]\n",
      " [29 30 31 32]]\n"
     ]
    }
   ],
   "source": [
    "sample=np.arange(1,17).reshape(4,4)\n",
    "sample1=np.arange(17,33).reshape(4,4)\n",
    "print(\"Array 1:\\n\",sample)\n",
    "print()\n",
    "print(\"Array 2:\\n\",sample1)"
   ]
  },
  {
   "cell_type": "markdown",
   "id": "26c8109d",
   "metadata": {
    "papermill": {
     "duration": 0.046505,
     "end_time": "2022-09-19T19:39:15.837749",
     "exception": false,
     "start_time": "2022-09-19T19:39:15.791244",
     "status": "completed"
    },
    "tags": []
   },
   "source": [
    "- Concatination in list:\n",
    "\n",
    "``` python\n",
    "list1=[1,2,3,4,5]\n",
    "list2=[6,7,8,9,0]\n",
    "list1+list2\n",
    "\n",
    "#OUTPUT\n",
    "\n",
    "[1, 2, 3, 4, 5, 6, 7, 8, 9, 0]\n",
    "\n",
    "```\n",
    "#### Here in NumPy it do the Addition\n"
   ]
  },
  {
   "cell_type": "code",
   "execution_count": 87,
   "id": "9da045ea",
   "metadata": {
    "execution": {
     "iopub.execute_input": "2022-09-19T19:39:15.933198Z",
     "iopub.status.busy": "2022-09-19T19:39:15.932815Z",
     "iopub.status.idle": "2022-09-19T19:39:15.937801Z",
     "shell.execute_reply": "2022-09-19T19:39:15.936785Z"
    },
    "papermill": {
     "duration": 0.055276,
     "end_time": "2022-09-19T19:39:15.940521",
     "exception": false,
     "start_time": "2022-09-19T19:39:15.885245",
     "status": "completed"
    },
    "tags": []
   },
   "outputs": [
    {
     "name": "stdout",
     "output_type": "stream",
     "text": [
      "[[18 20 22 24]\n",
      " [26 28 30 32]\n",
      " [34 36 38 40]\n",
      " [42 44 46 48]]\n"
     ]
    }
   ],
   "source": [
    "print(sample+sample1) ##by using '+' it add two array"
   ]
  },
  {
   "cell_type": "markdown",
   "id": "3956efaa",
   "metadata": {
    "papermill": {
     "duration": 0.045632,
     "end_time": "2022-09-19T19:39:16.033164",
     "exception": false,
     "start_time": "2022-09-19T19:39:15.987532",
     "status": "completed"
    },
    "tags": []
   },
   "source": [
    "## 1.Concatetination:\n",
    "### np.concatente:\n",
    "- **Syntex:** <H4>numpy.concatenate((a1, a2, ...), axis=0, out=None, dtype=None, casting=\"same_kind\")</H4>\n",
    "    - **a1, a2, …sequence of array_like**\n",
    "    The arrays must have the same shape, except in the dimension corresponding to axis (the first, by default).\n",
    "    - **axis int, optional**\n",
    "    The axis along which the arrays will be joined. If axis is None, arrays are flattened before use. Default is 0.\n",
    "\n",
    "    - **outndarray, optional**\n",
    "    If provided, the destination to place the result. The shape must be correct, matching that of what concatenate would have returned if no out argument were specified.\n",
    "    - **dtypestr or dtype**\n",
    "    If provided, the destination array will have this dtype. Cannot be provided together with out.\n",
    "\n",
    "    - **casting{‘no’, ‘equiv’, ‘safe’, ‘same_kind’, ‘unsafe’}, optional**\n",
    "    Controls what kind of data casting may occur. Defaults to ‘same_kind’."
   ]
  },
  {
   "cell_type": "code",
   "execution_count": 88,
   "id": "5e583570",
   "metadata": {
    "execution": {
     "iopub.execute_input": "2022-09-19T19:39:16.127557Z",
     "iopub.status.busy": "2022-09-19T19:39:16.127135Z",
     "iopub.status.idle": "2022-09-19T19:39:16.133095Z",
     "shell.execute_reply": "2022-09-19T19:39:16.132068Z"
    },
    "papermill": {
     "duration": 0.05658,
     "end_time": "2022-09-19T19:39:16.135977",
     "exception": false,
     "start_time": "2022-09-19T19:39:16.079397",
     "status": "completed"
    },
    "tags": []
   },
   "outputs": [
    {
     "name": "stdout",
     "output_type": "stream",
     "text": [
      "Concatenation of Array:\n",
      " [[ 1  2  3  4]\n",
      " [ 5  6  7  8]\n",
      " [ 9 10 11 12]\n",
      " [13 14 15 16]\n",
      " [17 18 19 20]\n",
      " [21 22 23 24]\n",
      " [25 26 27 28]\n",
      " [29 30 31 32]]\n",
      "\n",
      "Concatenation of Array\n",
      " [[17 18 19 20]\n",
      " [21 22 23 24]\n",
      " [25 26 27 28]\n",
      " [29 30 31 32]\n",
      " [ 1  2  3  4]\n",
      " [ 5  6  7  8]\n",
      " [ 9 10 11 12]\n",
      " [13 14 15 16]]\n"
     ]
    }
   ],
   "source": [
    "print(\"Concatenation of Array:\\n\",np.concatenate((sample,sample1)))\n",
    "print(\"\\nConcatenation of Array\\n\",np.concatenate((sample1,sample)))"
   ]
  },
  {
   "cell_type": "code",
   "execution_count": 89,
   "id": "5ad3e2d3",
   "metadata": {
    "execution": {
     "iopub.execute_input": "2022-09-19T19:39:16.230217Z",
     "iopub.status.busy": "2022-09-19T19:39:16.229804Z",
     "iopub.status.idle": "2022-09-19T19:39:16.237651Z",
     "shell.execute_reply": "2022-09-19T19:39:16.236407Z"
    },
    "papermill": {
     "duration": 0.05767,
     "end_time": "2022-09-19T19:39:16.239986",
     "exception": false,
     "start_time": "2022-09-19T19:39:16.182316",
     "status": "completed"
    },
    "tags": []
   },
   "outputs": [
    {
     "name": "stdout",
     "output_type": "stream",
     "text": [
      "Concatenation of Array:\n",
      " [[ 1  2  3  4]\n",
      " [ 5  6  7  8]\n",
      " [ 9 10 11 12]\n",
      " [13 14 15 16]\n",
      " [17 18 19 20]\n",
      " [21 22 23 24]\n",
      " [25 26 27 28]\n",
      " [29 30 31 32]]\n",
      "\n",
      "Concatenation of Array:\n",
      " [[ 1  2  3  4 17 18 19 20]\n",
      " [ 5  6  7  8 21 22 23 24]\n",
      " [ 9 10 11 12 25 26 27 28]\n",
      " [13 14 15 16 29 30 31 32]]\n"
     ]
    }
   ],
   "source": [
    "print(\"Concatenation of Array:\\n\",np.concatenate((sample,sample1),axis=0)) #default is '0'\n",
    "\n",
    "print(\"\\nConcatenation of Array:\\n\",np.concatenate((sample,sample1),axis=1)) \n",
    "\n",
    "#Concatination of with axis with row wise or coloumn wise concatenation"
   ]
  },
  {
   "cell_type": "markdown",
   "id": "e6efaf63",
   "metadata": {
    "papermill": {
     "duration": 0.046215,
     "end_time": "2022-09-19T19:39:16.332707",
     "exception": false,
     "start_time": "2022-09-19T19:39:16.286492",
     "status": "completed"
    },
    "tags": []
   },
   "source": [
    "## 2.Joining Arrays Using Stack Functions:\n",
    "-   Stacking is used to join arrays of same dimension along a new axis.\n",
    "    - Stack are of three types:\n",
    "        - Horizontal stacking (hstack())\n",
    "        - Vertical stacking (vstack())\n",
    "        - Height stacking (dstack())\n",
    "\n",
    "### numpy.stack():\n",
    "- Join a sequence of arrays along a new axis.\n",
    "- **Syntax**<H4>numpy.stack(arrays, axis=0, out=None)[source]</H4>\n"
   ]
  },
  {
   "cell_type": "code",
   "execution_count": 90,
   "id": "8eb87e63",
   "metadata": {
    "execution": {
     "iopub.execute_input": "2022-09-19T19:39:16.426816Z",
     "iopub.status.busy": "2022-09-19T19:39:16.426444Z",
     "iopub.status.idle": "2022-09-19T19:39:16.432987Z",
     "shell.execute_reply": "2022-09-19T19:39:16.431908Z"
    },
    "papermill": {
     "duration": 0.056654,
     "end_time": "2022-09-19T19:39:16.435642",
     "exception": false,
     "start_time": "2022-09-19T19:39:16.378988",
     "status": "completed"
    },
    "tags": []
   },
   "outputs": [
    {
     "name": "stdout",
     "output_type": "stream",
     "text": [
      "Joing array by:\n",
      " [[[ 1  2  3  4]\n",
      "  [ 5  6  7  8]\n",
      "  [ 9 10 11 12]\n",
      "  [13 14 15 16]]\n",
      "\n",
      " [[17 18 19 20]\n",
      "  [21 22 23 24]\n",
      "  [25 26 27 28]\n",
      "  [29 30 31 32]]] \n",
      "\n",
      "Dimention of array: 3\n"
     ]
    }
   ],
   "source": [
    "print(\"Joing array by:\\n\",np.stack((sample,sample1)),\"\\n\\nDimention of array:\",np.stack((sample,sample1)).ndim)"
   ]
  },
  {
   "cell_type": "code",
   "execution_count": 91,
   "id": "394cf077",
   "metadata": {
    "execution": {
     "iopub.execute_input": "2022-09-19T19:39:16.560494Z",
     "iopub.status.busy": "2022-09-19T19:39:16.559542Z",
     "iopub.status.idle": "2022-09-19T19:39:16.566086Z",
     "shell.execute_reply": "2022-09-19T19:39:16.564820Z"
    },
    "papermill": {
     "duration": 0.072767,
     "end_time": "2022-09-19T19:39:16.568269",
     "exception": false,
     "start_time": "2022-09-19T19:39:16.495502",
     "status": "completed"
    },
    "tags": []
   },
   "outputs": [
    {
     "name": "stdout",
     "output_type": "stream",
     "text": [
      "\n",
      "Joing array by:\n",
      " [[[ 1  2  3  4]\n",
      "  [ 5  6  7  8]\n",
      "  [ 9 10 11 12]\n",
      "  [13 14 15 16]]\n",
      "\n",
      " [[17 18 19 20]\n",
      "  [21 22 23 24]\n",
      "  [25 26 27 28]\n",
      "  [29 30 31 32]]]\n"
     ]
    }
   ],
   "source": [
    "print(\"\\nJoing array by:\\n\",np.stack((sample,sample1),axis=0))"
   ]
  },
  {
   "cell_type": "code",
   "execution_count": 92,
   "id": "6a9755e3",
   "metadata": {
    "execution": {
     "iopub.execute_input": "2022-09-19T19:39:16.665136Z",
     "iopub.status.busy": "2022-09-19T19:39:16.664751Z",
     "iopub.status.idle": "2022-09-19T19:39:16.671069Z",
     "shell.execute_reply": "2022-09-19T19:39:16.669934Z"
    },
    "papermill": {
     "duration": 0.058113,
     "end_time": "2022-09-19T19:39:16.673486",
     "exception": false,
     "start_time": "2022-09-19T19:39:16.615373",
     "status": "completed"
    },
    "tags": []
   },
   "outputs": [
    {
     "name": "stdout",
     "output_type": "stream",
     "text": [
      "\n",
      "Joing array by:\n",
      " [[[ 1  2  3  4]\n",
      "  [17 18 19 20]]\n",
      "\n",
      " [[ 5  6  7  8]\n",
      "  [21 22 23 24]]\n",
      "\n",
      " [[ 9 10 11 12]\n",
      "  [25 26 27 28]]\n",
      "\n",
      " [[13 14 15 16]\n",
      "  [29 30 31 32]]]\n"
     ]
    }
   ],
   "source": [
    "#it join by row in 2-d\n",
    "print(\"\\nJoing array by:\\n\",np.stack((sample,sample1),axis=1))"
   ]
  },
  {
   "cell_type": "code",
   "execution_count": 93,
   "id": "5be3c656",
   "metadata": {
    "execution": {
     "iopub.execute_input": "2022-09-19T19:39:16.769013Z",
     "iopub.status.busy": "2022-09-19T19:39:16.768051Z",
     "iopub.status.idle": "2022-09-19T19:39:16.774342Z",
     "shell.execute_reply": "2022-09-19T19:39:16.773202Z"
    },
    "papermill": {
     "duration": 0.057268,
     "end_time": "2022-09-19T19:39:16.777578",
     "exception": false,
     "start_time": "2022-09-19T19:39:16.720310",
     "status": "completed"
    },
    "tags": []
   },
   "outputs": [
    {
     "name": "stdout",
     "output_type": "stream",
     "text": [
      "\n",
      "Joing array by:\n",
      " [[[ 1 17]\n",
      "  [ 2 18]\n",
      "  [ 3 19]\n",
      "  [ 4 20]]\n",
      "\n",
      " [[ 5 21]\n",
      "  [ 6 22]\n",
      "  [ 7 23]\n",
      "  [ 8 24]]\n",
      "\n",
      " [[ 9 25]\n",
      "  [10 26]\n",
      "  [11 27]\n",
      "  [12 28]]\n",
      "\n",
      " [[13 29]\n",
      "  [14 30]\n",
      "  [15 31]\n",
      "  [16 32]]]\n"
     ]
    }
   ],
   "source": [
    "# by coloumn value\n",
    "print(\"\\nJoing array by:\\n\",np.stack((sample,sample1),axis=2))"
   ]
  },
  {
   "cell_type": "markdown",
   "id": "a4d666e3",
   "metadata": {
    "papermill": {
     "duration": 0.04735,
     "end_time": "2022-09-19T19:39:16.873468",
     "exception": false,
     "start_time": "2022-09-19T19:39:16.826118",
     "status": "completed"
    },
    "tags": []
   },
   "source": [
    "### np.vstack():\n",
    "- Stack arrays in sequence vertically (row wise).\n",
    "- **Syntax** <H4>numpy.vstack(tup)</H4>\n"
   ]
  },
  {
   "cell_type": "code",
   "execution_count": 94,
   "id": "6f7af3a1",
   "metadata": {
    "execution": {
     "iopub.execute_input": "2022-09-19T19:39:16.968361Z",
     "iopub.status.busy": "2022-09-19T19:39:16.967701Z",
     "iopub.status.idle": "2022-09-19T19:39:16.974649Z",
     "shell.execute_reply": "2022-09-19T19:39:16.973215Z"
    },
    "papermill": {
     "duration": 0.056804,
     "end_time": "2022-09-19T19:39:16.976836",
     "exception": false,
     "start_time": "2022-09-19T19:39:16.920032",
     "status": "completed"
    },
    "tags": []
   },
   "outputs": [
    {
     "name": "stdout",
     "output_type": "stream",
     "text": [
      "Joing array by:\n",
      " [[ 1  2  3  4]\n",
      " [ 5  6  7  8]\n",
      " [ 9 10 11 12]\n",
      " [13 14 15 16]\n",
      " [17 18 19 20]\n",
      " [21 22 23 24]\n",
      " [25 26 27 28]\n",
      " [29 30 31 32]] \n",
      "\n",
      "Dimention of array: 2\n"
     ]
    }
   ],
   "source": [
    "print(\"Joing array by:\\n\",np.vstack((sample,sample1)),\"\\n\\nDimention of array:\",np.vstack((sample,sample1)).ndim)"
   ]
  },
  {
   "cell_type": "code",
   "execution_count": 95,
   "id": "1168b741",
   "metadata": {
    "execution": {
     "iopub.execute_input": "2022-09-19T19:39:17.072137Z",
     "iopub.status.busy": "2022-09-19T19:39:17.071759Z",
     "iopub.status.idle": "2022-09-19T19:39:17.078349Z",
     "shell.execute_reply": "2022-09-19T19:39:17.077316Z"
    },
    "papermill": {
     "duration": 0.057675,
     "end_time": "2022-09-19T19:39:17.081395",
     "exception": false,
     "start_time": "2022-09-19T19:39:17.023720",
     "status": "completed"
    },
    "tags": []
   },
   "outputs": [
    {
     "name": "stdout",
     "output_type": "stream",
     "text": [
      "Sample 3-D:\n",
      " [[[ 1  2  3]\n",
      "  [ 4  5  6]\n",
      "  [ 7  8  9]]\n",
      "\n",
      " [[10 11 12]\n",
      "  [13 14 15]\n",
      "  [16 17 18]]\n",
      "\n",
      " [[19 20 21]\n",
      "  [22 23 24]\n",
      "  [25 26 27]]]\n",
      "\n",
      "Sample 2 3-D:\n",
      " [[[28 29 30]\n",
      "  [31 32 33]\n",
      "  [34 35 36]]\n",
      "\n",
      " [[37 38 39]\n",
      "  [40 41 42]\n",
      "  [43 44 45]]\n",
      "\n",
      " [[46 47 48]\n",
      "  [49 50 51]\n",
      "  [52 53 54]]]\n"
     ]
    }
   ],
   "source": [
    "d31=np.arange(1,28).reshape(3,3,3)\n",
    "d32=np.arange(28,55).reshape(3,3,3)\n",
    "print(\"Sample 3-D:\\n\",d31)\n",
    "print()\n",
    "print(\"Sample 2 3-D:\\n\",d32)\n",
    "\n"
   ]
  },
  {
   "cell_type": "code",
   "execution_count": 96,
   "id": "b7a5c911",
   "metadata": {
    "execution": {
     "iopub.execute_input": "2022-09-19T19:39:17.178410Z",
     "iopub.status.busy": "2022-09-19T19:39:17.177754Z",
     "iopub.status.idle": "2022-09-19T19:39:17.183359Z",
     "shell.execute_reply": "2022-09-19T19:39:17.182638Z"
    },
    "papermill": {
     "duration": 0.056451,
     "end_time": "2022-09-19T19:39:17.185924",
     "exception": false,
     "start_time": "2022-09-19T19:39:17.129473",
     "status": "completed"
    },
    "tags": []
   },
   "outputs": [
    {
     "name": "stdout",
     "output_type": "stream",
     "text": [
      "Joing array by:\n",
      " [[[ 1  2  3]\n",
      "  [ 4  5  6]\n",
      "  [ 7  8  9]]\n",
      "\n",
      " [[10 11 12]\n",
      "  [13 14 15]\n",
      "  [16 17 18]]\n",
      "\n",
      " [[19 20 21]\n",
      "  [22 23 24]\n",
      "  [25 26 27]]\n",
      "\n",
      " [[28 29 30]\n",
      "  [31 32 33]\n",
      "  [34 35 36]]\n",
      "\n",
      " [[37 38 39]\n",
      "  [40 41 42]\n",
      "  [43 44 45]]\n",
      "\n",
      " [[46 47 48]\n",
      "  [49 50 51]\n",
      "  [52 53 54]]] \n",
      "\n",
      "Dimention of array: 3\n"
     ]
    }
   ],
   "source": [
    "print(\"Joing array by:\\n\",np.vstack((d31,d32)),\"\\n\\nDimention of array:\",np.vstack((d31,d32)).ndim)"
   ]
  },
  {
   "cell_type": "markdown",
   "id": "0003bd76",
   "metadata": {
    "papermill": {
     "duration": 0.046745,
     "end_time": "2022-09-19T19:39:17.279626",
     "exception": false,
     "start_time": "2022-09-19T19:39:17.232881",
     "status": "completed"
    },
    "tags": []
   },
   "source": [
    "### np.hstack():\n",
    "- Stack arrays in sequence horizontally (column wise).\n",
    "- **Syntax** <H4>numpy.hstack(tup)[source]</H4>\n"
   ]
  },
  {
   "cell_type": "code",
   "execution_count": 97,
   "id": "24e104ac",
   "metadata": {
    "execution": {
     "iopub.execute_input": "2022-09-19T19:39:17.380176Z",
     "iopub.status.busy": "2022-09-19T19:39:17.379044Z",
     "iopub.status.idle": "2022-09-19T19:39:17.385915Z",
     "shell.execute_reply": "2022-09-19T19:39:17.384675Z"
    },
    "papermill": {
     "duration": 0.058248,
     "end_time": "2022-09-19T19:39:17.388641",
     "exception": false,
     "start_time": "2022-09-19T19:39:17.330393",
     "status": "completed"
    },
    "tags": []
   },
   "outputs": [
    {
     "name": "stdout",
     "output_type": "stream",
     "text": [
      "Joing array by:\n",
      " [[ 1  2  3  4 17 18 19 20]\n",
      " [ 5  6  7  8 21 22 23 24]\n",
      " [ 9 10 11 12 25 26 27 28]\n",
      " [13 14 15 16 29 30 31 32]] \n",
      "\n",
      "Dimention of array: 2\n"
     ]
    }
   ],
   "source": [
    "print(\"Joing array by:\\n\",np.hstack((sample,sample1)),\"\\n\\nDimention of array:\",np.hstack((sample,sample1)).ndim)"
   ]
  },
  {
   "cell_type": "code",
   "execution_count": 98,
   "id": "a470fa41",
   "metadata": {
    "execution": {
     "iopub.execute_input": "2022-09-19T19:39:17.486563Z",
     "iopub.status.busy": "2022-09-19T19:39:17.486151Z",
     "iopub.status.idle": "2022-09-19T19:39:17.492402Z",
     "shell.execute_reply": "2022-09-19T19:39:17.491390Z"
    },
    "papermill": {
     "duration": 0.058008,
     "end_time": "2022-09-19T19:39:17.495346",
     "exception": false,
     "start_time": "2022-09-19T19:39:17.437338",
     "status": "completed"
    },
    "tags": []
   },
   "outputs": [
    {
     "name": "stdout",
     "output_type": "stream",
     "text": [
      "Joing array by:\n",
      " [[[ 1  2  3]\n",
      "  [ 4  5  6]\n",
      "  [ 7  8  9]\n",
      "  [28 29 30]\n",
      "  [31 32 33]\n",
      "  [34 35 36]]\n",
      "\n",
      " [[10 11 12]\n",
      "  [13 14 15]\n",
      "  [16 17 18]\n",
      "  [37 38 39]\n",
      "  [40 41 42]\n",
      "  [43 44 45]]\n",
      "\n",
      " [[19 20 21]\n",
      "  [22 23 24]\n",
      "  [25 26 27]\n",
      "  [46 47 48]\n",
      "  [49 50 51]\n",
      "  [52 53 54]]] \n",
      "\n",
      "Dimention of array: 3\n"
     ]
    }
   ],
   "source": [
    "print(\"Joing array by:\\n\",np.hstack((d31,d32)),\"\\n\\nDimention of array:\",np.hstack((d31,d32)).ndim)"
   ]
  },
  {
   "cell_type": "markdown",
   "id": "4c16837a",
   "metadata": {
    "papermill": {
     "duration": 0.048838,
     "end_time": "2022-09-19T19:39:17.593543",
     "exception": false,
     "start_time": "2022-09-19T19:39:17.544705",
     "status": "completed"
    },
    "tags": []
   },
   "source": [
    "### np.dstack():\n",
    "- Stack arrays in sequence depth wise (along third axis).\n",
    "- **Syntax** <h4>numpy.dstack(tup)[source]</h4>"
   ]
  },
  {
   "cell_type": "code",
   "execution_count": 99,
   "id": "a185ee23",
   "metadata": {
    "execution": {
     "iopub.execute_input": "2022-09-19T19:39:17.690380Z",
     "iopub.status.busy": "2022-09-19T19:39:17.689899Z",
     "iopub.status.idle": "2022-09-19T19:39:17.696585Z",
     "shell.execute_reply": "2022-09-19T19:39:17.695132Z"
    },
    "papermill": {
     "duration": 0.057909,
     "end_time": "2022-09-19T19:39:17.699192",
     "exception": false,
     "start_time": "2022-09-19T19:39:17.641283",
     "status": "completed"
    },
    "tags": []
   },
   "outputs": [
    {
     "name": "stdout",
     "output_type": "stream",
     "text": [
      "Joing array by:\n",
      " [[[ 1 17]\n",
      "  [ 2 18]\n",
      "  [ 3 19]\n",
      "  [ 4 20]]\n",
      "\n",
      " [[ 5 21]\n",
      "  [ 6 22]\n",
      "  [ 7 23]\n",
      "  [ 8 24]]\n",
      "\n",
      " [[ 9 25]\n",
      "  [10 26]\n",
      "  [11 27]\n",
      "  [12 28]]\n",
      "\n",
      " [[13 29]\n",
      "  [14 30]\n",
      "  [15 31]\n",
      "  [16 32]]] \n",
      "\n",
      "Dimention of array: 3\n"
     ]
    }
   ],
   "source": [
    "print(\"Joing array by:\\n\",np.dstack((sample,sample1)),\"\\n\\nDimention of array:\",np.dstack((sample,sample1)).ndim)"
   ]
  },
  {
   "cell_type": "code",
   "execution_count": 100,
   "id": "15e84c33",
   "metadata": {
    "execution": {
     "iopub.execute_input": "2022-09-19T19:39:17.794736Z",
     "iopub.status.busy": "2022-09-19T19:39:17.794363Z",
     "iopub.status.idle": "2022-09-19T19:39:17.800954Z",
     "shell.execute_reply": "2022-09-19T19:39:17.799930Z"
    },
    "papermill": {
     "duration": 0.057064,
     "end_time": "2022-09-19T19:39:17.803489",
     "exception": false,
     "start_time": "2022-09-19T19:39:17.746425",
     "status": "completed"
    },
    "tags": []
   },
   "outputs": [
    {
     "name": "stdout",
     "output_type": "stream",
     "text": [
      "Joing array by:\n",
      " [[[ 1  2  3 28 29 30]\n",
      "  [ 4  5  6 31 32 33]\n",
      "  [ 7  8  9 34 35 36]]\n",
      "\n",
      " [[10 11 12 37 38 39]\n",
      "  [13 14 15 40 41 42]\n",
      "  [16 17 18 43 44 45]]\n",
      "\n",
      " [[19 20 21 46 47 48]\n",
      "  [22 23 24 49 50 51]\n",
      "  [25 26 27 52 53 54]]] \n",
      "\n",
      "Dimention of array: 3\n"
     ]
    }
   ],
   "source": [
    "print(\"Joing array by:\\n\",np.dstack((d31,d32)),\"\\n\\nDimention of array:\",np.dstack((d31,d32)).ndim)"
   ]
  },
  {
   "cell_type": "markdown",
   "id": "e2676a3b",
   "metadata": {
    "papermill": {
     "duration": 0.046888,
     "end_time": "2022-09-19T19:39:17.898481",
     "exception": false,
     "start_time": "2022-09-19T19:39:17.851593",
     "status": "completed"
    },
    "tags": []
   },
   "source": [
    "## 3.Spliting of array:\n",
    "### np.split():\n",
    "- Split an array into multiple sub-arrays as views into ary.\n",
    "- **Syntax** <h4>numpy.split(ary, indices_or_sections, axis=0)[source]</h4>\n",
    "\n",
    "    - **array_split**\n",
    "    \n",
    "    Split an array into multiple sub-arrays of equal or near-equal size. Does not raise an exception if an equal division cannot be made.\n",
    "    - **hsplit**\n",
    "    \n",
    "    Split array into multiple sub-arrays horizontally (column-wise).\n",
    "    - **vsplit**\n",
    "    \n",
    "    Split array into multiple sub-arrays vertically (row wise).\n",
    "    - **dsplit**\n",
    "    \n",
    "    Split array into multiple sub-arrays along the 3rd axis (depth).\n"
   ]
  },
  {
   "cell_type": "code",
   "execution_count": 101,
   "id": "3efcbd4c",
   "metadata": {
    "execution": {
     "iopub.execute_input": "2022-09-19T19:39:17.994824Z",
     "iopub.status.busy": "2022-09-19T19:39:17.994029Z",
     "iopub.status.idle": "2022-09-19T19:39:18.001511Z",
     "shell.execute_reply": "2022-09-19T19:39:17.999894Z"
    },
    "papermill": {
     "duration": 0.058504,
     "end_time": "2022-09-19T19:39:18.003995",
     "exception": false,
     "start_time": "2022-09-19T19:39:17.945491",
     "status": "completed"
    },
    "tags": []
   },
   "outputs": [
    {
     "name": "stdout",
     "output_type": "stream",
     "text": [
      "Spliting the array:\n",
      " [array([[[1, 2, 3],\n",
      "        [4, 5, 6],\n",
      "        [7, 8, 9]]]), array([[[10, 11, 12],\n",
      "        [13, 14, 15],\n",
      "        [16, 17, 18]]]), array([[[19, 20, 21],\n",
      "        [22, 23, 24],\n",
      "        [25, 26, 27]]])]\n",
      "Type of array after sliting: <class 'list'>\n"
     ]
    }
   ],
   "source": [
    "print(\"Spliting the array:\\n\",np.split(d31,3))\n",
    "print(\"Type of array after sliting:\",type(np.split(d31,3)))"
   ]
  },
  {
   "cell_type": "code",
   "execution_count": 102,
   "id": "45ec07ed",
   "metadata": {
    "execution": {
     "iopub.execute_input": "2022-09-19T19:39:18.100916Z",
     "iopub.status.busy": "2022-09-19T19:39:18.100541Z",
     "iopub.status.idle": "2022-09-19T19:39:18.106476Z",
     "shell.execute_reply": "2022-09-19T19:39:18.105451Z"
    },
    "papermill": {
     "duration": 0.056936,
     "end_time": "2022-09-19T19:39:18.108691",
     "exception": false,
     "start_time": "2022-09-19T19:39:18.051755",
     "status": "completed"
    },
    "tags": []
   },
   "outputs": [
    {
     "name": "stdout",
     "output_type": "stream",
     "text": [
      "Spliting the array:\n",
      " [array([[1, 2, 3, 4],\n",
      "       [5, 6, 7, 8]]), array([[ 9, 10, 11, 12],\n",
      "       [13, 14, 15, 16]])]\n",
      "Type of array after sliting: <class 'list'>\n"
     ]
    }
   ],
   "source": [
    "print(\"Spliting the array:\\n\",np.split(sample,2))\n",
    "print(\"Type of array after sliting:\",type(np.split(sample,2)))"
   ]
  },
  {
   "cell_type": "code",
   "execution_count": 103,
   "id": "e8321bea",
   "metadata": {
    "execution": {
     "iopub.execute_input": "2022-09-19T19:39:18.205667Z",
     "iopub.status.busy": "2022-09-19T19:39:18.204738Z",
     "iopub.status.idle": "2022-09-19T19:39:18.211098Z",
     "shell.execute_reply": "2022-09-19T19:39:18.210064Z"
    },
    "papermill": {
     "duration": 0.05857,
     "end_time": "2022-09-19T19:39:18.214665",
     "exception": false,
     "start_time": "2022-09-19T19:39:18.156095",
     "status": "completed"
    },
    "tags": []
   },
   "outputs": [
    {
     "name": "stdout",
     "output_type": "stream",
     "text": [
      "Spliting the array and value at 0:\n",
      " [[1 2 3 4]\n",
      " [5 6 7 8]]\n",
      "Spliting the array and value at 1:\n",
      " [[ 9 10 11 12]\n",
      " [13 14 15 16]]\n"
     ]
    }
   ],
   "source": [
    "list1=np.split(sample,2)\n",
    "print(\"Spliting the array and value at 0:\\n\",list1[0])\n",
    "print(\"Spliting the array and value at 1:\\n\",list1[1])"
   ]
  },
  {
   "cell_type": "code",
   "execution_count": 104,
   "id": "f9a1a098",
   "metadata": {
    "execution": {
     "iopub.execute_input": "2022-09-19T19:39:18.313341Z",
     "iopub.status.busy": "2022-09-19T19:39:18.312916Z",
     "iopub.status.idle": "2022-09-19T19:39:18.319144Z",
     "shell.execute_reply": "2022-09-19T19:39:18.318429Z"
    },
    "papermill": {
     "duration": 0.058007,
     "end_time": "2022-09-19T19:39:18.321705",
     "exception": false,
     "start_time": "2022-09-19T19:39:18.263698",
     "status": "completed"
    },
    "tags": []
   },
   "outputs": [
    {
     "name": "stdout",
     "output_type": "stream",
     "text": [
      "Spliting the array and value at 0:\n",
      " [[[1 2 3]\n",
      "  [4 5 6]\n",
      "  [7 8 9]]]\n",
      "Spliting the array and value at 1:\n",
      " [[[10 11 12]\n",
      "  [13 14 15]\n",
      "  [16 17 18]]]\n",
      "Spliting the array and value at 2:\n",
      " [[[19 20 21]\n",
      "  [22 23 24]\n",
      "  [25 26 27]]]\n"
     ]
    }
   ],
   "source": [
    "list1=np.split(d31,3)\n",
    "print(\"Spliting the array and value at 0:\\n\",list1[0])\n",
    "print(\"Spliting the array and value at 1:\\n\",list1[1])\n",
    "print(\"Spliting the array and value at 2:\\n\",list1[2])"
   ]
  },
  {
   "cell_type": "markdown",
   "id": "0b092eb9",
   "metadata": {
    "papermill": {
     "duration": 0.047408,
     "end_time": "2022-09-19T19:39:18.416666",
     "exception": false,
     "start_time": "2022-09-19T19:39:18.369258",
     "status": "completed"
    },
    "tags": []
   },
   "source": [
    "### np.array_split():\n",
    "- Split an array into multiple sub-arrays.\n",
    "- **Syntax** <h4>numpy.array_split(ary, indices_or_sections, axis=0)</h4>"
   ]
  },
  {
   "cell_type": "code",
   "execution_count": 105,
   "id": "a5d8ca2a",
   "metadata": {
    "execution": {
     "iopub.execute_input": "2022-09-19T19:39:18.513920Z",
     "iopub.status.busy": "2022-09-19T19:39:18.513550Z",
     "iopub.status.idle": "2022-09-19T19:39:18.519982Z",
     "shell.execute_reply": "2022-09-19T19:39:18.518942Z"
    },
    "papermill": {
     "duration": 0.058203,
     "end_time": "2022-09-19T19:39:18.522662",
     "exception": false,
     "start_time": "2022-09-19T19:39:18.464459",
     "status": "completed"
    },
    "tags": []
   },
   "outputs": [
    {
     "name": "stdout",
     "output_type": "stream",
     "text": [
      "Spliting the array and value at 0:\n",
      " [[[1 2 3]\n",
      "  [4 5 6]\n",
      "  [7 8 9]]]\n",
      "Spliting the array and value at 1:\n",
      " [[[10 11 12]\n",
      "  [13 14 15]\n",
      "  [16 17 18]]]\n",
      "Spliting the array and value at 2:\n",
      " [[[19 20 21]\n",
      "  [22 23 24]\n",
      "  [25 26 27]]]\n"
     ]
    }
   ],
   "source": [
    "list1=np.array_split(d31,3)\n",
    "print(\"Spliting the array and value at 0:\\n\",list1[0])\n",
    "print(\"Spliting the array and value at 1:\\n\",list1[1])\n",
    "print(\"Spliting the array and value at 2:\\n\",list1[2])"
   ]
  },
  {
   "cell_type": "code",
   "execution_count": 106,
   "id": "4c543d8e",
   "metadata": {
    "execution": {
     "iopub.execute_input": "2022-09-19T19:39:18.621079Z",
     "iopub.status.busy": "2022-09-19T19:39:18.620676Z",
     "iopub.status.idle": "2022-09-19T19:39:18.627806Z",
     "shell.execute_reply": "2022-09-19T19:39:18.626415Z"
    },
    "papermill": {
     "duration": 0.058811,
     "end_time": "2022-09-19T19:39:18.629776",
     "exception": false,
     "start_time": "2022-09-19T19:39:18.570965",
     "status": "completed"
    },
    "tags": []
   },
   "outputs": [
    {
     "name": "stdout",
     "output_type": "stream",
     "text": [
      "[array([[[ 1,  2,  3]],\n",
      "\n",
      "       [[10, 11, 12]],\n",
      "\n",
      "       [[19, 20, 21]]]), array([[[ 4,  5,  6]],\n",
      "\n",
      "       [[13, 14, 15]],\n",
      "\n",
      "       [[22, 23, 24]]]), array([[[ 7,  8,  9]],\n",
      "\n",
      "       [[16, 17, 18]],\n",
      "\n",
      "       [[25, 26, 27]]])]\n",
      "\n",
      "Spliting the array and value at 0:\n",
      " [[[ 1  2  3]]\n",
      "\n",
      " [[10 11 12]]\n",
      "\n",
      " [[19 20 21]]]\n",
      "Spliting the array and value at 1:\n",
      " [[[ 4  5  6]]\n",
      "\n",
      " [[13 14 15]]\n",
      "\n",
      " [[22 23 24]]]\n",
      "Spliting the array and value at 2:\n",
      " [[[ 7  8  9]]\n",
      "\n",
      " [[16 17 18]]\n",
      "\n",
      " [[25 26 27]]]\n"
     ]
    }
   ],
   "source": [
    "list1=np.array_split(d31,3,axis=1)\n",
    "print(list1)\n",
    "print(\"\\nSpliting the array and value at 0:\\n\",list1[0])\n",
    "print(\"Spliting the array and value at 1:\\n\",list1[1])\n",
    "print(\"Spliting the array and value at 2:\\n\",list1[2])"
   ]
  },
  {
   "cell_type": "code",
   "execution_count": 107,
   "id": "8587136e",
   "metadata": {
    "execution": {
     "iopub.execute_input": "2022-09-19T19:39:18.728249Z",
     "iopub.status.busy": "2022-09-19T19:39:18.727834Z",
     "iopub.status.idle": "2022-09-19T19:39:18.735601Z",
     "shell.execute_reply": "2022-09-19T19:39:18.734539Z"
    },
    "papermill": {
     "duration": 0.059496,
     "end_time": "2022-09-19T19:39:18.738921",
     "exception": false,
     "start_time": "2022-09-19T19:39:18.679425",
     "status": "completed"
    },
    "tags": []
   },
   "outputs": [
    {
     "name": "stdout",
     "output_type": "stream",
     "text": [
      "[array([[[ 1],\n",
      "        [ 4],\n",
      "        [ 7]],\n",
      "\n",
      "       [[10],\n",
      "        [13],\n",
      "        [16]],\n",
      "\n",
      "       [[19],\n",
      "        [22],\n",
      "        [25]]]), array([[[ 2],\n",
      "        [ 5],\n",
      "        [ 8]],\n",
      "\n",
      "       [[11],\n",
      "        [14],\n",
      "        [17]],\n",
      "\n",
      "       [[20],\n",
      "        [23],\n",
      "        [26]]]), array([[[ 3],\n",
      "        [ 6],\n",
      "        [ 9]],\n",
      "\n",
      "       [[12],\n",
      "        [15],\n",
      "        [18]],\n",
      "\n",
      "       [[21],\n",
      "        [24],\n",
      "        [27]]])]\n",
      "\n",
      "Spliting the array and value at 0:\n",
      " [[[ 1]\n",
      "  [ 4]\n",
      "  [ 7]]\n",
      "\n",
      " [[10]\n",
      "  [13]\n",
      "  [16]]\n",
      "\n",
      " [[19]\n",
      "  [22]\n",
      "  [25]]] <class 'numpy.ndarray'>\n",
      "\n",
      "Spliting the array and value at 1:\n",
      " [[[ 2]\n",
      "  [ 5]\n",
      "  [ 8]]\n",
      "\n",
      " [[11]\n",
      "  [14]\n",
      "  [17]]\n",
      "\n",
      " [[20]\n",
      "  [23]\n",
      "  [26]]]\n",
      "\n",
      "Spliting the array and value at 2:\n",
      " [[[ 3]\n",
      "  [ 6]\n",
      "  [ 9]]\n",
      "\n",
      " [[12]\n",
      "  [15]\n",
      "  [18]]\n",
      "\n",
      " [[21]\n",
      "  [24]\n",
      "  [27]]]\n"
     ]
    }
   ],
   "source": [
    "list1=np.array_split(d31,3,axis=2)\n",
    "print(list1)\n",
    "print(\"\\nSpliting the array and value at 0:\\n\",list1[0],type(list1[0]))\n",
    "print(\"\\nSpliting the array and value at 1:\\n\",list1[1])\n",
    "print(\"\\nSpliting the array and value at 2:\\n\",list1[2])"
   ]
  },
  {
   "cell_type": "markdown",
   "id": "dd7ea0b7",
   "metadata": {
    "execution": {
     "iopub.execute_input": "2022-09-19T12:47:38.354380Z",
     "iopub.status.busy": "2022-09-19T12:47:38.353964Z",
     "iopub.status.idle": "2022-09-19T12:47:38.361949Z",
     "shell.execute_reply": "2022-09-19T12:47:38.360446Z",
     "shell.execute_reply.started": "2022-09-19T12:47:38.354343Z"
    },
    "papermill": {
     "duration": 0.047797,
     "end_time": "2022-09-19T19:39:18.835242",
     "exception": false,
     "start_time": "2022-09-19T19:39:18.787445",
     "status": "completed"
    },
    "tags": []
   },
   "source": [
    "### np.vsplit()\n",
    "### np.hsplit()\n",
    "### np.dsplit()\n",
    "refer stack Practise"
   ]
  },
  {
   "cell_type": "code",
   "execution_count": 108,
   "id": "ca155b5c",
   "metadata": {
    "execution": {
     "iopub.execute_input": "2022-09-19T19:39:18.933191Z",
     "iopub.status.busy": "2022-09-19T19:39:18.932804Z",
     "iopub.status.idle": "2022-09-19T19:39:18.939684Z",
     "shell.execute_reply": "2022-09-19T19:39:18.938640Z"
    },
    "papermill": {
     "duration": 0.059192,
     "end_time": "2022-09-19T19:39:18.942782",
     "exception": false,
     "start_time": "2022-09-19T19:39:18.883590",
     "status": "completed"
    },
    "tags": []
   },
   "outputs": [
    {
     "name": "stdout",
     "output_type": "stream",
     "text": [
      "[array([1, 2]), array([3, 4, 5]), array([6, 7, 8]), array([9, 0])]\n"
     ]
    }
   ],
   "source": [
    "d1=np.array([1,2,3,4,5,6,7,8,9,0])\n",
    "print(np.split(d1,[2,5,8]))  #first 0to 1index ,after 2,3,4 index & then 5,6,7 and when not give any value it will asign last "
   ]
  },
  {
   "cell_type": "markdown",
   "id": "f321693e",
   "metadata": {
    "papermill": {
     "duration": 0.047908,
     "end_time": "2022-09-19T19:39:19.040048",
     "exception": false,
     "start_time": "2022-09-19T19:39:18.992140",
     "status": "completed"
    },
    "tags": []
   },
   "source": [
    "# NumPy Trignometry Function:"
   ]
  },
  {
   "cell_type": "code",
   "execution_count": 109,
   "id": "78ccd082",
   "metadata": {
    "execution": {
     "iopub.execute_input": "2022-09-19T19:39:19.137795Z",
     "iopub.status.busy": "2022-09-19T19:39:19.137420Z",
     "iopub.status.idle": "2022-09-19T19:39:19.141973Z",
     "shell.execute_reply": "2022-09-19T19:39:19.140917Z"
    },
    "papermill": {
     "duration": 0.056149,
     "end_time": "2022-09-19T19:39:19.144311",
     "exception": false,
     "start_time": "2022-09-19T19:39:19.088162",
     "status": "completed"
    },
    "tags": []
   },
   "outputs": [],
   "source": [
    "import matplotlib.pyplot as plt"
   ]
  },
  {
   "cell_type": "code",
   "execution_count": 110,
   "id": "2168ac1b",
   "metadata": {
    "execution": {
     "iopub.execute_input": "2022-09-19T19:39:19.241789Z",
     "iopub.status.busy": "2022-09-19T19:39:19.241413Z",
     "iopub.status.idle": "2022-09-19T19:39:19.249715Z",
     "shell.execute_reply": "2022-09-19T19:39:19.248574Z"
    },
    "papermill": {
     "duration": 0.059813,
     "end_time": "2022-09-19T19:39:19.252238",
     "exception": false,
     "start_time": "2022-09-19T19:39:19.192425",
     "status": "completed"
    },
    "tags": []
   },
   "outputs": [
    {
     "data": {
      "text/plain": [
       "1.0"
      ]
     },
     "execution_count": 110,
     "metadata": {},
     "output_type": "execute_result"
    }
   ],
   "source": [
    "np.sin((np.pi/2))   #pi / 2 = 90"
   ]
  },
  {
   "cell_type": "code",
   "execution_count": 111,
   "id": "88f16e19",
   "metadata": {
    "execution": {
     "iopub.execute_input": "2022-09-19T19:39:19.350094Z",
     "iopub.status.busy": "2022-09-19T19:39:19.349716Z",
     "iopub.status.idle": "2022-09-19T19:39:19.514364Z",
     "shell.execute_reply": "2022-09-19T19:39:19.513265Z"
    },
    "papermill": {
     "duration": 0.216251,
     "end_time": "2022-09-19T19:39:19.516740",
     "exception": false,
     "start_time": "2022-09-19T19:39:19.300489",
     "status": "completed"
    },
    "tags": []
   },
   "outputs": [
    {
     "data": {
      "text/plain": [
       "[<matplotlib.lines.Line2D at 0x7f6f14fe6f50>]"
      ]
     },
     "execution_count": 111,
     "metadata": {},
     "output_type": "execute_result"
    },
    {
     "data": {
      "image/png": "[encoded data removed]",
      "text/plain": [
       "<Figure size 432x288 with 1 Axes>"
      ]
     },
     "metadata": {
      "needs_background": "light"
     },
     "output_type": "display_data"
    }
   ],
   "source": [
    "x=np.linspace(-2*np.pi,2*np.pi,100)\n",
    "y_sin=np.sin(x)\n",
    "plt.plot(x,y_sin)"
   ]
  },
  {
   "cell_type": "code",
   "execution_count": 112,
   "id": "d986472d",
   "metadata": {
    "execution": {
     "iopub.execute_input": "2022-09-19T19:39:19.616513Z",
     "iopub.status.busy": "2022-09-19T19:39:19.616107Z",
     "iopub.status.idle": "2022-09-19T19:39:19.769889Z",
     "shell.execute_reply": "2022-09-19T19:39:19.768793Z"
    },
    "papermill": {
     "duration": 0.206296,
     "end_time": "2022-09-19T19:39:19.772206",
     "exception": false,
     "start_time": "2022-09-19T19:39:19.565910",
     "status": "completed"
    },
    "tags": []
   },
   "outputs": [
    {
     "data": {
      "text/plain": [
       "[<matplotlib.lines.Line2D at 0x7f6f14f28110>]"
      ]
     },
     "execution_count": 112,
     "metadata": {},
     "output_type": "execute_result"
    },
    {
     "data": {
      "image/png": "[encoded data removed]",
      "text/plain": [
       "<Figure size 432x288 with 1 Axes>"
      ]
     },
     "metadata": {
      "needs_background": "light"
     },
     "output_type": "display_data"
    }
   ],
   "source": [
    "y_cos=np.cos(x)\n",
    "plt.plot(x,y_cos)"
   ]
  },
  {
   "cell_type": "code",
   "execution_count": 113,
   "id": "276f39a2",
   "metadata": {
    "execution": {
     "iopub.execute_input": "2022-09-19T19:39:19.940519Z",
     "iopub.status.busy": "2022-09-19T19:39:19.939681Z",
     "iopub.status.idle": "2022-09-19T19:39:20.111353Z",
     "shell.execute_reply": "2022-09-19T19:39:20.110079Z"
    },
    "papermill": {
     "duration": 0.292034,
     "end_time": "2022-09-19T19:39:20.113770",
     "exception": false,
     "start_time": "2022-09-19T19:39:19.821736",
     "status": "completed"
    },
    "tags": []
   },
   "outputs": [
    {
     "data": {
      "image/png": "[encoded data removed]",
      "text/plain": [
       "<Figure size 432x288 with 1 Axes>"
      ]
     },
     "metadata": {
      "needs_background": "light"
     },
     "output_type": "display_data"
    }
   ],
   "source": [
    "x=np.linspace(-2*np.pi,2*np.pi,100)\n",
    "y=np.sin(x)\n",
    "h=np.cos(x)\n",
    "\n",
    "plt.plot(x,y,x,h)\n",
    "plt.title('Plot of sin and cos from 0 to 4pi')\n",
    "plt.ylabel(\"Sin(c) and Cos(c)\")\n",
    "plt.xlabel(\"x value from -2pi to 2pi\")\n",
    "plt.legend([\"Sin(c)\",\"Cos(c)\"])\n",
    "plt.show()"
   ]
  },
  {
   "cell_type": "code",
   "execution_count": 114,
   "id": "da3cf951",
   "metadata": {
    "execution": {
     "iopub.execute_input": "2022-09-19T19:39:20.215091Z",
     "iopub.status.busy": "2022-09-19T19:39:20.214677Z",
     "iopub.status.idle": "2022-09-19T19:39:20.356690Z",
     "shell.execute_reply": "2022-09-19T19:39:20.355850Z"
    },
    "papermill": {
     "duration": 0.195226,
     "end_time": "2022-09-19T19:39:20.358972",
     "exception": false,
     "start_time": "2022-09-19T19:39:20.163746",
     "status": "completed"
    },
    "tags": []
   },
   "outputs": [
    {
     "data": {
      "text/plain": [
       "[<matplotlib.lines.Line2D at 0x7f6f01137c90>]"
      ]
     },
     "execution_count": 114,
     "metadata": {},
     "output_type": "execute_result"
    },
    {
     "data": {
      "image/png": "[encoded data removed]",
      "text/plain": [
       "<Figure size 432x288 with 1 Axes>"
      ]
     },
     "metadata": {
      "needs_background": "light"
     },
     "output_type": "display_data"
    }
   ],
   "source": [
    "y_tan=np.tan(x)\n",
    "plt.plot(x,y_tan)"
   ]
  },
  {
   "cell_type": "markdown",
   "id": "d240e5e6",
   "metadata": {
    "papermill": {
     "duration": 0.049817,
     "end_time": "2022-09-19T19:39:20.459260",
     "exception": false,
     "start_time": "2022-09-19T19:39:20.409443",
     "status": "completed"
    },
    "tags": []
   },
   "source": [
    "# Random Sampling with NumPy:\n",
    "## Working with numpy.random.randint\n",
    "- Return random integers from low (inclusive) to high (exclusive).\n",
    "- **Syntex:** <H3>random.randint(low, high=None, size=None, dtype=int)</H3>\n",
    "\n",
    "- Return random integers from the “discrete uniform” distribution of the specified dtype in the “half-open” interval [low, high). If high is None (the default), then results are from [0, low)"
   ]
  },
  {
   "cell_type": "code",
   "execution_count": 115,
   "id": "541f81a4",
   "metadata": {
    "execution": {
     "iopub.execute_input": "2022-09-19T19:39:20.561579Z",
     "iopub.status.busy": "2022-09-19T19:39:20.560787Z",
     "iopub.status.idle": "2022-09-19T19:39:20.567835Z",
     "shell.execute_reply": "2022-09-19T19:39:20.566402Z"
    },
    "papermill": {
     "duration": 0.061734,
     "end_time": "2022-09-19T19:39:20.571050",
     "exception": false,
     "start_time": "2022-09-19T19:39:20.509316",
     "status": "completed"
    },
    "tags": []
   },
   "outputs": [
    {
     "name": "stdout",
     "output_type": "stream",
     "text": [
      "[[ 8 43 41 45]\n",
      " [13 43 48 30]\n",
      " [20 38 11  9]\n",
      " [37 32 17 29]\n",
      " [47 20 47 18]\n",
      " [ 8 19 34 42]\n",
      " [22 23 17 21]\n",
      " [46  6 49 23]]\n"
     ]
    }
   ],
   "source": [
    "sample=np.random.randint(0,50,(8,4)) #(size of array)\n",
    "print(sample)"
   ]
  },
  {
   "cell_type": "code",
   "execution_count": 116,
   "id": "9f754749",
   "metadata": {
    "execution": {
     "iopub.execute_input": "2022-09-19T19:39:20.675449Z",
     "iopub.status.busy": "2022-09-19T19:39:20.674751Z",
     "iopub.status.idle": "2022-09-19T19:39:20.680986Z",
     "shell.execute_reply": "2022-09-19T19:39:20.679682Z"
    },
    "papermill": {
     "duration": 0.0614,
     "end_time": "2022-09-19T19:39:20.683413",
     "exception": false,
     "start_time": "2022-09-19T19:39:20.622013",
     "status": "completed"
    },
    "tags": []
   },
   "outputs": [
    {
     "name": "stdout",
     "output_type": "stream",
     "text": [
      "[[ 5 39 44 44]\n",
      " [15 20 27 22]\n",
      " [18 41 15 48]\n",
      " [31  1 26  3]\n",
      " [28 34 43 32]\n",
      " [43 31 13 31]\n",
      " [16 39 22 13]\n",
      " [42 26 39 10]] \n",
      "\n",
      "Data type of sample: int8\n"
     ]
    }
   ],
   "source": [
    "sample=np.random.randint(0,50,(8,4),dtype=np.int8) #(size of array)\n",
    "print(sample,\"\\n\\nData type of sample:\",sample.dtype)"
   ]
  },
  {
   "cell_type": "code",
   "execution_count": 117,
   "id": "f33e33c6",
   "metadata": {
    "execution": {
     "iopub.execute_input": "2022-09-19T19:39:20.786673Z",
     "iopub.status.busy": "2022-09-19T19:39:20.786267Z",
     "iopub.status.idle": "2022-09-19T19:39:20.791729Z",
     "shell.execute_reply": "2022-09-19T19:39:20.790995Z"
    },
    "papermill": {
     "duration": 0.060381,
     "end_time": "2022-09-19T19:39:20.794488",
     "exception": false,
     "start_time": "2022-09-19T19:39:20.734107",
     "status": "completed"
    },
    "tags": []
   },
   "outputs": [
    {
     "name": "stdout",
     "output_type": "stream",
     "text": [
      "[[47 14 47 11]\n",
      " [19 34 38  4]\n",
      " [37  8 37  4]\n",
      " [ 1 29 33 12]\n",
      " [49 25  7 46]\n",
      " [21 47 19 41]\n",
      " [ 8 16 21 16]\n",
      " [24  8  2 30]] \n",
      "\n",
      "Data type of sample: int64\n"
     ]
    }
   ],
   "source": [
    "sample=np.random.randint(0.45,50.2,(8,4)) #(size of array)\n",
    "print(sample,\"\\n\\nData type of sample:\",sample.dtype)"
   ]
  },
  {
   "cell_type": "markdown",
   "id": "9fe35be0",
   "metadata": {
    "papermill": {
     "duration": 0.050589,
     "end_time": "2022-09-19T19:39:20.897507",
     "exception": false,
     "start_time": "2022-09-19T19:39:20.846918",
     "status": "completed"
    },
    "tags": []
   },
   "source": [
    "## Working with numpy.random.rand:\n",
    "- Random values in a given shape.\n",
    "- **Syntex:** <H3>random.randint(low, high=None, size=None, dtype=int)</H3>\n"
   ]
  },
  {
   "cell_type": "code",
   "execution_count": 118,
   "id": "e8606482",
   "metadata": {
    "execution": {
     "iopub.execute_input": "2022-09-19T19:39:21.000046Z",
     "iopub.status.busy": "2022-09-19T19:39:20.999453Z",
     "iopub.status.idle": "2022-09-19T19:39:21.007232Z",
     "shell.execute_reply": "2022-09-19T19:39:21.005634Z"
    },
    "papermill": {
     "duration": 0.061637,
     "end_time": "2022-09-19T19:39:21.009534",
     "exception": false,
     "start_time": "2022-09-19T19:39:20.947897",
     "status": "completed"
    },
    "tags": []
   },
   "outputs": [
    {
     "name": "stdout",
     "output_type": "stream",
     "text": [
      "Random flaot value array of given shape(4,5):\n",
      " [[0.73435725 0.90253793 0.65432332 0.12709791 0.2071599 ]\n",
      " [0.0733141  0.79351067 0.88488199 0.90660475 0.48765595]\n",
      " [0.57173914 0.33070103 0.25933864 0.37102514 0.15159997]\n",
      " [0.59203681 0.28618134 0.53960677 0.97471811 0.20362993]] \n",
      "\n",
      "Shape: (4, 5) \n",
      "Data type: float64\n"
     ]
    }
   ],
   "source": [
    "sample=np.random.rand(4,5)\n",
    "print(\"Random flaot value array of given shape(4,5):\\n\",sample,\"\\n\\nShape:\",sample.shape,\"\\nData type:\",sample.dtype)\n"
   ]
  },
  {
   "cell_type": "code",
   "execution_count": 119,
   "id": "661c69bb",
   "metadata": {
    "execution": {
     "iopub.execute_input": "2022-09-19T19:39:21.112964Z",
     "iopub.status.busy": "2022-09-19T19:39:21.112230Z",
     "iopub.status.idle": "2022-09-19T19:39:21.118817Z",
     "shell.execute_reply": "2022-09-19T19:39:21.117814Z"
    },
    "papermill": {
     "duration": 0.061187,
     "end_time": "2022-09-19T19:39:21.121110",
     "exception": false,
     "start_time": "2022-09-19T19:39:21.059923",
     "status": "completed"
    },
    "tags": []
   },
   "outputs": [
    {
     "data": {
      "text/plain": [
       "array([[7.20307175, 7.7076138 , 6.96296996, 5.38129373, 5.62147969],\n",
       "       [5.21994231, 7.380532  , 7.65464598, 7.71981425, 6.46296785],\n",
       "       [6.71521741, 5.99210308, 5.77801592, 6.11307542, 5.45479992],\n",
       "       [6.77611043, 5.85854403, 6.6188203 , 7.92415434, 5.61088978]])"
      ]
     },
     "execution_count": 119,
     "metadata": {},
     "output_type": "execute_result"
    }
   ],
   "source": [
    "3*sample+5"
   ]
  },
  {
   "cell_type": "markdown",
   "id": "03a895fb",
   "metadata": {
    "papermill": {
     "duration": 0.049814,
     "end_time": "2022-09-19T19:39:21.221929",
     "exception": false,
     "start_time": "2022-09-19T19:39:21.172115",
     "status": "completed"
    },
    "tags": []
   },
   "source": [
    "### np.seed():\n",
    "Random() is the module offered by the NumPy library in Python to work with random numbers. The NumPy random() function does not generate ‘truly’ random numbers but we used it to generate pseudo-random numbers.\n",
    "\n",
    "By Pseudo-random numbers we mean, they can be determined, not exactly generated randomly. We will explain pseudo-random numbers in detail in the next section.\n",
    "\n",
    "The random() function generates pseudo-random numbers based on a seed value.\n",
    "\n",
    "- We can use 2<sup>32</sup>-1 pattern in seed value."
   ]
  },
  {
   "cell_type": "code",
   "execution_count": 120,
   "id": "3ec3593f",
   "metadata": {
    "execution": {
     "iopub.execute_input": "2022-09-19T19:39:21.325061Z",
     "iopub.status.busy": "2022-09-19T19:39:21.323992Z",
     "iopub.status.idle": "2022-09-19T19:39:21.330801Z",
     "shell.execute_reply": "2022-09-19T19:39:21.329471Z"
    },
    "papermill": {
     "duration": 0.06065,
     "end_time": "2022-09-19T19:39:21.333144",
     "exception": false,
     "start_time": "2022-09-19T19:39:21.272494",
     "status": "completed"
    },
    "tags": []
   },
   "outputs": [
    {
     "name": "stdout",
     "output_type": "stream",
     "text": [
      "[[ 9 36 15  0]\n",
      " [49 28 25 29]\n",
      " [48 29 49  8]\n",
      " [ 9  0 42 40]\n",
      " [36 16 36 47]\n",
      " [11 24 43 33]\n",
      " [ 8 36 14 49]\n",
      " [13  5 13 25]] \n",
      "\n",
      "Data type of sample: int64\n"
     ]
    }
   ],
   "source": [
    "np.random.seed(10)\n",
    "sample=np.random.randint(0.45,50.2,(8,4)) #(size of array)\n",
    "print(sample,\"\\n\\nData type of sample:\",sample.dtype)\n"
   ]
  },
  {
   "cell_type": "code",
   "execution_count": 121,
   "id": "24a9b0c0",
   "metadata": {
    "execution": {
     "iopub.execute_input": "2022-09-19T19:39:21.436819Z",
     "iopub.status.busy": "2022-09-19T19:39:21.435677Z",
     "iopub.status.idle": "2022-09-19T19:39:21.443316Z",
     "shell.execute_reply": "2022-09-19T19:39:21.441678Z"
    },
    "papermill": {
     "duration": 0.061939,
     "end_time": "2022-09-19T19:39:21.445670",
     "exception": false,
     "start_time": "2022-09-19T19:39:21.383731",
     "status": "completed"
    },
    "tags": []
   },
   "outputs": [
    {
     "name": "stdout",
     "output_type": "stream",
     "text": [
      "[[ 9 36 15  0]\n",
      " [49 28 25 29]\n",
      " [48 29 49  8]\n",
      " [ 9  0 42 40]\n",
      " [36 16 36 47]\n",
      " [11 24 43 33]\n",
      " [ 8 36 14 49]\n",
      " [13  5 13 25]] \n",
      "\n",
      "Data type of sample: int64\n"
     ]
    }
   ],
   "source": [
    "np.random.seed(10)\n",
    "nsample=np.random.randint(0.45,50.2,(8,4)) #(size of array)\n",
    "print(sample,\"\\n\\nData type of sample:\",sample.dtype)"
   ]
  },
  {
   "cell_type": "markdown",
   "id": "ea018b26",
   "metadata": {
    "papermill": {
     "duration": 0.05127,
     "end_time": "2022-09-19T19:39:21.548244",
     "exception": false,
     "start_time": "2022-09-19T19:39:21.496974",
     "status": "completed"
    },
    "tags": []
   },
   "source": [
    "## numpy.random.randn:\n",
    "- Return a sample (or samples) from the “standard normal” distribution.\n",
    "- **Syntax** <H4>random.randn(d0, d1, ..., dn)</H4>"
   ]
  },
  {
   "cell_type": "code",
   "execution_count": 122,
   "id": "8a58dcb5",
   "metadata": {
    "execution": {
     "iopub.execute_input": "2022-09-19T19:39:21.654857Z",
     "iopub.status.busy": "2022-09-19T19:39:21.653822Z",
     "iopub.status.idle": "2022-09-19T19:39:21.660020Z",
     "shell.execute_reply": "2022-09-19T19:39:21.659341Z"
    },
    "papermill": {
     "duration": 0.06175,
     "end_time": "2022-09-19T19:39:21.662042",
     "exception": false,
     "start_time": "2022-09-19T19:39:21.600292",
     "status": "completed"
    },
    "tags": []
   },
   "outputs": [
    {
     "data": {
      "text/plain": [
       "array([[ 0.42401507,  1.40862087,  0.43999202],\n",
       "       [-0.42823439, -0.31201268, -0.56888339],\n",
       "       [-1.58494101,  1.05535316, -1.92657911]])"
      ]
     },
     "execution_count": 122,
     "metadata": {},
     "output_type": "execute_result"
    }
   ],
   "source": [
    "np.random.randn(3,3)"
   ]
  },
  {
   "cell_type": "code",
   "execution_count": 123,
   "id": "46795ccb",
   "metadata": {
    "execution": {
     "iopub.execute_input": "2022-09-19T19:39:21.766923Z",
     "iopub.status.busy": "2022-09-19T19:39:21.765973Z",
     "iopub.status.idle": "2022-09-19T19:39:21.773611Z",
     "shell.execute_reply": "2022-09-19T19:39:21.772056Z"
    },
    "papermill": {
     "duration": 0.062606,
     "end_time": "2022-09-19T19:39:21.776596",
     "exception": false,
     "start_time": "2022-09-19T19:39:21.713990",
     "status": "completed"
    },
    "tags": []
   },
   "outputs": [
    {
     "name": "stdout",
     "output_type": "stream",
     "text": [
      "Choice of random in x array only: 1\n",
      "Choice of random in x array only: 4\n",
      "Choice of random in x array only: 2\n",
      "Choice of random in x array only: 4\n",
      "Choice of random in x array only: 5\n",
      "Choice of random in x array only: 2\n",
      "Choice of random in x array only: 5\n",
      "Choice of random in x array only: 3\n",
      "Choice of random in x array only: 1\n",
      "Choice of random in x array only: 1\n"
     ]
    }
   ],
   "source": [
    "x=[1,2,3,4,5,6]\n",
    "for i in range(10):\n",
    "    print(\"Choice of random in x array only:\",np.random.choice(x))"
   ]
  },
  {
   "cell_type": "code",
   "execution_count": 124,
   "id": "d7c632ef",
   "metadata": {
    "execution": {
     "iopub.execute_input": "2022-09-19T19:39:21.882044Z",
     "iopub.status.busy": "2022-09-19T19:39:21.880974Z",
     "iopub.status.idle": "2022-09-19T19:39:21.887233Z",
     "shell.execute_reply": "2022-09-19T19:39:21.886498Z"
    },
    "papermill": {
     "duration": 0.060754,
     "end_time": "2022-09-19T19:39:21.889226",
     "exception": false,
     "start_time": "2022-09-19T19:39:21.828472",
     "status": "completed"
    },
    "tags": []
   },
   "outputs": [
    {
     "data": {
      "text/plain": [
       "array([2, 3, 1, 4, 6, 5])"
      ]
     },
     "execution_count": 124,
     "metadata": {},
     "output_type": "execute_result"
    }
   ],
   "source": [
    "np.random.permutation(x) #give the permutation"
   ]
  },
  {
   "cell_type": "markdown",
   "id": "ad723d9c",
   "metadata": {
    "papermill": {
     "duration": 0.050267,
     "end_time": "2022-09-19T19:39:21.990977",
     "exception": false,
     "start_time": "2022-09-19T19:39:21.940710",
     "status": "completed"
    },
    "tags": []
   },
   "source": [
    "# String Operations, Comparison and Information:"
   ]
  },
  {
   "cell_type": "code",
   "execution_count": 125,
   "id": "50a864dd",
   "metadata": {
    "execution": {
     "iopub.execute_input": "2022-09-19T19:39:22.096324Z",
     "iopub.status.busy": "2022-09-19T19:39:22.095891Z",
     "iopub.status.idle": "2022-09-19T19:39:22.100080Z",
     "shell.execute_reply": "2022-09-19T19:39:22.099244Z"
    },
    "papermill": {
     "duration": 0.060189,
     "end_time": "2022-09-19T19:39:22.102095",
     "exception": false,
     "start_time": "2022-09-19T19:39:22.041906",
     "status": "completed"
    },
    "tags": []
   },
   "outputs": [],
   "source": [
    "str1=\"Bhawan Singh Solanki Learning \"\n",
    "str2=\"Python ,NumPy,Pandas & Data Science\""
   ]
  },
  {
   "cell_type": "code",
   "execution_count": 126,
   "id": "33d7f38f",
   "metadata": {
    "execution": {
     "iopub.execute_input": "2022-09-19T19:39:22.207602Z",
     "iopub.status.busy": "2022-09-19T19:39:22.206902Z",
     "iopub.status.idle": "2022-09-19T19:39:22.213209Z",
     "shell.execute_reply": "2022-09-19T19:39:22.211871Z"
    },
    "papermill": {
     "duration": 0.061155,
     "end_time": "2022-09-19T19:39:22.215418",
     "exception": false,
     "start_time": "2022-09-19T19:39:22.154263",
     "status": "completed"
    },
    "tags": []
   },
   "outputs": [
    {
     "name": "stdout",
     "output_type": "stream",
     "text": [
      "Concatetination of String: Bhawan Singh Solanki Learning Python ,NumPy,Pandas & Data Science \n",
      "Type & Data type of array: <class 'numpy.ndarray'> <U65\n"
     ]
    }
   ],
   "source": [
    "print(\"Concatetination of String:\",np.char.add(str1,str2),\"\\nType & Data type of array:\",type(np.char.add(str1,str2)),np.char.add(str1,str2).dtype)"
   ]
  },
  {
   "cell_type": "code",
   "execution_count": 127,
   "id": "89e06a6c",
   "metadata": {
    "execution": {
     "iopub.execute_input": "2022-09-19T19:39:22.320110Z",
     "iopub.status.busy": "2022-09-19T19:39:22.319697Z",
     "iopub.status.idle": "2022-09-19T19:39:22.326089Z",
     "shell.execute_reply": "2022-09-19T19:39:22.324723Z"
    },
    "papermill": {
     "duration": 0.061875,
     "end_time": "2022-09-19T19:39:22.328486",
     "exception": false,
     "start_time": "2022-09-19T19:39:22.266611",
     "status": "completed"
    },
    "tags": []
   },
   "outputs": [
    {
     "name": "stdout",
     "output_type": "stream",
     "text": [
      "Lowercase of string : bhawan singh solanki learning \n",
      "Lowercase of string : python ,numpy,pandas & data science\n"
     ]
    }
   ],
   "source": [
    "print(\"Lowercase of string :\",np.char.lower(str1))\n",
    "print(\"Lowercase of string :\",np.char.lower(str2))"
   ]
  },
  {
   "cell_type": "code",
   "execution_count": 128,
   "id": "460f0a1d",
   "metadata": {
    "execution": {
     "iopub.execute_input": "2022-09-19T19:39:22.433913Z",
     "iopub.status.busy": "2022-09-19T19:39:22.432943Z",
     "iopub.status.idle": "2022-09-19T19:39:22.439647Z",
     "shell.execute_reply": "2022-09-19T19:39:22.438361Z"
    },
    "papermill": {
     "duration": 0.061885,
     "end_time": "2022-09-19T19:39:22.442290",
     "exception": false,
     "start_time": "2022-09-19T19:39:22.380405",
     "status": "completed"
    },
    "tags": []
   },
   "outputs": [
    {
     "name": "stdout",
     "output_type": "stream",
     "text": [
      "Uppercase of string : BHAWAN SINGH SOLANKI LEARNING \n",
      "Uppercase of string : PYTHON ,NUMPY,PANDAS & DATA SCIENCE\n"
     ]
    }
   ],
   "source": [
    "print(\"Uppercase of string :\",np.char.upper(str1))\n",
    "print(\"Uppercase of string :\",np.char.upper(str2))"
   ]
  },
  {
   "cell_type": "code",
   "execution_count": 129,
   "id": "aab961c7",
   "metadata": {
    "execution": {
     "iopub.execute_input": "2022-09-19T19:39:22.546997Z",
     "iopub.status.busy": "2022-09-19T19:39:22.546600Z",
     "iopub.status.idle": "2022-09-19T19:39:22.554684Z",
     "shell.execute_reply": "2022-09-19T19:39:22.553402Z"
    },
    "papermill": {
     "duration": 0.063675,
     "end_time": "2022-09-19T19:39:22.557980",
     "exception": false,
     "start_time": "2022-09-19T19:39:22.494305",
     "status": "completed"
    },
    "tags": []
   },
   "outputs": [
    {
     "name": "stdout",
     "output_type": "stream",
     "text": [
      "Center of String 60:\n"
     ]
    },
    {
     "data": {
      "text/plain": [
       "array('          Bhawan Singh Solanki Learning           ', dtype='<U50')"
      ]
     },
     "execution_count": 129,
     "metadata": {},
     "output_type": "execute_result"
    }
   ],
   "source": [
    "print(\"Center of String 60:\")\n",
    "np.char.center(str1,50)"
   ]
  },
  {
   "cell_type": "code",
   "execution_count": 130,
   "id": "70117db9",
   "metadata": {
    "execution": {
     "iopub.execute_input": "2022-09-19T19:39:22.664300Z",
     "iopub.status.busy": "2022-09-19T19:39:22.663912Z",
     "iopub.status.idle": "2022-09-19T19:39:22.672403Z",
     "shell.execute_reply": "2022-09-19T19:39:22.671053Z"
    },
    "papermill": {
     "duration": 0.063851,
     "end_time": "2022-09-19T19:39:22.674961",
     "exception": false,
     "start_time": "2022-09-19T19:39:22.611110",
     "status": "completed"
    },
    "tags": []
   },
   "outputs": [
    {
     "name": "stdout",
     "output_type": "stream",
     "text": [
      "Center of String 60:\n"
     ]
    },
    {
     "data": {
      "text/plain": [
       "array('**********Bhawan Singh Solanki Learning **********', dtype='<U50')"
      ]
     },
     "execution_count": 130,
     "metadata": {},
     "output_type": "execute_result"
    }
   ],
   "source": [
    "print(\"Center of String 60:\")\n",
    "np.char.center(str1,50,fillchar=\"*\")"
   ]
  },
  {
   "cell_type": "code",
   "execution_count": 131,
   "id": "a62a6fe9",
   "metadata": {
    "execution": {
     "iopub.execute_input": "2022-09-19T19:39:22.782262Z",
     "iopub.status.busy": "2022-09-19T19:39:22.781105Z",
     "iopub.status.idle": "2022-09-19T19:39:22.787441Z",
     "shell.execute_reply": "2022-09-19T19:39:22.786208Z"
    },
    "papermill": {
     "duration": 0.062609,
     "end_time": "2022-09-19T19:39:22.789729",
     "exception": false,
     "start_time": "2022-09-19T19:39:22.727120",
     "status": "completed"
    },
    "tags": []
   },
   "outputs": [
    {
     "name": "stdout",
     "output_type": "stream",
     "text": [
      "Spliting the string: ['Bhawan', 'Singh', 'Solanki', 'Learning']\n"
     ]
    }
   ],
   "source": [
    "print(\"Spliting the string:\",np.char.split(str1))"
   ]
  },
  {
   "cell_type": "code",
   "execution_count": 132,
   "id": "b123af18",
   "metadata": {
    "execution": {
     "iopub.execute_input": "2022-09-19T19:39:22.896890Z",
     "iopub.status.busy": "2022-09-19T19:39:22.896519Z",
     "iopub.status.idle": "2022-09-19T19:39:22.903039Z",
     "shell.execute_reply": "2022-09-19T19:39:22.901412Z"
    },
    "papermill": {
     "duration": 0.062861,
     "end_time": "2022-09-19T19:39:22.905308",
     "exception": false,
     "start_time": "2022-09-19T19:39:22.842447",
     "status": "completed"
    },
    "tags": []
   },
   "outputs": [
    {
     "name": "stdout",
     "output_type": "stream",
     "text": [
      "Spliting the string by lines: ['This', ' is', ' bhawan', ' singh', ' solanki']\n",
      "\n",
      "Data type of : object\n"
     ]
    }
   ],
   "source": [
    "print(\"Spliting the string by lines:\",np.char.splitlines(\"This\\n is\\n bhawan\\n singh\\n solanki\"))\n",
    "print(\"\\nData type of :\",np.char.splitlines(\"This\\n is\\n bhawan\\n singh\\n solanki\").dtype)"
   ]
  },
  {
   "cell_type": "code",
   "execution_count": 133,
   "id": "dea649f2",
   "metadata": {
    "execution": {
     "iopub.execute_input": "2022-09-19T19:39:23.010088Z",
     "iopub.status.busy": "2022-09-19T19:39:23.009680Z",
     "iopub.status.idle": "2022-09-19T19:39:23.015661Z",
     "shell.execute_reply": "2022-09-19T19:39:23.014918Z"
    },
    "papermill": {
     "duration": 0.060712,
     "end_time": "2022-09-19T19:39:23.017980",
     "exception": false,
     "start_time": "2022-09-19T19:39:22.957268",
     "status": "completed"
    },
    "tags": []
   },
   "outputs": [
    {
     "name": "stdout",
     "output_type": "stream",
     "text": [
      "Joining string 1:\n",
      " ['B:h:a:w:a:n: :S:i:n:g:h: :S:o:l:a:n:k:i: :L:e:a:r:n:i:n:g: '\n",
      " 'B/h/a/w/a/n/ /S/i/n/g/h/ /S/o/l/a/n/k/i/ /L/e/a/r/n/i/n/g/ ']\n",
      "\n",
      "Joining string 2:\n",
      " ['P:y:t:h:o:n: :,:N:u:m:P:y:,:P:a:n:d:a:s: :&: :D:a:t:a: :S:c:i:e:n:c:e'\n",
      " 'P/y/t/h/o/n/ /,/N/u/m/P/y/,/P/a/n/d/a/s/ /&/ /D/a/t/a/ /S/c/i/e/n/c/e']\n"
     ]
    }
   ],
   "source": [
    "print(\"Joining string 1:\\n\",np.char.join([':',\"/\"],[str1]))\n",
    "print(\"\\nJoining string 2:\\n\",np.char.join([':',\"/\"],[str2]))"
   ]
  },
  {
   "cell_type": "code",
   "execution_count": 134,
   "id": "5d7c9c42",
   "metadata": {
    "execution": {
     "iopub.execute_input": "2022-09-19T19:39:23.122460Z",
     "iopub.status.busy": "2022-09-19T19:39:23.122039Z",
     "iopub.status.idle": "2022-09-19T19:39:23.127824Z",
     "shell.execute_reply": "2022-09-19T19:39:23.126550Z"
    },
    "papermill": {
     "duration": 0.061183,
     "end_time": "2022-09-19T19:39:23.130632",
     "exception": false,
     "start_time": "2022-09-19T19:39:23.069449",
     "status": "completed"
    },
    "tags": []
   },
   "outputs": [
    {
     "name": "stdout",
     "output_type": "stream",
     "text": [
      "Replace in string: Python ,NumPy,Pandas & Data Engineer\n"
     ]
    }
   ],
   "source": [
    "print(\"Replace in string:\",np.char.replace(str2,\"Data Science\",\"Data Engineer\"))"
   ]
  },
  {
   "cell_type": "code",
   "execution_count": 135,
   "id": "4cb43160",
   "metadata": {
    "execution": {
     "iopub.execute_input": "2022-09-19T19:39:23.236675Z",
     "iopub.status.busy": "2022-09-19T19:39:23.236290Z",
     "iopub.status.idle": "2022-09-19T19:39:23.242442Z",
     "shell.execute_reply": "2022-09-19T19:39:23.241261Z"
    },
    "papermill": {
     "duration": 0.061286,
     "end_time": "2022-09-19T19:39:23.244996",
     "exception": false,
     "start_time": "2022-09-19T19:39:23.183710",
     "status": "completed"
    },
    "tags": []
   },
   "outputs": [
    {
     "name": "stdout",
     "output_type": "stream",
     "text": [
      "Cheking equlity of string: False\n",
      "\n",
      "Cheking equlity of string: True\n"
     ]
    }
   ],
   "source": [
    "print(\"Cheking equlity of string:\",np.char.equal(str1,str2))\n",
    "str3=\"this is equal\"\n",
    "str4=\"this is equal\"\n",
    "print(\"\\nCheking equlity of string:\",np.char.equal(str3,str4))"
   ]
  },
  {
   "cell_type": "code",
   "execution_count": 136,
   "id": "0c2740b6",
   "metadata": {
    "execution": {
     "iopub.execute_input": "2022-09-19T19:39:23.350785Z",
     "iopub.status.busy": "2022-09-19T19:39:23.349992Z",
     "iopub.status.idle": "2022-09-19T19:39:23.464531Z",
     "shell.execute_reply": "2022-09-19T19:39:23.463380Z"
    },
    "papermill": {
     "duration": 0.169564,
     "end_time": "2022-09-19T19:39:23.466793",
     "exception": false,
     "start_time": "2022-09-19T19:39:23.297229",
     "status": "completed"
    },
    "tags": []
   },
   "outputs": [
    {
     "name": "stdout",
     "output_type": "stream",
     "text": [
      "Counting the char in string: 4\n",
      "Counting the char in string: 1\n",
      "Counting the char in string: 0\n"
     ]
    }
   ],
   "source": [
    "print(\"Counting the char in string:\",np.char.count(str1,\"a\"))\n",
    "print(\"Counting the char in string:\",np.char.count(str1,\"B\"))\n",
    "print(\"Counting the char in string:\",np.char.count(str1,\"A\"))"
   ]
  },
  {
   "cell_type": "code",
   "execution_count": 137,
   "id": "0fd03be0",
   "metadata": {
    "execution": {
     "iopub.execute_input": "2022-09-19T19:39:23.572231Z",
     "iopub.status.busy": "2022-09-19T19:39:23.571799Z",
     "iopub.status.idle": "2022-09-19T19:39:23.577683Z",
     "shell.execute_reply": "2022-09-19T19:39:23.576647Z"
    },
    "papermill": {
     "duration": 0.061242,
     "end_time": "2022-09-19T19:39:23.580507",
     "exception": false,
     "start_time": "2022-09-19T19:39:23.519265",
     "status": "completed"
    },
    "tags": []
   },
   "outputs": [
    {
     "name": "stdout",
     "output_type": "stream",
     "text": [
      "Finding Index & String: 21\n",
      "Finding Index & String: 23\n"
     ]
    }
   ],
   "source": [
    "print(\"Finding Index & String:\",np.char.find(str1,\"Le\"))\n",
    "print(\"Finding Index & String:\",np.char.find(str2,\"Data\"))"
   ]
  }
 ],
 "metadata": {
  "kernelspec": {
   "display_name": "Python 3",
   "language": "python",
   "name": "python3"
  },
  "language_info": {
   "codemirror_mode": {
    "name": "ipython",
    "version": 3
   },
   "file_extension": ".py",
   "mimetype": "text/x-python",
   "name": "python",
   "nbconvert_exporter": "python",
   "pygments_lexer": "ipython3",
   "version": "3.7.12"
  },
  "papermill": {
   "default_parameters": {},
   "duration": 30.930488,
   "end_time": "2022-09-19T19:39:24.253340",
   "environment_variables": {},
   "exception": null,
   "input_path": "__notebook__.ipynb",
   "output_path": "__notebook__.ipynb",
   "parameters": {},
   "start_time": "2022-09-19T19:38:53.322852",
   "version": "2.3.4"
  }
 },
 "nbformat": 4,
 "nbformat_minor": 5
}
