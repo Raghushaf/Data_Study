{
 "cells": [
  {
   "cell_type": "code",
   "execution_count": 1,
   "id": "8cd2fbd3",
   "metadata": {
    "_cell_guid": "b1076dfc-b9ad-4769-8c92-a6c4dae69d19",
    "_uuid": "8f2839f25d086af736a60e9eeb907d3b93b6e0e5",
    "execution": {
     "iopub.execute_input": "2022-09-16T06:14:41.088356Z",
     "iopub.status.busy": "2022-09-16T06:14:41.087249Z",
     "iopub.status.idle": "2022-09-16T06:14:41.102659Z",
     "shell.execute_reply": "2022-09-16T06:14:41.101337Z"
    },
    "papermill": {
     "duration": 0.030829,
     "end_time": "2022-09-16T06:14:41.105803",
     "exception": false,
     "start_time": "2022-09-16T06:14:41.074974",
     "status": "completed"
    },
    "tags": []
   },
   "outputs": [],
   "source": [
    "# This Python 3 environment comes with many helpful analytics libraries installed\n",
    "# It is defined by the kaggle/python Docker image: https://github.com/kaggle/docker-python\n",
    "# For example, here's several helpful packages to load\n",
    "\n",
    "import numpy as np # linear algebra\n",
    "import pandas as pd # data processing, CSV file I/O (e.g. pd.read_csv)\n",
    "\n",
    "# Input data files are available in the read-only \"../input/\" directory\n",
    "# For example, running this (by clicking run or pressing Shift+Enter) will list all files under the input directory\n",
    "\n",
    "import os\n",
    "for dirname, _, filenames in os.walk('/kaggle/input'):\n",
    "    for filename in filenames:\n",
    "        print(os.path.join(dirname, filename))\n",
    "\n",
    "# You can write up to 20GB to the current directory (/kaggle/working/) that gets preserved as output when you create a version using \"Save & Run All\" \n",
    "# You can also write temporary files to /kaggle/temp/, but they won't be saved outside of the current session"
   ]
  },
  {
   "cell_type": "markdown",
   "id": "90f3f697",
   "metadata": {
    "papermill": {
     "duration": 0.008989,
     "end_time": "2022-09-16T06:14:41.124003",
     "exception": false,
     "start_time": "2022-09-16T06:14:41.115014",
     "status": "completed"
    },
    "tags": []
   },
   "source": [
    "### Creating 1-D Array:"
   ]
  },
  {
   "cell_type": "code",
   "execution_count": 2,
   "id": "39ec57da",
   "metadata": {
    "execution": {
     "iopub.execute_input": "2022-09-16T06:14:41.144527Z",
     "iopub.status.busy": "2022-09-16T06:14:41.144082Z",
     "iopub.status.idle": "2022-09-16T06:14:41.152777Z",
     "shell.execute_reply": "2022-09-16T06:14:41.151514Z"
    },
    "papermill": {
     "duration": 0.022382,
     "end_time": "2022-09-16T06:14:41.155428",
     "exception": false,
     "start_time": "2022-09-16T06:14:41.133046",
     "status": "completed"
    },
    "tags": []
   },
   "outputs": [
    {
     "name": "stdout",
     "output_type": "stream",
     "text": [
      "This is 1-D array: [1 2 3 4 5]\n"
     ]
    }
   ],
   "source": [
    "arr1d=np.array([1,2,3,4,5])\n",
    "print(\"This is 1-D array:\",arr1d)"
   ]
  },
  {
   "cell_type": "markdown",
   "id": "1540a542",
   "metadata": {
    "papermill": {
     "duration": 0.008357,
     "end_time": "2022-09-16T06:14:41.173327",
     "exception": false,
     "start_time": "2022-09-16T06:14:41.164970",
     "status": "completed"
    },
    "tags": []
   },
   "source": [
    "### Creating 2-D Array:"
   ]
  },
  {
   "cell_type": "code",
   "execution_count": 3,
   "id": "3e7f394d",
   "metadata": {
    "execution": {
     "iopub.execute_input": "2022-09-16T06:14:41.195612Z",
     "iopub.status.busy": "2022-09-16T06:14:41.195167Z",
     "iopub.status.idle": "2022-09-16T06:14:41.202116Z",
     "shell.execute_reply": "2022-09-16T06:14:41.200832Z"
    },
    "papermill": {
     "duration": 0.020416,
     "end_time": "2022-09-16T06:14:41.204839",
     "exception": false,
     "start_time": "2022-09-16T06:14:41.184423",
     "status": "completed"
    },
    "tags": []
   },
   "outputs": [
    {
     "name": "stdout",
     "output_type": "stream",
     "text": [
      "This is 2-D array:\n",
      "\n",
      " [[1 2 3 4]\n",
      " [1 2 3 4]\n",
      " [1 2 3 4]]\n"
     ]
    }
   ],
   "source": [
    "arr2d=np.array([[1,2,3,4],\n",
    "                [1,2,3,4],\n",
    "                [1,2,3,4],\n",
    "               ])\n",
    "print(\"This is 2-D array:\\n\\n\",arr2d)"
   ]
  },
  {
   "cell_type": "markdown",
   "id": "95fc7146",
   "metadata": {
    "papermill": {
     "duration": 0.008906,
     "end_time": "2022-09-16T06:14:41.224868",
     "exception": false,
     "start_time": "2022-09-16T06:14:41.215962",
     "status": "completed"
    },
    "tags": []
   },
   "source": [
    "### Creating 3-D or Multi-D Array:"
   ]
  },
  {
   "cell_type": "code",
   "execution_count": 4,
   "id": "cb92d96a",
   "metadata": {
    "execution": {
     "iopub.execute_input": "2022-09-16T06:14:41.244624Z",
     "iopub.status.busy": "2022-09-16T06:14:41.243801Z",
     "iopub.status.idle": "2022-09-16T06:14:41.253404Z",
     "shell.execute_reply": "2022-09-16T06:14:41.250620Z"
    },
    "papermill": {
     "duration": 0.022756,
     "end_time": "2022-09-16T06:14:41.256353",
     "exception": false,
     "start_time": "2022-09-16T06:14:41.233597",
     "status": "completed"
    },
    "tags": []
   },
   "outputs": [
    {
     "name": "stdout",
     "output_type": "stream",
     "text": [
      "This is 3-D array:\n",
      "\n",
      " [[[1 2 3 4]\n",
      "  [1 2 3 4]\n",
      "  [1 2 3 4]]\n",
      "\n",
      " [[1 2 3 4]\n",
      "  [1 2 3 4]\n",
      "  [1 2 3 4]]\n",
      "\n",
      " [[1 2 3 4]\n",
      "  [1 2 3 4]\n",
      "  [1 2 3 4]]]\n"
     ]
    }
   ],
   "source": [
    "arr3d=np.array([[[1,2,3,4],\n",
    "                [1,2,3,4],\n",
    "                [1,2,3,4],\n",
    "               ],\n",
    "               [[1,2,3,4],\n",
    "                [1,2,3,4],\n",
    "                [1,2,3,4],\n",
    "               ],\n",
    "                [[1,2,3,4],\n",
    "                [1,2,3,4],\n",
    "                [1,2,3,4],\n",
    "               ]])\n",
    "print(\"This is 3-D array:\\n\\n\",arr3d)"
   ]
  },
  {
   "cell_type": "markdown",
   "id": "a7e74831",
   "metadata": {
    "papermill": {
     "duration": 0.008501,
     "end_time": "2022-09-16T06:14:41.273781",
     "exception": false,
     "start_time": "2022-09-16T06:14:41.265280",
     "status": "completed"
    },
    "tags": []
   },
   "source": [
    "### Use of type() function:\n",
    "- It will give the type of object.\n"
   ]
  },
  {
   "cell_type": "code",
   "execution_count": 5,
   "id": "0d96e0a0",
   "metadata": {
    "execution": {
     "iopub.execute_input": "2022-09-16T06:14:41.294102Z",
     "iopub.status.busy": "2022-09-16T06:14:41.293032Z",
     "iopub.status.idle": "2022-09-16T06:14:41.300710Z",
     "shell.execute_reply": "2022-09-16T06:14:41.298334Z"
    },
    "papermill": {
     "duration": 0.020943,
     "end_time": "2022-09-16T06:14:41.303465",
     "exception": false,
     "start_time": "2022-09-16T06:14:41.282522",
     "status": "completed"
    },
    "tags": []
   },
   "outputs": [
    {
     "name": "stdout",
     "output_type": "stream",
     "text": [
      "type of array 1-D array: <class 'numpy.ndarray'>\n"
     ]
    }
   ],
   "source": [
    "print(\"type of array 1-D array:\",type(arr1d))"
   ]
  },
  {
   "cell_type": "markdown",
   "id": "7c658d49",
   "metadata": {
    "papermill": {
     "duration": 0.008921,
     "end_time": "2022-09-16T06:14:41.321917",
     "exception": false,
     "start_time": "2022-09-16T06:14:41.312996",
     "status": "completed"
    },
    "tags": []
   },
   "source": [
    "### Use of ndim:\n",
    "- It will give the dimention of NumPy array."
   ]
  },
  {
   "cell_type": "code",
   "execution_count": 6,
   "id": "d4359a64",
   "metadata": {
    "execution": {
     "iopub.execute_input": "2022-09-16T06:14:41.342568Z",
     "iopub.status.busy": "2022-09-16T06:14:41.341842Z",
     "iopub.status.idle": "2022-09-16T06:14:41.348875Z",
     "shell.execute_reply": "2022-09-16T06:14:41.347194Z"
    },
    "papermill": {
     "duration": 0.0205,
     "end_time": "2022-09-16T06:14:41.351978",
     "exception": false,
     "start_time": "2022-09-16T06:14:41.331478",
     "status": "completed"
    },
    "tags": []
   },
   "outputs": [
    {
     "name": "stdout",
     "output_type": "stream",
     "text": [
      "Dimention of Array arr1d:-> 1\n",
      "Dimention of Array arr2d:-> 2\n",
      "Dimention of Array arr3d:-> 3\n"
     ]
    }
   ],
   "source": [
    "print(\"Dimention of Array arr1d:->\",arr1d.ndim)\n",
    "print(\"Dimention of Array arr2d:->\",arr2d.ndim)\n",
    "print(\"Dimention of Array arr3d:->\",arr3d.ndim)"
   ]
  },
  {
   "cell_type": "markdown",
   "id": "de694549",
   "metadata": {
    "papermill": {
     "duration": 0.008602,
     "end_time": "2022-09-16T06:14:41.369605",
     "exception": false,
     "start_time": "2022-09-16T06:14:41.361003",
     "status": "completed"
    },
    "tags": []
   },
   "source": [
    "### Use of shape:\n",
    "- It will give you shape of array."
   ]
  },
  {
   "cell_type": "code",
   "execution_count": 7,
   "id": "708b37a6",
   "metadata": {
    "execution": {
     "iopub.execute_input": "2022-09-16T06:14:41.390081Z",
     "iopub.status.busy": "2022-09-16T06:14:41.389382Z",
     "iopub.status.idle": "2022-09-16T06:14:41.396265Z",
     "shell.execute_reply": "2022-09-16T06:14:41.394191Z"
    },
    "papermill": {
     "duration": 0.020602,
     "end_time": "2022-09-16T06:14:41.399083",
     "exception": false,
     "start_time": "2022-09-16T06:14:41.378481",
     "status": "completed"
    },
    "tags": []
   },
   "outputs": [
    {
     "name": "stdout",
     "output_type": "stream",
     "text": [
      "Shape of array arr1d will be:  (5,)\n",
      "Shape of array qrr2d will be: (3, 4)\n",
      "Shape of array arr3d will be: (3, 3, 4)\n"
     ]
    }
   ],
   "source": [
    "print(\"Shape of array arr1d will be: \", arr1d.shape)\n",
    "print(\"Shape of array qrr2d will be:\", arr2d.shape)\n",
    "print(\"Shape of array arr3d will be:\", arr3d.shape)"
   ]
  },
  {
   "cell_type": "markdown",
   "id": "830cd889",
   "metadata": {
    "papermill": {
     "duration": 0.008725,
     "end_time": "2022-09-16T06:14:41.417206",
     "exception": false,
     "start_time": "2022-09-16T06:14:41.408481",
     "status": "completed"
    },
    "tags": []
   },
   "source": [
    "*** \n",
    "### Data Types in Python\n",
    "- By default Python have these data types:\n",
    "    - strings - used to represent text data, the text is given under quote marks. e.g. \"ABCD\"\n",
    "    - integer - used to represent integer numbers. e.g. -1, -2, -3\n",
    "    - float - used to represent real numbers. e.g. 1.2, 42.42\n",
    "    - boolean - used to represent True or False.\n",
    "    - complex - used to represent complex numbers. e.g. 1.0 + 2.0j, 1.5 + 2.5j \n",
    "***"
   ]
  },
  {
   "cell_type": "markdown",
   "id": "803208c2",
   "metadata": {
    "papermill": {
     "duration": 0.008776,
     "end_time": "2022-09-16T06:14:41.434989",
     "exception": false,
     "start_time": "2022-09-16T06:14:41.426213",
     "status": "completed"
    },
    "tags": []
   },
   "source": [
    "***\n",
    "### Data Types in NumPy\n",
    "- NumPy has some extra data types, and refer to data types with one character, like i for integers, u for unsigned integers etc.\n",
    "\n",
    "    Below is a list of all data types in NumPy and the characters used to represent them.\n",
    "\n",
    "    - i - integer\n",
    "    - b - boolean\n",
    "    - u - unsigned integer\n",
    "    - f - float\n",
    "    - c - complex float\n",
    "    - m - timedelta\n",
    "    - M - datetime\n",
    "    - O - object\n",
    "    - S - string\n",
    "    - U - unicode string\n",
    "    - V - fixed chunk of memory for other type ( void )\n",
    "\n",
    "***\n",
    "- <H4>Use of dtype:</H4>\n",
    "    - It give what kind of data means type of data we are using."
   ]
  },
  {
   "cell_type": "code",
   "execution_count": 8,
   "id": "f27a7705",
   "metadata": {
    "execution": {
     "iopub.execute_input": "2022-09-16T06:14:41.456283Z",
     "iopub.status.busy": "2022-09-16T06:14:41.455161Z",
     "iopub.status.idle": "2022-09-16T06:14:41.462286Z",
     "shell.execute_reply": "2022-09-16T06:14:41.460881Z"
    },
    "papermill": {
     "duration": 0.020944,
     "end_time": "2022-09-16T06:14:41.465233",
     "exception": false,
     "start_time": "2022-09-16T06:14:41.444289",
     "status": "completed"
    },
    "tags": []
   },
   "outputs": [
    {
     "name": "stdout",
     "output_type": "stream",
     "text": [
      "Data type of array arr1d: int64\n",
      "Data type of array arr1d: int64\n",
      "Data type of array arr1d: int64\n"
     ]
    }
   ],
   "source": [
    "print(\"Data type of array arr1d:\", arr1d.dtype)\n",
    "print(\"Data type of array arr1d:\", arr2d.dtype)\n",
    "print(\"Data type of array arr1d:\", arr3d.dtype)"
   ]
  },
  {
   "cell_type": "code",
   "execution_count": 9,
   "id": "76bbb9c5",
   "metadata": {
    "execution": {
     "iopub.execute_input": "2022-09-16T06:14:41.487256Z",
     "iopub.status.busy": "2022-09-16T06:14:41.486594Z",
     "iopub.status.idle": "2022-09-16T06:14:41.492386Z",
     "shell.execute_reply": "2022-09-16T06:14:41.490898Z"
    },
    "papermill": {
     "duration": 0.019565,
     "end_time": "2022-09-16T06:14:41.495223",
     "exception": false,
     "start_time": "2022-09-16T06:14:41.475658",
     "status": "completed"
    },
    "tags": []
   },
   "outputs": [
    {
     "name": "stdout",
     "output_type": "stream",
     "text": [
      "Data type of array arr: <U6\n"
     ]
    }
   ],
   "source": [
    "arr = np.array(['apple', 'banana', 'cherry'])\n",
    "\n",
    "print(\"Data type of array arr:\", arr.dtype)"
   ]
  },
  {
   "cell_type": "markdown",
   "id": "0f595c65",
   "metadata": {
    "papermill": {
     "duration": 0.008882,
     "end_time": "2022-09-16T06:14:41.514390",
     "exception": false,
     "start_time": "2022-09-16T06:14:41.505508",
     "status": "completed"
    },
    "tags": []
   },
   "source": [
    "- Create an array with data type string:"
   ]
  },
  {
   "cell_type": "code",
   "execution_count": 10,
   "id": "76bb24c5",
   "metadata": {
    "execution": {
     "iopub.execute_input": "2022-09-16T06:14:41.535776Z",
     "iopub.status.busy": "2022-09-16T06:14:41.534258Z",
     "iopub.status.idle": "2022-09-16T06:14:41.541804Z",
     "shell.execute_reply": "2022-09-16T06:14:41.540293Z"
    },
    "papermill": {
     "duration": 0.020662,
     "end_time": "2022-09-16T06:14:41.544330",
     "exception": false,
     "start_time": "2022-09-16T06:14:41.523668",
     "status": "completed"
    },
    "tags": []
   },
   "outputs": [
    {
     "name": "stdout",
     "output_type": "stream",
     "text": [
      "Here is array: [b'1' b'2' b'3' b'4']\n",
      "Data type of array arr: |S1\n"
     ]
    }
   ],
   "source": [
    "arr = np.array([1, 2, 3, 4], dtype='S')\n",
    "\n",
    "print(\"Here is array:\",arr)\n",
    "print(\"Data type of array arr:\", arr.dtype)\n"
   ]
  },
  {
   "cell_type": "markdown",
   "id": "ca6410a7",
   "metadata": {
    "papermill": {
     "duration": 0.008823,
     "end_time": "2022-09-16T06:14:41.562423",
     "exception": false,
     "start_time": "2022-09-16T06:14:41.553600",
     "status": "completed"
    },
    "tags": []
   },
   "source": [
    " ## Note: For i, u, f, S and U we can define size as well."
   ]
  },
  {
   "cell_type": "markdown",
   "id": "a49d7529",
   "metadata": {
    "papermill": {
     "duration": 0.00888,
     "end_time": "2022-09-16T06:14:41.580501",
     "exception": false,
     "start_time": "2022-09-16T06:14:41.571621",
     "status": "completed"
    },
    "tags": []
   },
   "source": [
    "- Create an array with data type 4 bytes integer:"
   ]
  },
  {
   "cell_type": "code",
   "execution_count": 11,
   "id": "2d546cb8",
   "metadata": {
    "execution": {
     "iopub.execute_input": "2022-09-16T06:14:41.601589Z",
     "iopub.status.busy": "2022-09-16T06:14:41.600637Z",
     "iopub.status.idle": "2022-09-16T06:14:41.611395Z",
     "shell.execute_reply": "2022-09-16T06:14:41.609701Z"
    },
    "papermill": {
     "duration": 0.024554,
     "end_time": "2022-09-16T06:14:41.614715",
     "exception": false,
     "start_time": "2022-09-16T06:14:41.590161",
     "status": "completed"
    },
    "tags": []
   },
   "outputs": [
    {
     "name": "stdout",
     "output_type": "stream",
     "text": [
      "[1 2 3 4]\n",
      "int32\n"
     ]
    }
   ],
   "source": [
    "arr = np.array([1, 2, 3, 4], dtype='i4')\n",
    "print(arr)\n",
    "print(arr.dtype)"
   ]
  },
  {
   "cell_type": "markdown",
   "id": "f91280d3",
   "metadata": {
    "papermill": {
     "duration": 0.009492,
     "end_time": "2022-09-16T06:14:41.633811",
     "exception": false,
     "start_time": "2022-09-16T06:14:41.624319",
     "status": "completed"
    },
    "tags": []
   },
   "source": [
    "- There is diffrence between type of value and given type.\n",
    "- that's why error."
   ]
  },
  {
   "cell_type": "code",
   "execution_count": null,
   "id": "e94db916",
   "metadata": {
    "papermill": {
     "duration": 0.008899,
     "end_time": "2022-09-16T06:14:41.652473",
     "exception": false,
     "start_time": "2022-09-16T06:14:41.643574",
     "status": "completed"
    },
    "tags": []
   },
   "outputs": [],
   "source": []
  },
  {
   "cell_type": "markdown",
   "id": "24eb28c7",
   "metadata": {
    "papermill": {
     "duration": 0.009711,
     "end_time": "2022-09-16T06:14:41.671778",
     "exception": false,
     "start_time": "2022-09-16T06:14:41.662067",
     "status": "completed"
    },
    "tags": []
   },
   "source": [
    "***\n",
    "#### Converting Data Type on Existing Arrays\n",
    "- The astype() function creates a copy of the array, and allows you to specify the data type as a parameter.\n",
    "\n",
    "- The data type can be specified using a string, like 'f' for float, 'i' for integer etc. or you can use the data type directly like float for float and int for integer.\n",
    "\n",
    "\n",
    "***"
   ]
  },
  {
   "cell_type": "markdown",
   "id": "c6a30b23",
   "metadata": {
    "papermill": {
     "duration": 0.009086,
     "end_time": "2022-09-16T06:14:41.690932",
     "exception": false,
     "start_time": "2022-09-16T06:14:41.681846",
     "status": "completed"
    },
    "tags": []
   },
   "source": [
    "- Change data type from float to integer by using **\"i\" as parameter value:**"
   ]
  },
  {
   "cell_type": "code",
   "execution_count": 12,
   "id": "d6743c6c",
   "metadata": {
    "execution": {
     "iopub.execute_input": "2022-09-16T06:14:41.711735Z",
     "iopub.status.busy": "2022-09-16T06:14:41.711331Z",
     "iopub.status.idle": "2022-09-16T06:14:41.718782Z",
     "shell.execute_reply": "2022-09-16T06:14:41.717482Z"
    },
    "papermill": {
     "duration": 0.021642,
     "end_time": "2022-09-16T06:14:41.721902",
     "exception": false,
     "start_time": "2022-09-16T06:14:41.700260",
     "status": "completed"
    },
    "tags": []
   },
   "outputs": [
    {
     "name": "stdout",
     "output_type": "stream",
     "text": [
      "New array with int value [1 2 3]\n",
      "Old Data type: float64\n",
      "New data type: int32\n"
     ]
    }
   ],
   "source": [
    "arr = np.array([1.1, 2.1, 3.1])\n",
    "\n",
    "newarr = arr.astype('i')\n",
    "\n",
    "print(\"New array with int value\",newarr)\n",
    "print(\"Old Data type:\",arr.dtype)\n",
    "print(\"New data type:\",newarr.dtype)"
   ]
  },
  {
   "cell_type": "markdown",
   "id": "44c4a41a",
   "metadata": {
    "papermill": {
     "duration": 0.009094,
     "end_time": "2022-09-16T06:14:41.741315",
     "exception": false,
     "start_time": "2022-09-16T06:14:41.732221",
     "status": "completed"
    },
    "tags": []
   },
   "source": [
    "- Change data type from float to integer by using **int as parameter value:**"
   ]
  },
  {
   "cell_type": "code",
   "execution_count": 13,
   "id": "02fc97ff",
   "metadata": {
    "execution": {
     "iopub.execute_input": "2022-09-16T06:14:41.762791Z",
     "iopub.status.busy": "2022-09-16T06:14:41.762394Z",
     "iopub.status.idle": "2022-09-16T06:14:41.768785Z",
     "shell.execute_reply": "2022-09-16T06:14:41.767880Z"
    },
    "papermill": {
     "duration": 0.020696,
     "end_time": "2022-09-16T06:14:41.771723",
     "exception": false,
     "start_time": "2022-09-16T06:14:41.751027",
     "status": "completed"
    },
    "tags": []
   },
   "outputs": [
    {
     "name": "stdout",
     "output_type": "stream",
     "text": [
      "New array with int value [1 2 3]\n",
      "Old Data type: float64\n",
      "New data type: int64\n"
     ]
    }
   ],
   "source": [
    "arr = np.array([1.1, 2.1, 3.1])\n",
    "\n",
    "newarr = arr.astype(int)\n",
    "\n",
    "print(\"New array with int value\",newarr)\n",
    "print(\"Old Data type:\",arr.dtype)\n",
    "print(\"New data type:\",newarr.dtype)"
   ]
  },
  {
   "cell_type": "code",
   "execution_count": 14,
   "id": "e13875d6",
   "metadata": {
    "execution": {
     "iopub.execute_input": "2022-09-16T06:14:41.794086Z",
     "iopub.status.busy": "2022-09-16T06:14:41.793365Z",
     "iopub.status.idle": "2022-09-16T06:14:41.800193Z",
     "shell.execute_reply": "2022-09-16T06:14:41.798750Z"
    },
    "papermill": {
     "duration": 0.020825,
     "end_time": "2022-09-16T06:14:41.803373",
     "exception": false,
     "start_time": "2022-09-16T06:14:41.782548",
     "status": "completed"
    },
    "tags": []
   },
   "outputs": [
    {
     "name": "stdout",
     "output_type": "stream",
     "text": [
      "New array with int value [ True False  True]\n",
      "Old Data type: float64\n",
      "New data type: bool\n"
     ]
    }
   ],
   "source": [
    "arr = np.array([1, 0, 3.1])\n",
    "\n",
    "newarr = arr.astype(bool)\n",
    "\n",
    "print(\"New array with int value\",newarr)\n",
    "print(\"Old Data type:\",arr.dtype)\n",
    "print(\"New data type:\",newarr.dtype)"
   ]
  },
  {
   "cell_type": "code",
   "execution_count": 15,
   "id": "1ad54eb0",
   "metadata": {
    "execution": {
     "iopub.execute_input": "2022-09-16T06:14:41.824613Z",
     "iopub.status.busy": "2022-09-16T06:14:41.824181Z",
     "iopub.status.idle": "2022-09-16T06:14:41.839836Z",
     "shell.execute_reply": "2022-09-16T06:14:41.838610Z"
    },
    "papermill": {
     "duration": 0.029742,
     "end_time": "2022-09-16T06:14:41.842960",
     "exception": false,
     "start_time": "2022-09-16T06:14:41.813218",
     "status": "completed"
    },
    "tags": []
   },
   "outputs": [
    {
     "name": "stdout",
     "output_type": "stream",
     "text": [
      "Data type of float value array: float64\n",
      "Data type of str value array: <U6\n",
      "Data type of mix value array: <U32\n"
     ]
    }
   ],
   "source": [
    "flaotarr=np.array([1.0,2,3,4])\n",
    "strarr=np.array([\"this\",\"is\",\"bhawan\"])\n",
    "strflaotintarr=np.array([1,2,3.5,\"bhawan\"])\n",
    "\n",
    "print(\"Data type of float value array:\",flaotarr.dtype)\n",
    "print(\"Data type of str value array:\",strarr.dtype)\n",
    "print(\"Data type of mix value array:\",strflaotintarr.dtype)"
   ]
  },
  {
   "cell_type": "markdown",
   "id": "7d9edfc9",
   "metadata": {
    "papermill": {
     "duration": 0.009461,
     "end_time": "2022-09-16T06:14:41.864709",
     "exception": false,
     "start_time": "2022-09-16T06:14:41.855248",
     "status": "completed"
    },
    "tags": []
   },
   "source": [
    "### Use of Ones():\n",
    "- Python numpy.ones() function returns a new array of given shape and data type, where the element’s value is set to 1.\n",
    "\n",
    "- **Syntex:** <H3>ones(shape, dtype=None, order='C')</H3>"
   ]
  },
  {
   "cell_type": "code",
   "execution_count": 16,
   "id": "68478287",
   "metadata": {
    "execution": {
     "iopub.execute_input": "2022-09-16T06:14:41.893686Z",
     "iopub.status.busy": "2022-09-16T06:14:41.893121Z",
     "iopub.status.idle": "2022-09-16T06:14:41.906101Z",
     "shell.execute_reply": "2022-09-16T06:14:41.902419Z"
    },
    "papermill": {
     "duration": 0.031491,
     "end_time": "2022-09-16T06:14:41.909453",
     "exception": false,
     "start_time": "2022-09-16T06:14:41.877962",
     "status": "completed"
    },
    "tags": []
   },
   "outputs": [
    {
     "name": "stdout",
     "output_type": "stream",
     "text": [
      "Ones array:\n",
      " [[1. 1.]\n",
      " [1. 1.]]\n",
      "\n",
      "#### Change in type of array:\n",
      "\n",
      "Ones array:\n",
      " [[1 1 1 1]\n",
      " [1 1 1 1]\n",
      " [1 1 1 1]\n",
      " [1 1 1 1]]\n",
      "\n",
      "Ones array 3-D\n",
      " [[[1 1 1]\n",
      "  [1 1 1]\n",
      "  [1 1 1]\n",
      "  [1 1 1]]\n",
      "\n",
      " [[1 1 1]\n",
      "  [1 1 1]\n",
      "  [1 1 1]\n",
      "  [1 1 1]]\n",
      "\n",
      " [[1 1 1]\n",
      "  [1 1 1]\n",
      "  [1 1 1]\n",
      "  [1 1 1]]\n",
      "\n",
      " [[1 1 1]\n",
      "  [1 1 1]\n",
      "  [1 1 1]\n",
      "  [1 1 1]]]\n",
      "\n",
      "#### MIX value type of array:\n",
      "\n",
      "Ones array:\n",
      " [[(1, 1.) (1, 1.) (1, 1.)]\n",
      " [(1, 1.) (1, 1.) (1, 1.)]\n",
      " [(1, 1.) (1, 1.) (1, 1.)]]\n"
     ]
    }
   ],
   "source": [
    "onesarr=np.ones((2,2))\n",
    "print(\"Ones array:\\n\",onesarr)\n",
    "\n",
    "############################\n",
    "\n",
    "print(\"\\n#### Change in type of array:\")\n",
    "onesarr=np.ones((4,4),dtype=int)\n",
    "print(\"\\nOnes array:\\n\",onesarr)\n",
    "\n",
    "onesarr=np.ones((4,4,3),dtype=int)\n",
    "print(\"\\nOnes array 3-D\\n\",onesarr)\n",
    "\n",
    "###########################\n",
    "\n",
    "print(\"\\n#### MIX value type of array:\")\n",
    "onesarr=np.ones((3,3),dtype=[('x',int),('y',float)])\n",
    "print(\"\\nOnes array:\\n\",onesarr)\n"
   ]
  },
  {
   "cell_type": "markdown",
   "id": "3f3f0765",
   "metadata": {
    "papermill": {
     "duration": 0.009972,
     "end_time": "2022-09-16T06:14:41.931723",
     "exception": false,
     "start_time": "2022-09-16T06:14:41.921751",
     "status": "completed"
    },
    "tags": []
   },
   "source": [
    "### Use of Zeros():\n",
    "- Return a new array of given shape and type, filled with zeros.\n",
    "\n",
    "- **Syntex:** <H3>numpy.zeros(shape, dtype=float, order='C', *, like=None)\n",
    "</H3>"
   ]
  },
  {
   "cell_type": "code",
   "execution_count": 17,
   "id": "aa10f52e",
   "metadata": {
    "execution": {
     "iopub.execute_input": "2022-09-16T06:14:41.957548Z",
     "iopub.status.busy": "2022-09-16T06:14:41.957117Z",
     "iopub.status.idle": "2022-09-16T06:14:41.967787Z",
     "shell.execute_reply": "2022-09-16T06:14:41.966389Z"
    },
    "papermill": {
     "duration": 0.025657,
     "end_time": "2022-09-16T06:14:41.970315",
     "exception": false,
     "start_time": "2022-09-16T06:14:41.944658",
     "status": "completed"
    },
    "tags": []
   },
   "outputs": [
    {
     "name": "stdout",
     "output_type": "stream",
     "text": [
      "Zeros array:\n",
      " [[0. 0. 0.]\n",
      " [0. 0. 0.]\n",
      " [0. 0. 0.]]\n",
      "\n",
      "#### Change in type of array:\n",
      "\n",
      "Zeros array:\n",
      " [[0 0 0 0]\n",
      " [0 0 0 0]\n",
      " [0 0 0 0]\n",
      " [0 0 0 0]]\n",
      "\n",
      "Zeros array 3-D\n",
      " [[[0 0 0]\n",
      "  [0 0 0]\n",
      "  [0 0 0]\n",
      "  [0 0 0]]\n",
      "\n",
      " [[0 0 0]\n",
      "  [0 0 0]\n",
      "  [0 0 0]\n",
      "  [0 0 0]]\n",
      "\n",
      " [[0 0 0]\n",
      "  [0 0 0]\n",
      "  [0 0 0]\n",
      "  [0 0 0]]\n",
      "\n",
      " [[0 0 0]\n",
      "  [0 0 0]\n",
      "  [0 0 0]\n",
      "  [0 0 0]]]\n",
      "\n",
      "#### MIX value type of array:\n",
      "\n",
      "O's array:\n",
      " [[(0, 0.) (0, 0.) (0, 0.)]\n",
      " [(0, 0.) (0, 0.) (0, 0.)]\n",
      " [(0, 0.) (0, 0.) (0, 0.)]]\n"
     ]
    }
   ],
   "source": [
    "zrerosarr=np.zeros((3,3))\n",
    "print(\"Zeros array:\\n\",zrerosarr)\n",
    "\n",
    "############################\n",
    "\n",
    "print(\"\\n#### Change in type of array:\")\n",
    "zrerosarr=np.zeros((4,4),dtype=int)\n",
    "print(\"\\nZeros array:\\n\",zrerosarr)\n",
    "\n",
    "zrerosarr=np.zeros((4,4,3),dtype=int)\n",
    "print(\"\\nZeros array 3-D\\n\",zrerosarr)\n",
    "\n",
    "###########################\n",
    "\n",
    "print(\"\\n#### MIX value type of array:\")\n",
    "zrerosarr=np.zeros((3,3),dtype=[('x',int),('y',float)])\n",
    "print(\"\\nO's array:\\n\",zrerosarr)\n"
   ]
  },
  {
   "cell_type": "markdown",
   "id": "6e96f234",
   "metadata": {
    "papermill": {
     "duration": 0.009485,
     "end_time": "2022-09-16T06:14:41.990962",
     "exception": false,
     "start_time": "2022-09-16T06:14:41.981477",
     "status": "completed"
    },
    "tags": []
   },
   "source": [
    "### Use of empty():\n",
    "-Return a new array of given shape and type, without initializing entries.\n",
    "- **Syntex:** <H3>numpy.empty(shape, dtype=float, order='C', *, like=None)\n",
    "</H3>\n"
   ]
  },
  {
   "cell_type": "code",
   "execution_count": 18,
   "id": "87f56998",
   "metadata": {
    "execution": {
     "iopub.execute_input": "2022-09-16T06:14:42.013284Z",
     "iopub.status.busy": "2022-09-16T06:14:42.012002Z",
     "iopub.status.idle": "2022-09-16T06:14:42.022700Z",
     "shell.execute_reply": "2022-09-16T06:14:42.021704Z"
    },
    "papermill": {
     "duration": 0.024851,
     "end_time": "2022-09-16T06:14:42.025701",
     "exception": false,
     "start_time": "2022-09-16T06:14:42.000850",
     "status": "completed"
    },
    "tags": []
   },
   "outputs": [
    {
     "name": "stdout",
     "output_type": "stream",
     "text": [
      "Empty array:\n",
      " [[0. 0. 0.]\n",
      " [0. 0. 0.]\n",
      " [0. 0. 0.]]\n",
      "\n",
      "###################################################################################\n",
      "\n",
      "#### Change in type of array:\n",
      "\n",
      " Empty array:\n",
      " [[0 0 0]\n",
      " [0 0 0]\n",
      " [0 0 0]]\n",
      "\n",
      " Empty array 3-D\n",
      " [[[94536796243968              0 10020158701575]\n",
      "  [             0    17179869187              0]\n",
      "  [             0   137438953494              0]]\n",
      "\n",
      " [[             0              0              0]\n",
      "  [             0              0              0]\n",
      "  [             0              0              0]]\n",
      "\n",
      " [[             0              0              0]\n",
      "  [             0 94536801903520 94536801903936]\n",
      "  [94536801904192              0              0]]]\n",
      "\n",
      "###################################################################################\n",
      "\n",
      "#### MIX value type of array:\n",
      "\n",
      " Empty array:\n",
      " [[( 94536802550064, 0.00000000e+000) (140088178245232, 6.92132939e-310)\n",
      "  (140089267180528, 6.92132939e-310)]\n",
      " [(140088178245168, 6.92132939e-310) (140088178245104, 6.92132939e-310)\n",
      "  (140088178245040, 6.92132939e-310)]\n",
      " [(140088178244720, 6.92132939e-310) (140088178244656, 6.92132939e-310)\n",
      "  (140088178244528, 6.92132939e-310)]]\n"
     ]
    }
   ],
   "source": [
    "emptyarr=np.empty((3,3))\n",
    "print(\"Empty array:\\n\",emptyarr)\n",
    "\n",
    "print(\"\\n###################################################################################\")\n",
    "\n",
    "print(\"\\n#### Change in type of array:\")\n",
    "emptyarr=np.empty((3,3),dtype=int)\n",
    "print(\"\\n Empty array:\\n\", emptyarr)\n",
    "\n",
    "emptyarr=np.empty((3,3,3),dtype=int)\n",
    "print(\"\\n Empty array 3-D\\n\", emptyarr)\n",
    "\n",
    "print(\"\\n###################################################################################\")\n",
    "\n",
    "print(\"\\n#### MIX value type of array:\")\n",
    "emptyarr=np.empty((3,3),dtype=[('x',int),('y',float)])\n",
    "print(\"\\n Empty array:\\n\",emptyarr)\n"
   ]
  },
  {
   "cell_type": "markdown",
   "id": "ce13e349",
   "metadata": {
    "papermill": {
     "duration": 0.009587,
     "end_time": "2022-09-16T06:14:42.046724",
     "exception": false,
     "start_time": "2022-09-16T06:14:42.037137",
     "status": "completed"
    },
    "tags": []
   },
   "source": [
    "### Use of empty_like():\n",
    "- Return a new array with the same shape and type as a given array.\n",
    "- **Syntex:** <H3>numpy.empty_like(prototype, dtype=None, order='K', subok=True, shape=None)\n",
    "</H3>\n"
   ]
  },
  {
   "cell_type": "code",
   "execution_count": 19,
   "id": "a421f9b9",
   "metadata": {
    "execution": {
     "iopub.execute_input": "2022-09-16T06:14:42.069170Z",
     "iopub.status.busy": "2022-09-16T06:14:42.067497Z",
     "iopub.status.idle": "2022-09-16T06:14:42.079624Z",
     "shell.execute_reply": "2022-09-16T06:14:42.078354Z"
    },
    "papermill": {
     "duration": 0.02569,
     "end_time": "2022-09-16T06:14:42.082226",
     "exception": false,
     "start_time": "2022-09-16T06:14:42.056536",
     "status": "completed"
    },
    "tags": []
   },
   "outputs": [
    {
     "name": "stdout",
     "output_type": "stream",
     "text": [
      "Empty array:\n",
      " [[1 2 3 4]\n",
      " [1 2 3 4]\n",
      " [1 2 3 4]]\n",
      "\n",
      " Type of empty_like: int64\n",
      "\n",
      "###################################################################################\n",
      "\n",
      "#### Change in type of array:\n",
      "\n",
      " Empty array:\n",
      " [[4.67073870e-310 0.00000000e+000 0.00000000e+000 0.00000000e+000]\n",
      " [6.92110147e-310 9.58873507e-043 7.24898036e+169 4.42905953e+175]\n",
      " [2.98592350e-032 1.25780474e-071 1.04874283e+165 7.31975365e+169]]\n",
      "\n",
      "###################################################################################\n",
      "\n",
      "#### MIX value type of array:\n",
      "\n",
      " Empty array:\n",
      " [[(4596373779694328218, 0.2 ) (4603579539098121011, 1.  )\n",
      "  (                  0, 0.6 ) (4607182418800017408, 1.  )]\n",
      " [(                  0, 0.8 ) (4600877379321698714, 1.  )\n",
      "  (4607182418800017408, 1.  ) (4603579539098121011, 1.  )]\n",
      " [(4602678819172646912, 0.36) (4599616371426034975, 1.  )\n",
      "  (4607182418800017408, 1.  ) (4607182418800017408, 1.  )]]\n",
      "\n",
      "###################################################################################\n",
      "\n",
      "#### Change in Subok and Shape:\n",
      "\n",
      " Empty array:\n",
      " [[0.2  1.   0.6 ]\n",
      " [1.   0.8  1.  ]\n",
      " [1.   1.   0.36]\n",
      " [1.   1.   1.  ]]\n"
     ]
    }
   ],
   "source": [
    "arr2d=np.array([[1,2,3,4],\n",
    "                [1,2,3,4],\n",
    "                [1,2,3,4],\n",
    "               ])\n",
    "\n",
    "emptyarr_like=np.empty_like(arr2d)\n",
    "print(\"Empty array:\\n\",emptyarr_like)\n",
    "\n",
    "print(\"\\n Type of empty_like:\",emptyarr_like.dtype)\n",
    "\n",
    "print(\"\\n###################################################################################\")\n",
    "\n",
    "print(\"\\n#### Change in type of array:\")\n",
    "emptyarr_like=np.empty_like(arr2d,dtype=float)\n",
    "print(\"\\n Empty array:\\n\", emptyarr_like)\n",
    "\n",
    "print(\"\\n###################################################################################\")\n",
    "\n",
    "print(\"\\n#### MIX value type of array:\")\n",
    "emptyarr_like=np.empty_like(arr2d,dtype=[(\"x\",int),(\"y\",float)])\n",
    "print(\"\\n Empty array:\\n\",emptyarr_like)\n",
    "\n",
    "print(\"\\n###################################################################################\")\n",
    "\n",
    "print(\"\\n#### Change in Subok and Shape:\")\n",
    "\n",
    "emptyarr_like=np.empty_like(arr2d,dtype=float,subok=False,shape=(4,3))\n",
    "print(\"\\n Empty array:\\n\", emptyarr_like)"
   ]
  },
  {
   "cell_type": "markdown",
   "id": "782086e7",
   "metadata": {
    "papermill": {
     "duration": 0.00991,
     "end_time": "2022-09-16T06:14:42.102619",
     "exception": false,
     "start_time": "2022-09-16T06:14:42.092709",
     "status": "completed"
    },
    "tags": []
   },
   "source": [
    "### Use of full():\n",
    "- Return a new array of given shape and type, filled with fill_value.\n",
    "- **Syntex:** <H3>numpy.full(shape, fill_value, dtype=None, order='C', *, like=None)</H3>"
   ]
  },
  {
   "cell_type": "code",
   "execution_count": null,
   "id": "f83de9b8",
   "metadata": {
    "papermill": {
     "duration": 0.010731,
     "end_time": "2022-09-16T06:14:42.123360",
     "exception": false,
     "start_time": "2022-09-16T06:14:42.112629",
     "status": "completed"
    },
    "tags": []
   },
   "outputs": [],
   "source": []
  }
 ],
 "metadata": {
  "kernelspec": {
   "display_name": "Python 3",
   "language": "python",
   "name": "python3"
  },
  "language_info": {
   "codemirror_mode": {
    "name": "ipython",
    "version": 3
   },
   "file_extension": ".py",
   "mimetype": "text/x-python",
   "name": "python",
   "nbconvert_exporter": "python",
   "pygments_lexer": "ipython3",
   "version": "3.7.12"
  },
  "papermill": {
   "default_parameters": {},
   "duration": 12.434538,
   "end_time": "2022-09-16T06:14:42.856590",
   "environment_variables": {},
   "exception": null,
   "input_path": "__notebook__.ipynb",
   "output_path": "__notebook__.ipynb",
   "parameters": {},
   "start_time": "2022-09-16T06:14:30.422052",
   "version": "2.3.4"
  }
 },
 "nbformat": 4,
 "nbformat_minor": 5
}
