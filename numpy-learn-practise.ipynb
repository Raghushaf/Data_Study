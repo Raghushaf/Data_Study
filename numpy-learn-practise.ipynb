{
 "cells": [
  {
   "cell_type": "code",
   "execution_count": 1,
   "id": "d19c4241",
   "metadata": {
    "_cell_guid": "b1076dfc-b9ad-4769-8c92-a6c4dae69d19",
    "_uuid": "8f2839f25d086af736a60e9eeb907d3b93b6e0e5",
    "execution": {
     "iopub.execute_input": "2022-09-18T15:51:18.975971Z",
     "iopub.status.busy": "2022-09-18T15:51:18.975460Z",
     "iopub.status.idle": "2022-09-18T15:51:18.987396Z",
     "shell.execute_reply": "2022-09-18T15:51:18.986367Z"
    },
    "papermill": {
     "duration": 0.046376,
     "end_time": "2022-09-18T15:51:18.990171",
     "exception": false,
     "start_time": "2022-09-18T15:51:18.943795",
     "status": "completed"
    },
    "tags": []
   },
   "outputs": [],
   "source": [
    "# This Python 3 environment comes with many helpful analytics libraries installed\n",
    "# It is defined by the kaggle/python Docker image: https://github.com/kaggle/docker-python\n",
    "# For example, here's several helpful packages to load\n",
    "\n",
    "import numpy as np # linear algebra\n",
    "import pandas as pd # data processing, CSV file I/O (e.g. pd.read_csv)\n",
    "\n",
    "# Input data files are available in the read-only \"../input/\" directory\n",
    "# For example, running this (by clicking run or pressing Shift+Enter) will list all files under the input directory\n",
    "\n",
    "import os\n",
    "for dirname, _, filenames in os.walk('/kaggle/input'):\n",
    "    for filename in filenames:\n",
    "        print(os.path.join(dirname, filename))\n",
    "\n",
    "# You can write up to 20GB to the current directory (/kaggle/working/) that gets preserved as output when you create a version using \"Save & Run All\" \n",
    "# You can also write temporary files to /kaggle/temp/, but they won't be saved outside of the current session"
   ]
  },
  {
   "cell_type": "markdown",
   "id": "ee4fa7b3",
   "metadata": {
    "papermill": {
     "duration": 0.027195,
     "end_time": "2022-09-18T15:51:19.044513",
     "exception": false,
     "start_time": "2022-09-18T15:51:19.017318",
     "status": "completed"
    },
    "tags": []
   },
   "source": [
    "<p><strong>NumPy Basics</strong></p>\n",
    "<div class=\"table-responsive\">\n",
    "<table class=\"table table-bordered\">\n",
    "<tbody><tr>\n",
    "<th>Operator</th>\n",
    "<th>Description</th>\n",
    "</tr>\n",
    "<tr>\n",
    "<td>np.array([1,2,3])</td>\n",
    "<td>1d array</td>\n",
    "</tr>\n",
    "<tr>\n",
    "<td>np.array([(1,2,3),(4,5,6)])\t</td>\n",
    "<td>2d array</td>\n",
    "</tr>\n",
    "<tr>\n",
    "<td>np.arange(start,stop,step)</td>\n",
    "<td>range array</td>\n",
    "</tr>\n",
    "</tbody></table></div>\n",
    "<p><strong>Placeholders</strong></p>\n",
    "<div class=\"table-responsive\">\n",
    "<table class=\"table table-bordered\">\n",
    "<tbody><tr>\n",
    "<th>Operator</th>\n",
    "<th>Description</th>\n",
    "</tr>\n",
    "<tr>\n",
    "<td>np.linspace(0,2,9)</td>\n",
    "<td>Add evenly spaced values btw interval to array of length</td>\n",
    "</tr>\n",
    "<tr>\n",
    "<td>np.zeros((1,2))</td>\n",
    "<td>Create and array filled with zeros</td>\n",
    "</tr>\n",
    "<tr>\n",
    "<td>np.ones((1,2))</td>\n",
    "<td>Creates an array filled with ones</td>\n",
    "</tr>\n",
    "<tr>\n",
    "<td>np.random.random((5,5))</td>\n",
    "<td>Creates random array</td>\n",
    "</tr>\n",
    "<tr>\n",
    "<td>np.empty((2,2))</td>\n",
    "<td>Creates an empty array</td>\n",
    "</tr>\n",
    "</tbody></table></div>\n",
    "<p><strong>Array</strong></p>\n",
    "<div class=\"table-responsive\">\n",
    "<table class=\"table table-bordered\">\n",
    "<tbody><tr>\n",
    "<th>Syntax</th>\n",
    "<th>Description</th>\n",
    "</tr>\n",
    "<tr>\n",
    "<td>array.shape</td>\n",
    "<td>Dimensions (Rows,Columns)</td>\n",
    "</tr>\n",
    "<tr>\n",
    "<td>len(array)</td>\n",
    "<td>Length of Array</td>\n",
    "</tr>\n",
    "<tr>\n",
    "<td>array.ndim</td>\n",
    "<td>Number of Array Dimensions</td>\n",
    "</tr>\n",
    "<tr>\n",
    "<td>array.dtype</td>\n",
    "<td>Data Type</td>\n",
    "</tr>\n",
    "<tr>\n",
    "<td>array.astype(type)</td>\n",
    "<td>Converts to Data Type</td>\n",
    "</tr>\n",
    "<tr>\n",
    "<td>type(array)</td>\n",
    "<td>Type of Array</td>\n",
    "</tr>\n",
    "</tbody></table></div>\n",
    "<img src=\"https://www.w3resource.com/w3r_images/numpy-array-xyz-axis.png\" alt=\"NumPy: numpy array axis\" style=\"max-width:100%;display:block;height:auto;border: 2px solid silver;\"><br>\n",
    "<p><strong>Copying/Sorting</strong></p>\n",
    "<div class=\"table-responsive\">\n",
    "<table class=\"table table-bordered\">\n",
    "<tbody><tr>\n",
    "<th>Operators</th>\n",
    "<th>Description</th>\n",
    "</tr>\n",
    "<tr>\n",
    "<td>np.copy(array)</td>\n",
    "<td>Creates copy of array</td>\n",
    "</tr>\n",
    "<tr>\n",
    "<td>other = array.copy()</td>\n",
    "<td>Creates deep copy of array</td>\n",
    "</tr>\n",
    "<tr>\n",
    "<td>array.sort()</td>\n",
    "<td>Sorts an array</td>\n",
    "</tr>\n",
    "<tr>\n",
    "<td>array.sort(axis=0)</td>\n",
    "<td>Sorts axis of array</td>\n",
    "</tr>\n",
    "</tbody></table></div>\n",
    "<p><strong>Array Manipulation</strong></p>\n",
    "<p><strong>Adding or Removing Elements</strong></p>\n",
    "<div class=\"table-responsive\">\n",
    "<table class=\"table table-bordered\">\n",
    "<tbody><tr>\n",
    "<th>Operator</th>\n",
    "<th>Description</th>\n",
    "</tr>\n",
    "<tr>\n",
    "<td>np.append(a,b)</td>\n",
    "<td>Append items to array</td>\n",
    "</tr>\n",
    "<tr>\n",
    "<td>np.insert(array, 1, 2, axis)</td>\n",
    "<td>Insert items into array at axis 0 or 1</td>\n",
    "</tr>\n",
    "<tr>\n",
    "<td>np.resize((2,4))</td>\n",
    "<td>Resize array to shape(2,4)</td>\n",
    "</tr>\n",
    "<tr>\n",
    "<td>np.delete(array,1,axis)</td>\n",
    "<td>Deletes items from array</td>\n",
    "</tr>\n",
    "</tbody></table></div>\n",
    "<p><strong>Combining Arrays</strong></p>\n",
    "<div class=\"table-responsive\">\n",
    "<table class=\"table table-bordered\">\n",
    "<tbody><tr>\n",
    "<th>Operator</th>\n",
    "<th>Description</th>\n",
    "</tr>\n",
    "<tr>\n",
    "<td>np.concatenate((a,b),axis=0)</td>\n",
    "<td>Concatenates 2 arrays, adds to end</td>\n",
    "</tr>\n",
    "<tr>\n",
    "<td>np.vstack((a,b))</td>\n",
    "<td>Stack array row-wise</td>\n",
    "</tr>\n",
    "<tr>\n",
    "<td>np.hstack((a,b))</td>\n",
    "<td>Stack array column wise</td>\n",
    "</tr>\n",
    "</tbody></table></div>\n",
    "<p><strong>Splitting Arrays</strong></p>\n",
    "<div class=\"table-responsive\">\n",
    "<table class=\"table table-bordered\">\n",
    "<tbody><tr>\n",
    "<th>Operator</th>\n",
    "<th>Description</th>\n",
    "</tr>\n",
    "<tr>\n",
    "<td>numpy.split()</td>\n",
    "<td>Split an array into multiple sub-arrays.</td>\n",
    "</tr>\n",
    "<tr>\n",
    "<td>np.array_split(array, 3)</td>\n",
    "<td>Split an array in sub-arrays of (nearly) identical size</td>\n",
    "</tr>\n",
    "<tr>\n",
    "<td>numpy.hsplit(array, 3)</td>\n",
    "<td>Split the array horizontally at 3rd index</td>\n",
    "</tr>\n",
    "</tbody></table></div>\n",
    "<p><strong>More</strong></p>\n",
    "<div class=\"table-responsive\">\n",
    "<table class=\"table table-bordered\">\n",
    "<tbody><tr>\n",
    "<th>Operator</th>\n",
    "<th>Description</th>\n",
    "</tr>\n",
    "<tr>\n",
    "<td>other = ndarray.flatten()</td>\n",
    "<td>Flattens a 2d array to 1d</td>\n",
    "</tr>\n",
    "<tr>\n",
    "<td>array = np.transpose(other)<br>array.T</td>\n",
    "<td>Transpose array</td>\n",
    "</tr>\n",
    "<tr>\n",
    "<td>inverse = np.linalg.inv(matrix)</td>\n",
    "<td>Inverse of a given matrix</td>\n",
    "</tr>\n",
    "<tr>\n",
    "<td></td>\n",
    "<td></td>\n",
    "</tr>\n",
    "</tbody></table></div>\n",
    "<p><strong>Mathematics</strong></p>\n",
    "<p><strong>Operations</strong></p>\n",
    "<div class=\"table-responsive\">\n",
    "<table class=\"table table-bordered\">\n",
    "<tbody><tr>\n",
    "<th>Operator</th>\n",
    "<th>Description</th>\n",
    "</tr>\n",
    "<tr>\n",
    "<td>np.add(x,y)<br>x + y</td>\n",
    "<td>Addition</td>\n",
    "</tr>\n",
    "<tr>\n",
    "<td>np.substract(x,y)<br>x - y</td>\n",
    "<td>Subtraction</td>\n",
    "</tr>\n",
    "<tr>\n",
    "<td>np.divide(x,y)<br>x / y</td>\n",
    "<td>Division</td>\n",
    "</tr>\n",
    "<tr>\n",
    "<td>np.multiply(x,y)<br>x @ y</td>\n",
    "<td>Multiplication</td>\n",
    "</tr>\n",
    "<tr>\n",
    "<td>np.sqrt(x)</td>\n",
    "<td>Square Root</td>\n",
    "</tr>\n",
    "<tr>\n",
    "<td>np.sin(x)</td>\n",
    "<td>Element-wise sine</td>\n",
    "</tr>\n",
    "<tr>\n",
    "<td>np.cos(x)</td>\n",
    "<td>Element-wise cosine</td>\n",
    "</tr>\n",
    "<tr>\n",
    "<td>np.log(x)</td>\n",
    "<td>Element-wise natural log</td>\n",
    "</tr>\n",
    "<tr>\n",
    "<td>np.dot(x,y)</td>\n",
    "<td>Dot product</td>\n",
    "</tr>\n",
    "<tr>\n",
    "<td>np.roots([1,0,-4])</td>\n",
    "<td>Roots of a given polynomial coefficients</td>\n",
    "</tr>\n",
    "</tbody></table></div>\n",
    "<p><strong>Comparison</strong></p>\n",
    "<div class=\"table-responsive\">\n",
    "<table class=\"table table-bordered\">\n",
    "<tbody><tr>\n",
    "<th>Operator</th>\n",
    "<th>Description</th>\n",
    "</tr>\n",
    "<tr>\n",
    "<td>==</td>\n",
    "<td>Equal</td>\n",
    "</tr>\n",
    "<tr>\n",
    "<td>!=</td>\n",
    "<td>Not equal</td>\n",
    "</tr>\n",
    "<tr>\n",
    "<td>&lt;</td>\n",
    "<td>Smaller than</td>\n",
    "</tr>\n",
    "<tr>\n",
    "<td>&gt;</td>\n",
    "<td>Greater than</td>\n",
    "</tr>\n",
    "<tr>\n",
    "<td>&lt;=</td>\n",
    "<td>Smaller than or equal</td>\n",
    "</tr>\n",
    "<tr>\n",
    "<td>&gt;=</td>\n",
    "<td>Greater than or equal</td>\n",
    "</tr>\n",
    "<tr>\n",
    "<td>np.array_equal(x,y)</td>\n",
    "<td>Array-wise comparison</td>\n",
    "</tr>\n",
    "</tbody></table></div>\n",
    "<p><strong>Basic Statistics</strong></p>\n",
    "<div class=\"table-responsive\">\n",
    "<table class=\"table table-bordered\">\n",
    "<tbody><tr>\n",
    "<th>Operator</th>\n",
    "<th>Description</th>\n",
    "</tr>\n",
    "<tr>\n",
    "<td>np.mean(array)</td>\n",
    "<td>Mean</td>\n",
    "</tr>\n",
    "<tr>\n",
    "<td>np.median(array)</td>\n",
    "<td>Median</td>\n",
    "</tr>\n",
    "<tr>\n",
    "<td>array.corrcoef()</td>\n",
    "<td>Correlation Coefficient</td>\n",
    "</tr>\n",
    "<tr>\n",
    "<td>np.std(array)</td>\n",
    "<td>Standard Deviation</td>\n",
    "</tr>\n",
    "</tbody></table></div>\n",
    "<p><strong>More</strong></p>\n",
    "<div class=\"table-responsive\">\n",
    "<table class=\"table table-bordered\">\n",
    "<tbody><tr>\n",
    "<th>Operator</th>\n",
    "<th>Description</th>\n",
    "</tr>\n",
    "<tr>\n",
    "<td>array.sum()</td>\n",
    "<td>Array-wise sum</td>\n",
    "</tr>\n",
    "<tr>\n",
    "<td>array.min()</td>\n",
    "<td>Array-wise minimum value</td>\n",
    "</tr>\n",
    "<tr>\n",
    "<td>array.max(axis=0)</td>\n",
    "<td>Maximum value of specified axis</td>\n",
    "</tr>\n",
    "<tr>\n",
    "<td>array.cumsum(axis=0)</td>\n",
    "<td>Cumulative sum of specified axis</td>\n",
    "</tr>\n",
    "</tbody></table></div>\n",
    "<p><strong>Slicing and Subsetting</strong></p>\n",
    "<div class=\"table-responsive\">\n",
    "<table class=\"table table-bordered\">\n",
    "<tbody><tr>\n",
    "<th>Operator</th>\n",
    "<th>Description</th>\n",
    "</tr>\n",
    "<tr>\n",
    "<td>array[i]</td>\n",
    "<td>1d array at index i</td>\n",
    "</tr>\n",
    "<tr>\n",
    "<td>array[i,j]</td>\n",
    "<td>2d array at index[i][j]</td>\n",
    "</tr>\n",
    "<tr>\n",
    "<td>array[i&lt;4]</td>\n",
    "<td>Boolean Indexing, see Tricks</td>\n",
    "</tr>\n",
    "<tr>\n",
    "<td>array[0:3]</td>\n",
    "<td>Select items of index 0, 1 and 2</td>\n",
    "</tr>\n",
    "<tr>\n",
    "<td>array[0:2,1]</td>\n",
    "<td>Select items of rows 0 and 1 at column 1</td>\n",
    "</tr>\n",
    "<tr>\n",
    "<td>array[:1]</td>\n",
    "<td>Select items of row 0 (equals array[0:1, :])</td>\n",
    "</tr>\n",
    "<tr>\n",
    "<td>array[1:2, :]</td>\n",
    "<td>Select items of row 1</td>\n",
    "</tr>\n",
    "<tr>\n",
    "<td>[comment]: &lt;&gt; (</td>\n",
    "<td>array[1,...]</td>\n",
    "</tr>\n",
    "<tr>\n",
    "<td>array[ : :-1]</td>\n",
    "<td>Reverses array</td>\n",
    "</tr>\n",
    "</tbody></table></div>\n",
    "<p><strong>Importing/exporting</strong></p>\n",
    "<div class=\"table-responsive\">\n",
    "<table class=\"table table-bordered\">\n",
    "<tbody><tr>\n",
    "<th>Syntax</th>\n",
    "<th>Description</th>\n",
    "</tr>\n",
    "<tr>\n",
    "<td>np.loadtxt('file.txt')</td>\n",
    "<td>From a text file. </td>\n",
    "</tr>\n",
    "<tr>\n",
    "<td>np.genfromtxt('file.csv',delimiter=',') </td>\n",
    "<td>From a csv file.</td>\n",
    "</tr>\n",
    "<tr>\n",
    "<td>np.savetxt('file.txt',arr,delimiter=' ') </td>\n",
    "<td>Writes to a text file.</td>\n",
    "</tr>\n",
    "<tr>\n",
    "<td>np.savetxt('file.csv',arr,delimiter=',') </td>\n",
    "<td>Writes to a CSV file.</td>\n",
    "</tr>\n",
    "</tbody></table></div>"
   ]
  },
  {
   "cell_type": "markdown",
   "id": "c04d0cc2",
   "metadata": {
    "papermill": {
     "duration": 0.02653,
     "end_time": "2022-09-18T15:51:19.097497",
     "exception": false,
     "start_time": "2022-09-18T15:51:19.070967",
     "status": "completed"
    },
    "tags": []
   },
   "source": [
    "### Creating 1-D Array:"
   ]
  },
  {
   "cell_type": "code",
   "execution_count": 2,
   "id": "000e394f",
   "metadata": {
    "execution": {
     "iopub.execute_input": "2022-09-18T15:51:19.152349Z",
     "iopub.status.busy": "2022-09-18T15:51:19.151962Z",
     "iopub.status.idle": "2022-09-18T15:51:19.158967Z",
     "shell.execute_reply": "2022-09-18T15:51:19.158115Z"
    },
    "papermill": {
     "duration": 0.038399,
     "end_time": "2022-09-18T15:51:19.162347",
     "exception": false,
     "start_time": "2022-09-18T15:51:19.123948",
     "status": "completed"
    },
    "tags": []
   },
   "outputs": [
    {
     "name": "stdout",
     "output_type": "stream",
     "text": [
      "This is 1-D array: [1 2 3 4 5]\n"
     ]
    }
   ],
   "source": [
    "arr1d=np.array([1,2,3,4,5])\n",
    "print(\"This is 1-D array:\",arr1d)"
   ]
  },
  {
   "cell_type": "markdown",
   "id": "7fcc8868",
   "metadata": {
    "papermill": {
     "duration": 0.028852,
     "end_time": "2022-09-18T15:51:19.219278",
     "exception": false,
     "start_time": "2022-09-18T15:51:19.190426",
     "status": "completed"
    },
    "tags": []
   },
   "source": [
    "### Creating 2-D Array:"
   ]
  },
  {
   "cell_type": "code",
   "execution_count": 3,
   "id": "7d61de14",
   "metadata": {
    "execution": {
     "iopub.execute_input": "2022-09-18T15:51:19.274089Z",
     "iopub.status.busy": "2022-09-18T15:51:19.273694Z",
     "iopub.status.idle": "2022-09-18T15:51:19.279907Z",
     "shell.execute_reply": "2022-09-18T15:51:19.278666Z"
    },
    "papermill": {
     "duration": 0.036756,
     "end_time": "2022-09-18T15:51:19.282514",
     "exception": false,
     "start_time": "2022-09-18T15:51:19.245758",
     "status": "completed"
    },
    "tags": []
   },
   "outputs": [
    {
     "name": "stdout",
     "output_type": "stream",
     "text": [
      "This is 2-D array:\n",
      "\n",
      " [[1 2 3 4]\n",
      " [1 2 3 4]\n",
      " [1 2 3 4]]\n"
     ]
    }
   ],
   "source": [
    "arr2d=np.array([[1,2,3,4],\n",
    "                [1,2,3,4],\n",
    "                [1,2,3,4],\n",
    "               ])\n",
    "print(\"This is 2-D array:\\n\\n\",arr2d)"
   ]
  },
  {
   "cell_type": "markdown",
   "id": "604a566f",
   "metadata": {
    "papermill": {
     "duration": 0.026689,
     "end_time": "2022-09-18T15:51:19.336204",
     "exception": false,
     "start_time": "2022-09-18T15:51:19.309515",
     "status": "completed"
    },
    "tags": []
   },
   "source": [
    "### Creating 3-D or Multi-D Array:"
   ]
  },
  {
   "cell_type": "code",
   "execution_count": 4,
   "id": "fe45cd56",
   "metadata": {
    "execution": {
     "iopub.execute_input": "2022-09-18T15:51:19.392222Z",
     "iopub.status.busy": "2022-09-18T15:51:19.391759Z",
     "iopub.status.idle": "2022-09-18T15:51:19.400091Z",
     "shell.execute_reply": "2022-09-18T15:51:19.398344Z"
    },
    "papermill": {
     "duration": 0.039465,
     "end_time": "2022-09-18T15:51:19.402782",
     "exception": false,
     "start_time": "2022-09-18T15:51:19.363317",
     "status": "completed"
    },
    "tags": []
   },
   "outputs": [
    {
     "name": "stdout",
     "output_type": "stream",
     "text": [
      "This is 3-D array:\n",
      "\n",
      " [[[1 2 3 4]\n",
      "  [1 2 3 4]\n",
      "  [1 2 3 4]]\n",
      "\n",
      " [[1 2 3 4]\n",
      "  [1 2 3 4]\n",
      "  [1 2 3 4]]\n",
      "\n",
      " [[1 2 3 4]\n",
      "  [1 2 3 4]\n",
      "  [1 2 3 4]]]\n"
     ]
    }
   ],
   "source": [
    "arr3d=np.array([[[1,2,3,4],\n",
    "                [1,2,3,4],\n",
    "                [1,2,3,4],\n",
    "               ],\n",
    "               [[1,2,3,4],\n",
    "                [1,2,3,4],\n",
    "                [1,2,3,4],\n",
    "               ],\n",
    "                [[1,2,3,4],\n",
    "                [1,2,3,4],\n",
    "                [1,2,3,4],\n",
    "               ]])\n",
    "print(\"This is 3-D array:\\n\\n\",arr3d)"
   ]
  },
  {
   "cell_type": "markdown",
   "id": "51990aae",
   "metadata": {
    "papermill": {
     "duration": 0.027445,
     "end_time": "2022-09-18T15:51:19.457170",
     "exception": false,
     "start_time": "2022-09-18T15:51:19.429725",
     "status": "completed"
    },
    "tags": []
   },
   "source": [
    "### Use of type() function:\n",
    "- It will give the type of object.\n"
   ]
  },
  {
   "cell_type": "code",
   "execution_count": 5,
   "id": "b32ffaf3",
   "metadata": {
    "execution": {
     "iopub.execute_input": "2022-09-18T15:51:19.512611Z",
     "iopub.status.busy": "2022-09-18T15:51:19.512173Z",
     "iopub.status.idle": "2022-09-18T15:51:19.518425Z",
     "shell.execute_reply": "2022-09-18T15:51:19.516924Z"
    },
    "papermill": {
     "duration": 0.036434,
     "end_time": "2022-09-18T15:51:19.520679",
     "exception": false,
     "start_time": "2022-09-18T15:51:19.484245",
     "status": "completed"
    },
    "tags": []
   },
   "outputs": [
    {
     "name": "stdout",
     "output_type": "stream",
     "text": [
      "type of array 1-D array: <class 'numpy.ndarray'>\n"
     ]
    }
   ],
   "source": [
    "print(\"type of array 1-D array:\",type(arr1d))"
   ]
  },
  {
   "cell_type": "markdown",
   "id": "c85b841f",
   "metadata": {
    "papermill": {
     "duration": 0.02621,
     "end_time": "2022-09-18T15:51:19.574150",
     "exception": false,
     "start_time": "2022-09-18T15:51:19.547940",
     "status": "completed"
    },
    "tags": []
   },
   "source": [
    "### Use of ndim:\n",
    "- It will give the dimention of NumPy array."
   ]
  },
  {
   "cell_type": "code",
   "execution_count": 6,
   "id": "9e8e849f",
   "metadata": {
    "execution": {
     "iopub.execute_input": "2022-09-18T15:51:19.629414Z",
     "iopub.status.busy": "2022-09-18T15:51:19.628968Z",
     "iopub.status.idle": "2022-09-18T15:51:19.635094Z",
     "shell.execute_reply": "2022-09-18T15:51:19.633891Z"
    },
    "papermill": {
     "duration": 0.037078,
     "end_time": "2022-09-18T15:51:19.637968",
     "exception": false,
     "start_time": "2022-09-18T15:51:19.600890",
     "status": "completed"
    },
    "tags": []
   },
   "outputs": [
    {
     "name": "stdout",
     "output_type": "stream",
     "text": [
      "Dimention of Array arr1d:-> 1\n",
      "Dimention of Array arr2d:-> 2\n",
      "Dimention of Array arr3d:-> 3\n"
     ]
    }
   ],
   "source": [
    "print(\"Dimention of Array arr1d:->\",arr1d.ndim)\n",
    "print(\"Dimention of Array arr2d:->\",arr2d.ndim)\n",
    "print(\"Dimention of Array arr3d:->\",arr3d.ndim)"
   ]
  },
  {
   "cell_type": "markdown",
   "id": "ebce83c0",
   "metadata": {
    "papermill": {
     "duration": 0.027744,
     "end_time": "2022-09-18T15:51:19.694263",
     "exception": false,
     "start_time": "2022-09-18T15:51:19.666519",
     "status": "completed"
    },
    "tags": []
   },
   "source": [
    "### Use of shape:\n",
    "- It will give you shape of array."
   ]
  },
  {
   "cell_type": "code",
   "execution_count": 7,
   "id": "ed7f1516",
   "metadata": {
    "execution": {
     "iopub.execute_input": "2022-09-18T15:51:19.750419Z",
     "iopub.status.busy": "2022-09-18T15:51:19.749965Z",
     "iopub.status.idle": "2022-09-18T15:51:19.756017Z",
     "shell.execute_reply": "2022-09-18T15:51:19.754826Z"
    },
    "papermill": {
     "duration": 0.037211,
     "end_time": "2022-09-18T15:51:19.758684",
     "exception": false,
     "start_time": "2022-09-18T15:51:19.721473",
     "status": "completed"
    },
    "tags": []
   },
   "outputs": [
    {
     "name": "stdout",
     "output_type": "stream",
     "text": [
      "Shape of array arr1d will be:  (5,)\n",
      "Shape of array qrr2d will be: (3, 4)\n",
      "Shape of array arr3d will be: (3, 3, 4)\n"
     ]
    }
   ],
   "source": [
    "print(\"Shape of array arr1d will be: \", arr1d.shape)\n",
    "print(\"Shape of array qrr2d will be:\", arr2d.shape)\n",
    "print(\"Shape of array arr3d will be:\", arr3d.shape)"
   ]
  },
  {
   "cell_type": "markdown",
   "id": "e4c38d4c",
   "metadata": {
    "papermill": {
     "duration": 0.026298,
     "end_time": "2022-09-18T15:51:19.811871",
     "exception": false,
     "start_time": "2022-09-18T15:51:19.785573",
     "status": "completed"
    },
    "tags": []
   },
   "source": [
    "*** \n",
    "### Data Types in Python\n",
    "- By default Python have these data types:\n",
    "    - strings - used to represent text data, the text is given under quote marks. e.g. \"ABCD\"\n",
    "    - integer - used to represent integer numbers. e.g. -1, -2, -3\n",
    "    - float - used to represent real numbers. e.g. 1.2, 42.42\n",
    "    - boolean - used to represent True or False.\n",
    "    - complex - used to represent complex numbers. e.g. 1.0 + 2.0j, 1.5 + 2.5j \n",
    "***"
   ]
  },
  {
   "cell_type": "markdown",
   "id": "321aedbb",
   "metadata": {
    "papermill": {
     "duration": 0.026303,
     "end_time": "2022-09-18T15:51:19.864949",
     "exception": false,
     "start_time": "2022-09-18T15:51:19.838646",
     "status": "completed"
    },
    "tags": []
   },
   "source": [
    "***\n",
    "### Data Types in NumPy\n",
    "- NumPy has some extra data types, and refer to data types with one character, like i for integers, u for unsigned integers etc.\n",
    "\n",
    "    Below is a list of all data types in NumPy and the characters used to represent them.\n",
    "\n",
    "    - i - integer\n",
    "    - b - boolean\n",
    "    - u - unsigned integer\n",
    "    - f - float\n",
    "    - c - complex float\n",
    "    - m - timedelta\n",
    "    - M - datetime\n",
    "    - O - object\n",
    "    - S - string\n",
    "    - U - unicode string\n",
    "    - V - fixed chunk of memory for other type ( void )\n",
    "\n",
    "***\n",
    "- <H4>Use of dtype:</H4>\n",
    "    - It give what kind of data means type of data we are using."
   ]
  },
  {
   "cell_type": "code",
   "execution_count": 8,
   "id": "5e99fafd",
   "metadata": {
    "execution": {
     "iopub.execute_input": "2022-09-18T15:51:19.920526Z",
     "iopub.status.busy": "2022-09-18T15:51:19.920109Z",
     "iopub.status.idle": "2022-09-18T15:51:19.925652Z",
     "shell.execute_reply": "2022-09-18T15:51:19.924773Z"
    },
    "papermill": {
     "duration": 0.036424,
     "end_time": "2022-09-18T15:51:19.928128",
     "exception": false,
     "start_time": "2022-09-18T15:51:19.891704",
     "status": "completed"
    },
    "tags": []
   },
   "outputs": [
    {
     "name": "stdout",
     "output_type": "stream",
     "text": [
      "Data type of array arr1d: int64\n",
      "Data type of array arr1d: int64\n",
      "Data type of array arr1d: int64\n"
     ]
    }
   ],
   "source": [
    "print(\"Data type of array arr1d:\", arr1d.dtype)\n",
    "print(\"Data type of array arr1d:\", arr2d.dtype)\n",
    "print(\"Data type of array arr1d:\", arr3d.dtype)"
   ]
  },
  {
   "cell_type": "code",
   "execution_count": 9,
   "id": "f6c9cf2f",
   "metadata": {
    "execution": {
     "iopub.execute_input": "2022-09-18T15:51:19.983875Z",
     "iopub.status.busy": "2022-09-18T15:51:19.982696Z",
     "iopub.status.idle": "2022-09-18T15:51:19.988897Z",
     "shell.execute_reply": "2022-09-18T15:51:19.987749Z"
    },
    "papermill": {
     "duration": 0.036904,
     "end_time": "2022-09-18T15:51:19.991662",
     "exception": false,
     "start_time": "2022-09-18T15:51:19.954758",
     "status": "completed"
    },
    "tags": []
   },
   "outputs": [
    {
     "name": "stdout",
     "output_type": "stream",
     "text": [
      "Data type of array arr: <U6\n"
     ]
    }
   ],
   "source": [
    "arr = np.array(['apple', 'banana', 'cherry'])\n",
    "\n",
    "print(\"Data type of array arr:\", arr.dtype)"
   ]
  },
  {
   "cell_type": "markdown",
   "id": "74ee4440",
   "metadata": {
    "papermill": {
     "duration": 0.027051,
     "end_time": "2022-09-18T15:51:20.046563",
     "exception": false,
     "start_time": "2022-09-18T15:51:20.019512",
     "status": "completed"
    },
    "tags": []
   },
   "source": [
    "- Create an array with data type string:"
   ]
  },
  {
   "cell_type": "code",
   "execution_count": 10,
   "id": "cf1584fc",
   "metadata": {
    "execution": {
     "iopub.execute_input": "2022-09-18T15:51:20.101945Z",
     "iopub.status.busy": "2022-09-18T15:51:20.101542Z",
     "iopub.status.idle": "2022-09-18T15:51:20.107645Z",
     "shell.execute_reply": "2022-09-18T15:51:20.106598Z"
    },
    "papermill": {
     "duration": 0.037102,
     "end_time": "2022-09-18T15:51:20.110440",
     "exception": false,
     "start_time": "2022-09-18T15:51:20.073338",
     "status": "completed"
    },
    "tags": []
   },
   "outputs": [
    {
     "name": "stdout",
     "output_type": "stream",
     "text": [
      "Here is array: [b'1' b'2' b'3' b'4']\n",
      "Data type of array arr: |S1\n"
     ]
    }
   ],
   "source": [
    "arr = np.array([1, 2, 3, 4], dtype='S')\n",
    "\n",
    "print(\"Here is array:\",arr)\n",
    "print(\"Data type of array arr:\", arr.dtype)\n"
   ]
  },
  {
   "cell_type": "markdown",
   "id": "c372b9f8",
   "metadata": {
    "papermill": {
     "duration": 0.027681,
     "end_time": "2022-09-18T15:51:20.165383",
     "exception": false,
     "start_time": "2022-09-18T15:51:20.137702",
     "status": "completed"
    },
    "tags": []
   },
   "source": [
    " ## Note: For i, u, f, S and U we can define size as well."
   ]
  },
  {
   "cell_type": "markdown",
   "id": "dccc75f0",
   "metadata": {
    "papermill": {
     "duration": 0.034038,
     "end_time": "2022-09-18T15:51:20.227079",
     "exception": false,
     "start_time": "2022-09-18T15:51:20.193041",
     "status": "completed"
    },
    "tags": []
   },
   "source": [
    "- Create an array with data type 4 bytes integer:"
   ]
  },
  {
   "cell_type": "code",
   "execution_count": 11,
   "id": "31bfcdec",
   "metadata": {
    "execution": {
     "iopub.execute_input": "2022-09-18T15:51:20.302082Z",
     "iopub.status.busy": "2022-09-18T15:51:20.301520Z",
     "iopub.status.idle": "2022-09-18T15:51:20.308761Z",
     "shell.execute_reply": "2022-09-18T15:51:20.307977Z"
    },
    "papermill": {
     "duration": 0.046727,
     "end_time": "2022-09-18T15:51:20.311664",
     "exception": false,
     "start_time": "2022-09-18T15:51:20.264937",
     "status": "completed"
    },
    "tags": []
   },
   "outputs": [
    {
     "name": "stdout",
     "output_type": "stream",
     "text": [
      "[1 2 3 4]\n",
      "int32\n"
     ]
    }
   ],
   "source": [
    "arr = np.array([1, 2, 3, 4], dtype='i4')\n",
    "print(arr)\n",
    "print(arr.dtype)"
   ]
  },
  {
   "cell_type": "markdown",
   "id": "e4445a37",
   "metadata": {
    "papermill": {
     "duration": 0.026527,
     "end_time": "2022-09-18T15:51:20.366183",
     "exception": false,
     "start_time": "2022-09-18T15:51:20.339656",
     "status": "completed"
    },
    "tags": []
   },
   "source": [
    "- There is diffrence between type of value and given type.\n",
    "- that's why error.\n",
    "\n",
    "``` python\n",
    "arr = np.array(['a', '2', '3'], dtype='i')\n",
    "\n",
    "---------------------------------------------------------------------------\n",
    "ValueError                                Traceback (most recent call last)\n",
    "Input In [35], in <cell line: 1>()\n",
    "----> 1 arr = np.array(['a', '2', '3'], dtype='i')\n",
    "\n",
    "ValueError: invalid literal for int() with base 10: 'a'\n",
    "        \n",
    "```"
   ]
  },
  {
   "cell_type": "markdown",
   "id": "0a633605",
   "metadata": {
    "papermill": {
     "duration": 0.026472,
     "end_time": "2022-09-18T15:51:20.419580",
     "exception": false,
     "start_time": "2022-09-18T15:51:20.393108",
     "status": "completed"
    },
    "tags": []
   },
   "source": [
    "***\n",
    "#### Converting Data Type on Existing Arrays\n",
    "- The astype() function creates a copy of the array, and allows you to specify the data type as a parameter.\n",
    "\n",
    "- The data type can be specified using a string, like 'f' for float, 'i' for integer etc. or you can use the data type directly like float for float and int for integer.\n",
    "<li>\n",
    "    The argument dtype=int doesn’t refer to Python int. It translates to NumPy int64 or simply np.int.\n",
    "\n",
    "    - NumPy offers you several integer fixed-sized dtypes that differ in memory and limits:\n",
    "\n",
    "    1. np.int8: 8-bit signed integer (from -128 to 127)\n",
    "    2. np.uint8: 8-bit unsigned integer (from 0 to 255)\n",
    "    3. np.int16: 16-bit signed integer (from -32768 to 32767)\n",
    "    4. np.uint16: 16-bit unsigned integer (from 0 to 65535)\n",
    "    5. np.int32: 32-bit signed integer (from -2<sup>31</sup> to 2<sup>31</sup>-1)\n",
    "    6. np.uint32: 32-bit unsigned integer (from 0 to 2<sup>31</sup>-1)\n",
    "    7. np.int64: 64-bit signed integer (from -2<sup>63</sup> to 2<sup>63</sup>-1)\n",
    "    8. np.uint64: 64-bit unsigned integer (from 0 to 2<sup>64</sup>-1)\n",
    "</li>\n",
    "***"
   ]
  },
  {
   "cell_type": "code",
   "execution_count": 12,
   "id": "1b2a7742",
   "metadata": {
    "execution": {
     "iopub.execute_input": "2022-09-18T15:51:20.475318Z",
     "iopub.status.busy": "2022-09-18T15:51:20.474883Z",
     "iopub.status.idle": "2022-09-18T15:51:20.484014Z",
     "shell.execute_reply": "2022-09-18T15:51:20.482862Z"
    },
    "papermill": {
     "duration": 0.039856,
     "end_time": "2022-09-18T15:51:20.486319",
     "exception": false,
     "start_time": "2022-09-18T15:51:20.446463",
     "status": "completed"
    },
    "tags": []
   },
   "outputs": [
    {
     "name": "stdout",
     "output_type": "stream",
     "text": [
      "\n",
      "'i' as parameter\n",
      "This is array with float as Data type: [1.1 2.1 3.1] float64\n",
      "\n",
      "This is new array with Data type int: [1 2 3] int32\n",
      "\n",
      "###################################################################\n",
      "\n",
      "'int' as parameter\n",
      "\n",
      "This is array with float as Data type: [1.1 2.1 3.1] float64\n",
      "\n",
      "This is new array with Data type int: [1 2 3] int64\n"
     ]
    }
   ],
   "source": [
    "print(\"\\n'i' as parameter\")\n",
    "\n",
    "arr = np.array([1.1, 2.1, 3.1])\n",
    "print(\"This is array with float as Data type:\",arr,arr.dtype)\n",
    "\n",
    "newarr = arr.astype('i')\n",
    "\n",
    "print(\"\\nThis is new array with Data type int:\",newarr,newarr.dtype)\n",
    "\n",
    "print('\\n###################################################################')\n",
    "\n",
    "print(\"\\n'int' as parameter\")\n",
    "arr = np.array([1.1, 2.1, 3.1])\n",
    "print(\"\\nThis is array with float as Data type:\",arr,arr.dtype)\n",
    "\n",
    "newarr = arr.astype(int)\n",
    "\n",
    "print(\"\\nThis is new array with Data type int:\",newarr,newarr.dtype)"
   ]
  },
  {
   "cell_type": "markdown",
   "id": "f8dee21e",
   "metadata": {
    "papermill": {
     "duration": 0.028173,
     "end_time": "2022-09-18T15:51:20.542410",
     "exception": false,
     "start_time": "2022-09-18T15:51:20.514237",
     "status": "completed"
    },
    "tags": []
   },
   "source": [
    "- Change data type from float to integer by using **\"i\" as parameter value:**"
   ]
  },
  {
   "cell_type": "code",
   "execution_count": 13,
   "id": "65d03f07",
   "metadata": {
    "execution": {
     "iopub.execute_input": "2022-09-18T15:51:20.598801Z",
     "iopub.status.busy": "2022-09-18T15:51:20.598364Z",
     "iopub.status.idle": "2022-09-18T15:51:20.605024Z",
     "shell.execute_reply": "2022-09-18T15:51:20.603889Z"
    },
    "papermill": {
     "duration": 0.03852,
     "end_time": "2022-09-18T15:51:20.607938",
     "exception": false,
     "start_time": "2022-09-18T15:51:20.569418",
     "status": "completed"
    },
    "tags": []
   },
   "outputs": [
    {
     "name": "stdout",
     "output_type": "stream",
     "text": [
      "New array with int value [1 2 3]\n",
      "Old Data type: float64\n",
      "New data type: int32\n"
     ]
    }
   ],
   "source": [
    "arr = np.array([1.1, 2.1, 3.1])\n",
    "\n",
    "newarr = arr.astype('i')\n",
    "\n",
    "print(\"New array with int value\",newarr)\n",
    "print(\"Old Data type:\",arr.dtype)\n",
    "print(\"New data type:\",newarr.dtype)"
   ]
  },
  {
   "cell_type": "markdown",
   "id": "5f471559",
   "metadata": {
    "papermill": {
     "duration": 0.027266,
     "end_time": "2022-09-18T15:51:20.663442",
     "exception": false,
     "start_time": "2022-09-18T15:51:20.636176",
     "status": "completed"
    },
    "tags": []
   },
   "source": [
    "- Change data type from float to integer by using **int as parameter value:**"
   ]
  },
  {
   "cell_type": "code",
   "execution_count": 14,
   "id": "b5afb27b",
   "metadata": {
    "execution": {
     "iopub.execute_input": "2022-09-18T15:51:20.719219Z",
     "iopub.status.busy": "2022-09-18T15:51:20.718794Z",
     "iopub.status.idle": "2022-09-18T15:51:20.725229Z",
     "shell.execute_reply": "2022-09-18T15:51:20.723990Z"
    },
    "papermill": {
     "duration": 0.038211,
     "end_time": "2022-09-18T15:51:20.728544",
     "exception": false,
     "start_time": "2022-09-18T15:51:20.690333",
     "status": "completed"
    },
    "tags": []
   },
   "outputs": [
    {
     "name": "stdout",
     "output_type": "stream",
     "text": [
      "New array with int value [1 2 3]\n",
      "Old Data type: float64\n",
      "New data type: int64\n"
     ]
    }
   ],
   "source": [
    "arr = np.array([1.1, 2.1, 3.1])\n",
    "\n",
    "newarr = arr.astype(int)\n",
    "\n",
    "print(\"New array with int value\",newarr)\n",
    "print(\"Old Data type:\",arr.dtype)\n",
    "print(\"New data type:\",newarr.dtype)"
   ]
  },
  {
   "cell_type": "code",
   "execution_count": 15,
   "id": "fececcfa",
   "metadata": {
    "execution": {
     "iopub.execute_input": "2022-09-18T15:51:20.785685Z",
     "iopub.status.busy": "2022-09-18T15:51:20.785311Z",
     "iopub.status.idle": "2022-09-18T15:51:20.791536Z",
     "shell.execute_reply": "2022-09-18T15:51:20.790407Z"
    },
    "papermill": {
     "duration": 0.038126,
     "end_time": "2022-09-18T15:51:20.794984",
     "exception": false,
     "start_time": "2022-09-18T15:51:20.756858",
     "status": "completed"
    },
    "tags": []
   },
   "outputs": [
    {
     "name": "stdout",
     "output_type": "stream",
     "text": [
      "New array with int value [ True False  True]\n",
      "Old Data type: float64\n",
      "New data type: bool\n"
     ]
    }
   ],
   "source": [
    "arr = np.array([1, 0, 3.1])\n",
    "\n",
    "newarr = arr.astype(bool)\n",
    "\n",
    "print(\"New array with int value\",newarr)\n",
    "print(\"Old Data type:\",arr.dtype)\n",
    "print(\"New data type:\",newarr.dtype)"
   ]
  },
  {
   "cell_type": "code",
   "execution_count": 16,
   "id": "d03401ef",
   "metadata": {
    "execution": {
     "iopub.execute_input": "2022-09-18T15:51:20.852669Z",
     "iopub.status.busy": "2022-09-18T15:51:20.852276Z",
     "iopub.status.idle": "2022-09-18T15:51:20.866616Z",
     "shell.execute_reply": "2022-09-18T15:51:20.865310Z"
    },
    "papermill": {
     "duration": 0.045475,
     "end_time": "2022-09-18T15:51:20.869012",
     "exception": false,
     "start_time": "2022-09-18T15:51:20.823537",
     "status": "completed"
    },
    "tags": []
   },
   "outputs": [
    {
     "name": "stdout",
     "output_type": "stream",
     "text": [
      "Data type of float value array: float64\n",
      "Data type of str value array: <U6\n",
      "Data type of mix value array: <U32\n"
     ]
    }
   ],
   "source": [
    "flaotarr=np.array([1.0,2,3,4])\n",
    "strarr=np.array([\"this\",\"is\",\"bhawan\"])\n",
    "strflaotintarr=np.array([1,2,3.5,\"bhawan\"])\n",
    "\n",
    "print(\"Data type of float value array:\",flaotarr.dtype)\n",
    "print(\"Data type of str value array:\",strarr.dtype)\n",
    "print(\"Data type of mix value array:\",strflaotintarr.dtype)"
   ]
  },
  {
   "cell_type": "markdown",
   "id": "7b4d44bb",
   "metadata": {
    "papermill": {
     "duration": 0.02692,
     "end_time": "2022-09-18T15:51:20.923326",
     "exception": false,
     "start_time": "2022-09-18T15:51:20.896406",
     "status": "completed"
    },
    "tags": []
   },
   "source": [
    "### Use of Ones():\n",
    "- Python numpy.ones() function returns a new array of given shape and data type, where the element’s value is set to 1.\n",
    "\n",
    "- **Syntex:** <H3>ones(shape, dtype=None, order='C')</H3>"
   ]
  },
  {
   "cell_type": "code",
   "execution_count": 17,
   "id": "29f1ad00",
   "metadata": {
    "execution": {
     "iopub.execute_input": "2022-09-18T15:51:20.980245Z",
     "iopub.status.busy": "2022-09-18T15:51:20.979751Z",
     "iopub.status.idle": "2022-09-18T15:51:20.990530Z",
     "shell.execute_reply": "2022-09-18T15:51:20.989310Z"
    },
    "papermill": {
     "duration": 0.041751,
     "end_time": "2022-09-18T15:51:20.992641",
     "exception": false,
     "start_time": "2022-09-18T15:51:20.950890",
     "status": "completed"
    },
    "tags": []
   },
   "outputs": [
    {
     "name": "stdout",
     "output_type": "stream",
     "text": [
      "Ones array:\n",
      " [[1. 1.]\n",
      " [1. 1.]]\n",
      "\n",
      "#### Change in type of array:\n",
      "\n",
      "Ones array:\n",
      " [[1 1 1 1]\n",
      " [1 1 1 1]\n",
      " [1 1 1 1]\n",
      " [1 1 1 1]]\n",
      "\n",
      "Ones array 3-D\n",
      " [[[1 1 1]\n",
      "  [1 1 1]\n",
      "  [1 1 1]\n",
      "  [1 1 1]]\n",
      "\n",
      " [[1 1 1]\n",
      "  [1 1 1]\n",
      "  [1 1 1]\n",
      "  [1 1 1]]\n",
      "\n",
      " [[1 1 1]\n",
      "  [1 1 1]\n",
      "  [1 1 1]\n",
      "  [1 1 1]]\n",
      "\n",
      " [[1 1 1]\n",
      "  [1 1 1]\n",
      "  [1 1 1]\n",
      "  [1 1 1]]]\n",
      "\n",
      "#### MIX value type of array:\n",
      "\n",
      "Ones array:\n",
      " [[(1, 1.) (1, 1.) (1, 1.)]\n",
      " [(1, 1.) (1, 1.) (1, 1.)]\n",
      " [(1, 1.) (1, 1.) (1, 1.)]]\n"
     ]
    }
   ],
   "source": [
    "onesarr=np.ones((2,2))\n",
    "print(\"Ones array:\\n\",onesarr)\n",
    "\n",
    "############################\n",
    "\n",
    "print(\"\\n#### Change in type of array:\")\n",
    "onesarr=np.ones((4,4),dtype=int)\n",
    "print(\"\\nOnes array:\\n\",onesarr)\n",
    "\n",
    "onesarr=np.ones((4,4,3),dtype=int)\n",
    "print(\"\\nOnes array 3-D\\n\",onesarr)\n",
    "\n",
    "###########################\n",
    "\n",
    "print(\"\\n#### MIX value type of array:\")\n",
    "onesarr=np.ones((3,3),dtype=[('x',int),('y',float)])\n",
    "print(\"\\nOnes array:\\n\",onesarr)\n"
   ]
  },
  {
   "cell_type": "markdown",
   "id": "08408de8",
   "metadata": {
    "papermill": {
     "duration": 0.027363,
     "end_time": "2022-09-18T15:51:21.048152",
     "exception": false,
     "start_time": "2022-09-18T15:51:21.020789",
     "status": "completed"
    },
    "tags": []
   },
   "source": [
    "### Use of Zeros():\n",
    "- Return a new array of given shape and type, filled with zeros.\n",
    "\n",
    "- **Syntex:** <H3>numpy.zeros(shape, dtype=float, order='C', *, like=None)\n",
    "</H3>"
   ]
  },
  {
   "cell_type": "code",
   "execution_count": 18,
   "id": "3a5041f1",
   "metadata": {
    "execution": {
     "iopub.execute_input": "2022-09-18T15:51:21.104353Z",
     "iopub.status.busy": "2022-09-18T15:51:21.103884Z",
     "iopub.status.idle": "2022-09-18T15:51:21.113198Z",
     "shell.execute_reply": "2022-09-18T15:51:21.112298Z"
    },
    "papermill": {
     "duration": 0.040235,
     "end_time": "2022-09-18T15:51:21.115616",
     "exception": false,
     "start_time": "2022-09-18T15:51:21.075381",
     "status": "completed"
    },
    "tags": []
   },
   "outputs": [
    {
     "name": "stdout",
     "output_type": "stream",
     "text": [
      "Zeros array:\n",
      " [[0. 0. 0.]\n",
      " [0. 0. 0.]\n",
      " [0. 0. 0.]]\n",
      "\n",
      "#### Change in type of array:\n",
      "\n",
      "Zeros array:\n",
      " [[0 0 0 0]\n",
      " [0 0 0 0]\n",
      " [0 0 0 0]\n",
      " [0 0 0 0]]\n",
      "\n",
      "Zeros array 3-D\n",
      " [[[0 0 0]\n",
      "  [0 0 0]\n",
      "  [0 0 0]\n",
      "  [0 0 0]]\n",
      "\n",
      " [[0 0 0]\n",
      "  [0 0 0]\n",
      "  [0 0 0]\n",
      "  [0 0 0]]\n",
      "\n",
      " [[0 0 0]\n",
      "  [0 0 0]\n",
      "  [0 0 0]\n",
      "  [0 0 0]]\n",
      "\n",
      " [[0 0 0]\n",
      "  [0 0 0]\n",
      "  [0 0 0]\n",
      "  [0 0 0]]]\n",
      "\n",
      "#### MIX value type of array:\n",
      "\n",
      "O's array:\n",
      " [[(0, 0.) (0, 0.) (0, 0.)]\n",
      " [(0, 0.) (0, 0.) (0, 0.)]\n",
      " [(0, 0.) (0, 0.) (0, 0.)]]\n"
     ]
    }
   ],
   "source": [
    "zrerosarr=np.zeros((3,3))\n",
    "print(\"Zeros array:\\n\",zrerosarr)\n",
    "\n",
    "############################\n",
    "\n",
    "print(\"\\n#### Change in type of array:\")\n",
    "zrerosarr=np.zeros((4,4),dtype=int)\n",
    "print(\"\\nZeros array:\\n\",zrerosarr)\n",
    "\n",
    "zrerosarr=np.zeros((4,4,3),dtype=int)\n",
    "print(\"\\nZeros array 3-D\\n\",zrerosarr)\n",
    "\n",
    "###########################\n",
    "\n",
    "print(\"\\n#### MIX value type of array:\")\n",
    "zrerosarr=np.zeros((3,3),dtype=[('x',int),('y',float)])\n",
    "print(\"\\nO's array:\\n\",zrerosarr)\n"
   ]
  },
  {
   "cell_type": "markdown",
   "id": "225581a1",
   "metadata": {
    "papermill": {
     "duration": 0.026989,
     "end_time": "2022-09-18T15:51:21.170106",
     "exception": false,
     "start_time": "2022-09-18T15:51:21.143117",
     "status": "completed"
    },
    "tags": []
   },
   "source": [
    "### Use of empty():\n",
    "-Return a new array of given shape and type, without initializing entries.\n",
    "- **Syntex:** <H3>numpy.empty(shape, dtype=float, order='C', *, like=None)\n",
    "</H3>\n"
   ]
  },
  {
   "cell_type": "code",
   "execution_count": 19,
   "id": "81cf5624",
   "metadata": {
    "execution": {
     "iopub.execute_input": "2022-09-18T15:51:21.226776Z",
     "iopub.status.busy": "2022-09-18T15:51:21.226344Z",
     "iopub.status.idle": "2022-09-18T15:51:21.236663Z",
     "shell.execute_reply": "2022-09-18T15:51:21.235097Z"
    },
    "papermill": {
     "duration": 0.041568,
     "end_time": "2022-09-18T15:51:21.239011",
     "exception": false,
     "start_time": "2022-09-18T15:51:21.197443",
     "status": "completed"
    },
    "tags": []
   },
   "outputs": [
    {
     "name": "stdout",
     "output_type": "stream",
     "text": [
      "Empty array:\n",
      " [[0. 0. 0.]\n",
      " [0. 0. 0.]\n",
      " [0. 0. 0.]]\n",
      "\n",
      "###################################################################################\n",
      "\n",
      "#### Change in type of array:\n",
      "\n",
      " Empty array:\n",
      " [[0 0 0]\n",
      " [0 0 0]\n",
      " [0 0 0]]\n",
      "\n",
      " Empty array 3-D\n",
      " [[[94479334444592              0 10020158701575]\n",
      "  [             0    17179869187              0]\n",
      "  [             0   137438953494              0]]\n",
      "\n",
      " [[             0              0              0]\n",
      "  [             0              0              0]\n",
      "  [             0              0              0]]\n",
      "\n",
      " [[             0              0              0]\n",
      "  [             0 94479340096640 94479340096896]\n",
      "  [94479340097088              0              0]]]\n",
      "\n",
      "###################################################################################\n",
      "\n",
      "#### MIX value type of array:\n",
      "\n",
      " Empty array:\n",
      " [[( 94479340743328, 0.00000000e+000) (139620258135472, 6.89821106e-310)\n",
      "  (139621347115952, 6.89821106e-310)]\n",
      " [(139620258135408, 6.89821106e-310) (139620258135344, 6.89821106e-310)\n",
      "  (139620258135280, 6.89821106e-310)]\n",
      " [(139620258134960, 6.89821106e-310) (139620258134896, 6.89821106e-310)\n",
      "  (139620258134768, 6.89821106e-310)]]\n"
     ]
    }
   ],
   "source": [
    "emptyarr=np.empty((3,3))\n",
    "print(\"Empty array:\\n\",emptyarr)\n",
    "\n",
    "print(\"\\n###################################################################################\")\n",
    "\n",
    "print(\"\\n#### Change in type of array:\")\n",
    "emptyarr=np.empty((3,3),dtype=int)\n",
    "print(\"\\n Empty array:\\n\", emptyarr)\n",
    "\n",
    "emptyarr=np.empty((3,3,3),dtype=int)\n",
    "print(\"\\n Empty array 3-D\\n\", emptyarr)\n",
    "\n",
    "print(\"\\n###################################################################################\")\n",
    "\n",
    "print(\"\\n#### MIX value type of array:\")\n",
    "emptyarr=np.empty((3,3),dtype=[('x',int),('y',float)])\n",
    "print(\"\\n Empty array:\\n\",emptyarr)\n"
   ]
  },
  {
   "cell_type": "markdown",
   "id": "4eda7ad6",
   "metadata": {
    "papermill": {
     "duration": 0.027713,
     "end_time": "2022-09-18T15:51:21.295257",
     "exception": false,
     "start_time": "2022-09-18T15:51:21.267544",
     "status": "completed"
    },
    "tags": []
   },
   "source": [
    "### Use of empty_like():\n",
    "- Return a new array with the same shape and type as a given array.\n",
    "- **Syntex:** <H3>numpy.empty_like(prototype, dtype=None, order='K', subok=True, shape=None)\n",
    "</H3>\n"
   ]
  },
  {
   "cell_type": "code",
   "execution_count": 20,
   "id": "2a3d6e06",
   "metadata": {
    "execution": {
     "iopub.execute_input": "2022-09-18T15:51:21.352600Z",
     "iopub.status.busy": "2022-09-18T15:51:21.352181Z",
     "iopub.status.idle": "2022-09-18T15:51:21.362910Z",
     "shell.execute_reply": "2022-09-18T15:51:21.362100Z"
    },
    "papermill": {
     "duration": 0.04242,
     "end_time": "2022-09-18T15:51:21.365699",
     "exception": false,
     "start_time": "2022-09-18T15:51:21.323279",
     "status": "completed"
    },
    "tags": []
   },
   "outputs": [
    {
     "name": "stdout",
     "output_type": "stream",
     "text": [
      "Empty array:\n",
      " [[1 2 3 4]\n",
      " [1 2 3 4]\n",
      " [1 2 3 4]]\n",
      "\n",
      " Type of empty_like: int64\n",
      "\n",
      "###################################################################################\n",
      "\n",
      "#### Change in type of array:\n",
      "\n",
      " Empty array:\n",
      " [[4.66789966e-310 0.00000000e+000 0.00000000e+000 0.00000000e+000]\n",
      " [6.89797172e-310 3.26938174e-032 9.35297827e-067 4.12744204e-061]\n",
      " [2.51563553e+180 1.49114067e+161 1.65588026e-047 4.19703334e+175]]\n",
      "\n",
      "###################################################################################\n",
      "\n",
      "#### MIX value type of array:\n",
      "\n",
      " Empty array:\n",
      " [[(4596373779694328218, 0.2 ) (4603579539098121011, 1.  )\n",
      "  (                  0, 0.6 ) (4607182418800017408, 1.  )]\n",
      " [(                  0, 0.8 ) (4600877379321698714, 1.  )\n",
      "  (4607182418800017408, 1.  ) (4603579539098121011, 1.  )]\n",
      " [(4602678819172646912, 0.36) (4599616371426034975, 1.  )\n",
      "  (4607182418800017408, 1.  ) (4607182418800017408, 1.  )]]\n",
      "\n",
      "###################################################################################\n",
      "\n",
      "#### Change in Subok and Shape:\n",
      "\n",
      " Empty array:\n",
      " [[0.2  1.   0.6 ]\n",
      " [1.   0.8  1.  ]\n",
      " [1.   1.   0.36]\n",
      " [1.   1.   1.  ]]\n"
     ]
    }
   ],
   "source": [
    "arr2d=np.array([[1,2,3,4],\n",
    "                [1,2,3,4],\n",
    "                [1,2,3,4],\n",
    "               ])\n",
    "\n",
    "emptyarr_like=np.empty_like(arr2d)\n",
    "print(\"Empty array:\\n\",emptyarr_like)\n",
    "\n",
    "print(\"\\n Type of empty_like:\",emptyarr_like.dtype)\n",
    "\n",
    "print(\"\\n###################################################################################\")\n",
    "\n",
    "print(\"\\n#### Change in type of array:\")\n",
    "emptyarr_like=np.empty_like(arr2d,dtype=float)\n",
    "print(\"\\n Empty array:\\n\", emptyarr_like)\n",
    "\n",
    "print(\"\\n###################################################################################\")\n",
    "\n",
    "print(\"\\n#### MIX value type of array:\")\n",
    "emptyarr_like=np.empty_like(arr2d,dtype=[(\"x\",int),(\"y\",float)])\n",
    "print(\"\\n Empty array:\\n\",emptyarr_like)\n",
    "\n",
    "print(\"\\n###################################################################################\")\n",
    "\n",
    "print(\"\\n#### Change in Subok and Shape:\")\n",
    "\n",
    "emptyarr_like=np.empty_like(arr2d,dtype=float,subok=False,shape=(4,3))\n",
    "print(\"\\n Empty array:\\n\", emptyarr_like)"
   ]
  },
  {
   "cell_type": "markdown",
   "id": "e2863966",
   "metadata": {
    "papermill": {
     "duration": 0.027205,
     "end_time": "2022-09-18T15:51:21.421716",
     "exception": false,
     "start_time": "2022-09-18T15:51:21.394511",
     "status": "completed"
    },
    "tags": []
   },
   "source": [
    "### Use of full():\n",
    "- Return a new array of given shape and type, filled with fill_value.\n",
    "- **Syntex:** <H3>numpy.full(shape, fill_value, dtype=None, order='C', *, like=None)</H3>"
   ]
  },
  {
   "cell_type": "code",
   "execution_count": 21,
   "id": "6d867e1f",
   "metadata": {
    "execution": {
     "iopub.execute_input": "2022-09-18T15:51:21.478569Z",
     "iopub.status.busy": "2022-09-18T15:51:21.478173Z",
     "iopub.status.idle": "2022-09-18T15:51:21.487630Z",
     "shell.execute_reply": "2022-09-18T15:51:21.486339Z"
    },
    "papermill": {
     "duration": 0.040804,
     "end_time": "2022-09-18T15:51:21.490335",
     "exception": false,
     "start_time": "2022-09-18T15:51:21.449531",
     "status": "completed"
    },
    "tags": []
   },
   "outputs": [
    {
     "name": "stdout",
     "output_type": "stream",
     "text": [
      "Empty array:\n",
      " [[4 4 4]\n",
      " [4 4 4]\n",
      " [4 4 4]]\n",
      "\n",
      "###################################################################################\n",
      "\n",
      "#### Change in type of array:\n",
      "\n",
      " Empty array:\n",
      " [[4 4 4]\n",
      " [4 4 4]\n",
      " [4 4 4]]\n",
      "\n",
      " Empty array 3-D\n",
      " [[[4 4 4]\n",
      "  [4 4 4]\n",
      "  [4 4 4]]\n",
      "\n",
      " [[4 4 4]\n",
      "  [4 4 4]\n",
      "  [4 4 4]]\n",
      "\n",
      " [[4 4 4]\n",
      "  [4 4 4]\n",
      "  [4 4 4]]]\n",
      "\n",
      "###################################################################################\n",
      "\n",
      "#### MIX value type of array:\n",
      "\n",
      " Empty array:\n",
      " [[(4, 4.) (4, 4.) (4, 4.)]\n",
      " [(4, 4.) (4, 4.) (4, 4.)]\n",
      " [(4, 4.) (4, 4.) (4, 4.)]]\n"
     ]
    }
   ],
   "source": [
    "fullarr=np.full((3,3),4)\n",
    "print(\"Empty array:\\n\",fullarr)\n",
    "\n",
    "print(\"\\n###################################################################################\")\n",
    "\n",
    "print(\"\\n#### Change in type of array:\")\n",
    "fullarr=np.full((3,3),4,dtype=int)\n",
    "print(\"\\n Empty array:\\n\", fullarr)\n",
    "\n",
    "fullarr=np.full((3,3,3),4,dtype=int)\n",
    "print(\"\\n Empty array 3-D\\n\", fullarr)\n",
    "\n",
    "print(\"\\n###################################################################################\")\n",
    "\n",
    "print(\"\\n#### MIX value type of array:\")\n",
    "fullarr=np.full((3,3),4,dtype=[('x',int),('y',float)])\n",
    "print(\"\\n Empty array:\\n\",fullarr)\n"
   ]
  },
  {
   "cell_type": "markdown",
   "id": "75e974b4",
   "metadata": {
    "papermill": {
     "duration": 0.027732,
     "end_time": "2022-09-18T15:51:21.546768",
     "exception": false,
     "start_time": "2022-09-18T15:51:21.519036",
     "status": "completed"
    },
    "tags": []
   },
   "source": [
    "### Example of 'order' parameter in all of above practise:\n",
    "\n",
    "- Whether to store multi-dimensional data in row-major (C-style) or column-major (Fortran-style) order in memory."
   ]
  },
  {
   "cell_type": "code",
   "execution_count": 22,
   "id": "ec531728",
   "metadata": {
    "execution": {
     "iopub.execute_input": "2022-09-18T15:51:21.604180Z",
     "iopub.status.busy": "2022-09-18T15:51:21.603751Z",
     "iopub.status.idle": "2022-09-18T15:51:21.610808Z",
     "shell.execute_reply": "2022-09-18T15:51:21.609640Z"
    },
    "papermill": {
     "duration": 0.038981,
     "end_time": "2022-09-18T15:51:21.613561",
     "exception": false,
     "start_time": "2022-09-18T15:51:21.574580",
     "status": "completed"
    },
    "tags": []
   },
   "outputs": [
    {
     "name": "stdout",
     "output_type": "stream",
     "text": [
      "Example of order:\n",
      "[[0 1 2]\n",
      " [3 4 5]\n",
      " [6 7 8]] It give's 'True' if fortran:- False\n",
      "[[0 3 6]\n",
      " [1 4 7]\n",
      " [2 5 8]] It give's 'True' if fortran:- True\n"
     ]
    }
   ],
   "source": [
    "print(\"Example of order:\")\n",
    "x=np.reshape(np.arange(9),newshape=(3,3))\n",
    "print(x,\"It give's 'True' if fortran:-\",np.isfortran(x))\n",
    "y=np.reshape(np.arange(9),newshape=(3,3),order='F')\n",
    "print(y,\"It give's 'True' if fortran:-\",np.isfortran(y))"
   ]
  },
  {
   "cell_type": "code",
   "execution_count": 23,
   "id": "391b99b3",
   "metadata": {
    "execution": {
     "iopub.execute_input": "2022-09-18T15:51:21.671558Z",
     "iopub.status.busy": "2022-09-18T15:51:21.671177Z",
     "iopub.status.idle": "2022-09-18T15:51:21.677632Z",
     "shell.execute_reply": "2022-09-18T15:51:21.676493Z"
    },
    "papermill": {
     "duration": 0.039361,
     "end_time": "2022-09-18T15:51:21.681021",
     "exception": false,
     "start_time": "2022-09-18T15:51:21.641660",
     "status": "completed"
    },
    "tags": []
   },
   "outputs": [
    {
     "name": "stdout",
     "output_type": "stream",
     "text": [
      "[[1 2 3]\n",
      " [4 5 6]] False\n",
      "\n",
      " [[1 4]\n",
      " [2 5]\n",
      " [3 6]] True\n"
     ]
    }
   ],
   "source": [
    "a = np.array([[1, 2, 3], [4, 5, 6]], order='C')\n",
    "print(a,np.isfortran(a))\n",
    "\n",
    "b = a.T\n",
    "print(\"\\n\",b,np.isfortran(b))"
   ]
  },
  {
   "cell_type": "markdown",
   "id": "c710f900",
   "metadata": {
    "papermill": {
     "duration": 0.027653,
     "end_time": "2022-09-18T15:51:21.737793",
     "exception": false,
     "start_time": "2022-09-18T15:51:21.710140",
     "status": "completed"
    },
    "tags": []
   },
   "source": [
    "### Use of arrange():\n",
    "- Return evenly spaced values within a given interval.\n",
    "- **Syntex:** <H3>numpy.arange([start, ]stop, [step, ]dtype=None, *, like=None)</H3>\n",
    "\n",
    "arange can be called with a varying number of positional arguments:\n",
    "\n",
    "- **arange(stop):** Values are generated within the half-open interval **[0, stop)** (in other words, the interval including start but excluding stop).\n",
    "\n",
    "- **arange(start, stop):** Values are generated within the half-open interval .**[start, stop).**\n",
    "\n",
    "- **arange(start, stop, step)** Values are generated within the half-open interval **[start, stop)**, with spacing between values given by step.\n",
    "\n",
    "For integer arguments the function is roughly equivalent to the Python built-in range, but returns an ndarray rather than a range instance.\n",
    "\n",
    "- When using a non-integer step, such as 0.1, it is often better to use numpy.linspace."
   ]
  },
  {
   "cell_type": "code",
   "execution_count": 24,
   "id": "e9a0bf31",
   "metadata": {
    "execution": {
     "iopub.execute_input": "2022-09-18T15:51:21.796994Z",
     "iopub.status.busy": "2022-09-18T15:51:21.796590Z",
     "iopub.status.idle": "2022-09-18T15:51:21.801461Z",
     "shell.execute_reply": "2022-09-18T15:51:21.800619Z"
    },
    "papermill": {
     "duration": 0.037645,
     "end_time": "2022-09-18T15:51:21.804456",
     "exception": false,
     "start_time": "2022-09-18T15:51:21.766811",
     "status": "completed"
    },
    "tags": []
   },
   "outputs": [
    {
     "name": "stdout",
     "output_type": "stream",
     "text": [
      "Array with evenly speced no. [0 1 2 3 4 5 6 7 8]\n"
     ]
    }
   ],
   "source": [
    "Arange=np.arange(9)\n",
    "print(\"Array with evenly speced no.\",Arange)"
   ]
  },
  {
   "cell_type": "markdown",
   "id": "e1f23cab",
   "metadata": {
    "papermill": {
     "duration": 0.027427,
     "end_time": "2022-09-18T15:51:21.860832",
     "exception": false,
     "start_time": "2022-09-18T15:51:21.833405",
     "status": "completed"
    },
    "tags": []
   },
   "source": [
    "- giving start,stop and step value\n",
    "![](https://files.realpython.com/media/fig-1.1d8bc9379e87.png)"
   ]
  },
  {
   "cell_type": "code",
   "execution_count": 25,
   "id": "4e3b8711",
   "metadata": {
    "execution": {
     "iopub.execute_input": "2022-09-18T15:51:21.917945Z",
     "iopub.status.busy": "2022-09-18T15:51:21.917528Z",
     "iopub.status.idle": "2022-09-18T15:51:21.927159Z",
     "shell.execute_reply": "2022-09-18T15:51:21.925803Z"
    },
    "papermill": {
     "duration": 0.041648,
     "end_time": "2022-09-18T15:51:21.930157",
     "exception": false,
     "start_time": "2022-09-18T15:51:21.888509",
     "status": "completed"
    },
    "tags": []
   },
   "outputs": [
    {
     "name": "stdout",
     "output_type": "stream",
     "text": [
      "Array with step value 3(difference is 3): [1 4 7]\n",
      "[1 4 7]\n",
      "[-9 -8 -7 -6 -5 -4 -3 -2]\n",
      "[-9 -7 -5 -3 -1]\n",
      "[9 8 7 6 5 4 3 2]\n",
      "[] Length of array is: 0\n",
      "[]\n"
     ]
    }
   ],
   "source": [
    "Arrange=np.arange(start=1, stop=10, step=3)\n",
    "print(\"Array with step value 3(difference is 3):\",Arrange)\n",
    "\n",
    "Arrange=np.arange(1,10,3)\n",
    "print(Arrange)\n",
    "\n",
    "Arrange=np.arange(-9,-1,1)\n",
    "print(Arrange)\n",
    "\n",
    "Arrange=np.arange(-9,1,2)\n",
    "print(Arrange)\n",
    "\n",
    "Arrange=np.arange(9,1,-1)\n",
    "print(Arrange)\n",
    "\n",
    "##### IT WONT WORK WHEN WE USE DIFFRENT WAY LIKE (Give Empty array)\n",
    "Arrange=np.arange(19,1)\n",
    "print(Arrange,\"Length of array is:\",len(Arrange))\n",
    "\n",
    "Arrange=np.arange(1,9,-2)\n",
    "print(Arrange)\n"
   ]
  },
  {
   "cell_type": "code",
   "execution_count": 26,
   "id": "d2cc6af5",
   "metadata": {
    "execution": {
     "iopub.execute_input": "2022-09-18T15:51:21.989597Z",
     "iopub.status.busy": "2022-09-18T15:51:21.989209Z",
     "iopub.status.idle": "2022-09-18T15:51:21.995690Z",
     "shell.execute_reply": "2022-09-18T15:51:21.994495Z"
    },
    "papermill": {
     "duration": 0.038875,
     "end_time": "2022-09-18T15:51:21.998209",
     "exception": false,
     "start_time": "2022-09-18T15:51:21.959334",
     "status": "completed"
    },
    "tags": []
   },
   "outputs": [
    {
     "name": "stdout",
     "output_type": "stream",
     "text": [
      "Array with step value 3(difference is 3) & data type as float: [1. 4. 7.]\n"
     ]
    }
   ],
   "source": [
    "Arrange=np.arange(start=1, stop=10, step=3,dtype=float)\n",
    "print(\"Array with step value 3(difference is 3) & data type as float:\",Arrange)"
   ]
  },
  {
   "cell_type": "code",
   "execution_count": 27,
   "id": "fe0589dd",
   "metadata": {
    "execution": {
     "iopub.execute_input": "2022-09-18T15:51:22.058167Z",
     "iopub.status.busy": "2022-09-18T15:51:22.057738Z",
     "iopub.status.idle": "2022-09-18T15:51:22.063625Z",
     "shell.execute_reply": "2022-09-18T15:51:22.062483Z"
    },
    "papermill": {
     "duration": 0.038371,
     "end_time": "2022-09-18T15:51:22.066062",
     "exception": false,
     "start_time": "2022-09-18T15:51:22.027691",
     "status": "completed"
    },
    "tags": []
   },
   "outputs": [
    {
     "name": "stdout",
     "output_type": "stream",
     "text": [
      "[ 0  1  2  3  4  5  6  7  8  9 10 11 12 13 14 15 16 17 18 19 20 21 22 23]\n"
     ]
    }
   ],
   "source": [
    "Arrange=np.arange(stop=24)\n",
    "print(Arrange)"
   ]
  },
  {
   "cell_type": "markdown",
   "id": "c5f9bbbe",
   "metadata": {
    "papermill": {
     "duration": 0.027846,
     "end_time": "2022-09-18T15:51:22.121765",
     "exception": false,
     "start_time": "2022-09-18T15:51:22.093919",
     "status": "completed"
    },
    "tags": []
   },
   "source": [
    "***\n",
    "### Use of numpy.ndarray.itemsize\n",
    "- Length of one array element in bytes.\n",
    "- **Syntex:** <H4>ndarray.itemsize</H4>\n",
    "\n",
    "***"
   ]
  },
  {
   "cell_type": "code",
   "execution_count": 28,
   "id": "eede9881",
   "metadata": {
    "execution": {
     "iopub.execute_input": "2022-09-18T15:51:22.182066Z",
     "iopub.status.busy": "2022-09-18T15:51:22.181520Z",
     "iopub.status.idle": "2022-09-18T15:51:22.187758Z",
     "shell.execute_reply": "2022-09-18T15:51:22.186568Z"
    },
    "papermill": {
     "duration": 0.03975,
     "end_time": "2022-09-18T15:51:22.190893",
     "exception": false,
     "start_time": "2022-09-18T15:51:22.151143",
     "status": "completed"
    },
    "tags": []
   },
   "outputs": [
    {
     "name": "stdout",
     "output_type": "stream",
     "text": [
      "int64\n",
      "8\n"
     ]
    }
   ],
   "source": [
    "print(Arrange.dtype)\n",
    "print(Arrange.itemsize ) # In bytes"
   ]
  },
  {
   "cell_type": "markdown",
   "id": "9ed13843",
   "metadata": {
    "papermill": {
     "duration": 0.028086,
     "end_time": "2022-09-18T15:51:22.248312",
     "exception": false,
     "start_time": "2022-09-18T15:51:22.220226",
     "status": "completed"
    },
    "tags": []
   },
   "source": [
    "### Use of np.linspace():\n",
    "- Return evenly spaced numbers over a specified interval.\n",
    "\n",
    "- Returns num evenly spaced samples, calculated over the interval [start, stop].\n",
    "\n",
    "- The endpoint of the interval can optionally be excluded.\n",
    "- **Syntex:** <H4>numpy.linspace(start, stop, num=50, endpoint=True, retstep=False, dtype=None, axis=0)[source]</H4>"
   ]
  },
  {
   "cell_type": "code",
   "execution_count": 29,
   "id": "afee907e",
   "metadata": {
    "execution": {
     "iopub.execute_input": "2022-09-18T15:51:22.306580Z",
     "iopub.status.busy": "2022-09-18T15:51:22.306149Z",
     "iopub.status.idle": "2022-09-18T15:51:22.312674Z",
     "shell.execute_reply": "2022-09-18T15:51:22.311588Z"
    },
    "papermill": {
     "duration": 0.038718,
     "end_time": "2022-09-18T15:51:22.315170",
     "exception": false,
     "start_time": "2022-09-18T15:51:22.276452",
     "status": "completed"
    },
    "tags": []
   },
   "outputs": [
    {
     "name": "stdout",
     "output_type": "stream",
     "text": [
      "[ 1.          1.18367347  1.36734694  1.55102041  1.73469388  1.91836735\n",
      "  2.10204082  2.28571429  2.46938776  2.65306122  2.83673469  3.02040816\n",
      "  3.20408163  3.3877551   3.57142857  3.75510204  3.93877551  4.12244898\n",
      "  4.30612245  4.48979592  4.67346939  4.85714286  5.04081633  5.2244898\n",
      "  5.40816327  5.59183673  5.7755102   5.95918367  6.14285714  6.32653061\n",
      "  6.51020408  6.69387755  6.87755102  7.06122449  7.24489796  7.42857143\n",
      "  7.6122449   7.79591837  7.97959184  8.16326531  8.34693878  8.53061224\n",
      "  8.71428571  8.89795918  9.08163265  9.26530612  9.44897959  9.63265306\n",
      "  9.81632653 10.        ]\n"
     ]
    }
   ],
   "source": [
    "linspace=np.linspace(1,10) #default is 50 that's why 50 no.\n",
    "print(linspace)"
   ]
  },
  {
   "cell_type": "code",
   "execution_count": 30,
   "id": "930745ff",
   "metadata": {
    "execution": {
     "iopub.execute_input": "2022-09-18T15:51:22.373601Z",
     "iopub.status.busy": "2022-09-18T15:51:22.373178Z",
     "iopub.status.idle": "2022-09-18T15:51:22.379930Z",
     "shell.execute_reply": "2022-09-18T15:51:22.378713Z"
    },
    "papermill": {
     "duration": 0.038817,
     "end_time": "2022-09-18T15:51:22.382443",
     "exception": false,
     "start_time": "2022-09-18T15:51:22.343626",
     "status": "completed"
    },
    "tags": []
   },
   "outputs": [
    {
     "name": "stdout",
     "output_type": "stream",
     "text": [
      "[ 1.   1.9  2.8  3.7  4.6  5.5  6.4  7.3  8.2  9.1 10. ]\n"
     ]
    }
   ],
   "source": [
    "linspace=np.linspace(1,10,11) #evenly spaced no. total 11.\n",
    "print(linspace)"
   ]
  },
  {
   "cell_type": "code",
   "execution_count": 31,
   "id": "bfaddb9b",
   "metadata": {
    "execution": {
     "iopub.execute_input": "2022-09-18T15:51:22.442441Z",
     "iopub.status.busy": "2022-09-18T15:51:22.442019Z",
     "iopub.status.idle": "2022-09-18T15:51:22.448843Z",
     "shell.execute_reply": "2022-09-18T15:51:22.447609Z"
    },
    "papermill": {
     "duration": 0.039476,
     "end_time": "2022-09-18T15:51:22.451692",
     "exception": false,
     "start_time": "2022-09-18T15:51:22.412216",
     "status": "completed"
    },
    "tags": []
   },
   "outputs": [
    {
     "name": "stdout",
     "output_type": "stream",
     "text": [
      "[1.         1.81818182 2.63636364 3.45454545 4.27272727 5.09090909\n",
      " 5.90909091 6.72727273 7.54545455 8.36363636 9.18181818]\n"
     ]
    }
   ],
   "source": [
    "linspace=np.linspace(1,10,11,endpoint=False) #Did not include last 10 number.\n",
    "print(linspace)"
   ]
  },
  {
   "cell_type": "code",
   "execution_count": 32,
   "id": "1fcdf0ad",
   "metadata": {
    "execution": {
     "iopub.execute_input": "2022-09-18T15:51:22.511514Z",
     "iopub.status.busy": "2022-09-18T15:51:22.511111Z",
     "iopub.status.idle": "2022-09-18T15:51:22.520989Z",
     "shell.execute_reply": "2022-09-18T15:51:22.519728Z"
    },
    "papermill": {
     "duration": 0.041949,
     "end_time": "2022-09-18T15:51:22.523486",
     "exception": false,
     "start_time": "2022-09-18T15:51:22.481537",
     "status": "completed"
    },
    "tags": []
   },
   "outputs": [
    {
     "name": "stdout",
     "output_type": "stream",
     "text": [
      "[ 1.   2.8  4.6  6.4  8.2 10. ]\n",
      "Give the step also:\n",
      "(array([ 1. ,  2.8,  4.6,  6.4,  8.2, 10. ]), 1.8)\n",
      "(array([1. , 2.5, 4. , 5.5, 7. , 8.5]), 1.5)\n",
      "(array([ 1,  2,  4,  6,  8, 10]), 1.8)\n",
      "(array([ 1,  2,  4,  6,  8, 10]), 1.8)\n"
     ]
    }
   ],
   "source": [
    "linspace=np.linspace(1,10,6) #evenly spaced no. total 11.\n",
    "print(linspace)\n",
    "\n",
    "print(\"Give the step also:\")\n",
    "linspace=np.linspace(1,10,6,retstep=True) #Default is False\n",
    "print(linspace)\n",
    "\n",
    "linspace=np.linspace(1,10,6,endpoint=False,retstep=True) #with endpoint\n",
    "print(linspace)\n",
    "\n",
    "linspace=np.linspace(1,10,6,retstep=True,dtype=int) #with data type\n",
    "print(linspace)\n",
    "\n",
    "linspace=np.linspace(1,10,6,retstep=True,dtype=int,axis=0) #with data type\n",
    "print(linspace)"
   ]
  },
  {
   "cell_type": "code",
   "execution_count": 33,
   "id": "212e626a",
   "metadata": {
    "execution": {
     "iopub.execute_input": "2022-09-18T15:51:22.582667Z",
     "iopub.status.busy": "2022-09-18T15:51:22.582281Z",
     "iopub.status.idle": "2022-09-18T15:51:22.588570Z",
     "shell.execute_reply": "2022-09-18T15:51:22.587433Z"
    },
    "papermill": {
     "duration": 0.039633,
     "end_time": "2022-09-18T15:51:22.591626",
     "exception": false,
     "start_time": "2022-09-18T15:51:22.551993",
     "status": "completed"
    },
    "tags": []
   },
   "outputs": [
    {
     "name": "stdout",
     "output_type": "stream",
     "text": [
      "[ 1  2  4  6  8 10]\n",
      "1.8\n"
     ]
    }
   ],
   "source": [
    "linspace,step=np.linspace(1,10,6,retstep=True,dtype=int) #we store step differently\n",
    "print(linspace)\n",
    "print(step)"
   ]
  },
  {
   "cell_type": "markdown",
   "id": "5849ba1c",
   "metadata": {
    "papermill": {
     "duration": 0.028254,
     "end_time": "2022-09-18T15:51:22.649467",
     "exception": false,
     "start_time": "2022-09-18T15:51:22.621213",
     "status": "completed"
    },
    "tags": []
   },
   "source": [
    "### Nonscalar Values for Higher-Dimensional Arrays\n",
    "\n",
    "- Axis: This parameter is used only with nonscalar start and stop values. It determines the axis along which the results are stored."
   ]
  },
  {
   "cell_type": "code",
   "execution_count": 34,
   "id": "1c79f96b",
   "metadata": {
    "execution": {
     "iopub.execute_input": "2022-09-18T15:51:22.708107Z",
     "iopub.status.busy": "2022-09-18T15:51:22.707620Z",
     "iopub.status.idle": "2022-09-18T15:51:22.717323Z",
     "shell.execute_reply": "2022-09-18T15:51:22.716196Z"
    },
    "papermill": {
     "duration": 0.042267,
     "end_time": "2022-09-18T15:51:22.719999",
     "exception": false,
     "start_time": "2022-09-18T15:51:22.677732",
     "status": "completed"
    },
    "tags": []
   },
   "outputs": [
    {
     "name": "stdout",
     "output_type": "stream",
     "text": [
      "[[  2.    5.    9. ]\n",
      " [ 21.6  30.   39.2]\n",
      " [ 41.2  55.   69.4]\n",
      " [ 60.8  80.   99.6]\n",
      " [ 80.4 105.  129.8]\n",
      " [100.  130.  160. ]]\n",
      "\n",
      "Shepe of this array: (6, 3)\n",
      "\n",
      " Element of array:(at postion:0) [2. 5. 9.]\n",
      "\n",
      " Element of array:(at postion:1) [21.6 30.  39.2]\n",
      "\n",
      " Element of array:(at postion:2) [41.2 55.  69.4]\n",
      "\n",
      " Element of array:(at postion:0,1) 5.0\n",
      "\n",
      " Element of array:(at postion:1,1) 30.0\n",
      "\n",
      " Element of array:(at postion:2,2) 69.4\n"
     ]
    }
   ],
   "source": [
    "output = np.linspace(start=[2, 5, 9], stop=[100, 130, 160], num=6)\n",
    "print(output)\n",
    "\n",
    "print(\"\\nShepe of this array:\",output.shape)\n",
    "\n",
    "print(\"\\n Element of array:(at postion:0)\",output[0])\n",
    "print(\"\\n Element of array:(at postion:1)\",output[1])\n",
    "print(\"\\n Element of array:(at postion:2)\",output[2])\n",
    "\n",
    "print(\"\\n Element of array:(at postion:0,1)\",output[0][1])\n",
    "print(\"\\n Element of array:(at postion:1,1)\",output[1][1])\n",
    "print(\"\\n Element of array:(at postion:2,2)\",output[2][2])"
   ]
  },
  {
   "cell_type": "code",
   "execution_count": 35,
   "id": "4088df8a",
   "metadata": {
    "execution": {
     "iopub.execute_input": "2022-09-18T15:51:22.779861Z",
     "iopub.status.busy": "2022-09-18T15:51:22.779449Z",
     "iopub.status.idle": "2022-09-18T15:51:22.789166Z",
     "shell.execute_reply": "2022-09-18T15:51:22.787936Z"
    },
    "papermill": {
     "duration": 0.042436,
     "end_time": "2022-09-18T15:51:22.791441",
     "exception": false,
     "start_time": "2022-09-18T15:51:22.749005",
     "status": "completed"
    },
    "tags": []
   },
   "outputs": [
    {
     "name": "stdout",
     "output_type": "stream",
     "text": [
      "[[  2.   21.6  41.2  60.8  80.4 100. ]\n",
      " [  5.   30.   55.   80.  105.  130. ]\n",
      " [  9.   39.2  69.4  99.6 129.8 160. ]]\n",
      "\n",
      "Shepe of this array: (3, 6)\n",
      "\n",
      " Element of array:(at postion:0) [  2.   21.6  41.2  60.8  80.4 100. ]\n",
      "\n",
      " Element of array:(at postion:1) [  5.  30.  55.  80. 105. 130.]\n",
      "\n",
      " Element of array:(at postion:2) [  9.   39.2  69.4  99.6 129.8 160. ]\n",
      "\n",
      " Element of array:(at postion:0,1) 21.6\n",
      "\n",
      " Element of array:(at postion:1,1) 30.0\n",
      "\n",
      " Element of array:(at postion:2,2) 69.4\n"
     ]
    }
   ],
   "source": [
    "output = np.linspace(start=[2, 5, 9],stop=[100, 130, 160],num=6,axis=1) #default axis is 0\n",
    "print(output)\n",
    "\n",
    "print(\"\\nShepe of this array:\",output.shape)\n",
    "\n",
    "print(\"\\n Element of array:(at postion:0)\",output[0])\n",
    "print(\"\\n Element of array:(at postion:1)\",output[1])\n",
    "print(\"\\n Element of array:(at postion:2)\",output[2])\n",
    "\n",
    "print(\"\\n Element of array:(at postion:0,1)\",output[0][1])\n",
    "print(\"\\n Element of array:(at postion:1,1)\",output[1][1])\n",
    "print(\"\\n Element of array:(at postion:2,2)\",output[2][2])"
   ]
  },
  {
   "cell_type": "markdown",
   "id": "a8ceba7f",
   "metadata": {
    "papermill": {
     "duration": 0.028609,
     "end_time": "2022-09-18T15:51:22.849062",
     "exception": false,
     "start_time": "2022-09-18T15:51:22.820453",
     "status": "completed"
    },
    "tags": []
   },
   "source": [
    "#### Mathematical Functions With np.linspace()"
   ]
  },
  {
   "cell_type": "code",
   "execution_count": 36,
   "id": "ba2e3bb7",
   "metadata": {
    "execution": {
     "iopub.execute_input": "2022-09-18T15:51:22.907427Z",
     "iopub.status.busy": "2022-09-18T15:51:22.907033Z",
     "iopub.status.idle": "2022-09-18T15:51:22.916057Z",
     "shell.execute_reply": "2022-09-18T15:51:22.914774Z"
    },
    "papermill": {
     "duration": 0.041261,
     "end_time": "2022-09-18T15:51:22.918529",
     "exception": false,
     "start_time": "2022-09-18T15:51:22.877268",
     "status": "completed"
    },
    "tags": []
   },
   "outputs": [
    {
     "name": "stdout",
     "output_type": "stream",
     "text": [
      "X-Value\n",
      "\n",
      " [-100.          -97.97979798  -95.95959596  -93.93939394  -91.91919192\n",
      "  -89.8989899   -87.87878788  -85.85858586  -83.83838384  -81.81818182\n",
      "  -79.7979798   -77.77777778  -75.75757576  -73.73737374  -71.71717172\n",
      "  -69.6969697   -67.67676768  -65.65656566  -63.63636364  -61.61616162\n",
      "  -59.5959596   -57.57575758  -55.55555556  -53.53535354  -51.51515152\n",
      "  -49.49494949  -47.47474747  -45.45454545  -43.43434343  -41.41414141\n",
      "  -39.39393939  -37.37373737  -35.35353535  -33.33333333  -31.31313131\n",
      "  -29.29292929  -27.27272727  -25.25252525  -23.23232323  -21.21212121\n",
      "  -19.19191919  -17.17171717  -15.15151515  -13.13131313  -11.11111111\n",
      "   -9.09090909   -7.07070707   -5.05050505   -3.03030303   -1.01010101\n",
      "    1.01010101    3.03030303    5.05050505    7.07070707    9.09090909\n",
      "   11.11111111   13.13131313   15.15151515   17.17171717   19.19191919\n",
      "   21.21212121   23.23232323   25.25252525   27.27272727   29.29292929\n",
      "   31.31313131   33.33333333   35.35353535   37.37373737   39.39393939\n",
      "   41.41414141   43.43434343   45.45454545   47.47474747   49.49494949\n",
      "   51.51515152   53.53535354   55.55555556   57.57575758   59.5959596\n",
      "   61.61616162   63.63636364   65.65656566   67.67676768   69.6969697\n",
      "   71.71717172   73.73737374   75.75757576   77.77777778   79.7979798\n",
      "   81.81818182   83.83838384   85.85858586   87.87878788   89.8989899\n",
      "   91.91919192   93.93939394   95.95959596   97.97979798  100.        ] \n",
      "\n",
      "\n",
      "Y-Value\n",
      "\n",
      " [-3.98050000e+06 -3.74373005e+06 -3.51654083e+06 -3.29873444e+06\n",
      " -3.09011301e+06 -2.89047867e+06 -2.69963354e+06 -2.51737974e+06\n",
      " -2.34351939e+06 -2.17785462e+06 -2.02018755e+06 -1.87032030e+06\n",
      " -1.72805500e+06 -1.59319376e+06 -1.46553872e+06 -1.34489199e+06\n",
      " -1.23105570e+06 -1.12383197e+06 -1.02302292e+06 -9.28430670e+05\n",
      " -8.39857353e+05 -7.57105087e+05 -6.79975995e+05 -6.08272199e+05\n",
      " -5.41795823e+05 -4.80348990e+05 -4.23733822e+05 -3.71752442e+05\n",
      " -3.24206973e+05 -2.80899538e+05 -2.41632259e+05 -2.06207260e+05\n",
      " -1.74426664e+05 -1.46092593e+05 -1.21007169e+05 -9.89725172e+04\n",
      " -7.97907588e+04 -6.32640171e+04 -4.91944148e+04 -3.73840749e+04\n",
      " -2.76351202e+04 -1.97496736e+04 -1.35298578e+04 -8.77779581e+03\n",
      " -5.29561043e+03 -2.88542449e+03 -1.34936087e+03 -4.89542399e+02\n",
      " -1.08091939e+02 -7.13233756e+00  1.12135538e+01  1.44822884e+02\n",
      "  5.91572804e+02  1.54934046e+03  3.21600301e+03  5.78943759e+03\n",
      "  9.46752135e+03  1.44481315e+04  2.09291450e+04  2.91084393e+04\n",
      "  3.91838913e+04  5.13533782e+04  6.58147772e+04  8.27659654e+04\n",
      "  1.02404820e+05  1.24929218e+05  1.50537037e+05  1.79426154e+05\n",
      "  2.11794445e+05  2.47839789e+05  2.87760062e+05  3.31753142e+05\n",
      "  3.80016905e+05  4.32749228e+05  4.90147990e+05  5.52411067e+05\n",
      "  6.19736335e+05  6.92321674e+05  7.70364958e+05  8.54064066e+05\n",
      "  9.43616875e+05  1.03922126e+06  1.14107510e+06  1.24937628e+06\n",
      "  1.36432266e+06  1.48611213e+06  1.61494257e+06  1.75101184e+06\n",
      "  1.89451783e+06  2.04565842e+06  2.20463148e+06  2.37163489e+06\n",
      "  2.54686653e+06  2.73052426e+06  2.92280599e+06  3.12390956e+06\n",
      "  3.33403288e+06  3.55337380e+06  3.78213022e+06  4.02050000e+06]\n"
     ]
    }
   ],
   "source": [
    "x_ = np.linspace(-100, 100, 100)\n",
    "y_ = 4 * (x_**3) + 2 * (x_**2) + 5 * x_\n",
    "print(\"X-Value\\n\\n\",x_,\"\\n\\n\\nY-Value\\n\\n\",y_)"
   ]
  },
  {
   "cell_type": "code",
   "execution_count": 37,
   "id": "12fad8e4",
   "metadata": {
    "execution": {
     "iopub.execute_input": "2022-09-18T15:51:22.978354Z",
     "iopub.status.busy": "2022-09-18T15:51:22.977654Z",
     "iopub.status.idle": "2022-09-18T15:51:23.220989Z",
     "shell.execute_reply": "2022-09-18T15:51:23.219794Z"
    },
    "papermill": {
     "duration": 0.275922,
     "end_time": "2022-09-18T15:51:23.223568",
     "exception": false,
     "start_time": "2022-09-18T15:51:22.947646",
     "status": "completed"
    },
    "tags": []
   },
   "outputs": [
    {
     "data": {
      "image/png": "[encoded data removed]",
      "text/plain": [
       "<Figure size 432x288 with 1 Axes>"
      ]
     },
     "metadata": {
      "needs_background": "light"
     },
     "output_type": "display_data"
    }
   ],
   "source": [
    "import matplotlib.pyplot as plt\n",
    "\n",
    "plt.plot(x_, y_)\n",
    "plt.show()"
   ]
  },
  {
   "cell_type": "markdown",
   "id": "e3330bef",
   "metadata": {
    "papermill": {
     "duration": 0.029202,
     "end_time": "2022-09-18T15:51:23.282503",
     "exception": false,
     "start_time": "2022-09-18T15:51:23.253301",
     "status": "completed"
    },
    "tags": []
   },
   "source": [
    "### Use of np.reshape():\n",
    "- Gives a new shape to an array without changing its data.\n",
    "- **Syntex:** <H3>numpy.reshape(a, newshape, order='C')</H3>\n"
   ]
  },
  {
   "cell_type": "code",
   "execution_count": 38,
   "id": "3062b054",
   "metadata": {
    "execution": {
     "iopub.execute_input": "2022-09-18T15:51:23.342645Z",
     "iopub.status.busy": "2022-09-18T15:51:23.342221Z",
     "iopub.status.idle": "2022-09-18T15:51:23.349083Z",
     "shell.execute_reply": "2022-09-18T15:51:23.347694Z"
    },
    "papermill": {
     "duration": 0.041107,
     "end_time": "2022-09-18T15:51:23.352651",
     "exception": false,
     "start_time": "2022-09-18T15:51:23.311544",
     "status": "completed"
    },
    "tags": []
   },
   "outputs": [
    {
     "name": "stdout",
     "output_type": "stream",
     "text": [
      "Sample array A:\n",
      " [[0 1]\n",
      " [2 3]\n",
      " [4 5]]\n",
      "Reshape Array A:\n",
      " [[0 1 2]\n",
      " [3 4 5]]\n"
     ]
    }
   ],
   "source": [
    "a = np.arange(6).reshape((3, 2))    #CREATING ARRAY OF SHAPE 3,2\n",
    "print(\"Sample array A:\\n\",a)\n",
    "\n",
    "b=np.reshape(a, (2, 3))          #CHANGING SHAPE OF ARRAY FROM 3,2 TO 2,3\n",
    "print(\"Reshape Array A:\\n\",b)"
   ]
  },
  {
   "cell_type": "code",
   "execution_count": 39,
   "id": "9a5845fe",
   "metadata": {
    "execution": {
     "iopub.execute_input": "2022-09-18T15:51:23.413292Z",
     "iopub.status.busy": "2022-09-18T15:51:23.412879Z",
     "iopub.status.idle": "2022-09-18T15:51:23.419692Z",
     "shell.execute_reply": "2022-09-18T15:51:23.418899Z"
    },
    "papermill": {
     "duration": 0.040081,
     "end_time": "2022-09-18T15:51:23.422571",
     "exception": false,
     "start_time": "2022-09-18T15:51:23.382490",
     "status": "completed"
    },
    "tags": []
   },
   "outputs": [
    {
     "name": "stdout",
     "output_type": "stream",
     "text": [
      "with change in order:\n",
      " [[0 1]\n",
      " [2 3]\n",
      " [4 5]] False\n",
      "without change in order:\n",
      " [[0 4 3]\n",
      " [2 1 5]] True\n"
     ]
    }
   ],
   "source": [
    "#without changing shape and order np.isfortran is \"False\"\n",
    "b=np.reshape(a, (3,2),order=\"F\")\n",
    "print(\"with change in order:\\n\",b,np.isfortran(b))\n",
    "\n",
    "#with changing shape and order also np.isfortran is \"True\"\n",
    "b=np.reshape(a, (2,3),order=\"F\")\n",
    "print(\"without change in order:\\n\",b,np.isfortran(b))"
   ]
  },
  {
   "cell_type": "code",
   "execution_count": 40,
   "id": "a33c065d",
   "metadata": {
    "execution": {
     "iopub.execute_input": "2022-09-18T15:51:23.484550Z",
     "iopub.status.busy": "2022-09-18T15:51:23.484120Z",
     "iopub.status.idle": "2022-09-18T15:51:23.490388Z",
     "shell.execute_reply": "2022-09-18T15:51:23.489514Z"
    },
    "papermill": {
     "duration": 0.039711,
     "end_time": "2022-09-18T15:51:23.493532",
     "exception": false,
     "start_time": "2022-09-18T15:51:23.453821",
     "status": "completed"
    },
    "tags": []
   },
   "outputs": [
    {
     "name": "stdout",
     "output_type": "stream",
     "text": [
      "Contineous Flatted array: [0 1 2 3 4 5]\n",
      "\n",
      "New shape array b:\n",
      " [[0 1 2]\n",
      " [3 4 5]]\n"
     ]
    }
   ],
   "source": [
    "b=np.ravel(a) #Contineous Flatted array:\n",
    "print(\"Contineous Flatted array:\",b)\n",
    "\n",
    "b=np.reshape(b, (2, 3))\n",
    "print(\"\\nNew shape array b:\\n\",b)"
   ]
  },
  {
   "cell_type": "code",
   "execution_count": 41,
   "id": "bc14874d",
   "metadata": {
    "execution": {
     "iopub.execute_input": "2022-09-18T15:51:23.555196Z",
     "iopub.status.busy": "2022-09-18T15:51:23.554423Z",
     "iopub.status.idle": "2022-09-18T15:51:23.561444Z",
     "shell.execute_reply": "2022-09-18T15:51:23.559936Z"
    },
    "papermill": {
     "duration": 0.039944,
     "end_time": "2022-09-18T15:51:23.564010",
     "exception": false,
     "start_time": "2022-09-18T15:51:23.524066",
     "status": "completed"
    },
    "tags": []
   },
   "outputs": [
    {
     "name": "stdout",
     "output_type": "stream",
     "text": [
      "flatten array with order 'F':\n",
      " [0 2 4 1 3 5]\n",
      "new array:\n",
      " [[0 4 3]\n",
      " [2 1 5]]\n"
     ]
    }
   ],
   "source": [
    "b=np.ravel(a, order='F')\n",
    "print(\"flatten array with order 'F':\\n\",b)\n",
    "b=np.reshape(b, (2, 3), order='F')\n",
    "print(\"new array:\\n\",b)"
   ]
  },
  {
   "cell_type": "code",
   "execution_count": 42,
   "id": "772de1f7",
   "metadata": {
    "execution": {
     "iopub.execute_input": "2022-09-18T15:51:23.624696Z",
     "iopub.status.busy": "2022-09-18T15:51:23.624276Z",
     "iopub.status.idle": "2022-09-18T15:51:23.633343Z",
     "shell.execute_reply": "2022-09-18T15:51:23.632047Z"
    },
    "papermill": {
     "duration": 0.043009,
     "end_time": "2022-09-18T15:51:23.636532",
     "exception": false,
     "start_time": "2022-09-18T15:51:23.593523",
     "status": "completed"
    },
    "tags": []
   },
   "outputs": [
    {
     "name": "stdout",
     "output_type": "stream",
     "text": [
      "[[1 2 3]\n",
      " [4 5 6]]\n",
      "IN 1-D array :  [1 4 2 5 3 6]\n",
      "\n",
      "1-D array: [1 2 3 4 5 6]\n"
     ]
    }
   ],
   "source": [
    "a = np.array([[1,2,3], [4,5,6]])\n",
    "print(a)\n",
    "b=np.reshape(a, 6, order='F')\n",
    "print(\"IN 1-D array : \",b)\n",
    "\n",
    "\n",
    "#WE CAN CREATE FLATTEN LIKE THAT ALSO\n",
    "\n",
    "arr = np.array([[1, 2, 3], [4, 5, 6]])\n",
    "newarr = arr.reshape(-1)\n",
    "print(\"\\n1-D array:\",newarr)"
   ]
  },
  {
   "cell_type": "code",
   "execution_count": 43,
   "id": "875891d1",
   "metadata": {
    "execution": {
     "iopub.execute_input": "2022-09-18T15:51:23.699116Z",
     "iopub.status.busy": "2022-09-18T15:51:23.698002Z",
     "iopub.status.idle": "2022-09-18T15:51:23.705168Z",
     "shell.execute_reply": "2022-09-18T15:51:23.703516Z"
    },
    "papermill": {
     "duration": 0.040705,
     "end_time": "2022-09-18T15:51:23.707881",
     "exception": false,
     "start_time": "2022-09-18T15:51:23.667176",
     "status": "completed"
    },
    "tags": []
   },
   "outputs": [
    {
     "name": "stdout",
     "output_type": "stream",
     "text": [
      "[1 2 3 4 5 6 7 8 9]\n"
     ]
    }
   ],
   "source": [
    "arr = np.array([1, 2, 3, 4, 5, 6, 7, 8,9])\n",
    "arr1=arr.reshape(3,3) ###WE CAN USE LIKE THAT ALSO\n",
    "print(arr)"
   ]
  },
  {
   "cell_type": "markdown",
   "id": "2c7608a0",
   "metadata": {
    "papermill": {
     "duration": 0.029378,
     "end_time": "2022-09-18T15:51:23.766866",
     "exception": false,
     "start_time": "2022-09-18T15:51:23.737488",
     "status": "completed"
    },
    "tags": []
   },
   "source": [
    "##### numpy.ndarray.base\n",
    "- Base object if memory is from some other object."
   ]
  },
  {
   "cell_type": "code",
   "execution_count": 44,
   "id": "81569009",
   "metadata": {
    "execution": {
     "iopub.execute_input": "2022-09-18T15:51:23.828865Z",
     "iopub.status.busy": "2022-09-18T15:51:23.828430Z",
     "iopub.status.idle": "2022-09-18T15:51:23.835154Z",
     "shell.execute_reply": "2022-09-18T15:51:23.833810Z"
    },
    "papermill": {
     "duration": 0.040512,
     "end_time": "2022-09-18T15:51:23.837704",
     "exception": false,
     "start_time": "2022-09-18T15:51:23.797192",
     "status": "completed"
    },
    "tags": []
   },
   "outputs": [
    {
     "name": "stdout",
     "output_type": "stream",
     "text": [
      "None True \n",
      " Give the base of array:base: [1 2 3 4 5 6 7 8 9] False\n"
     ]
    }
   ],
   "source": [
    "print(arr.base,arr.base is None,\"\\n Give the base of array:base:\",arr1.base,arr1.base is None)"
   ]
  },
  {
   "cell_type": "markdown",
   "id": "76080a99",
   "metadata": {
    "papermill": {
     "duration": 0.029435,
     "end_time": "2022-09-18T15:51:23.897164",
     "exception": false,
     "start_time": "2022-09-18T15:51:23.867729",
     "status": "completed"
    },
    "tags": []
   },
   "source": [
    "## Working with numpy.ravel\n",
    "- Return a contiguous flattened array.\n",
    "\n",
    "- A 1-D array, containing the elements of the input, is returned. A copy is made only if needed.\n",
    "\n",
    "- As of NumPy 1.10, the returned array will have the same type as the input array. (for example, a masked array will be returned for a masked array input)\n",
    "- **Syntex:** <H3>numpy.ravel(a, order='C')</H3>\n"
   ]
  },
  {
   "cell_type": "code",
   "execution_count": 45,
   "id": "4644d2df",
   "metadata": {
    "execution": {
     "iopub.execute_input": "2022-09-18T15:51:23.958748Z",
     "iopub.status.busy": "2022-09-18T15:51:23.958315Z",
     "iopub.status.idle": "2022-09-18T15:51:23.965540Z",
     "shell.execute_reply": "2022-09-18T15:51:23.964463Z"
    },
    "papermill": {
     "duration": 0.041084,
     "end_time": "2022-09-18T15:51:23.968099",
     "exception": false,
     "start_time": "2022-09-18T15:51:23.927015",
     "status": "completed"
    },
    "tags": []
   },
   "outputs": [
    {
     "name": "stdout",
     "output_type": "stream",
     "text": [
      "Sample 2-D array:\n",
      " [[1 2 3]\n",
      " [4 5 6]]\n",
      "New Flattened array(1-D) [1 2 3 4 5 6] \n",
      "Shape of New array (6,)\n"
     ]
    }
   ],
   "source": [
    "arr_revel= np.array([[1, 2, 3], [4, 5, 6]])\n",
    "print(\"Sample 2-D array:\\n\",arr_revel)\n",
    "newarr=np.ravel(arr_revel)\n",
    "print(\"New Flattened array(1-D)\",newarr,'\\nShape of New array',newarr.shape)\n"
   ]
  },
  {
   "cell_type": "code",
   "execution_count": 46,
   "id": "6ff67bce",
   "metadata": {
    "execution": {
     "iopub.execute_input": "2022-09-18T15:51:24.035773Z",
     "iopub.status.busy": "2022-09-18T15:51:24.035177Z",
     "iopub.status.idle": "2022-09-18T15:51:24.041785Z",
     "shell.execute_reply": "2022-09-18T15:51:24.040527Z"
    },
    "papermill": {
     "duration": 0.045738,
     "end_time": "2022-09-18T15:51:24.044359",
     "exception": false,
     "start_time": "2022-09-18T15:51:23.998621",
     "status": "completed"
    },
    "tags": []
   },
   "outputs": [
    {
     "name": "stdout",
     "output_type": "stream",
     "text": [
      "New flatten array with order: [1 4 2 5 3 6]\n"
     ]
    }
   ],
   "source": [
    "newarr=np.ravel(arr_revel, order='F')\n",
    "print(\"New flatten array with order:\",newarr)"
   ]
  },
  {
   "cell_type": "markdown",
   "id": "eb36aaaf",
   "metadata": {
    "papermill": {
     "duration": 0.029334,
     "end_time": "2022-09-18T15:51:24.103659",
     "exception": false,
     "start_time": "2022-09-18T15:51:24.074325",
     "status": "completed"
    },
    "tags": []
   },
   "source": [
    "## Working with numpy.ndarray.flatten\n",
    "- Return a copy of the array collapsed into one dimension.\n",
    "- **Syntex:** <H3>ndarray.flatten(order='C')</H3>\n"
   ]
  },
  {
   "cell_type": "code",
   "execution_count": 47,
   "id": "07cd632b",
   "metadata": {
    "execution": {
     "iopub.execute_input": "2022-09-18T15:51:24.165018Z",
     "iopub.status.busy": "2022-09-18T15:51:24.164621Z",
     "iopub.status.idle": "2022-09-18T15:51:24.171116Z",
     "shell.execute_reply": "2022-09-18T15:51:24.169708Z"
    },
    "papermill": {
     "duration": 0.040395,
     "end_time": "2022-09-18T15:51:24.173881",
     "exception": false,
     "start_time": "2022-09-18T15:51:24.133486",
     "status": "completed"
    },
    "tags": []
   },
   "outputs": [
    {
     "name": "stdout",
     "output_type": "stream",
     "text": [
      "Give a Copy of Array:\n",
      " [[1 2]\n",
      " [3 4]]\n"
     ]
    }
   ],
   "source": [
    "aflate = np.array([[1,2], [3,4]])\n",
    "print(\"Give a Copy of Array:\\n\",aflate)"
   ]
  },
  {
   "cell_type": "markdown",
   "id": "dd73a582",
   "metadata": {
    "papermill": {
     "duration": 0.029677,
     "end_time": "2022-09-18T15:51:24.235205",
     "exception": false,
     "start_time": "2022-09-18T15:51:24.205528",
     "status": "completed"
    },
    "tags": []
   },
   "source": [
    "\n",
    "<html>\n",
    "    <h2 style=\"text-align:center\"><strong>Differences between Flatten() and Ravel()</strong></h2>\n",
    "<figure class=\"table\"><table><thead><tr><th><p style=\"text-align:center\"><strong>ravel()</strong></p></th><th><p style=\"text-align:center\"><strong>flatten()</strong></p></th></tr></thead><tbody><tr><td>Return only reference/view of the original array</td><td>Return copy of the original array</td></tr><tr><td>If you modify the array you would notice that the value of the original array also changes.</td><td>If you modify any value of this array value of the original array is not affected.</td></tr><tr><td>Ravel is faster than flatten() as it does not occupy any memory.</td><td>Flatten() is comparatively slower than ravel() as it occupies memory.</td></tr><tr><td>Ravel is a library-level function.&nbsp;</td><td>Flatten is a method of an ndarray object. Let us check out the difference in this code.</td></tr></tbody></table></figure>\n",
    "</html>"
   ]
  },
  {
   "cell_type": "markdown",
   "id": "2b3128a9",
   "metadata": {
    "papermill": {
     "duration": 0.029445,
     "end_time": "2022-09-18T15:51:24.294928",
     "exception": false,
     "start_time": "2022-09-18T15:51:24.265483",
     "status": "completed"
    },
    "tags": []
   },
   "source": [
    "### Working with numpy.transpose\n",
    "- Reverse or permute the axes of an array; returns the modified array.(Returns a view of the array with axes transposed.)\n",
    "\n",
    "- For an array a with two axes, transpose(a) gives the matrix transpose.\n",
    "\n",
    "- **Syntex:** <H3>numpy.transpose(a, axes=None)</H3>\n"
   ]
  },
  {
   "cell_type": "code",
   "execution_count": 48,
   "id": "211ec8fe",
   "metadata": {
    "execution": {
     "iopub.execute_input": "2022-09-18T15:51:24.357743Z",
     "iopub.status.busy": "2022-09-18T15:51:24.357145Z",
     "iopub.status.idle": "2022-09-18T15:51:24.364188Z",
     "shell.execute_reply": "2022-09-18T15:51:24.362627Z"
    },
    "papermill": {
     "duration": 0.041703,
     "end_time": "2022-09-18T15:51:24.366855",
     "exception": false,
     "start_time": "2022-09-18T15:51:24.325152",
     "status": "completed"
    },
    "tags": []
   },
   "outputs": [
    {
     "name": "stdout",
     "output_type": "stream",
     "text": [
      "Sample array:\n",
      " [[1 2 3]\n",
      " [4 5 6]\n",
      " [7 8 9]]\n",
      "Transpose array:\n",
      " [[1 4 7]\n",
      " [2 5 8]\n",
      " [3 6 9]]\n"
     ]
    }
   ],
   "source": [
    "arr_trans=np.array([[1, 2, 3],\n",
    "                [4, 5, 6],\n",
    "                [7, 8, 9]])\n",
    "print(\"Sample array:\\n\",arr_trans)\n",
    "print(\"Transpose array:\\n\",arr_trans.transpose())\n",
    "                "
   ]
  },
  {
   "cell_type": "code",
   "execution_count": 49,
   "id": "d956cb14",
   "metadata": {
    "execution": {
     "iopub.execute_input": "2022-09-18T15:51:24.428456Z",
     "iopub.status.busy": "2022-09-18T15:51:24.428024Z",
     "iopub.status.idle": "2022-09-18T15:51:24.435304Z",
     "shell.execute_reply": "2022-09-18T15:51:24.433801Z"
    },
    "papermill": {
     "duration": 0.040919,
     "end_time": "2022-09-18T15:51:24.437959",
     "exception": false,
     "start_time": "2022-09-18T15:51:24.397040",
     "status": "completed"
    },
    "tags": []
   },
   "outputs": [
    {
     "name": "stdout",
     "output_type": "stream",
     "text": [
      "Sample array:\n",
      " [[1 2 3]\n",
      " [4 5 6]\n",
      " [7 8 9]]\n",
      "Transpose array:\n",
      " [[1 4 7]\n",
      " [2 5 8]\n",
      " [3 6 9]]\n"
     ]
    }
   ],
   "source": [
    "arr_trans=np.array([[1, 2, 3],\n",
    "                [4, 5, 6],\n",
    "                [7, 8, 9]])\n",
    "print(\"Sample array:\\n\",arr_trans)\n",
    "print(\"Transpose array:\\n\",arr_trans.T)"
   ]
  },
  {
   "cell_type": "code",
   "execution_count": 50,
   "id": "0e5ff3eb",
   "metadata": {
    "execution": {
     "iopub.execute_input": "2022-09-18T15:51:24.499920Z",
     "iopub.status.busy": "2022-09-18T15:51:24.499477Z",
     "iopub.status.idle": "2022-09-18T15:51:24.506561Z",
     "shell.execute_reply": "2022-09-18T15:51:24.505318Z"
    },
    "papermill": {
     "duration": 0.040912,
     "end_time": "2022-09-18T15:51:24.509122",
     "exception": false,
     "start_time": "2022-09-18T15:51:24.468210",
     "status": "completed"
    },
    "tags": []
   },
   "outputs": [
    {
     "name": "stdout",
     "output_type": "stream",
     "text": [
      "Sample arrary\n",
      " [[1 2]\n",
      " [4 5]\n",
      " [7 8]]\n",
      "Transpose with axis:\n",
      " [[1 4 7]\n",
      " [2 5 8]]\n"
     ]
    }
   ],
   "source": [
    "a= np.array([[1, 2], [4, 5], [7, 8]])  \n",
    "print(\"Sample arrary\\n\",a)\n",
    "b=np.transpose(a, (1,0))  \n",
    "print(\"Transpose with axis:\\n\",b)\n"
   ]
  },
  {
   "cell_type": "code",
   "execution_count": 51,
   "id": "5900e4a0",
   "metadata": {
    "execution": {
     "iopub.execute_input": "2022-09-18T15:51:24.571059Z",
     "iopub.status.busy": "2022-09-18T15:51:24.570643Z",
     "iopub.status.idle": "2022-09-18T15:51:24.579334Z",
     "shell.execute_reply": "2022-09-18T15:51:24.578251Z"
    },
    "papermill": {
     "duration": 0.043397,
     "end_time": "2022-09-18T15:51:24.582397",
     "exception": false,
     "start_time": "2022-09-18T15:51:24.539000",
     "status": "completed"
    },
    "tags": []
   },
   "outputs": [
    {
     "name": "stdout",
     "output_type": "stream",
     "text": [
      "Shape of sample array:\n",
      " [[[1. 1. 1. 1.]\n",
      "  [1. 1. 1. 1.]\n",
      "  [1. 1. 1. 1.]]\n",
      "\n",
      " [[1. 1. 1. 1.]\n",
      "  [1. 1. 1. 1.]\n",
      "  [1. 1. 1. 1.]]] \n",
      "Shape of Sample array (2, 3, 4) \n",
      "Dimention of Sample array: 3\n",
      "\n",
      "Transpose array b:\n",
      " [[[1. 1. 1. 1.]\n",
      "  [1. 1. 1. 1.]]\n",
      "\n",
      " [[1. 1. 1. 1.]\n",
      "  [1. 1. 1. 1.]]\n",
      "\n",
      " [[1. 1. 1. 1.]\n",
      "  [1. 1. 1. 1.]]] \n",
      "Shape of Transpose array (3, 2, 4) \n",
      "Dimention of Transpose array: 3\n",
      "\n",
      "Transpose array c:\n",
      " [[[1. 1.]\n",
      "  [1. 1.]\n",
      "  [1. 1.]]\n",
      "\n",
      " [[1. 1.]\n",
      "  [1. 1.]\n",
      "  [1. 1.]]\n",
      "\n",
      " [[1. 1.]\n",
      "  [1. 1.]\n",
      "  [1. 1.]]\n",
      "\n",
      " [[1. 1.]\n",
      "  [1. 1.]\n",
      "  [1. 1.]]] \n",
      "Shape of Transpose array (4, 3, 2) \n",
      "Dimention of Transpose array: 3\n"
     ]
    }
   ],
   "source": [
    "a = np.ones((2,3,4))\n",
    "print(\"Shape of sample array:\\n\",a,\"\\nShape of Sample array\",a.shape,\"\\nDimention of Sample array:\",a.ndim)\n",
    "\n",
    "\n",
    "b=np.transpose(a,(1,0,2))   #0, 1 ,2 the axis refer 2,3,4 in a\n",
    "print(\"\\nTranspose array b:\\n\",b,\"\\nShape of Transpose array\",b.shape,\"\\nDimention of Transpose array:\",b.ndim)\n",
    "\n",
    "\n",
    "c=np.transpose(a,(2,1,0))   #0, 1 ,2 the axis refer 2,3,4 in a\n",
    "print(\"\\nTranspose array c:\\n\",c,\"\\nShape of Transpose array\",c.shape,\"\\nDimention of Transpose array:\",c.ndim)\n"
   ]
  },
  {
   "cell_type": "markdown",
   "id": "d6dc926b",
   "metadata": {
    "papermill": {
     "duration": 0.029734,
     "end_time": "2022-09-18T15:51:24.643607",
     "exception": false,
     "start_time": "2022-09-18T15:51:24.613873",
     "status": "completed"
    },
    "tags": []
   },
   "source": [
    "# Mathematical Operation Using NumPy:\n",
    "\n",
    "### Working with Addition:\n",
    "- We use add() to add.\n",
    "- Or we can use '+' operator.\n",
    "- **Syntex:** <H3>np.add()</H3>"
   ]
  },
  {
   "cell_type": "code",
   "execution_count": 52,
   "id": "31f9f8ba",
   "metadata": {
    "execution": {
     "iopub.execute_input": "2022-09-18T15:51:24.705101Z",
     "iopub.status.busy": "2022-09-18T15:51:24.704683Z",
     "iopub.status.idle": "2022-09-18T15:51:24.712138Z",
     "shell.execute_reply": "2022-09-18T15:51:24.710905Z"
    },
    "papermill": {
     "duration": 0.041338,
     "end_time": "2022-09-18T15:51:24.714736",
     "exception": false,
     "start_time": "2022-09-18T15:51:24.673398",
     "status": "completed"
    },
    "tags": []
   },
   "outputs": [
    {
     "name": "stdout",
     "output_type": "stream",
     "text": [
      "Sample Array1:\n",
      " [[0 1 2]\n",
      " [3 4 5]\n",
      " [6 7 8]]\n",
      "\n",
      "Sample Array2:\n",
      " [[9 8 7]\n",
      " [6 5 4]\n",
      " [3 2 1]]\n"
     ]
    }
   ],
   "source": [
    "array1=np.arange(0,9).reshape(3,3)\n",
    "array2=np.arange(9,0,-1).reshape(3,3)\n",
    "print(\"Sample Array1:\\n\",array1)\n",
    "print(\"\\nSample Array2:\\n\",array2)"
   ]
  },
  {
   "cell_type": "code",
   "execution_count": 53,
   "id": "c0cf9604",
   "metadata": {
    "execution": {
     "iopub.execute_input": "2022-09-18T15:51:24.778483Z",
     "iopub.status.busy": "2022-09-18T15:51:24.777716Z",
     "iopub.status.idle": "2022-09-18T15:51:24.784422Z",
     "shell.execute_reply": "2022-09-18T15:51:24.783155Z"
    },
    "papermill": {
     "duration": 0.041437,
     "end_time": "2022-09-18T15:51:24.787432",
     "exception": false,
     "start_time": "2022-09-18T15:51:24.745995",
     "status": "completed"
    },
    "tags": []
   },
   "outputs": [
    {
     "name": "stdout",
     "output_type": "stream",
     "text": [
      "Addition of array is:\n",
      " [[9 9 9]\n",
      " [9 9 9]\n",
      " [9 9 9]]\n",
      "\n",
      "Addition of array is:\n",
      " [[9 9 9]\n",
      " [9 9 9]\n",
      " [9 9 9]]\n"
     ]
    }
   ],
   "source": [
    "#use of '+' Operator\n",
    "\n",
    "print(\"Addition of array is:\\n\",array1+array2) \n",
    "\n",
    "#use of add()\n",
    "\n",
    "print(\"\\nAddition of array is:\\n\",np.add(array1,array2)) "
   ]
  },
  {
   "cell_type": "markdown",
   "id": "a286d525",
   "metadata": {
    "papermill": {
     "duration": 0.030444,
     "end_time": "2022-09-18T15:51:24.850842",
     "exception": false,
     "start_time": "2022-09-18T15:51:24.820398",
     "status": "completed"
    },
    "tags": []
   },
   "source": [
    "### Working with Subtraction:\n",
    "- We use subtract() to subtract.\n",
    "- Or we can use '-' operator.\n",
    "- **Syntex:** <H3>np.subtract()</H3>"
   ]
  },
  {
   "cell_type": "code",
   "execution_count": 54,
   "id": "a53ef2c3",
   "metadata": {
    "execution": {
     "iopub.execute_input": "2022-09-18T15:51:24.912686Z",
     "iopub.status.busy": "2022-09-18T15:51:24.912273Z",
     "iopub.status.idle": "2022-09-18T15:51:24.918681Z",
     "shell.execute_reply": "2022-09-18T15:51:24.917593Z"
    },
    "papermill": {
     "duration": 0.040584,
     "end_time": "2022-09-18T15:51:24.921320",
     "exception": false,
     "start_time": "2022-09-18T15:51:24.880736",
     "status": "completed"
    },
    "tags": []
   },
   "outputs": [
    {
     "name": "stdout",
     "output_type": "stream",
     "text": [
      "Subtraction of array is:\n",
      " [[-9 -7 -5]\n",
      " [-3 -1  1]\n",
      " [ 3  5  7]] \n",
      "\n",
      "Type of +: <class 'numpy.ndarray'>\n",
      "\n",
      "Subtraction of array is:\n",
      " [[-9 -7 -5]\n",
      " [-3 -1  1]\n",
      " [ 3  5  7]]\n"
     ]
    }
   ],
   "source": [
    "#use of '-' Operator\n",
    "\n",
    "print(\"Subtraction of array is:\\n\",array1-array2,\"\\n\\nType of +:\",type(array1*array2) )\n",
    "\n",
    "#use of subtract()\n",
    "\n",
    "print(\"\\nSubtraction of array is:\\n\",np.subtract(array1,array2)) "
   ]
  },
  {
   "cell_type": "markdown",
   "id": "c8e3b3eb",
   "metadata": {
    "papermill": {
     "duration": 0.029833,
     "end_time": "2022-09-18T15:51:24.981577",
     "exception": false,
     "start_time": "2022-09-18T15:51:24.951744",
     "status": "completed"
    },
    "tags": []
   },
   "source": [
    "### Working with Divition:\n",
    "- We use divide() to divide.\n",
    "- Or we can use '/' operator.\n",
    "- **Syntex:** <H3>np.divide()</H3>"
   ]
  },
  {
   "cell_type": "code",
   "execution_count": 55,
   "id": "48b65e47",
   "metadata": {
    "execution": {
     "iopub.execute_input": "2022-09-18T15:51:25.045860Z",
     "iopub.status.busy": "2022-09-18T15:51:25.045178Z",
     "iopub.status.idle": "2022-09-18T15:51:25.051574Z",
     "shell.execute_reply": "2022-09-18T15:51:25.050521Z"
    },
    "papermill": {
     "duration": 0.042215,
     "end_time": "2022-09-18T15:51:25.054426",
     "exception": false,
     "start_time": "2022-09-18T15:51:25.012211",
     "status": "completed"
    },
    "tags": []
   },
   "outputs": [
    {
     "name": "stdout",
     "output_type": "stream",
     "text": [
      "Divition of array is:\n",
      " [[0.         0.125      0.28571429]\n",
      " [0.5        0.8        1.25      ]\n",
      " [2.         3.5        8.        ]]\n",
      "\n",
      "Divition of array is:\n",
      " [[0.         0.125      0.28571429]\n",
      " [0.5        0.8        1.25      ]\n",
      " [2.         3.5        8.        ]]\n"
     ]
    }
   ],
   "source": [
    "#use of '/' Operator\n",
    "\n",
    "print(\"Divition of array is:\\n\",array1/array2) \n",
    "\n",
    "#use of divide()\n",
    "\n",
    "print(\"\\nDivition of array is:\\n\",np.divide(array1,array2)) "
   ]
  },
  {
   "cell_type": "markdown",
   "id": "0d4b2b86",
   "metadata": {
    "papermill": {
     "duration": 0.030186,
     "end_time": "2022-09-18T15:51:25.114949",
     "exception": false,
     "start_time": "2022-09-18T15:51:25.084763",
     "status": "completed"
    },
    "tags": []
   },
   "source": [
    "### Working with Multiply:\n",
    "- We use multiply() to multiply.\n",
    "- Or we can use '*' operator.\n",
    "- **Syntex:** <H3>np.multiply()</H3>"
   ]
  },
  {
   "cell_type": "code",
   "execution_count": 56,
   "id": "0b907614",
   "metadata": {
    "execution": {
     "iopub.execute_input": "2022-09-18T15:51:25.177200Z",
     "iopub.status.busy": "2022-09-18T15:51:25.176774Z",
     "iopub.status.idle": "2022-09-18T15:51:25.183056Z",
     "shell.execute_reply": "2022-09-18T15:51:25.181919Z"
    },
    "papermill": {
     "duration": 0.040845,
     "end_time": "2022-09-18T15:51:25.186054",
     "exception": false,
     "start_time": "2022-09-18T15:51:25.145209",
     "status": "completed"
    },
    "tags": []
   },
   "outputs": [
    {
     "name": "stdout",
     "output_type": "stream",
     "text": [
      "Multiply of array is:\n",
      " [[ 0  8 14]\n",
      " [18 20 20]\n",
      " [18 14  8]]\n",
      "\n",
      "Multiply of array is:\n",
      " [[ 0  8 14]\n",
      " [18 20 20]\n",
      " [18 14  8]]\n"
     ]
    }
   ],
   "source": [
    "#use of '*' Operator\n",
    "print(\"Multiply of array is:\\n\",array1*array2) \n",
    "\n",
    "#use of multiply()\n",
    "\n",
    "print(\"\\nMultiply of array is:\\n\",np.multiply(array1,array2)) "
   ]
  },
  {
   "cell_type": "markdown",
   "id": "27f02517",
   "metadata": {
    "papermill": {
     "duration": 0.030279,
     "end_time": "2022-09-18T15:51:25.247618",
     "exception": false,
     "start_time": "2022-09-18T15:51:25.217339",
     "status": "completed"
    },
    "tags": []
   },
   "source": [
    "### <span style=\"color: red\"> Note: This is elementry multiply for matrix multiplication we use '@' or numpy.dot\n",
    " </span>"
   ]
  },
  {
   "cell_type": "code",
   "execution_count": 57,
   "id": "f3cca231",
   "metadata": {
    "execution": {
     "iopub.execute_input": "2022-09-18T15:51:25.310267Z",
     "iopub.status.busy": "2022-09-18T15:51:25.309851Z",
     "iopub.status.idle": "2022-09-18T15:51:25.316763Z",
     "shell.execute_reply": "2022-09-18T15:51:25.315310Z"
    },
    "papermill": {
     "duration": 0.041218,
     "end_time": "2022-09-18T15:51:25.319181",
     "exception": false,
     "start_time": "2022-09-18T15:51:25.277963",
     "status": "completed"
    },
    "tags": []
   },
   "outputs": [
    {
     "name": "stdout",
     "output_type": "stream",
     "text": [
      "Matrix Multiply of array is:\n",
      " [[ 12   9   6]\n",
      " [ 66  54  42]\n",
      " [120  99  78]]\n",
      "\n",
      "Matrix Multiply of array is:\n",
      " [[ 12   9   6]\n",
      " [ 66  54  42]\n",
      " [120  99  78]]\n"
     ]
    }
   ],
   "source": [
    "#use of '@' Operator\n",
    "\n",
    "print(\"Matrix Multiply of array is:\\n\",array1@array2) \n",
    "\n",
    "#use of .dot()\n",
    "\n",
    "print(\"\\nMatrix Multiply of array is:\\n\",array1.dot(array2)) "
   ]
  },
  {
   "cell_type": "markdown",
   "id": "bf523797",
   "metadata": {
    "papermill": {
     "duration": 0.029789,
     "end_time": "2022-09-18T15:51:25.379683",
     "exception": false,
     "start_time": "2022-09-18T15:51:25.349894",
     "status": "completed"
    },
    "tags": []
   },
   "source": [
    "### Working with Power:\n",
    "- The **power()** function rises the values from the first array to the power of the values of the second array, and return the results in a new array."
   ]
  },
  {
   "cell_type": "code",
   "execution_count": 58,
   "id": "dbc8a0b7",
   "metadata": {
    "execution": {
     "iopub.execute_input": "2022-09-18T15:51:25.441740Z",
     "iopub.status.busy": "2022-09-18T15:51:25.441380Z",
     "iopub.status.idle": "2022-09-18T15:51:25.447550Z",
     "shell.execute_reply": "2022-09-18T15:51:25.446094Z"
    },
    "papermill": {
     "duration": 0.040241,
     "end_time": "2022-09-18T15:51:25.450115",
     "exception": false,
     "start_time": "2022-09-18T15:51:25.409874",
     "status": "completed"
    },
    "tags": []
   },
   "outputs": [
    {
     "name": "stdout",
     "output_type": "stream",
     "text": [
      "Power() use:\n",
      " [[   0    1  128]\n",
      " [ 729 1024  625]\n",
      " [ 216   49    8]]\n",
      "Power() use:\n",
      " [[   1    8   49]\n",
      " [ 216  625 1024]\n",
      " [ 729  128    1]]\n"
     ]
    }
   ],
   "source": [
    "print(\"Power() use:\\n\",np.power(array1,array2)) \n",
    "print(\"Power() use:\\n\",np.power(array2,array1)) "
   ]
  },
  {
   "cell_type": "code",
   "execution_count": 59,
   "id": "5d704958",
   "metadata": {
    "execution": {
     "iopub.execute_input": "2022-09-18T15:51:25.513068Z",
     "iopub.status.busy": "2022-09-18T15:51:25.512587Z",
     "iopub.status.idle": "2022-09-18T15:51:25.519987Z",
     "shell.execute_reply": "2022-09-18T15:51:25.518804Z"
    },
    "papermill": {
     "duration": 0.041417,
     "end_time": "2022-09-18T15:51:25.522249",
     "exception": false,
     "start_time": "2022-09-18T15:51:25.480832",
     "status": "completed"
    },
    "tags": []
   },
   "outputs": [
    {
     "name": "stdout",
     "output_type": "stream",
     "text": [
      "[[119 108 108]\n",
      " [111 119 116]\n",
      " [105 109 100]\n",
      " [111 115  92]\n",
      " [107 100  94]\n",
      " [ 97 108  90]\n",
      " [ 99  95 113]\n",
      " [114  92  96]] \n",
      "\n",
      "Power of 2 on test array:\n",
      " [[14161 11664 11664]\n",
      " [12321 14161 13456]\n",
      " [11025 11881 10000]\n",
      " [12321 13225  8464]\n",
      " [11449 10000  8836]\n",
      " [ 9409 11664  8100]\n",
      " [ 9801  9025 12769]\n",
      " [12996  8464  9216]] <class 'numpy.ndarray'>\n"
     ]
    }
   ],
   "source": [
    "test = np.random.randint(90,120,(8,3))\n",
    "test1=test**2\n",
    "print(test,\"\\n\\nPower of 2 on test array:\\n\",test1,type(test1))"
   ]
  },
  {
   "cell_type": "markdown",
   "id": "f9814c6f",
   "metadata": {
    "papermill": {
     "duration": 0.030268,
     "end_time": "2022-09-18T15:51:25.583128",
     "exception": false,
     "start_time": "2022-09-18T15:51:25.552860",
     "status": "completed"
    },
    "tags": []
   },
   "source": [
    "### Working with Remainder:\n",
    "- Both the **mod()** and the **remainder()** functions return the remainder of the values in the first array corresponding to the values in the second array, and return the results in a new array."
   ]
  },
  {
   "cell_type": "code",
   "execution_count": 60,
   "id": "b9bb5cdf",
   "metadata": {
    "execution": {
     "iopub.execute_input": "2022-09-18T15:51:25.646176Z",
     "iopub.status.busy": "2022-09-18T15:51:25.645777Z",
     "iopub.status.idle": "2022-09-18T15:51:25.652107Z",
     "shell.execute_reply": "2022-09-18T15:51:25.650527Z"
    },
    "papermill": {
     "duration": 0.040897,
     "end_time": "2022-09-18T15:51:25.654514",
     "exception": false,
     "start_time": "2022-09-18T15:51:25.613617",
     "status": "completed"
    },
    "tags": []
   },
   "outputs": [
    {
     "name": "stdout",
     "output_type": "stream",
     "text": [
      "Working with mod():\n",
      " [[0 1 2]\n",
      " [3 4 1]\n",
      " [0 1 0]]\n",
      "Working with remainder():\n",
      " [[0 1 2]\n",
      " [3 4 1]\n",
      " [0 1 0]]\n"
     ]
    }
   ],
   "source": [
    "print(\"Working with mod():\\n\",np.mod(array1,array2))\n",
    "print(\"Working with remainder():\\n\",np.remainder(array1,array2))"
   ]
  },
  {
   "cell_type": "markdown",
   "id": "cbe97d4d",
   "metadata": {
    "papermill": {
     "duration": 0.030517,
     "end_time": "2022-09-18T15:51:25.715790",
     "exception": false,
     "start_time": "2022-09-18T15:51:25.685273",
     "status": "completed"
    },
    "tags": []
   },
   "source": [
    "### Working with Quotient and Mod:\n",
    "- The **divmod()** function return both the quotient and the the mod. The return value is two arrays, the first array contains the quotient and second array contains the mod."
   ]
  },
  {
   "cell_type": "code",
   "execution_count": 61,
   "id": "5fb95841",
   "metadata": {
    "execution": {
     "iopub.execute_input": "2022-09-18T15:51:25.778923Z",
     "iopub.status.busy": "2022-09-18T15:51:25.778529Z",
     "iopub.status.idle": "2022-09-18T15:51:25.785137Z",
     "shell.execute_reply": "2022-09-18T15:51:25.783626Z"
    },
    "papermill": {
     "duration": 0.041209,
     "end_time": "2022-09-18T15:51:25.787671",
     "exception": false,
     "start_time": "2022-09-18T15:51:25.746462",
     "status": "completed"
    },
    "tags": []
   },
   "outputs": [
    {
     "name": "stdout",
     "output_type": "stream",
     "text": [
      "(array([[0, 0, 0],\n",
      "       [0, 0, 1],\n",
      "       [2, 3, 8]]), array([[0, 1, 2],\n",
      "       [3, 4, 1],\n",
      "       [0, 1, 0]]))\n"
     ]
    }
   ],
   "source": [
    "newarr=np.divmod(array1,array2)\n",
    "print(newarr)"
   ]
  },
  {
   "cell_type": "code",
   "execution_count": 62,
   "id": "9e92095d",
   "metadata": {
    "execution": {
     "iopub.execute_input": "2022-09-18T15:51:25.853819Z",
     "iopub.status.busy": "2022-09-18T15:51:25.852707Z",
     "iopub.status.idle": "2022-09-18T15:51:25.859358Z",
     "shell.execute_reply": "2022-09-18T15:51:25.857817Z"
    },
    "papermill": {
     "duration": 0.041954,
     "end_time": "2022-09-18T15:51:25.861755",
     "exception": false,
     "start_time": "2022-09-18T15:51:25.819801",
     "status": "completed"
    },
    "tags": []
   },
   "outputs": [
    {
     "name": "stdout",
     "output_type": "stream",
     "text": [
      "[[0 0 0]\n",
      " [0 0 1]\n",
      " [2 3 8]] <class 'numpy.ndarray'>\n"
     ]
    }
   ],
   "source": [
    "newarr=array1//array2  #Quotient of both array\n",
    "print(newarr,type(newarr))"
   ]
  },
  {
   "cell_type": "markdown",
   "id": "6cf351f3",
   "metadata": {
    "papermill": {
     "duration": 0.030856,
     "end_time": "2022-09-18T15:51:25.923467",
     "exception": false,
     "start_time": "2022-09-18T15:51:25.892611",
     "status": "completed"
    },
    "tags": []
   },
   "source": [
    "### working with absolute():\n",
    "- Both the **absolute()** and the **abs()** functions do the same absolute operation element-wise but we should use **absolute()** to avoid confusion with python's inbuilt **math.abs()**\n",
    "\n"
   ]
  },
  {
   "cell_type": "code",
   "execution_count": 63,
   "id": "ea65edda",
   "metadata": {
    "execution": {
     "iopub.execute_input": "2022-09-18T15:51:25.987541Z",
     "iopub.status.busy": "2022-09-18T15:51:25.987151Z",
     "iopub.status.idle": "2022-09-18T15:51:25.994259Z",
     "shell.execute_reply": "2022-09-18T15:51:25.993310Z"
    },
    "papermill": {
     "duration": 0.041913,
     "end_time": "2022-09-18T15:51:25.996472",
     "exception": false,
     "start_time": "2022-09-18T15:51:25.954559",
     "status": "completed"
    },
    "tags": []
   },
   "outputs": [
    {
     "name": "stdout",
     "output_type": "stream",
     "text": [
      "[1.  2.  1.5 2.  3.  4. ]\n"
     ]
    }
   ],
   "source": [
    "arr = np.array([-1, -2, 1.5, 2, 3, -4])\n",
    "newarr = np.absolute(arr)\n",
    "print(newarr)"
   ]
  },
  {
   "cell_type": "markdown",
   "id": "525ee0b8",
   "metadata": {
    "papermill": {
     "duration": 0.031123,
     "end_time": "2022-09-18T15:51:26.059601",
     "exception": false,
     "start_time": "2022-09-18T15:51:26.028478",
     "status": "completed"
    },
    "tags": []
   },
   "source": [
    "### Working with Reciprocal Fun<sup>n</sup>\n",
    "- This Function returns the reciprocal of all the array elements."
   ]
  },
  {
   "cell_type": "code",
   "execution_count": 64,
   "id": "16c7c62a",
   "metadata": {
    "execution": {
     "iopub.execute_input": "2022-09-18T15:51:26.123898Z",
     "iopub.status.busy": "2022-09-18T15:51:26.123482Z",
     "iopub.status.idle": "2022-09-18T15:51:26.129744Z",
     "shell.execute_reply": "2022-09-18T15:51:26.128915Z"
    },
    "papermill": {
     "duration": 0.041536,
     "end_time": "2022-09-18T15:51:26.132088",
     "exception": false,
     "start_time": "2022-09-18T15:51:26.090552",
     "status": "completed"
    },
    "tags": []
   },
   "outputs": [
    {
     "data": {
      "text/plain": [
       "array([0, 0, 0, 0, 1])"
      ]
     },
     "execution_count": 64,
     "metadata": {},
     "output_type": "execute_result"
    }
   ],
   "source": [
    "a = np.array([7,3,4,5,1])\n",
    "np.reciprocal(a)"
   ]
  },
  {
   "cell_type": "markdown",
   "id": "d7142d38",
   "metadata": {
    "papermill": {
     "duration": 0.030788,
     "end_time": "2022-09-18T15:51:26.263424",
     "exception": false,
     "start_time": "2022-09-18T15:51:26.232636",
     "status": "completed"
    },
    "tags": []
   },
   "source": [
    "#### Here dividation with '0' happen\n",
    "\n",
    "``` python\n",
    "np.reciprocal(array1)\n",
    "\n",
    "/opt/conda/lib/python3.7/site-packages/ipykernel_launcher.py:1: RuntimeWarning: divide by zero encountered in reciprocal\n",
    "  \"\"\"Entry point for launching an IPython kernel.\n",
    "/opt/conda/lib/python3.7/site-packages/ipykernel_launcher.py:1: RuntimeWarning: invalid value encountered in reciprocal\n",
    "  \"\"\"Entry point for launching an IPython kernel.\n",
    "\n",
    "Out[1]:\n",
    "array([[-9223372036854775808,                    1,                    0],\n",
    "       [                   0,                    0,                    0],\n",
    "       [                   0,                    0,                    0]])\n",
    "```"
   ]
  },
  {
   "cell_type": "code",
   "execution_count": 65,
   "id": "8eef4f2e",
   "metadata": {
    "execution": {
     "iopub.execute_input": "2022-09-18T15:51:26.327569Z",
     "iopub.status.busy": "2022-09-18T15:51:26.327199Z",
     "iopub.status.idle": "2022-09-18T15:51:26.333619Z",
     "shell.execute_reply": "2022-09-18T15:51:26.332585Z"
    },
    "papermill": {
     "duration": 0.041553,
     "end_time": "2022-09-18T15:51:26.335708",
     "exception": false,
     "start_time": "2022-09-18T15:51:26.294155",
     "status": "completed"
    },
    "tags": []
   },
   "outputs": [
    {
     "data": {
      "text/plain": [
       "array([[0, 0, 0],\n",
       "       [0, 0, 0],\n",
       "       [0, 0, 1]])"
      ]
     },
     "execution_count": 65,
     "metadata": {},
     "output_type": "execute_result"
    }
   ],
   "source": [
    "np.reciprocal(array2)"
   ]
  },
  {
   "cell_type": "markdown",
   "id": "0aff2e6e",
   "metadata": {
    "papermill": {
     "duration": 0.031307,
     "end_time": "2022-09-18T15:51:26.399463",
     "exception": false,
     "start_time": "2022-09-18T15:51:26.368156",
     "status": "completed"
    },
    "tags": []
   },
   "source": [
    "## Working with other function:"
   ]
  },
  {
   "cell_type": "code",
   "execution_count": 66,
   "id": "e5f46beb",
   "metadata": {
    "execution": {
     "iopub.execute_input": "2022-09-18T15:51:26.464244Z",
     "iopub.status.busy": "2022-09-18T15:51:26.463400Z",
     "iopub.status.idle": "2022-09-18T15:51:26.470129Z",
     "shell.execute_reply": "2022-09-18T15:51:26.469051Z"
    },
    "papermill": {
     "duration": 0.041963,
     "end_time": "2022-09-18T15:51:26.472992",
     "exception": false,
     "start_time": "2022-09-18T15:51:26.431029",
     "status": "completed"
    },
    "tags": []
   },
   "outputs": [
    {
     "name": "stdout",
     "output_type": "stream",
     "text": [
      "Sample 1:\n",
      " [[ 2  6 10 14 18]\n",
      " [22 26 30 34 38]\n",
      " [42 46 50 54 58]\n",
      " [62 66 70 74 78]\n",
      " [82 86 90 94 98]] \n",
      "\n",
      "Sample 2:\n",
      " [[ 1  6 11 16 21]\n",
      " [26 31 36 41 46]\n",
      " [51 56 61 66 71]\n",
      " [76 81 86 91 96]]\n"
     ]
    }
   ],
   "source": [
    "sample=np.arange(2,100,4).reshape(5,5)\n",
    "sample1=np.arange(1,99,5).reshape(4,5)\n",
    "print(\"Sample 1:\\n\",sample,\"\\n\\nSample 2:\\n\",sample1)"
   ]
  },
  {
   "cell_type": "code",
   "execution_count": 67,
   "id": "e5c84f67",
   "metadata": {
    "execution": {
     "iopub.execute_input": "2022-09-18T15:51:26.538677Z",
     "iopub.status.busy": "2022-09-18T15:51:26.538053Z",
     "iopub.status.idle": "2022-09-18T15:51:26.548376Z",
     "shell.execute_reply": "2022-09-18T15:51:26.547037Z"
    },
    "papermill": {
     "duration": 0.045887,
     "end_time": "2022-09-18T15:51:26.551353",
     "exception": false,
     "start_time": "2022-09-18T15:51:26.505466",
     "status": "completed"
    },
    "tags": []
   },
   "outputs": [
    {
     "name": "stdout",
     "output_type": "stream",
     "text": [
      "Sum of sample array 1 1250\n",
      "Sum of sample array 2: 970\n",
      "\n",
      "Sum of sample array 1 in column's: [210 230 250 270 290]\n",
      "Sum of sample array 2 in column's: [154 174 194 214 234]\n",
      "\n",
      "Sum of sample array 1 in row's: [ 50 150 250 350 450]\n",
      "Sum of sample array 2 in row's: [ 55 180 305 430]\n"
     ]
    },
    {
     "data": {
      "text/plain": [
       "array([210, 230, 250, 270, 290])"
      ]
     },
     "execution_count": 67,
     "metadata": {},
     "output_type": "execute_result"
    }
   ],
   "source": [
    "print(\"Sum of sample array 1\",sample.sum())\n",
    "print(\"Sum of sample array 2:\",sample1.sum())\n",
    "\n",
    "print(\"\\nSum of sample array 1 in column's:\",sample.sum(axis=0))\n",
    "print(\"Sum of sample array 2 in column's:\",sample1.sum(axis=0))\n",
    "\n",
    "print(\"\\nSum of sample array 1 in row's:\",sample.sum(axis=1))\n",
    "print(\"Sum of sample array 2 in row's:\",sample1.sum(axis=1))\n",
    "\n",
    "sum(sample)"
   ]
  },
  {
   "cell_type": "markdown",
   "id": "cfc44c20",
   "metadata": {
    "papermill": {
     "duration": 0.031569,
     "end_time": "2022-09-18T15:51:26.615080",
     "exception": false,
     "start_time": "2022-09-18T15:51:26.583511",
     "status": "completed"
    },
    "tags": []
   },
   "source": [
    "#### Working with numpy.maximum():\n",
    "- numpy.maximum() function is used to find the element-wise maximum of array elements.\n",
    "- It compares two arrays and returns a new array containing the element-wise maxima. If one of the elements being compared is a NaN, then that element is returned. If both elements are NaNs then the first is returned.\n",
    "\n",
    "- **Syntex:** <H4>numpy.maximum(x1, x2, /, out=None, *, where=True, casting='same_kind', order='K', dtype=None, subok=True[, signature, extobj]) = <ufunc 'maximum'></H4>\n"
   ]
  },
  {
   "cell_type": "markdown",
   "id": "1e9585f2",
   "metadata": {
    "papermill": {
     "duration": 0.031634,
     "end_time": "2022-09-18T15:51:26.678276",
     "exception": false,
     "start_time": "2022-09-18T15:51:26.646642",
     "status": "completed"
    },
    "tags": []
   },
   "source": [
    "``` python\n",
    "print(\"\\nArray1:\\n\",sample)\n",
    "print(\"\\nArray2:\\n\",sample1)\n",
    "\n",
    "print(\"\\nFinding max using maximum():\\n\",np.maximum(sample,sample1))\n",
    "print(\"\\nFinding min using minimum():\\n\",np.maximum(sample,sample1))\n",
    "\n",
    "---------------------------------------------------------------------------\n",
    "ValueError                                Traceback (most recent call last)\n",
    "/tmp/ipykernel_17/2215792630.py in <module>\n",
    "      2 print(\"\\nArray2:\\n\",sample1)\n",
    "      3 \n",
    "----> 4 print(\"\\nFinding max using maximum():\\n\",np.maximum(sample,sample1))\n",
    "      5 print(\"\\nFinding min using minimum():\\n\",np.maximum(sample,sample1))\n",
    "      6 \n",
    "\n",
    "ValueError: operands could not be broadcast together with shapes (5,5) (4,5) \n",
    "```\n"
   ]
  },
  {
   "cell_type": "code",
   "execution_count": 68,
   "id": "ec106cc6",
   "metadata": {
    "execution": {
     "iopub.execute_input": "2022-09-18T15:51:26.744187Z",
     "iopub.status.busy": "2022-09-18T15:51:26.743755Z",
     "iopub.status.idle": "2022-09-18T15:51:26.752321Z",
     "shell.execute_reply": "2022-09-18T15:51:26.751225Z"
    },
    "papermill": {
     "duration": 0.044769,
     "end_time": "2022-09-18T15:51:26.754887",
     "exception": false,
     "start_time": "2022-09-18T15:51:26.710118",
     "status": "completed"
    },
    "tags": []
   },
   "outputs": [
    {
     "name": "stdout",
     "output_type": "stream",
     "text": [
      "\n",
      "Array1:\n",
      " [[ 2  6 10 14 18]\n",
      " [22 26 30 34 38]\n",
      " [42 46 50 54 58]\n",
      " [62 66 70 74 78]\n",
      " [82 86 90 94 98]]\n",
      "\n",
      "Array2:\n",
      " [[ 22  26  30  34  38]\n",
      " [ 42  46  50  54  58]\n",
      " [ 62  66  70  74  78]\n",
      " [ 82  86  90  94  98]\n",
      " [102 106 110 114 118]]\n",
      "\n",
      "Finding max using maximum():\n",
      " [[ 22  26  30  34  38]\n",
      " [ 42  46  50  54  58]\n",
      " [ 62  66  70  74  78]\n",
      " [ 82  86  90  94  98]\n",
      " [102 106 110 114 118]]\n",
      "\n",
      "Finding min using minimum():\n",
      " [[ 2  6 10 14 18]\n",
      " [22 26 30 34 38]\n",
      " [42 46 50 54 58]\n",
      " [62 66 70 74 78]\n",
      " [82 86 90 94 98]]\n"
     ]
    }
   ],
   "source": [
    "a=np.arange(2,100,4).reshape(5,5)\n",
    "b=np.arange(22,122,4).reshape(5,5)\n",
    "print(\"\\nArray1:\\n\",a)\n",
    "print(\"\\nArray2:\\n\",b)\n",
    "\n",
    "print(\"\\nFinding max using maximum():\\n\",np.maximum(a,b))\n",
    "print(\"\\nFinding min using minimum():\\n\",np.minimum(a,b))"
   ]
  },
  {
   "cell_type": "markdown",
   "id": "7511efaa",
   "metadata": {
    "papermill": {
     "duration": 0.031999,
     "end_time": "2022-09-18T15:51:26.818864",
     "exception": false,
     "start_time": "2022-09-18T15:51:26.786865",
     "status": "completed"
    },
    "tags": []
   },
   "source": [
    "### np.max()"
   ]
  },
  {
   "cell_type": "code",
   "execution_count": 69,
   "id": "0276530c",
   "metadata": {
    "execution": {
     "iopub.execute_input": "2022-09-18T15:51:26.885619Z",
     "iopub.status.busy": "2022-09-18T15:51:26.884433Z",
     "iopub.status.idle": "2022-09-18T15:51:26.895530Z",
     "shell.execute_reply": "2022-09-18T15:51:26.893911Z"
    },
    "papermill": {
     "duration": 0.046566,
     "end_time": "2022-09-18T15:51:26.898216",
     "exception": false,
     "start_time": "2022-09-18T15:51:26.851650",
     "status": "completed"
    },
    "tags": []
   },
   "outputs": [
    {
     "name": "stdout",
     "output_type": "stream",
     "text": [
      "Findin max using Max(): 98\n",
      "Findin index of max using argmax(): 24\n",
      "Findin index of max using argmax() in column: [4 4 4 4 4]\n",
      "Findin index of max using argmax() in row: [4 4 4 4 4]\n",
      "Findin max using Max() in column's: [82 86 90 94 98]\n",
      "Findin max using Max() in raw's: [18 38 58 78 98]\n",
      "\n",
      "\n",
      "\n",
      "Findin max using Max(): 96\n",
      "Findin index of max using argmax(): 19\n",
      "Findin index of max using argmax() in column: [3 3 3 3 3]\n",
      "Findin index of max using argmax() in row: [4 4 4 4]\n",
      "Findin max using Max() in column's: [76 81 86 91 96]\n",
      "Findin max using Max() in raw's: [21 46 71 96]\n"
     ]
    }
   ],
   "source": [
    "print(\"Findin max using Max():\",sample.max())\n",
    "print(\"Findin index of max using argmax():\",sample.argmax())\n",
    "print(\"Findin index of max using argmax() in column:\",sample.argmax(axis=0))\n",
    "print(\"Findin index of max using argmax() in row:\",sample.argmax(axis=1))\n",
    "print(\"Findin max using Max() in column's:\",sample.max(axis=0)) ## 0 axix mean's column in max()\n",
    "print(\"Findin max using Max() in raw's:\",sample.max(axis=1)) ## 1 axis mean's rows max()\n",
    "\n",
    "\n",
    "print(\"\\n\\n\\nFindin max using Max():\",sample1.max())\n",
    "print(\"Findin index of max using argmax():\",sample1.argmax())\n",
    "print(\"Findin index of max using argmax() in column:\",sample1.argmax(axis=0))\n",
    "print(\"Findin index of max using argmax() in row:\",sample1.argmax(axis=1))\n",
    "print(\"Findin max using Max() in column's:\",sample1.max(axis=0)) ## 0 axix mean's column in max()\n",
    "print(\"Findin max using Max() in raw's:\",sample1.max(axis=1)) ## 1 axis mean's rows max()"
   ]
  },
  {
   "cell_type": "markdown",
   "id": "5eb0724d",
   "metadata": {
    "papermill": {
     "duration": 0.031447,
     "end_time": "2022-09-18T15:51:26.962353",
     "exception": false,
     "start_time": "2022-09-18T15:51:26.930906",
     "status": "completed"
    },
    "tags": []
   },
   "source": [
    "### np.min():"
   ]
  },
  {
   "cell_type": "code",
   "execution_count": 70,
   "id": "d2eaf035",
   "metadata": {
    "execution": {
     "iopub.execute_input": "2022-09-18T15:51:27.028655Z",
     "iopub.status.busy": "2022-09-18T15:51:27.027627Z",
     "iopub.status.idle": "2022-09-18T15:51:27.038172Z",
     "shell.execute_reply": "2022-09-18T15:51:27.036807Z"
    },
    "papermill": {
     "duration": 0.046859,
     "end_time": "2022-09-18T15:51:27.040518",
     "exception": false,
     "start_time": "2022-09-18T15:51:26.993659",
     "status": "completed"
    },
    "tags": []
   },
   "outputs": [
    {
     "name": "stdout",
     "output_type": "stream",
     "text": [
      "Findin min using min(): 2\n",
      "Findin index of min using argmin(): 0\n",
      "Findin index of min using argmin() in column: [0 0 0 0 0]\n",
      "Findin index of min using argmin() in row: [0 0 0 0 0]\n",
      "Findin min using MIN() in column's: [ 2  6 10 14 18]\n",
      "Findin min using MIN() in raw's: [ 2 22 42 62 82]\n",
      "\n",
      "\n",
      "\n",
      "Findin min using MIN(): 1\n",
      "Findin index of min using argmin(): 0\n",
      "Findin index of min using argmin() in column: [0 0 0 0 0]\n",
      "Findin index of min using argmin() in row: [0 0 0 0]\n",
      "Findin min using min() in column's: [ 1  6 11 16 21]\n",
      "Findin min using min() in raw's: [ 1 26 51 76]\n"
     ]
    }
   ],
   "source": [
    "print(\"Findin min using min():\",sample.min())\n",
    "print(\"Findin index of min using argmin():\",sample.argmin())\n",
    "print(\"Findin index of min using argmin() in column:\",sample.argmin(axis=0))\n",
    "print(\"Findin index of min using argmin() in row:\",sample.argmin(axis=1))\n",
    "print(\"Findin min using MIN() in column's:\",sample.min(axis=0)) ## 0 axix mean's column in max()\n",
    "print(\"Findin min using MIN() in raw's:\",sample.min(axis=1)) ## 1 axis mean's rows max()\n",
    "\n",
    "\n",
    "print(\"\\n\\n\\nFindin min using MIN():\",sample1.min())\n",
    "print(\"Findin index of min using argmin():\",sample1.argmin())\n",
    "print(\"Findin index of min using argmin() in column:\",sample1.argmin(axis=0))\n",
    "print(\"Findin index of min using argmin() in row:\",sample1.argmin(axis=1))\n",
    "print(\"Findin min using min() in column's:\",sample1.min(axis=0)) ## 0 axix mean's column in max()\n",
    "print(\"Findin min using min() in raw's:\",sample1.min(axis=1))    ## 1 axis mean's rows max()"
   ]
  },
  {
   "cell_type": "markdown",
   "id": "e45415e0",
   "metadata": {
    "papermill": {
     "duration": 0.033233,
     "end_time": "2022-09-18T15:51:27.106812",
     "exception": false,
     "start_time": "2022-09-18T15:51:27.073579",
     "status": "completed"
    },
    "tags": []
   },
   "source": [
    "### np.mean():"
   ]
  },
  {
   "cell_type": "code",
   "execution_count": 71,
   "id": "dbdb1fe6",
   "metadata": {
    "execution": {
     "iopub.execute_input": "2022-09-18T15:51:27.174027Z",
     "iopub.status.busy": "2022-09-18T15:51:27.173000Z",
     "iopub.status.idle": "2022-09-18T15:51:27.181813Z",
     "shell.execute_reply": "2022-09-18T15:51:27.180174Z"
    },
    "papermill": {
     "duration": 0.044925,
     "end_time": "2022-09-18T15:51:27.184574",
     "exception": false,
     "start_time": "2022-09-18T15:51:27.139649",
     "status": "completed"
    },
    "tags": []
   },
   "outputs": [
    {
     "name": "stdout",
     "output_type": "stream",
     "text": [
      "Finding mean of sample array: 50.0\n",
      "\n",
      "Finding mean of sample array: [42. 46. 50. 54. 58.]\n",
      "\n",
      "Finding mean of sample array: [10. 30. 50. 70. 90.]\n",
      "\n",
      "\n",
      "Finding mean of sample1 array: 48.5\n",
      "\n",
      "Finding mean of sample1 array: [38.5 43.5 48.5 53.5 58.5]\n",
      "\n",
      "Finding mean of sample1 array: [11. 36. 61. 86.]\n"
     ]
    }
   ],
   "source": [
    "print(\"Finding mean of sample array:\",sample.mean())\n",
    "print(\"\\nFinding mean of sample array:\",sample.mean(axis=0))     #column's\n",
    "print(\"\\nFinding mean of sample array:\",sample.mean(axis=1))     #row's\n",
    "\n",
    "\n",
    "print(\"\\n\\nFinding mean of sample1 array:\",sample1.mean())\n",
    "print(\"\\nFinding mean of sample1 array:\",sample1.mean(axis=0))   #column's\n",
    "print(\"\\nFinding mean of sample1 array:\",sample1.mean(axis=1))   #row's"
   ]
  },
  {
   "cell_type": "markdown",
   "id": "390f4375",
   "metadata": {
    "papermill": {
     "duration": 0.031655,
     "end_time": "2022-09-18T15:51:27.248829",
     "exception": false,
     "start_time": "2022-09-18T15:51:27.217174",
     "status": "completed"
    },
    "tags": []
   },
   "source": [
    "### np.sqrt():"
   ]
  },
  {
   "cell_type": "code",
   "execution_count": 72,
   "id": "d30ec4dd",
   "metadata": {
    "execution": {
     "iopub.execute_input": "2022-09-18T15:51:27.314233Z",
     "iopub.status.busy": "2022-09-18T15:51:27.313770Z",
     "iopub.status.idle": "2022-09-18T15:51:27.320636Z",
     "shell.execute_reply": "2022-09-18T15:51:27.319472Z"
    },
    "papermill": {
     "duration": 0.04342,
     "end_time": "2022-09-18T15:51:27.323887",
     "exception": false,
     "start_time": "2022-09-18T15:51:27.280467",
     "status": "completed"
    },
    "tags": []
   },
   "outputs": [
    {
     "name": "stdout",
     "output_type": "stream",
     "text": [
      "Finding square root of sample array:\n",
      " [[1.41421356 2.44948974 3.16227766 3.74165739 4.24264069]\n",
      " [4.69041576 5.09901951 5.47722558 5.83095189 6.164414  ]\n",
      " [6.4807407  6.78232998 7.07106781 7.34846923 7.61577311]\n",
      " [7.87400787 8.1240384  8.36660027 8.60232527 8.83176087]\n",
      " [9.05538514 9.2736185  9.48683298 9.69535971 9.89949494]]\n",
      "\n",
      "\n",
      "Finding square root of sample1 array:\n",
      " [[1.         2.44948974 3.31662479 4.         4.58257569]\n",
      " [5.09901951 5.56776436 6.         6.40312424 6.78232998]\n",
      " [7.14142843 7.48331477 7.81024968 8.1240384  8.42614977]\n",
      " [8.71779789 9.         9.2736185  9.53939201 9.79795897]]\n"
     ]
    }
   ],
   "source": [
    "print(\"Finding square root of sample array:\\n\",np.sqrt(sample))\n",
    "\n",
    "print(\"\\n\\nFinding square root of sample1 array:\\n\",np.sqrt(sample1))"
   ]
  },
  {
   "cell_type": "markdown",
   "id": "117fe37c",
   "metadata": {
    "papermill": {
     "duration": 0.032103,
     "end_time": "2022-09-18T15:51:27.388356",
     "exception": false,
     "start_time": "2022-09-18T15:51:27.356253",
     "status": "completed"
    },
    "tags": []
   },
   "source": [
    "### np.std():"
   ]
  },
  {
   "cell_type": "code",
   "execution_count": 73,
   "id": "ba867dbf",
   "metadata": {
    "execution": {
     "iopub.execute_input": "2022-09-18T15:51:27.454750Z",
     "iopub.status.busy": "2022-09-18T15:51:27.454359Z",
     "iopub.status.idle": "2022-09-18T15:51:27.459461Z",
     "shell.execute_reply": "2022-09-18T15:51:27.458652Z"
    },
    "papermill": {
     "duration": 0.041372,
     "end_time": "2022-09-18T15:51:27.461884",
     "exception": false,
     "start_time": "2022-09-18T15:51:27.420512",
     "status": "completed"
    },
    "tags": []
   },
   "outputs": [
    {
     "name": "stdout",
     "output_type": "stream",
     "text": [
      "Finding square root of sample array:\n",
      " 28.844410203711913\n",
      "\n",
      "\n",
      "Finding square root of sample1 array:\n",
      " 28.83140648667699\n"
     ]
    }
   ],
   "source": [
    "print(\"Finding square root of sample array:\\n\",np.std(sample))\n",
    "\n",
    "print(\"\\n\\nFinding square root of sample1 array:\\n\",np.std(sample1))"
   ]
  },
  {
   "cell_type": "markdown",
   "id": "fd749a72",
   "metadata": {
    "papermill": {
     "duration": 0.031944,
     "end_time": "2022-09-18T15:51:27.527172",
     "exception": false,
     "start_time": "2022-09-18T15:51:27.495228",
     "status": "completed"
    },
    "tags": []
   },
   "source": [
    "### np.exp() :"
   ]
  },
  {
   "cell_type": "code",
   "execution_count": 74,
   "id": "2321c859",
   "metadata": {
    "execution": {
     "iopub.execute_input": "2022-09-18T15:51:27.593133Z",
     "iopub.status.busy": "2022-09-18T15:51:27.592700Z",
     "iopub.status.idle": "2022-09-18T15:51:27.599733Z",
     "shell.execute_reply": "2022-09-18T15:51:27.598556Z"
    },
    "papermill": {
     "duration": 0.043142,
     "end_time": "2022-09-18T15:51:27.602286",
     "exception": false,
     "start_time": "2022-09-18T15:51:27.559144",
     "status": "completed"
    },
    "tags": []
   },
   "outputs": [
    {
     "name": "stdout",
     "output_type": "stream",
     "text": [
      "Finding exponential of sample array:\n",
      " [[7.38905610e+00 4.03428793e+02 2.20264658e+04 1.20260428e+06\n",
      "  6.56599691e+07]\n",
      " [3.58491285e+09 1.95729609e+11 1.06864746e+13 5.83461743e+14\n",
      "  3.18559318e+16]\n",
      " [1.73927494e+18 9.49611942e+19 5.18470553e+21 2.83075330e+23\n",
      "  1.54553894e+25]\n",
      " [8.43835667e+26 4.60718663e+28 2.51543867e+30 1.37338298e+32\n",
      "  7.49841700e+33]\n",
      " [4.09399696e+35 2.23524660e+37 1.22040329e+39 6.66317622e+40\n",
      "  3.63797095e+42]]\n",
      "\n",
      "\n",
      "Finding exponential of sample1 array:\n",
      " [[2.71828183e+00 4.03428793e+02 5.98741417e+04 8.88611052e+06\n",
      "  1.31881573e+09]\n",
      " [1.95729609e+11 2.90488497e+13 4.31123155e+15 6.39843494e+17\n",
      "  9.49611942e+19]\n",
      " [1.40934908e+22 2.09165950e+24 3.10429794e+26 4.60718663e+28\n",
      "  6.83767123e+30]\n",
      " [1.01480039e+33 1.50609731e+35 2.23524660e+37 3.31740010e+39\n",
      "  4.92345829e+41]]\n"
     ]
    }
   ],
   "source": [
    "print(\"Finding exponential of sample array:\\n\",np.exp(sample))\n",
    "\n",
    "print(\"\\n\\nFinding exponential of sample1 array:\\n\",np.exp(sample1))"
   ]
  },
  {
   "cell_type": "markdown",
   "id": "87889966",
   "metadata": {
    "papermill": {
     "duration": 0.031726,
     "end_time": "2022-09-18T15:51:27.666155",
     "exception": false,
     "start_time": "2022-09-18T15:51:27.634429",
     "status": "completed"
    },
    "tags": []
   },
   "source": [
    "### np.log() / np.log10() / np.log2 / numpy.log1p / "
   ]
  },
  {
   "cell_type": "code",
   "execution_count": 75,
   "id": "8ede0842",
   "metadata": {
    "execution": {
     "iopub.execute_input": "2022-09-18T15:51:27.732338Z",
     "iopub.status.busy": "2022-09-18T15:51:27.731960Z",
     "iopub.status.idle": "2022-09-18T15:51:27.742712Z",
     "shell.execute_reply": "2022-09-18T15:51:27.741145Z"
    },
    "papermill": {
     "duration": 0.04711,
     "end_time": "2022-09-18T15:51:27.745095",
     "exception": false,
     "start_time": "2022-09-18T15:51:27.697985",
     "status": "completed"
    },
    "tags": []
   },
   "outputs": [
    {
     "name": "stdout",
     "output_type": "stream",
     "text": [
      "Finding Natural log() of sample array:\n",
      " [[0.69314718 1.79175947 2.30258509 2.63905733 2.89037176]\n",
      " [3.09104245 3.25809654 3.40119738 3.52636052 3.63758616]\n",
      " [3.73766962 3.8286414  3.91202301 3.98898405 4.06044301]\n",
      " [4.12713439 4.18965474 4.24849524 4.30406509 4.35670883]\n",
      " [4.40671925 4.4543473  4.49980967 4.54329478 4.58496748]]\n",
      "\n",
      "Finding base 10 logarithm of sample array:\n",
      " [[0.30103    0.77815125 1.         1.14612804 1.25527251]\n",
      " [1.34242268 1.41497335 1.47712125 1.53147892 1.5797836 ]\n",
      " [1.62324929 1.66275783 1.69897    1.73239376 1.76342799]\n",
      " [1.79239169 1.81954394 1.84509804 1.86923172 1.8920946 ]\n",
      " [1.91381385 1.93449845 1.95424251 1.97312785 1.99122608]]\n",
      "\n",
      "Finding Base-2 logarithm of sample array:\n",
      " [[1.         2.5849625  3.32192809 3.80735492 4.169925  ]\n",
      " [4.45943162 4.70043972 4.9068906  5.08746284 5.24792751]\n",
      " [5.39231742 5.52356196 5.64385619 5.7548875  5.857981  ]\n",
      " [5.95419631 6.04439412 6.12928302 6.20945337 6.28540222]\n",
      " [6.357552   6.42626475 6.4918531  6.55458885 6.61470984]]\n",
      "\n",
      "Finding natural logarithm of one plus the input array:\n",
      " [[1.09861229 1.94591015 2.39789527 2.7080502  2.94443898]\n",
      " [3.13549422 3.29583687 3.4339872  3.55534806 3.66356165]\n",
      " [3.76120012 3.8501476  3.93182563 4.00733319 4.07753744]\n",
      " [4.14313473 4.20469262 4.26267988 4.31748811 4.36944785]\n",
      " [4.41884061 4.46590812 4.51085951 4.55387689 4.59511985]]\n",
      "\n",
      "\n",
      "Finding Natural log() of sample1 array:\n",
      " [[0.         1.79175947 2.39789527 2.77258872 3.04452244]\n",
      " [3.25809654 3.4339872  3.58351894 3.71357207 3.8286414 ]\n",
      " [3.93182563 4.02535169 4.11087386 4.18965474 4.26267988]\n",
      " [4.33073334 4.39444915 4.4543473  4.51085951 4.56434819]]\n",
      "\n",
      "Finding base 10 logarithm of sample array:\n",
      " [[0.         0.77815125 1.04139269 1.20411998 1.32221929]\n",
      " [1.41497335 1.49136169 1.5563025  1.61278386 1.66275783]\n",
      " [1.70757018 1.74818803 1.78532984 1.81954394 1.85125835]\n",
      " [1.88081359 1.90848502 1.93449845 1.95904139 1.98227123]]\n",
      "\n",
      "Finding Base-2 logarithm of sample array:\n",
      " [[0.         2.5849625  3.45943162 4.         4.39231742]\n",
      " [4.70043972 4.95419631 5.169925   5.357552   5.52356196]\n",
      " [5.67242534 5.80735492 5.93073734 6.04439412 6.14974712]\n",
      " [6.24792751 6.33985    6.42626475 6.50779464 6.5849625 ]]\n",
      "\n",
      "Finding natural logarithm of one plus the input array:\n",
      " [[0.69314718 1.94591015 2.48490665 2.83321334 3.09104245]\n",
      " [3.29583687 3.4657359  3.61091791 3.73766962 3.8501476 ]\n",
      " [3.95124372 4.04305127 4.12713439 4.20469262 4.27666612]\n",
      " [4.34380542 4.40671925 4.46590812 4.52178858 4.57471098]]\n"
     ]
    }
   ],
   "source": [
    "print(\"Finding Natural log() of sample array:\\n\",np.log(sample))\n",
    "print(\"\\nFinding base 10 logarithm of sample array:\\n\",np.log10(sample))\n",
    "print(\"\\nFinding Base-2 logarithm of sample array:\\n\",np.log2(sample))\n",
    "print(\"\\nFinding natural logarithm of one plus the input array:\\n\",np.log1p(sample))\n",
    "\n",
    "\n",
    "print(\"\\n\\nFinding Natural log() of sample1 array:\\n\",np.log(sample1))\n",
    "print(\"\\nFinding base 10 logarithm of sample array:\\n\",np.log10(sample1))\n",
    "print(\"\\nFinding Base-2 logarithm of sample array:\\n\",np.log2(sample1))\n",
    "print(\"\\nFinding natural logarithm of one plus the input array:\\n\",np.log1p(sample1))\n"
   ]
  },
  {
   "cell_type": "markdown",
   "id": "beda1ec1",
   "metadata": {
    "papermill": {
     "duration": 0.032146,
     "end_time": "2022-09-18T15:51:27.809623",
     "exception": false,
     "start_time": "2022-09-18T15:51:27.777477",
     "status": "completed"
    },
    "tags": []
   },
   "source": [
    "### np.logaddexp():"
   ]
  },
  {
   "cell_type": "code",
   "execution_count": 76,
   "id": "26949c6c",
   "metadata": {
    "execution": {
     "iopub.execute_input": "2022-09-18T15:51:27.878217Z",
     "iopub.status.busy": "2022-09-18T15:51:27.877789Z",
     "iopub.status.idle": "2022-09-18T15:51:27.885109Z",
     "shell.execute_reply": "2022-09-18T15:51:27.884007Z"
    },
    "papermill": {
     "duration": 0.044628,
     "end_time": "2022-09-18T15:51:27.888532",
     "exception": false,
     "start_time": "2022-09-18T15:51:27.843904",
     "status": "completed"
    },
    "tags": []
   },
   "outputs": [
    {
     "name": "stdout",
     "output_type": "stream",
     "text": [
      "\n",
      "Finding sum of exponentiations of sample array:\n",
      " [[ 22.  26.  30.  34.  38.]\n",
      " [ 42.  46.  50.  54.  58.]\n",
      " [ 62.  66.  70.  74.  78.]\n",
      " [ 82.  86.  90.  94.  98.]\n",
      " [102. 106. 110. 114. 118.]]\n",
      "\n",
      "Finding sum of exponentiations of sample array in base-2.:\n",
      " [[ 22.00000138  26.00000138  30.00000138  34.00000138  38.00000138]\n",
      " [ 42.00000138  46.00000138  50.00000138  54.00000138  58.00000138]\n",
      " [ 62.00000138  66.00000138  70.00000138  74.00000138  78.00000138]\n",
      " [ 82.00000138  86.00000138  90.00000138  94.00000138  98.00000138]\n",
      " [102.00000138 106.00000138 110.00000138 114.00000138 118.00000138]]\n"
     ]
    }
   ],
   "source": [
    "a=np.arange(2,100,4).reshape(5,5)\n",
    "b=np.arange(22,122,4).reshape(5,5)\n",
    "\n",
    "#Logarithm of the sum of exponentiations of the inputs.\n",
    "print(\"\\nFinding sum of exponentiations of sample array:\\n\",np.logaddexp(a,b))\n",
    "\n",
    "#Logarithm of the sum of exponentiations of the inputs in base-2.\n",
    "print(\"\\nFinding sum of exponentiations of sample array in base-2.:\\n\",np.logaddexp2(a,b))\n"
   ]
  },
  {
   "cell_type": "markdown",
   "id": "dbac6452",
   "metadata": {
    "papermill": {
     "duration": 0.031824,
     "end_time": "2022-09-18T15:51:27.954335",
     "exception": false,
     "start_time": "2022-09-18T15:51:27.922511",
     "status": "completed"
    },
    "tags": []
   },
   "source": [
    "## Working with numpy.random.randint\n",
    "- Return random integers from low (inclusive) to high (exclusive).\n",
    "- **Syntex:** <H3>random.randint(low, high=None, size=None, dtype=int)</H3>\n",
    "\n",
    "- Return random integers from the “discrete uniform” distribution of the specified dtype in the “half-open” interval [low, high). If high is None (the default), then results are from [0, low)"
   ]
  },
  {
   "cell_type": "code",
   "execution_count": 77,
   "id": "72223f16",
   "metadata": {
    "execution": {
     "iopub.execute_input": "2022-09-18T15:51:28.022144Z",
     "iopub.status.busy": "2022-09-18T15:51:28.021723Z",
     "iopub.status.idle": "2022-09-18T15:51:28.028052Z",
     "shell.execute_reply": "2022-09-18T15:51:28.026823Z"
    },
    "papermill": {
     "duration": 0.043271,
     "end_time": "2022-09-18T15:51:28.031154",
     "exception": false,
     "start_time": "2022-09-18T15:51:27.987883",
     "status": "completed"
    },
    "tags": []
   },
   "outputs": [
    {
     "name": "stdout",
     "output_type": "stream",
     "text": [
      "[[ 9 42  2 11]\n",
      " [36 14  2 36]\n",
      " [37 33 41 25]\n",
      " [29 42 39 37]\n",
      " [16 42 20 14]\n",
      " [16  4 17  3]\n",
      " [ 7 12  5 18]\n",
      " [ 6 15 44 11]]\n"
     ]
    }
   ],
   "source": [
    "sample=np.random.randint(0,50,(8,4)) #(size of array)\n",
    "print(sample)"
   ]
  },
  {
   "cell_type": "code",
   "execution_count": 78,
   "id": "dbf89bef",
   "metadata": {
    "execution": {
     "iopub.execute_input": "2022-09-18T15:51:28.099660Z",
     "iopub.status.busy": "2022-09-18T15:51:28.099270Z",
     "iopub.status.idle": "2022-09-18T15:51:28.105924Z",
     "shell.execute_reply": "2022-09-18T15:51:28.104877Z"
    },
    "papermill": {
     "duration": 0.04305,
     "end_time": "2022-09-18T15:51:28.108195",
     "exception": false,
     "start_time": "2022-09-18T15:51:28.065145",
     "status": "completed"
    },
    "tags": []
   },
   "outputs": [
    {
     "name": "stdout",
     "output_type": "stream",
     "text": [
      "[[12 23 26 34]\n",
      " [24  5 34  9]\n",
      " [15 37 35 20]\n",
      " [19 26  5 36]\n",
      " [33 32 29 22]\n",
      " [45  4 44 19]\n",
      " [42 18 49 31]\n",
      " [31 45 25 31]] \n",
      "\n",
      "Data type of sample: int8\n"
     ]
    }
   ],
   "source": [
    "sample=np.random.randint(0,50,(8,4),dtype=np.int8) #(size of array)\n",
    "print(sample,\"\\n\\nData type of sample:\",sample.dtype)"
   ]
  },
  {
   "cell_type": "code",
   "execution_count": 79,
   "id": "3154f15d",
   "metadata": {
    "execution": {
     "iopub.execute_input": "2022-09-18T15:51:28.176212Z",
     "iopub.status.busy": "2022-09-18T15:51:28.175778Z",
     "iopub.status.idle": "2022-09-18T15:51:28.182312Z",
     "shell.execute_reply": "2022-09-18T15:51:28.180925Z"
    },
    "papermill": {
     "duration": 0.043379,
     "end_time": "2022-09-18T15:51:28.184702",
     "exception": false,
     "start_time": "2022-09-18T15:51:28.141323",
     "status": "completed"
    },
    "tags": []
   },
   "outputs": [
    {
     "name": "stdout",
     "output_type": "stream",
     "text": [
      "[[ 7 33 37 10]\n",
      " [ 4 12 31 49]\n",
      " [ 2 17  9 49]\n",
      " [41 45  0 14]\n",
      " [30  1 17 22]\n",
      " [ 5 26 35 20]\n",
      " [26 19 31 18]\n",
      " [ 3 34 14 40]] \n",
      "\n",
      "Data type of sample: int64\n"
     ]
    }
   ],
   "source": [
    "sample=np.random.randint(0.45,50.2,(8,4)) #(size of array)\n",
    "print(sample,\"\\n\\nData type of sample:\",sample.dtype)"
   ]
  },
  {
   "cell_type": "markdown",
   "id": "18e7c7e8",
   "metadata": {
    "papermill": {
     "duration": 0.032517,
     "end_time": "2022-09-18T15:51:28.254197",
     "exception": false,
     "start_time": "2022-09-18T15:51:28.221680",
     "status": "completed"
    },
    "tags": []
   },
   "source": [
    "## Working with numpy.random.rand:\n",
    "- Random values in a given shape.\n",
    "- **Syntex:** <H3>random.randint(low, high=None, size=None, dtype=int)</H3>\n"
   ]
  },
  {
   "cell_type": "code",
   "execution_count": 80,
   "id": "a3669e20",
   "metadata": {
    "execution": {
     "iopub.execute_input": "2022-09-18T15:51:28.321494Z",
     "iopub.status.busy": "2022-09-18T15:51:28.321086Z",
     "iopub.status.idle": "2022-09-18T15:51:28.327989Z",
     "shell.execute_reply": "2022-09-18T15:51:28.326413Z"
    },
    "papermill": {
     "duration": 0.043926,
     "end_time": "2022-09-18T15:51:28.330599",
     "exception": false,
     "start_time": "2022-09-18T15:51:28.286673",
     "status": "completed"
    },
    "tags": []
   },
   "outputs": [
    {
     "name": "stdout",
     "output_type": "stream",
     "text": [
      "Random flaot value array of given shape(4,5):\n",
      " [[0.65522235 0.77211527 0.03749291 0.58325233 0.13478518]\n",
      " [0.72998308 0.85775018 0.93465143 0.46931569 0.00104552]\n",
      " [0.72535983 0.33458206 0.62373032 0.82306316 0.16124211]\n",
      " [0.27652647 0.81548518 0.32602928 0.18691726 0.66946592]] \n",
      "\n",
      "Shape: (4, 5) \n",
      "Data type: float64\n"
     ]
    }
   ],
   "source": [
    "sample=np.random.rand(4,5)\n",
    "print(\"Random flaot value array of given shape(4,5):\\n\",sample,\"\\n\\nShape:\",sample.shape,\"\\nData type:\",sample.dtype)\n"
   ]
  },
  {
   "cell_type": "code",
   "execution_count": 81,
   "id": "6bedcc08",
   "metadata": {
    "execution": {
     "iopub.execute_input": "2022-09-18T15:51:28.398302Z",
     "iopub.status.busy": "2022-09-18T15:51:28.397932Z",
     "iopub.status.idle": "2022-09-18T15:51:28.405294Z",
     "shell.execute_reply": "2022-09-18T15:51:28.404209Z"
    },
    "papermill": {
     "duration": 0.044022,
     "end_time": "2022-09-18T15:51:28.407675",
     "exception": false,
     "start_time": "2022-09-18T15:51:28.363653",
     "status": "completed"
    },
    "tags": []
   },
   "outputs": [
    {
     "data": {
      "text/plain": [
       "array([[6.96566706, 7.31634581, 5.11247873, 6.74975698, 5.40435555],\n",
       "       [7.18994923, 7.57325053, 7.80395429, 6.40794706, 5.00313656],\n",
       "       [7.17607948, 6.00374619, 6.87119097, 7.46918948, 5.48372633],\n",
       "       [5.8295794 , 7.44645554, 5.97808784, 5.56075177, 7.00839777]])"
      ]
     },
     "execution_count": 81,
     "metadata": {},
     "output_type": "execute_result"
    }
   ],
   "source": [
    "3*sample+5"
   ]
  },
  {
   "cell_type": "code",
   "execution_count": null,
   "id": "5227c288",
   "metadata": {
    "papermill": {
     "duration": 0.032726,
     "end_time": "2022-09-18T15:51:28.473599",
     "exception": false,
     "start_time": "2022-09-18T15:51:28.440873",
     "status": "completed"
    },
    "tags": []
   },
   "outputs": [],
   "source": []
  }
 ],
 "metadata": {
  "kernelspec": {
   "display_name": "Python 3",
   "language": "python",
   "name": "python3"
  },
  "language_info": {
   "codemirror_mode": {
    "name": "ipython",
    "version": 3
   },
   "file_extension": ".py",
   "mimetype": "text/x-python",
   "name": "python",
   "nbconvert_exporter": "python",
   "pygments_lexer": "ipython3",
   "version": "3.7.12"
  },
  "papermill": {
   "default_parameters": {},
   "duration": 22.282331,
   "end_time": "2022-09-18T15:51:31.843133",
   "environment_variables": {},
   "exception": null,
   "input_path": "__notebook__.ipynb",
   "output_path": "__notebook__.ipynb",
   "parameters": {},
   "start_time": "2022-09-18T15:51:09.560802",
   "version": "2.3.4"
  }
 },
 "nbformat": 4,
 "nbformat_minor": 5
}
