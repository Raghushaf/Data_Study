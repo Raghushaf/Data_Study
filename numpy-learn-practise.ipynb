{
 "cells": [
  {
   "cell_type": "code",
   "execution_count": 1,
   "id": "5a687f81",
   "metadata": {
    "_cell_guid": "b1076dfc-b9ad-4769-8c92-a6c4dae69d19",
    "_uuid": "8f2839f25d086af736a60e9eeb907d3b93b6e0e5",
    "execution": {
     "iopub.execute_input": "2022-09-16T07:25:23.562013Z",
     "iopub.status.busy": "2022-09-16T07:25:23.561569Z",
     "iopub.status.idle": "2022-09-16T07:25:23.573092Z",
     "shell.execute_reply": "2022-09-16T07:25:23.572265Z"
    },
    "papermill": {
     "duration": 0.025185,
     "end_time": "2022-09-16T07:25:23.575312",
     "exception": false,
     "start_time": "2022-09-16T07:25:23.550127",
     "status": "completed"
    },
    "tags": []
   },
   "outputs": [],
   "source": [
    "# This Python 3 environment comes with many helpful analytics libraries installed\n",
    "# It is defined by the kaggle/python Docker image: https://github.com/kaggle/docker-python\n",
    "# For example, here's several helpful packages to load\n",
    "\n",
    "import numpy as np # linear algebra\n",
    "import pandas as pd # data processing, CSV file I/O (e.g. pd.read_csv)\n",
    "\n",
    "# Input data files are available in the read-only \"../input/\" directory\n",
    "# For example, running this (by clicking run or pressing Shift+Enter) will list all files under the input directory\n",
    "\n",
    "import os\n",
    "for dirname, _, filenames in os.walk('/kaggle/input'):\n",
    "    for filename in filenames:\n",
    "        print(os.path.join(dirname, filename))\n",
    "\n",
    "# You can write up to 20GB to the current directory (/kaggle/working/) that gets preserved as output when you create a version using \"Save & Run All\" \n",
    "# You can also write temporary files to /kaggle/temp/, but they won't be saved outside of the current session"
   ]
  },
  {
   "cell_type": "markdown",
   "id": "159febf7",
   "metadata": {
    "papermill": {
     "duration": 0.008019,
     "end_time": "2022-09-16T07:25:23.592116",
     "exception": false,
     "start_time": "2022-09-16T07:25:23.584097",
     "status": "completed"
    },
    "tags": []
   },
   "source": [
    "### Creating 1-D Array:"
   ]
  },
  {
   "cell_type": "code",
   "execution_count": 2,
   "id": "8b5d4929",
   "metadata": {
    "execution": {
     "iopub.execute_input": "2022-09-16T07:25:23.610500Z",
     "iopub.status.busy": "2022-09-16T07:25:23.609578Z",
     "iopub.status.idle": "2022-09-16T07:25:23.617615Z",
     "shell.execute_reply": "2022-09-16T07:25:23.616486Z"
    },
    "papermill": {
     "duration": 0.01977,
     "end_time": "2022-09-16T07:25:23.620059",
     "exception": false,
     "start_time": "2022-09-16T07:25:23.600289",
     "status": "completed"
    },
    "tags": []
   },
   "outputs": [
    {
     "name": "stdout",
     "output_type": "stream",
     "text": [
      "This is 1-D array: [1 2 3 4 5]\n"
     ]
    }
   ],
   "source": [
    "arr1d=np.array([1,2,3,4,5])\n",
    "print(\"This is 1-D array:\",arr1d)"
   ]
  },
  {
   "cell_type": "markdown",
   "id": "4b42940a",
   "metadata": {
    "papermill": {
     "duration": 0.008276,
     "end_time": "2022-09-16T07:25:23.637522",
     "exception": false,
     "start_time": "2022-09-16T07:25:23.629246",
     "status": "completed"
    },
    "tags": []
   },
   "source": [
    "### Creating 2-D Array:"
   ]
  },
  {
   "cell_type": "code",
   "execution_count": 3,
   "id": "a4bcff48",
   "metadata": {
    "execution": {
     "iopub.execute_input": "2022-09-16T07:25:23.656064Z",
     "iopub.status.busy": "2022-09-16T07:25:23.655647Z",
     "iopub.status.idle": "2022-09-16T07:25:23.661543Z",
     "shell.execute_reply": "2022-09-16T07:25:23.660517Z"
    },
    "papermill": {
     "duration": 0.017841,
     "end_time": "2022-09-16T07:25:23.663760",
     "exception": false,
     "start_time": "2022-09-16T07:25:23.645919",
     "status": "completed"
    },
    "tags": []
   },
   "outputs": [
    {
     "name": "stdout",
     "output_type": "stream",
     "text": [
      "This is 2-D array:\n",
      "\n",
      " [[1 2 3 4]\n",
      " [1 2 3 4]\n",
      " [1 2 3 4]]\n"
     ]
    }
   ],
   "source": [
    "arr2d=np.array([[1,2,3,4],\n",
    "                [1,2,3,4],\n",
    "                [1,2,3,4],\n",
    "               ])\n",
    "print(\"This is 2-D array:\\n\\n\",arr2d)"
   ]
  },
  {
   "cell_type": "markdown",
   "id": "9469756d",
   "metadata": {
    "papermill": {
     "duration": 0.008027,
     "end_time": "2022-09-16T07:25:23.681578",
     "exception": false,
     "start_time": "2022-09-16T07:25:23.673551",
     "status": "completed"
    },
    "tags": []
   },
   "source": [
    "### Creating 3-D or Multi-D Array:"
   ]
  },
  {
   "cell_type": "code",
   "execution_count": 4,
   "id": "baec38dc",
   "metadata": {
    "execution": {
     "iopub.execute_input": "2022-09-16T07:25:23.700320Z",
     "iopub.status.busy": "2022-09-16T07:25:23.699646Z",
     "iopub.status.idle": "2022-09-16T07:25:23.707257Z",
     "shell.execute_reply": "2022-09-16T07:25:23.705825Z"
    },
    "papermill": {
     "duration": 0.019681,
     "end_time": "2022-09-16T07:25:23.709553",
     "exception": false,
     "start_time": "2022-09-16T07:25:23.689872",
     "status": "completed"
    },
    "tags": []
   },
   "outputs": [
    {
     "name": "stdout",
     "output_type": "stream",
     "text": [
      "This is 3-D array:\n",
      "\n",
      " [[[1 2 3 4]\n",
      "  [1 2 3 4]\n",
      "  [1 2 3 4]]\n",
      "\n",
      " [[1 2 3 4]\n",
      "  [1 2 3 4]\n",
      "  [1 2 3 4]]\n",
      "\n",
      " [[1 2 3 4]\n",
      "  [1 2 3 4]\n",
      "  [1 2 3 4]]]\n"
     ]
    }
   ],
   "source": [
    "arr3d=np.array([[[1,2,3,4],\n",
    "                [1,2,3,4],\n",
    "                [1,2,3,4],\n",
    "               ],\n",
    "               [[1,2,3,4],\n",
    "                [1,2,3,4],\n",
    "                [1,2,3,4],\n",
    "               ],\n",
    "                [[1,2,3,4],\n",
    "                [1,2,3,4],\n",
    "                [1,2,3,4],\n",
    "               ]])\n",
    "print(\"This is 3-D array:\\n\\n\",arr3d)"
   ]
  },
  {
   "cell_type": "markdown",
   "id": "c4edf900",
   "metadata": {
    "papermill": {
     "duration": 0.008331,
     "end_time": "2022-09-16T07:25:23.726637",
     "exception": false,
     "start_time": "2022-09-16T07:25:23.718306",
     "status": "completed"
    },
    "tags": []
   },
   "source": [
    "### Use of type() function:\n",
    "- It will give the type of object.\n"
   ]
  },
  {
   "cell_type": "code",
   "execution_count": 5,
   "id": "bd8d7321",
   "metadata": {
    "execution": {
     "iopub.execute_input": "2022-09-16T07:25:23.746014Z",
     "iopub.status.busy": "2022-09-16T07:25:23.745320Z",
     "iopub.status.idle": "2022-09-16T07:25:23.751258Z",
     "shell.execute_reply": "2022-09-16T07:25:23.749932Z"
    },
    "papermill": {
     "duration": 0.018301,
     "end_time": "2022-09-16T07:25:23.753546",
     "exception": false,
     "start_time": "2022-09-16T07:25:23.735245",
     "status": "completed"
    },
    "tags": []
   },
   "outputs": [
    {
     "name": "stdout",
     "output_type": "stream",
     "text": [
      "type of array 1-D array: <class 'numpy.ndarray'>\n"
     ]
    }
   ],
   "source": [
    "print(\"type of array 1-D array:\",type(arr1d))"
   ]
  },
  {
   "cell_type": "markdown",
   "id": "ddce5c77",
   "metadata": {
    "papermill": {
     "duration": 0.008313,
     "end_time": "2022-09-16T07:25:23.770737",
     "exception": false,
     "start_time": "2022-09-16T07:25:23.762424",
     "status": "completed"
    },
    "tags": []
   },
   "source": [
    "### Use of ndim:\n",
    "- It will give the dimention of NumPy array."
   ]
  },
  {
   "cell_type": "code",
   "execution_count": 6,
   "id": "3673870e",
   "metadata": {
    "execution": {
     "iopub.execute_input": "2022-09-16T07:25:23.793179Z",
     "iopub.status.busy": "2022-09-16T07:25:23.792174Z",
     "iopub.status.idle": "2022-09-16T07:25:23.798894Z",
     "shell.execute_reply": "2022-09-16T07:25:23.797328Z"
    },
    "papermill": {
     "duration": 0.019901,
     "end_time": "2022-09-16T07:25:23.801228",
     "exception": false,
     "start_time": "2022-09-16T07:25:23.781327",
     "status": "completed"
    },
    "tags": []
   },
   "outputs": [
    {
     "name": "stdout",
     "output_type": "stream",
     "text": [
      "Dimention of Array arr1d:-> 1\n",
      "Dimention of Array arr2d:-> 2\n",
      "Dimention of Array arr3d:-> 3\n"
     ]
    }
   ],
   "source": [
    "print(\"Dimention of Array arr1d:->\",arr1d.ndim)\n",
    "print(\"Dimention of Array arr2d:->\",arr2d.ndim)\n",
    "print(\"Dimention of Array arr3d:->\",arr3d.ndim)"
   ]
  },
  {
   "cell_type": "markdown",
   "id": "cf5cafc6",
   "metadata": {
    "papermill": {
     "duration": 0.008401,
     "end_time": "2022-09-16T07:25:23.818286",
     "exception": false,
     "start_time": "2022-09-16T07:25:23.809885",
     "status": "completed"
    },
    "tags": []
   },
   "source": [
    "### Use of shape:\n",
    "- It will give you shape of array."
   ]
  },
  {
   "cell_type": "code",
   "execution_count": 7,
   "id": "56564671",
   "metadata": {
    "execution": {
     "iopub.execute_input": "2022-09-16T07:25:23.837047Z",
     "iopub.status.busy": "2022-09-16T07:25:23.836628Z",
     "iopub.status.idle": "2022-09-16T07:25:23.845665Z",
     "shell.execute_reply": "2022-09-16T07:25:23.844823Z"
    },
    "papermill": {
     "duration": 0.021496,
     "end_time": "2022-09-16T07:25:23.848359",
     "exception": false,
     "start_time": "2022-09-16T07:25:23.826863",
     "status": "completed"
    },
    "tags": []
   },
   "outputs": [
    {
     "name": "stdout",
     "output_type": "stream",
     "text": [
      "Shape of array arr1d will be:  (5,)\n",
      "Shape of array qrr2d will be: (3, 4)\n",
      "Shape of array arr3d will be: (3, 3, 4)\n"
     ]
    }
   ],
   "source": [
    "print(\"Shape of array arr1d will be: \", arr1d.shape)\n",
    "print(\"Shape of array qrr2d will be:\", arr2d.shape)\n",
    "print(\"Shape of array arr3d will be:\", arr3d.shape)"
   ]
  },
  {
   "cell_type": "markdown",
   "id": "83f2bb95",
   "metadata": {
    "papermill": {
     "duration": 0.008445,
     "end_time": "2022-09-16T07:25:23.865697",
     "exception": false,
     "start_time": "2022-09-16T07:25:23.857252",
     "status": "completed"
    },
    "tags": []
   },
   "source": [
    "*** \n",
    "### Data Types in Python\n",
    "- By default Python have these data types:\n",
    "    - strings - used to represent text data, the text is given under quote marks. e.g. \"ABCD\"\n",
    "    - integer - used to represent integer numbers. e.g. -1, -2, -3\n",
    "    - float - used to represent real numbers. e.g. 1.2, 42.42\n",
    "    - boolean - used to represent True or False.\n",
    "    - complex - used to represent complex numbers. e.g. 1.0 + 2.0j, 1.5 + 2.5j \n",
    "***"
   ]
  },
  {
   "cell_type": "markdown",
   "id": "47181cdf",
   "metadata": {
    "papermill": {
     "duration": 0.008413,
     "end_time": "2022-09-16T07:25:23.882708",
     "exception": false,
     "start_time": "2022-09-16T07:25:23.874295",
     "status": "completed"
    },
    "tags": []
   },
   "source": [
    "***\n",
    "### Data Types in NumPy\n",
    "- NumPy has some extra data types, and refer to data types with one character, like i for integers, u for unsigned integers etc.\n",
    "\n",
    "    Below is a list of all data types in NumPy and the characters used to represent them.\n",
    "\n",
    "    - i - integer\n",
    "    - b - boolean\n",
    "    - u - unsigned integer\n",
    "    - f - float\n",
    "    - c - complex float\n",
    "    - m - timedelta\n",
    "    - M - datetime\n",
    "    - O - object\n",
    "    - S - string\n",
    "    - U - unicode string\n",
    "    - V - fixed chunk of memory for other type ( void )\n",
    "\n",
    "***\n",
    "- <H4>Use of dtype:</H4>\n",
    "    - It give what kind of data means type of data we are using."
   ]
  },
  {
   "cell_type": "code",
   "execution_count": 8,
   "id": "f1f8b5c7",
   "metadata": {
    "execution": {
     "iopub.execute_input": "2022-09-16T07:25:23.902045Z",
     "iopub.status.busy": "2022-09-16T07:25:23.901427Z",
     "iopub.status.idle": "2022-09-16T07:25:23.906810Z",
     "shell.execute_reply": "2022-09-16T07:25:23.906066Z"
    },
    "papermill": {
     "duration": 0.018047,
     "end_time": "2022-09-16T07:25:23.909291",
     "exception": false,
     "start_time": "2022-09-16T07:25:23.891244",
     "status": "completed"
    },
    "tags": []
   },
   "outputs": [
    {
     "name": "stdout",
     "output_type": "stream",
     "text": [
      "Data type of array arr1d: int64\n",
      "Data type of array arr1d: int64\n",
      "Data type of array arr1d: int64\n"
     ]
    }
   ],
   "source": [
    "print(\"Data type of array arr1d:\", arr1d.dtype)\n",
    "print(\"Data type of array arr1d:\", arr2d.dtype)\n",
    "print(\"Data type of array arr1d:\", arr3d.dtype)"
   ]
  },
  {
   "cell_type": "code",
   "execution_count": 9,
   "id": "e3960fed",
   "metadata": {
    "execution": {
     "iopub.execute_input": "2022-09-16T07:25:23.929040Z",
     "iopub.status.busy": "2022-09-16T07:25:23.928416Z",
     "iopub.status.idle": "2022-09-16T07:25:23.933448Z",
     "shell.execute_reply": "2022-09-16T07:25:23.932355Z"
    },
    "papermill": {
     "duration": 0.017424,
     "end_time": "2022-09-16T07:25:23.935618",
     "exception": false,
     "start_time": "2022-09-16T07:25:23.918194",
     "status": "completed"
    },
    "tags": []
   },
   "outputs": [
    {
     "name": "stdout",
     "output_type": "stream",
     "text": [
      "Data type of array arr: <U6\n"
     ]
    }
   ],
   "source": [
    "arr = np.array(['apple', 'banana', 'cherry'])\n",
    "\n",
    "print(\"Data type of array arr:\", arr.dtype)"
   ]
  },
  {
   "cell_type": "markdown",
   "id": "07a44aae",
   "metadata": {
    "papermill": {
     "duration": 0.008548,
     "end_time": "2022-09-16T07:25:23.953195",
     "exception": false,
     "start_time": "2022-09-16T07:25:23.944647",
     "status": "completed"
    },
    "tags": []
   },
   "source": [
    "- Create an array with data type string:"
   ]
  },
  {
   "cell_type": "code",
   "execution_count": 10,
   "id": "06adc1ae",
   "metadata": {
    "execution": {
     "iopub.execute_input": "2022-09-16T07:25:23.973298Z",
     "iopub.status.busy": "2022-09-16T07:25:23.972430Z",
     "iopub.status.idle": "2022-09-16T07:25:23.978913Z",
     "shell.execute_reply": "2022-09-16T07:25:23.977616Z"
    },
    "papermill": {
     "duration": 0.019849,
     "end_time": "2022-09-16T07:25:23.981879",
     "exception": false,
     "start_time": "2022-09-16T07:25:23.962030",
     "status": "completed"
    },
    "tags": []
   },
   "outputs": [
    {
     "name": "stdout",
     "output_type": "stream",
     "text": [
      "Here is array: [b'1' b'2' b'3' b'4']\n",
      "Data type of array arr: |S1\n"
     ]
    }
   ],
   "source": [
    "arr = np.array([1, 2, 3, 4], dtype='S')\n",
    "\n",
    "print(\"Here is array:\",arr)\n",
    "print(\"Data type of array arr:\", arr.dtype)\n"
   ]
  },
  {
   "cell_type": "markdown",
   "id": "1c48c133",
   "metadata": {
    "papermill": {
     "duration": 0.008745,
     "end_time": "2022-09-16T07:25:24.000238",
     "exception": false,
     "start_time": "2022-09-16T07:25:23.991493",
     "status": "completed"
    },
    "tags": []
   },
   "source": [
    " ## Note: For i, u, f, S and U we can define size as well."
   ]
  },
  {
   "cell_type": "markdown",
   "id": "e5bff012",
   "metadata": {
    "papermill": {
     "duration": 0.008746,
     "end_time": "2022-09-16T07:25:24.018817",
     "exception": false,
     "start_time": "2022-09-16T07:25:24.010071",
     "status": "completed"
    },
    "tags": []
   },
   "source": [
    "- Create an array with data type 4 bytes integer:"
   ]
  },
  {
   "cell_type": "code",
   "execution_count": 11,
   "id": "3a1b2ecd",
   "metadata": {
    "execution": {
     "iopub.execute_input": "2022-09-16T07:25:24.039023Z",
     "iopub.status.busy": "2022-09-16T07:25:24.038278Z",
     "iopub.status.idle": "2022-09-16T07:25:24.046753Z",
     "shell.execute_reply": "2022-09-16T07:25:24.045536Z"
    },
    "papermill": {
     "duration": 0.021143,
     "end_time": "2022-09-16T07:25:24.049193",
     "exception": false,
     "start_time": "2022-09-16T07:25:24.028050",
     "status": "completed"
    },
    "tags": []
   },
   "outputs": [
    {
     "name": "stdout",
     "output_type": "stream",
     "text": [
      "[1 2 3 4]\n",
      "int32\n"
     ]
    }
   ],
   "source": [
    "arr = np.array([1, 2, 3, 4], dtype='i4')\n",
    "print(arr)\n",
    "print(arr.dtype)"
   ]
  },
  {
   "cell_type": "markdown",
   "id": "18bbcc1f",
   "metadata": {
    "papermill": {
     "duration": 0.008752,
     "end_time": "2022-09-16T07:25:24.067071",
     "exception": false,
     "start_time": "2022-09-16T07:25:24.058319",
     "status": "completed"
    },
    "tags": []
   },
   "source": [
    "- There is diffrence between type of value and given type.\n",
    "- that's why error.\n",
    "\n",
    "``` python\n",
    "arr = np.array(['a', '2', '3'], dtype='i')\n",
    "\n",
    "---------------------------------------------------------------------------\n",
    "ValueError                                Traceback (most recent call last)\n",
    "Input In [35], in <cell line: 1>()\n",
    "----> 1 arr = np.array(['a', '2', '3'], dtype='i')\n",
    "\n",
    "ValueError: invalid literal for int() with base 10: 'a'\n",
    "        \n",
    "```"
   ]
  },
  {
   "cell_type": "markdown",
   "id": "23bb6bb5",
   "metadata": {
    "papermill": {
     "duration": 0.008676,
     "end_time": "2022-09-16T07:25:24.084742",
     "exception": false,
     "start_time": "2022-09-16T07:25:24.076066",
     "status": "completed"
    },
    "tags": []
   },
   "source": [
    "***\n",
    "#### Converting Data Type on Existing Arrays\n",
    "- The astype() function creates a copy of the array, and allows you to specify the data type as a parameter.\n",
    "\n",
    "- The data type can be specified using a string, like 'f' for float, 'i' for integer etc. or you can use the data type directly like float for float and int for integer.\n",
    "\n",
    "\n",
    "***"
   ]
  },
  {
   "cell_type": "markdown",
   "id": "1823ca67",
   "metadata": {
    "papermill": {
     "duration": 0.008727,
     "end_time": "2022-09-16T07:25:24.102610",
     "exception": false,
     "start_time": "2022-09-16T07:25:24.093883",
     "status": "completed"
    },
    "tags": []
   },
   "source": [
    "- Change data type from float to integer by using **\"i\" as parameter value:**"
   ]
  },
  {
   "cell_type": "code",
   "execution_count": 12,
   "id": "4aff6c33",
   "metadata": {
    "execution": {
     "iopub.execute_input": "2022-09-16T07:25:24.122584Z",
     "iopub.status.busy": "2022-09-16T07:25:24.122176Z",
     "iopub.status.idle": "2022-09-16T07:25:24.128729Z",
     "shell.execute_reply": "2022-09-16T07:25:24.127579Z"
    },
    "papermill": {
     "duration": 0.019332,
     "end_time": "2022-09-16T07:25:24.131069",
     "exception": false,
     "start_time": "2022-09-16T07:25:24.111737",
     "status": "completed"
    },
    "tags": []
   },
   "outputs": [
    {
     "name": "stdout",
     "output_type": "stream",
     "text": [
      "New array with int value [1 2 3]\n",
      "Old Data type: float64\n",
      "New data type: int32\n"
     ]
    }
   ],
   "source": [
    "arr = np.array([1.1, 2.1, 3.1])\n",
    "\n",
    "newarr = arr.astype('i')\n",
    "\n",
    "print(\"New array with int value\",newarr)\n",
    "print(\"Old Data type:\",arr.dtype)\n",
    "print(\"New data type:\",newarr.dtype)"
   ]
  },
  {
   "cell_type": "markdown",
   "id": "1051758e",
   "metadata": {
    "papermill": {
     "duration": 0.009183,
     "end_time": "2022-09-16T07:25:24.149649",
     "exception": false,
     "start_time": "2022-09-16T07:25:24.140466",
     "status": "completed"
    },
    "tags": []
   },
   "source": [
    "- Change data type from float to integer by using **int as parameter value:**"
   ]
  },
  {
   "cell_type": "code",
   "execution_count": 13,
   "id": "156519a9",
   "metadata": {
    "execution": {
     "iopub.execute_input": "2022-09-16T07:25:24.170088Z",
     "iopub.status.busy": "2022-09-16T07:25:24.169450Z",
     "iopub.status.idle": "2022-09-16T07:25:24.176376Z",
     "shell.execute_reply": "2022-09-16T07:25:24.175262Z"
    },
    "papermill": {
     "duration": 0.019912,
     "end_time": "2022-09-16T07:25:24.178729",
     "exception": false,
     "start_time": "2022-09-16T07:25:24.158817",
     "status": "completed"
    },
    "tags": []
   },
   "outputs": [
    {
     "name": "stdout",
     "output_type": "stream",
     "text": [
      "New array with int value [1 2 3]\n",
      "Old Data type: float64\n",
      "New data type: int64\n"
     ]
    }
   ],
   "source": [
    "arr = np.array([1.1, 2.1, 3.1])\n",
    "\n",
    "newarr = arr.astype(int)\n",
    "\n",
    "print(\"New array with int value\",newarr)\n",
    "print(\"Old Data type:\",arr.dtype)\n",
    "print(\"New data type:\",newarr.dtype)"
   ]
  },
  {
   "cell_type": "code",
   "execution_count": 14,
   "id": "0343cd3b",
   "metadata": {
    "execution": {
     "iopub.execute_input": "2022-09-16T07:25:24.199830Z",
     "iopub.status.busy": "2022-09-16T07:25:24.198739Z",
     "iopub.status.idle": "2022-09-16T07:25:24.206042Z",
     "shell.execute_reply": "2022-09-16T07:25:24.204547Z"
    },
    "papermill": {
     "duration": 0.02025,
     "end_time": "2022-09-16T07:25:24.208396",
     "exception": false,
     "start_time": "2022-09-16T07:25:24.188146",
     "status": "completed"
    },
    "tags": []
   },
   "outputs": [
    {
     "name": "stdout",
     "output_type": "stream",
     "text": [
      "New array with int value [ True False  True]\n",
      "Old Data type: float64\n",
      "New data type: bool\n"
     ]
    }
   ],
   "source": [
    "arr = np.array([1, 0, 3.1])\n",
    "\n",
    "newarr = arr.astype(bool)\n",
    "\n",
    "print(\"New array with int value\",newarr)\n",
    "print(\"Old Data type:\",arr.dtype)\n",
    "print(\"New data type:\",newarr.dtype)"
   ]
  },
  {
   "cell_type": "code",
   "execution_count": 15,
   "id": "e676c4a6",
   "metadata": {
    "execution": {
     "iopub.execute_input": "2022-09-16T07:25:24.229373Z",
     "iopub.status.busy": "2022-09-16T07:25:24.228520Z",
     "iopub.status.idle": "2022-09-16T07:25:24.242102Z",
     "shell.execute_reply": "2022-09-16T07:25:24.240473Z"
    },
    "papermill": {
     "duration": 0.026725,
     "end_time": "2022-09-16T07:25:24.244538",
     "exception": false,
     "start_time": "2022-09-16T07:25:24.217813",
     "status": "completed"
    },
    "tags": []
   },
   "outputs": [
    {
     "name": "stdout",
     "output_type": "stream",
     "text": [
      "Data type of float value array: float64\n",
      "Data type of str value array: <U6\n",
      "Data type of mix value array: <U32\n"
     ]
    }
   ],
   "source": [
    "flaotarr=np.array([1.0,2,3,4])\n",
    "strarr=np.array([\"this\",\"is\",\"bhawan\"])\n",
    "strflaotintarr=np.array([1,2,3.5,\"bhawan\"])\n",
    "\n",
    "print(\"Data type of float value array:\",flaotarr.dtype)\n",
    "print(\"Data type of str value array:\",strarr.dtype)\n",
    "print(\"Data type of mix value array:\",strflaotintarr.dtype)"
   ]
  },
  {
   "cell_type": "markdown",
   "id": "b8ffabf9",
   "metadata": {
    "papermill": {
     "duration": 0.009075,
     "end_time": "2022-09-16T07:25:24.263005",
     "exception": false,
     "start_time": "2022-09-16T07:25:24.253930",
     "status": "completed"
    },
    "tags": []
   },
   "source": [
    "### Use of Ones():\n",
    "- Python numpy.ones() function returns a new array of given shape and data type, where the element’s value is set to 1.\n",
    "\n",
    "- **Syntex:** <H3>ones(shape, dtype=None, order='C')</H3>"
   ]
  },
  {
   "cell_type": "code",
   "execution_count": 16,
   "id": "e4a6ccc1",
   "metadata": {
    "execution": {
     "iopub.execute_input": "2022-09-16T07:25:24.283287Z",
     "iopub.status.busy": "2022-09-16T07:25:24.282865Z",
     "iopub.status.idle": "2022-09-16T07:25:24.293309Z",
     "shell.execute_reply": "2022-09-16T07:25:24.292222Z"
    },
    "papermill": {
     "duration": 0.023231,
     "end_time": "2022-09-16T07:25:24.295541",
     "exception": false,
     "start_time": "2022-09-16T07:25:24.272310",
     "status": "completed"
    },
    "tags": []
   },
   "outputs": [
    {
     "name": "stdout",
     "output_type": "stream",
     "text": [
      "Ones array:\n",
      " [[1. 1.]\n",
      " [1. 1.]]\n",
      "\n",
      "#### Change in type of array:\n",
      "\n",
      "Ones array:\n",
      " [[1 1 1 1]\n",
      " [1 1 1 1]\n",
      " [1 1 1 1]\n",
      " [1 1 1 1]]\n",
      "\n",
      "Ones array 3-D\n",
      " [[[1 1 1]\n",
      "  [1 1 1]\n",
      "  [1 1 1]\n",
      "  [1 1 1]]\n",
      "\n",
      " [[1 1 1]\n",
      "  [1 1 1]\n",
      "  [1 1 1]\n",
      "  [1 1 1]]\n",
      "\n",
      " [[1 1 1]\n",
      "  [1 1 1]\n",
      "  [1 1 1]\n",
      "  [1 1 1]]\n",
      "\n",
      " [[1 1 1]\n",
      "  [1 1 1]\n",
      "  [1 1 1]\n",
      "  [1 1 1]]]\n",
      "\n",
      "#### MIX value type of array:\n",
      "\n",
      "Ones array:\n",
      " [[(1, 1.) (1, 1.) (1, 1.)]\n",
      " [(1, 1.) (1, 1.) (1, 1.)]\n",
      " [(1, 1.) (1, 1.) (1, 1.)]]\n"
     ]
    }
   ],
   "source": [
    "onesarr=np.ones((2,2))\n",
    "print(\"Ones array:\\n\",onesarr)\n",
    "\n",
    "############################\n",
    "\n",
    "print(\"\\n#### Change in type of array:\")\n",
    "onesarr=np.ones((4,4),dtype=int)\n",
    "print(\"\\nOnes array:\\n\",onesarr)\n",
    "\n",
    "onesarr=np.ones((4,4,3),dtype=int)\n",
    "print(\"\\nOnes array 3-D\\n\",onesarr)\n",
    "\n",
    "###########################\n",
    "\n",
    "print(\"\\n#### MIX value type of array:\")\n",
    "onesarr=np.ones((3,3),dtype=[('x',int),('y',float)])\n",
    "print(\"\\nOnes array:\\n\",onesarr)\n"
   ]
  },
  {
   "cell_type": "markdown",
   "id": "1fdbecb6",
   "metadata": {
    "papermill": {
     "duration": 0.009039,
     "end_time": "2022-09-16T07:25:24.314048",
     "exception": false,
     "start_time": "2022-09-16T07:25:24.305009",
     "status": "completed"
    },
    "tags": []
   },
   "source": [
    "### Use of Zeros():\n",
    "- Return a new array of given shape and type, filled with zeros.\n",
    "\n",
    "- **Syntex:** <H3>numpy.zeros(shape, dtype=float, order='C', *, like=None)\n",
    "</H3>"
   ]
  },
  {
   "cell_type": "code",
   "execution_count": 17,
   "id": "9c436390",
   "metadata": {
    "execution": {
     "iopub.execute_input": "2022-09-16T07:25:24.334944Z",
     "iopub.status.busy": "2022-09-16T07:25:24.334240Z",
     "iopub.status.idle": "2022-09-16T07:25:24.343051Z",
     "shell.execute_reply": "2022-09-16T07:25:24.341614Z"
    },
    "papermill": {
     "duration": 0.021812,
     "end_time": "2022-09-16T07:25:24.345309",
     "exception": false,
     "start_time": "2022-09-16T07:25:24.323497",
     "status": "completed"
    },
    "tags": []
   },
   "outputs": [
    {
     "name": "stdout",
     "output_type": "stream",
     "text": [
      "Zeros array:\n",
      " [[0. 0. 0.]\n",
      " [0. 0. 0.]\n",
      " [0. 0. 0.]]\n",
      "\n",
      "#### Change in type of array:\n",
      "\n",
      "Zeros array:\n",
      " [[0 0 0 0]\n",
      " [0 0 0 0]\n",
      " [0 0 0 0]\n",
      " [0 0 0 0]]\n",
      "\n",
      "Zeros array 3-D\n",
      " [[[0 0 0]\n",
      "  [0 0 0]\n",
      "  [0 0 0]\n",
      "  [0 0 0]]\n",
      "\n",
      " [[0 0 0]\n",
      "  [0 0 0]\n",
      "  [0 0 0]\n",
      "  [0 0 0]]\n",
      "\n",
      " [[0 0 0]\n",
      "  [0 0 0]\n",
      "  [0 0 0]\n",
      "  [0 0 0]]\n",
      "\n",
      " [[0 0 0]\n",
      "  [0 0 0]\n",
      "  [0 0 0]\n",
      "  [0 0 0]]]\n",
      "\n",
      "#### MIX value type of array:\n",
      "\n",
      "O's array:\n",
      " [[(0, 0.) (0, 0.) (0, 0.)]\n",
      " [(0, 0.) (0, 0.) (0, 0.)]\n",
      " [(0, 0.) (0, 0.) (0, 0.)]]\n"
     ]
    }
   ],
   "source": [
    "zrerosarr=np.zeros((3,3))\n",
    "print(\"Zeros array:\\n\",zrerosarr)\n",
    "\n",
    "############################\n",
    "\n",
    "print(\"\\n#### Change in type of array:\")\n",
    "zrerosarr=np.zeros((4,4),dtype=int)\n",
    "print(\"\\nZeros array:\\n\",zrerosarr)\n",
    "\n",
    "zrerosarr=np.zeros((4,4,3),dtype=int)\n",
    "print(\"\\nZeros array 3-D\\n\",zrerosarr)\n",
    "\n",
    "###########################\n",
    "\n",
    "print(\"\\n#### MIX value type of array:\")\n",
    "zrerosarr=np.zeros((3,3),dtype=[('x',int),('y',float)])\n",
    "print(\"\\nO's array:\\n\",zrerosarr)\n"
   ]
  },
  {
   "cell_type": "markdown",
   "id": "c39b8270",
   "metadata": {
    "papermill": {
     "duration": 0.009173,
     "end_time": "2022-09-16T07:25:24.364062",
     "exception": false,
     "start_time": "2022-09-16T07:25:24.354889",
     "status": "completed"
    },
    "tags": []
   },
   "source": [
    "### Use of empty():\n",
    "-Return a new array of given shape and type, without initializing entries.\n",
    "- **Syntex:** <H3>numpy.empty(shape, dtype=float, order='C', *, like=None)\n",
    "</H3>\n"
   ]
  },
  {
   "cell_type": "code",
   "execution_count": 18,
   "id": "c2aa829c",
   "metadata": {
    "execution": {
     "iopub.execute_input": "2022-09-16T07:25:24.384990Z",
     "iopub.status.busy": "2022-09-16T07:25:24.384276Z",
     "iopub.status.idle": "2022-09-16T07:25:24.394569Z",
     "shell.execute_reply": "2022-09-16T07:25:24.392746Z"
    },
    "papermill": {
     "duration": 0.024301,
     "end_time": "2022-09-16T07:25:24.397759",
     "exception": false,
     "start_time": "2022-09-16T07:25:24.373458",
     "status": "completed"
    },
    "tags": []
   },
   "outputs": [
    {
     "name": "stdout",
     "output_type": "stream",
     "text": [
      "Empty array:\n",
      " [[0. 0. 0.]\n",
      " [0. 0. 0.]\n",
      " [0. 0. 0.]]\n",
      "\n",
      "###################################################################################\n",
      "\n",
      "#### Change in type of array:\n",
      "\n",
      " Empty array:\n",
      " [[0 0 0]\n",
      " [0 0 0]\n",
      " [0 0 0]]\n",
      "\n",
      " Empty array 3-D\n",
      " [[[94368961097536              0 10020158701575]\n",
      "  [             0    17179869187              0]\n",
      "  [             0   137438953494              0]]\n",
      "\n",
      " [[             0              0              0]\n",
      "  [             0              0              0]\n",
      "  [             0              0              0]]\n",
      "\n",
      " [[             0              0              0]\n",
      "  [             0 94368968846736 94368968846992]\n",
      "  [94368968847184              0              0]]]\n",
      "\n",
      "###################################################################################\n",
      "\n",
      "#### MIX value type of array:\n",
      "\n",
      " Empty array:\n",
      " [[( 94368969317184, 0.00000000e+000) (139923446493296, 6.91319056e-310)\n",
      "  (139923446493232, 6.91319056e-310)]\n",
      " [(139923446480240, 6.91319056e-310) (139923446480496, 6.91319056e-310)\n",
      "  (139923446479728, 6.91319056e-310)]\n",
      " [(139923446480304, 6.91319056e-310) (139923446479600, 6.91319056e-310)\n",
      "  (139923446479664, 6.91319056e-310)]]\n"
     ]
    }
   ],
   "source": [
    "emptyarr=np.empty((3,3))\n",
    "print(\"Empty array:\\n\",emptyarr)\n",
    "\n",
    "print(\"\\n###################################################################################\")\n",
    "\n",
    "print(\"\\n#### Change in type of array:\")\n",
    "emptyarr=np.empty((3,3),dtype=int)\n",
    "print(\"\\n Empty array:\\n\", emptyarr)\n",
    "\n",
    "emptyarr=np.empty((3,3,3),dtype=int)\n",
    "print(\"\\n Empty array 3-D\\n\", emptyarr)\n",
    "\n",
    "print(\"\\n###################################################################################\")\n",
    "\n",
    "print(\"\\n#### MIX value type of array:\")\n",
    "emptyarr=np.empty((3,3),dtype=[('x',int),('y',float)])\n",
    "print(\"\\n Empty array:\\n\",emptyarr)\n"
   ]
  },
  {
   "cell_type": "markdown",
   "id": "f2d73c7d",
   "metadata": {
    "papermill": {
     "duration": 0.009586,
     "end_time": "2022-09-16T07:25:24.417545",
     "exception": false,
     "start_time": "2022-09-16T07:25:24.407959",
     "status": "completed"
    },
    "tags": []
   },
   "source": [
    "### Use of empty_like():\n",
    "- Return a new array with the same shape and type as a given array.\n",
    "- **Syntex:** <H3>numpy.empty_like(prototype, dtype=None, order='K', subok=True, shape=None)\n",
    "</H3>\n"
   ]
  },
  {
   "cell_type": "code",
   "execution_count": 19,
   "id": "2f1cebb6",
   "metadata": {
    "execution": {
     "iopub.execute_input": "2022-09-16T07:25:24.439555Z",
     "iopub.status.busy": "2022-09-16T07:25:24.438734Z",
     "iopub.status.idle": "2022-09-16T07:25:24.451647Z",
     "shell.execute_reply": "2022-09-16T07:25:24.449714Z"
    },
    "papermill": {
     "duration": 0.027356,
     "end_time": "2022-09-16T07:25:24.454743",
     "exception": false,
     "start_time": "2022-09-16T07:25:24.427387",
     "status": "completed"
    },
    "tags": []
   },
   "outputs": [
    {
     "name": "stdout",
     "output_type": "stream",
     "text": [
      "Empty array:\n",
      " [[1 2 3 4]\n",
      " [1 2 3 4]\n",
      " [1 2 3 4]]\n",
      "\n",
      " Type of empty_like: int64\n",
      "\n",
      "###################################################################################\n",
      "\n",
      "#### Change in type of array:\n",
      "\n",
      " Empty array:\n",
      " [[4.66244656e-310 0.00000000e+000 0.00000000e+000 0.00000000e+000]\n",
      " [2.90862301e-231 1.51957238e-047 2.23349482e+180 7.16453721e-038]\n",
      " [2.54665841e-052 3.38361559e-061 1.77207414e-051 2.12712244e+160]]\n",
      "\n",
      "###################################################################################\n",
      "\n",
      "#### MIX value type of array:\n",
      "\n",
      " Empty array:\n",
      " [[(4596373779694328218, 0.2 ) (4603579539098121011, 1.  )\n",
      "  (                  0, 0.6 ) (4607182418800017408, 1.  )]\n",
      " [(                  0, 0.8 ) (4600877379321698714, 1.  )\n",
      "  (4607182418800017408, 1.  ) (4603579539098121011, 1.  )]\n",
      " [(4602678819172646912, 0.36) (4599616371426034975, 1.  )\n",
      "  (4607182418800017408, 1.  ) (4607182418800017408, 1.  )]]\n",
      "\n",
      "###################################################################################\n",
      "\n",
      "#### Change in Subok and Shape:\n",
      "\n",
      " Empty array:\n",
      " [[0.2  1.   0.6 ]\n",
      " [1.   0.8  1.  ]\n",
      " [1.   1.   0.36]\n",
      " [1.   1.   1.  ]]\n"
     ]
    }
   ],
   "source": [
    "arr2d=np.array([[1,2,3,4],\n",
    "                [1,2,3,4],\n",
    "                [1,2,3,4],\n",
    "               ])\n",
    "\n",
    "emptyarr_like=np.empty_like(arr2d)\n",
    "print(\"Empty array:\\n\",emptyarr_like)\n",
    "\n",
    "print(\"\\n Type of empty_like:\",emptyarr_like.dtype)\n",
    "\n",
    "print(\"\\n###################################################################################\")\n",
    "\n",
    "print(\"\\n#### Change in type of array:\")\n",
    "emptyarr_like=np.empty_like(arr2d,dtype=float)\n",
    "print(\"\\n Empty array:\\n\", emptyarr_like)\n",
    "\n",
    "print(\"\\n###################################################################################\")\n",
    "\n",
    "print(\"\\n#### MIX value type of array:\")\n",
    "emptyarr_like=np.empty_like(arr2d,dtype=[(\"x\",int),(\"y\",float)])\n",
    "print(\"\\n Empty array:\\n\",emptyarr_like)\n",
    "\n",
    "print(\"\\n###################################################################################\")\n",
    "\n",
    "print(\"\\n#### Change in Subok and Shape:\")\n",
    "\n",
    "emptyarr_like=np.empty_like(arr2d,dtype=float,subok=False,shape=(4,3))\n",
    "print(\"\\n Empty array:\\n\", emptyarr_like)"
   ]
  },
  {
   "cell_type": "markdown",
   "id": "15358227",
   "metadata": {
    "papermill": {
     "duration": 0.009361,
     "end_time": "2022-09-16T07:25:24.474372",
     "exception": false,
     "start_time": "2022-09-16T07:25:24.465011",
     "status": "completed"
    },
    "tags": []
   },
   "source": [
    "### Use of full():\n",
    "- Return a new array of given shape and type, filled with fill_value.\n",
    "- **Syntex:** <H3>numpy.full(shape, fill_value, dtype=None, order='C', *, like=None)</H3>"
   ]
  },
  {
   "cell_type": "code",
   "execution_count": null,
   "id": "cd3111b3",
   "metadata": {
    "papermill": {
     "duration": 0.009292,
     "end_time": "2022-09-16T07:25:24.493385",
     "exception": false,
     "start_time": "2022-09-16T07:25:24.484093",
     "status": "completed"
    },
    "tags": []
   },
   "outputs": [],
   "source": []
  },
  {
   "cell_type": "code",
   "execution_count": null,
   "id": "029050d4",
   "metadata": {
    "papermill": {
     "duration": 0.009016,
     "end_time": "2022-09-16T07:25:24.511984",
     "exception": false,
     "start_time": "2022-09-16T07:25:24.502968",
     "status": "completed"
    },
    "tags": []
   },
   "outputs": [],
   "source": []
  }
 ],
 "metadata": {
  "kernelspec": {
   "display_name": "Python 3",
   "language": "python",
   "name": "python3"
  },
  "language_info": {
   "codemirror_mode": {
    "name": "ipython",
    "version": 3
   },
   "file_extension": ".py",
   "mimetype": "text/x-python",
   "name": "python",
   "nbconvert_exporter": "python",
   "pygments_lexer": "ipython3",
   "version": "3.7.12"
  },
  "papermill": {
   "default_parameters": {},
   "duration": 10.253023,
   "end_time": "2022-09-16T07:25:25.141696",
   "environment_variables": {},
   "exception": null,
   "input_path": "__notebook__.ipynb",
   "output_path": "__notebook__.ipynb",
   "parameters": {},
   "start_time": "2022-09-16T07:25:14.888673",
   "version": "2.3.4"
  }
 },
 "nbformat": 4,
 "nbformat_minor": 5
}
