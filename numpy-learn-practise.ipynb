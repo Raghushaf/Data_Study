{
 "cells": [
  {
   "cell_type": "code",
   "execution_count": 1,
   "id": "f580324a",
   "metadata": {
    "_cell_guid": "b1076dfc-b9ad-4769-8c92-a6c4dae69d19",
    "_uuid": "8f2839f25d086af736a60e9eeb907d3b93b6e0e5",
    "execution": {
     "iopub.execute_input": "2022-09-17T14:58:14.387061Z",
     "iopub.status.busy": "2022-09-17T14:58:14.386327Z",
     "iopub.status.idle": "2022-09-17T14:58:14.399076Z",
     "shell.execute_reply": "2022-09-17T14:58:14.397598Z"
    },
    "papermill": {
     "duration": 0.046723,
     "end_time": "2022-09-17T14:58:14.402497",
     "exception": false,
     "start_time": "2022-09-17T14:58:14.355774",
     "status": "completed"
    },
    "tags": []
   },
   "outputs": [],
   "source": [
    "# This Python 3 environment comes with many helpful analytics libraries installed\n",
    "# It is defined by the kaggle/python Docker image: https://github.com/kaggle/docker-python\n",
    "# For example, here's several helpful packages to load\n",
    "\n",
    "import numpy as np # linear algebra\n",
    "import pandas as pd # data processing, CSV file I/O (e.g. pd.read_csv)\n",
    "\n",
    "# Input data files are available in the read-only \"../input/\" directory\n",
    "# For example, running this (by clicking run or pressing Shift+Enter) will list all files under the input directory\n",
    "\n",
    "import os\n",
    "for dirname, _, filenames in os.walk('/kaggle/input'):\n",
    "    for filename in filenames:\n",
    "        print(os.path.join(dirname, filename))\n",
    "\n",
    "# You can write up to 20GB to the current directory (/kaggle/working/) that gets preserved as output when you create a version using \"Save & Run All\" \n",
    "# You can also write temporary files to /kaggle/temp/, but they won't be saved outside of the current session"
   ]
  },
  {
   "cell_type": "markdown",
   "id": "60d3033c",
   "metadata": {
    "papermill": {
     "duration": 0.022524,
     "end_time": "2022-09-17T14:58:14.447931",
     "exception": false,
     "start_time": "2022-09-17T14:58:14.425407",
     "status": "completed"
    },
    "tags": []
   },
   "source": [
    "<p><strong>NumPy Basics</strong></p>\n",
    "<div class=\"table-responsive\">\n",
    "<table class=\"table table-bordered\">\n",
    "<tbody><tr>\n",
    "<th>Operator</th>\n",
    "<th>Description</th>\n",
    "</tr>\n",
    "<tr>\n",
    "<td>np.array([1,2,3])</td>\n",
    "<td>1d array</td>\n",
    "</tr>\n",
    "<tr>\n",
    "<td>np.array([(1,2,3),(4,5,6)])\t</td>\n",
    "<td>2d array</td>\n",
    "</tr>\n",
    "<tr>\n",
    "<td>np.arange(start,stop,step)</td>\n",
    "<td>range array</td>\n",
    "</tr>\n",
    "</tbody></table></div>\n",
    "<p><strong>Placeholders</strong></p>\n",
    "<div class=\"table-responsive\">\n",
    "<table class=\"table table-bordered\">\n",
    "<tbody><tr>\n",
    "<th>Operator</th>\n",
    "<th>Description</th>\n",
    "</tr>\n",
    "<tr>\n",
    "<td>np.linspace(0,2,9)</td>\n",
    "<td>Add evenly spaced values btw interval to array of length</td>\n",
    "</tr>\n",
    "<tr>\n",
    "<td>np.zeros((1,2))</td>\n",
    "<td>Create and array filled with zeros</td>\n",
    "</tr>\n",
    "<tr>\n",
    "<td>np.ones((1,2))</td>\n",
    "<td>Creates an array filled with ones</td>\n",
    "</tr>\n",
    "<tr>\n",
    "<td>np.random.random((5,5))</td>\n",
    "<td>Creates random array</td>\n",
    "</tr>\n",
    "<tr>\n",
    "<td>np.empty((2,2))</td>\n",
    "<td>Creates an empty array</td>\n",
    "</tr>\n",
    "</tbody></table></div>\n",
    "<p><strong>Array</strong></p>\n",
    "<div class=\"table-responsive\">\n",
    "<table class=\"table table-bordered\">\n",
    "<tbody><tr>\n",
    "<th>Syntax</th>\n",
    "<th>Description</th>\n",
    "</tr>\n",
    "<tr>\n",
    "<td>array.shape</td>\n",
    "<td>Dimensions (Rows,Columns)</td>\n",
    "</tr>\n",
    "<tr>\n",
    "<td>len(array)</td>\n",
    "<td>Length of Array</td>\n",
    "</tr>\n",
    "<tr>\n",
    "<td>array.ndim</td>\n",
    "<td>Number of Array Dimensions</td>\n",
    "</tr>\n",
    "<tr>\n",
    "<td>array.dtype</td>\n",
    "<td>Data Type</td>\n",
    "</tr>\n",
    "<tr>\n",
    "<td>array.astype(type)</td>\n",
    "<td>Converts to Data Type</td>\n",
    "</tr>\n",
    "<tr>\n",
    "<td>type(array)</td>\n",
    "<td>Type of Array</td>\n",
    "</tr>\n",
    "</tbody></table></div>\n",
    "<img src=\"https://www.w3resource.com/w3r_images/numpy-array-xyz-axis.png\" alt=\"NumPy: numpy array axis\" style=\"max-width:100%;display:block;height:auto;border: 2px solid silver;\"><br>\n",
    "<p><strong>Copying/Sorting</strong></p>\n",
    "<div class=\"table-responsive\">\n",
    "<table class=\"table table-bordered\">\n",
    "<tbody><tr>\n",
    "<th>Operators</th>\n",
    "<th>Description</th>\n",
    "</tr>\n",
    "<tr>\n",
    "<td>np.copy(array)</td>\n",
    "<td>Creates copy of array</td>\n",
    "</tr>\n",
    "<tr>\n",
    "<td>other = array.copy()</td>\n",
    "<td>Creates deep copy of array</td>\n",
    "</tr>\n",
    "<tr>\n",
    "<td>array.sort()</td>\n",
    "<td>Sorts an array</td>\n",
    "</tr>\n",
    "<tr>\n",
    "<td>array.sort(axis=0)</td>\n",
    "<td>Sorts axis of array</td>\n",
    "</tr>\n",
    "</tbody></table></div>\n",
    "<p><strong>Array Manipulation</strong></p>\n",
    "<p><strong>Adding or Removing Elements</strong></p>\n",
    "<div class=\"table-responsive\">\n",
    "<table class=\"table table-bordered\">\n",
    "<tbody><tr>\n",
    "<th>Operator</th>\n",
    "<th>Description</th>\n",
    "</tr>\n",
    "<tr>\n",
    "<td>np.append(a,b)</td>\n",
    "<td>Append items to array</td>\n",
    "</tr>\n",
    "<tr>\n",
    "<td>np.insert(array, 1, 2, axis)</td>\n",
    "<td>Insert items into array at axis 0 or 1</td>\n",
    "</tr>\n",
    "<tr>\n",
    "<td>np.resize((2,4))</td>\n",
    "<td>Resize array to shape(2,4)</td>\n",
    "</tr>\n",
    "<tr>\n",
    "<td>np.delete(array,1,axis)</td>\n",
    "<td>Deletes items from array</td>\n",
    "</tr>\n",
    "</tbody></table></div>\n",
    "<p><strong>Combining Arrays</strong></p>\n",
    "<div class=\"table-responsive\">\n",
    "<table class=\"table table-bordered\">\n",
    "<tbody><tr>\n",
    "<th>Operator</th>\n",
    "<th>Description</th>\n",
    "</tr>\n",
    "<tr>\n",
    "<td>np.concatenate((a,b),axis=0)</td>\n",
    "<td>Concatenates 2 arrays, adds to end</td>\n",
    "</tr>\n",
    "<tr>\n",
    "<td>np.vstack((a,b))</td>\n",
    "<td>Stack array row-wise</td>\n",
    "</tr>\n",
    "<tr>\n",
    "<td>np.hstack((a,b))</td>\n",
    "<td>Stack array column wise</td>\n",
    "</tr>\n",
    "</tbody></table></div>\n",
    "<p><strong>Splitting Arrays</strong></p>\n",
    "<div class=\"table-responsive\">\n",
    "<table class=\"table table-bordered\">\n",
    "<tbody><tr>\n",
    "<th>Operator</th>\n",
    "<th>Description</th>\n",
    "</tr>\n",
    "<tr>\n",
    "<td>numpy.split()</td>\n",
    "<td>Split an array into multiple sub-arrays.</td>\n",
    "</tr>\n",
    "<tr>\n",
    "<td>np.array_split(array, 3)</td>\n",
    "<td>Split an array in sub-arrays of (nearly) identical size</td>\n",
    "</tr>\n",
    "<tr>\n",
    "<td>numpy.hsplit(array, 3)</td>\n",
    "<td>Split the array horizontally at 3rd index</td>\n",
    "</tr>\n",
    "</tbody></table></div>\n",
    "<p><strong>More</strong></p>\n",
    "<div class=\"table-responsive\">\n",
    "<table class=\"table table-bordered\">\n",
    "<tbody><tr>\n",
    "<th>Operator</th>\n",
    "<th>Description</th>\n",
    "</tr>\n",
    "<tr>\n",
    "<td>other = ndarray.flatten()</td>\n",
    "<td>Flattens a 2d array to 1d</td>\n",
    "</tr>\n",
    "<tr>\n",
    "<td>array = np.transpose(other)<br>array.T</td>\n",
    "<td>Transpose array</td>\n",
    "</tr>\n",
    "<tr>\n",
    "<td>inverse = np.linalg.inv(matrix)</td>\n",
    "<td>Inverse of a given matrix</td>\n",
    "</tr>\n",
    "<tr>\n",
    "<td></td>\n",
    "<td></td>\n",
    "</tr>\n",
    "</tbody></table></div>\n",
    "<p><strong>Mathematics</strong></p>\n",
    "<p><strong>Operations</strong></p>\n",
    "<div class=\"table-responsive\">\n",
    "<table class=\"table table-bordered\">\n",
    "<tbody><tr>\n",
    "<th>Operator</th>\n",
    "<th>Description</th>\n",
    "</tr>\n",
    "<tr>\n",
    "<td>np.add(x,y)<br>x + y</td>\n",
    "<td>Addition</td>\n",
    "</tr>\n",
    "<tr>\n",
    "<td>np.substract(x,y)<br>x - y</td>\n",
    "<td>Subtraction</td>\n",
    "</tr>\n",
    "<tr>\n",
    "<td>np.divide(x,y)<br>x / y</td>\n",
    "<td>Division</td>\n",
    "</tr>\n",
    "<tr>\n",
    "<td>np.multiply(x,y)<br>x @ y</td>\n",
    "<td>Multiplication</td>\n",
    "</tr>\n",
    "<tr>\n",
    "<td>np.sqrt(x)</td>\n",
    "<td>Square Root</td>\n",
    "</tr>\n",
    "<tr>\n",
    "<td>np.sin(x)</td>\n",
    "<td>Element-wise sine</td>\n",
    "</tr>\n",
    "<tr>\n",
    "<td>np.cos(x)</td>\n",
    "<td>Element-wise cosine</td>\n",
    "</tr>\n",
    "<tr>\n",
    "<td>np.log(x)</td>\n",
    "<td>Element-wise natural log</td>\n",
    "</tr>\n",
    "<tr>\n",
    "<td>np.dot(x,y)</td>\n",
    "<td>Dot product</td>\n",
    "</tr>\n",
    "<tr>\n",
    "<td>np.roots([1,0,-4])</td>\n",
    "<td>Roots of a given polynomial coefficients</td>\n",
    "</tr>\n",
    "</tbody></table></div>\n",
    "<p><strong>Comparison</strong></p>\n",
    "<div class=\"table-responsive\">\n",
    "<table class=\"table table-bordered\">\n",
    "<tbody><tr>\n",
    "<th>Operator</th>\n",
    "<th>Description</th>\n",
    "</tr>\n",
    "<tr>\n",
    "<td>==</td>\n",
    "<td>Equal</td>\n",
    "</tr>\n",
    "<tr>\n",
    "<td>!=</td>\n",
    "<td>Not equal</td>\n",
    "</tr>\n",
    "<tr>\n",
    "<td>&lt;</td>\n",
    "<td>Smaller than</td>\n",
    "</tr>\n",
    "<tr>\n",
    "<td>&gt;</td>\n",
    "<td>Greater than</td>\n",
    "</tr>\n",
    "<tr>\n",
    "<td>&lt;=</td>\n",
    "<td>Smaller than or equal</td>\n",
    "</tr>\n",
    "<tr>\n",
    "<td>&gt;=</td>\n",
    "<td>Greater than or equal</td>\n",
    "</tr>\n",
    "<tr>\n",
    "<td>np.array_equal(x,y)</td>\n",
    "<td>Array-wise comparison</td>\n",
    "</tr>\n",
    "</tbody></table></div>\n",
    "<p><strong>Basic Statistics</strong></p>\n",
    "<div class=\"table-responsive\">\n",
    "<table class=\"table table-bordered\">\n",
    "<tbody><tr>\n",
    "<th>Operator</th>\n",
    "<th>Description</th>\n",
    "</tr>\n",
    "<tr>\n",
    "<td>np.mean(array)</td>\n",
    "<td>Mean</td>\n",
    "</tr>\n",
    "<tr>\n",
    "<td>np.median(array)</td>\n",
    "<td>Median</td>\n",
    "</tr>\n",
    "<tr>\n",
    "<td>array.corrcoef()</td>\n",
    "<td>Correlation Coefficient</td>\n",
    "</tr>\n",
    "<tr>\n",
    "<td>np.std(array)</td>\n",
    "<td>Standard Deviation</td>\n",
    "</tr>\n",
    "</tbody></table></div>\n",
    "<p><strong>More</strong></p>\n",
    "<div class=\"table-responsive\">\n",
    "<table class=\"table table-bordered\">\n",
    "<tbody><tr>\n",
    "<th>Operator</th>\n",
    "<th>Description</th>\n",
    "</tr>\n",
    "<tr>\n",
    "<td>array.sum()</td>\n",
    "<td>Array-wise sum</td>\n",
    "</tr>\n",
    "<tr>\n",
    "<td>array.min()</td>\n",
    "<td>Array-wise minimum value</td>\n",
    "</tr>\n",
    "<tr>\n",
    "<td>array.max(axis=0)</td>\n",
    "<td>Maximum value of specified axis</td>\n",
    "</tr>\n",
    "<tr>\n",
    "<td>array.cumsum(axis=0)</td>\n",
    "<td>Cumulative sum of specified axis</td>\n",
    "</tr>\n",
    "</tbody></table></div>\n",
    "<p><strong>Slicing and Subsetting</strong></p>\n",
    "<div class=\"table-responsive\">\n",
    "<table class=\"table table-bordered\">\n",
    "<tbody><tr>\n",
    "<th>Operator</th>\n",
    "<th>Description</th>\n",
    "</tr>\n",
    "<tr>\n",
    "<td>array[i]</td>\n",
    "<td>1d array at index i</td>\n",
    "</tr>\n",
    "<tr>\n",
    "<td>array[i,j]</td>\n",
    "<td>2d array at index[i][j]</td>\n",
    "</tr>\n",
    "<tr>\n",
    "<td>array[i&lt;4]</td>\n",
    "<td>Boolean Indexing, see Tricks</td>\n",
    "</tr>\n",
    "<tr>\n",
    "<td>array[0:3]</td>\n",
    "<td>Select items of index 0, 1 and 2</td>\n",
    "</tr>\n",
    "<tr>\n",
    "<td>array[0:2,1]</td>\n",
    "<td>Select items of rows 0 and 1 at column 1</td>\n",
    "</tr>\n",
    "<tr>\n",
    "<td>array[:1]</td>\n",
    "<td>Select items of row 0 (equals array[0:1, :])</td>\n",
    "</tr>\n",
    "<tr>\n",
    "<td>array[1:2, :]</td>\n",
    "<td>Select items of row 1</td>\n",
    "</tr>\n",
    "<tr>\n",
    "<td>[comment]: &lt;&gt; (</td>\n",
    "<td>array[1,...]</td>\n",
    "</tr>\n",
    "<tr>\n",
    "<td>array[ : :-1]</td>\n",
    "<td>Reverses array</td>\n",
    "</tr>\n",
    "</tbody></table></div>\n",
    "<p><strong>Importing/exporting</strong></p>\n",
    "<div class=\"table-responsive\">\n",
    "<table class=\"table table-bordered\">\n",
    "<tbody><tr>\n",
    "<th>Syntax</th>\n",
    "<th>Description</th>\n",
    "</tr>\n",
    "<tr>\n",
    "<td>np.loadtxt('file.txt')</td>\n",
    "<td>From a text file. </td>\n",
    "</tr>\n",
    "<tr>\n",
    "<td>np.genfromtxt('file.csv',delimiter=',') </td>\n",
    "<td>From a csv file.</td>\n",
    "</tr>\n",
    "<tr>\n",
    "<td>np.savetxt('file.txt',arr,delimiter=' ') </td>\n",
    "<td>Writes to a text file.</td>\n",
    "</tr>\n",
    "<tr>\n",
    "<td>np.savetxt('file.csv',arr,delimiter=',') </td>\n",
    "<td>Writes to a CSV file.</td>\n",
    "</tr>\n",
    "</tbody></table></div>"
   ]
  },
  {
   "cell_type": "markdown",
   "id": "51c471e5",
   "metadata": {
    "papermill": {
     "duration": 0.022131,
     "end_time": "2022-09-17T14:58:14.492555",
     "exception": false,
     "start_time": "2022-09-17T14:58:14.470424",
     "status": "completed"
    },
    "tags": []
   },
   "source": [
    "### Creating 1-D Array:"
   ]
  },
  {
   "cell_type": "code",
   "execution_count": 2,
   "id": "1571cba3",
   "metadata": {
    "execution": {
     "iopub.execute_input": "2022-09-17T14:58:14.540671Z",
     "iopub.status.busy": "2022-09-17T14:58:14.539637Z",
     "iopub.status.idle": "2022-09-17T14:58:14.547888Z",
     "shell.execute_reply": "2022-09-17T14:58:14.546673Z"
    },
    "papermill": {
     "duration": 0.035674,
     "end_time": "2022-09-17T14:58:14.550584",
     "exception": false,
     "start_time": "2022-09-17T14:58:14.514910",
     "status": "completed"
    },
    "tags": []
   },
   "outputs": [
    {
     "name": "stdout",
     "output_type": "stream",
     "text": [
      "This is 1-D array: [1 2 3 4 5]\n"
     ]
    }
   ],
   "source": [
    "arr1d=np.array([1,2,3,4,5])\n",
    "print(\"This is 1-D array:\",arr1d)"
   ]
  },
  {
   "cell_type": "markdown",
   "id": "43bad61d",
   "metadata": {
    "papermill": {
     "duration": 0.022428,
     "end_time": "2022-09-17T14:58:14.595940",
     "exception": false,
     "start_time": "2022-09-17T14:58:14.573512",
     "status": "completed"
    },
    "tags": []
   },
   "source": [
    "### Creating 2-D Array:"
   ]
  },
  {
   "cell_type": "code",
   "execution_count": 3,
   "id": "55491445",
   "metadata": {
    "execution": {
     "iopub.execute_input": "2022-09-17T14:58:14.643631Z",
     "iopub.status.busy": "2022-09-17T14:58:14.643209Z",
     "iopub.status.idle": "2022-09-17T14:58:14.649334Z",
     "shell.execute_reply": "2022-09-17T14:58:14.648307Z"
    },
    "papermill": {
     "duration": 0.0334,
     "end_time": "2022-09-17T14:58:14.652068",
     "exception": false,
     "start_time": "2022-09-17T14:58:14.618668",
     "status": "completed"
    },
    "tags": []
   },
   "outputs": [
    {
     "name": "stdout",
     "output_type": "stream",
     "text": [
      "This is 2-D array:\n",
      "\n",
      " [[1 2 3 4]\n",
      " [1 2 3 4]\n",
      " [1 2 3 4]]\n"
     ]
    }
   ],
   "source": [
    "arr2d=np.array([[1,2,3,4],\n",
    "                [1,2,3,4],\n",
    "                [1,2,3,4],\n",
    "               ])\n",
    "print(\"This is 2-D array:\\n\\n\",arr2d)"
   ]
  },
  {
   "cell_type": "markdown",
   "id": "b67b3e10",
   "metadata": {
    "papermill": {
     "duration": 0.022131,
     "end_time": "2022-09-17T14:58:14.696897",
     "exception": false,
     "start_time": "2022-09-17T14:58:14.674766",
     "status": "completed"
    },
    "tags": []
   },
   "source": [
    "### Creating 3-D or Multi-D Array:"
   ]
  },
  {
   "cell_type": "code",
   "execution_count": 4,
   "id": "58d886aa",
   "metadata": {
    "execution": {
     "iopub.execute_input": "2022-09-17T14:58:14.744927Z",
     "iopub.status.busy": "2022-09-17T14:58:14.744148Z",
     "iopub.status.idle": "2022-09-17T14:58:14.752685Z",
     "shell.execute_reply": "2022-09-17T14:58:14.751181Z"
    },
    "papermill": {
     "duration": 0.037048,
     "end_time": "2022-09-17T14:58:14.756282",
     "exception": false,
     "start_time": "2022-09-17T14:58:14.719234",
     "status": "completed"
    },
    "tags": []
   },
   "outputs": [
    {
     "name": "stdout",
     "output_type": "stream",
     "text": [
      "This is 3-D array:\n",
      "\n",
      " [[[1 2 3 4]\n",
      "  [1 2 3 4]\n",
      "  [1 2 3 4]]\n",
      "\n",
      " [[1 2 3 4]\n",
      "  [1 2 3 4]\n",
      "  [1 2 3 4]]\n",
      "\n",
      " [[1 2 3 4]\n",
      "  [1 2 3 4]\n",
      "  [1 2 3 4]]]\n"
     ]
    }
   ],
   "source": [
    "arr3d=np.array([[[1,2,3,4],\n",
    "                [1,2,3,4],\n",
    "                [1,2,3,4],\n",
    "               ],\n",
    "               [[1,2,3,4],\n",
    "                [1,2,3,4],\n",
    "                [1,2,3,4],\n",
    "               ],\n",
    "                [[1,2,3,4],\n",
    "                [1,2,3,4],\n",
    "                [1,2,3,4],\n",
    "               ]])\n",
    "print(\"This is 3-D array:\\n\\n\",arr3d)"
   ]
  },
  {
   "cell_type": "markdown",
   "id": "0f185f01",
   "metadata": {
    "papermill": {
     "duration": 0.023167,
     "end_time": "2022-09-17T14:58:14.803627",
     "exception": false,
     "start_time": "2022-09-17T14:58:14.780460",
     "status": "completed"
    },
    "tags": []
   },
   "source": [
    "### Use of type() function:\n",
    "- It will give the type of object.\n"
   ]
  },
  {
   "cell_type": "code",
   "execution_count": 5,
   "id": "d211d8df",
   "metadata": {
    "execution": {
     "iopub.execute_input": "2022-09-17T14:58:14.853810Z",
     "iopub.status.busy": "2022-09-17T14:58:14.853358Z",
     "iopub.status.idle": "2022-09-17T14:58:14.860923Z",
     "shell.execute_reply": "2022-09-17T14:58:14.859036Z"
    },
    "papermill": {
     "duration": 0.036383,
     "end_time": "2022-09-17T14:58:14.864021",
     "exception": false,
     "start_time": "2022-09-17T14:58:14.827638",
     "status": "completed"
    },
    "tags": []
   },
   "outputs": [
    {
     "name": "stdout",
     "output_type": "stream",
     "text": [
      "type of array 1-D array: <class 'numpy.ndarray'>\n"
     ]
    }
   ],
   "source": [
    "print(\"type of array 1-D array:\",type(arr1d))"
   ]
  },
  {
   "cell_type": "markdown",
   "id": "e658b15a",
   "metadata": {
    "papermill": {
     "duration": 0.024281,
     "end_time": "2022-09-17T14:58:14.911031",
     "exception": false,
     "start_time": "2022-09-17T14:58:14.886750",
     "status": "completed"
    },
    "tags": []
   },
   "source": [
    "### Use of ndim:\n",
    "- It will give the dimention of NumPy array."
   ]
  },
  {
   "cell_type": "code",
   "execution_count": 6,
   "id": "68ef7088",
   "metadata": {
    "execution": {
     "iopub.execute_input": "2022-09-17T14:58:14.961930Z",
     "iopub.status.busy": "2022-09-17T14:58:14.961505Z",
     "iopub.status.idle": "2022-09-17T14:58:14.968135Z",
     "shell.execute_reply": "2022-09-17T14:58:14.966853Z"
    },
    "papermill": {
     "duration": 0.034966,
     "end_time": "2022-09-17T14:58:14.971563",
     "exception": false,
     "start_time": "2022-09-17T14:58:14.936597",
     "status": "completed"
    },
    "tags": []
   },
   "outputs": [
    {
     "name": "stdout",
     "output_type": "stream",
     "text": [
      "Dimention of Array arr1d:-> 1\n",
      "Dimention of Array arr2d:-> 2\n",
      "Dimention of Array arr3d:-> 3\n"
     ]
    }
   ],
   "source": [
    "print(\"Dimention of Array arr1d:->\",arr1d.ndim)\n",
    "print(\"Dimention of Array arr2d:->\",arr2d.ndim)\n",
    "print(\"Dimention of Array arr3d:->\",arr3d.ndim)"
   ]
  },
  {
   "cell_type": "markdown",
   "id": "92f4ea6f",
   "metadata": {
    "papermill": {
     "duration": 0.022803,
     "end_time": "2022-09-17T14:58:15.018152",
     "exception": false,
     "start_time": "2022-09-17T14:58:14.995349",
     "status": "completed"
    },
    "tags": []
   },
   "source": [
    "### Use of shape:\n",
    "- It will give you shape of array."
   ]
  },
  {
   "cell_type": "code",
   "execution_count": 7,
   "id": "59c5d8a1",
   "metadata": {
    "execution": {
     "iopub.execute_input": "2022-09-17T14:58:15.066802Z",
     "iopub.status.busy": "2022-09-17T14:58:15.065935Z",
     "iopub.status.idle": "2022-09-17T14:58:15.072148Z",
     "shell.execute_reply": "2022-09-17T14:58:15.070803Z"
    },
    "papermill": {
     "duration": 0.034564,
     "end_time": "2022-09-17T14:58:15.075369",
     "exception": false,
     "start_time": "2022-09-17T14:58:15.040805",
     "status": "completed"
    },
    "tags": []
   },
   "outputs": [
    {
     "name": "stdout",
     "output_type": "stream",
     "text": [
      "Shape of array arr1d will be:  (5,)\n",
      "Shape of array qrr2d will be: (3, 4)\n",
      "Shape of array arr3d will be: (3, 3, 4)\n"
     ]
    }
   ],
   "source": [
    "print(\"Shape of array arr1d will be: \", arr1d.shape)\n",
    "print(\"Shape of array qrr2d will be:\", arr2d.shape)\n",
    "print(\"Shape of array arr3d will be:\", arr3d.shape)"
   ]
  },
  {
   "cell_type": "markdown",
   "id": "a6d0b371",
   "metadata": {
    "papermill": {
     "duration": 0.023569,
     "end_time": "2022-09-17T14:58:15.123462",
     "exception": false,
     "start_time": "2022-09-17T14:58:15.099893",
     "status": "completed"
    },
    "tags": []
   },
   "source": [
    "*** \n",
    "### Data Types in Python\n",
    "- By default Python have these data types:\n",
    "    - strings - used to represent text data, the text is given under quote marks. e.g. \"ABCD\"\n",
    "    - integer - used to represent integer numbers. e.g. -1, -2, -3\n",
    "    - float - used to represent real numbers. e.g. 1.2, 42.42\n",
    "    - boolean - used to represent True or False.\n",
    "    - complex - used to represent complex numbers. e.g. 1.0 + 2.0j, 1.5 + 2.5j \n",
    "***"
   ]
  },
  {
   "cell_type": "markdown",
   "id": "bd122bb8",
   "metadata": {
    "papermill": {
     "duration": 0.023083,
     "end_time": "2022-09-17T14:58:15.169720",
     "exception": false,
     "start_time": "2022-09-17T14:58:15.146637",
     "status": "completed"
    },
    "tags": []
   },
   "source": [
    "***\n",
    "### Data Types in NumPy\n",
    "- NumPy has some extra data types, and refer to data types with one character, like i for integers, u for unsigned integers etc.\n",
    "\n",
    "    Below is a list of all data types in NumPy and the characters used to represent them.\n",
    "\n",
    "    - i - integer\n",
    "    - b - boolean\n",
    "    - u - unsigned integer\n",
    "    - f - float\n",
    "    - c - complex float\n",
    "    - m - timedelta\n",
    "    - M - datetime\n",
    "    - O - object\n",
    "    - S - string\n",
    "    - U - unicode string\n",
    "    - V - fixed chunk of memory for other type ( void )\n",
    "\n",
    "***\n",
    "- <H4>Use of dtype:</H4>\n",
    "    - It give what kind of data means type of data we are using."
   ]
  },
  {
   "cell_type": "code",
   "execution_count": 8,
   "id": "9c43af85",
   "metadata": {
    "execution": {
     "iopub.execute_input": "2022-09-17T14:58:15.220011Z",
     "iopub.status.busy": "2022-09-17T14:58:15.219624Z",
     "iopub.status.idle": "2022-09-17T14:58:15.226272Z",
     "shell.execute_reply": "2022-09-17T14:58:15.224911Z"
    },
    "papermill": {
     "duration": 0.034462,
     "end_time": "2022-09-17T14:58:15.228954",
     "exception": false,
     "start_time": "2022-09-17T14:58:15.194492",
     "status": "completed"
    },
    "tags": []
   },
   "outputs": [
    {
     "name": "stdout",
     "output_type": "stream",
     "text": [
      "Data type of array arr1d: int64\n",
      "Data type of array arr1d: int64\n",
      "Data type of array arr1d: int64\n"
     ]
    }
   ],
   "source": [
    "print(\"Data type of array arr1d:\", arr1d.dtype)\n",
    "print(\"Data type of array arr1d:\", arr2d.dtype)\n",
    "print(\"Data type of array arr1d:\", arr3d.dtype)"
   ]
  },
  {
   "cell_type": "code",
   "execution_count": 9,
   "id": "7616a025",
   "metadata": {
    "execution": {
     "iopub.execute_input": "2022-09-17T14:58:15.276685Z",
     "iopub.status.busy": "2022-09-17T14:58:15.276295Z",
     "iopub.status.idle": "2022-09-17T14:58:15.282306Z",
     "shell.execute_reply": "2022-09-17T14:58:15.280984Z"
    },
    "papermill": {
     "duration": 0.033418,
     "end_time": "2022-09-17T14:58:15.285131",
     "exception": false,
     "start_time": "2022-09-17T14:58:15.251713",
     "status": "completed"
    },
    "tags": []
   },
   "outputs": [
    {
     "name": "stdout",
     "output_type": "stream",
     "text": [
      "Data type of array arr: <U6\n"
     ]
    }
   ],
   "source": [
    "arr = np.array(['apple', 'banana', 'cherry'])\n",
    "\n",
    "print(\"Data type of array arr:\", arr.dtype)"
   ]
  },
  {
   "cell_type": "markdown",
   "id": "810735aa",
   "metadata": {
    "papermill": {
     "duration": 0.024039,
     "end_time": "2022-09-17T14:58:15.331800",
     "exception": false,
     "start_time": "2022-09-17T14:58:15.307761",
     "status": "completed"
    },
    "tags": []
   },
   "source": [
    "- Create an array with data type string:"
   ]
  },
  {
   "cell_type": "code",
   "execution_count": 10,
   "id": "9664f888",
   "metadata": {
    "execution": {
     "iopub.execute_input": "2022-09-17T14:58:15.379519Z",
     "iopub.status.busy": "2022-09-17T14:58:15.379118Z",
     "iopub.status.idle": "2022-09-17T14:58:15.385701Z",
     "shell.execute_reply": "2022-09-17T14:58:15.384403Z"
    },
    "papermill": {
     "duration": 0.034039,
     "end_time": "2022-09-17T14:58:15.388661",
     "exception": false,
     "start_time": "2022-09-17T14:58:15.354622",
     "status": "completed"
    },
    "tags": []
   },
   "outputs": [
    {
     "name": "stdout",
     "output_type": "stream",
     "text": [
      "Here is array: [b'1' b'2' b'3' b'4']\n",
      "Data type of array arr: |S1\n"
     ]
    }
   ],
   "source": [
    "arr = np.array([1, 2, 3, 4], dtype='S')\n",
    "\n",
    "print(\"Here is array:\",arr)\n",
    "print(\"Data type of array arr:\", arr.dtype)\n"
   ]
  },
  {
   "cell_type": "markdown",
   "id": "6b8d2f93",
   "metadata": {
    "papermill": {
     "duration": 0.02436,
     "end_time": "2022-09-17T14:58:15.440393",
     "exception": false,
     "start_time": "2022-09-17T14:58:15.416033",
     "status": "completed"
    },
    "tags": []
   },
   "source": [
    " ## Note: For i, u, f, S and U we can define size as well."
   ]
  },
  {
   "cell_type": "markdown",
   "id": "9519c201",
   "metadata": {
    "papermill": {
     "duration": 0.030661,
     "end_time": "2022-09-17T14:58:15.503811",
     "exception": false,
     "start_time": "2022-09-17T14:58:15.473150",
     "status": "completed"
    },
    "tags": []
   },
   "source": [
    "- Create an array with data type 4 bytes integer:"
   ]
  },
  {
   "cell_type": "code",
   "execution_count": 11,
   "id": "4bdae131",
   "metadata": {
    "execution": {
     "iopub.execute_input": "2022-09-17T14:58:15.552731Z",
     "iopub.status.busy": "2022-09-17T14:58:15.552314Z",
     "iopub.status.idle": "2022-09-17T14:58:15.559432Z",
     "shell.execute_reply": "2022-09-17T14:58:15.558520Z"
    },
    "papermill": {
     "duration": 0.033945,
     "end_time": "2022-09-17T14:58:15.561856",
     "exception": false,
     "start_time": "2022-09-17T14:58:15.527911",
     "status": "completed"
    },
    "tags": []
   },
   "outputs": [
    {
     "name": "stdout",
     "output_type": "stream",
     "text": [
      "[1 2 3 4]\n",
      "int32\n"
     ]
    }
   ],
   "source": [
    "arr = np.array([1, 2, 3, 4], dtype='i4')\n",
    "print(arr)\n",
    "print(arr.dtype)"
   ]
  },
  {
   "cell_type": "markdown",
   "id": "6b064abf",
   "metadata": {
    "papermill": {
     "duration": 0.022821,
     "end_time": "2022-09-17T14:58:15.608024",
     "exception": false,
     "start_time": "2022-09-17T14:58:15.585203",
     "status": "completed"
    },
    "tags": []
   },
   "source": [
    "- There is diffrence between type of value and given type.\n",
    "- that's why error.\n",
    "\n",
    "``` python\n",
    "arr = np.array(['a', '2', '3'], dtype='i')\n",
    "\n",
    "---------------------------------------------------------------------------\n",
    "ValueError                                Traceback (most recent call last)\n",
    "Input In [35], in <cell line: 1>()\n",
    "----> 1 arr = np.array(['a', '2', '3'], dtype='i')\n",
    "\n",
    "ValueError: invalid literal for int() with base 10: 'a'\n",
    "        \n",
    "```"
   ]
  },
  {
   "cell_type": "markdown",
   "id": "90a0f958",
   "metadata": {
    "papermill": {
     "duration": 0.023384,
     "end_time": "2022-09-17T14:58:15.654332",
     "exception": false,
     "start_time": "2022-09-17T14:58:15.630948",
     "status": "completed"
    },
    "tags": []
   },
   "source": [
    "***\n",
    "#### Converting Data Type on Existing Arrays\n",
    "- The astype() function creates a copy of the array, and allows you to specify the data type as a parameter.\n",
    "\n",
    "- The data type can be specified using a string, like 'f' for float, 'i' for integer etc. or you can use the data type directly like float for float and int for integer.\n",
    "<li>\n",
    "    The argument dtype=int doesn’t refer to Python int. It translates to NumPy int64 or simply np.int.\n",
    "\n",
    "    - NumPy offers you several integer fixed-sized dtypes that differ in memory and limits:\n",
    "\n",
    "    1. np.int8: 8-bit signed integer (from -128 to 127)\n",
    "    2. np.uint8: 8-bit unsigned integer (from 0 to 255)\n",
    "    3. np.int16: 16-bit signed integer (from -32768 to 32767)\n",
    "    4. np.uint16: 16-bit unsigned integer (from 0 to 65535)\n",
    "    5. np.int32: 32-bit signed integer (from -2<sup>31</sup> to 2<sup>31</sup>-1)\n",
    "    6. np.uint32: 32-bit unsigned integer (from 0 to 2<sup>31</sup>-1)\n",
    "    7. np.int64: 64-bit signed integer (from -2<sup>63</sup> to 2<sup>63</sup>-1)\n",
    "    8. np.uint64: 64-bit unsigned integer (from 0 to 2<sup>64</sup>-1)\n",
    "</li>\n",
    "***"
   ]
  },
  {
   "cell_type": "code",
   "execution_count": 12,
   "id": "d42a478d",
   "metadata": {
    "execution": {
     "iopub.execute_input": "2022-09-17T14:58:15.704047Z",
     "iopub.status.busy": "2022-09-17T14:58:15.703668Z",
     "iopub.status.idle": "2022-09-17T14:58:15.713006Z",
     "shell.execute_reply": "2022-09-17T14:58:15.711719Z"
    },
    "papermill": {
     "duration": 0.037734,
     "end_time": "2022-09-17T14:58:15.715674",
     "exception": false,
     "start_time": "2022-09-17T14:58:15.677940",
     "status": "completed"
    },
    "tags": []
   },
   "outputs": [
    {
     "name": "stdout",
     "output_type": "stream",
     "text": [
      "\n",
      "'i' as parameter\n",
      "This is array with float as Data type: [1.1 2.1 3.1] float64\n",
      "\n",
      "This is new array with Data type int: [1 2 3] int32\n",
      "\n",
      "###################################################################\n",
      "\n",
      "'int' as parameter\n",
      "\n",
      "This is array with float as Data type: [1.1 2.1 3.1] float64\n",
      "\n",
      "This is new array with Data type int: [1 2 3] int64\n"
     ]
    }
   ],
   "source": [
    "print(\"\\n'i' as parameter\")\n",
    "\n",
    "arr = np.array([1.1, 2.1, 3.1])\n",
    "print(\"This is array with float as Data type:\",arr,arr.dtype)\n",
    "\n",
    "newarr = arr.astype('i')\n",
    "\n",
    "print(\"\\nThis is new array with Data type int:\",newarr,newarr.dtype)\n",
    "\n",
    "print('\\n###################################################################')\n",
    "\n",
    "print(\"\\n'int' as parameter\")\n",
    "arr = np.array([1.1, 2.1, 3.1])\n",
    "print(\"\\nThis is array with float as Data type:\",arr,arr.dtype)\n",
    "\n",
    "newarr = arr.astype(int)\n",
    "\n",
    "print(\"\\nThis is new array with Data type int:\",newarr,newarr.dtype)"
   ]
  },
  {
   "cell_type": "markdown",
   "id": "4c00fd3e",
   "metadata": {
    "papermill": {
     "duration": 0.022792,
     "end_time": "2022-09-17T14:58:15.761994",
     "exception": false,
     "start_time": "2022-09-17T14:58:15.739202",
     "status": "completed"
    },
    "tags": []
   },
   "source": [
    "- Change data type from float to integer by using **\"i\" as parameter value:**"
   ]
  },
  {
   "cell_type": "code",
   "execution_count": 13,
   "id": "f24ad889",
   "metadata": {
    "execution": {
     "iopub.execute_input": "2022-09-17T14:58:15.810514Z",
     "iopub.status.busy": "2022-09-17T14:58:15.809848Z",
     "iopub.status.idle": "2022-09-17T14:58:15.816584Z",
     "shell.execute_reply": "2022-09-17T14:58:15.815175Z"
    },
    "papermill": {
     "duration": 0.034174,
     "end_time": "2022-09-17T14:58:15.819110",
     "exception": false,
     "start_time": "2022-09-17T14:58:15.784936",
     "status": "completed"
    },
    "tags": []
   },
   "outputs": [
    {
     "name": "stdout",
     "output_type": "stream",
     "text": [
      "New array with int value [1 2 3]\n",
      "Old Data type: float64\n",
      "New data type: int32\n"
     ]
    }
   ],
   "source": [
    "arr = np.array([1.1, 2.1, 3.1])\n",
    "\n",
    "newarr = arr.astype('i')\n",
    "\n",
    "print(\"New array with int value\",newarr)\n",
    "print(\"Old Data type:\",arr.dtype)\n",
    "print(\"New data type:\",newarr.dtype)"
   ]
  },
  {
   "cell_type": "markdown",
   "id": "ccbd2937",
   "metadata": {
    "papermill": {
     "duration": 0.023269,
     "end_time": "2022-09-17T14:58:15.867031",
     "exception": false,
     "start_time": "2022-09-17T14:58:15.843762",
     "status": "completed"
    },
    "tags": []
   },
   "source": [
    "- Change data type from float to integer by using **int as parameter value:**"
   ]
  },
  {
   "cell_type": "code",
   "execution_count": 14,
   "id": "39db7ef2",
   "metadata": {
    "execution": {
     "iopub.execute_input": "2022-09-17T14:58:15.916366Z",
     "iopub.status.busy": "2022-09-17T14:58:15.915613Z",
     "iopub.status.idle": "2022-09-17T14:58:15.922864Z",
     "shell.execute_reply": "2022-09-17T14:58:15.921411Z"
    },
    "papermill": {
     "duration": 0.034838,
     "end_time": "2022-09-17T14:58:15.925478",
     "exception": false,
     "start_time": "2022-09-17T14:58:15.890640",
     "status": "completed"
    },
    "tags": []
   },
   "outputs": [
    {
     "name": "stdout",
     "output_type": "stream",
     "text": [
      "New array with int value [1 2 3]\n",
      "Old Data type: float64\n",
      "New data type: int64\n"
     ]
    }
   ],
   "source": [
    "arr = np.array([1.1, 2.1, 3.1])\n",
    "\n",
    "newarr = arr.astype(int)\n",
    "\n",
    "print(\"New array with int value\",newarr)\n",
    "print(\"Old Data type:\",arr.dtype)\n",
    "print(\"New data type:\",newarr.dtype)"
   ]
  },
  {
   "cell_type": "code",
   "execution_count": 15,
   "id": "0fb0268b",
   "metadata": {
    "execution": {
     "iopub.execute_input": "2022-09-17T14:58:15.974726Z",
     "iopub.status.busy": "2022-09-17T14:58:15.974329Z",
     "iopub.status.idle": "2022-09-17T14:58:15.981282Z",
     "shell.execute_reply": "2022-09-17T14:58:15.980071Z"
    },
    "papermill": {
     "duration": 0.035797,
     "end_time": "2022-09-17T14:58:15.984537",
     "exception": false,
     "start_time": "2022-09-17T14:58:15.948740",
     "status": "completed"
    },
    "tags": []
   },
   "outputs": [
    {
     "name": "stdout",
     "output_type": "stream",
     "text": [
      "New array with int value [ True False  True]\n",
      "Old Data type: float64\n",
      "New data type: bool\n"
     ]
    }
   ],
   "source": [
    "arr = np.array([1, 0, 3.1])\n",
    "\n",
    "newarr = arr.astype(bool)\n",
    "\n",
    "print(\"New array with int value\",newarr)\n",
    "print(\"Old Data type:\",arr.dtype)\n",
    "print(\"New data type:\",newarr.dtype)"
   ]
  },
  {
   "cell_type": "code",
   "execution_count": 16,
   "id": "6ccdda69",
   "metadata": {
    "execution": {
     "iopub.execute_input": "2022-09-17T14:58:16.034230Z",
     "iopub.status.busy": "2022-09-17T14:58:16.033795Z",
     "iopub.status.idle": "2022-09-17T14:58:16.048858Z",
     "shell.execute_reply": "2022-09-17T14:58:16.047283Z"
    },
    "papermill": {
     "duration": 0.042806,
     "end_time": "2022-09-17T14:58:16.051469",
     "exception": false,
     "start_time": "2022-09-17T14:58:16.008663",
     "status": "completed"
    },
    "tags": []
   },
   "outputs": [
    {
     "name": "stdout",
     "output_type": "stream",
     "text": [
      "Data type of float value array: float64\n",
      "Data type of str value array: <U6\n",
      "Data type of mix value array: <U32\n"
     ]
    }
   ],
   "source": [
    "flaotarr=np.array([1.0,2,3,4])\n",
    "strarr=np.array([\"this\",\"is\",\"bhawan\"])\n",
    "strflaotintarr=np.array([1,2,3.5,\"bhawan\"])\n",
    "\n",
    "print(\"Data type of float value array:\",flaotarr.dtype)\n",
    "print(\"Data type of str value array:\",strarr.dtype)\n",
    "print(\"Data type of mix value array:\",strflaotintarr.dtype)"
   ]
  },
  {
   "cell_type": "markdown",
   "id": "3f1eb023",
   "metadata": {
    "papermill": {
     "duration": 0.023567,
     "end_time": "2022-09-17T14:58:16.098600",
     "exception": false,
     "start_time": "2022-09-17T14:58:16.075033",
     "status": "completed"
    },
    "tags": []
   },
   "source": [
    "### Use of Ones():\n",
    "- Python numpy.ones() function returns a new array of given shape and data type, where the element’s value is set to 1.\n",
    "\n",
    "- **Syntex:** <H3>ones(shape, dtype=None, order='C')</H3>"
   ]
  },
  {
   "cell_type": "code",
   "execution_count": 17,
   "id": "babc1c35",
   "metadata": {
    "execution": {
     "iopub.execute_input": "2022-09-17T14:58:16.147606Z",
     "iopub.status.busy": "2022-09-17T14:58:16.147147Z",
     "iopub.status.idle": "2022-09-17T14:58:16.157273Z",
     "shell.execute_reply": "2022-09-17T14:58:16.156074Z"
    },
    "papermill": {
     "duration": 0.038062,
     "end_time": "2022-09-17T14:58:16.160302",
     "exception": false,
     "start_time": "2022-09-17T14:58:16.122240",
     "status": "completed"
    },
    "tags": []
   },
   "outputs": [
    {
     "name": "stdout",
     "output_type": "stream",
     "text": [
      "Ones array:\n",
      " [[1. 1.]\n",
      " [1. 1.]]\n",
      "\n",
      "#### Change in type of array:\n",
      "\n",
      "Ones array:\n",
      " [[1 1 1 1]\n",
      " [1 1 1 1]\n",
      " [1 1 1 1]\n",
      " [1 1 1 1]]\n",
      "\n",
      "Ones array 3-D\n",
      " [[[1 1 1]\n",
      "  [1 1 1]\n",
      "  [1 1 1]\n",
      "  [1 1 1]]\n",
      "\n",
      " [[1 1 1]\n",
      "  [1 1 1]\n",
      "  [1 1 1]\n",
      "  [1 1 1]]\n",
      "\n",
      " [[1 1 1]\n",
      "  [1 1 1]\n",
      "  [1 1 1]\n",
      "  [1 1 1]]\n",
      "\n",
      " [[1 1 1]\n",
      "  [1 1 1]\n",
      "  [1 1 1]\n",
      "  [1 1 1]]]\n",
      "\n",
      "#### MIX value type of array:\n",
      "\n",
      "Ones array:\n",
      " [[(1, 1.) (1, 1.) (1, 1.)]\n",
      " [(1, 1.) (1, 1.) (1, 1.)]\n",
      " [(1, 1.) (1, 1.) (1, 1.)]]\n"
     ]
    }
   ],
   "source": [
    "onesarr=np.ones((2,2))\n",
    "print(\"Ones array:\\n\",onesarr)\n",
    "\n",
    "############################\n",
    "\n",
    "print(\"\\n#### Change in type of array:\")\n",
    "onesarr=np.ones((4,4),dtype=int)\n",
    "print(\"\\nOnes array:\\n\",onesarr)\n",
    "\n",
    "onesarr=np.ones((4,4,3),dtype=int)\n",
    "print(\"\\nOnes array 3-D\\n\",onesarr)\n",
    "\n",
    "###########################\n",
    "\n",
    "print(\"\\n#### MIX value type of array:\")\n",
    "onesarr=np.ones((3,3),dtype=[('x',int),('y',float)])\n",
    "print(\"\\nOnes array:\\n\",onesarr)\n"
   ]
  },
  {
   "cell_type": "markdown",
   "id": "8a6f59f4",
   "metadata": {
    "papermill": {
     "duration": 0.023817,
     "end_time": "2022-09-17T14:58:16.209895",
     "exception": false,
     "start_time": "2022-09-17T14:58:16.186078",
     "status": "completed"
    },
    "tags": []
   },
   "source": [
    "### Use of Zeros():\n",
    "- Return a new array of given shape and type, filled with zeros.\n",
    "\n",
    "- **Syntex:** <H3>numpy.zeros(shape, dtype=float, order='C', *, like=None)\n",
    "</H3>"
   ]
  },
  {
   "cell_type": "code",
   "execution_count": 18,
   "id": "461522ca",
   "metadata": {
    "execution": {
     "iopub.execute_input": "2022-09-17T14:58:16.258693Z",
     "iopub.status.busy": "2022-09-17T14:58:16.258289Z",
     "iopub.status.idle": "2022-09-17T14:58:16.269784Z",
     "shell.execute_reply": "2022-09-17T14:58:16.268590Z"
    },
    "papermill": {
     "duration": 0.038737,
     "end_time": "2022-09-17T14:58:16.272307",
     "exception": false,
     "start_time": "2022-09-17T14:58:16.233570",
     "status": "completed"
    },
    "tags": []
   },
   "outputs": [
    {
     "name": "stdout",
     "output_type": "stream",
     "text": [
      "Zeros array:\n",
      " [[0. 0. 0.]\n",
      " [0. 0. 0.]\n",
      " [0. 0. 0.]]\n",
      "\n",
      "#### Change in type of array:\n",
      "\n",
      "Zeros array:\n",
      " [[0 0 0 0]\n",
      " [0 0 0 0]\n",
      " [0 0 0 0]\n",
      " [0 0 0 0]]\n",
      "\n",
      "Zeros array 3-D\n",
      " [[[0 0 0]\n",
      "  [0 0 0]\n",
      "  [0 0 0]\n",
      "  [0 0 0]]\n",
      "\n",
      " [[0 0 0]\n",
      "  [0 0 0]\n",
      "  [0 0 0]\n",
      "  [0 0 0]]\n",
      "\n",
      " [[0 0 0]\n",
      "  [0 0 0]\n",
      "  [0 0 0]\n",
      "  [0 0 0]]\n",
      "\n",
      " [[0 0 0]\n",
      "  [0 0 0]\n",
      "  [0 0 0]\n",
      "  [0 0 0]]]\n",
      "\n",
      "#### MIX value type of array:\n",
      "\n",
      "O's array:\n",
      " [[(0, 0.) (0, 0.) (0, 0.)]\n",
      " [(0, 0.) (0, 0.) (0, 0.)]\n",
      " [(0, 0.) (0, 0.) (0, 0.)]]\n"
     ]
    }
   ],
   "source": [
    "zrerosarr=np.zeros((3,3))\n",
    "print(\"Zeros array:\\n\",zrerosarr)\n",
    "\n",
    "############################\n",
    "\n",
    "print(\"\\n#### Change in type of array:\")\n",
    "zrerosarr=np.zeros((4,4),dtype=int)\n",
    "print(\"\\nZeros array:\\n\",zrerosarr)\n",
    "\n",
    "zrerosarr=np.zeros((4,4,3),dtype=int)\n",
    "print(\"\\nZeros array 3-D\\n\",zrerosarr)\n",
    "\n",
    "###########################\n",
    "\n",
    "print(\"\\n#### MIX value type of array:\")\n",
    "zrerosarr=np.zeros((3,3),dtype=[('x',int),('y',float)])\n",
    "print(\"\\nO's array:\\n\",zrerosarr)\n"
   ]
  },
  {
   "cell_type": "markdown",
   "id": "8f62776d",
   "metadata": {
    "papermill": {
     "duration": 0.022762,
     "end_time": "2022-09-17T14:58:16.318410",
     "exception": false,
     "start_time": "2022-09-17T14:58:16.295648",
     "status": "completed"
    },
    "tags": []
   },
   "source": [
    "### Use of empty():\n",
    "-Return a new array of given shape and type, without initializing entries.\n",
    "- **Syntex:** <H3>numpy.empty(shape, dtype=float, order='C', *, like=None)\n",
    "</H3>\n"
   ]
  },
  {
   "cell_type": "code",
   "execution_count": 19,
   "id": "e4307d15",
   "metadata": {
    "execution": {
     "iopub.execute_input": "2022-09-17T14:58:16.367192Z",
     "iopub.status.busy": "2022-09-17T14:58:16.366780Z",
     "iopub.status.idle": "2022-09-17T14:58:16.376285Z",
     "shell.execute_reply": "2022-09-17T14:58:16.375133Z"
    },
    "papermill": {
     "duration": 0.036799,
     "end_time": "2022-09-17T14:58:16.378779",
     "exception": false,
     "start_time": "2022-09-17T14:58:16.341980",
     "status": "completed"
    },
    "tags": []
   },
   "outputs": [
    {
     "name": "stdout",
     "output_type": "stream",
     "text": [
      "Empty array:\n",
      " [[0. 0. 0.]\n",
      " [0. 0. 0.]\n",
      " [0. 0. 0.]]\n",
      "\n",
      "###################################################################################\n",
      "\n",
      "#### Change in type of array:\n",
      "\n",
      " Empty array:\n",
      " [[0 0 0]\n",
      " [0 0 0]\n",
      " [0 0 0]]\n",
      "\n",
      " Empty array 3-D\n",
      " [[[94848016682384              0 10020158701575]\n",
      "  [             0    17179869187              0]\n",
      "  [             0   137438953494              0]]\n",
      "\n",
      " [[             0              0              0]\n",
      "  [             0              0              0]\n",
      "  [             0              0              0]]\n",
      "\n",
      " [[             0              0              0]\n",
      "  [             0 94848021888576 94848021888992]\n",
      "  [94848021889248              0              0]]]\n",
      "\n",
      "###################################################################################\n",
      "\n",
      "#### MIX value type of array:\n",
      "\n",
      " Empty array:\n",
      " [[( 94848022360608, 0.00000000e+000) (140470094527536, 6.94019856e-310)\n",
      "  (140470094527024, 6.94019856e-310)]\n",
      " [(140470094528112, 6.94019856e-310) (140470094527920, 6.94019856e-310)\n",
      "  (140470094527280, 6.94019856e-310)]\n",
      " [(140470094527728, 6.94019856e-310) (140470094526960, 6.94019856e-310)\n",
      "  (140470094528368, 6.94019856e-310)]]\n"
     ]
    }
   ],
   "source": [
    "emptyarr=np.empty((3,3))\n",
    "print(\"Empty array:\\n\",emptyarr)\n",
    "\n",
    "print(\"\\n###################################################################################\")\n",
    "\n",
    "print(\"\\n#### Change in type of array:\")\n",
    "emptyarr=np.empty((3,3),dtype=int)\n",
    "print(\"\\n Empty array:\\n\", emptyarr)\n",
    "\n",
    "emptyarr=np.empty((3,3,3),dtype=int)\n",
    "print(\"\\n Empty array 3-D\\n\", emptyarr)\n",
    "\n",
    "print(\"\\n###################################################################################\")\n",
    "\n",
    "print(\"\\n#### MIX value type of array:\")\n",
    "emptyarr=np.empty((3,3),dtype=[('x',int),('y',float)])\n",
    "print(\"\\n Empty array:\\n\",emptyarr)\n"
   ]
  },
  {
   "cell_type": "markdown",
   "id": "aaae1376",
   "metadata": {
    "papermill": {
     "duration": 0.023577,
     "end_time": "2022-09-17T14:58:16.426087",
     "exception": false,
     "start_time": "2022-09-17T14:58:16.402510",
     "status": "completed"
    },
    "tags": []
   },
   "source": [
    "### Use of empty_like():\n",
    "- Return a new array with the same shape and type as a given array.\n",
    "- **Syntex:** <H3>numpy.empty_like(prototype, dtype=None, order='K', subok=True, shape=None)\n",
    "</H3>\n"
   ]
  },
  {
   "cell_type": "code",
   "execution_count": 20,
   "id": "059d01f3",
   "metadata": {
    "execution": {
     "iopub.execute_input": "2022-09-17T14:58:16.476145Z",
     "iopub.status.busy": "2022-09-17T14:58:16.475740Z",
     "iopub.status.idle": "2022-09-17T14:58:16.487687Z",
     "shell.execute_reply": "2022-09-17T14:58:16.486483Z"
    },
    "papermill": {
     "duration": 0.040006,
     "end_time": "2022-09-17T14:58:16.489871",
     "exception": false,
     "start_time": "2022-09-17T14:58:16.449865",
     "status": "completed"
    },
    "tags": []
   },
   "outputs": [
    {
     "name": "stdout",
     "output_type": "stream",
     "text": [
      "Empty array:\n",
      " [[1 2 3 4]\n",
      " [1 2 3 4]\n",
      " [1 2 3 4]]\n",
      "\n",
      " Type of empty_like: int64\n",
      "\n",
      "###################################################################################\n",
      "\n",
      "#### Change in type of array:\n",
      "\n",
      " Empty array:\n",
      " [[4.68611499e-310 0.00000000e+000 0.00000000e+000 0.00000000e+000]\n",
      " [6.93998723e-310 5.19900580e-062 1.68757016e-051 1.08516485e-042]\n",
      " [1.52782533e+160 1.90359570e+185 8.69522074e-071 1.29338837e+161]]\n",
      "\n",
      "###################################################################################\n",
      "\n",
      "#### MIX value type of array:\n",
      "\n",
      " Empty array:\n",
      " [[(4596373779694328218, 0.2 ) (4603579539098121011, 1.  )\n",
      "  (                  0, 0.6 ) (4607182418800017408, 1.  )]\n",
      " [(                  0, 0.8 ) (4600877379321698714, 1.  )\n",
      "  (4607182418800017408, 1.  ) (4603579539098121011, 1.  )]\n",
      " [(4602678819172646912, 0.36) (4599616371426034975, 1.  )\n",
      "  (4607182418800017408, 1.  ) (4607182418800017408, 1.  )]]\n",
      "\n",
      "###################################################################################\n",
      "\n",
      "#### Change in Subok and Shape:\n",
      "\n",
      " Empty array:\n",
      " [[0.2  1.   0.6 ]\n",
      " [1.   0.8  1.  ]\n",
      " [1.   1.   0.36]\n",
      " [1.   1.   1.  ]]\n"
     ]
    }
   ],
   "source": [
    "arr2d=np.array([[1,2,3,4],\n",
    "                [1,2,3,4],\n",
    "                [1,2,3,4],\n",
    "               ])\n",
    "\n",
    "emptyarr_like=np.empty_like(arr2d)\n",
    "print(\"Empty array:\\n\",emptyarr_like)\n",
    "\n",
    "print(\"\\n Type of empty_like:\",emptyarr_like.dtype)\n",
    "\n",
    "print(\"\\n###################################################################################\")\n",
    "\n",
    "print(\"\\n#### Change in type of array:\")\n",
    "emptyarr_like=np.empty_like(arr2d,dtype=float)\n",
    "print(\"\\n Empty array:\\n\", emptyarr_like)\n",
    "\n",
    "print(\"\\n###################################################################################\")\n",
    "\n",
    "print(\"\\n#### MIX value type of array:\")\n",
    "emptyarr_like=np.empty_like(arr2d,dtype=[(\"x\",int),(\"y\",float)])\n",
    "print(\"\\n Empty array:\\n\",emptyarr_like)\n",
    "\n",
    "print(\"\\n###################################################################################\")\n",
    "\n",
    "print(\"\\n#### Change in Subok and Shape:\")\n",
    "\n",
    "emptyarr_like=np.empty_like(arr2d,dtype=float,subok=False,shape=(4,3))\n",
    "print(\"\\n Empty array:\\n\", emptyarr_like)"
   ]
  },
  {
   "cell_type": "markdown",
   "id": "e676c90e",
   "metadata": {
    "papermill": {
     "duration": 0.023289,
     "end_time": "2022-09-17T14:58:16.537850",
     "exception": false,
     "start_time": "2022-09-17T14:58:16.514561",
     "status": "completed"
    },
    "tags": []
   },
   "source": [
    "### Use of full():\n",
    "- Return a new array of given shape and type, filled with fill_value.\n",
    "- **Syntex:** <H3>numpy.full(shape, fill_value, dtype=None, order='C', *, like=None)</H3>"
   ]
  },
  {
   "cell_type": "code",
   "execution_count": 21,
   "id": "4c036aaa",
   "metadata": {
    "execution": {
     "iopub.execute_input": "2022-09-17T14:58:16.588212Z",
     "iopub.status.busy": "2022-09-17T14:58:16.587771Z",
     "iopub.status.idle": "2022-09-17T14:58:16.597730Z",
     "shell.execute_reply": "2022-09-17T14:58:16.596492Z"
    },
    "papermill": {
     "duration": 0.038059,
     "end_time": "2022-09-17T14:58:16.600497",
     "exception": false,
     "start_time": "2022-09-17T14:58:16.562438",
     "status": "completed"
    },
    "tags": []
   },
   "outputs": [
    {
     "name": "stdout",
     "output_type": "stream",
     "text": [
      "Empty array:\n",
      " [[4 4 4]\n",
      " [4 4 4]\n",
      " [4 4 4]]\n",
      "\n",
      "###################################################################################\n",
      "\n",
      "#### Change in type of array:\n",
      "\n",
      " Empty array:\n",
      " [[4 4 4]\n",
      " [4 4 4]\n",
      " [4 4 4]]\n",
      "\n",
      " Empty array 3-D\n",
      " [[[4 4 4]\n",
      "  [4 4 4]\n",
      "  [4 4 4]]\n",
      "\n",
      " [[4 4 4]\n",
      "  [4 4 4]\n",
      "  [4 4 4]]\n",
      "\n",
      " [[4 4 4]\n",
      "  [4 4 4]\n",
      "  [4 4 4]]]\n",
      "\n",
      "###################################################################################\n",
      "\n",
      "#### MIX value type of array:\n",
      "\n",
      " Empty array:\n",
      " [[(4, 4.) (4, 4.) (4, 4.)]\n",
      " [(4, 4.) (4, 4.) (4, 4.)]\n",
      " [(4, 4.) (4, 4.) (4, 4.)]]\n"
     ]
    }
   ],
   "source": [
    "fullarr=np.full((3,3),4)\n",
    "print(\"Empty array:\\n\",fullarr)\n",
    "\n",
    "print(\"\\n###################################################################################\")\n",
    "\n",
    "print(\"\\n#### Change in type of array:\")\n",
    "fullarr=np.full((3,3),4,dtype=int)\n",
    "print(\"\\n Empty array:\\n\", fullarr)\n",
    "\n",
    "fullarr=np.full((3,3,3),4,dtype=int)\n",
    "print(\"\\n Empty array 3-D\\n\", fullarr)\n",
    "\n",
    "print(\"\\n###################################################################################\")\n",
    "\n",
    "print(\"\\n#### MIX value type of array:\")\n",
    "fullarr=np.full((3,3),4,dtype=[('x',int),('y',float)])\n",
    "print(\"\\n Empty array:\\n\",fullarr)\n"
   ]
  },
  {
   "cell_type": "markdown",
   "id": "aa0aa953",
   "metadata": {
    "papermill": {
     "duration": 0.024135,
     "end_time": "2022-09-17T14:58:16.649382",
     "exception": false,
     "start_time": "2022-09-17T14:58:16.625247",
     "status": "completed"
    },
    "tags": []
   },
   "source": [
    "### Example of 'order' parameter in all of above practise:\n",
    "\n",
    "- Whether to store multi-dimensional data in row-major (C-style) or column-major (Fortran-style) order in memory."
   ]
  },
  {
   "cell_type": "code",
   "execution_count": 22,
   "id": "5e7ee608",
   "metadata": {
    "execution": {
     "iopub.execute_input": "2022-09-17T14:58:16.700384Z",
     "iopub.status.busy": "2022-09-17T14:58:16.699972Z",
     "iopub.status.idle": "2022-09-17T14:58:16.707560Z",
     "shell.execute_reply": "2022-09-17T14:58:16.706261Z"
    },
    "papermill": {
     "duration": 0.037013,
     "end_time": "2022-09-17T14:58:16.710643",
     "exception": false,
     "start_time": "2022-09-17T14:58:16.673630",
     "status": "completed"
    },
    "tags": []
   },
   "outputs": [
    {
     "name": "stdout",
     "output_type": "stream",
     "text": [
      "Example of order:\n",
      "[[0 1 2]\n",
      " [3 4 5]\n",
      " [6 7 8]] It give's 'True' if fortran:- False\n",
      "[[0 3 6]\n",
      " [1 4 7]\n",
      " [2 5 8]] It give's 'True' if fortran:- True\n"
     ]
    }
   ],
   "source": [
    "print(\"Example of order:\")\n",
    "x=np.reshape(np.arange(9),newshape=(3,3))\n",
    "print(x,\"It give's 'True' if fortran:-\",np.isfortran(x))\n",
    "y=np.reshape(np.arange(9),newshape=(3,3),order='F')\n",
    "print(y,\"It give's 'True' if fortran:-\",np.isfortran(y))"
   ]
  },
  {
   "cell_type": "code",
   "execution_count": 23,
   "id": "e7c335c0",
   "metadata": {
    "execution": {
     "iopub.execute_input": "2022-09-17T14:58:16.761809Z",
     "iopub.status.busy": "2022-09-17T14:58:16.760937Z",
     "iopub.status.idle": "2022-09-17T14:58:16.768724Z",
     "shell.execute_reply": "2022-09-17T14:58:16.767289Z"
    },
    "papermill": {
     "duration": 0.036814,
     "end_time": "2022-09-17T14:58:16.772076",
     "exception": false,
     "start_time": "2022-09-17T14:58:16.735262",
     "status": "completed"
    },
    "tags": []
   },
   "outputs": [
    {
     "name": "stdout",
     "output_type": "stream",
     "text": [
      "[[1 2 3]\n",
      " [4 5 6]] False\n",
      "\n",
      " [[1 4]\n",
      " [2 5]\n",
      " [3 6]] True\n"
     ]
    }
   ],
   "source": [
    "a = np.array([[1, 2, 3], [4, 5, 6]], order='C')\n",
    "print(a,np.isfortran(a))\n",
    "\n",
    "b = a.T\n",
    "print(\"\\n\",b,np.isfortran(b))"
   ]
  },
  {
   "cell_type": "markdown",
   "id": "581a1960",
   "metadata": {
    "papermill": {
     "duration": 0.025084,
     "end_time": "2022-09-17T14:58:16.821272",
     "exception": false,
     "start_time": "2022-09-17T14:58:16.796188",
     "status": "completed"
    },
    "tags": []
   },
   "source": [
    "### Use of arrange():\n",
    "- Return evenly spaced values within a given interval.\n",
    "- **Syntex:** <H3>numpy.arange([start, ]stop, [step, ]dtype=None, *, like=None)</H3>\n",
    "\n",
    "arange can be called with a varying number of positional arguments:\n",
    "\n",
    "- **arange(stop):** Values are generated within the half-open interval **[0, stop)** (in other words, the interval including start but excluding stop).\n",
    "\n",
    "- **arange(start, stop):** Values are generated within the half-open interval .**[start, stop).**\n",
    "\n",
    "- **arange(start, stop, step)** Values are generated within the half-open interval **[start, stop)**, with spacing between values given by step.\n",
    "\n",
    "For integer arguments the function is roughly equivalent to the Python built-in range, but returns an ndarray rather than a range instance.\n",
    "\n",
    "- When using a non-integer step, such as 0.1, it is often better to use numpy.linspace."
   ]
  },
  {
   "cell_type": "code",
   "execution_count": 24,
   "id": "282561ae",
   "metadata": {
    "execution": {
     "iopub.execute_input": "2022-09-17T14:58:16.872485Z",
     "iopub.status.busy": "2022-09-17T14:58:16.871771Z",
     "iopub.status.idle": "2022-09-17T14:58:16.877813Z",
     "shell.execute_reply": "2022-09-17T14:58:16.876472Z"
    },
    "papermill": {
     "duration": 0.034531,
     "end_time": "2022-09-17T14:58:16.880744",
     "exception": false,
     "start_time": "2022-09-17T14:58:16.846213",
     "status": "completed"
    },
    "tags": []
   },
   "outputs": [
    {
     "name": "stdout",
     "output_type": "stream",
     "text": [
      "Array with evenly speced no. [0 1 2 3 4 5 6 7 8]\n"
     ]
    }
   ],
   "source": [
    "Arange=np.arange(9)\n",
    "print(\"Array with evenly speced no.\",Arange)"
   ]
  },
  {
   "cell_type": "markdown",
   "id": "5bb2dfa2",
   "metadata": {
    "papermill": {
     "duration": 0.024746,
     "end_time": "2022-09-17T14:58:16.931389",
     "exception": false,
     "start_time": "2022-09-17T14:58:16.906643",
     "status": "completed"
    },
    "tags": []
   },
   "source": [
    "- giving start,stop and step value\n",
    "![](https://files.realpython.com/media/fig-1.1d8bc9379e87.png)"
   ]
  },
  {
   "cell_type": "code",
   "execution_count": 25,
   "id": "acdc7a28",
   "metadata": {
    "execution": {
     "iopub.execute_input": "2022-09-17T14:58:16.982477Z",
     "iopub.status.busy": "2022-09-17T14:58:16.982061Z",
     "iopub.status.idle": "2022-09-17T14:58:16.992215Z",
     "shell.execute_reply": "2022-09-17T14:58:16.990865Z"
    },
    "papermill": {
     "duration": 0.038536,
     "end_time": "2022-09-17T14:58:16.994818",
     "exception": false,
     "start_time": "2022-09-17T14:58:16.956282",
     "status": "completed"
    },
    "tags": []
   },
   "outputs": [
    {
     "name": "stdout",
     "output_type": "stream",
     "text": [
      "Array with step value 3(difference is 3): [1 4 7]\n",
      "[1 4 7]\n",
      "[-9 -8 -7 -6 -5 -4 -3 -2]\n",
      "[-9 -7 -5 -3 -1]\n",
      "[9 8 7 6 5 4 3 2]\n",
      "[] Length of array is: 0\n",
      "[]\n"
     ]
    }
   ],
   "source": [
    "Arrange=np.arange(start=1, stop=10, step=3)\n",
    "print(\"Array with step value 3(difference is 3):\",Arrange)\n",
    "\n",
    "Arrange=np.arange(1,10,3)\n",
    "print(Arrange)\n",
    "\n",
    "Arrange=np.arange(-9,-1,1)\n",
    "print(Arrange)\n",
    "\n",
    "Arrange=np.arange(-9,1,2)\n",
    "print(Arrange)\n",
    "\n",
    "Arrange=np.arange(9,1,-1)\n",
    "print(Arrange)\n",
    "\n",
    "##### IT WONT WORK WHEN WE USE DIFFRENT WAY LIKE (Give Empty array)\n",
    "Arrange=np.arange(19,1)\n",
    "print(Arrange,\"Length of array is:\",len(Arrange))\n",
    "\n",
    "Arrange=np.arange(1,9,-2)\n",
    "print(Arrange)\n"
   ]
  },
  {
   "cell_type": "code",
   "execution_count": 26,
   "id": "d6983148",
   "metadata": {
    "execution": {
     "iopub.execute_input": "2022-09-17T14:58:17.044893Z",
     "iopub.status.busy": "2022-09-17T14:58:17.044472Z",
     "iopub.status.idle": "2022-09-17T14:58:17.050998Z",
     "shell.execute_reply": "2022-09-17T14:58:17.049699Z"
    },
    "papermill": {
     "duration": 0.034629,
     "end_time": "2022-09-17T14:58:17.053526",
     "exception": false,
     "start_time": "2022-09-17T14:58:17.018897",
     "status": "completed"
    },
    "tags": []
   },
   "outputs": [
    {
     "name": "stdout",
     "output_type": "stream",
     "text": [
      "Array with step value 3(difference is 3) & data type as float: [1. 4. 7.]\n"
     ]
    }
   ],
   "source": [
    "Arrange=np.arange(start=1, stop=10, step=3,dtype=float)\n",
    "print(\"Array with step value 3(difference is 3) & data type as float:\",Arrange)"
   ]
  },
  {
   "cell_type": "code",
   "execution_count": 27,
   "id": "364a2b27",
   "metadata": {
    "execution": {
     "iopub.execute_input": "2022-09-17T14:58:17.104526Z",
     "iopub.status.busy": "2022-09-17T14:58:17.104124Z",
     "iopub.status.idle": "2022-09-17T14:58:17.109863Z",
     "shell.execute_reply": "2022-09-17T14:58:17.108711Z"
    },
    "papermill": {
     "duration": 0.033985,
     "end_time": "2022-09-17T14:58:17.112114",
     "exception": false,
     "start_time": "2022-09-17T14:58:17.078129",
     "status": "completed"
    },
    "tags": []
   },
   "outputs": [
    {
     "name": "stdout",
     "output_type": "stream",
     "text": [
      "[ 0  1  2  3  4  5  6  7  8  9 10 11 12 13 14 15 16 17 18 19 20 21 22 23]\n"
     ]
    }
   ],
   "source": [
    "Arrange=np.arange(stop=24)\n",
    "print(Arrange)"
   ]
  },
  {
   "cell_type": "markdown",
   "id": "4e919f34",
   "metadata": {
    "papermill": {
     "duration": 0.024904,
     "end_time": "2022-09-17T14:58:17.162393",
     "exception": false,
     "start_time": "2022-09-17T14:58:17.137489",
     "status": "completed"
    },
    "tags": []
   },
   "source": [
    "***\n",
    "### Use of numpy.ndarray.itemsize\n",
    "- Length of one array element in bytes.\n",
    "- **Syntex:** <H4>ndarray.itemsize</H4>\n",
    "\n",
    "***"
   ]
  },
  {
   "cell_type": "code",
   "execution_count": 28,
   "id": "79688974",
   "metadata": {
    "execution": {
     "iopub.execute_input": "2022-09-17T14:58:17.213267Z",
     "iopub.status.busy": "2022-09-17T14:58:17.212825Z",
     "iopub.status.idle": "2022-09-17T14:58:17.218656Z",
     "shell.execute_reply": "2022-09-17T14:58:17.217504Z"
    },
    "papermill": {
     "duration": 0.03405,
     "end_time": "2022-09-17T14:58:17.221334",
     "exception": false,
     "start_time": "2022-09-17T14:58:17.187284",
     "status": "completed"
    },
    "tags": []
   },
   "outputs": [
    {
     "name": "stdout",
     "output_type": "stream",
     "text": [
      "int64\n",
      "8\n"
     ]
    }
   ],
   "source": [
    "print(Arrange.dtype)\n",
    "print(Arrange.itemsize ) # In bytes"
   ]
  },
  {
   "cell_type": "markdown",
   "id": "0b8d63f4",
   "metadata": {
    "papermill": {
     "duration": 0.023853,
     "end_time": "2022-09-17T14:58:17.269441",
     "exception": false,
     "start_time": "2022-09-17T14:58:17.245588",
     "status": "completed"
    },
    "tags": []
   },
   "source": [
    "### Use of np.linspace():\n",
    "- Return evenly spaced numbers over a specified interval.\n",
    "\n",
    "- Returns num evenly spaced samples, calculated over the interval [start, stop].\n",
    "\n",
    "- The endpoint of the interval can optionally be excluded.\n",
    "- **Syntex:** <H4>numpy.linspace(start, stop, num=50, endpoint=True, retstep=False, dtype=None, axis=0)[source]</H4>"
   ]
  },
  {
   "cell_type": "code",
   "execution_count": 29,
   "id": "fd3eb207",
   "metadata": {
    "execution": {
     "iopub.execute_input": "2022-09-17T14:58:17.319890Z",
     "iopub.status.busy": "2022-09-17T14:58:17.319474Z",
     "iopub.status.idle": "2022-09-17T14:58:17.326506Z",
     "shell.execute_reply": "2022-09-17T14:58:17.325310Z"
    },
    "papermill": {
     "duration": 0.036122,
     "end_time": "2022-09-17T14:58:17.329759",
     "exception": false,
     "start_time": "2022-09-17T14:58:17.293637",
     "status": "completed"
    },
    "tags": []
   },
   "outputs": [
    {
     "name": "stdout",
     "output_type": "stream",
     "text": [
      "[ 1.          1.18367347  1.36734694  1.55102041  1.73469388  1.91836735\n",
      "  2.10204082  2.28571429  2.46938776  2.65306122  2.83673469  3.02040816\n",
      "  3.20408163  3.3877551   3.57142857  3.75510204  3.93877551  4.12244898\n",
      "  4.30612245  4.48979592  4.67346939  4.85714286  5.04081633  5.2244898\n",
      "  5.40816327  5.59183673  5.7755102   5.95918367  6.14285714  6.32653061\n",
      "  6.51020408  6.69387755  6.87755102  7.06122449  7.24489796  7.42857143\n",
      "  7.6122449   7.79591837  7.97959184  8.16326531  8.34693878  8.53061224\n",
      "  8.71428571  8.89795918  9.08163265  9.26530612  9.44897959  9.63265306\n",
      "  9.81632653 10.        ]\n"
     ]
    }
   ],
   "source": [
    "linspace=np.linspace(1,10) #default is 50 that's why 50 no.\n",
    "print(linspace)"
   ]
  },
  {
   "cell_type": "code",
   "execution_count": 30,
   "id": "efa9a559",
   "metadata": {
    "execution": {
     "iopub.execute_input": "2022-09-17T14:58:17.382436Z",
     "iopub.status.busy": "2022-09-17T14:58:17.381040Z",
     "iopub.status.idle": "2022-09-17T14:58:17.388178Z",
     "shell.execute_reply": "2022-09-17T14:58:17.386535Z"
    },
    "papermill": {
     "duration": 0.037642,
     "end_time": "2022-09-17T14:58:17.391864",
     "exception": false,
     "start_time": "2022-09-17T14:58:17.354222",
     "status": "completed"
    },
    "tags": []
   },
   "outputs": [
    {
     "name": "stdout",
     "output_type": "stream",
     "text": [
      "[ 1.   1.9  2.8  3.7  4.6  5.5  6.4  7.3  8.2  9.1 10. ]\n"
     ]
    }
   ],
   "source": [
    "linspace=np.linspace(1,10,11) #evenly spaced no. total 11.\n",
    "print(linspace)"
   ]
  },
  {
   "cell_type": "code",
   "execution_count": 31,
   "id": "e5456450",
   "metadata": {
    "execution": {
     "iopub.execute_input": "2022-09-17T14:58:17.444902Z",
     "iopub.status.busy": "2022-09-17T14:58:17.443593Z",
     "iopub.status.idle": "2022-09-17T14:58:17.451611Z",
     "shell.execute_reply": "2022-09-17T14:58:17.450171Z"
    },
    "papermill": {
     "duration": 0.036528,
     "end_time": "2022-09-17T14:58:17.454226",
     "exception": false,
     "start_time": "2022-09-17T14:58:17.417698",
     "status": "completed"
    },
    "tags": []
   },
   "outputs": [
    {
     "name": "stdout",
     "output_type": "stream",
     "text": [
      "[1.         1.81818182 2.63636364 3.45454545 4.27272727 5.09090909\n",
      " 5.90909091 6.72727273 7.54545455 8.36363636 9.18181818]\n"
     ]
    }
   ],
   "source": [
    "linspace=np.linspace(1,10,11,endpoint=False) #Did not include last 10 number.\n",
    "print(linspace)"
   ]
  },
  {
   "cell_type": "code",
   "execution_count": 32,
   "id": "c877d74a",
   "metadata": {
    "execution": {
     "iopub.execute_input": "2022-09-17T14:58:17.506057Z",
     "iopub.status.busy": "2022-09-17T14:58:17.505651Z",
     "iopub.status.idle": "2022-09-17T14:58:17.516408Z",
     "shell.execute_reply": "2022-09-17T14:58:17.514699Z"
    },
    "papermill": {
     "duration": 0.040435,
     "end_time": "2022-09-17T14:58:17.519361",
     "exception": false,
     "start_time": "2022-09-17T14:58:17.478926",
     "status": "completed"
    },
    "tags": []
   },
   "outputs": [
    {
     "name": "stdout",
     "output_type": "stream",
     "text": [
      "[ 1.   2.8  4.6  6.4  8.2 10. ]\n",
      "Give the step also:\n",
      "(array([ 1. ,  2.8,  4.6,  6.4,  8.2, 10. ]), 1.8)\n",
      "(array([1. , 2.5, 4. , 5.5, 7. , 8.5]), 1.5)\n",
      "(array([ 1,  2,  4,  6,  8, 10]), 1.8)\n",
      "(array([ 1,  2,  4,  6,  8, 10]), 1.8)\n"
     ]
    }
   ],
   "source": [
    "linspace=np.linspace(1,10,6) #evenly spaced no. total 11.\n",
    "print(linspace)\n",
    "\n",
    "print(\"Give the step also:\")\n",
    "linspace=np.linspace(1,10,6,retstep=True) #Default is False\n",
    "print(linspace)\n",
    "\n",
    "linspace=np.linspace(1,10,6,endpoint=False,retstep=True) #with endpoint\n",
    "print(linspace)\n",
    "\n",
    "linspace=np.linspace(1,10,6,retstep=True,dtype=int) #with data type\n",
    "print(linspace)\n",
    "\n",
    "linspace=np.linspace(1,10,6,retstep=True,dtype=int,axis=0) #with data type\n",
    "print(linspace)"
   ]
  },
  {
   "cell_type": "code",
   "execution_count": 33,
   "id": "9a97d16e",
   "metadata": {
    "execution": {
     "iopub.execute_input": "2022-09-17T14:58:17.572851Z",
     "iopub.status.busy": "2022-09-17T14:58:17.572207Z",
     "iopub.status.idle": "2022-09-17T14:58:17.578595Z",
     "shell.execute_reply": "2022-09-17T14:58:17.577136Z"
    },
    "papermill": {
     "duration": 0.035112,
     "end_time": "2022-09-17T14:58:17.581145",
     "exception": false,
     "start_time": "2022-09-17T14:58:17.546033",
     "status": "completed"
    },
    "tags": []
   },
   "outputs": [
    {
     "name": "stdout",
     "output_type": "stream",
     "text": [
      "[ 1  2  4  6  8 10]\n",
      "1.8\n"
     ]
    }
   ],
   "source": [
    "linspace,step=np.linspace(1,10,6,retstep=True,dtype=int) #we store step differently\n",
    "print(linspace)\n",
    "print(step)"
   ]
  },
  {
   "cell_type": "markdown",
   "id": "b71a2f73",
   "metadata": {
    "papermill": {
     "duration": 0.025231,
     "end_time": "2022-09-17T14:58:17.633578",
     "exception": false,
     "start_time": "2022-09-17T14:58:17.608347",
     "status": "completed"
    },
    "tags": []
   },
   "source": [
    "### Nonscalar Values for Higher-Dimensional Arrays\n",
    "\n",
    "- Axis: This parameter is used only with nonscalar start and stop values. It determines the axis along which the results are stored."
   ]
  },
  {
   "cell_type": "code",
   "execution_count": 34,
   "id": "8b03c7c3",
   "metadata": {
    "execution": {
     "iopub.execute_input": "2022-09-17T14:58:17.688439Z",
     "iopub.status.busy": "2022-09-17T14:58:17.688013Z",
     "iopub.status.idle": "2022-09-17T14:58:17.699491Z",
     "shell.execute_reply": "2022-09-17T14:58:17.697536Z"
    },
    "papermill": {
     "duration": 0.042281,
     "end_time": "2022-09-17T14:58:17.702426",
     "exception": false,
     "start_time": "2022-09-17T14:58:17.660145",
     "status": "completed"
    },
    "tags": []
   },
   "outputs": [
    {
     "name": "stdout",
     "output_type": "stream",
     "text": [
      "[[  2.    5.    9. ]\n",
      " [ 21.6  30.   39.2]\n",
      " [ 41.2  55.   69.4]\n",
      " [ 60.8  80.   99.6]\n",
      " [ 80.4 105.  129.8]\n",
      " [100.  130.  160. ]]\n",
      "\n",
      "Shepe of this array: (6, 3)\n",
      "\n",
      " Element of array:(at postion:0) [2. 5. 9.]\n",
      "\n",
      " Element of array:(at postion:1) [21.6 30.  39.2]\n",
      "\n",
      " Element of array:(at postion:2) [41.2 55.  69.4]\n",
      "\n",
      " Element of array:(at postion:0,1) 5.0\n",
      "\n",
      " Element of array:(at postion:1,1) 30.0\n",
      "\n",
      " Element of array:(at postion:2,2) 69.4\n"
     ]
    }
   ],
   "source": [
    "output = np.linspace(start=[2, 5, 9], stop=[100, 130, 160], num=6)\n",
    "print(output)\n",
    "\n",
    "print(\"\\nShepe of this array:\",output.shape)\n",
    "\n",
    "print(\"\\n Element of array:(at postion:0)\",output[0])\n",
    "print(\"\\n Element of array:(at postion:1)\",output[1])\n",
    "print(\"\\n Element of array:(at postion:2)\",output[2])\n",
    "\n",
    "print(\"\\n Element of array:(at postion:0,1)\",output[0][1])\n",
    "print(\"\\n Element of array:(at postion:1,1)\",output[1][1])\n",
    "print(\"\\n Element of array:(at postion:2,2)\",output[2][2])"
   ]
  },
  {
   "cell_type": "code",
   "execution_count": 35,
   "id": "a14fbdee",
   "metadata": {
    "execution": {
     "iopub.execute_input": "2022-09-17T14:58:17.756403Z",
     "iopub.status.busy": "2022-09-17T14:58:17.755999Z",
     "iopub.status.idle": "2022-09-17T14:58:17.765767Z",
     "shell.execute_reply": "2022-09-17T14:58:17.764409Z"
    },
    "papermill": {
     "duration": 0.039009,
     "end_time": "2022-09-17T14:58:17.768175",
     "exception": false,
     "start_time": "2022-09-17T14:58:17.729166",
     "status": "completed"
    },
    "tags": []
   },
   "outputs": [
    {
     "name": "stdout",
     "output_type": "stream",
     "text": [
      "[[  2.   21.6  41.2  60.8  80.4 100. ]\n",
      " [  5.   30.   55.   80.  105.  130. ]\n",
      " [  9.   39.2  69.4  99.6 129.8 160. ]]\n",
      "\n",
      "Shepe of this array: (3, 6)\n",
      "\n",
      " Element of array:(at postion:0) [  2.   21.6  41.2  60.8  80.4 100. ]\n",
      "\n",
      " Element of array:(at postion:1) [  5.  30.  55.  80. 105. 130.]\n",
      "\n",
      " Element of array:(at postion:2) [  9.   39.2  69.4  99.6 129.8 160. ]\n",
      "\n",
      " Element of array:(at postion:0,1) 21.6\n",
      "\n",
      " Element of array:(at postion:1,1) 30.0\n",
      "\n",
      " Element of array:(at postion:2,2) 69.4\n"
     ]
    }
   ],
   "source": [
    "output = np.linspace(start=[2, 5, 9],stop=[100, 130, 160],num=6,axis=1) #default axis is 0\n",
    "print(output)\n",
    "\n",
    "print(\"\\nShepe of this array:\",output.shape)\n",
    "\n",
    "print(\"\\n Element of array:(at postion:0)\",output[0])\n",
    "print(\"\\n Element of array:(at postion:1)\",output[1])\n",
    "print(\"\\n Element of array:(at postion:2)\",output[2])\n",
    "\n",
    "print(\"\\n Element of array:(at postion:0,1)\",output[0][1])\n",
    "print(\"\\n Element of array:(at postion:1,1)\",output[1][1])\n",
    "print(\"\\n Element of array:(at postion:2,2)\",output[2][2])"
   ]
  },
  {
   "cell_type": "markdown",
   "id": "295407e6",
   "metadata": {
    "papermill": {
     "duration": 0.024789,
     "end_time": "2022-09-17T14:58:17.818151",
     "exception": false,
     "start_time": "2022-09-17T14:58:17.793362",
     "status": "completed"
    },
    "tags": []
   },
   "source": [
    "#### Mathematical Functions With np.linspace()"
   ]
  },
  {
   "cell_type": "code",
   "execution_count": 36,
   "id": "3e16b230",
   "metadata": {
    "execution": {
     "iopub.execute_input": "2022-09-17T14:58:17.872059Z",
     "iopub.status.busy": "2022-09-17T14:58:17.871669Z",
     "iopub.status.idle": "2022-09-17T14:58:17.880559Z",
     "shell.execute_reply": "2022-09-17T14:58:17.879281Z"
    },
    "papermill": {
     "duration": 0.039639,
     "end_time": "2022-09-17T14:58:17.883417",
     "exception": false,
     "start_time": "2022-09-17T14:58:17.843778",
     "status": "completed"
    },
    "tags": []
   },
   "outputs": [
    {
     "name": "stdout",
     "output_type": "stream",
     "text": [
      "X-Value\n",
      "\n",
      " [-100.          -97.97979798  -95.95959596  -93.93939394  -91.91919192\n",
      "  -89.8989899   -87.87878788  -85.85858586  -83.83838384  -81.81818182\n",
      "  -79.7979798   -77.77777778  -75.75757576  -73.73737374  -71.71717172\n",
      "  -69.6969697   -67.67676768  -65.65656566  -63.63636364  -61.61616162\n",
      "  -59.5959596   -57.57575758  -55.55555556  -53.53535354  -51.51515152\n",
      "  -49.49494949  -47.47474747  -45.45454545  -43.43434343  -41.41414141\n",
      "  -39.39393939  -37.37373737  -35.35353535  -33.33333333  -31.31313131\n",
      "  -29.29292929  -27.27272727  -25.25252525  -23.23232323  -21.21212121\n",
      "  -19.19191919  -17.17171717  -15.15151515  -13.13131313  -11.11111111\n",
      "   -9.09090909   -7.07070707   -5.05050505   -3.03030303   -1.01010101\n",
      "    1.01010101    3.03030303    5.05050505    7.07070707    9.09090909\n",
      "   11.11111111   13.13131313   15.15151515   17.17171717   19.19191919\n",
      "   21.21212121   23.23232323   25.25252525   27.27272727   29.29292929\n",
      "   31.31313131   33.33333333   35.35353535   37.37373737   39.39393939\n",
      "   41.41414141   43.43434343   45.45454545   47.47474747   49.49494949\n",
      "   51.51515152   53.53535354   55.55555556   57.57575758   59.5959596\n",
      "   61.61616162   63.63636364   65.65656566   67.67676768   69.6969697\n",
      "   71.71717172   73.73737374   75.75757576   77.77777778   79.7979798\n",
      "   81.81818182   83.83838384   85.85858586   87.87878788   89.8989899\n",
      "   91.91919192   93.93939394   95.95959596   97.97979798  100.        ] \n",
      "\n",
      "\n",
      "Y-Value\n",
      "\n",
      " [-3.98050000e+06 -3.74373005e+06 -3.51654083e+06 -3.29873444e+06\n",
      " -3.09011301e+06 -2.89047867e+06 -2.69963354e+06 -2.51737974e+06\n",
      " -2.34351939e+06 -2.17785462e+06 -2.02018755e+06 -1.87032030e+06\n",
      " -1.72805500e+06 -1.59319376e+06 -1.46553872e+06 -1.34489199e+06\n",
      " -1.23105570e+06 -1.12383197e+06 -1.02302292e+06 -9.28430670e+05\n",
      " -8.39857353e+05 -7.57105087e+05 -6.79975995e+05 -6.08272199e+05\n",
      " -5.41795823e+05 -4.80348990e+05 -4.23733822e+05 -3.71752442e+05\n",
      " -3.24206973e+05 -2.80899538e+05 -2.41632259e+05 -2.06207260e+05\n",
      " -1.74426664e+05 -1.46092593e+05 -1.21007169e+05 -9.89725172e+04\n",
      " -7.97907588e+04 -6.32640171e+04 -4.91944148e+04 -3.73840749e+04\n",
      " -2.76351202e+04 -1.97496736e+04 -1.35298578e+04 -8.77779581e+03\n",
      " -5.29561043e+03 -2.88542449e+03 -1.34936087e+03 -4.89542399e+02\n",
      " -1.08091939e+02 -7.13233756e+00  1.12135538e+01  1.44822884e+02\n",
      "  5.91572804e+02  1.54934046e+03  3.21600301e+03  5.78943759e+03\n",
      "  9.46752135e+03  1.44481315e+04  2.09291450e+04  2.91084393e+04\n",
      "  3.91838913e+04  5.13533782e+04  6.58147772e+04  8.27659654e+04\n",
      "  1.02404820e+05  1.24929218e+05  1.50537037e+05  1.79426154e+05\n",
      "  2.11794445e+05  2.47839789e+05  2.87760062e+05  3.31753142e+05\n",
      "  3.80016905e+05  4.32749228e+05  4.90147990e+05  5.52411067e+05\n",
      "  6.19736335e+05  6.92321674e+05  7.70364958e+05  8.54064066e+05\n",
      "  9.43616875e+05  1.03922126e+06  1.14107510e+06  1.24937628e+06\n",
      "  1.36432266e+06  1.48611213e+06  1.61494257e+06  1.75101184e+06\n",
      "  1.89451783e+06  2.04565842e+06  2.20463148e+06  2.37163489e+06\n",
      "  2.54686653e+06  2.73052426e+06  2.92280599e+06  3.12390956e+06\n",
      "  3.33403288e+06  3.55337380e+06  3.78213022e+06  4.02050000e+06]\n"
     ]
    }
   ],
   "source": [
    "x_ = np.linspace(-100, 100, 100)\n",
    "y_ = 4 * (x_**3) + 2 * (x_**2) + 5 * x_\n",
    "print(\"X-Value\\n\\n\",x_,\"\\n\\n\\nY-Value\\n\\n\",y_)"
   ]
  },
  {
   "cell_type": "code",
   "execution_count": 37,
   "id": "f3cd9a2a",
   "metadata": {
    "execution": {
     "iopub.execute_input": "2022-09-17T14:58:17.937894Z",
     "iopub.status.busy": "2022-09-17T14:58:17.937513Z",
     "iopub.status.idle": "2022-09-17T14:58:18.139380Z",
     "shell.execute_reply": "2022-09-17T14:58:18.138195Z"
    },
    "papermill": {
     "duration": 0.231686,
     "end_time": "2022-09-17T14:58:18.141935",
     "exception": false,
     "start_time": "2022-09-17T14:58:17.910249",
     "status": "completed"
    },
    "tags": []
   },
   "outputs": [
    {
     "data": {
      "image/png": "[encoded data removed]",
      "text/plain": [
       "<Figure size 432x288 with 1 Axes>"
      ]
     },
     "metadata": {
      "needs_background": "light"
     },
     "output_type": "display_data"
    }
   ],
   "source": [
    "import matplotlib.pyplot as plt\n",
    "\n",
    "plt.plot(x_, y_)\n",
    "plt.show()"
   ]
  },
  {
   "cell_type": "markdown",
   "id": "c89c2400",
   "metadata": {
    "papermill": {
     "duration": 0.025561,
     "end_time": "2022-09-17T14:58:18.193057",
     "exception": false,
     "start_time": "2022-09-17T14:58:18.167496",
     "status": "completed"
    },
    "tags": []
   },
   "source": [
    "### Use of np.reshape():\n",
    "- Gives a new shape to an array without changing its data.\n",
    "- **Syntex:** <H3>numpy.reshape(a, newshape, order='C')</H3>\n"
   ]
  },
  {
   "cell_type": "code",
   "execution_count": 38,
   "id": "afcb0ab8",
   "metadata": {
    "execution": {
     "iopub.execute_input": "2022-09-17T14:58:18.248295Z",
     "iopub.status.busy": "2022-09-17T14:58:18.247398Z",
     "iopub.status.idle": "2022-09-17T14:58:18.256629Z",
     "shell.execute_reply": "2022-09-17T14:58:18.254718Z"
    },
    "papermill": {
     "duration": 0.040888,
     "end_time": "2022-09-17T14:58:18.259673",
     "exception": false,
     "start_time": "2022-09-17T14:58:18.218785",
     "status": "completed"
    },
    "tags": []
   },
   "outputs": [
    {
     "name": "stdout",
     "output_type": "stream",
     "text": [
      "Sample array A:\n",
      " [[0 1]\n",
      " [2 3]\n",
      " [4 5]]\n",
      "Reshape Array A:\n",
      " [[0 1 2]\n",
      " [3 4 5]]\n"
     ]
    }
   ],
   "source": [
    "a = np.arange(6).reshape((3, 2))    #CREATING ARRAY OF SHAPE 3,2\n",
    "print(\"Sample array A:\\n\",a)\n",
    "\n",
    "b=np.reshape(a, (2, 3))          #CHANGING SHAPE OF ARRAY FROM 3,2 TO 2,3\n",
    "print(\"Reshape Array A:\\n\",b)"
   ]
  },
  {
   "cell_type": "code",
   "execution_count": 39,
   "id": "6067aacb",
   "metadata": {
    "execution": {
     "iopub.execute_input": "2022-09-17T14:58:18.314224Z",
     "iopub.status.busy": "2022-09-17T14:58:18.313512Z",
     "iopub.status.idle": "2022-09-17T14:58:18.322141Z",
     "shell.execute_reply": "2022-09-17T14:58:18.320315Z"
    },
    "papermill": {
     "duration": 0.039311,
     "end_time": "2022-09-17T14:58:18.325586",
     "exception": false,
     "start_time": "2022-09-17T14:58:18.286275",
     "status": "completed"
    },
    "tags": []
   },
   "outputs": [
    {
     "name": "stdout",
     "output_type": "stream",
     "text": [
      "with change in order:\n",
      " [[0 1]\n",
      " [2 3]\n",
      " [4 5]] False\n",
      "without change in order:\n",
      " [[0 4 3]\n",
      " [2 1 5]] True\n"
     ]
    }
   ],
   "source": [
    "#without changing shape and order np.isfortran is \"False\"\n",
    "b=np.reshape(a, (3,2),order=\"F\")\n",
    "print(\"with change in order:\\n\",b,np.isfortran(b))\n",
    "\n",
    "#with changing shape and order also np.isfortran is \"True\"\n",
    "b=np.reshape(a, (2,3),order=\"F\")\n",
    "print(\"without change in order:\\n\",b,np.isfortran(b))"
   ]
  },
  {
   "cell_type": "code",
   "execution_count": 40,
   "id": "93b13acd",
   "metadata": {
    "execution": {
     "iopub.execute_input": "2022-09-17T14:58:18.378896Z",
     "iopub.status.busy": "2022-09-17T14:58:18.377970Z",
     "iopub.status.idle": "2022-09-17T14:58:18.386212Z",
     "shell.execute_reply": "2022-09-17T14:58:18.384565Z"
    },
    "papermill": {
     "duration": 0.037426,
     "end_time": "2022-09-17T14:58:18.388721",
     "exception": false,
     "start_time": "2022-09-17T14:58:18.351295",
     "status": "completed"
    },
    "tags": []
   },
   "outputs": [
    {
     "name": "stdout",
     "output_type": "stream",
     "text": [
      "Contineous Flatted array: [0 1 2 3 4 5]\n",
      "\n",
      "New shape array b:\n",
      " [[0 1 2]\n",
      " [3 4 5]]\n"
     ]
    }
   ],
   "source": [
    "b=np.ravel(a) #Contineous Flatted array:\n",
    "print(\"Contineous Flatted array:\",b)\n",
    "\n",
    "b=np.reshape(b, (2, 3))\n",
    "print(\"\\nNew shape array b:\\n\",b)"
   ]
  },
  {
   "cell_type": "code",
   "execution_count": 41,
   "id": "ceb0d6ab",
   "metadata": {
    "execution": {
     "iopub.execute_input": "2022-09-17T14:58:18.443400Z",
     "iopub.status.busy": "2022-09-17T14:58:18.442651Z",
     "iopub.status.idle": "2022-09-17T14:58:18.450886Z",
     "shell.execute_reply": "2022-09-17T14:58:18.448818Z"
    },
    "papermill": {
     "duration": 0.038631,
     "end_time": "2022-09-17T14:58:18.453974",
     "exception": false,
     "start_time": "2022-09-17T14:58:18.415343",
     "status": "completed"
    },
    "tags": []
   },
   "outputs": [
    {
     "name": "stdout",
     "output_type": "stream",
     "text": [
      "flatten array with order 'F':\n",
      " [0 2 4 1 3 5]\n",
      "new array:\n",
      " [[0 4 3]\n",
      " [2 1 5]]\n"
     ]
    }
   ],
   "source": [
    "b=np.ravel(a, order='F')\n",
    "print(\"flatten array with order 'F':\\n\",b)\n",
    "b=np.reshape(b, (2, 3), order='F')\n",
    "print(\"new array:\\n\",b)"
   ]
  },
  {
   "cell_type": "code",
   "execution_count": 42,
   "id": "e8cf3ba3",
   "metadata": {
    "execution": {
     "iopub.execute_input": "2022-09-17T14:58:18.508689Z",
     "iopub.status.busy": "2022-09-17T14:58:18.508274Z",
     "iopub.status.idle": "2022-09-17T14:58:18.516237Z",
     "shell.execute_reply": "2022-09-17T14:58:18.514969Z"
    },
    "papermill": {
     "duration": 0.038645,
     "end_time": "2022-09-17T14:58:18.520061",
     "exception": false,
     "start_time": "2022-09-17T14:58:18.481416",
     "status": "completed"
    },
    "tags": []
   },
   "outputs": [
    {
     "name": "stdout",
     "output_type": "stream",
     "text": [
      "[[1 2 3]\n",
      " [4 5 6]]\n",
      "IN 1-D array :  [1 4 2 5 3 6]\n",
      "\n",
      "1-D array: [1 2 3 4 5 6]\n"
     ]
    }
   ],
   "source": [
    "a = np.array([[1,2,3], [4,5,6]])\n",
    "print(a)\n",
    "b=np.reshape(a, 6, order='F')\n",
    "print(\"IN 1-D array : \",b)\n",
    "\n",
    "\n",
    "#WE CAN CREATE FLATTEN LIKE THAT ALSO\n",
    "\n",
    "arr = np.array([[1, 2, 3], [4, 5, 6]])\n",
    "newarr = arr.reshape(-1)\n",
    "print(\"\\n1-D array:\",newarr)"
   ]
  },
  {
   "cell_type": "code",
   "execution_count": 43,
   "id": "72a3f98e",
   "metadata": {
    "execution": {
     "iopub.execute_input": "2022-09-17T14:58:18.576515Z",
     "iopub.status.busy": "2022-09-17T14:58:18.575860Z",
     "iopub.status.idle": "2022-09-17T14:58:18.583665Z",
     "shell.execute_reply": "2022-09-17T14:58:18.582022Z"
    },
    "papermill": {
     "duration": 0.039263,
     "end_time": "2022-09-17T14:58:18.586486",
     "exception": false,
     "start_time": "2022-09-17T14:58:18.547223",
     "status": "completed"
    },
    "tags": []
   },
   "outputs": [
    {
     "name": "stdout",
     "output_type": "stream",
     "text": [
      "[1 2 3 4 5 6 7 8 9]\n"
     ]
    }
   ],
   "source": [
    "arr = np.array([1, 2, 3, 4, 5, 6, 7, 8,9])\n",
    "arr1=arr.reshape(3,3) ###WE CAN USE LIKE THAT ALSO\n",
    "print(arr)"
   ]
  },
  {
   "cell_type": "markdown",
   "id": "df1a275f",
   "metadata": {
    "papermill": {
     "duration": 0.025573,
     "end_time": "2022-09-17T14:58:18.637848",
     "exception": false,
     "start_time": "2022-09-17T14:58:18.612275",
     "status": "completed"
    },
    "tags": []
   },
   "source": [
    "##### numpy.ndarray.base\n",
    "- Base object if memory is from some other object."
   ]
  },
  {
   "cell_type": "code",
   "execution_count": 44,
   "id": "1bd071df",
   "metadata": {
    "execution": {
     "iopub.execute_input": "2022-09-17T14:58:18.693506Z",
     "iopub.status.busy": "2022-09-17T14:58:18.693079Z",
     "iopub.status.idle": "2022-09-17T14:58:18.699355Z",
     "shell.execute_reply": "2022-09-17T14:58:18.698178Z"
    },
    "papermill": {
     "duration": 0.037255,
     "end_time": "2022-09-17T14:58:18.701879",
     "exception": false,
     "start_time": "2022-09-17T14:58:18.664624",
     "status": "completed"
    },
    "tags": []
   },
   "outputs": [
    {
     "name": "stdout",
     "output_type": "stream",
     "text": [
      "None True \n",
      " Give the base of array:base: [1 2 3 4 5 6 7 8 9] False\n"
     ]
    }
   ],
   "source": [
    "print(arr.base,arr.base is None,\"\\n Give the base of array:base:\",arr1.base,arr1.base is None)"
   ]
  },
  {
   "cell_type": "markdown",
   "id": "5b5c8d46",
   "metadata": {
    "papermill": {
     "duration": 0.026192,
     "end_time": "2022-09-17T14:58:18.753891",
     "exception": false,
     "start_time": "2022-09-17T14:58:18.727699",
     "status": "completed"
    },
    "tags": []
   },
   "source": [
    "## Working with numpy.ravel\n",
    "- Return a contiguous flattened array.\n",
    "\n",
    "- A 1-D array, containing the elements of the input, is returned. A copy is made only if needed.\n",
    "\n",
    "- As of NumPy 1.10, the returned array will have the same type as the input array. (for example, a masked array will be returned for a masked array input)\n",
    "- **Syntex:** <H3>numpy.ravel(a, order='C')</H3>\n"
   ]
  },
  {
   "cell_type": "code",
   "execution_count": 45,
   "id": "9965a794",
   "metadata": {
    "execution": {
     "iopub.execute_input": "2022-09-17T14:58:18.807456Z",
     "iopub.status.busy": "2022-09-17T14:58:18.807016Z",
     "iopub.status.idle": "2022-09-17T14:58:18.814613Z",
     "shell.execute_reply": "2022-09-17T14:58:18.813107Z"
    },
    "papermill": {
     "duration": 0.037379,
     "end_time": "2022-09-17T14:58:18.817218",
     "exception": false,
     "start_time": "2022-09-17T14:58:18.779839",
     "status": "completed"
    },
    "tags": []
   },
   "outputs": [
    {
     "name": "stdout",
     "output_type": "stream",
     "text": [
      "Sample 2-D array:\n",
      " [[1 2 3]\n",
      " [4 5 6]]\n",
      "New Flattened array(1-D) [1 2 3 4 5 6] \n",
      "Shape of New array (6,)\n"
     ]
    }
   ],
   "source": [
    "arr_revel= np.array([[1, 2, 3], [4, 5, 6]])\n",
    "print(\"Sample 2-D array:\\n\",arr_revel)\n",
    "newarr=np.ravel(arr_revel)\n",
    "print(\"New Flattened array(1-D)\",newarr,'\\nShape of New array',newarr.shape)\n"
   ]
  },
  {
   "cell_type": "code",
   "execution_count": 46,
   "id": "f8e924f1",
   "metadata": {
    "execution": {
     "iopub.execute_input": "2022-09-17T14:58:18.873603Z",
     "iopub.status.busy": "2022-09-17T14:58:18.873208Z",
     "iopub.status.idle": "2022-09-17T14:58:18.879251Z",
     "shell.execute_reply": "2022-09-17T14:58:18.877850Z"
    },
    "papermill": {
     "duration": 0.038362,
     "end_time": "2022-09-17T14:58:18.882935",
     "exception": false,
     "start_time": "2022-09-17T14:58:18.844573",
     "status": "completed"
    },
    "tags": []
   },
   "outputs": [
    {
     "name": "stdout",
     "output_type": "stream",
     "text": [
      "New flatten array with order: [1 4 2 5 3 6]\n"
     ]
    }
   ],
   "source": [
    "newarr=np.ravel(arr_revel, order='F')\n",
    "print(\"New flatten array with order:\",newarr)"
   ]
  },
  {
   "cell_type": "markdown",
   "id": "dc0c109e",
   "metadata": {
    "papermill": {
     "duration": 0.026229,
     "end_time": "2022-09-17T14:58:18.935389",
     "exception": false,
     "start_time": "2022-09-17T14:58:18.909160",
     "status": "completed"
    },
    "tags": []
   },
   "source": [
    "## Working with numpy.ndarray.flatten\n",
    "- Return a copy of the array collapsed into one dimension.\n",
    "- **Syntex:** <H3>ndarray.flatten(order='C')</H3>\n"
   ]
  },
  {
   "cell_type": "code",
   "execution_count": 47,
   "id": "c8187f37",
   "metadata": {
    "execution": {
     "iopub.execute_input": "2022-09-17T14:58:18.988980Z",
     "iopub.status.busy": "2022-09-17T14:58:18.988582Z",
     "iopub.status.idle": "2022-09-17T14:58:18.995034Z",
     "shell.execute_reply": "2022-09-17T14:58:18.993822Z"
    },
    "papermill": {
     "duration": 0.036494,
     "end_time": "2022-09-17T14:58:18.997918",
     "exception": false,
     "start_time": "2022-09-17T14:58:18.961424",
     "status": "completed"
    },
    "tags": []
   },
   "outputs": [
    {
     "name": "stdout",
     "output_type": "stream",
     "text": [
      "Give a Copy of Array:\n",
      " [[1 2]\n",
      " [3 4]]\n"
     ]
    }
   ],
   "source": [
    "aflate = np.array([[1,2], [3,4]])\n",
    "print(\"Give a Copy of Array:\\n\",aflate)"
   ]
  },
  {
   "cell_type": "markdown",
   "id": "a83abb5c",
   "metadata": {
    "papermill": {
     "duration": 0.025806,
     "end_time": "2022-09-17T14:58:19.050796",
     "exception": false,
     "start_time": "2022-09-17T14:58:19.024990",
     "status": "completed"
    },
    "tags": []
   },
   "source": [
    "\n",
    "<html>\n",
    "    <h2 style=\"text-align:center\"><strong>Differences between Flatten() and Ravel()</strong></h2>\n",
    "<figure class=\"table\"><table><thead><tr><th><p style=\"text-align:center\"><strong>ravel()</strong></p></th><th><p style=\"text-align:center\"><strong>flatten()</strong></p></th></tr></thead><tbody><tr><td>Return only reference/view of the original array</td><td>Return copy of the original array</td></tr><tr><td>If you modify the array you would notice that the value of the original array also changes.</td><td>If you modify any value of this array value of the original array is not affected.</td></tr><tr><td>Ravel is faster than flatten() as it does not occupy any memory.</td><td>Flatten() is comparatively slower than ravel() as it occupies memory.</td></tr><tr><td>Ravel is a library-level function.&nbsp;</td><td>Flatten is a method of an ndarray object. Let us check out the difference in this code.</td></tr></tbody></table></figure>\n",
    "</html>"
   ]
  },
  {
   "cell_type": "markdown",
   "id": "fd4628e8",
   "metadata": {
    "papermill": {
     "duration": 0.027095,
     "end_time": "2022-09-17T14:58:19.103640",
     "exception": false,
     "start_time": "2022-09-17T14:58:19.076545",
     "status": "completed"
    },
    "tags": []
   },
   "source": [
    "### Working with numpy.transpose\n",
    "- Reverse or permute the axes of an array; returns the modified array.(Returns a view of the array with axes transposed.)\n",
    "\n",
    "- For an array a with two axes, transpose(a) gives the matrix transpose.\n",
    "\n",
    "- **Syntex:** <H3>numpy.transpose(a, axes=None)</H3>\n"
   ]
  },
  {
   "cell_type": "code",
   "execution_count": 48,
   "id": "2525ac81",
   "metadata": {
    "execution": {
     "iopub.execute_input": "2022-09-17T14:58:19.158402Z",
     "iopub.status.busy": "2022-09-17T14:58:19.157728Z",
     "iopub.status.idle": "2022-09-17T14:58:19.165801Z",
     "shell.execute_reply": "2022-09-17T14:58:19.164549Z"
    },
    "papermill": {
     "duration": 0.037576,
     "end_time": "2022-09-17T14:58:19.168311",
     "exception": false,
     "start_time": "2022-09-17T14:58:19.130735",
     "status": "completed"
    },
    "tags": []
   },
   "outputs": [
    {
     "name": "stdout",
     "output_type": "stream",
     "text": [
      "Sample array:\n",
      " [[1 2 3]\n",
      " [4 5 6]\n",
      " [7 8 9]]\n",
      "Transpose array:\n",
      " [[1 4 7]\n",
      " [2 5 8]\n",
      " [3 6 9]]\n"
     ]
    }
   ],
   "source": [
    "arr_trans=np.array([[1, 2, 3],\n",
    "                [4, 5, 6],\n",
    "                [7, 8, 9]])\n",
    "print(\"Sample array:\\n\",arr_trans)\n",
    "print(\"Transpose array:\\n\",arr_trans.transpose())\n",
    "                "
   ]
  },
  {
   "cell_type": "code",
   "execution_count": 49,
   "id": "edc3f4a0",
   "metadata": {
    "execution": {
     "iopub.execute_input": "2022-09-17T14:58:19.222335Z",
     "iopub.status.busy": "2022-09-17T14:58:19.221895Z",
     "iopub.status.idle": "2022-09-17T14:58:19.229801Z",
     "shell.execute_reply": "2022-09-17T14:58:19.228145Z"
    },
    "papermill": {
     "duration": 0.037928,
     "end_time": "2022-09-17T14:58:19.232140",
     "exception": false,
     "start_time": "2022-09-17T14:58:19.194212",
     "status": "completed"
    },
    "tags": []
   },
   "outputs": [
    {
     "name": "stdout",
     "output_type": "stream",
     "text": [
      "Sample array:\n",
      " [[1 2 3]\n",
      " [4 5 6]\n",
      " [7 8 9]]\n",
      "Transpose array:\n",
      " [[1 4 7]\n",
      " [2 5 8]\n",
      " [3 6 9]]\n"
     ]
    }
   ],
   "source": [
    "arr_trans=np.array([[1, 2, 3],\n",
    "                [4, 5, 6],\n",
    "                [7, 8, 9]])\n",
    "print(\"Sample array:\\n\",arr_trans)\n",
    "print(\"Transpose array:\\n\",arr_trans.T)"
   ]
  },
  {
   "cell_type": "code",
   "execution_count": 50,
   "id": "ca66ff2a",
   "metadata": {
    "execution": {
     "iopub.execute_input": "2022-09-17T14:58:19.287838Z",
     "iopub.status.busy": "2022-09-17T14:58:19.286941Z",
     "iopub.status.idle": "2022-09-17T14:58:19.294088Z",
     "shell.execute_reply": "2022-09-17T14:58:19.292961Z"
    },
    "papermill": {
     "duration": 0.037533,
     "end_time": "2022-09-17T14:58:19.296420",
     "exception": false,
     "start_time": "2022-09-17T14:58:19.258887",
     "status": "completed"
    },
    "tags": []
   },
   "outputs": [
    {
     "name": "stdout",
     "output_type": "stream",
     "text": [
      "Sample arrary\n",
      " [[1 2]\n",
      " [4 5]\n",
      " [7 8]]\n",
      "Transpose with axis:\n",
      " [[1 4 7]\n",
      " [2 5 8]]\n"
     ]
    }
   ],
   "source": [
    "a= np.array([[1, 2], [4, 5], [7, 8]])  \n",
    "print(\"Sample arrary\\n\",a)\n",
    "b=np.transpose(a, (1,0))  \n",
    "print(\"Transpose with axis:\\n\",b)\n"
   ]
  },
  {
   "cell_type": "code",
   "execution_count": 51,
   "id": "aa6d1efd",
   "metadata": {
    "execution": {
     "iopub.execute_input": "2022-09-17T14:58:19.351643Z",
     "iopub.status.busy": "2022-09-17T14:58:19.350494Z",
     "iopub.status.idle": "2022-09-17T14:58:19.360955Z",
     "shell.execute_reply": "2022-09-17T14:58:19.359163Z"
    },
    "papermill": {
     "duration": 0.040661,
     "end_time": "2022-09-17T14:58:19.363351",
     "exception": false,
     "start_time": "2022-09-17T14:58:19.322690",
     "status": "completed"
    },
    "tags": []
   },
   "outputs": [
    {
     "name": "stdout",
     "output_type": "stream",
     "text": [
      "Shape of sample array:\n",
      " [[[1. 1. 1. 1.]\n",
      "  [1. 1. 1. 1.]\n",
      "  [1. 1. 1. 1.]]\n",
      "\n",
      " [[1. 1. 1. 1.]\n",
      "  [1. 1. 1. 1.]\n",
      "  [1. 1. 1. 1.]]] \n",
      "Shape of Sample array (2, 3, 4) \n",
      "Dimention of Sample array: 3\n",
      "\n",
      "Transpose array b:\n",
      " [[[1. 1. 1. 1.]\n",
      "  [1. 1. 1. 1.]]\n",
      "\n",
      " [[1. 1. 1. 1.]\n",
      "  [1. 1. 1. 1.]]\n",
      "\n",
      " [[1. 1. 1. 1.]\n",
      "  [1. 1. 1. 1.]]] \n",
      "Shape of Transpose array (3, 2, 4) \n",
      "Dimention of Transpose array: 3\n",
      "\n",
      "Transpose array c:\n",
      " [[[1. 1.]\n",
      "  [1. 1.]\n",
      "  [1. 1.]]\n",
      "\n",
      " [[1. 1.]\n",
      "  [1. 1.]\n",
      "  [1. 1.]]\n",
      "\n",
      " [[1. 1.]\n",
      "  [1. 1.]\n",
      "  [1. 1.]]\n",
      "\n",
      " [[1. 1.]\n",
      "  [1. 1.]\n",
      "  [1. 1.]]] \n",
      "Shape of Transpose array (4, 3, 2) \n",
      "Dimention of Transpose array: 3\n"
     ]
    }
   ],
   "source": [
    "a = np.ones((2,3,4))\n",
    "print(\"Shape of sample array:\\n\",a,\"\\nShape of Sample array\",a.shape,\"\\nDimention of Sample array:\",a.ndim)\n",
    "\n",
    "\n",
    "b=np.transpose(a,(1,0,2))   #0, 1 ,2 the axis refer 2,3,4 in a\n",
    "print(\"\\nTranspose array b:\\n\",b,\"\\nShape of Transpose array\",b.shape,\"\\nDimention of Transpose array:\",b.ndim)\n",
    "\n",
    "\n",
    "c=np.transpose(a,(2,1,0))   #0, 1 ,2 the axis refer 2,3,4 in a\n",
    "print(\"\\nTranspose array c:\\n\",c,\"\\nShape of Transpose array\",c.shape,\"\\nDimention of Transpose array:\",c.ndim)\n"
   ]
  },
  {
   "cell_type": "markdown",
   "id": "ee9becc9",
   "metadata": {
    "papermill": {
     "duration": 0.027234,
     "end_time": "2022-09-17T14:58:19.417762",
     "exception": false,
     "start_time": "2022-09-17T14:58:19.390528",
     "status": "completed"
    },
    "tags": []
   },
   "source": [
    "# Mathematical Operation Using NumPy:\n",
    "\n",
    "### Working with Addition:\n",
    "- We use add() to add.\n",
    "- Or we can use '+' operator.\n",
    "- **Syntex:** <H3>np.add()</H3>"
   ]
  },
  {
   "cell_type": "code",
   "execution_count": 52,
   "id": "bcb81e6d",
   "metadata": {
    "execution": {
     "iopub.execute_input": "2022-09-17T14:58:19.473406Z",
     "iopub.status.busy": "2022-09-17T14:58:19.472986Z",
     "iopub.status.idle": "2022-09-17T14:58:19.480445Z",
     "shell.execute_reply": "2022-09-17T14:58:19.479155Z"
    },
    "papermill": {
     "duration": 0.037488,
     "end_time": "2022-09-17T14:58:19.482990",
     "exception": false,
     "start_time": "2022-09-17T14:58:19.445502",
     "status": "completed"
    },
    "tags": []
   },
   "outputs": [
    {
     "name": "stdout",
     "output_type": "stream",
     "text": [
      "Sample Array1:\n",
      " [[0 1 2]\n",
      " [3 4 5]\n",
      " [6 7 8]]\n",
      "\n",
      "Sample Array2:\n",
      " [[9 8 7]\n",
      " [6 5 4]\n",
      " [3 2 1]]\n"
     ]
    }
   ],
   "source": [
    "array1=np.arange(0,9).reshape(3,3)\n",
    "array2=np.arange(9,0,-1).reshape(3,3)\n",
    "print(\"Sample Array1:\\n\",array1)\n",
    "print(\"\\nSample Array2:\\n\",array2)"
   ]
  },
  {
   "cell_type": "code",
   "execution_count": 53,
   "id": "8644b9bf",
   "metadata": {
    "execution": {
     "iopub.execute_input": "2022-09-17T14:58:19.538455Z",
     "iopub.status.busy": "2022-09-17T14:58:19.537710Z",
     "iopub.status.idle": "2022-09-17T14:58:19.544567Z",
     "shell.execute_reply": "2022-09-17T14:58:19.543345Z"
    },
    "papermill": {
     "duration": 0.037675,
     "end_time": "2022-09-17T14:58:19.547313",
     "exception": false,
     "start_time": "2022-09-17T14:58:19.509638",
     "status": "completed"
    },
    "tags": []
   },
   "outputs": [
    {
     "name": "stdout",
     "output_type": "stream",
     "text": [
      "Addition of array is:\n",
      " [[9 9 9]\n",
      " [9 9 9]\n",
      " [9 9 9]]\n",
      "\n",
      "Addition of array is:\n",
      " [[9 9 9]\n",
      " [9 9 9]\n",
      " [9 9 9]]\n"
     ]
    }
   ],
   "source": [
    "#use of '+' Operator\n",
    "\n",
    "print(\"Addition of array is:\\n\",array1+array2) \n",
    "\n",
    "#use of add()\n",
    "\n",
    "print(\"\\nAddition of array is:\\n\",np.add(array1,array2)) "
   ]
  },
  {
   "cell_type": "markdown",
   "id": "fc8619f6",
   "metadata": {
    "papermill": {
     "duration": 0.026279,
     "end_time": "2022-09-17T14:58:19.601367",
     "exception": false,
     "start_time": "2022-09-17T14:58:19.575088",
     "status": "completed"
    },
    "tags": []
   },
   "source": [
    "### Working with Subtraction:\n",
    "- We use subtract() to subtract.\n",
    "- Or we can use '-' operator.\n",
    "- **Syntex:** <H3>np.subtract()</H3>"
   ]
  },
  {
   "cell_type": "code",
   "execution_count": 54,
   "id": "6ff08a34",
   "metadata": {
    "execution": {
     "iopub.execute_input": "2022-09-17T14:58:19.655791Z",
     "iopub.status.busy": "2022-09-17T14:58:19.655416Z",
     "iopub.status.idle": "2022-09-17T14:58:19.662470Z",
     "shell.execute_reply": "2022-09-17T14:58:19.661069Z"
    },
    "papermill": {
     "duration": 0.037003,
     "end_time": "2022-09-17T14:58:19.664777",
     "exception": false,
     "start_time": "2022-09-17T14:58:19.627774",
     "status": "completed"
    },
    "tags": []
   },
   "outputs": [
    {
     "name": "stdout",
     "output_type": "stream",
     "text": [
      "Subtraction of array is:\n",
      " [[-9 -7 -5]\n",
      " [-3 -1  1]\n",
      " [ 3  5  7]] \n",
      "\n",
      "Type of +: <class 'numpy.ndarray'>\n",
      "\n",
      "Subtraction of array is:\n",
      " [[-9 -7 -5]\n",
      " [-3 -1  1]\n",
      " [ 3  5  7]]\n"
     ]
    }
   ],
   "source": [
    "#use of '-' Operator\n",
    "\n",
    "print(\"Subtraction of array is:\\n\",array1-array2,\"\\n\\nType of +:\",type(array1*array2) )\n",
    "\n",
    "#use of subtract()\n",
    "\n",
    "print(\"\\nSubtraction of array is:\\n\",np.subtract(array1,array2)) "
   ]
  },
  {
   "cell_type": "markdown",
   "id": "3f928630",
   "metadata": {
    "papermill": {
     "duration": 0.0262,
     "end_time": "2022-09-17T14:58:19.717183",
     "exception": false,
     "start_time": "2022-09-17T14:58:19.690983",
     "status": "completed"
    },
    "tags": []
   },
   "source": [
    "### Working with Divition:\n",
    "- We use divide() to divide.\n",
    "- Or we can use '/' operator.\n",
    "- **Syntex:** <H3>np.divide()</H3>"
   ]
  },
  {
   "cell_type": "code",
   "execution_count": 55,
   "id": "1bd92545",
   "metadata": {
    "execution": {
     "iopub.execute_input": "2022-09-17T14:58:19.771744Z",
     "iopub.status.busy": "2022-09-17T14:58:19.771338Z",
     "iopub.status.idle": "2022-09-17T14:58:19.778423Z",
     "shell.execute_reply": "2022-09-17T14:58:19.777163Z"
    },
    "papermill": {
     "duration": 0.038238,
     "end_time": "2022-09-17T14:58:19.782002",
     "exception": false,
     "start_time": "2022-09-17T14:58:19.743764",
     "status": "completed"
    },
    "tags": []
   },
   "outputs": [
    {
     "name": "stdout",
     "output_type": "stream",
     "text": [
      "Divition of array is:\n",
      " [[0.         0.125      0.28571429]\n",
      " [0.5        0.8        1.25      ]\n",
      " [2.         3.5        8.        ]]\n",
      "\n",
      "Divition of array is:\n",
      " [[0.         0.125      0.28571429]\n",
      " [0.5        0.8        1.25      ]\n",
      " [2.         3.5        8.        ]]\n"
     ]
    }
   ],
   "source": [
    "#use of '/' Operator\n",
    "\n",
    "print(\"Divition of array is:\\n\",array1/array2) \n",
    "\n",
    "#use of divide()\n",
    "\n",
    "print(\"\\nDivition of array is:\\n\",np.divide(array1,array2)) "
   ]
  },
  {
   "cell_type": "markdown",
   "id": "3f5641de",
   "metadata": {
    "papermill": {
     "duration": 0.026041,
     "end_time": "2022-09-17T14:58:19.835742",
     "exception": false,
     "start_time": "2022-09-17T14:58:19.809701",
     "status": "completed"
    },
    "tags": []
   },
   "source": [
    "### Working with Multiply:\n",
    "- We use multiply() to multiply.\n",
    "- Or we can use '*' operator.\n",
    "- **Syntex:** <H3>np.multiply()</H3>"
   ]
  },
  {
   "cell_type": "code",
   "execution_count": 56,
   "id": "3fbbd89f",
   "metadata": {
    "execution": {
     "iopub.execute_input": "2022-09-17T14:58:19.891131Z",
     "iopub.status.busy": "2022-09-17T14:58:19.890724Z",
     "iopub.status.idle": "2022-09-17T14:58:19.897488Z",
     "shell.execute_reply": "2022-09-17T14:58:19.896168Z"
    },
    "papermill": {
     "duration": 0.039061,
     "end_time": "2022-09-17T14:58:19.900991",
     "exception": false,
     "start_time": "2022-09-17T14:58:19.861930",
     "status": "completed"
    },
    "tags": []
   },
   "outputs": [
    {
     "name": "stdout",
     "output_type": "stream",
     "text": [
      "Multiply of array is:\n",
      " [[ 0  8 14]\n",
      " [18 20 20]\n",
      " [18 14  8]]\n",
      "\n",
      "Multiply of array is:\n",
      " [[ 0  8 14]\n",
      " [18 20 20]\n",
      " [18 14  8]]\n"
     ]
    }
   ],
   "source": [
    "#use of '*' Operator\n",
    "print(\"Multiply of array is:\\n\",array1*array2) \n",
    "\n",
    "#use of multiply()\n",
    "\n",
    "print(\"\\nMultiply of array is:\\n\",np.multiply(array1,array2)) "
   ]
  },
  {
   "cell_type": "markdown",
   "id": "45b10fb3",
   "metadata": {
    "papermill": {
     "duration": 0.025807,
     "end_time": "2022-09-17T14:58:19.953869",
     "exception": false,
     "start_time": "2022-09-17T14:58:19.928062",
     "status": "completed"
    },
    "tags": []
   },
   "source": [
    "### <span style=\"color: red\"> Note: This is elementry multiply for matrix multiplication we use '@' or numpy.dot\n",
    " </span>"
   ]
  },
  {
   "cell_type": "code",
   "execution_count": 57,
   "id": "92a72682",
   "metadata": {
    "execution": {
     "iopub.execute_input": "2022-09-17T14:58:20.008787Z",
     "iopub.status.busy": "2022-09-17T14:58:20.008387Z",
     "iopub.status.idle": "2022-09-17T14:58:20.014526Z",
     "shell.execute_reply": "2022-09-17T14:58:20.013357Z"
    },
    "papermill": {
     "duration": 0.036698,
     "end_time": "2022-09-17T14:58:20.016895",
     "exception": false,
     "start_time": "2022-09-17T14:58:19.980197",
     "status": "completed"
    },
    "tags": []
   },
   "outputs": [
    {
     "name": "stdout",
     "output_type": "stream",
     "text": [
      "Matrix Multiply of array is:\n",
      " [[ 12   9   6]\n",
      " [ 66  54  42]\n",
      " [120  99  78]]\n",
      "\n",
      "Matrix Multiply of array is:\n",
      " [[ 12   9   6]\n",
      " [ 66  54  42]\n",
      " [120  99  78]]\n"
     ]
    }
   ],
   "source": [
    "#use of '@' Operator\n",
    "\n",
    "print(\"Matrix Multiply of array is:\\n\",array1@array2) \n",
    "\n",
    "#use of .dot()\n",
    "\n",
    "print(\"\\nMatrix Multiply of array is:\\n\",array1.dot(array2)) "
   ]
  },
  {
   "cell_type": "markdown",
   "id": "f584f288",
   "metadata": {
    "papermill": {
     "duration": 0.026108,
     "end_time": "2022-09-17T14:58:20.069515",
     "exception": false,
     "start_time": "2022-09-17T14:58:20.043407",
     "status": "completed"
    },
    "tags": []
   },
   "source": [
    "### Working with Power:\n",
    "- The **power()** function rises the values from the first array to the power of the values of the second array, and return the results in a new array."
   ]
  },
  {
   "cell_type": "code",
   "execution_count": 58,
   "id": "ef46a769",
   "metadata": {
    "execution": {
     "iopub.execute_input": "2022-09-17T14:58:20.124954Z",
     "iopub.status.busy": "2022-09-17T14:58:20.124554Z",
     "iopub.status.idle": "2022-09-17T14:58:20.130527Z",
     "shell.execute_reply": "2022-09-17T14:58:20.129481Z"
    },
    "papermill": {
     "duration": 0.037025,
     "end_time": "2022-09-17T14:58:20.133223",
     "exception": false,
     "start_time": "2022-09-17T14:58:20.096198",
     "status": "completed"
    },
    "tags": []
   },
   "outputs": [
    {
     "name": "stdout",
     "output_type": "stream",
     "text": [
      "Power() use:\n",
      " [[   0    1  128]\n",
      " [ 729 1024  625]\n",
      " [ 216   49    8]]\n",
      "Power() use:\n",
      " [[   1    8   49]\n",
      " [ 216  625 1024]\n",
      " [ 729  128    1]]\n"
     ]
    }
   ],
   "source": [
    "print(\"Power() use:\\n\",np.power(array1,array2)) \n",
    "print(\"Power() use:\\n\",np.power(array2,array1)) "
   ]
  },
  {
   "cell_type": "code",
   "execution_count": 59,
   "id": "c74770ca",
   "metadata": {
    "execution": {
     "iopub.execute_input": "2022-09-17T14:58:20.188767Z",
     "iopub.status.busy": "2022-09-17T14:58:20.188388Z",
     "iopub.status.idle": "2022-09-17T14:58:20.194989Z",
     "shell.execute_reply": "2022-09-17T14:58:20.194066Z"
    },
    "papermill": {
     "duration": 0.037171,
     "end_time": "2022-09-17T14:58:20.197307",
     "exception": false,
     "start_time": "2022-09-17T14:58:20.160136",
     "status": "completed"
    },
    "tags": []
   },
   "outputs": [
    {
     "name": "stdout",
     "output_type": "stream",
     "text": [
      "[[108 109 113]\n",
      " [112  98 107]\n",
      " [109 118  99]\n",
      " [100 111 109]\n",
      " [102 101 116]\n",
      " [ 96  96 115]\n",
      " [ 91 112  96]\n",
      " [114 109  92]] \n",
      "\n",
      "Power of 2 on test array:\n",
      " [[11664 11881 12769]\n",
      " [12544  9604 11449]\n",
      " [11881 13924  9801]\n",
      " [10000 12321 11881]\n",
      " [10404 10201 13456]\n",
      " [ 9216  9216 13225]\n",
      " [ 8281 12544  9216]\n",
      " [12996 11881  8464]] <class 'numpy.ndarray'>\n"
     ]
    }
   ],
   "source": [
    "test = np.random.randint(90,120,(8,3))\n",
    "test1=test**2\n",
    "print(test,\"\\n\\nPower of 2 on test array:\\n\",test1,type(test1))"
   ]
  },
  {
   "cell_type": "markdown",
   "id": "77b8cc35",
   "metadata": {
    "papermill": {
     "duration": 0.026129,
     "end_time": "2022-09-17T14:58:20.250564",
     "exception": false,
     "start_time": "2022-09-17T14:58:20.224435",
     "status": "completed"
    },
    "tags": []
   },
   "source": [
    "### Working with Remainder:\n",
    "- Both the **mod()** and the **remainder()** functions return the remainder of the values in the first array corresponding to the values in the second array, and return the results in a new array."
   ]
  },
  {
   "cell_type": "code",
   "execution_count": 60,
   "id": "a99a0fd9",
   "metadata": {
    "execution": {
     "iopub.execute_input": "2022-09-17T14:58:20.306066Z",
     "iopub.status.busy": "2022-09-17T14:58:20.305683Z",
     "iopub.status.idle": "2022-09-17T14:58:20.311845Z",
     "shell.execute_reply": "2022-09-17T14:58:20.310529Z"
    },
    "papermill": {
     "duration": 0.036518,
     "end_time": "2022-09-17T14:58:20.314356",
     "exception": false,
     "start_time": "2022-09-17T14:58:20.277838",
     "status": "completed"
    },
    "tags": []
   },
   "outputs": [
    {
     "name": "stdout",
     "output_type": "stream",
     "text": [
      "Working with mod():\n",
      " [[0 1 2]\n",
      " [3 4 1]\n",
      " [0 1 0]]\n",
      "Working with remainder():\n",
      " [[0 1 2]\n",
      " [3 4 1]\n",
      " [0 1 0]]\n"
     ]
    }
   ],
   "source": [
    "print(\"Working with mod():\\n\",np.mod(array1,array2))\n",
    "print(\"Working with remainder():\\n\",np.remainder(array1,array2))"
   ]
  },
  {
   "cell_type": "markdown",
   "id": "d09c0a49",
   "metadata": {
    "papermill": {
     "duration": 0.026271,
     "end_time": "2022-09-17T14:58:20.369561",
     "exception": false,
     "start_time": "2022-09-17T14:58:20.343290",
     "status": "completed"
    },
    "tags": []
   },
   "source": [
    "### Working with Quotient and Mod:\n",
    "- The **divmod()** function return both the quotient and the the mod. The return value is two arrays, the first array contains the quotient and second array contains the mod."
   ]
  },
  {
   "cell_type": "code",
   "execution_count": 61,
   "id": "673add1e",
   "metadata": {
    "execution": {
     "iopub.execute_input": "2022-09-17T14:58:20.425080Z",
     "iopub.status.busy": "2022-09-17T14:58:20.424681Z",
     "iopub.status.idle": "2022-09-17T14:58:20.431015Z",
     "shell.execute_reply": "2022-09-17T14:58:20.429841Z"
    },
    "papermill": {
     "duration": 0.037916,
     "end_time": "2022-09-17T14:58:20.433956",
     "exception": false,
     "start_time": "2022-09-17T14:58:20.396040",
     "status": "completed"
    },
    "tags": []
   },
   "outputs": [
    {
     "name": "stdout",
     "output_type": "stream",
     "text": [
      "(array([[0, 0, 0],\n",
      "       [0, 0, 1],\n",
      "       [2, 3, 8]]), array([[0, 1, 2],\n",
      "       [3, 4, 1],\n",
      "       [0, 1, 0]]))\n"
     ]
    }
   ],
   "source": [
    "newarr=np.divmod(array1,array2)\n",
    "print(newarr)"
   ]
  },
  {
   "cell_type": "code",
   "execution_count": 62,
   "id": "e72bd04f",
   "metadata": {
    "execution": {
     "iopub.execute_input": "2022-09-17T14:58:20.492981Z",
     "iopub.status.busy": "2022-09-17T14:58:20.492212Z",
     "iopub.status.idle": "2022-09-17T14:58:20.499249Z",
     "shell.execute_reply": "2022-09-17T14:58:20.497908Z"
    },
    "papermill": {
     "duration": 0.039394,
     "end_time": "2022-09-17T14:58:20.502624",
     "exception": false,
     "start_time": "2022-09-17T14:58:20.463230",
     "status": "completed"
    },
    "tags": []
   },
   "outputs": [
    {
     "name": "stdout",
     "output_type": "stream",
     "text": [
      "[[0 0 0]\n",
      " [0 0 1]\n",
      " [2 3 8]] <class 'numpy.ndarray'>\n"
     ]
    }
   ],
   "source": [
    "newarr=array1//array2  #Quotient of both array\n",
    "print(newarr,type(newarr))"
   ]
  },
  {
   "cell_type": "markdown",
   "id": "d63d751f",
   "metadata": {
    "papermill": {
     "duration": 0.026594,
     "end_time": "2022-09-17T14:58:20.556386",
     "exception": false,
     "start_time": "2022-09-17T14:58:20.529792",
     "status": "completed"
    },
    "tags": []
   },
   "source": [
    "### working with absolute():\n",
    "- Both the **absolute()** and the **abs()** functions do the same absolute operation element-wise but we should use **absolute()** to avoid confusion with python's inbuilt **math.abs()**\n",
    "\n"
   ]
  },
  {
   "cell_type": "code",
   "execution_count": 63,
   "id": "456f58ed",
   "metadata": {
    "execution": {
     "iopub.execute_input": "2022-09-17T14:58:20.613301Z",
     "iopub.status.busy": "2022-09-17T14:58:20.612431Z",
     "iopub.status.idle": "2022-09-17T14:58:20.619464Z",
     "shell.execute_reply": "2022-09-17T14:58:20.618236Z"
    },
    "papermill": {
     "duration": 0.038868,
     "end_time": "2022-09-17T14:58:20.622302",
     "exception": false,
     "start_time": "2022-09-17T14:58:20.583434",
     "status": "completed"
    },
    "tags": []
   },
   "outputs": [
    {
     "name": "stdout",
     "output_type": "stream",
     "text": [
      "[1.  2.  1.5 2.  3.  4. ]\n"
     ]
    }
   ],
   "source": [
    "arr = np.array([-1, -2, 1.5, 2, 3, -4])\n",
    "newarr = np.absolute(arr)\n",
    "print(newarr)"
   ]
  },
  {
   "cell_type": "markdown",
   "id": "d8c80f20",
   "metadata": {
    "papermill": {
     "duration": 0.027604,
     "end_time": "2022-09-17T14:58:20.678755",
     "exception": false,
     "start_time": "2022-09-17T14:58:20.651151",
     "status": "completed"
    },
    "tags": []
   },
   "source": [
    "### Working with Reciprocal Fun<sup>n</sup>\n",
    "- This Function returns the reciprocal of all the array elements."
   ]
  },
  {
   "cell_type": "code",
   "execution_count": 64,
   "id": "67931d75",
   "metadata": {
    "execution": {
     "iopub.execute_input": "2022-09-17T14:58:20.734917Z",
     "iopub.status.busy": "2022-09-17T14:58:20.734535Z",
     "iopub.status.idle": "2022-09-17T14:58:20.742208Z",
     "shell.execute_reply": "2022-09-17T14:58:20.741192Z"
    },
    "papermill": {
     "duration": 0.038261,
     "end_time": "2022-09-17T14:58:20.744411",
     "exception": false,
     "start_time": "2022-09-17T14:58:20.706150",
     "status": "completed"
    },
    "tags": []
   },
   "outputs": [
    {
     "data": {
      "text/plain": [
       "array([0, 0, 0, 0, 1])"
      ]
     },
     "execution_count": 64,
     "metadata": {},
     "output_type": "execute_result"
    }
   ],
   "source": [
    "a = np.array([7,3,4,5,1])\n",
    "np.reciprocal(a)"
   ]
  },
  {
   "cell_type": "markdown",
   "id": "19783e15",
   "metadata": {
    "papermill": {
     "duration": 0.026722,
     "end_time": "2022-09-17T14:58:20.798521",
     "exception": false,
     "start_time": "2022-09-17T14:58:20.771799",
     "status": "completed"
    },
    "tags": []
   },
   "source": [
    "#### Here dividation with '0' happen\n",
    "\n",
    "``` python\n",
    "np.reciprocal(array1)\n",
    "\n",
    "/opt/conda/lib/python3.7/site-packages/ipykernel_launcher.py:1: RuntimeWarning: divide by zero encountered in reciprocal\n",
    "  \"\"\"Entry point for launching an IPython kernel.\n",
    "/opt/conda/lib/python3.7/site-packages/ipykernel_launcher.py:1: RuntimeWarning: invalid value encountered in reciprocal\n",
    "  \"\"\"Entry point for launching an IPython kernel.\n",
    "\n",
    "Out[1]:\n",
    "array([[-9223372036854775808,                    1,                    0],\n",
    "       [                   0,                    0,                    0],\n",
    "       [                   0,                    0,                    0]])\n",
    "```"
   ]
  },
  {
   "cell_type": "code",
   "execution_count": 65,
   "id": "e13a18e4",
   "metadata": {
    "execution": {
     "iopub.execute_input": "2022-09-17T14:58:20.855189Z",
     "iopub.status.busy": "2022-09-17T14:58:20.854755Z",
     "iopub.status.idle": "2022-09-17T14:58:20.862351Z",
     "shell.execute_reply": "2022-09-17T14:58:20.861165Z"
    },
    "papermill": {
     "duration": 0.0393,
     "end_time": "2022-09-17T14:58:20.864856",
     "exception": false,
     "start_time": "2022-09-17T14:58:20.825556",
     "status": "completed"
    },
    "tags": []
   },
   "outputs": [
    {
     "data": {
      "text/plain": [
       "array([[0, 0, 0],\n",
       "       [0, 0, 0],\n",
       "       [0, 0, 1]])"
      ]
     },
     "execution_count": 65,
     "metadata": {},
     "output_type": "execute_result"
    }
   ],
   "source": [
    "np.reciprocal(array2)"
   ]
  },
  {
   "cell_type": "markdown",
   "id": "d377254a",
   "metadata": {
    "papermill": {
     "duration": 0.026861,
     "end_time": "2022-09-17T14:58:20.919564",
     "exception": false,
     "start_time": "2022-09-17T14:58:20.892703",
     "status": "completed"
    },
    "tags": []
   },
   "source": [
    "## Working with other function:"
   ]
  },
  {
   "cell_type": "code",
   "execution_count": 66,
   "id": "9c875733",
   "metadata": {
    "execution": {
     "iopub.execute_input": "2022-09-17T14:58:20.977199Z",
     "iopub.status.busy": "2022-09-17T14:58:20.976743Z",
     "iopub.status.idle": "2022-09-17T14:58:20.982927Z",
     "shell.execute_reply": "2022-09-17T14:58:20.981492Z"
    },
    "papermill": {
     "duration": 0.039222,
     "end_time": "2022-09-17T14:58:20.986419",
     "exception": false,
     "start_time": "2022-09-17T14:58:20.947197",
     "status": "completed"
    },
    "tags": []
   },
   "outputs": [
    {
     "name": "stdout",
     "output_type": "stream",
     "text": [
      "\n"
     ]
    }
   ],
   "source": [
    "print()"
   ]
  },
  {
   "cell_type": "code",
   "execution_count": null,
   "id": "c5097280",
   "metadata": {
    "papermill": {
     "duration": 0.02664,
     "end_time": "2022-09-17T14:58:21.039999",
     "exception": false,
     "start_time": "2022-09-17T14:58:21.013359",
     "status": "completed"
    },
    "tags": []
   },
   "outputs": [],
   "source": []
  }
 ],
 "metadata": {
  "kernelspec": {
   "display_name": "Python 3",
   "language": "python",
   "name": "python3"
  },
  "language_info": {
   "codemirror_mode": {
    "name": "ipython",
    "version": 3
   },
   "file_extension": ".py",
   "mimetype": "text/x-python",
   "name": "python",
   "nbconvert_exporter": "python",
   "pygments_lexer": "ipython3",
   "version": "3.7.12"
  },
  "papermill": {
   "default_parameters": {},
   "duration": 17.066838,
   "end_time": "2022-09-17T14:58:21.689758",
   "environment_variables": {},
   "exception": null,
   "input_path": "__notebook__.ipynb",
   "output_path": "__notebook__.ipynb",
   "parameters": {},
   "start_time": "2022-09-17T14:58:04.622920",
   "version": "2.3.4"
  }
 },
 "nbformat": 4,
 "nbformat_minor": 5
}
