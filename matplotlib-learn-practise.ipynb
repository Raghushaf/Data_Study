{
 "cells": [
  {
   "cell_type": "code",
   "execution_count": 1,
   "id": "2e0f4e65",
   "metadata": {
    "_cell_guid": "b1076dfc-b9ad-4769-8c92-a6c4dae69d19",
    "_uuid": "8f2839f25d086af736a60e9eeb907d3b93b6e0e5",
    "execution": {
     "iopub.execute_input": "2022-09-28T06:41:21.011858Z",
     "iopub.status.busy": "2022-09-28T06:41:21.011332Z",
     "iopub.status.idle": "2022-09-28T06:41:21.024516Z",
     "shell.execute_reply": "2022-09-28T06:41:21.023459Z"
    },
    "papermill": {
     "duration": 0.021432,
     "end_time": "2022-09-28T06:41:21.027343",
     "exception": false,
     "start_time": "2022-09-28T06:41:21.005911",
     "status": "completed"
    },
    "tags": []
   },
   "outputs": [],
   "source": [
    "# This Python 3 environment comes with many helpful analytics libraries installed\n",
    "# It is defined by the kaggle/python Docker image: https://github.com/kaggle/docker-python\n",
    "# For example, here's several helpful packages to load\n",
    "\n",
    "import numpy as np # linear algebra\n",
    "import pandas as pd # data processing, CSV file I/O (e.g. pd.read_csv)\n",
    "\n",
    "# Input data files are available in the read-only \"../input/\" directory\n",
    "# For example, running this (by clicking run or pressing Shift+Enter) will list all files under the input directory\n",
    "\n",
    "import os\n",
    "for dirname, _, filenames in os.walk('/kaggle/input'):\n",
    "    for filename in filenames:\n",
    "        print(os.path.join(dirname, filename))\n",
    "\n",
    "# You can write up to 20GB to the current directory (/kaggle/working/) that gets preserved as output when you create a version using \"Save & Run All\" \n",
    "# You can also write temporary files to /kaggle/temp/, but they won't be saved outside of the current session"
   ]
  },
  {
   "cell_type": "markdown",
   "id": "68291ac2",
   "metadata": {
    "papermill": {
     "duration": 0.002139,
     "end_time": "2022-09-28T06:41:21.032269",
     "exception": false,
     "start_time": "2022-09-28T06:41:21.030130",
     "status": "completed"
    },
    "tags": []
   },
   "source": [
    "# Working with MatplotLib Library:\n",
    "- Matplotlib is a plotting library for the Python programming language and its numerical mathematics extension NumPy. It provides an object-oriented API for embedding plots into applications using general-purpose GUI toolkits like Tkinter, wxPython, Qt, or GTK. \n",
    "- There is also a procedural \"pylab\" interface based on a state machine (like OpenGL), designed to closely resemble that of MATLAB, though its use is discouraged.[3] SciPy makes use of Matplotlib."
   ]
  },
  {
   "cell_type": "markdown",
   "id": "3f393ac1",
   "metadata": {
    "papermill": {
     "duration": 0.002102,
     "end_time": "2022-09-28T06:41:21.036656",
     "exception": false,
     "start_time": "2022-09-28T06:41:21.034554",
     "status": "completed"
    },
    "tags": []
   },
   "source": [
    "### MatplotLib Graph:\n",
    "- Line Plot\n",
    "- Bar Charts \n",
    "- Scatterplots\n",
    "- Area Plot\n",
    "- Pie Chart\n",
    "- Error Chart\n",
    "- Power Chart\n",
    "\n",
    "& Many More Like 3d plot \n",
    "\n",
    "\n",
    "\n",
    "- The charts are grouped based on the 7 different purposes of your visualization objective. For example, if you want to picturize the relationship between 2 variables, check out the plots under the ‘Correlation’ section. Or if you want to show how a value changed over time, look under the ‘Change’ section and so on.   \n",
    "    1. #### Correlation\n",
    "        - Scatter plot\n",
    "        - Bubble plot with Encircling\n",
    "        - Scatter plot with line of best fit\n",
    "        - Jittering with stripplot\n",
    "        - Counts Plot\n",
    "        - Marginal Histogram\n",
    "        - Marginal Boxplot\n",
    "        - Correlogram\n",
    "        - Pairwise Plot\n",
    "\n",
    "    2. #### Deviation\n",
    "\n",
    "        - Diverging Bars\n",
    "        - Diverging Texts\n",
    "        - Diverging Dot Plot\n",
    "        - Diverging Lollipop Chart with Markers\n",
    "        - Area Chart\n",
    "\n",
    "    3. #### Ranking\n",
    "\n",
    "        - Ordered Bar Chart\n",
    "        - Lollipop Chart\n",
    "        - Dot Plot\n",
    "        - Slope Chart\n",
    "        - Dumbbell Plot\n",
    "\n",
    "    4. #### Distribution\n",
    "\n",
    "        - Histogram for Continuous Variable\n",
    "        - Histogram for Categorical Variable\n",
    "        - Density Plot\n",
    "        - Density Curves with Histogram\n",
    "        - Joy Plot\n",
    "        - Distributed Dot Plot\n",
    "        - Box Plot\n",
    "        - Dot + Box Plot\n",
    "        - Violin Plot\n",
    "        - Population Pyramid\n",
    "        - Categorical Plots\n",
    "\n",
    "    5. #### Composition\n",
    "\n",
    "        - Waffle Chart\n",
    "        - Pie Chart\n",
    "        - Treemap\n",
    "        - Bar Chart\n",
    "\n",
    "    6. #### Change\n",
    "\n",
    "        - Time Series Plot\n",
    "        - Time Series with Peaks and Troughs Annotated\n",
    "        - Autocorrelation Plot\n",
    "        - Cross Correlation Plot\n",
    "        - Time Series Decomposition Plot\n",
    "        - Multiple Time Series\n",
    "        - Plotting with different scales using secondary Y axis\n",
    "        - Time Series with Error Bands\n",
    "        - Stacked Area Chart\n",
    "        - Area Chart Unstacked\n",
    "        - Calendar Heat Map\n",
    "        - Seasonal Plot\n",
    "\n",
    "    7. #### Groups\n",
    "\n",
    "        - Dendrogram\n",
    "        - Cluster Plot\n",
    "        - Andrews Curve\n",
    "        - Parallel Coordinates\n",
    "\n",
    "\n",
    "\n",
    "- Referance for this 7 catogories:\n",
    "https://www.machinelearningplus.com/plots/top-50-matplotlib-visualizations-the-master-plots-python/"
   ]
  },
  {
   "cell_type": "markdown",
   "id": "3d5a7ca3",
   "metadata": {
    "papermill": {
     "duration": 0.001976,
     "end_time": "2022-09-28T06:41:21.040869",
     "exception": false,
     "start_time": "2022-09-28T06:41:21.038893",
     "status": "completed"
    },
    "tags": []
   },
   "source": [
    "#### Python PyLab Module\n",
    "\n",
    "While performing some tasks, we have to use graphs like line charts, bar graphs, etc., for many reasons like to make the task more interactive, to pass the information in a very interesting way, graphs are easy and self-explanatory, etc. That's why plotting a graph or chart is a very important and integrated part of many functions. Graphs and charts play a very important role in the field of programming, and developers are always recommended for using graphs in their programs. Therefore, it becomes very important that we should be aware of how we can plot graphs from a program. MATLAB is considered the best to plot graphs and charts, but it is not possible for everyone to use MATLAB for plotting graphs & charts. We have many interactive modules present in Python that allow us to plot graphs and charts in the output, but here we will talk about the module, which provides us a MATLAB-like namespace by importing functions. We will talk about the PyLab Module of Python in this tutorial, and we will learn how we can plot graphs and chart in the output using functions of this module in a program.\n",
    "#### PyLab Module: Introduction\n",
    "\n",
    "PyLab Module is an associated module with the Matplotlib Module of Python, and it gets installed alongside when we are installing Matplotlib Module in our system. We can also say that PyLab is a procedural interface of the Matplotlib Module, an object-oriented plotting library of Python. PyLab in itself is a convincing module for us because its bulky import the NumPy Module's functions and matplotlib.pyplot package in a single namespace to provide us a MATLAB-like namespace.\n",
    "\n"
   ]
  },
  {
   "cell_type": "markdown",
   "id": "ec9577a0",
   "metadata": {
    "papermill": {
     "duration": 0.001979,
     "end_time": "2022-09-28T06:41:21.045098",
     "exception": false,
     "start_time": "2022-09-28T06:41:21.043119",
     "status": "completed"
    },
    "tags": []
   },
   "source": [
    "### Matplotlib Architecture:\n",
    "- Matplotlib architecture is composed of 3 main layers:-\n",
    "1. The Back — End Layer:- made up of the FigureCanvas, Renderer, Event.\n",
    "2. The Artist Layer:- This is where much of the heavy lifting happens. Such as for writing a program or UI application to be shared with other developers\n",
    "3. The Scripting Layer:- Made up of pyplot, as well as the layer for everyday purposes. This layer is considered a lighter scripting interface to simplify common tasks and for a quick and easy generation of graphics and plots.\n",
    "\n",
    "#### **The Back — End Layer:**\n",
    "- As its name implies, the Back-End layer is the default layer that supports the other layers. It has 3 built-in abstract interface classes:-\n",
    "    1. **FigureCanvas:** This is the matplotlib.backend_bases.FigureCanvas object: It encompasses the area on which the figure or image is drawn.\n",
    "    2. **Renderer:** This is the matplotlib.backend_bases.Renderer object: It knows how to draw on the figure canvas.\n",
    "    3. **Event:** matplotlib.backend_bases.Event: This handles user inputs such as keyboard strokes and mouse clicks\n",
    "\n",
    "#### **The Artist Layer:**\n",
    "- Comprised of One Main Object — FigureArtist:- The Artist knows how to use the renderer to draw and put ink on the FigureCanvas. Everything we see in a Matplotlib figure is an Artist instance. Titles, lines, tick labels and images all correspond to individual Artist instances.\n",
    "    \n",
    "    Types of Artist Objects:\n",
    "    - Primitive: Such as Lines, Rectangles, Circles and Texts.\n",
    "    - Composite: Such as Axis, Ticks, Axes, and Figure.\n",
    "\n",
    "**NOTE:**\n",
    "1. The Top Level matplotlib object that contains and manages all of the elements in a given graphic is The FigureArtist.\n",
    "2. The most important composite artist is the Axes because it is where most of the matplotlib API plotting methods are defined. Including methods to create or manipulate the ticks, the axis lines, the grid or the plot background.\n",
    "2. It’s important to note that each composite artist may contain other composite artists as well as primitive artists. So a Figure artist, for example, may contain an axis artist as well as a rectangle or text artist\n",
    "\n",
    "#### **The Scripting Layer:**\n",
    "- The previous Artist layer is quite heavy on syntax and clearly for professional developers. Therefore the Scripting layer was developed for scientists who are not professional programmers. Clearly a lot of people prefer the Scripting Layer to the more syntax-heavy Artist layer, for quick analysis of some data.\n",
    "\n",
    "- Matplotlib Scripting Layer is essentially the all popular matplotlib.pyplot interface, which automates the process of defining a FigureCanvas, and defining a FigureArtist Instance and connecting them."
   ]
  },
  {
   "cell_type": "code",
   "execution_count": null,
   "id": "e163a7f7",
   "metadata": {
    "papermill": {
     "duration": 0.001975,
     "end_time": "2022-09-28T06:41:21.049336",
     "exception": false,
     "start_time": "2022-09-28T06:41:21.047361",
     "status": "completed"
    },
    "tags": []
   },
   "outputs": [],
   "source": []
  }
 ],
 "metadata": {
  "kernelspec": {
   "display_name": "Python 3",
   "language": "python",
   "name": "python3"
  },
  "language_info": {
   "codemirror_mode": {
    "name": "ipython",
    "version": 3
   },
   "file_extension": ".py",
   "mimetype": "text/x-python",
   "name": "python",
   "nbconvert_exporter": "python",
   "pygments_lexer": "ipython3",
   "version": "3.7.12"
  },
  "papermill": {
   "default_parameters": {},
   "duration": 11.923796,
   "end_time": "2022-09-28T06:41:21.775338",
   "environment_variables": {},
   "exception": null,
   "input_path": "__notebook__.ipynb",
   "output_path": "__notebook__.ipynb",
   "parameters": {},
   "start_time": "2022-09-28T06:41:09.851542",
   "version": "2.3.4"
  }
 },
 "nbformat": 4,
 "nbformat_minor": 5
}
